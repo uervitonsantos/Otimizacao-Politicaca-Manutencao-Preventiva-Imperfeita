{
  "nbformat": 4,
  "nbformat_minor": 0,
  "metadata": {
    "colab": {
      "provenance": [],
      "mount_file_id": "1RdFgP-oDl5GfiBXVSjm47plKw1zogDMB",
      "authorship_tag": "ABX9TyNQcYDnn/WJZLKxuDlLfKyG",
      "include_colab_link": true
    },
    "kernelspec": {
      "name": "python3",
      "display_name": "Python 3"
    },
    "language_info": {
      "name": "python"
    }
  },
  "cells": [
    {
      "cell_type": "markdown",
      "metadata": {
        "id": "view-in-github",
        "colab_type": "text"
      },
      "source": [
        "<a href=\"https://colab.research.google.com/github/uervitonsantos/Otimizacao-Politicaca-Manutencao-Preventiva-Imperfeita/blob/main/Algoritmo_PSO_para_otimiza%C3%A7%C3%A3o_de_custo_de_manuten%C3%A7%C3%A3o_preventiva_v9.ipynb\" target=\"_parent\"><img src=\"https://colab.research.google.com/assets/colab-badge.svg\" alt=\"Open In Colab\"/></a>"
      ]
    },
    {
      "cell_type": "markdown",
      "source": [
        "Dataset de dados de confiabilidade: https://drive.google.com/drive/folders/1b7jqK1A2XI1oZ4YhDXw_4xdnSTbfuBVK?usp=sharing"
      ],
      "metadata": {
        "id": "wZi0pIL-Ch37"
      }
    },
    {
      "cell_type": "code",
      "execution_count": 211,
      "metadata": {
        "id": "VM8_ebpiVP0V"
      },
      "outputs": [],
      "source": [
        "%%capture\n",
        "pip install pyswarms"
      ]
    },
    {
      "cell_type": "code",
      "source": [
        "import numpy as np\n",
        "import pandas as pd\n",
        "import math\n",
        "import csv\n",
        "import matplotlib.pyplot as plt\n",
        "import time\n",
        "from pyswarms.single.global_best import GlobalBestPSO\n",
        "import pyswarms as ps\n",
        "from pyswarms.utils.search import RandomSearch\n",
        "from pyswarms.utils.functions import single_obj as fx\n",
        "from pyswarms.utils.plotters import (plot_cost_history, plot_contour, plot_surface)\n",
        "import plotly.graph_objects as go\n",
        "from pyswarms.utils.plotters.formatters import Designer\n",
        "from pyswarms.utils.plotters.formatters import Mesher\n",
        "from mpl_toolkits.mplot3d import Axes3D"
      ],
      "metadata": {
        "id": "2sVG0WwfVrUs"
      },
      "execution_count": 212,
      "outputs": []
    },
    {
      "cell_type": "code",
      "source": [
        "MAX_VALUE_CUSTO = 10000\n",
        "fator_melhoria = 'expo'\n",
        "DIAS_OBSERVADOS = 600"
      ],
      "metadata": {
        "id": "FeZKvg25Vtwz"
      },
      "execution_count": 213,
      "outputs": []
    },
    {
      "cell_type": "code",
      "source": [
        "# Custos MC e MP\n",
        "CMC = 4000\n",
        "CMP = 2000"
      ],
      "metadata": {
        "id": "JFnJpCJGVx7P"
      },
      "execution_count": 214,
      "outputs": []
    },
    {
      "cell_type": "code",
      "source": [
        "class IntensidadeFalha:\n",
        "    # Este método vai inicializar cada objeto criado a partir desta classe\n",
        "    # O nome deste método é \"inicio\"\n",
        "    # (self) é uma referência a cada atributo de um objeto criado a partir desta classe\n",
        "    # Os atributos de cada objeto criados a partir desta classe.\n",
        "    # O self indica que estes são atributos dos objetos\n",
        "    def __init__(self):\n",
        "        self.fator = None\n",
        "        self.lamb = None\n",
        "        self.beta = None\n",
        "        self.theta = None\n",
        "        self.sz = None\n",
        "        self.T = None\n",
        "        self.u = None\n",
        "\n",
        "    def inicio(self, T, fator, solucao):\n",
        "        self.fator = fator\n",
        "        self.lamb = solucao[0]\n",
        "        self.beta = solucao[1]\n",
        "        self.theta = solucao[2]\n",
        "        self.sz = int(T[-1])\n",
        "        self.T = T\n",
        "\n",
        "    def create(self):\n",
        "        self.u = []\n",
        "        # Reducao de Idade com fator de melhoria linear\n",
        "        for i, tc in enumerate(self.T[1:], start=1):\n",
        "            for tt in range(int(self.T[i-1]), int(tc)+1):\n",
        "                b = tt - self.fator[0][i-1] * self.T[i-1]\n",
        "                self.u.append((1 / (self.lamb ** self.beta)) * self.beta * b ** (self.beta - 1))\n",
        "\n",
        "                if tt == tc:\n",
        "                    self.u.append(float('nan'))\n",
        "            break\n",
        "    # plota e salva a figura da função de intensidade de falha\n",
        "    def plotar(self):\n",
        "        fig = plt.figure(figsize=(20, 5))\n",
        "        plt.plot(self.u)\n",
        "\n",
        "        for xc in self.T:\n",
        "            plt.axvline(x=xc, color='r', linestyle='--')\n",
        "\n",
        "        plt.xlabel(\"Tempo (dias)\")\n",
        "        plt.ylabel(\"Função intensidade de falha\")\n",
        "        plt.xlim(0)\n",
        "        plt.grid(True)\n",
        "        plt.show()"
      ],
      "metadata": {
        "id": "QhF2qTuDV2P1"
      },
      "execution_count": 215,
      "outputs": []
    },
    {
      "cell_type": "code",
      "source": [
        "# Define a função de melhoria constante\n",
        "def const(ck, m, s, theta):\n",
        "    fator = [[theta] * ck] * m\n",
        "    return fator"
      ],
      "metadata": {
        "id": "mMRO_z3_V4a3"
      },
      "execution_count": 216,
      "outputs": []
    },
    {
      "cell_type": "code",
      "source": [
        "# Define a função de melhoria linear\n",
        "def linear(ck, m, s, theta):\n",
        "    fator = []\n",
        "    for k in range(0, m, 1):\n",
        "        linha = [0]\n",
        "        for j in range(0, ck, 1):\n",
        "            linha.append(s[k][j] * theta)\n",
        "        fator.append(linha)\n",
        "    return fator"
      ],
      "metadata": {
        "id": "S_fCxa7GV65n"
      },
      "execution_count": 217,
      "outputs": []
    },
    {
      "cell_type": "code",
      "source": [
        "# Define a função de melhoria exponencial\n",
        "def expo(ck, m, s, theta):\n",
        "    fator = []\n",
        "    for k in range(0, m):\n",
        "        linha = []\n",
        "        # Verifique se o índice k é válido\n",
        "        if k >= len(s):\n",
        "            break\n",
        "        for j in range(0, ck):\n",
        "            # Verifique se o índice j é válido\n",
        "            if j >= len(s[k]):\n",
        "                break\n",
        "            linha.append(1.0 - math.exp(-s[k][j] * theta))\n",
        "        fator.append(linha)\n",
        "\n",
        "    return fator"
      ],
      "metadata": {
        "id": "NV3lIXl9V9FL"
      },
      "execution_count": 218,
      "outputs": []
    },
    {
      "cell_type": "code",
      "source": [
        "# Define a função de melhoria potência\n",
        "def pot(ck, m, s, theta):\n",
        "    fator = []\n",
        "    for k in range(0, m, 1):\n",
        "        linha = []\n",
        "        for j in range(0, ck, 1):\n",
        "            linha.append(s[k][j] ** theta)\n",
        "        fator.append(linha)\n",
        "    return fator"
      ],
      "metadata": {
        "id": "ikxXlzxKV-0K"
      },
      "execution_count": 219,
      "outputs": []
    },
    {
      "cell_type": "code",
      "source": [
        "# Define a função de melhoria para manutenção perfeita\n",
        "def mpp(ck, m, s, theta):\n",
        "    fator = []\n",
        "    for k in range(0, m, 1):\n",
        "        linha = []\n",
        "        for j in range(0, ck, 1):\n",
        "            linha.append(1)\n",
        "        fator.append(linha)\n",
        "    return fator"
      ],
      "metadata": {
        "id": "xcHr8tSFWAus"
      },
      "execution_count": 220,
      "outputs": []
    },
    {
      "cell_type": "code",
      "source": [
        "# Executa a função de melhoria com base no parâmetro fornecido\n",
        "def execute_function(fator_melhoria, ck, m, s, theta):\n",
        "    return {\n",
        "        'const': lambda: const(ck, m, s, theta),\n",
        "        'linear': lambda: linear(ck, m, s, theta),\n",
        "        'expo': lambda: expo(ck, m, s, theta),\n",
        "        'pot': lambda: pot(ck, m, s, theta),\n",
        "        'mpp': lambda: mpp(ck, m, s, theta),\n",
        "    }[fator_melhoria]()"
      ],
      "metadata": {
        "id": "R5KeFcseWDH6"
      },
      "execution_count": 221,
      "outputs": []
    },
    {
      "cell_type": "code",
      "source": [
        "# Função custo de manutenção baseada em severidade\n",
        "def custo_mp(s, CMP):\n",
        "    dist = {0.25: 2000, 0.5: 4000, 0.75: 12000, 1.0: 20000}\n",
        "    if not isinstance(s, list):\n",
        "        s = [s]  # Transforma s em uma lista com um único elemento\n",
        "    cmp_f = np.sum([CMP if si < 0.25 or si > 1.0 else np.interp(si, [0.25, 0.5, 0.75, 1.0], [2000, 4000, 12000, 20000]) for si in s])\n",
        "    return cmp_f"
      ],
      "metadata": {
        "id": "B8BkTWrmWGWO"
      },
      "execution_count": 222,
      "outputs": []
    },
    {
      "cell_type": "code",
      "source": [
        "# Defina o dicionário de tipos de dados\n",
        "dtypes = {\n",
        "    't': int,\n",
        "    'k': int,\n",
        "    'c': int,\n",
        "}\n",
        "\n",
        "# Leitura dos dados de tempo de falha para 4 cenarios de exemplo\n",
        "# df = pd.read_csv('/content/drive/MyDrive/Colab Notebooks/DateSet/Cenarios/cenario01.csv', sep=\";\")\n",
        "# df = pd.read_csv('/content/drive/MyDrive/Colab Notebooks/DateSet/Cenarios/cenario02.csv', sep=\";\")\n",
        "# df = pd.read_csv('/content/drive/MyDrive/Colab Notebooks/DateSet/Cenarios/cenario03.csv', sep=\";\")\n",
        "df = pd.read_csv('/content/drive/MyDrive/Colab Notebooks/DateSet/Cenarios/cenario04.csv', sep=\";\")\n",
        "\n",
        "# Remova as linhas com valores ausentes\n",
        "df = df.fillna(0)\n",
        "\n",
        "# Converta as colunas para os tipos de dados desejados\n",
        "df = df.astype(dtypes)\n",
        "\n",
        "df.head()"
      ],
      "metadata": {
        "colab": {
          "base_uri": "https://localhost:8080/",
          "height": 206
        },
        "id": "IDcyZ_pHWIW8",
        "outputId": "ff3ef0ed-38fc-4d8c-f7e3-cb9d06239a2b"
      },
      "execution_count": 223,
      "outputs": [
        {
          "output_type": "execute_result",
          "data": {
            "text/plain": [
              "      t  k   c  n    s    T\n",
              "0  1033  1   6  0  1.0  182\n",
              "1  1309  1   7  0  1.0  366\n",
              "2  1778  1   7  0  1.0  547\n",
              "3  2342  1  10  0  1.0  731\n",
              "4  3254  1  14  0  1.0  912"
            ],
            "text/html": [
              "\n",
              "  <div id=\"df-e7c56571-8aca-4589-ae8f-c9d06c6be1c9\" class=\"colab-df-container\">\n",
              "    <div>\n",
              "<style scoped>\n",
              "    .dataframe tbody tr th:only-of-type {\n",
              "        vertical-align: middle;\n",
              "    }\n",
              "\n",
              "    .dataframe tbody tr th {\n",
              "        vertical-align: top;\n",
              "    }\n",
              "\n",
              "    .dataframe thead th {\n",
              "        text-align: right;\n",
              "    }\n",
              "</style>\n",
              "<table border=\"1\" class=\"dataframe\">\n",
              "  <thead>\n",
              "    <tr style=\"text-align: right;\">\n",
              "      <th></th>\n",
              "      <th>t</th>\n",
              "      <th>k</th>\n",
              "      <th>c</th>\n",
              "      <th>n</th>\n",
              "      <th>s</th>\n",
              "      <th>T</th>\n",
              "    </tr>\n",
              "  </thead>\n",
              "  <tbody>\n",
              "    <tr>\n",
              "      <th>0</th>\n",
              "      <td>1033</td>\n",
              "      <td>1</td>\n",
              "      <td>6</td>\n",
              "      <td>0</td>\n",
              "      <td>1.0</td>\n",
              "      <td>182</td>\n",
              "    </tr>\n",
              "    <tr>\n",
              "      <th>1</th>\n",
              "      <td>1309</td>\n",
              "      <td>1</td>\n",
              "      <td>7</td>\n",
              "      <td>0</td>\n",
              "      <td>1.0</td>\n",
              "      <td>366</td>\n",
              "    </tr>\n",
              "    <tr>\n",
              "      <th>2</th>\n",
              "      <td>1778</td>\n",
              "      <td>1</td>\n",
              "      <td>7</td>\n",
              "      <td>0</td>\n",
              "      <td>1.0</td>\n",
              "      <td>547</td>\n",
              "    </tr>\n",
              "    <tr>\n",
              "      <th>3</th>\n",
              "      <td>2342</td>\n",
              "      <td>1</td>\n",
              "      <td>10</td>\n",
              "      <td>0</td>\n",
              "      <td>1.0</td>\n",
              "      <td>731</td>\n",
              "    </tr>\n",
              "    <tr>\n",
              "      <th>4</th>\n",
              "      <td>3254</td>\n",
              "      <td>1</td>\n",
              "      <td>14</td>\n",
              "      <td>0</td>\n",
              "      <td>1.0</td>\n",
              "      <td>912</td>\n",
              "    </tr>\n",
              "  </tbody>\n",
              "</table>\n",
              "</div>\n",
              "    <div class=\"colab-df-buttons\">\n",
              "\n",
              "  <div class=\"colab-df-container\">\n",
              "    <button class=\"colab-df-convert\" onclick=\"convertToInteractive('df-e7c56571-8aca-4589-ae8f-c9d06c6be1c9')\"\n",
              "            title=\"Convert this dataframe to an interactive table.\"\n",
              "            style=\"display:none;\">\n",
              "\n",
              "  <svg xmlns=\"http://www.w3.org/2000/svg\" height=\"24px\" viewBox=\"0 -960 960 960\">\n",
              "    <path d=\"M120-120v-720h720v720H120Zm60-500h600v-160H180v160Zm220 220h160v-160H400v160Zm0 220h160v-160H400v160ZM180-400h160v-160H180v160Zm440 0h160v-160H620v160ZM180-180h160v-160H180v160Zm440 0h160v-160H620v160Z\"/>\n",
              "  </svg>\n",
              "    </button>\n",
              "\n",
              "  <style>\n",
              "    .colab-df-container {\n",
              "      display:flex;\n",
              "      gap: 12px;\n",
              "    }\n",
              "\n",
              "    .colab-df-convert {\n",
              "      background-color: #E8F0FE;\n",
              "      border: none;\n",
              "      border-radius: 50%;\n",
              "      cursor: pointer;\n",
              "      display: none;\n",
              "      fill: #1967D2;\n",
              "      height: 32px;\n",
              "      padding: 0 0 0 0;\n",
              "      width: 32px;\n",
              "    }\n",
              "\n",
              "    .colab-df-convert:hover {\n",
              "      background-color: #E2EBFA;\n",
              "      box-shadow: 0px 1px 2px rgba(60, 64, 67, 0.3), 0px 1px 3px 1px rgba(60, 64, 67, 0.15);\n",
              "      fill: #174EA6;\n",
              "    }\n",
              "\n",
              "    .colab-df-buttons div {\n",
              "      margin-bottom: 4px;\n",
              "    }\n",
              "\n",
              "    [theme=dark] .colab-df-convert {\n",
              "      background-color: #3B4455;\n",
              "      fill: #D2E3FC;\n",
              "    }\n",
              "\n",
              "    [theme=dark] .colab-df-convert:hover {\n",
              "      background-color: #434B5C;\n",
              "      box-shadow: 0px 1px 3px 1px rgba(0, 0, 0, 0.15);\n",
              "      filter: drop-shadow(0px 1px 2px rgba(0, 0, 0, 0.3));\n",
              "      fill: #FFFFFF;\n",
              "    }\n",
              "  </style>\n",
              "\n",
              "    <script>\n",
              "      const buttonEl =\n",
              "        document.querySelector('#df-e7c56571-8aca-4589-ae8f-c9d06c6be1c9 button.colab-df-convert');\n",
              "      buttonEl.style.display =\n",
              "        google.colab.kernel.accessAllowed ? 'block' : 'none';\n",
              "\n",
              "      async function convertToInteractive(key) {\n",
              "        const element = document.querySelector('#df-e7c56571-8aca-4589-ae8f-c9d06c6be1c9');\n",
              "        const dataTable =\n",
              "          await google.colab.kernel.invokeFunction('convertToInteractive',\n",
              "                                                    [key], {});\n",
              "        if (!dataTable) return;\n",
              "\n",
              "        const docLinkHtml = 'Like what you see? Visit the ' +\n",
              "          '<a target=\"_blank\" href=https://colab.research.google.com/notebooks/data_table.ipynb>data table notebook</a>'\n",
              "          + ' to learn more about interactive tables.';\n",
              "        element.innerHTML = '';\n",
              "        dataTable['output_type'] = 'display_data';\n",
              "        await google.colab.output.renderOutput(dataTable, element);\n",
              "        const docLink = document.createElement('div');\n",
              "        docLink.innerHTML = docLinkHtml;\n",
              "        element.appendChild(docLink);\n",
              "      }\n",
              "    </script>\n",
              "  </div>\n",
              "\n",
              "\n",
              "<div id=\"df-128220ca-1d61-45d8-9f67-d28a1401d34c\">\n",
              "  <button class=\"colab-df-quickchart\" onclick=\"quickchart('df-128220ca-1d61-45d8-9f67-d28a1401d34c')\"\n",
              "            title=\"Suggest charts.\"\n",
              "            style=\"display:none;\">\n",
              "\n",
              "<svg xmlns=\"http://www.w3.org/2000/svg\" height=\"24px\"viewBox=\"0 0 24 24\"\n",
              "     width=\"24px\">\n",
              "    <g>\n",
              "        <path d=\"M19 3H5c-1.1 0-2 .9-2 2v14c0 1.1.9 2 2 2h14c1.1 0 2-.9 2-2V5c0-1.1-.9-2-2-2zM9 17H7v-7h2v7zm4 0h-2V7h2v10zm4 0h-2v-4h2v4z\"/>\n",
              "    </g>\n",
              "</svg>\n",
              "  </button>\n",
              "\n",
              "<style>\n",
              "  .colab-df-quickchart {\n",
              "      --bg-color: #E8F0FE;\n",
              "      --fill-color: #1967D2;\n",
              "      --hover-bg-color: #E2EBFA;\n",
              "      --hover-fill-color: #174EA6;\n",
              "      --disabled-fill-color: #AAA;\n",
              "      --disabled-bg-color: #DDD;\n",
              "  }\n",
              "\n",
              "  [theme=dark] .colab-df-quickchart {\n",
              "      --bg-color: #3B4455;\n",
              "      --fill-color: #D2E3FC;\n",
              "      --hover-bg-color: #434B5C;\n",
              "      --hover-fill-color: #FFFFFF;\n",
              "      --disabled-bg-color: #3B4455;\n",
              "      --disabled-fill-color: #666;\n",
              "  }\n",
              "\n",
              "  .colab-df-quickchart {\n",
              "    background-color: var(--bg-color);\n",
              "    border: none;\n",
              "    border-radius: 50%;\n",
              "    cursor: pointer;\n",
              "    display: none;\n",
              "    fill: var(--fill-color);\n",
              "    height: 32px;\n",
              "    padding: 0;\n",
              "    width: 32px;\n",
              "  }\n",
              "\n",
              "  .colab-df-quickchart:hover {\n",
              "    background-color: var(--hover-bg-color);\n",
              "    box-shadow: 0 1px 2px rgba(60, 64, 67, 0.3), 0 1px 3px 1px rgba(60, 64, 67, 0.15);\n",
              "    fill: var(--button-hover-fill-color);\n",
              "  }\n",
              "\n",
              "  .colab-df-quickchart-complete:disabled,\n",
              "  .colab-df-quickchart-complete:disabled:hover {\n",
              "    background-color: var(--disabled-bg-color);\n",
              "    fill: var(--disabled-fill-color);\n",
              "    box-shadow: none;\n",
              "  }\n",
              "\n",
              "  .colab-df-spinner {\n",
              "    border: 2px solid var(--fill-color);\n",
              "    border-color: transparent;\n",
              "    border-bottom-color: var(--fill-color);\n",
              "    animation:\n",
              "      spin 1s steps(1) infinite;\n",
              "  }\n",
              "\n",
              "  @keyframes spin {\n",
              "    0% {\n",
              "      border-color: transparent;\n",
              "      border-bottom-color: var(--fill-color);\n",
              "      border-left-color: var(--fill-color);\n",
              "    }\n",
              "    20% {\n",
              "      border-color: transparent;\n",
              "      border-left-color: var(--fill-color);\n",
              "      border-top-color: var(--fill-color);\n",
              "    }\n",
              "    30% {\n",
              "      border-color: transparent;\n",
              "      border-left-color: var(--fill-color);\n",
              "      border-top-color: var(--fill-color);\n",
              "      border-right-color: var(--fill-color);\n",
              "    }\n",
              "    40% {\n",
              "      border-color: transparent;\n",
              "      border-right-color: var(--fill-color);\n",
              "      border-top-color: var(--fill-color);\n",
              "    }\n",
              "    60% {\n",
              "      border-color: transparent;\n",
              "      border-right-color: var(--fill-color);\n",
              "    }\n",
              "    80% {\n",
              "      border-color: transparent;\n",
              "      border-right-color: var(--fill-color);\n",
              "      border-bottom-color: var(--fill-color);\n",
              "    }\n",
              "    90% {\n",
              "      border-color: transparent;\n",
              "      border-bottom-color: var(--fill-color);\n",
              "    }\n",
              "  }\n",
              "</style>\n",
              "\n",
              "  <script>\n",
              "    async function quickchart(key) {\n",
              "      const quickchartButtonEl =\n",
              "        document.querySelector('#' + key + ' button');\n",
              "      quickchartButtonEl.disabled = true;  // To prevent multiple clicks.\n",
              "      quickchartButtonEl.classList.add('colab-df-spinner');\n",
              "      try {\n",
              "        const charts = await google.colab.kernel.invokeFunction(\n",
              "            'suggestCharts', [key], {});\n",
              "      } catch (error) {\n",
              "        console.error('Error during call to suggestCharts:', error);\n",
              "      }\n",
              "      quickchartButtonEl.classList.remove('colab-df-spinner');\n",
              "      quickchartButtonEl.classList.add('colab-df-quickchart-complete');\n",
              "    }\n",
              "    (() => {\n",
              "      let quickchartButtonEl =\n",
              "        document.querySelector('#df-128220ca-1d61-45d8-9f67-d28a1401d34c button');\n",
              "      quickchartButtonEl.style.display =\n",
              "        google.colab.kernel.accessAllowed ? 'block' : 'none';\n",
              "    })();\n",
              "  </script>\n",
              "</div>\n",
              "    </div>\n",
              "  </div>\n"
            ]
          },
          "metadata": {},
          "execution_count": 223
        }
      ]
    },
    {
      "cell_type": "code",
      "source": [
        "# Cria as variaveis\n",
        "# tempos de falhas\n",
        "t = df['t']\n",
        "# indice do sistema\n",
        "k = df['k']\n",
        "m = k.drop_duplicates().shape[0]\n",
        "# Numero de ciclos de manutenção\n",
        "ck = df['c'].max()\n",
        "# Numero de falhas e severidade das manutenções preventivas em cada sistema\n",
        "n = []\n",
        "s = []\n",
        "for k in range(m):\n",
        "    n.append(list(df['n'][k * ck:(k + 1) * ck]))\n",
        "    s.append(list(df['s'][k * ck:(k + 1) * ck]))\n",
        "\n",
        "# Tempos das MP\n",
        "T = list(df['T'][:m])\n",
        "\n",
        "# Criação de variáveis para os parâmetros\n",
        "lamb = 5\n",
        "theta = 2\n",
        "\n",
        "# Cria alguns cenários de teste\n",
        "beta = 5\n",
        "\n",
        "solucao = [lamb, beta, theta]\n",
        "\n",
        "# Cria a instância da classe IntensidadeFalha\n",
        "intensidadeFalha = IntensidadeFalha()\n",
        "\n",
        "# Inicializa a instância com os valores necessários\n",
        "falha = intensidadeFalha.inicio(T, execute_function(fator_melhoria, ck, m, s, theta), solucao)\n",
        "\n",
        "# Cria os dados da intensidade de falha\n",
        "intensidadeFalha.create()\n",
        "\n",
        "# Plota o gráfico da intensidade de falha\n",
        "intensidadeFalha.plotar()\n",
        "\n",
        "fator = execute_function(fator_melhoria, ck, m, s, theta)\n",
        "print('Fator ajuste: ', fator[0])\n",
        "\n",
        "last_value_fator_ajuste = fator[0][-1]\n",
        "\n",
        "time_duration = 1\n",
        "time.sleep(time_duration)"
      ],
      "metadata": {
        "id": "grvISRd2_HkE",
        "outputId": "1be70d36-8bb5-4cb7-f659-d3e462bb517c",
        "colab": {
          "base_uri": "https://localhost:8080/",
          "height": 431
        }
      },
      "execution_count": 224,
      "outputs": [
        {
          "output_type": "display_data",
          "data": {
            "text/plain": [
              "<Figure size 2000x500 with 1 Axes>"
            ],
            "image/png": "[encoded data removed]"
          },
          "metadata": {}
        },
        {
          "output_type": "stream",
          "name": "stdout",
          "text": [
            "Fator ajuste:  [0.8646647167633873, 0.8646647167633873, 0.8646647167633873, 0.8646647167633873, 0.8646647167633873, 0.6321205588285577, 0.6321205588285577, 0.8646647167633873, 0.6321205588285577, 0.8646647167633873, 0.6321205588285577, 0.8646647167633873, 0.8646647167633873, 0.8646647167633873]\n"
          ]
        }
      ]
    },
    {
      "cell_type": "code",
      "source": [
        "# Função objetivo para otimização da politica de manutenção\n",
        "# Numero de ciclos determinado pela solução\n",
        "# Solução com 24 valores reais\n",
        "# Solucao a ser avaliada X = [x1, ..., x24]\n",
        "def objective_st(x):\n",
        "\n",
        "    # Dicionario para severidades\n",
        "    dict_severidades = {1: 0.25, 3: 0.50, 5: 0.75, 7: 1.0}\n",
        "\n",
        "    results = [] # Lista para armazenar os resultados das funções objetivo\n",
        "\n",
        "\n",
        "    # No PSO, como cada particula é um vetor de dimenções definidas, é\n",
        "    # Necessario interar sobre o vetor de particulas\n",
        "    for particle in x:\n",
        "        T = [0]\n",
        "        s_row = []\n",
        "        cont = 0\n",
        "\n",
        "        for number in particle:\n",
        "            modulo = int(number) % 2\n",
        "            if modulo == 1:\n",
        "                inteiro = int(number)\n",
        "                s_row.append(dict_severidades[inteiro])  # Severidade\n",
        "                frac = number - inteiro  # Tempo\n",
        "                t = (cont + frac) * 30\n",
        "                T.append(int(t))\n",
        "            cont += 1\n",
        "\n",
        "    s = []\n",
        "    for row in range(m):\n",
        "        s.append(s_row)\n",
        "\n",
        "    # A partir da solução define o número de ciclos\n",
        "    # A variável m é o número de sistemas em análise: em nosso exemplo m = 4\n",
        "    # Para novos dados esse parâmetro deve ser ajustado\n",
        "    # m = 4\n",
        "    ck = len(T) - 1\n",
        "\n",
        "    print(\"\")\n",
        "    print(\"=========================================================================\")\n",
        "    print(\"\")\n",
        "    print('Número de ciclos de manutenção:', ck, m)\n",
        "    print('Tempos para manutenções preventivas:', T)\n",
        "    print('Severidade para cada subsistema:', s[0])\n",
        "    print(\"Número de Sisemas:\", m)\n",
        "\n",
        "    if ck == 0:\n",
        "        return MAX_VALUE_CUSTO\n",
        "\n",
        "    # O modelo já está ajustado\n",
        "    # Utilizado para avaliar a solução candidata\n",
        "\n",
        "    # Cria fator de meloria a partir da solução\n",
        "    fact = execute_function(fator_melhoria, ck, m, s, theta)\n",
        "    fator = [last_value_fator_ajuste] + list(fact[0])\n",
        "\n",
        "    print('Fator: ', fator)\n",
        "\n",
        "    # Numero esperado de falhas (NEF) em cada ciclo\n",
        "    termos_somatorio = [((1/(lamb**beta)) * (T[1]**beta))]\n",
        "    numero_medio_falhas = [0, ((1/(lamb**beta)) * (T[1]**beta))]\n",
        "\n",
        "    for i in range(ck-1):\n",
        "        termo = (((T[i+2]-fator[i]*T[i+1])**beta) - (((1-fator[i])*T[i+1])**beta)) * (1/(lamb**beta))\n",
        "        termos_somatorio.append(termo)\n",
        "        numero_medio_falhas.append(sum(termos_somatorio))\n",
        "\n",
        "    # Número médio de falhas até o final do período: 2 anos\n",
        "    final = DIAS_OBSERVADOS\n",
        "    termo = (((final-fator[ck-1]*T[ck])**beta) - (((1-fator[ck-1])*T[ck])**beta)) * (1/(lamb**beta))\n",
        "    termos_somatorio.append(termo)\n",
        "    numero_medio_falhas.append(sum(termos_somatorio))\n",
        "\n",
        "    mi = numero_medio_falhas\n",
        "\n",
        "    print('Media de falhas: ', mi)\n",
        "\n",
        "    Ctotal =  []\n",
        "\n",
        "    for i in range(ck):\n",
        "        cmp = custo_mp(s[0][i], CMP)\n",
        "        Ctotal.append((cmp + (mi[i+1] - mi[i])*CMC)/(T[i+1]-T[i]))\n",
        "\n",
        "    cmp = custo_mp(s[0][ck-1], CMP)\n",
        "    Ctotal.append((cmp + (mi[ck+1] - mi[ck])*CMC)/(final-T[ck]))\n",
        "\n",
        "    # Custo Total\n",
        "    Custo = np.sum(Ctotal)\n",
        "    results.append(Custo) # Adicione o valor da função objetivo à lista de resultados\n",
        "    print('Custo = ', Custo)\n",
        "\n",
        "    # Retorne os resultados da função objetivo como um array\n",
        "    return np.array(results)"
      ],
      "metadata": {
        "id": "-JuqM09rWWBJ"
      },
      "execution_count": 225,
      "outputs": []
    },
    {
      "cell_type": "code",
      "source": [
        "num_particles = 100\n",
        "max_iterations = 100\n",
        "dimensions = 24\n",
        "options = {'c1': 0.5, 'c2': 0.3, 'w': 0.9}\n",
        "\n",
        "max_bound = np.array([7.0] * dimensions)  # Limite superior dos valores em x\n",
        "min_bound = np.array([0.0] * dimensions)   # Limite inferior dos valores em x\n",
        "bounds = (min_bound, max_bound)\n",
        "\n",
        "optimizer = GlobalBestPSO(n_particles=num_particles, dimensions=dimensions, options=options, bounds=bounds)\n",
        "\n",
        "# Inicializar current_cost e pbest_cost com valores infinitos\n",
        "optimizer.swarm.current_cost = np.full(optimizer.swarm.position.shape[0], np.inf)\n",
        "optimizer.swarm.pbest_cost = np.full(optimizer.swarm.position.shape[0], np.inf)\n",
        "best_cost, best_position = optimizer.optimize(objective_st, iters=max_iterations)\n",
        "\n",
        "pbest_cost = optimizer.swarm.pbest_cost\n",
        "\n",
        "best_positions = []  # Lista para armazenar todas as melhores posições\n",
        "\n",
        "# Loop de iterações do PSO\n",
        "for i in range(max_iterations):\n",
        "    best_cost, best_position = optimizer.optimize(objective_st, iters=1)\n",
        "    pbest_cost = optimizer.swarm.pbest_cost\n",
        "    best_positions.append(best_position)\n",
        "\n",
        "# Converter a lista de melhores posições em um array numpy para facilitar a manipulação\n",
        "best_positions = np.array(best_positions)"
      ],
      "metadata": {
        "colab": {
          "base_uri": "https://localhost:8080/"
        },
        "id": "cePW2Ji6gjmC",
        "outputId": "16034011-7207-4eb1-b346-7d9db3e4e90d"
      },
      "execution_count": 226,
      "outputs": [
        {
          "output_type": "stream",
          "name": "stderr",
          "text": [
            "2023-09-24 22:28:06,480 - pyswarms.single.global_best - INFO - Optimize for 100 iters with {'c1': 0.5, 'c2': 0.3, 'w': 0.9}\n",
            "pyswarms.single.global_best:  16%|█▌        |16/100, best_cost=6.05e+10"
          ]
        },
        {
          "output_type": "stream",
          "name": "stdout",
          "text": [
            "\n",
            "=========================================================================\n",
            "\n",
            "Número de ciclos de manutenção: 13 2\n",
            "Tempos para manutenções preventivas: [0, 30, 87, 208, 211, 246, 322, 356, 404, 555, 595, 647, 676, 699]\n",
            "Severidade para cada subsistema: [0.25, 0.75, 0.5, 0.75, 0.25, 0.75, 0.75, 0.25, 0.5, 0.75, 0.5, 0.25, 0.75]\n",
            "Número de Sisemas: 2\n",
            "Fator:  [0.8646647167633873, 0.3934693402873666, 0.7768698398515702, 0.6321205588285577, 0.7768698398515702, 0.3934693402873666, 0.7768698398515702, 0.7768698398515702, 0.3934693402873666, 0.6321205588285577, 0.7768698398515702, 0.6321205588285577, 0.3934693402873666, 0.7768698398515702]\n",
            "Media de falhas:  [0, 7776.000000000001, 279379.5824355922, 50847655.63253125, 50872997.31650613, 55769223.39061206, 67903476.973948, 179836902.83573276, 189579181.29206246, 448612516.79162323, 1490327407.9308782, 1796304035.9962122, 1826352026.8064566, 1995661294.8182278, -1227958370.9803658]\n",
            "Custo =  315311141239.67365\n",
            "\n",
            "=========================================================================\n",
            "\n",
            "Número de ciclos de manutenção: 10 2\n",
            "Tempos para manutenções preventivas: [0, 5, 51, 104, 150, 204, 216, 262, 546, 596, 626]\n",
            "Severidade para cada subsistema: [0.75, 0.25, 0.5, 0.25, 0.5, 0.75, 0.25, 0.5, 0.75, 0.75]\n",
            "Número de Sisemas: 2\n",
            "Fator:  [0.8646647167633873, 0.7768698398515702, 0.3934693402873666, 0.6321205588285577, 0.3934693402873666, 0.6321205588285577, 0.7768698398515702, 0.3934693402873666, 0.6321205588285577, 0.7768698398515702, 0.7768698398515702]\n",
            "Media de falhas:  [0, 1.0, 70901.54965678889, 424750.3230400011, 5046677.32843225, 9847765.568137065, 15309711.76800069, 24243342.263268713, 1531325494.4509351, 2831372833.3013077, 2977104354.148308, 2966165292.653256]\n",
            "Custo =  149732002812.93936\n",
            "\n",
            "=========================================================================\n",
            "\n",
            "Número de ciclos de manutenção: 13 2\n",
            "Tempos para manutenções preventivas: [0, 24, 89, 123, 197, 215, 268, 298, 422, 462, 489, 582, 637, 668]\n",
            "Severidade para cada subsistema: [0.75, 0.75, 0.75, 0.5, 0.75, 0.25, 0.5, 0.25, 0.5, 0.5, 0.75, 0.75, 0.5]\n",
            "Número de Sisemas: 2\n",
            "Fator:  [0.8646647167633873, 0.7768698398515702, 0.7768698398515702, 0.7768698398515702, 0.6321205588285577, 0.7768698398515702, 0.3934693402873666, 0.6321205588285577, 0.3934693402873666, 0.6321205588285577, 0.6321205588285577, 0.7768698398515702, 0.7768698398515702, 0.6321205588285577]\n",
            "Media de falhas:  [0, 2548.0396800000003, 476354.5305491222, 620385.1372269306, 4053382.9854406174, 4293008.152953811, 16172123.415887408, 17795983.595555075, 797153346.7944237, 859089808.1330218, 1181963397.9339347, 1605974262.1452017, 1913609549.7232351, 1944827626.1686754, 1922405977.2758434]\n",
            "Custo =  126523290513.37842\n",
            "\n",
            "=========================================================================\n",
            "\n",
            "Número de ciclos de manutenção: 8 2\n",
            "Tempos para manutenções preventivas: [0, 85, 137, 167, 274, 383, 444, 500, 664]\n",
            "Severidade para cada subsistema: [0.75, 0.5, 0.5, 0.5, 0.25, 0.25, 0.5, 0.75]\n",
            "Número de Sisemas: 2\n",
            "Fator:  [0.8646647167633873, 0.7768698398515702, 0.6321205588285577, 0.6321205588285577, 0.6321205588285577, 0.3934693402873666, 0.3934693402873666, 0.6321205588285577, 0.7768698398515702]\n",
            "Media de falhas:  [0, 1419857.0, 1750267.2692581392, 2002578.6524554146, 45105840.115646526, 171842820.9029072, 261424993.33007586, 973833355.7577347, 7280984674.714495, 7063605952.961892]\n",
            "Custo =  230567791669.3666\n",
            "\n",
            "=========================================================================\n",
            "\n",
            "Número de ciclos de manutenção: 7 2\n",
            "Tempos para manutenções preventivas: [0, 29, 33, 81, 261, 373, 506, 692]\n",
            "Severidade para cada subsistema: [0.75, 0.5, 0.75, 0.25, 0.25, 0.5, 0.5]\n",
            "Número de Sisemas: 2\n",
            "Fator:  [0.8646647167633873, 0.7768698398515702, 0.6321205588285577, 0.7768698398515702, 0.3934693402873666, 0.3934693402873666, 0.6321205588285577, 0.6321205588285577]\n",
            "Media de falhas:  [0, 6563.56768, 6573.2713177413125, 173007.0848054289, 130230094.17787696, 175768716.13623664, 1900587758.5154119, 10339596469.633034, 10033793290.471235]\n",
            "Custo =  251185428670.8548\n",
            "\n",
            "=========================================================================\n",
            "\n",
            "Número de ciclos de manutenção: 11 2\n",
            "Tempos para manutenções preventivas: [0, 9, 32, 80, 147, 165, 247, 363, 411, 446, 509, 521]\n",
            "Severidade para cada subsistema: [0.75, 0.5, 0.75, 0.25, 0.75, 0.25, 0.25, 0.25, 0.25, 0.5, 0.75]\n",
            "Número de Sisemas: 2\n",
            "Fator:  [0.8646647167633873, 0.7768698398515702, 0.6321205588285577, 0.7768698398515702, 0.3934693402873666, 0.7768698398515702, 0.3934693402873666, 0.3934693402873666, 0.3934693402873666, 0.3934693402873666, 0.6321205588285577, 0.7768698398515702]\n",
            "Media de falhas:  [0, 18.895680000000002, 2684.7891224214545, 165792.49437567202, 2826929.905178228, 2923042.806527844, 63747777.91825737, 110527637.93264553, 388790033.50414395, 674911747.1689892, 1531789617.4215658, 1720300681.856534, 2102381072.507388]\n",
            "Custo =  197250424887.49606\n",
            "\n",
            "=========================================================================\n",
            "\n",
            "Número de ciclos de manutenção: 10 2\n",
            "Tempos para manutenções preventivas: [0, 80, 144, 168, 239, 241, 361, 397, 429, 474, 541]\n",
            "Severidade para cada subsistema: [0.75, 0.25, 0.75, 0.5, 0.25, 0.25, 0.25, 0.25, 0.5, 0.5]\n",
            "Número de Sisemas: 2\n",
            "Fator:  [0.8646647167633873, 0.7768698398515702, 0.3934693402873666, 0.7768698398515702, 0.6321205588285577, 0.3934693402873666, 0.3934693402873666, 0.3934693402873666, 0.3934693402873666, 0.6321205588285577, 0.6321205588285577]\n",
            "Media de falhas:  [0, 1048576.0, 1799176.685482071, 1966519.181386753, 47892455.102139086, 47920351.13870387, 172738663.3920615, 356431009.0505883, 580798924.1376312, 1046510244.8946455, 2209456326.361653, 2475499241.083087]\n",
            "Custo =  184250249442.08878\n",
            "\n",
            "=========================================================================\n",
            "\n",
            "Número de ciclos de manutenção: 12 2\n",
            "Tempos para manutenções preventivas: [0, 81, 107, 127, 320, 365, 455, 503, 547, 571, 641, 687, 718]\n",
            "Severidade para cada subsistema: [0.75, 0.5, 0.5, 0.5, 0.25, 0.5, 0.5, 0.5, 0.75, 0.75, 0.5, 0.5]\n",
            "Número de Sisemas: 2\n",
            "Fator:  [0.8646647167633873, 0.7768698398515702, 0.6321205588285577, 0.6321205588285577, 0.6321205588285577, 0.3934693402873666, 0.6321205588285577, 0.6321205588285577, 0.6321205588285577, 0.7768698398515702, 0.7768698398515702, 0.6321205588285577, 0.6321205588285577]\n",
            "Media de falhas:  [0, 1115771.00832, 1137797.175138756, 1187342.228509163, 254440823.05265644, 283712795.35511035, 451322850.08989644, 1081132284.782785, 1213422169.1111681, 1293307680.0214977, 1713746093.1422696, 1771819171.9064744, 1812758660.7218988, 1422653386.9602988]\n",
            "Custo =  140774496640.39957\n",
            "\n",
            "=========================================================================\n",
            "\n",
            "Número de ciclos de manutenção: 12 2\n",
            "Tempos para manutenções preventivas: [0, 5, 49, 81, 96, 173, 180, 283, 374, 493, 552, 578, 610]\n",
            "Severidade para cada subsistema: [0.75, 0.25, 0.75, 0.5, 0.5, 0.5, 0.5, 0.25, 0.5, 0.5, 0.75, 0.75]\n",
            "Número de Sisemas: 2\n",
            "Fator:  [0.8646647167633873, 0.7768698398515702, 0.3934693402873666, 0.7768698398515702, 0.6321205588285577, 0.6321205588285577, 0.6321205588285577, 0.6321205588285577, 0.3934693402873666, 0.6321205588285577, 0.6321205588285577, 0.7768698398515702, 0.7768698398515702]\n",
            "Media de falhas:  [0, 1.0, 56958.93900675319, 103588.345216932, 359074.0240324021, 3312768.5452330895, 3541633.416198598, 47534587.59084606, 134099378.22955252, 474217451.31449556, 1591519849.9658124, 1682847196.826401, 1824123960.770991, 1819382448.666502]\n",
            "Custo =  126665285903.59494\n",
            "\n",
            "=========================================================================\n",
            "\n",
            "Número de ciclos de manutenção: 11 2\n",
            "Tempos para manutenções preventivas: [0, 13, 41, 82, 190, 210, 289, 380, 404, 484, 555, 578]\n",
            "Severidade para cada subsistema: [0.75, 0.25, 0.75, 0.5, 0.75, 0.5, 0.25, 0.25, 0.5, 0.5, 0.75]\n",
            "Número de Sisemas: 2\n",
            "Fator:  [0.8646647167633873, 0.7768698398515702, 0.3934693402873666, 0.7768698398515702, 0.6321205588285577, 0.7768698398515702, 0.6321205588285577, 0.3934693402873666, 0.3934693402873666, 0.6321205588285577, 0.6321205588285577, 0.7768698398515702]\n",
            "Media de falhas:  [0, 118.81376000000002, 7587.900517675206, 109059.58878242636, 31257890.86078107, 31516681.49413387, 60442879.274267495, 89165586.24440308, 109807493.98928049, 988086895.2926469, 2351062279.2418947, 2431136904.451518, 2519606360.9389343]\n",
            "Custo =  158096590322.29266\n",
            "\n",
            "=========================================================================\n",
            "\n",
            "Número de ciclos de manutenção: 13 2\n",
            "Tempos para manutenções preventivas: [0, 17, 45, 84, 98, 190, 252, 290, 309, 460, 521, 548, 676, 718]\n",
            "Severidade para cada subsistema: [0.75, 0.25, 0.75, 0.5, 0.5, 0.25, 0.5, 0.75, 0.5, 0.75, 0.5, 0.5, 0.5]\n",
            "Número de Sisemas: 2\n",
            "Fator:  [0.8646647167633873, 0.7768698398515702, 0.3934693402873666, 0.7768698398515702, 0.6321205588285577, 0.6321205588285577, 0.3934693402873666, 0.6321205588285577, 0.7768698398515702, 0.6321205588285577, 0.7768698398515702, 0.6321205588285577, 0.6321205588285577, 0.6321205588285577]\n",
            "Media de falhas:  [0, 454.35424000000006, 8627.931592016683, 99364.83503974893, 359338.8541377196, 6483142.676331511, 18723236.761091992, 28739392.077711243, 64841337.50612725, 474402789.9750278, 508306277.96843773, 585511134.281308, 890989028.7374799, 1250775014.311855, 860669740.5502551]\n",
            "Custo =  91341209157.06033\n",
            "\n",
            "=========================================================================\n",
            "\n",
            "Número de ciclos de manutenção: 11 2\n",
            "Tempos para manutenções preventivas: [0, 9, 49, 84, 103, 170, 263, 287, 300, 529, 542, 636]\n",
            "Severidade para cada subsistema: [0.75, 0.25, 0.75, 0.5, 0.25, 0.25, 0.5, 0.75, 0.75, 0.5, 0.75]\n",
            "Número de Sisemas: 2\n",
            "Fator:  [0.8646647167633873, 0.7768698398515702, 0.3934693402873666, 0.7768698398515702, 0.6321205588285577, 0.3934693402873666, 0.3934693402873666, 0.6321205588285577, 0.7768698398515702, 0.7768698398515702, 0.6321205588285577, 0.7768698398515702]\n",
            "Media de falhas:  [0, 18.895680000000002, 38089.12278665559, 103471.38473362167, 529470.1928751608, 2415140.25467039, 31239874.520431105, 64798075.742718935, 86970400.74262479, 1522113207.7304223, 1527143594.5324454, 1665656995.805952, 1538598728.6224256]\n",
            "Custo =  60496193571.40194\n",
            "\n",
            "=========================================================================\n",
            "\n",
            "Número de ciclos de manutenção: 14 2\n",
            "Tempos para manutenções preventivas: [0, 52, 85, 104, 131, 173, 202, 269, 279, 334, 525, 583, 604, 649, 707]\n",
            "Severidade para cada subsistema: [0.25, 0.75, 0.5, 0.5, 0.25, 0.25, 0.25, 0.5, 0.25, 0.75, 0.5, 0.25, 0.75, 0.5]\n",
            "Número de Sisemas: 2\n",
            "Fator:  [0.8646647167633873, 0.3934693402873666, 0.7768698398515702, 0.6321205588285577, 0.6321205588285577, 0.3934693402873666, 0.3934693402873666, 0.3934693402873666, 0.6321205588285577, 0.3934693402873666, 0.7768698398515702, 0.6321205588285577, 0.3934693402873666, 0.7768698398515702, 0.6321205588285577]\n",
            "Media de falhas:  [0, 121665.29024000002, 154581.38655851875, 597522.2919001919, 697441.30873435, 2524089.8769304743, 4373783.292278202, 73777196.01426229, 86592960.07917963, 223547705.80079806, 1189375473.1316214, 2560334040.769223, 2573605383.511217, 2836118475.508691, 5824913121.148941, 5793757321.412908]\n",
            "Custo =  367707108446.04974\n",
            "\n",
            "=========================================================================\n",
            "\n",
            "Número de ciclos de manutenção: 12 2\n",
            "Tempos para manutenções preventivas: [0, 54, 83, 102, 235, 263, 271, 301, 452, 517, 625, 657, 698]\n",
            "Severidade para cada subsistema: [0.25, 0.75, 0.5, 0.5, 0.25, 0.5, 0.5, 0.75, 0.75, 0.5, 0.75, 0.75]\n",
            "Número de Sisemas: 2\n",
            "Fator:  [0.8646647167633873, 0.3934693402873666, 0.7768698398515702, 0.6321205588285577, 0.6321205588285577, 0.3934693402873666, 0.6321205588285577, 0.6321205588285577, 0.7768698398515702, 0.7768698398515702, 0.6321205588285577, 0.7768698398515702, 0.7768698398515702]\n",
            "Media de falhas:  [0, 146932.80768, 167117.60561568785, 576668.741747088, 29911976.848434728, 34651016.08737687, 35974128.83500953, 86356087.37117913, 474064186.21268845, 645150402.174912, 816506792.7782646, 847043226.0584599, 1160872908.8127704, 1131754683.2527976]\n",
            "Custo =  71806724820.12965\n",
            "\n",
            "=========================================================================\n",
            "\n",
            "Número de ciclos de manutenção: 12 2\n",
            "Tempos para manutenções preventivas: [0, 52, 76, 100, 124, 238, 254, 379, 403, 455, 513, 685, 697]\n",
            "Severidade para cada subsistema: [0.25, 0.75, 0.5, 0.25, 0.5, 0.25, 0.25, 0.25, 0.75, 0.75, 0.75, 0.75]\n",
            "Número de Sisemas: 2\n",
            "Fator:  [0.8646647167633873, 0.3934693402873666, 0.7768698398515702, 0.6321205588285577, 0.3934693402873666, 0.6321205588285577, 0.3934693402873666, 0.3934693402873666, 0.3934693402873666, 0.7768698398515702, 0.7768698398515702, 0.7768698398515702, 0.7768698398515702]\n",
            "Media de falhas:  [0, 121665.29024000002, 130876.54353136205, 605810.2102791818, 672221.6437187688, 33763809.75222138, 47632893.14461072, 204509908.78811634, 336587527.12783706, 789816221.9638159, 1607105001.632453, 2218141498.9101095, 2230399620.933805, 2201505046.70096]\n",
            "Custo =  142478710576.08487\n",
            "\n",
            "=========================================================================\n",
            "\n",
            "Número de ciclos de manutenção: 12 2\n",
            "Tempos para manutenções preventivas: [0, 48, 71, 98, 184, 243, 368, 480, 516, 583, 648, 667, 710]\n",
            "Severidade para cada subsistema: [0.25, 0.75, 0.5, 0.25, 0.25, 0.25, 0.5, 0.75, 0.5, 0.75, 0.5, 0.5]\n",
            "Número de Sisemas: 2\n",
            "Fator:  [0.8646647167633873, 0.3934693402873666, 0.7768698398515702, 0.6321205588285577, 0.3934693402873666, 0.3934693402873666, 0.3934693402873666, 0.6321205588285577, 0.7768698398515702, 0.6321205588285577, 0.7768698398515702, 0.6321205588285577, 0.6321205588285577]\n",
            "Media de falhas:  [0, 81537.26976000001, 88678.07868562044, 581560.6902743112, 5252877.808404267, 15241933.610511228, 472809479.8283635, 1649758743.9308167, 2179360614.9198747, 2458043276.6132374, 2536543802.9600706, 2651664860.467489, 2711420057.5525074, 2347685398.8933415]\n",
            "Custo =  180986191170.5054\n"
          ]
        },
        {
          "output_type": "stream",
          "name": "stderr",
          "text": [
            "pyswarms.single.global_best:  24%|██▍       |24/100, best_cost=6.05e+10"
          ]
        },
        {
          "output_type": "stream",
          "name": "stdout",
          "text": [
            "\n",
            "=========================================================================\n",
            "\n",
            "Número de ciclos de manutenção: 15 2\n",
            "Tempos para manutenções preventivas: [0, 45, 65, 97, 140, 173, 323, 354, 368, 482, 522, 542, 592, 609, 637, 710]\n",
            "Severidade para cada subsistema: [0.25, 0.75, 0.5, 0.25, 0.5, 0.5, 0.5, 0.25, 0.5, 0.75, 0.5, 0.5, 0.5, 0.75, 0.25]\n",
            "Número de Sisemas: 2\n",
            "Fator:  [0.8646647167633873, 0.3934693402873666, 0.7768698398515702, 0.6321205588285577, 0.3934693402873666, 0.6321205588285577, 0.6321205588285577, 0.6321205588285577, 0.3934693402873666, 0.6321205588285577, 0.7768698398515702, 0.6321205588285577, 0.6321205588285577, 0.6321205588285577, 0.7768698398515702, 0.3934693402873666]\n",
            "Media de falhas:  [0, 59049.00000000001, 62914.6862427975, 627257.4342183623, 986963.1753079563, 2249840.2170755975, 342729995.95198417, 359308258.1905681, 367293543.8735663, 661383655.3962362, 1275544030.1091294, 1329119147.0782566, 1367541742.315702, 1439059378.251285, 1583890743.9627397, 2235237305.2682467, 2203389980.2645965]\n",
            "Custo =  173653216928.82834\n",
            "\n",
            "=========================================================================\n",
            "\n",
            "Número de ciclos de manutenção: 12 2\n",
            "Tempos para manutenções preventivas: [0, 43, 64, 92, 127, 196, 368, 466, 484, 523, 547, 599, 660]\n",
            "Severidade para cada subsistema: [0.25, 0.75, 0.5, 0.5, 0.5, 0.25, 0.5, 0.5, 0.75, 0.5, 0.5, 0.5]\n",
            "Número de Sisemas: 2\n",
            "Fator:  [0.8646647167633873, 0.3934693402873666, 0.7768698398515702, 0.6321205588285577, 0.6321205588285577, 0.6321205588285577, 0.3934693402873666, 0.6321205588285577, 0.6321205588285577, 0.7768698398515702, 0.6321205588285577, 0.6321205588285577, 0.6321205588285577]\n",
            "Media de falhas:  [0, 47042.70176, 51480.70595942923, 449479.13157091115, 617243.5629608234, 7186573.122445655, 283912632.9190188, 490907263.4785303, 699657458.9041592, 796555343.1544304, 864046569.1426842, 906494287.7168751, 1304460233.8690715, 1099757895.2444882]\n",
            "Custo =  125930207878.55862\n",
            "\n",
            "=========================================================================\n",
            "\n",
            "Número de ciclos de manutenção: 14 2\n",
            "Tempos para manutenções preventivas: [0, 6, 43, 70, 309, 345, 370, 403, 460, 483, 519, 549, 603, 678, 708]\n",
            "Severidade para cada subsistema: [0.75, 0.25, 0.75, 0.75, 0.75, 0.25, 0.25, 0.5, 0.5, 0.75, 0.5, 0.25, 0.75, 0.25]\n",
            "Número de Sisemas: 2\n",
            "Fator:  [0.8646647167633873, 0.7768698398515702, 0.3934693402873666, 0.7768698398515702, 0.7768698398515702, 0.7768698398515702, 0.3934693402873666, 0.3934693402873666, 0.6321205588285577, 0.6321205588285577, 0.7768698398515702, 0.6321205588285577, 0.3934693402873666, 0.7768698398515702, 0.3934693402873666]\n",
            "Media de falhas:  [0, 2.4883200000000003, 24736.746762631603, 45711.47869928427, 565213569.1230935, 568788836.8841361, 571453375.3394254, 576820139.8907971, 1093939811.4182565, 1356855278.6895888, 1442747395.119823, 1529984561.5045273, 1575967103.3346105, 2141463836.8910375, 3729582073.7139673, 3698196548.7590814]\n",
            "Custo =  360604942915.633\n",
            "\n",
            "=========================================================================\n",
            "\n",
            "Número de ciclos de manutenção: 15 2\n",
            "Tempos para manutenções preventivas: [0, 10, 44, 81, 136, 179, 200, 241, 305, 345, 374, 466, 481, 516, 547, 633]\n",
            "Severidade para cada subsistema: [0.75, 0.25, 0.75, 0.75, 0.25, 0.5, 0.25, 0.75, 0.75, 0.25, 0.5, 0.5, 0.75, 0.5, 0.75]\n",
            "Número de Sisemas: 2\n",
            "Fator:  [0.8646647167633873, 0.7768698398515702, 0.3934693402873666, 0.7768698398515702, 0.7768698398515702, 0.3934693402873666, 0.6321205588285577, 0.3934693402873666, 0.7768698398515702, 0.7768698398515702, 0.3934693402873666, 0.6321205588285577, 0.6321205588285577, 0.7768698398515702, 0.6321205588285577, 0.7768698398515702]\n",
            "Media de falhas:  [0, 32.0, 17704.70306735252, 89653.81830708776, 3915557.784006037, 4586563.413297379, 4822990.039458693, 32460792.05830056, 57239336.44341963, 172405362.53603268, 175818585.56430832, 227725166.1565005, 398035649.6668925, 479394409.2296357, 568556517.4535996, 684630992.9079875, 567565603.6337682]\n",
            "Custo =  104692421565.67816\n",
            "\n",
            "=========================================================================\n",
            "\n",
            "Número de ciclos de manutenção: 11 2\n",
            "Tempos para manutenções preventivas: [0, 8, 47, 129, 251, 337, 372, 391, 475, 517, 543, 642]\n",
            "Severidade para cada subsistema: [0.75, 0.25, 0.75, 0.25, 0.75, 0.25, 0.5, 0.5, 0.75, 0.5, 0.75]\n",
            "Número de Sisemas: 2\n",
            "Fator:  [0.8646647167633873, 0.7768698398515702, 0.3934693402873666, 0.7768698398515702, 0.3934693402873666, 0.7768698398515702, 0.3934693402873666, 0.6321205588285577, 0.6321205588285577, 0.7768698398515702, 0.6321205588285577, 0.7768698398515702]\n",
            "Media de falhas:  [0, 10.48576, 33118.5548280265, 2198568.0509661078, 104282415.29597028, 122585089.42140928, 260051303.06652755, 262324298.49106422, 1115510753.1175668, 1216437684.44684, 1287932795.2118716, 1445093487.5020099, 1298279187.1999106]\n",
            "Custo =  102067787586.25461\n",
            "\n",
            "=========================================================================\n",
            "\n",
            "Número de ciclos de manutenção: 9 2\n",
            "Tempos para manutenções preventivas: [0, 49, 261, 314, 372, 405, 517, 597, 648, 696]\n",
            "Severidade para cada subsistema: [0.25, 0.25, 0.5, 0.25, 0.5, 0.75, 0.5, 0.75, 0.25]\n",
            "Número de Sisemas: 2\n",
            "Fator:  [0.8646647167633873, 0.3934693402873666, 0.3934693402873666, 0.6321205588285577, 0.3934693402873666, 0.6321205588285577, 0.7768698398515702, 0.6321205588285577, 0.7768698398515702, 0.3934693402873666]\n",
            "Media de falhas:  [0, 90392.07968000001, 159940499.6639098, 262927835.18448228, 485684286.6076282, 515561110.6143237, 2101798569.2268088, 2482972930.844735, 2537424637.353807, 2907538975.204813, 2878867627.933455]\n",
            "Custo =  141798274530.63556\n",
            "\n",
            "=========================================================================\n",
            "\n",
            "Número de ciclos de manutenção: 14 2\n",
            "Tempos para manutenções preventivas: [0, 51, 89, 97, 135, 157, 263, 331, 383, 403, 516, 585, 648, 675, 705]\n",
            "Severidade para cada subsistema: [0.25, 0.75, 0.5, 0.5, 0.5, 0.25, 0.5, 0.25, 0.5, 0.75, 0.5, 0.75, 0.75, 0.5]\n",
            "Número de Sisemas: 2\n",
            "Fator:  [0.8646647167633873, 0.3934693402873666, 0.7768698398515702, 0.6321205588285577, 0.6321205588285577, 0.6321205588285577, 0.3934693402873666, 0.6321205588285577, 0.3934693402873666, 0.6321205588285577, 0.7768698398515702, 0.6321205588285577, 0.7768698398515702, 0.7768698398515702, 0.6321205588285577]\n",
            "Media de falhas:  [0, 110408.08032000001, 168812.53103186947, 314853.9087022936, 554863.5446595433, 1063030.217645624, 38540777.334304854, 74670249.41649354, 300451395.3053268, 317188545.34019095, 1904852758.6214337, 2197676041.379152, 2272426849.6036515, 2447325966.9218683, 2484028054.509131, 2453329496.368854]\n",
            "Custo =  134356126438.85078\n",
            "\n",
            "=========================================================================\n",
            "\n",
            "Número de ciclos de manutenção: 10 2\n",
            "Tempos para manutenções preventivas: [0, 51, 81, 104, 262, 300, 518, 585, 642, 662, 690]\n",
            "Severidade para cada subsistema: [0.25, 0.75, 0.5, 0.25, 0.5, 0.75, 0.5, 0.75, 0.75, 0.75]\n",
            "Número de Sisemas: 2\n",
            "Fator:  [0.8646647167633873, 0.3934693402873666, 0.7768698398515702, 0.6321205588285577, 0.3934693402873666, 0.6321205588285577, 0.7768698398515702, 0.6321205588285577, 0.7768698398515702, 0.7768698398515702, 0.7768698398515702]\n",
            "Media de falhas:  [0, 110408.08032000001, 132301.1132434108, 665452.6519180654, 63181618.66254204, 74544495.01386976, 3285844287.5511255, 3568137596.665354, 3630230832.4201365, 3748149422.0193205, 3779246196.7396774, 3751907395.25512]\n",
            "Custo =  112257938546.99878\n",
            "\n",
            "=========================================================================\n",
            "\n",
            "Número de ciclos de manutenção: 13 2\n",
            "Tempos para manutenções preventivas: [0, 50, 74, 109, 142, 193, 237, 261, 315, 519, 584, 612, 636, 672]\n",
            "Severidade para cada subsistema: [0.25, 0.75, 0.5, 0.25, 0.75, 0.5, 0.25, 0.5, 0.75, 0.5, 0.25, 0.75, 0.5]\n",
            "Número de Sisemas: 2\n",
            "Fator:  [0.8646647167633873, 0.3934693402873666, 0.7768698398515702, 0.6321205588285577, 0.3934693402873666, 0.7768698398515702, 0.6321205588285577, 0.3934693402873666, 0.6321205588285577, 0.7768698398515702, 0.6321205588285577, 0.3934693402873666, 0.7768698398515702, 0.6321205588285577]\n",
            "Media de falhas:  [0, 100000.00000000001, 108817.29826267227, 1091478.4063135542, 1286782.909083496, 4915192.260908966, 32562422.401046183, 33289630.697044395, 54991585.98630786, 3052810778.4284563, 3322977603.930195, 3342772188.976487, 3464835669.5664587, 5001612992.08713, 4978279301.381006]\n",
            "Custo =  275299650766.1526\n",
            "\n",
            "=========================================================================\n",
            "\n",
            "Número de ciclos de manutenção: 13 2\n",
            "Tempos para manutenções preventivas: [0, 49, 71, 110, 163, 237, 259, 324, 482, 521, 540, 580, 631, 685]\n",
            "Severidade para cada subsistema: [0.25, 0.75, 0.5, 0.5, 0.5, 0.25, 0.5, 0.5, 0.75, 0.5, 0.5, 0.75, 0.25]\n",
            "Número de Sisemas: 2\n",
            "Fator:  [0.8646647167633873, 0.3934693402873666, 0.7768698398515702, 0.6321205588285577, 0.6321205588285577, 0.6321205588285577, 0.3934693402873666, 0.6321205588285577, 0.6321205588285577, 0.7768698398515702, 0.6321205588285577, 0.6321205588285577, 0.7768698398515702, 0.3934693402873666]\n",
            "Media de falhas:  [0, 90392.07968000001, 96544.91828398069, 1240133.8733261623, 2134505.391577498, 15693311.37287198, 19047183.52605741, 50384158.00203267, 1748559897.2227328, 1844035993.3963516, 1894041535.584386, 1919986606.6707945, 2191715361.5930386, 2589764138.721578, 2563531285.0421743]\n",
            "Custo =  121402264690.27602\n",
            "\n",
            "=========================================================================\n",
            "\n",
            "Número de ciclos de manutenção: 15 2\n",
            "Tempos para manutenções preventivas: [0, 48, 69, 101, 148, 239, 254, 323, 345, 383, 476, 486, 516, 543, 580, 705]\n",
            "Severidade para cada subsistema: [0.25, 0.75, 0.5, 0.5, 0.5, 0.25, 0.5, 0.5, 0.25, 0.5, 0.5, 0.75, 0.5, 0.5, 0.5]\n",
            "Número de Sisemas: 2\n",
            "Fator:  [0.8646647167633873, 0.3934693402873666, 0.7768698398515702, 0.6321205588285577, 0.6321205588285577, 0.6321205588285577, 0.3934693402873666, 0.6321205588285577, 0.6321205588285577, 0.3934693402873666, 0.6321205588285577, 0.6321205588285577, 0.7768698398515702, 0.6321205588285577, 0.6321205588285577, 0.6321205588285577]\n",
            "Media de falhas:  [0, 81537.26976000001, 86562.83813469019, 748423.8665766948, 1266802.907184921, 21942354.520103943, 23956834.848388504, 57871027.24834511, 122751242.61984134, 151251608.32657805, 357499224.9621637, 476633919.66869724, 545141326.3315574, 619626121.4714375, 642939832.8758665, 1920836009.3843932, 1573363007.8398452]\n",
            "Custo =  151687090117.00043\n",
            "\n",
            "=========================================================================\n",
            "\n",
            "Número de ciclos de manutenção: 14 2\n",
            "Tempos para manutenções preventivas: [0, 1, 46, 66, 91, 162, 249, 369, 416, 471, 487, 518, 544, 591, 706]\n",
            "Severidade para cada subsistema: [0.75, 0.25, 0.75, 0.5, 0.25, 0.25, 0.25, 0.25, 0.5, 0.5, 0.75, 0.5, 0.5, 0.25]\n",
            "Número de Sisemas: 2\n",
            "Fator:  [0.8646647167633873, 0.7768698398515702, 0.3934693402873666, 0.7768698398515702, 0.6321205588285577, 0.3934693402873666, 0.3934693402873666, 0.3934693402873666, 0.3934693402873666, 0.6321205588285577, 0.6321205588285577, 0.7768698398515702, 0.6321205588285577, 0.6321205588285577, 0.3934693402873666]\n",
            "Media de falhas:  [0, 0.00032, 59942.2920400828, 68030.04127385958, 407314.6811542098, 2436785.463701161, 23861650.308211423, 466675906.07762414, 753069272.1076096, 1302983435.7776759, 1493686451.5360675, 1565803914.5727284, 1637816083.5686896, 1672699019.9067676, 2816106710.743768, 2465393504.675653]\n",
            "Custo =  204322720547.71036\n",
            "\n",
            "=========================================================================\n",
            "\n",
            "Número de ciclos de manutenção: 14 2\n",
            "Tempos para manutenções preventivas: [0, 4, 46, 68, 170, 244, 329, 360, 472, 486, 517, 543, 596, 633, 660]\n",
            "Severidade para cada subsistema: [0.75, 0.25, 0.75, 0.25, 0.25, 0.5, 0.25, 0.5, 0.5, 0.75, 0.5, 0.5, 0.75, 0.25]\n",
            "Número de Sisemas: 2\n",
            "Fator:  [0.8646647167633873, 0.7768698398515702, 0.3934693402873666, 0.7768698398515702, 0.3934693402873666, 0.3934693402873666, 0.6321205588285577, 0.3934693402873666, 0.6321205588285577, 0.6321205588285577, 0.7768698398515702, 0.6321205588285577, 0.6321205588285577, 0.7768698398515702, 0.3934693402873666]\n",
            "Media de falhas:  [0, 0.32768, 44587.08245929315, 55738.313226401224, 19316487.923306346, 24913784.524838597, 221915774.781779, 329097182.6597066, 595302066.9205401, 761217583.5091211, 832794817.4555738, 904289928.2206055, 947207960.1128657, 1138668454.170218, 1298778929.082892, 1278233740.9870443]\n",
            "Custo =  150338748937.19003\n",
            "\n",
            "=========================================================================\n",
            "\n",
            "Número de ciclos de manutenção: 12 2\n",
            "Tempos para manutenções preventivas: [0, 5, 46, 71, 133, 244, 363, 400, 475, 483, 510, 540, 639]\n",
            "Severidade para cada subsistema: [0.75, 0.25, 0.75, 0.5, 0.25, 0.25, 0.5, 0.5, 0.5, 0.75, 0.5, 0.75]\n",
            "Número de Sisemas: 2\n",
            "Fator:  [0.8646647167633873, 0.7768698398515702, 0.3934693402873666, 0.7768698398515702, 0.6321205588285577, 0.3934693402873666, 0.3934693402873666, 0.6321205588285577, 0.6321205588285577, 0.6321205588285577, 0.7768698398515702, 0.6321205588285577, 0.7768698398515702]\n",
            "Media de falhas:  [0, 1.0, 40237.05268111117, 57651.06734502835, 4106758.9798628995, 21729496.083549723, 146750599.2356674, 341155980.7230035, 1106455495.4690814, 1119534008.0152552, 1177827157.2400105, 1259616134.3167279, 1414504111.2757483, 1277531707.8957937]\n",
            "Custo =  113325192121.86012\n",
            "\n",
            "=========================================================================\n",
            "\n",
            "Número de ciclos de manutenção: 11 2\n",
            "Tempos para manutenções preventivas: [0, 47, 73, 246, 270, 357, 365, 396, 480, 643, 671, 708]\n",
            "Severidade para cada subsistema: [0.25, 0.75, 0.25, 0.5, 0.5, 0.25, 0.5, 0.5, 0.75, 0.5, 0.25]\n",
            "Número de Sisemas: 2\n",
            "Fator:  [0.8646647167633873, 0.3934693402873666, 0.7768698398515702, 0.3934693402873666, 0.6321205588285577, 0.6321205588285577, 0.3934693402873666, 0.6321205588285577, 0.6321205588285577, 0.7768698398515702, 0.6321205588285577, 0.3934693402873666]\n",
            "Media de falhas:  [0, 73390.40224000001, 84743.54214913223, 154989053.3795688, 155807429.27808678, 435416575.9266031, 439717705.27124524, 465213258.05367965, 1355254957.470722, 2745336482.0522923, 2922974400.4131765, 2971528754.8068275, 2614317305.6129794]\n",
            "Custo =  142373285592.46774\n"
          ]
        },
        {
          "output_type": "stream",
          "name": "stderr",
          "text": [
            "pyswarms.single.global_best:  42%|████▏     |42/100, best_cost=6.05e+10"
          ]
        },
        {
          "output_type": "stream",
          "name": "stdout",
          "text": [
            "\n",
            "=========================================================================\n",
            "\n",
            "Número de ciclos de manutenção: 13 2\n",
            "Tempos para manutenções preventivas: [0, 49, 74, 95, 144, 154, 251, 278, 340, 380, 596, 629, 645, 699]\n",
            "Severidade para cada subsistema: [0.25, 0.75, 0.5, 0.25, 0.5, 0.25, 0.5, 0.5, 0.25, 0.5, 0.25, 0.75, 0.5]\n",
            "Número de Sisemas: 2\n",
            "Fator:  [0.8646647167633873, 0.3934693402873666, 0.7768698398515702, 0.6321205588285577, 0.3934693402873666, 0.6321205588285577, 0.3934693402873666, 0.6321205588285577, 0.6321205588285577, 0.3934693402873666, 0.6321205588285577, 0.3934693402873666, 0.7768698398515702, 0.6321205588285577]\n",
            "Media de falhas:  [0, 90392.07968000001, 100521.11561909085, 439449.0545150407, 983528.4204847927, 1166966.730723769, 78976551.68385197, 84573806.64061148, 249692363.71427524, 279125018.78789926, 2086542278.1766903, 3168518831.867795, 3252789754.0697412, 5917853911.794778, 5888511574.9517975]\n",
            "Custo =  402110093342.9468\n",
            "\n",
            "=========================================================================\n",
            "\n",
            "Número de ciclos de manutenção: 11 2\n",
            "Tempos para manutenções preventivas: [0, 50, 74, 103, 178, 255, 281, 327, 409, 590, 643, 697]\n",
            "Severidade para cada subsistema: [0.25, 0.75, 0.5, 0.5, 0.25, 0.5, 0.5, 0.25, 0.5, 0.75, 0.75]\n",
            "Número de Sisemas: 2\n",
            "Fator:  [0.8646647167633873, 0.3934693402873666, 0.7768698398515702, 0.6321205588285577, 0.6321205588285577, 0.3934693402873666, 0.6321205588285577, 0.6321205588285577, 0.3934693402873666, 0.6321205588285577, 0.7768698398515702, 0.7768698398515702]\n",
            "Media de falhas:  [0, 100000.00000000001, 108817.29826267227, 755029.380055605, 3642928.6673405026, 22049008.394233856, 27623787.61780356, 133584674.36059189, 233938983.9535997, 1489595772.6914656, 3357819141.9503746, 3783392191.19263, 3754497616.959785]\n",
            "Custo =  217638535408.8085\n",
            "\n",
            "=========================================================================\n",
            "\n",
            "Número de ciclos de manutenção: 13 2\n",
            "Tempos para manutenções preventivas: [0, 51, 77, 107, 239, 257, 278, 318, 511, 540, 584, 607, 640, 687]\n",
            "Severidade para cada subsistema: [0.25, 0.75, 0.5, 0.5, 0.25, 0.5, 0.5, 0.75, 0.5, 0.5, 0.5, 0.75, 0.5]\n",
            "Número de Sisemas: 2\n",
            "Fator:  [0.8646647167633873, 0.3934693402873666, 0.7768698398515702, 0.6321205588285577, 0.6321205588285577, 0.3934693402873666, 0.6321205588285577, 0.6321205588285577, 0.7768698398515702, 0.6321205588285577, 0.6321205588285577, 0.6321205588285577, 0.7768698398515702, 0.6321205588285577]\n",
            "Media de falhas:  [0, 110408.08032000001, 122741.72878176442, 901228.9539733618, 30345084.8137641, 32930528.44570354, 37103471.5714387, 119927875.59971464, 1028837332.404593, 1107638931.586069, 1138046943.8468437, 1235129754.0772958, 1411386540.8052683, 1755051211.207402, 1728376088.998764]\n",
            "Custo =  111852402960.43478\n",
            "\n",
            "=========================================================================\n",
            "\n",
            "Número de ciclos de manutenção: 13 2\n",
            "Tempos para manutenções preventivas: [0, 51, 79, 108, 161, 237, 258, 275, 321, 335, 516, 541, 579, 637]\n",
            "Severidade para cada subsistema: [0.25, 0.75, 0.5, 0.5, 0.5, 0.25, 0.5, 0.5, 0.5, 0.75, 0.5, 0.5, 0.75]\n",
            "Número de Sisemas: 2\n",
            "Fator:  [0.8646647167633873, 0.3934693402873666, 0.7768698398515702, 0.6321205588285577, 0.6321205588285577, 0.6321205588285577, 0.3934693402873666, 0.6321205588285577, 0.6321205588285577, 0.6321205588285577, 0.7768698398515702, 0.6321205588285577, 0.6321205588285577, 0.7768698398515702]\n",
            "Media de falhas:  [0, 110408.08032000001, 126976.31989136341, 907602.9624333214, 1776702.65729714, 16014261.766133564, 19144850.947435636, 22297680.50612958, 120611674.11364794, 126130428.25825505, 951153821.8998201, 1018695060.1966964, 1042719784.6420125, 1370165930.7966943, 1239794525.3155887]\n",
            "Custo =  80642389569.19394\n",
            "\n",
            "=========================================================================\n",
            "\n",
            "Número de ciclos de manutenção: 13 2\n",
            "Tempos para manutenções preventivas: [0, 50, 78, 104, 256, 272, 308, 340, 380, 522, 542, 586, 607, 634]\n",
            "Severidade para cada subsistema: [0.25, 0.75, 0.5, 0.25, 0.5, 0.5, 0.5, 0.25, 0.75, 0.5, 0.5, 0.75, 0.75]\n",
            "Número de Sisemas: 2\n",
            "Fator:  [0.8646647167633873, 0.3934693402873666, 0.7768698398515702, 0.6321205588285577, 0.3934693402873666, 0.6321205588285577, 0.6321205588285577, 0.6321205588285577, 0.3934693402873666, 0.7768698398515702, 0.6321205588285577, 0.6321205588285577, 0.7768698398515702, 0.7768698398515702]\n",
            "Media de falhas:  [0, 100000.00000000001, 116249.8747257459, 717972.3436744149, 53546852.82839754, 56371409.734493926, 122188019.54176104, 136940848.02216002, 166373503.09578404, 717893559.2094349, 1082711474.731254, 1113493439.2300012, 1201646519.69031, 1338370908.4657273, 1324827770.1906455]\n",
            "Custo =  144237153020.1793\n",
            "\n",
            "=========================================================================\n",
            "\n",
            "Número de ciclos de manutenção: 14 2\n",
            "Tempos para manutenções preventivas: [0, 1, 48, 74, 98, 178, 252, 303, 351, 367, 480, 523, 542, 594, 635]\n",
            "Severidade para cada subsistema: [0.75, 0.25, 0.75, 0.5, 0.25, 0.25, 0.5, 0.5, 0.25, 0.5, 0.75, 0.5, 0.5, 0.75]\n",
            "Número de Sisemas: 2\n",
            "Fator:  [0.8646647167633873, 0.7768698398515702, 0.3934693402873666, 0.7768698398515702, 0.6321205588285577, 0.3934693402873666, 0.3934693402873666, 0.6321205588285577, 0.6321205588285577, 0.3934693402873666, 0.6321205588285577, 0.7768698398515702, 0.6321205588285577, 0.6321205588285577, 0.7768698398515702]\n",
            "Media de falhas:  [0, 0.00032, 74453.13399405743, 95742.73757602312, 533726.4437512506, 4042168.9359306237, 20551538.888318293, 106488389.18604615, 253454736.7253766, 262567761.04242003, 548482164.3144591, 1211962016.450428, 1262701520.4073043, 1303920856.066628, 1521186471.2863586, 1397450090.7801507]\n",
            "Custo =  143446624759.3401\n",
            "\n",
            "=========================================================================\n",
            "\n",
            "Número de ciclos de manutenção: 16 2\n",
            "Tempos para manutenções preventivas: [0, 5, 47, 70, 92, 120, 246, 361, 476, 484, 521, 541, 596, 623, 638, 681, 716]\n",
            "Severidade para cada subsistema: [0.75, 0.25, 0.75, 0.5, 0.5, 0.25, 0.25, 0.5, 0.5, 0.75, 0.5, 0.5, 0.75, 0.75, 0.75, 0.75]\n",
            "Número de Sisemas: 2\n",
            "Fator:  [0.8646647167633873, 0.7768698398515702, 0.3934693402873666, 0.7768698398515702, 0.6321205588285577, 0.6321205588285577, 0.3934693402873666, 0.3934693402873666, 0.6321205588285577, 0.6321205588285577, 0.7768698398515702, 0.6321205588285577, 0.6321205588285577, 0.7768698398515702, 0.7768698398515702, 0.7768698398515702, 0.7768698398515702]\n",
            "Media de falhas:  [0, 1.0, 45301.49293733519, 58736.21325361663, 370634.3029782525, 455589.1611114708, 46032175.596400656, 161360972.06079614, 1329564293.115014, 1423561303.6677167, 1513486262.6222503, 1566673174.6022785, 1612072235.161137, 1739716577.375301, 1815190007.7375104, 1866496957.7299507, 1913654089.3431008, 1880400673.0705054]\n",
            "Custo =  167171545395.0666\n",
            "\n",
            "=========================================================================\n",
            "\n",
            "Número de ciclos de manutenção: 15 2\n",
            "Tempos para manutenções preventivas: [0, 6, 46, 65, 130, 242, 364, 410, 477, 484, 513, 540, 595, 612, 642, 716]\n",
            "Severidade para cada subsistema: [0.75, 0.25, 0.75, 0.5, 0.25, 0.25, 0.25, 0.5, 0.5, 0.75, 0.5, 0.5, 0.25, 0.75, 0.75]\n",
            "Número de Sisemas: 2\n",
            "Fator:  [0.8646647167633873, 0.7768698398515702, 0.3934693402873666, 0.7768698398515702, 0.6321205588285577, 0.3934693402873666, 0.3934693402873666, 0.3934693402873666, 0.6321205588285577, 0.6321205588285577, 0.7768698398515702, 0.6321205588285577, 0.6321205588285577, 0.3934693402873666, 0.7768698398515702, 0.7768698398515702]\n",
            "Media de falhas:  [0, 2.4883200000000003, 36234.29490944129, 43065.639644452705, 3985984.076450318, 21817657.619286165, 153945862.20463997, 418503600.8893769, 1117338107.7663145, 1199698067.5835438, 1264207838.3449852, 1337095537.2976346, 1382230658.6052423, 1455151774.2426867, 1616028186.997887, 5588740173.908787, 5555486757.636191]\n",
            "Custo =  394480531866.041\n",
            "\n",
            "=========================================================================\n",
            "\n",
            "Número de ciclos de manutenção: 13 2\n",
            "Tempos para manutenções preventivas: [0, 6, 47, 62, 90, 144, 178, 273, 378, 482, 592, 614, 644, 698]\n",
            "Severidade para cada subsistema: [0.75, 0.25, 0.75, 0.5, 0.5, 0.5, 0.5, 0.25, 0.5, 0.5, 0.5, 0.75, 0.5]\n",
            "Número de Sisemas: 2\n",
            "Fator:  [0.8646647167633873, 0.7768698398515702, 0.3934693402873666, 0.7768698398515702, 0.6321205588285577, 0.6321205588285577, 0.6321205588285577, 0.6321205588285577, 0.3934693402873666, 0.6321205588285577, 0.6321205588285577, 0.6321205588285577, 0.7768698398515702, 0.6321205588285577]\n",
            "Media de falhas:  [0, 2.4883200000000003, 40896.08349048313, 44297.038465503254, 409126.9330318796, 1122093.1669937472, 2581214.141644859, 36259406.73854232, 150069320.5740738, 404888439.90281236, 3095629868.820654, 3192514254.2599525, 3355363651.6128864, 3783293314.235592, 3754175088.675619]\n",
            "Custo =  185896605768.0564\n",
            "\n",
            "=========================================================================\n",
            "\n",
            "Número de ciclos de manutenção: 13 2\n",
            "Tempos para manutenções preventivas: [0, 48, 64, 93, 143, 241, 281, 348, 387, 404, 510, 589, 644, 699]\n",
            "Severidade para cada subsistema: [0.25, 0.75, 0.5, 0.5, 0.25, 0.5, 0.5, 0.25, 0.5, 0.75, 0.5, 0.75, 0.25]\n",
            "Número de Sisemas: 2\n",
            "Fator:  [0.8646647167633873, 0.3934693402873666, 0.7768698398515702, 0.6321205588285577, 0.6321205588285577, 0.3934693402873666, 0.6321205588285577, 0.6321205588285577, 0.3934693402873666, 0.6321205588285577, 0.7768698398515702, 0.6321205588285577, 0.7768698398515702, 0.3934693402873666]\n",
            "Media de falhas:  [0, 81537.26976000001, 83377.24790975646, 514237.50328956, 1080310.5713655266, 25746847.34245786, 35274984.68063223, 230731533.79940355, 261319823.50457984, 275501322.8349349, 1698584749.2269683, 2055315679.1349518, 2114822832.6506817, 2554291446.4280577, 2524949109.5850773]\n",
            "Custo =  129452996817.55656\n",
            "\n",
            "=========================================================================\n",
            "\n",
            "Número de ciclos de manutenção: 15 2\n",
            "Tempos para manutenções preventivas: [0, 50, 68, 94, 121, 153, 252, 278, 331, 389, 393, 512, 589, 606, 643, 676]\n",
            "Severidade para cada subsistema: [0.25, 0.75, 0.5, 0.5, 0.75, 0.25, 0.5, 0.5, 0.25, 0.5, 0.75, 0.5, 0.25, 0.75, 0.25]\n",
            "Número de Sisemas: 2\n",
            "Fator:  [0.8646647167633873, 0.3934693402873666, 0.7768698398515702, 0.6321205588285577, 0.6321205588285577, 0.7768698398515702, 0.3934693402873666, 0.6321205588285577, 0.6321205588285577, 0.3934693402873666, 0.6321205588285577, 0.7768698398515702, 0.6321205588285577, 0.3934693402873666, 0.7768698398515702, 0.3934693402873666]\n",
            "Media de falhas:  [0, 100000.00000000001, 102977.38229855495, 504753.9361127288, 584773.692289575, 1367995.4858751423, 30081062.05211471, 31104209.54649418, 158549966.5673618, 210060855.14301795, 212899268.8401093, 1831823615.6348014, 2176959445.184846, 2187462806.267856, 2390977278.792312, 3837421606.5002685, 3813187974.1022043]\n",
            "Custo =  290928944191.0802\n",
            "\n",
            "=========================================================================\n",
            "\n",
            "Número de ciclos de manutenção: 13 2\n",
            "Tempos para manutenções preventivas: [0, 50, 76, 95, 238, 262, 272, 313, 385, 515, 540, 588, 640, 700]\n",
            "Severidade para cada subsistema: [0.25, 0.75, 0.5, 0.5, 0.25, 0.5, 0.75, 0.25, 0.75, 0.5, 0.5, 0.75, 0.25]\n",
            "Número de Sisemas: 2\n",
            "Fator:  [0.8646647167633873, 0.3934693402873666, 0.7768698398515702, 0.6321205588285577, 0.6321205588285577, 0.3934693402873666, 0.6321205588285577, 0.7768698398515702, 0.3934693402873666, 0.7768698398515702, 0.6321205588285577, 0.6321205588285577, 0.7768698398515702, 0.3934693402873666]\n",
            "Media de falhas:  [0, 100000.00000000001, 112082.43865607913, 419533.7396072091, 38610911.43289147, 42492830.70865561, 44191515.19494525, 123725681.34178767, 190709127.8103913, 339341051.06690794, 786175665.9559983, 821502497.8979452, 1114949046.954468, 1603741465.44563, 1574174522.5663762]\n",
            "Custo =  149302453004.98993\n",
            "\n",
            "=========================================================================\n",
            "\n",
            "Número de ciclos de manutenção: 13 2\n",
            "Tempos para manutenções preventivas: [0, 20, 50, 85, 98, 239, 269, 321, 384, 517, 542, 590, 637, 661]\n",
            "Severidade para cada subsistema: [0.5, 0.25, 0.75, 0.5, 0.5, 0.25, 0.75, 0.25, 0.75, 0.5, 0.5, 0.75, 0.25]\n",
            "Número de Sisemas: 2\n",
            "Fator:  [0.8646647167633873, 0.6321205588285577, 0.3934693402873666, 0.7768698398515702, 0.6321205588285577, 0.6321205588285577, 0.3934693402873666, 0.7768698398515702, 0.3934693402873666, 0.7768698398515702, 0.6321205588285577, 0.6321205588285577, 0.7768698398515702, 0.3934693402873666]\n",
            "Media de falhas:  [0, 1024.0, 13000.56582462034, 151197.6319987205, 393407.8116697951, 37061917.32889404, 42677560.61336963, 64727860.94850174, 338860381.37031907, 497417645.51368904, 950953830.093921, 986707556.6185008, 1243303953.086539, 1385380411.0214696, 1364595986.0347342]\n",
            "Custo =  148176754157.37875\n",
            "\n",
            "=========================================================================\n",
            "\n",
            "Número de ciclos de manutenção: 15 2\n",
            "Tempos para manutenções preventivas: [0, 16, 49, 100, 155, 266, 273, 303, 341, 384, 513, 542, 592, 635, 681, 714]\n",
            "Severidade para cada subsistema: [0.5, 0.25, 0.5, 0.5, 0.25, 0.5, 0.75, 0.5, 0.25, 0.75, 0.5, 0.5, 0.75, 0.25, 0.5]\n",
            "Número de Sisemas: 2\n",
            "Fator:  [0.8646647167633873, 0.6321205588285577, 0.3934693402873666, 0.6321205588285577, 0.6321205588285577, 0.3934693402873666, 0.6321205588285577, 0.7768698398515702, 0.6321205588285577, 0.3934693402873666, 0.7768698398515702, 0.6321205588285577, 0.6321205588285577, 0.7768698398515702, 0.3934693402873666, 0.6321205588285577]\n",
            "Media de falhas:  [0, 335.54432, 17543.338887915448, 518371.3407244303, 6876884.46712545, 49536057.54529649, 50720869.23574805, 102470057.27926385, 120835069.36655074, 127683436.60737789, 571109683.6012343, 1095002593.7251954, 1133425188.9626408, 1362622503.8772774, 1686854611.7469306, 1730185477.520392, -2085919654.213221]\n",
            "Custo =  289938279384.86426\n",
            "\n",
            "=========================================================================\n",
            "\n",
            "Número de ciclos de manutenção: 12 2\n",
            "Tempos para manutenções preventivas: [0, 25, 48, 102, 152, 252, 274, 355, 384, 542, 588, 612, 635]\n",
            "Severidade para cada subsistema: [0.5, 0.25, 0.5, 0.5, 0.25, 0.5, 0.5, 0.25, 0.5, 0.5, 0.25, 0.75]\n",
            "Número de Sisemas: 2\n",
            "Fator:  [0.8646647167633873, 0.6321205588285577, 0.3934693402873666, 0.6321205588285577, 0.6321205588285577, 0.3934693402873666, 0.6321205588285577, 0.6321205588285577, 0.3934693402873666, 0.6321205588285577, 0.6321205588285577, 0.3934693402873666, 0.7768698398515702]\n",
            "Media de falhas:  [0, 3125.0000000000005, 7215.60222691606, 611282.5090297067, 5927141.055906176, 35238936.387862936, 39402129.05444306, 294160030.5561358, 315137417.34733087, 1065264895.3556831, 2201485402.55847, 2306402956.873152, 2422351064.0615005, 1394628245.207589]\n",
            "Custo =  290772248589.93335\n",
            "\n",
            "=========================================================================\n",
            "\n",
            "Número de ciclos de manutenção: 13 2\n",
            "Tempos para manutenções preventivas: [0, 47, 88, 99, 148, 153, 241, 277, 359, 378, 541, 583, 638, 695]\n",
            "Severidade para cada subsistema: [0.25, 0.75, 0.5, 0.25, 0.5, 0.25, 0.5, 0.5, 0.25, 0.5, 0.5, 0.75, 0.75]\n",
            "Número de Sisemas: 2\n",
            "Fator:  [0.8646647167633873, 0.3934693402873666, 0.7768698398515702, 0.6321205588285577, 0.3934693402873666, 0.6321205588285577, 0.3934693402873666, 0.6321205588285577, 0.6321205588285577, 0.3934693402873666, 0.6321205588285577, 0.6321205588285577, 0.7768698398515702, 0.7768698398515702]\n",
            "Media de falhas:  [0, 73390.40224000001, 149637.66155710293, 364791.3402906662, 944125.5101898661, 1028579.2376431114, 60646790.100977466, 68526992.8590602, 338246835.697891, 350567620.92224634, 1138574108.0632925, 2144267481.5126996, 2453756915.791833, 2901741436.2208323, 2873292927.9392977]\n",
            "Custo =  189804760465.7734\n",
            "\n",
            "=========================================================================\n",
            "\n",
            "Número de ciclos de manutenção: 13 2\n",
            "Tempos para manutenções preventivas: [0, 13, 47, 79, 95, 140, 277, 358, 378, 480, 540, 581, 642, 695]\n",
            "Severidade para cada subsistema: [0.75, 0.25, 0.75, 0.5, 0.25, 0.5, 0.5, 0.25, 0.5, 0.5, 0.5, 0.75, 0.75]\n",
            "Número de Sisemas: 2\n",
            "Fator:  [0.8646647167633873, 0.7768698398515702, 0.3934693402873666, 0.7768698398515702, 0.6321205588285577, 0.3934693402873666, 0.6321205588285577, 0.6321205588285577, 0.3934693402873666, 0.6321205588285577, 0.6321205588285577, 0.6321205588285577, 0.7768698398515702, 0.7768698398515702]\n",
            "Media de falhas:  [0, 118.81376000000002, 18829.876728978048, 63092.61033549598, 323613.3132460022, 729018.1140546328, 76775822.3991063, 340294571.6965184, 353324626.3664555, 597157592.7213868, 1635980702.0669916, 1789955440.087482, 2148102386.9107227, 2560062123.276843, 2531613614.9953084]\n",
            "Custo =  167561621552.06403\n",
            "\n",
            "=========================================================================\n",
            "\n",
            "Número de ciclos de manutenção: 13 2\n",
            "Tempos para manutenções preventivas: [0, 23, 48, 73, 92, 241, 311, 355, 383, 413, 482, 583, 643, 705]\n",
            "Severidade para cada subsistema: [0.75, 0.25, 0.75, 0.5, 0.25, 0.5, 0.5, 0.25, 0.25, 0.5, 0.5, 0.75, 0.5]\n",
            "Número de Sisemas: 2\n",
            "Fator:  [0.8646647167633873, 0.7768698398515702, 0.3934693402873666, 0.7768698398515702, 0.6321205588285577, 0.3934693402873666, 0.6321205588285577, 0.6321205588285577, 0.3934693402873666, 0.3934693402873666, 0.6321205588285577, 0.6321205588285577, 0.7768698398515702, 0.6321205588285577]\n",
            "Media de falhas:  [0, 2059.6297600000003, 7678.596108490523, 26216.43338782194, 296379.00308916986, 45103345.34137265, 75522032.42838481, 217116442.4712177, 237068699.7777962, 265947315.3119256, 1015659747.9556074, 3345539012.1705284, 3698807977.067754, 4220760706.733695, 4190062148.593418]\n",
            "Custo =  216704346709.57074\n",
            "\n",
            "=========================================================================\n",
            "\n",
            "Número de ciclos de manutenção: 11 2\n",
            "Tempos para manutenções preventivas: [0, 18, 48, 71, 92, 121, 203, 252, 348, 482, 587, 643]\n",
            "Severidade para cada subsistema: [0.75, 0.25, 0.75, 0.5, 0.5, 0.75, 0.25, 0.5, 0.5, 0.5, 0.75]\n",
            "Número de Sisemas: 2\n",
            "Fator:  [0.8646647167633873, 0.7768698398515702, 0.3934693402873666, 0.7768698398515702, 0.6321205588285577, 0.6321205588285577, 0.7768698398515702, 0.3934693402873666, 0.6321205588285577, 0.6321205588285577, 0.6321205588285577, 0.7768698398515702]\n",
            "Media de falhas:  [0, 604.6617600000001, 12093.807779490686, 25978.985980993013, 323897.0341425166, 418098.57861114945, 10733464.968209147, 19250774.237478983, 45230691.25338241, 1476846617.370813, 1994660695.3039165, 2320337649.040753, 2170257657.8403683]\n",
            "Custo =  102039421514.38962\n",
            "\n",
            "=========================================================================\n",
            "\n",
            "Número de ciclos de manutenção: 16 2\n",
            "Tempos para manutenções preventivas: [0, 8, 49, 75, 95, 131, 194, 261, 340, 395, 480, 510, 596, 609, 641, 675, 698]\n",
            "Severidade para cada subsistema: [0.75, 0.25, 0.75, 0.5, 0.5, 0.5, 0.25, 0.5, 0.5, 0.5, 0.75, 0.5, 0.25, 0.75, 0.25, 0.25]\n",
            "Número de Sisemas: 2\n",
            "Fator:  [0.8646647167633873, 0.7768698398515702, 0.3934693402873666, 0.7768698398515702, 0.6321205588285577, 0.6321205588285577, 0.6321205588285577, 0.3934693402873666, 0.6321205588285577, 0.6321205588285577, 0.6321205588285577, 0.7768698398515702, 0.6321205588285577, 0.3934693402873666, 0.7768698398515702, 0.3934693402873666, 0.3934693402873666]\n",
            "Media de falhas:  [0, 10.48576, 42244.95481394451, 64185.96772514523, 387347.25667753804, 581875.8074161626, 5937726.3172065485, 21575953.287519082, 71511204.20725636, 341376539.88959205, 528008941.77765507, 593466031.0283552, 1009842949.7613748, 1017750883.6413028, 1189240553.036068, 2669404612.976681, 2695077158.922254, -490240459.2401447]\n",
            "Custo =  392883171352.51245\n"
          ]
        },
        {
          "output_type": "stream",
          "name": "stderr",
          "text": [
            "pyswarms.single.global_best:  61%|██████    |61/100, best_cost=6.05e+10"
          ]
        },
        {
          "output_type": "stream",
          "name": "stdout",
          "text": [
            "\n",
            "=========================================================================\n",
            "\n",
            "Número de ciclos de manutenção: 12 2\n",
            "Tempos para manutenções preventivas: [0, 49, 78, 98, 139, 152, 198, 268, 334, 540, 639, 663, 706]\n",
            "Severidade para cada subsistema: [0.25, 0.75, 0.5, 0.5, 0.5, 0.25, 0.25, 0.5, 0.5, 0.75, 0.25, 0.25]\n",
            "Número de Sisemas: 2\n",
            "Fator:  [0.8646647167633873, 0.3934693402873666, 0.7768698398515702, 0.6321205588285577, 0.6321205588285577, 0.6321205588285577, 0.3934693402873666, 0.3934693402873666, 0.6321205588285577, 0.6321205588285577, 0.7768698398515702, 0.3934693402873666, 0.3934693402873666]\n",
            "Media de falhas:  [0, 90392.07968000001, 108766.73439947092, 475036.67314698175, 787672.3327573065, 1023035.7041895415, 4366916.912104386, 22739117.260053657, 185976931.91763222, 3720491795.3089337, 4369168186.53399, 4512945623.033879, 4571477304.920821, 1075621334.127162]\n",
            "Custo =  267587213167.43317\n",
            "\n",
            "=========================================================================\n",
            "\n",
            "Número de ciclos de manutenção: 13 2\n",
            "Tempos para manutenções preventivas: [0, 27, 50, 81, 97, 145, 164, 277, 336, 388, 514, 540, 636, 669]\n",
            "Severidade para cada subsistema: [0.5, 0.25, 0.75, 0.5, 0.5, 0.5, 0.5, 0.5, 0.25, 0.75, 0.5, 0.75, 0.25]\n",
            "Número de Sisemas: 2\n",
            "Fator:  [0.8646647167633873, 0.6321205588285577, 0.3934693402873666, 0.7768698398515702, 0.6321205588285577, 0.6321205588285577, 0.6321205588285577, 0.6321205588285577, 0.6321205588285577, 0.3934693402873666, 0.7768698398515702, 0.6321205588285577, 0.7768698398515702, 0.3934693402873666]\n",
            "Media de falhas:  [0, 4591.65024, 8896.373170397372, 102307.43716093464, 385710.92081115197, 908463.2821123346, 1404302.3718048, 51214929.37363155, 82210327.29347965, 126416509.85669594, 555984133.5851794, 1020195689.3044212, 1164243625.1166499, 1373857814.5772667, 1351206809.774749]\n",
            "Custo =  125274460349.5866\n",
            "\n",
            "=========================================================================\n",
            "\n",
            "Número de ciclos de manutenção: 17 2\n",
            "Tempos para manutenções preventivas: [0, 23, 49, 82, 95, 129, 181, 267, 288, 315, 343, 378, 399, 522, 541, 634, 687, 704]\n",
            "Severidade para cada subsistema: [0.5, 0.25, 0.75, 0.5, 0.5, 0.25, 0.25, 0.5, 0.5, 0.5, 0.25, 0.25, 0.75, 0.5, 0.75, 0.25, 0.5]\n",
            "Número de Sisemas: 2\n",
            "Fator:  [0.8646647167633873, 0.6321205588285577, 0.3934693402873666, 0.7768698398515702, 0.6321205588285577, 0.6321205588285577, 0.3934693402873666, 0.3934693402873666, 0.6321205588285577, 0.6321205588285577, 0.6321205588285577, 0.3934693402873666, 0.3934693402873666, 0.7768698398515702, 0.6321205588285577, 0.7768698398515702, 0.3934693402873666, 0.6321205588285577]\n",
            "Media de falhas:  [0, 2059.6297600000003, 8751.6492063435, 118833.39651298856, 332419.556278373, 495011.5018673487, 3531959.4698824277, 29581392.879006423, 59513554.9031291, 114244750.54113194, 127290291.0948248, 151866866.52099013, 168843252.1987092, 1976446972.8486357, 2320845511.048184, 2455305560.8979383, 2849290376.6864653, 2868030464.1039543, -549298650.7566099]\n",
            "Custo =  325912395274.23315\n",
            "\n",
            "=========================================================================\n",
            "\n",
            "Número de ciclos de manutenção: 13 2\n",
            "Tempos para manutenções preventivas: [0, 48, 82, 94, 126, 252, 296, 357, 365, 524, 541, 591, 615, 635]\n",
            "Severidade para cada subsistema: [0.25, 0.75, 0.5, 0.5, 0.25, 0.5, 0.5, 0.25, 0.75, 0.5, 0.5, 0.75, 0.75]\n",
            "Número de Sisemas: 2\n",
            "Fator:  [0.8646647167633873, 0.3934693402873666, 0.7768698398515702, 0.6321205588285577, 0.6321205588285577, 0.3934693402873666, 0.6321205588285577, 0.6321205588285577, 0.3934693402873666, 0.7768698398515702, 0.6321205588285577, 0.6321205588285577, 0.7768698398515702, 0.7768698398515702]\n",
            "Media de falhas:  [0, 81537.26976000001, 116384.59943620602, 305964.2414615747, 438162.9241135592, 49037499.47939213, 62124846.67654963, 260085218.7135551, 264386348.05819726, 944694769.3936675, 1253541950.227725, 1291736624.2705836, 1398691927.0470417, 1498728901.2549422, 1484878934.412489]\n",
            "Custo =  150211090605.78345\n",
            "\n",
            "=========================================================================\n",
            "\n",
            "Número de ciclos de manutenção: 12 2\n",
            "Tempos para manutenções preventivas: [0, 47, 78, 92, 137, 289, 390, 524, 540, 576, 609, 638, 683]\n",
            "Severidade para cada subsistema: [0.25, 0.75, 0.5, 0.5, 0.5, 0.25, 0.75, 0.5, 0.5, 0.75, 0.75, 0.5]\n",
            "Número de Sisemas: 2\n",
            "Fator:  [0.8646647167633873, 0.3934693402873666, 0.7768698398515702, 0.6321205588285577, 0.6321205588285577, 0.6321205588285577, 0.3934693402873666, 0.7768698398515702, 0.6321205588285577, 0.6321205588285577, 0.7768698398515702, 0.7768698398515702, 0.6321205588285577]\n",
            "Media de falhas:  [0, 73390.40224000001, 96680.22930872964, 298036.9971852297, 683489.9648053446, 109271279.88602589, 227478149.27563387, 734348900.1621505, 1023207494.1433216, 1045113053.5260453, 1190297235.7463894, 1341636403.319638, 1396803094.8464756, 1371012784.7214015]\n",
            "Custo =  142038212607.35583\n",
            "\n",
            "=========================================================================\n",
            "\n",
            "Número de ciclos de manutenção: 10 2\n",
            "Tempos para manutenções preventivas: [0, 3, 47, 74, 95, 359, 402, 516, 540, 641, 688]\n",
            "Severidade para cada subsistema: [0.75, 0.25, 0.75, 0.5, 0.5, 0.25, 0.75, 0.5, 0.75, 0.5]\n",
            "Número de Sisemas: 2\n",
            "Fator:  [0.8646647167633873, 0.7768698398515702, 0.3934693402873666, 0.7768698398515702, 0.6321205588285577, 0.6321205588285577, 0.3934693402873666, 0.7768698398515702, 0.6321205588285577, 0.7768698398515702, 0.6321205588285577]\n",
            "Media de falhas:  [0, 0.07776000000000001, 55253.41795908185, 78902.56267069431, 417830.5015666442, 604194792.9375007, 643962569.9638656, 1015532953.6079619, 1444956915.1560993, 1607408442.2727513, 1953014345.974101, 1926118078.324173]\n",
            "Custo =  134598320922.27846\n",
            "\n",
            "=========================================================================\n",
            "\n",
            "Número de ciclos de manutenção: 13 2\n",
            "Tempos para manutenções preventivas: [0, 10, 47, 73, 98, 179, 308, 358, 418, 480, 512, 618, 641, 665]\n",
            "Severidade para cada subsistema: [0.75, 0.25, 0.75, 0.5, 0.5, 0.25, 0.5, 0.25, 0.5, 0.75, 0.5, 0.75, 0.5]\n",
            "Número de Sisemas: 2\n",
            "Fator:  [0.8646647167633873, 0.7768698398515702, 0.3934693402873666, 0.7768698398515702, 0.6321205588285577, 0.6321205588285577, 0.3934693402873666, 0.6321205588285577, 0.3934693402873666, 0.6321205588285577, 0.7768698398515702, 0.6321205588285577, 0.7768698398515702, 0.6321205588285577]\n",
            "Media de falhas:  [0, 32.0, 26588.24296578941, 47241.809669128736, 503395.4587058356, 4187539.8526113536, 93669998.9812071, 124861975.59162945, 493552159.60433555, 615710178.2272129, 1073785674.077889, 1705057116.8030546, 1723605460.9818609, 1869099115.9764566, 1847371803.179408]\n",
            "Custo =  147884305879.5615\n",
            "\n",
            "=========================================================================\n",
            "\n",
            "Número de ciclos de manutenção: 14 2\n",
            "Tempos para manutenções preventivas: [0, 5, 48, 74, 99, 143, 202, 243, 345, 370, 480, 511, 587, 641, 699]\n",
            "Severidade para cada subsistema: [0.75, 0.25, 0.75, 0.5, 0.5, 0.5, 0.25, 0.5, 0.25, 0.5, 0.75, 0.5, 0.75, 0.75]\n",
            "Número de Sisemas: 2\n",
            "Fator:  [0.8646647167633873, 0.7768698398515702, 0.3934693402873666, 0.7768698398515702, 0.6321205588285577, 0.6321205588285577, 0.6321205588285577, 0.3934693402873666, 0.6321205588285577, 0.3934693402873666, 0.6321205588285577, 0.7768698398515702, 0.6321205588285577, 0.7768698398515702, 0.7768698398515702]\n",
            "Media de falhas:  [0, 1.0, 50863.52240340991, 72153.1259853756, 547220.6222720491, 949020.2575640044, 6361272.003578168, 12160139.648418628, 92519589.51403543, 189859437.67419693, 463871971.77370393, 904610766.6839976, 1239744790.799467, 1296711616.4827979, 1764012267.4665446, 1734669930.6235645]\n",
            "Custo =  141884143778.44003\n",
            "\n",
            "=========================================================================\n",
            "\n",
            "Número de ciclos de manutenção: 12 2\n",
            "Tempos para manutenções preventivas: [0, 49, 78, 96, 256, 389, 480, 512, 540, 625, 640, 667, 697]\n",
            "Severidade para cada subsistema: [0.25, 0.75, 0.5, 0.25, 0.25, 0.5, 0.75, 0.5, 0.25, 0.75, 0.25, 0.75]\n",
            "Número de Sisemas: 2\n",
            "Fator:  [0.8646647167633873, 0.3934693402873666, 0.7768698398515702, 0.6321205588285577, 0.3934693402873666, 0.3934693402873666, 0.6321205588285577, 0.7768698398515702, 0.6321205588285577, 0.3934693402873666, 0.7768698398515702, 0.3934693402873666, 0.7768698398515702]\n",
            "Media de falhas:  [0, 90392.07968000001, 108766.73439947092, 413142.80133010336, 63301717.93051219, 254561210.8841692, 1215934889.415961, 1674010385.266637, 1749844978.9115584, 1858966631.1701367, 1935381949.7880871, 3062535467.4040685, 3097693046.264933, -49467051.11309719]\n",
            "Custo =  444718804757.1673\n",
            "\n",
            "=========================================================================\n",
            "\n",
            "Número de ciclos de manutenção: 12 2\n",
            "Tempos para manutenções preventivas: [0, 49, 78, 93, 145, 265, 519, 540, 571, 617, 638, 660, 701]\n",
            "Severidade para cada subsistema: [0.25, 0.75, 0.5, 0.25, 0.25, 0.75, 0.5, 0.75, 0.25, 0.75, 0.25, 0.75]\n",
            "Número de Sisemas: 2\n",
            "Fator:  [0.8646647167633873, 0.3934693402873666, 0.7768698398515702, 0.6321205588285577, 0.3934693402873666, 0.3934693402873666, 0.7768698398515702, 0.6321205588285577, 0.7768698398515702, 0.3934693402873666, 0.7768698398515702, 0.3934693402873666, 0.7768698398515702]\n",
            "Media de falhas:  [0, 90392.07968000001, 108766.73439947092, 333479.299137479, 984398.6925178256, 50927484.27640994, 3942873042.6893835, 4319857244.803254, 4337261978.710085, 4558637011.701223, 4574995303.293794, 5459280054.567228, 5512800143.963968, 2212139229.9895473]\n",
            "Custo =  456213077168.35767\n",
            "\n",
            "=========================================================================\n",
            "\n",
            "Número de ciclos de manutenção: 14 2\n",
            "Tempos para manutenções preventivas: [0, 19, 49, 76, 92, 146, 269, 277, 322, 410, 522, 540, 610, 636, 673]\n",
            "Severidade para cada subsistema: [0.5, 0.25, 0.75, 0.5, 0.25, 0.25, 0.5, 0.5, 0.25, 0.75, 0.5, 0.25, 0.75, 0.25]\n",
            "Número de Sisemas: 2\n",
            "Fator:  [0.8646647167633873, 0.6321205588285577, 0.3934693402873666, 0.7768698398515702, 0.6321205588285577, 0.3934693402873666, 0.3934693402873666, 0.6321205588285577, 0.6321205588285577, 0.3934693402873666, 0.7768698398515702, 0.6321205588285577, 0.3934693402873666, 0.7768698398515702, 0.3934693402873666]\n",
            "Media de falhas:  [0, 792.3516800000001, 12523.1833254175, 71134.51858978724, 299980.4121789681, 1034591.5479381977, 56030762.76914457, 66035432.110139094, 163525559.38877442, 276094611.2576473, 652469997.0345917, 976691084.0067003, 1048827231.7608624, 1181768831.542268, 2769410589.8036623, 2745850927.3517594]\n",
            "Custo =  303689051045.81714\n",
            "\n",
            "=========================================================================\n",
            "\n",
            "Número de ciclos de manutenção: 12 2\n",
            "Tempos para manutenções preventivas: [0, 22, 48, 74, 92, 177, 260, 282, 402, 520, 540, 610, 635]\n",
            "Severidade para cada subsistema: [0.5, 0.25, 0.75, 0.5, 0.5, 0.25, 0.5, 0.25, 0.75, 0.5, 0.25, 0.75]\n",
            "Número de Sisemas: 2\n",
            "Fator:  [0.8646647167633873, 0.6321205588285577, 0.3934693402873666, 0.7768698398515702, 0.6321205588285577, 0.6321205588285577, 0.3934693402873666, 0.6321205588285577, 0.3934693402873666, 0.7768698398515702, 0.6321205588285577, 0.3934693402873666, 0.7768698398515702]\n",
            "Media de falhas:  [0, 1649.16224, 8187.092784145898, 58392.80788462051, 314754.11583545856, 4501407.515486133, 26937612.737997893, 31588301.171789773, 652973261.4926841, 1055582477.2452886, 1415015645.0327482, 1487151792.7869103, 1613852691.4456184, 586129872.5917068]\n",
            "Custo =  250285343504.9439\n",
            "\n",
            "=========================================================================\n",
            "\n",
            "Número de ciclos de manutenção: 15 2\n",
            "Tempos para manutenções preventivas: [0, 48, 72, 144, 172, 250, 273, 300, 333, 387, 395, 519, 540, 582, 635, 692]\n",
            "Severidade para cada subsistema: [0.25, 0.75, 0.5, 0.5, 0.25, 0.5, 0.25, 0.5, 0.25, 0.25, 0.75, 0.5, 0.5, 0.75, 0.25]\n",
            "Número de Sisemas: 2\n",
            "Fator:  [0.8646647167633873, 0.3934693402873666, 0.7768698398515702, 0.6321205588285577, 0.6321205588285577, 0.3934693402873666, 0.6321205588285577, 0.3934693402873666, 0.6321205588285577, 0.3934693402873666, 0.3934693402873666, 0.7768698398515702, 0.6321205588285577, 0.6321205588285577, 0.7768698398515702, 0.3934693402873666]\n",
            "Media de falhas:  [0, 81537.26976000001, 89974.12362323792, 6665242.63009208, 6905838.990739623, 24589887.915808387, 28912192.57266064, 73849893.47685812, 87990207.74195676, 332104095.2830755, 337987906.3906349, 2118455486.5941358, 2495439688.708007, 2523561311.0707674, 2814662248.734729, 3255265598.194489, 3227483655.2769556]\n",
            "Custo =  217478804876.883\n",
            "\n",
            "=========================================================================\n",
            "\n",
            "Número de ciclos de manutenção: 13 2\n",
            "Tempos para manutenções preventivas: [0, 1, 48, 70, 92, 161, 241, 346, 386, 399, 516, 540, 621, 638]\n",
            "Severidade para cada subsistema: [0.75, 0.25, 0.75, 0.5, 0.5, 0.25, 0.5, 0.25, 0.25, 0.75, 0.5, 0.5, 0.75]\n",
            "Número de Sisemas: 2\n",
            "Fator:  [0.8646647167633873, 0.7768698398515702, 0.3934693402873666, 0.7768698398515702, 0.6321205588285577, 0.6321205588285577, 0.3934693402873666, 0.6321205588285577, 0.3934693402873666, 0.3934693402873666, 0.7768698398515702, 0.6321205588285577, 0.6321205588285577, 0.7768698398515702]\n",
            "Media de falhas:  [0, 0.00032, 74453.13399405743, 86391.13585065608, 398289.22557529196, 2237656.4598780754, 18745827.097185094, 104157032.3686693, 285525609.63531077, 295679851.81233335, 1938394195.8150501, 2367818157.363188, 2465963948.473046, 2551931614.863629, 2418255577.5926886]\n",
            "Custo =  192389656356.5962\n",
            "\n",
            "=========================================================================\n",
            "\n",
            "Número de ciclos de manutenção: 13 2\n",
            "Tempos para manutenções preventivas: [0, 11, 48, 73, 96, 152, 357, 378, 407, 516, 540, 609, 641, 693]\n",
            "Severidade para cada subsistema: [0.75, 0.25, 0.75, 0.5, 0.5, 0.5, 0.25, 0.25, 0.75, 0.5, 0.75, 0.75, 0.25]\n",
            "Número de Sisemas: 2\n",
            "Fator:  [0.8646647167633873, 0.7768698398515702, 0.3934693402873666, 0.7768698398515702, 0.6321205588285577, 0.6321205588285577, 0.6321205588285577, 0.3934693402873666, 0.3934693402873666, 0.7768698398515702, 0.6321205588285577, 0.7768698398515702, 0.7768698398515702, 0.3934693402873666]\n",
            "Media de falhas:  [0, 51.53632, 27079.634196742627, 45617.471476074046, 432200.26779434725, 1320838.526683298, 388107147.00475216, 401853420.3820361, 428113487.43749726, 1960901340.9798312, 2390325302.527969, 2460376711.772575, 2631866381.1673403, 2702998980.740741, 2674995136.183799]\n",
            "Custo =  173917202118.89554\n",
            "\n",
            "=========================================================================\n",
            "\n",
            "Número de ciclos de manutenção: 14 2\n",
            "Tempos para manutenções preventivas: [0, 10, 48, 77, 100, 140, 373, 418, 480, 518, 540, 588, 628, 643, 696]\n",
            "Severidade para cada subsistema: [0.75, 0.25, 0.75, 0.5, 0.5, 0.25, 0.25, 0.5, 0.75, 0.5, 0.5, 0.75, 0.75, 0.5]\n",
            "Número de Sisemas: 2\n",
            "Fator:  [0.8646647167633873, 0.7768698398515702, 0.3934693402873666, 0.7768698398515702, 0.6321205588285577, 0.6321205588285577, 0.3934693402873666, 0.3934693402873666, 0.6321205588285577, 0.7768698398515702, 0.6321205588285577, 0.6321205588285577, 0.7768698398515702, 0.7768698398515702, 0.6321205588285577]\n",
            "Media de falhas:  [0, 32.0, 30235.59611355827, 61788.743820293705, 517194.70309914695, 816062.8089197942, 597165367.018354, 645884097.0698047, 1311501743.3312721, 1878203004.4132724, 1936648822.9127061, 1971975654.854653, 2174423448.937273, 2252268100.9395275, 2326497707.483704, 2297826360.212346]\n",
            "Custo =  178651426575.9888\n",
            "\n",
            "=========================================================================\n",
            "\n",
            "Número de ciclos de manutenção: 11 2\n",
            "Tempos para manutenções preventivas: [0, 1, 48, 78, 102, 128, 243, 368, 516, 540, 611, 644]\n",
            "Severidade para cada subsistema: [0.75, 0.25, 0.75, 0.5, 0.5, 0.25, 0.25, 0.75, 0.5, 0.75, 0.75]\n",
            "Número de Sisemas: 2\n",
            "Fator:  [0.8646647167633873, 0.7768698398515702, 0.3934693402873666, 0.7768698398515702, 0.6321205588285577, 0.6321205588285577, 0.3934693402873666, 0.3934693402873666, 0.7768698398515702, 0.6321205588285577, 0.7768698398515702, 0.7768698398515702]\n",
            "Media de falhas:  [0, 0.00032, 74453.13399405743, 110190.37402181703, 624395.3441664339, 710634.6950544241, 36438931.335475996, 179562732.27438718, 2257609945.7522745, 2687033907.300412, 2761299032.478728, 2941901486.1600423, 2925447939.049778]\n",
            "Custo =  161237800811.15594\n"
          ]
        },
        {
          "output_type": "stream",
          "name": "stderr",
          "text": [
            "pyswarms.single.global_best:  79%|███████▉  |79/100, best_cost=6.05e+10"
          ]
        },
        {
          "output_type": "stream",
          "name": "stdout",
          "text": [
            "\n",
            "=========================================================================\n",
            "\n",
            "Número de ciclos de manutenção: 12 2\n",
            "Tempos para manutenções preventivas: [0, 48, 78, 102, 203, 259, 320, 349, 367, 517, 642, 689, 694]\n",
            "Severidade para cada subsistema: [0.25, 0.75, 0.5, 0.75, 0.25, 0.75, 0.5, 0.25, 0.75, 0.75, 0.25, 0.75]\n",
            "Número de Sisemas: 2\n",
            "Fator:  [0.8646647167633873, 0.3934693402873666, 0.7768698398515702, 0.6321205588285577, 0.7768698398515702, 0.3934693402873666, 0.7768698398515702, 0.6321205588285577, 0.3934693402873666, 0.7768698398515702, 0.7768698398515702, 0.3934693402873666, 0.7768698398515702]\n",
            "Media de falhas:  [0, 81537.26976000001, 102253.19277593671, 616458.1629205536, 9904997.596742114, 21356875.180034123, 28720019.606224746, 117408955.33793676, 119084492.23390232, 706545489.1819408, 4928828124.764817, 4989282403.162636, 4994051590.070308, 1960505791.554697]\n",
            "Custo =  303195363631.11523\n",
            "\n",
            "=========================================================================\n",
            "\n",
            "Número de ciclos de manutenção: 12 2\n",
            "Tempos para manutenções preventivas: [0, 22, 49, 78, 96, 186, 268, 277, 328, 337, 377, 518, 637]\n",
            "Severidade para cada subsistema: [0.5, 0.25, 0.75, 0.5, 0.75, 0.25, 0.5, 0.5, 0.5, 0.25, 0.75, 0.75]\n",
            "Número de Sisemas: 2\n",
            "Fator:  [0.8646647167633873, 0.6321205588285577, 0.3934693402873666, 0.7768698398515702, 0.6321205588285577, 0.7768698398515702, 0.3934693402873666, 0.6321205588285577, 0.6321205588285577, 0.6321205588285577, 0.3934693402873666, 0.7768698398515702, 0.7768698398515702]\n",
            "Media de falhas:  [0, 1649.16224, 9395.811152992273, 82381.10050840779, 386757.16743904026, 5880411.573224705, 30047088.61613012, 30295637.55155237, 148694418.49915117, 152237719.09706372, 180801094.3569241, 712075876.0296777, 4613417796.998307, 4598965419.846419]\n",
            "Custo =  163101550811.81882\n",
            "\n",
            "=========================================================================\n",
            "\n",
            "Número de ciclos de manutenção: 11 2\n",
            "Tempos para manutenções preventivas: [0, 2, 48, 80, 94, 185, 288, 327, 386, 419, 522, 634]\n",
            "Severidade para cada subsistema: [0.5, 0.25, 0.75, 0.5, 0.5, 0.5, 0.25, 0.25, 0.25, 0.75, 0.75]\n",
            "Número de Sisemas: 2\n",
            "Fator:  [0.8646647167633873, 0.6321205588285577, 0.3934693402873666, 0.7768698398515702, 0.6321205588285577, 0.6321205588285577, 0.6321205588285577, 0.3934693402873666, 0.3934693402873666, 0.3934693402873666, 0.7768698398515702, 0.7768698398515702]\n",
            "Media de falhas:  [0, 0.01024, 67870.18158020503, 163949.32850833083, 383601.30773339974, 6015312.100397481, 52414636.130831726, 68617850.0553518, 119850235.38280651, 329963202.1562032, 1849916144.948902, 5460545018.748105, 5447001880.473023]\n",
            "Custo =  222305264292.5254\n",
            "\n",
            "=========================================================================\n",
            "\n",
            "Número de ciclos de manutenção: 11 2\n",
            "Tempos para manutenções preventivas: [0, 4, 48, 80, 92, 159, 201, 294, 389, 410, 522, 634]\n",
            "Severidade para cada subsistema: [0.5, 0.25, 0.75, 0.5, 0.5, 0.25, 0.5, 0.25, 0.25, 0.75, 0.75]\n",
            "Número de Sisemas: 2\n",
            "Fator:  [0.8646647167633873, 0.6321205588285577, 0.3934693402873666, 0.7768698398515702, 0.6321205588285577, 0.6321205588285577, 0.3934693402873666, 0.6321205588285577, 0.3934693402873666, 0.3934693402873666, 0.7768698398515702, 0.7768698398515702]\n",
            "Media de falhas:  [0, 0.32768, 56100.7880776986, 152179.9350058244, 325963.47408374003, 1968730.981476347, 5029254.528595375, 45817369.0888303, 476218878.31196636, 495098945.26736397, 2143972386.3015616, 5754601260.100765, 5741058121.825684]\n",
            "Custo =  213369972415.32895\n",
            "\n",
            "=========================================================================\n",
            "\n",
            "Número de ciclos de manutenção: 13 2\n",
            "Tempos para manutenções preventivas: [0, 48, 79, 91, 165, 198, 263, 289, 329, 389, 404, 517, 599, 635]\n",
            "Severidade para cada subsistema: [0.25, 0.75, 0.5, 0.5, 0.25, 0.25, 0.5, 0.75, 0.25, 0.25, 0.75, 0.5, 0.75]\n",
            "Número de Sisemas: 2\n",
            "Fator:  [0.8646647167633873, 0.3934693402873666, 0.7768698398515702, 0.6321205588285577, 0.6321205588285577, 0.3934693402873666, 0.3934693402873666, 0.6321205588285577, 0.7768698398515702, 0.3934693402873666, 0.3934693402873666, 0.7768698398515702, 0.6321205588285577, 0.7768698398515702]\n",
            "Media de falhas:  [0, 81537.26976000001, 105251.67919009672, 271519.46503865795, 2657236.812983947, 4704813.271211742, 19971788.927696813, 57239583.756067246, 152278571.22833914, 206187606.5181731, 208109272.7071779, 1808185548.2360911, 3937544816.4272366, 3968872823.7354712, 3845136443.2292633]\n",
            "Custo =  198858961891.29523\n",
            "\n",
            "=========================================================================\n",
            "\n",
            "Número de ciclos de manutenção: 17 2\n",
            "Tempos para manutenções preventivas: [0, 5, 48, 77, 93, 136, 256, 271, 329, 342, 382, 398, 515, 540, 584, 610, 639, 711]\n",
            "Severidade para cada subsistema: [0.75, 0.25, 0.75, 0.5, 0.5, 0.25, 0.5, 0.5, 0.5, 0.25, 0.25, 0.75, 0.5, 0.5, 0.25, 0.75, 0.25]\n",
            "Número de Sisemas: 2\n",
            "Fator:  [0.8646647167633873, 0.7768698398515702, 0.3934693402873666, 0.7768698398515702, 0.6321205588285577, 0.6321205588285577, 0.3934693402873666, 0.6321205588285577, 0.6321205588285577, 0.6321205588285577, 0.3934693402873666, 0.3934693402873666, 0.7768698398515702, 0.6321205588285577, 0.6321205588285577, 0.3934693402873666, 0.7768698398515702, 0.3934693402873666]\n",
            "Media de falhas:  [0, 1.0, 50863.52240340991, 82416.67011014535, 321477.7228569468, 657214.3661348824, 46034571.194248594, 48627600.668849826, 184225801.94473255, 189756700.03293836, 219779864.2053126, 232311544.5932833, 1862271837.3747845, 2309106452.263875, 2339514464.5246496, 2452349723.169664, 2604621206.9375315, 6366456429.531884, 6334376975.436082]\n",
            "Custo =  397984927563.51953\n",
            "\n",
            "=========================================================================\n",
            "\n",
            "Número de ciclos de manutenção: 14 2\n",
            "Tempos para manutenções preventivas: [0, 20, 47, 73, 94, 149, 202, 247, 369, 395, 515, 541, 582, 642, 668]\n",
            "Severidade para cada subsistema: [0.75, 0.25, 0.75, 0.5, 0.5, 0.5, 0.25, 0.25, 0.25, 0.75, 0.5, 0.5, 0.75, 0.5]\n",
            "Número de Sisemas: 2\n",
            "Fator:  [0.8646647167633873, 0.7768698398515702, 0.3934693402873666, 0.7768698398515702, 0.6321205588285577, 0.6321205588285577, 0.6321205588285577, 0.3934693402873666, 0.3934693402873666, 0.3934693402873666, 0.7768698398515702, 0.6321205588285577, 0.6321205588285577, 0.7768698398515702, 0.6321205588285577]\n",
            "Media de falhas:  [0, 1024.0, 8427.204008495542, 29080.770711834863, 353891.4932132636, 1162586.3115538212, 5665748.505133415, 12677437.679737408, 150552018.85720646, 282166183.14950895, 1953232514.7543998, 2420916162.352766, 2448103986.6171026, 2799282435.1270404, 2960530572.903849, 2938108924.0110173]\n",
            "Custo =  205701332791.36398\n",
            "\n",
            "=========================================================================\n",
            "\n",
            "Número de ciclos de manutenção: 15 2\n",
            "Tempos para manutenções preventivas: [0, 29, 48, 72, 94, 150, 180, 290, 404, 481, 514, 542, 585, 606, 645, 698]\n",
            "Severidade para cada subsistema: [0.75, 0.25, 0.75, 0.5, 0.5, 0.75, 0.25, 0.25, 0.5, 0.75, 0.5, 0.5, 0.5, 0.75, 0.5]\n",
            "Número de Sisemas: 2\n",
            "Fator:  [0.8646647167633873, 0.7768698398515702, 0.3934693402873666, 0.7768698398515702, 0.6321205588285577, 0.6321205588285577, 0.7768698398515702, 0.3934693402873666, 0.3934693402873666, 0.6321205588285577, 0.7768698398515702, 0.6321205588285577, 0.6321205588285577, 0.6321205588285577, 0.7768698398515702, 0.6321205588285577]\n",
            "Media de falhas:  [0, 6563.56768, 8589.414509265918, 24667.04606897956, 364675.80371426156, 1228099.6427979805, 2499483.526305563, 56467783.965028, 114431391.31097361, 940113526.821714, 1419492964.9936075, 1496431243.0962408, 1526043381.2298682, 1613625307.861061, 1831974921.7705655, 2250831846.9530745, 2221713621.3931017]\n",
            "Custo =  190915742973.1704\n",
            "\n",
            "=========================================================================\n",
            "\n",
            "Número de ciclos de manutenção: 16 2\n",
            "Tempos para manutenções preventivas: [0, 13, 48, 73, 94, 146, 191, 238, 240, 360, 419, 480, 513, 542, 594, 643, 705]\n",
            "Severidade para cada subsistema: [0.75, 0.25, 0.75, 0.5, 0.5, 0.75, 0.5, 0.25, 0.25, 0.25, 0.5, 0.75, 0.5, 0.5, 0.75, 0.5]\n",
            "Número de Sisemas: 2\n",
            "Fator:  [0.8646647167633873, 0.7768698398515702, 0.3934693402873666, 0.7768698398515702, 0.6321205588285577, 0.6321205588285577, 0.7768698398515702, 0.6321205588285577, 0.3934693402873666, 0.3934693402873666, 0.3934693402873666, 0.6321205588285577, 0.7768698398515702, 0.6321205588285577, 0.6321205588285577, 0.7768698398515702, 0.6321205588285577]\n",
            "Media de falhas:  [0, 118.81376000000002, 21596.599164390133, 40134.436443721555, 364945.1589451502, 1025859.2934520085, 3881741.837057452, 10429300.442034455, 10456741.162214082, 134199280.91117223, 500540412.47601575, 1155904770.7588959, 1631532907.4585605, 1711480232.502475, 1752699568.1617987, 2031719446.0458393, 2553672175.7117805, 2522973617.5715036]\n",
            "Custo =  202391098603.7289\n",
            "\n",
            "=========================================================================\n",
            "\n",
            "Número de ciclos de manutenção: 12 2\n",
            "Tempos para manutenções preventivas: [0, 49, 78, 93, 136, 240, 303, 362, 512, 540, 641, 682, 715]\n",
            "Severidade para cada subsistema: [0.25, 0.75, 0.5, 0.5, 0.25, 0.75, 0.25, 0.75, 0.5, 0.75, 0.5, 0.5]\n",
            "Número de Sisemas: 2\n",
            "Fator:  [0.8646647167633873, 0.3934693402873666, 0.7768698398515702, 0.6321205588285577, 0.6321205588285577, 0.3934693402873666, 0.7768698398515702, 0.3934693402873666, 0.7768698398515702, 0.6321205588285577, 0.7768698398515702, 0.6321205588285577, 0.6321205588285577]\n",
            "Media de falhas:  [0, 90392.07968000001, 108766.73439947092, 333479.299137479, 669215.9424154146, 28314821.949193142, 51961887.28637606, 254777157.5544746, 463124853.29599816, 961991353.6872227, 1124442880.8038747, 1411187670.7803736, 1454746403.9454231, 1074585239.993486]\n",
            "Custo =  146150201182.26395\n",
            "\n",
            "=========================================================================\n",
            "\n",
            "Número de ciclos de manutenção: 14 2\n",
            "Tempos para manutenções preventivas: [0, 49, 84, 90, 159, 197, 247, 289, 304, 342, 362, 515, 601, 636, 713]\n",
            "Severidade para cada subsistema: [0.25, 0.75, 0.5, 0.5, 0.5, 0.25, 0.5, 0.5, 0.5, 0.25, 0.75, 0.25, 0.75, 0.5]\n",
            "Número de Sisemas: 2\n",
            "Fator:  [0.8646647167633873, 0.3934693402873666, 0.7768698398515702, 0.6321205588285577, 0.6321205588285577, 0.6321205588285577, 0.3934693402873666, 0.6321205588285577, 0.6321205588285577, 0.6321205588285577, 0.3934693402873666, 0.7768698398515702, 0.3934693402873666, 0.7768698398515702, 0.6321205588285577]\n",
            "Media de falhas:  [0, 90392.07968000001, 130406.08495498258, 212228.00272075064, 2006300.1255790174, 4464046.945171819, 12641656.99587582, 23909603.65174784, 50791258.79901613, 69360022.5345211, 80365884.53644828, 681132015.7005413, 2939848638.180683, 2970218051.8105226, 7027291921.0020485, 6994745619.913668]\n",
            "Custo =  349623630509.083\n",
            "\n",
            "=========================================================================\n",
            "\n",
            "Número de ciclos de manutenção: 12 2\n",
            "Tempos para manutenções preventivas: [0, 12, 50, 88, 255, 330, 373, 411, 524, 610, 633, 687, 703]\n",
            "Severidade para cada subsistema: [0.5, 0.25, 0.75, 0.25, 0.5, 0.25, 0.25, 0.75, 0.75, 0.75, 0.25, 0.5]\n",
            "Número de Sisemas: 2\n",
            "Fator:  [0.8646647167633873, 0.6321205588285577, 0.3934693402873666, 0.7768698398515702, 0.3934693402873666, 0.6321205588285577, 0.3934693402873666, 0.3934693402873666, 0.7768698398515702, 0.7768698398515702, 0.7768698398515702, 0.3934693402873666, 0.6321205588285577]\n",
            "Media de falhas:  [0, 79.62624000000001, 31336.301829386266, 213183.7436661753, 166399983.66957527, 178983663.2709414, 348184785.23211765, 385468565.97711474, 2074501487.9595811, 4473177621.421898, 4490860271.35602, 4563657250.522678, 4581067556.566086, 1202776550.9016023]\n",
            "Custo =  339709423724.05884\n",
            "\n",
            "=========================================================================\n",
            "\n",
            "Número de ciclos de manutenção: 11 2\n",
            "Tempos para manutenções preventivas: [0, 18, 49, 85, 261, 406, 529, 596, 622, 632, 675, 697]\n",
            "Severidade para cada subsistema: [0.5, 0.25, 0.75, 0.25, 0.25, 0.75, 0.5, 0.25, 0.75, 0.25, 0.5]\n",
            "Número de Sisemas: 2\n",
            "Fator:  [0.8646647167633873, 0.6321205588285577, 0.3934693402873666, 0.7768698398515702, 0.3934693402873666, 0.3934693402873666, 0.7768698398515702, 0.6321205588285577, 0.3934693402873666, 0.7768698398515702, 0.3934693402873666, 0.6321205588285577]\n",
            "Media de falhas:  [0, 604.6617600000001, 13977.480221725433, 160656.56126182905, 195290448.45198032, 306035349.2491584, 2212922422.008051, 3933399462.9793863, 3952593761.825481, 4000462408.0780783, 5858744564.479913, 5882980150.901519, 2735820053.5234885]\n",
            "Custo =  501385746586.4846\n",
            "\n",
            "=========================================================================\n",
            "\n",
            "Número de ciclos de manutenção: 12 2\n",
            "Tempos para manutenções preventivas: [0, 48, 77, 93, 130, 262, 290, 400, 529, 591, 634, 673, 694]\n",
            "Severidade para cada subsistema: [0.25, 0.75, 0.5, 0.5, 0.25, 0.5, 0.25, 0.75, 0.5, 0.75, 0.25, 0.5]\n",
            "Número de Sisemas: 2\n",
            "Fator:  [0.8646647167633873, 0.3934693402873666, 0.7768698398515702, 0.6321205588285577, 0.6321205588285577, 0.3934693402873666, 0.6321205588285577, 0.3934693402873666, 0.7768698398515702, 0.6321205588285577, 0.7768698398515702, 0.3934693402873666, 0.6321205588285577]\n",
            "Media de falhas:  [0, 81537.26976000001, 99565.9368372644, 338626.98958406586, 542961.7972362469, 60634594.50186509, 67500260.10190976, 624810567.048073, 1116644166.904439, 2660692493.5186663, 2700258638.690575, 2957886753.519407, 2980467443.4941044, -53078355.02150631]\n",
            "Custo =  301517518333.43884\n"
          ]
        },
        {
          "output_type": "stream",
          "name": "stderr",
          "text": [
            "pyswarms.single.global_best:  87%|████████▋ |87/100, best_cost=6.05e+10"
          ]
        },
        {
          "output_type": "stream",
          "name": "stdout",
          "text": [
            "\n",
            "=========================================================================\n",
            "\n",
            "Número de ciclos de manutenção: 17 2\n",
            "Tempos para manutenções preventivas: [0, 6, 47, 70, 98, 134, 169, 209, 260, 328, 336, 400, 525, 540, 589, 637, 686, 694]\n",
            "Severidade para cada subsistema: [0.75, 0.25, 0.75, 0.5, 0.5, 0.25, 0.5, 0.25, 0.25, 0.5, 0.25, 0.75, 0.5, 0.5, 0.75, 0.25, 0.5]\n",
            "Número de Sisemas: 2\n",
            "Fator:  [0.8646647167633873, 0.7768698398515702, 0.3934693402873666, 0.7768698398515702, 0.6321205588285577, 0.6321205588285577, 0.3934693402873666, 0.6321205588285577, 0.3934693402873666, 0.3934693402873666, 0.6321205588285577, 0.3934693402873666, 0.7768698398515702, 0.6321205588285577, 0.6321205588285577, 0.7768698398515702, 0.3934693402873666, 0.6321205588285577]\n",
            "Media de falhas:  [0, 2.4883200000000003, 40896.08349048313, 54330.80380676457, 565800.1313839777, 771832.960468717, 2040690.6035562865, 5306330.424675624, 51635702.93316225, 86632748.75480461, 108361537.30125394, 436586296.2205467, 892263057.0276811, 1163382596.4476924, 1200014320.3493497, 1462852743.0103471, 1821077955.488243, 1828878339.290851, -1204667459.2247596]\n",
            "Custo =  311648504660.8597\n",
            "\n",
            "=========================================================================\n",
            "\n",
            "Número de ciclos de manutenção: 15 2\n",
            "Tempos para manutenções preventivas: [0, 17, 47, 69, 100, 142, 185, 252, 306, 349, 389, 405, 519, 541, 589, 639]\n",
            "Severidade para cada subsistema: [0.75, 0.25, 0.75, 0.5, 0.5, 0.75, 0.25, 0.25, 0.5, 0.25, 0.25, 0.75, 0.5, 0.5, 0.75]\n",
            "Número de Sisemas: 2\n",
            "Fator:  [0.8646647167633873, 0.7768698398515702, 0.3934693402873666, 0.7768698398515702, 0.6321205588285577, 0.6321205588285577, 0.7768698398515702, 0.3934693402873666, 0.3934693402873666, 0.6321205588285577, 0.3934693402873666, 0.3934693402873666, 0.7768698398515702, 0.6321205588285577, 0.6321205588285577, 0.7768698398515702]\n",
            "Media de falhas:  [0, 454.35424000000006, 11705.813204622757, 23245.15057399658, 638785.4494728266, 989098.0165688368, 3371999.4863125947, 17284359.147320222, 22311948.509878796, 151602565.0293179, 338738876.05637604, 352159880.26811105, 1991341180.6881332, 2388788636.108082, 2424328430.48806, 2703111107.455561, 2566138704.0756063]\n",
            "Custo =  204728101823.42236\n",
            "\n",
            "=========================================================================\n",
            "\n",
            "Número de ciclos de manutenção: 17 2\n",
            "Tempos para manutenções preventivas: [0, 9, 47, 74, 99, 136, 244, 293, 310, 355, 363, 408, 480, 513, 542, 598, 642, 697]\n",
            "Severidade para cada subsistema: [0.75, 0.25, 0.75, 0.5, 0.5, 0.25, 0.25, 0.25, 0.5, 0.25, 0.25, 0.5, 0.75, 0.5, 0.5, 0.75, 0.5]\n",
            "Número de Sisemas: 2\n",
            "Fator:  [0.8646647167633873, 0.7768698398515702, 0.3934693402873666, 0.7768698398515702, 0.6321205588285577, 0.6321205588285577, 0.3934693402873666, 0.3934693402873666, 0.3934693402873666, 0.6321205588285577, 0.3934693402873666, 0.3934693402873666, 0.6321205588285577, 0.7768698398515702, 0.6321205588285577, 0.6321205588285577, 0.7768698398515702, 0.6321205588285577]\n",
            "Media de falhas:  [0, 18.895680000000002, 29706.70475593033, 53355.849467542794, 528423.3457542163, 757263.9976743993, 32197530.73833109, 46795864.06648049, 79637124.17751944, 224302295.53403062, 253936887.91912258, 298400943.7207678, 1066217365.501632, 1541845502.2012966, 1621792827.2452111, 1669007528.7429557, 1914423074.2507699, 2349072148.638583, 2320177574.4057384]\n",
            "Custo =  211640618208.59753\n",
            "\n",
            "=========================================================================\n",
            "\n",
            "Número de ciclos de manutenção: 12 2\n",
            "Tempos para manutenções preventivas: [0, 48, 81, 98, 126, 187, 243, 289, 416, 511, 541, 642, 702]\n",
            "Severidade para cada subsistema: [0.25, 0.75, 0.5, 0.5, 0.75, 0.25, 0.25, 0.25, 0.75, 0.5, 0.75, 0.5]\n",
            "Número de Sisemas: 2\n",
            "Fator:  [0.8646647167633873, 0.3934693402873666, 0.7768698398515702, 0.6321205588285577, 0.6321205588285577, 0.7768698398515702, 0.3934693402873666, 0.3934693402873666, 0.3934693402873666, 0.7768698398515702, 0.6321205588285577, 0.7768698398515702, 0.6321205588285577]\n",
            "Media de falhas:  [0, 81537.26976000001, 112288.919495167, 425378.50030563446, 522453.31768267264, 5016627.524421921, 14208793.354472108, 17294291.024064526, 772039477.2697518, 2062044439.5428076, 2599430281.9789815, 2762667221.6515484, 3256833447.6141005, 3226815673.1118937]\n",
            "Custo =  191643005044.98068\n",
            "\n",
            "=========================================================================\n",
            "\n",
            "Número de ciclos de manutenção: 12 2\n",
            "Tempos para manutenções preventivas: [0, 29, 49, 86, 96, 192, 250, 288, 311, 540, 611, 642, 706]\n",
            "Severidade para cada subsistema: [0.5, 0.25, 0.75, 0.5, 0.5, 0.25, 0.25, 0.5, 0.5, 0.25, 0.75, 0.5]\n",
            "Número de Sisemas: 2\n",
            "Fator:  [0.8646647167633873, 0.6321205588285577, 0.3934693402873666, 0.7768698398515702, 0.6321205588285577, 0.6321205588285577, 0.3934693402873666, 0.3934693402873666, 0.6321205588285577, 0.6321205588285577, 0.3934693402873666, 0.7768698398515702, 0.6321205588285577]\n",
            "Media de falhas:  [0, 6563.56768, 9071.599211892117, 169895.92682429677, 343331.8448341738, 7484705.67517895, 18191751.915206328, 27953752.740130935, 72508116.6004713, 4061585055.3397493, 4418820604.3310375, 4585511696.760071, 7851623049.575846, 7820696229.162511]\n",
            "Custo =  326511991366.44086\n",
            "\n",
            "=========================================================================\n",
            "\n",
            "Número de ciclos de manutenção: 12 2\n",
            "Tempos para manutenções preventivas: [0, 15, 49, 84, 92, 256, 297, 347, 376, 514, 599, 619, 640]\n",
            "Severidade para cada subsistema: [0.5, 0.25, 0.75, 0.5, 0.25, 0.25, 0.5, 0.25, 0.75, 0.5, 0.75, 0.75]\n",
            "Número de Sisemas: 2\n",
            "Fator:  [0.8646647167633873, 0.6321205588285577, 0.3934693402873666, 0.7768698398515702, 0.6321205588285577, 0.3934693402873666, 0.3934693402873666, 0.6321205588285577, 0.3934693402873666, 0.7768698398515702, 0.6321205588285577, 0.7768698398515702, 0.7768698398515702]\n",
            "Media de falhas:  [0, 243.00000000000003, 19673.00020171088, 153216.23871159146, 271144.17697573797, 68733786.19399145, 80806374.04881586, 226694164.3931141, 346528587.28637743, 845829408.9676669, 3049535899.145335, 3063296051.7494392, 3171917996.681192, 3156588552.9311895]\n",
            "Custo =  174275313835.14087\n",
            "\n",
            "=========================================================================\n",
            "\n",
            "Número de ciclos de manutenção: 10 2\n",
            "Tempos para manutenções preventivas: [0, 16, 49, 81, 91, 195, 259, 331, 521, 596, 638]\n",
            "Severidade para cada subsistema: [0.5, 0.25, 0.75, 0.5, 0.25, 0.25, 0.5, 0.75, 0.5, 0.75]\n",
            "Número de Sisemas: 2\n",
            "Fator:  [0.8646647167633873, 0.6321205588285577, 0.3934693402873666, 0.7768698398515702, 0.6321205588285577, 0.3934693402873666, 0.3934693402873666, 0.6321205588285577, 0.7768698398515702, 0.6321205588285577, 0.7768698398515702]\n",
            "Media de falhas:  [0, 335.54432, 17543.338887915448, 117195.48049192749, 256894.85447389807, 9752873.817175733, 23889550.410153322, 195203033.25555435, 3006315462.756368, 3355047553.5098386, 3394237951.507363, 3260561914.2364225]\n",
            "Custo =  106420635005.87724\n",
            "\n",
            "=========================================================================\n",
            "\n",
            "Número de ciclos de manutenção: 12 2\n",
            "Tempos para manutenções preventivas: [0, 26, 48, 75, 156, 209, 257, 278, 407, 529, 588, 636, 717]\n",
            "Severidade para cada subsistema: [0.5, 0.25, 0.75, 0.5, 0.25, 0.25, 0.5, 0.25, 0.75, 0.5, 0.75, 0.25]\n",
            "Número de Sisemas: 2\n",
            "Fator:  [0.8646647167633873, 0.6321205588285577, 0.3934693402873666, 0.7768698398515702, 0.6321205588285577, 0.3934693402873666, 0.3934693402873666, 0.6321205588285577, 0.3934693402873666, 0.7768698398515702, 0.6321205588285577, 0.7768698398515702, 0.3934693402873666]\n",
            "Media de falhas:  [0, 3802.0403200000005, 7264.801493519761, 63555.750791912345, 10362838.585036889, 12016915.546591744, 20878580.176909108, 46830762.67049506, 750400115.3919752, 1200358771.4111254, 2642882524.304718, 2689577561.7308664, 3457193312.0100975, 3423702270.420409]\n",
            "Custo =  183635006775.69293\n",
            "\n",
            "=========================================================================\n",
            "\n",
            "Número de ciclos de manutenção: 12 2\n",
            "Tempos para manutenções preventivas: [0, 48, 69, 92, 136, 177, 194, 256, 293, 396, 532, 588, 636]\n",
            "Severidade para cada subsistema: [0.25, 0.75, 0.5, 0.5, 0.75, 0.5, 0.25, 0.5, 0.25, 0.75, 0.5, 0.75]\n",
            "Número de Sisemas: 2\n",
            "Fator:  [0.8646647167633873, 0.3934693402873666, 0.7768698398515702, 0.6321205588285577, 0.6321205588285577, 0.7768698398515702, 0.6321205588285577, 0.3934693402873666, 0.6321205588285577, 0.3934693402873666, 0.7768698398515702, 0.6321205588285577, 0.7768698398515702]\n",
            "Media de falhas:  [0, 81537.26976000001, 86562.83813469019, 412526.1104829844, 769365.4950304426, 2669421.9178133598, 3489527.7592503494, 7581165.011067364, 17639590.291486442, 518701921.2876872, 1065160894.2932777, 2437400370.832035, 2484095408.2581835, 2357037141.074657]\n",
            "Custo =  153383592102.372\n"
          ]
        },
        {
          "output_type": "stream",
          "name": "stderr",
          "text": [
            "pyswarms.single.global_best: 100%|██████████|100/100, best_cost=6.05e+10\n",
            "2023-09-24 22:28:07,929 - pyswarms.single.global_best - INFO - Optimization finished | best cost: 60496193571.40194, best pos: [3.44186252 1.57688835 5.15883226 2.76374895 0.74595216 5.84753906\n",
            " 0.73028102 3.93683297 0.75552083 1.77662221 5.89204633 4.41389398\n",
            " 0.60587255 0.88903504 0.51268283 4.37546279 3.12784885 4.4252052\n",
            " 2.90901494 2.9009263  6.3996537  5.51245874 0.47752188 3.56566025]\n",
            "2023-09-24 22:28:07,932 - pyswarms.single.global_best - INFO - Optimize for 1 iters with {'c1': 0.5, 'c2': 0.3, 'w': 0.9}\n"
          ]
        },
        {
          "output_type": "stream",
          "name": "stdout",
          "text": [
            "\n",
            "=========================================================================\n",
            "\n",
            "Número de ciclos de manutenção: 13 2\n",
            "Tempos para manutenções preventivas: [0, 47, 68, 95, 140, 254, 290, 333, 396, 525, 540, 585, 637, 692]\n",
            "Severidade para cada subsistema: [0.25, 0.75, 0.5, 0.5, 0.25, 0.5, 0.5, 0.25, 0.75, 0.5, 0.5, 0.75, 0.5]\n",
            "Número de Sisemas: 2\n",
            "Fator:  [0.8646647167633873, 0.3934693402873666, 0.7768698398515702, 0.6321205588285577, 0.6321205588285577, 0.3934693402873666, 0.6321205588285577, 0.6321205588285577, 0.3934693402873666, 0.7768698398515702, 0.6321205588285577, 0.6321205588285577, 0.7768698398515702, 0.6321205588285577]\n",
            "Media de falhas:  [0, 73390.40224000001, 78293.78299512318, 513772.11517307704, 919176.9159817076, 40538919.86104991, 49887669.121354625, 156822526.36543205, 218287204.24462077, 697655723.6389216, 968775263.0589329, 1000368938.862012, 1288565398.004172, 1711339655.5089562, 1683557712.5914226]\n",
            "Custo =  160481695625.42618\n",
            "\n",
            "=========================================================================\n",
            "\n",
            "Número de ciclos de manutenção: 16 2\n",
            "Tempos para manutenções preventivas: [0, 47, 70, 96, 126, 205, 248, 284, 306, 352, 368, 397, 519, 540, 582, 639, 710]\n",
            "Severidade para cada subsistema: [0.25, 0.75, 0.5, 0.5, 0.75, 0.25, 0.5, 0.5, 0.5, 0.25, 0.25, 0.75, 0.5, 0.5, 0.75, 0.5]\n",
            "Número de Sisemas: 2\n",
            "Fator:  [0.8646647167633873, 0.3934693402873666, 0.7768698398515702, 0.6321205588285577, 0.6321205588285577, 0.7768698398515702, 0.3934693402873666, 0.6321205588285577, 0.6321205588285577, 0.6321205588285577, 0.3934693402873666, 0.3934693402873666, 0.7768698398515702, 0.6321205588285577, 0.6321205588285577, 0.7768698398515702, 0.6321205588285577]\n",
            "Media de falhas:  [0, 73390.40224000001, 80369.17440636414, 517331.3898643897, 630923.6206462518, 10466670.306352017, 17136595.524998173, 19004633.635865882, 58988309.89201465, 85286213.09114724, 94497091.93129243, 118350493.55459765, 1870451755.4095309, 2247435957.5234017, 2275557579.8861623, 2600226126.3364673, 3230100442.4711237, 3198253117.4674735]\n",
            "Custo =  207923667144.661\n",
            "\n",
            "=========================================================================\n",
            "\n",
            "Número de ciclos de manutenção: 14 2\n",
            "Tempos para manutenções preventivas: [0, 48, 74, 93, 184, 241, 273, 301, 406, 480, 511, 542, 586, 643, 711]\n",
            "Severidade para cada subsistema: [0.25, 0.75, 0.5, 0.75, 0.25, 0.5, 0.5, 0.25, 0.5, 0.75, 0.5, 0.5, 0.75, 0.5]\n",
            "Número de Sisemas: 2\n",
            "Fator:  [0.8646647167633873, 0.3934693402873666, 0.7768698398515702, 0.6321205588285577, 0.7768698398515702, 0.3934693402873666, 0.6321205588285577, 0.6321205588285577, 0.3934693402873666, 0.6321205588285577, 0.7768698398515702, 0.6321205588285577, 0.6321205588285577, 0.7768698398515702, 0.6321205588285577]\n",
            "Media de falhas:  [0, 81537.26976000001, 93129.50272335179, 375317.7274288009, 5951195.121973017, 15141511.10705645, 16483344.694077915, 63644871.53158499, 207844641.39310884, 361956043.64349866, 802694838.5537925, 888722235.6169564, 919504200.1157035, 1252014081.423818, 1853358355.8892968, 1821278901.7934947]\n",
            "Custo =  152318204447.34027\n",
            "\n",
            "=========================================================================\n",
            "\n",
            "Número de ciclos de manutenção: 14 2\n",
            "Tempos para manutenções preventivas: [0, 49, 80, 93, 242, 310, 415, 482, 510, 542, 590, 620, 644, 675, 691]\n",
            "Severidade para cada subsistema: [0.25, 0.75, 0.5, 0.25, 0.5, 0.25, 0.5, 0.75, 0.5, 0.5, 0.25, 0.75, 0.5, 0.5]\n",
            "Número de Sisemas: 2\n",
            "Fator:  [0.8646647167633873, 0.3934693402873666, 0.7768698398515702, 0.6321205588285577, 0.3934693402873666, 0.6321205588285577, 0.3934693402873666, 0.6321205588285577, 0.7768698398515702, 0.6321205588285577, 0.6321205588285577, 0.3934693402873666, 0.7768698398515702, 0.6321205588285577, 0.6321205588285577]\n",
            "Media de falhas:  [0, 90392.07968000001, 114537.21896770207, 310509.7173342448, 45413067.45769873, 74174037.27953069, 690278245.6489258, 827420137.0423784, 1223650330.9273658, 1312749283.335865, 1348503009.8604448, 1488840892.2795799, 1617061619.0457737, 2970074310.8782725, 2986359698.7091627, 2683733528.9678454]\n",
            "Custo =  337390514342.3446\n",
            "\n",
            "=========================================================================\n",
            "\n",
            "Número de ciclos de manutenção: 13 2\n",
            "Tempos para manutenções preventivas: [0, 50, 85, 90, 177, 244, 329, 481, 515, 542, 598, 641, 672, 690]\n",
            "Severidade para cada subsistema: [0.25, 0.75, 0.5, 0.25, 0.25, 0.5, 0.5, 0.75, 0.5, 0.5, 0.75, 0.5, 0.5]\n",
            "Número de Sisemas: 2\n",
            "Fator:  [0.8646647167633873, 0.3934693402873666, 0.7768698398515702, 0.6321205588285577, 0.3934693402873666, 0.3934693402873666, 0.6321205588285577, 0.6321205588285577, 0.7768698398515702, 0.6321205588285577, 0.6321205588285577, 0.7768698398515702, 0.6321205588285577, 0.6321205588285577]\n",
            "Media de falhas:  [0, 100000.00000000001, 140668.2653777236, 209263.06779290264, 4713547.459542411, 17218647.469078477, 214220637.72601888, 1831183106.3164628, 1909343297.1335914, 1983292836.1685517, 2030507537.6662962, 2268210635.595832, 2467561722.2404513, 2486060376.9595475, 2186608105.5250964]\n",
            "Custo =  141621240040.7668\n",
            "\n",
            "=========================================================================\n",
            "\n",
            "Número de ciclos de manutenção: 12 2\n",
            "Tempos para manutenções preventivas: [0, 1, 49, 85, 91, 122, 208, 248, 345, 373, 522, 542, 638]\n",
            "Severidade para cada subsistema: [0.75, 0.25, 0.75, 0.5, 0.5, 0.25, 0.25, 0.5, 0.5, 0.75, 0.5, 0.75]\n",
            "Número de Sisemas: 2\n",
            "Fator:  [0.8646647167633873, 0.7768698398515702, 0.3934693402873666, 0.7768698398515702, 0.6321205588285577, 0.6321205588285577, 0.3934693402873666, 0.3934693402873666, 0.6321205588285577, 0.6321205588285577, 0.7768698398515702, 0.6321205588285577, 0.7768698398515702]\n",
            "Media de falhas:  [0, 0.00032, 82693.23575577917, 155514.96431855817, 241067.38101865514, 353710.42508770037, 12585038.863268338, 18618367.77189612, 290678608.2394648, 402847252.1147208, 1001950358.5545442, 1055525475.5236713, 1200996697.187742, 1067320659.9168019]\n",
            "Custo =  75432659299.87798\n",
            "\n",
            "=========================================================================\n",
            "\n",
            "Número de ciclos de manutenção: 13 2\n",
            "Tempos para manutenções preventivas: [0, 1, 48, 83, 93, 140, 248, 333, 418, 528, 541, 615, 637, 691]\n",
            "Severidade para cada subsistema: [0.75, 0.25, 0.75, 0.5, 0.5, 0.25, 0.5, 0.25, 0.75, 0.5, 0.25, 0.75, 0.5]\n",
            "Número de Sisemas: 2\n",
            "Fator:  [0.8646647167633873, 0.7768698398515702, 0.3934693402873666, 0.7768698398515702, 0.6321205588285577, 0.6321205588285577, 0.3934693402873666, 0.6321205588285577, 0.3934693402873666, 0.7768698398515702, 0.6321205588285577, 0.3934693402873666, 0.7768698398515702, 0.6321205588285577]\n",
            "Media de falhas:  [0, 0.00032, 74453.13399405743, 138266.4102891641, 290804.81270335696, 746379.6287748746, 33667060.46451675, 86044442.3458313, 601316333.6440599, 982409812.3582692, 1219689025.5356207, 1301050027.063488, 1413045599.4731247, 3957058648.7012596, 3929498373.282526]\n",
            "Custo =  329330130901.187\n",
            "\n",
            "=========================================================================\n",
            "\n",
            "Número de ciclos de manutenção: 13 2\n",
            "Tempos para manutenções preventivas: [0, 47, 81, 96, 145, 164, 192, 251, 413, 526, 540, 598, 637, 678]\n",
            "Severidade para cada subsistema: [0.25, 0.75, 0.5, 0.5, 0.5, 0.5, 0.25, 0.25, 0.75, 0.5, 0.5, 0.75, 0.25]\n",
            "Número de Sisemas: 2\n",
            "Fator:  [0.8646647167633873, 0.3934693402873666, 0.7768698398515702, 0.6321205588285577, 0.6321205588285577, 0.6321205588285577, 0.6321205588285577, 0.3934693402873666, 0.3934693402873666, 0.7768698398515702, 0.6321205588285577, 0.6321205588285577, 0.7768698398515702, 0.3934693402873666]\n",
            "Media de falhas:  [0, 73390.40224000001, 107659.63186021561, 363145.3106756857, 915875.2002666942, 1411714.2899591597, 2876777.957344234, 14028742.20680629, 352448821.86891115, 2067572820.8908367, 2320914015.8213234, 2370760009.624217, 2578764291.805285, 2859021645.996442, 2834341422.3062534]\n",
            "Custo =  196024141800.77112\n",
            "\n",
            "=========================================================================\n",
            "\n",
            "Número de ciclos de manutenção: 12 2\n",
            "Tempos para manutenções preventivas: [0, 47, 76, 98, 149, 250, 289, 360, 406, 518, 583, 638, 678]\n",
            "Severidade para cada subsistema: [0.25, 0.75, 0.5, 0.5, 0.25, 0.5, 0.75, 0.25, 0.75, 0.5, 0.75, 0.25]\n",
            "Número de Sisemas: 2\n",
            "Fator:  [0.8646647167633873, 0.3934693402873666, 0.7768698398515702, 0.6321205588285577, 0.6321205588285577, 0.3934693402873666, 0.6321205588285577, 0.7768698398515702, 0.3934693402873666, 0.7768698398515702, 0.6321205588285577, 0.7768698398515702, 0.3934693402873666]\n",
            "Media de falhas:  [0, 73390.40224000001, 91078.2921364819, 493040.7064043829, 1148791.6085379566, 30379314.018077802, 40604946.97643058, 277625462.5285441, 322473573.03999555, 429727803.94283867, 1958478204.6611943, 2016061176.4592822, 2288751659.4986444, 2264071435.808456]\n",
            "Custo =  150222743458.09683\n"
          ]
        },
        {
          "output_type": "stream",
          "name": "stderr",
          "text": [
            "pyswarms.single.global_best: 100%|██████████|1/1, best_cost=6.05e+10\n",
            "2023-09-24 22:28:07,954 - pyswarms.single.global_best - INFO - Optimization finished | best cost: 60496193571.40194, best pos: [3.45112784 1.57652556 5.15884629 2.76370294 0.75080212 5.84853635\n",
            " 0.50028531 3.94379291 0.75599266 1.77694651 5.89088631 1.17039142\n",
            " 0.60516802 0.89435635 0.51897149 4.37547157 3.12529742 4.42538837\n",
            " 2.91009599 2.90092952 6.40033572 5.52591562 5.99681247 3.49879212]\n"
          ]
        },
        {
          "output_type": "stream",
          "name": "stdout",
          "text": [
            "\n",
            "=========================================================================\n",
            "\n",
            "Número de ciclos de manutenção: 12 2\n",
            "Tempos para manutenções preventivas: [0, 22, 47, 73, 98, 126, 251, 318, 405, 510, 571, 639, 699]\n",
            "Severidade para cada subsistema: [0.5, 0.25, 0.75, 0.5, 0.5, 0.25, 0.5, 0.25, 0.75, 0.5, 0.75, 0.75]\n",
            "Número de Sisemas: 2\n",
            "Fator:  [0.8646647167633873, 0.6321205588285577, 0.3934693402873666, 0.7768698398515702, 0.6321205588285577, 0.6321205588285577, 0.3934693402873666, 0.6321205588285577, 0.3934693402873666, 0.7768698398515702, 0.6321205588285577, 0.7768698398515702, 0.7768698398515702]\n",
            "Media de falhas:  [0, 1649.16224, 7134.191717299556, 55292.133551676874, 511445.78258838376, 608520.599965422, 47812279.90228077, 78529947.75205383, 542632691.5821722, 857393049.1985432, 2180047351.776593, 2260474900.597306, 2746596978.4591856, 2717254641.616205]\n",
            "Custo =  161824928659.24536\n"
          ]
        },
        {
          "output_type": "stream",
          "name": "stderr",
          "text": [
            "2023-09-24 22:28:07,957 - pyswarms.single.global_best - INFO - Optimize for 1 iters with {'c1': 0.5, 'c2': 0.3, 'w': 0.9}\n",
            "pyswarms.single.global_best: 100%|██████████|1/1, best_cost=6.05e+10\n",
            "2023-09-24 22:28:07,991 - pyswarms.single.global_best - INFO - Optimization finished | best cost: 60496193571.40194, best pos: [3.45400343 1.57634098 5.15888386 2.7637053  0.75059665 5.84821032\n",
            " 3.80961464 3.94366133 0.75593167 1.77643651 5.89283019 4.02098219\n",
            " 0.60378    0.89743443 0.51231423 4.37547003 3.12400003 4.42512644\n",
            " 2.90931084 2.90097067 6.39938161 5.5196913  1.83470904 3.49853086]\n",
            "2023-09-24 22:28:07,993 - pyswarms.single.global_best - INFO - Optimize for 1 iters with {'c1': 0.5, 'c2': 0.3, 'w': 0.9}\n"
          ]
        },
        {
          "output_type": "stream",
          "name": "stdout",
          "text": [
            "\n",
            "=========================================================================\n",
            "\n",
            "Número de ciclos de manutenção: 12 2\n",
            "Tempos para manutenções preventivas: [0, 7, 47, 68, 95, 174, 195, 248, 338, 364, 399, 600, 641]\n",
            "Severidade para cada subsistema: [0.5, 0.25, 0.75, 0.5, 0.75, 0.75, 0.25, 0.5, 0.25, 0.25, 0.25, 0.75]\n",
            "Número de Sisemas: 2\n",
            "Fator:  [0.8646647167633873, 0.6321205588285577, 0.3934693402873666, 0.7768698398515702, 0.6321205588285577, 0.7768698398515702, 0.7768698398515702, 0.3934693402873666, 0.6321205588285577, 0.3934693402873666, 0.3934693402873666, 0.3934693402873666, 0.7768698398515702]\n",
            "Media de falhas:  [0, 5.378240000000001, 36841.91721428822, 62686.20153000077, 498164.53370795463, 3728498.3722550017, 4805382.867634506, 7434773.808286978, 28018837.780376494, 122654911.97125295, 152871890.01892653, 5347292359.603529, 6788027946.115, 5573719104.054646]\n",
            "Custo =  381968142318.55884\n"
          ]
        },
        {
          "output_type": "stream",
          "name": "stderr",
          "text": [
            "pyswarms.single.global_best: 100%|██████████|1/1, best_cost=6.05e+10\n",
            "2023-09-24 22:28:08,009 - pyswarms.single.global_best - INFO - Optimization finished | best cost: 60496193571.40194, best pos: [3.45628352 1.57629138 5.15891422 2.76371906 0.74975459 5.84786505\n",
            " 0.51240712 3.9418084  0.7558492  1.77601401 5.89455849 6.66116796\n",
            " 0.60272383 0.89817273 0.5063623  4.37546689 3.12312593 4.42489338\n",
            " 2.90858445 2.90100733 6.39859604 5.51292697 5.48583198 3.51624135]\n",
            "2023-09-24 22:28:08,010 - pyswarms.single.global_best - INFO - Optimize for 1 iters with {'c1': 0.5, 'c2': 0.3, 'w': 0.9}\n"
          ]
        },
        {
          "output_type": "stream",
          "name": "stdout",
          "text": [
            "\n",
            "=========================================================================\n",
            "\n",
            "Número de ciclos de manutenção: 9 2\n",
            "Tempos para manutenções preventivas: [0, 47, 64, 243, 324, 350, 363, 391, 643, 686]\n",
            "Severidade para cada subsistema: [0.25, 0.75, 0.25, 0.25, 0.5, 0.5, 0.25, 0.75, 0.5]\n",
            "Número de Sisemas: 2\n",
            "Fator:  [0.8646647167633873, 0.3934693402873666, 0.7768698398515702, 0.3934693402873666, 0.3934693402873666, 0.6321205588285577, 0.6321205588285577, 0.3934693402873666, 0.7768698398515702, 0.6321205588285577]\n",
            "Media de falhas:  [0, 73390.40224000001, 75613.37531072355, 156945779.235117, 171262362.2906319, 252040536.29536173, 299783059.01535505, 321394216.30754846, 3411637661.1852913, 5395126640.269539, 5368672641.041018]\n",
            "Custo =  269216471865.10928\n"
          ]
        },
        {
          "output_type": "stream",
          "name": "stderr",
          "text": [
            "pyswarms.single.global_best: 100%|██████████|1/1, best_cost=6.05e+10\n",
            "2023-09-24 22:28:08,024 - pyswarms.single.global_best - INFO - Optimization finished | best cost: 60496193571.40194, best pos: [3.455427   1.57635837 5.15892316 2.76373573 0.74863827 5.84750843\n",
            " 5.28283088 3.93958263 0.75568625 1.77581299 5.8958345  1.8989404\n",
            " 0.60266515 0.8975593  0.50265554 4.37546332 3.12268228 4.42469353\n",
            " 2.90803279 2.90103344 6.39819277 5.50681974 3.01599951 3.5462435 ]\n",
            "2023-09-24 22:28:08,027 - pyswarms.single.global_best - INFO - Optimize for 1 iters with {'c1': 0.5, 'c2': 0.3, 'w': 0.9}\n"
          ]
        },
        {
          "output_type": "stream",
          "name": "stdout",
          "text": [
            "\n",
            "=========================================================================\n",
            "\n",
            "Número de ciclos de manutenção: 9 2\n",
            "Tempos para manutenções preventivas: [0, 47, 60, 204, 272, 366, 480, 534, 645, 668]\n",
            "Severidade para cada subsistema: [0.25, 0.75, 0.25, 0.75, 0.75, 0.5, 0.5, 0.75, 0.75]\n",
            "Número de Sisemas: 2\n",
            "Fator:  [0.8646647167633873, 0.3934693402873666, 0.7768698398515702, 0.3934693402873666, 0.7768698398515702, 0.7768698398515702, 0.6321205588285577, 0.6321205588285577, 0.7768698398515702, 0.7768698398515702]\n",
            "Media de falhas:  [0, 73390.40224000001, 74257.55633128747, 61181019.851411454, 67150806.99325576, 400821589.1769384, 491433876.4680587, 521650681.6744425, 1307061387.8905783, 1448633503.63704, 1426211854.7442079]\n",
            "Custo =  75914752281.55798\n"
          ]
        },
        {
          "output_type": "stream",
          "name": "stderr",
          "text": [
            "pyswarms.single.global_best: 100%|██████████|1/1, best_cost=6.05e+10\n",
            "2023-09-24 22:28:08,039 - pyswarms.single.global_best - INFO - Optimization finished | best cost: 60496193571.40194, best pos: [3.45095708 1.57642495 5.15891637 2.7637527  0.74694101 5.8471966\n",
            " 3.64347011 3.93701365 0.75549143 1.77577933 5.89687941 4.5668049\n",
            " 0.60294538 0.89634862 0.50103855 4.37545995 3.12240883 4.42465645\n",
            " 2.90770219 2.90104055 6.39801727 5.50204259 0.95218265 3.57700156]\n",
            "2023-09-24 22:28:08,040 - pyswarms.single.global_best - INFO - Optimize for 1 iters with {'c1': 0.5, 'c2': 0.3, 'w': 0.9}\n"
          ]
        },
        {
          "output_type": "stream",
          "name": "stdout",
          "text": [
            "\n",
            "=========================================================================\n",
            "\n",
            "Número de ciclos de manutenção: 7 2\n",
            "Tempos para manutenções preventivas: [0, 47, 142, 175, 237, 482, 527, 647]\n",
            "Severidade para cada subsistema: [0.25, 0.75, 0.5, 0.5, 0.5, 0.5, 0.75]\n",
            "Número de Sisemas: 2\n",
            "Fator:  [0.8646647167633873, 0.3934693402873666, 0.7768698398515702, 0.6321205588285577, 0.6321205588285577, 0.6321205588285577, 0.6321205588285577, 0.7768698398515702]\n",
            "Media de falhas:  [0, 73390.40224000001, 3497114.9018412745, 9657850.463031476, 12999996.00573534, 1305780139.3454006, 1423475514.7849505, 2310631047.465502, 2147556722.0906906]\n",
            "Custo =  76131724049.90277\n"
          ]
        },
        {
          "output_type": "stream",
          "name": "stderr",
          "text": [
            "pyswarms.single.global_best: 100%|██████████|1/1, best_cost=6.05e+10\n",
            "2023-09-24 22:28:08,053 - pyswarms.single.global_best - INFO - Optimization finished | best cost: 60496193571.40194, best pos: [3.44469686 1.57649843 5.15890635 2.76376742 0.74532453 5.84693027\n",
            " 2.46456361 3.93465163 0.75532352 1.77596392 5.89734215 6.95879244\n",
            " 0.60376015 0.89328091 0.5022806  4.37545731 3.12243868 4.4246633\n",
            " 2.90760734 2.90104063 6.39793894 5.4981839  6.74715164 3.60402881]\n",
            "2023-09-24 22:28:08,054 - pyswarms.single.global_best - INFO - Optimize for 1 iters with {'c1': 0.5, 'c2': 0.3, 'w': 0.9}\n"
          ]
        },
        {
          "output_type": "stream",
          "name": "stdout",
          "text": [
            "\n",
            "=========================================================================\n",
            "\n",
            "Número de ciclos de manutenção: 7 2\n",
            "Tempos para manutenções preventivas: [0, 47, 174, 233, 483, 525, 648, 686]\n",
            "Severidade para cada subsistema: [0.25, 0.5, 0.5, 0.5, 0.5, 0.75, 0.25]\n",
            "Número de Sisemas: 2\n",
            "Fator:  [0.8646647167633873, 0.3934693402873666, 0.6321205588285577, 0.6321205588285577, 0.6321205588285577, 0.6321205588285577, 0.7768698398515702, 0.3934693402873666]\n",
            "Media de falhas:  [0, 73390.40224000001, 13572034.675274003, 47971160.093848616, 1411103777.2712226, 1518167765.9416533, 2442645330.3569613, 2712389801.7662344, 2685935802.5377126]\n",
            "Custo =  94459121334.46114\n"
          ]
        },
        {
          "output_type": "stream",
          "name": "stderr",
          "text": [
            "pyswarms.single.global_best: 100%|██████████|1/1, best_cost=6.05e+10\n",
            "2023-09-24 22:28:08,071 - pyswarms.single.global_best - INFO - Optimization finished | best cost: 60496193571.40194, best pos: [3.43893418 1.57659747 5.15888202 2.76377798 0.74400983 5.84680916\n",
            " 1.82706731 3.93298657 0.75520135 1.77622398 5.8971628  1.49219598\n",
            " 0.60487431 0.88989981 0.50641166 4.37545496 3.12319954 4.42471197\n",
            " 2.90763455 2.90103998 6.39813285 5.49809102 6.1064984  3.62195982]\n",
            "2023-09-24 22:28:08,073 - pyswarms.single.global_best - INFO - Optimize for 1 iters with {'c1': 0.5, 'c2': 0.3, 'w': 0.9}\n"
          ]
        },
        {
          "output_type": "stream",
          "name": "stdout",
          "text": [
            "\n",
            "=========================================================================\n",
            "\n",
            "Número de ciclos de manutenção: 11 2\n",
            "Tempos para manutenções preventivas: [0, 2, 47, 195, 229, 288, 333, 361, 484, 530, 650, 687]\n",
            "Severidade para cada subsistema: [0.5, 0.25, 0.25, 0.5, 0.5, 0.75, 0.75, 0.5, 0.5, 0.75, 0.5]\n",
            "Número de Sisemas: 2\n",
            "Fator:  [0.8646647167633873, 0.6321205588285577, 0.3934693402873666, 0.3934693402873666, 0.6321205588285577, 0.6321205588285577, 0.7768698398515702, 0.7768698398515702, 0.6321205588285577, 0.6321205588285577, 0.7768698398515702, 0.6321205588285577]\n",
            "Media de falhas:  [0, 0.01024, 60846.37207279647, 39541271.58359437, 58333410.5489026, 138916015.144023, 159722638.97299406, 175604771.46533313, 286336020.5589666, 309348227.77687514, 1211239462.1611505, 1474696325.7140408, 1448021203.5054028]\n",
            "Custo =  78238255739.15923\n"
          ]
        },
        {
          "output_type": "stream",
          "name": "stderr",
          "text": [
            "pyswarms.single.global_best: 100%|██████████|1/1, best_cost=6.05e+10\n",
            "2023-09-24 22:28:08,086 - pyswarms.single.global_best - INFO - Optimization finished | best cost: 60496193571.40194, best pos: [3.43391672 1.57670093 5.15884958 2.76377916 0.74298849 5.84674481\n",
            " 1.63229536 3.93180158 0.75511732 1.77655755 5.89579221 3.29472764\n",
            " 0.60610336 0.88671618 0.51069318 4.37545377 3.12425585 4.42489776\n",
            " 2.90793153 2.90100868 6.39831625 5.50156349 4.86439363 3.63267371]\n",
            "2023-09-24 22:28:08,087 - pyswarms.single.global_best - INFO - Optimize for 1 iters with {'c1': 0.5, 'c2': 0.3, 'w': 0.9}\n"
          ]
        },
        {
          "output_type": "stream",
          "name": "stdout",
          "text": [
            "\n",
            "=========================================================================\n",
            "\n",
            "Número de ciclos de manutenção: 9 2\n",
            "Tempos para manutenções preventivas: [0, 10, 47, 126, 206, 227, 335, 485, 539, 650]\n",
            "Severidade para cada subsistema: [0.5, 0.25, 0.25, 0.5, 0.5, 0.75, 0.5, 0.5, 0.75]\n",
            "Número de Sisemas: 2\n",
            "Fator:  [0.8646647167633873, 0.6321205588285577, 0.3934693402873666, 0.3934693402873666, 0.6321205588285577, 0.6321205588285577, 0.7768698398515702, 0.6321205588285577, 0.6321205588285577, 0.7768698398515702]\n",
            "Media de falhas:  [0, 32.0, 26588.24296578941, 2674980.779427951, 31808330.539453886, 43252575.65072949, 124384210.58151555, 602667790.9922508, 633863963.6042757, 1441420649.5732539, 1268665911.1275094]\n",
            "Custo =  64764956761.32605\n"
          ]
        },
        {
          "output_type": "stream",
          "name": "stderr",
          "text": [
            "pyswarms.single.global_best: 100%|██████████|1/1, best_cost=6.05e+10\n",
            "2023-09-24 22:28:08,099 - pyswarms.single.global_best - INFO - Optimization finished | best cost: 60496193571.40194, best pos: [3.42946278 1.57679947 5.15881801 2.76377192 0.74214528 5.8468783\n",
            " 2.0765382  3.93107819 0.755092   1.77687092 5.89366914 5.04714003\n",
            " 0.60717939 0.88403276 0.51509401 4.37545431 3.12619852 4.42507125\n",
            " 2.90832133 2.90097564 6.39874679 5.50738698 3.28575457 3.6349309 ]\n",
            "2023-09-24 22:28:08,101 - pyswarms.single.global_best - INFO - Optimize for 1 iters with {'c1': 0.5, 'c2': 0.3, 'w': 0.9}\n"
          ]
        },
        {
          "output_type": "stream",
          "name": "stdout",
          "text": [
            "\n",
            "=========================================================================\n",
            "\n",
            "Número de ciclos de manutenção: 13 2\n",
            "Tempos para manutenções preventivas: [0, 18, 47, 61, 171, 225, 294, 300, 333, 371, 486, 651, 675, 700]\n",
            "Severidade para cada subsistema: [0.5, 0.25, 0.75, 0.75, 0.5, 0.25, 0.25, 0.75, 0.5, 0.5, 0.75, 0.25, 0.25]\n",
            "Número de Sisemas: 2\n",
            "Fator:  [0.8646647167633873, 0.6321205588285577, 0.3934693402873666, 0.7768698398515702, 0.7768698398515702, 0.6321205588285577, 0.3934693402873666, 0.3934693402873666, 0.7768698398515702, 0.6321205588285577, 0.6321205588285577, 0.7768698398515702, 0.3934693402873666, 0.3934693402873666]\n",
            "Media de falhas:  [0, 604.6617600000001, 10428.644475787385, 19532.59046821243, 21961405.1785938, 24062444.790369745, 31662488.358176686, 33130210.43737899, 116169917.22987871, 263283588.04830277, 358884346.31596553, 1837206956.8595495, 1991513491.7368999, 2020161012.8814085, -1241906120.016147]\n",
            "Custo =  227875156138.77747\n"
          ]
        },
        {
          "output_type": "stream",
          "name": "stderr",
          "text": [
            "pyswarms.single.global_best: 100%|██████████|1/1, best_cost=6.05e+10\n",
            "2023-09-24 22:28:08,113 - pyswarms.single.global_best - INFO - Optimization finished | best cost: 60496193571.40194, best pos: [3.42590419 1.57689057 5.15879048 2.76376145 0.74207606 5.84719568\n",
            " 2.99096889 3.93076573 0.75518266 1.77710938 5.89153902 6.52647781\n",
            " 0.60791304 0.88204135 0.51867685 4.37545711 3.12821782 4.42525541\n",
            " 2.90870445 2.90093715 6.39939796 5.51305928 2.30972311 3.63503989]\n",
            "2023-09-24 22:28:08,115 - pyswarms.single.global_best - INFO - Optimize for 1 iters with {'c1': 0.5, 'c2': 0.3, 'w': 0.9}\n"
          ]
        },
        {
          "output_type": "stream",
          "name": "stdout",
          "text": [
            "\n",
            "=========================================================================\n",
            "\n",
            "Número de ciclos de manutenção: 11 2\n",
            "Tempos para manutenções preventivas: [0, 24, 47, 64, 123, 191, 223, 322, 486, 573, 615, 650]\n",
            "Severidade para cada subsistema: [0.5, 0.25, 0.75, 0.75, 0.25, 0.5, 0.75, 0.5, 0.5, 0.75, 0.75]\n",
            "Número de Sisemas: 2\n",
            "Fator:  [0.8646647167633873, 0.6321205588285577, 0.3934693402873666, 0.7768698398515702, 0.7768698398515702, 0.3934693402873666, 0.6321205588285577, 0.7768698398515702, 0.6321205588285577, 0.6321205588285577, 0.7768698398515702, 0.7768698398515702]\n",
            "Media de falhas:  [0, 2548.0396800000003, 6534.82027177234, 21211.121557401617, 2858788.163980885, 5388444.423982263, 6083680.562849993, 217337091.05746147, 785198114.6293263, 871649077.8510059, 1068828718.2244133, 1268535886.0068588, 1250480862.429289]\n",
            "Custo =  69840267806.13681\n"
          ]
        },
        {
          "output_type": "stream",
          "name": "stderr",
          "text": [
            "pyswarms.single.global_best: 100%|██████████|1/1, best_cost=6.05e+10\n",
            "2023-09-24 22:28:08,128 - pyswarms.single.global_best - INFO - Optimization finished | best cost: 60496193571.40194, best pos: [3.42334993 1.5769724  5.15877114 2.7637515  0.74211418 5.84755463\n",
            " 4.26939687 3.93118053 0.75534157 1.77729671 5.88972286 0.29300048\n",
            " 0.60822136 0.88174834 0.52016977 4.37545984 3.12995344 4.42541736\n",
            " 2.90910158 2.9008998  6.40004963 5.51815528 2.02674892 3.62008355]\n",
            "2023-09-24 22:28:08,129 - pyswarms.single.global_best - INFO - Optimize for 1 iters with {'c1': 0.5, 'c2': 0.3, 'w': 0.9}\n"
          ]
        },
        {
          "output_type": "stream",
          "name": "stdout",
          "text": [
            "\n",
            "=========================================================================\n",
            "\n",
            "Número de ciclos de manutenção: 11 2\n",
            "Tempos para manutenções preventivas: [0, 28, 47, 67, 135, 226, 301, 386, 486, 579, 648, 719]\n",
            "Severidade para cada subsistema: [0.5, 0.25, 0.75, 0.5, 0.5, 0.5, 0.25, 0.5, 0.5, 0.75, 0.5]\n",
            "Número de Sisemas: 2\n",
            "Fator:  [0.8646647167633873, 0.6321205588285577, 0.3934693402873666, 0.7768698398515702, 0.6321205588285577, 0.6321205588285577, 0.6321205588285577, 0.3934693402873666, 0.6321205588285577, 0.6321205588285577, 0.7768698398515702, 0.6321205588285577]\n",
            "Media de falhas:  [0, 5507.317760000001, 7474.1081490258475, 30054.055972087954, 4836869.80370686, 13171033.680519834, 43549472.90102782, 130151860.04710075, 377282862.3367103, 2470804576.0357976, 2901206460.7437763, 3561950682.6696835, 3527981374.823971]\n",
            "Custo =  169597269462.1458\n"
          ]
        },
        {
          "output_type": "stream",
          "name": "stderr",
          "text": [
            "pyswarms.single.global_best:   0%|          |0/1, best_cost=6.05e+10"
          ]
        },
        {
          "output_type": "stream",
          "name": "stdout",
          "text": [
            "\n",
            "=========================================================================\n",
            "\n",
            "Número de ciclos de manutenção: 10 2\n",
            "Tempos para manutenções preventivas: [0, 47, 69, 130, 231, 393, 486, 512, 584, 647, 676]\n",
            "Severidade para cada subsistema: [0.25, 0.75, 0.25, 0.5, 0.25, 0.5, 0.75, 0.5, 0.75, 0.25]\n",
            "Número de Sisemas: 2\n",
            "Fator:  [0.8646647167633873, 0.3934693402873666, 0.7768698398515702, 0.3934693402873666, 0.6321205588285577, 0.3934693402873666, 0.6321205588285577, 0.7768698398515702, 0.6321205588285577, 0.7768698398515702, 0.3934693402873666]\n",
            "Media de falhas:  [0, 73390.40224000001, 79258.4365785301, 3721029.301963616, 15598996.88367892, 803635866.5258647, 1025619265.626476, 1400219173.4598947, 1707158049.750074, 1781512479.4679766, 1971420287.5912979, 1947186655.193234]\n",
            "Custo =  136595372927.48224\n"
          ]
        },
        {
          "output_type": "stream",
          "name": "stderr",
          "text": [
            "\rpyswarms.single.global_best: 100%|██████████|1/1, best_cost=6.05e+10\n",
            "2023-09-24 22:28:08,149 - pyswarms.single.global_best - INFO - Optimization finished | best cost: 60496193571.40194, best pos: [3.42105948 1.57702667 5.1587606  2.7637421  0.7429594  5.8478753\n",
            " 5.73867896 3.93224917 0.75548759 1.77742021 5.88809982 1.35767782\n",
            " 0.60786478 0.88252561 0.51945869 4.37546316 3.13106793 4.42552468\n",
            " 2.90944535 2.90086693 6.40057934 5.52273665 2.40387535 3.5984987 ]\n",
            "2023-09-24 22:28:08,151 - pyswarms.single.global_best - INFO - Optimize for 1 iters with {'c1': 0.5, 'c2': 0.3, 'w': 0.9}\n",
            "pyswarms.single.global_best: 100%|██████████|1/1, best_cost=6.05e+10\n",
            "2023-09-24 22:28:08,170 - pyswarms.single.global_best - INFO - Optimization finished | best cost: 60496193571.40194, best pos: [3.42474182 1.57707473 5.1587723  2.76373558 0.7440667  5.84808947\n",
            " 0.65962645 3.93455184 0.7556287  1.77745064 5.887095   2.34069442\n",
            " 0.60695013 0.8843373  0.51680505 4.37546613 3.13202631 4.4255871\n",
            " 2.90969244 2.90084871 6.40097855 5.52408053 2.98573966 3.57275632]\n",
            "2023-09-24 22:28:08,172 - pyswarms.single.global_best - INFO - Optimize for 1 iters with {'c1': 0.5, 'c2': 0.3, 'w': 0.9}\n"
          ]
        },
        {
          "output_type": "stream",
          "name": "stdout",
          "text": [
            "\n",
            "=========================================================================\n",
            "\n",
            "Número de ciclos de manutenção: 13 2\n",
            "Tempos para manutenções preventivas: [0, 28, 47, 70, 209, 236, 318, 398, 485, 514, 584, 603, 645, 676]\n",
            "Severidade para cada subsistema: [0.5, 0.25, 0.75, 0.25, 0.5, 0.75, 0.25, 0.5, 0.75, 0.5, 0.25, 0.75, 0.5]\n",
            "Número de Sisemas: 2\n",
            "Fator:  [0.8646647167633873, 0.6321205588285577, 0.3934693402873666, 0.7768698398515702, 0.3934693402873666, 0.6321205588285577, 0.7768698398515702, 0.3934693402873666, 0.6321205588285577, 0.7768698398515702, 0.6321205588285577, 0.3934693402873666, 0.7768698398515702, 0.6321205588285577]\n",
            "Media de falhas:  [0, 5507.317760000001, 7474.1081490258475, 40954.20359117794, 62950376.444857605, 63572502.28199771, 229450752.78248763, 317351640.3286984, 369326422.77161413, 792378503.3174, 1088619763.020815, 1100341602.3418891, 1337501143.4106507, 2698603227.733713, 2674369595.335649]\n",
            "Custo =  294021838365.1898\n"
          ]
        },
        {
          "output_type": "stream",
          "name": "stderr",
          "text": [
            "pyswarms.single.global_best:   0%|          |0/1, best_cost=6.05e+10"
          ]
        },
        {
          "output_type": "stream",
          "name": "stdout",
          "text": [
            "\n",
            "=========================================================================\n",
            "\n",
            "Número de ciclos de manutenção: 12 2\n",
            "Tempos para manutenções preventivas: [0, 23, 47, 70, 174, 313, 358, 400, 484, 513, 583, 643, 675]\n",
            "Severidade para cada subsistema: [0.5, 0.25, 0.75, 0.5, 0.5, 0.5, 0.25, 0.5, 0.75, 0.5, 0.75, 0.75]\n",
            "Número de Sisemas: 2\n",
            "Fator:  [0.8646647167633873, 0.6321205588285577, 0.3934693402873666, 0.7768698398515702, 0.6321205588285577, 0.6321205588285577, 0.6321205588285577, 0.3934693402873666, 0.6321205588285577, 0.7768698398515702, 0.6321205588285577, 0.7768698398515702, 0.7768698398515702]\n",
            "Media de falhas:  [0, 2059.6297600000003, 6747.829233971817, 40227.92467612391, 21558764.47822091, 78430208.28643885, 105660912.79257575, 143582742.88856933, 332675751.8668654, 752419708.1672977, 1046765721.082998, 1114257824.312482, 1324204532.0103793, 1300194956.0703177]\n",
            "Custo =  124246540374.11066\n"
          ]
        },
        {
          "output_type": "stream",
          "name": "stderr",
          "text": [
            "\rpyswarms.single.global_best: 100%|██████████|1/1, best_cost=6.05e+10\n",
            "2023-09-24 22:28:08,186 - pyswarms.single.global_best - INFO - Optimization finished | best cost: 60496193571.40194, best pos: [3.43305691 1.57708793 5.15878413 2.76373147 0.74536002 5.8482765\n",
            " 3.09158719 3.93679838 0.75573569 1.7773191  5.88731854 3.72447877\n",
            " 0.60608401 0.88726195 0.5142639  4.37546784 3.13281884 4.4256397\n",
            " 2.9098014  2.90084917 6.40122529 5.52261444 4.13948339 3.54945045]\n",
            "2023-09-24 22:28:08,188 - pyswarms.single.global_best - INFO - Optimize for 1 iters with {'c1': 0.5, 'c2': 0.3, 'w': 0.9}\n",
            "pyswarms.single.global_best: 100%|██████████|1/1, best_cost=6.05e+10\n",
            "2023-09-24 22:28:08,200 - pyswarms.single.global_best - INFO - Optimization finished | best cost: 60496193571.40194, best pos: [3.44087744 1.57708427 5.15880076 2.76372891 0.74667946 5.84827316\n",
            " 5.33340069 3.93882395 0.75582842 1.77714772 5.88825543 5.1200468\n",
            " 0.60525787 0.89014354 0.51154775 4.37546933 3.13352638 4.42564898\n",
            " 2.90974268 2.90086747 6.40111966 5.51966069 5.1879249  3.53081898]\n",
            "2023-09-24 22:28:08,201 - pyswarms.single.global_best - INFO - Optimize for 1 iters with {'c1': 0.5, 'c2': 0.3, 'w': 0.9}\n"
          ]
        },
        {
          "output_type": "stream",
          "name": "stdout",
          "text": [
            "\n",
            "=========================================================================\n",
            "\n",
            "Número de ciclos de manutenção: 15 2\n",
            "Tempos para manutenções preventivas: [0, 18, 47, 69, 144, 159, 242, 284, 311, 356, 400, 484, 513, 579, 642, 714]\n",
            "Severidade para cada subsistema: [0.5, 0.25, 0.75, 0.25, 0.75, 0.25, 0.25, 0.25, 0.5, 0.25, 0.5, 0.75, 0.5, 0.75, 0.75]\n",
            "Número de Sisemas: 2\n",
            "Fator:  [0.8646647167633873, 0.6321205588285577, 0.3934693402873666, 0.7768698398515702, 0.3934693402873666, 0.7768698398515702, 0.3934693402873666, 0.3934693402873666, 0.3934693402873666, 0.6321205588285577, 0.3934693402873666, 0.6321205588285577, 0.7768698398515702, 0.6321205588285577, 0.7768698398515702, 0.7768698398515702]\n",
            "Media de falhas:  [0, 604.6617600000001, 10428.644475787385, 39896.679715252416, 6969973.149564057, 7033431.453387667, 63892848.801255874, 66354802.76191624, 118331558.84115377, 264652302.20110852, 494109791.0750239, 683202800.0533199, 1102946756.3537521, 1369490126.7830074, 1441886526.9398692, 2096265983.320168, 2063484914.009686]\n",
            "Custo =  170089895909.1432\n"
          ]
        },
        {
          "output_type": "stream",
          "name": "stderr",
          "text": [
            "pyswarms.single.global_best: 100%|██████████|1/1, best_cost=6.05e+10\n",
            "2023-09-24 22:28:08,219 - pyswarms.single.global_best - INFO - Optimization finished | best cost: 60496193571.40194, best pos: [3.44797721 1.57702808 5.15881752 2.76373012 0.74786519 5.84810679\n",
            " 0.07146293 3.94014424 0.75588146 1.77687857 5.88975173 6.30369983\n",
            " 0.60453083 0.8924431  0.50943584 4.37546965 3.13306764 4.4256294\n",
            " 2.90954032 2.90088608 6.40066766 5.51689869 5.946256   3.521636  ]\n"
          ]
        },
        {
          "output_type": "stream",
          "name": "stdout",
          "text": [
            "\n",
            "=========================================================================\n",
            "\n",
            "Número de ciclos de manutenção: 14 2\n",
            "Tempos para manutenções preventivas: [0, 12, 47, 67, 90, 192, 244, 357, 389, 399, 483, 573, 619, 641, 664]\n",
            "Severidade para cada subsistema: [0.5, 0.25, 0.75, 0.5, 0.25, 0.25, 0.5, 0.5, 0.25, 0.5, 0.5, 0.25, 0.75, 0.5]\n",
            "Número de Sisemas: 2\n",
            "Fator:  [0.8646647167633873, 0.6321205588285577, 0.3934693402873666, 0.7768698398515702, 0.6321205588285577, 0.3934693402873666, 0.3934693402873666, 0.6321205588285577, 0.6321205588285577, 0.3934693402873666, 0.6321205588285577, 0.6321205588285577, 0.3934693402873666, 0.7768698398515702, 0.6321205588285577]\n",
            "Media de falhas:  [0, 79.62624000000001, 21164.94485192538, 43744.89267498748, 342258.51667687437, 9018882.336180564, 17331625.388940334, 382137709.6587426, 533247173.6170677, 540963116.5421312, 728655668.7452188, 2673810378.218645, 2897967198.396939, 3012761297.1602798, 3959099714.0936284, 3937606154.690849]\n",
            "Custo =  337603675916.3855\n"
          ]
        },
        {
          "output_type": "stream",
          "name": "stderr",
          "text": [
            "2023-09-24 22:28:08,221 - pyswarms.single.global_best - INFO - Optimize for 1 iters with {'c1': 0.5, 'c2': 0.3, 'w': 0.9}\n",
            "pyswarms.single.global_best: 100%|██████████|1/1, best_cost=6.05e+10\n",
            "2023-09-24 22:28:08,233 - pyswarms.single.global_best - INFO - Optimization finished | best cost: 60496193571.40194, best pos: [3.4534128  1.57695944 5.15883595 2.76373577 0.74862646 5.84781621\n",
            " 2.35740433 3.94048344 0.75584185 1.7765906  5.89168807 6.83235431\n",
            " 0.60416368 0.89411201 0.50794992 4.37546829 3.13170884 4.42555389\n",
            " 2.90922043 2.90090832 6.4001058  5.51437932 6.26536541 3.51613733]\n",
            "2023-09-24 22:28:08,235 - pyswarms.single.global_best - INFO - Optimize for 1 iters with {'c1': 0.5, 'c2': 0.3, 'w': 0.9}\n"
          ]
        },
        {
          "output_type": "stream",
          "name": "stdout",
          "text": [
            "\n",
            "=========================================================================\n",
            "\n",
            "Número de ciclos de manutenção: 9 2\n",
            "Tempos para manutenções preventivas: [0, 8, 47, 65, 193, 244, 396, 483, 641, 676]\n",
            "Severidade para cada subsistema: [0.5, 0.25, 0.75, 0.5, 0.25, 0.25, 0.5, 0.75, 0.75]\n",
            "Número de Sisemas: 2\n",
            "Fator:  [0.8646647167633873, 0.6321205588285577, 0.3934693402873666, 0.7768698398515702, 0.6321205588285577, 0.3934693402873666, 0.3934693402873666, 0.6321205588285577, 0.7768698398515702, 0.7768698398515702]\n",
            "Media de falhas:  [0, 10.48576, 33118.5548280265, 50139.80691184093, 42116060.44620349, 44425179.73040323, 306859342.36155444, 1250908877.7817829, 6528209858.172113, 6760981557.048331, 6736747924.650268]\n",
            "Custo =  213294081655.56265\n"
          ]
        },
        {
          "output_type": "stream",
          "name": "stderr",
          "text": [
            "pyswarms.single.global_best: 100%|██████████|1/1, best_cost=6.05e+10\n",
            "2023-09-24 22:28:08,248 - pyswarms.single.global_best - INFO - Optimization finished | best cost: 60496193571.40194, best pos: [3.45826436 1.57688973 5.15885251 2.76374282 0.74895796 5.84752391\n",
            " 4.75149941 3.9400195  0.75579959 1.77633793 5.89348186 6.88351837\n",
            " 0.60395037 0.89520296 0.50764885 4.37546549 3.13003779 4.42540955\n",
            " 2.90889112 2.90093198 6.39949297 5.51202022 6.7095143  3.51396311]\n",
            "2023-09-24 22:28:08,249 - pyswarms.single.global_best - INFO - Optimize for 1 iters with {'c1': 0.5, 'c2': 0.3, 'w': 0.9}\n"
          ]
        },
        {
          "output_type": "stream",
          "name": "stdout",
          "text": [
            "\n",
            "=========================================================================\n",
            "\n",
            "Número de ciclos de manutenção: 10 2\n",
            "Tempos para manutenções preventivas: [0, 4, 47, 64, 154, 193, 240, 393, 482, 641, 710]\n",
            "Severidade para cada subsistema: [0.5, 0.25, 0.75, 0.5, 0.75, 0.25, 0.25, 0.5, 0.75, 0.25]\n",
            "Número de Sisemas: 2\n",
            "Fator:  [0.8646647167633873, 0.6321205588285577, 0.3934693402873666, 0.7768698398515702, 0.6321205588285577, 0.7768698398515702, 0.3934693402873666, 0.3934693402873666, 0.6321205588285577, 0.7768698398515702, 0.3934693402873666]\n",
            "Media de falhas:  [0, 0.32768, 50079.712701923636, 64756.01398755291, 11387498.98486823, 12052166.06807512, 18795834.84658749, 138961379.68022853, 1095865943.0698829, 6406365865.577955, 7015016240.382985, 6983168915.379335]\n",
            "Custo =  217341623787.7694\n"
          ]
        },
        {
          "output_type": "stream",
          "name": "stderr",
          "text": [
            "pyswarms.single.global_best: 100%|██████████|1/1, best_cost=6.05e+10\n",
            "2023-09-24 22:28:08,262 - pyswarms.single.global_best - INFO - Optimization finished | best cost: 60496193571.40194, best pos: [3.45839307 1.57682673 5.15886374 2.76375059 0.7484363  5.84726183\n",
            " 6.59117443 3.9390469  0.75569999 1.77616913 5.89491284 6.69566653\n",
            " 0.60396835 0.89606038 0.5087003  4.37546293 3.12809217 4.4252773\n",
            " 2.90860843 2.90095267 6.39896026 5.50994119 0.6718768  3.52030337]\n",
            "2023-09-24 22:28:08,264 - pyswarms.single.global_best - INFO - Optimize for 1 iters with {'c1': 0.5, 'c2': 0.3, 'w': 0.9}\n"
          ]
        },
        {
          "output_type": "stream",
          "name": "stdout",
          "text": [
            "\n",
            "=========================================================================\n",
            "\n",
            "Número de ciclos de manutenção: 9 2\n",
            "Tempos para manutenções preventivas: [0, 1, 47, 62, 161, 366, 482, 625, 643, 676]\n",
            "Severidade para cada subsistema: [0.5, 0.25, 0.75, 0.75, 0.25, 0.5, 0.25, 0.75, 0.5]\n",
            "Número de Sisemas: 2\n",
            "Fator:  [0.8646647167633873, 0.6321205588285577, 0.3934693402873666, 0.7768698398515702, 0.7768698398515702, 0.3934693402873666, 0.6321205588285577, 0.3934693402873666, 0.7768698398515702, 0.6321205588285577]\n",
            "Media de falhas:  [0, 0.00032, 66883.40675760596, 77622.34292688822, 15275896.811935293, 275003371.17156297, 370402911.4833733, 4691209046.956113, 4785325863.485758, 6231770191.193714, 6207536558.7956505]\n",
            "Custo =  327358847313.5058\n"
          ]
        },
        {
          "output_type": "stream",
          "name": "stderr",
          "text": [
            "pyswarms.single.global_best: 100%|██████████|1/1, best_cost=6.05e+10\n",
            "2023-09-24 22:28:08,277 - pyswarms.single.global_best - INFO - Optimization finished | best cost: 60496193571.40194, best pos: [3.45795601 1.57677051 5.15887079 2.76375721 0.74792657 5.8470415\n",
            " 1.77165848 3.93805144 0.75557482 1.7760723  5.89571999 6.37718162\n",
            " 0.60438837 0.8947769  0.50985112 4.37546059 3.12628858 4.42514281\n",
            " 2.90840653 2.90096532 6.39865224 5.50873347 2.19619601 3.5260145 ]\n",
            "2023-09-24 22:28:08,278 - pyswarms.single.global_best - INFO - Optimize for 1 iters with {'c1': 0.5, 'c2': 0.3, 'w': 0.9}\n"
          ]
        },
        {
          "output_type": "stream",
          "name": "stdout",
          "text": [
            "\n",
            "=========================================================================\n",
            "\n",
            "Número de ciclos de manutenção: 10 2\n",
            "Tempos para manutenções preventivas: [0, 1, 47, 61, 138, 237, 366, 482, 606, 644, 684]\n",
            "Severidade para cada subsistema: [0.5, 0.25, 0.75, 0.25, 0.5, 0.75, 0.5, 0.25, 0.75, 0.75]\n",
            "Número de Sisemas: 2\n",
            "Fator:  [0.8646647167633873, 0.6321205588285577, 0.3934693402873666, 0.7768698398515702, 0.3934693402873666, 0.6321205588285577, 0.7768698398515702, 0.6321205588285577, 0.3934693402873666, 0.7768698398515702, 0.7768698398515702]\n",
            "Media de falhas:  [0, 0.00032, 66883.40675760596, 75987.352750031, 6214688.434150596, 17992441.87167572, 481361662.48761266, 783746022.69555, 992132982.61253, 1203008173.2880688, 3030840766.8114023, 3004829127.203793]\n",
            "Custo =  238539727148.30728\n"
          ]
        },
        {
          "output_type": "stream",
          "name": "stderr",
          "text": [
            "pyswarms.single.global_best: 100%|██████████|1/1, best_cost=6.05e+10\n",
            "2023-09-24 22:28:08,293 - pyswarms.single.global_best - INFO - Optimization finished | best cost: 60496193571.40194, best pos: [3.45376662 1.57673135 5.15887098 2.7637609  0.74691881 5.84685859\n",
            " 4.38987068 3.93688585 0.75545023 1.77608562 5.89585228 5.6712186\n",
            " 0.60481835 0.89225816 0.51153253 4.37545905 3.12502733 4.42502767\n",
            " 2.90840416 2.90097077 6.39861207 5.50838751 4.02298128 3.541876  ]\n",
            "2023-09-24 22:28:08,294 - pyswarms.single.global_best - INFO - Optimize for 1 iters with {'c1': 0.5, 'c2': 0.3, 'w': 0.9}\n"
          ]
        },
        {
          "output_type": "stream",
          "name": "stdout",
          "text": [
            "\n",
            "=========================================================================\n",
            "\n",
            "Número de ciclos de manutenção: 10 2\n",
            "Tempos para manutenções preventivas: [0, 4, 47, 60, 134, 161, 233, 483, 607, 645, 675]\n",
            "Severidade para cada subsistema: [0.5, 0.25, 0.75, 0.75, 0.5, 0.5, 0.5, 0.25, 0.75, 0.25]\n",
            "Número de Sisemas: 2\n",
            "Fator:  [0.8646647167633873, 0.6321205588285577, 0.3934693402873666, 0.7768698398515702, 0.7768698398515702, 0.6321205588285577, 0.6321205588285577, 0.6321205588285577, 0.3934693402873666, 0.7768698398515702, 0.3934693402873666]\n",
            "Media de falhas:  [0, 0.32768, 50079.712701923636, 57744.838380597794, 5283398.5210915115, 5466601.020763001, 10132775.312364908, 1373265392.4897387, 2116282058.6219866, 2328434927.7170973, 3638932857.2463264, 3614923281.306265]\n",
            "Custo =  244699711253.72852\n"
          ]
        },
        {
          "output_type": "stream",
          "name": "stderr",
          "text": [
            "pyswarms.single.global_best: 100%|██████████|1/1, best_cost=6.05e+10\n",
            "2023-09-24 22:28:08,306 - pyswarms.single.global_best - INFO - Optimization finished | best cost: 60496193571.40194, best pos: [3.44788058 1.57672456 5.15886261 2.7637638  0.74577851 5.84673604\n",
            " 6.44923496 3.93583527 0.75534015 1.77620429 5.89573123 5.02900665\n",
            " 0.60550713 0.88919421 0.51318839 4.37545832 3.12426535 4.42497492\n",
            " 2.90840855 2.90097173 6.39865818 5.50921467 5.41737047 3.55814137]\n",
            "2023-09-24 22:28:08,307 - pyswarms.single.global_best - INFO - Optimize for 1 iters with {'c1': 0.5, 'c2': 0.3, 'w': 0.9}\n"
          ]
        },
        {
          "output_type": "stream",
          "name": "stdout",
          "text": [
            "\n",
            "=========================================================================\n",
            "\n",
            "Número de ciclos de manutenção: 7 2\n",
            "Tempos para manutenções preventivas: [0, 8, 47, 134, 180, 231, 483, 646]\n",
            "Severidade para cada subsistema: [0.5, 0.25, 0.25, 0.75, 0.5, 0.5, 0.75]\n",
            "Número de Sisemas: 2\n",
            "Fator:  [0.8646647167633873, 0.6321205588285577, 0.3934693402873666, 0.3934693402873666, 0.7768698398515702, 0.6321205588285577, 0.6321205588285577, 0.7768698398515702]\n",
            "Media de falhas:  [0, 10.48576, 33118.5548280265, 3980561.515490133, 13532997.483550513, 42308512.4912824, 866807740.2383513, 2278785453.1376343, 2118949914.1504934]\n",
            "Custo =  64908234734.30983\n"
          ]
        },
        {
          "output_type": "stream",
          "name": "stderr",
          "text": [
            "pyswarms.single.global_best: 100%|██████████|1/1, best_cost=6.05e+10\n",
            "2023-09-24 22:28:08,319 - pyswarms.single.global_best - INFO - Optimization finished | best cost: 60496193571.40194, best pos: [3.44194193 1.57673483 5.15885036 2.76376348 0.74478714 5.84673656\n",
            " 1.13985906 3.93502198 0.75527158 1.77637135 5.89555716 4.38533772\n",
            " 0.60614485 0.88640692 0.51455826 4.37545899 3.12454229 4.4249755\n",
            " 2.90856027 2.90096872 6.39897668 5.51030466 6.88891663 3.57372988]\n",
            "2023-09-24 22:28:08,320 - pyswarms.single.global_best - INFO - Optimize for 1 iters with {'c1': 0.5, 'c2': 0.3, 'w': 0.9}\n"
          ]
        },
        {
          "output_type": "stream",
          "name": "stdout",
          "text": [
            "\n",
            "=========================================================================\n",
            "\n",
            "Número de ciclos de manutenção: 7 2\n",
            "Tempos para manutenções preventivas: [0, 13, 47, 230, 370, 483, 647, 705]\n",
            "Severidade para cada subsistema: [0.5, 0.25, 0.5, 0.5, 0.5, 0.75, 0.75]\n",
            "Número de Sisemas: 2\n",
            "Fator:  [0.8646647167633873, 0.6321205588285577, 0.3934693402873666, 0.6321205588285577, 0.6321205588285577, 0.6321205588285577, 0.7768698398515702, 0.7768698398515702]\n",
            "Media de falhas:  [0, 118.81376000000002, 18829.876728978048, 103163750.79084244, 632109372.7789918, 924168019.7200477, 2357827041.003157, 2840717197.521101, 2810018639.380824]\n",
            "Custo =  97147395007.35367\n"
          ]
        },
        {
          "output_type": "stream",
          "name": "stderr",
          "text": [
            "pyswarms.single.global_best: 100%|██████████|1/1, best_cost=6.05e+10\n",
            "2023-09-24 22:28:08,333 - pyswarms.single.global_best - INFO - Optimization finished | best cost: 60496193571.40194, best pos: [3.43657882 1.57675036 5.15883446 2.76376007 0.74414492 5.8468594\n",
            " 3.29371311 3.93476606 0.75523032 1.77656509 5.89512585 3.80945458\n",
            " 0.60666221 0.88407984 0.51555362 4.37545988 3.12501132 4.42502626\n",
            " 2.90882577 2.90095747 6.39926546 5.51180992 1.72512865 3.58679948]\n",
            "2023-09-24 22:28:08,334 - pyswarms.single.global_best - INFO - Optimize for 1 iters with {'c1': 0.5, 'c2': 0.3, 'w': 0.9}\n"
          ]
        },
        {
          "output_type": "stream",
          "name": "stdout",
          "text": [
            "\n",
            "=========================================================================\n",
            "\n",
            "Número de ciclos de manutenção: 8 2\n",
            "Tempos para manutenções preventivas: [0, 17, 47, 158, 228, 303, 484, 600, 648]\n",
            "Severidade para cada subsistema: [0.5, 0.25, 0.75, 0.5, 0.25, 0.5, 0.75, 0.75]\n",
            "Número de Sisemas: 2\n",
            "Fator:  [0.8646647167633873, 0.6321205588285577, 0.3934693402873666, 0.7768698398515702, 0.6321205588285577, 0.3934693402873666, 0.6321205588285577, 0.7768698398515702, 0.7768698398515702]\n",
            "Media de falhas:  [0, 454.35424000000006, 11705.813204622757, 11131591.949880846, 48677062.68223487, 58679724.25177728, 737932152.2977908, 3727862870.891697, 4008648957.9117045, 3991117448.930454]\n",
            "Custo =  146053217403.36453\n"
          ]
        },
        {
          "output_type": "stream",
          "name": "stderr",
          "text": [
            "pyswarms.single.global_best:   0%|          |0/1, best_cost=6.05e+10"
          ]
        },
        {
          "output_type": "stream",
          "name": "stdout",
          "text": [
            "\n",
            "=========================================================================\n",
            "\n",
            "Número de ciclos de manutenção: 10 2\n",
            "Tempos para manutenções preventivas: [0, 20, 47, 60, 181, 228, 291, 322, 484, 647, 691]\n",
            "Severidade para cada subsistema: [0.5, 0.25, 0.75, 0.75, 0.5, 0.25, 0.75, 0.5, 0.75, 0.5]\n",
            "Número de Sisemas: 2\n",
            "Fator:  [0.8646647167633873, 0.6321205588285577, 0.3934693402873666, 0.7768698398515702, 0.7768698398515702, 0.6321205588285577, 0.3934693402873666, 0.7768698398515702, 0.6321205588285577, 0.7768698398515702, 0.6321205588285577]\n",
            "Media de falhas:  [0, 1024.0, 8427.204008495542, 16092.329687169702, 30902964.657432187, 32499279.031183347, 38517496.94029534, 50064633.57669516, 1822650961.2611363, 2285638331.037373, 2612049212.6542163, 2584488937.2354827]\n",
            "Custo =  89047008458.73625\n"
          ]
        },
        {
          "output_type": "stream",
          "name": "stderr",
          "text": [
            "\rpyswarms.single.global_best: 100%|██████████|1/1, best_cost=6.05e+10\n",
            "2023-09-24 22:28:08,348 - pyswarms.single.global_best - INFO - Optimization finished | best cost: 60496193571.40194, best pos: [3.43324997 1.57678346 5.1588198  2.76375565 0.74385125 5.8470772\n",
            " 5.67816046 3.93467781 0.75520339 1.77675218 5.89451958 3.42309001\n",
            " 0.60701754 0.88270147 0.51634374 4.3754608  3.12572539 4.4251153\n",
            " 2.90910458 2.90094711 6.39960327 5.5133534  3.94429034 3.59239006]\n",
            "2023-09-24 22:28:08,350 - pyswarms.single.global_best - INFO - Optimize for 1 iters with {'c1': 0.5, 'c2': 0.3, 'w': 0.9}\n",
            "pyswarms.single.global_best: 100%|██████████|1/1, best_cost=6.05e+10\n",
            "2023-09-24 22:28:08,362 - pyswarms.single.global_best - INFO - Optimization finished | best cost: 60496193571.40194, best pos: [3.43223698 1.57682726 5.15880725 2.76374967 0.74413239 5.84731942\n",
            " 0.04115828 3.93506869 0.75518751 1.77691245 5.89357761 3.11446756\n",
            " 0.60732343 0.88278066 0.51631757 4.37546206 3.12683755 4.42521375\n",
            " 2.90934153 2.90093231 6.39990827 5.51457699 6.52067369 3.58967295]\n"
          ]
        },
        {
          "output_type": "stream",
          "name": "stdout",
          "text": [
            "\n",
            "=========================================================================\n",
            "\n",
            "Número de ciclos de manutenção: 10 2\n",
            "Tempos para manutenções preventivas: [0, 22, 47, 61, 228, 283, 386, 484, 573, 646, 719]\n",
            "Severidade para cada subsistema: [0.5, 0.25, 0.75, 0.5, 0.25, 0.25, 0.5, 0.5, 0.75, 0.25]\n",
            "Número de Sisemas: 2\n",
            "Fator:  [0.8646647167633873, 0.6321205588285577, 0.3934693402873666, 0.7768698398515702, 0.6321205588285577, 0.3934693402873666, 0.3934693402873666, 0.6321205588285577, 0.6321205588285577, 0.7768698398515702, 0.3934693402873666]\n",
            "Media de falhas:  [0, 1649.16224, 7134.191717299556, 16238.137709724602, 113047411.17693703, 117195229.42154047, 235223545.207094, 1303232049.6984437, 3227697095.058244, 3683591868.363511, 4366799738.828596, 4332830430.982883]\n",
            "Custo =  201239800526.21658\n"
          ]
        },
        {
          "output_type": "stream",
          "name": "stderr",
          "text": [
            "2023-09-24 22:28:08,364 - pyswarms.single.global_best - INFO - Optimize for 1 iters with {'c1': 0.5, 'c2': 0.3, 'w': 0.9}\n",
            "pyswarms.single.global_best:   0%|          |0/1, best_cost=6.05e+10"
          ]
        },
        {
          "output_type": "stream",
          "name": "stdout",
          "text": [
            "\n",
            "=========================================================================\n",
            "\n",
            "Número de ciclos de manutenção: 12 2\n",
            "Tempos para manutenções preventivas: [0, 24, 47, 62, 159, 206, 229, 278, 484, 575, 625, 645, 690]\n",
            "Severidade para cada subsistema: [0.5, 0.25, 0.75, 0.25, 0.5, 0.5, 0.25, 0.5, 0.5, 0.75, 0.75, 0.25]\n",
            "Número de Sisemas: 2\n",
            "Fator:  [0.8646647167633873, 0.6321205588285577, 0.3934693402873666, 0.7768698398515702, 0.3934693402873666, 0.6321205588285577, 0.6321205588285577, 0.3934693402873666, 0.6321205588285577, 0.6321205588285577, 0.7768698398515702, 0.7768698398515702, 0.3934693402873666]\n",
            "Media de falhas:  [0, 2548.0396800000003, 6534.82027177234, 17273.7564410546, 14133370.09365592, 15336713.119839342, 28273110.658222713, 40355108.57784154, 927635458.3339027, 2921362168.040228, 3177366308.0846767, 3283769835.003985, 3341018517.2794704, 3313679715.794913]\n",
            "Custo =  156854546824.95255\n"
          ]
        },
        {
          "output_type": "stream",
          "name": "stderr",
          "text": [
            "\rpyswarms.single.global_best: 100%|██████████|1/1, best_cost=6.05e+10\n",
            "2023-09-24 22:28:08,393 - pyswarms.single.global_best - INFO - Optimization finished | best cost: 60496193571.40194, best pos: [3.43154465 1.57687946 5.15879996 2.76374411 0.74445889 5.84756815\n",
            " 2.13874223 3.93563668 0.75521632 1.77697094 5.8926259  3.05264617\n",
            " 0.60730755 0.88455323 0.51609241 4.3754634  3.12797794 4.42530158\n",
            " 2.90951266 2.9009172  6.40011767 5.51529966 1.30236048 3.58348441]\n",
            "2023-09-24 22:28:08,398 - pyswarms.single.global_best - INFO - Optimize for 1 iters with {'c1': 0.5, 'c2': 0.3, 'w': 0.9}\n",
            "pyswarms.single.global_best: 100%|██████████|1/1, best_cost=6.05e+10\n",
            "2023-09-24 22:28:08,414 - pyswarms.single.global_best - INFO - Optimization finished | best cost: 60496193571.40194, best pos: [3.43334038 1.57692885 5.15880004 2.7637401  0.74496356 5.84778453\n",
            " 4.69438662 3.9362395  0.7552663  1.77692122 5.89162575 3.38501619\n",
            " 0.60724043 0.88621614 0.51512005 4.3754646  3.1289843  4.42537218\n",
            " 2.90958062 2.9009051  6.40019901 5.51531349 3.36079409 3.57399219]\n"
          ]
        },
        {
          "output_type": "stream",
          "name": "stdout",
          "text": [
            "\n",
            "=========================================================================\n",
            "\n",
            "Número de ciclos de manutenção: 13 2\n",
            "Tempos para manutenções preventivas: [0, 25, 47, 63, 139, 173, 231, 275, 385, 390, 484, 576, 608, 644]\n",
            "Severidade para cada subsistema: [0.5, 0.25, 0.75, 0.25, 0.75, 0.5, 0.25, 0.5, 0.25, 0.5, 0.5, 0.5, 0.75]\n",
            "Número de Sisemas: 2\n",
            "Fator:  [0.8646647167633873, 0.6321205588285577, 0.3934693402873666, 0.7768698398515702, 0.3934693402873666, 0.7768698398515702, 0.6321205588285577, 0.3934693402873666, 0.6321205588285577, 0.3934693402873666, 0.6321205588285577, 0.6321205588285577, 0.6321205588285577, 0.7768698398515702]\n",
            "Media de falhas:  [0, 3125.0000000000005, 6496.934583978507, 19086.439599348858, 6211692.8212497365, 6574233.420645787, 39244908.30951602, 41676181.18771812, 172647754.8210872, 197475697.523305, 419691104.64048994, 2448593199.350695, 2588068931.9118633, 2786730147.3930645, 2633391542.37194]\n",
            "Custo =  178588890247.78806\n"
          ]
        },
        {
          "output_type": "stream",
          "name": "stderr",
          "text": [
            "2023-09-24 22:28:08,416 - pyswarms.single.global_best - INFO - Optimize for 1 iters with {'c1': 0.5, 'c2': 0.3, 'w': 0.9}\n",
            "pyswarms.single.global_best: 100%|██████████|1/1, best_cost=6.05e+10\n",
            "2023-09-24 22:28:08,431 - pyswarms.single.global_best - INFO - Optimization finished | best cost: 60496193571.40194, best pos: [3.43660924 1.57696261 5.15880944 2.76373713 0.74543193 5.84792263\n",
            " 6.87517439 3.93690547 0.75536292 1.77681024 5.89076388 3.81677865\n",
            " 0.60705325 0.88829049 0.51376017 4.37546532 3.12988359 4.42539029\n",
            " 2.90953219 2.90089608 6.40022518 5.51474532 5.88849653 3.56510376]\n"
          ]
        },
        {
          "output_type": "stream",
          "name": "stdout",
          "text": [
            "\n",
            "=========================================================================\n",
            "\n",
            "Número de ciclos de manutenção: 11 2\n",
            "Tempos para manutenções preventivas: [0, 23, 47, 64, 140, 234, 274, 327, 391, 483, 576, 644]\n",
            "Severidade para cada subsistema: [0.5, 0.25, 0.75, 0.75, 0.5, 0.25, 0.25, 0.25, 0.5, 0.5, 0.75]\n",
            "Número de Sisemas: 2\n",
            "Fator:  [0.8646647167633873, 0.6321205588285577, 0.3934693402873666, 0.7768698398515702, 0.7768698398515702, 0.6321205588285577, 0.3934693402873666, 0.3934693402873666, 0.3934693402873666, 0.6321205588285577, 0.6321205588285577, 0.7768698398515702]\n",
            "Media de falhas:  [0, 2059.6297600000003, 6747.829233971817, 21424.130519601094, 6378782.325539433, 16228299.536721956, 18237654.497592058, 42444788.888197064, 341825562.8514914, 1338130284.5915408, 3388150676.9711943, 3801178787.199722, 3647840182.1785975]\n",
            "Custo =  191223668756.02084\n"
          ]
        },
        {
          "output_type": "stream",
          "name": "stderr",
          "text": [
            "2023-09-24 22:28:08,433 - pyswarms.single.global_best - INFO - Optimize for 1 iters with {'c1': 0.5, 'c2': 0.3, 'w': 0.9}\n",
            "pyswarms.single.global_best:   0%|          |0/1, best_cost=6.05e+10"
          ]
        },
        {
          "output_type": "stream",
          "name": "stdout",
          "text": [
            "\n",
            "=========================================================================\n",
            "\n",
            "Número de ciclos de manutenção: 12 2\n",
            "Tempos para manutenções preventivas: [0, 19, 47, 65, 237, 277, 391, 483, 575, 617, 643, 682, 692]\n",
            "Severidade para cada subsistema: [0.5, 0.25, 0.75, 0.5, 0.25, 0.25, 0.5, 0.5, 0.75, 0.75, 0.5, 0.25]\n",
            "Número de Sisemas: 2\n",
            "Fator:  [0.8646647167633873, 0.6321205588285577, 0.3934693402873666, 0.7768698398515702, 0.6321205588285577, 0.3934693402873666, 0.3934693402873666, 0.6321205588285577, 0.6321205588285577, 0.7768698398515702, 0.7768698398515702, 0.6321205588285577, 0.3934693402873666]\n",
            "Media de falhas:  [0, 792.3516800000001, 9337.560568271088, 26358.81265208552, 135180246.48244745, 137260006.17944613, 283864072.3449856, 1280168794.085035, 3294869807.1702843, 3494544517.022374, 3633331062.712364, 3678612665.643432, 3688396959.960497, 3382593780.7986984]\n",
            "Custo =  201635747372.43863\n"
          ]
        },
        {
          "output_type": "stream",
          "name": "stderr",
          "text": [
            "\rpyswarms.single.global_best: 100%|██████████|1/1, best_cost=6.05e+10\n",
            "2023-09-24 22:28:08,450 - pyswarms.single.global_best - INFO - Optimization finished | best cost: 60496193571.40194, best pos: [3.4397777  1.57698878 5.15882422 2.76373462 0.74597174 5.84798073\n",
            " 1.32030525 3.93748459 0.75548354 1.77669749 5.89008321 4.31571109\n",
            " 0.6068653  0.89018782 0.51241434 4.37546568 3.13067596 4.42537025\n",
            " 2.90942916 2.90089123 6.40019706 5.51419725 0.56153141 3.55716684]\n",
            "2023-09-24 22:28:08,456 - pyswarms.single.global_best - INFO - Optimize for 1 iters with {'c1': 0.5, 'c2': 0.3, 'w': 0.9}\n",
            "pyswarms.single.global_best:   0%|          |0/1, best_cost=6.05e+10"
          ]
        },
        {
          "output_type": "stream",
          "name": "stdout",
          "text": [
            "\n",
            "=========================================================================\n",
            "\n",
            "Número de ciclos de manutenção: 13 2\n",
            "Tempos para manutenções preventivas: [0, 14, 47, 66, 138, 240, 284, 375, 391, 483, 573, 614, 643, 713]\n",
            "Severidade para cada subsistema: [0.5, 0.25, 0.75, 0.75, 0.25, 0.25, 0.25, 0.25, 0.5, 0.5, 0.5, 0.75, 0.25]\n",
            "Número de Sisemas: 2\n",
            "Fator:  [0.8646647167633873, 0.6321205588285577, 0.3934693402873666, 0.7768698398515702, 0.7768698398515702, 0.3934693402873666, 0.3934693402873666, 0.3934693402873666, 0.3934693402873666, 0.6321205588285577, 0.6321205588285577, 0.6321205588285577, 0.7768698398515702, 0.3934693402873666]\n",
            "Media de falhas:  [0, 172.10368000000003, 16727.772966739714, 36375.37422923634, 5650788.401767166, 18855158.05047761, 21541152.536515255, 377616189.19952583, 456471159.9427494, 1452775881.6827989, 3397930591.156225, 3588627509.2513304, 3744671452.949948, 4373907006.113313, 4341360705.024932]\n",
            "Custo =  243450694193.28632\n"
          ]
        },
        {
          "output_type": "stream",
          "name": "stderr",
          "text": [
            "\rpyswarms.single.global_best: 100%|██████████|1/1, best_cost=6.05e+10\n",
            "2023-09-24 22:28:08,479 - pyswarms.single.global_best - INFO - Optimization finished | best cost: 60496193571.40194, best pos: [3.44263939 1.57698641 5.15883933 2.76373434 0.74645373 5.84790686\n",
            " 3.18042261 3.93793741 0.75559605 1.77658388 5.88973185 4.77664928\n",
            " 0.60662042 0.8917568  0.51121968 4.37546597 3.13097843 4.42530578\n",
            " 2.90930241 2.90089599 6.400076   5.51334926 2.76719468 3.55062282]\n",
            "2023-09-24 22:28:08,481 - pyswarms.single.global_best - INFO - Optimize for 1 iters with {'c1': 0.5, 'c2': 0.3, 'w': 0.9}\n",
            "pyswarms.single.global_best: 100%|██████████|1/1, best_cost=6.05e+10"
          ]
        },
        {
          "output_type": "stream",
          "name": "stdout",
          "text": [
            "\n",
            "=========================================================================\n",
            "\n",
            "Número de ciclos de manutenção: 12 2\n",
            "Tempos para manutenções preventivas: [0, 10, 47, 66, 142, 170, 292, 370, 390, 483, 570, 642, 688]\n",
            "Severidade para cada subsistema: [0.5, 0.25, 0.75, 0.25, 0.25, 0.25, 0.75, 0.25, 0.5, 0.5, 0.75, 0.25]\n",
            "Número de Sisemas: 2\n",
            "Fator:  [0.8646647167633873, 0.6321205588285577, 0.3934693402873666, 0.7768698398515702, 0.3934693402873666, 0.3934693402873666, 0.3934693402873666, 0.7768698398515702, 0.3934693402873666, 0.6321205588285577, 0.6321205588285577, 0.7768698398515702, 0.3934693402873666]\n",
            "Media de falhas:  [0, 32.0, 26588.24296578941, 46235.844228286034, 6743426.278622878, 6975565.7572012935, 188226505.70779064, 478215243.9134574, 575194669.9899347, 634098875.9754788, 2477622920.4556684, 2915456335.7075796, 3252795388.477234, 3225899120.827306]\n",
            "Custo =  182776131970.205\n"
          ]
        },
        {
          "output_type": "stream",
          "name": "stderr",
          "text": [
            "\n",
            "2023-09-24 22:28:08,506 - pyswarms.single.global_best - INFO - Optimization finished | best cost: 60496193571.40194, best pos: [3.44514758 1.57695907 5.15885088 2.76373538 0.74686088 5.84781671\n",
            " 4.88836751 3.9382885  0.75567696 1.77649266 5.89004882 5.1723283\n",
            " 0.60630876 0.89261884 0.51045894 4.37546593 3.13062821 4.42522626\n",
            " 2.90915417 2.90090643 6.39993025 5.51238996 5.4079003  3.54604491]\n",
            "2023-09-24 22:28:08,511 - pyswarms.single.global_best - INFO - Optimize for 1 iters with {'c1': 0.5, 'c2': 0.3, 'w': 0.9}\n",
            "pyswarms.single.global_best:   0%|          |0/1, best_cost=6.05e+10"
          ]
        },
        {
          "output_type": "stream",
          "name": "stdout",
          "text": [
            "\n",
            "=========================================================================\n",
            "\n",
            "Número de ciclos de manutenção: 9 2\n",
            "Tempos para manutenções preventivas: [0, 6, 47, 66, 162, 376, 483, 619, 642, 707]\n",
            "Severidade para cada subsistema: [0.5, 0.25, 0.75, 0.75, 0.25, 0.5, 0.75, 0.75, 0.5]\n",
            "Número de Sisemas: 2\n",
            "Fator:  [0.8646647167633873, 0.6321205588285577, 0.3934693402873666, 0.7768698398515702, 0.7768698398515702, 0.3934693402873666, 0.6321205588285577, 0.7768698398515702, 0.7768698398515702, 0.6321205588285577]\n",
            "Media de falhas:  [0, 2.4883200000000003, 40896.08349048313, 60543.68475297975, 14932917.045924705, 328333538.8503917, 408126601.9337187, 4364996800.065442, 4486062714.691636, 4592094536.909135, 4560938737.173101]\n",
            "Custo =  154591900705.69257\n"
          ]
        },
        {
          "output_type": "stream",
          "name": "stderr",
          "text": [
            "\rpyswarms.single.global_best: 100%|██████████|1/1, best_cost=6.05e+10\n",
            "2023-09-24 22:28:08,532 - pyswarms.single.global_best - INFO - Optimization finished | best cost: 60496193571.40194, best pos: [3.44666445 1.5769151  5.15886119 2.76373836 0.74701256 5.84771297\n",
            " 5.92245253 3.93849271 0.75573343 1.77642981 5.89087579 5.49971106\n",
            " 0.60594187 0.89338796 0.50993288 4.37546535 3.12970907 4.42515271\n",
            " 2.90898386 2.90092114 6.39973188 5.51153744 0.05940338 3.54444406]\n",
            "2023-09-24 22:28:08,537 - pyswarms.single.global_best - INFO - Optimize for 1 iters with {'c1': 0.5, 'c2': 0.3, 'w': 0.9}\n",
            "pyswarms.single.global_best: 100%|██████████|1/1, best_cost=6.05e+10\n",
            "2023-09-24 22:28:08,558 - pyswarms.single.global_best - INFO - Optimization finished | best cost: 60496193571.40194, best pos: [3.44670134 1.57687281 5.15886425 2.76374306 0.74708803 5.84760011\n",
            " 0.31789496 3.93842298 0.7557413  1.77639047 5.89188468 5.7114648\n",
            " 0.60559745 0.89363942 0.50982521 4.37546454 3.12869997 4.42509988\n",
            " 2.90883498 2.90093537 6.39954412 5.51095855 2.29785805 3.548829  ]\n",
            "2023-09-24 22:28:08,562 - pyswarms.single.global_best - INFO - Optimize for 1 iters with {'c1': 0.5, 'c2': 0.3, 'w': 0.9}\n"
          ]
        },
        {
          "output_type": "stream",
          "name": "stdout",
          "text": [
            "\n",
            "=========================================================================\n",
            "\n",
            "Número de ciclos de manutenção: 8 2\n",
            "Tempos para manutenções preventivas: [0, 5, 47, 66, 175, 187, 363, 483, 643]\n",
            "Severidade para cada subsistema: [0.5, 0.25, 0.75, 0.25, 0.25, 0.75, 0.5, 0.75]\n",
            "Número de Sisemas: 2\n",
            "Fator:  [0.8646647167633873, 0.6321205588285577, 0.3934693402873666, 0.7768698398515702, 0.3934693402873666, 0.3934693402873666, 0.7768698398515702, 0.6321205588285577, 0.7768698398515702]\n",
            "Media de falhas:  [0, 1.0, 45301.49293733519, 64949.094199831816, 23557257.885475997, 23639135.07225408, 667465878.892146, 1959494651.0504394, 2395371465.5702515, 2245291474.369867]\n",
            "Custo =  83455750013.43016\n"
          ]
        },
        {
          "output_type": "stream",
          "name": "stderr",
          "text": [
            "pyswarms.single.global_best: 100%|██████████|1/1, best_cost=6.05e+10"
          ]
        },
        {
          "output_type": "stream",
          "name": "stdout",
          "text": [
            "\n",
            "=========================================================================\n",
            "\n",
            "Número de ciclos de manutenção: 9 2\n",
            "Tempos para manutenções preventivas: [0, 4, 47, 65, 162, 187, 388, 483, 643, 691]\n",
            "Severidade para cada subsistema: [0.5, 0.25, 0.75, 0.75, 0.75, 0.25, 0.5, 0.75, 0.75]\n",
            "Número de Sisemas: 2\n",
            "Fator:  [0.8646647167633873, 0.6321205588285577, 0.3934693402873666, 0.7768698398515702, 0.7768698398515702, 0.7768698398515702, 0.3934693402873666, 0.6321205588285577, 0.7768698398515702, 0.7768698398515702]\n",
            "Media de falhas:  [0, 0.32768, 50079.712701923636, 67100.96478573806, 15158709.908754818, 15412507.226411982, 284975562.0648558, 346576644.74680984, 5757393330.5832, 6117321932.612871, 6089761657.194138]\n",
            "Custo =  175105462590.11917\n"
          ]
        },
        {
          "output_type": "stream",
          "name": "stderr",
          "text": [
            "\n",
            "2023-09-24 22:28:08,592 - pyswarms.single.global_best - INFO - Optimization finished | best cost: 60496193571.40194, best pos: [3.44657239 1.57683538 5.15886145 2.76374848 0.74706249 5.84748684\n",
            " 2.32166963 3.93795548 0.7556867  1.77641623 5.89282276 5.57402571\n",
            " 0.60533855 0.8925682  0.50990278 4.3754634  3.1277116  4.4250551\n",
            " 2.90873906 2.90094698 6.39939562 5.51084025 4.92845745 3.55645979]\n",
            "2023-09-24 22:28:08,594 - pyswarms.single.global_best - INFO - Optimize for 1 iters with {'c1': 0.5, 'c2': 0.3, 'w': 0.9}\n",
            "pyswarms.single.global_best: 100%|██████████|1/1, best_cost=6.05e+10"
          ]
        },
        {
          "output_type": "stream",
          "name": "stdout",
          "text": [
            "\n",
            "=========================================================================\n",
            "\n",
            "Número de ciclos de manutenção: 12 2\n",
            "Tempos para manutenções preventivas: [0, 6, 47, 65, 170, 191, 322, 381, 483, 607, 644, 660, 696]\n",
            "Severidade para cada subsistema: [0.5, 0.25, 0.75, 0.25, 0.25, 0.75, 0.75, 0.5, 0.75, 0.75, 0.5, 0.75]\n",
            "Número de Sisemas: 2\n",
            "Fator:  [0.8646647167633873, 0.6321205588285577, 0.3934693402873666, 0.7768698398515702, 0.3934693402873666, 0.3934693402873666, 0.7768698398515702, 0.7768698398515702, 0.6321205588285577, 0.7768698398515702, 0.7768698398515702, 0.6321205588285577, 0.7768698398515702]\n",
            "Media de falhas:  [0, 2.4883200000000003, 40896.08349048313, 57917.335574297555, 20134761.83786646, 20337095.11252896, 306946812.62171125, 556354515.2795582, 628132449.0733124, 837499663.8861185, 1042250137.015919, 1055881652.889542, 1099871338.2933545, 781325211.9032807]\n",
            "Custo =  79743752275.36186\n"
          ]
        },
        {
          "output_type": "stream",
          "name": "stderr",
          "text": [
            "\n",
            "2023-09-24 22:28:08,615 - pyswarms.single.global_best - INFO - Optimization finished | best cost: 60496193571.40194, best pos: [3.44529246 1.57680631 5.15885116 2.76375338 0.74696954 5.84739434\n",
            " 4.35023904 3.93740894 0.75559314 1.77647546 5.89360619 5.33588966\n",
            " 0.60513797 0.89084637 0.51035687 4.37546224 3.12683037 4.42502109\n",
            " 2.90867427 2.9009534  6.39930225 5.51101537 0.2645232  3.56554093]\n",
            "2023-09-24 22:28:08,617 - pyswarms.single.global_best - INFO - Optimize for 1 iters with {'c1': 0.5, 'c2': 0.3, 'w': 0.9}\n",
            "pyswarms.single.global_best:   0%|          |0/1, best_cost=6.05e+10"
          ]
        },
        {
          "output_type": "stream",
          "name": "stdout",
          "text": [
            "\n",
            "=========================================================================\n",
            "\n",
            "Número de ciclos de manutenção: 10 2\n",
            "Tempos para manutenções preventivas: [0, 9, 47, 64, 133, 389, 484, 600, 645, 678, 693]\n",
            "Severidade para cada subsistema: [0.5, 0.25, 0.75, 0.5, 0.25, 0.5, 0.5, 0.75, 0.75, 0.75]\n",
            "Número de Sisemas: 2\n",
            "Fator:  [0.8646647167633873, 0.6321205588285577, 0.3934693402873666, 0.7768698398515702, 0.6321205588285577, 0.3934693402873666, 0.6321205588285577, 0.6321205588285577, 0.7768698398515702, 0.7768698398515702, 0.7768698398515702]\n",
            "Media de falhas:  [0, 18.895680000000002, 29706.70475593033, 44383.0060415596, 4678536.354900117, 613536333.8434215, 839233489.2412162, 3829164207.835122, 4085471261.1879725, 4306341177.905913, 4321664504.564068, 4293660660.007126]\n",
            "Custo =  177238383544.13138\n"
          ]
        },
        {
          "output_type": "stream",
          "name": "stderr",
          "text": [
            "\rpyswarms.single.global_best: 100%|██████████|1/1, best_cost=6.05e+10\n",
            "2023-09-24 22:28:08,641 - pyswarms.single.global_best - INFO - Optimization finished | best cost: 60496193571.40194, best pos: [3.44365562 1.57680406 5.15883889 2.76375758 0.74678442 5.84732971\n",
            " 6.62712277 3.93685462 0.75548907 1.7765585  5.89389054 4.9213235\n",
            " 0.60512016 0.88886523 0.51144427 4.37546134 3.1261867  4.42504204\n",
            " 2.90868824 2.90095562 6.39925212 5.51137893 3.07038595 3.57371899]\n",
            "2023-09-24 22:28:08,645 - pyswarms.single.global_best - INFO - Optimize for 1 iters with {'c1': 0.5, 'c2': 0.3, 'w': 0.9}\n",
            "pyswarms.single.global_best: 100%|██████████|1/1, best_cost=6.05e+10\n",
            "2023-09-24 22:28:08,665 - pyswarms.single.global_best - INFO - Optimization finished | best cost: 60496193571.40194, best pos: [3.44182049 1.57681398 5.15882664 2.76375918 0.74645509 5.84727819\n",
            " 1.55588855 3.93635195 0.75540332 1.77665125 5.89410983 4.49080324\n",
            " 0.60525547 0.88710443 0.51264216 4.37546072 3.12561533 4.42510675\n",
            " 2.90872284 2.90095539 6.39928726 5.511971   5.52909814 3.58106774]\n",
            "2023-09-24 22:28:08,669 - pyswarms.single.global_best - INFO - Optimize for 1 iters with {'c1': 0.5, 'c2': 0.3, 'w': 0.9}\n"
          ]
        },
        {
          "output_type": "stream",
          "name": "stdout",
          "text": [
            "\n",
            "=========================================================================\n",
            "\n",
            "Número de ciclos de manutenção: 11 2\n",
            "Tempos para manutenções preventivas: [0, 12, 47, 63, 154, 181, 312, 378, 484, 603, 645, 680]\n",
            "Severidade para cada subsistema: [0.5, 0.25, 0.75, 0.25, 0.25, 0.75, 0.75, 0.5, 0.25, 0.75, 0.25]\n",
            "Número de Sisemas: 2\n",
            "Fator:  [0.8646647167633873, 0.6321205588285577, 0.3934693402873666, 0.7768698398515702, 0.3934693402873666, 0.3934693402873666, 0.7768698398515702, 0.7768698398515702, 0.6321205588285577, 0.3934693402873666, 0.7768698398515702, 0.3934693402873666]\n",
            "Media de falhas:  [0, 79.62624000000001, 21164.94485192538, 33754.44986729573, 11533050.417256165, 11796107.40742981, 265675884.89724007, 534653216.9443153, 613240753.000697, 801395217.2203898, 1038554758.2891513, 2606924818.7649245, 2581799672.676967]\n",
            "Custo =  236978991371.72708\n"
          ]
        },
        {
          "output_type": "stream",
          "name": "stderr",
          "text": [
            "pyswarms.single.global_best:   0%|          |0/1, best_cost=6.05e+10"
          ]
        },
        {
          "output_type": "stream",
          "name": "stdout",
          "text": [
            "\n",
            "=========================================================================\n",
            "\n",
            "Número de ciclos de manutenção: 8 2\n",
            "Tempos para manutenções preventivas: [0, 15, 47, 63, 239, 316, 380, 484, 646]\n",
            "Severidade para cada subsistema: [0.5, 0.25, 0.75, 0.5, 0.25, 0.25, 0.5, 0.75]\n",
            "Número de Sisemas: 2\n",
            "Fator:  [0.8646647167633873, 0.6321205588285577, 0.3934693402873666, 0.7768698398515702, 0.6321205588285577, 0.3934693402873666, 0.3934693402873666, 0.6321205588285577, 0.7768698398515702]\n",
            "Media de falhas:  [0, 243.00000000000003, 14846.64482980281, 27436.14984517316, 144333555.9136349, 156227611.83639473, 210320893.2135117, 1341904357.9103706, 6923125478.291112, 6763289939.303971]\n",
            "Custo =  202512538672.53613\n"
          ]
        },
        {
          "output_type": "stream",
          "name": "stderr",
          "text": [
            "\rpyswarms.single.global_best: 100%|██████████|1/1, best_cost=6.05e+10\n",
            "2023-09-24 22:28:08,689 - pyswarms.single.global_best - INFO - Optimization finished | best cost: 60496193571.40194, best pos: [3.44018106 1.57684432 5.15881593 2.76375949 0.74603719 5.84724828\n",
            " 3.88643577 3.93591111 0.75534346 1.77672965 5.89405607 4.09491664\n",
            " 0.60548043 0.88574609 0.51372453 4.37546056 3.12522752 4.42517849\n",
            " 2.90881746 2.9009498  6.3993845  5.51263207 1.35699826 3.58639225]\n",
            "2023-09-24 22:28:08,693 - pyswarms.single.global_best - INFO - Optimize for 1 iters with {'c1': 0.5, 'c2': 0.3, 'w': 0.9}\n",
            "pyswarms.single.global_best:   0%|          |0/1, best_cost=6.05e+10"
          ]
        },
        {
          "output_type": "stream",
          "name": "stdout",
          "text": [
            "\n",
            "=========================================================================\n",
            "\n",
            "Número de ciclos de manutenção: 13 2\n",
            "Tempos para manutenções preventivas: [0, 17, 47, 63, 139, 164, 237, 296, 310, 360, 484, 646, 677, 707]\n",
            "Severidade para cada subsistema: [0.5, 0.25, 0.75, 0.75, 0.25, 0.5, 0.25, 0.75, 0.75, 0.5, 0.75, 0.25, 0.5]\n",
            "Número de Sisemas: 2\n",
            "Fator:  [0.8646647167633873, 0.6321205588285577, 0.3934693402873666, 0.7768698398515702, 0.7768698398515702, 0.3934693402873666, 0.6321205588285577, 0.3934693402873666, 0.7768698398515702, 0.7768698398515702, 0.6321205588285577, 0.7768698398515702, 0.3934693402873666, 0.6321205588285577]\n",
            "Media de falhas:  [0, 454.35424000000006, 11705.813204622757, 24295.318219993107, 6216901.699870381, 6384189.824995348, 11422265.318472402, 101411872.5793472, 105482159.77318698, 274769836.2327492, 387666176.0019861, 842087904.1273547, 1047317297.9727036, 1084413357.4991045, -2450933170.1345143]\n",
            "Custo =  199892399929.62164\n"
          ]
        },
        {
          "output_type": "stream",
          "name": "stderr",
          "text": [
            "\rpyswarms.single.global_best: 100%|██████████|1/1, best_cost=6.05e+10\n",
            "2023-09-24 22:28:08,711 - pyswarms.single.global_best - INFO - Optimization finished | best cost: 60496193571.40194, best pos: [3.43895155 1.57687527 5.15880983 2.76375848 0.74566001 5.84724202\n",
            " 5.95604191 3.93573122 0.75529507 1.77678418 5.89362304 3.76685497\n",
            " 0.6057547  0.88474865 0.5146453  4.37546049 3.12560803 4.42525001\n",
            " 2.90894517 2.90094089 6.39949754 5.51318777 4.47760323 3.58569412]\n",
            "2023-09-24 22:28:08,717 - pyswarms.single.global_best - INFO - Optimize for 1 iters with {'c1': 0.5, 'c2': 0.3, 'w': 0.9}\n",
            "pyswarms.single.global_best:   0%|          |0/1, best_cost=6.05e+10"
          ]
        },
        {
          "output_type": "stream",
          "name": "stdout",
          "text": [
            "\n",
            "=========================================================================\n",
            "\n",
            "Número de ciclos de manutenção: 10 2\n",
            "Tempos para manutenções preventivas: [0, 18, 47, 63, 204, 235, 290, 325, 484, 646, 675]\n",
            "Severidade para cada subsistema: [0.5, 0.25, 0.75, 0.5, 0.5, 0.25, 0.25, 0.5, 0.75, 0.75]\n",
            "Número de Sisemas: 2\n",
            "Fator:  [0.8646647167633873, 0.6321205588285577, 0.3934693402873666, 0.7768698398515702, 0.6321205588285577, 0.6321205588285577, 0.3934693402873666, 0.3934693402873666, 0.6321205588285577, 0.7768698398515702, 0.7768698398515702]\n",
            "Media de falhas:  [0, 604.6617600000001, 10428.644475787385, 23018.149491157736, 59150187.7556117, 59927085.71720914, 76503113.09242906, 90351936.33547825, 1828043488.2425113, 7409264608.623253, 7598071782.450632, 7574062206.510571]\n",
            "Custo =  213416820913.34177\n"
          ]
        },
        {
          "output_type": "stream",
          "name": "stderr",
          "text": [
            "\rpyswarms.single.global_best: 100%|██████████|1/1, best_cost=6.05e+10\n",
            "2023-09-24 22:28:08,741 - pyswarms.single.global_best - INFO - Optimization finished | best cost: 60496193571.40194, best pos: [3.43784804 1.57690642 5.15880566 2.7637552  0.74536139 5.84727551\n",
            " 1.02370014 3.93576406 0.75528749 1.7767986  5.8928691  3.64526258\n",
            " 0.6060258  0.88454124 0.5150582  4.37546113 3.12630881 4.42530511\n",
            " 2.90906745 2.90093118 6.39962418 5.51348523 0.41235509 3.57984865]\n",
            "2023-09-24 22:28:08,745 - pyswarms.single.global_best - INFO - Optimize for 1 iters with {'c1': 0.5, 'c2': 0.3, 'w': 0.9}\n",
            "pyswarms.single.global_best:   0%|          |0/1, best_cost=6.05e+10"
          ]
        },
        {
          "output_type": "stream",
          "name": "stdout",
          "text": [
            "\n",
            "=========================================================================\n",
            "\n",
            "Número de ciclos de manutenção: 12 2\n",
            "Tempos para manutenções preventivas: [0, 19, 47, 63, 138, 153, 235, 286, 320, 372, 484, 646, 675]\n",
            "Severidade para cada subsistema: [0.5, 0.25, 0.75, 0.5, 0.25, 0.5, 0.25, 0.75, 0.5, 0.5, 0.75, 0.25]\n",
            "Número de Sisemas: 2\n",
            "Fator:  [0.8646647167633873, 0.6321205588285577, 0.3934693402873666, 0.7768698398515702, 0.6321205588285577, 0.3934693402873666, 0.6321205588285577, 0.3934693402873666, 0.7768698398515702, 0.6321205588285577, 0.6321205588285577, 0.7768698398515702, 0.3934693402873666]\n",
            "Media de falhas:  [0, 792.3516800000001, 9337.560568271088, 21927.065583641437, 5947015.2775508445, 6002588.457903863, 22003884.238091465, 90062989.09255733, 102669547.64361694, 303345385.9709567, 392318981.22644496, 1790133019.338515, 1978940193.1658938, 1954930617.2258322]\n",
            "Custo =  88388043334.29182\n"
          ]
        },
        {
          "output_type": "stream",
          "name": "stderr",
          "text": [
            "\rpyswarms.single.global_best: 100%|██████████|1/1, best_cost=6.05e+10\n",
            "2023-09-24 22:28:08,765 - pyswarms.single.global_best - INFO - Optimization finished | best cost: 60496193571.40194, best pos: [3.43776924 1.57693417 5.15880219 2.76375223 0.74525322 5.84732327\n",
            " 3.55084534 3.93602097 0.75529382 1.77677694 5.89215846 3.74603872\n",
            " 0.60624135 0.88563523 0.51506991 4.37546206 3.1273672  4.42533448\n",
            " 2.90916538 2.90092211 6.39974381 5.51359512 3.76221333 3.57034514]\n",
            "2023-09-24 22:28:08,771 - pyswarms.single.global_best - INFO - Optimize for 1 iters with {'c1': 0.5, 'c2': 0.3, 'w': 0.9}\n",
            "pyswarms.single.global_best:   0%|          |0/1, best_cost=6.05e+10"
          ]
        },
        {
          "output_type": "stream",
          "name": "stdout",
          "text": [
            "\n",
            "=========================================================================\n",
            "\n",
            "Número de ciclos de manutenção: 7 2\n",
            "Tempos para manutenções preventivas: [0, 18, 47, 63, 234, 283, 483, 646]\n",
            "Severidade para cada subsistema: [0.5, 0.25, 0.75, 0.5, 0.25, 0.5, 0.75]\n",
            "Número de Sisemas: 2\n",
            "Fator:  [0.8646647167633873, 0.6321205588285577, 0.3934693402873666, 0.7768698398515702, 0.6321205588285577, 0.3934693402873666, 0.6321205588285577, 0.7768698398515702]\n",
            "Media de falhas:  [0, 604.6617600000001, 10428.644475787385, 23018.149491157736, 128252755.65406586, 131527339.26763226, 959957031.8445053, 6575517914.5019245, 6415682375.514784]\n",
            "Custo =  171543988094.01987\n"
          ]
        },
        {
          "output_type": "stream",
          "name": "stderr",
          "text": [
            "\rpyswarms.single.global_best: 100%|██████████|1/1, best_cost=6.05e+10\n",
            "2023-09-24 22:28:08,791 - pyswarms.single.global_best - INFO - Optimization finished | best cost: 60496193571.40194, best pos: [3.43834182 1.57694931 5.15879969 2.76374928 0.7453168  5.8474297\n",
            " 6.18499903 3.93644314 0.75534463 1.77675691 5.89148615 3.95052442\n",
            " 0.60643473 0.88683018 0.51480459 4.37546304 3.12836567 4.42533237\n",
            " 2.90921489 2.90091431 6.39983025 5.51360394 6.97219065 3.56169085]\n",
            "2023-09-24 22:28:08,796 - pyswarms.single.global_best - INFO - Optimize for 1 iters with {'c1': 0.5, 'c2': 0.3, 'w': 0.9}\n",
            "pyswarms.single.global_best:   0%|          |0/1, best_cost=6.05e+10"
          ]
        },
        {
          "output_type": "stream",
          "name": "stdout",
          "text": [
            "\n",
            "=========================================================================\n",
            "\n",
            "Número de ciclos de manutenção: 9 2\n",
            "Tempos para manutenções preventivas: [0, 16, 47, 64, 199, 234, 281, 323, 483, 645]\n",
            "Severidade para cada subsistema: [0.5, 0.25, 0.75, 0.25, 0.5, 0.25, 0.75, 0.5, 0.75]\n",
            "Número de Sisemas: 2\n",
            "Fator:  [0.8646647167633873, 0.6321205588285577, 0.3934693402873666, 0.7768698398515702, 0.3934693402873666, 0.6321205588285577, 0.3934693402873666, 0.7768698398515702, 0.6321205588285577, 0.7768698398515702]\n",
            "Media de falhas:  [0, 335.54432, 13175.79015792351, 27852.091443552785, 50771528.36084217, 51726318.69483648, 110323027.23178291, 127322614.45883965, 1862432365.0893755, 2315008440.0045543, 2158418063.596909]\n",
            "Custo =  76695398938.60034\n"
          ]
        },
        {
          "output_type": "stream",
          "name": "stderr",
          "text": [
            "\rpyswarms.single.global_best: 100%|██████████|1/1, best_cost=6.05e+10\n",
            "2023-09-24 22:28:08,816 - pyswarms.single.global_best - INFO - Optimization finished | best cost: 60496193571.40194, best pos: [3.43975982 1.57694822 5.15880416 2.76374659 0.74539091 5.84754736\n",
            " 2.01900549 3.93689627 0.75540364 1.7767145  5.89098042 4.13747067\n",
            " 0.60654221 0.88820451 0.51419055 4.37546391 3.12912105 4.42531514\n",
            " 2.90924121 2.90090985 6.39986481 5.51358716 2.7552849  3.55501575]\n",
            "2023-09-24 22:28:08,820 - pyswarms.single.global_best - INFO - Optimize for 1 iters with {'c1': 0.5, 'c2': 0.3, 'w': 0.9}\n",
            "pyswarms.single.global_best:   0%|          |0/1, best_cost=6.05e+10"
          ]
        },
        {
          "output_type": "stream",
          "name": "stdout",
          "text": [
            "\n",
            "=========================================================================\n",
            "\n",
            "Número de ciclos de manutenção: 11 2\n",
            "Tempos para manutenções preventivas: [0, 13, 47, 64, 122, 150, 234, 281, 378, 483, 645, 678]\n",
            "Severidade para cada subsistema: [0.5, 0.25, 0.75, 0.75, 0.75, 0.5, 0.25, 0.75, 0.5, 0.75, 0.5]\n",
            "Número de Sisemas: 2\n",
            "Fator:  [0.8646647167633873, 0.6321205588285577, 0.3934693402873666, 0.7768698398515702, 0.7768698398515702, 0.7768698398515702, 0.6321205588285577, 0.3934693402873666, 0.7768698398515702, 0.6321205588285577, 0.7768698398515702, 0.6321205588285577]\n",
            "Media de falhas:  [0, 118.81376000000002, 18829.876728978048, 33506.17801460732, 2727562.3907982092, 2887104.8033451713, 10031406.576519055, 12983197.7827225, 112567001.6333651, 1245308703.4768548, 1697884778.3920338, 1918754695.1099744, 1894074471.4197862]\n",
            "Custo =  87276798041.36884\n"
          ]
        },
        {
          "output_type": "stream",
          "name": "stderr",
          "text": [
            "\rpyswarms.single.global_best: 100%|██████████|1/1, best_cost=6.05e+10\n",
            "2023-09-24 22:28:08,843 - pyswarms.single.global_best - INFO - Optimization finished | best cost: 60496193571.40194, best pos: [3.44157892 1.57694109 5.15881576 2.76374442 0.74550996 5.84765238\n",
            " 4.94100584 3.93729821 0.75546193 1.77665318 5.89079302 4.35760984\n",
            " 0.60645233 0.8895987  0.51351881 4.37546459 3.12950023 4.42528528\n",
            " 2.90920437 2.90090585 6.39987294 5.51355733 5.6055199  3.55169573]\n",
            "2023-09-24 22:28:08,844 - pyswarms.single.global_best - INFO - Optimize for 1 iters with {'c1': 0.5, 'c2': 0.3, 'w': 0.9}\n",
            "pyswarms.single.global_best:   0%|          |0/1, best_cost=6.05e+10"
          ]
        },
        {
          "output_type": "stream",
          "name": "stdout",
          "text": [
            "\n",
            "=========================================================================\n",
            "\n",
            "Número de ciclos de manutenção: 11 2\n",
            "Tempos para manutenções preventivas: [0, 11, 47, 65, 178, 201, 235, 284, 313, 483, 645, 695]\n",
            "Severidade para cada subsistema: [0.5, 0.25, 0.75, 0.25, 0.5, 0.5, 0.25, 0.75, 0.5, 0.75, 0.5]\n",
            "Número de Sisemas: 2\n",
            "Fator:  [0.8646647167633873, 0.6321205588285577, 0.3934693402873666, 0.7768698398515702, 0.3934693402873666, 0.6321205588285577, 0.6321205588285577, 0.3934693402873666, 0.7768698398515702, 0.6321205588285577, 0.7768698398515702, 0.6321205588285577]\n",
            "Media de falhas:  [0, 51.53632, 23746.232807551885, 40767.484891366315, 26338647.755865578, 26617536.686818328, 47481781.819465816, 60527021.1219599, 70101446.57194859, 1921922356.3499153, 2374498431.2650943, 2759970724.572792, 2731522216.2912574]\n",
            "Custo =  92608571777.13165\n"
          ]
        },
        {
          "output_type": "stream",
          "name": "stderr",
          "text": [
            "\rpyswarms.single.global_best: 100%|██████████|1/1, best_cost=6.05e+10\n",
            "2023-09-24 22:28:08,865 - pyswarms.single.global_best - INFO - Optimization finished | best cost: 60496193571.40194, best pos: [3.44322455 1.57692368 5.15882839 2.76374267 0.74566007 5.84772315\n",
            " 0.73406428 3.937607   0.75552556 1.77659475 5.89086407 4.56489548\n",
            " 0.60634955 0.89073077 0.51289641 4.3754647  3.12950496 4.42525729\n",
            " 2.90916234 2.90090496 6.39986044 5.51328545 1.53212331 3.55270793]\n",
            "2023-09-24 22:28:08,866 - pyswarms.single.global_best - INFO - Optimize for 1 iters with {'c1': 0.5, 'c2': 0.3, 'w': 0.9}\n",
            "pyswarms.single.global_best:   0%|          |0/1, best_cost=6.05e+10"
          ]
        },
        {
          "output_type": "stream",
          "name": "stdout",
          "text": [
            "\n",
            "=========================================================================\n",
            "\n",
            "Número de ciclos de manutenção: 14 2\n",
            "Tempos para manutenções preventivas: [0, 9, 47, 65, 147, 169, 187, 236, 286, 314, 374, 483, 570, 644, 707]\n",
            "Severidade para cada subsistema: [0.5, 0.25, 0.75, 0.5, 0.75, 0.25, 0.5, 0.25, 0.25, 0.5, 0.5, 0.5, 0.75, 0.5]\n",
            "Número de Sisemas: 2\n",
            "Fator:  [0.8646647167633873, 0.6321205588285577, 0.3934693402873666, 0.7768698398515702, 0.6321205588285577, 0.7768698398515702, 0.3934693402873666, 0.6321205588285577, 0.3934693402873666, 0.3934693402873666, 0.6321205588285577, 0.6321205588285577, 0.6321205588285577, 0.7768698398515702, 0.6321205588285577]\n",
            "Media de falhas:  [0, 18.895680000000002, 29706.70475593033, 46727.95683974476, 8462841.464301303, 8608838.759424, 9371468.147586185, 11297945.184553651, 78073447.22631803, 87371946.83056255, 322519283.57058525, 1497498497.5143373, 1856542607.3653364, 2314812710.1752734, 2852463537.0420794, 2821307737.3060455]\n",
            "Custo =  142816526978.58347\n"
          ]
        },
        {
          "output_type": "stream",
          "name": "stderr",
          "text": [
            "\rpyswarms.single.global_best: 100%|██████████|1/1, best_cost=6.05e+10\n",
            "2023-09-24 22:28:08,891 - pyswarms.single.global_best - INFO - Optimization finished | best cost: 60496193571.40194, best pos: [3.44464079 1.57689995 5.15884025 2.76374185 0.74583116 5.84773214\n",
            " 3.94709719 3.93779926 0.75558212 1.77654414 5.89108952 4.72276359\n",
            " 0.60617361 0.89150698 0.51227878 4.37546471 3.12928074 4.42521842\n",
            " 2.90910607 2.90090678 6.39982658 5.51298551 4.68468373 3.55581427]\n",
            "2023-09-24 22:28:08,896 - pyswarms.single.global_best - INFO - Optimize for 1 iters with {'c1': 0.5, 'c2': 0.3, 'w': 0.9}\n",
            "pyswarms.single.global_best:   0%|          |0/1, best_cost=6.05e+10"
          ]
        },
        {
          "output_type": "stream",
          "name": "stdout",
          "text": [
            "\n",
            "=========================================================================\n",
            "\n",
            "Número de ciclos de manutenção: 12 2\n",
            "Tempos para manutenções preventivas: [0, 7, 47, 65, 179, 206, 238, 290, 382, 483, 618, 644, 718]\n",
            "Severidade para cada subsistema: [0.5, 0.25, 0.75, 0.25, 0.75, 0.5, 0.25, 0.75, 0.5, 0.25, 0.75, 0.5]\n",
            "Número de Sisemas: 2\n",
            "Fator:  [0.8646647167633873, 0.6321205588285577, 0.3934693402873666, 0.7768698398515702, 0.3934693402873666, 0.7768698398515702, 0.6321205588285577, 0.3934693402873666, 0.7768698398515702, 0.6321205588285577, 0.3934693402873666, 0.7768698398515702, 0.6321205588285577]\n",
            "Media de falhas:  [0, 5.378240000000001, 36841.91721428822, 53863.16929810266, 27226802.698248066, 27624397.08953649, 48351469.671982065, 52320874.64277206, 146976050.17634904, 1237618356.7871542, 1502827980.6063144, 1642465001.918483, 5660240521.600679, 5626510856.75388]\n",
            "Custo =  298886346382.4177\n"
          ]
        },
        {
          "output_type": "stream",
          "name": "stderr",
          "text": [
            "\rpyswarms.single.global_best: 100%|██████████|1/1, best_cost=6.05e+10\n",
            "2023-09-24 22:28:08,917 - pyswarms.single.global_best - INFO - Optimization finished | best cost: 60496193571.40194, best pos: [3.4457763  1.57687635 5.15885009 2.76374231 0.74600648 5.84769239\n",
            " 0.28638606 3.93776092 0.75561639 1.77651307 5.89146656 4.78626455\n",
            " 0.60595318 0.89187663 0.51184003 4.37546462 3.12875667 4.42518342\n",
            " 2.90903873 2.90090977 6.39976202 5.51259501 1.21595774 3.56043199]\n",
            "2023-09-24 22:28:08,918 - pyswarms.single.global_best - INFO - Optimize for 1 iters with {'c1': 0.5, 'c2': 0.3, 'w': 0.9}\n",
            "pyswarms.single.global_best:   0%|          |0/1, best_cost=6.05e+10"
          ]
        },
        {
          "output_type": "stream",
          "name": "stdout",
          "text": [
            "\n",
            "=========================================================================\n",
            "\n",
            "Número de ciclos de manutenção: 9 2\n",
            "Tempos para manutenções preventivas: [0, 7, 47, 65, 146, 185, 239, 294, 483, 644]\n",
            "Severidade para cada subsistema: [0.5, 0.25, 0.75, 0.5, 0.5, 0.5, 0.25, 0.5, 0.75]\n",
            "Número de Sisemas: 2\n",
            "Fator:  [0.8646647167633873, 0.6321205588285577, 0.3934693402873666, 0.7768698398515702, 0.6321205588285577, 0.6321205588285577, 0.6321205588285577, 0.3934693402873666, 0.6321205588285577, 0.7768698398515702]\n",
            "Media de falhas:  [0, 5.378240000000001, 36841.91721428822, 53863.16929810266, 8127846.066931561, 8717303.070227781, 16919203.40736829, 34321556.04980324, 771026459.851343, 6249491178.209119, 6096152573.187994]\n",
            "Custo =  167982252793.4287\n"
          ]
        },
        {
          "output_type": "stream",
          "name": "stderr",
          "text": [
            "\rpyswarms.single.global_best: 100%|██████████|1/1, best_cost=6.05e+10\n",
            "2023-09-24 22:28:08,941 - pyswarms.single.global_best - INFO - Optimization finished | best cost: 60496193571.40194, best pos: [3.44650465 1.57685787 5.15885544 2.76374471 0.74616019 5.84764896\n",
            " 4.08516098 3.93753325 0.75563416 1.77650359 5.89191023 4.83746649\n",
            " 0.60573981 0.89201797 0.51154153 4.37546401 3.12808685 4.42515631\n",
            " 2.9089762  2.90091594 6.39968435 5.51223149 4.95398342 3.56464997]\n",
            "2023-09-24 22:28:08,946 - pyswarms.single.global_best - INFO - Optimize for 1 iters with {'c1': 0.5, 'c2': 0.3, 'w': 0.9}\n",
            "pyswarms.single.global_best: 100%|██████████|1/1, best_cost=6.05e+10"
          ]
        },
        {
          "output_type": "stream",
          "name": "stdout",
          "text": [
            "\n",
            "=========================================================================\n",
            "\n",
            "Número de ciclos de manutenção: 9 2\n",
            "Tempos para manutenções preventivas: [0, 7, 47, 65, 297, 387, 483, 625, 644, 673]\n",
            "Severidade para cada subsistema: [0.5, 0.25, 0.75, 0.25, 0.25, 0.5, 0.5, 0.75, 0.75]\n",
            "Número de Sisemas: 2\n",
            "Fator:  [0.8646647167633873, 0.6321205588285577, 0.3934693402873666, 0.7768698398515702, 0.3934693402873666, 0.3934693402873666, 0.6321205588285577, 0.6321205588285577, 0.7768698398515702, 0.7768698398515702]\n",
            "Media de falhas:  [0, 5.378240000000001, 36841.91721428822, 53863.16929810266, 471429437.53196704, 500841511.2662857, 1539018907.3630517, 5830133682.280784, 5930344496.045218, 6116964776.240382, 6093405113.78848]\n",
            "Custo =  221704386021.82404\n"
          ]
        },
        {
          "output_type": "stream",
          "name": "stderr",
          "text": [
            "\n",
            "2023-09-24 22:28:08,964 - pyswarms.single.global_best - INFO - Optimization finished | best cost: 60496193571.40194, best pos: [3.44639408 1.57684171 5.1588577  2.7637469  0.74629282 5.84760187\n",
            " 0.58638318 3.93718968 0.75561707 1.77651933 5.89233598 4.77601513\n",
            " 0.60555673 0.89169099 0.51143936 4.37546322 3.12747402 4.42513711\n",
            " 2.90892589 2.90092277 6.39960781 5.51192985 1.29937637 3.5686342 ]\n",
            "2023-09-24 22:28:08,969 - pyswarms.single.global_best - INFO - Optimize for 1 iters with {'c1': 0.5, 'c2': 0.3, 'w': 0.9}\n",
            "pyswarms.single.global_best: 100%|██████████|1/1, best_cost=6.05e+10"
          ]
        },
        {
          "output_type": "stream",
          "name": "stdout",
          "text": [
            "\n",
            "=========================================================================\n",
            "\n",
            "Número de ciclos de manutenção: 8 2\n",
            "Tempos para manutenções preventivas: [0, 8, 47, 65, 313, 483, 609, 644, 678]\n",
            "Severidade para cada subsistema: [0.5, 0.25, 0.75, 0.25, 0.5, 0.25, 0.75, 0.25]\n",
            "Número de Sisemas: 2\n",
            "Fator:  [0.8646647167633873, 0.6321205588285577, 0.3934693402873666, 0.7768698398515702, 0.3934693402873666, 0.6321205588285577, 0.3934693402873666, 0.7768698398515702, 0.3934693402873666]\n",
            "Media de falhas:  [0, 10.48576, 33118.5548280265, 50139.80691184093, 627743826.6109939, 881166508.3373582, 4321005216.615394, 4513612258.804492, 6020457360.210728, 5995777136.520539]\n",
            "Custo =  325849172442.9745\n"
          ]
        },
        {
          "output_type": "stream",
          "name": "stderr",
          "text": [
            "\n",
            "2023-09-24 22:28:08,990 - pyswarms.single.global_best - INFO - Optimization finished | best cost: 60496193571.40194, best pos: [3.44506625 1.5768405  5.15885771 2.76374903 0.746398   5.84755841\n",
            " 4.45218117 3.93687695 0.75559277 1.77655333 5.89264501 4.63170388\n",
            " 0.60546587 0.89072531 0.511567   4.37546248 3.12693003 4.42513062\n",
            " 2.90888747 2.90092974 6.39954458 5.51172996 4.85117893 3.57182034]\n",
            "2023-09-24 22:28:08,993 - pyswarms.single.global_best - INFO - Optimize for 1 iters with {'c1': 0.5, 'c2': 0.3, 'w': 0.9}\n",
            "pyswarms.single.global_best: 100%|██████████|1/1, best_cost=6.05e+10"
          ]
        },
        {
          "output_type": "stream",
          "name": "stdout",
          "text": [
            "\n",
            "=========================================================================\n",
            "\n",
            "Número de ciclos de manutenção: 10 2\n",
            "Tempos para manutenções preventivas: [0, 10, 47, 64, 123, 163, 205, 317, 483, 644, 663]\n",
            "Severidade para cada subsistema: [0.5, 0.25, 0.75, 0.25, 0.5, 0.25, 0.75, 0.5, 0.75, 0.75]\n",
            "Número de Sisemas: 2\n",
            "Fator:  [0.8646647167633873, 0.6321205588285577, 0.3934693402873666, 0.7768698398515702, 0.3934693402873666, 0.6321205588285577, 0.3934693402873666, 0.7768698398515702, 0.6321205588285577, 0.7768698398515702, 0.7768698398515702]\n",
            "Media de falhas:  [0, 32.0, 26588.24296578941, 41264.54425141869, 2878841.586674902, 3320438.6726683173, 18046379.308787912, 91256086.17152207, 1896049054.0069, 2340213368.2871017, 2452629056.2734118, 2431370516.42468]\n",
            "Custo =  83800314329.03879\n"
          ]
        },
        {
          "output_type": "stream",
          "name": "stderr",
          "text": [
            "\n",
            "2023-09-24 22:28:09,010 - pyswarms.single.global_best - INFO - Optimization finished | best cost: 60496193571.40194, best pos: [3.44302177 1.57684882 5.15885281 2.76375093 0.74641131 5.84751679\n",
            " 1.21725405 3.93658803 0.75555068 1.77660448 5.89276468 4.47017633\n",
            " 0.60549948 0.88939586 0.51194854 4.37546181 3.12657549 4.42514335\n",
            " 2.90886058 2.90093507 6.39949222 5.51176087 0.78585868 3.57372699]\n",
            "2023-09-24 22:28:09,014 - pyswarms.single.global_best - INFO - Optimize for 1 iters with {'c1': 0.5, 'c2': 0.3, 'w': 0.9}\n",
            "pyswarms.single.global_best: 100%|██████████|1/1, best_cost=6.05e+10\n",
            "2023-09-24 22:28:09,033 - pyswarms.single.global_best - INFO - Optimization finished | best cost: 60496193571.40194, best pos: [3.44092085 1.57685733 5.15884831 2.76375233 0.74634135 5.84748387\n",
            " 5.27940538 3.93638766 0.75550849 1.77665395 5.89276788 4.31589233\n",
            " 0.60558525 0.8881958  0.51243758 4.37546136 3.12657148 4.42517178\n",
            " 2.90887335 2.90093949 6.39948943 5.51185119 4.06005543 3.57419961]\n"
          ]
        },
        {
          "output_type": "stream",
          "name": "stdout",
          "text": [
            "\n",
            "=========================================================================\n",
            "\n",
            "Número de ciclos de manutenção: 8 2\n",
            "Tempos para manutenções preventivas: [0, 12, 47, 64, 366, 483, 645, 664, 716]\n",
            "Severidade para cada subsistema: [0.5, 0.25, 0.75, 0.25, 0.5, 0.75, 0.25, 0.5]\n",
            "Número de Sisemas: 2\n",
            "Fator:  [0.8646647167633873, 0.6321205588285577, 0.3934693402873666, 0.7768698398515702, 0.3934693402873666, 0.6321205588285577, 0.7768698398515702, 0.3934693402873666, 0.6321205588285577]\n",
            "Media de falhas:  [0, 79.62624000000001, 21164.94485192538, 35841.246137554655, 1471514715.3840072, 1569381652.0405898, 7116093114.2199745, 7229180623.295677, 7309142332.301421, 3411402886.8282895]\n",
            "Custo =  324160999864.98914\n"
          ]
        },
        {
          "output_type": "stream",
          "name": "stderr",
          "text": [
            "2023-09-24 22:28:09,035 - pyswarms.single.global_best - INFO - Optimize for 1 iters with {'c1': 0.5, 'c2': 0.3, 'w': 0.9}\n",
            "pyswarms.single.global_best: 100%|██████████|1/1, best_cost=6.05e+10\n",
            "2023-09-24 22:28:09,048 - pyswarms.single.global_best - INFO - Optimization finished | best cost: 60496193571.40194, best pos: [3.43903351 1.5768656  5.15884011 2.76375311 0.74616683 5.84746302\n",
            " 1.75695506 3.93624349 0.75547248 1.77669712 5.89276291 4.18339698\n",
            " 0.60571369 0.88727451 0.51291873 4.3754613  3.12678844 4.42519896\n",
            " 2.90888664 2.90093993 6.39951699 5.51202842 0.177785   3.57248615]\n",
            "2023-09-24 22:28:09,050 - pyswarms.single.global_best - INFO - Optimize for 1 iters with {'c1': 0.5, 'c2': 0.3, 'w': 0.9}\n"
          ]
        },
        {
          "output_type": "stream",
          "name": "stdout",
          "text": [
            "\n",
            "=========================================================================\n",
            "\n",
            "Número de ciclos de manutenção: 11 2\n",
            "Tempos para manutenções preventivas: [0, 14, 47, 64, 202, 239, 297, 326, 377, 483, 645, 704]\n",
            "Severidade para cada subsistema: [0.5, 0.25, 0.75, 0.5, 0.5, 0.25, 0.75, 0.5, 0.5, 0.75, 0.5]\n",
            "Número de Sisemas: 2\n",
            "Fator:  [0.8646647167633873, 0.6321205588285577, 0.3934693402873666, 0.7768698398515702, 0.6321205588285577, 0.6321205588285577, 0.3934693402873666, 0.7768698398515702, 0.6321205588285577, 0.6321205588285577, 0.7768698398515702, 0.6321205588285577]\n",
            "Media de falhas:  [0, 172.10368000000003, 16727.772966739714, 31404.07425236899, 55310426.845329575, 56442508.32727199, 75933592.46554989, 87118185.35281864, 295037999.8777646, 373175977.2399325, 1763725453.5980608, 2253622740.4778433, 2223151757.113248]\n",
            "Custo =  92593034498.30423\n"
          ]
        },
        {
          "output_type": "stream",
          "name": "stderr",
          "text": [
            "pyswarms.single.global_best:   0%|          |0/1, best_cost=6.05e+10"
          ]
        },
        {
          "output_type": "stream",
          "name": "stdout",
          "text": [
            "\n",
            "=========================================================================\n",
            "\n",
            "Número de ciclos de manutenção: 9 2\n",
            "Tempos para manutenções preventivas: [0, 15, 47, 63, 180, 238, 295, 483, 646, 693]\n",
            "Severidade para cada subsistema: [0.5, 0.25, 0.75, 0.25, 0.5, 0.25, 0.5, 0.75, 0.5]\n",
            "Número de Sisemas: 2\n",
            "Fator:  [0.8646647167633873, 0.6321205588285577, 0.3934693402873666, 0.7768698398515702, 0.3934693402873666, 0.6321205588285577, 0.3934693402873666, 0.6321205588285577, 0.7768698398515702, 0.6321205588285577]\n",
            "Media de falhas:  [0, 243.00000000000003, 14846.64482980281, 27436.14984517316, 28826313.53820326, 31709616.415241394, 117565384.37238668, 846336593.7327813, 6461897476.390201, 6817333531.292443, 6789329686.735501]\n",
            "Custo =  191978719512.57794\n"
          ]
        },
        {
          "output_type": "stream",
          "name": "stderr",
          "text": [
            "\rpyswarms.single.global_best: 100%|██████████|1/1, best_cost=6.05e+10\n",
            "2023-09-24 22:28:09,062 - pyswarms.single.global_best - INFO - Optimization finished | best cost: 60496193571.40194, best pos: [3.43763474 1.57687905 5.15883082 2.76375287 0.7459783  5.84746129\n",
            " 5.57297343 3.9361852  0.75544763 1.77671888 5.89271362 4.12273198\n",
            " 0.60585536 0.88650017 0.51330139 4.37546144 3.12706126 4.42522487\n",
            " 2.90890488 2.9009378  6.39956393 5.5122008  3.76280485 3.56914513]\n",
            "2023-09-24 22:28:09,064 - pyswarms.single.global_best - INFO - Optimize for 1 iters with {'c1': 0.5, 'c2': 0.3, 'w': 0.9}\n",
            "pyswarms.single.global_best: 100%|██████████|1/1, best_cost=6.05e+10\n",
            "2023-09-24 22:28:09,076 - pyswarms.single.global_best - INFO - Optimization finished | best cost: 60496193571.40194, best pos: [3.43645172 1.5768927  5.15882256 2.76375165 0.74580416 5.84747141\n",
            " 1.31591413 3.93624476 0.75543599 1.77672927 5.8924758  4.11764552\n",
            " 0.60598369 0.88600341 0.51348904 4.37546173 3.12736952 4.42524563\n",
            " 2.90894103 2.9009344  6.39961819 5.51240697 0.2457724  3.56600123]\n",
            "2023-09-24 22:28:09,077 - pyswarms.single.global_best - INFO - Optimize for 1 iters with {'c1': 0.5, 'c2': 0.3, 'w': 0.9}\n"
          ]
        },
        {
          "output_type": "stream",
          "name": "stdout",
          "text": [
            "\n",
            "=========================================================================\n",
            "\n",
            "Número de ciclos de manutenção: 12 2\n",
            "Tempos para manutenções preventivas: [0, 16, 47, 63, 177, 195, 237, 292, 300, 374, 484, 615, 646]\n",
            "Severidade para cada subsistema: [0.5, 0.25, 0.75, 0.25, 0.75, 0.5, 0.25, 0.75, 0.25, 0.5, 0.5, 0.75]\n",
            "Número de Sisemas: 2\n",
            "Fator:  [0.8646647167633873, 0.6321205588285577, 0.3934693402873666, 0.7768698398515702, 0.3934693402873666, 0.7768698398515702, 0.6321205588285577, 0.3934693402873666, 0.7768698398515702, 0.3934693402873666, 0.6321205588285577, 0.6321205588285577, 0.7768698398515702]\n",
            "Media de falhas:  [0, 335.54432, 13175.79015792351, 25765.29517329386, 26144557.39681146, 26314841.517175786, 52750965.38092652, 57294814.75902295, 59272663.86634257, 347006789.3878851, 432408144.28019476, 4148929341.711173, 4319724454.546392, 4159888915.5592513]\n",
            "Custo =  172873378503.7829\n"
          ]
        },
        {
          "output_type": "stream",
          "name": "stderr",
          "text": [
            "pyswarms.single.global_best: 100%|██████████|1/1, best_cost=6.05e+10\n",
            "2023-09-24 22:28:09,097 - pyswarms.single.global_best - INFO - Optimization finished | best cost: 60496193571.40194, best pos: [3.43544038 1.57690465 5.15881545 2.76375044 0.7456883  5.84748598\n",
            " 4.39600935 3.93634003 0.75543141 1.77671157 5.89217635 4.18271557\n",
            " 0.60608598 0.88582187 0.51355148 4.37546204 3.1276489  4.42525859\n",
            " 2.90899405 2.90092973 6.39967379 5.51259377 4.10351933 3.56309744]\n",
            "2023-09-24 22:28:09,098 - pyswarms.single.global_best - INFO - Optimize for 1 iters with {'c1': 0.5, 'c2': 0.3, 'w': 0.9}\n"
          ]
        },
        {
          "output_type": "stream",
          "name": "stdout",
          "text": [
            "\n",
            "=========================================================================\n",
            "\n",
            "Número de ciclos de manutenção: 7 2\n",
            "Tempos para manutenções preventivas: [0, 16, 47, 64, 236, 290, 484, 646]\n",
            "Severidade para cada subsistema: [0.5, 0.25, 0.75, 0.5, 0.25, 0.5, 0.75]\n",
            "Número de Sisemas: 2\n",
            "Fator:  [0.8646647167633873, 0.6321205588285577, 0.3934693402873666, 0.7768698398515702, 0.6321205588285577, 0.3934693402873666, 0.6321205588285577, 0.7768698398515702]\n",
            "Media de falhas:  [0, 335.54432, 13175.79015792351, 27852.091443552785, 133256034.84672703, 137543510.22573382, 919639743.0300255, 6500860863.410767, 6341025324.423626]\n",
            "Custo =  171253482394.85266\n"
          ]
        },
        {
          "output_type": "stream",
          "name": "stderr",
          "text": [
            "pyswarms.single.global_best:   0%|          |0/1, best_cost=6.05e+10"
          ]
        },
        {
          "output_type": "stream",
          "name": "stdout",
          "text": [
            "\n",
            "=========================================================================\n",
            "\n",
            "Número de ciclos de manutenção: 8 2\n",
            "Tempos para manutenções preventivas: [0, 16, 47, 64, 122, 235, 288, 483, 646]\n",
            "Severidade para cada subsistema: [0.5, 0.25, 0.75, 0.25, 0.5, 0.25, 0.5, 0.75]\n",
            "Número de Sisemas: 2\n",
            "Fator:  [0.8646647167633873, 0.6321205588285577, 0.3934693402873666, 0.7768698398515702, 0.3934693402873666, 0.6321205588285577, 0.3934693402873666, 0.6321205588285577, 0.7768698398515702]\n",
            "Media de falhas:  [0, 335.54432, 13175.79015792351, 27852.091443552785, 2721908.3042271547, 20064305.420629866, 92706530.95485836, 878415205.7806227, 6493976088.438042, 6334140549.450901]\n",
            "Custo =  174108332737.2552\n"
          ]
        },
        {
          "output_type": "stream",
          "name": "stderr",
          "text": [
            "\rpyswarms.single.global_best: 100%|██████████|1/1, best_cost=6.05e+10\n",
            "2023-09-24 22:28:09,115 - pyswarms.single.global_best - INFO - Optimization finished | best cost: 60496193571.40194, best pos: [3.4347008  1.57691472 5.15881295 2.76374924 0.74562342 5.84750341\n",
            " 0.78181984 3.93647472 0.75543402 1.77668226 5.89189656 4.24736413\n",
            " 0.60617436 0.88579831 0.51348465 4.37546244 3.12790946 4.42526674\n",
            " 2.90904178 2.90092506 6.39972282 5.51272277 0.73499412 3.56073574]\n",
            "2023-09-24 22:28:09,117 - pyswarms.single.global_best - INFO - Optimize for 1 iters with {'c1': 0.5, 'c2': 0.3, 'w': 0.9}\n",
            "pyswarms.single.global_best: 100%|██████████|1/1, best_cost=6.05e+10\n",
            "2023-09-24 22:28:09,133 - pyswarms.single.global_best - INFO - Optimization finished | best cost: 60496193571.40194, best pos: [3.43574696 1.57692302 5.15881355 2.76374814 0.74564627 5.84752938\n",
            " 4.52485904 3.93664886 0.75543829 1.77664707 5.8916673  4.33821162\n",
            " 0.60619293 0.88623296 0.51325153 4.37546282 3.12814087 4.42525636\n",
            " 2.90907721 2.90092104 6.399748   5.5128198  4.63034301 3.55955798]\n",
            "2023-09-24 22:28:09,135 - pyswarms.single.global_best - INFO - Optimize for 1 iters with {'c1': 0.5, 'c2': 0.3, 'w': 0.9}\n"
          ]
        },
        {
          "output_type": "stream",
          "name": "stdout",
          "text": [
            "\n",
            "=========================================================================\n",
            "\n",
            "Número de ciclos de manutenção: 12 2\n",
            "Tempos para manutenções preventivas: [0, 15, 47, 64, 120, 235, 288, 369, 483, 603, 645, 661, 695]\n",
            "Severidade para cada subsistema: [0.5, 0.25, 0.75, 0.75, 0.5, 0.25, 0.25, 0.5, 0.25, 0.75, 0.25, 0.5]\n",
            "Número de Sisemas: 2\n",
            "Fator:  [0.8646647167633873, 0.6321205588285577, 0.3934693402873666, 0.7768698398515702, 0.7768698398515702, 0.6321205588285577, 0.3934693402873666, 0.3934693402873666, 0.6321205588285577, 0.3934693402873666, 0.7768698398515702, 0.3934693402873666, 0.6321205588285577]\n",
            "Media de falhas:  [0, 243.00000000000003, 14846.64482980281, 29522.946115432085, 2453785.1527229715, 20779181.821580075, 24821854.983707603, 93624790.28095798, 1321629626.7369769, 4474060289.034251, 4711219830.103013, 5361954874.587569, 5402630699.503227, 2331355624.0823264]\n",
            "Custo =  472060226903.3718\n"
          ]
        },
        {
          "output_type": "stream",
          "name": "stderr",
          "text": [
            "pyswarms.single.global_best: 100%|██████████|1/1, best_cost=6.05e+10\n",
            "2023-09-24 22:28:09,149 - pyswarms.single.global_best - INFO - Optimization finished | best cost: 60496193571.40194, best pos: [3.43755129 1.5769224  5.1588182  2.76374733 0.74575153 5.84755551\n",
            " 0.56235766 3.93680745 0.75544546 1.77661163 5.89148393 4.44225175\n",
            " 0.60614406 0.88695641 0.5129319  4.37546315 3.12828877 4.42524086\n",
            " 2.90910096 2.9009186  6.39976696 5.51281338 1.08845471 3.55852831]\n",
            "2023-09-24 22:28:09,151 - pyswarms.single.global_best - INFO - Optimize for 1 iters with {'c1': 0.5, 'c2': 0.3, 'w': 0.9}\n"
          ]
        },
        {
          "output_type": "stream",
          "name": "stdout",
          "text": [
            "\n",
            "=========================================================================\n",
            "\n",
            "Número de ciclos de manutenção: 11 2\n",
            "Tempos para manutenções preventivas: [0, 14, 47, 64, 159, 235, 289, 329, 368, 483, 645, 703]\n",
            "Severidade para cada subsistema: [0.5, 0.25, 0.75, 0.75, 0.5, 0.25, 0.5, 0.5, 0.5, 0.75, 0.5]\n",
            "Número de Sisemas: 2\n",
            "Fator:  [0.8646647167633873, 0.6321205588285577, 0.3934693402873666, 0.7768698398515702, 0.7768698398515702, 0.6321205588285577, 0.3934693402873666, 0.6321205588285577, 0.6321205588285577, 0.6321205588285577, 0.7768698398515702, 0.6321205588285577]\n",
            "Media de falhas:  [0, 172.10368000000003, 16727.772966739714, 31404.07425236899, 13734828.186350247, 19226059.628403626, 23470247.545970436, 40583306.00763331, 186525609.93491143, 486853743.5345195, 1877403219.8926477, 2355054039.2115936, 2324809973.3942103]\n",
            "Custo =  96762354367.78775\n"
          ]
        },
        {
          "output_type": "stream",
          "name": "stderr",
          "text": [
            "pyswarms.single.global_best:   0%|          |0/1, best_cost=6.05e+10"
          ]
        },
        {
          "output_type": "stream",
          "name": "stdout",
          "text": [
            "\n",
            "=========================================================================\n",
            "\n",
            "Número de ciclos de manutenção: 10 2\n",
            "Tempos para manutenções preventivas: [0, 12, 47, 64, 236, 290, 365, 483, 609, 645, 711]\n",
            "Severidade para cada subsistema: [0.5, 0.25, 0.75, 0.5, 0.25, 0.75, 0.5, 0.25, 0.75, 0.5]\n",
            "Número de Sisemas: 2\n",
            "Fator:  [0.8646647167633873, 0.6321205588285577, 0.3934693402873666, 0.7768698398515702, 0.6321205588285577, 0.3934693402873666, 0.7768698398515702, 0.6321205588285577, 0.3934693402873666, 0.7768698398515702, 0.6321205588285577]\n",
            "Media de falhas:  [0, 79.62624000000001, 21164.94485192538, 35841.246137554655, 133264024.00142103, 137551499.38042784, 196478882.4626593, 1467114519.4108603, 1685876543.5717936, 1885743490.1435485, 5346927432.822871, 5314847978.727069]\n",
            "Custo =  289714004936.37695\n"
          ]
        },
        {
          "output_type": "stream",
          "name": "stderr",
          "text": [
            "\rpyswarms.single.global_best: 100%|██████████|1/1, best_cost=6.05e+10\n",
            "2023-09-24 22:28:09,165 - pyswarms.single.global_best - INFO - Optimization finished | best cost: 60496193571.40194, best pos: [3.43982384 1.57691216 5.15882296 2.76374691 0.74588736 5.84757565\n",
            " 4.04120039 3.936951   0.75546842 1.7765818  5.89140253 4.53224748\n",
            " 0.60603703 0.88805282 0.51264413 4.37546345 3.12835313 4.42522472\n",
            " 2.90911005 2.90091775 6.39976365 5.51278898 4.76272233 3.55943212]\n",
            "2023-09-24 22:28:09,167 - pyswarms.single.global_best - INFO - Optimize for 1 iters with {'c1': 0.5, 'c2': 0.3, 'w': 0.9}\n",
            "pyswarms.single.global_best:   0%|          |0/1, best_cost=6.05e+10"
          ]
        },
        {
          "output_type": "stream",
          "name": "stdout",
          "text": [
            "\n",
            "=========================================================================\n",
            "\n",
            "Número de ciclos de manutenção: 11 2\n",
            "Tempos para manutenções preventivas: [0, 11, 47, 65, 140, 182, 236, 291, 483, 605, 645, 718]\n",
            "Severidade para cada subsistema: [0.5, 0.25, 0.75, 0.5, 0.75, 0.5, 0.25, 0.5, 0.75, 0.75, 0.5]\n",
            "Número de Sisemas: 2\n",
            "Fator:  [0.8646647167633873, 0.6321205588285577, 0.3934693402873666, 0.7768698398515702, 0.6321205588285577, 0.7768698398515702, 0.6321205588285577, 0.3934693402873666, 0.6321205588285577, 0.7768698398515702, 0.7768698398515702, 0.6321205588285577]\n",
            "Media de falhas:  [0, 51.53632, 23746.232807551885, 40767.484891366315, 6287186.290582657, 6951945.4474492185, 14805615.638673449, 19304074.728414208, 780207862.7889658, 4026603213.1496215, 4251185933.109824, 4385115194.0083475, 4351385529.161548]\n",
            "Custo =  154543396871.24063\n"
          ]
        },
        {
          "output_type": "stream",
          "name": "stderr",
          "text": [
            "\rpyswarms.single.global_best: 100%|██████████|1/1, best_cost=6.05e+10\n",
            "2023-09-24 22:28:09,186 - pyswarms.single.global_best - INFO - Optimization finished | best cost: 60496193571.40194, best pos: [3.44239760e+00 1.57689842e+00 5.15882875e+00 2.76374707e+00\n",
            " 7.46012981e-01 5.84759156e+00 6.27295059e-03 3.93706065e+00\n",
            " 7.55504082e-01 1.77655944e+00 5.89149267e+00 4.58721837e+00\n",
            " 6.05918555e-01 8.89275196e-01 5.12387017e-01 4.37546352e+00\n",
            " 3.12833396e+00 4.42520745e+00 2.90909588e+00 2.90091948e+00\n",
            " 6.39974895e+00 5.51272612e+00 1.64983548e+00 3.56099935e+00]\n",
            "2023-09-24 22:28:09,187 - pyswarms.single.global_best - INFO - Optimize for 1 iters with {'c1': 0.5, 'c2': 0.3, 'w': 0.9}\n",
            "pyswarms.single.global_best: 100%|██████████|1/1, best_cost=6.05e+10\n",
            "2023-09-24 22:28:09,199 - pyswarms.single.global_best - INFO - Optimization finished | best cost: 60496193571.40194, best pos: [3.44461274 1.57688553 5.15883444 2.7637475  0.74612568 5.84759799\n",
            " 3.4338349  3.93715557 0.75553694 1.77655422 5.89173173 4.5853879\n",
            " 0.60580498 0.8903591  0.51215689 4.37546349 3.12818413 4.42519125\n",
            " 2.90905985 2.90092104 6.39970921 5.51260947 5.77736352 3.56314691]\n",
            "2023-09-24 22:28:09,200 - pyswarms.single.global_best - INFO - Optimize for 1 iters with {'c1': 0.5, 'c2': 0.3, 'w': 0.9}\n"
          ]
        },
        {
          "output_type": "stream",
          "name": "stdout",
          "text": [
            "\n",
            "=========================================================================\n",
            "\n",
            "Número de ciclos de manutenção: 10 2\n",
            "Tempos para manutenções preventivas: [0, 10, 47, 65, 169, 237, 292, 312, 483, 620, 645]\n",
            "Severidade para cada subsistema: [0.5, 0.25, 0.75, 0.75, 0.5, 0.25, 0.25, 0.5, 0.25, 0.75]\n",
            "Número de Sisemas: 2\n",
            "Fator:  [0.8646647167633873, 0.6321205588285577, 0.3934693402873666, 0.7768698398515702, 0.7768698398515702, 0.6321205588285577, 0.3934693402873666, 0.3934693402873666, 0.6321205588285577, 0.3934693402873666, 0.7768698398515702]\n",
            "Media de falhas:  [0, 32.0, 26588.24296578941, 43609.49504960384, 19433908.541281927, 23633371.57106696, 28177220.94916339, 34348697.516022705, 1898000974.1358738, 5909294991.724786, 6044028332.721841, 4703405624.104566]\n",
            "Custo =  304000309339.20844\n"
          ]
        },
        {
          "output_type": "stream",
          "name": "stderr",
          "text": [
            "pyswarms.single.global_best:   0%|          |0/1, best_cost=6.05e+10"
          ]
        },
        {
          "output_type": "stream",
          "name": "stdout",
          "text": [
            "\n",
            "=========================================================================\n",
            "\n",
            "Número de ciclos de manutenção: 11 2\n",
            "Tempos para manutenções preventivas: [0, 10, 47, 65, 134, 152, 238, 294, 328, 483, 644, 675]\n",
            "Severidade para cada subsistema: [0.5, 0.25, 0.75, 0.75, 0.25, 0.5, 0.25, 0.75, 0.5, 0.75, 0.25]\n",
            "Número de Sisemas: 2\n",
            "Fator:  [0.8646647167633873, 0.6321205588285577, 0.3934693402873666, 0.7768698398515702, 0.7768698398515702, 0.3934693402873666, 0.6321205588285577, 0.3934693402873666, 0.7768698398515702, 0.6321205588285577, 0.7768698398515702, 0.3934693402873666]\n",
            "Media de falhas:  [0, 32.0, 26588.24296578941, 43609.49504960384, 4808113.853602485, 4881154.057072415, 12801516.35222654, 96053230.97730495, 109894582.38771531, 1787679401.081525, 2231843715.3617268, 2434706385.348879, 2410696809.4088173]\n",
            "Custo =  90031586890.19856\n"
          ]
        },
        {
          "output_type": "stream",
          "name": "stderr",
          "text": [
            "\rpyswarms.single.global_best: 100%|██████████|1/1, best_cost=6.05e+10\n",
            "2023-09-24 22:28:09,213 - pyswarms.single.global_best - INFO - Optimization finished | best cost: 60496193571.40194, best pos: [3.44613814 1.57687433 5.15883921 2.7637482  0.74620921 5.84759451\n",
            " 6.66923345 3.9371665  0.75556577 1.77655444 5.89199885 4.54612077\n",
            " 0.60571921 0.89095216 0.5120366  4.37546343 3.1279497  4.42517989\n",
            " 2.90901505 2.90092357 6.39965957 5.51248038 2.34119957 3.56526681]\n",
            "2023-09-24 22:28:09,215 - pyswarms.single.global_best - INFO - Optimize for 1 iters with {'c1': 0.5, 'c2': 0.3, 'w': 0.9}\n",
            "pyswarms.single.global_best: 100%|██████████|1/1, best_cost=6.05e+10\n",
            "2023-09-24 22:28:09,226 - pyswarms.single.global_best - INFO - Optimization finished | best cost: 60496193571.40194, best pos: [3.44658229 1.5768684  5.15884222 2.763749   0.74627204 5.847586\n",
            " 2.67951668 3.93714018 0.75558956 1.77656052 5.89224629 4.48406634\n",
            " 0.60564666 0.89147361 0.51195899 4.37546337 3.12773871 4.42517493\n",
            " 2.90897472 2.90092613 6.39961423 5.51235918 6.17741225 3.5672826 ]\n"
          ]
        },
        {
          "output_type": "stream",
          "name": "stdout",
          "text": [
            "\n",
            "=========================================================================\n",
            "\n",
            "Número de ciclos de manutenção: 13 2\n",
            "Tempos para manutenções preventivas: [0, 10, 47, 65, 123, 162, 204, 238, 295, 300, 483, 644, 669, 717]\n",
            "Severidade para cada subsistema: [0.5, 0.25, 0.75, 0.5, 0.5, 0.75, 0.5, 0.25, 0.5, 0.5, 0.75, 0.5, 0.5]\n",
            "Número de Sisemas: 2\n",
            "Fator:  [0.8646647167633873, 0.6321205588285577, 0.3934693402873666, 0.7768698398515702, 0.6321205588285577, 0.6321205588285577, 0.7768698398515702, 0.6321205588285577, 0.3934693402873666, 0.6321205588285577, 0.6321205588285577, 0.7768698398515702, 0.6321205588285577, 0.6321205588285577]\n",
            "Media de falhas:  [0, 32.0, 26588.24296578941, 43609.49504960384, 2821737.4461509176, 3231194.872881561, 6454340.934873199, 10626875.733050145, 15669993.326478487, 16886752.09706849, 2024970601.716468, 3394342691.4252357, 3549911517.643116, 3621803138.6111236, 3235020320.970026]\n",
            "Custo =  124384957278.31557\n"
          ]
        },
        {
          "output_type": "stream",
          "name": "stderr",
          "text": [
            "2023-09-24 22:28:09,227 - pyswarms.single.global_best - INFO - Optimize for 1 iters with {'c1': 0.5, 'c2': 0.3, 'w': 0.9}\n",
            "pyswarms.single.global_best: 100%|██████████|1/1, best_cost=6.05e+10\n",
            "2023-09-24 22:28:09,239 - pyswarms.single.global_best - INFO - Optimization finished | best cost: 60496193571.40194, best pos: [3.44667774 1.57686784 5.1588442  2.76374971 0.74626289 5.84757235\n",
            " 5.5579653  3.93709548 0.75559981 1.77658434 5.8924531  4.42212711\n",
            " 0.60560517 0.89128977 0.5119467  4.37546318 3.12757668 4.42517797\n",
            " 2.90894788 2.90092846 6.39957424 5.51225685 3.00824234 3.56889437]\n",
            "2023-09-24 22:28:09,241 - pyswarms.single.global_best - INFO - Optimize for 1 iters with {'c1': 0.5, 'c2': 0.3, 'w': 0.9}\n"
          ]
        },
        {
          "output_type": "stream",
          "name": "stdout",
          "text": [
            "\n",
            "=========================================================================\n",
            "\n",
            "Número de ciclos de manutenção: 11 2\n",
            "Tempos para manutenções preventivas: [0, 11, 47, 65, 165, 180, 239, 296, 483, 644, 663, 711]\n",
            "Severidade para cada subsistema: [0.5, 0.25, 0.75, 0.75, 0.5, 0.5, 0.25, 0.5, 0.75, 0.75, 0.5]\n",
            "Número de Sisemas: 2\n",
            "Fator:  [0.8646647167633873, 0.6321205588285577, 0.3934693402873666, 0.7768698398515702, 0.7768698398515702, 0.6321205588285577, 0.6321205588285577, 0.3934693402873666, 0.6321205588285577, 0.7768698398515702, 0.7768698398515702, 0.6321205588285577]\n",
            "Media de falhas:  [0, 51.53632, 23746.232807551885, 40767.484891366315, 16869815.340377137, 16967703.59135482, 20002630.17403218, 38778123.301445946, 759681206.029718, 6238145924.387494, 6350561612.373804, 6420297419.157633, 6388217965.0618305]\n",
            "Custo =  184394143683.0398\n"
          ]
        },
        {
          "output_type": "stream",
          "name": "stderr",
          "text": [
            "pyswarms.single.global_best: 100%|██████████|1/1, best_cost=6.05e+10\n",
            "2023-09-24 22:28:09,253 - pyswarms.single.global_best - INFO - Optimization finished | best cost: 60496193571.40194, best pos: [3.44537637 1.57687266 5.15884555 2.76375031 0.74619406 5.84755232\n",
            " 0.41115866 3.93699407 0.75559565 1.7766146  5.89251981 4.36537698\n",
            " 0.60560925 0.89098967 0.51198221 4.37546292 3.12744643 4.42518733\n",
            " 2.90893669 2.90093051 6.39954596 5.51217446 6.83052361 3.56975934]\n",
            "2023-09-24 22:28:09,254 - pyswarms.single.global_best - INFO - Optimize for 1 iters with {'c1': 0.5, 'c2': 0.3, 'w': 0.9}\n"
          ]
        },
        {
          "output_type": "stream",
          "name": "stdout",
          "text": [
            "\n",
            "=========================================================================\n",
            "\n",
            "Número de ciclos de manutenção: 11 2\n",
            "Tempos para manutenções preventivas: [0, 12, 47, 64, 123, 239, 296, 305, 375, 483, 645, 706]\n",
            "Severidade para cada subsistema: [0.5, 0.25, 0.75, 0.75, 0.5, 0.25, 0.75, 0.75, 0.5, 0.75, 0.5]\n",
            "Número de Sisemas: 2\n",
            "Fator:  [0.8646647167633873, 0.6321205588285577, 0.3934693402873666, 0.7768698398515702, 0.7768698398515702, 0.6321205588285577, 0.3934693402873666, 0.7768698398515702, 0.7768698398515702, 0.6321205588285577, 0.7768698398515702, 0.6321205588285577]\n",
            "Media de falhas:  [0, 79.62624000000001, 21164.94485192538, 35841.246137554655, 2873418.288561038, 22303106.84188812, 27396043.61296154, 29784201.27081722, 305425641.40238863, 386900472.62008965, 839476547.5352685, 1354367828.49899, 1323441008.0856555]\n",
            "Custo =  67160718583.03626\n"
          ]
        },
        {
          "output_type": "stream",
          "name": "stderr",
          "text": [
            "pyswarms.single.global_best:   0%|          |0/1, best_cost=6.05e+10"
          ]
        },
        {
          "output_type": "stream",
          "name": "stdout",
          "text": [
            "\n",
            "=========================================================================\n",
            "\n",
            "Número de ciclos de manutenção: 9 2\n",
            "Tempos para manutenções preventivas: [0, 13, 47, 64, 239, 296, 483, 609, 645, 701]\n",
            "Severidade para cada subsistema: [0.5, 0.25, 0.75, 0.5, 0.25, 0.5, 0.25, 0.75, 0.5]\n",
            "Número de Sisemas: 2\n",
            "Fator:  [0.8646647167633873, 0.6321205588285577, 0.3934693402873666, 0.7768698398515702, 0.6321205588285577, 0.3934693402873666, 0.6321205588285577, 0.3934693402873666, 0.7768698398515702, 0.6321205588285577]\n",
            "Media de falhas:  [0, 118.81376000000002, 18829.876728978048, 33506.17801460732, 143016784.7161115, 148109721.48718494, 869012804.215457, 4308851512.493492, 4508718459.065247, 7300641357.45397, 7270849279.769755]\n",
            "Custo =  351063283508.9809\n"
          ]
        },
        {
          "output_type": "stream",
          "name": "stderr",
          "text": [
            "\rpyswarms.single.global_best: 100%|██████████|1/1, best_cost=6.05e+10\n",
            "2023-09-24 22:28:09,268 - pyswarms.single.global_best - INFO - Optimization finished | best cost: 60496193571.40194, best pos: [3.44319162 1.57687954 5.15884611 2.76375064 0.74608838 5.84753412\n",
            " 2.80577271 3.93687514 0.75557883 1.77664303 5.89248745 4.31697462\n",
            " 0.60561598 0.89045876 0.51218822 4.37546267 3.12736508 4.42519681\n",
            " 2.9089375  2.90093225 6.39952387 5.51217037 2.19775763 3.56998949]\n",
            "2023-09-24 22:28:09,270 - pyswarms.single.global_best - INFO - Optimize for 1 iters with {'c1': 0.5, 'c2': 0.3, 'w': 0.9}\n",
            "pyswarms.single.global_best: 100%|██████████|1/1, best_cost=6.05e+10\n",
            "2023-09-24 22:28:09,281 - pyswarms.single.global_best - INFO - Optimization finished | best cost: 60496193571.40194, best pos: [3.44101788 1.57688692 5.15884249 2.76375076 0.74596806 5.84751886\n",
            " 5.191926   3.93676122 0.75555314 1.77666431 5.8923788  4.29984747\n",
            " 0.60564749 0.88997753 0.51238041 4.37546246 3.12741888 4.4252077\n",
            " 2.90894003 2.90093295 6.39953591 5.51222477 4.53231283 3.56950462]\n",
            "2023-09-24 22:28:09,283 - pyswarms.single.global_best - INFO - Optimize for 1 iters with {'c1': 0.5, 'c2': 0.3, 'w': 0.9}\n"
          ]
        },
        {
          "output_type": "stream",
          "name": "stdout",
          "text": [
            "\n",
            "=========================================================================\n",
            "\n",
            "Número de ciclos de manutenção: 9 2\n",
            "Tempos para manutenções preventivas: [0, 14, 47, 64, 239, 296, 382, 483, 645, 698]\n",
            "Severidade para cada subsistema: [0.5, 0.25, 0.75, 0.5, 0.25, 0.5, 0.5, 0.75, 0.5]\n",
            "Número de Sisemas: 2\n",
            "Fator:  [0.8646647167633873, 0.6321205588285577, 0.3934693402873666, 0.7768698398515702, 0.6321205588285577, 0.3934693402873666, 0.6321205588285577, 0.6321205588285577, 0.7768698398515702, 0.6321205588285577]\n",
            "Media de falhas:  [0, 172.10368000000003, 16727.772966739714, 31404.07425236899, 143014682.61234927, 148107619.3834227, 233183645.9462638, 1323825952.5570688, 2714375428.9151974, 3133232354.0977063, 3104114128.5377336]\n",
            "Custo =  117916775360.81718\n"
          ]
        },
        {
          "output_type": "stream",
          "name": "stderr",
          "text": [
            "pyswarms.single.global_best:   0%|          |0/1, best_cost=6.05e+10"
          ]
        },
        {
          "output_type": "stream",
          "name": "stdout",
          "text": [
            "\n",
            "=========================================================================\n",
            "\n",
            "Número de ciclos de manutenção: 11 2\n",
            "Tempos para manutenções preventivas: [0, 15, 47, 64, 239, 296, 323, 483, 610, 645, 673, 696]\n",
            "Severidade para cada subsistema: [0.5, 0.25, 0.75, 0.5, 0.25, 0.5, 0.5, 0.5, 0.75, 0.75, 0.5]\n",
            "Número de Sisemas: 2\n",
            "Fator:  [0.8646647167633873, 0.6321205588285577, 0.3934693402873666, 0.7768698398515702, 0.6321205588285577, 0.3934693402873666, 0.6321205588285577, 0.6321205588285577, 0.6321205588285577, 0.7768698398515702, 0.7768698398515702, 0.6321205588285577]\n",
            "Media de falhas:  [0, 243.00000000000003, 14846.64482980281, 29522.946115432085, 143012801.48421234, 148105738.25528577, 158035844.64139983, 1893145595.2719357, 2676722243.407322, 2870499257.5767183, 3050226476.5930886, 3075618904.696452, 3046947557.425094]\n",
            "Custo =  126591359507.5115\n"
          ]
        },
        {
          "output_type": "stream",
          "name": "stderr",
          "text": [
            "\rpyswarms.single.global_best: 100%|██████████|1/1, best_cost=6.05e+10\n",
            "2023-09-24 22:28:09,296 - pyswarms.single.global_best - INFO - Optimization finished | best cost: 60496193571.40194, best pos: [3.4390955  1.57689371 5.15883835 2.76375045 0.74585824 5.84751045\n",
            " 0.46932079 3.93665934 0.755528   1.77668066 5.89220344 4.30533601\n",
            " 0.60573106 0.88937298 0.51256927 4.37546234 3.12752565 4.42521737\n",
            " 2.90894752 2.90093166 6.3995647  5.51229169 0.05314685 3.56880581]\n",
            "2023-09-24 22:28:09,297 - pyswarms.single.global_best - INFO - Optimize for 1 iters with {'c1': 0.5, 'c2': 0.3, 'w': 0.9}\n",
            "pyswarms.single.global_best: 100%|██████████|1/1, best_cost=6.05e+10\n",
            "2023-09-24 22:28:09,309 - pyswarms.single.global_best - INFO - Optimization finished | best cost: 60496193571.40194, best pos: [3.43746749 1.57689827 5.15883343 2.76375015 0.74578209 5.84751074\n",
            " 3.28658443 3.93659463 0.75550486 1.7766828  5.89200252 4.33608385\n",
            " 0.60582581 0.88878335 0.51276188 4.3754623  3.12765426 4.42522323\n",
            " 2.9089619  2.90092904 6.39959087 5.51238    3.0270853  3.56771887]\n",
            "2023-09-24 22:28:09,310 - pyswarms.single.global_best - INFO - Optimize for 1 iters with {'c1': 0.5, 'c2': 0.3, 'w': 0.9}\n"
          ]
        },
        {
          "output_type": "stream",
          "name": "stdout",
          "text": [
            "\n",
            "=========================================================================\n",
            "\n",
            "Número de ciclos de manutenção: 12 2\n",
            "Tempos para manutenções preventivas: [0, 15, 47, 64, 178, 191, 239, 295, 374, 483, 601, 645, 697]\n",
            "Severidade para cada subsistema: [0.5, 0.25, 0.75, 0.25, 0.5, 0.5, 0.25, 0.25, 0.5, 0.25, 0.75, 0.5]\n",
            "Número de Sisemas: 2\n",
            "Fator:  [0.8646647167633873, 0.6321205588285577, 0.3934693402873666, 0.7768698398515702, 0.3934693402873666, 0.6321205588285577, 0.6321205588285577, 0.3934693402873666, 0.3934693402873666, 0.6321205588285577, 0.3934693402873666, 0.7768698398515702, 0.6321205588285577]\n",
            "Media de falhas:  [0, 243.00000000000003, 14846.64482980281, 29522.946115432085, 26671256.342836194, 26769920.335342716, 57880345.639766835, 75959728.42839634, 145348655.2882199, 1320327869.231972, 4380596658.055486, 4630483055.630182, 7170947626.180602, 7142053051.947757]\n",
            "Custo =  374553038454.56696\n"
          ]
        },
        {
          "output_type": "stream",
          "name": "stderr",
          "text": [
            "pyswarms.single.global_best: 100%|██████████|1/1, best_cost=6.05e+10\n",
            "2023-09-24 22:28:09,323 - pyswarms.single.global_best - INFO - Optimization finished | best cost: 60496193571.40194, best pos: [3.43698593 1.57690072 5.15882876 2.76374963 0.74576156 5.84751381\n",
            " 6.27674768 3.93654933 0.75548572 1.77666933 5.89182641 4.36865328\n",
            " 0.60591475 0.88826312 0.51291783 4.37546241 3.12778257 4.42522754\n",
            " 2.9089762  2.90092612 6.39961595 5.51247724 6.35000921 3.56618948]\n",
            "2023-09-24 22:28:09,324 - pyswarms.single.global_best - INFO - Optimize for 1 iters with {'c1': 0.5, 'c2': 0.3, 'w': 0.9}\n"
          ]
        },
        {
          "output_type": "stream",
          "name": "stdout",
          "text": [
            "\n",
            "=========================================================================\n",
            "\n",
            "Número de ciclos de manutenção: 12 2\n",
            "Tempos para manutenções preventivas: [0, 15, 47, 64, 121, 201, 239, 294, 311, 379, 483, 645, 699]\n",
            "Severidade para cada subsistema: [0.5, 0.25, 0.75, 0.25, 0.75, 0.5, 0.25, 0.75, 0.5, 0.5, 0.75, 0.5]\n",
            "Número de Sisemas: 2\n",
            "Fator:  [0.8646647167633873, 0.6321205588285577, 0.3934693402873666, 0.7768698398515702, 0.3934693402873666, 0.7768698398515702, 0.6321205588285577, 0.3934693402873666, 0.7768698398515702, 0.6321205588285577, 0.6321205588285577, 0.7768698398515702, 0.6321205588285577]\n",
            "Media de falhas:  [0, 243.00000000000003, 14846.64482980281, 29522.946115432085, 2585866.922319404, 7069179.590102255, 31914378.251021788, 36550068.95775136, 41640974.34855967, 321421038.8419069, 396327581.74887943, 1786877058.1070077, 2217173141.3038483, 2187830804.460868]\n",
            "Custo =  91291748881.84818\n"
          ]
        },
        {
          "output_type": "stream",
          "name": "stderr",
          "text": [
            "pyswarms.single.global_best: 100%|██████████|1/1, best_cost=6.05e+10\n",
            "2023-09-24 22:28:09,339 - pyswarms.single.global_best - INFO - Optimization finished | best cost: 60496193571.40194, best pos: [3.43729137 1.57690217 5.15882517 2.76374909 0.74576992 5.84751907\n",
            " 2.2813936  3.93656772 0.75547234 1.77665183 5.8916706  4.40900424\n",
            " 0.60599383 0.88782099 0.51305343 4.37546252 3.12789846 4.42523078\n",
            " 2.90899051 2.90092352 6.39964007 5.51256058 1.70738601 3.56468028]\n",
            "2023-09-24 22:28:09,340 - pyswarms.single.global_best - INFO - Optimize for 1 iters with {'c1': 0.5, 'c2': 0.3, 'w': 0.9}\n"
          ]
        },
        {
          "output_type": "stream",
          "name": "stdout",
          "text": [
            "\n",
            "=========================================================================\n",
            "\n",
            "Número de ciclos de manutenção: 8 2\n",
            "Tempos para manutenções preventivas: [0, 15, 47, 64, 238, 293, 483, 645, 703]\n",
            "Severidade para cada subsistema: [0.5, 0.25, 0.75, 0.5, 0.25, 0.5, 0.75, 0.5]\n",
            "Número de Sisemas: 2\n",
            "Fator:  [0.8646647167633873, 0.6321205588285577, 0.3934693402873666, 0.7768698398515702, 0.6321205588285577, 0.3934693402873666, 0.6321205588285577, 0.7768698398515702, 0.6321205588285577]\n",
            "Media de falhas:  [0, 243.00000000000003, 14846.64482980281, 29522.946115432085, 139699702.12965328, 144289294.75056177, 888993899.3371022, 6435705361.516487, 6913356180.835433, 6883112115.018049]\n",
            "Custo =  190299734884.53015\n"
          ]
        },
        {
          "output_type": "stream",
          "name": "stderr",
          "text": [
            "pyswarms.single.global_best:   0%|          |0/1, best_cost=6.05e+10"
          ]
        },
        {
          "output_type": "stream",
          "name": "stdout",
          "text": [
            "\n",
            "=========================================================================\n",
            "\n",
            "Número de ciclos de manutenção: 11 2\n",
            "Tempos para manutenções preventivas: [0, 15, 47, 64, 184, 238, 292, 379, 483, 645, 679, 706]\n",
            "Severidade para cada subsistema: [0.5, 0.25, 0.75, 0.5, 0.5, 0.25, 0.25, 0.5, 0.75, 0.75, 0.5]\n",
            "Número de Sisemas: 2\n",
            "Fator:  [0.8646647167633873, 0.6321205588285577, 0.3934693402873666, 0.7768698398515702, 0.6321205588285577, 0.6321205588285577, 0.3934693402873666, 0.3934693402873666, 0.6321205588285577, 0.7768698398515702, 0.7768698398515702, 0.6321205588285577]\n",
            "Media de falhas:  [0, 243.00000000000003, 14846.64482980281, 29522.946115432085, 32334473.067444764, 34780544.416075096, 51321866.70854298, 135636934.7495834, 1257841729.5747874, 6804553191.754172, 7034025191.844964, 7066478244.906779, 7035551424.493444]\n",
            "Custo =  219454382290.5901\n"
          ]
        },
        {
          "output_type": "stream",
          "name": "stderr",
          "text": [
            "\rpyswarms.single.global_best: 100%|██████████|1/1, best_cost=6.05e+10\n",
            "2023-09-24 22:28:09,353 - pyswarms.single.global_best - INFO - Optimization finished | best cost: 60496193571.40194, best pos: [3.4377137  1.57689945 5.15882404 2.76374857 0.74579233 5.84752698\n",
            " 5.45567223 3.93658831 0.75546546 1.77663331 5.8915448  4.44569149\n",
            " 0.60604285 0.88760052 0.51309899 4.37546264 3.12800101 4.42522687\n",
            " 2.90900371 2.90092164 6.39966448 5.51262018 4.17545298 3.56348616]\n",
            "2023-09-24 22:28:09,355 - pyswarms.single.global_best - INFO - Optimize for 1 iters with {'c1': 0.5, 'c2': 0.3, 'w': 0.9}\n",
            "pyswarms.single.global_best:   0%|          |0/1, best_cost=6.05e+10"
          ]
        },
        {
          "output_type": "stream",
          "name": "stdout",
          "text": [
            "\n",
            "=========================================================================\n",
            "\n",
            "Número de ciclos de manutenção: 9 2\n",
            "Tempos para manutenções preventivas: [0, 15, 47, 64, 191, 237, 291, 483, 645, 710]\n",
            "Severidade para cada subsistema: [0.5, 0.25, 0.75, 0.75, 0.5, 0.25, 0.5, 0.75, 0.5]\n",
            "Número de Sisemas: 2\n",
            "Fator:  [0.8646647167633873, 0.6321205588285577, 0.3934693402873666, 0.7768698398515702, 0.7768698398515702, 0.6321205588285577, 0.3934693402873666, 0.6321205588285577, 0.7768698398515702, 0.6321205588285577]\n",
            "Media de falhas:  [0, 243.00000000000003, 14846.64482980281, 29522.946115432085, 40116415.76266442, 41820291.55967706, 46151394.494449764, 807055182.5550014, 6353766644.734386, 6920697901.848673, 6888850576.845023]\n",
            "Custo =  190591072460.34158\n"
          ]
        },
        {
          "output_type": "stream",
          "name": "stderr",
          "text": [
            "\rpyswarms.single.global_best: 100%|██████████|1/1, best_cost=6.05e+10\n",
            "2023-09-24 22:28:09,367 - pyswarms.single.global_best - INFO - Optimization finished | best cost: 60496193571.40194, best pos: [3.438889   1.57689651 5.15882303 2.76374813 0.74585123 5.84753422\n",
            " 1.66568096 3.93666446 0.75546421 1.77661365 5.89154414 4.47570333\n",
            " 0.60603666 0.88752217 0.51306798 4.37546277 3.12809275 4.42521801\n",
            " 2.90901696 2.90092045 6.39968504 5.51265342 6.67280306 3.56243124]\n",
            "2023-09-24 22:28:09,368 - pyswarms.single.global_best - INFO - Optimize for 1 iters with {'c1': 0.5, 'c2': 0.3, 'w': 0.9}\n",
            "pyswarms.single.global_best:   0%|          |0/1, best_cost=6.05e+10"
          ]
        },
        {
          "output_type": "stream",
          "name": "stdout",
          "text": [
            "\n",
            "=========================================================================\n",
            "\n",
            "Número de ciclos de manutenção: 11 2\n",
            "Tempos para manutenções preventivas: [0, 14, 47, 64, 178, 237, 290, 327, 483, 645, 666, 712]\n",
            "Severidade para cada subsistema: [0.5, 0.25, 0.75, 0.5, 0.5, 0.25, 0.25, 0.5, 0.75, 0.25, 0.5]\n",
            "Número de Sisemas: 2\n",
            "Fator:  [0.8646647167633873, 0.6321205588285577, 0.3934693402873666, 0.7768698398515702, 0.6321205588285577, 0.6321205588285577, 0.3934693402873666, 0.3934693402873666, 0.6321205588285577, 0.7768698398515702, 0.3934693402873666, 0.6321205588285577]\n",
            "Media de falhas:  [0, 172.10368000000003, 16727.772966739714, 31404.07425236899, 26673137.470973134, 29641457.62077107, 45355136.55016738, 60530457.12349527, 1749728210.245987, 7296439672.425372, 7423548935.060781, 7489671672.410953, 3754564696.066387]\n",
            "Custo =  347594434165.6968\n"
          ]
        },
        {
          "output_type": "stream",
          "name": "stderr",
          "text": [
            "\rpyswarms.single.global_best: 100%|██████████|1/1, best_cost=6.05e+10\n",
            "2023-09-24 22:28:09,380 - pyswarms.single.global_best - INFO - Optimization finished | best cost: 60496193571.40194, best pos: [3.4405434  1.57689378 5.15882303 2.76374783 0.74592276 5.84754082\n",
            " 5.20763413 3.93677331 0.75547239 1.77659744 5.89167007 4.49345102\n",
            " 0.60601133 0.88755255 0.5130393  4.3754629  3.12817198 4.42520927\n",
            " 2.90902851 2.9009211  6.39969471 5.51262577 1.27429563 3.56187673]\n",
            "2023-09-24 22:28:09,382 - pyswarms.single.global_best - INFO - Optimize for 1 iters with {'c1': 0.5, 'c2': 0.3, 'w': 0.9}\n",
            "pyswarms.single.global_best: 100%|██████████|1/1, best_cost=6.05e+10\n",
            "2023-09-24 22:28:09,395 - pyswarms.single.global_best - INFO - Optimization finished | best cost: 60496193571.40194, best pos: [3.44233173 1.57689051 5.15882404 2.76374784 0.74599368 5.84754638\n",
            " 1.79903036 3.93688415 0.75547998 1.7765857  5.89184238 4.49576398\n",
            " 0.60595796 0.88778714 0.51292955 4.37546299 3.12819052 4.4252005\n",
            " 2.90903586 2.90092206 6.39970012 5.51256155 3.24579294 3.56166912]\n"
          ]
        },
        {
          "output_type": "stream",
          "name": "stdout",
          "text": [
            "\n",
            "=========================================================================\n",
            "\n",
            "Número de ciclos de manutenção: 10 2\n",
            "Tempos para manutenções preventivas: [0, 13, 47, 64, 184, 237, 290, 483, 603, 645, 713]\n",
            "Severidade para cada subsistema: [0.5, 0.25, 0.75, 0.5, 0.5, 0.25, 0.5, 0.75, 0.75, 0.5]\n",
            "Número de Sisemas: 2\n",
            "Fator:  [0.8646647167633873, 0.6321205588285577, 0.3934693402873666, 0.7768698398515702, 0.6321205588285577, 0.6321205588285577, 0.3934693402873666, 0.6321205588285577, 0.7768698398515702, 0.7768698398515702, 0.6321205588285577]\n",
            "Media de falhas:  [0, 118.81376000000002, 18829.876728978048, 33506.17801460732, 32338456.29934394, 34656619.05879734, 50370297.988193646, 819474454.5529404, 3971905116.850215, 4209064657.9189763, 4326079357.575482, 4293533056.4871016]\n",
            "Custo =  154086344775.1395\n"
          ]
        },
        {
          "output_type": "stream",
          "name": "stderr",
          "text": [
            "2023-09-24 22:28:09,397 - pyswarms.single.global_best - INFO - Optimize for 1 iters with {'c1': 0.5, 'c2': 0.3, 'w': 0.9}\n",
            "pyswarms.single.global_best: 100%|██████████|1/1, best_cost=6.05e+10\n",
            "2023-09-24 22:28:09,408 - pyswarms.single.global_best - INFO - Optimization finished | best cost: 60496193571.40194, best pos: [3.44389638 1.57688744 5.15882576 2.7637479  0.74604916 5.84754964\n",
            " 5.51538735 3.93698353 0.7554965  1.77657911 5.8920067  4.48497383\n",
            " 0.60589874 0.88810541 0.51277411 4.37546302 3.12817604 4.42519365\n",
            " 2.90904194 2.90092377 6.39969284 5.51247913 5.15714138 3.56177227]\n"
          ]
        },
        {
          "output_type": "stream",
          "name": "stdout",
          "text": [
            "\n",
            "=========================================================================\n",
            "\n",
            "Número de ciclos de manutenção: 9 2\n",
            "Tempos para manutenções preventivas: [0, 13, 47, 64, 237, 290, 483, 605, 645, 712]\n",
            "Severidade para cada subsistema: [0.5, 0.25, 0.75, 0.5, 0.25, 0.5, 0.5, 0.75, 0.5]\n",
            "Número de Sisemas: 2\n",
            "Fator:  [0.8646647167633873, 0.6321205588285577, 0.3934693402873666, 0.7768698398515702, 0.6321205588285577, 0.3934693402873666, 0.6321205588285577, 0.6321205588285577, 0.7768698398515702, 0.6321205588285577]\n",
            "Media de falhas:  [0, 118.81376000000002, 18829.876728978048, 33506.17801460732, 136452275.27395064, 140578446.4390132, 909682603.00376, 4156077953.3644156, 4380660673.324618, 4974665613.166797, 4942353175.536435]\n",
            "Custo =  184925736398.5959\n"
          ]
        },
        {
          "output_type": "stream",
          "name": "stderr",
          "text": [
            "2023-09-24 22:28:09,410 - pyswarms.single.global_best - INFO - Optimize for 1 iters with {'c1': 0.5, 'c2': 0.3, 'w': 0.9}\n",
            "pyswarms.single.global_best: 100%|██████████|1/1, best_cost=6.05e+10\n",
            "2023-09-24 22:28:09,422 - pyswarms.single.global_best - INFO - Optimization finished | best cost: 60496193571.40194, best pos: [3.44505107 1.57688474 5.15882816 2.76374804 0.74608034 5.84755161\n",
            " 1.98292303 3.93703579 0.75551782 1.77657543 5.89216143 4.46693092\n",
            " 0.6058418  0.88840476 0.51262931 4.37546303 3.12811263 4.42519083\n",
            " 2.90904034 2.90092586 6.39967707 5.51240422 6.17782313 3.56192915]\n"
          ]
        },
        {
          "output_type": "stream",
          "name": "stdout",
          "text": [
            "\n",
            "=========================================================================\n",
            "\n",
            "Número de ciclos de manutenção: 10 2\n",
            "Tempos para manutenções preventivas: [0, 12, 47, 64, 204, 237, 290, 483, 616, 645, 710]\n",
            "Severidade para cada subsistema: [0.5, 0.25, 0.75, 0.25, 0.5, 0.25, 0.5, 0.25, 0.75, 0.5]\n",
            "Número de Sisemas: 2\n",
            "Fator:  [0.8646647167633873, 0.6321205588285577, 0.3934693402873666, 0.7768698398515702, 0.3934693402873666, 0.6321205588285577, 0.3934693402873666, 0.6321205588285577, 0.3934693402873666, 0.7768698398515702, 0.6321205588285577]\n",
            "Media de falhas:  [0, 79.62624000000001, 21164.94485192538, 35841.246137554655, 58514348.17171645, 59406835.297580056, 134106887.54157758, 903211044.1063243, 4699826559.297354, 4857782836.134462, 8249353552.424459, 8217506227.42081]\n",
            "Custo =  369203734898.27\n"
          ]
        },
        {
          "output_type": "stream",
          "name": "stderr",
          "text": [
            "2023-09-24 22:28:09,423 - pyswarms.single.global_best - INFO - Optimize for 1 iters with {'c1': 0.5, 'c2': 0.3, 'w': 0.9}\n",
            "pyswarms.single.global_best: 100%|██████████|1/1, best_cost=6.05e+10"
          ]
        },
        {
          "output_type": "stream",
          "name": "stdout",
          "text": [
            "\n",
            "=========================================================================\n",
            "\n",
            "Número de ciclos de manutenção: 8 2\n",
            "Tempos para manutenções preventivas: [0, 11, 47, 64, 237, 291, 483, 645, 707]\n",
            "Severidade para cada subsistema: [0.5, 0.25, 0.75, 0.5, 0.25, 0.5, 0.75, 0.5]\n",
            "Número de Sisemas: 2\n",
            "Fator:  [0.8646647167633873, 0.6321205588285577, 0.3934693402873666, 0.7768698398515702, 0.6321205588285577, 0.3934693402873666, 0.6321205588285577, 0.7768698398515702, 0.6321205588285577]\n",
            "Media de falhas:  [0, 51.53632, 23746.232807551885, 38422.53409318116, 136457191.6300292, 140788294.5648019, 901692082.6253536, 6448403544.804739, 6976045745.977194, 6944889946.24116]\n",
            "Custo =  191495255622.92014\n"
          ]
        },
        {
          "output_type": "stream",
          "name": "stderr",
          "text": [
            "\n",
            "2023-09-24 22:28:09,439 - pyswarms.single.global_best - INFO - Optimization finished | best cost: 60496193571.40194, best pos: [3.44540644 1.57688282 5.15883126 2.76374832 0.74609881 5.8475529\n",
            " 5.54337411 3.93705604 0.75553723 1.77658033 5.89228708 4.44838355\n",
            " 0.60579458 0.88879269 0.51251311 4.37546298 3.12800574 4.42518934\n",
            " 2.90903459 2.90092779 6.39966128 5.51234469 0.70825408 3.56302116]\n",
            "2023-09-24 22:28:09,441 - pyswarms.single.global_best - INFO - Optimize for 1 iters with {'c1': 0.5, 'c2': 0.3, 'w': 0.9}\n",
            "pyswarms.single.global_best: 100%|██████████|1/1, best_cost=6.05e+10"
          ]
        },
        {
          "output_type": "stream",
          "name": "stdout",
          "text": [
            "\n",
            "=========================================================================\n",
            "\n",
            "Número de ciclos de manutenção: 10 2\n",
            "Tempos para manutenções preventivas: [0, 11, 47, 64, 147, 238, 292, 326, 483, 645, 704]\n",
            "Severidade para cada subsistema: [0.5, 0.25, 0.75, 0.5, 0.5, 0.25, 0.75, 0.5, 0.75, 0.5]\n",
            "Número de Sisemas: 2\n",
            "Fator:  [0.8646647167633873, 0.6321205588285577, 0.3934693402873666, 0.7768698398515702, 0.6321205588285577, 0.6321205588285577, 0.3934693402873666, 0.7768698398515702, 0.6321205588285577, 0.7768698398515702, 0.6321205588285577]\n",
            "Media de falhas:  [0, 51.53632, 23746.232807551885, 38422.53409318116, 8594552.79938787, 17888243.35323774, 34429565.645705625, 47954026.20182729, 1748590425.064013, 2201166499.979192, 2691063786.858974, 2660592803.4943786]\n",
            "Custo =  92531730179.14023\n"
          ]
        },
        {
          "output_type": "stream",
          "name": "stderr",
          "text": [
            "\n",
            "2023-09-24 22:28:09,452 - pyswarms.single.global_best - INFO - Optimization finished | best cost: 60496193571.40194, best pos: [3.44542494 1.57688136 5.15883433 2.76374868 0.74609414 5.84755013\n",
            " 1.76724997 3.93707141 0.75555426 1.77658943 5.89234202 4.42576255\n",
            " 0.60576013 0.88917063 0.51241419 4.37546293 3.12789518 4.42518987\n",
            " 2.9090262  2.90092927 6.39964628 5.51231787 2.7478636  3.56469652]\n",
            "2023-09-24 22:28:09,454 - pyswarms.single.global_best - INFO - Optimize for 1 iters with {'c1': 0.5, 'c2': 0.3, 'w': 0.9}\n",
            "pyswarms.single.global_best:   0%|          |0/1, best_cost=6.05e+10"
          ]
        },
        {
          "output_type": "stream",
          "name": "stdout",
          "text": [
            "\n",
            "=========================================================================\n",
            "\n",
            "Número de ciclos de manutenção: 12 2\n",
            "Tempos para manutenções preventivas: [0, 12, 47, 64, 202, 238, 293, 329, 388, 483, 621, 645, 702]\n",
            "Severidade para cada subsistema: [0.5, 0.25, 0.75, 0.5, 0.5, 0.25, 0.25, 0.25, 0.5, 0.75, 0.75, 0.5]\n",
            "Número de Sisemas: 2\n",
            "Fator:  [0.8646647167633873, 0.6321205588285577, 0.3934693402873666, 0.7768698398515702, 0.6321205588285577, 0.6321205588285577, 0.3934693402873666, 0.3934693402873666, 0.3934693402873666, 0.6321205588285577, 0.7768698398515702, 0.7768698398515702, 0.6321205588285577]\n",
            "Media de falhas:  [0, 79.62624000000001, 21164.94485192538, 35841.246137554655, 55314864.01721476, 56376098.20245596, 73568989.76772591, 88581558.92794552, 357041651.4022343, 1384743699.6634555, 5450970220.694666, 5579976677.241397, 5664993054.282195, 5634975279.779988]\n",
            "Custo =  212622845322.5041\n"
          ]
        },
        {
          "output_type": "stream",
          "name": "stderr",
          "text": [
            "\rpyswarms.single.global_best: 100%|██████████|1/1, best_cost=6.05e+10\n",
            "2023-09-24 22:28:09,466 - pyswarms.single.global_best - INFO - Optimization finished | best cost: 60496193571.40194, best pos: [3.44438426 1.57688049 5.15883689 2.76374903 0.74606539 5.84754474\n",
            " 5.34086571 3.93702295 0.75556348 1.7765986  5.89235493 4.40450491\n",
            " 0.60575181 0.88948662 0.51239889 4.37546288 3.12779317 4.42519117\n",
            " 2.90901809 2.90093011 6.39963464 5.51229987 4.8986167  3.56631365]\n",
            "2023-09-24 22:28:09,468 - pyswarms.single.global_best - INFO - Optimize for 1 iters with {'c1': 0.5, 'c2': 0.3, 'w': 0.9}\n",
            "pyswarms.single.global_best: 100%|██████████|1/1, best_cost=6.05e+10"
          ]
        },
        {
          "output_type": "stream",
          "name": "stdout",
          "text": [
            "\n",
            "=========================================================================\n",
            "\n",
            "Número de ciclos de manutenção: 11 2\n",
            "Tempos para manutenções preventivas: [0, 12, 47, 64, 141, 238, 294, 300, 386, 483, 645, 701]\n",
            "Severidade para cada subsistema: [0.5, 0.25, 0.75, 0.5, 0.5, 0.25, 0.75, 0.5, 0.5, 0.75, 0.5]\n",
            "Número de Sisemas: 2\n",
            "Fator:  [0.8646647167633873, 0.6321205588285577, 0.3934693402873666, 0.7768698398515702, 0.6321205588285577, 0.6321205588285577, 0.3934693402873666, 0.7768698398515702, 0.6321205588285577, 0.6321205588285577, 0.7768698398515702, 0.6321205588285577]\n",
            "Media de falhas:  [0, 79.62624000000001, 21164.94485192538, 35841.246137554655, 6676158.8561721, 17860994.46946338, 35723996.63517523, 37191718.71437754, 415434745.0715111, 479824372.1256488, 1870373848.483777, 2324024392.8161254, 2294232315.131911]\n",
            "Custo =  91232475769.08896\n"
          ]
        },
        {
          "output_type": "stream",
          "name": "stderr",
          "text": [
            "\n",
            "2023-09-24 22:28:09,480 - pyswarms.single.global_best - INFO - Optimization finished | best cost: 60496193571.40194, best pos: [3.44298459 1.57688091 5.15883903 2.76374935 0.74603929 5.84753973\n",
            " 1.14742362 3.93694512 0.75556875 1.77661328 5.89233816 4.38652067\n",
            " 0.605763   0.88974261 0.51240236 4.37546281 3.1277177  4.42519385\n",
            " 2.90901043 2.90093046 6.39962731 5.51232889 0.46498283 3.56763724]\n",
            "2023-09-24 22:28:09,482 - pyswarms.single.global_best - INFO - Optimize for 1 iters with {'c1': 0.5, 'c2': 0.3, 'w': 0.9}\n",
            "pyswarms.single.global_best: 100%|██████████|1/1, best_cost=6.05e+10"
          ]
        },
        {
          "output_type": "stream",
          "name": "stdout",
          "text": [
            "\n",
            "=========================================================================\n",
            "\n",
            "Número de ciclos de manutenção: 10 2\n",
            "Tempos para manutenções preventivas: [0, 12, 47, 64, 206, 238, 295, 382, 483, 645, 700]\n",
            "Severidade para cada subsistema: [0.5, 0.25, 0.75, 0.5, 0.5, 0.25, 0.75, 0.5, 0.75, 0.5]\n",
            "Número de Sisemas: 2\n",
            "Fator:  [0.8646647167633873, 0.6321205588285577, 0.3934693402873666, 0.7768698398515702, 0.6321205588285577, 0.6321205588285577, 0.3934693402873666, 0.7768698398515702, 0.6321205588285577, 0.7768698398515702, 0.6321205588285577]\n",
            "Media de falhas:  [0, 79.62624000000001, 21164.94485192538, 35841.246137554655, 61860218.66624996, 62716375.9643269, 81268422.98748097, 167895293.14894295, 1258537599.759748, 1711113674.674927, 2153007086.044112, 2123440143.1648583]\n",
            "Custo =  94828038148.10298\n"
          ]
        },
        {
          "output_type": "stream",
          "name": "stderr",
          "text": [
            "\n",
            "2023-09-24 22:28:09,493 - pyswarms.single.global_best - INFO - Optimization finished | best cost: 60496193571.40194, best pos: [3.44139554 1.57688172 5.15883976 2.7637496  0.74600795 5.84753512\n",
            " 4.28667516 3.9368445  0.75556242 1.77662889 5.89231    4.37072219\n",
            " 0.60578206 0.88985083 0.51241873 4.37546275 3.12768615 4.42519672\n",
            " 2.90900384 2.90092989 6.39962164 5.5123776  3.47838686 3.56829478]\n",
            "2023-09-24 22:28:09,495 - pyswarms.single.global_best - INFO - Optimize for 1 iters with {'c1': 0.5, 'c2': 0.3, 'w': 0.9}\n",
            "pyswarms.single.global_best: 100%|██████████|1/1, best_cost=6.05e+10"
          ]
        },
        {
          "output_type": "stream",
          "name": "stdout",
          "text": [
            "\n",
            "=========================================================================\n",
            "\n",
            "Número de ciclos de manutenção: 9 2\n",
            "Tempos para manutenções preventivas: [0, 13, 47, 64, 238, 295, 323, 483, 645, 700]\n",
            "Severidade para cada subsistema: [0.5, 0.25, 0.75, 0.5, 0.25, 0.5, 0.5, 0.75, 0.5]\n",
            "Número de Sisemas: 2\n",
            "Fator:  [0.8646647167633873, 0.6321205588285577, 0.3934693402873666, 0.7768698398515702, 0.6321205588285577, 0.3934693402873666, 0.6321205588285577, 0.6321205588285577, 0.7768698398515702, 0.6321205588285577]\n",
            "Media de falhas:  [0, 118.81376000000002, 18829.876728978048, 33506.17801460732, 139703685.36155245, 144746802.9549808, 155107239.58326054, 1890216990.2137964, 3280766466.5719247, 3722659877.9411097, 3693092935.061856]\n",
            "Custo =  116083145691.21481\n"
          ]
        },
        {
          "output_type": "stream",
          "name": "stderr",
          "text": [
            "\n",
            "2023-09-24 22:28:09,506 - pyswarms.single.global_best - INFO - Optimization finished | best cost: 60496193571.40194, best pos: [3.44008687 1.57688344 5.15883824 2.76374969 0.74596476 5.8475312\n",
            " 0.53852309 3.9367524  0.75555223 1.77664156 5.89221165 4.36034741\n",
            " 0.60581084 0.88972879 0.51245206 4.37546269 3.12766714 4.42520009\n",
            " 2.90899886 2.90092859 6.39961803 5.5124369  6.41517898 3.56886044]\n",
            "2023-09-24 22:28:09,508 - pyswarms.single.global_best - INFO - Optimize for 1 iters with {'c1': 0.5, 'c2': 0.3, 'w': 0.9}\n",
            "pyswarms.single.global_best: 100%|██████████|1/1, best_cost=6.05e+10"
          ]
        },
        {
          "output_type": "stream",
          "name": "stdout",
          "text": [
            "\n",
            "=========================================================================\n",
            "\n",
            "Número de ciclos de manutenção: 10 2\n",
            "Tempos para manutenções preventivas: [0, 13, 47, 64, 142, 179, 238, 296, 483, 645, 702]\n",
            "Severidade para cada subsistema: [0.5, 0.25, 0.75, 0.25, 0.75, 0.5, 0.25, 0.5, 0.75, 0.5]\n",
            "Número de Sisemas: 2\n",
            "Fator:  [0.8646647167633873, 0.6321205588285577, 0.3934693402873666, 0.7768698398515702, 0.3934693402873666, 0.7768698398515702, 0.6321205588285577, 0.3934693402873666, 0.6321205588285577, 0.7768698398515702, 0.6321205588285577]\n",
            "Media de falhas:  [0, 118.81376000000002, 18829.876728978048, 33506.17801460732, 6966726.351440498, 7445659.1636886, 44897008.953524165, 50179588.449801914, 771082671.178074, 6317794133.357459, 6783363261.300234, 6753345486.798027]\n",
            "Custo =  189541320166.6777\n"
          ]
        },
        {
          "output_type": "stream",
          "name": "stderr",
          "text": [
            "\n",
            "2023-09-24 22:28:09,521 - pyswarms.single.global_best - INFO - Optimization finished | best cost: 60496193571.40194, best pos: [3.43935677 1.576886   5.15883571 2.76374962 0.74592587 5.84752941\n",
            " 4.17862951 3.93669201 0.75554137 1.77665158 5.89208574 4.35517302\n",
            " 0.6058454  0.88948874 0.51250039 4.37546265 3.12765082 4.42520465\n",
            " 2.9089953  2.90092707 6.39961611 5.51249443 2.29466126 3.56857589]\n",
            "2023-09-24 22:28:09,522 - pyswarms.single.global_best - INFO - Optimize for 1 iters with {'c1': 0.5, 'c2': 0.3, 'w': 0.9}\n",
            "pyswarms.single.global_best: 100%|██████████|1/1, best_cost=6.05e+10"
          ]
        },
        {
          "output_type": "stream",
          "name": "stdout",
          "text": [
            "\n",
            "=========================================================================\n",
            "\n",
            "Número de ciclos de manutenção: 13 2\n",
            "Tempos para manutenções preventivas: [0, 13, 47, 64, 149, 177, 238, 296, 322, 483, 611, 645, 676, 704]\n",
            "Severidade para cada subsistema: [0.5, 0.25, 0.75, 0.75, 0.25, 0.5, 0.25, 0.25, 0.5, 0.75, 0.75, 0.75, 0.5]\n",
            "Número de Sisemas: 2\n",
            "Fator:  [0.8646647167633873, 0.6321205588285577, 0.3934693402873666, 0.7768698398515702, 0.7768698398515702, 0.3934693402873666, 0.6321205588285577, 0.3934693402873666, 0.3934693402873666, 0.6321205588285577, 0.7768698398515702, 0.7768698398515702, 0.7768698398515702, 0.6321205588285577]\n",
            "Media de falhas:  [0, 118.81376000000002, 18829.876728978048, 33506.17801460732, 9317843.875005314, 9580619.528710386, 12829703.218405975, 101341772.31097636, 110734218.50936896, 1857388603.315483, 5396759389.057013, 5584481322.665297, 5617123828.032454, 5650675293.881736, 5620204310.51714]\n",
            "Custo =  194504843978.65863\n"
          ]
        },
        {
          "output_type": "stream",
          "name": "stderr",
          "text": [
            "\n",
            "2023-09-24 22:28:09,537 - pyswarms.single.global_best - INFO - Optimization finished | best cost: 60496193571.40194, best pos: [3.4393495  1.57688862 5.15883302 2.76374947 0.74589704 5.84752892\n",
            " 0.52541707 3.93664587 0.75552632 1.77665773 5.8919609  4.353198\n",
            " 0.6058771  0.88927101 0.51257806 4.37546265 3.12768671 4.42520882\n",
            " 2.90899532 2.90092553 6.39962183 5.51254027 5.52239309 3.56812562]\n",
            "2023-09-24 22:28:09,539 - pyswarms.single.global_best - INFO - Optimize for 1 iters with {'c1': 0.5, 'c2': 0.3, 'w': 0.9}\n",
            "pyswarms.single.global_best: 100%|██████████|1/1, best_cost=6.05e+10"
          ]
        },
        {
          "output_type": "stream",
          "name": "stdout",
          "text": [
            "\n",
            "=========================================================================\n",
            "\n",
            "Número de ciclos de manutenção: 10 2\n",
            "Tempos para manutenções preventivas: [0, 13, 47, 64, 151, 237, 295, 483, 606, 645, 707]\n",
            "Severidade para cada subsistema: [0.5, 0.25, 0.75, 0.75, 0.5, 0.25, 0.5, 0.5, 0.75, 0.5]\n",
            "Número de Sisemas: 2\n",
            "Fator:  [0.8646647167633873, 0.6321205588285577, 0.3934693402873666, 0.7768698398515702, 0.7768698398515702, 0.6321205588285577, 0.3934693402873666, 0.6321205588285577, 0.6321205588285577, 0.7768698398515702, 0.6321205588285577]\n",
            "Media de falhas:  [0, 118.81376000000002, 18829.876728978048, 33506.17801460732, 10094652.57181479, 17941933.641983584, 23173145.1168113, 751944354.4772059, 4046006319.636299, 4264355933.5458035, 4791998134.718258, 4760842334.982224]\n",
            "Custo =  181424741334.6679\n"
          ]
        },
        {
          "output_type": "stream",
          "name": "stderr",
          "text": [
            "\n",
            "2023-09-24 22:28:09,551 - pyswarms.single.global_best - INFO - Optimization finished | best cost: 60496193571.40194, best pos: [3.44003214 1.57689097 5.1588305  2.76374919 0.74587513 5.84753133\n",
            " 4.26249807 3.93663838 0.75551268 1.77665658 5.89185463 4.35720502\n",
            " 0.60590561 0.88901891 0.51265539 4.37546266 3.12776256 4.42521234\n",
            " 2.90900074 2.90092427 6.39962816 5.51256348 1.13873138 3.56723743]\n",
            "2023-09-24 22:28:09,553 - pyswarms.single.global_best - INFO - Optimize for 1 iters with {'c1': 0.5, 'c2': 0.3, 'w': 0.9}\n",
            "pyswarms.single.global_best: 100%|██████████|1/1, best_cost=6.05e+10"
          ]
        },
        {
          "output_type": "stream",
          "name": "stdout",
          "text": [
            "\n",
            "=========================================================================\n",
            "\n",
            "Número de ciclos de manutenção: 10 2\n",
            "Tempos para manutenções preventivas: [0, 14, 47, 64, 237, 295, 364, 483, 611, 645, 709]\n",
            "Severidade para cada subsistema: [0.5, 0.25, 0.75, 0.5, 0.25, 0.5, 0.5, 0.25, 0.75, 0.5]\n",
            "Número de Sisemas: 2\n",
            "Fator:  [0.8646647167633873, 0.6321205588285577, 0.3934693402873666, 0.7768698398515702, 0.6321205588285577, 0.3934693402873666, 0.6321205588285577, 0.6321205588285577, 0.3934693402873666, 0.7768698398515702, 0.6321205588285577]\n",
            "Media de falhas:  [0, 172.10368000000003, 16727.772966739714, 31404.07425236899, 136450173.1701884, 141681384.6450161, 193285249.14801085, 1474610688.3765116, 2272067015.878274, 2459788949.486558, 5782354129.14674, 5750738104.925204]\n",
            "Custo =  305407754602.874\n"
          ]
        },
        {
          "output_type": "stream",
          "name": "stderr",
          "text": [
            "\n",
            "2023-09-24 22:28:09,565 - pyswarms.single.global_best - INFO - Optimization finished | best cost: 60496193571.40194, best pos: [3.44088999 1.57689305 5.15882871 2.76374888 0.74585854 5.84753546\n",
            " 0.88758469 3.93665469 0.75550087 1.77665474 5.89176949 4.36873835\n",
            " 0.60592747 0.88879369 0.51272723 4.37546267 3.1278431  4.42521381\n",
            " 2.90900656 2.90092319 6.39963464 5.51257226 4.12653893 3.56600408]\n",
            "2023-09-24 22:28:09,567 - pyswarms.single.global_best - INFO - Optimize for 1 iters with {'c1': 0.5, 'c2': 0.3, 'w': 0.9}\n",
            "pyswarms.single.global_best: 100%|██████████|1/1, best_cost=6.05e+10"
          ]
        },
        {
          "output_type": "stream",
          "name": "stdout",
          "text": [
            "\n",
            "=========================================================================\n",
            "\n",
            "Número de ciclos de manutenção: 11 2\n",
            "Tempos para manutenções preventivas: [0, 14, 47, 64, 120, 237, 294, 384, 483, 645, 686, 711]\n",
            "Severidade para cada subsistema: [0.5, 0.25, 0.75, 0.5, 0.5, 0.25, 0.75, 0.5, 0.75, 0.25, 0.5]\n",
            "Número de Sisemas: 2\n",
            "Fator:  [0.8646647167633873, 0.6321205588285577, 0.3934693402873666, 0.7768698398515702, 0.6321205588285577, 0.6321205588285577, 0.3934693402873666, 0.7768698398515702, 0.6321205588285577, 0.7768698398515702, 0.3934693402873666, 0.6321205588285577]\n",
            "Media de falhas:  [0, 172.10368000000003, 16727.772966739714, 31404.07425236899, 2455666.280859908, 22110931.744348116, 40441567.64924377, 133472520.66359468, 1203109779.295112, 1655685854.210291, 1949030301.7390342, 1979431020.1414769, -1715413135.2523534]\n",
            "Custo =  227294724173.02634\n"
          ]
        },
        {
          "output_type": "stream",
          "name": "stderr",
          "text": [
            "\n",
            "2023-09-24 22:28:09,579 - pyswarms.single.global_best - INFO - Optimization finished | best cost: 60496193571.40194, best pos: [3.44180414 1.5768947  5.15882726 2.7637486  0.74584401 5.84754013\n",
            " 4.84689972 3.93671821 0.75549425 1.77665043 5.89175165 4.3832533\n",
            " 0.60593103 0.88864463 0.51278773 4.37546269 3.12791618 4.42521263\n",
            " 2.90901399 2.9009231  6.39964108 5.51257754 0.41585447 3.56485192]\n",
            "2023-09-24 22:28:09,580 - pyswarms.single.global_best - INFO - Optimize for 1 iters with {'c1': 0.5, 'c2': 0.3, 'w': 0.9}\n",
            "pyswarms.single.global_best: 100%|██████████|1/1, best_cost=6.05e+10"
          ]
        },
        {
          "output_type": "stream",
          "name": "stdout",
          "text": [
            "\n",
            "=========================================================================\n",
            "\n",
            "Número de ciclos de manutenção: 10 2\n",
            "Tempos para manutenções preventivas: [0, 13, 47, 64, 193, 237, 293, 483, 645, 684, 711]\n",
            "Severidade para cada subsistema: [0.5, 0.25, 0.75, 0.25, 0.5, 0.25, 0.5, 0.75, 0.5, 0.5]\n",
            "Número de Sisemas: 2\n",
            "Fator:  [0.8646647167633873, 0.6321205588285577, 0.3934693402873666, 0.7768698398515702, 0.3934693402873666, 0.6321205588285577, 0.3934693402873666, 0.6321205588285577, 0.7768698398515702, 0.6321205588285577, 0.6321205588285577]\n",
            "Media de falhas:  [0, 118.81376000000002, 18829.876728978048, 33506.17801460732, 42598690.776449755, 44152129.45132205, 126267403.93701276, 870972008.5235531, 6417683470.702938, 6692111039.151923, 6725444829.419594, 6358438761.130644]\n",
            "Custo =  206276172489.08606\n"
          ]
        },
        {
          "output_type": "stream",
          "name": "stderr",
          "text": [
            "\n",
            "2023-09-24 22:28:09,592 - pyswarms.single.global_best - INFO - Optimization finished | best cost: 60496193571.40194, best pos: [3.44262734 1.57689459 5.1588266  2.7637484  0.74583702 5.84754432\n",
            " 1.80545403 3.93680748 0.75549501 1.77664646 5.8917865  4.39746611\n",
            " 0.60592632 0.88854786 0.51283993 4.37546272 3.12797943 4.42521081\n",
            " 2.90902089 2.9009235  6.3996482  5.51254885 4.08688601 3.56403594]\n",
            "2023-09-24 22:28:09,594 - pyswarms.single.global_best - INFO - Optimize for 1 iters with {'c1': 0.5, 'c2': 0.3, 'w': 0.9}\n",
            "pyswarms.single.global_best: 100%|██████████|1/1, best_cost=6.05e+10\n",
            "2023-09-24 22:28:09,605 - pyswarms.single.global_best - INFO - Optimization finished | best cost: 60496193571.40194, best pos: [3.44321964 1.57689408 5.15882659 2.76374834 0.74585754 5.84754748\n",
            " 6.02375971 3.93689274 0.75549966 1.77664134 5.89187727 4.41377339\n",
            " 0.60591913 0.88851036 0.51286629 4.37546276 3.12802163 4.42520855\n",
            " 2.9090259  2.90092408 6.39965536 5.51250782 0.99760923 3.56336475]\n"
          ]
        },
        {
          "output_type": "stream",
          "name": "stdout",
          "text": [
            "\n",
            "=========================================================================\n",
            "\n",
            "Número de ciclos de manutenção: 11 2\n",
            "Tempos para manutenções preventivas: [0, 13, 47, 64, 188, 237, 292, 365, 483, 645, 682, 710]\n",
            "Severidade para cada subsistema: [0.5, 0.25, 0.75, 0.75, 0.5, 0.25, 0.5, 0.5, 0.75, 0.75, 0.5]\n",
            "Número de Sisemas: 2\n",
            "Fator:  [0.8646647167633873, 0.6321205588285577, 0.3934693402873666, 0.7768698398515702, 0.7768698398515702, 0.6321205588285577, 0.3934693402873666, 0.6321205588285577, 0.6321205588285577, 0.7768698398515702, 0.7768698398515702, 0.6321205588285577]\n",
            "Media de falhas:  [0, 118.81376000000002, 18829.876728978048, 33506.17801460732, 36620513.99039565, 38570204.1272567, 43114053.50535312, 99713203.84591264, 1370348840.7941136, 2760898317.1522417, 3016948902.6926274, 3051595805.5141544, 3019748480.5105042]\n",
            "Custo =  115972598422.87827\n"
          ]
        },
        {
          "output_type": "stream",
          "name": "stderr",
          "text": [
            "2023-09-24 22:28:09,607 - pyswarms.single.global_best - INFO - Optimize for 1 iters with {'c1': 0.5, 'c2': 0.3, 'w': 0.9}\n",
            "pyswarms.single.global_best: 100%|██████████|1/1, best_cost=6.05e+10"
          ]
        },
        {
          "output_type": "stream",
          "name": "stdout",
          "text": [
            "\n",
            "=========================================================================\n",
            "\n",
            "Número de ciclos de manutenção: 11 2\n",
            "Tempos para manutenções preventivas: [0, 13, 47, 64, 189, 237, 291, 306, 386, 483, 645, 708]\n",
            "Severidade para cada subsistema: [0.5, 0.25, 0.75, 0.25, 0.5, 0.25, 0.25, 0.75, 0.5, 0.75, 0.5]\n",
            "Número de Sisemas: 2\n",
            "Fator:  [0.8646647167633873, 0.6321205588285577, 0.3934693402873666, 0.7768698398515702, 0.3934693402873666, 0.6321205588285577, 0.3934693402873666, 0.3934693402873666, 0.7768698398515702, 0.6321205588285577, 0.7768698398515702, 0.6321205588285577]\n",
            "Media de falhas:  [0, 118.81376000000002, 18829.876728978048, 33506.17801460732, 37758832.85577322, 39623801.03709272, 116745852.16993901, 120914016.5794087, 473379702.1709422, 1522037840.416988, 1974613915.332167, 2515178600.34608, 2483793075.391194]\n",
            "Custo =  115718203145.40009\n"
          ]
        },
        {
          "output_type": "stream",
          "name": "stderr",
          "text": [
            "\n",
            "2023-09-24 22:28:09,621 - pyswarms.single.global_best - INFO - Optimization finished | best cost: 60496193571.40194, best pos: [3.44371651 1.57689191 5.15882827 2.76374843 0.74589569 5.84754999\n",
            " 2.41981726 3.93696628 0.75550616 1.776633   5.89200428 4.42846371\n",
            " 0.60589921 0.88861868 0.51284855 4.3754628  3.12805197 4.42520628\n",
            " 2.90903015 2.90092467 6.39966135 5.51246816 5.14597811 3.56279734]\n",
            "2023-09-24 22:28:09,622 - pyswarms.single.global_best - INFO - Optimize for 1 iters with {'c1': 0.5, 'c2': 0.3, 'w': 0.9}\n",
            "pyswarms.single.global_best: 100%|██████████|1/1, best_cost=6.05e+10\n",
            "2023-09-24 22:28:09,638 - pyswarms.single.global_best - INFO - Optimization finished | best cost: 60496193571.40194, best pos: [3.44389294 1.57688955 5.15882996 2.76374855 0.74593832 5.84755183\n",
            " 5.79083358 3.93701993 0.75551526 1.77662351 5.89212006 4.43846918\n",
            " 0.60587425 0.88876257 0.51279719 4.37546284 3.12803197 4.42520415\n",
            " 2.90903114 2.90092553 6.39966595 5.51242974 2.52489989 3.56303899]\n"
          ]
        },
        {
          "output_type": "stream",
          "name": "stdout",
          "text": [
            "\n",
            "=========================================================================\n",
            "\n",
            "Número de ciclos de manutenção: 12 2\n",
            "Tempos para manutenções preventivas: [0, 13, 47, 64, 178, 237, 291, 374, 483, 606, 645, 672, 706]\n",
            "Severidade para cada subsistema: [0.5, 0.25, 0.75, 0.5, 0.5, 0.25, 0.25, 0.5, 0.5, 0.75, 0.5, 0.5]\n",
            "Número de Sisemas: 2\n",
            "Fator:  [0.8646647167633873, 0.6321205588285577, 0.3934693402873666, 0.7768698398515702, 0.6321205588285577, 0.6321205588285577, 0.3934693402873666, 0.3934693402873666, 0.6321205588285577, 0.6321205588285577, 0.7768698398515702, 0.6321205588285577, 0.6321205588285577]\n",
            "Media de falhas:  [0, 118.81376000000002, 18829.876728978048, 33506.17801460732, 26675239.57473537, 29643559.724533305, 45984072.02378775, 120830366.69522738, 1295809580.6389794, 4589871545.798073, 4808221159.707577, 4980083745.3026705, 5023215835.230533, 4672502629.162417]\n",
            "Custo =  222366441045.13336\n"
          ]
        },
        {
          "output_type": "stream",
          "name": "stderr",
          "text": [
            "2023-09-24 22:28:09,640 - pyswarms.single.global_best - INFO - Optimize for 1 iters with {'c1': 0.5, 'c2': 0.3, 'w': 0.9}\n",
            "pyswarms.single.global_best:   0%|          |0/1, best_cost=6.05e+10"
          ]
        },
        {
          "output_type": "stream",
          "name": "stdout",
          "text": [
            "\n",
            "=========================================================================\n",
            "\n",
            "Número de ciclos de manutenção: 11 2\n",
            "Tempos para manutenções preventivas: [0, 12, 47, 64, 123, 238, 290, 303, 483, 645, 689, 705]\n",
            "Severidade para cada subsistema: [0.5, 0.25, 0.75, 0.5, 0.5, 0.25, 0.25, 0.5, 0.75, 0.75, 0.5]\n",
            "Número de Sisemas: 2\n",
            "Fator:  [0.8646647167633873, 0.6321205588285577, 0.3934693402873666, 0.7768698398515702, 0.6321205588285577, 0.6321205588285577, 0.3934693402873666, 0.3934693402873666, 0.6321205588285577, 0.7768698398515702, 0.7768698398515702, 0.6321205588285577]\n",
            "Media de falhas:  [0, 79.62624000000001, 21164.94485192538, 35841.246137554655, 2873418.288561038, 21635060.47953195, 36927323.82409196, 40363500.96084232, 2011900934.2694173, 7558612396.448803, 7881370348.479889, 7898973664.662528, 7868275106.522251]\n",
            "Custo =  218764173162.8923\n"
          ]
        },
        {
          "output_type": "stream",
          "name": "stderr",
          "text": [
            "\rpyswarms.single.global_best: 100%|██████████|1/1, best_cost=6.05e+10\n",
            "2023-09-24 22:28:09,655 - pyswarms.single.global_best - INFO - Optimization finished | best cost: 60496193571.40194, best pos: [3.44352622 1.57688738 5.15883209 2.76374869 0.74598012 5.84755301\n",
            " 2.48590156 3.93704365 0.75552387 1.77661466 5.892213   4.44554453\n",
            " 0.6058515  0.88892926 0.51273371 4.37546287 3.12799893 4.42520253\n",
            " 2.90902937 2.90092641 6.39966687 5.51240194 6.58098351 3.56343365]\n",
            "2023-09-24 22:28:09,656 - pyswarms.single.global_best - INFO - Optimize for 1 iters with {'c1': 0.5, 'c2': 0.3, 'w': 0.9}\n",
            "pyswarms.single.global_best:   0%|          |0/1, best_cost=6.05e+10"
          ]
        },
        {
          "output_type": "stream",
          "name": "stdout",
          "text": [
            "\n",
            "=========================================================================\n",
            "\n",
            "Número de ciclos de manutenção: 10 2\n",
            "Tempos para manutenções preventivas: [0, 12, 47, 64, 193, 238, 290, 483, 625, 645, 703]\n",
            "Severidade para cada subsistema: [0.5, 0.25, 0.75, 0.5, 0.5, 0.25, 0.5, 0.75, 0.75, 0.5]\n",
            "Número de Sisemas: 2\n",
            "Fator:  [0.8646647167633873, 0.6321205588285577, 0.3934693402873666, 0.7768698398515702, 0.6321205588285577, 0.6321205588285577, 0.3934693402873666, 0.6321205588285577, 0.7768698398515702, 0.7768698398515702, 0.6321205588285577]\n",
            "Media de falhas:  [0, 79.62624000000001, 21164.94485192538, 35841.246137554655, 42601025.8445727, 44248534.936683275, 59540798.28124329, 828644954.8459901, 5119759729.763721, 5226163256.68303, 5313813093.40819, 5283569027.590806]\n",
            "Custo =  167965019007.62073\n"
          ]
        },
        {
          "output_type": "stream",
          "name": "stderr",
          "text": [
            "\rpyswarms.single.global_best: 100%|██████████|1/1, best_cost=6.05e+10\n",
            "2023-09-24 22:28:09,674 - pyswarms.single.global_best - INFO - Optimization finished | best cost: 60496193571.40194, best pos: [3.442951   1.57688559 5.15883401 2.76374886 0.74601646 5.84755163\n",
            " 6.4488167  3.93706154 0.75553107 1.776607   5.89228027 4.44344651\n",
            " 0.60583266 0.88909776 0.51266766 4.37546287 3.12795851 4.4252012\n",
            " 2.90902748 2.9009272  6.39966742 5.51238042 3.1749153  3.56384799]\n",
            "2023-09-24 22:28:09,676 - pyswarms.single.global_best - INFO - Optimize for 1 iters with {'c1': 0.5, 'c2': 0.3, 'w': 0.9}\n",
            "pyswarms.single.global_best: 100%|██████████|1/1, best_cost=6.05e+10"
          ]
        },
        {
          "output_type": "stream",
          "name": "stdout",
          "text": [
            "\n",
            "=========================================================================\n",
            "\n",
            "Número de ciclos de manutenção: 11 2\n",
            "Tempos para manutenções preventivas: [0, 12, 47, 64, 142, 238, 291, 322, 483, 610, 645, 702]\n",
            "Severidade para cada subsistema: [0.5, 0.25, 0.75, 0.25, 0.5, 0.25, 0.25, 0.5, 0.5, 0.75, 0.5]\n",
            "Número de Sisemas: 2\n",
            "Fator:  [0.8646647167633873, 0.6321205588285577, 0.3934693402873666, 0.7768698398515702, 0.3934693402873666, 0.6321205588285577, 0.3934693402873666, 0.3934693402873666, 0.6321205588285577, 0.6321205588285577, 0.7768698398515702, 0.6321205588285577]\n",
            "Media de falhas:  [0, 79.62624000000001, 21164.94485192538, 35841.246137554655, 6969061.419563445, 17819112.093719393, 93564446.174235, 105111582.81063482, 1851765967.616749, 5341133709.721762, 5534910723.891158, 6000479851.833933, 5970462077.331726]\n",
            "Custo =  217311224592.66348\n"
          ]
        },
        {
          "output_type": "stream",
          "name": "stderr",
          "text": [
            "\n",
            "2023-09-24 22:28:09,690 - pyswarms.single.global_best - INFO - Optimization finished | best cost: 60496193571.40194, best pos: [3.4422841  1.5768841  5.15883572 2.76374902 0.74604343 5.84754807\n",
            " 2.0399435  3.93706422 0.75553503 1.7766021  5.89233542 4.43273844\n",
            " 0.60582348 0.88923661 0.51260929 4.37546285 3.12791235 4.42520006\n",
            " 2.90902577 2.90092769 6.39966679 5.51238373 6.61712212 3.56430702]\n",
            "2023-09-24 22:28:09,692 - pyswarms.single.global_best - INFO - Optimize for 1 iters with {'c1': 0.5, 'c2': 0.3, 'w': 0.9}\n",
            "pyswarms.single.global_best:   0%|          |0/1, best_cost=6.05e+10"
          ]
        },
        {
          "output_type": "stream",
          "name": "stdout",
          "text": [
            "\n",
            "=========================================================================\n",
            "\n",
            "Número de ciclos de manutenção: 10 2\n",
            "Tempos para manutenções preventivas: [0, 12, 47, 64, 205, 238, 291, 483, 645, 667, 702]\n",
            "Severidade para cada subsistema: [0.5, 0.25, 0.75, 0.25, 0.5, 0.25, 0.5, 0.75, 0.75, 0.5]\n",
            "Número de Sisemas: 2\n",
            "Fator:  [0.8646647167633873, 0.6321205588285577, 0.3934693402873666, 0.7768698398515702, 0.3934693402873666, 0.6321205588285577, 0.3934693402873666, 0.6321205588285577, 0.7768698398515702, 0.7768698398515702, 0.6321205588285577]\n",
            "Media de falhas:  [0, 79.62624000000001, 21164.94485192538, 35841.246137554655, 60168677.295062326, 61073263.66366119, 136818597.7441768, 897722385.8047285, 6444433847.984114, 6578718758.073309, 6622528262.939092, 6592510488.436885]\n",
            "Custo =  190945470608.2089\n"
          ]
        },
        {
          "output_type": "stream",
          "name": "stderr",
          "text": [
            "\rpyswarms.single.global_best: 100%|██████████|1/1, best_cost=6.05e+10\n",
            "2023-09-24 22:28:09,709 - pyswarms.single.global_best - INFO - Optimization finished | best cost: 60496193571.40194, best pos: [3.44165565 1.57688383 5.15883664 2.76374916 0.74605266 5.84754271\n",
            " 4.85501987 3.93701824 0.75553576 1.77660197 5.89231523 4.42207504\n",
            " 0.60582674 0.88931752 0.51255841 4.37546283 3.12785446 4.42519947\n",
            " 2.90902265 2.90092793 6.39966387 5.51240388 1.79038461 3.56487952]\n",
            "2023-09-24 22:28:09,711 - pyswarms.single.global_best - INFO - Optimize for 1 iters with {'c1': 0.5, 'c2': 0.3, 'w': 0.9}\n",
            "pyswarms.single.global_best:   0%|          |0/1, best_cost=6.05e+10"
          ]
        },
        {
          "output_type": "stream",
          "name": "stdout",
          "text": [
            "\n",
            "=========================================================================\n",
            "\n",
            "Número de ciclos de manutenção: 12 2\n",
            "Tempos para manutenções preventivas: [0, 12, 47, 64, 166, 209, 238, 292, 301, 483, 602, 645, 703]\n",
            "Severidade para cada subsistema: [0.5, 0.25, 0.75, 0.75, 0.5, 0.5, 0.25, 0.5, 0.5, 0.75, 0.75, 0.5]\n",
            "Número de Sisemas: 2\n",
            "Fator:  [0.8646647167633873, 0.6321205588285577, 0.3934693402873666, 0.7768698398515702, 0.7768698398515702, 0.6321205588285577, 0.6321205588285577, 0.3934693402873666, 0.6321205588285577, 0.6321205588285577, 0.7768698398515702, 0.7768698398515702, 0.6321205588285577]\n",
            "Media de falhas:  [0, 79.62624000000001, 21164.94485192538, 35841.246137554655, 17726679.76899983, 18755544.910166014, 19476995.500617173, 36018317.79308505, 38285089.53939914, 2034153216.8261528, 2713061567.4759984, 2956565589.88903, 3044215426.614189, 3013971360.796806]\n",
            "Custo =  99684168776.25558\n"
          ]
        },
        {
          "output_type": "stream",
          "name": "stderr",
          "text": [
            "\rpyswarms.single.global_best: 100%|██████████|1/1, best_cost=6.05e+10\n",
            "2023-09-24 22:28:09,725 - pyswarms.single.global_best - INFO - Optimization finished | best cost: 60496193571.40194, best pos: [3.44113019 1.57688399 5.1588371  2.76374925 0.74604599 5.84753733\n",
            " 1.02078355 3.93695923 0.75553553 1.77660721 5.89227077 4.41156278\n",
            " 0.6058336  0.8893578  0.5125234  4.37546281 3.12780216 4.42520045\n",
            " 2.90901829 2.90092794 6.39965884 5.51243506 4.41115027 3.56548761]\n",
            "2023-09-24 22:28:09,727 - pyswarms.single.global_best - INFO - Optimize for 1 iters with {'c1': 0.5, 'c2': 0.3, 'w': 0.9}\n",
            "pyswarms.single.global_best:   0%|          |0/1, best_cost=6.05e+10"
          ]
        },
        {
          "output_type": "stream",
          "name": "stdout",
          "text": [
            "\n",
            "=========================================================================\n",
            "\n",
            "Número de ciclos de manutenção: 12 2\n",
            "Tempos para manutenções preventivas: [0, 12, 47, 64, 143, 163, 238, 293, 377, 483, 645, 687, 704]\n",
            "Severidade para cada subsistema: [0.5, 0.25, 0.75, 0.5, 0.5, 0.5, 0.25, 0.5, 0.5, 0.75, 0.25, 0.5]\n",
            "Número de Sisemas: 2\n",
            "Fator:  [0.8646647167633873, 0.6321205588285577, 0.3934693402873666, 0.7768698398515702, 0.6321205588285577, 0.6321205588285577, 0.6321205588285577, 0.3934693402873666, 0.6321205588285577, 0.6321205588285577, 0.7768698398515702, 0.3934693402873666, 0.6321205588285577]\n",
            "Media de falhas:  [0, 79.62624000000001, 21164.94485192538, 35841.246137554655, 7272166.90960346, 7382171.924270166, 21464048.86103703, 38656940.42630699, 117036599.12901822, 1260323841.3997912, 2650873317.7579193, 2953882349.7754903, 2972622437.1929793, -444706677.6675849]\n",
            "Custo =  248308719214.60196\n"
          ]
        },
        {
          "output_type": "stream",
          "name": "stderr",
          "text": [
            "\rpyswarms.single.global_best: 100%|██████████|1/1, best_cost=6.05e+10\n",
            "2023-09-24 22:28:09,740 - pyswarms.single.global_best - INFO - Optimization finished | best cost: 60496193571.40194, best pos: [3.44068482 1.57688421 5.15883736 2.76374932 0.74603078 5.84753253\n",
            " 4.55657873 3.93687458 0.7555336  1.7766159  5.8921771  4.40247756\n",
            " 0.60584491 0.8893879  0.51252385 4.37546279 3.12776797 4.42520231\n",
            " 2.90901368 2.90092792 6.39965308 5.51246926 0.33987055 3.56604385]\n"
          ]
        }
      ]
    },
    {
      "cell_type": "code",
      "source": [
        "# Nome do arquivo CSV para salvar o resultado do melhor custo\n",
        "nome_arquivo = '/content/drive/MyDrive/Resultados_PSO/melhor_custo_pso_primeiro_cenario.csv'\n",
        "\n",
        "# Abrir o arquivo CSV em modo de leitura para verificar o melhor custo anterior (se existir)\n",
        "melhores_custos_anteriores = []\n",
        "try:\n",
        "    with open(nome_arquivo, 'r') as arquivo_csv:\n",
        "        reader = csv.reader(arquivo_csv)\n",
        "        next(reader)  # Pule o cabeçalho\n",
        "        for linha in reader:\n",
        "            melhores_custos_anteriores.append(float(linha[1]))\n",
        "except FileNotFoundError:\n",
        "    pass  # Arquivo não existe, pode ser a primeira execução\n",
        "\n",
        "# Adicionar o melhor custo atual à lista de melhores custos anteriores\n",
        "melhores_custos_anteriores.append(pbest_cost[0])\n",
        "\n",
        "# Abrir o arquivo CSV em modo de escrita e escrever todos os melhores custos\n",
        "with open(nome_arquivo, 'w', newline='') as arquivo_csv:\n",
        "    writer = csv.writer(arquivo_csv)\n",
        "\n",
        "    # Escreve o cabeçalho com as colunas\n",
        "    writer.writerow(['Interação', 'Melhor Custo', 'Numero de Particulas', 'Numero de Interações', 'Dimensions', 'options'])\n",
        "\n",
        "    # Escreve os valores dos melhores custos com números de interação\n",
        "    for i, custo in enumerate(melhores_custos_anteriores, start=1):\n",
        "        writer.writerow([i, custo, num_particles, max_iterations, dimensions, options])"
      ],
      "metadata": {
        "id": "SvLX3p0EXBEo"
      },
      "execution_count": 227,
      "outputs": []
    },
    {
      "cell_type": "code",
      "source": [
        "# Plotar gráfico de densidade da otimização\n",
        "plt.figure()\n",
        "plt.plot(optimizer.cost_history)\n",
        "plt.xlabel('Iteration')\n",
        "plt.xlim(0, max_iterations)\n",
        "plt.ylabel('Objective function')\n",
        "plt.title('Particle Swarm Optimization (PSO) - Cost History')\n",
        "plt.show()\n",
        "\n",
        "print(\"                              \")\n",
        "print(\"*************************************************************************\")\n",
        "print(\"Número total de iterações:\", max_iterations)\n",
        "print(\"Número de Particulas:\", num_particles)\n",
        "print(\"Número de Dimensões:\", dimensions)\n",
        "print(\"                              \")\n",
        "print(\"Melhor partícula:\", pbest_cost[0])"
      ],
      "metadata": {
        "id": "ULlt81ZI1vn9",
        "outputId": "3910298d-4fd4-4b21-820e-4195b6f9ded1",
        "colab": {
          "base_uri": "https://localhost:8080/",
          "height": 594
        }
      },
      "execution_count": 228,
      "outputs": [
        {
          "output_type": "display_data",
          "data": {
            "text/plain": [
              "<Figure size 640x480 with 1 Axes>"
            ],
            "image/png": "[encoded data removed]"
          },
          "metadata": {}
        },
        {
          "output_type": "stream",
          "name": "stdout",
          "text": [
            "                              \n",
            "*************************************************************************\n",
            "Número total de iterações: 100\n",
            "Número de Particulas: 100\n",
            "Número de Dimensões: 24\n",
            "                              \n",
            "Melhor partícula: 248308719214.60196\n"
          ]
        }
      ]
    },
    {
      "cell_type": "code",
      "source": [
        "# Plotar o gráfico 3D com todas as melhores posições\n",
        "fig = plt.figure(figsize=(8, 8))\n",
        "ax = fig.add_subplot(111)\n",
        "\n",
        "# Plotar todas as melhores posições anteriores\n",
        "for i in range(best_positions.shape[0]):\n",
        "    ax.scatter(best_positions[i, 0], best_positions[i, 1], marker='x', c='blue', alpha=0.6)\n",
        "\n",
        "# Plotar a última melhor posição com uma cor diferente para destacá-la\n",
        "ax.scatter(best_positions[-1, 0], best_positions[-1, 1], c='red', label='Melhor posição atual')\n",
        "\n",
        "ax.set_title('PSO - Melhores posições ao longo das iterações')\n",
        "ax.set_xlabel('Primeira dimensão das melhores posições')\n",
        "ax.set_ylabel('Segunda dimensão das melhores posições')\n",
        "ax.legend()\n",
        "plt.grid()\n",
        "plt.show()"
      ],
      "metadata": {
        "id": "4STRoUAPxmqT",
        "outputId": "88c1e498-25dc-4d04-d0c0-08f85681e5bf",
        "colab": {
          "base_uri": "https://localhost:8080/",
          "height": 718
        }
      },
      "execution_count": 229,
      "outputs": [
        {
          "output_type": "display_data",
          "data": {
            "text/plain": [
              "<Figure size 800x800 with 1 Axes>"
            ],
            "image/png": "[encoded data removed]"
          },
          "metadata": {}
        }
      ]
    }
  ]
}