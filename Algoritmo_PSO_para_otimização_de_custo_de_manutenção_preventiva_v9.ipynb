{
  "nbformat": 4,
  "nbformat_minor": 0,
  "metadata": {
    "colab": {
      "provenance": [],
      "include_colab_link": true
    },
    "kernelspec": {
      "name": "python3",
      "display_name": "Python 3"
    },
    "language_info": {
      "name": "python"
    }
  },
  "cells": [
    {
      "cell_type": "markdown",
      "metadata": {
        "id": "view-in-github",
        "colab_type": "text"
      },
      "source": [
        "<a href=\"https://colab.research.google.com/github/uervitonsantos/Otimizacao-Politicaca-Manutencao-Preventiva-Imperfeita/blob/main/Algoritmo_PSO_para_otimiza%C3%A7%C3%A3o_de_custo_de_manuten%C3%A7%C3%A3o_preventiva_v9.ipynb\" target=\"_parent\"><img src=\"https://colab.research.google.com/assets/colab-badge.svg\" alt=\"Open In Colab\"/></a>"
      ]
    },
    {
      "cell_type": "markdown",
      "source": [
        "Dataset de dados de confiabilidade: https://drive.google.com/drive/folders/1b7jqK1A2XI1oZ4YhDXw_4xdnSTbfuBVK?usp=sharing"
      ],
      "metadata": {
        "id": "wZi0pIL-Ch37"
      }
    },
    {
      "cell_type": "code",
      "execution_count": 36,
      "metadata": {
        "id": "VM8_ebpiVP0V"
      },
      "outputs": [],
      "source": [
        "%%capture\n",
        "pip install pyswarms"
      ]
    },
    {
      "cell_type": "code",
      "source": [
        "import numpy as np\n",
        "import pandas as pd\n",
        "import math\n",
        "import csv\n",
        "import matplotlib.pyplot as plt\n",
        "import time\n",
        "from pyswarms.single.global_best import GlobalBestPSO\n",
        "import pyswarms as ps\n",
        "from pyswarms.utils.search import RandomSearch\n",
        "from pyswarms.utils.functions import single_obj as fx\n",
        "from pyswarms.utils.plotters import (plot_cost_history, plot_contour, plot_surface)\n",
        "import plotly.graph_objects as go\n",
        "from pyswarms.utils.plotters.formatters import Designer\n",
        "from pyswarms.utils.plotters.formatters import Mesher\n",
        "from mpl_toolkits.mplot3d import Axes3D"
      ],
      "metadata": {
        "id": "2sVG0WwfVrUs"
      },
      "execution_count": 37,
      "outputs": []
    },
    {
      "cell_type": "code",
      "source": [
        "MAX_VALUE_CUSTO = 10000\n",
        "fator_melhoria = 'expo'\n",
        "DIAS_OBSERVADOS = 600"
      ],
      "metadata": {
        "id": "FeZKvg25Vtwz"
      },
      "execution_count": 38,
      "outputs": []
    },
    {
      "cell_type": "code",
      "source": [
        "# Custos MC e MP\n",
        "CMC = 4000\n",
        "CMP = 2000"
      ],
      "metadata": {
        "id": "JFnJpCJGVx7P"
      },
      "execution_count": 39,
      "outputs": []
    },
    {
      "cell_type": "code",
      "source": [
        "class IntensidadeFalha:\n",
        "    # Este método vai inicializar cada objeto criado a partir desta classe\n",
        "    # O nome deste método é \"inicio\"\n",
        "    # (self) é uma referência a cada atributo de um objeto criado a partir desta classe\n",
        "    # Os atributos de cada objeto criados a partir desta classe.\n",
        "    # O self indica que estes são atributos dos objetos\n",
        "    def __init__(self):\n",
        "        self.fator = None\n",
        "        self.lamb = None\n",
        "        self.beta = None\n",
        "        self.theta = None\n",
        "        self.sz = None\n",
        "        self.T = None\n",
        "        self.u = None\n",
        "\n",
        "    def inicio(self, T, fator, solucao):\n",
        "        self.fator = fator\n",
        "        self.lamb = solucao[0]\n",
        "        self.beta = solucao[1]\n",
        "        self.theta = solucao[2]\n",
        "        self.sz = int(T[-1])\n",
        "        self.T = T\n",
        "\n",
        "    def create(self):\n",
        "        self.u = []\n",
        "        # Reducao de Idade com fator de melhoria linear\n",
        "        for i, tc in enumerate(self.T[1:], start=1):\n",
        "            for tt in range(int(self.T[i-1]), int(tc)+1):\n",
        "                b = tt - self.fator[0][i-1] * self.T[i-1]\n",
        "                self.u.append((1 / (self.lamb ** self.beta)) * self.beta * b ** (self.beta - 1))\n",
        "\n",
        "                if tt == tc:\n",
        "                    self.u.append(float('nan'))\n",
        "            break\n",
        "    # plota e salva a figura da função de intensidade de falha\n",
        "    def plotar(self):\n",
        "        fig = plt.figure(figsize=(20, 5))\n",
        "        plt.plot(self.u)\n",
        "\n",
        "        for xc in self.T:\n",
        "            plt.axvline(x=xc, color='r', linestyle='--')\n",
        "\n",
        "        plt.xlabel(\"Tempo (dias)\")\n",
        "        plt.ylabel(\"Função intensidade de falha\")\n",
        "        plt.xlim(0)\n",
        "        plt.grid(True)\n",
        "        plt.show()"
      ],
      "metadata": {
        "id": "QhF2qTuDV2P1"
      },
      "execution_count": 40,
      "outputs": []
    },
    {
      "cell_type": "code",
      "source": [
        "# Define a função de melhoria constante\n",
        "def const(ck, m, s, theta):\n",
        "    fator = [[theta] * ck] * m\n",
        "    return fator"
      ],
      "metadata": {
        "id": "mMRO_z3_V4a3"
      },
      "execution_count": 41,
      "outputs": []
    },
    {
      "cell_type": "code",
      "source": [
        "# Define a função de melhoria linear\n",
        "def linear(ck, m, s, theta):\n",
        "    fator = []\n",
        "    for k in range(0, m, 1):\n",
        "        linha = [0]\n",
        "        for j in range(0, ck, 1):\n",
        "            linha.append(s[k][j] * theta)\n",
        "        fator.append(linha)\n",
        "    return fator"
      ],
      "metadata": {
        "id": "S_fCxa7GV65n"
      },
      "execution_count": 42,
      "outputs": []
    },
    {
      "cell_type": "code",
      "source": [
        "# Define a função de melhoria exponencial\n",
        "def expo(ck, m, s, theta):\n",
        "    fator = []\n",
        "    for k in range(0, m):\n",
        "        linha = []\n",
        "        # Verifique se o índice k é válido\n",
        "        if k >= len(s):\n",
        "            break\n",
        "        for j in range(0, ck):\n",
        "            # Verifique se o índice j é válido\n",
        "            if j >= len(s[k]):\n",
        "                break\n",
        "            linha.append(1.0 - math.exp(-s[k][j] * theta))\n",
        "        fator.append(linha)\n",
        "\n",
        "    return fator"
      ],
      "metadata": {
        "id": "NV3lIXl9V9FL"
      },
      "execution_count": 43,
      "outputs": []
    },
    {
      "cell_type": "code",
      "source": [
        "# Define a função de melhoria potência\n",
        "def pot(ck, m, s, theta):\n",
        "    fator = []\n",
        "    for k in range(0, m, 1):\n",
        "        linha = []\n",
        "        for j in range(0, ck, 1):\n",
        "            linha.append(s[k][j] ** theta)\n",
        "        fator.append(linha)\n",
        "    return fator"
      ],
      "metadata": {
        "id": "ikxXlzxKV-0K"
      },
      "execution_count": 44,
      "outputs": []
    },
    {
      "cell_type": "code",
      "source": [
        "# Define a função de melhoria para manutenção perfeita\n",
        "def mpp(ck, m, s, theta):\n",
        "    fator = []\n",
        "    for k in range(0, m, 1):\n",
        "        linha = []\n",
        "        for j in range(0, ck, 1):\n",
        "            linha.append(1)\n",
        "        fator.append(linha)\n",
        "    return fator"
      ],
      "metadata": {
        "id": "xcHr8tSFWAus"
      },
      "execution_count": 45,
      "outputs": []
    },
    {
      "cell_type": "code",
      "source": [
        "# Executa a função de melhoria com base no parâmetro fornecido\n",
        "def execute_function(fator_melhoria, ck, m, s, theta):\n",
        "    return {\n",
        "        'const': lambda: const(ck, m, s, theta),\n",
        "        'linear': lambda: linear(ck, m, s, theta),\n",
        "        'expo': lambda: expo(ck, m, s, theta),\n",
        "        'pot': lambda: pot(ck, m, s, theta),\n",
        "        'mpp': lambda: mpp(ck, m, s, theta),\n",
        "    }[fator_melhoria]()"
      ],
      "metadata": {
        "id": "R5KeFcseWDH6"
      },
      "execution_count": 46,
      "outputs": []
    },
    {
      "cell_type": "code",
      "source": [
        "# Função custo de manutenção baseada em severidade\n",
        "def custo_mp(s, CMP):\n",
        "    dist = {0.25: 2000, 0.5: 4000, 0.75: 12000, 1.0: 20000}\n",
        "    if not isinstance(s, list):\n",
        "        s = [s]  # Transforma s em uma lista com um único elemento\n",
        "    cmp_f = np.sum([CMP if si < 0.25 or si > 1.0 else np.interp(si, [0.25, 0.5, 0.75, 1.0], [2000, 4000, 12000, 20000]) for si in s])\n",
        "    return cmp_f"
      ],
      "metadata": {
        "id": "B8BkTWrmWGWO"
      },
      "execution_count": 47,
      "outputs": []
    },
    {
      "cell_type": "code",
      "source": [
        "# Defina o dicionário de tipos de dados\n",
        "dtypes = {\n",
        "    't': int,\n",
        "    'k': int,\n",
        "    'c': int,\n",
        "}\n",
        "\n",
        "# Leitura dos dados de tempo de falha para 4 cenarios de exemplo\n",
        "# df = pd.read_csv('/content/drive/MyDrive/datasets/cenario01.csv.csv', sep=\";\")\n",
        "# df = pd.read_csv('/content/drive/MyDrive/datasets/cenario02.csv.csv', sep=\";\")\n",
        "# df = pd.read_csv('/content/drive/MyDrive/datasets/cenario03.csv.csv', sep=\";\")\n",
        "# df = pd.read_csv('/content/drive/MyDrive/datasets/cenario04.csv.csv', sep=\";\")\n",
        "df = pd.read_csv('/content/drive/MyDrive/datasets/cenario01.csv', sep=\";\")\n",
        "\n",
        "# Remova as linhas com valores ausentes\n",
        "df = df.fillna(0)\n",
        "\n",
        "# Converta as colunas para os tipos de dados desejados\n",
        "df = df.astype(dtypes)\n",
        "\n",
        "df.head()"
      ],
      "metadata": {
        "colab": {
          "base_uri": "https://localhost:8080/",
          "height": 206
        },
        "id": "IDcyZ_pHWIW8",
        "outputId": "15fd89a5-7f59-41cd-91fb-d88a6d5c63c2"
      },
      "execution_count": 48,
      "outputs": [
        {
          "output_type": "execute_result",
          "data": {
            "text/plain": [
              "     t  k  c    n    s      T\n",
              "0   90  1  1  4.0  0.4  150.0\n",
              "1  110  1  1  0.0  0.5  250.0\n",
              "2  125  1  1  9.0  0.9  500.0\n",
              "3  135  1  1  2.0  0.2  600.0\n",
              "4  295  1  3  2.0  0.4    0.0"
            ],
            "text/html": [
              "\n",
              "  <div id=\"df-57d09968-3666-408d-b309-0b240391768b\" class=\"colab-df-container\">\n",
              "    <div>\n",
              "<style scoped>\n",
              "    .dataframe tbody tr th:only-of-type {\n",
              "        vertical-align: middle;\n",
              "    }\n",
              "\n",
              "    .dataframe tbody tr th {\n",
              "        vertical-align: top;\n",
              "    }\n",
              "\n",
              "    .dataframe thead th {\n",
              "        text-align: right;\n",
              "    }\n",
              "</style>\n",
              "<table border=\"1\" class=\"dataframe\">\n",
              "  <thead>\n",
              "    <tr style=\"text-align: right;\">\n",
              "      <th></th>\n",
              "      <th>t</th>\n",
              "      <th>k</th>\n",
              "      <th>c</th>\n",
              "      <th>n</th>\n",
              "      <th>s</th>\n",
              "      <th>T</th>\n",
              "    </tr>\n",
              "  </thead>\n",
              "  <tbody>\n",
              "    <tr>\n",
              "      <th>0</th>\n",
              "      <td>90</td>\n",
              "      <td>1</td>\n",
              "      <td>1</td>\n",
              "      <td>4.0</td>\n",
              "      <td>0.4</td>\n",
              "      <td>150.0</td>\n",
              "    </tr>\n",
              "    <tr>\n",
              "      <th>1</th>\n",
              "      <td>110</td>\n",
              "      <td>1</td>\n",
              "      <td>1</td>\n",
              "      <td>0.0</td>\n",
              "      <td>0.5</td>\n",
              "      <td>250.0</td>\n",
              "    </tr>\n",
              "    <tr>\n",
              "      <th>2</th>\n",
              "      <td>125</td>\n",
              "      <td>1</td>\n",
              "      <td>1</td>\n",
              "      <td>9.0</td>\n",
              "      <td>0.9</td>\n",
              "      <td>500.0</td>\n",
              "    </tr>\n",
              "    <tr>\n",
              "      <th>3</th>\n",
              "      <td>135</td>\n",
              "      <td>1</td>\n",
              "      <td>1</td>\n",
              "      <td>2.0</td>\n",
              "      <td>0.2</td>\n",
              "      <td>600.0</td>\n",
              "    </tr>\n",
              "    <tr>\n",
              "      <th>4</th>\n",
              "      <td>295</td>\n",
              "      <td>1</td>\n",
              "      <td>3</td>\n",
              "      <td>2.0</td>\n",
              "      <td>0.4</td>\n",
              "      <td>0.0</td>\n",
              "    </tr>\n",
              "  </tbody>\n",
              "</table>\n",
              "</div>\n",
              "    <div class=\"colab-df-buttons\">\n",
              "\n",
              "  <div class=\"colab-df-container\">\n",
              "    <button class=\"colab-df-convert\" onclick=\"convertToInteractive('df-57d09968-3666-408d-b309-0b240391768b')\"\n",
              "            title=\"Convert this dataframe to an interactive table.\"\n",
              "            style=\"display:none;\">\n",
              "\n",
              "  <svg xmlns=\"http://www.w3.org/2000/svg\" height=\"24px\" viewBox=\"0 -960 960 960\">\n",
              "    <path d=\"M120-120v-720h720v720H120Zm60-500h600v-160H180v160Zm220 220h160v-160H400v160Zm0 220h160v-160H400v160ZM180-400h160v-160H180v160Zm440 0h160v-160H620v160ZM180-180h160v-160H180v160Zm440 0h160v-160H620v160Z\"/>\n",
              "  </svg>\n",
              "    </button>\n",
              "\n",
              "  <style>\n",
              "    .colab-df-container {\n",
              "      display:flex;\n",
              "      gap: 12px;\n",
              "    }\n",
              "\n",
              "    .colab-df-convert {\n",
              "      background-color: #E8F0FE;\n",
              "      border: none;\n",
              "      border-radius: 50%;\n",
              "      cursor: pointer;\n",
              "      display: none;\n",
              "      fill: #1967D2;\n",
              "      height: 32px;\n",
              "      padding: 0 0 0 0;\n",
              "      width: 32px;\n",
              "    }\n",
              "\n",
              "    .colab-df-convert:hover {\n",
              "      background-color: #E2EBFA;\n",
              "      box-shadow: 0px 1px 2px rgba(60, 64, 67, 0.3), 0px 1px 3px 1px rgba(60, 64, 67, 0.15);\n",
              "      fill: #174EA6;\n",
              "    }\n",
              "\n",
              "    .colab-df-buttons div {\n",
              "      margin-bottom: 4px;\n",
              "    }\n",
              "\n",
              "    [theme=dark] .colab-df-convert {\n",
              "      background-color: #3B4455;\n",
              "      fill: #D2E3FC;\n",
              "    }\n",
              "\n",
              "    [theme=dark] .colab-df-convert:hover {\n",
              "      background-color: #434B5C;\n",
              "      box-shadow: 0px 1px 3px 1px rgba(0, 0, 0, 0.15);\n",
              "      filter: drop-shadow(0px 1px 2px rgba(0, 0, 0, 0.3));\n",
              "      fill: #FFFFFF;\n",
              "    }\n",
              "  </style>\n",
              "\n",
              "    <script>\n",
              "      const buttonEl =\n",
              "        document.querySelector('#df-57d09968-3666-408d-b309-0b240391768b button.colab-df-convert');\n",
              "      buttonEl.style.display =\n",
              "        google.colab.kernel.accessAllowed ? 'block' : 'none';\n",
              "\n",
              "      async function convertToInteractive(key) {\n",
              "        const element = document.querySelector('#df-57d09968-3666-408d-b309-0b240391768b');\n",
              "        const dataTable =\n",
              "          await google.colab.kernel.invokeFunction('convertToInteractive',\n",
              "                                                    [key], {});\n",
              "        if (!dataTable) return;\n",
              "\n",
              "        const docLinkHtml = 'Like what you see? Visit the ' +\n",
              "          '<a target=\"_blank\" href=https://colab.research.google.com/notebooks/data_table.ipynb>data table notebook</a>'\n",
              "          + ' to learn more about interactive tables.';\n",
              "        element.innerHTML = '';\n",
              "        dataTable['output_type'] = 'display_data';\n",
              "        await google.colab.output.renderOutput(dataTable, element);\n",
              "        const docLink = document.createElement('div');\n",
              "        docLink.innerHTML = docLinkHtml;\n",
              "        element.appendChild(docLink);\n",
              "      }\n",
              "    </script>\n",
              "  </div>\n",
              "\n",
              "\n",
              "<div id=\"df-aa894c22-7266-4584-9bd2-4414391c6173\">\n",
              "  <button class=\"colab-df-quickchart\" onclick=\"quickchart('df-aa894c22-7266-4584-9bd2-4414391c6173')\"\n",
              "            title=\"Suggest charts.\"\n",
              "            style=\"display:none;\">\n",
              "\n",
              "<svg xmlns=\"http://www.w3.org/2000/svg\" height=\"24px\"viewBox=\"0 0 24 24\"\n",
              "     width=\"24px\">\n",
              "    <g>\n",
              "        <path d=\"M19 3H5c-1.1 0-2 .9-2 2v14c0 1.1.9 2 2 2h14c1.1 0 2-.9 2-2V5c0-1.1-.9-2-2-2zM9 17H7v-7h2v7zm4 0h-2V7h2v10zm4 0h-2v-4h2v4z\"/>\n",
              "    </g>\n",
              "</svg>\n",
              "  </button>\n",
              "\n",
              "<style>\n",
              "  .colab-df-quickchart {\n",
              "      --bg-color: #E8F0FE;\n",
              "      --fill-color: #1967D2;\n",
              "      --hover-bg-color: #E2EBFA;\n",
              "      --hover-fill-color: #174EA6;\n",
              "      --disabled-fill-color: #AAA;\n",
              "      --disabled-bg-color: #DDD;\n",
              "  }\n",
              "\n",
              "  [theme=dark] .colab-df-quickchart {\n",
              "      --bg-color: #3B4455;\n",
              "      --fill-color: #D2E3FC;\n",
              "      --hover-bg-color: #434B5C;\n",
              "      --hover-fill-color: #FFFFFF;\n",
              "      --disabled-bg-color: #3B4455;\n",
              "      --disabled-fill-color: #666;\n",
              "  }\n",
              "\n",
              "  .colab-df-quickchart {\n",
              "    background-color: var(--bg-color);\n",
              "    border: none;\n",
              "    border-radius: 50%;\n",
              "    cursor: pointer;\n",
              "    display: none;\n",
              "    fill: var(--fill-color);\n",
              "    height: 32px;\n",
              "    padding: 0;\n",
              "    width: 32px;\n",
              "  }\n",
              "\n",
              "  .colab-df-quickchart:hover {\n",
              "    background-color: var(--hover-bg-color);\n",
              "    box-shadow: 0 1px 2px rgba(60, 64, 67, 0.3), 0 1px 3px 1px rgba(60, 64, 67, 0.15);\n",
              "    fill: var(--button-hover-fill-color);\n",
              "  }\n",
              "\n",
              "  .colab-df-quickchart-complete:disabled,\n",
              "  .colab-df-quickchart-complete:disabled:hover {\n",
              "    background-color: var(--disabled-bg-color);\n",
              "    fill: var(--disabled-fill-color);\n",
              "    box-shadow: none;\n",
              "  }\n",
              "\n",
              "  .colab-df-spinner {\n",
              "    border: 2px solid var(--fill-color);\n",
              "    border-color: transparent;\n",
              "    border-bottom-color: var(--fill-color);\n",
              "    animation:\n",
              "      spin 1s steps(1) infinite;\n",
              "  }\n",
              "\n",
              "  @keyframes spin {\n",
              "    0% {\n",
              "      border-color: transparent;\n",
              "      border-bottom-color: var(--fill-color);\n",
              "      border-left-color: var(--fill-color);\n",
              "    }\n",
              "    20% {\n",
              "      border-color: transparent;\n",
              "      border-left-color: var(--fill-color);\n",
              "      border-top-color: var(--fill-color);\n",
              "    }\n",
              "    30% {\n",
              "      border-color: transparent;\n",
              "      border-left-color: var(--fill-color);\n",
              "      border-top-color: var(--fill-color);\n",
              "      border-right-color: var(--fill-color);\n",
              "    }\n",
              "    40% {\n",
              "      border-color: transparent;\n",
              "      border-right-color: var(--fill-color);\n",
              "      border-top-color: var(--fill-color);\n",
              "    }\n",
              "    60% {\n",
              "      border-color: transparent;\n",
              "      border-right-color: var(--fill-color);\n",
              "    }\n",
              "    80% {\n",
              "      border-color: transparent;\n",
              "      border-right-color: var(--fill-color);\n",
              "      border-bottom-color: var(--fill-color);\n",
              "    }\n",
              "    90% {\n",
              "      border-color: transparent;\n",
              "      border-bottom-color: var(--fill-color);\n",
              "    }\n",
              "  }\n",
              "</style>\n",
              "\n",
              "  <script>\n",
              "    async function quickchart(key) {\n",
              "      const quickchartButtonEl =\n",
              "        document.querySelector('#' + key + ' button');\n",
              "      quickchartButtonEl.disabled = true;  // To prevent multiple clicks.\n",
              "      quickchartButtonEl.classList.add('colab-df-spinner');\n",
              "      try {\n",
              "        const charts = await google.colab.kernel.invokeFunction(\n",
              "            'suggestCharts', [key], {});\n",
              "      } catch (error) {\n",
              "        console.error('Error during call to suggestCharts:', error);\n",
              "      }\n",
              "      quickchartButtonEl.classList.remove('colab-df-spinner');\n",
              "      quickchartButtonEl.classList.add('colab-df-quickchart-complete');\n",
              "    }\n",
              "    (() => {\n",
              "      let quickchartButtonEl =\n",
              "        document.querySelector('#df-aa894c22-7266-4584-9bd2-4414391c6173 button');\n",
              "      quickchartButtonEl.style.display =\n",
              "        google.colab.kernel.accessAllowed ? 'block' : 'none';\n",
              "    })();\n",
              "  </script>\n",
              "</div>\n",
              "    </div>\n",
              "  </div>\n"
            ]
          },
          "metadata": {},
          "execution_count": 48
        }
      ]
    },
    {
      "cell_type": "code",
      "source": [
        "# Cria as variaveis\n",
        "# tempos de falhas\n",
        "t = df['t']\n",
        "# indice do sistema\n",
        "k = df['k']\n",
        "m = k.drop_duplicates().shape[0]\n",
        "# Numero de ciclos de manutenção\n",
        "ck = df['c'].max()\n",
        "# Numero de falhas e severidade das manutenções preventivas em cada sistema\n",
        "n = []\n",
        "s = []\n",
        "for k in range(m):\n",
        "    n.append(list(df['n'][k * ck:(k + 1) * ck]))\n",
        "    s.append(list(df['s'][k * ck:(k + 1) * ck]))\n",
        "\n",
        "# Tempos das MP\n",
        "T = list(df['T'][:m])\n",
        "\n",
        "# Criação de variáveis para os parâmetros\n",
        "lamb = 5\n",
        "theta = 2\n",
        "\n",
        "# Cria alguns cenários de teste\n",
        "beta = 5\n",
        "\n",
        "solucao = [lamb, beta, theta]\n",
        "\n",
        "# Cria a instância da classe IntensidadeFalha\n",
        "intensidadeFalha = IntensidadeFalha()\n",
        "\n",
        "# Inicializa a instância com os valores necessários\n",
        "falha = intensidadeFalha.inicio(T, execute_function(fator_melhoria, ck, m, s, theta), solucao)\n",
        "\n",
        "# Cria os dados da intensidade de falha\n",
        "intensidadeFalha.create()\n",
        "\n",
        "# Plota o gráfico da intensidade de falha\n",
        "intensidadeFalha.plotar()\n",
        "\n",
        "fator = execute_function(fator_melhoria, ck, m, s, theta)\n",
        "print('Fator ajuste: ', fator[0])\n",
        "\n",
        "last_value_fator_ajuste = fator[0][-1]\n",
        "\n",
        "time_duration = 1\n",
        "time.sleep(time_duration)"
      ],
      "metadata": {
        "id": "grvISRd2_HkE",
        "outputId": "b8f956f8-3e67-49d0-da19-6737b197038a",
        "colab": {
          "base_uri": "https://localhost:8080/",
          "height": 304
        }
      },
      "execution_count": 49,
      "outputs": [
        {
          "output_type": "display_data",
          "data": {
            "text/plain": [
              "<Figure size 2000x500 with 1 Axes>"
            ],
            "image/png": "[encoded data removed]"
          },
          "metadata": {}
        },
        {
          "output_type": "stream",
          "name": "stdout",
          "text": [
            "Fator ajuste:  [0.5506710358827784, 0.6321205588285577, 0.8347011117784134, 0.3296799539643607]\n"
          ]
        }
      ]
    },
    {
      "cell_type": "code",
      "source": [
        "# Função objetivo para otimização da politica de manutenção\n",
        "# Numero de ciclos determinado pela solução\n",
        "# Solução com 24 valores reais\n",
        "# Solucao a ser avaliada X = [x1, ..., x24]\n",
        "def objective_st(x):\n",
        "\n",
        "    # Dicionario para severidades\n",
        "    dict_severidades = {1: 0.25, 3: 0.50, 5: 0.75, 7: 1.0}\n",
        "\n",
        "    results = [] # Lista para armazenar os resultados das funções objetivo\n",
        "\n",
        "\n",
        "    # No PSO, como cada particula é um vetor de dimenções definidas, é\n",
        "    # Necessario interar sobre o vetor de particulas\n",
        "    for particle in x:\n",
        "        T = [0]\n",
        "        s_row = []\n",
        "        cont = 0\n",
        "\n",
        "        for number in particle:\n",
        "            modulo = int(number) % 2\n",
        "            if modulo == 1:\n",
        "                inteiro = int(number)\n",
        "                s_row.append(dict_severidades[inteiro])  # Severidade\n",
        "                frac = number - inteiro  # Tempo\n",
        "                t = (cont + frac) * 30\n",
        "                T.append(int(t))\n",
        "            cont += 1\n",
        "\n",
        "    s = []\n",
        "    for row in range(m):\n",
        "        s.append(s_row)\n",
        "\n",
        "    # A partir da solução define o número de ciclos\n",
        "    # A variável m é o número de sistemas em análise: em nosso exemplo m = 4\n",
        "    # Para novos dados esse parâmetro deve ser ajustado\n",
        "    # m = 4\n",
        "    ck = len(T) - 1\n",
        "\n",
        "    print(\"\")\n",
        "    print(\"=========================================================================\")\n",
        "    print(\"\")\n",
        "    print('Número de ciclos de manutenção:', ck, m)\n",
        "    print('Tempos para manutenções preventivas:', T)\n",
        "    print('Severidade para cada subsistema:', s[0])\n",
        "    print(\"Número de Sisemas:\", m)\n",
        "\n",
        "    if ck == 0:\n",
        "        return MAX_VALUE_CUSTO\n",
        "\n",
        "    # O modelo já está ajustado\n",
        "    # Utilizado para avaliar a solução candidata\n",
        "\n",
        "    # Cria fator de meloria a partir da solução\n",
        "    fact = execute_function(fator_melhoria, ck, m, s, theta)\n",
        "    fator = [last_value_fator_ajuste] + list(fact[0])\n",
        "\n",
        "    print('Fator: ', fator)\n",
        "\n",
        "    # Numero esperado de falhas (NEF) em cada ciclo\n",
        "    termos_somatorio = [((1/(lamb**beta)) * (T[1]**beta))]\n",
        "    numero_medio_falhas = [0, ((1/(lamb**beta)) * (T[1]**beta))]\n",
        "\n",
        "    for i in range(ck-1):\n",
        "        termo = (((T[i+2]-fator[i]*T[i+1])**beta) - (((1-fator[i])*T[i+1])**beta)) * (1/(lamb**beta))\n",
        "        termos_somatorio.append(termo)\n",
        "        numero_medio_falhas.append(sum(termos_somatorio))\n",
        "\n",
        "    # Número médio de falhas até o final do período: 2 anos\n",
        "    final = DIAS_OBSERVADOS\n",
        "    termo = (((final-fator[ck-1]*T[ck])**beta) - (((1-fator[ck-1])*T[ck])**beta)) * (1/(lamb**beta))\n",
        "    termos_somatorio.append(termo)\n",
        "    numero_medio_falhas.append(sum(termos_somatorio))\n",
        "\n",
        "    mi = numero_medio_falhas\n",
        "\n",
        "    print('Media de falhas: ', mi)\n",
        "\n",
        "    Ctotal =  []\n",
        "\n",
        "    for i in range(ck):\n",
        "        cmp = custo_mp(s[0][i], CMP)\n",
        "        Ctotal.append((cmp + (mi[i+1] - mi[i])*CMC)/(T[i+1]-T[i]))\n",
        "\n",
        "    cmp = custo_mp(s[0][ck-1], CMP)\n",
        "    Ctotal.append((cmp + (mi[ck+1] - mi[ck])*CMC)/(final-T[ck]))\n",
        "\n",
        "    # Custo Total\n",
        "    Custo = np.sum(Ctotal)\n",
        "    results.append(Custo) # Adicione o valor da função objetivo à lista de resultados\n",
        "    print('Custo = ', Custo)\n",
        "\n",
        "    # Retorne os resultados da função objetivo como um array\n",
        "    return np.array(results)"
      ],
      "metadata": {
        "id": "-JuqM09rWWBJ"
      },
      "execution_count": 50,
      "outputs": []
    },
    {
      "cell_type": "code",
      "source": [
        "num_particles = 100\n",
        "max_iterations = 100\n",
        "dimensions = 24\n",
        "options = {'c1': 0.5, 'c2': 0.3, 'w': 0.9}\n",
        "\n",
        "max_bound = np.array([7.0] * dimensions)  # Limite superior dos valores em x\n",
        "min_bound = np.array([0.0] * dimensions)   # Limite inferior dos valores em x\n",
        "bounds = (min_bound, max_bound)\n",
        "\n",
        "optimizer = GlobalBestPSO(n_particles=num_particles, dimensions=dimensions, options=options, bounds=bounds)\n",
        "\n",
        "# Inicializar current_cost e pbest_cost com valores infinitos\n",
        "optimizer.swarm.current_cost = np.full(optimizer.swarm.position.shape[0], np.inf)\n",
        "optimizer.swarm.pbest_cost = np.full(optimizer.swarm.position.shape[0], np.inf)\n",
        "best_cost, best_position = optimizer.optimize(objective_st, iters=max_iterations)\n",
        "\n",
        "pbest_cost = optimizer.swarm.pbest_cost\n",
        "\n",
        "best_positions = []  # Lista para armazenar todas as melhores posições\n",
        "\n",
        "# Loop de iterações do PSO\n",
        "for i in range(max_iterations):\n",
        "    best_cost, best_position = optimizer.optimize(objective_st, iters=1)\n",
        "    pbest_cost = optimizer.swarm.pbest_cost\n",
        "    best_positions.append(best_position)\n",
        "\n",
        "# Converter a lista de melhores posições em um array numpy para facilitar a manipulação\n",
        "best_positions = np.array(best_positions)"
      ],
      "metadata": {
        "colab": {
          "base_uri": "https://localhost:8080/"
        },
        "id": "cePW2Ji6gjmC",
        "outputId": "182bf2bc-c95a-4ece-8451-bbb154baacc7"
      },
      "execution_count": 51,
      "outputs": [
        {
          "output_type": "stream",
          "name": "stderr",
          "text": [
            "2023-09-30 16:02:21,399 - pyswarms.single.global_best - INFO - Optimize for 100 iters with {'c1': 0.5, 'c2': 0.3, 'w': 0.9}\n",
            "pyswarms.single.global_best:   9%|▉         |9/100, best_cost=4.74e+10"
          ]
        },
        {
          "output_type": "stream",
          "name": "stdout",
          "text": [
            "\n",
            "=========================================================================\n",
            "\n",
            "Número de ciclos de manutenção: 10 5\n",
            "Tempos para manutenções preventivas: [0, 8, 85, 189, 271, 325, 335, 490, 557, 616, 635]\n",
            "Severidade para cada subsistema: [0.75, 0.75, 0.5, 0.5, 0.5, 0.75, 0.25, 0.75, 0.25, 0.5]\n",
            "Número de Sisemas: 5\n",
            "Fator:  [0.3296799539643607, 0.7768698398515702, 0.7768698398515702, 0.6321205588285577, 0.6321205588285577, 0.6321205588285577, 0.7768698398515702, 0.3934693402873666, 0.7768698398515702, 0.3934693402873666, 0.6321205588285577]\n",
            "Media de falhas:  [0, 10.48576, 1212836.9491980046, 10208608.557191148, 19612218.06721125, 43905042.58159889, 47769097.84083005, 572307608.1319165, 621862282.4734418, 2362879121.164279, 2377172899.786858, 1349450080.9329464]\n",
            "Custo =  259206065624.40363\n",
            "\n",
            "=========================================================================\n",
            "\n",
            "Número de ciclos de manutenção: 12 5\n",
            "Tempos para manutenções preventivas: [0, 19, 80, 133, 202, 217, 394, 441, 520, 568, 579, 630, 700]\n",
            "Severidade para cada subsistema: [0.75, 0.75, 0.25, 0.5, 0.25, 0.25, 0.75, 0.75, 0.75, 0.25, 0.5, 0.25]\n",
            "Número de Sisemas: 5\n",
            "Fator:  [0.3296799539643607, 0.7768698398515702, 0.7768698398515702, 0.3934693402873666, 0.6321205588285577, 0.3934693402873666, 0.3934693402873666, 0.7768698398515702, 0.7768698398515702, 0.7768698398515702, 0.3934693402873666, 0.6321205588285577, 0.3934693402873666]\n",
            "Media de falhas:  [0, 792.3516800000001, 698194.7878242517, 1268911.7841071784, 4255289.295136422, 11159636.94314674, 367705585.24364364, 730340756.9344687, 1890075229.2504456, 1921341924.473796, 1926742462.906014, 1976015563.206407, 5414092625.920801, 5082738678.073056]\n",
            "Custo =  317893743267.74146\n",
            "\n",
            "=========================================================================\n",
            "\n",
            "Número de ciclos de manutenção: 14 5\n",
            "Tempos para manutenções preventivas: [0, 25, 76, 139, 150, 194, 228, 273, 420, 457, 484, 524, 568, 594, 628]\n",
            "Severidade para cada subsistema: [0.75, 0.75, 0.25, 0.5, 0.5, 0.25, 0.75, 0.75, 0.5, 0.5, 0.75, 0.75, 0.25, 0.5]\n",
            "Número de Sisemas: 5\n",
            "Fator:  [0.3296799539643607, 0.7768698398515702, 0.7768698398515702, 0.3934693402873666, 0.6321205588285577, 0.6321205588285577, 0.3934693402873666, 0.7768698398515702, 0.7768698398515702, 0.6321205588285577, 0.6321205588285577, 0.7768698398515702, 0.7768698398515702, 0.3934693402873666, 0.6321205588285577]\n",
            "Media de falhas:  [0, 3125.0000000000005, 459740.70575890254, 1505111.2755381723, 1537824.0129662454, 13881226.872007586, 17445023.840123914, 27493320.475732546, 942601273.2733998, 952499780.7389928, 960390135.5046322, 1060872201.8258954, 1213800149.697592, 1229936678.6330392, 1257843948.8552434, 443631383.3975878]\n",
            "Custo =  175721689787.46442\n",
            "\n",
            "=========================================================================\n",
            "\n",
            "Número de ciclos de manutenção: 12 5\n",
            "Tempos para manutenções preventivas: [0, 25, 68, 102, 143, 181, 249, 299, 348, 475, 519, 568, 672]\n",
            "Severidade para cada subsistema: [0.75, 0.75, 0.25, 0.25, 0.5, 0.25, 0.75, 0.5, 0.25, 0.75, 0.75, 0.75]\n",
            "Número de Sisemas: 5\n",
            "Fator:  [0.3296799539643607, 0.7768698398515702, 0.7768698398515702, 0.3934693402873666, 0.3934693402873666, 0.6321205588285577, 0.3934693402873666, 0.7768698398515702, 0.6321205588285577, 0.3934693402873666, 0.7768698398515702, 0.7768698398515702, 0.7768698398515702]\n",
            "Media de falhas:  [0, 3125.0000000000005, 246556.30522079294, 338296.6670451577, 673526.5222894824, 8764939.166855546, 60493713.934755, 76647711.13286461, 221422047.2204008, 335387315.12155515, 443507791.85508585, 1493304519.1348157, 1692129172.01004, 1668795481.3039165]\n",
            "Custo =  125131576301.83852\n",
            "\n",
            "=========================================================================\n",
            "\n",
            "Número de ciclos de manutenção: 13 5\n",
            "Tempos para manutenções preventivas: [0, 7, 60, 145, 328, 336, 363, 413, 434, 506, 568, 599, 601, 656]\n",
            "Severidade para cada subsistema: [0.75, 0.75, 0.25, 0.5, 0.5, 0.75, 0.5, 0.5, 0.75, 0.75, 0.5, 0.75, 0.25]\n",
            "Número de Sisemas: 5\n",
            "Fator:  [0.3296799539643607, 0.7768698398515702, 0.7768698398515702, 0.3934693402873666, 0.6321205588285577, 0.6321205588285577, 0.7768698398515702, 0.6321205588285577, 0.6321205588285577, 0.7768698398515702, 0.7768698398515702, 0.6321205588285577, 0.7768698398515702, 0.3934693402873666]\n",
            "Media de falhas:  [0, 5.378240000000001, 204525.22205721482, 3154621.426154895, 151365531.25980175, 173094319.80625108, 188656728.76389822, 241717964.76632804, 245527087.1408612, 425830125.80318916, 655398835.7313528, 676183797.7670574, 677235971.3097675, 1021561924.7252027, 1001989921.6265991]\n",
            "Custo =  77588126755.39983\n",
            "\n",
            "=========================================================================\n",
            "\n",
            "Número de ciclos de manutenção: 12 5\n",
            "Tempos para manutenções preventivas: [0, 49, 113, 147, 162, 230, 323, 331, 370, 579, 601, 646, 691]\n",
            "Severidade para cada subsistema: [0.75, 0.5, 0.25, 0.25, 0.5, 0.5, 0.5, 0.75, 0.75, 0.75, 0.25, 0.25]\n",
            "Número de Sisemas: 5\n",
            "Fator:  [0.3296799539643607, 0.7768698398515702, 0.6321205588285577, 0.3934693402873666, 0.3934693402873666, 0.6321205588285577, 0.6321205588285577, 0.6321205588285577, 0.7768698398515702, 0.7768698398515702, 0.7768698398515702, 0.3934693402873666, 0.3934693402873666]\n",
            "Media de falhas:  [0, 90392.07968000001, 2804318.5413085697, 3034006.895901639, 3389341.4486807296, 41108687.742910124, 241614425.2398799, 244533721.94967228, 270334551.5348544, 1822031734.1994326, 1835796162.6978264, 1880890164.7148075, 1938441043.1418204, -982759246.2487679]\n",
            "Custo =  184975929315.19452\n",
            "\n",
            "=========================================================================\n",
            "\n",
            "Número de ciclos de manutenção: 13 5\n",
            "Tempos para manutenções preventivas: [0, 13, 36, 147, 209, 249, 279, 320, 332, 375, 501, 597, 628, 650]\n",
            "Severidade para cada subsistema: [0.5, 0.75, 0.25, 0.25, 0.75, 0.5, 0.5, 0.5, 0.75, 0.5, 0.75, 0.5, 0.25]\n",
            "Número de Sisemas: 5\n",
            "Fator:  [0.3296799539643607, 0.6321205588285577, 0.7768698398515702, 0.3934693402873666, 0.3934693402873666, 0.7768698398515702, 0.6321205588285577, 0.6321205588285577, 0.6321205588285577, 0.7768698398515702, 0.6321205588285577, 0.7768698398515702, 0.6321205588285577, 0.3934693402873666]\n",
            "Media de falhas:  [0, 118.81376000000002, 10369.084484449697, 9483972.099206582, 11921985.019180886, 42720889.82314538, 79787721.60979426, 83244040.29895122, 87763841.39537466, 118363785.06202628, 512387408.76776737, 630753306.4890972, 783661143.4016619, 802216802.4005646, 629462063.9548199]\n",
            "Custo =  67577724726.0977\n",
            "\n",
            "=========================================================================\n",
            "\n",
            "Número de ciclos de manutenção: 11 5\n",
            "Tempos para manutenções preventivas: [0, 62, 103, 149, 208, 250, 319, 345, 380, 469, 529, 692]\n",
            "Severidade para cada subsistema: [0.75, 0.75, 0.25, 0.25, 0.5, 0.5, 0.5, 0.75, 0.25, 0.5, 0.25]\n",
            "Número de Sisemas: 5\n",
            "Fator:  [0.3296799539643607, 0.7768698398515702, 0.7768698398515702, 0.3934693402873666, 0.3934693402873666, 0.6321205588285577, 0.6321205588285577, 0.6321205588285577, 0.7768698398515702, 0.3934693402873666, 0.6321205588285577, 0.3934693402873666]\n",
            "Media de falhas:  [0, 293162.50624, 1480910.3022574396, 1978710.8242947487, 4103167.8683776273, 36903730.851955675, 178553359.41228297, 190803671.06961596, 215880158.58940038, 399416241.1908119, 434119910.54207045, 7832388546.278092, 7526585367.116294]\n",
            "Custo =  221818879870.52896\n",
            "\n",
            "=========================================================================\n",
            "\n",
            "Número de ciclos de manutenção: 12 5\n",
            "Tempos para manutenções preventivas: [0, 66, 111, 246, 279, 318, 356, 385, 407, 521, 631, 677, 706]\n",
            "Severidade para cada subsistema: [0.75, 0.75, 0.25, 0.25, 0.5, 0.5, 0.75, 0.5, 0.5, 0.5, 0.25, 0.75]\n",
            "Número de Sisemas: 5\n",
            "Fator:  [0.3296799539643607, 0.7768698398515702, 0.7768698398515702, 0.3934693402873666, 0.3934693402873666, 0.6321205588285577, 0.6321205588285577, 0.7768698398515702, 0.6321205588285577, 0.6321205588285577, 0.6321205588285577, 0.3934693402873666, 0.7768698398515702]\n",
            "Media de falhas:  [0, 400746.42432000005, 2157747.591428124, 35466056.39213092, 36984824.89213237, 117831221.32727753, 242331853.64849365, 263520694.805286, 282824076.90449536, 396178993.85956323, 1112832039.6523724, 1429748575.1786351, 1654975820.7168295, -1840880150.0768297]\n",
            "Custo =  249761401804.2907\n",
            "\n",
            "=========================================================================\n",
            "\n",
            "Número de ciclos de manutenção: 8 5\n",
            "Tempos para manutenções preventivas: [0, 70, 105, 319, 388, 394, 521, 640, 679]\n",
            "Severidade para cada subsistema: [0.75, 0.75, 0.5, 0.75, 0.5, 0.5, 0.5, 0.25]\n",
            "Número de Sisemas: 5\n",
            "Fator:  [0.3296799539643607, 0.7768698398515702, 0.7768698398515702, 0.6321205588285577, 0.7768698398515702, 0.6321205588285577, 0.6321205588285577, 0.6321205588285577, 0.3934693402873666]\n",
            "Media de falhas:  [0, 537824.0, 1645802.2379375, 243087171.144729, 259822899.98278308, 264157221.3804105, 409188997.6853021, 1252424446.2690957, 1519117001.4669383, 1254427601.1322582]\n",
            "Custo =  82197074102.00806\n",
            "\n",
            "=========================================================================\n",
            "\n",
            "Número de ciclos de manutenção: 14 5\n",
            "Tempos para manutenções preventivas: [0, 5, 33, 71, 91, 180, 321, 358, 388, 427, 455, 505, 531, 640, 668]\n",
            "Severidade para cada subsistema: [0.5, 0.75, 0.75, 0.75, 0.5, 0.5, 0.5, 0.75, 0.5, 0.75, 0.25, 0.5, 0.5, 0.25]\n",
            "Número de Sisemas: 5\n",
            "Fator:  [0.3296799539643607, 0.6321205588285577, 0.7768698398515702, 0.7768698398515702, 0.7768698398515702, 0.6321205588285577, 0.6321205588285577, 0.6321205588285577, 0.7768698398515702, 0.6321205588285577, 0.7768698398515702, 0.3934693402873666, 0.6321205588285577, 0.6321205588285577, 0.3934693402873666]\n",
            "Media de falhas:  [0, 1.0, 9693.648826712271, 111017.34731573235, 129626.93970836225, 5121355.408638681, 67533626.7873202, 88896775.6355209, 111593765.23648378, 156074770.62795678, 162673140.05588582, 275971908.33933085, 286573546.73095506, 3940658310.41538, 4115196533.7536087, 3885179166.8451552]\n",
            "Custo =  196105500009.99658\n",
            "\n",
            "=========================================================================\n",
            "\n",
            "Número de ciclos de manutenção: 13 5\n",
            "Tempos para manutenções preventivas: [0, 19, 40, 67, 151, 194, 284, 323, 348, 387, 398, 431, 589, 660]\n",
            "Severidade para cada subsistema: [0.5, 0.75, 0.75, 0.25, 0.5, 0.5, 0.5, 0.5, 0.75, 0.5, 0.5, 0.75, 0.25]\n",
            "Número de Sisemas: 5\n",
            "Fator:  [0.3296799539643607, 0.6321205588285577, 0.7768698398515702, 0.7768698398515702, 0.3934693402873666, 0.6321205588285577, 0.6321205588285577, 0.6321205588285577, 0.6321205588285577, 0.7768698398515702, 0.6321205588285577, 0.6321205588285577, 0.7768698398515702, 0.3934693402873666]\n",
            "Media de falhas:  [0, 792.3516800000001, 14668.851568632472, 54870.31080572549, 3090079.6706642522, 3925207.4644381534, 120298124.80355048, 135771452.1975088, 147884580.78491205, 178472870.49008834, 186910596.537957, 193723158.87682593, 1178847883.789253, 1656531973.060389, 1635986784.9645414]\n",
            "Custo =  69180841464.8914\n",
            "\n",
            "=========================================================================\n",
            "\n",
            "Número de ciclos de manutenção: 12 5\n",
            "Tempos para manutenções preventivas: [0, 45, 63, 114, 159, 198, 234, 261, 324, 335, 381, 436, 576]\n",
            "Severidade para cada subsistema: [0.75, 0.75, 0.5, 0.25, 0.5, 0.5, 0.25, 0.5, 0.5, 0.75, 0.5, 0.75]\n",
            "Número de Sisemas: 5\n",
            "Fator:  [0.3296799539643607, 0.7768698398515702, 0.7768698398515702, 0.6321205588285577, 0.3934693402873666, 0.6321205588285577, 0.6321205588285577, 0.3934693402873666, 0.6321205588285577, 0.6321205588285577, 0.7768698398515702, 0.6321205588285577, 0.7768698398515702]\n",
            "Media de falhas:  [0, 59049.00000000001, 134000.7978492295, 506754.7190696489, 1058163.3276943653, 3657522.6535932696, 25316935.30936204, 29721904.801875766, 59646257.45500329, 89002371.44945773, 124333640.72076443, 197623181.69580972, 435547422.4560418, 532604007.26329243]\n",
            "Custo =  47377222660.57524\n",
            "\n",
            "=========================================================================\n",
            "\n",
            "Número de ciclos de manutenção: 13 5\n",
            "Tempos para manutenções preventivas: [0, 49, 61, 99, 163, 201, 229, 268, 299, 325, 377, 441, 467, 659]\n",
            "Severidade para cada subsistema: [0.75, 0.75, 0.5, 0.25, 0.5, 0.5, 0.75, 0.25, 0.5, 0.75, 0.5, 0.75, 0.25]\n",
            "Número de Sisemas: 5\n",
            "Fator:  [0.3296799539643607, 0.7768698398515702, 0.7768698398515702, 0.6321205588285577, 0.3934693402873666, 0.6321205588285577, 0.6321205588285577, 0.7768698398515702, 0.3934693402873666, 0.6321205588285577, 0.7768698398515702, 0.6321205588285577, 0.7768698398515702, 0.3934693402873666]\n",
            "Media de falhas:  [0, 90392.07968000001, 136202.28363399173, 253234.23652811034, 1764800.953436731, 4403996.364103974, 20015582.03973065, 27756557.55849358, 36471585.84488196, 38241036.34518427, 250052353.05040076, 343107566.79927814, 349689087.4685649, 2341005804.8665233, 2320701403.008995]\n",
            "Custo =  70812174953.14897\n",
            "\n",
            "=========================================================================\n",
            "\n",
            "Número de ciclos de manutenção: 15 5\n",
            "Tempos para manutenções preventivas: [0, 50, 60, 91, 148, 163, 201, 225, 258, 325, 374, 444, 468, 507, 570, 658]\n",
            "Severidade para cada subsistema: [0.75, 0.75, 0.5, 0.25, 0.25, 0.5, 0.5, 0.25, 0.5, 0.75, 0.5, 0.25, 0.25, 0.75, 0.25]\n",
            "Número de Sisemas: 5\n",
            "Fator:  [0.3296799539643607, 0.7768698398515702, 0.7768698398515702, 0.6321205588285577, 0.3934693402873666, 0.3934693402873666, 0.6321205588285577, 0.6321205588285577, 0.3934693402873666, 0.6321205588285577, 0.7768698398515702, 0.6321205588285577, 0.3934693402873666, 0.3934693402873666, 0.7768698398515702, 0.3934693402873666]\n",
            "Media de falhas:  [0, 100000.00000000001, 136400.30802571995, 191402.9101219548, 1073751.627485232, 1437529.3705068224, 13782658.44748209, 26329740.265054088, 31741951.157305777, 64885969.83628832, 258649112.3099789, 366224733.8560717, 372205390.00646025, 458163545.0764118, 1812596000.4379244, 5143568259.28532, 5123506266.799664]\n",
            "Custo =  276778729010.6568\n",
            "\n",
            "=========================================================================\n",
            "\n",
            "Número de ciclos de manutenção: 15 5\n",
            "Tempos para manutenções preventivas: [0, 48, 62, 94, 148, 159, 198, 226, 273, 325, 344, 376, 445, 495, 578, 718]\n",
            "Severidade para cada subsistema: [0.75, 0.75, 0.5, 0.25, 0.25, 0.5, 0.5, 0.5, 0.5, 0.5, 0.75, 0.5, 0.75, 0.75, 0.25]\n",
            "Número de Sisemas: 5\n",
            "Fator:  [0.3296799539643607, 0.7768698398515702, 0.7768698398515702, 0.6321205588285577, 0.3934693402873666, 0.3934693402873666, 0.6321205588285577, 0.6321205588285577, 0.6321205588285577, 0.6321205588285577, 0.6321205588285577, 0.7768698398515702, 0.6321205588285577, 0.7768698398515702, 0.7768698398515702, 0.3934693402873666]\n",
            "Media de falhas:  [0, 81537.26976000001, 137676.450148046, 202242.29242439455, 959014.9231959934, 1190122.895201903, 13104205.875275863, 27904819.34033542, 38579438.62756574, 61643921.14758073, 70169711.96959133, 91845038.35488388, 198211172.85299677, 218855357.2540277, 573765844.040545, 1012815110.1666996, 979085445.3199]\n"
          ]
        },
        {
          "output_type": "stream",
          "name": "stderr",
          "text": [
            "pyswarms.single.global_best:  26%|██▌       |26/100, best_cost=4.35e+10"
          ]
        },
        {
          "output_type": "stream",
          "name": "stdout",
          "text": [
            "Custo =  49303774094.773254\n",
            "\n",
            "=========================================================================\n",
            "\n",
            "Número de ciclos de manutenção: 18 5\n",
            "Tempos para manutenções preventivas: [0, 28, 42, 65, 104, 149, 156, 194, 227, 274, 324, 382, 405, 443, 462, 490, 586, 610, 714]\n",
            "Severidade para cada subsistema: [0.5, 0.75, 0.75, 0.5, 0.25, 0.25, 0.5, 0.5, 0.25, 0.5, 0.75, 0.5, 0.5, 0.75, 0.25, 0.75, 0.75, 0.5]\n",
            "Número de Sisemas: 5\n",
            "Fator:  [0.3296799539643607, 0.6321205588285577, 0.7768698398515702, 0.7768698398515702, 0.6321205588285577, 0.3934693402873666, 0.3934693402873666, 0.6321205588285577, 0.6321205588285577, 0.3934693402873666, 0.6321205588285577, 0.7768698398515702, 0.6321205588285577, 0.6321205588285577, 0.7768698398515702, 0.3934693402873666, 0.7768698398515702, 0.7768698398515702, 0.6321205588285577]\n",
            "Media de falhas:  [0, 5507.317760000001, 16853.01491648, 43467.033507252025, 183562.21500186014, 653741.724895562, 784187.2959226234, 11484664.441232001, 29111625.601233207, 39927669.21250044, 61551869.563876666, 309528549.4422096, 329412786.1908289, 338638258.86194485, 365700386.8613159, 417601785.6289126, 529404796.52117723, 1230764682.188116, 1471201651.878556, 1438420582.568074]\n",
            "Custo =  172645189508.64554\n",
            "\n",
            "=========================================================================\n",
            "\n",
            "Número de ciclos de manutenção: 14 5\n",
            "Tempos para manutenções preventivas: [0, 19, 38, 71, 117, 154, 192, 233, 323, 388, 438, 485, 590, 643, 718]\n",
            "Severidade para cada subsistema: [0.5, 0.75, 0.75, 0.5, 0.25, 0.5, 0.5, 0.5, 0.75, 0.5, 0.75, 0.75, 0.5, 0.75]\n",
            "Número de Sisemas: 5\n",
            "Fator:  [0.3296799539643607, 0.6321205588285577, 0.7768698398515702, 0.7768698398515702, 0.6321205588285577, 0.3934693402873666, 0.6321205588285577, 0.6321205588285577, 0.6321205588285577, 0.7768698398515702, 0.6321205588285577, 0.7768698398515702, 0.7768698398515702, 0.6321205588285577, 0.7768698398515702]\n",
            "Media de falhas:  [0, 792.3516800000001, 10986.997653224653, 84046.010423542, 373178.37272552564, 689564.2305362637, 2934067.881291708, 27048716.72331968, 79173063.4849948, 138762419.93419087, 204911999.00020456, 222380534.5045773, 749732755.3829626, 805764040.6540749, 945581271.8947368, 555475998.1331367]\n",
            "Custo =  60420965480.56313\n",
            "\n",
            "=========================================================================\n",
            "\n",
            "Número de ciclos de manutenção: 13 5\n",
            "Tempos para manutenções preventivas: [0, 12, 38, 75, 152, 192, 238, 322, 434, 460, 539, 592, 603, 656]\n",
            "Severidade para cada subsistema: [0.5, 0.75, 0.75, 0.25, 0.5, 0.5, 0.5, 0.5, 0.5, 0.5, 0.75, 0.75, 0.5]\n",
            "Número de Sisemas: 5\n",
            "Fator:  [0.3296799539643607, 0.6321205588285577, 0.7768698398515702, 0.7768698398515702, 0.3934693402873666, 0.6321205588285577, 0.6321205588285577, 0.6321205588285577, 0.6321205588285577, 0.6321205588285577, 0.6321205588285577, 0.7768698398515702, 0.7768698398515702, 0.6321205588285577]\n",
            "Media de falhas:  [0, 79.62624000000001, 14702.16486027889, 124716.80464560508, 2439842.649817311, 3131533.25214707, 32485579.126660053, 78391293.27505817, 278945679.57309765, 316335734.20430934, 573487060.8799284, 796024930.9868541, 839824990.827937, 899966630.1980546, 880394627.099451]\n",
            "Custo =  69537010433.07896\n",
            "\n",
            "=========================================================================\n",
            "\n",
            "Número de ciclos de manutenção: 12 5\n",
            "Tempos para manutenções preventivas: [0, 10, 42, 77, 151, 192, 263, 270, 322, 433, 535, 592, 712]\n",
            "Severidade para cada subsistema: [0.5, 0.75, 0.75, 0.25, 0.5, 0.5, 0.5, 0.5, 0.5, 0.5, 0.75, 0.5]\n",
            "Número de Sisemas: 5\n",
            "Fator:  [0.3296799539643607, 0.6321205588285577, 0.7768698398515702, 0.7768698398515702, 0.3934693402873666, 0.6321205588285577, 0.6321205588285577, 0.6321205588285577, 0.6321205588285577, 0.6321205588285577, 0.6321205588285577, 0.7768698398515702, 0.6321205588285577]\n",
            "Media de falhas:  [0, 32.0, 27817.402331058824, 132127.05300905617, 2148491.788243865, 2878540.4458754617, 70091490.85530177, 71225594.62838763, 93526198.8891451, 289606420.2894492, 646531532.996787, 889114318.8516762, 2139515122.8732426, 2107202685.242881]\n",
            "Custo =  87266174737.26698\n",
            "\n",
            "=========================================================================\n",
            "\n",
            "Número de ciclos de manutenção: 11 5\n",
            "Tempos para manutenções preventivas: [0, 10, 46, 74, 152, 194, 285, 323, 435, 477, 536, 589]\n",
            "Severidade para cada subsistema: [0.5, 0.75, 0.75, 0.25, 0.5, 0.25, 0.5, 0.5, 0.75, 0.5, 0.75]\n",
            "Número de Sisemas: 5\n",
            "Fator:  [0.3296799539643607, 0.6321205588285577, 0.7768698398515702, 0.7768698398515702, 0.3934693402873666, 0.6321205588285577, 0.3934693402873666, 0.6321205588285577, 0.6321205588285577, 0.7768698398515702, 0.6321205588285577, 0.7768698398515702]\n",
            "Media de falhas:  [0, 32.0, 45469.111229035334, 103566.99868394196, 2516279.640644301, 3308802.1636549337, 122686218.70681247, 137664071.70785052, 930971630.8250833, 1005085152.6445657, 1178652792.0457835, 1219837369.1580837, 1262778377.0687547]\n",
            "Custo =  72917869445.8273\n",
            "\n",
            "=========================================================================\n",
            "\n",
            "Número de ciclos de manutenção: 13 5\n",
            "Tempos para manutenções preventivas: [0, 22, 48, 70, 153, 198, 323, 354, 388, 438, 476, 538, 581, 652]\n",
            "Severidade para cada subsistema: [0.5, 0.75, 0.75, 0.25, 0.5, 0.5, 0.5, 0.75, 0.5, 0.25, 0.5, 0.75, 0.5]\n",
            "Número de Sisemas: 5\n",
            "Fator:  [0.3296799539643607, 0.6321205588285577, 0.7768698398515702, 0.7768698398515702, 0.3934693402873666, 0.6321205588285577, 0.6321205588285577, 0.6321205588285577, 0.7768698398515702, 0.6321205588285577, 0.3934693402873666, 0.6321205588285577, 0.7768698398515702, 0.6321205588285577]\n",
            "Media de falhas:  [0, 1649.16224, 37370.29972363454, 68212.66791146263, 3052991.2511118515, 4031498.176914081, 279050138.05541956, 295628400.2940035, 321871787.21998715, 388021366.28600085, 399909925.494331, 587052649.2079017, 1601621967.4435554, 2057808841.5144336, 2039239677.8587375]\n",
            "Custo =  154394138017.52548\n",
            "\n",
            "=========================================================================\n",
            "\n",
            "Número de ciclos de manutenção: 15 5\n",
            "Tempos para manutenções preventivas: [0, 47, 67, 110, 154, 200, 259, 291, 324, 339, 383, 405, 440, 476, 572, 611]\n",
            "Severidade para cada subsistema: [0.75, 0.75, 0.5, 0.25, 0.5, 0.75, 0.5, 0.5, 0.5, 0.75, 0.5, 0.5, 0.75, 0.75, 0.75]\n",
            "Número de Sisemas: 5\n",
            "Fator:  [0.3296799539643607, 0.7768698398515702, 0.7768698398515702, 0.6321205588285577, 0.3934693402873666, 0.6321205588285577, 0.7768698398515702, 0.6321205588285577, 0.6321205588285577, 0.6321205588285577, 0.7768698398515702, 0.6321205588285577, 0.6321205588285577, 0.7768698398515702, 0.7768698398515702, 0.7768698398515702]\n",
            "Media de falhas:  [0, 73390.40224000001, 179442.2599058066, 388328.671835525, 869658.7449407359, 4330585.410102123, 56907193.61664995, 65083950.36246468, 67596987.17626165, 73823648.40364952, 107909323.2855536, 126845078.17850149, 134826703.42000246, 196323050.50964102, 612321623.0888278, 642591885.6488686, 637416911.7744578]\n",
            "Custo =  43549661334.918365\n",
            "\n",
            "=========================================================================\n",
            "\n",
            "Número de ciclos de manutenção: 16 5\n",
            "Tempos para manutenções preventivas: [0, 45, 64, 103, 155, 201, 237, 297, 325, 334, 380, 443, 464, 570, 617, 665, 709]\n",
            "Severidade para cada subsistema: [0.75, 0.75, 0.5, 0.25, 0.5, 0.5, 0.75, 0.5, 0.5, 0.75, 0.5, 0.5, 0.75, 0.25, 0.25, 0.25]\n",
            "Número de Sisemas: 5\n",
            "Fator:  [0.3296799539643607, 0.7768698398515702, 0.7768698398515702, 0.6321205588285577, 0.3934693402873666, 0.6321205588285577, 0.6321205588285577, 0.7768698398515702, 0.6321205588285577, 0.6321205588285577, 0.7768698398515702, 0.6321205588285577, 0.6321205588285577, 0.7768698398515702, 0.3934693402873666, 0.3934693402873666, 0.3934693402873666]\n",
            "Media de falhas:  [0, 59049.00000000001, 142976.26853080478, 280185.529725704, 1036618.5119311806, 4557233.58017395, 27361547.917688943, 47855009.941336334, 58463332.30242069, 58973451.75396089, 93958910.97696923, 186630479.31043014, 191522685.39134604, 664146456.0488265, 891032937.7616663, 945818344.5006546, 3262399369.655023, -352387069.12339973]\n",
            "Custo =  400862316409.6366\n",
            "\n",
            "=========================================================================\n",
            "\n",
            "Número de ciclos de manutenção: 14 5\n",
            "Tempos para manutenções preventivas: [0, 43, 64, 104, 149, 154, 200, 235, 253, 325, 336, 378, 444, 451, 571]\n",
            "Severidade para cada subsistema: [0.75, 0.75, 0.5, 0.25, 0.25, 0.5, 0.5, 0.5, 0.5, 0.5, 0.75, 0.5, 0.5, 0.75]\n",
            "Número de Sisemas: 5\n",
            "Fator:  [0.3296799539643607, 0.7768698398515702, 0.7768698398515702, 0.6321205588285577, 0.3934693402873666, 0.3934693402873666, 0.6321205588285577, 0.6321205588285577, 0.6321205588285577, 0.6321205588285577, 0.6321205588285577, 0.7768698398515702, 0.6321205588285577, 0.6321205588285577, 0.7768698398515702]\n",
            "Media de falhas:  [0, 47042.70176, 138926.1644100883, 289522.5997534045, 759702.1096471064, 846355.1433955765, 15419345.840318881, 36869734.43651703, 39302988.90093987, 76290609.51816362, 80612510.06544831, 111240003.77266261, 210622046.55107725, 211864574.65835243, 783031972.2786243, 902005152.7254453]\n",
            "Custo =  53133019381.67865\n",
            "\n",
            "=========================================================================\n",
            "\n",
            "Número de ciclos de manutenção: 14 5\n",
            "Tempos para manutenções preventivas: [0, 41, 66, 111, 153, 198, 233, 324, 348, 380, 443, 462, 577, 615, 689]\n",
            "Severidade para cada subsistema: [0.75, 0.75, 0.5, 0.25, 0.5, 0.5, 0.5, 0.5, 0.75, 0.5, 0.5, 0.75, 0.5, 0.5]\n",
            "Número de Sisemas: 5\n",
            "Fator:  [0.3296799539643607, 0.7768698398515702, 0.7768698398515702, 0.6321205588285577, 0.3934693402873666, 0.6321205588285577, 0.6321205588285577, 0.6321205588285577, 0.6321205588285577, 0.7768698398515702, 0.6321205588285577, 0.6321205588285577, 0.7768698398515702, 0.6321205588285577, 0.6321205588285577]\n",
            "Media de falhas:  [0, 37073.98432, 159479.6997555213, 402472.0693938677, 824083.7380029099, 4054355.8816848453, 24776012.305748284, 78443151.29220685, 90009224.35005079, 112582191.11042956, 205253759.44389045, 209507467.72132835, 765398188.7665055, 941669399.9361988, 1060646329.7619128, 764365036.8750656]\n",
            "Custo =  74265395262.22266\n",
            "\n",
            "=========================================================================\n",
            "\n",
            "Número de ciclos de manutenção: 18 5\n",
            "Tempos para manutenções preventivas: [0, 41, 69, 118, 151, 196, 233, 261, 324, 383, 408, 441, 452, 493, 534, 584, 628, 642, 717]\n",
            "Severidade para cada subsistema: [0.75, 0.75, 0.5, 0.25, 0.5, 0.5, 0.5, 0.5, 0.75, 0.5, 0.5, 0.75, 0.25, 0.5, 0.75, 0.25, 0.5, 0.75]\n",
            "Número de Sisemas: 5\n",
            "Fator:  [0.3296799539643607, 0.7768698398515702, 0.7768698398515702, 0.6321205588285577, 0.3934693402873666, 0.6321205588285577, 0.6321205588285577, 0.6321205588285577, 0.6321205588285577, 0.7768698398515702, 0.6321205588285577, 0.6321205588285577, 0.7768698398515702, 0.3934693402873666, 0.6321205588285577, 0.7768698398515702, 0.3934693402873666, 0.6321205588285577, 0.7768698398515702]\n",
            "Media de falhas:  [0, 37073.98432, 200306.31582093087, 554388.772221338, 785572.7429235202, 3905249.5493068546, 25758478.67305003, 30362750.047434427, 60287102.70056195, 110080004.7317743, 132522453.24444523, 139916720.45848763, 153878433.1956122, 235647785.17307842, 255616919.12397462, 1453102793.5042152, 1678444459.9720726, 1688987476.7073307, 5735794835.73024, 5349012018.089143]\n",
            "Custo =  376496779733.7169\n",
            "\n",
            "=========================================================================\n",
            "\n",
            "Número de ciclos de manutenção: 13 5\n",
            "Tempos para manutenções preventivas: [0, 41, 71, 150, 194, 235, 323, 386, 394, 439, 529, 593, 655, 695]\n",
            "Severidade para cada subsistema: [0.75, 0.75, 0.25, 0.5, 0.5, 0.5, 0.75, 0.5, 0.5, 0.5, 0.75, 0.5, 0.25]\n",
            "Número de Sisemas: 5\n",
            "Fator:  [0.3296799539643607, 0.7768698398515702, 0.7768698398515702, 0.3934693402873666, 0.6321205588285577, 0.6321205588285577, 0.6321205588285577, 0.7768698398515702, 0.6321205588285577, 0.6321205588285577, 0.6321205588285577, 0.7768698398515702, 0.6321205588285577, 0.3934693402873666]\n",
            "Media de falhas:  [0, 37073.98432, 232897.25890837552, 2688185.840252019, 3567649.1663958784, 28529281.25534243, 78688142.37122168, 134702146.39050782, 140527071.33722442, 152120330.62857652, 438946526.54523385, 719761309.5087166, 1113887588.4042943, 1164076570.0510201, 848721794.7050426]\n",
            "Custo =  86471897641.11714\n",
            "\n",
            "=========================================================================\n",
            "\n",
            "Número de ciclos de manutenção: 16 5\n",
            "Tempos para manutenções preventivas: [0, 23, 44, 74, 191, 239, 256, 323, 387, 438, 452, 502, 525, 599, 659, 666, 699]\n",
            "Severidade para cada subsistema: [0.5, 0.75, 0.75, 0.5, 0.5, 0.75, 0.5, 0.75, 0.5, 0.25, 0.5, 0.5, 0.75, 0.5, 0.75, 0.75]\n",
            "Número de Sisemas: 5\n",
            "Fator:  [0.3296799539643607, 0.6321205588285577, 0.7768698398515702, 0.7768698398515702, 0.6321205588285577, 0.6321205588285577, 0.7768698398515702, 0.6321205588285577, 0.7768698398515702, 0.6321205588285577, 0.3934693402873666, 0.6321205588285577, 0.6321205588285577, 0.7768698398515702, 0.6321205588285577, 0.7768698398515702, 0.7768698398515702]\n",
            "Media de falhas:  [0, 2059.6297600000003, 22277.985322177665, 89178.92813346491, 13663963.132121272, 15574299.15765594, 17962098.58911707, 50398439.9114767, 64703411.58294128, 132500916.52486642, 135219946.0600415, 245983197.8270634, 613795716.2317843, 963129758.052911, 1351139793.9460738, 1356898527.224374, 1605794275.0162313, 1576451938.1732512]\n",
            "Custo =  162347281794.75388\n",
            "\n",
            "=========================================================================\n",
            "\n",
            "Número de ciclos de manutenção: 15 5\n",
            "Tempos para manutenções preventivas: [0, 17, 47, 76, 191, 251, 279, 324, 388, 439, 458, 528, 599, 659, 676, 704]\n",
            "Severidade para cada subsistema: [0.5, 0.75, 0.75, 0.5, 0.75, 0.25, 0.5, 0.75, 0.5, 0.75, 0.5, 0.75, 0.5, 0.75, 0.25]\n",
            "Número de Sisemas: 5\n",
            "Fator:  [0.3296799539643607, 0.6321205588285577, 0.7768698398515702, 0.7768698398515702, 0.6321205588285577, 0.7768698398515702, 0.3934693402873666, 0.6321205588285577, 0.7768698398515702, 0.6321205588285577, 0.7768698398515702, 0.6321205588285577, 0.7768698398515702, 0.6321205588285577, 0.7768698398515702, 0.3934693402873666]\n",
            "Media de falhas:  [0, 454.35424000000006, 39289.54418229029, 106809.54792755566, 12909805.402290512, 16506185.781261398, 22433437.394531958, 26675781.552362833, 316880948.81018543, 385261473.32006323, 389377783.10816497, 592808462.3641845, 662335831.1452997, 1050345867.0384624, 1066361910.2294595, 1280892835.8852193, 1250421852.5206242]\n"
          ]
        },
        {
          "output_type": "stream",
          "name": "stderr",
          "text": [
            "pyswarms.single.global_best:  42%|████▏     |42/100, best_cost=4.03e+10"
          ]
        },
        {
          "output_type": "stream",
          "name": "stdout",
          "text": [
            "Custo =  103287819658.9224\n",
            "\n",
            "=========================================================================\n",
            "\n",
            "Número de ciclos de manutenção: 17 5\n",
            "Tempos para manutenções preventivas: [0, 22, 48, 78, 117, 191, 294, 324, 352, 388, 393, 440, 477, 537, 588, 619, 654, 666]\n",
            "Severidade para cada subsistema: [0.5, 0.75, 0.75, 0.5, 0.5, 0.25, 0.5, 0.5, 0.75, 0.5, 0.5, 0.25, 0.5, 0.75, 0.75, 0.5, 0.75]\n",
            "Número de Sisemas: 5\n",
            "Fator:  [0.3296799539643607, 0.6321205588285577, 0.7768698398515702, 0.7768698398515702, 0.6321205588285577, 0.6321205588285577, 0.3934693402873666, 0.6321205588285577, 0.6321205588285577, 0.7768698398515702, 0.6321205588285577, 0.6321205588285577, 0.3934693402873666, 0.6321205588285577, 0.7768698398515702, 0.7768698398515702, 0.6321205588285577, 0.7768698398515702]\n",
            "Media de falhas:  [0, 1649.16224, 37370.29972363454, 115496.26904302224, 297671.319540482, 3510823.718471193, 52932111.283772185, 64302816.972703084, 153068315.2443203, 181140804.8650023, 184702518.7111462, 197228293.8719341, 261202078.9948737, 439647657.512662, 1694232481.9784813, 1838743656.1926193, 1872416809.81241, 1882677942.7800806, 1658976037.9065936]\n",
            "Custo =  180043596937.63086\n",
            "\n",
            "=========================================================================\n",
            "\n",
            "Número de ciclos de manutenção: 14 5\n",
            "Tempos para manutenções preventivas: [0, 28, 49, 75, 114, 195, 325, 333, 385, 404, 442, 502, 576, 637, 719]\n",
            "Severidade para cada subsistema: [0.5, 0.75, 0.75, 0.5, 0.5, 0.5, 0.5, 0.75, 0.5, 0.5, 0.5, 0.75, 0.5, 0.25]\n",
            "Número de Sisemas: 5\n",
            "Fator:  [0.3296799539643607, 0.6321205588285577, 0.7768698398515702, 0.7768698398515702, 0.6321205588285577, 0.6321205588285577, 0.6321205588285577, 0.6321205588285577, 0.7768698398515702, 0.6321205588285577, 0.6321205588285577, 0.6321205588285577, 0.7768698398515702, 0.6321205588285577, 0.3934693402873666]\n",
            "Media de falhas:  [0, 5507.317760000001, 36594.517825949944, 88915.31437505397, 260595.26167777242, 4628479.389652893, 110943837.96995792, 113933640.40923217, 156886455.7085986, 172872363.88649505, 182024924.49946448, 320556111.86357605, 622436044.174619, 970075805.4066867, 1132517076.761931, 739081366.3026359]\n",
            "Custo =  82145144702.96661\n",
            "\n",
            "=========================================================================\n",
            "\n",
            "Número de ciclos de manutenção: 13 5\n",
            "Tempos para manutenções preventivas: [0, 47, 72, 112, 152, 198, 238, 241, 275, 325, 382, 412, 443, 499]\n",
            "Severidade para cada subsistema: [0.75, 0.75, 0.5, 0.25, 0.5, 0.5, 0.75, 0.5, 0.5, 0.75, 0.5, 0.5, 0.5]\n",
            "Número de Sisemas: 5\n",
            "Fator:  [0.3296799539643607, 0.7768698398515702, 0.7768698398515702, 0.6321205588285577, 0.3934693402873666, 0.6321205588285577, 0.6321205588285577, 0.7768698398515702, 0.6321205588285577, 0.6321205588285577, 0.7768698398515702, 0.6321205588285577, 0.6321205588285577, 0.6321205588285577]\n",
            "Media de falhas:  [0, 73390.40224000001, 247783.83511875238, 424706.58621972345, 792611.4450245706, 4136492.652939415, 29795079.34271597, 30097162.711395364, 37229008.29017696, 42431040.929593466, 89519296.61810564, 118128758.13841921, 125010986.79269554, 249317676.17864478, 779795282.2344654]\n",
            "Custo =  42498376308.00348\n",
            "\n",
            "=========================================================================\n",
            "\n",
            "Número de ciclos de manutenção: 15 5\n",
            "Tempos para manutenções preventivas: [0, 45, 69, 112, 149, 155, 198, 235, 241, 270, 325, 381, 417, 444, 507, 664]\n",
            "Severidade para cada subsistema: [0.75, 0.75, 0.5, 0.25, 0.25, 0.5, 0.5, 0.75, 0.5, 0.5, 0.75, 0.5, 0.5, 0.5, 0.25]\n",
            "Número de Sisemas: 5\n",
            "Fator:  [0.3296799539643607, 0.7768698398515702, 0.7768698398515702, 0.6321205588285577, 0.3934693402873666, 0.3934693402873666, 0.6321205588285577, 0.6321205588285577, 0.7768698398515702, 0.6321205588285577, 0.6321205588285577, 0.7768698398515702, 0.6321205588285577, 0.6321205588285577, 0.6321205588285577, 0.3934693402873666]\n",
            "Media de falhas:  [0, 59049.00000000001, 200240.72711947432, 417266.4391094961, 707087.1396773488, 814916.6282372023, 13915551.737711076, 36537061.70039334, 37153090.47520144, 42615805.65609028, 48867085.88292273, 94417973.51529345, 131396774.6851461, 137142804.61171156, 290020952.4427194, 1748447450.506076, 1531068728.7534733]\n",
            "Custo =  74098962802.51332\n",
            "\n",
            "=========================================================================\n",
            "\n",
            "Número de ciclos de manutenção: 13 5\n",
            "Tempos para manutenções preventivas: [0, 43, 68, 115, 148, 156, 196, 232, 324, 380, 418, 444, 468, 602]\n",
            "Severidade para cada subsistema: [0.75, 0.75, 0.5, 0.25, 0.25, 0.5, 0.5, 0.5, 0.75, 0.5, 0.5, 0.5, 0.25]\n",
            "Número de Sisemas: 5\n",
            "Fator:  [0.3296799539643607, 0.7768698398515702, 0.7768698398515702, 0.6321205588285577, 0.3934693402873666, 0.3934693402873666, 0.6321205588285577, 0.6321205588285577, 0.6321205588285577, 0.7768698398515702, 0.6321205588285577, 0.6321205588285577, 0.6321205588285577, 0.3934693402873666]\n",
            "Media de falhas:  [0, 47042.70176, 185226.87284751772, 482241.46590155753, 700940.495398789, 851700.158369563, 12572338.19828991, 33492936.96140539, 88184990.50150852, 133298595.55892521, 173065316.20538604, 178529642.87057737, 215164240.97247547, 1027644043.0061545, 1020084178.0457442]\n",
            "Custo =  59755804674.91739\n",
            "\n",
            "=========================================================================\n",
            "\n",
            "Número de ciclos de manutenção: 11 5\n",
            "Tempos para manutenções preventivas: [0, 42, 67, 117, 148, 154, 193, 232, 324, 380, 411, 443]\n",
            "Severidade para cada subsistema: [0.75, 0.75, 0.5, 0.25, 0.25, 0.5, 0.5, 0.5, 0.75, 0.5, 0.5]\n",
            "Número de Sisemas: 5\n",
            "Fator:  [0.3296799539643607, 0.7768698398515702, 0.7768698398515702, 0.6321205588285577, 0.3934693402873666, 0.3934693402873666, 0.6321205588285577, 0.6321205588285577, 0.6321205588285577, 0.7768698398515702, 0.6321205588285577, 0.6321205588285577]\n",
            "Media de falhas:  [0, 41821.194240000004, 171932.28712619285, 541552.5261969097, 732014.4974130662, 837132.7676928852, 11584125.700847788, 34172119.295914344, 88864172.83601747, 133977777.89343417, 163400230.4174766, 170595297.34777084, 1207056680.2097254]\n",
            "Custo =  40270803934.94772\n",
            "\n",
            "=========================================================================\n",
            "\n",
            "Número de ciclos de manutenção: 15 5\n",
            "Tempos para manutenções preventivas: [0, 42, 69, 149, 151, 190, 232, 324, 347, 381, 402, 442, 485, 580, 681, 718]\n",
            "Severidade para cada subsistema: [0.75, 0.75, 0.25, 0.25, 0.5, 0.5, 0.5, 0.5, 0.75, 0.5, 0.5, 0.75, 0.75, 0.75, 0.5]\n",
            "Número de Sisemas: 5\n",
            "Fator:  [0.3296799539643607, 0.7768698398515702, 0.7768698398515702, 0.3934693402873666, 0.3934693402873666, 0.6321205588285577, 0.6321205588285577, 0.6321205588285577, 0.6321205588285577, 0.7768698398515702, 0.6321205588285577, 0.6321205588285577, 0.7768698398515702, 0.7768698398515702, 0.7768698398515702, 0.6321205588285577]\n",
            "Media de falhas:  [0, 41821.194240000004, 199471.42449324293, 2727330.2538357833, 2731739.3482696135, 12821341.946335627, 37076630.665531345, 91768684.20563447, 102671410.5545568, 127149216.69465944, 144629778.9260487, 154515823.85511672, 235711371.61640275, 666855571.6256776, 863068970.8810952, 914219651.6571778, 880489986.8103782]\n",
            "Custo =  55129954322.19774\n",
            "\n",
            "=========================================================================\n",
            "\n",
            "Número de ciclos de manutenção: 15 5\n",
            "Tempos para manutenções preventivas: [0, 26, 41, 72, 149, 188, 232, 264, 284, 323, 381, 395, 441, 507, 590, 636]\n",
            "Severidade para cada subsistema: [0.5, 0.75, 0.75, 0.25, 0.5, 0.5, 0.5, 0.25, 0.5, 0.75, 0.5, 0.5, 0.75, 0.75, 0.5]\n",
            "Número de Sisemas: 5\n",
            "Fator:  [0.3296799539643607, 0.6321205588285577, 0.7768698398515702, 0.7768698398515702, 0.3934693402873666, 0.6321205588285577, 0.6321205588285577, 0.6321205588285577, 0.3934693402873666, 0.6321205588285577, 0.7768698398515702, 0.6321205588285577, 0.6321205588285577, 0.7768698398515702, 0.7768698398515702, 0.6321205588285577]\n",
            "Media de falhas:  [0, 3802.0403200000005, 14763.008372518674, 81018.52587112748, 2314714.068470831, 2931557.0704335687, 28299475.357973766, 33971114.99265401, 38258039.97892811, 53731367.37288643, 299093587.6658525, 309646997.3863429, 321840921.43501925, 484056617.9101777, 866881449.2926029, 910843915.2933036, 896690904.1619124]\n",
            "Custo =  60324041377.77543\n",
            "\n",
            "=========================================================================\n",
            "\n",
            "Número de ciclos de manutenção: 14 5\n",
            "Tempos para manutenções preventivas: [0, 17, 41, 74, 186, 232, 251, 323, 382, 396, 441, 538, 591, 641, 690]\n",
            "Severidade para cada subsistema: [0.5, 0.75, 0.75, 0.5, 0.5, 0.5, 0.5, 0.75, 0.5, 0.5, 0.5, 0.75, 0.5, 0.75]\n",
            "Número de Sisemas: 5\n",
            "Fator:  [0.3296799539643607, 0.6321205588285577, 0.7768698398515702, 0.7768698398515702, 0.6321205588285577, 0.6321205588285577, 0.6321205588285577, 0.6321205588285577, 0.7768698398515702, 0.6321205588285577, 0.6321205588285577, 0.6321205588285577, 0.7768698398515702, 0.6321205588285577, 0.7768698398515702]\n",
            "Media de falhas:  [0, 454.35424000000006, 18171.01560270502, 100166.37090275074, 11316397.845461247, 12918512.808759987, 15428219.106717559, 51636444.26639421, 100956409.03324616, 111615502.54522222, 123390011.47497624, 462068063.47502637, 683172383.9106143, 965329519.3184087, 1029728406.225277, 730276134.7908256]\n",
            "Custo =  82320463521.90967\n",
            "\n",
            "=========================================================================\n",
            "\n",
            "Número de ciclos de manutenção: 14 5\n",
            "Tempos para manutenções preventivas: [0, 12, 41, 75, 185, 232, 264, 323, 382, 400, 441, 588, 646, 667, 696]\n",
            "Severidade para cada subsistema: [0.5, 0.75, 0.75, 0.5, 0.5, 0.5, 0.5, 0.75, 0.5, 0.5, 0.75, 0.5, 0.5, 0.5]\n",
            "Número de Sisemas: 5\n",
            "Fator:  [0.3296799539643607, 0.6321205588285577, 0.7768698398515702, 0.7768698398515702, 0.6321205588285577, 0.6321205588285577, 0.6321205588285577, 0.6321205588285577, 0.7768698398515702, 0.6321205588285577, 0.6321205588285577, 0.7768698398515702, 0.6321205588285577, 0.6321205588285577, 0.6321205588285577]\n",
            "Media de falhas:  [0, 79.62624000000001, 22390.690950577224, 113301.66174737239, 10575219.665020447, 12252557.166306539, 17924196.80098678, 44837898.42481716, 94157863.1916691, 108660320.56070906, 118844984.47468041, 987762927.622158, 1333240281.847147, 1352632966.1503053, 1565582379.2446184, 1247036252.8545446]\n",
            "Custo =  104439703220.75555\n",
            "\n",
            "=========================================================================\n",
            "\n",
            "Número de ciclos de manutenção: 16 5\n",
            "Tempos para manutenções preventivas: [0, 15, 41, 74, 150, 186, 232, 278, 324, 383, 408, 442, 466, 496, 584, 644, 705]\n",
            "Severidade para cada subsistema: [0.5, 0.75, 0.75, 0.25, 0.5, 0.5, 0.25, 0.5, 0.75, 0.5, 0.5, 0.25, 0.75, 0.75, 0.5, 0.25]\n",
            "Número de Sisemas: 5\n",
            "Fator:  [0.3296799539643607, 0.6321205588285577, 0.7768698398515702, 0.7768698398515702, 0.3934693402873666, 0.6321205588285577, 0.6321205588285577, 0.3934693402873666, 0.6321205588285577, 0.7768698398515702, 0.6321205588285577, 0.6321205588285577, 0.3934693402873666, 0.7768698398515702, 0.7768698398515702, 0.6321205588285577, 0.3934693402873666]\n",
            "Media de falhas:  [0, 243.00000000000003, 19707.00947859122, 101702.36477863694, 2269671.126009229, 2773982.948691094, 29256208.161768284, 40317346.53213548, 59668221.28468357, 314411845.24999624, 336854293.7626672, 344633444.2625243, 380659820.82658887, 439396819.155129, 2495322244.4634104, 2563178948.906683, 2658572991.742696, 2311099990.198148]\n",
            "Custo =  158210549825.95355\n",
            "\n",
            "=========================================================================\n",
            "\n",
            "Número de ciclos de manutenção: 18 5\n",
            "Tempos para manutenções preventivas: [0, 25, 41, 70, 119, 152, 189, 232, 259, 294, 324, 357, 384, 414, 442, 578, 600, 634, 673]\n",
            "Severidade para cada subsistema: [0.5, 0.75, 0.75, 0.5, 0.25, 0.5, 0.5, 0.75, 0.25, 0.5, 0.5, 0.75, 0.5, 0.5, 0.75, 0.25, 0.5, 0.75]\n",
            "Número de Sisemas: 5\n",
            "Fator:  [0.3296799539643607, 0.6321205588285577, 0.7768698398515702, 0.7768698398515702, 0.6321205588285577, 0.3934693402873666, 0.6321205588285577, 0.6321205588285577, 0.7768698398515702, 0.3934693402873666, 0.6321205588285577, 0.6321205588285577, 0.7768698398515702, 0.6321205588285577, 0.6321205588285577, 0.7768698398515702, 0.3934693402873666, 0.6321205588285577, 0.7768698398515702]\n",
            "Media de falhas:  [0, 3125.0000000000005, 14772.902067950688, 67796.26471097027, 428039.9860679425, 663506.2587496535, 2704930.5630477984, 27516366.90869818, 31794863.88505961, 41292196.03567293, 43458760.46833053, 153477279.88936716, 172816614.71917897, 201966284.69837248, 207901902.931467, 931187147.6442358, 1019656604.1316521, 1048563850.6404486, 2719280774.0017376, 2473497445.2396173]\n",
            "Custo =  251123247412.254\n",
            "\n",
            "=========================================================================\n",
            "\n",
            "Número de ciclos de manutenção: 14 5\n",
            "Tempos para manutenções preventivas: [0, 42, 67, 115, 149, 154, 193, 232, 264, 324, 350, 384, 411, 442, 603]\n",
            "Severidade para cada subsistema: [0.75, 0.75, 0.5, 0.25, 0.25, 0.5, 0.5, 0.75, 0.5, 0.5, 0.75, 0.5, 0.5, 0.25]\n",
            "Número de Sisemas: 5\n",
            "Fator:  [0.3296799539643607, 0.7768698398515702, 0.7768698398515702, 0.6321205588285577, 0.3934693402873666, 0.3934693402873666, 0.6321205588285577, 0.6321205588285577, 0.7768698398515702, 0.6321205588285577, 0.6321205588285577, 0.7768698398515702, 0.6321205588285577, 0.6321205588285577, 0.3934693402873666]\n",
            "Media de falhas:  [0, 41821.194240000004, 171932.28712619285, 488007.77165801846, 726308.5019789666, 812961.5357274368, 11559954.468882341, 34147948.0639489, 39819587.69862914, 67696052.84319983, 70000348.09798422, 95223499.79391204, 120385594.51532024, 127211965.20408896, 1226399875.9573328, 1215086654.0879169]\n",
            "Custo =  56458647778.645294\n",
            "\n",
            "=========================================================================\n",
            "\n",
            "Número de ciclos de manutenção: 16 5\n",
            "Tempos para manutenções preventivas: [0, 42, 67, 111, 148, 155, 197, 232, 253, 270, 324, 345, 384, 403, 442, 451, 704]\n",
            "Severidade para cada subsistema: [0.75, 0.75, 0.5, 0.25, 0.25, 0.5, 0.5, 0.75, 0.5, 0.5, 0.5, 0.75, 0.5, 0.5, 0.5, 0.5]\n",
            "Número de Sisemas: 5\n",
            "Fator:  [0.3296799539643607, 0.7768698398515702, 0.7768698398515702, 0.6321205588285577, 0.3934693402873666, 0.3934693402873666, 0.6321205588285577, 0.6321205588285577, 0.7768698398515702, 0.6321205588285577, 0.6321205588285577, 0.6321205588285577, 0.7768698398515702, 0.6321205588285577, 0.6321205588285577, 0.6321205588285577, 0.6321205588285577]\n",
            "Media de falhas:  [0, 41821.194240000004, 171932.28712619285, 399495.96493223985, 684219.1957416441, 811415.6705491375, 13356379.228974894, 33720748.477805555, 36624670.47594176, 39560529.368250966, 45534430.50153821, 55165278.8390507, 84863662.3084434, 100695097.41525958, 110210377.64980994, 121454510.96563196, 4209534715.6745696, 3865296212.988996]\n",
            "Custo =  97417810261.06189\n",
            "\n",
            "=========================================================================\n",
            "\n",
            "Número de ciclos de manutenção: 15 5\n",
            "Tempos para manutenções preventivas: [0, 42, 69, 111, 147, 154, 198, 232, 252, 281, 324, 337, 383, 396, 441, 662]\n",
            "Severidade para cada subsistema: [0.75, 0.75, 0.5, 0.25, 0.25, 0.5, 0.5, 0.75, 0.5, 0.5, 0.5, 0.75, 0.5, 0.5, 0.5]\n",
            "Número de Sisemas: 5\n",
            "Fator:  [0.3296799539643607, 0.7768698398515702, 0.7768698398515702, 0.6321205588285577, 0.3934693402873666, 0.3934693402873666, 0.6321205588285577, 0.6321205588285577, 0.7768698398515702, 0.6321205588285577, 0.6321205588285577, 0.6321205588285577, 0.7768698398515702, 0.6321205588285577, 0.6321205588285577, 0.6321205588285577]\n",
            "Media de falhas:  [0, 41821.194240000004, 199471.42449324293, 398517.60251170734, 660693.4065506085, 784701.9342739257, 14183304.929945165, 33991081.37600181, 36694153.9977304, 43047786.95281636, 46959687.63592158, 52179130.2464255, 88209764.42384133, 98066062.10075797, 109840571.03051199, 2719175936.1533694, 2508129828.2809143]\n",
            "Custo =  75137626312.62445\n",
            "\n",
            "=========================================================================\n",
            "\n",
            "Número de ciclos de manutenção: 12 5\n",
            "Tempos para manutenções preventivas: [0, 42, 71, 113, 148, 153, 194, 232, 324, 382, 441, 478, 692]\n",
            "Severidade para cada subsistema: [0.75, 0.75, 0.5, 0.25, 0.25, 0.5, 0.5, 0.5, 0.75, 0.5, 0.25, 0.75]\n",
            "Número de Sisemas: 5\n",
            "Fator:  [0.3296799539643607, 0.7768698398515702, 0.7768698398515702, 0.6321205588285577, 0.3934693402873666, 0.3934693402873666, 0.6321205588285577, 0.6321205588285577, 0.6321205588285577, 0.7768698398515702, 0.6321205588285577, 0.3934693402873666, 0.7768698398515702]\n",
            "Media de falhas:  [0, 41821.194240000004, 231308.33289065462, 438182.2303642271, 688216.4912750148, 772670.2187282601, 12292398.366869155, 34324721.17494729, 89016774.71505043, 137214504.65967298, 220878232.6243562, 232489072.85024828, 3060177094.434375, 101667806.73280144]"
          ]
        },
        {
          "output_type": "stream",
          "name": "stderr",
          "text": [
            "pyswarms.single.global_best:  57%|█████▋    |57/100, best_cost=3.66e+10"
          ]
        },
        {
          "output_type": "stream",
          "name": "stdout",
          "text": [
            "\n",
            "Custo =  197703089448.84427\n",
            "\n",
            "=========================================================================\n",
            "\n",
            "Número de ciclos de manutenção: 16 5\n",
            "Tempos para manutenções preventivas: [0, 41, 73, 116, 149, 152, 189, 232, 258, 285, 324, 381, 441, 457, 484, 572, 718]\n",
            "Severidade para cada subsistema: [0.75, 0.75, 0.5, 0.25, 0.25, 0.5, 0.5, 0.5, 0.25, 0.5, 0.75, 0.5, 0.25, 0.75, 0.75, 0.25]\n",
            "Número de Sisemas: 5\n",
            "Fator:  [0.3296799539643607, 0.7768698398515702, 0.7768698398515702, 0.6321205588285577, 0.3934693402873666, 0.3934693402873666, 0.6321205588285577, 0.6321205588285577, 0.6321205588285577, 0.3934693402873666, 0.6321205588285577, 0.7768698398515702, 0.6321205588285577, 0.3934693402873666, 0.7768698398515702, 0.7768698398515702, 0.3934693402873666]\n",
            "Media de falhas:  [0, 37073.98432, 270353.66069919075, 504410.90636018885, 727211.855251665, 775553.7582673617, 10161312.07424234, 34972748.41989272, 39000835.953084655, 45153903.453848235, 60807323.585756555, 302122577.7910304, 387627928.0716926, 390946097.1243321, 438471124.9596068, 2328844241.5911326, 2808883287.7746677, 2775153622.927868]\n",
            "Custo =  137331713761.43129\n",
            "\n",
            "=========================================================================\n",
            "\n",
            "Número de ciclos de manutenção: 16 5\n",
            "Tempos para manutenções preventivas: [0, 29, 41, 74, 150, 185, 232, 274, 324, 342, 381, 393, 442, 502, 533, 579, 704]\n",
            "Severidade para cada subsistema: [0.5, 0.75, 0.75, 0.25, 0.5, 0.5, 0.25, 0.5, 0.5, 0.75, 0.5, 0.5, 0.75, 0.5, 0.75, 0.75]\n",
            "Número de Sisemas: 5\n",
            "Fator:  [0.3296799539643607, 0.6321205588285577, 0.7768698398515702, 0.7768698398515702, 0.3934693402873666, 0.6321205588285577, 0.6321205588285577, 0.3934693402873666, 0.6321205588285577, 0.6321205588285577, 0.7768698398515702, 0.6321205588285577, 0.6321205588285577, 0.7768698398515702, 0.6321205588285577, 0.7768698398515702, 0.7768698398515702]\n",
            "Media de falhas:  [0, 6563.56768, 15504.368977704846, 97499.72427775056, 2265468.4855083427, 2733573.1411468326, 29773792.271261677, 39042563.92904647, 60666764.280422695, 112241541.20462191, 141069687.10603338, 149861964.94438925, 163472642.02944577, 302003829.3935573, 382598275.3638517, 414035422.6231462, 1685448139.1971984, 1654977155.8326032]\n",
            "Custo =  87780558574.63402\n",
            "\n",
            "=========================================================================\n",
            "\n",
            "Número de ciclos de manutenção: 16 5\n",
            "Tempos para manutenções preventivas: [0, 21, 41, 73, 184, 232, 247, 270, 324, 348, 381, 403, 442, 526, 583, 640, 670]\n",
            "Severidade para cada subsistema: [0.5, 0.75, 0.75, 0.5, 0.5, 0.5, 0.25, 0.5, 0.5, 0.75, 0.5, 0.5, 0.5, 0.75, 0.5, 0.5]\n",
            "Número de Sisemas: 5\n",
            "Fator:  [0.3296799539643607, 0.6321205588285577, 0.7768698398515702, 0.7768698398515702, 0.6321205588285577, 0.6321205588285577, 0.6321205588285577, 0.3934693402873666, 0.6321205588285577, 0.6321205588285577, 0.7768698398515702, 0.6321205588285577, 0.6321205588285577, 0.6321205588285577, 0.7768698398515702, 0.6321205588285577, 0.6321205588285577]\n",
            "Media de falhas:  [0, 1306.9123200000001, 15834.158619245372, 89625.5216294221, 10782167.115275789, 12537362.201711081, 14344272.1549802, 18487264.403438568, 42510927.42335512, 115583836.73973219, 139219152.34742978, 157792565.19566476, 167307845.43021512, 422770270.56830513, 651619386.629809, 978235064.2643225, 1008538410.4897097, 772211607.7616824]\n",
            "Custo =  91612171040.35991\n",
            "\n",
            "=========================================================================\n",
            "\n",
            "Número de ciclos de manutenção: 16 5\n",
            "Tempos para manutenções preventivas: [0, 14, 41, 70, 150, 184, 232, 275, 324, 351, 382, 410, 442, 503, 522, 584, 641]\n",
            "Severidade para cada subsistema: [0.5, 0.75, 0.75, 0.25, 0.5, 0.5, 0.25, 0.5, 0.5, 0.75, 0.5, 0.5, 0.75, 0.5, 0.75, 0.5]\n",
            "Número de Sisemas: 5\n",
            "Fator:  [0.3296799539643607, 0.6321205588285577, 0.7768698398515702, 0.7768698398515702, 0.3934693402873666, 0.6321205588285577, 0.6321205588285577, 0.3934693402873666, 0.6321205588285577, 0.6321205588285577, 0.7768698398515702, 0.6321205588285577, 0.6321205588285577, 0.7768698398515702, 0.6321205588285577, 0.7768698398515702, 0.6321205588285577]\n",
            "Media de falhas:  [0, 172.10368000000003, 20553.543227718274, 73576.90587073784, 2631120.129874917, 3065072.1755764605, 30663957.41197357, 40360202.80300204, 61404545.861429736, 146140648.15133855, 168339903.71075708, 194305946.88750207, 201442835.22438616, 343938114.8251469, 387690932.1599057, 438777491.98379105, 767349084.8174298, 751733957.214767]\n",
            "Custo =  71560628899.19052\n",
            "\n",
            "=========================================================================\n",
            "\n",
            "Número de ciclos de manutenção: 18 5\n",
            "Tempos para manutenções preventivas: [0, 22, 41, 69, 152, 186, 232, 275, 324, 348, 383, 413, 442, 451, 484, 526, 581, 601, 634]\n",
            "Severidade para cada subsistema: [0.5, 0.75, 0.75, 0.25, 0.5, 0.5, 0.25, 0.5, 0.5, 0.75, 0.5, 0.5, 0.25, 0.75, 0.5, 0.75, 0.25, 0.5]\n",
            "Número de Sisemas: 5\n",
            "Fator:  [0.3296799539643607, 0.6321205588285577, 0.7768698398515702, 0.7768698398515702, 0.3934693402873666, 0.6321205588285577, 0.6321205588285577, 0.3934693402873666, 0.6321205588285577, 0.6321205588285577, 0.7768698398515702, 0.6321205588285577, 0.6321205588285577, 0.3934693402873666, 0.7768698398515702, 0.6321205588285577, 0.7768698398515702, 0.3934693402873666, 0.6321205588285577]\n",
            "Media de falhas:  [0, 1649.16224, 15432.435286261049, 62681.422075061455, 3013863.776204868, 3461888.4498127657, 29944113.662889957, 39640359.05391842, 60684702.11234613, 133757611.4287232, 159598287.1123705, 188476902.64649987, 194702773.92203978, 205946907.23786178, 265364895.30137193, 929174654.9531499, 970735349.6373603, 1051243651.7850349, 1079057633.9311693, 82106005.32619703]\n",
            "Custo =  240172459708.23486\n",
            "\n",
            "=========================================================================\n",
            "\n",
            "Número de ciclos de manutenção: 15 5\n",
            "Tempos para manutenções preventivas: [0, 42, 68, 153, 189, 232, 255, 324, 343, 383, 416, 442, 471, 575, 603, 680]\n",
            "Severidade para cada subsistema: [0.75, 0.75, 0.25, 0.5, 0.5, 0.75, 0.5, 0.5, 0.75, 0.5, 0.5, 0.25, 0.75, 0.25, 0.5]\n",
            "Número de Sisemas: 5\n",
            "Fator:  [0.3296799539643607, 0.7768698398515702, 0.7768698398515702, 0.3934693402873666, 0.6321205588285577, 0.6321205588285577, 0.7768698398515702, 0.6321205588285577, 0.6321205588285577, 0.7768698398515702, 0.6321205588285577, 0.6321205588285577, 0.3934693402873666, 0.7768698398515702, 0.3934693402873666, 0.6321205588285577]\n",
            "Media de falhas:  [0, 41821.194240000004, 185193.57675510968, 3412688.165010312, 3941031.1362647642, 28752467.481915146, 32081401.946005434, 66362065.36122624, 67759527.82284817, 98081276.63752314, 131200558.75411743, 136574998.6970925, 182835078.30935302, 657270274.7666502, 1435350288.7080317, 1556818291.6178968, -962920775.0730779]\n",
            "Custo =  281358048496.95575\n",
            "\n",
            "=========================================================================\n",
            "\n",
            "Número de ciclos de manutenção: 14 5\n",
            "Tempos para manutenções preventivas: [0, 43, 69, 117, 149, 154, 192, 232, 324, 343, 382, 415, 442, 573, 601]\n",
            "Severidade para cada subsistema: [0.75, 0.75, 0.5, 0.25, 0.25, 0.5, 0.5, 0.5, 0.5, 0.75, 0.5, 0.5, 0.75, 0.25]\n",
            "Número de Sisemas: 5\n",
            "Fator:  [0.3296799539643607, 0.7768698398515702, 0.7768698398515702, 0.6321205588285577, 0.3934693402873666, 0.3934693402873666, 0.6321205588285577, 0.6321205588285577, 0.6321205588285577, 0.6321205588285577, 0.7768698398515702, 0.6321205588285577, 0.6321205588285577, 0.7768698398515702, 0.3934693402873666]\n",
            "Media de falhas:  [0, 47042.70176, 199163.34689142005, 526573.0813569118, 734657.3769926815, 821310.4107411517, 11083922.455721606, 34227576.06893699, 88919629.60904011, 97349144.3405799, 126465202.19612607, 159279252.11308855, 164931103.71187222, 826709787.2649682, 941997029.7734407, 941487260.1823084]\n",
            "Custo =  54214288629.99872\n",
            "\n",
            "=========================================================================\n",
            "\n",
            "Número de ciclos de manutenção: 15 5\n",
            "Tempos para manutenções preventivas: [0, 43, 71, 115, 149, 155, 194, 232, 264, 324, 341, 382, 409, 442, 572, 709]\n",
            "Severidade para cada subsistema: [0.75, 0.75, 0.5, 0.25, 0.25, 0.5, 0.5, 0.5, 0.5, 0.5, 0.75, 0.5, 0.5, 0.75, 0.5]\n",
            "Número de Sisemas: 5\n",
            "Fator:  [0.3296799539643607, 0.7768698398515702, 0.7768698398515702, 0.6321205588285577, 0.3934693402873666, 0.3934693402873666, 0.6321205588285577, 0.6321205588285577, 0.6321205588285577, 0.6321205588285577, 0.6321205588285577, 0.7768698398515702, 0.6321205588285577, 0.6321205588285577, 0.7768698398515702, 0.6321205588285577]\n",
            "Media de falhas:  [0, 47042.70176, 230259.3824650065, 475517.9316531413, 713818.6619740895, 821648.150533943, 11794814.129418792, 33827136.93749693, 39498776.57217717, 67375241.71674787, 74670991.14418718, 105611195.40491246, 130301756.29912797, 137756191.26870033, 787726180.9621944, 2275525580.740858, 2243909556.519322]\n",
            "Custo =  80060129443.71165\n",
            "\n",
            "=========================================================================\n",
            "\n",
            "Número de ciclos de manutenção: 15 5\n",
            "Tempos para manutenções preventivas: [0, 43, 72, 115, 149, 154, 195, 232, 323, 341, 382, 400, 442, 482, 510, 574]\n",
            "Severidade para cada subsistema: [0.75, 0.75, 0.5, 0.25, 0.25, 0.5, 0.5, 0.5, 0.5, 0.75, 0.5, 0.5, 0.75, 0.75, 0.75]\n",
            "Número de Sisemas: 5\n",
            "Fator:  [0.3296799539643607, 0.7768698398515702, 0.7768698398515702, 0.6321205588285577, 0.3934693402873666, 0.3934693402873666, 0.6321205588285577, 0.6321205588285577, 0.6321205588285577, 0.6321205588285577, 0.7768698398515702, 0.6321205588285577, 0.6321205588285577, 0.7768698398515702, 0.7768698398515702, 0.7768698398515702]\n",
            "Media de falhas:  [0, 47042.70176, 247538.62882291002, 477242.1696084058, 715542.899929354, 802195.9336778241, 12562858.896275345, 34039412.724465, 87166417.64228848, 94931451.30808729, 125871655.56881256, 140374112.93785253, 151026433.26847014, 223891247.19855732, 284554992.8756194, 335302958.6350579, 352061428.3298134]\n",
            "Custo =  36639283572.17615\n",
            "\n",
            "=========================================================================\n",
            "\n",
            "Número de ciclos de manutenção: 15 5\n",
            "Tempos para manutenções preventivas: [0, 43, 73, 115, 149, 153, 195, 232, 268, 323, 351, 382, 390, 441, 503, 576]\n",
            "Severidade para cada subsistema: [0.75, 0.75, 0.5, 0.25, 0.25, 0.5, 0.5, 0.25, 0.5, 0.5, 0.75, 0.5, 0.5, 0.75, 0.75]\n",
            "Número de Sisemas: 5\n",
            "Fator:  [0.3296799539643607, 0.7768698398515702, 0.7768698398515702, 0.6321205588285577, 0.3934693402873666, 0.3934693402873666, 0.6321205588285577, 0.6321205588285577, 0.3934693402873666, 0.6321205588285577, 0.6321205588285577, 0.7768698398515702, 0.6321205588285577, 0.6321205588285577, 0.7768698398515702, 0.7768698398515702]\n",
            "Media de falhas:  [0, 47042.70176, 266055.4285678001, 480998.63927897706, 719299.3695999252, 786145.7259587137, 12826379.714987975, 34302933.54317762, 41273799.63120216, 65644839.09318377, 153396215.01407415, 175595470.57349268, 181189260.86841467, 195620142.49491173, 341067665.85726756, 637753942.4953911, 652945888.1818962]\n",
            "Custo =  53665936708.567986\n",
            "\n",
            "=========================================================================\n",
            "\n",
            "Número de ciclos de manutenção: 11 5\n",
            "Tempos para manutenções preventivas: [0, 43, 75, 117, 151, 195, 232, 265, 323, 382, 440, 580]\n",
            "Severidade para cada subsistema: [0.75, 0.75, 0.5, 0.25, 0.5, 0.5, 0.25, 0.5, 0.75, 0.5, 0.75]\n",
            "Número de Sisemas: 5\n",
            "Fator:  [0.3296799539643607, 0.7768698398515702, 0.7768698398515702, 0.6321205588285577, 0.3934693402873666, 0.6321205588285577, 0.6321205588285577, 0.3934693402873666, 0.6321205588285577, 0.7768698398515702, 0.6321205588285577, 0.7768698398515702]\n",
            "Media de falhas:  [0, 47042.70176, 307065.21383203875, 530324.6442437227, 777486.8690698519, 3736836.737394857, 25213390.565584507, 31193650.814480953, 57458596.310182236, 309523612.16747, 390676615.00115186, 633031831.4878287, 713012987.12256]\n",
            "Custo =  50820876993.90175\n",
            "\n",
            "=========================================================================\n",
            "\n",
            "Número de ciclos de manutenção: 14 5\n",
            "Tempos para manutenções preventivas: [0, 29, 43, 76, 118, 150, 193, 232, 289, 323, 383, 440, 582, 628, 698]\n",
            "Severidade para cada subsistema: [0.5, 0.75, 0.75, 0.5, 0.25, 0.5, 0.5, 0.25, 0.5, 0.75, 0.5, 0.75, 0.5, 0.25]\n",
            "Número de Sisemas: 5\n",
            "Fator:  [0.3296799539643607, 0.6321205588285577, 0.7768698398515702, 0.7768698398515702, 0.6321205588285577, 0.3934693402873666, 0.6321205588285577, 0.6321205588285577, 0.3934693402873666, 0.6321205588285577, 0.7768698398515702, 0.6321205588285577, 0.7768698398515702, 0.6321205588285577, 0.3934693402873666]\n",
            "Media de falhas:  [0, 6563.56768, 19054.62427528631, 107470.86215937199, 334982.6700475998, 546999.4182568148, 3302760.7027176265, 25890754.29778418, 43144418.86097093, 56203844.278117985, 315077664.2471844, 394438699.95781904, 647266281.7446434, 884267975.3199242, 998063148.4392432, 673121966.5532095]\n"
          ]
        },
        {
          "output_type": "stream",
          "name": "stderr",
          "text": [
            "pyswarms.single.global_best:  57%|█████▋    |57/100, best_cost=3.66e+10<ipython-input-50-3f464f4b430c>:86: RuntimeWarning: divide by zero encountered in double_scalars\n",
            "  Ctotal.append((cmp + (mi[ck+1] - mi[ck])*CMC)/(final-T[ck]))\n",
            "pyswarms.single.global_best:  71%|███████   |71/100, best_cost=3.66e+10"
          ]
        },
        {
          "output_type": "stream",
          "name": "stdout",
          "text": [
            "Custo =  75707300648.33398\n",
            "\n",
            "=========================================================================\n",
            "\n",
            "Número de ciclos de manutenção: 13 5\n",
            "Tempos para manutenções preventivas: [0, 23, 42, 76, 119, 192, 232, 242, 323, 383, 440, 475, 535, 581]\n",
            "Severidade para cada subsistema: [0.5, 0.75, 0.75, 0.5, 0.5, 0.5, 0.5, 0.5, 0.75, 0.5, 0.25, 0.5, 0.75]\n",
            "Número de Sisemas: 5\n",
            "Fator:  [0.3296799539643607, 0.6321205588285577, 0.7768698398515702, 0.7768698398515702, 0.6321205588285577, 0.6321205588285577, 0.6321205588285577, 0.6321205588285577, 0.6321205588285577, 0.7768698398515702, 0.6321205588285577, 0.3934693402873666, 0.6321205588285577, 0.7768698398515702]\n",
            "Media de falhas:  [0, 2059.6297600000003, 17234.779218967422, 111581.6268411611, 359092.9485647275, 3483905.651946501, 8224923.604491111, 9297547.951800859, 52979236.64280305, 103917193.22934178, 183278228.9399764, 193765466.6632293, 369720896.5323422, 1452293002.8952408, 1528066295.305859]\n",
            "Custo =  135252114316.06075\n",
            "\n",
            "=========================================================================\n",
            "\n",
            "Número de ciclos de manutenção: 13 5\n",
            "Tempos para manutenções preventivas: [0, 26, 41, 74, 119, 190, 232, 324, 384, 441, 471, 536, 579, 661]\n",
            "Severidade para cada subsistema: [0.5, 0.75, 0.75, 0.5, 0.5, 0.5, 0.5, 0.75, 0.5, 0.25, 0.5, 0.75, 0.75]\n",
            "Número de Sisemas: 5\n",
            "Fator:  [0.3296799539643607, 0.6321205588285577, 0.7768698398515702, 0.7768698398515702, 0.6321205588285577, 0.6321205588285577, 0.6321205588285577, 0.6321205588285577, 0.7768698398515702, 0.6321205588285577, 0.3934693402873666, 0.6321205588285577, 0.7768698398515702, 0.7768698398515702]\n",
            "Media de falhas:  [0, 3802.0403200000005, 14763.008372518674, 96758.36367256439, 378162.53503981745, 3201042.790095534, 8280793.400941378, 62972846.94104451, 114397133.54021701, 194431137.58641434, 202647181.81909326, 398426938.69429374, 1398969416.0027387, 1973616222.3030612, 1952831797.3163261]\n",
            "Custo =  147715547441.5587\n",
            "\n",
            "=========================================================================\n",
            "\n",
            "Número de ciclos de manutenção: 14 5\n",
            "Tempos para manutenções preventivas: [0, 41, 73, 119, 150, 189, 232, 324, 384, 392, 442, 475, 497, 577, 704]\n",
            "Severidade para cada subsistema: [0.75, 0.75, 0.5, 0.25, 0.5, 0.5, 0.5, 0.75, 0.5, 0.5, 0.25, 0.75, 0.75, 0.75]\n",
            "Número de Sisemas: 5\n",
            "Fator:  [0.3296799539643607, 0.7768698398515702, 0.7768698398515702, 0.6321205588285577, 0.3934693402873666, 0.6321205588285577, 0.6321205588285577, 0.6321205588285577, 0.7768698398515702, 0.6321205588285577, 0.6321205588285577, 0.3934693402873666, 0.7768698398515702, 0.7768698398515702, 0.7768698398515702]\n",
            "Media de falhas:  [0, 37073.98432, 270353.66069919075, 570033.8307452423, 767865.7282758424, 2975439.5548338373, 27786875.90048422, 82478929.44058734, 133903216.03975984, 139611696.1142618, 153682263.71908525, 208935629.53239635, 251127303.22990948, 2038735826.4766402, 2377518911.4344583, 2347047928.069863]\n",
            "Custo =  127996221876.93317\n",
            "\n",
            "=========================================================================\n",
            "\n",
            "Número de ciclos de manutenção: 14 5\n",
            "Tempos para manutenções preventivas: [0, 41, 72, 117, 153, 190, 232, 293, 324, 355, 383, 403, 442, 478, 577]\n",
            "Severidade para cada subsistema: [0.75, 0.75, 0.5, 0.25, 0.5, 0.5, 0.5, 0.5, 0.5, 0.75, 0.5, 0.5, 0.25, 0.75]\n",
            "Número de Sisemas: 5\n",
            "Fator:  [0.3296799539643607, 0.7768698398515702, 0.7768698398515702, 0.6321205588285577, 0.3934693402873666, 0.6321205588285577, 0.6321205588285577, 0.6321205588285577, 0.6321205588285577, 0.6321205588285577, 0.7768698398515702, 0.6321205588285577, 0.6321205588285577, 0.3934693402873666, 0.7768698398515702]\n",
            "Media de falhas:  [0, 37073.98432, 250985.27537757828, 522364.9418383778, 814167.1954449546, 2893984.5623561465, 27149273.281551864, 47182587.99819979, 59005152.77806942, 75763397.81205928, 95715655.11863782, 112452805.15350191, 121968085.38805227, 184466844.2198161, 632542696.6273744, 1262058335.3798954]\n",
            "Custo =  149327186039.77963\n",
            "\n",
            "=========================================================================\n",
            "\n",
            "Número de ciclos de manutenção: 14 5\n",
            "Tempos para manutenções preventivas: [0, 42, 73, 115, 156, 191, 232, 269, 324, 337, 382, 411, 442, 577, 600]\n",
            "Severidade para cada subsistema: [0.75, 0.75, 0.5, 0.25, 0.5, 0.5, 0.5, 0.5, 0.5, 0.75, 0.5, 0.5, 0.75, 0.75]\n",
            "Número de Sisemas: 5\n",
            "Fator:  [0.3296799539643607, 0.7768698398515702, 0.7768698398515702, 0.6321205588285577, 0.3934693402873666, 0.6321205588285577, 0.6321205588285577, 0.6321205588285577, 0.6321205588285577, 0.6321205588285577, 0.7768698398515702, 0.6321205588285577, 0.6321205588285577, 0.7768698398515702, 0.7768698398515702]\n",
            "Media de falhas:  [0, 41821.194240000004, 267927.49882712227, 482870.70953829924, 900498.3905496327, 2855343.551022842, 26554733.372896995, 33878302.06108166, 58522447.67721887, 63741890.28772279, 98452585.27676967, 125724745.80542797, 132551116.49419668, 843201044.2619175, 935951556.212598, 935951556.212598]\n",
            "Custo =  inf\n",
            "\n",
            "=========================================================================\n",
            "\n",
            "Número de ciclos de manutenção: 14 5\n",
            "Tempos para manutenções preventivas: [0, 43, 74, 115, 149, 158, 192, 233, 275, 323, 382, 410, 441, 577, 632]\n",
            "Severidade para cada subsistema: [0.75, 0.75, 0.5, 0.25, 0.25, 0.5, 0.5, 0.75, 0.5, 0.75, 0.5, 0.5, 0.75, 0.5]\n",
            "Número de Sisemas: 5\n",
            "Fator:  [0.3296799539643607, 0.7768698398515702, 0.7768698398515702, 0.6321205588285577, 0.3934693402873666, 0.3934693402873666, 0.6321205588285577, 0.6321205588285577, 0.7768698398515702, 0.6321205588285577, 0.7768698398515702, 0.6321205588285577, 0.6321205588285577, 0.7768698398515702, 0.6321205588285577]\n",
            "Media de falhas:  [0, 47042.70176, 285875.0983949364, 486821.6059500988, 725122.3362710469, 905410.07083154, 10123720.515294302, 34238369.357322276, 43631343.998047106, 63872841.31710634, 75629554.84491768, 101595598.0216627, 108366453.70028996, 827393314.2011956, 1125883037.2333531, 1112965340.3729362]\n",
            "Custo =  56032542623.41858\n",
            "\n",
            "=========================================================================\n",
            "\n",
            "Número de ciclos de manutenção: 16 5\n",
            "Tempos para manutenções preventivas: [0, 43, 75, 114, 149, 158, 192, 232, 258, 323, 330, 382, 405, 440, 579, 637, 684]\n",
            "Severidade para cada subsistema: [0.75, 0.75, 0.5, 0.25, 0.25, 0.5, 0.5, 0.25, 0.5, 0.5, 0.75, 0.5, 0.5, 0.75, 0.5, 0.75]\n",
            "Número de Sisemas: 5\n",
            "Fator:  [0.3296799539643607, 0.7768698398515702, 0.7768698398515702, 0.6321205588285577, 0.3934693402873666, 0.3934693402873666, 0.6321205588285577, 0.6321205588285577, 0.3934693402873666, 0.6321205588285577, 0.6321205588285577, 0.7768698398515702, 0.6321205588285577, 0.6321205588285577, 0.7768698398515702, 0.6321205588285577, 0.7768698398515702]\n",
            "Media de falhas:  [0, 47042.70176, 307065.21383203875, 478745.1611347572, 733360.569651316, 913648.3042118092, 10131958.748674572, 33275612.36188995, 37303699.895081885, 68302127.64334014, 86022305.06036603, 127748845.80696446, 147633082.55558378, 155614707.79708475, 908957263.2725968, 1236403409.4272788, 1295286467.2830029, 1014823026.1959013]\n",
            "Custo =  86423895185.51732\n",
            "\n",
            "=========================================================================\n",
            "\n",
            "Número de ciclos de manutenção: 18 5\n",
            "Tempos para manutenções preventivas: [0, 43, 76, 116, 149, 156, 193, 232, 245, 323, 340, 383, 397, 440, 455, 579, 617, 644, 680]\n",
            "Severidade para cada subsistema: [0.75, 0.75, 0.5, 0.25, 0.25, 0.5, 0.5, 0.25, 0.5, 0.5, 0.75, 0.5, 0.5, 0.5, 0.75, 0.5, 0.5, 0.25]\n",
            "Número de Sisemas: 5\n",
            "Fator:  [0.3296799539643607, 0.7768698398515702, 0.7768698398515702, 0.6321205588285577, 0.3934693402873666, 0.3934693402873666, 0.6321205588285577, 0.6321205588285577, 0.3934693402873666, 0.6321205588285577, 0.6321205588285577, 0.7768698398515702, 0.6321205588285577, 0.6321205588285577, 0.6321205588285577, 0.7768698398515702, 0.6321205588285577, 0.6321205588285577, 0.3934693402873666]\n",
            "Media de falhas:  [0, 47042.70176, 329695.6476392869, 521078.2163782889, 743879.1652697651, 874324.7362968264, 11087283.854005435, 33675277.44907199, 35170388.186777145, 76258528.1069256, 123909524.2824471, 157038696.8746153, 167804266.546042, 178681316.54136214, 198506910.46210408, 828642175.3259932, 1007152216.5434223, 1030073502.6236786, 1275720353.6777914, 1007878464.1423852]\n",
            "Custo =  113014977086.79358\n",
            "\n",
            "=========================================================================\n",
            "\n",
            "Número de ciclos de manutenção: 17 5\n",
            "Tempos para manutenções preventivas: [0, 42, 76, 117, 149, 153, 193, 232, 268, 299, 323, 352, 383, 390, 440, 489, 578, 637]\n",
            "Severidade para cada subsistema: [0.75, 0.75, 0.5, 0.25, 0.25, 0.5, 0.5, 0.25, 0.25, 0.5, 0.5, 0.75, 0.5, 0.5, 0.75, 0.75, 0.5]\n",
            "Número de Sisemas: 5\n",
            "Fator:  [0.3296799539643607, 0.7768698398515702, 0.7768698398515702, 0.6321205588285577, 0.3934693402873666, 0.3934693402873666, 0.6321205588285577, 0.6321205588285577, 0.3934693402873666, 0.3934693402873666, 0.6321205588285577, 0.6321205588285577, 0.7768698398515702, 0.6321205588285577, 0.6321205588285577, 0.7768698398515702, 0.7768698398515702, 0.6321205588285577]\n",
            "Media de falhas:  [0, 41821.194240000004, 332969.5132595258, 541793.609300571, 749877.9049363406, 816724.2612951291, 11831276.93603055, 34419270.53109711, 41390136.61912165, 50105164.90551003, 104188812.08871458, 195997968.00498566, 218421398.75623924, 223296354.4800394, 237154961.4008064, 335007960.4440694, 724550613.241184, 788223159.1572057, 773770782.0053176]\n",
            "Custo =  65308435303.04658\n",
            "\n",
            "=========================================================================\n",
            "\n",
            "Número de ciclos de manutenção: 14 5\n",
            "Tempos para manutenções preventivas: [0, 42, 75, 118, 150, 192, 232, 258, 323, 383, 440, 501, 578, 629, 666]\n",
            "Severidade para cada subsistema: [0.75, 0.75, 0.5, 0.25, 0.5, 0.5, 0.5, 0.5, 0.75, 0.5, 0.75, 0.75, 0.75, 0.25]\n",
            "Número de Sisemas: 5\n",
            "Fator:  [0.3296799539643607, 0.7768698398515702, 0.7768698398515702, 0.6321205588285577, 0.3934693402873666, 0.6321205588285577, 0.6321205588285577, 0.6321205588285577, 0.6321205588285577, 0.7768698398515702, 0.6321205588285577, 0.7768698398515702, 0.7768698398515702, 0.7768698398515702, 0.3934693402873666]\n",
            "Media de falhas:  [0, 41821.194240000004, 309848.52388606407, 552808.9627620792, 764825.7109712942, 3374907.1670732396, 26518560.780288618, 30546648.313480556, 61545076.06173882, 112483032.64827754, 191844068.35891217, 221625829.71527752, 543431216.2109135, 592427981.7010877, 631144654.3886555, 609184786.4949741]\n",
            "Custo =  42170317638.18927\n",
            "\n",
            "=========================================================================\n",
            "\n",
            "Número de ciclos de manutenção: 13 5\n",
            "Tempos para manutenções preventivas: [0, 41, 75, 118, 192, 232, 252, 323, 384, 440, 508, 578, 667, 696]\n",
            "Severidade para cada subsistema: [0.75, 0.75, 0.5, 0.5, 0.5, 0.75, 0.5, 0.75, 0.5, 0.75, 0.75, 0.75, 0.25]\n",
            "Número de Sisemas: 5\n",
            "Fator:  [0.3296799539643607, 0.7768698398515702, 0.7768698398515702, 0.6321205588285577, 0.6321205588285577, 0.6321205588285577, 0.7768698398515702, 0.6321205588285577, 0.7768698398515702, 0.6321205588285577, 0.7768698398515702, 0.7768698398515702, 0.7768698398515702, 0.3934693402873666]\n",
            "Media de falhas:  [0, 37073.98432, 313201.02911719674, 556161.4679932119, 3805158.1302955328, 8546176.082840143, 11249248.704568727, 46682312.775093764, 59412737.548790365, 136999203.4701354, 174632009.1277237, 459638863.42709035, 605665054.3840098, 639204541.35197, 610533194.0806117]\n",
            "Custo =  40505495813.754715\n",
            "\n",
            "=========================================================================\n",
            "\n",
            "Número de ciclos de manutenção: 14 5\n",
            "Tempos para manutenções preventivas: [0, 41, 74, 117, 193, 232, 324, 383, 395, 441, 478, 502, 581, 606, 689]\n",
            "Severidade para cada subsistema: [0.75, 0.75, 0.5, 0.5, 0.5, 0.5, 0.75, 0.5, 0.5, 0.25, 0.75, 0.75, 0.75, 0.25]\n",
            "Número de Sisemas: 5\n",
            "Fator:  [0.3296799539643607, 0.7768698398515702, 0.7768698398515702, 0.6321205588285577, 0.6321205588285577, 0.6321205588285577, 0.6321205588285577, 0.7768698398515702, 0.6321205588285577, 0.6321205588285577, 0.3934693402873666, 0.7768698398515702, 0.7768698398515702, 0.7768698398515702, 0.3934693402873666]\n",
            "Media de falhas:  [0, 37073.98432, 291069.2166396309, 529545.1965949486, 4077159.443853938, 8653579.794716636, 63345633.334819764, 113138535.36603212, 122108889.53671348, 134302813.58538985, 198794709.26293373, 246997719.34894136, 2063314986.0299895, 2079894799.4226458, 2223770635.5623026, 2196653155.8923473]\n",
            "Custo =  128293520028.347\n",
            "\n",
            "=========================================================================\n",
            "\n",
            "Número de ciclos de manutenção: 14 5\n",
            "Tempos para manutenções preventivas: [0, 41, 73, 117, 150, 194, 232, 324, 383, 402, 442, 479, 488, 582, 686]\n",
            "Severidade para cada subsistema: [0.75, 0.75, 0.5, 0.25, 0.5, 0.5, 0.5, 0.75, 0.5, 0.5, 0.25, 0.75, 0.75, 0.75]\n",
            "Número de Sisemas: 5\n",
            "Fator:  [0.3296799539643607, 0.7768698398515702, 0.7768698398515702, 0.6321205588285577, 0.3934693402873666, 0.6321205588285577, 0.6321205588285577, 0.6321205588285577, 0.7768698398515702, 0.6321205588285577, 0.6321205588285577, 0.3934693402873666, 0.7768698398515702, 0.7768698398515702, 0.7768698398515702]\n",
            "Media de falhas:  [0, 37073.98432, 270353.66069919075, 524858.9331417034, 751821.329697831, 3659319.99256756, 25691642.800645698, 80383696.34074883, 130176598.37196119, 145854684.09591943, 155740729.02498746, 220753886.7197023, 236130843.65522957, 2395858674.7278028, 2607884611.2080646, 2581430611.9795427]\n",
            "Custo =  127861123630.13448\n"
          ]
        },
        {
          "output_type": "stream",
          "name": "stderr",
          "text": [
            "pyswarms.single.global_best:  78%|███████▊  |78/100, best_cost=3.66e+10"
          ]
        },
        {
          "output_type": "stream",
          "name": "stdout",
          "text": [
            "\n",
            "=========================================================================\n",
            "\n",
            "Número de ciclos de manutenção: 14 5\n",
            "Tempos para manutenções preventivas: [0, 41, 72, 117, 149, 153, 193, 232, 324, 383, 407, 442, 583, 601, 693]\n",
            "Severidade para cada subsistema: [0.75, 0.75, 0.5, 0.25, 0.25, 0.5, 0.5, 0.5, 0.75, 0.5, 0.5, 0.75, 0.25, 0.25]\n",
            "Número de Sisemas: 5\n",
            "Fator:  [0.3296799539643607, 0.7768698398515702, 0.7768698398515702, 0.6321205588285577, 0.3934693402873666, 0.3934693402873666, 0.6321205588285577, 0.6321205588285577, 0.6321205588285577, 0.7768698398515702, 0.6321205588285577, 0.6321205588285577, 0.7768698398515702, 0.3934693402873666, 0.3934693402873666]\n",
            "Media de falhas:  [0, 37073.98432, 250985.27537757828, 522364.9418383778, 730449.2374741475, 797295.5938329359, 11811848.268568357, 34399841.863634914, 89091895.40373805, 138884797.4349504, 160129824.2941805, 168241000.8642824, 957293321.8543409, 1029355106.7090917, 1204565787.85498, -1791391709.135079]\n",
            "Custo =  188662343179.85434\n",
            "\n",
            "=========================================================================\n",
            "\n",
            "Número de ciclos de manutenção: 15 5\n",
            "Tempos para manutenções preventivas: [0, 42, 72, 117, 149, 155, 192, 232, 323, 353, 383, 407, 442, 581, 612, 666]\n",
            "Severidade para cada subsistema: [0.75, 0.75, 0.5, 0.25, 0.25, 0.5, 0.5, 0.5, 0.5, 0.75, 0.5, 0.5, 0.75, 0.5, 0.5]\n",
            "Número de Sisemas: 5\n",
            "Fator:  [0.3296799539643607, 0.7768698398515702, 0.7768698398515702, 0.6321205588285577, 0.3934693402873666, 0.3934693402873666, 0.6321205588285577, 0.6321205588285577, 0.6321205588285577, 0.6321205588285577, 0.7768698398515702, 0.6321205588285577, 0.6321205588285577, 0.7768698398515702, 0.6321205588285577, 0.6321205588285577]\n",
            "Media de falhas:  [0, 41821.194240000004, 248988.49597710665, 520368.16243790614, 728452.4580736759, 836281.9466335294, 10837469.155770216, 33981122.7689856, 87108127.68680908, 102890852.69901323, 124482054.80923727, 145727081.66846737, 153838258.23856926, 916058722.0573726, 1054282442.5878358, 1119488107.7877378, 895786202.9142509]\n",
            "Custo =  73492935789.86371\n",
            "\n",
            "=========================================================================\n",
            "\n",
            "Número de ciclos de manutenção: 17 5\n",
            "Tempos para manutenções preventivas: [0, 43, 73, 117, 149, 157, 191, 232, 323, 340, 383, 401, 442, 578, 606, 631, 687, 693]\n",
            "Severidade para cada subsistema: [0.75, 0.75, 0.5, 0.25, 0.25, 0.5, 0.5, 0.5, 0.5, 0.75, 0.5, 0.5, 0.75, 0.75, 0.5, 0.75, 0.5]\n",
            "Número de Sisemas: 5\n",
            "Fator:  [0.3296799539643607, 0.7768698398515702, 0.7768698398515702, 0.6321205588285577, 0.3934693402873666, 0.3934693402873666, 0.6321205588285577, 0.6321205588285577, 0.6321205588285577, 0.6321205588285577, 0.7768698398515702, 0.6321205588285577, 0.6321205588285577, 0.7768698398515702, 0.7768698398515702, 0.6321205588285577, 0.7768698398515702, 0.6321205588285577]\n",
            "Media de falhas:  [0, 47042.70176, 266055.4285678001, 520560.7010103127, 728644.9966460824, 883218.4632893091, 9909173.805799441, 33608563.627673596, 86735568.54549707, 93947972.2199938, 127077144.81216201, 141722330.94837096, 151987337.8919316, 875272582.6047006, 994364936.3092163, 1013682862.4478896, 1090432477.2452168, 1131503833.035556, 1103499988.478614]\n",
            "Custo =  90348693413.34587\n",
            "\n",
            "=========================================================================\n",
            "\n",
            "Número de ciclos de manutenção: 16 5\n",
            "Tempos para manutenções preventivas: [0, 43, 74, 118, 149, 156, 192, 232, 288, 323, 382, 394, 441, 496, 576, 639, 699]\n",
            "Severidade para cada subsistema: [0.75, 0.75, 0.5, 0.25, 0.25, 0.5, 0.5, 0.25, 0.5, 0.75, 0.5, 0.5, 0.75, 0.75, 0.5, 0.5]\n",
            "Número de Sisemas: 5\n",
            "Fator:  [0.3296799539643607, 0.7768698398515702, 0.7768698398515702, 0.6321205588285577, 0.3934693402873666, 0.3934693402873666, 0.6321205588285577, 0.6321205588285577, 0.3934693402873666, 0.6321205588285577, 0.7768698398515702, 0.6321205588285577, 0.6321205588285577, 0.7768698398515702, 0.7768698398515702, 0.6321205588285577, 0.6321205588285577]\n",
            "Media de falhas:  [0, 47042.70176, 285875.0983949364, 545106.044034391, 739225.8671295088, 869671.4381565701, 10609705.579936808, 33753359.19315219, 50359249.00902853, 63888977.3553159, 315953993.2126037, 324834974.28298837, 337457417.61276066, 456302600.6751084, 790172016.5878447, 861412533.4846897, 951734584.1012701, 623589325.5894878]\n",
            "Custo =  76550890944.0062\n",
            "\n",
            "=========================================================================\n",
            "\n",
            "Número de ciclos de manutenção: 18 5\n",
            "Tempos para manutenções preventivas: [0, 43, 76, 118, 149, 152, 192, 233, 255, 280, 323, 333, 382, 390, 441, 506, 577, 641, 712]\n",
            "Severidade para cada subsistema: [0.75, 0.75, 0.5, 0.25, 0.25, 0.5, 0.5, 0.75, 0.75, 0.5, 0.5, 0.75, 0.5, 0.5, 0.75, 0.75, 0.5, 0.5]\n",
            "Número de Sisemas: 5\n",
            "Fator:  [0.3296799539643607, 0.7768698398515702, 0.7768698398515702, 0.6321205588285577, 0.3934693402873666, 0.3934693402873666, 0.6321205588285577, 0.6321205588285577, 0.7768698398515702, 0.7768698398515702, 0.6321205588285577, 0.6321205588285577, 0.7768698398515702, 0.6321205588285577, 0.6321205588285577, 0.7768698398515702, 0.7768698398515702, 0.6321205588285577, 0.6321205588285577]\n",
            "Media de falhas:  [0, 47042.70176, 329695.6476392869, 557207.4555275147, 751327.2786226325, 799669.1816383292, 11586176.863914365, 35700825.70594233, 38860493.54122902, 44111058.73144771, 47984062.785167105, 48553343.9771067, 87205553.44125655, 92799343.73617855, 107230225.36267559, 265142221.48988277, 553418559.4442375, 627228329.2433324, 751785580.4025118, 381501331.3666432]\n",
            "Custo =  63481130861.95729\n",
            "\n",
            "=========================================================================\n",
            "\n",
            "Número de ciclos de manutenção: 15 5\n",
            "Tempos para manutenções preventivas: [0, 42, 78, 118, 192, 232, 253, 323, 341, 381, 441, 506, 577, 634, 669, 718]\n",
            "Severidade para cada subsistema: [0.75, 0.75, 0.5, 0.5, 0.5, 0.75, 0.5, 0.5, 0.75, 0.5, 0.75, 0.75, 0.5, 0.75, 0.5]\n",
            "Número de Sisemas: 5\n",
            "Fator:  [0.3296799539643607, 0.7768698398515702, 0.7768698398515702, 0.6321205588285577, 0.6321205588285577, 0.6321205588285577, 0.7768698398515702, 0.6321205588285577, 0.6321205588285577, 0.7768698398515702, 0.6321205588285577, 0.7768698398515702, 0.7768698398515702, 0.6321205588285577, 0.7768698398515702, 0.6321205588285577]\n",
            "Media de falhas:  [0, 41821.194240000004, 383897.4181970468, 582851.3451569147, 3831848.0074592354, 8572865.960003845, 11476787.95814005, 46145220.3463376, 47420023.46506385, 77146826.76936021, 162652177.0500224, 196974875.702699, 485251213.6570537, 544685488.6436538, 581312577.855097, 1008646791.7075846, 974917126.860785]\n",
            "Custo =  74939790827.68614\n",
            "\n",
            "=========================================================================\n",
            "\n",
            "Número de ciclos de manutenção: 14 5\n",
            "Tempos para manutenções preventivas: [0, 42, 76, 117, 191, 232, 240, 323, 355, 382, 440, 502, 538, 576, 704]\n",
            "Severidade para cada subsistema: [0.75, 0.75, 0.5, 0.5, 0.5, 0.75, 0.5, 0.5, 0.75, 0.5, 0.75, 0.5, 0.75, 0.5]\n",
            "Número de Sisemas: 5\n",
            "Fator:  [0.3296799539643607, 0.7768698398515702, 0.7768698398515702, 0.6321205588285577, 0.6321205588285577, 0.6321205588285577, 0.7768698398515702, 0.6321205588285577, 0.6321205588285577, 0.7768698398515702, 0.6321205588285577, 0.7768698398515702, 0.6321205588285577, 0.7768698398515702, 0.6321205588285577]\n",
            "Media de falhas:  [0, 41821.194240000004, 332969.5132595258, 541793.609300571, 3754946.0082312822, 8663719.233767752, 9482726.267467396, 54952997.792857066, 58237368.322985314, 77190027.57654408, 158343030.410226, 189164953.56553233, 287890650.797639, 311466390.705707, 1626525526.9260159, 1596054543.5614207]\n",
            "Custo =  69834398333.72734\n",
            "\n",
            "=========================================================================\n",
            "\n",
            "Número de ciclos de manutenção: 15 5\n",
            "Tempos para manutenções preventivas: [0, 28, 42, 75, 116, 191, 232, 323, 383, 390, 440, 477, 499, 578, 682, 695]\n",
            "Severidade para cada subsistema: [0.5, 0.75, 0.75, 0.5, 0.5, 0.5, 0.5, 0.75, 0.5, 0.5, 0.25, 0.75, 0.75, 0.5, 0.5]\n",
            "Número de Sisemas: 5\n",
            "Fator:  [0.3296799539643607, 0.6321205588285577, 0.7768698398515702, 0.7768698398515702, 0.6321205588285577, 0.6321205588285577, 0.6321205588285577, 0.6321205588285577, 0.7768698398515702, 0.6321205588285577, 0.6321205588285577, 0.3934693402873666, 0.7768698398515702, 0.7768698398515702, 0.6321205588285577, 0.6321205588285577]\n",
            "Media de falhas:  [0, 5507.317760000001, 16853.01491648, 102011.15103176578, 306866.5388707294, 3646962.677232758, 8555735.902769227, 61682740.8205927, 112620697.40713142, 117495653.13093159, 131354260.05169861, 195328045.1746382, 238189862.33817586, 2016867405.1636322, 2225054957.669944, 2238284663.7507153, 1922929888.4047377]\n",
            "Custo =  140441630602.22968\n",
            "\n",
            "=========================================================================\n",
            "\n",
            "Número de ciclos de manutenção: 15 5\n",
            "Tempos para manutenções preventivas: [0, 24, 42, 72, 115, 150, 190, 232, 266, 323, 384, 397, 441, 469, 492, 583]\n",
            "Severidade para cada subsistema: [0.5, 0.75, 0.75, 0.5, 0.25, 0.5, 0.5, 0.5, 0.5, 0.75, 0.5, 0.5, 0.25, 0.75, 0.75]\n",
            "Número de Sisemas: 5\n",
            "Fator:  [0.3296799539643607, 0.6321205588285577, 0.7768698398515702, 0.7768698398515702, 0.6321205588285577, 0.3934693402873666, 0.6321205588285577, 0.6321205588285577, 0.6321205588285577, 0.6321205588285577, 0.7768698398515702, 0.6321205588285577, 0.6321205588285577, 0.3934693402873666, 0.7768698398515702, 0.7768698398515702]\n",
            "Media de falhas:  [0, 2548.0396800000003, 16930.979390407967, 78716.67717423796, 308420.21795973374, 567681.8699776117, 2903847.225179334, 27159135.94437505, 33458625.908404943, 59083626.11349743, 111676173.7455519, 121631046.98419583, 132995082.25970972, 176756912.7913162, 219300450.48530126, 2327565391.078779, 2337673941.2822266]\n",
            "Custo =  121390725250.34079\n",
            "\n",
            "=========================================================================\n",
            "\n",
            "Número de ciclos de manutenção: 16 5\n",
            "Tempos para manutenções preventivas: [0, 28, 42, 70, 116, 153, 190, 232, 279, 323, 385, 401, 441, 471, 488, 587, 664]\n",
            "Severidade para cada subsistema: [0.5, 0.75, 0.75, 0.5, 0.25, 0.5, 0.5, 0.25, 0.5, 0.75, 0.5, 0.5, 0.25, 0.75, 0.75, 0.25]\n",
            "Número de Sisemas: 5\n",
            "Fator:  [0.3296799539643607, 0.6321205588285577, 0.7768698398515702, 0.7768698398515702, 0.6321205588285577, 0.3934693402873666, 0.6321205588285577, 0.6321205588285577, 0.3934693402873666, 0.6321205588285577, 0.7768698398515702, 0.6321205588285577, 0.6321205588285577, 0.3934693402873666, 0.7768698398515702, 0.7768698398515702, 0.3934693402873666]\n",
            "Media de falhas:  [0, 5507.317760000001, 16853.01491648, 66132.8678956368, 350102.8516410417, 661029.6585957278, 2740847.0255069197, 26996135.744702637, 38540808.16182176, 56592216.01560597, 329406689.6650945, 342313909.04791695, 352122275.1659169, 400164085.67575747, 429988022.4951526, 2779572656.852241, 2891755464.2914004, 2870261904.888621]\n",
            "Custo =  142563098608.45822\n",
            "\n",
            "=========================================================================\n",
            "\n",
            "Número de ciclos de manutenção: 15 5\n",
            "Tempos para manutenções preventivas: [0, 43, 71, 116, 155, 191, 232, 257, 323, 384, 405, 441, 488, 588, 615, 671]\n",
            "Severidade para cada subsistema: [0.75, 0.75, 0.5, 0.25, 0.5, 0.5, 0.25, 0.5, 0.75, 0.5, 0.5, 0.75, 0.75, 0.75, 0.5]\n",
            "Número de Sisemas: 5\n",
            "Fator:  [0.3296799539643607, 0.7768698398515702, 0.7768698398515702, 0.6321205588285577, 0.3934693402873666, 0.6321205588285577, 0.6321205588285577, 0.3934693402873666, 0.6321205588285577, 0.7768698398515702, 0.6321205588285577, 0.6321205588285577, 0.7768698398515702, 0.7768698398515702, 0.7768698398515702, 0.6321205588285577]\n",
            "Media de falhas:  [0, 47042.70176, 230259.3824650065, 496734.02249141474, 860982.8573491032, 2896836.0694181183, 26596225.89129227, 30382739.765613787, 62095199.22831561, 327885084.35351086, 345880988.9001084, 354264211.7144571, 446627556.78133917, 933032567.7172283, 952301872.4041301, 1022922885.4529015, 999815921.4052384]\n",
            "Custo =  63463635659.20989\n",
            "\n",
            "=========================================================================\n",
            "\n",
            "Número de ciclos de manutenção: 19 5\n",
            "Tempos para manutenções preventivas: [0, 43, 73, 117, 149, 154, 191, 232, 245, 276, 323, 359, 384, 406, 442, 491, 588, 633, 677, 693]\n",
            "Severidade para cada subsistema: [0.75, 0.75, 0.5, 0.25, 0.25, 0.5, 0.5, 0.25, 0.5, 0.5, 0.5, 0.75, 0.5, 0.5, 0.75, 0.75, 0.5, 0.75, 0.25]\n",
            "Número de Sisemas: 5\n",
            "Fator:  [0.3296799539643607, 0.7768698398515702, 0.7768698398515702, 0.6321205588285577, 0.3934693402873666, 0.3934693402873666, 0.6321205588285577, 0.6321205588285577, 0.3934693402873666, 0.6321205588285577, 0.6321205588285577, 0.6321205588285577, 0.7768698398515702, 0.6321205588285577, 0.6321205588285577, 0.7768698398515702, 0.7768698398515702, 0.6321205588285577, 0.7768698398515702, 0.3934693402873666]\n",
            "Media de falhas:  [0, 47042.70176, 266055.4285678001, 520560.7010103127, 728644.9966460824, 815298.0303945525, 10608051.486248845, 34307441.308123, 35802552.045828156, 42244066.72986822, 145152261.29091024, 166039849.24919528, 183773887.64522287, 202892792.2997538, 211343448.8626517, 310724723.1037242, 776998898.7236784, 818906995.3517723, 870717491.9581654, 982707832.3019046, 954703987.7449625]\n",
            "Custo =  88123438730.22948\n",
            "\n",
            "=========================================================================\n",
            "\n",
            "Número de ciclos de manutenção: 18 5\n",
            "Tempos para manutenções preventivas: [0, 43, 74, 119, 148, 152, 192, 232, 249, 323, 355, 384, 400, 442, 492, 585, 600, 634, 709]\n",
            "Severidade para cada subsistema: [0.75, 0.75, 0.5, 0.25, 0.25, 0.5, 0.5, 0.25, 0.5, 0.5, 0.75, 0.5, 0.5, 0.75, 0.75, 0.75, 0.5, 0.25]\n",
            "Número de Sisemas: 5\n",
            "Fator:  [0.3296799539643607, 0.7768698398515702, 0.7768698398515702, 0.6321205588285577, 0.3934693402873666, 0.3934693402873666, 0.6321205588285577, 0.6321205588285577, 0.3934693402873666, 0.6321205588285577, 0.6321205588285577, 0.7768698398515702, 0.6321205588285577, 0.6321205588285577, 0.7768698398515702, 0.7768698398515702, 0.7768698398515702, 0.6321205588285577, 0.3934693402873666]\n",
            "Media de falhas:  [0, 47042.70176, 285875.0983949364, 567279.2697621895, 732359.8790208691, 797493.7245465762, 11584001.406822613, 34727655.020037994, 36872237.54532053, 74662928.65124007, 179086211.57940018, 200063598.37059528, 212844712.4192867, 223497032.7499043, 326116551.9926035, 758127850.1876488, 766891341.9040436, 795798588.41284, 929753040.4498086, 569283196.006763]\n",
            "Custo =  79145571305.45164\n",
            "\n",
            "=========================================================================\n",
            "\n",
            "Número de ciclos de manutenção: 16 5\n",
            "Tempos para manutenções preventivas: [0, 42, 76, 118, 148, 151, 191, 232, 323, 353, 383, 393, 441, 496, 579, 630, 680]\n",
            "Severidade para cada subsistema: [0.75, 0.75, 0.5, 0.25, 0.25, 0.5, 0.5, 0.5, 0.5, 0.75, 0.5, 0.5, 0.75, 0.75, 0.5, 0.5]\n",
            "Número de Sisemas: 5\n",
            "Fator:  [0.3296799539643607, 0.7768698398515702, 0.7768698398515702, 0.6321205588285577, 0.3934693402873666, 0.3934693402873666, 0.6321205588285577, 0.6321205588285577, 0.6321205588285577, 0.6321205588285577, 0.7768698398515702, 0.6321205588285577, 0.6321205588285577, 0.7768698398515702, 0.7768698398515702, 0.6321205588285577, 0.6321205588285577]\n",
            "Media de falhas:  [0, 41821.194240000004, 332969.5132595258, 560481.3211477536, 737910.3024004346, 785002.2088280132, 11347058.864224521, 35046448.68609867, 88173453.60392216, 103956178.61612631, 125547380.72635034, 132814032.02887855, 145874263.36718732, 264719446.42953503, 621895291.8931009, 671168392.1934941, 734038626.3298465, 466196736.7944404]\n",
            "Custo = "
          ]
        },
        {
          "output_type": "stream",
          "name": "stderr",
          "text": [
            "pyswarms.single.global_best:  93%|█████████▎|93/100, best_cost=3.66e+10"
          ]
        },
        {
          "output_type": "stream",
          "name": "stdout",
          "text": [
            " 62971000637.22206\n",
            "\n",
            "=========================================================================\n",
            "\n",
            "Número de ciclos de manutenção: 16 5\n",
            "Tempos para manutenções preventivas: [0, 42, 77, 118, 148, 151, 190, 232, 252, 293, 323, 348, 382, 441, 495, 572, 702]\n",
            "Severidade para cada subsistema: [0.75, 0.75, 0.5, 0.25, 0.25, 0.5, 0.5, 0.5, 0.25, 0.5, 0.5, 0.75, 0.5, 0.75, 0.75, 0.5]\n",
            "Número de Sisemas: 5\n",
            "Fator:  [0.3296799539643607, 0.7768698398515702, 0.7768698398515702, 0.6321205588285577, 0.3934693402873666, 0.3934693402873666, 0.6321205588285577, 0.6321205588285577, 0.6321205588285577, 0.3934693402873666, 0.6321205588285577, 0.6321205588285577, 0.7768698398515702, 0.6321205588285577, 0.7768698398515702, 0.7768698398515702, 0.6321205588285577]\n",
            "Media de falhas:  [0, 41821.194240000004, 357627.3535256223, 570480.6388744453, 747909.6201271263, 795001.5265547049, 10884604.124620719, 35139892.84381644, 37842965.46554502, 49325859.29834482, 60563259.788182504, 136568545.7575215, 161292930.69939965, 244956658.66408288, 268312093.6920396, 577906197.1972198, 930260618.0715442, 900242843.5693374]\n",
            "Custo =  57224765107.778046\n",
            "\n",
            "=========================================================================\n",
            "\n",
            "Número de ciclos de manutenção: 14 5\n",
            "Tempos para manutenções preventivas: [0, 42, 78, 118, 149, 150, 188, 232, 323, 346, 382, 441, 491, 572, 681]\n",
            "Severidade para cada subsistema: [0.75, 0.75, 0.5, 0.25, 0.25, 0.5, 0.5, 0.5, 0.5, 0.75, 0.5, 0.75, 0.75, 0.25]\n",
            "Número de Sisemas: 5\n",
            "Fator:  [0.3296799539643607, 0.7768698398515702, 0.7768698398515702, 0.6321205588285577, 0.3934693402873666, 0.3934693402873666, 0.6321205588285577, 0.6321205588285577, 0.6321205588285577, 0.6321205588285577, 0.7768698398515702, 0.6321205588285577, 0.7768698398515702, 0.7768698398515702, 0.3934693402873666]\n",
            "Media de falhas:  [0, 41821.194240000004, 383897.4181970468, 582851.3451569147, 776971.1682520325, 791951.8771159204, 10219626.571835663, 35587544.859375864, 88714549.77719934, 99495966.67780209, 125948832.78348902, 209612560.74817228, 229692104.2195328, 560425755.9192367, 787000705.056917, 761653592.4186448]\n",
            "Custo =  43772304838.8271\n",
            "\n",
            "=========================================================================\n",
            "\n",
            "Número de ciclos de manutenção: 15 5\n",
            "Tempos para manutenções preventivas: [0, 42, 77, 118, 152, 186, 232, 277, 323, 351, 382, 390, 441, 494, 577, 622]\n",
            "Severidade para cada subsistema: [0.75, 0.75, 0.5, 0.25, 0.5, 0.5, 0.5, 0.5, 0.5, 0.75, 0.5, 0.5, 0.75, 0.75, 0.25]\n",
            "Número de Sisemas: 5\n",
            "Fator:  [0.3296799539643607, 0.7768698398515702, 0.7768698398515702, 0.6321205588285577, 0.3934693402873666, 0.6321205588285577, 0.6321205588285577, 0.6321205588285577, 0.6321205588285577, 0.6321205588285577, 0.7768698398515702, 0.6321205588285577, 0.6321205588285577, 0.7768698398515702, 0.7768698398515702, 0.3934693402873666]\n",
            "Media de falhas:  [0, 41821.194240000004, 357627.3535256223, 570480.6388744453, 822168.5834030558, 2528167.6636251654, 29010392.876702357, 39602500.380893275, 58734237.785332486, 72988756.53585048, 95188012.09526901, 100781802.390191, 115212684.01668805, 227061522.679838, 579717557.4978206, 619065251.7531495, 609539868.8337145]\n",
            "Custo =  44694975059.251175\n",
            "\n",
            "=========================================================================\n",
            "\n",
            "Número de ciclos de manutenção: 15 5\n",
            "Tempos para manutenções preventivas: [0, 42, 74, 117, 153, 188, 232, 263, 323, 383, 393, 441, 499, 584, 624, 695]\n",
            "Severidade para cada subsistema: [0.75, 0.75, 0.5, 0.25, 0.5, 0.5, 0.5, 0.5, 0.75, 0.5, 0.5, 0.75, 0.75, 0.25, 0.75]\n",
            "Número de Sisemas: 5\n",
            "Fator:  [0.3296799539643607, 0.7768698398515702, 0.7768698398515702, 0.6321205588285577, 0.3934693402873666, 0.6321205588285577, 0.6321205588285577, 0.6321205588285577, 0.6321205588285577, 0.7768698398515702, 0.6321205588285577, 0.6321205588285577, 0.7768698398515702, 0.7768698398515702, 0.3934693402873666, 0.7768698398515702]\n",
            "Media de falhas:  [0, 41821.194240000004, 288191.3985847138, 526667.3785400316, 818469.6321466084, 2666127.285563047, 28034045.573103245, 33407407.037045978, 60978802.400019325, 111916758.98655805, 119183410.28908627, 132243641.62739505, 262077716.12407798, 642518450.3876011, 676344178.8395418, 791018537.5479423, -2280256537.8729587]\n",
            "Custo =  178546142879.71756\n",
            "\n",
            "=========================================================================\n",
            "\n",
            "Número de ciclos de manutenção: 17 5\n",
            "Tempos para manutenções preventivas: [0, 42, 72, 117, 154, 190, 232, 267, 279, 323, 384, 396, 441, 478, 504, 590, 661, 705]\n",
            "Severidade para cada subsistema: [0.75, 0.75, 0.5, 0.25, 0.5, 0.5, 0.5, 0.25, 0.5, 0.75, 0.5, 0.5, 0.25, 0.75, 0.75, 0.25, 0.75]\n",
            "Número de Sisemas: 5\n",
            "Fator:  [0.3296799539643607, 0.7768698398515702, 0.7768698398515702, 0.6321205588285577, 0.3934693402873666, 0.6321205588285577, 0.6321205588285577, 0.6321205588285577, 0.3934693402873666, 0.6321205588285577, 0.7768698398515702, 0.6321205588285577, 0.6321205588285577, 0.3934693402873666, 0.7768698398515702, 0.7768698398515702, 0.3934693402873666, 0.7768698398515702]\n",
            "Media de falhas:  [0, 41821.194240000004, 248988.49597710665, 520368.16243790614, 836754.0202486442, 2835026.051016895, 27090314.770212613, 33719914.75229611, 36000462.04447172, 54051869.89825593, 319841755.0234512, 328902155.52858955, 340676664.45834357, 405168560.13588744, 458579048.6850386, 2554694516.2246256, 2651398810.0168805, 2711454786.619911, -745062348.5874343]\n",
            "Custo =  282543926358.1913\n",
            "\n",
            "=========================================================================\n",
            "\n",
            "Número de ciclos de manutenção: 17 5\n",
            "Tempos para manutenções preventivas: [0, 42, 71, 116, 149, 154, 193, 232, 260, 272, 323, 384, 399, 441, 467, 508, 595, 671]\n",
            "Severidade para cada subsistema: [0.75, 0.75, 0.5, 0.25, 0.25, 0.5, 0.5, 0.5, 0.5, 0.5, 0.75, 0.5, 0.5, 0.25, 0.75, 0.75, 0.5]\n",
            "Número de Sisemas: 5\n",
            "Fator:  [0.3296799539643607, 0.7768698398515702, 0.7768698398515702, 0.6321205588285577, 0.3934693402873666, 0.3934693402873666, 0.6321205588285577, 0.6321205588285577, 0.6321205588285577, 0.6321205588285577, 0.6321205588285577, 0.7768698398515702, 0.6321205588285577, 0.6321205588285577, 0.3934693402873666, 0.7768698398515702, 0.7768698398515702, 0.6321205588285577]\n",
            "Media de falhas:  [0, 41821.194240000004, 231308.33289065462, 497782.97291706287, 720583.921808539, 807236.9555570091, 11554229.888711913, 34142223.48377847, 38680205.88406082, 40744276.884374306, 62707644.57327858, 115300192.20533305, 127114959.3433194, 137684230.1879875, 177342332.75775608, 269088895.12714005, 2462074329.2683077, 2575761238.9694185, 2552654274.9217553]\n",
            "Custo =  137398297345.24002\n",
            "\n",
            "=========================================================================\n",
            "\n",
            "Número de ciclos de manutenção: 18 5\n",
            "Tempos para manutenções preventivas: [0, 42, 71, 117, 149, 153, 195, 232, 246, 323, 384, 401, 442, 465, 508, 594, 646, 661, 696]\n",
            "Severidade para cada subsistema: [0.75, 0.75, 0.5, 0.25, 0.25, 0.5, 0.5, 0.5, 0.5, 0.75, 0.5, 0.5, 0.25, 0.75, 0.75, 0.5, 0.75, 0.5]\n",
            "Número de Sisemas: 5\n",
            "Fator:  [0.3296799539643607, 0.7768698398515702, 0.7768698398515702, 0.6321205588285577, 0.3934693402873666, 0.3934693402873666, 0.6321205588285577, 0.6321205588285577, 0.6321205588285577, 0.6321205588285577, 0.7768698398515702, 0.6321205588285577, 0.6321205588285577, 0.3934693402873666, 0.7768698398515702, 0.7768698398515702, 0.6321205588285577, 0.7768698398515702, 0.6321205588285577]\n",
            "Media de falhas:  [0, 41821.194240000004, 231308.33289065462, 520440.69519263826, 728524.9908284079, 795371.3471871964, 12835605.336216457, 34312159.164406106, 35960031.53284759, 76206889.11133108, 128799436.74338555, 142571791.4821219, 152836798.42568254, 186943900.5941514, 283904772.43446034, 2438090622.380068, 2493487461.991075, 2506240399.9801087, 2767119942.830277, 2738448595.558919]\n",
            "Custo =  167686376523.86346\n",
            "\n",
            "=========================================================================\n",
            "\n",
            "Número de ciclos de manutenção: 18 5\n",
            "Tempos para manutenções preventivas: [0, 42, 72, 118, 149, 152, 195, 232, 244, 323, 384, 399, 441, 474, 507, 588, 624, 660, 695]\n",
            "Severidade para cada subsistema: [0.75, 0.75, 0.5, 0.25, 0.25, 0.5, 0.5, 0.5, 0.5, 0.75, 0.5, 0.5, 0.25, 0.75, 0.75, 0.75, 0.75, 0.25]\n",
            "Número de Sisemas: 5\n",
            "Fator:  [0.3296799539643607, 0.7768698398515702, 0.7768698398515702, 0.6321205588285577, 0.3934693402873666, 0.3934693402873666, 0.6321205588285577, 0.6321205588285577, 0.6321205588285577, 0.6321205588285577, 0.7768698398515702, 0.6321205588285577, 0.6321205588285577, 0.3934693402873666, 0.7768698398515702, 0.7768698398515702, 0.7768698398515702, 0.7768698398515702, 0.3934693402873666]\n",
            "Media de falhas:  [0, 41821.194240000004, 248988.49597710665, 543357.3322500142, 737477.155345132, 785819.0583608287, 13106169.449640412, 34582723.277830064, 35931160.73217458, 77872102.89883395, 130464650.53088841, 142279417.66887477, 152848688.51354286, 207653261.8952152, 278787086.1990558, 2231325875.496026, 2260701252.433863, 2296829840.635829, 2339034242.441277, 2310585734.1597424]\n",
            "Custo =  138779882806.56705\n",
            "\n",
            "=========================================================================\n",
            "\n",
            "Número de ciclos de manutenção: 17 5\n",
            "Tempos para manutenções preventivas: [0, 42, 74, 118, 149, 152, 193, 232, 245, 323, 357, 383, 398, 441, 498, 580, 657, 678]\n",
            "Severidade para cada subsistema: [0.75, 0.75, 0.5, 0.25, 0.25, 0.5, 0.5, 0.5, 0.5, 0.5, 0.75, 0.5, 0.5, 0.75, 0.75, 0.5, 0.5]\n",
            "Número de Sisemas: 5\n",
            "Fator:  [0.3296799539643607, 0.7768698398515702, 0.7768698398515702, 0.6321205588285577, 0.3934693402873666, 0.3934693402873666, 0.6321205588285577, 0.6321205588285577, 0.6321205588285577, 0.6321205588285577, 0.6321205588285577, 0.7768698398515702, 0.6321205588285577, 0.6321205588285577, 0.7768698398515702, 0.7768698398515702, 0.6321205588285577, 0.6321205588285577]\n",
            "Media de falhas:  [0, 41821.194240000004, 288191.3985847138, 547422.3442241683, 741542.1673192861, 789884.0703349828, 12072435.43133155, 34660429.02639811, 36155539.76410326, 77243679.68425173, 96339444.86983863, 114685847.69269656, 126384475.55453037, 137346817.79988304, 263450795.37637833, 617215505.2952149, 725510508.779917, 746158139.3126527, 484620468.73981637]\n",
            "Custo =  64417897741.61002\n",
            "\n",
            "=========================================================================\n",
            "\n",
            "Número de ciclos de manutenção: 18 5\n",
            "Tempos para manutenções preventivas: [0, 41, 75, 118, 149, 153, 191, 232, 254, 292, 323, 350, 382, 398, 441, 488, 572, 606, 645]\n",
            "Severidade para cada subsistema: [0.75, 0.75, 0.5, 0.25, 0.25, 0.5, 0.5, 0.5, 0.5, 0.5, 0.5, 0.75, 0.5, 0.5, 0.75, 0.75, 0.5, 0.5]\n",
            "Número de Sisemas: 5\n",
            "Fator:  [0.3296799539643607, 0.7768698398515702, 0.7768698398515702, 0.6321205588285577, 0.3934693402873666, 0.3934693402873666, 0.6321205588285577, 0.6321205588285577, 0.6321205588285577, 0.6321205588285577, 0.6321205588285577, 0.6321205588285577, 0.7768698398515702, 0.6321205588285577, 0.6321205588285577, 0.7768698398515702, 0.7768698398515702, 0.6321205588285577, 0.6321205588285577]\n",
            "Media de falhas:  [0, 37073.98432, 313201.02911719674, 556161.4679932119, 750281.2910883297, 817127.6474471182, 10865960.923922608, 34565350.74579676, 37677820.29084336, 47953106.06131276, 59637344.99532018, 73158355.56500031, 96190498.3346026, 108722178.72257328, 119684520.96792595, 212047866.03480804, 559062195.4664977, 583524170.3028202, 620416806.9700303, 463826430.5623852]\n",
            "Custo =  60676554321.235\n",
            "\n",
            "=========================================================================\n",
            "\n",
            "Número de ciclos de manutenção: 17 5\n",
            "Tempos para manutenções preventivas: [0, 41, 75, 118, 149, 153, 189, 232, 268, 323, 345, 382, 395, 441, 481, 510, 679, 703]\n",
            "Severidade para cada subsistema: [0.75, 0.75, 0.5, 0.25, 0.25, 0.5, 0.5, 0.5, 0.5, 0.5, 0.75, 0.5, 0.5, 0.75, 0.75, 0.25, 0.25]\n",
            "Número de Sisemas: 5\n",
            "Fator:  [0.3296799539643607, 0.7768698398515702, 0.7768698398515702, 0.6321205588285577, 0.3934693402873666, 0.3934693402873666, 0.6321205588285577, 0.6321205588285577, 0.6321205588285577, 0.6321205588285577, 0.6321205588285577, 0.7768698398515702, 0.6321205588285577, 0.6321205588285577, 0.7768698398515702, 0.7768698398515702, 0.3934693402873666, 0.3934693402873666]\n",
            "Media de falhas:  [0, 37073.98432, 313201.02911719674, 556161.4679932119, 750281.2910883297, 817127.6474471182, 9957535.098390646, 34768971.44404103, 41739837.53206557, 66110876.99404718, 76254019.29396607, 103585074.73668656, 113343531.22986478, 125537455.27854113, 197823715.33833024, 260875362.6713133, 833556467.4829451, 861297041.1431464, -2516993964.521337]\n",
            "Custo =  180182265336.41306\n",
            "\n",
            "=========================================================================\n",
            "\n",
            "Número de ciclos de manutenção: 15 5\n",
            "Tempos para manutenções preventivas: [0, 41, 75, 117, 149, 152, 188, 232, 289, 323, 346, 382, 392, 441, 481, 683]\n",
            "Severidade para cada subsistema: [0.75, 0.75, 0.5, 0.25, 0.25, 0.5, 0.5, 0.25, 0.5, 0.5, 0.75, 0.5, 0.5, 0.75, 0.25]\n",
            "Número de Sisemas: 5\n",
            "Fator:  [0.3296799539643607, 0.7768698398515702, 0.7768698398515702, 0.6321205588285577, 0.3934693402873666, 0.3934693402873666, 0.6321205588285577, 0.6321205588285577, 0.3934693402873666, 0.6321205588285577, 0.6321205588285577, 0.7768698398515702, 0.6321205588285577, 0.6321205588285577, 0.7768698398515702, 0.3934693402873666]\n",
            "Media de falhas:  [0, 37073.98432, 313201.02911719674, 536460.4595288807, 744544.7551646503, 792886.658180347, 9739762.531035682, 35107680.81857588, 52361345.381762624, 65420770.79890968, 133941895.48930044, 160394761.5949874, 167588483.93071178, 181095938.4489273, 253382198.5087164, 2698556658.6913996, 2672766348.5663257]\n",
            "Custo =  81922184720.64444\n",
            "\n",
            "=========================================================================\n",
            "\n",
            "Número de ciclos de manutenção: 15 5\n",
            "Tempos para manutenções preventivas: [0, 41, 74, 116, 151, 190, 232, 242, 275, 323, 355, 382, 390, 441, 489, 574]\n",
            "Severidade para cada subsistema: [0.75, 0.75, 0.5, 0.25, 0.5, 0.5, 0.75, 0.25, 0.5, 0.5, 0.75, 0.5, 0.5, 0.75, 0.75]\n",
            "Número de Sisemas: 5\n",
            "Fator:  [0.3296799539643607, 0.7768698398515702, 0.7768698398515702, 0.6321205588285577, 0.3934693402873666, 0.6321205588285577, 0.6321205588285577, 0.7768698398515702, 0.3934693402873666, 0.6321205588285577, 0.6321205588285577, 0.7768698398515702, 0.6321205588285577, 0.6321205588285577, 0.7768698398515702, 0.7768698398515702]\n",
            "Media de falhas:  [0, 37073.98432, 291069.2166396309, 510139.339352091, 774112.9735006496, 3022831.2371094874, 27278119.956305202, 28350744.30361495, 35219329.21939279, 39946594.82560406, 144369877.75376415, 163322537.0073229, 168916327.3022449, 183347208.92874196, 278806598.4082017, 635872110.6789284, 652630580.3736839]\n",
            "Custo =  51407349315.04122\n"
          ]
        },
        {
          "output_type": "stream",
          "name": "stderr",
          "text": [
            "pyswarms.single.global_best: 100%|██████████|100/100, best_cost=3.66e+10\n",
            "2023-09-30 16:02:22,892 - pyswarms.single.global_best - INFO - Optimization finished | best cost: 36639283572.17615, best pos: [3.70041938 5.37629693 5.60807342 4.0268366  2.05748502 0.94202621\n",
            " 3.24444883 3.74278131 0.13339988 5.63805965 3.78910955 4.66042838\n",
            " 5.85464045 2.93199544 3.69706152 1.43275927 6.09649312 3.69495061\n",
            " 6.25408816 5.75502707 0.35014656 3.65465969 3.51064299 6.76868211]\n",
            "2023-09-30 16:02:22,896 - pyswarms.single.global_best - INFO - Optimize for 1 iters with {'c1': 0.5, 'c2': 0.3, 'w': 0.9}\n"
          ]
        },
        {
          "output_type": "stream",
          "name": "stdout",
          "text": [
            "\n",
            "=========================================================================\n",
            "\n",
            "Número de ciclos de manutenção: 14 5\n",
            "Tempos para manutenções preventivas: [0, 42, 74, 115, 150, 194, 232, 323, 383, 441, 478, 493, 582, 668, 695]\n",
            "Severidade para cada subsistema: [0.75, 0.75, 0.5, 0.25, 0.5, 0.5, 0.5, 0.75, 0.5, 0.25, 0.75, 0.75, 0.5, 0.25]\n",
            "Número de Sisemas: 5\n",
            "Fator:  [0.3296799539643607, 0.7768698398515702, 0.7768698398515702, 0.6321205588285577, 0.3934693402873666, 0.6321205588285577, 0.6321205588285577, 0.6321205588285577, 0.7768698398515702, 0.6321205588285577, 0.3934693402873666, 0.7768698398515702, 0.7768698398515702, 0.6321205588285577, 0.3934693402873666]\n",
            "Media de falhas:  [0, 41821.194240000004, 288191.3985847138, 489137.90613987617, 748399.5581577541, 3655898.221027483, 25688221.02910562, 78815225.9469291, 129753182.53346781, 211593198.8826027, 223204039.10849476, 250415494.6077938, 2300049515.461877, 2438209498.6312575, 2468786573.755475, 2153431798.4094973]\n",
            "Custo =  138906857480.51337\n",
            "\n",
            "=========================================================================\n",
            "\n",
            "Número de ciclos de manutenção: 16 5\n",
            "Tempos para manutenções preventivas: [0, 42, 75, 115, 150, 197, 232, 323, 385, 393, 441, 467, 501, 531, 589, 626, 683]\n",
            "Severidade para cada subsistema: [0.75, 0.75, 0.5, 0.25, 0.5, 0.5, 0.5, 0.75, 0.5, 0.5, 0.25, 0.75, 0.5, 0.75, 0.25, 0.5]\n",
            "Número de Sisemas: 5\n",
            "Fator:  [0.3296799539643607, 0.7768698398515702, 0.7768698398515702, 0.6321205588285577, 0.3934693402873666, 0.6321205588285577, 0.6321205588285577, 0.6321205588285577, 0.7768698398515702, 0.6321205588285577, 0.6321205588285577, 0.3934693402873666, 0.7768698398515702, 0.6321205588285577, 0.7768698398515702, 0.3934693402873666, 0.6321205588285577]\n",
            "Media de falhas:  [0, 41821.194240000004, 309848.52388606407, 497531.7175237937, 756793.3695416716, 4157738.3164177523, 24522107.56524841, 77649112.4830719, 131933467.81482884, 137699949.82726595, 150760181.16557473, 190418283.7353433, 260660052.9884374, 759113096.4283254, 806425457.4009718, 989773196.1013232, 1066936021.2095145, -1560698744.3791704]\n",
            "Custo =  248468358040.38123\n"
          ]
        },
        {
          "output_type": "stream",
          "name": "stderr",
          "text": [
            "pyswarms.single.global_best: 100%|██████████|1/1, best_cost=3.66e+10\n",
            "2023-09-30 16:02:22,928 - pyswarms.single.global_best - INFO - Optimization finished | best cost: 36639283572.17615, best pos: [3.70056061 5.37629772 5.60807252 4.02684561 2.05726653 0.94202307\n",
            " 3.2444412  3.74286471 0.13337642 5.63682214 3.7890841  4.66043683\n",
            " 5.85464309 2.93200506 3.69717897 1.43275846 6.09637421 3.69499643\n",
            " 6.25195313 5.75386637 0.34925712 3.65466396 3.49564547 6.76852554]\n",
            "2023-09-30 16:02:22,933 - pyswarms.single.global_best - INFO - Optimize for 1 iters with {'c1': 0.5, 'c2': 0.3, 'w': 0.9}\n"
          ]
        },
        {
          "output_type": "stream",
          "name": "stdout",
          "text": [
            "\n",
            "=========================================================================\n",
            "\n",
            "Número de ciclos de manutenção: 21 5\n",
            "Tempos para manutenções preventivas: [0, 29, 43, 76, 116, 150, 197, 232, 299, 323, 354, 384, 398, 441, 459, 502, 523, 589, 620, 633, 684, 698]\n",
            "Severidade para cada subsistema: [0.5, 0.75, 0.75, 0.5, 0.25, 0.5, 0.5, 0.75, 0.5, 0.5, 0.75, 0.5, 0.5, 0.25, 0.75, 0.5, 0.75, 0.25, 0.5, 0.5, 0.5]\n",
            "Número de Sisemas: 5\n",
            "Fator:  [0.3296799539643607, 0.6321205588285577, 0.7768698398515702, 0.7768698398515702, 0.6321205588285577, 0.3934693402873666, 0.6321205588285577, 0.6321205588285577, 0.7768698398515702, 0.6321205588285577, 0.6321205588285577, 0.7768698398515702, 0.6321205588285577, 0.6321205588285577, 0.3934693402873666, 0.7768698398515702, 0.6321205588285577, 0.7768698398515702, 0.3934693402873666, 0.6321205588285577, 0.6321205588285577, 0.6321205588285577]\n",
            "Media de falhas:  [0, 6563.56768, 19054.62427528631, 107470.86215937199, 298853.43089837406, 541553.4588521343, 3942498.405728215, 24306867.65455887, 49120090.824623436, 57790600.26479243, 60890853.916485414, 82699896.82167634, 93572738.97415875, 104535081.21951142, 129432508.65942134, 222076222.60871637, 553532757.8300009, 611741306.7475783, 757167919.3361146, 766359112.7644302, 3077268309.5274386, 3177636566.536168, 2852695384.6501346]\n",
            "Custo =  338633605767.62646\n"
          ]
        },
        {
          "output_type": "stream",
          "name": "stderr",
          "text": [
            "pyswarms.single.global_best: 100%|██████████|1/1, best_cost=3.66e+10\n",
            "2023-09-30 16:02:22,968 - pyswarms.single.global_best - INFO - Optimization finished | best cost: 36639283572.17615, best pos: [3.70058632 5.37630147 5.60807218 4.02687149 2.05736381 0.94202176\n",
            " 3.24441467 3.74296    0.13333643 5.63689479 3.78907486 4.66044387\n",
            " 5.85464365 2.93201866 3.69719636 1.43276641 6.09646548 3.69502848\n",
            " 6.24994641 5.75419661 0.3494993  3.65465465 3.47117423 6.76863815]\n",
            "2023-09-30 16:02:22,970 - pyswarms.single.global_best - INFO - Optimize for 1 iters with {'c1': 0.5, 'c2': 0.3, 'w': 0.9}\n"
          ]
        },
        {
          "output_type": "stream",
          "name": "stdout",
          "text": [
            "\n",
            "=========================================================================\n",
            "\n",
            "Número de ciclos de manutenção: 18 5\n",
            "Tempos para manutenções preventivas: [0, 24, 43, 77, 118, 195, 232, 249, 323, 352, 385, 400, 441, 452, 504, 517, 590, 652, 715]\n",
            "Severidade para cada subsistema: [0.5, 0.75, 0.75, 0.5, 0.5, 0.5, 0.75, 0.5, 0.5, 0.75, 0.5, 0.5, 0.25, 0.75, 0.5, 0.75, 0.5, 0.5]\n",
            "Número de Sisemas: 5\n",
            "Fator:  [0.3296799539643607, 0.6321205588285577, 0.7768698398515702, 0.7768698398515702, 0.6321205588285577, 0.6321205588285577, 0.6321205588285577, 0.7768698398515702, 0.6321205588285577, 0.6321205588285577, 0.7768698398515702, 0.6321205588285577, 0.6321205588285577, 0.3934693402873666, 0.7768698398515702, 0.6321205588285577, 0.7768698398515702, 0.6321205588285577, 0.6321205588285577]\n",
            "Media de falhas:  [0, 2548.0396800000003, 19221.779777039636, 117106.05181402294, 329959.337162846, 4095279.28590847, 8351722.822231705, 10496305.347514248, 48286996.45343378, 51039839.13363584, 75639997.81814213, 87571767.56341848, 97756431.47738983, 111718144.21451437, 229614185.98529133, 427367491.18305916, 496700889.1795347, 883994211.4874123, 989172735.1752614, 609011571.2233242]\n",
            "Custo =  134456134930.3419\n"
          ]
        },
        {
          "output_type": "stream",
          "name": "stderr",
          "text": [
            "pyswarms.single.global_best: 100%|██████████|1/1, best_cost=3.66e+10\n",
            "2023-09-30 16:02:23,000 - pyswarms.single.global_best - INFO - Optimization finished | best cost: 36639283572.17615, best pos: [3.70058382 5.37630443 5.60807209 4.02688493 2.05746995 0.9420212\n",
            " 3.24440002 3.74302571 0.13331195 5.63700747 3.78906798 4.66044928\n",
            " 5.85464338 2.9320279  3.69720904 1.43277176 6.09655313 3.69504668\n",
            " 6.24934647 5.75451054 0.34983018 3.65464719 3.45914452 6.76875062]\n",
            "2023-09-30 16:02:23,002 - pyswarms.single.global_best - INFO - Optimize for 1 iters with {'c1': 0.5, 'c2': 0.3, 'w': 0.9}\n"
          ]
        },
        {
          "output_type": "stream",
          "name": "stdout",
          "text": [
            "\n",
            "=========================================================================\n",
            "\n",
            "Número de ciclos de manutenção: 14 5\n",
            "Tempos para manutenções preventivas: [0, 19, 43, 79, 192, 232, 323, 358, 385, 401, 441, 507, 514, 591, 680]\n",
            "Severidade para cada subsistema: [0.5, 0.75, 0.75, 0.5, 0.5, 0.5, 0.5, 0.75, 0.5, 0.5, 0.75, 0.5, 0.75, 0.75]\n",
            "Número de Sisemas: 5\n",
            "Fator:  [0.3296799539643607, 0.6321205588285577, 0.7768698398515702, 0.7768698398515702, 0.6321205588285577, 0.6321205588285577, 0.6321205588285577, 0.6321205588285577, 0.7768698398515702, 0.6321205588285577, 0.6321205588285577, 0.7768698398515702, 0.6321205588285577, 0.7768698398515702, 0.7768698398515702]\n",
            "Media de falhas:  [0, 792.3516800000001, 22094.99152159055, 141338.4329323975, 12311602.678139273, 13513888.441253588, 66640893.359077066, 86620922.22419864, 106155805.01138112, 119063024.39420357, 128871390.51220356, 291087086.987362, 305697518.60367274, 382167688.3110167, 1091104486.9086204, 1065979340.8206629]\n",
            "Custo =  67559521016.70819\n"
          ]
        },
        {
          "output_type": "stream",
          "name": "stderr",
          "text": [
            "pyswarms.single.global_best: 100%|██████████|1/1, best_cost=3.66e+10\n",
            "2023-09-30 16:02:23,030 - pyswarms.single.global_best - INFO - Optimization finished | best cost: 36639283572.17615, best pos: [3.70057903 5.37630679 5.60807228 4.02688702 2.05756656 0.94202115\n",
            " 3.24439221 3.74307742 0.13329475 5.63716152 3.7890672  4.66045174\n",
            " 5.85464286 2.93202763 3.6971897  1.43277551 6.09662231 3.69505735\n",
            " 6.24882951 5.75494153 0.35014247 3.65464344 3.45689299 6.76883619]\n",
            "2023-09-30 16:02:23,039 - pyswarms.single.global_best - INFO - Optimize for 1 iters with {'c1': 0.5, 'c2': 0.3, 'w': 0.9}\n"
          ]
        },
        {
          "output_type": "stream",
          "name": "stdout",
          "text": [
            "\n",
            "=========================================================================\n",
            "\n",
            "Número de ciclos de manutenção: 12 5\n",
            "Tempos para manutenções preventivas: [0, 14, 43, 80, 189, 232, 323, 385, 401, 440, 511, 592, 697]\n",
            "Severidade para cada subsistema: [0.5, 0.75, 0.75, 0.5, 0.5, 0.5, 0.75, 0.5, 0.5, 0.5, 0.75, 0.75]\n",
            "Número de Sisemas: 5\n",
            "Fator:  [0.3296799539643607, 0.6321205588285577, 0.7768698398515702, 0.7768698398515702, 0.6321205588285577, 0.6321205588285577, 0.6321205588285577, 0.7768698398515702, 0.6321205588285577, 0.6321205588285577, 0.6321205588285577, 0.7768698398515702, 0.7768698398515702]\n",
            "Media de falhas:  [0, 172.10368000000003, 26812.99750696554, 158046.7633376731, 10667628.634278962, 12059193.293102624, 65186198.2109261, 119470553.54268305, 132377772.9255055, 141743389.82981184, 325308762.25916564, 700794927.942728, 1665296911.2063746, 1636402336.9735298]\n",
            "Custo =  77376583483.9963\n"
          ]
        },
        {
          "output_type": "stream",
          "name": "stderr",
          "text": [
            "pyswarms.single.global_best:   0%|          |0/1, best_cost=3.66e+10"
          ]
        },
        {
          "output_type": "stream",
          "name": "stdout",
          "text": [
            "\n",
            "=========================================================================\n",
            "\n",
            "Número de ciclos de manutenção: 12 5\n",
            "Tempos para manutenções preventivas: [0, 11, 42, 80, 186, 232, 251, 323, 385, 398, 440, 593, 665]\n",
            "Severidade para cada subsistema: [0.5, 0.75, 0.75, 0.5, 0.5, 0.25, 0.5, 0.75, 0.5, 0.5, 0.75, 0.5]\n",
            "Número de Sisemas: 5\n",
            "Fator:  [0.3296799539643607, 0.6321205588285577, 0.7768698398515702, 0.7768698398515702, 0.6321205588285577, 0.6321205588285577, 0.3934693402873666, 0.6321205588285577, 0.7768698398515702, 0.6321205588285577, 0.6321205588285577, 0.7768698398515702, 0.6321205588285577]\n",
            "Media de falhas:  [0, 51.53632, 26670.701018662916, 166002.1415808074, 9490173.773886051, 11092288.73718479, 13601995.035142362, 49810220.19481902, 322624693.84430754, 332678880.6906212, 343165594.00140005, 1297949743.2252874, 1797927213.334539, 1776199900.5374904]\n",
            "Custo =  78817752084.32059\n"
          ]
        },
        {
          "output_type": "stream",
          "name": "stderr",
          "text": [
            "\rpyswarms.single.global_best: 100%|██████████|1/1, best_cost=3.66e+10\n",
            "2023-09-30 16:02:23,061 - pyswarms.single.global_best - INFO - Optimization finished | best cost: 36639283572.17615, best pos: [3.70055566 5.37630668 5.60807254 4.02688359 2.05764332 0.94202187\n",
            " 3.24439643 3.74311015 0.13329205 5.63754297 3.78907795 4.66045122\n",
            " 5.85464224 2.93202495 3.69717091 1.43277656 6.09667491 3.69505485\n",
            " 6.24994096 5.75534576 0.35042389 3.65464135 3.45916393 6.76888085]\n",
            "2023-09-30 16:02:23,064 - pyswarms.single.global_best - INFO - Optimize for 1 iters with {'c1': 0.5, 'c2': 0.3, 'w': 0.9}\n",
            "pyswarms.single.global_best: 100%|██████████|1/1, best_cost=3.66e+10\n",
            "2023-09-30 16:02:23,100 - pyswarms.single.global_best - INFO - Optimization finished | best cost: 36639283572.17615, best pos: [3.70050494 5.37630642 5.60807287 4.02687549 2.05770256 0.94202263\n",
            " 3.24440081 3.74305957 0.13329565 5.63793181 3.78909053 4.6604502\n",
            " 5.85464153 2.93202059 3.69712831 1.43277486 6.09670146 3.69504592\n",
            " 6.25169318 5.75563334 0.35061612 3.65464273 3.46438908 6.76890215]\n",
            "2023-09-30 16:02:23,103 - pyswarms.single.global_best - INFO - Optimize for 1 iters with {'c1': 0.5, 'c2': 0.3, 'w': 0.9}\n"
          ]
        },
        {
          "output_type": "stream",
          "name": "stdout",
          "text": [
            "\n",
            "=========================================================================\n",
            "\n",
            "Número de ciclos de manutenção: 15 5\n",
            "Tempos para manutenções preventivas: [0, 9, 41, 80, 184, 232, 242, 285, 323, 385, 393, 440, 513, 594, 615, 630]\n",
            "Severidade para cada subsistema: [0.5, 0.75, 0.75, 0.5, 0.5, 0.5, 0.25, 0.5, 0.75, 0.5, 0.5, 0.5, 0.75, 0.25, 0.75]\n",
            "Número de Sisemas: 5\n",
            "Fator:  [0.3296799539643607, 0.6321205588285577, 0.7768698398515702, 0.7768698398515702, 0.6321205588285577, 0.6321205588285577, 0.6321205588285577, 0.3934693402873666, 0.6321205588285577, 0.7768698398515702, 0.6321205588285577, 0.6321205588285577, 0.6321205588285577, 0.7768698398515702, 0.3934693402873666, 0.7768698398515702]\n",
            "Media de falhas:  [0, 18.895680000000002, 25481.47840365973, 173297.94744513978, 8768492.274975345, 10523687.361410636, 11596311.708720384, 22643639.279118832, 37621492.28015687, 310435965.92964536, 316202447.94208246, 328728223.10287035, 521866446.4774983, 902067498.3392525, 994891049.930625, 1005476591.6193645, 130705482.7202419]\n",
            "Custo =  191576640646.17206\n"
          ]
        },
        {
          "output_type": "stream",
          "name": "stderr",
          "text": [
            "pyswarms.single.global_best: 100%|██████████|1/1, best_cost=3.66e+10\n",
            "2023-09-30 16:02:23,133 - pyswarms.single.global_best - INFO - Optimization finished | best cost: 36639283572.17615, best pos: [3.70044717 5.37630448 5.60807329 4.02686339 2.05769703 0.94202339\n",
            " 3.24440627 3.74300877 0.13330179 5.63830487 3.78910725 4.66044919\n",
            " 5.85464057 2.93201471 3.69707415 1.43277149 6.09668948 3.69501216\n",
            " 6.25328001 5.75586929 0.3507827  3.65464662 3.47088886 6.76891743]\n",
            "2023-09-30 16:02:23,137 - pyswarms.single.global_best - INFO - Optimize for 1 iters with {'c1': 0.5, 'c2': 0.3, 'w': 0.9}\n"
          ]
        },
        {
          "output_type": "stream",
          "name": "stdout",
          "text": [
            "\n",
            "=========================================================================\n",
            "\n",
            "Número de ciclos de manutenção: 12 5\n",
            "Tempos para manutenções preventivas: [0, 10, 40, 79, 182, 232, 291, 323, 386, 440, 453, 517, 594]\n",
            "Severidade para cada subsistema: [0.5, 0.75, 0.75, 0.5, 0.5, 0.5, 0.5, 0.75, 0.5, 0.25, 0.5, 0.75]\n",
            "Número de Sisemas: 5\n",
            "Fator:  [0.3296799539643607, 0.6321205588285577, 0.7768698398515702, 0.7768698398515702, 0.6321205588285577, 0.6321205588285577, 0.6321205588285577, 0.6321205588285577, 0.7768698398515702, 0.6321205588285577, 0.3934693402873666, 0.6321205588285577, 0.7768698398515702]\n",
            "Media de falhas:  [0, 32.0, 21341.899705539257, 164219.60366678482, 8336603.543722637, 10255704.731899854, 28860692.287511352, 40997478.50333041, 97011482.52261655, 171100168.59168637, 173616747.13556495, 341372854.68177354, 2279732379.326607, 2302857570.1897464]\n",
            "Custo =  139681247183.52222\n"
          ]
        },
        {
          "output_type": "stream",
          "name": "stderr",
          "text": [
            "\rpyswarms.single.global_best:   0%|          |0/1"
          ]
        },
        {
          "output_type": "stream",
          "name": "stdout",
          "text": [
            "\n",
            "=========================================================================\n",
            "\n",
            "Número de ciclos de manutenção: 13 5\n",
            "Tempos para manutenções preventivas: [0, 14, 40, 78, 180, 232, 323, 333, 386, 440, 458, 523, 595, 617]\n",
            "Severidade para cada subsistema: [0.5, 0.75, 0.75, 0.5, 0.5, 0.5, 0.75, 0.75, 0.5, 0.25, 0.5, 0.75, 0.75]\n",
            "Número de Sisemas: 5\n",
            "Fator:  [0.3296799539643607, 0.6321205588285577, 0.7768698398515702, 0.7768698398515702, 0.6321205588285577, 0.6321205588285577, 0.6321205588285577, 0.7768698398515702, 0.7768698398515702, 0.6321205588285577, 0.3934693402873666, 0.6321205588285577, 0.7768698398515702, 0.7768698398515702]\n",
            "Media de falhas:  [0, 172.10368000000003, 17899.455670885694, 147943.8485463313, 7914322.426798653, 10008739.757731128, 63135744.6755546, 66909453.011501156, 111363050.00544953, 127135763.27763176, 130989566.697791, 309603038.76382935, 2140024773.1708336, 2238787822.8533654, 2231149821.8605747]\n",
            "Custo =  142142405241.34247\n"
          ]
        },
        {
          "output_type": "stream",
          "name": "stderr",
          "text": [
            "pyswarms.single.global_best: 100%|██████████|1/1, best_cost=3.66e+10\n",
            "2023-09-30 16:02:23,162 - pyswarms.single.global_best - INFO - Optimization finished | best cost: 36639283572.17615, best pos: [3.70039373 5.37630212 5.60807369 4.02684689 2.05765541 0.94202448\n",
            " 3.24441357 3.74295913 0.13331798 5.63862191 3.78912289 4.66044589\n",
            " 5.8546397  2.93200488 3.69702324 1.43276593 6.09663227 3.69496523\n",
            " 6.25479847 5.75587889 0.35075441 3.65465394 3.48751664 6.76888032]\n",
            "2023-09-30 16:02:23,164 - pyswarms.single.global_best - INFO - Optimize for 1 iters with {'c1': 0.5, 'c2': 0.3, 'w': 0.9}\n",
            "pyswarms.single.global_best:   0%|          |0/1"
          ]
        },
        {
          "output_type": "stream",
          "name": "stdout",
          "text": [
            "\n",
            "=========================================================================\n",
            "\n",
            "Número de ciclos de manutenção: 14 5\n",
            "Tempos para manutenções preventivas: [0, 17, 39, 77, 180, 231, 271, 323, 335, 385, 440, 463, 531, 594, 644]\n",
            "Severidade para cada subsistema: [0.5, 0.75, 0.75, 0.5, 0.5, 0.25, 0.5, 0.75, 0.75, 0.5, 0.25, 0.5, 0.75, 0.5]\n",
            "Número de Sisemas: 5\n",
            "Fator:  [0.3296799539643607, 0.6321205588285577, 0.7768698398515702, 0.7768698398515702, 0.6321205588285577, 0.6321205588285577, 0.3934693402873666, 0.6321205588285577, 0.7768698398515702, 0.7768698398515702, 0.6321205588285577, 0.3934693402873666, 0.6321205588285577, 0.7768698398515702, 0.6321205588285577]\n",
            "Media de falhas:  [0, 454.35424000000006, 13684.72775960982, 139273.01384254312, 8161658.286750736, 10143114.177409612, 18482788.130602006, 41035849.07282502, 73002255.29038242, 113837993.09828156, 130114853.52474666, 135557004.2550156, 335733364.55133975, 1936016375.9975328, 2223292722.453836, 2206839175.3435717]\n"
          ]
        },
        {
          "output_type": "stream",
          "name": "stderr",
          "text": [
            "pyswarms.single.global_best: 100%|██████████|1/1, best_cost=3.66e+10\n",
            "2023-09-30 16:02:23,195 - pyswarms.single.global_best - INFO - Optimization finished | best cost: 36639283572.17615, best pos: [3.70035311 5.3762989  5.60807403 4.02683051 2.05756704 0.94202591\n",
            " 3.24443023 3.74286992 0.13333497 5.63889977 3.78913332 4.66044177\n",
            " 5.85463906 2.931994   3.69697779 1.43275909 6.09656651 3.69492171\n",
            " 6.25597939 5.75574454 0.35063258 3.65466184 3.5083066  6.76879921]\n",
            "2023-09-30 16:02:23,198 - pyswarms.single.global_best - INFO - Optimize for 1 iters with {'c1': 0.5, 'c2': 0.3, 'w': 0.9}\n"
          ]
        },
        {
          "output_type": "stream",
          "name": "stdout",
          "text": [
            "Custo =  156962306452.28027\n"
          ]
        },
        {
          "output_type": "stream",
          "name": "stderr",
          "text": [
            "\rpyswarms.single.global_best:   0%|          |0/1"
          ]
        },
        {
          "output_type": "stream",
          "name": "stdout",
          "text": [
            "\n",
            "=========================================================================\n",
            "\n",
            "Número de ciclos de manutenção: 13 5\n",
            "Tempos para manutenções preventivas: [0, 21, 39, 76, 181, 232, 323, 332, 385, 440, 467, 537, 594, 708]\n",
            "Severidade para cada subsistema: [0.5, 0.75, 0.75, 0.5, 0.5, 0.5, 0.75, 0.75, 0.5, 0.25, 0.5, 0.75, 0.25]\n",
            "Número de Sisemas: 5\n",
            "Fator:  [0.3296799539643607, 0.6321205588285577, 0.7768698398515702, 0.7768698398515702, 0.6321205588285577, 0.6321205588285577, 0.6321205588285577, 0.7768698398515702, 0.7768698398515702, 0.6321205588285577, 0.3934693402873666, 0.6321205588285577, 0.7768698398515702, 0.3934693402873666]\n",
            "Media de falhas:  [0, 1306.9123200000001, 11996.794318657712, 126021.15515901051, 8759323.55310205, 10764619.268030325, 63891624.1858538, 67231443.0959756, 111260711.81008084, 127537572.23654594, 134453837.4477988, 351063824.83070403, 1805229882.012431, 2946677675.342217, 2915292150.387331]\n"
          ]
        },
        {
          "output_type": "stream",
          "name": "stderr",
          "text": [
            "pyswarms.single.global_best: 100%|██████████|1/1, best_cost=3.66e+10\n",
            "2023-09-30 16:02:23,231 - pyswarms.single.global_best - INFO - Optimization finished | best cost: 36639283572.17615, best pos: [3.70031791 5.37629576 5.60807428 4.02681737 2.05747303 0.94202727\n",
            " 3.24444689 3.74278087 0.13336263 5.63897895 3.78914169 4.66043749\n",
            " 5.85463874 2.93198438 3.69694276 1.43275294 6.09650072 3.69488633\n",
            " 6.25674984 5.75559972 0.35047197 3.65466834 3.52729285 6.76872549]\n",
            "2023-09-30 16:02:23,234 - pyswarms.single.global_best - INFO - Optimize for 1 iters with {'c1': 0.5, 'c2': 0.3, 'w': 0.9}\n"
          ]
        },
        {
          "output_type": "stream",
          "name": "stdout",
          "text": [
            "Custo =  165489785730.09506\n"
          ]
        },
        {
          "output_type": "stream",
          "name": "stderr",
          "text": [
            "\rpyswarms.single.global_best:   0%|          |0/1"
          ]
        },
        {
          "output_type": "stream",
          "name": "stdout",
          "text": [
            "\n",
            "=========================================================================\n",
            "\n",
            "Número de ciclos de manutenção: 12 5\n",
            "Tempos para manutenções preventivas: [0, 24, 39, 76, 183, 232, 252, 323, 385, 441, 470, 593, 666]\n",
            "Severidade para cada subsistema: [0.5, 0.75, 0.75, 0.5, 0.5, 0.25, 0.5, 0.75, 0.5, 0.25, 0.75, 0.5]\n",
            "Número de Sisemas: 5\n",
            "Fator:  [0.3296799539643607, 0.6321205588285577, 0.7768698398515702, 0.7768698398515702, 0.6321205588285577, 0.6321205588285577, 0.3934693402873666, 0.6321205588285577, 0.7768698398515702, 0.6321205588285577, 0.3934693402873666, 0.7768698398515702, 0.6321205588285577]\n",
            "Media de falhas:  [0, 2548.0396800000003, 11494.823854715853, 125519.18469506864, 9490353.138230845, 11326111.994037477, 14029184.615766061, 49462248.6862911, 322276722.3357796, 400522203.1241752, 408310072.78112286, 1084797615.317231, 4010957067.0643616, 3988997199.17068]\n"
          ]
        },
        {
          "output_type": "stream",
          "name": "stderr",
          "text": [
            "pyswarms.single.global_best: 100%|██████████|1/1, best_cost=3.66e+10\n",
            "2023-09-30 16:02:23,258 - pyswarms.single.global_best - INFO - Optimization finished | best cost: 36639283572.17615, best pos: [3.70031012 5.37629321 5.60807446 4.02681023 2.0573914  0.94202842\n",
            " 3.2444624  3.74270077 0.13339377 5.63878757 3.78914623 4.66043355\n",
            " 5.85463878 2.93197628 3.69694645 1.43274921 6.09644045 3.69485828\n",
            " 6.25700105 5.75530504 0.35024872 3.65467188 3.54159206 6.76864801]\n",
            "2023-09-30 16:02:23,260 - pyswarms.single.global_best - INFO - Optimize for 1 iters with {'c1': 0.5, 'c2': 0.3, 'w': 0.9}\n"
          ]
        },
        {
          "output_type": "stream",
          "name": "stdout",
          "text": [
            "Custo =  210984013819.30902\n"
          ]
        },
        {
          "output_type": "stream",
          "name": "stderr",
          "text": [
            "pyswarms.single.global_best: 100%|██████████|1/1, best_cost=3.66e+10\n",
            "2023-09-30 16:02:23,296 - pyswarms.single.global_best - INFO - Optimization finished | best cost: 36639283572.17615, best pos: [3.70030356 5.3762914  5.60807447 4.02680873 2.05733406 0.94202884\n",
            " 3.24447257 3.74264911 0.13342281 5.63848003 3.78914804 4.6604294\n",
            " 5.85463903 2.93197263 3.69695165 1.43274631 6.096399   3.69483342\n",
            " 6.25720129 5.7549622  0.3500382  3.65467327 3.54955049 6.76858126]\n",
            "2023-09-30 16:02:23,298 - pyswarms.single.global_best - INFO - Optimize for 1 iters with {'c1': 0.5, 'c2': 0.3, 'w': 0.9}\n"
          ]
        },
        {
          "output_type": "stream",
          "name": "stdout",
          "text": [
            "\n",
            "=========================================================================\n",
            "\n",
            "Número de ciclos de manutenção: 12 5\n",
            "Tempos para manutenções preventivas: [0, 26, 39, 75, 119, 185, 232, 323, 385, 441, 472, 592, 627]\n",
            "Severidade para cada subsistema: [0.5, 0.75, 0.75, 0.5, 0.5, 0.5, 0.5, 0.75, 0.5, 0.25, 0.75, 0.25]\n",
            "Número de Sisemas: 5\n",
            "Fator:  [0.3296799539643607, 0.6321205588285577, 0.7768698398515702, 0.7768698398515702, 0.6321205588285577, 0.6321205588285577, 0.6321205588285577, 0.6321205588285577, 0.7768698398515702, 0.6321205588285577, 0.3934693402873666, 0.7768698398515702, 0.3934693402873666]\n",
            "Media de falhas:  [0, 3802.0403200000005, 11634.673178185822, 114961.70165719006, 378987.48782413325, 2547917.899076686, 8533187.080241239, 61660191.99806472, 115944547.32982168, 194190028.1182173, 202847795.45986953, 850921796.0091977, 1981824904.796202, 1970544744.409914]\n",
            "Custo =  165742549890.27475\n"
          ]
        },
        {
          "output_type": "stream",
          "name": "stderr",
          "text": [
            "\rpyswarms.single.global_best:   0%|          |0/1"
          ]
        },
        {
          "output_type": "stream",
          "name": "stdout",
          "text": [
            "\n",
            "=========================================================================\n",
            "\n",
            "Número de ciclos de manutenção: 13 5\n",
            "Tempos para manutenções preventivas: [0, 26, 40, 76, 117, 187, 232, 323, 385, 441, 472, 591, 663, 695]\n",
            "Severidade para cada subsistema: [0.5, 0.75, 0.75, 0.5, 0.5, 0.5, 0.5, 0.75, 0.5, 0.25, 0.75, 0.75, 0.5]\n",
            "Número de Sisemas: 5\n",
            "Fator:  [0.3296799539643607, 0.6321205588285577, 0.7768698398515702, 0.7768698398515702, 0.6321205588285577, 0.6321205588285577, 0.6321205588285577, 0.6321205588285577, 0.7768698398515702, 0.6321205588285577, 0.3934693402873666, 0.7768698398515702, 0.7768698398515702, 0.6321205588285577]\n",
            "Media de falhas:  [0, 3802.0403200000005, 13099.452921137283, 120237.97934497442, 329062.07538601966, 2948842.3454291234, 8561511.712180614, 61688516.63000409, 115972871.96176104, 194218352.75015664, 202876120.0918089, 839135562.3903884, 3674726706.7679577, 3712411282.355523, 3683962774.0739884]\n"
          ]
        },
        {
          "output_type": "stream",
          "name": "stderr",
          "text": [
            "pyswarms.single.global_best: 100%|██████████|1/1, best_cost=3.66e+10\n",
            "2023-09-30 16:02:23,333 - pyswarms.single.global_best - INFO - Optimization finished | best cost: 36639283572.17615, best pos: [3.70032406 5.37629132 5.60807426 4.02681294 2.05730698 0.94202842\n",
            " 3.2444787  3.74261259 0.13344791 5.63809138 3.78914944 4.66042538\n",
            " 5.85463955 2.93197303 3.6969731  1.43274443 6.09638897 3.6948259\n",
            " 6.25698128 5.75466353 0.34985984 3.65467336 3.55280249 6.76855059]\n",
            "2023-09-30 16:02:23,335 - pyswarms.single.global_best - INFO - Optimize for 1 iters with {'c1': 0.5, 'c2': 0.3, 'w': 0.9}\n"
          ]
        },
        {
          "output_type": "stream",
          "name": "stdout",
          "text": [
            "Custo =  198055807541.54837\n"
          ]
        },
        {
          "output_type": "stream",
          "name": "stderr",
          "text": [
            "pyswarms.single.global_best: 100%|██████████|1/1, best_cost=3.66e+10\n",
            "2023-09-30 16:02:23,364 - pyswarms.single.global_best - INFO - Optimization finished | best cost: 36639283572.17615, best pos: [3.70036194 5.37629283 5.60807401 4.02681747 2.05732114 0.9420279\n",
            " 3.24447924 3.74260821 0.13346703 5.63774059 3.78913986 4.66042183\n",
            " 5.8546402  2.93197808 3.69699856 1.43274392 6.09640941 3.69484481\n",
            " 6.25642802 5.75450276 0.3497258  3.65467274 3.54917592 6.76853459]\n",
            "2023-09-30 16:02:23,366 - pyswarms.single.global_best - INFO - Optimize for 1 iters with {'c1': 0.5, 'c2': 0.3, 'w': 0.9}\n"
          ]
        },
        {
          "output_type": "stream",
          "name": "stdout",
          "text": [
            "\n",
            "=========================================================================\n",
            "\n",
            "Número de ciclos de manutenção: 16 5\n",
            "Tempos para manutenções preventivas: [0, 27, 40, 76, 116, 150, 188, 232, 260, 323, 385, 441, 470, 509, 591, 630, 668]\n",
            "Severidade para cada subsistema: [0.5, 0.75, 0.75, 0.5, 0.25, 0.5, 0.5, 0.75, 0.5, 0.75, 0.5, 0.25, 0.75, 0.75, 0.5, 0.5]\n",
            "Número de Sisemas: 5\n",
            "Fator:  [0.3296799539643607, 0.6321205588285577, 0.7768698398515702, 0.7768698398515702, 0.6321205588285577, 0.3934693402873666, 0.6321205588285577, 0.6321205588285577, 0.7768698398515702, 0.6321205588285577, 0.7768698398515702, 0.6321205588285577, 0.3934693402873666, 0.7768698398515702, 0.7768698398515702, 0.6321205588285577, 0.6321205588285577]\n",
            "Media de falhas:  [0, 4591.65024, 13278.252427048494, 120416.77885088563, 311799.3475898877, 554499.3755436479, 2638828.634503226, 28006746.922043424, 32544729.322325777, 62144112.66153175, 75383846.49999379, 153629327.28838938, 161417196.94533703, 248689308.8152252, 2265331863.5469904, 2299180932.3692493, 2339721537.03714, 2109704170.1286867]\n",
            "Custo =  141226824685.08676\n"
          ]
        },
        {
          "output_type": "stream",
          "name": "stderr",
          "text": [
            "pyswarms.single.global_best:   0%|          |0/1, best_cost=3.66e+10"
          ]
        },
        {
          "output_type": "stream",
          "name": "stdout",
          "text": [
            "\n",
            "=========================================================================\n",
            "\n",
            "Número de ciclos de manutenção: 16 5\n",
            "Tempos para manutenções preventivas: [0, 26, 41, 77, 117, 150, 190, 232, 323, 385, 441, 467, 509, 591, 620, 644, 681]\n",
            "Severidade para cada subsistema: [0.5, 0.75, 0.75, 0.5, 0.25, 0.5, 0.5, 0.5, 0.75, 0.5, 0.25, 0.75, 0.75, 0.5, 0.5, 0.25]\n",
            "Número de Sisemas: 5\n",
            "Fator:  [0.3296799539643607, 0.6321205588285577, 0.7768698398515702, 0.7768698398515702, 0.6321205588285577, 0.3934693402873666, 0.6321205588285577, 0.6321205588285577, 0.6321205588285577, 0.7768698398515702, 0.6321205588285577, 0.3934693402873666, 0.7768698398515702, 0.7768698398515702, 0.6321205588285577, 0.6321205588285577, 0.3934693402873666]\n",
            "Media de falhas:  [0, 3802.0403200000005, 14763.008372518674, 125823.2558447325, 320962.5248472241, 547924.9214033517, 2884090.2766050743, 27139378.99580079, 80266383.91362427, 134550739.24538124, 212796220.03377682, 219377740.70306364, 314436267.97634965, 2331078822.708115, 2352794584.5560045, 2372661928.6133657, 2627250234.144869, 2356254895.3026237]\n",
            "Custo =  169683541274.38913\n"
          ]
        },
        {
          "output_type": "stream",
          "name": "stderr",
          "text": [
            "\rpyswarms.single.global_best: 100%|██████████|1/1, best_cost=3.66e+10\n",
            "2023-09-30 16:02:23,399 - pyswarms.single.global_best - INFO - Optimization finished | best cost: 36639283572.17615, best pos: [3.70040735 5.37629534 5.60807367 4.02682592 2.0573399  0.94202722\n",
            " 3.24447304 3.74261738 0.13348206 5.63747295 3.7891268  4.6604205\n",
            " 5.85464085 2.93198274 3.69703157 1.43274371 6.0964475  3.6948709\n",
            " 6.25551396 5.75441241 0.34967886 3.654671   3.54293966 6.76853997]\n",
            "2023-09-30 16:02:23,401 - pyswarms.single.global_best - INFO - Optimize for 1 iters with {'c1': 0.5, 'c2': 0.3, 'w': 0.9}\n",
            "pyswarms.single.global_best:   0%|          |0/1"
          ]
        },
        {
          "output_type": "stream",
          "name": "stdout",
          "text": [
            "\n",
            "=========================================================================\n",
            "\n",
            "Número de ciclos de manutenção: 15 5\n",
            "Tempos para manutenções preventivas: [0, 25, 41, 78, 118, 150, 191, 232, 323, 385, 391, 441, 464, 591, 657, 717]\n",
            "Severidade para cada subsistema: [0.5, 0.75, 0.75, 0.5, 0.25, 0.5, 0.5, 0.5, 0.75, 0.5, 0.5, 0.25, 0.75, 0.5, 0.75]\n",
            "Número de Sisemas: 5\n",
            "Fator:  [0.3296799539643607, 0.6321205588285577, 0.7768698398515702, 0.7768698398515702, 0.6321205588285577, 0.3934693402873666, 0.6321205588285577, 0.6321205588285577, 0.6321205588285577, 0.7768698398515702, 0.6321205588285577, 0.6321205588285577, 0.3934693402873666, 0.7768698398515702, 0.6321205588285577, 0.7768698398515702]\n",
            "Media de falhas:  [0, 3125.0000000000005, 14772.902067950688, 137163.1491229534, 336117.0760828213, 548133.8242920362, 3018409.795555611, 26717799.617429763, 79844804.53525324, 134129159.86701019, 138333727.9289645, 152298009.13193706, 186118991.51047385, 887941809.2239568, 3402983977.0349035, 3501756891.0215926, 3114974073.380495]\n"
          ]
        },
        {
          "output_type": "stream",
          "name": "stderr",
          "text": [
            "pyswarms.single.global_best: 100%|██████████|1/1, best_cost=3.66e+10\n",
            "2023-09-30 16:02:23,424 - pyswarms.single.global_best - INFO - Optimization finished | best cost: 36639283572.17615, best pos: [3.70045129 5.37629793 5.60807334 4.02683392 2.05736082 0.94202642\n",
            " 3.24446656 3.74263157 0.13348223 5.63729483 3.78911229 4.66042155\n",
            " 5.85464141 2.93198721 3.69706885 1.43274698 6.0964895  3.69490593\n",
            " 6.25437666 5.7543944  0.34974086 3.65466856 3.53637644 6.76855362]\n",
            "2023-09-30 16:02:23,426 - pyswarms.single.global_best - INFO - Optimize for 1 iters with {'c1': 0.5, 'c2': 0.3, 'w': 0.9}\n"
          ]
        },
        {
          "output_type": "stream",
          "name": "stdout",
          "text": [
            "Custo =  212595408018.21774\n"
          ]
        },
        {
          "output_type": "stream",
          "name": "stderr",
          "text": [
            "pyswarms.single.global_best: 100%|██████████|1/1, best_cost=3.66e+10"
          ]
        },
        {
          "output_type": "stream",
          "name": "stdout",
          "text": [
            "\n",
            "=========================================================================\n",
            "\n",
            "Número de ciclos de manutenção: 15 5\n",
            "Tempos para manutenções preventivas: [0, 23, 42, 78, 119, 150, 191, 232, 282, 323, 385, 393, 441, 461, 536, 591]\n",
            "Severidade para cada subsistema: [0.5, 0.75, 0.75, 0.5, 0.25, 0.5, 0.5, 0.25, 0.5, 0.75, 0.5, 0.5, 0.25, 0.5, 0.75]\n",
            "Número de Sisemas: 5\n",
            "Fator:  [0.3296799539643607, 0.6321205588285577, 0.7768698398515702, 0.7768698398515702, 0.6321205588285577, 0.3934693402873666, 0.6321205588285577, 0.6321205588285577, 0.3934693402873666, 0.6321205588285577, 0.7768698398515702, 0.6321205588285577, 0.6321205588285577, 0.3934693402873666, 0.6321205588285577, 0.7768698398515702]\n",
            "Media de falhas:  [0, 2059.6297600000003, 17234.779218967422, 132329.23514601903, 349272.8479982794, 547104.7455288795, 3017380.7167924545, 26716770.538666606, 39802427.38611391, 56286510.81735973, 329100984.46684825, 334867466.47928536, 347927697.8175941, 376277700.2058872, 611517781.0942247, 1988311076.3385215, 2023263705.4638927]\n",
            "Custo =  160724820047.93143\n"
          ]
        },
        {
          "output_type": "stream",
          "name": "stderr",
          "text": [
            "\n",
            "2023-09-30 16:02:23,457 - pyswarms.single.global_best - INFO - Optimization finished | best cost: 36639283572.17615, best pos: [3.70048283 5.37630011 5.60807306 4.02684178 2.05740556 0.94202564\n",
            " 3.24445946 3.74268786 0.13346776 5.63718858 3.78909906 4.66042303\n",
            " 5.85464166 2.9319935  3.69710156 1.43275239 6.09652775 3.69493959\n",
            " 6.25329329 5.75454925 0.3498879  3.65466527 3.5283382  6.7686027 ]\n",
            "2023-09-30 16:02:23,460 - pyswarms.single.global_best - INFO - Optimize for 1 iters with {'c1': 0.5, 'c2': 0.3, 'w': 0.9}\n",
            "pyswarms.single.global_best:   0%|          |0/1"
          ]
        },
        {
          "output_type": "stream",
          "name": "stdout",
          "text": [
            "\n",
            "=========================================================================\n",
            "\n",
            "Número de ciclos de manutenção: 13 5\n",
            "Tempos para manutenções preventivas: [0, 21, 42, 79, 190, 232, 269, 323, 385, 395, 440, 459, 530, 592]\n",
            "Severidade para cada subsistema: [0.5, 0.75, 0.75, 0.5, 0.5, 0.75, 0.5, 0.75, 0.5, 0.5, 0.25, 0.5, 0.75]\n",
            "Número de Sisemas: 5\n",
            "Fator:  [0.3296799539643607, 0.6321205588285577, 0.7768698398515702, 0.7768698398515702, 0.6321205588285577, 0.6321205588285577, 0.7768698398515702, 0.6321205588285577, 0.7768698398515702, 0.6321205588285577, 0.6321205588285577, 0.3934693402873666, 0.6321205588285577, 0.7768698398515702]\n",
            "Media de falhas:  [0, 1306.9123200000001, 18122.05735818013, 144873.16868785402, 11411514.290659523, 12737709.68282086, 20061278.37100553, 43818053.24061553, 57057787.079077564, 64471959.083276086, 76155576.29714173, 102533700.00730091, 312649730.4626615, 1867290344.4919336, 1898280103.3877285]\n"
          ]
        },
        {
          "output_type": "stream",
          "name": "stderr",
          "text": [
            "pyswarms.single.global_best: 100%|██████████|1/1, best_cost=3.66e+10\n",
            "2023-09-30 16:02:23,507 - pyswarms.single.global_best - INFO - Optimization finished | best cost: 36639283572.17615, best pos: [3.70050579 5.37630156 5.60807288 4.02684863 2.05746562 0.94202511\n",
            " 3.24445085 3.74274341 0.13345087 5.63713663 3.78908907 4.66042448\n",
            " 5.85464164 2.9319995  3.69712466 1.43275813 6.09656217 3.69497174\n",
            " 6.2525172  5.75475395 0.35004314 3.65466171 3.51716703 6.76864869]\n",
            "2023-09-30 16:02:23,511 - pyswarms.single.global_best - INFO - Optimize for 1 iters with {'c1': 0.5, 'c2': 0.3, 'w': 0.9}\n"
          ]
        },
        {
          "output_type": "stream",
          "name": "stdout",
          "text": [
            "Custo =  141144441339.0467\n"
          ]
        },
        {
          "output_type": "stream",
          "name": "stderr",
          "text": [
            "\rpyswarms.single.global_best:   0%|          |0/1"
          ]
        },
        {
          "output_type": "stream",
          "name": "stdout",
          "text": [
            "\n",
            "=========================================================================\n",
            "\n",
            "Número de ciclos de manutenção: 14 5\n",
            "Tempos para manutenções preventivas: [0, 20, 42, 79, 189, 232, 323, 385, 395, 440, 457, 526, 592, 678, 696]\n",
            "Severidade para cada subsistema: [0.5, 0.75, 0.75, 0.5, 0.5, 0.5, 0.75, 0.5, 0.5, 0.25, 0.5, 0.75, 0.25, 0.5]\n",
            "Número de Sisemas: 5\n",
            "Fator:  [0.3296799539643607, 0.6321205588285577, 0.7768698398515702, 0.7768698398515702, 0.6321205588285577, 0.6321205588285577, 0.6321205588285577, 0.7768698398515702, 0.6321205588285577, 0.6321205588285577, 0.3934693402873666, 0.6321205588285577, 0.7768698398515702, 0.3934693402873666, 0.6321205588285577]\n",
            "Media de falhas:  [0, 1024.0, 18691.11011585266, 145442.22144552658, 10980862.57181716, 12372427.230640821, 65499432.1484643, 119783787.48022124, 127197959.48441976, 138881576.6982854, 161910182.17015147, 358813804.94961685, 2009181740.6523614, 2680305434.236767, 2699433235.567969, -409712977.16725874]\n"
          ]
        },
        {
          "output_type": "stream",
          "name": "stderr",
          "text": [
            "pyswarms.single.global_best: 100%|██████████|1/1, best_cost=3.66e+10\n",
            "2023-09-30 16:02:23,533 - pyswarms.single.global_best - INFO - Optimization finished | best cost: 36639283572.17615, best pos: [3.70051426 5.37630269 5.60807283 4.02685288 2.05752328 0.94202479\n",
            " 3.24444293 3.7428012  0.1334335  5.63725704 3.78908293 4.66042665\n",
            " 5.85464163 2.93200368 3.69712806 1.43276347 6.09658631 3.69499622\n",
            " 6.25211746 5.75500454 0.3502041  3.654658   3.5066299  6.7686951 ]\n",
            "2023-09-30 16:02:23,535 - pyswarms.single.global_best - INFO - Optimize for 1 iters with {'c1': 0.5, 'c2': 0.3, 'w': 0.9}\n"
          ]
        },
        {
          "output_type": "stream",
          "name": "stdout",
          "text": [
            "Custo =  292251201668.69543\n"
          ]
        },
        {
          "output_type": "stream",
          "name": "stderr",
          "text": [
            "pyswarms.single.global_best:   0%|          |0/1, best_cost=3.66e+10"
          ]
        },
        {
          "output_type": "stream",
          "name": "stdout",
          "text": [
            "\n",
            "=========================================================================\n",
            "\n",
            "Número de ciclos de manutenção: 14 5\n",
            "Tempos para manutenções preventivas: [0, 18, 42, 79, 188, 232, 267, 289, 323, 385, 393, 440, 456, 523, 593]\n",
            "Severidade para cada subsistema: [0.5, 0.75, 0.75, 0.5, 0.5, 0.25, 0.25, 0.5, 0.75, 0.5, 0.5, 0.25, 0.5, 0.75]\n",
            "Número de Sisemas: 5\n",
            "Fator:  [0.3296799539643607, 0.6321205588285577, 0.7768698398515702, 0.7768698398515702, 0.6321205588285577, 0.6321205588285577, 0.3934693402873666, 0.3934693402873666, 0.6321205588285577, 0.7768698398515702, 0.6321205588285577, 0.6321205588285577, 0.3934693402873666, 0.6321205588285577, 0.7768698398515702]\n",
            "Media de falhas:  [0, 604.6617600000001, 20049.377536236527, 146800.48886591045, 10564305.343179002, 12023601.967007665, 18653201.949091163, 23764630.98828169, 99298831.29332903, 372113304.94281757, 377879786.9552547, 390405562.11604255, 411814654.7592069, 597445988.7478511, 2355182289.988952, 2382229666.78]\n",
            "Custo =  164988092469.66238\n"
          ]
        },
        {
          "output_type": "stream",
          "name": "stderr",
          "text": [
            "\rpyswarms.single.global_best: 100%|██████████|1/1, best_cost=3.66e+10\n",
            "2023-09-30 16:02:23,563 - pyswarms.single.global_best - INFO - Optimization finished | best cost: 36639283572.17615, best pos: [3.7005114  5.37630248 5.60807296 4.02685395 2.05757263 0.94202459\n",
            " 3.2444361  3.74284871 0.13341458 5.63753964 3.78907764 4.66042893\n",
            " 5.85464126 2.93200568 3.69713062 1.4327682  6.09660247 3.69501296\n",
            " 6.25211006 5.75523058 0.35034437 3.65465498 3.49726677 6.76873588]\n",
            "2023-09-30 16:02:23,579 - pyswarms.single.global_best - INFO - Optimize for 1 iters with {'c1': 0.5, 'c2': 0.3, 'w': 0.9}\n",
            "pyswarms.single.global_best: 100%|██████████|1/1, best_cost=3.66e+10\n",
            "2023-09-30 16:02:23,604 - pyswarms.single.global_best - INFO - Optimization finished | best cost: 36639283572.17615, best pos: [3.70048643 5.37630217 5.60807311 4.02684995 2.05761262 0.94202459\n",
            " 3.24443039 3.74289084 0.13339505 5.63788579 3.78907576 4.66043098\n",
            " 5.85464072 2.93200737 3.69711289 1.43277193 6.09658439 3.69502538\n",
            " 6.25220878 5.7554     0.35041444 3.65465296 3.49212088 6.76875874]\n",
            "2023-09-30 16:02:23,608 - pyswarms.single.global_best - INFO - Optimize for 1 iters with {'c1': 0.5, 'c2': 0.3, 'w': 0.9}\n"
          ]
        },
        {
          "output_type": "stream",
          "name": "stdout",
          "text": [
            "\n",
            "=========================================================================\n",
            "\n",
            "Número de ciclos de manutenção: 13 5\n",
            "Tempos para manutenções preventivas: [0, 18, 42, 79, 186, 232, 323, 385, 390, 440, 457, 521, 593, 627]\n",
            "Severidade para cada subsistema: [0.5, 0.75, 0.75, 0.5, 0.5, 0.5, 0.75, 0.5, 0.5, 0.25, 0.5, 0.75, 0.75]\n",
            "Número de Sisemas: 5\n",
            "Fator:  [0.3296799539643607, 0.6321205588285577, 0.7768698398515702, 0.7768698398515702, 0.6321205588285577, 0.6321205588285577, 0.6321205588285577, 0.7768698398515702, 0.6321205588285577, 0.6321205588285577, 0.3934693402873666, 0.6321205588285577, 0.7768698398515702, 0.7768698398515702]\n",
            "Media de falhas:  [0, 604.6617600000001, 20049.377536236527, 146800.48886591045, 9767153.829601692, 11369268.792900432, 64496273.71072391, 118780629.04248086, 122235342.125825, 136093949.04659203, 159122554.51845807, 331779322.273306, 2137439372.6073055, 2305519242.1503997, 2294239081.7641115]\n",
            "Custo =  148195190502.25372\n"
          ]
        },
        {
          "output_type": "stream",
          "name": "stderr",
          "text": [
            "\rpyswarms.single.global_best:   0%|          |0/1"
          ]
        },
        {
          "output_type": "stream",
          "name": "stdout",
          "text": [
            "\n",
            "=========================================================================\n",
            "\n",
            "Número de ciclos de manutenção: 13 5\n",
            "Tempos para manutenções preventivas: [0, 17, 41, 79, 185, 232, 323, 385, 440, 459, 521, 593, 656, 663]\n",
            "Severidade para cada subsistema: [0.5, 0.75, 0.75, 0.5, 0.5, 0.5, 0.75, 0.5, 0.25, 0.5, 0.75, 0.5, 0.75]\n",
            "Número de Sisemas: 5\n",
            "Fator:  [0.3296799539643607, 0.6321205588285577, 0.7768698398515702, 0.7768698398515702, 0.6321205588285577, 0.6321205588285577, 0.6321205588285577, 0.7768698398515702, 0.6321205588285577, 0.3934693402873666, 0.6321205588285577, 0.7768698398515702, 0.6321205588285577, 0.7768698398515702]\n",
            "Media de falhas:  [0, 454.35424000000006, 18171.01560270502, 152795.63905561637, 9393306.906049406, 11070644.407335497, 64197649.325158976, 118482004.65691593, 194311089.7764668, 198461431.62130678, 364360804.1597279, 2170020854.4937277, 2574073686.1120715, 2579730730.076097, 2365517028.9822235]\n"
          ]
        },
        {
          "output_type": "stream",
          "name": "stderr",
          "text": [
            "pyswarms.single.global_best: 100%|██████████|1/1, best_cost=3.66e+10\n",
            "2023-09-30 16:02:23,638 - pyswarms.single.global_best - INFO - Optimization finished | best cost: 36639283572.17615, best pos: [3.70045562 5.37630119 5.60807333 4.02684291 2.0576171  0.94202463\n",
            " 3.24442822 3.74292795 0.13337849 5.63821646 3.78908056 4.66043233\n",
            " 5.85464022 2.93200543 3.69708623 1.43277328 6.09655811 3.69503052\n",
            " 6.25270586 5.75549723 0.35041309 3.65465304 3.48763831 6.76877015]\n",
            "2023-09-30 16:02:23,639 - pyswarms.single.global_best - INFO - Optimize for 1 iters with {'c1': 0.5, 'c2': 0.3, 'w': 0.9}\n"
          ]
        },
        {
          "output_type": "stream",
          "name": "stdout",
          "text": [
            "Custo =  166240000005.95862\n"
          ]
        },
        {
          "output_type": "stream",
          "name": "stderr",
          "text": [
            "pyswarms.single.global_best: 100%|██████████|1/1, best_cost=3.66e+10\n",
            "2023-09-30 16:02:23,669 - pyswarms.single.global_best - INFO - Optimization finished | best cost: 36639283572.17615, best pos: [3.7004269  5.37629955 5.60807353 4.02683524 2.0576014  0.94202487\n",
            " 3.24443149 3.74295936 0.13336994 5.63850298 3.78909214 4.66043281\n",
            " 5.85463979 2.93200296 3.69705658 1.43277403 6.09652213 3.69501359\n",
            " 6.25329335 5.7555659  0.35036046 3.65465426 3.48474862 6.7687656 ]\n",
            "2023-09-30 16:02:23,672 - pyswarms.single.global_best - INFO - Optimize for 1 iters with {'c1': 0.5, 'c2': 0.3, 'w': 0.9}\n"
          ]
        },
        {
          "output_type": "stream",
          "name": "stdout",
          "text": [
            "\n",
            "=========================================================================\n",
            "\n",
            "Número de ciclos de manutenção: 15 5\n",
            "Tempos para manutenções preventivas: [0, 18, 41, 78, 184, 232, 272, 323, 385, 440, 461, 522, 593, 648, 680, 694]\n",
            "Severidade para cada subsistema: [0.5, 0.75, 0.75, 0.5, 0.5, 0.25, 0.5, 0.75, 0.5, 0.25, 0.5, 0.75, 0.5, 0.75, 0.5]\n",
            "Número de Sisemas: 5\n",
            "Fator:  [0.3296799539643607, 0.6321205588285577, 0.7768698398515702, 0.7768698398515702, 0.6321205588285577, 0.6321205588285577, 0.3934693402873666, 0.6321205588285577, 0.7768698398515702, 0.6321205588285577, 0.3934693402873666, 0.6321205588285577, 0.7768698398515702, 0.6321205588285577, 0.7768698398515702, 0.6321205588285577]\n",
            "Media de falhas:  [0, 604.6617600000001, 17488.315874399985, 139878.5629294027, 9297329.7798407, 11052524.866275992, 19505694.510437503, 41469062.19934178, 314283535.8488303, 390112620.96838117, 394887197.6295683, 558623049.8307775, 2340329736.756158, 2668827062.8661194, 2703554466.4861574, 2801659541.42729, 2773433521.372521]\n",
            "Custo =  195678676080.7119\n"
          ]
        },
        {
          "output_type": "stream",
          "name": "stderr",
          "text": [
            "pyswarms.single.global_best:   0%|          |0/1, best_cost=3.66e+10"
          ]
        },
        {
          "output_type": "stream",
          "name": "stdout",
          "text": [
            "\n",
            "=========================================================================\n",
            "\n",
            "Número de ciclos de manutenção: 13 5\n",
            "Tempos para manutenções preventivas: [0, 19, 41, 78, 184, 232, 296, 323, 385, 440, 463, 523, 593, 641]\n",
            "Severidade para cada subsistema: [0.5, 0.75, 0.75, 0.5, 0.5, 0.5, 0.5, 0.75, 0.5, 0.25, 0.5, 0.75, 0.5]\n",
            "Número de Sisemas: 5\n",
            "Fator:  [0.3296799539643607, 0.6321205588285577, 0.7768698398515702, 0.7768698398515702, 0.6321205588285577, 0.6321205588285577, 0.6321205588285577, 0.6321205588285577, 0.7768698398515702, 0.6321205588285577, 0.3934693402873666, 0.6321205588285577, 0.7768698398515702, 0.6321205588285577]\n",
            "Media de falhas:  [0, 792.3516800000001, 16867.933365019428, 139258.18042002214, 9296709.39733132, 11051904.483766612, 33379215.999760676, 43309322.38587475, 97593677.7176317, 173422762.83718255, 178864913.5674515, 340425825.09685314, 2098162126.337954, 2367423934.1224604, 2351808806.5197973]\n",
            "Custo =  148512970187.82086\n"
          ]
        },
        {
          "output_type": "stream",
          "name": "stderr",
          "text": [
            "\rpyswarms.single.global_best: 100%|██████████|1/1, best_cost=3.66e+10\n",
            "2023-09-30 16:02:23,713 - pyswarms.single.global_best - INFO - Optimization finished | best cost: 36639283572.17615, best pos: [3.70040013 5.3762973  5.60807369 4.02682861 2.0575742  0.94202521\n",
            " 3.24443445 3.7429357  0.13336679 5.63868564 3.78910436 4.66043202\n",
            " 5.85463948 2.93199998 3.6970313  1.43277229 6.09648685 3.69498251\n",
            " 6.25391932 5.75553449 0.35027829 3.65465595 3.4875518  6.76875504]\n",
            "2023-09-30 16:02:23,719 - pyswarms.single.global_best - INFO - Optimize for 1 iters with {'c1': 0.5, 'c2': 0.3, 'w': 0.9}\n",
            "pyswarms.single.global_best: 100%|██████████|1/1, best_cost=3.66e+10\n",
            "2023-09-30 16:02:23,742 - pyswarms.single.global_best - INFO - Optimization finished | best cost: 36639283572.17615, best pos: [3.70037846 5.37629523 5.60807379 4.02682383 2.0575376  0.94202553\n",
            " 3.24443714 3.74286833 0.13337302 5.63872148 3.78911649 4.66043108\n",
            " 5.85463927 2.9319967  3.69701501 1.43276883 6.09645594 3.694954\n",
            " 6.2545233  5.7553787  0.35019263 3.65465776 3.49410989 6.76872572]\n",
            "2023-09-30 16:02:23,743 - pyswarms.single.global_best - INFO - Optimize for 1 iters with {'c1': 0.5, 'c2': 0.3, 'w': 0.9}\n"
          ]
        },
        {
          "output_type": "stream",
          "name": "stdout",
          "text": [
            "\n",
            "=========================================================================\n",
            "\n",
            "Número de ciclos de manutenção: 12 5\n",
            "Tempos para manutenções preventivas: [0, 20, 41, 78, 185, 232, 323, 385, 440, 464, 524, 593, 637]\n",
            "Severidade para cada subsistema: [0.5, 0.75, 0.75, 0.5, 0.5, 0.5, 0.75, 0.5, 0.25, 0.5, 0.75, 0.5]\n",
            "Número de Sisemas: 5\n",
            "Fator:  [0.3296799539643607, 0.6321205588285577, 0.7768698398515702, 0.7768698398515702, 0.6321205588285577, 0.6321205588285577, 0.6321205588285577, 0.7768698398515702, 0.6321205588285577, 0.3934693402873666, 0.6321205588285577, 0.7768698398515702, 0.6321205588285577]\n",
            "Media de falhas:  [0, 1024.0, 16314.716074443764, 138704.96312944646, 9673274.449781682, 11350611.951067774, 64477616.868891254, 118761972.2006482, 194591057.32019907, 200383937.70259413, 363109172.43570566, 2096857459.9080033, 2334955588.7196856, 2320503211.567797]\n",
            "Custo =  147396526887.88962\n"
          ]
        },
        {
          "output_type": "stream",
          "name": "stderr",
          "text": [
            "pyswarms.single.global_best:   0%|          |0/1, best_cost=3.66e+10"
          ]
        },
        {
          "output_type": "stream",
          "name": "stdout",
          "text": [
            "\n",
            "=========================================================================\n",
            "\n",
            "Número de ciclos de manutenção: 15 5\n",
            "Tempos para manutenções preventivas: [0, 21, 40, 77, 185, 232, 260, 297, 323, 385, 440, 466, 528, 592, 634, 681]\n",
            "Severidade para cada subsistema: [0.5, 0.75, 0.75, 0.5, 0.5, 0.75, 0.25, 0.5, 0.75, 0.5, 0.25, 0.5, 0.75, 0.5, 0.75]\n",
            "Número de Sisemas: 5\n",
            "Fator:  [0.3296799539643607, 0.6321205588285577, 0.7768698398515702, 0.7768698398515702, 0.6321205588285577, 0.6321205588285577, 0.7768698398515702, 0.3934693402873666, 0.6321205588285577, 0.7768698398515702, 0.6321205588285577, 0.3934693402873666, 0.6321205588285577, 0.7768698398515702, 0.6321205588285577, 0.7768698398515702]\n",
            "Media de falhas:  [0, 1306.9123200000001, 13799.621208359524, 131948.4056232398, 9968011.29182394, 11645348.793110032, 16183331.193392385, 26763620.233812317, 28494771.4716563, 301309245.12114483, 377138330.2406957, 383667976.5392955, 558080892.6770507, 2160627401.4090652, 2382480976.6010756, 2440436218.9566135, 2169440880.1143684]\n",
            "Custo =  177556833616.6484\n"
          ]
        },
        {
          "output_type": "stream",
          "name": "stderr",
          "text": [
            "\rpyswarms.single.global_best: 100%|██████████|1/1, best_cost=3.66e+10\n",
            "2023-09-30 16:02:23,769 - pyswarms.single.global_best - INFO - Optimization finished | best cost: 36639283572.17615, best pos: [3.70036954 5.37629364 5.60807382 4.0268226  2.05750425 0.94202594\n",
            " 3.24444084 3.74279633 0.13338566 5.63862439 3.78912693 4.6604298\n",
            " 5.85463926 2.93199373 3.69700175 1.43276453 6.09643888 3.69492829\n",
            " 6.25496567 5.7552178  0.3501107  3.65465955 3.50317126 6.76869513]\n",
            "2023-09-30 16:02:23,773 - pyswarms.single.global_best - INFO - Optimize for 1 iters with {'c1': 0.5, 'c2': 0.3, 'w': 0.9}\n",
            "pyswarms.single.global_best: 100%|██████████|1/1, best_cost=3.66e+10"
          ]
        },
        {
          "output_type": "stream",
          "name": "stdout",
          "text": [
            "\n",
            "=========================================================================\n",
            "\n",
            "Número de ciclos de manutenção: 13 5\n",
            "Tempos para manutenções preventivas: [0, 23, 40, 77, 186, 232, 323, 385, 441, 466, 531, 592, 633, 671]\n",
            "Severidade para cada subsistema: [0.5, 0.75, 0.75, 0.5, 0.5, 0.5, 0.75, 0.5, 0.25, 0.5, 0.75, 0.5, 0.75]\n",
            "Número de Sisemas: 5\n",
            "Fator:  [0.3296799539643607, 0.6321205588285577, 0.7768698398515702, 0.7768698398515702, 0.6321205588285577, 0.6321205588285577, 0.6321205588285577, 0.7768698398515702, 0.6321205588285577, 0.3934693402873666, 0.6321205588285577, 0.7768698398515702, 0.6321205588285577, 0.7768698398515702]\n",
            "Media de falhas:  [0, 2059.6297600000003, 13237.028040049832, 131385.81245493013, 10366668.936132392, 11968783.899431132, 65095788.81725461, 119380144.14901155, 197625624.93740714, 203830073.0112885, 392866242.845541, 1923520701.5141091, 2138142744.912189, 2179358395.6775193, 1939878609.2385263]\n",
            "Custo =  163722652031.4339\n"
          ]
        },
        {
          "output_type": "stream",
          "name": "stderr",
          "text": [
            "\n",
            "2023-09-30 16:02:23,797 - pyswarms.single.global_best - INFO - Optimization finished | best cost: 36639283572.17615, best pos: [3.70036414 5.37629287 5.60807384 4.02682242 2.05747218 0.94202636\n",
            " 3.24444458 3.74272892 0.13340037 5.63840697 3.78913521 4.66042847\n",
            " 5.85463946 2.93199156 3.6969982  1.43275936 6.09642638 3.69491125\n",
            " 6.25533491 5.75505821 0.35004622 3.65466116 3.51237813 6.76866471]\n",
            "2023-09-30 16:02:23,802 - pyswarms.single.global_best - INFO - Optimize for 1 iters with {'c1': 0.5, 'c2': 0.3, 'w': 0.9}\n",
            "pyswarms.single.global_best: 100%|██████████|1/1, best_cost=3.66e+10\n",
            "2023-09-30 16:02:23,815 - pyswarms.single.global_best - INFO - Optimization finished | best cost: 36639283572.17615, best pos: [3.70036621 5.3762924  5.60807384 4.02682257 2.05744648 0.94202669\n",
            " 3.24444876 3.74266918 0.13341353 5.63817778 3.78913994 4.66042727\n",
            " 5.85463974 2.93199058 3.69700292 1.43275468 6.09643263 3.69490183\n",
            " 6.25532764 5.75490737 0.34999463 3.65466247 3.52020447 6.76863998]\n",
            "2023-09-30 16:02:23,817 - pyswarms.single.global_best - INFO - Optimize for 1 iters with {'c1': 0.5, 'c2': 0.3, 'w': 0.9}\n"
          ]
        },
        {
          "output_type": "stream",
          "name": "stdout",
          "text": [
            "\n",
            "=========================================================================\n",
            "\n",
            "Número de ciclos de manutenção: 14 5\n",
            "Tempos para manutenções preventivas: [0, 24, 40, 77, 186, 232, 323, 385, 441, 465, 534, 592, 636, 661, 714]\n",
            "Severidade para cada subsistema: [0.5, 0.75, 0.75, 0.5, 0.5, 0.5, 0.75, 0.5, 0.25, 0.5, 0.75, 0.5, 0.75, 0.75]\n",
            "Número de Sisemas: 5\n",
            "Fator:  [0.3296799539643607, 0.6321205588285577, 0.7768698398515702, 0.7768698398515702, 0.6321205588285577, 0.6321205588285577, 0.6321205588285577, 0.7768698398515702, 0.6321205588285577, 0.3934693402873666, 0.6321205588285577, 0.7768698398515702, 0.6321205588285577, 0.7768698398515702, 0.7768698398515702]\n",
            "Media de falhas:  [0, 2548.0396800000003, 13088.531086351291, 131237.31550123158, 10366520.439178694, 11968635.402477434, 65095640.320300914, 119379995.65205786, 197625476.44045347, 203464878.54872715, 411733334.7371302, 1870289107.1521466, 2106943670.486198, 2129980853.222724, 2587101934.279482, 2554320864.969]\n",
            "Custo =  186443927051.9801\n"
          ]
        },
        {
          "output_type": "stream",
          "name": "stderr",
          "text": [
            "pyswarms.single.global_best: 100%|██████████|1/1, best_cost=3.66e+10\n",
            "2023-09-30 16:02:23,833 - pyswarms.single.global_best - INFO - Optimization finished | best cost: 36639283572.17615, best pos: [3.7003697  5.37629263 5.60807371 4.02682674 2.05742861 0.94202698\n",
            " 3.24445252 3.74262986 0.13342222 5.63797063 3.78914163 4.66042628\n",
            " 5.85464018 2.93199106 3.69701781 1.43275181 6.09645303 3.69490408\n",
            " 6.25510069 5.75479583 0.34997384 3.65466286 3.52467582 6.76862546]\n"
          ]
        },
        {
          "output_type": "stream",
          "name": "stdout",
          "text": [
            "\n",
            "=========================================================================\n",
            "\n",
            "Número de ciclos de manutenção: 15 5\n",
            "Tempos para manutenções preventivas: [0, 24, 40, 77, 119, 187, 232, 250, 323, 385, 441, 465, 536, 592, 640, 714]\n",
            "Severidade para cada subsistema: [0.5, 0.75, 0.75, 0.5, 0.5, 0.5, 0.25, 0.5, 0.75, 0.5, 0.25, 0.5, 0.75, 0.5, 0.25]\n",
            "Número de Sisemas: 5\n",
            "Fator:  [0.3296799539643607, 0.6321205588285577, 0.7768698398515702, 0.7768698398515702, 0.6321205588285577, 0.6321205588285577, 0.6321205588285577, 0.3934693402873666, 0.6321205588285577, 0.7768698398515702, 0.6321205588285577, 0.3934693402873666, 0.6321205588285577, 0.7768698398515702, 0.6321205588285577, 0.3934693402873666]\n",
            "Media de falhas:  [0, 2548.0396800000003, 13088.531086351291, 131237.31550123158, 363065.2487204345, 2777167.507235, 8389836.87398649, 10713448.828307858, 47707503.13517442, 320521976.78466296, 398767457.57305855, 404606859.68133223, 623682036.5862229, 2034048984.7646024, 2301693995.4070053, 2435968027.118538, 2059106404.1150794]\n",
            "Custo =  183253165155.27594\n"
          ]
        },
        {
          "output_type": "stream",
          "name": "stderr",
          "text": [
            "2023-09-30 16:02:23,835 - pyswarms.single.global_best - INFO - Optimize for 1 iters with {'c1': 0.5, 'c2': 0.3, 'w': 0.9}\n",
            "pyswarms.single.global_best:   0%|          |0/1, best_cost=3.66e+10"
          ]
        },
        {
          "output_type": "stream",
          "name": "stdout",
          "text": [
            "\n",
            "=========================================================================\n",
            "\n",
            "Número de ciclos de manutenção: 14 5\n",
            "Tempos para manutenções preventivas: [0, 23, 40, 77, 119, 188, 232, 323, 385, 441, 464, 538, 592, 644, 716]\n",
            "Severidade para cada subsistema: [0.5, 0.75, 0.75, 0.5, 0.5, 0.5, 0.5, 0.75, 0.5, 0.25, 0.5, 0.75, 0.5, 0.75]\n",
            "Número de Sisemas: 5\n",
            "Fator:  [0.3296799539643607, 0.6321205588285577, 0.7768698398515702, 0.7768698398515702, 0.6321205588285577, 0.6321205588285577, 0.6321205588285577, 0.6321205588285577, 0.7768698398515702, 0.6321205588285577, 0.3934693402873666, 0.6321205588285577, 0.7768698398515702, 0.6321205588285577, 0.7768698398515702]\n",
            "Media de falhas:  [0, 2059.6297600000003, 13237.028040049832, 131385.81245493013, 363213.74567413307, 2907932.4889363507, 8339565.139248413, 61466570.057071894, 115750925.38882884, 193996406.17722446, 199482498.93832558, 433836696.96023506, 1795910598.2948046, 2096468876.6433678, 2226266474.357895, 1842798302.8764586]\n",
            "Custo =  170175725439.2347\n"
          ]
        },
        {
          "output_type": "stream",
          "name": "stderr",
          "text": [
            "\rpyswarms.single.global_best: 100%|██████████|1/1, best_cost=3.66e+10\n",
            "2023-09-30 16:02:23,860 - pyswarms.single.global_best - INFO - Optimization finished | best cost: 36639283572.17615, best pos: [3.70037452 5.37629345 5.60807357 4.02683074 2.05741547 0.9420272\n",
            " 3.24445555 3.74261045 0.1334278  5.63780085 3.78913774 4.66042558\n",
            " 5.85464063 2.93199165 3.69704273 1.43275031 6.09647401 3.69491378\n",
            " 6.25487575 5.75475061 0.34997989 3.65466226 3.52662212 6.76862311]\n",
            "2023-09-30 16:02:23,864 - pyswarms.single.global_best - INFO - Optimize for 1 iters with {'c1': 0.5, 'c2': 0.3, 'w': 0.9}\n",
            "pyswarms.single.global_best: 100%|██████████|1/1, best_cost=3.66e+10\n",
            "2023-09-30 16:02:23,884 - pyswarms.single.global_best - INFO - Optimization finished | best cost: 36639283572.17615, best pos: [3.70038815 5.37629481 5.60807343 4.02683602 2.05742271 0.94202738\n",
            " 3.24445649 3.74263225 0.13342531 5.63769731 3.78913321 4.66042539\n",
            " 5.854641   2.93199246 3.69706569 1.43275143 6.09649317 3.69492462\n",
            " 6.25457207 5.75478873 0.35000506 3.65466134 3.52469997 6.76862149]\n",
            "2023-09-30 16:02:23,889 - pyswarms.single.global_best - INFO - Optimize for 1 iters with {'c1': 0.5, 'c2': 0.3, 'w': 0.9}\n"
          ]
        },
        {
          "output_type": "stream",
          "name": "stdout",
          "text": [
            "\n",
            "=========================================================================\n",
            "\n",
            "Número de ciclos de manutenção: 16 5\n",
            "Tempos para manutenções preventivas: [0, 22, 40, 77, 119, 189, 232, 323, 385, 390, 440, 463, 538, 592, 628, 649, 678]\n",
            "Severidade para cada subsistema: [0.5, 0.75, 0.75, 0.5, 0.5, 0.5, 0.5, 0.75, 0.5, 0.5, 0.25, 0.5, 0.75, 0.25, 0.5, 0.5]\n",
            "Número de Sisemas: 5\n",
            "Fator:  [0.3296799539643607, 0.6321205588285577, 0.7768698398515702, 0.7768698398515702, 0.6321205588285577, 0.6321205588285577, 0.6321205588285577, 0.6321205588285577, 0.7768698398515702, 0.6321205588285577, 0.6321205588285577, 0.3934693402873666, 0.6321205588285577, 0.7768698398515702, 0.3934693402873666, 0.6321205588285577, 0.6321205588285577]\n",
            "Media de falhas:  [0, 1649.16224, 13476.617516781609, 131625.4019316619, 363453.33515086485, 3044372.36207728, 8298387.5443036575, 61425392.462127134, 115709747.79388408, 119164460.87722823, 133023067.79799525, 166559736.92855904, 405056279.87928164, 1767130181.213851, 1947232853.840136, 1964696644.1641996, 3255448846.8503275, 2993911176.277491]\n",
            "Custo =  344621114538.584\n"
          ]
        },
        {
          "output_type": "stream",
          "name": "stderr",
          "text": [
            "pyswarms.single.global_best: 100%|██████████|1/1, best_cost=3.66e+10\n",
            "2023-09-30 16:02:23,914 - pyswarms.single.global_best - INFO - Optimization finished | best cost: 36639283572.17615, best pos: [3.70040508 5.37629634 5.6080733  4.02684093 2.05743927 0.94202754\n",
            " 3.24445714 3.74265453 0.13341991 5.63763912 3.78912697 4.6604255\n",
            " 5.85464118 2.93199396 3.69708621 1.4327541  6.0965104  3.69493645\n",
            " 6.25416959 5.75486942 0.35005378 3.65466046 3.52290227 6.76862327]\n",
            "2023-09-30 16:02:23,916 - pyswarms.single.global_best - INFO - Optimize for 1 iters with {'c1': 0.5, 'c2': 0.3, 'w': 0.9}\n"
          ]
        },
        {
          "output_type": "stream",
          "name": "stdout",
          "text": [
            "\n",
            "=========================================================================\n",
            "\n",
            "Número de ciclos de manutenção: 17 5\n",
            "Tempos para manutenções preventivas: [0, 21, 41, 78, 119, 189, 232, 291, 323, 385, 391, 440, 462, 537, 592, 617, 653, 664]\n",
            "Severidade para cada subsistema: [0.5, 0.75, 0.75, 0.5, 0.5, 0.5, 0.25, 0.5, 0.75, 0.5, 0.5, 0.25, 0.5, 0.75, 0.5, 0.5, 0.5]\n",
            "Número de Sisemas: 5\n",
            "Fator:  [0.3296799539643607, 0.6321205588285577, 0.7768698398515702, 0.7768698398515702, 0.6321205588285577, 0.6321205588285577, 0.6321205588285577, 0.3934693402873666, 0.6321205588285577, 0.7768698398515702, 0.6321205588285577, 0.6321205588285577, 0.3934693402873666, 0.6321205588285577, 0.7768698398515702, 0.6321205588285577, 0.6321205588285577, 0.6321205588285577]\n",
            "Media de falhas:  [0, 1306.9123200000001, 15834.158619245372, 138224.4056742481, 355168.0185265085, 3036087.0454529235, 8290102.227679301, 26895089.7832908, 39031875.99910986, 311846349.6485984, 316050917.7105527, 329455746.2450748, 361143748.35188127, 598007820.7372761, 1984241584.8155136, 2097396190.4626648, 2132128391.1292574, 2196359725.2242785, 1978981003.4716756]\n",
            "Custo =  203074295265.7627\n"
          ]
        },
        {
          "output_type": "stream",
          "name": "stderr",
          "text": [
            "pyswarms.single.global_best: 100%|██████████|1/1, best_cost=3.66e+10\n",
            "2023-09-30 16:02:23,936 - pyswarms.single.global_best - INFO - Optimization finished | best cost: 36639283572.17615, best pos: [3.70042236 5.37629788 5.6080732  4.02684497 2.05746124 0.94202734\n",
            " 3.24445524 3.74269418 0.13341127 5.63759983 3.78911671 4.66042597\n",
            " 5.8546412  2.93199546 3.69709986 1.43275669 6.09652328 3.69495113\n",
            " 6.2537869  5.75497506 0.35011016 3.65465965 3.51890409 6.76863731]\n"
          ]
        },
        {
          "output_type": "stream",
          "name": "stdout",
          "text": [
            "\n",
            "=========================================================================\n",
            "\n",
            "Número de ciclos de manutenção: 17 5\n",
            "Tempos para manutenções preventivas: [0, 20, 41, 78, 189, 232, 262, 280, 323, 385, 392, 440, 461, 535, 592, 604, 657, 697]\n",
            "Severidade para cada subsistema: [0.5, 0.75, 0.75, 0.5, 0.5, 0.25, 0.75, 0.5, 0.75, 0.5, 0.5, 0.25, 0.5, 0.75, 0.75, 0.5, 0.5]\n",
            "Número de Sisemas: 5\n",
            "Fator:  [0.3296799539643607, 0.6321205588285577, 0.7768698398515702, 0.7768698398515702, 0.6321205588285577, 0.6321205588285577, 0.3934693402873666, 0.7768698398515702, 0.6321205588285577, 0.7768698398515702, 0.6321205588285577, 0.6321205588285577, 0.3934693402873666, 0.6321205588285577, 0.7768698398515702, 0.7768698398515702, 0.6321205588285577, 0.6321205588285577]\n",
            "Media de falhas:  [0, 1024.0, 16314.716074443764, 138704.96312944646, 11307992.039516892, 12699556.698340554, 17784720.28375029, 21388778.63925026, 115915212.62344809, 129154946.46191013, 134129963.72651806, 147090570.93402514, 176969689.00906014, 406529868.23588306, 1841003945.1973011, 1889226057.3791416, 1949693057.4914174, 2000415756.7836876, 1678674223.708745]\n",
            "Custo =  173339785114.66092\n"
          ]
        },
        {
          "output_type": "stream",
          "name": "stderr",
          "text": [
            "2023-09-30 16:02:23,943 - pyswarms.single.global_best - INFO - Optimize for 1 iters with {'c1': 0.5, 'c2': 0.3, 'w': 0.9}\n",
            "pyswarms.single.global_best: 100%|██████████|1/1, best_cost=3.66e+10\n",
            "2023-09-30 16:02:23,963 - pyswarms.single.global_best - INFO - Optimization finished | best cost: 36639283572.17615, best pos: [3.70043713 5.37629903 5.60807316 4.02684784 2.05748145 0.94202714\n",
            " 3.24445202 3.74273967 0.1334024  5.63761393 3.7891072  4.66042669\n",
            " 5.85464106 2.93199681 3.69710487 1.43275978 6.09653487 3.69496434\n",
            " 6.25347107 5.75508397 0.35016154 3.65465892 3.51345423 6.76866058]\n"
          ]
        },
        {
          "output_type": "stream",
          "name": "stdout",
          "text": [
            "\n",
            "=========================================================================\n",
            "\n",
            "Número de ciclos de manutenção: 14 5\n",
            "Tempos para manutenções preventivas: [0, 18, 41, 79, 188, 232, 289, 323, 385, 392, 440, 461, 532, 592, 659]\n",
            "Severidade para cada subsistema: [0.5, 0.75, 0.75, 0.5, 0.5, 0.25, 0.5, 0.75, 0.5, 0.5, 0.25, 0.5, 0.75, 0.5]\n",
            "Número de Sisemas: 5\n",
            "Fator:  [0.3296799539643607, 0.6321205588285577, 0.7768698398515702, 0.7768698398515702, 0.6321205588285577, 0.6321205588285577, 0.3934693402873666, 0.6321205588285577, 0.7768698398515702, 0.6321205588285577, 0.6321205588285577, 0.3934693402873666, 0.6321205588285577, 0.7768698398515702, 0.6321205588285577]\n",
            "Media de falhas:  [0, 604.6617600000001, 17488.315874399985, 152112.93932731135, 10569617.793640403, 12028914.417469066, 29282578.98065581, 42342004.39780286, 315156478.0472914, 320131495.31189936, 333092102.51940644, 362971220.5944414, 576042208.1786175, 2082687552.7905815, 2525331233.8909945, 2505026832.0334663]\n",
            "Custo =  170744580050.30646\n"
          ]
        },
        {
          "output_type": "stream",
          "name": "stderr",
          "text": [
            "2023-09-30 16:02:23,966 - pyswarms.single.global_best - INFO - Optimize for 1 iters with {'c1': 0.5, 'c2': 0.3, 'w': 0.9}\n",
            "pyswarms.single.global_best: 100%|██████████|1/1, best_cost=3.66e+10\n",
            "2023-09-30 16:02:23,988 - pyswarms.single.global_best - INFO - Optimization finished | best cost: 36639283572.17615, best pos: [3.70044956 5.37629966 5.60807315 4.02684767 2.05750069 0.94202676\n",
            " 3.24444891 3.74278086 0.13339433 5.63775975 3.78909928 4.66042757\n",
            " 5.85464075 2.93199768 3.69710397 1.4327625  6.0965449  3.69497265\n",
            " 6.25332361 5.75518092 0.35020437 3.65465837 3.50818823 6.76868784]\n"
          ]
        },
        {
          "output_type": "stream",
          "name": "stdout",
          "text": [
            "\n",
            "=========================================================================\n",
            "\n",
            "Número de ciclos de manutenção: 14 5\n",
            "Tempos para manutenções preventivas: [0, 18, 41, 79, 188, 232, 323, 385, 390, 440, 460, 529, 592, 659, 693]\n",
            "Severidade para cada subsistema: [0.5, 0.75, 0.75, 0.5, 0.5, 0.5, 0.75, 0.5, 0.5, 0.25, 0.5, 0.75, 0.5, 0.5]\n",
            "Número de Sisemas: 5\n",
            "Fator:  [0.3296799539643607, 0.6321205588285577, 0.7768698398515702, 0.7768698398515702, 0.6321205588285577, 0.6321205588285577, 0.6321205588285577, 0.7768698398515702, 0.6321205588285577, 0.6321205588285577, 0.3934693402873666, 0.6321205588285577, 0.7768698398515702, 0.6321205588285577, 0.6321205588285577]\n",
            "Media de falhas:  [0, 604.6617600000001, 17488.315874399985, 152112.93932731135, 10569617.793640403, 12028914.417469066, 65155919.33529255, 119440274.6670495, 122894987.75039364, 136753594.67116067, 164862966.13156468, 365971923.33121926, 1944576349.3719718, 2387220030.472385, 2427460827.6390095, 2118477337.4105806]\n",
            "Custo =  172201659349.7008\n"
          ]
        },
        {
          "output_type": "stream",
          "name": "stderr",
          "text": [
            "2023-09-30 16:02:23,990 - pyswarms.single.global_best - INFO - Optimize for 1 iters with {'c1': 0.5, 'c2': 0.3, 'w': 0.9}\n",
            "pyswarms.single.global_best: 100%|██████████|1/1, best_cost=3.66e+10"
          ]
        },
        {
          "output_type": "stream",
          "name": "stdout",
          "text": [
            "\n",
            "=========================================================================\n",
            "\n",
            "Número de ciclos de manutenção: 12 5\n",
            "Tempos para manutenções preventivas: [0, 18, 41, 78, 187, 232, 323, 385, 440, 461, 527, 593, 658]\n",
            "Severidade para cada subsistema: [0.5, 0.75, 0.75, 0.5, 0.5, 0.5, 0.75, 0.5, 0.25, 0.5, 0.75, 0.5]\n",
            "Número de Sisemas: 5\n",
            "Fator:  [0.3296799539643607, 0.6321205588285577, 0.7768698398515702, 0.7768698398515702, 0.6321205588285577, 0.6321205588285577, 0.6321205588285577, 0.7768698398515702, 0.6321205588285577, 0.3934693402873666, 0.6321205588285577, 0.7768698398515702, 0.6321205588285577]\n",
            "Media de falhas:  [0, 604.6617600000001, 17488.315874399985, 139878.5629294027, 10465951.61767908, 11995409.183921538, 65122414.10174502, 119406769.43350196, 195235854.5530528, 200010431.21423995, 387367513.73726654, 2049039913.904212, 2473374081.168488, 2453312088.682832]\n",
            "Custo =  152351799688.50266\n"
          ]
        },
        {
          "output_type": "stream",
          "name": "stderr",
          "text": [
            "\n",
            "2023-09-30 16:02:24,019 - pyswarms.single.global_best - INFO - Optimization finished | best cost: 36639283572.17615, best pos: [3.70045381 5.3762996  5.60807318 4.02684732 2.05751568 0.94202639\n",
            " 3.2444461  3.74281797 0.1333881  5.63790878 3.78909515 4.66042856\n",
            " 5.85464047 2.93199832 3.69710111 1.43276465 6.09654329 3.69497606\n",
            " 6.25336305 5.75525514 0.35023024 3.65465799 3.50396716 6.76871143]\n",
            "2023-09-30 16:02:24,021 - pyswarms.single.global_best - INFO - Optimize for 1 iters with {'c1': 0.5, 'c2': 0.3, 'w': 0.9}\n",
            "pyswarms.single.global_best: 100%|██████████|1/1, best_cost=3.66e+10\n",
            "2023-09-30 16:02:24,052 - pyswarms.single.global_best - INFO - Optimization finished | best cost: 36639283572.17615, best pos: [3.70045346 5.3762993  5.60807327 4.02684387 2.05752034 0.94202605\n",
            " 3.24444369 3.74284092 0.13338545 5.63805862 3.78909487 4.66042942\n",
            " 5.85464022 2.9319986  3.69709292 1.43276644 6.09652847 3.69497488\n",
            " 6.25341481 5.75527485 0.35024315 3.65465777 3.50089754 6.76872929]\n",
            "2023-09-30 16:02:24,054 - pyswarms.single.global_best - INFO - Optimize for 1 iters with {'c1': 0.5, 'c2': 0.3, 'w': 0.9}\n"
          ]
        },
        {
          "output_type": "stream",
          "name": "stdout",
          "text": [
            "\n",
            "=========================================================================\n",
            "\n",
            "Número de ciclos de manutenção: 15 5\n",
            "Tempos para manutenções preventivas: [0, 18, 41, 78, 186, 232, 284, 323, 385, 440, 461, 525, 593, 622, 655, 703]\n",
            "Severidade para cada subsistema: [0.5, 0.75, 0.75, 0.5, 0.5, 0.5, 0.5, 0.75, 0.5, 0.25, 0.5, 0.75, 0.25, 0.5, 0.5]\n",
            "Número de Sisemas: 5\n",
            "Fator:  [0.3296799539643607, 0.6321205588285577, 0.7768698398515702, 0.7768698398515702, 0.6321205588285577, 0.6321205588285577, 0.6321205588285577, 0.6321205588285577, 0.7768698398515702, 0.6321205588285577, 0.3934693402873666, 0.6321205588285577, 0.7768698398515702, 0.3934693402873666, 0.6321205588285577, 0.6321205588285577]\n",
            "Media de falhas:  [0, 604.6617600000001, 17488.315874399985, 139878.5629294027, 10063888.81389165, 11666003.77719039, 25857754.96974503, 41331082.36370335, 95615437.69546029, 171444522.81501114, 176219099.4761983, 353883997.33722305, 2063626035.855193, 2200623056.475721, 2232019617.385373, 4666719576.44437, 4325710047.178275]\n",
            "Custo =  363642011326.6002\n"
          ]
        },
        {
          "output_type": "stream",
          "name": "stderr",
          "text": [
            "pyswarms.single.global_best: 100%|██████████|1/1, best_cost=3.66e+10\n",
            "2023-09-30 16:02:24,070 - pyswarms.single.global_best - INFO - Optimization finished | best cost: 36639283572.17615, best pos: [3.70045274 5.37629872 5.60807339 4.02683999 2.0575154  0.94202578\n",
            " 3.24444279 3.74285329 0.13338594 5.63819371 3.78909592 4.66043013\n",
            " 5.85464001 2.93199868 3.69708435 1.43276656 6.09650701 3.69497261\n",
            " 6.2535475  5.75529061 0.3502323  3.65465769 3.49897117 6.76873714]\n",
            "2023-09-30 16:02:24,072 - pyswarms.single.global_best - INFO - Optimize for 1 iters with {'c1': 0.5, 'c2': 0.3, 'w': 0.9}\n"
          ]
        },
        {
          "output_type": "stream",
          "name": "stdout",
          "text": [
            "\n",
            "=========================================================================\n",
            "\n",
            "Número de ciclos de manutenção: 14 5\n",
            "Tempos para manutenções preventivas: [0, 19, 41, 78, 186, 232, 268, 323, 385, 440, 462, 524, 593, 619, 652]\n",
            "Severidade para cada subsistema: [0.5, 0.75, 0.75, 0.5, 0.5, 0.5, 0.5, 0.75, 0.5, 0.25, 0.5, 0.75, 0.5, 0.5]\n",
            "Número de Sisemas: 5\n",
            "Fator:  [0.3296799539643607, 0.6321205588285577, 0.7768698398515702, 0.7768698398515702, 0.6321205588285577, 0.6321205588285577, 0.6321205588285577, 0.6321205588285577, 0.7768698398515702, 0.6321205588285577, 0.3934693402873666, 0.6321205588285577, 0.7768698398515702, 0.6321205588285577, 0.6321205588285577]\n",
            "Media de falhas:  [0, 792.3516800000001, 16867.933365019428, 139258.18042002214, 10063268.431382269, 11665383.394681009, 18636249.48270555, 43007288.94468716, 97291644.2764441, 173120729.39599496, 178223538.75735104, 347732178.3350658, 2081480465.8073635, 2200996801.860767, 2231861418.720754, 2052680733.071787]\n",
            "Custo =  160369628272.99936\n"
          ]
        },
        {
          "output_type": "stream",
          "name": "stderr",
          "text": [
            "pyswarms.single.global_best:   0%|          |0/1, best_cost=3.66e+10"
          ]
        },
        {
          "output_type": "stream",
          "name": "stdout",
          "text": [
            "\n",
            "=========================================================================\n",
            "\n",
            "Número de ciclos de manutenção: 14 5\n",
            "Tempos para manutenções preventivas: [0, 20, 41, 78, 186, 232, 252, 323, 385, 440, 462, 523, 592, 608, 649]\n",
            "Severidade para cada subsistema: [0.5, 0.75, 0.75, 0.5, 0.5, 0.75, 0.5, 0.75, 0.5, 0.25, 0.5, 0.75, 0.75, 0.5]\n",
            "Número de Sisemas: 5\n",
            "Fator:  [0.3296799539643607, 0.6321205588285577, 0.7768698398515702, 0.7768698398515702, 0.6321205588285577, 0.6321205588285577, 0.7768698398515702, 0.6321205588285577, 0.7768698398515702, 0.6321205588285577, 0.3934693402873666, 0.6321205588285577, 0.7768698398515702, 0.7768698398515702, 0.6321205588285577]\n",
            "Media de falhas:  [0, 1024.0, 16314.716074443764, 138704.96312944646, 10062715.214091692, 11664830.177390432, 14367902.799119016, 49800966.86964405, 63040700.708106086, 138869785.82765692, 143972595.189013, 308888936.40661496, 2030841318.0139117, 2097538375.8322356, 2137899081.9817936, 2120104600.8267288]\n",
            "Custo =  143058885959.78912\n"
          ]
        },
        {
          "output_type": "stream",
          "name": "stderr",
          "text": [
            "\rpyswarms.single.global_best: 100%|██████████|1/1, best_cost=3.66e+10\n",
            "2023-09-30 16:02:24,084 - pyswarms.single.global_best - INFO - Optimization finished | best cost: 36639283572.17615, best pos: [3.70045006 5.37629789 5.6080735  4.02683571 2.05750501 0.94202563\n",
            " 3.24444282 3.74285648 0.13338733 5.63829707 3.78909806 4.66043038\n",
            " 5.85463989 2.93199858 3.69707017 1.43276595 6.09648738 3.69496503\n",
            " 6.25366921 5.75525466 0.35021452 3.65465817 3.50056627 6.76872831]\n",
            "2023-09-30 16:02:24,085 - pyswarms.single.global_best - INFO - Optimize for 1 iters with {'c1': 0.5, 'c2': 0.3, 'w': 0.9}\n",
            "pyswarms.single.global_best: 100%|██████████|1/1, best_cost=3.66e+10\n",
            "2023-09-30 16:02:24,099 - pyswarms.single.global_best - INFO - Optimization finished | best cost: 36639283572.17615, best pos: [3.70044473 5.37629689 5.60807358 4.026832   2.05748978 0.94202565\n",
            " 3.24444342 3.74284716 0.13338947 5.6383524  3.78910114 4.66043038\n",
            " 5.85463979 2.93199768 3.69705659 1.43276485 6.09647082 3.69495416\n",
            " 6.25377922 5.75518302 0.35019627 3.65465886 3.50255384 6.76871811]\n",
            "2023-09-30 16:02:24,100 - pyswarms.single.global_best - INFO - Optimize for 1 iters with {'c1': 0.5, 'c2': 0.3, 'w': 0.9}\n"
          ]
        },
        {
          "output_type": "stream",
          "name": "stdout",
          "text": [
            "\n",
            "=========================================================================\n",
            "\n",
            "Número de ciclos de manutenção: 14 5\n",
            "Tempos para manutenções preventivas: [0, 21, 41, 77, 186, 232, 280, 323, 385, 440, 463, 524, 592, 647, 665]\n",
            "Severidade para cada subsistema: [0.5, 0.75, 0.75, 0.5, 0.5, 0.75, 0.5, 0.75, 0.5, 0.25, 0.5, 0.75, 0.5, 0.5]\n",
            "Número de Sisemas: 5\n",
            "Fator:  [0.3296799539643607, 0.6321205588285577, 0.7768698398515702, 0.7768698398515702, 0.6321205588285577, 0.6321205588285577, 0.7768698398515702, 0.6321205588285577, 0.7768698398515702, 0.6321205588285577, 0.3934693402873666, 0.6321205588285577, 0.7768698398515702, 0.6321205588285577, 0.6321205588285577]\n",
            "Media de falhas:  [0, 1306.9123200000001, 15834.158619245372, 126894.4060914592, 10362177.529768921, 11964292.493067661, 24007335.91325403, 41529326.90985353, 54769060.748315565, 130598145.86786643, 136040296.59813538, 302143545.39029646, 2000253326.3442423, 2326811316.975242, 2342854181.4003325, 2122312796.445455]\n",
            "Custo =  162146794949.8207\n"
          ]
        },
        {
          "output_type": "stream",
          "name": "stderr",
          "text": [
            "pyswarms.single.global_best: 100%|██████████|1/1, best_cost=3.66e+10\n",
            "2023-09-30 16:02:24,114 - pyswarms.single.global_best - INFO - Optimization finished | best cost: 36639283572.17615, best pos: [3.70043467 5.37629601 5.60807363 4.02682896 2.05747603 0.94202581\n",
            " 3.2444441  3.74283204 0.13339422 5.63838733 3.78910548 4.66043027\n",
            " 5.8546397  2.93199681 3.69704495 1.43276271 6.09646235 3.69494361\n",
            " 6.25394478 5.75509838 0.35016508 3.65465957 3.50629304 6.76869963]\n",
            "2023-09-30 16:02:24,116 - pyswarms.single.global_best - INFO - Optimize for 1 iters with {'c1': 0.5, 'c2': 0.3, 'w': 0.9}\n"
          ]
        },
        {
          "output_type": "stream",
          "name": "stdout",
          "text": [
            "\n",
            "=========================================================================\n",
            "\n",
            "Número de ciclos de manutenção: 15 5\n",
            "Tempos para manutenções preventivas: [0, 22, 41, 77, 186, 232, 272, 323, 385, 440, 464, 525, 592, 600, 645, 674]\n",
            "Severidade para cada subsistema: [0.5, 0.75, 0.75, 0.5, 0.5, 0.25, 0.5, 0.75, 0.5, 0.25, 0.5, 0.75, 0.25, 0.5, 0.5]\n",
            "Número de Sisemas: 5\n",
            "Fator:  [0.3296799539643607, 0.6321205588285577, 0.7768698398515702, 0.7768698398515702, 0.6321205588285577, 0.6321205588285577, 0.3934693402873666, 0.6321205588285577, 0.7768698398515702, 0.6321205588285577, 0.3934693402873666, 0.6321205588285577, 0.7768698398515702, 0.3934693402873666, 0.6321205588285577, 0.6321205588285577]\n",
            "Media de falhas:  [0, 1649.16224, 15432.435286261049, 126492.68275847488, 10361775.806435937, 11963890.769734677, 20417060.41389619, 42380428.102800466, 315194901.752289, 391023986.8718399, 396816867.25423497, 564113465.5784993, 2238361967.0620756, 2269351725.9578705, 2314194369.0208516, 3574566425.9981737, 3325632124.0153904]\n",
            "Custo =  344886280728.7261\n"
          ]
        },
        {
          "output_type": "stream",
          "name": "stderr",
          "text": [
            "pyswarms.single.global_best: 100%|██████████|1/1, best_cost=3.66e+10\n",
            "2023-09-30 16:02:24,131 - pyswarms.single.global_best - INFO - Optimization finished | best cost: 36639283572.17615, best pos: [3.70042285 5.37629527 5.60807365 4.02682687 2.05746444 0.94202597\n",
            " 3.24444487 3.74280814 0.13340013 5.63834067 3.78910969 4.66042989\n",
            " 5.85463964 2.93199594 3.69703826 1.43276006 6.09645701 3.69493599\n",
            " 6.25413197 5.75500967 0.35013349 3.65466023 3.51010277 6.7686822 ]\n",
            "2023-09-30 16:02:24,132 - pyswarms.single.global_best - INFO - Optimize for 1 iters with {'c1': 0.5, 'c2': 0.3, 'w': 0.9}\n"
          ]
        },
        {
          "output_type": "stream",
          "name": "stdout",
          "text": [
            "\n",
            "=========================================================================\n",
            "\n",
            "Número de ciclos de manutenção: 14 5\n",
            "Tempos para manutenções preventivas: [0, 23, 40, 77, 186, 232, 249, 323, 385, 440, 464, 526, 592, 644, 682]\n",
            "Severidade para cada subsistema: [0.5, 0.75, 0.75, 0.5, 0.5, 0.75, 0.5, 0.75, 0.5, 0.25, 0.5, 0.75, 0.5, 0.5]\n",
            "Número de Sisemas: 5\n",
            "Fator:  [0.3296799539643607, 0.6321205588285577, 0.7768698398515702, 0.7768698398515702, 0.6321205588285577, 0.6321205588285577, 0.7768698398515702, 0.6321205588285577, 0.7768698398515702, 0.6321205588285577, 0.3934693402873666, 0.6321205588285577, 0.7768698398515702, 0.6321205588285577, 0.6321205588285577]\n",
            "Media de falhas:  [0, 2059.6297600000003, 13237.028040049832, 131385.81245493013, 10366668.936132392, 11968783.899431132, 14113366.424713673, 51904057.5306332, 65143791.369095236, 140972876.4886461, 146765756.87104115, 318713323.7172086, 1969081259.419953, 2269639537.768516, 2313403049.1033883, 2039253101.048257]\n",
            "Custo =  162627943312.9625\n"
          ]
        },
        {
          "output_type": "stream",
          "name": "stderr",
          "text": [
            "pyswarms.single.global_best: 100%|██████████|1/1, best_cost=3.66e+10\n",
            "2023-09-30 16:02:24,150 - pyswarms.single.global_best - INFO - Optimization finished | best cost: 36639283572.17615, best pos: [3.70041204 5.37629482 5.60807364 4.02682623 2.0574549  0.94202616\n",
            " 3.2444463  3.74278073 0.13340538 5.63823874 3.78911347 4.66042933\n",
            " 5.85463974 2.93199513 3.69703279 1.43275762 6.09646142 3.69492914\n",
            " 6.25429013 5.75493483 0.35010565 3.65466072 3.51364587 6.76866651]\n",
            "2023-09-30 16:02:24,152 - pyswarms.single.global_best - INFO - Optimize for 1 iters with {'c1': 0.5, 'c2': 0.3, 'w': 0.9}\n"
          ]
        },
        {
          "output_type": "stream",
          "name": "stdout",
          "text": [
            "\n",
            "=========================================================================\n",
            "\n",
            "Número de ciclos de manutenção: 15 5\n",
            "Tempos para manutenções preventivas: [0, 23, 40, 77, 187, 232, 280, 323, 385, 440, 464, 528, 592, 643, 688, 700]\n",
            "Severidade para cada subsistema: [0.5, 0.75, 0.75, 0.5, 0.5, 0.25, 0.5, 0.75, 0.5, 0.25, 0.5, 0.75, 0.5, 0.5, 0.5]\n",
            "Número de Sisemas: 5\n",
            "Fator:  [0.3296799539643607, 0.6321205588285577, 0.7768698398515702, 0.7768698398515702, 0.6321205588285577, 0.6321205588285577, 0.3934693402873666, 0.6321205588285577, 0.7768698398515702, 0.6321205588285577, 0.3934693402873666, 0.6321205588285577, 0.7768698398515702, 0.6321205588285577, 0.6321205588285577, 0.6321205588285577]\n",
            "Media de falhas:  [0, 2059.6297600000003, 13237.028040049832, 131385.81245493013, 10778747.242183607, 12308204.808426065, 24351248.228612438, 41873239.22521195, 314687712.8747004, 390516797.99425125, 396309678.37664634, 577802146.6864141, 2180348655.4184284, 2472493578.3623424, 2529141460.94141, 2615766513.3495317, 2284412565.5017867]\n",
            "Custo =  208833994184.0815\n"
          ]
        },
        {
          "output_type": "stream",
          "name": "stderr",
          "text": [
            "pyswarms.single.global_best:   0%|          |0/1, best_cost=3.66e+10"
          ]
        },
        {
          "output_type": "stream",
          "name": "stdout",
          "text": [
            "\n",
            "=========================================================================\n",
            "\n",
            "Número de ciclos de manutenção: 14 5\n",
            "Tempos para manutenções preventivas: [0, 22, 40, 77, 187, 232, 262, 276, 323, 385, 440, 464, 530, 592, 644]\n",
            "Severidade para cada subsistema: [0.5, 0.75, 0.75, 0.5, 0.5, 0.5, 0.75, 0.5, 0.75, 0.5, 0.25, 0.5, 0.75, 0.5]\n",
            "Número de Sisemas: 5\n",
            "Fator:  [0.3296799539643607, 0.6321205588285577, 0.7768698398515702, 0.7768698398515702, 0.6321205588285577, 0.6321205588285577, 0.6321205588285577, 0.7768698398515702, 0.6321205588285577, 0.7768698398515702, 0.6321205588285577, 0.3934693402873666, 0.6321205588285577, 0.7768698398515702, 0.6321205588285577]\n",
            "Media de falhas:  [0, 1649.16224, 13476.617516781609, 131625.4019316619, 10778986.83166034, 12308444.397902798, 17393607.983312532, 19976070.035340726, 39658950.49119245, 52898684.329654485, 128727769.44920534, 134520649.8316004, 325888977.7962867, 1880529591.8255587, 2181087870.174122, 2164634323.0638576]\n",
            "Custo =  147477457919.2158\n"
          ]
        },
        {
          "output_type": "stream",
          "name": "stderr",
          "text": [
            "\rpyswarms.single.global_best: 100%|██████████|1/1, best_cost=3.66e+10\n",
            "2023-09-30 16:02:24,166 - pyswarms.single.global_best - INFO - Optimization finished | best cost: 36639283572.17615, best pos: [3.70040367 5.37629485 5.60807362 4.02682612 2.05745497 0.94202634\n",
            " 3.24444797 3.74275608 0.13340861 5.63814205 3.78911617 4.66042875\n",
            " 5.85463992 2.93199446 3.69703493 1.43275577 6.09647487 3.69492398\n",
            " 6.25441439 5.75488528 0.3500859  3.65466102 3.5167317  6.76865685]\n",
            "2023-09-30 16:02:24,167 - pyswarms.single.global_best - INFO - Optimize for 1 iters with {'c1': 0.5, 'c2': 0.3, 'w': 0.9}\n",
            "pyswarms.single.global_best: 100%|██████████|1/1, best_cost=3.66e+10\n",
            "2023-09-30 16:02:24,178 - pyswarms.single.global_best - INFO - Optimization finished | best cost: 36639283572.17615, best pos: [3.70039867 5.37629499 5.60807356 4.02682631 2.05745532 0.94202647\n",
            " 3.24444966 3.74273466 0.13341026 5.63803499 3.78911775 4.66042818\n",
            " 5.85464017 2.93199414 3.69704053 1.43275456 6.09649215 3.69492076\n",
            " 6.25449531 5.75486508 0.3500848  3.65466122 3.5193353  6.76865251]\n",
            "2023-09-30 16:02:24,179 - pyswarms.single.global_best - INFO - Optimize for 1 iters with {'c1': 0.5, 'c2': 0.3, 'w': 0.9}\n"
          ]
        },
        {
          "output_type": "stream",
          "name": "stdout",
          "text": [
            "\n",
            "=========================================================================\n",
            "\n",
            "Número de ciclos de manutenção: 15 5\n",
            "Tempos para manutenções preventivas: [0, 22, 40, 77, 187, 232, 290, 323, 385, 440, 463, 532, 592, 601, 645, 691]\n",
            "Severidade para cada subsistema: [0.5, 0.75, 0.75, 0.5, 0.5, 0.25, 0.5, 0.75, 0.5, 0.25, 0.5, 0.75, 0.25, 0.5, 0.5]\n",
            "Número de Sisemas: 5\n",
            "Fator:  [0.3296799539643607, 0.6321205588285577, 0.7768698398515702, 0.7768698398515702, 0.6321205588285577, 0.6321205588285577, 0.3934693402873666, 0.6321205588285577, 0.7768698398515702, 0.6321205588285577, 0.3934693402873666, 0.6321205588285577, 0.7768698398515702, 0.3934693402873666, 0.6321205588285577, 0.6321205588285577]\n",
            "Media de falhas:  [0, 1649.16224, 13476.617516781609, 131625.4019316619, 10778986.83166034, 12308444.397902798, 30228344.27715203, 42823490.94930938, 315637964.5987979, 391467049.71834874, 396909200.4486177, 602291104.1873518, 2108936448.799316, 2144121328.2150521, 2187587292.2395396, 4367506290.481611, 4064880120.740294]\n",
            "Custo =  362162427672.0276\n"
          ]
        },
        {
          "output_type": "stream",
          "name": "stderr",
          "text": [
            "pyswarms.single.global_best: 100%|██████████|1/1, best_cost=3.66e+10\n",
            "2023-09-30 16:02:24,192 - pyswarms.single.global_best - INFO - Optimization finished | best cost: 36639283572.17615, best pos: [3.70040033 5.37629539 5.60807351 4.02682676 2.05746144 0.94202652\n",
            " 3.244451   3.74271871 0.13341113 5.63794228 3.78911878 4.66042769\n",
            " 5.85464047 2.93199414 3.69704923 1.4327535  6.09650796 3.69492205\n",
            " 6.25444719 5.75485095 0.35008513 3.65466123 3.52062252 6.76865611]\n",
            "2023-09-30 16:02:24,193 - pyswarms.single.global_best - INFO - Optimize for 1 iters with {'c1': 0.5, 'c2': 0.3, 'w': 0.9}\n"
          ]
        },
        {
          "output_type": "stream",
          "name": "stdout",
          "text": [
            "\n",
            "=========================================================================\n",
            "\n",
            "Número de ciclos de manutenção: 15 5\n",
            "Tempos para manutenções preventivas: [0, 21, 41, 78, 187, 232, 243, 278, 323, 385, 440, 462, 534, 592, 646, 687]\n",
            "Severidade para cada subsistema: [0.5, 0.75, 0.75, 0.5, 0.5, 0.25, 0.75, 0.5, 0.75, 0.5, 0.25, 0.5, 0.75, 0.5, 0.5]\n",
            "Número de Sisemas: 5\n",
            "Fator:  [0.3296799539643607, 0.6321205588285577, 0.7768698398515702, 0.7768698398515702, 0.6321205588285577, 0.6321205588285577, 0.3934693402873666, 0.7768698398515702, 0.6321205588285577, 0.7768698398515702, 0.6321205588285577, 0.3934693402873666, 0.6321205588285577, 0.7768698398515702, 0.6321205588285577, 0.6321205588285577]\n",
            "Media de falhas:  [0, 1306.9123200000001, 15834.158619245372, 138224.4056742481, 10464297.460423926, 11993755.026666384, 13201423.714874726, 20906008.43901232, 119626580.56758033, 132866314.40604237, 208695399.52559322, 213798208.8869493, 433797262.3726305, 1892353034.7876468, 2210116439.143297, 2259815593.8613253, 1969868268.3432174]\n",
            "Custo =  172452781643.1312\n"
          ]
        },
        {
          "output_type": "stream",
          "name": "stderr",
          "text": [
            "pyswarms.single.global_best: 100%|██████████|1/1, best_cost=3.66e+10\n",
            "2023-09-30 16:02:24,206 - pyswarms.single.global_best - INFO - Optimization finished | best cost: 36639283572.17615, best pos: [3.70040431 5.3762962  5.60807344 4.02682822 2.05747051 0.94202649\n",
            " 3.24445191 3.74270485 0.13341048 5.63789192 3.78911835 4.66042735\n",
            " 5.85464074 2.93199423 3.6970598  1.43275336 6.09652118 3.69492975\n",
            " 6.25437043 5.75488058 0.35008848 3.65466099 3.52077782 6.76865992]\n",
            "2023-09-30 16:02:24,208 - pyswarms.single.global_best - INFO - Optimize for 1 iters with {'c1': 0.5, 'c2': 0.3, 'w': 0.9}\n"
          ]
        },
        {
          "output_type": "stream",
          "name": "stdout",
          "text": [
            "\n",
            "=========================================================================\n",
            "\n",
            "Número de ciclos de manutenção: 16 5\n",
            "Tempos para manutenções preventivas: [0, 20, 41, 78, 187, 232, 257, 288, 323, 385, 440, 462, 535, 592, 648, 684, 690]\n",
            "Severidade para cada subsistema: [0.5, 0.75, 0.75, 0.5, 0.5, 0.5, 0.25, 0.5, 0.75, 0.5, 0.25, 0.5, 0.75, 0.5, 0.5, 0.5]\n",
            "Número de Sisemas: 5\n",
            "Fator:  [0.3296799539643607, 0.6321205588285577, 0.7768698398515702, 0.7768698398515702, 0.6321205588285577, 0.6321205588285577, 0.6321205588285577, 0.3934693402873666, 0.6321205588285577, 0.7768698398515702, 0.6321205588285577, 0.3934693402873666, 0.6321205588285577, 0.7768698398515702, 0.6321205588285577, 0.6321205588285577, 0.6321205588285577]\n",
            "Media de falhas:  [0, 1024.0, 16314.716074443764, 138704.96312944646, 10464778.017879123, 11994235.584121581, 15780749.458443098, 23343765.793367285, 36873494.13965466, 309687967.78914315, 385517052.908694, 390619862.2700501, 616148420.5918434, 2050622497.5532615, 2386104984.4580383, 2427344192.3074703, 2467711233.1987586, 2168258961.7643075]\n",
            "Custo =  209490867898.2578\n"
          ]
        },
        {
          "output_type": "stream",
          "name": "stderr",
          "text": [
            "pyswarms.single.global_best: 100%|██████████|1/1, best_cost=3.66e+10\n",
            "2023-09-30 16:02:24,222 - pyswarms.single.global_best - INFO - Optimization finished | best cost: 36639283572.17615, best pos: [3.70040813 5.3762971  5.60807338 4.02682975 2.0574828  0.94202643\n",
            " 3.24445231 3.74271327 0.13340756 5.63785093 3.78911545 4.66042717\n",
            " 5.85464093 2.93199443 3.6970698  1.4327546  6.09653238 3.6949377\n",
            " 6.25424687 5.75491792 0.35010856 3.65466069 3.52029729 6.76866779]\n",
            "2023-09-30 16:02:24,223 - pyswarms.single.global_best - INFO - Optimize for 1 iters with {'c1': 0.5, 'c2': 0.3, 'w': 0.9}\n"
          ]
        },
        {
          "output_type": "stream",
          "name": "stdout",
          "text": [
            "\n",
            "=========================================================================\n",
            "\n",
            "Número de ciclos de manutenção: 15 5\n",
            "Tempos para manutenções preventivas: [0, 20, 41, 78, 187, 232, 286, 323, 385, 390, 440, 462, 535, 592, 650, 680]\n",
            "Severidade para cada subsistema: [0.5, 0.75, 0.75, 0.5, 0.5, 0.75, 0.5, 0.75, 0.5, 0.5, 0.25, 0.5, 0.75, 0.5, 0.5]\n",
            "Número de Sisemas: 5\n",
            "Fator:  [0.3296799539643607, 0.6321205588285577, 0.7768698398515702, 0.7768698398515702, 0.6321205588285577, 0.6321205588285577, 0.7768698398515702, 0.6321205588285577, 0.7768698398515702, 0.6321205588285577, 0.6321205588285577, 0.3934693402873666, 0.6321205588285577, 0.7768698398515702, 0.6321205588285577, 0.6321205588285577]\n",
            "Media de falhas:  [0, 1024.0, 16314.716074443764, 138704.96312944646, 10464778.017879123, 11994235.584121581, 27358417.737864453, 41847252.0085581, 55086985.847020134, 58541698.93036428, 72400305.8511313, 104088307.95793779, 329616866.27973104, 1764090943.2411492, 2117817898.9900131, 2149856086.79798, 1882014197.2625737]\n",
            "Custo =  168805172473.4884\n"
          ]
        },
        {
          "output_type": "stream",
          "name": "stderr",
          "text": [
            "pyswarms.single.global_best: 100%|██████████|1/1, best_cost=3.66e+10\n",
            "2023-09-30 16:02:24,235 - pyswarms.single.global_best - INFO - Optimization finished | best cost: 36639283572.17615, best pos: [3.70041231 5.3762979  5.60807333 4.02683255 2.05749414 0.94202634\n",
            " 3.24445215 3.74272903 0.13340278 5.63784015 3.78911216 4.66042703\n",
            " 5.85464097 2.93199463 3.69707697 1.43275593 6.09654126 3.69494846\n",
            " 6.25412235 5.75495258 0.35013704 3.65466041 3.51750826 6.7686763 ]\n",
            "2023-09-30 16:02:24,236 - pyswarms.single.global_best - INFO - Optimize for 1 iters with {'c1': 0.5, 'c2': 0.3, 'w': 0.9}\n"
          ]
        },
        {
          "output_type": "stream",
          "name": "stdout",
          "text": [
            "\n",
            "=========================================================================\n",
            "\n",
            "Número de ciclos de manutenção: 16 5\n",
            "Tempos para manutenções preventivas: [0, 19, 41, 78, 187, 232, 253, 323, 385, 390, 440, 461, 534, 592, 652, 676, 704]\n",
            "Severidade para cada subsistema: [0.5, 0.75, 0.75, 0.5, 0.5, 0.25, 0.5, 0.75, 0.5, 0.5, 0.25, 0.5, 0.75, 0.5, 0.5, 0.5]\n",
            "Número de Sisemas: 5\n",
            "Fator:  [0.3296799539643607, 0.6321205588285577, 0.7768698398515702, 0.7768698398515702, 0.6321205588285577, 0.6321205588285577, 0.3934693402873666, 0.6321205588285577, 0.7768698398515702, 0.6321205588285577, 0.6321205588285577, 0.3934693402873666, 0.6321205588285577, 0.7768698398515702, 0.6321205588285577, 0.6321205588285577, 0.6321205588285577]\n",
            "Media de falhas:  [0, 792.3516800000001, 16867.933365019428, 139258.18042002214, 10465331.2351697, 11994788.801412158, 14898710.799548361, 49567143.187745914, 322381616.83723444, 325836329.9205786, 339694936.8413456, 369574054.9163806, 593546839.5581974, 2052102611.9732137, 2424611020.827322, 2448503410.786414, 2663034336.442174, 2318795833.7566004]\n",
            "Custo =  215795760103.3998\n"
          ]
        },
        {
          "output_type": "stream",
          "name": "stderr",
          "text": [
            "pyswarms.single.global_best:   0%|          |0/1, best_cost=3.66e+10"
          ]
        },
        {
          "output_type": "stream",
          "name": "stdout",
          "text": [
            "\n",
            "=========================================================================\n",
            "\n",
            "Número de ciclos de manutenção: 16 5\n",
            "Tempos para manutenções preventivas: [0, 19, 41, 78, 187, 232, 268, 291, 323, 385, 390, 440, 461, 533, 593, 654, 672]\n",
            "Severidade para cada subsistema: [0.5, 0.75, 0.75, 0.5, 0.5, 0.5, 0.75, 0.5, 0.75, 0.5, 0.5, 0.25, 0.5, 0.75, 0.5, 0.5]\n",
            "Número de Sisemas: 5\n",
            "Fator:  [0.3296799539643607, 0.6321205588285577, 0.7768698398515702, 0.7768698398515702, 0.6321205588285577, 0.6321205588285577, 0.6321205588285577, 0.7768698398515702, 0.6321205588285577, 0.7768698398515702, 0.6321205588285577, 0.6321205588285577, 0.3934693402873666, 0.6321205588285577, 0.7768698398515702, 0.6321205588285577, 0.6321205588285577]\n",
            "Media de falhas:  [0, 792.3516800000001, 16867.933365019428, 139258.18042002214, 10465331.2351697, 11994788.801412158, 18965654.8894367, 24489631.320467487, 36626417.53628655, 49866151.37474858, 53320864.45809273, 67179471.37885974, 97058589.45389475, 315535351.9790382, 1832497650.8743935, 2216838100.4369226, 2233542261.14375, 1990910368.6115382]\n",
            "Custo =  169864096948.5699\n"
          ]
        },
        {
          "output_type": "stream",
          "name": "stderr",
          "text": [
            "\rpyswarms.single.global_best: 100%|██████████|1/1, best_cost=3.66e+10\n",
            "2023-09-30 16:02:24,248 - pyswarms.single.global_best - INFO - Optimization finished | best cost: 36639283572.17615, best pos: [3.70041679 5.37629845 5.60807329 4.02683525 2.05750234 0.94202624\n",
            " 3.24445134 3.74275832 0.13339846 5.63789167 3.78910919 4.66042723\n",
            " 5.854641   2.93199483 3.69708341 1.43275757 6.09653645 3.69495851\n",
            " 6.2540068  5.75500536 0.3501628  3.65465998 3.51317423 6.76868463]\n",
            "2023-09-30 16:02:24,250 - pyswarms.single.global_best - INFO - Optimize for 1 iters with {'c1': 0.5, 'c2': 0.3, 'w': 0.9}\n",
            "pyswarms.single.global_best: 100%|██████████|1/1, best_cost=3.66e+10\n",
            "2023-09-30 16:02:24,263 - pyswarms.single.global_best - INFO - Optimization finished | best cost: 36639283572.17615, best pos: [3.70042123 5.37629853 5.60807327 4.02683774 2.057508   0.94202615\n",
            " 3.24445036 3.74278595 0.13339497 5.6379493  3.78910658 4.66042764\n",
            " 5.85464089 2.93199512 3.69708803 1.43275954 6.09652893 3.6949674\n",
            " 6.25391054 5.75505613 0.35018439 3.65465951 3.50902229 6.76869159]\n"
          ]
        },
        {
          "output_type": "stream",
          "name": "stdout",
          "text": [
            "\n",
            "=========================================================================\n",
            "\n",
            "Número de ciclos de manutenção: 15 5\n",
            "Tempos para manutenções preventivas: [0, 19, 41, 78, 187, 232, 298, 323, 385, 440, 462, 532, 593, 654, 668, 696]\n",
            "Severidade para cada subsistema: [0.5, 0.75, 0.75, 0.5, 0.5, 0.25, 0.5, 0.75, 0.5, 0.25, 0.5, 0.75, 0.5, 0.5, 0.75]\n",
            "Número de Sisemas: 5\n",
            "Fator:  [0.3296799539643607, 0.6321205588285577, 0.7768698398515702, 0.7768698398515702, 0.6321205588285577, 0.6321205588285577, 0.3934693402873666, 0.6321205588285577, 0.7768698398515702, 0.6321205588285577, 0.3934693402873666, 0.6321205588285577, 0.7768698398515702, 0.6321205588285577, 0.6321205588285577, 0.7768698398515702]\n",
            "Media de falhas:  [0, 792.3516800000001, 16867.933365019428, 139258.18042002214, 10465331.2351697, 11994788.801412158, 35957332.305275664, 45042575.23381545, 317857048.88330394, 393686134.0028548, 398788943.3642109, 607999847.9548411, 2149136289.1410475, 2533476738.7035766, 2545779499.004157, 2750883126.6848836, 2432337000.29481]\n",
            "Custo =  211784724452.06787\n"
          ]
        },
        {
          "output_type": "stream",
          "name": "stderr",
          "text": [
            "2023-09-30 16:02:24,268 - pyswarms.single.global_best - INFO - Optimize for 1 iters with {'c1': 0.5, 'c2': 0.3, 'w': 0.9}\n",
            "pyswarms.single.global_best: 100%|██████████|1/1, best_cost=3.66e+10\n",
            "2023-09-30 16:02:24,279 - pyswarms.single.global_best - INFO - Optimization finished | best cost: 36639283572.17615, best pos: [3.70042497 5.37629826 5.60807328 4.02683971 2.05751141 0.94202607\n",
            " 3.24444908 3.74281053 0.13339294 5.63803018 3.78910446 4.66042806\n",
            " 5.85464072 2.93199547 3.69709071 1.43276132 6.09651332 3.6949726\n",
            " 6.25385762 5.75509963 0.35019882 3.65465911 3.50566206 6.76869626]\n",
            "2023-09-30 16:02:24,280 - pyswarms.single.global_best - INFO - Optimize for 1 iters with {'c1': 0.5, 'c2': 0.3, 'w': 0.9}\n"
          ]
        },
        {
          "output_type": "stream",
          "name": "stdout",
          "text": [
            "\n",
            "=========================================================================\n",
            "\n",
            "Número de ciclos de manutenção: 15 5\n",
            "Tempos para manutenções preventivas: [0, 20, 41, 78, 186, 232, 294, 323, 385, 440, 462, 530, 593, 615, 653, 667]\n",
            "Severidade para cada subsistema: [0.5, 0.75, 0.75, 0.5, 0.5, 0.75, 0.5, 0.75, 0.5, 0.25, 0.5, 0.75, 0.75, 0.5, 0.5]\n",
            "Número de Sisemas: 5\n",
            "Fator:  [0.3296799539643607, 0.6321205588285577, 0.7768698398515702, 0.7768698398515702, 0.6321205588285577, 0.6321205588285577, 0.7768698398515702, 0.6321205588285577, 0.7768698398515702, 0.6321205588285577, 0.3934693402873666, 0.6321205588285577, 0.7768698398515702, 0.7768698398515702, 0.6321205588285577, 0.6321205588285577]\n",
            "Media de falhas:  [0, 1024.0, 16314.716074443764, 138704.96312944646, 10062715.214091692, 11664830.177390432, 32442195.63822972, 43238362.957760625, 56478096.79622266, 132307181.91577351, 137409991.2771296, 336186478.07568306, 1925602404.611579, 2023110004.126256, 2060399446.517486, 2072630711.1780715, 1845770216.4261603]\n",
            "Custo =  161950073718.877\n"
          ]
        },
        {
          "output_type": "stream",
          "name": "stderr",
          "text": [
            "pyswarms.single.global_best: 100%|██████████|1/1, best_cost=3.66e+10\n",
            "2023-09-30 16:02:24,294 - pyswarms.single.global_best - INFO - Optimization finished | best cost: 36639283572.17615, best pos: [3.70042765 5.37629797 5.60807333 4.02684086 2.05750769 0.942026\n",
            " 3.24444786 3.74282986 0.13339277 5.63811078 3.78910393 4.6604285\n",
            " 5.85464052 2.93199577 3.69708882 1.43276274 6.09649382 3.69497481\n",
            " 6.25387177 5.75511975 0.35020864 3.65465886 3.50359945 6.76869953]\n"
          ]
        },
        {
          "output_type": "stream",
          "name": "stdout",
          "text": [
            "\n",
            "=========================================================================\n",
            "\n",
            "Número de ciclos de manutenção: 13 5\n",
            "Tempos para manutenções preventivas: [0, 20, 41, 78, 186, 232, 323, 385, 440, 462, 529, 593, 652, 665]\n",
            "Severidade para cada subsistema: [0.5, 0.75, 0.75, 0.5, 0.5, 0.5, 0.75, 0.5, 0.25, 0.5, 0.75, 0.5, 0.5]\n",
            "Número de Sisemas: 5\n",
            "Fator:  [0.3296799539643607, 0.6321205588285577, 0.7768698398515702, 0.7768698398515702, 0.6321205588285577, 0.6321205588285577, 0.6321205588285577, 0.7768698398515702, 0.6321205588285577, 0.3934693402873666, 0.6321205588285577, 0.7768698398515702, 0.6321205588285577, 0.6321205588285577]\n",
            "Media de falhas:  [0, 1024.0, 16314.716074443764, 138704.96312944646, 10062715.214091692, 11664830.177390432, 64791835.09521391, 119076190.42697087, 194905275.54652172, 200008084.9078778, 393697265.3033203, 2007219768.7070355, 2372404734.288514, 2383542681.228475, 2163001296.2735977]\n",
            "Custo =  166969147172.68686\n"
          ]
        },
        {
          "output_type": "stream",
          "name": "stderr",
          "text": [
            "2023-09-30 16:02:24,296 - pyswarms.single.global_best - INFO - Optimize for 1 iters with {'c1': 0.5, 'c2': 0.3, 'w': 0.9}\n",
            "pyswarms.single.global_best: 100%|██████████|1/1, best_cost=3.66e+10\n",
            "2023-09-30 16:02:24,308 - pyswarms.single.global_best - INFO - Optimization finished | best cost: 36639283572.17615, best pos: [3.70042762 5.37629748 5.60807339 4.02684154 2.05749893 0.94202599\n",
            " 3.24444694 3.74284327 0.13339441 5.63817692 3.78910432 4.66042887\n",
            " 5.85464033 2.93199604 3.69708644 1.43276356 6.09647608 3.69497106\n",
            " 6.2539366  5.75512985 0.35020621 3.65465872 3.50282212 6.76870177]\n",
            "2023-09-30 16:02:24,309 - pyswarms.single.global_best - INFO - Optimize for 1 iters with {'c1': 0.5, 'c2': 0.3, 'w': 0.9}\n"
          ]
        },
        {
          "output_type": "stream",
          "name": "stdout",
          "text": [
            "\n",
            "=========================================================================\n",
            "\n",
            "Número de ciclos de manutenção: 16 5\n",
            "Tempos para manutenções preventivas: [0, 20, 41, 78, 186, 232, 292, 323, 385, 440, 463, 527, 592, 617, 651, 666, 710]\n",
            "Severidade para cada subsistema: [0.5, 0.75, 0.75, 0.5, 0.5, 0.75, 0.5, 0.75, 0.5, 0.25, 0.5, 0.75, 0.5, 0.5, 0.5, 0.75]\n",
            "Número de Sisemas: 5\n",
            "Fator:  [0.3296799539643607, 0.6321205588285577, 0.7768698398515702, 0.7768698398515702, 0.6321205588285577, 0.6321205588285577, 0.7768698398515702, 0.6321205588285577, 0.7768698398515702, 0.6321205588285577, 0.3934693402873666, 0.6321205588285577, 0.7768698398515702, 0.6321205588285577, 0.6321205588285577, 0.6321205588285577, 0.7768698398515702]\n",
            "Media de falhas:  [0, 1024.0, 16314.716074443764, 138704.96312944646, 10062715.214091692, 11664830.177390432, 30974155.06577602, 42658393.99978344, 55898127.838245474, 131727212.95779634, 137169363.6880653, 317379118.8867973, 1943846593.704732, 2057001199.3518832, 2088888546.9996564, 2178368461.0763745, 2541052856.5780153, 2177318197.9188495]\n",
            "Custo =  213902573192.3545\n"
          ]
        },
        {
          "output_type": "stream",
          "name": "stderr",
          "text": [
            "pyswarms.single.global_best: 100%|██████████|1/1, best_cost=3.66e+10\n",
            "2023-09-30 16:02:24,323 - pyswarms.single.global_best - INFO - Optimization finished | best cost: 36639283572.17615, best pos: [3.70042583 5.37629689 5.60807345 4.02684085 2.05748973 0.94202598\n",
            " 3.24444652 3.74284584 0.13339594 5.63820996 3.78910521 4.66042918\n",
            " 5.85464018 2.93199612 3.69707794 1.43276364 6.09646234 3.69496418\n",
            " 6.25401414 5.75512407 0.35019621 3.65465876 3.50245735 6.76870286]\n",
            "2023-09-30 16:02:24,324 - pyswarms.single.global_best - INFO - Optimize for 1 iters with {'c1': 0.5, 'c2': 0.3, 'w': 0.9}\n"
          ]
        },
        {
          "output_type": "stream",
          "name": "stdout",
          "text": [
            "\n",
            "=========================================================================\n",
            "\n",
            "Número de ciclos de manutenção: 15 5\n",
            "Tempos para manutenções preventivas: [0, 21, 41, 78, 186, 232, 294, 323, 385, 440, 463, 527, 592, 650, 667, 705]\n",
            "Severidade para cada subsistema: [0.5, 0.75, 0.75, 0.5, 0.5, 0.25, 0.5, 0.75, 0.5, 0.25, 0.5, 0.75, 0.5, 0.5, 0.5]\n",
            "Número de Sisemas: 5\n",
            "Fator:  [0.3296799539643607, 0.6321205588285577, 0.7768698398515702, 0.7768698398515702, 0.6321205588285577, 0.6321205588285577, 0.3934693402873666, 0.6321205588285577, 0.7768698398515702, 0.6321205588285577, 0.3934693402873666, 0.6321205588285577, 0.7768698398515702, 0.6321205588285577, 0.6321205588285577, 0.6321205588285577]\n",
            "Media de falhas:  [0, 1306.9123200000001, 15834.158619245372, 138224.4056742481, 10062234.656636495, 11664349.619935235, 32441715.080774523, 43237882.40030543, 316052356.04979396, 391881441.1693448, 397323591.89961374, 577533347.0983458, 2204000821.9162807, 2557727777.6651444, 2572934964.2993183, 2873026993.109043, 2525553991.564495]\n",
            "Custo =  211567338682.06345\n"
          ]
        },
        {
          "output_type": "stream",
          "name": "stderr",
          "text": [
            "pyswarms.single.global_best: 100%|██████████|1/1, best_cost=3.66e+10\n",
            "2023-09-30 16:02:24,339 - pyswarms.single.global_best - INFO - Optimization finished | best cost: 36639283572.17615, best pos: [3.70042312 5.37629636 5.6080735  4.02683901 2.05748091 0.94202601\n",
            " 3.24444644 3.74283127 0.13339745 5.63819546 3.7891066  4.66042928\n",
            " 5.85464011 2.93199604 3.69706741 1.43276242 6.09645078 3.69495629\n",
            " 6.25409821 5.75509878 0.35017538 3.65465892 3.50430013 6.76869885]\n",
            "2023-09-30 16:02:24,340 - pyswarms.single.global_best - INFO - Optimize for 1 iters with {'c1': 0.5, 'c2': 0.3, 'w': 0.9}\n"
          ]
        },
        {
          "output_type": "stream",
          "name": "stdout",
          "text": [
            "\n",
            "=========================================================================\n",
            "\n",
            "Número de ciclos de manutenção: 16 5\n",
            "Tempos para manutenções preventivas: [0, 21, 41, 78, 187, 232, 272, 323, 385, 440, 463, 528, 592, 616, 648, 670, 702]\n",
            "Severidade para cada subsistema: [0.5, 0.75, 0.75, 0.5, 0.5, 0.75, 0.5, 0.75, 0.5, 0.25, 0.5, 0.75, 0.25, 0.5, 0.5, 0.25]\n",
            "Número de Sisemas: 5\n",
            "Fator:  [0.3296799539643607, 0.6321205588285577, 0.7768698398515702, 0.7768698398515702, 0.6321205588285577, 0.6321205588285577, 0.7768698398515702, 0.6321205588285577, 0.7768698398515702, 0.6321205588285577, 0.3934693402873666, 0.6321205588285577, 0.7768698398515702, 0.3934693402873666, 0.6321205588285577, 0.6321205588285577, 0.3934693402873666]\n",
            "Media de falhas:  [0, 1306.9123200000001, 15834.158619245372, 138224.4056742481, 10464297.460423926, 11993755.026666384, 20446924.670827895, 42410292.35973217, 55650026.198194206, 131479111.31774506, 136921262.04801401, 321996487.01633453, 1924542995.748349, 2032184104.5148835, 2061188859.908869, 3000584507.731411, 3245415531.3139343, 2907629631.0209937]\n",
            "Custo =  358178465791.49176\n"
          ]
        },
        {
          "output_type": "stream",
          "name": "stderr",
          "text": [
            "pyswarms.single.global_best:   0%|          |0/1, best_cost=3.66e+10"
          ]
        },
        {
          "output_type": "stream",
          "name": "stdout",
          "text": [
            "\n",
            "=========================================================================\n",
            "\n",
            "Número de ciclos de manutenção: 15 5\n",
            "Tempos para manutenções preventivas: [0, 21, 41, 78, 187, 232, 271, 323, 385, 440, 463, 528, 592, 647, 673, 715]\n",
            "Severidade para cada subsistema: [0.5, 0.75, 0.75, 0.5, 0.5, 0.25, 0.5, 0.75, 0.5, 0.25, 0.5, 0.75, 0.5, 0.5, 0.75]\n",
            "Número de Sisemas: 5\n",
            "Fator:  [0.3296799539643607, 0.6321205588285577, 0.7768698398515702, 0.7768698398515702, 0.6321205588285577, 0.6321205588285577, 0.3934693402873666, 0.6321205588285577, 0.7768698398515702, 0.6321205588285577, 0.3934693402873666, 0.6321205588285577, 0.7768698398515702, 0.6321205588285577, 0.6321205588285577, 0.7768698398515702]\n",
            "Media de falhas:  [0, 1306.9123200000001, 15834.158619245372, 138224.4056742481, 10464297.460423926, 11993755.026666384, 20058183.36037698, 42611244.3026, 315425717.9520885, 391254803.0716393, 396696953.80190825, 581772178.7702287, 2184318687.502243, 2510876678.1332426, 2536736161.1730027, 2890703754.779907, 2510542590.82797]\n",
            "Custo =  213366139276.54904\n"
          ]
        },
        {
          "output_type": "stream",
          "name": "stderr",
          "text": [
            "\rpyswarms.single.global_best: 100%|██████████|1/1, best_cost=3.66e+10\n",
            "2023-09-30 16:02:24,352 - pyswarms.single.global_best - INFO - Optimization finished | best cost: 36639283572.17615, best pos: [3.70042035 5.37629594 5.60807353 4.02683685 2.05747339 0.94202607\n",
            " 3.24444676 3.74280487 0.13339911 5.63817809 3.78910847 4.66042932\n",
            " 5.8546401  2.93199593 3.69705699 1.43276075 6.09644979 3.69494888\n",
            " 6.2541719  5.75506978 0.3501536  3.65465916 3.50675701 6.76869161]\n",
            "2023-09-30 16:02:24,354 - pyswarms.single.global_best - INFO - Optimize for 1 iters with {'c1': 0.5, 'c2': 0.3, 'w': 0.9}\n",
            "pyswarms.single.global_best:   0%|          |0/1, best_cost=3.66e+10"
          ]
        },
        {
          "output_type": "stream",
          "name": "stdout",
          "text": [
            "\n",
            "=========================================================================\n",
            "\n",
            "Número de ciclos de manutenção: 15 5\n",
            "Tempos para manutenções preventivas: [0, 21, 41, 78, 187, 232, 292, 323, 385, 440, 463, 529, 592, 647, 676, 692]\n",
            "Severidade para cada subsistema: [0.5, 0.75, 0.75, 0.5, 0.5, 0.5, 0.5, 0.75, 0.5, 0.25, 0.5, 0.75, 0.5, 0.5, 0.5]\n",
            "Número de Sisemas: 5\n",
            "Fator:  [0.3296799539643607, 0.6321205588285577, 0.7768698398515702, 0.7768698398515702, 0.6321205588285577, 0.6321205588285577, 0.6321205588285577, 0.6321205588285577, 0.7768698398515702, 0.6321205588285577, 0.3934693402873666, 0.6321205588285577, 0.7768698398515702, 0.6321205588285577, 0.6321205588285577, 0.6321205588285577]\n",
            "Media de falhas:  [0, 1306.9123200000001, 15834.158619245372, 138224.4056742481, 10464297.460423926, 11993755.026666384, 31303079.91505197, 42987318.84905939, 97271674.18081634, 173100759.30036718, 178542910.03063613, 368567012.38493335, 1947171438.425686, 2273729429.0566854, 2303777419.86693, 2415128659.738991, 2109325480.577192]\n",
            "Custo =  194063018127.77692\n"
          ]
        },
        {
          "output_type": "stream",
          "name": "stderr",
          "text": [
            "\rpyswarms.single.global_best: 100%|██████████|1/1, best_cost=3.66e+10\n",
            "2023-09-30 16:02:24,366 - pyswarms.single.global_best - INFO - Optimization finished | best cost: 36639283572.17615, best pos: [3.70041761 5.37629565 5.60807355 4.02683485 2.05746974 0.94202615\n",
            " 3.24444747 3.74277595 0.13340078 5.6381543  3.78911018 4.66042926\n",
            " 5.85464009 2.93199569 3.69704781 1.43275916 6.09645043 3.69494238\n",
            " 6.25422707 5.75503475 0.35013349 3.65465943 3.50979743 6.76868422]\n",
            "2023-09-30 16:02:24,367 - pyswarms.single.global_best - INFO - Optimize for 1 iters with {'c1': 0.5, 'c2': 0.3, 'w': 0.9}\n",
            "pyswarms.single.global_best:   0%|          |0/1"
          ]
        },
        {
          "output_type": "stream",
          "name": "stdout",
          "text": [
            "\n",
            "=========================================================================\n",
            "\n",
            "Número de ciclos de manutenção: 15 5\n",
            "Tempos para manutenções preventivas: [0, 21, 41, 78, 187, 232, 267, 323, 385, 440, 463, 530, 592, 617, 647, 679]\n",
            "Severidade para cada subsistema: [0.5, 0.75, 0.75, 0.5, 0.5, 0.75, 0.5, 0.75, 0.5, 0.25, 0.5, 0.75, 0.5, 0.5, 0.5]\n",
            "Número de Sisemas: 5\n",
            "Fator:  [0.3296799539643607, 0.6321205588285577, 0.7768698398515702, 0.7768698398515702, 0.6321205588285577, 0.6321205588285577, 0.7768698398515702, 0.6321205588285577, 0.7768698398515702, 0.6321205588285577, 0.3934693402873666, 0.6321205588285577, 0.7768698398515702, 0.6321205588285577, 0.6321205588285577, 0.6321205588285577]\n",
            "Media de falhas:  [0, 1306.9123200000001, 15834.158619245372, 138224.4056742481, 10464297.460423926, 11993755.026666384, 18623355.00874988, 43617094.87199115, 56856828.71045318, 132685913.83000404, 138128064.560273, 333185519.7284118, 1887826133.7576838, 2000980739.404835, 2027562489.7378883, 2242425549.1072283, 1977736148.7725482]\n",
            "Custo =  184243157579.78397\n"
          ]
        },
        {
          "output_type": "stream",
          "name": "stderr",
          "text": [
            "pyswarms.single.global_best: 100%|██████████|1/1, best_cost=3.66e+10\n",
            "2023-09-30 16:02:24,380 - pyswarms.single.global_best - INFO - Optimization finished | best cost: 36639283572.17615, best pos: [3.70041528 5.37629572 5.60807353 4.02683352 2.05746701 0.94202624\n",
            " 3.24444832 3.74275018 0.1334022  5.63812721 3.78911168 4.66042906\n",
            " 5.85464014 2.93199541 3.69704108 1.43275774 6.0964522  3.69493702\n",
            " 6.25426672 5.75500148 0.35011711 3.65465973 3.51260729 6.76867704]\n",
            "2023-09-30 16:02:24,381 - pyswarms.single.global_best - INFO - Optimize for 1 iters with {'c1': 0.5, 'c2': 0.3, 'w': 0.9}\n",
            "pyswarms.single.global_best:   0%|          |0/1, best_cost=3.66e+10"
          ]
        },
        {
          "output_type": "stream",
          "name": "stdout",
          "text": [
            "\n",
            "=========================================================================\n",
            "\n",
            "Número de ciclos de manutenção: 14 5\n",
            "Tempos para manutenções preventivas: [0, 21, 41, 78, 187, 232, 323, 385, 440, 463, 531, 592, 647, 682, 703]\n",
            "Severidade para cada subsistema: [0.5, 0.75, 0.75, 0.5, 0.5, 0.5, 0.75, 0.5, 0.25, 0.5, 0.75, 0.5, 0.5, 0.75]\n",
            "Número de Sisemas: 5\n",
            "Fator:  [0.3296799539643607, 0.6321205588285577, 0.7768698398515702, 0.7768698398515702, 0.6321205588285577, 0.6321205588285577, 0.6321205588285577, 0.7768698398515702, 0.6321205588285577, 0.3934693402873666, 0.6321205588285577, 0.7768698398515702, 0.6321205588285577, 0.6321205588285577, 0.7768698398515702]\n",
            "Media de falhas:  [0, 1306.9123200000001, 15834.158619245372, 138224.4056742481, 10464297.460423926, 11993755.026666384, 65120759.94448987, 119405115.27624682, 195234200.39579767, 200676351.12606663, 400852711.4223907, 1931507170.0909588, 2258065160.7219586, 2297406542.4301476, 2454775752.6326914, 2113766223.3665965]\n",
            "Custo =  196439921850.2347\n"
          ]
        },
        {
          "output_type": "stream",
          "name": "stderr",
          "text": [
            "\rpyswarms.single.global_best: 100%|██████████|1/1, best_cost=3.66e+10\n",
            "2023-09-30 16:02:24,396 - pyswarms.single.global_best - INFO - Optimization finished | best cost: 36639283572.17615, best pos: [3.70041432 5.37629583 5.6080735  4.02683265 2.05746903 0.94202632\n",
            " 3.24444917 3.74273343 0.13340283 5.63809545 3.78911292 4.66042868\n",
            " 5.85464023 2.93199516 3.69703621 1.43275655 6.09645982 3.69493545\n",
            " 6.25429431 5.75497637 0.35010985 3.65465999 3.5150102  6.76867156]\n",
            "2023-09-30 16:02:24,398 - pyswarms.single.global_best - INFO - Optimize for 1 iters with {'c1': 0.5, 'c2': 0.3, 'w': 0.9}\n",
            "pyswarms.single.global_best:   0%|          |0/1, best_cost=3.66e+10"
          ]
        },
        {
          "output_type": "stream",
          "name": "stdout",
          "text": [
            "\n",
            "=========================================================================\n",
            "\n",
            "Número de ciclos de manutenção: 17 5\n",
            "Tempos para manutenções preventivas: [0, 21, 41, 78, 187, 232, 259, 270, 323, 385, 440, 463, 531, 592, 605, 648, 682, 701]\n",
            "Severidade para cada subsistema: [0.5, 0.75, 0.75, 0.5, 0.5, 0.5, 0.75, 0.5, 0.75, 0.5, 0.25, 0.5, 0.75, 0.25, 0.5, 0.5, 0.5]\n",
            "Número de Sisemas: 5\n",
            "Fator:  [0.3296799539643607, 0.6321205588285577, 0.7768698398515702, 0.7768698398515702, 0.6321205588285577, 0.6321205588285577, 0.6321205588285577, 0.7768698398515702, 0.6321205588285577, 0.7768698398515702, 0.6321205588285577, 0.3934693402873666, 0.6321205588285577, 0.7768698398515702, 0.3934693402873666, 0.6321205588285577, 0.6321205588285577, 0.6321205588285577]\n",
            "Media de falhas:  [0, 1306.9123200000001, 15834.158619245372, 138224.4056742481, 10464297.460423926, 11993755.026666384, 16272252.003027815, 18098683.831135124, 41249506.6578861, 54489240.496348135, 130318325.615899, 135760476.34616795, 335936836.64249206, 1866591295.3110602, 1919313110.8258982, 1962138252.3864357, 3505117547.906909, 3645253875.068065, 3310686441.067334]\n",
            "Custo =  367523251365.299\n"
          ]
        },
        {
          "output_type": "stream",
          "name": "stderr",
          "text": [
            "\rpyswarms.single.global_best: 100%|██████████|1/1, best_cost=3.66e+10\n",
            "2023-09-30 16:02:24,409 - pyswarms.single.global_best - INFO - Optimization finished | best cost: 36639283572.17615, best pos: [3.70041375 5.37629594 5.60807345 4.02683218 2.05747272 0.94202639\n",
            " 3.24444992 3.74272179 0.13340293 5.63806566 3.78911342 4.66042826\n",
            " 5.85464034 2.93199496 3.69703641 1.4327558  6.09646714 3.69493509\n",
            " 6.25431231 5.75496722 0.3501104  3.65466015 3.51711207 6.76866908]\n",
            "2023-09-30 16:02:24,411 - pyswarms.single.global_best - INFO - Optimize for 1 iters with {'c1': 0.5, 'c2': 0.3, 'w': 0.9}\n",
            "pyswarms.single.global_best:   0%|          |0/1, best_cost=3.66e+10"
          ]
        },
        {
          "output_type": "stream",
          "name": "stdout",
          "text": [
            "\n",
            "=========================================================================\n",
            "\n",
            "Número de ciclos de manutenção: 15 5\n",
            "Tempos para manutenções preventivas: [0, 21, 41, 78, 187, 232, 323, 385, 440, 462, 532, 592, 610, 649, 680, 692]\n",
            "Severidade para cada subsistema: [0.5, 0.75, 0.75, 0.5, 0.5, 0.5, 0.75, 0.5, 0.25, 0.5, 0.75, 0.5, 0.5, 0.5, 0.25]\n",
            "Número de Sisemas: 5\n",
            "Fator:  [0.3296799539643607, 0.6321205588285577, 0.7768698398515702, 0.7768698398515702, 0.6321205588285577, 0.6321205588285577, 0.6321205588285577, 0.7768698398515702, 0.6321205588285577, 0.3934693402873666, 0.6321205588285577, 0.7768698398515702, 0.6321205588285577, 0.6321205588285577, 0.6321205588285577, 0.3934693402873666]\n",
            "Media de falhas:  [0, 1306.9123200000001, 15834.158619245372, 138224.4056742481, 10464297.460423926, 11993755.026666384, 65120759.94448987, 119405115.27624682, 195234200.39579767, 200337009.75715375, 409547914.34778404, 1916193258.959748, 1992614304.0111296, 2030352292.876186, 2239170574.5840955, 2321928456.302055, 2016125277.1402562]\n",
            "Custo =  213888368624.81854\n"
          ]
        },
        {
          "output_type": "stream",
          "name": "stderr",
          "text": [
            "\rpyswarms.single.global_best: 100%|██████████|1/1, best_cost=3.66e+10\n",
            "2023-09-30 16:02:24,424 - pyswarms.single.global_best - INFO - Optimization finished | best cost: 36639283572.17615, best pos: [3.70041463 5.37629611 5.6080734  4.02683176 2.05747628 0.94202642\n",
            " 3.2444503  3.74272349 0.13340295 5.63803718 3.78911376 4.66042792\n",
            " 5.85464046 2.93199483 3.69703742 1.43275524 6.09647456 3.69493921\n",
            " 6.25426985 5.75496764 0.35011982 3.65466016 3.51786062 6.76867033]\n",
            "2023-09-30 16:02:24,425 - pyswarms.single.global_best - INFO - Optimize for 1 iters with {'c1': 0.5, 'c2': 0.3, 'w': 0.9}\n",
            "pyswarms.single.global_best:   0%|          |0/1, best_cost=3.66e+10"
          ]
        },
        {
          "output_type": "stream",
          "name": "stdout",
          "text": [
            "\n",
            "=========================================================================\n",
            "\n",
            "Número de ciclos de manutenção: 15 5\n",
            "Tempos para manutenções preventivas: [0, 20, 41, 78, 187, 232, 295, 323, 385, 440, 462, 532, 592, 625, 650, 678]\n",
            "Severidade para cada subsistema: [0.5, 0.75, 0.75, 0.5, 0.5, 0.5, 0.5, 0.75, 0.5, 0.25, 0.5, 0.75, 0.75, 0.5, 0.5]\n",
            "Número de Sisemas: 5\n",
            "Fator:  [0.3296799539643607, 0.6321205588285577, 0.7768698398515702, 0.7768698398515702, 0.6321205588285577, 0.6321205588285577, 0.6321205588285577, 0.6321205588285577, 0.7768698398515702, 0.6321205588285577, 0.3934693402873666, 0.6321205588285577, 0.7768698398515702, 0.7768698398515702, 0.6321205588285577, 0.6321205588285577]\n",
            "Media de falhas:  [0, 1024.0, 16314.716074443764, 138704.96312944646, 10464778.017879123, 11994235.584121581, 33536126.745286413, 43896563.37356615, 98180918.7053231, 174010003.82487395, 179112813.18623003, 388323717.7768603, 1894969062.3888242, 2055625518.9473474, 2077241625.2019398, 2106344049.3277256, 1844806378.7548892]\n",
            "Custo =  166223581731.0788\n"
          ]
        },
        {
          "output_type": "stream",
          "name": "stderr",
          "text": [
            "\rpyswarms.single.global_best: 100%|██████████|1/1, best_cost=3.66e+10\n",
            "2023-09-30 16:02:24,439 - pyswarms.single.global_best - INFO - Optimization finished | best cost: 36639283572.17615, best pos: [3.70041674 5.37629649 5.60807336 4.02683168 2.05748024 0.94202641\n",
            " 3.24445041 3.74273208 0.13340212 5.6380134  3.78911299 4.66042765\n",
            " 5.85464057 2.93199473 3.6970406  1.43275514 6.09648216 3.69494533\n",
            " 6.25417907 5.75497785 0.3501357  3.65466002 3.51736232 6.76867207]\n",
            "2023-09-30 16:02:24,440 - pyswarms.single.global_best - INFO - Optimize for 1 iters with {'c1': 0.5, 'c2': 0.3, 'w': 0.9}\n",
            "pyswarms.single.global_best:   0%|          |0/1, best_cost=3.66e+10"
          ]
        },
        {
          "output_type": "stream",
          "name": "stdout",
          "text": [
            "\n",
            "=========================================================================\n",
            "\n",
            "Número de ciclos de manutenção: 16 5\n",
            "Tempos para manutenções preventivas: [0, 20, 41, 78, 187, 232, 255, 323, 385, 440, 462, 532, 592, 622, 650, 675, 690]\n",
            "Severidade para cada subsistema: [0.5, 0.75, 0.75, 0.5, 0.5, 0.5, 0.5, 0.75, 0.5, 0.25, 0.5, 0.75, 0.25, 0.5, 0.5, 0.75]\n",
            "Número de Sisemas: 5\n",
            "Fator:  [0.3296799539643607, 0.6321205588285577, 0.7768698398515702, 0.7768698398515702, 0.6321205588285577, 0.6321205588285577, 0.6321205588285577, 0.6321205588285577, 0.7768698398515702, 0.6321205588285577, 0.3934693402873666, 0.6321205588285577, 0.7768698398515702, 0.3934693402873666, 0.6321205588285577, 0.6321205588285577, 0.7768698398515702]\n",
            "Media de falhas:  [0, 1024.0, 16314.716074443764, 138704.96312944646, 10464778.017879123, 11994235.584121581, 15323170.048211869, 48493377.375618376, 102777732.70737532, 178606817.82692617, 183709627.18828225, 392920531.77891254, 1899565876.3908765, 2041684682.503686, 2066508095.581674, 3163411073.448675, 3266375182.1648207, 2966922910.7303696]\n",
            "Custo =  364170088164.7419\n"
          ]
        },
        {
          "output_type": "stream",
          "name": "stderr",
          "text": [
            "\rpyswarms.single.global_best: 100%|██████████|1/1, best_cost=3.66e+10\n",
            "2023-09-30 16:02:24,453 - pyswarms.single.global_best - INFO - Optimization finished | best cost: 36639283572.17615, best pos: [3.70041939 5.37629692 5.60807334 4.02683196 2.0574844  0.94202634\n",
            " 3.24445004 3.74275205 0.13340078 5.63799395 3.78911145 4.66042742\n",
            " 5.85464066 2.93199473 3.69704764 1.43275588 6.09648922 3.69495144\n",
            " 6.254072   5.75499622 0.35015012 3.65465984 3.51605426 6.76867611]\n",
            "2023-09-30 16:02:24,455 - pyswarms.single.global_best - INFO - Optimize for 1 iters with {'c1': 0.5, 'c2': 0.3, 'w': 0.9}\n",
            "pyswarms.single.global_best:   0%|          |0/1, best_cost=3.66e+10"
          ]
        },
        {
          "output_type": "stream",
          "name": "stdout",
          "text": [
            "\n",
            "=========================================================================\n",
            "\n",
            "Número de ciclos de manutenção: 13 5\n",
            "Tempos para manutenções preventivas: [0, 20, 41, 78, 187, 232, 323, 385, 440, 462, 531, 592, 651, 673]\n",
            "Severidade para cada subsistema: [0.5, 0.75, 0.75, 0.5, 0.5, 0.5, 0.75, 0.5, 0.25, 0.5, 0.75, 0.5, 0.5]\n",
            "Número de Sisemas: 5\n",
            "Fator:  [0.3296799539643607, 0.6321205588285577, 0.7768698398515702, 0.7768698398515702, 0.6321205588285577, 0.6321205588285577, 0.6321205588285577, 0.7768698398515702, 0.6321205588285577, 0.3934693402873666, 0.6321205588285577, 0.7768698398515702, 0.6321205588285577, 0.6321205588285577]\n",
            "Media de falhas:  [0, 1024.0, 16314.716074443764, 138704.96312944646, 10464778.017879123, 11994235.584121581, 65121240.50194506, 119405595.83370201, 195234680.95325285, 200337490.31460893, 404287521.2514055, 1934941979.9199736, 2297991807.711497, 2319184889.534369, 2073401560.7722487]\n",
            "Custo =  166939725806.0863\n"
          ]
        },
        {
          "output_type": "stream",
          "name": "stderr",
          "text": [
            "\rpyswarms.single.global_best: 100%|██████████|1/1, best_cost=3.66e+10\n",
            "2023-09-30 16:02:24,468 - pyswarms.single.global_best - INFO - Optimization finished | best cost: 36639283572.17615, best pos: [3.70042177 5.3762973  5.60807334 4.02683285 2.05748824 0.94202627\n",
            " 3.24444947 3.74277219 0.13339949 5.63797855 3.78910958 4.66042735\n",
            " 5.85464071 2.93199483 3.6970558  1.43275727 6.09649649 3.69495676\n",
            " 6.25398029 5.75501744 0.35016259 3.65465964 3.51463467 6.7686799 ]\n",
            "2023-09-30 16:02:24,469 - pyswarms.single.global_best - INFO - Optimize for 1 iters with {'c1': 0.5, 'c2': 0.3, 'w': 0.9}\n",
            "pyswarms.single.global_best:   0%|          |0/1, best_cost=3.66e+10"
          ]
        },
        {
          "output_type": "stream",
          "name": "stdout",
          "text": [
            "\n",
            "=========================================================================\n",
            "\n",
            "Número de ciclos de manutenção: 15 5\n",
            "Tempos para manutenções preventivas: [0, 20, 41, 78, 187, 232, 242, 281, 323, 385, 440, 462, 531, 592, 651, 671]\n",
            "Severidade para cada subsistema: [0.5, 0.75, 0.75, 0.5, 0.5, 0.75, 0.75, 0.5, 0.75, 0.5, 0.25, 0.5, 0.75, 0.5, 0.5]\n",
            "Número de Sisemas: 5\n",
            "Fator:  [0.3296799539643607, 0.6321205588285577, 0.7768698398515702, 0.7768698398515702, 0.6321205588285577, 0.6321205588285577, 0.7768698398515702, 0.7768698398515702, 0.6321205588285577, 0.7768698398515702, 0.6321205588285577, 0.3934693402873666, 0.6321205588285577, 0.7768698398515702, 0.6321205588285577, 0.6321205588285577]\n",
            "Media de falhas:  [0, 1024.0, 16314.716074443764, 138704.96312944646, 10464778.017879123, 11994235.584121581, 13066859.931431329, 22283908.666648768, 25999836.663930137, 39239570.50239217, 115068655.62194303, 120171464.9832991, 324121495.9200957, 1854775954.5886638, 2217825782.380187, 2236573695.483945, 1997093909.044952]\n",
            "Custo =  163605254609.88474\n"
          ]
        },
        {
          "output_type": "stream",
          "name": "stderr",
          "text": [
            "\rpyswarms.single.global_best: 100%|██████████|1/1, best_cost=3.66e+10\n",
            "2023-09-30 16:02:24,480 - pyswarms.single.global_best - INFO - Optimization finished | best cost: 36639283572.17615, best pos: [3.70042359 5.37629763 5.60807334 4.02683391 2.05749085 0.94202619\n",
            " 3.24444884 3.74279075 0.13339844 5.63798736 3.78910789 4.6604274\n",
            " 5.85464068 2.93199495 3.6970648  1.43275895 6.09650256 3.69496048\n",
            " 6.25391795 5.75503826 0.35017139 3.65465946 3.51289346 6.76868375]\n",
            "2023-09-30 16:02:24,482 - pyswarms.single.global_best - INFO - Optimize for 1 iters with {'c1': 0.5, 'c2': 0.3, 'w': 0.9}\n",
            "pyswarms.single.global_best:   0%|          |0/1, best_cost=3.66e+10"
          ]
        },
        {
          "output_type": "stream",
          "name": "stdout",
          "text": [
            "\n",
            "=========================================================================\n",
            "\n",
            "Número de ciclos de manutenção: 15 5\n",
            "Tempos para manutenções preventivas: [0, 20, 41, 78, 187, 232, 257, 323, 385, 440, 462, 530, 592, 614, 651, 671]\n",
            "Severidade para cada subsistema: [0.5, 0.75, 0.75, 0.5, 0.5, 0.75, 0.5, 0.75, 0.5, 0.25, 0.5, 0.75, 0.5, 0.5, 0.5]\n",
            "Número de Sisemas: 5\n",
            "Fator:  [0.3296799539643607, 0.6321205588285577, 0.7768698398515702, 0.7768698398515702, 0.6321205588285577, 0.6321205588285577, 0.7768698398515702, 0.6321205588285577, 0.7768698398515702, 0.6321205588285577, 0.3934693402873666, 0.6321205588285577, 0.7768698398515702, 0.6321205588285577, 0.6321205588285577, 0.6321205588285577]\n",
            "Media de falhas:  [0, 1024.0, 16314.716074443764, 138704.96312944646, 10464778.017879123, 11994235.584121581, 15780749.458443098, 47493208.92114492, 60732942.75960695, 136562027.8791578, 141664837.2405139, 340441324.0390674, 1895081938.0683393, 1991966323.5076382, 2027562606.2023118, 2151943193.596916, 1912463407.1579232]\n",
            "Custo =  182179508645.2557\n"
          ]
        },
        {
          "output_type": "stream",
          "name": "stderr",
          "text": [
            "\rpyswarms.single.global_best: 100%|██████████|1/1, best_cost=3.66e+10\n",
            "2023-09-30 16:02:24,495 - pyswarms.single.global_best - INFO - Optimization finished | best cost: 36639283572.17615, best pos: [3.70042514 5.37629774 5.60807335 4.0268355  2.05749219 0.94202612\n",
            " 3.24444827 3.74280616 0.13339764 5.63800869 3.78910641 4.6604276\n",
            " 5.85464066 2.93199511 3.69707261 1.43276048 6.09650595 3.69496336\n",
            " 6.25390647 5.75505609 0.35017441 3.65465937 3.5106727  6.76868692]\n",
            "2023-09-30 16:02:24,497 - pyswarms.single.global_best - INFO - Optimize for 1 iters with {'c1': 0.5, 'c2': 0.3, 'w': 0.9}\n",
            "pyswarms.single.global_best:   0%|          |0/1, best_cost=3.66e+10"
          ]
        },
        {
          "output_type": "stream",
          "name": "stdout",
          "text": [
            "\n",
            "=========================================================================\n",
            "\n",
            "Número de ciclos de manutenção: 14 5\n",
            "Tempos para manutenções preventivas: [0, 20, 41, 78, 186, 232, 298, 323, 385, 440, 462, 530, 592, 651, 672]\n",
            "Severidade para cada subsistema: [0.5, 0.75, 0.75, 0.5, 0.5, 0.5, 0.5, 0.75, 0.5, 0.25, 0.5, 0.75, 0.5, 0.5]\n",
            "Número de Sisemas: 5\n",
            "Fator:  [0.3296799539643607, 0.6321205588285577, 0.7768698398515702, 0.7768698398515702, 0.6321205588285577, 0.6321205588285577, 0.6321205588285577, 0.6321205588285577, 0.7768698398515702, 0.6321205588285577, 0.3934693402873666, 0.6321205588285577, 0.7768698398515702, 0.6321205588285577, 0.6321205588285577]\n",
            "Media de falhas:  [0, 1024.0, 16314.716074443764, 138704.96312944646, 10062715.214091692, 11664830.177390432, 35627373.68125393, 44712616.60979372, 98996971.94155067, 174826057.06110153, 179928866.4224576, 378705353.22101104, 1933345967.2502832, 2296395795.041806, 2316351586.2055945, 2073719693.6733825]\n",
            "Custo =  167260307289.6246\n"
          ]
        },
        {
          "output_type": "stream",
          "name": "stderr",
          "text": [
            "\rpyswarms.single.global_best: 100%|██████████|1/1, best_cost=3.66e+10\n",
            "2023-09-30 16:02:24,511 - pyswarms.single.global_best - INFO - Optimization finished | best cost: 36639283572.17615, best pos: [3.70042508 5.37629766 5.60807337 4.02683715 2.05749244 0.94202607\n",
            " 3.24444777 3.74281718 0.13339753 5.63804215 3.7891052  4.66042779\n",
            " 5.85464061 2.93199533 3.69707863 1.43276172 6.09650538 3.69496262\n",
            " 6.25394053 5.75507213 0.35017188 3.65465933 3.5086738  6.76868967]\n",
            "2023-09-30 16:02:24,512 - pyswarms.single.global_best - INFO - Optimize for 1 iters with {'c1': 0.5, 'c2': 0.3, 'w': 0.9}\n",
            "pyswarms.single.global_best:   0%|          |0/1, best_cost=3.66e+10"
          ]
        },
        {
          "output_type": "stream",
          "name": "stdout",
          "text": [
            "\n",
            "=========================================================================\n",
            "\n",
            "Número de ciclos de manutenção: 15 5\n",
            "Tempos para manutenções preventivas: [0, 20, 41, 78, 187, 232, 263, 323, 385, 440, 463, 529, 592, 650, 672, 691]\n",
            "Severidade para cada subsistema: [0.5, 0.75, 0.75, 0.5, 0.5, 0.75, 0.5, 0.75, 0.5, 0.25, 0.5, 0.75, 0.5, 0.5, 0.5]\n",
            "Número de Sisemas: 5\n",
            "Fator:  [0.3296799539643607, 0.6321205588285577, 0.7768698398515702, 0.7768698398515702, 0.6321205588285577, 0.6321205588285577, 0.7768698398515702, 0.6321205588285577, 0.7768698398515702, 0.6321205588285577, 0.3934693402873666, 0.6321205588285577, 0.7768698398515702, 0.6321205588285577, 0.6321205588285577, 0.6321205588285577]\n",
            "Media de falhas:  [0, 1024.0, 16314.716074443764, 138704.96312944646, 10464778.017879123, 11994235.584121581, 17367597.048064314, 44938992.41103766, 58178726.24949969, 134007811.36905055, 139449962.09931952, 329474064.45361674, 1908078490.4943695, 2261805446.243233, 2282878327.885491, 2415271772.624583, 2112645602.8832655]\n",
            "Custo =  191524565128.47888\n"
          ]
        },
        {
          "output_type": "stream",
          "name": "stderr",
          "text": [
            "\rpyswarms.single.global_best: 100%|██████████|1/1, best_cost=3.66e+10\n",
            "2023-09-30 16:02:24,524 - pyswarms.single.global_best - INFO - Optimization finished | best cost: 36639283572.17615, best pos: [3.70042438 5.37629743 5.60807338 4.02683855 2.05749239 0.94202602\n",
            " 3.24444755 3.74282265 0.13339777 5.63807683 3.78910525 4.66042809\n",
            " 5.85464055 2.93199555 3.69708119 1.43276261 6.09650246 3.69496001\n",
            " 6.25398424 5.75508492 0.35016288 3.65465934 3.50689486 6.76869166]\n",
            "2023-09-30 16:02:24,525 - pyswarms.single.global_best - INFO - Optimize for 1 iters with {'c1': 0.5, 'c2': 0.3, 'w': 0.9}\n",
            "pyswarms.single.global_best:   0%|          |0/1, best_cost=3.66e+10"
          ]
        },
        {
          "output_type": "stream",
          "name": "stdout",
          "text": [
            "\n",
            "=========================================================================\n",
            "\n",
            "Número de ciclos de manutenção: 17 5\n",
            "Tempos para manutenções preventivas: [0, 21, 41, 78, 187, 232, 254, 285, 323, 385, 440, 463, 529, 592, 617, 649, 674, 706]\n",
            "Severidade para cada subsistema: [0.5, 0.75, 0.75, 0.5, 0.5, 0.75, 0.5, 0.5, 0.75, 0.5, 0.25, 0.5, 0.75, 0.75, 0.5, 0.5, 0.25]\n",
            "Número de Sisemas: 5\n",
            "Fator:  [0.3296799539643607, 0.6321205588285577, 0.7768698398515702, 0.7768698398515702, 0.6321205588285577, 0.6321205588285577, 0.7768698398515702, 0.6321205588285577, 0.6321205588285577, 0.7768698398515702, 0.6321205588285577, 0.3934693402873666, 0.6321205588285577, 0.7768698398515702, 0.7768698398515702, 0.6321205588285577, 0.6321205588285577, 0.3934693402873666]\n",
            "Media de falhas:  [0, 1306.9123200000001, 15834.158619245372, 138224.4056742481, 10464297.460423926, 11993755.026666384, 15106224.57171298, 22376045.13654548, 25506235.396542266, 79790590.72829922, 155619675.84785008, 161061826.57811904, 351085928.9324162, 1929690354.9731688, 2042844960.62032, 2072016982.9306643, 2096822876.5429077, 2347170004.147234, 1996456798.079119]\n",
            "Custo =  194321737030.74524\n"
          ]
        },
        {
          "output_type": "stream",
          "name": "stderr",
          "text": [
            "\rpyswarms.single.global_best: 100%|██████████|1/1, best_cost=3.66e+10\n",
            "2023-09-30 16:02:24,537 - pyswarms.single.global_best - INFO - Optimization finished | best cost: 36639283572.17615, best pos: [3.70042303 5.37629719 5.6080734  4.02683949 2.05749046 0.94202602\n",
            " 3.24444737 3.74281628 0.13339856 5.63810622 3.78910551 4.66042838\n",
            " 5.85464048 2.93199572 3.69708092 1.43276241 6.09649719 3.69495665\n",
            " 6.25405029 5.75509385 0.35015281 3.65465938 3.50544009 6.7686914 ]\n",
            "2023-09-30 16:02:24,538 - pyswarms.single.global_best - INFO - Optimize for 1 iters with {'c1': 0.5, 'c2': 0.3, 'w': 0.9}\n",
            "pyswarms.single.global_best: 100%|██████████|1/1, best_cost=3.66e+10"
          ]
        },
        {
          "output_type": "stream",
          "name": "stdout",
          "text": [
            "\n",
            "=========================================================================\n",
            "\n",
            "Número de ciclos de manutenção: 15 5\n",
            "Tempos para manutenções preventivas: [0, 21, 41, 78, 187, 232, 261, 323, 385, 440, 463, 529, 592, 607, 649, 675]\n",
            "Severidade para cada subsistema: [0.5, 0.75, 0.75, 0.5, 0.5, 0.75, 0.5, 0.75, 0.5, 0.25, 0.5, 0.75, 0.25, 0.5, 0.5]\n",
            "Número de Sisemas: 5\n",
            "Fator:  [0.3296799539643607, 0.6321205588285577, 0.7768698398515702, 0.7768698398515702, 0.6321205588285577, 0.6321205588285577, 0.7768698398515702, 0.6321205588285577, 0.7768698398515702, 0.6321205588285577, 0.3934693402873666, 0.6321205588285577, 0.7768698398515702, 0.3934693402873666, 0.6321205588285577, 0.6321205588285577]\n",
            "Media de falhas:  [0, 1306.9123200000001, 15834.158619245372, 138224.4056742481, 10464297.460423926, 11993755.026666384, 16800543.342237808, 45714650.55897376, 58954384.39743579, 134783469.51698664, 140225620.2472556, 330249722.6015528, 1908854148.6423054, 1970812405.4627903, 2012515080.5663218, 3152276089.0430355, 2900191070.8910055]\n",
            "Custo =  331406921776.1474\n"
          ]
        },
        {
          "output_type": "stream",
          "name": "stderr",
          "text": [
            "\n",
            "2023-09-30 16:02:24,551 - pyswarms.single.global_best - INFO - Optimization finished | best cost: 36639283572.17615, best pos: [3.70042131 5.37629691 5.60807343 4.02683997 2.0574877  0.94202606\n",
            " 3.24444762 3.74280828 0.13339955 5.63812938 3.7891063  4.66042863\n",
            " 5.85464042 2.93199586 3.69707548 1.43276183 6.09649139 3.69495267\n",
            " 6.254118   5.75508422 0.35014193 3.65465942 3.50538445 6.76868956]\n",
            "2023-09-30 16:02:24,553 - pyswarms.single.global_best - INFO - Optimize for 1 iters with {'c1': 0.5, 'c2': 0.3, 'w': 0.9}\n",
            "pyswarms.single.global_best:   0%|          |0/1, best_cost=3.66e+10"
          ]
        },
        {
          "output_type": "stream",
          "name": "stdout",
          "text": [
            "\n",
            "=========================================================================\n",
            "\n",
            "Número de ciclos de manutenção: 14 5\n",
            "Tempos para manutenções preventivas: [0, 21, 41, 78, 187, 232, 282, 323, 385, 440, 463, 529, 592, 648, 676]\n",
            "Severidade para cada subsistema: [0.5, 0.75, 0.75, 0.5, 0.5, 0.5, 0.5, 0.75, 0.5, 0.25, 0.5, 0.75, 0.5, 0.5]\n",
            "Número de Sisemas: 5\n",
            "Fator:  [0.3296799539643607, 0.6321205588285577, 0.7768698398515702, 0.7768698398515702, 0.6321205588285577, 0.6321205588285577, 0.6321205588285577, 0.6321205588285577, 0.7768698398515702, 0.6321205588285577, 0.3934693402873666, 0.6321205588285577, 0.7768698398515702, 0.6321205588285577, 0.6321205588285577]\n",
            "Media de falhas:  [0, 1306.9123200000001, 15834.158619245372, 138224.4056742481, 10464297.460423926, 11993755.026666384, 25079411.874113686, 41563495.30535951, 95847850.63711646, 171676935.75666732, 177119086.48693627, 367143188.8412335, 1945747614.8819861, 2281230101.786763, 2310009725.014816, 2054774042.6792285]\n",
            "Custo =  166403185226.15872\n"
          ]
        },
        {
          "output_type": "stream",
          "name": "stderr",
          "text": [
            "\rpyswarms.single.global_best: 100%|██████████|1/1, best_cost=3.66e+10\n",
            "2023-09-30 16:02:24,565 - pyswarms.single.global_best - INFO - Optimization finished | best cost: 36639283572.17615, best pos: [3.70041938 5.37629666 5.60807345 4.02683979 2.05748475 0.94202611\n",
            " 3.24444787 3.74279865 0.13340048 5.63814221 3.78910771 4.6604288\n",
            " 5.85464037 2.93199589 3.69706999 1.43276106 6.09648631 3.69494864\n",
            " 6.25417623 5.75507336 0.35013288 3.65465948 3.50687982 6.76868681]\n",
            "2023-09-30 16:02:24,566 - pyswarms.single.global_best - INFO - Optimize for 1 iters with {'c1': 0.5, 'c2': 0.3, 'w': 0.9}\n",
            "pyswarms.single.global_best:   0%|          |0/1, best_cost=3.66e+10"
          ]
        },
        {
          "output_type": "stream",
          "name": "stdout",
          "text": [
            "\n",
            "=========================================================================\n",
            "\n",
            "Número de ciclos de manutenção: 14 5\n",
            "Tempos para manutenções preventivas: [0, 21, 41, 78, 187, 232, 265, 323, 385, 440, 463, 530, 592, 648, 677]\n",
            "Severidade para cada subsistema: [0.5, 0.75, 0.75, 0.5, 0.5, 0.75, 0.5, 0.75, 0.5, 0.25, 0.5, 0.75, 0.5, 0.5]\n",
            "Número de Sisemas: 5\n",
            "Fator:  [0.3296799539643607, 0.6321205588285577, 0.7768698398515702, 0.7768698398515702, 0.6321205588285577, 0.6321205588285577, 0.7768698398515702, 0.6321205588285577, 0.7768698398515702, 0.6321205588285577, 0.3934693402873666, 0.6321205588285577, 0.7768698398515702, 0.6321205588285577, 0.6321205588285577]\n",
            "Media de falhas:  [0, 1306.9123200000001, 15834.158619245372, 138224.4056742481, 10464297.460423926, 11993755.026666384, 17974015.27556283, 44238960.77126411, 57478694.609726146, 133307779.729277, 138749930.45954597, 333807385.6276848, 1888447999.656957, 2223930486.5617337, 2254146255.5483007, 1995759756.8370864]\n",
            "Custo =  163881031921.47903\n"
          ]
        },
        {
          "output_type": "stream",
          "name": "stderr",
          "text": [
            "\rpyswarms.single.global_best: 100%|██████████|1/1, best_cost=3.66e+10\n",
            "2023-09-30 16:02:24,580 - pyswarms.single.global_best - INFO - Optimization finished | best cost: 36639283572.17615, best pos: [3.70041763 5.37629646 5.60807346 4.02683873 2.05748216 0.94202615\n",
            " 3.24444831 3.74278922 0.13340125 5.63814236 3.78910912 4.66042894\n",
            " 5.85464034 2.93199586 3.69706451 1.43276027 6.09648175 3.69494503\n",
            " 6.25420511 5.75506286 0.35012862 3.65465959 3.50894811 6.76868299]\n",
            "2023-09-30 16:02:24,582 - pyswarms.single.global_best - INFO - Optimize for 1 iters with {'c1': 0.5, 'c2': 0.3, 'w': 0.9}\n",
            "pyswarms.single.global_best:   0%|          |0/1, best_cost=3.66e+10"
          ]
        },
        {
          "output_type": "stream",
          "name": "stdout",
          "text": [
            "\n",
            "=========================================================================\n",
            "\n",
            "Número de ciclos de manutenção: 14 5\n",
            "Tempos para manutenções preventivas: [0, 21, 41, 78, 187, 232, 266, 323, 385, 440, 463, 530, 592, 648, 677]\n",
            "Severidade para cada subsistema: [0.5, 0.75, 0.75, 0.5, 0.5, 0.75, 0.5, 0.75, 0.5, 0.25, 0.5, 0.75, 0.5, 0.5]\n",
            "Número de Sisemas: 5\n",
            "Fator:  [0.3296799539643607, 0.6321205588285577, 0.7768698398515702, 0.7768698398515702, 0.6321205588285577, 0.6321205588285577, 0.7768698398515702, 0.6321205588285577, 0.7768698398515702, 0.6321205588285577, 0.3934693402873666, 0.6321205588285577, 0.7768698398515702, 0.6321205588285577, 0.6321205588285577]\n",
            "Media de falhas:  [0, 1306.9123200000001, 15834.158619245372, 138224.4056742481, 10464297.460423926, 11993755.026666384, 18293244.990696277, 43918245.19578876, 57157979.034250796, 132987064.15380165, 138429214.8840706, 333486670.0522094, 1888127284.0814815, 2223609770.9862585, 2253825539.9728255, 1995439041.2616112]\n",
            "Custo =  163884138425.18085\n"
          ]
        },
        {
          "output_type": "stream",
          "name": "stderr",
          "text": [
            "\rpyswarms.single.global_best: 100%|██████████|1/1, best_cost=3.66e+10\n",
            "2023-09-30 16:02:24,594 - pyswarms.single.global_best - INFO - Optimization finished | best cost: 36639283572.17615, best pos: [3.70041633 5.37629637 5.60807346 4.02683755 2.05747987 0.9420262\n",
            " 3.24444872 3.74277912 0.13340167 5.63812592 3.78911043 4.660429\n",
            " 5.85464034 2.93199573 3.69705929 1.43275932 6.09647928 3.69494339\n",
            " 6.2542279  5.75504568 0.35012904 3.65465969 3.51127657 6.76867947]\n",
            "2023-09-30 16:02:24,595 - pyswarms.single.global_best - INFO - Optimize for 1 iters with {'c1': 0.5, 'c2': 0.3, 'w': 0.9}\n",
            "pyswarms.single.global_best: 100%|██████████|1/1, best_cost=3.66e+10"
          ]
        },
        {
          "output_type": "stream",
          "name": "stdout",
          "text": [
            "\n",
            "=========================================================================\n",
            "\n",
            "Número de ciclos de manutenção: 14 5\n",
            "Tempos para manutenções preventivas: [0, 21, 41, 78, 187, 232, 277, 323, 385, 440, 463, 530, 592, 648, 677]\n",
            "Severidade para cada subsistema: [0.5, 0.75, 0.75, 0.5, 0.5, 0.75, 0.5, 0.75, 0.5, 0.25, 0.5, 0.75, 0.5, 0.5]\n",
            "Número de Sisemas: 5\n",
            "Fator:  [0.3296799539643607, 0.6321205588285577, 0.7768698398515702, 0.7768698398515702, 0.6321205588285577, 0.6321205588285577, 0.7768698398515702, 0.6321205588285577, 0.7768698398515702, 0.6321205588285577, 0.3934693402873666, 0.6321205588285577, 0.7768698398515702, 0.6321205588285577, 0.6321205588285577]\n",
            "Media de falhas:  [0, 1306.9123200000001, 15834.158619245372, 138224.4056742481, 10464297.460423926, 11993755.026666384, 22585862.530857302, 41717599.93529652, 54957333.77375855, 130786418.89330941, 136228569.62357837, 331286024.7917172, 1885926638.8209891, 2221409125.725766, 2251624894.712333, 1993238396.001119]\n",
            "Custo =  163949926267.45905\n"
          ]
        },
        {
          "output_type": "stream",
          "name": "stderr",
          "text": [
            "\n",
            "2023-09-30 16:02:24,607 - pyswarms.single.global_best - INFO - Optimization finished | best cost: 36639283572.17615, best pos: [3.70041594 5.37629632 5.60807346 4.02683625 2.05747856 0.94202625\n",
            " 3.2444491  3.74277035 0.13340204 5.6380998  3.78911159 4.660429\n",
            " 5.85464034 2.9319956  3.69705462 1.43275845 6.09647863 3.69494359\n",
            " 6.25423694 5.75502543 0.35013278 3.65465977 3.51332586 6.76867657]\n",
            "2023-09-30 16:02:24,611 - pyswarms.single.global_best - INFO - Optimize for 1 iters with {'c1': 0.5, 'c2': 0.3, 'w': 0.9}\n",
            "pyswarms.single.global_best:   0%|          |0/1, best_cost=3.66e+10"
          ]
        },
        {
          "output_type": "stream",
          "name": "stdout",
          "text": [
            "\n",
            "=========================================================================\n",
            "\n",
            "Número de ciclos de manutenção: 14 5\n",
            "Tempos para manutenções preventivas: [0, 21, 41, 78, 187, 232, 323, 385, 440, 463, 531, 592, 649, 677, 698]\n",
            "Severidade para cada subsistema: [0.5, 0.75, 0.75, 0.5, 0.5, 0.5, 0.75, 0.5, 0.25, 0.5, 0.75, 0.5, 0.5, 0.75]\n",
            "Número de Sisemas: 5\n",
            "Fator:  [0.3296799539643607, 0.6321205588285577, 0.7768698398515702, 0.7768698398515702, 0.6321205588285577, 0.6321205588285577, 0.6321205588285577, 0.7768698398515702, 0.6321205588285577, 0.3934693402873666, 0.6321205588285577, 0.7768698398515702, 0.6321205588285577, 0.6321205588285577, 0.7768698398515702]\n",
            "Media de falhas:  [0, 1306.9123200000001, 15834.158619245372, 138224.4056742481, 10464297.460423926, 11993755.026666384, 65120759.94448987, 119405115.27624682, 195234200.39579767, 200676351.12606663, 400852711.4223907, 1931507170.0909588, 2276045497.2149205, 2304986182.48957, 2457979376.846027, 2133038194.9599931]\n",
            "Custo =  195692893784.89078\n"
          ]
        },
        {
          "output_type": "stream",
          "name": "stderr",
          "text": [
            "\rpyswarms.single.global_best: 100%|██████████|1/1, best_cost=3.66e+10\n",
            "2023-09-30 16:02:24,624 - pyswarms.single.global_best - INFO - Optimization finished | best cost: 36639283572.17615, best pos: [3.70041629 5.37629628 5.60807345 4.0268351  2.05747788 0.94202628\n",
            " 3.24444941 3.74276279 0.13340236 5.63807053 3.78911251 4.66042897\n",
            " 5.85464036 2.93199547 3.69705061 1.43275783 6.09647825 3.69494566\n",
            " 6.25424199 5.75500755 0.3501375  3.65465984 3.51453633 6.76867503]\n",
            "2023-09-30 16:02:24,625 - pyswarms.single.global_best - INFO - Optimize for 1 iters with {'c1': 0.5, 'c2': 0.3, 'w': 0.9}\n",
            "pyswarms.single.global_best:   0%|          |0/1, best_cost=3.66e+10"
          ]
        },
        {
          "output_type": "stream",
          "name": "stdout",
          "text": [
            "\n",
            "=========================================================================\n",
            "\n",
            "Número de ciclos de manutenção: 15 5\n",
            "Tempos para manutenções preventivas: [0, 21, 41, 78, 187, 232, 323, 385, 440, 462, 531, 592, 604, 649, 676, 703]\n",
            "Severidade para cada subsistema: [0.5, 0.75, 0.75, 0.5, 0.5, 0.5, 0.75, 0.5, 0.25, 0.5, 0.75, 0.5, 0.5, 0.5, 0.5]\n",
            "Número de Sisemas: 5\n",
            "Fator:  [0.3296799539643607, 0.6321205588285577, 0.7768698398515702, 0.7768698398515702, 0.6321205588285577, 0.6321205588285577, 0.6321205588285577, 0.7768698398515702, 0.6321205588285577, 0.3934693402873666, 0.6321205588285577, 0.7768698398515702, 0.6321205588285577, 0.6321205588285577, 0.6321205588285577, 0.6321205588285577]\n",
            "Media de falhas:  [0, 1306.9123200000001, 15834.158619245372, 138224.4056742481, 10464297.460423926, 11993755.026666384, 65120759.94448987, 119405115.27624682, 195234200.39579767, 200337009.75715375, 404287040.6939503, 1934941499.3625183, 1983163611.5443587, 2029018075.552593, 2204938263.8564267, 2410159555.045181, 2069150025.7790859]\n",
            "Custo =  214863831103.0444\n"
          ]
        },
        {
          "output_type": "stream",
          "name": "stderr",
          "text": [
            "\rpyswarms.single.global_best: 100%|██████████|1/1, best_cost=3.66e+10\n",
            "2023-09-30 16:02:24,638 - pyswarms.single.global_best - INFO - Optimization finished | best cost: 36639283572.17615, best pos: [3.70041729 5.37629625 5.60807344 4.0268341  2.0574787  0.94202631\n",
            " 3.24444965 3.74275889 0.13340193 5.63804403 3.78911297 4.66042891\n",
            " 5.85464039 2.93199535 3.69704999 1.43275745 6.09648022 3.69494868\n",
            " 6.25423672 5.75499428 0.35014346 3.65465986 3.5154625  6.76867469]\n",
            "2023-09-30 16:02:24,639 - pyswarms.single.global_best - INFO - Optimize for 1 iters with {'c1': 0.5, 'c2': 0.3, 'w': 0.9}\n",
            "pyswarms.single.global_best:   0%|          |0/1, best_cost=3.66e+10"
          ]
        },
        {
          "output_type": "stream",
          "name": "stdout",
          "text": [
            "\n",
            "=========================================================================\n",
            "\n",
            "Número de ciclos de manutenção: 16 5\n",
            "Tempos para manutenções preventivas: [0, 20, 41, 78, 187, 232, 271, 323, 385, 440, 462, 531, 592, 629, 649, 676, 693]\n",
            "Severidade para cada subsistema: [0.5, 0.75, 0.75, 0.5, 0.5, 0.25, 0.5, 0.75, 0.5, 0.25, 0.5, 0.75, 0.75, 0.5, 0.5, 0.25]\n",
            "Número de Sisemas: 5\n",
            "Fator:  [0.3296799539643607, 0.6321205588285577, 0.7768698398515702, 0.7768698398515702, 0.6321205588285577, 0.6321205588285577, 0.3934693402873666, 0.6321205588285577, 0.7768698398515702, 0.6321205588285577, 0.3934693402873666, 0.6321205588285577, 0.7768698398515702, 0.7768698398515702, 0.6321205588285577, 0.6321205588285577, 0.3934693402873666]\n",
            "Media de falhas:  [0, 1024.0, 16314.716074443764, 138704.96312944646, 10464778.017879123, 11994235.584121581, 20058663.917832177, 42611724.86005519, 315426198.5095437, 391255283.6290946, 396358092.9904507, 600308123.9272473, 2130962582.5958154, 2317754911.0874085, 2334250884.4613166, 2361781034.025762, 2481045047.331537, 2172061557.103108]\n",
            "Custo =  208253981452.84167\n"
          ]
        },
        {
          "output_type": "stream",
          "name": "stderr",
          "text": [
            "\rpyswarms.single.global_best: 100%|██████████|1/1, best_cost=3.66e+10\n",
            "2023-09-30 16:02:24,657 - pyswarms.single.global_best - INFO - Optimization finished | best cost: 36639283572.17615, best pos: [3.7004188  5.37629627 5.60807342 4.02683338 2.05748098 0.94202632\n",
            " 3.24444979 3.74275877 0.133401   5.63802312 3.78911327 4.66042884\n",
            " 5.85464043 2.93199525 3.69704969 1.43275748 6.09648508 3.6949514\n",
            " 6.25419457 5.75498264 0.35014921 3.65465985 3.51537761 6.76867543]\n",
            "2023-09-30 16:02:24,658 - pyswarms.single.global_best - INFO - Optimize for 1 iters with {'c1': 0.5, 'c2': 0.3, 'w': 0.9}\n",
            "pyswarms.single.global_best:   0%|          |0/1, best_cost=3.66e+10"
          ]
        },
        {
          "output_type": "stream",
          "name": "stdout",
          "text": [
            "\n",
            "=========================================================================\n",
            "\n",
            "Número de ciclos de manutenção: 15 5\n",
            "Tempos para manutenções preventivas: [0, 20, 41, 78, 187, 232, 282, 323, 385, 440, 462, 531, 592, 601, 650, 675]\n",
            "Severidade para cada subsistema: [0.5, 0.75, 0.75, 0.5, 0.5, 0.75, 0.5, 0.75, 0.5, 0.25, 0.5, 0.75, 0.25, 0.5, 0.5]\n",
            "Número de Sisemas: 5\n",
            "Fator:  [0.3296799539643607, 0.6321205588285577, 0.7768698398515702, 0.7768698398515702, 0.6321205588285577, 0.6321205588285577, 0.7768698398515702, 0.6321205588285577, 0.7768698398515702, 0.6321205588285577, 0.3934693402873666, 0.6321205588285577, 0.7768698398515702, 0.3934693402873666, 0.6321205588285577, 0.6321205588285577]\n",
            "Media de falhas:  [0, 1024.0, 16314.716074443764, 138704.96312944646, 10464778.017879123, 11994235.584121581, 25079892.431568883, 41563975.86281471, 54803709.70127674, 130632794.8208276, 135735604.18218368, 339685635.1189803, 1870340093.7875485, 1905524973.2032847, 1957505045.6337595, 3054408023.500761, 2802323005.348731]\n",
            "Custo =  331507080319.51874\n"
          ]
        },
        {
          "output_type": "stream",
          "name": "stderr",
          "text": [
            "\rpyswarms.single.global_best: 100%|██████████|1/1, best_cost=3.66e+10\n",
            "2023-09-30 16:02:24,671 - pyswarms.single.global_best - INFO - Optimization finished | best cost: 36639283572.17615, best pos: [3.70042022 5.37629641 5.60807341 4.02683341 2.05748411 0.94202629\n",
            " 3.24444977 3.74275974 0.13339993 5.63801401 3.78911311 4.66042869\n",
            " 5.85464047 2.93199516 3.69705025 1.43275787 6.09649025 3.69495368\n",
            " 6.25412604 5.75497712 0.3501543  3.6546598  3.51500829 6.76867692]\n",
            "2023-09-30 16:02:24,673 - pyswarms.single.global_best - INFO - Optimize for 1 iters with {'c1': 0.5, 'c2': 0.3, 'w': 0.9}\n",
            "pyswarms.single.global_best:   0%|          |0/1, best_cost=3.66e+10"
          ]
        },
        {
          "output_type": "stream",
          "name": "stdout",
          "text": [
            "\n",
            "=========================================================================\n",
            "\n",
            "Número de ciclos de manutenção: 15 5\n",
            "Tempos para manutenções preventivas: [0, 20, 41, 78, 187, 232, 323, 385, 440, 462, 531, 592, 617, 650, 674, 693]\n",
            "Severidade para cada subsistema: [0.5, 0.75, 0.75, 0.5, 0.5, 0.5, 0.75, 0.5, 0.25, 0.5, 0.75, 0.5, 0.5, 0.5, 0.75]\n",
            "Número de Sisemas: 5\n",
            "Fator:  [0.3296799539643607, 0.6321205588285577, 0.7768698398515702, 0.7768698398515702, 0.6321205588285577, 0.6321205588285577, 0.6321205588285577, 0.7768698398515702, 0.6321205588285577, 0.3934693402873666, 0.6321205588285577, 0.7768698398515702, 0.6321205588285577, 0.6321205588285577, 0.6321205588285577, 0.7768698398515702]\n",
            "Media de falhas:  [0, 1024.0, 16314.716074443764, 138704.96312944646, 10464778.017879123, 11994235.584121581, 65121240.50194506, 119405595.83370201, 195234680.95325285, 200337490.31460893, 404287521.2514055, 1934941979.9199736, 2048096585.5671248, 2078610361.6887548, 2232018035.725394, 2365933716.5114284, 2056950226.2829995]\n",
            "Custo =  213859021143.92978\n"
          ]
        },
        {
          "output_type": "stream",
          "name": "stderr",
          "text": [
            "\rpyswarms.single.global_best: 100%|██████████|1/1, best_cost=3.66e+10\n",
            "2023-09-30 16:02:24,686 - pyswarms.single.global_best - INFO - Optimization finished | best cost: 36639283572.17615, best pos: [3.70042126 5.37629659 5.60807339 4.02683436 2.05748693 0.94202626\n",
            " 3.24444962 3.742764   0.13339895 5.63801294 3.7891126  4.66042851\n",
            " 5.8546405  2.93199516 3.69705368 1.43275843 6.09649491 3.69495508\n",
            " 6.25406407 5.75497845 0.35015765 3.65465974 3.51362725 6.76867965]\n",
            "2023-09-30 16:02:24,687 - pyswarms.single.global_best - INFO - Optimize for 1 iters with {'c1': 0.5, 'c2': 0.3, 'w': 0.9}\n",
            "pyswarms.single.global_best: 100%|██████████|1/1, best_cost=3.66e+10\n",
            "2023-09-30 16:02:24,707 - pyswarms.single.global_best - INFO - Optimization finished | best cost: 36639283572.17615, best pos: [3.70042179 5.37629679 5.60807339 4.02683546 2.05748937 0.94202622\n",
            " 3.24444944 3.74277227 0.13339833 5.63801438 3.78911197 4.66042833\n",
            " 5.85464052 2.93199523 3.69705864 1.43275896 6.09649902 3.6949551\n",
            " 6.25401205 5.75498352 0.35015998 3.65465968 3.51150397 6.76868253]\n"
          ]
        },
        {
          "output_type": "stream",
          "name": "stdout",
          "text": [
            "\n",
            "=========================================================================\n",
            "\n",
            "Número de ciclos de manutenção: 16 5\n",
            "Tempos para manutenções preventivas: [0, 20, 41, 78, 187, 232, 244, 298, 323, 385, 440, 462, 531, 592, 650, 673, 697]\n",
            "Severidade para cada subsistema: [0.5, 0.75, 0.75, 0.5, 0.5, 0.25, 0.75, 0.5, 0.75, 0.5, 0.25, 0.5, 0.75, 0.5, 0.5, 0.5]\n",
            "Número de Sisemas: 5\n",
            "Fator:  [0.3296799539643607, 0.6321205588285577, 0.7768698398515702, 0.7768698398515702, 0.6321205588285577, 0.6321205588285577, 0.3934693402873666, 0.7768698398515702, 0.6321205588285577, 0.7768698398515702, 0.6321205588285577, 0.3934693402873666, 0.6321205588285577, 0.7768698398515702, 0.6321205588285577, 0.6321205588285577, 0.6321205588285577]\n",
            "Media de falhas:  [0, 1024.0, 16314.716074443764, 138704.96312944646, 10464778.017879123, 11994235.584121581, 13342673.0384661, 31128655.66860689, 87378832.34862888, 100618566.18709092, 176447651.30664176, 181550460.66799784, 385500491.6047944, 1916154950.2733626, 2269881906.0222263, 2292215296.26703, 2467316020.4088163, 2145574487.3338737]\n",
            "Custo =  201519182573.87772\n"
          ]
        },
        {
          "output_type": "stream",
          "name": "stderr",
          "text": [
            "2023-09-30 16:02:24,709 - pyswarms.single.global_best - INFO - Optimize for 1 iters with {'c1': 0.5, 'c2': 0.3, 'w': 0.9}\n",
            "pyswarms.single.global_best: 100%|██████████|1/1, best_cost=3.66e+10"
          ]
        },
        {
          "output_type": "stream",
          "name": "stdout",
          "text": [
            "\n",
            "=========================================================================\n",
            "\n",
            "Número de ciclos de manutenção: 15 5\n",
            "Tempos para manutenções preventivas: [0, 20, 41, 78, 187, 232, 323, 385, 440, 462, 531, 592, 628, 650, 673, 715]\n",
            "Severidade para cada subsistema: [0.5, 0.75, 0.75, 0.5, 0.5, 0.5, 0.75, 0.5, 0.25, 0.5, 0.75, 0.25, 0.5, 0.5, 0.25]\n",
            "Número de Sisemas: 5\n",
            "Fator:  [0.3296799539643607, 0.6321205588285577, 0.7768698398515702, 0.7768698398515702, 0.6321205588285577, 0.6321205588285577, 0.6321205588285577, 0.7768698398515702, 0.6321205588285577, 0.3934693402873666, 0.6321205588285577, 0.7768698398515702, 0.3934693402873666, 0.6321205588285577, 0.6321205588285577, 0.3934693402873666]\n",
            "Media de falhas:  [0, 1024.0, 16314.716074443764, 138704.96312944646, 10464778.017879123, 11994235.584121581, 65121240.50194506, 119405595.83370201, 195234680.95325285, 200337490.31460893, 404287521.2514055, 1934941979.9199736, 2115044652.5462587, 2133600311.5451612, 3132581874.7188687, 3486549468.3257732, 3106388304.373836]\n",
            "Custo =  369060595823.11426\n"
          ]
        },
        {
          "output_type": "stream",
          "name": "stderr",
          "text": [
            "\n",
            "2023-09-30 16:02:24,723 - pyswarms.single.global_best - INFO - Optimization finished | best cost: 36639283572.17615, best pos: [3.70042218 5.37629699 5.60807338 4.02683668 2.0574904  0.94202618\n",
            " 3.24444916 3.74278002 0.13339811 5.63801974 3.78911101 4.66042818\n",
            " 5.85464053 2.93199532 3.69706348 1.43275949 6.09650103 3.69495445\n",
            " 6.25397933 5.75498869 0.35016159 3.65465963 3.50938035 6.7686851 ]\n",
            "2023-09-30 16:02:24,724 - pyswarms.single.global_best - INFO - Optimize for 1 iters with {'c1': 0.5, 'c2': 0.3, 'w': 0.9}\n",
            "pyswarms.single.global_best:   0%|          |0/1, best_cost=3.66e+10"
          ]
        },
        {
          "output_type": "stream",
          "name": "stdout",
          "text": [
            "\n",
            "=========================================================================\n",
            "\n",
            "Número de ciclos de manutenção: 15 5\n",
            "Tempos para manutenções preventivas: [0, 20, 41, 78, 187, 232, 268, 271, 323, 385, 440, 462, 531, 592, 649, 673]\n",
            "Severidade para cada subsistema: [0.5, 0.75, 0.75, 0.5, 0.5, 0.5, 0.75, 0.5, 0.75, 0.5, 0.25, 0.5, 0.75, 0.5, 0.5]\n",
            "Número de Sisemas: 5\n",
            "Fator:  [0.3296799539643607, 0.6321205588285577, 0.7768698398515702, 0.7768698398515702, 0.6321205588285577, 0.6321205588285577, 0.6321205588285577, 0.7768698398515702, 0.6321205588285577, 0.7768698398515702, 0.6321205588285577, 0.3934693402873666, 0.6321205588285577, 0.7768698398515702, 0.6321205588285577, 0.6321205588285577]\n",
            "Media de falhas:  [0, 1024.0, 16314.716074443764, 138704.96312944646, 10464778.017879123, 11994235.584121581, 18965101.672146123, 19447080.94850618, 42000141.8907292, 55239875.72919123, 131068960.84874208, 136171770.21009815, 340121801.1468947, 1870776259.8154628, 2215314586.9394245, 2238805639.9105806, 1993022311.1484604]\n",
            "Custo =  164734935894.30927\n"
          ]
        },
        {
          "output_type": "stream",
          "name": "stderr",
          "text": [
            "\rpyswarms.single.global_best: 100%|██████████|1/1, best_cost=3.66e+10\n",
            "2023-09-30 16:02:24,740 - pyswarms.single.global_best - INFO - Optimization finished | best cost: 36639283572.17615, best pos: [3.7004222  5.37629715 5.60807339 4.02683778 2.05749098 0.94202615\n",
            " 3.24444889 3.74278714 0.13339792 5.63802693 3.78911006 4.66042807\n",
            " 5.85464053 2.93199541 3.69706771 1.43275995 6.09650235 3.69495381\n",
            " 6.25396774 5.75499959 0.3501608  3.65465959 3.50750203 6.76868664]\n",
            "2023-09-30 16:02:24,741 - pyswarms.single.global_best - INFO - Optimize for 1 iters with {'c1': 0.5, 'c2': 0.3, 'w': 0.9}\n",
            "pyswarms.single.global_best:   0%|          |0/1, best_cost=3.66e+10"
          ]
        },
        {
          "output_type": "stream",
          "name": "stdout",
          "text": [
            "\n",
            "=========================================================================\n",
            "\n",
            "Número de ciclos de manutenção: 13 5\n",
            "Tempos para manutenções preventivas: [0, 20, 41, 78, 187, 232, 323, 385, 440, 462, 530, 592, 649, 674]\n",
            "Severidade para cada subsistema: [0.5, 0.75, 0.75, 0.5, 0.5, 0.5, 0.75, 0.5, 0.25, 0.5, 0.75, 0.5, 0.5]\n",
            "Número de Sisemas: 5\n",
            "Fator:  [0.3296799539643607, 0.6321205588285577, 0.7768698398515702, 0.7768698398515702, 0.6321205588285577, 0.6321205588285577, 0.6321205588285577, 0.7768698398515702, 0.6321205588285577, 0.3934693402873666, 0.6321205588285577, 0.7768698398515702, 0.6321205588285577, 0.6321205588285577]\n",
            "Media de falhas:  [0, 1024.0, 16314.716074443764, 138704.96312944646, 10464778.017879123, 11994235.584121581, 65121240.50194506, 119405595.83370201, 195234680.95325285, 200337490.31460893, 399113977.1131624, 1953754591.1424346, 2298292918.2663965, 2323098811.8786397, 2074164509.8958564]\n",
            "Custo =  166406444885.1378\n"
          ]
        },
        {
          "output_type": "stream",
          "name": "stderr",
          "text": [
            "\rpyswarms.single.global_best: 100%|██████████|1/1, best_cost=3.66e+10\n",
            "2023-09-30 16:02:24,755 - pyswarms.single.global_best - INFO - Optimization finished | best cost: 36639283572.17615, best pos: [3.70042206 5.37629725 5.60807341 4.02683851 2.05749029 0.94202613\n",
            " 3.24444864 3.74279186 0.13339826 5.6380334  3.78910913 4.66042801\n",
            " 5.85464051 2.9319955  3.69707041 1.43276026 6.09650254 3.69495312\n",
            " 6.25397612 5.75501541 0.35015992 3.65465957 3.50629551 6.76868755]\n",
            "2023-09-30 16:02:24,756 - pyswarms.single.global_best - INFO - Optimize for 1 iters with {'c1': 0.5, 'c2': 0.3, 'w': 0.9}\n",
            "pyswarms.single.global_best: 100%|██████████|1/1, best_cost=3.66e+10\n",
            "2023-09-30 16:02:24,773 - pyswarms.single.global_best - INFO - Optimization finished | best cost: 36639283572.17615, best pos: [3.70042123 5.37629726 5.60807342 4.02683899 2.05748886 0.94202613\n",
            " 3.24444845 3.7427952  0.13339902 5.63804548 3.78910835 4.660428\n",
            " 5.85464049 2.93199557 3.69707192 1.43276034 6.09650079 3.69495247\n",
            " 6.25399658 5.75503227 0.35015823 3.65465956 3.50524632 6.76868708]\n",
            "2023-09-30 16:02:24,774 - pyswarms.single.global_best - INFO - Optimize for 1 iters with {'c1': 0.5, 'c2': 0.3, 'w': 0.9}\n"
          ]
        },
        {
          "output_type": "stream",
          "name": "stdout",
          "text": [
            "\n",
            "=========================================================================\n",
            "\n",
            "Número de ciclos de manutenção: 15 5\n",
            "Tempos para manutenções preventivas: [0, 21, 41, 78, 187, 232, 323, 385, 440, 463, 530, 592, 617, 649, 674, 694]\n",
            "Severidade para cada subsistema: [0.5, 0.75, 0.75, 0.5, 0.5, 0.5, 0.75, 0.5, 0.25, 0.5, 0.75, 0.5, 0.5, 0.5, 0.75]\n",
            "Número de Sisemas: 5\n",
            "Fator:  [0.3296799539643607, 0.6321205588285577, 0.7768698398515702, 0.7768698398515702, 0.6321205588285577, 0.6321205588285577, 0.6321205588285577, 0.7768698398515702, 0.6321205588285577, 0.3934693402873666, 0.6321205588285577, 0.7768698398515702, 0.6321205588285577, 0.6321205588285577, 0.6321205588285577, 0.7768698398515702]\n",
            "Media de falhas:  [0, 1306.9123200000001, 15834.158619245372, 138224.4056742481, 10464297.460423926, 11993755.026666384, 65120759.94448987, 119405115.27624682, 195234200.39579767, 200676351.12606663, 395733806.2942054, 1950374420.3234775, 2063529025.9706287, 2092701048.280973, 2252898400.0679574, 2395000580.65541, 2082833287.999354]\n",
            "Custo =  213861634137.13422\n"
          ]
        },
        {
          "output_type": "stream",
          "name": "stderr",
          "text": [
            "pyswarms.single.global_best: 100%|██████████|1/1, best_cost=3.66e+10"
          ]
        },
        {
          "output_type": "stream",
          "name": "stdout",
          "text": [
            "\n",
            "=========================================================================\n",
            "\n",
            "Número de ciclos de manutenção: 14 5\n",
            "Tempos para manutenções preventivas: [0, 21, 41, 78, 187, 232, 323, 385, 440, 463, 530, 592, 649, 675, 712]\n",
            "Severidade para cada subsistema: [0.5, 0.75, 0.75, 0.5, 0.5, 0.5, 0.75, 0.5, 0.25, 0.5, 0.75, 0.5, 0.5, 0.5]\n",
            "Número de Sisemas: 5\n",
            "Fator:  [0.3296799539643607, 0.6321205588285577, 0.7768698398515702, 0.7768698398515702, 0.6321205588285577, 0.6321205588285577, 0.6321205588285577, 0.7768698398515702, 0.6321205588285577, 0.3934693402873666, 0.6321205588285577, 0.7768698398515702, 0.6321205588285577, 0.6321205588285577, 0.6321205588285577]\n",
            "Media de falhas:  [0, 1306.9123200000001, 15834.158619245372, 138224.4056742481, 10464297.460423926, 11993755.026666384, 65120759.94448987, 119405115.27624682, 195234200.39579767, 200676351.12606663, 395733806.2942054, 1950374420.3234775, 2294912747.447439, 2321064820.950791, 2623995992.773643, 2253711743.7377744]\n",
            "Custo =  198949944320.48068\n"
          ]
        },
        {
          "output_type": "stream",
          "name": "stderr",
          "text": [
            "\n",
            "2023-09-30 16:02:24,793 - pyswarms.single.global_best - INFO - Optimization finished | best cost: 36639283572.17615, best pos: [3.70042039 5.37629719 5.60807343 4.02683922 2.05748697 0.94202614\n",
            " 3.24444835 3.74279782 0.13339988 5.63805996 3.78910792 4.66042807\n",
            " 5.85464046 2.93199563 3.6970732  1.4327602  6.09649871 3.69495141\n",
            " 6.25404117 5.75504731 0.35015392 3.65465959 3.50448379 6.76868565]\n",
            "2023-09-30 16:02:24,795 - pyswarms.single.global_best - INFO - Optimize for 1 iters with {'c1': 0.5, 'c2': 0.3, 'w': 0.9}\n",
            "pyswarms.single.global_best:   0%|          |0/1, best_cost=3.66e+10"
          ]
        },
        {
          "output_type": "stream",
          "name": "stdout",
          "text": [
            "\n",
            "=========================================================================\n",
            "\n",
            "Número de ciclos de manutenção: 14 5\n",
            "Tempos para manutenções preventivas: [0, 21, 41, 78, 187, 232, 297, 323, 385, 440, 463, 530, 592, 648, 675]\n",
            "Severidade para cada subsistema: [0.5, 0.75, 0.75, 0.5, 0.5, 0.5, 0.5, 0.75, 0.5, 0.25, 0.5, 0.75, 0.5, 0.5]\n",
            "Número de Sisemas: 5\n",
            "Fator:  [0.3296799539643607, 0.6321205588285577, 0.7768698398515702, 0.7768698398515702, 0.6321205588285577, 0.6321205588285577, 0.6321205588285577, 0.6321205588285577, 0.7768698398515702, 0.6321205588285577, 0.3934693402873666, 0.6321205588285577, 0.7768698398515702, 0.6321205588285577, 0.6321205588285577]\n",
            "Media de falhas:  [0, 1306.9123200000001, 15834.158619245372, 138224.4056742481, 10464297.460423926, 11993755.026666384, 35127806.946927264, 44632882.27069413, 98917237.60245109, 174746322.72200194, 180188473.4522709, 375245928.6204097, 1929886542.6496818, 2265369029.5544586, 2292745408.974699, 2040660390.8226693]\n",
            "Custo =  166788696156.55814\n"
          ]
        },
        {
          "output_type": "stream",
          "name": "stderr",
          "text": [
            "\rpyswarms.single.global_best: 100%|██████████|1/1, best_cost=3.66e+10\n",
            "2023-09-30 16:02:24,810 - pyswarms.single.global_best - INFO - Optimization finished | best cost: 36639283572.17615, best pos: [3.70041957 5.37629711 5.60807344 4.02683896 2.05748471 0.94202616\n",
            " 3.24444833 3.7427987  0.13340066 5.63807292 3.78910765 4.66042821\n",
            " 5.85464044 2.93199567 3.69707199 1.43276008 6.09649559 3.69495028\n",
            " 6.25408588 5.75506003 0.35014794 3.65465962 3.50453073 6.76868364]\n",
            "2023-09-30 16:02:24,812 - pyswarms.single.global_best - INFO - Optimize for 1 iters with {'c1': 0.5, 'c2': 0.3, 'w': 0.9}\n",
            "pyswarms.single.global_best:   0%|          |0/1, best_cost=3.66e+10"
          ]
        },
        {
          "output_type": "stream",
          "name": "stdout",
          "text": [
            "\n",
            "=========================================================================\n",
            "\n",
            "Número de ciclos de manutenção: 13 5\n",
            "Tempos para manutenções preventivas: [0, 21, 41, 78, 187, 232, 323, 385, 440, 463, 530, 592, 648, 676]\n",
            "Severidade para cada subsistema: [0.5, 0.75, 0.75, 0.5, 0.5, 0.5, 0.75, 0.5, 0.25, 0.5, 0.75, 0.5, 0.5]\n",
            "Número de Sisemas: 5\n",
            "Fator:  [0.3296799539643607, 0.6321205588285577, 0.7768698398515702, 0.7768698398515702, 0.6321205588285577, 0.6321205588285577, 0.6321205588285577, 0.7768698398515702, 0.6321205588285577, 0.3934693402873666, 0.6321205588285577, 0.7768698398515702, 0.6321205588285577, 0.6321205588285577]\n",
            "Media de falhas:  [0, 1306.9123200000001, 15834.158619245372, 138224.4056742481, 10464297.460423926, 11993755.026666384, 65120759.94448987, 119405115.27624682, 195234200.39579767, 200676351.12606663, 395733806.2942054, 1950374420.3234775, 2285856907.2282543, 2314636530.456307, 2059400848.1207197]\n",
            "Custo =  166282533195.40213\n"
          ]
        },
        {
          "output_type": "stream",
          "name": "stderr",
          "text": [
            "\rpyswarms.single.global_best: 100%|██████████|1/1, best_cost=3.66e+10\n",
            "2023-09-30 16:02:24,823 - pyswarms.single.global_best - INFO - Optimization finished | best cost: 36639283572.17615, best pos: [3.70041881 5.37629699 5.60807345 4.02683808 2.05748271 0.94202618\n",
            " 3.24444841 3.74279851 0.13340126 5.63808132 3.78910759 4.66042837\n",
            " 5.85464042 2.93199564 3.69707068 1.43275986 6.09649273 3.69494929\n",
            " 6.25412662 5.75506929 0.35014222 3.65465967 3.50517827 6.76868139]\n",
            "2023-09-30 16:02:24,825 - pyswarms.single.global_best - INFO - Optimize for 1 iters with {'c1': 0.5, 'c2': 0.3, 'w': 0.9}\n",
            "pyswarms.single.global_best:   0%|          |0/1, best_cost=3.66e+10"
          ]
        },
        {
          "output_type": "stream",
          "name": "stdout",
          "text": [
            "\n",
            "=========================================================================\n",
            "\n",
            "Número de ciclos de manutenção: 16 5\n",
            "Tempos para manutenções preventivas: [0, 21, 41, 78, 187, 232, 249, 298, 323, 385, 440, 463, 530, 592, 648, 676, 691]\n",
            "Severidade para cada subsistema: [0.5, 0.75, 0.75, 0.5, 0.5, 0.25, 0.5, 0.5, 0.75, 0.5, 0.25, 0.5, 0.75, 0.5, 0.5, 0.75]\n",
            "Número de Sisemas: 5\n",
            "Fator:  [0.3296799539643607, 0.6321205588285577, 0.7768698398515702, 0.7768698398515702, 0.6321205588285577, 0.6321205588285577, 0.3934693402873666, 0.6321205588285577, 0.6321205588285577, 0.7768698398515702, 0.6321205588285577, 0.3934693402873666, 0.6321205588285577, 0.7768698398515702, 0.6321205588285577, 0.6321205588285577, 0.7768698398515702]\n",
            "Media de falhas:  [0, 1306.9123200000001, 15834.158619245372, 138224.4056742481, 10464297.460423926, 11993755.026666384, 14138337.551948925, 29658080.579592727, 85908257.25961472, 140192612.59137166, 216021697.7109225, 221463848.44119146, 416521303.6093303, 1971161917.6386023, 2306644404.5433793, 2335424027.771432, 2438981174.4613204, 2136355004.7200031]\n",
            "Custo =  202202866359.7259\n"
          ]
        },
        {
          "output_type": "stream",
          "name": "stderr",
          "text": [
            "\rpyswarms.single.global_best: 100%|██████████|1/1, best_cost=3.66e+10\n",
            "2023-09-30 16:02:24,837 - pyswarms.single.global_best - INFO - Optimization finished | best cost: 36639283572.17615, best pos: [3.70041823 5.37629687 5.60807344 4.02683727 2.05748124 0.94202621\n",
            " 3.24444849 3.7427944  0.13340155 5.63808521 3.78910767 4.66042852\n",
            " 5.8546404  2.93199561 3.69706878 1.43275961 6.09649017 3.69494866\n",
            " 6.25415273 5.75507191 0.3501383  3.65465972 3.50651328 6.7686795 ]\n",
            "2023-09-30 16:02:24,839 - pyswarms.single.global_best - INFO - Optimize for 1 iters with {'c1': 0.5, 'c2': 0.3, 'w': 0.9}\n",
            "pyswarms.single.global_best:   0%|          |0/1, best_cost=3.66e+10"
          ]
        },
        {
          "output_type": "stream",
          "name": "stdout",
          "text": [
            "\n",
            "=========================================================================\n",
            "\n",
            "Número de ciclos de manutenção: 15 5\n",
            "Tempos para manutenções preventivas: [0, 21, 41, 78, 187, 232, 240, 323, 385, 440, 463, 530, 592, 618, 649, 676]\n",
            "Severidade para cada subsistema: [0.5, 0.75, 0.75, 0.5, 0.5, 0.5, 0.5, 0.75, 0.5, 0.25, 0.5, 0.75, 0.25, 0.5, 0.5]\n",
            "Número de Sisemas: 5\n",
            "Fator:  [0.3296799539643607, 0.6321205588285577, 0.7768698398515702, 0.7768698398515702, 0.6321205588285577, 0.6321205588285577, 0.6321205588285577, 0.6321205588285577, 0.7768698398515702, 0.6321205588285577, 0.3934693402873666, 0.6321205588285577, 0.7768698398515702, 0.3934693402873666, 0.6321205588285577, 0.6321205588285577]\n",
            "Media de falhas:  [0, 1306.9123200000001, 15834.158619245372, 138224.4056742481, 10464297.460423926, 11993755.026666384, 12812762.060366029, 58283033.5857557, 112567388.91751266, 188396474.0370635, 193838624.76733246, 388896079.9354713, 1943536693.9647434, 2062296386.3158767, 2090318980.8364408, 3279932922.2808895, 3024697239.9453025]\n",
            "Custo =  336599356238.0778\n"
          ]
        },
        {
          "output_type": "stream",
          "name": "stderr",
          "text": [
            "\rpyswarms.single.global_best: 100%|██████████|1/1, best_cost=3.66e+10\n",
            "2023-09-30 16:02:24,860 - pyswarms.single.global_best - INFO - Optimization finished | best cost: 36639283572.17615, best pos: [3.70041785 5.37629679 5.60807344 4.0268364  2.05748038 0.94202623\n",
            " 3.24444859 3.74278958 0.1334018  5.6380835  3.78910787 4.66042863\n",
            " 5.85464038 2.93199556 3.697067   1.4327593  6.09648866 3.69494861\n",
            " 6.25416589 5.75506979 0.35013637 3.65465976 3.50844052 6.76867817]\n",
            "2023-09-30 16:02:24,861 - pyswarms.single.global_best - INFO - Optimize for 1 iters with {'c1': 0.5, 'c2': 0.3, 'w': 0.9}\n",
            "pyswarms.single.global_best:   0%|          |0/1, best_cost=3.66e+10"
          ]
        },
        {
          "output_type": "stream",
          "name": "stdout",
          "text": [
            "\n",
            "=========================================================================\n",
            "\n",
            "Número de ciclos de manutenção: 15 5\n",
            "Tempos para manutenções preventivas: [0, 21, 41, 78, 187, 232, 247, 323, 385, 440, 462, 530, 592, 649, 676, 690]\n",
            "Severidade para cada subsistema: [0.5, 0.75, 0.75, 0.5, 0.5, 0.75, 0.5, 0.75, 0.5, 0.25, 0.5, 0.75, 0.5, 0.5, 0.25]\n",
            "Número de Sisemas: 5\n",
            "Fator:  [0.3296799539643607, 0.6321205588285577, 0.7768698398515702, 0.7768698398515702, 0.6321205588285577, 0.6321205588285577, 0.7768698398515702, 0.6321205588285577, 0.7768698398515702, 0.6321205588285577, 0.3934693402873666, 0.6321205588285577, 0.7768698398515702, 0.6321205588285577, 0.6321205588285577, 0.3934693402873666]\n",
            "Media de falhas:  [0, 1306.9123200000001, 15834.158619245372, 138224.4056742481, 10464297.460423926, 11993755.026666384, 13800664.979935503, 53217615.75270793, 66457349.59116996, 142286434.7107208, 147389244.0720769, 346165730.8706304, 1900806344.8999023, 2245344672.023864, 2272874821.5883093, 2368755215.2882147, 2069302943.8537633]\n",
            "Custo =  191336686418.66855\n"
          ]
        },
        {
          "output_type": "stream",
          "name": "stderr",
          "text": [
            "\rpyswarms.single.global_best: 100%|██████████|1/1, best_cost=3.66e+10\n",
            "2023-09-30 16:02:24,877 - pyswarms.single.global_best - INFO - Optimization finished | best cost: 36639283572.17615, best pos: [3.70041785 5.37629671 5.60807344 4.02683564 2.05747976 0.94202625\n",
            " 3.2444487  3.74278448 0.13340152 5.63808081 3.78910837 4.66042868\n",
            " 5.85464037 2.93199548 3.69706478 1.43275902 6.09648832 3.69494883\n",
            " 6.2541611  5.75506434 0.35013601 3.65465979 3.5108151  6.76867751]\n",
            "2023-09-30 16:02:24,878 - pyswarms.single.global_best - INFO - Optimize for 1 iters with {'c1': 0.5, 'c2': 0.3, 'w': 0.9}\n",
            "pyswarms.single.global_best: 100%|██████████|1/1, best_cost=3.66e+10\n",
            "2023-09-30 16:02:24,894 - pyswarms.single.global_best - INFO - Optimization finished | best cost: 36639283572.17615, best pos: [3.70041814 5.37629668 5.60807343 4.02683502 2.05747931 0.94202626\n",
            " 3.24444883 3.74277898 0.13340094 5.63807539 3.78910898 4.66042869\n",
            " 5.85464037 2.93199541 3.69706218 1.43275878 6.09648869 3.6949492\n",
            " 6.25414948 5.75505208 0.35013775 3.65465981 3.51292299 6.76867707]\n",
            "2023-09-30 16:02:24,895 - pyswarms.single.global_best - INFO - Optimize for 1 iters with {'c1': 0.5, 'c2': 0.3, 'w': 0.9}\n"
          ]
        },
        {
          "output_type": "stream",
          "name": "stdout",
          "text": [
            "\n",
            "=========================================================================\n",
            "\n",
            "Número de ciclos de manutenção: 15 5\n",
            "Tempos para manutenções preventivas: [0, 21, 41, 78, 187, 232, 284, 323, 385, 440, 462, 530, 592, 649, 676, 718]\n",
            "Severidade para cada subsistema: [0.5, 0.75, 0.75, 0.5, 0.5, 0.25, 0.5, 0.75, 0.5, 0.25, 0.5, 0.75, 0.5, 0.5, 0.75]\n",
            "Número de Sisemas: 5\n",
            "Fator:  [0.3296799539643607, 0.6321205588285577, 0.7768698398515702, 0.7768698398515702, 0.6321205588285577, 0.6321205588285577, 0.3934693402873666, 0.6321205588285577, 0.7768698398515702, 0.6321205588285577, 0.3934693402873666, 0.6321205588285577, 0.7768698398515702, 0.6321205588285577, 0.6321205588285577, 0.7768698398515702]\n",
            "Media de falhas:  [0, 1306.9123200000001, 15834.158619245372, 138224.4056742481, 10464297.460423926, 11993755.026666384, 26185506.219221026, 41658833.61317934, 314473307.26266783, 390302392.3822187, 395405201.7435748, 594181688.5421283, 2148822302.5714006, 2493360629.695362, 2520890779.2598076, 2880676764.8341827, 2490571491.0725827]\n",
            "Custo =  214991556776.54236\n"
          ]
        },
        {
          "output_type": "stream",
          "name": "stderr",
          "text": [
            "pyswarms.single.global_best:   0%|          |0/1, best_cost=3.66e+10"
          ]
        },
        {
          "output_type": "stream",
          "name": "stdout",
          "text": [
            "\n",
            "=========================================================================\n",
            "\n",
            "Número de ciclos de manutenção: 15 5\n",
            "Tempos para manutenções preventivas: [0, 20, 41, 78, 187, 232, 271, 323, 385, 440, 462, 530, 592, 649, 675, 706]\n",
            "Severidade para cada subsistema: [0.5, 0.75, 0.75, 0.5, 0.5, 0.75, 0.5, 0.75, 0.5, 0.25, 0.5, 0.75, 0.5, 0.5, 0.5]\n",
            "Número de Sisemas: 5\n",
            "Fator:  [0.3296799539643607, 0.6321205588285577, 0.7768698398515702, 0.7768698398515702, 0.6321205588285577, 0.6321205588285577, 0.7768698398515702, 0.6321205588285577, 0.7768698398515702, 0.6321205588285577, 0.3934693402873666, 0.6321205588285577, 0.7768698398515702, 0.6321205588285577, 0.6321205588285577, 0.6321205588285577]\n",
            "Media de falhas:  [0, 1024.0, 16314.716074443764, 138704.96312944646, 10464778.017879123, 11994235.584121581, 20058663.917832177, 42611724.86005519, 55851458.698517226, 131680543.81806809, 136783353.17942417, 335559839.97797763, 1890200454.0072498, 2234738781.1312113, 2260890854.634563, 2502822367.127402, 2152109161.0592866]\n",
            "Custo =  195035098692.28705\n"
          ]
        },
        {
          "output_type": "stream",
          "name": "stderr",
          "text": [
            "\rpyswarms.single.global_best: 100%|██████████|1/1, best_cost=3.66e+10\n",
            "2023-09-30 16:02:24,907 - pyswarms.single.global_best - INFO - Optimization finished | best cost: 36639283572.17615, best pos: [3.70041857 5.37629667 5.60807343 4.02683479 2.05748    0.94202626\n",
            " 3.24444894 3.74277459 0.13340025 5.63806911 3.78910955 4.66042861\n",
            " 5.85464037 2.93199535 3.69705973 1.43275866 6.09649027 3.69494993\n",
            " 6.25413563 5.75503621 0.35014063 3.65465981 3.51475118 6.76867674]\n",
            "2023-09-30 16:02:24,908 - pyswarms.single.global_best - INFO - Optimize for 1 iters with {'c1': 0.5, 'c2': 0.3, 'w': 0.9}\n",
            "pyswarms.single.global_best:   0%|          |0/1, best_cost=3.66e+10"
          ]
        },
        {
          "output_type": "stream",
          "name": "stdout",
          "text": [
            "\n",
            "=========================================================================\n",
            "\n",
            "Número de ciclos de manutenção: 16 5\n",
            "Tempos para manutenções preventivas: [0, 20, 41, 78, 187, 232, 278, 323, 385, 440, 462, 531, 592, 624, 650, 675, 700]\n",
            "Severidade para cada subsistema: [0.5, 0.75, 0.75, 0.5, 0.5, 0.25, 0.5, 0.75, 0.5, 0.25, 0.5, 0.75, 0.75, 0.5, 0.5, 0.25]\n",
            "Número de Sisemas: 5\n",
            "Fator:  [0.3296799539643607, 0.6321205588285577, 0.7768698398515702, 0.7768698398515702, 0.6321205588285577, 0.6321205588285577, 0.3934693402873666, 0.6321205588285577, 0.7768698398515702, 0.6321205588285577, 0.3934693402873666, 0.6321205588285577, 0.7768698398515702, 0.7768698398515702, 0.6321205588285577, 0.6321205588285577, 0.3934693402873666]\n",
            "Media de falhas:  [0, 1024.0, 16314.716074443764, 138704.96312944646, 10464778.017879123, 11994235.584121581, 23055373.954488777, 41643325.68972676, 314457799.3392153, 390286884.4587661, 395389693.8201222, 599339724.7569188, 2129994183.425487, 2284372078.3075595, 2307040638.1783943, 2331986688.203297, 2517940606.451855, 2186586658.6041102]\n",
            "Custo =  209165736829.59378\n"
          ]
        },
        {
          "output_type": "stream",
          "name": "stderr",
          "text": [
            "\rpyswarms.single.global_best: 100%|██████████|1/1, best_cost=3.66e+10\n",
            "2023-09-30 16:02:24,924 - pyswarms.single.global_best - INFO - Optimization finished | best cost: 36639283572.17615, best pos: [3.70041907 5.37629672 5.60807342 4.02683474 2.05748141 0.94202625\n",
            " 3.24444904 3.74277259 0.13339958 5.63806107 3.78911006 4.66042852\n",
            " 5.85464038 2.93199531 3.69705755 1.43275859 6.09649219 3.69495068\n",
            " 6.2541165  5.75501935 0.35014468 3.6546598  3.5161301  6.76867782]\n",
            "2023-09-30 16:02:24,925 - pyswarms.single.global_best - INFO - Optimize for 1 iters with {'c1': 0.5, 'c2': 0.3, 'w': 0.9}\n",
            "pyswarms.single.global_best:   0%|          |0/1, best_cost=3.66e+10"
          ]
        },
        {
          "output_type": "stream",
          "name": "stdout",
          "text": [
            "\n",
            "=========================================================================\n",
            "\n",
            "Número de ciclos de manutenção: 14 5\n",
            "Tempos para manutenções preventivas: [0, 20, 41, 78, 187, 232, 323, 385, 440, 462, 531, 592, 650, 675, 719]\n",
            "Severidade para cada subsistema: [0.5, 0.75, 0.75, 0.5, 0.5, 0.5, 0.75, 0.5, 0.25, 0.5, 0.75, 0.5, 0.5, 0.75]\n",
            "Número de Sisemas: 5\n",
            "Fator:  [0.3296799539643607, 0.6321205588285577, 0.7768698398515702, 0.7768698398515702, 0.6321205588285577, 0.6321205588285577, 0.6321205588285577, 0.7768698398515702, 0.6321205588285577, 0.3934693402873666, 0.6321205588285577, 0.7768698398515702, 0.6321205588285577, 0.6321205588285577, 0.7768698398515702]\n",
            "Media de falhas:  [0, 1024.0, 16314.716074443764, 138704.96312944646, 10464778.017879123, 11994235.584121581, 65121240.50194506, 119405595.83370201, 195234680.95325285, 200337490.31460893, 404287521.2514055, 1934941979.9199736, 2288668935.6688375, 2313614985.6937404, 2694501580.54137, 2301065870.082075]\n",
            "Custo =  201242425412.69684\n"
          ]
        },
        {
          "output_type": "stream",
          "name": "stderr",
          "text": [
            "\rpyswarms.single.global_best: 100%|██████████|1/1, best_cost=3.66e+10\n",
            "2023-09-30 16:02:24,936 - pyswarms.single.global_best - INFO - Optimization finished | best cost: 36639283572.17615, best pos: [3.70041953 5.37629682 5.60807342 4.02683489 2.05748286 0.94202623\n",
            " 3.24444912 3.7427712  0.13339903 5.63805366 3.78911043 4.66042842\n",
            " 5.8546404  2.9319953  3.69705667 1.4327587  6.09649401 3.69495134\n",
            " 6.25409404 5.7550064  0.35014855 3.65465978 3.51689205 6.76868   ]\n",
            "2023-09-30 16:02:24,937 - pyswarms.single.global_best - INFO - Optimize for 1 iters with {'c1': 0.5, 'c2': 0.3, 'w': 0.9}\n",
            "pyswarms.single.global_best: 100%|██████████|1/1, best_cost=3.66e+10\n",
            "2023-09-30 16:02:24,951 - pyswarms.single.global_best - INFO - Optimization finished | best cost: 36639283572.17615, best pos: [3.70041991 5.37629692 5.60807341 4.02683513 2.05748425 0.94202621\n",
            " 3.24444919 3.74277184 0.13339854 5.63804804 3.78911058 4.66042833\n",
            " 5.85464041 2.93199532 3.69705598 1.43275891 6.0964956  3.69495174\n",
            " 6.25407376 5.75499558 0.35015191 3.65465975 3.51692778 6.76868232]\n"
          ]
        },
        {
          "output_type": "stream",
          "name": "stdout",
          "text": [
            "\n",
            "=========================================================================\n",
            "\n",
            "Número de ciclos de manutenção: 14 5\n",
            "Tempos para manutenções preventivas: [0, 20, 41, 78, 187, 232, 323, 385, 440, 462, 531, 592, 650, 674, 698]\n",
            "Severidade para cada subsistema: [0.5, 0.75, 0.75, 0.5, 0.5, 0.5, 0.75, 0.5, 0.25, 0.5, 0.75, 0.5, 0.5, 0.5]\n",
            "Número de Sisemas: 5\n",
            "Fator:  [0.3296799539643607, 0.6321205588285577, 0.7768698398515702, 0.7768698398515702, 0.6321205588285577, 0.6321205588285577, 0.6321205588285577, 0.7768698398515702, 0.6321205588285577, 0.3934693402873666, 0.6321205588285577, 0.7768698398515702, 0.6321205588285577, 0.6321205588285577, 0.6321205588285577]\n",
            "Media de falhas:  [0, 1024.0, 16314.716074443764, 138704.96312944646, 10464778.017879123, 11994235.584121581, 65121240.50194506, 119405595.83370201, 195234680.95325285, 200337490.31460893, 404287521.2514055, 1934941979.9199736, 2288668935.6688375, 2312293200.2545476, 2488386523.0943274, 2163445341.208294]\n",
            "Custo =  195949443482.966\n"
          ]
        },
        {
          "output_type": "stream",
          "name": "stderr",
          "text": [
            "2023-09-30 16:02:24,953 - pyswarms.single.global_best - INFO - Optimize for 1 iters with {'c1': 0.5, 'c2': 0.3, 'w': 0.9}\n",
            "pyswarms.single.global_best: 100%|██████████|1/1, best_cost=3.66e+10\n",
            "2023-09-30 16:02:24,964 - pyswarms.single.global_best - INFO - Optimization finished | best cost: 36639283572.17615, best pos: [3.70042023 5.37629701 5.60807341 4.0268357  2.0574857  0.9420262\n",
            " 3.24444924 3.74277485 0.13339812 5.63804512 3.78911049 4.66042825\n",
            " 5.85464043 2.93199536 3.69705588 1.43275913 6.09649695 3.69495183\n",
            " 6.25405683 5.754994   0.35015434 3.65465972 3.51525344 6.76868437]\n",
            "2023-09-30 16:02:24,965 - pyswarms.single.global_best - INFO - Optimize for 1 iters with {'c1': 0.5, 'c2': 0.3, 'w': 0.9}\n"
          ]
        },
        {
          "output_type": "stream",
          "name": "stdout",
          "text": [
            "\n",
            "=========================================================================\n",
            "\n",
            "Número de ciclos de manutenção: 16 5\n",
            "Tempos para manutenções preventivas: [0, 20, 41, 78, 187, 232, 270, 323, 385, 440, 462, 531, 592, 608, 650, 674, 693]\n",
            "Severidade para cada subsistema: [0.5, 0.75, 0.75, 0.5, 0.5, 0.75, 0.5, 0.75, 0.5, 0.25, 0.5, 0.75, 0.75, 0.5, 0.5, 0.25]\n",
            "Número de Sisemas: 5\n",
            "Fator:  [0.3296799539643607, 0.6321205588285577, 0.7768698398515702, 0.7768698398515702, 0.6321205588285577, 0.6321205588285577, 0.7768698398515702, 0.6321205588285577, 0.7768698398515702, 0.6321205588285577, 0.3934693402873666, 0.6321205588285577, 0.7768698398515702, 0.7768698398515702, 0.6321205588285577, 0.6321205588285577, 0.3934693402873666]\n",
            "Media de falhas:  [0, 1024.0, 16314.716074443764, 138704.96312944646, 10464778.017879123, 11994235.584121581, 19682228.432781477, 42833051.25953245, 56072785.097994484, 131901870.21754533, 137004679.5789014, 340954710.51569796, 1871609169.184266, 1938306227.00259, 1980243165.9186993, 2003867430.504409, 2137783111.2904437, 1828799621.062015]\n",
            "Custo =  188666536855.09186\n"
          ]
        },
        {
          "output_type": "stream",
          "name": "stderr",
          "text": [
            "pyswarms.single.global_best: 100%|██████████|1/1, best_cost=3.66e+10\n",
            "2023-09-30 16:02:24,979 - pyswarms.single.global_best - INFO - Optimization finished | best cost: 36639283572.17615, best pos: [3.70042041 5.3762971  5.60807341 4.02683632 2.0574869  0.94202618\n",
            " 3.24444927 3.74277854 0.13339816 5.63804254 3.78911025 4.6604282\n",
            " 5.85464045 2.93199539 3.6970565  1.43275933 6.09649809 3.69495162\n",
            " 6.25404326 5.75499455 0.35015606 3.65465968 3.5128972  6.76868597]\n",
            "2023-09-30 16:02:24,980 - pyswarms.single.global_best - INFO - Optimize for 1 iters with {'c1': 0.5, 'c2': 0.3, 'w': 0.9}\n"
          ]
        },
        {
          "output_type": "stream",
          "name": "stdout",
          "text": [
            "\n",
            "=========================================================================\n",
            "\n",
            "Número de ciclos de manutenção: 13 5\n",
            "Tempos para manutenções preventivas: [0, 20, 41, 78, 187, 232, 323, 385, 440, 463, 531, 592, 650, 674]\n",
            "Severidade para cada subsistema: [0.5, 0.75, 0.75, 0.5, 0.5, 0.5, 0.75, 0.5, 0.25, 0.5, 0.75, 0.5, 0.5]\n",
            "Número de Sisemas: 5\n",
            "Fator:  [0.3296799539643607, 0.6321205588285577, 0.7768698398515702, 0.7768698398515702, 0.6321205588285577, 0.6321205588285577, 0.6321205588285577, 0.7768698398515702, 0.6321205588285577, 0.3934693402873666, 0.6321205588285577, 0.7768698398515702, 0.6321205588285577, 0.6321205588285577]\n",
            "Media de falhas:  [0, 1024.0, 16314.716074443764, 138704.96312944646, 10464778.017879123, 11994235.584121581, 65121240.50194506, 119405595.83370201, 195234680.95325285, 200676831.6835218, 400853191.9798459, 1931507650.6484141, 2285234606.397278, 2308858870.982988, 2059924569.0002046]\n",
            "Custo =  166764126286.6986\n"
          ]
        },
        {
          "output_type": "stream",
          "name": "stderr",
          "text": [
            "pyswarms.single.global_best:   0%|          |0/1, best_cost=3.66e+10"
          ]
        },
        {
          "output_type": "stream",
          "name": "stdout",
          "text": [
            "\n",
            "=========================================================================\n",
            "\n",
            "Número de ciclos de manutenção: 16 5\n",
            "Tempos para manutenções preventivas: [0, 20, 41, 78, 187, 232, 269, 291, 323, 385, 440, 463, 530, 592, 609, 650, 674]\n",
            "Severidade para cada subsistema: [0.5, 0.75, 0.75, 0.5, 0.5, 0.75, 0.75, 0.5, 0.75, 0.5, 0.25, 0.5, 0.75, 0.5, 0.5, 0.5]\n",
            "Número de Sisemas: 5\n",
            "Fator:  [0.3296799539643607, 0.6321205588285577, 0.7768698398515702, 0.7768698398515702, 0.6321205588285577, 0.6321205588285577, 0.7768698398515702, 0.7768698398515702, 0.6321205588285577, 0.7768698398515702, 0.6321205588285577, 0.3934693402873666, 0.6321205588285577, 0.7768698398515702, 0.6321205588285577, 0.6321205588285577, 0.6321205588285577]\n",
            "Media de falhas:  [0, 1024.0, 16314.716074443764, 138704.96312944646, 10464778.017879123, 11994235.584121581, 19317804.272306252, 24566963.569810655, 26935812.324106324, 40175546.16256836, 116004631.28211921, 121446782.01238818, 316504237.180527, 1871144851.209799, 1942662487.1453822, 1983250492.6136158, 2136658166.6502545, 1887723864.6674712]\n",
            "Custo =  181644911985.40094\n"
          ]
        },
        {
          "output_type": "stream",
          "name": "stderr",
          "text": [
            "\rpyswarms.single.global_best: 100%|██████████|1/1, best_cost=3.66e+10\n",
            "2023-09-30 16:02:24,992 - pyswarms.single.global_best - INFO - Optimization finished | best cost: 36639283572.17615, best pos: [3.70042043 5.37629716 5.60807342 4.02683688 2.0574879  0.94202617\n",
            " 3.24444928 3.74278227 0.13339868 5.63804213 3.78910991 4.66042816\n",
            " 5.85464047 2.93199543 3.69705747 1.43275952 6.09649809 3.69495125\n",
            " 6.25404047 5.75500207 0.35015515 3.65465965 3.5102915  6.76868715]\n",
            "2023-09-30 16:02:24,993 - pyswarms.single.global_best - INFO - Optimize for 1 iters with {'c1': 0.5, 'c2': 0.3, 'w': 0.9}\n",
            "pyswarms.single.global_best:   0%|          |0/1, best_cost=3.66e+10"
          ]
        },
        {
          "output_type": "stream",
          "name": "stdout",
          "text": [
            "\n",
            "=========================================================================\n",
            "\n",
            "Número de ciclos de manutenção: 15 5\n",
            "Tempos para manutenções preventivas: [0, 20, 41, 78, 187, 232, 241, 323, 385, 440, 463, 530, 592, 649, 674, 706]\n",
            "Severidade para cada subsistema: [0.5, 0.75, 0.75, 0.5, 0.5, 0.25, 0.5, 0.75, 0.5, 0.25, 0.5, 0.75, 0.5, 0.5, 0.75]\n",
            "Número de Sisemas: 5\n",
            "Fator:  [0.3296799539643607, 0.6321205588285577, 0.7768698398515702, 0.7768698398515702, 0.6321205588285577, 0.6321205588285577, 0.3934693402873666, 0.6321205588285577, 0.7768698398515702, 0.6321205588285577, 0.3934693402873666, 0.6321205588285577, 0.7768698398515702, 0.6321205588285577, 0.6321205588285577, 0.7768698398515702]\n",
            "Media de falhas:  [0, 1024.0, 16314.716074443764, 138704.96312944646, 10464778.017879123, 11994235.584121581, 12937363.623547811, 57507290.18378429, 330321763.8332728, 406150848.95282364, 411592999.6830926, 606650454.8512313, 2161291068.8805037, 2505829396.004465, 2530635289.6167083, 2780982417.2210345, 2430269211.1529193]\n",
            "Custo =  211806328053.34277\n"
          ]
        },
        {
          "output_type": "stream",
          "name": "stderr",
          "text": [
            "\rpyswarms.single.global_best: 100%|██████████|1/1, best_cost=3.66e+10\n",
            "2023-09-30 16:02:25,009 - pyswarms.single.global_best - INFO - Optimization finished | best cost: 36639283572.17615, best pos: [3.70042017 5.3762972  5.60807342 4.02683731 2.05748841 0.94202617\n",
            " 3.2444492  3.74278539 0.13339938 5.63804296 3.78910953 4.66042815\n",
            " 5.85464048 2.93199547 3.69705902 1.43275963 6.09649701 3.69495081\n",
            " 6.25404986 5.75501624 0.35015235 3.65465964 3.50798623 6.76868673]\n"
          ]
        }
      ]
    },
    {
      "cell_type": "code",
      "source": [
        "# Nome do arquivo CSV para salvar o resultado do melhor custo\n",
        "nome_arquivo = '/content/drive/MyDrive/datasets/resultados_optimizacao/resultados_pso/melhor_custo_pso_primeiro_cenario.csv'\n",
        "\n",
        "# Abrir o arquivo CSV em modo de leitura para verificar o melhor custo anterior (se existir)\n",
        "melhores_custos_anteriores = []\n",
        "try:\n",
        "    with open(nome_arquivo, 'r') as arquivo_csv:\n",
        "        reader = csv.reader(arquivo_csv)\n",
        "        next(reader)  # Pule o cabeçalho\n",
        "        for linha in reader:\n",
        "            melhores_custos_anteriores.append(float(linha[1]))\n",
        "except FileNotFoundError:\n",
        "    pass  # Arquivo não existe, pode ser a primeira execução\n",
        "\n",
        "# Adicionar o melhor custo atual à lista de melhores custos anteriores\n",
        "melhores_custos_anteriores.append(pbest_cost[0])\n",
        "\n",
        "# Abrir o arquivo CSV em modo de escrita e escrever todos os melhores custos\n",
        "with open(nome_arquivo, 'w', newline='') as arquivo_csv:\n",
        "    writer = csv.writer(arquivo_csv)\n",
        "\n",
        "    # Escreve o cabeçalho com as colunas\n",
        "    writer.writerow(['Interação', 'Melhor Custo', 'Numero de Particulas', 'Numero de Interações', 'Dimensions', 'options'])\n",
        "\n",
        "    # Escreve os valores dos melhores custos com números de interação\n",
        "    for i, custo in enumerate(melhores_custos_anteriores, start=1):\n",
        "        writer.writerow([i, custo, num_particles, max_iterations, dimensions, options])"
      ],
      "metadata": {
        "id": "SvLX3p0EXBEo"
      },
      "execution_count": 52,
      "outputs": []
    },
    {
      "cell_type": "code",
      "source": [
        "# Plotar gráfico de densidade da otimização\n",
        "plt.figure()\n",
        "plt.plot(optimizer.cost_history)\n",
        "plt.xlabel('Iteration')\n",
        "plt.xlim(0, max_iterations)\n",
        "plt.ylabel('Objective function')\n",
        "plt.title('Particle Swarm Optimization (PSO) - Cost History')\n",
        "plt.show()\n",
        "\n",
        "print(\"                              \")\n",
        "print(\"*************************************************************************\")\n",
        "print(\"Número total de iterações:\", max_iterations)\n",
        "print(\"Número de Particulas:\", num_particles)\n",
        "print(\"Número de Dimensões:\", dimensions)\n",
        "print(\"                              \")\n",
        "print(\"Melhor partícula:\", pbest_cost[0])"
      ],
      "metadata": {
        "id": "ULlt81ZI1vn9",
        "outputId": "80e491bf-ce42-43c3-961a-760822d9b01c",
        "colab": {
          "base_uri": "https://localhost:8080/",
          "height": 594
        }
      },
      "execution_count": 53,
      "outputs": [
        {
          "output_type": "display_data",
          "data": {
            "text/plain": [
              "<Figure size 640x480 with 1 Axes>"
            ],
            "image/png": "[encoded data removed]"
          },
          "metadata": {}
        },
        {
          "output_type": "stream",
          "name": "stdout",
          "text": [
            "                              \n",
            "*************************************************************************\n",
            "Número total de iterações: 100\n",
            "Número de Particulas: 100\n",
            "Número de Dimensões: 24\n",
            "                              \n",
            "Melhor partícula: 211806328053.34277\n"
          ]
        }
      ]
    },
    {
      "cell_type": "code",
      "source": [
        "# Plotar o gráfico 3D com todas as melhores posições\n",
        "fig = plt.figure(figsize=(8, 8))\n",
        "ax = fig.add_subplot(111)\n",
        "\n",
        "# Plotar todas as melhores posições anteriores\n",
        "for i in range(best_positions.shape[0]):\n",
        "    ax.scatter(best_positions[i, 0], best_positions[i, 1], marker='x', c='blue', alpha=0.6)\n",
        "\n",
        "# Plotar a última melhor posição com uma cor diferente para destacá-la\n",
        "ax.scatter(best_positions[-1, 0], best_positions[-1, 1], c='red', label='Melhor posição atual')\n",
        "\n",
        "ax.set_title('PSO - Melhores posições ao longo das iterações')\n",
        "ax.set_xlabel('Primeira dimensão das melhores posições')\n",
        "ax.set_ylabel('Segunda dimensão das melhores posições')\n",
        "ax.legend()\n",
        "plt.grid()\n",
        "plt.show()"
      ],
      "metadata": {
        "id": "4STRoUAPxmqT",
        "outputId": "2011b8ae-f93e-497c-a003-29ec14fa2d85",
        "colab": {
          "base_uri": "https://localhost:8080/",
          "height": 718
        }
      },
      "execution_count": 54,
      "outputs": [
        {
          "output_type": "display_data",
          "data": {
            "text/plain": [
              "<Figure size 800x800 with 1 Axes>"
            ],
            "image/png": "[encoded data removed]"
          },
          "metadata": {}
        }
      ]
    }
  ]
}