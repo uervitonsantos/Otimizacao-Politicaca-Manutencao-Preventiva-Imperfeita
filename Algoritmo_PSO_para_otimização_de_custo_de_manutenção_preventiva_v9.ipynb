{
  "nbformat": 4,
  "nbformat_minor": 0,
  "metadata": {
    "colab": {
      "provenance": [],
      "mount_file_id": "1RdFgP-oDl5GfiBXVSjm47plKw1zogDMB",
      "authorship_tag": "ABX9TyOs7pRzdrAP7ZkJofT0N9mH",
      "include_colab_link": true
    },
    "kernelspec": {
      "name": "python3",
      "display_name": "Python 3"
    },
    "language_info": {
      "name": "python"
    }
  },
  "cells": [
    {
      "cell_type": "markdown",
      "metadata": {
        "id": "view-in-github",
        "colab_type": "text"
      },
      "source": [
        "<a href=\"https://colab.research.google.com/github/uervitonsantos/Otimizacao-Politicaca-Manutencao-Preventiva-Imperfeita/blob/main/Algoritmo_PSO_para_otimiza%C3%A7%C3%A3o_de_custo_de_manuten%C3%A7%C3%A3o_preventiva_v9.ipynb\" target=\"_parent\"><img src=\"https://colab.research.google.com/assets/colab-badge.svg\" alt=\"Open In Colab\"/></a>"
      ]
    },
    {
      "cell_type": "markdown",
      "source": [
        "Dataset de dados de confiabilidade: https://drive.google.com/drive/folders/1b7jqK1A2XI1oZ4YhDXw_4xdnSTbfuBVK?usp=sharing"
      ],
      "metadata": {
        "id": "wZi0pIL-Ch37"
      }
    },
    {
      "cell_type": "code",
      "execution_count": 878,
      "metadata": {
        "id": "VM8_ebpiVP0V"
      },
      "outputs": [],
      "source": [
        "%%capture\n",
        "pip install pyswarms"
      ]
    },
    {
      "cell_type": "code",
      "source": [
        "import numpy as np\n",
        "import pandas as pd\n",
        "import math\n",
        "import csv\n",
        "import matplotlib.pyplot as plt\n",
        "import time\n",
        "from pyswarms.single.global_best import GlobalBestPSO\n",
        "import pyswarms as ps\n",
        "from pyswarms.utils.search import RandomSearch\n",
        "from pyswarms.utils.functions import single_obj as fx\n",
        "from pyswarms.utils.plotters import (plot_cost_history, plot_contour, plot_surface)\n",
        "import plotly.graph_objects as go\n",
        "from pyswarms.utils.plotters.formatters import Designer\n",
        "from pyswarms.utils.plotters.formatters import Mesher\n",
        "from mpl_toolkits.mplot3d import Axes3D"
      ],
      "metadata": {
        "id": "2sVG0WwfVrUs"
      },
      "execution_count": 879,
      "outputs": []
    },
    {
      "cell_type": "code",
      "source": [
        "MAX_VALUE_CUSTO = 10000\n",
        "fator_melhoria = 'expo'\n",
        "DIAS_OBSERVADOS = 600"
      ],
      "metadata": {
        "id": "FeZKvg25Vtwz"
      },
      "execution_count": 880,
      "outputs": []
    },
    {
      "cell_type": "code",
      "source": [
        "# Custos MC e MP\n",
        "CMC = 4000\n",
        "CMP = 2000"
      ],
      "metadata": {
        "id": "JFnJpCJGVx7P"
      },
      "execution_count": 881,
      "outputs": []
    },
    {
      "cell_type": "code",
      "source": [
        "class IntensidadeFalha:\n",
        "    # Este método vai inicializar cada objeto criado a partir desta classe\n",
        "    # O nome deste método é \"inicio\"\n",
        "    # (self) é uma referência a cada atributo de um objeto criado a partir desta classe\n",
        "    # Os atributos de cada objeto criados a partir desta classe.\n",
        "    # O self indica que estes são atributos dos objetos\n",
        "    def __init__(self):\n",
        "        self.fator = None\n",
        "        self.lamb = None\n",
        "        self.beta = None\n",
        "        self.theta = None\n",
        "        self.sz = None\n",
        "        self.T = None\n",
        "        self.u = None\n",
        "\n",
        "    def inicio(self, T, fator, solucao):\n",
        "        self.fator = fator\n",
        "        self.lamb = solucao[0]\n",
        "        self.beta = solucao[1]\n",
        "        self.theta = solucao[2]\n",
        "        self.sz = int(T[-1])\n",
        "        self.T = T\n",
        "\n",
        "    def create(self):\n",
        "        self.u = []\n",
        "        # Reducao de Idade com fator de melhoria linear\n",
        "        for i, tc in enumerate(self.T[1:], start=1):\n",
        "            for tt in range(int(self.T[i-1]), int(tc)+1):\n",
        "                b = tt - self.fator[0][i-1] * self.T[i-1]\n",
        "                self.u.append((1 / (self.lamb ** self.beta)) * self.beta * b ** (self.beta - 1))\n",
        "\n",
        "                if tt == tc:\n",
        "                    self.u.append(float('nan'))\n",
        "            break\n",
        "    # plota e salva a figura da função de intensidade de falha\n",
        "    def plotar(self):\n",
        "        fig = plt.figure(figsize=(20, 5))\n",
        "        plt.plot(self.u)\n",
        "\n",
        "        for xc in self.T:\n",
        "            plt.axvline(x=xc, color='r', linestyle='--')\n",
        "\n",
        "        plt.xlabel(\"Tempo (dias)\")\n",
        "        plt.ylabel(\"Função intensidade de falha\")\n",
        "        plt.xlim(0)\n",
        "        plt.grid(True)\n",
        "        plt.show()"
      ],
      "metadata": {
        "id": "QhF2qTuDV2P1"
      },
      "execution_count": 882,
      "outputs": []
    },
    {
      "cell_type": "code",
      "source": [
        "# Define a função de melhoria constante\n",
        "def const(ck, m, s, theta):\n",
        "    fator = [[theta] * ck] * m\n",
        "    return fator"
      ],
      "metadata": {
        "id": "mMRO_z3_V4a3"
      },
      "execution_count": 883,
      "outputs": []
    },
    {
      "cell_type": "code",
      "source": [
        "# Define a função de melhoria linear\n",
        "def linear(ck, m, s, theta):\n",
        "    fator = []\n",
        "    for k in range(0, m, 1):\n",
        "        linha = [0]\n",
        "        for j in range(0, ck, 1):\n",
        "            linha.append(s[k][j] * theta)\n",
        "        fator.append(linha)\n",
        "    return fator"
      ],
      "metadata": {
        "id": "S_fCxa7GV65n"
      },
      "execution_count": 884,
      "outputs": []
    },
    {
      "cell_type": "code",
      "source": [
        " # Define a função de melhoria exponencial\n",
        "def expo(ck, m, s, theta):\n",
        "    fator = []\n",
        "    for k in range(0, m, 1):\n",
        "        linha = []\n",
        "        for j in range(0, ck, 1):\n",
        "            linha.append(1.0 - np.exp(-s[k][j] * theta))\n",
        "        fator.append(linha)\n",
        "    return fator"
      ],
      "metadata": {
        "id": "NV3lIXl9V9FL"
      },
      "execution_count": 885,
      "outputs": []
    },
    {
      "cell_type": "code",
      "source": [
        "# Define a função de melhoria potência\n",
        "def pot(ck, m, s, theta):\n",
        "    fator = []\n",
        "    for k in range(0, m, 1):\n",
        "        linha = []\n",
        "        for j in range(0, ck, 1):\n",
        "            linha.append(s[k][j] ** theta)\n",
        "        fator.append(linha)\n",
        "    return fator"
      ],
      "metadata": {
        "id": "ikxXlzxKV-0K"
      },
      "execution_count": 886,
      "outputs": []
    },
    {
      "cell_type": "code",
      "source": [
        "# Define a função de melhoria para manutenção perfeita\n",
        "def mpp(ck, m, s, theta):\n",
        "    fator = []\n",
        "    for k in range(0, m, 1):\n",
        "        linha = []\n",
        "        for j in range(0, ck, 1):\n",
        "            linha.append(1)\n",
        "        fator.append(linha)\n",
        "    return fator"
      ],
      "metadata": {
        "id": "xcHr8tSFWAus"
      },
      "execution_count": 887,
      "outputs": []
    },
    {
      "cell_type": "code",
      "source": [
        "# Executa a função de melhoria com base no parâmetro fornecido\n",
        "def execute_function(fator_melhoria, ck, m, s, theta):\n",
        "    return {\n",
        "        'const': lambda: const(ck, m, s, theta),\n",
        "        'linear': lambda: linear(ck, m, s, theta),\n",
        "        'expo': lambda: expo(ck, m, s, theta),\n",
        "        'pot': lambda: pot(ck, m, s, theta),\n",
        "        'mpp': lambda: mpp(ck, m, s, theta),\n",
        "    }[fator_melhoria]()"
      ],
      "metadata": {
        "id": "R5KeFcseWDH6"
      },
      "execution_count": 888,
      "outputs": []
    },
    {
      "cell_type": "code",
      "source": [
        "# Função custo de manutenção baseada em severidade\n",
        "def custo_mp(s, CMP):\n",
        "    dist = {0.25: 2000, 0.5: 4000, 0.75: 12000, 1.0: 20000}\n",
        "    if not isinstance(s, list):\n",
        "        s = [s]  # Transforma s em uma lista com um único elemento\n",
        "    cmp_f = np.sum([CMP if si < 0.25 or si > 1.0 else np.interp(si, [0.25, 0.5, 0.75, 1.0], [2000, 4000, 12000, 20000]) for si in s])\n",
        "    return cmp_f"
      ],
      "metadata": {
        "id": "B8BkTWrmWGWO"
      },
      "execution_count": 889,
      "outputs": []
    },
    {
      "cell_type": "code",
      "source": [
        "# Leitura dos dados de tempo: exemplo tese Marcos Coque Jr.\n",
        "df = pd.read_csv('/content/drive/MyDrive/Colab Notebooks/DateSet/Cenarios/cenario01.csv', sep=\";\")\n",
        "df.head()"
      ],
      "metadata": {
        "colab": {
          "base_uri": "https://localhost:8080/",
          "height": 206
        },
        "id": "IDcyZ_pHWIW8",
        "outputId": "a123e801-f2f8-45df-f85f-3b2542e34ca6"
      },
      "execution_count": 890,
      "outputs": [
        {
          "output_type": "execute_result",
          "data": {
            "text/plain": [
              "     t  k  c    n    s      T\n",
              "0   90  1  1  4.0  0.4    0.0\n",
              "1  110  1  1  0.0  0.5  150.0\n",
              "2  125  1  1  9.0  0.9  250.0\n",
              "3  135  1  1  2.0  0.2  500.0\n",
              "4  295  1  3  2.0  0.4  600.0"
            ],
            "text/html": [
              "\n",
              "  <div id=\"df-7f9e4fa4-86a6-4c7c-a7ac-a7eb115404e4\" class=\"colab-df-container\">\n",
              "    <div>\n",
              "<style scoped>\n",
              "    .dataframe tbody tr th:only-of-type {\n",
              "        vertical-align: middle;\n",
              "    }\n",
              "\n",
              "    .dataframe tbody tr th {\n",
              "        vertical-align: top;\n",
              "    }\n",
              "\n",
              "    .dataframe thead th {\n",
              "        text-align: right;\n",
              "    }\n",
              "</style>\n",
              "<table border=\"1\" class=\"dataframe\">\n",
              "  <thead>\n",
              "    <tr style=\"text-align: right;\">\n",
              "      <th></th>\n",
              "      <th>t</th>\n",
              "      <th>k</th>\n",
              "      <th>c</th>\n",
              "      <th>n</th>\n",
              "      <th>s</th>\n",
              "      <th>T</th>\n",
              "    </tr>\n",
              "  </thead>\n",
              "  <tbody>\n",
              "    <tr>\n",
              "      <th>0</th>\n",
              "      <td>90</td>\n",
              "      <td>1</td>\n",
              "      <td>1</td>\n",
              "      <td>4.0</td>\n",
              "      <td>0.4</td>\n",
              "      <td>0.0</td>\n",
              "    </tr>\n",
              "    <tr>\n",
              "      <th>1</th>\n",
              "      <td>110</td>\n",
              "      <td>1</td>\n",
              "      <td>1</td>\n",
              "      <td>0.0</td>\n",
              "      <td>0.5</td>\n",
              "      <td>150.0</td>\n",
              "    </tr>\n",
              "    <tr>\n",
              "      <th>2</th>\n",
              "      <td>125</td>\n",
              "      <td>1</td>\n",
              "      <td>1</td>\n",
              "      <td>9.0</td>\n",
              "      <td>0.9</td>\n",
              "      <td>250.0</td>\n",
              "    </tr>\n",
              "    <tr>\n",
              "      <th>3</th>\n",
              "      <td>135</td>\n",
              "      <td>1</td>\n",
              "      <td>1</td>\n",
              "      <td>2.0</td>\n",
              "      <td>0.2</td>\n",
              "      <td>500.0</td>\n",
              "    </tr>\n",
              "    <tr>\n",
              "      <th>4</th>\n",
              "      <td>295</td>\n",
              "      <td>1</td>\n",
              "      <td>3</td>\n",
              "      <td>2.0</td>\n",
              "      <td>0.4</td>\n",
              "      <td>600.0</td>\n",
              "    </tr>\n",
              "  </tbody>\n",
              "</table>\n",
              "</div>\n",
              "    <div class=\"colab-df-buttons\">\n",
              "\n",
              "  <div class=\"colab-df-container\">\n",
              "    <button class=\"colab-df-convert\" onclick=\"convertToInteractive('df-7f9e4fa4-86a6-4c7c-a7ac-a7eb115404e4')\"\n",
              "            title=\"Convert this dataframe to an interactive table.\"\n",
              "            style=\"display:none;\">\n",
              "\n",
              "  <svg xmlns=\"http://www.w3.org/2000/svg\" height=\"24px\" viewBox=\"0 -960 960 960\">\n",
              "    <path d=\"M120-120v-720h720v720H120Zm60-500h600v-160H180v160Zm220 220h160v-160H400v160Zm0 220h160v-160H400v160ZM180-400h160v-160H180v160Zm440 0h160v-160H620v160ZM180-180h160v-160H180v160Zm440 0h160v-160H620v160Z\"/>\n",
              "  </svg>\n",
              "    </button>\n",
              "\n",
              "  <style>\n",
              "    .colab-df-container {\n",
              "      display:flex;\n",
              "      gap: 12px;\n",
              "    }\n",
              "\n",
              "    .colab-df-convert {\n",
              "      background-color: #E8F0FE;\n",
              "      border: none;\n",
              "      border-radius: 50%;\n",
              "      cursor: pointer;\n",
              "      display: none;\n",
              "      fill: #1967D2;\n",
              "      height: 32px;\n",
              "      padding: 0 0 0 0;\n",
              "      width: 32px;\n",
              "    }\n",
              "\n",
              "    .colab-df-convert:hover {\n",
              "      background-color: #E2EBFA;\n",
              "      box-shadow: 0px 1px 2px rgba(60, 64, 67, 0.3), 0px 1px 3px 1px rgba(60, 64, 67, 0.15);\n",
              "      fill: #174EA6;\n",
              "    }\n",
              "\n",
              "    .colab-df-buttons div {\n",
              "      margin-bottom: 4px;\n",
              "    }\n",
              "\n",
              "    [theme=dark] .colab-df-convert {\n",
              "      background-color: #3B4455;\n",
              "      fill: #D2E3FC;\n",
              "    }\n",
              "\n",
              "    [theme=dark] .colab-df-convert:hover {\n",
              "      background-color: #434B5C;\n",
              "      box-shadow: 0px 1px 3px 1px rgba(0, 0, 0, 0.15);\n",
              "      filter: drop-shadow(0px 1px 2px rgba(0, 0, 0, 0.3));\n",
              "      fill: #FFFFFF;\n",
              "    }\n",
              "  </style>\n",
              "\n",
              "    <script>\n",
              "      const buttonEl =\n",
              "        document.querySelector('#df-7f9e4fa4-86a6-4c7c-a7ac-a7eb115404e4 button.colab-df-convert');\n",
              "      buttonEl.style.display =\n",
              "        google.colab.kernel.accessAllowed ? 'block' : 'none';\n",
              "\n",
              "      async function convertToInteractive(key) {\n",
              "        const element = document.querySelector('#df-7f9e4fa4-86a6-4c7c-a7ac-a7eb115404e4');\n",
              "        const dataTable =\n",
              "          await google.colab.kernel.invokeFunction('convertToInteractive',\n",
              "                                                    [key], {});\n",
              "        if (!dataTable) return;\n",
              "\n",
              "        const docLinkHtml = 'Like what you see? Visit the ' +\n",
              "          '<a target=\"_blank\" href=https://colab.research.google.com/notebooks/data_table.ipynb>data table notebook</a>'\n",
              "          + ' to learn more about interactive tables.';\n",
              "        element.innerHTML = '';\n",
              "        dataTable['output_type'] = 'display_data';\n",
              "        await google.colab.output.renderOutput(dataTable, element);\n",
              "        const docLink = document.createElement('div');\n",
              "        docLink.innerHTML = docLinkHtml;\n",
              "        element.appendChild(docLink);\n",
              "      }\n",
              "    </script>\n",
              "  </div>\n",
              "\n",
              "\n",
              "<div id=\"df-003df3b5-0260-4997-a6d0-476e914864fe\">\n",
              "  <button class=\"colab-df-quickchart\" onclick=\"quickchart('df-003df3b5-0260-4997-a6d0-476e914864fe')\"\n",
              "            title=\"Suggest charts.\"\n",
              "            style=\"display:none;\">\n",
              "\n",
              "<svg xmlns=\"http://www.w3.org/2000/svg\" height=\"24px\"viewBox=\"0 0 24 24\"\n",
              "     width=\"24px\">\n",
              "    <g>\n",
              "        <path d=\"M19 3H5c-1.1 0-2 .9-2 2v14c0 1.1.9 2 2 2h14c1.1 0 2-.9 2-2V5c0-1.1-.9-2-2-2zM9 17H7v-7h2v7zm4 0h-2V7h2v10zm4 0h-2v-4h2v4z\"/>\n",
              "    </g>\n",
              "</svg>\n",
              "  </button>\n",
              "\n",
              "<style>\n",
              "  .colab-df-quickchart {\n",
              "      --bg-color: #E8F0FE;\n",
              "      --fill-color: #1967D2;\n",
              "      --hover-bg-color: #E2EBFA;\n",
              "      --hover-fill-color: #174EA6;\n",
              "      --disabled-fill-color: #AAA;\n",
              "      --disabled-bg-color: #DDD;\n",
              "  }\n",
              "\n",
              "  [theme=dark] .colab-df-quickchart {\n",
              "      --bg-color: #3B4455;\n",
              "      --fill-color: #D2E3FC;\n",
              "      --hover-bg-color: #434B5C;\n",
              "      --hover-fill-color: #FFFFFF;\n",
              "      --disabled-bg-color: #3B4455;\n",
              "      --disabled-fill-color: #666;\n",
              "  }\n",
              "\n",
              "  .colab-df-quickchart {\n",
              "    background-color: var(--bg-color);\n",
              "    border: none;\n",
              "    border-radius: 50%;\n",
              "    cursor: pointer;\n",
              "    display: none;\n",
              "    fill: var(--fill-color);\n",
              "    height: 32px;\n",
              "    padding: 0;\n",
              "    width: 32px;\n",
              "  }\n",
              "\n",
              "  .colab-df-quickchart:hover {\n",
              "    background-color: var(--hover-bg-color);\n",
              "    box-shadow: 0 1px 2px rgba(60, 64, 67, 0.3), 0 1px 3px 1px rgba(60, 64, 67, 0.15);\n",
              "    fill: var(--button-hover-fill-color);\n",
              "  }\n",
              "\n",
              "  .colab-df-quickchart-complete:disabled,\n",
              "  .colab-df-quickchart-complete:disabled:hover {\n",
              "    background-color: var(--disabled-bg-color);\n",
              "    fill: var(--disabled-fill-color);\n",
              "    box-shadow: none;\n",
              "  }\n",
              "\n",
              "  .colab-df-spinner {\n",
              "    border: 2px solid var(--fill-color);\n",
              "    border-color: transparent;\n",
              "    border-bottom-color: var(--fill-color);\n",
              "    animation:\n",
              "      spin 1s steps(1) infinite;\n",
              "  }\n",
              "\n",
              "  @keyframes spin {\n",
              "    0% {\n",
              "      border-color: transparent;\n",
              "      border-bottom-color: var(--fill-color);\n",
              "      border-left-color: var(--fill-color);\n",
              "    }\n",
              "    20% {\n",
              "      border-color: transparent;\n",
              "      border-left-color: var(--fill-color);\n",
              "      border-top-color: var(--fill-color);\n",
              "    }\n",
              "    30% {\n",
              "      border-color: transparent;\n",
              "      border-left-color: var(--fill-color);\n",
              "      border-top-color: var(--fill-color);\n",
              "      border-right-color: var(--fill-color);\n",
              "    }\n",
              "    40% {\n",
              "      border-color: transparent;\n",
              "      border-right-color: var(--fill-color);\n",
              "      border-top-color: var(--fill-color);\n",
              "    }\n",
              "    60% {\n",
              "      border-color: transparent;\n",
              "      border-right-color: var(--fill-color);\n",
              "    }\n",
              "    80% {\n",
              "      border-color: transparent;\n",
              "      border-right-color: var(--fill-color);\n",
              "      border-bottom-color: var(--fill-color);\n",
              "    }\n",
              "    90% {\n",
              "      border-color: transparent;\n",
              "      border-bottom-color: var(--fill-color);\n",
              "    }\n",
              "  }\n",
              "</style>\n",
              "\n",
              "  <script>\n",
              "    async function quickchart(key) {\n",
              "      const quickchartButtonEl =\n",
              "        document.querySelector('#' + key + ' button');\n",
              "      quickchartButtonEl.disabled = true;  // To prevent multiple clicks.\n",
              "      quickchartButtonEl.classList.add('colab-df-spinner');\n",
              "      try {\n",
              "        const charts = await google.colab.kernel.invokeFunction(\n",
              "            'suggestCharts', [key], {});\n",
              "      } catch (error) {\n",
              "        console.error('Error during call to suggestCharts:', error);\n",
              "      }\n",
              "      quickchartButtonEl.classList.remove('colab-df-spinner');\n",
              "      quickchartButtonEl.classList.add('colab-df-quickchart-complete');\n",
              "    }\n",
              "    (() => {\n",
              "      let quickchartButtonEl =\n",
              "        document.querySelector('#df-003df3b5-0260-4997-a6d0-476e914864fe button');\n",
              "      quickchartButtonEl.style.display =\n",
              "        google.colab.kernel.accessAllowed ? 'block' : 'none';\n",
              "    })();\n",
              "  </script>\n",
              "</div>\n",
              "    </div>\n",
              "  </div>\n"
            ]
          },
          "metadata": {},
          "execution_count": 890
        }
      ]
    },
    {
      "cell_type": "code",
      "source": [
        "# Cria as variaveis\n",
        "# tempos de falhas\n",
        "t = df['t']\n",
        "# indice do sistema\n",
        "k = df['k']\n",
        "m = k.drop_duplicates().shape[0]\n",
        "# Numero de ciclos de manutenção\n",
        "ck = df['c'].max()\n",
        "# Numero de falhas e severidade das manutenções preventivas em cada sistema\n",
        "n = []\n",
        "s = []\n",
        "for k in range(m):\n",
        "    n.append(list(df['n'][k * ck:(k + 1) * ck]))\n",
        "    s.append(list(df['s'][k * ck:(k + 1) * ck]))\n",
        "\n",
        "# Tempos das MP\n",
        "T = list(df['T'][:m])\n",
        "\n",
        "# Criação de variáveis para os parâmetros\n",
        "lamb = 5\n",
        "theta = 2\n",
        "\n",
        "# Cria alguns cenários de teste\n",
        "beta = 5\n",
        "\n",
        "solucao = [lamb, beta, theta]\n",
        "\n",
        "# Cria a instância da classe IntensidadeFalha\n",
        "intensidadeFalha = IntensidadeFalha()\n",
        "\n",
        "# Inicializa a instância com os valores necessários\n",
        "falha = intensidadeFalha.inicio(T, execute_function(fator_melhoria, ck, m, s, theta), solucao)\n",
        "\n",
        "# Cria os dados da intensidade de falha\n",
        "intensidadeFalha.create()\n",
        "\n",
        "# Plota o gráfico da intensidade de falha\n",
        "intensidadeFalha.plotar()\n",
        "\n",
        "fator = execute_function(fator_melhoria, ck, m, s, theta)\n",
        "print('Fator ajuste: ', fator[0])\n",
        "\n",
        "last_value_fator_ajuste = fator[0][-1]\n",
        "\n",
        "time_duration = 1\n",
        "time.sleep(time_duration)"
      ],
      "metadata": {
        "id": "grvISRd2_HkE",
        "outputId": "0d382510-83a6-4c09-94a0-bfeaabbcd5be",
        "colab": {
          "base_uri": "https://localhost:8080/",
          "height": 392
        }
      },
      "execution_count": 891,
      "outputs": [
        {
          "output_type": "display_data",
          "data": {
            "text/plain": [
              "<Figure size 2000x500 with 1 Axes>"
            ],
            "image/png": "[encoded data removed]"
          },
          "metadata": {}
        },
        {
          "output_type": "stream",
          "name": "stdout",
          "text": [
            "Fator ajuste:  [0.5506710358827784, 0.6321205588285577, 0.8347011117784134, 0.3296799539643607]\n"
          ]
        }
      ]
    },
    {
      "cell_type": "code",
      "source": [
        "# Função objetivo para otimização da politica de manutenção\n",
        "# Numero de ciclos determinado pela solução\n",
        "# Solução com 24 valores reais\n",
        "# Solucao a ser avaliada X = [x1, ..., x24]\n",
        "def objective_st(x):\n",
        "\n",
        "    # Dicionario para severidades\n",
        "    dict_severidades = {1: 0.25, 3: 0.50, 5: 0.75, 7: 1.0}\n",
        "\n",
        "    results = [] # Lista para armazenar os resultados das funções objetivo\n",
        "\n",
        "\n",
        "    # No PSO, como cada particula é um vetor de dimenções definidas, é\n",
        "    # Necessario interar sobre o vetor de particulas\n",
        "    for particle in x:\n",
        "        T = [0]\n",
        "        s_row = []\n",
        "        cont = 0\n",
        "\n",
        "        for number in particle:\n",
        "            modulo = int(number) % 2\n",
        "            if modulo == 1:\n",
        "                inteiro = int(number)\n",
        "                s_row.append(dict_severidades[inteiro])  # Severidade\n",
        "                frac = number - inteiro  # Tempo\n",
        "                t = (cont + frac) * 30\n",
        "                T.append(int(t))\n",
        "            cont += 1\n",
        "\n",
        "    s = []\n",
        "    for row in range(m):\n",
        "        s.append(s_row)\n",
        "\n",
        "    # A partir da solução define o número de ciclos\n",
        "    # A variável m é o número de sistemas em análise: em nosso exemplo m = 4\n",
        "    # Para novos dados esse parâmetro deve ser ajustado\n",
        "    # m = 4\n",
        "    ck = len(T) - 1\n",
        "\n",
        "    print(\"\")\n",
        "    print(\"=========================================================================\")\n",
        "    print(\"\")\n",
        "    print('Número de ciclos de manutenção:', ck, m)\n",
        "    print('Tempos para manutenções preventivas:', T)\n",
        "    print('Severidade para cada subsistema:', s[0])\n",
        "    print(\"Número de Sisemas:\", m)\n",
        "\n",
        "    if ck == 0:\n",
        "        return MAX_VALUE_CUSTO\n",
        "\n",
        "    # O modelo já está ajustado\n",
        "    # Utilizado para avaliar a solução candidata\n",
        "\n",
        "    # Cria fator de meloria a partir da solução\n",
        "    fact = execute_function(fator_melhoria, ck, m, s, theta)\n",
        "    fator = [last_value_fator_ajuste] + list(fact[0])\n",
        "\n",
        "    print('Fator: ', fator)\n",
        "\n",
        "    # Numero esperado de falhas (NEF) em cada ciclo\n",
        "    termos_somatorio = [((1/(lamb**beta)) * (T[1]**beta))]\n",
        "    numero_medio_falhas = [0, ((1/(lamb**beta)) * (T[1]**beta))]\n",
        "\n",
        "    for i in range(ck-1):\n",
        "        termo = (((T[i+2]-fator[i]*T[i+1])**beta) - (((1-fator[i])*T[i+1])**beta)) * (1/(lamb**beta))\n",
        "        termos_somatorio.append(termo)\n",
        "        numero_medio_falhas.append(sum(termos_somatorio))\n",
        "\n",
        "    # Número médio de falhas até o final do período: 2 anos\n",
        "    final = DIAS_OBSERVADOS\n",
        "    termo = (((final-fator[ck-1]*T[ck])**beta) - (((1-fator[ck-1])*T[ck])**beta)) * (1/(lamb**beta))\n",
        "    termos_somatorio.append(termo)\n",
        "    numero_medio_falhas.append(sum(termos_somatorio))\n",
        "\n",
        "    mi = numero_medio_falhas\n",
        "\n",
        "    print('Media de falhas: ', mi)\n",
        "\n",
        "    Ctotal =  []\n",
        "\n",
        "    for i in range(ck):\n",
        "        cmp = custo_mp(s[0][i], CMP)\n",
        "        Ctotal.append((cmp + (mi[i+1] - mi[i])*CMC)/(T[i+1]-T[i]))\n",
        "\n",
        "    cmp = custo_mp(s[0][ck-1], CMP)\n",
        "    Ctotal.append((cmp + (mi[ck+1] - mi[ck])*CMC)/(final-T[ck]))\n",
        "\n",
        "    # Custo Total\n",
        "    Custo = np.sum(Ctotal)\n",
        "    results.append(Custo) # Adicione o valor da função objetivo à lista de resultados\n",
        "    print('Custo = ', Custo)\n",
        "\n",
        "    # Retorne os resultados da função objetivo como um array\n",
        "    return np.array(results)"
      ],
      "metadata": {
        "id": "-JuqM09rWWBJ"
      },
      "execution_count": 892,
      "outputs": []
    },
    {
      "cell_type": "code",
      "source": [
        "num_particles = 100\n",
        "max_iterations = 100\n",
        "dimensions = 24\n",
        "options = {'c1': 0.5, 'c2': 0.3, 'w': 0.9}\n",
        "\n",
        "max_bound = np.array([7.0] * dimensions)  # Limite superior dos valores em x\n",
        "min_bound = np.array([0.0] * dimensions)   # Limite inferior dos valores em x\n",
        "bounds = (min_bound, max_bound)\n",
        "\n",
        "optimizer = GlobalBestPSO(n_particles=num_particles, dimensions=dimensions, options=options, bounds=bounds)\n",
        "\n",
        "# Inicializar current_cost e pbest_cost com valores infinitos\n",
        "optimizer.swarm.current_cost = np.full(optimizer.swarm.position.shape[0], np.inf)\n",
        "optimizer.swarm.pbest_cost = np.full(optimizer.swarm.position.shape[0], np.inf)\n",
        "best_cost, best_position = optimizer.optimize(objective_st, iters=max_iterations)\n",
        "\n",
        "pbest_cost = optimizer.swarm.pbest_cost\n",
        "\n",
        "best_positions = []  # Lista para armazenar todas as melhores posições\n",
        "\n",
        "# Loop de iterações do PSO\n",
        "for i in range(max_iterations):\n",
        "    best_cost, best_position = optimizer.optimize(objective_st, iters=1)\n",
        "    pbest_cost = optimizer.swarm.pbest_cost\n",
        "    best_positions.append(best_position)\n",
        "\n",
        "# Converter a lista de melhores posições em um array numpy para facilitar a manipulação\n",
        "best_positions = np.array(best_positions)"
      ],
      "metadata": {
        "colab": {
          "base_uri": "https://localhost:8080/"
        },
        "id": "cePW2Ji6gjmC",
        "outputId": "d906eec0-699c-43ac-8584-6500819c9849"
      },
      "execution_count": 893,
      "outputs": [
        {
          "output_type": "stream",
          "name": "stderr",
          "text": [
            "2023-09-24 20:18:45,049 - pyswarms.single.global_best - INFO - Optimize for 100 iters with {'c1': 0.5, 'c2': 0.3, 'w': 0.9}\n",
            "pyswarms.single.global_best:   8%|▊         |8/100, best_cost=8.87e+10"
          ]
        },
        {
          "output_type": "stream",
          "name": "stdout",
          "text": [
            "\n",
            "=========================================================================\n",
            "\n",
            "Número de ciclos de manutenção: 9 5\n",
            "Tempos para manutenções preventivas: [0, 39, 253, 293, 402, 438, 473, 512, 587, 618]\n",
            "Severidade para cada subsistema: [0.25, 0.75, 0.75, 0.5, 0.5, 0.75, 0.25, 0.5, 0.5]\n",
            "Número de Sisemas: 5\n",
            "Fator:  [0.3296799539643607, 0.3934693402873666, 0.7768698398515702, 0.7768698398515702, 0.6321205588285577, 0.6321205588285577, 0.7768698398515702, 0.3934693402873666, 0.6321205588285577, 0.6321205588285577]\n",
            "Media de falhas:  [0, 28871.743680000003, 255586183.60775813, 315058120.62582785, 366269751.4405991, 374453113.43850714, 432567337.23256785, 521838652.6859293, 593279989.3924382, 1541661267.9228563, 1475974984.4857996]\n",
            "Custo =  170092108650.57782\n",
            "\n",
            "=========================================================================\n",
            "\n",
            "Número de ciclos de manutenção: 9 5\n",
            "Tempos para manutenções preventivas: [0, 6, 48, 82, 223, 302, 444, 474, 539, 671]\n",
            "Severidade para cada subsistema: [0.25, 0.25, 0.25, 0.25, 0.5, 0.5, 0.75, 0.25, 0.5]\n",
            "Número de Sisemas: 5\n",
            "Fator:  [0.3296799539643607, 0.3934693402873666, 0.3934693402873666, 0.3934693402873666, 0.3934693402873666, 0.6321205588285577, 0.6321205588285577, 0.7768698398515702, 0.3934693402873666, 0.6321205588285577]\n",
            "Media de falhas:  [0, 2.4883200000000003, 66067.4889328215, 379824.54075339355, 81063176.42509215, 211061057.95401, 1308444382.8379664, 1357685444.54103, 1557597681.089639, 1876475093.6051047, -326438920.69460225]\n",
            "Custo =  192465024121.69757\n",
            "\n",
            "=========================================================================\n",
            "\n",
            "Número de ciclos de manutenção: 13 5\n",
            "Tempos para manutenções preventivas: [0, 18, 115, 135, 262, 329, 338, 364, 449, 475, 555, 606, 658, 687]\n",
            "Severidade para cada subsistema: [0.25, 0.5, 0.5, 0.5, 0.5, 0.25, 0.25, 0.5, 0.75, 0.75, 0.75, 0.25, 0.5]\n",
            "Número de Sisemas: 5\n",
            "Fator:  [0.3296799539643607, 0.3934693402873666, 0.6321205588285577, 0.6321205588285577, 0.6321205588285577, 0.6321205588285577, 0.3934693402873666, 0.3934693402873666, 0.6321205588285577, 0.7768698398515702, 0.7768698398515702, 0.7768698398515702, 0.3934693402873666, 0.6321205588285577]\n",
            "Media de falhas:  [0, 604.6617600000001, 4938989.70147739, 6274238.392990824, 61243982.184576645, 95838718.95742255, 99423806.8873384, 114491351.59151095, 802053317.4414377, 1078936468.3101304, 1370087825.7045937, 1413046117.9201112, 1472181099.092167, 1504113670.8403955, -1269225175.6021252]\n",
            "Custo =  237522254878.6042\n",
            "\n",
            "=========================================================================\n",
            "\n",
            "Número de ciclos de manutenção: 14 5\n",
            "Tempos para manutenções preventivas: [0, 18, 80, 98, 185, 305, 337, 372, 446, 458, 507, 511, 571, 607, 717]\n",
            "Severidade para cada subsistema: [0.25, 0.25, 0.5, 0.25, 0.75, 0.25, 0.25, 0.5, 0.75, 0.5, 0.5, 0.5, 0.75, 0.75]\n",
            "Número de Sisemas: 5\n",
            "Fator:  [0.3296799539643607, 0.3934693402873666, 0.3934693402873666, 0.6321205588285577, 0.3934693402873666, 0.7768698398515702, 0.3934693402873666, 0.3934693402873666, 0.6321205588285577, 0.7768698398515702, 0.6321205588285577, 0.6321205588285577, 0.6321205588285577, 0.7768698398515702, 0.7768698398515702]\n",
            "Media de falhas:  [0, 604.6617600000001, 713765.6693267577, 1044554.2923227358, 22357187.784283962, 97157113.80317676, 181773964.58853167, 186204115.27565208, 771889500.254079, 884238753.6493218, 996503617.0410476, 997628612.1996406, 1222620099.3400931, 1380378794.8983583, 2518975784.5825996, 2485484742.9929113]\n",
            "Custo =  169150878428.63358\n",
            "\n",
            "=========================================================================\n",
            "\n",
            "Número de ciclos de manutenção: 14 5\n",
            "Tempos para manutenções preventivas: [0, 17, 68, 126, 197, 211, 346, 383, 441, 500, 528, 579, 601, 673, 712]\n",
            "Severidade para cada subsistema: [0.25, 0.25, 0.75, 0.25, 0.5, 0.25, 0.25, 0.5, 0.5, 0.5, 0.25, 0.75, 0.75, 0.75]\n",
            "Número de Sisemas: 5\n",
            "Fator:  [0.3296799539643607, 0.3934693402873666, 0.3934693402873666, 0.7768698398515702, 0.3934693402873666, 0.6321205588285577, 0.3934693402873666, 0.3934693402873666, 0.6321205588285577, 0.6321205588285577, 0.6321205588285577, 0.3934693402873666, 0.7768698398515702, 0.7768698398515702, 0.7768698398515702]\n",
            "Media de falhas:  [0, 454.35424000000006, 303024.4569020785, 3345702.006251347, 24794536.039138805, 24951272.627599552, 416447941.79790723, 444052239.7157818, 887350161.181644, 1636168043.0841594, 1705628163.4852593, 1901011253.1046393, 1990062870.0916817, 5002634000.56529, 5055711345.327178, 5023398907.696816]\n",
            "Custo =  312811730797.21716\n",
            "\n",
            "=========================================================================\n",
            "\n",
            "Número de ciclos de manutenção: 12 5\n",
            "Tempos para manutenções preventivas: [0, 16, 31, 68, 123, 207, 220, 325, 354, 388, 439, 493, 711]\n",
            "Severidade para cada subsistema: [0.25, 0.5, 0.25, 0.75, 0.25, 0.5, 0.75, 0.25, 0.25, 0.5, 0.5, 0.75]\n",
            "Número de Sisemas: 5\n",
            "Fator:  [0.3296799539643607, 0.3934693402873666, 0.6321205588285577, 0.3934693402873666, 0.7768698398515702, 0.3934693402873666, 0.6321205588285577, 0.7768698398515702, 0.3934693402873666, 0.3934693402873666, 0.6321205588285577, 0.6321205588285577, 0.7768698398515702]\n",
            "Media de falhas:  [0, 335.54432, 3895.397458767143, 176290.93191750976, 1222768.0522187916, 32598469.69051307, 32763646.94376433, 265839462.31886536, 281177904.3079121, 286086671.8260363, 671012808.9588741, 1320952489.213914, 4509014478.695526, 4142008410.406576]\n",
            "Custo =  163268871464.85602\n",
            "\n",
            "=========================================================================\n",
            "\n",
            "Número de ciclos de manutenção: 12 5\n",
            "Tempos para manutenções preventivas: [0, 15, 43, 73, 219, 296, 414, 435, 476, 485, 569, 641, 713]\n",
            "Severidade para cada subsistema: [0.25, 0.5, 0.25, 0.5, 0.75, 0.5, 0.5, 0.5, 0.5, 0.25, 0.25, 0.75]\n",
            "Número de Sisemas: 5\n",
            "Fator:  [0.3296799539643607, 0.3934693402873666, 0.6321205588285577, 0.3934693402873666, 0.6321205588285577, 0.7768698398515702, 0.6321205588285577, 0.6321205588285577, 0.6321205588285577, 0.6321205588285577, 0.3934693402873666, 0.3934693402873666, 0.7768698398515702]\n",
            "Media de falhas:  [0, 243.00000000000003, 25748.722393717748, 199396.75914282404, 49576192.14990717, 166507687.0124458, 354027785.42976457, 357869792.6333223, 429344170.4399621, 444349149.6762975, 784730313.0664122, 1220001305.2177627, 5024806241.803121, 1249279246.5417886]\n",
            "Custo =  413599803257.5208\n",
            "\n",
            "=========================================================================\n",
            "\n",
            "Número de ciclos de manutenção: 15 5\n",
            "Tempos para manutenções preventivas: [0, 14, 50, 81, 143, 211, 292, 311, 408, 431, 472, 480, 515, 560, 575, 714]\n",
            "Severidade para cada subsistema: [0.25, 0.5, 0.25, 0.5, 0.5, 0.75, 0.5, 0.5, 0.5, 0.5, 0.5, 0.75, 0.25, 0.5, 0.75]\n",
            "Número de Sisemas: 5\n",
            "Fator:  [0.3296799539643607, 0.3934693402873666, 0.6321205588285577, 0.3934693402873666, 0.6321205588285577, 0.6321205588285577, 0.7768698398515702, 0.6321205588285577, 0.6321205588285577, 0.6321205588285577, 0.6321205588285577, 0.6321205588285577, 0.7768698398515702, 0.3934693402873666, 0.6321205588285577, 0.7768698398515702]\n",
            "Media de falhas:  [0, 172.10368000000003, 61763.86523828777, 331137.8404892794, 2409655.01141442, 29223182.458853338, 60456164.02845886, 66212433.637704246, 106513608.91031009, 131861192.34179048, 201062274.56596124, 213820915.01226306, 294570621.9465631, 443171316.342201, 450605510.78628224, 7633619798.441643, 7256758175.438185]\n",
            "Custo =  268056659979.8451\n",
            "\n",
            "=========================================================================\n",
            "\n",
            "Número de ciclos de manutenção: 13 5\n",
            "Tempos para manutenções preventivas: [0, 14, 55, 85, 208, 243, 293, 403, 428, 478, 511, 560, 597, 687]\n",
            "Severidade para cada subsistema: [0.25, 0.5, 0.25, 0.25, 0.25, 0.75, 0.5, 0.5, 0.5, 0.75, 0.25, 0.75, 0.5]\n",
            "Número de Sisemas: 5\n",
            "Fator:  [0.3296799539643607, 0.3934693402873666, 0.6321205588285577, 0.3934693402873666, 0.3934693402873666, 0.3934693402873666, 0.7768698398515702, 0.6321205588285577, 0.6321205588285577, 0.6321205588285577, 0.7768698398515702, 0.3934693402873666, 0.7768698398515702, 0.6321205588285577]\n",
            "Media de falhas:  [0, 172.10368000000003, 104053.20500992, 417570.0451715436, 28369079.910805266, 52929293.327105716, 126556515.7733669, 700720708.3805027, 705253764.1538948, 797240856.9022491, 870577267.8927153, 1034655919.2776431, 1060561469.9476975, 5112472397.395003, 5085797275.186365]\n",
            "Custo =  245016403702.9688\n",
            "\n",
            "=========================================================================\n",
            "\n",
            "Número de ciclos de manutenção: 13 5\n",
            "Tempos para manutenções preventivas: [0, 13, 43, 85, 93, 142, 202, 261, 297, 387, 406, 430, 482, 651]\n",
            "Severidade para cada subsistema: [0.25, 0.5, 0.25, 0.5, 0.25, 0.25, 0.25, 0.75, 0.25, 0.5, 0.5, 0.5, 0.25]\n",
            "Número de Sisemas: 5\n",
            "Fator:  [0.3296799539643607, 0.3934693402873666, 0.6321205588285577, 0.3934693402873666, 0.6321205588285577, 0.3934693402873666, 0.3934693402873666, 0.3934693402873666, 0.7768698398515702, 0.3934693402873666, 0.6321205588285577, 0.6321205588285577, 0.6321205588285577, 0.3934693402873666]\n",
            "Media de falhas:  [0, 118.81376000000002, 27931.837496368636, 492100.4716022455, 512417.69290484855, 4493620.018583016, 10069026.180666404, 64296031.3718278, 121108817.84990987, 520761122.7723917, 523377646.52073085, 694921056.3892773, 794501711.2187642, 2332541418.339096, 2156571092.216207]\n",
            "Custo =  115512431982.6535\n",
            "\n",
            "=========================================================================\n",
            "\n",
            "Número de ciclos de manutenção: 11 5\n",
            "Tempos para manutenções preventivas: [0, 12, 32, 86, 102, 195, 328, 382, 405, 430, 486, 654]\n",
            "Severidade para cada subsistema: [0.25, 0.5, 0.25, 0.5, 0.25, 0.25, 0.25, 0.5, 0.5, 0.5, 0.75]\n",
            "Número de Sisemas: 5\n",
            "Fator:  [0.3296799539643607, 0.3934693402873666, 0.6321205588285577, 0.3934693402873666, 0.6321205588285577, 0.3934693402873666, 0.3934693402873666, 0.3934693402873666, 0.6321205588285577, 0.6321205588285577, 0.6321205588285577, 0.7768698398515702]\n",
            "Media de falhas:  [0, 79.62624000000001, 5619.417958727484, 686913.2884774958, 755275.83878842, 28970994.852717727, 143476568.41416335, 375082162.91435623, 504383395.72216463, 682845753.3957332, 795402434.6030853, 2341957446.5214863, 2156370820.7364426]\n",
            "Custo =  131532825195.15173\n",
            "\n",
            "=========================================================================\n",
            "\n",
            "Número de ciclos de manutenção: 8 5\n",
            "Tempos para manutenções preventivas: [0, 10, 86, 108, 190, 379, 398, 430, 488]\n",
            "Severidade para cada subsistema: [0.25, 0.25, 0.5, 0.25, 0.25, 0.5, 0.5, 0.5]\n",
            "Número de Sisemas: 5\n",
            "Fator:  [0.3296799539643607, 0.3934693402873666, 0.3934693402873666, 0.6321205588285577, 0.3934693402873666, 0.3934693402873666, 0.6321205588285577, 0.6321205588285577, 0.6321205588285577]\n",
            "Media de falhas:  [0, 32.0, 1238144.307010946, 1832447.4674580735, 23791903.15784649, 395466151.0900347, 495594196.7103871, 722081193.6686357, 841499740.6965325, 1455625722.2571516]\n",
            "Custo =  88669843024.34023\n",
            "\n",
            "=========================================================================\n",
            "\n",
            "Número de ciclos de manutenção: 11 5\n",
            "Tempos para manutenções preventivas: [0, 9, 87, 111, 187, 313, 377, 430, 489, 549, 597, 675]\n",
            "Severidade para cada subsistema: [0.25, 0.25, 0.5, 0.25, 0.5, 0.25, 0.5, 0.5, 0.5, 0.75, 0.25]\n",
            "Número de Sisemas: 5\n",
            "Fator:  [0.3296799539643607, 0.3934693402873666, 0.3934693402873666, 0.6321205588285577, 0.3934693402873666, 0.6321205588285577, 0.3934693402873666, 0.6321205588285577, 0.6321205588285577, 0.6321205588285577, 0.7768698398515702, 0.3934693402873666]\n",
            "Media de falhas:  [0, 18.895680000000002, 1340915.840078227, 2063204.4410260818, 20974031.04126361, 110228368.77424438, 368593653.2175955, 434996713.60483027, 1119374238.5549765, 1313324210.9860399, 1518078213.7730029, 2101857650.5781834, 2077848074.6381218]\n",
            "Custo =  132786540175.46074\n",
            "\n",
            "=========================================================================\n",
            "\n",
            "Número de ciclos de manutenção: 11 5\n",
            "Tempos para manutenções preventivas: [0, 8, 88, 112, 186, 243, 377, 429, 489, 556, 599, 654]\n",
            "Severidade para cada subsistema: [0.25, 0.25, 0.5, 0.25, 0.5, 0.25, 0.5, 0.5, 0.5, 0.75, 0.5]\n",
            "Número de Sisemas: 5\n",
            "Fator:  [0.3296799539643607, 0.3934693402873666, 0.3934693402873666, 0.6321205588285577, 0.3934693402873666, 0.6321205588285577, 0.3934693402873666, 0.6321205588285577, 0.6321205588285577, 0.6321205588285577, 0.7768698398515702, 0.6321205588285577]\n",
            "Media de falhas:  [0, 10.48576, 1450406.9009848784, 2199238.3869096674, 20167067.257017866, 29620067.570450105, 571871701.0257145, 636136840.639952, 1331585377.2013302, 1564856867.0763497, 1747722421.62792, 2088038530.91858, 2068963925.8179681]\n",
            "Custo =  126425859332.52063\n",
            "\n",
            "=========================================================================\n",
            "\n",
            "Número de ciclos de manutenção: 9 5\n",
            "Tempos para manutenções preventivas: [0, 8, 110, 190, 242, 378, 428, 489, 552, 576]\n",
            "Severidade para cada subsistema: [0.25, 0.5, 0.25, 0.5, 0.25, 0.5, 0.5, 0.5, 0.75]\n",
            "Número de Sisemas: 5\n",
            "Fator:  [0.3296799539643607, 0.3934693402873666, 0.6321205588285577, 0.3934693402873666, 0.6321205588285577, 0.3934693402873666, 0.6321205588285577, 0.6321205588285577, 0.6321205588285577, 0.7768698398515702]\n",
            "Media de falhas:  [0, 10.48576, 4564730.485553945, 25897365.663477857, 33975735.44718811, 590798300.726748, 651450169.216245, 1357960768.639331, 1568210222.9615324, 1650879219.58823, 1747935804.3954806]\n",
            "Custo =  112728343228.4204\n"
          ]
        },
        {
          "output_type": "stream",
          "name": "stderr",
          "text": [
            "pyswarms.single.global_best:  24%|██▍       |24/100, best_cost=8.87e+10"
          ]
        },
        {
          "output_type": "stream",
          "name": "stdout",
          "text": [
            "\n",
            "=========================================================================\n",
            "\n",
            "Número de ciclos de manutenção: 11 5\n",
            "Tempos para manutenções preventivas: [0, 9, 105, 194, 299, 318, 380, 427, 488, 542, 582, 681]\n",
            "Severidade para cada subsistema: [0.25, 0.5, 0.25, 0.75, 0.5, 0.25, 0.5, 0.5, 0.5, 0.75, 0.25]\n",
            "Número de Sisemas: 5\n",
            "Fator:  [0.3296799539643607, 0.3934693402873666, 0.6321205588285577, 0.3934693402873666, 0.7768698398515702, 0.6321205588285577, 0.3934693402873666, 0.6321205588285577, 0.6321205588285577, 0.6321205588285577, 0.7768698398515702, 0.3934693402873666]\n",
            "Media de falhas:  [0, 18.895680000000002, 3538773.112058463, 29758270.98532023, 83773797.49916467, 124307273.37774454, 137026467.97858876, 192714644.5353987, 893398769.3263987, 1055963993.4809372, 1206700140.8331974, 2025677883.1691015, 2000330770.5308292]\n",
            "Custo =  124880674455.50175\n",
            "\n",
            "=========================================================================\n",
            "\n",
            "Número de ciclos de manutenção: 12 5\n",
            "Tempos para manutenções preventivas: [0, 10, 99, 122, 198, 298, 383, 396, 428, 486, 646, 685, 716]\n",
            "Severidade para cada subsistema: [0.25, 0.5, 0.5, 0.25, 0.75, 0.25, 0.5, 0.5, 0.5, 0.5, 0.25, 0.5]\n",
            "Número de Sisemas: 5\n",
            "Fator:  [0.3296799539643607, 0.3934693402873666, 0.6321205588285577, 0.6321205588285577, 0.3934693402873666, 0.7768698398515702, 0.3934693402873666, 0.6321205588285577, 0.6321205588285577, 0.6321205588285577, 0.6321205588285577, 0.3934693402873666, 0.6321205588285577]\n",
            "Media de falhas:  [0, 32.0, 2569135.2212193143, 3583367.3177269455, 11784434.899950422, 60488027.52265938, 422874311.885242, 424376615.5859638, 646640372.7598367, 764235200.7824917, 2134008309.7208705, 2410002888.931244, 2665665732.9388657, -1232073712.534266]\n",
            "Custo =  286025350272.89075\n",
            "\n",
            "=========================================================================\n",
            "\n",
            "Número de ciclos de manutenção: 13 5\n",
            "Tempos para manutenções preventivas: [0, 11, 33, 89, 96, 148, 199, 299, 384, 399, 430, 485, 676, 716]\n",
            "Severidade para cada subsistema: [0.25, 0.5, 0.25, 0.5, 0.75, 0.25, 0.75, 0.25, 0.5, 0.5, 0.5, 0.5, 0.25]\n",
            "Número de Sisemas: 5\n",
            "Fator:  [0.3296799539643607, 0.3934693402873666, 0.6321205588285577, 0.3934693402873666, 0.6321205588285577, 0.7768698398515702, 0.3934693402873666, 0.7768698398515702, 0.3934693402873666, 0.6321205588285577, 0.6321205588285577, 0.6321205588285577, 0.6321205588285577, 0.3934693402873666]\n",
            "Media de falhas:  [0, 51.53632, 7041.853421066475, 818210.3448986814, 837892.1781290347, 5830731.257565933, 9849238.036306566, 29886300.675237842, 396091965.2691899, 397924842.65787804, 617592502.8271858, 726813026.3175914, 2870666396.3459806, 3207916561.743523, 2824448390.262087]\n",
            "Custo =  147426212809.48413\n",
            "\n",
            "=========================================================================\n",
            "\n",
            "Número de ciclos de manutenção: 12 5\n",
            "Tempos para manutenções preventivas: [0, 11, 34, 89, 93, 141, 199, 316, 385, 400, 431, 486, 688]\n",
            "Severidade para cada subsistema: [0.25, 0.5, 0.25, 0.5, 0.25, 0.25, 0.25, 0.25, 0.5, 0.5, 0.5, 0.75]\n",
            "Número de Sisemas: 5\n",
            "Fator:  [0.3296799539643607, 0.3934693402873666, 0.6321205588285577, 0.3934693402873666, 0.6321205588285577, 0.3934693402873666, 0.3934693402873666, 0.3934693402873666, 0.3934693402873666, 0.6321205588285577, 0.6321205588285577, 0.6321205588285577, 0.7768698398515702]\n",
            "Media de falhas:  [0, 51.53632, 8316.849552907059, 798516.0013297274, 807900.9696102854, 4595298.99814832, 9598619.393771615, 244225517.6376325, 546541552.1306759, 627679288.9668323, 849416405.3269756, 959486686.6411844, 3462998080.3685174, 3169885038.45032]\n",
            "Custo =  147426869949.76205\n",
            "\n",
            "=========================================================================\n",
            "\n",
            "Número de ciclos de manutenção: 12 5\n",
            "Tempos para manutenções preventivas: [0, 11, 33, 88, 92, 196, 327, 385, 399, 431, 486, 648, 702]\n",
            "Severidade para cada subsistema: [0.25, 0.5, 0.25, 0.5, 0.25, 0.25, 0.25, 0.5, 0.5, 0.5, 0.25, 0.25]\n",
            "Número de Sisemas: 5\n",
            "Fator:  [0.3296799539643607, 0.3934693402873666, 0.6321205588285577, 0.3934693402873666, 0.6321205588285577, 0.3934693402873666, 0.3934693402873666, 0.3934693402873666, 0.6321205588285577, 0.6321205588285577, 0.6321205588285577, 0.3934693402873666, 0.3934693402873666]\n",
            "Media de falhas:  [0, 51.53632, 7041.853421066475, 766174.4845231815, 775169.4833905108, 33948143.93111141, 143922227.30295876, 399868433.10601306, 474952337.0435965, 703573410.3222524, 813643691.6364613, 2226074443.115654, 2663528904.0379386, -675873001.4141016]\n",
            "Custo =  278621924205.7593\n",
            "\n",
            "=========================================================================\n",
            "\n",
            "Número de ciclos de manutenção: 12 5\n",
            "Tempos para manutenções preventivas: [0, 11, 88, 94, 139, 192, 385, 394, 431, 486, 540, 580, 682]\n",
            "Severidade para cada subsistema: [0.25, 0.25, 0.5, 0.25, 0.25, 0.25, 0.5, 0.5, 0.5, 0.5, 0.25, 0.5]\n",
            "Número de Sisemas: 5\n",
            "Fator:  [0.3296799539643607, 0.3934693402873666, 0.3934693402873666, 0.6321205588285577, 0.3934693402873666, 0.3934693402873666, 0.3934693402873666, 0.6321205588285577, 0.6321205588285577, 0.6321205588285577, 0.6321205588285577, 0.3934693402873666, 0.6321205588285577]\n",
            "Media de falhas:  [0, 51.53632, 1368342.9989866042, 1465855.8011349868, 4808543.2057107175, 8615332.947761282, 909853373.9699817, 956100537.6544422, 1218953340.2550216, 1329023621.5692303, 1489322674.0841749, 1638063325.5482175, 2494823466.0483446, -96715852.3203435]\n",
            "Custo =  263138033909.27344\n",
            "\n",
            "=========================================================================\n",
            "\n",
            "Número de ciclos de manutenção: 12 5\n",
            "Tempos para manutenções preventivas: [0, 10, 88, 103, 128, 189, 323, 383, 431, 487, 554, 688, 707]\n",
            "Severidade para cada subsistema: [0.25, 0.25, 0.5, 0.75, 0.25, 0.5, 0.25, 0.5, 0.5, 0.5, 0.75, 0.5]\n",
            "Número de Sisemas: 5\n",
            "Fator:  [0.3296799539643607, 0.3934693402873666, 0.3934693402873666, 0.6321205588285577, 0.7768698398515702, 0.3934693402873666, 0.6321205588285577, 0.3934693402873666, 0.6321205588285577, 0.6321205588285577, 0.6321205588285577, 0.7768698398515702, 0.6321205588285577]\n",
            "Media de falhas:  [0, 32.0, 1395268.185903764, 1734867.0751251383, 3069104.051277169, 7716180.4616276715, 61977204.591746524, 320851024.56081295, 380045172.932649, 1020447238.4200249, 1250593412.9896421, 2545682184.4739, 2690624393.484516, 2659468593.748482]\n",
            "Custo =  154312454460.33865\n",
            "\n",
            "=========================================================================\n",
            "\n",
            "Número de ciclos de manutenção: 10 5\n",
            "Tempos para manutenções preventivas: [0, 10, 89, 112, 188, 379, 429, 488, 559, 659, 714]\n",
            "Severidade para cada subsistema: [0.25, 0.25, 0.5, 0.25, 0.25, 0.5, 0.5, 0.5, 0.5, 0.5]\n",
            "Número de Sisemas: 5\n",
            "Fator:  [0.3296799539643607, 0.3934693402873666, 0.3934693402873666, 0.6321205588285577, 0.3934693402873666, 0.3934693402873666, 0.6321205588285577, 0.6321205588285577, 0.6321205588285577, 0.6321205588285577, 0.6321205588285577]\n",
            "Media de falhas:  [0, 32.0, 1479596.521152482, 2198034.573699242, 21501546.741750192, 402380294.07705617, 746480595.2403469, 1425214314.4847326, 1681337593.0514767, 2417207635.047596, 2894116788.982126, 2517255165.9786677]\n",
            "Custo =  174508035093.39334\n",
            "\n",
            "=========================================================================\n",
            "\n",
            "Número de ciclos de manutenção: 11 5\n",
            "Tempos para manutenções preventivas: [0, 10, 89, 117, 135, 189, 377, 427, 488, 554, 593, 697]\n",
            "Severidade para cada subsistema: [0.25, 0.25, 0.5, 0.75, 0.25, 0.25, 0.5, 0.5, 0.5, 0.25, 0.5]\n",
            "Número de Sisemas: 5\n",
            "Fator:  [0.3296799539643607, 0.3934693402873666, 0.3934693402873666, 0.6321205588285577, 0.7768698398515702, 0.3934693402873666, 0.3934693402873666, 0.6321205588285577, 0.6321205588285577, 0.6321205588285577, 0.3934693402873666, 0.6321205588285577]\n",
            "Media de falhas:  [0, 32.0, 1479596.521152482, 2517929.1319809966, 3725331.1625600583, 7459400.851707203, 214149174.29226175, 551806425.31553, 1252490550.10653, 1478333454.916441, 1635861710.886775, 2588098774.6938453, -559061322.684185]\n",
            "Custo =  274373399428.51633\n",
            "\n",
            "=========================================================================\n",
            "\n",
            "Número de ciclos de manutenção: 11 5\n",
            "Tempos para manutenções preventivas: [0, 10, 117, 121, 190, 377, 426, 488, 544, 584, 641, 712]\n",
            "Severidade para cada subsistema: [0.25, 0.5, 0.5, 0.25, 0.25, 0.5, 0.5, 0.5, 0.5, 0.5, 0.25]\n",
            "Número de Sisemas: 5\n",
            "Fator:  [0.3296799539643607, 0.3934693402873666, 0.6321205588285577, 0.6321205588285577, 0.3934693402873666, 0.3934693402873666, 0.6321205588285577, 0.6321205588285577, 0.6321205588285577, 0.6321205588285577, 0.6321205588285577, 0.3934693402873666]\n",
            "Media de falhas:  [0, 32.0, 6081565.660708743, 6263229.6140424665, 12238256.86372974, 369756235.0219813, 697834614.3322147, 1409481083.729074, 1581727382.951701, 1734479092.6498182, 2063050685.483457, 2699688946.3450656, 2329404697.309197]\n",
            "Custo =  180824946649.67993\n",
            "\n",
            "=========================================================================\n",
            "\n",
            "Número de ciclos de manutenção: 10 5\n",
            "Tempos para manutenções preventivas: [0, 10, 112, 195, 314, 380, 426, 488, 582, 667, 694]\n",
            "Severidade para cada subsistema: [0.25, 0.5, 0.25, 0.5, 0.25, 0.5, 0.5, 0.75, 0.25, 0.25]\n",
            "Número de Sisemas: 5\n",
            "Fator:  [0.3296799539643607, 0.3934693402873666, 0.6321205588285577, 0.3934693402873666, 0.6321205588285577, 0.3934693402873666, 0.6321205588285577, 0.6321205588285577, 0.7768698398515702, 0.3934693402873666, 0.3934693402873666]\n",
            "Media de falhas:  [0, 32.0, 4856955.301763301, 29457927.05304846, 109632804.82434653, 384404878.5680886, 438165869.88776493, 1149812339.284624, 1580072217.950653, 2202175918.5955486, 2232586589.041316, -800959209.4742947]\n",
            "Custo =  252488160186.58258\n",
            "\n",
            "=========================================================================\n",
            "\n",
            "Número de ciclos de manutenção: 10 5\n",
            "Tempos para manutenções preventivas: [0, 10, 32, 103, 200, 298, 383, 426, 487, 667, 695]\n",
            "Severidade para cada subsistema: [0.25, 0.5, 0.5, 0.25, 0.75, 0.25, 0.5, 0.5, 0.5, 0.25]\n",
            "Número de Sisemas: 5\n",
            "Fator:  [0.3296799539643607, 0.3934693402873666, 0.6321205588285577, 0.6321205588285577, 0.3934693402873666, 0.7768698398515702, 0.3934693402873666, 0.6321205588285577, 0.6321205588285577, 0.6321205588285577, 0.3934693402873666]\n",
            "Media de falhas:  [0, 32.0, 6262.1688321841875, 1938273.963210697, 16204660.289984215, 63095441.701405525, 425481726.06398815, 435216738.78073, 1130110630.2407014, 2983423181.616198, 3187370653.654484, 2872015878.308506]\n",
            "Custo =  149736245819.59073\n",
            "\n",
            "=========================================================================\n",
            "\n",
            "Número de ciclos de manutenção: 14 5\n",
            "Tempos para manutenções preventivas: [0, 11, 34, 89, 97, 121, 201, 299, 325, 384, 397, 427, 486, 688, 690]\n",
            "Severidade para cada subsistema: [0.25, 0.5, 0.25, 0.5, 0.75, 0.25, 0.75, 0.25, 0.25, 0.5, 0.5, 0.5, 0.75, 0.25]\n",
            "Número de Sisemas: 5\n",
            "Fator:  [0.3296799539643607, 0.3934693402873666, 0.6321205588285577, 0.3934693402873666, 0.6321205588285577, 0.7768698398515702, 0.3934693402873666, 0.7768698398515702, 0.3934693402873666, 0.3934693402873666, 0.6321205588285577, 0.6321205588285577, 0.6321205588285577, 0.7768698398515702, 0.3934693402873666]\n",
            "Media de falhas:  [0, 51.53632, 8316.849552907059, 798516.0013297274, 822394.8520952318, 1844728.2441191794, 11365829.205951847, 30342131.45093828, 90228219.5040362, 102177602.95497946, 170609120.68239307, 377514282.87387973, 497661353.0301968, 3001172746.7575297, 3014513775.104845, 2987174973.6202874]\n",
            "Custo =  145775594968.41013\n",
            "\n",
            "=========================================================================\n",
            "\n",
            "Número de ciclos de manutenção: 13 5\n",
            "Tempos para manutenções preventivas: [0, 11, 33, 88, 96, 202, 327, 384, 407, 429, 486, 580, 636, 705]\n",
            "Severidade para cada subsistema: [0.25, 0.5, 0.25, 0.5, 0.25, 0.25, 0.25, 0.5, 0.5, 0.5, 0.75, 0.5, 0.25]\n",
            "Número de Sisemas: 5\n",
            "Fator:  [0.3296799539643607, 0.3934693402873666, 0.6321205588285577, 0.3934693402873666, 0.6321205588285577, 0.3934693402873666, 0.3934693402873666, 0.3934693402873666, 0.6321205588285577, 0.6321205588285577, 0.6321205588285577, 0.7768698398515702, 0.6321205588285577, 0.3934693402873666]\n",
            "Media de falhas:  [0, 51.53632, 7041.853421066475, 766174.4845231815, 789122.0594883285, 38802105.81433541, 138726849.83474332, 387818698.8811937, 519713312.00105035, 675899647.4914777, 790964428.6007388, 1215883102.0872812, 1528196873.0467467, 1643329529.692268, 1295856528.1477199]\n",
            "Custo =  141891774949.9618\n",
            "\n",
            "=========================================================================\n",
            "\n",
            "Número de ciclos de manutenção: 9 5\n",
            "Tempos para manutenções preventivas: [0, 10, 87, 100, 201, 384, 406, 430, 486, 574]\n",
            "Severidade para cada subsistema: [0.25, 0.25, 0.5, 0.25, 0.25, 0.5, 0.5, 0.5, 0.5]\n",
            "Número de Sisemas: 5\n",
            "Fator:  [0.3296799539643607, 0.3934693402873666, 0.3934693402873666, 0.6321205588285577, 0.3934693402873666, 0.3934693402873666, 0.6321205588285577, 0.6321205588285577, 0.6321205588285577, 0.6321205588285577]\n",
            "Media de falhas:  [0, 32.0, 1314829.493268646, 1577665.6323200548, 36638979.99624764, 394308830.2613697, 519394813.05398184, 690938222.9225283, 803494904.1298804, 1177541648.7106404, 1283286681.2757752]\n",
            "Custo =  101999503459.39189\n",
            "\n",
            "=========================================================================\n",
            "\n",
            "Número de ciclos de manutenção: 11 5\n",
            "Tempos para manutenções preventivas: [0, 10, 87, 104, 135, 196, 383, 399, 432, 487, 588, 649]\n",
            "Severidade para cada subsistema: [0.25, 0.25, 0.5, 0.25, 0.25, 0.25, 0.5, 0.5, 0.5, 0.25, 0.75]\n",
            "Número de Sisemas: 5\n",
            "Fator:  [0.3296799539643607, 0.3934693402873666, 0.3934693402873666, 0.6321205588285577, 0.3934693402873666, 0.3934693402873666, 0.3934693402873666, 0.6321205588285577, 0.6321205588285577, 0.6321205588285577, 0.3934693402873666, 0.7768698398515702]\n",
            "Media de falhas:  [0, 32.0, 1314829.493268646, 1712884.9909768305, 3751706.1259396775, 8966025.073346559, 858219399.505853, 943770530.1889275, 1181476678.991733, 1292401701.3937252, 1785618128.3183246, 2158875118.933377, 690340890.5685542]\n"
          ]
        },
        {
          "output_type": "stream",
          "name": "stderr",
          "text": [
            "pyswarms.single.global_best:  40%|████      |40/100, best_cost=8.87e+10"
          ]
        },
        {
          "output_type": "stream",
          "name": "stdout",
          "text": [
            "Custo =  241090279697.74512\n",
            "\n",
            "=========================================================================\n",
            "\n",
            "Número de ciclos de manutenção: 10 5\n",
            "Tempos para manutenções preventivas: [0, 10, 87, 108, 190, 313, 382, 432, 488, 544, 598]\n",
            "Severidade para cada subsistema: [0.25, 0.25, 0.5, 0.25, 0.5, 0.25, 0.5, 0.5, 0.5, 0.25]\n",
            "Número de Sisemas: 5\n",
            "Fator:  [0.3296799539643607, 0.3934693402873666, 0.3934693402873666, 0.6321205588285577, 0.3934693402873666, 0.6321205588285577, 0.3934693402873666, 0.6321205588285577, 0.6321205588285577, 0.6321205588285577, 0.3934693402873666]\n",
            "Media de falhas:  [0, 32.0, 1314829.493268646, 1882936.8852184156, 23842392.575606834, 108771562.90224135, 401688265.19770133, 464496046.97694683, 1110233736.6120732, 1282480035.8347, 1518911635.6479182, 1526544248.4653606]\n",
            "Custo =  117221050046.02734\n",
            "\n",
            "=========================================================================\n",
            "\n",
            "Número de ciclos de manutenção: 12 5\n",
            "Tempos para manutenções preventivas: [0, 10, 87, 111, 187, 322, 381, 431, 488, 547, 570, 647, 719]\n",
            "Severidade para cada subsistema: [0.25, 0.25, 0.5, 0.25, 0.5, 0.25, 0.5, 0.5, 0.5, 0.5, 0.5, 0.75]\n",
            "Número de Sisemas: 5\n",
            "Fator:  [0.3296799539643607, 0.3934693402873666, 0.3934693402873666, 0.6321205588285577, 0.3934693402873666, 0.6321205588285577, 0.3934693402873666, 0.6321205588285577, 0.6321205588285577, 0.6321205588285577, 0.6321205588285577, 0.6321205588285577, 0.7768698398515702]\n",
            "Media de falhas:  [0, 32.0, 1314829.493268646, 2037118.0942165009, 20947944.69445403, 132941592.56411429, 382349295.22196126, 444612757.72313774, 1101359060.0930777, 1288756797.8898954, 1364561287.050515, 1854586252.8836877, 2526530039.972271, 2133094329.512976]\n",
            "Custo =  174378970303.81274\n",
            "\n",
            "=========================================================================\n",
            "\n",
            "Número de ciclos de manutenção: 11 5\n",
            "Tempos para manutenções preventivas: [0, 10, 87, 112, 187, 321, 381, 429, 488, 549, 654, 666]\n",
            "Severidade para cada subsistema: [0.25, 0.25, 0.5, 0.25, 0.5, 0.25, 0.5, 0.5, 0.5, 0.25, 0.75]\n",
            "Número de Sisemas: 5\n",
            "Fator:  [0.3296799539643607, 0.3934693402873666, 0.3934693402873666, 0.6321205588285577, 0.3934693402873666, 0.6321205588285577, 0.3934693402873666, 0.6321205588285577, 0.6321205588285577, 0.6321205588285577, 0.3934693402873666, 0.7768698398515702]\n",
            "Media de falhas:  [0, 32.0, 1314829.493268646, 2094155.3733580098, 20720481.65513527, 129981260.43610303, 383433201.1740254, 441599243.92349523, 1120332963.1678808, 1318264128.8486357, 2082899507.5323682, 2153978170.0479274, 122798815.59727669]\n",
            "Custo =  261110465344.0655\n",
            "\n",
            "=========================================================================\n",
            "\n",
            "Número de ciclos de manutenção: 14 5\n",
            "Tempos para manutenções preventivas: [0, 10, 87, 109, 126, 189, 298, 317, 380, 427, 487, 545, 647, 678, 690]\n",
            "Severidade para cada subsistema: [0.25, 0.25, 0.5, 0.75, 0.25, 0.75, 0.5, 0.25, 0.5, 0.5, 0.5, 0.25, 0.5, 0.5]\n",
            "Número de Sisemas: 5\n",
            "Fator:  [0.3296799539643607, 0.3934693402873666, 0.3934693402873666, 0.6321205588285577, 0.7768698398515702, 0.3934693402873666, 0.7768698398515702, 0.6321205588285577, 0.3934693402873666, 0.6321205588285577, 0.6321205588285577, 0.6321205588285577, 0.3934693402873666, 0.6321205588285577, 0.6321205588285577]\n",
            "Media de falhas:  [0, 32.0, 1314829.493268646, 1931619.0833983591, 2796474.1092771213, 7731796.671105832, 32953051.16805041, 72974976.74361412, 86096141.12574536, 141784317.6825553, 825798138.0807072, 1006801141.7229595, 1713597570.3256798, 1920018071.5009506, 2502086066.579332, 2202633795.144881]\n",
            "Custo =  335388989426.91626\n",
            "\n",
            "=========================================================================\n",
            "\n",
            "Número de ciclos de manutenção: 12 5\n",
            "Tempos para manutenções preventivas: [0, 11, 88, 106, 194, 296, 304, 381, 426, 487, 651, 670, 711]\n",
            "Severidade para cada subsistema: [0.25, 0.25, 0.5, 0.25, 0.75, 0.5, 0.25, 0.5, 0.5, 0.25, 0.25, 0.75]\n",
            "Número de Sisemas: 5\n",
            "Fator:  [0.3296799539643607, 0.3934693402873666, 0.3934693402873666, 0.6321205588285577, 0.3934693402873666, 0.7768698398515702, 0.6321205588285577, 0.3934693402873666, 0.6321205588285577, 0.6321205588285577, 0.3934693402873666, 0.3934693402873666, 0.7768698398515702]\n",
            "Media de falhas:  [0, 51.53632, 1368342.9989866042, 1822472.3790257485, 27685301.908746716, 77211797.56005417, 91748963.1596902, 111681735.180843, 164019750.22687322, 858913641.6868446, 2322555892.4315944, 2439737814.9271097, 4628043361.43114, 933199206.0373096]\n",
            "Custo =  468822179802.76526\n",
            "\n",
            "=========================================================================\n",
            "\n",
            "Número de ciclos de manutenção: 12 5\n",
            "Tempos para manutenções preventivas: [0, 11, 32, 88, 103, 198, 296, 383, 398, 425, 486, 592, 708]\n",
            "Severidade para cada subsistema: [0.25, 0.5, 0.25, 0.5, 0.25, 0.75, 0.25, 0.5, 0.5, 0.5, 0.75, 0.75]\n",
            "Número de Sisemas: 5\n",
            "Fator:  [0.3296799539643607, 0.3934693402873666, 0.6321205588285577, 0.3934693402873666, 0.6321205588285577, 0.3934693402873666, 0.7768698398515702, 0.3934693402873666, 0.6321205588285577, 0.6321205588285577, 0.6321205588285577, 0.7768698398515702, 0.7768698398515702]\n",
            "Media de falhas:  [0, 51.53632, 5929.150211715679, 785354.4811889635, 850328.1631024522, 31532550.752231337, 77445670.8172118, 448192660.65741533, 450008156.98816437, 633403331.496342, 758722470.4710412, 1299734791.2269216, 2468767521.382038, 2437381996.427152]\n",
            "Custo =  118046761709.0535\n",
            "\n",
            "=========================================================================\n",
            "\n",
            "Número de ciclos de manutenção: 13 5\n",
            "Tempos para manutenções preventivas: [0, 11, 34, 88, 101, 134, 200, 299, 384, 402, 427, 487, 591, 683]\n",
            "Severidade para cada subsistema: [0.25, 0.5, 0.25, 0.5, 0.5, 0.25, 0.75, 0.25, 0.5, 0.5, 0.5, 0.5, 0.25]\n",
            "Número de Sisemas: 5\n",
            "Fator:  [0.3296799539643607, 0.3934693402873666, 0.6321205588285577, 0.3934693402873666, 0.6321205588285577, 0.6321205588285577, 0.3934693402873666, 0.7768698398515702, 0.3934693402873666, 0.6321205588285577, 0.6321205588285577, 0.6321205588285577, 0.6321205588285577, 0.3934693402873666]\n",
            "Media de falhas:  [0, 51.53632, 8316.849552907059, 747556.1669230708, 797717.3229394205, 2902747.665521576, 9329153.308284722, 57622772.31483347, 423828436.9087855, 426184825.1112716, 599679949.9389439, 723347762.6914358, 1246774128.3155184, 1998862348.2048357, 1721556432.0940003]\n",
            "Custo =  122623544035.21388\n",
            "\n",
            "=========================================================================\n",
            "\n",
            "Número de ciclos de manutenção: 11 5\n",
            "Tempos para manutenções preventivas: [0, 10, 33, 87, 101, 148, 199, 383, 403, 429, 488, 669]\n",
            "Severidade para cada subsistema: [0.25, 0.5, 0.25, 0.5, 0.75, 0.25, 0.25, 0.5, 0.5, 0.5, 0.5]\n",
            "Número de Sisemas: 5\n",
            "Fator:  [0.3296799539643607, 0.3934693402873666, 0.6321205588285577, 0.3934693402873666, 0.6321205588285577, 0.7768698398515702, 0.3934693402873666, 0.3934693402873666, 0.6321205588285577, 0.6321205588285577, 0.6321205588285577, 0.6321205588285577]\n",
            "Media de falhas:  [0, 32.0, 7426.553114642113, 717225.2395086203, 772426.2164528391, 5254986.000827154, 9273492.779567787, 208128921.77445257, 318803975.2306009, 502437693.21762466, 624445321.9625974, 2513844625.0295854, 2280671892.2892113]\n",
            "Custo =  119019261309.32076\n",
            "\n",
            "=========================================================================\n",
            "\n",
            "Número de ciclos de manutenção: 11 5\n",
            "Tempos para manutenções preventivas: [0, 10, 32, 87, 103, 121, 196, 381, 397, 430, 488, 650]\n",
            "Severidade para cada subsistema: [0.25, 0.5, 0.25, 0.5, 0.25, 0.25, 0.25, 0.5, 0.5, 0.5, 0.75]\n",
            "Número de Sisemas: 5\n",
            "Fator:  [0.3296799539643607, 0.3934693402873666, 0.6321205588285577, 0.3934693402873666, 0.6321205588285577, 0.3934693402873666, 0.3934693402873666, 0.3934693402873666, 0.6321205588285577, 0.6321205588285577, 0.6321205588285577, 0.7768698398515702]\n",
            "Media de falhas:  [0, 32.0, 6262.1688321841875, 735303.3147080668, 806140.7379615498, 1581552.2114624153, 9328117.251894856, 830932766.0564802, 914771342.4091756, 1148064804.4000895, 1267483351.4279861, 2694648138.588789, 2521893400.1430445]\n",
            "Custo =  124954182955.02043\n",
            "\n",
            "=========================================================================\n",
            "\n",
            "Número de ciclos de manutenção: 11 5\n",
            "Tempos para manutenções preventivas: [0, 10, 30, 86, 106, 194, 301, 379, 431, 488, 589, 665]\n",
            "Severidade para cada subsistema: [0.25, 0.5, 0.25, 0.5, 0.25, 0.5, 0.25, 0.5, 0.5, 0.5, 0.75]\n",
            "Número de Sisemas: 5\n",
            "Fator:  [0.3296799539643607, 0.3934693402873666, 0.6321205588285577, 0.3934693402873666, 0.6321205588285577, 0.3934693402873666, 0.6321205588285577, 0.3934693402873666, 0.6321205588285577, 0.6321205588285577, 0.6321205588285577, 0.7768698398515702]\n",
            "Media de falhas:  [0, 32.0, 4372.436942997232, 723266.1114802791, 830607.8009032244, 26693437.33062419, 83876230.67759646, 403334460.2108024, 468728039.86783475, 1125474342.2377746, 1621717448.2049785, 2156133824.2775064, 1935592439.322629]\n",
            "Custo =  132239313355.29588\n",
            "\n",
            "=========================================================================\n",
            "\n",
            "Número de ciclos de manutenção: 12 5\n",
            "Tempos para manutenções preventivas: [0, 10, 87, 108, 191, 315, 378, 430, 488, 540, 586, 660, 698]\n",
            "Severidade para cada subsistema: [0.25, 0.25, 0.5, 0.25, 0.5, 0.25, 0.5, 0.5, 0.5, 0.75, 0.75, 0.75]\n",
            "Número de Sisemas: 5\n",
            "Fator:  [0.3296799539643607, 0.3934693402873666, 0.3934693402873666, 0.6321205588285577, 0.3934693402873666, 0.6321205588285577, 0.3934693402873666, 0.6321205588285577, 0.6321205588285577, 0.6321205588285577, 0.7768698398515702, 0.7768698398515702, 0.7768698398515702]\n",
            "Media de falhas:  [0, 32.0, 1314829.493268646, 1882936.8852184156, 24610176.6465887, 112598625.03635882, 369828200.8782326, 434655704.6821481, 1102400546.6499057, 1255610725.2890253, 1437099580.9025838, 1939694455.4507139, 1987373538.8168578, 1958255313.256885]\n",
            "Custo =  132421966361.47923\n",
            "\n",
            "=========================================================================\n",
            "\n",
            "Número de ciclos de manutenção: 12 5\n",
            "Tempos para manutenções preventivas: [0, 10, 88, 109, 191, 316, 379, 428, 487, 542, 653, 688, 696]\n",
            "Severidade para cada subsistema: [0.25, 0.25, 0.5, 0.25, 0.5, 0.25, 0.5, 0.5, 0.5, 0.5, 0.5, 0.5]\n",
            "Número de Sisemas: 5\n",
            "Fator:  [0.3296799539643607, 0.3934693402873666, 0.3934693402873666, 0.6321205588285577, 0.3934693402873666, 0.6321205588285577, 0.3934693402873666, 0.6321205588285577, 0.6321205588285577, 0.6321205588285577, 0.6321205588285577, 0.6321205588285577, 0.6321205588285577]\n",
            "Media de falhas:  [0, 32.0, 1395268.185903764, 1984890.3500153709, 24389350.765089333, 114680137.40854533, 374670696.6177836, 433817788.1491537, 1106942797.8410015, 1273141090.6917105, 2094211412.0603843, 2343558506.04838, 2399513081.8753767, 2080966955.485303]\n",
            "Custo =  182559466526.76733\n",
            "\n",
            "=========================================================================\n",
            "\n",
            "Número de ciclos de manutenção: 10 5\n",
            "Tempos para manutenções preventivas: [0, 10, 88, 107, 190, 310, 381, 428, 486, 543, 696]\n",
            "Severidade para cada subsistema: [0.25, 0.25, 0.5, 0.25, 0.5, 0.25, 0.5, 0.5, 0.5, 0.25]\n",
            "Número de Sisemas: 5\n",
            "Fator:  [0.3296799539643607, 0.3934693402873666, 0.3934693402873666, 0.6321205588285577, 0.3934693402873666, 0.6321205588285577, 0.3934693402873666, 0.6321205588285577, 0.6321205588285577, 0.6321205588285577, 0.3934693402873666]\n",
            "Media de falhas:  [0, 32.0, 1395268.185903764, 1892101.3291127216, 24168722.583958194, 102655667.1512823, 400579808.5919039, 456761438.0302118, 1113505079.686462, 1288268100.5414321, 2934469506.5649405, 2615923380.1748667]\n",
            "Custo =  139299275203.91638\n"
          ]
        },
        {
          "output_type": "stream",
          "name": "stderr",
          "text": [
            "pyswarms.single.global_best:  54%|█████▍    |54/100, best_cost=7.34e+10"
          ]
        },
        {
          "output_type": "stream",
          "name": "stdout",
          "text": [
            "\n",
            "=========================================================================\n",
            "\n",
            "Número de ciclos de manutenção: 12 5\n",
            "Tempos para manutenções preventivas: [0, 11, 88, 105, 139, 192, 383, 428, 485, 543, 585, 636, 677]\n",
            "Severidade para cada subsistema: [0.25, 0.25, 0.5, 0.75, 0.25, 0.25, 0.5, 0.5, 0.5, 0.75, 0.75, 0.25]\n",
            "Número de Sisemas: 5\n",
            "Fator:  [0.3296799539643607, 0.3934693402873666, 0.3934693402873666, 0.6321205588285577, 0.7768698398515702, 0.3934693402873666, 0.3934693402873666, 0.6321205588285577, 0.6321205588285577, 0.6321205588285577, 0.7768698398515702, 0.7768698398515702, 0.3934693402873666]\n",
            "Media de falhas:  [0, 51.53632, 1368342.9989866042, 1782095.9323586312, 4293314.382525391, 8100104.124575956, 231798848.20231214, 540021475.7724922, 1180588772.8720322, 1359093773.3347514, 1521587246.7182717, 1801687588.390883, 1848786116.3147397, 1824328952.918335]\n",
            "Custo =  133406037944.6258\n",
            "\n",
            "=========================================================================\n",
            "\n",
            "Número de ciclos de manutenção: 11 5\n",
            "Tempos para manutenções preventivas: [0, 11, 87, 103, 120, 193, 385, 428, 486, 540, 641, 695]\n",
            "Severidade para cada subsistema: [0.25, 0.25, 0.5, 0.5, 0.25, 0.25, 0.5, 0.5, 0.5, 0.75, 0.25]\n",
            "Número de Sisemas: 5\n",
            "Fator:  [0.3296799539643607, 0.3934693402873666, 0.3934693402873666, 0.6321205588285577, 0.6321205588285577, 0.3934693402873666, 0.3934693402873666, 0.6321205588285577, 0.6321205588285577, 0.6321205588285577, 0.7768698398515702, 0.3934693402873666]\n",
            "Media de falhas:  [0, 51.53632, 1289156.646408748, 1650373.8060703648, 2360333.7115572174, 9366258.343059896, 411445422.9766674, 706553701.6800096, 1363297343.3362598, 1523596395.8512044, 2197731607.8858366, 2618620743.0777316, 2590172234.796197]\n",
            "Custo =  152777587582.0334\n",
            "\n",
            "=========================================================================\n",
            "\n",
            "Número de ciclos de manutenção: 10 5\n",
            "Tempos para manutenções preventivas: [0, 10, 87, 102, 195, 385, 398, 429, 487, 658, 690]\n",
            "Severidade para cada subsistema: [0.25, 0.25, 0.5, 0.25, 0.25, 0.5, 0.5, 0.5, 0.5, 0.5]\n",
            "Número de Sisemas: 5\n",
            "Fator:  [0.3296799539643607, 0.3934693402873666, 0.3934693402873666, 0.6321205588285577, 0.3934693402873666, 0.3934693402873666, 0.6321205588285577, 0.6321205588285577, 0.6321205588285577, 0.6321205588285577, 0.6321205588285577]\n",
            "Media de falhas:  [0, 32.0, 1314829.493268646, 1641289.8715686367, 29857008.885497943, 422320402.8946645, 491447521.4499011, 709060262.1622372, 827564298.5459237, 2452980240.969966, 2681809493.1375036, 2382357221.7030525]\n",
            "Custo =  147087047789.1422\n",
            "\n",
            "=========================================================================\n",
            "\n",
            "Número de ciclos de manutenção: 11 5\n",
            "Tempos para manutenções preventivas: [0, 10, 30, 87, 102, 125, 196, 384, 404, 429, 488, 710]\n",
            "Severidade para cada subsistema: [0.25, 0.5, 0.25, 0.5, 0.25, 0.25, 0.25, 0.5, 0.5, 0.5, 0.5]\n",
            "Número de Sisemas: 5\n",
            "Fator:  [0.3296799539643607, 0.3934693402873666, 0.6321205588285577, 0.3934693402873666, 0.6321205588285577, 0.3934693402873666, 0.3934693402873666, 0.3934693402873666, 0.6321205588285577, 0.6321205588285577, 0.6321205588285577, 0.6321205588285577]\n",
            "Media de falhas:  [0, 32.0, 4372.436942997232, 773079.5381367661, 835766.3125365234, 1954466.1868011446, 8899982.52821725, 872251567.6333288, 984037066.6215732, 1160831977.1822789, 1282839605.9272516, 4562915834.568773, 4199181175.9096074]\n",
            "Custo =  150269755392.0412\n",
            "\n",
            "=========================================================================\n",
            "\n",
            "Número de ciclos de manutenção: 11 5\n",
            "Tempos para manutenções preventivas: [0, 10, 31, 87, 103, 197, 381, 406, 429, 489, 686, 719]\n",
            "Severidade para cada subsistema: [0.25, 0.5, 0.25, 0.5, 0.25, 0.25, 0.5, 0.5, 0.5, 0.25, 0.5]\n",
            "Número de Sisemas: 5\n",
            "Fator:  [0.3296799539643607, 0.3934693402873666, 0.6321205588285577, 0.3934693402873666, 0.6321205588285577, 0.3934693402873666, 0.3934693402873666, 0.6321205588285577, 0.6321205588285577, 0.6321205588285577, 0.3934693402873666, 0.6321205588285577]\n",
            "Media de falhas:  [0, 32.0, 5249.222399606286, 753923.8151374034, 824761.2383908865, 30535524.005846687, 384996769.321088, 526565302.9595327, 689636865.8205125, 815213322.4721344, 3188478427.696083, 3466470959.524465, -554928940.4695706]\n",
            "Custo =  285482456170.0467\n",
            "\n",
            "=========================================================================\n",
            "\n",
            "Número de ciclos de manutenção: 12 5\n",
            "Tempos para manutenções preventivas: [0, 10, 87, 104, 197, 299, 301, 379, 404, 428, 490, 578, 709]\n",
            "Severidade para cada subsistema: [0.25, 0.25, 0.5, 0.25, 0.75, 0.5, 0.25, 0.5, 0.5, 0.5, 0.75, 0.5]\n",
            "Número de Sisemas: 5\n",
            "Fator:  [0.3296799539643607, 0.3934693402873666, 0.3934693402873666, 0.6321205588285577, 0.3934693402873666, 0.7768698398515702, 0.6321205588285577, 0.3934693402873666, 0.6321205588285577, 0.6321205588285577, 0.6321205588285577, 0.7768698398515702, 0.6321205588285577]\n",
            "Media de falhas:  [0, 32.0, 1314829.493268646, 1712884.9909768305, 31033084.06705356, 82128018.67635705, 85666562.50308593, 105855379.61685719, 127454511.08027142, 295804308.5668166, 427711464.31431705, 811372611.2133601, 2205595290.729065, 2173979266.507529]\n",
            "Custo =  112734544277.77386\n",
            "\n",
            "=========================================================================\n",
            "\n",
            "Número de ciclos de manutenção: 10 5\n",
            "Tempos para manutenções preventivas: [0, 10, 87, 106, 196, 299, 309, 378, 401, 428, 490]\n",
            "Severidade para cada subsistema: [0.25, 0.25, 0.5, 0.25, 0.75, 0.5, 0.25, 0.5, 0.5, 0.5]\n",
            "Número de Sisemas: 5\n",
            "Fator:  [0.3296799539643607, 0.3934693402873666, 0.3934693402873666, 0.6321205588285577, 0.3934693402873666, 0.7768698398515702, 0.6321205588285577, 0.3934693402873666, 0.6321205588285577, 0.6321205588285577, 0.6321205588285577]\n",
            "Media de falhas:  [0, 32.0, 1314829.493268646, 1793177.5278907148, 29423133.94463228, 81478142.39929552, 100801710.53625345, 116288208.83587053, 135417957.74718788, 324091243.52293503, 455998399.27043545, 1054407551.3383362]\n",
            "Custo =  73594749936.3412\n",
            "\n",
            "=========================================================================\n",
            "\n",
            "Número de ciclos de manutenção: 10 5\n",
            "Tempos para manutenções preventivas: [0, 10, 89, 107, 195, 298, 315, 377, 396, 427, 490]\n",
            "Severidade para cada subsistema: [0.25, 0.25, 0.5, 0.25, 0.75, 0.5, 0.25, 0.5, 0.5, 0.5]\n",
            "Número de Sisemas: 5\n",
            "Fator:  [0.3296799539643607, 0.3934693402873666, 0.3934693402873666, 0.6321205588285577, 0.3934693402873666, 0.7768698398515702, 0.6321205588285577, 0.3934693402873666, 0.6321205588285577, 0.6321205588285577, 0.6321205588285577]\n",
            "Media de falhas:  [0, 32.0, 1479596.521152482, 1951285.8493200806, 28323409.5022614, 79843119.53329596, 114871985.530178, 127286498.93007168, 142067780.43453237, 355614019.32916784, 490240550.2730417, 1088649702.3409424]\n",
            "Custo =  73396520596.86205\n",
            "\n",
            "=========================================================================\n",
            "\n",
            "Número de ciclos de manutenção: 12 5\n",
            "Tempos para manutenções preventivas: [0, 10, 106, 131, 195, 297, 320, 379, 427, 489, 541, 589, 644]\n",
            "Severidade para cada subsistema: [0.25, 0.5, 0.75, 0.25, 0.75, 0.5, 0.25, 0.5, 0.5, 0.5, 0.25, 0.25]\n",
            "Número de Sisemas: 5\n",
            "Fator:  [0.3296799539643607, 0.3934693402873666, 0.6321205588285577, 0.7768698398515702, 0.3934693402873666, 0.7768698398515702, 0.6321205588285577, 0.3934693402873666, 0.6321205588285577, 0.6321205588285577, 0.6321205588285577, 0.3934693402873666, 0.3934693402873666]\n",
            "Media de falhas:  [0, 32.0, 3656563.7677601534, 5121479.983500107, 10726347.42387633, 31551127.962607738, 81543829.66409148, 93016018.50403059, 150167496.4126566, 867731619.3916321, 1022024559.3601774, 1216432227.1301253, 1537223914.6098795, 228327464.0342903]\n",
            "Custo =  232473177251.85376\n",
            "\n",
            "=========================================================================\n",
            "\n",
            "Número de ciclos de manutenção: 12 5\n",
            "Tempos para manutenções preventivas: [0, 10, 105, 138, 197, 296, 321, 381, 426, 488, 542, 633, 672]\n",
            "Severidade para cada subsistema: [0.25, 0.5, 0.5, 0.25, 0.75, 0.5, 0.25, 0.5, 0.5, 0.5, 0.25, 0.25]\n",
            "Número de Sisemas: 5\n",
            "Fator:  [0.3296799539643607, 0.3934693402873666, 0.6321205588285577, 0.6321205588285577, 0.3934693402873666, 0.7768698398515702, 0.6321205588285577, 0.3934693402873666, 0.6321205588285577, 0.6321205588285577, 0.6321205588285577, 0.3934693402873666, 0.3934693402873666]\n",
            "Media de falhas:  [0, 32.0, 3481982.0533366837, 5850458.1721831355, 10841910.742608674, 57639380.92402366, 112496181.02606437, 124535628.99507329, 176873644.0411035, 888520113.4379627, 1051085337.5925012, 1611025343.4295135, 1867165529.0341837, -370455459.6620538]\n",
            "Custo =  250045263374.66492\n",
            "\n",
            "=========================================================================\n",
            "\n",
            "Número de ciclos de manutenção: 13 5\n",
            "Tempos para manutenções preventivas: [0, 10, 103, 145, 198, 295, 320, 384, 426, 487, 541, 596, 654, 712]\n",
            "Severidade para cada subsistema: [0.25, 0.5, 0.25, 0.25, 0.75, 0.5, 0.25, 0.5, 0.5, 0.5, 0.25, 0.25, 0.5]\n",
            "Número de Sisemas: 5\n",
            "Fator:  [0.3296799539643607, 0.3934693402873666, 0.6321205588285577, 0.3934693402873666, 0.3934693402873666, 0.7768698398515702, 0.6321205588285577, 0.3934693402873666, 0.6321205588285577, 0.6321205588285577, 0.6321205588285577, 0.3934693402873666, 0.3934693402873666, 0.6321205588285577]\n",
            "Media de falhas:  [0, 32.0, 3152820.7954203724, 6830879.94620996, 11044634.90920144, 157356008.6064161, 211525922.48086107, 225495687.5195229, 273647133.6908693, 968541025.1508408, 1129970164.6706476, 1368512148.3947515, 1730636240.1287892, 4805735619.90319, 1070628643.5586243]\n",
            "Custo =  466283142265.80676\n",
            "\n",
            "=========================================================================\n",
            "\n",
            "Número de ciclos de manutenção: 12 5\n",
            "Tempos para manutenções preventivas: [0, 10, 102, 199, 296, 315, 385, 426, 486, 540, 578, 659, 702]\n",
            "Severidade para cada subsistema: [0.25, 0.5, 0.25, 0.75, 0.5, 0.25, 0.5, 0.5, 0.5, 0.25, 0.5, 0.75]\n",
            "Número de Sisemas: 5\n",
            "Fator:  [0.3296799539643607, 0.3934693402873666, 0.6321205588285577, 0.3934693402873666, 0.7768698398515702, 0.6321205588285577, 0.3934693402873666, 0.6321205588285577, 0.6321205588285577, 0.6321205588285577, 0.3934693402873666, 0.6321205588285577, 0.7768698398515702]\n",
            "Media de falhas:  [0, 32.0, 2997851.813159545, 35090053.49491552, 80131239.9435922, 119144617.93079889, 135982596.3864199, 182765361.2572637, 861115178.4295021, 1021414230.9444467, 1159946605.6411538, 1719378264.2047336, 3896160550.0893755, 3558374649.796435]\n",
            "Custo =  332094613642.97003\n",
            "\n",
            "=========================================================================\n",
            "\n",
            "Número de ciclos de manutenção: 11 5\n",
            "Tempos para manutenções preventivas: [0, 10, 30, 101, 200, 297, 309, 383, 427, 486, 659, 713]\n",
            "Severidade para cada subsistema: [0.25, 0.5, 0.5, 0.25, 0.75, 0.5, 0.25, 0.5, 0.5, 0.75, 0.75]\n",
            "Número de Sisemas: 5\n",
            "Fator:  [0.3296799539643607, 0.3934693402873666, 0.6321205588285577, 0.6321205588285577, 0.3934693402873666, 0.7768698398515702, 0.6321205588285577, 0.3934693402873666, 0.6321205588285577, 0.6321205588285577, 0.7768698398515702, 0.7768698398515702]\n",
            "Media de falhas:  [0, 32.0, 4372.436942997232, 1810387.865099947, 16761494.079716727, 62281764.204858966, 85378894.79935226, 103980103.71822616, 155363435.74950418, 822914685.7442992, 2488559931.4048824, 2953030995.556629, 2920484694.4682484]\n",
            "Custo =  135286651598.85027\n",
            "\n",
            "=========================================================================\n",
            "\n",
            "Número de ciclos de manutenção: 13 5\n",
            "Tempos para manutenções preventivas: [0, 10, 31, 101, 148, 200, 298, 306, 379, 394, 428, 488, 662, 699]\n",
            "Severidade para cada subsistema: [0.25, 0.5, 0.5, 0.5, 0.25, 0.75, 0.5, 0.25, 0.5, 0.5, 0.5, 0.25, 0.75]\n",
            "Número de Sisemas: 5\n",
            "Fator:  [0.3296799539643607, 0.3934693402873666, 0.6321205588285577, 0.6321205588285577, 0.6321205588285577, 0.3934693402873666, 0.7768698398515702, 0.6321205588285577, 0.3934693402873666, 0.6321205588285577, 0.6321205588285577, 0.6321205588285577, 0.3934693402873666, 0.7768698398515702]\n",
            "Media de falhas:  [0, 32.0, 5249.222399606286, 1771652.5593956674, 3099728.4470375916, 7319830.41550883, 54210611.82693014, 69135752.60119237, 86671173.72035754, 97913792.72857285, 333522888.32512414, 458142260.4912627, 2165530907.5191402, 2447419165.2497663, -776200500.5488272]\n"
          ]
        },
        {
          "output_type": "stream",
          "name": "stderr",
          "text": [
            "pyswarms.single.global_best:  68%|██████▊   |68/100, best_cost=7.14e+10"
          ]
        },
        {
          "output_type": "stream",
          "name": "stdout",
          "text": [
            "Custo =  249873607764.65137\n",
            "\n",
            "=========================================================================\n",
            "\n",
            "Número de ciclos de manutenção: 12 5\n",
            "Tempos para manutenções preventivas: [0, 10, 31, 89, 103, 129, 199, 299, 308, 376, 398, 428, 490]\n",
            "Severidade para cada subsistema: [0.25, 0.5, 0.25, 0.5, 0.75, 0.25, 0.75, 0.5, 0.25, 0.5, 0.5, 0.5]\n",
            "Número de Sisemas: 5\n",
            "Fator:  [0.3296799539643607, 0.3934693402873666, 0.6321205588285577, 0.3934693402873666, 0.6321205588285577, 0.7768698398515702, 0.3934693402873666, 0.7768698398515702, 0.6321205588285577, 0.3934693402873666, 0.6321205588285577, 0.6321205588285577, 0.6321205588285577]\n",
            "Media de falhas:  [0, 32.0, 5249.222399606286, 859613.8641506934, 918966.323737614, 2349041.5542425984, 9425776.337876262, 29462838.976807535, 46663559.20974295, 61461858.54161323, 79152204.86732316, 288020049.4496571, 419927205.1971575, 1018336357.2650583]\n",
            "Custo =  71353964412.5081\n",
            "\n",
            "=========================================================================\n",
            "\n",
            "Número de ciclos de manutenção: 13 5\n",
            "Tempos para manutenções preventivas: [0, 10, 33, 89, 103, 148, 198, 299, 310, 374, 402, 429, 490, 692]\n",
            "Severidade para cada subsistema: [0.25, 0.5, 0.25, 0.5, 0.75, 0.25, 0.75, 0.5, 0.25, 0.5, 0.5, 0.5, 0.75]\n",
            "Número de Sisemas: 5\n",
            "Fator:  [0.3296799539643607, 0.3934693402873666, 0.6321205588285577, 0.3934693402873666, 0.6321205588285577, 0.7768698398515702, 0.3934693402873666, 0.7768698398515702, 0.6321205588285577, 0.3934693402873666, 0.6321205588285577, 0.6321205588285577, 0.6321205588285577, 0.7768698398515702]\n",
            "Media de falhas:  [0, 32.0, 7426.553114642113, 818595.0445922571, 877947.5041791777, 5161613.17039952, 8986028.741279062, 29570782.40714871, 51062040.91180207, 63957899.63826531, 88016886.7526952, 278474624.23794186, 407686051.12597656, 2958638076.954264, 2652834897.792465]\n",
            "Custo =  114134686241.38057\n",
            "\n",
            "=========================================================================\n",
            "\n",
            "Número de ciclos de manutenção: 15 5\n",
            "Tempos para manutenções preventivas: [0, 10, 34, 89, 102, 123, 198, 298, 311, 376, 402, 428, 489, 573, 638, 698]\n",
            "Severidade para cada subsistema: [0.25, 0.5, 0.25, 0.5, 0.75, 0.25, 0.75, 0.5, 0.25, 0.5, 0.5, 0.5, 0.5, 0.25, 0.75]\n",
            "Número de Sisemas: 5\n",
            "Fator:  [0.3296799539643607, 0.3934693402873666, 0.6321205588285577, 0.3934693402873666, 0.6321205588285577, 0.7768698398515702, 0.3934693402873666, 0.7768698398515702, 0.6321205588285577, 0.3934693402873666, 0.6321205588285577, 0.6321205588285577, 0.6321205588285577, 0.6321205588285577, 0.3934693402873666, 0.7768698398515702]\n",
            "Media de falhas:  [0, 32.0, 8758.754323788913, 798957.9061006092, 850993.2394337856, 1811342.478084831, 9796277.531952715, 29679960.82277751, 55310653.770954095, 68825190.17060438, 90960093.96702369, 272873661.25710326, 401103565.29436886, 750350581.7710451, 1127767566.034247, 1611230304.7534647, -1574087313.408934]\n",
            "Custo =  252097989400.38635\n",
            "\n",
            "=========================================================================\n",
            "\n",
            "Número de ciclos de manutenção: 13 5\n",
            "Tempos para manutenções preventivas: [0, 10, 35, 101, 140, 199, 298, 311, 378, 397, 428, 487, 642, 705]\n",
            "Severidade para cada subsistema: [0.25, 0.5, 0.5, 0.5, 0.25, 0.75, 0.5, 0.25, 0.5, 0.5, 0.5, 0.25, 0.75]\n",
            "Número de Sisemas: 5\n",
            "Fator:  [0.3296799539643607, 0.3934693402873666, 0.6321205588285577, 0.6321205588285577, 0.6321205588285577, 0.3934693402873666, 0.7768698398515702, 0.6321205588285577, 0.3934693402873666, 0.6321205588285577, 0.6321205588285577, 0.6321205588285577, 0.3934693402873666, 0.7768698398515702]\n",
            "Media de falhas:  [0, 32.0, 10276.292139331119, 1624905.8542922738, 2421964.6533959755, 7578576.478160977, 55369403.42053925, 81000096.36871584, 95590078.152957, 110518081.30964665, 326090370.98226184, 447165019.0491999, 1721329818.6532629, 2253188441.622266, -1203328693.5850797]\n",
            "Custo =  248713497898.38596\n",
            "\n",
            "=========================================================================\n",
            "\n",
            "Número de ciclos de manutenção: 13 5\n",
            "Tempos para manutenções preventivas: [0, 10, 34, 100, 199, 298, 309, 381, 427, 486, 582, 641, 669, 716]\n",
            "Severidade para cada subsistema: [0.25, 0.5, 0.5, 0.25, 0.75, 0.5, 0.25, 0.5, 0.5, 0.5, 0.25, 0.25, 0.75]\n",
            "Número de Sisemas: 5\n",
            "Fator:  [0.3296799539643607, 0.3934693402873666, 0.6321205588285577, 0.6321205588285577, 0.3934693402873666, 0.7768698398515702, 0.6321205588285577, 0.3934693402873666, 0.6321205588285577, 0.6321205588285577, 0.6321205588285577, 0.3934693402873666, 0.3934693402873666, 0.7768698398515702]\n",
            "Media de falhas:  [0, 32.0, 8758.754323788913, 1568166.9951263473, 16319175.110698432, 64110002.05307671, 85323810.07267211, 102625745.30218014, 156864921.83439612, 824416171.8291911, 1267316437.2973223, 1609528357.9517765, 1785095263.3658113, 4353905948.907154, 456166503.4340224]\n",
            "Custo =  481035380585.656\n",
            "\n",
            "=========================================================================\n",
            "\n",
            "Número de ciclos de manutenção: 12 5\n",
            "Tempos para manutenções preventivas: [0, 10, 34, 100, 126, 200, 298, 307, 384, 427, 486, 638, 670]\n",
            "Severidade para cada subsistema: [0.25, 0.5, 0.5, 0.25, 0.25, 0.75, 0.5, 0.25, 0.5, 0.5, 0.25, 0.5]\n",
            "Número de Sisemas: 5\n",
            "Fator:  [0.3296799539643607, 0.3934693402873666, 0.6321205588285577, 0.6321205588285577, 0.3934693402873666, 0.3934693402873666, 0.7768698398515702, 0.6321205588285577, 0.3934693402873666, 0.6321205588285577, 0.6321205588285577, 0.3934693402873666, 0.6321205588285577]\n",
            "Media de falhas:  [0, 32.0, 8758.754323788913, 1568166.9951263473, 1858876.3056195811, 9870769.656125035, 163797158.88077518, 180774567.945176, 201159841.54952696, 251135957.4905674, 918687207.4853623, 2127610420.3212712, 2331531056.9762015, 163202883.77137375]\n",
            "Custo =  246575946459.8672\n",
            "\n",
            "=========================================================================\n",
            "\n",
            "Número de ciclos de manutenção: 10 5\n",
            "Tempos para manutenções preventivas: [0, 10, 32, 99, 200, 297, 307, 386, 427, 487, 663]\n",
            "Severidade para cada subsistema: [0.25, 0.5, 0.5, 0.25, 0.75, 0.5, 0.25, 0.5, 0.5, 0.75]\n",
            "Número de Sisemas: 5\n",
            "Fator:  [0.3296799539643607, 0.3934693402873666, 0.6321205588285577, 0.6321205588285577, 0.3934693402873666, 0.7768698398515702, 0.6321205588285577, 0.3934693402873666, 0.6321205588285577, 0.6321205588285577, 0.7768698398515702]\n",
            "Media de falhas:  [0, 32.0, 6262.1688321841875, 1546883.8766832277, 17208352.876821466, 62728623.001963705, 81554292.08413987, 103413751.81249675, 150615926.6238255, 834629747.0219774, 2583795655.437566, 2369581954.3436923]\n",
            "Custo =  114788232627.2\n",
            "\n",
            "=========================================================================\n",
            "\n",
            "Número de ciclos de manutenção: 11 5\n",
            "Tempos para manutenções preventivas: [0, 10, 31, 99, 201, 297, 307, 384, 427, 489, 689, 718]\n",
            "Severidade para cada subsistema: [0.25, 0.5, 0.5, 0.25, 0.75, 0.5, 0.25, 0.5, 0.5, 0.75, 0.75]\n",
            "Número de Sisemas: 5\n",
            "Fator:  [0.3296799539643607, 0.3934693402873666, 0.6321205588285577, 0.6321205588285577, 0.3934693402873666, 0.7768698398515702, 0.6321205588285577, 0.3934693402873666, 0.6321205588285577, 0.6321205588285577, 0.7768698398515702, 0.7768698398515702]\n",
            "Media de falhas:  [0, 32.0, 5249.222399606286, 1581418.1037812615, 17821837.301780026, 62474777.4454772, 81300446.52765337, 101685720.13200432, 151661836.07304472, 869225959.0520201, 3340898400.409044, 3581551970.767864, 3547822305.9210644]\n",
            "Custo =  145894208937.53925\n",
            "\n",
            "=========================================================================\n",
            "\n",
            "Número de ciclos de manutenção: 13 5\n",
            "Tempos para manutenções preventivas: [0, 10, 31, 100, 135, 200, 297, 309, 379, 428, 489, 641, 677, 702]\n",
            "Severidade para cada subsistema: [0.25, 0.5, 0.5, 0.5, 0.25, 0.75, 0.5, 0.25, 0.5, 0.5, 0.5, 0.75, 0.75]\n",
            "Número de Sisemas: 5\n",
            "Fator:  [0.3296799539643607, 0.3934693402873666, 0.6321205588285577, 0.6321205588285577, 0.6321205588285577, 0.3934693402873666, 0.7768698398515702, 0.6321205588285577, 0.3934693402873666, 0.6321205588285577, 0.6321205588285577, 0.6321205588285577, 0.7768698398515702, 0.7768698398515702]\n",
            "Media de falhas:  [0, 32.0, 5249.222399606286, 1674369.1340677827, 2262916.882272617, 8509022.78801269, 54029292.91315493, 77126423.50764821, 93200774.1635529, 152347865.694923, 858858465.1180091, 2087238836.2909458, 2328679969.466754, 2516736223.736428, 2486718449.234221]\n",
            "Custo =  152619767849.66428\n",
            "\n",
            "=========================================================================\n",
            "\n",
            "Número de ciclos de manutenção: 12 5\n",
            "Tempos para manutenções preventivas: [0, 10, 31, 89, 101, 200, 297, 310, 374, 391, 428, 489, 693]\n",
            "Severidade para cada subsistema: [0.25, 0.5, 0.25, 0.5, 0.25, 0.75, 0.5, 0.25, 0.5, 0.5, 0.5, 0.75]\n",
            "Número de Sisemas: 5\n",
            "Fator:  [0.3296799539643607, 0.3934693402873666, 0.6321205588285577, 0.3934693402873666, 0.6321205588285577, 0.3934693402873666, 0.7768698398515702, 0.6321205588285577, 0.3934693402873666, 0.6321205588285577, 0.6321205588285577, 0.6321205588285577, 0.7768698398515702]\n",
            "Media de falhas:  [0, 32.0, 5249.222399606286, 859613.8641506934, 904944.7155489831, 34456397.339110136, 79976667.46425238, 105277273.21755658, 118173131.94401982, 130645409.39203697, 386183505.7593595, 514413409.7966251, 3122221166.1032596, 2813237675.8748307]\n",
            "Custo =  115290581712.34937\n",
            "\n",
            "=========================================================================\n",
            "\n",
            "Número de ciclos de manutenção: 12 5\n",
            "Tempos para manutenções preventivas: [0, 10, 32, 103, 140, 199, 298, 310, 371, 398, 428, 488, 578]\n",
            "Severidade para cada subsistema: [0.25, 0.5, 0.5, 0.75, 0.25, 0.75, 0.5, 0.25, 0.5, 0.5, 0.5, 0.75]\n",
            "Número de Sisemas: 5\n",
            "Fator:  [0.3296799539643607, 0.3934693402873666, 0.6321205588285577, 0.6321205588285577, 0.7768698398515702, 0.3934693402873666, 0.7768698398515702, 0.6321205588285577, 0.3934693402873666, 0.6321205588285577, 0.6321205588285577, 0.6321205588285577, 0.7768698398515702]\n",
            "Media de falhas:  [0, 32.0, 6262.1688321841875, 1938273.963210697, 2667180.5624783086, 7823792.387243311, 27174721.444331706, 50574057.297186285, 62026784.5293683, 84241532.74888912, 293109377.3312231, 417728749.49736166, 813197584.5135918, 901667041.001008]\n",
            "Custo =  82980854254.14201\n",
            "\n",
            "=========================================================================\n",
            "\n",
            "Número de ciclos de manutenção: 11 5\n",
            "Tempos para manutenções preventivas: [0, 10, 33, 103, 199, 299, 309, 373, 399, 428, 487, 637]\n",
            "Severidade para cada subsistema: [0.25, 0.5, 0.5, 0.25, 0.75, 0.5, 0.25, 0.5, 0.5, 0.5, 0.75]\n",
            "Número de Sisemas: 5\n",
            "Fator:  [0.3296799539643607, 0.3934693402873666, 0.6321205588285577, 0.6321205588285577, 0.3934693402873666, 0.7768698398515702, 0.6321205588285577, 0.3934693402873666, 0.6321205588285577, 0.6321205588285577, 0.6321205588285577, 0.7768698398515702]\n",
            "Media de falhas:  [0, 32.0, 7426.553114642113, 1897595.5009621298, 15642042.194183916, 64856433.70736728, 84180001.8443252, 96972074.65061778, 118472882.69173999, 320622969.2973238, 441697617.36426187, 1619057477.5668633, 1488686072.0857577]\n",
            "Custo =  96069009167.47128\n"
          ]
        },
        {
          "output_type": "stream",
          "name": "stderr",
          "text": [
            "pyswarms.single.global_best:  82%|████████▏ |82/100, best_cost=7.08e+10"
          ]
        },
        {
          "output_type": "stream",
          "name": "stdout",
          "text": [
            "\n",
            "=========================================================================\n",
            "\n",
            "Número de ciclos de manutenção: 12 5\n",
            "Tempos para manutenções preventivas: [0, 10, 34, 103, 198, 299, 309, 377, 396, 427, 487, 573, 652]\n",
            "Severidade para cada subsistema: [0.25, 0.5, 0.5, 0.25, 0.75, 0.5, 0.25, 0.5, 0.5, 0.5, 0.5, 0.25]\n",
            "Número de Sisemas: 5\n",
            "Fator:  [0.3296799539643607, 0.3934693402873666, 0.6321205588285577, 0.6321205588285577, 0.3934693402873666, 0.7768698398515702, 0.6321205588285577, 0.3934693402873666, 0.6321205588285577, 0.6321205588285577, 0.6321205588285577, 0.6321205588285577, 0.3934693402873666]\n",
            "Media de falhas:  [0, 32.0, 8758.754323788913, 1857788.6675641907, 15095657.87400343, 65243770.881223135, 84567339.01818106, 99482785.77220137, 114264067.27666207, 327810306.1712975, 451478118.9237894, 811852228.2024517, 1332707908.756977, 1153527223.10801]\n",
            "Custo =  107086791814.96388\n",
            "\n",
            "=========================================================================\n",
            "\n",
            "Número de ciclos de manutenção: 14 5\n",
            "Tempos para manutenções preventivas: [0, 10, 35, 102, 123, 199, 308, 382, 391, 427, 487, 572, 643, 670, 702]\n",
            "Severidade para cada subsistema: [0.25, 0.5, 0.5, 0.25, 0.25, 0.5, 0.25, 0.5, 0.5, 0.5, 0.5, 0.75, 0.5, 0.75]\n",
            "Número de Sisemas: 5\n",
            "Fator:  [0.3296799539643607, 0.3934693402873666, 0.6321205588285577, 0.6321205588285577, 0.3934693402873666, 0.3934693402873666, 0.6321205588285577, 0.3934693402873666, 0.6321205588285577, 0.6321205588285577, 0.6321205588285577, 0.6321205588285577, 0.7768698398515702, 0.6321205588285577, 0.7768698398515702]\n",
            "Media de falhas:  [0, 32.0, 10276.292139331119, 1719684.9277251123, 1915568.697460906, 10240654.5621619, 206664660.19623578, 520032770.78357315, 526415828.07336247, 772981148.2706146, 896648961.0231066, 1249173271.7193737, 1682057587.0162876, 1851917922.801501, 1891045556.7241824, 1553259656.431242]\n",
            "Custo =  147482983059.682\n",
            "\n",
            "=========================================================================\n",
            "\n",
            "Número de ciclos de manutenção: 12 5\n",
            "Tempos para manutenções preventivas: [0, 10, 35, 101, 199, 299, 308, 386, 426, 487, 592, 632, 719]\n",
            "Severidade para cada subsistema: [0.25, 0.5, 0.5, 0.25, 0.75, 0.5, 0.25, 0.5, 0.5, 0.5, 0.25, 0.75]\n",
            "Número de Sisemas: 5\n",
            "Fator:  [0.3296799539643607, 0.3934693402873666, 0.6321205588285577, 0.6321205588285577, 0.3934693402873666, 0.7768698398515702, 0.6321205588285577, 0.3934693402873666, 0.6321205588285577, 0.6321205588285577, 0.6321205588285577, 0.3934693402873666, 0.7768698398515702]\n",
            "Media de falhas:  [0, 32.0, 10276.292139331119, 1624905.8542922738, 16034153.991711376, 65248545.50489474, 82449265.73783015, 103718612.40045066, 149145813.53969127, 844039704.9996626, 1377824608.680337, 1585326037.4208186, 2433300493.8588443, -1588099406.1351914]\n",
            "Custo =  276746493810.2461\n",
            "\n",
            "=========================================================================\n",
            "\n",
            "Número de ciclos de manutenção: 10 5\n",
            "Tempos para manutenções preventivas: [0, 10, 33, 100, 128, 200, 298, 308, 385, 427, 488]\n",
            "Severidade para cada subsistema: [0.25, 0.5, 0.5, 0.25, 0.25, 0.75, 0.5, 0.25, 0.5, 0.5]\n",
            "Número de Sisemas: 5\n",
            "Fator:  [0.3296799539643607, 0.3934693402873666, 0.6321205588285577, 0.6321205588285577, 0.3934693402873666, 0.3934693402873666, 0.7768698398515702, 0.6321205588285577, 0.3934693402873666, 0.6321205588285577, 0.6321205588285577]\n",
            "Media de falhas:  [0, 32.0, 7426.553114642113, 1602767.8942945257, 1946482.3247277038, 9537189.43011753, 163463578.65476766, 182536978.49368763, 203074839.45776606, 251657297.39973542, 952341422.1907355, 1566467403.7513547]\n",
            "Custo =  88052795438.77065\n",
            "\n",
            "=========================================================================\n",
            "\n",
            "Número de ciclos de manutenção: 11 5\n",
            "Tempos para manutenções preventivas: [0, 10, 32, 100, 141, 200, 297, 309, 384, 427, 489, 577]\n",
            "Severidade para cada subsistema: [0.25, 0.5, 0.5, 0.5, 0.25, 0.75, 0.5, 0.25, 0.5, 0.5, 0.75]\n",
            "Número de Sisemas: 5\n",
            "Fator:  [0.3296799539643607, 0.3934693402873666, 0.6321205588285577, 0.6321205588285577, 0.6321205588285577, 0.3934693402873666, 0.7768698398515702, 0.6321205588285577, 0.3934693402873666, 0.6321205588285577, 0.6321205588285577, 0.7768698398515702]\n",
            "Media de falhas:  [0, 32.0, 6262.1688321841875, 1638170.5466332582, 2528014.198428436, 7768776.700606931, 53289046.825749174, 76386177.42024246, 95664870.38650672, 145640986.32754713, 863205109.3065226, 1244445278.2710671, 1337195790.2217476]\n",
            "Custo =  95546649989.59375\n",
            "\n",
            "=========================================================================\n",
            "\n",
            "Número de ciclos de manutenção: 11 5\n",
            "Tempos para manutenções preventivas: [0, 10, 30, 100, 133, 200, 296, 309, 381, 428, 490, 686]\n",
            "Severidade para cada subsistema: [0.25, 0.5, 0.5, 0.75, 0.25, 0.75, 0.5, 0.25, 0.5, 0.5, 0.5]\n",
            "Número de Sisemas: 5\n",
            "Fator:  [0.3296799539643607, 0.3934693402873666, 0.6321205588285577, 0.6321205588285577, 0.7768698398515702, 0.3934693402873666, 0.7768698398515702, 0.6321205588285577, 0.3934693402873666, 0.6321205588285577, 0.6321205588285577, 0.6321205588285577]\n",
            "Media de falhas:  [0, 32.0, 4372.436942997232, 1711358.920311075, 2219524.358370053, 8830045.44680295, 26372028.71036487, 51345747.1512745, 68647682.38078254, 124829311.81909043, 848348055.173039, 3200654923.3690724, 2913870973.5271125]\n",
            "Custo =  122736128700.60611\n",
            "\n",
            "=========================================================================\n",
            "\n",
            "Número de ciclos de manutenção: 14 5\n",
            "Tempos para manutenções preventivas: [0, 10, 30, 101, 144, 200, 295, 309, 377, 392, 428, 490, 575, 673, 703]\n",
            "Severidade para cada subsistema: [0.25, 0.5, 0.5, 0.75, 0.25, 0.75, 0.5, 0.25, 0.5, 0.5, 0.5, 0.75, 0.5, 0.75]\n",
            "Número de Sisemas: 5\n",
            "Fator:  [0.3296799539643607, 0.3934693402873666, 0.6321205588285577, 0.6321205588285577, 0.7768698398515702, 0.3934693402873666, 0.7768698398515702, 0.6321205588285577, 0.3934693402873666, 0.6321205588285577, 0.6321205588285577, 0.6321205588285577, 0.7768698398515702, 0.6321205588285577, 0.7768698398515702]\n",
            "Media de falhas:  [0, 32.0, 4372.436942997232, 1810387.865099947, 2846554.4972982476, 7630923.383749349, 24556018.62441366, 51399772.00319776, 66315218.75721808, 77334903.0423457, 326241425.3112854, 458148581.0587858, 817501261.2345493, 1591196028.491012, 1627507298.9519925, 1286497769.6858976]\n",
            "Custo =  115480102885.17345\n",
            "\n",
            "=========================================================================\n",
            "\n",
            "Número de ciclos de manutenção: 12 5\n",
            "Tempos para manutenções preventivas: [0, 10, 32, 89, 102, 130, 200, 296, 309, 374, 391, 428, 489]\n",
            "Severidade para cada subsistema: [0.25, 0.5, 0.25, 0.5, 0.75, 0.25, 0.75, 0.5, 0.25, 0.5, 0.5, 0.5]\n",
            "Número de Sisemas: 5\n",
            "Fator:  [0.3296799539643607, 0.3934693402873666, 0.6321205588285577, 0.3934693402873666, 0.6321205588285577, 0.7768698398515702, 0.3934693402873666, 0.7768698398515702, 0.6321205588285577, 0.3934693402873666, 0.6321205588285577, 0.6321205588285577, 0.6321205588285577]\n",
            "Media de falhas:  [0, 32.0, 6262.1688321841875, 838816.337479708, 890851.6708128843, 2476396.887475174, 9662833.207820285, 27204816.471382204, 52178534.91229184, 65478030.887409285, 77950308.33542642, 333488404.70274895, 461718308.74001455, 1067956922.8198756]\n",
            "Custo =  70761659393.00742\n",
            "\n",
            "=========================================================================\n",
            "\n",
            "Número de ciclos de manutenção: 14 5\n",
            "Tempos para manutenções preventivas: [0, 10, 33, 89, 102, 139, 200, 297, 309, 371, 390, 427, 488, 575, 639]\n",
            "Severidade para cada subsistema: [0.25, 0.5, 0.25, 0.5, 0.5, 0.25, 0.75, 0.5, 0.25, 0.5, 0.5, 0.5, 0.5, 0.75]\n",
            "Número de Sisemas: 5\n",
            "Fator:  [0.3296799539643607, 0.3934693402873666, 0.6321205588285577, 0.3934693402873666, 0.6321205588285577, 0.6321205588285577, 0.3934693402873666, 0.7768698398515702, 0.6321205588285577, 0.3934693402873666, 0.6321205588285577, 0.6321205588285577, 0.6321205588285577, 0.6321205588285577, 0.7768698398515702]\n",
            "Media de falhas:  [0, 32.0, 7426.553114642113, 818595.0445922571, 870630.3779254335, 3603267.386798146, 9165012.356988937, 54685282.482131176, 77782413.07662445, 89604420.87964484, 103527984.04927509, 356662174.8151028, 483916204.5079317, 854612487.7678297, 1227247501.0522542, 1090275097.6722996]\n",
            "Custo =  104097563694.51845\n",
            "\n",
            "=========================================================================\n",
            "\n",
            "Número de ciclos de manutenção: 11 5\n",
            "Tempos para manutenções preventivas: [0, 10, 34, 89, 102, 200, 297, 309, 371, 427, 486, 686]\n",
            "Severidade para cada subsistema: [0.25, 0.5, 0.25, 0.5, 0.25, 0.75, 0.5, 0.25, 0.5, 0.5, 0.25]\n",
            "Número de Sisemas: 5\n",
            "Fator:  [0.3296799539643607, 0.3934693402873666, 0.6321205588285577, 0.3934693402873666, 0.6321205588285577, 0.3934693402873666, 0.7768698398515702, 0.6321205588285577, 0.3934693402873666, 0.6321205588285577, 0.6321205588285577, 0.3934693402873666]\n",
            "Media de falhas:  [0, 32.0, 8758.754323788913, 798957.9061006092, 850993.2394337856, 33975273.13101175, 79495543.25615399, 102592673.85064727, 114414681.65366766, 183810249.83433473, 851361499.8291297, 3288295406.955642, 3001511457.1136823]\n",
            "Custo =  124057842854.14415\n",
            "\n",
            "=========================================================================\n",
            "\n",
            "Número de ciclos de manutenção: 12 5\n",
            "Tempos para manutenções preventivas: [0, 10, 35, 101, 138, 200, 297, 309, 374, 426, 486, 584, 636]\n",
            "Severidade para cada subsistema: [0.25, 0.5, 0.5, 0.25, 0.25, 0.75, 0.5, 0.25, 0.5, 0.5, 0.25, 0.75]\n",
            "Número de Sisemas: 5\n",
            "Fator:  [0.3296799539643607, 0.3934693402873666, 0.6321205588285577, 0.6321205588285577, 0.3934693402873666, 0.3934693402873666, 0.7768698398515702, 0.6321205588285577, 0.3934693402873666, 0.6321205588285577, 0.6321205588285577, 0.3934693402873666, 0.7768698398515702]\n",
            "Media de falhas:  [0, 32.0, 10276.292139331119, 1624905.8542922738, 2319834.4298149794, 8047274.177489833, 158306227.99805248, 181403358.59254575, 194702854.5676632, 257303007.86668918, 935652825.0389277, 1397065874.3783145, 1683528119.4187922, 624942132.5946103]\n",
            "Custo =  223785994260.02905\n",
            "\n",
            "=========================================================================\n",
            "\n",
            "Número de ciclos de manutenção: 11 5\n",
            "Tempos para manutenções preventivas: [0, 10, 34, 101, 124, 200, 296, 309, 378, 426, 486, 710]\n",
            "Severidade para cada subsistema: [0.25, 0.5, 0.5, 0.25, 0.25, 0.75, 0.5, 0.25, 0.5, 0.5, 0.75]\n",
            "Número de Sisemas: 5\n",
            "Fator:  [0.3296799539643607, 0.3934693402873666, 0.6321205588285577, 0.6321205588285577, 0.3934693402873666, 0.3934693402873666, 0.7768698398515702, 0.6321205588285577, 0.3934693402873666, 0.6321205588285577, 0.6321205588285577, 0.7768698398515702]\n",
            "Media de falhas:  [0, 32.0, 8758.754323788913, 1660352.1061797822, 1889770.810100564, 10340338.64490341, 156998442.9705999, 181972161.4115095, 197458659.7111266, 254107895.39383423, 932457712.5660727, 4266656525.850772, 3902921867.191606]\n",
            "Custo =  137987550167.53094\n",
            "\n",
            "=========================================================================\n",
            "\n",
            "Número de ciclos de manutenção: 12 5\n",
            "Tempos para manutenções preventivas: [0, 10, 32, 101, 200, 295, 310, 383, 427, 486, 596, 639, 663]\n",
            "Severidade para cada subsistema: [0.25, 0.5, 0.5, 0.25, 0.75, 0.5, 0.25, 0.5, 0.5, 0.25, 0.75, 0.5]\n",
            "Número de Sisemas: 5\n",
            "Fator:  [0.3296799539643607, 0.3934693402873666, 0.6321205588285577, 0.6321205588285577, 0.3934693402873666, 0.7768698398515702, 0.6321205588285577, 0.3934693402873666, 0.6321205588285577, 0.6321205588285577, 0.3934693402873666, 0.7768698398515702, 0.6321205588285577]\n",
            "Media de falhas:  [0, 32.0, 6262.1688321841875, 1733731.630428347, 16684837.845045129, 59558823.15259611, 88642277.72281422, 106721972.82718074, 158105304.85845876, 825656554.8532537, 1409967554.6331348, 1644809469.6423693, 2625425358.8486514, 2604166818.99992]\n",
            "Custo =  269064938016.65027\n",
            "\n",
            "=========================================================================\n",
            "\n",
            "Número de ciclos de manutenção: 12 5\n",
            "Tempos para manutenções preventivas: [0, 10, 30, 101, 201, 294, 309, 388, 427, 488, 585, 658, 673]\n",
            "Severidade para cada subsistema: [0.25, 0.5, 0.5, 0.25, 0.75, 0.5, 0.25, 0.5, 0.5, 0.5, 0.5, 0.5]\n",
            "Número de Sisemas: 5\n",
            "Fator:  [0.3296799539643607, 0.3934693402873666, 0.6321205588285577, 0.6321205588285577, 0.3934693402873666, 0.7768698398515702, 0.6321205588285577, 0.3934693402873666, 0.6321205588285577, 0.6321205588285577, 0.6321205588285577, 0.6321205588285577, 0.6321205588285577]\n",
            "Media de falhas:  [0, 32.0, 4372.436942997232, 1810387.865099947, 17319506.91100042, 58107621.47123535, 86815037.94348748, 108998598.61905767, 153479604.01053065, 854163728.8015306, 1311887166.9505951, 1800504128.1453698, 1893771018.2011676, 1647987689.4390473]\n",
            "Custo =  145751981371.13458\n"
          ]
        },
        {
          "output_type": "stream",
          "name": "stderr",
          "text": [
            "pyswarms.single.global_best:  96%|█████████▌|96/100, best_cost=7.08e+10"
          ]
        },
        {
          "output_type": "stream",
          "name": "stdout",
          "text": [
            "\n",
            "=========================================================================\n",
            "\n",
            "Número de ciclos de manutenção: 12 5\n",
            "Tempos para manutenções preventivas: [0, 10, 30, 101, 200, 294, 309, 385, 393, 428, 489, 637, 678]\n",
            "Severidade para cada subsistema: [0.25, 0.5, 0.5, 0.25, 0.75, 0.5, 0.25, 0.5, 0.5, 0.5, 0.5, 0.5]\n",
            "Número de Sisemas: 5\n",
            "Fator:  [0.3296799539643607, 0.3934693402873666, 0.6321205588285577, 0.6321205588285577, 0.3934693402873666, 0.7768698398515702, 0.6321205588285577, 0.3934693402873666, 0.6321205588285577, 0.6321205588285577, 0.6321205588285577, 0.6321205588285577, 0.6321205588285577]\n",
            "Media de falhas:  [0, 32.0, 4372.436942997232, 1810387.865099947, 16761494.079716727, 58358601.60705169, 87066018.07930383, 107041284.84532131, 112807766.85775843, 355071398.9786154, 483301303.015881, 1635875505.913883, 1916132860.1050396, 1654595189.5322032]\n",
            "Custo =  122067500366.16255\n",
            "\n",
            "=========================================================================\n",
            "\n",
            "Número de ciclos de manutenção: 13 5\n",
            "Tempos para manutenções preventivas: [0, 10, 31, 101, 200, 295, 309, 378, 394, 428, 489, 645, 666, 719]\n",
            "Severidade para cada subsistema: [0.25, 0.5, 0.5, 0.25, 0.75, 0.5, 0.25, 0.5, 0.5, 0.5, 0.5, 0.5, 0.75]\n",
            "Número de Sisemas: 5\n",
            "Fator:  [0.3296799539643607, 0.3934693402873666, 0.6321205588285577, 0.6321205588285577, 0.3934693402873666, 0.7768698398515702, 0.6321205588285577, 0.3934693402873666, 0.6321205588285577, 0.6321205588285577, 0.6321205588285577, 0.6321205588285577, 0.6321205588285577, 0.7768698398515702]\n",
            "Media de falhas:  [0, 32.0, 5249.222399606286, 1771652.5593956674, 16722758.774012448, 59596744.08156343, 86440497.46034752, 101926995.7599646, 113970789.5624493, 349579885.15900064, 477809789.19626623, 1785740243.4561067, 1912849506.091515, 2382450384.9940042, 1989014674.5347092]\n",
            "Custo =  156631118789.50223\n",
            "\n",
            "=========================================================================\n",
            "\n",
            "Número de ciclos de manutenção: 11 5\n",
            "Tempos para manutenções preventivas: [0, 10, 32, 101, 200, 296, 309, 372, 392, 429, 489, 690]\n",
            "Severidade para cada subsistema: [0.25, 0.5, 0.5, 0.25, 0.75, 0.5, 0.25, 0.5, 0.5, 0.5, 0.75]\n",
            "Número de Sisemas: 5\n",
            "Fator:  [0.3296799539643607, 0.3934693402873666, 0.6321205588285577, 0.6321205588285577, 0.3934693402873666, 0.7768698398515702, 0.6321205588285577, 0.3934693402873666, 0.6321205588285577, 0.6321205588285577, 0.6321205588285577, 0.7768698398515702]\n",
            "Media de falhas:  [0, 32.0, 6262.1688321841875, 1733731.630428347, 16684837.845045129, 60866361.06233359, 85840079.50324322, 98139768.5242722, 113159785.44907665, 371118898.1944674, 496695354.84608924, 3001868332.7303176, 2702416061.2958665]\n",
            "Custo =  113437842802.06271\n",
            "\n",
            "=========================================================================\n",
            "\n",
            "Número de ciclos de manutenção: 12 5\n",
            "Tempos para manutenções preventivas: [0, 10, 34, 101, 142, 200, 297, 309, 367, 428, 488, 592, 669]\n",
            "Severidade para cada subsistema: [0.25, 0.5, 0.5, 0.5, 0.25, 0.75, 0.5, 0.25, 0.5, 0.5, 0.5, 0.25]\n",
            "Número de Sisemas: 5\n",
            "Fator:  [0.3296799539643607, 0.3934693402873666, 0.6321205588285577, 0.6321205588285577, 0.6321205588285577, 0.3934693402873666, 0.7768698398515702, 0.6321205588285577, 0.3934693402873666, 0.6321205588285577, 0.6321205588285577, 0.6321205588285577, 0.3934693402873666]\n",
            "Media de falhas:  [0, 32.0, 8758.754323788913, 1660352.1061797822, 2570852.0782945696, 7656201.228370678, 53176471.35351291, 76273601.9480062, 86325350.7560809, 164559444.976712, 854272788.9303768, 1380883970.3431978, 1936423996.3923163, 1703251263.651942]\n",
            "Custo =  124550758538.96764\n",
            "\n",
            "=========================================================================\n",
            "\n",
            "Número de ciclos de manutenção: 12 5\n",
            "Tempos para manutenções preventivas: [0, 10, 34, 101, 123, 200, 298, 310, 363, 428, 487, 577, 644]\n",
            "Severidade para cada subsistema: [0.25, 0.5, 0.5, 0.5, 0.25, 0.75, 0.5, 0.25, 0.5, 0.5, 0.5, 0.25]\n",
            "Número de Sisemas: 5\n",
            "Fator:  [0.3296799539643607, 0.3934693402873666, 0.6321205588285577, 0.6321205588285577, 0.6321205588285577, 0.3934693402873666, 0.7768698398515702, 0.6321205588285577, 0.3934693402873666, 0.6321205588285577, 0.6321205588285577, 0.6321205588285577, 0.3934693402873666]\n",
            "Media de falhas:  [0, 32.0, 8758.754323788913, 1660352.1061797822, 1869503.6742845078, 10546148.916390274, 57436930.327811584, 80836266.18066616, 89038783.4425637, 174166219.26262176, 847291228.9544694, 1240271280.4074447, 1645928964.3558562, 1492590359.3347316]\n",
            "Custo =  117419807229.98743\n",
            "\n",
            "=========================================================================\n",
            "\n",
            "Número de ciclos de manutenção: 9 5\n",
            "Tempos para manutenções preventivas: [0, 10, 35, 101, 200, 297, 310, 362, 427, 486]\n",
            "Severidade para cada subsistema: [0.25, 0.5, 0.5, 0.25, 0.75, 0.5, 0.25, 0.5, 0.5]\n",
            "Número de Sisemas: 5\n",
            "Fator:  [0.3296799539643607, 0.3934693402873666, 0.6321205588285577, 0.6321205588285577, 0.3934693402873666, 0.7768698398515702, 0.6321205588285577, 0.3934693402873666, 0.6321205588285577, 0.6321205588285577]\n",
            "Media de falhas:  [0, 32.0, 10276.292139331119, 1624905.8542922738, 16576012.068909055, 62096282.194051296, 87396887.9473555, 95248755.34486271, 179651156.3034644, 847202406.2982594, 1477278609.3948126]\n",
            "Custo =  83529153229.77255\n",
            "\n",
            "=========================================================================\n",
            "\n",
            "Número de ciclos de manutenção: 11 5\n",
            "Tempos para manutenções preventivas: [0, 10, 34, 101, 200, 297, 310, 367, 426, 486, 675, 702]\n",
            "Severidade para cada subsistema: [0.25, 0.5, 0.5, 0.25, 0.75, 0.5, 0.25, 0.5, 0.5, 0.25, 0.75]\n",
            "Número de Sisemas: 5\n",
            "Fator:  [0.3296799539643607, 0.3934693402873666, 0.6321205588285577, 0.6321205588285577, 0.3934693402873666, 0.7768698398515702, 0.6321205588285577, 0.3934693402873666, 0.6321205588285577, 0.6321205588285577, 0.3934693402873666, 0.7768698398515702]\n",
            "Media de falhas:  [0, 32.0, 8758.754323788913, 1660352.1061797822, 16611458.320796564, 62131728.4459388, 87432334.19924301, 97157069.54708977, 170762922.61365232, 849112739.7858908, 2944158644.491103, 3148233584.746023, -191168320.70601702]\n",
            "Custo =  266791926500.52686\n",
            "\n",
            "=========================================================================\n",
            "\n",
            "Número de ciclos de manutenção: 11 5\n",
            "Tempos para manutenções preventivas: [0, 10, 34, 101, 123, 200, 296, 310, 375, 426, 486, 596]\n",
            "Severidade para cada subsistema: [0.25, 0.5, 0.5, 0.5, 0.25, 0.75, 0.5, 0.25, 0.5, 0.5, 0.25]\n",
            "Número de Sisemas: 5\n",
            "Fator:  [0.3296799539643607, 0.3934693402873666, 0.6321205588285577, 0.6321205588285577, 0.6321205588285577, 0.3934693402873666, 0.7768698398515702, 0.6321205588285577, 0.3934693402873666, 0.6321205588285577, 0.6321205588285577, 0.3934693402873666]\n",
            "Media de falhas:  [0, 32.0, 8758.754323788913, 1660352.1061797822, 1869503.6742845078, 10546148.916390274, 54727672.133678734, 81922923.36909783, 95329607.48142481, 156419754.03679326, 834769571.2090317, 1419080570.9889128, 1434420816.865534]\n",
            "Custo =  97627453042.89442\n",
            "\n",
            "=========================================================================\n",
            "\n",
            "Número de ciclos de manutenção: 11 5\n",
            "Tempos para manutenções preventivas: [0, 10, 32, 101, 200, 295, 309, 381, 426, 486, 594, 664]\n",
            "Severidade para cada subsistema: [0.25, 0.5, 0.5, 0.25, 0.75, 0.5, 0.25, 0.5, 0.5, 0.25, 0.5]\n",
            "Número de Sisemas: 5\n",
            "Fator:  [0.3296799539643607, 0.3934693402873666, 0.6321205588285577, 0.6321205588285577, 0.3934693402873666, 0.7768698398515702, 0.6321205588285577, 0.3934693402873666, 0.6321205588285577, 0.6321205588285577, 0.3934693402873666, 0.6321205588285577]\n",
            "Media de falhas:  [0, 32.0, 6262.1688321841875, 1733731.630428347, 16684837.845045129, 59558823.15259611, 86402576.5313802, 103704511.76088825, 156042526.80691847, 834392343.979157, 1396752071.7529883, 1877090215.2162862, -86219756.38485909]\n",
            "Custo =  231999952115.49835\n",
            "\n",
            "=========================================================================\n",
            "\n",
            "Número de ciclos de manutenção: 13 5\n",
            "Tempos para manutenções preventivas: [0, 10, 31, 100, 126, 200, 295, 309, 387, 392, 426, 487, 639, 677]\n",
            "Severidade para cada subsistema: [0.25, 0.5, 0.5, 0.75, 0.25, 0.75, 0.5, 0.25, 0.5, 0.5, 0.5, 0.5, 0.5]\n",
            "Número de Sisemas: 5\n",
            "Fator:  [0.3296799539643607, 0.3934693402873666, 0.6321205588285577, 0.6321205588285577, 0.7768698398515702, 0.3934693402873666, 0.7768698398515702, 0.6321205588285577, 0.3934693402873666, 0.6321205588285577, 0.6321205588285577, 0.6321205588285577, 0.6321205588285577, 0.6321205588285577]\n",
            "Media de falhas:  [0, 32.0, 5249.222399606286, 1674369.1340677827, 1965078.4445610165, 9976971.79506647, 26902067.035730787, 53745820.414514884, 75173112.05424052, 78698886.74443327, 309892719.95914274, 436176501.9160781, 1651558934.8921432, 1907761880.3474991, 1649375381.6362848]\n",
            "Custo =  120732636852.00174\n",
            "\n",
            "=========================================================================\n",
            "\n",
            "Número de ciclos de manutenção: 13 5\n",
            "Tempos para manutenções preventivas: [0, 10, 31, 101, 125, 200, 294, 309, 396, 427, 488, 630, 688, 701]\n",
            "Severidade para cada subsistema: [0.25, 0.5, 0.5, 0.75, 0.25, 0.75, 0.5, 0.5, 0.5, 0.5, 0.5, 0.5, 0.75]\n",
            "Número de Sisemas: 5\n",
            "Fator:  [0.3296799539643607, 0.3934693402873666, 0.6321205588285577, 0.6321205588285577, 0.7768698398515702, 0.3934693402873666, 0.7768698398515702, 0.6321205588285577, 0.6321205588285577, 0.6321205588285577, 0.6321205588285577, 0.6321205588285577, 0.6321205588285577, 0.7768698398515702]\n",
            "Media de falhas:  [0, 32.0, 5249.222399606286, 1771652.5593956674, 2022731.7901513968, 10251740.11496283, 26577369.023493826, 55284785.49574596, 84300892.06315762, 118396272.77245685, 245650302.46528572, 1285552429.7742374, 1725259874.238125, 1819847294.6769779, 1485279860.6762466]\n",
            "Custo =  124982382512.99792\n",
            "\n",
            "=========================================================================\n",
            "\n",
            "Número de ciclos de manutenção: 14 5\n",
            "Tempos para manutenções preventivas: [0, 10, 31, 101, 141, 200, 295, 309, 389, 397, 428, 489, 573, 658, 689]\n",
            "Severidade para cada subsistema: [0.25, 0.5, 0.5, 0.5, 0.25, 0.75, 0.5, 0.25, 0.5, 0.5, 0.5, 0.5, 0.5, 0.5]\n",
            "Número de Sisemas: 5\n",
            "Fator:  [0.3296799539643607, 0.3934693402873666, 0.6321205588285577, 0.6321205588285577, 0.6321205588285577, 0.3934693402873666, 0.7768698398515702, 0.6321205588285577, 0.3934693402873666, 0.6321205588285577, 0.6321205588285577, 0.6321205588285577, 0.6321205588285577, 0.6321205588285577, 0.6321205588285577]\n",
            "Media de falhas:  [0, 32.0, 5249.222399606286, 1771652.5593956674, 2623962.028767364, 7864724.530945859, 50738709.83849684, 77582463.21728094, 100543018.6816378, 106545940.73958059, 322118230.41219574, 450348134.44946134, 799595150.9261376, 1391020253.2997174, 1610888372.2325268, 1314607079.3456795]\n",
            "Custo =  136539806187.84796\n",
            "\n",
            "=========================================================================\n",
            "\n",
            "Número de ciclos de manutenção: 14 5\n",
            "Tempos para manutenções preventivas: [0, 10, 31, 101, 200, 296, 310, 384, 396, 428, 488, 579, 633, 660, 719]\n",
            "Severidade para cada subsistema: [0.25, 0.5, 0.5, 0.25, 0.75, 0.5, 0.25, 0.5, 0.5, 0.5, 0.5, 0.75, 0.5, 0.5]\n",
            "Número de Sisemas: 5\n",
            "Fator:  [0.3296799539643607, 0.3934693402873666, 0.6321205588285577, 0.6321205588285577, 0.3934693402873666, 0.7768698398515702, 0.6321205588285577, 0.3934693402873666, 0.6321205588285577, 0.6321205588285577, 0.6321205588285577, 0.6321205588285577, 0.7768698398515702, 0.6321205588285577, 0.6321205588285577]\n",
            "Media de falhas:  [0, 32.0, 5249.222399606286, 1771652.5593956674, 16722758.774012448, 60904281.99130091, 88099533.22672, 106842155.09514281, 115902555.60028116, 338166312.7741541, 462785684.9402927, 866760805.0846481, 1160691020.1072402, 1320801495.0199142, 1418114637.0929615, 1024678926.6336665]\n",
            "Custo =  133513233376.22884\n"
          ]
        },
        {
          "output_type": "stream",
          "name": "stderr",
          "text": [
            "pyswarms.single.global_best: 100%|██████████|100/100, best_cost=7.08e+10\n",
            "2023-09-24 20:18:46,577 - pyswarms.single.global_best - INFO - Optimization finished | best cost: 70761659393.00742, best pos: [1.35370347 3.14839853 2.06470673 3.3346072  0.23792491 0.5967157\n",
            " 1.7086687  2.35931716 2.4363418  5.85473372 3.35230397 2.88929189\n",
            " 1.88239222 2.71728224 3.22278141 4.21605367 3.18340751 4.65595734\n",
            " 2.90467003 0.85034268 4.49585119 1.84178084 6.46129136 6.8572327 ]\n",
            "2023-09-24 20:18:46,584 - pyswarms.single.global_best - INFO - Optimize for 1 iters with {'c1': 0.5, 'c2': 0.3, 'w': 0.9}\n"
          ]
        },
        {
          "output_type": "stream",
          "name": "stdout",
          "text": [
            "\n",
            "=========================================================================\n",
            "\n",
            "Número de ciclos de manutenção: 12 5\n",
            "Tempos para manutenções preventivas: [0, 10, 32, 101, 200, 297, 310, 376, 390, 428, 488, 578, 679]\n",
            "Severidade para cada subsistema: [0.25, 0.5, 0.5, 0.25, 0.75, 0.5, 0.25, 0.5, 0.5, 0.5, 0.5, 0.25]\n",
            "Número de Sisemas: 5\n",
            "Fator:  [0.3296799539643607, 0.3934693402873666, 0.6321205588285577, 0.6321205588285577, 0.3934693402873666, 0.7768698398515702, 0.6321205588285577, 0.3934693402873666, 0.6321205588285577, 0.6321205588285577, 0.6321205588285577, 0.6321205588285577, 0.3934693402873666]\n",
            "Media de falhas:  [0, 32.0, 6262.1688321841875, 1733731.630428347, 16684837.845045129, 62205107.970187366, 87505713.72349156, 101438681.5202454, 111475420.11463022, 373634103.8735217, 498253476.0396602, 893722311.0558903, 1725734361.102982, 1461044960.768302]\n",
            "Custo =  113912332400.1476\n",
            "\n",
            "=========================================================================\n",
            "\n",
            "Número de ciclos de manutenção: 11 5\n",
            "Tempos para manutenções preventivas: [0, 10, 33, 101, 200, 298, 310, 371, 428, 487, 579, 660]\n",
            "Severidade para cada subsistema: [0.25, 0.5, 0.5, 0.25, 0.75, 0.5, 0.25, 0.5, 0.5, 0.5, 0.25]\n",
            "Número de Sisemas: 5\n",
            "Fator:  [0.3296799539643607, 0.3934693402873666, 0.6321205588285577, 0.6321205588285577, 0.3934693402873666, 0.7768698398515702, 0.6321205588285577, 0.3934693402873666, 0.6321205588285577, 0.6321205588285577, 0.6321205588285577, 0.3934693402873666]\n",
            "Media de falhas:  [0, 32.0, 7426.553114642113, 1696629.6083897518, 16647735.823006533, 63538517.23442785, 86937853.08728243, 98390580.31946445, 170005389.57218298, 843130399.2640307, 1253156691.9407234, 1815767651.7777224, 1611065313.153139]\n",
            "Custo =  121087940972.72733\n",
            "\n",
            "=========================================================================\n",
            "\n",
            "Número de ciclos de manutenção: 12 5\n",
            "Tempos para manutenções preventivas: [0, 10, 33, 101, 149, 200, 297, 310, 369, 428, 487, 579, 687]\n",
            "Severidade para cada subsistema: [0.25, 0.5, 0.5, 0.25, 0.25, 0.75, 0.5, 0.25, 0.5, 0.5, 0.5, 0.25]\n",
            "Número de Sisemas: 5\n",
            "Fator:  [0.3296799539643607, 0.3934693402873666, 0.6321205588285577, 0.6321205588285577, 0.3934693402873666, 0.3934693402873666, 0.7768698398515702, 0.6321205588285577, 0.3934693402873666, 0.6321205588285577, 0.6321205588285577, 0.6321205588285577, 0.3934693402873666]\n",
            "Media de falhas:  [0, 32.0, 7426.553114642113, 1696629.6083897518, 3106887.672302343, 7193430.536159759, 157452384.35672238, 182752990.1100266, 193314767.2558523, 268205774.70448285, 941330784.3963306, 1351357077.0730233, 2301714508.1539755, 2011767182.6358676]\n",
            "Custo =  132305314818.38583\n"
          ]
        },
        {
          "output_type": "stream",
          "name": "stderr",
          "text": [
            "pyswarms.single.global_best: 100%|██████████|1/1, best_cost=7.08e+10\n",
            "2023-09-24 20:18:46,648 - pyswarms.single.global_best - INFO - Optimization finished | best cost: 70761659393.00742, best pos: [1.35375417 3.1483994  2.06470363 3.33459252 0.23792424 0.59671579\n",
            " 1.70864035 2.35930155 2.43634157 5.85474462 3.352448   2.88929083\n",
            " 1.88238527 2.71728385 3.22280833 4.2161224  3.18340723 4.65595832\n",
            " 2.90467658 0.85034006 4.49585122 1.7120752  6.46121334 6.85739137]\n",
            "2023-09-24 20:18:46,649 - pyswarms.single.global_best - INFO - Optimize for 1 iters with {'c1': 0.5, 'c2': 0.3, 'w': 0.9}\n"
          ]
        },
        {
          "output_type": "stream",
          "name": "stdout",
          "text": [
            "\n",
            "=========================================================================\n",
            "\n",
            "Número de ciclos de manutenção: 12 5\n",
            "Tempos para manutenções preventivas: [0, 10, 34, 101, 145, 200, 296, 309, 373, 427, 487, 581, 649]\n",
            "Severidade para cada subsistema: [0.25, 0.5, 0.5, 0.5, 0.25, 0.75, 0.5, 0.25, 0.5, 0.5, 0.5, 0.5]\n",
            "Número de Sisemas: 5\n",
            "Fator:  [0.3296799539643607, 0.3934693402873666, 0.6321205588285577, 0.6321205588285577, 0.6321205588285577, 0.3934693402873666, 0.7768698398515702, 0.6321205588285577, 0.3934693402873666, 0.6321205588285577, 0.6321205588285577, 0.6321205588285577, 0.6321205588285577]\n",
            "Media de falhas:  [0, 32.0, 8758.754323788913, 1660352.1061797822, 2764235.5156635875, 7402915.676220094, 51584438.89350856, 76558157.33441819, 89350230.14071077, 155592469.13071954, 839606289.5288714, 1267189229.2548876, 1692482298.3948812, 1522948603.3945823]\n",
            "Custo =  118421902286.22826\n"
          ]
        },
        {
          "output_type": "stream",
          "name": "stderr",
          "text": [
            "pyswarms.single.global_best: 100%|██████████|1/1, best_cost=7.08e+10\n",
            "2023-09-24 20:18:46,680 - pyswarms.single.global_best - INFO - Optimization finished | best cost: 70761659393.00742, best pos: [1.35376923 3.14839919 2.06470982 3.33460024 0.23792405 0.59671565\n",
            " 1.70856225 2.3593059  2.43634142 5.85499811 3.35243763 2.88929421\n",
            " 1.88239529 2.7172822  3.22280817 4.21607001 3.18340761 4.65595856\n",
            " 2.90467442 0.85038407 4.49585117 1.65554308 6.46119194 6.85728626]\n",
            "2023-09-24 20:18:46,682 - pyswarms.single.global_best - INFO - Optimize for 1 iters with {'c1': 0.5, 'c2': 0.3, 'w': 0.9}\n"
          ]
        },
        {
          "output_type": "stream",
          "name": "stdout",
          "text": [
            "\n",
            "=========================================================================\n",
            "\n",
            "Número de ciclos de manutenção: 10 5\n",
            "Tempos para manutenções preventivas: [0, 10, 34, 101, 135, 201, 296, 309, 380, 426, 487]\n",
            "Severidade para cada subsistema: [0.25, 0.5, 0.5, 0.75, 0.25, 0.75, 0.5, 0.25, 0.5, 0.5]\n",
            "Número de Sisemas: 5\n",
            "Fator:  [0.3296799539643607, 0.3934693402873666, 0.6321205588285577, 0.6321205588285577, 0.7768698398515702, 0.3934693402873666, 0.7768698398515702, 0.6321205588285577, 0.3934693402873666, 0.6321205588285577, 0.6321205588285577]\n",
            "Media de falhas:  [0, 32.0, 8758.754323788913, 1660352.1061797822, 2221407.670625023, 8748962.222377893, 25808750.457935825, 50782468.89884546, 67461840.74507418, 121222832.06475052, 816116723.524722, 1438188420.161634]\n",
            "Custo =  82165816477.69386\n"
          ]
        },
        {
          "output_type": "stream",
          "name": "stderr",
          "text": [
            "pyswarms.single.global_best: 100%|██████████|1/1, best_cost=7.08e+10\n",
            "2023-09-24 20:18:46,713 - pyswarms.single.global_best - INFO - Optimization finished | best cost: 70761659393.00742, best pos: [1.35376601 3.14839894 2.06471537 3.33460814 0.23792404 0.59671553\n",
            " 1.70849789 2.35931187 2.43634133 5.85514807 3.35239181 2.88929701\n",
            " 1.88240417 2.71728072 3.22280083 4.21602173 3.18340794 4.65595843\n",
            " 2.90467216 0.85041696 4.49585113 1.60782733 6.4611968  6.85718977]\n",
            "2023-09-24 20:18:46,717 - pyswarms.single.global_best - INFO - Optimize for 1 iters with {'c1': 0.5, 'c2': 0.3, 'w': 0.9}\n"
          ]
        },
        {
          "output_type": "stream",
          "name": "stdout",
          "text": [
            "\n",
            "=========================================================================\n",
            "\n",
            "Número de ciclos de manutenção: 11 5\n",
            "Tempos para manutenções preventivas: [0, 10, 34, 101, 201, 295, 309, 386, 426, 487, 599, 695]\n",
            "Severidade para cada subsistema: [0.25, 0.5, 0.5, 0.25, 0.75, 0.5, 0.25, 0.5, 0.5, 0.25, 0.25]\n",
            "Número de Sisemas: 5\n",
            "Fator:  [0.3296799539643607, 0.3934693402873666, 0.6321205588285577, 0.6321205588285577, 0.3934693402873666, 0.7768698398515702, 0.6321205588285577, 0.3934693402873666, 0.6321205588285577, 0.6321205588285577, 0.3934693402873666, 0.3934693402873666]\n",
            "Media de falhas:  [0, 32.0, 8758.754323788913, 1660352.1061797822, 17169471.152080256, 59215362.79598738, 86059116.17477147, 106750447.10569002, 152177648.24493062, 847071539.704902, 1457565760.9351146, 2305339532.95092, -765935542.4699807]\n",
            "Custo =  247807790873.85345\n"
          ]
        },
        {
          "output_type": "stream",
          "name": "stderr",
          "text": [
            "pyswarms.single.global_best: 100%|██████████|1/1, best_cost=7.08e+10\n",
            "2023-09-24 20:18:46,733 - pyswarms.single.global_best - INFO - Optimization finished | best cost: 70761659393.00742, best pos: [1.35375385 3.14839868 2.06471948 3.33461521 0.2379241  0.59671546\n",
            " 1.70844762 2.3593174  2.43634134 5.85526225 3.35234564 2.88929919\n",
            " 1.88241105 2.71727974 3.22279011 4.21598146 3.18340822 4.65595818\n",
            " 2.90466978 0.85043261 4.4958511  1.60675069 6.46121807 6.85711489]\n",
            "2023-09-24 20:18:46,735 - pyswarms.single.global_best - INFO - Optimize for 1 iters with {'c1': 0.5, 'c2': 0.3, 'w': 0.9}\n"
          ]
        },
        {
          "output_type": "stream",
          "name": "stdout",
          "text": [
            "\n",
            "=========================================================================\n",
            "\n",
            "Número de ciclos de manutenção: 12 5\n",
            "Tempos para manutenções preventivas: [0, 10, 34, 100, 126, 201, 294, 310, 425, 488, 576, 689, 716]\n",
            "Severidade para cada subsistema: [0.25, 0.5, 0.5, 0.75, 0.25, 0.75, 0.5, 0.5, 0.5, 0.25, 0.25, 0.75]\n",
            "Número de Sisemas: 5\n",
            "Fator:  [0.3296799539643607, 0.3934693402873666, 0.6321205588285577, 0.6321205588285577, 0.7768698398515702, 0.3934693402873666, 0.7768698398515702, 0.6321205588285577, 0.6321205588285577, 0.6321205588285577, 0.3934693402873666, 0.3934693402873666, 0.7768698398515702]\n",
            "Media de falhas:  [0, 32.0, 8758.754323788913, 1568166.9951263473, 1858876.3056195811, 10212089.749211045, 26082368.02166482, 57047765.29550111, 124344008.9884794, 256937111.77343178, 635767912.7877301, 1657542108.2262683, 3156718184.717741, -741021260.7553906]\n",
            "Custo =  429663046271.6473\n"
          ]
        },
        {
          "output_type": "stream",
          "name": "stderr",
          "text": [
            "pyswarms.single.global_best: 100%|██████████|1/1, best_cost=7.08e+10\n",
            "2023-09-24 20:18:46,749 - pyswarms.single.global_best - INFO - Optimization finished | best cost: 70761659393.00742, best pos: [1.35374199 3.14839841 2.06472169 3.33461987 0.23792429 0.59671544\n",
            " 1.70842463 2.35932237 2.43634143 5.85535964 3.35230196 2.88929939\n",
            " 1.88241475 2.71727954 3.22277988 4.21595624 3.18340841 4.65595781\n",
            " 2.90466765 0.85042775 4.49585109 1.6718715  6.46125442 6.85705777]\n",
            "2023-09-24 20:18:46,750 - pyswarms.single.global_best - INFO - Optimize for 1 iters with {'c1': 0.5, 'c2': 0.3, 'w': 0.9}\n"
          ]
        },
        {
          "output_type": "stream",
          "name": "stdout",
          "text": [
            "\n",
            "=========================================================================\n",
            "\n",
            "Número de ciclos de manutenção: 12 5\n",
            "Tempos para manutenções preventivas: [0, 10, 34, 100, 130, 201, 294, 310, 425, 487, 637, 686, 700]\n",
            "Severidade para cada subsistema: [0.25, 0.5, 0.5, 0.5, 0.25, 0.75, 0.5, 0.5, 0.5, 0.5, 0.25, 0.5]\n",
            "Número de Sisemas: 5\n",
            "Fator:  [0.3296799539643607, 0.3934693402873666, 0.6321205588285577, 0.6321205588285577, 0.6321205588285577, 0.3934693402873666, 0.7768698398515702, 0.6321205588285577, 0.6321205588285577, 0.6321205588285577, 0.6321205588285577, 0.3934693402873666, 0.6321205588285577]\n",
            "Media de falhas:  [0, 32.0, 8758.754323788913, 1568166.9951263473, 1971851.678983972, 9471928.161197895, 50260042.72143282, 81225439.99526912, 148521683.6882474, 277444492.1055672, 1454804352.3081686, 1813029564.7860646, 1914543988.5932794, -1347523144.304276]\n",
            "Custo =  240852302485.29263\n"
          ]
        },
        {
          "output_type": "stream",
          "name": "stderr",
          "text": [
            "pyswarms.single.global_best: 100%|██████████|1/1, best_cost=7.08e+10\n",
            "2023-09-24 20:18:46,766 - pyswarms.single.global_best - INFO - Optimization finished | best cost: 70761659393.00742, best pos: [1.3537244  3.14839817 2.06471977 3.33462313 0.23792453 0.59671549\n",
            " 1.70843494 2.3593259  2.43634154 5.85528268 3.35226307 2.8892977\n",
            " 1.88241305 2.71728003 3.22277096 4.21594041 3.18340845 4.65595738\n",
            " 2.90466579 0.85041331 4.49585111 1.76920504 6.46129569 6.85702612]\n",
            "2023-09-24 20:18:46,768 - pyswarms.single.global_best - INFO - Optimize for 1 iters with {'c1': 0.5, 'c2': 0.3, 'w': 0.9}\n"
          ]
        },
        {
          "output_type": "stream",
          "name": "stdout",
          "text": [
            "\n",
            "=========================================================================\n",
            "\n",
            "Número de ciclos de manutenção: 10 5\n",
            "Tempos para manutenções preventivas: [0, 10, 35, 99, 201, 294, 310, 425, 487, 687, 696]\n",
            "Severidade para cada subsistema: [0.25, 0.5, 0.5, 0.25, 0.75, 0.5, 0.5, 0.5, 0.25, 0.25]\n",
            "Número de Sisemas: 5\n",
            "Fator:  [0.3296799539643607, 0.3934693402873666, 0.6321205588285577, 0.6321205588285577, 0.3934693402873666, 0.7768698398515702, 0.6321205588285577, 0.6321205588285577, 0.6321205588285577, 0.3934693402873666, 0.3934693402873666]\n",
            "Media de falhas:  [0, 32.0, 10276.292139331119, 1447947.2922478737, 17688366.49024664, 58476481.050481565, 89441878.32431786, 156738122.01729614, 285660930.43461597, 2734132082.4467497, 2797218542.3544703, -311927670.38075733]\n",
            "Custo =  227438011450.7153\n"
          ]
        },
        {
          "output_type": "stream",
          "name": "stderr",
          "text": [
            "pyswarms.single.global_best: 100%|██████████|1/1, best_cost=7.08e+10\n",
            "2023-09-24 20:18:46,782 - pyswarms.single.global_best - INFO - Optimization finished | best cost: 70761659393.00742, best pos: [1.35370362 3.14839802 2.0647142  3.33462535 0.23792486 0.59671557\n",
            " 1.70845478 2.35932651 2.43634169 5.85507685 3.35223979 2.88929499\n",
            " 1.8824063  2.71728075 3.22276394 4.21595566 3.18340831 4.65595699\n",
            " 2.90466459 0.85038926 4.49585114 1.86119327 6.46133267 6.85703689]\n",
            "2023-09-24 20:18:46,783 - pyswarms.single.global_best - INFO - Optimize for 1 iters with {'c1': 0.5, 'c2': 0.3, 'w': 0.9}\n"
          ]
        },
        {
          "output_type": "stream",
          "name": "stdout",
          "text": [
            "\n",
            "=========================================================================\n",
            "\n",
            "Número de ciclos de manutenção: 12 5\n",
            "Tempos para manutenções preventivas: [0, 10, 35, 99, 140, 201, 294, 310, 330, 425, 486, 678, 713]\n",
            "Severidade para cada subsistema: [0.25, 0.5, 0.5, 0.75, 0.25, 0.75, 0.5, 0.5, 0.5, 0.5, 0.25, 0.75]\n",
            "Número de Sisemas: 5\n",
            "Fator:  [0.3296799539643607, 0.3934693402873666, 0.6321205588285577, 0.6321205588285577, 0.7768698398515702, 0.3934693402873666, 0.7768698398515702, 0.6321205588285577, 0.6321205588285577, 0.6321205588285577, 0.6321205588285577, 0.3934693402873666, 0.7768698398515702]\n",
            "Media de falhas:  [0, 32.0, 10276.292139331119, 1447947.2922478737, 2317499.1912302417, 7968840.668434646, 23839118.94088842, 54804516.21472471, 56101883.06712764, 199521994.0834765, 324841133.0581758, 2509160622.711791, 2795872960.484559, -979654034.776773]\n",
            "Custo =  235407481018.18323\n"
          ]
        },
        {
          "output_type": "stream",
          "name": "stderr",
          "text": [
            "pyswarms.single.global_best: 100%|██████████|1/1, best_cost=6.85e+10\n",
            "2023-09-24 20:18:46,794 - pyswarms.single.global_best - INFO - Optimization finished | best cost: 68520344337.58187, best pos: [1.35368488 3.14839803 2.06470757 3.33462678 0.23792517 0.59671568\n",
            " 1.70848768 2.35932683 2.43634183 5.85478974 3.35222881 2.88929239\n",
            " 1.8823979  2.7172816  3.22276261 4.21599599 3.18340794 4.65595672\n",
            " 2.90466508 0.85035768 4.49585116 1.9395055  6.46135632 6.8570929 ]\n",
            "2023-09-24 20:18:46,796 - pyswarms.single.global_best - INFO - Optimize for 1 iters with {'c1': 0.5, 'c2': 0.3, 'w': 0.9}\n"
          ]
        },
        {
          "output_type": "stream",
          "name": "stdout",
          "text": [
            "\n",
            "=========================================================================\n",
            "\n",
            "Número de ciclos de manutenção: 10 5\n",
            "Tempos para manutenções preventivas: [0, 10, 35, 99, 201, 294, 310, 331, 425, 485, 630]\n",
            "Severidade para cada subsistema: [0.25, 0.5, 0.5, 0.25, 0.75, 0.5, 0.5, 0.5, 0.5, 0.75]\n",
            "Número de Sisemas: 5\n",
            "Fator:  [0.3296799539643607, 0.3934693402873666, 0.6321205588285577, 0.6321205588285577, 0.3934693402873666, 0.7768698398515702, 0.6321205588285577, 0.6321205588285577, 0.6321205588285577, 0.6321205588285577, 0.7768698398515702]\n",
            "Media de falhas:  [0, 32.0, 10276.292139331119, 1447947.2922478737, 17688366.49024664, 58476481.050481565, 89441878.32431786, 90842698.02218053, 231929156.42583507, 353710339.682926, 1428235599.6715622, 1321248417.4436607]\n",
            "Custo =  68520344337.58187\n"
          ]
        },
        {
          "output_type": "stream",
          "name": "stderr",
          "text": [
            "pyswarms.single.global_best: 100%|██████████|1/1, best_cost=6.85e+10\n",
            "2023-09-24 20:18:46,811 - pyswarms.single.global_best - INFO - Optimization finished | best cost: 68520344337.58187, best pos: [1.35366801 3.14839805 2.06470159 3.33462807 0.23792544 0.59671577\n",
            " 1.7085173  2.35932711 2.43634195 5.85453133 3.35221894 2.88929005\n",
            " 1.88239034 2.71728236 3.2227614  4.21603229 3.18340761 4.65595649\n",
            " 2.90466553 0.85032925 4.49585119 2.0099865  6.46137761 6.85714332]\n",
            "2023-09-24 20:18:46,813 - pyswarms.single.global_best - INFO - Optimize for 1 iters with {'c1': 0.5, 'c2': 0.3, 'w': 0.9}\n"
          ]
        },
        {
          "output_type": "stream",
          "name": "stdout",
          "text": [
            "\n",
            "=========================================================================\n",
            "\n",
            "Número de ciclos de manutenção: 10 5\n",
            "Tempos para manutenções preventivas: [0, 10, 34, 98, 201, 295, 311, 332, 387, 425, 484]\n",
            "Severidade para cada subsistema: [0.25, 0.5, 0.5, 0.25, 0.75, 0.5, 0.5, 0.25, 0.5, 0.5]\n",
            "Número de Sisemas: 5\n",
            "Fator:  [0.3296799539643607, 0.3934693402873666, 0.6321205588285577, 0.6321205588285577, 0.3934693402873666, 0.7768698398515702, 0.6321205588285577, 0.6321205588285577, 0.3934693402873666, 0.6321205588285577, 0.6321205588285577]\n",
            "Media de falhas:  [0, 32.0, 8758.754323788913, 1396134.3858704045, 18012267.56093291, 60058159.204840034, 91427991.38506871, 92844303.87525247, 139953711.05790272, 182325959.53020948, 838833956.0394611, 1485097329.6867785]\n",
            "Custo =  85315220969.92503\n"
          ]
        },
        {
          "output_type": "stream",
          "name": "stderr",
          "text": [
            "pyswarms.single.global_best: 100%|██████████|1/1, best_cost=6.85e+10\n",
            "2023-09-24 20:18:46,830 - pyswarms.single.global_best - INFO - Optimization finished | best cost: 68520344337.58187, best pos: [1.35365717 3.14839806 2.06469768 3.33462892 0.23792568 0.59671585\n",
            " 1.70854378 2.35932732 2.43634204 5.85434907 3.3522111  2.88928797\n",
            " 1.88238453 2.71728288 3.22276048 4.21605506 3.18340734 4.65595628\n",
            " 2.9046658  0.85031168 4.49585121 2.07086443 6.46139525 6.8571824 ]\n",
            "2023-09-24 20:18:46,831 - pyswarms.single.global_best - INFO - Optimize for 1 iters with {'c1': 0.5, 'c2': 0.3, 'w': 0.9}\n"
          ]
        },
        {
          "output_type": "stream",
          "name": "stdout",
          "text": [
            "\n",
            "=========================================================================\n",
            "\n",
            "Número de ciclos de manutenção: 10 5\n",
            "Tempos para manutenções preventivas: [0, 10, 34, 98, 201, 295, 311, 332, 383, 426, 484]\n",
            "Severidade para cada subsistema: [0.25, 0.5, 0.5, 0.25, 0.75, 0.5, 0.5, 0.25, 0.5, 0.5]\n",
            "Número de Sisemas: 5\n",
            "Fator:  [0.3296799539643607, 0.3934693402873666, 0.6321205588285577, 0.6321205588285577, 0.3934693402873666, 0.7768698398515702, 0.6321205588285577, 0.6321205588285577, 0.3934693402873666, 0.6321205588285577, 0.6321205588285577]\n",
            "Media de falhas:  [0, 32.0, 8758.754323788913, 1396134.3858704045, 18012267.56093291, 60058159.204840034, 91427991.38506871, 92844303.87525247, 133930963.14828277, 183464389.63247275, 829343771.9163331, 1475607145.5636504]\n",
            "Custo =  85293478221.89337\n"
          ]
        },
        {
          "output_type": "stream",
          "name": "stderr",
          "text": [
            "pyswarms.single.global_best: 100%|██████████|1/1, best_cost=6.85e+10\n",
            "2023-09-24 20:18:46,854 - pyswarms.single.global_best - INFO - Optimization finished | best cost: 68520344337.58187, best pos: [1.35365519 3.14839806 2.06469649 3.33462963 0.23792584 0.59671588\n",
            " 1.70855517 2.35932747 2.43634209 5.85422824 3.35220586 2.88928656\n",
            " 1.88238276 2.71728317 3.22275981 4.21607527 3.18340717 4.6559561\n",
            " 2.904666   0.85030384 4.49585122 2.10640907 6.46140277 6.85720326]\n",
            "2023-09-24 20:18:46,855 - pyswarms.single.global_best - INFO - Optimize for 1 iters with {'c1': 0.5, 'c2': 0.3, 'w': 0.9}\n"
          ]
        },
        {
          "output_type": "stream",
          "name": "stdout",
          "text": [
            "\n",
            "=========================================================================\n",
            "\n",
            "Número de ciclos de manutenção: 12 5\n",
            "Tempos para manutenções preventivas: [0, 10, 34, 98, 201, 295, 310, 332, 380, 426, 484, 634, 673]\n",
            "Severidade para cada subsistema: [0.25, 0.5, 0.5, 0.25, 0.75, 0.5, 0.5, 0.25, 0.5, 0.5, 0.5, 0.25]\n",
            "Número de Sisemas: 5\n",
            "Fator:  [0.3296799539643607, 0.3934693402873666, 0.6321205588285577, 0.6321205588285577, 0.3934693402873666, 0.7768698398515702, 0.6321205588285577, 0.6321205588285577, 0.3934693402873666, 0.6321205588285577, 0.6321205588285577, 0.6321205588285577, 0.3934693402873666]\n",
            "Media de falhas:  [0, 32.0, 8758.754323788913, 1396134.3858704045, 18012267.56093291, 60058159.204840034, 89141613.77505815, 90650578.7498791, 127571030.93081203, 181332022.25048837, 827211404.5343487, 1985778585.754543, 2243406700.5833745, 1997623371.8212543]\n",
            "Custo =  133633677983.14865\n"
          ]
        },
        {
          "output_type": "stream",
          "name": "stderr",
          "text": [
            "pyswarms.single.global_best: 100%|██████████|1/1, best_cost=6.85e+10\n",
            "2023-09-24 20:18:46,868 - pyswarms.single.global_best - INFO - Optimization finished | best cost: 68520344337.58187, best pos: [1.35365346 3.14839806 2.06469865 3.33462986 0.23792587 0.59671586\n",
            " 1.70854765 2.35932758 2.43634205 5.85417695 3.35220291 2.88928537\n",
            " 1.88238223 2.71728305 3.22275957 4.21607079 3.1834072  4.65595608\n",
            " 2.90466591 0.85031087 4.49585122 2.13227073 6.46140065 6.85720793]\n",
            "2023-09-24 20:18:46,869 - pyswarms.single.global_best - INFO - Optimize for 1 iters with {'c1': 0.5, 'c2': 0.3, 'w': 0.9}\n"
          ]
        },
        {
          "output_type": "stream",
          "name": "stdout",
          "text": [
            "\n",
            "=========================================================================\n",
            "\n",
            "Número de ciclos de manutenção: 11 5\n",
            "Tempos para manutenções preventivas: [0, 10, 34, 99, 201, 296, 310, 331, 379, 427, 484, 716]\n",
            "Severidade para cada subsistema: [0.25, 0.5, 0.5, 0.25, 0.75, 0.5, 0.5, 0.25, 0.5, 0.5, 0.25]\n",
            "Número de Sisemas: 5\n",
            "Fator:  [0.3296799539643607, 0.3934693402873666, 0.6321205588285577, 0.6321205588285577, 0.3934693402873666, 0.7768698398515702, 0.6321205588285577, 0.6321205588285577, 0.3934693402873666, 0.6321205588285577, 0.6321205588285577, 0.3934693402873666]\n",
            "Media de falhas:  [0, 32.0, 8758.754323788913, 1480141.8921295193, 17720561.090128284, 61054546.33778447, 88249797.57320356, 89650617.27106623, 126210204.16925804, 183361682.07788408, 818603215.2193025, 4471160901.291302, 4087692729.8098655]\n",
            "Custo =  139176159286.34055\n"
          ]
        },
        {
          "output_type": "stream",
          "name": "stderr",
          "text": [
            "pyswarms.single.global_best: 100%|██████████|1/1, best_cost=6.85e+10\n",
            "2023-09-24 20:18:46,883 - pyswarms.single.global_best - INFO - Optimization finished | best cost: 68520344337.58187, best pos: [1.35365424 3.14839805 2.06470241 3.33462956 0.23792572 0.59671578\n",
            " 1.70853585 2.35932753 2.43634199 5.85420631 3.35220461 2.88928625\n",
            " 1.88238358 2.71728279 3.22276006 4.21605395 3.18340741 4.65595621\n",
            " 2.9046656  0.85032559 4.49585121 2.12435095 6.46139375 6.85719721]\n",
            "2023-09-24 20:18:46,885 - pyswarms.single.global_best - INFO - Optimize for 1 iters with {'c1': 0.5, 'c2': 0.3, 'w': 0.9}\n"
          ]
        },
        {
          "output_type": "stream",
          "name": "stdout",
          "text": [
            "\n",
            "=========================================================================\n",
            "\n",
            "Número de ciclos de manutenção: 12 5\n",
            "Tempos para manutenções preventivas: [0, 10, 34, 99, 201, 296, 310, 330, 379, 427, 484, 581, 631]\n",
            "Severidade para cada subsistema: [0.25, 0.5, 0.5, 0.25, 0.75, 0.5, 0.5, 0.25, 0.5, 0.5, 0.25, 0.25]\n",
            "Número de Sisemas: 5\n",
            "Fator:  [0.3296799539643607, 0.3934693402873666, 0.6321205588285577, 0.6321205588285577, 0.3934693402873666, 0.7768698398515702, 0.6321205588285577, 0.6321205588285577, 0.3934693402873666, 0.6321205588285577, 0.6321205588285577, 0.3934693402873666, 0.3934693402873666]\n",
            "Media de falhas:  [0, 32.0, 8758.754323788913, 1480141.8921295193, 17720561.090128284, 61054546.33778447, 88249797.57320356, 89547164.42560649, 127081784.50289297, 184233262.411519, 819474795.5529375, 1265983296.180205, 1531570927.8681426, 626388775.826111]\n",
            "Custo =  219445484581.33624\n"
          ]
        },
        {
          "output_type": "stream",
          "name": "stderr",
          "text": [
            "pyswarms.single.global_best: 100%|██████████|1/1, best_cost=6.85e+10\n",
            "2023-09-24 20:18:46,900 - pyswarms.single.global_best - INFO - Optimization finished | best cost: 68520344337.58187, best pos: [1.35365795 3.14839804 2.06470711 3.33462903 0.23792551 0.59671571\n",
            " 1.70851474 2.35932745 2.43634189 5.85437746 3.35221054 2.88928812\n",
            " 1.88238856 2.71728224 3.22276096 4.21602167 3.18340772 4.65595638\n",
            " 2.90466518 0.85034141 4.49585121 2.11203395 6.46138434 6.85718132]\n",
            "2023-09-24 20:18:46,902 - pyswarms.single.global_best - INFO - Optimize for 1 iters with {'c1': 0.5, 'c2': 0.3, 'w': 0.9}\n"
          ]
        },
        {
          "output_type": "stream",
          "name": "stdout",
          "text": [
            "\n",
            "=========================================================================\n",
            "\n",
            "Número de ciclos de manutenção: 11 5\n",
            "Tempos para manutenções preventivas: [0, 10, 34, 99, 201, 296, 310, 382, 427, 484, 571, 698]\n",
            "Severidade para cada subsistema: [0.25, 0.5, 0.5, 0.25, 0.75, 0.5, 0.25, 0.5, 0.5, 0.75, 0.5]\n",
            "Número de Sisemas: 5\n",
            "Fator:  [0.3296799539643607, 0.3934693402873666, 0.6321205588285577, 0.6321205588285577, 0.3934693402873666, 0.7768698398515702, 0.6321205588285577, 0.3934693402873666, 0.6321205588285577, 0.6321205588285577, 0.7768698398515702, 0.6321205588285577]\n",
            "Media de falhas:  [0, 32.0, 8758.754323788913, 1480141.8921295193, 17720561.090128284, 61054546.33778447, 88249797.57320356, 105684957.44146901, 158489247.90726423, 793730781.0486827, 1155082773.398158, 2416340111.019844, 2387221885.4598713]\n",
            "Custo =  118091267074.14381\n"
          ]
        },
        {
          "output_type": "stream",
          "name": "stderr",
          "text": [
            "pyswarms.single.global_best:   0%|          |0/1, best_cost=6.85e+10"
          ]
        },
        {
          "output_type": "stream",
          "name": "stdout",
          "text": [
            "\n",
            "=========================================================================\n",
            "\n",
            "Número de ciclos de manutenção: 11 5\n",
            "Tempos para manutenções preventivas: [0, 10, 34, 100, 135, 201, 296, 310, 385, 427, 485, 589]\n",
            "Severidade para cada subsistema: [0.25, 0.5, 0.5, 0.25, 0.25, 0.75, 0.5, 0.25, 0.5, 0.5, 0.25]\n",
            "Número de Sisemas: 5\n",
            "Fator:  [0.3296799539643607, 0.3934693402873666, 0.6321205588285577, 0.6321205588285577, 0.3934693402873666, 0.3934693402873666, 0.7768698398515702, 0.6321205588285577, 0.3934693402873666, 0.6321205588285577, 0.6321205588285577, 0.3934693402873666]\n",
            "Media de falhas:  [0, 32.0, 8758.754323788913, 1568166.9951263473, 2156714.7433311814, 8684269.29508405, 153731354.85434195, 180926606.08976105, 200350937.06770578, 248933395.00967515, 900227861.0341299, 1417328599.2576303, 1460269607.1683013]\n",
            "Custo =  100519294324.16388\n"
          ]
        },
        {
          "output_type": "stream",
          "name": "stderr",
          "text": [
            "\rpyswarms.single.global_best: 100%|██████████|1/1, best_cost=6.85e+10\n",
            "2023-09-24 20:18:46,914 - pyswarms.single.global_best - INFO - Optimization finished | best cost: 68520344337.58187, best pos: [1.35366145 3.14839803 2.06471141 3.33462806 0.23792526 0.59671564\n",
            " 1.7084937  2.35932735 2.4363418  5.85464712 3.35221791 2.88929039\n",
            " 1.88239416 2.71728155 3.22276215 4.21598697 3.18340804 4.65595656\n",
            " 2.90466479 0.8503584  4.4958512  2.09804388 6.46137383 6.85716696]\n",
            "2023-09-24 20:18:46,915 - pyswarms.single.global_best - INFO - Optimize for 1 iters with {'c1': 0.5, 'c2': 0.3, 'w': 0.9}\n",
            "pyswarms.single.global_best: 100%|██████████|1/1, best_cost=6.85e+10\n",
            "2023-09-24 20:18:46,928 - pyswarms.single.global_best - INFO - Optimization finished | best cost: 68520344337.58187, best pos: [1.35366826 3.14839802 2.06471443 3.33462691 0.23792503 0.59671559\n",
            " 1.70847388 2.35932722 2.43634173 5.85491757 3.35222719 2.88929274\n",
            " 1.88239999 2.71728095 3.22276326 4.2159584  3.18340831 4.65595673\n",
            " 2.9046645  0.85037366 4.49585118 2.05608104 6.46136165 6.85713213]\n",
            "2023-09-24 20:18:46,929 - pyswarms.single.global_best - INFO - Optimize for 1 iters with {'c1': 0.5, 'c2': 0.3, 'w': 0.9}\n"
          ]
        },
        {
          "output_type": "stream",
          "name": "stdout",
          "text": [
            "\n",
            "=========================================================================\n",
            "\n",
            "Número de ciclos de manutenção: 12 5\n",
            "Tempos para manutenções preventivas: [0, 10, 34, 100, 134, 201, 295, 310, 388, 427, 486, 582, 663]\n",
            "Severidade para cada subsistema: [0.25, 0.5, 0.5, 0.5, 0.25, 0.75, 0.5, 0.25, 0.5, 0.5, 0.75, 0.5]\n",
            "Número de Sisemas: 5\n",
            "Fator:  [0.3296799539643607, 0.3934693402873666, 0.6321205588285577, 0.6321205588285577, 0.6321205588285577, 0.3934693402873666, 0.7768698398515702, 0.6321205588285577, 0.3934693402873666, 0.6321205588285577, 0.6321205588285577, 0.7768698398515702, 0.6321205588285577]\n",
            "Media de falhas:  [0, 32.0, 8758.754323788913, 1568166.9951263473, 2115388.391325647, 8829472.983299904, 50875364.62720703, 79958819.19742514, 101544962.44835502, 146025967.839828, 813577217.834623, 1256477483.3027542, 1828708349.028883, 1807449809.1801515]\n",
            "Custo =  109095061363.0653\n"
          ]
        },
        {
          "output_type": "stream",
          "name": "stderr",
          "text": [
            "pyswarms.single.global_best: 100%|██████████|1/1, best_cost=6.85e+10\n",
            "2023-09-24 20:18:46,942 - pyswarms.single.global_best - INFO - Optimization finished | best cost: 68520344337.58187, best pos: [1.35367906 3.14839801 2.06471524 3.33462586 0.23792482 0.59671554\n",
            " 1.70845744 2.35932704 2.43634168 5.85513582 3.35223558 2.88929477\n",
            " 1.88240493 2.71728041 3.22276413 4.21593932 3.18340849 4.65595689\n",
            " 2.90466424 0.85038537 4.49585116 2.01190632 6.46135064 6.85709897]\n",
            "2023-09-24 20:18:46,943 - pyswarms.single.global_best - INFO - Optimize for 1 iters with {'c1': 0.5, 'c2': 0.3, 'w': 0.9}\n"
          ]
        },
        {
          "output_type": "stream",
          "name": "stdout",
          "text": [
            "\n",
            "=========================================================================\n",
            "\n",
            "Número de ciclos de manutenção: 12 5\n",
            "Tempos para manutenções preventivas: [0, 10, 34, 100, 122, 201, 295, 310, 427, 486, 596, 666, 695]\n",
            "Severidade para cada subsistema: [0.25, 0.5, 0.5, 0.75, 0.25, 0.75, 0.5, 0.5, 0.5, 0.25, 0.5, 0.25]\n",
            "Número de Sisemas: 5\n",
            "Fator:  [0.3296799539643607, 0.3934693402873666, 0.6321205588285577, 0.6321205588285577, 0.7768698398515702, 0.3934693402873666, 0.7768698398515702, 0.6321205588285577, 0.6321205588285577, 0.6321205588285577, 0.3934693402873666, 0.6321205588285577, 0.3934693402873666]\n",
            "Media de falhas:  [0, 32.0, 8758.754323788913, 1568166.9951263473, 1771299.4954311189, 11049407.09380534, 27505874.092141554, 56589328.66235966, 127647938.83321798, 247795008.98953503, 832106008.7694161, 1317941058.300019, 2743980986.336934, 2428626210.9909563]\n",
            "Custo =  278616404439.3491\n"
          ]
        },
        {
          "output_type": "stream",
          "name": "stderr",
          "text": [
            "pyswarms.single.global_best: 100%|██████████|1/1, best_cost=6.85e+10\n",
            "2023-09-24 20:18:46,956 - pyswarms.single.global_best - INFO - Optimization finished | best cost: 68520344337.58187, best pos: [1.35368952 3.14839801 2.06471477 3.33462513 0.2379247  0.59671553\n",
            " 1.70845104 2.35932685 2.43634167 5.85523705 3.3522429  2.88929604\n",
            " 1.88240889 2.71728015 3.22276463 4.21593128 3.18340857 4.65595701\n",
            " 2.90466401 0.85038912 4.49585115 1.96617696 6.46134098 6.85706862]\n",
            "2023-09-24 20:18:46,957 - pyswarms.single.global_best - INFO - Optimize for 1 iters with {'c1': 0.5, 'c2': 0.3, 'w': 0.9}\n"
          ]
        },
        {
          "output_type": "stream",
          "name": "stdout",
          "text": [
            "\n",
            "=========================================================================\n",
            "\n",
            "Número de ciclos de manutenção: 10 5\n",
            "Tempos para manutenções preventivas: [0, 10, 34, 100, 201, 295, 310, 426, 486, 584, 672]\n",
            "Severidade para cada subsistema: [0.25, 0.5, 0.5, 0.25, 0.75, 0.5, 0.5, 0.5, 0.75, 0.5]\n",
            "Número de Sisemas: 5\n",
            "Fator:  [0.3296799539643607, 0.3934693402873666, 0.6321205588285577, 0.6321205588285577, 0.3934693402873666, 0.7768698398515702, 0.6321205588285577, 0.6321205588285577, 0.6321205588285577, 0.7768698398515702, 0.6321205588285577]\n",
            "Media de falhas:  [0, 32.0, 8758.754323788913, 1568166.9951263473, 17439612.741834033, 59485504.38574116, 88568958.95595926, 157726068.36997175, 280447825.2991992, 741860874.6385859, 1410524537.2740896, 1387190846.567966]\n",
            "Custo =  71358807834.44707\n"
          ]
        },
        {
          "output_type": "stream",
          "name": "stderr",
          "text": [
            "pyswarms.single.global_best: 100%|██████████|1/1, best_cost=6.85e+10\n",
            "2023-09-24 20:18:46,975 - pyswarms.single.global_best - INFO - Optimization finished | best cost: 68520344337.58187, best pos: [1.35369797 3.14839801 2.06471432 3.33462466 0.23792462 0.59671555\n",
            " 1.70845237 2.35932668 2.43634168 5.85532596 3.3522457  2.88929695\n",
            " 1.88241149 2.71727999 3.22276457 4.21593434 3.18340857 4.65595709\n",
            " 2.9046641  0.85038769 4.49585114 1.91714196 6.46133466 6.85704182]\n",
            "2023-09-24 20:18:46,977 - pyswarms.single.global_best - INFO - Optimize for 1 iters with {'c1': 0.5, 'c2': 0.3, 'w': 0.9}\n"
          ]
        },
        {
          "output_type": "stream",
          "name": "stdout",
          "text": [
            "\n",
            "=========================================================================\n",
            "\n",
            "Número de ciclos de manutenção: 9 5\n",
            "Tempos para manutenções preventivas: [0, 10, 34, 100, 201, 295, 310, 426, 487, 680]\n",
            "Severidade para cada subsistema: [0.25, 0.5, 0.5, 0.25, 0.75, 0.5, 0.5, 0.5, 0.5]\n",
            "Número de Sisemas: 5\n",
            "Fator:  [0.3296799539643607, 0.3934693402873666, 0.6321205588285577, 0.6321205588285577, 0.3934693402873666, 0.7768698398515702, 0.6321205588285577, 0.6321205588285577, 0.6321205588285577, 0.6321205588285577]\n",
            "Media de falhas:  [0, 32.0, 8758.754323788913, 1568166.9951263473, 17439612.741834033, 59485504.38574116, 88568958.95595926, 157726068.36997175, 284009850.32690716, 2509400974.1368413, 2241559084.601435]\n",
            "Custo =  80449146586.96167\n"
          ]
        },
        {
          "output_type": "stream",
          "name": "stderr",
          "text": [
            "pyswarms.single.global_best: 100%|██████████|1/1, best_cost=6.85e+10"
          ]
        },
        {
          "output_type": "stream",
          "name": "stdout",
          "text": [
            "\n",
            "=========================================================================\n",
            "\n",
            "Número de ciclos de manutenção: 10 5\n",
            "Tempos para manutenções preventivas: [0, 10, 34, 100, 201, 295, 310, 426, 486, 591, 687]\n",
            "Severidade para cada subsistema: [0.25, 0.5, 0.5, 0.25, 0.75, 0.5, 0.5, 0.5, 0.75, 0.5]\n",
            "Número de Sisemas: 5\n",
            "Fator:  [0.3296799539643607, 0.3934693402873666, 0.6321205588285577, 0.6321205588285577, 0.3934693402873666, 0.7768698398515702, 0.6321205588285577, 0.6321205588285577, 0.6321205588285577, 0.7768698398515702, 0.6321205588285577]\n",
            "Media de falhas:  [0, 32.0, 8758.754323788913, 1568166.9951263473, 17439612.741834033, 59485504.38574116, 88568958.95595926, 157726068.36997175, 280447825.2991992, 811008964.5911691, 1623295407.0820541, 1596620284.8734162]\n",
            "Custo =  76119066910.26976\n"
          ]
        },
        {
          "output_type": "stream",
          "name": "stderr",
          "text": [
            "\n",
            "2023-09-24 20:18:46,995 - pyswarms.single.global_best - INFO - Optimization finished | best cost: 68520344337.58187, best pos: [1.35370437 3.14839802 2.06471252 3.33462478 0.23792456 0.59671558\n",
            " 1.70845887 2.35932654 2.4363417  5.85527154 3.35224789 2.88929747\n",
            " 1.88240983 2.71727995 3.22276428 4.21594527 3.18340849 4.65595707\n",
            " 2.90466424 0.85038076 4.49585114 1.87328465 6.46133018 6.85701783]\n",
            "2023-09-24 20:18:46,999 - pyswarms.single.global_best - INFO - Optimize for 1 iters with {'c1': 0.5, 'c2': 0.3, 'w': 0.9}\n",
            "pyswarms.single.global_best:   0%|          |0/1, best_cost=6.85e+10"
          ]
        },
        {
          "output_type": "stream",
          "name": "stdout",
          "text": [
            "\n",
            "=========================================================================\n",
            "\n",
            "Número de ciclos de manutenção: 9 5\n",
            "Tempos para manutenções preventivas: [0, 10, 34, 100, 201, 295, 310, 389, 425, 486]\n",
            "Severidade para cada subsistema: [0.25, 0.5, 0.5, 0.25, 0.75, 0.5, 0.25, 0.5, 0.5]\n",
            "Número de Sisemas: 5\n",
            "Fator:  [0.3296799539643607, 0.3934693402873666, 0.6321205588285577, 0.6321205588285577, 0.3934693402873666, 0.7768698398515702, 0.6321205588285577, 0.3934693402873666, 0.6321205588285577, 0.6321205588285577]\n",
            "Media de falhas:  [0, 32.0, 8758.754323788913, 1568166.9951263473, 17439612.741834033, 59485504.38574116, 88568958.95595926, 110915959.40420637, 150688424.83006114, 839828173.1144373, 1469904376.2109904]\n",
            "Custo =  83117409960.74388\n"
          ]
        },
        {
          "output_type": "stream",
          "name": "stderr",
          "text": [
            "\rpyswarms.single.global_best: 100%|██████████|1/1, best_cost=6.85e+10\n",
            "2023-09-24 20:18:47,019 - pyswarms.single.global_best - INFO - Optimization finished | best cost: 68520344337.58187, best pos: [1.35370564 3.14839802 2.06471073 3.33462514 0.23792454 0.59671563\n",
            " 1.70847327 2.35932643 2.43634175 5.8551432  3.35224662 2.88929671\n",
            " 1.8824049  2.71728037 3.22276358 4.2159669  3.18340836 4.65595697\n",
            " 2.90466459 0.85036942 4.49585114 1.84449042 6.46132681 6.85700001]\n",
            "2023-09-24 20:18:47,021 - pyswarms.single.global_best - INFO - Optimize for 1 iters with {'c1': 0.5, 'c2': 0.3, 'w': 0.9}\n",
            "pyswarms.single.global_best: 100%|██████████|1/1, best_cost=6.85e+10\n",
            "2023-09-24 20:18:47,039 - pyswarms.single.global_best - INFO - Optimization finished | best cost: 68520344337.58187, best pos: [1.35370366 3.14839803 2.06470849 3.3346256  0.23792459 0.59671569\n",
            " 1.70848693 2.35932644 2.4363418  5.8549565  3.35224499 2.88929542\n",
            " 1.88239857 2.7172809  3.22276268 4.21599466 3.18340813 4.65595684\n",
            " 2.90466499 0.85035597 4.49585115 1.8302833  6.46132443 6.85698449]\n",
            "2023-09-24 20:18:47,041 - pyswarms.single.global_best - INFO - Optimize for 1 iters with {'c1': 0.5, 'c2': 0.3, 'w': 0.9}\n"
          ]
        },
        {
          "output_type": "stream",
          "name": "stdout",
          "text": [
            "\n",
            "=========================================================================\n",
            "\n",
            "Número de ciclos de manutenção: 12 5\n",
            "Tempos para manutenções preventivas: [0, 10, 34, 100, 133, 201, 295, 310, 387, 425, 485, 595, 681]\n",
            "Severidade para cada subsistema: [0.25, 0.5, 0.5, 0.5, 0.25, 0.75, 0.5, 0.25, 0.5, 0.5, 0.75, 0.5]\n",
            "Número de Sisemas: 5\n",
            "Fator:  [0.3296799539643607, 0.3934693402873666, 0.6321205588285577, 0.6321205588285577, 0.6321205588285577, 0.3934693402873666, 0.7768698398515702, 0.6321205588285577, 0.3934693402873666, 0.6321205588285577, 0.6321205588285577, 0.7768698398515702, 0.6321205588285577]\n",
            "Media de falhas:  [0, 32.0, 8758.754323788913, 1568166.9951263473, 2076332.4331853255, 8980865.644768823, 51026757.28867595, 80110211.85889405, 100955898.88942832, 143328147.36173508, 816049333.2268785, 1396875695.2014344, 2079134853.9666686, 2053787741.3283963]\n",
            "Custo =  114605358296.41403\n"
          ]
        },
        {
          "output_type": "stream",
          "name": "stderr",
          "text": [
            "pyswarms.single.global_best: 100%|██████████|1/1, best_cost=6.85e+10\n",
            "2023-09-24 20:18:47,058 - pyswarms.single.global_best - INFO - Optimization finished | best cost: 68520344337.58187, best pos: [1.35370173 3.14839804 2.0647063  3.33462617 0.23792467 0.59671573\n",
            " 1.70849933 2.35932652 2.43634185 5.85478303 3.35224061 2.88929358\n",
            " 1.88239273 2.71728156 3.22276185 4.21601989 3.18340787 4.6559567\n",
            " 2.90466537 0.85034433 4.49585115 1.8312336  6.46132873 6.85700025]\n",
            "2023-09-24 20:18:47,060 - pyswarms.single.global_best - INFO - Optimize for 1 iters with {'c1': 0.5, 'c2': 0.3, 'w': 0.9}\n"
          ]
        },
        {
          "output_type": "stream",
          "name": "stdout",
          "text": [
            "\n",
            "=========================================================================\n",
            "\n",
            "Número de ciclos de manutenção: 12 5\n",
            "Tempos para manutenções preventivas: [0, 10, 34, 99, 201, 295, 310, 386, 425, 485, 592, 654, 702]\n",
            "Severidade para cada subsistema: [0.25, 0.5, 0.5, 0.25, 0.75, 0.5, 0.25, 0.5, 0.5, 0.25, 0.75, 0.75]\n",
            "Número de Sisemas: 5\n",
            "Fator:  [0.3296799539643607, 0.3934693402873666, 0.6321205588285577, 0.6321205588285577, 0.3934693402873666, 0.7768698398515702, 0.6321205588285577, 0.3934693402873666, 0.6321205588285577, 0.6321205588285577, 0.3934693402873666, 0.7768698398515702, 0.7768698398515702]\n",
            "Media de falhas:  [0, 32.0, 8758.754323788913, 1480141.8921295193, 17720561.090128284, 59766452.73403542, 88849907.30425352, 108975126.05243763, 152665937.868464, 825387123.7336074, 1373680979.441638, 1765519593.0704224, 4186273533.0107794, 4156255758.5085726]\n",
            "Custo =  309345618993.1075\n"
          ]
        },
        {
          "output_type": "stream",
          "name": "stderr",
          "text": [
            "pyswarms.single.global_best: 100%|██████████|1/1, best_cost=6.85e+10\n",
            "2023-09-24 20:18:47,078 - pyswarms.single.global_best - INFO - Optimization finished | best cost: 68520344337.58187, best pos: [1.35369692 3.14839804 2.06470448 3.33462668 0.23792487 0.59671577\n",
            " 1.70850939 2.35932666 2.43634189 5.85462841 3.35223579 2.88929188\n",
            " 1.88238787 2.71728217 3.22276126 4.21603575 3.18340765 4.65595657\n",
            " 2.9046657  0.85033635 4.49585116 1.83731102 6.46133577 6.85703435]\n",
            "2023-09-24 20:18:47,082 - pyswarms.single.global_best - INFO - Optimize for 1 iters with {'c1': 0.5, 'c2': 0.3, 'w': 0.9}\n"
          ]
        },
        {
          "output_type": "stream",
          "name": "stdout",
          "text": [
            "\n",
            "=========================================================================\n",
            "\n",
            "Número de ciclos de manutenção: 13 5\n",
            "Tempos para manutenções preventivas: [0, 10, 34, 99, 145, 201, 295, 310, 384, 425, 485, 571, 685, 714]\n",
            "Severidade para cada subsistema: [0.25, 0.5, 0.5, 0.25, 0.25, 0.75, 0.5, 0.25, 0.5, 0.5, 0.75, 0.25, 0.5]\n",
            "Número de Sisemas: 5\n",
            "Fator:  [0.3296799539643607, 0.3934693402873666, 0.6321205588285577, 0.6321205588285577, 0.3934693402873666, 0.3934693402873666, 0.7768698398515702, 0.6321205588285577, 0.3934693402873666, 0.6321205588285577, 0.6321205588285577, 0.7768698398515702, 0.3934693402873666, 0.6321205588285577]\n",
            "Media de falhas:  [0, 32.0, 8758.754323788913, 1480141.8921295193, 2676704.876531921, 7539945.165993575, 149077449.54537806, 178160904.11559618, 196903525.98401898, 243269696.3827022, 915990882.2478456, 1271780801.00378, 2284498389.4288235, 2321433363.122787, -1494671768.610826]\n",
            "Custo =  255781845103.3177\n"
          ]
        },
        {
          "output_type": "stream",
          "name": "stderr",
          "text": [
            "pyswarms.single.global_best:   0%|          |0/1, best_cost=6.85e+10"
          ]
        },
        {
          "output_type": "stream",
          "name": "stdout",
          "text": [
            "\n",
            "=========================================================================\n",
            "\n",
            "Número de ciclos de manutenção: 10 5\n",
            "Tempos para manutenções preventivas: [0, 10, 34, 99, 201, 295, 310, 383, 426, 484, 710]\n",
            "Severidade para cada subsistema: [0.25, 0.5, 0.5, 0.25, 0.75, 0.5, 0.25, 0.5, 0.5, 0.25]\n",
            "Número de Sisemas: 5\n",
            "Fator:  [0.3296799539643607, 0.3934693402873666, 0.6321205588285577, 0.6321205588285577, 0.3934693402873666, 0.7768698398515702, 0.6321205588285577, 0.3934693402873666, 0.6321205588285577, 0.6321205588285577, 0.3934693402873666]\n",
            "Media de falhas:  [0, 32.0, 8758.754323788913, 1480141.8921295193, 17720561.090128284, 59766452.73403542, 88849907.30425352, 106929602.40862004, 156463028.89281005, 802342411.1766703, 4191312469.4074097, 3827577810.748244]\n",
            "Custo =  133623989189.26855\n"
          ]
        },
        {
          "output_type": "stream",
          "name": "stderr",
          "text": [
            "\rpyswarms.single.global_best: 100%|██████████|1/1, best_cost=6.85e+10\n",
            "2023-09-24 20:18:47,106 - pyswarms.single.global_best - INFO - Optimization finished | best cost: 68520344337.58187, best pos: [1.35369173 3.14839805 2.06470367 3.33462716 0.23792505 0.59671577\n",
            " 1.70851827 2.35932679 2.4363419  5.85449107 3.35222973 2.88929049\n",
            " 1.88238377 2.71728264 3.2227609  4.21604182 3.18340749 4.65595647\n",
            " 2.90466599 0.85033453 4.49585117 1.85449603 6.46134718 6.85708238]\n",
            "2023-09-24 20:18:47,108 - pyswarms.single.global_best - INFO - Optimize for 1 iters with {'c1': 0.5, 'c2': 0.3, 'w': 0.9}\n",
            "pyswarms.single.global_best: 100%|██████████|1/1, best_cost=6.85e+10"
          ]
        },
        {
          "output_type": "stream",
          "name": "stdout",
          "text": [
            "\n",
            "=========================================================================\n",
            "\n",
            "Número de ciclos de manutenção: 11 5\n",
            "Tempos para manutenções preventivas: [0, 10, 34, 99, 201, 295, 310, 383, 426, 484, 588, 647]\n",
            "Severidade para cada subsistema: [0.25, 0.5, 0.5, 0.25, 0.75, 0.5, 0.25, 0.5, 0.5, 0.5, 0.25]\n",
            "Número de Sisemas: 5\n",
            "Fator:  [0.3296799539643607, 0.3934693402873666, 0.6321205588285577, 0.6321205588285577, 0.3934693402873666, 0.7768698398515702, 0.6321205588285577, 0.3934693402873666, 0.6321205588285577, 0.6321205588285577, 0.6321205588285577, 0.3934693402873666]\n",
            "Media de falhas:  [0, 32.0, 8758.754323788913, 1480141.8921295193, 17720561.090128284, 59766452.73403542, 88849907.30425352, 106929602.40862004, 156463028.89281005, 802342411.1766703, 1316302246.0127788, 1670905436.1298633, 1507831110.755052]\n",
            "Custo =  118102749615.7438\n"
          ]
        },
        {
          "output_type": "stream",
          "name": "stderr",
          "text": [
            "\n",
            "2023-09-24 20:18:47,125 - pyswarms.single.global_best - INFO - Optimization finished | best cost: 68520344337.58187, best pos: [1.3536869  3.14839805 2.06470401 3.33462757 0.23792523 0.59671577\n",
            " 1.7085231  2.35932691 2.43634191 5.85439225 3.35222424 2.88928956\n",
            " 1.88238115 2.71728278 3.22276094 4.21603376 3.18340739 4.65595641\n",
            " 2.90466613 0.85033883 4.49585117 1.89035801 6.46135958 6.85712688]\n",
            "2023-09-24 20:18:47,127 - pyswarms.single.global_best - INFO - Optimize for 1 iters with {'c1': 0.5, 'c2': 0.3, 'w': 0.9}\n",
            "pyswarms.single.global_best:   0%|          |0/1, best_cost=6.85e+10"
          ]
        },
        {
          "output_type": "stream",
          "name": "stdout",
          "text": [
            "\n",
            "=========================================================================\n",
            "\n",
            "Número de ciclos de manutenção: 11 5\n",
            "Tempos para manutenções preventivas: [0, 10, 34, 99, 201, 295, 310, 383, 426, 484, 661, 700]\n",
            "Severidade para cada subsistema: [0.25, 0.5, 0.5, 0.25, 0.75, 0.5, 0.25, 0.5, 0.5, 0.25, 0.5]\n",
            "Número de Sisemas: 5\n",
            "Fator:  [0.3296799539643607, 0.3934693402873666, 0.6321205588285577, 0.6321205588285577, 0.3934693402873666, 0.7768698398515702, 0.6321205588285577, 0.3934693402873666, 0.6321205588285577, 0.6321205588285577, 0.3934693402873666, 0.6321205588285577]\n",
            "Media de falhas:  [0, 32.0, 8758.754323788913, 1480141.8921295193, 17720561.090128284, 59766452.73403542, 88849907.30425352, 106929602.40862004, 156463028.89281005, 802342411.1766703, 2550668506.3084702, 2850984723.1229944, -411082409.7745609]\n",
            "Custo =  261210046289.19104\n"
          ]
        },
        {
          "output_type": "stream",
          "name": "stderr",
          "text": [
            "\rpyswarms.single.global_best: 100%|██████████|1/1, best_cost=6.85e+10\n",
            "2023-09-24 20:18:47,147 - pyswarms.single.global_best - INFO - Optimization finished | best cost: 68520344337.58187, best pos: [1.35368196 3.14839805 2.06470445 3.33462793 0.23792539 0.59671575\n",
            " 1.70851694 2.35932702 2.43634189 5.85436249 3.35221938 2.88928946\n",
            " 1.88237896 2.71728261 3.2227612  4.21602187 3.18340732 4.65595638\n",
            " 2.90466602 0.85034432 4.49585118 1.92681862 6.46136997 6.85715758]\n",
            "2023-09-24 20:18:47,149 - pyswarms.single.global_best - INFO - Optimize for 1 iters with {'c1': 0.5, 'c2': 0.3, 'w': 0.9}\n",
            "pyswarms.single.global_best:   0%|          |0/1, best_cost=6.85e+10"
          ]
        },
        {
          "output_type": "stream",
          "name": "stdout",
          "text": [
            "\n",
            "=========================================================================\n",
            "\n",
            "Número de ciclos de manutenção: 12 5\n",
            "Tempos para manutenções preventivas: [0, 10, 34, 99, 126, 201, 295, 310, 383, 426, 485, 583, 685]\n",
            "Severidade para cada subsistema: [0.25, 0.5, 0.5, 0.75, 0.25, 0.75, 0.5, 0.25, 0.5, 0.5, 0.25, 0.25]\n",
            "Número de Sisemas: 5\n",
            "Fator:  [0.3296799539643607, 0.3934693402873666, 0.6321205588285577, 0.6321205588285577, 0.7768698398515702, 0.3934693402873666, 0.7768698398515702, 0.6321205588285577, 0.3934693402873666, 0.6321205588285577, 0.6321205588285577, 0.3934693402873666, 0.3934693402873666]\n",
            "Media de falhas:  [0, 32.0, 8758.754323788913, 1480141.8921295193, 1787946.6346118948, 10141160.078203358, 26597627.076539576, 55681081.646757685, 73760776.7511242, 123294203.2353142, 785306497.3974127, 1243872884.9053524, 2114525069.4180841, -585695546.4850636]\n",
            "Custo =  239449025956.04276\n"
          ]
        },
        {
          "output_type": "stream",
          "name": "stderr",
          "text": [
            "\rpyswarms.single.global_best: 100%|██████████|1/1, best_cost=6.85e+10\n",
            "2023-09-24 20:18:47,163 - pyswarms.single.global_best - INFO - Optimization finished | best cost: 68520344337.58187, best pos: [1.35367792 3.14839805 2.06470535 3.33462813 0.23792551 0.59671573\n",
            " 1.70851069 2.3593271  2.43634187 5.85434442 3.35221607 2.88928964\n",
            " 1.88237918 2.71728233 3.22276155 4.21600854 3.18340743 4.65595641\n",
            " 2.90466574 0.85035144 4.49585118 1.95970618 6.4613763  6.85716924]\n",
            "2023-09-24 20:18:47,165 - pyswarms.single.global_best - INFO - Optimize for 1 iters with {'c1': 0.5, 'c2': 0.3, 'w': 0.9}\n",
            "pyswarms.single.global_best:   0%|          |0/1, best_cost=6.85e+10"
          ]
        },
        {
          "output_type": "stream",
          "name": "stdout",
          "text": [
            "\n",
            "=========================================================================\n",
            "\n",
            "Número de ciclos de manutenção: 12 5\n",
            "Tempos para manutenções preventivas: [0, 10, 34, 99, 121, 201, 295, 310, 384, 427, 485, 598, 698]\n",
            "Severidade para cada subsistema: [0.25, 0.5, 0.5, 0.25, 0.25, 0.75, 0.5, 0.25, 0.5, 0.5, 0.5, 0.75]\n",
            "Número de Sisemas: 5\n",
            "Fator:  [0.3296799539643607, 0.3934693402873666, 0.6321205588285577, 0.6321205588285577, 0.3934693402873666, 0.3934693402873666, 0.7768698398515702, 0.6321205588285577, 0.3934693402873666, 0.6321205588285577, 0.6321205588285577, 0.6321205588285577, 0.7768698398515702]\n",
            "Media de falhas:  [0, 32.0, 8758.754323788913, 1480141.8921295193, 1677388.1800299305, 11198489.141862597, 152735993.5212471, 181819448.0914652, 200562069.959888, 250538185.90092844, 901832651.9253831, 1516573586.857686, 2425293731.459347, 2100352549.573313]\n",
            "Custo =  136333761161.70204\n"
          ]
        },
        {
          "output_type": "stream",
          "name": "stderr",
          "text": [
            "\rpyswarms.single.global_best: 100%|██████████|1/1, best_cost=6.85e+10\n",
            "2023-09-24 20:18:47,180 - pyswarms.single.global_best - INFO - Optimization finished | best cost: 68520344337.58187, best pos: [1.35367604 3.14839804 2.06470676 3.33462828 0.2379256  0.59671569\n",
            " 1.70850169 2.35932715 2.43634184 5.85437821 3.35221518 2.88929007\n",
            " 1.88238078 2.71728205 3.22276193 4.21599645 3.18340758 4.65595644\n",
            " 2.90466548 0.85035797 4.49585118 1.98810689 6.46137636 6.85717583]\n",
            "2023-09-24 20:18:47,181 - pyswarms.single.global_best - INFO - Optimize for 1 iters with {'c1': 0.5, 'c2': 0.3, 'w': 0.9}\n",
            "pyswarms.single.global_best:   0%|          |0/1"
          ]
        },
        {
          "output_type": "stream",
          "name": "stdout",
          "text": [
            "\n",
            "=========================================================================\n",
            "\n",
            "Número de ciclos de manutenção: 10 5\n",
            "Tempos para manutenções preventivas: [0, 10, 34, 99, 201, 295, 310, 385, 427, 485, 690]\n",
            "Severidade para cada subsistema: [0.25, 0.5, 0.5, 0.25, 0.75, 0.5, 0.25, 0.5, 0.5, 0.5]\n",
            "Número de Sisemas: 5\n",
            "Fator:  [0.3296799539643607, 0.3934693402873666, 0.6321205588285577, 0.6321205588285577, 0.3934693402873666, 0.7768698398515702, 0.6321205588285577, 0.3934693402873666, 0.6321205588285577, 0.6321205588285577, 0.6321205588285577]\n",
            "Media de falhas:  [0, 32.0, 8758.754323788913, 1480141.8921295193, 17720561.090128284, 59766452.73403542, 88849907.30425352, 108274238.28219824, 156856696.22416762, 808151162.2486223, 3402039350.931355, 3102587079.496904]\n"
          ]
        },
        {
          "output_type": "stream",
          "name": "stderr",
          "text": [
            "pyswarms.single.global_best: 100%|██████████|1/1, best_cost=6.85e+10\n",
            "2023-09-24 20:18:47,200 - pyswarms.single.global_best - INFO - Optimization finished | best cost: 68520344337.58187, best pos: [1.3536744  3.14839803 2.06470821 3.33462804 0.23792566 0.59671566\n",
            " 1.70849078 2.3593271  2.43634182 5.85452944 3.35221458 2.88929087\n",
            " 1.88238604 2.71728179 3.2227623  4.21598557 3.18340772 4.65595649\n",
            " 2.90466522 0.85036377 4.49585118 2.01308233 6.46137616 6.85717339]\n",
            "2023-09-24 20:18:47,202 - pyswarms.single.global_best - INFO - Optimize for 1 iters with {'c1': 0.5, 'c2': 0.3, 'w': 0.9}\n"
          ]
        },
        {
          "output_type": "stream",
          "name": "stdout",
          "text": [
            "Custo =  124774835974.51575\n"
          ]
        },
        {
          "output_type": "stream",
          "name": "stderr",
          "text": [
            "pyswarms.single.global_best:   0%|          |0/1, best_cost=6.85e+10"
          ]
        },
        {
          "output_type": "stream",
          "name": "stdout",
          "text": [
            "\n",
            "=========================================================================\n",
            "\n",
            "Número de ciclos de manutenção: 10 5\n",
            "Tempos para manutenções preventivas: [0, 10, 34, 100, 201, 295, 310, 386, 427, 486, 590]\n",
            "Severidade para cada subsistema: [0.25, 0.5, 0.5, 0.25, 0.75, 0.5, 0.25, 0.5, 0.5, 0.25]\n",
            "Número de Sisemas: 5\n",
            "Fator:  [0.3296799539643607, 0.3934693402873666, 0.6321205588285577, 0.6321205588285577, 0.3934693402873666, 0.7768698398515702, 0.6321205588285577, 0.3934693402873666, 0.6321205588285577, 0.6321205588285577, 0.3934693402873666]\n",
            "Media de falhas:  [0, 32.0, 8758.754323788913, 1568166.9951263473, 17439612.741834033, 59485504.38574116, 88568958.95595926, 108694177.70414338, 155896352.5154721, 823447602.510267, 1343703835.7126918, 1382640116.3715718]\n",
            "Custo =  96775716489.99652\n"
          ]
        },
        {
          "output_type": "stream",
          "name": "stderr",
          "text": [
            "\rpyswarms.single.global_best: 100%|██████████|1/1, best_cost=6.85e+10\n",
            "2023-09-24 20:18:47,224 - pyswarms.single.global_best - INFO - Optimization finished | best cost: 68520344337.58187, best pos: [1.3536733  3.14839803 2.06470934 3.33462769 0.23792568 0.59671563\n",
            " 1.70848038 2.35932699 2.4363418  5.85473285 3.35221676 2.88929186\n",
            " 1.88239359 2.71728155 3.2227627  4.21597589 3.18340788 4.65595659\n",
            " 2.90466499 0.85036872 4.49585118 2.02834499 6.46137302 6.85716805]\n",
            "2023-09-24 20:18:47,228 - pyswarms.single.global_best - INFO - Optimize for 1 iters with {'c1': 0.5, 'c2': 0.3, 'w': 0.9}\n",
            "pyswarms.single.global_best:   0%|          |0/1, best_cost=6.85e+10"
          ]
        },
        {
          "output_type": "stream",
          "name": "stdout",
          "text": [
            "\n",
            "=========================================================================\n",
            "\n",
            "Número de ciclos de manutenção: 11 5\n",
            "Tempos para manutenções preventivas: [0, 10, 34, 100, 201, 295, 310, 387, 427, 486, 598, 714]\n",
            "Severidade para cada subsistema: [0.25, 0.5, 0.5, 0.25, 0.75, 0.5, 0.25, 0.5, 0.5, 0.5, 0.75]\n",
            "Número de Sisemas: 5\n",
            "Fator:  [0.3296799539643607, 0.3934693402873666, 0.6321205588285577, 0.6321205588285577, 0.3934693402873666, 0.7768698398515702, 0.6321205588285577, 0.3934693402873666, 0.6321205588285577, 0.6321205588285577, 0.6321205588285577, 0.7768698398515702]\n",
            "Media de falhas:  [0, 32.0, 8758.754323788913, 1568166.9951263473, 17439612.741834033, 59485504.38574116, 88568958.95595926, 109414645.98649353, 155249730.33911857, 822800980.3339136, 1429679838.834959, 2635025788.101694, 2258164165.0982356]\n",
            "Custo =  137654551134.86755\n"
          ]
        },
        {
          "output_type": "stream",
          "name": "stderr",
          "text": [
            "\rpyswarms.single.global_best: 100%|██████████|1/1, best_cost=6.85e+10\n",
            "2023-09-24 20:18:47,245 - pyswarms.single.global_best - INFO - Optimization finished | best cost: 68520344337.58187, best pos: [1.35367536 3.14839802 2.06471001 3.33462731 0.23792563 0.59671561\n",
            " 1.70847139 2.35932686 2.43634179 5.85491719 3.35221922 2.88929283\n",
            " 1.88240056 2.71728134 3.22276304 4.21596822 3.18340804 4.65595671\n",
            " 2.90466481 0.85037315 4.49585117 2.03792465 6.46136578 6.85714437]\n",
            "2023-09-24 20:18:47,246 - pyswarms.single.global_best - INFO - Optimize for 1 iters with {'c1': 0.5, 'c2': 0.3, 'w': 0.9}\n",
            "pyswarms.single.global_best:   0%|          |0/1, best_cost=6.85e+10"
          ]
        },
        {
          "output_type": "stream",
          "name": "stdout",
          "text": [
            "\n",
            "=========================================================================\n",
            "\n",
            "Número de ciclos de manutenção: 12 5\n",
            "Tempos para manutenções preventivas: [0, 10, 34, 100, 201, 295, 310, 388, 426, 485, 593, 633, 719]\n",
            "Severidade para cada subsistema: [0.25, 0.5, 0.5, 0.25, 0.75, 0.5, 0.25, 0.5, 0.5, 0.75, 0.75, 0.5]\n",
            "Número de Sisemas: 5\n",
            "Fator:  [0.3296799539643607, 0.3934693402873666, 0.6321205588285577, 0.6321205588285577, 0.3934693402873666, 0.7768698398515702, 0.6321205588285577, 0.3934693402873666, 0.6321205588285577, 0.6321205588285577, 0.7768698398515702, 0.7768698398515702, 0.6321205588285577]\n",
            "Media de falhas:  [0, 32.0, 8758.754323788913, 1568166.9951263473, 17439612.741834033, 59485504.38574116, 88568958.95595926, 110155102.20688914, 152909807.9122791, 814922102.0743775, 1373909216.367644, 1582688734.9971972, 1758605868.7323563, 1724636560.886644]\n",
            "Custo =  111664187722.27522\n"
          ]
        },
        {
          "output_type": "stream",
          "name": "stderr",
          "text": [
            "\rpyswarms.single.global_best: 100%|██████████|1/1, best_cost=6.85e+10\n",
            "2023-09-24 20:18:47,259 - pyswarms.single.global_best - INFO - Optimization finished | best cost: 68520344337.58187, best pos: [1.35367914 3.14839802 2.06471025 3.33462688 0.23792551 0.5967156\n",
            " 1.70846467 2.35932673 2.43634178 5.85507902 3.35222206 2.88929365\n",
            " 1.88240679 2.71728115 3.22276324 4.21596188 3.18340817 4.65595682\n",
            " 2.90466467 0.85037337 4.49585117 2.04372272 6.46135838 6.85712028]\n",
            "2023-09-24 20:18:47,261 - pyswarms.single.global_best - INFO - Optimize for 1 iters with {'c1': 0.5, 'c2': 0.3, 'w': 0.9}\n",
            "pyswarms.single.global_best: 100%|██████████|1/1, best_cost=6.85e+10\n",
            "2023-09-24 20:18:47,274 - pyswarms.single.global_best - INFO - Optimization finished | best cost: 68520344337.58187, best pos: [1.35368376 3.14839802 2.06471021 3.3346265  0.23792533 0.59671559\n",
            " 1.70846398 2.35932664 2.43634178 5.8552004  3.35222461 2.88929423\n",
            " 1.88241119 2.71728103 3.22276334 4.21595805 3.18340825 4.65595689\n",
            " 2.90466461 0.85037081 4.49585117 2.02398489 6.46135138 6.85709309]\n"
          ]
        },
        {
          "output_type": "stream",
          "name": "stdout",
          "text": [
            "\n",
            "=========================================================================\n",
            "\n",
            "Número de ciclos de manutenção: 12 5\n",
            "Tempos para manutenções preventivas: [0, 10, 34, 100, 201, 295, 310, 388, 426, 485, 651, 687, 708]\n",
            "Severidade para cada subsistema: [0.25, 0.5, 0.5, 0.25, 0.75, 0.5, 0.25, 0.5, 0.5, 0.5, 0.25, 0.25]\n",
            "Número de Sisemas: 5\n",
            "Fator:  [0.3296799539643607, 0.3934693402873666, 0.6321205588285577, 0.6321205588285577, 0.3934693402873666, 0.7768698398515702, 0.6321205588285577, 0.3934693402873666, 0.6321205588285577, 0.6321205588285577, 0.6321205588285577, 0.3934693402873666, 0.3934693402873666]\n",
            "Media de falhas:  [0, 32.0, 8758.754323788913, 1568166.9951263473, 17439612.741834033, 59485504.38574116, 88568958.95595926, 110155102.20688914, 152909807.9122791, 814922102.0743775, 2308024032.4397454, 2563698151.1910324, 2725536638.0469756, -849453075.6231585]\n",
            "Custo =  288378991461.447\n"
          ]
        },
        {
          "output_type": "stream",
          "name": "stderr",
          "text": [
            "2023-09-24 20:18:47,276 - pyswarms.single.global_best - INFO - Optimize for 1 iters with {'c1': 0.5, 'c2': 0.3, 'w': 0.9}\n",
            "pyswarms.single.global_best: 100%|██████████|1/1, best_cost=6.85e+10\n",
            "2023-09-24 20:18:47,289 - pyswarms.single.global_best - INFO - Optimization finished | best cost: 68520344337.58187, best pos: [1.35368818 3.14839801 2.06470998 3.33462621 0.23792515 0.5967156\n",
            " 1.70846711 2.35932656 2.43634179 5.85524979 3.35222746 2.88929433\n",
            " 1.88241398 2.71728094 3.22276322 4.21596508 3.18340828 4.65595691\n",
            " 2.90466469 0.85036564 4.49585116 1.98786162 6.46134588 6.85706858]\n",
            "2023-09-24 20:18:47,291 - pyswarms.single.global_best - INFO - Optimize for 1 iters with {'c1': 0.5, 'c2': 0.3, 'w': 0.9}\n"
          ]
        },
        {
          "output_type": "stream",
          "name": "stdout",
          "text": [
            "\n",
            "=========================================================================\n",
            "\n",
            "Número de ciclos de manutenção: 13 5\n",
            "Tempos para manutenções preventivas: [0, 10, 34, 100, 124, 201, 295, 310, 388, 426, 485, 570, 669, 715]\n",
            "Severidade para cada subsistema: [0.25, 0.5, 0.5, 0.5, 0.25, 0.75, 0.5, 0.25, 0.5, 0.5, 0.5, 0.25, 0.75]\n",
            "Número de Sisemas: 5\n",
            "Fator:  [0.3296799539643607, 0.3934693402873666, 0.6321205588285577, 0.6321205588285577, 0.6321205588285577, 0.3934693402873666, 0.7768698398515702, 0.6321205588285577, 0.3934693402873666, 0.6321205588285577, 0.6321205588285577, 0.6321205588285577, 0.3934693402873666, 0.7768698398515702]\n",
            "Media de falhas:  [0, 32.0, 8758.754323788913, 1568166.9951263473, 1812211.1822454028, 10618606.731897496, 52664498.375804625, 81747952.94602273, 103334096.19695261, 146088801.90234256, 808101096.064441, 1156128143.732051, 1923352087.002161, 2315012018.6452723, -1541830288.6590118]\n",
            "Custo =  276213681410.51984\n"
          ]
        },
        {
          "output_type": "stream",
          "name": "stderr",
          "text": [
            "pyswarms.single.global_best:   0%|          |0/1, best_cost=6.85e+10"
          ]
        },
        {
          "output_type": "stream",
          "name": "stdout",
          "text": [
            "\n",
            "=========================================================================\n",
            "\n",
            "Número de ciclos de manutenção: 11 5\n",
            "Tempos para manutenções preventivas: [0, 10, 34, 100, 201, 295, 310, 388, 426, 485, 581, 663]\n",
            "Severidade para cada subsistema: [0.25, 0.5, 0.5, 0.25, 0.75, 0.5, 0.25, 0.5, 0.5, 0.75, 0.25]\n",
            "Número de Sisemas: 5\n",
            "Fator:  [0.3296799539643607, 0.3934693402873666, 0.6321205588285577, 0.6321205588285577, 0.3934693402873666, 0.7768698398515702, 0.6321205588285577, 0.3934693402873666, 0.6321205588285577, 0.6321205588285577, 0.7768698398515702, 0.3934693402873666]\n",
            "Media de falhas:  [0, 32.0, 8758.754323788913, 1568166.9951263473, 17439612.741834033, 59485504.38574116, 88568958.95595926, 110155102.20688914, 152909807.9122791, 814922102.0743775, 1255074284.820641, 1836241383.8085337, 1814982843.9598022]\n",
            "Custo =  108798028784.7854\n"
          ]
        },
        {
          "output_type": "stream",
          "name": "stderr",
          "text": [
            "\rpyswarms.single.global_best: 100%|██████████|1/1, best_cost=6.85e+10\n",
            "2023-09-24 20:18:47,306 - pyswarms.single.global_best - INFO - Optimization finished | best cost: 68520344337.58187, best pos: [1.35369186 3.14839802 2.06470908 3.33462605 0.23792499 0.59671562\n",
            " 1.70847286 2.35932655 2.43634179 5.85517075 3.35223034 2.88929422\n",
            " 1.88241425 2.71728086 3.22276304 4.21597897 3.18340825 4.65595692\n",
            " 2.90466484 0.85036028 4.49585116 1.95475142 6.46134386 6.85704914]\n",
            "2023-09-24 20:18:47,308 - pyswarms.single.global_best - INFO - Optimize for 1 iters with {'c1': 0.5, 'c2': 0.3, 'w': 0.9}\n",
            "pyswarms.single.global_best:   0%|          |0/1, best_cost=6.85e+10"
          ]
        },
        {
          "output_type": "stream",
          "name": "stdout",
          "text": [
            "\n",
            "=========================================================================\n",
            "\n",
            "Número de ciclos de manutenção: 11 5\n",
            "Tempos para manutenções preventivas: [0, 10, 34, 100, 121, 201, 295, 310, 388, 426, 485, 683]\n",
            "Severidade para cada subsistema: [0.25, 0.5, 0.5, 0.5, 0.25, 0.75, 0.5, 0.25, 0.5, 0.5, 0.25]\n",
            "Número de Sisemas: 5\n",
            "Fator:  [0.3296799539643607, 0.3934693402873666, 0.6321205588285577, 0.6321205588285577, 0.6321205588285577, 0.3934693402873666, 0.7768698398515702, 0.6321205588285577, 0.3934693402873666, 0.6321205588285577, 0.6321205588285577, 0.3934693402873666]\n",
            "Media de falhas:  [0, 32.0, 8758.754323788913, 1568166.9951263473, 1752828.1367067145, 11273929.098539382, 53319820.74244651, 82403275.31266463, 103989418.5635945, 146744124.26898447, 808756418.4310828, 3169262610.6746907, 2891956694.5638556]\n",
            "Custo =  121692782229.37567\n"
          ]
        },
        {
          "output_type": "stream",
          "name": "stderr",
          "text": [
            "\rpyswarms.single.global_best: 100%|██████████|1/1, best_cost=6.85e+10\n",
            "2023-09-24 20:18:47,328 - pyswarms.single.global_best - INFO - Optimization finished | best cost: 68520344337.58187, best pos: [1.35369334 3.14839802 2.06470812 3.33462606 0.23792484 0.59671564\n",
            " 1.70847921 2.35932659 2.43634181 5.85503678 3.35223285 2.88929397\n",
            " 1.88241311 2.71728094 3.22276287 4.21599271 3.1834082  4.6559569\n",
            " 2.90466504 0.85035534 4.49585116 1.92257323 6.46134239 6.85703779]\n",
            "2023-09-24 20:18:47,330 - pyswarms.single.global_best - INFO - Optimize for 1 iters with {'c1': 0.5, 'c2': 0.3, 'w': 0.9}\n",
            "pyswarms.single.global_best:   0%|          |0/1"
          ]
        },
        {
          "output_type": "stream",
          "name": "stdout",
          "text": [
            "\n",
            "=========================================================================\n",
            "\n",
            "Número de ciclos de manutenção: 12 5\n",
            "Tempos para manutenções preventivas: [0, 10, 34, 99, 201, 295, 310, 387, 426, 484, 584, 636, 692]\n",
            "Severidade para cada subsistema: [0.25, 0.5, 0.5, 0.25, 0.75, 0.5, 0.25, 0.5, 0.5, 0.5, 0.75, 0.75]\n",
            "Número de Sisemas: 5\n",
            "Fator:  [0.3296799539643607, 0.3934693402873666, 0.6321205588285577, 0.6321205588285577, 0.3934693402873666, 0.7768698398515702, 0.6321205588285577, 0.3934693402873666, 0.6321205588285577, 0.6321205588285577, 0.6321205588285577, 0.7768698398515702, 0.7768698398515702]\n",
            "Media de falhas:  [0, 32.0, 8758.754323788913, 1480141.8921295193, 17720561.090128284, 59766452.73403542, 88849907.30425352, 109695594.33478779, 153780168.8879947, 799659551.171855, 1274247228.2137249, 1560709473.2542026, 1992372647.9406493, 1964590705.0231156]\n",
            "Custo =  133481521449.80344\n"
          ]
        },
        {
          "output_type": "stream",
          "name": "stderr",
          "text": [
            "pyswarms.single.global_best: 100%|██████████|1/1, best_cost=6.85e+10\n",
            "2023-09-24 20:18:47,358 - pyswarms.single.global_best - INFO - Optimization finished | best cost: 68520344337.58187, best pos: [1.35369286 3.14839803 2.06470712 3.33462628 0.23792478 0.59671567\n",
            " 1.70848736 2.35932667 2.43634182 5.85487939 3.35223398 2.88929349\n",
            " 1.88240862 2.71728111 3.2227627  4.21600523 3.18340811 4.65595685\n",
            " 2.90466522 0.85035144 4.49585116 1.89546698 6.46134145 6.85703475]\n",
            "2023-09-24 20:18:47,362 - pyswarms.single.global_best - INFO - Optimize for 1 iters with {'c1': 0.5, 'c2': 0.3, 'w': 0.9}\n",
            "pyswarms.single.global_best:   0%|          |0/1, best_cost=6.85e+10"
          ]
        },
        {
          "output_type": "stream",
          "name": "stdout",
          "text": [
            "\n",
            "=========================================================================\n",
            "\n",
            "Número de ciclos de manutenção: 11 5\n",
            "Tempos para manutenções preventivas: [0, 10, 34, 99, 127, 201, 295, 310, 386, 426, 484, 653]\n",
            "Severidade para cada subsistema: [0.25, 0.5, 0.5, 0.5, 0.25, 0.75, 0.5, 0.25, 0.5, 0.5, 0.5]\n",
            "Número de Sisemas: 5\n",
            "Fator:  [0.3296799539643607, 0.3934693402873666, 0.6321205588285577, 0.6321205588285577, 0.6321205588285577, 0.3934693402873666, 0.7768698398515702, 0.6321205588285577, 0.3934693402873666, 0.6321205588285577, 0.6321205588285577, 0.6321205588285577]\n",
            "Media de falhas:  [0, 32.0, 8758.754323788913, 1480141.8921295193, 1814659.5906742625, 9948044.797937829, 51993936.441844955, 81077391.01206306, 101202609.76024717, 146629810.8994878, 792509193.1833482, 2346381372.1352873, 2163995328.4812646]\n",
            "Custo =  110812592493.0\n"
          ]
        },
        {
          "output_type": "stream",
          "name": "stderr",
          "text": [
            "\rpyswarms.single.global_best: 100%|██████████|1/1, best_cost=6.85e+10\n",
            "2023-09-24 20:18:47,448 - pyswarms.single.global_best - INFO - Optimization finished | best cost: 68520344337.58187, best pos: [1.35369154 3.14839804 2.06470627 3.33462659 0.23792474 0.59671569\n",
            " 1.7084947  2.35932677 2.43634184 5.85472293 3.35223361 2.88929298\n",
            " 1.88240367 2.7172813  3.22276252 4.21601505 3.18340802 4.65595679\n",
            " 2.90466538 0.85034971 4.49585116 1.87991651 6.46134128 6.85703647]\n",
            "2023-09-24 20:18:47,452 - pyswarms.single.global_best - INFO - Optimize for 1 iters with {'c1': 0.5, 'c2': 0.3, 'w': 0.9}\n",
            "pyswarms.single.global_best:   0%|          |0/1, best_cost=6.85e+10"
          ]
        },
        {
          "output_type": "stream",
          "name": "stdout",
          "text": [
            "\n",
            "=========================================================================\n",
            "\n",
            "Número de ciclos de manutenção: 10 5\n",
            "Tempos para manutenções preventivas: [0, 10, 34, 99, 201, 295, 310, 385, 426, 485, 581]\n",
            "Severidade para cada subsistema: [0.25, 0.5, 0.5, 0.25, 0.75, 0.5, 0.25, 0.5, 0.5, 0.25]\n",
            "Número de Sisemas: 5\n",
            "Fator:  [0.3296799539643607, 0.3934693402873666, 0.6321205588285577, 0.6321205588285577, 0.3934693402873666, 0.7768698398515702, 0.6321205588285577, 0.3934693402873666, 0.6321205588285577, 0.6321205588285577, 0.3934693402873666]\n",
            "Media de falhas:  [0, 32.0, 8758.754323788913, 1480141.8921295193, 17720561.090128284, 59766452.73403542, 88849907.30425352, 108274238.28219824, 155057003.15304205, 817069297.3151405, 1257221480.0614042, 1332994772.4720225]\n",
            "Custo =  95047941325.64288\n"
          ]
        },
        {
          "output_type": "stream",
          "name": "stderr",
          "text": [
            "\rpyswarms.single.global_best: 100%|██████████|1/1, best_cost=6.85e+10\n",
            "2023-09-24 20:18:47,533 - pyswarms.single.global_best - INFO - Optimization finished | best cost: 68520344337.58187, best pos: [1.35369026 3.14839804 2.06470556 3.3346269  0.23792476 0.59671571\n",
            " 1.70850038 2.35932687 2.43634185 5.85459845 3.35223227 2.88929247\n",
            " 1.88239894 2.71728154 3.22276236 4.21602046 3.18340792 4.65595674\n",
            " 2.90466548 0.85034897 4.49585116 1.87258945 6.46134493 6.8570455 ]\n",
            "2023-09-24 20:18:47,535 - pyswarms.single.global_best - INFO - Optimize for 1 iters with {'c1': 0.5, 'c2': 0.3, 'w': 0.9}\n",
            "pyswarms.single.global_best: 100%|██████████|1/1, best_cost=6.85e+10"
          ]
        },
        {
          "output_type": "stream",
          "name": "stdout",
          "text": [
            "\n",
            "=========================================================================\n",
            "\n",
            "Número de ciclos de manutenção: 11 5\n",
            "Tempos para manutenções preventivas: [0, 10, 34, 99, 201, 295, 310, 384, 426, 485, 636, 715]\n",
            "Severidade para cada subsistema: [0.25, 0.5, 0.5, 0.25, 0.75, 0.5, 0.25, 0.5, 0.5, 0.25, 0.75]\n",
            "Número de Sisemas: 5\n",
            "Fator:  [0.3296799539643607, 0.3934693402873666, 0.6321205588285577, 0.6321205588285577, 0.3934693402873666, 0.7768698398515702, 0.6321205588285577, 0.3934693402873666, 0.6321205588285577, 0.6321205588285577, 0.3934693402873666, 0.7768698398515702]\n",
            "Media de falhas:  [0, 32.0, 8758.754323788913, 1480141.8921295193, 17720561.090128284, 59766452.73403542, 88849907.30425352, 107592529.17267632, 155743975.34402272, 817756269.5061212, 2001289881.2501886, 2737808614.590565, -1119033692.713719]\n",
            "Custo =  263549833396.08423\n"
          ]
        },
        {
          "output_type": "stream",
          "name": "stderr",
          "text": [
            "\n",
            "2023-09-24 20:18:47,593 - pyswarms.single.global_best - INFO - Optimization finished | best cost: 68520344337.58187, best pos: [1.35368883 3.14839805 2.064705   3.33462718 0.23792482 0.59671572\n",
            " 1.70850183 2.35932696 2.43634186 5.85451735 3.35223087 2.889292\n",
            " 1.88239446 2.71728176 3.22276223 4.21602192 3.18340783 4.65595668\n",
            " 2.90466553 0.85034876 4.49585116 1.86630187 6.46134824 6.85705658]\n",
            "2023-09-24 20:18:47,611 - pyswarms.single.global_best - INFO - Optimize for 1 iters with {'c1': 0.5, 'c2': 0.3, 'w': 0.9}\n",
            "pyswarms.single.global_best: 100%|██████████|1/1, best_cost=6.85e+10\n",
            "2023-09-24 20:18:47,701 - pyswarms.single.global_best - INFO - Optimization finished | best cost: 68520344337.58187, best pos: [1.35368745 3.14839805 2.06470483 3.33462733 0.23792488 0.59671572\n",
            " 1.70850048 2.35932702 2.43634186 5.85445131 3.35222921 2.8892916\n",
            " 1.88239137 2.71728192 3.22276212 4.2160218  3.18340778 4.65595664\n",
            " 2.90466555 0.85034884 4.49585116 1.86190134 6.46135192 6.8570671 ]\n",
            "2023-09-24 20:18:47,704 - pyswarms.single.global_best - INFO - Optimize for 1 iters with {'c1': 0.5, 'c2': 0.3, 'w': 0.9}\n"
          ]
        },
        {
          "output_type": "stream",
          "name": "stdout",
          "text": [
            "\n",
            "=========================================================================\n",
            "\n",
            "Número de ciclos de manutenção: 10 5\n",
            "Tempos para manutenções preventivas: [0, 10, 34, 99, 201, 295, 310, 384, 426, 485, 708]\n",
            "Severidade para cada subsistema: [0.25, 0.5, 0.5, 0.25, 0.75, 0.5, 0.25, 0.5, 0.5, 0.5]\n",
            "Número de Sisemas: 5\n",
            "Fator:  [0.3296799539643607, 0.3934693402873666, 0.6321205588285577, 0.6321205588285577, 0.3934693402873666, 0.7768698398515702, 0.6321205588285577, 0.3934693402873666, 0.6321205588285577, 0.6321205588285577, 0.6321205588285577]\n",
            "Media de falhas:  [0, 32.0, 8758.754323788913, 1480141.8921295193, 17720561.090128284, 59766452.73403542, 88849907.30425352, 107592529.17267632, 155743975.34402272, 817756269.5061212, 4095336374.381621, 3738124925.1877728]\n",
            "Custo =  132775553222.26884\n"
          ]
        },
        {
          "output_type": "stream",
          "name": "stderr",
          "text": [
            "pyswarms.single.global_best: 100%|██████████|1/1, best_cost=6.85e+10\n",
            "2023-09-24 20:18:47,725 - pyswarms.single.global_best - INFO - Optimization finished | best cost: 68520344337.58187, best pos: [1.35368587 3.14839804 2.06470544 3.33462733 0.23792495 0.59671572\n",
            " 1.70849556 2.35932706 2.43634186 5.85443423 3.35222761 2.8892913\n",
            " 1.88238968 2.717282   3.22276207 4.21601907 3.18340776 4.65595662\n",
            " 2.90466554 0.85034895 4.49585117 1.88047914 6.4613559  6.85707872]\n",
            "2023-09-24 20:18:47,727 - pyswarms.single.global_best - INFO - Optimize for 1 iters with {'c1': 0.5, 'c2': 0.3, 'w': 0.9}\n"
          ]
        },
        {
          "output_type": "stream",
          "name": "stdout",
          "text": [
            "\n",
            "=========================================================================\n",
            "\n",
            "Número de ciclos de manutenção: 11 5\n",
            "Tempos para manutenções preventivas: [0, 10, 34, 99, 201, 295, 310, 385, 426, 485, 588, 703]\n",
            "Severidade para cada subsistema: [0.25, 0.5, 0.5, 0.25, 0.75, 0.5, 0.25, 0.5, 0.5, 0.5, 0.25]\n",
            "Número de Sisemas: 5\n",
            "Fator:  [0.3296799539643607, 0.3934693402873666, 0.6321205588285577, 0.6321205588285577, 0.3934693402873666, 0.7768698398515702, 0.6321205588285577, 0.3934693402873666, 0.6321205588285577, 0.6321205588285577, 0.6321205588285577, 0.3934693402873666]\n",
            "Media de falhas:  [0, 32.0, 8758.754323788913, 1480141.8921295193, 17720561.090128284, 59766452.73403542, 88849907.30425352, 108274238.28219824, 155057003.15304205, 817069297.3151405, 1324062723.2813087, 2449957437.6249976, 2108947908.3589027]\n",
            "Custo =  132849703751.58743\n"
          ]
        },
        {
          "output_type": "stream",
          "name": "stderr",
          "text": [
            "\rpyswarms.single.global_best:   0%|          |0/1"
          ]
        },
        {
          "output_type": "stream",
          "name": "stdout",
          "text": [
            "\n",
            "=========================================================================\n",
            "\n",
            "Número de ciclos de manutenção: 9 5\n",
            "Tempos para manutenções preventivas: [0, 10, 34, 100, 201, 295, 310, 385, 427, 485]\n",
            "Severidade para cada subsistema: [0.25, 0.5, 0.5, 0.25, 0.75, 0.5, 0.25, 0.5, 0.5]\n",
            "Número de Sisemas: 5\n",
            "Fator:  [0.3296799539643607, 0.3934693402873666, 0.6321205588285577, 0.6321205588285577, 0.3934693402873666, 0.7768698398515702, 0.6321205588285577, 0.3934693402873666, 0.6321205588285577, 0.6321205588285577]\n",
            "Media de falhas:  [0, 32.0, 8758.754323788913, 1568166.9951263473, 17439612.741834033, 59485504.38574116, 88568958.95595926, 107993289.93390398, 156575747.87587336, 807870213.900328, 1446010160.2928941]\n",
            "Custo =  83045221638.5589\n"
          ]
        },
        {
          "output_type": "stream",
          "name": "stderr",
          "text": [
            "pyswarms.single.global_best: 100%|██████████|1/1, best_cost=6.85e+10\n",
            "2023-09-24 20:18:47,825 - pyswarms.single.global_best - INFO - Optimization finished | best cost: 68520344337.58187, best pos: [1.35368433 3.14839804 2.06470626 3.33462724 0.23792502 0.59671571\n",
            " 1.70848961 2.35932704 2.43634185 5.85442096 3.3522265  2.88929128\n",
            " 1.88238988 2.71728203 3.22276209 4.2160117  3.18340778 4.65595662\n",
            " 2.90466543 0.85034936 4.49585117 1.9011973  6.4613595  6.85709188]\n",
            "2023-09-24 20:18:47,827 - pyswarms.single.global_best - INFO - Optimize for 1 iters with {'c1': 0.5, 'c2': 0.3, 'w': 0.9}\n",
            "pyswarms.single.global_best: 100%|██████████|1/1, best_cost=6.85e+10\n",
            "2023-09-24 20:18:47,841 - pyswarms.single.global_best - INFO - Optimization finished | best cost: 68520344337.58187, best pos: [1.35368297 3.14839804 2.06470707 3.33462711 0.23792512 0.5967157\n",
            " 1.70848399 2.359327   2.43634183 5.85451808 3.35222574 2.88929151\n",
            " 1.88239111 2.71728204 3.22276222 4.21600102 3.1834078  4.65595665\n",
            " 2.90466524 0.85035137 4.49585117 1.92168758 6.46136256 6.85710396]\n",
            "2023-09-24 20:18:47,843 - pyswarms.single.global_best - INFO - Optimize for 1 iters with {'c1': 0.5, 'c2': 0.3, 'w': 0.9}\n"
          ]
        },
        {
          "output_type": "stream",
          "name": "stdout",
          "text": [
            "\n",
            "=========================================================================\n",
            "\n",
            "Número de ciclos de manutenção: 13 5\n",
            "Tempos para manutenções preventivas: [0, 10, 34, 100, 144, 201, 295, 310, 386, 427, 485, 597, 634, 674]\n",
            "Severidade para cada subsistema: [0.25, 0.5, 0.5, 0.5, 0.25, 0.75, 0.5, 0.25, 0.5, 0.5, 0.25, 0.5, 0.5]\n",
            "Número de Sisemas: 5\n",
            "Fator:  [0.3296799539643607, 0.3934693402873666, 0.6321205588285577, 0.6321205588285577, 0.6321205588285577, 0.3934693402873666, 0.7768698398515702, 0.6321205588285577, 0.3934693402873666, 0.6321205588285577, 0.6321205588285577, 0.3934693402873666, 0.6321205588285577, 0.6321205588285577]\n",
            "Media de falhas:  [0, 32.0, 8758.754323788913, 1568166.9951263473, 2647847.5489968173, 7662038.751208415, 49707930.39511555, 78791384.96533366, 98916603.71351777, 146118778.5248465, 797413244.5493011, 1400693087.6089334, 1593334195.3131938, 3315782049.0326185, 3066847747.049835]\n",
            "Custo =  288744418726.4421\n"
          ]
        },
        {
          "output_type": "stream",
          "name": "stderr",
          "text": [
            "pyswarms.single.global_best: 100%|██████████|1/1, best_cost=6.85e+10\n",
            "2023-09-24 20:18:47,854 - pyswarms.single.global_best - INFO - Optimization finished | best cost: 68520344337.58187, best pos: [1.35368176 3.14839803 2.06470793 3.33462699 0.23792522 0.59671568\n",
            " 1.70848    2.35932697 2.43634182 5.85465188 3.35222532 2.88929176\n",
            " 1.88239268 2.71728196 3.22276244 4.21599134 3.18340786 4.65595667\n",
            " 2.90466506 0.85035423 4.49585117 1.94330823 6.46136395 6.85711181]\n",
            "2023-09-24 20:18:47,855 - pyswarms.single.global_best - INFO - Optimize for 1 iters with {'c1': 0.5, 'c2': 0.3, 'w': 0.9}\n"
          ]
        },
        {
          "output_type": "stream",
          "name": "stdout",
          "text": [
            "\n",
            "=========================================================================\n",
            "\n",
            "Número de ciclos de manutenção: 10 5\n",
            "Tempos para manutenções preventivas: [0, 10, 34, 100, 201, 295, 310, 386, 427, 485, 647]\n",
            "Severidade para cada subsistema: [0.25, 0.5, 0.5, 0.25, 0.75, 0.5, 0.25, 0.5, 0.5, 0.25]\n",
            "Número de Sisemas: 5\n",
            "Fator:  [0.3296799539643607, 0.3934693402873666, 0.6321205588285577, 0.6321205588285577, 0.3934693402873666, 0.7768698398515702, 0.6321205588285577, 0.3934693402873666, 0.6321205588285577, 0.6321205588285577, 0.3934693402873666]\n",
            "Media de falhas:  [0, 32.0, 8758.754323788913, 1568166.9951263473, 17439612.741834033, 59485504.38574116, 88568958.95595926, 108694177.70414338, 155896352.5154721, 807190818.5399268, 2212298588.262395, 2049224262.8875837]\n",
            "Custo =  109423181711.6142\n"
          ]
        },
        {
          "output_type": "stream",
          "name": "stderr",
          "text": [
            "pyswarms.single.global_best: 100%|██████████|1/1, best_cost=6.85e+10\n",
            "2023-09-24 20:18:47,867 - pyswarms.single.global_best - INFO - Optimization finished | best cost: 68520344337.58187, best pos: [1.3536812  3.14839803 2.06470865 3.33462684 0.2379253  0.59671566\n",
            " 1.70847856 2.35932691 2.4363418  5.85480698 3.35222496 2.88929199\n",
            " 1.88239444 2.71728184 3.22276266 4.21598314 3.18340792 4.6559567\n",
            " 2.9046649  0.85035683 4.49585117 1.96197957 6.46136388 6.8571173 ]\n",
            "2023-09-24 20:18:47,868 - pyswarms.single.global_best - INFO - Optimize for 1 iters with {'c1': 0.5, 'c2': 0.3, 'w': 0.9}\n"
          ]
        },
        {
          "output_type": "stream",
          "name": "stdout",
          "text": [
            "\n",
            "=========================================================================\n",
            "\n",
            "Número de ciclos de manutenção: 9 5\n",
            "Tempos para manutenções preventivas: [0, 10, 34, 100, 201, 295, 310, 387, 427, 485]\n",
            "Severidade para cada subsistema: [0.25, 0.5, 0.5, 0.25, 0.75, 0.5, 0.25, 0.5, 0.5]\n",
            "Número de Sisemas: 5\n",
            "Fator:  [0.3296799539643607, 0.3934693402873666, 0.6321205588285577, 0.6321205588285577, 0.3934693402873666, 0.7768698398515702, 0.6321205588285577, 0.3934693402873666, 0.6321205588285577, 0.6321205588285577]\n",
            "Media de falhas:  [0, 32.0, 8758.754323788913, 1568166.9951263473, 17439612.741834033, 59485504.38574116, 88568958.95595926, 109414645.98649353, 155249730.33911857, 806544196.3635733, 1444684142.7561393]\n",
            "Custo =  83048757835.44392\n"
          ]
        },
        {
          "output_type": "stream",
          "name": "stderr",
          "text": [
            "pyswarms.single.global_best: 100%|██████████|1/1, best_cost=6.85e+10\n",
            "2023-09-24 20:18:47,885 - pyswarms.single.global_best - INFO - Optimization finished | best cost: 68520344337.58187, best pos: [1.35368164 3.14839803 2.0647091  3.3346267  0.23792536 0.59671565\n",
            " 1.70847802 2.35932685 2.43634179 5.85494513 3.35222476 2.88929226\n",
            " 1.88239676 2.71728169 3.22276284 4.21597647 3.18340798 4.65595672\n",
            " 2.90466481 0.85035918 4.49585117 1.97284289 6.46136214 6.85711624]\n",
            "2023-09-24 20:18:47,886 - pyswarms.single.global_best - INFO - Optimize for 1 iters with {'c1': 0.5, 'c2': 0.3, 'w': 0.9}\n"
          ]
        },
        {
          "output_type": "stream",
          "name": "stdout",
          "text": [
            "\n",
            "=========================================================================\n",
            "\n",
            "Número de ciclos de manutenção: 12 5\n",
            "Tempos para manutenções preventivas: [0, 10, 34, 100, 201, 295, 310, 387, 427, 485, 582, 682, 714]\n",
            "Severidade para cada subsistema: [0.25, 0.5, 0.5, 0.25, 0.75, 0.5, 0.25, 0.5, 0.5, 0.25, 0.25, 0.5]\n",
            "Número de Sisemas: 5\n",
            "Fator:  [0.3296799539643607, 0.3934693402873666, 0.6321205588285577, 0.6321205588285577, 0.3934693402873666, 0.7768698398515702, 0.6321205588285577, 0.3934693402873666, 0.6321205588285577, 0.6321205588285577, 0.3934693402873666, 0.3934693402873666, 0.6321205588285577]\n",
            "Media de falhas:  [0, 32.0, 8758.754323788913, 1568166.9951263473, 17439612.741834033, 59485504.38574116, 88568958.95595926, 109414645.98649353, 155249730.33911857, 806544196.3635733, 1255836624.5506372, 2090290367.127958, 3839927797.1062584, 23822665.372645378]\n",
            "Custo =  465361362819.83673\n"
          ]
        },
        {
          "output_type": "stream",
          "name": "stderr",
          "text": [
            "pyswarms.single.global_best: 100%|██████████|1/1, best_cost=6.85e+10\n",
            "2023-09-24 20:18:47,901 - pyswarms.single.global_best - INFO - Optimization finished | best cost: 68520344337.58187, best pos: [1.35368291 3.14839803 2.06470939 3.33462659 0.23792537 0.59671564\n",
            " 1.7084779  2.35932679 2.43634179 5.85506459 3.35222468 2.88929251\n",
            " 1.882399   2.71728153 3.22276296 4.21597267 3.18340803 4.65595675\n",
            " 2.90466475 0.85036088 4.49585116 1.98155839 6.46135954 6.85711261]\n",
            "2023-09-24 20:18:47,902 - pyswarms.single.global_best - INFO - Optimize for 1 iters with {'c1': 0.5, 'c2': 0.3, 'w': 0.9}\n"
          ]
        },
        {
          "output_type": "stream",
          "name": "stdout",
          "text": [
            "\n",
            "=========================================================================\n",
            "\n",
            "Número de ciclos de manutenção: 13 5\n",
            "Tempos para manutenções preventivas: [0, 10, 34, 100, 141, 201, 295, 310, 387, 427, 485, 582, 635, 699]\n",
            "Severidade para cada subsistema: [0.25, 0.5, 0.5, 0.75, 0.25, 0.75, 0.5, 0.25, 0.5, 0.5, 0.5, 0.75, 0.25]\n",
            "Número de Sisemas: 5\n",
            "Fator:  [0.3296799539643607, 0.3934693402873666, 0.6321205588285577, 0.6321205588285577, 0.7768698398515702, 0.3934693402873666, 0.7768698398515702, 0.6321205588285577, 0.3934693402873666, 0.6321205588285577, 0.6321205588285577, 0.6321205588285577, 0.7768698398515702, 0.3934693402873666]\n",
            "Media de falhas:  [0, 32.0, 8758.754323788913, 1568166.9951263473, 2458010.6469215252, 7944937.967925621, 24401404.966261838, 53484859.53647995, 74330546.56701422, 120165630.91963926, 771460096.944094, 1220752525.1311579, 1511853462.7951193, 2036275617.7318137, 2006933280.8888335]\n",
            "Custo =  134047050257.4355\n"
          ]
        },
        {
          "output_type": "stream",
          "name": "stderr",
          "text": [
            "pyswarms.single.global_best: 100%|██████████|1/1, best_cost=6.85e+10\n",
            "2023-09-24 20:18:47,922 - pyswarms.single.global_best - INFO - Optimization finished | best cost: 68520344337.58187, best pos: [1.35368411 3.14839803 2.06470939 3.3346265  0.23792533 0.59671564\n",
            " 1.70847857 2.35932674 2.43634179 5.85509463 3.35222474 2.88929272\n",
            " 1.88240076 2.7172814  3.22276296 4.21596964 3.18340806 4.65595676\n",
            " 2.90466473 0.85036238 4.49585116 1.98242425 6.46135704 6.85710355]\n",
            "2023-09-24 20:18:47,923 - pyswarms.single.global_best - INFO - Optimize for 1 iters with {'c1': 0.5, 'c2': 0.3, 'w': 0.9}\n"
          ]
        },
        {
          "output_type": "stream",
          "name": "stdout",
          "text": [
            "\n",
            "=========================================================================\n",
            "\n",
            "Número de ciclos de manutenção: 11 5\n",
            "Tempos para manutenções preventivas: [0, 10, 34, 100, 201, 295, 310, 387, 426, 485, 582, 652]\n",
            "Severidade para cada subsistema: [0.25, 0.5, 0.5, 0.25, 0.75, 0.5, 0.25, 0.5, 0.5, 0.75, 0.5]\n",
            "Número de Sisemas: 5\n",
            "Fator:  [0.3296799539643607, 0.3934693402873666, 0.6321205588285577, 0.6321205588285577, 0.3934693402873666, 0.7768698398515702, 0.6321205588285577, 0.3934693402873666, 0.6321205588285577, 0.6321205588285577, 0.7768698398515702, 0.6321205588285577]\n",
            "Media de falhas:  [0, 32.0, 8758.754323788913, 1568166.9951263473, 17439612.741834033, 59485504.38574116, 88568958.95595926, 109414645.98649353, 153499220.53970045, 815511514.7017989, 1264803942.8888628, 1713139440.4652593, 1694570276.8095632]\n",
            "Custo =  106330993263.35388\n"
          ]
        },
        {
          "output_type": "stream",
          "name": "stderr",
          "text": [
            "pyswarms.single.global_best: 100%|██████████|1/1, best_cost=6.85e+10\n",
            "2023-09-24 20:18:47,935 - pyswarms.single.global_best - INFO - Optimization finished | best cost: 68520344337.58187, best pos: [1.3536854  3.14839803 2.06470887 3.33462646 0.2379253  0.59671565\n",
            " 1.70847964 2.3593267  2.4363418  5.85510815 3.35222524 2.88929285\n",
            " 1.8824017  2.7172813  3.22276293 4.21596963 3.18340809 4.65595677\n",
            " 2.90466473 0.85036358 4.49585116 1.9805276  6.4613546  6.85709509]\n",
            "2023-09-24 20:18:47,936 - pyswarms.single.global_best - INFO - Optimize for 1 iters with {'c1': 0.5, 'c2': 0.3, 'w': 0.9}\n"
          ]
        },
        {
          "output_type": "stream",
          "name": "stdout",
          "text": [
            "\n",
            "=========================================================================\n",
            "\n",
            "Número de ciclos de manutenção: 9 5\n",
            "Tempos para manutenções preventivas: [0, 10, 34, 100, 201, 295, 310, 387, 426, 485]\n",
            "Severidade para cada subsistema: [0.25, 0.5, 0.5, 0.25, 0.75, 0.5, 0.25, 0.5, 0.5]\n",
            "Número de Sisemas: 5\n",
            "Fator:  [0.3296799539643607, 0.3934693402873666, 0.6321205588285577, 0.6321205588285577, 0.3934693402873666, 0.7768698398515702, 0.6321205588285577, 0.3934693402873666, 0.6321205588285577, 0.6321205588285577]\n",
            "Media de falhas:  [0, 32.0, 8758.754323788913, 1568166.9951263473, 17439612.741834033, 59485504.38574116, 88568958.95595926, 109414645.98649353, 153499220.53970045, 815511514.7017989, 1453651461.0943651]\n",
            "Custo =  82952073936.44064\n"
          ]
        },
        {
          "output_type": "stream",
          "name": "stderr",
          "text": [
            "pyswarms.single.global_best: 100%|██████████|1/1, best_cost=6.85e+10\n",
            "2023-09-24 20:18:47,949 - pyswarms.single.global_best - INFO - Optimization finished | best cost: 68520344337.58187, best pos: [1.35368652 3.14839803 2.06470814 3.33462643 0.23792525 0.59671566\n",
            " 1.70848221 2.3593267  2.4363418  5.85505966 3.35222586 2.88929296\n",
            " 1.88240142 2.71728128 3.22276288 4.21597346 3.18340807 4.65595677\n",
            " 2.90466483 0.85036317 4.49585116 1.97240523 6.46135259 6.85708726]\n",
            "2023-09-24 20:18:47,950 - pyswarms.single.global_best - INFO - Optimize for 1 iters with {'c1': 0.5, 'c2': 0.3, 'w': 0.9}\n"
          ]
        },
        {
          "output_type": "stream",
          "name": "stdout",
          "text": [
            "\n",
            "=========================================================================\n",
            "\n",
            "Número de ciclos de manutenção: 10 5\n",
            "Tempos para manutenções preventivas: [0, 10, 34, 100, 201, 295, 310, 387, 426, 485, 574]\n",
            "Severidade para cada subsistema: [0.25, 0.5, 0.5, 0.25, 0.75, 0.5, 0.25, 0.5, 0.5, 0.5]\n",
            "Número de Sisemas: 5\n",
            "Fator:  [0.3296799539643607, 0.3934693402873666, 0.6321205588285577, 0.6321205588285577, 0.3934693402873666, 0.7768698398515702, 0.6321205588285577, 0.3934693402873666, 0.6321205588285577, 0.6321205588285577, 0.6321205588285577]\n",
            "Media de falhas:  [0, 32.0, 8758.754323788913, 1568166.9951263473, 17439612.741834033, 59485504.38574116, 88568958.95595926, 109414645.98649353, 153499220.53970045, 815511514.7017989, 1195305392.121117, 1301050424.6862519]\n",
            "Custo =  94093756349.67604\n"
          ]
        },
        {
          "output_type": "stream",
          "name": "stderr",
          "text": [
            "pyswarms.single.global_best: 100%|██████████|1/1, best_cost=6.85e+10"
          ]
        },
        {
          "output_type": "stream",
          "name": "stdout",
          "text": [
            "\n",
            "=========================================================================\n",
            "\n",
            "Número de ciclos de manutenção: 10 5\n",
            "Tempos para manutenções preventivas: [0, 10, 34, 100, 201, 295, 310, 387, 426, 485, 670]\n",
            "Severidade para cada subsistema: [0.25, 0.5, 0.5, 0.25, 0.75, 0.5, 0.25, 0.5, 0.5, 0.25]\n",
            "Número de Sisemas: 5\n",
            "Fator:  [0.3296799539643607, 0.3934693402873666, 0.6321205588285577, 0.6321205588285577, 0.3934693402873666, 0.7768698398515702, 0.6321205588285577, 0.3934693402873666, 0.6321205588285577, 0.6321205588285577, 0.3934693402873666]\n",
            "Media de falhas:  [0, 32.0, 8758.754323788913, 1568166.9951263473, 17439612.741834033, 59485504.38574116, 88568958.95595926, 109414645.98649353, 153499220.53970045, 815511514.7017989, 2786282295.7320833, 2549955493.004056]\n",
            "Custo =  116871550693.1607\n"
          ]
        },
        {
          "output_type": "stream",
          "name": "stderr",
          "text": [
            "\n",
            "2023-09-24 20:18:47,964 - pyswarms.single.global_best - INFO - Optimization finished | best cost: 68520344337.58187, best pos: [1.35368737 3.14839803 2.06470737 3.33462642 0.23792521 0.59671567\n",
            " 1.70848458 2.35932671 2.43634181 5.85500573 3.35222711 2.88929296\n",
            " 1.88240092 2.7172813  3.22276279 4.21597839 3.18340805 4.65595676\n",
            " 2.90466494 0.85036121 4.49585116 1.95921415 6.46135086 6.85708165]\n",
            "2023-09-24 20:18:47,965 - pyswarms.single.global_best - INFO - Optimize for 1 iters with {'c1': 0.5, 'c2': 0.3, 'w': 0.9}\n",
            "pyswarms.single.global_best: 100%|██████████|1/1, best_cost=6.85e+10\n",
            "2023-09-24 20:18:47,978 - pyswarms.single.global_best - INFO - Optimization finished | best cost: 68520344337.58187, best pos: [1.35368796 3.14839804 2.06470668 3.33462651 0.23792517 0.59671568\n",
            " 1.7084873  2.35932675 2.43634182 5.85490147 3.35222862 2.88929296\n",
            " 1.88240004 2.7172814  3.22276269 4.21598695 3.183408   4.65595675\n",
            " 2.90466506 0.85035904 4.49585116 1.94176626 6.46134982 6.85707685]\n",
            "2023-09-24 20:18:47,980 - pyswarms.single.global_best - INFO - Optimize for 1 iters with {'c1': 0.5, 'c2': 0.3, 'w': 0.9}\n"
          ]
        },
        {
          "output_type": "stream",
          "name": "stdout",
          "text": [
            "\n",
            "=========================================================================\n",
            "\n",
            "Número de ciclos de manutenção: 12 5\n",
            "Tempos para manutenções preventivas: [0, 10, 34, 100, 201, 295, 310, 387, 426, 485, 641, 671, 698]\n",
            "Severidade para cada subsistema: [0.25, 0.5, 0.5, 0.25, 0.75, 0.5, 0.25, 0.5, 0.5, 0.75, 0.25, 0.5]\n",
            "Número de Sisemas: 5\n",
            "Fator:  [0.3296799539643607, 0.3934693402873666, 0.6321205588285577, 0.6321205588285577, 0.3934693402873666, 0.7768698398515702, 0.6321205588285577, 0.3934693402873666, 0.6321205588285577, 0.6321205588285577, 0.7768698398515702, 0.3934693402873666, 0.6321205588285577]\n",
            "Media de falhas:  [0, 32.0, 8758.754323788913, 1568166.9951263473, 17439612.741834033, 59485504.38574116, 88568958.95595926, 109414645.98649353, 153499220.53970045, 815511514.7017989, 2096158926.5501108, 2287462204.370123, 2318542602.2107863, -866775015.9516125]\n",
            "Custo =  253717586328.22366\n"
          ]
        },
        {
          "output_type": "stream",
          "name": "stderr",
          "text": [
            "pyswarms.single.global_best: 100%|██████████|1/1, best_cost=6.85e+10\n",
            "2023-09-24 20:18:47,994 - pyswarms.single.global_best - INFO - Optimization finished | best cost: 68520344337.58187, best pos: [1.35368826 3.14839804 2.06470627 3.33462663 0.23792514 0.59671569\n",
            " 1.70848984 2.3593268  2.43634183 5.85479047 3.35223003 2.88929285\n",
            " 1.88239867 2.71728154 3.22276259 4.21599546 3.18340795 4.65595673\n",
            " 2.90466516 0.85035673 4.49585116 1.92557578 6.46134908 6.85707396]\n",
            "2023-09-24 20:18:47,995 - pyswarms.single.global_best - INFO - Optimize for 1 iters with {'c1': 0.5, 'c2': 0.3, 'w': 0.9}\n"
          ]
        },
        {
          "output_type": "stream",
          "name": "stdout",
          "text": [
            "\n",
            "=========================================================================\n",
            "\n",
            "Número de ciclos de manutenção: 11 5\n",
            "Tempos para manutenções preventivas: [0, 10, 34, 100, 201, 295, 310, 386, 426, 485, 597, 639]\n",
            "Severidade para cada subsistema: [0.25, 0.5, 0.5, 0.25, 0.75, 0.5, 0.25, 0.5, 0.5, 0.75, 0.5]\n",
            "Número de Sisemas: 5\n",
            "Fator:  [0.3296799539643607, 0.3934693402873666, 0.6321205588285577, 0.6321205588285577, 0.3934693402873666, 0.7768698398515702, 0.6321205588285577, 0.3934693402873666, 0.6321205588285577, 0.6321205588285577, 0.7768698398515702, 0.6321205588285577]\n",
            "Media de falhas:  [0, 32.0, 8758.754323788913, 1568166.9951263473, 17439612.741834033, 59485504.38574116, 88568958.95595926, 108694177.70414338, 154121378.84338397, 816133673.0054824, 1419413516.065115, 1648129227.0065882, 1633088735.9074984]\n",
            "Custo =  105624228258.88805\n"
          ]
        },
        {
          "output_type": "stream",
          "name": "stderr",
          "text": [
            "pyswarms.single.global_best: 100%|██████████|1/1, best_cost=6.85e+10\n",
            "2023-09-24 20:18:48,007 - pyswarms.single.global_best - INFO - Optimization finished | best cost: 68520344337.58187, best pos: [1.3536878  3.14839804 2.06470608 3.33462676 0.23792511 0.5967157\n",
            " 1.70849181 2.35932685 2.43634184 5.85469042 3.35223104 2.88929275\n",
            " 1.88239738 2.71728167 3.2227625  4.21600319 3.18340791 4.65595672\n",
            " 2.90466524 0.85035478 4.49585116 1.9144576  6.46135049 6.85707486]\n",
            "2023-09-24 20:18:48,008 - pyswarms.single.global_best - INFO - Optimize for 1 iters with {'c1': 0.5, 'c2': 0.3, 'w': 0.9}\n"
          ]
        },
        {
          "output_type": "stream",
          "name": "stdout",
          "text": [
            "\n",
            "=========================================================================\n",
            "\n",
            "Número de ciclos de manutenção: 11 5\n",
            "Tempos para manutenções preventivas: [0, 10, 34, 100, 201, 295, 310, 386, 426, 485, 636, 695]\n",
            "Severidade para cada subsistema: [0.25, 0.5, 0.5, 0.25, 0.75, 0.5, 0.25, 0.5, 0.5, 0.25, 0.5]\n",
            "Número de Sisemas: 5\n",
            "Fator:  [0.3296799539643607, 0.3934693402873666, 0.6321205588285577, 0.6321205588285577, 0.3934693402873666, 0.7768698398515702, 0.6321205588285577, 0.3934693402873666, 0.6321205588285577, 0.6321205588285577, 0.3934693402873666, 0.6321205588285577]\n",
            "Media de falhas:  [0, 32.0, 8758.754323788913, 1568166.9951263473, 17439612.741834033, 59485504.38574116, 88568958.95595926, 108694177.70414338, 154121378.84338397, 816133673.0054824, 1999667284.7495499, 2465976018.9446254, -605299056.4762754]\n",
            "Custo =  253036336891.05457\n"
          ]
        },
        {
          "output_type": "stream",
          "name": "stderr",
          "text": [
            "pyswarms.single.global_best: 100%|██████████|1/1, best_cost=6.85e+10\n",
            "2023-09-24 20:18:48,022 - pyswarms.single.global_best - INFO - Optimization finished | best cost: 68520344337.58187, best pos: [1.35368713 3.14839804 2.0647061  3.33462689 0.23792508 0.5967157\n",
            " 1.70849296 2.35932689 2.43634185 5.85462514 3.35223181 2.88929264\n",
            " 1.88239634 2.71728177 3.22276244 4.21600901 3.18340788 4.6559567\n",
            " 2.90466531 0.85035339 4.49585116 1.9104975  6.46135299 6.85707758]\n",
            "2023-09-24 20:18:48,023 - pyswarms.single.global_best - INFO - Optimize for 1 iters with {'c1': 0.5, 'c2': 0.3, 'w': 0.9}\n"
          ]
        },
        {
          "output_type": "stream",
          "name": "stdout",
          "text": [
            "\n",
            "=========================================================================\n",
            "\n",
            "Número de ciclos de manutenção: 10 5\n",
            "Tempos para manutenções preventivas: [0, 10, 34, 99, 201, 295, 310, 386, 426, 485, 582]\n",
            "Severidade para cada subsistema: [0.25, 0.5, 0.5, 0.25, 0.75, 0.5, 0.25, 0.5, 0.5, 0.75]\n",
            "Número de Sisemas: 5\n",
            "Fator:  [0.3296799539643607, 0.3934693402873666, 0.6321205588285577, 0.6321205588285577, 0.3934693402873666, 0.7768698398515702, 0.6321205588285577, 0.3934693402873666, 0.6321205588285577, 0.6321205588285577, 0.7768698398515702]\n",
            "Media de falhas:  [0, 32.0, 8758.754323788913, 1480141.8921295193, 17720561.090128284, 59766452.73403542, 88849907.30425352, 108975126.05243763, 154402327.19167823, 816414621.3537767, 1265707049.5408406, 1337296260.4429986]\n",
            "Custo =  95194037622.07993\n"
          ]
        },
        {
          "output_type": "stream",
          "name": "stderr",
          "text": [
            "pyswarms.single.global_best: 100%|██████████|1/1, best_cost=6.85e+10\n",
            "2023-09-24 20:18:48,035 - pyswarms.single.global_best - INFO - Optimization finished | best cost: 68520344337.58187, best pos: [1.35368604 3.14839804 2.06470649 3.33462698 0.23792506 0.5967157\n",
            " 1.70849267 2.35932692 2.43634185 5.85457166 3.35223241 2.88929253\n",
            " 1.88239545 2.71728186 3.22276238 4.21601062 3.18340786 4.6559567\n",
            " 2.90466531 0.85035326 4.49585116 1.91419397 6.46135548 6.85708446]\n",
            "2023-09-24 20:18:48,036 - pyswarms.single.global_best - INFO - Optimize for 1 iters with {'c1': 0.5, 'c2': 0.3, 'w': 0.9}\n"
          ]
        },
        {
          "output_type": "stream",
          "name": "stdout",
          "text": [
            "\n",
            "=========================================================================\n",
            "\n",
            "Número de ciclos de manutenção: 11 5\n",
            "Tempos para manutenções preventivas: [0, 10, 34, 99, 201, 295, 310, 386, 426, 485, 579, 691]\n",
            "Severidade para cada subsistema: [0.25, 0.5, 0.5, 0.25, 0.75, 0.5, 0.25, 0.5, 0.5, 0.25, 0.5]\n",
            "Número de Sisemas: 5\n",
            "Fator:  [0.3296799539643607, 0.3934693402873666, 0.6321205588285577, 0.6321205588285577, 0.3934693402873666, 0.7768698398515702, 0.6321205588285577, 0.3934693402873666, 0.6321205588285577, 0.6321205588285577, 0.3934693402873666, 0.6321205588285577]\n",
            "Media de falhas:  [0, 32.0, 8758.754323788913, 1480141.8921295193, 17720561.090128284, 59766452.73403542, 88849907.30425352, 108975126.05243763, 154402327.19167823, 816414621.3537767, 1238681660.691397, 2258707385.8857803, -662492903.504808]\n",
            "Custo =  243560509194.0405\n"
          ]
        },
        {
          "output_type": "stream",
          "name": "stderr",
          "text": [
            "pyswarms.single.global_best:   0%|          |0/1, best_cost=6.85e+10"
          ]
        },
        {
          "output_type": "stream",
          "name": "stdout",
          "text": [
            "\n",
            "=========================================================================\n",
            "\n",
            "Número de ciclos de manutenção: 9 5\n",
            "Tempos para manutenções preventivas: [0, 10, 34, 99, 201, 295, 310, 386, 426, 485]\n",
            "Severidade para cada subsistema: [0.25, 0.5, 0.5, 0.25, 0.75, 0.5, 0.25, 0.5, 0.5]\n",
            "Número de Sisemas: 5\n",
            "Fator:  [0.3296799539643607, 0.3934693402873666, 0.6321205588285577, 0.6321205588285577, 0.3934693402873666, 0.7768698398515702, 0.6321205588285577, 0.3934693402873666, 0.6321205588285577, 0.6321205588285577]\n",
            "Media de falhas:  [0, 32.0, 8758.754323788913, 1480141.8921295193, 17720561.090128284, 59766452.73403542, 88849907.30425352, 108975126.05243763, 154402327.19167823, 816414621.3537767, 1454554567.7463427]\n",
            "Custo =  82953972569.27104\n"
          ]
        },
        {
          "output_type": "stream",
          "name": "stderr",
          "text": [
            "\rpyswarms.single.global_best: 100%|██████████|1/1, best_cost=6.85e+10\n",
            "2023-09-24 20:18:48,049 - pyswarms.single.global_best - INFO - Optimization finished | best cost: 68520344337.58187, best pos: [1.35368498 3.14839804 2.06470708 3.33462702 0.23792504 0.5967157\n",
            " 1.70849236 2.35932695 2.43634185 5.85454072 3.35223215 2.88929242\n",
            " 1.88239494 2.71728194 3.22276235 4.21601046 3.18340787 4.6559567\n",
            " 2.90466527 0.85035365 4.49585117 1.91928632 6.46135784 6.85709302]\n",
            "2023-09-24 20:18:48,050 - pyswarms.single.global_best - INFO - Optimize for 1 iters with {'c1': 0.5, 'c2': 0.3, 'w': 0.9}\n",
            "pyswarms.single.global_best:   0%|          |0/1, best_cost=6.85e+10"
          ]
        },
        {
          "output_type": "stream",
          "name": "stdout",
          "text": [
            "\n",
            "=========================================================================\n",
            "\n",
            "Número de ciclos de manutenção: 11 5\n",
            "Tempos para manutenções preventivas: [0, 10, 34, 99, 201, 295, 310, 386, 426, 485, 661, 699]\n",
            "Severidade para cada subsistema: [0.25, 0.5, 0.5, 0.25, 0.75, 0.5, 0.25, 0.5, 0.5, 0.5, 0.5]\n",
            "Número de Sisemas: 5\n",
            "Fator:  [0.3296799539643607, 0.3934693402873666, 0.6321205588285577, 0.6321205588285577, 0.3934693402873666, 0.7768698398515702, 0.6321205588285577, 0.3934693402873666, 0.6321205588285577, 0.6321205588285577, 0.6321205588285577, 0.6321205588285577]\n",
            "Media de falhas:  [0, 32.0, 8758.754323788913, 1480141.8921295193, 17720561.090128284, 59766452.73403542, 88849907.30425352, 108975126.05243763, 154402327.19167823, 816414621.3537767, 2548130836.431348, 2838376005.020445, 2510230746.5086627]\n",
            "Custo =  143925504572.62915\n"
          ]
        },
        {
          "output_type": "stream",
          "name": "stderr",
          "text": [
            "\rpyswarms.single.global_best: 100%|██████████|1/1, best_cost=6.85e+10\n",
            "2023-09-24 20:18:48,064 - pyswarms.single.global_best - INFO - Optimization finished | best cost: 68520344337.58187, best pos: [1.35368399 3.14839804 2.06470766 3.33462706 0.23792504 0.59671569\n",
            " 1.70849183 2.35932696 2.43634185 5.85452109 3.35223161 2.88929232\n",
            " 1.8823953  2.71728192 3.22276233 4.21601022 3.18340788 4.6559567\n",
            " 2.90466523 0.85035521 4.49585117 1.92784795 6.46135989 6.85710069]\n",
            "2023-09-24 20:18:48,065 - pyswarms.single.global_best - INFO - Optimize for 1 iters with {'c1': 0.5, 'c2': 0.3, 'w': 0.9}\n",
            "pyswarms.single.global_best:   0%|          |0/1, best_cost=6.85e+10"
          ]
        },
        {
          "output_type": "stream",
          "name": "stdout",
          "text": [
            "\n",
            "=========================================================================\n",
            "\n",
            "Número de ciclos de manutenção: 13 5\n",
            "Tempos para manutenções preventivas: [0, 10, 34, 99, 139, 201, 295, 310, 386, 426, 485, 596, 656, 666]\n",
            "Severidade para cada subsistema: [0.25, 0.5, 0.5, 0.5, 0.25, 0.75, 0.5, 0.25, 0.5, 0.5, 0.5, 0.75, 0.25]\n",
            "Número de Sisemas: 5\n",
            "Fator:  [0.3296799539643607, 0.3934693402873666, 0.6321205588285577, 0.6321205588285577, 0.6321205588285577, 0.3934693402873666, 0.7768698398515702, 0.6321205588285577, 0.3934693402873666, 0.6321205588285577, 0.6321205588285577, 0.6321205588285577, 0.7768698398515702, 0.3934693402873666]\n",
            "Media de falhas:  [0, 32.0, 8758.754323788913, 1480141.8921295193, 2293677.384622465, 8112956.186433896, 50158847.830341026, 79242302.40055913, 99367521.14874324, 144794722.28798383, 806807016.4500823, 1398782539.8074872, 1780090680.087916, 1839048210.413336, 1817088342.5196545]\n",
            "Custo =  132244619903.65523\n"
          ]
        },
        {
          "output_type": "stream",
          "name": "stderr",
          "text": [
            "\rpyswarms.single.global_best: 100%|██████████|1/1, best_cost=6.85e+10\n",
            "2023-09-24 20:18:48,078 - pyswarms.single.global_best - INFO - Optimization finished | best cost: 68520344337.58187, best pos: [1.35368321 3.14839803 2.06470816 3.33462702 0.23792506 0.59671567\n",
            " 1.70849034 2.35932694 2.43634185 5.85453439 3.35223089 2.88929224\n",
            " 1.88239612 2.71728182 3.22276237 4.21600993 3.1834079  4.65595671\n",
            " 2.90466517 0.85035676 4.49585117 1.93675474 6.46136155 6.85710626]\n",
            "2023-09-24 20:18:48,080 - pyswarms.single.global_best - INFO - Optimize for 1 iters with {'c1': 0.5, 'c2': 0.3, 'w': 0.9}\n",
            "pyswarms.single.global_best:   0%|          |0/1, best_cost=6.85e+10"
          ]
        },
        {
          "output_type": "stream",
          "name": "stdout",
          "text": [
            "\n",
            "=========================================================================\n",
            "\n",
            "Número de ciclos de manutenção: 11 5\n",
            "Tempos para manutenções preventivas: [0, 10, 34, 100, 127, 201, 295, 310, 386, 426, 485, 657]\n",
            "Severidade para cada subsistema: [0.25, 0.5, 0.5, 0.5, 0.25, 0.75, 0.5, 0.25, 0.5, 0.5, 0.5]\n",
            "Número de Sisemas: 5\n",
            "Fator:  [0.3296799539643607, 0.3934693402873666, 0.6321205588285577, 0.6321205588285577, 0.6321205588285577, 0.3934693402873666, 0.7768698398515702, 0.6321205588285577, 0.3934693402873666, 0.6321205588285577, 0.6321205588285577, 0.6321205588285577]\n",
            "Media de falhas:  [0, 32.0, 8758.754323788913, 1568166.9951263473, 1884548.2135078069, 10017933.420771375, 52063825.064678505, 81147279.6348966, 101272498.38308072, 146699699.52232134, 808711993.6844198, 2441696268.6846867, 2246534309.9399214]\n",
            "Custo =  112283352621.13936\n"
          ]
        },
        {
          "output_type": "stream",
          "name": "stderr",
          "text": [
            "\rpyswarms.single.global_best: 100%|██████████|1/1, best_cost=6.85e+10\n",
            "2023-09-24 20:18:48,092 - pyswarms.single.global_best - INFO - Optimization finished | best cost: 68520344337.58187, best pos: [1.35368264 3.14839803 2.06470845 3.33462695 0.23792509 0.59671566\n",
            " 1.70848871 2.35932691 2.43634184 5.85454947 3.3522297  2.88929218\n",
            " 1.88239724 2.71728167 3.22276247 4.21600912 3.18340792 4.65595672\n",
            " 2.90466512 0.8503584  4.49585117 1.9455536  6.4613619  6.85710984]\n",
            "2023-09-24 20:18:48,094 - pyswarms.single.global_best - INFO - Optimize for 1 iters with {'c1': 0.5, 'c2': 0.3, 'w': 0.9}\n",
            "pyswarms.single.global_best:   0%|          |0/1, best_cost=6.85e+10"
          ]
        },
        {
          "output_type": "stream",
          "name": "stdout",
          "text": [
            "\n",
            "=========================================================================\n",
            "\n",
            "Número de ciclos de manutenção: 13 5\n",
            "Tempos para manutenções preventivas: [0, 10, 34, 100, 121, 201, 295, 310, 386, 426, 485, 652, 684, 719]\n",
            "Severidade para cada subsistema: [0.25, 0.5, 0.5, 0.5, 0.25, 0.75, 0.5, 0.25, 0.5, 0.5, 0.25, 0.5, 0.75]\n",
            "Número de Sisemas: 5\n",
            "Fator:  [0.3296799539643607, 0.3934693402873666, 0.6321205588285577, 0.6321205588285577, 0.6321205588285577, 0.3934693402873666, 0.7768698398515702, 0.6321205588285577, 0.3934693402873666, 0.6321205588285577, 0.6321205588285577, 0.3934693402873666, 0.6321205588285577, 0.7768698398515702]\n",
            "Media de falhas:  [0, 32.0, 8758.754323788913, 1568166.9951263473, 1752828.1367067145, 11273929.098539382, 53319820.74244651, 82403275.31266463, 102528494.06084874, 147955695.20008934, 809967989.3621877, 2325716520.1870737, 2546846014.70794, 4510291789.050442, 4116856078.5911465]\n",
            "Custo =  362201186802.51117\n"
          ]
        },
        {
          "output_type": "stream",
          "name": "stderr",
          "text": [
            "\rpyswarms.single.global_best: 100%|██████████|1/1, best_cost=6.85e+10\n",
            "2023-09-24 20:18:48,110 - pyswarms.single.global_best - INFO - Optimization finished | best cost: 68520344337.58187, best pos: [1.35368271 3.14839803 2.06470846 3.33462684 0.23792513 0.59671565\n",
            " 1.70848698 2.35932688 2.43634183 5.8546242  3.3522286  2.88929215\n",
            " 1.88239828 2.71728152 3.22276256 4.21600771 3.18340795 4.65595673\n",
            " 2.90466506 0.85035986 4.49585117 1.95192668 6.46136073 6.85711106]\n",
            "2023-09-24 20:18:48,111 - pyswarms.single.global_best - INFO - Optimize for 1 iters with {'c1': 0.5, 'c2': 0.3, 'w': 0.9}\n",
            "pyswarms.single.global_best: 100%|██████████|1/1, best_cost=6.85e+10\n",
            "2023-09-24 20:18:48,122 - pyswarms.single.global_best - INFO - Optimization finished | best cost: 68520344337.58187, best pos: [1.35368295 3.14839803 2.06470842 3.33462674 0.23792516 0.59671565\n",
            " 1.70848558 2.35932684 2.43634182 5.85472049 3.35222761 2.88929215\n",
            " 1.88239913 2.71728139 3.22276266 4.21600393 3.18340797 4.65595674\n",
            " 2.90466502 0.85036094 4.49585117 1.95744165 6.4613595  6.85710859]\n",
            "2023-09-24 20:18:48,123 - pyswarms.single.global_best - INFO - Optimize for 1 iters with {'c1': 0.5, 'c2': 0.3, 'w': 0.9}\n"
          ]
        },
        {
          "output_type": "stream",
          "name": "stdout",
          "text": [
            "\n",
            "=========================================================================\n",
            "\n",
            "Número de ciclos de manutenção: 12 5\n",
            "Tempos para manutenções preventivas: [0, 10, 34, 100, 130, 201, 295, 310, 386, 426, 485, 574, 668]\n",
            "Severidade para cada subsistema: [0.25, 0.5, 0.5, 0.5, 0.25, 0.75, 0.5, 0.25, 0.5, 0.5, 0.25, 0.25]\n",
            "Número de Sisemas: 5\n",
            "Fator:  [0.3296799539643607, 0.3934693402873666, 0.6321205588285577, 0.6321205588285577, 0.6321205588285577, 0.3934693402873666, 0.7768698398515702, 0.6321205588285577, 0.3934693402873666, 0.6321205588285577, 0.6321205588285577, 0.3934693402873666, 0.3934693402873666]\n",
            "Media de falhas:  [0, 32.0, 8758.754323788913, 1568166.9951263473, 1971851.678983972, 9471928.161197895, 51517819.80510502, 80601274.37532313, 100726493.12350725, 146153694.26274785, 808165988.4248463, 1187959865.8441644, 1900462864.7181244, -199053665.123312]\n",
            "Custo =  231490885178.0963\n"
          ]
        },
        {
          "output_type": "stream",
          "name": "stderr",
          "text": [
            "pyswarms.single.global_best:   0%|          |0/1, best_cost=6.85e+10"
          ]
        },
        {
          "output_type": "stream",
          "name": "stdout",
          "text": [
            "\n",
            "=========================================================================\n",
            "\n",
            "Número de ciclos de manutenção: 11 5\n",
            "Tempos para manutenções preventivas: [0, 10, 34, 100, 201, 295, 310, 386, 426, 485, 653, 711]\n",
            "Severidade para cada subsistema: [0.25, 0.5, 0.5, 0.25, 0.75, 0.5, 0.25, 0.5, 0.5, 0.5, 0.75]\n",
            "Número de Sisemas: 5\n",
            "Fator:  [0.3296799539643607, 0.3934693402873666, 0.6321205588285577, 0.6321205588285577, 0.3934693402873666, 0.7768698398515702, 0.6321205588285577, 0.3934693402873666, 0.6321205588285577, 0.6321205588285577, 0.6321205588285577, 0.7768698398515702]\n",
            "Media de falhas:  [0, 32.0, 8758.754323788913, 1568166.9951263473, 17439612.741834033, 59485504.38574116, 88568958.95595926, 108694177.70414338, 154121378.84338397, 816133673.0054824, 2354792577.0844316, 2853660597.7822742, 2486654529.4933243]\n",
            "Custo =  145018327264.49167\n"
          ]
        },
        {
          "output_type": "stream",
          "name": "stderr",
          "text": [
            "\rpyswarms.single.global_best: 100%|██████████|1/1, best_cost=6.85e+10\n",
            "2023-09-24 20:18:48,141 - pyswarms.single.global_best - INFO - Optimization finished | best cost: 68520344337.58187, best pos: [1.35368356 3.14839803 2.06470827 3.33462665 0.2379252  0.59671564\n",
            " 1.70848436 2.3593268  2.43634181 5.85480766 3.35222699 2.8892922\n",
            " 1.88239964 2.71728132 3.22276273 4.21599957 3.18340799 4.65595674\n",
            " 2.90466499 0.85036136 4.49585116 1.96191093 6.46135745 6.85710289]\n",
            "2023-09-24 20:18:48,143 - pyswarms.single.global_best - INFO - Optimize for 1 iters with {'c1': 0.5, 'c2': 0.3, 'w': 0.9}\n",
            "pyswarms.single.global_best: 100%|██████████|1/1, best_cost=6.85e+10\n",
            "2023-09-24 20:18:48,154 - pyswarms.single.global_best - INFO - Optimization finished | best cost: 68520344337.58187, best pos: [1.35368436 3.14839803 2.06470809 3.33462657 0.23792522 0.59671564\n",
            " 1.7084834  2.35932677 2.4363418  5.85488508 3.35222655 2.88929229\n",
            " 1.88239962 2.71728133 3.22276279 4.21599541 3.183408   4.65595675\n",
            " 2.90466496 0.85036078 4.49585116 1.96555461 6.46135536 6.85709568]\n",
            "2023-09-24 20:18:48,155 - pyswarms.single.global_best - INFO - Optimize for 1 iters with {'c1': 0.5, 'c2': 0.3, 'w': 0.9}\n"
          ]
        },
        {
          "output_type": "stream",
          "name": "stdout",
          "text": [
            "\n",
            "=========================================================================\n",
            "\n",
            "Número de ciclos de manutenção: 11 5\n",
            "Tempos para manutenções preventivas: [0, 10, 34, 100, 136, 201, 295, 310, 386, 426, 485, 575]\n",
            "Severidade para cada subsistema: [0.25, 0.5, 0.5, 0.75, 0.25, 0.75, 0.5, 0.25, 0.5, 0.5, 0.25]\n",
            "Número de Sisemas: 5\n",
            "Fator:  [0.3296799539643607, 0.3934693402873666, 0.6321205588285577, 0.6321205588285577, 0.7768698398515702, 0.3934693402873666, 0.7768698398515702, 0.6321205588285577, 0.3934693402873666, 0.6321205588285577, 0.6321205588285577, 0.3934693402873666]\n",
            "Media de falhas:  [0, 32.0, 8758.754323788913, 1568166.9951263473, 2200409.067844677, 8545284.585204508, 25001751.583540723, 54085206.15375883, 74210424.90194294, 119637626.04118355, 781649920.203282, 1169688091.4102108, 1271076078.6092288]\n",
            "Custo =  92964894887.82791\n"
          ]
        },
        {
          "output_type": "stream",
          "name": "stderr",
          "text": [
            "pyswarms.single.global_best:   0%|          |0/1, best_cost=6.85e+10"
          ]
        },
        {
          "output_type": "stream",
          "name": "stdout",
          "text": [
            "\n",
            "=========================================================================\n",
            "\n",
            "Número de ciclos de manutenção: 10 5\n",
            "Tempos para manutenções preventivas: [0, 10, 34, 100, 201, 295, 310, 386, 426, 485, 633]\n",
            "Severidade para cada subsistema: [0.25, 0.5, 0.5, 0.25, 0.75, 0.5, 0.25, 0.5, 0.5, 0.75]\n",
            "Número de Sisemas: 5\n",
            "Fator:  [0.3296799539643607, 0.3934693402873666, 0.6321205588285577, 0.6321205588285577, 0.3934693402873666, 0.7768698398515702, 0.6321205588285577, 0.3934693402873666, 0.6321205588285577, 0.6321205588285577, 0.7768698398515702]\n",
            "Media de falhas:  [0, 32.0, 8758.754323788913, 1568166.9951263473, 17439612.741834033, 59485504.38574116, 88568958.95595926, 108694177.70414338, 154121378.84338397, 816133673.0054824, 1944161386.8690028, 1827095997.5947835]\n",
            "Custo =  105430435727.29623\n"
          ]
        },
        {
          "output_type": "stream",
          "name": "stderr",
          "text": [
            "\rpyswarms.single.global_best: 100%|██████████|1/1, best_cost=6.85e+10\n",
            "2023-09-24 20:18:48,171 - pyswarms.single.global_best - INFO - Optimization finished | best cost: 68520344337.58187, best pos: [1.35368513 3.14839803 2.0647078  3.33462654 0.23792523 0.59671565\n",
            " 1.70848311 2.35932676 2.4363418  5.85493808 3.35222663 2.88929239\n",
            " 1.88239944 2.71728137 3.22276284 4.21599181 3.18340801 4.65595674\n",
            " 2.90466496 0.85035954 4.49585116 1.96588709 6.46135356 6.85708877]\n",
            "2023-09-24 20:18:48,173 - pyswarms.single.global_best - INFO - Optimize for 1 iters with {'c1': 0.5, 'c2': 0.3, 'w': 0.9}\n",
            "pyswarms.single.global_best: 100%|██████████|1/1, best_cost=6.85e+10\n",
            "2023-09-24 20:18:48,183 - pyswarms.single.global_best - INFO - Optimization finished | best cost: 68520344337.58187, best pos: [1.35368575 3.14839803 2.06470752 3.33462658 0.23792524 0.59671565\n",
            " 1.70848324 2.35932675 2.4363418  5.85496861 3.35222734 2.88929248\n",
            " 1.88239911 2.71728146 3.22276288 4.21598906 3.183408   4.65595674\n",
            " 2.90466498 0.850358   4.49585116 1.9656849  6.46135222 6.85708327]\n",
            "2023-09-24 20:18:48,184 - pyswarms.single.global_best - INFO - Optimize for 1 iters with {'c1': 0.5, 'c2': 0.3, 'w': 0.9}\n"
          ]
        },
        {
          "output_type": "stream",
          "name": "stdout",
          "text": [
            "\n",
            "=========================================================================\n",
            "\n",
            "Número de ciclos de manutenção: 11 5\n",
            "Tempos para manutenções preventivas: [0, 10, 34, 100, 201, 295, 310, 386, 426, 485, 576, 717]\n",
            "Severidade para cada subsistema: [0.25, 0.5, 0.5, 0.25, 0.75, 0.5, 0.25, 0.5, 0.5, 0.25, 0.5]\n",
            "Número de Sisemas: 5\n",
            "Fator:  [0.3296799539643607, 0.3934693402873666, 0.6321205588285577, 0.6321205588285577, 0.3934693402873666, 0.7768698398515702, 0.6321205588285577, 0.3934693402873666, 0.6321205588285577, 0.6321205588285577, 0.3934693402873666, 0.6321205588285577]\n",
            "Media de falhas:  [0, 32.0, 8758.754323788913, 1568166.9951263473, 17439612.741834033, 59485504.38574116, 88568958.95595926, 108694177.70414338, 154121378.84338397, 816133673.0054824, 1212539913.5957694, 2827289826.0882735, -1111507645.6120925]\n",
            "Custo =  258646157275.62183\n"
          ]
        },
        {
          "output_type": "stream",
          "name": "stderr",
          "text": [
            "pyswarms.single.global_best: 100%|██████████|1/1, best_cost=6.85e+10\n",
            "2023-09-24 20:18:48,196 - pyswarms.single.global_best - INFO - Optimization finished | best cost: 68520344337.58187, best pos: [1.35368609 3.14839804 2.06470728 3.33462668 0.23792522 0.59671566\n",
            " 1.70848418 2.35932676 2.43634181 5.85495969 3.35222819 2.88929253\n",
            " 1.88239871 2.71728155 3.22276289 4.21598841 3.18340799 4.65595673\n",
            " 2.90466501 0.85035657 4.49585116 1.96429534 6.46135152 6.8570787 ]\n",
            "2023-09-24 20:18:48,197 - pyswarms.single.global_best - INFO - Optimize for 1 iters with {'c1': 0.5, 'c2': 0.3, 'w': 0.9}\n"
          ]
        },
        {
          "output_type": "stream",
          "name": "stdout",
          "text": [
            "\n",
            "=========================================================================\n",
            "\n",
            "Número de ciclos de manutenção: 10 5\n",
            "Tempos para manutenções preventivas: [0, 10, 34, 100, 201, 295, 310, 386, 426, 485, 571]\n",
            "Severidade para cada subsistema: [0.25, 0.5, 0.5, 0.25, 0.75, 0.5, 0.25, 0.5, 0.5, 0.75]\n",
            "Número de Sisemas: 5\n",
            "Fator:  [0.3296799539643607, 0.3934693402873666, 0.6321205588285577, 0.6321205588285577, 0.3934693402873666, 0.7768698398515702, 0.6321205588285577, 0.3934693402873666, 0.6321205588285577, 0.6321205588285577, 0.7768698398515702]\n",
            "Media de falhas:  [0, 32.0, 8758.754323788913, 1568166.9951263473, 17439612.741834033, 59485504.38574116, 88568958.95595926, 108694177.70414338, 154121378.84338397, 816133673.0054824, 1171923591.7614167, 1290896772.2082376]\n",
            "Custo =  93711919067.86725\n"
          ]
        },
        {
          "output_type": "stream",
          "name": "stderr",
          "text": [
            "pyswarms.single.global_best:   0%|          |0/1, best_cost=6.85e+10"
          ]
        },
        {
          "output_type": "stream",
          "name": "stdout",
          "text": [
            "\n",
            "=========================================================================\n",
            "\n",
            "Número de ciclos de manutenção: 12 5\n",
            "Tempos para manutenções preventivas: [0, 10, 34, 100, 201, 295, 310, 386, 426, 485, 575, 653, 661]\n",
            "Severidade para cada subsistema: [0.25, 0.5, 0.5, 0.25, 0.75, 0.5, 0.25, 0.5, 0.5, 0.25, 0.75, 0.75]\n",
            "Número de Sisemas: 5\n",
            "Fator:  [0.3296799539643607, 0.3934693402873666, 0.6321205588285577, 0.6321205588285577, 0.3934693402873666, 0.7768698398515702, 0.6321205588285577, 0.3934693402873666, 0.6321205588285577, 0.6321205588285577, 0.3934693402873666, 0.7768698398515702, 0.7768698398515702]\n",
            "Media de falhas:  [0, 32.0, 8758.754323788913, 1568166.9951263473, 17439612.741834033, 59485504.38574116, 88568958.95595926, 108694177.70414338, 154121378.84338397, 816133673.0054824, 1204171844.2124112, 1719710520.5890734, 2047667551.2803004, 2026883126.2935653]\n",
            "Custo =  269778908066.77963\n"
          ]
        },
        {
          "output_type": "stream",
          "name": "stderr",
          "text": [
            "\rpyswarms.single.global_best: 100%|██████████|1/1, best_cost=6.85e+10\n",
            "2023-09-24 20:18:48,210 - pyswarms.single.global_best - INFO - Optimization finished | best cost: 68520344337.58187, best pos: [1.35368622 3.14839804 2.06470712 3.33462679 0.2379252  0.59671568\n",
            " 1.70848604 2.35932678 2.43634181 5.85492026 3.35222907 2.88929256\n",
            " 1.88239827 2.71728164 3.22276283 4.21598945 3.18340798 4.65595672\n",
            " 2.90466504 0.85035551 4.49585116 1.9612166  6.46135128 6.85707601]\n",
            "2023-09-24 20:18:48,212 - pyswarms.single.global_best - INFO - Optimize for 1 iters with {'c1': 0.5, 'c2': 0.3, 'w': 0.9}\n",
            "pyswarms.single.global_best:   0%|          |0/1"
          ]
        },
        {
          "output_type": "stream",
          "name": "stdout",
          "text": [
            "\n",
            "=========================================================================\n",
            "\n",
            "Número de ciclos de manutenção: 12 5\n",
            "Tempos para manutenções preventivas: [0, 10, 34, 100, 129, 201, 295, 310, 386, 426, 485, 641, 662]\n",
            "Severidade para cada subsistema: [0.25, 0.5, 0.5, 0.5, 0.25, 0.75, 0.5, 0.25, 0.5, 0.5, 0.5, 0.5]\n",
            "Número de Sisemas: 5\n",
            "Fator:  [0.3296799539643607, 0.3934693402873666, 0.6321205588285577, 0.6321205588285577, 0.6321205588285577, 0.3934693402873666, 0.7768698398515702, 0.6321205588285577, 0.3934693402873666, 0.6321205588285577, 0.6321205588285577, 0.6321205588285577, 0.6321205588285577]\n",
            "Media de falhas:  [0, 32.0, 8758.754323788913, 1568166.9951263473, 1940955.299018106, 9647844.082768368, 51693735.726675496, 80777190.2968936, 100902409.04507771, 146329610.1843183, 808341904.3464167, 2088989316.1947286, 2213111212.700032, 2002065104.827577]\n",
            "Custo =  130699721151.2693\n"
          ]
        },
        {
          "output_type": "stream",
          "name": "stderr",
          "text": [
            "pyswarms.single.global_best: 100%|██████████|1/1, best_cost=6.85e+10\n",
            "2023-09-24 20:18:48,235 - pyswarms.single.global_best - INFO - Optimization finished | best cost: 68520344337.58187, best pos: [1.35368607 3.14839804 2.06470709 3.33462689 0.23792517 0.59671569\n",
            " 1.70848792 2.35932682 2.43634182 5.85484945 3.35222984 2.88929258\n",
            " 1.88239787 2.71728171 3.22276276 4.21599135 3.18340796 4.65595672\n",
            " 2.90466508 0.85035479 4.49585116 1.95754004 6.46135228 6.85707697]\n",
            "2023-09-24 20:18:48,238 - pyswarms.single.global_best - INFO - Optimize for 1 iters with {'c1': 0.5, 'c2': 0.3, 'w': 0.9}\n",
            "pyswarms.single.global_best:   0%|          |0/1, best_cost=6.85e+10"
          ]
        },
        {
          "output_type": "stream",
          "name": "stdout",
          "text": [
            "\n",
            "=========================================================================\n",
            "\n",
            "Número de ciclos de manutenção: 12 5\n",
            "Tempos para manutenções preventivas: [0, 10, 34, 100, 201, 295, 310, 386, 426, 485, 581, 633, 664]\n",
            "Severidade para cada subsistema: [0.25, 0.5, 0.5, 0.25, 0.75, 0.5, 0.25, 0.5, 0.5, 0.25, 0.25, 0.25]\n",
            "Número de Sisemas: 5\n",
            "Fator:  [0.3296799539643607, 0.3934693402873666, 0.6321205588285577, 0.6321205588285577, 0.3934693402873666, 0.7768698398515702, 0.6321205588285577, 0.3934693402873666, 0.6321205588285577, 0.6321205588285577, 0.3934693402873666, 0.3934693402873666, 0.3934693402873666]\n",
            "Media de falhas:  [0, 32.0, 8758.754323788913, 1568166.9951263473, 17439612.741834033, 59485504.38574116, 88568958.95595926, 108694177.70414338, 154121378.84338397, 816133673.0054824, 1256285855.7517462, 1537592570.6353607, 2803982835.380513, 840672863.7793679]\n",
            "Custo =  386844177463.2605\n"
          ]
        },
        {
          "output_type": "stream",
          "name": "stderr",
          "text": [
            "\rpyswarms.single.global_best: 100%|██████████|1/1, best_cost=6.85e+10\n",
            "2023-09-24 20:18:48,277 - pyswarms.single.global_best - INFO - Optimization finished | best cost: 68520344337.58187, best pos: [1.35368566 3.14839804 2.06470714 3.33462696 0.23792515 0.59671569\n",
            " 1.70848961 2.35932685 2.43634182 5.85476824 3.35223038 2.88929254\n",
            " 1.88239752 2.71728176 3.22276269 4.21599439 3.18340794 4.65595671\n",
            " 2.90466512 0.85035496 4.49585116 1.95293472 6.46135368 6.85707854]\n",
            "2023-09-24 20:18:48,279 - pyswarms.single.global_best - INFO - Optimize for 1 iters with {'c1': 0.5, 'c2': 0.3, 'w': 0.9}\n",
            "pyswarms.single.global_best: 100%|██████████|1/1, best_cost=6.85e+10"
          ]
        },
        {
          "output_type": "stream",
          "name": "stdout",
          "text": [
            "\n",
            "=========================================================================\n",
            "\n",
            "Número de ciclos de manutenção: 12 5\n",
            "Tempos para manutenções preventivas: [0, 10, 34, 100, 139, 201, 295, 310, 386, 426, 485, 580, 690]\n",
            "Severidade para cada subsistema: [0.25, 0.5, 0.5, 0.25, 0.25, 0.75, 0.5, 0.25, 0.5, 0.5, 0.75, 0.25]\n",
            "Número de Sisemas: 5\n",
            "Fator:  [0.3296799539643607, 0.3934693402873666, 0.6321205588285577, 0.6321205588285577, 0.3934693402873666, 0.3934693402873666, 0.7768698398515702, 0.6321205588285577, 0.3934693402873666, 0.6321205588285577, 0.6321205588285577, 0.7768698398515702, 0.3934693402873666]\n",
            "Media de falhas:  [0, 32.0, 8758.754323788913, 1568166.9951263473, 2346717.2431162167, 8165996.044927648, 149703500.42431214, 178786954.99453026, 198912173.74271438, 244339374.88195497, 906351669.0440533, 1337495869.0533283, 2327461795.4805737, 2300122993.996016]\n",
            "Custo =  120181117525.8049\n"
          ]
        },
        {
          "output_type": "stream",
          "name": "stderr",
          "text": [
            "\n",
            "2023-09-24 20:18:48,293 - pyswarms.single.global_best - INFO - Optimization finished | best cost: 68520344337.58187, best pos: [1.35368517 3.14839804 2.06470727 3.334627   0.23792513 0.5967157\n",
            " 1.7084907  2.35932688 2.43634183 5.85469528 3.35223053 2.88929248\n",
            " 1.8823973  2.71728176 3.2227626  4.21599722 3.18340792 4.65595671\n",
            " 2.90466515 0.85035531 4.49585116 1.94631648 6.46135533 6.85708349]\n",
            "2023-09-24 20:18:48,294 - pyswarms.single.global_best - INFO - Optimize for 1 iters with {'c1': 0.5, 'c2': 0.3, 'w': 0.9}\n",
            "pyswarms.single.global_best:   0%|          |0/1, best_cost=6.85e+10"
          ]
        },
        {
          "output_type": "stream",
          "name": "stdout",
          "text": [
            "\n",
            "=========================================================================\n",
            "\n",
            "Número de ciclos de manutenção: 12 5\n",
            "Tempos para manutenções preventivas: [0, 10, 34, 100, 201, 295, 310, 386, 426, 485, 649, 662, 709]\n",
            "Severidade para cada subsistema: [0.25, 0.5, 0.5, 0.25, 0.75, 0.5, 0.25, 0.5, 0.5, 0.5, 0.75, 0.75]\n",
            "Número de Sisemas: 5\n",
            "Fator:  [0.3296799539643607, 0.3934693402873666, 0.6321205588285577, 0.6321205588285577, 0.3934693402873666, 0.7768698398515702, 0.6321205588285577, 0.3934693402873666, 0.6321205588285577, 0.6321205588285577, 0.6321205588285577, 0.7768698398515702, 0.7768698398515702]\n",
            "Media de falhas:  [0, 32.0, 8758.754323788913, 1568166.9951263473, 17439612.741834033, 59485504.38574116, 88568958.95595926, 108694177.70414338, 154121378.84338397, 816133673.0054824, 2264724597.0799003, 2340083703.4757276, 2728393831.719948, 2696777807.4984117]\n",
            "Custo =  153480252305.08698\n"
          ]
        },
        {
          "output_type": "stream",
          "name": "stderr",
          "text": [
            "\rpyswarms.single.global_best: 100%|██████████|1/1, best_cost=6.85e+10\n",
            "2023-09-24 20:18:48,324 - pyswarms.single.global_best - INFO - Optimization finished | best cost: 68520344337.58187, best pos: [1.3536847  3.14839804 2.06470741 3.33462703 0.23792512 0.5967157\n",
            " 1.7084912  2.35932689 2.43634183 5.85465102 3.35223021 2.8892924\n",
            " 1.8823971  2.71728173 3.22276253 4.21599956 3.18340791 4.65595671\n",
            " 2.90466517 0.85035588 4.49585116 1.93989962 6.46135698 6.85708924]\n",
            "2023-09-24 20:18:48,325 - pyswarms.single.global_best - INFO - Optimize for 1 iters with {'c1': 0.5, 'c2': 0.3, 'w': 0.9}\n",
            "pyswarms.single.global_best:   0%|          |0/1, best_cost=6.85e+10"
          ]
        },
        {
          "output_type": "stream",
          "name": "stdout",
          "text": [
            "\n",
            "=========================================================================\n",
            "\n",
            "Número de ciclos de manutenção: 11 5\n",
            "Tempos para manutenções preventivas: [0, 10, 34, 100, 201, 295, 310, 386, 426, 485, 635, 663]\n",
            "Severidade para cada subsistema: [0.25, 0.5, 0.5, 0.25, 0.75, 0.5, 0.25, 0.5, 0.5, 0.25, 0.5]\n",
            "Número de Sisemas: 5\n",
            "Fator:  [0.3296799539643607, 0.3934693402873666, 0.6321205588285577, 0.6321205588285577, 0.3934693402873666, 0.7768698398515702, 0.6321205588285577, 0.3934693402873666, 0.6321205588285577, 0.6321205588285577, 0.3934693402873666, 0.6321205588285577]\n",
            "Media de falhas:  [0, 32.0, 8758.754323788913, 1568166.9951263473, 17439612.741834033, 59485504.38574116, 88568958.95595926, 108694177.70414338, 154121378.84338397, 816133673.0054824, 1980939293.7802942, 2150401816.7950606, 220853192.661407]\n",
            "Custo =  238534895272.70593\n"
          ]
        },
        {
          "output_type": "stream",
          "name": "stderr",
          "text": [
            "\rpyswarms.single.global_best: 100%|██████████|1/1, best_cost=6.85e+10\n",
            "2023-09-24 20:18:48,352 - pyswarms.single.global_best - INFO - Optimization finished | best cost: 68520344337.58187, best pos: [1.35368428 3.14839803 2.06470755 3.33462699 0.23792511 0.5967157\n",
            " 1.70849108 2.35932689 2.43634184 5.8546486  3.35222954 2.88929233\n",
            " 1.88239708 2.71728169 3.22276246 4.21600084 3.1834079  4.65595671\n",
            " 2.90466517 0.85035675 4.49585116 1.93401985 6.46135839 6.85709449]\n",
            "2023-09-24 20:18:48,353 - pyswarms.single.global_best - INFO - Optimize for 1 iters with {'c1': 0.5, 'c2': 0.3, 'w': 0.9}\n",
            "pyswarms.single.global_best:   0%|          |0/1, best_cost=6.85e+10"
          ]
        },
        {
          "output_type": "stream",
          "name": "stdout",
          "text": [
            "\n",
            "=========================================================================\n",
            "\n",
            "Número de ciclos de manutenção: 12 5\n",
            "Tempos para manutenções preventivas: [0, 10, 34, 100, 133, 201, 295, 310, 386, 426, 485, 578, 668]\n",
            "Severidade para cada subsistema: [0.25, 0.5, 0.5, 0.5, 0.25, 0.75, 0.5, 0.25, 0.5, 0.5, 0.5, 0.25]\n",
            "Número de Sisemas: 5\n",
            "Fator:  [0.3296799539643607, 0.3934693402873666, 0.6321205588285577, 0.6321205588285577, 0.6321205588285577, 0.3934693402873666, 0.7768698398515702, 0.6321205588285577, 0.3934693402873666, 0.6321205588285577, 0.6321205588285577, 0.6321205588285577, 0.3934693402873666]\n",
            "Media de falhas:  [0, 32.0, 8758.754323788913, 1568166.9951263473, 2076332.4331853255, 8980865.644768823, 51026757.28867595, 80110211.85889405, 100235430.60707816, 145662631.74631876, 807674925.9084172, 1221194196.500626, 1894443137.6784444, 1664425770.7699912]\n",
            "Custo =  121831012816.80779\n"
          ]
        },
        {
          "output_type": "stream",
          "name": "stderr",
          "text": [
            "\rpyswarms.single.global_best: 100%|██████████|1/1, best_cost=6.85e+10\n",
            "2023-09-24 20:18:48,367 - pyswarms.single.global_best - INFO - Optimization finished | best cost: 68520344337.58187, best pos: [1.35368395 3.14839803 2.06470768 3.33462691 0.23792512 0.59671569\n",
            " 1.70849067 2.35932687 2.43634184 5.85467519 3.35222892 2.88929228\n",
            " 1.88239715 2.71728163 3.22276244 4.21600106 3.1834079  4.65595671\n",
            " 2.90466515 0.85035759 4.49585116 1.92960373 6.46135938 6.85709879]\n",
            "2023-09-24 20:18:48,368 - pyswarms.single.global_best - INFO - Optimize for 1 iters with {'c1': 0.5, 'c2': 0.3, 'w': 0.9}\n",
            "pyswarms.single.global_best: 100%|██████████|1/1, best_cost=6.85e+10\n",
            "2023-09-24 20:18:48,383 - pyswarms.single.global_best - INFO - Optimization finished | best cost: 68520344337.58187, best pos: [1.35368369 3.14839803 2.06470778 3.33462684 0.23792513 0.59671568\n",
            " 1.70848943 2.35932684 2.43634184 5.85473175 3.35222836 2.88929225\n",
            " 1.88239735 2.71728157 3.22276243 4.2160007  3.1834079  4.65595672\n",
            " 2.90466513 0.85035836 4.49585116 1.92817884 6.4613599  6.85710224]\n",
            "2023-09-24 20:18:48,386 - pyswarms.single.global_best - INFO - Optimize for 1 iters with {'c1': 0.5, 'c2': 0.3, 'w': 0.9}\n"
          ]
        },
        {
          "output_type": "stream",
          "name": "stdout",
          "text": [
            "\n",
            "=========================================================================\n",
            "\n",
            "Número de ciclos de manutenção: 10 5\n",
            "Tempos para manutenções preventivas: [0, 10, 34, 100, 201, 295, 310, 386, 426, 485, 644]\n",
            "Severidade para cada subsistema: [0.25, 0.5, 0.5, 0.25, 0.75, 0.5, 0.25, 0.5, 0.5, 0.5]\n",
            "Número de Sisemas: 5\n",
            "Fator:  [0.3296799539643607, 0.3934693402873666, 0.6321205588285577, 0.6321205588285577, 0.3934693402873666, 0.7768698398515702, 0.6321205588285577, 0.3934693402873666, 0.6321205588285577, 0.6321205588285577, 0.6321205588285577]\n",
            "Media de falhas:  [0, 32.0, 8758.754323788913, 1568166.9951263473, 17439612.741834033, 59485504.38574116, 88568958.95595926, 108694177.70414338, 154121378.84338397, 816133673.0054824, 2157904823.4041576, 2004566218.383033]\n",
            "Custo =  108448578530.1959\n"
          ]
        },
        {
          "output_type": "stream",
          "name": "stderr",
          "text": [
            "pyswarms.single.global_best:   0%|          |0/1, best_cost=6.85e+10"
          ]
        },
        {
          "output_type": "stream",
          "name": "stdout",
          "text": [
            "\n",
            "=========================================================================\n",
            "\n",
            "Número de ciclos de manutenção: 10 5\n",
            "Tempos para manutenções preventivas: [0, 10, 34, 100, 201, 295, 310, 386, 426, 485, 575]\n",
            "Severidade para cada subsistema: [0.25, 0.5, 0.5, 0.25, 0.75, 0.5, 0.25, 0.5, 0.5, 0.5]\n",
            "Número de Sisemas: 5\n",
            "Fator:  [0.3296799539643607, 0.3934693402873666, 0.6321205588285577, 0.6321205588285577, 0.3934693402873666, 0.7768698398515702, 0.6321205588285577, 0.3934693402873666, 0.6321205588285577, 0.6321205588285577, 0.6321205588285577]\n",
            "Media de falhas:  [0, 32.0, 8758.754323788913, 1568166.9951263473, 17439612.741834033, 59485504.38574116, 88568958.95595926, 108694177.70414338, 154121378.84338397, 816133673.0054824, 1204171844.2124112, 1305559831.4114292]\n",
            "Custo =  94221675444.39331\n"
          ]
        },
        {
          "output_type": "stream",
          "name": "stderr",
          "text": [
            "\rpyswarms.single.global_best: 100%|██████████|1/1, best_cost=6.85e+10\n",
            "2023-09-24 20:18:48,401 - pyswarms.single.global_best - INFO - Optimization finished | best cost: 68520344337.58187, best pos: [1.35368371 3.14839803 2.06470785 3.33462678 0.23792514 0.59671567\n",
            " 1.70848786 2.35932682 2.43634184 5.85479429 3.35222787 2.88929223\n",
            " 1.88239758 2.71728152 3.22276243 4.21600005 3.1834079  4.65595672\n",
            " 2.9046651  0.85035891 4.49585116 1.92847567 6.4613599  6.85710355]\n",
            "2023-09-24 20:18:48,406 - pyswarms.single.global_best - INFO - Optimize for 1 iters with {'c1': 0.5, 'c2': 0.3, 'w': 0.9}\n",
            "pyswarms.single.global_best:   0%|          |0/1, best_cost=6.85e+10"
          ]
        },
        {
          "output_type": "stream",
          "name": "stdout",
          "text": [
            "\n",
            "=========================================================================\n",
            "\n",
            "Número de ciclos de manutenção: 12 5\n",
            "Tempos para manutenções preventivas: [0, 10, 34, 100, 124, 201, 295, 310, 386, 426, 485, 659, 682]\n",
            "Severidade para cada subsistema: [0.25, 0.5, 0.5, 0.75, 0.25, 0.75, 0.5, 0.25, 0.5, 0.5, 0.75, 0.75]\n",
            "Número de Sisemas: 5\n",
            "Fator:  [0.3296799539643607, 0.3934693402873666, 0.6321205588285577, 0.6321205588285577, 0.7768698398515702, 0.3934693402873666, 0.7768698398515702, 0.6321205588285577, 0.3934693402873666, 0.6321205588285577, 0.6321205588285577, 0.7768698398515702, 0.7768698398515702]\n",
            "Media de falhas:  [0, 32.0, 8758.754323788913, 1568166.9951263473, 1812211.1822454028, 10618606.731897496, 27075073.730233714, 56158528.30045182, 76283747.04863593, 121710948.18787654, 783723242.349975, 2465513208.5033784, 2619151509.0357685, 2593582691.637307]\n",
            "Custo =  126162924753.04347\n"
          ]
        },
        {
          "output_type": "stream",
          "name": "stderr",
          "text": [
            "\rpyswarms.single.global_best: 100%|██████████|1/1, best_cost=6.85e+10\n",
            "2023-09-24 20:18:48,421 - pyswarms.single.global_best - INFO - Optimization finished | best cost: 68520344337.58187, best pos: [1.35368397 3.14839803 2.0647079  3.33462672 0.23792515 0.59671566\n",
            " 1.70848643 2.3593268  2.43634183 5.85485004 3.35222766 2.88929223\n",
            " 1.88239787 2.71728148 3.22276245 4.21599845 3.18340792 4.65595673\n",
            " 2.90466507 0.85035934 4.49585116 1.92998489 6.46135944 6.85710239]\n",
            "2023-09-24 20:18:48,424 - pyswarms.single.global_best - INFO - Optimize for 1 iters with {'c1': 0.5, 'c2': 0.3, 'w': 0.9}\n",
            "pyswarms.single.global_best:   0%|          |0/1, best_cost=6.85e+10"
          ]
        },
        {
          "output_type": "stream",
          "name": "stdout",
          "text": [
            "\n",
            "=========================================================================\n",
            "\n",
            "Número de ciclos de manutenção: 11 5\n",
            "Tempos para manutenções preventivas: [0, 10, 34, 100, 201, 295, 310, 386, 426, 485, 652, 717]\n",
            "Severidade para cada subsistema: [0.25, 0.5, 0.5, 0.25, 0.75, 0.5, 0.25, 0.5, 0.5, 0.5, 0.5]\n",
            "Número de Sisemas: 5\n",
            "Fator:  [0.3296799539643607, 0.3934693402873666, 0.6321205588285577, 0.6321205588285577, 0.3934693402873666, 0.7768698398515702, 0.6321205588285577, 0.3934693402873666, 0.6321205588285577, 0.6321205588285577, 0.6321205588285577, 0.6321205588285577]\n",
            "Media de falhas:  [0, 32.0, 8758.754323788913, 1568166.9951263473, 17439612.741834033, 59485504.38574116, 88568958.95595926, 108694177.70414338, 154121378.84338397, 816133673.0054824, 2331882203.830368, 2920458009.260563, 2533675191.619466]\n",
            "Custo =  146502204186.4052\n"
          ]
        },
        {
          "output_type": "stream",
          "name": "stderr",
          "text": [
            "\rpyswarms.single.global_best: 100%|██████████|1/1, best_cost=6.85e+10\n",
            "2023-09-24 20:18:48,437 - pyswarms.single.global_best - INFO - Optimization finished | best cost: 68520344337.58187, best pos: [1.35368423 3.14839803 2.06470788 3.33462667 0.23792516 0.59671566\n",
            " 1.70848538 2.35932678 2.43634183 5.8548958  3.35222772 2.88929227\n",
            " 1.88239814 2.71728146 3.2227625  4.21599688 3.18340793 4.65595673\n",
            " 2.90466504 0.85035932 4.49585116 1.93336176 6.46135869 6.85709991]\n",
            "2023-09-24 20:18:48,438 - pyswarms.single.global_best - INFO - Optimize for 1 iters with {'c1': 0.5, 'c2': 0.3, 'w': 0.9}\n",
            "pyswarms.single.global_best: 100%|██████████|1/1, best_cost=6.85e+10"
          ]
        },
        {
          "output_type": "stream",
          "name": "stdout",
          "text": [
            "\n",
            "=========================================================================\n",
            "\n",
            "Número de ciclos de manutenção: 11 5\n",
            "Tempos para manutenções preventivas: [0, 10, 34, 100, 201, 295, 310, 386, 426, 485, 648, 693]\n",
            "Severidade para cada subsistema: [0.25, 0.5, 0.5, 0.25, 0.75, 0.5, 0.25, 0.5, 0.5, 0.25, 0.25]\n",
            "Número de Sisemas: 5\n",
            "Fator:  [0.3296799539643607, 0.3934693402873666, 0.6321205588285577, 0.6321205588285577, 0.3934693402873666, 0.7768698398515702, 0.6321205588285577, 0.3934693402873666, 0.6321205588285577, 0.6321205588285577, 0.3934693402873666, 0.3934693402873666]\n",
            "Media de falhas:  [0, 32.0, 8758.754323788913, 1568166.9951263473, 17439612.741834033, 59485504.38574116, 88568958.95595926, 108694177.70414338, 154121378.84338397, 816133673.0054824, 2242855662.396761, 2581350936.812426, -414606560.1776328]\n",
            "Custo =  254711894746.7964\n"
          ]
        },
        {
          "output_type": "stream",
          "name": "stderr",
          "text": [
            "\n",
            "2023-09-24 20:18:48,468 - pyswarms.single.global_best - INFO - Optimization finished | best cost: 68520344337.58187, best pos: [1.35368448 3.14839803 2.06470785 3.33462666 0.23792518 0.59671566\n",
            " 1.70848509 2.35932677 2.43634183 5.85493207 3.35222796 2.88929231\n",
            " 1.88239832 2.71728146 3.22276255 4.21599539 3.18340795 4.65595673\n",
            " 2.90466503 0.85035892 4.49585116 1.93748314 6.4613579  6.85709692]\n",
            "2023-09-24 20:18:48,469 - pyswarms.single.global_best - INFO - Optimize for 1 iters with {'c1': 0.5, 'c2': 0.3, 'w': 0.9}\n",
            "pyswarms.single.global_best: 100%|██████████|1/1, best_cost=6.85e+10\n",
            "2023-09-24 20:18:48,497 - pyswarms.single.global_best - INFO - Optimization finished | best cost: 68520344337.58187, best pos: [1.35368481 3.14839803 2.06470782 3.33462666 0.23792519 0.59671566\n",
            " 1.70848518 2.35932678 2.43634182 5.85496035 3.35222828 2.88929235\n",
            " 1.88239837 2.7172815  3.22276261 4.21599411 3.18340796 4.65595673\n",
            " 2.90466503 0.85035836 4.49585116 1.94133517 6.46135699 6.85709394]\n",
            "2023-09-24 20:18:48,498 - pyswarms.single.global_best - INFO - Optimize for 1 iters with {'c1': 0.5, 'c2': 0.3, 'w': 0.9}\n"
          ]
        },
        {
          "output_type": "stream",
          "name": "stdout",
          "text": [
            "\n",
            "=========================================================================\n",
            "\n",
            "Número de ciclos de manutenção: 11 5\n",
            "Tempos para manutenções preventivas: [0, 10, 34, 100, 130, 201, 295, 310, 386, 426, 485, 709]\n",
            "Severidade para cada subsistema: [0.25, 0.5, 0.5, 0.75, 0.25, 0.75, 0.5, 0.25, 0.5, 0.5, 0.75]\n",
            "Número de Sisemas: 5\n",
            "Fator:  [0.3296799539643607, 0.3934693402873666, 0.6321205588285577, 0.6321205588285577, 0.7768698398515702, 0.3934693402873666, 0.7768698398515702, 0.6321205588285577, 0.3934693402873666, 0.6321205588285577, 0.6321205588285577, 0.7768698398515702]\n",
            "Media de falhas:  [0, 32.0, 8758.754323788913, 1568166.9951263473, 1971851.678983972, 9471928.161197895, 25928395.15953411, 55011849.72975222, 75137068.47793633, 120564269.61717694, 782576563.7792753, 4101909545.6696215, 3741439701.226576]\n",
            "Custo =  132014391466.4993\n"
          ]
        },
        {
          "output_type": "stream",
          "name": "stderr",
          "text": [
            "pyswarms.single.global_best:   0%|          |0/1, best_cost=6.85e+10"
          ]
        },
        {
          "output_type": "stream",
          "name": "stdout",
          "text": [
            "\n",
            "=========================================================================\n",
            "\n",
            "Número de ciclos de manutenção: 10 5\n",
            "Tempos para manutenções preventivas: [0, 10, 34, 100, 201, 295, 310, 386, 426, 485, 570]\n",
            "Severidade para cada subsistema: [0.25, 0.5, 0.5, 0.25, 0.75, 0.5, 0.25, 0.5, 0.5, 0.5]\n",
            "Número de Sisemas: 5\n",
            "Fator:  [0.3296799539643607, 0.3934693402873666, 0.6321205588285577, 0.6321205588285577, 0.3934693402873666, 0.7768698398515702, 0.6321205588285577, 0.3934693402873666, 0.6321205588285577, 0.6321205588285577, 0.6321205588285577]\n",
            "Media de falhas:  [0, 32.0, 8758.754323788913, 1568166.9951263473, 17439612.741834033, 59485504.38574116, 88568958.95595926, 108694177.70414338, 154121378.84338397, 816133673.0054824, 1164160720.6730924, 1287596678.8648472]\n",
            "Custo =  93589327704.52086\n"
          ]
        },
        {
          "output_type": "stream",
          "name": "stderr",
          "text": [
            "\rpyswarms.single.global_best: 100%|██████████|1/1, best_cost=6.85e+10\n",
            "2023-09-24 20:18:48,517 - pyswarms.single.global_best - INFO - Optimization finished | best cost: 68520344337.58187, best pos: [1.35368511 3.14839803 2.06470775 3.33462669 0.23792519 0.59671566\n",
            " 1.70848592 2.35932679 2.43634182 5.85494842 3.35222856 2.8892924\n",
            " 1.88239834 2.71728156 3.22276265 4.21599327 3.18340797 4.65595673\n",
            " 2.90466503 0.85035777 4.49585116 1.94477342 6.46135598 6.85709107]\n",
            "2023-09-24 20:18:48,520 - pyswarms.single.global_best - INFO - Optimize for 1 iters with {'c1': 0.5, 'c2': 0.3, 'w': 0.9}\n",
            "pyswarms.single.global_best:   0%|          |0/1, best_cost=6.85e+10"
          ]
        },
        {
          "output_type": "stream",
          "name": "stdout",
          "text": [
            "\n",
            "=========================================================================\n",
            "\n",
            "Número de ciclos de manutenção: 11 5\n",
            "Tempos para manutenções preventivas: [0, 10, 34, 100, 201, 295, 310, 386, 426, 485, 593, 679]\n",
            "Severidade para cada subsistema: [0.25, 0.5, 0.5, 0.25, 0.75, 0.5, 0.25, 0.5, 0.5, 0.75, 0.75]\n",
            "Número de Sisemas: 5\n",
            "Fator:  [0.3296799539643607, 0.3934693402873666, 0.6321205588285577, 0.6321205588285577, 0.3934693402873666, 0.7768698398515702, 0.6321205588285577, 0.3934693402873666, 0.6321205588285577, 0.6321205588285577, 0.7768698398515702, 0.7768698398515702]\n",
            "Media de falhas:  [0, 32.0, 8758.754323788913, 1568166.9951263473, 17439612.741834033, 59485504.38574116, 88568958.95595926, 108694177.70414338, 154121378.84338397, 816133673.0054824, 1375120787.298749, 2049940910.0563831, 2025038043.0433507]\n",
            "Custo =  114104570012.36041\n"
          ]
        },
        {
          "output_type": "stream",
          "name": "stderr",
          "text": [
            "\rpyswarms.single.global_best: 100%|██████████|1/1, best_cost=6.85e+10\n",
            "2023-09-24 20:18:48,535 - pyswarms.single.global_best - INFO - Optimization finished | best cost: 68520344337.58187, best pos: [1.35368538 3.14839804 2.06470766 3.33462673 0.2379252  0.59671567\n",
            " 1.70848691 2.35932681 2.43634182 5.85490757 3.35222882 2.88929244\n",
            " 1.88239828 2.71728162 3.22276269 4.21599252 3.18340797 4.65595673\n",
            " 2.90466504 0.85035724 4.49585116 1.94756996 6.4613551  6.85708853]\n",
            "2023-09-24 20:18:48,536 - pyswarms.single.global_best - INFO - Optimize for 1 iters with {'c1': 0.5, 'c2': 0.3, 'w': 0.9}\n",
            "pyswarms.single.global_best: 100%|██████████|1/1, best_cost=6.85e+10"
          ]
        },
        {
          "output_type": "stream",
          "name": "stdout",
          "text": [
            "\n",
            "=========================================================================\n",
            "\n",
            "Número de ciclos de manutenção: 10 5\n",
            "Tempos para manutenções preventivas: [0, 10, 34, 100, 201, 295, 310, 386, 426, 485, 574]\n",
            "Severidade para cada subsistema: [0.25, 0.5, 0.5, 0.25, 0.75, 0.5, 0.25, 0.5, 0.5, 0.25]\n",
            "Número de Sisemas: 5\n",
            "Fator:  [0.3296799539643607, 0.3934693402873666, 0.6321205588285577, 0.6321205588285577, 0.3934693402873666, 0.7768698398515702, 0.6321205588285577, 0.3934693402873666, 0.6321205588285577, 0.6321205588285577, 0.3934693402873666]\n",
            "Media de falhas:  [0, 32.0, 8758.754323788913, 1568166.9951263473, 17439612.741834033, 59485504.38574116, 88568958.95595926, 108694177.70414338, 154121378.84338397, 816133673.0054824, 1195927550.4248004, 1301672582.9899352]\n",
            "Custo =  94091310742.63591\n"
          ]
        },
        {
          "output_type": "stream",
          "name": "stderr",
          "text": [
            "\n",
            "2023-09-24 20:18:48,549 - pyswarms.single.global_best - INFO - Optimization finished | best cost: 68520344337.58187, best pos: [1.35368555 3.14839804 2.06470756 3.33462676 0.2379252  0.59671567\n",
            " 1.70848802 2.35932683 2.43634182 5.85485558 3.35222906 2.88929246\n",
            " 1.88239814 2.71728167 3.22276272 4.21599277 3.18340798 4.65595673\n",
            " 2.90466505 0.8503568  4.49585116 1.94957531 6.46135459 6.85708652]\n",
            "2023-09-24 20:18:48,551 - pyswarms.single.global_best - INFO - Optimize for 1 iters with {'c1': 0.5, 'c2': 0.3, 'w': 0.9}\n",
            "pyswarms.single.global_best:   0%|          |0/1, best_cost=6.85e+10"
          ]
        },
        {
          "output_type": "stream",
          "name": "stdout",
          "text": [
            "\n",
            "=========================================================================\n",
            "\n",
            "Número de ciclos de manutenção: 11 5\n",
            "Tempos para manutenções preventivas: [0, 10, 34, 100, 201, 295, 310, 386, 426, 485, 599, 644]\n",
            "Severidade para cada subsistema: [0.25, 0.5, 0.5, 0.25, 0.75, 0.5, 0.25, 0.5, 0.5, 0.5, 0.75]\n",
            "Número de Sisemas: 5\n",
            "Fator:  [0.3296799539643607, 0.3934693402873666, 0.6321205588285577, 0.6321205588285577, 0.3934693402873666, 0.7768698398515702, 0.6321205588285577, 0.3934693402873666, 0.6321205588285577, 0.6321205588285577, 0.6321205588285577, 0.7768698398515702]\n",
            "Media de falhas:  [0, 32.0, 8758.754323788913, 1568166.9951263473, 17439612.741834033, 59485504.38574116, 88568958.95595926, 108694177.70414338, 154121378.84338397, 816133673.0054824, 1442494096.9841504, 1697267036.2164712, 1543928431.1953466]\n",
            "Custo =  119317371781.75255\n"
          ]
        },
        {
          "output_type": "stream",
          "name": "stderr",
          "text": [
            "\rpyswarms.single.global_best: 100%|██████████|1/1, best_cost=6.85e+10\n",
            "2023-09-24 20:18:48,577 - pyswarms.single.global_best - INFO - Optimization finished | best cost: 68520344337.58187, best pos: [1.35368569 3.14839804 2.06470747 3.33462679 0.2379252  0.59671568\n",
            " 1.70848901 2.35932684 2.43634182 5.8547892  3.35222921 2.88929247\n",
            " 1.88239799 2.7172817  3.22276274 4.21599379 3.18340797 4.65595672\n",
            " 2.90466506 0.85035641 4.49585116 1.94928744 6.46135444 6.85708519]\n",
            "2023-09-24 20:18:48,578 - pyswarms.single.global_best - INFO - Optimize for 1 iters with {'c1': 0.5, 'c2': 0.3, 'w': 0.9}\n",
            "pyswarms.single.global_best:   0%|          |0/1, best_cost=6.85e+10"
          ]
        },
        {
          "output_type": "stream",
          "name": "stdout",
          "text": [
            "\n",
            "=========================================================================\n",
            "\n",
            "Número de ciclos de manutenção: 11 5\n",
            "Tempos para manutenções preventivas: [0, 10, 34, 100, 201, 295, 310, 386, 426, 485, 666, 709]\n",
            "Severidade para cada subsistema: [0.25, 0.5, 0.5, 0.25, 0.75, 0.5, 0.25, 0.5, 0.5, 0.25, 0.5]\n",
            "Número de Sisemas: 5\n",
            "Fator:  [0.3296799539643607, 0.3934693402873666, 0.6321205588285577, 0.6321205588285577, 0.3934693402873666, 0.7768698398515702, 0.6321205588285577, 0.3934693402873666, 0.6321205588285577, 0.6321205588285577, 0.3934693402873666, 0.6321205588285577]\n",
            "Media de falhas:  [0, 32.0, 8758.754323788913, 1568166.9951263473, 17439612.741834033, 59485504.38574116, 88568958.95595926, 108694177.70414338, 154121378.84338397, 816133673.0054824, 2677694393.8688393, 3029293366.291522, -585493072.4869008]\n",
            "Custo =  267252514362.71094\n"
          ]
        },
        {
          "output_type": "stream",
          "name": "stderr",
          "text": [
            "\rpyswarms.single.global_best: 100%|██████████|1/1, best_cost=6.85e+10\n",
            "2023-09-24 20:18:48,606 - pyswarms.single.global_best - INFO - Optimization finished | best cost: 68520344337.58187, best pos: [1.35368579 3.14839804 2.0647074  3.33462682 0.2379252  0.59671568\n",
            " 1.70848962 2.35932686 2.43634182 5.85472958 3.35222931 2.88929248\n",
            " 1.88239785 2.71728172 3.22276274 4.21599511 3.18340797 4.65595672\n",
            " 2.90466508 0.85035626 4.49585116 1.9487084  6.4613547  6.85708402]\n",
            "2023-09-24 20:18:48,613 - pyswarms.single.global_best - INFO - Optimize for 1 iters with {'c1': 0.5, 'c2': 0.3, 'w': 0.9}\n",
            "pyswarms.single.global_best:   0%|          |0/1, best_cost=6.85e+10"
          ]
        },
        {
          "output_type": "stream",
          "name": "stdout",
          "text": [
            "\n",
            "=========================================================================\n",
            "\n",
            "Número de ciclos de manutenção: 9 5\n",
            "Tempos para manutenções preventivas: [0, 10, 34, 100, 201, 295, 310, 386, 426, 485]\n",
            "Severidade para cada subsistema: [0.25, 0.5, 0.5, 0.25, 0.75, 0.5, 0.25, 0.5, 0.5]\n",
            "Número de Sisemas: 5\n",
            "Fator:  [0.3296799539643607, 0.3934693402873666, 0.6321205588285577, 0.6321205588285577, 0.3934693402873666, 0.7768698398515702, 0.6321205588285577, 0.3934693402873666, 0.6321205588285577, 0.6321205588285577]\n",
            "Media de falhas:  [0, 32.0, 8758.754323788913, 1568166.9951263473, 17439612.741834033, 59485504.38574116, 88568958.95595926, 108694177.70414338, 154121378.84338397, 816133673.0054824, 1454273619.3980484]\n",
            "Custo =  82949628428.7955\n"
          ]
        },
        {
          "output_type": "stream",
          "name": "stderr",
          "text": [
            "\rpyswarms.single.global_best: 100%|██████████|1/1, best_cost=6.85e+10\n",
            "2023-09-24 20:18:48,637 - pyswarms.single.global_best - INFO - Optimization finished | best cost: 68520344337.58187, best pos: [1.35368582 3.14839804 2.06470739 3.33462684 0.2379252  0.59671568\n",
            " 1.70848964 2.35932687 2.43634182 5.85468708 3.35222936 2.88929248\n",
            " 1.88239772 2.71728173 3.22276271 4.21599657 3.18340796 4.65595672\n",
            " 2.90466509 0.85035644 4.49585116 1.9462424  6.46135528 6.85708538]\n",
            "2023-09-24 20:18:48,638 - pyswarms.single.global_best - INFO - Optimize for 1 iters with {'c1': 0.5, 'c2': 0.3, 'w': 0.9}\n",
            "pyswarms.single.global_best:   0%|          |0/1, best_cost=6.85e+10"
          ]
        },
        {
          "output_type": "stream",
          "name": "stdout",
          "text": [
            "\n",
            "=========================================================================\n",
            "\n",
            "Número de ciclos de manutenção: 13 5\n",
            "Tempos para manutenções preventivas: [0, 10, 34, 100, 148, 201, 295, 310, 386, 426, 485, 574, 646, 715]\n",
            "Severidade para cada subsistema: [0.25, 0.5, 0.5, 0.5, 0.25, 0.75, 0.5, 0.25, 0.5, 0.5, 0.75, 0.75, 0.75]\n",
            "Número de Sisemas: 5\n",
            "Fator:  [0.3296799539643607, 0.3934693402873666, 0.6321205588285577, 0.6321205588285577, 0.6321205588285577, 0.3934693402873666, 0.7768698398515702, 0.6321205588285577, 0.3934693402873666, 0.6321205588285577, 0.6321205588285577, 0.7768698398515702, 0.7768698398515702, 0.7768698398515702]\n",
            "Media de falhas:  [0, 32.0, 8758.754323788913, 1568166.9951263473, 2948839.5956666116, 7378256.252632277, 49424147.896539405, 78507602.4667575, 98632821.21494162, 144060022.35418224, 806072316.5162807, 1185866193.9355989, 1634063382.4343514, 1754917313.6618345, 1721900547.154089]\n",
            "Custo =  110697902179.1214\n"
          ]
        },
        {
          "output_type": "stream",
          "name": "stderr",
          "text": [
            "\rpyswarms.single.global_best: 100%|██████████|1/1, best_cost=6.85e+10\n",
            "2023-09-24 20:18:48,659 - pyswarms.single.global_best - INFO - Optimization finished | best cost: 68520344337.58187, best pos: [1.35368559 3.14839804 2.06470743 3.33462684 0.23792519 0.59671568\n",
            " 1.70848924 2.35932687 2.43634183 5.85466109 3.35222932 2.88929248\n",
            " 1.88239762 2.71728171 3.22276268 4.21599781 3.18340795 4.65595672\n",
            " 2.9046651  0.85035672 4.49585116 1.9435847  6.46135593 6.85708867]\n",
            "2023-09-24 20:18:48,660 - pyswarms.single.global_best - INFO - Optimize for 1 iters with {'c1': 0.5, 'c2': 0.3, 'w': 0.9}\n",
            "pyswarms.single.global_best: 100%|██████████|1/1, best_cost=6.85e+10\n",
            "2023-09-24 20:18:48,674 - pyswarms.single.global_best - INFO - Optimization finished | best cost: 68520344337.58187, best pos: [1.35368535 3.14839803 2.06470748 3.33462683 0.23792517 0.59671568\n",
            " 1.70848874 2.35932687 2.43634183 5.85463866 3.35222928 2.88929245\n",
            " 1.88239756 2.71728167 3.22276263 4.21599841 3.18340794 4.65595672\n",
            " 2.90466511 0.85035701 4.49585116 1.9401956  6.46135657 6.85709253]\n",
            "2023-09-24 20:18:48,675 - pyswarms.single.global_best - INFO - Optimize for 1 iters with {'c1': 0.5, 'c2': 0.3, 'w': 0.9}\n"
          ]
        },
        {
          "output_type": "stream",
          "name": "stdout",
          "text": [
            "\n",
            "=========================================================================\n",
            "\n",
            "Número de ciclos de manutenção: 12 5\n",
            "Tempos para manutenções preventivas: [0, 10, 34, 100, 136, 201, 295, 310, 386, 426, 485, 578, 715]\n",
            "Severidade para cada subsistema: [0.25, 0.5, 0.5, 0.75, 0.25, 0.75, 0.5, 0.25, 0.5, 0.5, 0.25, 0.5]\n",
            "Número de Sisemas: 5\n",
            "Fator:  [0.3296799539643607, 0.3934693402873666, 0.6321205588285577, 0.6321205588285577, 0.7768698398515702, 0.3934693402873666, 0.7768698398515702, 0.6321205588285577, 0.3934693402873666, 0.6321205588285577, 0.6321205588285577, 0.3934693402873666, 0.6321205588285577]\n",
            "Media de falhas:  [0, 32.0, 8758.754323788913, 1568166.9951263473, 2200409.067844677, 8545284.585204508, 25001751.583540723, 54085206.15375883, 74210424.90194294, 119637626.04118355, 781649920.203282, 1195169190.7954907, 2728010790.7480636, -1128831516.5562205]\n",
            "Custo =  256187987030.8767\n"
          ]
        },
        {
          "output_type": "stream",
          "name": "stderr",
          "text": [
            "pyswarms.single.global_best: 100%|██████████|1/1, best_cost=6.85e+10\n",
            "2023-09-24 20:18:48,687 - pyswarms.single.global_best - INFO - Optimization finished | best cost: 68520344337.58187, best pos: [1.35368511 3.14839803 2.06470755 3.33462681 0.23792516 0.59671568\n",
            " 1.70848815 2.35932685 2.43634183 5.85465963 3.35222913 2.88929241\n",
            " 1.88239757 2.71728163 3.22276258 4.21599867 3.18340793 4.65595672\n",
            " 2.90466511 0.8503574  4.49585116 1.93702398 6.46135712 6.85709609]\n",
            "2023-09-24 20:18:48,688 - pyswarms.single.global_best - INFO - Optimize for 1 iters with {'c1': 0.5, 'c2': 0.3, 'w': 0.9}\n"
          ]
        },
        {
          "output_type": "stream",
          "name": "stdout",
          "text": [
            "\n",
            "=========================================================================\n",
            "\n",
            "Número de ciclos de manutenção: 10 5\n",
            "Tempos para manutenções preventivas: [0, 10, 34, 100, 201, 295, 310, 386, 426, 485, 715]\n",
            "Severidade para cada subsistema: [0.25, 0.5, 0.5, 0.25, 0.75, 0.5, 0.25, 0.5, 0.5, 0.25]\n",
            "Número de Sisemas: 5\n",
            "Fator:  [0.3296799539643607, 0.3934693402873666, 0.6321205588285577, 0.6321205588285577, 0.3934693402873666, 0.7768698398515702, 0.6321205588285577, 0.3934693402873666, 0.6321205588285577, 0.6321205588285577, 0.3934693402873666]\n",
            "Media de falhas:  [0, 32.0, 8758.754323788913, 1568166.9951263473, 17439612.741834033, 59485504.38574116, 88568958.95595926, 108694177.70414338, 154121378.84338397, 816133673.0054824, 4394852348.8495455, 4014691184.8976083]\n",
            "Custo =  136215039010.75734\n"
          ]
        },
        {
          "output_type": "stream",
          "name": "stderr",
          "text": [
            "pyswarms.single.global_best:   0%|          |0/1, best_cost=6.85e+10"
          ]
        },
        {
          "output_type": "stream",
          "name": "stdout",
          "text": [
            "\n",
            "=========================================================================\n",
            "\n",
            "Número de ciclos de manutenção: 11 5\n",
            "Tempos para manutenções preventivas: [0, 10, 34, 100, 201, 295, 310, 386, 426, 485, 640, 671]\n",
            "Severidade para cada subsistema: [0.25, 0.5, 0.5, 0.25, 0.75, 0.5, 0.25, 0.5, 0.5, 0.75, 0.5]\n",
            "Número de Sisemas: 5\n",
            "Fator:  [0.3296799539643607, 0.3934693402873666, 0.6321205588285577, 0.6321205588285577, 0.3934693402873666, 0.7768698398515702, 0.6321205588285577, 0.3934693402873666, 0.6321205588285577, 0.6321205588285577, 0.7768698398515702, 0.6321205588285577]\n",
            "Media de falhas:  [0, 32.0, 8758.754323788913, 1568166.9951263473, 17439612.741834033, 59485504.38574116, 88568958.95595926, 108694177.70414338, 154121378.84338397, 816133673.0054824, 2076888115.6073055, 2275078882.0598097, 2251971918.0121465]\n",
            "Custo =  120163857928.76753\n"
          ]
        },
        {
          "output_type": "stream",
          "name": "stderr",
          "text": [
            "\rpyswarms.single.global_best: 100%|██████████|1/1, best_cost=6.85e+10\n",
            "2023-09-24 20:18:48,701 - pyswarms.single.global_best - INFO - Optimization finished | best cost: 68520344337.58187, best pos: [1.35368483 3.14839803 2.06470762 3.33462679 0.23792515 0.59671568\n",
            " 1.70848753 2.35932684 2.43634183 5.85469651 3.35222895 2.88929238\n",
            " 1.88239759 2.71728158 3.22276254 4.21599854 3.18340793 4.65595672\n",
            " 2.9046651  0.85035778 4.49585116 1.93434679 6.46135751 6.85709864]\n",
            "2023-09-24 20:18:48,702 - pyswarms.single.global_best - INFO - Optimize for 1 iters with {'c1': 0.5, 'c2': 0.3, 'w': 0.9}\n",
            "pyswarms.single.global_best: 100%|██████████|1/1, best_cost=6.85e+10\n",
            "2023-09-24 20:18:48,717 - pyswarms.single.global_best - INFO - Optimization finished | best cost: 68520344337.58187, best pos: [1.35368459 3.14839803 2.06470767 3.33462677 0.23792514 0.59671568\n",
            " 1.70848702 2.35932682 2.43634183 5.85475078 3.35222877 2.88929235\n",
            " 1.88239765 2.71728155 3.22276251 4.21599808 3.18340792 4.65595672\n",
            " 2.9046651  0.85035809 4.49585116 1.93303346 6.46135765 6.8570999 ]\n",
            "2023-09-24 20:18:48,718 - pyswarms.single.global_best - INFO - Optimize for 1 iters with {'c1': 0.5, 'c2': 0.3, 'w': 0.9}\n"
          ]
        },
        {
          "output_type": "stream",
          "name": "stdout",
          "text": [
            "\n",
            "=========================================================================\n",
            "\n",
            "Número de ciclos de manutenção: 13 5\n",
            "Tempos para manutenções preventivas: [0, 10, 34, 100, 139, 201, 295, 310, 386, 426, 485, 594, 631, 708]\n",
            "Severidade para cada subsistema: [0.25, 0.5, 0.5, 0.25, 0.25, 0.75, 0.5, 0.25, 0.5, 0.5, 0.5, 0.5, 0.75]\n",
            "Número de Sisemas: 5\n",
            "Fator:  [0.3296799539643607, 0.3934693402873666, 0.6321205588285577, 0.6321205588285577, 0.3934693402873666, 0.3934693402873666, 0.7768698398515702, 0.6321205588285577, 0.3934693402873666, 0.6321205588285577, 0.6321205588285577, 0.6321205588285577, 0.6321205588285577, 0.7768698398515702]\n",
            "Media de falhas:  [0, 32.0, 8758.754323788913, 1568166.9951263473, 2346717.2431162167, 8165996.044927648, 149703500.42431214, 178786954.99453026, 198912173.74271438, 244339374.88195497, 906351669.0440533, 1476182425.2178602, 1665298012.2594357, 2352988351.245915, 1995776902.0520668]\n",
            "Custo =  155124234654.48477\n"
          ]
        },
        {
          "output_type": "stream",
          "name": "stderr",
          "text": [
            "pyswarms.single.global_best: 100%|██████████|1/1, best_cost=6.85e+10\n",
            "2023-09-24 20:18:48,733 - pyswarms.single.global_best - INFO - Optimization finished | best cost: 68520344337.58187, best pos: [1.35368441 3.14839803 2.06470771 3.33462675 0.23792514 0.59671568\n",
            " 1.70848673 2.35932681 2.43634183 5.85480102 3.35222862 2.88929232\n",
            " 1.88239774 2.71728152 3.22276248 4.21599749 3.18340792 4.65595672\n",
            " 2.90466509 0.8503583  4.49585116 1.93378521 6.46135739 6.85709913]\n",
            "2023-09-24 20:18:48,734 - pyswarms.single.global_best - INFO - Optimize for 1 iters with {'c1': 0.5, 'c2': 0.3, 'w': 0.9}\n"
          ]
        },
        {
          "output_type": "stream",
          "name": "stdout",
          "text": [
            "\n",
            "=========================================================================\n",
            "\n",
            "Número de ciclos de manutenção: 12 5\n",
            "Tempos para manutenções preventivas: [0, 10, 34, 100, 130, 201, 295, 310, 386, 426, 485, 689, 710]\n",
            "Severidade para cada subsistema: [0.25, 0.5, 0.5, 0.5, 0.25, 0.75, 0.5, 0.25, 0.5, 0.5, 0.75, 0.5]\n",
            "Número de Sisemas: 5\n",
            "Fator:  [0.3296799539643607, 0.3934693402873666, 0.6321205588285577, 0.6321205588285577, 0.6321205588285577, 0.3934693402873666, 0.7768698398515702, 0.6321205588285577, 0.3934693402873666, 0.6321205588285577, 0.6321205588285577, 0.7768698398515702, 0.6321205588285577]\n",
            "Media de falhas:  [0, 32.0, 8758.754323788913, 1568166.9951263473, 1971851.678983972, 9471928.161197895, 51517819.80510502, 80601274.37532313, 100726493.12350725, 146153694.26274785, 808165988.4248463, 3367654006.1447825, 3531306611.258234, 3499459286.254584]\n",
            "Custo =  143117297628.3087\n"
          ]
        },
        {
          "output_type": "stream",
          "name": "stderr",
          "text": [
            "pyswarms.single.global_best: 100%|██████████|1/1, best_cost=6.85e+10\n",
            "2023-09-24 20:18:48,758 - pyswarms.single.global_best - INFO - Optimization finished | best cost: 68520344337.58187, best pos: [1.35368426 3.14839803 2.06470773 3.33462674 0.23792514 0.59671568\n",
            " 1.70848657 2.3593268  2.43634183 5.85484483 3.35222852 2.8892923\n",
            " 1.88239787 2.71728152 3.22276246 4.21599678 3.18340792 4.65595672\n",
            " 2.90466509 0.85035838 4.49585116 1.9354658  6.46135691 6.85709658]\n",
            "2023-09-24 20:18:48,759 - pyswarms.single.global_best - INFO - Optimize for 1 iters with {'c1': 0.5, 'c2': 0.3, 'w': 0.9}\n"
          ]
        },
        {
          "output_type": "stream",
          "name": "stdout",
          "text": [
            "\n",
            "=========================================================================\n",
            "\n",
            "Número de ciclos de manutenção: 12 5\n",
            "Tempos para manutenções preventivas: [0, 10, 34, 100, 132, 201, 295, 310, 386, 426, 485, 683, 717]\n",
            "Severidade para cada subsistema: [0.25, 0.5, 0.5, 0.75, 0.25, 0.75, 0.5, 0.25, 0.5, 0.5, 0.5, 0.25]\n",
            "Número de Sisemas: 5\n",
            "Fator:  [0.3296799539643607, 0.3934693402873666, 0.6321205588285577, 0.6321205588285577, 0.7768698398515702, 0.3934693402873666, 0.7768698398515702, 0.6321205588285577, 0.3934693402873666, 0.6321205588285577, 0.6321205588285577, 0.6321205588285577, 0.3934693402873666]\n",
            "Media de falhas:  [0, 32.0, 8758.754323788913, 1568166.9951263473, 2039452.0085245231, 9138420.67100294, 25594887.669339158, 54678342.239557266, 74803560.98774138, 120230762.12698199, 782243056.2890804, 3142749248.532688, 3426743091.1230097, 3039960273.4819126]\n",
            "Custo =  153827796318.05658\n"
          ]
        },
        {
          "output_type": "stream",
          "name": "stderr",
          "text": [
            "pyswarms.single.global_best:   0%|          |0/1, best_cost=6.85e+10"
          ]
        },
        {
          "output_type": "stream",
          "name": "stdout",
          "text": [
            "\n",
            "=========================================================================\n",
            "\n",
            "Número de ciclos de manutenção: 11 5\n",
            "Tempos para manutenções preventivas: [0, 10, 34, 100, 201, 295, 310, 386, 426, 485, 655, 665]\n",
            "Severidade para cada subsistema: [0.25, 0.5, 0.5, 0.25, 0.75, 0.5, 0.25, 0.5, 0.5, 0.5, 0.25]\n",
            "Número de Sisemas: 5\n",
            "Fator:  [0.3296799539643607, 0.3934693402873666, 0.6321205588285577, 0.6321205588285577, 0.3934693402873666, 0.7768698398515702, 0.6321205588285577, 0.3934693402873666, 0.6321205588285577, 0.6321205588285577, 0.6321205588285577, 0.3934693402873666]\n",
            "Media de falhas:  [0, 32.0, 8758.754323788913, 1568166.9951263473, 17439612.741834033, 59485504.38574116, 88568958.95595926, 108694177.70414338, 154121378.84338397, 816133673.0054824, 2401413845.316862, 2460020108.26759, 2239478723.3127127]\n",
            "Custo =  135068449191.05026\n"
          ]
        },
        {
          "output_type": "stream",
          "name": "stderr",
          "text": [
            "\rpyswarms.single.global_best: 100%|██████████|1/1, best_cost=6.85e+10\n",
            "2023-09-24 20:18:48,788 - pyswarms.single.global_best - INFO - Optimization finished | best cost: 68520344337.58187, best pos: [1.35368414 3.14839803 2.06470773 3.33462674 0.23792514 0.59671568\n",
            " 1.70848643 2.35932679 2.43634183 5.85488295 3.35222848 2.8892923\n",
            " 1.88239799 2.71728153 3.22276245 4.21599612 3.18340793 4.65595673\n",
            " 2.90466508 0.85035836 4.49585116 1.93815579 6.46135637 6.85709353]\n",
            "2023-09-24 20:18:48,789 - pyswarms.single.global_best - INFO - Optimize for 1 iters with {'c1': 0.5, 'c2': 0.3, 'w': 0.9}\n",
            "pyswarms.single.global_best:   0%|          |0/1, best_cost=6.85e+10"
          ]
        },
        {
          "output_type": "stream",
          "name": "stdout",
          "text": [
            "\n",
            "=========================================================================\n",
            "\n",
            "Número de ciclos de manutenção: 11 5\n",
            "Tempos para manutenções preventivas: [0, 10, 34, 100, 131, 201, 295, 310, 386, 426, 485, 651]\n",
            "Severidade para cada subsistema: [0.25, 0.5, 0.5, 0.5, 0.25, 0.75, 0.5, 0.25, 0.5, 0.5, 0.25]\n",
            "Número de Sisemas: 5\n",
            "Fator:  [0.3296799539643607, 0.3934693402873666, 0.6321205588285577, 0.6321205588285577, 0.6321205588285577, 0.3934693402873666, 0.7768698398515702, 0.6321205588285577, 0.3934693402873666, 0.6321205588285577, 0.6321205588285577, 0.3934693402873666]\n",
            "Media de falhas:  [0, 32.0, 8758.754323788913, 1568166.9951263473, 2004654.9368146006, 9302114.815844059, 51348006.45975119, 80431461.0299693, 100556679.77815342, 145983880.91739404, 807996175.0794924, 2301098105.4448605, 2125127779.3219714]\n",
            "Custo =  110378157053.0936\n"
          ]
        },
        {
          "output_type": "stream",
          "name": "stderr",
          "text": [
            "\rpyswarms.single.global_best: 100%|██████████|1/1, best_cost=6.85e+10\n",
            "2023-09-24 20:18:48,803 - pyswarms.single.global_best - INFO - Optimization finished | best cost: 68520344337.58187, best pos: [1.35368411 3.14839803 2.06470772 3.33462674 0.23792516 0.59671567\n",
            " 1.70848631 2.35932679 2.43634182 5.85489228 3.35222846 2.88929231\n",
            " 1.8823981  2.71728155 3.22276246 4.2159955  3.18340794 4.65595673\n",
            " 2.90466508 0.85035824 4.49585116 1.9407997  6.46135588 6.85709071]\n",
            "2023-09-24 20:18:48,805 - pyswarms.single.global_best - INFO - Optimize for 1 iters with {'c1': 0.5, 'c2': 0.3, 'w': 0.9}\n",
            "pyswarms.single.global_best: 100%|██████████|1/1, best_cost=6.85e+10\n",
            "2023-09-24 20:18:48,816 - pyswarms.single.global_best - INFO - Optimization finished | best cost: 68520344337.58187, best pos: [1.35368425 3.14839803 2.06470767 3.33462674 0.23792517 0.59671567\n",
            " 1.70848637 2.3593268  2.43634182 5.85488465 3.35222847 2.88929231\n",
            " 1.88239816 2.71728157 3.22276249 4.215995   3.18340795 4.65595673\n",
            " 2.90466507 0.85035801 4.49585116 1.9428534  6.46135548 6.85708859]\n",
            "2023-09-24 20:18:48,817 - pyswarms.single.global_best - INFO - Optimize for 1 iters with {'c1': 0.5, 'c2': 0.3, 'w': 0.9}\n"
          ]
        },
        {
          "output_type": "stream",
          "name": "stdout",
          "text": [
            "\n",
            "=========================================================================\n",
            "\n",
            "Número de ciclos de manutenção: 10 5\n",
            "Tempos para manutenções preventivas: [0, 10, 34, 100, 201, 295, 310, 386, 426, 485, 593]\n",
            "Severidade para cada subsistema: [0.25, 0.5, 0.5, 0.25, 0.75, 0.5, 0.25, 0.5, 0.5, 0.5]\n",
            "Número de Sisemas: 5\n",
            "Fator:  [0.3296799539643607, 0.3934693402873666, 0.6321205588285577, 0.6321205588285577, 0.3934693402873666, 0.7768698398515702, 0.6321205588285577, 0.3934693402873666, 0.6321205588285577, 0.6321205588285577, 0.6321205588285577]\n",
            "Media de falhas:  [0, 32.0, 8758.754323788913, 1568166.9951263473, 17439612.741834033, 59485504.38574116, 88568958.95595926, 108694177.70414338, 154121378.84338397, 816133673.0054824, 1375120787.298749, 1402168164.089797]\n",
            "Custo =  96912327289.94647\n"
          ]
        },
        {
          "output_type": "stream",
          "name": "stderr",
          "text": [
            "pyswarms.single.global_best: 100%|██████████|1/1, best_cost=6.85e+10\n",
            "2023-09-24 20:18:48,841 - pyswarms.single.global_best - INFO - Optimization finished | best cost: 68520344337.58187, best pos: [1.35368451 3.14839803 2.06470761 3.33462676 0.23792518 0.59671567\n",
            " 1.70848657 2.35932681 2.43634182 5.85486966 3.35222852 2.88929233\n",
            " 1.88239815 2.7172816  3.22276252 4.21599481 3.18340796 4.65595673\n",
            " 2.90466507 0.85035774 4.49585116 1.94430105 6.46135524 6.85708748]\n",
            "2023-09-24 20:18:48,842 - pyswarms.single.global_best - INFO - Optimize for 1 iters with {'c1': 0.5, 'c2': 0.3, 'w': 0.9}\n"
          ]
        },
        {
          "output_type": "stream",
          "name": "stdout",
          "text": [
            "\n",
            "=========================================================================\n",
            "\n",
            "Número de ciclos de manutenção: 10 5\n",
            "Tempos para manutenções preventivas: [0, 10, 34, 100, 201, 295, 310, 386, 426, 485, 680]\n",
            "Severidade para cada subsistema: [0.25, 0.5, 0.5, 0.25, 0.75, 0.5, 0.25, 0.5, 0.5, 0.25]\n",
            "Número de Sisemas: 5\n",
            "Fator:  [0.3296799539643607, 0.3934693402873666, 0.6321205588285577, 0.6321205588285577, 0.3934693402873666, 0.7768698398515702, 0.6321205588285577, 0.3934693402873666, 0.6321205588285577, 0.6321205588285577, 0.3934693402873666]\n",
            "Media de falhas:  [0, 32.0, 8758.754323788913, 1568166.9951263473, 17439612.741834033, 59485504.38574116, 88568958.95595926, 108694177.70414338, 154121378.84338397, 816133673.0054824, 3081794380.999859, 2813952491.4644527]\n",
            "Custo =  120620642253.64102\n"
          ]
        },
        {
          "output_type": "stream",
          "name": "stderr",
          "text": [
            "pyswarms.single.global_best:   0%|          |0/1, best_cost=6.85e+10"
          ]
        },
        {
          "output_type": "stream",
          "name": "stdout",
          "text": [
            "\n",
            "=========================================================================\n",
            "\n",
            "Número de ciclos de manutenção: 14 5\n",
            "Tempos para manutenções preventivas: [0, 10, 34, 100, 124, 201, 295, 310, 386, 426, 485, 577, 659, 687, 708]\n",
            "Severidade para cada subsistema: [0.25, 0.5, 0.5, 0.75, 0.25, 0.75, 0.5, 0.25, 0.5, 0.5, 0.5, 0.25, 0.75, 0.75]\n",
            "Número de Sisemas: 5\n",
            "Fator:  [0.3296799539643607, 0.3934693402873666, 0.6321205588285577, 0.6321205588285577, 0.7768698398515702, 0.3934693402873666, 0.7768698398515702, 0.6321205588285577, 0.3934693402873666, 0.6321205588285577, 0.6321205588285577, 0.6321205588285577, 0.3934693402873666, 0.7768698398515702, 0.7768698398515702]\n",
            "Media de falhas:  [0, 32.0, 8758.754323788913, 1568166.9951263473, 1812211.1822454028, 10618606.731897496, 27075073.730233714, 56158528.30045182, 76283747.04863593, 121710948.18787654, 783723242.349975, 1188622716.444912, 1756804694.8296647, 1951678140.0868387, 3071977490.6432123, 3040591965.6883264]\n",
            "Custo =  347246485110.82947\n"
          ]
        },
        {
          "output_type": "stream",
          "name": "stderr",
          "text": [
            "\rpyswarms.single.global_best: 100%|██████████|1/1, best_cost=6.85e+10\n",
            "2023-09-24 20:18:48,869 - pyswarms.single.global_best - INFO - Optimization finished | best cost: 68520344337.58187, best pos: [1.35368485 3.14839803 2.06470754 3.33462678 0.23792518 0.59671567\n",
            " 1.70848696 2.35932682 2.43634182 5.85483228 3.35222857 2.88929236\n",
            " 1.88239809 2.71728163 3.22276255 4.21599479 3.18340796 4.65595673\n",
            " 2.90466507 0.85035749 4.49585116 1.94536478 6.46135525 6.85708796]\n"
          ]
        }
      ]
    },
    {
      "cell_type": "code",
      "source": [
        "# Nome do arquivo CSV para salvar o resultado do melhor custo\n",
        "nome_arquivo = '/content/drive/MyDrive/Resultados_PSO/melhor_custo_pso_primeiro_cenario.csv'\n",
        "\n",
        "# Abrir o arquivo CSV em modo de leitura para verificar o melhor custo anterior (se existir)\n",
        "melhores_custos_anteriores = []\n",
        "try:\n",
        "    with open(nome_arquivo, 'r') as arquivo_csv:\n",
        "        reader = csv.reader(arquivo_csv)\n",
        "        next(reader)  # Pule o cabeçalho\n",
        "        for linha in reader:\n",
        "            melhores_custos_anteriores.append(float(linha[1]))\n",
        "except FileNotFoundError:\n",
        "    pass  # Arquivo não existe, pode ser a primeira execução\n",
        "\n",
        "# Adicionar o melhor custo atual à lista de melhores custos anteriores\n",
        "melhores_custos_anteriores.append(pbest_cost[0])\n",
        "\n",
        "# Abrir o arquivo CSV em modo de escrita e escrever todos os melhores custos\n",
        "with open(nome_arquivo, 'w', newline='') as arquivo_csv:\n",
        "    writer = csv.writer(arquivo_csv)\n",
        "\n",
        "    # Escreve o cabeçalho com as colunas\n",
        "    writer.writerow(['Interação', 'Melhor Custo', 'Numero de Particulas', 'Numero de Interações', 'Dimensions', 'options'])\n",
        "\n",
        "    # Escreve os valores dos melhores custos com números de interação\n",
        "    for i, custo in enumerate(melhores_custos_anteriores, start=1):\n",
        "        writer.writerow([i, custo, num_particles, max_iterations, dimensions, options])"
      ],
      "metadata": {
        "id": "SvLX3p0EXBEo"
      },
      "execution_count": 897,
      "outputs": []
    },
    {
      "cell_type": "code",
      "source": [
        "# Plotar gráfico de densidade da otimização\n",
        "plt.figure()\n",
        "plt.plot(optimizer.cost_history)\n",
        "plt.xlabel('Iteration')\n",
        "plt.xlim(0, max_iterations)\n",
        "plt.ylabel('Objective function')\n",
        "plt.title('Particle Swarm Optimization (PSO) - Cost History')\n",
        "plt.show()\n",
        "\n",
        "print(\"                              \")\n",
        "print(\"*************************************************************************\")\n",
        "print(\"Número total de iterações:\", max_iterations)\n",
        "print(\"Número de Particulas:\", num_particles)\n",
        "print(\"Número de Dimensões:\", dimensions)\n",
        "print(\"                              \")\n",
        "print(\"Melhor partícula:\", pbest_cost[0])"
      ],
      "metadata": {
        "id": "ULlt81ZI1vn9",
        "outputId": "c36eb871-003c-4adc-e839-7c48ecf9f074",
        "colab": {
          "base_uri": "https://localhost:8080/",
          "height": 594
        }
      },
      "execution_count": 898,
      "outputs": [
        {
          "output_type": "display_data",
          "data": {
            "text/plain": [
              "<Figure size 640x480 with 1 Axes>"
            ],
            "image/png": "[encoded data removed]"
          },
          "metadata": {}
        },
        {
          "output_type": "stream",
          "name": "stdout",
          "text": [
            "                              \n",
            "*************************************************************************\n",
            "Número total de iterações: 100\n",
            "Número de Particulas: 100\n",
            "Número de Dimensões: 24\n",
            "                              \n",
            "Melhor partícula: 347246485110.82947\n"
          ]
        }
      ]
    },
    {
      "cell_type": "code",
      "source": [
        "# Plotar o gráfico 3D com todas as melhores posições\n",
        "fig = plt.figure(figsize=(8, 8))\n",
        "ax = fig.add_subplot(111)\n",
        "\n",
        "# Plotar todas as melhores posições anteriores\n",
        "for i in range(best_positions.shape[0]):\n",
        "    ax.scatter(best_positions[i, 0], best_positions[i, 1], marker=m, c='blue', alpha=0.6)\n",
        "\n",
        "# Plotar a última melhor posição com uma cor diferente para destacá-la\n",
        "ax.scatter(best_positions[-1, 0], best_positions[-1, 1], c='red', label='Melhor posição atual')\n",
        "\n",
        "ax.set_title('PSO - Melhores posições ao longo das iterações')\n",
        "ax.set_xlabel('Primeira dimensão das melhores posições')\n",
        "ax.set_ylabel('Segunda dimensão das melhores posições')\n",
        "ax.legend()\n",
        "plt.grid()\n",
        "plt.show()"
      ],
      "metadata": {
        "id": "4STRoUAPxmqT",
        "outputId": "d3362a56-b7fc-40d8-cba2-3ea102ae7252",
        "colab": {
          "base_uri": "https://localhost:8080/",
          "height": 718
        }
      },
      "execution_count": 896,
      "outputs": [
        {
          "output_type": "display_data",
          "data": {
            "text/plain": [
              "<Figure size 800x800 with 1 Axes>"
            ],
            "image/png": "[encoded data removed]"
          },
          "metadata": {}
        }
      ]
    }
  ]
}