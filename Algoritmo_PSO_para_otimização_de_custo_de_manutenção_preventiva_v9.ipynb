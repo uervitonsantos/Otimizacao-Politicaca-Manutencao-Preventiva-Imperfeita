{
  "nbformat": 4,
  "nbformat_minor": 0,
  "metadata": {
    "colab": {
      "provenance": [],
      "include_colab_link": true
    },
    "kernelspec": {
      "name": "python3",
      "display_name": "Python 3"
    },
    "language_info": {
      "name": "python"
    }
  },
  "cells": [
    {
      "cell_type": "markdown",
      "metadata": {
        "id": "view-in-github",
        "colab_type": "text"
      },
      "source": [
        "<a href=\"https://colab.research.google.com/github/uervitonsantos/Otimizacao-Politicaca-Manutencao-Preventiva-Imperfeita/blob/main/Algoritmo_PSO_para_otimiza%C3%A7%C3%A3o_de_custo_de_manuten%C3%A7%C3%A3o_preventiva_v9.ipynb\" target=\"_parent\"><img src=\"https://colab.research.google.com/assets/colab-badge.svg\" alt=\"Open In Colab\"/></a>"
      ]
    },
    {
      "cell_type": "markdown",
      "source": [
        "Dataset de dados de confiabilidade: https://drive.google.com/drive/folders/1b7jqK1A2XI1oZ4YhDXw_4xdnSTbfuBVK?usp=sharing"
      ],
      "metadata": {
        "id": "wZi0pIL-Ch37"
      }
    },
    {
      "cell_type": "code",
      "execution_count": 264,
      "metadata": {
        "id": "VM8_ebpiVP0V"
      },
      "outputs": [],
      "source": [
        "%%capture\n",
        "pip install pyswarms"
      ]
    },
    {
      "cell_type": "code",
      "source": [
        "import numpy as np\n",
        "import pandas as pd\n",
        "import math\n",
        "import csv\n",
        "import matplotlib.pyplot as plt\n",
        "import time\n",
        "from pyswarms.single.global_best import GlobalBestPSO\n",
        "import pyswarms as ps\n",
        "from pyswarms.utils.search import RandomSearch\n",
        "from pyswarms.utils.functions import single_obj as fx\n",
        "from pyswarms.utils.plotters import (plot_cost_history, plot_contour, plot_surface)\n",
        "import plotly.graph_objects as go\n",
        "from pyswarms.utils.plotters.formatters import Designer\n",
        "from pyswarms.utils.plotters.formatters import Mesher\n",
        "from mpl_toolkits.mplot3d import Axes3D"
      ],
      "metadata": {
        "id": "2sVG0WwfVrUs"
      },
      "execution_count": 265,
      "outputs": []
    },
    {
      "cell_type": "code",
      "source": [
        "MAX_VALUE_CUSTO = 10000\n",
        "fator_melhoria = 'expo'\n",
        "DIAS_OBSERVADOS = 600"
      ],
      "metadata": {
        "id": "FeZKvg25Vtwz"
      },
      "execution_count": 266,
      "outputs": []
    },
    {
      "cell_type": "code",
      "source": [
        "# Custos MC e MP\n",
        "CMC = 4000\n",
        "CMP = 2000"
      ],
      "metadata": {
        "id": "JFnJpCJGVx7P"
      },
      "execution_count": 267,
      "outputs": []
    },
    {
      "cell_type": "code",
      "source": [
        "class IntensidadeFalha:\n",
        "    # Este método vai inicializar cada objeto criado a partir desta classe\n",
        "    # O nome deste método é \"inicio\"\n",
        "    # (self) é uma referência a cada atributo de um objeto criado a partir desta classe\n",
        "    # Os atributos de cada objeto criados a partir desta classe.\n",
        "    # O self indica que estes são atributos dos objetos\n",
        "    def __init__(self):\n",
        "        self.fator = None\n",
        "        self.lamb = None\n",
        "        self.beta = None\n",
        "        self.theta = None\n",
        "        self.sz = None\n",
        "        self.T = None\n",
        "        self.u = None\n",
        "\n",
        "    def inicio(self, T, fator, solucao):\n",
        "        self.fator = fator\n",
        "        self.lamb = solucao[0]\n",
        "        self.beta = solucao[1]\n",
        "        self.theta = solucao[2]\n",
        "        self.sz = int(T[-1])\n",
        "        self.T = T\n",
        "\n",
        "    def create(self):\n",
        "        self.u = []\n",
        "        # Reducao de Idade com fator de melhoria linear\n",
        "        for i, tc in enumerate(self.T[1:], start=1):\n",
        "            for tt in range(int(self.T[i-1]), int(tc)+1):\n",
        "                b = tt - self.fator[0][i-1] * self.T[i-1]\n",
        "                self.u.append((1 / (self.lamb ** self.beta)) * self.beta * b ** (self.beta - 1))\n",
        "\n",
        "                if tt == tc:\n",
        "                    self.u.append(float('nan'))\n",
        "            break\n",
        "    # plota e salva a figura da função de intensidade de falha\n",
        "    def plotar(self):\n",
        "        fig = plt.figure(figsize=(20, 5))\n",
        "        plt.plot(self.u)\n",
        "\n",
        "        for xc in self.T:\n",
        "            plt.axvline(x=xc, color='r', linestyle='--')\n",
        "\n",
        "        plt.xlabel(\"Tempo (dias)\")\n",
        "        plt.ylabel(\"Função intensidade de falha\")\n",
        "        plt.xlim(0)\n",
        "        plt.grid(True)\n",
        "        plt.show()"
      ],
      "metadata": {
        "id": "QhF2qTuDV2P1"
      },
      "execution_count": 268,
      "outputs": []
    },
    {
      "cell_type": "code",
      "source": [
        "# Define a função de melhoria constante\n",
        "def const(ck, m, s, theta):\n",
        "    fator = [[theta] * ck] * m\n",
        "    return fator"
      ],
      "metadata": {
        "id": "mMRO_z3_V4a3"
      },
      "execution_count": 269,
      "outputs": []
    },
    {
      "cell_type": "code",
      "source": [
        "# Define a função de melhoria linear\n",
        "def linear(ck, m, s, theta):\n",
        "    fator = []\n",
        "    for k in range(0, m, 1):\n",
        "        linha = [0]\n",
        "        for j in range(0, ck, 1):\n",
        "            linha.append(s[k][j] * theta)\n",
        "        fator.append(linha)\n",
        "    return fator"
      ],
      "metadata": {
        "id": "S_fCxa7GV65n"
      },
      "execution_count": 270,
      "outputs": []
    },
    {
      "cell_type": "code",
      "source": [
        "# Define a função de melhoria exponencial\n",
        "def expo(ck, m, s, theta):\n",
        "    fator = []\n",
        "    for k in range(0, m):\n",
        "        linha = []\n",
        "        # Verifique se o índice k é válido\n",
        "        if k >= len(s):\n",
        "            break\n",
        "        for j in range(0, ck):\n",
        "            # Verifique se o índice j é válido\n",
        "            if j >= len(s[k]):\n",
        "                break\n",
        "            linha.append(1.0 - math.exp(-s[k][j] * theta))\n",
        "        fator.append(linha)\n",
        "\n",
        "    return fator"
      ],
      "metadata": {
        "id": "NV3lIXl9V9FL"
      },
      "execution_count": 271,
      "outputs": []
    },
    {
      "cell_type": "code",
      "source": [
        "# Define a função de melhoria potência\n",
        "def pot(ck, m, s, theta):\n",
        "    fator = []\n",
        "    for k in range(0, m, 1):\n",
        "        linha = []\n",
        "        for j in range(0, ck, 1):\n",
        "            linha.append(s[k][j] ** theta)\n",
        "        fator.append(linha)\n",
        "    return fator"
      ],
      "metadata": {
        "id": "ikxXlzxKV-0K"
      },
      "execution_count": 272,
      "outputs": []
    },
    {
      "cell_type": "code",
      "source": [
        "# Define a função de melhoria para manutenção perfeita\n",
        "def mpp(ck, m, s, theta):\n",
        "    fator = []\n",
        "    for k in range(0, m, 1):\n",
        "        linha = []\n",
        "        for j in range(0, ck, 1):\n",
        "            linha.append(1)\n",
        "        fator.append(linha)\n",
        "    return fator"
      ],
      "metadata": {
        "id": "xcHr8tSFWAus"
      },
      "execution_count": 273,
      "outputs": []
    },
    {
      "cell_type": "code",
      "source": [
        "# Executa a função de melhoria com base no parâmetro fornecido\n",
        "def execute_function(fator_melhoria, ck, m, s, theta):\n",
        "    return {\n",
        "        'const': lambda: const(ck, m, s, theta),\n",
        "        'linear': lambda: linear(ck, m, s, theta),\n",
        "        'expo': lambda: expo(ck, m, s, theta),\n",
        "        'pot': lambda: pot(ck, m, s, theta),\n",
        "        'mpp': lambda: mpp(ck, m, s, theta),\n",
        "    }[fator_melhoria]()"
      ],
      "metadata": {
        "id": "R5KeFcseWDH6"
      },
      "execution_count": 274,
      "outputs": []
    },
    {
      "cell_type": "code",
      "source": [
        "# Função custo de manutenção baseada em severidade\n",
        "def custo_mp(s, CMP):\n",
        "    dist = {0.25: 2000, 0.5: 4000, 0.75: 12000, 1.0: 20000}\n",
        "    if not isinstance(s, list):\n",
        "        s = [s]  # Transforma s em uma lista com um único elemento\n",
        "    cmp_f = np.sum([CMP if si < 0.25 or si > 1.0 else np.interp(si, [0.25, 0.5, 0.75, 1.0], [2000, 4000, 12000, 20000]) for si in s])\n",
        "    return cmp_f"
      ],
      "metadata": {
        "id": "B8BkTWrmWGWO"
      },
      "execution_count": 275,
      "outputs": []
    },
    {
      "cell_type": "code",
      "source": [
        "# Defina o dicionário de tipos de dados\n",
        "dtypes = {\n",
        "    't': int,\n",
        "    'k': int,\n",
        "    'c': int,\n",
        "}\n",
        "\n",
        "# Leitura dos dados de tempo de falha para 4 cenarios de exemplo\n",
        "# df = pd.read_csv('/content/drive/MyDrive/datasets/cenario01.csv.csv', sep=\";\")\n",
        "# df = pd.read_csv('/content/drive/MyDrive/datasets/cenario02.csv.csv', sep=\";\")\n",
        "# df = pd.read_csv('/content/drive/MyDrive/datasets/cenario03.csv.csv', sep=\";\")\n",
        "# df = pd.read_csv('/content/drive/MyDrive/datasets/cenario04.csv.csv', sep=\";\")\n",
        "df = pd.read_csv('/content/drive/MyDrive/datasets/cenario01.csv', sep=\";\")\n",
        "\n",
        "# Remova as linhas com valores ausentes\n",
        "df = df.fillna(0)\n",
        "\n",
        "# Converta as colunas para os tipos de dados desejados\n",
        "df = df.astype(dtypes)\n",
        "\n",
        "df.head()"
      ],
      "metadata": {
        "colab": {
          "base_uri": "https://localhost:8080/",
          "height": 206
        },
        "id": "IDcyZ_pHWIW8",
        "outputId": "18e5b900-f15b-4b58-bd36-9d7c1a65fb3b"
      },
      "execution_count": 276,
      "outputs": [
        {
          "output_type": "execute_result",
          "data": {
            "text/plain": [
              "     t  k  c    n    s      T\n",
              "0   90  1  1  4.0  0.4  150.0\n",
              "1  110  1  1  0.0  0.5  250.0\n",
              "2  125  1  1  9.0  0.9  500.0\n",
              "3  135  1  1  2.0  0.2  600.0\n",
              "4  295  1  3  2.0  0.4    0.0"
            ],
            "text/html": [
              "\n",
              "  <div id=\"df-8e878de4-7fb0-40c0-9b1f-dc0ff15c414e\" class=\"colab-df-container\">\n",
              "    <div>\n",
              "<style scoped>\n",
              "    .dataframe tbody tr th:only-of-type {\n",
              "        vertical-align: middle;\n",
              "    }\n",
              "\n",
              "    .dataframe tbody tr th {\n",
              "        vertical-align: top;\n",
              "    }\n",
              "\n",
              "    .dataframe thead th {\n",
              "        text-align: right;\n",
              "    }\n",
              "</style>\n",
              "<table border=\"1\" class=\"dataframe\">\n",
              "  <thead>\n",
              "    <tr style=\"text-align: right;\">\n",
              "      <th></th>\n",
              "      <th>t</th>\n",
              "      <th>k</th>\n",
              "      <th>c</th>\n",
              "      <th>n</th>\n",
              "      <th>s</th>\n",
              "      <th>T</th>\n",
              "    </tr>\n",
              "  </thead>\n",
              "  <tbody>\n",
              "    <tr>\n",
              "      <th>0</th>\n",
              "      <td>90</td>\n",
              "      <td>1</td>\n",
              "      <td>1</td>\n",
              "      <td>4.0</td>\n",
              "      <td>0.4</td>\n",
              "      <td>150.0</td>\n",
              "    </tr>\n",
              "    <tr>\n",
              "      <th>1</th>\n",
              "      <td>110</td>\n",
              "      <td>1</td>\n",
              "      <td>1</td>\n",
              "      <td>0.0</td>\n",
              "      <td>0.5</td>\n",
              "      <td>250.0</td>\n",
              "    </tr>\n",
              "    <tr>\n",
              "      <th>2</th>\n",
              "      <td>125</td>\n",
              "      <td>1</td>\n",
              "      <td>1</td>\n",
              "      <td>9.0</td>\n",
              "      <td>0.9</td>\n",
              "      <td>500.0</td>\n",
              "    </tr>\n",
              "    <tr>\n",
              "      <th>3</th>\n",
              "      <td>135</td>\n",
              "      <td>1</td>\n",
              "      <td>1</td>\n",
              "      <td>2.0</td>\n",
              "      <td>0.2</td>\n",
              "      <td>600.0</td>\n",
              "    </tr>\n",
              "    <tr>\n",
              "      <th>4</th>\n",
              "      <td>295</td>\n",
              "      <td>1</td>\n",
              "      <td>3</td>\n",
              "      <td>2.0</td>\n",
              "      <td>0.4</td>\n",
              "      <td>0.0</td>\n",
              "    </tr>\n",
              "  </tbody>\n",
              "</table>\n",
              "</div>\n",
              "    <div class=\"colab-df-buttons\">\n",
              "\n",
              "  <div class=\"colab-df-container\">\n",
              "    <button class=\"colab-df-convert\" onclick=\"convertToInteractive('df-8e878de4-7fb0-40c0-9b1f-dc0ff15c414e')\"\n",
              "            title=\"Convert this dataframe to an interactive table.\"\n",
              "            style=\"display:none;\">\n",
              "\n",
              "  <svg xmlns=\"http://www.w3.org/2000/svg\" height=\"24px\" viewBox=\"0 -960 960 960\">\n",
              "    <path d=\"M120-120v-720h720v720H120Zm60-500h600v-160H180v160Zm220 220h160v-160H400v160Zm0 220h160v-160H400v160ZM180-400h160v-160H180v160Zm440 0h160v-160H620v160ZM180-180h160v-160H180v160Zm440 0h160v-160H620v160Z\"/>\n",
              "  </svg>\n",
              "    </button>\n",
              "\n",
              "  <style>\n",
              "    .colab-df-container {\n",
              "      display:flex;\n",
              "      gap: 12px;\n",
              "    }\n",
              "\n",
              "    .colab-df-convert {\n",
              "      background-color: #E8F0FE;\n",
              "      border: none;\n",
              "      border-radius: 50%;\n",
              "      cursor: pointer;\n",
              "      display: none;\n",
              "      fill: #1967D2;\n",
              "      height: 32px;\n",
              "      padding: 0 0 0 0;\n",
              "      width: 32px;\n",
              "    }\n",
              "\n",
              "    .colab-df-convert:hover {\n",
              "      background-color: #E2EBFA;\n",
              "      box-shadow: 0px 1px 2px rgba(60, 64, 67, 0.3), 0px 1px 3px 1px rgba(60, 64, 67, 0.15);\n",
              "      fill: #174EA6;\n",
              "    }\n",
              "\n",
              "    .colab-df-buttons div {\n",
              "      margin-bottom: 4px;\n",
              "    }\n",
              "\n",
              "    [theme=dark] .colab-df-convert {\n",
              "      background-color: #3B4455;\n",
              "      fill: #D2E3FC;\n",
              "    }\n",
              "\n",
              "    [theme=dark] .colab-df-convert:hover {\n",
              "      background-color: #434B5C;\n",
              "      box-shadow: 0px 1px 3px 1px rgba(0, 0, 0, 0.15);\n",
              "      filter: drop-shadow(0px 1px 2px rgba(0, 0, 0, 0.3));\n",
              "      fill: #FFFFFF;\n",
              "    }\n",
              "  </style>\n",
              "\n",
              "    <script>\n",
              "      const buttonEl =\n",
              "        document.querySelector('#df-8e878de4-7fb0-40c0-9b1f-dc0ff15c414e button.colab-df-convert');\n",
              "      buttonEl.style.display =\n",
              "        google.colab.kernel.accessAllowed ? 'block' : 'none';\n",
              "\n",
              "      async function convertToInteractive(key) {\n",
              "        const element = document.querySelector('#df-8e878de4-7fb0-40c0-9b1f-dc0ff15c414e');\n",
              "        const dataTable =\n",
              "          await google.colab.kernel.invokeFunction('convertToInteractive',\n",
              "                                                    [key], {});\n",
              "        if (!dataTable) return;\n",
              "\n",
              "        const docLinkHtml = 'Like what you see? Visit the ' +\n",
              "          '<a target=\"_blank\" href=https://colab.research.google.com/notebooks/data_table.ipynb>data table notebook</a>'\n",
              "          + ' to learn more about interactive tables.';\n",
              "        element.innerHTML = '';\n",
              "        dataTable['output_type'] = 'display_data';\n",
              "        await google.colab.output.renderOutput(dataTable, element);\n",
              "        const docLink = document.createElement('div');\n",
              "        docLink.innerHTML = docLinkHtml;\n",
              "        element.appendChild(docLink);\n",
              "      }\n",
              "    </script>\n",
              "  </div>\n",
              "\n",
              "\n",
              "<div id=\"df-dd24a4a9-27b7-40e8-bcf2-c9251e9c1687\">\n",
              "  <button class=\"colab-df-quickchart\" onclick=\"quickchart('df-dd24a4a9-27b7-40e8-bcf2-c9251e9c1687')\"\n",
              "            title=\"Suggest charts.\"\n",
              "            style=\"display:none;\">\n",
              "\n",
              "<svg xmlns=\"http://www.w3.org/2000/svg\" height=\"24px\"viewBox=\"0 0 24 24\"\n",
              "     width=\"24px\">\n",
              "    <g>\n",
              "        <path d=\"M19 3H5c-1.1 0-2 .9-2 2v14c0 1.1.9 2 2 2h14c1.1 0 2-.9 2-2V5c0-1.1-.9-2-2-2zM9 17H7v-7h2v7zm4 0h-2V7h2v10zm4 0h-2v-4h2v4z\"/>\n",
              "    </g>\n",
              "</svg>\n",
              "  </button>\n",
              "\n",
              "<style>\n",
              "  .colab-df-quickchart {\n",
              "      --bg-color: #E8F0FE;\n",
              "      --fill-color: #1967D2;\n",
              "      --hover-bg-color: #E2EBFA;\n",
              "      --hover-fill-color: #174EA6;\n",
              "      --disabled-fill-color: #AAA;\n",
              "      --disabled-bg-color: #DDD;\n",
              "  }\n",
              "\n",
              "  [theme=dark] .colab-df-quickchart {\n",
              "      --bg-color: #3B4455;\n",
              "      --fill-color: #D2E3FC;\n",
              "      --hover-bg-color: #434B5C;\n",
              "      --hover-fill-color: #FFFFFF;\n",
              "      --disabled-bg-color: #3B4455;\n",
              "      --disabled-fill-color: #666;\n",
              "  }\n",
              "\n",
              "  .colab-df-quickchart {\n",
              "    background-color: var(--bg-color);\n",
              "    border: none;\n",
              "    border-radius: 50%;\n",
              "    cursor: pointer;\n",
              "    display: none;\n",
              "    fill: var(--fill-color);\n",
              "    height: 32px;\n",
              "    padding: 0;\n",
              "    width: 32px;\n",
              "  }\n",
              "\n",
              "  .colab-df-quickchart:hover {\n",
              "    background-color: var(--hover-bg-color);\n",
              "    box-shadow: 0 1px 2px rgba(60, 64, 67, 0.3), 0 1px 3px 1px rgba(60, 64, 67, 0.15);\n",
              "    fill: var(--button-hover-fill-color);\n",
              "  }\n",
              "\n",
              "  .colab-df-quickchart-complete:disabled,\n",
              "  .colab-df-quickchart-complete:disabled:hover {\n",
              "    background-color: var(--disabled-bg-color);\n",
              "    fill: var(--disabled-fill-color);\n",
              "    box-shadow: none;\n",
              "  }\n",
              "\n",
              "  .colab-df-spinner {\n",
              "    border: 2px solid var(--fill-color);\n",
              "    border-color: transparent;\n",
              "    border-bottom-color: var(--fill-color);\n",
              "    animation:\n",
              "      spin 1s steps(1) infinite;\n",
              "  }\n",
              "\n",
              "  @keyframes spin {\n",
              "    0% {\n",
              "      border-color: transparent;\n",
              "      border-bottom-color: var(--fill-color);\n",
              "      border-left-color: var(--fill-color);\n",
              "    }\n",
              "    20% {\n",
              "      border-color: transparent;\n",
              "      border-left-color: var(--fill-color);\n",
              "      border-top-color: var(--fill-color);\n",
              "    }\n",
              "    30% {\n",
              "      border-color: transparent;\n",
              "      border-left-color: var(--fill-color);\n",
              "      border-top-color: var(--fill-color);\n",
              "      border-right-color: var(--fill-color);\n",
              "    }\n",
              "    40% {\n",
              "      border-color: transparent;\n",
              "      border-right-color: var(--fill-color);\n",
              "      border-top-color: var(--fill-color);\n",
              "    }\n",
              "    60% {\n",
              "      border-color: transparent;\n",
              "      border-right-color: var(--fill-color);\n",
              "    }\n",
              "    80% {\n",
              "      border-color: transparent;\n",
              "      border-right-color: var(--fill-color);\n",
              "      border-bottom-color: var(--fill-color);\n",
              "    }\n",
              "    90% {\n",
              "      border-color: transparent;\n",
              "      border-bottom-color: var(--fill-color);\n",
              "    }\n",
              "  }\n",
              "</style>\n",
              "\n",
              "  <script>\n",
              "    async function quickchart(key) {\n",
              "      const quickchartButtonEl =\n",
              "        document.querySelector('#' + key + ' button');\n",
              "      quickchartButtonEl.disabled = true;  // To prevent multiple clicks.\n",
              "      quickchartButtonEl.classList.add('colab-df-spinner');\n",
              "      try {\n",
              "        const charts = await google.colab.kernel.invokeFunction(\n",
              "            'suggestCharts', [key], {});\n",
              "      } catch (error) {\n",
              "        console.error('Error during call to suggestCharts:', error);\n",
              "      }\n",
              "      quickchartButtonEl.classList.remove('colab-df-spinner');\n",
              "      quickchartButtonEl.classList.add('colab-df-quickchart-complete');\n",
              "    }\n",
              "    (() => {\n",
              "      let quickchartButtonEl =\n",
              "        document.querySelector('#df-dd24a4a9-27b7-40e8-bcf2-c9251e9c1687 button');\n",
              "      quickchartButtonEl.style.display =\n",
              "        google.colab.kernel.accessAllowed ? 'block' : 'none';\n",
              "    })();\n",
              "  </script>\n",
              "</div>\n",
              "    </div>\n",
              "  </div>\n"
            ]
          },
          "metadata": {},
          "execution_count": 276
        }
      ]
    },
    {
      "cell_type": "code",
      "source": [
        "# Cria as variaveis\n",
        "# tempos de falhas\n",
        "t = df['t']\n",
        "# indice do sistema\n",
        "k = df['k']\n",
        "m = k.drop_duplicates().shape[0]\n",
        "# Numero de ciclos de manutenção\n",
        "ck = df['c'].max()\n",
        "# Numero de falhas e severidade das manutenções preventivas em cada sistema\n",
        "n = []\n",
        "s = []\n",
        "for k in range(m):\n",
        "    n.append(list(df['n'][k * ck:(k + 1) * ck]))\n",
        "    s.append(list(df['s'][k * ck:(k + 1) * ck]))\n",
        "\n",
        "# Tempos das MP\n",
        "T = list(df['T'][:m])\n",
        "\n",
        "# Criação de variáveis para os parâmetros\n",
        "lamb = 5\n",
        "theta = 2\n",
        "\n",
        "# Cria alguns cenários de teste\n",
        "beta = 5\n",
        "\n",
        "solucao = [lamb, beta, theta]\n",
        "\n",
        "# Cria a instância da classe IntensidadeFalha\n",
        "intensidadeFalha = IntensidadeFalha()\n",
        "\n",
        "# Inicializa a instância com os valores necessários\n",
        "falha = intensidadeFalha.inicio(T, execute_function(fator_melhoria, ck, m, s, theta), solucao)\n",
        "\n",
        "# Cria os dados da intensidade de falha\n",
        "intensidadeFalha.create()\n",
        "\n",
        "# Plota o gráfico da intensidade de falha\n",
        "intensidadeFalha.plotar()\n",
        "\n",
        "fator = execute_function(fator_melhoria, ck, m, s, theta)\n",
        "print('Fator ajuste: ', fator[0])\n",
        "\n",
        "last_value_fator_ajuste = fator[0][-1]\n",
        "\n",
        "time_duration = 1\n",
        "time.sleep(time_duration)"
      ],
      "metadata": {
        "id": "grvISRd2_HkE",
        "outputId": "8b6c92c8-1aa3-45ef-e253-39a9db408d09",
        "colab": {
          "base_uri": "https://localhost:8080/",
          "height": 390
        }
      },
      "execution_count": 277,
      "outputs": [
        {
          "output_type": "display_data",
          "data": {
            "text/plain": [
              "<Figure size 2000x500 with 1 Axes>"
            ],
            "image/png": "[encoded data removed]"
          },
          "metadata": {}
        },
        {
          "output_type": "stream",
          "name": "stdout",
          "text": [
            "Fator ajuste:  [0.5506710358827784, 0.6321205588285577, 0.8347011117784134, 0.3296799539643607]\n"
          ]
        }
      ]
    },
    {
      "cell_type": "code",
      "source": [
        "# Função objetivo para otimização da politica de manutenção\n",
        "# Numero de ciclos determinado pela solução\n",
        "# Solução com 24 valores reais\n",
        "# Solucao a ser avaliada X = [x1, ..., x24]\n",
        "def objective_st(x):\n",
        "\n",
        "    # Dicionario para severidades\n",
        "    dict_severidades = {1: 0.25, 3: 0.50, 5: 0.75, 7: 1.0}\n",
        "\n",
        "    results = [] # Lista para armazenar os resultados das funções objetivo\n",
        "\n",
        "\n",
        "    # No PSO, como cada particula é um vetor de dimenções definidas, é\n",
        "    # Necessario interar sobre o vetor de particulas\n",
        "    for particle in x:\n",
        "        T = [0]\n",
        "        s_row = []\n",
        "        cont = 0\n",
        "\n",
        "        for number in particle:\n",
        "            modulo = int(number) % 2\n",
        "            if modulo == 1:\n",
        "                inteiro = int(number)\n",
        "                s_row.append(dict_severidades[inteiro])  # Severidade\n",
        "                frac = number - inteiro  # Tempo\n",
        "                t = (cont + frac) * 30\n",
        "                T.append(int(t))\n",
        "            cont += 1\n",
        "\n",
        "    s = []\n",
        "    for row in range(m):\n",
        "        s.append(s_row)\n",
        "\n",
        "    # A partir da solução define o número de ciclos\n",
        "    # A variável m é o número de sistemas em análise: em nosso exemplo m = 4\n",
        "    # Para novos dados esse parâmetro deve ser ajustado\n",
        "    # m = 4\n",
        "    ck = len(T) - 1\n",
        "\n",
        "    print(\"\")\n",
        "    print(\"=========================================================================\")\n",
        "    print(\"\")\n",
        "    print('Número de ciclos de manutenção:', ck, m)\n",
        "    print('Tempos para manutenções preventivas:', T)\n",
        "    print('Severidade para cada subsistema:', s[0])\n",
        "    print(\"Número de Sisemas:\", m)\n",
        "\n",
        "    if ck == 0:\n",
        "        return MAX_VALUE_CUSTO\n",
        "\n",
        "    # O modelo já está ajustado\n",
        "    # Utilizado para avaliar a solução candidata\n",
        "\n",
        "    # Cria fator de meloria a partir da solução\n",
        "    fact = execute_function(fator_melhoria, ck, m, s, theta)\n",
        "    fator = [last_value_fator_ajuste] + list(fact[0])\n",
        "\n",
        "    print('Fator: ', fator)\n",
        "\n",
        "    # Numero esperado de falhas (NEF) em cada ciclo\n",
        "    termos_somatorio = [((1/(lamb**beta)) * (T[1]**beta))]\n",
        "    numero_medio_falhas = [0, ((1/(lamb**beta)) * (T[1]**beta))]\n",
        "\n",
        "    for i in range(ck-1):\n",
        "        termo = (((T[i+2]-fator[i]*T[i+1])**beta) - (((1-fator[i])*T[i+1])**beta)) * (1/(lamb**beta))\n",
        "        termos_somatorio.append(termo)\n",
        "        numero_medio_falhas.append(sum(termos_somatorio))\n",
        "\n",
        "    # Número médio de falhas até o final do período: 2 anos\n",
        "    final = DIAS_OBSERVADOS\n",
        "    termo = (((final-fator[ck-1]*T[ck])**beta) - (((1-fator[ck-1])*T[ck])**beta)) * (1/(lamb**beta))\n",
        "    termos_somatorio.append(termo)\n",
        "    numero_medio_falhas.append(sum(termos_somatorio))\n",
        "\n",
        "    mi = numero_medio_falhas\n",
        "\n",
        "    print('Media de falhas: ', mi)\n",
        "\n",
        "    Ctotal =  []\n",
        "\n",
        "    for i in range(ck):\n",
        "        cmp = custo_mp(s[0][i], CMP)\n",
        "        Ctotal.append((cmp + (mi[i+1] - mi[i])*CMC)/(T[i+1]-T[i]))\n",
        "\n",
        "    cmp = custo_mp(s[0][ck-1], CMP)\n",
        "    Ctotal.append((cmp + (mi[ck+1] - mi[ck])*CMC)/(final-T[ck]))\n",
        "\n",
        "    # Custo Total\n",
        "    Custo = np.sum(Ctotal)\n",
        "    results.append(Custo) # Adicione o valor da função objetivo à lista de resultados\n",
        "    print('Custo = ', Custo)\n",
        "\n",
        "    # Retorne os resultados da função objetivo como um array\n",
        "    return np.array(results)"
      ],
      "metadata": {
        "id": "-JuqM09rWWBJ"
      },
      "execution_count": 278,
      "outputs": []
    },
    {
      "cell_type": "code",
      "source": [
        "num_particles = 100\n",
        "max_iterations = 100\n",
        "dimensions = 24\n",
        "options = {'c1': 0.5, 'c2': 0.3, 'w': 0.9}\n",
        "\n",
        "max_bound = np.array([7.0] * dimensions)  # Limite superior dos valores em x\n",
        "min_bound = np.array([0.0] * dimensions)   # Limite inferior dos valores em x\n",
        "bounds = (min_bound, max_bound)\n",
        "\n",
        "optimizer = GlobalBestPSO(n_particles=num_particles, dimensions=dimensions, options=options, bounds=bounds)\n",
        "\n",
        "# Inicializar current_cost e pbest_cost com valores infinitos\n",
        "optimizer.swarm.current_cost = np.full(optimizer.swarm.position.shape[0], np.inf)\n",
        "optimizer.swarm.pbest_cost = np.full(optimizer.swarm.position.shape[0], np.inf)\n",
        "best_cost, best_position = optimizer.optimize(objective_st, iters=max_iterations)\n",
        "\n",
        "pbest_cost = optimizer.swarm.pbest_cost\n",
        "\n",
        "best_positions = []  # Lista para armazenar todas as melhores posições\n",
        "\n",
        "# Loop de iterações do PSO\n",
        "for i in range(max_iterations):\n",
        "    best_cost, best_position = optimizer.optimize(objective_st, iters=1)\n",
        "    pbest_cost = optimizer.swarm.pbest_cost\n",
        "    best_positions.append(best_position)\n",
        "\n",
        "# Converter a lista de melhores posições em um array numpy para facilitar a manipulação\n",
        "best_positions = np.array(best_positions)"
      ],
      "metadata": {
        "colab": {
          "base_uri": "https://localhost:8080/"
        },
        "id": "cePW2Ji6gjmC",
        "outputId": "a8bc9765-b736-4bf2-c0c5-3f043d9772e7"
      },
      "execution_count": 279,
      "outputs": [
        {
          "output_type": "stream",
          "name": "stderr",
          "text": [
            "2023-09-30 16:48:24,187 - pyswarms.single.global_best - INFO - Optimize for 100 iters with {'c1': 0.5, 'c2': 0.3, 'w': 0.9}\n",
            "pyswarms.single.global_best:   9%|▉         |9/100, best_cost=7.39e+10"
          ]
        },
        {
          "output_type": "stream",
          "name": "stdout",
          "text": [
            "\n",
            "=========================================================================\n",
            "\n",
            "Número de ciclos de manutenção: 8 5\n",
            "Tempos para manutenções preventivas: [0, 160, 242, 347, 397, 469, 482, 528, 703]\n",
            "Severidade para cada subsistema: [0.75, 0.75, 0.25, 0.5, 0.25, 0.5, 0.5, 0.25]\n",
            "Número de Sisemas: 5\n",
            "Fator:  [0.3296799539643607, 0.7768698398515702, 0.7768698398515702, 0.3934693402873666, 0.6321205588285577, 0.3934693402873666, 0.6321205588285577, 0.6321205588285577, 0.3934693402873666]\n",
            "Media de falhas:  [0, 33554432.0, 106699425.04025982, 139068850.0866814, 148929298.91664773, 848038119.5286126, 869465203.5345128, 1605054593.5419178, 3712894688.226019, 3371885158.9599237]\n",
            "Custo =  177247780146.7899\n",
            "\n",
            "=========================================================================\n",
            "\n",
            "Número de ciclos de manutenção: 9 5\n",
            "Tempos para manutenções preventivas: [0, 21, 45, 258, 400, 474, 499, 544, 653, 677]\n",
            "Severidade para cada subsistema: [0.25, 0.5, 0.75, 0.5, 0.25, 0.5, 0.5, 0.5, 0.25]\n",
            "Número de Sisemas: 5\n",
            "Fator:  [0.3296799539643607, 0.3934693402873666, 0.6321205588285577, 0.7768698398515702, 0.6321205588285577, 0.3934693402873666, 0.6321205588285577, 0.6321205588285577, 0.6321205588285577, 0.3934693402873666]\n",
            "Media de falhas:  [0, 1306.9123200000001, 26742.28820320345, 256389724.08831635, 492757488.62814367, 528051077.0656522, 577270234.1919526, 1389830758.08495, 2190403732.1946917, 2346519842.0040927, 2088133343.2928784]\n",
            "Custo =  162308344498.33017\n",
            "\n",
            "=========================================================================\n",
            "\n",
            "Número de ciclos de manutenção: 11 5\n",
            "Tempos para manutenções preventivas: [0, 16, 73, 233, 250, 284, 403, 509, 549, 624, 656, 705]\n",
            "Severidade para cada subsistema: [0.5, 0.75, 0.75, 0.75, 0.75, 0.5, 0.5, 0.5, 0.75, 0.5, 0.5]\n",
            "Número de Sisemas: 5\n",
            "Fator:  [0.3296799539643607, 0.6321205588285577, 0.7768698398515702, 0.7768698398515702, 0.7768698398515702, 0.7768698398515702, 0.6321205588285577, 0.6321205588285577, 0.6321205588285577, 0.7768698398515702, 0.6321205588285577, 0.6321205588285577]\n",
            "Media de falhas:  [0, 335.54432, 456220.9191184193, 73343087.16494052, 73721649.75970359, 75415660.86613855, 139639921.07544133, 230134755.81662172, 350412484.8951336, 764411913.418787, 952149512.4040744, 1021739735.9103609, 674266734.3658128]\n",
            "Custo =  84209160254.99878\n",
            "\n",
            "=========================================================================\n",
            "\n",
            "Número de ciclos de manutenção: 11 5\n",
            "Tempos para manutenções preventivas: [0, 7, 55, 117, 326, 340, 360, 412, 443, 503, 553, 635]\n",
            "Severidade para cada subsistema: [0.75, 0.75, 0.75, 0.25, 0.5, 0.5, 0.5, 0.25, 0.5, 0.5, 0.5]\n",
            "Número de Sisemas: 5\n",
            "Fator:  [0.3296799539643607, 0.7768698398515702, 0.7768698398515702, 0.7768698398515702, 0.3934693402873666, 0.6321205588285577, 0.6321205588285577, 0.6321205588285577, 0.3934693402873666, 0.6321205588285577, 0.6321205588285577, 0.6321205588285577]\n",
            "Media de falhas:  [0, 5.378240000000001, 129986.6751667497, 853133.8995646834, 230713091.75297514, 231632714.87289065, 301873792.546034, 357130884.3501871, 396436683.4372897, 536004585.4768166, 1496620205.5949705, 1991435637.5646257, 1867699257.0584178]\n",
            "Custo =  152522367744.83502\n",
            "\n",
            "=========================================================================\n",
            "\n",
            "Número de ciclos de manutenção: 14 5\n",
            "Tempos para manutenções preventivas: [0, 107, 157, 231, 314, 338, 365, 426, 482, 537, 553, 576, 626, 661, 692]\n",
            "Severidade para cada subsistema: [0.75, 0.5, 0.5, 0.5, 0.5, 0.5, 0.5, 0.5, 0.75, 0.5, 0.25, 0.5, 0.75, 0.75]\n",
            "Número de Sisemas: 5\n",
            "Fator:  [0.3296799539643607, 0.7768698398515702, 0.6321205588285577, 0.6321205588285577, 0.6321205588285577, 0.6321205588285577, 0.6321205588285577, 0.6321205588285577, 0.6321205588285577, 0.7768698398515702, 0.6321205588285577, 0.3934693402873666, 0.6321205588285577, 0.7768698398515702, 0.7768698398515702]\n",
            "Media de falhas:  [0, 4488165.538240001, 12432123.000880143, 17345940.864555787, 58727351.114946514, 69059636.71379007, 84955568.01312137, 161851831.0018096, 270967973.6668292, 431426972.83089924, 477265899.3717872, 489626843.3723963, 747209860.3782287, 2146335012.6614554, 2369982166.898154, 2342200223.9806204]\n",
            "Custo =  255828058618.21368\n",
            "\n",
            "=========================================================================\n",
            "\n",
            "Número de ciclos de manutenção: 9 5\n",
            "Tempos para manutenções preventivas: [0, 256, 323, 521, 550, 576, 606, 643, 670, 696]\n",
            "Severidade para cada subsistema: [0.5, 0.5, 0.75, 0.5, 0.25, 0.5, 0.25, 0.75, 0.75]\n",
            "Número de Sisemas: 5\n",
            "Fator:  [0.3296799539643607, 0.6321205588285577, 0.6321205588285577, 0.7768698398515702, 0.6321205588285577, 0.3934693402873666, 0.6321205588285577, 0.3934693402873666, 0.7768698398515702, 0.7768698398515702]\n",
            "Media de falhas:  [0, 351843720.88832, 551695254.3842833, 1565636605.0244694, 1650292433.3363605, 1664666941.639108, 1793003206.2811017, 3114057056.3192368, 3283917392.10445, 4573174802.98723, 4544503455.715872]\n",
            "Custo =  436435348763.6038\n",
            "\n",
            "=========================================================================\n",
            "\n",
            "Número de ciclos de manutenção: 12 5\n",
            "Tempos para manutenções preventivas: [0, 8, 88, 147, 175, 244, 282, 362, 424, 506, 541, 575, 677]\n",
            "Severidade para cada subsistema: [0.75, 0.75, 0.25, 0.75, 0.5, 0.5, 0.25, 0.75, 0.25, 0.5, 0.25, 0.75]\n",
            "Número de Sisemas: 5\n",
            "Fator:  [0.3296799539643607, 0.7768698398515702, 0.7768698398515702, 0.3934693402873666, 0.7768698398515702, 0.6321205588285577, 0.6321205588285577, 0.3934693402873666, 0.7768698398515702, 0.3934693402873666, 0.6321205588285577, 0.3934693402873666, 0.7768698398515702]\n",
            "Media de falhas:  [0, 10.48576, 1450406.9009848784, 2411621.0880432976, 2665344.4630235387, 51090699.21798186, 53098047.95036251, 116270925.17377007, 193491001.07212883, 1269792553.1985056, 1286570720.2745724, 2062189036.8257327, 2896170163.2551913, 483167751.24126196]\n",
            "Custo =  315058242149.2043\n",
            "\n",
            "=========================================================================\n",
            "\n",
            "Número de ciclos de manutenção: 10 5\n",
            "Tempos para manutenções preventivas: [0, 21, 79, 144, 247, 312, 356, 487, 570, 600, 711]\n",
            "Severidade para cada subsistema: [0.5, 0.75, 0.25, 0.5, 0.25, 0.25, 0.25, 0.25, 0.5, 0.5]\n",
            "Número de Sisemas: 5\n",
            "Fator:  [0.3296799539643607, 0.6321205588285577, 0.7768698398515702, 0.3934693402873666, 0.6321205588285577, 0.3934693402873666, 0.3934693402873666, 0.3934693402873666, 0.3934693402873666, 0.6321205588285577, 0.6321205588285577]\n",
            "Media de falhas:  [0, 1306.9123200000001, 623609.5821746417, 2973282.73439733, 17380848.102130532, 139602369.0028665, 165520692.37338275, 1623476066.5349917, 3385881694.043544, 4201399881.4843736, 9890027391.274332, 9523021322.985382]\n",
            "Custo =  467034535507.1131\n",
            "\n",
            "=========================================================================\n",
            "\n",
            "Número de ciclos de manutenção: 12 5\n",
            "Tempos para manutenções preventivas: [0, 68, 106, 146, 229, 262, 281, 354, 482, 529, 609, 651, 675]\n",
            "Severidade para cada subsistema: [0.75, 0.75, 0.25, 0.75, 0.5, 0.25, 0.25, 0.25, 0.25, 0.5, 0.25, 0.5]\n",
            "Número de Sisemas: 5\n",
            "Fator:  [0.3296799539643607, 0.7768698398515702, 0.7768698398515702, 0.3934693402873666, 0.7768698398515702, 0.6321205588285577, 0.3934693402873666, 0.3934693402873666, 0.3934693402873666, 0.3934693402873666, 0.6321205588285577, 0.3934693402873666, 0.6321205588285577]\n",
            "Media de falhas:  [0, 465258.74176000006, 1707584.647086989, 2039567.697836786, 8627267.354246791, 40110744.78279093, 40784607.02564092, 91623622.60947071, 1458446745.0918534, 2215129236.583394, 4438930024.785585, 6008620177.630663, 6162926712.508014, 3820449566.5020494]\n",
            "Custo =  525698505066.6301\n",
            "\n",
            "=========================================================================\n",
            "\n",
            "Número de ciclos de manutenção: 9 5\n",
            "Tempos para manutenções preventivas: [0, 30, 61, 114, 163, 239, 353, 474, 529, 634]\n",
            "Severidade para cada subsistema: [0.25, 0.75, 0.75, 0.25, 0.75, 0.25, 0.25, 0.25, 0.5]\n",
            "Número de Sisemas: 5\n",
            "Fator:  [0.3296799539643607, 0.3934693402873666, 0.7768698398515702, 0.7768698398515702, 0.3934693402873666, 0.7768698398515702, 0.3934693402873666, 0.3934693402873666, 0.3934693402873666, 0.6321205588285577]\n",
            "Media de falhas:  [0, 7776.000000000001, 118323.18381262897, 1985534.9249965805, 2713417.0794460876, 8426370.684852362, 360609409.1303201, 461438988.59967756, 1341019233.7424874, 4734710606.546206, 3737758977.941234]\n",
            "Custo =  326748213154.13\n",
            "\n",
            "=========================================================================\n",
            "\n",
            "Número de ciclos de manutenção: 12 5\n",
            "Tempos para manutenções preventivas: [0, 14, 62, 112, 170, 233, 246, 287, 355, 412, 475, 501, 606]\n",
            "Severidade para cada subsistema: [0.5, 0.75, 0.75, 0.25, 0.75, 0.75, 0.5, 0.25, 0.5, 0.25, 0.5, 0.75]\n",
            "Número de Sisemas: 5\n",
            "Fator:  [0.3296799539643607, 0.6321205588285577, 0.7768698398515702, 0.7768698398515702, 0.3934693402873666, 0.7768698398515702, 0.7768698398515702, 0.6321205588285577, 0.3934693402873666, 0.6321205588285577, 0.3934693402873666, 0.6321205588285577, 0.7768698398515702]\n",
            "Media de falhas:  [0, 172.10368000000003, 199272.19194989774, 852025.2391625864, 2108683.8431973485, 5435500.969559071, 15405427.774479736, 17840261.54804163, 30338161.261762828, 92531493.7569309, 740364252.175575, 792542878.0838513, 3620124202.207506, 3597653857.069274]\n",
            "Custo =  180628917014.454\n",
            "\n",
            "=========================================================================\n",
            "\n",
            "Número de ciclos de manutenção: 10 5\n",
            "Tempos para manutenções preventivas: [0, 71, 97, 151, 252, 272, 364, 401, 430, 479, 533]\n",
            "Severidade para cada subsistema: [0.75, 0.75, 0.5, 0.75, 0.75, 0.75, 0.5, 0.5, 0.25, 0.5]\n",
            "Número de Sisemas: 5\n",
            "Fator:  [0.3296799539643607, 0.7768698398515702, 0.7768698398515702, 0.6321205588285577, 0.7768698398515702, 0.7768698398515702, 0.7768698398515702, 0.6321205588285577, 0.6321205588285577, 0.3934693402873666, 0.6321205588285577]\n",
            "Media de falhas:  [0, 577353.3923200001, 1189972.603146473, 1980975.3607833814, 16153394.252999993, 19781597.90410179, 46077779.368361086, 52335947.11749747, 57970256.57178503, 148445965.9735098, 301000561.66888285, 2068659757.5371091]\n",
            "Custo =  128287317432.51172\n",
            "\n",
            "=========================================================================\n",
            "\n",
            "Número de ciclos de manutenção: 9 5\n",
            "Tempos para manutenções preventivas: [0, 9, 80, 249, 297, 399, 538, 543, 648, 708]\n",
            "Severidade para cada subsistema: [0.75, 0.75, 0.75, 0.75, 0.5, 0.75, 0.5, 0.5, 0.5]\n",
            "Número de Sisemas: 5\n",
            "Fator:  [0.3296799539643607, 0.7768698398515702, 0.7768698398515702, 0.7768698398515702, 0.7768698398515702, 0.6321205588285577, 0.7768698398515702, 0.6321205588285577, 0.6321205588285577, 0.6321205588285577]\n",
            "Media de falhas:  [0, 18.895680000000002, 868038.2032433893, 73749459.06676644, 77391566.01431194, 120152265.95947644, 315650048.03575903, 328561702.3279286, 509539615.0931184, 1020094472.3216434, 662883023.1277952]\n",
            "Custo =  73870916582.92139\n",
            "\n",
            "=========================================================================\n",
            "\n",
            "Número de ciclos de manutenção: 13 5\n",
            "Tempos para manutenções preventivas: [0, 49, 89, 114, 161, 223, 241, 297, 376, 403, 546, 617, 655, 669]\n",
            "Severidade para cada subsistema: [0.25, 0.75, 0.5, 0.75, 0.5, 0.75, 0.75, 0.5, 0.5, 0.5, 0.75, 0.25, 0.5]\n",
            "Número de Sisemas: 5\n",
            "Fator:  [0.3296799539643607, 0.3934693402873666, 0.7768698398515702, 0.6321205588285577, 0.7768698398515702, 0.6321205588285577, 0.7768698398515702, 0.7768698398515702, 0.6321205588285577, 0.6321205588285577, 0.6321205588285577, 0.7768698398515702, 0.3934693402873666, 0.6321205588285577]\n",
            "Media de falhas:  [0, 90392.07968000001, 734559.5700663042, 1571370.7406935187, 2206149.2053105137, 10351580.243209682, 10711016.135426132, 29229152.963821054, 49522736.05129549, 53559847.61286041, 701327672.9710901, 1071920521.1706265, 1297172585.5983276, 1309547154.7363591, -824315469.9550228]\n",
            "Custo =  193759801735.44086\n",
            "\n",
            "=========================================================================\n",
            "\n",
            "Número de ciclos de manutenção: 8 5\n",
            "Tempos para manutenções preventivas: [0, 57, 159, 412, 536, 544, 573, 683, 698]\n",
            "Severidade para cada subsistema: [0.75, 0.75, 0.5, 0.75, 0.5, 0.25, 0.5, 0.75]\n",
            "Número de Sisemas: 5\n",
            "Fator:  [0.3296799539643607, 0.7768698398515702, 0.7768698398515702, 0.6321205588285577, 0.7768698398515702, 0.6321205588285577, 0.3934693402873666, 0.6321205588285577, 0.7768698398515702]\n",
            "Media de falhas:  [0, 192541.45824, 17505230.729889754, 656796774.8200158, 804910020.5367038, 825895631.2811576, 842075189.5228156, 1796036400.4537597, 2555923722.4035974, 2230982540.517564]\n",
            "Custo =  278891156950.1402\n",
            "\n",
            "=========================================================================\n",
            "\n",
            "Número de ciclos de manutenção: 8 5\n",
            "Tempos para manutenções preventivas: [0, 14, 37, 365, 428, 507, 522, 587, 700]\n",
            "Severidade para cada subsistema: [0.5, 0.5, 0.25, 0.5, 0.25, 0.5, 0.25, 0.75]\n",
            "Número de Sisemas: 5\n",
            "Fator:  [0.3296799539643607, 0.6321205588285577, 0.6321205588285577, 0.3934693402873666, 0.6321205588285577, 0.3934693402873666, 0.6321205588285577, 0.3934693402873666, 0.7768698398515702]\n",
            "Media de falhas:  [0, 172.10368000000003, 11546.969676583114, 1488730084.931377, 1570375775.6547258, 2617265410.837075, 2651372731.463134, 4222991118.1604376, 5305168737.908541, 2043101605.0109854]\n",
            "Custo =  350948176724.3275\n",
            "\n",
            "=========================================================================\n",
            "\n",
            "Número de ciclos de manutenção: 8 5\n",
            "Tempos para manutenções preventivas: [0, 1, 88, 157, 264, 294, 362, 528, 587]\n",
            "Severidade para cada subsistema: [0.25, 0.75, 0.5, 0.5, 0.25, 0.5, 0.25, 0.25]\n",
            "Número de Sisemas: 5\n",
            "Fator:  [0.3296799539643607, 0.3934693402873666, 0.7768698398515702, 0.6321205588285577, 0.6321205588285577, 0.3934693402873666, 0.6321205588285577, 0.3934693402873666, 0.3934693402873666]\n",
            "Media de falhas:  [0, 0.00032, 1657345.060504935, 10301022.16075041, 28779906.94737593, 36637286.3032811, 86181782.46117881, 2649565036.3355117, 2894368611.576999, 3253898529.2541213]\n",
            "Custo =  194219830993.1162\n",
            "\n",
            "=========================================================================\n"
          ]
        },
        {
          "output_type": "stream",
          "name": "stderr",
          "text": [
            "pyswarms.single.global_best:  28%|██▊       |28/100, best_cost=5.33e+10"
          ]
        },
        {
          "output_type": "stream",
          "name": "stdout",
          "text": [
            "\n",
            "Número de ciclos de manutenção: 13 5\n",
            "Tempos para manutenções preventivas: [0, 78, 112, 171, 211, 255, 280, 349, 363, 427, 576, 604, 644, 716]\n",
            "Severidade para cada subsistema: [0.75, 0.5, 0.25, 0.5, 0.5, 0.25, 0.25, 0.75, 0.75, 0.25, 0.75, 0.25, 0.5]\n",
            "Número de Sisemas: 5\n",
            "Fator:  [0.3296799539643607, 0.7768698398515702, 0.6321205588285577, 0.3934693402873666, 0.6321205588285577, 0.6321205588285577, 0.3934693402873666, 0.3934693402873666, 0.7768698398515702, 0.7768698398515702, 0.3934693402873666, 0.7768698398515702, 0.3934693402873666, 0.6321205588285577]\n",
            "Media de falhas:  [0, 923895.7977600001, 2329332.7701330017, 3663741.482441404, 7041517.950170306, 44196744.44596345, 49447309.636182144, 93916978.42334354, 145246488.29836324, 572677763.0978981, 848494832.4853444, 867336818.5875118, 2300848003.864148, 2430645601.5786753, -1467093843.8944564]\n",
            "Custo =  343879894054.89734\n",
            "\n",
            "=========================================================================\n",
            "\n",
            "Número de ciclos de manutenção: 12 5\n",
            "Tempos para manutenções preventivas: [0, 33, 71, 218, 266, 346, 365, 446, 478, 494, 524, 626, 692]\n",
            "Severidade para cada subsistema: [0.75, 0.75, 0.5, 0.5, 0.25, 0.75, 0.75, 0.25, 0.25, 0.25, 0.75, 0.5]\n",
            "Número de Sisemas: 5\n",
            "Fator:  [0.3296799539643607, 0.7768698398515702, 0.7768698398515702, 0.6321205588285577, 0.6321205588285577, 0.3934693402873666, 0.7768698398515702, 0.7768698398515702, 0.3934693402873666, 0.3934693402873666, 0.3934693402873666, 0.7768698398515702, 0.6321205588285577]\n",
            "Media de falhas:  [0, 12523.325760000002, 262170.5084376802, 36904371.33295315, 39514894.64048107, 93593286.9415678, 104338508.67859134, 743157901.9713355, 752625111.3169168, 757092364.8515837, 1229580301.075908, 4365152231.068933, 7467384335.751675, 7439602392.834141]\n",
            "Custo =  415239305835.20306\n",
            "\n",
            "=========================================================================\n",
            "\n",
            "Número de ciclos de manutenção: 11 5\n",
            "Tempos para manutenções preventivas: [0, 33, 66, 97, 158, 232, 348, 407, 448, 478, 655, 673]\n",
            "Severidade para cada subsistema: [0.5, 0.75, 0.75, 0.5, 0.5, 0.25, 0.5, 0.75, 0.25, 0.5, 0.5]\n",
            "Número de Sisemas: 5\n",
            "Fator:  [0.3296799539643607, 0.6321205588285577, 0.7768698398515702, 0.7768698398515702, 0.6321205588285577, 0.6321205588285577, 0.3934693402873666, 0.6321205588285577, 0.7768698398515702, 0.3934693402873666, 0.6321205588285577, 0.6321205588285577]\n",
            "Media de falhas:  [0, 12523.325760000002, 173652.37458155944, 336145.2438465122, 1568289.0916411206, 6532222.111845638, 110980850.52457415, 173193610.1060537, 512315839.04671043, 563190742.006883, 1146414428.9847894, 1931848932.7212288, 1686065603.9591088]\n",
            "Custo =  249267817998.41788\n",
            "\n",
            "=========================================================================\n",
            "\n",
            "Número de ciclos de manutenção: 13 5\n",
            "Tempos para manutenções preventivas: [0, 5, 68, 108, 244, 271, 302, 358, 376, 402, 448, 479, 515, 632]\n",
            "Severidade para cada subsistema: [0.25, 0.75, 0.75, 0.75, 0.75, 0.5, 0.25, 0.5, 0.5, 0.75, 0.25, 0.75, 0.25]\n",
            "Número de Sisemas: 5\n",
            "Fator:  [0.3296799539643607, 0.3934693402873666, 0.7768698398515702, 0.7768698398515702, 0.7768698398515702, 0.7768698398515702, 0.6321205588285577, 0.3934693402873666, 0.6321205588285577, 0.6321205588285577, 0.7768698398515702, 0.3934693402873666, 0.7768698398515702, 0.3934693402873666]\n",
            "Media de falhas:  [0, 1.0, 411536.06227245595, 1506029.2158344896, 35160807.32946382, 36154408.716737375, 37944527.14395801, 46650892.490545504, 58030312.67569971, 199310518.49019915, 264353869.1204692, 317556989.33323824, 332148557.9385237, 4050103046.0942383, 4037185349.2338214]\n",
            "Custo =  169256086034.74072\n",
            "\n",
            "=========================================================================\n",
            "\n",
            "Número de ciclos de manutenção: 9 5\n",
            "Tempos para manutenções preventivas: [0, 78, 97, 254, 282, 320, 397, 436, 647, 700]\n",
            "Severidade para cada subsistema: [0.75, 0.75, 0.75, 0.75, 0.75, 0.5, 0.75, 0.75, 0.5]\n",
            "Número de Sisemas: 5\n",
            "Fator:  [0.3296799539643607, 0.7768698398515702, 0.7768698398515702, 0.7768698398515702, 0.7768698398515702, 0.7768698398515702, 0.6321205588285577, 0.7768698398515702, 0.7768698398515702, 0.6321205588285577]\n",
            "Media de falhas:  [0, 923895.7977600001, 1387893.1152832354, 59608437.446301945, 60814246.31548817, 63848992.55517853, 86287758.7707318, 95359404.00341761, 2322556074.8742576, 2398320323.0774064, 2368753380.1981525]\n",
            "Custo =  53338643693.20981\n",
            "\n",
            "=========================================================================\n",
            "\n",
            "Número de ciclos de manutenção: 8 5\n",
            "Tempos para manutenções preventivas: [0, 89, 239, 249, 300, 398, 426, 482, 653]\n",
            "Severidade para cada subsistema: [0.75, 0.5, 0.75, 0.25, 0.5, 0.75, 0.5, 0.25]\n",
            "Número de Sisemas: 5\n",
            "Fator:  [0.3296799539643607, 0.7768698398515702, 0.6321205588285577, 0.7768698398515702, 0.3934693402873666, 0.6321205588285577, 0.7768698398515702, 0.6321205588285577, 0.3934693402873666]\n",
            "Media de falhas:  [0, 1786899.02368, 131177057.69849437, 131364977.41007638, 148171400.61385316, 186804484.3883248, 378564949.7001715, 487681092.3651911, 1019683178.4339323, 837297134.7799097]\n",
            "Custo =  67898735547.524574\n",
            "\n",
            "=========================================================================\n",
            "\n",
            "Número de ciclos de manutenção: 8 5\n",
            "Tempos para manutenções preventivas: [0, 177, 225, 387, 410, 425, 485, 581, 655]\n",
            "Severidade para cada subsistema: [0.5, 0.5, 0.5, 0.5, 0.75, 0.5, 0.25, 0.75]\n",
            "Número de Sisemas: 5\n",
            "Fator:  [0.3296799539643607, 0.6321205588285577, 0.6321205588285577, 0.6321205588285577, 0.6321205588285577, 0.7768698398515702, 0.6321205588285577, 0.3934693402873666, 0.7768698398515702]\n",
            "Media de falhas:  [0, 55592513.49024001, 89196440.02168486, 369121438.9948931, 389979975.58589166, 405130072.3650585, 526911255.6221494, 635825337.6913084, 1124235805.5025802, -539273325.4196179]\n",
            "Custo =  178675862473.85837\n",
            "\n",
            "=========================================================================\n",
            "\n",
            "Número de ciclos de manutenção: 14 5\n",
            "Tempos para manutenções preventivas: [0, 52, 112, 146, 212, 281, 320, 363, 431, 483, 521, 589, 659, 673, 696]\n",
            "Severidade para cada subsistema: [0.25, 0.5, 0.25, 0.5, 0.5, 0.25, 0.75, 0.75, 0.5, 0.25, 0.25, 0.25, 0.5, 0.75]\n",
            "Número de Sisemas: 5\n",
            "Fator:  [0.3296799539643607, 0.3934693402873666, 0.6321205588285577, 0.3934693402873666, 0.6321205588285577, 0.6321205588285577, 0.3934693402873666, 0.7768698398515702, 0.7768698398515702, 0.6321205588285577, 0.3934693402873666, 0.3934693402873666, 0.3934693402873666, 0.6321205588285577, 0.7768698398515702]\n",
            "Media de falhas:  [0, 121665.29024000002, 2562672.476942508, 5620954.288241532, 13344923.231702564, 98460356.31165566, 113402791.46364008, 140485725.34270746, 610843218.7125182, 631063699.9333745, 647474219.5647417, 942467827.9014623, 3635993764.978141, 4249215828.5541434, 5392713425.257455, 5074167298.867381]\n",
            "Custo =  599553611696.7135\n",
            "\n",
            "=========================================================================\n",
            "\n",
            "Número de ciclos de manutenção: 12 5\n",
            "Tempos para manutenções preventivas: [0, 8, 51, 86, 103, 141, 271, 350, 449, 529, 594, 619, 653]\n",
            "Severidade para cada subsistema: [0.25, 0.25, 0.75, 0.5, 0.25, 0.5, 0.25, 0.75, 0.75, 0.25, 0.75, 0.75]\n",
            "Número de Sisemas: 5\n",
            "Fator:  [0.3296799539643607, 0.3934693402873666, 0.3934693402873666, 0.7768698398515702, 0.6321205588285577, 0.3934693402873666, 0.6321205588285577, 0.3934693402873666, 0.7768698398515702, 0.7768698398515702, 0.3934693402873666, 0.7768698398515702, 0.7768698398515702]\n",
            "Media de falhas:  [0, 10.48576, 84672.6025749713, 474328.1381222446, 857139.8386791872, 1124969.3603810729, 64679558.32249627, 299487588.9097155, 484280606.76538795, 1742387608.327623, 1800795826.4934435, 1818760186.776729, 3113940066.9681044, 3095117136.6909847]\n",
            "Custo =  244650306919.2265\n",
            "\n",
            "=========================================================================\n",
            "\n",
            "Número de ciclos de manutenção: 12 5\n",
            "Tempos para manutenções preventivas: [0, 25, 55, 78, 101, 139, 211, 307, 346, 419, 537, 592, 605]\n",
            "Severidade para cada subsistema: [0.25, 0.25, 0.75, 0.5, 0.25, 0.5, 0.5, 0.25, 0.5, 0.25, 0.25, 0.75]\n",
            "Número de Sisemas: 5\n",
            "Fator:  [0.3296799539643607, 0.3934693402873666, 0.3934693402873666, 0.7768698398515702, 0.6321205588285577, 0.3934693402873666, 0.6321205588285577, 0.6321205588285577, 0.3934693402873666, 0.6321205588285577, 0.3934693402873666, 0.3934693402873666, 0.7768698398515702]\n",
            "Media de falhas:  [0, 3125.0000000000005, 74222.43280233358, 242961.5648516433, 716938.6928490273, 975228.5394840079, 9921964.25103691, 179311368.00608483, 199343188.11015925, 291786204.9498818, 2236376695.2629595, 2468867990.863673, 2840575868.0106616, 2699423660.257064]\n",
            "Custo =  324943993888.60376\n",
            "\n",
            "=========================================================================\n",
            "\n",
            "Número de ciclos de manutenção: 12 5\n",
            "Tempos para manutenções preventivas: [0, 14, 44, 72, 111, 144, 154, 222, 346, 365, 407, 578, 709]\n",
            "Severidade para cada subsistema: [0.25, 0.25, 0.75, 0.5, 0.25, 0.25, 0.5, 0.25, 0.75, 0.5, 0.25, 0.5]\n",
            "Número de Sisemas: 5\n",
            "Fator:  [0.3296799539643607, 0.3934693402873666, 0.3934693402873666, 0.7768698398515702, 0.6321205588285577, 0.3934693402873666, 0.3934693402873666, 0.6321205588285577, 0.3934693402873666, 0.7768698398515702, 0.6321205588285577, 0.3934693402873666, 0.6321205588285577]\n",
            "Media de falhas:  [0, 172.10368000000003, 30472.051246073686, 182665.3884263299, 1367489.5059098906, 1570364.2862519054, 1753802.5964908816, 34533181.13847243, 390803355.14393955, 401548576.8809631, 636977161.7647725, 1028654072.4938003, 2422876752.009505, -1191909686.768918]\n",
            "Custo =  222736457657.6957\n",
            "\n",
            "=========================================================================\n",
            "\n",
            "Número de ciclos de manutenção: 8 5\n",
            "Tempos para manutenções preventivas: [0, 43, 68, 239, 298, 347, 398, 479, 654]\n",
            "Severidade para cada subsistema: [0.25, 0.75, 0.5, 0.25, 0.25, 0.5, 0.25, 0.5]\n",
            "Número de Sisemas: 5\n",
            "Fator:  [0.3296799539643607, 0.3934693402873666, 0.7768698398515702, 0.6321205588285577, 0.3934693402873666, 0.3934693402873666, 0.6321205588285577, 0.3934693402873666, 0.6321205588285577]\n",
            "Media de falhas:  [0, 47042.70176, 185226.87284751772, 137972021.73692232, 143556589.635971, 170629818.75114614, 429527109.3068974, 1281810364.7293658, 2937498080.292569, 1306749778.3990288]\n",
            "Custo =  226872436418.15637\n",
            "\n",
            "=========================================================================\n",
            "\n",
            "Número de ciclos de manutenção: 7 5\n",
            "Tempos para manutenções preventivas: [0, 68, 105, 299, 349, 394, 441, 678]\n",
            "Severidade para cada subsistema: [0.75, 0.75, 0.25, 0.25, 0.5, 0.75, 0.5]\n",
            "Número de Sisemas: 5\n",
            "Fator:  [0.3296799539643607, 0.7768698398515702, 0.7768698398515702, 0.3934693402873666, 0.3934693402873666, 0.6321205588285577, 0.7768698398515702, 0.6321205588285577]\n",
            "Media de falhas:  [0, 465258.74176000006, 1631346.161982396, 157130376.19255632, 163638490.40270865, 384173845.8447956, 746809017.5356207, 3956423267.8283453, 3931743044.138157]\n",
            "Custo =  109782314884.19083\n",
            "\n",
            "=========================================================================\n",
            "\n",
            "Número de ciclos de manutenção: 9 5\n",
            "Tempos para manutenções preventivas: [0, 4, 32, 70, 116, 162, 354, 401, 430, 666]\n",
            "Severidade para cada subsistema: [0.5, 0.5, 0.75, 0.75, 0.75, 0.25, 0.5, 0.75, 0.5]\n",
            "Número de Sisemas: 5\n",
            "Fator:  [0.3296799539643607, 0.6321205588285577, 0.6321205588285577, 0.7768698398515702, 0.7768698398515702, 0.7768698398515702, 0.3934693402873666, 0.6321205588285577, 0.7768698398515702, 0.6321205588285577]\n",
            "Media de falhas:  [0, 0.32768, 8700.245456174029, 106369.99173571033, 711310.8434573874, 1321756.902871401, 199101244.59545028, 208275072.11446303, 414264092.12812626, 3428131837.615614, 3406171969.7219324]\n",
            "Custo =  85844053603.05928\n",
            "\n",
            "=========================================================================\n",
            "\n",
            "Número de ciclos de manutenção: 15 5\n",
            "Tempos para manutenções preventivas: [0, 7, 49, 76, 117, 161, 228, 297, 318, 358, 384, 407, 425, 657, 665, 698]\n",
            "Severidade para cada subsistema: [0.75, 0.5, 0.75, 0.75, 0.75, 0.5, 0.5, 0.25, 0.25, 0.5, 0.5, 0.75, 0.25, 0.5, 0.5]\n",
            "Número de Sisemas: 5\n",
            "Fator:  [0.3296799539643607, 0.7768698398515702, 0.6321205588285577, 0.7768698398515702, 0.7768698398515702, 0.7768698398515702, 0.6321205588285577, 0.6321205588285577, 0.3934693402873666, 0.3934693402873666, 0.6321205588285577, 0.6321205588285577, 0.7768698398515702, 0.3934693402873666, 0.6321205588285577, 0.6321205588285577]\n",
            "Media de falhas:  [0, 5.378240000000001, 71023.48459492234, 96107.25590476378, 589639.2567433108, 1127676.1966738268, 4804533.612759577, 12616287.186982984, 19634399.029389407, 43133405.25395412, 160571804.38518777, 292466417.50504446, 310864792.46008676, 3107537258.966393, 3114130243.4035816, 4759717148.204744, 4434775966.31871]\n",
            "Custo =  313803737528.23096\n",
            "\n",
            "=========================================================================\n",
            "\n",
            "Número de ciclos de manutenção: 9 5\n",
            "Tempos para manutenções preventivas: [0, 8, 82, 109, 277, 384, 412, 437, 651, 670]\n",
            "Severidade para cada subsistema: [0.75, 0.75, 0.75, 0.75, 0.5, 0.5, 0.75, 0.5, 0.5]\n",
            "Número de Sisemas: 5\n",
            "Fator:  [0.3296799539643607, 0.7768698398515702, 0.7768698398515702, 0.7768698398515702, 0.7768698398515702, 0.6321205588285577, 0.6321205588285577, 0.7768698398515702, 0.6321205588285577, 0.6321205588285577]\n",
            "Media de falhas:  [0, 10.48576, 1007470.2694284695, 1067835.41544888, 85259983.54454426, 128834819.43743071, 133432946.79945153, 162752247.4654297, 2493957233.4420714, 2511526153.5480247, 2275199350.8199973]\n",
            "Custo =  69821946471.79181\n",
            "\n",
            "=========================================================================\n",
            "\n",
            "Número de ciclos de manutenção: 10 5\n",
            "Tempos para manutenções preventivas: [0, 47, 88, 260, 293, 415, 448, 480, 530, 576, 674]\n",
            "Severidade para cada subsistema: [0.5, 0.75, 0.5, 0.75, 0.5, 0.75, 0.5, 0.5, 0.25, 0.5]\n",
            "Número de Sisemas: 5\n",
            "Fator:  [0.3296799539643607, 0.6321205588285577, 0.7768698398515702, 0.6321205588285577, 0.7768698398515702, 0.6321205588285577, 0.7768698398515702, 0.6321205588285577, 0.6321205588285577, 0.3934693402873666, 0.6321205588285577]\n",
            "Media de falhas:  [0, 73390.40224000001, 704654.4177811303, 114789620.38335809, 116577757.5059122, 316940248.96267796, 324763496.35722846, 380342883.4662025, 406457411.7886761, 576316334.4300327, 1354244449.167273, -953157260.1403513]\n",
            "Custo =  190738762606.17172\n",
            "\n",
            "=========================================================================\n",
            "\n",
            "Número de ciclos de manutenção: 10 5\n",
            "Tempos para manutenções preventivas: [0, 87, 110, 147, 156, 265, 480, 519, 593, 671, 700]\n",
            "Severidade para cada subsistema: [0.75, 0.5, 0.25, 0.25, 0.5, 0.5, 0.75, 0.25, 0.5, 0.75]\n",
            "Número de Sisemas: 5\n",
            "Fator:  [0.3296799539643607, 0.7768698398515702, 0.6321205588285577, 0.3934693402873666, 0.3934693402873666, 0.6321205588285577, 0.6321205588285577, 0.7768698398515702, 0.3934693402873666, 0.6321205588285577, 0.7768698398515702]\n",
            "Media de falhas:  [0, 1594946.9462400002, 2516929.264786184, 2796625.273930349, 2968181.988158798, 112546818.82952486, 2474473799.989599, 2568543861.901066, 2904990610.781781, 3023690470.457535, 4491471644.261336, 4160117696.4135914]\n",
            "Custo =  297932651869.7126\n",
            "\n",
            "=========================================================================\n",
            "\n",
            "Número de ciclos de manutenção: 13 5\n",
            "Tempos para manutenções preventivas: [0, 37, 83, 103, 143, 226, 271, 362, 416, 530, 620, 651, 665, 706]\n",
            "Severidade para cada subsistema: [0.25, 0.75, 0.5, 0.25, 0.5, 0.5, 0.75, 0.5, 0.75, 0.25, 0.5, 0.5, 0.75]\n",
            "Número de Sisemas: 5\n",
            "Fator:  [0.3296799539643607, 0.3934693402873666, 0.7768698398515702, 0.6321205588285577, 0.3934693402873666, 0.6321205588285577, 0.6321205588285577, 0.7768698398515702, 0.6321205588285577, 0.7768698398515702, 0.3934693402873666, 0.6321205588285577, 0.6321205588285577, 0.7768698398515702]\n",
            "Media de falhas:  [0, 22190.06624, 588528.3504021758, 1036153.8174080616, 1351238.5547129812, 15896583.259187987, 64444285.1426678, 141988409.79694885, 202096891.66727042, 320989396.77751786, 832260317.8363357, 860607141.9267008, 1445092594.2033365, 1773164047.068721, 1422450841.000606]\n",
            "Custo =  255839774506.36163\n",
            "\n",
            "=========================================================================\n",
            "\n",
            "Número de ciclos de manutenção: 10 5\n",
            "Tempos para manutenções preventivas: [0, 78, 117, 142, 296, 324, 372, 418, 512, 588, 666]\n",
            "Severidade para cada subsistema: [0.75, 0.5, 0.25, 0.25, 0.75, 0.75, 0.5, 0.75, 0.25, 0.5]\n",
            "Número de Sisemas: 5\n",
            "Fator:  [0.3296799539643607, 0.7768698398515702, 0.6321205588285577, 0.3934693402873666, 0.3934693402873666, 0.7768698398515702, 0.7768698398515702, 0.6321205588285577, 0.7768698398515702, 0.3934693402873666, 0.6321205588285577]\n",
            "Media de falhas:  [0, 923895.7977600001, 2827225.582299154, 2934907.9687520587, 122209973.09225614, 185717150.5580539, 371626684.0216594, 381799190.25943214, 453241536.8316492, 790504171.166242, 906286359.6683992, -1124892994.7822514]\n",
            "Custo =  178637449474.4006\n"
          ]
        },
        {
          "output_type": "stream",
          "name": "stderr",
          "text": [
            "pyswarms.single.global_best:  50%|█████     |50/100, best_cost=5.33e+10"
          ]
        },
        {
          "output_type": "stream",
          "name": "stdout",
          "text": [
            "\n",
            "=========================================================================\n",
            "\n",
            "Número de ciclos de manutenção: 12 5\n",
            "Tempos para manutenções preventivas: [0, 5, 38, 74, 146, 295, 377, 415, 528, 573, 637, 669, 719]\n",
            "Severidade para cada subsistema: [0.5, 0.25, 0.75, 0.25, 0.25, 0.75, 0.5, 0.5, 0.25, 0.5, 0.5, 0.5]\n",
            "Número de Sisemas: 5\n",
            "Fator:  [0.3296799539643607, 0.6321205588285577, 0.3934693402873666, 0.7768698398515702, 0.3934693402873666, 0.3934693402873666, 0.7768698398515702, 0.6321205588285577, 0.6321205588285577, 0.3934693402873666, 0.6321205588285577, 0.6321205588285577, 0.6321205588285577]\n",
            "Media de falhas:  [0, 1.0, 20313.564296998287, 119937.0789513355, 7042554.899236965, 70192570.66718917, 398535037.3133218, 629968819.0083323, 745348996.6113486, 907665425.6207936, 1275892407.2389708, 2622065252.4794173, 3061617656.04088, 2668181945.581585]\n",
            "Custo =  300658677871.2585\n",
            "\n",
            "=========================================================================\n",
            "\n",
            "Número de ciclos de manutenção: 10 5\n",
            "Tempos para manutenções preventivas: [0, 72, 168, 305, 381, 410, 446, 530, 622, 672, 695]\n",
            "Severidade para cada subsistema: [0.75, 0.75, 0.75, 0.75, 0.5, 0.75, 0.25, 0.5, 0.5, 0.5]\n",
            "Número de Sisemas: 5\n",
            "Fator:  [0.3296799539643607, 0.7768698398515702, 0.7768698398515702, 0.7768698398515702, 0.7768698398515702, 0.6321205588285577, 0.7768698398515702, 0.3934693402873666, 0.6321205588285577, 0.6321205588285577, 0.6321205588285577]\n",
            "Media de falhas:  [0, 619173.6422400001, 20530562.597106203, 72261750.8462055, 91645834.18785164, 96389655.1933763, 105114158.5799838, 367712352.52598, 491809940.4095932, 2602719334.7067633, 2768238124.861233, 2452883349.515256]\n",
            "Custo =  233855312101.03928\n",
            "\n",
            "=========================================================================\n",
            "\n",
            "Número de ciclos de manutenção: 10 5\n",
            "Tempos para manutenções preventivas: [0, 26, 44, 75, 323, 359, 411, 434, 514, 627, 671]\n",
            "Severidade para cada subsistema: [0.5, 0.5, 0.75, 0.5, 0.25, 0.5, 0.75, 0.25, 0.75, 0.5]\n",
            "Número de Sisemas: 5\n",
            "Fator:  [0.3296799539643607, 0.6321205588285577, 0.6321205588285577, 0.7768698398515702, 0.6321205588285577, 0.3934693402873666, 0.6321205588285577, 0.7768698398515702, 0.3934693402873666, 0.7768698398515702, 0.6321205588285577]\n",
            "Media de falhas:  [0, 3802.0403200000005, 21148.369812247412, 95652.43771880417, 508805838.0136198, 512900938.11470115, 567659708.2545743, 738526782.705448, 958330200.5503736, 1147801459.7382379, 3002787443.353737, 2979680479.3060737]\n",
            "Custo =  230236303178.86823\n",
            "\n",
            "=========================================================================\n",
            "\n",
            "Número de ciclos de manutenção: 9 5\n",
            "Tempos para manutenções preventivas: [0, 48, 79, 218, 272, 357, 410, 433, 538, 670]\n",
            "Severidade para cada subsistema: [0.5, 0.75, 0.5, 0.5, 0.25, 0.5, 0.75, 0.25, 0.5]\n",
            "Número de Sisemas: 5\n",
            "Fator:  [0.3296799539643607, 0.6321205588285577, 0.7768698398515702, 0.6321205588285577, 0.6321205588285577, 0.3934693402873666, 0.6321205588285577, 0.7768698398515702, 0.3934693402873666, 0.6321205588285577]\n",
            "Media de falhas:  [0, 81537.26976000001, 392526.72723942687, 43290482.94234342, 46849062.75704871, 113101436.62654865, 168701109.6164496, 337987175.70951176, 717806029.2000904, 1035314568.3007591, -1133013604.9040687]\n",
            "Custo =  186295238752.6029\n",
            "\n",
            "=========================================================================\n",
            "\n",
            "Número de ciclos de manutenção: 12 5\n",
            "Tempos para manutenções preventivas: [0, 12, 83, 242, 284, 359, 385, 409, 432, 527, 613, 670, 695]\n",
            "Severidade para cada subsistema: [0.5, 0.75, 0.75, 0.5, 0.25, 0.5, 0.5, 0.75, 0.25, 0.5, 0.5, 0.5]\n",
            "Número de Sisemas: 5\n",
            "Fator:  [0.3296799539643607, 0.6321205588285577, 0.7768698398515702, 0.7768698398515702, 0.6321205588285577, 0.3934693402873666, 0.6321205588285577, 0.6321205588285577, 0.7768698398515702, 0.3934693402873666, 0.6321205588285577, 0.6321205588285577, 0.6321205588285577]\n",
            "Media de falhas:  [0, 79.62624000000001, 987462.0806502082, 79247205.0286598, 81709158.98932017, 97613101.6660997, 116333439.41937149, 256520845.42782295, 282098873.8692791, 587464245.8147621, 692195044.2619911, 3057756876.1182904, 3238532129.32925, 2923177353.9832726]\n",
            "Custo =  259735273237.64728\n",
            "\n",
            "=========================================================================\n",
            "\n",
            "Número de ciclos de manutenção: 9 5\n",
            "Tempos para manutenções preventivas: [0, 13, 56, 84, 367, 413, 441, 512, 644, 675]\n",
            "Severidade para cada subsistema: [0.5, 0.25, 0.75, 0.5, 0.5, 0.75, 0.25, 0.25, 0.5]\n",
            "Número de Sisemas: 5\n",
            "Fator:  [0.3296799539643607, 0.6321205588285577, 0.3934693402873666, 0.7768698398515702, 0.6321205588285577, 0.6321205588285577, 0.7768698398515702, 0.3934693402873666, 0.3934693402873666, 0.6321205588285577]\n",
            "Media de falhas:  [0, 118.81376000000002, 118460.66850324004, 204046.7123534762, 1329164496.9988558, 1338933579.8975594, 1373381694.959342, 1558277472.430474, 1841762165.8602343, 3194774857.692733, 852297711.6867685]\n",
            "Custo =  343099317211.81433\n",
            "\n",
            "=========================================================================\n",
            "\n",
            "Número de ciclos de manutenção: 9 5\n",
            "Tempos para manutenções preventivas: [0, 50, 83, 158, 357, 371, 448, 581, 623, 678]\n",
            "Severidade para cada subsistema: [0.25, 0.75, 0.25, 0.25, 0.5, 0.75, 0.25, 0.25, 0.5]\n",
            "Número de Sisemas: 5\n",
            "Fator:  [0.3296799539643607, 0.3934693402873666, 0.7768698398515702, 0.3934693402873666, 0.3934693402873666, 0.6321205588285577, 0.7768698398515702, 0.3934693402873666, 0.3934693402873666, 0.6321205588285577]\n",
            "Media de falhas:  [0, 100000.00000000001, 503125.38482020685, 10299627.27100133, 236012727.14417678, 292046977.3493951, 911597432.0281165, 1622315696.6506777, 1658266343.3404305, 4056348468.8784657, 1607894526.1628408]\n",
            "Custo =  378077086391.7244\n",
            "\n",
            "=========================================================================\n",
            "\n",
            "Número de ciclos de manutenção: 9 5\n",
            "Tempos para manutenções preventivas: [0, 49, 80, 308, 356, 419, 449, 592, 658, 682]\n",
            "Severidade para cada subsistema: [0.25, 0.75, 0.5, 0.25, 0.5, 0.75, 0.25, 0.5, 0.5]\n",
            "Número de Sisemas: 5\n",
            "Fator:  [0.3296799539643607, 0.3934693402873666, 0.7768698398515702, 0.6321205588285577, 0.3934693402873666, 0.6321205588285577, 0.7768698398515702, 0.3934693402873666, 0.6321205588285577, 0.6321205588285577]\n",
            "Media de falhas:  [0, 90392.07968000001, 417633.7187422931, 517702440.89331025, 524145376.5949353, 599671639.12208, 853080150.1397289, 1703256436.5371633, 1787997715.288452, 2886620795.8273954, 2612470847.7722645]\n",
            "Custo =  273638812799.27084\n",
            "\n",
            "=========================================================================\n",
            "\n",
            "Número de ciclos de manutenção: 10 5\n",
            "Tempos para manutenções preventivas: [0, 31, 77, 148, 309, 357, 363, 419, 598, 645, 682]\n",
            "Severidade para cada subsistema: [0.25, 0.75, 0.25, 0.5, 0.25, 0.75, 0.5, 0.25, 0.25, 0.5]\n",
            "Número de Sisemas: 5\n",
            "Fator:  [0.3296799539643607, 0.3934693402873666, 0.7768698398515702, 0.3934693402873666, 0.6321205588285577, 0.3934693402873666, 0.7768698398515702, 0.6321205588285577, 0.3934693402873666, 0.3934693402873666, 0.6321205588285577]\n",
            "Media de falhas:  [0, 9161.32832, 432912.24625788664, 7590926.572165969, 95565459.60138586, 252961667.0243319, 256090876.13579428, 604622077.4146907, 1083081745.800087, 1352346507.1082253, 3027309799.505371, 435770481.136683]\n",
            "Custo =  383826230416.606\n",
            "\n",
            "=========================================================================\n",
            "\n",
            "Número de ciclos de manutenção: 14 5\n",
            "Tempos para manutenções preventivas: [0, 48, 76, 158, 239, 258, 292, 323, 359, 382, 417, 518, 592, 681, 707]\n",
            "Severidade para cada subsistema: [0.25, 0.75, 0.75, 0.5, 0.5, 0.5, 0.5, 0.25, 0.75, 0.5, 0.5, 0.25, 0.5, 0.5]\n",
            "Número de Sisemas: 5\n",
            "Fator:  [0.3296799539643607, 0.3934693402873666, 0.7768698398515702, 0.7768698398515702, 0.6321205588285577, 0.6321205588285577, 0.6321205588285577, 0.6321205588285577, 0.3934693402873666, 0.7768698398515702, 0.6321205588285577, 0.6321205588285577, 0.3934693402873666, 0.6321205588285577, 0.6321205588285577]\n",
            "Media de falhas:  [0, 81537.26976000001, 322992.028974702, 11292942.955520213, 18070681.6418645, 18566076.053983252, 27494142.548393145, 39178381.48240057, 60065969.440685585, 75901339.51589628, 293977432.5862217, 379782830.5791936, 714117156.3212616, 1426935656.177846, 2800132961.0219254, 2446173665.304494]\n",
            "Custo =  311571606525.28094\n",
            "\n",
            "=========================================================================\n",
            "\n",
            "Número de ciclos de manutenção: 10 5\n",
            "Tempos para manutenções preventivas: [0, 55, 77, 111, 287, 412, 516, 573, 633, 679, 691]\n",
            "Severidade para cada subsistema: [0.25, 0.75, 0.5, 0.5, 0.5, 0.75, 0.25, 0.25, 0.5, 0.5]\n",
            "Número de Sisemas: 5\n",
            "Fator:  [0.3296799539643607, 0.3934693402873666, 0.7768698398515702, 0.6321205588285577, 0.6321205588285577, 0.6321205588285577, 0.7768698398515702, 0.3934693402873666, 0.3934693402873666, 0.6321205588285577, 0.6321205588285577]\n",
            "Media de falhas:  [0, 161051.0, 365475.49483338, 1389831.0742703034, 105766650.8042564, 310147580.82190734, 633425720.5275272, 847711756.9435196, 911638961.8289535, 2942780197.9681582, 3528239524.382591, 3225613354.6412735]\n",
            "Custo =  425891324767.8651\n",
            "\n",
            "=========================================================================\n",
            "\n",
            "Número de ciclos de manutenção: 5 5\n",
            "Tempos para manutenções preventivas: [0, 78, 222, 273, 413, 669]\n",
            "Severidade para cada subsistema: [0.75, 0.75, 0.5, 0.5, 0.5]\n",
            "Número de Sisemas: 5\n",
            "Fator:  [0.3296799539643607, 0.7768698398515702, 0.7768698398515702, 0.6321205588285577, 0.6321205588285577, 0.6321205588285577]\n",
            "Media de falhas:  [0, 923895.7977600001, 94035182.95213638, 97226252.03020547, 201720584.85565853, 3790748934.4809246, 3557576201.7405505]\n",
            "Custo =  75465464342.72858\n",
            "\n",
            "=========================================================================\n",
            "\n",
            "Número de ciclos de manutenção: 8 5\n",
            "Tempos para manutenções preventivas: [0, 79, 227, 319, 358, 371, 409, 444, 606]\n",
            "Severidade para cada subsistema: [0.75, 0.75, 0.5, 0.25, 0.75, 0.5, 0.75, 0.5]\n",
            "Número de Sisemas: 5\n",
            "Fator:  [0.3296799539643607, 0.7768698398515702, 0.7768698398515702, 0.6321205588285577, 0.3934693402873666, 0.7768698398515702, 0.6321205588285577, 0.7768698398515702, 0.6321205588285577]\n",
            "Media de falhas:  [0, 984658.0476800001, 105720398.74496272, 124516131.61223239, 129127070.78967282, 136748276.05300552, 354952410.2119788, 363194721.8314866, 1492335640.8535976, 1489398898.907075]\n",
            "Custo =  60264347059.89813\n",
            "\n",
            "=========================================================================\n",
            "\n",
            "Número de ciclos de manutenção: 9 5\n",
            "Tempos para manutenções preventivas: [0, 81, 298, 354, 383, 407, 439, 512, 607, 695]\n",
            "Severidade para cada subsistema: [0.75, 0.25, 0.25, 0.5, 0.5, 0.75, 0.75, 0.25, 0.5]\n",
            "Número de Sisemas: 5\n",
            "Fator:  [0.3296799539643607, 0.7768698398515702, 0.3934693402873666, 0.3934693402873666, 0.6321205588285577, 0.6321205588285577, 0.7768698398515702, 0.7768698398515702, 0.3934693402873666, 0.6321205588285577]\n",
            "Media de falhas:  [0, 1115771.00832, 471255391.9610473, 479664212.8796096, 608765266.7958118, 746209041.5285249, 785552375.208127, 977307367.1726514, 1099431692.1870902, 1263066688.6217487, -1808208386.7991521]\n",
            "Custo =  207358152830.68463\n",
            "\n",
            "=========================================================================\n",
            "\n",
            "Número de ciclos de manutenção: 10 5\n",
            "Tempos para manutenções preventivas: [0, 82, 96, 226, 295, 348, 408, 440, 524, 618, 710]\n",
            "Severidade para cada subsistema: [0.75, 0.75, 0.5, 0.25, 0.25, 0.5, 0.75, 0.5, 0.25, 0.5]\n",
            "Número de Sisemas: 5\n",
            "Fator:  [0.3296799539643607, 0.7768698398515702, 0.7768698398515702, 0.6321205588285577, 0.3934693402873666, 0.3934693402873666, 0.6321205588285577, 0.7768698398515702, 0.6321205588285577, 0.3934693402873666, 0.6321205588285577]\n",
            "Media de falhas:  [0, 1186367.49824, 1525077.0954928305, 26996234.913329773, 34666345.747207984, 65032893.27254172, 399328320.65173215, 647842544.3889894, 899792810.3119054, 1026380700.0098457, 1894887294.199016, -1759850320.5705118]\n",
            "Custo =  245070530431.9956\n",
            "\n",
            "=========================================================================\n",
            "\n",
            "Número de ciclos de manutenção: 10 5\n",
            "Tempos para manutenções preventivas: [0, 81, 98, 252, 295, 308, 343, 416, 441, 583, 615]\n",
            "Severidade para cada subsistema: [0.75, 0.75, 0.75, 0.25, 0.25, 0.25, 0.5, 0.75, 0.25, 0.25]\n",
            "Número de Sisemas: 5\n",
            "Fator:  [0.3296799539643607, 0.7768698398515702, 0.7768698398515702, 0.7768698398515702, 0.3934693402873666, 0.3934693402873666, 0.3934693402873666, 0.6321205588285577, 0.7768698398515702, 0.3934693402873666, 0.3934693402873666]\n",
            "Media de falhas:  [0, 1115771.00832, 1554253.801369812, 55388152.41762562, 58286785.124666534, 58865072.9071205, 157877459.91734627, 594208389.9024951, 791802153.8280556, 1589892896.5555532, 1613770991.6844745, 1185021061.854673]\n",
            "Custo =  208642885521.7893\n",
            "\n",
            "=========================================================================\n",
            "\n",
            "Número de ciclos de manutenção: 11 5\n",
            "Tempos para manutenções preventivas: [0, 33, 79, 167, 230, 268, 349, 369, 417, 448, 595, 669]\n",
            "Severidade para cada subsistema: [0.5, 0.75, 0.25, 0.25, 0.75, 0.25, 0.5, 0.5, 0.75, 0.25, 0.5]\n",
            "Número de Sisemas: 5\n",
            "Fator:  [0.3296799539643607, 0.6321205588285577, 0.7768698398515702, 0.3934693402873666, 0.3934693402873666, 0.7768698398515702, 0.3934693402873666, 0.6321205588285577, 0.6321205588285577, 0.7768698398515702, 0.3934693402873666, 0.6321205588285577]\n",
            "Media de falhas:  [0, 12523.325760000002, 480226.3044514886, 7508177.092497078, 10727447.258061593, 50206402.576080956, 288107127.8372877, 290064531.0818925, 585127215.3102777, 626177757.0423244, 1530459169.8544037, 1638183443.6238625, -495679181.0675194]\n",
            "Custo =  200878196713.71802\n",
            "\n",
            "=========================================================================\n",
            "\n",
            "Número de ciclos de manutenção: 11 5\n",
            "Tempos para manutenções preventivas: [0, 16, 38, 78, 237, 267, 328, 354, 418, 595, 634, 686]\n",
            "Severidade para cada subsistema: [0.5, 0.5, 0.75, 0.25, 0.75, 0.5, 0.25, 0.5, 0.25, 0.25, 0.5]\n",
            "Número de Sisemas: 5\n",
            "Fator:  [0.3296799539643607, 0.6321205588285577, 0.6321205588285577, 0.7768698398515702, 0.3934693402873666, 0.7768698398515702, 0.6321205588285577, 0.3934693402873666, 0.6321205588285577, 0.3934693402873666, 0.3934693402873666, 0.6321205588285577]\n",
            "Media de falhas:  [0, 335.54432, 12300.499991466088, 158782.67323672055, 74695893.96354774, 75815103.24820222, 216421122.4835599, 218821183.65147203, 295289961.155658, 4693419810.420046, 4897641203.325792, 7280061319.580067, 4543348569.791563]\n",
            "Custo =  447300489774.58923\n",
            "\n",
            "=========================================================================\n",
            "\n",
            "Número de ciclos de manutenção: 12 5\n",
            "Tempos para manutenções preventivas: [0, 9, 30, 77, 160, 308, 358, 386, 414, 584, 623, 638, 710]\n",
            "Severidade para cada subsistema: [0.5, 0.5, 0.75, 0.5, 0.25, 0.25, 0.75, 0.5, 0.25, 0.75, 0.25, 0.5]\n",
            "Número de Sisemas: 5\n",
            "Fator:  [0.3296799539643607, 0.6321205588285577, 0.6321205588285577, 0.7768698398515702, 0.6321205588285577, 0.3934693402873666, 0.3934693402873666, 0.7768698398515702, 0.6321205588285577, 0.3934693402873666, 0.7768698398515702, 0.3934693402873666, 0.6321205588285577]\n",
            "Media de falhas:  [0, 18.895680000000002, 4636.015246294294, 215277.38291305426, 5681452.497246734, 72605947.7506532, 103797924.36107555, 232604895.35288092, 403483766.49939454, 799227265.320678, 990018863.1757804, 1519737711.645484, 1645852368.2464876, -2008885246.5230403]\n",
            "Custo =  357442898147.93915\n",
            "\n",
            "=========================================================================\n",
            "\n",
            "Número de ciclos de manutenção: 10 5\n",
            "Tempos para manutenções preventivas: [0, 2, 30, 77, 212, 258, 290, 417, 611, 647, 695]\n",
            "Severidade para cada subsistema: [0.5, 0.5, 0.75, 0.5, 0.5, 0.75, 0.5, 0.75, 0.25, 0.5]\n",
            "Número de Sisemas: 5\n",
            "Fator:  [0.3296799539643607, 0.6321205588285577, 0.6321205588285577, 0.7768698398515702, 0.6321205588285577, 0.6321205588285577, 0.7768698398515702, 0.6321205588285577, 0.7768698398515702, 0.3934693402873666, 0.6321205588285577]\n",
            "Media de falhas:  [0, 0.01024, 6958.22473860618, 217599.59240536616, 37402616.46300604, 39589602.38038802, 47660906.499364115, 266238229.4985483, 887600711.4489288, 1089895607.3160715, 1154120801.6418092, -1917154273.7790916]\n",
            "Custo =  179161866196.6651\n",
            "\n",
            "=========================================================================\n",
            "\n",
            "Número de ciclos de manutenção: 7 5\n",
            "Tempos para manutenções preventivas: [0, 79, 227, 286, 309, 416, 636, 683]\n",
            "Severidade para cada subsistema: [0.75, 0.5, 0.75, 0.5, 0.5, 0.5, 0.5]\n",
            "Número de Sisemas: 5\n",
            "Fator:  [0.3296799539643607, 0.7768698398515702, 0.6321205588285577, 0.7768698398515702, 0.6321205588285577, 0.6321205588285577, 0.6321205588285577, 0.6321205588285577]\n",
            "Media de falhas:  [0, 984658.0476800001, 105720398.74496272, 110686010.64153863, 117647343.75434692, 171107532.16639256, 2455854617.1284447, 2791836234.3941674, 2514530318.2833323]\n",
            "Custo =  89925559264.0747\n",
            "\n",
            "=========================================================================\n",
            "\n",
            "Número de ciclos de manutenção: 11 5\n",
            "Tempos para manutenções preventivas: [0, 49, 80, 236, 386, 414, 444, 519, 566, 618, 677, 697]\n",
            "Severidade para cada subsistema: [0.25, 0.75, 0.5, 0.75, 0.5, 0.75, 0.75, 0.25, 0.5, 0.5, 0.5]\n",
            "Número de Sisemas: 5\n",
            "Fator:  [0.3296799539643607, 0.3934693402873666, 0.7768698398515702, 0.6321205588285577, 0.7768698398515702, 0.6321205588285577, 0.7768698398515702, 0.7768698398515702, 0.3934693402873666, 0.6321205588285577, 0.6321205588285577, 0.6321205588285577]\n",
            "Media de falhas:  [0, 90392.07968000001, 417633.7187422931, 114844600.42315336, 224104731.32365954, 251065850.99061602, 257696075.31968164, 466597003.3146304, 496532477.9386258, 543902546.5730039, 3093918737.7575183, 3238464814.2433214, 2916723281.168379]\n",
            "Custo =  243025147217.87766\n",
            "\n",
            "=========================================================================\n",
            "\n",
            "Número de ciclos de manutenção: 11 5\n",
            "Tempos para manutenções preventivas: [0, 81, 171, 235, 260, 285, 364, 414, 440, 560, 664, 716]\n",
            "Severidade para cada subsistema: [0.75, 0.5, 0.5, 0.5, 0.5, 0.75, 0.5, 0.75, 0.25, 0.5, 0.5]\n",
            "Número de Sisemas: 5\n",
            "Fator:  [0.3296799539643607, 0.7768698398515702, 0.6321205588285577, 0.6321205588285577, 0.6321205588285577, 0.6321205588285577, 0.7768698398515702, 0.6321205588285577, 0.7768698398515702, 0.3934693402873666, 0.6321205588285577, 0.6321205588285577]\n",
            "Media de falhas: "
          ]
        },
        {
          "output_type": "stream",
          "name": "stderr",
          "text": [
            "pyswarms.single.global_best:  61%|██████    |61/100, best_cost=5.33e+10<ipython-input-278-3f464f4b430c>:83: RuntimeWarning: divide by zero encountered in double_scalars\n",
            "  Ctotal.append((cmp + (mi[i+1] - mi[i])*CMC)/(T[i+1]-T[i]))\n",
            "pyswarms.single.global_best:  72%|███████▏  |72/100, best_cost=4.68e+10"
          ]
        },
        {
          "output_type": "stream",
          "name": "stdout",
          "text": [
            " [0, 1115771.00832, 20982749.70734493, 24516901.676957887, 28474376.097711656, 34092752.75023619, 97245916.46829028, 150789575.32501933, 156075247.4290596, 689855762.4283866, 881425606.9858881, 3713263536.9961863, 3329795365.51475]\n",
            "Custo =  267202882342.4054\n",
            "\n",
            "=========================================================================\n",
            "\n",
            "Número de ciclos de manutenção: 7 5\n",
            "Tempos para manutenções preventivas: [0, 45, 82, 232, 242, 303, 435, 559]\n",
            "Severidade para cada subsistema: [0.75, 0.75, 0.5, 0.75, 0.25, 0.75, 0.25]\n",
            "Número de Sisemas: 5\n",
            "Fator:  [0.3296799539643607, 0.7768698398515702, 0.7768698398515702, 0.6321205588285577, 0.7768698398515702, 0.3934693402873666, 0.7768698398515702, 0.3934693402873666]\n",
            "Media de falhas:  [0, 59049.00000000001, 488424.315579239, 43692133.82961618, 43860855.65617654, 66392997.96664208, 167342501.18837348, 2566346578.953773, 2596694580.5495267]\n",
            "Custo =  86155859752.55736\n",
            "\n",
            "=========================================================================\n",
            "\n",
            "Número de ciclos de manutenção: 11 5\n",
            "Tempos para manutenções preventivas: [0, 81, 173, 227, 263, 286, 366, 419, 439, 520, 564, 604]\n",
            "Severidade para cada subsistema: [0.75, 0.25, 0.5, 0.75, 0.25, 0.5, 0.5, 0.75, 0.25, 0.25, 0.25]\n",
            "Número de Sisemas: 5\n",
            "Fator:  [0.3296799539643607, 0.7768698398515702, 0.3934693402873666, 0.6321205588285577, 0.7768698398515702, 0.3934693402873666, 0.6321205588285577, 0.6321205588285577, 0.7768698398515702, 0.3934693402873666, 0.3934693402873666, 0.3934693402873666]\n",
            "Media de falhas:  [0, 1115771.00832, 22409029.870621473, 24560519.345300335, 59302542.783754855, 64470281.43059975, 83818378.60807282, 414501323.712942, 437902439.82358545, 671095645.1770729, 697949998.2016267, 1804718360.076983, 1691932383.0637891]\n",
            "Custo =  273923889600.4156\n",
            "\n",
            "=========================================================================\n",
            "\n",
            "Número de ciclos de manutenção: 14 5\n",
            "Tempos para manutenções preventivas: [0, 0, 79, 172, 219, 259, 277, 327, 354, 362, 416, 448, 569, 586, 665]\n",
            "Severidade para cada subsistema: [0.5, 0.75, 0.25, 0.5, 0.75, 0.25, 0.5, 0.25, 0.5, 0.5, 0.75, 0.25, 0.25, 0.5]\n",
            "Número de Sisemas: 5\n",
            "Fator:  [0.3296799539643607, 0.6321205588285577, 0.7768698398515702, 0.3934693402873666, 0.6321205588285577, 0.7768698398515702, 0.3934693402873666, 0.6321205588285577, 0.3934693402873666, 0.6321205588285577, 0.6321205588285577, 0.7768698398515702, 0.3934693402873666, 0.3934693402873666, 0.6321205588285577]\n",
            "Media de falhas:  [0, 0.0, 984658.0476800001, 9648857.07481325, 11073956.978991501, 47187274.53166275, 50643772.63319898, 55946227.34562973, 143645044.89642373, 147807698.48638463, 474800293.21043026, 517352848.08144164, 1088733321.5944042, 1097964023.2618563, 4234325241.554759, 2237138636.5010233]\n",
            "Custo =  inf\n",
            "\n",
            "=========================================================================\n",
            "\n",
            "Número de ciclos de manutenção: 11 5\n",
            "Tempos para manutenções preventivas: [0, 24, 78, 220, 251, 312, 353, 378, 415, 591, 673, 715]\n",
            "Severidade para cada subsistema: [0.5, 0.75, 0.5, 0.75, 0.75, 0.25, 0.5, 0.5, 0.25, 0.5, 0.5]\n",
            "Número de Sisemas: 5\n",
            "Fator:  [0.3296799539643607, 0.6321205588285577, 0.7768698398515702, 0.6321205588285577, 0.7768698398515702, 0.7768698398515702, 0.3934693402873666, 0.6321205588285577, 0.6321205588285577, 0.3934693402873666, 0.6321205588285577, 0.6321205588285577]\n",
            "Media de falhas:  [0, 2548.0396800000003, 543404.0062313095, 46908433.19913764, 47871618.297740966, 72850153.27444562, 77626602.20178065, 80505996.83148761, 306098686.9085958, 1506855823.569083, 2121467555.5642872, 4412669606.515106, 4032508442.563169]\n",
            "Custo =  317127573596.8634\n",
            "\n",
            "=========================================================================\n",
            "\n",
            "Número de ciclos de manutenção: 9 5\n",
            "Tempos para manutenções preventivas: [0, 27, 77, 166, 220, 356, 416, 580, 680, 699]\n",
            "Severidade para cada subsistema: [0.5, 0.75, 0.5, 0.5, 0.25, 0.5, 0.25, 0.5, 0.5]\n",
            "Número de Sisemas: 5\n",
            "Fator:  [0.3296799539643607, 0.6321205588285577, 0.7768698398515702, 0.6321205588285577, 0.6321205588285577, 0.3934693402873666, 0.6321205588285577, 0.3934693402873666, 0.6321205588285577, 0.6321205588285577]\n",
            "Media de falhas:  [0, 4591.65024, 472613.3209843152, 7581116.351654041, 9560059.545012, 162187442.51969513, 231126490.92363745, 3905805323.129364, 4731310171.192012, 5695849588.997936, 5367704330.486154]\n",
            "Custo =  348555002942.7977\n",
            "\n",
            "=========================================================================\n",
            "\n",
            "Número de ciclos de manutenção: 11 5\n",
            "Tempos para manutenções preventivas: [0, 54, 78, 219, 260, 315, 366, 409, 513, 631, 678, 692]\n",
            "Severidade para cada subsistema: [0.25, 0.75, 0.5, 0.5, 0.75, 0.75, 0.5, 0.5, 0.25, 0.5, 0.5]\n",
            "Número de Sisemas: 5\n",
            "Fator:  [0.3296799539643607, 0.3934693402873666, 0.7768698398515702, 0.6321205588285577, 0.6321205588285577, 0.7768698398515702, 0.7768698398515702, 0.6321205588285577, 0.6321205588285577, 0.3934693402873666, 0.6321205588285577, 0.6321205588285577]\n",
            "Media de falhas:  [0, 146932.80768, 379997.4545297845, 76076356.14069773, 77862689.20325738, 100130868.72211376, 134862708.46392322, 143336043.9963793, 232138271.8492139, 1024243748.1492989, 1350804041.5063462, 2036517727.6825469, 1730714548.5207481]\n",
            "Custo =  274776062762.533\n",
            "\n",
            "=========================================================================\n",
            "\n",
            "Número de ciclos de manutenção: 10 5\n",
            "Tempos para manutenções preventivas: [0, 25, 79, 223, 259, 298, 380, 404, 441, 541, 674]\n",
            "Severidade para cada subsistema: [0.25, 0.75, 0.5, 0.5, 0.75, 0.75, 0.5, 0.75, 0.5, 0.5]\n",
            "Número de Sisemas: 5\n",
            "Fator:  [0.3296799539643607, 0.3934693402873666, 0.7768698398515702, 0.6321205588285577, 0.6321205588285577, 0.7768698398515702, 0.7768698398515702, 0.6321205588285577, 0.7768698398515702, 0.6321205588285577, 0.6321205588285577]\n",
            "Media de falhas:  [0, 3125.0000000000005, 570282.9588451716, 83800968.75129509, 85187672.57719402, 96645498.2619224, 174267006.35530198, 177740875.985692, 186468677.30626583, 547332075.3397944, 875538570.3246393, 626604268.341856]\n",
            "Custo =  46753971964.2485\n",
            "\n",
            "=========================================================================\n",
            "\n",
            "Número de ciclos de manutenção: 11 5\n",
            "Tempos para manutenções preventivas: [0, 3, 33, 81, 108, 223, 251, 401, 435, 484, 630, 676]\n",
            "Severidade para cada subsistema: [0.25, 0.25, 0.75, 0.5, 0.5, 0.5, 0.5, 0.75, 0.5, 0.5, 0.5]\n",
            "Número de Sisemas: 5\n",
            "Fator:  [0.3296799539643607, 0.3934693402873666, 0.3934693402873666, 0.7768698398515702, 0.6321205588285577, 0.6321205588285577, 0.6321205588285577, 0.6321205588285577, 0.7768698398515702, 0.6321205588285577, 0.6321205588285577, 0.6321205588285577]\n",
            "Media de falhas:  [0, 0.07776000000000001, 10755.886137064372, 475517.55367368076, 1202206.0909908093, 17862686.391551983, 21835963.924246155, 287145689.7164046, 327851493.16076374, 421961335.3405119, 755540163.2821361, 1070647365.4964554, 815411683.1608682]\n",
            "Custo =  70814439171.91623\n",
            "\n",
            "=========================================================================\n",
            "\n",
            "Número de ciclos de manutenção: 14 5\n",
            "Tempos para manutenções preventivas: [0, 19, 82, 96, 169, 223, 245, 300, 358, 405, 437, 517, 633, 685, 698]\n",
            "Severidade para cada subsistema: [0.25, 0.75, 0.5, 0.5, 0.5, 0.5, 0.25, 0.25, 0.5, 0.75, 0.5, 0.5, 0.5, 0.5]\n",
            "Número de Sisemas: 5\n",
            "Fator:  [0.3296799539643607, 0.3934693402873666, 0.7768698398515702, 0.6321205588285577, 0.6321205588285577, 0.6321205588285577, 0.6321205588285577, 0.3934693402873666, 0.3934693402873666, 0.6321205588285577, 0.7768698398515702, 0.6321205588285577, 0.6321205588285577, 0.6321205588285577, 0.6321205588285577]\n",
            "Media de falhas:  [0, 792.3516800000001, 798062.8771958373, 1037235.9856559876, 3437286.027519564, 9911004.365956817, 12622190.93612426, 31322476.93824616, 69373687.91940589, 326346926.31154186, 568091309.4049617, 792610631.8260456, 998190327.1783524, 1379359862.500142, 1472350034.9065695, 1147408853.0205357]\n",
            "Custo =  146806385201.48505\n",
            "\n",
            "=========================================================================\n",
            "\n",
            "Número de ciclos de manutenção: 12 5\n",
            "Tempos para manutenções preventivas: [0, 46, 82, 93, 148, 221, 243, 355, 416, 445, 480, 515, 706]\n",
            "Severidade para cada subsistema: [0.25, 0.75, 0.5, 0.25, 0.5, 0.5, 0.25, 0.5, 0.75, 0.75, 0.75, 0.5]\n",
            "Número de Sisemas: 5\n",
            "Fator:  [0.3296799539643607, 0.3934693402873666, 0.7768698398515702, 0.6321205588285577, 0.3934693402873666, 0.6321205588285577, 0.6321205588285577, 0.3934693402873666, 0.6321205588285577, 0.7768698398515702, 0.7768698398515702, 0.7768698398515702, 0.6321205588285577]\n",
            "Media de falhas:  [0, 65908.15232000001, 483725.858757267, 650805.0426204449, 1447742.7295940197, 12053931.135442657, 27812006.787406743, 132005719.70255359, 202470933.77520758, 439024115.0264113, 500529843.8712655, 514562214.9711826, 1365450356.4943027, 1334523536.0809681]\n",
            "Custo =  72206659642.6435\n",
            "\n",
            "=========================================================================\n",
            "\n",
            "Número de ciclos de manutenção: 15 5\n",
            "Tempos para manutenções preventivas: [0, 20, 83, 98, 146, 165, 213, 248, 277, 303, 352, 381, 501, 523, 632, 712]\n",
            "Severidade para cada subsistema: [0.5, 0.75, 0.5, 0.25, 0.25, 0.5, 0.5, 0.75, 0.5, 0.25, 0.25, 0.75, 0.75, 0.25, 0.5]\n",
            "Número de Sisemas: 5\n",
            "Fator:  [0.3296799539643607, 0.6321205588285577, 0.7768698398515702, 0.6321205588285577, 0.3934693402873666, 0.3934693402873666, 0.6321205588285577, 0.6321205588285577, 0.7768698398515702, 0.6321205588285577, 0.3934693402873666, 0.3934693402873666, 0.7768698398515702, 0.7768698398515702, 0.3934693402873666, 0.6321205588285577]\n",
            "Media de falhas:  [0, 1024.0, 834180.25789041, 888323.7970132048, 1419448.7112702962, 1926742.0869538928, 21496542.216126103, 48165653.8973525, 54183529.80849771, 61620655.9190569, 68067857.345998, 88420399.36267994, 1584529020.8234112, 1931375240.8808923, 2111854091.5340817, 2262776930.38, -1472330045.9645653]\n",
            "Custo =  270704226084.60992\n",
            "\n",
            "=========================================================================\n",
            "\n",
            "Número de ciclos de manutenção: 14 5\n",
            "Tempos para manutenções preventivas: [0, 7, 82, 109, 147, 179, 252, 351, 380, 485, 536, 575, 606, 688, 712]\n",
            "Severidade para cada subsistema: [0.75, 0.75, 0.5, 0.25, 0.25, 0.5, 0.25, 0.75, 0.75, 0.5, 0.25, 0.75, 0.5, 0.5]\n",
            "Número de Sisemas: 5\n",
            "Fator:  [0.3296799539643607, 0.7768698398515702, 0.7768698398515702, 0.6321205588285577, 0.3934693402873666, 0.3934693402873666, 0.6321205588285577, 0.3934693402873666, 0.7768698398515702, 0.7768698398515702, 0.6321205588285577, 0.3934693402873666, 0.7768698398515702, 0.6321205588285577, 0.6321205588285577]\n",
            "Media de falhas:  [0, 5.378240000000001, 1028565.8990193446, 1088931.0450397553, 1387043.0295789428, 2751272.087496658, 61072071.34649223, 358585284.46648586, 378732690.95238227, 1530462951.747531, 1558455981.2020345, 1582735547.3959155, 1715735539.6832042, 5444937995.070637, 5474059224.617654, 5103774975.581785]\n",
            "Custo =  283973825726.5241\n",
            "\n",
            "=========================================================================\n",
            "\n",
            "Número de ciclos de manutenção: 9 5\n",
            "Tempos para manutenções preventivas: [0, 81, 119, 253, 350, 505, 573, 607, 685, 705]\n",
            "Severidade para cada subsistema: [0.75, 0.5, 0.5, 0.25, 0.5, 0.25, 0.75, 0.5, 0.5]\n",
            "Número de Sisemas: 5\n",
            "Fator:  [0.3296799539643607, 0.7768698398515702, 0.6321205588285577, 0.6321205588285577, 0.3934693402873666, 0.6321205588285577, 0.3934693402873666, 0.7768698398515702, 0.6321205588285577, 0.6321205588285577]\n",
            "Media de falhas:  [0, 1115771.00832, 3107967.237498661, 37241517.20334079, 114395044.80526632, 691763824.086566, 2179959871.3085747, 2328071273.124857, 5821054557.854458, 5843727250.799896, 5496254249.255348]\n",
            "Custo =  321229913771.6256\n",
            "\n",
            "=========================================================================\n",
            "\n",
            "Número de ciclos de manutenção: 10 5\n",
            "Tempos para manutenções preventivas: [0, 2, 79, 247, 288, 324, 354, 413, 545, 682, 703]\n",
            "Severidade para cada subsistema: [0.75, 0.75, 0.5, 0.75, 0.5, 0.25, 0.5, 0.5, 0.5, 0.5]\n",
            "Número de Sisemas: 5\n",
            "Fator:  [0.3296799539643607, 0.7768698398515702, 0.7768698398515702, 0.6321205588285577, 0.7768698398515702, 0.6321205588285577, 0.3934693402873666, 0.6321205588285577, 0.6321205588285577, 0.6321205588285577, 0.6321205588285577]\n",
            "Media de falhas:  [0, 0.01024, 944246.8850349716, 71471287.49447727, 73933178.4732768, 88103428.43265672, 91055802.82047068, 156710445.23427895, 2461029115.567156, 3758499478.8371725, 3915868689.0397162, 3574859159.7736216]\n",
            "Custo =  159316103847.80704\n",
            "\n",
            "=========================================================================\n",
            "\n",
            "Número de ciclos de manutenção: 9 5\n",
            "Tempos para manutenções preventivas: [0, 78, 247, 307, 355, 407, 508, 544, 679, 696]\n",
            "Severidade para cada subsistema: [0.75, 0.5, 0.25, 0.25, 0.5, 0.25, 0.5, 0.5, 0.5]\n",
            "Número de Sisemas: 5\n",
            "Fator:  [0.3296799539643607, 0.7768698398515702, 0.6321205588285577, 0.3934693402873666, 0.3934693402873666, 0.6321205588285577, 0.3934693402873666, 0.6321205588285577, 0.6321205588285577, 0.6321205588285577]\n",
            "Media de falhas:  [0, 923895.7977600001, 170587840.54586023, 176893195.3481386, 205563959.4068008, 494275347.51558405, 1830821263.5621405, 1933884129.1915245, 7635793749.186516, 7757115863.747261, 7438569737.357187]\n",
            "Custo =  304229796690.9279\n",
            "\n",
            "=========================================================================\n",
            "\n",
            "Número de ciclos de manutenção: 7 5\n",
            "Tempos para manutenções preventivas: [0, 77, 119, 153, 249, 358, 403, 680]\n",
            "Severidade para cada subsistema: [0.75, 0.5, 0.75, 0.5, 0.25, 0.5, 0.5]\n",
            "Número de Sisemas: 5\n",
            "Fator:  [0.3296799539643607, 0.7768698398515702, 0.6321205588285577, 0.7768698398515702, 0.6321205588285577, 0.3934693402873666, 0.6321205588285577, 0.6321205588285577]\n",
            "Media de falhas:  [0, 866170.93024, 3049694.7271824307, 3305972.5410704487, 29333780.995260432, 67780042.27382454, 110225112.42784193, 12165970881.30976, 11898128991.774353]\n",
            "Custo =  194033646790.6464\n",
            "\n",
            "=========================================================================\n",
            "\n",
            "Número de ciclos de manutenção: 11 5\n",
            "Tempos para manutenções preventivas: [0, 11, 77, 107, 214, 253, 402, 438, 523, 611, 678, 690]\n",
            "Severidade para cada subsistema: [0.5, 0.75, 0.5, 0.5, 0.5, 0.5, 0.75, 0.5, 0.5, 0.5, 0.5]\n",
            "Número de Sisemas: 5\n",
            "Fator:  [0.3296799539643607, 0.6321205588285577, 0.7768698398515702, 0.6321205588285577, 0.6321205588285577, 0.6321205588285577, 0.6321205588285577, 0.7768698398515702, 0.6321205588285577, 0.6321205588285577, 0.6321205588285577, 0.6321205588285577]\n",
            "Media de falhas:  [0, 51.53632, 680573.7619739891, 890754.4029535684, 13174886.867540225, 19443458.38850382, 283211247.82495546, 327858766.70420873, 582158160.2007204, 690235411.231557, 1183314062.6858618, 1265125733.5525696, 965673462.1181183]\n",
            "Custo =  100109999276.36237\n",
            "\n",
            "=========================================================================\n",
            "\n",
            "Número de ciclos de manutenção: 13 5\n",
            "Tempos para manutenções preventivas: [0, 78, 98, 149, 168, 214, 259, 385, 409, 426, 486, 567, 681, 697]\n",
            "Severidade para cada subsistema: [0.75, 0.5, 0.25, 0.5, 0.5, 0.5, 0.25, 0.5, 0.75, 0.75, 0.25, 0.5, 0.5]\n",
            "Número de Sisemas: 5\n",
            "Fator:  [0.3296799539643607, 0.7768698398515702, 0.6321205588285577, 0.3934693402873666, 0.6321205588285577, 0.6321205588285577, 0.6321205588285577, 0.3934693402873666, 0.6321205588285577, 0.7768698398515702, 0.7768698398515702, 0.3934693402873666, 0.6321205588285577, 0.6321205588285577]\n",
            "Media de falhas:  [0, 923895.7977600001, 1430384.0277986925, 2086134.9299322662, 2628992.876690205, 21757495.45065132, 30067868.015468277, 197327873.99025849, 218982273.0557406, 337109991.73867226, 459831748.6678997, 533110005.22564393, 780286638.5576785, 1585437581.6200647, 1263696048.5451221]\n",
            "Custo =  274458531498.69244\n",
            "\n",
            "=========================================================================\n",
            "\n",
            "Número de ciclos de manutenção: 11 5\n",
            "Tempos para manutenções preventivas: [0, 41, 80, 92, 147, 213, 263, 326, 372, 427, 688, 704]\n",
            "Severidade para cada subsistema: [0.25, 0.75, 0.5, 0.25, 0.5, 0.5, 0.25, 0.75, 0.75, 0.5, 0.5]\n",
            "Número de Sisemas: 5\n",
            "Fator:  [0.3296799539643607, 0.3934693402873666, 0.7768698398515702, 0.6321205588285577, 0.3934693402873666, 0.6321205588285577, 0.6321205588285577, 0.3934693402873666, 0.7768698398515702, 0.7768698398515702, 0.6321205588285577, 0.6321205588285577]\n",
            "Media de falhas:  [0, 37073.98432, 447686.67573398445, 621470.2148119, 1406786.4279997323, 9247414.1837834, 56850721.86116761, 87433176.55807416, 119743404.01399313, 489569395.1180691, 2323960543.999667, 2341467155.4573874, 1997228652.7718139]\n",
            "Custo =  81821862084.59537\n"
          ]
        },
        {
          "output_type": "stream",
          "name": "stderr",
          "text": [
            "pyswarms.single.global_best:  82%|████████▏ |82/100, best_cost=4.68e+10"
          ]
        },
        {
          "output_type": "stream",
          "name": "stdout",
          "text": [
            "\n",
            "=========================================================================\n",
            "\n",
            "Número de ciclos de manutenção: 10 5\n",
            "Tempos para manutenções preventivas: [0, 81, 146, 212, 258, 278, 357, 363, 437, 529, 713]\n",
            "Severidade para cada subsistema: [0.75, 0.25, 0.5, 0.5, 0.75, 0.25, 0.25, 0.75, 0.5, 0.5]\n",
            "Número de Sisemas: 5\n",
            "Fator:  [0.3296799539643607, 0.7768698398515702, 0.3934693402873666, 0.6321205588285577, 0.6321205588285577, 0.7768698398515702, 0.3934693402873666, 0.3934693402873666, 0.7768698398515702, 0.6321205588285577, 0.6321205588285577]\n",
            "Media de falhas:  [0, 1115771.00832, 8696521.330004154, 11663489.04574307, 52316347.650818095, 56263583.93428892, 115313870.52389194, 115763176.74044241, 655137291.0176445, 2093546143.8315792, 2890559407.9764585, 2516990032.1121993]\n",
            "Custo =  130560271959.91281\n",
            "\n",
            "=========================================================================\n",
            "\n",
            "Número de ciclos de manutenção: 8 5\n",
            "Tempos para manutenções preventivas: [0, 1, 82, 99, 147, 248, 353, 480, 646]\n",
            "Severidade para cada subsistema: [0.5, 0.75, 0.5, 0.25, 0.5, 0.25, 0.5, 0.5]\n",
            "Número de Sisemas: 5\n",
            "Fator:  [0.3296799539643607, 0.6321205588285577, 0.7768698398515702, 0.6321205588285577, 0.3934693402873666, 0.6321205588285577, 0.3934693402873666, 0.6321205588285577, 0.6321205588285577]\n",
            "Media de falhas:  [0, 0.00032, 1162709.6203112146, 1229412.476014682, 1769015.2816812142, 30322529.714510977, 353554055.2732376, 699539346.6666389, 6418330315.413246, 6258494776.4261055]\n",
            "Custo =  176160607154.23718\n",
            "\n",
            "=========================================================================\n",
            "\n",
            "Número de ciclos de manutenção: 11 5\n",
            "Tempos para manutenções preventivas: [0, 13, 45, 82, 115, 168, 300, 350, 515, 541, 612, 717]\n",
            "Severidade para cada subsistema: [0.5, 0.75, 0.75, 0.5, 0.25, 0.75, 0.25, 0.75, 0.5, 0.5, 0.5]\n",
            "Número de Sisemas: 5\n",
            "Fator:  [0.3296799539643607, 0.6321205588285577, 0.7768698398515702, 0.7768698398515702, 0.6321205588285577, 0.3934693402873666, 0.7768698398515702, 0.3934693402873666, 0.7768698398515702, 0.6321205588285577, 0.6321205588285577, 0.6321205588285577]\n",
            "Media de falhas:  [0, 118.81376000000002, 35902.27068764066, 176476.40068105544, 289477.1839052414, 1249566.2139484887, 88451497.59600113, 239508127.58669686, 510244426.496333, 977928074.0946994, 1052598820.0806389, 2122520226.6062324, 1735737408.965135]\n",
            "Custo =  151536570183.7496\n",
            "\n",
            "=========================================================================\n",
            "\n",
            "Número de ciclos de manutenção: 12 5\n",
            "Tempos para manutenções preventivas: [0, 29, 59, 82, 160, 280, 351, 360, 418, 546, 638, 685, 706]\n",
            "Severidade para cada subsistema: [0.5, 0.75, 0.75, 0.5, 0.75, 0.25, 0.75, 0.5, 0.5, 0.25, 0.5, 0.5]\n",
            "Número de Sisemas: 5\n",
            "Fator:  [0.3296799539643607, 0.6321205588285577, 0.7768698398515702, 0.7768698398515702, 0.6321205588285577, 0.7768698398515702, 0.3934693402873666, 0.7768698398515702, 0.6321205588285577, 0.6321205588285577, 0.3934693402873666, 0.6321205588285577, 0.6321205588285577]\n",
            "Media de falhas:  [0, 6563.56768, 100192.45845423691, 155788.9731279562, 2804891.9280390562, 32068591.018128715, 79405249.30738676, 80086698.42325361, 437028271.8761817, 604495229.4302027, 1189261196.2494607, 1529068010.523639, 2636704043.0145802, 2285990836.946465]\n",
            "Custo =  312511180693.366\n",
            "\n",
            "=========================================================================\n",
            "\n",
            "Número de ciclos de manutenção: 12 5\n",
            "Tempos para manutenções preventivas: [0, 20, 49, 81, 355, 381, 410, 502, 548, 611, 641, 679, 695]\n",
            "Severidade para cada subsistema: [0.5, 0.75, 0.75, 0.25, 0.25, 0.5, 0.75, 0.5, 0.25, 0.25, 0.5, 0.5]\n",
            "Número de Sisemas: 5\n",
            "Fator:  [0.3296799539643607, 0.6321205588285577, 0.7768698398515702, 0.7768698398515702, 0.3934693402873666, 0.3934693402873666, 0.6321205588285577, 0.7768698398515702, 0.6321205588285577, 0.3934693402873666, 0.3934693402873666, 0.6321205588285577, 0.6321205588285577]\n",
            "Media de falhas:  [0, 1024.0, 44769.502229235804, 144421.64383324783, 680303781.066827, 683431232.3123883, 853398867.4900178, 2017555887.247795, 2157823226.475604, 2218938031.725968, 2378834710.980951, 4067390574.3502803, 4863306121.132866, 4547951345.786888]\n",
            "Custo =  511885238648.19214\n",
            "\n",
            "=========================================================================\n",
            "\n",
            "Número de ciclos de manutenção: 14 5\n",
            "Tempos para manutenções preventivas: [0, 5, 80, 117, 159, 216, 240, 356, 409, 447, 499, 625, 659, 677, 690]\n",
            "Severidade para cada subsistema: [0.5, 0.75, 0.5, 0.75, 0.5, 0.5, 0.25, 0.5, 0.75, 0.25, 0.5, 0.25, 0.5, 0.5]\n",
            "Número de Sisemas: 5\n",
            "Fator:  [0.3296799539643607, 0.6321205588285577, 0.7768698398515702, 0.6321205588285577, 0.7768698398515702, 0.6321205588285577, 0.6321205588285577, 0.3934693402873666, 0.6321205588285577, 0.7768698398515702, 0.3934693402873666, 0.6321205588285577, 0.3934693402873666, 0.6321205588285577, 0.6321205588285577]\n",
            "Media de falhas:  [0, 1.0, 944908.4434073793, 1351826.5246442063, 1816850.3970159474, 8173184.394870017, 8717620.039253548, 120867494.7260309, 175964435.1941871, 488419072.17902654, 601946149.1116307, 837473426.2733417, 2181275418.7474165, 2296671249.686104, 2926646513.3359957, 2627194241.9015446]\n",
            "Custo =  448686244948.0805\n",
            "\n",
            "=========================================================================\n",
            "\n",
            "Número de ciclos de manutenção: 13 5\n",
            "Tempos para manutenções preventivas: [0, 1, 35, 79, 97, 222, 248, 325, 356, 416, 438, 504, 609, 677]\n",
            "Severidade para cada subsistema: [0.5, 0.5, 0.75, 0.5, 0.5, 0.5, 0.25, 0.25, 0.5, 0.75, 0.75, 0.75, 0.5]\n",
            "Número de Sisemas: 5\n",
            "Fator:  [0.3296799539643607, 0.6321205588285577, 0.6321205588285577, 0.7768698398515702, 0.6321205588285577, 0.6321205588285577, 0.6321205588285577, 0.3934693402873666, 0.3934693402873666, 0.6321205588285577, 0.7768698398515702, 0.7768698398515702, 0.7768698398515702, 0.6321205588285577]\n",
            "Media de falhas:  [0, 0.00032, 16030.211017199943, 206369.5301981785, 273614.43677947257, 21972403.93983413, 25440060.86821802, 66541449.63563075, 83481145.29922065, 445088326.08824086, 614900985.9472245, 773578007.451548, 923427143.4202045, 1021344082.4121964, 996886919.0157915]\n",
            "Custo =  82920713887.81198\n",
            "\n",
            "=========================================================================\n",
            "\n",
            "Número de ciclos de manutenção: 15 5\n",
            "Tempos para manutenções preventivas: [0, 1, 79, 147, 179, 228, 259, 308, 354, 434, 498, 535, 569, 604, 647, 679]\n",
            "Severidade para cada subsistema: [0.5, 0.75, 0.25, 0.5, 0.5, 0.5, 0.5, 0.25, 0.75, 0.25, 0.25, 0.25, 0.75, 0.5, 0.5]\n",
            "Número de Sisemas: 5\n",
            "Fator:  [0.3296799539643607, 0.6321205588285577, 0.7768698398515702, 0.3934693402873666, 0.6321205588285577, 0.6321205588285577, 0.6321205588285577, 0.6321205588285577, 0.3934693402873666, 0.7768698398515702, 0.3934693402873666, 0.3934693402873666, 0.3934693402873666, 0.7768698398515702, 0.6321205588285577, 0.6321205588285577]\n",
            "Media de falhas:  [0, 0.00032, 964283.1175011045, 3714458.340635877, 4067929.301530346, 30322535.60345076, 35395925.737079695, 52890495.35071455, 79748112.59342027, 199167944.56318632, 995446754.0539647, 1012839632.9674281, 1756335306.5283012, 2729069969.851165, 4295391377.856768, 4329928050.649763, 4065238650.315083]\n"
          ]
        },
        {
          "output_type": "stream",
          "name": "stderr",
          "text": [
            "pyswarms.single.global_best:  82%|████████▏ |82/100, best_cost=4.68e+10"
          ]
        },
        {
          "output_type": "stream",
          "name": "stdout",
          "text": [
            "Custo =  426498731563.9208\n",
            "\n",
            "=========================================================================\n",
            "\n",
            "Número de ciclos de manutenção: 14 5\n",
            "Tempos para manutenções preventivas: [0, 7, 78, 147, 231, 265, 353, 386, 438, 500, 521, 566, 612, 681, 698]\n",
            "Severidade para cada subsistema: [0.5, 0.75, 0.25, 0.5, 0.5, 0.25, 0.75, 0.75, 0.75, 0.75, 0.25, 0.5, 0.5, 0.5]\n",
            "Número de Sisemas: 5\n",
            "Fator:  [0.3296799539643607, 0.6321205588285577, 0.7768698398515702, 0.3934693402873666, 0.6321205588285577, 0.6321205588285577, 0.3934693402873666, 0.7768698398515702, 0.7768698398515702, 0.7768698398515702, 0.7768698398515702, 0.3934693402873666, 0.6321205588285577, 0.6321205588285577, 0.6321205588285577]\n",
            "Media de falhas:  [0, 5.378240000000001, 795077.2307372587, 3636607.534131181, 10580572.629279207, 44501110.24055581, 111946814.88841769, 136792749.9634838, 525322826.41907823, 555743082.2529165, 563312973.8190463, 591405576.9459505, 629706409.7179251, 3663709591.5695553, 3786418499.8848557, 3461477317.998822]\n",
            "Custo =  267747053589.34836\n",
            "\n",
            "=========================================================================\n",
            "\n",
            "Número de ciclos de manutenção: 11 5\n",
            "Tempos para manutenções preventivas: [0, 78, 147, 152, 230, 260, 352, 445, 499, 655, 685, 708]\n",
            "Severidade para cada subsistema: [0.75, 0.25, 0.25, 0.5, 0.5, 0.25, 0.75, 0.25, 0.5, 0.5, 0.5]\n",
            "Número de Sisemas: 5\n",
            "Fator:  [0.3296799539643607, 0.7768698398515702, 0.3934693402873666, 0.3934693402873666, 0.6321205588285577, 0.6321205588285577, 0.3934693402873666, 0.7768698398515702, 0.3934693402873666, 0.6321205588285577, 0.6321205588285577, 0.6321205588285577]\n",
            "Media de falhas:  [0, 923895.7977600001, 9197032.564839965, 9209579.347559867, 52771809.59307956, 80639223.6055061, 152529580.82198578, 315354456.50994146, 997882544.7159003, 1429410912.2803402, 2819839019.260854, 2997914819.0171204, 2640703369.823272]\n",
            "Custo =  307828162316.5227\n",
            "\n",
            "=========================================================================\n",
            "\n",
            "Número de ciclos de manutenção: 13 5\n",
            "Tempos para manutenções preventivas: [0, 79, 95, 148, 220, 254, 286, 325, 355, 506, 628, 641, 688, 711]\n",
            "Severidade para cada subsistema: [0.75, 0.5, 0.25, 0.5, 0.5, 0.25, 0.5, 0.25, 0.75, 0.25, 0.5, 0.5, 0.5]\n",
            "Número de Sisemas: 5\n",
            "Fator:  [0.3296799539643607, 0.7768698398515702, 0.6321205588285577, 0.3934693402873666, 0.6321205588285577, 0.6321205588285577, 0.3934693402873666, 0.6321205588285577, 0.3934693402873666, 0.7768698398515702, 0.3934693402873666, 0.6321205588285577, 0.6321205588285577, 0.6321205588285577]\n",
            "Media de falhas:  [0, 984658.0476800001, 1350269.4582681092, 2068502.0234232047, 12259151.521738498, 40833807.21781979, 48493533.011988655, 64328625.6170262, 162483485.10386893, 716946359.6955516, 4490299821.338644, 4499951617.628035, 6686839854.723925, 6867912154.059981, 6500906085.771031]\n",
            "Custo =  392000705524.72723\n",
            "\n",
            "=========================================================================\n",
            "\n",
            "Número de ciclos de manutenção: 12 5\n",
            "Tempos para manutenções preventivas: [0, 35, 81, 113, 166, 247, 287, 359, 370, 418, 552, 634, 709]\n",
            "Severidade para cada subsistema: [0.5, 0.75, 0.5, 0.5, 0.5, 0.5, 0.25, 0.25, 0.5, 0.5, 0.5, 0.5]\n",
            "Número de Sisemas: 5\n",
            "Fator:  [0.3296799539643607, 0.6321205588285577, 0.7768698398515702, 0.6321205588285577, 0.6321205588285577, 0.6321205588285577, 0.6321205588285577, 0.3934693402873666, 0.3934693402873666, 0.6321205588285577, 0.6321205588285577, 0.6321205588285577, 0.6321205588285577]\n",
            "Media de falhas:  [0, 16807.0, 531974.1351721042, 812879.4193353776, 1746240.5588011737, 19994039.51262291, 30294300.78431288, 82607436.63586998, 88931231.98377986, 386866470.60588, 2848564581.432996, 3340487408.956381, 4009980017.026883, 3649510172.5838375]\n",
            "Custo =  178531495177.04453\n"
          ]
        },
        {
          "output_type": "stream",
          "name": "stderr",
          "text": [
            "pyswarms.single.global_best: 100%|██████████|100/100, best_cost=4.68e+10\n",
            "2023-09-30 16:48:25,580 - pyswarms.single.global_best - INFO - Optimization finished | best cost: 46753971964.2485, best pos: [6.23425371 6.348562   5.72574876 3.05349664 1.76713661 5.29004986\n",
            " 3.99905101 2.46978363 2.47442042 0.56611283 4.52274711 1.47320522\n",
            " 3.39511628 4.60855668 6.48777056 2.35263289 6.63204459 3.4731047\n",
            " 1.77531371 1.48697045 3.48409321 0.37499795 4.4251366  4.40086642]\n",
            "2023-09-30 16:48:25,583 - pyswarms.single.global_best - INFO - Optimize for 1 iters with {'c1': 0.5, 'c2': 0.3, 'w': 0.9}\n"
          ]
        },
        {
          "output_type": "stream",
          "name": "stdout",
          "text": [
            "\n",
            "=========================================================================\n",
            "\n",
            "Número de ciclos de manutenção: 11 5\n",
            "Tempos para manutenções preventivas: [0, 50, 82, 242, 277, 329, 407, 537, 556, 600, 689, 706]\n",
            "Severidade para cada subsistema: [0.5, 0.75, 0.5, 0.75, 0.25, 0.5, 0.5, 0.5, 0.5, 0.5, 0.5]\n",
            "Número de Sisemas: 5\n",
            "Fator:  [0.3296799539643607, 0.6321205588285577, 0.7768698398515702, 0.6321205588285577, 0.7768698398515702, 0.3934693402873666, 0.6321205588285577, 0.6321205588285577, 0.6321205588285577, 0.6321205588285577, 0.6321205588285577, 0.6321205588285577]\n",
            "Media de falhas:  [0, 100000.00000000001, 472732.86617442203, 80046884.01662463, 81686633.17888077, 105800343.3933742, 130581754.20170008, 2269651847.1906233, 2325757960.4229445, 2514679951.7980886, 3259134047.3495, 3387509400.435111, 3036796194.366996]\n",
            "Custo =  177060207341.96686\n",
            "\n",
            "=========================================================================\n",
            "\n",
            "Número de ciclos de manutenção: 11 5\n",
            "Tempos para manutenções preventivas: [0, 16, 56, 81, 165, 299, 326, 401, 547, 605, 683, 704]\n",
            "Severidade para cada subsistema: [0.5, 0.5, 0.75, 0.75, 0.75, 0.25, 0.5, 0.5, 0.5, 0.5, 0.5]\n",
            "Número de Sisemas: 5\n",
            "Fator:  [0.3296799539643607, 0.6321205588285577, 0.6321205588285577, 0.7768698398515702, 0.7768698398515702, 0.7768698398515702, 0.3934693402873666, 0.6321205588285577, 0.6321205588285577, 0.6321205588285577, 0.6321205588285577, 0.6321205588285577]\n",
            "Media de falhas:  [0, 335.54432, 107754.73306291274, 169667.90060794368, 6269145.4579886785, 52784542.129191704, 54674803.299791306, 76547197.52261783, 2662565636.1237254, 2931585452.596491, 3541797417.9595385, 3700052980.6353526, 3355814477.949779]\n",
            "Custo =  167225961839.61652\n",
            "\n",
            "=========================================================================\n",
            "\n",
            "Número de ciclos de manutenção: 10 5\n",
            "Tempos para manutenções preventivas: [0, 81, 245, 363, 407, 447, 494, 522, 605, 678, 703]\n",
            "Severidade para cada subsistema: [0.75, 0.5, 0.5, 0.5, 0.75, 0.75, 0.25, 0.5, 0.5, 0.5]\n",
            "Número de Sisemas: 5\n",
            "Fator:  [0.3296799539643607, 0.7768698398515702, 0.6321205588285577, 0.6321205588285577, 0.6321205588285577, 0.7768698398515702, 0.7768698398515702, 0.3934693402873666, 0.6321205588285577, 0.6321205588285577, 0.6321205588285577]\n",
            "Media de falhas:  [0, 1115771.00832, 159592132.42598957, 208548768.51893926, 251405144.7636456, 305992945.0700968, 402755403.4015712, 413695969.7712361, 507896808.78935903, 3653207606.018173, 3842321693.163623, 3501312163.8975277]\n",
            "Custo =  245119719206.95657\n",
            "\n",
            "=========================================================================\n",
            "\n",
            "Número de ciclos de manutenção: 12 5\n",
            "Tempos para manutenções preventivas: [0, 22, 79, 221, 252, 278, 320, 443, 534, 563, 608, 680, 708]\n",
            "Severidade para cada subsistema: [0.25, 0.75, 0.5, 0.5, 0.75, 0.5, 0.75, 0.5, 0.25, 0.5, 0.5, 0.5]\n",
            "Número de Sisemas: 5\n",
            "Fator:  [0.3296799539643607, 0.3934693402873666, 0.7768698398515702, 0.6321205588285577, 0.6321205588285577, 0.7768698398515702, 0.6321205588285577, 0.7768698398515702, 0.6321205588285577, 0.3934693402873666, 0.6321205588285577, 0.6321205588285577, 0.6321205588285577]\n",
            "Media de falhas:  [0, 1649.16224, 609799.0003206843, 79588982.61521211, 80564845.81182837, 85915999.15037727, 102336188.92159782, 190590742.52284777, 491920690.1702063, 507074793.69306964, 711065782.4612801, 3852375593.616503, 4071740325.930019, 3714528876.736171]\n",
            "Custo =  260203921054.93048\n",
            "\n",
            "=========================================================================\n",
            "\n",
            "Número de ciclos de manutenção: 13 5\n",
            "Tempos para manutenções preventivas: [0, 18, 79, 104, 148, 226, 256, 371, 445, 500, 557, 606, 688, 706]\n",
            "Severidade para cada subsistema: [0.25, 0.75, 0.5, 0.25, 0.5, 0.5, 0.75, 0.75, 0.5, 0.25, 0.5, 0.5, 0.5]\n",
            "Número de Sisemas: 5\n",
            "Fator:  [0.3296799539643607, 0.3934693402873666, 0.7768698398515702, 0.6321205588285577, 0.3934693402873666, 0.6321205588285577, 0.6321205588285577, 0.7768698398515702, 0.7768698398515702, 0.6321205588285577, 0.3934693402873666, 0.6321205588285577, 0.6321205588285577, 0.6321205588285577]\n",
            "Media de falhas:  [0, 604.6617600000001, 666899.1146334849, 1245644.8974021482, 1682199.2681811508, 14571173.330312233, 40744590.471436575, 166524606.06351182, 283571880.9430824, 308465504.4917403, 346484648.25480366, 568592087.9079199, 4297794543.295353, 4434030149.348935, 4083316943.28082]\n",
            "Custo =  263059741677.89102\n",
            "\n",
            "=========================================================================\n",
            "\n",
            "Número de ciclos de manutenção: 10 5\n",
            "Tempos para manutenções preventivas: [0, 78, 93, 149, 228, 255, 324, 445, 621, 630, 707]\n",
            "Severidade para cada subsistema: [0.75, 0.5, 0.25, 0.5, 0.5, 0.5, 0.75, 0.5, 0.5, 0.5]\n",
            "Número de Sisemas: 5\n",
            "Fator:  [0.3296799539643607, 0.7768698398515702, 0.6321205588285577, 0.3934693402873666, 0.6321205588285577, 0.6321205588285577, 0.6321205588285577, 0.7768698398515702, 0.6321205588285577, 0.6321205588285577, 0.6321205588285577]\n",
            "Media de falhas:  [0, 923895.7977600001, 1240166.3572655274, 2091197.146992046, 15662464.852366192, 38957700.57351851, 73238363.98873931, 321369742.1417248, 1731410436.6919937, 1737454659.7039843, 2421486180.6530313, 2067526884.9356]\n",
            "Custo =  98019710094.51752\n",
            "\n",
            "=========================================================================\n",
            "\n",
            "Número de ciclos de manutenção: 15 5\n",
            "Tempos para manutenções preventivas: [0, 26, 55, 79, 92, 149, 157, 220, 247, 304, 358, 376, 444, 534, 637, 706]\n",
            "Severidade para cada subsistema: [0.5, 0.5, 0.75, 0.5, 0.25, 0.5, 0.5, 0.5, 0.5, 0.25, 0.5, 0.75, 0.75, 0.5, 0.5]\n",
            "Número de Sisemas: 5\n",
            "Fator:  [0.3296799539643607, 0.6321205588285577, 0.6321205588285577, 0.7768698398515702, 0.6321205588285577, 0.3934693402873666, 0.6321205588285577, 0.6321205588285577, 0.6321205588285577, 0.6321205588285577, 0.3934693402873666, 0.6321205588285577, 0.7768698398515702, 0.7768698398515702, 0.6321205588285577, 0.6321205588285577]\n",
            "Media de falhas:  [0, 3802.0403200000005, 72321.78283958208, 125424.25053211598, 160922.84717343326, 1056033.1968146355, 1210606.663457862, 30439369.300157297, 34015559.60050028, 54653409.522561885, 89191381.2355918, 100570801.42074601, 630974512.3326764, 927700484.3807629, 1093154966.694711, 1208850310.116244, 858137104.0481291]\n",
            "Custo =  79845805027.87665\n",
            "\n",
            "=========================================================================\n",
            "\n",
            "Número de ciclos de manutenção: 17 5\n",
            "Tempos para manutenções preventivas: [0, 3, 44, 81, 96, 149, 210, 279, 355, 385, 416, 444, 491, 539, 542, 644, 689, 709]\n",
            "Severidade para cada subsistema: [0.75, 0.5, 0.75, 0.5, 0.25, 0.5, 0.5, 0.25, 0.25, 0.5, 0.75, 0.5, 0.5, 0.5, 0.5, 0.5, 0.5]\n",
            "Número de Sisemas: 5\n",
            "Fator:  [0.3296799539643607, 0.7768698398515702, 0.6321205588285577, 0.7768698398515702, 0.6321205588285577, 0.3934693402873666, 0.6321205588285577, 0.6321205588285577, 0.3934693402873666, 0.3934693402873666, 0.6321205588285577, 0.7768698398515702, 0.6321205588285577, 0.6321205588285577, 0.6321205588285577, 0.6321205588285577, 0.6321205588285577, 0.6321205588285577]\n",
            "Media de falhas:  [0, 0.07776000000000001, 47102.75241630741, 119051.86765604265, 169270.89753804705, 898315.2472586184, 7407360.362470765, 90121454.79057622, 144689936.8014536, 166718470.5025176, 358909236.9026805, 585512607.8951209, 680056223.6056544, 706075268.0104864, 713723468.4813068, 1408664693.8078294, 1739642526.335811, 1894280911.2782555, 1533811066.8352098]\n",
            "Custo =  189523416029.59207\n",
            "\n",
            "=========================================================================\n",
            "\n",
            "Número de ciclos de manutenção: 16 5\n",
            "Tempos para manutenções preventivas: [0, 3, 47, 81, 103, 147, 316, 355, 380, 403, 445, 539, 547, 613, 638, 686, 708]\n",
            "Severidade para cada subsistema: [0.75, 0.5, 0.75, 0.5, 0.25, 0.25, 0.25, 0.25, 0.5, 0.75, 0.25, 0.5, 0.5, 0.5, 0.5, 0.5]\n",
            "Número de Sisemas: 5\n",
            "Fator:  [0.3296799539643607, 0.7768698398515702, 0.6321205588285577, 0.7768698398515702, 0.6321205588285577, 0.3934693402873666, 0.3934693402873666, 0.3934693402873666, 0.3934693402873666, 0.6321205588285577, 0.7768698398515702, 0.3934693402873666, 0.6321205588285577, 0.6321205588285577, 0.6321205588285577, 0.6321205588285577, 0.6321205588285577]\n",
            "Media de falhas:  [0, 0.07776000000000001, 65986.77463889084, 121705.99730636319, 233511.15940577624, 662932.4809379657, 177296260.36651644, 303482601.56509197, 411881011.7124547, 538627325.884994, 876371527.4712992, 1202473471.349165, 1205532154.7699175, 3105771004.93464, 3234842801.3638, 3584797940.2640095, 3754735636.0478826, 3397524186.8540344]\n",
            "Custo =  313261726791.55914\n"
          ]
        },
        {
          "output_type": "stream",
          "name": "stderr",
          "text": [
            "pyswarms.single.global_best: 100%|██████████|1/1, best_cost=4.68e+10\n",
            "2023-09-30 16:48:25,602 - pyswarms.single.global_best - INFO - Optimization finished | best cost: 46753971964.2485, best pos: [6.23430823 6.35027841 5.72603332 3.0535477  1.76997857 5.29218225\n",
            " 3.99837559 2.48038584 2.47446468 0.57432941 4.54473835 1.47300516\n",
            " 3.0732007  4.6089584  6.48786441 2.34046942 4.15277019 5.3966763\n",
            " 1.77526541 1.48666517 3.48427094 0.37237273 4.42707576 4.40054882]\n",
            "2023-09-30 16:48:25,604 - pyswarms.single.global_best - INFO - Optimize for 1 iters with {'c1': 0.5, 'c2': 0.3, 'w': 0.9}\n"
          ]
        },
        {
          "output_type": "stream",
          "name": "stdout",
          "text": [
            "\n",
            "=========================================================================\n",
            "\n",
            "Número de ciclos de manutenção: 15 5\n",
            "Tempos para manutenções preventivas: [0, 4, 59, 81, 114, 146, 303, 357, 373, 393, 446, 532, 542, 636, 680, 701]\n",
            "Severidade para cada subsistema: [0.75, 0.5, 0.75, 0.5, 0.25, 0.25, 0.25, 0.25, 0.5, 0.75, 0.25, 0.5, 0.5, 0.5, 0.5]\n",
            "Número de Sisemas: 5\n",
            "Fator:  [0.3296799539643607, 0.7768698398515702, 0.6321205588285577, 0.7768698398515702, 0.6321205588285577, 0.3934693402873666, 0.3934693402873666, 0.3934693402873666, 0.3934693402873666, 0.6321205588285577, 0.7768698398515702, 0.3934693402873666, 0.6321205588285577, 0.6321205588285577, 0.6321205588285577, 0.6321205588285577]\n",
            "Media de falhas:  [0, 0.32768, 204326.65886688858, 221406.26023630163, 526414.9768618782, 723040.6835913111, 133496788.2873064, 309640662.3186253, 374871063.9492346, 474891266.5299357, 900608855.2329979, 1175523318.2969446, 1179282465.6028118, 4270991525.782684, 4577690162.970953, 4733297848.948087, 4398730414.947355]\n",
            "Custo =  301575169887.6597\n"
          ]
        },
        {
          "output_type": "stream",
          "name": "stderr",
          "text": [
            "pyswarms.single.global_best: 100%|██████████|1/1, best_cost=4.68e+10\n",
            "2023-09-30 16:48:25,618 - pyswarms.single.global_best - INFO - Optimization finished | best cost: 46753971964.2485, best pos: [6.23476011 6.35100024 5.72775812 3.0535926  1.77490305 5.29234492\n",
            " 3.99882094 2.48291053 2.47447414 0.57365847 4.55508181 1.47144747\n",
            " 3.1328508  4.60786759 6.48774166 2.34056145 1.89744081 5.98135901\n",
            " 1.77510768 1.48644895 3.48490652 0.37115489 4.42584363 4.40017811]\n",
            "2023-09-30 16:48:25,619 - pyswarms.single.global_best - INFO - Optimize for 1 iters with {'c1': 0.5, 'c2': 0.3, 'w': 0.9}\n"
          ]
        },
        {
          "output_type": "stream",
          "name": "stdout",
          "text": [
            "\n",
            "=========================================================================\n",
            "\n",
            "Número de ciclos de manutenção: 12 5\n",
            "Tempos para manutenções preventivas: [0, 13, 52, 81, 144, 281, 358, 494, 519, 604, 652, 679, 697]\n",
            "Severidade para cada subsistema: [0.75, 0.5, 0.75, 0.25, 0.75, 0.25, 0.25, 0.25, 0.5, 0.5, 0.5, 0.5]\n",
            "Número de Sisemas: 5\n",
            "Fator:  [0.3296799539643607, 0.7768698398515702, 0.6321205588285577, 0.7768698398515702, 0.3934693402873666, 0.7768698398515702, 0.3934693402873666, 0.3934693402873666, 0.3934693402873666, 0.6321205588285577, 0.6321205588285577, 0.6321205588285577, 0.6321205588285577]\n",
            "Media de falhas:  [0, 118.81376000000002, 79240.97967368786, 114486.16725981855, 2309126.5532745384, 46583791.41802126, 297358968.31142783, 446361986.9538337, 827227506.6581602, 3106287318.51226, 4902782136.4912615, 5081792401.14878, 5211281369.480598, 4889539836.405656]\n",
            "Custo =  405314087769.18964\n"
          ]
        },
        {
          "output_type": "stream",
          "name": "stderr",
          "text": [
            "pyswarms.single.global_best: 100%|██████████|1/1, best_cost=4.68e+10\n",
            "2023-09-30 16:48:25,644 - pyswarms.single.global_best - INFO - Optimization finished | best cost: 46753971964.2485, best pos: [6.23510762 6.3510312  5.72886692 3.05361065 1.77843725 5.29200872\n",
            " 3.99927969 2.48313439 2.47448082 0.57126344 4.5627886  1.47019486\n",
            " 3.26478004 4.6070521  6.48763372 2.34133329 5.86519893 5.94963967\n",
            " 1.77497069 1.4862597  3.4852594  0.37115061 4.42465776 4.40002001]\n"
          ]
        },
        {
          "output_type": "stream",
          "name": "stdout",
          "text": [
            "\n",
            "=========================================================================\n",
            "\n",
            "Número de ciclos de manutenção: 11 5\n",
            "Tempos para manutenções preventivas: [0, 24, 44, 82, 143, 209, 294, 356, 390, 509, 683, 697]\n",
            "Severidade para cada subsistema: [0.75, 0.5, 0.75, 0.25, 0.5, 0.5, 0.25, 0.5, 0.5, 0.5, 0.5]\n",
            "Número de Sisemas: 5\n",
            "Fator:  [0.3296799539643607, 0.7768698398515702, 0.6321205588285577, 0.7768698398515702, 0.3934693402873666, 0.6321205588285577, 0.6321205588285577, 0.3934693402873666, 0.6321205588285577, 0.6321205588285577, 0.6321205588285577, 0.6321205588285577]\n",
            "Media de falhas:  [0, 2548.0396800000003, 21789.159874471185, 101760.82556956401, 2108962.70790096, 4977317.24264982, 130778708.70058554, 171687701.85217246, 198452709.61214763, 1779630356.1360643, 3674725821.0732937, 3774524648.9964094, 3452783115.921467]\n",
            "Custo =  150522216204.81265\n"
          ]
        },
        {
          "output_type": "stream",
          "name": "stderr",
          "text": [
            "2023-09-30 16:48:25,646 - pyswarms.single.global_best - INFO - Optimize for 1 iters with {'c1': 0.5, 'c2': 0.3, 'w': 0.9}\n",
            "pyswarms.single.global_best: 100%|██████████|1/1, best_cost=4.68e+10\n",
            "2023-09-30 16:48:25,659 - pyswarms.single.global_best - INFO - Optimization finished | best cost: 46753971964.2485, best pos: [6.23518739 6.35067373 5.72970299 3.05360366 1.77834036 5.29130212\n",
            " 3.99962812 2.48193508 2.47447316 0.56861178 4.56329719 1.46995325\n",
            " 3.40272738 4.60645902 6.48755668 2.34310522 1.76838107 5.2631801\n",
            " 1.77485836 1.48628277 3.48540774 0.37133531 4.42371301 4.39992216]\n",
            "2023-09-30 16:48:25,662 - pyswarms.single.global_best - INFO - Optimize for 1 iters with {'c1': 0.5, 'c2': 0.3, 'w': 0.9}\n"
          ]
        },
        {
          "output_type": "stream",
          "name": "stdout",
          "text": [
            "\n",
            "=========================================================================\n",
            "\n",
            "Número de ciclos de manutenção: 10 5\n",
            "Tempos para manutenções preventivas: [0, 82, 118, 141, 163, 207, 354, 397, 616, 636, 701]\n",
            "Severidade para cada subsistema: [0.75, 0.5, 0.25, 0.25, 0.5, 0.25, 0.5, 0.75, 0.75, 0.5]\n",
            "Número de Sisemas: 5\n",
            "Fator:  [0.3296799539643607, 0.7768698398515702, 0.6321205588285577, 0.3934693402873666, 0.3934693402873666, 0.6321205588285577, 0.3934693402873666, 0.6321205588285577, 0.7768698398515702, 0.7768698398515702, 0.6321205588285577]\n",
            "Media de falhas:  [0, 1186367.49824, 3019011.997014414, 3108434.059121076, 3692184.8923652293, 19714373.326522473, 491008841.81758344, 528940281.3875889, 6845876369.960342, 6946536789.827043, 7049476659.321963, 7019684581.637749]\n",
            "Custo =  161217153649.144\n"
          ]
        },
        {
          "output_type": "stream",
          "name": "stderr",
          "text": [
            "pyswarms.single.global_best: 100%|██████████|1/1, best_cost=4.68e+10\n",
            "2023-09-30 16:48:25,683 - pyswarms.single.global_best - INFO - Optimization finished | best cost: 46753971964.2485, best pos: [6.2351827  6.35017119 5.72989049 3.05358902 1.77598708 5.29051542\n",
            " 3.99992801 2.47857342 2.47446621 0.56563021 4.55357426 1.47034202\n",
            " 3.52549391 4.60595109 6.48752315 2.34502222 3.86768021 4.35400553\n",
            " 1.77483892 1.48632899 3.48532892 0.37248157 4.42303181 4.39994439]\n",
            "2023-09-30 16:48:25,685 - pyswarms.single.global_best - INFO - Optimize for 1 iters with {'c1': 0.5, 'c2': 0.3, 'w': 0.9}\n"
          ]
        },
        {
          "output_type": "stream",
          "name": "stdout",
          "text": [
            "\n",
            "=========================================================================\n",
            "\n",
            "Número de ciclos de manutenção: 13 5\n",
            "Tempos para manutenções preventivas: [0, 58, 82, 114, 140, 206, 328, 352, 365, 404, 567, 578, 656, 706]\n",
            "Severidade para cada subsistema: [0.25, 0.75, 0.5, 0.25, 0.5, 0.75, 0.25, 0.75, 0.5, 0.25, 0.25, 0.75, 0.5]\n",
            "Número de Sisemas: 5\n",
            "Fator:  [0.3296799539643607, 0.3934693402873666, 0.7768698398515702, 0.6321205588285577, 0.3934693402873666, 0.6321205588285577, 0.7768698398515702, 0.3934693402873666, 0.7768698398515702, 0.6321205588285577, 0.3934693402873666, 0.3934693402873666, 0.7768698398515702, 0.6321205588285577]\n",
            "Media de falhas:  [0, 210034.16576, 496139.80728655506, 1566114.5836010333, 1677925.1081663657, 8729946.155869262, 292854776.611062, 304944168.37432396, 306044798.150761, 518894443.32350385, 849643981.7776977, 886665310.2093037, 3818942256.345698, 6395272951.224651, 6364346130.8113165]\n",
            "Custo =  413365906938.0765\n"
          ]
        },
        {
          "output_type": "stream",
          "name": "stderr",
          "text": [
            "pyswarms.single.global_best: 100%|██████████|1/1, best_cost=4.68e+10\n",
            "2023-09-30 16:48:25,705 - pyswarms.single.global_best - INFO - Optimization finished | best cost: 46753971964.2485, best pos: [6.23511956 6.34935708 5.72964447 3.0535507  1.77361101 5.2897957\n",
            " 4.00008962 2.47390956 2.474458   0.56302526 4.54428539 1.47136516\n",
            " 3.6311751  4.60568765 6.48755971 2.34710191 5.21532719 3.47940338\n",
            " 1.77492732 1.48641331 3.48499524 0.37384224 4.42255142 4.4001859 ]\n",
            "2023-09-30 16:48:25,706 - pyswarms.single.global_best - INFO - Optimize for 1 iters with {'c1': 0.5, 'c2': 0.3, 'w': 0.9}\n"
          ]
        },
        {
          "output_type": "stream",
          "name": "stdout",
          "text": [
            "\n",
            "=========================================================================\n",
            "\n",
            "Número de ciclos de manutenção: 13 5\n",
            "Tempos para manutenções preventivas: [0, 33, 82, 110, 139, 174, 206, 349, 363, 418, 486, 557, 587, 714]\n",
            "Severidade para cada subsistema: [0.25, 0.75, 0.5, 0.25, 0.5, 0.5, 0.25, 0.5, 0.5, 0.75, 0.25, 0.25, 0.5]\n",
            "Número de Sisemas: 5\n",
            "Fator:  [0.3296799539643607, 0.3934693402873666, 0.7768698398515702, 0.6321205588285577, 0.3934693402873666, 0.6321205588285577, 0.6321205588285577, 0.3934693402873666, 0.6321205588285577, 0.6321205588285577, 0.7768698398515702, 0.3934693402873666, 0.3934693402873666, 0.6321205588285577]\n",
            "Media de falhas:  [0, 12523.325760000002, 593100.4191669014, 1404055.1739848717, 1542041.830509118, 2947402.386824306, 14506351.495996037, 174112075.2985797, 181678830.9564316, 520969758.6114309, 665127349.654206, 917853353.7742914, 936337958.4697063, 7520345584.021782, 3704240452.288169]\n",
            "Custo =  399542709392.45447\n"
          ]
        },
        {
          "output_type": "stream",
          "name": "stderr",
          "text": [
            "pyswarms.single.global_best: 100%|██████████|1/1, best_cost=4.68e+10\n",
            "2023-09-30 16:48:25,724 - pyswarms.single.global_best - INFO - Optimization finished | best cost: 46753971964.2485, best pos: [6.23492423 6.34854557 5.72850055 3.05350597 1.77122329 5.28918746\n",
            " 4.00001856 2.46958919 2.47444722 0.56147565 4.53172612 1.47234471\n",
            " 3.72429321 4.60548393 6.48765324 2.34964748 6.08044207 2.69095114\n",
            " 1.77500821 1.4866021  3.48452519 0.375181   4.42270703 4.40055464]\n",
            "2023-09-30 16:48:25,725 - pyswarms.single.global_best - INFO - Optimize for 1 iters with {'c1': 0.5, 'c2': 0.3, 'w': 0.9}\n"
          ]
        },
        {
          "output_type": "stream",
          "name": "stdout",
          "text": [
            "\n",
            "=========================================================================\n",
            "\n",
            "Número de ciclos de manutenção: 8 5\n",
            "Tempos para manutenções preventivas: [0, 81, 104, 138, 206, 345, 551, 596, 618]\n",
            "Severidade para cada subsistema: [0.75, 0.5, 0.25, 0.5, 0.25, 0.25, 0.25, 0.75]\n",
            "Número de Sisemas: 5\n",
            "Fator:  [0.3296799539643607, 0.7768698398515702, 0.6321205588285577, 0.3934693402873666, 0.6321205588285577, 0.3934693402873666, 0.3934693402873666, 0.3934693402873666, 0.7768698398515702]\n",
            "Media de falhas:  [0, 1115771.00832, 1847711.36884312, 2041596.0676102624, 9495663.628603572, 409690887.8047616, 1707849262.9686267, 2882694936.202319, 3561536792.829372, 3045045030.738911]\n",
            "Custo =  379999512517.374\n"
          ]
        },
        {
          "output_type": "stream",
          "name": "stderr",
          "text": [
            "pyswarms.single.global_best: 100%|██████████|1/1, best_cost=4.68e+10\n",
            "2023-09-30 16:48:25,743 - pyswarms.single.global_best - INFO - Optimization finished | best cost: 46753971964.2485, best pos: [6.23455252 6.34781923 5.72744485 3.05346313 1.76824251 5.28864357\n",
            " 3.99992693 2.46575244 2.47443435 0.56116583 4.5181586  1.47322983\n",
            " 3.80704897 4.60551553 6.48777014 2.35226082 6.30968868 2.08377625\n",
            " 1.77515311 1.48680409 3.48406161 0.37634314 4.42312984 4.40093239]\n",
            "2023-09-30 16:48:25,745 - pyswarms.single.global_best - INFO - Optimize for 1 iters with {'c1': 0.5, 'c2': 0.3, 'w': 0.9}\n"
          ]
        },
        {
          "output_type": "stream",
          "name": "stdout",
          "text": [
            "\n",
            "=========================================================================\n",
            "\n",
            "Número de ciclos de manutenção: 13 5\n",
            "Tempos para manutenções preventivas: [0, 81, 96, 138, 207, 287, 341, 392, 492, 516, 547, 616, 649, 662]\n",
            "Severidade para cada subsistema: [0.75, 0.5, 0.25, 0.5, 0.25, 0.25, 0.75, 0.5, 0.5, 0.25, 0.25, 0.25, 0.75]\n",
            "Número de Sisemas: 5\n",
            "Fator:  [0.3296799539643607, 0.7768698398515702, 0.6321205588285577, 0.3934693402873666, 0.6321205588285577, 0.3934693402873666, 0.3934693402873666, 0.7768698398515702, 0.6321205588285577, 0.6321205588285577, 0.3934693402873666, 0.3934693402873666, 0.3934693402873666, 0.7768698398515702]\n",
            "Media de falhas:  [0, 1115771.00832, 1476082.6895727664, 1802960.1823860446, 9580786.642497651, 117021690.46873704, 145941047.56446007, 389408406.00106615, 1552941900.955973, 1561551772.4368403, 1650713880.6608043, 2006250494.1090734, 3233663964.742467, 3767162707.844897, 1871260973.3716636]\n",
            "Custo =  542581918827.09534\n"
          ]
        },
        {
          "output_type": "stream",
          "name": "stderr",
          "text": [
            "pyswarms.single.global_best: 100%|██████████|1/1, best_cost=4.68e+10\n",
            "2023-09-30 16:48:25,756 - pyswarms.single.global_best - INFO - Optimization finished | best cost: 46753971964.2485, best pos: [6.23421678 6.34730294 5.72624192 3.05343266 1.76526679 5.28822383\n",
            " 3.99962618 2.46344995 2.47441993 0.56127772 4.50682101 1.47402301\n",
            " 3.86207759 4.6056378  6.48787541 2.35469543 5.86121493 1.90815026\n",
            " 1.77529299 1.48700838 3.48364606 0.37715892 4.42355622 4.4012693 ]\n",
            "2023-09-30 16:48:25,757 - pyswarms.single.global_best - INFO - Optimize for 1 iters with {'c1': 0.5, 'c2': 0.3, 'w': 0.9}\n"
          ]
        },
        {
          "output_type": "stream",
          "name": "stdout",
          "text": [
            "\n",
            "=========================================================================\n",
            "\n",
            "Número de ciclos de manutenção: 12 5\n",
            "Tempos para manutenções preventivas: [0, 19, 81, 139, 171, 208, 338, 369, 404, 507, 546, 642, 663]\n",
            "Severidade para cada subsistema: [0.25, 0.75, 0.25, 0.25, 0.5, 0.25, 0.25, 0.75, 0.75, 0.25, 0.5, 0.75]\n",
            "Número de Sisemas: 5\n",
            "Fator:  [0.3296799539643607, 0.3934693402873666, 0.7768698398515702, 0.3934693402873666, 0.3934693402873666, 0.6321205588285577, 0.3934693402873666, 0.3934693402873666, 0.7768698398515702, 0.7768698398515702, 0.3934693402873666, 0.6321205588285577, 0.7768698398515702]\n",
            "Media de falhas:  [0, 792.3516800000001, 746792.9144735283, 5170487.043828848, 5479263.665480676, 19294157.986151546, 362001005.66342354, 381436799.3107303, 573318974.4302604, 1924749010.895795, 1944892435.6674218, 2093242558.274681, 2953664690.092316, 2739450988.9984426]\n",
            "Custo =  275088307819.27966\n"
          ]
        },
        {
          "output_type": "stream",
          "name": "stderr",
          "text": [
            "pyswarms.single.global_best: 100%|██████████|1/1, best_cost=4.68e+10\n",
            "2023-09-30 16:48:25,773 - pyswarms.single.global_best - INFO - Optimization finished | best cost: 46753971964.2485, best pos: [6.23392347 6.34718069 5.72509771 3.05340797 1.76292455 5.28797158\n",
            " 3.99931369 2.46316445 2.47440706 0.56216899 4.49720463 1.47458374\n",
            " 3.87591246 4.60581648 6.48794015 2.35668153 4.91505939 2.18346606\n",
            " 1.77542145 1.48718857 3.4833367  0.37784147 4.42439374 4.40150615]\n",
            "2023-09-30 16:48:25,790 - pyswarms.single.global_best - INFO - Optimize for 1 iters with {'c1': 0.5, 'c2': 0.3, 'w': 0.9}\n"
          ]
        },
        {
          "output_type": "stream",
          "name": "stdout",
          "text": [
            "\n",
            "=========================================================================\n",
            "\n",
            "Número de ciclos de manutenção: 16 5\n",
            "Tempos para manutenções preventivas: [0, 4, 32, 81, 141, 162, 311, 336, 409, 487, 535, 546, 598, 610, 633, 664, 694]\n",
            "Severidade para cada subsistema: [0.5, 0.25, 0.75, 0.25, 0.75, 0.25, 0.25, 0.75, 0.25, 0.25, 0.25, 0.25, 0.25, 0.75, 0.75, 0.75]\n",
            "Número de Sisemas: 5\n",
            "Fator:  [0.3296799539643607, 0.6321205588285577, 0.3934693402873666, 0.7768698398515702, 0.3934693402873666, 0.7768698398515702, 0.3934693402873666, 0.3934693402873666, 0.7768698398515702, 0.3934693402873666, 0.3934693402873666, 0.3934693402873666, 0.3934693402873666, 0.3934693402873666, 0.7768698398515702, 0.7768698398515702, 0.7768698398515702]\n",
            "Media de falhas:  [0, 0.32768, 8700.245456174029, 273888.4695612765, 5135097.392895069, 5252392.844955312, 298055704.34658444, 299938839.6770803, 707368830.7745258, 1586276000.487748, 1611627352.7928267, 1820449979.545215, 3188756791.4798927, 3543773566.328623, 4324574741.9595995, 5590965006.704752, 5625556187.970836, 5597330167.916067]\n",
            "Custo =  682579581819.3158\n"
          ]
        },
        {
          "output_type": "stream",
          "name": "stderr",
          "text": [
            "pyswarms.single.global_best:   0%|          |0/1, best_cost=4.68e+10"
          ]
        },
        {
          "output_type": "stream",
          "name": "stdout",
          "text": [
            "\n",
            "=========================================================================\n",
            "\n",
            "Número de ciclos de manutenção: 11 5\n",
            "Tempos para manutenções preventivas: [0, 49, 81, 142, 170, 304, 337, 411, 549, 593, 610, 693]\n",
            "Severidade para cada subsistema: [0.25, 0.75, 0.25, 0.25, 0.75, 0.25, 0.75, 0.25, 0.25, 0.75, 0.75]\n",
            "Número de Sisemas: 5\n",
            "Fator:  [0.3296799539643607, 0.3934693402873666, 0.7768698398515702, 0.3934693402873666, 0.3934693402873666, 0.7768698398515702, 0.3934693402873666, 0.7768698398515702, 0.3934693402873666, 0.3934693402873666, 0.7768698398515702, 0.7768698398515702]\n",
            "Media de falhas:  [0, 90392.07968000001, 445065.2509680865, 5537395.275522538, 5769534.754100954, 241868734.5763102, 329015504.0297478, 351901016.01912636, 2831885473.2916393, 2864003694.3645945, 3364312203.2368994, 7249068193.508109, 7221064348.951167]\n",
            "Custo =  400211555034.02466\n"
          ]
        },
        {
          "output_type": "stream",
          "name": "stderr",
          "text": [
            "\rpyswarms.single.global_best: 100%|██████████|1/1, best_cost=4.68e+10\n",
            "2023-09-30 16:48:25,926 - pyswarms.single.global_best - INFO - Optimization finished | best cost: 46753971964.2485, best pos: [6.23367203 6.34725349 5.72407215 3.05340543 1.76128291 5.28791878\n",
            " 3.99899735 2.46366921 2.47439678 0.56348241 4.48927725 1.47506369\n",
            " 3.79533124 4.60621096 6.48796117 2.35826625 3.57249109 2.79558212\n",
            " 1.77551175 1.48731458 3.48307815 0.37765392 4.4253416  4.40164582]\n",
            "2023-09-30 16:48:25,929 - pyswarms.single.global_best - INFO - Optimize for 1 iters with {'c1': 0.5, 'c2': 0.3, 'w': 0.9}\n",
            "pyswarms.single.global_best:   0%|          |0/1"
          ]
        },
        {
          "output_type": "stream",
          "name": "stdout",
          "text": [
            "\n",
            "=========================================================================\n",
            "\n",
            "Número de ciclos de manutenção: 10 5\n",
            "Tempos para manutenções preventivas: [0, 45, 81, 144, 311, 338, 363, 406, 483, 554, 587]\n",
            "Severidade para cada subsistema: [0.25, 0.75, 0.25, 0.25, 0.25, 0.5, 0.75, 0.25, 0.25, 0.25]\n",
            "Número de Sisemas: 5\n",
            "Fator:  [0.3296799539643607, 0.3934693402873666, 0.7768698398515702, 0.3934693402873666, 0.3934693402873666, 0.3934693402873666, 0.6321205588285577, 0.7768698398515702, 0.3934693402873666, 0.3934693402873666, 0.3934693402873666]\n",
            "Media de falhas:  [0, 59049.00000000001, 456820.1160980552, 6037273.5913015725, 106220276.92512691, 178977276.54873586, 269096213.5669322, 507498262.21378684, 673881835.4684141, 727660777.8134053, 1546612339.3657856, 1906142257.0429077]\n",
            "Custo =  271742681710.0215\n"
          ]
        },
        {
          "output_type": "stream",
          "name": "stderr",
          "text": [
            "pyswarms.single.global_best: 100%|██████████|1/1, best_cost=4.68e+10\n",
            "2023-09-30 16:48:25,947 - pyswarms.single.global_best - INFO - Optimization finished | best cost: 46753971964.2485, best pos: [6.23359971 6.3473935  5.72348382 3.05340869 1.76136704 5.28793006\n",
            " 3.99871485 2.46518248 2.47439359 0.5652092  4.49170597 1.47504967\n",
            " 3.70088103 4.60723683 6.48797655 2.35943933 2.28092794 3.49943759\n",
            " 1.77558673 1.48737414 3.48299526 0.37700169 4.42617726 4.40168378]\n",
            "2023-09-30 16:48:25,948 - pyswarms.single.global_best - INFO - Optimize for 1 iters with {'c1': 0.5, 'c2': 0.3, 'w': 0.9}\n",
            "pyswarms.single.global_best:   0%|          |0/1, best_cost=4.68e+10"
          ]
        },
        {
          "output_type": "stream",
          "name": "stdout",
          "text": [
            "\n",
            "=========================================================================\n",
            "\n",
            "Número de ciclos de manutenção: 12 5\n",
            "Tempos para manutenções preventivas: [0, 1, 43, 81, 145, 285, 303, 340, 384, 401, 559, 581, 641]\n",
            "Severidade para cada subsistema: [0.25, 0.25, 0.75, 0.25, 0.75, 0.75, 0.25, 0.75, 0.75, 0.25, 0.25, 0.75]\n",
            "Número de Sisemas: 5\n",
            "Fator:  [0.3296799539643607, 0.3934693402873666, 0.3934693402873666, 0.7768698398515702, 0.3934693402873666, 0.7768698398515702, 0.7768698398515702, 0.3934693402873666, 0.7768698398515702, 0.7768698398515702, 0.3934693402873666, 0.3934693402873666, 0.7768698398515702]\n",
            "Media de falhas:  [0, 0.00032, 45266.76746782294, 387177.5886094289, 6225107.659038203, 54883076.27002489, 86540505.06135131, 90097003.91283342, 97210544.64363265, 189818765.684349, 485019144.2865789, 497122741.27896124, 2575065638.671159, 1360756796.610805]\n",
            "Custo =  298324493065.8701\n"
          ]
        },
        {
          "output_type": "stream",
          "name": "stderr",
          "text": [
            "\rpyswarms.single.global_best: 100%|██████████|1/1, best_cost=4.68e+10\n",
            "2023-09-30 16:48:25,960 - pyswarms.single.global_best - INFO - Optimization finished | best cost: 46753971964.2485, best pos: [6.23369304 6.3477461  5.72352592 3.05342399 1.76242177 5.28847863\n",
            " 3.99850649 2.46728357 2.47439552 0.56678064 4.50000674 1.47454038\n",
            " 3.57203838 4.60824844 6.48793639 2.35919347 0.59378658 4.12880117\n",
            " 1.77557907 1.4873181  3.48324966 0.37604596 4.42665123 4.40152506]\n",
            "2023-09-30 16:48:25,962 - pyswarms.single.global_best - INFO - Optimize for 1 iters with {'c1': 0.5, 'c2': 0.3, 'w': 0.9}\n",
            "pyswarms.single.global_best:   0%|          |0/1, best_cost=4.68e+10"
          ]
        },
        {
          "output_type": "stream",
          "name": "stdout",
          "text": [
            "\n",
            "=========================================================================\n",
            "\n",
            "Número de ciclos de manutenção: 12 5\n",
            "Tempos para manutenções preventivas: [0, 43, 81, 146, 274, 313, 342, 366, 392, 482, 564, 577, 629]\n",
            "Severidade para cada subsistema: [0.25, 0.75, 0.25, 0.25, 0.25, 0.25, 0.25, 0.75, 0.25, 0.25, 0.25, 0.5]\n",
            "Número de Sisemas: 5\n",
            "Fator:  [0.3296799539643607, 0.3934693402873666, 0.7768698398515702, 0.3934693402873666, 0.3934693402873666, 0.3934693402873666, 0.3934693402873666, 0.3934693402873666, 0.7768698398515702, 0.3934693402873666, 0.3934693402873666, 0.3934693402873666, 0.6321205588285577]\n",
            "Media de falhas:  [0, 47042.70176, 467063.7835062074, 6571737.010280228, 40723839.476864174, 116549820.51009528, 198268273.76699632, 287832269.07652014, 415459540.13289654, 1382729051.7397628, 1456423297.2085917, 1763743791.8954659, 3442021746.9491463, 2597573577.008743]\n",
            "Custo =  441821010650.90125\n"
          ]
        },
        {
          "output_type": "stream",
          "name": "stderr",
          "text": [
            "\rpyswarms.single.global_best: 100%|██████████|1/1, best_cost=4.68e+10\n",
            "2023-09-30 16:48:25,975 - pyswarms.single.global_best - INFO - Optimization finished | best cost: 46753971964.2485, best pos: [6.23378428 6.34816999 5.72369413 3.0534572  1.76427732 5.28904316\n",
            " 3.99835546 2.4699182  2.47440395 0.56801664 4.51327082 1.47370976\n",
            " 3.41405537 4.6092401  6.48785695 2.35865939 6.32089291 4.65854721\n",
            " 1.77556651 1.48722902 3.48358685 0.37498754 4.42669631 4.40119836]\n",
            "2023-09-30 16:48:25,977 - pyswarms.single.global_best - INFO - Optimize for 1 iters with {'c1': 0.5, 'c2': 0.3, 'w': 0.9}\n",
            "pyswarms.single.global_best: 100%|██████████|1/1, best_cost=4.68e+10\n",
            "2023-09-30 16:48:25,991 - pyswarms.single.global_best - INFO - Optimization finished | best cost: 46753971964.2485, best pos: [6.23389384 6.34855944 5.72413503 3.0534899  1.76619494 5.28958801\n",
            " 3.99837119 2.4722552  2.47441246 0.56893667 4.52708138 1.47287889\n",
            " 3.27040733 4.60996576 6.48776424 2.3579587  4.56229175 5.07048873\n",
            " 1.77553217 1.48712905 3.48394157 0.37403512 4.42636806 4.40089955]\n",
            "2023-09-30 16:48:26,007 - pyswarms.single.global_best - INFO - Optimize for 1 iters with {'c1': 0.5, 'c2': 0.3, 'w': 0.9}\n"
          ]
        },
        {
          "output_type": "stream",
          "name": "stdout",
          "text": [
            "\n",
            "=========================================================================\n",
            "\n",
            "Número de ciclos de manutenção: 11 5\n",
            "Tempos para manutenções preventivas: [0, 81, 146, 153, 344, 385, 482, 516, 569, 575, 608, 630]\n",
            "Severidade para cada subsistema: [0.75, 0.25, 0.25, 0.25, 0.5, 0.75, 0.5, 0.25, 0.25, 0.25, 0.5]\n",
            "Número de Sisemas: 5\n",
            "Fator:  [0.3296799539643607, 0.7768698398515702, 0.3934693402873666, 0.3934693402873666, 0.3934693402873666, 0.6321205588285577, 0.7768698398515702, 0.6321205588285577, 0.3934693402873666, 0.3934693402873666, 0.3934693402873666, 0.6321205588285577]\n",
            "Media de falhas:  [0, 1115771.00832, 8696521.330004154, 8715851.979463425, 595636261.4016175, 779399781.8325667, 1819335231.9604065, 1898085605.9733722, 1934608801.8642795, 1954126835.5646164, 2897728032.2639318, 3631154161.875198, 2756383052.976075]\n",
            "Custo =  463031762048.41797\n"
          ]
        },
        {
          "output_type": "stream",
          "name": "stderr",
          "text": [
            "pyswarms.single.global_best: 100%|██████████|1/1, best_cost=4.68e+10\n",
            "2023-09-30 16:48:26,023 - pyswarms.single.global_best - INFO - Optimization finished | best cost: 46753971964.2485, best pos: [6.23401595 6.34891003 5.72465999 3.05352095 1.76793997 5.29013899\n",
            " 3.99839803 2.47393076 2.47442035 0.56903712 4.53838973 1.47221287\n",
            " 3.16893222 4.6106097  6.48768249 2.35616117 2.45307745 5.04489238\n",
            " 1.77543949 1.48702359 3.48426424 0.37345416 4.42582039 4.40062947]\n",
            "2023-09-30 16:48:26,025 - pyswarms.single.global_best - INFO - Optimize for 1 iters with {'c1': 0.5, 'c2': 0.3, 'w': 0.9}\n"
          ]
        },
        {
          "output_type": "stream",
          "name": "stdout",
          "text": [
            "\n",
            "=========================================================================\n",
            "\n",
            "Número de ciclos de manutenção: 7 5\n",
            "Tempos para manutenções preventivas: [0, 33, 81, 145, 346, 501, 574, 652]\n",
            "Severidade para cada subsistema: [0.25, 0.75, 0.25, 0.25, 0.25, 0.25, 0.75]\n",
            "Número de Sisemas: 5\n",
            "Fator:  [0.3296799539643607, 0.3934693402873666, 0.7768698398515702, 0.3934693402873666, 0.3934693402873666, 0.3934693402873666, 0.3934693402873666, 0.7768698398515702]\n",
            "Media de falhas:  [0, 12523.325760000002, 553299.9504464322, 6391230.020875206, 227804066.6055073, 2166636887.6598754, 3770413448.9494824, 6631033448.8103485, 5065486364.196657]\n",
            "Custo =  409855402717.57245\n"
          ]
        },
        {
          "output_type": "stream",
          "name": "stderr",
          "text": [
            "pyswarms.single.global_best: 100%|██████████|1/1, best_cost=4.68e+10\n",
            "2023-09-30 16:48:26,039 - pyswarms.single.global_best - INFO - Optimization finished | best cost: 46753971964.2485, best pos: [6.23401595 6.34891003 5.72465999 3.05352095 1.76793997 5.29013899\n",
            " 3.99839803 2.47393076 2.47442035 0.56903712 4.53838973 1.47221287\n",
            " 3.16893222 4.6106097  6.48768249 2.35616117 2.45307745 5.04489238\n",
            " 1.77543949 1.48702359 3.48426424 0.37345416 4.42582039 4.40062947]\n",
            "2023-09-30 16:48:26,041 - pyswarms.single.global_best - INFO - Optimize for 1 iters with {'c1': 0.5, 'c2': 0.3, 'w': 0.9}\n"
          ]
        },
        {
          "output_type": "stream",
          "name": "stdout",
          "text": [
            "\n",
            "=========================================================================\n",
            "\n",
            "Número de ciclos de manutenção: 11 5\n",
            "Tempos para manutenções preventivas: [0, 0, 30, 81, 144, 159, 347, 480, 512, 574, 653, 717]\n",
            "Severidade para cada subsistema: [0.25, 0.25, 0.75, 0.25, 0.25, 0.25, 0.75, 0.75, 0.25, 0.25, 0.5]\n",
            "Número de Sisemas: 5\n",
            "Fator:  [0.3296799539643607, 0.3934693402873666, 0.3934693402873666, 0.7768698398515702, 0.3934693402873666, 0.3934693402873666, 0.3934693402873666, 0.7768698398515702, 0.7768698398515702, 0.3934693402873666, 0.3934693402873666, 0.6321205588285577]\n",
            "Media de falhas:  [0, 0.0, 7776.000000000001, 514773.70461447735, 6095227.179817994, 6158685.483641605, 599276234.5957544, 1996698986.3977864, 2454774482.2484627, 2502960591.5291443, 2613777086.4706035, 6090472180.643686, 2151674708.9433203]\n",
            "Custo =  inf\n"
          ]
        },
        {
          "output_type": "stream",
          "name": "stderr",
          "text": [
            "pyswarms.single.global_best: 100%|██████████|1/1, best_cost=4.68e+10\n",
            "2023-09-30 16:48:26,056 - pyswarms.single.global_best - INFO - Optimization finished | best cost: 46753971964.2485, best pos: [6.23423285 6.34925116 5.72552504 3.05355027 1.76989279 5.29077271\n",
            " 3.99849443 2.47439388 2.47443134 0.56721759 4.54850561 1.47163798\n",
            " 3.1190267  4.6102155  6.48763747 2.35299416 6.51303722 4.01394144\n",
            " 1.77525524 1.4868382  3.48468416 0.37287213 4.42483943 4.40033584]\n",
            "2023-09-30 16:48:26,058 - pyswarms.single.global_best - INFO - Optimize for 1 iters with {'c1': 0.5, 'c2': 0.3, 'w': 0.9}\n"
          ]
        },
        {
          "output_type": "stream",
          "name": "stdout",
          "text": [
            "\n",
            "=========================================================================\n",
            "\n",
            "Número de ciclos de manutenção: 11 5\n",
            "Tempos para manutenções preventivas: [0, 24, 81, 143, 156, 284, 347, 385, 516, 576, 601, 648]\n",
            "Severidade para cada subsistema: [0.75, 0.75, 0.25, 0.75, 0.75, 0.25, 0.5, 0.75, 0.25, 0.5, 0.75]\n",
            "Número de Sisemas: 5\n",
            "Fator:  [0.3296799539643607, 0.7768698398515702, 0.7768698398515702, 0.3934693402873666, 0.7768698398515702, 0.7768698398515702, 0.3934693402873666, 0.6321205588285577, 0.7768698398515702, 0.3934693402873666, 0.6321205588285577, 0.7768698398515702]\n",
            "Media de falhas:  [0, 2548.0396800000003, 669579.6743161017, 1722367.1405741517, 1770229.1618024744, 174311563.1563738, 184296793.25335124, 189962874.675213, 2027091840.4361274, 2259631969.1943803, 2275701230.353878, 3992944263.9026213, 3826637296.7246275]\n",
            "Custo =  240928769007.01593\n"
          ]
        },
        {
          "output_type": "stream",
          "name": "stderr",
          "text": [
            "pyswarms.single.global_best: 100%|██████████|1/1, best_cost=4.68e+10\n",
            "2023-09-30 16:48:26,071 - pyswarms.single.global_best - INFO - Optimization finished | best cost: 46753971964.2485, best pos: [6.23432761 6.34915278 5.72592472 3.05354958 1.76995945 5.29089451\n",
            " 3.99859298 2.47398964 2.47443212 0.56622219 4.54764419 1.47170506\n",
            " 3.2104151  4.60968246 6.48765573 2.35172918 4.88887594 3.51729348\n",
            " 1.77519983 1.48676509 3.48470568 0.3732554  4.42450616 4.40034075]\n",
            "2023-09-30 16:48:26,074 - pyswarms.single.global_best - INFO - Optimize for 1 iters with {'c1': 0.5, 'c2': 0.3, 'w': 0.9}\n"
          ]
        },
        {
          "output_type": "stream",
          "name": "stdout",
          "text": [
            "\n",
            "=========================================================================\n",
            "\n",
            "Número de ciclos de manutenção: 9 5\n",
            "Tempos para manutenções preventivas: [0, 7, 81, 91, 142, 172, 209, 283, 347, 581]\n",
            "Severidade para cada subsistema: [0.5, 0.75, 0.5, 0.25, 0.25, 0.5, 0.25, 0.25, 0.25]\n",
            "Número de Sisemas: 5\n",
            "Fator:  [0.3296799539643607, 0.6321205588285577, 0.7768698398515702, 0.6321205588285577, 0.3934693402873666, 0.3934693402873666, 0.6321205588285577, 0.3934693402873666, 0.3934693402873666, 0.3934693402873666]\n",
            "Media de falhas:  [0, 5.378240000000001, 965631.9298409749, 990063.7886983793, 1578814.1984995587, 2658077.5251418566, 16743149.052956734, 110641561.68575467, 149692797.7071574, 5568188710.225563, 6090342932.8646]\n",
            "Custo =  211842120723.3075\n"
          ]
        },
        {
          "output_type": "stream",
          "name": "stderr",
          "text": [
            "pyswarms.single.global_best:   0%|          |0/1, best_cost=4.68e+10"
          ]
        },
        {
          "output_type": "stream",
          "name": "stdout",
          "text": [
            "\n",
            "=========================================================================\n",
            "\n",
            "Número de ciclos de manutenção: 10 5\n",
            "Tempos para manutenções preventivas: [0, 81, 94, 142, 169, 209, 346, 364, 500, 585, 619]\n",
            "Severidade para cada subsistema: [0.75, 0.5, 0.25, 0.75, 0.5, 0.25, 0.25, 0.25, 0.25, 0.25]\n",
            "Número de Sisemas: 5\n",
            "Fator:  [0.3296799539643607, 0.7768698398515702, 0.6321205588285577, 0.3934693402873666, 0.7768698398515702, 0.6321205588285577, 0.3934693402873666, 0.3934693402873666, 0.3934693402873666, 0.3934693402873666, 0.3934693402873666]\n",
            "Media de falhas:  [0, 1115771.00832, 1406433.6238185512, 1904691.0109376865, 2779840.785505318, 17963990.040072728, 84715163.13512887, 94737620.23458344, 1776732275.419822, 3779416395.8224516, 4823521507.478968, 4277625514.77792]\n",
            "Custo =  387486033133.93805\n"
          ]
        },
        {
          "output_type": "stream",
          "name": "stderr",
          "text": [
            "\rpyswarms.single.global_best: 100%|██████████|1/1, best_cost=4.68e+10\n",
            "2023-09-30 16:48:26,088 - pyswarms.single.global_best - INFO - Optimization finished | best cost: 46753971964.2485, best pos: [6.23439526 6.3489373  5.72627236 3.05353466 1.76976818 5.29091991\n",
            " 3.99873995 2.47259934 2.47443031 0.56532272 4.53984811 1.47180606\n",
            " 3.34628052 4.60888458 6.48767811 2.35075165 2.92719781 3.06268704\n",
            " 1.77515817 1.48674241 3.48468722 0.37408064 4.42422442 4.40050191]\n",
            "2023-09-30 16:48:26,090 - pyswarms.single.global_best - INFO - Optimize for 1 iters with {'c1': 0.5, 'c2': 0.3, 'w': 0.9}\n",
            "pyswarms.single.global_best:   0%|          |0/1, best_cost=4.68e+10"
          ]
        },
        {
          "output_type": "stream",
          "name": "stdout",
          "text": [
            "\n",
            "=========================================================================\n",
            "\n",
            "Número de ciclos de manutenção: 12 5\n",
            "Tempos para manutenções preventivas: [0, 29, 32, 81, 96, 141, 208, 322, 344, 489, 566, 588, 612]\n",
            "Severidade para cada subsistema: [0.75, 0.5, 0.75, 0.5, 0.25, 0.5, 0.25, 0.25, 0.75, 0.25, 0.25, 0.25]\n",
            "Número de Sisemas: 5\n",
            "Fator:  [0.3296799539643607, 0.7768698398515702, 0.6321205588285577, 0.7768698398515702, 0.6321205588285577, 0.3934693402873666, 0.6321205588285577, 0.3934693402873666, 0.3934693402873666, 0.7768698398515702, 0.3934693402873666, 0.3934693402873666, 0.3934693402873666]\n",
            "Media de falhas:  [0, 6563.56768, 7495.8022115420345, 185940.62550952483, 236159.65539152923, 648392.746472223, 8123260.62573295, 253542490.4686763, 263571960.94028667, 1907135414.6168861, 3501569143.7431526, 3514235838.9096518, 4224893919.8406215, 3883195232.9602933]\n",
            "Custo =  373760773331.3821\n"
          ]
        },
        {
          "output_type": "stream",
          "name": "stderr",
          "text": [
            "\rpyswarms.single.global_best: 100%|██████████|1/1, best_cost=4.68e+10\n",
            "2023-09-30 16:48:26,104 - pyswarms.single.global_best - INFO - Optimization finished | best cost: 46753971964.2485, best pos: [6.23443307 6.34869835 5.72645802 3.05351397 1.76908037 5.29092603\n",
            " 3.99892599 2.47070269 2.4744276  0.56459341 4.5295551  1.47219074\n",
            " 3.47483372 4.60812727 6.48770075 2.35024129 0.71900988 2.71867261\n",
            " 1.77515193 1.48677583 3.48463065 0.37482825 4.42400689 4.40070047]\n",
            "2023-09-30 16:48:26,105 - pyswarms.single.global_best - INFO - Optimize for 1 iters with {'c1': 0.5, 'c2': 0.3, 'w': 0.9}\n",
            "pyswarms.single.global_best: 100%|██████████|1/1, best_cost=4.68e+10\n",
            "2023-09-30 16:48:26,118 - pyswarms.single.global_best - INFO - Optimization finished | best cost: 46753971964.2485, best pos: [6.23443221 6.34845556 5.72662238 3.05349129 1.76795961 5.29091889\n",
            " 3.99910429 2.46885908 2.47442324 0.56402662 4.51969348 1.47255685\n",
            " 3.56858404 4.60755418 6.48773926 2.35017174 5.07054517 2.57636137\n",
            " 1.77518811 1.48685634 3.48447445 0.37551841 4.42400259 4.40091559]\n",
            "2023-09-30 16:48:26,120 - pyswarms.single.global_best - INFO - Optimize for 1 iters with {'c1': 0.5, 'c2': 0.3, 'w': 0.9}\n"
          ]
        },
        {
          "output_type": "stream",
          "name": "stdout",
          "text": [
            "\n",
            "=========================================================================\n",
            "\n",
            "Número de ciclos de manutenção: 16 5\n",
            "Tempos para manutenções preventivas: [0, 22, 47, 81, 96, 141, 175, 208, 286, 307, 343, 502, 528, 562, 591, 616, 652]\n",
            "Severidade para cada subsistema: [0.5, 0.5, 0.75, 0.5, 0.25, 0.75, 0.5, 0.5, 0.5, 0.25, 0.25, 0.5, 0.25, 0.25, 0.25, 0.75]\n",
            "Número de Sisemas: 5\n",
            "Fator:  [0.3296799539643607, 0.6321205588285577, 0.6321205588285577, 0.7768698398515702, 0.6321205588285577, 0.3934693402873666, 0.7768698398515702, 0.6321205588285577, 0.6321205588285577, 0.6321205588285577, 0.3934693402873666, 0.3934693402873666, 0.6321205588285577, 0.3934693402873666, 0.3934693402873666, 0.3934693402873666, 0.7768698398515702]\n",
            "Media de falhas:  [0, 1649.16224, 33170.87457028331, 146263.1054960176, 196482.135378022, 608715.2264587157, 1982661.7035305323, 14361340.472009983, 23830167.353118062, 29953321.556794092, 47526081.23586175, 640912225.2282162, 1064949655.633393, 1772242759.40241, 1884380986.1911619, 2643573248.16976, 4004159898.1950054, 2438612813.581314]\n",
            "Custo =  577251727959.0394\n"
          ]
        },
        {
          "output_type": "stream",
          "name": "stderr",
          "text": [
            "pyswarms.single.global_best: 100%|██████████|1/1, best_cost=4.68e+10\n",
            "2023-09-30 16:48:26,136 - pyswarms.single.global_best - INFO - Optimization finished | best cost: 46753971964.2485, best pos: [6.23439336 6.34824166 5.72673367 3.05347106 1.76691626 5.29089634\n",
            " 3.99925618 2.46741838 2.4744188  0.56382622 4.51082167 1.47302466\n",
            " 3.62833049 4.6071442  6.48778024 2.35054778 2.42936239 2.47969628\n",
            " 1.77523342 1.48693599 3.48428633 0.37604036 4.42409546 4.40110279]\n",
            "2023-09-30 16:48:26,138 - pyswarms.single.global_best - INFO - Optimize for 1 iters with {'c1': 0.5, 'c2': 0.3, 'w': 0.9}\n"
          ]
        },
        {
          "output_type": "stream",
          "name": "stdout",
          "text": [
            "\n",
            "=========================================================================\n",
            "\n",
            "Número de ciclos de manutenção: 12 5\n",
            "Tempos para manutenções preventivas: [0, 13, 49, 81, 96, 141, 208, 342, 514, 558, 591, 625, 643]\n",
            "Severidade para cada subsistema: [0.25, 0.5, 0.75, 0.5, 0.25, 0.5, 0.25, 0.5, 0.25, 0.25, 0.25, 0.25]\n",
            "Número de Sisemas: 5\n",
            "Fator:  [0.3296799539643607, 0.3934693402873666, 0.6321205588285577, 0.7768698398515702, 0.6321205588285577, 0.3934693402873666, 0.6321205588285577, 0.3934693402873666, 0.6321205588285577, 0.3934693402873666, 0.3934693402873666, 0.3934693402873666, 0.3934693402873666]\n",
            "Media de falhas:  [0, 118.81376000000002, 57300.01583108998, 336482.46612066106, 386701.49600266543, 798934.5870833592, 8273802.466344086, 379410658.844652, 1119011579.2187688, 2000166435.812562, 2129312706.026457, 3214811252.8778076, 3868772323.026708, 2591503074.314379]\n",
            "Custo =  516421536134.268\n"
          ]
        },
        {
          "output_type": "stream",
          "name": "stderr",
          "text": [
            "pyswarms.single.global_best: 100%|██████████|1/1, best_cost=4.68e+10\n",
            "2023-09-30 16:48:26,150 - pyswarms.single.global_best - INFO - Optimization finished | best cost: 46753971964.2485, best pos: [6.23431957 6.3480736  5.72660441 3.05345435 1.76599205 5.29069494\n",
            " 3.99937705 2.4668281  2.47441484 0.56389051 4.50546647 1.47346507\n",
            " 3.67958486 4.60683246 6.48781639 2.35128047 0.04047803 2.4917996\n",
            " 1.77528966 1.48700773 3.48410266 0.37648464 4.42437799 4.40121376]\n",
            "2023-09-30 16:48:26,152 - pyswarms.single.global_best - INFO - Optimize for 1 iters with {'c1': 0.5, 'c2': 0.3, 'w': 0.9}\n"
          ]
        },
        {
          "output_type": "stream",
          "name": "stdout",
          "text": [
            "\n",
            "=========================================================================\n",
            "\n",
            "Número de ciclos de manutenção: 11 5\n",
            "Tempos para manutenções preventivas: [0, 46, 81, 95, 142, 171, 208, 298, 341, 481, 556, 591]\n",
            "Severidade para cada subsistema: [0.5, 0.75, 0.5, 0.25, 0.75, 0.5, 0.5, 0.25, 0.25, 0.25, 0.25]\n",
            "Número de Sisemas: 5\n",
            "Fator:  [0.3296799539643607, 0.6321205588285577, 0.7768698398515702, 0.6321205588285577, 0.3934693402873666, 0.7768698398515702, 0.6321205588285577, 0.6321205588285577, 0.3934693402873666, 0.3934693402873666, 0.3934693402873666, 0.3934693402873666]\n",
            "Media de falhas:  [0, 65908.15232000001, 452742.17971478554, 496798.434653669, 967478.8962945587, 1975314.4306739164, 15790208.751344787, 30835953.067943245, 52273510.93032774, 464065645.6885091, 1910760007.9434247, 2801793748.3718777, 3051787544.9788256]\n",
            "Custo =  306261296657.3217\n"
          ]
        },
        {
          "output_type": "stream",
          "name": "stderr",
          "text": [
            "pyswarms.single.global_best:   0%|          |0/1, best_cost=4.68e+10"
          ]
        },
        {
          "output_type": "stream",
          "name": "stdout",
          "text": [
            "\n",
            "=========================================================================\n",
            "\n",
            "Número de ciclos de manutenção: 10 5\n",
            "Tempos para manutenções preventivas: [0, 15, 37, 81, 94, 142, 175, 208, 341, 556, 589]\n",
            "Severidade para cada subsistema: [0.5, 0.5, 0.75, 0.5, 0.25, 0.25, 0.5, 0.25, 0.25, 0.25]\n",
            "Número de Sisemas: 5\n",
            "Fator:  [0.3296799539643607, 0.6321205588285577, 0.6321205588285577, 0.7768698398515702, 0.6321205588285577, 0.3934693402873666, 0.3934693402873666, 0.6321205588285577, 0.3934693402873666, 0.3934693402873666, 0.3934693402873666]\n",
            "Media de falhas:  [0, 243.00000000000003, 11039.787507615461, 213984.40369450088, 252415.73592617523, 750673.1230453105, 2066108.4813817726, 14444787.249861222, 378308325.9355405, 1831880712.3687105, 2662138267.020986, 2967015861.743191]\n",
            "Custo =  251222048739.25354\n"
          ]
        },
        {
          "output_type": "stream",
          "name": "stderr",
          "text": [
            "\rpyswarms.single.global_best: 100%|██████████|1/1, best_cost=4.68e+10\n",
            "2023-09-30 16:48:26,168 - pyswarms.single.global_best - INFO - Optimization finished | best cost: 46753971964.2485, best pos: [6.23423515 6.34803385 5.7263757  3.05344627 1.76544356 5.29043712\n",
            " 3.99941876 2.4665448  2.47441219 0.56444682 4.50090309 1.4738188\n",
            " 3.71829658 4.60674882 6.48784186 2.35209772 5.01899787 2.74549718\n",
            " 1.77534531 1.48707086 3.483936   0.37655705 4.42482262 4.40122224]\n",
            "2023-09-30 16:48:26,170 - pyswarms.single.global_best - INFO - Optimize for 1 iters with {'c1': 0.5, 'c2': 0.3, 'w': 0.9}\n",
            "pyswarms.single.global_best: 100%|██████████|1/1, best_cost=4.68e+10\n",
            "2023-09-30 16:48:26,183 - pyswarms.single.global_best - INFO - Optimization finished | best cost: 46753971964.2485, best pos: [6.23416172 6.34807289 5.72615159 3.05345112 1.76510536 5.29014681\n",
            " 3.99938999 2.46630617 2.47441059 0.56512537 4.49718672 1.47405608\n",
            " 3.66247725 4.60669725 6.48786181 2.35293757 2.78774196 3.09627376\n",
            " 1.77538802 1.48711951 3.48380258 0.37620243 4.42522879 4.40119992]\n",
            "2023-09-30 16:48:26,185 - pyswarms.single.global_best - INFO - Optimize for 1 iters with {'c1': 0.5, 'c2': 0.3, 'w': 0.9}\n"
          ]
        },
        {
          "output_type": "stream",
          "name": "stdout",
          "text": [
            "\n",
            "=========================================================================\n",
            "\n",
            "Número de ciclos de manutenção: 14 5\n",
            "Tempos para manutenções preventivas: [0, 3, 81, 92, 143, 150, 209, 322, 340, 380, 390, 557, 587, 616, 638]\n",
            "Severidade para cada subsistema: [0.25, 0.75, 0.5, 0.25, 0.75, 0.5, 0.25, 0.25, 0.75, 0.75, 0.25, 0.25, 0.5, 0.5]\n",
            "Número de Sisemas: 5\n",
            "Fator:  [0.3296799539643607, 0.3934693402873666, 0.7768698398515702, 0.6321205588285577, 0.3934693402873666, 0.7768698398515702, 0.6321205588285577, 0.3934693402873666, 0.3934693402873666, 0.7768698398515702, 0.7768698398515702, 0.3934693402873666, 0.3934693402873666, 0.6321205588285577, 0.6321205588285577]\n",
            "Media de falhas:  [0, 0.07776000000000001, 1049294.5476864588, 1209224.610600402, 1807199.9231017404, 1919052.76732843, 24207866.950228993, 57309904.76018663, 64986368.85562765, 235221428.42581764, 284463884.6551551, 621318230.7721949, 639802835.4676098, 1517119112.0785089, 2288720633.1199694, 2155044595.849029]\n",
            "Custo =  327236486876.2922\n"
          ]
        },
        {
          "output_type": "stream",
          "name": "stderr",
          "text": [
            "pyswarms.single.global_best: 100%|██████████|1/1, best_cost=4.68e+10\n",
            "2023-09-30 16:48:26,199 - pyswarms.single.global_best - INFO - Optimization finished | best cost: 46753971964.2485, best pos: [6.2341091  6.34816862 5.72587339 3.053459   1.76489239 5.28987829\n",
            " 3.99933493 2.46611501 2.47441125 0.56586003 4.49414217 1.47422538\n",
            " 3.60303618 4.60673266 6.48787812 2.35366727 0.67442554 3.45676997\n",
            " 1.77542476 1.48713544 3.4837226  0.37570713 4.42557888 4.40112288]\n",
            "2023-09-30 16:48:26,200 - pyswarms.single.global_best - INFO - Optimize for 1 iters with {'c1': 0.5, 'c2': 0.3, 'w': 0.9}\n"
          ]
        },
        {
          "output_type": "stream",
          "name": "stdout",
          "text": [
            "\n",
            "=========================================================================\n",
            "\n",
            "Número de ciclos de manutenção: 10 5\n",
            "Tempos para manutenções preventivas: [0, 48, 81, 91, 143, 294, 322, 341, 393, 558, 585]\n",
            "Severidade para cada subsistema: [0.25, 0.75, 0.5, 0.25, 0.25, 0.5, 0.25, 0.75, 0.25, 0.25]\n",
            "Número de Sisemas: 5\n",
            "Fator:  [0.3296799539643607, 0.3934693402873666, 0.7768698398515702, 0.6321205588285577, 0.3934693402873666, 0.3934693402873666, 0.6321205588285577, 0.3934693402873666, 0.7768698398515702, 0.3934693402873666, 0.3934693402873666]\n",
            "Media de falhas:  [0, 81537.26976000001, 446831.01811599935, 586530.39209797, 1217818.8034454847, 113061276.71807647, 174999241.04324874, 228712692.86248523, 275069114.90953475, 3445853560.7663927, 3461824275.848342, 3875780672.0995517]\n",
            "Custo =  216462415633.75635\n"
          ]
        },
        {
          "output_type": "stream",
          "name": "stderr",
          "text": [
            "pyswarms.single.global_best: 100%|██████████|1/1, best_cost=4.68e+10\n",
            "2023-09-30 16:48:26,215 - pyswarms.single.global_best - INFO - Optimization finished | best cost: 46753971964.2485, best pos: [6.23409134 6.34826417 5.72562174 3.05347537 1.76486369 5.28964913\n",
            " 3.99927676 2.46663123 2.47441203 0.56658083 4.4966681  1.47417185\n",
            " 3.48962251 4.60691771 6.48787042 2.3540172  6.47612629 3.78160455\n",
            " 1.77543215 1.48712846 3.48367246 0.37512758 4.42585005 4.40104228]\n",
            "2023-09-30 16:48:26,216 - pyswarms.single.global_best - INFO - Optimize for 1 iters with {'c1': 0.5, 'c2': 0.3, 'w': 0.9}\n"
          ]
        },
        {
          "output_type": "stream",
          "name": "stdout",
          "text": [
            "\n",
            "=========================================================================\n",
            "\n",
            "Número de ciclos de manutenção: 12 5\n",
            "Tempos para manutenções preventivas: [0, 14, 30, 81, 144, 293, 318, 342, 370, 396, 510, 559, 582]\n",
            "Severidade para cada subsistema: [0.5, 0.25, 0.75, 0.25, 0.75, 0.75, 0.25, 0.5, 0.75, 0.5, 0.25, 0.25]\n",
            "Número de Sisemas: 5\n",
            "Fator:  [0.3296799539643607, 0.6321205588285577, 0.3934693402873666, 0.7768698398515702, 0.3934693402873666, 0.7768698398515702, 0.7768698398515702, 0.3934693402873666, 0.6321205588285577, 0.7768698398515702, 0.6321205588285577, 0.3934693402873666, 0.3934693402873666]\n",
            "Media de falhas:  [0, 172.10368000000003, 3521.6181995988086, 297492.917757557, 5877946.392961074, 68256389.69754831, 121071929.89221635, 122966678.9267706, 126090358.42329508, 259054034.8975547, 615929165.5417557, 646413619.9848154, 728689792.5657252, 1223874706.3418162]\n",
            "Custo =  171081769835.18127\n"
          ]
        },
        {
          "output_type": "stream",
          "name": "stderr",
          "text": [
            "pyswarms.single.global_best: 100%|██████████|1/1, best_cost=4.68e+10\n",
            "2023-09-30 16:48:26,230 - pyswarms.single.global_best - INFO - Optimization finished | best cost: 46753971964.2485, best pos: [6.23408278 6.34837293 5.72542612 3.05349204 1.76545025 5.28947936\n",
            " 3.99918287 2.46794204 2.47441357 0.56712399 4.50451354 1.47398665\n",
            " 3.37761278 4.60733301 6.48784339 2.354184   4.70152881 4.01934193\n",
            " 1.77542625 1.48707755 3.4836646  0.37459006 4.42595702 4.40096261]\n",
            "2023-09-30 16:48:26,232 - pyswarms.single.global_best - INFO - Optimize for 1 iters with {'c1': 0.5, 'c2': 0.3, 'w': 0.9}\n"
          ]
        },
        {
          "output_type": "stream",
          "name": "stdout",
          "text": [
            "\n",
            "=========================================================================\n",
            "\n",
            "Número de ciclos de manutenção: 9 5\n",
            "Tempos para manutenções preventivas: [0, 41, 81, 144, 286, 343, 397, 518, 561, 580]\n",
            "Severidade para cada subsistema: [0.25, 0.75, 0.25, 0.25, 0.25, 0.75, 0.5, 0.25, 0.25]\n",
            "Número de Sisemas: 5\n",
            "Fator:  [0.3296799539643607, 0.3934693402873666, 0.7768698398515702, 0.3934693402873666, 0.3934693402873666, 0.3934693402873666, 0.7768698398515702, 0.6321205588285577, 0.3934693402873666, 0.3934693402873666]\n",
            "Media de falhas:  [0, 37073.98432, 479899.5826238746, 6060353.057827392, 57279735.25825298, 215083178.4168582, 485733789.6786367, 2210269934.8225217, 2235762322.020093, 2302045798.986093, 2851117056.707832]\n",
            "Custo =  216116645685.02338\n"
          ]
        },
        {
          "output_type": "stream",
          "name": "stderr",
          "text": [
            "pyswarms.single.global_best:   0%|          |0/1, best_cost=4.68e+10"
          ]
        },
        {
          "output_type": "stream",
          "name": "stdout",
          "text": [
            "\n",
            "=========================================================================\n",
            "\n",
            "Número de ciclos de manutenção: 11 5\n",
            "Tempos para manutenções preventivas: [0, 22, 39, 81, 144, 344, 374, 397, 484, 525, 563, 579]\n",
            "Severidade para cada subsistema: [0.75, 0.25, 0.75, 0.25, 0.25, 0.25, 0.75, 0.5, 0.5, 0.25, 0.25]\n",
            "Número de Sisemas: 5\n",
            "Fator:  [0.3296799539643607, 0.7768698398515702, 0.3934693402873666, 0.7768698398515702, 0.3934693402873666, 0.3934693402873666, 0.3934693402873666, 0.7768698398515702, 0.6321205588285577, 0.6321205588285577, 0.3934693402873666, 0.3934693402873666]\n",
            "Media de falhas:  [0, 1649.16224, 11745.652708323234, 118950.39905863572, 5699403.874262152, 221370139.52151296, 342536358.8978512, 461844872.267273, 1413810864.0761895, 1432606886.5295053, 1557714797.5995255, 1612685543.690591, 2188622255.303849]\n",
            "Custo =  223801900011.56268\n"
          ]
        },
        {
          "output_type": "stream",
          "name": "stderr",
          "text": [
            "\rpyswarms.single.global_best: 100%|██████████|1/1, best_cost=4.68e+10\n",
            "2023-09-30 16:48:26,275 - pyswarms.single.global_best - INFO - Optimization finished | best cost: 46753971964.2485, best pos: [6.23409203 6.34851738 5.72533335 3.05350749 1.76634508 5.28935068\n",
            " 3.99907541 2.46919459 2.47441695 0.56746877 4.51334743 1.47362259\n",
            " 3.28191891 4.60785399 6.48780558 2.3539337  2.4975983  4.21473522\n",
            " 1.77541885 1.48700754 3.48377306 0.37414366 4.4258791  4.40086419]\n",
            "2023-09-30 16:48:26,310 - pyswarms.single.global_best - INFO - Optimize for 1 iters with {'c1': 0.5, 'c2': 0.3, 'w': 0.9}\n",
            "pyswarms.single.global_best: 100%|██████████|1/1, best_cost=4.68e+10\n",
            "2023-09-30 16:48:26,560 - pyswarms.single.global_best - INFO - Optimization finished | best cost: 46753971964.2485, best pos: [6.23411438 6.34865351 5.72529853 3.05351818 1.767354   5.28930292\n",
            " 3.99897158 2.47035437 2.47442067 0.56772919 4.52291031 1.47321498\n",
            " 3.21830395 4.60846244 6.48776392 2.35356417 0.67961863 4.21104098\n",
            " 1.77540557 1.48694322 3.48392104 0.37399454 4.42576565 4.4007761 ]\n",
            "2023-09-30 16:48:26,564 - pyswarms.single.global_best - INFO - Optimize for 1 iters with {'c1': 0.5, 'c2': 0.3, 'w': 0.9}\n"
          ]
        },
        {
          "output_type": "stream",
          "name": "stdout",
          "text": [
            "\n",
            "=========================================================================\n",
            "\n",
            "Número de ciclos de manutenção: 12 5\n",
            "Tempos para manutenções preventivas: [0, 7, 37, 81, 144, 172, 345, 367, 396, 532, 564, 579, 646]\n",
            "Severidade para cada subsistema: [0.5, 0.25, 0.75, 0.25, 0.25, 0.25, 0.25, 0.75, 0.5, 0.25, 0.25, 0.75]\n",
            "Número de Sisemas: 5\n",
            "Fator:  [0.3296799539643607, 0.6321205588285577, 0.3934693402873666, 0.7768698398515702, 0.3934693402873666, 0.3934693402873666, 0.3934693402873666, 0.3934693402873666, 0.7768698398515702, 0.6321205588285577, 0.3934693402873666, 0.3934693402873666, 0.7768698398515702]\n",
            "Media de falhas:  [0, 5.378240000000001, 16085.600660323187, 219030.21684720862, 5799483.692050725, 6040080.052698269, 526991941.0420085, 610243474.6455686, 757969882.3871219, 2912991562.4274883, 2930325982.2395654, 2981717542.3156266, 5364813601.401218, 3992364783.5608764]\n",
            "Custo =  388839088287.5025\n"
          ]
        },
        {
          "output_type": "stream",
          "name": "stderr",
          "text": [
            "pyswarms.single.global_best: 100%|██████████|1/1, best_cost=4.68e+10\n",
            "2023-09-30 16:48:26,580 - pyswarms.single.global_best - INFO - Optimization finished | best cost: 46753971964.2485, best pos: [6.23415312 6.34876194 5.72538317 3.05352353 1.76825086 5.28941954\n",
            " 3.99888333 2.47132118 2.47442401 0.56779367 4.53148452 1.47284623\n",
            " 3.20673257 4.60902449 6.48772769 2.35317007 6.26032271 4.0356084\n",
            " 1.77539119 1.48688865 3.48407271 0.37401607 4.4256364  4.40070499]\n",
            "2023-09-30 16:48:26,592 - pyswarms.single.global_best - INFO - Optimize for 1 iters with {'c1': 0.5, 'c2': 0.3, 'w': 0.9}\n"
          ]
        },
        {
          "output_type": "stream",
          "name": "stdout",
          "text": [
            "\n",
            "=========================================================================\n",
            "\n",
            "Número de ciclos de manutenção: 13 5\n",
            "Tempos para manutenções preventivas: [0, 81, 144, 169, 294, 328, 345, 370, 393, 536, 566, 579, 643, 719]\n",
            "Severidade para cada subsistema: [0.75, 0.25, 0.75, 0.5, 0.5, 0.25, 0.25, 0.75, 0.5, 0.25, 0.25, 0.25, 0.5]\n",
            "Número de Sisemas: 5\n",
            "Fator:  [0.3296799539643607, 0.7768698398515702, 0.3934693402873666, 0.7768698398515702, 0.6321205588285577, 0.6321205588285577, 0.3934693402873666, 0.3934693402873666, 0.7768698398515702, 0.6321205588285577, 0.3934693402873666, 0.3934693402873666, 0.3934693402873666, 0.6321205588285577]\n",
            "Media de falhas:  [0, 1115771.00832, 8069775.919014688, 8253577.1603458095, 199658245.13160974, 202406040.32602435, 210042427.72846323, 225398235.92002344, 339933563.18282914, 2675128922.866231, 2691274791.861755, 2735568978.5708303, 4973965103.028654, 9118771861.611727, 5097371961.617691]\n",
            "Custo =  605469667821.5485\n"
          ]
        },
        {
          "output_type": "stream",
          "name": "stderr",
          "text": [
            "pyswarms.single.global_best: 100%|██████████|1/1, best_cost=4.68e+10\n",
            "2023-09-30 16:48:26,624 - pyswarms.single.global_best - INFO - Optimization finished | best cost: 46753971964.2485, best pos: [6.23419053 6.34880904 5.72547702 3.05352402 1.76874229 5.28961124\n",
            " 3.99880452 2.47208977 2.47442629 0.56768486 4.53686773 1.47254204\n",
            " 3.23460202 4.60944523 6.4876963  2.35267193 4.38418842 3.85644742\n",
            " 1.7753658  1.4868504  3.48421273 0.37413084 4.42542375 4.40065609]\n",
            "2023-09-30 16:48:26,629 - pyswarms.single.global_best - INFO - Optimize for 1 iters with {'c1': 0.5, 'c2': 0.3, 'w': 0.9}\n"
          ]
        },
        {
          "output_type": "stream",
          "name": "stdout",
          "text": [
            "\n",
            "=========================================================================\n",
            "\n",
            "Número de ciclos de manutenção: 10 5\n",
            "Tempos para manutenções preventivas: [0, 81, 90, 144, 316, 346, 382, 539, 567, 580, 719]\n",
            "Severidade para cada subsistema: [0.75, 0.5, 0.25, 0.75, 0.25, 0.25, 0.5, 0.25, 0.25, 0.5]\n",
            "Número de Sisemas: 5\n",
            "Fator:  [0.3296799539643607, 0.7768698398515702, 0.6321205588285577, 0.3934693402873666, 0.7768698398515702, 0.3934693402873666, 0.3934693402873666, 0.6321205588285577, 0.3934693402873666, 0.3934693402873666, 0.6321205588285577]\n",
            "Media de falhas:  [0, 1115771.00832, 1289876.5963373126, 2002842.8302991802, 186293494.7940187, 274774939.52630836, 279846238.79053885, 2905364007.469242, 3512590346.5700645, 3557188592.3640223, 10945227719.415367, 6923827819.421331]\n",
            "Custo =  531972004097.707\n"
          ]
        },
        {
          "output_type": "stream",
          "name": "stderr",
          "text": [
            "pyswarms.single.global_best: 100%|██████████|1/1, best_cost=4.68e+10\n",
            "2023-09-30 16:48:26,652 - pyswarms.single.global_best - INFO - Optimization finished | best cost: 46753971964.2485, best pos: [6.23422845 6.34884663 5.72564177 3.05352347 1.769162   5.28988161\n",
            " 3.99876103 2.47257706 2.47442675 0.56747808 4.54040186 1.47231565\n",
            " 3.26828338 4.60980999 6.48768841 2.35221976 2.32041695 3.60975029\n",
            " 1.77533971 1.4868239  3.48433244 0.37447451 4.42518077 4.40066545]\n",
            "2023-09-30 16:48:26,654 - pyswarms.single.global_best - INFO - Optimize for 1 iters with {'c1': 0.5, 'c2': 0.3, 'w': 0.9}\n"
          ]
        },
        {
          "output_type": "stream",
          "name": "stdout",
          "text": [
            "\n",
            "=========================================================================\n",
            "\n",
            "Número de ciclos de manutenção: 10 5\n",
            "Tempos para manutenções preventivas: [0, 25, 50, 81, 91, 144, 158, 345, 567, 581, 619]\n",
            "Severidade para cada subsistema: [0.25, 0.5, 0.75, 0.5, 0.25, 0.75, 0.25, 0.25, 0.25, 0.5]\n",
            "Número de Sisemas: 5\n",
            "Fator:  [0.3296799539643607, 0.3934693402873666, 0.6321205588285577, 0.7768698398515702, 0.6321205588285577, 0.3934693402873666, 0.7768698398515702, 0.3934693402873666, 0.3934693402873666, 0.3934693402873666, 0.6321205588285577]\n",
            "Media de falhas:  [0, 3125.0000000000005, 43332.23306389285, 312706.2083148845, 337138.067172289, 1013383.9693236428, 1311104.261336824, 577875276.2402539, 1341479409.0695035, 1681371684.9602427, 2844191732.768408, 2298295740.06736]\n",
            "Custo =  360718783937.4009\n"
          ]
        },
        {
          "output_type": "stream",
          "name": "stderr",
          "text": [
            "pyswarms.single.global_best: 100%|██████████|1/1, best_cost=4.68e+10\n",
            "2023-09-30 16:48:26,690 - pyswarms.single.global_best - INFO - Optimization finished | best cost: 46753971964.2485, best pos: [6.23426545 6.34887637 5.72580482 3.05352082 1.76903879 5.29013914\n",
            " 3.99872862 2.47281696 2.47442664 0.56693739 4.54185862 1.47235544\n",
            " 3.31409688 4.6098938  6.48769786 2.35182751 6.89936573 3.36024172\n",
            " 1.77531018 1.48683851 3.48441172 0.37479794 4.42495908 4.40072328]\n",
            "2023-09-30 16:48:26,692 - pyswarms.single.global_best - INFO - Optimize for 1 iters with {'c1': 0.5, 'c2': 0.3, 'w': 0.9}\n"
          ]
        },
        {
          "output_type": "stream",
          "name": "stdout",
          "text": [
            "\n",
            "=========================================================================\n",
            "\n",
            "Número de ciclos de manutenção: 10 5\n",
            "Tempos para manutenções preventivas: [0, 81, 92, 143, 153, 209, 345, 362, 565, 583, 602]\n",
            "Severidade para cada subsistema: [0.75, 0.5, 0.25, 0.25, 0.5, 0.25, 0.5, 0.25, 0.25, 0.5]\n",
            "Número de Sisemas: 5\n",
            "Fator:  [0.3296799539643607, 0.7768698398515702, 0.6321205588285577, 0.3934693402873666, 0.3934693402873666, 0.6321205588285577, 0.3934693402873666, 0.6321205588285577, 0.3934693402873666, 0.3934693402873666, 0.6321205588285577]\n",
            "Media de falhas:  [0, 1115771.00832, 1344590.008927957, 1942565.321429295, 2121425.3495754595, 23261946.965721563, 413641696.5458024, 422860822.88528943, 4570918759.718178, 4634824389.099534, 5164010027.545588, 5107751375.103657]\n",
            "Custo =  335278941396.7903\n"
          ]
        },
        {
          "output_type": "stream",
          "name": "stderr",
          "text": [
            "pyswarms.single.global_best: 100%|██████████|1/1, best_cost=4.68e+10\n",
            "2023-09-30 16:48:26,725 - pyswarms.single.global_best - INFO - Optimization finished | best cost: 46753971964.2485, best pos: [6.23429739 6.34883263 5.72595047 3.05351733 1.76883381 5.29035\n",
            " 3.99872402 2.47227092 2.47442512 0.5662254  4.54270185 1.47261821\n",
            " 3.37235673 4.60958143 6.48771723 2.35150189 4.00844932 3.16820554\n",
            " 1.77528391 1.48687198 3.48445554 0.37514431 4.42477483 4.40081251]\n",
            "2023-09-30 16:48:26,727 - pyswarms.single.global_best - INFO - Optimize for 1 iters with {'c1': 0.5, 'c2': 0.3, 'w': 0.9}\n"
          ]
        },
        {
          "output_type": "stream",
          "name": "stdout",
          "text": [
            "\n",
            "=========================================================================\n",
            "\n",
            "Número de ciclos de manutenção: 12 5\n",
            "Tempos para manutenções preventivas: [0, 7, 81, 93, 142, 209, 314, 344, 380, 490, 539, 564, 585]\n",
            "Severidade para cada subsistema: [0.5, 0.75, 0.5, 0.25, 0.5, 0.25, 0.25, 0.5, 0.25, 0.5, 0.25, 0.25]\n",
            "Número de Sisemas: 5\n",
            "Fator:  [0.3296799539643607, 0.6321205588285577, 0.7768698398515702, 0.6321205588285577, 0.3934693402873666, 0.6321205588285577, 0.3934693402873666, 0.3934693402873666, 0.6321205588285577, 0.3934693402873666, 0.6321205588285577, 0.3934693402873666, 0.3934693402873666]\n",
            "Media de falhas:  [0, 5.378240000000001, 965631.9298409749, 998940.1918484336, 1526039.1131232195, 9114839.387490097, 212627536.62838268, 226923404.2889189, 380833301.7987441, 1636965846.3859348, 1778735146.559848, 2311071887.6400423, 2387288371.341152, 2801244767.592362]\n",
            "Custo =  294649702429.34247\n"
          ]
        },
        {
          "output_type": "stream",
          "name": "stderr",
          "text": [
            "pyswarms.single.global_best: 100%|██████████|1/1, best_cost=4.68e+10\n",
            "2023-09-30 16:48:26,755 - pyswarms.single.global_best - INFO - Optimization finished | best cost: 46753971964.2485, best pos: [6.23431737 6.34878786 5.72606314 3.0535128  1.76857481 5.29046984\n",
            " 3.99874521 2.47171633 2.47442358 0.56556662 4.53899504 1.47292826\n",
            " 3.42603661 4.60928451 6.48773533 2.35131542 0.88212634 3.07756266\n",
            " 1.77526062 1.48692162 3.48441479 0.37541458 4.42464897 4.40089453]\n",
            "2023-09-30 16:48:26,758 - pyswarms.single.global_best - INFO - Optimize for 1 iters with {'c1': 0.5, 'c2': 0.3, 'w': 0.9}\n"
          ]
        },
        {
          "output_type": "stream",
          "name": "stdout",
          "text": [
            "\n",
            "=========================================================================\n",
            "\n",
            "Número de ciclos de manutenção: 10 5\n",
            "Tempos para manutenções preventivas: [0, 52, 81, 93, 142, 208, 302, 344, 534, 563, 587]\n",
            "Severidade para cada subsistema: [0.5, 0.75, 0.5, 0.25, 0.5, 0.5, 0.25, 0.5, 0.25, 0.25]\n",
            "Número de Sisemas: 5\n",
            "Fator:  [0.3296799539643607, 0.6321205588285577, 0.7768698398515702, 0.6321205588285577, 0.3934693402873666, 0.6321205588285577, 0.6321205588285577, 0.3934693402873666, 0.6321205588285577, 0.3934693402873666, 0.3934693402873666]\n",
            "Media de falhas:  [0, 121665.29024000002, 444966.042160959, 478274.30416841776, 1005373.2254432035, 8276114.868207689, 163560226.5228703, 185060403.0177924, 1191777481.4560254, 1802391542.5070484, 1891440061.2851832, 2250969978.9623055]\n",
            "Custo =  240086888777.59836\n"
          ]
        },
        {
          "output_type": "stream",
          "name": "stderr",
          "text": [
            "\rpyswarms.single.global_best:   0%|          |0/1"
          ]
        },
        {
          "output_type": "stream",
          "name": "stdout",
          "text": [
            "\n",
            "=========================================================================\n",
            "\n",
            "Número de ciclos de manutenção: 10 5\n",
            "Tempos para manutenções preventivas: [0, 81, 93, 142, 175, 208, 343, 508, 527, 561, 588]\n",
            "Severidade para cada subsistema: [0.75, 0.5, 0.25, 0.5, 0.5, 0.25, 0.5, 0.5, 0.25, 0.25]\n",
            "Número de Sisemas: 5\n",
            "Fator:  [0.3296799539643607, 0.7768698398515702, 0.6321205588285577, 0.3934693402873666, 0.6321205588285577, 0.6321205588285577, 0.3934693402873666, 0.6321205588285577, 0.6321205588285577, 0.3934693402873666, 0.3934693402873666]\n",
            "Media de falhas: "
          ]
        },
        {
          "output_type": "stream",
          "name": "stderr",
          "text": [
            "pyswarms.single.global_best: 100%|██████████|1/1, best_cost=4.68e+10\n",
            "2023-09-30 16:48:26,791 - pyswarms.single.global_best - INFO - Optimization finished | best cost: 46753971964.2485, best pos: [6.23433459 6.34872021 5.72616424 3.05350792 1.76793699 5.29047419\n",
            " 3.99880765 2.47091006 2.4744215  0.5650912  4.53183316 1.47326526\n",
            " 3.46638736 4.6089635  6.48775313 2.3512297  6.0062958  3.04240225\n",
            " 1.77524324 1.48697875 3.48436838 0.37558431 4.42453815 4.40096438]\n",
            "2023-09-30 16:48:26,793 - pyswarms.single.global_best - INFO - Optimize for 1 iters with {'c1': 0.5, 'c2': 0.3, 'w': 0.9}\n"
          ]
        },
        {
          "output_type": "stream",
          "name": "stdout",
          "text": [
            " [0, 1115771.00832, 1374579.2927118326, 1901678.2139866184, 3217113.5723230806, 15595792.34080253, 150242873.04721135, 809856258.3201041, 1119789471.0007176, 1228755408.77268, 1330495641.7680974, 1662727979.8712919]\n",
            "Custo =  225709821612.252\n"
          ]
        },
        {
          "output_type": "stream",
          "name": "stderr",
          "text": [
            "pyswarms.single.global_best:   0%|          |0/1, best_cost=4.68e+10"
          ]
        },
        {
          "output_type": "stream",
          "name": "stdout",
          "text": [
            "\n",
            "=========================================================================\n",
            "\n",
            "Número de ciclos de manutenção: 11 5\n",
            "Tempos para manutenções preventivas: [0, 81, 93, 141, 208, 325, 343, 486, 520, 560, 588, 645]\n",
            "Severidade para cada subsistema: [0.75, 0.5, 0.25, 0.5, 0.75, 0.25, 0.25, 0.5, 0.25, 0.25, 0.5]\n",
            "Número de Sisemas: 5\n",
            "Fator:  [0.3296799539643607, 0.7768698398515702, 0.6321205588285577, 0.3934693402873666, 0.6321205588285577, 0.7768698398515702, 0.3934693402873666, 0.3934693402873666, 0.6321205588285577, 0.3934693402873666, 0.3934693402873666, 0.6321205588285577]\n",
            "Media de falhas:  [0, 1115771.00832, 1374579.2927118326, 1864876.1574978544, 9339744.036758581, 271130234.43608785, 279074708.0908767, 441410126.73477465, 958461261.2787843, 1774085141.6395898, 1879906080.6284263, 3908534293.0145674, 2567911584.397292]\n",
            "Custo =  434920428616.41895\n"
          ]
        },
        {
          "output_type": "stream",
          "name": "stderr",
          "text": [
            "\rpyswarms.single.global_best: 100%|██████████|1/1, best_cost=4.68e+10\n",
            "2023-09-30 16:48:26,821 - pyswarms.single.global_best - INFO - Optimization finished | best cost: 46753971964.2485, best pos: [6.23434803 6.34861493 5.72620272 3.05350137 1.76734301 5.29043628\n",
            " 3.99893504 2.46986989 2.47441948 0.56483399 4.52326391 1.47355675\n",
            " 3.49565025 4.60862862 6.48776958 2.35153214 3.74317959 3.02675953\n",
            " 1.77524064 1.48702872 3.48425622 0.37571151 4.42459419 4.40102159]\n",
            "2023-09-30 16:48:26,823 - pyswarms.single.global_best - INFO - Optimize for 1 iters with {'c1': 0.5, 'c2': 0.3, 'w': 0.9}\n",
            "pyswarms.single.global_best:   0%|          |0/1<ipython-input-278-3f464f4b430c>:86: RuntimeWarning: divide by zero encountered in double_scalars\n",
            "  Ctotal.append((cmp + (mi[ck+1] - mi[ck])*CMC)/(final-T[ck]))\n",
            "pyswarms.single.global_best:   0%|          |0/1, best_cost=4.68e+10"
          ]
        },
        {
          "output_type": "stream",
          "name": "stdout",
          "text": [
            "\n",
            "=========================================================================\n",
            "\n",
            "Número de ciclos de manutenção: 11 5\n",
            "Tempos para manutenções preventivas: [0, 48, 81, 92, 142, 208, 285, 343, 514, 560, 588, 600]\n",
            "Severidade para cada subsistema: [0.25, 0.75, 0.5, 0.25, 0.5, 0.25, 0.25, 0.5, 0.25, 0.25, 0.5]\n",
            "Número de Sisemas: 5\n",
            "Fator:  [0.3296799539643607, 0.3934693402873666, 0.7768698398515702, 0.6321205588285577, 0.3934693402873666, 0.6321205588285577, 0.3934693402873666, 0.3934693402873666, 0.6321205588285577, 0.3934693402873666, 0.3934693402873666, 0.6321205588285577]\n",
            "Media de falhas:  [0, 81537.26976000001, 446831.01811599935, 606761.0810299426, 1164009.5502752922, 8434751.193039779, 108953049.78432585, 141545225.502343, 2520499720.464776, 3453492267.356479, 3559313206.345316, 3891545544.44851, 3891545544.44851]\n",
            "Custo =  inf\n"
          ]
        },
        {
          "output_type": "stream",
          "name": "stderr",
          "text": [
            "\rpyswarms.single.global_best: 100%|██████████|1/1, best_cost=4.68e+10\n",
            "2023-09-30 16:48:26,849 - pyswarms.single.global_best - INFO - Optimization finished | best cost: 46753971964.2485, best pos: [6.23434803 6.34861493 5.72620272 3.05350137 1.76734301 5.29043628\n",
            " 3.99893504 2.46986989 2.47441948 0.56483399 4.52326391 1.47355675\n",
            " 3.49565025 4.60862862 6.48776958 2.35153214 3.74317959 3.02675953\n",
            " 1.77524064 1.48702872 3.48425622 0.37571151 4.42459419 4.40102159]\n",
            "2023-09-30 16:48:26,851 - pyswarms.single.global_best - INFO - Optimize for 1 iters with {'c1': 0.5, 'c2': 0.3, 'w': 0.9}\n",
            "pyswarms.single.global_best:   0%|          |0/1, best_cost=4.68e+10"
          ]
        },
        {
          "output_type": "stream",
          "name": "stdout",
          "text": [
            "\n",
            "=========================================================================\n",
            "\n",
            "Número de ciclos de manutenção: 13 5\n",
            "Tempos para manutenções preventivas: [0, 81, 92, 142, 209, 295, 342, 387, 486, 511, 560, 588, 610, 637]\n",
            "Severidade para cada subsistema: [0.75, 0.5, 0.25, 0.5, 0.75, 0.25, 0.5, 0.5, 0.5, 0.25, 0.25, 0.5, 0.25]\n",
            "Número de Sisemas: 5\n",
            "Fator:  [0.3296799539643607, 0.7768698398515702, 0.6321205588285577, 0.3934693402873666, 0.6321205588285577, 0.7768698398515702, 0.3934693402873666, 0.6321205588285577, 0.6321205588285577, 0.6321205588285577, 0.3934693402873666, 0.3934693402873666, 0.6321205588285577, 0.3934693402873666]\n",
            "Media de falhas:  [0, 1115771.00832, 1344590.008927957, 1901838.4781733067, 9490638.752540186, 138540191.66443002, 162839836.00113502, 170418779.2023568, 1267075257.9911828, 1321090766.962232, 1485169418.3471599, 1590990357.3359964, 2235175635.3979, 3171759411.3727727, 3041388005.8916674]\n",
            "Custo =  360815234894.36237\n"
          ]
        },
        {
          "output_type": "stream",
          "name": "stderr",
          "text": [
            "\rpyswarms.single.global_best: 100%|██████████|1/1, best_cost=4.68e+10\n",
            "2023-09-30 16:48:26,877 - pyswarms.single.global_best - INFO - Optimization finished | best cost: 46753971964.2485, best pos: [6.23430569 6.34845626 5.7260036  3.05349168 1.76642896 5.29016917\n",
            " 3.99913946 2.46866183 2.47441641 0.56492557 4.50944542 1.47386392\n",
            " 3.48285315 4.60812054 6.4877899  2.35229418 0.43560385 3.2587924\n",
            " 1.77528888 1.48707413 3.48406668 0.37584676 4.42492471 4.40103405]\n",
            "2023-09-30 16:48:26,879 - pyswarms.single.global_best - INFO - Optimize for 1 iters with {'c1': 0.5, 'c2': 0.3, 'w': 0.9}\n",
            "pyswarms.single.global_best:   0%|          |0/1"
          ]
        },
        {
          "output_type": "stream",
          "name": "stdout",
          "text": [
            "\n",
            "=========================================================================\n",
            "\n",
            "Número de ciclos de manutenção: 12 5\n",
            "Tempos para manutenções preventivas: [0, 81, 91, 142, 179, 209, 343, 377, 512, 561, 586, 619, 638]\n",
            "Severidade para cada subsistema: [0.75, 0.5, 0.25, 0.5, 0.5, 0.25, 0.5, 0.5, 0.25, 0.25, 0.5, 0.5]\n",
            "Número de Sisemas: 5\n",
            "Fator:  [0.3296799539643607, 0.7768698398515702, 0.6321205588285577, 0.3934693402873666, 0.6321205588285577, 0.6321205588285577, 0.3934693402873666, 0.6321205588285577, 0.6321205588285577, 0.3934693402873666, 0.3934693402873666, 0.6321205588285577, 0.6321205588285577]\n",
            "Media de falhas:  [0, 1115771.00832, 1316382.648878201, 1905133.0586793805, 3591656.1604862185, 15113224.410883285, 147727499.84935734, 171237468.55179656, 2006549718.4579878, 2171752789.5244884, 2264161257.550064, 3278472094.064385, 3946793949.24049, 3813117911.9695497]\n"
          ]
        },
        {
          "output_type": "stream",
          "name": "stderr",
          "text": [
            "pyswarms.single.global_best: 100%|██████████|1/1, best_cost=4.68e+10\n",
            "2023-09-30 16:48:26,922 - pyswarms.single.global_best - INFO - Optimization finished | best cost: 46753971964.2485, best pos: [6.23427245 6.34844243 5.72586155 3.05348999 1.76630945 5.29003303\n",
            " 3.99919437 2.46857671 2.47441606 0.56525657 4.50427556 1.4738362\n",
            " 3.4532302  4.60802728 6.48779163 2.35255111 0.1326403  3.40749104\n",
            " 1.7753203  1.48707673 3.48401621 0.37564044 4.42509969 4.40100232]\n",
            "2023-09-30 16:48:26,926 - pyswarms.single.global_best - INFO - Optimize for 1 iters with {'c1': 0.5, 'c2': 0.3, 'w': 0.9}\n"
          ]
        },
        {
          "output_type": "stream",
          "name": "stdout",
          "text": [
            "Custo =  368992781881.2949\n"
          ]
        },
        {
          "output_type": "stream",
          "name": "stderr",
          "text": [
            "\rpyswarms.single.global_best:   0%|          |0/1"
          ]
        },
        {
          "output_type": "stream",
          "name": "stdout",
          "text": [
            "\n",
            "=========================================================================\n",
            "\n",
            "Número de ciclos de manutenção: 13 5\n",
            "Tempos para manutenções preventivas: [0, 2, 81, 91, 142, 209, 314, 343, 368, 515, 563, 584, 627, 643]\n",
            "Severidade para cada subsistema: [0.75, 0.75, 0.5, 0.25, 0.5, 0.75, 0.25, 0.5, 0.5, 0.25, 0.25, 0.5, 0.75]\n",
            "Número de Sisemas: 5\n",
            "Fator:  [0.3296799539643607, 0.7768698398515702, 0.7768698398515702, 0.6321205588285577, 0.3934693402873666, 0.6321205588285577, 0.7768698398515702, 0.3934693402873666, 0.6321205588285577, 0.6321205588285577, 0.3934693402873666, 0.3934693402873666, 0.6321205588285577, 0.7768698398515702]\n",
            "Media de falhas:  [0, 0.01024, 1071091.1219993, 1076054.0309920525, 1664804.440793232, 9253604.715160111, 212766301.9560527, 226354595.7761915, 228967365.23662475, 2276799252.274669, 2440280343.6322827, 2515984806.8889055, 3895903421.8903704, 4478347829.357613, 4328267838.157228]\n"
          ]
        },
        {
          "output_type": "stream",
          "name": "stderr",
          "text": [
            "pyswarms.single.global_best: 100%|██████████|1/1, best_cost=4.68e+10\n",
            "2023-09-30 16:48:26,946 - pyswarms.single.global_best - INFO - Optimization finished | best cost: 46753971964.2485, best pos: [6.23424079 6.34845026 5.72570608 3.05348987 1.76633873 5.28991147\n",
            " 3.99920363 2.46883482 2.47441659 0.56575779 4.50216466 1.47370736\n",
            " 3.41336045 4.60794782 6.48779003 2.3527908  6.51241163 3.56008918\n",
            " 1.77534763 1.48706851 3.48397867 0.37527218 4.42526164 4.40094834]\n",
            "2023-09-30 16:48:26,954 - pyswarms.single.global_best - INFO - Optimize for 1 iters with {'c1': 0.5, 'c2': 0.3, 'w': 0.9}\n"
          ]
        },
        {
          "output_type": "stream",
          "name": "stdout",
          "text": [
            "Custo =  382303812070.7589\n"
          ]
        },
        {
          "output_type": "stream",
          "name": "stderr",
          "text": [
            "pyswarms.single.global_best:   0%|          |0/1, best_cost=4.68e+10"
          ]
        },
        {
          "output_type": "stream",
          "name": "stdout",
          "text": [
            "\n",
            "=========================================================================\n",
            "\n",
            "Número de ciclos de manutenção: 12 5\n",
            "Tempos para manutenções preventivas: [0, 39, 81, 91, 143, 152, 209, 281, 344, 361, 520, 564, 583]\n",
            "Severidade para cada subsistema: [0.75, 0.75, 0.5, 0.25, 0.75, 0.5, 0.5, 0.25, 0.5, 0.5, 0.25, 0.25]\n",
            "Número de Sisemas: 5\n",
            "Fator:  [0.3296799539643607, 0.7768698398515702, 0.7768698398515702, 0.6321205588285577, 0.3934693402873666, 0.7768698398515702, 0.6321205588285577, 0.6321205588285577, 0.3934693402873666, 0.6321205588285577, 0.6321205588285577, 0.3934693402873666, 0.3934693402873666]\n",
            "Media de falhas:  [0, 28871.743680000003, 495117.9201925279, 500080.8291852804, 1131369.2405327952, 1286420.7830970325, 22808240.3997471, 30257345.512992606, 67272168.64391169, 76391912.52328727, 2383459930.837667, 2532281960.719007, 2599928653.547479, 3068091290.6017866]\n",
            "Custo =  202552984217.56024\n"
          ]
        },
        {
          "output_type": "stream",
          "name": "stderr",
          "text": [
            "\rpyswarms.single.global_best: 100%|██████████|1/1, best_cost=4.68e+10\n",
            "2023-09-30 16:48:26,974 - pyswarms.single.global_best - INFO - Optimization finished | best cost: 46753971964.2485, best pos: [6.23421239 6.34848504 5.72556826 3.05348987 1.76647319 5.28981567\n",
            " 3.99917153 2.46910742 2.47441755 0.56629776 4.50358161 1.47357819\n",
            " 3.37466902 4.60797219 6.48778561 2.35296448 5.25965768 3.67165553\n",
            " 1.77536725 1.48704765 3.48395748 0.37489596 4.42540174 4.40088073]\n",
            "2023-09-30 16:48:26,976 - pyswarms.single.global_best - INFO - Optimize for 1 iters with {'c1': 0.5, 'c2': 0.3, 'w': 0.9}\n",
            "pyswarms.single.global_best:   0%|          |0/1"
          ]
        },
        {
          "output_type": "stream",
          "name": "stdout",
          "text": [
            "\n",
            "=========================================================================\n",
            "\n",
            "Número de ciclos de manutenção: 13 5\n",
            "Tempos para manutenções preventivas: [0, 15, 40, 81, 90, 143, 209, 319, 344, 486, 525, 564, 581, 645]\n",
            "Severidade para cada subsistema: [0.5, 0.5, 0.75, 0.5, 0.25, 0.5, 0.5, 0.25, 0.5, 0.5, 0.25, 0.25, 0.5]\n",
            "Número de Sisemas: 5\n",
            "Fator:  [0.3296799539643607, 0.6321205588285577, 0.6321205588285577, 0.7768698398515702, 0.6321205588285577, 0.3934693402873666, 0.6321205588285577, 0.6321205588285577, 0.3934693402873666, 0.6321205588285577, 0.6321205588285577, 0.3934693402873666, 0.3934693402873666, 0.6321205588285577]\n",
            "Media de falhas:  [0, 243.00000000000003, 17149.10265724941, 188726.105002757, 209340.6950895554, 875399.7087963321, 8257458.727484545, 235870200.56155574, 247454174.0790132, 684039363.5138986, 1297448622.362317, 1427162847.6083553, 1486537169.1098096, 3753216330.43256, 2412593621.8152847]\n"
          ]
        },
        {
          "output_type": "stream",
          "name": "stderr",
          "text": [
            "pyswarms.single.global_best: 100%|██████████|1/1, best_cost=4.68e+10\n",
            "2023-09-30 16:48:27,014 - pyswarms.single.global_best - INFO - Optimization finished | best cost: 46753971964.2485, best pos: [6.23419851 6.34852503 5.72546988 3.05349149 1.76675775 5.28979226\n",
            " 3.99914239 2.46935919 2.4744185  0.56676263 4.50875735 1.47341199\n",
            " 3.34558488 4.60802347 6.48777951 2.35307169 3.8315651  3.73075164\n",
            " 1.77538148 1.48701606 3.48396552 0.37457222 4.42551508 4.40081951]\n",
            "2023-09-30 16:48:27,018 - pyswarms.single.global_best - INFO - Optimize for 1 iters with {'c1': 0.5, 'c2': 0.3, 'w': 0.9}\n"
          ]
        },
        {
          "output_type": "stream",
          "name": "stdout",
          "text": [
            "Custo =  373976908297.83466\n"
          ]
        },
        {
          "output_type": "stream",
          "name": "stderr",
          "text": [
            "\rpyswarms.single.global_best:   0%|          |0/1"
          ]
        },
        {
          "output_type": "stream",
          "name": "stdout",
          "text": [
            "\n",
            "=========================================================================\n",
            "\n",
            "Número de ciclos de manutenção: 11 5\n",
            "Tempos para manutenções preventivas: [0, 46, 81, 90, 143, 283, 303, 344, 529, 565, 580, 654]\n",
            "Severidade para cada subsistema: [0.25, 0.75, 0.5, 0.25, 0.25, 0.5, 0.25, 0.5, 0.25, 0.25, 0.75]\n",
            "Número de Sisemas: 5\n",
            "Fator:  [0.3296799539643607, 0.3934693402873666, 0.7768698398515702, 0.6321205588285577, 0.3934693402873666, 0.3934693402873666, 0.6321205588285577, 0.3934693402873666, 0.6321205588285577, 0.3934693402873666, 0.3934693402873666, 0.7768698398515702]\n",
            "Media de falhas:  [0, 65908.15232000001, 452742.17971478554, 573534.1190711383, 1239593.1327779149, 85932486.0931484, 120983404.30138285, 237520981.03224012, 1166408757.341391, 1930106261.2697387, 1981850060.085276, 4736113243.769554, 3105364941.8760138]\n"
          ]
        },
        {
          "output_type": "stream",
          "name": "stderr",
          "text": [
            "pyswarms.single.global_best: 100%|██████████|1/1, best_cost=4.68e+10\n",
            "2023-09-30 16:48:27,040 - pyswarms.single.global_best - INFO - Optimization finished | best cost: 46753971964.2485, best pos: [6.23418636 6.34856723 5.72541751 3.05349318 1.76707773 5.28980539\n",
            " 3.99910956 2.46964941 2.47441964 0.56701667 4.51375818 1.47323811\n",
            " 3.32200382 4.60807459 6.48777336 2.35307069 2.25263732 3.73940194\n",
            " 1.77539129 1.48698244 3.4840028  0.37439676 4.42552091 4.40077836]\n",
            "2023-09-30 16:48:27,048 - pyswarms.single.global_best - INFO - Optimize for 1 iters with {'c1': 0.5, 'c2': 0.3, 'w': 0.9}\n"
          ]
        },
        {
          "output_type": "stream",
          "name": "stdout",
          "text": [
            "Custo =  409366342318.43317\n"
          ]
        },
        {
          "output_type": "stream",
          "name": "stderr",
          "text": [
            "pyswarms.single.global_best:   0%|          |0/1, best_cost=4.68e+10"
          ]
        },
        {
          "output_type": "stream",
          "name": "stdout",
          "text": [
            "\n",
            "=========================================================================\n",
            "\n",
            "Número de ciclos de manutenção: 8 5\n",
            "Tempos para manutenções preventivas: [0, 81, 90, 143, 293, 345, 532, 566, 580]\n",
            "Severidade para cada subsistema: [0.75, 0.5, 0.25, 0.5, 0.25, 0.5, 0.25, 0.25]\n",
            "Número de Sisemas: 5\n",
            "Fator:  [0.3296799539643607, 0.7768698398515702, 0.6321205588285577, 0.3934693402873666, 0.6321205588285577, 0.3934693402873666, 0.6321205588285577, 0.3934693402873666, 0.3934693402873666]\n",
            "Media de falhas:  [0, 1115771.00832, 1289876.5963373126, 1955935.6100440891, 111076549.52278043, 259037807.42289215, 1224014306.1813297, 1951828400.384216, 1999989300.89095, 2549060558.612689]\n",
            "Custo =  244315172863.17432\n"
          ]
        },
        {
          "output_type": "stream",
          "name": "stderr",
          "text": [
            "\rpyswarms.single.global_best: 100%|██████████|1/1, best_cost=4.68e+10\n",
            "2023-09-30 16:48:27,077 - pyswarms.single.global_best - INFO - Optimization finished | best cost: 46753971964.2485, best pos: [6.23419035 6.34860422 5.72543476 3.05349473 1.76737698 5.28985956\n",
            " 3.99907593 2.4699169  2.47442077 0.56705589 4.51939978 1.47307711\n",
            " 3.31947487 4.60813955 6.48776775 2.35302894 0.70742781 3.73165858\n",
            " 1.77538618 1.4869505  3.48404797 0.37435562 4.42548876 4.40075364]\n",
            "2023-09-30 16:48:27,079 - pyswarms.single.global_best - INFO - Optimize for 1 iters with {'c1': 0.5, 'c2': 0.3, 'w': 0.9}\n",
            "pyswarms.single.global_best: 100%|██████████|1/1, best_cost=4.68e+10\n",
            "2023-09-30 16:48:27,103 - pyswarms.single.global_best - INFO - Optimization finished | best cost: 46753971964.2485, best pos: [6.23419566 6.34863421 5.72553079 3.05349642 1.76763154 5.28994169\n",
            " 3.99904006 2.47014414 2.47442174 0.56685493 4.52504032 1.47295171\n",
            " 3.32357275 4.60822709 6.48776328 2.35289401 6.04902082 3.71082429\n",
            " 1.77536603 1.48692557 3.48409181 0.3745023  4.42544079 4.40073794]\n"
          ]
        },
        {
          "output_type": "stream",
          "name": "stdout",
          "text": [
            "\n",
            "=========================================================================\n",
            "\n",
            "Número de ciclos de manutenção: 12 5\n",
            "Tempos para manutenções preventivas: [0, 81, 91, 143, 309, 345, 363, 483, 533, 565, 579, 628, 632]\n",
            "Severidade para cada subsistema: [0.75, 0.5, 0.25, 0.5, 0.25, 0.5, 0.75, 0.5, 0.25, 0.25, 0.5, 0.5]\n",
            "Número de Sisemas: 5\n",
            "Fator:  [0.3296799539643607, 0.7768698398515702, 0.6321205588285577, 0.3934693402873666, 0.6321205588285577, 0.3934693402873666, 0.6321205588285577, 0.7768698398515702, 0.6321205588285577, 0.3934693402873666, 0.3934693402873666, 0.6321205588285577, 0.6321205588285577]\n",
            "Media de falhas:  [0, 1115771.00832, 1316382.648878201, 1947671.0602257156, 161578690.3172434, 265714460.6651718, 275629605.20670116, 1567658377.3649945, 1706788091.516567, 1724236063.3724298, 1772068863.8517818, 3347045725.91455, 3484624307.2424374, 3370908511.5294356]\n",
            "Custo =  368212553852.18225\n"
          ]
        },
        {
          "output_type": "stream",
          "name": "stderr",
          "text": [
            "2023-09-30 16:48:27,108 - pyswarms.single.global_best - INFO - Optimize for 1 iters with {'c1': 0.5, 'c2': 0.3, 'w': 0.9}\n",
            "pyswarms.single.global_best:   0%|          |0/1, best_cost=4.68e+10"
          ]
        },
        {
          "output_type": "stream",
          "name": "stdout",
          "text": [
            "\n",
            "=========================================================================\n",
            "\n",
            "Número de ciclos de manutenção: 13 5\n",
            "Tempos para manutenções preventivas: [0, 31, 81, 91, 143, 282, 323, 344, 368, 534, 565, 580, 621, 634]\n",
            "Severidade para cada subsistema: [0.75, 0.75, 0.5, 0.25, 0.25, 0.5, 0.25, 0.5, 0.5, 0.25, 0.25, 0.5, 0.75]\n",
            "Número de Sisemas: 5\n",
            "Fator:  [0.3296799539643607, 0.7768698398515702, 0.7768698398515702, 0.6321205588285577, 0.3934693402873666, 0.3934693402873666, 0.6321205588285577, 0.3934693402873666, 0.6321205588285577, 0.6321205588285577, 0.3934693402873666, 0.3934693402873666, 0.6321205588285577, 0.7768698398515702]\n",
            "Media de falhas:  [0, 9161.32832, 576382.0644699151, 581344.9734626677, 1212633.3848101823, 83726329.52244064, 174050702.80621803, 235356232.40914807, 249718931.9031598, 2930245818.44244, 3031408196.2610326, 3083151995.07657, 4350936691.984521, 4799489601.317105, 4679084098.789154]\n",
            "Custo =  392665274352.9316\n"
          ]
        },
        {
          "output_type": "stream",
          "name": "stderr",
          "text": [
            "\rpyswarms.single.global_best: 100%|██████████|1/1, best_cost=4.68e+10\n",
            "2023-09-30 16:48:27,122 - pyswarms.single.global_best - INFO - Optimization finished | best cost: 46753971964.2485, best pos: [6.23421677 6.34865841 5.72565068 3.05349797 1.76784132 5.29002167\n",
            " 3.99900917 2.4702811  2.4744224  0.56660842 4.52966011 1.47287661\n",
            " 3.33656907 4.60839729 6.48775981 2.35271968 4.00272385 3.67336038\n",
            " 1.77533312 1.48690862 3.4841316  0.37473417 4.42532873 4.40073679]\n",
            "2023-09-30 16:48:27,123 - pyswarms.single.global_best - INFO - Optimize for 1 iters with {'c1': 0.5, 'c2': 0.3, 'w': 0.9}\n",
            "pyswarms.single.global_best: 100%|██████████|1/1, best_cost=4.68e+10"
          ]
        },
        {
          "output_type": "stream",
          "name": "stdout",
          "text": [
            "\n",
            "=========================================================================\n",
            "\n",
            "Número de ciclos de manutenção: 12 5\n",
            "Tempos para manutenções preventivas: [0, 37, 81, 91, 142, 291, 344, 373, 509, 533, 564, 582, 615]\n",
            "Severidade para cada subsistema: [0.5, 0.75, 0.5, 0.25, 0.5, 0.25, 0.5, 0.5, 0.5, 0.25, 0.25, 0.5]\n",
            "Número de Sisemas: 5\n",
            "Fator:  [0.3296799539643607, 0.6321205588285577, 0.7768698398515702, 0.6321205588285577, 0.3934693402873666, 0.6321205588285577, 0.3934693402873666, 0.6321205588285577, 0.6321205588285577, 0.6321205588285577, 0.3934693402873666, 0.3934693402873666, 0.6321205588285577]\n",
            "Media de falhas:  [0, 22190.06624, 512531.4740011885, 536963.332858593, 1125713.7426597723, 106612298.21633625, 255535744.29818842, 274290430.42879033, 2080395123.906029, 2141358685.6946263, 2241824240.536348, 2305298061.6078277, 3293451928.248706, 2864701998.4189043]\n",
            "Custo =  341220590914.91406\n"
          ]
        },
        {
          "output_type": "stream",
          "name": "stderr",
          "text": [
            "\n",
            "2023-09-30 16:48:27,141 - pyswarms.single.global_best - INFO - Optimization finished | best cost: 46753971964.2485, best pos: [6.23424465 6.34866279 5.72577633 3.05349905 1.76795718 5.29009443\n",
            " 3.9989824  2.47026494 2.47442254 0.56637657 4.53355074 1.4728706\n",
            " 3.36087424 4.60855733 6.48775897 2.3525536  1.80544606 3.5939265\n",
            " 1.77530313 1.48689553 3.48415974 0.37501926 4.42521986 4.4007704 ]\n",
            "2023-09-30 16:48:27,143 - pyswarms.single.global_best - INFO - Optimize for 1 iters with {'c1': 0.5, 'c2': 0.3, 'w': 0.9}\n",
            "pyswarms.single.global_best: 100%|██████████|1/1, best_cost=4.68e+10\n",
            "2023-09-30 16:48:27,157 - pyswarms.single.global_best - INFO - Optimization finished | best cost: 46753971964.2485, best pos: [6.23427225 6.34865033 5.72588794 3.05349979 1.76802839 5.29014925\n",
            " 3.99897015 2.47019145 2.47442243 0.56615193 4.53570644 1.47296142\n",
            " 3.3864943  4.60870134 6.48776022 2.35240903 6.29983837 3.49537767\n",
            " 1.77527868 1.4869007  3.48416521 0.37527233 4.42511026 4.40081244]\n",
            "2023-09-30 16:48:27,158 - pyswarms.single.global_best - INFO - Optimize for 1 iters with {'c1': 0.5, 'c2': 0.3, 'w': 0.9}\n"
          ]
        },
        {
          "output_type": "stream",
          "name": "stdout",
          "text": [
            "\n",
            "=========================================================================\n",
            "\n",
            "Número de ciclos de manutenção: 11 5\n",
            "Tempos para manutenções preventivas: [0, 54, 81, 91, 142, 344, 378, 531, 563, 583, 609, 636]\n",
            "Severidade para cada subsistema: [0.25, 0.75, 0.5, 0.25, 0.25, 0.5, 0.5, 0.25, 0.25, 0.5, 0.5]\n",
            "Número de Sisemas: 5\n",
            "Fator:  [0.3296799539643607, 0.3934693402873666, 0.7768698398515702, 0.6321205588285577, 0.3934693402873666, 0.3934693402873666, 0.6321205588285577, 0.6321205588285577, 0.3934693402873666, 0.3934693402873666, 0.6321205588285577, 0.6321205588285577]\n",
            "Media de falhas:  [0, 146932.80768, 449631.00141716306, 589330.3753991337, 1178080.7852003132, 340960367.14484435, 483592951.17595315, 2893003612.324893, 2996323100.079593, 3067732829.2520895, 3821069442.452946, 4751749230.101497, 4624690962.917971]\n",
            "Custo =  381748474872.4013\n"
          ]
        },
        {
          "output_type": "stream",
          "name": "stderr",
          "text": [
            "pyswarms.single.global_best:   0%|          |0/1, best_cost=4.68e+10"
          ]
        },
        {
          "output_type": "stream",
          "name": "stdout",
          "text": [
            "\n",
            "=========================================================================\n",
            "\n",
            "Número de ciclos de manutenção: 12 5\n",
            "Tempos para manutenções preventivas: [0, 22, 81, 92, 142, 303, 344, 382, 529, 563, 585, 605, 658]\n",
            "Severidade para cada subsistema: [0.75, 0.75, 0.5, 0.25, 0.75, 0.25, 0.5, 0.5, 0.25, 0.25, 0.5, 0.75]\n",
            "Número de Sisemas: 5\n",
            "Fator:  [0.3296799539643607, 0.7768698398515702, 0.7768698398515702, 0.6321205588285577, 0.3934693402873666, 0.7768698398515702, 0.3934693402873666, 0.6321205588285577, 0.6321205588285577, 0.3934693402873666, 0.3934693402873666, 0.6321205588285577, 0.7768698398515702]\n",
            "Media de falhas:  [0, 1649.16224, 699454.1853337351, 705484.2855657225, 1262732.7548110723, 142223606.53508458, 258761183.26594186, 264277172.33766252, 2542889818.73491, 2653374659.2994404, 2733449828.385909, 3301149682.553794, 5351759088.085094, 5153413413.751982]\n",
            "Custo =  387089026957.40594\n"
          ]
        },
        {
          "output_type": "stream",
          "name": "stderr",
          "text": [
            "\rpyswarms.single.global_best: 100%|██████████|1/1, best_cost=4.68e+10\n",
            "2023-09-30 16:48:27,173 - pyswarms.single.global_best - INFO - Optimization finished | best cost: 46753971964.2485, best pos: [6.23429381 6.34863263 5.72594839 3.0535004  1.76809119 5.29018897\n",
            " 3.99896513 2.47008191 2.47442191 0.56593944 4.53397189 1.47310874\n",
            " 3.41052506 4.60883017 6.48776177 2.35231013 3.41735114 3.40019407\n",
            " 1.77525965 1.48690913 3.48414994 0.37545318 4.42501432 4.40085463]\n",
            "2023-09-30 16:48:27,174 - pyswarms.single.global_best - INFO - Optimize for 1 iters with {'c1': 0.5, 'c2': 0.3, 'w': 0.9}\n",
            "pyswarms.single.global_best: 100%|██████████|1/1, best_cost=4.68e+10\n",
            "2023-09-30 16:48:27,198 - pyswarms.single.global_best - INFO - Optimization finished | best cost: 46753971964.2485, best pos: [6.23430596 6.34861174 5.72597399 3.05350084 1.7678799  5.29021103\n",
            " 3.99897336 2.46998305 2.47442118 0.56577658 4.52996544 1.47326413\n",
            " 3.4280327  4.60890442 6.48776494 2.3522948  1.08655805 3.3153181\n",
            " 1.775256   1.48691705 3.48412486 0.37552796 4.42493664 4.40089492]\n"
          ]
        },
        {
          "output_type": "stream",
          "name": "stdout",
          "text": [
            "\n",
            "=========================================================================\n",
            "\n",
            "Número de ciclos de manutenção: 15 5\n",
            "Tempos para manutenções preventivas: [0, 18, 41, 81, 92, 142, 209, 273, 309, 343, 385, 527, 562, 587, 601, 656]\n",
            "Severidade para cada subsistema: [0.25, 0.75, 0.75, 0.5, 0.25, 0.5, 0.5, 0.75, 0.25, 0.5, 0.5, 0.25, 0.25, 0.5, 0.25]\n",
            "Número de Sisemas: 5\n",
            "Fator:  [0.3296799539643607, 0.3934693402873666, 0.7768698398515702, 0.7768698398515702, 0.6321205588285577, 0.3934693402873666, 0.6321205588285577, 0.6321205588285577, 0.7768698398515702, 0.3934693402873666, 0.6321205588285577, 0.6321205588285577, 0.3934693402873666, 0.3934693402873666, 0.6321205588285577, 0.3934693402873666]\n",
            "Media de falhas:  [0, 604.6617600000001, 17488.315874399985, 381976.44436953857, 388006.54460152594, 945255.0138468756, 8534055.288213754, 78902266.8558552, 90758437.39932242, 107158545.40271083, 113806156.64955443, 2280984254.5946445, 2394302294.797792, 2487331563.824229, 2876697222.028416, 4975602129.180728, 4783627769.058266]\n",
            "Custo =  375307254417.34766\n"
          ]
        },
        {
          "output_type": "stream",
          "name": "stderr",
          "text": [
            "2023-09-30 16:48:27,200 - pyswarms.single.global_best - INFO - Optimize for 1 iters with {'c1': 0.5, 'c2': 0.3, 'w': 0.9}\n",
            "pyswarms.single.global_best:   0%|          |0/1, best_cost=4.68e+10"
          ]
        },
        {
          "output_type": "stream",
          "name": "stdout",
          "text": [
            "\n",
            "=========================================================================\n",
            "\n",
            "Número de ciclos de manutenção: 14 5\n",
            "Tempos para manutenções preventivas: [0, 16, 38, 81, 91, 142, 209, 278, 310, 343, 387, 499, 524, 561, 588]\n",
            "Severidade para cada subsistema: [0.75, 0.5, 0.75, 0.5, 0.25, 0.5, 0.75, 0.75, 0.25, 0.5, 0.75, 0.5, 0.25, 0.25]\n",
            "Número de Sisemas: 5\n",
            "Fator:  [0.3296799539643607, 0.7768698398515702, 0.6321205588285577, 0.7768698398515702, 0.6321205588285577, 0.3934693402873666, 0.6321205588285577, 0.7768698398515702, 0.7768698398515702, 0.3934693402873666, 0.6321205588285577, 0.7768698398515702, 0.6321205588285577, 0.3934693402873666, 0.3934693402873666]\n",
            "Media de falhas:  [0, 335.54432, 12300.499991466088, 127977.11383481475, 152408.97269221922, 741159.3824933986, 8329959.656860277, 89862878.02512267, 100248105.4509247, 103304066.68979913, 110605066.32957359, 1486167142.7239692, 1545766048.8366654, 1566419841.3558514, 1668160074.3512688, 2000392412.4544632]\n",
            "Custo =  194293505311.992\n"
          ]
        },
        {
          "output_type": "stream",
          "name": "stderr",
          "text": [
            "\rpyswarms.single.global_best: 100%|██████████|1/1, best_cost=4.68e+10\n",
            "2023-09-30 16:48:27,213 - pyswarms.single.global_best - INFO - Optimization finished | best cost: 46753971964.2485, best pos: [6.2343124  6.34858588 5.72596414 3.05350022 1.76746917 5.29019786\n",
            " 3.99899344 2.46985195 2.47442038 0.56571134 4.52554605 1.47338839\n",
            " 3.44194596 4.60891643 6.48776827 2.35237488 6.01534719 3.26600507\n",
            " 1.77525477 1.48692919 3.48409378 0.37555476 4.42491924 4.40092702]\n",
            "2023-09-30 16:48:27,214 - pyswarms.single.global_best - INFO - Optimize for 1 iters with {'c1': 0.5, 'c2': 0.3, 'w': 0.9}\n",
            "pyswarms.single.global_best:   0%|          |0/1, best_cost=4.68e+10"
          ]
        },
        {
          "output_type": "stream",
          "name": "stdout",
          "text": [
            "\n",
            "=========================================================================\n",
            "\n",
            "Número de ciclos de manutenção: 13 5\n",
            "Tempos para manutenções preventivas: [0, 81, 91, 142, 151, 209, 309, 343, 385, 483, 522, 561, 588, 600]\n",
            "Severidade para cada subsistema: [0.75, 0.5, 0.25, 0.75, 0.5, 0.75, 0.25, 0.5, 0.5, 0.5, 0.25, 0.25, 0.5]\n",
            "Número de Sisemas: 5\n",
            "Fator:  [0.3296799539643607, 0.7768698398515702, 0.6321205588285577, 0.3934693402873666, 0.7768698398515702, 0.6321205588285577, 0.7768698398515702, 0.3934693402873666, 0.6321205588285577, 0.6321205588285577, 0.6321205588285577, 0.3934693402873666, 0.3934693402873666, 0.6321205588285577]\n",
            "Media de falhas:  [0, 1115771.00832, 1316382.648878201, 1905133.0586793805, 2056251.8411089464, 23960814.88804404, 45583575.19416773, 61983683.19755614, 68631294.44439974, 1127775932.6678689, 1223960946.312092, 1351025088.8588655, 1452765321.8542829, 1784997659.9574773, 1784997659.9574773]\n",
            "Custo =  inf\n"
          ]
        },
        {
          "output_type": "stream",
          "name": "stderr",
          "text": [
            "\rpyswarms.single.global_best: 100%|██████████|1/1, best_cost=4.68e+10\n",
            "2023-09-30 16:48:27,255 - pyswarms.single.global_best - INFO - Optimization finished | best cost: 46753971964.2485, best pos: [6.2343124  6.34858588 5.72596414 3.05350022 1.76746917 5.29019786\n",
            " 3.99899344 2.46985195 2.47442038 0.56571134 4.52554605 1.47338839\n",
            " 3.44194596 4.60891643 6.48776827 2.35237488 6.01534719 3.26600507\n",
            " 1.77525477 1.48692919 3.48409378 0.37555476 4.42491924 4.40092702]\n",
            "2023-09-30 16:48:27,259 - pyswarms.single.global_best - INFO - Optimize for 1 iters with {'c1': 0.5, 'c2': 0.3, 'w': 0.9}\n",
            "pyswarms.single.global_best:   0%|          |0/1, best_cost=4.68e+10"
          ]
        },
        {
          "output_type": "stream",
          "name": "stdout",
          "text": [
            "\n",
            "=========================================================================\n",
            "\n",
            "Número de ciclos de manutenção: 14 5\n",
            "Tempos para manutenções preventivas: [0, 81, 91, 142, 209, 299, 301, 343, 381, 485, 521, 561, 588, 602, 656]\n",
            "Severidade para cada subsistema: [0.75, 0.5, 0.25, 0.5, 0.5, 0.75, 0.25, 0.5, 0.25, 0.5, 0.25, 0.25, 0.5, 0.5]\n",
            "Número de Sisemas: 5\n",
            "Fator:  [0.3296799539643607, 0.7768698398515702, 0.6321205588285577, 0.3934693402873666, 0.6321205588285577, 0.6321205588285577, 0.7768698398515702, 0.3934693402873666, 0.6321205588285577, 0.3934693402873666, 0.6321205588285577, 0.3934693402873666, 0.3934693402873666, 0.6321205588285577, 0.6321205588285577]\n",
            "Media de falhas:  [0, 1115771.00832, 1316382.648878201, 1905133.0586793805, 9493933.33304626, 152161337.14300832, 152647127.68032792, 173914552.15554506, 179381187.40738463, 1320402600.716707, 1407582936.3956668, 2229101803.0567365, 2330842036.0521536, 2722815350.06167, 4785063555.165418, 4593089195.042955]\n",
            "Custo =  439808462660.59576\n"
          ]
        },
        {
          "output_type": "stream",
          "name": "stderr",
          "text": [
            "\rpyswarms.single.global_best: 100%|██████████|1/1, best_cost=4.68e+10\n",
            "2023-09-30 16:48:27,311 - pyswarms.single.global_best - INFO - Optimization finished | best cost: 46753971964.2485, best pos: [6.23430832 6.3485367  5.72593325 3.05349799 1.76676381 5.29012487\n",
            " 3.99904703 2.4696725  2.47441916 0.56576242 4.51964601 1.4735272\n",
            " 3.43774693 4.60881022 6.48777362 2.35258142 0.84525417 3.33647253\n",
            " 1.77528742 1.48697195 3.48404471 0.37525538 4.42502381 4.40094255]\n",
            "2023-09-30 16:48:27,313 - pyswarms.single.global_best - INFO - Optimize for 1 iters with {'c1': 0.5, 'c2': 0.3, 'w': 0.9}\n",
            "pyswarms.single.global_best:   0%|          |0/1, best_cost=4.68e+10"
          ]
        },
        {
          "output_type": "stream",
          "name": "stdout",
          "text": [
            "\n",
            "=========================================================================\n",
            "\n",
            "Número de ciclos de manutenção: 12 5\n",
            "Tempos para manutenções preventivas: [0, 39, 81, 91, 142, 209, 343, 377, 509, 521, 562, 587, 604]\n",
            "Severidade para cada subsistema: [0.75, 0.75, 0.5, 0.25, 0.5, 0.25, 0.5, 0.75, 0.5, 0.25, 0.25, 0.5]\n",
            "Número de Sisemas: 5\n",
            "Fator:  [0.3296799539643607, 0.7768698398515702, 0.7768698398515702, 0.6321205588285577, 0.3934693402873666, 0.6321205588285577, 0.3934693402873666, 0.6321205588285577, 0.7768698398515702, 0.6321205588285577, 0.3934693402873666, 0.3934693402873666, 0.6321205588285577]\n",
            "Media de falhas:  [0, 28871.743680000003, 495117.9201925279, 500080.8291852804, 1088831.2389864598, 8677631.513353338, 384032593.07420707, 407542561.7766463, 2160276131.345545, 2187106183.3756104, 2211081191.872062, 2304110460.898499, 2784939509.845944, 2672153532.8327503]\n",
            "Custo =  319721516610.0662\n"
          ]
        },
        {
          "output_type": "stream",
          "name": "stderr",
          "text": [
            "\rpyswarms.single.global_best: 100%|██████████|1/1, best_cost=4.68e+10\n",
            "2023-09-30 16:48:27,344 - pyswarms.single.global_best - INFO - Optimization finished | best cost: 46753971964.2485, best pos: [6.23429978 6.34852293 5.72590732 3.05349676 1.7665951  5.29007573\n",
            " 3.99906818 2.46964423 2.47441892 0.56593891 4.51857948 1.47353258\n",
            " 3.42366916 4.60871265 6.48777478 2.35268677 5.03765465 3.3863042\n",
            " 1.77530581 1.48699055 3.48403589 0.37509946 4.4250892  4.40092622]\n",
            "2023-09-30 16:48:27,345 - pyswarms.single.global_best - INFO - Optimize for 1 iters with {'c1': 0.5, 'c2': 0.3, 'w': 0.9}\n",
            "pyswarms.single.global_best:   0%|          |0/1"
          ]
        },
        {
          "output_type": "stream",
          "name": "stdout",
          "text": [
            "\n",
            "=========================================================================\n",
            "\n",
            "Número de ciclos de manutenção: 13 5\n",
            "Tempos para manutenções preventivas: [0, 37, 81, 91, 143, 209, 296, 343, 374, 492, 521, 562, 586, 607]\n",
            "Severidade para cada subsistema: [0.5, 0.75, 0.5, 0.25, 0.5, 0.5, 0.25, 0.5, 0.5, 0.5, 0.25, 0.25, 0.5]\n",
            "Número de Sisemas: 5\n",
            "Fator:  [0.3296799539643607, 0.6321205588285577, 0.7768698398515702, 0.6321205588285577, 0.3934693402873666, 0.6321205588285577, 0.6321205588285577, 0.3934693402873666, 0.6321205588285577, 0.6321205588285577, 0.6321205588285577, 0.3934693402873666, 0.3934693402873666, 0.6321205588285577]\n",
            "Media de falhas:  [0, 22190.06624, 512531.4740011885, 536963.332858593, 1168251.7442061077, 8550310.762894321, 140909668.27115571, 165473109.86552268, 185939134.9441561, 1554194774.0640569, 1622716825.3128872, 1758124140.7405462, 1846577917.4316335, 2450014411.5299845, 2251920958.8452606]\n",
            "Custo =  323291651826.23145\n"
          ]
        },
        {
          "output_type": "stream",
          "name": "stderr",
          "text": [
            "pyswarms.single.global_best: 100%|██████████|1/1, best_cost=4.68e+10\n",
            "2023-09-30 16:48:27,569 - pyswarms.single.global_best - INFO - Optimization finished | best cost: 46753971964.2485, best pos: [6.23428723 6.34851484 5.72587364 3.05349563 1.76657242 5.29002977\n",
            " 3.99908429 2.46963875 2.47441893 0.56613021 4.51800414 1.4734774\n",
            " 3.40776585 4.60859007 6.4877753  2.35277292 1.92768309 3.44959231\n",
            " 1.77532377 1.48700605 3.48403864 0.37494125 4.42515481 4.40090087]\n",
            "2023-09-30 16:48:27,607 - pyswarms.single.global_best - INFO - Optimize for 1 iters with {'c1': 0.5, 'c2': 0.3, 'w': 0.9}\n",
            "pyswarms.single.global_best: 100%|██████████|1/1, best_cost=4.68e+10\n",
            "2023-09-30 16:48:27,682 - pyswarms.single.global_best - INFO - Optimization finished | best cost: 46753971964.2485, best pos: [6.23427061 6.34852014 5.72582546 3.05349478 1.76663679 5.28999225\n",
            " 3.99909589 2.46966075 2.47441918 0.56630054 4.51852888 1.47342243\n",
            " 3.39247612 4.60847776 6.48777479 2.35284099 6.35140989 3.50871269\n",
            " 1.77533988 1.48701223 3.48404837 0.37480415 4.42520988 4.40086819]\n",
            "2023-09-30 16:48:27,686 - pyswarms.single.global_best - INFO - Optimize for 1 iters with {'c1': 0.5, 'c2': 0.3, 'w': 0.9}\n"
          ]
        },
        {
          "output_type": "stream",
          "name": "stdout",
          "text": [
            "\n",
            "=========================================================================\n",
            "\n",
            "Número de ciclos de manutenção: 12 5\n",
            "Tempos para manutenções preventivas: [0, 18, 81, 91, 143, 173, 209, 344, 370, 522, 563, 584, 611]\n",
            "Severidade para cada subsistema: [0.25, 0.75, 0.5, 0.25, 0.25, 0.5, 0.25, 0.5, 0.5, 0.25, 0.25, 0.5]\n",
            "Número de Sisemas: 5\n",
            "Fator:  [0.3296799539643607, 0.3934693402873666, 0.7768698398515702, 0.6321205588285577, 0.3934693402873666, 0.3934693402873666, 0.6321205588285577, 0.3934693402873666, 0.6321205588285577, 0.6321205588285577, 0.3934693402873666, 0.3934693402873666, 0.6321205588285577]\n",
            "Media de falhas:  [0, 604.6617600000001, 763232.8148174301, 902932.1887994007, 1534220.6001469153, 2636204.0820200806, 16355256.191681575, 399165214.99632525, 415216090.0452793, 2651269620.33871, 2787609867.6064806, 2863314330.8631034, 3655256165.548745, 3342424569.2418365]\n",
            "Custo =  333282709204.52576\n"
          ]
        },
        {
          "output_type": "stream",
          "name": "stderr",
          "text": [
            "pyswarms.single.global_best: 100%|██████████|1/1, best_cost=4.68e+10\n",
            "2023-09-30 16:48:27,720 - pyswarms.single.global_best - INFO - Optimization finished | best cost: 46753971964.2485, best pos: [6.2342515  6.34852778 5.72576174 3.05349413 1.76672609 5.28996098\n",
            " 3.99909682 2.46968716 2.47441947 0.5664288  4.52003937 1.47336222\n",
            " 3.37930372 4.60839517 6.48777339 2.35289555 3.41495826 3.55828752\n",
            " 1.77535236 1.48701218 3.48406595 0.37470529 4.42524104 4.40083842]\n",
            "2023-09-30 16:48:27,729 - pyswarms.single.global_best - INFO - Optimize for 1 iters with {'c1': 0.5, 'c2': 0.3, 'w': 0.9}\n"
          ]
        },
        {
          "output_type": "stream",
          "name": "stdout",
          "text": [
            "\n",
            "=========================================================================\n",
            "\n",
            "Número de ciclos de manutenção: 12 5\n",
            "Tempos para manutenções preventivas: [0, 49, 81, 91, 143, 154, 271, 344, 367, 523, 563, 582, 615]\n",
            "Severidade para cada subsistema: [0.75, 0.75, 0.5, 0.25, 0.5, 0.75, 0.25, 0.5, 0.5, 0.25, 0.25, 0.5]\n",
            "Número de Sisemas: 5\n",
            "Fator:  [0.3296799539643607, 0.7768698398515702, 0.7768698398515702, 0.6321205588285577, 0.3934693402873666, 0.6321205588285577, 0.7768698398515702, 0.3934693402873666, 0.6321205588285577, 0.6321205588285577, 0.3934693402873666, 0.3934693402873666, 0.6321205588285577]\n",
            "Media de falhas:  [0, 90392.07968000001, 445065.2509680865, 450028.159960839, 1081316.5713083537, 1285555.8060696886, 130968969.28951685, 176970748.63835225, 179279444.56964514, 2493452308.410583, 2626022612.216853, 2693212584.311412, 3681366450.95229, 3252616521.1224885]\n",
            "Custo =  328381902513.7012\n"
          ]
        },
        {
          "output_type": "stream",
          "name": "stderr",
          "text": [
            "pyswarms.single.global_best: 100%|██████████|1/1, best_cost=4.68e+10\n",
            "2023-09-30 16:48:27,760 - pyswarms.single.global_best - INFO - Optimization finished | best cost: 46753971964.2485, best pos: [6.23423489 6.34854229 5.72570128 3.05349419 1.76692422 5.28993646\n",
            " 3.99909653 2.46972557 2.47442001 0.5664624  4.52180836 1.47330262\n",
            " 3.36947244 4.60836409 6.4877719  2.35288283 0.1719762  3.58986826\n",
            " 1.77535525 1.48700097 3.48408186 0.37465131 4.42525275 4.40081267]\n",
            "2023-09-30 16:48:27,766 - pyswarms.single.global_best - INFO - Optimize for 1 iters with {'c1': 0.5, 'c2': 0.3, 'w': 0.9}\n"
          ]
        },
        {
          "output_type": "stream",
          "name": "stdout",
          "text": [
            "\n",
            "=========================================================================\n",
            "\n",
            "Número de ciclos de manutenção: 13 5\n",
            "Tempos para manutenções preventivas: [0, 19, 36, 81, 91, 143, 344, 365, 490, 524, 564, 581, 619, 645]\n",
            "Severidade para cada subsistema: [0.5, 0.5, 0.75, 0.5, 0.25, 0.25, 0.5, 0.25, 0.5, 0.25, 0.25, 0.5, 0.5]\n",
            "Número de Sisemas: 5\n",
            "Fator:  [0.3296799539643607, 0.6321205588285577, 0.6321205588285577, 0.7768698398515702, 0.6321205588285577, 0.3934693402873666, 0.3934693402873666, 0.6321205588285577, 0.3934693402873666, 0.6321205588285577, 0.3934693402873666, 0.3934693402873666, 0.6321205588285577, 0.6321205588285577]\n",
            "Media de falhas:  [0, 792.3516800000001, 8125.044689962008, 222477.8627533338, 246909.72161073826, 878198.1329582529, 336451405.22736573, 414303031.697999, 1839783184.9377072, 1923376489.4341166, 2762772385.193307, 2822146706.6947613, 3984966754.5029263, 4934198099.0478, 4777607722.640155]\n",
            "Custo =  457302971766.3399\n"
          ]
        },
        {
          "output_type": "stream",
          "name": "stderr",
          "text": [
            "pyswarms.single.global_best: 100%|██████████|1/1, best_cost=4.68e+10\n",
            "2023-09-30 16:48:27,826 - pyswarms.single.global_best - INFO - Optimization finished | best cost: 46753971964.2485, best pos: [6.23422386 6.34855579 5.72564999 3.05349484 1.7671255  5.2899329\n",
            " 3.99909472 2.46977193 2.47442054 0.56639924 4.52348037 1.47323039\n",
            " 3.36736169 4.60838541 6.48777047 2.35281292 5.00328122 3.59560784\n",
            " 1.77534688 1.48698471 3.4840983  0.37466496 4.42524393 4.40080456]\n",
            "2023-09-30 16:48:27,834 - pyswarms.single.global_best - INFO - Optimize for 1 iters with {'c1': 0.5, 'c2': 0.3, 'w': 0.9}\n"
          ]
        },
        {
          "output_type": "stream",
          "name": "stdout",
          "text": [
            "\n",
            "=========================================================================\n",
            "\n",
            "Número de ciclos de manutenção: 10 5\n",
            "Tempos para manutenções preventivas: [0, 36, 81, 91, 143, 344, 365, 524, 564, 581, 622]\n",
            "Severidade para cada subsistema: [0.25, 0.75, 0.5, 0.25, 0.25, 0.5, 0.5, 0.25, 0.25, 0.5]\n",
            "Número de Sisemas: 5\n",
            "Fator:  [0.3296799539643607, 0.3934693402873666, 0.7768698398515702, 0.6321205588285577, 0.3934693402873666, 0.3934693402873666, 0.6321205588285577, 0.6321205588285577, 0.3934693402873666, 0.3934693402873666, 0.6321205588285577]\n",
            "Media de falhas:  [0, 19349.176320000002, 522008.7482472706, 661708.1222292412, 1292996.5335767558, 336866203.6279842, 414717830.0986175, 2792901763.3679504, 2926384855.385078, 2985759176.8865323, 4261800960.4176216, 3627210893.031054]\n",
            "Custo =  348677385216.747\n"
          ]
        },
        {
          "output_type": "stream",
          "name": "stderr",
          "text": [
            "\rpyswarms.single.global_best:   0%|          |0/1"
          ]
        },
        {
          "output_type": "stream",
          "name": "stdout",
          "text": [
            "\n",
            "=========================================================================\n",
            "\n",
            "Número de ciclos de manutenção: 12 5\n",
            "Tempos para manutenções preventivas: [0, 81, 91, 143, 298, 344, 366, 498, 525, 564, 581, 623, 655]\n",
            "Severidade para cada subsistema: [0.75, 0.5, 0.25, 0.25, 0.25, 0.5, 0.25, 0.5, 0.25, 0.25, 0.5, 0.5]\n",
            "Número de Sisemas: 5\n",
            "Fator:  [0.3296799539643607, 0.7768698398515702, 0.6321205588285577, 0.3934693402873666, 0.3934693402873666, 0.3934693402873666, 0.6321205588285577, 0.3934693402873666, 0.6321205588285577, 0.3934693402873666, 0.3934693402873666, 0.6321205588285577, 0.6321205588285577]\n",
            "Media de falhas:  [0, 1115771.00832, 1316382.648878201, 1947671.0602257156, 125230751.96118893, 255301298.11478138, 337641845.30484015, 1943844632.9078703, 2009129147.4883182, 2828287702.683491, 2887662024.1849456, 4202219723.262705, 5438470638.529045, 5249687981.818948]\n"
          ]
        },
        {
          "output_type": "stream",
          "name": "stderr",
          "text": [
            "pyswarms.single.global_best: 100%|██████████|1/1, best_cost=4.68e+10\n",
            "2023-09-30 16:48:27,874 - pyswarms.single.global_best - INFO - Optimization finished | best cost: 46753971964.2485, best pos: [6.23421846 6.34856939 5.72562432 3.05349569 1.76730866 5.2899551\n",
            " 3.99908791 2.46981562 2.47442099 0.56629447 4.52488748 1.47315908\n",
            " 3.37367575 4.60844875 6.48776919 2.35271023 2.72495462 3.57480554\n",
            " 1.7753343  1.48696591 3.48411228 0.37468546 4.42522082 4.40081171]\n",
            "2023-09-30 16:48:27,876 - pyswarms.single.global_best - INFO - Optimize for 1 iters with {'c1': 0.5, 'c2': 0.3, 'w': 0.9}\n"
          ]
        },
        {
          "output_type": "stream",
          "name": "stdout",
          "text": [
            "Custo =  479435161979.9091\n"
          ]
        },
        {
          "output_type": "stream",
          "name": "stderr",
          "text": [
            "pyswarms.single.global_best:   0%|          |0/1, best_cost=4.68e+10"
          ]
        },
        {
          "output_type": "stream",
          "name": "stdout",
          "text": [
            "\n",
            "=========================================================================\n",
            "\n",
            "Número de ciclos de manutenção: 12 5\n",
            "Tempos para manutenções preventivas: [0, 16, 81, 91, 143, 151, 344, 367, 488, 525, 564, 581, 623]\n",
            "Severidade para cada subsistema: [0.25, 0.75, 0.5, 0.25, 0.5, 0.25, 0.5, 0.75, 0.5, 0.25, 0.25, 0.5]\n",
            "Número de Sisemas: 5\n",
            "Fator:  [0.3296799539643607, 0.3934693402873666, 0.7768698398515702, 0.6321205588285577, 0.3934693402873666, 0.6321205588285577, 0.3934693402873666, 0.6321205588285577, 0.7768698398515702, 0.6321205588285577, 0.3934693402873666, 0.3934693402873666, 0.6321205588285577]\n",
            "Media de falhas:  [0, 335.54432, 797091.0968086133, 936790.4707905839, 1568078.8821380986, 1700818.596160399, 596974682.8260881, 610526272.3566871, 1968126138.2289019, 2060750492.9128869, 2083392315.7011673, 2142766637.2026217, 3457324336.280381, 2793006600.007465]\n",
            "Custo =  326828942994.4042\n"
          ]
        },
        {
          "output_type": "stream",
          "name": "stderr",
          "text": [
            "\rpyswarms.single.global_best: 100%|██████████|1/1, best_cost=4.68e+10\n",
            "2023-09-30 16:48:27,918 - pyswarms.single.global_best - INFO - Optimization finished | best cost: 46753971964.2485, best pos: [6.23421936 6.34858146 5.72563639 3.05349659 1.76746259 5.28998969\n",
            " 3.99907794 2.46984716 2.47442125 0.56619246 4.52612159 1.47310552\n",
            " 3.38416701 4.60852608 6.48776811 2.35259526 1.12049761 3.55482215\n",
            " 1.77532137 1.48694983 3.48412232 0.37478152 4.42519182 4.40082273]\n",
            "2023-09-30 16:48:27,920 - pyswarms.single.global_best - INFO - Optimize for 1 iters with {'c1': 0.5, 'c2': 0.3, 'w': 0.9}\n",
            "pyswarms.single.global_best:   0%|          |0/1, best_cost=4.68e+10"
          ]
        },
        {
          "output_type": "stream",
          "name": "stdout",
          "text": [
            "\n",
            "=========================================================================\n",
            "\n",
            "Número de ciclos de manutenção: 12 5\n",
            "Tempos para manutenções preventivas: [0, 81, 91, 143, 171, 344, 369, 502, 525, 564, 581, 622, 656]\n",
            "Severidade para cada subsistema: [0.75, 0.5, 0.25, 0.75, 0.25, 0.5, 0.25, 0.5, 0.25, 0.25, 0.5, 0.5]\n",
            "Número de Sisemas: 5\n",
            "Fator:  [0.3296799539643607, 0.7768698398515702, 0.6321205588285577, 0.3934693402873666, 0.7768698398515702, 0.3934693402873666, 0.6321205588285577, 0.3934693402873666, 0.6321205588285577, 0.3934693402873666, 0.3934693402873666, 0.6321205588285577, 0.6321205588285577]\n",
            "Media de falhas:  [0, 1115771.00832, 1316382.648878201, 1947671.0602257156, 2907688.351093604, 518258139.8581115, 520896697.9994032, 2191888794.7251487, 2246767310.159541, 3065925865.3547144, 3125300186.8561687, 4401341970.387259, 5720664817.919046, 5528690457.796584]\n",
            "Custo =  463863808771.5826\n"
          ]
        },
        {
          "output_type": "stream",
          "name": "stderr",
          "text": [
            "\rpyswarms.single.global_best: 100%|██████████|1/1, best_cost=4.68e+10\n",
            "2023-09-30 16:48:27,950 - pyswarms.single.global_best - INFO - Optimization finished | best cost: 46753971964.2485, best pos: [6.23422485 6.34859069 5.72566468 3.05349742 1.76754684 5.29002297\n",
            " 3.99906134 2.46987484 2.47442141 0.56609437 4.52666173 1.47306839\n",
            " 3.39564726 4.60859982 6.48776744 2.35249247 6.22971692 3.5253799\n",
            " 1.77530913 1.48693757 3.48412317 0.37490816 4.42515334 4.4008362 ]\n",
            "2023-09-30 16:48:27,955 - pyswarms.single.global_best - INFO - Optimize for 1 iters with {'c1': 0.5, 'c2': 0.3, 'w': 0.9}\n",
            "pyswarms.single.global_best: 100%|██████████|1/1, best_cost=4.68e+10\n",
            "2023-09-30 16:48:27,987 - pyswarms.single.global_best - INFO - Optimization finished | best cost: 46753971964.2485, best pos: [6.23423559 6.34859649 5.72569872 3.05349794 1.76753779 5.29005763\n",
            " 3.99904563 2.46989033 2.47442136 0.56601068 4.52633522 1.47306252\n",
            " 3.40593423 4.60866584 6.48776749 2.35243327 3.8367324  3.49686407\n",
            " 1.77529912 1.48693041 3.48412142 0.3750302  4.42511723 4.40084888]\n",
            "2023-09-30 16:48:27,989 - pyswarms.single.global_best - INFO - Optimize for 1 iters with {'c1': 0.5, 'c2': 0.3, 'w': 0.9}\n"
          ]
        },
        {
          "output_type": "stream",
          "name": "stdout",
          "text": [
            "\n",
            "=========================================================================\n",
            "\n",
            "Número de ciclos de manutenção: 13 5\n",
            "Tempos para manutenções preventivas: [0, 1, 81, 91, 142, 151, 209, 294, 344, 371, 525, 564, 582, 620]\n",
            "Severidade para cada subsistema: [0.5, 0.75, 0.5, 0.25, 0.25, 0.5, 0.5, 0.25, 0.5, 0.5, 0.25, 0.25, 0.5]\n",
            "Número de Sisemas: 5\n",
            "Fator:  [0.3296799539643607, 0.6321205588285577, 0.7768698398515702, 0.6321205588285577, 0.3934693402873666, 0.3934693402873666, 0.6321205588285577, 0.6321205588285577, 0.3934693402873666, 0.6321205588285577, 0.6321205588285577, 0.3934693402873666, 0.3934693402873666, 0.6321205588285577]\n",
            "Media de falhas:  [0, 0.00032, 1093248.4697320159, 1117680.3285894203, 1706430.7383905998, 1857549.5208201658, 23762112.56775526, 149563504.02569097, 176492948.80433384, 193421771.4184162, 2511893396.6749835, 2641607621.9210215, 2705081442.9925013, 3875496339.296394, 3300116387.9697943]\n",
            "Custo =  338177752272.6764\n"
          ]
        },
        {
          "output_type": "stream",
          "name": "stderr",
          "text": [
            "pyswarms.single.global_best: 100%|██████████|1/1, best_cost=4.68e+10\n",
            "2023-09-30 16:48:28,018 - pyswarms.single.global_best - INFO - Optimization finished | best cost: 46753971964.2485, best pos: [6.23425041 6.34859234 5.72573812 3.05349825 1.76751956 5.29008875\n",
            " 3.99903227 2.46987405 2.47442106 0.56594148 4.52497313 1.47307809\n",
            " 3.41238841 4.60869316 6.48776772 2.35242662 1.42782663 3.46579166\n",
            " 1.77529084 1.48693349 3.48411252 0.37513628 4.42508478 4.40086221]\n",
            "2023-09-30 16:48:28,022 - pyswarms.single.global_best - INFO - Optimize for 1 iters with {'c1': 0.5, 'c2': 0.3, 'w': 0.9}\n"
          ]
        },
        {
          "output_type": "stream",
          "name": "stdout",
          "text": [
            "\n",
            "=========================================================================\n",
            "\n",
            "Número de ciclos de manutenção: 13 5\n",
            "Tempos para manutenções preventivas: [0, 58, 81, 91, 142, 156, 209, 344, 373, 488, 524, 563, 583, 617]\n",
            "Severidade para cada subsistema: [0.5, 0.75, 0.5, 0.25, 0.5, 0.5, 0.25, 0.5, 0.25, 0.5, 0.25, 0.25, 0.5]\n",
            "Número de Sisemas: 5\n",
            "Fator:  [0.3296799539643607, 0.6321205588285577, 0.7768698398515702, 0.6321205588285577, 0.3934693402873666, 0.6321205588285577, 0.6321205588285577, 0.3934693402873666, 0.6321205588285577, 0.3934693402873666, 0.6321205588285577, 0.3934693402873666, 0.3934693402873666, 0.6321205588285577]\n",
            "Media de falhas:  [0, 210034.16576, 471911.8254290571, 496343.6842864616, 1085094.094087641, 1368659.8725689782, 21373332.15884986, 157182353.53180736, 175937039.66240928, 1466837223.1274025, 1555977065.2353392, 2369289751.631625, 2440699480.8041215, 3471273733.117058, 2984107225.283509]\n",
            "Custo =  396692987410.479\n"
          ]
        },
        {
          "output_type": "stream",
          "name": "stderr",
          "text": [
            "pyswarms.single.global_best: 100%|██████████|1/1, best_cost=4.68e+10"
          ]
        },
        {
          "output_type": "stream",
          "name": "stdout",
          "text": [
            "\n",
            "=========================================================================\n",
            "\n",
            "Número de ciclos de manutenção: 13 5\n",
            "Tempos para manutenções preventivas: [0, 5, 81, 91, 142, 172, 209, 270, 344, 374, 523, 563, 583, 614]\n",
            "Severidade para cada subsistema: [0.75, 0.75, 0.5, 0.25, 0.75, 0.5, 0.5, 0.25, 0.5, 0.5, 0.25, 0.25, 0.5]\n",
            "Número de Sisemas: 5\n",
            "Fator:  [0.3296799539643607, 0.7768698398515702, 0.7768698398515702, 0.6321205588285577, 0.3934693402873666, 0.7768698398515702, 0.6321205588285577, 0.6321205588285577, 0.3934693402873666, 0.6321205588285577, 0.6321205588285577, 0.3934693402873666, 0.3934693402873666, 0.6321205588285577]\n",
            "Media de falhas:  [0, 1.0, 1006766.596888108, 1011729.5058808605, 1600479.91568204, 2679743.2423243374, 16764814.770139214, 21316997.676500306, 68282690.93569615, 87986210.25412959, 2295601155.1704717, 2428171458.976742, 2499581188.149238, 3423474525.1424026, 3023817414.2983475]\n",
            "Custo =  327435688310.9124\n"
          ]
        },
        {
          "output_type": "stream",
          "name": "stderr",
          "text": [
            "\n",
            "2023-09-30 16:48:28,053 - pyswarms.single.global_best - INFO - Optimization finished | best cost: 46753971964.2485, best pos: [6.23426421 6.34858693 5.72577568 3.05349832 1.76748986 5.2901058\n",
            " 3.99902553 2.46985116 2.47442077 0.56589339 4.52331493 1.47312981\n",
            " 3.41601113 4.60871698 6.48776822 2.35248129 6.66587814 3.43797822\n",
            " 1.77528814 1.48694493 3.48409911 0.37521228 4.42506086 4.4008751 ]\n",
            "2023-09-30 16:48:28,059 - pyswarms.single.global_best - INFO - Optimize for 1 iters with {'c1': 0.5, 'c2': 0.3, 'w': 0.9}\n",
            "pyswarms.single.global_best: 100%|██████████|1/1, best_cost=4.68e+10\n",
            "2023-09-30 16:48:28,086 - pyswarms.single.global_best - INFO - Optimization finished | best cost: 46753971964.2485, best pos: [6.23427624 6.348579   5.72580628 3.05349818 1.76741636 5.29011807\n",
            " 3.99902516 2.46981605 2.47442047 0.56590959 4.52172032 1.47317941\n",
            " 3.41640702 4.60869363 6.48776896 2.35253431 4.37548913 3.42079718\n",
            " 1.77528896 1.48696084 3.48408589 0.37526004 4.42505268 4.40088509]\n",
            "2023-09-30 16:48:28,089 - pyswarms.single.global_best - INFO - Optimize for 1 iters with {'c1': 0.5, 'c2': 0.3, 'w': 0.9}\n"
          ]
        },
        {
          "output_type": "stream",
          "name": "stdout",
          "text": [
            "\n",
            "=========================================================================\n",
            "\n",
            "Número de ciclos de manutenção: 11 5\n",
            "Tempos para manutenções preventivas: [0, 35, 81, 91, 142, 209, 344, 375, 523, 562, 584, 611]\n",
            "Severidade para cada subsistema: [0.75, 0.75, 0.5, 0.25, 0.5, 0.25, 0.5, 0.5, 0.25, 0.25, 0.5]\n",
            "Número de Sisemas: 5\n",
            "Fator:  [0.3296799539643607, 0.7768698398515702, 0.7768698398515702, 0.6321205588285577, 0.3934693402873666, 0.6321205588285577, 0.3934693402873666, 0.6321205588285577, 0.6321205588285577, 0.3934693402873666, 0.3934693402873666, 0.6321205588285577]\n",
            "Media de falhas:  [0, 16807.0, 531974.1351721042, 536937.0441648568, 1125687.4539660362, 8714487.728332914, 391524446.5329766, 412201354.74621665, 2604697298.9219003, 2732640233.922665, 2812177904.0402765, 3604119738.7259183, 3291288142.4190097]\n",
            "Custo =  332480503341.96655\n"
          ]
        },
        {
          "output_type": "stream",
          "name": "stderr",
          "text": [
            "pyswarms.single.global_best: 100%|██████████|1/1, best_cost=4.68e+10\n",
            "2023-09-30 16:48:28,112 - pyswarms.single.global_best - INFO - Optimization finished | best cost: 46753971964.2485, best pos: [6.23428667 6.34856781 5.7258224  3.05349802 1.76730443 5.29011039\n",
            " 3.99903142 2.46977976 2.47442018 0.56596894 4.52029767 1.47322969\n",
            " 3.4108676  4.60866818 6.48776997 2.35258505 2.08050007 3.40929405\n",
            " 1.77529524 1.48697519 3.48407518 0.37526979 4.42505412 4.40089097]\n",
            "2023-09-30 16:48:28,118 - pyswarms.single.global_best - INFO - Optimize for 1 iters with {'c1': 0.5, 'c2': 0.3, 'w': 0.9}\n"
          ]
        },
        {
          "output_type": "stream",
          "name": "stdout",
          "text": [
            "\n",
            "=========================================================================\n",
            "\n",
            "Número de ciclos de manutenção: 13 5\n",
            "Tempos para manutenções preventivas: [0, 2, 81, 91, 142, 150, 209, 344, 376, 523, 562, 585, 609, 659]\n",
            "Severidade para cada subsistema: [0.25, 0.75, 0.5, 0.25, 0.5, 0.5, 0.25, 0.5, 0.5, 0.25, 0.25, 0.5, 0.5]\n",
            "Número de Sisemas: 5\n",
            "Fator:  [0.3296799539643607, 0.3934693402873666, 0.7768698398515702, 0.6321205588285577, 0.3934693402873666, 0.6321205588285577, 0.6321205588285577, 0.3934693402873666, 0.6321205588285577, 0.6321205588285577, 0.3934693402873666, 0.3934693402873666, 0.6321205588285577, 0.6321205588285577]\n",
            "Media de falhas:  [0, 0.01024, 1071091.1219993, 1210790.4959812707, 1799540.90578245, 1928880.2849936606, 24217694.467894223, 160026715.84085172, 181702042.22614428, 2359103720.93025, 2487046655.931015, 2571003572.278658, 3267748738.5653315, 5218558250.724091, 5017032523.042862]\n",
            "Custo =  381289750889.15076\n"
          ]
        },
        {
          "output_type": "stream",
          "name": "stderr",
          "text": [
            "\rpyswarms.single.global_best:   0%|          |0/1"
          ]
        },
        {
          "output_type": "stream",
          "name": "stdout",
          "text": [
            "\n",
            "=========================================================================\n",
            "\n",
            "Número de ciclos de manutenção: 13 5\n",
            "Tempos para manutenções preventivas: [0, 81, 91, 142, 160, 209, 282, 344, 376, 485, 522, 562, 585, 608]\n",
            "Severidade para cada subsistema: [0.75, 0.5, 0.25, 0.75, 0.5, 0.75, 0.25, 0.5, 0.25, 0.5, 0.25, 0.25, 0.5]\n",
            "Número de Sisemas: 5\n",
            "Fator:  [0.3296799539643607, 0.7768698398515702, 0.6321205588285577, 0.3934693402873666, 0.7768698398515702, 0.6321205588285577, 0.7768698398515702, 0.3934693402873666, 0.6321205588285577, 0.3934693402873666, 0.6321205588285577, 0.3934693402873666, 0.3934693402873666, 0.6321205588285577]\n",
            "Media de falhas:  [0, 1115771.00832, 1316382.648878201, 1905133.0586793805, 2327711.0952716535, 20834314.903182846, 28605735.481511388, 64783797.710574195, 68800128.95802858, 1263455213.0313365, 1354049398.198141, 2181495185.9834714, 2265452102.3311143, 2929420909.786148, 2702750979.5707016]\n"
          ]
        },
        {
          "output_type": "stream",
          "name": "stderr",
          "text": [
            "pyswarms.single.global_best: 100%|██████████|1/1, best_cost=4.68e+10\n",
            "2023-09-30 16:48:28,144 - pyswarms.single.global_best - INFO - Optimization finished | best cost: 46753971964.2485, best pos: [6.23428957 6.3485574  5.72582088 3.05349782 1.76717084 5.29009223\n",
            " 3.99904047 2.46974742 2.47441994 0.5660486  4.51966628 1.47327215\n",
            " 3.40257638 4.60862925 6.48777092 2.35264299 6.56770064 3.40825401\n",
            " 1.7753054  1.48698758 3.4840662  0.37523234 4.42507121 4.40089543]\n",
            "2023-09-30 16:48:28,151 - pyswarms.single.global_best - INFO - Optimize for 1 iters with {'c1': 0.5, 'c2': 0.3, 'w': 0.9}\n"
          ]
        },
        {
          "output_type": "stream",
          "name": "stdout",
          "text": [
            "Custo =  384836215472.6299\n"
          ]
        },
        {
          "output_type": "stream",
          "name": "stderr",
          "text": [
            "\rpyswarms.single.global_best:   0%|          |0/1"
          ]
        },
        {
          "output_type": "stream",
          "name": "stdout",
          "text": [
            "\n",
            "=========================================================================\n",
            "\n",
            "Número de ciclos de manutenção: 11 5\n",
            "Tempos para manutenções preventivas: [0, 31, 81, 91, 142, 209, 344, 375, 522, 562, 585, 607]\n",
            "Severidade para cada subsistema: [0.75, 0.75, 0.5, 0.25, 0.5, 0.25, 0.5, 0.5, 0.25, 0.25, 0.5]\n",
            "Número de Sisemas: 5\n",
            "Fator:  [0.3296799539643607, 0.7768698398515702, 0.7768698398515702, 0.6321205588285577, 0.3934693402873666, 0.6321205588285577, 0.3934693402873666, 0.6321205588285577, 0.6321205588285577, 0.3934693402873666, 0.3934693402873666, 0.6321205588285577]\n",
            "Media de falhas:  [0, 9161.32832, 576382.0644699151, 581344.9734626677, 1170095.383263847, 8758895.657630727, 391568854.46227443, 412245762.67551446, 2573118179.2505064, 2704780397.75976, 2788737314.107403, 3420274936.5354133, 3222181483.850689]\n"
          ]
        },
        {
          "output_type": "stream",
          "name": "stderr",
          "text": [
            "pyswarms.single.global_best: 100%|██████████|1/1, best_cost=4.68e+10\n",
            "2023-09-30 16:48:28,176 - pyswarms.single.global_best - INFO - Optimization finished | best cost: 46753971964.2485, best pos: [6.23428429 6.34854867 5.72581371 3.05349759 1.7670501  5.29006485\n",
            " 3.99904975 2.46972507 2.47441978 0.56612605 4.51919274 1.47330311\n",
            " 3.39481206 4.60858627 6.48777178 2.35269398 3.61671019 3.41644095\n",
            " 1.77531514 1.48699789 3.48406382 0.37517727 4.42509118 4.40089524]\n",
            "2023-09-30 16:48:28,182 - pyswarms.single.global_best - INFO - Optimize for 1 iters with {'c1': 0.5, 'c2': 0.3, 'w': 0.9}\n"
          ]
        },
        {
          "output_type": "stream",
          "name": "stdout",
          "text": [
            "Custo =  329146245695.1557\n"
          ]
        },
        {
          "output_type": "stream",
          "name": "stderr",
          "text": [
            "\rpyswarms.single.global_best:   0%|          |0/1"
          ]
        },
        {
          "output_type": "stream",
          "name": "stdout",
          "text": [
            "\n",
            "=========================================================================\n",
            "\n",
            "Número de ciclos de manutenção: 13 5\n",
            "Tempos para manutenções preventivas: [0, 81, 91, 143, 209, 276, 344, 374, 495, 523, 562, 585, 607, 635]\n",
            "Severidade para cada subsistema: [0.75, 0.5, 0.25, 0.5, 0.5, 0.25, 0.5, 0.25, 0.5, 0.25, 0.25, 0.5, 0.25]\n",
            "Número de Sisemas: 5\n",
            "Fator:  [0.3296799539643607, 0.7768698398515702, 0.6321205588285577, 0.3934693402873666, 0.6321205588285577, 0.6321205588285577, 0.3934693402873666, 0.6321205588285577, 0.3934693402873666, 0.6321205588285577, 0.3934693402873666, 0.3934693402873666, 0.6321205588285577, 0.3934693402873666]\n",
            "Media de falhas:  [0, 1115771.00832, 1316382.648878201, 1947671.0602257156, 9329730.078913929, 86257796.0422613, 127621641.52720457, 147325160.845638, 1584649377.62391, 1651575878.3692126, 2459074075.3637037, 2543030991.7113466, 3174568614.139357, 4132737055.6798744, 4009000675.1736665]\n"
          ]
        },
        {
          "output_type": "stream",
          "name": "stderr",
          "text": [
            "pyswarms.single.global_best: 100%|██████████|1/1, best_cost=4.68e+10\n",
            "2023-09-30 16:48:28,211 - pyswarms.single.global_best - INFO - Optimization finished | best cost: 46753971964.2485, best pos: [6.23427618 6.34854231 5.72579832 3.05349732 1.76695253 5.29003623\n",
            " 3.99905836 2.46971343 2.47441974 0.56619459 4.51904375 1.47331938\n",
            " 3.38790663 4.60854122 6.48777237 2.35273492 1.14226122 3.42421252\n",
            " 1.77532383 1.48700611 3.48406817 0.37512244 4.42511645 4.40088894]\n",
            "2023-09-30 16:48:28,213 - pyswarms.single.global_best - INFO - Optimize for 1 iters with {'c1': 0.5, 'c2': 0.3, 'w': 0.9}\n"
          ]
        },
        {
          "output_type": "stream",
          "name": "stdout",
          "text": [
            "Custo =  430629166014.9664\n"
          ]
        },
        {
          "output_type": "stream",
          "name": "stderr",
          "text": [
            "pyswarms.single.global_best: 100%|██████████|1/1, best_cost=4.68e+10\n",
            "2023-09-30 16:48:28,238 - pyswarms.single.global_best - INFO - Optimization finished | best cost: 46753971964.2485, best pos: [6.23426442 6.34853945 5.72578244 3.05349699 1.76688806 5.29001069\n",
            " 3.99906496 2.46970681 2.47441971 0.56623807 4.51973348 1.47333142\n",
            " 3.38313533 4.60850174 6.48777268 2.35275255 5.30813506 3.43394128\n",
            " 1.77533152 1.48700919 3.48407699 0.37503973 4.42514326 4.4008814 ]\n"
          ]
        },
        {
          "output_type": "stream",
          "name": "stdout",
          "text": [
            "\n",
            "=========================================================================\n",
            "\n",
            "Número de ciclos de manutenção: 11 5\n",
            "Tempos para manutenções preventivas: [0, 81, 91, 143, 209, 290, 344, 373, 523, 562, 585, 607]\n",
            "Severidade para cada subsistema: [0.75, 0.5, 0.25, 0.5, 0.75, 0.25, 0.5, 0.5, 0.25, 0.25, 0.5]\n",
            "Número de Sisemas: 5\n",
            "Fator:  [0.3296799539643607, 0.7768698398515702, 0.6321205588285577, 0.3934693402873666, 0.6321205588285577, 0.7768698398515702, 0.3934693402873666, 0.6321205588285577, 0.6321205588285577, 0.3934693402873666, 0.3934693402873666, 0.6321205588285577]\n",
            "Media de falhas:  [0, 1115771.00832, 1316382.648878201, 1947671.0602257156, 9329730.078913929, 122737727.14120531, 152594153.6672804, 155974993.0010815, 2378734060.00709, 2506676995.007855, 2590633911.355498, 3222171533.7835083, 3024078081.0987844]\n",
            "Custo =  323928019309.1308\n"
          ]
        },
        {
          "output_type": "stream",
          "name": "stderr",
          "text": [
            "2023-09-30 16:48:28,240 - pyswarms.single.global_best - INFO - Optimize for 1 iters with {'c1': 0.5, 'c2': 0.3, 'w': 0.9}\n",
            "pyswarms.single.global_best: 100%|██████████|1/1, best_cost=4.68e+10"
          ]
        },
        {
          "output_type": "stream",
          "name": "stdout",
          "text": [
            "\n",
            "=========================================================================\n",
            "\n",
            "Número de ciclos de manutenção: 13 5\n",
            "Tempos para manutenções preventivas: [0, 28, 54, 81, 91, 143, 209, 282, 344, 371, 523, 562, 585, 608]\n",
            "Severidade para cada subsistema: [0.5, 0.75, 0.75, 0.5, 0.25, 0.5, 0.25, 0.25, 0.5, 0.5, 0.25, 0.25, 0.5]\n",
            "Número de Sisemas: 5\n",
            "Fator:  [0.3296799539643607, 0.6321205588285577, 0.7768698398515702, 0.7768698398515702, 0.6321205588285577, 0.3934693402873666, 0.6321205588285577, 0.3934693402873666, 0.3934693402873666, 0.6321205588285577, 0.6321205588285577, 0.3934693402873666, 0.3934693402873666, 0.6321205588285577]\n",
            "Media de falhas:  [0, 5507.317760000001, 62310.62394110635, 133666.8078242727, 138629.71681702524, 769918.1281645399, 8151977.146852753, 99476767.43989271, 135654829.6689555, 241638551.90057737, 2494762767.29147, 2622705702.292235, 2706662618.639878, 3370631426.0949116, 3143961495.879465]\n",
            "Custo =  339381599597.0532\n"
          ]
        },
        {
          "output_type": "stream",
          "name": "stderr",
          "text": [
            "\n",
            "2023-09-30 16:48:28,276 - pyswarms.single.global_best - INFO - Optimization finished | best cost: 46753971964.2485, best pos: [6.23425355 6.34854305 5.72576197 3.05349662 1.76686237 5.28999927\n",
            " 3.99906962 2.46971434 2.4744198  0.56625795 4.52092399 1.47331129\n",
            " 3.38167121 4.60847886 6.48777238 2.35274077 2.06496407 3.44705738\n",
            " 1.7753359  1.48701041 3.48408828 0.37495918 4.4251654  4.40087037]\n",
            "2023-09-30 16:48:28,280 - pyswarms.single.global_best - INFO - Optimize for 1 iters with {'c1': 0.5, 'c2': 0.3, 'w': 0.9}\n",
            "pyswarms.single.global_best:   0%|          |0/1, best_cost=4.68e+10"
          ]
        },
        {
          "output_type": "stream",
          "name": "stdout",
          "text": [
            "\n",
            "=========================================================================\n",
            "\n",
            "Número de ciclos de manutenção: 12 5\n",
            "Tempos para manutenções preventivas: [0, 56, 81, 91, 143, 167, 344, 370, 489, 524, 563, 585, 609]\n",
            "Severidade para cada subsistema: [0.5, 0.75, 0.5, 0.25, 0.25, 0.25, 0.5, 0.75, 0.5, 0.25, 0.25, 0.5]\n",
            "Número de Sisemas: 5\n",
            "Fator:  [0.3296799539643607, 0.6321205588285577, 0.7768698398515702, 0.6321205588285577, 0.3934693402873666, 0.3934693402873666, 0.3934693402873666, 0.6321205588285577, 0.7768698398515702, 0.6321205588285577, 0.3934693402873666, 0.3934693402873666, 0.6321205588285577]\n",
            "Media de falhas:  [0, 176234.16832000003, 458486.21688846906, 482918.07574587356, 1114206.4870933883, 1829553.3312559603, 532542550.8085125, 633634364.4600856, 1979949684.2032552, 2066306089.944237, 2088803277.4738047, 2168878446.560273, 2865623612.8469467, 2610305656.864867]\n",
            "Custo =  329370375408.80615\n"
          ]
        },
        {
          "output_type": "stream",
          "name": "stderr",
          "text": [
            "\rpyswarms.single.global_best: 100%|██████████|1/1, best_cost=4.68e+10\n",
            "2023-09-30 16:48:28,306 - pyswarms.single.global_best - INFO - Optimization finished | best cost: 46753971964.2485, best pos: [6.23424381 6.34854749 5.72574061 3.0534963  1.76691249 5.28999964\n",
            " 3.99907345 2.4697396  2.4744199  0.56623412 4.52212842 1.47329274\n",
            " 3.38428596 4.60846073 6.48777203 2.35270123 6.68313469 3.45923293\n",
            " 1.77533632 1.48700274 3.48409901 0.37489448 4.42518194 4.40085996]\n",
            "2023-09-30 16:48:28,314 - pyswarms.single.global_best - INFO - Optimize for 1 iters with {'c1': 0.5, 'c2': 0.3, 'w': 0.9}\n",
            "pyswarms.single.global_best:   0%|          |0/1, best_cost=4.68e+10"
          ]
        },
        {
          "output_type": "stream",
          "name": "stdout",
          "text": [
            "\n",
            "=========================================================================\n",
            "\n",
            "Número de ciclos de manutenção: 10 5\n",
            "Tempos para manutenções preventivas: [0, 51, 81, 91, 143, 344, 369, 524, 563, 584, 612]\n",
            "Severidade para cada subsistema: [0.25, 0.75, 0.5, 0.25, 0.25, 0.5, 0.5, 0.25, 0.25, 0.5]\n",
            "Número de Sisemas: 5\n",
            "Fator:  [0.3296799539643607, 0.3934693402873666, 0.7768698398515702, 0.6321205588285577, 0.3934693402873666, 0.3934693402873666, 0.6321205588285577, 0.6321205588285577, 0.3934693402873666, 0.3934693402873666, 0.6321205588285577]\n",
            "Media de falhas:  [0, 110408.08032000001, 444094.1144299669, 583793.4884119375, 1215081.8997594523, 336788288.994167, 433070879.00661016, 2749438018.1896133, 2878264308.8190384, 2953968772.075661, 3779878874.2483506, 3438180187.3680224]\n",
            "Custo =  341537667419.5708\n"
          ]
        },
        {
          "output_type": "stream",
          "name": "stderr",
          "text": [
            "\rpyswarms.single.global_best: 100%|██████████|1/1, best_cost=4.68e+10\n",
            "2023-09-30 16:48:28,337 - pyswarms.single.global_best - INFO - Optimization finished | best cost: 46753971964.2485, best pos: [6.23423681 6.3485531  5.72572318 3.05349611 1.76700478 5.29001091\n",
            " 3.99907597 2.46977347 2.47442013 0.56620519 4.52334179 1.473256\n",
            " 3.38838026 4.60846154 6.4877714  2.35265424 3.82503124 3.47064845\n",
            " 1.77533576 1.4869912  3.48410713 0.3748365  4.42518873 4.40085175]\n",
            "2023-09-30 16:48:28,342 - pyswarms.single.global_best - INFO - Optimize for 1 iters with {'c1': 0.5, 'c2': 0.3, 'w': 0.9}\n",
            "pyswarms.single.global_best:   0%|          |0/1, best_cost=4.68e+10"
          ]
        },
        {
          "output_type": "stream",
          "name": "stdout",
          "text": [
            "\n",
            "=========================================================================\n",
            "\n",
            "Número de ciclos de manutenção: 11 5\n",
            "Tempos para manutenções preventivas: [0, 23, 81, 91, 143, 289, 344, 369, 525, 563, 584, 615]\n",
            "Severidade para cada subsistema: [0.5, 0.75, 0.5, 0.25, 0.5, 0.25, 0.5, 0.5, 0.25, 0.25, 0.5]\n",
            "Número de Sisemas: 5\n",
            "Fator:  [0.3296799539643607, 0.6321205588285577, 0.7768698398515702, 0.6321205588285577, 0.3934693402873666, 0.6321205588285577, 0.3934693402873666, 0.6321205588285577, 0.6321205588285577, 0.3934693402873666, 0.3934693402873666, 0.6321205588285577]\n",
            "Media de falhas:  [0, 2059.6297600000003, 684345.5956287623, 708777.4544861667, 1340065.8658336815, 100093788.21189299, 254392113.88751853, 269587762.52863884, 2619075472.0885954, 2744183383.1586156, 2819887846.4152384, 3749858149.8409476, 3321108220.011146]\n",
            "Custo =  338626237469.3461\n"
          ]
        },
        {
          "output_type": "stream",
          "name": "stderr",
          "text": [
            "\rpyswarms.single.global_best: 100%|██████████|1/1, best_cost=4.68e+10\n",
            "2023-09-30 16:48:28,369 - pyswarms.single.global_best - INFO - Optimization finished | best cost: 46753971964.2485, best pos: [6.23423114 6.34856005 5.72571492 3.05349605 1.7671013  5.29002715\n",
            " 3.99907488 2.4698069  2.47442042 0.56617621 4.52434439 1.47321693\n",
            " 3.39322961 4.60846301 6.48777063 2.3526066  1.1807904  3.48105183\n",
            " 1.77533415 1.48697481 3.48411046 0.37478972 4.42519365 4.40084872]\n",
            "2023-09-30 16:48:28,370 - pyswarms.single.global_best - INFO - Optimize for 1 iters with {'c1': 0.5, 'c2': 0.3, 'w': 0.9}\n",
            "pyswarms.single.global_best: 100%|██████████|1/1, best_cost=4.68e+10\n",
            "2023-09-30 16:48:28,394 - pyswarms.single.global_best - INFO - Optimization finished | best cost: 46753971964.2485, best pos: [6.2342272  6.34856654 5.72571199 3.05349615 1.767189   5.29004265\n",
            " 3.99906774 2.46983392 2.47442068 0.56613566 4.5249953  1.47318026\n",
            " 3.39773533 4.60847378 6.48776992 2.3525644  5.89426082 3.48941652\n",
            " 1.77533205 1.4869596  3.48411226 0.37479723 4.42519025 4.40085076]\n"
          ]
        },
        {
          "output_type": "stream",
          "name": "stdout",
          "text": [
            "\n",
            "=========================================================================\n",
            "\n",
            "Número de ciclos de manutenção: 13 5\n",
            "Tempos para manutenções preventivas: [0, 18, 59, 81, 91, 143, 168, 344, 369, 509, 525, 564, 584, 617]\n",
            "Severidade para cada subsistema: [0.25, 0.5, 0.75, 0.5, 0.25, 0.25, 0.25, 0.5, 0.5, 0.5, 0.25, 0.25, 0.5]\n",
            "Número de Sisemas: 5\n",
            "Fator:  [0.3296799539643607, 0.3934693402873666, 0.6321205588285577, 0.7768698398515702, 0.6321205588285577, 0.3934693402873666, 0.3934693402873666, 0.3934693402873666, 0.6321205588285577, 0.6321205588285577, 0.6321205588285577, 0.3934693402873666, 0.3934693402873666, 0.6321205588285577]\n",
            "Media de falhas:  [0, 604.6617600000001, 135177.6655306749, 322574.16267872555, 347006.02153613005, 978294.4328836447, 1750203.4811872272, 528594539.3273222, 624877129.3397653, 2484670246.8660145, 2522000915.243655, 2651715140.489693, 2723609057.7873154, 3724777300.823201, 3237610792.989652]\n",
            "Custo =  353741685346.4298\n"
          ]
        },
        {
          "output_type": "stream",
          "name": "stderr",
          "text": [
            "2023-09-30 16:48:28,396 - pyswarms.single.global_best - INFO - Optimize for 1 iters with {'c1': 0.5, 'c2': 0.3, 'w': 0.9}\n",
            "pyswarms.single.global_best:   0%|          |0/1"
          ]
        },
        {
          "output_type": "stream",
          "name": "stdout",
          "text": [
            "\n",
            "=========================================================================\n",
            "\n",
            "Número de ciclos de manutenção: 12 5\n",
            "Tempos para manutenções preventivas: [0, 34, 81, 91, 143, 288, 344, 370, 481, 524, 564, 583, 619]\n",
            "Severidade para cada subsistema: [0.25, 0.75, 0.5, 0.25, 0.5, 0.25, 0.5, 0.25, 0.5, 0.25, 0.25, 0.5]\n",
            "Número de Sisemas: 5\n",
            "Fator:  [0.3296799539643607, 0.3934693402873666, 0.7768698398515702, 0.6321205588285577, 0.3934693402873666, 0.6321205588285577, 0.3934693402873666, 0.6321205588285577, 0.3934693402873666, 0.6321205588285577, 0.3934693402873666, 0.3934693402873666, 0.6321205588285577]\n",
            "Media de falhas:  [0, 14539.335680000002, 542410.0122180318, 682109.3862000024, 1313397.797547517, 97602654.90243244, 254587453.609306, 270638328.65826005, 1447026960.1165183, 1556241851.5202053, 2395637747.279396, 2463284440.107868, 3566838024.075121, 3020942031.374073]\n"
          ]
        },
        {
          "output_type": "stream",
          "name": "stderr",
          "text": [
            "pyswarms.single.global_best: 100%|██████████|1/1, best_cost=4.68e+10\n",
            "2023-09-30 16:48:28,436 - pyswarms.single.global_best - INFO - Optimization finished | best cost: 46753971964.2485, best pos: [6.23422618 6.34857152 5.72571087 3.05349624 1.76726286 5.29005679\n",
            " 3.99906044 2.46985353 2.4744209  0.56609748 4.52509819 1.47314937\n",
            " 3.40140245 4.60848615 6.48776931 2.35253906 3.17521308 3.49291115\n",
            " 1.77532683 1.48694656 3.48410864 0.37485515 4.42517335 4.40085654]\n",
            "2023-09-30 16:48:28,438 - pyswarms.single.global_best - INFO - Optimize for 1 iters with {'c1': 0.5, 'c2': 0.3, 'w': 0.9}\n"
          ]
        },
        {
          "output_type": "stream",
          "name": "stdout",
          "text": [
            "Custo =  404765341398.1216\n"
          ]
        },
        {
          "output_type": "stream",
          "name": "stderr",
          "text": [
            "pyswarms.single.global_best: 100%|██████████|1/1, best_cost=4.68e+10\n",
            "2023-09-30 16:48:28,477 - pyswarms.single.global_best - INFO - Optimization finished | best cost: 46753971964.2485, best pos: [6.23423077 6.34857524 5.72571641 3.05349633 1.76731767 5.29006942\n",
            " 3.99905272 2.46986513 2.47442096 0.56606724 4.52450934 1.47313231\n",
            " 3.40423066 4.60850223 6.48776883 2.35252273 0.34721561 3.49171113\n",
            " 1.77531978 1.48693609 3.48410158 0.37494326 4.42514812 4.40086452]\n",
            "2023-09-30 16:48:28,478 - pyswarms.single.global_best - INFO - Optimize for 1 iters with {'c1': 0.5, 'c2': 0.3, 'w': 0.9}\n"
          ]
        },
        {
          "output_type": "stream",
          "name": "stdout",
          "text": [
            "\n",
            "=========================================================================\n",
            "\n",
            "Número de ciclos de manutenção: 10 5\n",
            "Tempos para manutenções preventivas: [0, 58, 81, 91, 142, 344, 370, 524, 564, 583, 619]\n",
            "Severidade para cada subsistema: [0.75, 0.75, 0.5, 0.25, 0.25, 0.5, 0.5, 0.25, 0.25, 0.5]\n",
            "Número de Sisemas: 5\n",
            "Fator:  [0.3296799539643607, 0.7768698398515702, 0.7768698398515702, 0.6321205588285577, 0.3934693402873666, 0.3934693402873666, 0.6321205588285577, 0.6321205588285577, 0.3934693402873666, 0.3934693402873666, 0.6321205588285577]\n",
            "Media de falhas:  [0, 210034.16576, 471911.8254290571, 476874.73442180967, 1065625.1442229892, 340847911.50386703, 441939725.1554401, 2742922281.7184505, 2876405373.735578, 2944052066.56405, 4047605650.5313025, 3501709657.8302546]\n",
            "Custo =  347287176898.21814\n"
          ]
        },
        {
          "output_type": "stream",
          "name": "stderr",
          "text": [
            "\rpyswarms.single.global_best:   0%|          |0/1"
          ]
        },
        {
          "output_type": "stream",
          "name": "stdout",
          "text": [
            "\n",
            "=========================================================================\n",
            "\n",
            "Número de ciclos de manutenção: 13 5\n",
            "Tempos para manutenções preventivas: [0, 9, 38, 81, 91, 142, 209, 344, 371, 504, 524, 564, 583, 619]\n",
            "Severidade para cada subsistema: [0.75, 0.5, 0.75, 0.5, 0.25, 0.5, 0.25, 0.5, 0.5, 0.5, 0.25, 0.25, 0.5]\n",
            "Número de Sisemas: 5\n",
            "Fator:  [0.3296799539643607, 0.7768698398515702, 0.6321205588285577, 0.7768698398515702, 0.6321205588285577, 0.3934693402873666, 0.6321205588285577, 0.3934693402873666, 0.6321205588285577, 0.6321205588285577, 0.6321205588285577, 0.3934693402873666, 0.3934693402873666, 0.6321205588285577]\n",
            "Media de falhas:  [0, 18.895680000000002, 16902.43277188177, 132579.04661523044, 157010.9054726349, 745761.3152738144, 8334561.589640694, 391144520.39428437, 408073343.0083667, 2105816468.7429237, 2152721284.6655917, 2286204376.682719, 2353851069.5111914, 3457404653.478444, 2911508660.777396]\n"
          ]
        },
        {
          "output_type": "stream",
          "name": "stderr",
          "text": [
            "pyswarms.single.global_best: 100%|██████████|1/1, best_cost=4.68e+10\n",
            "2023-09-30 16:48:28,516 - pyswarms.single.global_best - INFO - Optimization finished | best cost: 46753971964.2485, best pos: [6.2342388  6.3485784  5.72572906 3.05349643 1.76732483 5.29007935\n",
            " 3.99904567 2.46986081 2.47442088 0.56604768 4.52393366 1.47313078\n",
            " 3.40509361 4.60853125 6.48776874 2.35252659 4.32280556 3.48872138\n",
            " 1.77531334 1.48692891 3.48409289 0.37502679 4.42512321 4.40087171]\n",
            "2023-09-30 16:48:28,519 - pyswarms.single.global_best - INFO - Optimize for 1 iters with {'c1': 0.5, 'c2': 0.3, 'w': 0.9}\n"
          ]
        },
        {
          "output_type": "stream",
          "name": "stdout",
          "text": [
            "Custo =  339945765509.656\n"
          ]
        },
        {
          "output_type": "stream",
          "name": "stderr",
          "text": [
            "pyswarms.single.global_best: 100%|██████████|1/1, best_cost=4.68e+10\n",
            "2023-09-30 16:48:28,548 - pyswarms.single.global_best - INFO - Optimization finished | best cost: 46753971964.2485, best pos: [6.23424616 6.34857728 5.72574466 3.05349654 1.76728606 5.29008625\n",
            " 3.99904054 2.46983744 2.4744208  0.56604849 4.5231045  1.47314246\n",
            " 3.4056215  4.60855751 6.48776882 2.35253436 1.41557994 3.48354644\n",
            " 1.77530759 1.48692403 3.48408512 0.37509417 4.4251019  4.40087789]\n",
            "2023-09-30 16:48:28,551 - pyswarms.single.global_best - INFO - Optimize for 1 iters with {'c1': 0.5, 'c2': 0.3, 'w': 0.9}\n"
          ]
        },
        {
          "output_type": "stream",
          "name": "stdout",
          "text": [
            "\n",
            "=========================================================================\n",
            "\n",
            "Número de ciclos de manutenção: 12 5\n",
            "Tempos para manutenções preventivas: [0, 16, 81, 91, 142, 209, 344, 372, 480, 524, 563, 584, 618]\n",
            "Severidade para cada subsistema: [0.5, 0.75, 0.5, 0.25, 0.5, 0.25, 0.5, 0.25, 0.5, 0.25, 0.25, 0.5]\n",
            "Número de Sisemas: 5\n",
            "Fator:  [0.3296799539643607, 0.6321205588285577, 0.7768698398515702, 0.6321205588285577, 0.3934693402873666, 0.6321205588285577, 0.3934693402873666, 0.6321205588285577, 0.3934693402873666, 0.6321205588285577, 0.3934693402873666, 0.3934693402873666, 0.6321205588285577]\n",
            "Media de falhas:  [0, 335.54432, 797091.0968086133, 821522.9556660177, 1410273.3654671973, 8999073.639834076, 391809032.4444778, 409638973.5354928, 1545246576.573587, 1657416883.4604187, 2470729569.8567047, 2546434033.1133275, 3583757157.0997133, 3067265395.0092525]\n",
            "Custo =  401355166672.8743\n"
          ]
        },
        {
          "output_type": "stream",
          "name": "stderr",
          "text": [
            "pyswarms.single.global_best: 100%|██████████|1/1, best_cost=4.68e+10\n",
            "2023-09-30 16:48:28,575 - pyswarms.single.global_best - INFO - Optimization finished | best cost: 46753971964.2485, best pos: [6.23425412 6.34857222 5.72575948 3.05349665 1.76721296 5.29008566\n",
            " 3.99903861 2.46980514 2.47442062 0.5660554  4.52231867 1.47316373\n",
            " 3.40421856 4.60858094 6.48776911 2.352567   6.13649465 3.47692166\n",
            " 1.77530383 1.48693015 3.48408016 0.37512991 4.42508313 4.4008811 ]\n",
            "2023-09-30 16:48:28,577 - pyswarms.single.global_best - INFO - Optimize for 1 iters with {'c1': 0.5, 'c2': 0.3, 'w': 0.9}\n"
          ]
        },
        {
          "output_type": "stream",
          "name": "stdout",
          "text": [
            "\n",
            "=========================================================================\n",
            "\n",
            "Número de ciclos de manutenção: 14 5\n",
            "Tempos para manutenções preventivas: [0, 8, 34, 81, 91, 142, 155, 209, 344, 372, 483, 524, 563, 584, 616]\n",
            "Severidade para cada subsistema: [0.25, 0.75, 0.75, 0.5, 0.25, 0.75, 0.5, 0.25, 0.5, 0.75, 0.5, 0.25, 0.25, 0.5]\n",
            "Número de Sisemas: 5\n",
            "Fator:  [0.3296799539643607, 0.3934693402873666, 0.7768698398515702, 0.7768698398515702, 0.6321205588285577, 0.3934693402873666, 0.7768698398515702, 0.6321205588285577, 0.3934693402873666, 0.6321205588285577, 0.7768698398515702, 0.6321205588285577, 0.3934693402873666, 0.3934693402873666, 0.6321205588285577]\n",
            "Media de falhas:  [0, 10.48576, 9718.805075792065, 460997.0192301503, 465959.9282229029, 1054710.3380240824, 1308390.6907814404, 21690401.77916417, 84881128.26558074, 102711069.35659572, 1298867924.3348694, 1402238958.7769718, 1424736146.3065395, 1500440609.5631623, 2465825536.1853476, 2007906056.2967803]\n",
            "Custo =  311165374210.0692\n"
          ]
        },
        {
          "output_type": "stream",
          "name": "stderr",
          "text": [
            "pyswarms.single.global_best: 100%|██████████|1/1, best_cost=4.68e+10\n",
            "2023-09-30 16:48:28,614 - pyswarms.single.global_best - INFO - Optimization finished | best cost: 46753971964.2485, best pos: [6.23426123 6.34856592 5.72577245 3.05349675 1.76713401 5.29007827\n",
            " 3.99903889 2.46977253 2.4744204  0.56606827 4.52165497 1.47319025\n",
            " 3.40292043 4.60860192 6.48776965 2.35260025 3.5231844  3.4703217\n",
            " 1.7753029  1.48693567 3.48407643 0.37514721 4.42507733 4.40087989]\n"
          ]
        },
        {
          "output_type": "stream",
          "name": "stdout",
          "text": [
            "\n",
            "=========================================================================\n",
            "\n",
            "Número de ciclos de manutenção: 11 5\n",
            "Tempos para manutenções preventivas: [0, 81, 91, 142, 209, 344, 372, 506, 523, 563, 584, 615]\n",
            "Severidade para cada subsistema: [0.75, 0.5, 0.25, 0.5, 0.25, 0.5, 0.25, 0.5, 0.25, 0.25, 0.5]\n",
            "Número de Sisemas: 5\n",
            "Fator:  [0.3296799539643607, 0.7768698398515702, 0.6321205588285577, 0.3934693402873666, 0.6321205588285577, 0.3934693402873666, 0.6321205588285577, 0.3934693402873666, 0.6321205588285577, 0.3934693402873666, 0.3934693402873666, 0.6321205588285577]\n",
            "Media de falhas:  [0, 1115771.00832, 1316382.648878201, 1905133.0586793805, 9493933.33304626, 392303892.13768995, 410133833.2287049, 2147989082.6406965, 2187182512.3604264, 3020587271.355383, 3096291734.6120057, 4026262038.037715, 3597512108.2079134]\n",
            "Custo =  407712352500.0506\n"
          ]
        },
        {
          "output_type": "stream",
          "name": "stderr",
          "text": [
            "2023-09-30 16:48:28,619 - pyswarms.single.global_best - INFO - Optimize for 1 iters with {'c1': 0.5, 'c2': 0.3, 'w': 0.9}\n",
            "pyswarms.single.global_best: 100%|██████████|1/1, best_cost=4.68e+10\n",
            "2023-09-30 16:48:28,649 - pyswarms.single.global_best - INFO - Optimization finished | best cost: 46753971964.2485, best pos: [6.23426616 6.34855938 5.72577896 3.05349681 1.76706331 5.29006786\n",
            " 3.99904243 2.4697449  2.47442021 0.56608456 4.52137423 1.47321425\n",
            " 3.40147711 4.60861117 6.48777037 2.3526305  1.05807987 3.464511\n",
            " 1.77530252 1.48694317 3.48407712 0.37514747 4.42507651 4.40087573]\n",
            "2023-09-30 16:48:28,657 - pyswarms.single.global_best - INFO - Optimize for 1 iters with {'c1': 0.5, 'c2': 0.3, 'w': 0.9}\n"
          ]
        },
        {
          "output_type": "stream",
          "name": "stdout",
          "text": [
            "\n",
            "=========================================================================\n",
            "\n",
            "Número de ciclos de manutenção: 10 5\n",
            "Tempos para manutenções preventivas: [0, 81, 91, 142, 209, 344, 372, 523, 562, 585, 613]\n",
            "Severidade para cada subsistema: [0.75, 0.5, 0.25, 0.5, 0.25, 0.5, 0.5, 0.25, 0.25, 0.5]\n",
            "Número de Sisemas: 5\n",
            "Fator:  [0.3296799539643607, 0.7768698398515702, 0.6321205588285577, 0.3934693402873666, 0.6321205588285577, 0.3934693402873666, 0.6321205588285577, 0.6321205588285577, 0.3934693402873666, 0.3934693402873666, 0.6321205588285577]\n",
            "Media de falhas:  [0, 1115771.00832, 1316382.648878201, 1905133.0586793805, 9493933.33304626, 392303892.13768995, 410133833.2287049, 2648062528.9203815, 2776005463.9211464, 2859962380.2687893, 3691319898.974423, 3320679621.24729]\n",
            "Custo =  334339192908.4796\n"
          ]
        },
        {
          "output_type": "stream",
          "name": "stderr",
          "text": [
            "pyswarms.single.global_best: 100%|██████████|1/1, best_cost=4.68e+10\n",
            "2023-09-30 16:48:28,691 - pyswarms.single.global_best - INFO - Optimization finished | best cost: 46753971964.2485, best pos: [6.23426744 6.34855408 5.72577893 3.05349686 1.76701145 5.29005455\n",
            " 3.99904622 2.46972857 2.47442009 0.56610403 4.52134374 1.47323535\n",
            " 3.40012255 4.60861249 6.48777105 2.35265773 6.01192064 3.46102855\n",
            " 1.77530275 1.48695745 3.48407851 0.37513435 4.42508302 4.40087098]\n"
          ]
        },
        {
          "output_type": "stream",
          "name": "stdout",
          "text": [
            "\n",
            "=========================================================================\n",
            "\n",
            "Número de ciclos de manutenção: 13 5\n",
            "Tempos para manutenções preventivas: [0, 81, 91, 142, 152, 209, 344, 372, 509, 523, 562, 585, 612, 640]\n",
            "Severidade para cada subsistema: [0.75, 0.5, 0.25, 0.5, 0.5, 0.25, 0.5, 0.5, 0.5, 0.25, 0.25, 0.5, 0.25]\n",
            "Número de Sisemas: 5\n",
            "Fator:  [0.3296799539643607, 0.7768698398515702, 0.6321205588285577, 0.3934693402873666, 0.6321205588285577, 0.6321205588285577, 0.3934693402873666, 0.6321205588285577, 0.6321205588285577, 0.6321205588285577, 0.3934693402873666, 0.3934693402873666, 0.6321205588285577, 0.3934693402873666]\n",
            "Media de falhas:  [0, 1115771.00832, 1316382.648878201, 1905133.0586793805, 2079501.252010068, 23601320.868660137, 159410342.24161762, 177240283.3326326, 1996736404.6042867, 2028712426.6426651, 2156655361.64343, 2240612277.991073, 3037785116.679922, 4026690054.322727, 3886429310.7285886]\n",
            "Custo =  371714102558.6707\n"
          ]
        },
        {
          "output_type": "stream",
          "name": "stderr",
          "text": [
            "2023-09-30 16:48:28,694 - pyswarms.single.global_best - INFO - Optimize for 1 iters with {'c1': 0.5, 'c2': 0.3, 'w': 0.9}\n",
            "pyswarms.single.global_best:   0%|          |0/1"
          ]
        },
        {
          "output_type": "stream",
          "name": "stdout",
          "text": [
            "\n",
            "=========================================================================\n"
          ]
        },
        {
          "output_type": "stream",
          "name": "stderr",
          "text": [
            "pyswarms.single.global_best: 100%|██████████|1/1, best_cost=4.68e+10\n",
            "2023-09-30 16:48:28,731 - pyswarms.single.global_best - INFO - Optimization finished | best cost: 46753971964.2485, best pos: [6.2342683  6.34855157 5.72577003 3.05349688 1.76697006 5.29004143\n",
            " 3.99905017 2.46972336 2.47442003 0.56612272 4.52171617 1.47324569\n",
            " 3.39783337 4.60860923 6.48777164 2.35268186 3.50468017 3.45870764\n",
            " 1.77530322 1.48697359 3.4840837  0.37508358 4.42509878 4.40086629]\n"
          ]
        },
        {
          "output_type": "stream",
          "name": "stdout",
          "text": [
            "\n",
            "Número de ciclos de manutenção: 13 5\n",
            "Tempos para manutenções preventivas: [0, 81, 91, 143, 209, 298, 344, 372, 491, 523, 562, 585, 611, 637]\n",
            "Severidade para cada subsistema: [0.75, 0.5, 0.25, 0.5, 0.5, 0.25, 0.5, 0.25, 0.5, 0.25, 0.25, 0.5, 0.75]\n",
            "Número de Sisemas: 5\n",
            "Fator:  [0.3296799539643607, 0.7768698398515702, 0.6321205588285577, 0.3934693402873666, 0.6321205588285577, 0.6321205588285577, 0.3934693402873666, 0.6321205588285577, 0.3934693402873666, 0.6321205588285577, 0.3934693402873666, 0.3934693402873666, 0.6321205588285577, 0.7768698398515702]\n",
            "Media de falhas:  [0, 1115771.00832, 1316382.648878201, 1947671.0602257156, 9329730.078913929, 148497127.44647083, 172643944.14610624, 190473885.23712122, 1558999388.8026295, 1636548309.22009, 2444046506.214581, 2528003422.562224, 3291347834.595785, 4194082428.488476, 4063711023.0073705]\n",
            "Custo =  435062932311.6529\n"
          ]
        },
        {
          "output_type": "stream",
          "name": "stderr",
          "text": [
            "2023-09-30 16:48:28,733 - pyswarms.single.global_best - INFO - Optimize for 1 iters with {'c1': 0.5, 'c2': 0.3, 'w': 0.9}\n",
            "pyswarms.single.global_best: 100%|██████████|1/1, best_cost=4.68e+10\n",
            "2023-09-30 16:48:28,764 - pyswarms.single.global_best - INFO - Optimization finished | best cost: 46753971964.2485, best pos: [6.23426578 6.34855136 5.72575613 3.05349686 1.76696978 5.29002985\n",
            " 3.99905393 2.46972548 2.47442003 0.56613762 4.52212067 1.47324573\n",
            " 3.39538756 4.60859575 6.48777199 2.3526978  0.90901559 3.4605827\n",
            " 1.77530673 1.48698754 3.48408974 0.37502224 4.42512157 4.40086208]\n"
          ]
        },
        {
          "output_type": "stream",
          "name": "stdout",
          "text": [
            "\n",
            "=========================================================================\n",
            "\n",
            "Número de ciclos de manutenção: 11 5\n",
            "Tempos para manutenções preventivas: [0, 81, 91, 143, 209, 344, 371, 493, 523, 562, 585, 611]\n",
            "Severidade para cada subsistema: [0.75, 0.5, 0.25, 0.5, 0.25, 0.5, 0.75, 0.5, 0.25, 0.25, 0.5]\n",
            "Número de Sisemas: 5\n",
            "Fator:  [0.3296799539643607, 0.7768698398515702, 0.6321205588285577, 0.3934693402873666, 0.6321205588285577, 0.3934693402873666, 0.6321205588285577, 0.7768698398515702, 0.6321205588285577, 0.3934693402873666, 0.3934693402873666, 0.6321205588285577]\n",
            "Media de falhas:  [0, 1115771.00832, 1316382.648878201, 1947671.0602257156, 9329730.078913929, 392139688.8835576, 409068511.49764, 1834871530.9422798, 1907071279.5159945, 1929424530.321229, 2013381446.6688716, 2776725858.7024326, 2463894262.395524]\n",
            "Custo =  318944457650.4265\n"
          ]
        },
        {
          "output_type": "stream",
          "name": "stderr",
          "text": [
            "2023-09-30 16:48:28,767 - pyswarms.single.global_best - INFO - Optimize for 1 iters with {'c1': 0.5, 'c2': 0.3, 'w': 0.9}\n",
            "pyswarms.single.global_best: 100%|██████████|1/1, best_cost=4.68e+10"
          ]
        },
        {
          "output_type": "stream",
          "name": "stdout",
          "text": [
            "\n",
            "=========================================================================\n",
            "\n",
            "Número de ciclos de manutenção: 11 5\n",
            "Tempos para manutenções preventivas: [0, 81, 91, 143, 167, 209, 344, 371, 523, 562, 584, 611]\n",
            "Severidade para cada subsistema: [0.75, 0.5, 0.25, 0.75, 0.5, 0.25, 0.5, 0.5, 0.25, 0.25, 0.5]\n",
            "Número de Sisemas: 5\n",
            "Fator:  [0.3296799539643607, 0.7768698398515702, 0.6321205588285577, 0.3934693402873666, 0.7768698398515702, 0.6321205588285577, 0.3934693402873666, 0.6321205588285577, 0.6321205588285577, 0.3934693402873666, 0.3934693402873666, 0.6321205588285577]\n",
            "Media de falhas:  [0, 1115771.00832, 1316382.648878201, 1947671.0602257156, 2663017.9043882876, 18581427.913162716, 81772154.39957929, 98700977.01366165, 2351825192.4045544, 2479768127.405319, 2559305797.5229306, 3351247632.2085724, 3038416035.901664]\n",
            "Custo =  324157611215.08954\n"
          ]
        },
        {
          "output_type": "stream",
          "name": "stderr",
          "text": [
            "\n",
            "2023-09-30 16:48:28,795 - pyswarms.single.global_best - INFO - Optimization finished | best cost: 46753971964.2485, best pos: [6.23426202 6.34855217 5.72574257 3.0534968  1.76698907 5.29002135\n",
            " 3.9990573  2.46972815 2.47442015 0.56614803 4.52254385 1.47323625\n",
            " 3.39316978 4.60857271 6.48777198 2.35269599 6.27571156 3.46421699\n",
            " 1.7753109  1.48699927 3.48409621 0.37496471 4.42514586 4.40085835]\n",
            "2023-09-30 16:48:28,800 - pyswarms.single.global_best - INFO - Optimize for 1 iters with {'c1': 0.5, 'c2': 0.3, 'w': 0.9}\n",
            "pyswarms.single.global_best: 100%|██████████|1/1, best_cost=4.68e+10\n",
            "2023-09-30 16:48:28,833 - pyswarms.single.global_best - INFO - Optimization finished | best cost: 46753971964.2485, best pos: [6.23425642 6.34855566 5.72573217 3.05349673 1.76701602 5.29001579\n",
            " 3.99905975 2.46973682 2.47442028 0.56615373 4.52296477 1.47322144\n",
            " 3.391214   4.60854998 6.48777175 2.35269406 4.19950811 3.46970519\n",
            " 1.77531517 1.48700596 3.48410188 0.37491962 4.42516539 4.40085516]\n",
            "2023-09-30 16:48:28,837 - pyswarms.single.global_best - INFO - Optimize for 1 iters with {'c1': 0.5, 'c2': 0.3, 'w': 0.9}\n"
          ]
        },
        {
          "output_type": "stream",
          "name": "stdout",
          "text": [
            "\n",
            "=========================================================================\n",
            "\n",
            "Número de ciclos de manutenção: 11 5\n",
            "Tempos para manutenções preventivas: [0, 81, 91, 143, 151, 344, 371, 523, 562, 584, 612, 645]\n",
            "Severidade para cada subsistema: [0.75, 0.5, 0.25, 0.25, 0.25, 0.5, 0.5, 0.25, 0.25, 0.5, 0.5]\n",
            "Número de Sisemas: 5\n",
            "Fator:  [0.3296799539643607, 0.7768698398515702, 0.6321205588285577, 0.3934693402873666, 0.3934693402873666, 0.3934693402873666, 0.6321205588285577, 0.6321205588285577, 0.3934693402873666, 0.3934693402873666, 0.6321205588285577, 0.6321205588285577]\n",
            "Media de falhas:  [0, 1115771.00832, 1316382.648878201, 1947671.0602257156, 2080410.774248016, 597354275.0041757, 703337997.2357975, 2956462212.62669, 3084405147.6274548, 3163942817.745066, 3989852919.9177556, 5187071139.169611, 5030480762.761966]\n",
            "Custo =  392189001961.6387\n"
          ]
        },
        {
          "output_type": "stream",
          "name": "stderr",
          "text": [
            "pyswarms.single.global_best: 100%|██████████|1/1, best_cost=4.68e+10\n",
            "2023-09-30 16:48:28,864 - pyswarms.single.global_best - INFO - Optimization finished | best cost: 46753971964.2485, best pos: [6.2342512  6.34855886 5.72572673 3.05349666 1.76704323 5.29001691\n",
            " 3.99906002 2.46974614 2.47442041 0.56614925 4.52328937 1.47320689\n",
            " 3.38967625 4.60853024 6.48777142 2.35267658 2.32626796 3.47518267\n",
            " 1.77531858 1.48700313 3.48410644 0.37488234 4.42517874 4.40085513]\n",
            "2023-09-30 16:48:28,870 - pyswarms.single.global_best - INFO - Optimize for 1 iters with {'c1': 0.5, 'c2': 0.3, 'w': 0.9}\n"
          ]
        },
        {
          "output_type": "stream",
          "name": "stdout",
          "text": [
            "\n",
            "=========================================================================\n",
            "\n",
            "Número de ciclos de manutenção: 11 5\n",
            "Tempos para manutenções preventivas: [0, 81, 91, 143, 174, 344, 371, 506, 523, 563, 584, 613]\n",
            "Severidade para cada subsistema: [0.75, 0.5, 0.25, 0.5, 0.25, 0.5, 0.5, 0.5, 0.25, 0.25, 0.5]\n",
            "Número de Sisemas: 5\n",
            "Fator:  [0.3296799539643607, 0.7768698398515702, 0.6321205588285577, 0.3934693402873666, 0.6321205588285577, 0.3934693402873666, 0.6321205588285577, 0.6321205588285577, 0.6321205588285577, 0.3934693402873666, 0.3934693402873666, 0.6321205588285577]\n",
            "Media de falhas:  [0, 1115771.00832, 1316382.648878201, 1947671.0602257156, 3125984.8173264787, 507147860.1954079, 524076682.8094903, 2274987180.9042993, 2314180610.624029, 2446750914.4302993, 2522455377.686922, 3382691103.2077236, 3012050825.480591]\n",
            "Custo =  336177365749.7961\n"
          ]
        },
        {
          "output_type": "stream",
          "name": "stderr",
          "text": [
            "pyswarms.single.global_best: 100%|██████████|1/1, best_cost=4.68e+10\n",
            "2023-09-30 16:48:28,903 - pyswarms.single.global_best - INFO - Optimization finished | best cost: 46753971964.2485, best pos: [6.2342471  6.3485619  5.72572279 3.05349659 1.76709405 5.29001808\n",
            " 3.99905799 2.46976168 2.47442054 0.56613825 4.52343087 1.47319333\n",
            " 3.3894221  4.6085129  6.48777097 2.35265874 0.83527301 3.47959792\n",
            " 1.77532067 1.48699777 3.48410744 0.37485983 4.42517873 4.40085772]\n",
            "2023-09-30 16:48:28,905 - pyswarms.single.global_best - INFO - Optimize for 1 iters with {'c1': 0.5, 'c2': 0.3, 'w': 0.9}\n"
          ]
        },
        {
          "output_type": "stream",
          "name": "stdout",
          "text": [
            "\n",
            "=========================================================================\n",
            "\n",
            "Número de ciclos de manutenção: 10 5\n",
            "Tempos para manutenções preventivas: [0, 46, 81, 91, 143, 344, 371, 524, 563, 584, 613]\n",
            "Severidade para cada subsistema: [0.25, 0.75, 0.5, 0.25, 0.25, 0.5, 0.5, 0.25, 0.25, 0.5]\n",
            "Número de Sisemas: 5\n",
            "Fator:  [0.3296799539643607, 0.3934693402873666, 0.7768698398515702, 0.6321205588285577, 0.3934693402873666, 0.3934693402873666, 0.6321205588285577, 0.6321205588285577, 0.3934693402873666, 0.3934693402873666, 0.6321205588285577]\n",
            "Media de falhas:  [0, 65908.15232000001, 452742.17971478554, 592441.5536967561, 1223729.9650442707, 336796937.05945176, 442780659.2910736, 2728405715.14468, 2857232005.774105, 2932936469.030728, 3793172194.551529, 3422531916.824396]\n",
            "Custo =  342617868051.6485\n"
          ]
        },
        {
          "output_type": "stream",
          "name": "stderr",
          "text": [
            "pyswarms.single.global_best: 100%|██████████|1/1, best_cost=4.68e+10\n",
            "2023-09-30 16:48:28,937 - pyswarms.single.global_best - INFO - Optimization finished | best cost: 46753971964.2485, best pos: [6.23424454 6.34856465 5.72572091 3.05349653 1.76714029 5.29002142\n",
            " 3.9990551  2.46978048 2.47442064 0.56612479 4.52349918 1.47318254\n",
            " 3.38925156 4.6085082  6.48777054 2.35263628 0.46970035 3.48345548\n",
            " 1.77532232 1.48699081 3.48410678 0.37484108 4.42516987 4.40086152]\n",
            "2023-09-30 16:48:28,941 - pyswarms.single.global_best - INFO - Optimize for 1 iters with {'c1': 0.5, 'c2': 0.3, 'w': 0.9}\n"
          ]
        },
        {
          "output_type": "stream",
          "name": "stdout",
          "text": [
            "\n",
            "=========================================================================\n",
            "\n",
            "Número de ciclos de manutenção: 12 5\n",
            "Tempos para manutenções preventivas: [0, 81, 91, 143, 178, 294, 344, 371, 524, 563, 584, 614, 632]\n",
            "Severidade para cada subsistema: [0.75, 0.5, 0.25, 0.25, 0.5, 0.25, 0.5, 0.5, 0.25, 0.25, 0.5, 0.25]\n",
            "Número de Sisemas: 5\n",
            "Fator:  [0.3296799539643607, 0.7768698398515702, 0.6321205588285577, 0.3934693402873666, 0.3934693402873666, 0.6321205588285577, 0.3934693402873666, 0.6321205588285577, 0.6321205588285577, 0.3934693402873666, 0.3934693402873666, 0.6321205588285577, 0.3934693402873666]\n",
            "Media de falhas:  [0, 1115771.00832, 1316382.648878201, 1947671.0602257156, 3470085.925938811, 179089012.300558, 319942384.4820397, 336871207.096122, 2622496262.949728, 2751322553.579153, 2827027016.835776, 3721948533.793273, 4332108041.601479, 4218392245.888477]\n",
            "Custo =  376706064336.2061\n"
          ]
        },
        {
          "output_type": "stream",
          "name": "stderr",
          "text": [
            "\rpyswarms.single.global_best:   0%|          |0/1"
          ]
        },
        {
          "output_type": "stream",
          "name": "stdout",
          "text": [
            "\n",
            "=========================================================================\n",
            "\n",
            "Número de ciclos de manutenção: 10 5\n",
            "Tempos para manutenções preventivas: [0, 24, 81, 91, 143, 344, 371, 524, 563, 584, 615]\n",
            "Severidade para cada subsistema: [0.5, 0.75, 0.5, 0.25, 0.25, 0.5, 0.5, 0.25, 0.25, 0.5]\n",
            "Número de Sisemas: 5\n",
            "Fator:  [0.3296799539643607, 0.6321205588285577, 0.7768698398515702, 0.6321205588285577, 0.3934693402873666, 0.3934693402873666, 0.6321205588285577, 0.6321205588285577, 0.3934693402873666, 0.3934693402873666, 0.6321205588285577]\n",
            "Media de falhas:  [0, 2548.0396800000003, 669579.6743161017, 694011.5331735061, 1325299.9445210209, 336898507.0389285, 442882229.2705504, 2728507285.1241565, 2857333575.7535815, 2933038039.0102043, 3863008342.4359136, 3434258412.606112]\n"
          ]
        },
        {
          "output_type": "stream",
          "name": "stderr",
          "text": [
            "pyswarms.single.global_best: 100%|██████████|1/1, best_cost=4.68e+10\n",
            "2023-09-30 16:48:28,968 - pyswarms.single.global_best - INFO - Optimization finished | best cost: 46753971964.2485, best pos: [6.23424453 6.34856676 5.72572102 3.0534965  1.7671818  5.29002796\n",
            " 3.99905163 2.46979791 2.47442067 0.56610929 4.52338902 1.47317366\n",
            " 3.39047159 4.60851701 6.48777017 2.35261544 0.91051521 3.48441721\n",
            " 1.77532214 1.48698167 3.4841024  0.37484077 4.42515213 4.40086504]\n",
            "2023-09-30 16:48:28,973 - pyswarms.single.global_best - INFO - Optimize for 1 iters with {'c1': 0.5, 'c2': 0.3, 'w': 0.9}\n"
          ]
        },
        {
          "output_type": "stream",
          "name": "stdout",
          "text": [
            "Custo =  344202171140.1237\n"
          ]
        },
        {
          "output_type": "stream",
          "name": "stderr",
          "text": [
            "pyswarms.single.global_best: 100%|██████████|1/1, best_cost=4.68e+10\n",
            "2023-09-30 16:48:29,004 - pyswarms.single.global_best - INFO - Optimization finished | best cost: 46753971964.2485, best pos: [6.23424589 6.34856854 5.72572834 3.05349649 1.76720588 5.29003775\n",
            " 3.99904838 2.46981111 2.47442067 0.56609617 4.52318662 1.47317331\n",
            " 3.39217411 4.60852638 6.48776986 2.35260008 1.15781869 3.48215564\n",
            " 1.77532027 1.48697112 3.48409628 0.37487402 4.42513167 4.40086827]\n",
            "2023-09-30 16:48:29,009 - pyswarms.single.global_best - INFO - Optimize for 1 iters with {'c1': 0.5, 'c2': 0.3, 'w': 0.9}\n"
          ]
        },
        {
          "output_type": "stream",
          "name": "stdout",
          "text": [
            "\n",
            "=========================================================================\n",
            "\n",
            "Número de ciclos de manutenção: 11 5\n",
            "Tempos para manutenções preventivas: [0, 44, 81, 91, 143, 288, 344, 371, 524, 563, 584, 615]\n",
            "Severidade para cada subsistema: [0.25, 0.75, 0.5, 0.25, 0.25, 0.25, 0.5, 0.5, 0.25, 0.25, 0.5]\n",
            "Número de Sisemas: 5\n",
            "Fator:  [0.3296799539643607, 0.3934693402873666, 0.7768698398515702, 0.6321205588285577, 0.3934693402873666, 0.3934693402873666, 0.3934693402873666, 0.6321205588285577, 0.6321205588285577, 0.3934693402873666, 0.3934693402873666, 0.6321205588285577]\n",
            "Media de falhas:  [0, 52773.19168, 461603.934875113, 601303.3088570836, 1232591.7202045983, 97521848.82508951, 254506647.53196308, 360490369.763585, 2646115425.6171913, 2774941716.2466164, 2850646179.503239, 3780616482.9289484, 3351866553.099147]\n",
            "Custo =  351441421251.6029\n"
          ]
        },
        {
          "output_type": "stream",
          "name": "stderr",
          "text": [
            "pyswarms.single.global_best: 100%|██████████|1/1, best_cost=4.68e+10\n",
            "2023-09-30 16:48:29,040 - pyswarms.single.global_best - INFO - Optimization finished | best cost: 46753971964.2485, best pos: [6.23424835 6.34856889 5.72573899 3.0534965  1.76721835 5.29004815\n",
            " 3.99904547 2.46981748 2.47442061 0.56608571 4.5228954  1.47317849\n",
            " 3.3939147  4.60853537 6.48776964 2.35259373 1.12505495 3.47903881\n",
            " 1.77531687 1.48696151 3.48409035 0.37491017 4.42511408 4.40087103]\n",
            "2023-09-30 16:48:29,043 - pyswarms.single.global_best - INFO - Optimize for 1 iters with {'c1': 0.5, 'c2': 0.3, 'w': 0.9}\n"
          ]
        },
        {
          "output_type": "stream",
          "name": "stdout",
          "text": [
            "\n",
            "=========================================================================\n",
            "\n",
            "Número de ciclos de manutenção: 13 5\n",
            "Tempos para manutenções preventivas: [0, 2, 48, 81, 91, 143, 294, 344, 372, 509, 524, 563, 584, 615]\n",
            "Severidade para cada subsistema: [0.75, 0.75, 0.75, 0.5, 0.25, 0.5, 0.25, 0.5, 0.75, 0.5, 0.25, 0.25, 0.5]\n",
            "Número de Sisemas: 5\n",
            "Fator:  [0.3296799539643607, 0.7768698398515702, 0.7768698398515702, 0.7768698398515702, 0.6321205588285577, 0.3934693402873666, 0.6321205588285577, 0.3934693402873666, 0.6321205588285577, 0.7768698398515702, 0.6321205588285577, 0.3934693402873666, 0.3934693402873666, 0.6321205588285577]\n",
            "Media de falhas:  [0, 0.01024, 76088.78643771415, 127101.98531517226, 132064.8943079248, 763353.3056554395, 112606811.22028641, 253460183.4017681, 271290124.49278307, 2090786245.7644372, 2125413116.6428192, 2147910304.1723866, 2223614767.4290094, 3153585070.8547187, 2724835141.024917]\n",
            "Custo =  330256089118.5603\n"
          ]
        },
        {
          "output_type": "stream",
          "name": "stderr",
          "text": [
            "pyswarms.single.global_best: 100%|██████████|1/1, best_cost=4.68e+10\n",
            "2023-09-30 16:48:29,069 - pyswarms.single.global_best - INFO - Optimization finished | best cost: 46753971964.2485, best pos: [6.23425211 6.34856917 5.72575075 3.05349654 1.76720775 5.2900579\n",
            " 3.99904339 2.46981585 2.47442053 0.56608002 4.52260103 1.47318683\n",
            " 3.39575273 4.6085496  6.48776945 2.35258807 1.39707551 3.47604452\n",
            " 1.77531371 1.48695325 3.48408556 0.37495706 4.42510326 4.40087313]\n",
            "2023-09-30 16:48:29,071 - pyswarms.single.global_best - INFO - Optimize for 1 iters with {'c1': 0.5, 'c2': 0.3, 'w': 0.9}\n"
          ]
        },
        {
          "output_type": "stream",
          "name": "stdout",
          "text": [
            "\n",
            "=========================================================================\n",
            "\n",
            "Número de ciclos de manutenção: 12 5\n",
            "Tempos para manutenções preventivas: [0, 81, 91, 143, 158, 209, 287, 344, 372, 524, 563, 584, 615]\n",
            "Severidade para cada subsistema: [0.75, 0.5, 0.25, 0.5, 0.5, 0.75, 0.25, 0.5, 0.5, 0.25, 0.25, 0.5]\n",
            "Número de Sisemas: 5\n",
            "Fator:  [0.3296799539643607, 0.7768698398515702, 0.6321205588285577, 0.3934693402873666, 0.6321205588285577, 0.6321205588285577, 0.7768698398515702, 0.3934693402873666, 0.6321205588285577, 0.6321205588285577, 0.3934693402873666, 0.3934693402873666, 0.6321205588285577]\n",
            "Media de falhas:  [0, 1115771.00832, 1316382.648878201, 1947671.0602257156, 2270700.5615307726, 21524209.842782814, 49189150.92126005, 81340707.2932579, 84525147.37877335, 2354819400.780782, 2483645691.4102073, 2559350154.66683, 3489320458.0925393, 3060570528.2627378]\n",
            "Custo =  327616930343.0956\n"
          ]
        },
        {
          "output_type": "stream",
          "name": "stderr",
          "text": [
            "\rpyswarms.single.global_best:   0%|          |0/1"
          ]
        },
        {
          "output_type": "stream",
          "name": "stdout",
          "text": [
            "\n",
            "=========================================================================\n"
          ]
        },
        {
          "output_type": "stream",
          "name": "stderr",
          "text": [
            "pyswarms.single.global_best: 100%|██████████|1/1, best_cost=4.68e+10\n",
            "2023-09-30 16:48:29,102 - pyswarms.single.global_best - INFO - Optimization finished | best cost: 46753971964.2485, best pos: [6.23425575 6.34856812 5.72576128 3.0534966  1.76719617 5.29006564\n",
            " 3.99904232 2.46981044 2.47442043 0.56607607 4.52237312 1.47319441\n",
            " 3.39722844 4.60856335 6.48776941 2.35258832 1.10302401 3.47269412\n",
            " 1.77531087 1.48694656 3.48408279 0.37500162 4.42509806 4.40087327]\n",
            "2023-09-30 16:48:29,107 - pyswarms.single.global_best - INFO - Optimize for 1 iters with {'c1': 0.5, 'c2': 0.3, 'w': 0.9}\n"
          ]
        },
        {
          "output_type": "stream",
          "name": "stdout",
          "text": [
            "\n",
            "Número de ciclos de manutenção: 12 5\n",
            "Tempos para manutenções preventivas: [0, 81, 91, 143, 174, 209, 344, 372, 524, 563, 584, 615, 645]\n",
            "Severidade para cada subsistema: [0.75, 0.5, 0.25, 0.75, 0.5, 0.25, 0.5, 0.5, 0.25, 0.25, 0.5, 0.5]\n",
            "Número de Sisemas: 5\n",
            "Fator:  [0.3296799539643607, 0.7768698398515702, 0.6321205588285577, 0.3934693402873666, 0.7768698398515702, 0.6321205588285577, 0.3934693402873666, 0.6321205588285577, 0.6321205588285577, 0.3934693402873666, 0.3934693402873666, 0.6321205588285577, 0.6321205588285577]\n",
            "Media de falhas:  [0, 1115771.00832, 1316382.648878201, 1947671.0602257156, 3125984.8173264787, 16479070.77765147, 79669797.26406805, 97499738.35508303, 2367793991.757092, 2496620282.386517, 2572324745.64314, 3502295049.068849, 4593578804.372641, 4436988427.964995]\n",
            "Custo =  373078716137.9625\n"
          ]
        },
        {
          "output_type": "stream",
          "name": "stderr",
          "text": [
            "\rpyswarms.single.global_best:   0%|          |0/1"
          ]
        },
        {
          "output_type": "stream",
          "name": "stdout",
          "text": [
            "\n",
            "=========================================================================\n",
            "\n",
            "Número de ciclos de manutenção: 10 5\n",
            "Tempos para manutenções preventivas: [0, 81, 91, 143, 209, 344, 372, 524, 563, 584, 615]\n",
            "Severidade para cada subsistema: [0.75, 0.5, 0.25, 0.5, 0.25, 0.5, 0.5, 0.25, 0.25, 0.5]\n",
            "Número de Sisemas: 5\n",
            "Fator:  [0.3296799539643607, 0.7768698398515702, 0.6321205588285577, 0.3934693402873666, 0.6321205588285577, 0.3934693402873666, 0.6321205588285577, 0.6321205588285577, 0.3934693402873666, 0.3934693402873666, 0.6321205588285577]\n",
            "Media de falhas:  [0, 1115771.00832, 1316382.648878201, 1947671.0602257156, 9329730.078913929, 392139688.8835576, 409969629.9745726, 2680263883.3765817, 2809090174.0060067, 2884794637.2626295, 3814764940.6883388, 3386015010.858537]\n"
          ]
        },
        {
          "output_type": "stream",
          "name": "stderr",
          "text": [
            "pyswarms.single.global_best: 100%|██████████|1/1, best_cost=4.68e+10\n",
            "2023-09-30 16:48:29,139 - pyswarms.single.global_best - INFO - Optimization finished | best cost: 46753971964.2485, best pos: [6.23425844 6.34856635 5.7257706  3.05349666 1.7671813  5.29006819\n",
            " 3.99904389 2.46980052 2.47442034 0.56608112 4.52223398 1.47320205\n",
            " 3.39839897 4.60857494 6.4877696  2.35259736 1.12873928 3.46969816\n",
            " 1.77530852 1.48694095 3.48408323 0.37504097 4.42509984 4.40087292]\n"
          ]
        },
        {
          "output_type": "stream",
          "name": "stdout",
          "text": [
            "Custo =  336227874271.31305\n"
          ]
        }
      ]
    },
    {
      "cell_type": "code",
      "source": [
        "# Nome do arquivo CSV para salvar o resultado do melhor custo\n",
        "nome_arquivo = '/content/drive/MyDrive/datasets/resultados_optimizacao/resultados_pso/melhor_custo_pso_primeiro_cenario.csv'\n",
        "\n",
        "# Abrir o arquivo CSV em modo de leitura para verificar o melhor custo anterior (se existir)\n",
        "melhores_custos_anteriores = []\n",
        "try:\n",
        "    with open(nome_arquivo, 'r') as arquivo_csv:\n",
        "        reader = csv.reader(arquivo_csv)\n",
        "        next(reader)  # Pule o cabeçalho\n",
        "        for linha in reader:\n",
        "            melhores_custos_anteriores.append(float(linha[1]))\n",
        "except FileNotFoundError:\n",
        "    pass  # Arquivo não existe, pode ser a primeira execução\n",
        "\n",
        "# Adicionar o melhor custo atual à lista de melhores custos anteriores\n",
        "melhores_custos_anteriores.append(pbest_cost[0])\n",
        "\n",
        "# Abrir o arquivo CSV em modo de escrita e escrever todos os melhores custos\n",
        "with open(nome_arquivo, 'w', newline='') as arquivo_csv:\n",
        "    writer = csv.writer(arquivo_csv)\n",
        "\n",
        "    # Escreve o cabeçalho com as colunas\n",
        "    writer.writerow(['Interação', 'Melhor Custo', 'Numero de Particulas', 'Numero de Interações', 'Dimensions', 'options'])\n",
        "\n",
        "    # Escreve os valores dos melhores custos com números de interação\n",
        "    for i, custo in enumerate(melhores_custos_anteriores, start=1):\n",
        "        writer.writerow([i, custo, num_particles, max_iterations, dimensions, options])"
      ],
      "metadata": {
        "id": "SvLX3p0EXBEo"
      },
      "execution_count": 280,
      "outputs": []
    },
    {
      "cell_type": "code",
      "source": [
        "# Plotar gráfico de densidade da otimização\n",
        "plt.figure()\n",
        "plt.plot(optimizer.cost_history)\n",
        "plt.xlabel('Iteration')\n",
        "plt.xlim(0, max_iterations)\n",
        "plt.ylabel('Objective function')\n",
        "plt.title('Particle Swarm Optimization (PSO) - Cost History')\n",
        "plt.show()\n",
        "\n",
        "print(\"                              \")\n",
        "print(\"*************************************************************************\")\n",
        "print(\"Número total de iterações:\", max_iterations)\n",
        "print(\"Número de Particulas:\", num_particles)\n",
        "print(\"Número de Dimensões:\", dimensions)\n",
        "print(\"                              \")\n",
        "print(\"Melhor partícula:\", pbest_cost[0])"
      ],
      "metadata": {
        "id": "ULlt81ZI1vn9",
        "outputId": "d23b93eb-0caf-4f83-cfa9-c25513e533c3",
        "colab": {
          "base_uri": "https://localhost:8080/",
          "height": 594
        }
      },
      "execution_count": 281,
      "outputs": [
        {
          "output_type": "display_data",
          "data": {
            "text/plain": [
              "<Figure size 640x480 with 1 Axes>"
            ],
            "image/png": "[encoded data removed]"
          },
          "metadata": {}
        },
        {
          "output_type": "stream",
          "name": "stdout",
          "text": [
            "                              \n",
            "*************************************************************************\n",
            "Número total de iterações: 100\n",
            "Número de Particulas: 100\n",
            "Número de Dimensões: 24\n",
            "                              \n",
            "Melhor partícula: 336227874271.31305\n"
          ]
        }
      ]
    },
    {
      "cell_type": "code",
      "source": [
        "# Plotar o gráfico 3D com todas as melhores posições\n",
        "fig = plt.figure(figsize=(8, 8))\n",
        "ax = fig.add_subplot(111)\n",
        "\n",
        "# Plotar todas as melhores posições anteriores\n",
        "for i in range(best_positions.shape[0]):\n",
        "    ax.scatter(best_positions[i, 0], best_positions[i, 1], marker='x', c='blue', alpha=0.6)\n",
        "\n",
        "# Plotar a última melhor posição com uma cor diferente para destacá-la\n",
        "ax.scatter(best_positions[-1, 0], best_positions[-1, 1], c='red', label='Melhor posição atual')\n",
        "\n",
        "ax.set_title('PSO - Melhores posições ao longo das iterações')\n",
        "ax.set_xlabel('Primeira dimensão das melhores posições')\n",
        "ax.set_ylabel('Segunda dimensão das melhores posições')\n",
        "ax.legend()\n",
        "plt.grid()\n",
        "plt.show()"
      ],
      "metadata": {
        "id": "4STRoUAPxmqT",
        "outputId": "361535fd-dd19-4c51-c590-425e5b6e7d4d",
        "colab": {
          "base_uri": "https://localhost:8080/",
          "height": 718
        }
      },
      "execution_count": 282,
      "outputs": [
        {
          "output_type": "display_data",
          "data": {
            "text/plain": [
              "<Figure size 800x800 with 1 Axes>"
            ],
            "image/png": "[encoded data removed]"
          },
          "metadata": {}
        }
      ]
    }
  ]
}