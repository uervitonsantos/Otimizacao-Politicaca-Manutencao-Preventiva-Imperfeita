{
  "nbformat": 4,
  "nbformat_minor": 0,
  "metadata": {
    "colab": {
      "provenance": [],
      "mount_file_id": "1RdFgP-oDl5GfiBXVSjm47plKw1zogDMB",
      "authorship_tag": "ABX9TyOOE4IrrfXJ8SZTgJ9ZAtwM",
      "include_colab_link": true
    },
    "kernelspec": {
      "name": "python3",
      "display_name": "Python 3"
    },
    "language_info": {
      "name": "python"
    }
  },
  "cells": [
    {
      "cell_type": "markdown",
      "metadata": {
        "id": "view-in-github",
        "colab_type": "text"
      },
      "source": [
        "<a href=\"https://colab.research.google.com/github/uervitonsantos/Otimizacao-Politicaca-Manutencao-Preventiva-Imperfeita/blob/main/Algoritmo_PSO_para_otimiza%C3%A7%C3%A3o_de_custo_de_manuten%C3%A7%C3%A3o_preventiva_v8.ipynb\" target=\"_parent\"><img src=\"https://colab.research.google.com/assets/colab-badge.svg\" alt=\"Open In Colab\"/></a>"
      ]
    },
    {
      "cell_type": "markdown",
      "source": [
        "Dataset de dados de confiabilidade: https://drive.google.com/drive/folders/1b7jqK1A2XI1oZ4YhDXw_4xdnSTbfuBVK?usp=sharing"
      ],
      "metadata": {
        "id": "wZi0pIL-Ch37"
      }
    },
    {
      "cell_type": "code",
      "execution_count": 209,
      "metadata": {
        "id": "VM8_ebpiVP0V"
      },
      "outputs": [],
      "source": [
        "%%capture\n",
        "pip install pyswarms"
      ]
    },
    {
      "cell_type": "code",
      "source": [
        "import numpy as np\n",
        "import pandas as pd\n",
        "import math\n",
        "import matplotlib.pyplot as plt\n",
        "import time\n",
        "from pyswarms.single.global_best import GlobalBestPSO\n",
        "import pyswarms as ps\n",
        "from pyswarms.utils.search import RandomSearch\n",
        "from pyswarms.utils.functions import single_obj as fx\n",
        "from pyswarms.utils.plotters import (plot_cost_history, plot_contour, plot_surface)\n",
        "import plotly.graph_objects as go\n",
        "from pyswarms.utils.plotters.formatters import Designer\n",
        "from pyswarms.utils.plotters.formatters import Mesher\n",
        "from mpl_toolkits.mplot3d import Axes3D"
      ],
      "metadata": {
        "id": "2sVG0WwfVrUs"
      },
      "execution_count": 210,
      "outputs": []
    },
    {
      "cell_type": "code",
      "source": [
        "MAX_VALUE_CUSTO = 10000\n",
        "fator_melhoria = 'expo'"
      ],
      "metadata": {
        "id": "FeZKvg25Vtwz"
      },
      "execution_count": 211,
      "outputs": []
    },
    {
      "cell_type": "code",
      "source": [
        "# Custos MC e MP\n",
        "CMC = 4000\n",
        "CMP = 2000"
      ],
      "metadata": {
        "id": "JFnJpCJGVx7P"
      },
      "execution_count": 212,
      "outputs": []
    },
    {
      "cell_type": "code",
      "source": [
        "class IntensidadeFalha:\n",
        "    # Este método vai inicializar cada objeto criado a partir desta classe\n",
        "    # O nome deste método é \"inicio\"\n",
        "    # (self) é uma referência a cada atributo de um objeto criado a partir desta classe\n",
        "    # Os atributos de cada objeto criados a partir desta classe.\n",
        "    # O self indica que estes são atributos dos objetos\n",
        "    def __init__(self):\n",
        "        self.fator = None\n",
        "        self.lamb = None\n",
        "        self.beta = None\n",
        "        self.theta = None\n",
        "        self.sz = None\n",
        "        self.T = None\n",
        "        self.u = None\n",
        "\n",
        "    def inicio(self, T, fator, solucao):\n",
        "        self.fator = fator\n",
        "        self.lamb = solucao[0]\n",
        "        self.beta = solucao[1]\n",
        "        self.theta = solucao[2]\n",
        "        self.sz = int(T[-1])\n",
        "        self.T = T\n",
        "\n",
        "    def create(self):\n",
        "        self.u = []\n",
        "        # Reducao de Idade com fator de melhoria linear\n",
        "        for i, tc in enumerate(self.T[1:], start=1):\n",
        "            for tt in range(int(self.T[i-1]), int(tc)+1):\n",
        "                b = tt - self.fator[0][i-1] * self.T[i-1]\n",
        "                self.u.append((1 / (self.lamb ** self.beta)) * self.beta * b ** (self.beta - 1))\n",
        "\n",
        "                if tt == tc:\n",
        "                    self.u.append(float('nan'))\n",
        "            break\n",
        "    # plota e salva a figura da função de intensidade de falha\n",
        "    def plotar(self):\n",
        "        fig = plt.figure(figsize=(20, 5))\n",
        "        plt.plot(self.u)\n",
        "\n",
        "        for xc in self.T:\n",
        "            plt.axvline(x=xc, color='r', linestyle='--')\n",
        "\n",
        "        plt.xlabel(\"Tempo (dias)\")\n",
        "        plt.ylabel(\"Função intensidade de falha\")\n",
        "        plt.xlim(0)\n",
        "        plt.grid(True)\n",
        "        plt.show()"
      ],
      "metadata": {
        "id": "QhF2qTuDV2P1"
      },
      "execution_count": 213,
      "outputs": []
    },
    {
      "cell_type": "code",
      "source": [
        "# Define a função de melhoria constante\n",
        "def const(ck, m, s, theta):\n",
        "    fator = [[theta] * ck] * m\n",
        "    return fator"
      ],
      "metadata": {
        "id": "mMRO_z3_V4a3"
      },
      "execution_count": 214,
      "outputs": []
    },
    {
      "cell_type": "code",
      "source": [
        "# Define a função de melhoria linear\n",
        "def linear(ck, m, s, theta):\n",
        "    fator = []\n",
        "    for k in range(0, m, 1):\n",
        "        linha = [0]\n",
        "        for j in range(0, ck, 1):\n",
        "            linha.append(s[k][j] * theta)\n",
        "        fator.append(linha)\n",
        "    return fator"
      ],
      "metadata": {
        "id": "S_fCxa7GV65n"
      },
      "execution_count": 215,
      "outputs": []
    },
    {
      "cell_type": "code",
      "source": [
        " # Define a função de melhoria exponencial\n",
        "def expo(ck, m, s, theta):\n",
        "    fator = []\n",
        "    for k in range(0, m, 1):\n",
        "        linha = []\n",
        "        for j in range(0, ck, 1):\n",
        "            linha.append(1.0 - np.exp(-s[k][j] * theta))\n",
        "        fator.append(linha)\n",
        "    return fator"
      ],
      "metadata": {
        "id": "NV3lIXl9V9FL"
      },
      "execution_count": 216,
      "outputs": []
    },
    {
      "cell_type": "code",
      "source": [
        "# Define a função de melhoria potência\n",
        "def pot(ck, m, s, theta):\n",
        "    fator = []\n",
        "    for k in range(0, m, 1):\n",
        "        linha = []\n",
        "        for j in range(0, ck, 1):\n",
        "            linha.append(s[k][j] ** theta)\n",
        "        fator.append(linha)\n",
        "    return fator"
      ],
      "metadata": {
        "id": "ikxXlzxKV-0K"
      },
      "execution_count": 217,
      "outputs": []
    },
    {
      "cell_type": "code",
      "source": [
        "# Define a função de melhoria para manutenção perfeita\n",
        "def mpp(ck, m, s, theta):\n",
        "    fator = []\n",
        "    for k in range(0, m, 1):\n",
        "        linha = []\n",
        "        for j in range(0, ck, 1):\n",
        "            linha.append(1)\n",
        "        fator.append(linha)\n",
        "    return fator"
      ],
      "metadata": {
        "id": "xcHr8tSFWAus"
      },
      "execution_count": 218,
      "outputs": []
    },
    {
      "cell_type": "code",
      "source": [
        "# Executa a função de melhoria com base no parâmetro fornecido\n",
        "def execute_function(fator_melhoria, ck, m, s, theta):\n",
        "    return {\n",
        "        'const': lambda: const(ck, m, s, theta),\n",
        "        'linear': lambda: linear(ck, m, s, theta),\n",
        "        'expo': lambda: expo(ck, m, s, theta),\n",
        "        'pot': lambda: pot(ck, m, s, theta),\n",
        "        'mpp': lambda: mpp(ck, m, s, theta),\n",
        "    }[fator_melhoria]()"
      ],
      "metadata": {
        "id": "R5KeFcseWDH6"
      },
      "execution_count": 219,
      "outputs": []
    },
    {
      "cell_type": "code",
      "source": [
        "# Função custo de manutenção baseada em severidade\n",
        "def custo_mp(s, CMP):\n",
        "    dist = {0.25: 2000, 0.5: 4000, 0.75: 12000, 1.0: 20000}\n",
        "    if not isinstance(s, list):\n",
        "        s = [s]  # Transforma s em uma lista com um único elemento\n",
        "    cmp_f = np.sum([CMP if si < 0.25 or si > 1.0 else np.interp(si, [0.25, 0.5, 0.75, 1.0], [2000, 4000, 12000, 20000]) for si in s])\n",
        "    return cmp_f"
      ],
      "metadata": {
        "id": "B8BkTWrmWGWO"
      },
      "execution_count": 220,
      "outputs": []
    },
    {
      "cell_type": "code",
      "source": [
        "# Leitura dos dados de tempo: exemplo tese Marcos Coque Jr.\n",
        "df = pd.read_csv('/content/drive/MyDrive/Colab Notebooks/DateSet/data.csv', sep=\";\")\n",
        "df.head()"
      ],
      "metadata": {
        "colab": {
          "base_uri": "https://localhost:8080/",
          "height": 206
        },
        "id": "IDcyZ_pHWIW8",
        "outputId": "b0952b03-776a-47dc-9dab-2a1ad073cfda"
      },
      "execution_count": 221,
      "outputs": [
        {
          "output_type": "execute_result",
          "data": {
            "text/plain": [
              "     t  k  c    n    s      T\n",
              "0   90  1  1  4.0  0.4    0.0\n",
              "1  110  1  1  0.0  0.5  150.0\n",
              "2  125  1  1  9.0  0.9  250.0\n",
              "3  135  1  1  2.0  0.2  500.0\n",
              "4  295  1  3  2.0  0.4  600.0"
            ],
            "text/html": [
              "\n",
              "  <div id=\"df-aa446e78-c3c6-401a-8da8-8f6938043c51\" class=\"colab-df-container\">\n",
              "    <div>\n",
              "<style scoped>\n",
              "    .dataframe tbody tr th:only-of-type {\n",
              "        vertical-align: middle;\n",
              "    }\n",
              "\n",
              "    .dataframe tbody tr th {\n",
              "        vertical-align: top;\n",
              "    }\n",
              "\n",
              "    .dataframe thead th {\n",
              "        text-align: right;\n",
              "    }\n",
              "</style>\n",
              "<table border=\"1\" class=\"dataframe\">\n",
              "  <thead>\n",
              "    <tr style=\"text-align: right;\">\n",
              "      <th></th>\n",
              "      <th>t</th>\n",
              "      <th>k</th>\n",
              "      <th>c</th>\n",
              "      <th>n</th>\n",
              "      <th>s</th>\n",
              "      <th>T</th>\n",
              "    </tr>\n",
              "  </thead>\n",
              "  <tbody>\n",
              "    <tr>\n",
              "      <th>0</th>\n",
              "      <td>90</td>\n",
              "      <td>1</td>\n",
              "      <td>1</td>\n",
              "      <td>4.0</td>\n",
              "      <td>0.4</td>\n",
              "      <td>0.0</td>\n",
              "    </tr>\n",
              "    <tr>\n",
              "      <th>1</th>\n",
              "      <td>110</td>\n",
              "      <td>1</td>\n",
              "      <td>1</td>\n",
              "      <td>0.0</td>\n",
              "      <td>0.5</td>\n",
              "      <td>150.0</td>\n",
              "    </tr>\n",
              "    <tr>\n",
              "      <th>2</th>\n",
              "      <td>125</td>\n",
              "      <td>1</td>\n",
              "      <td>1</td>\n",
              "      <td>9.0</td>\n",
              "      <td>0.9</td>\n",
              "      <td>250.0</td>\n",
              "    </tr>\n",
              "    <tr>\n",
              "      <th>3</th>\n",
              "      <td>135</td>\n",
              "      <td>1</td>\n",
              "      <td>1</td>\n",
              "      <td>2.0</td>\n",
              "      <td>0.2</td>\n",
              "      <td>500.0</td>\n",
              "    </tr>\n",
              "    <tr>\n",
              "      <th>4</th>\n",
              "      <td>295</td>\n",
              "      <td>1</td>\n",
              "      <td>3</td>\n",
              "      <td>2.0</td>\n",
              "      <td>0.4</td>\n",
              "      <td>600.0</td>\n",
              "    </tr>\n",
              "  </tbody>\n",
              "</table>\n",
              "</div>\n",
              "    <div class=\"colab-df-buttons\">\n",
              "\n",
              "  <div class=\"colab-df-container\">\n",
              "    <button class=\"colab-df-convert\" onclick=\"convertToInteractive('df-aa446e78-c3c6-401a-8da8-8f6938043c51')\"\n",
              "            title=\"Convert this dataframe to an interactive table.\"\n",
              "            style=\"display:none;\">\n",
              "\n",
              "  <svg xmlns=\"http://www.w3.org/2000/svg\" height=\"24px\" viewBox=\"0 -960 960 960\">\n",
              "    <path d=\"M120-120v-720h720v720H120Zm60-500h600v-160H180v160Zm220 220h160v-160H400v160Zm0 220h160v-160H400v160ZM180-400h160v-160H180v160Zm440 0h160v-160H620v160ZM180-180h160v-160H180v160Zm440 0h160v-160H620v160Z\"/>\n",
              "  </svg>\n",
              "    </button>\n",
              "\n",
              "  <style>\n",
              "    .colab-df-container {\n",
              "      display:flex;\n",
              "      gap: 12px;\n",
              "    }\n",
              "\n",
              "    .colab-df-convert {\n",
              "      background-color: #E8F0FE;\n",
              "      border: none;\n",
              "      border-radius: 50%;\n",
              "      cursor: pointer;\n",
              "      display: none;\n",
              "      fill: #1967D2;\n",
              "      height: 32px;\n",
              "      padding: 0 0 0 0;\n",
              "      width: 32px;\n",
              "    }\n",
              "\n",
              "    .colab-df-convert:hover {\n",
              "      background-color: #E2EBFA;\n",
              "      box-shadow: 0px 1px 2px rgba(60, 64, 67, 0.3), 0px 1px 3px 1px rgba(60, 64, 67, 0.15);\n",
              "      fill: #174EA6;\n",
              "    }\n",
              "\n",
              "    .colab-df-buttons div {\n",
              "      margin-bottom: 4px;\n",
              "    }\n",
              "\n",
              "    [theme=dark] .colab-df-convert {\n",
              "      background-color: #3B4455;\n",
              "      fill: #D2E3FC;\n",
              "    }\n",
              "\n",
              "    [theme=dark] .colab-df-convert:hover {\n",
              "      background-color: #434B5C;\n",
              "      box-shadow: 0px 1px 3px 1px rgba(0, 0, 0, 0.15);\n",
              "      filter: drop-shadow(0px 1px 2px rgba(0, 0, 0, 0.3));\n",
              "      fill: #FFFFFF;\n",
              "    }\n",
              "  </style>\n",
              "\n",
              "    <script>\n",
              "      const buttonEl =\n",
              "        document.querySelector('#df-aa446e78-c3c6-401a-8da8-8f6938043c51 button.colab-df-convert');\n",
              "      buttonEl.style.display =\n",
              "        google.colab.kernel.accessAllowed ? 'block' : 'none';\n",
              "\n",
              "      async function convertToInteractive(key) {\n",
              "        const element = document.querySelector('#df-aa446e78-c3c6-401a-8da8-8f6938043c51');\n",
              "        const dataTable =\n",
              "          await google.colab.kernel.invokeFunction('convertToInteractive',\n",
              "                                                    [key], {});\n",
              "        if (!dataTable) return;\n",
              "\n",
              "        const docLinkHtml = 'Like what you see? Visit the ' +\n",
              "          '<a target=\"_blank\" href=https://colab.research.google.com/notebooks/data_table.ipynb>data table notebook</a>'\n",
              "          + ' to learn more about interactive tables.';\n",
              "        element.innerHTML = '';\n",
              "        dataTable['output_type'] = 'display_data';\n",
              "        await google.colab.output.renderOutput(dataTable, element);\n",
              "        const docLink = document.createElement('div');\n",
              "        docLink.innerHTML = docLinkHtml;\n",
              "        element.appendChild(docLink);\n",
              "      }\n",
              "    </script>\n",
              "  </div>\n",
              "\n",
              "\n",
              "<div id=\"df-6ba8f616-11a3-46b2-8c56-581e799561ae\">\n",
              "  <button class=\"colab-df-quickchart\" onclick=\"quickchart('df-6ba8f616-11a3-46b2-8c56-581e799561ae')\"\n",
              "            title=\"Suggest charts.\"\n",
              "            style=\"display:none;\">\n",
              "\n",
              "<svg xmlns=\"http://www.w3.org/2000/svg\" height=\"24px\"viewBox=\"0 0 24 24\"\n",
              "     width=\"24px\">\n",
              "    <g>\n",
              "        <path d=\"M19 3H5c-1.1 0-2 .9-2 2v14c0 1.1.9 2 2 2h14c1.1 0 2-.9 2-2V5c0-1.1-.9-2-2-2zM9 17H7v-7h2v7zm4 0h-2V7h2v10zm4 0h-2v-4h2v4z\"/>\n",
              "    </g>\n",
              "</svg>\n",
              "  </button>\n",
              "\n",
              "<style>\n",
              "  .colab-df-quickchart {\n",
              "      --bg-color: #E8F0FE;\n",
              "      --fill-color: #1967D2;\n",
              "      --hover-bg-color: #E2EBFA;\n",
              "      --hover-fill-color: #174EA6;\n",
              "      --disabled-fill-color: #AAA;\n",
              "      --disabled-bg-color: #DDD;\n",
              "  }\n",
              "\n",
              "  [theme=dark] .colab-df-quickchart {\n",
              "      --bg-color: #3B4455;\n",
              "      --fill-color: #D2E3FC;\n",
              "      --hover-bg-color: #434B5C;\n",
              "      --hover-fill-color: #FFFFFF;\n",
              "      --disabled-bg-color: #3B4455;\n",
              "      --disabled-fill-color: #666;\n",
              "  }\n",
              "\n",
              "  .colab-df-quickchart {\n",
              "    background-color: var(--bg-color);\n",
              "    border: none;\n",
              "    border-radius: 50%;\n",
              "    cursor: pointer;\n",
              "    display: none;\n",
              "    fill: var(--fill-color);\n",
              "    height: 32px;\n",
              "    padding: 0;\n",
              "    width: 32px;\n",
              "  }\n",
              "\n",
              "  .colab-df-quickchart:hover {\n",
              "    background-color: var(--hover-bg-color);\n",
              "    box-shadow: 0 1px 2px rgba(60, 64, 67, 0.3), 0 1px 3px 1px rgba(60, 64, 67, 0.15);\n",
              "    fill: var(--button-hover-fill-color);\n",
              "  }\n",
              "\n",
              "  .colab-df-quickchart-complete:disabled,\n",
              "  .colab-df-quickchart-complete:disabled:hover {\n",
              "    background-color: var(--disabled-bg-color);\n",
              "    fill: var(--disabled-fill-color);\n",
              "    box-shadow: none;\n",
              "  }\n",
              "\n",
              "  .colab-df-spinner {\n",
              "    border: 2px solid var(--fill-color);\n",
              "    border-color: transparent;\n",
              "    border-bottom-color: var(--fill-color);\n",
              "    animation:\n",
              "      spin 1s steps(1) infinite;\n",
              "  }\n",
              "\n",
              "  @keyframes spin {\n",
              "    0% {\n",
              "      border-color: transparent;\n",
              "      border-bottom-color: var(--fill-color);\n",
              "      border-left-color: var(--fill-color);\n",
              "    }\n",
              "    20% {\n",
              "      border-color: transparent;\n",
              "      border-left-color: var(--fill-color);\n",
              "      border-top-color: var(--fill-color);\n",
              "    }\n",
              "    30% {\n",
              "      border-color: transparent;\n",
              "      border-left-color: var(--fill-color);\n",
              "      border-top-color: var(--fill-color);\n",
              "      border-right-color: var(--fill-color);\n",
              "    }\n",
              "    40% {\n",
              "      border-color: transparent;\n",
              "      border-right-color: var(--fill-color);\n",
              "      border-top-color: var(--fill-color);\n",
              "    }\n",
              "    60% {\n",
              "      border-color: transparent;\n",
              "      border-right-color: var(--fill-color);\n",
              "    }\n",
              "    80% {\n",
              "      border-color: transparent;\n",
              "      border-right-color: var(--fill-color);\n",
              "      border-bottom-color: var(--fill-color);\n",
              "    }\n",
              "    90% {\n",
              "      border-color: transparent;\n",
              "      border-bottom-color: var(--fill-color);\n",
              "    }\n",
              "  }\n",
              "</style>\n",
              "\n",
              "  <script>\n",
              "    async function quickchart(key) {\n",
              "      const quickchartButtonEl =\n",
              "        document.querySelector('#' + key + ' button');\n",
              "      quickchartButtonEl.disabled = true;  // To prevent multiple clicks.\n",
              "      quickchartButtonEl.classList.add('colab-df-spinner');\n",
              "      try {\n",
              "        const charts = await google.colab.kernel.invokeFunction(\n",
              "            'suggestCharts', [key], {});\n",
              "      } catch (error) {\n",
              "        console.error('Error during call to suggestCharts:', error);\n",
              "      }\n",
              "      quickchartButtonEl.classList.remove('colab-df-spinner');\n",
              "      quickchartButtonEl.classList.add('colab-df-quickchart-complete');\n",
              "    }\n",
              "    (() => {\n",
              "      let quickchartButtonEl =\n",
              "        document.querySelector('#df-6ba8f616-11a3-46b2-8c56-581e799561ae button');\n",
              "      quickchartButtonEl.style.display =\n",
              "        google.colab.kernel.accessAllowed ? 'block' : 'none';\n",
              "    })();\n",
              "  </script>\n",
              "</div>\n",
              "    </div>\n",
              "  </div>\n"
            ]
          },
          "metadata": {},
          "execution_count": 221
        }
      ]
    },
    {
      "cell_type": "code",
      "source": [
        "# Cria as variaveis\n",
        "# tempos de falhas\n",
        "t = df['t']\n",
        "# indice do sistema\n",
        "k = df['k']\n",
        "m = k.drop_duplicates().shape[0]\n",
        "# Numero de ciclos de manutenção\n",
        "ck = df['c'].max()\n",
        "# Numero de falhas e severidade das manutenções preventivas em cada sistema\n",
        "n = []\n",
        "s = []\n",
        "for k in range(m):\n",
        "    n.append(list(df['n'][k * ck:(k + 1) * ck]))\n",
        "    s.append(list(df['s'][k * ck:(k + 1) * ck]))\n",
        "\n",
        "# Tempos das MP\n",
        "T = list(df['T'][:m])\n",
        "\n",
        "# Criação de variáveis para os parâmetros\n",
        "lamb = 5\n",
        "theta = 2\n",
        "\n",
        "# Cria alguns cenários de teste\n",
        "beta = 5\n",
        "\n",
        "solucao = [lamb, beta, theta]\n",
        "\n",
        "# Cria a instância da classe IntensidadeFalha\n",
        "intensidadeFalha = IntensidadeFalha()\n",
        "\n",
        "# Inicializa a instância com os valores necessários\n",
        "falha = intensidadeFalha.inicio(T, execute_function(fator_melhoria, ck, m, s, theta), solucao)\n",
        "\n",
        "# Cria os dados da intensidade de falha\n",
        "intensidadeFalha.create()\n",
        "\n",
        "# Plota o gráfico da intensidade de falha\n",
        "intensidadeFalha.plotar()\n",
        "\n",
        "fator = execute_function(fator_melhoria, ck, m, s, theta)\n",
        "print('Fator ajuste: ', fator[0])\n",
        "\n",
        "last_value_fator_ajuste = fator[0][-1]\n",
        "\n",
        "time_duration = 1\n",
        "time.sleep(time_duration)"
      ],
      "metadata": {
        "id": "grvISRd2_HkE",
        "outputId": "63634851-798f-462a-e12b-772c8cf1aab1",
        "colab": {
          "base_uri": "https://localhost:8080/",
          "height": 392
        }
      },
      "execution_count": 222,
      "outputs": [
        {
          "output_type": "display_data",
          "data": {
            "text/plain": [
              "<Figure size 2000x500 with 1 Axes>"
            ],
            "image/png": "[encoded data removed]"
          },
          "metadata": {}
        },
        {
          "output_type": "stream",
          "name": "stdout",
          "text": [
            "Fator ajuste:  [0.5506710358827784, 0.6321205588285577, 0.8347011117784134, 0.3296799539643607]\n"
          ]
        }
      ]
    },
    {
      "cell_type": "code",
      "source": [
        "# Função objetivo para otimização da politica de manutenção\n",
        "# Numero de ciclos determinado pela solução\n",
        "# Solução com 24 valores reais\n",
        "# Solucao a ser avaliada X = [x1, ..., x24]\n",
        "def objective_st(x):\n",
        "\n",
        "    # Dicionario para severidades\n",
        "    dict_severidades = {1: 0.25, 3: 0.50, 5: 0.75, 7: 1.0}\n",
        "\n",
        "    results = [] # Lista para armazenar os resultados das funções objetivo\n",
        "\n",
        "\n",
        "    # No PSO, como cada particula é um vetor de dimenções definidas, é\n",
        "    # Necessario interar sobre o vetor de particulas\n",
        "    for particle in x:\n",
        "        T = [0]\n",
        "        s_row = []\n",
        "        cont = 0\n",
        "\n",
        "        for number in particle:\n",
        "            modulo = int(number) % 2\n",
        "            if modulo == 1:\n",
        "                inteiro = int(number)\n",
        "                s_row.append(dict_severidades[inteiro])  # Severidade\n",
        "                frac = number - inteiro  # Tempo\n",
        "                t = (cont + frac) * 30\n",
        "                T.append(int(t))\n",
        "            cont += 1\n",
        "\n",
        "    s = []\n",
        "    for row in range(m):\n",
        "        s.append(s_row)\n",
        "\n",
        "    # A partir da solução define o número de ciclos\n",
        "    # A variável m é o número de sistemas em análise: em nosso exemplo m = 4\n",
        "    # Para novos dados esse parâmetro deve ser ajustado\n",
        "    # m = 4\n",
        "    ck = len(T) - 1\n",
        "\n",
        "    print(\"\")\n",
        "    print(\"=========================================================================\")\n",
        "    print(\"\")\n",
        "    print('Número de ciclos de manutenção:', ck, m)\n",
        "    print('Tempos para manutenções preventivas:', T)\n",
        "    print('Severidade para cada subsistema:', s[0])\n",
        "    print(\"Número de Sisemas:\", m)\n",
        "\n",
        "    if ck == 0:\n",
        "        return MAX_VALUE_CUSTO\n",
        "\n",
        "    # O modelo já está ajustado\n",
        "    # Utilizado para avaliar a solução candidata\n",
        "\n",
        "    # Cria fator de meloria a partir da solução\n",
        "    fact = execute_function(fator_melhoria, ck, m, s, theta)\n",
        "    fator = [last_value_fator_ajuste] + list(fact[0])\n",
        "\n",
        "    print('Fator: ', fator)\n",
        "\n",
        "    # Numero esperado de falhas (NEF) em cada ciclo\n",
        "    termos_somatorio = [((1/(lamb**beta)) * (T[1]**beta))]\n",
        "    numero_medio_falhas = [0, ((1/(lamb**beta)) * (T[1]**beta))]\n",
        "\n",
        "    for i in range(ck-1):\n",
        "        termo = (((T[i+2]-fator[i]*T[i+1])**beta) - (((1-fator[i])*T[i+1])**beta)) * (1/(lamb**beta))\n",
        "        termos_somatorio.append(termo)\n",
        "        numero_medio_falhas.append(sum(termos_somatorio))\n",
        "\n",
        "    # Número médio de falhas até o final do período: 2 anos\n",
        "    final = 730\n",
        "    termo = (((final-fator[ck-1]*T[ck])**beta) - (((1-fator[ck-1])*T[ck])**beta)) * (1/(lamb**beta))\n",
        "    termos_somatorio.append(termo)\n",
        "    numero_medio_falhas.append(sum(termos_somatorio))\n",
        "\n",
        "    mi = numero_medio_falhas\n",
        "\n",
        "    print('Media de falhas: ', mi)\n",
        "\n",
        "    Ctotal =  []\n",
        "\n",
        "    for i in range(ck):\n",
        "        cmp = custo_mp(s[0][i], CMP)\n",
        "        Ctotal.append((cmp + (mi[i+1] - mi[i])*CMC)/(T[i+1]-T[i]))\n",
        "\n",
        "    cmp = custo_mp(s[0][ck-1], CMP)\n",
        "    Ctotal.append((cmp + (mi[ck+1] - mi[ck])*CMC)/(final-T[ck]))\n",
        "\n",
        "    # Custo Total\n",
        "    Custo = np.sum(Ctotal)\n",
        "    results.append(Custo) # Adicione o valor da função objetivo à lista de resultados\n",
        "    print('Custo = ', Custo)\n",
        "\n",
        "    # Retorne os resultados da função objetivo como um array\n",
        "    return np.array(results)"
      ],
      "metadata": {
        "id": "-JuqM09rWWBJ"
      },
      "execution_count": 223,
      "outputs": []
    },
    {
      "cell_type": "code",
      "source": [
        "num_particles = 100\n",
        "max_iterations = 100\n",
        "dimensions = 24\n",
        "options = {'c1': 0.5, 'c2': 0.3, 'w': 0.9}\n",
        "\n",
        "max_bound = np.array([7.0] * dimensions)  # Limite superior dos valores em x\n",
        "min_bound = np.array([0.0] * dimensions)   # Limite inferior dos valores em x\n",
        "bounds = (min_bound, max_bound)\n",
        "\n",
        "optimizer = GlobalBestPSO(n_particles=num_particles, dimensions=dimensions, options=options, bounds=bounds)\n",
        "\n",
        "# Inicializar current_cost e pbest_cost com valores infinitos\n",
        "optimizer.swarm.current_cost = np.full(optimizer.swarm.position.shape[0], np.inf)\n",
        "optimizer.swarm.pbest_cost = np.full(optimizer.swarm.position.shape[0], np.inf)\n",
        "best_cost, best_position = optimizer.optimize(objective_st, iters=max_iterations)\n",
        "\n",
        "pbest_cost = optimizer.swarm.pbest_cost\n",
        "\n",
        "best_positions = []  # Lista para armazenar todas as melhores posições\n",
        "\n",
        "# Loop de iterações do PSO\n",
        "for i in range(max_iterations):\n",
        "    best_cost, best_position = optimizer.optimize(objective_st, iters=1)\n",
        "    pbest_cost = optimizer.swarm.pbest_cost\n",
        "    best_positions.append(best_position)\n",
        "\n",
        "# Converter a lista de melhores posições em um array numpy para facilitar a manipulação\n",
        "best_positions = np.array(best_positions)"
      ],
      "metadata": {
        "colab": {
          "base_uri": "https://localhost:8080/"
        },
        "id": "cePW2Ji6gjmC",
        "outputId": "14bfc605-043f-43be-eb1d-dd61f8dee3e7"
      },
      "execution_count": 224,
      "outputs": [
        {
          "output_type": "stream",
          "name": "stderr",
          "text": [
            "2023-09-10 20:14:44,037 - pyswarms.single.global_best - INFO - Optimize for 100 iters with {'c1': 0.5, 'c2': 0.3, 'w': 0.9}\n",
            "pyswarms.single.global_best:   9%|▉         |9/100, best_cost=8.15e+10"
          ]
        },
        {
          "output_type": "stream",
          "name": "stdout",
          "text": [
            "\n",
            "=========================================================================\n",
            "\n",
            "Número de ciclos de manutenção: 8 5\n",
            "Tempos para manutenções preventivas: [0, 17, 101, 134, 172, 219, 308, 352, 548]\n",
            "Severidade para cada subsistema: [0.25, 0.25, 0.5, 0.5, 0.75, 0.25, 0.5, 0.75]\n",
            "Número de Sisemas: 5\n",
            "Fator:  [0.3296799539643607, 0.3934693402873666, 0.3934693402873666, 0.6321205588285577, 0.6321205588285577, 0.7768698398515702, 0.3934693402873666, 0.6321205588285577, 0.7768698398515702]\n",
            "Media de falhas:  [0, 454.35424000000006, 2528456.917960726, 4633487.260542882, 11223649.573498998, 16117508.777661607, 59889213.564870216, 65222815.18941429, 3608068603.35954, 6159366941.013457]\n",
            "Custo =  132313450702.01892\n",
            "\n",
            "=========================================================================\n",
            "\n",
            "Número de ciclos de manutenção: 9 5\n",
            "Tempos para manutenções preventivas: [0, 140, 231, 407, 489, 535, 562, 576, 635, 668]\n",
            "Severidade para cada subsistema: [0.5, 0.75, 0.5, 0.25, 0.25, 0.75, 0.25, 0.75, 0.75]\n",
            "Número de Sisemas: 5\n",
            "Fator:  [0.3296799539643607, 0.6321205588285577, 0.7768698398515702, 0.6321205588285577, 0.3934693402873666, 0.3934693402873666, 0.7768698398515702, 0.3934693402873666, 0.7768698398515702, 0.7768698398515702]\n",
            "Media de falhas:  [0, 17210368.0, 83934784.84646742, 469941340.65196186, 517287174.0633097, 645219785.5579696, 1210811331.7302942, 1539109647.0840688, 1602091227.48521, 2980809522.7299333, 3091262944.9480495]\n",
            "Custo =  381735864689.9265\n",
            "\n",
            "=========================================================================\n",
            "\n",
            "Número de ciclos de manutenção: 15 5\n",
            "Tempos para manutenções preventivas: [0, 59, 65, 165, 190, 232, 262, 350, 381, 393, 443, 516, 562, 595, 630, 677]\n",
            "Severidade para cada subsistema: [0.5, 0.75, 0.75, 0.5, 0.75, 0.5, 0.75, 0.75, 0.75, 0.75, 0.5, 0.75, 0.25, 0.5, 0.75]\n",
            "Número de Sisemas: 5\n",
            "Fator:  [0.3296799539643607, 0.6321205588285577, 0.7768698398515702, 0.7768698398515702, 0.6321205588285577, 0.7768698398515702, 0.6321205588285577, 0.7768698398515702, 0.7768698398515702, 0.7768698398515702, 0.7768698398515702, 0.6321205588285577, 0.7768698398515702, 0.3934693402873666, 0.6321205588285577, 0.7768698398515702]\n",
            "Media de falhas:  [0, 228775.77568000002, 260553.4898691073, 9606072.760458013, 9873276.813690387, 11199472.205851724, 16284635.791261459, 37630997.412886575, 59607769.09696449, 60936592.99420858, 75114061.51698859, 120051770.13947369, 148339260.49044317, 280928307.109783, 310252740.43152654, 2359421553.1880093, 2857379068.7910113]\n",
            "Custo =  242964671266.01306\n",
            "\n",
            "=========================================================================\n",
            "\n",
            "Número de ciclos de manutenção: 14 5\n",
            "Tempos para manutenções preventivas: [0, 4, 52, 68, 169, 227, 243, 450, 497, 537, 554, 593, 653, 682, 715]\n",
            "Severidade para cada subsistema: [0.5, 0.5, 0.75, 0.75, 0.75, 0.25, 0.5, 0.5, 0.5, 0.75, 0.25, 0.25, 0.75, 0.75]\n",
            "Número de Sisemas: 5\n",
            "Fator:  [0.3296799539643607, 0.6321205588285577, 0.6321205588285577, 0.7768698398515702, 0.7768698398515702, 0.7768698398515702, 0.3934693402873666, 0.6321205588285577, 0.6321205588285577, 0.6321205588285577, 0.7768698398515702, 0.3934693402873666, 0.3934693402873666, 0.7768698398515702, 0.7768698398515702]\n",
            "Media de falhas:  [0, 0.32768, 107001.28922145719, 123302.31660013589, 10289091.790857643, 12834578.312060686, 13148791.289178647, 402211827.1799634, 990223517.3882089, 1100665074.7919977, 1149862892.0625868, 1307391148.0329208, 1378596858.8778608, 2700275373.5433006, 4513308515.973251, 4532068002.581726]\n",
            "Custo =  508819893053.01666\n",
            "\n",
            "=========================================================================\n",
            "\n",
            "Número de ciclos de manutenção: 14 5\n",
            "Tempos para manutenções preventivas: [0, 31, 101, 153, 204, 215, 328, 352, 479, 501, 514, 544, 574, 684, 697]\n",
            "Severidade para cada subsistema: [0.5, 0.5, 0.75, 0.75, 0.75, 0.25, 0.75, 0.25, 0.5, 0.5, 0.75, 0.25, 0.75, 0.75]\n",
            "Número de Sisemas: 5\n",
            "Fator:  [0.3296799539643607, 0.6321205588285577, 0.6321205588285577, 0.7768698398515702, 0.7768698398515702, 0.7768698398515702, 0.3934693402873666, 0.7768698398515702, 0.3934693402873666, 0.6321205588285577, 0.6321205588285577, 0.7768698398515702, 0.3934693402873666, 0.7768698398515702, 0.7768698398515702]\n",
            "Media de falhas:  [0, 9161.32832, 1980793.8487267264, 3760729.214635335, 8128330.370386674, 8250346.040265215, 42756202.34922252, 44858788.437148586, 1367541272.6078176, 1374456372.14697, 1567641415.7969308, 1651819242.8785152, 1755624829.1714792, 1989353408.1647553, 2645365648.9233136, 2692451772.21328]\n",
            "Custo =  345688711945.1101\n",
            "\n",
            "=========================================================================\n",
            "\n",
            "Número de ciclos de manutenção: 8 5\n",
            "Tempos para manutenções preventivas: [0, 102, 205, 295, 311, 341, 407, 520, 677]\n",
            "Severidade para cada subsistema: [0.25, 0.5, 0.25, 0.25, 0.75, 0.75, 0.25, 0.75]\n",
            "Número de Sisemas: 5\n",
            "Fator:  [0.3296799539643607, 0.3934693402873666, 0.6321205588285577, 0.3934693402873666, 0.3934693402873666, 0.7768698398515702, 0.7768698398515702, 0.3934693402873666, 0.7768698398515702]\n",
            "Media de falhas:  [0, 3533058.5702400003, 50354511.66269444, 185606198.52994037, 190370342.1182165, 273797486.21466273, 636397345.2869118, 746964103.6121265, 1225728462.5047042, 4344512733.755446]\n",
            "Custo =  293750082122.41736\n",
            "\n",
            "=========================================================================\n",
            "\n",
            "Número de ciclos de manutenção: 10 5\n",
            "Tempos para manutenções preventivas: [0, 13, 70, 207, 264, 288, 366, 403, 481, 669, 716]\n",
            "Severidade para cada subsistema: [0.25, 0.5, 0.25, 0.5, 0.25, 0.75, 0.5, 0.5, 0.75, 0.5]\n",
            "Número de Sisemas: 5\n",
            "Fator:  [0.3296799539643607, 0.3934693402873666, 0.6321205588285577, 0.3934693402873666, 0.6321205588285577, 0.3934693402873666, 0.7768698398515702, 0.6321205588285577, 0.6321205588285577, 0.7768698398515702, 0.6321205588285577]\n",
            "Media de falhas:  [0, 118.81376000000002, 392246.0368431277, 59907971.859229244, 72481354.60111609, 106514438.0748004, 169639330.63169494, 370005419.44122005, 410848968.7477599, 2426987301.7314034, 2830376940.4628067, 2847761193.7898793]\n",
            "Custo =  117507200690.29982\n",
            "\n",
            "=========================================================================\n",
            "\n",
            "Número de ciclos de manutenção: 9 5\n",
            "Tempos para manutenções preventivas: [0, 55, 149, 168, 249, 280, 353, 373, 660, 692]\n",
            "Severidade para cada subsistema: [0.25, 0.5, 0.5, 0.5, 0.25, 0.5, 0.75, 0.75, 0.5]\n",
            "Número de Sisemas: 5\n",
            "Fator:  [0.3296799539643607, 0.3934693402873666, 0.6321205588285577, 0.6321205588285577, 0.6321205588285577, 0.3934693402873666, 0.6321205588285577, 0.7768698398515702, 0.7768698398515702, 0.6321205588285577]\n",
            "Media de falhas:  [0, 161051.0, 12422432.110393943, 15501808.888593681, 34217386.3974275, 41017711.043976724, 91356243.67680332, 172393556.62842947, 4553261588.262237, 4590340125.490131, 4646636130.788482]\n",
            "Custo =  93567297139.29358\n",
            "\n",
            "=========================================================================\n",
            "\n",
            "Número de ciclos de manutenção: 6 5\n",
            "Tempos para manutenções preventivas: [0, 40, 103, 196, 272, 365, 652]\n",
            "Severidade para cada subsistema: [0.25, 0.75, 0.5, 0.25, 0.75, 0.25]\n",
            "Número de Sisemas: 5\n",
            "Fator:  [0.3296799539643607, 0.3934693402873666, 0.7768698398515702, 0.6321205588285577, 0.3934693402873666, 0.7768698398515702, 0.3934693402873666]\n",
            "Media de falhas:  [0, 32768.0, 1898331.5983472695, 30662153.62705708, 38485560.60848468, 121107105.96183473, 10817897987.227736, 10975426740.619598]\n",
            "Custo =  162486843582.57047\n",
            "\n",
            "=========================================================================\n",
            "\n",
            "Número de ciclos de manutenção: 5 5\n",
            "Tempos para manutenções preventivas: [0, 192, 469, 530, 581, 701]\n",
            "Severidade para cada subsistema: [0.25, 0.5, 0.75, 0.25, 0.25]\n",
            "Número de Sisemas: 5\n",
            "Fator:  [0.3296799539643607, 0.3934693402873666, 0.6321205588285577, 0.7768698398515702, 0.3934693402873666, 0.3934693402873666]\n",
            "Media de falhas:  [0, 83494164.23424001, 3589278706.7081547, 4567786848.791225, 4765765228.302641, 5064295991.595242, 6802099385.598774]\n",
            "Custo =  381704739325.126\n",
            "\n",
            "=========================================================================\n",
            "\n",
            "Número de ciclos de manutenção: 9 5\n",
            "Tempos para manutenções preventivas: [0, 111, 209, 243, 315, 385, 429, 514, 656, 691]\n",
            "Severidade para cada subsistema: [0.5, 0.75, 0.5, 0.25, 0.5, 0.5, 0.75, 0.25, 0.25]\n",
            "Número de Sisemas: 5\n",
            "Fator:  [0.3296799539643607, 0.6321205588285577, 0.7768698398515702, 0.6321205588285577, 0.3934693402873666, 0.6321205588285577, 0.6321205588285577, 0.7768698398515702, 0.3934693402873666, 0.3934693402873666]\n",
            "Media de falhas:  [0, 5392186.0963200005, 53404717.13486706, 57909641.85495378, 68011519.42866378, 132337384.38646856, 436867413.4382888, 675668357.8469805, 1871465257.4192371, 1912772569.1570427, 4231358001.8773537]\n",
            "Custo =  322052108204.5382\n",
            "\n",
            "=========================================================================\n",
            "\n",
            "Número de ciclos de manutenção: 10 5\n",
            "Tempos para manutenções preventivas: [0, 94, 245, 321, 376, 390, 425, 466, 484, 632, 699]\n",
            "Severidade para cada subsistema: [0.5, 0.5, 0.25, 0.5, 0.25, 0.5, 0.25, 0.5, 0.25, 0.25]\n",
            "Número de Sisemas: 5\n",
            "Fator:  [0.3296799539643607, 0.6321205588285577, 0.6321205588285577, 0.3934693402873666, 0.6321205588285577, 0.3934693402873666, 0.6321205588285577, 0.3934693402873666, 0.6321205588285577, 0.3934693402873666, 0.3934693402873666]\n",
            "Media de falhas:  [0, 2348492.8716800003, 145685798.68666565, 184277024.86602283, 226645019.23775893, 295146443.0969204, 333637336.5330063, 731281724.6693251, 761957904.1496516, 5435891534.581923, 5989628899.425819, 7844261450.539271]\n",
            "Custo =  477280578764.58923\n",
            "\n",
            "=========================================================================\n",
            "\n",
            "Número de ciclos de manutenção: 11 5\n",
            "Tempos para manutenções preventivas: [0, 7, 40, 73, 90, 243, 315, 331, 394, 432, 493, 712]\n",
            "Severidade para cada subsistema: [0.25, 0.25, 0.5, 0.5, 0.5, 0.25, 0.5, 0.75, 0.5, 0.5, 0.25]\n",
            "Número de Sisemas: 5\n",
            "Fator:  [0.3296799539643607, 0.3934693402873666, 0.3934693402873666, 0.6321205588285577, 0.6321205588285577, 0.6321205588285577, 0.3934693402873666, 0.6321205588285577, 0.7768698398515702, 0.6321205588285577, 0.6321205588285577, 0.3934693402873666]\n",
            "Media de falhas:  [0, 5.378240000000001, 24349.647953887434, 218653.980111858, 440657.56617298815, 71875683.35875686, 105091412.61757995, 111171108.4757154, 415321580.4571015, 460425933.71017575, 488670681.81521267, 3717637352.996509, 3873154918.1171923]\n",
            "Custo =  124758669676.83957\n",
            "\n",
            "=========================================================================\n",
            "\n",
            "Número de ciclos de manutenção: 14 5\n",
            "Tempos para manutenções preventivas: [0, 15, 49, 83, 113, 154, 246, 305, 332, 400, 444, 458, 489, 528, 599]\n",
            "Severidade para cada subsistema: [0.25, 0.25, 0.5, 0.5, 0.25, 0.5, 0.25, 0.5, 0.25, 0.5, 0.5, 0.5, 0.75, 0.5]\n",
            "Número de Sisemas: 5\n",
            "Fator:  [0.3296799539643607, 0.3934693402873666, 0.3934693402873666, 0.6321205588285577, 0.6321205588285577, 0.3934693402873666, 0.6321205588285577, 0.3934693402873666, 0.6321205588285577, 0.3934693402873666, 0.6321205588285577, 0.6321205588285577, 0.6321205588285577, 0.7768698398515702, 0.6321205588285577]\n",
            "Media de falhas:  [0, 243.00000000000003, 53312.76204045429, 382039.6601530721, 1349756.84393611, 2538237.581218828, 25580168.213386256, 127121152.97581443, 138156478.926326, 486023390.48785734, 545610558.4197956, 676325823.7674128, 733972265.6728263, 834494316.0087119, 1166109268.0730593, 1567941153.4206815]\n",
            "Custo =  121738189023.27425\n",
            "\n",
            "=========================================================================\n",
            "\n",
            "Número de ciclos de manutenção: 10 5\n",
            "Tempos para manutenções preventivas: [0, 19, 54, 93, 202, 365, 480, 537, 583, 671, 706]\n",
            "Severidade para cada subsistema: [0.25, 0.25, 0.75, 0.25, 0.75, 0.5, 0.75, 0.75, 0.75, 0.5]\n",
            "Número de Sisemas: 5\n",
            "Fator:  [0.3296799539643607, 0.3934693402873666, 0.3934693402873666, 0.7768698398515702, 0.3934693402873666, 0.7768698398515702, 0.6321205588285577, 0.7768698398515702, 0.7768698398515702, 0.7768698398515702, 0.6321205588285577]\n",
            "Media de falhas:  [0, 792.3516800000001, 80005.31504252584, 676555.4440545242, 40114688.296292506, 164857075.0843459, 1372928313.578949, 1406501132.875293, 1584440008.799538, 1730381863.0822074, 1775128953.2644317, 1807165731.019798]\n",
            "Custo =  81514778620.21527\n"
          ]
        },
        {
          "output_type": "stream",
          "name": "stderr",
          "text": [
            "pyswarms.single.global_best:  26%|██▌       |26/100, best_cost=8.15e+10"
          ]
        },
        {
          "output_type": "stream",
          "name": "stdout",
          "text": [
            "\n",
            "=========================================================================\n",
            "\n",
            "Número de ciclos de manutenção: 7 5\n",
            "Tempos para manutenções preventivas: [0, 25, 56, 196, 256, 372, 683, 711]\n",
            "Severidade para cada subsistema: [0.25, 0.25, 0.75, 0.25, 0.75, 0.75, 0.5]\n",
            "Número de Sisemas: 5\n",
            "Fator:  [0.3296799539643607, 0.3934693402873666, 0.3934693402873666, 0.7768698398515702, 0.3934693402873666, 0.7768698398515702, 0.7768698398515702, 0.6321205588285577]\n",
            "Media de falhas:  [0, 3125.0000000000005, 82204.55914795527, 51055780.32365777, 102066156.80337185, 151634123.34421977, 14204914626.390133, 14239746683.473082, 14264202362.28674]\n",
            "Custo =  197451185022.0011\n",
            "\n",
            "=========================================================================\n",
            "\n",
            "Número de ciclos de manutenção: 8 5\n",
            "Tempos para manutenções preventivas: [0, 54, 304, 352, 415, 529, 601, 689, 699]\n",
            "Severidade para cada subsistema: [0.25, 0.25, 0.25, 0.75, 0.75, 0.75, 0.75, 0.5]\n",
            "Número de Sisemas: 5\n",
            "Fator:  [0.3296799539643607, 0.3934693402873666, 0.3934693402873666, 0.3934693402873666, 0.7768698398515702, 0.7768698398515702, 0.7768698398515702, 0.7768698398515702, 0.6321205588285577]\n",
            "Media de falhas:  [0, 146932.80768, 614564255.3493931, 763231657.055579, 1138433945.8449404, 2908417142.894496, 2980395147.2048464, 3139461273.248066, 3149639923.11322, 3193217166.8586607]\n",
            "Custo =  129080940132.41837\n",
            "\n",
            "=========================================================================\n",
            "\n",
            "Número de ciclos de manutenção: 9 5\n",
            "Tempos para manutenções preventivas: [0, 49, 178, 317, 343, 403, 519, 598, 611, 686]\n",
            "Severidade para cada subsistema: [0.25, 0.25, 0.25, 0.25, 0.5, 0.75, 0.25, 0.25, 0.75]\n",
            "Número de Sisemas: 5\n",
            "Fator:  [0.3296799539643607, 0.3934693402873666, 0.3934693402873666, 0.3934693402873666, 0.3934693402873666, 0.6321205588285577, 0.7768698398515702, 0.3934693402873666, 0.3934693402873666, 0.7768698398515702]\n",
            "Media de falhas:  [0, 90392.07968000001, 35613097.24033433, 324890534.78174424, 399341163.4146903, 717375401.873843, 2384711377.63126, 2762084445.17735, 2770093845.439012, 6154521957.335499, 8760508001.899895]\n",
            "Custo =  538566541911.9108\n",
            "\n",
            "=========================================================================\n",
            "\n",
            "Número de ciclos de manutenção: 12 5\n",
            "Tempos para manutenções preventivas: [0, 46, 89, 156, 329, 350, 406, 449, 483, 511, 576, 622, 673]\n",
            "Severidade para cada subsistema: [0.25, 0.5, 0.25, 0.25, 0.25, 0.25, 0.5, 0.5, 0.75, 0.75, 0.75, 0.75]\n",
            "Número de Sisemas: 5\n",
            "Fator:  [0.3296799539643607, 0.3934693402873666, 0.6321205588285577, 0.3934693402873666, 0.3934693402873666, 0.3934693402873666, 0.3934693402873666, 0.6321205588285577, 0.6321205588285577, 0.7768698398515702, 0.7768698398515702, 0.7768698398515702, 0.7768698398515702]\n",
            "Media de falhas:  [0, 65908.15232000001, 759176.1281883306, 8906038.32699891, 216418310.3393036, 282151383.5441192, 588963549.6653938, 947129273.0506778, 1330991781.6173153, 1392120982.2224572, 1648612651.6477585, 1689201004.7382033, 1751515374.9759095, 1849189404.2392914]\n",
            "Custo =  158056338514.02136\n",
            "\n",
            "=========================================================================\n",
            "\n",
            "Número de ciclos de manutenção: 13 5\n",
            "Tempos para manutenções preventivas: [0, 27, 44, 83, 104, 189, 265, 327, 358, 402, 427, 490, 574, 611]\n",
            "Severidade para cada subsistema: [0.25, 0.25, 0.5, 0.75, 0.75, 0.75, 0.25, 0.25, 0.25, 0.5, 0.5, 0.25, 0.25]\n",
            "Número de Sisemas: 5\n",
            "Fator:  [0.3296799539643607, 0.3934693402873666, 0.3934693402873666, 0.6321205588285577, 0.7768698398515702, 0.7768698398515702, 0.7768698398515702, 0.3934693402873666, 0.3934693402873666, 0.3934693402873666, 0.6321205588285577, 0.6321205588285577, 0.3934693402873666, 0.3934693402873666]\n",
            "Media de falhas:  [0, 4591.65024, 21015.414315283157, 408027.50413279276, 895955.0641752399, 9974121.97554557, 17305650.457010467, 25418836.666667193, 28643581.493501004, 262776632.5585922, 436271757.38626444, 1170927544.4415407, 1522418123.1044822, 1689253345.9450414, 8453966627.949253]\n",
            "Custo =  359737845651.6943\n",
            "\n",
            "=========================================================================\n",
            "\n",
            "Número de ciclos de manutenção: 7 5\n",
            "Tempos para manutenções preventivas: [0, 21, 46, 79, 324, 476, 493, 632]\n",
            "Severidade para cada subsistema: [0.25, 0.25, 0.5, 0.25, 0.25, 0.5, 0.5]\n",
            "Número de Sisemas: 5\n",
            "Fator:  [0.3296799539643607, 0.3934693402873666, 0.3934693402873666, 0.6321205588285577, 0.3934693402873666, 0.3934693402873666, 0.6321205588285577, 0.6321205588285577]\n",
            "Media de falhas:  [0, 1306.9123200000001, 30286.88724468505, 292948.5811187456, 690237201.6437079, 1151937446.1175094, 1364518363.975317, 5759162061.998523, 6803605399.167025]\n",
            "Custo =  242565073175.4276\n",
            "\n",
            "=========================================================================\n",
            "\n",
            "Número de ciclos de manutenção: 12 5\n",
            "Tempos para manutenções preventivas: [0, 17, 48, 79, 102, 159, 200, 260, 317, 411, 420, 476, 495]\n",
            "Severidade para cada subsistema: [0.25, 0.25, 0.5, 0.5, 0.25, 0.5, 0.25, 0.25, 0.5, 0.5, 0.75, 0.5]\n",
            "Número de Sisemas: 5\n",
            "Fator:  [0.3296799539643607, 0.3934693402873666, 0.3934693402873666, 0.6321205588285577, 0.6321205588285577, 0.3934693402873666, 0.6321205588285577, 0.3934693402873666, 0.3934693402873666, 0.6321205588285577, 0.6321205588285577, 0.7768698398515702, 0.6321205588285577]\n",
            "Media de falhas:  [0, 454.35424000000006, 44220.26868200039, 288721.1470896348, 781838.4751404759, 3172679.7095069056, 6073241.133483409, 60359782.93937469, 84320514.35529199, 615457694.805069, 675229056.9176353, 779334087.4506508, 814831352.6074363, 2383816768.3766875]\n",
            "Custo =  96656330104.91373\n",
            "\n",
            "=========================================================================\n",
            "\n",
            "Número de ciclos de manutenção: 15 5\n",
            "Tempos para manutenções preventivas: [0, 21, 49, 83, 100, 179, 206, 315, 384, 436, 479, 495, 591, 600, 652, 699]\n",
            "Severidade para cada subsistema: [0.25, 0.25, 0.5, 0.5, 0.25, 0.25, 0.25, 0.5, 0.5, 0.25, 0.5, 0.5, 0.5, 0.25, 0.5]\n",
            "Número de Sisemas: 5\n",
            "Fator:  [0.3296799539643607, 0.3934693402873666, 0.3934693402873666, 0.6321205588285577, 0.6321205588285577, 0.3934693402873666, 0.3934693402873666, 0.3934693402873666, 0.6321205588285577, 0.6321205588285577, 0.3934693402873666, 0.6321205588285577, 0.6321205588285577, 0.6321205588285577, 0.3934693402873666, 0.6321205588285577]\n",
            "Media de falhas:  [0, 1306.9123200000001, 43334.60497061822, 372061.503083236, 711775.283905044, 7350098.278799197, 9162229.79994993, 223662420.63472098, 522820400.110362, 904223754.7641834, 981645135.5638995, 1011236720.7412442, 3355986406.198091, 3390939035.3234625, 3706109243.087459, 4073617337.8162775, 5928249888.929729]\n",
            "Custo =  477943083787.745\n",
            "\n",
            "=========================================================================\n",
            "\n",
            "Número de ciclos de manutenção: 13 5\n",
            "Tempos para manutenções preventivas: [0, 27, 48, 88, 109, 316, 367, 401, 447, 491, 519, 622, 667, 715]\n",
            "Severidade para cada subsistema: [0.25, 0.25, 0.5, 0.5, 0.25, 0.5, 0.75, 0.5, 0.5, 0.75, 0.75, 0.75, 0.5]\n",
            "Número de Sisemas: 5\n",
            "Fator:  [0.3296799539643607, 0.3934693402873666, 0.3934693402873666, 0.6321205588285577, 0.6321205588285577, 0.3934693402873666, 0.6321205588285577, 0.7768698398515702, 0.6321205588285577, 0.6321205588285577, 0.7768698398515702, 0.7768698398515702, 0.7768698398515702, 0.6321205588285577]\n",
            "Media de falhas:  [0, 4591.65024, 33208.9543992374, 531134.8786932918, 1120757.0428048987, 295871427.04790777, 330954989.42665553, 512037132.24974954, 576531971.9800627, 593008255.7554543, 657958371.531145, 1278811792.3949375, 1329434360.6112866, 1400601868.9393895, 1419361355.547864]\n",
            "Custo =  85847764195.86322\n",
            "\n",
            "=========================================================================\n",
            "\n",
            "Número de ciclos de manutenção: 10 5\n",
            "Tempos para manutenções preventivas: [0, 47, 259, 312, 374, 409, 484, 537, 630, 677, 718]\n",
            "Severidade para cada subsistema: [0.25, 0.75, 0.25, 0.5, 0.75, 0.5, 0.75, 0.25, 0.75, 0.5]\n",
            "Número de Sisemas: 5\n",
            "Fator:  [0.3296799539643607, 0.3934693402873666, 0.7768698398515702, 0.3934693402873666, 0.6321205588285577, 0.7768698398515702, 0.6321205588285577, 0.7768698398515702, 0.3934693402873666, 0.7768698398515702, 0.6321205588285577]\n",
            "Media de falhas:  [0, 73390.40224000001, 274025106.312339, 374387649.93389213, 386503125.0977572, 588162708.2410815, 749918877.416729, 779828936.2525946, 1346164933.4116452, 1402900305.7400627, 3679368134.7368784, 3694058541.5135937]\n",
            "Custo =  303640795537.21106\n",
            "\n",
            "=========================================================================\n",
            "\n",
            "Número de ciclos de manutenção: 9 5\n",
            "Tempos para manutenções preventivas: [0, 45, 110, 172, 199, 304, 590, 633, 680, 698]\n",
            "Severidade para cada subsistema: [0.25, 0.75, 0.25, 0.5, 0.25, 0.25, 0.75, 0.75, 0.5]\n",
            "Número de Sisemas: 5\n",
            "Fator:  [0.3296799539643607, 0.3934693402873666, 0.7768698398515702, 0.3934693402873666, 0.6321205588285577, 0.3934693402873666, 0.3934693402873666, 0.7768698398515702, 0.7768698398515702, 0.6321205588285577]\n",
            "Media de falhas:  [0, 59049.00000000001, 2548655.911805703, 13432757.688157707, 13788341.344444731, 193005707.41350126, 3376497939.938247, 4810483915.343058, 6896547241.747896, 6915888285.553716, 6961207790.258033]\n",
            "Custo =  373159327412.00934\n",
            "\n",
            "=========================================================================\n",
            "\n",
            "Número de ciclos de manutenção: 9 5\n",
            "Tempos para manutenções preventivas: [0, 43, 152, 246, 300, 357, 411, 595, 657, 681]\n",
            "Severidade para cada subsistema: [0.25, 0.25, 0.25, 0.25, 0.25, 0.5, 0.75, 0.25, 0.75]\n",
            "Número de Sisemas: 5\n",
            "Fator:  [0.3296799539643607, 0.3934693402873666, 0.3934693402873666, 0.3934693402873666, 0.3934693402873666, 0.3934693402873666, 0.6321205588285577, 0.7768698398515702, 0.3934693402873666, 0.7768698398515702]\n",
            "Media de falhas:  [0, 47042.70176, 15954350.95427688, 85431315.20758492, 172643471.6788321, 358140847.29015696, 669523335.0664179, 5248150403.520313, 5646882199.717179, 5671454907.525197, 8563013927.344062]\n",
            "Custo =  411488575669.09717\n",
            "\n",
            "=========================================================================\n",
            "\n",
            "Número de ciclos de manutenção: 11 5\n",
            "Tempos para manutenções preventivas: [0, 42, 85, 201, 246, 439, 476, 482, 535, 599, 618, 676]\n",
            "Severidade para cada subsistema: [0.25, 0.5, 0.25, 0.5, 0.5, 0.25, 0.5, 0.75, 0.25, 0.25, 0.75]\n",
            "Número de Sisemas: 5\n",
            "Fator:  [0.3296799539643607, 0.3934693402873666, 0.6321205588285577, 0.3934693402873666, 0.6321205588285577, 0.6321205588285577, 0.3934693402873666, 0.6321205588285577, 0.7768698398515702, 0.3934693402873666, 0.3934693402873666, 0.7768698398515702]\n",
            "Media de falhas:  [0, 41821.194240000004, 619780.4754682007, 42764089.8651913, 49675007.96560344, 1527739776.8250537, 1591198590.0842428, 1600865257.8819835, 2489436569.0034776, 2781137560.698729, 2794017366.944331, 5287615256.283062, 8463042729.851901]\n",
            "Custo =  541257582446.312\n",
            "\n",
            "=========================================================================\n",
            "\n",
            "Número de ciclos de manutenção: 15 5\n",
            "Tempos para manutenções preventivas: [0, 24, 42, 80, 113, 246, 302, 425, 453, 495, 515, 597, 617, 641, 667, 708]\n",
            "Severidade para cada subsistema: [0.25, 0.25, 0.5, 0.75, 0.75, 0.25, 0.5, 0.25, 0.5, 0.75, 0.75, 0.5, 0.5, 0.75, 0.25]\n",
            "Número de Sisemas: 5\n",
            "Fator:  [0.3296799539643607, 0.3934693402873666, 0.3934693402873666, 0.6321205588285577, 0.7768698398515702, 0.7768698398515702, 0.3934693402873666, 0.6321205588285577, 0.3934693402873666, 0.6321205588285577, 0.7768698398515702, 0.7768698398515702, 0.6321205588285577, 0.6321205588285577, 0.7768698398515702, 0.3934693402873666]\n",
            "Media de falhas:  [0, 2548.0396800000003, 16930.979390407967, 343213.4307628994, 1409363.083151298, 53249967.02692028, 58456045.47795466, 138053292.23233783, 383761023.95607036, 469172336.38979864, 766203336.8333842, 1159788398.4796033, 1173379178.98488, 1192897246.6523514, 1353197814.1995924, 1684904338.25688, 1713845184.9960098]\n",
            "Custo =  194784070392.69763\n",
            "\n",
            "=========================================================================\n",
            "\n",
            "Número de ciclos de manutenção: 7 5\n",
            "Tempos para manutenções preventivas: [0, 23, 44, 79, 305, 503, 615, 696]\n",
            "Severidade para cada subsistema: [0.25, 0.25, 0.5, 0.25, 0.5, 0.75, 0.25]\n",
            "Número de Sisemas: 5\n",
            "Fator:  [0.3296799539643607, 0.3934693402873666, 0.3934693402873666, 0.6321205588285577, 0.3934693402873666, 0.6321205588285577, 0.7768698398515702, 0.3934693402873666]\n",
            "Media de falhas:  [0, 2059.6297600000003, 22277.985322177665, 303791.04137108225, 493665253.71632624, 1407114168.803668, 4600328138.826395, 5286787734.091197, 5335665157.384392]\n",
            "Custo =  180914837908.98962\n"
          ]
        },
        {
          "output_type": "stream",
          "name": "stderr",
          "text": [
            "pyswarms.single.global_best:  44%|████▍     |44/100, best_cost=8.15e+10"
          ]
        },
        {
          "output_type": "stream",
          "name": "stdout",
          "text": [
            "\n",
            "=========================================================================\n",
            "\n",
            "Número de ciclos de manutenção: 11 5\n",
            "Tempos para manutenções preventivas: [0, 25, 45, 81, 107, 160, 309, 376, 404, 469, 500, 626]\n",
            "Severidade para cada subsistema: [0.25, 0.25, 0.5, 0.5, 0.25, 0.25, 0.5, 0.5, 0.25, 0.5, 0.75]\n",
            "Número de Sisemas: 5\n",
            "Fator:  [0.3296799539643607, 0.3934693402873666, 0.3934693402873666, 0.6321205588285577, 0.6321205588285577, 0.3934693402873666, 0.3934693402873666, 0.6321205588285577, 0.6321205588285577, 0.3934693402873666, 0.6321205588285577, 0.7768698398515702]\n",
            "Media de falhas:  [0, 3125.0000000000005, 24175.902433680876, 344385.1478257363, 1018724.3708674463, 3139493.6351933023, 127082071.96563222, 394192085.7555389, 549014899.1246104, 668171400.0204833, 731021631.8170094, 4574391852.810745, 5703044634.094862]\n",
            "Custo =  222559711889.69278\n",
            "\n",
            "=========================================================================\n",
            "\n",
            "Número de ciclos de manutenção: 11 5\n",
            "Tempos para manutenções preventivas: [0, 46, 82, 253, 311, 383, 414, 446, 459, 495, 652, 695]\n",
            "Severidade para cada subsistema: [0.25, 0.5, 0.75, 0.25, 0.5, 0.5, 0.5, 0.5, 0.5, 0.75, 0.5]\n",
            "Número de Sisemas: 5\n",
            "Fator:  [0.3296799539643607, 0.3934693402873666, 0.6321205588285577, 0.7768698398515702, 0.3934693402873666, 0.6321205588285577, 0.6321205588285577, 0.6321205588285577, 0.6321205588285577, 0.6321205588285577, 0.7768698398515702, 0.6321205588285577]\n",
            "Media de falhas:  [0, 65908.15232000001, 483725.858757267, 168077839.22652277, 191024894.78497192, 208594070.2920876, 397081355.3421034, 438904332.98221684, 456563762.2277167, 528087538.4558047, 1898809110.5793977, 2224173493.1721435, 2274867224.2989993]\n",
            "Custo =  120443542667.92839\n",
            "\n",
            "=========================================================================\n",
            "\n",
            "Número de ciclos de manutenção: 11 5\n",
            "Tempos para manutenções preventivas: [0, 48, 86, 190, 262, 308, 419, 490, 574, 603, 632, 666]\n",
            "Severidade para cada subsistema: [0.25, 0.5, 0.5, 0.5, 0.25, 0.5, 0.5, 0.75, 0.5, 0.25, 0.75]\n",
            "Número de Sisemas: 5\n",
            "Fator:  [0.3296799539643607, 0.3934693402873666, 0.6321205588285577, 0.6321205588285577, 0.6321205588285577, 0.3934693402873666, 0.6321205588285577, 0.6321205588285577, 0.7768698398515702, 0.6321205588285577, 0.3934693402873666, 0.7768698398515702]\n",
            "Media de falhas:  [0, 81537.26976000001, 615096.9528652683, 30209676.82041957, 48084255.48489191, 64149144.994765475, 239876170.0345739, 1063380802.1106918, 1414871380.7736335, 1536190926.0311208, 1559523785.331716, 1772286478.3963203, 5510824387.246199]\n",
            "Custo =  351697551690.1117\n",
            "\n",
            "=========================================================================\n",
            "\n",
            "Número de ciclos de manutenção: 10 5\n",
            "Tempos para manutenções preventivas: [0, 49, 87, 208, 304, 420, 463, 485, 517, 619, 675]\n",
            "Severidade para cada subsistema: [0.25, 0.5, 0.25, 0.25, 0.75, 0.75, 0.5, 0.75, 0.25, 0.75]\n",
            "Número de Sisemas: 5\n",
            "Fator:  [0.3296799539643607, 0.3934693402873666, 0.6321205588285577, 0.3934693402873666, 0.3934693402873666, 0.7768698398515702, 0.7768698398515702, 0.6321205588285577, 0.7768698398515702, 0.3934693402873666, 0.7768698398515702]\n",
            "Media de falhas:  [0, 90392.07968000001, 649265.0923117951, 51217541.14240745, 99280887.02402268, 813687907.1828053, 1219183201.4270053, 1225304526.7835696, 1237899863.027744, 1839819896.7530622, 1911937016.7161868, 5143944396.72156]\n",
            "Custo =  332594142056.8459\n",
            "\n",
            "=========================================================================\n",
            "\n",
            "Número de ciclos de manutenção: 11 5\n",
            "Tempos para manutenções preventivas: [0, 51, 88, 189, 256, 304, 462, 482, 526, 596, 607, 679]\n",
            "Severidade para cada subsistema: [0.25, 0.5, 0.25, 0.25, 0.25, 0.75, 0.5, 0.75, 0.5, 0.25, 0.75]\n",
            "Número de Sisemas: 5\n",
            "Fator:  [0.3296799539643607, 0.3934693402873666, 0.6321205588285577, 0.3934693402873666, 0.3934693402873666, 0.3934693402873666, 0.7768698398515702, 0.6321205588285577, 0.7768698398515702, 0.6321205588285577, 0.3934693402873666, 0.7768698398515702]\n",
            "Media de falhas:  [0, 110408.08032000001, 680434.8515855849, 28598126.561644312, 43258362.03307149, 125431771.72004834, 1562887851.129444, 1790435586.7334278, 1811411800.2316241, 2131122876.9222312, 2137616677.0649226, 2678545074.2353206, 5683849159.955093]\n",
            "Custo =  379099015650.72595\n",
            "\n",
            "=========================================================================\n",
            "\n",
            "Número de ciclos de manutenção: 13 5\n",
            "Tempos para manutenções preventivas: [0, 51, 88, 170, 198, 256, 270, 304, 418, 485, 531, 614, 679, 708]\n",
            "Severidade para cada subsistema: [0.25, 0.5, 0.25, 0.25, 0.25, 0.25, 0.25, 0.5, 0.5, 0.75, 0.25, 0.75, 0.5]\n",
            "Número de Sisemas: 5\n",
            "Fator:  [0.3296799539643607, 0.3934693402873666, 0.6321205588285577, 0.3934693402873666, 0.3934693402873666, 0.3934693402873666, 0.3934693402873666, 0.3934693402873666, 0.6321205588285577, 0.6321205588285577, 0.7768698398515702, 0.3934693402873666, 0.7768698398515702, 0.6321205588285577]\n",
            "Media de falhas:  [0, 110408.08032000001, 680434.8515855849, 15090959.823570773, 16731704.50196993, 66068569.29684147, 81658147.43406723, 140768229.59013999, 829466457.3229421, 1576933410.8112833, 1701240565.420362, 2144854962.073317, 2237038668.525896, 3773504256.743559, 3802445103.4826884]\n",
            "Custo =  339657636104.86127\n",
            "\n",
            "=========================================================================\n",
            "\n",
            "Número de ciclos de manutenção: 13 5\n",
            "Tempos para manutenções preventivas: [0, 29, 47, 87, 152, 306, 357, 405, 435, 463, 487, 529, 638, 670]\n",
            "Severidade para cada subsistema: [0.25, 0.25, 0.5, 0.25, 0.25, 0.25, 0.5, 0.5, 0.5, 0.5, 0.75, 0.5, 0.75]\n",
            "Número de Sisemas: 5\n",
            "Fator:  [0.3296799539643607, 0.3934693402873666, 0.3934693402873666, 0.6321205588285577, 0.3934693402873666, 0.3934693402873666, 0.3934693402873666, 0.6321205588285577, 0.6321205588285577, 0.6321205588285577, 0.6321205588285577, 0.7768698398515702, 0.6321205588285577, 0.7768698398515702]\n",
            "Media de falhas:  [0, 6563.56768, 29214.25762170368, 506051.81523929397, 7624321.943042252, 137884641.94874364, 304663367.31755614, 566855519.3935784, 789856341.2819365, 831479870.3286154, 874284847.7391632, 984520639.0367173, 1720700220.0382147, 1753555570.775479, 2327726338.2555876]\n",
            "Custo =  161518292519.03574\n",
            "\n",
            "=========================================================================\n",
            "\n",
            "Número de ciclos de manutenção: 14 5\n",
            "Tempos para manutenções preventivas: [0, 46, 87, 151, 243, 315, 353, 397, 429, 489, 521, 585, 618, 638, 661]\n",
            "Severidade para cada subsistema: [0.25, 0.5, 0.25, 0.5, 0.25, 0.25, 0.5, 0.5, 0.5, 0.75, 0.25, 0.5, 0.25, 0.75]\n",
            "Número de Sisemas: 5\n",
            "Fator:  [0.3296799539643607, 0.3934693402873666, 0.6321205588285577, 0.3934693402873666, 0.6321205588285577, 0.3934693402873666, 0.3934693402873666, 0.6321205588285577, 0.6321205588285577, 0.6321205588285577, 0.7768698398515702, 0.3934693402873666, 0.6321205588285577, 0.3934693402873666, 0.7768698398515702]\n",
            "Media de falhas:  [0, 65908.15232000001, 669088.0018564183, 7484766.907159104, 29694625.58333261, 170069951.74762604, 190994430.49502274, 413570676.194517, 637938591.28156, 763515047.9331818, 839917280.094027, 1106697496.888739, 1131995594.2550926, 1834806751.0857282, 1970619731.8273182, 5988640517.278337]\n",
            "Custo =  494510469070.3721\n",
            "\n",
            "=========================================================================\n",
            "\n",
            "Número de ciclos de manutenção: 14 5\n",
            "Tempos para manutenções preventivas: [0, 28, 47, 86, 112, 156, 204, 324, 351, 377, 402, 433, 491, 571, 712]\n",
            "Severidade para cada subsistema: [0.25, 0.25, 0.5, 0.75, 0.25, 0.75, 0.25, 0.25, 0.5, 0.5, 0.5, 0.5, 0.5, 0.25]\n",
            "Número de Sisemas: 5\n",
            "Fator:  [0.3296799539643607, 0.3934693402873666, 0.3934693402873666, 0.6321205588285577, 0.7768698398515702, 0.3934693402873666, 0.7768698398515702, 0.3934693402873666, 0.3934693402873666, 0.6321205588285577, 0.6321205588285577, 0.6321205588285577, 0.6321205588285577, 0.6321205588285577, 0.3934693402873666]\n",
            "Media de falhas:  [0, 5507.317760000001, 29355.757703690717, 471965.44377014914, 1281905.7835548348, 2680757.7379241744, 3910410.0329576517, 269872246.34853196, 272328970.5789794, 381364222.1495396, 517390822.6252428, 553375014.3286252, 675569114.5532358, 998863291.120187, 2574272698.457141, 2729790263.577824]\n",
            "Custo =  156660648642.80667\n",
            "\n",
            "=========================================================================\n",
            "\n",
            "Número de ciclos de manutenção: 13 5\n",
            "Tempos para manutenções preventivas: [0, 28, 49, 85, 116, 177, 200, 251, 322, 376, 417, 444, 492, 659]\n",
            "Severidade para cada subsistema: [0.25, 0.25, 0.5, 0.25, 0.25, 0.75, 0.75, 0.25, 0.5, 0.5, 0.5, 0.5, 0.25]\n",
            "Número de Sisemas: 5\n",
            "Fator:  [0.3296799539643607, 0.3934693402873666, 0.3934693402873666, 0.6321205588285577, 0.3934693402873666, 0.3934693402873666, 0.7768698398515702, 0.7768698398515702, 0.3934693402873666, 0.6321205588285577, 0.6321205588285577, 0.6321205588285577, 0.6321205588285577, 0.3934693402873666]\n",
            "Media de falhas:  [0, 5507.317760000001, 36594.517825949944, 421492.31775672507, 1532014.3149848024, 5319381.564936976, 12800989.242905552, 52997429.77448157, 63395744.90172191, 72884447.71742068, 326671903.5718397, 360635839.67676413, 458341181.9433129, 2029330202.3049605, 2729337915.812503]\n",
            "Custo =  121182711574.00029\n",
            "\n",
            "=========================================================================\n",
            "\n",
            "Número de ciclos de manutenção: 8 5\n",
            "Tempos para manutenções preventivas: [0, 50, 85, 196, 321, 376, 491, 587, 645]\n",
            "Severidade para cada subsistema: [0.25, 0.5, 0.75, 0.25, 0.5, 0.5, 0.75, 0.5]\n",
            "Número de Sisemas: 5\n",
            "Fator:  [0.3296799539643607, 0.3934693402873666, 0.6321205588285577, 0.7768698398515702, 0.3934693402873666, 0.6321205588285577, 0.6321205588285577, 0.7768698398515702, 0.6321205588285577]\n",
            "Media de falhas:  [0, 100000.00000000001, 569647.7013538941, 36773702.35240476, 131348778.6378471, 141162591.9902731, 1464209741.9802732, 1921046580.0238419, 2264484381.2731137, 2445894444.490129]\n",
            "Custo =  102382668899.90878\n",
            "\n",
            "=========================================================================\n",
            "\n",
            "Número de ciclos de manutenção: 10 5\n",
            "Tempos para manutenções preventivas: [0, 50, 84, 311, 389, 487, 582, 625, 634, 666, 698]\n",
            "Severidade para cada subsistema: [0.25, 0.5, 0.25, 0.5, 0.5, 0.75, 0.5, 0.75, 0.75, 0.5]\n",
            "Número de Sisemas: 5\n",
            "Fator:  [0.3296799539643607, 0.3934693402873666, 0.6321205588285577, 0.3934693402873666, 0.6321205588285577, 0.6321205588285577, 0.7768698398515702, 0.6321205588285577, 0.7768698398515702, 0.7768698398515702, 0.6321205588285577]\n",
            "Media de falhas:  [0, 100000.00000000001, 535401.584954818, 531276061.13674116, 609393564.0411204, 1704330854.6836882, 2140887068.9658813, 2356419173.2446456, 2362615492.7012253, 2561809566.6181736, 2600107602.7749114, 2645427107.479229]\n",
            "Custo =  134645012209.3172\n",
            "\n",
            "=========================================================================\n",
            "\n",
            "Número de ciclos de manutenção: 10 5\n",
            "Tempos para manutenções preventivas: [0, 50, 84, 256, 301, 467, 485, 601, 654, 676, 706]\n",
            "Severidade para cada subsistema: [0.25, 0.5, 0.75, 0.25, 0.75, 0.5, 0.5, 0.75, 0.75, 0.5]\n",
            "Número de Sisemas: 5\n",
            "Fator:  [0.3296799539643607, 0.3934693402873666, 0.6321205588285577, 0.7768698398515702, 0.3934693402873666, 0.7768698398515702, 0.6321205588285577, 0.6321205588285577, 0.7768698398515702, 0.7768698398515702, 0.6321205588285577]\n",
            "Media de falhas:  [0, 100000.00000000001, 535401.584954818, 176693552.98224127, 191033349.59056634, 411112254.04576236, 621602766.187741, 798197407.769572, 1124196179.7389321, 1265774075.9827385, 1302672754.1278858, 1334709531.8832521]\n",
            "Custo =  124203224362.95433\n",
            "\n",
            "=========================================================================\n",
            "\n",
            "Número de ciclos de manutenção: 12 5\n",
            "Tempos para manutenções preventivas: [0, 50, 85, 168, 198, 300, 444, 479, 487, 520, 635, 682, 698]\n",
            "Severidade para cada subsistema: [0.25, 0.5, 0.25, 0.25, 0.25, 0.5, 0.75, 0.5, 0.75, 0.75, 0.75, 0.5]\n",
            "Número de Sisemas: 5\n",
            "Fator:  [0.3296799539643607, 0.3934693402873666, 0.6321205588285577, 0.3934693402873666, 0.3934693402873666, 0.3934693402873666, 0.6321205588285577, 0.7768698398515702, 0.6321205588285577, 0.7768698398515702, 0.7768698398515702, 0.7768698398515702, 0.6321205588285577]\n",
            "Media de falhas:  [0, 100000.00000000001, 569647.7013538941, 14567124.089509947, 16365233.622398898, 181283638.23366296, 1294968617.9569206, 1676671495.6240573, 1690185816.645943, 1703595563.082994, 2484330232.169159, 2542593511.0380564, 2559528241.165326, 2604847745.8696437]\n",
            "Custo =  132398040042.40674\n",
            "\n",
            "=========================================================================\n",
            "\n",
            "Número de ciclos de manutenção: 13 5\n",
            "Tempos para manutenções preventivas: [0, 25, 50, 85, 94, 189, 307, 430, 459, 489, 529, 586, 656, 682]\n",
            "Severidade para cada subsistema: [0.25, 0.25, 0.5, 0.5, 0.25, 0.25, 0.5, 0.75, 0.5, 0.75, 0.25, 0.5, 0.75]\n",
            "Número de Sisemas: 5\n",
            "Fator:  [0.3296799539643607, 0.3934693402873666, 0.3934693402873666, 0.6321205588285577, 0.6321205588285577, 0.3934693402873666, 0.3934693402873666, 0.6321205588285577, 0.7768698398515702, 0.6321205588285577, 0.7768698398515702, 0.3934693402873666, 0.6321205588285577, 0.7768698398515702]\n",
            "Media de falhas:  [0, 3125.0000000000005, 43332.23306389285, 415837.01468974433, 559845.702304384, 12235005.022374341, 85930530.51231211, 918743228.741101, 1186782166.8020973, 1242360543.3043299, 1261000022.4586818, 1494360094.8787594, 1586475571.4235773, 2774538460.901453, 3219780972.7961707]\n",
            "Custo =  317954212080.85474\n",
            "\n",
            "=========================================================================\n",
            "\n",
            "Número de ciclos de manutenção: 12 5\n",
            "Tempos para manutenções preventivas: [0, 25, 49, 86, 108, 209, 260, 313, 405, 475, 494, 538, 675]\n",
            "Severidade para cada subsistema: [0.25, 0.25, 0.5, 0.75, 0.25, 0.25, 0.25, 0.5, 0.5, 0.5, 0.75, 0.75]\n",
            "Número de Sisemas: 5\n",
            "Fator:  [0.3296799539643607, 0.3934693402873666, 0.3934693402873666, 0.6321205588285577, 0.7768698398515702, 0.3934693402873666, 0.3934693402873666, 0.3934693402873666, 0.6321205588285577, 0.6321205588285577, 0.6321205588285577, 0.7768698398515702, 0.7768698398515702]\n",
            "Media de falhas:  [0, 3125.0000000000005, 38694.77209664501, 454362.48488226073, 1048665.645329388, 18681370.273192514, 21449755.912025813, 123118300.94620614, 613315680.3429617, 1329740570.7199132, 1364956476.3976257, 1489075126.6849427, 2740388890.4191823, 2833186779.3985972]\n",
            "Custo =  132980502284.24948\n",
            "\n",
            "=========================================================================\n",
            "\n",
            "Número de ciclos de manutenção: 14 5\n",
            "Tempos para manutenções preventivas: [0, 24, 48, 87, 158, 186, 255, 318, 388, 402, 499, 538, 588, 667, 719]\n",
            "Severidade para cada subsistema: [0.25, 0.25, 0.5, 0.25, 0.5, 0.25, 0.25, 0.5, 0.5, 0.5, 0.75, 0.25, 0.75, 0.25]\n",
            "Número de Sisemas: 5\n",
            "Fator:  [0.3296799539643607, 0.3934693402873666, 0.3934693402873666, 0.6321205588285577, 0.3934693402873666, 0.6321205588285577, 0.3934693402873666, 0.3934693402873666, 0.6321205588285577, 0.6321205588285577, 0.6321205588285577, 0.7768698398515702, 0.3934693402873666, 0.7768698398515702, 0.3934693402873666]\n",
            "Media de falhas:  [0, 2548.0396800000003, 35331.91976633822, 497792.5404863664, 9660702.533310523, 10964730.390832182, 68693379.55507351, 96708121.27128664, 412998477.7321936, 490378503.89129496, 749569586.7818092, 857644978.6098872, 1060171607.123348, 1179047815.2760367, 4059089355.1224313, 4072460598.9535375]\n",
            "Custo =  316461501607.1238\n",
            "\n",
            "=========================================================================\n",
            "\n",
            "Número de ciclos de manutenção: 14 5\n",
            "Tempos para manutenções preventivas: [0, 25, 47, 87, 179, 260, 313, 359, 382, 402, 451, 497, 535, 608, 662]\n",
            "Severidade para cada subsistema: [0.25, 0.25, 0.5, 0.25, 0.25, 0.25, 0.25, 0.5, 0.5, 0.25, 0.5, 0.75, 0.5, 0.75]\n",
            "Número de Sisemas: 5\n",
            "Fator:  [0.3296799539643607, 0.3934693402873666, 0.3934693402873666, 0.6321205588285577, 0.3934693402873666, 0.3934693402873666, 0.3934693402873666, 0.3934693402873666, 0.6321205588285577, 0.6321205588285577, 0.3934693402873666, 0.6321205588285577, 0.7768698398515702, 0.6321205588285577, 0.7768698398515702]\n",
            "Media de falhas:  [0, 3125.0000000000005, 30689.108618707145, 507526.66623629746, 20724307.141959734, 42181829.964075044, 143850374.99825537, 298433378.5584337, 400580102.8231515, 510153009.1590581, 582192843.7919163, 678717271.8990184, 1324320303.4105458, 1687415472.6166306, 1751245917.7948895, 2416167186.229107]\n",
            "Custo =  208755413132.93622\n"
          ]
        },
        {
          "output_type": "stream",
          "name": "stderr",
          "text": [
            "pyswarms.single.global_best:  63%|██████▎   |63/100, best_cost=8.15e+10"
          ]
        },
        {
          "output_type": "stream",
          "name": "stdout",
          "text": [
            "\n",
            "=========================================================================\n",
            "\n",
            "Número de ciclos de manutenção: 15 5\n",
            "Tempos para manutenções preventivas: [0, 27, 47, 86, 90, 190, 270, 306, 384, 409, 427, 463, 491, 529, 615, 662]\n",
            "Severidade para cada subsistema: [0.25, 0.25, 0.5, 0.75, 0.75, 0.25, 0.25, 0.5, 0.5, 0.5, 0.25, 0.5, 0.75, 0.5, 0.75]\n",
            "Número de Sisemas: 5\n",
            "Fator:  [0.3296799539643607, 0.3934693402873666, 0.3934693402873666, 0.6321205588285577, 0.7768698398515702, 0.7768698398515702, 0.3934693402873666, 0.3934693402873666, 0.6321205588285577, 0.6321205588285577, 0.6321205588285577, 0.3934693402873666, 0.6321205588285577, 0.7768698398515702, 0.6321205588285577, 0.7768698398515702]\n",
            "Media de falhas:  [0, 4591.65024, 29656.293317093572, 472265.979383552, 527490.2542740017, 13886547.73031968, 22632212.02673489, 25020932.085666943, 361800657.06058496, 507635570.1279975, 526376354.70303303, 581648683.0887408, 633964101.974978, 1250835026.5303378, 1718252942.1925392, 1770585616.583088, 2435506885.0173054]\n",
            "Custo =  189968348294.13184\n",
            "\n",
            "=========================================================================\n",
            "\n",
            "Número de ciclos de manutenção: 15 5\n",
            "Tempos para manutenções preventivas: [0, 47, 87, 182, 260, 303, 415, 445, 458, 488, 516, 575, 614, 651, 665, 697]\n",
            "Severidade para cada subsistema: [0.25, 0.5, 0.75, 0.5, 0.25, 0.5, 0.5, 0.5, 0.5, 0.75, 0.5, 0.5, 0.5, 0.75, 0.5]\n",
            "Número de Sisemas: 5\n",
            "Fator:  [0.3296799539643607, 0.3934693402873666, 0.6321205588285577, 0.7768698398515702, 0.6321205588285577, 0.3934693402873666, 0.6321205588285577, 0.6321205588285577, 0.6321205588285577, 0.6321205588285577, 0.7768698398515702, 0.6321205588285577, 0.6321205588285577, 0.6321205588285577, 0.7768698398515702, 0.6321205588285577]\n",
            "Media de falhas:  [0, 73390.40224000001, 661640.0544589146, 23075935.57373199, 43124050.64025988, 46279303.11110817, 219101436.0342238, 463522975.25109756, 481030770.9018822, 536168564.0460832, 599665416.0491111, 826022643.6680882, 856838064.8893609, 1070399206.2131045, 1153220465.3150084, 1391285293.542497, 1438371416.8324635]\n",
            "Custo =  163625139124.69354\n",
            "\n",
            "=========================================================================\n",
            "\n",
            "Número de ciclos de manutenção: 12 5\n",
            "Tempos para manutenções preventivas: [0, 47, 87, 150, 206, 240, 304, 451, 483, 591, 612, 670, 710]\n",
            "Severidade para cada subsistema: [0.25, 0.5, 0.5, 0.5, 0.75, 0.25, 0.75, 0.5, 0.5, 0.5, 0.75, 0.5]\n",
            "Número de Sisemas: 5\n",
            "Fator:  [0.3296799539643607, 0.3934693402873666, 0.6321205588285577, 0.6321205588285577, 0.6321205588285577, 0.7768698398515702, 0.3934693402873666, 0.7768698398515702, 0.6321205588285577, 0.6321205588285577, 0.6321205588285577, 0.7768698398515702, 0.6321205588285577]\n",
            "Media de falhas:  [0, 73390.40224000001, 661640.0544589146, 7184917.622490161, 12457702.525447953, 16760880.027872635, 41257349.26283264, 187231335.47923577, 549291908.7423732, 694305828.5216355, 785356724.8544829, 1182579993.287843, 1508943404.2302399, 1534873368.6000319]\n",
            "Custo =  140053770752.31555\n",
            "\n",
            "=========================================================================\n",
            "\n",
            "Número de ciclos de manutenção: 8 5\n",
            "Tempos para manutenções preventivas: [0, 48, 86, 306, 480, 591, 613, 673, 706]\n",
            "Severidade para cada subsistema: [0.25, 0.5, 0.25, 0.5, 0.5, 0.5, 0.75, 0.5]\n",
            "Número de Sisemas: 5\n",
            "Fator:  [0.3296799539643607, 0.3934693402873666, 0.6321205588285577, 0.3934693402873666, 0.6321205588285577, 0.6321205588285577, 0.6321205588285577, 0.7768698398515702, 0.6321205588285577]\n",
            "Media de falhas:  [0, 81537.26976000001, 615096.9528652683, 478333748.0178536, 1091009543.472877, 3786887141.073043, 3883151306.9302464, 4303617913.267639, 4562423560.653128, 4594460338.408494]\n",
            "Custo =  202225523950.9824\n",
            "\n",
            "=========================================================================\n",
            "\n",
            "Número de ciclos de manutenção: 11 5\n",
            "Tempos para manutenções preventivas: [0, 48, 86, 175, 208, 305, 472, 481, 593, 608, 673, 690]\n",
            "Severidade para cada subsistema: [0.25, 0.5, 0.25, 0.25, 0.25, 0.75, 0.5, 0.5, 0.5, 0.75, 0.5]\n",
            "Número de Sisemas: 5\n",
            "Fator:  [0.3296799539643607, 0.3934693402873666, 0.6321205588285577, 0.3934693402873666, 0.3934693402873666, 0.3934693402873666, 0.7768698398515702, 0.6321205588285577, 0.6321205588285577, 0.6321205588285577, 0.7768698398515702, 0.6321205588285577]\n",
            "Media de falhas:  [0, 81537.26976000001, 615096.9528652683, 18427851.472155802, 20876001.98382342, 187748357.07749543, 1847491462.185523, 1950492917.1744506, 2108340029.9069328, 2170703529.5623236, 2633013365.2128143, 2750245583.545525, 2810407580.6622977]\n",
            "Custo =  177892114415.47937\n",
            "\n",
            "=========================================================================\n",
            "\n",
            "Número de ciclos de manutenção: 12 5\n",
            "Tempos para manutenções preventivas: [0, 28, 48, 86, 106, 209, 303, 387, 482, 589, 619, 650, 671]\n",
            "Severidade para cada subsistema: [0.25, 0.25, 0.5, 0.25, 0.25, 0.25, 0.5, 0.5, 0.5, 0.5, 0.5, 0.75]\n",
            "Número de Sisemas: 5\n",
            "Fator:  [0.3296799539643607, 0.3934693402873666, 0.3934693402873666, 0.6321205588285577, 0.3934693402873666, 0.3934693402873666, 0.3934693402873666, 0.6321205588285577, 0.6321205588285577, 0.6321205588285577, 0.6321205588285577, 0.6321205588285577, 0.7768698398515702]\n",
            "Media de falhas:  [0, 5507.317760000001, 32788.60852373421, 461806.5993581684, 964393.5972389394, 19407739.22365059, 176736129.65801185, 550237059.9994735, 1569387285.493845, 2107819850.656897, 2247273582.936486, 2422248140.1525555, 2553167110.4662867, 3116272410.858677]\n",
            "Custo =  192673431020.66586\n",
            "\n",
            "=========================================================================\n",
            "\n",
            "Número de ciclos de manutenção: 14 5\n",
            "Tempos para manutenções preventivas: [0, 26, 47, 86, 304, 374, 407, 438, 455, 483, 516, 576, 629, 643, 667]\n",
            "Severidade para cada subsistema: [0.25, 0.25, 0.5, 0.25, 0.5, 0.5, 0.5, 0.5, 0.5, 0.75, 0.5, 0.5, 0.5, 0.75]\n",
            "Número de Sisemas: 5\n",
            "Fator:  [0.3296799539643607, 0.3934693402873666, 0.3934693402873666, 0.6321205588285577, 0.3934693402873666, 0.6321205588285577, 0.6321205588285577, 0.6321205588285577, 0.6321205588285577, 0.6321205588285577, 0.7768698398515702, 0.6321205588285577, 0.6321205588285577, 0.6321205588285577, 0.7768698398515702]\n",
            "Media de falhas:  [0, 3802.0403200000005, 30104.29539028991, 472713.9814567483, 460890222.7643275, 518904428.6113421, 705749889.0154986, 743367315.0486158, 766001653.4524019, 815073435.8332354, 891234727.2270267, 1123774855.9852793, 1175621120.644576, 1248096984.7104897, 1395322188.9584067, 2003055306.366013]\n",
            "Custo =  164130321707.89868\n",
            "\n",
            "=========================================================================\n",
            "\n",
            "Número de ciclos de manutenção: 15 5\n",
            "Tempos para manutenções preventivas: [0, 24, 45, 87, 202, 250, 304, 378, 399, 426, 466, 485, 535, 624, 636, 665]\n",
            "Severidade para cada subsistema: [0.25, 0.25, 0.5, 0.5, 0.25, 0.25, 0.5, 0.5, 0.5, 0.25, 0.5, 0.75, 0.5, 0.5, 0.75]\n",
            "Número de Sisemas: 5\n",
            "Fator:  [0.3296799539643607, 0.3934693402873666, 0.3934693402873666, 0.6321205588285577, 0.6321205588285577, 0.3934693402873666, 0.3934693402873666, 0.6321205588285577, 0.6321205588285577, 0.6321205588285577, 0.3934693402873666, 0.6321205588285577, 0.7768698398515702, 0.6321205588285577, 0.6321205588285577, 0.7768698398515702]\n",
            "Media de falhas:  [0, 2548.0396800000003, 24657.4409571939, 531049.8630038106, 42930363.52299424, 50964898.90717758, 70065641.21156572, 370409907.32276505, 481883322.416003, 510801175.5929593, 574817251.689997, 607575604.6836966, 1447932693.5997052, 1963779393.6150389, 1972350665.8147728, 2150412995.446983, 2780831135.852056]\n",
            "Custo =  215287188271.8786\n",
            "\n",
            "=========================================================================\n",
            "\n",
            "Número de ciclos de manutenção: 15 5\n",
            "Tempos para manutenções preventivas: [0, 25, 43, 88, 109, 246, 271, 303, 388, 397, 428, 454, 489, 577, 611, 664]\n",
            "Severidade para cada subsistema: [0.25, 0.25, 0.5, 0.25, 0.25, 0.25, 0.25, 0.5, 0.5, 0.5, 0.25, 0.5, 0.25, 0.5, 0.75]\n",
            "Número de Sisemas: 5\n",
            "Fator:  [0.3296799539643607, 0.3934693402873666, 0.3934693402873666, 0.6321205588285577, 0.3934693402873666, 0.3934693402873666, 0.3934693402873666, 0.3934693402873666, 0.6321205588285577, 0.6321205588285577, 0.6321205588285577, 0.3934693402873666, 0.6321205588285577, 0.3934693402873666, 0.6321205588285577, 0.7768698398515702]\n",
            "Media de falhas:  [0, 3125.0000000000005, 18936.017543986316, 595721.3679493759, 1185343.5320609827, 56900104.90586318, 84577983.00432903, 139622266.49545676, 521411552.0366913, 569088717.9053816, 603493596.7634065, 639018420.3063216, 705100926.4829978, 2663182302.040573, 2815136603.1044745, 4942323361.171477, 5584178608.747871]\n",
            "Custo =  376040078099.7649\n",
            "\n",
            "=========================================================================\n",
            "\n",
            "Número de ciclos de manutenção: 15 5\n",
            "Tempos para manutenções preventivas: [0, 44, 88, 174, 206, 271, 302, 356, 403, 435, 457, 495, 538, 659, 665, 697]\n",
            "Severidade para cada subsistema: [0.25, 0.5, 0.25, 0.75, 0.25, 0.25, 0.25, 0.5, 0.5, 0.25, 0.5, 0.75, 0.25, 0.75, 0.5]\n",
            "Número de Sisemas: 5\n",
            "Fator:  [0.3296799539643607, 0.3934693402873666, 0.6321205588285577, 0.3934693402873666, 0.7768698398515702, 0.3934693402873666, 0.3934693402873666, 0.3934693402873666, 0.6321205588285577, 0.6321205588285577, 0.3934693402873666, 0.6321205588285577, 0.7768698398515702, 0.3934693402873666, 0.7768698398515702, 0.6321205588285577]\n",
            "Media de falhas:  [0, 52773.19168, 731769.6772490406, 17422589.703503672, 19689387.24761513, 89066314.3742043, 90856432.80142492, 265013659.55641857, 516892290.6446861, 754201029.3408035, 784566974.8601102, 860646188.0821663, 1604405566.5039535, 2562952948.8109093, 2567822385.265733, 4155674049.0411806, 4202760172.331147]\n",
            "Custo =  391466147069.2311\n",
            "\n",
            "=========================================================================\n",
            "\n",
            "Número de ciclos de manutenção: 13 5\n",
            "Tempos para manutenções preventivas: [0, 44, 88, 186, 259, 301, 352, 418, 494, 524, 584, 652, 668, 697]\n",
            "Severidade para cada subsistema: [0.25, 0.5, 0.75, 0.5, 0.25, 0.25, 0.5, 0.5, 0.75, 0.5, 0.25, 0.75, 0.5]\n",
            "Número de Sisemas: 5\n",
            "Fator:  [0.3296799539643607, 0.3934693402873666, 0.6321205588285577, 0.7768698398515702, 0.6321205588285577, 0.3934693402873666, 0.3934693402873666, 0.6321205588285577, 0.6321205588285577, 0.7768698398515702, 0.6321205588285577, 0.3934693402873666, 0.7768698398515702, 0.6321205588285577]\n",
            "Media de falhas:  [0, 52773.19168, 731769.6772490406, 26027252.396333348, 43651885.67776683, 46612267.43180954, 76694929.30919783, 480567909.15225536, 1388811063.4399889, 1461550246.2095118, 1706563717.5524473, 1792682103.5707572, 1889499082.1388438, 3332127136.2013435, 3379213259.49131]\n",
            "Custo =  336978925634.7912\n",
            "\n",
            "=========================================================================\n",
            "\n",
            "Número de ciclos de manutenção: 12 5\n",
            "Tempos para manutenções preventivas: [0, 47, 86, 119, 161, 241, 309, 350, 463, 494, 658, 670, 694]\n",
            "Severidade para cada subsistema: [0.25, 0.5, 0.25, 0.5, 0.75, 0.25, 0.25, 0.5, 0.5, 0.25, 0.75, 0.5]\n",
            "Número de Sisemas: 5\n",
            "Fator:  [0.3296799539643607, 0.3934693402873666, 0.6321205588285577, 0.3934693402873666, 0.6321205588285577, 0.7768698398515702, 0.3934693402873666, 0.3934693402873666, 0.6321205588285577, 0.6321205588285577, 0.3934693402873666, 0.7768698398515702, 0.6321205588285577]\n",
            "Media de falhas:  [0, 73390.40224000001, 620965.7805023197, 1930806.2801716002, 3365359.8473090413, 57146982.84688612, 85588429.92680879, 90231130.88794808, 1117670950.1153102, 1502190041.864771, 3019461859.8207216, 3092251367.670868, 4270699349.3154125, 4323234725.152154]\n",
            "Custo =  354672833843.8759\n",
            "\n",
            "=========================================================================\n",
            "\n",
            "Número de ciclos de manutenção: 10 5\n",
            "Tempos para manutenções preventivas: [0, 49, 85, 92, 160, 323, 353, 389, 488, 576, 672]\n",
            "Severidade para cada subsistema: [0.25, 0.5, 0.5, 0.5, 0.25, 0.25, 0.5, 0.5, 0.75, 0.75]\n",
            "Número de Sisemas: 5\n",
            "Fator:  [0.3296799539643607, 0.3934693402873666, 0.6321205588285577, 0.6321205588285577, 0.6321205588285577, 0.3934693402873666, 0.3934693402873666, 0.6321205588285577, 0.6321205588285577, 0.7768698398515702, 0.7768698398515702]\n",
            "Media de falhas:  [0, 90392.07968000001, 573077.149285428, 676807.565934025, 4168876.8044394376, 175952107.8431512, 191734832.85535538, 360918585.01375616, 1475872783.9338484, 1854703584.9481468, 2603496190.9595737, 2703657991.580856]\n",
            "Custo =  125819438564.07628\n",
            "\n",
            "=========================================================================\n",
            "\n",
            "Número de ciclos de manutenção: 11 5\n",
            "Tempos para manutenções preventivas: [0, 49, 86, 111, 329, 354, 384, 481, 606, 631, 673, 691]\n",
            "Severidade para cada subsistema: [0.25, 0.5, 0.5, 0.25, 0.25, 0.5, 0.5, 0.5, 0.5, 0.75, 0.5]\n",
            "Número de Sisemas: 5\n",
            "Fator:  [0.3296799539643607, 0.3934693402873666, 0.6321205588285577, 0.6321205588285577, 0.3934693402873666, 0.3934693402873666, 0.6321205588285577, 0.6321205588285577, 0.6321205588285577, 0.6321205588285577, 0.7768698398515702, 0.6321205588285577]\n",
            "Media de falhas:  [0, 90392.07968000001, 610080.6521609841, 1361813.0638178298, 373084730.0442754, 386025429.5217009, 520817509.6137599, 1552085299.3663704, 2299774071.8942475, 2423364811.0743003, 2703068573.5043097, 2828201202.9062862, 2886416864.3106036]\n",
            "Custo =  173690840691.69186\n",
            "\n",
            "=========================================================================\n",
            "\n",
            "Número de ciclos de manutenção: 12 5\n",
            "Tempos para manutenções preventivas: [0, 46, 87, 172, 199, 246, 377, 405, 447, 609, 659, 671, 693]\n",
            "Severidade para cada subsistema: [0.25, 0.5, 0.25, 0.25, 0.75, 0.5, 0.5, 0.5, 0.5, 0.5, 0.75, 0.5]\n",
            "Número de Sisemas: 5\n",
            "Fator:  [0.3296799539643607, 0.3934693402873666, 0.6321205588285577, 0.3934693402873666, 0.3934693402873666, 0.7768698398515702, 0.6321205588285577, 0.6321205588285577, 0.6321205588285577, 0.6321205588285577, 0.6321205588285577, 0.7768698398515702, 0.6321205588285577]\n",
            "Media de falhas:  [0, 65908.15232000001, 669088.0018564183, 16419771.607421463, 18013834.466112673, 52259773.59641716, 581361725.0234435, 585683642.2491685, 643513449.5059803, 1791297873.2664235, 2105226701.896224, 2178448704.740387, 2334608745.12088, 2389011434.2333455]\n",
            "Custo =  138373399566.01352\n",
            "\n",
            "=========================================================================\n",
            "\n",
            "Número de ciclos de manutenção: 13 5\n",
            "Tempos para manutenções preventivas: [0, 45, 88, 119, 189, 326, 385, 395, 428, 529, 573, 603, 668, 695]\n",
            "Severidade para cada subsistema: [0.25, 0.5, 0.5, 0.25, 0.25, 0.5, 0.5, 0.5, 0.75, 0.5, 0.5, 0.75, 0.5]\n",
            "Número de Sisemas: 5\n",
            "Fator:  [0.3296799539643607, 0.3934693402873666, 0.6321205588285577, 0.6321205588285577, 0.3934693402873666, 0.3934693402873666, 0.6321205588285577, 0.6321205588285577, 0.6321205588285577, 0.7768698398515702, 0.6321205588285577, 0.6321205588285577, 0.7768698398515702, 0.6321205588285577]\n",
            "Media de falhas:  [0, 59049.00000000001, 721944.1858954914, 1951717.7126004912, 8001739.602719432, 127724106.3378132, 387889287.9639487, 439716667.6291033, 476667901.6109945, 814723583.2505171, 972903136.4165254, 993334093.5972849, 1442712068.8133261, 1638896575.8625426, 1689590306.9893987]\n",
            "Custo =  139919462180.51883\n",
            "\n",
            "=========================================================================\n",
            "\n",
            "Número de ciclos de manutenção: 13 5\n",
            "Tempos para manutenções preventivas: [0, 44, 88, 103, 207, 243, 320, 387, 454, 485, 590, 631, 666, 692]\n",
            "Severidade para cada subsistema: [0.25, 0.5, 0.5, 0.25, 0.5, 0.25, 0.5, 0.5, 0.5, 0.25, 0.75, 0.75, 0.5]\n",
            "Número de Sisemas: 5\n",
            "Fator:  [0.3296799539643607, 0.3934693402873666, 0.6321205588285577, 0.6321205588285577, 0.3934693402873666, 0.6321205588285577, 0.3934693402873666, 0.6321205588285577, 0.6321205588285577, 0.6321205588285577, 0.3934693402873666, 0.7768698398515702, 0.7768698398515702, 0.6321205588285577]\n",
            "Media de falhas:  [0, 52773.19168, 731769.6772490406, 1071368.5664704149, 19451259.276612423, 24309419.856395595, 184081420.70947486, 245670030.66714883, 817898253.3117914, 873735174.5198448, 1401087395.39823, 1613090122.964707, 3055353910.354013, 3084094614.27607, 3140390619.5744205]\n",
            "Custo =  270698710093.20236\n",
            "\n",
            "=========================================================================\n",
            "\n",
            "Número de ciclos de manutenção: 9 5\n",
            "Tempos para manutenções preventivas: [0, 29, 44, 88, 184, 313, 400, 489, 583, 666]\n",
            "Severidade para cada subsistema: [0.25, 0.25, 0.5, 0.5, 0.25, 0.5, 0.5, 0.25, 0.75]\n",
            "Número de Sisemas: 5\n",
            "Fator:  [0.3296799539643607, 0.3934693402873666, 0.3934693402873666, 0.6321205588285577, 0.6321205588285577, 0.3934693402873666, 0.6321205588285577, 0.6321205588285577, 0.3934693402873666, 0.7768698398515702]\n",
            "Media de falhas:  [0, 6563.56768, 21178.450747587514, 581599.4402199503, 24240689.729104083, 117987780.79376228, 219524038.7137491, 1233773163.0707448, 1666722694.0534236, 2266910857.6718035, 6005448766.521681]\n",
            "Custo =  335207731135.2012\n",
            "\n",
            "=========================================================================\n",
            "\n",
            "Número de ciclos de manutenção: 11 5\n",
            "Tempos para manutenções preventivas: [0, 26, 43, 86, 165, 272, 312, 439, 475, 490, 572, 665]\n",
            "Severidade para cada subsistema: [0.25, 0.25, 0.5, 0.75, 0.25, 0.25, 0.5, 0.25, 0.5, 0.5, 0.75]\n",
            "Número de Sisemas: 5\n",
            "Fator:  [0.3296799539643607, 0.3934693402873666, 0.3934693402873666, 0.6321205588285577, 0.7768698398515702, 0.3934693402873666, 0.3934693402873666, 0.6321205588285577, 0.3934693402873666, 0.6321205588285577, 0.6321205588285577, 0.7768698398515702]\n",
            "Media de falhas:  [0, 3802.0403200000005, 18766.00212703928, 518332.4795092244, 12816552.556344401, 54996897.61290753, 58045559.32591932, 992473120.3796942, 1371611841.6433115, 1398175077.4744337, 3165140250.04335, 3856155617.9135118, 4486573758.318584]\n",
            "Custo =  235905294668.11343\n"
          ]
        },
        {
          "output_type": "stream",
          "name": "stderr",
          "text": [
            "pyswarms.single.global_best:  83%|████████▎ |83/100, best_cost=8.15e+10"
          ]
        },
        {
          "output_type": "stream",
          "name": "stdout",
          "text": [
            "\n",
            "=========================================================================\n",
            "\n",
            "Número de ciclos de manutenção: 11 5\n",
            "Tempos para manutenções preventivas: [0, 27, 44, 84, 95, 276, 316, 361, 492, 528, 657, 665]\n",
            "Severidade para cada subsistema: [0.25, 0.25, 0.5, 0.5, 0.25, 0.25, 0.75, 0.5, 0.75, 0.5, 0.75]\n",
            "Número de Sisemas: 5\n",
            "Fator:  [0.3296799539643607, 0.3934693402873666, 0.3934693402873666, 0.6321205588285577, 0.6321205588285577, 0.3934693402873666, 0.3934693402873666, 0.7768698398515702, 0.6321205588285577, 0.7768698398515702, 0.6321205588285577, 0.7768698398515702]\n",
            "Media de falhas:  [0, 4591.65024, 21015.414315283157, 438736.7743422158, 620832.9431409881, 150884226.05954236, 165605622.66235924, 320419192.1169369, 1839054709.6350284, 1855021222.740217, 2895758785.2456303, 2902351769.682819, 3532769910.087892]\n",
            "Custo =  141173614490.90582\n",
            "\n",
            "=========================================================================\n",
            "\n",
            "Número de ciclos de manutenção: 14 5\n",
            "Tempos para manutenções preventivas: [0, 49, 83, 104, 159, 184, 247, 273, 314, 401, 453, 492, 624, 632, 665]\n",
            "Severidade para cada subsistema: [0.25, 0.5, 0.5, 0.5, 0.75, 0.5, 0.25, 0.25, 0.75, 0.5, 0.5, 0.5, 0.5, 0.75]\n",
            "Número de Sisemas: 5\n",
            "Fator:  [0.3296799539643607, 0.3934693402873666, 0.6321205588285577, 0.6321205588285577, 0.6321205588285577, 0.7768698398515702, 0.6321205588285577, 0.3934693402873666, 0.3934693402873666, 0.7768698398515702, 0.6321205588285577, 0.6321205588285577, 0.6321205588285577, 0.6321205588285577, 0.7768698398515702]\n",
            "Media de falhas:  [0, 90392.07968000001, 505246.26217815006, 993173.8222205972, 3224372.1473788517, 4303624.008120554, 16048849.408018617, 17009720.914313234, 31848312.103544474, 477781451.0859053, 923005720.0488844, 936887828.8795997, 1836006221.5430634, 1874115833.3201976, 2078868234.591896, 2709286374.996969]\n",
            "Custo =  168914051007.09546\n",
            "\n",
            "=========================================================================\n",
            "\n",
            "Número de ciclos de manutenção: 12 5\n",
            "Tempos para manutenções preventivas: [0, 52, 82, 100, 123, 194, 252, 311, 406, 423, 472, 492, 666]\n",
            "Severidade para cada subsistema: [0.25, 0.5, 0.5, 0.75, 0.75, 0.5, 0.25, 0.75, 0.75, 0.5, 0.5, 0.75]\n",
            "Número de Sisemas: 5\n",
            "Fator:  [0.3296799539643607, 0.3934693402873666, 0.6321205588285577, 0.6321205588285577, 0.7768698398515702, 0.7768698398515702, 0.6321205588285577, 0.3934693402873666, 0.7768698398515702, 0.7768698398515702, 0.6321205588285577, 0.6321205588285577, 0.7768698398515702]\n",
            "Media de falhas:  [0, 121665.29024000002, 472416.2679205976, 831314.0311767586, 1054218.3820083935, 7787105.936236485, 11149802.130067945, 17470564.207679223, 140064679.12570256, 254880454.55785638, 271877007.5388341, 277621051.60466164, 2019607299.9073591, 2638651570.691781]\n",
            "Custo =  114663947562.51617\n",
            "\n",
            "=========================================================================\n",
            "\n",
            "Número de ciclos de manutenção: 14 5\n",
            "Tempos para manutenções preventivas: [0, 52, 84, 97, 205, 264, 307, 357, 389, 390, 425, 494, 586, 631, 669]\n",
            "Severidade para cada subsistema: [0.25, 0.5, 0.5, 0.75, 0.5, 0.25, 0.25, 0.5, 0.75, 0.75, 0.5, 0.5, 0.5, 0.75]\n",
            "Número de Sisemas: 5\n",
            "Fator:  [0.3296799539643607, 0.3934693402873666, 0.6321205588285577, 0.6321205588285577, 0.7768698398515702, 0.6321205588285577, 0.3934693402873666, 0.3934693402873666, 0.6321205588285577, 0.7768698398515702, 0.7768698398515702, 0.6321205588285577, 0.6321205588285577, 0.6321205588285577, 0.7768698398515702]\n",
            "Media de falhas:  [0, 121665.29024000002, 532637.3488660323, 765003.9654596975, 20343806.82252337, 33604019.733954996, 36893924.91334419, 67765530.57597934, 218874994.53430438, 223875464.2817165, 262366357.71780246, 297680063.65372217, 400700831.2163478, 636152106.8271039, 880752817.259535, 1466049700.0245733]\n",
            "Custo =  139404571519.65356\n",
            "\n",
            "=========================================================================\n",
            "\n",
            "Número de ciclos de manutenção: 10 5\n",
            "Tempos para manutenções preventivas: [0, 51, 85, 203, 304, 388, 410, 425, 495, 649, 672]\n",
            "Severidade para cada subsistema: [0.25, 0.5, 0.75, 0.25, 0.5, 0.5, 0.75, 0.5, 0.5, 0.75]\n",
            "Número de Sisemas: 5\n",
            "Fator:  [0.3296799539643607, 0.3934693402873666, 0.6321205588285577, 0.7768698398515702, 0.3934693402873666, 0.6321205588285577, 0.6321205588285577, 0.7768698398515702, 0.6321205588285577, 0.6321205588285577, 0.7768698398515702]\n",
            "Media de falhas:  [0, 110408.08032000001, 567133.8648276823, 45294584.7903635, 98100835.17204645, 123461555.90838668, 253588814.06685618, 268738910.846023, 428967883.3459407, 837577345.2184467, 982521590.6166189, 1534621559.381352]\n",
            "Custo =  115629824935.79907\n",
            "\n",
            "=========================================================================\n",
            "\n",
            "Número de ciclos de manutenção: 12 5\n",
            "Tempos para manutenções preventivas: [0, 51, 86, 91, 146, 160, 189, 307, 492, 584, 657, 673, 690]\n",
            "Severidade para cada subsistema: [0.25, 0.5, 0.5, 0.5, 0.75, 0.75, 0.25, 0.5, 0.25, 0.5, 0.75, 0.5]\n",
            "Número de Sisemas: 5\n",
            "Fator:  [0.3296799539643607, 0.3934693402873666, 0.6321205588285577, 0.6321205588285577, 0.6321205588285577, 0.7768698398515702, 0.7768698398515702, 0.3934693402873666, 0.6321205588285577, 0.3934693402873666, 0.6321205588285577, 0.7768698398515702, 0.6321205588285577]\n",
            "Media de falhas:  [0, 110408.08032000001, 602750.0222602971, 674468.9840203342, 2396026.571426574, 2708427.169053616, 4157758.566332486, 37849830.31366239, 372369652.1287801, 2517616784.667245, 3003441167.8149395, 3702926304.864689, 3820158523.1973996, 3880320520.3141723]\n",
            "Custo =  337275304144.51373\n",
            "\n",
            "=========================================================================\n",
            "\n",
            "Número de ciclos de manutenção: 13 5\n",
            "Tempos para manutenções preventivas: [0, 51, 86, 137, 260, 313, 411, 443, 485, 519, 614, 656, 672, 703]\n",
            "Severidade para cada subsistema: [0.25, 0.5, 0.5, 0.5, 0.25, 0.25, 0.5, 0.5, 0.75, 0.5, 0.5, 0.75, 0.5]\n",
            "Número de Sisemas: 5\n",
            "Fator:  [0.3296799539643607, 0.3934693402873666, 0.6321205588285577, 0.6321205588285577, 0.6321205588285577, 0.3934693402873666, 0.3934693402873666, 0.6321205588285577, 0.6321205588285577, 0.7768698398515702, 0.6321205588285577, 0.6321205588285577, 0.7768698398515702, 0.6321205588285577]\n",
            "Media de falhas:  [0, 110408.08032000001, 602750.0222602971, 4218058.32812854, 54277631.375209354, 74940792.43960597, 209242653.2581712, 464668095.2033069, 942928748.2533685, 1023469789.0983057, 1553844900.5336013, 1597208337.5558453, 1696342637.645756, 1934264915.69027, 1971110307.2137923]\n",
            "Custo =  183373094360.2126\n",
            "\n",
            "=========================================================================\n",
            "\n",
            "Número de ciclos de manutenção: 15 5\n",
            "Tempos para manutenções preventivas: [0, 25, 49, 85, 140, 208, 241, 315, 401, 474, 484, 522, 583, 652, 670, 709]\n",
            "Severidade para cada subsistema: [0.25, 0.25, 0.5, 0.5, 0.5, 0.5, 0.25, 0.25, 0.5, 0.5, 0.75, 0.25, 0.5, 0.75, 0.5]\n",
            "Número de Sisemas: 5\n",
            "Fator:  [0.3296799539643607, 0.3934693402873666, 0.3934693402873666, 0.6321205588285577, 0.6321205588285577, 0.6321205588285577, 0.6321205588285577, 0.3934693402873666, 0.3934693402873666, 0.6321205588285577, 0.6321205588285577, 0.7768698398515702, 0.3934693402873666, 0.6321205588285577, 0.7768698398515702, 0.6321205588285577]\n",
            "Media de falhas:  [0, 3125.0000000000005, 38694.77209664501, 423592.57202742016, 4702675.4171510115, 12385844.146797135, 16588313.715648359, 51272149.80446981, 151894679.1926179, 891324816.9156361, 1008504057.7341814, 1101883206.3282347, 1350239382.500761, 1438397808.1246696, 2209862504.950885, 2525524023.474428, 2552948946.0942316]\n",
            "Custo =  335526683062.49713\n",
            "\n",
            "=========================================================================\n",
            "\n",
            "Número de ciclos de manutenção: 15 5\n",
            "Tempos para manutenções preventivas: [0, 17, 48, 85, 92, 166, 311, 397, 451, 486, 521, 572, 600, 646, 669, 710]\n",
            "Severidade para cada subsistema: [0.25, 0.25, 0.5, 0.5, 0.75, 0.25, 0.25, 0.5, 0.5, 0.75, 0.5, 0.25, 0.5, 0.75, 0.5]\n",
            "Número de Sisemas: 5\n",
            "Fator:  [0.3296799539643607, 0.3934693402873666, 0.3934693402873666, 0.6321205588285577, 0.6321205588285577, 0.7768698398515702, 0.3934693402873666, 0.3934693402873666, 0.6321205588285577, 0.6321205588285577, 0.7768698398515702, 0.6321205588285577, 0.3934693402873666, 0.6321205588285577, 0.7768698398515702, 0.6321205588285577]\n",
            "Media de falhas:  [0, 454.35424000000006, 44220.26868200039, 441730.5241534985, 545460.9408020955, 5199436.843298549, 123833342.86680497, 152312806.185836, 605688677.1896828, 1010414268.9349487, 1094870272.5074048, 1281371194.9737623, 1299750026.689342, 1564094853.7834508, 2539415394.2434316, 2874787173.2543373, 2900717137.6241293]\n",
            "Custo =  342212455013.17596\n",
            "\n",
            "=========================================================================\n",
            "\n",
            "Número de ciclos de manutenção: 12 5\n",
            "Tempos para manutenções preventivas: [0, 19, 46, 83, 103, 306, 487, 518, 576, 613, 633, 668, 696]\n",
            "Severidade para cada subsistema: [0.25, 0.25, 0.5, 0.5, 0.25, 0.5, 0.75, 0.75, 0.25, 0.5, 0.75, 0.5]\n",
            "Número de Sisemas: 5\n",
            "Fator:  [0.3296799539643607, 0.3934693402873666, 0.3934693402873666, 0.6321205588285577, 0.6321205588285577, 0.3934693402873666, 0.6321205588285577, 0.7768698398515702, 0.7768698398515702, 0.3934693402873666, 0.6321205588285577, 0.7768698398515702, 0.6321205588285577]\n",
            "Media de falhas:  [0, 792.3516800000001, 32386.27699040123, 395433.52899373445, 843058.9959996202, 260390217.4429143, 952382297.8000124, 1417978676.9160933, 1641178211.9756045, 1669716178.6436303, 1684706747.7282362, 3144502514.2920713, 3349606141.972798, 3398483565.265992]\n",
            "Custo =  303978423347.6088\n",
            "\n",
            "=========================================================================\n",
            "\n",
            "Número de ciclos de manutenção: 10 5\n",
            "Tempos para manutenções preventivas: [0, 23, 43, 82, 116, 304, 473, 490, 518, 601, 668]\n",
            "Severidade para cada subsistema: [0.25, 0.25, 0.5, 0.5, 0.25, 0.25, 0.5, 0.75, 0.5, 0.75]\n",
            "Número de Sisemas: 5\n",
            "Fator:  [0.3296799539643607, 0.3934693402873666, 0.3934693402873666, 0.6321205588285577, 0.6321205588285577, 0.3934693402873666, 0.3934693402873666, 0.6321205588285577, 0.7768698398515702, 0.6321205588285577, 0.7768698398515702]\n",
            "Media de falhas:  [0, 2059.6297600000003, 19614.15867617725, 389359.6590840876, 1609318.3663309198, 210562620.95921472, 763960647.101538, 971387452.0413086, 1393269641.3458233, 1803115268.282234, 1894488044.4867172, 2490972205.176715]\n",
            "Custo =  190494038771.49976\n",
            "\n",
            "=========================================================================\n",
            "\n",
            "Número de ciclos de manutenção: 13 5\n",
            "Tempos para manutenções preventivas: [0, 41, 84, 110, 123, 255, 305, 352, 406, 476, 494, 517, 667, 715]\n",
            "Severidade para cada subsistema: [0.25, 0.5, 0.5, 0.75, 0.5, 0.25, 0.25, 0.75, 0.25, 0.5, 0.75, 0.75, 0.25]\n",
            "Número de Sisemas: 5\n",
            "Fator:  [0.3296799539643607, 0.3934693402873666, 0.6321205588285577, 0.6321205588285577, 0.7768698398515702, 0.6321205588285577, 0.3934693402873666, 0.3934693402873666, 0.7768698398515702, 0.3934693402873666, 0.6321205588285577, 0.7768698398515702, 0.7768698398515702, 0.3934693402873666]\n",
            "Media de falhas:  [0, 37073.98432, 588698.1380859946, 1342127.9947779186, 1447222.8203241094, 57371438.59220168, 61647464.48383947, 88683856.6902754, 385024092.6831696, 1107568234.653598, 1112704224.713048, 1458467678.5887587, 2836907098.468028, 2908074606.796131, 2926834093.404606]\n",
            "Custo =  176745918385.1295\n",
            "\n",
            "=========================================================================\n",
            "\n",
            "Número de ciclos de manutenção: 16 5\n",
            "Tempos para manutenções preventivas: [0, 42, 88, 96, 127, 209, 306, 350, 387, 411, 437, 497, 520, 620, 636, 667, 709]\n",
            "Severidade para cada subsistema: [0.25, 0.5, 0.5, 0.75, 0.5, 0.25, 0.25, 0.5, 0.75, 0.5, 0.5, 0.75, 0.75, 0.5, 0.75, 0.25]\n",
            "Número de Sisemas: 5\n",
            "Fator:  [0.3296799539643607, 0.3934693402873666, 0.6321205588285577, 0.6321205588285577, 0.7768698398515702, 0.6321205588285577, 0.3934693402873666, 0.3934693402873666, 0.6321205588285577, 0.7768698398515702, 0.6321205588285577, 0.6321205588285577, 0.7768698398515702, 0.7768698398515702, 0.6321205588285577, 0.7768698398515702, 0.3934693402873666]\n",
            "Media de falhas:  [0, 41821.194240000004, 753635.9416986075, 893689.7831540985, 1286554.7332001096, 12523474.407374438, 32016070.402815115, 56341136.04554209, 226442133.2199855, 369414075.75356257, 400032556.17806053, 428233311.4711253, 481089233.71737564, 1070281509.950557, 1082092580.6943145, 1113135949.6877124, 1455679172.204224, 1483104094.8240278]\n",
            "Custo =  130123820638.78893\n",
            "\n",
            "=========================================================================\n",
            "\n",
            "Número de ciclos de manutenção: 13 5\n",
            "Tempos para manutenções preventivas: [0, 43, 89, 126, 161, 187, 313, 351, 385, 402, 499, 522, 649, 668]\n",
            "Severidade para cada subsistema: [0.25, 0.5, 0.75, 0.25, 0.75, 0.25, 0.25, 0.5, 0.75, 0.5, 0.75, 0.5, 0.75]\n",
            "Número de Sisemas: 5\n",
            "Fator:  [0.3296799539643607, 0.3934693402873666, 0.6321205588285577, 0.7768698398515702, 0.3934693402873666, 0.7768698398515702, 0.3934693402873666, 0.3934693402873666, 0.6321205588285577, 0.7768698398515702, 0.6321205588285577, 0.7768698398515702, 0.6321205588285577, 0.7768698398515702]\n",
            "Media de falhas:  [0, 47042.70176, 791170.9469758028, 2639337.4726319904, 3711146.0366795138, 3983369.422161295, 249723281.21671426, 253858653.77172893, 407469812.4248817, 501011091.221106, 760202174.1116203, 768729003.0127132, 1742780056.1419778, 1760147956.7620943, 2356632117.452092]\n",
            "Custo =  133740685340.8995\n",
            "\n",
            "=========================================================================\n",
            "\n",
            "Número de ciclos de manutenção: 12 5\n",
            "Tempos para manutenções preventivas: [0, 45, 184, 269, 316, 352, 379, 416, 494, 527, 588, 601, 669]\n",
            "Severidade para cada subsistema: [0.25, 0.75, 0.5, 0.25, 0.25, 0.5, 0.5, 0.5, 0.75, 0.25, 0.75, 0.75]\n",
            "Número de Sisemas: 5\n",
            "Fator:  [0.3296799539643607, 0.3934693402873666, 0.7768698398515702, 0.6321205588285577, 0.3934693402873666, 0.3934693402873666, 0.6321205588285577, 0.6321205588285577, 0.6321205588285577, 0.7768698398515702, 0.3934693402873666, 0.7768698398515702, 0.7768698398515702]\n",
            "Media de falhas:  [0, 59049.00000000001, 44380765.36690962, 132831724.27339588, 137075219.658517, 156459334.40711787, 271974842.5124663, 499772368.13317406, 683562024.2310225, 766225449.2326461, 1022743060.0490121, 1030254744.9200506, 3814656604.910783, 3922485244.4832616]\n",
            "Custo =  259134310844.20532\n",
            "\n",
            "=========================================================================\n",
            "\n",
            "Número de ciclos de manutenção: 10 5\n",
            "Tempos para manutenções preventivas: [0, 51, 197, 261, 322, 353, 377, 451, 489, 528, 669]\n",
            "Severidade para cada subsistema: [0.25, 0.75, 0.5, 0.25, 0.25, 0.5, 0.75, 0.5, 0.75, 0.75]\n",
            "Número de Sisemas: 5\n",
            "Fator:  [0.3296799539643607, 0.3934693402873666, 0.7768698398515702, 0.6321205588285577, 0.3934693402873666, 0.3934693402873666, 0.6321205588285577, 0.7768698398515702, 0.6321205588285577, 0.7768698398515702, 0.7768698398515702]\n",
            "Media de falhas:  [0, 110408.08032000001, 60875240.523239225, 119635039.25942643, 127133347.73362102, 143533087.03911194, 244461802.59290525, 857138124.7470154, 929725913.3098148, 947584970.4167299, 2214079830.6342583, 2321908470.206737]\n",
            "Custo =  110364998175.98303\n",
            "\n",
            "=========================================================================\n",
            "\n",
            "Número de ciclos de manutenção: 16 5\n",
            "Tempos para manutenções preventivas: [0, 24, 54, 89, 102, 155, 204, 259, 325, 356, 386, 446, 481, 516, 610, 669, 692]\n",
            "Severidade para cada subsistema: [0.25, 0.25, 0.5, 0.5, 0.75, 0.75, 0.5, 0.25, 0.25, 0.5, 0.5, 0.5, 0.75, 0.25, 0.75, 0.5]\n",
            "Número de Sisemas: 5\n",
            "Fator:  [0.3296799539643607, 0.3934693402873666, 0.3934693402873666, 0.6321205588285577, 0.6321205588285577, 0.7768698398515702, 0.7768698398515702, 0.6321205588285577, 0.3934693402873666, 0.3934693402873666, 0.6321205588285577, 0.6321205588285577, 0.6321205588285577, 0.7768698398515702, 0.3934693402873666, 0.7768698398515702, 0.6321205588285577]\n",
            "Media de falhas:  [0, 2548.0396800000003, 68741.8927733031, 513539.28823733784, 798296.8376944243, 2719679.0611969493, 6813406.163606354, 10034708.9912435, 19130735.579697147, 36070431.24328704, 173720174.17195505, 652967677.9440463, 714969793.0245007, 796328552.5872439, 1306854794.7585578, 1382384106.5676186, 2499688861.396323, 2555984866.6946735]\n",
            "Custo =  297370365014.83527\n",
            "\n",
            "=========================================================================\n",
            "\n",
            "Número de ciclos de manutenção: 13 5\n",
            "Tempos para manutenções preventivas: [0, 16, 52, 87, 109, 269, 328, 429, 471, 513, 571, 642, 669, 700]\n",
            "Severidade para cada subsistema: [0.25, 0.25, 0.5, 0.5, 0.5, 0.25, 0.5, 0.5, 0.75, 0.25, 0.5, 0.75, 0.5]\n",
            "Número de Sisemas: 5\n",
            "Fator:  [0.3296799539643607, 0.3934693402873666, 0.3934693402873666, 0.6321205588285577, 0.6321205588285577, 0.6321205588285577, 0.3934693402873666, 0.6321205588285577, 0.6321205588285577, 0.7768698398515702, 0.3934693402873666, 0.6321205588285577, 0.7768698398515702, 0.6321205588285577]\n",
            "Media de falhas:  [0, 335.54432, 71559.37530618066, 478970.8238929676, 1095760.4140226806, 103715915.06074242, 132147719.96397126, 295212072.74788034, 720086655.0598066, 818046304.7143099, 1033983695.6707762, 1121627951.895482, 2262443697.791648, 2496406836.004197, 2538265855.2378874]\n",
            "Custo =  285521191835.8867\n"
          ]
        },
        {
          "output_type": "stream",
          "name": "stderr",
          "text": [
            "pyswarms.single.global_best: 100%|██████████|100/100, best_cost=8.15e+10\n"
          ]
        },
        {
          "output_type": "stream",
          "name": "stdout",
          "text": [
            "\n",
            "=========================================================================\n",
            "\n",
            "Número de ciclos de manutenção: 10 5\n",
            "Tempos para manutenções preventivas: [0, 13, 49, 85, 102, 265, 322, 510, 592, 668, 704]\n",
            "Severidade para cada subsistema: [0.25, 0.25, 0.5, 0.5, 0.5, 0.25, 0.75, 0.25, 0.75, 0.5]\n",
            "Número de Sisemas: 5\n",
            "Fator:  [0.3296799539643607, 0.3934693402873666, 0.3934693402873666, 0.6321205588285577, 0.6321205588285577, 0.6321205588285577, 0.3934693402873666, 0.7768698398515702, 0.3934693402873666, 0.7768698398515702, 0.6321205588285577]\n",
            "Media de falhas:  [0, 118.81376000000002, 57300.01583108998, 442197.8157618651, 810210.4775710293, 104534124.18370563, 129875814.18585522, 987377960.7242326, 3017858443.578543, 3129853483.2887125, 4983471143.128679, 5018691295.974664]\n",
            "Custo =  339022518655.86115\n",
            "\n",
            "=========================================================================\n",
            "\n",
            "Número de ciclos de manutenção: 11 5\n",
            "Tempos para manutenções preventivas: [0, 19, 45, 84, 167, 260, 315, 363, 485, 511, 667, 703]\n",
            "Severidade para cada subsistema: [0.25, 0.25, 0.5, 0.75, 0.5, 0.25, 0.75, 0.5, 0.75, 0.75, 0.5]\n",
            "Número de Sisemas: 5\n",
            "Fator:  [0.3296799539643607, 0.3934693402873666, 0.3934693402873666, 0.6321205588285577, 0.7768698398515702, 0.6321205588285577, 0.3934693402873666, 0.7768698398515702, 0.6321205588285577, 0.7768698398515702, 0.7768698398515702, 0.6321205588285577]\n",
            "Media de falhas:  [0, 792.3516800000001, 28593.096576031297, 433494.3564994514, 14122414.90695116, 41954289.80847971, 47643409.30763984, 78783831.54229432, 1414168082.5908418, 1423356732.1854324, 2889422586.628391, 2935079189.2939262, 2971924580.8174486]\n",
            "Custo =  98231233142.86456\n",
            "\n",
            "=========================================================================\n",
            "\n",
            "Número de ciclos de manutenção: 15 5\n",
            "Tempos para manutenções preventivas: [0, 28, 44, 83, 157, 266, 309, 364, 418, 432, 477, 498, 517, 622, 666, 691]\n",
            "Severidade para cada subsistema: [0.25, 0.25, 0.5, 0.5, 0.5, 0.25, 0.75, 0.5, 0.5, 0.25, 0.5, 0.75, 0.5, 0.75, 0.5]\n",
            "Número de Sisemas: 5\n",
            "Fator:  [0.3296799539643607, 0.3934693402873666, 0.3934693402873666, 0.6321205588285577, 0.6321205588285577, 0.6321205588285577, 0.3934693402873666, 0.7768698398515702, 0.6321205588285577, 0.6321205588285577, 0.3934693402873666, 0.6321205588285577, 0.7768698398515702, 0.6321205588285577, 0.7768698398515702, 0.6321205588285577]\n",
            "Media de falhas:  [0, 5507.317760000001, 21021.53480471852, 408033.6246222281, 9815868.743575497, 50874192.80387882, 65745789.09433259, 103363695.01587193, 436762500.69402885, 439048727.71025276, 519454780.93082017, 559907797.6363728, 846856447.9522352, 1484490790.1594412, 1533307628.7846534, 1710018510.7079926, 1768234172.11231]\n",
            "Custo =  169764376085.8585\n",
            "\n",
            "=========================================================================\n",
            "\n",
            "Número de ciclos de manutenção: 10 5\n",
            "Tempos para manutenções preventivas: [0, 44, 83, 163, 305, 445, 473, 500, 528, 630, 665]\n",
            "Severidade para cada subsistema: [0.25, 0.5, 0.25, 0.25, 0.5, 0.25, 0.5, 0.75, 0.5, 0.75]\n",
            "Número de Sisemas: 5\n",
            "Fator:  [0.3296799539643607, 0.3934693402873666, 0.6321205588285577, 0.3934693402873666, 0.3934693402873666, 0.6321205588285577, 0.3934693402873666, 0.6321205588285577, 0.7768698398515702, 0.6321205588285577, 0.7768698398515702]\n",
            "Media de falhas:  [0, 52773.19168, 528039.9217676411, 12463079.285542158, 119743475.73082869, 1210559960.8671644, 1503032232.642032, 1556987646.0462923, 2012664362.410533, 2654264866.6785216, 2690085893.6236835, 3320504034.0287566]\n",
            "Custo =  217759884237.00488\n",
            "\n",
            "=========================================================================\n",
            "\n",
            "Número de ciclos de manutenção: 10 5\n",
            "Tempos para manutenções preventivas: [0, 46, 85, 300, 412, 450, 497, 526, 583, 608, 664]\n",
            "Severidade para cada subsistema: [0.25, 0.5, 0.25, 0.75, 0.5, 0.5, 0.75, 0.5, 0.75, 0.75]\n",
            "Número de Sisemas: 5\n",
            "Fator:  [0.3296799539643607, 0.3934693402873666, 0.6321205588285577, 0.3934693402873666, 0.7768698398515702, 0.6321205588285577, 0.6321205588285577, 0.7768698398515702, 0.6321205588285577, 0.7768698398515702, 0.7768698398515702]\n",
            "Media de falhas:  [0, 65908.15232000001, 588493.0509159181, 431082834.61194545, 599811951.5065948, 920825754.7085589, 939832075.3611637, 1010955223.2539887, 1239804339.3154926, 1256591751.4442174, 1624951444.377329, 1746260645.2590275]\n",
            "Custo =  111722196022.40306\n",
            "\n",
            "=========================================================================\n",
            "\n",
            "Número de ciclos de manutenção: 14 5\n",
            "Tempos para manutenções preventivas: [0, 47, 88, 159, 205, 262, 303, 383, 392, 492, 521, 599, 605, 631, 667]\n",
            "Severidade para cada subsistema: [0.25, 0.5, 0.25, 0.5, 0.5, 0.25, 0.5, 0.75, 0.5, 0.75, 0.5, 0.75, 0.75, 0.75]\n",
            "Número de Sisemas: 5\n",
            "Fator:  [0.3296799539643607, 0.3934693402873666, 0.6321205588285577, 0.3934693402873666, 0.6321205588285577, 0.6321205588285577, 0.3934693402873666, 0.6321205588285577, 0.7768698398515702, 0.6321205588285577, 0.7768698398515702, 0.6321205588285577, 0.7768698398515702, 0.7768698398515702, 0.7768698398515702]\n",
            "Media de falhas:  [0, 73390.40224000001, 704654.4177811303, 10089832.021258576, 13857136.070521291, 67095600.272502735, 80095389.80434269, 156931375.2467621, 202243243.35101688, 460228828.75763476, 471599984.98134786, 845156433.0985231, 848507563.5250179, 977388787.0097212, 1014955632.9617293, 1128069093.969929]\n",
            "Custo =  94371352289.4554\n",
            "\n",
            "=========================================================================\n",
            "\n",
            "Número de ciclos de manutenção: 13 5\n",
            "Tempos para manutenções preventivas: [0, 25, 48, 88, 109, 246, 307, 385, 406, 471, 489, 515, 646, 670]\n",
            "Severidade para cada subsistema: [0.25, 0.25, 0.5, 0.5, 0.5, 0.25, 0.5, 0.5, 0.75, 0.5, 0.75, 0.75, 0.75]\n",
            "Número de Sisemas: 5\n",
            "Fator:  [0.3296799539643607, 0.3934693402873666, 0.3934693402873666, 0.6321205588285577, 0.6321205588285577, 0.6321205588285577, 0.3934693402873666, 0.6321205588285577, 0.6321205588285577, 0.7768698398515702, 0.6321205588285577, 0.7768698398515702, 0.7768698398515702, 0.7768698398515702]\n",
            "Media de falhas:  [0, 3125.0000000000005, 34490.77140418577, 532416.6956982402, 1122038.859809847, 56836800.233612046, 80432482.85455753, 155765124.25758356, 275330663.48089945, 396375611.8564148, 428318775.040681, 437777943.8583227, 1441113005.5043693, 1464207808.6482334, 1569446517.4690676]\n",
            "Custo =  87483516171.13364\n",
            "\n",
            "=========================================================================\n",
            "\n",
            "Número de ciclos de manutenção: 14 5\n",
            "Tempos para manutenções preventivas: [0, 16, 48, 89, 115, 204, 308, 353, 389, 417, 467, 483, 597, 604, 671]\n",
            "Severidade para cada subsistema: [0.25, 0.25, 0.5, 0.5, 0.75, 0.25, 0.25, 0.5, 0.25, 0.75, 0.5, 0.5, 0.5, 0.75]\n",
            "Número de Sisemas: 5\n",
            "Fator:  [0.3296799539643607, 0.3934693402873666, 0.3934693402873666, 0.6321205588285577, 0.6321205588285577, 0.7768698398515702, 0.3934693402873666, 0.3934693402873666, 0.6321205588285577, 0.3934693402873666, 0.7768698398515702, 0.6321205588285577, 0.6321205588285577, 0.6321205588285577, 0.7768698398515702]\n",
            "Media de falhas:  [0, 335.54432, 45848.32439940269, 581352.6206790026, 1482021.3989807833, 13929017.251125108, 72050268.69620334, 77646831.8798872, 246830584.03828794, 422761259.378615, 506995169.3488727, 691478659.4972932, 858491452.3271897, 886264085.3154608, 1360282897.4385145, 1923388197.8309045]\n",
            "Custo =  188486073342.32806\n",
            "\n",
            "=========================================================================\n",
            "\n",
            "Número de ciclos de manutenção: 17 5\n",
            "Tempos para manutenções preventivas: [0, 12, 48, 88, 108, 204, 245, 307, 343, 415, 442, 483, 511, 588, 627, 646, 671, 697]\n",
            "Severidade para cada subsistema: [0.25, 0.25, 0.5, 0.5, 0.75, 0.5, 0.25, 0.25, 0.25, 0.5, 0.5, 0.75, 0.5, 0.25, 0.5, 0.75, 0.5]\n",
            "Número de Sisemas: 5\n",
            "Fator:  [0.3296799539643607, 0.3934693402873666, 0.3934693402873666, 0.6321205588285577, 0.6321205588285577, 0.7768698398515702, 0.6321205588285577, 0.3934693402873666, 0.3934693402873666, 0.3934693402873666, 0.6321205588285577, 0.6321205588285577, 0.7768698398515702, 0.6321205588285577, 0.3934693402873666, 0.6321205588285577, 0.7768698398515702, 0.6321205588285577]\n",
            "Media de falhas:  [0, 79.62624000000001, 53105.47587528746, 551031.4001693419, 1092994.8145174407, 15802923.291199807, 21775983.48752946, 28536277.722010575, 46109037.401078224, 472529320.2592267, 687356970.8681115, 1146947846.6982737, 1208077047.3034155, 1551040614.7446663, 1584304434.644943, 1685750792.2883584, 2756740393.59103, 2947345270.2651653, 2994431393.555132]\n",
            "Custo =  361810309062.2037\n",
            "\n",
            "=========================================================================\n",
            "\n",
            "Número de ciclos de manutenção: 16 5\n",
            "Tempos para manutenções preventivas: [0, 20, 48, 85, 109, 247, 307, 349, 363, 436, 452, 485, 520, 584, 610, 670, 702]\n",
            "Severidade para cada subsistema: [0.25, 0.25, 0.5, 0.5, 0.5, 0.25, 0.25, 0.75, 0.5, 0.5, 0.5, 0.75, 0.5, 0.25, 0.75, 0.5]\n",
            "Número de Sisemas: 5\n",
            "Fator:  [0.3296799539643607, 0.3934693402873666, 0.3934693402873666, 0.6321205588285577, 0.6321205588285577, 0.6321205588285577, 0.3934693402873666, 0.3934693402873666, 0.7768698398515702, 0.6321205588285577, 0.6321205588285577, 0.6321205588285577, 0.7768698398515702, 0.6321205588285577, 0.3934693402873666, 0.7768698398515702, 0.6321205588285577]\n",
            "Media de falhas:  [0, 1024.0, 39833.616792648565, 437343.8722641467, 1108691.2405139576, 58415249.14248863, 81442771.70755967, 104135728.27698843, 155465238.15200812, 682938870.2855659, 686120802.2158242, 746015678.5333624, 829845258.9861246, 1094909135.80503, 1112744025.9399796, 1526089663.605899, 3160306951.832295, 3198800359.655762]\n",
            "Custo =  323365226090.8588\n",
            "\n",
            "=========================================================================\n",
            "\n",
            "Número de ciclos de manutenção: 15 5\n",
            "Tempos para manutenções preventivas: [0, 48, 83, 111, 158, 258, 303, 379, 397, 431, 473, 491, 527, 617, 670, 694]\n",
            "Severidade para cada subsistema: [0.25, 0.5, 0.5, 0.75, 0.5, 0.25, 0.75, 0.5, 0.5, 0.25, 0.5, 0.75, 0.25, 0.75, 0.5]\n",
            "Número de Sisemas: 5\n",
            "Fator:  [0.3296799539643607, 0.3934693402873666, 0.6321205588285577, 0.6321205588285577, 0.7768698398515702, 0.6321205588285577, 0.3934693402873666, 0.7768698398515702, 0.6321205588285577, 0.6321205588285577, 0.3934693402873666, 0.6321205588285577, 0.7768698398515702, 0.3934693402873666, 0.7768698398515702, 0.6321205588285577]\n",
            "Media de falhas:  [0, 81537.26976000001, 508226.1011524853, 1349090.0664466121, 2985690.855413008, 34407231.34399352, 37837368.4134152, 106424086.51265216, 200462993.48971787, 207574776.86524665, 279338761.5177243, 311799560.50362176, 888460535.3239281, 1390698435.7643218, 1455517445.2228887, 2633965426.867433, 2686500802.704175]\n",
            "Custo =  334801339153.0406\n",
            "\n",
            "=========================================================================\n",
            "\n",
            "Número de ciclos de manutenção: 13 5\n",
            "Tempos para manutenções preventivas: [0, 48, 83, 114, 192, 257, 307, 376, 424, 465, 497, 524, 627, 669]\n",
            "Severidade para cada subsistema: [0.25, 0.5, 0.5, 0.25, 0.5, 0.25, 0.75, 0.5, 0.25, 0.5, 0.75, 0.25, 0.75]\n",
            "Número de Sisemas: 5\n",
            "Fator:  [0.3296799539643607, 0.3934693402873666, 0.6321205588285577, 0.6321205588285577, 0.3934693402873666, 0.6321205588285577, 0.3934693402873666, 0.7768698398515702, 0.6321205588285577, 0.3934693402873666, 0.6321205588285577, 0.7768698398515702, 0.3934693402873666, 0.7768698398515702]\n",
            "Media de falhas:  [0, 81537.26976000001, 508226.1011524853, 1544287.595430743, 9444932.892542802, 23570752.566614665, 112480806.66885847, 170394769.84645805, 486009658.3889257, 498258836.75984526, 561871445.8040864, 988470583.2437145, 1627580437.153748, 1674159952.2859313, 5244371824.77212]\n",
            "Custo =  373949753620.4585\n",
            "\n",
            "=========================================================================\n",
            "\n",
            "Número de ciclos de manutenção: 15 5\n",
            "Tempos para manutenções preventivas: [0, 48, 82, 109, 156, 187, 250, 314, 361, 405, 432, 461, 498, 515, 596, 667]\n",
            "Severidade para cada subsistema: [0.25, 0.5, 0.5, 0.5, 0.25, 0.5, 0.25, 0.75, 0.75, 0.5, 0.25, 0.5, 0.75, 0.25, 0.75]\n",
            "Número de Sisemas: 5\n",
            "Fator:  [0.3296799539643607, 0.3934693402873666, 0.6321205588285577, 0.6321205588285577, 0.6321205588285577, 0.3934693402873666, 0.6321205588285577, 0.3934693402873666, 0.7768698398515702, 0.7768698398515702, 0.6321205588285577, 0.3934693402873666, 0.6321205588285577, 0.7768698398515702, 0.3934693402873666, 0.7768698398515702]\n",
            "Media de falhas:  [0, 81537.26976000001, 476601.1138252585, 1230614.9395096998, 2801469.351474045, 4328681.655248303, 16559507.14657909, 140092110.62404048, 169785461.94836587, 411065754.9430909, 416264046.8669209, 423520918.8048124, 499054009.4487485, 752425643.8046103, 1137386277.6760588, 1237094352.035906, 4919578517.479863]\n",
            "Custo =  361444680657.03326\n",
            "\n",
            "=========================================================================\n",
            "\n",
            "Número de ciclos de manutenção: 13 5\n",
            "Tempos para manutenções preventivas: [0, 47, 83, 98, 251, 317, 443, 473, 495, 513, 590, 601, 635, 667]\n",
            "Severidade para cada subsistema: [0.25, 0.5, 0.5, 0.5, 0.25, 0.5, 0.25, 0.5, 0.75, 0.25, 0.5, 0.5, 0.75]\n",
            "Número de Sisemas: 5\n",
            "Fator:  [0.3296799539643607, 0.3934693402873666, 0.6321205588285577, 0.6321205588285577, 0.6321205588285577, 0.3934693402873666, 0.6321205588285577, 0.3934693402873666, 0.6321205588285577, 0.7768698398515702, 0.3934693402873666, 0.6321205588285577, 0.6321205588285577, 0.7768698398515702]\n",
            "Media de falhas:  [0, 73390.40224000001, 512028.935919925, 789726.8668850845, 78048702.00290968, 107747911.24480414, 369852646.68196404, 682502634.0516447, 724032062.4656521, 987828661.7165804, 1335147148.9089854, 1341393842.521227, 2498603388.7406673, 2698971306.807115, 3306704424.214721]\n",
            "Custo =  340217118103.3061\n",
            "\n",
            "=========================================================================\n",
            "\n",
            "Número de ciclos de manutenção: 14 5\n",
            "Tempos para manutenções preventivas: [0, 45, 84, 161, 195, 251, 312, 387, 406, 455, 488, 518, 613, 635, 668]\n",
            "Severidade para cada subsistema: [0.25, 0.5, 0.25, 0.5, 0.5, 0.25, 0.5, 0.5, 0.5, 0.5, 0.75, 0.5, 0.5, 0.75]\n",
            "Número de Sisemas: 5\n",
            "Fator:  [0.3296799539643607, 0.3934693402873666, 0.6321205588285577, 0.3934693402873666, 0.6321205588285577, 0.6321205588285577, 0.3934693402873666, 0.6321205588285577, 0.6321205588285577, 0.6321205588285577, 0.6321205588285577, 0.7768698398515702, 0.6321205588285577, 0.6321205588285577, 0.7768698398515702]\n",
            "Media de falhas:  [0, 59049.00000000001, 557538.5336127126, 11420733.294900697, 13441188.358526869, 57475788.83532727, 82454323.81203192, 154853907.67641377, 263337317.9978662, 337819613.1165631, 399162435.7520677, 468709963.3157089, 995940134.7214844, 1012913962.3449616, 1221304663.2747092, 1817788823.9647071]\n",
            "Custo =  144157917790.50516\n"
          ]
        },
        {
          "output_type": "stream",
          "name": "stderr",
          "text": [
            "2023-09-10 20:14:45,434 - pyswarms.single.global_best - INFO - Optimization finished | best cost: 81514778620.21527, best pos: [2.65783073 1.23986972 3.62704382 4.32930935 4.95583077 0.70503426\n",
            " 2.12205496 4.52504856 0.22626067 0.38386427 2.26615428 1.49264081\n",
            " 2.89690917 1.99703129 2.73372935 5.52352906 3.79493431 4.19118551\n",
            " 4.33599637 3.83837248 1.27887874 6.75520504 5.13845282 1.69507486]\n",
            "2023-09-10 20:14:45,442 - pyswarms.single.global_best - INFO - Optimize for 1 iters with {'c1': 0.5, 'c2': 0.3, 'w': 0.9}\n",
            "pyswarms.single.global_best: 100%|██████████|1/1, best_cost=8.15e+10\n",
            "2023-09-10 20:14:45,461 - pyswarms.single.global_best - INFO - Optimization finished | best cost: 81514778620.21527, best pos: [2.65797891 1.23902415 3.62688675 4.3293256  4.95316215 6.54084203\n",
            " 2.12175561 4.49481524 5.73495437 3.29447585 2.29013513 2.95779285\n",
            " 2.89695525 2.0458287  2.73576305 4.73366692 3.80272018 4.19039226\n",
            " 4.33593279 3.85829169 2.01727966 2.09122612 5.09833438 1.6949119 ]\n",
            "2023-09-10 20:14:45,466 - pyswarms.single.global_best - INFO - Optimize for 1 iters with {'c1': 0.5, 'c2': 0.3, 'w': 0.9}\n"
          ]
        },
        {
          "output_type": "stream",
          "name": "stdout",
          "text": [
            "\n",
            "=========================================================================\n",
            "\n",
            "Número de ciclos de manutenção: 11 5\n",
            "Tempos para manutenções preventivas: [0, 40, 86, 176, 257, 309, 377, 485, 517, 590, 626, 669]\n",
            "Severidade para cada subsistema: [0.25, 0.5, 0.25, 0.5, 0.25, 0.5, 0.5, 0.75, 0.5, 0.5, 0.75]\n",
            "Número de Sisemas: 5\n",
            "Fator:  [0.3296799539643607, 0.3934693402873666, 0.6321205588285577, 0.3934693402873666, 0.6321205588285577, 0.3934693402873666, 0.6321205588285577, 0.6321205588285577, 0.7768698398515702, 0.6321205588285577, 0.6321205588285577, 0.7768698398515702]\n",
            "Media de falhas:  [0, 32768.0, 683253.9976207248, 19140385.21059319, 39821070.34306024, 134592920.3850688, 191850929.40327185, 1375760676.8848555, 1449907811.7346954, 1774403661.9535522, 1804127044.8956954, 2084703723.2830658, 2670000606.0481043]\n",
            "Custo =  151240061240.73804\n"
          ]
        },
        {
          "output_type": "stream",
          "name": "stderr",
          "text": [
            "pyswarms.single.global_best: 100%|██████████|1/1, best_cost=8.15e+10\n",
            "2023-09-10 20:14:45,488 - pyswarms.single.global_best - INFO - Optimization finished | best cost: 81514778620.21527, best pos: [2.6659209  1.23938078 3.62679083 4.32940107 4.95262694 1.97445469\n",
            " 2.12207544 4.49890164 0.36310691 5.70185981 2.29679744 3.59174037\n",
            " 2.89539656 2.04531494 2.73589636 5.65895086 3.80059096 4.19284053\n",
            " 4.33585249 3.90235201 2.34749991 0.65863977 5.10246747 1.69502997]\n",
            "2023-09-10 20:14:45,489 - pyswarms.single.global_best - INFO - Optimize for 1 iters with {'c1': 0.5, 'c2': 0.3, 'w': 0.9}\n"
          ]
        },
        {
          "output_type": "stream",
          "name": "stdout",
          "text": [
            "\n",
            "=========================================================================\n",
            "\n",
            "Número de ciclos de manutenção: 11 5\n",
            "Tempos para manutenções preventivas: [0, 36, 87, 101, 209, 307, 357, 364, 452, 483, 621, 669]\n",
            "Severidade para cada subsistema: [0.25, 0.5, 0.25, 0.75, 0.25, 0.25, 0.5, 0.75, 0.5, 0.5, 0.75]\n",
            "Número de Sisemas: 5\n",
            "Fator:  [0.3296799539643607, 0.3934693402873666, 0.6321205588285577, 0.3934693402873666, 0.7768698398515702, 0.3934693402873666, 0.3934693402873666, 0.6321205588285577, 0.7768698398515702, 0.6321205588285577, 0.6321205588285577, 0.7768698398515702]\n",
            "Media de falhas:  [0, 19349.176320000002, 782787.2271767431, 1076482.8935806036, 21675418.785923213, 194766744.50096, 201761643.1334431, 228026603.91063437, 958382586.9669565, 1013330930.1993723, 1295631566.7944994, 1613224803.2491107, 2198521686.0141487]\n",
            "Custo =  136858920418.39682\n"
          ]
        },
        {
          "output_type": "stream",
          "name": "stderr",
          "text": [
            "pyswarms.single.global_best: 100%|██████████|1/1, best_cost=8.15e+10\n",
            "2023-09-10 20:14:45,513 - pyswarms.single.global_best - INFO - Optimization finished | best cost: 81514778620.21527, best pos: [2.67106241 1.23982387 3.62677014 4.32945489 4.95301027 5.26899699\n",
            " 2.12235969 4.50579927 3.18807002 2.04040664 2.29771878 4.42806025\n",
            " 2.89401565 2.03717443 2.73560745 5.7527591  3.79756771 4.19461573\n",
            " 4.33582059 3.93090991 3.27310145 5.12889495 5.11511517 1.69513723]\n",
            "2023-09-10 20:14:45,519 - pyswarms.single.global_best - INFO - Optimize for 1 iters with {'c1': 0.5, 'c2': 0.3, 'w': 0.9}\n"
          ]
        },
        {
          "output_type": "stream",
          "name": "stdout",
          "text": [
            "\n",
            "=========================================================================\n",
            "\n",
            "Número de ciclos de manutenção: 10 5\n",
            "Tempos para manutenções preventivas: [0, 32, 86, 312, 344, 440, 451, 482, 595, 603, 668]\n",
            "Severidade para cada subsistema: [0.25, 0.5, 0.25, 0.25, 0.5, 0.75, 0.5, 0.5, 0.5, 0.75]\n",
            "Número de Sisemas: 5\n",
            "Fator:  [0.3296799539643607, 0.3934693402873666, 0.6321205588285577, 0.3934693402873666, 0.3934693402873666, 0.6321205588285577, 0.7768698398515702, 0.6321205588285577, 0.6321205588285577, 0.6321205588285577, 0.7768698398515702]\n",
            "Media de falhas:  [0, 10737.41824, 791728.0575767461, 533556409.5927037, 548982046.5297525, 1262162186.569226, 1359107328.454655, 1413615390.451515, 1575994182.521074, 1607605199.3446715, 2056983174.5607128, 2653467335.2507105]\n",
            "Custo =  171109088659.69904\n"
          ]
        },
        {
          "output_type": "stream",
          "name": "stderr",
          "text": [
            "pyswarms.single.global_best: 100%|██████████|1/1, best_cost=8.15e+10\n",
            "2023-09-10 20:14:45,541 - pyswarms.single.global_best - INFO - Optimization finished | best cost: 81514778620.21527, best pos: [2.67499886 1.24022977 3.62675498 4.32950111 4.95418252 1.68814768\n",
            " 2.12252739 4.5157141  6.50666903 6.41443514 2.29040933 5.87407793\n",
            " 2.89343311 2.01907655 2.73488977 5.09245291 3.79438372 4.19562474\n",
            " 4.3357991  3.94489035 4.50885735 1.64840678 5.13109212 1.69523375]\n",
            "2023-09-10 20:14:45,548 - pyswarms.single.global_best - INFO - Optimize for 1 iters with {'c1': 0.5, 'c2': 0.3, 'w': 0.9}\n"
          ]
        },
        {
          "output_type": "stream",
          "name": "stdout",
          "text": [
            "\n",
            "=========================================================================\n",
            "\n",
            "Número de ciclos de manutenção: 12 5\n",
            "Tempos para manutenções preventivas: [0, 30, 85, 116, 170, 264, 323, 332, 422, 487, 649, 666, 713]\n",
            "Severidade para cada subsistema: [0.25, 0.5, 0.75, 0.75, 0.75, 0.25, 0.25, 0.5, 0.5, 0.25, 0.75, 0.25]\n",
            "Número de Sisemas: 5\n",
            "Fator:  [0.3296799539643607, 0.3934693402873666, 0.6321205588285577, 0.7768698398515702, 0.7768698398515702, 0.7768698398515702, 0.3934693402873666, 0.3934693402873666, 0.6321205588285577, 0.6321205588285577, 0.3934693402873666, 0.7768698398515702, 0.3934693402873666]\n",
            "Media de falhas:  [0, 7776.000000000001, 771663.4432946742, 1882185.4405227515, 4538982.543554817, 17304802.96608097, 24369660.912337456, 24868099.15208165, 590903855.384244, 1329238735.7605314, 2749021799.5465865, 2850919863.160476, 5376580303.895203, 5398148269.368153]\n",
            "Custo =  351290579663.32477\n"
          ]
        },
        {
          "output_type": "stream",
          "name": "stderr",
          "text": [
            "pyswarms.single.global_best: 100%|██████████|1/1, best_cost=8.15e+10\n",
            "2023-09-10 20:14:45,751 - pyswarms.single.global_best - INFO - Optimization finished | best cost: 81514778620.21527, best pos: [2.67720553 1.24054221 3.62681368 4.32953675 4.95547742 6.1551845\n",
            " 2.12263787 4.52619029 3.54694753 3.42379919 2.28157393 0.30634286\n",
            " 2.89341757 1.99840814 2.73414538 3.88163579 3.79155049 4.19529503\n",
            " 4.33582239 3.9406247  5.84964149 4.93710715 5.14674542 1.69529875]\n",
            "2023-09-10 20:14:45,753 - pyswarms.single.global_best - INFO - Optimize for 1 iters with {'c1': 0.5, 'c2': 0.3, 'w': 0.9}\n"
          ]
        },
        {
          "output_type": "stream",
          "name": "stdout",
          "text": [
            "\n",
            "=========================================================================\n",
            "\n",
            "Número de ciclos de manutenção: 12 5\n",
            "Tempos para manutenções preventivas: [0, 83, 103, 123, 184, 457, 492, 530, 581, 615, 640, 665, 703]\n",
            "Severidade para cada subsistema: [0.5, 0.5, 0.75, 0.75, 0.5, 0.5, 0.5, 0.25, 0.25, 0.25, 0.75, 0.25]\n",
            "Número de Sisemas: 5\n",
            "Fator:  [0.3296799539643607, 0.6321205588285577, 0.6321205588285577, 0.7768698398515702, 0.7768698398515702, 0.6321205588285577, 0.6321205588285577, 0.6321205588285577, 0.3934693402873666, 0.3934693402873666, 0.3934693402873666, 0.7768698398515702, 0.3934693402873666]\n",
            "Media de falhas:  [0, 1260493.00576, 1882056.572199962, 2065139.4049254782, 6337328.095930437, 983953825.3821423, 995852997.9661217, 1094883979.0687172, 1292862358.5801332, 1448733996.141149, 2334142164.096859, 3367126249.4325666, 5309438357.212657, 5346283748.736179]\n",
            "Custo =  577330890879.9424\n"
          ]
        },
        {
          "output_type": "stream",
          "name": "stderr",
          "text": [
            "pyswarms.single.global_best: 100%|██████████|1/1, best_cost=8.15e+10\n",
            "2023-09-10 20:14:45,774 - pyswarms.single.global_best - INFO - Optimization finished | best cost: 81514778620.21527, best pos: [2.67861098 1.24080445 3.62691195 4.32955683 4.95672475 4.3065143\n",
            " 2.12273682 4.53545082 0.73363499 0.89984736 2.27041862 2.36112779\n",
            " 2.89438988 1.97946112 2.7334274  2.18749316 3.78999542 4.19498616\n",
            " 4.33586585 3.91192174 6.70833688 0.5232413  5.15871969 1.6952915 ]\n",
            "2023-09-10 20:14:45,776 - pyswarms.single.global_best - INFO - Optimize for 1 iters with {'c1': 0.5, 'c2': 0.3, 'w': 0.9}\n"
          ]
        },
        {
          "output_type": "stream",
          "name": "stdout",
          "text": [
            "\n",
            "=========================================================================\n",
            "\n",
            "Número de ciclos de manutenção: 11 5\n",
            "Tempos para manutenções preventivas: [0, 81, 126, 389, 392, 448, 479, 497, 523, 643, 663, 696]\n",
            "Severidade para cada subsistema: [0.5, 0.75, 0.25, 0.25, 0.25, 0.25, 0.5, 0.5, 0.25, 0.75, 0.25]\n",
            "Número de Sisemas: 5\n",
            "Fator:  [0.3296799539643607, 0.6321205588285577, 0.7768698398515702, 0.3934693402873666, 0.3934693402873666, 0.3934693402873666, 0.3934693402873666, 0.6321205588285577, 0.6321205588285577, 0.3934693402873666, 0.7768698398515702, 0.3934693402873666]\n",
            "Media de falhas:  [0, 1115771.00832, 4053690.804766188, 910594791.8060256, 910886728.0880066, 1367778395.7453966, 1707323873.5742433, 1939558423.7468736, 2347650819.3933954, 3215445071.5069637, 3334068929.962493, 4960748661.921679, 5009626085.214873]\n",
            "Custo =  460906590998.4217\n"
          ]
        },
        {
          "output_type": "stream",
          "name": "stderr",
          "text": [
            "pyswarms.single.global_best: 100%|██████████|1/1, best_cost=8.15e+10\n",
            "2023-09-10 20:14:45,791 - pyswarms.single.global_best - INFO - Optimization finished | best cost: 81514778620.21527, best pos: [2.67984841 1.24091637 3.62702389 4.32955111 4.95761625 2.55101786\n",
            " 2.1226368  4.54197547 5.79983702 6.27276229 2.2591658  4.67699917\n",
            " 2.89582389 1.96681934 2.73281891 0.38862503 3.7888358  4.1938241\n",
            " 4.33592619 3.88156255 0.01517358 3.95835817 5.16523966 1.69527464]\n",
            "2023-09-10 20:14:45,793 - pyswarms.single.global_best - INFO - Optimize for 1 iters with {'c1': 0.5, 'c2': 0.3, 'w': 0.9}\n"
          ]
        },
        {
          "output_type": "stream",
          "name": "stdout",
          "text": [
            "\n",
            "=========================================================================\n",
            "\n",
            "Número de ciclos de manutenção: 10 5\n",
            "Tempos para manutenções preventivas: [0, 30, 78, 128, 197, 438, 503, 518, 658, 662, 692]\n",
            "Severidade para cada subsistema: [0.25, 0.5, 0.75, 0.5, 0.25, 0.5, 0.5, 0.25, 0.75, 0.25]\n",
            "Número de Sisemas: 5\n",
            "Fator:  [0.3296799539643607, 0.3934693402873666, 0.6321205588285577, 0.7768698398515702, 0.6321205588285577, 0.3934693402873666, 0.6321205588285577, 0.6321205588285577, 0.3934693402873666, 0.7768698398515702, 0.3934693402873666]\n",
            "Media de falhas:  [0, 7776.000000000001, 475743.966165062, 3191959.645868126, 9864666.140230823, 611046656.8462803, 765502798.7196265, 994897360.9176645, 2177508516.137044, 2200220652.173097, 3648737595.6050253, 3705033600.9033756]\n",
            "Custo =  336861673731.1049\n"
          ]
        },
        {
          "output_type": "stream",
          "name": "stderr",
          "text": [
            "pyswarms.single.global_best: 100%|██████████|1/1, best_cost=8.15e+10\n",
            "2023-09-10 20:14:45,809 - pyswarms.single.global_best - INFO - Optimization finished | best cost: 81514778620.21527, best pos: [2.67475744 1.24073736 3.62712672 4.32948917 4.95803339 1.41454169\n",
            " 2.12240547 4.5434327  4.71169689 5.00466642 2.25044378 6.90553821\n",
            " 2.8971737  1.95844795 2.73241859 6.5912149  3.78893612 4.19254933\n",
            " 4.33598783 3.84360868 1.21776102 0.13124309 5.16413251 1.69525533]\n",
            "2023-09-10 20:14:45,811 - pyswarms.single.global_best - INFO - Optimize for 1 iters with {'c1': 0.5, 'c2': 0.3, 'w': 0.9}\n"
          ]
        },
        {
          "output_type": "stream",
          "name": "stdout",
          "text": [
            "\n",
            "=========================================================================\n",
            "\n",
            "Número de ciclos de manutenção: 11 5\n",
            "Tempos para manutenções preventivas: [0, 32, 77, 105, 129, 301, 433, 509, 520, 632, 661, 690]\n",
            "Severidade para cada subsistema: [0.25, 0.5, 0.25, 0.75, 0.5, 0.25, 0.5, 0.5, 0.5, 0.75, 0.25]\n",
            "Número de Sisemas: 5\n",
            "Fator:  [0.3296799539643607, 0.3934693402873666, 0.6321205588285577, 0.3934693402873666, 0.7768698398515702, 0.6321205588285577, 0.3934693402873666, 0.6321205588285577, 0.6321205588285577, 0.6321205588285577, 0.7768698398515702, 0.3934693402873666]\n",
            "Media de falhas:  [0, 10737.41824, 423887.60596341855, 1097239.0167472868, 1378017.9553806083, 314457959.8978961, 414293736.45748186, 612247791.8979037, 783934510.5120435, 1523239956.4955113, 1697135534.3222852, 1902963706.7100568, 1963125703.8268294]\n",
            "Custo =  168133137240.42087\n"
          ]
        },
        {
          "output_type": "stream",
          "name": "stderr",
          "text": [
            "pyswarms.single.global_best: 100%|██████████|1/1, best_cost=8.15e+10\n",
            "2023-09-10 20:14:45,828 - pyswarms.single.global_best - INFO - Optimization finished | best cost: 81514778620.21527, best pos: [2.66696826 1.24042392 3.62721373 4.32940775 4.95823485 1.00864209\n",
            " 2.12217848 4.54133107 4.18039497 3.85160937 2.24274773 1.8903276\n",
            " 2.89835071 1.95265797 2.73227064 5.12663589 3.78980896 4.19114831\n",
            " 4.33604501 3.808463   3.01587847 3.28713906 5.15998873 1.69521037]\n",
            "2023-09-10 20:14:45,829 - pyswarms.single.global_best - INFO - Optimize for 1 iters with {'c1': 0.5, 'c2': 0.3, 'w': 0.9}\n"
          ]
        },
        {
          "output_type": "stream",
          "name": "stdout",
          "text": [
            "\n",
            "=========================================================================\n",
            "\n",
            "Número de ciclos de manutenção: 14 5\n",
            "Tempos para manutenções preventivas: [0, 36, 75, 94, 128, 194, 265, 307, 337, 399, 439, 466, 527, 661, 692]\n",
            "Severidade para cada subsistema: [0.25, 0.5, 0.75, 0.75, 0.5, 0.25, 0.5, 0.25, 0.25, 0.25, 0.75, 0.5, 0.75, 0.25]\n",
            "Número de Sisemas: 5\n",
            "Fator:  [0.3296799539643607, 0.3934693402873666, 0.6321205588285577, 0.7768698398515702, 0.7768698398515702, 0.6321205588285577, 0.3934693402873666, 0.6321205588285577, 0.3934693402873666, 0.3934693402873666, 0.3934693402873666, 0.7768698398515702, 0.6321205588285577, 0.7768698398515702, 0.3934693402873666]\n",
            "Media de falhas:  [0, 19349.176320000002, 337639.0825667389, 632253.9167767309, 1101895.5579168678, 3515185.291921081, 9705893.907951042, 23786103.84302341, 103328569.46963048, 165148019.7680356, 470259110.64328283, 736140362.8805873, 1692437224.7500646, 2007804938.458493, 2231452092.6951914, 2287748097.9935417]\n",
            "Custo =  193388561138.2333\n"
          ]
        },
        {
          "output_type": "stream",
          "name": "stderr",
          "text": [
            "pyswarms.single.global_best: 100%|██████████|1/1, best_cost=8.15e+10\n",
            "2023-09-10 20:14:45,845 - pyswarms.single.global_best - INFO - Optimization finished | best cost: 81514778620.21527, best pos: [2.65839756 1.23999305 3.62725721 4.32932768 4.95779762 1.30535087\n",
            " 2.12196212 4.536951   3.80512981 3.32542515 2.23821482 4.37264387\n",
            " 2.89925303 1.96008713 2.73222138 3.12745014 3.79148122 4.18988797\n",
            " 4.33608744 3.78263472 5.04945677 5.53227422 5.15620134 1.69514273]\n",
            "2023-09-10 20:14:45,847 - pyswarms.single.global_best - INFO - Optimize for 1 iters with {'c1': 0.5, 'c2': 0.3, 'w': 0.9}\n"
          ]
        },
        {
          "output_type": "stream",
          "name": "stdout",
          "text": [
            "\n",
            "=========================================================================\n",
            "\n",
            "Número de ciclos de manutenção: 15 5\n",
            "Tempos para manutenções preventivas: [0, 40, 74, 103, 125, 160, 306, 346, 417, 446, 469, 539, 582, 640, 661, 697]\n",
            "Severidade para cada subsistema: [0.25, 0.5, 0.25, 0.75, 0.25, 0.5, 0.25, 0.75, 0.25, 0.5, 0.5, 0.25, 0.75, 0.75, 0.25]\n",
            "Número de Sisemas: 5\n",
            "Fator:  [0.3296799539643607, 0.3934693402873666, 0.6321205588285577, 0.3934693402873666, 0.7768698398515702, 0.3934693402873666, 0.6321205588285577, 0.3934693402873666, 0.7768698398515702, 0.3934693402873666, 0.6321205588285577, 0.6321205588285577, 0.3934693402873666, 0.7768698398515702, 0.7768698398515702, 0.3934693402873666]\n",
            "Media de falhas:  [0, 32768.0, 294482.45947866456, 940694.5412715973, 1162290.8974479362, 5708401.827842451, 69067252.60013792, 185589504.12469295, 272984960.75598824, 511690073.3931311, 517399895.7001758, 1711977807.3731325, 1875598229.442631, 2208973991.6880307, 3059010418.187636, 3103235383.392676, 3150321506.6826425]\n",
            "Custo =  331919200420.57654\n"
          ]
        },
        {
          "output_type": "stream",
          "name": "stderr",
          "text": [
            "pyswarms.single.global_best: 100%|██████████|1/1, best_cost=8.15e+10\n",
            "2023-09-10 20:14:45,859 - pyswarms.single.global_best - INFO - Optimization finished | best cost: 81514778620.21527, best pos: [2.65061251 1.23960307 3.62726839 4.32925279 4.95681934 2.25359094\n",
            " 2.12177001 4.53224638 3.20284366 3.23755639 2.23783604 6.7030118\n",
            " 2.89961036 1.97134091 2.73241669 1.33299524 3.7938602  4.18882646\n",
            " 4.33612266 3.77018749 6.64514262 6.86674993 5.15028954 1.69507234]\n",
            "2023-09-10 20:14:45,861 - pyswarms.single.global_best - INFO - Optimize for 1 iters with {'c1': 0.5, 'c2': 0.3, 'w': 0.9}\n"
          ]
        },
        {
          "output_type": "stream",
          "name": "stdout",
          "text": [
            "\n",
            "=========================================================================\n",
            "\n",
            "Número de ciclos de manutenção: 11 5\n",
            "Tempos para manutenções preventivas: [0, 43, 74, 122, 176, 303, 355, 457, 576, 652, 662, 705]\n",
            "Severidade para cada subsistema: [0.25, 0.5, 0.75, 0.5, 0.5, 0.25, 0.25, 0.75, 0.75, 0.75, 0.25]\n",
            "Número de Sisemas: 5\n",
            "Fator:  [0.3296799539643607, 0.3934693402873666, 0.6321205588285577, 0.7768698398515702, 0.6321205588285577, 0.6321205588285577, 0.3934693402873666, 0.3934693402873666, 0.7768698398515702, 0.7768698398515702, 0.7768698398515702, 0.3934693402873666]\n",
            "Media de falhas:  [0, 47042.70176, 285875.0983949364, 2439854.460152392, 5406547.171159935, 46042646.15253006, 77887338.58760525, 283587981.5467174, 2883464600.9211674, 5673999500.966844, 5682221985.799665, 5740450762.583344, 5774068146.087049]\n",
            "Custo =  260576083683.33917\n"
          ]
        },
        {
          "output_type": "stream",
          "name": "stderr",
          "text": [
            "pyswarms.single.global_best: 100%|██████████|1/1, best_cost=8.15e+10\n",
            "2023-09-10 20:14:45,877 - pyswarms.single.global_best - INFO - Optimization finished | best cost: 81514778620.21527, best pos: [2.64392097 1.23932296 3.62721363 4.32918961 4.95571616 3.52496325\n",
            " 2.12162242 4.52596602 3.00012604 3.73362062 2.24133014 1.12049185\n",
            " 2.89936424 1.98290317 2.73285437 6.02871205 3.7961443  4.18798203\n",
            " 4.33612882 3.77426795 1.24121742 0.35487484 5.1419427  1.69500927]\n",
            "2023-09-10 20:14:45,879 - pyswarms.single.global_best - INFO - Optimize for 1 iters with {'c1': 0.5, 'c2': 0.3, 'w': 0.9}\n"
          ]
        },
        {
          "output_type": "stream",
          "name": "stdout",
          "text": [
            "\n",
            "=========================================================================\n",
            "\n",
            "Número de ciclos de manutenção: 10 5\n",
            "Tempos para manutenções preventivas: [0, 44, 75, 200, 266, 359, 364, 587, 646, 662, 712]\n",
            "Severidade para cada subsistema: [0.25, 0.5, 0.25, 0.25, 0.25, 0.5, 0.25, 0.75, 0.75, 0.25]\n",
            "Número de Sisemas: 5\n",
            "Fator:  [0.3296799539643607, 0.3934693402873666, 0.6321205588285577, 0.3934693402873666, 0.3934693402873666, 0.3934693402873666, 0.6321205588285577, 0.3934693402873666, 0.7768698398515702, 0.7768698398515702, 0.3934693402873666]\n",
            "Media de falhas:  [0, 52773.19168, 304878.5306243019, 46336288.46043902, 62597582.47832632, 368181636.0435646, 387010418.1440794, 5726916915.788824, 6079431785.808063, 6734128954.658709, 6808302042.713547, 6831303817.970023]\n",
            "Custo =  325104327644.26874\n"
          ]
        },
        {
          "output_type": "stream",
          "name": "stderr",
          "text": [
            "pyswarms.single.global_best: 100%|██████████|1/1, best_cost=7.48e+10\n",
            "2023-09-10 20:14:45,893 - pyswarms.single.global_best - INFO - Optimization finished | best cost: 74810937748.53241, best pos: [2.64190156 1.23921686 3.62715472 4.32913506 4.95473839 5.08758485\n",
            " 2.12157461 4.52020546 2.99249702 4.38206798 2.24708739 3.13192978\n",
            " 2.89884787 1.99573562 2.73341155 3.15471602 3.79815332 4.18806313\n",
            " 4.33611323 3.78472641 3.37807979 0.92546224 5.13372886 1.69496859]\n",
            "2023-09-10 20:14:45,895 - pyswarms.single.global_best - INFO - Optimize for 1 iters with {'c1': 0.5, 'c2': 0.3, 'w': 0.9}\n"
          ]
        },
        {
          "output_type": "stream",
          "name": "stdout",
          "text": [
            "\n",
            "=========================================================================\n",
            "\n",
            "Número de ciclos de manutenção: 10 5\n",
            "Tempos para manutenções preventivas: [0, 44, 77, 161, 370, 393, 456, 572, 610, 663, 718]\n",
            "Severidade para cada subsistema: [0.25, 0.5, 0.25, 0.5, 0.75, 0.5, 0.75, 0.75, 0.75, 0.25]\n",
            "Número de Sisemas: 5\n",
            "Fator:  [0.3296799539643607, 0.3934693402873666, 0.6321205588285577, 0.3934693402873666, 0.6321205588285577, 0.7768698398515702, 0.6321205588285577, 0.7768698398515702, 0.7768698398515702, 0.7768698398515702, 0.3934693402873666]\n",
            "Media de falhas:  [0, 52773.19168, 350662.44364771026, 12485621.259726672, 456551354.62437606, 571086681.8871818, 674195692.8098512, 827350402.9568712, 998116872.2014999, 1060564084.6145893, 1148029271.5555582, 1162719678.3322737]\n",
            "Custo =  74810937748.53241\n"
          ]
        },
        {
          "output_type": "stream",
          "name": "stderr",
          "text": [
            "pyswarms.single.global_best: 100%|██████████|1/1, best_cost=7.48e+10\n",
            "2023-09-10 20:14:45,907 - pyswarms.single.global_best - INFO - Optimization finished | best cost: 74810937748.53241, best pos: [2.6400841  1.23912138 3.6271017  4.32908597 4.9538584  0.19394429\n",
            " 2.12153158 4.51502095 3.6856309  5.66567061 2.25226892 5.64222392\n",
            " 2.89838313 2.00728482 2.73391302 6.8681196  3.79996144 4.18813611\n",
            " 4.3360992  3.79413902 6.00125594 0.7389909  5.12633641 1.69493197]\n",
            "2023-09-10 20:14:45,908 - pyswarms.single.global_best - INFO - Optimize for 1 iters with {'c1': 0.5, 'c2': 0.3, 'w': 0.9}\n"
          ]
        },
        {
          "output_type": "stream",
          "name": "stdout",
          "text": [
            "\n",
            "=========================================================================\n",
            "\n",
            "Número de ciclos de manutenção: 10 5\n",
            "Tempos para manutenções preventivas: [0, 44, 79, 188, 374, 427, 511, 574, 609, 635, 664]\n",
            "Severidade para cada subsistema: [0.25, 0.5, 0.5, 0.5, 0.5, 0.75, 0.25, 0.5, 0.5, 0.75]\n",
            "Número de Sisemas: 5\n",
            "Fator:  [0.3296799539643607, 0.3934693402873666, 0.6321205588285577, 0.6321205588285577, 0.6321205588285577, 0.6321205588285577, 0.7768698398515702, 0.3934693402873666, 0.6321205588285577, 0.6321205588285577, 0.7768698398515702]\n",
            "Media de falhas:  [0, 52773.19168, 402697.7811438911, 30764703.68989897, 376376431.314247, 441065567.32249784, 671072161.538317, 914661385.6471894, 940540364.3382968, 1831922807.5093272, 2008936497.2836084, 2650791744.860003]\n",
            "Custo =  243301736424.92126\n"
          ]
        },
        {
          "output_type": "stream",
          "name": "stderr",
          "text": [
            "pyswarms.single.global_best: 100%|██████████|1/1, best_cost=7.48e+10\n",
            "2023-09-10 20:14:45,920 - pyswarms.single.global_best - INFO - Optimization finished | best cost: 74810937748.53241, best pos: [2.63898789 1.23904374 3.62705399 4.32905544 4.95326563 3.38931099\n",
            " 2.12150402 4.51054486 4.97756775 0.45718718 2.25648126 1.42491671\n",
            " 2.89796953 2.01661051 2.73424003 2.73815511 3.80142562 4.18819007\n",
            " 4.33608782 3.80113689 1.7719237  6.89717727 5.12142008 1.69490675]\n",
            "2023-09-10 20:14:45,922 - pyswarms.single.global_best - INFO - Optimize for 1 iters with {'c1': 0.5, 'c2': 0.3, 'w': 0.9}\n"
          ]
        },
        {
          "output_type": "stream",
          "name": "stdout",
          "text": [
            "\n",
            "=========================================================================\n",
            "\n",
            "Número de ciclos de manutenção: 10 5\n",
            "Tempos para manutenções preventivas: [0, 42, 80, 111, 265, 328, 373, 431, 457, 615, 664]\n",
            "Severidade para cada subsistema: [0.25, 0.5, 0.5, 0.5, 0.25, 0.5, 0.5, 0.5, 0.25, 0.75]\n",
            "Número de Sisemas: 5\n",
            "Fator:  [0.3296799539643607, 0.3934693402873666, 0.6321205588285577, 0.6321205588285577, 0.6321205588285577, 0.3934693402873666, 0.6321205588285577, 0.6321205588285577, 0.6321205588285577, 0.3934693402873666, 0.7768698398515702]\n",
            "Media de falhas:  [0, 41821.194240000004, 441587.87866750476, 1373166.3999454495, 91179079.9955586, 122430624.05148953, 154174852.65641898, 558192359.2901378, 594640833.5152748, 1732099577.904094, 2047943913.2605877, 5898429282.81328]\n",
            "Custo =  328717942327.09546\n"
          ]
        },
        {
          "output_type": "stream",
          "name": "stderr",
          "text": [
            "pyswarms.single.global_best: 100%|██████████|1/1, best_cost=7.48e+10\n",
            "2023-09-10 20:14:45,940 - pyswarms.single.global_best - INFO - Optimization finished | best cost: 74810937748.53241, best pos: [2.63833884 1.23899462 3.62703732 4.32905013 4.95274348 6.98617804\n",
            " 2.12149435 4.50822414 6.60212051 3.42147771 2.25923856 4.6672768\n",
            " 2.89769732 2.01949596 2.73434784 5.36259817 3.80228675 4.18822275\n",
            " 4.33608374 3.80601828 5.43773268 3.65553918 5.11922837 1.69489353]\n",
            "2023-09-10 20:14:45,941 - pyswarms.single.global_best - INFO - Optimize for 1 iters with {'c1': 0.5, 'c2': 0.3, 'w': 0.9}\n"
          ]
        },
        {
          "output_type": "stream",
          "name": "stdout",
          "text": [
            "\n",
            "=========================================================================\n",
            "\n",
            "Número de ciclos de manutenção: 11 5\n",
            "Tempos para manutenções preventivas: [0, 41, 81, 170, 288, 323, 334, 367, 395, 429, 507, 665]\n",
            "Severidade para cada subsistema: [0.25, 0.5, 0.5, 0.25, 0.25, 0.5, 0.5, 0.75, 0.5, 0.5, 0.75]\n",
            "Número de Sisemas: 5\n",
            "Fator:  [0.3296799539643607, 0.3934693402873666, 0.6321205588285577, 0.6321205588285577, 0.3934693402873666, 0.3934693402873666, 0.6321205588285577, 0.6321205588285577, 0.7768698398515702, 0.6321205588285577, 0.6321205588285577, 0.7768698398515702]\n",
            "Media de falhas:  [0, 37073.98432, 479899.5826238746, 16478978.866665473, 77550622.90541948, 91080351.25170685, 120085754.81388997, 243100335.63237888, 265578816.5587794, 304165801.1909857, 352227162.1446584, 1833063085.1681516, 2463481225.573225]\n",
            "Custo =  116341740049.63882\n"
          ]
        },
        {
          "output_type": "stream",
          "name": "stderr",
          "text": [
            "pyswarms.single.global_best: 100%|██████████|1/1, best_cost=7.48e+10\n",
            "2023-09-10 20:14:45,953 - pyswarms.single.global_best - INFO - Optimization finished | best cost: 74810937748.53241, best pos: [2.63825301 1.2389663  3.62703099 4.32905443 4.952463   3.60248952\n",
            " 2.12150187 4.50956273 1.02913773 6.92835341 2.25878988 1.24885678\n",
            " 2.89764128 2.01918829 2.73428876 0.2491235  3.80235075 4.18824929\n",
            " 4.3360826  3.80721827 2.22802036 6.50975514 5.11786257 1.69488819]\n",
            "2023-09-10 20:14:45,954 - pyswarms.single.global_best - INFO - Optimize for 1 iters with {'c1': 0.5, 'c2': 0.3, 'w': 0.9}\n"
          ]
        },
        {
          "output_type": "stream",
          "name": "stdout",
          "text": [
            "\n",
            "=========================================================================\n",
            "\n",
            "Número de ciclos de manutenção: 12 5\n",
            "Tempos para manutenções preventivas: [0, 39, 82, 279, 319, 343, 362, 392, 424, 466, 504, 584, 665]\n",
            "Severidade para cada subsistema: [0.25, 0.5, 0.5, 0.25, 0.5, 0.5, 0.5, 0.5, 0.25, 0.5, 0.5, 0.75]\n",
            "Número de Sisemas: 5\n",
            "Fator:  [0.3296799539643607, 0.3934693402873666, 0.6321205588285577, 0.6321205588285577, 0.3934693402873666, 0.6321205588285577, 0.6321205588285577, 0.6321205588285577, 0.6321205588285577, 0.3934693402873666, 0.6321205588285577, 0.6321205588285577, 0.7768698398515702]\n",
            "Media de falhas:  [0, 28871.743680000003, 530643.2382806551, 293056154.24695873, 308305485.3541307, 319241583.44476223, 387582978.9515717, 411194851.4789639, 445598242.9554242, 513386067.1433806, 594937516.0381476, 2471902247.1936812, 3050615112.1345787, 3681033252.539652]\n",
            "Custo =  207435153660.75742\n"
          ]
        },
        {
          "output_type": "stream",
          "name": "stderr",
          "text": [
            "pyswarms.single.global_best:   0%|          |0/1, best_cost=7.48e+10"
          ]
        },
        {
          "output_type": "stream",
          "name": "stdout",
          "text": [
            "\n",
            "=========================================================================\n",
            "\n",
            "Número de ciclos de manutenção: 12 5\n",
            "Tempos para manutenções preventivas: [0, 36, 83, 169, 269, 275, 318, 352, 392, 501, 538, 609, 665]\n",
            "Severidade para cada subsistema: [0.25, 0.5, 0.75, 0.25, 0.75, 0.25, 0.5, 0.25, 0.5, 0.5, 0.75, 0.75]\n",
            "Número de Sisemas: 5\n",
            "Fator:  [0.3296799539643607, 0.3934693402873666, 0.6321205588285577, 0.7768698398515702, 0.3934693402873666, 0.7768698398515702, 0.3934693402873666, 0.6321205588285577, 0.3934693402873666, 0.6321205588285577, 0.6321205588285577, 0.7768698398515702, 0.7768698398515702]\n",
            "Media de falhas:  [0, 19349.176320000002, 599451.2889557153, 15572430.294536749, 51169391.78269653, 51321518.16248995, 140066886.48124003, 143566777.30907798, 336607647.03901666, 649726147.6400611, 1293305757.824081, 1646170755.8050253, 2016662799.107453, 2135203737.8307643]\n",
            "Custo =  164949482962.0338\n"
          ]
        },
        {
          "output_type": "stream",
          "name": "stderr",
          "text": [
            "\rpyswarms.single.global_best: 100%|██████████|1/1, best_cost=7.48e+10\n",
            "2023-09-10 20:14:45,967 - pyswarms.single.global_best - INFO - Optimization finished | best cost: 74810937748.53241, best pos: [2.63882994 1.23901203 3.62702835 4.32906178 4.9527789  0.62478539\n",
            " 2.12152235 4.51300893 3.38700926 3.27763319 2.25702336 5.63500042\n",
            " 2.89775155 2.01243012 2.73409999 2.21054524 3.80119218 4.18827304\n",
            " 4.33608634 3.8022979  6.68336222 1.65762073 5.11920881 1.69488901]\n",
            "2023-09-10 20:14:45,969 - pyswarms.single.global_best - INFO - Optimize for 1 iters with {'c1': 0.5, 'c2': 0.3, 'w': 0.9}\n",
            "pyswarms.single.global_best: 100%|██████████|1/1, best_cost=7.48e+10"
          ]
        },
        {
          "output_type": "stream",
          "name": "stdout",
          "text": [
            "\n",
            "=========================================================================\n",
            "\n",
            "Número de ciclos de manutenção: 11 5\n",
            "Tempos para manutenções preventivas: [0, 34, 83, 167, 186, 321, 356, 499, 531, 588, 621, 665]\n",
            "Severidade para cada subsistema: [0.25, 0.5, 0.5, 0.5, 0.25, 0.5, 0.5, 0.5, 0.25, 0.5, 0.75]\n",
            "Número de Sisemas: 5\n",
            "Fator:  [0.3296799539643607, 0.3934693402873666, 0.6321205588285577, 0.6321205588285577, 0.6321205588285577, 0.3934693402873666, 0.6321205588285577, 0.6321205588285577, 0.6321205588285577, 0.3934693402873666, 0.6321205588285577, 0.7768698398515702]\n",
            "Media de falhas:  [0, 14539.335680000002, 622805.6628530564, 14521972.48094594, 15319360.702045383, 126314428.7892801, 145873411.63390315, 1901873540.5989294, 1984139056.876418, 2220543456.433012, 2377221046.926739, 4166186211.3657312, 4796604351.770804]\n",
            "Custo =  302816396602.51\n"
          ]
        },
        {
          "output_type": "stream",
          "name": "stderr",
          "text": [
            "\n",
            "2023-09-10 20:14:45,982 - pyswarms.single.global_best - INFO - Optimization finished | best cost: 74810937748.53241, best pos: [2.63967411 1.239077   3.62705348 4.3290772  4.95312481 5.38962524\n",
            " 2.12155023 4.51699877 6.20476836 0.1293562  2.25514692 3.01893693\n",
            " 2.89807978 2.00339033 2.73372966 4.06838208 3.79951802 4.18828024\n",
            " 4.33609534 3.79758979 4.10107707 3.4894193  5.12093455 1.6949016 ]\n",
            "2023-09-10 20:14:45,984 - pyswarms.single.global_best - INFO - Optimize for 1 iters with {'c1': 0.5, 'c2': 0.3, 'w': 0.9}\n",
            "pyswarms.single.global_best: 100%|██████████|1/1, best_cost=7.48e+10"
          ]
        },
        {
          "output_type": "stream",
          "name": "stdout",
          "text": [
            "\n",
            "=========================================================================\n",
            "\n",
            "Número de ciclos de manutenção: 9 5\n",
            "Tempos para manutenções preventivas: [0, 33, 82, 110, 263, 327, 358, 498, 526, 664]\n",
            "Severidade para cada subsistema: [0.25, 0.5, 0.25, 0.5, 0.25, 0.5, 0.5, 0.5, 0.75]\n",
            "Número de Sisemas: 5\n",
            "Fator:  [0.3296799539643607, 0.3934693402873666, 0.6321205588285577, 0.3934693402873666, 0.6321205588285577, 0.3934693402873666, 0.6321205588285577, 0.6321205588285577, 0.6321205588285577, 0.7768698398515702]\n",
            "Media de falhas:  [0, 12523.325760000002, 593100.4191669014, 1404055.1739848717, 88101763.44113432, 233578947.30963898, 250885979.7315503, 1955638668.8698583, 2024076849.329416, 3218402766.3053236, 3860258013.881718]\n",
            "Custo =  145759422932.97028\n"
          ]
        },
        {
          "output_type": "stream",
          "name": "stderr",
          "text": [
            "\n",
            "2023-09-10 20:14:45,997 - pyswarms.single.global_best - INFO - Optimization finished | best cost: 74810937748.53241, best pos: [2.64067521 1.23915429 3.62709104 4.32909524 4.95371009 3.29788586\n",
            " 2.12158213 4.52140407 1.59105895 4.5079674  2.25293064 0.67725206\n",
            " 2.89842583 1.99327658 2.73336051 5.51764081 3.79793439 4.18822664\n",
            " 4.33610841 3.79058545 1.70205797 4.80510555 5.12371505 1.69491854]\n",
            "2023-09-10 20:14:45,999 - pyswarms.single.global_best - INFO - Optimize for 1 iters with {'c1': 0.5, 'c2': 0.3, 'w': 0.9}\n",
            "pyswarms.single.global_best: 100%|██████████|1/1, best_cost=7.48e+10\n",
            "2023-09-10 20:14:46,011 - pyswarms.single.global_best - INFO - Optimization finished | best cost: 74810937748.53241, best pos: [2.6416112  1.2392246  3.62713833 4.32911492 4.9544469  1.79710141\n",
            " 2.12160991 4.52514048 4.49440492 2.13156517 2.24938773 5.69609247\n",
            " 2.89882843 1.9845232  2.7330384  6.24192326 3.79651829 4.18813541\n",
            " 4.33612156 3.78352947 6.83218905 5.79451747 5.12786862 1.69494175]\n",
            "2023-09-10 20:14:46,013 - pyswarms.single.global_best - INFO - Optimize for 1 iters with {'c1': 0.5, 'c2': 0.3, 'w': 0.9}\n"
          ]
        },
        {
          "output_type": "stream",
          "name": "stdout",
          "text": [
            "\n",
            "=========================================================================\n",
            "\n",
            "Número de ciclos de manutenção: 9 5\n",
            "Tempos para manutenções preventivas: [0, 32, 81, 110, 156, 250, 354, 497, 526, 664]\n",
            "Severidade para cada subsistema: [0.25, 0.5, 0.5, 0.25, 0.25, 0.5, 0.5, 0.5, 0.75]\n",
            "Número de Sisemas: 5\n",
            "Fator:  [0.3296799539643607, 0.3934693402873666, 0.6321205588285577, 0.6321205588285577, 0.3934693402873666, 0.3934693402873666, 0.6321205588285577, 0.6321205588285577, 0.6321205588285577, 0.7768698398515702]\n",
            "Media de falhas:  [0, 10737.41824, 564628.6814841488, 1404600.649961499, 2916537.5822547553, 28163614.995049644, 351838700.30426437, 2080015769.6986728, 2151138917.591498, 3345464834.5674057, 3987320082.1438003]\n",
            "Custo =  145486442298.4083\n"
          ]
        },
        {
          "output_type": "stream",
          "name": "stderr",
          "text": [
            "pyswarms.single.global_best: 100%|██████████|1/1, best_cost=7.48e+10\n",
            "2023-09-10 20:14:46,027 - pyswarms.single.global_best - INFO - Optimization finished | best cost: 74810937748.53241, best pos: [2.64245837 1.23928726 3.62718334 4.32913757 4.95512157 0.73906244\n",
            " 2.12163486 4.52747854 0.72007802 0.15304717 2.2457572  3.88413969\n",
            " 2.89919496 1.97964422 2.73278629 5.99707313 3.79569726 4.18804635\n",
            " 4.33613304 3.77728798 4.51200156 5.39541564 5.13237729 1.69496992]\n",
            "2023-09-10 20:14:46,028 - pyswarms.single.global_best - INFO - Optimize for 1 iters with {'c1': 0.5, 'c2': 0.3, 'w': 0.9}\n"
          ]
        },
        {
          "output_type": "stream",
          "name": "stdout",
          "text": [
            "\n",
            "=========================================================================\n",
            "\n",
            "Número de ciclos de manutenção: 13 5\n",
            "Tempos para manutenções preventivas: [0, 32, 80, 110, 158, 348, 401, 467, 498, 531, 574, 640, 663, 716]\n",
            "Severidade para cada subsistema: [0.25, 0.5, 0.75, 0.25, 0.5, 0.25, 0.5, 0.5, 0.5, 0.25, 0.5, 0.75, 0.25]\n",
            "Número de Sisemas: 5\n",
            "Fator:  [0.3296799539643607, 0.3934693402873666, 0.6321205588285577, 0.7768698398515702, 0.3934693402873666, 0.6321205588285577, 0.3934693402873666, 0.6321205588285577, 0.6321205588285577, 0.6321205588285577, 0.3934693402873666, 0.6321205588285577, 0.7768698398515702, 0.3934693402873666]\n",
            "Media de falhas:  [0, 10737.41824, 526317.8805416146, 1395500.3977450891, 3094779.363906174, 188651718.80546516, 465517832.95610535, 585178214.7162104, 982410670.8717815, 1067538958.8619803, 1222649785.0453238, 1611689081.6578562, 2552309501.8118033, 3014392168.866299, 3031776422.193372]\n",
            "Custo =  335364656091.2301\n"
          ]
        },
        {
          "output_type": "stream",
          "name": "stderr",
          "text": [
            "pyswarms.single.global_best: 100%|██████████|1/1, best_cost=7.48e+10\n",
            "2023-09-10 20:14:46,040 - pyswarms.single.global_best - INFO - Optimization finished | best cost: 74810937748.53241, best pos: [2.64316603 1.23933892 3.62721773 4.32915768 4.9557089  1.03198816\n",
            " 2.12164392 4.52878661 4.87009748 5.95091817 2.24270814 2.20415149\n",
            " 2.89943294 1.97765999 2.73260028 5.44806446 3.79520627 4.18796727\n",
            " 4.33614303 3.77356143 2.16271141 4.29627272 5.13659695 1.69499491]\n",
            "2023-09-10 20:14:46,042 - pyswarms.single.global_best - INFO - Optimize for 1 iters with {'c1': 0.5, 'c2': 0.3, 'w': 0.9}\n"
          ]
        },
        {
          "output_type": "stream",
          "name": "stdout",
          "text": [
            "\n",
            "=========================================================================\n",
            "\n",
            "Número de ciclos de manutenção: 9 5\n",
            "Tempos para manutenções preventivas: [0, 33, 78, 120, 338, 500, 537, 573, 663, 711]\n",
            "Severidade para cada subsistema: [0.25, 0.5, 0.75, 0.5, 0.5, 0.5, 0.5, 0.75, 0.25]\n",
            "Número de Sisemas: 5\n",
            "Fator:  [0.3296799539643607, 0.3934693402873666, 0.6321205588285577, 0.7768698398515702, 0.6321205588285577, 0.6321205588285577, 0.6321205588285577, 0.6321205588285577, 0.7768698398515702, 0.3934693402873666]\n",
            "Media de falhas:  [0, 12523.325760000002, 446769.64613926463, 2189106.43970893, 398287849.97950053, 638896443.663157, 739985578.9784592, 866064960.8982766, 1520838284.0282197, 1922813563.6225452, 1947269242.436203]\n",
            "Custo =  106099791144.4706\n"
          ]
        },
        {
          "output_type": "stream",
          "name": "stderr",
          "text": [
            "pyswarms.single.global_best: 100%|██████████|1/1, best_cost=7.22e+10\n",
            "2023-09-10 20:14:46,056 - pyswarms.single.global_best - INFO - Optimization finished | best cost: 72171880233.77661, best pos: [2.64354595 1.2393622  3.62723764 4.32917056 4.95605945 2.0772287\n",
            " 2.1216449  4.5293847  2.19426968 4.65465606 2.24110756 0.72104677\n",
            " 2.89950197 1.97671183 2.73248724 4.43929264 3.79563352 4.18791673\n",
            " 4.33614465 3.77306791 0.1987429  2.42914789 5.13968963 1.69501691]\n",
            "2023-09-10 20:14:46,057 - pyswarms.single.global_best - INFO - Optimize for 1 iters with {'c1': 0.5, 'c2': 0.3, 'w': 0.9}\n"
          ]
        },
        {
          "output_type": "stream",
          "name": "stdout",
          "text": [
            "\n",
            "=========================================================================\n",
            "\n",
            "Número de ciclos de manutenção: 10 5\n",
            "Tempos para manutenções preventivas: [0, 34, 77, 108, 121, 172, 479, 501, 622, 663, 706]\n",
            "Severidade para cada subsistema: [0.25, 0.5, 0.25, 0.75, 0.5, 0.75, 0.5, 0.75, 0.75, 0.25]\n",
            "Número de Sisemas: 5\n",
            "Fator:  [0.3296799539643607, 0.3934693402873666, 0.6321205588285577, 0.3934693402873666, 0.7768698398515702, 0.6321205588285577, 0.7768698398515702, 0.6321205588285577, 0.7768698398515702, 0.7768698398515702, 0.3934693402873666]\n",
            "Media de falhas:  [0, 14539.335680000002, 407009.43178738095, 1242341.358226978, 1341121.0848445962, 10189556.005408546, 1582790052.8927293, 1626329974.3274813, 1839497037.295623, 2096404182.786205, 2154935864.6731467, 2186972642.428513]\n",
            "Custo =  72171880233.77661\n"
          ]
        },
        {
          "output_type": "stream",
          "name": "stderr",
          "text": [
            "pyswarms.single.global_best: 100%|██████████|1/1, best_cost=7.22e+10\n",
            "2023-09-10 20:14:46,072 - pyswarms.single.global_best - INFO - Optimization finished | best cost: 72171880233.77661, best pos: [2.64388787 1.23938316 3.62725556 4.32918215 4.95637495 3.01794519\n",
            " 2.12164578 4.52992298 6.78602467 3.48802017 2.23966705 6.38625252\n",
            " 2.89956409 1.97585849 2.73238551 3.531398   3.79601804 4.18787124\n",
            " 4.33614611 3.77262374 5.43117124 0.74873554 5.14247305 1.69503671]\n",
            "2023-09-10 20:14:46,074 - pyswarms.single.global_best - INFO - Optimize for 1 iters with {'c1': 0.5, 'c2': 0.3, 'w': 0.9}\n"
          ]
        },
        {
          "output_type": "stream",
          "name": "stdout",
          "text": [
            "\n",
            "=========================================================================\n",
            "\n",
            "Número de ciclos de manutenção: 9 5\n",
            "Tempos para manutenções preventivas: [0, 35, 76, 104, 120, 288, 502, 628, 663, 702]\n",
            "Severidade para cada subsistema: [0.25, 0.5, 0.5, 0.75, 0.25, 0.5, 0.5, 0.75, 0.25]\n",
            "Número de Sisemas: 5\n",
            "Fator:  [0.3296799539643607, 0.3934693402873666, 0.6321205588285577, 0.6321205588285577, 0.7768698398515702, 0.3934693402873666, 0.6321205588285577, 0.6321205588285577, 0.7768698398515702, 0.3934693402873666]\n",
            "Media de falhas:  [0, 16807.0, 370689.81202543946, 1018804.6068317782, 1143068.6730385097, 138594716.1777303, 672089410.9067588, 4565187417.676714, 4780951370.608604, 5084628117.266061, 5123121525.089528]\n",
            "Custo =  198299164741.3112\n"
          ]
        },
        {
          "output_type": "stream",
          "name": "stderr",
          "text": [
            "pyswarms.single.global_best: 100%|██████████|1/1, best_cost=7.22e+10\n",
            "2023-09-10 20:14:46,088 - pyswarms.single.global_best - INFO - Optimization finished | best cost: 72171880233.77661, best pos: [2.64416892 1.23939821 3.62726911 4.32919026 4.95658001 3.71998294\n",
            " 2.12164641 4.53030293 3.5917115  2.4872297  2.23874308 3.6327486\n",
            " 2.89960994 1.97520408 2.73230425 2.86415597 3.79627617 4.18783662\n",
            " 4.3361474  3.77230065 3.01692933 6.73109693 5.14424926 1.69505142]\n",
            "2023-09-10 20:14:46,089 - pyswarms.single.global_best - INFO - Optimize for 1 iters with {'c1': 0.5, 'c2': 0.3, 'w': 0.9}\n"
          ]
        },
        {
          "output_type": "stream",
          "name": "stdout",
          "text": [
            "\n",
            "=========================================================================\n",
            "\n",
            "Número de ciclos de manutenção: 10 5\n",
            "Tempos para manutenções preventivas: [0, 37, 75, 96, 161, 263, 291, 408, 504, 663, 700]\n",
            "Severidade para cada subsistema: [0.25, 0.5, 0.75, 0.75, 0.75, 0.5, 0.25, 0.5, 0.75, 0.25]\n",
            "Número de Sisemas: 5\n",
            "Fator:  [0.3296799539643607, 0.3934693402873666, 0.6321205588285577, 0.7768698398515702, 0.7768698398515702, 0.7768698398515702, 0.6321205588285577, 0.3934693402873666, 0.6321205588285577, 0.7768698398515702, 0.3934693402873666]\n",
            "Media de falhas:  [0, 22190.06624, 331803.45383348997, 685309.0397809674, 3918678.071985759, 19871135.204687648, 21214556.790637292, 84624870.19142212, 349091256.51250315, 6428711052.2253685, 6712177800.018312, 6754036819.252003]\n",
            "Custo =  203478779177.3838\n"
          ]
        },
        {
          "output_type": "stream",
          "name": "stderr",
          "text": [
            "pyswarms.single.global_best: 100%|██████████|1/1, best_cost=7.22e+10\n",
            "2023-09-10 20:14:46,104 - pyswarms.single.global_best - INFO - Optimization finished | best cost: 72171880233.77661, best pos: [2.6444101  1.23940281 3.62727485 4.32919322 4.95663304 4.14330658\n",
            " 2.1216467  4.53057647 0.64090015 2.06348554 2.23810349 0.33048155\n",
            " 2.89962087 1.97482746 2.73224197 2.68166978 3.79645174 4.18781012\n",
            " 4.33614776 3.77222482 0.03056794 4.53022263 5.1445672  1.69506453]\n",
            "2023-09-10 20:14:46,106 - pyswarms.single.global_best - INFO - Optimize for 1 iters with {'c1': 0.5, 'c2': 0.3, 'w': 0.9}\n"
          ]
        },
        {
          "output_type": "stream",
          "name": "stdout",
          "text": [
            "\n",
            "=========================================================================\n",
            "\n",
            "Número de ciclos de manutenção: 10 5\n",
            "Tempos para manutenções preventivas: [0, 39, 76, 174, 293, 340, 460, 505, 658, 663, 701]\n",
            "Severidade para cada subsistema: [0.25, 0.5, 0.75, 0.75, 0.25, 0.25, 0.5, 0.5, 0.75, 0.25]\n",
            "Número de Sisemas: 5\n",
            "Fator:  [0.3296799539643607, 0.3934693402873666, 0.6321205588285577, 0.7768698398515702, 0.7768698398515702, 0.3934693402873666, 0.3934693402873666, 0.6321205588285577, 0.6321205588285577, 0.7768698398515702, 0.3934693402873666]\n",
            "Media de falhas:  [0, 28871.743680000003, 346151.56877903553, 20159468.009605207, 85511164.8614324, 90864058.87932353, 182301313.34443498, 783916120.5333388, 6461871044.311534, 6490496712.453617, 6783996769.981523, 6824161282.571217]\n",
            "Custo =  267801489134.73163\n"
          ]
        },
        {
          "output_type": "stream",
          "name": "stderr",
          "text": [
            "pyswarms.single.global_best: 100%|██████████|1/1, best_cost=7.22e+10\n",
            "2023-09-10 20:14:46,118 - pyswarms.single.global_best - INFO - Optimization finished | best cost: 72171880233.77661, best pos: [2.6444963  1.23939616 3.62727754 4.32919347 4.95664631 4.02379082\n",
            " 2.12164664 4.53080618 5.26783338 1.80600477 2.23761754 4.45978759\n",
            " 2.8996243  1.9746637  2.73220289 2.65107972 3.79638307 4.18781183\n",
            " 4.33614788 3.77216942 4.35606176 1.96708093 5.14425172 1.69506389]\n",
            "2023-09-10 20:14:46,120 - pyswarms.single.global_best - INFO - Optimize for 1 iters with {'c1': 0.5, 'c2': 0.3, 'w': 0.9}\n"
          ]
        },
        {
          "output_type": "stream",
          "name": "stdout",
          "text": [
            "\n",
            "=========================================================================\n",
            "\n",
            "Número de ciclos de manutenção: 10 5\n",
            "Tempos para manutenções preventivas: [0, 40, 76, 178, 362, 506, 590, 615, 635, 664, 703]\n",
            "Severidade para cada subsistema: [0.25, 0.5, 0.75, 0.5, 0.5, 0.5, 0.75, 0.5, 0.75, 0.25]\n",
            "Número de Sisemas: 5\n",
            "Fator:  [0.3296799539643607, 0.3934693402873666, 0.6321205588285577, 0.7768698398515702, 0.6321205588285577, 0.6321205588285577, 0.6321205588285577, 0.7768698398515702, 0.6321205588285577, 0.7768698398515702, 0.3934693402873666]\n",
            "Media de falhas:  [0, 32768.0, 341222.7033300746, 23071294.149579164, 331965251.9960154, 514464661.41677916, 903360536.9174588, 1015080148.0389435, 1115117122.246844, 1143205938.5514696, 1448573506.2028964, 1485418897.7264187]\n",
            "Custo =  109767470946.28038\n"
          ]
        },
        {
          "output_type": "stream",
          "name": "stderr",
          "text": [
            "pyswarms.single.global_best: 100%|██████████|1/1, best_cost=7.22e+10\n",
            "2023-09-10 20:14:46,132 - pyswarms.single.global_best - INFO - Optimization finished | best cost: 72171880233.77661, best pos: [2.64453235 1.23938636 3.62727428 4.32918984 4.95659907 3.88587355\n",
            " 2.12164655 4.5308147  2.29360817 2.09450793 2.23796234 1.74466101\n",
            " 2.89959736 1.97482579 2.73222503 2.77662554 3.79627407 4.18783705\n",
            " 4.33614797 3.77228223 1.85792032 6.7794572  5.14378727 1.69505754]\n",
            "2023-09-10 20:14:46,134 - pyswarms.single.global_best - INFO - Optimize for 1 iters with {'c1': 0.5, 'c2': 0.3, 'w': 0.9}\n"
          ]
        },
        {
          "output_type": "stream",
          "name": "stdout",
          "text": [
            "\n",
            "=========================================================================\n",
            "\n",
            "Número de ciclos de manutenção: 12 5\n",
            "Tempos para manutenções preventivas: [0, 40, 77, 103, 161, 258, 365, 412, 506, 575, 613, 664, 706]\n",
            "Severidade para cada subsistema: [0.25, 0.5, 0.25, 0.75, 0.25, 0.5, 0.25, 0.5, 0.75, 0.5, 0.75, 0.25]\n",
            "Número de Sisemas: 5\n",
            "Fator:  [0.3296799539643607, 0.3934693402873666, 0.6321205588285577, 0.3934693402873666, 0.7768698398515702, 0.3934693402873666, 0.6321205588285577, 0.3934693402873666, 0.6321205588285577, 0.7768698398515702, 0.6321205588285577, 0.7768698398515702, 0.3934693402873666]\n",
            "Media de falhas:  [0, 32768.0, 366934.965280569, 945826.5301964711, 3515323.3431570553, 90094547.75183833, 128517486.704619, 403934429.148902, 664094083.0191352, 2194601456.864569, 2368655009.7883863, 2428046211.1720047, 2764982294.7715178, 2797019072.526884]\n",
            "Custo =  188955922296.75876\n"
          ]
        },
        {
          "output_type": "stream",
          "name": "stderr",
          "text": [
            "pyswarms.single.global_best: 100%|██████████|1/1, best_cost=7.22e+10\n",
            "2023-09-10 20:14:46,147 - pyswarms.single.global_best - INFO - Optimization finished | best cost: 72171880233.77661, best pos: [2.64433787 1.23937246 3.62726736 4.32918214 4.95644065 3.37613452\n",
            " 2.12164616 4.53068546 6.59611797 2.81154563 2.2387218  6.28867229\n",
            " 2.89956025 1.97523216 2.73226069 3.01174304 3.79614872 4.18787904\n",
            " 4.33614747 3.77239327 6.53512891 3.79018454 5.14238741 1.69504471]\n",
            "2023-09-10 20:14:46,148 - pyswarms.single.global_best - INFO - Optimize for 1 iters with {'c1': 0.5, 'c2': 0.3, 'w': 0.9}\n"
          ]
        },
        {
          "output_type": "stream",
          "name": "stdout",
          "text": [
            "\n",
            "=========================================================================\n",
            "\n",
            "Número de ciclos de manutenção: 10 5\n",
            "Tempos para manutenções preventivas: [0, 40, 78, 194, 331, 366, 478, 506, 647, 664, 709]\n",
            "Severidade para cada subsistema: [0.25, 0.5, 0.75, 0.75, 0.5, 0.75, 0.5, 0.25, 0.75, 0.25]\n",
            "Número de Sisemas: 5\n",
            "Fator:  [0.3296799539643607, 0.3934693402873666, 0.6321205588285577, 0.7768698398515702, 0.7768698398515702, 0.6321205588285577, 0.7768698398515702, 0.6321205588285577, 0.3934693402873666, 0.7768698398515702, 0.3934693402873666]\n",
            "Media de falhas:  [0, 32768.0, 394310.474188844, 37489603.94060942, 162590215.67044297, 166778189.95253575, 252795005.56184265, 311623507.4909626, 643425882.8886402, 744117887.3672897, 3111561798.131669, 3138986720.7514725]\n",
            "Custo =  265696105805.87216\n"
          ]
        },
        {
          "output_type": "stream",
          "name": "stderr",
          "text": [
            "pyswarms.single.global_best: 100%|██████████|1/1, best_cost=7.22e+10\n",
            "2023-09-10 20:14:46,161 - pyswarms.single.global_best - INFO - Optimization finished | best cost: 72171880233.77661, best pos: [2.64407136 1.23935915 3.62725467 4.32917505 4.95622082 2.7514048\n",
            " 2.1216456  4.53039588 3.22913314 3.69872329 2.24000691 3.82723363\n",
            " 2.89952135 1.97573282 2.73231567 3.28216354 3.7959177  4.18792469\n",
            " 4.33614693 3.77262295 4.28360935 1.01047922 5.14064426 1.69502656]\n"
          ]
        },
        {
          "output_type": "stream",
          "name": "stdout",
          "text": [
            "\n",
            "=========================================================================\n",
            "\n",
            "Número de ciclos de manutenção: 11 5\n",
            "Tempos para manutenções preventivas: [0, 39, 78, 116, 190, 366, 418, 505, 614, 630, 664, 712]\n",
            "Severidade para cada subsistema: [0.25, 0.5, 0.5, 0.25, 0.5, 0.5, 0.5, 0.75, 0.25, 0.75, 0.25]\n",
            "Número de Sisemas: 5\n",
            "Fator:  [0.3296799539643607, 0.3934693402873666, 0.6321205588285577, 0.6321205588285577, 0.3934693402873666, 0.6321205588285577, 0.6321205588285577, 0.6321205588285577, 0.7768698398515702, 0.3934693402873666, 0.7768698398515702, 0.3934693402873666]\n",
            "Media de falhas:  [0, 28871.743680000003, 400344.6803528751, 1770393.1799458906, 8643746.232544275, 295794691.66293514, 617394614.5806518, 848817434.6831926, 1490252729.184828, 1567026433.4635837, 1601344339.7333617, 4164289938.792089, 4187291714.048566]\n",
            "Custo =  307921595745.4268\n"
          ]
        },
        {
          "output_type": "stream",
          "name": "stderr",
          "text": [
            "2023-09-10 20:14:46,163 - pyswarms.single.global_best - INFO - Optimize for 1 iters with {'c1': 0.5, 'c2': 0.3, 'w': 0.9}\n",
            "pyswarms.single.global_best:   0%|          |0/1"
          ]
        },
        {
          "output_type": "stream",
          "name": "stdout",
          "text": [
            "\n",
            "=========================================================================\n",
            "\n",
            "Número de ciclos de manutenção: 14 5\n",
            "Tempos para manutenções preventivas: [0, 38, 79, 91, 170, 271, 329, 363, 400, 420, 458, 504, 609, 664, 714]\n",
            "Severidade para cada subsistema: [0.25, 0.5, 0.75, 0.25, 0.25, 0.25, 0.5, 0.25, 0.5, 0.25, 0.5, 0.5, 0.75, 0.25]\n",
            "Número de Sisemas: 5\n",
            "Fator: "
          ]
        },
        {
          "output_type": "stream",
          "name": "stderr",
          "text": [
            "pyswarms.single.global_best: 100%|██████████|1/1, best_cost=7.22e+10\n",
            "2023-09-10 20:14:46,344 - pyswarms.single.global_best - INFO - Optimization finished | best cost: 72171880233.77661, best pos: [2.64375133 1.23934761 3.62724086 4.32916849 4.95598559 2.12700268\n",
            " 2.12164488 4.53009774 6.92952629 4.64226644 2.24146296 1.33216227\n",
            " 2.89948295 1.97646898 2.73238451 3.86335737 3.79565344 4.18796486\n",
            " 4.33614617 3.77284016 1.12473232 5.7981276  5.13906121 1.69500944]\n",
            "2023-09-10 20:14:46,345 - pyswarms.single.global_best - INFO - Optimize for 1 iters with {'c1': 0.5, 'c2': 0.3, 'w': 0.9}\n"
          ]
        },
        {
          "output_type": "stream",
          "name": "stdout",
          "text": [
            " [0.3296799539643607, 0.3934693402873666, 0.6321205588285577, 0.7768698398515702, 0.3934693402873666, 0.3934693402873666, 0.3934693402873666, 0.6321205588285577, 0.3934693402873666, 0.6321205588285577, 0.3934693402873666, 0.6321205588285577, 0.6321205588285577, 0.7768698398515702, 0.3934693402873666]\n",
            "Media de falhas:  [0, 25355.253760000003, 437211.4203533252, 603479.2062018864, 6350643.311967902, 22889444.3995018, 158487645.67538452, 279587579.5085945, 473992960.9959306, 493668717.1891902, 838368715.583282, 940186186.1160558, 3824738763.795087, 4185460914.750057, 4613303544.182087, 4633457507.878606]\n",
            "Custo =  270120733081.77347\n"
          ]
        },
        {
          "output_type": "stream",
          "name": "stderr",
          "text": [
            "pyswarms.single.global_best: 100%|██████████|1/1, best_cost=7.22e+10\n",
            "2023-09-10 20:14:46,356 - pyswarms.single.global_best - INFO - Optimization finished | best cost: 72171880233.77661, best pos: [2.64343137 1.2393375  3.62722793 4.329163   4.95579365 1.55760718\n",
            " 2.12164425 4.52961564 3.84668234 5.49403777 2.24273917 6.01119987\n",
            " 2.89945154 1.97714294 2.732473   4.43896157 3.79541328 4.18800075\n",
            " 4.33614523 3.77303757 5.26763089 3.1496318  5.13771203 1.69499422]\n",
            "2023-09-10 20:14:46,358 - pyswarms.single.global_best - INFO - Optimize for 1 iters with {'c1': 0.5, 'c2': 0.3, 'w': 0.9}\n"
          ]
        },
        {
          "output_type": "stream",
          "name": "stdout",
          "text": [
            "\n",
            "=========================================================================\n",
            "\n",
            "Número de ciclos de manutenção: 13 5\n",
            "Tempos para manutenções preventivas: [0, 37, 80, 118, 246, 329, 356, 361, 421, 450, 503, 586, 664, 716]\n",
            "Severidade para cada subsistema: [0.25, 0.5, 0.75, 0.75, 0.25, 0.5, 0.5, 0.5, 0.5, 0.5, 0.75, 0.75, 0.25]\n",
            "Número de Sisemas: 5\n",
            "Fator:  [0.3296799539643607, 0.3934693402873666, 0.6321205588285577, 0.7768698398515702, 0.7768698398515702, 0.3934693402873666, 0.6321205588285577, 0.6321205588285577, 0.6321205588285577, 0.6321205588285577, 0.6321205588285577, 0.7768698398515702, 0.7768698398515702, 0.3934693402873666]\n",
            "Media de falhas:  [0, 22190.06624, 477706.06832863926, 1943284.8704702144, 49244819.6568226, 65037335.75436158, 67621232.69106606, 85835531.63756427, 157874158.80012608, 196623314.62374777, 316373546.9587491, 689715281.2279234, 1238573390.138983, 1318535099.1447268, 1335919352.4717996]\n",
            "Custo =  93834355342.19647\n"
          ]
        },
        {
          "output_type": "stream",
          "name": "stderr",
          "text": [
            "pyswarms.single.global_best: 100%|██████████|1/1, best_cost=7.22e+10\n",
            "2023-09-10 20:14:46,376 - pyswarms.single.global_best - INFO - Optimization finished | best cost: 72171880233.77661, best pos: [2.64317134 1.23933208 3.62721802 4.32915966 4.9556296  1.09172234\n",
            " 2.1216438  4.5291802  1.03150474 6.16567818 2.24361898 3.69316708\n",
            " 2.89943334 1.97770424 2.73255521 4.95709851 3.79521607 4.188027\n",
            " 4.33614436 3.77321897 2.17524967 0.55078524 5.13699864 1.69498435]\n"
          ]
        },
        {
          "output_type": "stream",
          "name": "stdout",
          "text": [
            "\n",
            "=========================================================================\n",
            "\n",
            "Número de ciclos de manutenção: 11 5\n",
            "Tempos para manutenções preventivas: [0, 37, 80, 240, 329, 408, 421, 503, 539, 620, 664, 717]\n",
            "Severidade para cada subsistema: [0.25, 0.5, 0.5, 0.25, 0.5, 0.5, 0.5, 0.5, 0.75, 0.75, 0.25]\n",
            "Número de Sisemas: 5\n",
            "Fator:  [0.3296799539643607, 0.3934693402873666, 0.6321205588285577, 0.6321205588285577, 0.3934693402873666, 0.6321205588285577, 0.6321205588285577, 0.6321205588285577, 0.6321205588285577, 0.7768698398515702, 0.7768698398515702, 0.3934693402873666]\n",
            "Media de falhas:  [0, 22190.06624, 477706.06832863926, 126549432.27576141, 180883688.69810122, 275055423.73723185, 361696551.12447435, 571833474.8772911, 671272320.3314043, 1116938658.2098489, 1396579369.3630311, 1479134988.8477352, 1495162974.244381]\n",
            "Custo =  116957293489.98692\n"
          ]
        },
        {
          "output_type": "stream",
          "name": "stderr",
          "text": [
            "2023-09-10 20:14:46,378 - pyswarms.single.global_best - INFO - Optimize for 1 iters with {'c1': 0.5, 'c2': 0.3, 'w': 0.9}\n",
            "pyswarms.single.global_best:   0%|          |0/1, best_cost=7.22e+10"
          ]
        },
        {
          "output_type": "stream",
          "name": "stdout",
          "text": [
            "\n",
            "=========================================================================\n",
            "\n",
            "Número de ciclos de manutenção: 12 5\n",
            "Tempos para manutenções preventivas: [0, 36, 80, 181, 295, 334, 400, 502, 538, 598, 637, 664, 717]\n",
            "Severidade para cada subsistema: [0.25, 0.5, 0.25, 0.75, 0.75, 0.25, 0.5, 0.5, 0.5, 0.25, 0.75, 0.25]\n",
            "Número de Sisemas: 5\n",
            "Fator:  [0.3296799539643607, 0.3934693402873666, 0.6321205588285577, 0.3934693402873666, 0.7768698398515702, 0.7768698398515702, 0.3934693402873666, 0.6321205588285577, 0.6321205588285577, 0.6321205588285577, 0.3934693402873666, 0.7768698398515702, 0.3934693402873666]\n",
            "Media de falhas:  [0, 19349.176320000002, 486506.1128180088, 24316075.628554624, 85354378.93046491, 183959648.662421, 200759781.62358755, 280827962.449186, 907620168.3506153, 1175668640.0975256, 1383672922.2785938, 1547631474.8087075, 4448187132.735371, 4464215118.132016]\n",
            "Custo =  374380493750.8629\n"
          ]
        },
        {
          "output_type": "stream",
          "name": "stderr",
          "text": [
            "\rpyswarms.single.global_best: 100%|██████████|1/1, best_cost=7.22e+10\n",
            "2023-09-10 20:14:46,391 - pyswarms.single.global_best - INFO - Optimization finished | best cost: 72171880233.77661, best pos: [2.64299288 1.23933558 3.62720941 4.3291593  4.95549373 0.68020243\n",
            " 2.12164357 4.52882957 5.50002775 6.66452445 2.24372159 1.35900847\n",
            " 2.89943583 1.97803027 2.73262157 5.4095989  3.79515846 4.18802983\n",
            " 4.33614359 3.77335483 6.07770192 5.47016304 5.13654314 1.69498045]\n",
            "2023-09-10 20:14:46,394 - pyswarms.single.global_best - INFO - Optimize for 1 iters with {'c1': 0.5, 'c2': 0.3, 'w': 0.9}\n",
            "pyswarms.single.global_best: 100%|██████████|1/1, best_cost=7.22e+10\n",
            "2023-09-10 20:14:46,412 - pyswarms.single.global_best - INFO - Optimization finished | best cost: 72171880233.77661, best pos: [2.64297141 1.2393466  3.62720943 4.32916093 4.95549721 0.4904616\n",
            " 2.12164342 4.52865068 2.62420536 6.68675701 2.24351194 6.20461969\n",
            " 2.89943831 1.97831459 2.73267132 5.81363057 3.79522187 4.18801776\n",
            " 4.33614293 3.77344607 2.77252615 3.05006205 5.13644735 1.6949836 ]\n",
            "2023-09-10 20:14:46,421 - pyswarms.single.global_best - INFO - Optimize for 1 iters with {'c1': 0.5, 'c2': 0.3, 'w': 0.9}\n"
          ]
        },
        {
          "output_type": "stream",
          "name": "stdout",
          "text": [
            "\n",
            "=========================================================================\n",
            "\n",
            "Número de ciclos de manutenção: 9 5\n",
            "Tempos para manutenções preventivas: [0, 35, 80, 451, 502, 538, 574, 656, 663, 715]\n",
            "Severidade para cada subsistema: [0.25, 0.5, 0.25, 0.5, 0.5, 0.5, 0.25, 0.75, 0.25]\n",
            "Número de Sisemas: 5\n",
            "Fator:  [0.3296799539643607, 0.3934693402873666, 0.6321205588285577, 0.3934693402873666, 0.6321205588285577, 0.6321205588285577, 0.6321205588285577, 0.3934693402873666, 0.7768698398515702, 0.3934693402873666]\n",
            "Media de falhas:  [0, 16807.0, 495784.44022600644, 4158807432.882386, 4272244742.156523, 4899036948.057953, 5025973297.190712, 5584561334.564647, 5624818790.046684, 8440724297.678444, 8459483784.286919]\n",
            "Custo =  409385811750.3904\n"
          ]
        },
        {
          "output_type": "stream",
          "name": "stderr",
          "text": [
            "pyswarms.single.global_best: 100%|██████████|1/1, best_cost=7.22e+10\n",
            "2023-09-10 20:14:46,439 - pyswarms.single.global_best - INFO - Optimization finished | best cost: 72171880233.77661, best pos: [2.64305958 1.23935777 3.62721662 4.32916443 4.95550136 0.52193762\n",
            " 2.12164338 4.52868577 6.99743199 6.64026726 2.24283871 3.40929768\n",
            " 2.89945836 1.97841524 2.73269492 5.83355949 3.79533457 4.18800496\n",
            " 4.33614266 3.77344753 6.2373635  0.85515534 5.13706842 1.69499233]\n",
            "2023-09-10 20:14:46,446 - pyswarms.single.global_best - INFO - Optimize for 1 iters with {'c1': 0.5, 'c2': 0.3, 'w': 0.9}\n"
          ]
        },
        {
          "output_type": "stream",
          "name": "stdout",
          "text": [
            "\n",
            "=========================================================================\n",
            "\n",
            "Número de ciclos de manutenção: 9 5\n",
            "Tempos para manutenções preventivas: [0, 35, 80, 102, 201, 501, 538, 608, 663, 714]\n",
            "Severidade para cada subsistema: [0.25, 0.5, 0.75, 0.25, 0.5, 0.5, 0.5, 0.75, 0.25]\n",
            "Número de Sisemas: 5\n",
            "Fator:  [0.3296799539643607, 0.3934693402873666, 0.6321205588285577, 0.7768698398515702, 0.3934693402873666, 0.6321205588285577, 0.6321205588285577, 0.6321205588285577, 0.7768698398515702, 0.3934693402873666]\n",
            "Media de falhas:  [0, 16807.0, 495784.44022600644, 967908.4685249329, 16121254.60771667, 1576678467.1416676, 2220258077.3256874, 2564817362.4131336, 2923458491.045701, 3361007424.2257347, 3381161387.9222536]\n",
            "Custo =  176254346050.6913\n"
          ]
        },
        {
          "output_type": "stream",
          "name": "stderr",
          "text": [
            "pyswarms.single.global_best: 100%|██████████|1/1, best_cost=7.22e+10\n",
            "2023-09-10 20:14:46,467 - pyswarms.single.global_best - INFO - Optimization finished | best cost: 72171880233.77661, best pos: [2.64326028 1.23936842 3.62722734 4.32916907 4.95557402 0.66547083\n",
            " 2.1216438  4.52889367 3.68621711 6.04918411 2.24181943 0.57920757\n",
            " 2.89948373 1.97847738 2.73267858 5.52556761 3.79547261 4.18797606\n",
            " 4.33614264 3.77344346 2.134969   6.18102632 5.13780598 1.69500175]\n",
            "2023-09-10 20:14:46,473 - pyswarms.single.global_best - INFO - Optimize for 1 iters with {'c1': 0.5, 'c2': 0.3, 'w': 0.9}\n"
          ]
        },
        {
          "output_type": "stream",
          "name": "stdout",
          "text": [
            "\n",
            "=========================================================================\n",
            "\n",
            "Número de ciclos de manutenção: 11 5\n",
            "Tempos para manutenções preventivas: [0, 35, 79, 159, 204, 279, 340, 501, 598, 636, 663, 712]\n",
            "Severidade para cada subsistema: [0.25, 0.5, 0.5, 0.75, 0.25, 0.5, 0.5, 0.25, 0.5, 0.75, 0.25]\n",
            "Número de Sisemas: 5\n",
            "Fator:  [0.3296799539643607, 0.3934693402873666, 0.6321205588285577, 0.6321205588285577, 0.7768698398515702, 0.3934693402873666, 0.6321205588285577, 0.6321205588285577, 0.3934693402873666, 0.6321205588285577, 0.7768698398515702, 0.3934693402873666]\n",
            "Media de falhas:  [0, 16807.0, 461648.55334176944, 11339875.409672074, 14920045.04187879, 38496690.21536002, 47299619.31015767, 2064853088.8451397, 2560509157.5790067, 2761369940.1289287, 3861567640.717016, 4275239426.9767118, 4298241202.233189]\n",
            "Custo =  296320273998.59296\n"
          ]
        },
        {
          "output_type": "stream",
          "name": "stderr",
          "text": [
            "pyswarms.single.global_best: 100%|██████████|1/1, best_cost=7.22e+10\n",
            "2023-09-10 20:14:46,494 - pyswarms.single.global_best - INFO - Optimization finished | best cost: 72171880233.77661, best pos: [2.64351101 1.2393777  3.62723994 4.32917331 4.95569147 0.90544978\n",
            " 2.12164429 4.52918535 0.30395728 5.41910352 2.24086929 5.07179044\n",
            " 2.89950658 1.97845112 2.73263416 5.21159115 3.79561815 4.18793662\n",
            " 4.33614267 3.77340308 5.12271241 4.16232417 5.13868079 1.69501441]\n",
            "2023-09-10 20:14:46,496 - pyswarms.single.global_best - INFO - Optimize for 1 iters with {'c1': 0.5, 'c2': 0.3, 'w': 0.9}\n"
          ]
        },
        {
          "output_type": "stream",
          "name": "stdout",
          "text": [
            "\n",
            "=========================================================================\n",
            "\n",
            "Número de ciclos de manutenção: 9 5\n",
            "Tempos para manutenções preventivas: [0, 35, 79, 114, 175, 502, 589, 652, 663, 711]\n",
            "Severidade para cada subsistema: [0.25, 0.5, 0.5, 0.25, 0.5, 0.25, 0.5, 0.75, 0.25]\n",
            "Número de Sisemas: 5\n",
            "Fator:  [0.3296799539643607, 0.3934693402873666, 0.6321205588285577, 0.6321205588285577, 0.3934693402873666, 0.6321205588285577, 0.3934693402873666, 0.6321205588285577, 0.7768698398515702, 0.3934693402873666]\n",
            "Media de falhas:  [0, 16807.0, 461648.55334176944, 1634944.5137278326, 5292001.287821433, 2943514820.176464, 5048429527.689778, 5443185162.386365, 5898248201.97447, 6300223481.568796, 6324679160.382454]\n",
            "Custo =  362323334467.0366\n"
          ]
        },
        {
          "output_type": "stream",
          "name": "stderr",
          "text": [
            "pyswarms.single.global_best: 100%|██████████|1/1, best_cost=7.22e+10\n",
            "2023-09-10 20:14:46,521 - pyswarms.single.global_best - INFO - Optimization finished | best cost: 72171880233.77661, best pos: [2.64373746 1.23938361 3.6272507  4.32917674 4.95590068 1.24464978\n",
            " 2.12164479 4.52946418 4.63093631 4.7594291  2.24003353 1.5278413\n",
            " 2.89952647 1.97834532 2.73255969 4.91359073 3.79575132 4.18790003\n",
            " 4.33614326 3.77336457 0.97733169 2.21517106 5.13974856 1.69502591]\n",
            "2023-09-10 20:14:46,527 - pyswarms.single.global_best - INFO - Optimize for 1 iters with {'c1': 0.5, 'c2': 0.3, 'w': 0.9}\n"
          ]
        },
        {
          "output_type": "stream",
          "name": "stdout",
          "text": [
            "\n",
            "=========================================================================\n",
            "\n",
            "Número de ciclos de manutenção: 12 5\n",
            "Tempos para manutenções preventivas: [0, 36, 78, 97, 268, 270, 339, 414, 502, 590, 659, 663, 709]\n",
            "Severidade para cada subsistema: [0.25, 0.5, 0.5, 0.75, 0.5, 0.5, 0.75, 0.5, 0.25, 0.5, 0.75, 0.25]\n",
            "Número de Sisemas: 5\n",
            "Fator:  [0.3296799539643607, 0.3934693402873666, 0.6321205588285577, 0.6321205588285577, 0.7768698398515702, 0.6321205588285577, 0.6321205588285577, 0.7768698398515702, 0.6321205588285577, 0.3934693402873666, 0.6321205588285577, 0.7768698398515702, 0.3934693402873666]\n",
            "Media de falhas:  [0, 19349.176320000002, 421485.86197596684, 755875.7727668849, 121431860.48491408, 121746729.5215738, 133033179.89039029, 225042501.53488573, 455231310.9703027, 552017996.6153907, 1010715819.2766728, 1177373315.4206934, 1556431507.198052, 1583856429.8178556]\n",
            "Custo =  255421444806.12604\n"
          ]
        },
        {
          "output_type": "stream",
          "name": "stderr",
          "text": [
            "pyswarms.single.global_best: 100%|██████████|1/1, best_cost=7.22e+10\n",
            "2023-09-10 20:14:46,547 - pyswarms.single.global_best - INFO - Optimization finished | best cost: 72171880233.77661, best pos: [2.64390087 1.23938699 3.62725739 4.32917867 4.95610767 1.69585241\n",
            " 2.12164525 4.52970256 2.09024233 4.14306893 2.23936731 5.10374621\n",
            " 2.89954111 1.97776846 2.7324738  4.58546186 3.79584273 4.18786767\n",
            " 4.3361438  3.77332547 4.1793287  0.51224703 5.14070804 1.6950349 ]\n"
          ]
        },
        {
          "output_type": "stream",
          "name": "stdout",
          "text": [
            "\n",
            "=========================================================================\n",
            "\n",
            "Número de ciclos de manutenção: 8 5\n",
            "Tempos para manutenções preventivas: [0, 37, 78, 181, 256, 401, 503, 663, 708]\n",
            "Severidade para cada subsistema: [0.25, 0.5, 0.75, 0.5, 0.5, 0.5, 0.75, 0.25]\n",
            "Número de Sisemas: 5\n",
            "Fator:  [0.3296799539643607, 0.3934693402873666, 0.6321205588285577, 0.7768698398515702, 0.6321205588285577, 0.6321205588285577, 0.6321205588285577, 0.7768698398515702, 0.3934693402873666]\n",
            "Media de falhas:  [0, 22190.06624, 413953.4060477435, 24889758.445148565, 42678563.187213674, 150430974.1258132, 437584063.51790327, 1933173224.5525594, 2301007585.552299, 2329948432.2914286]\n",
            "Custo =  91521347864.572\n"
          ]
        },
        {
          "output_type": "stream",
          "name": "stderr",
          "text": [
            "2023-09-10 20:14:46,550 - pyswarms.single.global_best - INFO - Optimize for 1 iters with {'c1': 0.5, 'c2': 0.3, 'w': 0.9}\n",
            "pyswarms.single.global_best: 100%|██████████|1/1, best_cost=7.22e+10\n",
            "2023-09-10 20:14:46,571 - pyswarms.single.global_best - INFO - Optimization finished | best cost: 72171880233.77661, best pos: [2.64395904 1.23938429 3.62725851 4.32917839 4.9562918  2.12518348\n",
            " 2.12164561 4.52984297 6.81963956 3.66651705 2.23890138 1.60528685\n",
            " 2.89954488 1.97703711 2.73239727 4.27142873 3.79586356 4.18784787\n",
            " 4.33614454 3.77323181 6.86725462 6.19138247 5.14140571 1.69504281]\n"
          ]
        },
        {
          "output_type": "stream",
          "name": "stdout",
          "text": [
            "\n",
            "=========================================================================\n",
            "\n",
            "Número de ciclos de manutenção: 11 5\n",
            "Tempos para manutenções preventivas: [0, 38, 77, 159, 251, 281, 350, 394, 503, 658, 664, 707]\n",
            "Severidade para cada subsistema: [0.25, 0.5, 0.75, 0.25, 0.75, 0.5, 0.25, 0.5, 0.5, 0.75, 0.25]\n",
            "Número de Sisemas: 5\n",
            "Fator:  [0.3296799539643607, 0.3934693402873666, 0.6321205588285577, 0.7768698398515702, 0.3934693402873666, 0.7768698398515702, 0.6321205588285577, 0.3934693402873666, 0.6321205588285577, 0.6321205588285577, 0.7768698398515702, 0.3934693402873666]\n",
            "Media de falhas:  [0, 25355.253760000003, 378384.07010291156, 11607610.64394037, 36090325.13614482, 37419864.51293432, 243219404.02297035, 250972424.52315265, 568443949.2295605, 6319572398.239971, 6354208118.08109, 6701965248.959403, 6732443281.354012]\n",
            "Custo =  235270670162.5656\n"
          ]
        },
        {
          "output_type": "stream",
          "name": "stderr",
          "text": [
            "2023-09-10 20:14:46,577 - pyswarms.single.global_best - INFO - Optimize for 1 iters with {'c1': 0.5, 'c2': 0.3, 'w': 0.9}\n",
            "pyswarms.single.global_best: 100%|██████████|1/1, best_cost=7.22e+10\n",
            "2023-09-10 20:14:46,596 - pyswarms.single.global_best - INFO - Optimization finished | best cost: 72171880233.77661, best pos: [2.64395345 1.2393788  3.62725916 4.32917705 4.95645347 2.50942337\n",
            " 2.12164589 4.52993667 3.64294595 3.31355242 2.23880816 5.30060376\n",
            " 2.89954055 1.97631593 2.7323462  4.03659259 3.79586518 4.18783864\n",
            " 4.33614523 3.77310353 1.11855762 4.31432649 5.14185191 1.69504615]\n"
          ]
        },
        {
          "output_type": "stream",
          "name": "stdout",
          "text": [
            "\n",
            "=========================================================================\n",
            "\n",
            "Número de ciclos de manutenção: 9 5\n",
            "Tempos para manutenções preventivas: [0, 38, 77, 90, 159, 504, 584, 652, 664, 706]\n",
            "Severidade para cada subsistema: [0.25, 0.5, 0.5, 0.5, 0.5, 0.5, 0.5, 0.75, 0.25]\n",
            "Número de Sisemas: 5\n",
            "Fator:  [0.3296799539643607, 0.3934693402873666, 0.6321205588285577, 0.6321205588285577, 0.6321205588285577, 0.6321205588285577, 0.6321205588285577, 0.6321205588285577, 0.7768698398515702, 0.3934693402873666]\n",
            "Media de falhas:  [0, 25355.253760000003, 378384.07010291156, 550015.6777388521, 4089286.483667805, 3426256985.7995095, 3777589315.8658805, 4210372053.6617737, 4280606694.885799, 4617542778.4853115, 4649579556.240678]\n",
            "Custo =  143838755795.24506\n"
          ]
        },
        {
          "output_type": "stream",
          "name": "stderr",
          "text": [
            "2023-09-10 20:14:46,601 - pyswarms.single.global_best - INFO - Optimize for 1 iters with {'c1': 0.5, 'c2': 0.3, 'w': 0.9}\n",
            "pyswarms.single.global_best: 100%|██████████|1/1, best_cost=7.22e+10"
          ]
        },
        {
          "output_type": "stream",
          "name": "stdout",
          "text": [
            "\n",
            "=========================================================================\n",
            "\n",
            "Número de ciclos de manutenção: 10 5\n",
            "Tempos para manutenções preventivas: [0, 38, 77, 104, 162, 203, 264, 504, 642, 664, 706]\n",
            "Severidade para cada subsistema: [0.25, 0.5, 0.5, 0.25, 0.75, 0.5, 0.5, 0.5, 0.75, 0.25]\n",
            "Número de Sisemas: 5\n",
            "Fator:  [0.3296799539643607, 0.3934693402873666, 0.6321205588285577, 0.6321205588285577, 0.3934693402873666, 0.7768698398515702, 0.6321205588285577, 0.6321205588285577, 0.6321205588285577, 0.7768698398515702, 0.3934693402873666]\n",
            "Media de falhas:  [0, 25355.253760000003, 378384.07010291156, 1003224.2810787439, 3621634.9361270927, 6677639.155569847, 65343360.98292655, 828645812.1459346, 1890733857.9079552, 2022651622.1079795, 2359587705.7074924, 2391624483.4628587]\n",
            "Custo =  109377636853.93532\n"
          ]
        },
        {
          "output_type": "stream",
          "name": "stderr",
          "text": [
            "\n",
            "2023-09-10 20:14:46,624 - pyswarms.single.global_best - INFO - Optimization finished | best cost: 72171880233.77661, best pos: [2.64391677 1.2393691  3.62725866 4.32917427 4.95654801 2.80791654\n",
            " 2.12164607 4.52993011 0.63076192 3.09864898 2.23925272 2.24323196\n",
            " 2.89953303 1.97572148 2.73232356 3.89831878 3.79583945 4.18784148\n",
            " 4.33614584 3.7729799  2.79443415 2.54510135 5.14221722 1.69504633]\n",
            "2023-09-10 20:14:46,629 - pyswarms.single.global_best - INFO - Optimize for 1 iters with {'c1': 0.5, 'c2': 0.3, 'w': 0.9}\n",
            "pyswarms.single.global_best: 100%|██████████|1/1, best_cost=7.22e+10\n",
            "2023-09-10 20:14:46,649 - pyswarms.single.global_best - INFO - Optimization finished | best cost: 72171880233.77661, best pos: [2.64384929 1.23935931 3.62725819 4.3291715  4.95652446 3.0068019\n",
            " 2.12164592 4.52978587 5.32130419 3.21498433 2.24008179 6.48226371\n",
            " 2.89951912 1.97525107 2.73234477 3.82894249 3.79575888 4.18785245\n",
            " 4.33614623 3.77288338 4.36634888 0.94826305 5.14229828 1.69504282]\n"
          ]
        },
        {
          "output_type": "stream",
          "name": "stdout",
          "text": [
            "\n",
            "=========================================================================\n",
            "\n",
            "Número de ciclos de manutenção: 10 5\n",
            "Tempos para manutenções preventivas: [0, 38, 77, 192, 250, 276, 360, 504, 631, 664, 706]\n",
            "Severidade para cada subsistema: [0.25, 0.5, 0.5, 0.25, 0.25, 0.5, 0.5, 0.5, 0.75, 0.25]\n",
            "Número de Sisemas: 5\n",
            "Fator:  [0.3296799539643607, 0.3934693402873666, 0.6321205588285577, 0.6321205588285577, 0.3934693402873666, 0.3934693402873666, 0.6321205588285577, 0.6321205588285577, 0.6321205588285577, 0.7768698398515702, 0.3934693402873666]\n",
            "Media de falhas:  [0, 25355.253760000003, 378384.07010291156, 35685709.4651183, 46392755.70514567, 51598627.39355562, 330894204.7147434, 2170996208.6348605, 3053198780.915819, 3256749085.1321697, 3593685168.731683, 3625721946.487049]\n",
            "Custo =  157107298826.3531\n"
          ]
        },
        {
          "output_type": "stream",
          "name": "stderr",
          "text": [
            "2023-09-10 20:14:46,651 - pyswarms.single.global_best - INFO - Optimize for 1 iters with {'c1': 0.5, 'c2': 0.3, 'w': 0.9}\n",
            "pyswarms.single.global_best: 100%|██████████|1/1, best_cost=7.22e+10\n",
            "2023-09-10 20:14:46,673 - pyswarms.single.global_best - INFO - Optimization finished | best cost: 72171880233.77661, best pos: [2.64376846 1.23935118 3.6272577  4.32916901 4.9563859  3.12986778\n",
            " 2.12164565 4.52956621 3.08074654 3.34483293 2.24087674 2.92098898\n",
            " 2.89950421 1.97492677 2.73239156 3.89332086 3.7956626  4.1878633\n",
            " 4.33614645 3.77284863 5.43505815 6.60756279 5.14184695 1.69503598]\n"
          ]
        },
        {
          "output_type": "stream",
          "name": "stdout",
          "text": [
            "\n",
            "=========================================================================\n",
            "\n",
            "Número de ciclos de manutenção: 8 5\n",
            "Tempos para manutenções preventivas: [0, 38, 77, 187, 361, 504, 574, 664, 707]\n",
            "Severidade para cada subsistema: [0.25, 0.5, 0.25, 0.5, 0.5, 0.75, 0.75, 0.25]\n",
            "Número de Sisemas: 5\n",
            "Fator:  [0.3296799539643607, 0.3934693402873666, 0.6321205588285577, 0.3934693402873666, 0.6321205588285577, 0.6321205588285577, 0.7768698398515702, 0.7768698398515702, 0.3934693402873666]\n",
            "Media de falhas:  [0, 25355.253760000003, 378384.07010291156, 30543999.24971915, 300032985.69079137, 2127087326.479452, 2404785557.4602985, 3063222908.78615, 3122058682.1427827, 3152536714.537391]\n",
            "Custo =  114343348613.84877\n"
          ]
        },
        {
          "output_type": "stream",
          "name": "stderr",
          "text": [
            "2023-09-10 20:14:46,675 - pyswarms.single.global_best - INFO - Optimize for 1 iters with {'c1': 0.5, 'c2': 0.3, 'w': 0.9}\n",
            "pyswarms.single.global_best: 100%|██████████|1/1, best_cost=7.22e+10\n",
            "2023-09-10 20:14:46,696 - pyswarms.single.global_best - INFO - Optimization finished | best cost: 72171880233.77661, best pos: [2.64366995 1.2393463  3.62725412 4.32916684 4.95619403 3.00049764\n",
            " 2.12164534 4.52933308 0.93561598 3.49062697 2.24163018 6.22392568\n",
            " 2.89949022 1.97476043 2.7324422  4.07517688 3.79556776 4.18787566\n",
            " 4.33614657 3.77286218 0.03756186 5.3201591  5.14087137 1.69502564]\n"
          ]
        },
        {
          "output_type": "stream",
          "name": "stdout",
          "text": [
            "\n",
            "=========================================================================\n",
            "\n",
            "Número de ciclos de manutenção: 11 5\n",
            "Tempos para manutenções preventivas: [0, 37, 78, 98, 153, 269, 360, 419, 504, 584, 664, 709]\n",
            "Severidade para cada subsistema: [0.25, 0.5, 0.75, 0.25, 0.5, 0.5, 0.75, 0.5, 0.75, 0.75, 0.25]\n",
            "Número de Sisemas: 5\n",
            "Fator:  [0.3296799539643607, 0.3934693402873666, 0.6321205588285577, 0.7768698398515702, 0.3934693402873666, 0.6321205588285577, 0.6321205588285577, 0.7768698398515702, 0.6321205588285577, 0.7768698398515702, 0.7768698398515702, 0.3934693402873666]\n",
            "Media de falhas:  [0, 22190.06624, 413953.4060477435, 780223.3447952543, 2763368.7152803047, 27161259.274748642, 329521604.63714516, 398760546.1935686, 621194622.5222147, 699932868.845834, 1266472080.5169473, 1329671115.3006983, 1357096037.920502]\n",
            "Custo =  72656986379.93085\n"
          ]
        },
        {
          "output_type": "stream",
          "name": "stderr",
          "text": [
            "2023-09-10 20:14:46,701 - pyswarms.single.global_best - INFO - Optimize for 1 iters with {'c1': 0.5, 'c2': 0.3, 'w': 0.9}\n",
            "pyswarms.single.global_best:   0%|          |0/1"
          ]
        },
        {
          "output_type": "stream",
          "name": "stdout",
          "text": [
            "\n",
            "=========================================================================\n",
            "\n",
            "Número de ciclos de manutenção: 14 5\n"
          ]
        },
        {
          "output_type": "stream",
          "name": "stderr",
          "text": [
            "pyswarms.single.global_best: 100%|██████████|1/1, best_cost=7.22e+10\n",
            "2023-09-10 20:14:47,028 - pyswarms.single.global_best - INFO - Optimization finished | best cost: 72171880233.77661, best pos: [2.64354439 1.23934306 3.62724774 4.32916585 4.95601439 2.78715127\n",
            " 2.12164499 4.52912997 6.18761327 3.720138   2.24229455 2.35449219\n",
            " 2.89948068 1.97503194 2.73249606 4.25745038 3.79550124 4.1878897\n",
            " 4.33614642 3.77289801 2.20857944 4.04601456 5.13974764 1.6950154 ]\n",
            "2023-09-10 20:14:47,030 - pyswarms.single.global_best - INFO - Optimize for 1 iters with {'c1': 0.5, 'c2': 0.3, 'w': 0.9}\n"
          ]
        },
        {
          "output_type": "stream",
          "name": "stdout",
          "text": [
            "Tempos para manutenções preventivas: [0, 37, 78, 104, 165, 257, 297, 331, 396, 504, 581, 602, 655, 664, 710]\n",
            "Severidade para cada subsistema: [0.25, 0.5, 0.75, 0.75, 0.25, 0.75, 0.75, 0.5, 0.5, 0.75, 0.75, 0.25, 0.75, 0.25]\n",
            "Número de Sisemas: 5\n",
            "Fator:  [0.3296799539643607, 0.3934693402873666, 0.6321205588285577, 0.7768698398515702, 0.7768698398515702, 0.3934693402873666, 0.7768698398515702, 0.7768698398515702, 0.6321205588285577, 0.6321205588285577, 0.7768698398515702, 0.7768698398515702, 0.3934693402873666, 0.7768698398515702, 0.3934693402873666]\n",
            "Media de falhas:  [0, 22190.06624, 413953.4060477435, 1015675.8749964125, 4072698.921240731, 15401346.309945393, 18000003.520688523, 101389354.94425695, 117204800.08234301, 208894862.68040368, 536940874.1921449, 622265914.2272766, 682083518.7338235, 689513989.8444451, 3121545536.2541075, 3147475500.6238995]\n",
            "Custo =  273043475255.22305\n"
          ]
        },
        {
          "output_type": "stream",
          "name": "stderr",
          "text": [
            "pyswarms.single.global_best: 100%|██████████|1/1, best_cost=7.22e+10\n",
            "2023-09-10 20:14:47,058 - pyswarms.single.global_best - INFO - Optimization finished | best cost: 72171880233.77661, best pos: [2.64343143 1.23934557 3.62724027 4.32916581 4.95586015 2.41120688\n",
            " 2.12164467 4.52901737 4.56547    4.10324329 2.2426623  5.43823606\n",
            " 2.89947713 1.9755335  2.73254215 4.44630285 3.79546548 4.18790713\n",
            " 4.33614589 3.77295336 4.42917291 2.50962614 5.1387236  1.69500634]\n",
            "2023-09-10 20:14:47,059 - pyswarms.single.global_best - INFO - Optimize for 1 iters with {'c1': 0.5, 'c2': 0.3, 'w': 0.9}\n"
          ]
        },
        {
          "output_type": "stream",
          "name": "stdout",
          "text": [
            "\n",
            "=========================================================================\n",
            "\n",
            "Número de ciclos de manutenção: 11 5\n",
            "Tempos para manutenções preventivas: [0, 36, 79, 104, 353, 470, 503, 578, 612, 646, 664, 712]\n",
            "Severidade para cada subsistema: [0.25, 0.5, 0.75, 0.25, 0.25, 0.5, 0.75, 0.25, 0.25, 0.75, 0.25]\n",
            "Número de Sisemas: 5\n",
            "Fator:  [0.3296799539643607, 0.3934693402873666, 0.6321205588285577, 0.7768698398515702, 0.3934693402873666, 0.3934693402873666, 0.6321205588285577, 0.7768698398515702, 0.3934693402873666, 0.3934693402873666, 0.7768698398515702, 0.3934693402873666]\n",
            "Media de falhas:  [0, 19349.176320000002, 453027.7594063263, 1031773.5421749898, 626929666.2630996, 717967366.1533124, 1157282631.2377236, 2849869680.8672357, 3002796300.2913895, 3033784218.132648, 3777869267.124505, 6340814866.183232, 6363816641.439709]\n",
            "Custo =  562503265420.6759\n"
          ]
        },
        {
          "output_type": "stream",
          "name": "stderr",
          "text": [
            "pyswarms.single.global_best: 100%|██████████|1/1, best_cost=7.22e+10\n",
            "2023-09-10 20:14:47,083 - pyswarms.single.global_best - INFO - Optimization finished | best cost: 72171880233.77661, best pos: [2.64335164 1.23934854 3.62723315 4.32916643 4.95576582 2.04828254\n",
            " 2.1216444  4.52892077 2.65970596 4.55828493 2.24265858 0.65223736\n",
            " 2.89947545 1.97627457 2.73257513 4.61512151 3.79545016 4.18792352\n",
            " 4.33614509 3.77303577 5.86833888 1.10416845 5.13787577 1.69500091]\n",
            "2023-09-10 20:14:47,089 - pyswarms.single.global_best - INFO - Optimize for 1 iters with {'c1': 0.5, 'c2': 0.3, 'w': 0.9}\n"
          ]
        },
        {
          "output_type": "stream",
          "name": "stdout",
          "text": [
            "\n",
            "=========================================================================\n",
            "\n",
            "Número de ciclos de manutenção: 10 5\n",
            "Tempos para manutenções preventivas: [0, 36, 79, 94, 350, 462, 503, 572, 644, 664, 713]\n",
            "Severidade para cada subsistema: [0.25, 0.5, 0.75, 0.75, 0.5, 0.5, 0.75, 0.25, 0.75, 0.25]\n",
            "Número de Sisemas: 5\n",
            "Fator:  [0.3296799539643607, 0.3934693402873666, 0.6321205588285577, 0.7768698398515702, 0.7768698398515702, 0.6321205588285577, 0.6321205588285577, 0.7768698398515702, 0.3934693402873666, 0.7768698398515702, 0.3934693402873666]\n",
            "Media de falhas:  [0, 19349.176320000002, 453027.7594063263, 687668.2864977777, 663626100.8445716, 742131147.8220168, 758278818.8359805, 1027455320.9378879, 1470447738.8782601, 1488455564.4388716, 4117735347.411784, 4139303312.8847346]\n",
            "Custo =  278369201854.67303\n"
          ]
        },
        {
          "output_type": "stream",
          "name": "stderr",
          "text": [
            "pyswarms.single.global_best: 100%|██████████|1/1, best_cost=7.22e+10\n",
            "2023-09-10 20:14:47,110 - pyswarms.single.global_best - INFO - Optimization finished | best cost: 72171880233.77661, best pos: [2.64331518 1.2393524  3.62722697 4.3291678  4.95571302 1.7290756\n",
            " 2.12164431 4.52887052 0.91092672 4.98685506 2.24223144 3.35425144\n",
            " 2.89947484 1.97695607 2.73259775 4.72804571 3.79546006 4.18793797\n",
            " 4.33614432 3.77311733 6.78066705 6.89518466 5.13744321 1.69499681]\n",
            "2023-09-10 20:14:47,112 - pyswarms.single.global_best - INFO - Optimize for 1 iters with {'c1': 0.5, 'c2': 0.3, 'w': 0.9}\n"
          ]
        },
        {
          "output_type": "stream",
          "name": "stdout",
          "text": [
            "\n",
            "=========================================================================\n",
            "\n",
            "Número de ciclos de manutenção: 8 5\n",
            "Tempos para manutenções preventivas: [0, 36, 80, 152, 450, 503, 647, 664, 714]\n",
            "Severidade para cada subsistema: [0.25, 0.5, 0.75, 0.75, 0.5, 0.25, 0.75, 0.25]\n",
            "Número de Sisemas: 5\n",
            "Fator:  [0.3296799539643607, 0.3934693402873666, 0.6321205588285577, 0.7768698398515702, 0.7768698398515702, 0.6321205588285577, 0.3934693402873666, 0.7768698398515702, 0.3934693402873666]\n",
            "Media de falhas:  [0, 19349.176320000002, 486506.1128180088, 8537910.973996282, 1785255819.3965802, 1809179217.0896516, 2156938389.4915795, 2257630393.970229, 4953834339.345558, 4973988303.042077]\n",
            "Custo =  280233042195.5312\n"
          ]
        },
        {
          "output_type": "stream",
          "name": "stderr",
          "text": [
            "pyswarms.single.global_best: 100%|██████████|1/1, best_cost=7.22e+10\n",
            "2023-09-10 20:14:47,133 - pyswarms.single.global_best - INFO - Optimization finished | best cost: 72171880233.77661, best pos: [2.64330498 1.23935794 3.62722429 4.32916905 4.95567716 1.46237405\n",
            " 2.12164433 4.52894799 6.68152854 5.29964128 2.24155133 5.70181764\n",
            " 2.89947757 1.97756507 2.7326037  4.75883142 3.79550487 4.18794865\n",
            " 4.33614368 3.77318104 6.37841051 4.59794663 5.13722808 1.69499542]\n",
            "2023-09-10 20:14:47,137 - pyswarms.single.global_best - INFO - Optimize for 1 iters with {'c1': 0.5, 'c2': 0.3, 'w': 0.9}\n"
          ]
        },
        {
          "output_type": "stream",
          "name": "stdout",
          "text": [
            "\n",
            "=========================================================================\n",
            "\n",
            "Número de ciclos de manutenção: 8 5\n",
            "Tempos para manutenções preventivas: [0, 36, 80, 357, 503, 629, 654, 663, 714]\n",
            "Severidade para cada subsistema: [0.25, 0.5, 0.75, 0.5, 0.5, 0.25, 0.75, 0.25]\n",
            "Número de Sisemas: 5\n",
            "Fator:  [0.3296799539643607, 0.3934693402873666, 0.6321205588285577, 0.7768698398515702, 0.6321205588285577, 0.6321205588285577, 0.3934693402873666, 0.7768698398515702, 0.3934693402873666]\n",
            "Media de falhas:  [0, 19349.176320000002, 486506.1128180088, 1170047199.9118073, 1682541792.2498493, 1922411703.0219889, 2064695696.8879273, 2116692893.955517, 4864845570.15748, 4884999533.853999]\n",
            "Custo =  305044630847.1307\n"
          ]
        },
        {
          "output_type": "stream",
          "name": "stderr",
          "text": [
            "pyswarms.single.global_best: 100%|██████████|1/1, best_cost=7.22e+10\n",
            "2023-09-10 20:14:47,159 - pyswarms.single.global_best - INFO - Optimization finished | best cost: 72171880233.77661, best pos: [2.64333358 1.23936312 3.62722391 4.32917026 4.95573347 1.39499179\n",
            " 2.12164444 4.52910058 5.54815282 5.52527953 2.24082529 1.37688496\n",
            " 2.89948665 1.97797067 2.73258041 4.76360984 3.79555311 4.18795662\n",
            " 4.33614317 3.77320718 5.19925602 2.25528578 5.13766798 1.69499467]\n",
            "2023-09-10 20:14:47,162 - pyswarms.single.global_best - INFO - Optimize for 1 iters with {'c1': 0.5, 'c2': 0.3, 'w': 0.9}\n"
          ]
        },
        {
          "output_type": "stream",
          "name": "stdout",
          "text": [
            "\n",
            "=========================================================================\n",
            "\n",
            "Número de ciclos de manutenção: 9 5\n",
            "Tempos para manutenções preventivas: [0, 36, 79, 114, 183, 403, 503, 589, 663, 714]\n",
            "Severidade para cada subsistema: [0.25, 0.5, 0.5, 0.5, 0.75, 0.5, 0.5, 0.75, 0.25]\n",
            "Número de Sisemas: 5\n",
            "Fator:  [0.3296799539643607, 0.3934693402873666, 0.6321205588285577, 0.6321205588285577, 0.6321205588285577, 0.7768698398515702, 0.6321205588285577, 0.6321205588285577, 0.7768698398515702, 0.3934693402873666]\n",
            "Media de falhas:  [0, 19349.176320000002, 453027.7594063263, 1626323.7197923895, 6962014.791485182, 633124575.2359428, 911952661.7750385, 1004213230.5868504, 1515466719.361282, 1953015652.541316, 1973169616.237835]\n",
            "Custo =  94306363845.09679\n"
          ]
        },
        {
          "output_type": "stream",
          "name": "stderr",
          "text": [
            "pyswarms.single.global_best: 100%|██████████|1/1, best_cost=7.22e+10\n",
            "2023-09-10 20:14:47,182 - pyswarms.single.global_best - INFO - Optimization finished | best cost: 72171880233.77661, best pos: [2.64336074 1.2393677  3.62722532 4.32917138 4.9558598  1.46216828\n",
            " 2.12164457 4.5292735  3.60693146 5.49754374 2.24018384 4.46636144\n",
            " 2.89949842 1.97809622 2.73255296 4.67459504 3.7956139  4.18795723\n",
            " 4.33614306 3.77321577 4.02563185 0.1858803  5.13843469 1.69499749]\n",
            "2023-09-10 20:14:47,186 - pyswarms.single.global_best - INFO - Optimize for 1 iters with {'c1': 0.5, 'c2': 0.3, 'w': 0.9}\n"
          ]
        },
        {
          "output_type": "stream",
          "name": "stdout",
          "text": [
            "\n",
            "=========================================================================\n",
            "\n",
            "Número de ciclos de manutenção: 12 5\n",
            "Tempos para manutenções preventivas: [0, 36, 79, 103, 172, 194, 254, 402, 479, 503, 574, 663, 712]\n",
            "Severidade para cada subsistema: [0.25, 0.5, 0.5, 0.75, 0.25, 0.75, 0.5, 0.25, 0.5, 0.5, 0.75, 0.25]\n",
            "Número de Sisemas: 5\n",
            "Fator:  [0.3296799539643607, 0.3934693402873666, 0.6321205588285577, 0.6321205588285577, 0.7768698398515702, 0.3934693402873666, 0.7768698398515702, 0.6321205588285577, 0.3934693402873666, 0.6321205588285577, 0.6321205588285577, 0.7768698398515702, 0.3934693402873666]\n",
            "Media de falhas:  [0, 19349.176320000002, 453027.7594063263, 987768.9855198916, 5428246.819895123, 6546664.980436877, 10259724.804898974, 787139934.933832, 826473185.8614825, 875053373.6490574, 2436854287.0008745, 3082216654.1838574, 3495888440.443553, 3518890215.70003]\n",
            "Custo =  187851133311.52875\n"
          ]
        },
        {
          "output_type": "stream",
          "name": "stderr",
          "text": [
            "pyswarms.single.global_best: 100%|██████████|1/1, best_cost=7.22e+10\n",
            "2023-09-10 20:14:47,208 - pyswarms.single.global_best - INFO - Optimization finished | best cost: 72171880233.77661, best pos: [2.64338893 1.23937049 3.62722777 4.32917217 4.95602934 1.53114509\n",
            " 2.12164472 4.52943996 1.46957013 5.32118226 2.23981513 0.09540569\n",
            " 2.89950903 1.97785291 2.73251968 4.59121529 3.79566974 4.18795594\n",
            " 4.33614322 3.77318365 2.71083627 5.95387049 5.13942292 1.69500108]\n",
            "2023-09-10 20:14:47,210 - pyswarms.single.global_best - INFO - Optimize for 1 iters with {'c1': 0.5, 'c2': 0.3, 'w': 0.9}\n"
          ]
        },
        {
          "output_type": "stream",
          "name": "stdout",
          "text": [
            "\n",
            "=========================================================================\n",
            "\n",
            "Número de ciclos de manutenção: 11 5\n",
            "Tempos para manutenções preventivas: [0, 36, 79, 100, 163, 260, 289, 395, 469, 503, 664, 710]\n",
            "Severidade para cada subsistema: [0.25, 0.5, 0.5, 0.5, 0.5, 0.25, 0.25, 0.5, 0.5, 0.75, 0.25]\n",
            "Número de Sisemas: 5\n",
            "Fator:  [0.3296799539643607, 0.3934693402873666, 0.6321205588285577, 0.6321205588285577, 0.6321205588285577, 0.6321205588285577, 0.3934693402873666, 0.3934693402873666, 0.6321205588285577, 0.6321205588285577, 0.7768698398515702, 0.3934693402873666]\n",
            "Media de falhas:  [0, 19349.176320000002, 453027.7594063263, 869650.2731142831, 4014303.4932742645, 34256046.196486466, 41323401.68046634, 175039038.7376399, 892720953.112171, 1344877194.48532, 2863276708.3798275, 3244413712.9337616, 3270343677.3035536]\n",
            "Custo =  175630294678.40717\n"
          ]
        },
        {
          "output_type": "stream",
          "name": "stderr",
          "text": [
            "pyswarms.single.global_best: 100%|██████████|1/1, best_cost=7.22e+10\n",
            "2023-09-10 20:14:47,224 - pyswarms.single.global_best - INFO - Optimization finished | best cost: 72171880233.77661, best pos: [2.64342723 1.23937298 3.62723202 4.32917242 4.95618748 1.6584556\n",
            " 2.12164489 4.52957771 6.73471531 5.01418635 2.2395304  3.22292737\n",
            " 2.89951815 1.97730273 2.7324844  4.47205564 3.79571324 4.18795454\n",
            " 4.33614338 3.7731494  1.71273656 4.24523262 5.1403785  1.69500623]\n",
            "2023-09-10 20:14:47,225 - pyswarms.single.global_best - INFO - Optimize for 1 iters with {'c1': 0.5, 'c2': 0.3, 'w': 0.9}\n"
          ]
        },
        {
          "output_type": "stream",
          "name": "stdout",
          "text": [
            "\n",
            "=========================================================================\n",
            "\n",
            "Número de ciclos de manutenção: 9 5\n",
            "Tempos para manutenções preventivas: [0, 37, 78, 104, 155, 266, 458, 503, 664, 709]\n",
            "Severidade para cada subsistema: [0.25, 0.5, 0.5, 0.25, 0.25, 0.75, 0.5, 0.75, 0.25]\n",
            "Número de Sisemas: 5\n",
            "Fator:  [0.3296799539643607, 0.3934693402873666, 0.6321205588285577, 0.6321205588285577, 0.3934693402873666, 0.3934693402873666, 0.7768698398515702, 0.6321205588285577, 0.7768698398515702, 0.3934693402873666]\n",
            "Media de falhas:  [0, 22190.06624, 413953.4060477435, 1015675.8749964125, 2802541.1853616578, 45461714.2635327, 1772849224.6727035, 2364893090.821273, 2846529110.928085, 3216385106.7402506, 3243810029.360054]\n",
            "Custo =  140489963790.4867\n"
          ]
        },
        {
          "output_type": "stream",
          "name": "stderr",
          "text": [
            "pyswarms.single.global_best: 100%|██████████|1/1, best_cost=7.22e+10\n",
            "2023-09-10 20:14:47,238 - pyswarms.single.global_best - INFO - Optimization finished | best cost: 72171880233.77661, best pos: [2.64346445 1.23937236 3.62723591 4.32917213 4.95630668 1.88046222\n",
            " 2.12164504 4.52964512 3.8788228  4.70800324 2.23970875 6.0308282\n",
            " 2.89952372 1.97664247 2.73245293 4.36464547 3.79574477 4.18794223\n",
            " 4.33614356 3.77311222 1.27087542 2.53659109 5.14114767 1.6950134 ]\n",
            "2023-09-10 20:14:47,240 - pyswarms.single.global_best - INFO - Optimize for 1 iters with {'c1': 0.5, 'c2': 0.3, 'w': 0.9}\n"
          ]
        },
        {
          "output_type": "stream",
          "name": "stdout",
          "text": [
            "\n",
            "=========================================================================\n",
            "\n",
            "Número de ciclos de manutenção: 7 5\n",
            "Tempos para manutenções preventivas: [0, 37, 78, 113, 503, 631, 664, 708]\n",
            "Severidade para cada subsistema: [0.25, 0.5, 0.5, 0.5, 0.5, 0.75, 0.25]\n",
            "Número de Sisemas: 5\n",
            "Fator:  [0.3296799539643607, 0.3934693402873666, 0.6321205588285577, 0.6321205588285577, 0.6321205588285577, 0.6321205588285577, 0.7768698398515702, 0.3934693402873666]\n",
            "Media de falhas:  [0, 22190.06624, 413953.4060477435, 1547033.6667433085, 4792308101.827984, 5684877042.63822, 5888427346.85457, 6247157251.800922, 6276098098.540052]\n",
            "Custo =  139745451612.28452\n"
          ]
        },
        {
          "output_type": "stream",
          "name": "stderr",
          "text": [
            "pyswarms.single.global_best: 100%|██████████|1/1, best_cost=7.22e+10\n",
            "2023-09-10 20:14:47,257 - pyswarms.single.global_best - INFO - Optimization finished | best cost: 72171880233.77661, best pos: [2.64351518 1.23937164 3.62723945 4.3291715  4.956354   2.09864318\n",
            " 2.12164515 4.52968944 0.84833851 4.42519449 2.24001335 0.69869482\n",
            " 2.89952702 1.97606189 2.73242911 4.28136191 3.79574126 4.18792585\n",
            " 4.33614375 3.77306598 1.3965995  0.96743352 5.14142095 1.69502043]\n"
          ]
        },
        {
          "output_type": "stream",
          "name": "stdout",
          "text": [
            "\n",
            "=========================================================================\n",
            "\n",
            "Número de ciclos de manutenção: 10 5\n",
            "Tempos para manutenções preventivas: [0, 37, 78, 174, 298, 335, 503, 622, 630, 664, 707]\n",
            "Severidade para cada subsistema: [0.25, 0.5, 0.5, 0.75, 0.75, 0.5, 0.5, 0.5, 0.75, 0.25]\n",
            "Número de Sisemas: 5\n",
            "Fator:  [0.3296799539643607, 0.3934693402873666, 0.6321205588285577, 0.6321205588285577, 0.7768698398515702, 0.7768698398515702, 0.6321205588285577, 0.6321205588285577, 0.6321205588285577, 0.7768698398515702, 0.3934693402873666]\n",
            "Media de falhas:  [0, 22190.06624, 413953.4060477435, 19681088.95123662, 94511001.44211812, 111132713.10548511, 380118730.1646842, 585969873.7835562, 623601672.6285775, 833877221.2143233, 1181634352.092636, 1212112384.4872448]\n",
            "Custo =  99582250984.21329\n"
          ]
        },
        {
          "output_type": "stream",
          "name": "stderr",
          "text": [
            "2023-09-10 20:14:47,262 - pyswarms.single.global_best - INFO - Optimize for 1 iters with {'c1': 0.5, 'c2': 0.3, 'w': 0.9}\n",
            "pyswarms.single.global_best: 100%|██████████|1/1, best_cost=7.22e+10\n",
            "2023-09-10 20:14:47,278 - pyswarms.single.global_best - INFO - Optimization finished | best cost: 72171880233.77661, best pos: [2.64356304 1.23937073 3.62724262 4.32917091 4.95637712 2.29035888\n",
            " 2.12164519 4.52972776 5.44766359 4.19293537 2.24031179 2.90430838\n",
            " 2.89952322 1.97563742 2.73241893 4.20873228 3.79572611 4.18790975\n",
            " 4.33614398 3.77302485 1.89915867 6.6836759  5.14131456 1.69502652]\n",
            "2023-09-10 20:14:47,280 - pyswarms.single.global_best - INFO - Optimize for 1 iters with {'c1': 0.5, 'c2': 0.3, 'w': 0.9}\n"
          ]
        },
        {
          "output_type": "stream",
          "name": "stdout",
          "text": [
            "\n",
            "=========================================================================\n",
            "\n",
            "Número de ciclos de manutenção: 8 5\n",
            "Tempos para manutenções preventivas: [0, 37, 77, 161, 342, 463, 503, 664, 707]\n",
            "Severidade para cada subsistema: [0.25, 0.5, 0.25, 0.25, 0.25, 0.5, 0.75, 0.25]\n",
            "Número de Sisemas: 5\n",
            "Fator:  [0.3296799539643607, 0.3934693402873666, 0.6321205588285577, 0.3934693402873666, 0.3934693402873666, 0.3934693402873666, 0.6321205588285577, 0.7768698398515702, 0.3934693402873666]\n",
            "Media de falhas:  [0, 22190.06624, 384854.77077488665, 12519813.586853847, 268306304.1748305, 1368297694.0356495, 1897049954.6445642, 8089698267.151161, 8437455398.029474, 8467933430.424083]\n",
            "Custo =  287012483386.6013\n"
          ]
        },
        {
          "output_type": "stream",
          "name": "stderr",
          "text": [
            "pyswarms.single.global_best: 100%|██████████|1/1, best_cost=7.22e+10\n",
            "2023-09-10 20:14:47,294 - pyswarms.single.global_best - INFO - Optimization finished | best cost: 72171880233.77661, best pos: [2.6436011  1.23936959 3.62724409 4.32917035 4.95638882 2.42837692\n",
            " 2.12164517 4.52971412 3.19532158 3.99755504 2.2406227  5.42652603\n",
            " 2.89951519 1.97529006 2.73242343 4.16469496 3.7957061  4.18789562\n",
            " 4.33614426 3.77298908 2.58863602 4.86651792 5.14120281 1.69503194]\n",
            "2023-09-10 20:14:47,297 - pyswarms.single.global_best - INFO - Optimize for 1 iters with {'c1': 0.5, 'c2': 0.3, 'w': 0.9}\n"
          ]
        },
        {
          "output_type": "stream",
          "name": "stdout",
          "text": [
            "\n",
            "=========================================================================\n",
            "\n",
            "Número de ciclos de manutenção: 6 5\n",
            "Tempos para manutenções preventivas: [0, 37, 78, 503, 626, 664, 708]\n",
            "Severidade para cada subsistema: [0.25, 0.5, 0.5, 0.25, 0.75, 0.25]\n",
            "Número de Sisemas: 5\n",
            "Fator:  [0.3296799539643607, 0.3934693402873666, 0.6321205588285577, 0.6321205588285577, 0.3934693402873666, 0.7768698398515702, 0.3934693402873666]\n",
            "Media de falhas:  [0, 22190.06624, 413953.4060477435, 7521464462.873307, 8339622725.864697, 8577175409.279424, 10880606128.989145, 10909546975.728275]\n",
            "Custo =  337104061343.40393\n"
          ]
        },
        {
          "output_type": "stream",
          "name": "stderr",
          "text": [
            "pyswarms.single.global_best: 100%|██████████|1/1, best_cost=7.22e+10\n",
            "2023-09-10 20:14:47,319 - pyswarms.single.global_best - INFO - Optimization finished | best cost: 72171880233.77661, best pos: [2.64362646 1.23936647 3.62724433 4.32916987 4.95631519 2.49574573\n",
            " 2.12164513 4.52966999 1.06531646 3.98113021 2.24098998 0.0848224\n",
            " 2.89950619 1.97519416 2.73244169 4.18835337 3.79567713 4.18788358\n",
            " 4.33614457 3.77296763 3.52503481 3.21305865 5.14084048 1.69503538]\n",
            "2023-09-10 20:14:47,323 - pyswarms.single.global_best - INFO - Optimize for 1 iters with {'c1': 0.5, 'c2': 0.3, 'w': 0.9}\n"
          ]
        },
        {
          "output_type": "stream",
          "name": "stdout",
          "text": [
            "\n",
            "=========================================================================\n",
            "\n",
            "Número de ciclos de manutenção: 8 5\n",
            "Tempos para manutenções preventivas: [0, 37, 78, 170, 348, 504, 575, 664, 709]\n",
            "Severidade para cada subsistema: [0.25, 0.5, 0.5, 0.25, 0.5, 0.5, 0.75, 0.25]\n",
            "Número de Sisemas: 5\n",
            "Fator:  [0.3296799539643607, 0.3934693402873666, 0.6321205588285577, 0.6321205588285577, 0.3934693402873666, 0.6321205588285577, 0.6321205588285577, 0.7768698398515702, 0.3934693402873666]\n",
            "Media de falhas:  [0, 22190.06624, 413953.4060477435, 17128164.044916313, 274502812.32491976, 854937597.285922, 2427774515.4041624, 3076752304.792723, 3446608300.604889, 3474033223.2246923]\n",
            "Custo =  177311923274.09158\n"
          ]
        },
        {
          "output_type": "stream",
          "name": "stderr",
          "text": [
            "pyswarms.single.global_best:   0%|          |0/1, best_cost=7.22e+10"
          ]
        },
        {
          "output_type": "stream",
          "name": "stdout",
          "text": [
            "\n",
            "=========================================================================\n",
            "\n",
            "Número de ciclos de manutenção: 9 5\n",
            "Tempos para manutenções preventivas: [0, 37, 78, 151, 182, 348, 504, 585, 664, 710]\n",
            "Severidade para cada subsistema: [0.25, 0.5, 0.25, 0.5, 0.75, 0.5, 0.5, 0.75, 0.25]\n",
            "Número de Sisemas: 5\n",
            "Fator:  [0.3296799539643607, 0.3934693402873666, 0.6321205588285577, 0.3934693402873666, 0.6321205588285577, 0.7768698398515702, 0.6321205588285577, 0.6321205588285577, 0.7768698398515702, 0.3934693402873666]\n",
            "Media de falhas:  [0, 22190.06624, 413953.4060477435, 8403918.757762905, 9788760.129087105, 520663174.2637309, 1101097959.2247334, 1182054265.989208, 1739724680.193009, 2120861684.7469428, 2146791649.1167347]\n",
            "Custo =  98412946144.98871\n"
          ]
        },
        {
          "output_type": "stream",
          "name": "stderr",
          "text": [
            "\rpyswarms.single.global_best: 100%|██████████|1/1, best_cost=7.22e+10\n",
            "2023-09-10 20:14:47,339 - pyswarms.single.global_best - INFO - Optimization finished | best cost: 72171880233.77661, best pos: [2.64363801 1.2393631  3.62724283 4.32916964 4.95619354 2.46812972\n",
            " 2.12164504 4.52956502 6.44805569 4.01013493 2.24133211 2.41191185\n",
            " 2.89949806 1.97548791 2.7324588  4.23786951 3.79564671 4.18787747\n",
            " 4.33614486 3.77295849 4.44044791 1.53143633 5.14032842 1.69503306]\n",
            "2023-09-10 20:14:47,341 - pyswarms.single.global_best - INFO - Optimize for 1 iters with {'c1': 0.5, 'c2': 0.3, 'w': 0.9}\n",
            "pyswarms.single.global_best: 100%|██████████|1/1, best_cost=7.22e+10\n",
            "2023-09-10 20:14:47,356 - pyswarms.single.global_best - INFO - Optimization finished | best cost: 72171880233.77661, best pos: [2.64364356 1.23935984 3.62724099 4.32916958 4.95607895 2.32784684\n",
            " 2.12164495 4.52942409 4.19959409 4.12753144 2.24161947 5.10522083\n",
            " 2.8994911  1.97606401 2.73248214 4.31842587 3.79561743 4.18788234\n",
            " 4.33614507 3.77296673 5.74294203 0.17529665 5.13982217 1.69502758]\n",
            "2023-09-10 20:14:47,358 - pyswarms.single.global_best - INFO - Optimize for 1 iters with {'c1': 0.5, 'c2': 0.3, 'w': 0.9}\n"
          ]
        },
        {
          "output_type": "stream",
          "name": "stdout",
          "text": [
            "\n",
            "=========================================================================\n",
            "\n",
            "Número de ciclos de manutenção: 13 5\n",
            "Tempos para manutenções preventivas: [0, 37, 78, 170, 190, 279, 359, 398, 504, 594, 602, 656, 664, 711]\n",
            "Severidade para cada subsistema: [0.25, 0.5, 0.75, 0.25, 0.25, 0.25, 0.25, 0.5, 0.5, 0.5, 0.25, 0.75, 0.25]\n",
            "Número de Sisemas: 5\n",
            "Fator:  [0.3296799539643607, 0.3934693402873666, 0.6321205588285577, 0.7768698398515702, 0.3934693402873666, 0.3934693402873666, 0.3934693402873666, 0.3934693402873666, 0.6321205588285577, 0.6321205588285577, 0.6321205588285577, 0.3934693402873666, 0.7768698398515702, 0.3934693402873666]\n",
            "Media de falhas:  [0, 22190.06624, 413953.4060477435, 17128164.044916313, 18047934.515967064, 30536668.677132785, 293799374.42580456, 494155160.29319906, 1851012555.299435, 4100881990.9954824, 4132284893.5655704, 4469349465.0644455, 4515740681.719577, 7012938165.953934, 7037393844.767591]\n",
            "Custo =  467962197542.0008\n"
          ]
        },
        {
          "output_type": "stream",
          "name": "stderr",
          "text": [
            "pyswarms.single.global_best: 100%|██████████|1/1, best_cost=7.22e+10\n",
            "2023-09-10 20:14:47,530 - pyswarms.single.global_best - INFO - Optimization finished | best cost: 72171880233.77661, best pos: [2.64362056 1.23935752 3.62723869 4.32916979 4.95597237 2.18074977\n",
            " 2.12164486 4.52929259 1.6721819  4.37384448 2.24175453 1.19190286\n",
            " 2.89948729 1.97663961 2.73250436 4.41776688 3.79559142 4.18789374\n",
            " 4.33614525 3.77300349 6.1540375  6.42354315 5.13935243 1.69502092]\n",
            "2023-09-10 20:14:47,532 - pyswarms.single.global_best - INFO - Optimize for 1 iters with {'c1': 0.5, 'c2': 0.3, 'w': 0.9}\n"
          ]
        },
        {
          "output_type": "stream",
          "name": "stdout",
          "text": [
            "\n",
            "=========================================================================\n",
            "\n",
            "Número de ciclos de manutenção: 10 5\n",
            "Tempos para manutenções preventivas: [0, 37, 78, 160, 282, 345, 504, 626, 653, 664, 712]\n",
            "Severidade para cada subsistema: [0.25, 0.5, 0.5, 0.5, 0.75, 0.5, 0.75, 0.25, 0.75, 0.25]\n",
            "Número de Sisemas: 5\n",
            "Fator:  [0.3296799539643607, 0.3934693402873666, 0.6321205588285577, 0.6321205588285577, 0.6321205588285577, 0.7768698398515702, 0.6321205588285577, 0.7768698398515702, 0.3934693402873666, 0.7768698398515702, 0.3934693402873666]\n",
            "Media de falhas:  [0, 22190.06624, 413953.4060477435, 11907235.206024742, 73606878.293584, 111006995.8973498, 711918083.62875, 932872899.1198441, 1086412862.222394, 1095636741.426545, 3658582340.4852724, 3681584115.7417493]\n",
            "Custo =  272151604132.13046\n"
          ]
        },
        {
          "output_type": "stream",
          "name": "stderr",
          "text": [
            "pyswarms.single.global_best: 100%|██████████|1/1, best_cost=7.22e+10\n",
            "2023-09-10 20:14:47,546 - pyswarms.single.global_best - INFO - Optimization finished | best cost: 72171880233.77661, best pos: [2.64359515 1.23935551 3.62723634 4.32917016 4.95588347 2.04095737\n",
            " 2.12164478 4.52919128 6.54967325 4.61409952 2.24177736 4.63504937\n",
            " 2.89948621 1.97716379 2.73252369 4.51098066 3.79557728 4.18790719\n",
            " 4.33614533 3.77305379 6.84193059 4.73654482 5.13894254 1.69501439]\n",
            "2023-09-10 20:14:47,547 - pyswarms.single.global_best - INFO - Optimize for 1 iters with {'c1': 0.5, 'c2': 0.3, 'w': 0.9}\n"
          ]
        },
        {
          "output_type": "stream",
          "name": "stdout",
          "text": [
            "\n",
            "=========================================================================\n",
            "\n",
            "Número de ciclos de manutenção: 9 5\n",
            "Tempos para manutenções preventivas: [0, 37, 78, 286, 348, 392, 504, 651, 664, 713]\n",
            "Severidade para cada subsistema: [0.25, 0.5, 0.75, 0.25, 0.75, 0.5, 0.25, 0.75, 0.25]\n",
            "Número de Sisemas: 5\n",
            "Fator:  [0.3296799539643607, 0.3934693402873666, 0.6321205588285577, 0.7768698398515702, 0.3934693402873666, 0.7768698398515702, 0.6321205588285577, 0.3934693402873666, 0.7768698398515702, 0.3934693402873666]\n",
            "Media de falhas:  [0, 22190.06624, 413953.4060477435, 347461547.0898215, 385167587.3170459, 392789346.10931563, 1824602177.0846245, 2195101260.2689195, 2271368111.3468323, 4900647894.319744, 4922215859.792694]\n",
            "Custo =  314234551869.4631\n"
          ]
        },
        {
          "output_type": "stream",
          "name": "stderr",
          "text": [
            "pyswarms.single.global_best: 100%|██████████|1/1, best_cost=7.22e+10\n",
            "2023-09-10 20:14:47,561 - pyswarms.single.global_best - INFO - Optimization finished | best cost: 72171880233.77661, best pos: [2.6435611  1.23935443 3.62723425 4.32917059 4.95584856 1.91725774\n",
            " 2.12164474 4.52913148 3.90547453 4.83971261 2.24175249 1.30213339\n",
            " 2.89948648 1.97762754 2.73253984 4.59266601 3.79557418 4.18791994\n",
            " 4.33614532 3.7731008  0.83073847 2.57776607 5.13857683 1.69500908]\n",
            "2023-09-10 20:14:47,563 - pyswarms.single.global_best - INFO - Optimize for 1 iters with {'c1': 0.5, 'c2': 0.3, 'w': 0.9}\n"
          ]
        },
        {
          "output_type": "stream",
          "name": "stdout",
          "text": [
            "\n",
            "=========================================================================\n",
            "\n",
            "Número de ciclos de manutenção: 8 5\n",
            "Tempos para manutenções preventivas: [0, 36, 78, 186, 263, 503, 650, 664, 713]\n",
            "Severidade para cada subsistema: [0.25, 0.5, 0.25, 0.75, 0.5, 0.25, 0.75, 0.25]\n",
            "Número de Sisemas: 5\n",
            "Fator:  [0.3296799539643607, 0.3934693402873666, 0.6321205588285577, 0.3934693402873666, 0.7768698398515702, 0.6321205588285577, 0.3934693402873666, 0.7768698398515702, 0.3934693402873666]\n",
            "Media de falhas:  [0, 19349.176320000002, 421485.86197596684, 29261671.33857209, 49595593.113829546, 3273631000.8505955, 3642571867.008912, 3724900193.966493, 6354179976.939405, 6375747942.412355]\n",
            "Custo =  309170322218.96173\n"
          ]
        },
        {
          "output_type": "stream",
          "name": "stderr",
          "text": [
            "pyswarms.single.global_best: 100%|██████████|1/1, best_cost=7.22e+10\n",
            "2023-09-10 20:14:47,575 - pyswarms.single.global_best - INFO - Optimization finished | best cost: 72171880233.77661, best pos: [2.64352894 1.2393552  3.62723241 4.32917097 4.95585745 1.83491414\n",
            " 2.12164471 4.5290914  1.44383871 5.03100792 2.24163205 5.14553911\n",
            " 2.89948873 1.97790875 2.73254839 4.65554877 3.79558865 4.18793087\n",
            " 4.33614522 3.77314273 2.33150843 0.62287896 5.13852815 1.6950063 ]\n",
            "2023-09-10 20:14:47,577 - pyswarms.single.global_best - INFO - Optimize for 1 iters with {'c1': 0.5, 'c2': 0.3, 'w': 0.9}\n"
          ]
        },
        {
          "output_type": "stream",
          "name": "stdout",
          "text": [
            "\n",
            "=========================================================================\n",
            "\n",
            "Número de ciclos de manutenção: 8 5\n",
            "Tempos para manutenções preventivas: [0, 36, 79, 179, 197, 503, 654, 664, 713]\n",
            "Severidade para cada subsistema: [0.25, 0.5, 0.5, 0.75, 0.5, 0.25, 0.75, 0.25]\n",
            "Número de Sisemas: 5\n",
            "Fator:  [0.3296799539643607, 0.3934693402873666, 0.6321205588285577, 0.6321205588285577, 0.7768698398515702, 0.6321205588285577, 0.3934693402873666, 0.7768698398515702, 0.3934693402873666]\n",
            "Media de falhas:  [0, 19349.176320000002, 453027.7594063263, 23030360.305714455, 23960539.64870882, 2508285287.8264227, 2907035525.046659, 2965292092.812103, 5594571875.785015, 5616139841.257965]\n",
            "Custo =  287202574501.473\n"
          ]
        },
        {
          "output_type": "stream",
          "name": "stderr",
          "text": [
            "pyswarms.single.global_best: 100%|██████████|1/1, best_cost=7.22e+10\n",
            "2023-09-10 20:14:47,589 - pyswarms.single.global_best - INFO - Optimization finished | best cost: 72171880233.77661, best pos: [2.64350237 1.23935723 3.62723213 4.32917132 4.95587973 1.82486159\n",
            " 2.12164472 4.52907636 6.24720254 5.13225731 2.24142007 1.75133085\n",
            " 2.89949363 1.97805085 2.73254193 4.69152533 3.79560349 4.18793895\n",
            " 4.33614499 3.77317748 4.2896966  6.20149005 5.13854534 1.69500421]\n",
            "2023-09-10 20:14:47,591 - pyswarms.single.global_best - INFO - Optimize for 1 iters with {'c1': 0.5, 'c2': 0.3, 'w': 0.9}\n"
          ]
        },
        {
          "output_type": "stream",
          "name": "stdout",
          "text": [
            "\n",
            "=========================================================================\n",
            "\n",
            "Número de ciclos de manutenção: 9 5\n",
            "Tempos para manutenções preventivas: [0, 36, 79, 175, 185, 341, 409, 503, 664, 712]\n",
            "Severidade para cada subsistema: [0.25, 0.5, 0.25, 0.5, 0.5, 0.75, 0.5, 0.75, 0.25]\n",
            "Número de Sisemas: 5\n",
            "Fator:  [0.3296799539643607, 0.3934693402873666, 0.6321205588285577, 0.3934693402873666, 0.6321205588285577, 0.6321205588285577, 0.7768698398515702, 0.6321205588285577, 0.7768698398515702, 0.3934693402873666]\n",
            "Media de falhas:  [0, 19349.176320000002, 453027.7594063263, 20127983.042420346, 20502541.840937767, 458940340.7559136, 535686846.80686957, 790401075.9353359, 1272037096.0421476, 1676207331.598811, 1699209106.8552876]\n",
            "Custo =  78365975909.98734\n"
          ]
        },
        {
          "output_type": "stream",
          "name": "stderr",
          "text": [
            "pyswarms.single.global_best: 100%|██████████|1/1, best_cost=7.22e+10\n",
            "2023-09-10 20:14:47,603 - pyswarms.single.global_best - INFO - Optimization finished | best cost: 72171880233.77661, best pos: [2.64349096 1.23935982 3.62723214 4.32917149 4.95591309 1.85161215\n",
            " 2.12164474 4.52911641 4.08067831 5.13439666 2.24122144 5.65527132\n",
            " 2.89949956 1.9779806  2.73252964 4.69506392 3.79562406 4.1879429\n",
            " 4.33614474 3.77319612 6.56229204 4.17556851 5.13870056 1.69500476]\n",
            "2023-09-10 20:14:47,605 - pyswarms.single.global_best - INFO - Optimize for 1 iters with {'c1': 0.5, 'c2': 0.3, 'w': 0.9}\n"
          ]
        },
        {
          "output_type": "stream",
          "name": "stdout",
          "text": [
            "\n",
            "=========================================================================\n",
            "\n",
            "Número de ciclos de manutenção: 8 5\n",
            "Tempos para manutenções preventivas: [0, 36, 79, 242, 413, 503, 594, 664, 712]\n",
            "Severidade para cada subsistema: [0.25, 0.5, 0.25, 0.5, 0.5, 0.5, 0.75, 0.25]\n",
            "Número de Sisemas: 5\n",
            "Fator:  [0.3296799539643607, 0.3934693402873666, 0.6321205588285577, 0.3934693402873666, 0.6321205588285577, 0.6321205588285577, 0.6321205588285577, 0.7768698398515702, 0.3934693402873666]\n",
            "Media de falhas:  [0, 19349.176320000002, 453027.7594063263, 133938475.32815036, 512549086.6523677, 1661524156.4787226, 2105003382.4904442, 2585341525.953742, 2989511761.5104055, 3012513536.7668824]\n",
            "Custo =  148974001271.7517\n"
          ]
        },
        {
          "output_type": "stream",
          "name": "stderr",
          "text": [
            "pyswarms.single.global_best: 100%|██████████|1/1, best_cost=7.22e+10\n",
            "2023-09-10 20:14:47,619 - pyswarms.single.global_best - INFO - Optimization finished | best cost: 72171880233.77661, best pos: [2.64349259 1.23936283 3.6272326  4.32917138 4.95595828 1.87647087\n",
            " 2.1216448  4.52922783 1.8753008  5.03311121 2.24104034 1.62693364\n",
            " 2.89950546 1.97768043 2.73251442 4.68718499 3.79564399 4.18793873\n",
            " 4.33614452 3.77318323 1.63565694 2.24960895 5.13885539 1.69500551]\n",
            "2023-09-10 20:14:47,620 - pyswarms.single.global_best - INFO - Optimize for 1 iters with {'c1': 0.5, 'c2': 0.3, 'w': 0.9}\n"
          ]
        },
        {
          "output_type": "stream",
          "name": "stdout",
          "text": [
            "\n",
            "=========================================================================\n",
            "\n",
            "Número de ciclos de manutenção: 8 5\n",
            "Tempos para manutenções preventivas: [0, 37, 79, 286, 411, 503, 589, 664, 711]\n",
            "Severidade para cada subsistema: [0.25, 0.5, 0.25, 0.25, 0.5, 0.5, 0.75, 0.25]\n",
            "Número de Sisemas: 5\n",
            "Fator:  [0.3296799539643607, 0.3934693402873666, 0.6321205588285577, 0.3934693402873666, 0.3934693402873666, 0.6321205588285577, 0.6321205588285577, 0.7768698398515702, 0.3934693402873666]\n",
            "Media de falhas:  [0, 22190.06624, 444875.7029866962, 344820872.237474, 547615856.2801609, 1721162262.6869683, 3802946355.0076923, 4325701877.117677, 4718276420.475554, 4742732099.289212]\n",
            "Custo =  227477085184.8166\n"
          ]
        },
        {
          "output_type": "stream",
          "name": "stderr",
          "text": [
            "pyswarms.single.global_best: 100%|██████████|1/1, best_cost=7.22e+10\n",
            "2023-09-10 20:14:47,632 - pyswarms.single.global_best - INFO - Optimization finished | best cost: 72171880233.77661, best pos: [2.64349829 1.23936547 3.62723442 4.32917106 4.95600644 1.91567573\n",
            " 2.12164487 4.52936883 6.94676715 4.86967345 2.24088657 4.93317569\n",
            " 2.89950997 1.97725357 2.7324926  4.62701703 3.79565958 4.18792879\n",
            " 4.33614434 3.77314932 4.14056295 0.56548495 5.13923224 1.69500849]\n",
            "2023-09-10 20:14:47,634 - pyswarms.single.global_best - INFO - Optimize for 1 iters with {'c1': 0.5, 'c2': 0.3, 'w': 0.9}\n"
          ]
        },
        {
          "output_type": "stream",
          "name": "stdout",
          "text": [
            "\n",
            "=========================================================================\n",
            "\n",
            "Número de ciclos de manutenção: 10 5\n",
            "Tempos para manutenções preventivas: [0, 37, 79, 195, 286, 348, 457, 503, 584, 664, 711]\n",
            "Severidade para cada subsistema: [0.25, 0.5, 0.5, 0.5, 0.75, 0.25, 0.5, 0.5, 0.75, 0.25]\n",
            "Número de Sisemas: 5\n",
            "Fator:  [0.3296799539643607, 0.3934693402873666, 0.6321205588285577, 0.6321205588285577, 0.6321205588285577, 0.7768698398515702, 0.3934693402873666, 0.6321205588285577, 0.6321205588285577, 0.7768698398515702, 0.3934693402873666]\n",
            "Media de falhas:  [0, 22190.06624, 444875.7029866962, 38230595.31421508, 74146365.09598258, 111852405.32320699, 340231027.88404226, 359403056.44534755, 2258768297.4441595, 2825307509.1152725, 3217882052.4731507, 3242337731.2868085]\n",
            "Custo =  176086912485.98376\n"
          ]
        },
        {
          "output_type": "stream",
          "name": "stderr",
          "text": [
            "pyswarms.single.global_best: 100%|██████████|1/1, best_cost=7.22e+10\n",
            "2023-09-10 20:14:47,646 - pyswarms.single.global_best - INFO - Optimization finished | best cost: 72171880233.77661, best pos: [2.6435107  1.23936753 3.62723636 4.32917068 4.95605571 1.99445297\n",
            " 2.12164494 4.52949974 5.16527134 4.70987802 2.24079277 0.83440778\n",
            " 2.89951214 1.97680008 2.73247295 4.56941304 3.79567332 4.18791773\n",
            " 4.33614421 3.77310285 0.09211678 6.44012948 5.13970257 1.69501188]\n",
            "2023-09-10 20:14:47,648 - pyswarms.single.global_best - INFO - Optimize for 1 iters with {'c1': 0.5, 'c2': 0.3, 'w': 0.9}\n"
          ]
        },
        {
          "output_type": "stream",
          "name": "stdout",
          "text": [
            "\n",
            "=========================================================================\n",
            "\n",
            "Número de ciclos de manutenção: 13 5\n",
            "Tempos para manutenções preventivas: [0, 37, 78, 181, 268, 281, 341, 460, 503, 582, 626, 632, 664, 710]\n",
            "Severidade para cada subsistema: [0.25, 0.5, 0.25, 0.25, 0.75, 0.25, 0.5, 0.5, 0.5, 0.75, 0.5, 0.75, 0.25]\n",
            "Número de Sisemas: 5\n",
            "Fator:  [0.3296799539643607, 0.3934693402873666, 0.6321205588285577, 0.3934693402873666, 0.3934693402873666, 0.7768698398515702, 0.3934693402873666, 0.6321205588285577, 0.6321205588285577, 0.6321205588285577, 0.7768698398515702, 0.6321205588285577, 0.7768698398515702, 0.3934693402873666]\n",
            "Media de falhas:  [0, 22190.06624, 413953.4060477435, 24889758.445148565, 51817957.72146235, 68855568.37610956, 230754271.09876937, 320364767.1021251, 887146607.7820435, 1228422788.01131, 1451000947.4232168, 1479446749.1172752, 1511215952.6903095, 1892352957.2442434, 1918282921.6140354]\n",
            "Custo =  172778359671.4951\n"
          ]
        },
        {
          "output_type": "stream",
          "name": "stderr",
          "text": [
            "pyswarms.single.global_best: 100%|██████████|1/1, best_cost=7.22e+10\n",
            "2023-09-10 20:14:47,662 - pyswarms.single.global_best - INFO - Optimization finished | best cost: 72171880233.77661, best pos: [2.6435265  1.23936931 3.62723831 4.32917033 4.95610017 2.07999647\n",
            " 2.121645   4.52959475 3.47933865 4.56251697 2.24073638 4.1161415\n",
            " 2.89951197 1.97636691 2.73245849 4.50765679 3.79567904 4.18790776\n",
            " 4.33614417 3.77305252 3.47500447 4.3300114  5.14012235 1.69501524]\n",
            "2023-09-10 20:14:47,663 - pyswarms.single.global_best - INFO - Optimize for 1 iters with {'c1': 0.5, 'c2': 0.3, 'w': 0.9}\n"
          ]
        },
        {
          "output_type": "stream",
          "name": "stdout",
          "text": [
            "\n",
            "=========================================================================\n",
            "\n",
            "Número de ciclos de manutenção: 10 5\n",
            "Tempos para manutenções preventivas: [0, 37, 78, 168, 406, 457, 503, 583, 632, 664, 709]\n",
            "Severidade para cada subsistema: [0.25, 0.5, 0.75, 0.25, 0.75, 0.5, 0.5, 0.5, 0.75, 0.25]\n",
            "Número de Sisemas: 5\n",
            "Fator:  [0.3296799539643607, 0.3934693402873666, 0.6321205588285577, 0.7768698398515702, 0.3934693402873666, 0.7768698398515702, 0.6321205588285577, 0.6321205588285577, 0.6321205588285577, 0.7768698398515702, 0.3934693402873666]\n",
            "Media de falhas:  [0, 22190.06624, 413953.4060477435, 15957042.248625496, 790728365.5668467, 806986620.0140406, 1411635553.0777223, 1489942007.6125295, 1751014337.600061, 1947876224.6998014, 2317732220.511967, 2345157143.1317706]\n",
            "Custo =  155541085886.01953\n"
          ]
        },
        {
          "output_type": "stream",
          "name": "stderr",
          "text": [
            "pyswarms.single.global_best: 100%|██████████|1/1, best_cost=7.22e+10\n",
            "2023-09-10 20:14:47,680 - pyswarms.single.global_best - INFO - Optimization finished | best cost: 72171880233.77661, best pos: [2.64354347 1.23936974 3.62724002 4.32917003 4.95613401 2.156984\n",
            " 2.12164504 4.52963082 1.92556055 4.43485926 2.24074866 6.98487449\n",
            " 2.89951158 1.9760733  2.73244744 4.45126345 3.79568222 4.18789941\n",
            " 4.33614423 3.77301121 6.3835665  2.33378723 5.140488   1.69501865]\n",
            "2023-09-10 20:14:47,682 - pyswarms.single.global_best - INFO - Optimize for 1 iters with {'c1': 0.5, 'c2': 0.3, 'w': 0.9}\n"
          ]
        },
        {
          "output_type": "stream",
          "name": "stdout",
          "text": [
            "\n",
            "=========================================================================\n",
            "\n",
            "Número de ciclos de manutenção: 8 5\n",
            "Tempos para manutenções preventivas: [0, 37, 78, 167, 269, 503, 583, 664, 709]\n",
            "Severidade para cada subsistema: [0.25, 0.5, 0.5, 0.5, 0.5, 0.5, 0.75, 0.25]\n",
            "Número de Sisemas: 5\n",
            "Fator:  [0.3296799539643607, 0.3934693402873666, 0.6321205588285577, 0.6321205588285577, 0.6321205588285577, 0.6321205588285577, 0.6321205588285577, 0.7768698398515702, 0.3934693402873666]\n",
            "Media de falhas:  [0, 22190.06624, 413953.4060477435, 15396516.937132934, 52431742.01360639, 1358900763.2722793, 1708013234.2187338, 2283478200.40493, 2653334196.217096, 2680759118.8368993]\n",
            "Custo =  108472689392.39462\n"
          ]
        },
        {
          "output_type": "stream",
          "name": "stderr",
          "text": [
            "pyswarms.single.global_best: 100%|██████████|1/1, best_cost=7.22e+10\n",
            "2023-09-10 20:14:47,696 - pyswarms.single.global_best - INFO - Optimization finished | best cost: 72171880233.77661, best pos: [2.64355933 1.23936885 3.62724091 4.32916978 4.9561629  2.20717828\n",
            " 2.12164507 4.52961683 0.53220791 4.35040371 2.24083419 2.44845131\n",
            " 2.89950863 1.97591559 2.73243756 4.39994946 3.79567965 4.18789672\n",
            " 4.3361444  3.77298395 1.30004274 0.56377195 5.140737   1.69502152]\n",
            "2023-09-10 20:14:47,698 - pyswarms.single.global_best - INFO - Optimize for 1 iters with {'c1': 0.5, 'c2': 0.3, 'w': 0.9}\n"
          ]
        },
        {
          "output_type": "stream",
          "name": "stdout",
          "text": [
            "\n",
            "=========================================================================\n",
            "\n",
            "Número de ciclos de manutenção: 12 5\n",
            "Tempos para manutenções preventivas: [0, 37, 78, 170, 256, 346, 390, 457, 503, 584, 628, 664, 709]\n",
            "Severidade para cada subsistema: [0.25, 0.5, 0.25, 0.25, 0.5, 0.5, 0.25, 0.5, 0.5, 0.75, 0.75, 0.25]\n",
            "Número de Sisemas: 5\n",
            "Fator:  [0.3296799539643607, 0.3934693402873666, 0.6321205588285577, 0.3934693402873666, 0.3934693402873666, 0.6321205588285577, 0.6321205588285577, 0.3934693402873666, 0.6321205588285577, 0.6321205588285577, 0.7768698398515702, 0.7768698398515702, 0.3934693402873666]\n",
            "Media de falhas:  [0, 22190.06624, 413953.4060477435, 17128164.044916313, 39961835.29648952, 295126629.33491164, 502250638.48580754, 614966663.6911336, 716014907.7814755, 2615380148.7802877, 2840721815.248145, 3064559908.357999, 3127758943.14175, 3155183865.7615533]\n",
            "Custo =  197509395089.52728\n"
          ]
        },
        {
          "output_type": "stream",
          "name": "stderr",
          "text": [
            "pyswarms.single.global_best: 100%|██████████|1/1, best_cost=7.22e+10\n",
            "2023-09-10 20:14:47,709 - pyswarms.single.global_best - INFO - Optimization finished | best cost: 72171880233.77661, best pos: [2.64357192 1.23936619 3.62724081 4.32916978 4.95617852 2.22940952\n",
            " 2.12164508 4.52957486 6.40613184 4.33022475 2.24093597 5.3522834\n",
            " 2.89950536 1.97579956 2.73243273 4.35622474 3.79567068 4.18789555\n",
            " 4.33614461 3.77297575 3.69174996 6.28837838 5.14076639 1.69502284]\n",
            "2023-09-10 20:14:47,711 - pyswarms.single.global_best - INFO - Optimize for 1 iters with {'c1': 0.5, 'c2': 0.3, 'w': 0.9}\n"
          ]
        },
        {
          "output_type": "stream",
          "name": "stdout",
          "text": [
            "\n",
            "=========================================================================\n",
            "\n",
            "Número de ciclos de manutenção: 8 5\n",
            "Tempos para manutenções preventivas: [0, 37, 78, 296, 462, 503, 586, 664, 710]\n",
            "Severidade para cada subsistema: [0.25, 0.5, 0.5, 0.5, 0.5, 0.5, 0.75, 0.25]\n",
            "Número de Sisemas: 5\n",
            "Fator:  [0.3296799539643607, 0.3934693402873666, 0.6321205588285577, 0.6321205588285577, 0.6321205588285577, 0.6321205588285577, 0.6321205588285577, 0.7768698398515702, 0.3934693402873666]\n",
            "Media de falhas:  [0, 22190.06624, 413953.4060477435, 420980562.88320833, 918380996.8861892, 1006705451.7911521, 1380047186.0603263, 1928905294.971386, 2310042299.52532, 2335972263.895112]\n",
            "Custo =  112827295036.33069\n"
          ]
        },
        {
          "output_type": "stream",
          "name": "stderr",
          "text": [
            "pyswarms.single.global_best: 100%|██████████|1/1, best_cost=7.22e+10\n",
            "2023-09-10 20:14:47,723 - pyswarms.single.global_best - INFO - Optimization finished | best cost: 72171880233.77661, best pos: [2.64358142 1.23936313 3.62724042 4.32916986 4.95615936 2.2240307\n",
            " 2.12164504 4.52953025 4.38296205 4.37895191 2.24103525 0.42746135\n",
            " 2.89950162 1.97596046 2.73244004 4.33182547 3.79565188 4.18789541\n",
            " 4.33614481 3.77297819 5.84705501 4.50392779 5.14064307 1.6950225 ]\n",
            "2023-09-10 20:14:47,724 - pyswarms.single.global_best - INFO - Optimize for 1 iters with {'c1': 0.5, 'c2': 0.3, 'w': 0.9}\n"
          ]
        },
        {
          "output_type": "stream",
          "name": "stdout",
          "text": [
            "\n",
            "=========================================================================\n",
            "\n",
            "Número de ciclos de manutenção: 13 5\n",
            "Tempos para manutenções preventivas: [0, 37, 78, 157, 267, 279, 351, 394, 466, 504, 589, 609, 664, 710]\n",
            "Severidade para cada subsistema: [0.25, 0.5, 0.75, 0.5, 0.75, 0.25, 0.75, 0.75, 0.5, 0.5, 0.5, 0.75, 0.25]\n",
            "Número de Sisemas: 5\n",
            "Fator:  [0.3296799539643607, 0.3934693402873666, 0.6321205588285577, 0.7768698398515702, 0.6321205588285577, 0.7768698398515702, 0.3934693402873666, 0.7768698398515702, 0.7768698398515702, 0.6321205588285577, 0.6321205588285577, 0.6321205588285577, 0.7768698398515702, 0.3934693402873666]\n",
            "Media de falhas:  [0, 22190.06624, 413953.4060477435, 10626049.958424421, 52936550.97315859, 53297538.13262033, 101633962.66274929, 109100892.39649642, 790303731.3384289, 804875862.5127721, 895175057.6933913, 979994968.8451738, 1340717119.8001442, 1721854124.354078, 1747784088.72387]\n",
            "Custo =  130751084383.113\n"
          ]
        },
        {
          "output_type": "stream",
          "name": "stderr",
          "text": [
            "pyswarms.single.global_best: 100%|██████████|1/1, best_cost=7.22e+10\n",
            "2023-09-10 20:14:47,738 - pyswarms.single.global_best - INFO - Optimization finished | best cost: 72171880233.77661, best pos: [2.64358263 1.23936024 3.62723943 4.32916999 4.95613277 2.17576899\n",
            " 2.12164497 4.52946994 2.14301217 4.46542527 2.24113029 3.06927133\n",
            " 2.89949826 1.97627842 2.73245182 4.34145771 3.79562986 4.1879001\n",
            " 4.33614498 3.77298625 0.10569446 2.36096017 5.14048435 1.69502071]\n",
            "2023-09-10 20:14:47,739 - pyswarms.single.global_best - INFO - Optimize for 1 iters with {'c1': 0.5, 'c2': 0.3, 'w': 0.9}\n"
          ]
        },
        {
          "output_type": "stream",
          "name": "stdout",
          "text": [
            "\n",
            "=========================================================================\n",
            "\n",
            "Número de ciclos de manutenção: 7 5\n",
            "Tempos para manutenções preventivas: [0, 37, 78, 257, 504, 592, 664, 711]\n",
            "Severidade para cada subsistema: [0.25, 0.5, 0.25, 0.5, 0.5, 0.75, 0.25]\n",
            "Número de Sisemas: 5\n",
            "Fator:  [0.3296799539643607, 0.3934693402873666, 0.6321205588285577, 0.3934693402873666, 0.6321205588285577, 0.6321205588285577, 0.7768698398515702, 0.3934693402873666]\n",
            "Media de falhas:  [0, 22190.06624, 413953.4060477435, 190298422.25272852, 1675150792.6813025, 3847362185.856363, 4344506973.463694, 4737081516.821571, 4761537195.635229]\n",
            "Custo =  193245240636.93106\n"
          ]
        },
        {
          "output_type": "stream",
          "name": "stderr",
          "text": [
            "pyswarms.single.global_best: 100%|██████████|1/1, best_cost=7.22e+10"
          ]
        },
        {
          "output_type": "stream",
          "name": "stdout",
          "text": [
            "\n",
            "=========================================================================\n",
            "\n",
            "Número de ciclos de manutenção: 6 5\n",
            "Tempos para manutenções preventivas: [0, 37, 78, 504, 596, 664, 711]\n",
            "Severidade para cada subsistema: [0.25, 0.5, 0.5, 0.5, 0.75, 0.25]\n",
            "Número de Sisemas: 5\n",
            "Fator:  [0.3296799539643607, 0.3934693402873666, 0.6321205588285577, 0.6321205588285577, 0.6321205588285577, 0.7768698398515702, 0.3934693402873666]\n",
            "Media de falhas:  [0, 22190.06624, 413953.4060477435, 7601423090.519459, 8057044019.341375, 8520785048.992854, 8913359592.350733, 8937815271.16439]\n",
            "Custo =  157059251175.34296\n"
          ]
        },
        {
          "output_type": "stream",
          "name": "stderr",
          "text": [
            "\n",
            "2023-09-10 20:14:47,751 - pyswarms.single.global_best - INFO - Optimization finished | best cost: 72171880233.77661, best pos: [2.6435785  1.23935768 3.62723836 4.32917019 4.9560887  2.11348847\n",
            " 2.1216449  4.52939916 0.14081594 4.59807715 2.24121368 6.06670861\n",
            " 2.89949558 1.97664369 2.73246908 4.37092478 3.79561033 4.18790742\n",
            " 4.33614511 3.77301643 1.95453348 0.44781226 5.14010368 1.69501809]\n",
            "2023-09-10 20:14:47,753 - pyswarms.single.global_best - INFO - Optimize for 1 iters with {'c1': 0.5, 'c2': 0.3, 'w': 0.9}\n",
            "pyswarms.single.global_best: 100%|██████████|1/1, best_cost=7.22e+10\n",
            "2023-09-10 20:14:47,903 - pyswarms.single.global_best - INFO - Optimization finished | best cost: 72171880233.77661, best pos: [2.6435724  1.23935642 3.62723736 4.32917043 4.95604521 2.05374133\n",
            " 2.12164483 4.52933189 5.54630522 4.72051445 2.24126527 2.26841204\n",
            " 2.89949341 1.97698643 2.7324888  4.39859346 3.79559965 4.18791543\n",
            " 4.33614521 3.77305302 4.19469355 6.2254659  5.1397087  1.69501546]\n",
            "2023-09-10 20:14:47,905 - pyswarms.single.global_best - INFO - Optimize for 1 iters with {'c1': 0.5, 'c2': 0.3, 'w': 0.9}\n"
          ]
        },
        {
          "output_type": "stream",
          "name": "stdout",
          "text": [
            "\n",
            "=========================================================================\n",
            "\n",
            "Número de ciclos de manutenção: 13 5\n",
            "Tempos para manutenções preventivas: [0, 37, 78, 174, 265, 283, 346, 404, 455, 503, 598, 658, 664, 711]\n",
            "Severidade para cada subsistema: [0.25, 0.5, 0.75, 0.5, 0.25, 0.25, 0.5, 0.75, 0.5, 0.5, 0.25, 0.75, 0.25]\n",
            "Número de Sisemas: 5\n",
            "Fator:  [0.3296799539643607, 0.3934693402873666, 0.6321205588285577, 0.7768698398515702, 0.6321205588285577, 0.3934693402873666, 0.3934693402873666, 0.6321205588285577, 0.7768698398515702, 0.6321205588285577, 0.6321205588285577, 0.3934693402873666, 0.7768698398515702, 0.3934693402873666]\n",
            "Media de falhas:  [0, 22190.06624, 413953.4060477435, 19681088.95123662, 47976527.7773901, 48618709.13975511, 86407169.53120966, 397403639.4486063, 842302725.8172653, 948585676.2382133, 1065196338.5196384, 1450962628.4755034, 1485598348.3166227, 3982795832.5509796, 4007251511.3646374]\n",
            "Custo =  341222305517.61035\n"
          ]
        },
        {
          "output_type": "stream",
          "name": "stderr",
          "text": [
            "pyswarms.single.global_best: 100%|██████████|1/1, best_cost=7.22e+10\n",
            "2023-09-10 20:14:47,915 - pyswarms.single.global_best - INFO - Optimization finished | best cost: 72171880233.77661, best pos: [2.64356056 1.23935571 3.62723647 4.32917067 4.95600665 2.00608618\n",
            " 2.12164479 4.5292866  3.11839738 4.82778192 2.24130523 5.81334139\n",
            " 2.899492   1.97726356 2.7325061  4.42640121 3.7955919  4.18792271\n",
            " 4.33614521 3.77308919 6.07893321 4.16666543 5.13935009 1.69501342]\n",
            "2023-09-10 20:14:47,917 - pyswarms.single.global_best - INFO - Optimize for 1 iters with {'c1': 0.5, 'c2': 0.3, 'w': 0.9}\n"
          ]
        },
        {
          "output_type": "stream",
          "name": "stdout",
          "text": [
            "\n",
            "=========================================================================\n",
            "\n",
            "Número de ciclos de manutenção: 11 5\n",
            "Tempos para manutenções preventivas: [0, 37, 78, 170, 191, 286, 353, 503, 599, 657, 664, 711]\n",
            "Severidade para cada subsistema: [0.25, 0.5, 0.5, 0.75, 0.5, 0.5, 0.5, 0.5, 0.25, 0.75, 0.25]\n",
            "Número de Sisemas: 5\n",
            "Fator:  [0.3296799539643607, 0.3934693402873666, 0.6321205588285577, 0.6321205588285577, 0.7768698398515702, 0.6321205588285577, 0.6321205588285577, 0.6321205588285577, 0.6321205588285577, 0.3934693402873666, 0.7768698398515702, 0.3934693402873666]\n",
            "Media de falhas:  [0, 22190.06624, 413953.4060477435, 17128164.044916313, 18124018.015327305, 57026578.69339885, 68946529.12078361, 606498818.687914, 1098143002.58858, 1466662822.098807, 1507162736.962279, 4004360221.196636, 4028815900.010294]\n",
            "Custo =  304360535178.402\n"
          ]
        },
        {
          "output_type": "stream",
          "name": "stderr",
          "text": [
            "pyswarms.single.global_best: 100%|██████████|1/1, best_cost=7.22e+10\n",
            "2023-09-10 20:14:47,928 - pyswarms.single.global_best - INFO - Optimization finished | best cost: 72171880233.77661, best pos: [2.64354686 1.23935553 3.62723569 4.32917087 4.9559779  1.9831633\n",
            " 2.12164475 4.52926496 0.90866628 4.89493532 2.2412908  2.2069825\n",
            " 2.89949301 1.9774769  2.732518   4.4547492  3.79559579 4.1879287\n",
            " 4.33614512 3.77312019 6.94214158 2.29252452 5.13906642 1.69501236]\n",
            "2023-09-10 20:14:47,929 - pyswarms.single.global_best - INFO - Optimize for 1 iters with {'c1': 0.5, 'c2': 0.3, 'w': 0.9}\n"
          ]
        },
        {
          "output_type": "stream",
          "name": "stdout",
          "text": [
            "\n",
            "=========================================================================\n",
            "\n",
            "Número de ciclos de manutenção: 11 5\n",
            "Tempos para manutenções preventivas: [0, 37, 78, 169, 183, 257, 290, 451, 503, 599, 664, 711]\n",
            "Severidade para cada subsistema: [0.25, 0.5, 0.25, 0.5, 0.75, 0.75, 0.5, 0.5, 0.5, 0.75, 0.25]\n",
            "Número de Sisemas: 5\n",
            "Fator:  [0.3296799539643607, 0.3934693402873666, 0.6321205588285577, 0.3934693402873666, 0.6321205588285577, 0.7768698398515702, 0.7768698398515702, 0.6321205588285577, 0.6321205588285577, 0.6321205588285577, 0.7768698398515702, 0.3934693402873666]\n",
            "Media de falhas:  [0, 22190.06624, 413953.4060477435, 16534136.404478362, 17057464.65057942, 81001260.21158053, 89384976.48580755, 276470599.0840642, 299676043.61991465, 791320227.5205805, 1230550627.5797024, 1623125170.9375806, 1647580849.7512383]\n",
            "Custo =  97878377446.84001\n"
          ]
        },
        {
          "output_type": "stream",
          "name": "stderr",
          "text": [
            "pyswarms.single.global_best: 100%|██████████|1/1, best_cost=7.22e+10\n",
            "2023-09-10 20:14:47,941 - pyswarms.single.global_best - INFO - Optimization finished | best cost: 72171880233.77661, best pos: [2.64353434 1.23935552 3.62723514 4.32917102 4.95595755 1.97522511\n",
            " 2.12164474 4.52926524 5.99333571 4.94719129 2.24123293 5.9441007\n",
            " 2.89949616 1.97748194 2.73252366 4.47963723 3.79560625 4.18793085\n",
            " 4.33614491 3.77314151 1.06854137 0.6112986  5.13895463 1.69501213]\n",
            "2023-09-10 20:14:47,942 - pyswarms.single.global_best - INFO - Optimize for 1 iters with {'c1': 0.5, 'c2': 0.3, 'w': 0.9}\n"
          ]
        },
        {
          "output_type": "stream",
          "name": "stdout",
          "text": [
            "\n",
            "=========================================================================\n",
            "\n",
            "Número de ciclos de manutenção: 12 5\n",
            "Tempos para manutenções preventivas: [0, 37, 78, 180, 247, 355, 400, 469, 503, 598, 611, 664, 711]\n",
            "Severidade para cada subsistema: [0.25, 0.5, 0.25, 0.5, 0.25, 0.25, 0.75, 0.5, 0.5, 0.5, 0.75, 0.25]\n",
            "Número de Sisemas: 5\n",
            "Fator:  [0.3296799539643607, 0.3934693402873666, 0.6321205588285577, 0.3934693402873666, 0.6321205588285577, 0.3934693402873666, 0.3934693402873666, 0.7768698398515702, 0.6321205588285577, 0.6321205588285577, 0.6321205588285577, 0.7768698398515702, 0.3934693402873666]\n",
            "Media de falhas:  [0, 22190.06624, 413953.4060477435, 24083849.794378556, 37103135.61420544, 377434969.2867231, 418702355.67268723, 1089931512.640665, 1542087754.013814, 1658698416.2952392, 1713524715.020021, 2059108821.5347347, 2451683364.892613, 2476139043.7062707]\n",
            "Custo =  196546440794.2514\n"
          ]
        },
        {
          "output_type": "stream",
          "name": "stderr",
          "text": [
            "pyswarms.single.global_best: 100%|██████████|1/1, best_cost=7.22e+10\n",
            "2023-09-10 20:14:47,954 - pyswarms.single.global_best - INFO - Optimization finished | best cost: 72171880233.77661, best pos: [2.64352437 1.23935557 3.6272351  4.32917115 4.95596122 1.9849509\n",
            " 2.12164473 4.52930057 3.56170182 4.95631673 2.24114874 2.02069433\n",
            " 2.89949938 1.97747522 2.73252154 4.49058189 3.79562102 4.18793096\n",
            " 4.3361447  3.77314732 2.75781704 6.33533343 5.13890605 1.695013  ]\n"
          ]
        },
        {
          "output_type": "stream",
          "name": "stdout",
          "text": [
            "\n",
            "=========================================================================\n",
            "\n",
            "Número de ciclos de manutenção: 7 5\n",
            "Tempos para manutenções preventivas: [0, 37, 78, 406, 503, 596, 664, 710]\n",
            "Severidade para cada subsistema: [0.25, 0.5, 0.75, 0.5, 0.5, 0.75, 0.25]\n",
            "Número de Sisemas: 5\n",
            "Fator:  [0.3296799539643607, 0.3934693402873666, 0.6321205588285577, 0.7768698398515702, 0.6321205588285577, 0.6321205588285577, 0.7768698398515702, 0.3934693402873666]\n",
            "Media de falhas:  [0, 22190.06624, 413953.4060477435, 2383190496.1098204, 2649802568.7586923, 2760624072.755942, 3224365102.407421, 3605502106.961355, 3631432071.331147]\n",
            "Custo =  110466924621.21732\n"
          ]
        },
        {
          "output_type": "stream",
          "name": "stderr",
          "text": [
            "2023-09-10 20:14:47,955 - pyswarms.single.global_best - INFO - Optimize for 1 iters with {'c1': 0.5, 'c2': 0.3, 'w': 0.9}\n",
            "pyswarms.single.global_best: 100%|██████████|1/1, best_cost=7.21e+10\n",
            "2023-09-10 20:14:47,967 - pyswarms.single.global_best - INFO - Optimization finished | best cost: 72113486272.13892, best pos: [2.64351862 1.2393567  3.62723511 4.32917109 4.95598551 2.00908017\n",
            " 2.12164476 4.52933976 1.35796954 4.91414845 2.24107089 5.43948163\n",
            " 2.89950297 1.97740596 2.73251023 4.48754431 3.79563559 4.18792712\n",
            " 4.33614451 3.77313316 4.38588045 5.11535743 5.13896641 1.69501444]\n",
            "2023-09-10 20:14:47,969 - pyswarms.single.global_best - INFO - Optimize for 1 iters with {'c1': 0.5, 'c2': 0.3, 'w': 0.9}\n"
          ]
        },
        {
          "output_type": "stream",
          "name": "stdout",
          "text": [
            "\n",
            "=========================================================================\n",
            "\n",
            "Número de ciclos de manutenção: 10 5\n",
            "Tempos para manutenções preventivas: [0, 37, 78, 154, 269, 279, 503, 595, 605, 664, 710]\n",
            "Severidade para cada subsistema: [0.25, 0.5, 0.5, 0.75, 0.75, 0.5, 0.5, 0.75, 0.75, 0.25]\n",
            "Número de Sisemas: 5\n",
            "Fator:  [0.3296799539643607, 0.3934693402873666, 0.6321205588285577, 0.6321205588285577, 0.7768698398515702, 0.7768698398515702, 0.6321205588285577, 0.6321205588285577, 0.7768698398515702, 0.7768698398515702, 0.3934693402873666]\n",
            "Media de falhas:  [0, 22190.06624, 413953.4060477435, 9460969.969792878, 56962578.89207963, 58840091.72713108, 673579812.33864, 781590133.8264883, 821832020.5479697, 1213383539.4017313, 1278833034.5399783, 1304762998.9097703]\n",
            "Custo =  72113486272.13892\n"
          ]
        },
        {
          "output_type": "stream",
          "name": "stderr",
          "text": [
            "pyswarms.single.global_best: 100%|██████████|1/1, best_cost=7.21e+10\n",
            "2023-09-10 20:14:47,985 - pyswarms.single.global_best - INFO - Optimization finished | best cost: 72113486272.13892, best pos: [2.64351344 1.23935772 3.62723511 4.32917104 4.95600738 2.03079652\n",
            " 2.12164479 4.52937503 6.37461049 4.87619699 2.24100082 2.2163902\n",
            " 2.8995062  1.97734362 2.73250005 4.48481049 3.7956487  4.18792366\n",
            " 4.33614434 3.77312042 6.55113753 4.01737904 5.13902074 1.69501574]\n",
            "2023-09-10 20:14:47,986 - pyswarms.single.global_best - INFO - Optimize for 1 iters with {'c1': 0.5, 'c2': 0.3, 'w': 0.9}\n"
          ]
        },
        {
          "output_type": "stream",
          "name": "stdout",
          "text": [
            "\n",
            "=========================================================================\n",
            "\n",
            "Número de ciclos de manutenção: 9 5\n",
            "Tempos para manutenções preventivas: [0, 37, 78, 161, 240, 503, 593, 637, 664, 710]\n",
            "Severidade para cada subsistema: [0.25, 0.5, 0.25, 0.5, 0.5, 0.5, 0.5, 0.75, 0.25]\n",
            "Número de Sisemas: 5\n",
            "Fator:  [0.3296799539643607, 0.3934693402873666, 0.6321205588285577, 0.3934693402873666, 0.6321205588285577, 0.6321205588285577, 0.6321205588285577, 0.6321205588285577, 0.7768698398515702, 0.3934693402873666]\n",
            "Media de falhas:  [0, 22190.06624, 413953.4060477435, 12361550.466515914, 28277075.380448684, 3650438162.5546904, 4084694167.1303344, 4322792295.942017, 4486750848.47213, 4867887853.026064, 4893817817.395856]\n",
            "Custo =  160076208677.83273\n"
          ]
        },
        {
          "output_type": "stream",
          "name": "stderr",
          "text": [
            "pyswarms.single.global_best: 100%|██████████|1/1, best_cost=7.21e+10\n",
            "2023-09-10 20:14:47,997 - pyswarms.single.global_best - INFO - Optimization finished | best cost: 72113486272.13892, best pos: [2.64350926 1.23935851 3.62723511 4.329171   4.95602232 2.04645915\n",
            " 2.12164481 4.52939637 3.92634569 4.85335303 2.24093787 0.02556791\n",
            " 2.89950819 1.97730553 2.7324921  4.48274821 3.79566008 4.18792146\n",
            " 4.33614423 3.77311254 1.64219931 3.20844994 5.13906445 1.69501652]\n",
            "2023-09-10 20:14:47,999 - pyswarms.single.global_best - INFO - Optimize for 1 iters with {'c1': 0.5, 'c2': 0.3, 'w': 0.9}\n"
          ]
        },
        {
          "output_type": "stream",
          "name": "stdout",
          "text": [
            "\n",
            "=========================================================================\n",
            "\n",
            "Número de ciclos de manutenção: 9 5\n",
            "Tempos para manutenções preventivas: [0, 37, 78, 345, 395, 503, 591, 605, 664, 710]\n",
            "Severidade para cada subsistema: [0.25, 0.5, 0.25, 0.75, 0.5, 0.5, 0.25, 0.75, 0.25]\n",
            "Número de Sisemas: 5\n",
            "Fator:  [0.3296799539643607, 0.3934693402873666, 0.6321205588285577, 0.3934693402873666, 0.7768698398515702, 0.6321205588285577, 0.6321205588285577, 0.3934693402873666, 0.7768698398515702, 0.3934693402873666]\n",
            "Media de falhas:  [0, 22190.06624, 413953.4060477435, 981943127.498389, 1026869264.5919464, 2397673762.0807414, 2494976643.6497335, 2551903006.365149, 2943454525.2189107, 5375486071.628572, 5401416035.998364]\n",
            "Custo =  333010201447.06256\n"
          ]
        },
        {
          "output_type": "stream",
          "name": "stderr",
          "text": [
            "pyswarms.single.global_best: 100%|██████████|1/1, best_cost=7.21e+10\n",
            "2023-09-10 20:14:48,009 - pyswarms.single.global_best - INFO - Optimization finished | best cost: 72113486272.13892, best pos: [2.64350586 1.23935909 3.62723511 4.32917096 4.95602595 2.05827085\n",
            " 2.12164482 4.52940753 1.03637107 4.83871891 2.24088164 5.08946615\n",
            " 2.89950854 1.97727863 2.73249023 4.48170172 3.79566355 4.18791951\n",
            " 4.33614417 3.77311096 4.30628548 2.8503337  5.13908639 1.69501699]\n",
            "2023-09-10 20:14:48,011 - pyswarms.single.global_best - INFO - Optimize for 1 iters with {'c1': 0.5, 'c2': 0.3, 'w': 0.9}\n"
          ]
        },
        {
          "output_type": "stream",
          "name": "stdout",
          "text": [
            "\n",
            "=========================================================================\n",
            "\n",
            "Número de ciclos de manutenção: 10 5\n",
            "Tempos para manutenções preventivas: [0, 37, 78, 205, 394, 503, 590, 620, 637, 664, 710]\n",
            "Severidade para cada subsistema: [0.25, 0.5, 0.75, 0.5, 0.5, 0.5, 0.5, 0.75, 0.75, 0.25]\n",
            "Número de Sisemas: 5\n",
            "Fator:  [0.3296799539643607, 0.3934693402873666, 0.6321205588285577, 0.7768698398515702, 0.6321205588285577, 0.6321205588285577, 0.6321205588285577, 0.6321205588285577, 0.7768698398515702, 0.7768698398515702, 0.3934693402873666]\n",
            "Media de falhas:  [0, 22190.06624, 413953.4060477435, 51831793.28502844, 464653289.2337752, 557711032.7887938, 965090577.9159861, 1105428460.3351212, 1190864178.1882565, 1354822730.7183702, 1420272225.8566172, 1446202190.2264092]\n",
            "Custo =  106523749767.67584\n"
          ]
        },
        {
          "output_type": "stream",
          "name": "stderr",
          "text": [
            "pyswarms.single.global_best: 100%|██████████|1/1, best_cost=7.21e+10\n",
            "2023-09-10 20:14:48,022 - pyswarms.single.global_best - INFO - Optimization finished | best cost: 72113486272.13892, best pos: [2.64350509 1.23935953 3.62723511 4.32917094 4.956026   2.06051071\n",
            " 2.12164482 4.52940237 5.47610275 4.83573865 2.24083777 3.35372888\n",
            " 2.89950793 1.97726282 2.73248897 4.48076468 3.79566656 4.1879194\n",
            " 4.33614413 3.77311497 0.40954997 2.64610481 5.13908068 1.69501673]\n",
            "2023-09-10 20:14:48,024 - pyswarms.single.global_best - INFO - Optimize for 1 iters with {'c1': 0.5, 'c2': 0.3, 'w': 0.9}\n"
          ]
        },
        {
          "output_type": "stream",
          "name": "stdout",
          "text": [
            "\n",
            "=========================================================================\n",
            "\n",
            "Número de ciclos de manutenção: 10 5\n",
            "Tempos para manutenções preventivas: [0, 37, 78, 169, 198, 393, 479, 503, 590, 664, 710]\n",
            "Severidade para cada subsistema: [0.25, 0.5, 0.25, 0.5, 0.25, 0.25, 0.5, 0.5, 0.75, 0.25]\n",
            "Número de Sisemas: 5\n",
            "Fator:  [0.3296799539643607, 0.3934693402873666, 0.6321205588285577, 0.3934693402873666, 0.6321205588285577, 0.3934693402873666, 0.3934693402873666, 0.6321205588285577, 0.6321205588285577, 0.7768698398515702, 0.3934693402873666]\n",
            "Media de falhas:  [0, 22190.06624, 413953.4060477435, 16534136.404478362, 18252698.55012162, 1004162695.5446526, 1192506997.5267825, 1515177509.279909, 3634582160.369195, 4148746730.139414, 4529883734.693348, 4555813699.06314]\n",
            "Custo =  247313569205.11115\n"
          ]
        },
        {
          "output_type": "stream",
          "name": "stderr",
          "text": [
            "pyswarms.single.global_best: 100%|██████████|1/1, best_cost=7.21e+10\n",
            "2023-09-10 20:14:48,035 - pyswarms.single.global_best - INFO - Optimization finished | best cost: 72113486272.13892, best pos: [2.64350596 1.23935959 3.62723511 4.32917094 4.95602149 2.05324875\n",
            " 2.12164481 4.52939554 2.08714395 4.85010665 2.24084932 1.99905485\n",
            " 2.89950594 1.97727432 2.73248911 4.48109433 3.79566065 4.18791974\n",
            " 4.33614413 3.77312108 4.46525175 3.13469508 5.13906752 1.69501596]\n",
            "2023-09-10 20:14:48,037 - pyswarms.single.global_best - INFO - Optimize for 1 iters with {'c1': 0.5, 'c2': 0.3, 'w': 0.9}\n"
          ]
        },
        {
          "output_type": "stream",
          "name": "stdout",
          "text": [
            "\n",
            "=========================================================================\n",
            "\n",
            "Número de ciclos de manutenção: 8 5\n",
            "Tempos para manutenções preventivas: [0, 37, 78, 196, 469, 503, 590, 664, 710]\n",
            "Severidade para cada subsistema: [0.25, 0.5, 0.25, 0.5, 0.5, 0.5, 0.75, 0.25]\n",
            "Número de Sisemas: 5\n",
            "Fator:  [0.3296799539643607, 0.3934693402873666, 0.6321205588285577, 0.3934693402873666, 0.6321205588285577, 0.6321205588285577, 0.6321205588285577, 0.7768698398515702, 0.3934693402873666]\n",
            "Media de falhas:  [0, 22190.06624, 413953.4060477435, 39841800.8301329, 1605616685.3205426, 2057772926.6936915, 2465152471.8208838, 2979317041.5911026, 3360454046.1450367, 3386384010.5148287]\n",
            "Custo =  162364880640.49466\n"
          ]
        },
        {
          "output_type": "stream",
          "name": "stderr",
          "text": [
            "pyswarms.single.global_best: 100%|██████████|1/1, best_cost=7.21e+10\n",
            "2023-09-10 20:14:48,053 - pyswarms.single.global_best - INFO - Optimization finished | best cost: 72113486272.13892, best pos: [2.64350988 1.23935897 3.62723511 4.32917094 4.95601474 2.04243384\n",
            " 2.12164479 4.52937928 5.99567146 4.87648258 2.24089507 1.73163726\n",
            " 2.89950372 1.97730487 2.73249451 4.48180145 3.7956489  4.18792091\n",
            " 4.33614422 3.7731299  1.81508794 3.96340409 5.13905336 1.69501513]\n",
            "2023-09-10 20:14:48,054 - pyswarms.single.global_best - INFO - Optimize for 1 iters with {'c1': 0.5, 'c2': 0.3, 'w': 0.9}\n"
          ]
        },
        {
          "output_type": "stream",
          "name": "stdout",
          "text": [
            "\n",
            "=========================================================================\n",
            "\n",
            "Número de ciclos de manutenção: 11 5\n",
            "Tempos para manutenções preventivas: [0, 37, 78, 158, 255, 297, 333, 458, 503, 591, 664, 710]\n",
            "Severidade para cada subsistema: [0.25, 0.5, 0.5, 0.5, 0.25, 0.25, 0.75, 0.5, 0.5, 0.75, 0.25]\n",
            "Número de Sisemas: 5\n",
            "Fator:  [0.3296799539643607, 0.3934693402873666, 0.6321205588285577, 0.6321205588285577, 0.6321205588285577, 0.3934693402873666, 0.3934693402873666, 0.7768698398515702, 0.6321205588285577, 0.6321205588285577, 0.7768698398515702, 0.3934693402873666]\n",
            "Media de falhas:  [0, 22190.06624, 413953.4060477435, 11039801.05693777, 39572227.42091769, 52031632.322511286, 67744829.76228915, 1156160151.1909025, 1748204017.3394718, 1845506898.908464, 2351134708.8513327, 2732271713.405267, 2758201677.7750587]\n",
            "Custo =  162593273217.22034\n"
          ]
        },
        {
          "output_type": "stream",
          "name": "stderr",
          "text": [
            "pyswarms.single.global_best: 100%|██████████|1/1, best_cost=7.21e+10\n",
            "2023-09-10 20:14:48,065 - pyswarms.single.global_best - INFO - Optimization finished | best cost: 72113486272.13892, best pos: [2.64351387 1.23935778 3.6272351  4.32917098 4.9560061  2.030799\n",
            " 2.12164477 4.52935327 2.05113021 4.9049394  2.24097219 1.51980605\n",
            " 2.89950162 1.97736122 2.7325009  4.48297922 3.79563707 4.18792356\n",
            " 4.33614438 3.77313792 6.58213436 5.026234   5.13903718 1.69501435]\n",
            "2023-09-10 20:14:48,067 - pyswarms.single.global_best - INFO - Optimize for 1 iters with {'c1': 0.5, 'c2': 0.3, 'w': 0.9}\n"
          ]
        },
        {
          "output_type": "stream",
          "name": "stdout",
          "text": [
            "\n",
            "=========================================================================\n",
            "\n",
            "Número de ciclos de manutenção: 10 5\n",
            "Tempos para manutenções preventivas: [0, 37, 78, 282, 330, 503, 592, 610, 639, 664, 710]\n",
            "Severidade para cada subsistema: [0.25, 0.5, 0.5, 0.25, 0.5, 0.5, 0.5, 0.25, 0.75, 0.25]\n",
            "Número de Sisemas: 5\n",
            "Fator:  [0.3296799539643607, 0.3934693402873666, 0.6321205588285577, 0.6321205588285577, 0.3934693402873666, 0.6321205588285577, 0.6321205588285577, 0.6321205588285577, 0.3934693402873666, 0.7768698398515702, 0.3934693402873666]\n",
            "Media de falhas:  [0, 22190.06624, 413953.4060477435, 321107987.49907196, 343006928.6764892, 1042254766.1956153, 3238060786.2904725, 3314481831.341854, 3466753315.1097217, 3617794727.7318187, 6049826274.141481, 6075756238.511273]\n",
            "Custo =  401828182752.7256\n"
          ]
        },
        {
          "output_type": "stream",
          "name": "stderr",
          "text": [
            "pyswarms.single.global_best: 100%|██████████|1/1, best_cost=7.21e+10\n",
            "2023-09-10 20:14:48,077 - pyswarms.single.global_best - INFO - Optimization finished | best cost: 72113486272.13892, best pos: [2.64351793 1.2393565  3.6272351  4.32917103 4.95599448 2.01763474\n",
            " 2.12164475 4.52932592 5.42172671 4.9312551  2.24106206 2.29770962\n",
            " 2.89949979 1.97741453 2.73250927 4.48540639 3.79562604 4.18792652\n",
            " 4.33614456 3.77314452 4.47443896 5.9883346  5.13901672 1.69501368]\n",
            "2023-09-10 20:14:48,079 - pyswarms.single.global_best - INFO - Optimize for 1 iters with {'c1': 0.5, 'c2': 0.3, 'w': 0.9}\n"
          ]
        },
        {
          "output_type": "stream",
          "name": "stdout",
          "text": [
            "\n",
            "=========================================================================\n",
            "\n",
            "Número de ciclos de manutenção: 10 5\n",
            "Tempos para manutenções preventivas: [0, 37, 78, 153, 182, 272, 331, 503, 593, 664, 711]\n",
            "Severidade para cada subsistema: [0.25, 0.5, 0.75, 0.25, 0.75, 0.25, 0.5, 0.5, 0.75, 0.25]\n",
            "Número de Sisemas: 5\n",
            "Fator:  [0.3296799539643607, 0.3934693402873666, 0.6321205588285577, 0.7768698398515702, 0.3934693402873666, 0.7768698398515702, 0.3934693402873666, 0.6321205588285577, 0.6321205588285577, 0.7768698398515702, 0.3934693402873666]\n",
            "Media de falhas:  [0, 22190.06624, 413953.4060477435, 9097004.068896657, 10360098.168761395, 22487370.523442265, 163748527.83563647, 450490330.69564116, 2685083094.45173, 3173798143.8223624, 3566372687.1802406, 3590828365.9938984]\n",
            "Custo =  182870007658.33636\n"
          ]
        },
        {
          "output_type": "stream",
          "name": "stderr",
          "text": [
            "pyswarms.single.global_best: 100%|██████████|1/1, best_cost=7.21e+10\n",
            "2023-09-10 20:14:48,091 - pyswarms.single.global_best - INFO - Optimization finished | best cost: 72113486272.13892, best pos: [2.64352177 1.23935536 3.6272351  4.32917109 4.95598392 2.00346053\n",
            " 2.12164473 4.52930485 1.52518999 4.95027483 2.24114519 3.05764484\n",
            " 2.89949893 1.97746177 2.7325169  4.48798231 3.79561707 4.18792932\n",
            " 4.33614471 3.77314799 2.56140057 6.63445443 5.1389977  1.69501317]\n",
            "2023-09-10 20:14:48,092 - pyswarms.single.global_best - INFO - Optimize for 1 iters with {'c1': 0.5, 'c2': 0.3, 'w': 0.9}\n"
          ]
        },
        {
          "output_type": "stream",
          "name": "stdout",
          "text": [
            "\n",
            "=========================================================================\n",
            "\n",
            "Número de ciclos de manutenção: 12 5\n",
            "Tempos para manutenções preventivas: [0, 37, 78, 200, 261, 345, 407, 473, 503, 594, 615, 664, 711]\n",
            "Severidade para cada subsistema: [0.25, 0.5, 0.75, 0.25, 0.25, 0.75, 0.25, 0.5, 0.5, 0.75, 0.75, 0.25]\n",
            "Número de Sisemas: 5\n",
            "Fator:  [0.3296799539643607, 0.3934693402873666, 0.6321205588285577, 0.7768698398515702, 0.3934693402873666, 0.3934693402873666, 0.7768698398515702, 0.3934693402873666, 0.6321205588285577, 0.6321205588285577, 0.7768698398515702, 0.7768698398515702, 0.3934693402873666]\n",
            "Media de falhas:  [0, 22190.06624, 413953.4060477435, 44858122.2268823, 58293084.790021025, 76708708.06057072, 418244570.21528536, 1084043918.25479, 1094492095.1040578, 3368266289.4389915, 3461089841.030364, 3776934176.386858, 3844680975.9326687, 3869136654.7463264]\n",
            "Custo =  221359115508.84158\n"
          ]
        },
        {
          "output_type": "stream",
          "name": "stderr",
          "text": [
            "pyswarms.single.global_best: 100%|██████████|1/1, best_cost=7.21e+10\n"
          ]
        },
        {
          "output_type": "stream",
          "name": "stdout",
          "text": [
            "\n",
            "=========================================================================\n",
            "\n",
            "Número de ciclos de manutenção: 10 5\n",
            "Tempos para manutenções preventivas: [0, 37, 78, 183, 396, 456, 503, 595, 616, 664, 711]\n",
            "Severidade para cada subsistema: [0.25, 0.5, 0.5, 0.5, 0.5, 0.5, 0.5, 0.5, 0.75, 0.25]\n",
            "Número de Sisemas: 5\n",
            "Fator:  [0.3296799539643607, 0.3934693402873666, 0.6321205588285577, 0.6321205588285577, 0.6321205588285577, 0.6321205588285577, 0.6321205588285577, 0.6321205588285577, 0.6321205588285577, 0.7768698398515702, 0.3934693402873666]\n",
            "Media de falhas:  [0, 22190.06624, 413953.4060477435, 26567215.668076754, 580029855.9002283, 676824286.4408804, 780479264.169828, 1233316333.2131681, 1326736485.7936678, 1635255162.4673057, 2027829705.8251839, 2052285384.6388416]\n",
            "Custo =  128457198472.98535\n"
          ]
        },
        {
          "output_type": "stream",
          "name": "stderr",
          "text": [
            "2023-09-10 20:14:48,449 - pyswarms.single.global_best - INFO - Optimization finished | best cost: 72113486272.13892, best pos: [2.64352451 1.23935456 3.6272351  4.32917115 4.95597484 1.99196017\n",
            " 2.12164472 4.52929446 5.01481961 4.96599335 2.24120766 4.13533846\n",
            " 2.89949867 1.9775     2.73252359 4.4902477  3.7956093  4.18793147\n",
            " 4.33614481 3.77315011 1.10534301 0.06480328 5.13897833 1.69501299]\n",
            "2023-09-10 20:14:48,456 - pyswarms.single.global_best - INFO - Optimize for 1 iters with {'c1': 0.5, 'c2': 0.3, 'w': 0.9}\n",
            "pyswarms.single.global_best: 100%|██████████|1/1, best_cost=7.21e+10\n",
            "2023-09-10 20:14:48,476 - pyswarms.single.global_best - INFO - Optimization finished | best cost: 72113486272.13892, best pos: [2.6435256  1.23935399 3.6272351  4.32917118 4.95596952 1.98193913\n",
            " 2.12164471 4.52928761 1.0393207  4.96766939 2.24122662 5.14410142\n",
            " 2.89949947 1.97752528 2.73252655 4.49196812 3.79560498 4.18793217\n",
            " 4.33614489 3.77314734 0.34561682 1.13977462 5.13895938 1.69501307]\n",
            "2023-09-10 20:14:48,478 - pyswarms.single.global_best - INFO - Optimize for 1 iters with {'c1': 0.5, 'c2': 0.3, 'w': 0.9}\n"
          ]
        },
        {
          "output_type": "stream",
          "name": "stdout",
          "text": [
            "\n",
            "=========================================================================\n",
            "\n",
            "Número de ciclos de manutenção: 9 5\n",
            "Tempos para manutenções preventivas: [0, 37, 78, 246, 332, 390, 503, 595, 664, 711]\n",
            "Severidade para cada subsistema: [0.25, 0.5, 0.5, 0.5, 0.25, 0.5, 0.5, 0.75, 0.25]\n",
            "Número de Sisemas: 5\n",
            "Fator:  [0.3296799539643607, 0.3934693402873666, 0.6321205588285577, 0.6321205588285577, 0.6321205588285577, 0.3934693402873666, 0.6321205588285577, 0.6321205588285577, 0.7768698398515702, 0.3934693402873666]\n",
            "Media de falhas:  [0, 22190.06624, 413953.4060477435, 148407354.89106017, 201274048.92417437, 253271984.82157695, 588924418.4452986, 2902277734.8401546, 3374291354.575364, 3766865897.9332423, 3791321576.7469]\n",
            "Custo =  187993606194.03845\n"
          ]
        },
        {
          "output_type": "stream",
          "name": "stderr",
          "text": [
            "pyswarms.single.global_best: 100%|██████████|1/1, best_cost=7.21e+10\n",
            "2023-09-10 20:14:48,507 - pyswarms.single.global_best - INFO - Optimization finished | best cost: 72113486272.13892, best pos: [2.64352519 1.23935418 3.6272351  4.32917119 4.95596871 1.97728602\n",
            " 2.12164471 4.5292854  4.53465087 4.9596478  2.24124221 6.06191787\n",
            " 2.8995008  1.97751652 2.73252784 4.49272951 3.79560661 4.18793268\n",
            " 4.33614486 3.77314131 0.52521654 3.15007873 5.13894386 1.69501335]\n",
            "2023-09-10 20:14:48,508 - pyswarms.single.global_best - INFO - Optimize for 1 iters with {'c1': 0.5, 'c2': 0.3, 'w': 0.9}\n"
          ]
        },
        {
          "output_type": "stream",
          "name": "stdout",
          "text": [
            "\n",
            "=========================================================================\n",
            "\n",
            "Número de ciclos de manutenção: 10 5\n",
            "Tempos para manutenções preventivas: [0, 37, 78, 205, 476, 503, 595, 606, 652, 664, 711]\n",
            "Severidade para cada subsistema: [0.25, 0.5, 0.75, 0.75, 0.5, 0.5, 0.25, 0.25, 0.75, 0.25]\n",
            "Número de Sisemas: 5\n",
            "Fator:  [0.3296799539643607, 0.3934693402873666, 0.6321205588285577, 0.7768698398515702, 0.7768698398515702, 0.6321205588285577, 0.6321205588285577, 0.3934693402873666, 0.3934693402873666, 0.7768698398515702, 0.3934693402873666]\n",
            "Media de falhas:  [0, 22190.06624, 413953.4060477435, 51831793.28502844, 1647427243.3547032, 1656524842.587883, 1764535164.0757313, 1809207103.7219248, 2083172927.200545, 2582121321.4851737, 5079318805.71953, 5103774484.533188]\n",
            "Custo =  455314796517.46155\n"
          ]
        },
        {
          "output_type": "stream",
          "name": "stderr",
          "text": [
            "pyswarms.single.global_best: 100%|██████████|1/1, best_cost=7.21e+10\n",
            "2023-09-10 20:14:48,540 - pyswarms.single.global_best - INFO - Optimization finished | best cost: 72113486272.13892, best pos: [2.64352472 1.23935497 3.6272351  4.3291712  4.9559683  1.97842955\n",
            " 2.12164472 4.52928351 0.72278611 4.94686016 2.24122828 6.86516027\n",
            " 2.89950262 1.97748596 2.73252898 4.49234253 3.79561307 4.18793311\n",
            " 4.33614482 3.77313347 0.8297248  5.25886314 5.1389301  1.69501393]\n",
            "2023-09-10 20:14:48,543 - pyswarms.single.global_best - INFO - Optimize for 1 iters with {'c1': 0.5, 'c2': 0.3, 'w': 0.9}\n"
          ]
        },
        {
          "output_type": "stream",
          "name": "stdout",
          "text": [
            "\n",
            "=========================================================================\n",
            "\n",
            "Número de ciclos de manutenção: 11 5\n",
            "Tempos para manutenções preventivas: [0, 37, 78, 186, 349, 402, 503, 594, 612, 640, 664, 711]\n",
            "Severidade para cada subsistema: [0.25, 0.5, 0.5, 0.75, 0.5, 0.5, 0.5, 0.25, 0.5, 0.75, 0.25]\n",
            "Número de Sisemas: 5\n",
            "Fator:  [0.3296799539643607, 0.3934693402873666, 0.6321205588285577, 0.6321205588285577, 0.7768698398515702, 0.6321205588285577, 0.6321205588285577, 0.6321205588285577, 0.3934693402873666, 0.6321205588285577, 0.7768698398515702, 0.3934693402873666]\n",
            "Media de falhas:  [0, 22190.06624, 413953.4060477435, 29254138.882643864, 241199684.8447991, 292873123.04535425, 371717024.3520287, 815196250.3637505, 892612295.166302, 1040139033.0200152, 2026717201.7861085, 2419291745.1439867, 2443747423.9576445]\n",
            "Custo =  274093570964.43475\n"
          ]
        },
        {
          "output_type": "stream",
          "name": "stderr",
          "text": [
            "pyswarms.single.global_best: 100%|██████████|1/1, best_cost=7.21e+10\n",
            "2023-09-10 20:14:48,572 - pyswarms.single.global_best - INFO - Optimization finished | best cost: 72113486272.13892, best pos: [2.64352279 1.23935586 3.6272351  4.3291712  4.95596917 1.98707013\n",
            " 2.12164472 4.52928591 4.31739776 4.93300316 2.24117686 0.29151757\n",
            " 2.89950427 1.97743642 2.73252575 4.49186537 3.7956218  4.18793334\n",
            " 4.33614478 3.77312634 1.47327695 0.15359129 5.13891956 1.69501446]\n",
            "2023-09-10 20:14:48,576 - pyswarms.single.global_best - INFO - Optimize for 1 iters with {'c1': 0.5, 'c2': 0.3, 'w': 0.9}\n"
          ]
        },
        {
          "output_type": "stream",
          "name": "stdout",
          "text": [
            "\n",
            "=========================================================================\n",
            "\n",
            "Número de ciclos de manutenção: 10 5\n",
            "Tempos para manutenções preventivas: [0, 37, 78, 260, 274, 503, 594, 626, 636, 664, 710]\n",
            "Severidade para cada subsistema: [0.25, 0.5, 0.25, 0.25, 0.5, 0.5, 0.25, 0.75, 0.75, 0.25]\n",
            "Número de Sisemas: 5\n",
            "Fator:  [0.3296799539643607, 0.3934693402873666, 0.6321205588285577, 0.3934693402873666, 0.3934693402873666, 0.6321205588285577, 0.6321205588285577, 0.3934693402873666, 0.7768698398515702, 0.7768698398515702, 0.3934693402873666]\n",
            "Media de falhas:  [0, 22190.06624, 413953.4060477435, 203227435.76418653, 205737492.49817637, 3249611733.4127693, 5523385927.747704, 5679707329.435548, 5728791856.432045, 6875654142.702779, 6941103637.841026, 6967033602.210818]\n",
            "Custo =  372218156422.2175\n"
          ]
        },
        {
          "output_type": "stream",
          "name": "stderr",
          "text": [
            "pyswarms.single.global_best: 100%|██████████|1/1, best_cost=7.21e+10\n",
            "2023-09-10 20:14:48,637 - pyswarms.single.global_best - INFO - Optimization finished | best cost: 72113486272.13892, best pos: [2.64352058 1.23935674 3.62723511 4.32917118 4.95597479 2.0006902\n",
            " 2.12164474 4.52929223 1.18993811 4.9175467  2.24111624 1.11807533\n",
            " 2.8995054  1.97738623 2.73251858 4.49098257 3.79563177 4.18793251\n",
            " 4.33614468 3.77312    2.73829915 3.11352774 5.13891268 1.69501494]\n"
          ]
        },
        {
          "output_type": "stream",
          "name": "stdout",
          "text": [
            "\n",
            "=========================================================================\n",
            "\n",
            "Número de ciclos de manutenção: 8 5\n",
            "Tempos para manutenções preventivas: [0, 37, 78, 193, 409, 503, 593, 664, 710]\n",
            "Severidade para cada subsistema: [0.25, 0.5, 0.75, 0.75, 0.5, 0.5, 0.75, 0.25]\n",
            "Número de Sisemas: 5\n",
            "Fator:  [0.3296799539643607, 0.3934693402873666, 0.6321205588285577, 0.7768698398515702, 0.7768698398515702, 0.6321205588285577, 0.6321205588285577, 0.7768698398515702, 0.3934693402873666]\n",
            "Media de falhas:  [0, 22190.06624, 413953.4060477435, 36385040.644911565, 658918059.761132, 726725494.395508, 829276220.1119975, 1317991269.4826303, 1699128274.036564, 1725058238.406356]\n",
            "Custo =  86124994041.75409\n"
          ]
        }
      ]
    },
    {
      "cell_type": "code",
      "source": [
        "# Plotar gráfico de densidade da otimização\n",
        "plt.figure()\n",
        "plt.plot(optimizer.cost_history)\n",
        "plt.xlabel('Iteration')\n",
        "plt.xlim(0, max_iterations)\n",
        "plt.ylabel('Objective function')\n",
        "plt.title('Particle Swarm Optimization (PSO) - Cost History')\n",
        "plt.show()\n",
        "\n",
        "print(\"                              \")\n",
        "print(\"*************************************************************************\")\n",
        "print(\"Número total de iterações:\", max_iterations)\n",
        "print(\"Número de Particulas:\", num_particles)\n",
        "print(\"Número de Dimensões:\", dimensions)\n",
        "print(\"                              \")\n",
        "print(\"Melhor partícula:\", pbest_cost[0])"
      ],
      "metadata": {
        "id": "ULlt81ZI1vn9",
        "outputId": "5001a74e-1cc7-4dbc-e522-1a8914f3db64",
        "colab": {
          "base_uri": "https://localhost:8080/",
          "height": 594
        }
      },
      "execution_count": 225,
      "outputs": [
        {
          "output_type": "display_data",
          "data": {
            "text/plain": [
              "<Figure size 640x480 with 1 Axes>"
            ],
            "image/png": "[encoded data removed]"
          },
          "metadata": {}
        },
        {
          "output_type": "stream",
          "name": "stdout",
          "text": [
            "                              \n",
            "*************************************************************************\n",
            "Número total de iterações: 100\n",
            "Número de Particulas: 100\n",
            "Número de Dimensões: 24\n",
            "                              \n",
            "Melhor partícula: 86124994041.75409\n"
          ]
        }
      ]
    },
    {
      "cell_type": "code",
      "source": [
        "# Plotar o gráfico 3D com todas as melhores posições\n",
        "fig = plt.figure(figsize=(8, 8))\n",
        "ax = fig.add_subplot(111)\n",
        "\n",
        "# Plotar todas as melhores posições anteriores\n",
        "for i in range(best_positions.shape[0]):\n",
        "    ax.scatter(best_positions[i, 0], best_positions[i, 1], marker=m, c='blue', alpha=0.6)\n",
        "\n",
        "# Plotar a última melhor posição com uma cor diferente para destacá-la\n",
        "ax.scatter(best_positions[-1, 0], best_positions[-1, 1], c='red', label='Melhor posição atual')\n",
        "\n",
        "ax.set_title('PSO - Melhores posições ao longo das iterações')\n",
        "ax.set_xlabel('Primeira dimensão das melhores posições')\n",
        "ax.set_ylabel('Segunda dimensão das melhores posições')\n",
        "ax.legend()\n",
        "plt.grid()\n",
        "plt.show()"
      ],
      "metadata": {
        "id": "4STRoUAPxmqT",
        "outputId": "f9c0a4c0-7a90-47fa-bb4d-67ed6e4740ea",
        "colab": {
          "base_uri": "https://localhost:8080/",
          "height": 718
        }
      },
      "execution_count": 227,
      "outputs": [
        {
          "output_type": "display_data",
          "data": {
            "text/plain": [
              "<Figure size 800x800 with 1 Axes>"
            ],
            "image/png": "[encoded data removed]"
          },
          "metadata": {}
        }
      ]
    }
  ]
}