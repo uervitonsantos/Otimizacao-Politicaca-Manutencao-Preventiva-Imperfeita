{
  "nbformat": 4,
  "nbformat_minor": 0,
  "metadata": {
    "colab": {
      "provenance": [],
      "mount_file_id": "1RdFgP-oDl5GfiBXVSjm47plKw1zogDMB",
      "authorship_tag": "ABX9TyMfW7LAwFcCbnmRLr89NtSg",
      "include_colab_link": true
    },
    "kernelspec": {
      "name": "python3",
      "display_name": "Python 3"
    },
    "language_info": {
      "name": "python"
    }
  },
  "cells": [
    {
      "cell_type": "markdown",
      "metadata": {
        "id": "view-in-github",
        "colab_type": "text"
      },
      "source": [
        "<a href=\"https://colab.research.google.com/github/uervitonsantos/Otimizacao-Politicaca-Manutencao-Preventiva-Imperfeita/blob/main/Algoritmo_PSO_para_otimiza%C3%A7%C3%A3o_de_custo_de_manuten%C3%A7%C3%A3o_preventiva_v2.ipynb\" target=\"_parent\"><img src=\"https://colab.research.google.com/assets/colab-badge.svg\" alt=\"Open In Colab\"/></a>"
      ]
    },
    {
      "cell_type": "markdown",
      "source": [
        "Dataset de dados de confiabilidade: https://drive.google.com/drive/folders/1b7jqK1A2XI1oZ4YhDXw_4xdnSTbfuBVK?usp=sharing"
      ],
      "metadata": {
        "id": "wZi0pIL-Ch37"
      }
    },
    {
      "cell_type": "code",
      "execution_count": 146,
      "metadata": {
        "id": "VM8_ebpiVP0V"
      },
      "outputs": [],
      "source": [
        "%%capture\n",
        "pip install pyswarms"
      ]
    },
    {
      "cell_type": "code",
      "source": [
        "import numpy as np\n",
        "import pandas as pd\n",
        "import math\n",
        "import matplotlib.pyplot as plt\n",
        "import time\n",
        "from pyswarms.single.global_best import GlobalBestPSO\n",
        "import pyswarms as ps\n",
        "from pyswarms.utils.search import RandomSearch\n",
        "from pyswarms.utils.functions import single_obj as fx\n",
        "from pyswarms.utils.plotters import (plot_cost_history, plot_contour, plot_surface)\n",
        "import plotly.graph_objects as go\n",
        "from pyswarms.utils.plotters.formatters import Designer\n",
        "from pyswarms.utils.plotters.formatters import Mesher\n",
        "from mpl_toolkits.mplot3d import Axes3D"
      ],
      "metadata": {
        "id": "2sVG0WwfVrUs"
      },
      "execution_count": 147,
      "outputs": []
    },
    {
      "cell_type": "code",
      "source": [
        "MAX_VALUE_CUSTO = 10000\n",
        "fator_melhoria = 'expo'"
      ],
      "metadata": {
        "id": "FeZKvg25Vtwz"
      },
      "execution_count": 148,
      "outputs": []
    },
    {
      "cell_type": "code",
      "source": [
        "# Custos MC e MP\n",
        "CMC = 4000\n",
        "CMP = 2000"
      ],
      "metadata": {
        "id": "JFnJpCJGVx7P"
      },
      "execution_count": 149,
      "outputs": []
    },
    {
      "cell_type": "code",
      "source": [
        "class IntensidadeFalha:\n",
        "    # Este método vai inicializar cada objeto criado a partir desta classe\n",
        "    # O nome deste método é \"inicio\"\n",
        "    # (self) é uma referência a cada atributo de um objeto criado a partir desta classe\n",
        "    # Os atributos de cada objeto criados a partir desta classe.\n",
        "    # O self indica que estes são atributos dos objetos\n",
        "    def __init__(self):\n",
        "        self.fator = None\n",
        "        self.lamb = None\n",
        "        self.beta = None\n",
        "        self.theta = None\n",
        "        self.sz = None\n",
        "        self.T = None\n",
        "        self.u = None\n",
        "\n",
        "    def inicio(self, T, fator, solucao):\n",
        "        self.fator = fator\n",
        "        self.lamb = solucao[0]\n",
        "        self.beta = solucao[1]\n",
        "        self.theta = solucao[2]\n",
        "        self.sz = int(T[-1])\n",
        "        self.T = T\n",
        "\n",
        "    def create(self):\n",
        "        self.u = []\n",
        "        # Reducao de Idade com fator de melhoria linear\n",
        "        for i, tc in enumerate(self.T[1:], start=1):\n",
        "            for tt in range(int(self.T[i-1]), int(tc)+1):\n",
        "                b = tt - self.fator[0][i-1] * self.T[i-1]\n",
        "                self.u.append((1 / (self.lamb ** self.beta)) * self.beta * b ** (self.beta - 1))\n",
        "\n",
        "                if tt == tc:\n",
        "                    self.u.append(float('nan'))\n",
        "            break\n",
        "    # plota e salva a figura da função de intensidade de falha\n",
        "    def plotar(self):\n",
        "        fig = plt.figure(figsize=(20, 5))\n",
        "        plt.plot(self.u)\n",
        "\n",
        "        for xc in self.T:\n",
        "            plt.axvline(x=xc, color='r', linestyle='--')\n",
        "\n",
        "        plt.xlabel(\"Tempo (dias)\")\n",
        "        plt.ylabel(\"Função intensidade de falha\")\n",
        "        plt.xlim(0)\n",
        "        plt.grid(True)\n",
        "        plt.show()"
      ],
      "metadata": {
        "id": "QhF2qTuDV2P1"
      },
      "execution_count": 150,
      "outputs": []
    },
    {
      "cell_type": "code",
      "source": [
        "# Define a função de melhoria constante\n",
        "def const(ck, m, s, theta):\n",
        "    fator = [[theta] * ck] * m\n",
        "    return fator"
      ],
      "metadata": {
        "id": "mMRO_z3_V4a3"
      },
      "execution_count": 151,
      "outputs": []
    },
    {
      "cell_type": "code",
      "source": [
        "# Define a função de melhoria linear\n",
        "def linear(ck, m, s, theta):\n",
        "    fator = []\n",
        "    for k in range(0, m, 1):\n",
        "        linha = [0]\n",
        "        for j in range(0, ck, 1):\n",
        "            linha.append(s[k][j] * theta)\n",
        "        fator.append(linha)\n",
        "    return fator"
      ],
      "metadata": {
        "id": "S_fCxa7GV65n"
      },
      "execution_count": 152,
      "outputs": []
    },
    {
      "cell_type": "code",
      "source": [
        " # Define a função de melhoria exponencial\n",
        "def expo(ck, m, s, theta):\n",
        "    fator = []\n",
        "    for k in range(0, m, 1):\n",
        "        linha = []\n",
        "        for j in range(0, ck, 1):\n",
        "            linha.append(1.0 - np.exp(-s[k][j] * theta))\n",
        "        fator.append(linha)\n",
        "    return fator"
      ],
      "metadata": {
        "id": "NV3lIXl9V9FL"
      },
      "execution_count": 153,
      "outputs": []
    },
    {
      "cell_type": "code",
      "source": [
        "# Define a função de melhoria potência\n",
        "def pot(ck, m, s, theta):\n",
        "    fator = []\n",
        "    for k in range(0, m, 1):\n",
        "        linha = []\n",
        "        for j in range(0, ck, 1):\n",
        "            linha.append(s[k][j] ** theta)\n",
        "        fator.append(linha)\n",
        "    return fator"
      ],
      "metadata": {
        "id": "ikxXlzxKV-0K"
      },
      "execution_count": 154,
      "outputs": []
    },
    {
      "cell_type": "code",
      "source": [
        "# Define a função de melhoria para manutenção perfeita\n",
        "def mpp(ck, m, s, theta):\n",
        "    fator = []\n",
        "    for k in range(0, m, 1):\n",
        "        linha = []\n",
        "        for j in range(0, ck, 1):\n",
        "            linha.append(1)\n",
        "        fator.append(linha)\n",
        "    return fator"
      ],
      "metadata": {
        "id": "xcHr8tSFWAus"
      },
      "execution_count": 155,
      "outputs": []
    },
    {
      "cell_type": "code",
      "source": [
        "# Executa a função de melhoria com base no parâmetro fornecido\n",
        "def execute_function(fator_melhoria, ck, m, s, theta):\n",
        "    return {\n",
        "        'const': lambda: const(ck, m, s, theta),\n",
        "        'linear': lambda: linear(ck, m, s, theta),\n",
        "        'expo': lambda: expo(ck, m, s, theta),\n",
        "        'pot': lambda: pot(ck, m, s, theta),\n",
        "        'mpp': lambda: mpp(ck, m, s, theta),\n",
        "    }[fator_melhoria]()"
      ],
      "metadata": {
        "id": "R5KeFcseWDH6"
      },
      "execution_count": 156,
      "outputs": []
    },
    {
      "cell_type": "code",
      "source": [
        "# Função custo de manutenção baseada em severidade\n",
        "def custo_mp(s, CMP):\n",
        "    dist = {0.25: 2000, 0.5: 4000, 0.75: 12000, 1.0: 20000}\n",
        "    if not isinstance(s, list):\n",
        "        s = [s]  # Transforma s em uma lista com um único elemento\n",
        "    cmp_f = np.sum([CMP if si < 0.25 or si > 1.0 else np.interp(si, [0.25, 0.5, 0.75, 1.0], [2000, 4000, 12000, 20000]) for si in s])\n",
        "    return cmp_f"
      ],
      "metadata": {
        "id": "B8BkTWrmWGWO"
      },
      "execution_count": 157,
      "outputs": []
    },
    {
      "cell_type": "code",
      "source": [
        "# Leitura dos dados de tempo: exemplo tese Marcos Coque Jr.\n",
        "df = pd.read_csv('/content/drive/MyDrive/Colab Notebooks/DateSet/data.csv', sep=\";\")\n",
        "df.head()"
      ],
      "metadata": {
        "colab": {
          "base_uri": "https://localhost:8080/",
          "height": 206
        },
        "id": "IDcyZ_pHWIW8",
        "outputId": "4b24c633-d15d-4e18-b0dc-b16a71179622"
      },
      "execution_count": 158,
      "outputs": [
        {
          "output_type": "execute_result",
          "data": {
            "text/plain": [
              "     t  k  c    n    s      T\n",
              "0   90  1  1  4.0  0.4    0.0\n",
              "1  110  1  1  0.0  0.5  150.0\n",
              "2  125  1  1  9.0  0.9  250.0\n",
              "3  135  1  1  2.0  0.2  500.0\n",
              "4  295  1  3  2.0  0.4  600.0"
            ],
            "text/html": [
              "\n",
              "  <div id=\"df-096c366e-0c7c-4129-807d-f8bdcb0cae87\">\n",
              "    <div class=\"colab-df-container\">\n",
              "      <div>\n",
              "<style scoped>\n",
              "    .dataframe tbody tr th:only-of-type {\n",
              "        vertical-align: middle;\n",
              "    }\n",
              "\n",
              "    .dataframe tbody tr th {\n",
              "        vertical-align: top;\n",
              "    }\n",
              "\n",
              "    .dataframe thead th {\n",
              "        text-align: right;\n",
              "    }\n",
              "</style>\n",
              "<table border=\"1\" class=\"dataframe\">\n",
              "  <thead>\n",
              "    <tr style=\"text-align: right;\">\n",
              "      <th></th>\n",
              "      <th>t</th>\n",
              "      <th>k</th>\n",
              "      <th>c</th>\n",
              "      <th>n</th>\n",
              "      <th>s</th>\n",
              "      <th>T</th>\n",
              "    </tr>\n",
              "  </thead>\n",
              "  <tbody>\n",
              "    <tr>\n",
              "      <th>0</th>\n",
              "      <td>90</td>\n",
              "      <td>1</td>\n",
              "      <td>1</td>\n",
              "      <td>4.0</td>\n",
              "      <td>0.4</td>\n",
              "      <td>0.0</td>\n",
              "    </tr>\n",
              "    <tr>\n",
              "      <th>1</th>\n",
              "      <td>110</td>\n",
              "      <td>1</td>\n",
              "      <td>1</td>\n",
              "      <td>0.0</td>\n",
              "      <td>0.5</td>\n",
              "      <td>150.0</td>\n",
              "    </tr>\n",
              "    <tr>\n",
              "      <th>2</th>\n",
              "      <td>125</td>\n",
              "      <td>1</td>\n",
              "      <td>1</td>\n",
              "      <td>9.0</td>\n",
              "      <td>0.9</td>\n",
              "      <td>250.0</td>\n",
              "    </tr>\n",
              "    <tr>\n",
              "      <th>3</th>\n",
              "      <td>135</td>\n",
              "      <td>1</td>\n",
              "      <td>1</td>\n",
              "      <td>2.0</td>\n",
              "      <td>0.2</td>\n",
              "      <td>500.0</td>\n",
              "    </tr>\n",
              "    <tr>\n",
              "      <th>4</th>\n",
              "      <td>295</td>\n",
              "      <td>1</td>\n",
              "      <td>3</td>\n",
              "      <td>2.0</td>\n",
              "      <td>0.4</td>\n",
              "      <td>600.0</td>\n",
              "    </tr>\n",
              "  </tbody>\n",
              "</table>\n",
              "</div>\n",
              "      <button class=\"colab-df-convert\" onclick=\"convertToInteractive('df-096c366e-0c7c-4129-807d-f8bdcb0cae87')\"\n",
              "              title=\"Convert this dataframe to an interactive table.\"\n",
              "              style=\"display:none;\">\n",
              "        \n",
              "  <svg xmlns=\"http://www.w3.org/2000/svg\" height=\"24px\"viewBox=\"0 0 24 24\"\n",
              "       width=\"24px\">\n",
              "    <path d=\"M0 0h24v24H0V0z\" fill=\"none\"/>\n",
              "    <path d=\"M18.56 5.44l.94 2.06.94-2.06 2.06-.94-2.06-.94-.94-2.06-.94 2.06-2.06.94zm-11 1L8.5 8.5l.94-2.06 2.06-.94-2.06-.94L8.5 2.5l-.94 2.06-2.06.94zm10 10l.94 2.06.94-2.06 2.06-.94-2.06-.94-.94-2.06-.94 2.06-2.06.94z\"/><path d=\"M17.41 7.96l-1.37-1.37c-.4-.4-.92-.59-1.43-.59-.52 0-1.04.2-1.43.59L10.3 9.45l-7.72 7.72c-.78.78-.78 2.05 0 2.83L4 21.41c.39.39.9.59 1.41.59.51 0 1.02-.2 1.41-.59l7.78-7.78 2.81-2.81c.8-.78.8-2.07 0-2.86zM5.41 20L4 18.59l7.72-7.72 1.47 1.35L5.41 20z\"/>\n",
              "  </svg>\n",
              "      </button>\n",
              "      \n",
              "  <style>\n",
              "    .colab-df-container {\n",
              "      display:flex;\n",
              "      flex-wrap:wrap;\n",
              "      gap: 12px;\n",
              "    }\n",
              "\n",
              "    .colab-df-convert {\n",
              "      background-color: #E8F0FE;\n",
              "      border: none;\n",
              "      border-radius: 50%;\n",
              "      cursor: pointer;\n",
              "      display: none;\n",
              "      fill: #1967D2;\n",
              "      height: 32px;\n",
              "      padding: 0 0 0 0;\n",
              "      width: 32px;\n",
              "    }\n",
              "\n",
              "    .colab-df-convert:hover {\n",
              "      background-color: #E2EBFA;\n",
              "      box-shadow: 0px 1px 2px rgba(60, 64, 67, 0.3), 0px 1px 3px 1px rgba(60, 64, 67, 0.15);\n",
              "      fill: #174EA6;\n",
              "    }\n",
              "\n",
              "    [theme=dark] .colab-df-convert {\n",
              "      background-color: #3B4455;\n",
              "      fill: #D2E3FC;\n",
              "    }\n",
              "\n",
              "    [theme=dark] .colab-df-convert:hover {\n",
              "      background-color: #434B5C;\n",
              "      box-shadow: 0px 1px 3px 1px rgba(0, 0, 0, 0.15);\n",
              "      filter: drop-shadow(0px 1px 2px rgba(0, 0, 0, 0.3));\n",
              "      fill: #FFFFFF;\n",
              "    }\n",
              "  </style>\n",
              "\n",
              "      <script>\n",
              "        const buttonEl =\n",
              "          document.querySelector('#df-096c366e-0c7c-4129-807d-f8bdcb0cae87 button.colab-df-convert');\n",
              "        buttonEl.style.display =\n",
              "          google.colab.kernel.accessAllowed ? 'block' : 'none';\n",
              "\n",
              "        async function convertToInteractive(key) {\n",
              "          const element = document.querySelector('#df-096c366e-0c7c-4129-807d-f8bdcb0cae87');\n",
              "          const dataTable =\n",
              "            await google.colab.kernel.invokeFunction('convertToInteractive',\n",
              "                                                     [key], {});\n",
              "          if (!dataTable) return;\n",
              "\n",
              "          const docLinkHtml = 'Like what you see? Visit the ' +\n",
              "            '<a target=\"_blank\" href=https://colab.research.google.com/notebooks/data_table.ipynb>data table notebook</a>'\n",
              "            + ' to learn more about interactive tables.';\n",
              "          element.innerHTML = '';\n",
              "          dataTable['output_type'] = 'display_data';\n",
              "          await google.colab.output.renderOutput(dataTable, element);\n",
              "          const docLink = document.createElement('div');\n",
              "          docLink.innerHTML = docLinkHtml;\n",
              "          element.appendChild(docLink);\n",
              "        }\n",
              "      </script>\n",
              "    </div>\n",
              "  </div>\n",
              "  "
            ]
          },
          "metadata": {},
          "execution_count": 158
        }
      ]
    },
    {
      "cell_type": "code",
      "source": [
        "# Cria as variaveis\n",
        "# tempos de falhas\n",
        "t = df['t']\n",
        "# indice do sistema\n",
        "k = df['k']\n",
        "m = k.drop_duplicates().shape[0]\n",
        "# Numero de ciclos de manutenção\n",
        "ck = df['c'].max()\n",
        "# Numero de falhas e severidade das manutenções preventivas em cada sistema\n",
        "n = []\n",
        "s = []\n",
        "for k in range(m):\n",
        "    n.append(list(df['n'][k * ck:(k + 1) * ck]))\n",
        "    s.append(list(df['s'][k * ck:(k + 1) * ck]))\n",
        "\n",
        "# Tempos das MP\n",
        "T = list(df['T'][:m])\n",
        "\n",
        "# Criação de variáveis para os parâmetros\n",
        "lamb = 5\n",
        "theta = 2\n",
        "\n",
        "# Cria alguns cenários de teste\n",
        "beta = 5\n",
        "\n",
        "solucao = [lamb, beta, theta]\n",
        "\n",
        "# Cria a instância da classe IntensidadeFalha\n",
        "intensidadeFalha = IntensidadeFalha()\n",
        "\n",
        "# Inicializa a instância com os valores necessários\n",
        "falha = intensidadeFalha.inicio(T, execute_function(fator_melhoria, ck, m, s, theta), solucao)\n",
        "\n",
        "# Cria os dados da intensidade de falha\n",
        "intensidadeFalha.create()\n",
        "\n",
        "# Plota o gráfico da intensidade de falha\n",
        "intensidadeFalha.plotar()\n",
        "\n",
        "fator = execute_function(fator_melhoria, ck, m, s, theta)\n",
        "print('Fator ajuste: ', fator[0])\n",
        "\n",
        "last_value_fator_ajuste = fator[0][-1]\n",
        "\n",
        "time_duration = 1\n",
        "time.sleep(time_duration)"
      ],
      "metadata": {
        "id": "W3hiCEB4r7Yv",
        "outputId": "46071cf3-2cb9-432a-e1db-b4c364584225",
        "colab": {
          "base_uri": "https://localhost:8080/",
          "height": 372
        }
      },
      "execution_count": 159,
      "outputs": [
        {
          "output_type": "display_data",
          "data": {
            "text/plain": [
              "<Figure size 2000x500 with 1 Axes>"
            ],
            "image/png": "[encoded data removed]"
          },
          "metadata": {}
        },
        {
          "output_type": "stream",
          "name": "stdout",
          "text": [
            "Fator ajuste:  [0.5506710358827784, 0.6321205588285577, 0.8347011117784134, 0.3296799539643607]\n"
          ]
        }
      ]
    },
    {
      "cell_type": "code",
      "source": [
        "# Função objetivo para otimização da politica de manutenção\n",
        "# Numero de ciclos determinado pela solução\n",
        "# Solução com 24 valores reais\n",
        "# Solucao a ser avaliada X = [x1, ..., x24]\n",
        "def objective_st(X):\n",
        "    X = np.squeeze(X).astype(int)  # Converte X em uma matriz unidimensional de inteiros\n",
        "\n",
        "    dict_severidades = {1: 0.25, 3: 0.50, 5: 0.75, 7: 1.0} # Dicionario para severidades\n",
        "\n",
        "    global s\n",
        "    T = [0]\n",
        "    s_row = []\n",
        "    cont = 0\n",
        "\n",
        "    converter = np.vectorize(lambda x: int(x) % 2)\n",
        "    X_int = converter(X)\n",
        "\n",
        "    it = np.nditer(X_int, flags=['multi_index'])\n",
        "    while not it.finished:\n",
        "        number = it[0]\n",
        "        index = it.multi_index\n",
        "        if np.any(number == 1):\n",
        "            number_int = int(number)\n",
        "            if number_int in dict_severidades:\n",
        "                s_row.append(dict_severidades[number_int])  # Severidade\n",
        "                frac = number - number_int  # Tempo\n",
        "                t = (cont + frac) * 30\n",
        "                T.append(int(t))\n",
        "        cont += 1\n",
        "        it.iternext()\n",
        "\n",
        "    s = []\n",
        "    for row in range(m):\n",
        "        s.append(s_row)\n",
        "\n",
        "# A partir da solução define o número de ciclos\n",
        "# A variável m é o número de sistemas em análise: em nosso exemplo m = 4\n",
        "# Para novos dados esse parâmetro deve ser ajustado\n",
        "# m = 4\n",
        "    ck = len(T) - 1\n",
        "\n",
        "    print(\"\")\n",
        "    print(\"=========================================================================\")\n",
        "    print(\"\")\n",
        "    print('Número de ciclos de manutenção:', ck, m)\n",
        "    print('Tempos para manutenções preventivas:', T)\n",
        "    print('Severidade para cada subsistema:', s[0])\n",
        "\n",
        "\n",
        "    if ck == 0:\n",
        "        return CMP\n",
        "\n",
        "# O modelo já está ajustado\n",
        "# Utilizado para avaliar a solução candidata\n",
        "\n",
        "# Cria fator de meloria a partir da solução\n",
        "    fact = execute_function(fator_melhoria, ck, m, s, theta)\n",
        "    fator = [last_value_fator_ajuste] + list(fact[0])\n",
        "\n",
        "    print('Fator: ', fator)\n",
        "\n",
        "\n",
        "# Numero esperado de falhas (NEF) em cada ciclo\n",
        "    termos_somatorio = [((1/(lamb**beta)) * (T[1]**beta))]\n",
        "    numero_medio_falhas = [0, ((1/(lamb**beta)) * (T[1]**beta))]\n",
        "\n",
        "    for i in range(ck-1):\n",
        "        termo = (((T[i+2]-fator[i]*T[i+1])**beta) - (((1-fator[i])*T[i+1])**beta)) * (1/(lamb**beta))\n",
        "        termos_somatorio.append(termo)\n",
        "        numero_medio_falhas.append(sum(termos_somatorio))\n",
        "\n",
        "# Número médio de falhas até o final do período: 2 anos\n",
        "    final = 730\n",
        "    termo = (((final-fator[ck-1]*T[ck])**beta) - (((1-fator[ck-1])*T[ck])**beta)) * (1/(lamb**beta))\n",
        "    termos_somatorio.append(termo)\n",
        "    numero_medio_falhas.append(sum(termos_somatorio))\n",
        "\n",
        "    mi = numero_medio_falhas\n",
        "\n",
        "    print('Media de falhas: ', mi)\n",
        "\n",
        "    Ctotal =  []\n",
        "\n",
        "    for i in range(ck):\n",
        "        cmp = custo_mp(s[0][i], CMP)\n",
        "        Ctotal.append((cmp + (mi[i+1] - mi[i])*CMC)/(T[i+1]-T[i]))\n",
        "\n",
        "    cmp = custo_mp(s[0][ck-1], CMP)\n",
        "    Ctotal.append((cmp + (mi[ck+1] - mi[ck])*CMC)/(final-T[ck]))\n",
        "\n",
        "    # Custo Total\n",
        "    custo = min(Ctotal)\n",
        "\n",
        "    print(\"\")\n",
        "    print('Custo = ', custo)\n",
        "    print(\"=========================================================================\")\n",
        "    print(\"\")\n",
        "\n",
        "    # Retorna o custo\n",
        "    return custo"
      ],
      "metadata": {
        "id": "-JuqM09rWWBJ"
      },
      "execution_count": 169,
      "outputs": []
    },
    {
      "cell_type": "code",
      "source": [
        "num_particles = 10\n",
        "max_iterations = 100\n",
        "dimensions = 30\n",
        "options = {'c1': 0.5, 'c2': 0.3, 'w': 0.9}\n",
        "\n",
        "optimizer = GlobalBestPSO(n_particles=num_particles, dimensions=dimensions, options=options)\n",
        "\n",
        "# Inicializar current_cost e pbest_cost com valores infinitos\n",
        "optimizer.swarm.current_cost = np.full(optimizer.swarm.position.shape[0], np.inf)\n",
        "optimizer.swarm.pbest_cost = np.full(optimizer.swarm.position.shape[0], np.inf)\n",
        "best_cost, best_position = optimizer.optimize(objective_st, iters=max_iterations)\n",
        "\n",
        "pbest_cost = optimizer.swarm.pbest_cost\n",
        "\n",
        "best_positions = []  # Lista para armazenar todas as melhores posições\n",
        "\n",
        "# Lista para armazenar o custo em cada iteração\n",
        "cost_history = []\n",
        "\n",
        "# Loop de iterações do PSO\n",
        "for i in range(max_iterations):\n",
        "    best_cost, best_position = optimizer.optimize(objective_st, iters=1)\n",
        "    pbest_cost = optimizer.swarm.pbest_cost\n",
        "    best_positions.append(best_position)\n",
        "    cost_history.append(best_cost)\n",
        "\n",
        "# Converter a lista de melhores posições em um array numpy para facilitar a manipulação\n",
        "best_positions = np.array(best_positions)"
      ],
      "metadata": {
        "colab": {
          "base_uri": "https://localhost:8080/"
        },
        "id": "cePW2Ji6gjmC",
        "outputId": "cd525a32-7bd3-4f83-a605-412db8427fd5"
      },
      "execution_count": 170,
      "outputs": [
        {
          "output_type": "stream",
          "name": "stderr",
          "text": [
            "2023-07-03 21:45:08,418 - pyswarms.single.global_best - INFO - Optimize for 100 iters with {'c1': 0.5, 'c2': 0.3, 'w': 0.9}\n",
            "pyswarms.single.global_best:   6%|▌         |6/100, best_cost=2e+3"
          ]
        },
        {
          "output_type": "stream",
          "name": "stdout",
          "text": [
            "\n",
            "=========================================================================\n",
            "\n",
            "Número de ciclos de manutenção: 0 5\n",
            "Tempos para manutenções preventivas: [0]\n",
            "Severidade para cada subsistema: []\n",
            "\n",
            "=========================================================================\n",
            "\n",
            "Número de ciclos de manutenção: 143 5\n",
            "Tempos para manutenções preventivas: [0, 60, 120, 210, 270, 300, 330, 360, 420, 450, 540, 570, 660, 750, 870, 900, 960, 1050, 1110, 1140, 1170, 1230, 1290, 1320, 1380, 1440, 1500, 1530, 1560, 1650, 1740, 1830, 1890, 1950, 1980, 2070, 2130, 2160, 2190, 2220, 2250, 2340, 2400, 2550, 2610, 2700, 2760, 2820, 2910, 3030, 3060, 3150, 3180, 3210, 3330, 3420, 3630, 3660, 3780, 3840, 3930, 3960, 3990, 4020, 4050, 4080, 4140, 4170, 4200, 4230, 4260, 4290, 4350, 4380, 4530, 4590, 4620, 4650, 4680, 4830, 4890, 5130, 5160, 5310, 5400, 5430, 5460, 5490, 5670, 5700, 5730, 5790, 5880, 5910, 5940, 5970, 6030, 6090, 6180, 6210, 6270, 6360, 6450, 6480, 6630, 6690, 6750, 6810, 6870, 6930, 7020, 7110, 7170, 7200, 7290, 7350, 7380, 7500, 7560, 7680, 7710, 7740, 7830, 7950, 8010, 8070, 8100, 8160, 8190, 8220, 8310, 8340, 8370, 8400, 8430, 8460, 8490, 8580, 8700, 8760, 8790, 8850, 8910, 8940]\n",
            "Severidade para cada subsistema: [0.25, 0.25, 0.25, 0.25, 0.25, 0.25, 0.25, 0.25, 0.25, 0.25, 0.25, 0.25, 0.25, 0.25, 0.25, 0.25, 0.25, 0.25, 0.25, 0.25, 0.25, 0.25, 0.25, 0.25, 0.25, 0.25, 0.25, 0.25, 0.25, 0.25, 0.25, 0.25, 0.25, 0.25, 0.25, 0.25, 0.25, 0.25, 0.25, 0.25, 0.25, 0.25, 0.25, 0.25, 0.25, 0.25, 0.25, 0.25, 0.25, 0.25, 0.25, 0.25, 0.25, 0.25, 0.25, 0.25, 0.25, 0.25, 0.25, 0.25, 0.25, 0.25, 0.25, 0.25, 0.25, 0.25, 0.25, 0.25, 0.25, 0.25, 0.25, 0.25, 0.25, 0.25, 0.25, 0.25, 0.25, 0.25, 0.25, 0.25, 0.25, 0.25, 0.25, 0.25, 0.25, 0.25, 0.25, 0.25, 0.25, 0.25, 0.25, 0.25, 0.25, 0.25, 0.25, 0.25, 0.25, 0.25, 0.25, 0.25, 0.25, 0.25, 0.25, 0.25, 0.25, 0.25, 0.25, 0.25, 0.25, 0.25, 0.25, 0.25, 0.25, 0.25, 0.25, 0.25, 0.25, 0.25, 0.25, 0.25, 0.25, 0.25, 0.25, 0.25, 0.25, 0.25, 0.25, 0.25, 0.25, 0.25, 0.25, 0.25, 0.25, 0.25, 0.25, 0.25, 0.25, 0.25, 0.25, 0.25, 0.25, 0.25, 0.25]\n",
            "Fator:  [0.3296799539643607, 0.3934693402873666, 0.3934693402873666, 0.3934693402873666, 0.3934693402873666, 0.3934693402873666, 0.3934693402873666, 0.3934693402873666, 0.3934693402873666, 0.3934693402873666, 0.3934693402873666, 0.3934693402873666, 0.3934693402873666, 0.3934693402873666, 0.3934693402873666, 0.3934693402873666, 0.3934693402873666, 0.3934693402873666, 0.3934693402873666, 0.3934693402873666, 0.3934693402873666, 0.3934693402873666, 0.3934693402873666, 0.3934693402873666, 0.3934693402873666, 0.3934693402873666, 0.3934693402873666, 0.3934693402873666, 0.3934693402873666, 0.3934693402873666, 0.3934693402873666, 0.3934693402873666, 0.3934693402873666, 0.3934693402873666, 0.3934693402873666, 0.3934693402873666, 0.3934693402873666, 0.3934693402873666, 0.3934693402873666, 0.3934693402873666, 0.3934693402873666, 0.3934693402873666, 0.3934693402873666, 0.3934693402873666, 0.3934693402873666, 0.3934693402873666, 0.3934693402873666, 0.3934693402873666, 0.3934693402873666, 0.3934693402873666, 0.3934693402873666, 0.3934693402873666, 0.3934693402873666, 0.3934693402873666, 0.3934693402873666, 0.3934693402873666, 0.3934693402873666, 0.3934693402873666, 0.3934693402873666, 0.3934693402873666, 0.3934693402873666, 0.3934693402873666, 0.3934693402873666, 0.3934693402873666, 0.3934693402873666, 0.3934693402873666, 0.3934693402873666, 0.3934693402873666, 0.3934693402873666, 0.3934693402873666, 0.3934693402873666, 0.3934693402873666, 0.3934693402873666, 0.3934693402873666, 0.3934693402873666, 0.3934693402873666, 0.3934693402873666, 0.3934693402873666, 0.3934693402873666, 0.3934693402873666, 0.3934693402873666, 0.3934693402873666, 0.3934693402873666, 0.3934693402873666, 0.3934693402873666, 0.3934693402873666, 0.3934693402873666, 0.3934693402873666, 0.3934693402873666, 0.3934693402873666, 0.3934693402873666, 0.3934693402873666, 0.3934693402873666, 0.3934693402873666, 0.3934693402873666, 0.3934693402873666, 0.3934693402873666, 0.3934693402873666, 0.3934693402873666, 0.3934693402873666, 0.3934693402873666, 0.3934693402873666, 0.3934693402873666, 0.3934693402873666, 0.3934693402873666, 0.3934693402873666, 0.3934693402873666, 0.3934693402873666, 0.3934693402873666, 0.3934693402873666, 0.3934693402873666, 0.3934693402873666, 0.3934693402873666, 0.3934693402873666, 0.3934693402873666, 0.3934693402873666, 0.3934693402873666, 0.3934693402873666, 0.3934693402873666, 0.3934693402873666, 0.3934693402873666, 0.3934693402873666, 0.3934693402873666, 0.3934693402873666, 0.3934693402873666, 0.3934693402873666, 0.3934693402873666, 0.3934693402873666, 0.3934693402873666, 0.3934693402873666, 0.3934693402873666, 0.3934693402873666, 0.3934693402873666, 0.3934693402873666, 0.3934693402873666, 0.3934693402873666, 0.3934693402873666, 0.3934693402873666, 0.3934693402873666, 0.3934693402873666, 0.3934693402873666, 0.3934693402873666, 0.3934693402873666, 0.3934693402873666]\n",
            "Media de falhas:  [0, 248832.00000000003, 3450382.7896814686, 39373450.42862263, 102549488.76329827, 152258105.7823735, 225331290.81295583, 329192019.1872366, 705069252.7256845, 960762745.7437097, 2491253468.9059267, 3154509344.9887357, 6599770214.453911, 12378102597.368254, 26240510442.21521, 30410020305.53967, 41025592804.97835, 63548718581.93428, 82610227923.46558, 93390657735.20738, 105356574598.93639, 134182394737.04611, 169103474906.76743, 188526053554.12317, 234341664499.01093, 288718146306.5245, 352803155072.3869, 387931156690.49274, 425905723649.8399, 565469698183.5027, 738340680698.3228, 950156037961.9751, 1112492966578.5664, 1296558145228.6436, 1395372514234.0134, 1743284809846.7537, 2005741302812.2603, 2145809253469.3818, 2293841149360.2593, 2450171881963.1265, 2615145602454.135, 3184976720135.127, 3608868069896.3657, 4932668180162.107, 5526317932914.377, 6539508829702.217, 7282449173610.186, 8092372371631.555, 9461530514906.965, 11596023063649.305, 12161742352558.768, 14044362278740.238, 14704345068534.2, 15389628488167.375, 18510204353238.582, 21129848797491.844, 28744450474583.098, 29903531045911.02, 35098312761641.94, 37893288505402.945, 42471060926358.16, 44060170897711.98, 45698049408829.11, 47385810455848.414, 49124584871650.17, 50915520452140.125, 54694552807561.664, 56649030182067.7, 58660432060822.01, 60729992949119.05, 62858965072983.1, 65048618505452.6, 69656894845848.445, 72036393006764.8, 85418876946243.73, 91134206614880.05, 94080409918877.52, 97103973442427.53, 100206410761599.39, 117523878964289.47, 124890344183996.11, 159819646750165.3, 164406303406428.2, 189747976692276.72, 206132006469342.34, 211757791034920.56, 217509056616567.47, 223387890720808.8, 262835764374640.3, 269667978303030.22, 276645300301856.44, 291142877303445.94, 314196830178957.1, 322093935431543.2, 330152755482932.3, 338375761388304.0, 355435466331826.8, 373185543648174.1, 401330728148548.5, 410959210816534.9, 430906525061507.9, 462485476180342.9, 495894608278542.94, 507311603425073.94, 569122351632211.0, 594986354231994.2, 621792222174246.8, 649565448988179.1, 678331984136387.1, 708118237055940.9, 755032323091885.1, 804404284934344.4, 838542844237620.9, 855949716260849.0, 910525882667618.8, 948229110709301.0, 967444391419124.0, 1048768725201716.8, 1090975627792312.9, 1180414851592665.0, 1203307239895682.5, 1226558257762265.8, 1299233792507795.2, 1401965453431448.2, 1455171196798307.5, 1509991207040584.2, 1537882588568581.5, 1595192527144260.0, 1624345161595067.5, 1653927567642963.8, 1746171850153416.0, 1777521033652593.2, 1809324008441419.5, 1841585683397060.5, 1874311002670899.8, 1907504945814812.8, 1941172527907460.5, 2046026378581282.2, 2193491221473949.2, 2269635162623272.5, 2308322869714830.5, 2387648352813681.0, 2469149559720846.5, 2510548080125011.5, 956647176395260.0]\n",
            "\n",
            "Custo =  16588833.333333336\n",
            "=========================================================================\n",
            "\n",
            "\n",
            "=========================================================================\n",
            "\n",
            "Número de ciclos de manutenção: 184 5\n",
            "Tempos para manutenções preventivas: [0, 60, 120, 180, 210, 270, 300, 330, 360, 390, 420, 450, 540, 570, 660, 690, 720, 750, 810, 870, 900, 960, 990, 1080, 1230, 1290, 1320, 1380, 1440, 1470, 1530, 1560, 1650, 1680, 1740, 1800, 1830, 1860, 1890, 1920, 1950, 1980, 2040, 2130, 2160, 2190, 2220, 2250, 2340, 2400, 2490, 2550, 2580, 2610, 2700, 2760, 2820, 2910, 3000, 3030, 3060, 3150, 3180, 3210, 3270, 3390, 3420, 3450, 3630, 3660, 3690, 3720, 3780, 3840, 3870, 3900, 3930, 3960, 3990, 4020, 4050, 4080, 4110, 4140, 4170, 4200, 4230, 4260, 4290, 4350, 4380, 4410, 4470, 4500, 4530, 4560, 4590, 4650, 4680, 4710, 4800, 4830, 4890, 4950, 4980, 5010, 5040, 5070, 5130, 5310, 5370, 5400, 5430, 5490, 5550, 5670, 5700, 5730, 5790, 5820, 5880, 5910, 5940, 5970, 6000, 6030, 6060, 6090, 6180, 6360, 6450, 6480, 6570, 6630, 6660, 6690, 6750, 6810, 6840, 6930, 7020, 7110, 7170, 7200, 7260, 7290, 7320, 7350, 7380, 7440, 7500, 7530, 7560, 7620, 7650, 7710, 7740, 7830, 7950, 8010, 8070, 8100, 8130, 8160, 8190, 8220, 8310, 8340, 8370, 8400, 8430, 8460, 8490, 8520, 8550, 8580, 8640, 8670, 8700, 8730, 8760, 8790, 8850, 8910, 8940]\n",
            "Severidade para cada subsistema: [0.25, 0.25, 0.25, 0.25, 0.25, 0.25, 0.25, 0.25, 0.25, 0.25, 0.25, 0.25, 0.25, 0.25, 0.25, 0.25, 0.25, 0.25, 0.25, 0.25, 0.25, 0.25, 0.25, 0.25, 0.25, 0.25, 0.25, 0.25, 0.25, 0.25, 0.25, 0.25, 0.25, 0.25, 0.25, 0.25, 0.25, 0.25, 0.25, 0.25, 0.25, 0.25, 0.25, 0.25, 0.25, 0.25, 0.25, 0.25, 0.25, 0.25, 0.25, 0.25, 0.25, 0.25, 0.25, 0.25, 0.25, 0.25, 0.25, 0.25, 0.25, 0.25, 0.25, 0.25, 0.25, 0.25, 0.25, 0.25, 0.25, 0.25, 0.25, 0.25, 0.25, 0.25, 0.25, 0.25, 0.25, 0.25, 0.25, 0.25, 0.25, 0.25, 0.25, 0.25, 0.25, 0.25, 0.25, 0.25, 0.25, 0.25, 0.25, 0.25, 0.25, 0.25, 0.25, 0.25, 0.25, 0.25, 0.25, 0.25, 0.25, 0.25, 0.25, 0.25, 0.25, 0.25, 0.25, 0.25, 0.25, 0.25, 0.25, 0.25, 0.25, 0.25, 0.25, 0.25, 0.25, 0.25, 0.25, 0.25, 0.25, 0.25, 0.25, 0.25, 0.25, 0.25, 0.25, 0.25, 0.25, 0.25, 0.25, 0.25, 0.25, 0.25, 0.25, 0.25, 0.25, 0.25, 0.25, 0.25, 0.25, 0.25, 0.25, 0.25, 0.25, 0.25, 0.25, 0.25, 0.25, 0.25, 0.25, 0.25, 0.25, 0.25, 0.25, 0.25, 0.25, 0.25, 0.25, 0.25, 0.25, 0.25, 0.25, 0.25, 0.25, 0.25, 0.25, 0.25, 0.25, 0.25, 0.25, 0.25, 0.25, 0.25, 0.25, 0.25, 0.25, 0.25, 0.25, 0.25, 0.25, 0.25, 0.25, 0.25]\n",
            "Fator:  [0.3296799539643607, 0.3934693402873666, 0.3934693402873666, 0.3934693402873666, 0.3934693402873666, 0.3934693402873666, 0.3934693402873666, 0.3934693402873666, 0.3934693402873666, 0.3934693402873666, 0.3934693402873666, 0.3934693402873666, 0.3934693402873666, 0.3934693402873666, 0.3934693402873666, 0.3934693402873666, 0.3934693402873666, 0.3934693402873666, 0.3934693402873666, 0.3934693402873666, 0.3934693402873666, 0.3934693402873666, 0.3934693402873666, 0.3934693402873666, 0.3934693402873666, 0.3934693402873666, 0.3934693402873666, 0.3934693402873666, 0.3934693402873666, 0.3934693402873666, 0.3934693402873666, 0.3934693402873666, 0.3934693402873666, 0.3934693402873666, 0.3934693402873666, 0.3934693402873666, 0.3934693402873666, 0.3934693402873666, 0.3934693402873666, 0.3934693402873666, 0.3934693402873666, 0.3934693402873666, 0.3934693402873666, 0.3934693402873666, 0.3934693402873666, 0.3934693402873666, 0.3934693402873666, 0.3934693402873666, 0.3934693402873666, 0.3934693402873666, 0.3934693402873666, 0.3934693402873666, 0.3934693402873666, 0.3934693402873666, 0.3934693402873666, 0.3934693402873666, 0.3934693402873666, 0.3934693402873666, 0.3934693402873666, 0.3934693402873666, 0.3934693402873666, 0.3934693402873666, 0.3934693402873666, 0.3934693402873666, 0.3934693402873666, 0.3934693402873666, 0.3934693402873666, 0.3934693402873666, 0.3934693402873666, 0.3934693402873666, 0.3934693402873666, 0.3934693402873666, 0.3934693402873666, 0.3934693402873666, 0.3934693402873666, 0.3934693402873666, 0.3934693402873666, 0.3934693402873666, 0.3934693402873666, 0.3934693402873666, 0.3934693402873666, 0.3934693402873666, 0.3934693402873666, 0.3934693402873666, 0.3934693402873666, 0.3934693402873666, 0.3934693402873666, 0.3934693402873666, 0.3934693402873666, 0.3934693402873666, 0.3934693402873666, 0.3934693402873666, 0.3934693402873666, 0.3934693402873666, 0.3934693402873666, 0.3934693402873666, 0.3934693402873666, 0.3934693402873666, 0.3934693402873666, 0.3934693402873666, 0.3934693402873666, 0.3934693402873666, 0.3934693402873666, 0.3934693402873666, 0.3934693402873666, 0.3934693402873666, 0.3934693402873666, 0.3934693402873666, 0.3934693402873666, 0.3934693402873666, 0.3934693402873666, 0.3934693402873666, 0.3934693402873666, 0.3934693402873666, 0.3934693402873666, 0.3934693402873666, 0.3934693402873666, 0.3934693402873666, 0.3934693402873666, 0.3934693402873666, 0.3934693402873666, 0.3934693402873666, 0.3934693402873666, 0.3934693402873666, 0.3934693402873666, 0.3934693402873666, 0.3934693402873666, 0.3934693402873666, 0.3934693402873666, 0.3934693402873666, 0.3934693402873666, 0.3934693402873666, 0.3934693402873666, 0.3934693402873666, 0.3934693402873666, 0.3934693402873666, 0.3934693402873666, 0.3934693402873666, 0.3934693402873666, 0.3934693402873666, 0.3934693402873666, 0.3934693402873666, 0.3934693402873666, 0.3934693402873666, 0.3934693402873666, 0.3934693402873666, 0.3934693402873666, 0.3934693402873666, 0.3934693402873666, 0.3934693402873666, 0.3934693402873666, 0.3934693402873666, 0.3934693402873666, 0.3934693402873666, 0.3934693402873666, 0.3934693402873666, 0.3934693402873666, 0.3934693402873666, 0.3934693402873666, 0.3934693402873666, 0.3934693402873666, 0.3934693402873666, 0.3934693402873666, 0.3934693402873666, 0.3934693402873666, 0.3934693402873666, 0.3934693402873666, 0.3934693402873666, 0.3934693402873666, 0.3934693402873666, 0.3934693402873666, 0.3934693402873666, 0.3934693402873666, 0.3934693402873666, 0.3934693402873666, 0.3934693402873666, 0.3934693402873666, 0.3934693402873666, 0.3934693402873666, 0.3934693402873666, 0.3934693402873666, 0.3934693402873666, 0.3934693402873666, 0.3934693402873666, 0.3934693402873666]\n",
            "Media de falhas:  [0, 248832.00000000003, 3450382.7896814686, 16005878.10175146, 27752041.649827957, 90928079.9845036, 140636697.0035788, 213709882.03416115, 317570610.40844196, 461071943.69081575, 654623313.7373743, 910316806.7553995, 2440807529.9176164, 3104063406.0004253, 6549324275.465601, 7981062117.493343, 9680327173.978142, 11682983697.911343, 17030918628.092125, 24166944928.519585, 28336454791.844044, 38952027291.28272, 45068061795.65992, 70306218790.6101, 139922392677.4133, 174843472847.1346, 194266051494.49036, 240081662439.3781, 294458144246.89166, 324376043991.0387, 393776247206.95355, 431750814166.3007, 571314788699.9635, 622438420167.6621, 738860652636.3057, 872284968262.6884, 944330495649.9578, 1021231184832.1974, 1103228405358.435, 1190571397350.9663, 1283517397789.4146, 1382331766794.7844, 1602990595311.261, 1993309942194.9302, 2133377892852.0518, 2281409788742.929, 2437740521345.7964, 2602714241836.8047, 3172545359517.797, 3596436709279.0356, 4328060534383.286, 4868787829702.726, 5154323078538.241, 5453399353211.205, 6466590249999.045, 7209530593907.014, 8019453791928.383, 9388611935203.793, 10936064790754.072, 11479887402251.824, 12045606691161.287, 13928226617342.758, 14588209407136.719, 15273492826769.895, 16740613164590.068, 20093547709374.49, 20976879229516.805, 21891662477891.41, 28448716041849.043, 29607796613176.965, 30805404001169.316, 32042490780173.207, 34666401837012.816, 37461377580773.82, 38910699436516.234, 40405547601213.96, 41946986318485.74, 43536096289839.56, 45173974800956.695, 46861735847976.0, 48600510263777.76, 50391445844267.71, 52235707474661.375, 54134477255767.85, 56088954630273.89, 58100356509028.195, 60169917397325.234, 62298889521189.29, 64488542953658.79, 69096819294054.63, 71476317454970.98, 73921758212466.97, 79061234180013.42, 81712744486620.03, 84435754332728.72, 87231700097286.19, 90102037269093.7, 96122797521604.11, 99225234840775.97, 102408079146629.78, 112622575097280.06, 116142775980220.98, 123509241199927.62, 131244731103722.72, 135223530871510.81, 139299176143569.1, 143473424210604.38, 147748053493723.03, 156674128100480.8, 186977690573501.78, 197698829146045.88, 203201197303704.88, 208826981869283.1, 220540965192689.38, 232776466006674.4, 259251788739689.12, 266084002668079.03, 273061324666905.25, 287558901668494.75, 294985440297955.06, 310407309688149.9, 318304414940735.94, 326363234992125.06, 334586240897496.75, 342975928757235.8, 351534819843216.4, 360265460725086.1, 369170423396550.25, 397315607896924.6, 459898030697465.6, 493307162795665.7, 504724157942196.7, 540695908643680.25, 565643087537910.5, 578383580780073.2, 591355369215468.4, 618161237157720.9, 645934463971653.2, 660110320371576.6, 704659466633454.5, 751573552669398.8, 800945514511858.0, 835084073815134.5, 852490945838362.6, 888378654042965.4, 906672976032761.5, 925270520139181.8, 944175040200854.1, 963390320910677.1, 1002977097838801.6, 1043858196023233.6, 1064685139106713.4, 1085846206007362.0, 1129410902600984.8, 1151598493790151.8, 1197260979680138.2, 1220511997546721.5, 1293187532292251.0, 1395919193215904.0, 1449124936582763.2, 1503944946825040.0, 1531836328353037.2, 1560143484870977.8, 1588871047608542.8, 1618023682059350.2, 1647606088107246.5, 1739850370617698.8, 1771199554116876.0, 1803002528905702.2, 1835264203861343.2, 1867989523135182.5, 1901183466279095.5, 1934851048371743.2, 1968997320144854.8, 2003627368109506.5, 2038746314682409.8, 2110798243879571.0, 2147414981728109.8, 2184541469433776.2, 2222183010835714.8, 2260344946436408.5, 2299032653527966.5, 2378358136626817.0, 2459859343533982.5, 2501257863938147.5, 947356960208396.0]\n",
            "\n",
            "Custo =  16588833.333333336\n",
            "=========================================================================\n",
            "\n",
            "\n",
            "=========================================================================\n",
            "\n",
            "Número de ciclos de manutenção: 157 5\n",
            "Tempos para manutenções preventivas: [0, 60, 210, 270, 300, 330, 360, 420, 450, 540, 570, 660, 690, 720, 750, 810, 870, 900, 990, 1020, 1050, 1230, 1290, 1320, 1380, 1440, 1470, 1530, 1560, 1650, 1800, 1830, 1860, 1890, 1920, 1950, 2040, 2130, 2160, 2220, 2250, 2340, 2400, 2490, 2550, 2610, 2700, 2760, 2790, 2820, 2910, 3000, 3030, 3060, 3150, 3180, 3270, 3420, 3450, 3570, 3630, 3660, 3690, 3720, 3780, 3870, 3900, 3930, 4020, 4050, 4080, 4110, 4140, 4170, 4260, 4290, 4350, 4380, 4410, 4470, 4500, 4530, 4560, 4590, 4650, 4680, 4710, 4770, 4800, 4830, 4890, 4920, 4950, 4980, 5010, 5040, 5070, 5130, 5400, 5430, 5490, 5670, 5700, 5790, 5820, 5940, 5970, 6030, 6060, 6090, 6180, 6270, 6360, 6480, 6570, 6630, 6690, 6720, 6750, 6810, 6840, 6870, 6930, 7170, 7200, 7260, 7290, 7320, 7350, 7380, 7440, 7500, 7530, 7560, 7650, 7680, 7710, 7770, 7830, 8010, 8070, 8100, 8130, 8160, 8190, 8220, 8310, 8340, 8460, 8520, 8550, 8670, 8700, 8760, 8790, 8850, 8910, 8940]\n",
            "Severidade para cada subsistema: [0.25, 0.25, 0.25, 0.25, 0.25, 0.25, 0.25, 0.25, 0.25, 0.25, 0.25, 0.25, 0.25, 0.25, 0.25, 0.25, 0.25, 0.25, 0.25, 0.25, 0.25, 0.25, 0.25, 0.25, 0.25, 0.25, 0.25, 0.25, 0.25, 0.25, 0.25, 0.25, 0.25, 0.25, 0.25, 0.25, 0.25, 0.25, 0.25, 0.25, 0.25, 0.25, 0.25, 0.25, 0.25, 0.25, 0.25, 0.25, 0.25, 0.25, 0.25, 0.25, 0.25, 0.25, 0.25, 0.25, 0.25, 0.25, 0.25, 0.25, 0.25, 0.25, 0.25, 0.25, 0.25, 0.25, 0.25, 0.25, 0.25, 0.25, 0.25, 0.25, 0.25, 0.25, 0.25, 0.25, 0.25, 0.25, 0.25, 0.25, 0.25, 0.25, 0.25, 0.25, 0.25, 0.25, 0.25, 0.25, 0.25, 0.25, 0.25, 0.25, 0.25, 0.25, 0.25, 0.25, 0.25, 0.25, 0.25, 0.25, 0.25, 0.25, 0.25, 0.25, 0.25, 0.25, 0.25, 0.25, 0.25, 0.25, 0.25, 0.25, 0.25, 0.25, 0.25, 0.25, 0.25, 0.25, 0.25, 0.25, 0.25, 0.25, 0.25, 0.25, 0.25, 0.25, 0.25, 0.25, 0.25, 0.25, 0.25, 0.25, 0.25, 0.25, 0.25, 0.25, 0.25, 0.25, 0.25, 0.25, 0.25, 0.25, 0.25, 0.25, 0.25, 0.25, 0.25, 0.25, 0.25, 0.25, 0.25, 0.25, 0.25, 0.25, 0.25, 0.25, 0.25]\n",
            "Fator:  [0.3296799539643607, 0.3934693402873666, 0.3934693402873666, 0.3934693402873666, 0.3934693402873666, 0.3934693402873666, 0.3934693402873666, 0.3934693402873666, 0.3934693402873666, 0.3934693402873666, 0.3934693402873666, 0.3934693402873666, 0.3934693402873666, 0.3934693402873666, 0.3934693402873666, 0.3934693402873666, 0.3934693402873666, 0.3934693402873666, 0.3934693402873666, 0.3934693402873666, 0.3934693402873666, 0.3934693402873666, 0.3934693402873666, 0.3934693402873666, 0.3934693402873666, 0.3934693402873666, 0.3934693402873666, 0.3934693402873666, 0.3934693402873666, 0.3934693402873666, 0.3934693402873666, 0.3934693402873666, 0.3934693402873666, 0.3934693402873666, 0.3934693402873666, 0.3934693402873666, 0.3934693402873666, 0.3934693402873666, 0.3934693402873666, 0.3934693402873666, 0.3934693402873666, 0.3934693402873666, 0.3934693402873666, 0.3934693402873666, 0.3934693402873666, 0.3934693402873666, 0.3934693402873666, 0.3934693402873666, 0.3934693402873666, 0.3934693402873666, 0.3934693402873666, 0.3934693402873666, 0.3934693402873666, 0.3934693402873666, 0.3934693402873666, 0.3934693402873666, 0.3934693402873666, 0.3934693402873666, 0.3934693402873666, 0.3934693402873666, 0.3934693402873666, 0.3934693402873666, 0.3934693402873666, 0.3934693402873666, 0.3934693402873666, 0.3934693402873666, 0.3934693402873666, 0.3934693402873666, 0.3934693402873666, 0.3934693402873666, 0.3934693402873666, 0.3934693402873666, 0.3934693402873666, 0.3934693402873666, 0.3934693402873666, 0.3934693402873666, 0.3934693402873666, 0.3934693402873666, 0.3934693402873666, 0.3934693402873666, 0.3934693402873666, 0.3934693402873666, 0.3934693402873666, 0.3934693402873666, 0.3934693402873666, 0.3934693402873666, 0.3934693402873666, 0.3934693402873666, 0.3934693402873666, 0.3934693402873666, 0.3934693402873666, 0.3934693402873666, 0.3934693402873666, 0.3934693402873666, 0.3934693402873666, 0.3934693402873666, 0.3934693402873666, 0.3934693402873666, 0.3934693402873666, 0.3934693402873666, 0.3934693402873666, 0.3934693402873666, 0.3934693402873666, 0.3934693402873666, 0.3934693402873666, 0.3934693402873666, 0.3934693402873666, 0.3934693402873666, 0.3934693402873666, 0.3934693402873666, 0.3934693402873666, 0.3934693402873666, 0.3934693402873666, 0.3934693402873666, 0.3934693402873666, 0.3934693402873666, 0.3934693402873666, 0.3934693402873666, 0.3934693402873666, 0.3934693402873666, 0.3934693402873666, 0.3934693402873666, 0.3934693402873666, 0.3934693402873666, 0.3934693402873666, 0.3934693402873666, 0.3934693402873666, 0.3934693402873666, 0.3934693402873666, 0.3934693402873666, 0.3934693402873666, 0.3934693402873666, 0.3934693402873666, 0.3934693402873666, 0.3934693402873666, 0.3934693402873666, 0.3934693402873666, 0.3934693402873666, 0.3934693402873666, 0.3934693402873666, 0.3934693402873666, 0.3934693402873666, 0.3934693402873666, 0.3934693402873666, 0.3934693402873666, 0.3934693402873666, 0.3934693402873666, 0.3934693402873666, 0.3934693402873666, 0.3934693402873666, 0.3934693402873666, 0.3934693402873666, 0.3934693402873666, 0.3934693402873666, 0.3934693402873666, 0.3934693402873666, 0.3934693402873666, 0.3934693402873666]\n",
            "Media de falhas:  [0, 248832.00000000003, 79908447.67543882, 143084486.01011446, 192793103.02918968, 265866288.059772, 369727016.4340528, 745604249.9725008, 1001297742.990526, 2531788466.152743, 3195044342.235552, 6640305211.700727, 8072043053.72847, 9771308110.213268, 11773964634.14647, 17121899564.327251, 24257925864.75471, 28427435728.07917, 46184219690.51068, 53079808081.65057, 60827215185.27802, 143683492514.94214, 178604572684.66345, 198027151332.0192, 243842762276.90692, 298219244084.4205, 328137143828.5675, 397537347044.48236, 435511914003.8295, 575075888537.4923, 899640664707.12, 971686192094.3894, 1048586881276.629, 1130584101802.8667, 1217927093795.398, 1310873094233.8462, 1638927760360.9443, 2029247107244.6135, 2169315057901.7349, 2479244778485.3687, 2644218498976.377, 3214049616657.369, 3637940966418.608, 4369564791522.8584, 4910292086842.298, 5503941839594.567, 6517132736382.407, 7260073080290.376, 7650782299615.762, 8058600679580.264, 9427758822855.674, 10975211678405.953, 11519034289903.705, 12084753578813.168, 13967373504994.639, 14627356294788.6, 16815106548114.316, 21134714933553.645, 22049498181928.25, 26177815792613.656, 28408408914127.984, 29567489485455.906, 30765096873448.258, 32002183652452.15, 34626094709291.758, 38929664691097.65, 40424512855795.375, 41965951573067.16, 46979340603821.37, 48718115019623.125, 50509050600113.08, 52353312230506.74, 54252082011613.22, 56206559386119.26, 62533870048247.71, 64723523480717.21, 69331799821113.055, 71711297982029.4, 74156738739525.39, 79296214707071.84, 81947725013678.45, 84670734859787.14, 87466680624344.61, 90337017796152.12, 96357778048662.53, 99460215367834.39, 102643059673688.2, 109311240831345.84, 112744703287775.14, 116264904170716.06, 123631369390422.7, 127421666131613.19, 131305356681722.47, 135284156449510.56, 139359801721568.84, 143534049788604.12, 147808679071722.78, 156734753678480.56, 204890287128674.12, 210516071694252.34, 222230055017658.62, 261677928671490.12, 268510142599880.03, 290181291093458.4, 297607829722918.7, 329517746054462.06, 337740751959833.75, 354800456903356.56, 363531097785226.3, 372436060456690.44, 400581244957064.9, 430406262815460.25, 461985213934295.25, 507228742836350.6, 543200493537834.2, 568147672432064.4, 594011675031847.6, 607217893731006.5, 620661705966767.0, 648434932780699.4, 662610789180622.8, 677037176757249.8, 706823429676803.5, 841175499538690.6, 858582371561918.8, 894470079766521.5, 912764401756317.6, 931361945862737.9, 950266465924410.2, 969481746634233.2, 1009068523562357.8, 1049949621746789.8, 1070776564830269.5, 1091937631730918.1, 1158145251522453.8, 1180683175056224.5, 1203575563359242.0, 1250678059469733.2, 1299254359785706.2, 1457293192802835.2, 1512113203045112.0, 1540004584573109.2, 1568311741091049.8, 1597039303828614.8, 1626191938279422.2, 1655774344327318.5, 1748018626837770.8, 1779367810336948.0, 1911187340081481.0, 1979314448045130.8, 2013944496009782.5, 2159381211561752.8, 2196507699267419.2, 2272651640416742.5, 2311339347508300.5, 2390664830607151.0, 2472166037514316.5, 2513564557918481.5, 959663654188730.0]\n",
            "\n",
            "Custo =  16588833.333333336\n",
            "=========================================================================\n",
            "\n",
            "\n",
            "=========================================================================\n",
            "\n",
            "Número de ciclos de manutenção: 86 5\n",
            "Tempos para manutenções preventivas: [0, 60, 270, 300, 330, 420, 570, 660, 690, 720, 870, 900, 990, 1110, 1170, 1230, 1320, 1770, 1860, 1920, 1950, 2070, 2130, 2160, 2250, 2400, 2700, 2820, 3000, 3030, 3150, 3180, 3210, 3270, 3420, 3570, 3630, 3720, 3780, 3870, 3930, 4050, 4080, 4110, 4170, 4260, 4350, 4380, 4500, 4620, 4680, 4710, 4800, 4980, 5070, 5400, 5430, 5490, 5700, 5820, 5880, 5910, 5970, 6060, 6090, 6270, 6360, 6570, 6810, 6840, 7170, 7260, 7320, 7530, 7680, 7710, 7770, 7830, 8160, 8190, 8370, 8400, 8460, 8670, 8760, 8790, 8940]\n",
            "Severidade para cada subsistema: [0.25, 0.25, 0.25, 0.25, 0.25, 0.25, 0.25, 0.25, 0.25, 0.25, 0.25, 0.25, 0.25, 0.25, 0.25, 0.25, 0.25, 0.25, 0.25, 0.25, 0.25, 0.25, 0.25, 0.25, 0.25, 0.25, 0.25, 0.25, 0.25, 0.25, 0.25, 0.25, 0.25, 0.25, 0.25, 0.25, 0.25, 0.25, 0.25, 0.25, 0.25, 0.25, 0.25, 0.25, 0.25, 0.25, 0.25, 0.25, 0.25, 0.25, 0.25, 0.25, 0.25, 0.25, 0.25, 0.25, 0.25, 0.25, 0.25, 0.25, 0.25, 0.25, 0.25, 0.25, 0.25, 0.25, 0.25, 0.25, 0.25, 0.25, 0.25, 0.25, 0.25, 0.25, 0.25, 0.25, 0.25, 0.25, 0.25, 0.25, 0.25, 0.25, 0.25, 0.25, 0.25, 0.25]\n",
            "Fator:  [0.3296799539643607, 0.3934693402873666, 0.3934693402873666, 0.3934693402873666, 0.3934693402873666, 0.3934693402873666, 0.3934693402873666, 0.3934693402873666, 0.3934693402873666, 0.3934693402873666, 0.3934693402873666, 0.3934693402873666, 0.3934693402873666, 0.3934693402873666, 0.3934693402873666, 0.3934693402873666, 0.3934693402873666, 0.3934693402873666, 0.3934693402873666, 0.3934693402873666, 0.3934693402873666, 0.3934693402873666, 0.3934693402873666, 0.3934693402873666, 0.3934693402873666, 0.3934693402873666, 0.3934693402873666, 0.3934693402873666, 0.3934693402873666, 0.3934693402873666, 0.3934693402873666, 0.3934693402873666, 0.3934693402873666, 0.3934693402873666, 0.3934693402873666, 0.3934693402873666, 0.3934693402873666, 0.3934693402873666, 0.3934693402873666, 0.3934693402873666, 0.3934693402873666, 0.3934693402873666, 0.3934693402873666, 0.3934693402873666, 0.3934693402873666, 0.3934693402873666, 0.3934693402873666, 0.3934693402873666, 0.3934693402873666, 0.3934693402873666, 0.3934693402873666, 0.3934693402873666, 0.3934693402873666, 0.3934693402873666, 0.3934693402873666, 0.3934693402873666, 0.3934693402873666, 0.3934693402873666, 0.3934693402873666, 0.3934693402873666, 0.3934693402873666, 0.3934693402873666, 0.3934693402873666, 0.3934693402873666, 0.3934693402873666, 0.3934693402873666, 0.3934693402873666, 0.3934693402873666, 0.3934693402873666, 0.3934693402873666, 0.3934693402873666, 0.3934693402873666, 0.3934693402873666, 0.3934693402873666, 0.3934693402873666, 0.3934693402873666, 0.3934693402873666, 0.3934693402873666, 0.3934693402873666, 0.3934693402873666, 0.3934693402873666, 0.3934693402873666, 0.3934693402873666, 0.3934693402873666, 0.3934693402873666, 0.3934693402873666, 0.3934693402873666]\n",
            "Media de falhas:  [0, 248832.00000000003, 314087578.11416864, 363796195.13324386, 436869380.1638262, 992185698.1561465, 4124626578.33542, 7569887447.800595, 9001625289.828337, 10700890346.313135, 27863694997.22663, 32033204860.55109, 49789988822.9826, 86927859766.23126, 110493860302.81525, 139319680440.92496, 196066698300.15683, 1069790456784.035, 1295943399522.051, 1468888586971.5918, 1561834587410.04, 2021916871505.7031, 2284373364471.21, 2424441315128.3315, 2911086850444.098, 3947763852342.4062, 7194086069047.419, 8792760471196.927, 11833995535400.21, 12377818146897.963, 14873328317991.623, 15533311107785.584, 16218594527418.76, 17685714865238.934, 22005323250678.26, 27139656212187.05, 29370249333701.38, 33042193169048.3, 35666104225887.91, 39969674207693.8, 43036762274172.98, 49891512111812.125, 51682447692302.08, 53526709322695.74, 57416744859934.305, 63744055522062.76, 70625201110118.23, 73004699271034.58, 83471893347909.88, 95106149923108.73, 101284136561586.98, 104466980867440.8, 114681476818091.08, 138093439221427.1, 150815801566300.6, 209311028128389.47, 214936812693967.7, 226650796017374.0, 273508720124551.56, 302909199698647.25, 318331069088842.06, 326228174341428.1, 342617844445733.9, 368634862834091.0, 377539825505555.1, 436639264816459.5, 468218215935294.5, 551172958265924.1, 660388888220215.0, 674564744620138.4, 857918851293956.0, 911600339359763.2, 948690917642256.8, 1092194741373203.9, 1203707425308225.5, 1226599813611243.0, 1273702309721734.2, 1322278610037707.2, 1630881880027580.8, 1660034514478388.2, 1848575712935700.8, 1880837387891341.8, 1947063336316847.0, 2199859047700567.0, 2313809193730393.5, 2352496900821951.5, 2557619027804813.0, 1003718124075061.5]\n",
            "\n",
            "Custo =  16588833.333333336\n",
            "=========================================================================\n",
            "\n",
            "\n",
            "=========================================================================\n",
            "\n",
            "Número de ciclos de manutenção: 19 5\n",
            "Tempos para manutenções preventivas: [0, 120, 300, 420, 750, 960, 1110, 1170, 3210, 3930, 4170, 5160, 5880, 5910, 6450, 6570, 7740, 8400, 8580, 8940]\n",
            "Severidade para cada subsistema: [0.25, 0.25, 0.25, 0.25, 0.25, 0.25, 0.25, 0.25, 0.25, 0.25, 0.25, 0.25, 0.25, 0.25, 0.25, 0.25, 0.25, 0.25, 0.25]\n",
            "Fator:  [0.3296799539643607, 0.3934693402873666, 0.3934693402873666, 0.3934693402873666, 0.3934693402873666, 0.3934693402873666, 0.3934693402873666, 0.3934693402873666, 0.3934693402873666, 0.3934693402873666, 0.3934693402873666, 0.3934693402873666, 0.3934693402873666, 0.3934693402873666, 0.3934693402873666, 0.3934693402873666, 0.3934693402873666, 0.3934693402873666, 0.3934693402873666, 0.3934693402873666]\n",
            "Media de falhas:  [0, 7962624.000000001, 390305313.02371925, 1129801038.6217601, 22662852529.05855, 58013411123.806274, 103971742738.86984, 127537743275.45383, 50365531886216.25, 84588433864617.67, 99745938114864.81, 239364492199498.12, 413850354582228.0, 421747459834814.06, 614354565804660.1, 662172412958925.1, 1505435098028773.0, 2184300856868149.0, 2392558736889809.5, 2877649730792049.0, 1323748827062297.5]\n",
            "\n",
            "Custo =  265420816.6666667\n",
            "=========================================================================\n",
            "\n",
            "\n",
            "=========================================================================\n",
            "\n",
            "Número de ciclos de manutenção: 3 5\n",
            "Tempos para manutenções preventivas: [0, 1920, 7440, 8700]\n",
            "Severidade para cada subsistema: [0.25, 0.25, 0.25]\n",
            "Fator:  [0.3296799539643607, 0.3934693402873666, 0.3934693402873666, 0.3934693402873666]\n",
            "Media de falhas:  [0, 8349416423424.001, 4683853127911231.0, 6136233279272920.0, 4781681309746083.0]\n",
            "\n",
            "Custo =  17394617548801.043\n",
            "=========================================================================\n",
            "\n",
            "\n",
            "=========================================================================\n",
            "\n",
            "Número de ciclos de manutenção: 5 5\n",
            "Tempos para manutenções preventivas: [0, 1920, 3420, 7260, 7440, 7740]\n",
            "Severidade para cada subsistema: [0.25, 0.25, 0.25, 0.25, 0.25]\n",
            "Fator:  [0.3296799539643607, 0.3934693402873666, 0.3934693402873666, 0.3934693402873666, 0.3934693402873666, 0.3934693402873666]\n",
            "Media de falhas:  [0, 8349416423424.001, 61027354154551.28, 2364422803788214.5, 2481925006519316.0, 2709250201758623.0, 1958295953099090.0]\n",
            "\n",
            "Custo =  17394617548801.043\n",
            "=========================================================================\n",
            "\n",
            "\n",
            "=========================================================================\n",
            "\n",
            "Número de ciclos de manutenção: 9 5\n",
            "Tempos para manutenções preventivas: [0, 720, 1920, 3420, 4200, 5460, 6450, 7260, 7440, 7740]\n",
            "Severidade para cada subsistema: [0.25, 0.25, 0.25, 0.25, 0.25, 0.25, 0.25, 0.25, 0.25]\n",
            "Fator:  [0.3296799539643607, 0.3934693402873666, 0.3934693402873666, 0.3934693402873666, 0.3934693402873666, 0.3934693402873666, 0.3934693402873666, 0.3934693402873666, 0.3934693402873666, 0.3934693402873666]\n",
            "Media de falhas:  [0, 61917364224.00001, 4369659404706.493, 46663690397631.914, 95002092140913.19, 316713811816895.7, 660587239142169.8, 1118694282766504.8, 1236196485497606.2, 1463521680736913.2, 712567432077380.4]\n",
            "\n",
            "Custo =  343985356802.77783\n",
            "=========================================================================\n",
            "\n",
            "\n",
            "=========================================================================\n",
            "\n",
            "Número de ciclos de manutenção: 20 5\n",
            "Tempos para manutenções preventivas: [0, 60, 570, 750, 1380, 2340, 2760, 3420, 3660, 3840, 4140, 4200, 5430, 6630, 7230, 7380, 7440, 7500, 7740, 8310, 8370]\n",
            "Severidade para cada subsistema: [0.25, 0.25, 0.25, 0.25, 0.25, 0.25, 0.25, 0.25, 0.25, 0.25, 0.25, 0.25, 0.25, 0.25, 0.25, 0.25, 0.25, 0.25, 0.25, 0.25]\n",
            "Fator:  [0.3296799539643607, 0.3934693402873666, 0.3934693402873666, 0.3934693402873666, 0.3934693402873666, 0.3934693402873666, 0.3934693402873666, 0.3934693402873666, 0.3934693402873666, 0.3934693402873666, 0.3934693402873666, 0.3934693402873666, 0.3934693402873666, 0.3934693402873666, 0.3934693402873666, 0.3934693402873666, 0.3934693402873666, 0.3934693402873666, 0.3934693402873666, 0.3934693402873666, 0.3934693402873666]\n",
            "Media de falhas:  [0, 248832.00000000003, 16137434224.593763, 27407832761.675804, 502118502855.8446, 6367255984667.637, 11260225444066.586, 29218834682816.766, 38175234213769.15, 46399244932331.07, 64662210855014.47, 68665677327107.74, 280447961574216.28, 742662990695295.1, 1080647223738176.8, 1175681572574214.5, 1215268349502339.0, 1256149447686771.0, 1438872222525360.5, 2003277687214993.5, 2066726852529587.2, 952263725814181.4]\n",
            "\n",
            "Custo =  16588833.333333336\n",
            "=========================================================================\n",
            "\n",
            "\n",
            "=========================================================================\n",
            "\n",
            "Número de ciclos de manutenção: 54 5\n",
            "Tempos para manutenções preventivas: [0, 60, 270, 330, 450, 570, 1290, 1380, 1560, 1830, 1890, 2070, 2130, 2220, 2250, 2340, 2550, 2580, 2610, 2760, 3060, 3660, 3840, 4020, 4080, 4140, 4470, 4590, 4620, 4890, 5160, 5400, 5670, 5880, 6270, 6630, 6750, 6870, 7110, 7170, 7200, 7230, 7350, 7380, 7500, 7830, 7950, 7980, 8100, 8190, 8250, 8310, 8370, 8790, 8850]\n",
            "Severidade para cada subsistema: [0.25, 0.25, 0.25, 0.25, 0.25, 0.25, 0.25, 0.25, 0.25, 0.25, 0.25, 0.25, 0.25, 0.25, 0.25, 0.25, 0.25, 0.25, 0.25, 0.25, 0.25, 0.25, 0.25, 0.25, 0.25, 0.25, 0.25, 0.25, 0.25, 0.25, 0.25, 0.25, 0.25, 0.25, 0.25, 0.25, 0.25, 0.25, 0.25, 0.25, 0.25, 0.25, 0.25, 0.25, 0.25, 0.25, 0.25, 0.25, 0.25, 0.25, 0.25, 0.25, 0.25, 0.25]\n",
            "Fator:  [0.3296799539643607, 0.3934693402873666, 0.3934693402873666, 0.3934693402873666, 0.3934693402873666, 0.3934693402873666, 0.3934693402873666, 0.3934693402873666, 0.3934693402873666, 0.3934693402873666, 0.3934693402873666, 0.3934693402873666, 0.3934693402873666, 0.3934693402873666, 0.3934693402873666, 0.3934693402873666, 0.3934693402873666, 0.3934693402873666, 0.3934693402873666, 0.3934693402873666, 0.3934693402873666, 0.3934693402873666, 0.3934693402873666, 0.3934693402873666, 0.3934693402873666, 0.3934693402873666, 0.3934693402873666, 0.3934693402873666, 0.3934693402873666, 0.3934693402873666, 0.3934693402873666, 0.3934693402873666, 0.3934693402873666, 0.3934693402873666, 0.3934693402873666, 0.3934693402873666, 0.3934693402873666, 0.3934693402873666, 0.3934693402873666, 0.3934693402873666, 0.3934693402873666, 0.3934693402873666, 0.3934693402873666, 0.3934693402873666, 0.3934693402873666, 0.3934693402873666, 0.3934693402873666, 0.3934693402873666, 0.3934693402873666, 0.3934693402873666, 0.3934693402873666, 0.3934693402873666, 0.3934693402873666, 0.3934693402873666, 0.3934693402873666]\n",
            "Media de falhas:  [0, 248832.00000000003, 314087578.11416864, 455909254.09556186, 1429458327.8177009, 3942360510.7115073, 442278741064.3364, 510173835908.4309, 726870847269.0596, 1335627714037.2075, 1497964642653.7988, 2177996559310.0076, 2440453052275.514, 2901510098632.408, 3066483819123.4165, 3636314936804.4087, 5467382377169.997, 5752917626005.513, 6051993900678.477, 7873247762738.33, 13258457121693.143, 34805356482332.203, 43029367200894.125, 52919282042186.92, 56483451977805.305, 60262484333226.84, 87545554984646.6, 98879333760101.97, 101825537064099.44, 134112896044190.72, 174208596824707.03, 217150992979520.8, 275764239488258.62, 328863698044787.5, 454441136775460.0, 599990875368636.8, 653285358964530.1, 710483595446904.2, 840372136158020.9, 874510695461297.4, 891917567484525.5, 909616583971287.5, 984611389848824.0, 1003826670558647.0, 1085151004341239.8, 1346516247444711.8, 1449247908368364.8, 1475521821374483.8, 1586249554859641.0, 1673270643813397.8, 1733154383405119.8, 1794801505282562.2, 1858250670597156.0, 2384830137029313.5, 2464155620128164.0, 987590399969492.2]\n",
            "\n",
            "Custo =  16588833.333333336\n",
            "=========================================================================\n",
            "\n",
            "\n",
            "=========================================================================\n",
            "\n",
            "Número de ciclos de manutenção: 102 5\n",
            "Tempos para manutenções preventivas: [0, 60, 270, 330, 360, 450, 540, 570, 660, 870, 990, 1050, 1170, 1290, 1320, 1380, 1440, 1560, 1890, 1920, 2070, 2130, 2160, 2250, 2340, 2400, 2490, 2550, 2610, 2700, 2760, 2820, 3060, 3180, 3210, 3420, 3660, 3780, 3840, 3870, 3990, 4080, 4140, 4260, 4350, 4410, 4470, 4590, 4620, 4680, 4800, 4890, 4950, 5070, 5160, 5400, 5490, 5670, 5880, 5910, 5940, 6060, 6090, 6180, 6210, 6270, 6450, 6630, 6720, 6750, 6840, 6870, 6930, 7140, 7170, 7200, 7260, 7290, 7320, 7350, 7380, 7440, 7500, 7560, 7680, 7830, 7950, 8070, 8100, 8130, 8160, 8190, 8220, 8250, 8340, 8370, 8400, 8460, 8670, 8700, 8790, 8850, 8910]\n",
            "Severidade para cada subsistema: [0.25, 0.25, 0.25, 0.25, 0.25, 0.25, 0.25, 0.25, 0.25, 0.25, 0.25, 0.25, 0.25, 0.25, 0.25, 0.25, 0.25, 0.25, 0.25, 0.25, 0.25, 0.25, 0.25, 0.25, 0.25, 0.25, 0.25, 0.25, 0.25, 0.25, 0.25, 0.25, 0.25, 0.25, 0.25, 0.25, 0.25, 0.25, 0.25, 0.25, 0.25, 0.25, 0.25, 0.25, 0.25, 0.25, 0.25, 0.25, 0.25, 0.25, 0.25, 0.25, 0.25, 0.25, 0.25, 0.25, 0.25, 0.25, 0.25, 0.25, 0.25, 0.25, 0.25, 0.25, 0.25, 0.25, 0.25, 0.25, 0.25, 0.25, 0.25, 0.25, 0.25, 0.25, 0.25, 0.25, 0.25, 0.25, 0.25, 0.25, 0.25, 0.25, 0.25, 0.25, 0.25, 0.25, 0.25, 0.25, 0.25, 0.25, 0.25, 0.25, 0.25, 0.25, 0.25, 0.25, 0.25, 0.25, 0.25, 0.25, 0.25, 0.25]\n",
            "Fator:  [0.3296799539643607, 0.3934693402873666, 0.3934693402873666, 0.3934693402873666, 0.3934693402873666, 0.3934693402873666, 0.3934693402873666, 0.3934693402873666, 0.3934693402873666, 0.3934693402873666, 0.3934693402873666, 0.3934693402873666, 0.3934693402873666, 0.3934693402873666, 0.3934693402873666, 0.3934693402873666, 0.3934693402873666, 0.3934693402873666, 0.3934693402873666, 0.3934693402873666, 0.3934693402873666, 0.3934693402873666, 0.3934693402873666, 0.3934693402873666, 0.3934693402873666, 0.3934693402873666, 0.3934693402873666, 0.3934693402873666, 0.3934693402873666, 0.3934693402873666, 0.3934693402873666, 0.3934693402873666, 0.3934693402873666, 0.3934693402873666, 0.3934693402873666, 0.3934693402873666, 0.3934693402873666, 0.3934693402873666, 0.3934693402873666, 0.3934693402873666, 0.3934693402873666, 0.3934693402873666, 0.3934693402873666, 0.3934693402873666, 0.3934693402873666, 0.3934693402873666, 0.3934693402873666, 0.3934693402873666, 0.3934693402873666, 0.3934693402873666, 0.3934693402873666, 0.3934693402873666, 0.3934693402873666, 0.3934693402873666, 0.3934693402873666, 0.3934693402873666, 0.3934693402873666, 0.3934693402873666, 0.3934693402873666, 0.3934693402873666, 0.3934693402873666, 0.3934693402873666, 0.3934693402873666, 0.3934693402873666, 0.3934693402873666, 0.3934693402873666, 0.3934693402873666, 0.3934693402873666, 0.3934693402873666, 0.3934693402873666, 0.3934693402873666, 0.3934693402873666, 0.3934693402873666, 0.3934693402873666, 0.3934693402873666, 0.3934693402873666, 0.3934693402873666, 0.3934693402873666, 0.3934693402873666, 0.3934693402873666, 0.3934693402873666, 0.3934693402873666, 0.3934693402873666, 0.3934693402873666, 0.3934693402873666, 0.3934693402873666, 0.3934693402873666, 0.3934693402873666, 0.3934693402873666, 0.3934693402873666, 0.3934693402873666, 0.3934693402873666, 0.3934693402873666, 0.3934693402873666, 0.3934693402873666, 0.3934693402873666, 0.3934693402873666, 0.3934693402873666, 0.3934693402873666, 0.3934693402873666, 0.3934693402873666, 0.3934693402873666, 0.3934693402873666]\n",
            "Media de falhas:  [0, 248832.00000000003, 314087578.11416864, 455909254.09556186, 559769982.4698427, 1292967317.0620084, 2823458040.224225, 3486713916.307034, 6931974785.772209, 30738326914.32645, 54118074436.170944, 69354350055.41345, 115303022873.08765, 183490391359.51727, 202912970006.87302, 248728580951.76074, 303105062759.2743, 450050428040.42505, 1290604590687.5356, 1377947582680.067, 1948665267763.923, 2211121760729.4297, 2351189711386.5513, 2837835246702.318, 3407666364383.31, 3831557714144.549, 4563181539248.799, 5103908834568.238, 5697558587320.508, 6710749484108.348, 7453689828016.316, 8263613026037.686, 12611213978012.188, 15203719062773.166, 15889002482406.342, 21877070462760.902, 30833469993713.29, 36028251709444.21, 38823227453205.21, 40272549308947.625, 46728234889932.84, 52048826941314.85, 55827859296736.39, 64226467071632.6, 71107612659688.08, 75976056724992.3, 81115532692538.75, 92449311467994.12, 95395514771991.6, 101573501410469.84, 115138024602829.48, 126142907510556.11, 133878397414351.2, 150776606188559.7, 164429446264731.94, 207371842419545.72, 224878905574652.16, 264326779228483.7, 317426237785012.56, 325323343037598.6, 333382163088987.75, 367958846201115.1, 376863808872579.25, 405008993372953.6, 414637476040940.0, 434584790285913.0, 500801953942504.75, 574761317693958.6, 614140417514268.8, 627584229750029.2, 669858999415588.8, 684285386992215.8, 714071639911769.5, 829965794001658.2, 847084153245732.6, 864491025268960.8, 900378733473563.5, 918673055463359.6, 937270599569779.9, 956175119631452.2, 975390400341275.2, 1014977177269399.8, 1055858275453831.8, 1098065178044427.9, 1187504401844780.0, 1308016975380396.0, 1410748636304049.0, 1519841061921848.5, 1547732443449845.8, 1576039599967786.2, 1604767162705351.2, 1633919797156158.8, 1663502203204055.0, 1693519115249398.8, 1787105134362289.2, 1818908109151115.5, 1851169784106756.5, 1917395732532261.8, 2170191443915981.8, 2207317931621648.2, 2322839812967041.0, 2402165296065891.5, 2483666502973057.0, 955896473161411.0]\n"
          ]
        },
        {
          "output_type": "stream",
          "name": "stderr",
          "text": [
            "pyswarms.single.global_best:  19%|█▉        |19/100, best_cost=2e+3"
          ]
        },
        {
          "output_type": "stream",
          "name": "stdout",
          "text": [
            "\n",
            "Custo =  16588833.333333336\n",
            "=========================================================================\n",
            "\n",
            "\n",
            "=========================================================================\n",
            "\n",
            "Número de ciclos de manutenção: 127 5\n",
            "Tempos para manutenções preventivas: [0, 60, 120, 270, 300, 330, 360, 420, 450, 570, 660, 690, 720, 810, 870, 960, 990, 1050, 1110, 1170, 1230, 1290, 1320, 1380, 1440, 1470, 1530, 1560, 1860, 1890, 1980, 2070, 2130, 2160, 2250, 2340, 2400, 2490, 2550, 2700, 2760, 2820, 3000, 3150, 3180, 3210, 3390, 3630, 3660, 3720, 3780, 3840, 3870, 3930, 3990, 4050, 4080, 4110, 4260, 4290, 4350, 4380, 4470, 4500, 4590, 4680, 4710, 4770, 4800, 4830, 4950, 4980, 5070, 5160, 5400, 5430, 5460, 5490, 5700, 5790, 5910, 5940, 5970, 6060, 6090, 6180, 6210, 6270, 6360, 6450, 6480, 6630, 6690, 6720, 6750, 6840, 6870, 6930, 7170, 7200, 7260, 7290, 7320, 7380, 7440, 7500, 7530, 7560, 7650, 7680, 7710, 7830, 7950, 8070, 8100, 8160, 8190, 8220, 8340, 8370, 8400, 8460, 8580, 8670, 8700, 8760, 8790, 8910]\n",
            "Severidade para cada subsistema: [0.25, 0.25, 0.25, 0.25, 0.25, 0.25, 0.25, 0.25, 0.25, 0.25, 0.25, 0.25, 0.25, 0.25, 0.25, 0.25, 0.25, 0.25, 0.25, 0.25, 0.25, 0.25, 0.25, 0.25, 0.25, 0.25, 0.25, 0.25, 0.25, 0.25, 0.25, 0.25, 0.25, 0.25, 0.25, 0.25, 0.25, 0.25, 0.25, 0.25, 0.25, 0.25, 0.25, 0.25, 0.25, 0.25, 0.25, 0.25, 0.25, 0.25, 0.25, 0.25, 0.25, 0.25, 0.25, 0.25, 0.25, 0.25, 0.25, 0.25, 0.25, 0.25, 0.25, 0.25, 0.25, 0.25, 0.25, 0.25, 0.25, 0.25, 0.25, 0.25, 0.25, 0.25, 0.25, 0.25, 0.25, 0.25, 0.25, 0.25, 0.25, 0.25, 0.25, 0.25, 0.25, 0.25, 0.25, 0.25, 0.25, 0.25, 0.25, 0.25, 0.25, 0.25, 0.25, 0.25, 0.25, 0.25, 0.25, 0.25, 0.25, 0.25, 0.25, 0.25, 0.25, 0.25, 0.25, 0.25, 0.25, 0.25, 0.25, 0.25, 0.25, 0.25, 0.25, 0.25, 0.25, 0.25, 0.25, 0.25, 0.25, 0.25, 0.25, 0.25, 0.25, 0.25, 0.25]\n",
            "Fator:  [0.3296799539643607, 0.3934693402873666, 0.3934693402873666, 0.3934693402873666, 0.3934693402873666, 0.3934693402873666, 0.3934693402873666, 0.3934693402873666, 0.3934693402873666, 0.3934693402873666, 0.3934693402873666, 0.3934693402873666, 0.3934693402873666, 0.3934693402873666, 0.3934693402873666, 0.3934693402873666, 0.3934693402873666, 0.3934693402873666, 0.3934693402873666, 0.3934693402873666, 0.3934693402873666, 0.3934693402873666, 0.3934693402873666, 0.3934693402873666, 0.3934693402873666, 0.3934693402873666, 0.3934693402873666, 0.3934693402873666, 0.3934693402873666, 0.3934693402873666, 0.3934693402873666, 0.3934693402873666, 0.3934693402873666, 0.3934693402873666, 0.3934693402873666, 0.3934693402873666, 0.3934693402873666, 0.3934693402873666, 0.3934693402873666, 0.3934693402873666, 0.3934693402873666, 0.3934693402873666, 0.3934693402873666, 0.3934693402873666, 0.3934693402873666, 0.3934693402873666, 0.3934693402873666, 0.3934693402873666, 0.3934693402873666, 0.3934693402873666, 0.3934693402873666, 0.3934693402873666, 0.3934693402873666, 0.3934693402873666, 0.3934693402873666, 0.3934693402873666, 0.3934693402873666, 0.3934693402873666, 0.3934693402873666, 0.3934693402873666, 0.3934693402873666, 0.3934693402873666, 0.3934693402873666, 0.3934693402873666, 0.3934693402873666, 0.3934693402873666, 0.3934693402873666, 0.3934693402873666, 0.3934693402873666, 0.3934693402873666, 0.3934693402873666, 0.3934693402873666, 0.3934693402873666, 0.3934693402873666, 0.3934693402873666, 0.3934693402873666, 0.3934693402873666, 0.3934693402873666, 0.3934693402873666, 0.3934693402873666, 0.3934693402873666, 0.3934693402873666, 0.3934693402873666, 0.3934693402873666, 0.3934693402873666, 0.3934693402873666, 0.3934693402873666, 0.3934693402873666, 0.3934693402873666, 0.3934693402873666, 0.3934693402873666, 0.3934693402873666, 0.3934693402873666, 0.3934693402873666, 0.3934693402873666, 0.3934693402873666, 0.3934693402873666, 0.3934693402873666, 0.3934693402873666, 0.3934693402873666, 0.3934693402873666, 0.3934693402873666, 0.3934693402873666, 0.3934693402873666, 0.3934693402873666, 0.3934693402873666, 0.3934693402873666, 0.3934693402873666, 0.3934693402873666, 0.3934693402873666, 0.3934693402873666, 0.3934693402873666, 0.3934693402873666, 0.3934693402873666, 0.3934693402873666, 0.3934693402873666, 0.3934693402873666, 0.3934693402873666, 0.3934693402873666, 0.3934693402873666, 0.3934693402873666, 0.3934693402873666, 0.3934693402873666, 0.3934693402873666, 0.3934693402873666, 0.3934693402873666, 0.3934693402873666, 0.3934693402873666]\n",
            "Media de falhas:  [0, 248832.00000000003, 3450382.7896814686, 178413885.44942582, 228122502.46850103, 301195687.4990834, 405056415.8733642, 780933649.4118121, 1036627142.4298372, 3549529325.3236437, 6994790194.788818, 8426528036.816561, 10125793093.30136, 18014356079.89454, 25150382380.322, 40830493046.22227, 46946527550.599464, 62182803169.841965, 81244312511.37326, 104810313047.95724, 133636133186.06697, 168557213355.78827, 187979792003.144, 233795402948.03174, 288171884755.5453, 318089784499.6923, 387489987715.6072, 425464554674.95435, 1144544761836.5806, 1226541982362.8184, 1517444423067.4817, 1865356718680.222, 2127813211645.7285, 2267881162302.85, 2754526697618.6167, 3324357815299.609, 3748249165060.8477, 4479872990165.098, 5020600285484.537, 6687453984173.388, 7430394328081.356, 8240317526102.727, 11281552590306.012, 14383491578939.277, 15043474368733.238, 15728757788366.414, 20706335747638.168, 29370201533242.523, 30529282104570.445, 32990104158402.113, 35614015215241.72, 38408990959002.72, 39858312814745.13, 42925400881224.31, 46184621244318.38, 49644862915729.55, 51435798496219.5, 53280060126613.164, 63732656161959.89, 65922309594429.39, 70530585934825.23, 72910084095741.58, 80585295898087.1, 83236806204693.7, 91772910597893.4, 101000730369014.77, 104183574674868.58, 110851755832526.22, 114285218288955.52, 117805419171896.44, 133154071204693.67, 137132870972481.77, 149855233317355.28, 163508073393527.53, 206450469548341.3, 212076254113919.53, 217827519695566.44, 223706353799807.78, 270564277906985.38, 292235426400563.7, 323503482692585.7, 331562302743974.8, 339785308649346.5, 365802327037703.6, 374707289709167.75, 402852474209542.1, 412480956877528.5, 432428271122501.5, 464007222241336.5, 497416354339536.56, 508833349486067.56, 570644097693204.6, 596508100292987.9, 609714318992146.8, 623158131227907.2, 665432900893466.8, 679859288470093.8, 709645541389647.5, 843997611251534.6, 861404483274762.8, 897292191479365.5, 915586513469161.6, 934184057575581.9, 972507493991337.1, 1012094270919461.6, 1052975369103893.6, 1073802312187373.4, 1094963379088022.0, 1161170998879557.5, 1183708922413328.2, 1206601310716345.8, 1303254515179784.8, 1405986176103437.8, 1515078601721237.2, 1542969983249234.5, 1600279921824913.0, 1629432556275720.5, 1659014962323616.8, 1783496099515250.8, 1815299074304077.0, 1847560749259718.0, 1913786697685223.2, 2053264409782274.0, 2162595469738274.0, 2199721957443940.5, 2275865898593263.5, 2314553605684821.5, 2476815469027303.0, 949045439215657.0]\n",
            "\n",
            "Custo =  16588833.333333336\n",
            "=========================================================================\n",
            "\n",
            "\n",
            "=========================================================================\n",
            "\n",
            "Número de ciclos de manutenção: 100 5\n",
            "Tempos para manutenções preventivas: [0, 120, 300, 330, 360, 420, 660, 690, 720, 870, 900, 960, 990, 1050, 1110, 1170, 1230, 1440, 1470, 1530, 1560, 1860, 1890, 1950, 2070, 2160, 2250, 2400, 2700, 2820, 3150, 3180, 3210, 3270, 3390, 3630, 3690, 3870, 3930, 3990, 4050, 4080, 4110, 4170, 4260, 4290, 4380, 4470, 4500, 4590, 4680, 4710, 4770, 4830, 4980, 5070, 5130, 5160, 5430, 5490, 5700, 5790, 5880, 5910, 5940, 5970, 6060, 6090, 6180, 6360, 6390, 6450, 6480, 6630, 6690, 6750, 6870, 6930, 7170, 7200, 7260, 7290, 7350, 7440, 7500, 7530, 7560, 7680, 7710, 7740, 8070, 8160, 8220, 8400, 8460, 8580, 8760, 8790, 8850, 8910, 8940]\n",
            "Severidade para cada subsistema: [0.25, 0.25, 0.25, 0.25, 0.25, 0.25, 0.25, 0.25, 0.25, 0.25, 0.25, 0.25, 0.25, 0.25, 0.25, 0.25, 0.25, 0.25, 0.25, 0.25, 0.25, 0.25, 0.25, 0.25, 0.25, 0.25, 0.25, 0.25, 0.25, 0.25, 0.25, 0.25, 0.25, 0.25, 0.25, 0.25, 0.25, 0.25, 0.25, 0.25, 0.25, 0.25, 0.25, 0.25, 0.25, 0.25, 0.25, 0.25, 0.25, 0.25, 0.25, 0.25, 0.25, 0.25, 0.25, 0.25, 0.25, 0.25, 0.25, 0.25, 0.25, 0.25, 0.25, 0.25, 0.25, 0.25, 0.25, 0.25, 0.25, 0.25, 0.25, 0.25, 0.25, 0.25, 0.25, 0.25, 0.25, 0.25, 0.25, 0.25, 0.25, 0.25, 0.25, 0.25, 0.25, 0.25, 0.25, 0.25, 0.25, 0.25, 0.25, 0.25, 0.25, 0.25, 0.25, 0.25, 0.25, 0.25, 0.25, 0.25]\n",
            "Fator:  [0.3296799539643607, 0.3934693402873666, 0.3934693402873666, 0.3934693402873666, 0.3934693402873666, 0.3934693402873666, 0.3934693402873666, 0.3934693402873666, 0.3934693402873666, 0.3934693402873666, 0.3934693402873666, 0.3934693402873666, 0.3934693402873666, 0.3934693402873666, 0.3934693402873666, 0.3934693402873666, 0.3934693402873666, 0.3934693402873666, 0.3934693402873666, 0.3934693402873666, 0.3934693402873666, 0.3934693402873666, 0.3934693402873666, 0.3934693402873666, 0.3934693402873666, 0.3934693402873666, 0.3934693402873666, 0.3934693402873666, 0.3934693402873666, 0.3934693402873666, 0.3934693402873666, 0.3934693402873666, 0.3934693402873666, 0.3934693402873666, 0.3934693402873666, 0.3934693402873666, 0.3934693402873666, 0.3934693402873666, 0.3934693402873666, 0.3934693402873666, 0.3934693402873666, 0.3934693402873666, 0.3934693402873666, 0.3934693402873666, 0.3934693402873666, 0.3934693402873666, 0.3934693402873666, 0.3934693402873666, 0.3934693402873666, 0.3934693402873666, 0.3934693402873666, 0.3934693402873666, 0.3934693402873666, 0.3934693402873666, 0.3934693402873666, 0.3934693402873666, 0.3934693402873666, 0.3934693402873666, 0.3934693402873666, 0.3934693402873666, 0.3934693402873666, 0.3934693402873666, 0.3934693402873666, 0.3934693402873666, 0.3934693402873666, 0.3934693402873666, 0.3934693402873666, 0.3934693402873666, 0.3934693402873666, 0.3934693402873666, 0.3934693402873666, 0.3934693402873666, 0.3934693402873666, 0.3934693402873666, 0.3934693402873666, 0.3934693402873666, 0.3934693402873666, 0.3934693402873666, 0.3934693402873666, 0.3934693402873666, 0.3934693402873666, 0.3934693402873666, 0.3934693402873666, 0.3934693402873666, 0.3934693402873666, 0.3934693402873666, 0.3934693402873666, 0.3934693402873666, 0.3934693402873666, 0.3934693402873666, 0.3934693402873666, 0.3934693402873666, 0.3934693402873666, 0.3934693402873666, 0.3934693402873666, 0.3934693402873666, 0.3934693402873666, 0.3934693402873666, 0.3934693402873666, 0.3934693402873666, 0.3934693402873666]\n",
            "Media de falhas:  [0, 7962624.000000001, 390305313.02371925, 463378498.0543016, 567239226.4285824, 943116459.9670303, 10085054212.747309, 11516792054.775051, 13216057111.25985, 30378861762.173344, 34548371625.4978, 45163944124.93648, 51279978629.313675, 66516254248.556175, 85577763590.08746, 109143764126.67145, 137969584264.78116, 319591663501.70776, 349509563245.8548, 418909766461.76965, 456884333421.1168, 1175964540582.7432, 1257961761108.981, 1442026939759.058, 1902109223854.7212, 2315030632580.526, 2801676167896.2925, 3838353169794.6006, 7084675386499.613, 8683349788649.121, 15316224523635.09, 15976207313429.05, 16661490733062.227, 18128611070882.402, 21481545615666.82, 30145411401271.18, 32527600971478.656, 41013423452720.94, 44080511519200.12, 47339731882294.19, 50799973553705.35, 52590909134195.305, 54435170764588.97, 58325206301827.53, 64652516963955.984, 66842170396425.484, 73915763443490.45, 81590975245835.97, 84242485552442.58, 92778589945642.28, 102006409716763.64, 105189254022617.45, 111857435180275.1, 118868239690771.83, 138450639422859.84, 151173001767733.34, 160099076374491.12, 164685733030754.0, 213928093654668.84, 225642076978075.12, 272500001085252.7, 294171149578831.0, 317225102454342.2, 325122207706928.25, 333181027758317.4, 341404033663689.06, 367421052052046.2, 376326014723510.3, 404471199223884.75, 467053622024425.75, 477848945831379.8, 500191445123849.06, 511608440270380.06, 573419188477517.1, 599283191077300.4, 626089059019552.9, 683287295501927.0, 713073548421480.8, 847425618283367.9, 864832490306596.0, 900720198511198.8, 919014520500994.9, 956717748542677.1, 1015936214097329.2, 1056817312281761.2, 1077644255365241.0, 1098805322265889.6, 1188244546066241.8, 1211136934369259.2, 1234387952235842.5, 1529520768892971.0, 1615271477747195.8, 1674287849919793.0, 1865556208680006.5, 1931782157105511.8, 2071259869202562.5, 2297614846708641.5, 2336302553800199.5, 2415628036899050.0, 2497129243806215.5, 2538527764210380.5, 984626860480629.0]\n",
            "\n",
            "Custo =  265420816.6666667\n",
            "=========================================================================\n",
            "\n",
            "\n",
            "=========================================================================\n",
            "\n",
            "Número de ciclos de manutenção: 54 5\n",
            "Tempos para manutenções preventivas: [0, 120, 360, 420, 660, 720, 750, 870, 900, 960, 1110, 1170, 1230, 1860, 1950, 2400, 3150, 3210, 3270, 3420, 3630, 3690, 3870, 4170, 4260, 4500, 4620, 4710, 4770, 4980, 5070, 5130, 5430, 5460, 5490, 5790, 5970, 6030, 6060, 6090, 6180, 6360, 6390, 7170, 7260, 7680, 7740, 8070, 8160, 8220, 8400, 8580, 8760, 8850, 8940]\n",
            "Severidade para cada subsistema: [0.25, 0.25, 0.25, 0.25, 0.25, 0.25, 0.25, 0.25, 0.25, 0.25, 0.25, 0.25, 0.25, 0.25, 0.25, 0.25, 0.25, 0.25, 0.25, 0.25, 0.25, 0.25, 0.25, 0.25, 0.25, 0.25, 0.25, 0.25, 0.25, 0.25, 0.25, 0.25, 0.25, 0.25, 0.25, 0.25, 0.25, 0.25, 0.25, 0.25, 0.25, 0.25, 0.25, 0.25, 0.25, 0.25, 0.25, 0.25, 0.25, 0.25, 0.25, 0.25, 0.25, 0.25]\n",
            "Fator:  [0.3296799539643607, 0.3934693402873666, 0.3934693402873666, 0.3934693402873666, 0.3934693402873666, 0.3934693402873666, 0.3934693402873666, 0.3934693402873666, 0.3934693402873666, 0.3934693402873666, 0.3934693402873666, 0.3934693402873666, 0.3934693402873666, 0.3934693402873666, 0.3934693402873666, 0.3934693402873666, 0.3934693402873666, 0.3934693402873666, 0.3934693402873666, 0.3934693402873666, 0.3934693402873666, 0.3934693402873666, 0.3934693402873666, 0.3934693402873666, 0.3934693402873666, 0.3934693402873666, 0.3934693402873666, 0.3934693402873666, 0.3934693402873666, 0.3934693402873666, 0.3934693402873666, 0.3934693402873666, 0.3934693402873666, 0.3934693402873666, 0.3934693402873666, 0.3934693402873666, 0.3934693402873666, 0.3934693402873666, 0.3934693402873666, 0.3934693402873666, 0.3934693402873666, 0.3934693402873666, 0.3934693402873666, 0.3934693402873666, 0.3934693402873666, 0.3934693402873666, 0.3934693402873666, 0.3934693402873666, 0.3934693402873666, 0.3934693402873666, 0.3934693402873666, 0.3934693402873666, 0.3934693402873666, 0.3934693402873666, 0.3934693402873666]\n",
            "Media de falhas:  [0, 7962624.000000001, 1088002229.3998876, 1463879462.9383354, 10605817215.718615, 13929360523.6956, 15932017047.628801, 29794424892.475758, 33963934755.800217, 44579507255.23889, 90537838870.30246, 114103839406.88644, 142929659544.99615, 1647658235730.8064, 1921215713554.8982, 4893638242174.356, 19507453301013.004, 20869517065941.582, 22336637403761.758, 26656245789201.086, 34270847466292.34, 36653037036499.81, 45138859517742.09, 63941957121634.375, 70269267783762.83, 90873222259763.94, 102507478834962.8, 111974950647093.38, 118643131804751.02, 145858711449652.22, 158581073794525.72, 167507148401283.5, 222050989487380.44, 227802255069027.34, 233681089173268.7, 304328490693984.0, 352859454736943.3, 369919159680466.1, 378649800562335.9, 387554763233800.0, 415699947734174.4, 478282370534715.4, 489077694341669.44, 909218336405115.8, 962899824470923.0, 1268571252059074.8, 1314949551442832.0, 1610082368099960.5, 1695833076954185.2, 1754849449126782.5, 1946117807886996.0, 2154375687908656.2, 2380730665414735.5, 2499444740447248.5, 2623070584235547.0, 1069169680505795.5]\n",
            "\n",
            "Custo =  265420816.6666667\n",
            "=========================================================================\n",
            "\n",
            "\n",
            "=========================================================================\n",
            "\n",
            "Número de ciclos de manutenção: 18 5\n",
            "Tempos para manutenções preventivas: [0, 120, 420, 750, 870, 1170, 1860, 1920, 1980, 3150, 3420, 4170, 4620, 4770, 5130, 5430, 5460, 6090, 7680]\n",
            "Severidade para cada subsistema: [0.25, 0.25, 0.25, 0.25, 0.25, 0.25, 0.25, 0.25, 0.25, 0.25, 0.25, 0.25, 0.25, 0.25, 0.25, 0.25, 0.25, 0.25]\n",
            "Fator:  [0.3296799539643607, 0.3934693402873666, 0.3934693402873666, 0.3934693402873666, 0.3934693402873666, 0.3934693402873666, 0.3934693402873666, 0.3934693402873666, 0.3934693402873666, 0.3934693402873666, 0.3934693402873666, 0.3934693402873666, 0.3934693402873666, 0.3934693402873666, 0.3934693402873666, 0.3934693402873666, 0.3934693402873666, 0.3934693402873666, 0.3934693402873666]\n",
            "Media de falhas:  [0, 7962624.000000001, 2557070325.6140423, 24090121816.050835, 37952529660.89779, 149159133298.30142, 1810400192779.2646, 1983345380228.8052, 2179058484368.8755, 25353912307207.016, 32983672038286.97, 78202236566165.72, 120187535401098.44, 136656419664143.94, 188384801315945.8, 242928642402042.75, 248679907983689.66, 425688894381612.25, 1523512429963286.2, 801468189684845.5]\n",
            "\n",
            "Custo =  265420816.6666667\n",
            "=========================================================================\n",
            "\n",
            "\n",
            "=========================================================================\n",
            "\n",
            "Número de ciclos de manutenção: 5 5\n",
            "Tempos para manutenções preventivas: [0, 750, 1860, 4170, 5130, 7440]\n",
            "Severidade para cada subsistema: [0.25, 0.25, 0.25, 0.25, 0.25]\n",
            "Fator:  [0.3296799539643607, 0.3934693402873666, 0.3934693402873666, 0.3934693402873666, 0.3934693402873666, 0.3934693402873666]\n",
            "Media de falhas:  [0, 75937500000.0, 3556837038167.735, 156706881057891.53, 289087261809945.6, 1694577299984977.5, 1079387060057996.6]\n",
            "\n",
            "Custo =  405000000002.6667\n",
            "=========================================================================\n",
            "\n",
            "\n",
            "=========================================================================\n",
            "\n",
            "Número de ciclos de manutenção: 3 5\n",
            "Tempos para manutenções preventivas: [0, 1920, 4200, 7440]\n",
            "Severidade para cada subsistema: [0.25, 0.25, 0.25]\n",
            "Fator:  [0.3296799539643607, 0.3934693402873666, 0.3934693402873666, 0.3934693402873666]\n",
            "Media de falhas:  [0, 8349416423424.001, 192007692580077.94, 2235356918406521.5, 1620166678479540.5]\n",
            "\n",
            "Custo =  17394617548801.043\n",
            "=========================================================================\n",
            "\n",
            "\n",
            "=========================================================================\n",
            "\n",
            "Número de ciclos de manutenção: 11 5\n",
            "Tempos para manutenções preventivas: [0, 570, 1830, 2220, 2760, 3480, 4200, 4470, 5670, 6180, 7380, 8370]\n",
            "Severidade para cada subsistema: [0.25, 0.25, 0.25, 0.25, 0.25, 0.25, 0.25, 0.25, 0.25, 0.25, 0.25]\n",
            "Fator:  [0.3296799539643607, 0.3934693402873666, 0.3934693402873666, 0.3934693402873666, 0.3934693402873666, 0.3934693402873666, 0.3934693402873666, 0.3934693402873666, 0.3934693402873666, 0.3934693402873666, 0.3934693402873666, 0.3934693402873666]\n",
            "Media de falhas:  [0, 19254145824.0, 3837188324010.6216, 5727692454814.847, 11957272238020.21, 32915175714409.277, 77670889798942.33, 100150643874356.62, 346158578447590.44, 499554081651671.4, 1212183226194881.5, 2198769098988560.5, 1084305972273154.6]\n",
            "\n",
            "Custo =  135116812803.50877\n",
            "=========================================================================\n",
            "\n",
            "\n",
            "=========================================================================\n",
            "\n",
            "Número de ciclos de manutenção: 31 5\n",
            "Tempos para manutenções preventivas: [0, 270, 450, 540, 570, 1050, 1380, 1830, 1890, 2070, 2220, 2610, 2760, 3480, 3660, 3840, 4080, 4140, 4410, 5160, 5670, 6180, 6270, 6870, 7200, 7230, 7350, 7380, 7500, 7560, 7710, 8370]\n",
            "Severidade para cada subsistema: [0.25, 0.25, 0.25, 0.25, 0.25, 0.25, 0.25, 0.25, 0.25, 0.25, 0.25, 0.25, 0.25, 0.25, 0.25, 0.25, 0.25, 0.25, 0.25, 0.25, 0.25, 0.25, 0.25, 0.25, 0.25, 0.25, 0.25, 0.25, 0.25, 0.25, 0.25]\n",
            "Fator:  [0.3296799539643607, 0.3934693402873666, 0.3934693402873666, 0.3934693402873666, 0.3934693402873666, 0.3934693402873666, 0.3934693402873666, 0.3934693402873666, 0.3934693402873666, 0.3934693402873666, 0.3934693402873666, 0.3934693402873666, 0.3934693402873666, 0.3934693402873666, 0.3934693402873666, 0.3934693402873666, 0.3934693402873666, 0.3934693402873666, 0.3934693402873666, 0.3934693402873666, 0.3934693402873666, 0.3934693402873666, 0.3934693402873666, 0.3934693402873666, 0.3934693402873666, 0.3934693402873666, 0.3934693402873666, 0.3934693402873666, 0.3934693402873666, 0.3934693402873666, 0.3934693402873666, 0.3934693402873666]\n",
            "Media de falhas:  [0, 459165024.00000006, 2358595801.141229, 3889086524.303446, 4552342400.386254, 125806407407.91878, 362654019292.5641, 1361150379335.4194, 1523487307952.0107, 2203519224608.2197, 2960433883901.635, 6596734137321.756, 8417987999381.609, 29375891475770.676, 36153982908207.555, 44377993626769.48, 58259043870989.59, 62038076226411.13, 83325495708026.14, 190286025208338.62, 298597643706961.94, 451993146911042.9, 481818164769438.25, 756782568718818.2, 943245439846483.2, 960944456333245.2, 1035939262210781.8, 1055154542920604.8, 1136478876703197.5, 1178685779293793.8, 1291956692616668.0, 1961083661842579.5, 846620535127173.6]\n",
            "\n",
            "Custo =  6802444807.407409\n",
            "=========================================================================\n",
            "\n",
            "\n",
            "=========================================================================\n",
            "\n",
            "Número de ciclos de manutenção: 54 5\n",
            "Tempos para manutenções preventivas: [0, 60, 270, 330, 450, 540, 570, 660, 870, 1050, 1320, 1380, 1560, 1830, 1890, 2070, 2340, 2610, 2670, 2760, 3180, 3630, 3660, 3780, 3840, 3930, 4080, 4140, 4260, 4590, 4620, 5070, 5160, 5490, 5880, 5910, 5940, 6270, 6870, 7170, 7200, 7230, 7320, 7380, 7500, 7560, 7710, 7980, 8160, 8340, 8370, 8400, 8580, 8790, 8850]\n",
            "Severidade para cada subsistema: [0.25, 0.25, 0.25, 0.25, 0.25, 0.25, 0.25, 0.25, 0.25, 0.25, 0.25, 0.25, 0.25, 0.25, 0.25, 0.25, 0.25, 0.25, 0.25, 0.25, 0.25, 0.25, 0.25, 0.25, 0.25, 0.25, 0.25, 0.25, 0.25, 0.25, 0.25, 0.25, 0.25, 0.25, 0.25, 0.25, 0.25, 0.25, 0.25, 0.25, 0.25, 0.25, 0.25, 0.25, 0.25, 0.25, 0.25, 0.25, 0.25, 0.25, 0.25, 0.25, 0.25, 0.25]\n",
            "Fator:  [0.3296799539643607, 0.3934693402873666, 0.3934693402873666, 0.3934693402873666, 0.3934693402873666, 0.3934693402873666, 0.3934693402873666, 0.3934693402873666, 0.3934693402873666, 0.3934693402873666, 0.3934693402873666, 0.3934693402873666, 0.3934693402873666, 0.3934693402873666, 0.3934693402873666, 0.3934693402873666, 0.3934693402873666, 0.3934693402873666, 0.3934693402873666, 0.3934693402873666, 0.3934693402873666, 0.3934693402873666, 0.3934693402873666, 0.3934693402873666, 0.3934693402873666, 0.3934693402873666, 0.3934693402873666, 0.3934693402873666, 0.3934693402873666, 0.3934693402873666, 0.3934693402873666, 0.3934693402873666, 0.3934693402873666, 0.3934693402873666, 0.3934693402873666, 0.3934693402873666, 0.3934693402873666, 0.3934693402873666, 0.3934693402873666, 0.3934693402873666, 0.3934693402873666, 0.3934693402873666, 0.3934693402873666, 0.3934693402873666, 0.3934693402873666, 0.3934693402873666, 0.3934693402873666, 0.3934693402873666, 0.3934693402873666, 0.3934693402873666, 0.3934693402873666, 0.3934693402873666, 0.3934693402873666, 0.3934693402873666, 0.3934693402873666]\n",
            "Media de falhas:  [0, 248832.00000000003, 314087578.11416864, 455909254.09556186, 1429458327.8177009, 2959949050.9799175, 3623204927.0627265, 7068465796.527902, 30874817925.08214, 74581569960.75894, 237322963808.11493, 283138574753.0027, 499835586113.6314, 1108592452881.7793, 1270929381498.3706, 1950961298154.5793, 3596504228174.3525, 6155746430512.377, 6806111998484.105, 7912904670796.716, 16590276465652.025, 32421531362705.477, 33580611934033.4, 38775393649764.32, 41570369393525.32, 46148141814480.53, 54934655402425.82, 58713687757847.36, 67112295532743.57, 97474899689756.56, 100421102993754.03, 161551256850604.88, 175204096926777.12, 237731449949228.03, 334648408907663.9, 342545514160249.94, 350604334211639.06, 457422356310651.75, 732386760260031.8, 899481563667272.8, 916888435690500.9, 934587452177262.9, 990069434307839.5, 1028392870723594.8, 1109717204506187.5, 1151924107096783.8, 1265195020419658.0, 1497060126316739.2, 1667319071960963.5, 1853162381140708.8, 1884965355929535.0, 1917227030885176.0, 2125484910906836.2, 2392625961122888.0, 2471951444221738.5, 995386224063066.8]\n",
            "\n",
            "Custo =  16588833.333333336\n",
            "=========================================================================\n",
            "\n",
            "\n",
            "=========================================================================\n",
            "\n",
            "Número de ciclos de manutenção: 74 5\n",
            "Tempos para manutenções preventivas: [0, 60, 270, 330, 540, 570, 660, 690, 870, 1050, 1110, 1170, 1320, 1380, 1560, 1890, 1920, 2070, 2130, 2160, 2250, 2340, 2400, 2610, 2760, 2820, 3000, 3150, 3180, 3420, 3630, 3660, 3780, 3930, 4080, 4140, 4260, 4350, 4530, 4560, 4590, 4620, 5070, 5160, 5490, 5880, 5910, 5940, 6270, 6360, 6450, 6630, 6870, 7140, 7170, 7200, 7230, 7320, 7350, 7380, 7500, 7560, 7680, 7710, 7740, 7980, 8070, 8160, 8370, 8400, 8460, 8580, 8700, 8790, 8850]\n",
            "Severidade para cada subsistema: [0.25, 0.25, 0.25, 0.25, 0.25, 0.25, 0.25, 0.25, 0.25, 0.25, 0.25, 0.25, 0.25, 0.25, 0.25, 0.25, 0.25, 0.25, 0.25, 0.25, 0.25, 0.25, 0.25, 0.25, 0.25, 0.25, 0.25, 0.25, 0.25, 0.25, 0.25, 0.25, 0.25, 0.25, 0.25, 0.25, 0.25, 0.25, 0.25, 0.25, 0.25, 0.25, 0.25, 0.25, 0.25, 0.25, 0.25, 0.25, 0.25, 0.25, 0.25, 0.25, 0.25, 0.25, 0.25, 0.25, 0.25, 0.25, 0.25, 0.25, 0.25, 0.25, 0.25, 0.25, 0.25, 0.25, 0.25, 0.25, 0.25, 0.25, 0.25, 0.25, 0.25, 0.25]\n",
            "Fator:  [0.3296799539643607, 0.3934693402873666, 0.3934693402873666, 0.3934693402873666, 0.3934693402873666, 0.3934693402873666, 0.3934693402873666, 0.3934693402873666, 0.3934693402873666, 0.3934693402873666, 0.3934693402873666, 0.3934693402873666, 0.3934693402873666, 0.3934693402873666, 0.3934693402873666, 0.3934693402873666, 0.3934693402873666, 0.3934693402873666, 0.3934693402873666, 0.3934693402873666, 0.3934693402873666, 0.3934693402873666, 0.3934693402873666, 0.3934693402873666, 0.3934693402873666, 0.3934693402873666, 0.3934693402873666, 0.3934693402873666, 0.3934693402873666, 0.3934693402873666, 0.3934693402873666, 0.3934693402873666, 0.3934693402873666, 0.3934693402873666, 0.3934693402873666, 0.3934693402873666, 0.3934693402873666, 0.3934693402873666, 0.3934693402873666, 0.3934693402873666, 0.3934693402873666, 0.3934693402873666, 0.3934693402873666, 0.3934693402873666, 0.3934693402873666, 0.3934693402873666, 0.3934693402873666, 0.3934693402873666, 0.3934693402873666, 0.3934693402873666, 0.3934693402873666, 0.3934693402873666, 0.3934693402873666, 0.3934693402873666, 0.3934693402873666, 0.3934693402873666, 0.3934693402873666, 0.3934693402873666, 0.3934693402873666, 0.3934693402873666, 0.3934693402873666, 0.3934693402873666, 0.3934693402873666, 0.3934693402873666, 0.3934693402873666, 0.3934693402873666, 0.3934693402873666, 0.3934693402873666, 0.3934693402873666, 0.3934693402873666, 0.3934693402873666, 0.3934693402873666, 0.3934693402873666, 0.3934693402873666, 0.3934693402873666]\n",
            "Media de falhas:  [0, 248832.00000000003, 314087578.11416864, 455909254.09556186, 4067528486.0098443, 4730784362.092653, 8176045231.557829, 9607783073.585571, 30074485687.24677, 73781237722.92357, 92842747064.45486, 116408747601.03885, 209041871920.95398, 254857482865.84174, 471554494226.47046, 1312108656873.581, 1399451648866.1123, 1970169333949.9685, 2232625826915.475, 2372693777572.5967, 2859339312888.3633, 3429170430569.3555, 3853061780330.594, 5864484095047.644, 7685737957107.497, 8495661155128.867, 11536896219332.152, 14638835207965.418, 15298817997759.379, 22110785951906.12, 29725387628997.375, 30884468200325.297, 36079249916056.22, 43636753209986.08, 52423266797931.37, 56202299153352.91, 64600906928249.12, 71482052516304.6, 87476681190009.05, 90272626954566.52, 93142964126374.03, 96089167430371.5, 157219321287222.34, 170872161363394.6, 233399514385845.5, 330316473344281.4, 338213578596867.44, 346272398648256.56, 453090420747269.25, 484669371866104.25, 518078503964304.3, 592037867715758.2, 705175221126823.2, 853415339175889.4, 870533698419963.8, 887940570443191.9, 905639586929953.9, 961121569060530.5, 980026089122202.9, 999241369832025.9, 1080565703614618.6, 1122772606205214.8, 1212211830005566.8, 1235104218308584.2, 1258355236175167.5, 1464937174766694.5, 1546960097100536.5, 1632710805954761.2, 1852170457395008.5, 1884432132350649.5, 1950658080776154.8, 2090135792873205.5, 2237600635765872.5, 2353122517111265.5, 2432448000210116.0, 955882780051444.2]\n",
            "\n",
            "Custo =  16588833.333333336\n",
            "=========================================================================\n",
            "\n",
            "\n",
            "=========================================================================\n",
            "\n",
            "Número de ciclos de manutenção: 76 5\n",
            "Tempos para manutenções preventivas: [0, 60, 120, 270, 330, 570, 660, 690, 870, 960, 1110, 1170, 1290, 1320, 1530, 1560, 1860, 1890, 2070, 2160, 2250, 2340, 2400, 2490, 2700, 2820, 3000, 3150, 3180, 3420, 3630, 3660, 3870, 3930, 4080, 4110, 4260, 4350, 4470, 4530, 4560, 4590, 4620, 4680, 5070, 5160, 5370, 5460, 5490, 5880, 5910, 5940, 5970, 6030, 6090, 6180, 6210, 6270, 6360, 6450, 6720, 7140, 7170, 7260, 7500, 7530, 7680, 7740, 8070, 8160, 8220, 8400, 8460, 8580, 8760, 8790, 8850]\n",
            "Severidade para cada subsistema: [0.25, 0.25, 0.25, 0.25, 0.25, 0.25, 0.25, 0.25, 0.25, 0.25, 0.25, 0.25, 0.25, 0.25, 0.25, 0.25, 0.25, 0.25, 0.25, 0.25, 0.25, 0.25, 0.25, 0.25, 0.25, 0.25, 0.25, 0.25, 0.25, 0.25, 0.25, 0.25, 0.25, 0.25, 0.25, 0.25, 0.25, 0.25, 0.25, 0.25, 0.25, 0.25, 0.25, 0.25, 0.25, 0.25, 0.25, 0.25, 0.25, 0.25, 0.25, 0.25, 0.25, 0.25, 0.25, 0.25, 0.25, 0.25, 0.25, 0.25, 0.25, 0.25, 0.25, 0.25, 0.25, 0.25, 0.25, 0.25, 0.25, 0.25, 0.25, 0.25, 0.25, 0.25, 0.25, 0.25]\n",
            "Fator:  [0.3296799539643607, 0.3934693402873666, 0.3934693402873666, 0.3934693402873666, 0.3934693402873666, 0.3934693402873666, 0.3934693402873666, 0.3934693402873666, 0.3934693402873666, 0.3934693402873666, 0.3934693402873666, 0.3934693402873666, 0.3934693402873666, 0.3934693402873666, 0.3934693402873666, 0.3934693402873666, 0.3934693402873666, 0.3934693402873666, 0.3934693402873666, 0.3934693402873666, 0.3934693402873666, 0.3934693402873666, 0.3934693402873666, 0.3934693402873666, 0.3934693402873666, 0.3934693402873666, 0.3934693402873666, 0.3934693402873666, 0.3934693402873666, 0.3934693402873666, 0.3934693402873666, 0.3934693402873666, 0.3934693402873666, 0.3934693402873666, 0.3934693402873666, 0.3934693402873666, 0.3934693402873666, 0.3934693402873666, 0.3934693402873666, 0.3934693402873666, 0.3934693402873666, 0.3934693402873666, 0.3934693402873666, 0.3934693402873666, 0.3934693402873666, 0.3934693402873666, 0.3934693402873666, 0.3934693402873666, 0.3934693402873666, 0.3934693402873666, 0.3934693402873666, 0.3934693402873666, 0.3934693402873666, 0.3934693402873666, 0.3934693402873666, 0.3934693402873666, 0.3934693402873666, 0.3934693402873666, 0.3934693402873666, 0.3934693402873666, 0.3934693402873666, 0.3934693402873666, 0.3934693402873666, 0.3934693402873666, 0.3934693402873666, 0.3934693402873666, 0.3934693402873666, 0.3934693402873666, 0.3934693402873666, 0.3934693402873666, 0.3934693402873666, 0.3934693402873666, 0.3934693402873666, 0.3934693402873666, 0.3934693402873666, 0.3934693402873666, 0.3934693402873666]\n",
            "Media de falhas:  [0, 248832.00000000003, 3450382.7896814686, 178413885.44942582, 320235561.43081903, 5504065909.666328, 8949326779.131504, 10381064621.159246, 30847767234.820442, 46527877900.72071, 92486209515.78427, 116052210052.36826, 184239578538.79788, 203662157186.15363, 435754843350.6031, 473729410309.95026, 1192809617471.5764, 1274806837997.8142, 1954838754654.023, 2367760163379.8276, 2854405698695.594, 3424236816376.5864, 3848128166137.825, 4579751991242.075, 6886323582807.855, 8484997984957.363, 11526233049160.648, 14628172037793.914, 15288154827587.875, 22100122781734.617, 29714724458825.87, 30873805030153.793, 40730390016914.016, 43797478083393.195, 52583991671338.484, 54428253301732.15, 64880849337078.875, 71761994925134.34, 81951689758523.69, 87373360136524.77, 90169305901082.23, 93039643072889.75, 95985846376887.22, 102163833015365.47, 155444873553777.88, 169097713629950.12, 205960545885897.72, 223087048747124.1, 228965882851365.44, 325882841809801.25, 333779947062387.3, 341838767113776.44, 350061773019148.1, 367121477962670.94, 384871555279018.25, 413016739779392.6, 422645222447379.0, 442592536692352.0, 474171487811187.0, 507580619909387.06, 623734778030082.9, 851565648591222.6, 868684007835297.0, 922365495901104.2, 1083358473615252.1, 1104185416698731.9, 1215698100633753.5, 1262076400017510.8, 1557209216674639.2, 1642959925528864.0, 1701976297701461.2, 1893244656461674.8, 1959470604887180.0, 2098948316984230.8, 2325303294490310.0, 2363991001581868.0, 2443316484680718.5, 966751264522046.8]\n",
            "\n",
            "Custo =  16588833.333333336\n",
            "=========================================================================\n",
            "\n",
            "\n",
            "=========================================================================\n",
            "\n",
            "Número de ciclos de manutenção: 53 5\n",
            "Tempos para manutenções preventivas: [0, 60, 120, 270, 420, 660, 870, 960, 1110, 1170, 1860, 1890, 1980, 2160, 2400, 2490, 3000, 3150, 3180, 3210, 3270, 3660, 3870, 3930, 4350, 4470, 4620, 4680, 4710, 5160, 5370, 5430, 5460, 5490, 5880, 5910, 6030, 6090, 6180, 6210, 6360, 6720, 7140, 7260, 7530, 7680, 7740, 8070, 8220, 8310, 8400, 8670, 8760, 8850]\n",
            "Severidade para cada subsistema: [0.25, 0.25, 0.25, 0.25, 0.25, 0.25, 0.25, 0.25, 0.25, 0.25, 0.25, 0.25, 0.25, 0.25, 0.25, 0.25, 0.25, 0.25, 0.25, 0.25, 0.25, 0.25, 0.25, 0.25, 0.25, 0.25, 0.25, 0.25, 0.25, 0.25, 0.25, 0.25, 0.25, 0.25, 0.25, 0.25, 0.25, 0.25, 0.25, 0.25, 0.25, 0.25, 0.25, 0.25, 0.25, 0.25, 0.25, 0.25, 0.25, 0.25, 0.25, 0.25, 0.25]\n",
            "Fator: "
          ]
        },
        {
          "output_type": "stream",
          "name": "stderr",
          "text": [
            "pyswarms.single.global_best:  32%|███▏      |32/100, best_cost=2e+3"
          ]
        },
        {
          "output_type": "stream",
          "name": "stdout",
          "text": [
            " [0.3296799539643607, 0.3934693402873666, 0.3934693402873666, 0.3934693402873666, 0.3934693402873666, 0.3934693402873666, 0.3934693402873666, 0.3934693402873666, 0.3934693402873666, 0.3934693402873666, 0.3934693402873666, 0.3934693402873666, 0.3934693402873666, 0.3934693402873666, 0.3934693402873666, 0.3934693402873666, 0.3934693402873666, 0.3934693402873666, 0.3934693402873666, 0.3934693402873666, 0.3934693402873666, 0.3934693402873666, 0.3934693402873666, 0.3934693402873666, 0.3934693402873666, 0.3934693402873666, 0.3934693402873666, 0.3934693402873666, 0.3934693402873666, 0.3934693402873666, 0.3934693402873666, 0.3934693402873666, 0.3934693402873666, 0.3934693402873666, 0.3934693402873666, 0.3934693402873666, 0.3934693402873666, 0.3934693402873666, 0.3934693402873666, 0.3934693402873666, 0.3934693402873666, 0.3934693402873666, 0.3934693402873666, 0.3934693402873666, 0.3934693402873666, 0.3934693402873666, 0.3934693402873666, 0.3934693402873666, 0.3934693402873666, 0.3934693402873666, 0.3934693402873666, 0.3934693402873666, 0.3934693402873666, 0.3934693402873666]\n",
            "Media de falhas:  [0, 248832.00000000003, 3450382.7896814686, 178413885.44942582, 1113830214.0107064, 10255767966.790985, 34062120095.345226, 49742230761.2455, 95700562376.30905, 119266562912.89304, 1780507622393.8562, 1862504842920.094, 2153407283624.7573, 2961028307463.1636, 4589880269944.221, 5321504095048.471, 13576548969018.412, 16678487957651.678, 17338470747445.639, 18023754167078.816, 19490874504898.992, 33766988141191.28, 43623573127951.5, 46690661194430.68, 77500250348215.4, 87689945181604.75, 102173808184284.6, 108351794822762.84, 111534639128616.66, 177169620021512.0, 214032452277459.6, 225241770530187.8, 230993036111834.72, 236871870216076.06, 333788829174511.9, 341685934427097.94, 375580826011120.06, 393330903327467.4, 421476087827841.75, 431104570495828.1, 483412869963646.6, 637090602215713.5, 864921472776853.2, 936300452665311.8, 1119898302070465.8, 1231410986005487.5, 1277789285389244.8, 1572922102046373.2, 1719385991534263.0, 1811630274044715.2, 1907943625415409.5, 2231553377838753.0, 2345503523868579.5, 2464217598901092.5, 987652378742420.8]\n",
            "\n",
            "Custo =  16588833.333333336\n",
            "=========================================================================\n",
            "\n",
            "\n",
            "=========================================================================\n",
            "\n",
            "Número de ciclos de manutenção: 25 5\n",
            "Tempos para manutenções preventivas: [0, 120, 420, 720, 960, 1110, 1170, 1860, 1980, 2160, 3150, 3210, 3270, 3660, 4170, 4350, 4470, 4680, 4770, 5460, 6030, 6090, 6180, 6930, 7260, 8220]\n",
            "Severidade para cada subsistema: [0.25, 0.25, 0.25, 0.25, 0.25, 0.25, 0.25, 0.25, 0.25, 0.25, 0.25, 0.25, 0.25, 0.25, 0.25, 0.25, 0.25, 0.25, 0.25, 0.25, 0.25, 0.25, 0.25, 0.25, 0.25]\n",
            "Fator:  [0.3296799539643607, 0.3934693402873666, 0.3934693402873666, 0.3934693402873666, 0.3934693402873666, 0.3934693402873666, 0.3934693402873666, 0.3934693402873666, 0.3934693402873666, 0.3934693402873666, 0.3934693402873666, 0.3934693402873666, 0.3934693402873666, 0.3934693402873666, 0.3934693402873666, 0.3934693402873666, 0.3934693402873666, 0.3934693402873666, 0.3934693402873666, 0.3934693402873666, 0.3934693402873666, 0.3934693402873666, 0.3934693402873666, 0.3934693402873666, 0.3934693402873666, 0.3934693402873666]\n",
            "Media de falhas:  [0, 7962624.000000001, 2557070325.6140423, 19025365689.770218, 59351416919.77865, 105309748534.84221, 128875749071.4262, 1790116808552.3894, 2174701433381.5935, 2982322457219.9995, 22348332391294.05, 23710396156222.63, 25177516494042.805, 39453630130335.09, 70718484208941.31, 84305165014614.45, 94494859848003.8, 115687950175840.0, 125648700418714.89, 249790449174324.97, 404321026902269.0, 422071104218616.3, 450216288718990.75, 802844656358051.5, 995643541040878.1, 1886083206869673.2, 868798609297212.1]\n",
            "\n",
            "Custo =  265420816.6666667\n",
            "=========================================================================\n",
            "\n",
            "\n",
            "=========================================================================\n",
            "\n",
            "Número de ciclos de manutenção: 10 5\n",
            "Tempos para manutenções preventivas: [0, 120, 1980, 3150, 3210, 3270, 4170, 4350, 6180, 6930, 8220]\n",
            "Severidade para cada subsistema: [0.25, 0.25, 0.25, 0.25, 0.25, 0.25, 0.25, 0.25, 0.25, 0.25]\n",
            "Fator:  [0.3296799539643607, 0.3934693402873666, 0.3934693402873666, 0.3934693402873666, 0.3934693402873666, 0.3934693402873666, 0.3934693402873666, 0.3934693402873666, 0.3934693402873666, 0.3934693402873666, 0.3934693402873666]\n",
            "Media de falhas:  [0, 7962624.000000001, 8803383601629.992, 31978237424468.133, 33340301189396.71, 34807421527216.887, 88760066828362.28, 102346747634035.42, 631485588361071.9, 984113956000132.5, 2164940132649964.0, 1147655535077503.0]\n",
            "\n",
            "Custo =  265420816.6666667\n",
            "=========================================================================\n",
            "\n",
            "\n",
            "=========================================================================\n",
            "\n",
            "Número de ciclos de manutenção: 4 5\n",
            "Tempos para manutenções preventivas: [0, 120, 1920, 4170, 6930]\n",
            "Severidade para cada subsistema: [0.25, 0.25, 0.25, 0.25]\n",
            "Fator:  [0.3296799539643607, 0.3934693402873666, 0.3934693402873666, 0.3934693402873666, 0.3934693402873666]\n",
            "Media de falhas:  [0, 7962624.000000001, 7523950649278.242, 155367254969001.16, 1446934389733543.5, 1016941247835871.0]\n",
            "\n",
            "Custo =  265420816.6666667\n",
            "=========================================================================\n",
            "\n",
            "\n",
            "=========================================================================\n",
            "\n",
            "Número de ciclos de manutenção: 7 5\n",
            "Tempos para manutenções preventivas: [0, 450, 570, 1050, 2220, 2760, 3480, 5670]\n",
            "Severidade para cada subsistema: [0.25, 0.25, 0.25, 0.25, 0.25, 0.25, 0.25]\n",
            "Fator:  [0.3296799539643607, 0.3934693402873666, 0.3934693402873666, 0.3934693402873666, 0.3934693402873666, 0.3934693402873666, 0.3934693402873666, 0.3934693402873666]\n",
            "Media de falhas:  [0, 5904900000.000001, 9370372491.276894, 130624437498.80942, 6259773076489.56, 12489352859694.922, 33447256336083.99, 490865584136658.25, 334495652282822.6]\n",
            "\n",
            "Custo =  52488000004.44445\n",
            "=========================================================================\n",
            "\n",
            "\n",
            "=========================================================================\n",
            "\n",
            "Número de ciclos de manutenção: 18 5\n",
            "Tempos para manutenções preventivas: [0, 450, 570, 870, 1050, 1380, 1830, 2220, 2760, 3480, 3630, 4140, 5670, 6870, 7350, 7380, 7710, 8250, 8370]\n",
            "Severidade para cada subsistema: [0.25, 0.25, 0.25, 0.25, 0.25, 0.25, 0.25, 0.25, 0.25, 0.25, 0.25, 0.25, 0.25, 0.25, 0.25, 0.25, 0.25, 0.25]\n",
            "Fator:  [0.3296799539643607, 0.3934693402873666, 0.3934693402873666, 0.3934693402873666, 0.3934693402873666, 0.3934693402873666, 0.3934693402873666, 0.3934693402873666, 0.3934693402873666, 0.3934693402873666, 0.3934693402873666, 0.3934693402873666, 0.3934693402873666, 0.3934693402873666, 0.3934693402873666, 0.3934693402873666, 0.3934693402873666, 0.3934693402873666, 0.3934693402873666]\n",
            "Media de falhas:  [0, 5904900000.000001, 9370372491.276894, 43713466458.827095, 87420218494.5039, 324267830379.14923, 1322764190422.0044, 3213268321226.2295, 9442848104431.594, 30400751580820.66, 35891306991125.2, 66256195826872.78, 379147442783165.75, 912735394688840.8, 1204108719695114.0, 1223324000404937.0, 1468936356483467.8, 1989213484765239.5, 2115499735802762.2, 1001036609087356.4]\n",
            "\n",
            "Custo =  52488000004.44445\n",
            "=========================================================================\n",
            "\n",
            "\n",
            "=========================================================================\n",
            "\n",
            "Número de ciclos de manutenção: 25 5\n",
            "Tempos para manutenções preventivas: [0, 270, 330, 450, 570, 720, 870, 1380, 1920, 2070, 2340, 2760, 3630, 4080, 4140, 4590, 6270, 6870, 7350, 7380, 7500, 7560, 7710, 8250, 8370, 8580]\n",
            "Severidade para cada subsistema: [0.25, 0.25, 0.25, 0.25, 0.25, 0.25, 0.25, 0.25, 0.25, 0.25, 0.25, 0.25, 0.25, 0.25, 0.25, 0.25, 0.25, 0.25, 0.25, 0.25, 0.25, 0.25, 0.25, 0.25, 0.25]\n",
            "Fator:  [0.3296799539643607, 0.3934693402873666, 0.3934693402873666, 0.3934693402873666, 0.3934693402873666, 0.3934693402873666, 0.3934693402873666, 0.3934693402873666, 0.3934693402873666, 0.3934693402873666, 0.3934693402873666, 0.3934693402873666, 0.3934693402873666, 0.3934693402873666, 0.3934693402873666, 0.3934693402873666, 0.3934693402873666, 0.3934693402873666, 0.3934693402873666, 0.3934693402873666, 0.3934693402873666, 0.3934693402873666, 0.3934693402873666, 0.3934693402873666, 0.3934693402873666, 0.3934693402873666]\n",
            "Media de falhas:  [0, 459165024.00000006, 657107271.0465378, 1630656344.7686768, 4143558527.662483, 12142586136.283932, 29305390787.197426, 401222119318.639, 1854063497199.1812, 2424781182283.037, 4070324112302.8105, 8963293571701.76, 38856591461713.05, 64255273869862.99, 68034306225284.53, 108928239794847.6, 622642915067197.8, 897607319016577.8, 1188980644022851.0, 1208195924732674.0, 1289520258515266.8, 1331727161105863.0, 1444998074428737.2, 1965275202710509.0, 2091561453748031.8, 2333983437800595.0, 1071102812347168.2]\n",
            "\n",
            "Custo =  6802444807.407409\n",
            "=========================================================================\n",
            "\n",
            "\n",
            "=========================================================================\n",
            "\n",
            "Número de ciclos de manutenção: 45 5\n",
            "Tempos para manutenções preventivas: [0, 270, 330, 570, 660, 870, 1050, 1170, 1380, 1560, 1890, 2070, 2250, 2610, 2760, 3180, 3660, 3840, 4080, 4560, 4590, 4620, 5070, 5160, 5460, 5490, 5880, 6270, 6870, 7140, 7170, 7230, 7350, 7380, 7500, 7560, 7680, 7710, 7740, 7980, 8070, 8310, 8370, 8460, 8580, 8790]\n",
            "Severidade para cada subsistema: [0.25, 0.25, 0.25, 0.25, 0.25, 0.25, 0.25, 0.25, 0.25, 0.25, 0.25, 0.25, 0.25, 0.25, 0.25, 0.25, 0.25, 0.25, 0.25, 0.25, 0.25, 0.25, 0.25, 0.25, 0.25, 0.25, 0.25, 0.25, 0.25, 0.25, 0.25, 0.25, 0.25, 0.25, 0.25, 0.25, 0.25, 0.25, 0.25, 0.25, 0.25, 0.25, 0.25, 0.25, 0.25]\n",
            "Fator:  [0.3296799539643607, 0.3934693402873666, 0.3934693402873666, 0.3934693402873666, 0.3934693402873666, 0.3934693402873666, 0.3934693402873666, 0.3934693402873666, 0.3934693402873666, 0.3934693402873666, 0.3934693402873666, 0.3934693402873666, 0.3934693402873666, 0.3934693402873666, 0.3934693402873666, 0.3934693402873666, 0.3934693402873666, 0.3934693402873666, 0.3934693402873666, 0.3934693402873666, 0.3934693402873666, 0.3934693402873666, 0.3934693402873666, 0.3934693402873666, 0.3934693402873666, 0.3934693402873666, 0.3934693402873666, 0.3934693402873666, 0.3934693402873666, 0.3934693402873666, 0.3934693402873666, 0.3934693402873666, 0.3934693402873666, 0.3934693402873666, 0.3934693402873666, 0.3934693402873666, 0.3934693402873666, 0.3934693402873666, 0.3934693402873666, 0.3934693402873666, 0.3934693402873666, 0.3934693402873666, 0.3934693402873666, 0.3934693402873666, 0.3934693402873666, 0.3934693402873666]\n",
            "Media de falhas:  [0, 459165024.00000006, 657107271.0465378, 5840937619.282047, 9286198488.747223, 33092550617.301464, 76799302652.97827, 122747975470.65247, 275653271076.8696, 492350282437.49835, 1332904445084.609, 2012936361740.8176, 2965341500929.376, 6333906607227.1875, 8155160469287.041, 16832532264142.352, 34239957701550.89, 42463968420112.81, 56345018664332.94, 98704949007302.45, 101575286179109.97, 104521489483107.44, 165651643339958.28, 179304483416130.53, 235073148080735.44, 240951982184976.78, 337868941143412.6, 463446379874085.1, 738410783823465.1, 886650901872531.2, 903769261116605.6, 939066626431843.8, 1014061432309380.2, 1033276713019203.2, 1114601046801796.0, 1156807949392392.2, 1246247173192744.2, 1269139561495761.8, 1292390579362345.0, 1498972517953872.0, 1580995440287714.0, 1824108905273881.8, 1887558070588475.5, 1986657936919848.2, 2126135649016899.0, 2393276699232951.0, 966530975058877.8]\n",
            "\n",
            "Custo =  6802444807.407409\n",
            "=========================================================================\n",
            "\n",
            "\n",
            "=========================================================================\n",
            "\n",
            "Número de ciclos de manutenção: 52 5\n",
            "Tempos para manutenções preventivas: [0, 60, 270, 330, 420, 570, 660, 690, 870, 960, 1050, 1170, 1290, 1860, 1890, 1920, 2250, 2400, 3000, 3180, 3660, 3840, 3870, 3930, 4080, 4530, 4560, 4620, 4680, 5070, 5160, 5460, 5490, 5880, 5910, 5940, 6090, 6270, 6870, 7140, 7170, 7260, 7500, 7560, 7680, 7740, 8070, 8160, 8310, 8400, 8460, 8580, 8790]\n",
            "Severidade para cada subsistema: [0.25, 0.25, 0.25, 0.25, 0.25, 0.25, 0.25, 0.25, 0.25, 0.25, 0.25, 0.25, 0.25, 0.25, 0.25, 0.25, 0.25, 0.25, 0.25, 0.25, 0.25, 0.25, 0.25, 0.25, 0.25, 0.25, 0.25, 0.25, 0.25, 0.25, 0.25, 0.25, 0.25, 0.25, 0.25, 0.25, 0.25, 0.25, 0.25, 0.25, 0.25, 0.25, 0.25, 0.25, 0.25, 0.25, 0.25, 0.25, 0.25, 0.25, 0.25, 0.25]\n",
            "Fator:  [0.3296799539643607, 0.3934693402873666, 0.3934693402873666, 0.3934693402873666, 0.3934693402873666, 0.3934693402873666, 0.3934693402873666, 0.3934693402873666, 0.3934693402873666, 0.3934693402873666, 0.3934693402873666, 0.3934693402873666, 0.3934693402873666, 0.3934693402873666, 0.3934693402873666, 0.3934693402873666, 0.3934693402873666, 0.3934693402873666, 0.3934693402873666, 0.3934693402873666, 0.3934693402873666, 0.3934693402873666, 0.3934693402873666, 0.3934693402873666, 0.3934693402873666, 0.3934693402873666, 0.3934693402873666, 0.3934693402873666, 0.3934693402873666, 0.3934693402873666, 0.3934693402873666, 0.3934693402873666, 0.3934693402873666, 0.3934693402873666, 0.3934693402873666, 0.3934693402873666, 0.3934693402873666, 0.3934693402873666, 0.3934693402873666, 0.3934693402873666, 0.3934693402873666, 0.3934693402873666, 0.3934693402873666, 0.3934693402873666, 0.3934693402873666, 0.3934693402873666, 0.3934693402873666, 0.3934693402873666, 0.3934693402873666, 0.3934693402873666, 0.3934693402873666, 0.3934693402873666, 0.3934693402873666]\n",
            "Media de falhas:  [0, 248832.00000000003, 314087578.11416864, 455909254.09556186, 1011225572.0878822, 4143666452.2671556, 7588927321.73233, 9020665163.760073, 29487367777.421272, 45167478443.32154, 67690604220.27748, 113639277037.95168, 181826645524.3813, 1535814316495.7927, 1617811537022.0305, 1705154529014.5618, 3405878441644.767, 4442555443543.075, 14097828985497.523, 17944458419478.227, 35351883856886.766, 43575894575448.69, 45025216431191.1, 48092304497670.28, 56878818085615.57, 95654125699196.42, 98450071463753.89, 104316625704001.17, 110494612342479.42, 163775652880891.8, 177428492957064.06, 233197157621668.97, 239075991725910.3, 335992950684346.1, 343890055936932.2, 351948875988321.3, 395895045850446.5, 454994485161350.9, 729958889110730.9, 878199007159797.0, 895317366403871.4, 948998854469678.6, 1109991832183826.5, 1152198734774422.8, 1241637958574774.8, 1288016257958532.0, 1583149074615660.5, 1668899783469885.2, 1821904073750184.0, 1918217425120878.2, 1984443373546383.5, 2123921085643434.2, 2391062135859486.0, 964316411685412.8]\n",
            "\n",
            "Custo =  16588833.333333336\n",
            "=========================================================================\n",
            "\n",
            "\n",
            "=========================================================================\n",
            "\n",
            "Número de ciclos de manutenção: 49 5\n",
            "Tempos para manutenções preventivas: [0, 60, 270, 330, 420, 660, 870, 960, 1110, 1170, 1290, 1860, 1890, 2400, 3000, 3150, 3180, 3210, 3660, 3870, 3930, 4110, 4350, 4530, 4620, 4680, 5160, 5460, 5640, 5910, 5940, 6030, 6090, 6180, 6210, 6270, 6360, 6690, 7170, 7260, 7500, 7680, 7740, 8070, 8220, 8310, 8400, 8460, 8580, 8850]\n",
            "Severidade para cada subsistema: [0.25, 0.25, 0.25, 0.25, 0.25, 0.25, 0.25, 0.25, 0.25, 0.25, 0.25, 0.25, 0.25, 0.25, 0.25, 0.25, 0.25, 0.25, 0.25, 0.25, 0.25, 0.25, 0.25, 0.25, 0.25, 0.25, 0.25, 0.25, 0.25, 0.25, 0.25, 0.25, 0.25, 0.25, 0.25, 0.25, 0.25, 0.25, 0.25, 0.25, 0.25, 0.25, 0.25, 0.25, 0.25, 0.25, 0.25, 0.25, 0.25]\n",
            "Fator:  [0.3296799539643607, 0.3934693402873666, 0.3934693402873666, 0.3934693402873666, 0.3934693402873666, 0.3934693402873666, 0.3934693402873666, 0.3934693402873666, 0.3934693402873666, 0.3934693402873666, 0.3934693402873666, 0.3934693402873666, 0.3934693402873666, 0.3934693402873666, 0.3934693402873666, 0.3934693402873666, 0.3934693402873666, 0.3934693402873666, 0.3934693402873666, 0.3934693402873666, 0.3934693402873666, 0.3934693402873666, 0.3934693402873666, 0.3934693402873666, 0.3934693402873666, 0.3934693402873666, 0.3934693402873666, 0.3934693402873666, 0.3934693402873666, 0.3934693402873666, 0.3934693402873666, 0.3934693402873666, 0.3934693402873666, 0.3934693402873666, 0.3934693402873666, 0.3934693402873666, 0.3934693402873666, 0.3934693402873666, 0.3934693402873666, 0.3934693402873666, 0.3934693402873666, 0.3934693402873666, 0.3934693402873666, 0.3934693402873666, 0.3934693402873666, 0.3934693402873666, 0.3934693402873666, 0.3934693402873666, 0.3934693402873666, 0.3934693402873666]\n",
            "Media de falhas:  [0, 248832.00000000003, 314087578.11416864, 455909254.09556186, 1011225572.0878822, 10153163324.868162, 33959515453.4224, 49639626119.32267, 95597957734.38623, 119163958270.97021, 187351326757.39984, 1541338997728.8113, 1623336218255.049, 4979213177533.046, 14634486719487.496, 17736425708120.76, 18396408497914.723, 19081691917547.9, 35448912872698.36, 45305497859458.58, 48372585925937.76, 59184554885818.266, 77157191739967.58, 93151820413672.03, 101914014997791.56, 108092001636269.81, 177915866966373.75, 233684531630978.66, 272300098226356.72, 341562810850308.7, 349621630901697.8, 375126023251552.56, 392876100567899.9, 421021285068274.25, 430649767736260.6, 450597081981233.6, 482176033100068.6, 620881150356030.0, 884515971610478.9, 938197459676286.1, 1099190437390434.0, 1232668313572534.8, 1279046612956292.0, 1574179429613420.5, 1720643319101310.2, 1812887601611762.5, 1909200952982456.8, 1975426901407962.0, 2114904613505012.8, 2466375377118164.0, 989810156959492.2]\n",
            "\n",
            "Custo =  16588833.333333336\n",
            "=========================================================================\n",
            "\n",
            "\n",
            "=========================================================================\n",
            "\n",
            "Número de ciclos de manutenção: 30 5\n",
            "Tempos para manutenções preventivas: [0, 120, 660, 720, 960, 1110, 1170, 1860, 1890, 1920, 1980, 3000, 3150, 3180, 3210, 3660, 4350, 4680, 5160, 5640, 5910, 6030, 6090, 6180, 6360, 6690, 7500, 8070, 8220, 8400, 8850]\n",
            "Severidade para cada subsistema: [0.25, 0.25, 0.25, 0.25, 0.25, 0.25, 0.25, 0.25, 0.25, 0.25, 0.25, 0.25, 0.25, 0.25, 0.25, 0.25, 0.25, 0.25, 0.25, 0.25, 0.25, 0.25, 0.25, 0.25, 0.25, 0.25, 0.25, 0.25, 0.25, 0.25]\n",
            "Fator:  [0.3296799539643607, 0.3934693402873666, 0.3934693402873666, 0.3934693402873666, 0.3934693402873666, 0.3934693402873666, 0.3934693402873666, 0.3934693402873666, 0.3934693402873666, 0.3934693402873666, 0.3934693402873666, 0.3934693402873666, 0.3934693402873666, 0.3934693402873666, 0.3934693402873666, 0.3934693402873666, 0.3934693402873666, 0.3934693402873666, 0.3934693402873666, 0.3934693402873666, 0.3934693402873666, 0.3934693402873666, 0.3934693402873666, 0.3934693402873666, 0.3934693402873666, 0.3934693402873666, 0.3934693402873666, 0.3934693402873666, 0.3934693402873666, 0.3934693402873666, 0.3934693402873666]\n",
            "Media de falhas:  [0, 7962624.000000001, 29426930745.80429, 32750474053.781277, 73076525283.7897, 119034856898.85327, 142600857435.43726, 1803841916916.4004, 1885839137442.6382, 1973182129435.1694, 2168895233575.2397, 18660735694701.637, 21762674683334.902, 22422657473128.863, 23107940892762.04, 39475161847912.5, 88987905483529.06, 121826076224018.39, 191649941554122.3, 291675586886012.6, 360938299509964.6, 394833191093986.75, 412583268410334.06, 440728452910708.5, 503310875711249.5, 642015992967210.9, 1164524234200058.0, 1665970070341887.0, 1812433959829776.8, 2003702318589990.2, 2582442658148413.0, 1105877437989741.2]\n",
            "\n",
            "Custo =  265420816.6666667\n",
            "=========================================================================\n",
            "\n",
            "\n",
            "=========================================================================\n",
            "\n",
            "Número de ciclos de manutenção: 20 5\n",
            "Tempos para manutenções preventivas: [0, 120, 720, 1170, 1860, 1980, 2160, 2850, 3150, 3210, 3570, 3660, 4200, 4350, 4680, 5130, 5640, 6180, 6390, 7770, 8220]\n",
            "Severidade para cada subsistema: [0.25, 0.25, 0.25, 0.25, 0.25, 0.25, 0.25, 0.25, 0.25, 0.25, 0.25, 0.25, 0.25, 0.25, 0.25, 0.25, 0.25, 0.25, 0.25, 0.25]\n",
            "Fator:  [0.3296799539643607, 0.3934693402873666, 0.3934693402873666, 0.3934693402873666, 0.3934693402873666, 0.3934693402873666, 0.3934693402873666, 0.3934693402873666, 0.3934693402873666, 0.3934693402873666, 0.3934693402873666, 0.3934693402873666, 0.3934693402873666, 0.3934693402873666, 0.3934693402873666, 0.3934693402873666, 0.3934693402873666, 0.3934693402873666, 0.3934693402873666, 0.3934693402873666, 0.3934693402873666]\n",
            "Media de falhas:  [0, 7962624.000000001, 46682932102.083496, 217004085548.4119, 1878245145029.375, 2262829769858.579, 3070450793696.9854, 12078126160065.242, 18132873812739.6, 19494937577668.18, 31452523954699.81, 34892367083322.117, 68882272480726.94, 80251631120242.94, 113089801860732.27, 177196383081660.72, 283210522132856.25, 445256156541732.4, 519445560567916.56, 1522862981197413.8, 1952643442881881.2, 935358845309420.1]\n",
            "\n",
            "Custo =  265420816.6666667\n",
            "=========================================================================\n",
            "\n",
            "\n",
            "=========================================================================\n",
            "\n",
            "Número de ciclos de manutenção: 8 5\n",
            "Tempos para manutenções preventivas: [0, 720, 1980, 2850, 3150, 3210, 4170, 4200, 5130]\n",
            "Severidade para cada subsistema: [0.25, 0.25, 0.25, 0.25, 0.25, 0.25, 0.25, 0.25]\n",
            "Fator:  [0.3296799539643607, 0.3934693402873666, 0.3934693402873666, 0.3934693402873666, 0.3934693402873666, 0.3934693402873666, 0.3934693402873666, 0.3934693402873666, 0.3934693402873666]\n",
            "Media de falhas:  [0, 61917364224.00001, 5196063208785.691, 16585981496392.906, 22640729149067.266, 24002792913995.844, 81477889216172.16, 83489291094926.45, 211880460896194.8, 117418405203939.94]\n",
            "\n",
            "Custo =  343985356802.77783\n",
            "=========================================================================\n",
            "\n",
            "\n",
            "=========================================================================\n",
            "\n",
            "Número de ciclos de manutenção: 7 5\n",
            "Tempos para manutenções preventivas: [0, 570, 1380, 1920, 2760, 3480, 4170, 8940]\n",
            "Severidade para cada subsistema: [0.25, 0.25, 0.25, 0.25, 0.25, 0.25, 0.25]\n",
            "Fator:  [0.3296799539643607, 0.3934693402873666, 0.3934693402873666, 0.3934693402873666, 0.3934693402873666, 0.3934693402873666, 0.3934693402873666, 0.3934693402873666]\n",
            "Media de falhas:  [0, 19254145824.0, 786986530866.7495, 2239827908747.292, 11911189651106.309, 32869093127495.375, 74607441991039.9, 6671831279272150.0, 5117930375542398.0]\n",
            "\n",
            "Custo =  135116812803.50877\n",
            "=========================================================================\n",
            "\n"
          ]
        },
        {
          "output_type": "stream",
          "name": "stderr",
          "text": [
            "pyswarms.single.global_best:  46%|████▌     |46/100, best_cost=2e+3"
          ]
        },
        {
          "output_type": "stream",
          "name": "stdout",
          "text": [
            "\n",
            "=========================================================================\n",
            "\n",
            "Número de ciclos de manutenção: 7 5\n",
            "Tempos para manutenções preventivas: [0, 450, 570, 1380, 1920, 2760, 7380, 8370]\n",
            "Severidade para cada subsistema: [0.25, 0.25, 0.25, 0.25, 0.25, 0.25, 0.25]\n",
            "Fator:  [0.3296799539643607, 0.3934693402873666, 0.3934693402873666, 0.3934693402873666, 0.3934693402873666, 0.3934693402873666, 0.3934693402873666, 0.3934693402873666]\n",
            "Media de falhas:  [0, 5904900000.000001, 9370372491.276894, 667598196937.1741, 2120439574817.7163, 11791801317176.732, 3168349623972831.0, 4154935496766510.0, 3040472370051104.0]\n",
            "\n",
            "Custo =  52488000004.44445\n",
            "=========================================================================\n",
            "\n",
            "\n",
            "=========================================================================\n",
            "\n",
            "Número de ciclos de manutenção: 16 5\n",
            "Tempos para manutenções preventivas: [0, 570, 1050, 1380, 1560, 1920, 2220, 2760, 4590, 5670, 6270, 6870, 7230, 7350, 7380, 7710, 8370]\n",
            "Severidade para cada subsistema: [0.25, 0.25, 0.25, 0.25, 0.25, 0.25, 0.25, 0.25, 0.25, 0.25, 0.25, 0.25, 0.25, 0.25, 0.25, 0.25]\n",
            "Fator:  [0.3296799539643607, 0.3934693402873666, 0.3934693402873666, 0.3934693402873666, 0.3934693402873666, 0.3934693402873666, 0.3934693402873666, 0.3934693402873666, 0.3934693402873666, 0.3934693402873666, 0.3934693402873666, 0.3934693402873666, 0.3934693402873666, 0.3934693402873666, 0.3934693402873666, 0.3934693402873666, 0.3934693402873666]\n",
            "Media de falhas:  [0, 19254145824.0, 169016440629.4799, 405864052514.12524, 622561063874.7539, 1596564478052.7783, 3067231089734.8125, 9296810872940.176, 174128476299796.25, 396240377357724.0, 586289555621306.1, 861253959570686.1, 1067608694060436.5, 1142603499937973.0, 1161818780647796.0, 1407431136726326.8, 2076558105952238.2, 962094979236832.4]\n",
            "\n",
            "Custo =  135116812803.50877\n",
            "=========================================================================\n",
            "\n",
            "\n",
            "=========================================================================\n",
            "\n",
            "Número de ciclos de manutenção: 23 5\n",
            "Tempos para manutenções preventivas: [0, 60, 270, 570, 720, 870, 1050, 1560, 2250, 2760, 2910, 3840, 4080, 4560, 5670, 6270, 6480, 7230, 7350, 7560, 7710, 8310, 8370, 8580]\n",
            "Severidade para cada subsistema: [0.25, 0.25, 0.25, 0.25, 0.25, 0.25, 0.25, 0.25, 0.25, 0.25, 0.25, 0.25, 0.25, 0.25, 0.25, 0.25, 0.25, 0.25, 0.25, 0.25, 0.25, 0.25, 0.25]\n",
            "Fator:  [0.3296799539643607, 0.3934693402873666, 0.3934693402873666, 0.3934693402873666, 0.3934693402873666, 0.3934693402873666, 0.3934693402873666, 0.3934693402873666, 0.3934693402873666, 0.3934693402873666, 0.3934693402873666, 0.3934693402873666, 0.3934693402873666, 0.3934693402873666, 0.3934693402873666, 0.3934693402873666, 0.3934693402873666, 0.3934693402873666, 0.3934693402873666, 0.3934693402873666, 0.3934693402873666, 0.3934693402873666, 0.3934693402873666, 0.3934693402873666]\n",
            "Media de falhas:  [0, 248832.00000000003, 314087578.11416864, 7141258274.560493, 15140285883.181942, 32303090534.095436, 76009842569.77225, 677372876041.2402, 4187148695760.98, 10082171487532.041, 12336355909527.719, 52348394656469.84, 66229444900689.97, 108589375243659.48, 336663302321851.44, 526712480585433.5, 605192784539471.0, 1023743026769890.0, 1098737832647426.5, 1244552427816454.0, 1357823341139328.2, 1950833073004205.5, 2014282238318799.2, 2256704222371363.0, 993823596917936.2]\n",
            "\n",
            "Custo =  16588833.333333336\n",
            "=========================================================================\n",
            "\n",
            "\n",
            "=========================================================================\n",
            "\n",
            "Número de ciclos de manutenção: 32 5\n",
            "Tempos para manutenções preventivas: [0, 60, 270, 540, 570, 660, 870, 1050, 1110, 1170, 1560, 1920, 2250, 2400, 2550, 3840, 3930, 4560, 4620, 5160, 5670, 5880, 5910, 6270, 6480, 7140, 7230, 7350, 7500, 7560, 7680, 8310, 8370]\n",
            "Severidade para cada subsistema: [0.25, 0.25, 0.25, 0.25, 0.25, 0.25, 0.25, 0.25, 0.25, 0.25, 0.25, 0.25, 0.25, 0.25, 0.25, 0.25, 0.25, 0.25, 0.25, 0.25, 0.25, 0.25, 0.25, 0.25, 0.25, 0.25, 0.25, 0.25, 0.25, 0.25, 0.25, 0.25]\n",
            "Fator:  [0.3296799539643607, 0.3934693402873666, 0.3934693402873666, 0.3934693402873666, 0.3934693402873666, 0.3934693402873666, 0.3934693402873666, 0.3934693402873666, 0.3934693402873666, 0.3934693402873666, 0.3934693402873666, 0.3934693402873666, 0.3934693402873666, 0.3934693402873666, 0.3934693402873666, 0.3934693402873666, 0.3934693402873666, 0.3934693402873666, 0.3934693402873666, 0.3934693402873666, 0.3934693402873666, 0.3934693402873666, 0.3934693402873666, 0.3934693402873666, 0.3934693402873666, 0.3934693402873666, 0.3934693402873666, 0.3934693402873666, 0.3934693402873666, 0.3934693402873666, 0.3934693402873666, 0.3934693402873666, 0.3934693402873666]\n",
            "Media de falhas:  [0, 248832.00000000003, 314087578.11416864, 5190156447.35223, 5853412323.435039, 9298673192.900213, 33105025321.454453, 76811777357.13126, 95873286698.66255, 119439287235.24654, 576372287093.1421, 1550375701271.1665, 3251099613901.372, 4287776615799.68, 5611576726065.422, 61552886764599.08, 66130659185554.29, 121052899295813.64, 126919453536060.92, 205074739227222.53, 313386357725845.9, 366485816282374.75, 374382921534960.8, 490602085663904.0, 569082389617941.5, 921141651765259.1, 973939507200919.4, 1048934313078455.9, 1150323576415612.0, 1192530479006208.2, 1281969702806560.2, 1903497997465205.5, 1966947162779799.2, 852484036064393.4]\n",
            "\n",
            "Custo =  16588833.333333336\n",
            "=========================================================================\n",
            "\n",
            "\n",
            "=========================================================================\n",
            "\n",
            "Número de ciclos de manutenção: 39 5\n",
            "Tempos para manutenções preventivas: [0, 60, 270, 330, 660, 870, 960, 1050, 1110, 1170, 1290, 1860, 1890, 2550, 2610, 2970, 3060, 3210, 3840, 3930, 4560, 4620, 4680, 5160, 5370, 5640, 5910, 5940, 6180, 6270, 6360, 6480, 7140, 7260, 7500, 7680, 8220, 8310, 8370, 8400]\n",
            "Severidade para cada subsistema: [0.25, 0.25, 0.25, 0.25, 0.25, 0.25, 0.25, 0.25, 0.25, 0.25, 0.25, 0.25, 0.25, 0.25, 0.25, 0.25, 0.25, 0.25, 0.25, 0.25, 0.25, 0.25, 0.25, 0.25, 0.25, 0.25, 0.25, 0.25, 0.25, 0.25, 0.25, 0.25, 0.25, 0.25, 0.25, 0.25, 0.25, 0.25, 0.25]\n",
            "Fator:  [0.3296799539643607, 0.3934693402873666, 0.3934693402873666, 0.3934693402873666, 0.3934693402873666, 0.3934693402873666, 0.3934693402873666, 0.3934693402873666, 0.3934693402873666, 0.3934693402873666, 0.3934693402873666, 0.3934693402873666, 0.3934693402873666, 0.3934693402873666, 0.3934693402873666, 0.3934693402873666, 0.3934693402873666, 0.3934693402873666, 0.3934693402873666, 0.3934693402873666, 0.3934693402873666, 0.3934693402873666, 0.3934693402873666, 0.3934693402873666, 0.3934693402873666, 0.3934693402873666, 0.3934693402873666, 0.3934693402873666, 0.3934693402873666, 0.3934693402873666, 0.3934693402873666, 0.3934693402873666, 0.3934693402873666, 0.3934693402873666, 0.3934693402873666, 0.3934693402873666, 0.3934693402873666, 0.3934693402873666, 0.3934693402873666, 0.3934693402873666]\n",
            "Media de falhas:  [0, 248832.00000000003, 314087578.11416864, 455909254.09556186, 13754962031.613539, 37561314160.16778, 53241424826.06805, 75764550603.02399, 94826059944.55528, 118392060481.13927, 186579428967.5689, 1540567099938.9802, 1622564320465.218, 7143007317123.586, 7736657069875.855, 13417935717684.062, 15093563696731.062, 18440398916996.023, 45853650959177.78, 50431423380132.99, 105353663490392.34, 111220217730639.62, 117398204369117.88, 187222069699221.8, 224084901955169.4, 281459099020464.12, 350721811644416.1, 358780631695805.25, 432691449598183.75, 462516467456579.1, 494095418575414.1, 539338947477469.5, 891398209624787.1, 962777189513245.6, 1123770167227393.5, 1257248043409494.2, 1769934113240532.0, 1862178395750984.2, 1925627561065578.0, 1957889236021219.0, 823126244028113.2]\n",
            "\n",
            "Custo =  16588833.333333336\n",
            "=========================================================================\n",
            "\n",
            "\n",
            "=========================================================================\n",
            "\n",
            "Número de ciclos de manutenção: 23 5\n",
            "Tempos para manutenções preventivas: [0, 330, 660, 870, 1110, 1170, 1290, 1860, 1890, 3060, 3150, 3210, 4680, 5160, 5640, 5910, 6030, 6180, 6360, 7260, 7500, 7680, 8220, 8850]\n",
            "Severidade para cada subsistema: [0.25, 0.25, 0.25, 0.25, 0.25, 0.25, 0.25, 0.25, 0.25, 0.25, 0.25, 0.25, 0.25, 0.25, 0.25, 0.25, 0.25, 0.25, 0.25, 0.25, 0.25, 0.25, 0.25]\n",
            "Fator:  [0.3296799539643607, 0.3934693402873666, 0.3934693402873666, 0.3934693402873666, 0.3934693402873666, 0.3934693402873666, 0.3934693402873666, 0.3934693402873666, 0.3934693402873666, 0.3934693402873666, 0.3934693402873666, 0.3934693402873666, 0.3934693402873666, 0.3934693402873666, 0.3934693402873666, 0.3934693402873666, 0.3934693402873666, 0.3934693402873666, 0.3934693402873666, 0.3934693402873666, 0.3934693402873666, 0.3934693402873666, 0.3934693402873666, 0.3934693402873666]\n",
            "Media de falhas:  [0, 1252332576.0, 17365237458.155945, 41171589586.71019, 113400449681.49568, 136966450218.07967, 205153818704.50928, 1559141489675.9207, 1641138710202.1584, 22346192534919.46, 24228812461100.934, 25590876226029.51, 165695229428075.44, 235519094758179.38, 335544740090069.7, 404807452714021.7, 438702344298043.8, 485315144745201.0, 547897567545742.0, 1054497724251452.5, 1215490701965600.5, 1348968578147701.2, 1861654647978739.0, 2663047098376894.5, 1186481878218222.8]\n",
            "\n",
            "Custo =  15179788806.060606\n",
            "=========================================================================\n",
            "\n",
            "\n",
            "=========================================================================\n",
            "\n",
            "Número de ciclos de manutenção: 15 5\n",
            "Tempos para manutenções preventivas: [0, 660, 720, 1110, 1170, 1860, 1890, 1920, 3150, 3210, 4200, 5910, 6180, 6360, 6390, 8850]\n",
            "Severidade para cada subsistema: [0.25, 0.25, 0.25, 0.25, 0.25, 0.25, 0.25, 0.25, 0.25, 0.25, 0.25, 0.25, 0.25, 0.25, 0.25]\n",
            "Fator:  [0.3296799539643607, 0.3934693402873666, 0.3934693402873666, 0.3934693402873666, 0.3934693402873666, 0.3934693402873666, 0.3934693402873666, 0.3934693402873666, 0.3934693402873666, 0.3934693402873666, 0.3934693402873666, 0.3934693402873666, 0.3934693402873666, 0.3934693402873666, 0.3934693402873666, 0.3934693402873666]\n",
            "Media de falhas:  [0, 40074642432.0, 44894589241.24133, 163377000989.59735, 186943001526.18134, 1848184061007.1445, 1930181281533.3823, 2017524273525.9136, 26523975879944.805, 27886039644873.383, 88860291299707.06, 502128122181027.25, 585038661986573.4, 647621084787114.4, 658416408594068.5, 3645454211919079.0, 2168888991760407.2]\n",
            "\n",
            "Custo =  242876620803.0303\n",
            "=========================================================================\n",
            "\n",
            "\n",
            "=========================================================================\n",
            "\n",
            "Número de ciclos de manutenção: 11 5\n",
            "Tempos para manutenções preventivas: [0, 720, 1860, 1980, 3150, 3210, 3330, 4170, 4200, 6360, 6390, 8850]\n",
            "Severidade para cada subsistema: [0.25, 0.25, 0.25, 0.25, 0.25, 0.25, 0.25, 0.25, 0.25, 0.25, 0.25]\n",
            "Fator:  [0.3296799539643607, 0.3934693402873666, 0.3934693402873666, 0.3934693402873666, 0.3934693402873666, 0.3934693402873666, 0.3934693402873666, 0.3934693402873666, 0.3934693402873666, 0.3934693402873666, 0.3934693402873666, 0.3934693402873666]\n",
            "Media de falhas:  [0, 61917364224.00001, 3653086544019.391, 4037671168848.595, 27212524991686.734, 28574588756615.312, 31695164621686.52, 82144728447739.53, 84156130326493.83, 789549594938224.1, 800344918745178.2, 3787382722070189.0, 2310817501911517.0]\n",
            "\n",
            "Custo =  343985356802.77783\n",
            "=========================================================================\n",
            "\n",
            "\n",
            "=========================================================================\n",
            "\n",
            "Número de ciclos de manutenção: 9 5\n",
            "Tempos para manutenções preventivas: [0, 570, 1920, 1980, 3330, 3480, 4170, 6390, 7290, 8940]\n",
            "Severidade para cada subsistema: [0.25, 0.25, 0.25, 0.25, 0.25, 0.25, 0.25, 0.25, 0.25]\n",
            "Fator:  [0.3296799539643607, 0.3934693402873666, 0.3934693402873666, 0.3934693402873666, 0.3934693402873666, 0.3934693402873666, 0.3934693402873666, 0.3934693402873666, 0.3934693402873666, 0.3934693402873666]\n",
            "Media de falhas:  [0, 19254145824.0, 5005410031836.165, 5201123135976.235, 38967303308229.36, 43600170017378.48, 85338518880923.02, 825374526807957.9, 1340496419223126.5, 3440072352872143.0, 1886171449142391.5]\n",
            "\n",
            "Custo =  135116812803.50877\n",
            "=========================================================================\n",
            "\n",
            "\n",
            "=========================================================================\n",
            "\n",
            "Número de ciclos de manutenção: 10 5\n",
            "Tempos para manutenções preventivas: [0, 570, 1920, 2760, 3480, 3990, 4170, 6510, 6870, 7290, 8940]\n",
            "Severidade para cada subsistema: [0.25, 0.25, 0.25, 0.25, 0.25, 0.25, 0.25, 0.25, 0.25, 0.25]\n",
            "Fator:  [0.3296799539643607, 0.3934693402873666, 0.3934693402873666, 0.3934693402873666, 0.3934693402873666, 0.3934693402873666, 0.3934693402873666, 0.3934693402873666, 0.3934693402873666, 0.3934693402873666, 0.3934693402873666]\n",
            "Media de falhas:  [0, 19254145824.0, 5005410031836.165, 14676771774195.18, 35634675250584.25, 61788557377024.65, 73250083578126.33, 916026106866620.6, 1084001650697824.0, 1331753852240041.5, 3431329785889058.0, 1877428882159306.5]\n",
            "\n",
            "Custo =  135116812803.50877\n",
            "=========================================================================\n",
            "\n",
            "\n",
            "=========================================================================\n",
            "\n",
            "Número de ciclos de manutenção: 13 5\n",
            "Tempos para manutenções preventivas: [0, 570, 1380, 1920, 2760, 3990, 4560, 5670, 6510, 6570, 6870, 7230, 7350, 8370]\n",
            "Severidade para cada subsistema: [0.25, 0.25, 0.25, 0.25, 0.25, 0.25, 0.25, 0.25, 0.25, 0.25, 0.25, 0.25, 0.25]\n",
            "Fator:  [0.3296799539643607, 0.3934693402873666, 0.3934693402873666, 0.3934693402873666, 0.3934693402873666, 0.3934693402873666, 0.3934693402873666, 0.3934693402873666, 0.3934693402873666, 0.3934693402873666, 0.3934693402873666, 0.3934693402873666, 0.3934693402873666, 0.3934693402873666]\n",
            "Media de falhas:  [0, 19254145824.0, 786986530866.7495, 2239827908747.292, 11911189651106.309, 73796707502913.34, 123713581618224.1, 351787508696416.0, 656922423630285.0, 680977372604673.5, 821661688505220.4, 1028016422994970.8, 1103011228872507.2, 2118124560150237.2, 1003661433434831.4]\n",
            "\n",
            "Custo =  135116812803.50877\n",
            "=========================================================================\n",
            "\n",
            "\n",
            "=========================================================================\n",
            "\n",
            "Número de ciclos de manutenção: 12 5\n",
            "Tempos para manutenções preventivas: [0, 60, 270, 570, 1380, 2760, 4560, 5160, 5670, 6270, 7230, 7350, 8370]\n",
            "Severidade para cada subsistema: [0.25, 0.25, 0.25, 0.25, 0.25, 0.25, 0.25, 0.25, 0.25, 0.25, 0.25, 0.25]\n",
            "Fator:  [0.3296799539643607, 0.3934693402873666, 0.3934693402873666, 0.3934693402873666, 0.3934693402873666, 0.3934693402873666, 0.3934693402873666, 0.3934693402873666, 0.3934693402873666, 0.3934693402873666, 0.3934693402873666, 0.3934693402873666, 0.3934693402873666]\n",
            "Media de falhas:  [0, 248832.00000000003, 314087578.11416864, 7141258274.560493, 665369082720.4578, 17673102583528.707, 175391430296865.03, 261824791926099.22, 370136410424722.56, 560185588688304.6, 1090032450904456.2, 1165027256781992.8, 2180140588059722.8, 1065677461344316.9]\n",
            "\n",
            "Custo =  16588833.333333336\n",
            "=========================================================================\n",
            "\n",
            "\n",
            "=========================================================================\n",
            "\n",
            "Número de ciclos de manutenção: 17 5\n",
            "Tempos para manutenções preventivas: [0, 60, 270, 570, 1110, 1170, 2250, 2610, 2760, 5160, 5490, 5670, 6270, 6630, 7020, 7350, 7500, 8370]\n",
            "Severidade para cada subsistema: [0.25, 0.25, 0.25, 0.25, 0.25, 0.25, 0.25, 0.25, 0.25, 0.25, 0.25, 0.25, 0.25, 0.25, 0.25, 0.25, 0.25]\n",
            "Fator:  [0.3296799539643607, 0.3934693402873666, 0.3934693402873666, 0.3934693402873666, 0.3934693402873666, 0.3934693402873666, 0.3934693402873666, 0.3934693402873666, 0.3934693402873666, 0.3934693402873666, 0.3934693402873666, 0.3934693402873666, 0.3934693402873666, 0.3934693402873666, 0.3934693402873666, 0.3934693402873666, 0.3934693402873666, 0.3934693402873666]\n",
            "Media de falhas:  [0, 248832.00000000003, 314087578.11416864, 7141258274.560493, 179997659863.85382, 203563660400.4378, 6020589414989.842, 9389154521287.652, 11210408383347.506, 366147214429245.06, 428674567451695.94, 468122441105527.44, 658171619369109.5, 803721357962286.2, 1001766513273415.6, 1204370621754192.8, 1305759885091348.8, 2177759170884340.2, 1063296044168934.4]\n",
            "\n",
            "Custo =  16588833.333333336\n",
            "=========================================================================\n",
            "\n"
          ]
        },
        {
          "output_type": "stream",
          "name": "stderr",
          "text": [
            "pyswarms.single.global_best:  60%|██████    |60/100, best_cost=2e+3"
          ]
        },
        {
          "output_type": "stream",
          "name": "stdout",
          "text": [
            "\n",
            "=========================================================================\n",
            "\n",
            "Número de ciclos de manutenção: 20 5\n",
            "Tempos para manutenções preventivas: [0, 270, 330, 660, 870, 960, 1110, 1170, 1920, 2160, 2250, 2610, 2760, 4680, 5070, 5160, 5640, 6270, 7500, 7680, 8370]\n",
            "Severidade para cada subsistema: [0.25, 0.25, 0.25, 0.25, 0.25, 0.25, 0.25, 0.25, 0.25, 0.25, 0.25, 0.25, 0.25, 0.25, 0.25, 0.25, 0.25, 0.25, 0.25, 0.25]\n",
            "Fator:  [0.3296799539643607, 0.3934693402873666, 0.3934693402873666, 0.3934693402873666, 0.3934693402873666, 0.3934693402873666, 0.3934693402873666, 0.3934693402873666, 0.3934693402873666, 0.3934693402873666, 0.3934693402873666, 0.3934693402873666, 0.3934693402873666, 0.3934693402873666, 0.3934693402873666, 0.3934693402873666, 0.3934693402873666, 0.3934693402873666, 0.3934693402873666, 0.3934693402873666, 0.3934693402873666]\n",
            "Media de falhas:  [0, 459165024.00000006, 657107271.0465378, 13956160048.564514, 37762512177.11876, 53442622843.01903, 99400954458.08258, 122966954994.66656, 2185593236769.1807, 3249348100739.08, 3735993636054.8467, 7104558742352.658, 8925812604412.512, 196610212022389.84, 249891252560802.25, 263544092636974.5, 363569737968864.8, 562704226512231.4, 1341551215504500.5, 1475029091686601.2, 2173354162286787.5, 1058891035571381.6]\n",
            "\n",
            "Custo =  6802444807.407409\n",
            "=========================================================================\n",
            "\n",
            "\n",
            "=========================================================================\n",
            "\n",
            "Número de ciclos de manutenção: 18 5\n",
            "Tempos para manutenções preventivas: [0, 330, 660, 870, 1110, 1230, 2610, 3210, 4350, 4680, 5160, 5640, 6180, 6270, 6360, 7140, 7500, 7680, 8130]\n",
            "Severidade para cada subsistema: [0.25, 0.25, 0.25, 0.25, 0.25, 0.25, 0.25, 0.25, 0.25, 0.25, 0.25, 0.25, 0.25, 0.25, 0.25, 0.25, 0.25, 0.25]\n",
            "Fator:  [0.3296799539643607, 0.3934693402873666, 0.3934693402873666, 0.3934693402873666, 0.3934693402873666, 0.3934693402873666, 0.3934693402873666, 0.3934693402873666, 0.3934693402873666, 0.3934693402873666, 0.3934693402873666, 0.3934693402873666, 0.3934693402873666, 0.3934693402873666, 0.3934693402873666, 0.3934693402873666, 0.3934693402873666, 0.3934693402873666, 0.3934693402873666]\n",
            "Media de falhas:  [0, 1252332576.0, 17365237458.155945, 41171589586.71019, 113400449681.49568, 169646020180.79706, 13995212217838.514, 26679680147737.438, 107430379116281.7, 140268549856771.03, 210092415186874.97, 310118060518765.25, 472163694927641.4, 501988712786036.75, 533567663904871.75, 946643834882717.8, 1185838837525797.0, 1319316713707897.8, 1730443014801565.0, 768121190781015.5]\n",
            "\n",
            "Custo =  15179788806.060606\n",
            "=========================================================================\n",
            "\n",
            "\n",
            "=========================================================================\n",
            "\n",
            "Número de ciclos de manutenção: 14 5\n",
            "Tempos para manutenções preventivas: [0, 660, 870, 1110, 1860, 1920, 3150, 3210, 4350, 4680, 5640, 6180, 6360, 7140, 7680]\n",
            "Severidade para cada subsistema: [0.25, 0.25, 0.25, 0.25, 0.25, 0.25, 0.25, 0.25, 0.25, 0.25, 0.25, 0.25, 0.25, 0.25]\n",
            "Fator:  [0.3296799539643607, 0.3934693402873666, 0.3934693402873666, 0.3934693402873666, 0.3934693402873666, 0.3934693402873666, 0.3934693402873666, 0.3934693402873666, 0.3934693402873666, 0.3934693402873666, 0.3934693402873666, 0.3934693402873666, 0.3934693402873666, 0.3934693402873666, 0.3934693402873666]\n",
            "Media de falhas:  [0, 40074642432.0, 72474229217.81491, 144703089312.6004, 1969205352175.4575, 2142150539624.998, 26648602146043.89, 28010665910972.47, 108761364879516.73, 141599535620006.06, 335701566222595.25, 497747200631471.4, 560329623432012.4, 973405794409858.2, 1363136795213385.5, 641092554934944.8]\n",
            "\n",
            "Custo =  242876620803.0303\n",
            "=========================================================================\n",
            "\n",
            "\n",
            "=========================================================================\n",
            "\n",
            "Número de ciclos de manutenção: 14 5\n",
            "Tempos para manutenções preventivas: [0, 1740, 1860, 1920, 3180, 3210, 4680, 5640, 6180, 6360, 6390, 6930, 7140, 7290, 7680]\n",
            "Severidade para cada subsistema: [0.25, 0.25, 0.25, 0.25, 0.25, 0.25, 0.25, 0.25, 0.25, 0.25, 0.25, 0.25, 0.25, 0.25]\n",
            "Fator:  [0.3296799539643607, 0.3934693402873666, 0.3934693402873666, 0.3934693402873666, 0.3934693402873666, 0.3934693402873666, 0.3934693402873666, 0.3934693402873666, 0.3934693402873666, 0.3934693402873666, 0.3934693402873666, 0.3934693402873666, 0.3934693402873666, 0.3934693402873666, 0.3934693402873666]\n",
            "Media de falhas:  [0, 5103830227968.0, 5540188674950.86, 5713133862400.401, 31837705154226.77, 32522988573859.945, 172627341775905.88, 366729372378495.0, 528775006787371.1, 591357429587912.1, 602152753394866.2, 859540793854204.2, 975434947944093.0, 1065902856736866.9, 1350364661747868.5, 628320421469427.8]\n",
            "\n",
            "Custo =  11529679163336.066\n",
            "=========================================================================\n",
            "\n",
            "\n",
            "=========================================================================\n",
            "\n",
            "Número de ciclos de manutenção: 7 5\n",
            "Tempos para manutenções preventivas: [0, 1860, 3180, 3210, 4200, 4380, 6390, 7290]\n",
            "Severidade para cada subsistema: [0.25, 0.25, 0.25, 0.25, 0.25, 0.25, 0.25]\n",
            "Fator:  [0.3296799539643607, 0.3934693402873666, 0.3934693402873666, 0.3934693402873666, 0.3934693402873666, 0.3934693402873666, 0.3934693402873666, 0.3934693402873666]\n",
            "Media de falhas:  [0, 7123848901632.001, 41813566993403.36, 42498850413036.54, 103473102067870.22, 117440831758449.14, 783295832414127.2, 1298417724829296.0, 743291144344084.4]\n",
            "\n",
            "Custo =  15320105164801.078\n",
            "=========================================================================\n",
            "\n",
            "\n",
            "=========================================================================\n",
            "\n",
            "Número de ciclos de manutenção: 6 5\n",
            "Tempos para manutenções preventivas: [0, 570, 3480, 4200, 6870, 7290, 7380]\n",
            "Severidade para cada subsistema: [0.25, 0.25, 0.25, 0.25, 0.25, 0.25]\n",
            "Fator:  [0.3296799539643607, 0.3934693402873666, 0.3934693402873666, 0.3934693402873666, 0.3934693402873666, 0.3934693402873666, 0.3934693402873666]\n",
            "Media de falhas:  [0, 19254145824.0, 123754759003176.02, 168510473087709.06, 1371360780736980.2, 1619112982279197.8, 1676440376588296.5, 1085870783549587.1]\n",
            "\n",
            "Custo =  135116812803.50877\n",
            "=========================================================================\n",
            "\n",
            "\n",
            "=========================================================================\n",
            "\n",
            "Número de ciclos de manutenção: 3 5\n",
            "Tempos para manutenções preventivas: [0, 270, 570, 3480]\n",
            "Severidade para cada subsistema: [0.25, 0.25, 0.25]\n",
            "Fator:  [0.3296799539643607, 0.3934693402873666, 0.3934693402873666, 0.3934693402873666]\n",
            "Media de falhas:  [0, 459165024.00000006, 8634876422.775696, 117061218205775.89, 103620720384178.02]\n",
            "\n",
            "Custo =  6802444807.407409\n",
            "=========================================================================\n",
            "\n",
            "\n",
            "=========================================================================\n",
            "\n",
            "Número de ciclos de manutenção: 12 5\n",
            "Tempos para manutenções preventivas: [0, 60, 270, 570, 1170, 1830, 1920, 2760, 3480, 5160, 5970, 7230, 8370]\n",
            "Severidade para cada subsistema: [0.25, 0.25, 0.25, 0.25, 0.25, 0.25, 0.25, 0.25, 0.25, 0.25, 0.25, 0.25]\n",
            "Fator:  [0.3296799539643607, 0.3934693402873666, 0.3934693402873666, 0.3934693402873666, 0.3934693402873666, 0.3934693402873666, 0.3934693402873666, 0.3934693402873666, 0.3934693402873666, 0.3934693402873666, 0.3934693402873666, 0.3934693402873666, 0.3934693402873666]\n",
            "Media de falhas:  [0, 248832.00000000003, 314087578.11416864, 7141258274.560493, 247646144439.0635, 1732408726038.2168, 1989409060993.2769, 11660770803352.293, 32618674279741.36, 269686166047061.7, 477313643972754.75, 1164635756212196.5, 2293479784993239.5, 1179016658277833.5]\n",
            "\n",
            "Custo =  16588833.333333336\n",
            "=========================================================================\n",
            "\n",
            "\n",
            "=========================================================================\n",
            "\n",
            "Número de ciclos de manutenção: 12 5\n",
            "Tempos para manutenções preventivas: [0, 60, 270, 570, 870, 1170, 2760, 5160, 5490, 5670, 7350, 7500, 8370]\n",
            "Severidade para cada subsistema: [0.25, 0.25, 0.25, 0.25, 0.25, 0.25, 0.25, 0.25, 0.25, 0.25, 0.25, 0.25]\n",
            "Fator:  [0.3296799539643607, 0.3934693402873666, 0.3934693402873666, 0.3934693402873666, 0.3934693402873666, 0.3934693402873666, 0.3934693402873666, 0.3934693402873666, 0.3934693402873666, 0.3934693402873666, 0.3934693402873666, 0.3934693402873666, 0.3934693402873666]\n",
            "Media de falhas:  [0, 248832.00000000003, 314087578.11416864, 7141258274.560493, 41484352242.110695, 152690955879.5143, 20675324302221.887, 375612130348119.44, 438139483370570.3, 477587357024401.8, 1448487812515463.2, 1549877075852619.2, 2421876361645611.0, 1307413234930205.0]\n",
            "\n",
            "Custo =  16588833.333333336\n",
            "=========================================================================\n",
            "\n",
            "\n",
            "=========================================================================\n",
            "\n",
            "Número de ciclos de manutenção: 16 5\n",
            "Tempos para manutenções preventivas: [0, 270, 570, 870, 1110, 1170, 2760, 3840, 5070, 5160, 5670, 6210, 7350, 7500, 8130, 8160, 8370]\n",
            "Severidade para cada subsistema: [0.25, 0.25, 0.25, 0.25, 0.25, 0.25, 0.25, 0.25, 0.25, 0.25, 0.25, 0.25, 0.25, 0.25, 0.25, 0.25]\n",
            "Fator:  [0.3296799539643607, 0.3934693402873666, 0.3934693402873666, 0.3934693402873666, 0.3934693402873666, 0.3934693402873666, 0.3934693402873666, 0.3934693402873666, 0.3934693402873666, 0.3934693402873666, 0.3934693402873666, 0.3934693402873666, 0.3934693402873666, 0.3934693402873666, 0.3934693402873666, 0.3934693402873666, 0.3934693402873666]\n",
            "Media de falhas:  [0, 459165024.00000006, 8634876422.775696, 42977970390.3259, 115206830485.11139, 138772831021.69537, 20661406177364.066, 67152330269541.42, 227962318959877.88, 241615159036050.12, 349926777534673.44, 515174533282132.4, 1182568645102926.0, 1283957908440082.0, 1852885367714279.5, 1881612930451844.5, 2101072581892091.5, 986609455176685.6]\n",
            "\n",
            "Custo =  6802444807.407409\n",
            "=========================================================================\n",
            "\n",
            "\n",
            "=========================================================================\n",
            "\n",
            "Número de ciclos de manutenção: 13 5\n",
            "Tempos para manutenções preventivas: [0, 660, 870, 1050, 1230, 2760, 3840, 4770, 5070, 5160, 5670, 6210, 8130, 8160]\n",
            "Severidade para cada subsistema: [0.25, 0.25, 0.25, 0.25, 0.25, 0.25, 0.25, 0.25, 0.25, 0.25, 0.25, 0.25, 0.25]\n",
            "Fator:  [0.3296799539643607, 0.3934693402873666, 0.3934693402873666, 0.3934693402873666, 0.3934693402873666, 0.3934693402873666, 0.3934693402873666, 0.3934693402873666, 0.3934693402873666, 0.3934693402873666, 0.3934693402873666, 0.3934693402873666, 0.3934693402873666, 0.3934693402873666]\n",
            "Media de falhas:  [0, 40074642432.0, 72474229217.81491, 116180981253.49171, 199037258583.15582, 19670393140861.35, 66161317233038.7, 161888310657559.44, 203254080808912.75, 216906920885085.0, 325218539383708.3, 490466295131167.25, 2150690971649261.8, 2179418534386826.8, 1199047310001536.2]\n",
            "\n",
            "Custo =  242876620803.0303\n",
            "=========================================================================\n",
            "\n",
            "\n",
            "=========================================================================\n",
            "\n",
            "Número de ciclos de manutenção: 12 5\n",
            "Tempos para manutenções preventivas: [0, 660, 870, 1230, 1860, 1920, 3210, 3840, 4770, 5070, 5160, 7140, 8130]\n",
            "Severidade para cada subsistema: [0.25, 0.25, 0.25, 0.25, 0.25, 0.25, 0.25, 0.25, 0.25, 0.25, 0.25, 0.25]\n",
            "Fator:  [0.3296799539643607, 0.3934693402873666, 0.3934693402873666, 0.3934693402873666, 0.3934693402873666, 0.3934693402873666, 0.3934693402873666, 0.3934693402873666, 0.3934693402873666, 0.3934693402873666, 0.3934693402873666, 0.3934693402873666, 0.3934693402873666]\n",
            "Media de falhas:  [0, 40074642432.0, 72474229217.81491, 235756791352.16382, 1740485367537.974, 1913430554987.5146, 29738221536456.145, 57151473578637.91, 152878467003158.66, 194244237154512.0, 207897077230684.25, 1226429049773517.5, 2103480008693322.8, 1141158184672773.2]\n",
            "\n",
            "Custo =  242876620803.0303\n",
            "=========================================================================\n",
            "\n"
          ]
        },
        {
          "output_type": "stream",
          "name": "stderr",
          "text": [
            "pyswarms.single.global_best:  74%|███████▍  |74/100, best_cost=2e+3"
          ]
        },
        {
          "output_type": "stream",
          "name": "stdout",
          "text": [
            "\n",
            "=========================================================================\n",
            "\n",
            "Número de ciclos de manutenção: 8 5\n",
            "Tempos para manutenções preventivas: [0, 660, 1230, 1860, 1920, 2160, 3210, 7140, 7290]\n",
            "Severidade para cada subsistema: [0.25, 0.25, 0.25, 0.25, 0.25, 0.25, 0.25, 0.25]\n",
            "Fator:  [0.3296799539643607, 0.3934693402873666, 0.3934693402873666, 0.3934693402873666, 0.3934693402873666, 0.3934693402873666, 0.3934693402873666, 0.3934693402873666, 0.3934693402873666]\n",
            "Media de falhas:  [0, 40074642432.0, 375008177456.14355, 1879736753641.9539, 2052681941091.4946, 3116436805061.394, 25313304661008.08, 2259803272453000.5, 2350271181245774.5, 1795144600760563.0]\n",
            "\n",
            "Custo =  242876620803.0303\n",
            "=========================================================================\n",
            "\n",
            "\n",
            "=========================================================================\n",
            "\n",
            "Número de ciclos de manutenção: 6 5\n",
            "Tempos para manutenções preventivas: [0, 1920, 3210, 6180, 7140, 7290, 8940]\n",
            "Severidade para cada subsistema: [0.25, 0.25, 0.25, 0.25, 0.25, 0.25]\n",
            "Fator:  [0.3296799539643607, 0.3934693402873666, 0.3934693402873666, 0.3934693402873666, 0.3934693402873666, 0.3934693402873666, 0.3934693402873666]\n",
            "Media de falhas:  [0, 8349416423424.001, 43588690282342.79, 954312324356758.1, 1457980188110185.5, 1548448096902959.5, 3648024030551976.0, 2094123126822224.5]\n",
            "\n",
            "Custo =  17394617548801.043\n",
            "=========================================================================\n",
            "\n",
            "\n",
            "=========================================================================\n",
            "\n",
            "Número de ciclos de manutenção: 6 5\n",
            "Tempos para manutenções preventivas: [0, 570, 2670, 3270, 6090, 7290, 8940]\n",
            "Severidade para cada subsistema: [0.25, 0.25, 0.25, 0.25, 0.25, 0.25]\n",
            "Fator:  [0.3296799539643607, 0.3934693402873666, 0.3934693402873666, 0.3934693402873666, 0.3934693402873666, 0.3934693402873666, 0.3934693402873666]\n",
            "Media de falhas:  [0, 19254145824.0, 30162737359750.836, 43831593163080.336, 852237125595693.0, 1530388447710336.0, 3629964381359353.0, 2076063477629601.5]\n",
            "\n",
            "Custo =  135116812803.50877\n",
            "=========================================================================\n",
            "\n",
            "\n",
            "=========================================================================\n",
            "\n",
            "Número de ciclos de manutenção: 6 5\n",
            "Tempos para manutenções preventivas: [0, 270, 570, 3270, 4170, 6090, 8940]\n",
            "Severidade para cada subsistema: [0.25, 0.25, 0.25, 0.25, 0.25, 0.25]\n",
            "Fator:  [0.3296799539643607, 0.3934693402873666, 0.3934693402873666, 0.3934693402873666, 0.3934693402873666, 0.3934693402873666, 0.3934693402873666]\n",
            "Media de falhas:  [0, 459165024.00000006, 8634876422.775696, 83876084252636.9, 137828729553782.3, 662633230187817.6, 4282235467360155.5, 2728334563630404.0]\n",
            "\n",
            "Custo =  6802444807.407409\n",
            "=========================================================================\n",
            "\n",
            "\n",
            "=========================================================================\n",
            "\n",
            "Número de ciclos de manutenção: 10 5\n",
            "Tempos para manutenções preventivas: [0, 270, 570, 2760, 3270, 3480, 3990, 4200, 4560, 6090, 8370]\n",
            "Severidade para cada subsistema: [0.25, 0.25, 0.25, 0.25, 0.25, 0.25, 0.25, 0.25, 0.25, 0.25]\n",
            "Fator:  [0.3296799539643607, 0.3934693402873666, 0.3934693402873666, 0.3934693402873666, 0.3934693402873666, 0.3934693402873666, 0.3934693402873666, 0.3934693402873666, 0.3934693402873666, 0.3934693402873666, 0.3934693402873666]\n",
            "Media de falhas:  [0, 459165024.00000006, 8634876422.775696, 33554432154822.6, 45249044212907.01, 51672186956896.55, 77826069083336.94, 91532483259654.97, 123684227970049.55, 540018238041598.4, 2754385399074922.0, 1639922272359516.0]\n",
            "\n",
            "Custo =  6802444807.407409\n",
            "=========================================================================\n",
            "\n",
            "\n",
            "=========================================================================\n",
            "\n",
            "Número de ciclos de manutenção: 8 5\n",
            "Tempos para manutenções preventivas: [0, 270, 570, 1320, 2760, 3480, 3990, 4620, 5670]\n",
            "Severidade para cada subsistema: [0.25, 0.25, 0.25, 0.25, 0.25, 0.25, 0.25, 0.25]\n",
            "Fator:  [0.3296799539643607, 0.3934693402873666, 0.3934693402873666, 0.3934693402873666, 0.3934693402873666, 0.3934693402873666, 0.3934693402873666, 0.3934693402873666, 0.3934693402873666]\n",
            "Media de falhas:  [0, 459165024.00000006, 8634876422.775696, 512474872374.74884, 18478596560496.125, 39436500036885.19, 65590382163325.586, 123494881596426.8, 339650479497060.06, 183280547643224.47]\n",
            "\n",
            "Custo =  6802444807.407409\n",
            "=========================================================================\n",
            "\n",
            "\n",
            "=========================================================================\n",
            "\n",
            "Número de ciclos de manutenção: 10 5\n",
            "Tempos para manutenções preventivas: [0, 270, 570, 1320, 2760, 4620, 5490, 5670, 6210, 8100, 8160]\n",
            "Severidade para cada subsistema: [0.25, 0.25, 0.25, 0.25, 0.25, 0.25, 0.25, 0.25, 0.25, 0.25]\n",
            "Fator:  [0.3296799539643607, 0.3934693402873666, 0.3934693402873666, 0.3934693402873666, 0.3934693402873666, 0.3934693402873666, 0.3934693402873666, 0.3934693402873666, 0.3934693402873666, 0.3934693402873666, 0.3934693402873666]\n",
            "Media de falhas:  [0, 459165024.00000006, 8634876422.775696, 512474872374.74884, 18478596560496.125, 190671421695040.84, 349064818789574.5, 388512692443406.0, 553760448190864.94, 2164319485811842.8, 2221629424387521.2, 1241258200002230.8]\n",
            "\n",
            "Custo =  6802444807.407409\n",
            "=========================================================================\n",
            "\n",
            "\n",
            "=========================================================================\n",
            "\n",
            "Número de ciclos de manutenção: 10 5\n",
            "Tempos para manutenções preventivas: [0, 270, 660, 1050, 3840, 5160, 5490, 5670, 6210, 8130, 8160]\n",
            "Severidade para cada subsistema: [0.25, 0.25, 0.25, 0.25, 0.25, 0.25, 0.25, 0.25, 0.25, 0.25]\n",
            "Fator:  [0.3296799539643607, 0.3934693402873666, 0.3934693402873666, 0.3934693402873666, 0.3934693402873666, 0.3934693402873666, 0.3934693402873666, 0.3934693402873666, 0.3934693402873666, 0.3934693402873666, 0.3934693402873666]\n",
            "Media de falhas:  [0, 459165024.00000006, 19818348370.20115, 115188117188.46509, 151308898411986.47, 336422703772750.5, 398950056795201.4, 438397930449032.9, 603645686196491.8, 2263870362714586.0, 2292597925452151.0, 1312226701066860.5]\n",
            "\n",
            "Custo =  6802444807.407409\n",
            "=========================================================================\n",
            "\n",
            "\n",
            "=========================================================================\n",
            "\n",
            "Número de ciclos de manutenção: 9 5\n",
            "Tempos para manutenções preventivas: [0, 660, 1050, 1860, 2160, 3210, 3840, 4770, 7350, 8130]\n",
            "Severidade para cada subsistema: [0.25, 0.25, 0.25, 0.25, 0.25, 0.25, 0.25, 0.25, 0.25]\n",
            "Fator:  [0.3296799539643607, 0.3934693402873666, 0.3934693402873666, 0.3934693402873666, 0.3934693402873666, 0.3934693402873666, 0.3934693402873666, 0.3934693402873666, 0.3934693402873666, 0.3934693402873666]\n",
            "Media de falhas:  [0, 40074642432.0, 162542026043.31396, 2158000254389.4502, 3474381226539.006, 25671249082485.688, 53084501124667.445, 148811494549188.2, 1655529859608709.0, 2353848669946203.0, 1391526845925653.5]\n",
            "\n",
            "Custo =  242876620803.0303\n",
            "=========================================================================\n",
            "\n",
            "\n",
            "=========================================================================\n",
            "\n",
            "Número de ciclos de manutenção: 12 5\n",
            "Tempos para manutenções preventivas: [0, 1050, 1860, 1920, 2160, 2550, 3060, 3210, 3840, 4770, 5640, 7350, 8130]\n",
            "Severidade para cada subsistema: [0.25, 0.25, 0.25, 0.25, 0.25, 0.25, 0.25, 0.25, 0.25, 0.25, 0.25, 0.25]\n",
            "Fator:  [0.3296799539643607, 0.3934693402873666, 0.3934693402873666, 0.3934693402873666, 0.3934693402873666, 0.3934693402873666, 0.3934693402873666, 0.3934693402873666, 0.3934693402873666, 0.3934693402873666, 0.3934693402873666, 0.3934693402873666, 0.3934693402873666]\n",
            "Media de falhas:  [0, 408410100000.00006, 2897296465203.873, 3070241652653.4136, 4133996516623.313, 7443914334691.398, 16386622016654.09, 19733457236919.047, 47146709279100.805, 142873702703621.56, 319504525626619.25, 1307463219810273.0, 2005782030147767.0, 1043460206127217.5]\n",
            "\n",
            "Custo =  1555848000001.905\n",
            "=========================================================================\n",
            "\n",
            "\n",
            "=========================================================================\n",
            "\n",
            "Número de ciclos de manutenção: 7 5\n",
            "Tempos para manutenções preventivas: [0, 1860, 1920, 4380, 5460, 5640, 6690, 7290]\n",
            "Severidade para cada subsistema: [0.25, 0.25, 0.25, 0.25, 0.25, 0.25, 0.25]\n",
            "Fator:  [0.3296799539643607, 0.3934693402873666, 0.3934693402873666, 0.3934693402873666, 0.3934693402873666, 0.3934693402873666, 0.3934693402873666, 0.3934693402873666]\n",
            "Media de falhas:  [0, 7123848901632.001, 7379257553686.795, 206870714901680.84, 397623825866800.6, 436239392462178.7, 857936694479023.8, 1207395350295381.8, 652268769810170.1]\n",
            "\n",
            "Custo =  15320105164801.078\n",
            "=========================================================================\n",
            "\n",
            "\n",
            "=========================================================================\n",
            "\n",
            "Número de ciclos de manutenção: 6 5\n",
            "Tempos para manutenções preventivas: [0, 570, 1920, 4380, 5460, 7290, 7380]\n",
            "Severidade para cada subsistema: [0.25, 0.25, 0.25, 0.25, 0.25, 0.25]\n",
            "Fator:  [0.3296799539643607, 0.3934693402873666, 0.3934693402873666, 0.3934693402873666, 0.3934693402873666, 0.3934693402873666, 0.3934693402873666]\n",
            "Media de falhas:  [0, 19254145824.0, 5005410031836.165, 204496867379830.22, 395249978344950.0, 1417703855076307.0, 1475031249385405.5, 884461656346696.1]\n",
            "\n",
            "Custo =  135116812803.50877\n",
            "=========================================================================\n",
            "\n",
            "\n",
            "=========================================================================\n",
            "\n",
            "Número de ciclos de manutenção: 6 5\n",
            "Tempos para manutenções preventivas: [0, 570, 960, 2790, 6090, 7380, 8940]\n",
            "Severidade para cada subsistema: [0.25, 0.25, 0.25, 0.25, 0.25, 0.25]\n",
            "Fator:  [0.3296799539643607, 0.3934693402873666, 0.3934693402873666, 0.3934693402873666, 0.3934693402873666, 0.3934693402873666, 0.3934693402873666]\n",
            "Media de falhas:  [0, 19254145824.0, 104443083781.70773, 26221428383013.574, 1014025609530625.4, 1777863037784350.8, 3767113963695901.5, 2213213059966150.0]\n",
            "\n",
            "Custo =  135116812803.50877\n",
            "=========================================================================\n",
            "\n"
          ]
        },
        {
          "output_type": "stream",
          "name": "stderr",
          "text": [
            "pyswarms.single.global_best:  88%|████████▊ |88/100, best_cost=2e+3"
          ]
        },
        {
          "output_type": "stream",
          "name": "stdout",
          "text": [
            "\n",
            "=========================================================================\n",
            "\n",
            "Número de ciclos de manutenção: 7 5\n",
            "Tempos para manutenções preventivas: [0, 270, 570, 2790, 3480, 6090, 6480, 8940]\n",
            "Severidade para cada subsistema: [0.25, 0.25, 0.25, 0.25, 0.25, 0.25, 0.25]\n",
            "Fator:  [0.3296799539643607, 0.3934693402873666, 0.3934693402873666, 0.3934693402873666, 0.3934693402873666, 0.3934693402873666, 0.3934693402873666, 0.3934693402873666]\n",
            "Media de falhas:  [0, 459165024.00000006, 8634876422.775696, 35586434058647.45, 55696373829827.92, 792519766709228.2, 935941012666286.1, 4045889485812396.5, 2491988582082645.0]\n",
            "\n",
            "Custo =  6802444807.407409\n",
            "=========================================================================\n",
            "\n",
            "\n",
            "=========================================================================\n",
            "\n",
            "Número de ciclos de manutenção: 9 5\n",
            "Tempos para manutenções preventivas: [0, 270, 570, 2370, 3480, 3990, 6090, 6480, 8100, 8940]\n",
            "Severidade para cada subsistema: [0.25, 0.25, 0.25, 0.25, 0.25, 0.25, 0.25, 0.25, 0.25]\n",
            "Fator:  [0.3296799539643607, 0.3934693402873666, 0.3934693402873666, 0.3934693402873666, 0.3934693402873666, 0.3934693402873666, 0.3934693402873666, 0.3934693402873666, 0.3934693402873666, 0.3934693402873666]\n",
            "Media de falhas:  [0, 459165024.00000006, 8634876422.775696, 14562239413819.3, 46930397223034.266, 73084279349474.66, 650288659662091.1, 793709905619149.0, 2179136126749798.5, 3279687031579537.0, 1725786127849785.5]\n",
            "\n",
            "Custo =  6802444807.407409\n",
            "=========================================================================\n",
            "\n",
            "\n",
            "=========================================================================\n",
            "\n",
            "Número de ciclos de manutenção: 8 5\n",
            "Tempos para manutenções preventivas: [0, 270, 570, 3480, 3990, 4620, 6090, 6480, 8100]\n",
            "Severidade para cada subsistema: [0.25, 0.25, 0.25, 0.25, 0.25, 0.25, 0.25, 0.25]\n",
            "Fator:  [0.3296799539643607, 0.3934693402873666, 0.3934693402873666, 0.3934693402873666, 0.3934693402873666, 0.3934693402873666, 0.3934693402873666, 0.3934693402873666, 0.3934693402873666]\n",
            "Media de falhas:  [0, 459165024.00000006, 8634876422.775696, 117061218205775.89, 143215100332216.28, 201119599765317.5, 601232959989928.9, 744654205946986.8, 2130080427077636.2, 1185540508726364.8]\n",
            "\n",
            "Custo =  6802444807.407409\n",
            "=========================================================================\n",
            "\n",
            "\n",
            "=========================================================================\n",
            "\n",
            "Número de ciclos de manutenção: 7 5\n",
            "Tempos para manutenções preventivas: [0, 660, 3480, 4620, 5160, 6480, 7350, 8100]\n",
            "Severidade para cada subsistema: [0.25, 0.25, 0.25, 0.25, 0.25, 0.25, 0.25]\n",
            "Fator:  [0.3296799539643607, 0.3934693402873666, 0.3934693402873666, 0.3934693402873666, 0.3934693402873666, 0.3934693402873666, 0.3934693402873666, 0.3934693402873666]\n",
            "Media de falhas:  [0, 40074642432.0, 118296181710185.1, 221048689263973.7, 299203974955135.3, 761334112518822.0, 1276861751001407.8, 1939459149064777.0, 994919230713505.5]\n",
            "\n",
            "Custo =  242876620803.0303\n",
            "=========================================================================\n",
            "\n",
            "\n",
            "=========================================================================\n",
            "\n",
            "Número de ciclos de manutenção: 8 5\n",
            "Tempos para manutenções preventivas: [0, 660, 3480, 3570, 4230, 4620, 5160, 7500, 8130]\n",
            "Severidade para cada subsistema: [0.25, 0.25, 0.25, 0.25, 0.25, 0.25, 0.25, 0.25]\n",
            "Fator:  [0.3296799539643607, 0.3934693402873666, 0.3934693402873666, 0.3934693402873666, 0.3934693402873666, 0.3934693402873666, 0.3934693402873666, 0.3934693402873666, 0.3934693402873666]\n",
            "Media de falhas:  [0, 40074642432.0, 118296181710185.1, 121408726654498.55, 163784950414689.3, 200388948255399.2, 278544233946560.8, 1749089058272998.5, 2318016517547196.0, 1355694693526646.5]\n",
            "\n",
            "Custo =  242876620803.0303\n",
            "=========================================================================\n",
            "\n",
            "\n",
            "=========================================================================\n",
            "\n",
            "Número de ciclos de manutenção: 6 5\n",
            "Tempos para manutenções preventivas: [0, 660, 3570, 3840, 4230, 5640, 7500]\n",
            "Severidade para cada subsistema: [0.25, 0.25, 0.25, 0.25, 0.25, 0.25]\n",
            "Fator:  [0.3296799539643607, 0.3934693402873666, 0.3934693402873666, 0.3934693402873666, 0.3934693402873666, 0.3934693402873666, 0.3934693402873666]\n",
            "Media de falhas:  [0, 40074642432.0, 135533751743428.62, 147712845518538.84, 173343046309103.06, 455587263277750.56, 1619886589735915.0, 979258957599745.1]\n",
            "\n",
            "Custo =  242876620803.0303\n",
            "=========================================================================\n",
            "\n",
            "\n",
            "=========================================================================\n",
            "\n",
            "Número de ciclos de manutenção: 4 5\n",
            "Tempos para manutenções preventivas: [0, 3090, 5640, 6810, 7500]\n",
            "Severidade para cada subsistema: [0.25, 0.25, 0.25, 0.25]\n",
            "Fator:  [0.3296799539643607, 0.3934693402873666, 0.3934693402873666, 0.3934693402873666, 0.3934693402873666]\n",
            "Media de falhas:  [0, 90145152017568.0, 752419925224837.0, 1255057696074211.2, 1703244669698376.0, 1062617037562206.1]\n",
            "\n",
            "Custo =  116692753420800.64\n",
            "=========================================================================\n",
            "\n",
            "\n",
            "=========================================================================\n",
            "\n",
            "Número de ciclos de manutenção: 6 5\n",
            "Tempos para manutenções preventivas: [0, 2160, 3090, 5460, 5640, 6810, 7290]\n",
            "Severidade para cada subsistema: [0.25, 0.25, 0.25, 0.25, 0.25, 0.25]\n",
            "Fator:  [0.3296799539643607, 0.3934693402873666, 0.3934693402873666, 0.3934693402873666, 0.3934693402873666, 0.3934693402873666, 0.3934693402873666]\n",
            "Media de falhas:  [0, 15045919506432.002, 37337875169398.66, 470613720231226.5, 509229286826604.56, 1011867057675978.8, 1293762131485643.8, 738635551000432.1]\n",
            "\n",
            "Custo =  27862813900800.93\n",
            "=========================================================================\n",
            "\n",
            "\n",
            "=========================================================================\n",
            "\n",
            "Número de ciclos de manutenção: 4 5\n",
            "Tempos para manutenções preventivas: [0, 2160, 2670, 2790, 7140]\n",
            "Severidade para cada subsistema: [0.25, 0.25, 0.25, 0.25]\n",
            "Fator:  [0.3296799539643607, 0.3934693402873666, 0.3934693402873666, 0.3934693402873666, 0.3934693402873666]\n",
            "Media de falhas:  [0, 15045919506432.002, 22216139756194.24, 23747450462732.508, 2596416249461631.5, 2096554878192509.2]\n",
            "\n",
            "Custo =  27862813900800.93\n",
            "=========================================================================\n",
            "\n",
            "\n",
            "=========================================================================\n",
            "\n",
            "Número de ciclos de manutenção: 3 5\n",
            "Tempos para manutenções preventivas: [0, 4560, 6480, 6510]\n",
            "Severidade para cada subsistema: [0.25, 0.25, 0.25]\n",
            "Fator:  [0.3296799539643607, 0.3934693402873666, 0.3934693402873666, 0.3934693402873666]\n",
            "Media de falhas:  [0, 630919850360832.0, 1522410442020515.5, 1534040507113628.2, 1220318720224831.8]\n",
            "\n",
            "Custo =  217108503037229.03\n",
            "=========================================================================\n",
            "\n",
            "\n",
            "=========================================================================\n",
            "\n",
            "Número de ciclos de manutenção: 5 5\n",
            "Tempos para manutenções preventivas: [0, 570, 4560, 6090, 6480, 6510]\n",
            "Severidade para cada subsistema: [0.25, 0.25, 0.25, 0.25, 0.25]\n",
            "Fator:  [0.3296799539643607, 0.3934693402873666, 0.3934693402873666, 0.3934693402873666, 0.3934693402873666, 0.3934693402873666]\n",
            "Media de falhas:  [0, 19254145824.0, 511217635247095.3, 927551645318644.1, 1070972891275702.0, 1082602956368814.8, 768881169480018.2]\n",
            "\n",
            "Custo =  135116812803.50877\n",
            "=========================================================================\n",
            "\n",
            "\n",
            "=========================================================================\n",
            "\n",
            "Número de ciclos de manutenção: 8 5\n",
            "Tempos para manutenções preventivas: [0, 570, 2610, 3480, 4560, 6090, 6480, 6510, 6570]\n",
            "Severidade para cada subsistema: [0.25, 0.25, 0.25, 0.25, 0.25, 0.25, 0.25, 0.25]\n",
            "Fator:  [0.3296799539643607, 0.3934693402873666, 0.3934693402873666, 0.3934693402873666, 0.3934693402873666, 0.3934693402873666, 0.3934693402873666, 0.3934693402873666, 0.3934693402873666]\n",
            "Media de falhas:  [0, 19254145824.0, 26691042969026.793, 51933158611126.91, 144354197072848.25, 560688207144397.06, 704109453101455.0, 715739518194567.8, 739794467168956.2, 411219926300339.1]\n",
            "\n",
            "Custo =  135116812803.50877\n",
            "=========================================================================\n",
            "\n",
            "\n",
            "=========================================================================\n",
            "\n",
            "Número de ciclos de manutenção: 8 5\n",
            "Tempos para manutenções preventivas: [0, 570, 660, 3480, 4560, 6090, 6480, 7350, 8850]\n",
            "Severidade para cada subsistema: [0.25, 0.25, 0.25, 0.25, 0.25, 0.25, 0.25, 0.25]\n",
            "Fator:  [0.3296799539643607, 0.3934693402873666, 0.3934693402873666, 0.3934693402873666, 0.3934693402873666, 0.3934693402873666, 0.3934693402873666, 0.3934693402873666, 0.3934693402873666]\n",
            "Media de falhas:  [0, 19254145824.0, 24151453109.85077, 110846066150278.3, 203267104611999.62, 619601114683548.5, 763022360640606.4, 1278549999123192.2, 3117546649886542.5, 1640981429727870.8]\n",
            "\n",
            "Custo =  135116812803.50877\n",
            "=========================================================================\n",
            "\n"
          ]
        },
        {
          "output_type": "stream",
          "name": "stderr",
          "text": [
            "pyswarms.single.global_best: 100%|██████████|100/100, best_cost=2e+3\n",
            "2023-07-03 21:45:10,076 - pyswarms.single.global_best - INFO - Optimization finished | best cost: 2000.0, best pos: [0.33063448 0.17381099 0.9479269  0.79283351 0.6335554  0.0041557\n",
            " 0.6647588  0.37023996 0.01625949 0.97121799 0.52839296 0.6088093\n",
            " 0.56724194 0.02794247 0.65936101 0.70208916 0.8164775  0.70322066\n",
            " 0.69004858 0.99338321 0.23077892 0.49428425 0.78950291 0.43391258\n",
            " 0.27288796 0.44247182 0.01744286 0.06040957 0.1611426  0.9548383 ]\n",
            "2023-07-03 21:45:10,081 - pyswarms.single.global_best - INFO - Optimize for 1 iters with {'c1': 0.5, 'c2': 0.3, 'w': 0.9}\n"
          ]
        },
        {
          "output_type": "stream",
          "name": "stdout",
          "text": [
            "\n",
            "=========================================================================\n",
            "\n",
            "Número de ciclos de manutenção: 9 5\n",
            "Tempos para manutenções preventivas: [0, 570, 3480, 3570, 3840, 5160, 6090, 7350, 8130, 8850]\n",
            "Severidade para cada subsistema: [0.25, 0.25, 0.25, 0.25, 0.25, 0.25, 0.25, 0.25, 0.25]\n",
            "Fator:  [0.3296799539643607, 0.3934693402873666, 0.3934693402873666, 0.3934693402873666, 0.3934693402873666, 0.3934693402873666, 0.3934693402873666, 0.3934693402873666, 0.3934693402873666, 0.3934693402873666]\n",
            "Media de falhas:  [0, 19254145824.0, 123754759003176.02, 126867303947489.47, 139046397722599.7, 324160203083363.75, 580946964376709.8, 1315526345840329.0, 2013845156177823.0, 2925097724040959.0, 1448532503882287.2]\n",
            "\n",
            "Custo =  135116812803.50877\n",
            "=========================================================================\n",
            "\n",
            "\n",
            "=========================================================================\n",
            "\n",
            "Número de ciclos de manutenção: 5 5\n",
            "Tempos para manutenções preventivas: [0, 3570, 3840, 5160, 6810, 8850]\n",
            "Severidade para cada subsistema: [0.25, 0.25, 0.25, 0.25, 0.25]\n",
            "Fator:  [0.3296799539643607, 0.3934693402873666, 0.3934693402873666, 0.3934693402873666, 0.3934693402873666, 0.3934693402873666]\n",
            "Media de falhas:  [0, 185562860593824.0, 203308508735582.97, 388422314096347.0, 1090610518204904.1, 3568366984139462.5, 2091801763980790.8]\n",
            "\n",
            "Custo =  207913569292800.56\n",
            "=========================================================================\n",
            "\n",
            "\n",
            "=========================================================================\n",
            "\n",
            "Número de ciclos de manutenção: 4 5\n",
            "Tempos para manutenções preventivas: [0, 3570, 6810, 7290, 7380]\n",
            "Severidade para cada subsistema: [0.25, 0.25, 0.25, 0.25]\n",
            "Fator:  [0.3296799539643607, 0.3934693402873666, 0.3934693402873666, 0.3934693402873666, 0.3934693402873666]\n",
            "Media de falhas:  [0, 185562860593824.0, 1975401653588313.0, 2257296727397978.0, 2314624121707076.5, 1724054528668367.0]\n",
            "\n",
            "Custo =  207913569292800.56\n",
            "=========================================================================\n",
            "\n",
            "\n",
            "=========================================================================\n",
            "\n",
            "Número de ciclos de manutenção: 5 5\n",
            "Tempos para manutenções preventivas: [0, 2160, 5640, 6810, 7290, 7380]\n",
            "Severidade para cada subsistema: [0.25, 0.25, 0.25, 0.25, 0.25]\n",
            "Fator:  [0.3296799539643607, 0.3934693402873666, 0.3934693402873666, 0.3934693402873666, 0.3934693402873666, 0.3934693402873666]\n",
            "Media de falhas:  [0, 15045919506432.002, 942951061427279.4, 1445588832276653.5, 1727483906086318.5, 1784811300395417.0, 1194241707356707.5]\n",
            "\n",
            "Custo =  27862813900800.93\n",
            "=========================================================================\n",
            "\n",
            "\n",
            "=========================================================================\n",
            "\n",
            "Número de ciclos de manutenção: 3 5\n",
            "Tempos para manutenções preventivas: [0, 1470, 2160, 4470]\n",
            "Severidade para cada subsistema: [0.25, 0.25, 0.25]\n",
            "Fator:  [0.3296799539643607, 0.3934693402873666, 0.3934693402873666, 0.3934693402873666]\n",
            "Media de falhas:  [0, 2196527536224.0002, 6123068720542.108, 203843799356312.12, 156598882289274.5]\n",
            "\n",
            "Custo =  5976945676801.361\n",
            "=========================================================================\n",
            "\n",
            "\n",
            "=========================================================================\n",
            "\n",
            "Número de ciclos de manutenção: 7 5\n",
            "Tempos para manutenções preventivas: [0, 1230, 2160, 4470, 6360, 6480, 6870, 7140]\n",
            "Severidade para cada subsistema: [0.25, 0.25, 0.25, 0.25, 0.25, 0.25, 0.25]\n",
            "Fator:  [0.3296799539643607, 0.3934693402873666, 0.3934693402873666, 0.3934693402873666, 0.3934693402873666, 0.3934693402873666, 0.3934693402873666, 0.3934693402873666]\n",
            "Media de falhas:  [0, 900897818976.0001, 6098942191675.153, 203819672827445.2, 816879523134678.2, 862123052036733.6, 1043654325532679.9, 1191894443581746.0, 692033072312623.8]\n",
            "\n",
            "Custo =  2929749004801.6265\n",
            "=========================================================================\n",
            "\n",
            "\n",
            "=========================================================================\n",
            "\n",
            "Número de ciclos de manutenção: 6 5\n",
            "Tempos para manutenções preventivas: [0, 1230, 2160, 4620, 6360, 6480, 6870]\n",
            "Severidade para cada subsistema: [0.25, 0.25, 0.25, 0.25, 0.25, 0.25]\n",
            "Fator:  [0.3296799539643607, 0.3934693402873666, 0.3934693402873666, 0.3934693402873666, 0.3934693402873666, 0.3934693402873666, 0.3934693402873666]\n",
            "Media de falhas:  [0, 900897818976.0001, 6098942191675.153, 248598906328068.34, 811994122954595.4, 857237651856650.8, 1038768925352597.0, 627224922026903.5]\n",
            "\n",
            "Custo =  2929749004801.6265\n",
            "=========================================================================\n",
            "\n",
            "\n",
            "=========================================================================\n",
            "\n",
            "Número de ciclos de manutenção: 8 5\n",
            "Tempos para manutenções preventivas: [0, 570, 1230, 4620, 5400, 6090, 6480, 6870, 7350]\n",
            "Severidade para cada subsistema: [0.25, 0.25, 0.25, 0.25, 0.25, 0.25, 0.25, 0.25]\n",
            "Fator:  [0.3296799539643607, 0.3934693402873666, 0.3934693402873666, 0.3934693402873666, 0.3934693402873666, 0.3934693402873666, 0.3934693402873666, 0.3934693402873666, 0.3934693402873666]\n",
            "Media de falhas:  [0, 19254145824.0, 409890780769.97186, 387655833191576.4, 521116571289283.8, 714204503535524.1, 857625749492582.0, 1039157022988528.2, 1330530347994801.5, 751971030197477.6]\n",
            "\n",
            "Custo =  135116812803.50877\n",
            "=========================================================================\n",
            "\n",
            "\n",
            "=========================================================================\n",
            "\n",
            "Número de ciclos de manutenção: 10 5\n",
            "Tempos para manutenções preventivas: [0, 570, 1050, 1170, 1230, 1830, 3480, 5400, 6090, 7350, 8850]\n",
            "Severidade para cada subsistema: [0.25, 0.25, 0.25, 0.25, 0.25, 0.25, 0.25, 0.25, 0.25, 0.25]\n",
            "Fator:  [0.3296799539643607, 0.3934693402873666, 0.3934693402873666, 0.3934693402873666, 0.3934693402873666, 0.3934693402873666, 0.3934693402873666, 0.3934693402873666, 0.3934693402873666, 0.3934693402873666, 0.3934693402873666]\n",
            "Media de falhas:  [0, 19254145824.0, 169016440629.4799, 214965113447.15408, 243790933585.2638, 1583771195036.6968, 52290311313924.42, 379344482017197.5, 572432414263437.9, 1307011795727057.0, 3146008446490407.0, 1669443226331735.2]\n",
            "\n",
            "Custo =  135116812803.50877\n",
            "=========================================================================\n",
            "\n",
            "\n",
            "=========================================================================\n",
            "\n",
            "Número de ciclos de manutenção: 9 5\n",
            "Tempos para manutenções preventivas: [0, 570, 1170, 1320, 2610, 3480, 5370, 6090, 7350, 8850]\n",
            "Severidade para cada subsistema: [0.25, 0.25, 0.25, 0.25, 0.25, 0.25, 0.25, 0.25, 0.25]\n",
            "Fator:  [0.3296799539643607, 0.3934693402873666, 0.3934693402873666, 0.3934693402873666, 0.3934693402873666, 0.3934693402873666, 0.3934693402873666, 0.3934693402873666, 0.3934693402873666, 0.3934693402873666]\n",
            "Media de falhas:  [0, 19254145824.0, 308989345889.6544, 401622470209.5696, 13076213927646.67, 38318329569746.78, 352889759629576.5, 553988013682579.0, 1288567395146198.2, 3127564045909548.5, 1650998825750876.8]\n",
            "\n",
            "Custo =  135116812803.50877\n",
            "=========================================================================\n",
            "\n",
            "\n",
            "=========================================================================\n",
            "\n",
            "Número de ciclos de manutenção: 7 5\n",
            "Tempos para manutenções preventivas: [0, 570, 1320, 2610, 3480, 3570, 7350, 8850]\n",
            "Severidade para cada subsistema: [0.25, 0.25, 0.25, 0.25, 0.25, 0.25, 0.25]\n",
            "Fator:  [0.3296799539643607, 0.3934693402873666, 0.3934693402873666, 0.3934693402873666, 0.3934693402873666, 0.3934693402873666, 0.3934693402873666, 0.3934693402873666]\n",
            "Media de falhas:  [0, 19254145824.0, 611680243290.5931, 13286271700727.693, 38528387342827.805, 41640932287141.26, 2403381345236870.0, 4242377996000220.0, 2765812775841548.0]\n",
            "\n",
            "Custo =  135116812803.50877\n",
            "=========================================================================\n",
            "\n",
            "\n",
            "=========================================================================\n",
            "\n",
            "Número de ciclos de manutenção: 3 5\n",
            "Tempos para manutenções preventivas: [0, 2610, 6810, 8850]\n",
            "Severidade para cada subsistema: [0.25, 0.25, 0.25]\n",
            "Fator:  [0.3296799539643607, 0.3934693402873666, 0.3934693402873666, 0.3934693402873666]\n",
            "Media de falhas:  [0, 38757210793632.0, 2418933957413574.0, 4896690423348132.0, 3420125203189460.0]\n",
            "\n",
            "Custo =  59398024204800.76\n",
            "=========================================================================\n",
            "\n"
          ]
        },
        {
          "output_type": "stream",
          "name": "stderr",
          "text": [
            "\rpyswarms.single.global_best:   0%|          |0/1"
          ]
        },
        {
          "output_type": "stream",
          "name": "stdout",
          "text": [
            "\n",
            "========================================================================="
          ]
        },
        {
          "output_type": "stream",
          "name": "stderr",
          "text": [
            "pyswarms.single.global_best: 100%|██████████|1/1, best_cost=2e+3\n",
            "2023-07-03 21:45:10,104 - pyswarms.single.global_best - INFO - Optimization finished | best cost: 2000.0, best pos: [0.33087466 0.17279839 0.95276017 0.79295105 0.6372959  0.04888972\n",
            " 0.66709131 0.36880935 0.02798279 0.96434589 0.52709001 0.58966465\n",
            " 0.56789791 0.01947415 0.64721697 0.70279875 0.81652973 0.70191665\n",
            " 0.66220258 0.95609862 0.23073373 0.50179005 0.72616288 0.45889679\n",
            " 0.2974919  0.38062153 0.02208088 0.08402499 0.15079708 0.9627369 ]\n",
            "2023-07-03 21:45:10,108 - pyswarms.single.global_best - INFO - Optimize for 1 iters with {'c1': 0.5, 'c2': 0.3, 'w': 0.9}\n"
          ]
        },
        {
          "output_type": "stream",
          "name": "stdout",
          "text": [
            "\n",
            "\n",
            "Número de ciclos de manutenção: 1 5\n",
            "Tempos para manutenções preventivas: [0, 5640]\n",
            "Severidade para cada subsistema: [0.25]\n",
            "Fator:  [0.3296799539643607, 0.3934693402873666]\n",
            "Media de falhas:  [0, 1826188057018368.2, 1578452376585670.5]\n",
            "\n",
            "Custo =  201821328254743.2\n",
            "=========================================================================\n",
            "\n"
          ]
        },
        {
          "output_type": "stream",
          "name": "stderr",
          "text": [
            "pyswarms.single.global_best: 100%|██████████|1/1, best_cost=2e+3\n",
            "2023-07-03 21:45:10,140 - pyswarms.single.global_best - INFO - Optimization finished | best cost: 2000.0, best pos: [0.33012275 0.17513203 0.95244839 0.79295953 0.63113172 0.02816085\n",
            " 0.66698854 0.35855564 0.02927531 0.9574956  0.52128554 0.57956632\n",
            " 0.56684839 0.01899349 0.64270974 0.68218165 0.81651934 0.70199986\n",
            " 0.59687043 0.9330357  0.23076303 0.50124807 0.69408877 0.43768705\n",
            " 0.25951678 0.38198662 0.02065997 0.06268331 0.141557   0.97259856]\n",
            "2023-07-03 21:45:10,143 - pyswarms.single.global_best - INFO - Optimize for 1 iters with {'c1': 0.5, 'c2': 0.3, 'w': 0.9}\n"
          ]
        },
        {
          "output_type": "stream",
          "name": "stdout",
          "text": [
            "\n",
            "=========================================================================\n",
            "\n",
            "Número de ciclos de manutenção: 3 5\n",
            "Tempos para manutenções preventivas: [0, 1470, 2160, 5640]\n",
            "Severidade para cada subsistema: [0.25, 0.25, 0.25]\n",
            "Fator:  [0.3296799539643607, 0.3934693402873666, 0.3934693402873666, 0.3934693402873666]\n",
            "Media de falhas:  [0, 2196527536224.0002, 6123068720542.108, 811892048514269.9, 659645892741901.4]\n",
            "\n",
            "Custo =  5976945676801.361\n",
            "=========================================================================\n",
            "\n"
          ]
        },
        {
          "output_type": "stream",
          "name": "stderr",
          "text": [
            "pyswarms.single.global_best: 100%|██████████|1/1, best_cost=2e+3\n",
            "2023-07-03 21:45:10,166 - pyswarms.single.global_best - INFO - Optimization finished | best cost: 2000.0, best pos: [0.32955225 0.17701573 0.95180582 0.7929412  0.6262378  0.00739045\n",
            " 0.66672518 0.35219948 0.02865765 0.9518302  0.51617847 0.57483918\n",
            " 0.56597004 0.0192882  0.63954901 0.6665417  0.81650676 0.7022367\n",
            " 0.54839137 0.91465092 0.23078955 0.49868974 0.69238957 0.41824165\n",
            " 0.22742031 0.39164422 0.01866657 0.04346    0.13824351 0.97904538]\n",
            "2023-07-03 21:45:10,172 - pyswarms.single.global_best - INFO - Optimize for 1 iters with {'c1': 0.5, 'c2': 0.3, 'w': 0.9}\n"
          ]
        },
        {
          "output_type": "stream",
          "name": "stdout",
          "text": [
            "\n",
            "=========================================================================\n",
            "\n",
            "Número de ciclos de manutenção: 10 5\n",
            "Tempos para manutenções preventivas: [0, 1470, 2160, 3720, 4170, 4470, 5640, 6870, 7260, 8280, 8370]\n",
            "Severidade para cada subsistema: [0.25, 0.25, 0.25, 0.25, 0.25, 0.25, 0.25, 0.25, 0.25, 0.25]\n",
            "Fator:  [0.3296799539643607, 0.3934693402873666, 0.3934693402873666, 0.3934693402873666, 0.3934693402873666, 0.3934693402873666, 0.3934693402873666, 0.3934693402873666, 0.3934693402873666, 0.3934693402873666, 0.3934693402873666]\n",
            "Media de falhas:  [0, 2196527536224.0002, 6123068720542.108, 67209801931370.74, 94951636210923.16, 119840093395739.4, 354786489495234.9, 901195505962305.5, 1127976452605723.5, 2099652895349646.0, 2194595235645713.8, 1080132108930307.9]\n",
            "\n",
            "Custo =  5976945676801.361\n",
            "=========================================================================\n",
            "\n"
          ]
        },
        {
          "output_type": "stream",
          "name": "stderr",
          "text": [
            "pyswarms.single.global_best: 100%|██████████|1/1, best_cost=2e+3\n",
            "2023-07-03 21:45:10,202 - pyswarms.single.global_best - INFO - Optimization finished | best cost: 2000.0, best pos: [ 0.32921513  0.17853785  0.95079071  0.79289945  0.6223444  -0.0113753\n",
            "  0.66635344  0.34683397  0.02743463  0.9473004   0.51521736  0.57605195\n",
            "  0.56541401  0.02132648  0.63767452  0.65404055  0.81649244  0.70252101\n",
            "  0.51725265  0.91225254  0.23081077  0.49607751  0.70239519  0.40262071\n",
            "  0.2039349   0.40194043  0.01665897  0.02680945  0.13578386  0.97845837]\n",
            "2023-07-03 21:45:10,208 - pyswarms.single.global_best - INFO - Optimize for 1 iters with {'c1': 0.5, 'c2': 0.3, 'w': 0.9}\n"
          ]
        },
        {
          "output_type": "stream",
          "name": "stdout",
          "text": [
            "\n",
            "=========================================================================\n",
            "\n",
            "Número de ciclos de manutenção: 13 5\n",
            "Tempos para manutenções preventivas: [0, 1470, 2670, 2790, 3720, 4170, 4470, 6570, 6870, 7260, 7530, 8280, 8370, 8970]\n",
            "Severidade para cada subsistema: [0.25, 0.25, 0.25, 0.25, 0.25, 0.25, 0.25, 0.25, 0.25, 0.25, 0.25, 0.25, 0.25]\n",
            "Fator:  [0.3296799539643607, 0.3934693402873666, 0.3934693402873666, 0.3934693402873666, 0.3934693402873666, 0.3934693402873666, 0.3934693402873666, 0.3934693402873666, 0.3934693402873666, 0.3934693402873666, 0.3934693402873666, 0.3934693402873666, 0.3934693402873666, 0.3934693402873666]\n",
            "Media de falhas:  [0, 2196527536224.0002, 17849797552611.188, 19381108259149.457, 54613670817061.05, 82355505096613.47, 107243962281429.72, 885290930056857.8, 1025975245957404.6, 1252756192600822.5, 1436354042005976.5, 2160505007356305.0, 2255447347652372.5, 3062717063113917.0, 1482328135755890.8]\n",
            "\n",
            "Custo =  5976945676801.361\n",
            "=========================================================================\n",
            "\n"
          ]
        },
        {
          "output_type": "stream",
          "name": "stderr",
          "text": [
            "pyswarms.single.global_best: 100%|██████████|1/1, best_cost=2e+3\n",
            "2023-07-03 21:45:10,240 - pyswarms.single.global_best - INFO - Optimization finished | best cost: 2000.0, best pos: [ 0.32893066  0.17897756  0.94970608  0.79285306  0.62142208 -0.02554605\n",
            "  0.66596005  0.34361291  0.0251934   0.94514448  0.51560265  0.57727667\n",
            "  0.56503974  0.02478119  0.64069613  0.65162165  0.81647564  0.7029672\n",
            "  0.52355741  0.92160803  0.23082774  0.49333745  0.71598454  0.39322336\n",
            "  0.18446955  0.41809998  0.01493038  0.01845714  0.13988814  0.97673837]\n",
            "2023-07-03 21:45:10,242 - pyswarms.single.global_best - INFO - Optimize for 1 iters with {'c1': 0.5, 'c2': 0.3, 'w': 0.9}\n"
          ]
        },
        {
          "output_type": "stream",
          "name": "stdout",
          "text": [
            "\n",
            "=========================================================================\n",
            "\n",
            "Número de ciclos de manutenção: 22 5\n",
            "Tempos para manutenções preventivas: [0, 960, 1470, 2370, 2670, 2790, 3720, 3870, 4170, 4470, 4620, 5070, 5970, 6270, 6360, 6570, 6870, 7260, 7350, 7530, 8280, 8370, 8970]\n",
            "Severidade para cada subsistema: [0.25, 0.25, 0.25, 0.25, 0.25, 0.25, 0.25, 0.25, 0.25, 0.25, 0.25, 0.25, 0.25, 0.25, 0.25, 0.25, 0.25, 0.25, 0.25, 0.25, 0.25, 0.25]\n",
            "Fator:  [0.3296799539643607, 0.3934693402873666, 0.3934693402873666, 0.3934693402873666, 0.3934693402873666, 0.3934693402873666, 0.3934693402873666, 0.3934693402873666, 0.3934693402873666, 0.3934693402873666, 0.3934693402873666, 0.3934693402873666, 0.3934693402873666, 0.3934693402873666, 0.3934693402873666, 0.3934693402873666, 0.3934693402873666, 0.3934693402873666, 0.3934693402873666, 0.3934693402873666, 0.3934693402873666, 0.3934693402873666, 0.3934693402873666]\n",
            "Media de falhas:  [0, 260919263232.00003, 879116736268.4235, 6605656470865.122, 9708537353124.617, 11239848059662.887, 46472410617574.484, 53576322968802.83, 72379420572695.11, 97267877757511.38, 111751740760191.22, 172881894617042.06, 402499113988496.6, 499871142879749.6, 531450093998584.6, 614404836329214.2, 755089152229761.1, 981870098873179.1, 1038269126161286.9, 1161583716859120.2, 1885734682209448.8, 1980677022505516.5, 2787946737967061.0, 1207557810609034.8]\n",
            "\n",
            "Custo =  1087163596802.0835\n",
            "=========================================================================\n",
            "\n"
          ]
        },
        {
          "output_type": "stream",
          "name": "stderr",
          "text": [
            "pyswarms.single.global_best: 100%|██████████|1/1, best_cost=2e+3\n",
            "2023-07-03 21:45:10,277 - pyswarms.single.global_best - INFO - Optimization finished | best cost: 2000.0, best pos: [ 0.32875778  0.17889087  0.94820307  0.79280931  0.62197123 -0.03796007\n",
            "  0.6653085   0.34839816  0.02182393  0.94516184  0.51808822  0.57864244\n",
            "  0.56495422  0.02818087  0.6465411   0.66025258  0.816461    0.70341536\n",
            "  0.57349089  0.93099205  0.23083995  0.4909575   0.74403656  0.39459971\n",
            "  0.18026878  0.43605039  0.01389784  0.01621799  0.14492718  0.97032247]\n",
            "2023-07-03 21:45:10,281 - pyswarms.single.global_best - INFO - Optimize for 1 iters with {'c1': 0.5, 'c2': 0.3, 'w': 0.9}\n"
          ]
        },
        {
          "output_type": "stream",
          "name": "stdout",
          "text": [
            "\n",
            "=========================================================================\n",
            "\n",
            "Número de ciclos de manutenção: 33 5\n",
            "Tempos para manutenções preventivas: [0, 960, 1470, 1860, 2370, 2670, 2790, 3270, 3720, 3870, 4170, 4470, 4620, 4770, 4920, 5070, 5670, 5970, 6270, 6360, 6570, 6840, 6870, 6960, 7260, 7350, 7470, 7530, 7770, 8070, 8160, 8280, 8370, 8970]\n",
            "Severidade para cada subsistema: [0.25, 0.25, 0.25, 0.25, 0.25, 0.25, 0.25, 0.25, 0.25, 0.25, 0.25, 0.25, 0.25, 0.25, 0.25, 0.25, 0.25, 0.25, 0.25, 0.25, 0.25, 0.25, 0.25, 0.25, 0.25, 0.25, 0.25, 0.25, 0.25, 0.25, 0.25, 0.25, 0.25]\n",
            "Fator:  [0.3296799539643607, 0.3934693402873666, 0.3934693402873666, 0.3934693402873666, 0.3934693402873666, 0.3934693402873666, 0.3934693402873666, 0.3934693402873666, 0.3934693402873666, 0.3934693402873666, 0.3934693402873666, 0.3934693402873666, 0.3934693402873666, 0.3934693402873666, 0.3934693402873666, 0.3934693402873666, 0.3934693402873666, 0.3934693402873666, 0.3934693402873666, 0.3934693402873666, 0.3934693402873666, 0.3934693402873666, 0.3934693402873666, 0.3934693402873666, 0.3934693402873666, 0.3934693402873666, 0.3934693402873666, 0.3934693402873666, 0.3934693402873666, 0.3934693402873666, 0.3934693402873666, 0.3934693402873666, 0.3934693402873666, 0.3934693402873666]\n",
            "Media de falhas:  [0, 260919263232.00003, 879116736268.4235, 1805215854480.8594, 4995432234641.349, 8098313116900.844, 9629623823439.113, 20665480216886.754, 38145490068326.06, 45249402419554.41, 64052500023446.69, 88940957208262.94, 103424820210942.78, 119893704473988.28, 138545026192689.95, 159588879045681.06, 286131652374949.3, 366053193673415.1, 463425222564668.1, 495004173683503.1, 577958916014132.8, 702687181844749.9, 717113569421376.9, 762440849819381.9, 938138622949127.2, 994537650237235.0, 1074565183894245.0, 1116105217329801.1, 1301691213325172.5, 1570592180326748.2, 1656342889180973.0, 1777271924554462.2, 1872214264850530.0, 2679483980312075.0, 1099095052954048.8]\n",
            "\n",
            "Custo =  1087163596802.0835\n",
            "=========================================================================\n",
            "\n"
          ]
        },
        {
          "output_type": "stream",
          "name": "stderr",
          "text": [
            "pyswarms.single.global_best: 100%|██████████|1/1, best_cost=2e+3\n",
            "2023-07-03 21:45:10,315 - pyswarms.single.global_best - INFO - Optimization finished | best cost: 2000.0, best pos: [ 0.32900759  0.17787985  0.9468498   0.79277677  0.62397209 -0.04845736\n",
            "  0.66455954  0.35310782  0.01837894  0.94701447  0.5227382   0.58389402\n",
            "  0.56523804  0.03120484  0.65242596  0.6694275   0.81645203  0.70377821\n",
            "  0.64712184  0.94848743  0.23084615  0.48885838  0.78046052  0.40185108\n",
            "  0.19862215  0.45291662  0.01362521  0.01742867  0.14987594  0.96300472]\n"
          ]
        },
        {
          "output_type": "stream",
          "name": "stdout",
          "text": [
            "\n",
            "=========================================================================\n",
            "\n",
            "Número de ciclos de manutenção: 40 5\n",
            "Tempos para manutenções preventivas: [0, 960, 1470, 1860, 2070, 2280, 2370, 2670, 2790, 2820, 3270, 3870, 4170, 4470, 4560, 4770, 4920, 5070, 5460, 5520, 5670, 5970, 6060, 6270, 6360, 6570, 6780, 6840, 6870, 6960, 7260, 7470, 7530, 7770, 7860, 8070, 8160, 8190, 8280, 8370, 8970]\n",
            "Severidade para cada subsistema: [0.25, 0.25, 0.25, 0.25, 0.25, 0.25, 0.25, 0.25, 0.25, 0.25, 0.25, 0.25, 0.25, 0.25, 0.25, 0.25, 0.25, 0.25, 0.25, 0.25, 0.25, 0.25, 0.25, 0.25, 0.25, 0.25, 0.25, 0.25, 0.25, 0.25, 0.25, 0.25, 0.25, 0.25, 0.25, 0.25, 0.25, 0.25, 0.25, 0.25]\n",
            "Fator:  [0.3296799539643607, 0.3934693402873666, 0.3934693402873666, 0.3934693402873666, 0.3934693402873666, 0.3934693402873666, 0.3934693402873666, 0.3934693402873666, 0.3934693402873666, 0.3934693402873666, 0.3934693402873666, 0.3934693402873666, 0.3934693402873666, 0.3934693402873666, 0.3934693402873666, 0.3934693402873666, 0.3934693402873666, 0.3934693402873666, 0.3934693402873666, 0.3934693402873666, 0.3934693402873666, 0.3934693402873666, 0.3934693402873666, 0.3934693402873666, 0.3934693402873666, 0.3934693402873666, 0.3934693402873666, 0.3934693402873666, 0.3934693402873666, 0.3934693402873666, 0.3934693402873666, 0.3934693402873666, 0.3934693402873666, 0.3934693402873666, 0.3934693402873666, 0.3934693402873666, 0.3934693402873666, 0.3934693402873666, 0.3934693402873666, 0.3934693402873666, 0.3934693402873666]\n",
            "Media de falhas:  [0, 260919263232.00003, 879116736268.4235, 1805215854480.8594, 2593450329298.8467, 3758388854845.919, 4358184480370.141, 7461065362629.636, 8992376069167.904, 9400194449132.406, 19776166618133.164, 46774124525652.35, 65577222129544.63, 90465679314360.89, 98780097719830.36, 121662382052533.81, 140313703771235.48, 161357556624226.6, 233221825462923.44, 245194437881938.5, 278176714044281.72, 358098255342747.5, 384115273731104.6, 452860194415528.0, 484439145534363.0, 567393887864992.6, 661531876843394.1, 689798485487948.2, 704224873064575.2, 749552153462580.2, 925249926592325.5, 1064214723877364.6, 1105754757312920.8, 1291340753308292.0, 1365138684477300.2, 1554673774261890.5, 1640424483116115.2, 1669577117566922.8, 1760494143123817.5, 1855436483419885.2, 2662706198881430.0, 1082317271523403.8]\n",
            "\n",
            "Custo =  1087163596802.0835\n",
            "=========================================================================\n",
            "\n"
          ]
        },
        {
          "output_type": "stream",
          "name": "stderr",
          "text": [
            "2023-07-03 21:45:10,317 - pyswarms.single.global_best - INFO - Optimize for 1 iters with {'c1': 0.5, 'c2': 0.3, 'w': 0.9}\n",
            "pyswarms.single.global_best: 100%|██████████|1/1, best_cost=2e+3\n",
            "2023-07-03 21:45:10,354 - pyswarms.single.global_best - INFO - Optimization finished | best cost: 2000.0, best pos: [ 0.3295087   0.17669822  0.94583086  0.79276016  0.62625825 -0.04349923\n",
            "  0.66394342  0.36156779  0.01488426  0.9491408   0.52693178  0.59101636\n",
            "  0.56554981  0.03320078  0.65869282  0.67777152  0.81644482  0.70402627\n",
            "  0.71488495  0.97042743  0.23083435  0.48739937  0.81495741  0.4169069\n",
            "  0.21989293  0.46789872  0.01395787  0.02257632  0.15545633  0.95538643]\n"
          ]
        },
        {
          "output_type": "stream",
          "name": "stdout",
          "text": [
            "\n",
            "=========================================================================\n",
            "\n",
            "Número de ciclos de manutenção: 43 5\n",
            "Tempos para manutenções preventivas: [0, 960, 1170, 1470, 1860, 2070, 2280, 2370, 2670, 2760, 2790, 3270, 3570, 3870, 4170, 4470, 4560, 4770, 4980, 5070, 5370, 5460, 5520, 5670, 5970, 6060, 6270, 6360, 6390, 6570, 6780, 6870, 6960, 7470, 7530, 7770, 7860, 8070, 8160, 8190, 8370, 8610, 8670, 8970]\n",
            "Severidade para cada subsistema: [0.25, 0.25, 0.25, 0.25, 0.25, 0.25, 0.25, 0.25, 0.25, 0.25, 0.25, 0.25, 0.25, 0.25, 0.25, 0.25, 0.25, 0.25, 0.25, 0.25, 0.25, 0.25, 0.25, 0.25, 0.25, 0.25, 0.25, 0.25, 0.25, 0.25, 0.25, 0.25, 0.25, 0.25, 0.25, 0.25, 0.25, 0.25, 0.25, 0.25, 0.25, 0.25, 0.25]\n",
            "Fator:  [0.3296799539643607, 0.3934693402873666, 0.3934693402873666, 0.3934693402873666, 0.3934693402873666, 0.3934693402873666, 0.3934693402873666, 0.3934693402873666, 0.3934693402873666, 0.3934693402873666, 0.3934693402873666, 0.3934693402873666, 0.3934693402873666, 0.3934693402873666, 0.3934693402873666, 0.3934693402873666, 0.3934693402873666, 0.3934693402873666, 0.3934693402873666, 0.3934693402873666, 0.3934693402873666, 0.3934693402873666, 0.3934693402873666, 0.3934693402873666, 0.3934693402873666, 0.3934693402873666, 0.3934693402873666, 0.3934693402873666, 0.3934693402873666, 0.3934693402873666, 0.3934693402873666, 0.3934693402873666, 0.3934693402873666, 0.3934693402873666, 0.3934693402873666, 0.3934693402873666, 0.3934693402873666, 0.3934693402873666, 0.3934693402873666, 0.3934693402873666, 0.3934693402873666, 0.3934693402873666, 0.3934693402873666, 0.3934693402873666]\n",
            "Media de falhas:  [0, 260919263232.00003, 370546939670.9568, 648683174407.3478, 1574782292619.7837, 2363016767437.7705, 3527955292984.843, 4127750918509.065, 7230631800768.56, 8337424473081.17, 8728133692406.556, 19763990085854.195, 29804807330220.273, 43714359152137.266, 62517456756029.55, 87405913940845.81, 95720332346315.28, 118602616679018.75, 145818196323919.94, 158540558668793.44, 210695429424555.06, 227821932285781.44, 239794544704796.5, 272776820867139.72, 352698362165605.5, 378715380553962.6, 447460301238386.0, 479039252357221.0, 489834576164175.06, 561141648814391.06, 655279637792792.6, 698302615624824.8, 743629896022829.8, 1073419365386392.1, 1114959398821948.2, 1300545394817319.5, 1374343325986327.8, 1563878415770918.0, 1649629124625142.8, 1678781759075950.2, 1867322957533262.8, 2147667376287093.2, 2220726452557325.2, 2632117645811329.5, 1051728718453303.2]\n",
            "\n",
            "Custo =  1087163596802.0835\n",
            "=========================================================================\n",
            "\n"
          ]
        },
        {
          "output_type": "stream",
          "name": "stderr",
          "text": [
            "2023-07-03 21:45:10,356 - pyswarms.single.global_best - INFO - Optimize for 1 iters with {'c1': 0.5, 'c2': 0.3, 'w': 0.9}\n",
            "pyswarms.single.global_best: 100%|██████████|1/1, best_cost=2e+3\n",
            "2023-07-03 21:45:10,380 - pyswarms.single.global_best - INFO - Optimization finished | best cost: 2000.0, best pos: [ 0.33029581  0.17499412  0.94547379  0.7927616   0.62841277 -0.02953604\n",
            "  0.66347966  0.37113907  0.01178127  0.95543695  0.53078858  0.59997424\n",
            "  0.56607441  0.03363388  0.66435574  0.68795493  0.81644255  0.70416567\n",
            "  0.77293881  0.99377977  0.23082166  0.48632983  0.84476059  0.43329896\n",
            "  0.24430096  0.47413909  0.01528495  0.03311298  0.16163877  0.94846744]\n",
            "2023-07-03 21:45:10,381 - pyswarms.single.global_best - INFO - Optimize for 1 iters with {'c1': 0.5, 'c2': 0.3, 'w': 0.9}\n"
          ]
        },
        {
          "output_type": "stream",
          "name": "stdout",
          "text": [
            "\n",
            "=========================================================================\n",
            "\n",
            "Número de ciclos de manutenção: 42 5\n",
            "Tempos para manutenções preventivas: [0, 960, 1170, 1470, 1860, 2070, 2280, 2370, 2460, 2670, 2760, 2970, 3270, 3570, 3870, 4170, 4470, 4560, 4770, 4980, 5010, 5070, 5370, 5460, 5520, 5670, 5970, 6060, 6270, 6360, 6390, 6570, 6780, 6960, 7470, 7770, 7860, 8160, 8190, 8370, 8610, 8670, 8970]\n",
            "Severidade para cada subsistema: [0.25, 0.25, 0.25, 0.25, 0.25, 0.25, 0.25, 0.25, 0.25, 0.25, 0.25, 0.25, 0.25, 0.25, 0.25, 0.25, 0.25, 0.25, 0.25, 0.25, 0.25, 0.25, 0.25, 0.25, 0.25, 0.25, 0.25, 0.25, 0.25, 0.25, 0.25, 0.25, 0.25, 0.25, 0.25, 0.25, 0.25, 0.25, 0.25, 0.25, 0.25, 0.25]\n",
            "Fator:  [0.3296799539643607, 0.3934693402873666, 0.3934693402873666, 0.3934693402873666, 0.3934693402873666, 0.3934693402873666, 0.3934693402873666, 0.3934693402873666, 0.3934693402873666, 0.3934693402873666, 0.3934693402873666, 0.3934693402873666, 0.3934693402873666, 0.3934693402873666, 0.3934693402873666, 0.3934693402873666, 0.3934693402873666, 0.3934693402873666, 0.3934693402873666, 0.3934693402873666, 0.3934693402873666, 0.3934693402873666, 0.3934693402873666, 0.3934693402873666, 0.3934693402873666, 0.3934693402873666, 0.3934693402873666, 0.3934693402873666, 0.3934693402873666, 0.3934693402873666, 0.3934693402873666, 0.3934693402873666, 0.3934693402873666, 0.3934693402873666, 0.3934693402873666, 0.3934693402873666, 0.3934693402873666, 0.3934693402873666, 0.3934693402873666, 0.3934693402873666, 0.3934693402873666, 0.3934693402873666, 0.3934693402873666]\n",
            "Media de falhas:  [0, 260919263232.00003, 370546939670.9568, 648683174407.3478, 1574782292619.7837, 2363016767437.7705, 3527955292984.843, 4127750918509.065, 4824561572534.642, 7029365832252.775, 8136158504565.386, 11525250741326.93, 18567770423991.83, 28608587668357.906, 42518139490274.89, 61321237094167.17, 86209694278983.44, 94524112684452.9, 117406397017156.38, 144621976662057.56, 148697621934115.84, 157212579810204.0, 209367450565965.62, 226493953427192.0, 238466565846207.06, 271448842008550.28, 351370383307016.06, 377387401695373.2, 446132322379796.56, 477711273498631.56, 488506597305585.6, 559813669955801.6, 653951658934203.1, 743845471239125.9, 1073634940602688.2, 1304525840297500.5, 1378323771466508.8, 1659492206280758.0, 1688644840731565.5, 1877186039188878.0, 2157530457942708.5, 2230589534212940.5, 2641980727466944.5, 1061591800108918.2]\n",
            "\n",
            "Custo =  1087163596802.0835\n",
            "=========================================================================\n",
            "\n"
          ]
        },
        {
          "output_type": "stream",
          "name": "stderr",
          "text": [
            "pyswarms.single.global_best:   0%|          |0/1, best_cost=2e+3"
          ]
        },
        {
          "output_type": "stream",
          "name": "stdout",
          "text": [
            "\n",
            "=========================================================================\n",
            "\n",
            "Número de ciclos de manutenção: 40 5\n",
            "Tempos para manutenções preventivas: [0, 570, 960, 1170, 1470, 1770, 1860, 2070, 2280, 2370, 2460, 2970, 3270, 3360, 3570, 3870, 4170, 4470, 4560, 4770, 4980, 5010, 5070, 5370, 5460, 5670, 5970, 6060, 6360, 6390, 6570, 6780, 6960, 7470, 7770, 7860, 8160, 8190, 8610, 8670, 8970]\n",
            "Severidade para cada subsistema: [0.25, 0.25, 0.25, 0.25, 0.25, 0.25, 0.25, 0.25, 0.25, 0.25, 0.25, 0.25, 0.25, 0.25, 0.25, 0.25, 0.25, 0.25, 0.25, 0.25, 0.25, 0.25, 0.25, 0.25, 0.25, 0.25, 0.25, 0.25, 0.25, 0.25, 0.25, 0.25, 0.25, 0.25, 0.25, 0.25, 0.25, 0.25, 0.25, 0.25]\n",
            "Fator:  [0.3296799539643607, 0.3934693402873666, 0.3934693402873666, 0.3934693402873666, 0.3934693402873666, 0.3934693402873666, 0.3934693402873666, 0.3934693402873666, 0.3934693402873666, 0.3934693402873666, 0.3934693402873666, 0.3934693402873666, 0.3934693402873666, 0.3934693402873666, 0.3934693402873666, 0.3934693402873666, 0.3934693402873666, 0.3934693402873666, 0.3934693402873666, 0.3934693402873666, 0.3934693402873666, 0.3934693402873666, 0.3934693402873666, 0.3934693402873666, 0.3934693402873666, 0.3934693402873666, 0.3934693402873666, 0.3934693402873666, 0.3934693402873666, 0.3934693402873666, 0.3934693402873666, 0.3934693402873666, 0.3934693402873666, 0.3934693402873666, 0.3934693402873666, 0.3934693402873666, 0.3934693402873666, 0.3934693402873666, 0.3934693402873666, 0.3934693402873666, 0.3934693402873666]\n",
            "Media de falhas:  [0, 19254145824.0, 104443083781.70773, 182913794151.28104, 461050028887.672, 1049528957131.9445, 1275681899869.9604, 2063916374687.9475, 3228854900235.02, 3828650525759.242, 4525461179784.819, 12452039048173.955, 19494558730838.855, 21934424342312.51, 29054139047348.13, 42963690869265.12, 61766788473157.4, 86655245657973.66, 94969664063443.12, 117851948396146.6, 145067528041047.8, 149143173313106.1, 157658131189194.25, 209813001944955.88, 226939504806182.25, 272813297305992.62, 352734838604458.4, 378751856992815.5, 481876394334692.4, 492671718141646.44, 563978790791862.5, 658116779770264.0, 748010592075186.8, 1077800061438749.1, 1308690961133561.5, 1382488892302569.8, 1663657327116819.0, 1692809961567626.5, 2177285520628835.5, 2250344596899067.5, 2661735790153071.5, 1081346862795045.2]\n",
            "\n",
            "Custo =  135116812803.50877\n",
            "=========================================================================\n",
            "\n"
          ]
        },
        {
          "output_type": "stream",
          "name": "stderr",
          "text": [
            "\rpyswarms.single.global_best: 100%|██████████|1/1, best_cost=2e+3\n",
            "2023-07-03 21:45:10,440 - pyswarms.single.global_best - INFO - Optimization finished | best cost: 2000.0, best pos: [ 0.33104732  0.17335371  0.94553755  0.7927728   0.63061216 -0.01198891\n",
            "  0.66307564  0.37973042  0.00945408  0.96545606  0.53377312  0.60910956\n",
            "  0.56655815  0.03366765  0.66823185  0.7000324   0.81644183  0.70412755\n",
            "  0.8020951   1.01468439  0.23080722  0.48753705  0.85678256  0.44823512\n",
            "  0.26930933  0.47578737  0.01649539  0.04460187  0.16711122  0.94229946]\n",
            "2023-07-03 21:45:10,442 - pyswarms.single.global_best - INFO - Optimize for 1 iters with {'c1': 0.5, 'c2': 0.3, 'w': 0.9}\n",
            "pyswarms.single.global_best: 100%|██████████|1/1, best_cost=2e+3\n",
            "2023-07-03 21:45:10,461 - pyswarms.single.global_best - INFO - Optimization finished | best cost: 2000.0, best pos: [0.33160476 0.17196927 0.94569745 0.79279476 0.63284232 0.00537917\n",
            " 0.66314619 0.38643801 0.00741814 0.97612687 0.53642109 0.61725223\n",
            " 0.56712155 0.03294028 0.66988454 0.71106721 0.81644267 0.70382425\n",
            " 0.82089845 1.02909792 0.23078621 0.48920957 0.86047462 0.45816686\n",
            " 0.29280688 0.47072206 0.01786473 0.05871856 0.1706484  0.93841067]\n",
            "2023-07-03 21:45:10,462 - pyswarms.single.global_best - INFO - Optimize for 1 iters with {'c1': 0.5, 'c2': 0.3, 'w': 0.9}\n"
          ]
        },
        {
          "output_type": "stream",
          "name": "stdout",
          "text": [
            "\n",
            "=========================================================================\n",
            "\n",
            "Número de ciclos de manutenção: 28 5\n",
            "Tempos para manutenções preventivas: [0, 570, 960, 1170, 1770, 1860, 2070, 2370, 2460, 2970, 3270, 3360, 3570, 4470, 4560, 4770, 4980, 5010, 5370, 5460, 5670, 5970, 6360, 6570, 6780, 7470, 7770, 8160, 8670]\n",
            "Severidade para cada subsistema: [0.25, 0.25, 0.25, 0.25, 0.25, 0.25, 0.25, 0.25, 0.25, 0.25, 0.25, 0.25, 0.25, 0.25, 0.25, 0.25, 0.25, 0.25, 0.25, 0.25, 0.25, 0.25, 0.25, 0.25, 0.25, 0.25, 0.25, 0.25]\n",
            "Fator:  [0.3296799539643607, 0.3934693402873666, 0.3934693402873666, 0.3934693402873666, 0.3934693402873666, 0.3934693402873666, 0.3934693402873666, 0.3934693402873666, 0.3934693402873666, 0.3934693402873666, 0.3934693402873666, 0.3934693402873666, 0.3934693402873666, 0.3934693402873666, 0.3934693402873666, 0.3934693402873666, 0.3934693402873666, 0.3934693402873666, 0.3934693402873666, 0.3934693402873666, 0.3934693402873666, 0.3934693402873666, 0.3934693402873666, 0.3934693402873666, 0.3934693402873666, 0.3934693402873666, 0.3934693402873666, 0.3934693402873666, 0.3934693402873666]\n",
            "Media de falhas:  [0, 19254145824.0, 104443083781.70773, 182913794151.28104, 1358176709145.0066, 1584329651883.0225, 2372564126701.01, 4288497422853.6357, 4985308076879.213, 12911885945268.348, 19954405627933.246, 22394271239406.902, 29513985944442.52, 100883504960865.95, 109197923366335.42, 132080207699038.88, 159295787343940.06, 163371432615998.34, 225581877421515.4, 242708380282741.78, 288582172782552.2, 368503714081018.0, 501511000660368.0, 584465742990997.6, 678603731969399.1, 1119588687128930.8, 1350479586823743.0, 1713625561460566.2, 2315099754472273.0, 983950209103395.8]\n",
            "\n",
            "Custo =  135116812803.50877\n",
            "=========================================================================\n",
            "\n"
          ]
        },
        {
          "output_type": "stream",
          "name": "stderr",
          "text": [
            "pyswarms.single.global_best:   0%|          |0/1, best_cost=2e+3"
          ]
        },
        {
          "output_type": "stream",
          "name": "stdout",
          "text": [
            "\n",
            "=========================================================================\n",
            "\n",
            "Número de ciclos de manutenção: 23 5\n",
            "Tempos para manutenções preventivas: [0, 570, 960, 1170, 1770, 2070, 2370, 2460, 2970, 3270, 3360, 3570, 4560, 4770, 4980, 5370, 5460, 5670, 5970, 6090, 7470, 7770, 8160, 8670]\n",
            "Severidade para cada subsistema: [0.25, 0.25, 0.25, 0.25, 0.25, 0.25, 0.25, 0.25, 0.25, 0.25, 0.25, 0.25, 0.25, 0.25, 0.25, 0.25, 0.25, 0.25, 0.25, 0.25, 0.25, 0.25, 0.25]\n",
            "Fator:  [0.3296799539643607, 0.3934693402873666, 0.3934693402873666, 0.3934693402873666, 0.3934693402873666, 0.3934693402873666, 0.3934693402873666, 0.3934693402873666, 0.3934693402873666, 0.3934693402873666, 0.3934693402873666, 0.3934693402873666, 0.3934693402873666, 0.3934693402873666, 0.3934693402873666, 0.3934693402873666, 0.3934693402873666, 0.3934693402873666, 0.3934693402873666, 0.3934693402873666, 0.3934693402873666, 0.3934693402873666, 0.3934693402873666, 0.3934693402873666]\n",
            "Media de falhas:  [0, 19254145824.0, 104443083781.70773, 182913794151.28104, 1358176709145.0066, 2466386740235.1875, 4382320036387.8135, 5079130690413.391, 13005708558802.527, 20048228241467.426, 22488093852941.082, 29607808557976.7, 114459549396729.08, 137341833729432.53, 164557413374333.75, 231758254877507.8, 248884757738734.2, 294758550238544.56, 374680091537010.4, 409948801361710.1, 1265890491110543.0, 1496781390805355.5, 1859927365442178.8, 2461401558453886.0, 1130252013085008.8]\n",
            "\n",
            "Custo =  135116812803.50877\n",
            "=========================================================================\n",
            "\n"
          ]
        },
        {
          "output_type": "stream",
          "name": "stderr",
          "text": [
            "\rpyswarms.single.global_best: 100%|██████████|1/1, best_cost=2e+3\n",
            "2023-07-03 21:45:10,484 - pyswarms.single.global_best - INFO - Optimization finished | best cost: 2000.0, best pos: [0.33201361 0.17102819 0.94644223 0.79281536 0.63503897 0.02064695\n",
            " 0.66353424 0.39002683 0.00762143 0.98510113 0.5379883  0.62352574\n",
            " 0.56765191 0.0319433  0.66935071 0.72097823 0.81644744 0.7034922\n",
            " 0.81043347 1.03267574 0.23076728 0.49155208 0.8506107  0.46669579\n",
            " 0.31227493 0.46606258 0.01902052 0.07181729 0.1717669  0.93845301]\n",
            "2023-07-03 21:45:10,486 - pyswarms.single.global_best - INFO - Optimize for 1 iters with {'c1': 0.5, 'c2': 0.3, 'w': 0.9}\n",
            "pyswarms.single.global_best:   0%|          |0/1, best_cost=2e+3"
          ]
        },
        {
          "output_type": "stream",
          "name": "stdout",
          "text": [
            "\n",
            "=========================================================================\n",
            "\n",
            "Número de ciclos de manutenção: 16 5\n",
            "Tempos para manutenções preventivas: [0, 570, 990, 1170, 2070, 2460, 2970, 3270, 3360, 3570, 4980, 5370, 5670, 6090, 7470, 8160, 8670]\n",
            "Severidade para cada subsistema: [0.25, 0.25, 0.25, 0.25, 0.25, 0.25, 0.25, 0.25, 0.25, 0.25, 0.25, 0.25, 0.25, 0.25, 0.25, 0.25]\n",
            "Fator:  [0.3296799539643607, 0.3934693402873666, 0.3934693402873666, 0.3934693402873666, 0.3934693402873666, 0.3934693402873666, 0.3934693402873666, 0.3934693402873666, 0.3934693402873666, 0.3934693402873666, 0.3934693402873666, 0.3934693402873666, 0.3934693402873666, 0.3934693402873666, 0.3934693402873666, 0.3934693402873666, 0.3934693402873666]\n",
            "Media de falhas:  [0, 19254145824.0, 122877842844.74301, 190563507394.02036, 3590734735925.7437, 6453104318428.363, 14379682186817.5, 21422201869482.4, 23862067480956.055, 30981782185991.67, 202698018109630.94, 269898859612805.0, 334828939209513.75, 454764133240798.06, 1310705822989631.0, 1940902608287189.8, 2542376801298897.0, 1211227255930019.8]\n",
            "\n",
            "Custo =  135116812803.50877\n",
            "=========================================================================\n",
            "\n"
          ]
        },
        {
          "output_type": "stream",
          "name": "stderr",
          "text": [
            "\rpyswarms.single.global_best: 100%|██████████|1/1, best_cost=2e+3\n",
            "2023-07-03 21:45:10,506 - pyswarms.single.global_best - INFO - Optimization finished | best cost: 2000.0, best pos: [0.33218464 0.17052446 0.94722264 0.79283605 0.6368059  0.03377382\n",
            " 0.6640159  0.39142337 0.00880961 0.99148806 0.53730691 0.62543012\n",
            " 0.56809923 0.03099524 0.66819627 0.72782187 0.81645191 0.70315765\n",
            " 0.7904356  1.0322558  0.23075208 0.4943557  0.83837118 0.4738359\n",
            " 0.31989505 0.4606478  0.01976541 0.08091538 0.17215565 0.94291988]\n",
            "2023-07-03 21:45:10,508 - pyswarms.single.global_best - INFO - Optimize for 1 iters with {'c1': 0.5, 'c2': 0.3, 'w': 0.9}\n",
            "pyswarms.single.global_best: 100%|██████████|1/1, best_cost=2e+3\n",
            "2023-07-03 21:45:10,520 - pyswarms.single.global_best - INFO - Optimization finished | best cost: 2000.0, best pos: [0.33205448 0.17026127 0.94812453 0.79285392 0.63774765 0.03942365\n",
            " 0.66447949 0.39008781 0.00994895 0.99459739 0.53444088 0.6223526\n",
            " 0.56834851 0.02986694 0.66651584 0.73224982 0.81645757 0.70286345\n",
            " 0.75706463 1.02974393 0.23074253 0.49687567 0.82081894 0.46962844\n",
            " 0.31817216 0.45503257 0.01994085 0.0884695  0.17110696 0.94857253]\n",
            "2023-07-03 21:45:10,521 - pyswarms.single.global_best - INFO - Optimize for 1 iters with {'c1': 0.5, 'c2': 0.3, 'w': 0.9}\n"
          ]
        },
        {
          "output_type": "stream",
          "name": "stdout",
          "text": [
            "\n",
            "=========================================================================\n",
            "\n",
            "Número de ciclos de manutenção: 9 5\n",
            "Tempos para manutenções preventivas: [0, 570, 990, 1170, 2970, 3360, 5370, 6090, 7470, 8670]\n",
            "Severidade para cada subsistema: [0.25, 0.25, 0.25, 0.25, 0.25, 0.25, 0.25, 0.25, 0.25]\n",
            "Fator:  [0.3296799539643607, 0.3934693402873666, 0.3934693402873666, 0.3934693402873666, 0.3934693402873666, 0.3934693402873666, 0.3934693402873666, 0.3934693402873666, 0.3934693402873666, 0.3934693402873666]\n",
            "Media de falhas:  [0, 19254145824.0, 122877842844.74301, 190563507394.02036, 31990193805588.582, 42091742361021.516, 378636714856626.3, 579734968909628.8, 1435676658658461.8, 2802683242809021.0, 1471533697440143.8]\n",
            "\n",
            "Custo =  135116812803.50877\n",
            "=========================================================================\n",
            "\n"
          ]
        },
        {
          "output_type": "stream",
          "name": "stderr",
          "text": [
            "pyswarms.single.global_best: 100%|██████████|1/1, best_cost=2e+3\n",
            "2023-07-03 21:45:10,533 - pyswarms.single.global_best - INFO - Optimization finished | best cost: 2000.0, best pos: [0.33161716 0.17033738 0.94893412 0.79286839 0.63736948 0.03506894\n",
            " 0.66494754 0.38557739 0.01226545 0.99108518 0.53049445 0.61763541\n",
            " 0.56825651 0.0284434  0.66411946 0.72787949 0.8164681  0.70263463\n",
            " 0.71701457 1.02606191 0.23074375 0.49904013 0.80021539 0.45717436\n",
            " 0.31525433 0.44983436 0.01951275 0.09267905 0.16822828 0.95377978]\n",
            "2023-07-03 21:45:10,534 - pyswarms.single.global_best - INFO - Optimize for 1 iters with {'c1': 0.5, 'c2': 0.3, 'w': 0.9}\n"
          ]
        },
        {
          "output_type": "stream",
          "name": "stdout",
          "text": [
            "\n",
            "=========================================================================\n",
            "\n",
            "Número de ciclos de manutenção: 5 5\n",
            "Tempos para manutenções preventivas: [0, 570, 990, 2970, 3360, 5370]\n",
            "Severidade para cada subsistema: [0.25, 0.25, 0.25, 0.25, 0.25]\n",
            "Fator:  [0.3296799539643607, 0.3934693402873666, 0.3934693402873666, 0.3934693402873666, 0.3934693402873666, 0.3934693402873666]\n",
            "Media de falhas:  [0, 19254145824.0, 122877842844.74301, 36711304721807.664, 46812853277240.59, 383357825772845.4, 264442640933478.5]\n",
            "\n",
            "Custo =  135116812803.50877\n",
            "=========================================================================\n",
            "\n"
          ]
        },
        {
          "output_type": "stream",
          "name": "stderr",
          "text": [
            "pyswarms.single.global_best:   0%|          |0/1, best_cost=2e+3"
          ]
        },
        {
          "output_type": "stream",
          "name": "stdout",
          "text": [
            "\n",
            "=========================================================================\n",
            "\n",
            "Número de ciclos de manutenção: 3 5\n",
            "Tempos para manutenções preventivas: [0, 570, 2970, 3360]\n",
            "Severidade para cada subsistema: [0.25, 0.25, 0.25]\n",
            "Fator:  [0.3296799539643607, 0.3934693402873666, 0.3934693402873666, 0.3934693402873666]\n",
            "Media de falhas:  [0, 19254145824.0, 53350130920180.81, 63451679475613.75, 52179497597757.04]\n",
            "\n",
            "Custo =  135116812803.50877\n",
            "=========================================================================\n",
            "\n"
          ]
        },
        {
          "output_type": "stream",
          "name": "stderr",
          "text": [
            "\rpyswarms.single.global_best: 100%|██████████|1/1, best_cost=2e+3\n",
            "2023-07-03 21:45:10,550 - pyswarms.single.global_best - INFO - Optimization finished | best cost: 2000.0, best pos: [0.3309522  0.17048073 0.94938064 0.79287476 0.63660398 0.02189411\n",
            " 0.66534885 0.38086167 0.01548263 0.98740863 0.52649295 0.61090585\n",
            " 0.56805592 0.02715495 0.66057697 0.72378014 0.81647939 0.7025919\n",
            " 0.67846344 1.01676137 0.23074815 0.50029855 0.78013631 0.43909106\n",
            " 0.30316915 0.44363087 0.01894595 0.08715127 0.16437545 0.95849234]\n",
            "2023-07-03 21:45:10,552 - pyswarms.single.global_best - INFO - Optimize for 1 iters with {'c1': 0.5, 'c2': 0.3, 'w': 0.9}\n",
            "pyswarms.single.global_best: 100%|██████████|1/1, best_cost=2e+3"
          ]
        },
        {
          "output_type": "stream",
          "name": "stdout",
          "text": [
            "\n",
            "=========================================================================\n",
            "\n",
            "Número de ciclos de manutenção: 3 5\n",
            "Tempos para manutenções preventivas: [0, 570, 2970, 6870]\n",
            "Severidade para cada subsistema: [0.25, 0.25, 0.25]\n",
            "Fator:  [0.3296799539643607, 0.3934693402873666, 0.3934693402873666, 0.3934693402873666]\n",
            "Media de falhas:  [0, 19254145824.0, 53350130920180.81, 1975053654784178.5, 1563509651458485.0]\n",
            "\n",
            "Custo =  135116812803.50877\n",
            "=========================================================================\n",
            "\n"
          ]
        },
        {
          "output_type": "stream",
          "name": "stderr",
          "text": [
            "\n",
            "2023-07-03 21:45:10,580 - pyswarms.single.global_best - INFO - Optimization finished | best cost: 2000.0, best pos: [0.33034555 0.1713248  0.94961502 0.79287139 0.63554819 0.00888082\n",
            " 0.66554141 0.37413225 0.01840314 0.97954845 0.52310871 0.60480131\n",
            " 0.56784031 0.02616173 0.65730934 0.71673027 0.81648902 0.70257535\n",
            " 0.64557158 1.00160905 0.2307563  0.50083565 0.76306348 0.42209389\n",
            " 0.28615419 0.4379331  0.01801373 0.07751388 0.16034917 0.96190297]\n",
            "2023-07-03 21:45:10,589 - pyswarms.single.global_best - INFO - Optimize for 1 iters with {'c1': 0.5, 'c2': 0.3, 'w': 0.9}\n",
            "pyswarms.single.global_best: 100%|██████████|1/1, best_cost=2e+3\n",
            "2023-07-03 21:45:10,603 - pyswarms.single.global_best - INFO - Optimization finished | best cost: 2000.0, best pos: [ 0.32983157  0.17276232  0.94981313  0.79285971  0.63417855 -0.004224\n",
            "  0.66561818  0.3674996   0.02070617  0.97202112  0.52084247  0.59951185\n",
            "  0.56761522  0.02539166  0.65442122  0.70617303  0.81649636  0.7027408\n",
            "  0.6263525   0.985611    0.23076993  0.49978588  0.74882791  0.40899735\n",
            "  0.27066416  0.43391392  0.01705659  0.06710124  0.1567909   0.96420229]\n",
            "2023-07-03 21:45:10,604 - pyswarms.single.global_best - INFO - Optimize for 1 iters with {'c1': 0.5, 'c2': 0.3, 'w': 0.9}\n"
          ]
        },
        {
          "output_type": "stream",
          "name": "stdout",
          "text": [
            "\n",
            "=========================================================================\n",
            "\n",
            "Número de ciclos de manutenção: 3 5\n",
            "Tempos para manutenções preventivas: [0, 1470, 4170, 6870]\n",
            "Severidade para cada subsistema: [0.25, 0.25, 0.25]\n",
            "Fator:  [0.3296799539643607, 0.3934693402873666, 0.3934693402873666, 0.3934693402873666]\n",
            "Media de falhas:  [0, 2196527536224.0002, 219447580473100.53, 1437565173110951.8, 1026021169785258.2]\n",
            "\n",
            "Custo =  5976945676801.361\n",
            "=========================================================================\n",
            "\n"
          ]
        },
        {
          "output_type": "stream",
          "name": "stderr",
          "text": [
            "pyswarms.single.global_best:   0%|          |0/1, best_cost=2e+3"
          ]
        },
        {
          "output_type": "stream",
          "name": "stdout",
          "text": [
            "\n",
            "=========================================================================\n",
            "\n",
            "Número de ciclos de manutenção: 5 5\n",
            "Tempos para manutenções preventivas: [0, 1470, 4170, 6870, 7530, 8370]\n",
            "Severidade para cada subsistema: [0.25, 0.25, 0.25, 0.25, 0.25]\n",
            "Fator:  [0.3296799539643607, 0.3934693402873666, 0.3934693402873666, 0.3934693402873666, 0.3934693402873666, 0.3934693402873666]\n",
            "Media de falhas:  [0, 2196527536224.0002, 219447580473100.53, 1437565173110951.8, 1874039431322742.5, 2717256427429824.0, 1602793300714418.0]\n",
            "\n",
            "Custo =  5976945676801.361\n",
            "=========================================================================\n",
            "\n"
          ]
        },
        {
          "output_type": "stream",
          "name": "stderr",
          "text": [
            "\rpyswarms.single.global_best: 100%|██████████|1/1, best_cost=2e+3\n",
            "2023-07-03 21:45:10,631 - pyswarms.single.global_best - INFO - Optimization finished | best cost: 2000.0, best pos: [ 0.32948298  0.17420988  0.94963937  0.79284168  0.63287243 -0.01552788\n",
            "  0.66547642  0.36182618  0.02221445  0.96508197  0.52087314  0.59702132\n",
            "  0.56732356  0.024803    0.65325105  0.69571695  0.81649923  0.70290261\n",
            "  0.62329094  0.9727038   0.23078422  0.49745821  0.7413249   0.39742405\n",
            "  0.25689359  0.43143456  0.01627727  0.05759524  0.15421551  0.9652479 ]\n",
            "2023-07-03 21:45:10,632 - pyswarms.single.global_best - INFO - Optimize for 1 iters with {'c1': 0.5, 'c2': 0.3, 'w': 0.9}\n",
            "pyswarms.single.global_best: 100%|██████████|1/1, best_cost=2e+3"
          ]
        },
        {
          "output_type": "stream",
          "name": "stdout",
          "text": [
            "\n",
            "=========================================================================\n",
            "\n",
            "Número de ciclos de manutenção: 11 5\n",
            "Tempos para manutenções preventivas: [0, 1470, 2370, 2670, 4170, 5070, 6570, 6870, 7260, 7530, 8370, 8970]\n",
            "Severidade para cada subsistema: [0.25, 0.25, 0.25, 0.25, 0.25, 0.25, 0.25, 0.25, 0.25, 0.25, 0.25]\n",
            "Fator:  [0.3296799539643607, 0.3934693402873666, 0.3934693402873666, 0.3934693402873666, 0.3934693402873666, 0.3934693402873666, 0.3934693402873666, 0.3934693402873666, 0.3934693402873666, 0.3934693402873666, 0.3934693402873666, 0.3934693402873666]\n",
            "Media de falhas:  [0, 2196527536224.0002, 9522392536579.129, 12625273418838.623, 103582588645411.95, 222214455950324.06, 775663088179594.2, 916347404080141.1, 1143128350723559.0, 1326726200128713.0, 2169943196235794.5, 2977212911697339.0, 1396823984339312.8]\n",
            "\n",
            "Custo =  5976945676801.361\n",
            "=========================================================================\n",
            "\n"
          ]
        },
        {
          "output_type": "stream",
          "name": "stderr",
          "text": [
            "\n",
            "2023-07-03 21:45:10,653 - pyswarms.single.global_best - INFO - Optimization finished | best cost: 2000.0, best pos: [ 0.3293956   0.17550041  0.94941468  0.79282424  0.63170265 -0.02079575\n",
            "  0.66528952  0.3571166   0.02200822  0.95892719  0.52235699  0.59653322\n",
            "  0.56704136  0.02507395  0.65346778  0.68745357  0.81649787  0.70312542\n",
            "  0.6280692   0.96597381  0.23079628  0.49510791  0.73488469  0.39410055\n",
            "  0.24743548  0.43005017  0.01563037  0.04947927  0.15298497  0.96448224]\n",
            "2023-07-03 21:45:10,654 - pyswarms.single.global_best - INFO - Optimize for 1 iters with {'c1': 0.5, 'c2': 0.3, 'w': 0.9}\n",
            "pyswarms.single.global_best:   0%|          |0/1, best_cost=2e+3"
          ]
        },
        {
          "output_type": "stream",
          "name": "stdout",
          "text": [
            "\n",
            "=========================================================================\n",
            "\n",
            "Número de ciclos de manutenção: 15 5\n",
            "Tempos para manutenções preventivas: [0, 960, 1470, 2070, 2370, 2670, 3870, 4170, 4470, 5070, 6570, 6870, 7260, 7530, 8370, 8970]\n",
            "Severidade para cada subsistema: [0.25, 0.25, 0.25, 0.25, 0.25, 0.25, 0.25, 0.25, 0.25, 0.25, 0.25, 0.25, 0.25, 0.25, 0.25]\n",
            "Fator:  [0.3296799539643607, 0.3934693402873666, 0.3934693402873666, 0.3934693402873666, 0.3934693402873666, 0.3934693402873666, 0.3934693402873666, 0.3934693402873666, 0.3934693402873666, 0.3934693402873666, 0.3934693402873666, 0.3934693402873666, 0.3934693402873666, 0.3934693402873666, 0.3934693402873666, 0.3934693402873666]\n",
            "Media de falhas:  [0, 260919263232.00003, 879116736268.4235, 3061533121590.738, 4977466417743.363, 8080347300002.857, 61527499847535.08, 80330597451427.36, 105219054636243.62, 185714336774720.88, 739162969003991.0, 879847284904537.9, 1106628231547955.9, 1290226080953109.8, 2133443077060191.2, 2940712792521736.0, 1360323865163709.8]\n",
            "\n",
            "Custo =  1087163596802.0835\n",
            "=========================================================================\n",
            "\n"
          ]
        },
        {
          "output_type": "stream",
          "name": "stderr",
          "text": [
            "\rpyswarms.single.global_best: 100%|██████████|1/1, best_cost=2e+3\n",
            "2023-07-03 21:45:10,677 - pyswarms.single.global_best - INFO - Optimization finished | best cost: 2000.0, best pos: [ 0.3294141   0.17649639  0.94889333  0.79280949  0.63095963 -0.02100172\n",
            "  0.66499472  0.35511226  0.02144703  0.95601003  0.52411317  0.59881834\n",
            "  0.5667891   0.02601168  0.65476207  0.68341616  0.816492    0.70334245\n",
            "  0.64708437  0.96162034  0.23080286  0.49276214  0.74413313  0.39957984\n",
            "  0.24144804  0.43250549  0.01511077  0.0449119   0.15331728  0.96360589]\n",
            "2023-07-03 21:45:10,678 - pyswarms.single.global_best - INFO - Optimize for 1 iters with {'c1': 0.5, 'c2': 0.3, 'w': 0.9}\n",
            "pyswarms.single.global_best: 100%|██████████|1/1, best_cost=2e+3\n",
            "2023-07-03 21:45:10,692 - pyswarms.single.global_best - INFO - Optimization finished | best cost: 2000.0, best pos: [ 0.32971898  0.17685074  0.94825266  0.79280217  0.63061081 -0.01701665\n",
            "  0.66468305  0.35622258  0.02089197  0.95554528  0.52643288  0.6016349\n",
            "  0.56660021  0.02740778  0.6559989   0.68448317  0.81648373  0.70350694\n",
            "  0.67359565  0.96052451  0.2308029   0.49102949  0.75585705  0.41310647\n",
            "  0.24435439  0.43578482  0.01487762  0.04123907  0.15469545  0.96258817]\n",
            "2023-07-03 21:45:10,694 - pyswarms.single.global_best - INFO - Optimize for 1 iters with {'c1': 0.5, 'c2': 0.3, 'w': 0.9}\n"
          ]
        },
        {
          "output_type": "stream",
          "name": "stdout",
          "text": [
            "\n",
            "=========================================================================\n",
            "\n",
            "Número de ciclos de manutenção: 17 5\n",
            "Tempos para manutenções preventivas: [0, 960, 1470, 2070, 2370, 2670, 3870, 4170, 4470, 4560, 5070, 6360, 6570, 6870, 7260, 7530, 8370, 8970]\n",
            "Severidade para cada subsistema: [0.25, 0.25, 0.25, 0.25, 0.25, 0.25, 0.25, 0.25, 0.25, 0.25, 0.25, 0.25, 0.25, 0.25, 0.25, 0.25, 0.25]\n",
            "Fator:  [0.3296799539643607, 0.3934693402873666, 0.3934693402873666, 0.3934693402873666, 0.3934693402873666, 0.3934693402873666, 0.3934693402873666, 0.3934693402873666, 0.3934693402873666, 0.3934693402873666, 0.3934693402873666, 0.3934693402873666, 0.3934693402873666, 0.3934693402873666, 0.3934693402873666, 0.3934693402873666, 0.3934693402873666, 0.3934693402873666]\n",
            "Media de falhas:  [0, 260919263232.00003, 879116736268.4235, 3061533121590.738, 4977466417743.363, 8080347300002.857, 61527499847535.08, 80330597451427.36, 105219054636243.62, 113533473041713.1, 182448924946825.0, 601592830472777.8, 684547572803407.4, 825231888703954.2, 1052012835347372.2, 1235610684752526.2, 2078827680859607.8, 2886097396321152.5, 1305708468963126.2]\n",
            "\n",
            "Custo =  1087163596802.0835\n",
            "=========================================================================\n",
            "\n"
          ]
        },
        {
          "output_type": "stream",
          "name": "stderr",
          "text": [
            "pyswarms.single.global_best: 100%|██████████|1/1, best_cost=2e+3\n",
            "2023-07-03 21:45:10,710 - pyswarms.single.global_best - INFO - Optimization finished | best cost: 2000.0, best pos: [ 0.33009834  0.17642255  0.94767114  0.79280261  0.63064717 -0.00772676\n",
            "  0.66441563  0.36052379  0.01994321  0.95713239  0.52906394  0.60575024\n",
            "  0.56660179  0.02868738  0.65799405  0.68833531  0.81647482  0.70360006\n",
            "  0.69795282  0.96069224  0.23079736  0.49009736  0.76767514  0.43018004\n",
            "  0.24969298  0.43950798  0.01513872  0.04090416  0.15718253  0.96070557]\n",
            "2023-07-03 21:45:10,712 - pyswarms.single.global_best - INFO - Optimize for 1 iters with {'c1': 0.5, 'c2': 0.3, 'w': 0.9}\n"
          ]
        },
        {
          "output_type": "stream",
          "name": "stdout",
          "text": [
            "\n",
            "=========================================================================\n",
            "\n",
            "Número de ciclos de manutenção: 23 5\n",
            "Tempos para manutenções preventivas: [0, 960, 1470, 2070, 2370, 2670, 3270, 3870, 4170, 4470, 4560, 4770, 5070, 5670, 6060, 6360, 6570, 6870, 7260, 7770, 8070, 8190, 8370, 8970]\n",
            "Severidade para cada subsistema: [0.25, 0.25, 0.25, 0.25, 0.25, 0.25, 0.25, 0.25, 0.25, 0.25, 0.25, 0.25, 0.25, 0.25, 0.25, 0.25, 0.25, 0.25, 0.25, 0.25, 0.25, 0.25, 0.25]\n",
            "Fator:  [0.3296799539643607, 0.3934693402873666, 0.3934693402873666, 0.3934693402873666, 0.3934693402873666, 0.3934693402873666, 0.3934693402873666, 0.3934693402873666, 0.3934693402873666, 0.3934693402873666, 0.3934693402873666, 0.3934693402873666, 0.3934693402873666, 0.3934693402873666, 0.3934693402873666, 0.3934693402873666, 0.3934693402873666, 0.3934693402873666, 0.3934693402873666, 0.3934693402873666, 0.3934693402873666, 0.3934693402873666, 0.3934693402873666, 0.3934693402873666]\n",
            "Media de falhas:  [0, 260919263232.00003, 879116736268.4235, 3061533121590.738, 4977466417743.363, 8080347300002.857, 21749203103332.355, 48747161010851.55, 67550258614743.83, 92438715799560.1, 100753134205029.56, 123635418537733.03, 165001188689086.38, 291543962018354.6, 400998197278859.7, 504122734620736.56, 587077476951366.2, 727761792851913.1, 954542739495331.1, 1341121186838157.8, 1610022153839733.5, 1725766261440858.5, 1914307459898171.0, 2721577175359716.0, 1141188248001689.8]\n",
            "\n",
            "Custo =  1087163596802.0835\n",
            "=========================================================================\n",
            "\n"
          ]
        },
        {
          "output_type": "stream",
          "name": "stderr",
          "text": [
            "\rpyswarms.single.global_best:   0%|          |0/1"
          ]
        },
        {
          "output_type": "stream",
          "name": "stdout",
          "text": [
            "\n",
            "=========================================================================\n",
            "\n",
            "Número de ciclos de manutenção: 27 5\n",
            "Tempos para manutenções preventivas: [0, 960, 1470, 1860, 2070, 2370, 3270, 3570, 3870, 4170, 4470, 4560, 4770, 4980, 5070, 5460, 5670, 6060, 6360, 6570, 6780, 6870, 7470, 7770, 7860, 8370, 8670, 8970]\n",
            "Severidade para cada subsistema: [0.25, 0.25, 0.25, 0.25, 0.25, 0.25, 0.25, 0.25, 0.25, 0.25, 0.25, 0.25, 0.25, 0.25, 0.25, 0.25, 0.25, 0.25, 0.25, 0.25, 0.25, 0.25, 0.25, 0.25, 0.25, 0.25, 0.25]\n",
            "Fator:  [0.3296799539643607, 0.3934693402873666, 0.3934693402873666, 0.3934693402873666, 0.3934693402873666, 0.3934693402873666, 0.3934693402873666, 0.3934693402873666, 0.3934693402873666, 0.3934693402873666, 0.3934693402873666, 0.3934693402873666, 0.3934693402873666, 0.3934693402873666, 0.3934693402873666, 0.3934693402873666, 0.3934693402873666, 0.3934693402873666, 0.3934693402873666, 0.3934693402873666, 0.3934693402873666, 0.3934693402873666, 0.3934693402873666, 0.3934693402873666, 0.3934693402873666, 0.3934693402873666, 0.3934693402873666, 0.3934693402873666]\n",
            "Media de falhas:  [0, 260919263232.00003, 879116736268.4235, 1805215854480.8594, 2593450329298.8467, 4509383625451.473, 24875248387345.746, 34916065631711.83, 48825617453628.81, 67628715057521.09, 92517172242337.34, 100831590647806.81, 123713874980510.28, 150929454625411.5, 163651816970285.0, 235516085808981.8, 281389878308792.2, 390844113569297.25, 493968650911174.1, 576923393241803.8, 671061382220205.2, 714084360052237.4, 1099726826437241.4, 1330617726132053.8, 1404415657301062.0, 1926265379614518.2, 2285066378914897.5, 2696457572168901.5, 1116068644810875.2]\n",
            "\n",
            "Custo =  1087163596802.0835\n",
            "=========================================================================\n",
            "\n"
          ]
        },
        {
          "output_type": "stream",
          "name": "stderr",
          "text": [
            "pyswarms.single.global_best: 100%|██████████|1/1, best_cost=2e+3\n",
            "2023-07-03 21:45:10,730 - pyswarms.single.global_best - INFO - Optimization finished | best cost: 2000.0, best pos: [0.33059317 0.17565961 0.94721936 0.79280474 0.63073668 0.00325301\n",
            " 0.66418345 0.36587861 0.01894825 0.96075497 0.53129123 0.60978033\n",
            " 0.56664799 0.02965767 0.66009121 0.69260449 0.81646738 0.70357171\n",
            " 0.71910751 0.96788441 0.23078711 0.49020147 0.78306561 0.44613216\n",
            " 0.25934524 0.44308875 0.01585781 0.0408597  0.15979106 0.95871282]\n",
            "2023-07-03 21:45:10,731 - pyswarms.single.global_best - INFO - Optimize for 1 iters with {'c1': 0.5, 'c2': 0.3, 'w': 0.9}\n",
            "pyswarms.single.global_best:   0%|          |0/1, best_cost=2e+3"
          ]
        },
        {
          "output_type": "stream",
          "name": "stdout",
          "text": [
            "\n",
            "=========================================================================\n",
            "\n",
            "Número de ciclos de manutenção: 29 5\n",
            "Tempos para manutenções preventivas: [0, 960, 1170, 1470, 1860, 2070, 2370, 3270, 3570, 3870, 4170, 4470, 4560, 4770, 4980, 5070, 5370, 5460, 5670, 5970, 6360, 6570, 6780, 7470, 7770, 7860, 8160, 8370, 8670, 8970]\n",
            "Severidade para cada subsistema: [0.25, 0.25, 0.25, 0.25, 0.25, 0.25, 0.25, 0.25, 0.25, 0.25, 0.25, 0.25, 0.25, 0.25, 0.25, 0.25, 0.25, 0.25, 0.25, 0.25, 0.25, 0.25, 0.25, 0.25, 0.25, 0.25, 0.25, 0.25, 0.25]\n",
            "Fator:  [0.3296799539643607, 0.3934693402873666, 0.3934693402873666, 0.3934693402873666, 0.3934693402873666, 0.3934693402873666, 0.3934693402873666, 0.3934693402873666, 0.3934693402873666, 0.3934693402873666, 0.3934693402873666, 0.3934693402873666, 0.3934693402873666, 0.3934693402873666, 0.3934693402873666, 0.3934693402873666, 0.3934693402873666, 0.3934693402873666, 0.3934693402873666, 0.3934693402873666, 0.3934693402873666, 0.3934693402873666, 0.3934693402873666, 0.3934693402873666, 0.3934693402873666, 0.3934693402873666, 0.3934693402873666, 0.3934693402873666, 0.3934693402873666, 0.3934693402873666]\n",
            "Media de falhas:  [0, 260919263232.00003, 370546939670.9568, 648683174407.3478, 1574782292619.7837, 2363016767437.7705, 4278950063590.3965, 24644814825484.67, 34685632069850.75, 48595183891767.734, 67398281495660.016, 92286738680476.28, 100601157085945.75, 123483441418649.22, 150699021063550.44, 163421383408423.94, 215576254164185.56, 232702757025411.94, 278576549525222.3, 358498090823688.1, 491505377403038.1, 574460119733667.8, 668598108712069.2, 1109583063871600.8, 1340473963566413.0, 1414271894735421.2, 1695440329549670.5, 1914899980989917.5, 2273700980290296.5, 2685092173544300.5, 1104703246186274.2]\n",
            "\n",
            "Custo =  1087163596802.0835\n",
            "=========================================================================\n",
            "\n"
          ]
        },
        {
          "output_type": "stream",
          "name": "stderr",
          "text": [
            "\rpyswarms.single.global_best: 100%|██████████|1/1, best_cost=2e+3\n",
            "2023-07-03 21:45:10,751 - pyswarms.single.global_best - INFO - Optimization finished | best cost: 2000.0, best pos: [0.3310455  0.17450089 0.94692177 0.79280674 0.63139651 0.01322735\n",
            " 0.66411669 0.37178286 0.01752997 0.96623534 0.53273025 0.61319426\n",
            " 0.56673673 0.0304324  0.66194312 0.69683557 0.81646223 0.70352176\n",
            " 0.73063534 0.97943454 0.23077631 0.49038082 0.79713334 0.45905538\n",
            " 0.26967695 0.4462238  0.01683147 0.04302746 0.16243973 0.95675903]\n",
            "2023-07-03 21:45:10,752 - pyswarms.single.global_best - INFO - Optimize for 1 iters with {'c1': 0.5, 'c2': 0.3, 'w': 0.9}\n",
            "pyswarms.single.global_best: 100%|██████████|1/1, best_cost=2e+3"
          ]
        },
        {
          "output_type": "stream",
          "name": "stdout",
          "text": [
            "\n",
            "=========================================================================\n",
            "\n",
            "Número de ciclos de manutenção: 26 5\n",
            "Tempos para manutenções preventivas: [0, 960, 1170, 1470, 2070, 2370, 2970, 3270, 3570, 3870, 4470, 4560, 4770, 4980, 5370, 5460, 5670, 5970, 6360, 6570, 6780, 7470, 7770, 7860, 8160, 8370, 8670]\n",
            "Severidade para cada subsistema: [0.25, 0.25, 0.25, 0.25, 0.25, 0.25, 0.25, 0.25, 0.25, 0.25, 0.25, 0.25, 0.25, 0.25, 0.25, 0.25, 0.25, 0.25, 0.25, 0.25, 0.25, 0.25, 0.25, 0.25, 0.25, 0.25]\n",
            "Fator:  [0.3296799539643607, 0.3934693402873666, 0.3934693402873666, 0.3934693402873666, 0.3934693402873666, 0.3934693402873666, 0.3934693402873666, 0.3934693402873666, 0.3934693402873666, 0.3934693402873666, 0.3934693402873666, 0.3934693402873666, 0.3934693402873666, 0.3934693402873666, 0.3934693402873666, 0.3934693402873666, 0.3934693402873666, 0.3934693402873666, 0.3934693402873666, 0.3934693402873666, 0.3934693402873666, 0.3934693402873666, 0.3934693402873666, 0.3934693402873666, 0.3934693402873666, 0.3934693402873666, 0.3934693402873666]\n",
            "Media de falhas:  [0, 260919263232.00003, 370546939670.9568, 648683174407.3478, 2831099559729.662, 4747032855882.288, 14019034895886.988, 21061554578551.887, 31102371822917.97, 45011923644834.95, 93372830318462.92, 101687248723932.39, 124569533056635.84, 151785112701537.06, 218985954204711.12, 236112457065937.5, 281986249565747.9, 361907790864213.6, 494915077443563.6, 577869819774193.2, 672007808752594.8, 1112992763912126.2, 1343883663606938.5, 1417681594775946.8, 1698850029590196.0, 1918309681030443.0, 2277110680330822.0, 945961134961944.8]\n",
            "\n",
            "Custo =  1087163596802.0835\n",
            "=========================================================================\n",
            "\n"
          ]
        },
        {
          "output_type": "stream",
          "name": "stderr",
          "text": [
            "\n",
            "2023-07-03 21:45:10,764 - pyswarms.single.global_best - INFO - Optimization finished | best cost: 2000.0, best pos: [0.33144959 0.17339503 0.94674533 0.79280914 0.63215828 0.02047197\n",
            " 0.66422482 0.37666649 0.01624577 0.97197667 0.53398455 0.61524343\n",
            " 0.56684843 0.03112123 0.66302268 0.70199678 0.8164585  0.70346023\n",
            " 0.73749002 0.99022229 0.23076709 0.4906132  0.80780265 0.46336076\n",
            " 0.27942245 0.44877022 0.01771788 0.045772   0.1645051  0.95490952]\n",
            "2023-07-03 21:45:10,765 - pyswarms.single.global_best - INFO - Optimize for 1 iters with {'c1': 0.5, 'c2': 0.3, 'w': 0.9}\n",
            "pyswarms.single.global_best: 100%|██████████|1/1, best_cost=2e+3\n",
            "2023-07-03 21:45:10,782 - pyswarms.single.global_best - INFO - Optimization finished | best cost: 2000.0, best pos: [0.33175026 0.17251634 0.9465976  0.79281297 0.63314553 0.02528672\n",
            " 0.66444918 0.38098912 0.01509207 0.97708766 0.53405865 0.61579522\n",
            " 0.56704289 0.03094364 0.66354284 0.70666613 0.81645686 0.70336045\n",
            " 0.7366499  1.00067661 0.23076044 0.49143812 0.81371072 0.46691562\n",
            " 0.28795076 0.44924748 0.01850714 0.05093261 0.16597306 0.95323596]\n",
            "2023-07-03 21:45:10,783 - pyswarms.single.global_best - INFO - Optimize for 1 iters with {'c1': 0.5, 'c2': 0.3, 'w': 0.9}\n"
          ]
        },
        {
          "output_type": "stream",
          "name": "stdout",
          "text": [
            "\n",
            "=========================================================================\n",
            "\n",
            "Número de ciclos de manutenção: 19 5\n",
            "Tempos para manutenções preventivas: [0, 570, 960, 1170, 2070, 2370, 2970, 3270, 3570, 3870, 4770, 4980, 5370, 5670, 5970, 6780, 7470, 7770, 8160, 8670]\n",
            "Severidade para cada subsistema: [0.25, 0.25, 0.25, 0.25, 0.25, 0.25, 0.25, 0.25, 0.25, 0.25, 0.25, 0.25, 0.25, 0.25, 0.25, 0.25, 0.25, 0.25, 0.25]\n",
            "Fator:  [0.3296799539643607, 0.3934693402873666, 0.3934693402873666, 0.3934693402873666, 0.3934693402873666, 0.3934693402873666, 0.3934693402873666, 0.3934693402873666, 0.3934693402873666, 0.3934693402873666, 0.3934693402873666, 0.3934693402873666, 0.3934693402873666, 0.3934693402873666, 0.3934693402873666, 0.3934693402873666, 0.3934693402873666, 0.3934693402873666, 0.3934693402873666, 0.3934693402873666]\n",
            "Media de falhas:  [0, 19254145824.0, 104443083781.70773, 182913794151.28104, 3583085022683.0044, 5499018318835.63, 14771020358840.328, 21813540041505.227, 31854357285871.305, 45763909107788.3, 138505345476105.95, 165720925121007.16, 232921766624181.25, 297851846220890.0, 377773387519355.75, 725154083973403.2, 1166139039132934.8, 1397029938827747.0, 1760175913464570.2, 2361650106476277.0, 1030500561107399.8]\n",
            "\n",
            "Custo =  135116812803.50877\n",
            "=========================================================================\n",
            "\n"
          ]
        },
        {
          "output_type": "stream",
          "name": "stderr",
          "text": [
            "pyswarms.single.global_best: 100%|██████████|1/1, best_cost=2e+3\n",
            "2023-07-03 21:45:10,801 - pyswarms.single.global_best - INFO - Optimization finished | best cost: 2000.0, best pos: [0.33187833 0.17205402 0.94659679 0.79281865 0.63404455 0.02598518\n",
            " 0.66466135 0.38183333 0.01426711 0.98081274 0.53325443 0.61537075\n",
            " 0.56726851 0.03020669 0.66275926 0.7097076  0.81645995 0.70325892\n",
            " 0.7220673  1.00907911 0.23075667 0.4924604  0.81567658 0.46905782\n",
            " 0.292449   0.44869924 0.01909908 0.0579079  0.16664077 0.95205952]\n",
            "2023-07-03 21:45:10,802 - pyswarms.single.global_best - INFO - Optimize for 1 iters with {'c1': 0.5, 'c2': 0.3, 'w': 0.9}\n"
          ]
        },
        {
          "output_type": "stream",
          "name": "stdout",
          "text": [
            "\n",
            "=========================================================================\n",
            "\n",
            "Número de ciclos de manutenção: 15 5\n",
            "Tempos para manutenções preventivas: [0, 570, 1170, 2370, 2970, 3270, 3570, 3870, 4770, 5370, 5670, 5970, 7470, 7770, 8160, 8670]\n",
            "Severidade para cada subsistema: [0.25, 0.25, 0.25, 0.25, 0.25, 0.25, 0.25, 0.25, 0.25, 0.25, 0.25, 0.25, 0.25, 0.25, 0.25]\n",
            "Fator:  [0.3296799539643607, 0.3934693402873666, 0.3934693402873666, 0.3934693402873666, 0.3934693402873666, 0.3934693402873666, 0.3934693402873666, 0.3934693402873666, 0.3934693402873666, 0.3934693402873666, 0.3934693402873666, 0.3934693402873666, 0.3934693402873666, 0.3934693402873666, 0.3934693402873666, 0.3934693402873666]\n",
            "Media de falhas:  [0, 19254145824.0, 308989345889.6544, 8377992405784.269, 17649994445788.97, 24692514128453.867, 34733331372819.945, 48642883194736.94, 141384319563054.6, 242952066759547.8, 307882146356256.56, 387803687654722.4, 1315592164726052.0, 1546483064420864.5, 1909629039057687.8, 2511103232069395.0, 1179953686700517.8]\n",
            "\n",
            "Custo =  135116812803.50877\n",
            "=========================================================================\n",
            "\n"
          ]
        },
        {
          "output_type": "stream",
          "name": "stderr",
          "text": [
            "pyswarms.single.global_best: 100%|██████████|1/1, best_cost=2e+3\n",
            "2023-07-03 21:45:10,815 - pyswarms.single.global_best - INFO - Optimization finished | best cost: 2000.0, best pos: [0.33193464 0.17208297 0.94675099 0.79282463 0.63473194 0.02284044\n",
            " 0.66485513 0.38108591 0.0137537  0.98275686 0.53216839 0.6147171\n",
            " 0.56746878 0.02906875 0.66125451 0.71031468 0.81646509 0.70315976\n",
            " 0.70083306 1.01630376 0.23075663 0.49352966 0.81669649 0.4690482\n",
            " 0.29644961 0.44721894 0.01960135 0.06474197 0.16574261 0.95144316]\n",
            "2023-07-03 21:45:10,817 - pyswarms.single.global_best - INFO - Optimize for 1 iters with {'c1': 0.5, 'c2': 0.3, 'w': 0.9}\n"
          ]
        },
        {
          "output_type": "stream",
          "name": "stdout",
          "text": [
            "\n",
            "=========================================================================\n",
            "\n",
            "Número de ciclos de manutenção: 13 5\n",
            "Tempos para manutenções preventivas: [0, 570, 1170, 2970, 3270, 3570, 4770, 5370, 5670, 5970, 7470, 7770, 8160, 8670]\n",
            "Severidade para cada subsistema: [0.25, 0.25, 0.25, 0.25, 0.25, 0.25, 0.25, 0.25, 0.25, 0.25, 0.25, 0.25, 0.25]\n",
            "Fator:  [0.3296799539643607, 0.3934693402873666, 0.3934693402873666, 0.3934693402873666, 0.3934693402873666, 0.3934693402873666, 0.3934693402873666, 0.3934693402873666, 0.3934693402873666, 0.3934693402873666, 0.3934693402873666, 0.3934693402873666, 0.3934693402873666, 0.3934693402873666]\n",
            "Media de falhas:  [0, 19254145824.0, 308989345889.6544, 32108619644084.22, 39151139326749.12, 49191956571115.195, 172086919272647.56, 273654666469140.75, 338584746065849.5, 418506287364315.25, 1346294764435645.0, 1577185664130457.5, 1940331638767280.8, 2541805831778988.0, 1210656286410110.8]\n",
            "\n",
            "Custo =  135116812803.50877\n",
            "=========================================================================\n",
            "\n"
          ]
        },
        {
          "output_type": "stream",
          "name": "stderr",
          "text": [
            "pyswarms.single.global_best: 100%|██████████|1/1, best_cost=2e+3\n",
            "2023-07-03 21:45:10,835 - pyswarms.single.global_best - INFO - Optimization finished | best cost: 2000.0, best pos: [0.33168995 0.17214124 0.94713056 0.7928302  0.6352211  0.01464463\n",
            " 0.66500259 0.37796229 0.01400426 0.98151882 0.53104307 0.61298889\n",
            " 0.56763234 0.02779684 0.65965459 0.71063324 0.81647091 0.70308515\n",
            " 0.68125694 1.02240084 0.23076064 0.49463632 0.81546632 0.46704597\n",
            " 0.29429525 0.44485496 0.01992006 0.06988079 0.16423811 0.95156185]\n",
            "2023-07-03 21:45:10,836 - pyswarms.single.global_best - INFO - Optimize for 1 iters with {'c1': 0.5, 'c2': 0.3, 'w': 0.9}\n"
          ]
        },
        {
          "output_type": "stream",
          "name": "stdout",
          "text": [
            "\n",
            "=========================================================================\n",
            "\n",
            "Número de ciclos de manutenção: 7 5\n",
            "Tempos para manutenções preventivas: [0, 570, 2970, 4770, 5370, 5970, 7470, 8670]\n",
            "Severidade para cada subsistema: [0.25, 0.25, 0.25, 0.25, 0.25, 0.25, 0.25]\n",
            "Fator:  [0.3296799539643607, 0.3934693402873666, 0.3934693402873666, 0.3934693402873666, 0.3934693402873666, 0.3934693402873666, 0.3934693402873666, 0.3934693402873666]\n",
            "Media de falhas:  [0, 19254145824.0, 53350130920180.81, 241147257755859.84, 342715004952353.06, 498591218647302.25, 1426379695718632.0, 2793386279869191.5, 1462236734500314.2]\n",
            "\n",
            "Custo =  135116812803.50877\n",
            "=========================================================================\n",
            "\n"
          ]
        },
        {
          "output_type": "stream",
          "name": "stderr",
          "text": [
            "pyswarms.single.global_best: 100%|██████████|1/1, best_cost=2e+3"
          ]
        },
        {
          "output_type": "stream",
          "name": "stdout",
          "text": [
            "\n",
            "=========================================================================\n",
            "\n",
            "Número de ciclos de manutenção: 4 5\n",
            "Tempos para manutenções preventivas: [0, 570, 2970, 4770, 7470]\n",
            "Severidade para cada subsistema: [0.25, 0.25, 0.25, 0.25]\n",
            "Fator:  [0.3296799539643607, 0.3934693402873666, 0.3934693402873666, 0.3934693402873666, 0.3934693402873666]\n",
            "Media de falhas:  [0, 19254145824.0, 53350130920180.81, 241147257755859.84, 1927874332516867.0, 1300068746208753.0]\n",
            "\n",
            "Custo =  135116812803.50877\n",
            "=========================================================================\n",
            "\n"
          ]
        },
        {
          "output_type": "stream",
          "name": "stderr",
          "text": [
            "\n",
            "2023-07-03 21:45:10,856 - pyswarms.single.global_best - INFO - Optimization finished | best cost: 2000.0, best pos: [0.33120399 0.17249903 0.94753833 0.7928356  0.63547735 0.00701542\n",
            " 0.66509388 0.37480138 0.0147916  0.97889643 0.52926066 0.61036391\n",
            " 0.56769666 0.02667261 0.65820971 0.71058567 0.81647712 0.7030357\n",
            " 0.6657306  1.02510907 0.23076447 0.49553013 0.81106797 0.46015969\n",
            " 0.28752942 0.44246883 0.01963657 0.07291692 0.16281959 0.95222029]\n",
            "2023-07-03 21:45:10,858 - pyswarms.single.global_best - INFO - Optimize for 1 iters with {'c1': 0.5, 'c2': 0.3, 'w': 0.9}\n",
            "pyswarms.single.global_best: 100%|██████████|1/1, best_cost=2e+3"
          ]
        },
        {
          "output_type": "stream",
          "name": "stdout",
          "text": [
            "\n",
            "=========================================================================\n",
            "\n",
            "Número de ciclos de manutenção: 3 5\n",
            "Tempos para manutenções preventivas: [0, 570, 2970, 7470]\n",
            "Severidade para cada subsistema: [0.25, 0.25, 0.25]\n",
            "Fator:  [0.3296799539643607, 0.3934693402873666, 0.3934693402873666, 0.3934693402873666]\n",
            "Media de falhas:  [0, 19254145824.0, 53350130920180.81, 3226597256857540.5, 2598791670549426.5]\n",
            "\n",
            "Custo =  135116812803.50877\n",
            "=========================================================================\n",
            "\n"
          ]
        },
        {
          "output_type": "stream",
          "name": "stderr",
          "text": [
            "\n",
            "2023-07-03 21:45:10,876 - pyswarms.single.global_best - INFO - Optimization finished | best cost: 2000.0, best pos: [ 3.30671973e-01  1.72894058e-01  9.47928011e-01  7.92840179e-01\n",
            "  6.35267851e-01 -6.57374302e-04  6.65140574e-01  3.70939263e-01\n",
            "  1.55158455e-02  9.74325410e-01  5.27486851e-01  6.07564432e-01\n",
            "  5.67749608e-01  2.56620790e-02  6.57070227e-01  7.09875620e-01\n",
            "  8.16482775e-01  7.03028346e-01  6.52015816e-01  1.02679091e+00\n",
            "  2.30768857e-01  4.96001019e-01  8.04253659e-01  4.48224278e-01\n",
            "  2.77814394e-01  4.40322131e-01  1.87329860e-02  7.29695084e-02\n",
            "  1.61139674e-01  9.53331164e-01]\n",
            "2023-07-03 21:45:10,877 - pyswarms.single.global_best - INFO - Optimize for 1 iters with {'c1': 0.5, 'c2': 0.3, 'w': 0.9}\n",
            "pyswarms.single.global_best:   0%|          |0/1, best_cost=2e+3"
          ]
        },
        {
          "output_type": "stream",
          "name": "stdout",
          "text": [
            "\n",
            "=========================================================================\n",
            "\n",
            "Número de ciclos de manutenção: 2 5\n",
            "Tempos para manutenções preventivas: [0, 570, 6870]\n",
            "Severidade para cada subsistema: [0.25, 0.25]\n",
            "Fator:  [0.3296799539643607, 0.3934693402873666, 0.3934693402873666]\n",
            "Media de falhas:  [0, 19254145824.0, 4262955675810025.0, 3851411672484331.5]\n",
            "\n",
            "Custo =  135116812803.50877\n",
            "=========================================================================\n",
            "\n"
          ]
        },
        {
          "output_type": "stream",
          "name": "stderr",
          "text": [
            "\rpyswarms.single.global_best: 100%|██████████|1/1, best_cost=2e+3\n",
            "2023-07-03 21:45:10,892 - pyswarms.single.global_best - INFO - Optimization finished | best cost: 2000.0, best pos: [ 0.33018693  0.17342445  0.94827871  0.79284256  0.6346773  -0.00673924\n",
            "  0.66511214  0.36739872  0.01622018  0.96950719  0.5260235   0.60517508\n",
            "  0.56775114  0.0253908   0.65639522  0.70759287  0.81648641  0.70304054\n",
            "  0.64629293  1.02052571  0.23077447  0.49635972  0.79624946  0.43537051\n",
            "  0.26851112  0.43853449  0.01776613  0.07052602  0.15962811  0.95456312]\n",
            "2023-07-03 21:45:10,894 - pyswarms.single.global_best - INFO - Optimize for 1 iters with {'c1': 0.5, 'c2': 0.3, 'w': 0.9}\n",
            "pyswarms.single.global_best:   0%|          |0/1, best_cost=2e+3"
          ]
        },
        {
          "output_type": "stream",
          "name": "stdout",
          "text": [
            "\n",
            "=========================================================================\n",
            "\n",
            "Número de ciclos de manutenção: 4 5\n",
            "Tempos para manutenções preventivas: [0, 570, 1470, 5070, 6870]\n",
            "Severidade para cada subsistema: [0.25, 0.25, 0.25, 0.25]\n",
            "Fator:  [0.3296799539643607, 0.3934693402873666, 0.3934693402873666, 0.3934693402873666, 0.3934693402873666]\n",
            "Media de falhas:  [0, 19254145824.0, 1125133110056.422, 585944173515071.9, 1379145575625505.0, 967601572299811.5]\n",
            "\n",
            "Custo =  135116812803.50877\n",
            "=========================================================================\n",
            "\n"
          ]
        },
        {
          "output_type": "stream",
          "name": "stderr",
          "text": [
            "\rpyswarms.single.global_best: 100%|██████████|1/1, best_cost=2e+3\n",
            "2023-07-03 21:45:10,910 - pyswarms.single.global_best - INFO - Optimization finished | best cost: 2000.0, best pos: [ 0.32987025  0.17396884  0.94849661  0.79284362  0.63403322 -0.01002811\n",
            "  0.66504625  0.36483646  0.01686282  0.96540751  0.52501968  0.60309364\n",
            "  0.56760149  0.02545006  0.65647167  0.70468382  0.81648845  0.70308501\n",
            "  0.64750243  1.00831978  0.2307804   0.49661573  0.78789843  0.42337881\n",
            "  0.26069391  0.4370743   0.01680548  0.0654262   0.15831196  0.95574595]\n",
            "2023-07-03 21:45:10,913 - pyswarms.single.global_best - INFO - Optimize for 1 iters with {'c1': 0.5, 'c2': 0.3, 'w': 0.9}\n",
            "pyswarms.single.global_best:   0%|          |0/1, best_cost=2e+3"
          ]
        },
        {
          "output_type": "stream",
          "name": "stdout",
          "text": [
            "\n",
            "=========================================================================\n",
            "\n",
            "Número de ciclos de manutenção: 5 5\n",
            "Tempos para manutenções preventivas: [0, 1470, 4170, 5070, 6870, 7260]\n",
            "Severidade para cada subsistema: [0.25, 0.25, 0.25, 0.25, 0.25]\n",
            "Fator:  [0.3296799539643607, 0.3934693402873666, 0.3934693402873666, 0.3934693402873666, 0.3934693402873666, 0.3934693402873666]\n",
            "Media de falhas:  [0, 2196527536224.0002, 219447580473100.53, 338079447778012.6, 1131280849888446.0, 1358061796531864.0, 814362530329668.0]\n",
            "\n",
            "Custo =  5976945676801.361\n",
            "=========================================================================\n",
            "\n"
          ]
        },
        {
          "output_type": "stream",
          "name": "stderr",
          "text": [
            "\rpyswarms.single.global_best: 100%|██████████|1/1, best_cost=2e+3\n",
            "2023-07-03 21:45:10,928 - pyswarms.single.global_best - INFO - Optimization finished | best cost: 2000.0, best pos: [ 0.32968874  0.17445118  0.94857544  0.79284306  0.63342458 -0.01189928\n",
            "  0.66498163  0.36341378  0.01733165  0.96288241  0.52499066  0.60176455\n",
            "  0.56736253  0.02604973  0.65701133  0.70191513  0.81648785  0.70313869\n",
            "  0.65937258  0.99621601  0.23078543  0.49655886  0.78044081  0.41308886\n",
            "  0.25552941  0.43703539  0.01597147  0.05951873  0.15743882  0.95671255]\n",
            "2023-07-03 21:45:10,929 - pyswarms.single.global_best - INFO - Optimize for 1 iters with {'c1': 0.5, 'c2': 0.3, 'w': 0.9}\n",
            "pyswarms.single.global_best:   0%|          |0/1, best_cost=2e+3"
          ]
        },
        {
          "output_type": "stream",
          "name": "stdout",
          "text": [
            "\n",
            "=========================================================================\n",
            "\n",
            "Número de ciclos de manutenção: 6 5\n",
            "Tempos para manutenções preventivas: [0, 1470, 4170, 5070, 6870, 7260, 8370]\n",
            "Severidade para cada subsistema: [0.25, 0.25, 0.25, 0.25, 0.25, 0.25]\n",
            "Fator:  [0.3296799539643607, 0.3934693402873666, 0.3934693402873666, 0.3934693402873666, 0.3934693402873666, 0.3934693402873666, 0.3934693402873666]\n",
            "Media de falhas:  [0, 2196527536224.0002, 219447580473100.53, 338079447778012.6, 1131280849888446.0, 1358061796531864.0, 2458523572285652.0, 1344060445570246.0]\n",
            "\n",
            "Custo =  5976945676801.361\n",
            "=========================================================================\n",
            "\n"
          ]
        },
        {
          "output_type": "stream",
          "name": "stderr",
          "text": [
            "\rpyswarms.single.global_best: 100%|██████████|1/1, best_cost=2e+3\n",
            "2023-07-03 21:45:10,949 - pyswarms.single.global_best - INFO - Optimization finished | best cost: 2000.0, best pos: [ 0.32975689  0.17483726  0.94848204  0.79284182  0.63287809 -0.00881604\n",
            "  0.66488582  0.36319845  0.01754046  0.96144914  0.52585044  0.60212671\n",
            "  0.56713296  0.02700325  0.6580986   0.69944551  0.81648514  0.70321043\n",
            "  0.67438915  0.98508212  0.23078818  0.49630675  0.77493765  0.40552726\n",
            "  0.25578444  0.43835313  0.01523953  0.05437442  0.15725449  0.95706996]\n",
            "2023-07-03 21:45:10,950 - pyswarms.single.global_best - INFO - Optimize for 1 iters with {'c1': 0.5, 'c2': 0.3, 'w': 0.9}\n",
            "pyswarms.single.global_best:   0%|          |0/1, best_cost=2e+3"
          ]
        },
        {
          "output_type": "stream",
          "name": "stdout",
          "text": [
            "\n",
            "=========================================================================\n",
            "\n",
            "Número de ciclos de manutenção: 10 5\n",
            "Tempos para manutenções preventivas: [0, 960, 1470, 2370, 4170, 5070, 6360, 6570, 6870, 7260, 8370]\n",
            "Severidade para cada subsistema: [0.25, 0.25, 0.25, 0.25, 0.25, 0.25, 0.25, 0.25, 0.25, 0.25]\n",
            "Fator:  [0.3296799539643607, 0.3934693402873666, 0.3934693402873666, 0.3934693402873666, 0.3934693402873666, 0.3934693402873666, 0.3934693402873666, 0.3934693402873666, 0.3934693402873666, 0.3934693402873666, 0.3934693402873666]\n",
            "Media de falhas:  [0, 260919263232.00003, 879116736268.4235, 6605656470865.122, 118452499456795.05, 237084366761707.16, 656228272287660.0, 739183014618289.6, 879867330518836.5, 1106648277162254.5, 2207110052916042.5, 1092646926200636.6]\n",
            "\n",
            "Custo =  1087163596802.0835\n",
            "=========================================================================\n",
            "\n"
          ]
        },
        {
          "output_type": "stream",
          "name": "stderr",
          "text": [
            "\rpyswarms.single.global_best: 100%|██████████|1/1, best_cost=2e+3\n",
            "2023-07-03 21:45:10,969 - pyswarms.single.global_best - INFO - Optimization finished | best cost: 2000.0, best pos: [ 0.32994507  0.17496387  0.94825454  0.79283941  0.63247628 -0.00383796\n",
            "  0.66479787  0.36422617  0.01744422  0.96103804  0.526778    0.60355708\n",
            "  0.56693943  0.02788412  0.65917009  0.69757622  0.8164817   0.70327701\n",
            "  0.68909181  0.97567168  0.23078815  0.49578655  0.77315005  0.406839\n",
            "  0.25966127  0.44004964  0.01490875  0.0501557   0.15816936  0.95678005]\n",
            "2023-07-03 21:45:10,973 - pyswarms.single.global_best - INFO - Optimize for 1 iters with {'c1': 0.5, 'c2': 0.3, 'w': 0.9}\n",
            "pyswarms.single.global_best:   0%|          |0/1, best_cost=2e+3"
          ]
        },
        {
          "output_type": "stream",
          "name": "stdout",
          "text": [
            "\n",
            "=========================================================================\n",
            "\n",
            "Número de ciclos de manutenção: 17 5\n",
            "Tempos para manutenções preventivas: [0, 960, 1470, 2070, 2370, 3270, 3870, 4170, 4470, 5070, 5370, 6360, 6570, 6870, 7260, 7770, 8370, 8970]\n",
            "Severidade para cada subsistema: [0.25, 0.25, 0.25, 0.25, 0.25, 0.25, 0.25, 0.25, 0.25, 0.25, 0.25, 0.25, 0.25, 0.25, 0.25, 0.25, 0.25]\n",
            "Fator:  [0.3296799539643607, 0.3934693402873666, 0.3934693402873666, 0.3934693402873666, 0.3934693402873666, 0.3934693402873666, 0.3934693402873666, 0.3934693402873666, 0.3934693402873666, 0.3934693402873666, 0.3934693402873666, 0.3934693402873666, 0.3934693402873666, 0.3934693402873666, 0.3934693402873666, 0.3934693402873666, 0.3934693402873666, 0.3934693402873666]\n",
            "Media de falhas:  [0, 260919263232.00003, 879116736268.4235, 3061533121590.738, 4977466417743.363, 25343331179637.637, 52341289087156.83, 71144386691049.11, 96032843875865.38, 176528126014342.62, 228682996770104.25, 553564212221825.25, 636518954552454.9, 777203270453001.8, 1003984217096419.8, 1390562664439246.5, 2001046440348494.5, 2808316155810039.0, 1227927228452012.8]\n",
            "\n",
            "Custo =  1087163596802.0835\n",
            "=========================================================================\n",
            "\n"
          ]
        },
        {
          "output_type": "stream",
          "name": "stderr",
          "text": [
            "\rpyswarms.single.global_best: 100%|██████████|1/1, best_cost=2e+3\n",
            "2023-07-03 21:45:10,992 - pyswarms.single.global_best - INFO - Optimization finished | best cost: 2000.0, best pos: [0.33022561 0.17475983 0.94800413 0.79283702 0.63224245 0.00111394\n",
            " 0.66471452 0.36606466 0.01732022 0.96325821 0.52778652 0.60609114\n",
            " 0.56676712 0.02867752 0.66018024 0.69685584 0.81647849 0.70332079\n",
            " 0.70237266 0.97146845 0.23078537 0.49521817 0.77304313 0.41528817\n",
            " 0.26669922 0.44200303 0.01488131 0.04887801 0.15959627 0.9561825 ]\n",
            "2023-07-03 21:45:10,994 - pyswarms.single.global_best - INFO - Optimize for 1 iters with {'c1': 0.5, 'c2': 0.3, 'w': 0.9}\n",
            "pyswarms.single.global_best:   0%|          |0/1"
          ]
        },
        {
          "output_type": "stream",
          "name": "stdout",
          "text": [
            "\n",
            "=========================================================================\n",
            "\n",
            "Número de ciclos de manutenção: 18 5\n",
            "Tempos para manutenções preventivas: [0, 960, 1470, 2070, 2370, 3270, 3870, 4170, 4470, 5070, 5370, 5670, 6360, 6570, 6870, 7770, 8370, 8670, 8970]\n",
            "Severidade para cada subsistema: [0.25, 0.25, 0.25, 0.25, 0.25, 0.25, 0.25, 0.25, 0.25, 0.25, 0.25, 0.25, 0.25, 0.25, 0.25, 0.25, 0.25, 0.25]\n",
            "Fator:  [0.3296799539643607, 0.3934693402873666, 0.3934693402873666, 0.3934693402873666, 0.3934693402873666, 0.3934693402873666, 0.3934693402873666, 0.3934693402873666, 0.3934693402873666, 0.3934693402873666, 0.3934693402873666, 0.3934693402873666, 0.3934693402873666, 0.3934693402873666, 0.3934693402873666, 0.3934693402873666, 0.3934693402873666, 0.3934693402873666, 0.3934693402873666]\n",
            "Media de falhas:  [0, 260919263232.00003, 879116736268.4235, 3061533121590.738, 4977466417743.363, 25343331179637.637, 52341289087156.83, 71144386691049.11, 96032843875865.38, 176528126014342.62, 228682996770104.25, 293613076366813.0, 523732604602178.75, 606687346932808.4, 747371662833355.2, 1414076244147753.0, 2024560020057001.0, 2383361019357380.0, 2794752212611384.0, 1214363285253357.8]\n",
            "\n",
            "Custo =  1087163596802.0835\n",
            "=========================================================================\n",
            "\n"
          ]
        },
        {
          "output_type": "stream",
          "name": "stderr",
          "text": [
            "pyswarms.single.global_best: 100%|██████████|1/1, best_cost=2e+3\n",
            "2023-07-03 21:45:11,014 - pyswarms.single.global_best - INFO - Optimization finished | best cost: 2000.0, best pos: [0.33049275 0.17440598 0.94775878 0.79283414 0.6320796  0.00596386\n",
            " 0.6646461  0.36814928 0.01716479 0.96560141 0.52877282 0.60840368\n",
            " 0.56673083 0.02920682 0.66098675 0.69698542 0.81647554 0.70334319\n",
            " 0.71330959 0.96812592 0.23078237 0.49467056 0.77543587 0.42623576\n",
            " 0.27386703 0.44378152 0.0154604  0.0479219  0.16111706 0.95530121]\n",
            "2023-07-03 21:45:11,015 - pyswarms.single.global_best - INFO - Optimize for 1 iters with {'c1': 0.5, 'c2': 0.3, 'w': 0.9}\n",
            "pyswarms.single.global_best:   0%|          |0/1, best_cost=2e+3"
          ]
        },
        {
          "output_type": "stream",
          "name": "stdout",
          "text": [
            "\n",
            "=========================================================================\n",
            "\n",
            "Número de ciclos de manutenção: 22 5\n",
            "Tempos para manutenções preventivas: [0, 960, 1170, 1470, 2070, 2370, 3270, 3570, 3870, 4170, 4470, 4770, 4980, 5070, 5370, 5670, 5970, 6360, 6570, 6870, 7770, 8670, 8970]\n",
            "Severidade para cada subsistema: [0.25, 0.25, 0.25, 0.25, 0.25, 0.25, 0.25, 0.25, 0.25, 0.25, 0.25, 0.25, 0.25, 0.25, 0.25, 0.25, 0.25, 0.25, 0.25, 0.25, 0.25, 0.25]\n",
            "Fator:  [0.3296799539643607, 0.3934693402873666, 0.3934693402873666, 0.3934693402873666, 0.3934693402873666, 0.3934693402873666, 0.3934693402873666, 0.3934693402873666, 0.3934693402873666, 0.3934693402873666, 0.3934693402873666, 0.3934693402873666, 0.3934693402873666, 0.3934693402873666, 0.3934693402873666, 0.3934693402873666, 0.3934693402873666, 0.3934693402873666, 0.3934693402873666, 0.3934693402873666, 0.3934693402873666, 0.3934693402873666, 0.3934693402873666]\n",
            "Media de falhas:  [0, 260919263232.00003, 370546939670.9568, 648683174407.3478, 2831099559729.662, 4747032855882.288, 25112897617776.562, 35153714862142.64, 49063266684059.625, 67866364287951.91, 92754821472768.16, 125100083037930.47, 152315662682831.7, 165038025027705.2, 217192895783466.8, 282122975380175.56, 362044516678641.4, 495051803257991.4, 578006545588621.0, 718690861489167.9, 1385395442803565.8, 2423972924419376.0, 2835364117673380.0, 1254975190315353.8]\n",
            "\n",
            "Custo =  1087163596802.0835\n",
            "=========================================================================\n",
            "\n"
          ]
        },
        {
          "output_type": "stream",
          "name": "stderr",
          "text": [
            "\rpyswarms.single.global_best: 100%|██████████|1/1, best_cost=2e+3\n",
            "2023-07-03 21:45:11,033 - pyswarms.single.global_best - INFO - Optimization finished | best cost: 2000.0, best pos: [0.33075208 0.17397443 0.94754867 0.79283155 0.63235354 0.00994983\n",
            " 0.66460707 0.37046315 0.0167905  0.96846313 0.52960938 0.61057947\n",
            " 0.56683235 0.02939888 0.66127482 0.6974664  0.81647339 0.70335333\n",
            " 0.71748316 0.96746085 0.23077915 0.49407707 0.77878217 0.43676606\n",
            " 0.28024434 0.44534717 0.01645619 0.04780398 0.16249307 0.9544003 ]\n",
            "2023-07-03 21:45:11,034 - pyswarms.single.global_best - INFO - Optimize for 1 iters with {'c1': 0.5, 'c2': 0.3, 'w': 0.9}\n",
            "pyswarms.single.global_best:   0%|          |0/1, best_cost=2e+3"
          ]
        },
        {
          "output_type": "stream",
          "name": "stdout",
          "text": [
            "\n",
            "=========================================================================\n",
            "\n",
            "Número de ciclos de manutenção: 19 5\n",
            "Tempos para manutenções preventivas: [0, 960, 1170, 1470, 2070, 2370, 3270, 3570, 3870, 4170, 4470, 4770, 5370, 5670, 5970, 6570, 7470, 7770, 8160, 8670]\n",
            "Severidade para cada subsistema: [0.25, 0.25, 0.25, 0.25, 0.25, 0.25, 0.25, 0.25, 0.25, 0.25, 0.25, 0.25, 0.25, 0.25, 0.25, 0.25, 0.25, 0.25, 0.25]\n",
            "Fator:  [0.3296799539643607, 0.3934693402873666, 0.3934693402873666, 0.3934693402873666, 0.3934693402873666, 0.3934693402873666, 0.3934693402873666, 0.3934693402873666, 0.3934693402873666, 0.3934693402873666, 0.3934693402873666, 0.3934693402873666, 0.3934693402873666, 0.3934693402873666, 0.3934693402873666, 0.3934693402873666, 0.3934693402873666, 0.3934693402873666, 0.3934693402873666, 0.3934693402873666]\n",
            "Media de falhas:  [0, 260919263232.00003, 370546939670.9568, 648683174407.3478, 2831099559729.662, 4747032855882.288, 25112897617776.562, 35153714862142.64, 49063266684059.625, 67866364287951.91, 92754821472768.16, 125100083037930.47, 226667830234423.7, 291597909831132.44, 371519451129598.25, 601087484946709.8, 1169627804453505.0, 1400518704148317.5, 1763664678785140.8, 2365138871796848.0, 1033989326427970.8]\n",
            "\n",
            "Custo =  1087163596802.0835\n",
            "=========================================================================\n",
            "\n"
          ]
        },
        {
          "output_type": "stream",
          "name": "stderr",
          "text": [
            "\rpyswarms.single.global_best: 100%|██████████|1/1, best_cost=2e+3\n",
            "2023-07-03 21:45:11,051 - pyswarms.single.global_best - INFO - Optimization finished | best cost: 2000.0, best pos: [0.33095788 0.17353876 0.94745277 0.79282933 0.63279868 0.01241569\n",
            " 0.66459465 0.37252088 0.01632056 0.97170219 0.53035637 0.61242737\n",
            " 0.56694994 0.02936937 0.6612543  0.6989545  0.81647211 0.70333369\n",
            " 0.71909211 0.96780626 0.2307762  0.4935746  0.78450414 0.44578557\n",
            " 0.28460519 0.44669072 0.0175912  0.04881421 0.16350937 0.95363572]\n",
            "2023-07-03 21:45:11,052 - pyswarms.single.global_best - INFO - Optimize for 1 iters with {'c1': 0.5, 'c2': 0.3, 'w': 0.9}\n",
            "pyswarms.single.global_best:   0%|          |0/1, best_cost=2e+3"
          ]
        },
        {
          "output_type": "stream",
          "name": "stdout",
          "text": [
            "\n",
            "=========================================================================\n",
            "\n",
            "Número de ciclos de manutenção: 15 5\n",
            "Tempos para manutenções preventivas: [0, 1170, 2070, 2370, 3270, 3570, 3870, 4470, 4770, 5370, 5670, 5970, 7470, 7770, 8160, 8670]\n",
            "Severidade para cada subsistema: [0.25, 0.25, 0.25, 0.25, 0.25, 0.25, 0.25, 0.25, 0.25, 0.25, 0.25, 0.25, 0.25, 0.25, 0.25]\n",
            "Fator:  [0.3296799539643607, 0.3934693402873666, 0.3934693402873666, 0.3934693402873666, 0.3934693402873666, 0.3934693402873666, 0.3934693402873666, 0.3934693402873666, 0.3934693402873666, 0.3934693402873666, 0.3934693402873666, 0.3934693402873666, 0.3934693402873666, 0.3934693402873666, 0.3934693402873666, 0.3934693402873666]\n",
            "Media de falhas:  [0, 701583371424.0, 4943882693676.4, 6859815989829.026, 27225680751723.3, 37266497996089.38, 51176049818006.375, 99536956491634.34, 131882218056796.66, 233449965253289.88, 298380044849998.6, 378301586148464.4, 1306090063219794.0, 1536980962914606.5, 1900126937551429.8, 2501601130563137.0, 1170451585194259.8]\n",
            "\n",
            "Custo =  2398575628801.7095\n",
            "=========================================================================\n",
            "\n"
          ]
        },
        {
          "output_type": "stream",
          "name": "stderr",
          "text": [
            "\rpyswarms.single.global_best: 100%|██████████|1/1, best_cost=2e+3\n",
            "2023-07-03 21:45:11,069 - pyswarms.single.global_best - INFO - Optimization finished | best cost: 2000.0, best pos: [0.33110358 0.17318528 0.94740589 0.7928285  0.63325828 0.0131042\n",
            " 0.6646196  0.37425859 0.0158878  0.97448359 0.5307507  0.61330412\n",
            " 0.56705898 0.02915248 0.66113672 0.70116618 0.81647184 0.70328257\n",
            " 0.71778411 0.97144983 0.23077393 0.49323084 0.78992424 0.45149135\n",
            " 0.2856256  0.44714664 0.01858602 0.05269083 0.1642709  0.95328215]\n",
            "2023-07-03 21:45:11,070 - pyswarms.single.global_best - INFO - Optimize for 1 iters with {'c1': 0.5, 'c2': 0.3, 'w': 0.9}\n",
            "pyswarms.single.global_best: 100%|██████████|1/1, best_cost=2e+3\n",
            "2023-07-03 21:45:11,086 - pyswarms.single.global_best - INFO - Optimization finished | best cost: 2000.0, best pos: [0.33117574 0.17298039 0.94748939 0.79282894 0.63367868 0.01318522\n",
            " 0.66468036 0.374909   0.01554479 0.97670631 0.5308475  0.61368584\n",
            " 0.56718698 0.02860034 0.6607614  0.70334149 0.81647173 0.70323365\n",
            " 0.71041371 0.97527728 0.23077313 0.49318176 0.79476121 0.45274755\n",
            " 0.28563128 0.44736212 0.01940469 0.05745402 0.16431228 0.95316399]\n",
            "2023-07-03 21:45:11,088 - pyswarms.single.global_best - INFO - Optimize for 1 iters with {'c1': 0.5, 'c2': 0.3, 'w': 0.9}\n"
          ]
        },
        {
          "output_type": "stream",
          "name": "stdout",
          "text": [
            "\n",
            "=========================================================================\n",
            "\n",
            "Número de ciclos de manutenção: 15 5\n",
            "Tempos para manutenções preventivas: [0, 1170, 2070, 2370, 2970, 3270, 3570, 3870, 4770, 5370, 5670, 5970, 7470, 7770, 8160, 8670]\n",
            "Severidade para cada subsistema: [0.25, 0.25, 0.25, 0.25, 0.25, 0.25, 0.25, 0.25, 0.25, 0.25, 0.25, 0.25, 0.25, 0.25, 0.25]\n",
            "Fator:  [0.3296799539643607, 0.3934693402873666, 0.3934693402873666, 0.3934693402873666, 0.3934693402873666, 0.3934693402873666, 0.3934693402873666, 0.3934693402873666, 0.3934693402873666, 0.3934693402873666, 0.3934693402873666, 0.3934693402873666, 0.3934693402873666, 0.3934693402873666, 0.3934693402873666, 0.3934693402873666]\n",
            "Media de falhas:  [0, 701583371424.0, 4943882693676.4, 6859815989829.026, 16131818029833.727, 23174337712498.625, 33215154956864.703, 47124706778781.69, 139866143147099.34, 241433890343592.56, 306363969940301.3, 386285511238767.1, 1314073988310097.0, 1544964888004909.5, 1908110862641732.8, 2509585055653440.0, 1178435510284562.8]\n",
            "\n",
            "Custo =  2398575628801.7095\n",
            "=========================================================================\n",
            "\n"
          ]
        },
        {
          "output_type": "stream",
          "name": "stderr",
          "text": [
            "pyswarms.single.global_best:   0%|          |0/1, best_cost=2e+3"
          ]
        },
        {
          "output_type": "stream",
          "name": "stdout",
          "text": [
            "\n",
            "=========================================================================\n",
            "\n",
            "Número de ciclos de manutenção: 11 5\n",
            "Tempos para manutenções preventivas: [0, 1170, 2070, 2970, 3270, 3870, 4770, 5670, 5970, 7470, 7770, 8670]\n",
            "Severidade para cada subsistema: [0.25, 0.25, 0.25, 0.25, 0.25, 0.25, 0.25, 0.25, 0.25, 0.25, 0.25]\n",
            "Fator:  [0.3296799539643607, 0.3934693402873666, 0.3934693402873666, 0.3934693402873666, 0.3934693402873666, 0.3934693402873666, 0.3934693402873666, 0.3934693402873666, 0.3934693402873666, 0.3934693402873666, 0.3934693402873666, 0.3934693402873666]\n",
            "Media de falhas:  [0, 701583371424.0, 4943882693676.4, 18836053162883.473, 25878572845548.37, 52876530753067.56, 145617967121385.22, 332029542935161.6, 411951084233627.4, 1339739561304957.0, 1570630460999769.5, 2609207942615579.5, 1278058397246702.2]\n",
            "\n",
            "Custo =  2398575628801.7095\n",
            "=========================================================================\n",
            "\n"
          ]
        },
        {
          "output_type": "stream",
          "name": "stderr",
          "text": [
            "\rpyswarms.single.global_best: 100%|██████████|1/1, best_cost=2e+3\n",
            "2023-07-03 21:45:11,226 - pyswarms.single.global_best - INFO - Optimization finished | best cost: 2000.0, best pos: [0.33112661 0.1730054  0.94760598 0.79282968 0.63405302 0.01163049\n",
            " 0.66474891 0.37532215 0.01538194 0.97815932 0.53058365 0.61341198\n",
            " 0.56731861 0.02803466 0.66020642 0.70507338 0.81647321 0.70318849\n",
            " 0.69855552 0.98414427 0.23077242 0.49316959 0.79908657 0.4487761\n",
            " 0.28240051 0.44686918 0.02000705 0.0620609  0.16428538 0.95336911]\n",
            "2023-07-03 21:45:11,227 - pyswarms.single.global_best - INFO - Optimize for 1 iters with {'c1': 0.5, 'c2': 0.3, 'w': 0.9}\n",
            "pyswarms.single.global_best: 100%|██████████|1/1, best_cost=2e+3\n",
            "2023-07-03 21:45:11,238 - pyswarms.single.global_best - INFO - Optimization finished | best cost: 2000.0, best pos: [0.33096761 0.17306979 0.94772307 0.7928312  0.63425192 0.00893297\n",
            " 0.6648131  0.37499737 0.01536056 0.97833286 0.52979992 0.61232104\n",
            " 0.56741623 0.02752015 0.65954731 0.70635444 0.81647511 0.70314946\n",
            " 0.68705065 0.99280224 0.23077199 0.49330001 0.80072656 0.44453032\n",
            " 0.27802248 0.44618568 0.02043315 0.06612479 0.16359439 0.95394178]\n",
            "2023-07-03 21:45:11,240 - pyswarms.single.global_best - INFO - Optimize for 1 iters with {'c1': 0.5, 'c2': 0.3, 'w': 0.9}\n"
          ]
        },
        {
          "output_type": "stream",
          "name": "stdout",
          "text": [
            "\n",
            "=========================================================================\n",
            "\n",
            "Número de ciclos de manutenção: 5 5\n",
            "Tempos para manutenções preventivas: [0, 2070, 2970, 4770, 7470, 8670]\n",
            "Severidade para cada subsistema: [0.25, 0.25, 0.25, 0.25, 0.25]\n",
            "Fator:  [0.3296799539643607, 0.3934693402873666, 0.3934693402873666, 0.3934693402873666, 0.3934693402873666, 0.3934693402873666]\n",
            "Media de falhas:  [0, 12161907769824.002, 30561376676913.703, 218358503512592.75, 1905085578273600.0, 3272092162424159.5, 1940942617055282.2]\n",
            "\n",
            "Custo =  23501271052800.97\n",
            "=========================================================================\n",
            "\n"
          ]
        },
        {
          "output_type": "stream",
          "name": "stderr",
          "text": [
            "pyswarms.single.global_best: 100%|██████████|1/1, best_cost=2e+3\n",
            "2023-07-03 21:45:11,252 - pyswarms.single.global_best - INFO - Optimization finished | best cost: 2000.0, best pos: [0.33079356 0.17331525 0.94788785 0.79283271 0.63429649 0.00560096\n",
            " 0.66486573 0.3735932  0.01544304 0.97747555 0.5288474  0.61073809\n",
            " 0.56750404 0.02705961 0.65894752 0.70656649 0.81647752 0.70312191\n",
            " 0.67679403 1.00064738 0.23077287 0.49360532 0.80081435 0.4399665\n",
            " 0.27323885 0.44451318 0.0202751  0.06865786 0.16288755 0.95449929]\n",
            "2023-07-03 21:45:11,254 - pyswarms.single.global_best - INFO - Optimize for 1 iters with {'c1': 0.5, 'c2': 0.3, 'w': 0.9}\n"
          ]
        },
        {
          "output_type": "stream",
          "name": "stdout",
          "text": [
            "\n",
            "=========================================================================\n",
            "\n",
            "Número de ciclos de manutenção: 3 5\n",
            "Tempos para manutenções preventivas: [0, 570, 2970, 4770]\n",
            "Severidade para cada subsistema: [0.25, 0.25, 0.25]\n",
            "Fator:  [0.3296799539643607, 0.3934693402873666, 0.3934693402873666, 0.3934693402873666]\n",
            "Media de falhas:  [0, 19254145824.0, 53350130920180.81, 241147257755859.84, 175648103729289.97]\n",
            "\n",
            "Custo =  135116812803.50877\n",
            "=========================================================================\n",
            "\n"
          ]
        },
        {
          "output_type": "stream",
          "name": "stderr",
          "text": [
            "pyswarms.single.global_best:   0%|          |0/1, best_cost=2e+3"
          ]
        },
        {
          "output_type": "stream",
          "name": "stdout",
          "text": [
            "\n",
            "=========================================================================\n",
            "\n",
            "Número de ciclos de manutenção: 3 5\n",
            "Tempos para manutenções preventivas: [0, 570, 2970, 4770]\n",
            "Severidade para cada subsistema: [0.25, 0.25, 0.25]\n",
            "Fator:  [0.3296799539643607, 0.3934693402873666, 0.3934693402873666, 0.3934693402873666]\n",
            "Media de falhas:  [0, 19254145824.0, 53350130920180.81, 241147257755859.84, 175648103729289.97]\n",
            "\n",
            "Custo =  135116812803.50877\n",
            "=========================================================================\n",
            "\n"
          ]
        },
        {
          "output_type": "stream",
          "name": "stderr",
          "text": [
            "\rpyswarms.single.global_best: 100%|██████████|1/1, best_cost=2e+3\n",
            "2023-07-03 21:45:11,270 - pyswarms.single.global_best - INFO - Optimization finished | best cost: 2000.0, best pos: [0.33060038 0.17364509 0.94803673 0.79283418 0.63419738 0.00244158\n",
            " 0.66489128 0.37225913 0.01562537 0.97645394 0.52798977 0.60905112\n",
            " 0.56751385 0.02674952 0.65849877 0.70576321 0.81647968 0.70312625\n",
            " 0.66966809 1.00620824 0.23077385 0.49402629 0.79963474 0.43418534\n",
            " 0.2688324  0.44285428 0.01943645 0.06908684 0.1617477  0.9550318 ]\n",
            "2023-07-03 21:45:11,271 - pyswarms.single.global_best - INFO - Optimize for 1 iters with {'c1': 0.5, 'c2': 0.3, 'w': 0.9}\n",
            "pyswarms.single.global_best: 100%|██████████|1/1, best_cost=2e+3\n",
            "2023-07-03 21:45:11,281 - pyswarms.single.global_best - INFO - Optimization finished | best cost: 2000.0, best pos: [ 3.30431967e-01  1.73969726e-01  9.48146284e-01  7.92835417e-01\n",
            "  6.34052098e-01 -7.31423479e-05  6.64878380e-01  3.70787812e-01\n",
            "  1.58538645e-02  9.75350220e-01  5.27292627e-01  6.07497274e-01\n",
            "  5.67502975e-01  2.65999181e-02  6.58278254e-01  7.04222472e-01\n",
            "  8.16481274e-01  7.03155563e-01  6.67980262e-01  1.01056383e+00\n",
            "  2.30775470e-01  4.94445359e-01  7.96765910e-01  4.28959197e-01\n",
            "  2.65924106e-01  4.41268388e-01  1.80856299e-02  6.73810671e-02\n",
            "  1.60704500e-01  9.55469110e-01]\n",
            "2023-07-03 21:45:11,283 - pyswarms.single.global_best - INFO - Optimize for 1 iters with {'c1': 0.5, 'c2': 0.3, 'w': 0.9}\n"
          ]
        },
        {
          "output_type": "stream",
          "name": "stdout",
          "text": [
            "\n",
            "=========================================================================\n",
            "\n",
            "Número de ciclos de manutenção: 3 5\n",
            "Tempos para manutenções preventivas: [0, 570, 2970, 4170]\n",
            "Severidade para cada subsistema: [0.25, 0.25, 0.25]\n",
            "Fator:  [0.3296799539643607, 0.3934693402873666, 0.3934693402873666, 0.3934693402873666]\n",
            "Media de falhas:  [0, 19254145824.0, 53350130920180.81, 125221126244837.86, 91900309103974.22]\n",
            "\n",
            "Custo =  135116812803.50877\n",
            "=========================================================================\n",
            "\n"
          ]
        },
        {
          "output_type": "stream",
          "name": "stderr",
          "text": [
            "pyswarms.single.global_best:   0%|          |0/1, best_cost=2e+3"
          ]
        },
        {
          "output_type": "stream",
          "name": "stdout",
          "text": [
            "\n",
            "=========================================================================\n",
            "\n",
            "Número de ciclos de manutenção: 6 5\n",
            "Tempos para manutenções preventivas: [0, 570, 1470, 2970, 4170, 5070, 6870]\n",
            "Severidade para cada subsistema: [0.25, 0.25, 0.25, 0.25, 0.25, 0.25]\n",
            "Fator:  [0.3296799539643607, 0.3934693402873666, 0.3934693402873666, 0.3934693402873666, 0.3934693402873666, 0.3934693402873666, 0.3934693402873666]\n",
            "Media de falhas:  [0, 19254145824.0, 1125133110056.422, 25982435101759.28, 97853430426416.33, 216485297731328.44, 1009686699841761.8, 598142696516068.2]\n",
            "\n",
            "Custo =  135116812803.50877\n",
            "=========================================================================\n",
            "\n"
          ]
        },
        {
          "output_type": "stream",
          "name": "stderr",
          "text": [
            "\rpyswarms.single.global_best: 100%|██████████|1/1, best_cost=2e+3\n",
            "2023-07-03 21:45:11,298 - pyswarms.single.global_best - INFO - Optimization finished | best cost: 2000.0, best pos: [ 0.33032911  0.17425194  0.94823127  0.7928364   0.63383112 -0.0012724\n",
            "  0.6648577   0.3693226   0.01615035  0.97355395  0.52680158  0.60612862\n",
            "  0.56747015  0.02651059  0.65821871  0.70269624  0.81648255  0.70318298\n",
            "  0.67018221  1.0144579   0.23077764  0.4948      0.79306697  0.4253168\n",
            "  0.26533524  0.44011227  0.01679562  0.06469096  0.15988991  0.95582873]\n",
            "2023-07-03 21:45:11,299 - pyswarms.single.global_best - INFO - Optimize for 1 iters with {'c1': 0.5, 'c2': 0.3, 'w': 0.9}\n",
            "pyswarms.single.global_best: 100%|██████████|1/1, best_cost=2e+3\n",
            "2023-07-03 21:45:11,314 - pyswarms.single.global_best - INFO - Optimization finished | best cost: 2000.0, best pos: [ 0.33031435  0.17438034  0.94824132  0.79283706  0.63362691 -0.00125123\n",
            "  0.66483554  0.36812345  0.01641906  0.97177234  0.52642838  0.60559126\n",
            "  0.5673937   0.02666789  0.65845507  0.70120718  0.81648221  0.70321219\n",
            "  0.67723257  1.01473351  0.2307799   0.49508749  0.78871908  0.42343178\n",
            "  0.26581904  0.4391426   0.01574481  0.06130413  0.15939774  0.95608856]\n",
            "2023-07-03 21:45:11,315 - pyswarms.single.global_best - INFO - Optimize for 1 iters with {'c1': 0.5, 'c2': 0.3, 'w': 0.9}\n"
          ]
        },
        {
          "output_type": "stream",
          "name": "stdout",
          "text": [
            "\n",
            "=========================================================================\n",
            "\n",
            "Número de ciclos de manutenção: 5 5\n",
            "Tempos para manutenções preventivas: [0, 570, 1470, 4170, 5070, 6870]\n",
            "Severidade para cada subsistema: [0.25, 0.25, 0.25, 0.25, 0.25]\n",
            "Fator:  [0.3296799539643607, 0.3934693402873666, 0.3934693402873666, 0.3934693402873666, 0.3934693402873666, 0.3934693402873666]\n",
            "Media de falhas:  [0, 19254145824.0, 1125133110056.422, 192189719023382.28, 310821586328294.4, 1104022988438727.6, 692478985113034.0]\n",
            "\n",
            "Custo =  135116812803.50877\n",
            "=========================================================================\n",
            "\n"
          ]
        },
        {
          "output_type": "stream",
          "name": "stderr",
          "text": [
            "pyswarms.single.global_best: 100%|██████████|1/1, best_cost=2e+3\n",
            "2023-07-03 21:45:11,328 - pyswarms.single.global_best - INFO - Optimization finished | best cost: 2000.0, best pos: [ 0.33034411  0.17441376  0.94823226  0.79283664  0.63343692 -0.00105766\n",
            "  0.66480813  0.36758646  0.01663868  0.97004477  0.52649549  0.6056803\n",
            "  0.5672991   0.0271432   0.65877288  0.7001159   0.81648139  0.70323863\n",
            "  0.6844485   1.00910432  0.2307819   0.49516197  0.78486685  0.42232318\n",
            "  0.26755623  0.43846383  0.01514992  0.05816894  0.15944516  0.95618193]\n",
            "2023-07-03 21:45:11,329 - pyswarms.single.global_best - INFO - Optimize for 1 iters with {'c1': 0.5, 'c2': 0.3, 'w': 0.9}\n"
          ]
        },
        {
          "output_type": "stream",
          "name": "stdout",
          "text": [
            "\n",
            "=========================================================================\n",
            "\n",
            "Número de ciclos de manutenção: 6 5\n",
            "Tempos para manutenções preventivas: [0, 570, 1470, 4170, 5070, 6570, 6870]\n",
            "Severidade para cada subsistema: [0.25, 0.25, 0.25, 0.25, 0.25, 0.25]\n",
            "Fator:  [0.3296799539643607, 0.3934693402873666, 0.3934693402873666, 0.3934693402873666, 0.3934693402873666, 0.3934693402873666, 0.3934693402873666]\n",
            "Media de falhas:  [0, 19254145824.0, 1125133110056.422, 192189719023382.28, 310821586328294.4, 864270218557564.5, 1004954534458111.4, 593410531132417.8]\n",
            "\n",
            "Custo =  135116812803.50877\n",
            "=========================================================================\n",
            "\n"
          ]
        },
        {
          "output_type": "stream",
          "name": "stderr",
          "text": [
            "pyswarms.single.global_best: 100%|██████████|1/1, best_cost=2e+3\n",
            "2023-07-03 21:45:11,343 - pyswarms.single.global_best - INFO - Optimization finished | best cost: 2000.0, best pos: [3.30421890e-01 1.74275506e-01 9.48203359e-01 7.92835488e-01\n",
            " 6.33282675e-01 4.73856844e-04 6.64770462e-01 3.67427079e-01\n",
            " 1.67339452e-02 9.68512867e-01 5.26713417e-01 6.05880917e-01\n",
            " 5.67203874e-01 2.77647836e-02 6.59214746e-01 6.99623630e-01\n",
            " 8.16480442e-01 7.03258408e-01 6.91467225e-01 1.00258093e+00\n",
            " 2.30783448e-01 4.95170659e-01 7.82318049e-01 4.24608464e-01\n",
            " 2.69190824e-01 4.38697431e-01 1.51463799e-02 5.54765838e-02\n",
            " 1.59720221e-01 9.55992428e-01]\n",
            "2023-07-03 21:45:11,344 - pyswarms.single.global_best - INFO - Optimize for 1 iters with {'c1': 0.5, 'c2': 0.3, 'w': 0.9}\n"
          ]
        },
        {
          "output_type": "stream",
          "name": "stdout",
          "text": [
            "\n",
            "=========================================================================\n",
            "\n",
            "Número de ciclos de manutenção: 6 5\n",
            "Tempos para manutenções preventivas: [0, 570, 1470, 4170, 5070, 6570, 6870]\n",
            "Severidade para cada subsistema: [0.25, 0.25, 0.25, 0.25, 0.25, 0.25]\n",
            "Fator:  [0.3296799539643607, 0.3934693402873666, 0.3934693402873666, 0.3934693402873666, 0.3934693402873666, 0.3934693402873666, 0.3934693402873666]\n",
            "Media de falhas:  [0, 19254145824.0, 1125133110056.422, 192189719023382.28, 310821586328294.4, 864270218557564.5, 1004954534458111.4, 593410531132417.8]\n",
            "\n",
            "Custo =  135116812803.50877\n",
            "=========================================================================\n",
            "\n"
          ]
        },
        {
          "output_type": "stream",
          "name": "stderr",
          "text": [
            "pyswarms.single.global_best: 100%|██████████|1/1, best_cost=2e+3\n",
            "2023-07-03 21:45:11,356 - pyswarms.single.global_best - INFO - Optimization finished | best cost: 2000.0, best pos: [0.33051404 0.17404206 0.94810357 0.7928341  0.63315763 0.00237986\n",
            " 0.66473627 0.36750832 0.01668637 0.96766711 0.52723327 0.60606569\n",
            " 0.5671208  0.0283626  0.65961814 0.69953808 0.81647876 0.70327464\n",
            " 0.69762937 0.99661753 0.23078357 0.49503009 0.78047948 0.42848048\n",
            " 0.27161288 0.43903424 0.01557906 0.05351593 0.16011954 0.95566837]\n",
            "2023-07-03 21:45:11,358 - pyswarms.single.global_best - INFO - Optimize for 1 iters with {'c1': 0.5, 'c2': 0.3, 'w': 0.9}\n"
          ]
        },
        {
          "output_type": "stream",
          "name": "stdout",
          "text": [
            "\n",
            "=========================================================================\n",
            "\n",
            "Número de ciclos de manutenção: 7 5\n",
            "Tempos para manutenções preventivas: [0, 1470, 2370, 3270, 4170, 5070, 6570, 6870]\n",
            "Severidade para cada subsistema: [0.25, 0.25, 0.25, 0.25, 0.25, 0.25, 0.25]\n",
            "Fator:  [0.3296799539643607, 0.3934693402873666, 0.3934693402873666, 0.3934693402873666, 0.3934693402873666, 0.3934693402873666, 0.3934693402873666, 0.3934693402873666]\n",
            "Media de falhas:  [0, 2196527536224.0002, 9522392536579.129, 29888257298473.402, 83840902599618.8, 202472769904530.9, 755921402133801.1, 896605718034348.0, 485061714708654.44]\n",
            "\n",
            "Custo =  5976945676801.361\n",
            "=========================================================================\n",
            "\n"
          ]
        },
        {
          "output_type": "stream",
          "name": "stderr",
          "text": [
            "pyswarms.single.global_best: 100%|██████████|1/1, best_cost=2e+3\n",
            "2023-07-03 21:45:11,371 - pyswarms.single.global_best - INFO - Optimization finished | best cost: 2000.0, best pos: [0.33060427 0.17377493 0.94799453 0.79283269 0.63313989 0.00424146\n",
            " 0.6647061  0.36758159 0.01656835 0.96696399 0.52795692 0.60673768\n",
            " 0.56706089 0.02887501 0.65993831 0.70010554 0.81647706 0.70327772\n",
            " 0.70294273 0.99054172 0.23078308 0.49483388 0.78046639 0.43333128\n",
            " 0.27382889 0.44028636 0.01644929 0.05256183 0.16078219 0.95537222]\n",
            "2023-07-03 21:45:11,373 - pyswarms.single.global_best - INFO - Optimize for 1 iters with {'c1': 0.5, 'c2': 0.3, 'w': 0.9}\n"
          ]
        },
        {
          "output_type": "stream",
          "name": "stdout",
          "text": [
            "\n",
            "=========================================================================\n",
            "\n",
            "Número de ciclos de manutenção: 10 5\n",
            "Tempos para manutenções preventivas: [0, 960, 1470, 2370, 3270, 4170, 5370, 6570, 6870, 7260, 8670]\n",
            "Severidade para cada subsistema: [0.25, 0.25, 0.25, 0.25, 0.25, 0.25, 0.25, 0.25, 0.25, 0.25]\n",
            "Fator:  [0.3296799539643607, 0.3934693402873666, 0.3934693402873666, 0.3934693402873666, 0.3934693402873666, 0.3934693402873666, 0.3934693402873666, 0.3934693402873666, 0.3934693402873666, 0.3934693402873666, 0.3934693402873666]\n",
            "Media de falhas:  [0, 260919263232.00003, 879116736268.4235, 6605656470865.122, 26971521232759.395, 80924166533904.78, 278610090224961.6, 724169263322348.0, 864853579222894.9, 1091634525866312.9, 2686592518688263.5, 1355442973319386.2]\n",
            "\n",
            "Custo =  1087163596802.0835\n",
            "=========================================================================\n",
            "\n"
          ]
        },
        {
          "output_type": "stream",
          "name": "stderr",
          "text": [
            "pyswarms.single.global_best: 100%|██████████|1/1, best_cost=2e+3\n",
            "2023-07-03 21:45:11,389 - pyswarms.single.global_best - INFO - Optimization finished | best cost: 2000.0, best pos: [0.33068794 0.17353704 0.94788625 0.79283143 0.6331851  0.00589818\n",
            " 0.66468683 0.36819366 0.01640522 0.96661655 0.52871869 0.60775873\n",
            " 0.5670222  0.02931455 0.66010117 0.70068364 0.81647556 0.70327818\n",
            " 0.70452971 0.98522691 0.23078212 0.49453622 0.78174702 0.4376995\n",
            " 0.27559197 0.44148297 0.01749602 0.05348308 0.1614457  0.95501172]\n",
            "2023-07-03 21:45:11,390 - pyswarms.single.global_best - INFO - Optimize for 1 iters with {'c1': 0.5, 'c2': 0.3, 'w': 0.9}\n"
          ]
        },
        {
          "output_type": "stream",
          "name": "stdout",
          "text": [
            "\n",
            "=========================================================================\n",
            "\n",
            "Número de ciclos de manutenção: 13 5\n",
            "Tempos para manutenções preventivas: [0, 960, 1470, 2370, 3270, 4170, 4470, 5370, 5670, 6570, 6870, 7260, 7770, 8670]\n",
            "Severidade para cada subsistema: [0.25, 0.25, 0.25, 0.25, 0.25, 0.25, 0.25, 0.25, 0.25, 0.25, 0.25, 0.25, 0.25]\n",
            "Fator:  [0.3296799539643607, 0.3934693402873666, 0.3934693402873666, 0.3934693402873666, 0.3934693402873666, 0.3934693402873666, 0.3934693402873666, 0.3934693402873666, 0.3934693402873666, 0.3934693402873666, 0.3934693402873666, 0.3934693402873666, 0.3934693402873666, 0.3934693402873666]\n",
            "Media de falhas:  [0, 260919263232.00003, 879116736268.4235, 6605656470865.122, 26971521232759.395, 80924166533904.78, 105812623718721.03, 255454790710859.4, 320384870307568.2, 658620009498251.5, 799304325398798.4, 1026085272042216.4, 1412663719385043.0, 2451241201000853.0, 1120091655631975.8]\n",
            "\n",
            "Custo =  1087163596802.0835\n",
            "=========================================================================\n",
            "\n"
          ]
        },
        {
          "output_type": "stream",
          "name": "stderr",
          "text": [
            "pyswarms.single.global_best: 100%|██████████|1/1, best_cost=2e+3\n",
            "2023-07-03 21:45:11,405 - pyswarms.single.global_best - INFO - Optimization finished | best cost: 2000.0, best pos: [0.33075564 0.17336366 0.94779406 0.79283031 0.6333209  0.00731135\n",
            " 0.66467452 0.36905031 0.01624348 0.96739116 0.5293582  0.60898305\n",
            " 0.56703882 0.02969931 0.6600475  0.70129408 0.8164746  0.70327153\n",
            " 0.70500635 0.98054991 0.23078081 0.49423432 0.785058   0.44054764\n",
            " 0.27663442 0.44260547 0.01843209 0.0558688  0.1619768  0.95466821]\n",
            "2023-07-03 21:45:11,406 - pyswarms.single.global_best - INFO - Optimize for 1 iters with {'c1': 0.5, 'c2': 0.3, 'w': 0.9}\n"
          ]
        },
        {
          "output_type": "stream",
          "name": "stdout",
          "text": [
            "\n",
            "=========================================================================\n",
            "\n",
            "Número de ciclos de manutenção: 11 5\n",
            "Tempos para manutenções preventivas: [0, 960, 2070, 2370, 3270, 4170, 5370, 5670, 5970, 6570, 7770, 8670]\n",
            "Severidade para cada subsistema: [0.25, 0.25, 0.25, 0.25, 0.25, 0.25, 0.25, 0.25, 0.25, 0.25, 0.25]\n",
            "Fator:  [0.3296799539643607, 0.3934693402873666, 0.3934693402873666, 0.3934693402873666, 0.3934693402873666, 0.3934693402873666, 0.3934693402873666, 0.3934693402873666, 0.3934693402873666, 0.3934693402873666, 0.3934693402873666, 0.3934693402873666]\n",
            "Media de falhas:  [0, 260919263232.00003, 5530637145308.785, 7446570441461.411, 27812435203355.684, 81765080504501.08, 279451004195557.88, 344381083792266.6, 424302625090732.4, 653870658907843.9, 1531424275437756.0, 2570001757053566.0, 1238852211684688.8]\n",
            "\n",
            "Custo =  1087163596802.0835\n",
            "=========================================================================\n",
            "\n"
          ]
        },
        {
          "output_type": "stream",
          "name": "stderr",
          "text": [
            "pyswarms.single.global_best: 100%|██████████|1/1, best_cost=2e+3\n",
            "2023-07-03 21:45:11,422 - pyswarms.single.global_best - INFO - Optimization finished | best cost: 2000.0, best pos: [0.33081415 0.17323621 0.94773254 0.7928298  0.63347536 0.00811835\n",
            " 0.66466952 0.36995664 0.01609981 0.96861759 0.52978171 0.61005638\n",
            " 0.56708324 0.02968769 0.65991651 0.70195707 0.81647454 0.70326145\n",
            " 0.7047294  0.97864834 0.23077912 0.49397047 0.78896006 0.4428291\n",
            " 0.27695732 0.44360134 0.01908124 0.05899579 0.16239223 0.95436943]\n",
            "2023-07-03 21:45:11,423 - pyswarms.single.global_best - INFO - Optimize for 1 iters with {'c1': 0.5, 'c2': 0.3, 'w': 0.9}\n"
          ]
        },
        {
          "output_type": "stream",
          "name": "stdout",
          "text": [
            "\n",
            "=========================================================================\n",
            "\n",
            "Número de ciclos de manutenção: 10 5\n",
            "Tempos para manutenções preventivas: [0, 2070, 2370, 3270, 3870, 5370, 5670, 5970, 6570, 7770, 8670]\n",
            "Severidade para cada subsistema: [0.25, 0.25, 0.25, 0.25, 0.25, 0.25, 0.25, 0.25, 0.25, 0.25]\n",
            "Fator:  [0.3296799539643607, 0.3934693402873666, 0.3934693402873666, 0.3934693402873666, 0.3934693402873666, 0.3934693402873666, 0.3934693402873666, 0.3934693402873666, 0.3934693402873666, 0.3934693402873666, 0.3934693402873666]\n",
            "Media de falhas:  [0, 12161907769824.002, 14895722354517.078, 35261587116411.35, 62259545023930.54, 309179151278214.3, 374109230874923.06, 454030772173388.9, 683598805990500.4, 1561152422520412.5, 2599729904136222.5, 1268580358767345.2]\n",
            "\n",
            "Custo =  23501271052800.97\n",
            "=========================================================================\n",
            "\n"
          ]
        },
        {
          "output_type": "stream",
          "name": "stderr",
          "text": [
            "pyswarms.single.global_best: 100%|██████████|1/1, best_cost=2e+3\n",
            "2023-07-03 21:45:11,435 - pyswarms.single.global_best - INFO - Optimization finished | best cost: 2000.0, best pos: [0.3308631  0.17314876 0.94769581 0.79282962 0.63363161 0.00789117\n",
            " 0.66466569 0.37083296 0.0160113  0.9697403  0.52995564 0.61082329\n",
            " 0.56716478 0.02965114 0.65966409 0.70258479 0.81647482 0.70324721\n",
            " 0.70106432 0.97906691 0.23077758 0.49376917 0.79257065 0.44440512\n",
            " 0.27603903 0.44439961 0.01948886 0.06223166 0.16247083 0.95414537]\n",
            "2023-07-03 21:45:11,437 - pyswarms.single.global_best - INFO - Optimize for 1 iters with {'c1': 0.5, 'c2': 0.3, 'w': 0.9}\n"
          ]
        },
        {
          "output_type": "stream",
          "name": "stdout",
          "text": [
            "\n",
            "=========================================================================\n",
            "\n",
            "Número de ciclos de manutenção: 12 5\n",
            "Tempos para manutenções preventivas: [0, 2070, 2370, 2970, 3270, 3870, 4770, 5370, 5670, 5970, 6570, 7770, 8670]\n",
            "Severidade para cada subsistema: [0.25, 0.25, 0.25, 0.25, 0.25, 0.25, 0.25, 0.25, 0.25, 0.25, 0.25, 0.25]\n",
            "Fator:  [0.3296799539643607, 0.3934693402873666, 0.3934693402873666, 0.3934693402873666, 0.3934693402873666, 0.3934693402873666, 0.3934693402873666, 0.3934693402873666, 0.3934693402873666, 0.3934693402873666, 0.3934693402873666, 0.3934693402873666, 0.3934693402873666]\n",
            "Media de falhas:  [0, 12161907769824.002, 14895722354517.078, 24167724394521.777, 31210244077186.676, 58208201984705.86, 150949638353023.5, 252517385549516.7, 317447465146225.44, 397369006444691.25, 626937040261802.8, 1504490656791714.8, 2543068138407525.0, 1211918593038647.8]\n",
            "\n",
            "Custo =  23501271052800.97\n",
            "=========================================================================\n",
            "\n"
          ]
        },
        {
          "output_type": "stream",
          "name": "stderr",
          "text": [
            "pyswarms.single.global_best: 100%|██████████|1/1, best_cost=2e+3\n",
            "2023-07-03 21:45:11,450 - pyswarms.single.global_best - INFO - Optimization finished | best cost: 2000.0, best pos: [0.3308987  0.17318952 0.94767875 0.79282994 0.63376091 0.00673943\n",
            " 0.66467294 0.37151899 0.01597535 0.97077621 0.52971627 0.61132839\n",
            " 0.56724327 0.02955973 0.65941014 0.70300516 0.81647534 0.70323227\n",
            " 0.695123   0.98118345 0.23077639 0.4936827  0.7950355  0.44312669\n",
            " 0.27434903 0.44456716 0.01927198 0.06472447 0.16223358 0.9539579 ]\n",
            "2023-07-03 21:45:11,452 - pyswarms.single.global_best - INFO - Optimize for 1 iters with {'c1': 0.5, 'c2': 0.3, 'w': 0.9}\n"
          ]
        },
        {
          "output_type": "stream",
          "name": "stdout",
          "text": [
            "\n",
            "=========================================================================\n",
            "\n",
            "Número de ciclos de manutenção: 10 5\n",
            "Tempos para manutenções preventivas: [0, 2070, 2370, 2970, 3870, 4770, 5670, 5970, 7470, 7770, 8670]\n",
            "Severidade para cada subsistema: [0.25, 0.25, 0.25, 0.25, 0.25, 0.25, 0.25, 0.25, 0.25, 0.25]\n",
            "Fator:  [0.3296799539643607, 0.3934693402873666, 0.3934693402873666, 0.3934693402873666, 0.3934693402873666, 0.3934693402873666, 0.3934693402873666, 0.3934693402873666, 0.3934693402873666, 0.3934693402873666, 0.3934693402873666]\n",
            "Media de falhas:  [0, 12161907769824.002, 14895722354517.078, 24167724394521.777, 64132954886769.95, 156874391255087.62, 343285967068864.06, 423207508367329.9, 1350995985438659.5, 1581886885133472.0, 2620464366749282.0, 1289314821380404.8]\n",
            "\n",
            "Custo =  23501271052800.97\n",
            "=========================================================================\n",
            "\n"
          ]
        },
        {
          "output_type": "stream",
          "name": "stderr",
          "text": [
            "\rpyswarms.single.global_best:   0%|          |0/1"
          ]
        },
        {
          "output_type": "stream",
          "name": "stdout",
          "text": [
            "\n",
            "=========================================================================\n",
            "\n",
            "Número de ciclos de manutenção: "
          ]
        },
        {
          "output_type": "stream",
          "name": "stderr",
          "text": [
            "pyswarms.single.global_best: 100%|██████████|1/1, best_cost=2e+3\n",
            "2023-07-03 21:45:11,591 - pyswarms.single.global_best - INFO - Optimization finished | best cost: 2000.0, best pos: [0.33086107 0.17330888 0.94772436 0.79283058 0.63383715 0.0053344\n",
            " 0.66468501 0.37178984 0.01601003 0.97180382 0.52916076 0.6115906\n",
            " 0.56731368 0.02904009 0.65916835 0.70333449 0.81647593 0.7032157\n",
            " 0.68865048 0.98592349 0.23077585 0.49362307 0.79688822 0.44149645\n",
            " 0.27274485 0.44441322 0.01888189 0.06584226 0.16178357 0.95398718]\n",
            "2023-07-03 21:45:11,592 - pyswarms.single.global_best - INFO - Optimize for 1 iters with {'c1': 0.5, 'c2': 0.3, 'w': 0.9}\n"
          ]
        },
        {
          "output_type": "stream",
          "name": "stdout",
          "text": [
            "7 5\n",
            "Tempos para manutenções preventivas: [0, 2070, 2970, 3870, 4770, 5970, 7770, 8670]\n",
            "Severidade para cada subsistema: [0.25, 0.25, 0.25, 0.25, 0.25, 0.25, 0.25]\n",
            "Fator:  [0.3296799539643607, 0.3934693402873666, 0.3934693402873666, 0.3934693402873666, 0.3934693402873666, 0.3934693402873666, 0.3934693402873666, 0.3934693402873666]\n",
            "Media de falhas:  [0, 12161907769824.002, 30561376676913.703, 70526607169161.88, 163268043537479.53, 466057453982853.4, 1764964140984925.5, 2803541622600735.5, 1472392077231858.2]\n",
            "\n",
            "Custo =  23501271052800.97\n",
            "=========================================================================\n",
            "\n"
          ]
        },
        {
          "output_type": "stream",
          "name": "stderr",
          "text": [
            "pyswarms.single.global_best:   0%|          |0/1, best_cost=2e+3"
          ]
        },
        {
          "output_type": "stream",
          "name": "stdout",
          "text": [
            "\n",
            "=========================================================================\n",
            "\n",
            "Número de ciclos de manutenção: 4 5\n",
            "Tempos para manutenções preventivas: [0, 2070, 2970, 4770, 8670]\n",
            "Severidade para cada subsistema: [0.25, 0.25, 0.25, 0.25]\n",
            "Fator:  [0.3296799539643607, 0.3934693402873666, 0.3934693402873666, 0.3934693402873666, 0.3934693402873666]\n",
            "Media de falhas:  [0, 12161907769824.002, 30561376676913.703, 218358503512592.75, 4782699056332447.0, 3451549510963570.0]\n",
            "\n",
            "Custo =  23501271052800.97\n",
            "=========================================================================\n",
            "\n"
          ]
        },
        {
          "output_type": "stream",
          "name": "stderr",
          "text": [
            "\rpyswarms.single.global_best: 100%|██████████|1/1, best_cost=2e+3\n",
            "2023-07-03 21:45:11,605 - pyswarms.single.global_best - INFO - Optimization finished | best cost: 2000.0, best pos: [0.33079891 0.17348498 0.94781683 0.79283169 0.63384099 0.00391822\n",
            " 0.66470843 0.37198464 0.0160473  0.97259168 0.52865883 0.61175536\n",
            " 0.56737011 0.02829862 0.6589657  0.70343248 0.8164769  0.70320217\n",
            " 0.68311864 0.99141843 0.23077537 0.49364511 0.79771363 0.43836087\n",
            " 0.27130966 0.4442147  0.01814142 0.06569633 0.16127902 0.95425712]\n",
            "2023-07-03 21:45:11,606 - pyswarms.single.global_best - INFO - Optimize for 1 iters with {'c1': 0.5, 'c2': 0.3, 'w': 0.9}\n",
            "pyswarms.single.global_best: 100%|██████████|1/1, best_cost=2e+3\n",
            "2023-07-03 21:45:11,616 - pyswarms.single.global_best - INFO - Optimization finished | best cost: 2000.0, best pos: [0.33069383 0.17365039 0.94790014 0.79283275 0.63380471 0.00269653\n",
            " 0.66474348 0.37199911 0.01609772 0.97297066 0.52818817 0.6119035\n",
            " 0.56738931 0.02753954 0.65887062 0.70313521 0.81647785 0.7031948\n",
            " 0.67949355 0.99668108 0.2307757  0.49374557 0.79625125 0.43434887\n",
            " 0.27022801 0.44383399 0.01734967 0.06526783 0.1607854  0.954625  ]\n",
            "2023-07-03 21:45:11,618 - pyswarms.single.global_best - INFO - Optimize for 1 iters with {'c1': 0.5, 'c2': 0.3, 'w': 0.9}\n"
          ]
        },
        {
          "output_type": "stream",
          "name": "stdout",
          "text": [
            "\n",
            "=========================================================================\n",
            "\n",
            "Número de ciclos de manutenção: 3 5\n",
            "Tempos para manutenções preventivas: [0, 2970, 4770, 8670]\n",
            "Severidade para cada subsistema: [0.25, 0.25, 0.25]\n",
            "Fator:  [0.3296799539643607, 0.3934693402873666, 0.3934693402873666, 0.3934693402873666]\n",
            "Media de falhas:  [0, 73948986280224.0, 314455820629677.75, 4878796373449532.0, 3547646828080655.0]\n",
            "\n",
            "Custo =  99594594316800.67\n",
            "=========================================================================\n",
            "\n"
          ]
        },
        {
          "output_type": "stream",
          "name": "stderr",
          "text": [
            "pyswarms.single.global_best:   0%|          |0/1, best_cost=2e+3"
          ]
        },
        {
          "output_type": "stream",
          "name": "stdout",
          "text": [
            "\n",
            "=========================================================================\n",
            "\n",
            "Número de ciclos de manutenção: 4 5\n",
            "Tempos para manutenções preventivas: [0, 570, 2970, 4770, 5070]\n",
            "Severidade para cada subsistema: [0.25, 0.25, 0.25, 0.25]\n",
            "Fator:  [0.3296799539643607, 0.3934693402873666, 0.3934693402873666, 0.3934693402873666, 0.3934693402873666]\n",
            "Media de falhas:  [0, 19254145824.0, 53350130920180.81, 241147257755859.84, 282513027907213.2, 193482797512349.88]\n",
            "\n",
            "Custo =  135116812803.50877\n",
            "=========================================================================\n",
            "\n"
          ]
        },
        {
          "output_type": "stream",
          "name": "stderr",
          "text": [
            "\rpyswarms.single.global_best: 100%|██████████|1/1, best_cost=2e+3\n",
            "2023-07-03 21:45:11,630 - pyswarms.single.global_best - INFO - Optimization finished | best cost: 2000.0, best pos: [0.33058734 0.17383347 0.94797885 0.79283385 0.63371031 0.00179352\n",
            " 0.66477655 0.37149191 0.01615767 0.97292623 0.52776559 0.61157257\n",
            " 0.56737399 0.02693525 0.6588357  0.7027101  0.81647861 0.70318854\n",
            " 0.67871804 1.00137208 0.23077657 0.49390189 0.79468291 0.43071853\n",
            " 0.2693072  0.44344821 0.01666148 0.06427821 0.16039861 0.95500676]\n",
            "2023-07-03 21:45:11,631 - pyswarms.single.global_best - INFO - Optimize for 1 iters with {'c1': 0.5, 'c2': 0.3, 'w': 0.9}\n",
            "pyswarms.single.global_best:   0%|          |0/1, best_cost=2e+3"
          ]
        },
        {
          "output_type": "stream",
          "name": "stdout",
          "text": [
            "\n",
            "=========================================================================\n",
            "\n",
            "Número de ciclos de manutenção: 4 5\n",
            "Tempos para manutenções preventivas: [0, 570, 2970, 5070, 6870]\n",
            "Severidade para cada subsistema: [0.25, 0.25, 0.25, 0.25]\n",
            "Fator:  [0.3296799539643607, 0.3934693402873666, 0.3934693402873666, 0.3934693402873666, 0.3934693402873666]\n",
            "Media de falhas:  [0, 19254145824.0, 53350130920180.81, 336514587521758.4, 1129715989632191.5, 718171986306498.0]\n",
            "\n",
            "Custo =  135116812803.50877\n",
            "=========================================================================\n",
            "\n"
          ]
        },
        {
          "output_type": "stream",
          "name": "stderr",
          "text": [
            "\rpyswarms.single.global_best: 100%|██████████|1/1, best_cost=2e+3\n",
            "2023-07-03 21:45:11,647 - pyswarms.single.global_best - INFO - Optimization finished | best cost: 2000.0, best pos: [0.33049462 0.17399654 0.94804482 0.79283479 0.63360473 0.00142612\n",
            " 0.66480326 0.37098086 0.01624172 0.97244421 0.52751411 0.61096393\n",
            " 0.56735536 0.0265096  0.65890187 0.70215183 0.81647921 0.70319011\n",
            " 0.67977284 1.00436701 0.230778   0.49404905 0.79238672 0.42789024\n",
            " 0.26953979 0.44299626 0.01615977 0.06316661 0.16017881 0.95530568]\n",
            "2023-07-03 21:45:11,648 - pyswarms.single.global_best - INFO - Optimize for 1 iters with {'c1': 0.5, 'c2': 0.3, 'w': 0.9}\n",
            "pyswarms.single.global_best: 100%|██████████|1/1, best_cost=2e+3\n",
            "2023-07-03 21:45:11,660 - pyswarms.single.global_best - INFO - Optimization finished | best cost: 2000.0, best pos: [0.33044057 0.17411146 0.94808616 0.79283561 0.63350103 0.00139786\n",
            " 0.66482077 0.37045588 0.01632171 0.971869   0.5273806  0.60982102\n",
            " 0.5673299  0.02651293 0.65899615 0.70163087 0.81647925 0.70320062\n",
            " 0.68225033 1.00661734 0.23077956 0.49422187 0.78958677 0.42622173\n",
            " 0.26982822 0.44257244 0.01582191 0.06194607 0.16005388 0.95548649]\n",
            "2023-07-03 21:45:11,661 - pyswarms.single.global_best - INFO - Optimize for 1 iters with {'c1': 0.5, 'c2': 0.3, 'w': 0.9}\n"
          ]
        },
        {
          "output_type": "stream",
          "name": "stdout",
          "text": [
            "\n",
            "=========================================================================\n",
            "\n",
            "Número de ciclos de manutenção: 4 5\n",
            "Tempos para manutenções preventivas: [0, 570, 2970, 5070, 6870]\n",
            "Severidade para cada subsistema: [0.25, 0.25, 0.25, 0.25]\n",
            "Fator:  [0.3296799539643607, 0.3934693402873666, 0.3934693402873666, 0.3934693402873666, 0.3934693402873666]\n",
            "Media de falhas:  [0, 19254145824.0, 53350130920180.81, 336514587521758.4, 1129715989632191.5, 718171986306498.0]\n",
            "\n",
            "Custo =  135116812803.50877\n",
            "=========================================================================\n",
            "\n"
          ]
        },
        {
          "output_type": "stream",
          "name": "stderr",
          "text": [
            "pyswarms.single.global_best: 100%|██████████|1/1, best_cost=2e+3\n",
            "2023-07-03 21:45:11,673 - pyswarms.single.global_best - INFO - Optimization finished | best cost: 2000.0, best pos: [0.33042908 0.17420235 0.94810324 0.79283597 0.63341959 0.0015038\n",
            " 0.66483294 0.36997255 0.01639208 0.97130459 0.52739821 0.6086847\n",
            " 0.56730199 0.02653444 0.65911683 0.70128649 0.81647904 0.70321113\n",
            " 0.68547951 1.00570415 0.23078096 0.49438663 0.78706187 0.42572406\n",
            " 0.27027156 0.44217222 0.01599737 0.06052131 0.16016144 0.95555795]\n",
            "2023-07-03 21:45:11,674 - pyswarms.single.global_best - INFO - Optimize for 1 iters with {'c1': 0.5, 'c2': 0.3, 'w': 0.9}\n"
          ]
        },
        {
          "output_type": "stream",
          "name": "stdout",
          "text": [
            "\n",
            "=========================================================================\n",
            "\n",
            "Número de ciclos de manutenção: 4 5\n",
            "Tempos para manutenções preventivas: [0, 570, 4170, 5070, 6870]\n",
            "Severidade para cada subsistema: [0.25, 0.25, 0.25, 0.25]\n",
            "Fator:  [0.3296799539643607, 0.3934693402873666, 0.3934693402873666, 0.3934693402873666, 0.3934693402873666]\n",
            "Media de falhas:  [0, 19254145824.0, 320423065191757.44, 439054932496669.56, 1232256334607102.8, 820712331281409.2]\n",
            "\n",
            "Custo =  135116812803.50877\n",
            "=========================================================================\n",
            "\n"
          ]
        },
        {
          "output_type": "stream",
          "name": "stderr",
          "text": [
            "pyswarms.single.global_best:   0%|          |0/1, best_cost=2e+3"
          ]
        },
        {
          "output_type": "stream",
          "name": "stdout",
          "text": [
            "\n",
            "=========================================================================\n",
            "\n",
            "Número de ciclos de manutenção: 5 5\n",
            "Tempos para manutenções preventivas: [0, 570, 1470, 4170, 5070, 6870]\n",
            "Severidade para cada subsistema: [0.25, 0.25, 0.25, 0.25, 0.25]\n",
            "Fator:  [0.3296799539643607, 0.3934693402873666, 0.3934693402873666, 0.3934693402873666, 0.3934693402873666, 0.3934693402873666]\n",
            "Media de falhas:  [0, 19254145824.0, 1125133110056.422, 192189719023382.28, 310821586328294.4, 1104022988438727.6, 692478985113034.0]\n",
            "\n",
            "Custo =  135116812803.50877\n",
            "=========================================================================\n",
            "\n"
          ]
        },
        {
          "output_type": "stream",
          "name": "stderr",
          "text": [
            "\rpyswarms.single.global_best: 100%|██████████|1/1, best_cost=2e+3\n",
            "2023-07-03 21:45:11,688 - pyswarms.single.global_best - INFO - Optimization finished | best cost: 2000.0, best pos: [0.33043594 0.17422554 0.94810444 0.79283574 0.63338559 0.00201364\n",
            " 0.66484353 0.36954384 0.01643776 0.97079109 0.52764553 0.60768981\n",
            " 0.56725898 0.02675115 0.65927678 0.70104946 0.81647842 0.70322299\n",
            " 0.68915936 1.00411926 0.23078166 0.49450587 0.78534447 0.42673969\n",
            " 0.27077915 0.44189527 0.01651276 0.05923485 0.16046613 0.95544704]\n",
            "2023-07-03 21:45:11,689 - pyswarms.single.global_best - INFO - Optimize for 1 iters with {'c1': 0.5, 'c2': 0.3, 'w': 0.9}\n",
            "pyswarms.single.global_best: 100%|██████████|1/1, best_cost=2e+3\n",
            "2023-07-03 21:45:11,705 - pyswarms.single.global_best - INFO - Optimization finished | best cost: 2000.0, best pos: [0.33049476 0.17419125 0.94809052 0.79283547 0.63338399 0.0030478\n",
            " 0.66484721 0.36934687 0.01644717 0.97037908 0.52801334 0.60701939\n",
            " 0.56721582 0.02695886 0.65942138 0.70107927 0.81647767 0.70323305\n",
            " 0.69259736 1.00101045 0.23078182 0.49456475 0.78445369 0.42893994\n",
            " 0.27144887 0.44166366 0.0170665  0.05809314 0.16076885 0.95519534]\n",
            "2023-07-03 21:45:11,706 - pyswarms.single.global_best - INFO - Optimize for 1 iters with {'c1': 0.5, 'c2': 0.3, 'w': 0.9}\n"
          ]
        },
        {
          "output_type": "stream",
          "name": "stdout",
          "text": [
            "\n",
            "=========================================================================\n",
            "\n",
            "Número de ciclos de manutenção: 6 5\n",
            "Tempos para manutenções preventivas: [0, 570, 1470, 3270, 4170, 5070, 6870]\n",
            "Severidade para cada subsistema: [0.25, 0.25, 0.25, 0.25, 0.25, 0.25]\n",
            "Fator:  [0.3296799539643607, 0.3934693402873666, 0.3934693402873666, 0.3934693402873666, 0.3934693402873666, 0.3934693402873666, 0.3934693402873666]\n",
            "Media de falhas:  [0, 19254145824.0, 1125133110056.422, 46151513164834.28, 100104158465979.67, 218736025770891.78, 1011937427881325.0, 600393424555631.5]\n",
            "\n",
            "Custo =  135116812803.50877\n",
            "=========================================================================\n",
            "\n"
          ]
        },
        {
          "output_type": "stream",
          "name": "stderr",
          "text": [
            "pyswarms.single.global_best: 100%|██████████|1/1, best_cost=2e+3\n",
            "2023-07-03 21:45:11,719 - pyswarms.single.global_best - INFO - Optimization finished | best cost: 2000.0, best pos: [0.33058901 0.17412389 0.9480316  0.79283469 0.63339744 0.00420755\n",
            " 0.66482467 0.36921762 0.01641504 0.97022154 0.52841565 0.60654673\n",
            " 0.56718088 0.02740419 0.6595371  0.70113603 0.81647696 0.70324039\n",
            " 0.69560293 0.99623961 0.23078158 0.4945654  0.78473946 0.43107678\n",
            " 0.27206408 0.44162408 0.01764935 0.05735931 0.16104525 0.95488091]\n",
            "2023-07-03 21:45:11,720 - pyswarms.single.global_best - INFO - Optimize for 1 iters with {'c1': 0.5, 'c2': 0.3, 'w': 0.9}\n"
          ]
        },
        {
          "output_type": "stream",
          "name": "stdout",
          "text": [
            "\n",
            "=========================================================================\n",
            "\n",
            "Número de ciclos de manutenção: 6 5\n",
            "Tempos para manutenções preventivas: [0, 1470, 3270, 4170, 5070, 6570, 6870]\n",
            "Severidade para cada subsistema: [0.25, 0.25, 0.25, 0.25, 0.25, 0.25]\n",
            "Fator:  [0.3296799539643607, 0.3934693402873666, 0.3934693402873666, 0.3934693402873666, 0.3934693402873666, 0.3934693402873666, 0.3934693402873666]\n",
            "Media de falhas:  [0, 2196527536224.0002, 55548652701817.68, 109501298002963.06, 228133165307875.2, 781581797537145.4, 922266113437692.2, 510722110111998.7]\n",
            "\n",
            "Custo =  5976945676801.361\n",
            "=========================================================================\n",
            "\n"
          ]
        },
        {
          "output_type": "stream",
          "name": "stderr",
          "text": [
            "pyswarms.single.global_best: 100%|██████████|1/1, best_cost=2e+3\n",
            "2023-07-03 21:45:11,736 - pyswarms.single.global_best - INFO - Optimization finished | best cost: 2000.0, best pos: [0.33067542 0.17406207 0.94795464 0.79283368 0.6334488  0.00524977\n",
            " 0.66478788 0.36936497 0.01638485 0.97020188 0.52877418 0.6062307\n",
            " 0.56714963 0.02785034 0.65960374 0.70136676 0.81647633 0.70324514\n",
            " 0.69799567 0.99117493 0.23078081 0.49455513 0.78502671 0.433303\n",
            " 0.27273592 0.44170622 0.01816868 0.0574204  0.16129424 0.95459566]\n",
            "2023-07-03 21:45:11,737 - pyswarms.single.global_best - INFO - Optimize for 1 iters with {'c1': 0.5, 'c2': 0.3, 'w': 0.9}\n"
          ]
        },
        {
          "output_type": "stream",
          "name": "stdout",
          "text": [
            "\n",
            "=========================================================================\n",
            "\n",
            "Número de ciclos de manutenção: 7 5\n",
            "Tempos para manutenções preventivas: [0, 1470, 2370, 3270, 4170, 5070, 6570, 6870]\n",
            "Severidade para cada subsistema: [0.25, 0.25, 0.25, 0.25, 0.25, 0.25, 0.25]\n",
            "Fator:  [0.3296799539643607, 0.3934693402873666, 0.3934693402873666, 0.3934693402873666, 0.3934693402873666, 0.3934693402873666, 0.3934693402873666, 0.3934693402873666]\n",
            "Media de falhas:  [0, 2196527536224.0002, 9522392536579.129, 29888257298473.402, 83840902599618.8, 202472769904530.9, 755921402133801.1, 896605718034348.0, 485061714708654.44]\n",
            "\n",
            "Custo =  5976945676801.361\n",
            "=========================================================================\n",
            "\n"
          ]
        },
        {
          "output_type": "stream",
          "name": "stderr",
          "text": [
            "pyswarms.single.global_best: 100%|██████████|1/1, best_cost=2e+3\n",
            "2023-07-03 21:45:11,749 - pyswarms.single.global_best - INFO - Optimization finished | best cost: 2000.0, best pos: [0.33074144 0.17394343 0.94787864 0.79283273 0.63352098 0.0059191\n",
            " 0.66474942 0.36958253 0.01635552 0.97040601 0.52904653 0.60607647\n",
            " 0.56712213 0.02825755 0.65966225 0.7017383  0.8164758  0.70324499\n",
            " 0.69776782 0.98698205 0.23077996 0.49453443 0.78635689 0.43530918\n",
            " 0.27337862 0.44181257 0.01853344 0.058176   0.16148366 0.95439734]\n",
            "2023-07-03 21:45:11,750 - pyswarms.single.global_best - INFO - Optimize for 1 iters with {'c1': 0.5, 'c2': 0.3, 'w': 0.9}\n"
          ]
        },
        {
          "output_type": "stream",
          "name": "stdout",
          "text": [
            "\n",
            "=========================================================================\n",
            "\n",
            "Número de ciclos de manutenção: 6 5\n",
            "Tempos para manutenções preventivas: [0, 1470, 2370, 3270, 4170, 5370, 6570]\n",
            "Severidade para cada subsistema: [0.25, 0.25, 0.25, 0.25, 0.25, 0.25]\n",
            "Fator:  [0.3296799539643607, 0.3934693402873666, 0.3934693402873666, 0.3934693402873666, 0.3934693402873666, 0.3934693402873666, 0.3934693402873666]\n",
            "Media de falhas:  [0, 2196527536224.0002, 9522392536579.129, 29888257298473.402, 83840902599618.8, 281526826290675.6, 727085999388062.0, 398511458519444.9]\n",
            "\n",
            "Custo =  5976945676801.361\n",
            "=========================================================================\n",
            "\n"
          ]
        },
        {
          "output_type": "stream",
          "name": "stderr",
          "text": [
            "pyswarms.single.global_best: 100%|██████████|1/1, best_cost=2e+3\n",
            "2023-07-03 21:45:11,766 - pyswarms.single.global_best - INFO - Optimization finished | best cost: 2000.0, best pos: [0.3307938  0.17382342 0.94782021 0.79283203 0.6335939  0.00647439\n",
            " 0.66471558 0.36988284 0.01632377 0.97077421 0.52915482 0.60639076\n",
            " 0.56712869 0.02859003 0.65969919 0.70211098 0.81647579 0.70324237\n",
            " 0.69656169 0.98354205 0.23077914 0.49451152 0.78822316 0.4367966\n",
            " 0.27382416 0.44202524 0.01884938 0.05904267 0.16165189 0.95424165]\n",
            "2023-07-03 21:45:11,767 - pyswarms.single.global_best - INFO - Optimize for 1 iters with {'c1': 0.5, 'c2': 0.3, 'w': 0.9}\n"
          ]
        },
        {
          "output_type": "stream",
          "name": "stdout",
          "text": [
            "\n",
            "=========================================================================\n",
            "\n",
            "Número de ciclos de manutenção: 9 5\n",
            "Tempos para manutenções preventivas: [0, 1470, 2070, 2370, 3270, 4170, 5370, 6570, 7260, 8670]\n",
            "Severidade para cada subsistema: [0.25, 0.25, 0.25, 0.25, 0.25, 0.25, 0.25, 0.25, 0.25]\n",
            "Fator:  [0.3296799539643607, 0.3934693402873666, 0.3934693402873666, 0.3934693402873666, 0.3934693402873666, 0.3934693402873666, 0.3934693402873666, 0.3934693402873666, 0.3934693402873666, 0.3934693402873666]\n",
            "Media de falhas:  [0, 2196527536224.0002, 5104081007579.785, 7020014303732.411, 27385879065626.684, 81338524366772.08, 279024448057828.88, 724583621155215.2, 1117559801031531.8, 2712517793853482.5, 1381368248484605.2]\n",
            "\n",
            "Custo =  5976945676801.361\n",
            "=========================================================================\n",
            "\n"
          ]
        },
        {
          "output_type": "stream",
          "name": "stderr",
          "text": [
            "pyswarms.single.global_best: 100%|██████████|1/1, best_cost=2e+3\n",
            "2023-07-03 21:45:11,779 - pyswarms.single.global_best - INFO - Optimization finished | best cost: 2000.0, best pos: [0.3308233  0.17371495 0.94779701 0.79283144 0.63365049 0.00676666\n",
            " 0.66469338 0.37024502 0.01628794 0.97123175 0.52921426 0.60675273\n",
            " 0.567146   0.02878027 0.65973164 0.70244577 0.81647596 0.70323813\n",
            " 0.69441242 0.98085778 0.23077837 0.49443618 0.78996539 0.43755345\n",
            " 0.2741542  0.44233315 0.0191068  0.06014382 0.16165599 0.95419988]\n",
            "2023-07-03 21:45:11,780 - pyswarms.single.global_best - INFO - Optimize for 1 iters with {'c1': 0.5, 'c2': 0.3, 'w': 0.9}\n"
          ]
        },
        {
          "output_type": "stream",
          "name": "stdout",
          "text": [
            "\n",
            "=========================================================================\n",
            "\n",
            "Número de ciclos de manutenção: 7 5\n",
            "Tempos para manutenções preventivas: [0, 2070, 2370, 3270, 4170, 5370, 7770, 8670]\n",
            "Severidade para cada subsistema: [0.25, 0.25, 0.25, 0.25, 0.25, 0.25, 0.25]\n",
            "Fator:  [0.3296799539643607, 0.3934693402873666, 0.3934693402873666, 0.3934693402873666, 0.3934693402873666, 0.3934693402873666, 0.3934693402873666, 0.3934693402873666]\n",
            "Media de falhas:  [0, 12161907769824.002, 14895722354517.078, 35261587116411.35, 89214232417556.75, 286900156108613.56, 2023594543476739.0, 3062172025092549.0, 1731022479723671.8]\n",
            "\n",
            "Custo =  23501271052800.97\n",
            "=========================================================================\n",
            "\n"
          ]
        },
        {
          "output_type": "stream",
          "name": "stderr",
          "text": [
            "pyswarms.single.global_best: 100%|██████████|1/1, best_cost=2e+3\n",
            "2023-07-03 21:45:11,792 - pyswarms.single.global_best - INFO - Optimization finished | best cost: 2000.0, best pos: [0.33080934 0.17363003 0.94780611 0.79283124 0.63369905 0.00657928\n",
            " 0.66468588 0.37057081 0.01625062 0.97164305 0.52915336 0.60751047\n",
            " 0.56718208 0.02874373 0.659717   0.7027277  0.81647618 0.70323353\n",
            " 0.69144272 0.98151276 0.23077783 0.49433008 0.79147102 0.4374159\n",
            " 0.27435165 0.44264588 0.01888878 0.06118823 0.16159944 0.95428883]\n",
            "2023-07-03 21:45:11,794 - pyswarms.single.global_best - INFO - Optimize for 1 iters with {'c1': 0.5, 'c2': 0.3, 'w': 0.9}\n"
          ]
        },
        {
          "output_type": "stream",
          "name": "stdout",
          "text": [
            "\n",
            "=========================================================================\n",
            "\n",
            "Número de ciclos de manutenção: 6 5\n",
            "Tempos para manutenções preventivas: [0, 2070, 2370, 3870, 5670, 7770, 8670]\n",
            "Severidade para cada subsistema: [0.25, 0.25, 0.25, 0.25, 0.25, 0.25]\n",
            "Fator:  [0.3296799539643607, 0.3934693402873666, 0.3934693402873666, 0.3934693402873666, 0.3934693402873666, 0.3934693402873666, 0.3934693402873666]\n",
            "Media de falhas:  [0, 12161907769824.002, 14895722354517.078, 82919539669562.97, 452729652418626.75, 1967266476414241.0, 3005843958030051.0, 1674694412661173.8]\n",
            "\n",
            "Custo =  23501271052800.97\n",
            "=========================================================================\n",
            "\n"
          ]
        },
        {
          "output_type": "stream",
          "name": "stderr",
          "text": [
            "\rpyswarms.single.global_best:   0%|          |0/1"
          ]
        },
        {
          "output_type": "stream",
          "name": "stdout",
          "text": [
            "\n",
            "=========================================================================\n",
            "\n",
            "Número de ciclos de manutenção: 6 5\n",
            "Tempos para manutenções preventivas: [0, 2070, 2370, 3870, 5670, 7770, 8670]\n",
            "Severidade para cada subsistema: [0.25, 0.25, 0.25, 0.25, 0.25, 0.25]\n",
            "Fator:  [0.3296799539643607, 0.3934693402873666, 0.3934693402873666, 0.3934693402873666, 0.3934693402873666, 0.3934693402873666, 0.3934693402873666]\n",
            "Media de falhas:  [0, 12161907769824.002, 14895722354517.078, 82919539669562.97, 452729652418626.75, 1967266476414241.0, 3005843958030051.0, 1674694412661173.8]\n"
          ]
        },
        {
          "output_type": "stream",
          "name": "stderr",
          "text": [
            "pyswarms.single.global_best: 100%|██████████|1/1, best_cost=2e+3\n",
            "2023-07-03 21:45:11,958 - pyswarms.single.global_best - INFO - Optimization finished | best cost: 2000.0, best pos: [0.33079038 0.17356948 0.94782114 0.79283149 0.63373715 0.00592979\n",
            " 0.66468333 0.37083773 0.01621815 0.97195285 0.52896089 0.60826069\n",
            " 0.56722789 0.02864171 0.65968628 0.70292745 0.81647643 0.70322896\n",
            " 0.68865276 0.98370631 0.23077754 0.49423418 0.79250153 0.4366717\n",
            " 0.27419513 0.44287868 0.01827353 0.06204807 0.16147624 0.95446829]\n",
            "2023-07-03 21:45:11,960 - pyswarms.single.global_best - INFO - Optimize for 1 iters with {'c1': 0.5, 'c2': 0.3, 'w': 0.9}\n"
          ]
        },
        {
          "output_type": "stream",
          "name": "stdout",
          "text": [
            "\n",
            "Custo =  23501271052800.97\n",
            "=========================================================================\n",
            "\n"
          ]
        },
        {
          "output_type": "stream",
          "name": "stderr",
          "text": [
            "pyswarms.single.global_best: 100%|██████████|1/1, best_cost=2e+3\n",
            "2023-07-03 21:45:11,971 - pyswarms.single.global_best - INFO - Optimization finished | best cost: 2000.0, best pos: [0.33073691 0.17352778 0.94783653 0.79283209 0.63373428 0.00512245\n",
            " 0.66468362 0.37096752 0.01619309 0.97218262 0.52869163 0.60895736\n",
            " 0.56726913 0.02847196 0.65957102 0.70293918 0.81647687 0.70322281\n",
            " 0.68630344 0.9868445  0.23077729 0.49416109 0.79339669 0.43524575\n",
            " 0.2740524  0.44302092 0.01754299 0.06279466 0.16127041 0.9546971 ]\n",
            "2023-07-03 21:45:11,975 - pyswarms.single.global_best - INFO - Optimize for 1 iters with {'c1': 0.5, 'c2': 0.3, 'w': 0.9}\n"
          ]
        },
        {
          "output_type": "stream",
          "name": "stdout",
          "text": [
            "\n",
            "=========================================================================\n",
            "\n",
            "Número de ciclos de manutenção: 6 5\n",
            "Tempos para manutenções preventivas: [0, 2070, 3870, 4770, 5670, 7770, 8670]\n",
            "Severidade para cada subsistema: [0.25, 0.25, 0.25, 0.25, 0.25, 0.25]\n",
            "Fator:  [0.3296799539643607, 0.3934693402873666, 0.3934693402873666, 0.3934693402873666, 0.3934693402873666, 0.3934693402873666, 0.3934693402873666]\n",
            "Media de falhas:  [0, 12161907769824.002, 115819645566958.98, 208561081935276.62, 394972657749053.06, 1909509481744667.2, 2948086963360477.5, 1616937417991600.2]\n",
            "\n",
            "Custo =  23501271052800.97\n",
            "=========================================================================\n",
            "\n"
          ]
        },
        {
          "output_type": "stream",
          "name": "stderr",
          "text": [
            "pyswarms.single.global_best: 100%|██████████|1/1, best_cost=2e+3\n",
            "2023-07-03 21:45:11,989 - pyswarms.single.global_best - INFO - Optimization finished | best cost: 2000.0, best pos: [0.33066351 0.17354521 0.94785531 0.79283295 0.63370634 0.0042677\n",
            " 0.66469164 0.37100745 0.01618143 0.97235336 0.52842725 0.60955187\n",
            " 0.56729868 0.02823327 0.65944755 0.70275426 0.81647737 0.70321695\n",
            " 0.68473286 0.99011615 0.23077745 0.49412701 0.79321315 0.43364321\n",
            " 0.2736453  0.44298471 0.01685586 0.06304146 0.16107068 0.95493918]\n",
            "2023-07-03 21:45:11,991 - pyswarms.single.global_best - INFO - Optimize for 1 iters with {'c1': 0.5, 'c2': 0.3, 'w': 0.9}\n"
          ]
        },
        {
          "output_type": "stream",
          "name": "stdout",
          "text": [
            "\n",
            "=========================================================================\n",
            "\n",
            "Número de ciclos de manutenção: 5 5\n",
            "Tempos para manutenções preventivas: [0, 2070, 4770, 5670, 7770, 8670]\n",
            "Severidade para cada subsistema: [0.25, 0.25, 0.25, 0.25, 0.25]\n",
            "Fator:  [0.3296799539643607, 0.3934693402873666, 0.3934693402873666, 0.3934693402873666, 0.3934693402873666, 0.3934693402873666]\n",
            "Media de falhas:  [0, 12161907769824.002, 375666562663976.75, 562078138477753.2, 2076614962473367.5, 3115192444089177.5, 1784042898720300.2]\n",
            "\n",
            "Custo =  23501271052800.97\n",
            "=========================================================================\n",
            "\n"
          ]
        },
        {
          "output_type": "stream",
          "name": "stderr",
          "text": [
            "pyswarms.single.global_best:   0%|          |0/1, best_cost=2e+3"
          ]
        },
        {
          "output_type": "stream",
          "name": "stdout",
          "text": [
            "\n",
            "=========================================================================\n",
            "\n",
            "Número de ciclos de manutenção: 3 5\n",
            "Tempos para manutenções preventivas: [0, 5070, 7770, 8670]\n",
            "Severidade para cada subsistema: [0.25, 0.25, 0.25]\n",
            "Fator:  [0.3296799539643607, 0.3934693402873666, 0.3934693402873666, 0.3934693402873666]\n",
            "Media de falhas:  [0, 1071987632617824.0, 3626346769578907.0, 4664924251194717.0, 3333774705825840.0]\n",
            "\n",
            "Custo =  670604304971726.2\n",
            "=========================================================================\n",
            "\n"
          ]
        },
        {
          "output_type": "stream",
          "name": "stderr",
          "text": [
            "\rpyswarms.single.global_best: 100%|██████████|1/1, best_cost=2e+3\n",
            "2023-07-03 21:45:12,012 - pyswarms.single.global_best - INFO - Optimization finished | best cost: 2000.0, best pos: [0.33059456 0.1736352  0.94788035 0.79283385 0.6336426  0.00349241\n",
            " 0.66470776 0.3710403  0.01617714 0.97243476 0.52818    0.60998756\n",
            " 0.56731373 0.02801187 0.65932612 0.7024505  0.81647786 0.70321191\n",
            " 0.68488678 0.9931035  0.23077789 0.49411092 0.79304002 0.4322082\n",
            " 0.27308192 0.44286366 0.01638498 0.06313721 0.16090001 0.9551293 ]\n",
            "2023-07-03 21:45:12,013 - pyswarms.single.global_best - INFO - Optimize for 1 iters with {'c1': 0.5, 'c2': 0.3, 'w': 0.9}\n",
            "pyswarms.single.global_best: 100%|██████████|1/1, best_cost=2e+3\n",
            "2023-07-03 21:45:12,030 - pyswarms.single.global_best - INFO - Optimization finished | best cost: 2000.0, best pos: [0.33053505 0.17374344 0.94791607 0.79283459 0.6335615  0.00288047\n",
            " 0.66472921 0.37089817 0.01618258 0.9724467  0.528      0.61031427\n",
            " 0.5673094  0.027806   0.65922697 0.70214896 0.81647822 0.70320756\n",
            " 0.68584568 0.99583035 0.2307783  0.49413397 0.79189489 0.43112272\n",
            " 0.27257462 0.44265394 0.01615176 0.06294912 0.16077203 0.95528824]\n",
            "2023-07-03 21:45:12,032 - pyswarms.single.global_best - INFO - Optimize for 1 iters with {'c1': 0.5, 'c2': 0.3, 'w': 0.9}\n"
          ]
        },
        {
          "output_type": "stream",
          "name": "stdout",
          "text": [
            "\n",
            "=========================================================================\n",
            "\n",
            "Número de ciclos de manutenção: 1 5\n",
            "Tempos para manutenções preventivas: [0, 5070]\n",
            "Severidade para cada subsistema: [0.25]\n",
            "Fator:  [0.3296799539643607, 0.3934693402873666]\n",
            "Media de falhas:  [0, 1071987632617824.0, 926673182110058.2]\n",
            "\n",
            "Custo =  133930369131580.88\n",
            "=========================================================================\n",
            "\n"
          ]
        },
        {
          "output_type": "stream",
          "name": "stderr",
          "text": [
            "pyswarms.single.global_best: 100%|██████████|1/1, best_cost=2e+3\n",
            "2023-07-03 21:45:12,044 - pyswarms.single.global_best - INFO - Optimization finished | best cost: 2000.0, best pos: [0.33049589 0.17385757 0.94794867 0.7928352  0.6334868  0.00238274\n",
            " 0.66475137 0.37075614 0.01619717 0.97231536 0.52794965 0.61017479\n",
            " 0.56729416 0.02765319 0.6591606  0.70186284 0.81647851 0.70320427\n",
            " 0.68691717 0.99809411 0.23077869 0.49415646 0.79053885 0.4305804\n",
            " 0.27215235 0.44242749 0.0162784  0.06262473 0.16071149 0.95539081]\n",
            "2023-07-03 21:45:12,046 - pyswarms.single.global_best - INFO - Optimize for 1 iters with {'c1': 0.5, 'c2': 0.3, 'w': 0.9}\n"
          ]
        },
        {
          "output_type": "stream",
          "name": "stdout",
          "text": [
            "\n",
            "=========================================================================\n",
            "\n",
            "Número de ciclos de manutenção: 1 5\n",
            "Tempos para manutenções preventivas: [0, 5070]\n",
            "Severidade para cada subsistema: [0.25]\n",
            "Fator:  [0.3296799539643607, 0.3934693402873666]\n",
            "Media de falhas:  [0, 1071987632617824.0, 926673182110058.2]\n",
            "\n",
            "Custo =  133930369131580.88\n",
            "=========================================================================\n",
            "\n"
          ]
        },
        {
          "output_type": "stream",
          "name": "stderr",
          "text": [
            "pyswarms.single.global_best: 100%|██████████|1/1, best_cost=2e+3\n",
            "2023-07-03 21:45:12,060 - pyswarms.single.global_best - INFO - Optimization finished | best cost: 2000.0, best pos: [0.33046837 0.17395113 0.94797317 0.79283549 0.63342746 0.00239092\n",
            " 0.66477163 0.37047556 0.01621092 0.97197496 0.52794028 0.60998737\n",
            " 0.56727345 0.0275458  0.65913233 0.70166195 0.8164786  0.70320364\n",
            " 0.68800507 0.99911582 0.23077907 0.49417846 0.78910371 0.4306495\n",
            " 0.27193086 0.44222459 0.01646424 0.06197424 0.16065852 0.95538701]\n",
            "2023-07-03 21:45:12,061 - pyswarms.single.global_best - INFO - Optimize for 1 iters with {'c1': 0.5, 'c2': 0.3, 'w': 0.9}\n"
          ]
        },
        {
          "output_type": "stream",
          "name": "stdout",
          "text": [
            "\n",
            "=========================================================================\n",
            "\n",
            "Número de ciclos de manutenção: 2 5\n",
            "Tempos para manutenções preventivas: [0, 5070, 6870]\n",
            "Severidade para cada subsistema: [0.25, 0.25]\n",
            "Fator:  [0.3296799539643607, 0.3934693402873666, 0.3934693402873666]\n",
            "Media de falhas:  [0, 1071987632617824.0, 2141835456946610.5, 1730291453620917.0]\n",
            "\n",
            "Custo =  268106842557454.72\n",
            "=========================================================================\n",
            "\n"
          ]
        },
        {
          "output_type": "stream",
          "name": "stderr",
          "text": [
            "pyswarms.single.global_best: 100%|██████████|1/1, best_cost=2e+3\n",
            "2023-07-03 21:45:12,079 - pyswarms.single.global_best - INFO - Optimization finished | best cost: 2000.0, best pos: [0.3304576  0.17402535 0.94798843 0.79283546 0.63339428 0.00261124\n",
            " 0.66478729 0.37022105 0.01622877 0.97144172 0.5279633  0.60956044\n",
            " 0.56725465 0.02754227 0.65913939 0.70151182 0.81647837 0.70320366\n",
            " 0.68901596 0.99948525 0.23077937 0.49420658 0.78787134 0.43146707\n",
            " 0.27175755 0.44205226 0.01678409 0.06117106 0.16061533 0.95535969]\n",
            "2023-07-03 21:45:12,080 - pyswarms.single.global_best - INFO - Optimize for 1 iters with {'c1': 0.5, 'c2': 0.3, 'w': 0.9}\n"
          ]
        },
        {
          "output_type": "stream",
          "name": "stdout",
          "text": [
            "\n",
            "=========================================================================\n",
            "\n",
            "Número de ciclos de manutenção: 3 5\n",
            "Tempos para manutenções preventivas: [0, 4170, 5070, 6870]\n",
            "Severidade para cada subsistema: [0.25, 0.25, 0.25]\n",
            "Fator:  [0.3296799539643607, 0.3934693402873666, 0.3934693402873666, 0.3934693402873666]\n",
            "Media de falhas:  [0, 403487656379424.06, 569356895993183.0, 1362558298103616.2, 951014294777922.8]\n",
            "\n",
            "Custo =  268106842557454.72\n",
            "=========================================================================\n",
            "\n"
          ]
        },
        {
          "output_type": "stream",
          "name": "stderr",
          "text": [
            "pyswarms.single.global_best: 100%|██████████|1/1, best_cost=2e+3\n",
            "2023-07-03 21:45:12,093 - pyswarms.single.global_best - INFO - Optimization finished | best cost: 2000.0, best pos: [0.33047281 0.17405611 0.94799154 0.79283515 0.63338037 0.00308741\n",
            " 0.66479354 0.36999257 0.01624505 0.97095209 0.52806992 0.60903123\n",
            " 0.56723423 0.02764528 0.65919741 0.70141232 0.81647792 0.70320861\n",
            " 0.69004059 0.99825848 0.23077962 0.49424106 0.78697193 0.43228288\n",
            " 0.27190998 0.44199079 0.01710185 0.06033742 0.16059373 0.95520441]\n",
            "2023-07-03 21:45:12,094 - pyswarms.single.global_best - INFO - Optimize for 1 iters with {'c1': 0.5, 'c2': 0.3, 'w': 0.9}\n"
          ]
        },
        {
          "output_type": "stream",
          "name": "stdout",
          "text": [
            "\n",
            "=========================================================================\n",
            "\n",
            "Número de ciclos de manutenção: 3 5\n",
            "Tempos para manutenções preventivas: [0, 4170, 5070, 6870]\n",
            "Severidade para cada subsistema: [0.25, 0.25, 0.25]\n",
            "Fator:  [0.3296799539643607, 0.3934693402873666, 0.3934693402873666, 0.3934693402873666]\n",
            "Media de falhas:  [0, 403487656379424.06, 569356895993183.0, 1362558298103616.2, 951014294777922.8]\n",
            "\n",
            "Custo =  268106842557454.72\n",
            "=========================================================================\n",
            "\n"
          ]
        },
        {
          "output_type": "stream",
          "name": "stderr",
          "text": [
            "pyswarms.single.global_best: 100%|██████████|1/1, best_cost=2e+3\n",
            "2023-07-03 21:45:12,106 - pyswarms.single.global_best - INFO - Optimization finished | best cost: 2000.0, best pos: [0.33048697 0.17406181 0.94798798 0.79283446 0.63337268 0.00365587\n",
            " 0.66479361 0.36983185 0.016264   0.97053578 0.52825053 0.60855324\n",
            " 0.56721721 0.02778919 0.65926178 0.70152503 0.81647743 0.70321421\n",
            " 0.69096326 0.99634354 0.23077965 0.49428265 0.78666256 0.43304944\n",
            " 0.27212716 0.44207925 0.01745022 0.05959816 0.1605798  0.95506139]\n",
            "2023-07-03 21:45:12,107 - pyswarms.single.global_best - INFO - Optimize for 1 iters with {'c1': 0.5, 'c2': 0.3, 'w': 0.9}\n"
          ]
        },
        {
          "output_type": "stream",
          "name": "stdout",
          "text": [
            "\n",
            "=========================================================================\n",
            "\n",
            "Número de ciclos de manutenção: 2 5\n",
            "Tempos para manutenções preventivas: [0, 4170, 6870]\n",
            "Severidade para cada subsistema: [0.25, 0.25]\n",
            "Fator:  [0.3296799539643607, 0.3934693402873666, 0.3934693402873666]\n",
            "Media de falhas:  [0, 403487656379424.06, 1952426586083241.5, 1540882582757548.0]\n",
            "\n",
            "Custo =  268106842557454.72\n",
            "=========================================================================\n",
            "\n"
          ]
        },
        {
          "output_type": "stream",
          "name": "stderr",
          "text": [
            "pyswarms.single.global_best: 100%|██████████|1/1, best_cost=2e+3\n",
            "2023-07-03 21:45:12,125 - pyswarms.single.global_best - INFO - Optimization finished | best cost: 2000.0, best pos: [0.33053718 0.17401958 0.9479798  0.79283363 0.63337686 0.00421191\n",
            " 0.66479104 0.36972554 0.01627973 0.97026176 0.52841665 0.60812478\n",
            " 0.56720249 0.02793055 0.65933802 0.70164761 0.81647699 0.70322083\n",
            " 0.69172305 0.99421885 0.23077954 0.4943202  0.78654038 0.43374724\n",
            " 0.27250112 0.44219005 0.0177628  0.05903162 0.16071981 0.95490435]\n",
            "2023-07-03 21:45:12,126 - pyswarms.single.global_best - INFO - Optimize for 1 iters with {'c1': 0.5, 'c2': 0.3, 'w': 0.9}\n"
          ]
        },
        {
          "output_type": "stream",
          "name": "stdout",
          "text": [
            "\n",
            "=========================================================================\n",
            "\n",
            "Número de ciclos de manutenção: 3 5\n",
            "Tempos para manutenções preventivas: [0, 3270, 4170, 6870]\n",
            "Severidade para cada subsistema: [0.25, 0.25, 0.25]\n",
            "Fator:  [0.3296799539643607, 0.3934693402873666, 0.3934693402873666, 0.3934693402873666]\n",
            "Media de falhas:  [0, 119643398733024.02, 193880870879489.0, 1411998463517340.2, 1000454460191646.8]\n",
            "\n",
            "Custo =  146352781324800.62\n",
            "=========================================================================\n",
            "\n"
          ]
        },
        {
          "output_type": "stream",
          "name": "stderr",
          "text": [
            "pyswarms.single.global_best: 100%|██████████|1/1, best_cost=2e+3\n",
            "2023-07-03 21:45:12,137 - pyswarms.single.global_best - INFO - Optimization finished | best cost: 2000.0, best pos: [0.33061017 0.1739766  0.94797033 0.79283285 0.6334247  0.00469726\n",
            " 0.66478528 0.36968586 0.01628918 0.97020552 0.52856269 0.60784486\n",
            " 0.56719085 0.0280584  0.65941084 0.70180992 0.81647661 0.70322673\n",
            " 0.69197137 0.99225039 0.23077937 0.49435014 0.78719312 0.43438567\n",
            " 0.27291618 0.44234776 0.01799692 0.05878698 0.16095667 0.95475532]\n",
            "2023-07-03 21:45:12,138 - pyswarms.single.global_best - INFO - Optimize for 1 iters with {'c1': 0.5, 'c2': 0.3, 'w': 0.9}\n"
          ]
        },
        {
          "output_type": "stream",
          "name": "stdout",
          "text": [
            "\n",
            "=========================================================================\n",
            "\n",
            "Número de ciclos de manutenção: 2 5\n",
            "Tempos para manutenções preventivas: [0, 4170, 6870]\n",
            "Severidade para cada subsistema: [0.25, 0.25]\n",
            "Fator:  [0.3296799539643607, 0.3934693402873666, 0.3934693402873666]\n",
            "Media de falhas:  [0, 403487656379424.06, 1952426586083241.5, 1540882582757548.0]\n",
            "\n",
            "Custo =  268106842557454.72\n",
            "=========================================================================\n",
            "\n"
          ]
        },
        {
          "output_type": "stream",
          "name": "stderr",
          "text": [
            "pyswarms.single.global_best: 100%|██████████|1/1, best_cost=2e+3\n",
            "2023-07-03 21:45:12,154 - pyswarms.single.global_best - INFO - Optimization finished | best cost: 2000.0, best pos: [0.33067773 0.17391048 0.94795506 0.79283228 0.63349383 0.00507804\n",
            " 0.66477329 0.36972144 0.01629084 0.97036063 0.52868276 0.60761472\n",
            " 0.56718686 0.02815508 0.65947298 0.70196666 0.81647636 0.70323029\n",
            " 0.69213025 0.99055293 0.23077922 0.49436754 0.78841945 0.43483559\n",
            " 0.27328714 0.44252098 0.01806019 0.05872415 0.16117643 0.95464506]\n",
            "2023-07-03 21:45:12,156 - pyswarms.single.global_best - INFO - Optimize for 1 iters with {'c1': 0.5, 'c2': 0.3, 'w': 0.9}\n"
          ]
        },
        {
          "output_type": "stream",
          "name": "stdout",
          "text": [
            "\n",
            "=========================================================================\n",
            "\n",
            "Número de ciclos de manutenção: 2 5\n",
            "Tempos para manutenções preventivas: [0, 4170, 6870]\n",
            "Severidade para cada subsistema: [0.25, 0.25]\n",
            "Fator:  [0.3296799539643607, 0.3934693402873666, 0.3934693402873666]\n",
            "Media de falhas:  [0, 403487656379424.06, 1952426586083241.5, 1540882582757548.0]\n",
            "\n",
            "Custo =  268106842557454.72\n",
            "=========================================================================\n",
            "\n"
          ]
        },
        {
          "output_type": "stream",
          "name": "stderr",
          "text": [
            "pyswarms.single.global_best: 100%|██████████|1/1, best_cost=2e+3\n",
            "2023-07-03 21:45:12,167 - pyswarms.single.global_best - INFO - Optimization finished | best cost: 2000.0, best pos: [0.3307381  0.17384352 0.9479379  0.79283193 0.63357087 0.00536592\n",
            " 0.66475981 0.36977386 0.01629164 0.97060584 0.52875374 0.6077262\n",
            " 0.56719637 0.02821319 0.65951238 0.70212932 0.81647617 0.70323149\n",
            " 0.69181998 0.98933315 0.23077903 0.4943685  0.78983639 0.43498169\n",
            " 0.27356104 0.44266899 0.01800141 0.0589438  0.16137345 0.95455491]\n",
            "2023-07-03 21:45:12,169 - pyswarms.single.global_best - INFO - Optimize for 1 iters with {'c1': 0.5, 'c2': 0.3, 'w': 0.9}\n"
          ]
        },
        {
          "output_type": "stream",
          "name": "stdout",
          "text": [
            "\n",
            "=========================================================================\n",
            "\n",
            "Número de ciclos de manutenção: 3 5\n",
            "Tempos para manutenções preventivas: [0, 2370, 4170, 8670]\n",
            "Severidade para cada subsistema: [0.25, 0.25, 0.25]\n",
            "Fator:  [0.3296799539643607, 0.3934693402873666, 0.3934693402873666, 0.3934693402873666]\n",
            "Media de falhas:  [0, 23927190558624.004, 163673511640907.94, 5622036038162818.0, 4290886492793941.0]\n",
            "\n",
            "Custo =  40383443980800.85\n",
            "=========================================================================\n",
            "\n"
          ]
        },
        {
          "output_type": "stream",
          "name": "stderr",
          "text": [
            "pyswarms.single.global_best:   0%|          |0/1, best_cost=2e+3"
          ]
        },
        {
          "output_type": "stream",
          "name": "stdout",
          "text": [
            "\n",
            "=========================================================================\n",
            "\n",
            "Número de ciclos de manutenção: 4 5\n",
            "Tempos para manutenções preventivas: [0, 2370, 5370, 5670, 8670]\n",
            "Severidade para cada subsistema: [0.25, 0.25, 0.25, 0.25]\n",
            "Fator:  [0.3296799539643607, 0.3934693402873666, 0.3934693402873666, 0.3934693402873666, 0.3934693402873666]\n",
            "Media de falhas:  [0, 23927190558624.004, 671685522626950.6, 736615602223659.4, 4124710241067649.5, 2793560695698772.0]\n",
            "\n",
            "Custo =  40383443980800.85\n",
            "=========================================================================\n",
            "\n"
          ]
        },
        {
          "output_type": "stream",
          "name": "stderr",
          "text": [
            "\rpyswarms.single.global_best: 100%|██████████|1/1, best_cost=2e+3\n",
            "2023-07-03 21:45:12,183 - pyswarms.single.global_best - INFO - Optimization finished | best cost: 2000.0, best pos: [0.3307887  0.17377948 0.94791964 0.79283171 0.6336394  0.00558172\n",
            " 0.6647474  0.36987589 0.01628693 0.970833   0.52872306 0.60805695\n",
            " 0.56721666 0.02826471 0.65953237 0.702269   0.81647619 0.70323071\n",
            " 0.69141864 0.988527   0.23077883 0.49436263 0.7910859  0.43491861\n",
            " 0.27379588 0.44275657 0.01789428 0.05921912 0.16150118 0.95448144]\n",
            "2023-07-03 21:45:12,184 - pyswarms.single.global_best - INFO - Optimize for 1 iters with {'c1': 0.5, 'c2': 0.3, 'w': 0.9}\n",
            "pyswarms.single.global_best:   0%|          |0/1, best_cost=2e+3"
          ]
        },
        {
          "output_type": "stream",
          "name": "stdout",
          "text": [
            "\n",
            "=========================================================================\n",
            "\n",
            "Número de ciclos de manutenção: 3 5\n",
            "Tempos para manutenções preventivas: [0, 5370, 5670, 8670]\n",
            "Severidade para cada subsistema: [0.25, 0.25, 0.25]\n",
            "Fator:  [0.3296799539643607, 0.3934693402873666, 0.3934693402873666, 0.3934693402873666]\n",
            "Media de falhas:  [0, 1428964391886624.2, 1524151397630280.0, 4912246036474270.0, 3581096491105393.0]\n",
            "\n",
            "Custo =  670604304971726.2\n",
            "=========================================================================\n",
            "\n"
          ]
        },
        {
          "output_type": "stream",
          "name": "stderr",
          "text": [
            "\rpyswarms.single.global_best: 100%|██████████|1/1, best_cost=2e+3\n",
            "2023-07-03 21:45:12,330 - pyswarms.single.global_best - INFO - Optimization finished | best cost: 2000.0, best pos: [0.33080984 0.17372338 0.94790464 0.79283194 0.63369059 0.00561\n",
            " 0.66473707 0.37007417 0.01628046 0.971144   0.52868872 0.60843884\n",
            " 0.56723535 0.02824327 0.65951127 0.7023422  0.81647659 0.7032282\n",
            " 0.69083471 0.98851425 0.23077866 0.49433593 0.79184747 0.43458145\n",
            " 0.27380866 0.4427878  0.01767238 0.0594957  0.16154692 0.95443658]\n",
            "2023-07-03 21:45:12,331 - pyswarms.single.global_best - INFO - Optimize for 1 iters with {'c1': 0.5, 'c2': 0.3, 'w': 0.9}\n",
            "pyswarms.single.global_best: 100%|██████████|1/1, best_cost=2e+3\n",
            "2023-07-03 21:45:12,341 - pyswarms.single.global_best - INFO - Optimization finished | best cost: 2000.0, best pos: [0.33080216 0.17369813 0.9478921  0.7928322  0.6337242  0.00541949\n",
            " 0.66473127 0.37029682 0.01627097 0.97144164 0.52857251 0.60878501\n",
            " 0.56725333 0.02814621 0.65947387 0.70237413 0.81647707 0.70322461\n",
            " 0.69026321 0.98902108 0.23077855 0.49429722 0.79206444 0.43422767\n",
            " 0.27357337 0.44275313 0.01743504 0.05992688 0.16147374 0.95447961]\n",
            "2023-07-03 21:45:12,342 - pyswarms.single.global_best - INFO - Optimize for 1 iters with {'c1': 0.5, 'c2': 0.3, 'w': 0.9}\n"
          ]
        },
        {
          "output_type": "stream",
          "name": "stdout",
          "text": [
            "\n",
            "=========================================================================\n",
            "\n",
            "Número de ciclos de manutenção: 1 5\n",
            "Tempos para manutenções preventivas: [0, 8670]\n",
            "Severidade para cada subsistema: [0.25]\n",
            "Fator:  [0.3296799539643607, 0.3934693402873666]\n",
            "Media de falhas:  [0, 1.5676368569891426e+16, 1.3540828172321192e+16]\n",
            "\n",
            "Custo =  1075838991219261.2\n",
            "=========================================================================\n",
            "\n"
          ]
        },
        {
          "output_type": "stream",
          "name": "stderr",
          "text": [
            "pyswarms.single.global_best: 100%|██████████|1/1, best_cost=2e+3\n",
            "2023-07-03 21:45:12,354 - pyswarms.single.global_best - INFO - Optimization finished | best cost: 2000.0, best pos: [0.33077508 0.17368264 0.94788894 0.79283281 0.63372467 0.00492647\n",
            " 0.6647313  0.3704862  0.01626141 0.97164364 0.52844492 0.60910028\n",
            " 0.5672662  0.02800767 0.65943727 0.70232686 0.81647754 0.70322022\n",
            " 0.68968484 0.98951972 0.23077849 0.49425873 0.79170761 0.43387922\n",
            " 0.27329988 0.44265572 0.01722162 0.06041074 0.16137273 0.95452218]\n",
            "2023-07-03 21:45:12,355 - pyswarms.single.global_best - INFO - Optimize for 1 iters with {'c1': 0.5, 'c2': 0.3, 'w': 0.9}\n"
          ]
        },
        {
          "output_type": "stream",
          "name": "stdout",
          "text": [
            "\n",
            "=========================================================================\n",
            "\n",
            "Número de ciclos de manutenção: 1 5\n",
            "Tempos para manutenções preventivas: [0, 8670]\n",
            "Severidade para cada subsistema: [0.25]\n",
            "Fator:  [0.3296799539643607, 0.3934693402873666]\n",
            "Media de falhas:  [0, 1.5676368569891426e+16, 1.3540828172321192e+16]\n",
            "\n",
            "Custo =  1075838991219261.2\n",
            "=========================================================================\n",
            "\n"
          ]
        },
        {
          "output_type": "stream",
          "name": "stderr",
          "text": [
            "pyswarms.single.global_best: 100%|██████████|1/1, best_cost=2e+3\n",
            "2023-07-03 21:45:12,366 - pyswarms.single.global_best - INFO - Optimization finished | best cost: 2000.0, best pos: [0.33072161 0.17370572 0.94789366 0.79283336 0.63371413 0.00436487\n",
            " 0.66473587 0.37061167 0.01625279 0.97177654 0.52832416 0.60937502\n",
            " 0.56727768 0.0278639  0.65939355 0.70225276 0.81647795 0.70321638\n",
            " 0.68921954 0.99080657 0.23077844 0.49423075 0.79105202 0.43356987\n",
            " 0.27304422 0.44253805 0.01705197 0.06084621 0.16127496 0.95456524]\n"
          ]
        },
        {
          "output_type": "stream",
          "name": "stdout",
          "text": [
            "\n",
            "=========================================================================\n",
            "\n",
            "Número de ciclos de manutenção: 0 5\n",
            "Tempos para manutenções preventivas: [0]\n",
            "Severidade para cada subsistema: []\n"
          ]
        },
        {
          "output_type": "stream",
          "name": "stderr",
          "text": [
            "2023-07-03 21:45:12,368 - pyswarms.single.global_best - INFO - Optimize for 1 iters with {'c1': 0.5, 'c2': 0.3, 'w': 0.9}\n",
            "pyswarms.single.global_best:   0%|          |0/1, best_cost=2e+3"
          ]
        },
        {
          "output_type": "stream",
          "name": "stdout",
          "text": [
            "\n",
            "=========================================================================\n",
            "\n",
            "Número de ciclos de manutenção: 1 5\n",
            "Tempos para manutenções preventivas: [0, 5070]\n",
            "Severidade para cada subsistema: [0.25]\n",
            "Fator:  [0.3296799539643607, 0.3934693402873666]\n",
            "Media de falhas:  [0, 1071987632617824.0, 926673182110058.2]\n",
            "\n",
            "Custo =  133930369131580.88\n",
            "=========================================================================\n",
            "\n"
          ]
        },
        {
          "output_type": "stream",
          "name": "stderr",
          "text": [
            "\rpyswarms.single.global_best: 100%|██████████|1/1, best_cost=2e+3\n",
            "2023-07-03 21:45:12,383 - pyswarms.single.global_best - INFO - Optimization finished | best cost: 2000.0, best pos: [0.3306644  0.17373875 0.94789836 0.7928339  0.63370096 0.00383549\n",
            " 0.6647435  0.37071625 0.01624686 0.97187825 0.52823349 0.60957149\n",
            " 0.56728176 0.02773847 0.65935255 0.70213756 0.81647819 0.70321344\n",
            " 0.68904683 0.99266643 0.2307784  0.49421897 0.79027685 0.43330341\n",
            " 0.27276816 0.4424168  0.01700522 0.06116976 0.16115655 0.95463099]\n",
            "2023-07-03 21:45:12,384 - pyswarms.single.global_best - INFO - Optimize for 1 iters with {'c1': 0.5, 'c2': 0.3, 'w': 0.9}\n",
            "pyswarms.single.global_best: 100%|██████████|1/1, best_cost=2e+3\n",
            "2023-07-03 21:45:12,395 - pyswarms.single.global_best - INFO - Optimization finished | best cost: 2000.0, best pos: [0.33060579 0.17378302 0.94790357 0.79283435 0.63365684 0.00344125\n",
            " 0.66475314 0.37072949 0.0162423  0.9719013  0.52815678 0.60974464\n",
            " 0.56727755 0.0276632  0.65931802 0.70203226 0.81647828 0.70321186\n",
            " 0.6890048  0.99440184 0.23077847 0.49422411 0.78948651 0.43320654\n",
            " 0.27252508 0.44231251 0.01703534 0.06143085 0.16104775 0.95471387]\n",
            "2023-07-03 21:45:12,396 - pyswarms.single.global_best - INFO - Optimize for 1 iters with {'c1': 0.5, 'c2': 0.3, 'w': 0.9}\n"
          ]
        },
        {
          "output_type": "stream",
          "name": "stdout",
          "text": [
            "\n",
            "=========================================================================\n",
            "\n",
            "Número de ciclos de manutenção: 1 5\n",
            "Tempos para manutenções preventivas: [0, 5070]\n",
            "Severidade para cada subsistema: [0.25]\n",
            "Fator:  [0.3296799539643607, 0.3934693402873666]\n",
            "Media de falhas:  [0, 1071987632617824.0, 926673182110058.2]\n",
            "\n",
            "Custo =  133930369131580.88\n",
            "=========================================================================\n",
            "\n"
          ]
        },
        {
          "output_type": "stream",
          "name": "stderr",
          "text": [
            "pyswarms.single.global_best: 100%|██████████|1/1, best_cost=2e+3\n",
            "2023-07-03 21:45:12,408 - pyswarms.single.global_best - INFO - Optimization finished | best cost: 2000.0, best pos: [0.33055587 0.1738283  0.94791472 0.79283456 0.6335944  0.00319947\n",
            " 0.66476186 0.37071024 0.01624138 0.97180174 0.52813212 0.60989075\n",
            " 0.56726718 0.02765773 0.6592992  0.70194551 0.81647827 0.70321126\n",
            " 0.6891388  0.99588658 0.23077863 0.49423899 0.78877965 0.4331674\n",
            " 0.27236848 0.44226329 0.01717319 0.06139096 0.16095297 0.95479087]\n",
            "2023-07-03 21:45:12,410 - pyswarms.single.global_best - INFO - Optimize for 1 iters with {'c1': 0.5, 'c2': 0.3, 'w': 0.9}\n"
          ]
        },
        {
          "output_type": "stream",
          "name": "stdout",
          "text": [
            "\n",
            "=========================================================================\n",
            "\n",
            "Número de ciclos de manutenção: 1 5\n",
            "Tempos para manutenções preventivas: [0, 5070]\n",
            "Severidade para cada subsistema: [0.25]\n",
            "Fator:  [0.3296799539643607, 0.3934693402873666]\n",
            "Media de falhas:  [0, 1071987632617824.0, 926673182110058.2]\n",
            "\n",
            "Custo =  133930369131580.88\n",
            "=========================================================================\n",
            "\n"
          ]
        },
        {
          "output_type": "stream",
          "name": "stderr",
          "text": [
            "pyswarms.single.global_best: 100%|██████████|1/1, best_cost=2e+3\n",
            "2023-07-03 21:45:12,423 - pyswarms.single.global_best - INFO - Optimization finished | best cost: 2000.0, best pos: [0.33052562 0.17386833 0.94792796 0.79283452 0.63352977 0.0030936\n",
            " 0.66476951 0.3706215  0.01624344 0.97157507 0.52813941 0.609951\n",
            " 0.56725463 0.02773492 0.65929827 0.70186802 0.81647811 0.70321126\n",
            " 0.68950781 0.99714793 0.23077885 0.49426137 0.78822062 0.43316228\n",
            " 0.27228237 0.44222441 0.01731577 0.06124466 0.16091879 0.95487126]\n",
            "2023-07-03 21:45:12,425 - pyswarms.single.global_best - INFO - Optimize for 1 iters with {'c1': 0.5, 'c2': 0.3, 'w': 0.9}\n"
          ]
        },
        {
          "output_type": "stream",
          "name": "stdout",
          "text": [
            "\n",
            "=========================================================================\n",
            "\n",
            "Número de ciclos de manutenção: 1 5\n",
            "Tempos para manutenções preventivas: [0, 5070]\n",
            "Severidade para cada subsistema: [0.25]\n",
            "Fator:  [0.3296799539643607, 0.3934693402873666]\n",
            "Media de falhas:  [0, 1071987632617824.0, 926673182110058.2]\n",
            "\n",
            "Custo =  133930369131580.88\n",
            "=========================================================================\n",
            "\n"
          ]
        },
        {
          "output_type": "stream",
          "name": "stderr",
          "text": [
            "pyswarms.single.global_best: 100%|██████████|1/1, best_cost=2e+3\n",
            "2023-07-03 21:45:12,436 - pyswarms.single.global_best - INFO - Optimization finished | best cost: 2000.0, best pos: [0.3305058  0.17389094 0.94793971 0.79283432 0.63347749 0.00330527\n",
            " 0.66477337 0.37044692 0.01624831 0.97127298 0.52817722 0.60970757\n",
            " 0.56723993 0.02785178 0.65931096 0.70186196 0.8164778  0.70321245\n",
            " 0.68995362 0.99741133 0.23077905 0.49428246 0.78796872 0.43316077\n",
            " 0.2722435  0.44223146 0.01745816 0.06094109 0.16095164 0.95494248]\n",
            "2023-07-03 21:45:12,437 - pyswarms.single.global_best - INFO - Optimize for 1 iters with {'c1': 0.5, 'c2': 0.3, 'w': 0.9}\n"
          ]
        },
        {
          "output_type": "stream",
          "name": "stdout",
          "text": [
            "\n",
            "=========================================================================\n",
            "\n",
            "Número de ciclos de manutenção: 1 5\n",
            "Tempos para manutenções preventivas: [0, 5070]\n",
            "Severidade para cada subsistema: [0.25]\n",
            "Fator:  [0.3296799539643607, 0.3934693402873666]\n",
            "Media de falhas:  [0, 1071987632617824.0, 926673182110058.2]\n",
            "\n",
            "Custo =  133930369131580.88\n",
            "=========================================================================\n",
            "\n"
          ]
        },
        {
          "output_type": "stream",
          "name": "stderr",
          "text": [
            "pyswarms.single.global_best: 100%|██████████|1/1, best_cost=2e+3\n",
            "2023-07-03 21:45:12,454 - pyswarms.single.global_best - INFO - Optimization finished | best cost: 2000.0, best pos: [0.33050792 0.17389204 0.94794782 0.79283396 0.63344925 0.00368109\n",
            " 0.66477477 0.37028777 0.01625447 0.97099555 0.52823239 0.60940401\n",
            " 0.56722703 0.02798221 0.6593235  0.70187015 0.81647752 0.70321353\n",
            " 0.69038157 0.99675256 0.23077921 0.49430153 0.78815413 0.43332181\n",
            " 0.27235961 0.44229418 0.01758572 0.06061478 0.16099113 0.95498457]\n",
            "2023-07-03 21:45:12,455 - pyswarms.single.global_best - INFO - Optimize for 1 iters with {'c1': 0.5, 'c2': 0.3, 'w': 0.9}\n"
          ]
        },
        {
          "output_type": "stream",
          "name": "stdout",
          "text": [
            "\n",
            "=========================================================================\n",
            "\n",
            "Número de ciclos de manutenção: 1 5\n",
            "Tempos para manutenções preventivas: [0, 4170]\n",
            "Severidade para cada subsistema: [0.25]\n",
            "Fator:  [0.3296799539643607, 0.3934693402873666]\n",
            "Media de falhas:  [0, 403487656379424.06, 348845881985833.8]\n",
            "\n",
            "Custo =  63536946969290.4\n",
            "=========================================================================\n",
            "\n"
          ]
        },
        {
          "output_type": "stream",
          "name": "stderr",
          "text": [
            "pyswarms.single.global_best: 100%|██████████|1/1, best_cost=2e+3\n",
            "2023-07-03 21:45:12,466 - pyswarms.single.global_best - INFO - Optimization finished | best cost: 2000.0, best pos: [0.33054753 0.17389221 0.94795423 0.79283358 0.63343495 0.00411864\n",
            " 0.66477396 0.37014212 0.01626006 0.97076374 0.52828284 0.60898303\n",
            " 0.5672163  0.02809382 0.65934298 0.70189038 0.81647727 0.70321529\n",
            " 0.69075175 0.99525767 0.2307793  0.49431771 0.78843337 0.43356686\n",
            " 0.27257935 0.44235783 0.01768234 0.06028928 0.16104624 0.95497873]\n"
          ]
        },
        {
          "output_type": "stream",
          "name": "stdout",
          "text": [
            "\n",
            "=========================================================================\n",
            "\n",
            "Número de ciclos de manutenção: 1 5\n",
            "Tempos para manutenções preventivas: [0, 4170]\n",
            "Severidade para cada subsistema: [0.25]\n",
            "Fator:  [0.3296799539643607, 0.3934693402873666]\n",
            "Media de falhas:  [0, 403487656379424.06, 348845881985833.8]\n",
            "\n",
            "Custo =  63536946969290.4\n",
            "=========================================================================\n",
            "\n"
          ]
        }
      ]
    },
    {
      "cell_type": "code",
      "source": [
        "# Plotar o gráfico 3D com todas as melhores posições\n",
        "fig = plt.figure(figsize=(8, 6))\n",
        "ax = fig.add_subplot(111, projection='3d')\n",
        "\n",
        "# Plotar todas as melhores posições anteriores\n",
        "for i in range(best_positions.shape[0]):\n",
        "    ax.scatter(best_positions[i, 0], best_positions[i, 1], best_positions[i, 2], c='blue', alpha=0.2)\n",
        "\n",
        "# Plotar a última melhor posição com uma cor diferente para destacá-la\n",
        "ax.scatter(best_positions[-1, 0], best_positions[-1, 1], best_positions[-1, 2], c='red', label='Melhor posição atual')\n",
        "\n",
        "ax.set_title('Melhores posições ao longo das iterações')\n",
        "ax.legend()\n",
        "plt.show()\n",
        "\n",
        "print(\"                              \")\n",
        "print(\"*************************************************************************\")\n",
        "print(\"Número total de iterações:\", max_iterations)\n",
        "print(\"Número de Particulas:\", num_particles)\n",
        "print(\"                              \")\n",
        "print(\"Melhor custo:\", pbest_cost[0])"
      ],
      "metadata": {
        "id": "4STRoUAPxmqT",
        "outputId": "bd7a0258-aeb6-4eaf-8714-ee62cb8c7aae",
        "colab": {
          "base_uri": "https://localhost:8080/",
          "height": 625
        }
      },
      "execution_count": 172,
      "outputs": [
        {
          "output_type": "display_data",
          "data": {
            "text/plain": [
              "<Figure size 800x600 with 1 Axes>"
            ],
            "image/png": "[encoded data removed]"
          },
          "metadata": {}
        },
        {
          "output_type": "stream",
          "name": "stdout",
          "text": [
            "                              \n",
            "*************************************************************************\n",
            "Número total de iterações: 100\n",
            "Número de Particulas: 10\n",
            "                              \n",
            "Melhor custo: 63536946969290.4\n"
          ]
        }
      ]
    }
  ]
}