{
  "nbformat": 4,
  "nbformat_minor": 0,
  "metadata": {
    "colab": {
      "provenance": [],
      "include_colab_link": true
    },
    "kernelspec": {
      "name": "python3",
      "display_name": "Python 3"
    },
    "language_info": {
      "name": "python"
    }
  },
  "cells": [
    {
      "cell_type": "markdown",
      "metadata": {
        "id": "view-in-github",
        "colab_type": "text"
      },
      "source": [
        "<a href=\"https://colab.research.google.com/github/uervitonsantos/Otimizacao-Politicaca-Manutencao-Preventiva-Imperfeita/blob/main/Algoritmo_PSO_para_otimiza%C3%A7%C3%A3o_de_custo_de_manuten%C3%A7%C3%A3o_preventiva_v15.ipynb\" target=\"_parent\"><img src=\"https://colab.research.google.com/assets/colab-badge.svg\" alt=\"Open In Colab\"/></a>"
      ]
    },
    {
      "cell_type": "markdown",
      "source": [
        "Os Dataset's de dados de confiabilidade para os 4 cenarios podem ser obtidos em: https://drive.google.com/drive/folders/1tzW3424gsRYhvXOCIaF67PCb3PAiOU43?usp=drive_link"
      ],
      "metadata": {
        "id": "wZi0pIL-Ch37"
      }
    },
    {
      "cell_type": "code",
      "execution_count": 342,
      "metadata": {
        "id": "VM8_ebpiVP0V"
      },
      "outputs": [],
      "source": [
        "%%capture\n",
        "pip install pyswarms"
      ]
    },
    {
      "cell_type": "code",
      "source": [
        "%%capture\n",
        "pip install scipy"
      ],
      "metadata": {
        "id": "OWf5AdwyN8Sr"
      },
      "execution_count": 343,
      "outputs": []
    },
    {
      "cell_type": "code",
      "source": [
        "from scipy import stats\n",
        "import numpy as np\n",
        "import pandas as pd\n",
        "import math\n",
        "import csv\n",
        "import locale\n",
        "import matplotlib.pyplot as plt\n",
        "import time\n",
        "from pyswarms.single.global_best import GlobalBestPSO\n",
        "import pyswarms as ps"
      ],
      "metadata": {
        "id": "2sVG0WwfVrUs"
      },
      "execution_count": 344,
      "outputs": []
    },
    {
      "cell_type": "code",
      "source": [
        "!dpkg-reconfigure locales"
      ],
      "metadata": {
        "id": "QRtJky4YZv-I",
        "colab": {
          "base_uri": "https://localhost:8080/"
        },
        "outputId": "4fcd10aa-917a-4b90-a92c-0ee2a97569e3"
      },
      "execution_count": 345,
      "outputs": [
        {
          "output_type": "stream",
          "name": "stdout",
          "text": [
            "Generating locales (this might take a while)...\n",
            "  en_US.UTF-8... done\n",
            "  pt_BR.ISO-8859-1... done\n",
            "Generation complete.\n"
          ]
        }
      ]
    },
    {
      "cell_type": "code",
      "source": [
        "# Install locale pt_BR\n",
        "!/usr/share/locales/install-language-pack pt_BR"
      ],
      "metadata": {
        "id": "s92MNLHCZyMH",
        "colab": {
          "base_uri": "https://localhost:8080/"
        },
        "outputId": "a9ee8685-4199-499a-83d2-b740d455f111"
      },
      "execution_count": 346,
      "outputs": [
        {
          "output_type": "stream",
          "name": "stdout",
          "text": [
            "Generating locales (this might take a while)...\n",
            "Generation complete.\n",
            "\u001b[1mdpkg-trigger:\u001b[0m \u001b[1;31merror:\u001b[0m must be called from a maintainer script (or with a --by-package option)\n",
            "\n",
            "Type dpkg-trigger --help for help about this utility.\n"
          ]
        }
      ]
    },
    {
      "cell_type": "code",
      "source": [
        "print(locale.getlocale())"
      ],
      "metadata": {
        "id": "4KRG4RjkZ0j_",
        "colab": {
          "base_uri": "https://localhost:8080/"
        },
        "outputId": "462f008e-15d1-4171-96c4-ca25d4362f47"
      },
      "execution_count": 347,
      "outputs": [
        {
          "output_type": "stream",
          "name": "stdout",
          "text": [
            "('pt_BR', 'ISO8859-1')\n"
          ]
        }
      ]
    },
    {
      "cell_type": "code",
      "source": [
        "locale.setlocale(locale.LC_ALL, 'pt_BR.iso88591')"
      ],
      "metadata": {
        "id": "90z2KljmZ2bx",
        "colab": {
          "base_uri": "https://localhost:8080/",
          "height": 35
        },
        "outputId": "a4aa026b-fcac-40fb-d13a-1694172373bf"
      },
      "execution_count": 348,
      "outputs": [
        {
          "output_type": "execute_result",
          "data": {
            "text/plain": [
              "'pt_BR.iso88591'"
            ],
            "application/vnd.google.colaboratory.intrinsic+json": {
              "type": "string"
            }
          },
          "metadata": {},
          "execution_count": 348
        }
      ]
    },
    {
      "cell_type": "code",
      "source": [
        "from google.colab import drive\n",
        "drive.mount('/content/drive')"
      ],
      "metadata": {
        "id": "UxVZzIrcndid",
        "colab": {
          "base_uri": "https://localhost:8080/"
        },
        "outputId": "450e8859-3ffb-4052-e62e-759d8fcb486c"
      },
      "execution_count": 349,
      "outputs": [
        {
          "output_type": "stream",
          "name": "stdout",
          "text": [
            "Drive already mounted at /content/drive; to attempt to forcibly remount, call drive.mount(\"/content/drive\", force_remount=True).\n"
          ]
        }
      ]
    },
    {
      "cell_type": "code",
      "source": [
        "# Constantes criadas para representar alguns valores de teste no codigo\n",
        "\n",
        "MAX_VALUE_CUSTO = 15000 # Valor maximo para o custo total da otimização\n",
        "fator_melhoria = 'expo' # Função exponencial selecionada. Há outras funções desenvolvidas\n",
        "DIAS_OBSERVADOS = 600 # Quantidade de dias observados no horizonte de planejamento. Para cada teste há uma quantidade de dia específico\n",
        "CMC = 15000 # Valor para o custo da manutenção corretiva\n",
        "CMP = 2000 # Valor para o custo da manutenção preventiva\n",
        "\n",
        "VALOR_DIMENSOES = int(DIAS_OBSERVADOS / 30)\n",
        "\n",
        "ALGORITMO = 'pso'\n",
        "\n",
        "# Configuraçaõ dos cerarios utulidados para os testes: primeiro_cenario, segundo_cenario, terceiro_cenario, quarto_cenario\n",
        "CENARIO = 'primeiro_cenario'\n",
        "\n",
        "LINK_ARQUIVO_PRINCIPAL = f'/content/drive/MyDrive/datasets/resultados_optimizacao/resultados_{ALGORITMO}/Resultados_{CENARIO}/'\n",
        "NOME_ARQUIVO_PRINCIPAL = f'melhor_custo_{ALGORITMO}_{CENARIO}'\n",
        "NOME_ARQUIVO_TEMPO_SEVERIDADE = '_tempo_severidade'\n",
        "NOME_ARQUIVO_PARAMETROS = 'parametros'\n",
        "\n",
        "# Constante para configuração dos cenarios de teste. de 01 a 04\n",
        "CENARIO_TESTE = f'{CENARIO}'"
      ],
      "metadata": {
        "id": "FeZKvg25Vtwz"
      },
      "execution_count": 350,
      "outputs": []
    },
    {
      "cell_type": "code",
      "source": [
        "print(LINK_ARQUIVO_PRINCIPAL)"
      ],
      "metadata": {
        "id": "Y2OREyNQBrQN",
        "outputId": "67bf515d-9424-45f2-d2d0-41a5cbf0cfbd",
        "colab": {
          "base_uri": "https://localhost:8080/"
        }
      },
      "execution_count": 351,
      "outputs": [
        {
          "output_type": "stream",
          "name": "stdout",
          "text": [
            "/content/drive/MyDrive/datasets/resultados_optimizacao/resultados_pso/Resultados_primeiro_cenario/\n"
          ]
        }
      ]
    },
    {
      "cell_type": "code",
      "source": [
        "class IntensidadeFalha:\n",
        "    # Este método vai inicializar cada objeto criado a partir desta classe\n",
        "    # O nome deste método é \"inicio\"\n",
        "    # (self) é uma referência a cada atributo de um objeto criado a partir desta classe\n",
        "    # Os atributos de cada objeto criados a partir desta classe.\n",
        "    # O self indica que estes são atributos dos objetos\n",
        "    def __init__(self):\n",
        "        self.fator = None\n",
        "        self.lamb = None\n",
        "        self.beta = None\n",
        "        self.theta = None\n",
        "        self.sz = None\n",
        "        self.T = None\n",
        "        self.u = None\n",
        "\n",
        "    def inicio(self, T, fator, solucao):\n",
        "        self.fator = fator\n",
        "        self.lamb = solucao[0]\n",
        "        self.beta = solucao[1]\n",
        "        self.theta = solucao[2]\n",
        "        self.sz = int(T[-1])\n",
        "        self.T = T\n",
        "\n",
        "    def create(self):\n",
        "        self.u = []\n",
        "        for i in range(len(self.T) - 1):\n",
        "            for tt in range(int(self.T[i]), int(self.T[i + 1])):\n",
        "                b = tt - self.fator[0][i] * self.T[i]\n",
        "                self.u.append((1 / (self.lamb ** self.beta)) * self.beta * b ** (self.beta - 1))\n",
        "            # Adiciona nan ao final do ciclo\n",
        "            self.u.append(float('nan'))\n",
        "\n",
        "    # plota e salva a figura da função de intensidade de falha\n",
        "    def plotar(self):\n",
        "        fig = plt.figure(figsize=(20, 5))\n",
        "        plt.plot(self.u)\n",
        "\n",
        "        for xc in self.T:\n",
        "            plt.axvline(x=xc, color='r', linestyle='--')\n",
        "\n",
        "        plt.xlabel(\"Tempo (dias)\")\n",
        "        plt.ylabel(\"Função intensidade de falha\")\n",
        "        plt.xlim(0)\n",
        "        plt.grid(True)\n",
        "        plt.show()"
      ],
      "metadata": {
        "id": "QhF2qTuDV2P1"
      },
      "execution_count": 352,
      "outputs": []
    },
    {
      "cell_type": "code",
      "source": [
        "# Define a função de melhoria constante\n",
        "def const(ck, m, s, theta):\n",
        "    fator = [[theta] * ck] * m\n",
        "    return fator"
      ],
      "metadata": {
        "id": "mMRO_z3_V4a3"
      },
      "execution_count": 353,
      "outputs": []
    },
    {
      "cell_type": "code",
      "source": [
        "# Define a função de melhoria linear\n",
        "def linear(ck, m, s, theta):\n",
        "    fator = []\n",
        "    for k in range(0, m, 1):\n",
        "        linha = [0]\n",
        "        for j in range(0, ck, 1):\n",
        "            linha.append(s[k][j] * theta)\n",
        "        fator.append(linha)\n",
        "    return fator"
      ],
      "metadata": {
        "id": "S_fCxa7GV65n"
      },
      "execution_count": 354,
      "outputs": []
    },
    {
      "cell_type": "code",
      "source": [
        "# Define a função de melhoria exponencial\n",
        "def expo(ck, m, s, theta):\n",
        "    fator = []\n",
        "    for k in range(0, m):\n",
        "        linha = []\n",
        "        # Verifique se o índice k é válido\n",
        "        if k >= len(s):\n",
        "            break\n",
        "        for j in range(0, ck):\n",
        "            # Verifique se o índice j é válido\n",
        "            if j >= len(s[k]):\n",
        "                break\n",
        "            linha.append(1.0 - np.exp(-s[k][j] * theta))\n",
        "        fator.append(linha)\n",
        "\n",
        "    return fator"
      ],
      "metadata": {
        "id": "NV3lIXl9V9FL"
      },
      "execution_count": 355,
      "outputs": []
    },
    {
      "cell_type": "code",
      "source": [
        "# Define a função de melhoria potência\n",
        "def pot(ck, m, s, theta):\n",
        "    fator = []\n",
        "    for k in range(0, m, 1):\n",
        "        linha = []\n",
        "        for j in range(0, ck, 1):\n",
        "            linha.append(s[k][j] ** theta)\n",
        "        fator.append(linha)\n",
        "    return fator"
      ],
      "metadata": {
        "id": "ikxXlzxKV-0K"
      },
      "execution_count": 356,
      "outputs": []
    },
    {
      "cell_type": "code",
      "source": [
        "# Define a função de melhoria para manutenção perfeita\n",
        "def mpp(ck, m, s, theta):\n",
        "    fator = []\n",
        "    for k in range(0, m, 1):\n",
        "        linha = []\n",
        "        for j in range(0, ck, 1):\n",
        "            linha.append(1)\n",
        "        fator.append(linha)\n",
        "    return fator"
      ],
      "metadata": {
        "id": "xcHr8tSFWAus"
      },
      "execution_count": 357,
      "outputs": []
    },
    {
      "cell_type": "code",
      "source": [
        "# Executa a função de melhoria com base no parâmetro fornecido\n",
        "def execute_function(fator_melhoria, ck, m, s, theta):\n",
        "    return {\n",
        "        'const': lambda: const(ck, m, s, theta),\n",
        "        'linear': lambda: linear(ck, m, s, theta),\n",
        "        'expo': lambda: expo(ck, m, s, theta),\n",
        "        'pot': lambda: pot(ck, m, s, theta),\n",
        "        'mpp': lambda: mpp(ck, m, s, theta),\n",
        "    }[fator_melhoria]()"
      ],
      "metadata": {
        "id": "R5KeFcseWDH6"
      },
      "execution_count": 358,
      "outputs": []
    },
    {
      "cell_type": "code",
      "source": [
        "# Função custo de manutenção baseada em severidade\n",
        "def custo_mp(s, CMP):\n",
        "    # Dicionario definido pelo cliente\n",
        "    dist = {0.2: 2000, 0.4: 4000, 0.5: 9000, 0.9: 12000}\n",
        "    if not isinstance(s, list):\n",
        "        s = [s]  # Transforma s em uma lista com um único elemento\n",
        "    cmp_f = np.sum([CMP if si < 0.2 or si > 0.9 else np.interp(si, [0.2, 0.4, 0.5, 0.9], [2000, 4000, 9000, 12000]) for si in s])\n",
        "    return cmp_f"
      ],
      "metadata": {
        "id": "9K0PX8kIrIc4"
      },
      "execution_count": 359,
      "outputs": []
    },
    {
      "cell_type": "markdown",
      "source": [
        "O 1.º cenário, considera o dataset fictício do trabalho do Dr Marco Coque Jr, com 5 sistema, observados por 600 dias, com MP realizada nos tempos 150, 250, 500 e 600, com custo de MP apresentado na tabela 1, com taxas de severidades de 40%, 50%, 90% e 20%, respectivamente  e MC fixa em \"?\"\n",
        "\n",
        "O 2.º cenário, considera o dataset fictício, com 3 sistemas, observados por 730 dias, com MP realizada nos tempos \"?\", com custo de MP apresentado na tabela 2, com taxas de severidade fixas em 20%, 70% e 100%, respectivamente e MC fixa em US$15.000\n",
        "\n",
        "O 3.º cenário, considera o dataset fictício, com 2 sistemas, observados por 1.460 dias, com MP realizada nos tempos \"?\", com custo de MP fixo em US$4.000, com taxas de severidade fixas em 100% e MC fixa em US$17.000\n",
        "\n",
        "O 4.º cenário, considera o dataset fictício, com 4 sistemas, observados por 730 dias, com MP realizada nos tempos \"?\", com custo de MP apresentado na tabela 2, com taxas de severidade fixas em 50% e 100%, onde US$2.000 e US$3.000, respectivamente e MC fixa em US$15.000 texto em itálico\n",
        "\n",
        "\n",
        "\n"
      ],
      "metadata": {
        "id": "G2TJsXlyGcOc"
      }
    },
    {
      "cell_type": "code",
      "source": [
        "# Defina o dicionário de tipos de dados\n",
        "# define as 3 colunas do dataset como int\n",
        "dtypes = {\n",
        "    't': int,\n",
        "    'k': int,\n",
        "    'c': int,\n",
        "}\n",
        "\n",
        "# Leitura dos dados de tempo de falha para 4 cenarios de exemplo\n",
        "df = pd.read_csv(f'/content/drive/MyDrive/datasets/Cenarios/{CENARIO_TESTE}.csv', sep=\";\")\n",
        "\n",
        "# Remova as linhas com valores ausentes\n",
        "df = df.fillna(0)\n",
        "\n",
        "# Converta as colunas para os tipos de dados desejados\n",
        "df = df.astype(dtypes)\n",
        "\n",
        "df.head()"
      ],
      "metadata": {
        "colab": {
          "base_uri": "https://localhost:8080/",
          "height": 206
        },
        "id": "IDcyZ_pHWIW8",
        "outputId": "092d21d9-fe85-474e-958b-f8a5f404378b"
      },
      "execution_count": 360,
      "outputs": [
        {
          "output_type": "execute_result",
          "data": {
            "text/plain": [
              "     t  k  c    n    s      T\n",
              "0   90  1  1  4.0  0.4  150.0\n",
              "1  110  1  1  0.0  0.5  250.0\n",
              "2  125  1  1  9.0  0.9  500.0\n",
              "3  135  1  1  2.0  0.2  600.0\n",
              "4  295  1  3  2.0  0.4    0.0"
            ],
            "text/html": [
              "\n",
              "  <div id=\"df-e24737ff-53ed-4866-a3bc-d9791842b803\" class=\"colab-df-container\">\n",
              "    <div>\n",
              "<style scoped>\n",
              "    .dataframe tbody tr th:only-of-type {\n",
              "        vertical-align: middle;\n",
              "    }\n",
              "\n",
              "    .dataframe tbody tr th {\n",
              "        vertical-align: top;\n",
              "    }\n",
              "\n",
              "    .dataframe thead th {\n",
              "        text-align: right;\n",
              "    }\n",
              "</style>\n",
              "<table border=\"1\" class=\"dataframe\">\n",
              "  <thead>\n",
              "    <tr style=\"text-align: right;\">\n",
              "      <th></th>\n",
              "      <th>t</th>\n",
              "      <th>k</th>\n",
              "      <th>c</th>\n",
              "      <th>n</th>\n",
              "      <th>s</th>\n",
              "      <th>T</th>\n",
              "    </tr>\n",
              "  </thead>\n",
              "  <tbody>\n",
              "    <tr>\n",
              "      <th>0</th>\n",
              "      <td>90</td>\n",
              "      <td>1</td>\n",
              "      <td>1</td>\n",
              "      <td>4.0</td>\n",
              "      <td>0.4</td>\n",
              "      <td>150.0</td>\n",
              "    </tr>\n",
              "    <tr>\n",
              "      <th>1</th>\n",
              "      <td>110</td>\n",
              "      <td>1</td>\n",
              "      <td>1</td>\n",
              "      <td>0.0</td>\n",
              "      <td>0.5</td>\n",
              "      <td>250.0</td>\n",
              "    </tr>\n",
              "    <tr>\n",
              "      <th>2</th>\n",
              "      <td>125</td>\n",
              "      <td>1</td>\n",
              "      <td>1</td>\n",
              "      <td>9.0</td>\n",
              "      <td>0.9</td>\n",
              "      <td>500.0</td>\n",
              "    </tr>\n",
              "    <tr>\n",
              "      <th>3</th>\n",
              "      <td>135</td>\n",
              "      <td>1</td>\n",
              "      <td>1</td>\n",
              "      <td>2.0</td>\n",
              "      <td>0.2</td>\n",
              "      <td>600.0</td>\n",
              "    </tr>\n",
              "    <tr>\n",
              "      <th>4</th>\n",
              "      <td>295</td>\n",
              "      <td>1</td>\n",
              "      <td>3</td>\n",
              "      <td>2.0</td>\n",
              "      <td>0.4</td>\n",
              "      <td>0.0</td>\n",
              "    </tr>\n",
              "  </tbody>\n",
              "</table>\n",
              "</div>\n",
              "    <div class=\"colab-df-buttons\">\n",
              "\n",
              "  <div class=\"colab-df-container\">\n",
              "    <button class=\"colab-df-convert\" onclick=\"convertToInteractive('df-e24737ff-53ed-4866-a3bc-d9791842b803')\"\n",
              "            title=\"Convert this dataframe to an interactive table.\"\n",
              "            style=\"display:none;\">\n",
              "\n",
              "  <svg xmlns=\"http://www.w3.org/2000/svg\" height=\"24px\" viewBox=\"0 -960 960 960\">\n",
              "    <path d=\"M120-120v-720h720v720H120Zm60-500h600v-160H180v160Zm220 220h160v-160H400v160Zm0 220h160v-160H400v160ZM180-400h160v-160H180v160Zm440 0h160v-160H620v160ZM180-180h160v-160H180v160Zm440 0h160v-160H620v160Z\"/>\n",
              "  </svg>\n",
              "    </button>\n",
              "\n",
              "  <style>\n",
              "    .colab-df-container {\n",
              "      display:flex;\n",
              "      gap: 12px;\n",
              "    }\n",
              "\n",
              "    .colab-df-convert {\n",
              "      background-color: #E8F0FE;\n",
              "      border: none;\n",
              "      border-radius: 50%;\n",
              "      cursor: pointer;\n",
              "      display: none;\n",
              "      fill: #1967D2;\n",
              "      height: 32px;\n",
              "      padding: 0 0 0 0;\n",
              "      width: 32px;\n",
              "    }\n",
              "\n",
              "    .colab-df-convert:hover {\n",
              "      background-color: #E2EBFA;\n",
              "      box-shadow: 0px 1px 2px rgba(60, 64, 67, 0.3), 0px 1px 3px 1px rgba(60, 64, 67, 0.15);\n",
              "      fill: #174EA6;\n",
              "    }\n",
              "\n",
              "    .colab-df-buttons div {\n",
              "      margin-bottom: 4px;\n",
              "    }\n",
              "\n",
              "    [theme=dark] .colab-df-convert {\n",
              "      background-color: #3B4455;\n",
              "      fill: #D2E3FC;\n",
              "    }\n",
              "\n",
              "    [theme=dark] .colab-df-convert:hover {\n",
              "      background-color: #434B5C;\n",
              "      box-shadow: 0px 1px 3px 1px rgba(0, 0, 0, 0.15);\n",
              "      filter: drop-shadow(0px 1px 2px rgba(0, 0, 0, 0.3));\n",
              "      fill: #FFFFFF;\n",
              "    }\n",
              "  </style>\n",
              "\n",
              "    <script>\n",
              "      const buttonEl =\n",
              "        document.querySelector('#df-e24737ff-53ed-4866-a3bc-d9791842b803 button.colab-df-convert');\n",
              "      buttonEl.style.display =\n",
              "        google.colab.kernel.accessAllowed ? 'block' : 'none';\n",
              "\n",
              "      async function convertToInteractive(key) {\n",
              "        const element = document.querySelector('#df-e24737ff-53ed-4866-a3bc-d9791842b803');\n",
              "        const dataTable =\n",
              "          await google.colab.kernel.invokeFunction('convertToInteractive',\n",
              "                                                    [key], {});\n",
              "        if (!dataTable) return;\n",
              "\n",
              "        const docLinkHtml = 'Like what you see? Visit the ' +\n",
              "          '<a target=\"_blank\" href=https://colab.research.google.com/notebooks/data_table.ipynb>data table notebook</a>'\n",
              "          + ' to learn more about interactive tables.';\n",
              "        element.innerHTML = '';\n",
              "        dataTable['output_type'] = 'display_data';\n",
              "        await google.colab.output.renderOutput(dataTable, element);\n",
              "        const docLink = document.createElement('div');\n",
              "        docLink.innerHTML = docLinkHtml;\n",
              "        element.appendChild(docLink);\n",
              "      }\n",
              "    </script>\n",
              "  </div>\n",
              "\n",
              "\n",
              "<div id=\"df-a6465f82-df08-427b-af8e-66482aa2fc3e\">\n",
              "  <button class=\"colab-df-quickchart\" onclick=\"quickchart('df-a6465f82-df08-427b-af8e-66482aa2fc3e')\"\n",
              "            title=\"Suggest charts\"\n",
              "            style=\"display:none;\">\n",
              "\n",
              "<svg xmlns=\"http://www.w3.org/2000/svg\" height=\"24px\"viewBox=\"0 0 24 24\"\n",
              "     width=\"24px\">\n",
              "    <g>\n",
              "        <path d=\"M19 3H5c-1.1 0-2 .9-2 2v14c0 1.1.9 2 2 2h14c1.1 0 2-.9 2-2V5c0-1.1-.9-2-2-2zM9 17H7v-7h2v7zm4 0h-2V7h2v10zm4 0h-2v-4h2v4z\"/>\n",
              "    </g>\n",
              "</svg>\n",
              "  </button>\n",
              "\n",
              "<style>\n",
              "  .colab-df-quickchart {\n",
              "      --bg-color: #E8F0FE;\n",
              "      --fill-color: #1967D2;\n",
              "      --hover-bg-color: #E2EBFA;\n",
              "      --hover-fill-color: #174EA6;\n",
              "      --disabled-fill-color: #AAA;\n",
              "      --disabled-bg-color: #DDD;\n",
              "  }\n",
              "\n",
              "  [theme=dark] .colab-df-quickchart {\n",
              "      --bg-color: #3B4455;\n",
              "      --fill-color: #D2E3FC;\n",
              "      --hover-bg-color: #434B5C;\n",
              "      --hover-fill-color: #FFFFFF;\n",
              "      --disabled-bg-color: #3B4455;\n",
              "      --disabled-fill-color: #666;\n",
              "  }\n",
              "\n",
              "  .colab-df-quickchart {\n",
              "    background-color: var(--bg-color);\n",
              "    border: none;\n",
              "    border-radius: 50%;\n",
              "    cursor: pointer;\n",
              "    display: none;\n",
              "    fill: var(--fill-color);\n",
              "    height: 32px;\n",
              "    padding: 0;\n",
              "    width: 32px;\n",
              "  }\n",
              "\n",
              "  .colab-df-quickchart:hover {\n",
              "    background-color: var(--hover-bg-color);\n",
              "    box-shadow: 0 1px 2px rgba(60, 64, 67, 0.3), 0 1px 3px 1px rgba(60, 64, 67, 0.15);\n",
              "    fill: var(--button-hover-fill-color);\n",
              "  }\n",
              "\n",
              "  .colab-df-quickchart-complete:disabled,\n",
              "  .colab-df-quickchart-complete:disabled:hover {\n",
              "    background-color: var(--disabled-bg-color);\n",
              "    fill: var(--disabled-fill-color);\n",
              "    box-shadow: none;\n",
              "  }\n",
              "\n",
              "  .colab-df-spinner {\n",
              "    border: 2px solid var(--fill-color);\n",
              "    border-color: transparent;\n",
              "    border-bottom-color: var(--fill-color);\n",
              "    animation:\n",
              "      spin 1s steps(1) infinite;\n",
              "  }\n",
              "\n",
              "  @keyframes spin {\n",
              "    0% {\n",
              "      border-color: transparent;\n",
              "      border-bottom-color: var(--fill-color);\n",
              "      border-left-color: var(--fill-color);\n",
              "    }\n",
              "    20% {\n",
              "      border-color: transparent;\n",
              "      border-left-color: var(--fill-color);\n",
              "      border-top-color: var(--fill-color);\n",
              "    }\n",
              "    30% {\n",
              "      border-color: transparent;\n",
              "      border-left-color: var(--fill-color);\n",
              "      border-top-color: var(--fill-color);\n",
              "      border-right-color: var(--fill-color);\n",
              "    }\n",
              "    40% {\n",
              "      border-color: transparent;\n",
              "      border-right-color: var(--fill-color);\n",
              "      border-top-color: var(--fill-color);\n",
              "    }\n",
              "    60% {\n",
              "      border-color: transparent;\n",
              "      border-right-color: var(--fill-color);\n",
              "    }\n",
              "    80% {\n",
              "      border-color: transparent;\n",
              "      border-right-color: var(--fill-color);\n",
              "      border-bottom-color: var(--fill-color);\n",
              "    }\n",
              "    90% {\n",
              "      border-color: transparent;\n",
              "      border-bottom-color: var(--fill-color);\n",
              "    }\n",
              "  }\n",
              "</style>\n",
              "\n",
              "  <script>\n",
              "    async function quickchart(key) {\n",
              "      const quickchartButtonEl =\n",
              "        document.querySelector('#' + key + ' button');\n",
              "      quickchartButtonEl.disabled = true;  // To prevent multiple clicks.\n",
              "      quickchartButtonEl.classList.add('colab-df-spinner');\n",
              "      try {\n",
              "        const charts = await google.colab.kernel.invokeFunction(\n",
              "            'suggestCharts', [key], {});\n",
              "      } catch (error) {\n",
              "        console.error('Error during call to suggestCharts:', error);\n",
              "      }\n",
              "      quickchartButtonEl.classList.remove('colab-df-spinner');\n",
              "      quickchartButtonEl.classList.add('colab-df-quickchart-complete');\n",
              "    }\n",
              "    (() => {\n",
              "      let quickchartButtonEl =\n",
              "        document.querySelector('#df-a6465f82-df08-427b-af8e-66482aa2fc3e button');\n",
              "      quickchartButtonEl.style.display =\n",
              "        google.colab.kernel.accessAllowed ? 'block' : 'none';\n",
              "    })();\n",
              "  </script>\n",
              "</div>\n",
              "\n",
              "    </div>\n",
              "  </div>\n"
            ],
            "application/vnd.google.colaboratory.intrinsic+json": {
              "type": "dataframe",
              "variable_name": "df",
              "summary": "{\n  \"name\": \"df\",\n  \"rows\": 93,\n  \"fields\": [\n    {\n      \"column\": \"t\",\n      \"properties\": {\n        \"dtype\": \"number\",\n        \"std\": 141,\n        \"min\": 50,\n        \"max\": 595,\n        \"num_unique_values\": 67,\n        \"samples\": [\n          380,\n          145,\n          295\n        ],\n        \"semantic_type\": \"\",\n        \"description\": \"\"\n      }\n    },\n    {\n      \"column\": \"k\",\n      \"properties\": {\n        \"dtype\": \"number\",\n        \"std\": 1,\n        \"min\": 1,\n        \"max\": 5,\n        \"num_unique_values\": 5,\n        \"samples\": [\n          2,\n          5,\n          3\n        ],\n        \"semantic_type\": \"\",\n        \"description\": \"\"\n      }\n    },\n    {\n      \"column\": \"c\",\n      \"properties\": {\n        \"dtype\": \"number\",\n        \"std\": 0,\n        \"min\": 1,\n        \"max\": 4,\n        \"num_unique_values\": 4,\n        \"samples\": [\n          3,\n          2,\n          1\n        ],\n        \"semantic_type\": \"\",\n        \"description\": \"\"\n      }\n    },\n    {\n      \"column\": \"n\",\n      \"properties\": {\n        \"dtype\": \"number\",\n        \"std\": 2.7897327283544877,\n        \"min\": 0.0,\n        \"max\": 17.0,\n        \"num_unique_values\": 10,\n        \"samples\": [\n          11.0,\n          0.0,\n          10.0\n        ],\n        \"semantic_type\": \"\",\n        \"description\": \"\"\n      }\n    },\n    {\n      \"column\": \"s\",\n      \"properties\": {\n        \"dtype\": \"number\",\n        \"std\": 0.23830769256307247,\n        \"min\": 0.0,\n        \"max\": 0.9,\n        \"num_unique_values\": 5,\n        \"samples\": [\n          0.5,\n          0.0,\n          0.9\n        ],\n        \"semantic_type\": \"\",\n        \"description\": \"\"\n      }\n    },\n    {\n      \"column\": \"T\",\n      \"properties\": {\n        \"dtype\": \"number\",\n        \"std\": 85.3895454611002,\n        \"min\": 0.0,\n        \"max\": 600.0,\n        \"num_unique_values\": 5,\n        \"samples\": [\n          250.0,\n          0.0,\n          500.0\n        ],\n        \"semantic_type\": \"\",\n        \"description\": \"\"\n      }\n    }\n  ]\n}"
            }
          },
          "metadata": {},
          "execution_count": 360
        }
      ]
    },
    {
      "cell_type": "markdown",
      "source": [
        "\n",
        "\n",
        "*   t: Representa os tempos de falha.\n",
        "*   k: Indica o índice do sistema.\n",
        "*   c: Representa o número de ciclos de manutenção.\n",
        "*   n: Indica o número de falhas em cada ciclo de manutenção preventiva.\n",
        "*   s: Representa a severidade das manutenções preventivas em cada sistema.\n",
        "*   T: Indica os tempos das manutenções preventivas.\n",
        "\n"
      ],
      "metadata": {
        "id": "CaA-qPulJnW2"
      }
    },
    {
      "cell_type": "code",
      "source": [
        "# Cria as variaveis\n",
        "# tempos de falhas\n",
        "t = df['t']\n",
        "# indice do sistema\n",
        "k = df['k']\n",
        "m = k.drop_duplicates().shape[0]\n",
        "# Numero de ciclos de manutenção\n",
        "ck = df['c'].max()\n",
        "# Numero de falhas e severidade das manutenções preventivas em cada sistema\n",
        "n = []\n",
        "s = []\n",
        "for k in range(m):\n",
        "    n.append(list(df['n'][k * ck:(k + 1) * ck]))\n",
        "    s.append(list(df['s'][k * ck:(k + 1) * ck]))\n",
        "\n",
        "# Tempos das MP\n",
        "T = list(df['T'][:m])"
      ],
      "metadata": {
        "id": "osEXf1wsuIlP"
      },
      "execution_count": 361,
      "outputs": []
    },
    {
      "cell_type": "code",
      "source": [
        "# Define a função objetivo para ótimização dos parametros lambda, beta, theta\n",
        "def objective(x):\n",
        "    #\n",
        "    # Solucao a ser avaliada x = [x1, x2, x3] = [lambda, beta, theta]\n",
        "    lamb = x[:, 0]\n",
        "    beta = x[:, 1]\n",
        "    theta = x[:, 2]\n",
        "\n",
        "    # Cria fator de melhoria\n",
        "\t# variável fator_melhoria definida como 'expo' no início do programa!\n",
        "    fator = execute_function(fator_melhoria, ck, m, s, theta)\n",
        "\n",
        "    cont = 0\n",
        "    fitness = 1\n",
        "\n",
        "    for k in range(0, m, 1):\n",
        "        prod = 1\n",
        "        for j in range(0, len(ck) if isinstance(ck, np.ndarray) else 1, 1):\n",
        "            nkj = int(n[k][j])\n",
        "            for i in range(0, nkj, 1):\n",
        "                prod = prod * (1/(lamb**beta)) * beta * (int(t[cont])-fator[k][j]*T[j])**(beta-1);\n",
        "                cont = cont + 1;\n",
        "\n",
        "        soma = 0\n",
        "        for l in range(0, len(ck) if isinstance(ck, np.ndarray) else 1, 1):\n",
        "            soma = soma + ((1/(lamb**beta))*(T[l+1]-fator[k][l]*T[l])**beta - (1/(lamb**beta))*(T[l]-fator[k][l]*T[l])**beta);\n",
        "\n",
        "        ans = np.exp(-soma)\n",
        "        fitness = fitness * prod * ans;\n",
        "\n",
        "    return (-1)*fitness"
      ],
      "metadata": {
        "id": "F548fs8JXJkK"
      },
      "execution_count": 362,
      "outputs": []
    },
    {
      "cell_type": "code",
      "source": [
        "# Parâmetros do PSO\n",
        "num_particles = 100\n",
        "max_iterations = 50\n",
        "dimensions = 3\n",
        "options = {'c1': 0.5, 'c2': 0.3, 'w': 0.9}  # Opções do PSO\n",
        "\n",
        "# Limites inferiores e superiores para lamb, beta e theta\n",
        "lb = np.array([100, 1, 0])\n",
        "ub = np.array([150, 3, 1])\n",
        "bounds = (lb, ub)\n",
        "\n",
        "# Registre o tempo de início de convergência para a primeira etapa\n",
        "start_time_first_stage = time.time()\n",
        "\n",
        "optimizer = GlobalBestPSO(n_particles=num_particles, dimensions=dimensions, options=options, bounds=bounds)\n",
        "\n",
        "# Registre o tempo de término\n",
        "end_time_first_stage = time.time()\n",
        "\n",
        "# Calcule o tempo total de convergência\n",
        "convergence_time_first_stage = end_time_first_stage - start_time_first_stage\n",
        "\n",
        "# Define o enxame de partículas\n",
        "swarm = optimizer.swarm\n",
        "\n",
        "# Inicializar current_cost e pbest_cost com valores infinitos\n",
        "swarm.current_cost = np.full(swarm.position.shape[0], np.inf)\n",
        "swarm.pbest_cost = np.full(swarm.position.shape[0], np.inf)\n",
        "best_cost, best_position = optimizer.optimize(objective, iters=max_iterations)\n",
        "\n",
        "# Calcula mask_cost\n",
        "mask_cost = swarm.current_cost < swarm.pbest_cost\n",
        "\n",
        "# Atualiza pbest\n",
        "swarm.pbest_cost = np.where(mask_cost, swarm.current_cost, swarm.pbest_cost)\n",
        "swarm.pbest_pos = np.where(mask_cost[:, np.newaxis], swarm.position, swarm.pbest_pos)"
      ],
      "metadata": {
        "id": "sdZ_xrssxPjt",
        "colab": {
          "base_uri": "https://localhost:8080/"
        },
        "outputId": "cf254e03-3ae2-4fb0-c9b0-b62db0997b78"
      },
      "execution_count": 363,
      "outputs": [
        {
          "output_type": "stream",
          "name": "stderr",
          "text": [
            "2024-03-15 18:27:42,957 - pyswarms.single.global_best - INFO - Optimize for 50 iters with {'c1': 0.5, 'c2': 0.3, 'w': 0.9}\n",
            "pyswarms.single.global_best: 100%|██████████|50/50, best_cost=-1.27e-23\n",
            "2024-03-15 18:27:43,214 - pyswarms.single.global_best - INFO - Optimization finished | best cost: -1.271181889377993e-23, best pos: [149.17635305   2.9924384    0.49613284]\n"
          ]
        }
      ]
    },
    {
      "cell_type": "code",
      "source": [
        "# Criação de variáveis para os parâmetros\n",
        "lamb, beta, theta = best_position\n",
        "print('lamb:', lamb)\n",
        "print('beta:', beta)\n",
        "print('theta:', theta)\n",
        "print('')\n",
        "print(\"Tempo de Convergência para a primeira etapa:\", convergence_time_first_stage, \"segundos\")"
      ],
      "metadata": {
        "colab": {
          "base_uri": "https://localhost:8080/"
        },
        "id": "NaosdejV9bWw",
        "outputId": "9e49c744-a3cf-486a-cfb0-0be1820036d8"
      },
      "execution_count": 364,
      "outputs": [
        {
          "output_type": "stream",
          "name": "stdout",
          "text": [
            "lamb: 149.1763530473897\n",
            "beta: 2.992438397292381\n",
            "theta: 0.49613284302311\n",
            "\n",
            "Tempo de Convergência para a primeira etapa: 0.009799957275390625 segundos\n"
          ]
        }
      ]
    },
    {
      "cell_type": "code",
      "source": [
        "# lamb = 149.46611911427442\n",
        "# beta = 3.7082881597847184\n",
        "# theta = 0.8860147939929904\n",
        "\n",
        "solucao = [lamb, beta, theta]\n",
        "\n",
        "# Cria a instância da classe IntensidadeFalha\n",
        "intensidadeFalha = IntensidadeFalha()\n",
        "\n",
        "# Inicializa a instância com os valores necessários\n",
        "intensidadeFalha.inicio(T, execute_function(fator_melhoria, ck, m, s, theta), solucao)\n",
        "\n",
        "# Cria os dados da intensidade de falha\n",
        "intensidadeFalha.create()\n",
        "\n",
        "# Plota o gráfico da intensidade de falha\n",
        "intensidadeFalha.plotar()\n",
        "\n",
        "fator = execute_function(fator_melhoria, ck, m, s, theta)\n",
        "print('Fator ajuste: ', fator[0])\n",
        "\n",
        "last_value_fator_ajuste = fator[0][-1]\n",
        "\n",
        "time_duration = 1\n",
        "time.sleep(time_duration)"
      ],
      "metadata": {
        "id": "grvISRd2_HkE",
        "outputId": "bfe1b3ed-e81e-4ed6-ada8-8cc91bc61203",
        "colab": {
          "base_uri": "https://localhost:8080/",
          "height": 376
        }
      },
      "execution_count": 365,
      "outputs": [
        {
          "output_type": "display_data",
          "data": {
            "text/plain": [
              "<Figure size 2000x500 with 1 Axes>"
            ],
            "image/png": "[encoded data removed]"
          },
          "metadata": {}
        },
        {
          "output_type": "stream",
          "name": "stdout",
          "text": [
            "Fator ajuste:  [0.18000180275605104, 0.21969188768759063, 0.3601487546089954, 0.09446248159231474]\n"
          ]
        }
      ]
    },
    {
      "cell_type": "code",
      "source": [
        "# Nome do arquivo CSV para salvar os resultados dos parametros\n",
        "nome_arquivo_parametros = f'{LINK_ARQUIVO_PRINCIPAL}{NOME_ARQUIVO_PARAMETROS}.csv'"
      ],
      "metadata": {
        "id": "wt_KegKd9xnH"
      },
      "execution_count": 366,
      "outputs": []
    },
    {
      "cell_type": "code",
      "source": [
        "# Gravar os valores de Lambda, Beta e Theta em um arquivo separado\n",
        "melhores_parametros = []\n",
        "\n",
        "try:\n",
        "    with open(nome_arquivo_parametros, 'r') as arquivo_csv:\n",
        "        reader = csv.reader(arquivo_csv)\n",
        "        next(reader)  # Pule o cabeçalho\n",
        "        for linha in reader:\n",
        "            melhores_parametros.append(linha[1])\n",
        "except FileNotFoundError:\n",
        "    pass  # Arquivo não existe, pode ser a primeira execução\n",
        "\n",
        "\n",
        "# Criar uma lista com os valores atuais\n",
        "valores_atuais = [len(melhores_parametros), lamb, beta, theta, convergence_time_first_stage]\n",
        "\n",
        "# Abrir o arquivo CSV em modo de leitura e escrita e escrever os valores atuais no final do arquivo\n",
        "with open(nome_arquivo_parametros, 'a+', newline='') as arquivo_csv:\n",
        "    writer = csv.writer(arquivo_csv)\n",
        "\n",
        "    # Se o arquivo estiver vazio, escreva o cabeçalho\n",
        "    if arquivo_csv.tell() == 0:\n",
        "        writer.writerow(['Index', 'Lambda', 'Beta', 'Theta', 'Convergencia_Primeira_Etapa'])\n",
        "\n",
        "    # Escrever os valores atuais\n",
        "    writer.writerow(valores_atuais)"
      ],
      "metadata": {
        "id": "MAO8DUisC1pP"
      },
      "execution_count": 367,
      "outputs": []
    },
    {
      "cell_type": "code",
      "source": [
        "# Leitura dos dados de tempo de falha para 4 cenarios de exemplo\n",
        "resultado = pd.read_csv(nome_arquivo_parametros, sep=\",\")\n",
        "resultado.head(10)"
      ],
      "metadata": {
        "id": "-TegKIiAHGbt",
        "outputId": "912ccade-a2bc-4310-c316-20ac8cf7853f",
        "colab": {
          "base_uri": "https://localhost:8080/",
          "height": 332
        }
      },
      "execution_count": 368,
      "outputs": [
        {
          "output_type": "execute_result",
          "data": {
            "text/plain": [
              "   Index      Lambda      Beta     Theta  Convergencia_Primeira_Etapa\n",
              "0      0  149.778989  4.015795  0.966886                     0.011218\n",
              "1      1  149.997314  3.820812  0.954017                     0.011207\n",
              "2      2  149.724153  4.016686  0.979311                     0.009828\n",
              "3      3  149.853125  3.979660  0.991880                     0.009296\n",
              "4      4  149.977591  3.777460  0.893294                     0.013695\n",
              "5      5  149.769561  4.030911  0.987483                     0.009681\n",
              "6      6  149.466119  3.708288  0.886015                     0.009480\n",
              "7      7  124.477154  1.999610  0.264075                     0.006245\n",
              "8      8  149.176353  2.992438  0.496133                     0.009800"
            ],
            "text/html": [
              "\n",
              "  <div id=\"df-92aab0fc-4d7a-4812-8937-ca02834b2abc\" class=\"colab-df-container\">\n",
              "    <div>\n",
              "<style scoped>\n",
              "    .dataframe tbody tr th:only-of-type {\n",
              "        vertical-align: middle;\n",
              "    }\n",
              "\n",
              "    .dataframe tbody tr th {\n",
              "        vertical-align: top;\n",
              "    }\n",
              "\n",
              "    .dataframe thead th {\n",
              "        text-align: right;\n",
              "    }\n",
              "</style>\n",
              "<table border=\"1\" class=\"dataframe\">\n",
              "  <thead>\n",
              "    <tr style=\"text-align: right;\">\n",
              "      <th></th>\n",
              "      <th>Index</th>\n",
              "      <th>Lambda</th>\n",
              "      <th>Beta</th>\n",
              "      <th>Theta</th>\n",
              "      <th>Convergencia_Primeira_Etapa</th>\n",
              "    </tr>\n",
              "  </thead>\n",
              "  <tbody>\n",
              "    <tr>\n",
              "      <th>0</th>\n",
              "      <td>0</td>\n",
              "      <td>149.778989</td>\n",
              "      <td>4.015795</td>\n",
              "      <td>0.966886</td>\n",
              "      <td>0.011218</td>\n",
              "    </tr>\n",
              "    <tr>\n",
              "      <th>1</th>\n",
              "      <td>1</td>\n",
              "      <td>149.997314</td>\n",
              "      <td>3.820812</td>\n",
              "      <td>0.954017</td>\n",
              "      <td>0.011207</td>\n",
              "    </tr>\n",
              "    <tr>\n",
              "      <th>2</th>\n",
              "      <td>2</td>\n",
              "      <td>149.724153</td>\n",
              "      <td>4.016686</td>\n",
              "      <td>0.979311</td>\n",
              "      <td>0.009828</td>\n",
              "    </tr>\n",
              "    <tr>\n",
              "      <th>3</th>\n",
              "      <td>3</td>\n",
              "      <td>149.853125</td>\n",
              "      <td>3.979660</td>\n",
              "      <td>0.991880</td>\n",
              "      <td>0.009296</td>\n",
              "    </tr>\n",
              "    <tr>\n",
              "      <th>4</th>\n",
              "      <td>4</td>\n",
              "      <td>149.977591</td>\n",
              "      <td>3.777460</td>\n",
              "      <td>0.893294</td>\n",
              "      <td>0.013695</td>\n",
              "    </tr>\n",
              "    <tr>\n",
              "      <th>5</th>\n",
              "      <td>5</td>\n",
              "      <td>149.769561</td>\n",
              "      <td>4.030911</td>\n",
              "      <td>0.987483</td>\n",
              "      <td>0.009681</td>\n",
              "    </tr>\n",
              "    <tr>\n",
              "      <th>6</th>\n",
              "      <td>6</td>\n",
              "      <td>149.466119</td>\n",
              "      <td>3.708288</td>\n",
              "      <td>0.886015</td>\n",
              "      <td>0.009480</td>\n",
              "    </tr>\n",
              "    <tr>\n",
              "      <th>7</th>\n",
              "      <td>7</td>\n",
              "      <td>124.477154</td>\n",
              "      <td>1.999610</td>\n",
              "      <td>0.264075</td>\n",
              "      <td>0.006245</td>\n",
              "    </tr>\n",
              "    <tr>\n",
              "      <th>8</th>\n",
              "      <td>8</td>\n",
              "      <td>149.176353</td>\n",
              "      <td>2.992438</td>\n",
              "      <td>0.496133</td>\n",
              "      <td>0.009800</td>\n",
              "    </tr>\n",
              "  </tbody>\n",
              "</table>\n",
              "</div>\n",
              "    <div class=\"colab-df-buttons\">\n",
              "\n",
              "  <div class=\"colab-df-container\">\n",
              "    <button class=\"colab-df-convert\" onclick=\"convertToInteractive('df-92aab0fc-4d7a-4812-8937-ca02834b2abc')\"\n",
              "            title=\"Convert this dataframe to an interactive table.\"\n",
              "            style=\"display:none;\">\n",
              "\n",
              "  <svg xmlns=\"http://www.w3.org/2000/svg\" height=\"24px\" viewBox=\"0 -960 960 960\">\n",
              "    <path d=\"M120-120v-720h720v720H120Zm60-500h600v-160H180v160Zm220 220h160v-160H400v160Zm0 220h160v-160H400v160ZM180-400h160v-160H180v160Zm440 0h160v-160H620v160ZM180-180h160v-160H180v160Zm440 0h160v-160H620v160Z\"/>\n",
              "  </svg>\n",
              "    </button>\n",
              "\n",
              "  <style>\n",
              "    .colab-df-container {\n",
              "      display:flex;\n",
              "      gap: 12px;\n",
              "    }\n",
              "\n",
              "    .colab-df-convert {\n",
              "      background-color: #E8F0FE;\n",
              "      border: none;\n",
              "      border-radius: 50%;\n",
              "      cursor: pointer;\n",
              "      display: none;\n",
              "      fill: #1967D2;\n",
              "      height: 32px;\n",
              "      padding: 0 0 0 0;\n",
              "      width: 32px;\n",
              "    }\n",
              "\n",
              "    .colab-df-convert:hover {\n",
              "      background-color: #E2EBFA;\n",
              "      box-shadow: 0px 1px 2px rgba(60, 64, 67, 0.3), 0px 1px 3px 1px rgba(60, 64, 67, 0.15);\n",
              "      fill: #174EA6;\n",
              "    }\n",
              "\n",
              "    .colab-df-buttons div {\n",
              "      margin-bottom: 4px;\n",
              "    }\n",
              "\n",
              "    [theme=dark] .colab-df-convert {\n",
              "      background-color: #3B4455;\n",
              "      fill: #D2E3FC;\n",
              "    }\n",
              "\n",
              "    [theme=dark] .colab-df-convert:hover {\n",
              "      background-color: #434B5C;\n",
              "      box-shadow: 0px 1px 3px 1px rgba(0, 0, 0, 0.15);\n",
              "      filter: drop-shadow(0px 1px 2px rgba(0, 0, 0, 0.3));\n",
              "      fill: #FFFFFF;\n",
              "    }\n",
              "  </style>\n",
              "\n",
              "    <script>\n",
              "      const buttonEl =\n",
              "        document.querySelector('#df-92aab0fc-4d7a-4812-8937-ca02834b2abc button.colab-df-convert');\n",
              "      buttonEl.style.display =\n",
              "        google.colab.kernel.accessAllowed ? 'block' : 'none';\n",
              "\n",
              "      async function convertToInteractive(key) {\n",
              "        const element = document.querySelector('#df-92aab0fc-4d7a-4812-8937-ca02834b2abc');\n",
              "        const dataTable =\n",
              "          await google.colab.kernel.invokeFunction('convertToInteractive',\n",
              "                                                    [key], {});\n",
              "        if (!dataTable) return;\n",
              "\n",
              "        const docLinkHtml = 'Like what you see? Visit the ' +\n",
              "          '<a target=\"_blank\" href=https://colab.research.google.com/notebooks/data_table.ipynb>data table notebook</a>'\n",
              "          + ' to learn more about interactive tables.';\n",
              "        element.innerHTML = '';\n",
              "        dataTable['output_type'] = 'display_data';\n",
              "        await google.colab.output.renderOutput(dataTable, element);\n",
              "        const docLink = document.createElement('div');\n",
              "        docLink.innerHTML = docLinkHtml;\n",
              "        element.appendChild(docLink);\n",
              "      }\n",
              "    </script>\n",
              "  </div>\n",
              "\n",
              "\n",
              "<div id=\"df-becc51cd-29aa-4659-bda8-fa42ffb41027\">\n",
              "  <button class=\"colab-df-quickchart\" onclick=\"quickchart('df-becc51cd-29aa-4659-bda8-fa42ffb41027')\"\n",
              "            title=\"Suggest charts\"\n",
              "            style=\"display:none;\">\n",
              "\n",
              "<svg xmlns=\"http://www.w3.org/2000/svg\" height=\"24px\"viewBox=\"0 0 24 24\"\n",
              "     width=\"24px\">\n",
              "    <g>\n",
              "        <path d=\"M19 3H5c-1.1 0-2 .9-2 2v14c0 1.1.9 2 2 2h14c1.1 0 2-.9 2-2V5c0-1.1-.9-2-2-2zM9 17H7v-7h2v7zm4 0h-2V7h2v10zm4 0h-2v-4h2v4z\"/>\n",
              "    </g>\n",
              "</svg>\n",
              "  </button>\n",
              "\n",
              "<style>\n",
              "  .colab-df-quickchart {\n",
              "      --bg-color: #E8F0FE;\n",
              "      --fill-color: #1967D2;\n",
              "      --hover-bg-color: #E2EBFA;\n",
              "      --hover-fill-color: #174EA6;\n",
              "      --disabled-fill-color: #AAA;\n",
              "      --disabled-bg-color: #DDD;\n",
              "  }\n",
              "\n",
              "  [theme=dark] .colab-df-quickchart {\n",
              "      --bg-color: #3B4455;\n",
              "      --fill-color: #D2E3FC;\n",
              "      --hover-bg-color: #434B5C;\n",
              "      --hover-fill-color: #FFFFFF;\n",
              "      --disabled-bg-color: #3B4455;\n",
              "      --disabled-fill-color: #666;\n",
              "  }\n",
              "\n",
              "  .colab-df-quickchart {\n",
              "    background-color: var(--bg-color);\n",
              "    border: none;\n",
              "    border-radius: 50%;\n",
              "    cursor: pointer;\n",
              "    display: none;\n",
              "    fill: var(--fill-color);\n",
              "    height: 32px;\n",
              "    padding: 0;\n",
              "    width: 32px;\n",
              "  }\n",
              "\n",
              "  .colab-df-quickchart:hover {\n",
              "    background-color: var(--hover-bg-color);\n",
              "    box-shadow: 0 1px 2px rgba(60, 64, 67, 0.3), 0 1px 3px 1px rgba(60, 64, 67, 0.15);\n",
              "    fill: var(--button-hover-fill-color);\n",
              "  }\n",
              "\n",
              "  .colab-df-quickchart-complete:disabled,\n",
              "  .colab-df-quickchart-complete:disabled:hover {\n",
              "    background-color: var(--disabled-bg-color);\n",
              "    fill: var(--disabled-fill-color);\n",
              "    box-shadow: none;\n",
              "  }\n",
              "\n",
              "  .colab-df-spinner {\n",
              "    border: 2px solid var(--fill-color);\n",
              "    border-color: transparent;\n",
              "    border-bottom-color: var(--fill-color);\n",
              "    animation:\n",
              "      spin 1s steps(1) infinite;\n",
              "  }\n",
              "\n",
              "  @keyframes spin {\n",
              "    0% {\n",
              "      border-color: transparent;\n",
              "      border-bottom-color: var(--fill-color);\n",
              "      border-left-color: var(--fill-color);\n",
              "    }\n",
              "    20% {\n",
              "      border-color: transparent;\n",
              "      border-left-color: var(--fill-color);\n",
              "      border-top-color: var(--fill-color);\n",
              "    }\n",
              "    30% {\n",
              "      border-color: transparent;\n",
              "      border-left-color: var(--fill-color);\n",
              "      border-top-color: var(--fill-color);\n",
              "      border-right-color: var(--fill-color);\n",
              "    }\n",
              "    40% {\n",
              "      border-color: transparent;\n",
              "      border-right-color: var(--fill-color);\n",
              "      border-top-color: var(--fill-color);\n",
              "    }\n",
              "    60% {\n",
              "      border-color: transparent;\n",
              "      border-right-color: var(--fill-color);\n",
              "    }\n",
              "    80% {\n",
              "      border-color: transparent;\n",
              "      border-right-color: var(--fill-color);\n",
              "      border-bottom-color: var(--fill-color);\n",
              "    }\n",
              "    90% {\n",
              "      border-color: transparent;\n",
              "      border-bottom-color: var(--fill-color);\n",
              "    }\n",
              "  }\n",
              "</style>\n",
              "\n",
              "  <script>\n",
              "    async function quickchart(key) {\n",
              "      const quickchartButtonEl =\n",
              "        document.querySelector('#' + key + ' button');\n",
              "      quickchartButtonEl.disabled = true;  // To prevent multiple clicks.\n",
              "      quickchartButtonEl.classList.add('colab-df-spinner');\n",
              "      try {\n",
              "        const charts = await google.colab.kernel.invokeFunction(\n",
              "            'suggestCharts', [key], {});\n",
              "      } catch (error) {\n",
              "        console.error('Error during call to suggestCharts:', error);\n",
              "      }\n",
              "      quickchartButtonEl.classList.remove('colab-df-spinner');\n",
              "      quickchartButtonEl.classList.add('colab-df-quickchart-complete');\n",
              "    }\n",
              "    (() => {\n",
              "      let quickchartButtonEl =\n",
              "        document.querySelector('#df-becc51cd-29aa-4659-bda8-fa42ffb41027 button');\n",
              "      quickchartButtonEl.style.display =\n",
              "        google.colab.kernel.accessAllowed ? 'block' : 'none';\n",
              "    })();\n",
              "  </script>\n",
              "</div>\n",
              "\n",
              "    </div>\n",
              "  </div>\n"
            ],
            "application/vnd.google.colaboratory.intrinsic+json": {
              "type": "dataframe",
              "variable_name": "resultado",
              "summary": "{\n  \"name\": \"resultado\",\n  \"rows\": 9,\n  \"fields\": [\n    {\n      \"column\": \"Index\",\n      \"properties\": {\n        \"dtype\": \"number\",\n        \"std\": 2,\n        \"min\": 0,\n        \"max\": 8,\n        \"num_unique_values\": 9,\n        \"samples\": [\n          7,\n          1,\n          5\n        ],\n        \"semantic_type\": \"\",\n        \"description\": \"\"\n      }\n    },\n    {\n      \"column\": \"Lambda\",\n      \"properties\": {\n        \"dtype\": \"number\",\n        \"std\": 8.417495311810274,\n        \"min\": 124.47715418371058,\n        \"max\": 149.9973135763541,\n        \"num_unique_values\": 9,\n        \"samples\": [\n          124.47715418371058,\n          149.9973135763541,\n          149.769561378362\n        ],\n        \"semantic_type\": \"\",\n        \"description\": \"\"\n      }\n    },\n    {\n      \"column\": \"Beta\",\n      \"properties\": {\n        \"dtype\": \"number\",\n        \"std\": 0.6799186369304717,\n        \"min\": 1.999610377173087,\n        \"max\": 4.030910538995465,\n        \"num_unique_values\": 9,\n        \"samples\": [\n          1.999610377173087,\n          3.820811624390177,\n          4.030910538995465\n        ],\n        \"semantic_type\": \"\",\n        \"description\": \"\"\n      }\n    },\n    {\n      \"column\": \"Theta\",\n      \"properties\": {\n        \"dtype\": \"number\",\n        \"std\": 0.26125002267827796,\n        \"min\": 0.264074500208725,\n        \"max\": 0.9918801885315348,\n        \"num_unique_values\": 9,\n        \"samples\": [\n          0.264074500208725,\n          0.9540168401388583,\n          0.987483414678934\n        ],\n        \"semantic_type\": \"\",\n        \"description\": \"\"\n      }\n    },\n    {\n      \"column\": \"Convergencia_Primeira_Etapa\",\n      \"properties\": {\n        \"dtype\": \"number\",\n        \"std\": 0.001987784401889797,\n        \"min\": 0.0062448978424072,\n        \"max\": 0.0136950016021728,\n        \"num_unique_values\": 9,\n        \"samples\": [\n          0.0062448978424072,\n          0.011207103729248,\n          0.0096805095672607\n        ],\n        \"semantic_type\": \"\",\n        \"description\": \"\"\n      }\n    }\n  ]\n}"
            }
          },
          "metadata": {},
          "execution_count": 368
        }
      ]
    },
    {
      "cell_type": "code",
      "source": [
        "resultado.describe()"
      ],
      "metadata": {
        "id": "vZ4odp_pHQml",
        "outputId": "2bca10c5-9402-4e05-e443-4e326a1f2419",
        "colab": {
          "base_uri": "https://localhost:8080/",
          "height": 300
        }
      },
      "execution_count": 369,
      "outputs": [
        {
          "output_type": "execute_result",
          "data": {
            "text/plain": [
              "          Index      Lambda      Beta     Theta  Convergencia_Primeira_Etapa\n",
              "count  9.000000    9.000000  9.000000  9.000000                     9.000000\n",
              "mean   4.000000  146.913373  3.593518  0.824344                     0.010050\n",
              "std    2.738613    8.417495  0.679919  0.261250                     0.001988\n",
              "min    0.000000  124.477154  1.999610  0.264075                     0.006245\n",
              "25%    2.000000  149.466119  3.708288  0.886015                     0.009480\n",
              "50%    4.000000  149.769561  3.820812  0.954017                     0.009800\n",
              "75%    6.000000  149.853125  4.015795  0.979311                     0.011207\n",
              "max    8.000000  149.997314  4.030911  0.991880                     0.013695"
            ],
            "text/html": [
              "\n",
              "  <div id=\"df-9af29d2e-8d83-4cf2-8299-fb542ff6b988\" class=\"colab-df-container\">\n",
              "    <div>\n",
              "<style scoped>\n",
              "    .dataframe tbody tr th:only-of-type {\n",
              "        vertical-align: middle;\n",
              "    }\n",
              "\n",
              "    .dataframe tbody tr th {\n",
              "        vertical-align: top;\n",
              "    }\n",
              "\n",
              "    .dataframe thead th {\n",
              "        text-align: right;\n",
              "    }\n",
              "</style>\n",
              "<table border=\"1\" class=\"dataframe\">\n",
              "  <thead>\n",
              "    <tr style=\"text-align: right;\">\n",
              "      <th></th>\n",
              "      <th>Index</th>\n",
              "      <th>Lambda</th>\n",
              "      <th>Beta</th>\n",
              "      <th>Theta</th>\n",
              "      <th>Convergencia_Primeira_Etapa</th>\n",
              "    </tr>\n",
              "  </thead>\n",
              "  <tbody>\n",
              "    <tr>\n",
              "      <th>count</th>\n",
              "      <td>9.000000</td>\n",
              "      <td>9.000000</td>\n",
              "      <td>9.000000</td>\n",
              "      <td>9.000000</td>\n",
              "      <td>9.000000</td>\n",
              "    </tr>\n",
              "    <tr>\n",
              "      <th>mean</th>\n",
              "      <td>4.000000</td>\n",
              "      <td>146.913373</td>\n",
              "      <td>3.593518</td>\n",
              "      <td>0.824344</td>\n",
              "      <td>0.010050</td>\n",
              "    </tr>\n",
              "    <tr>\n",
              "      <th>std</th>\n",
              "      <td>2.738613</td>\n",
              "      <td>8.417495</td>\n",
              "      <td>0.679919</td>\n",
              "      <td>0.261250</td>\n",
              "      <td>0.001988</td>\n",
              "    </tr>\n",
              "    <tr>\n",
              "      <th>min</th>\n",
              "      <td>0.000000</td>\n",
              "      <td>124.477154</td>\n",
              "      <td>1.999610</td>\n",
              "      <td>0.264075</td>\n",
              "      <td>0.006245</td>\n",
              "    </tr>\n",
              "    <tr>\n",
              "      <th>25%</th>\n",
              "      <td>2.000000</td>\n",
              "      <td>149.466119</td>\n",
              "      <td>3.708288</td>\n",
              "      <td>0.886015</td>\n",
              "      <td>0.009480</td>\n",
              "    </tr>\n",
              "    <tr>\n",
              "      <th>50%</th>\n",
              "      <td>4.000000</td>\n",
              "      <td>149.769561</td>\n",
              "      <td>3.820812</td>\n",
              "      <td>0.954017</td>\n",
              "      <td>0.009800</td>\n",
              "    </tr>\n",
              "    <tr>\n",
              "      <th>75%</th>\n",
              "      <td>6.000000</td>\n",
              "      <td>149.853125</td>\n",
              "      <td>4.015795</td>\n",
              "      <td>0.979311</td>\n",
              "      <td>0.011207</td>\n",
              "    </tr>\n",
              "    <tr>\n",
              "      <th>max</th>\n",
              "      <td>8.000000</td>\n",
              "      <td>149.997314</td>\n",
              "      <td>4.030911</td>\n",
              "      <td>0.991880</td>\n",
              "      <td>0.013695</td>\n",
              "    </tr>\n",
              "  </tbody>\n",
              "</table>\n",
              "</div>\n",
              "    <div class=\"colab-df-buttons\">\n",
              "\n",
              "  <div class=\"colab-df-container\">\n",
              "    <button class=\"colab-df-convert\" onclick=\"convertToInteractive('df-9af29d2e-8d83-4cf2-8299-fb542ff6b988')\"\n",
              "            title=\"Convert this dataframe to an interactive table.\"\n",
              "            style=\"display:none;\">\n",
              "\n",
              "  <svg xmlns=\"http://www.w3.org/2000/svg\" height=\"24px\" viewBox=\"0 -960 960 960\">\n",
              "    <path d=\"M120-120v-720h720v720H120Zm60-500h600v-160H180v160Zm220 220h160v-160H400v160Zm0 220h160v-160H400v160ZM180-400h160v-160H180v160Zm440 0h160v-160H620v160ZM180-180h160v-160H180v160Zm440 0h160v-160H620v160Z\"/>\n",
              "  </svg>\n",
              "    </button>\n",
              "\n",
              "  <style>\n",
              "    .colab-df-container {\n",
              "      display:flex;\n",
              "      gap: 12px;\n",
              "    }\n",
              "\n",
              "    .colab-df-convert {\n",
              "      background-color: #E8F0FE;\n",
              "      border: none;\n",
              "      border-radius: 50%;\n",
              "      cursor: pointer;\n",
              "      display: none;\n",
              "      fill: #1967D2;\n",
              "      height: 32px;\n",
              "      padding: 0 0 0 0;\n",
              "      width: 32px;\n",
              "    }\n",
              "\n",
              "    .colab-df-convert:hover {\n",
              "      background-color: #E2EBFA;\n",
              "      box-shadow: 0px 1px 2px rgba(60, 64, 67, 0.3), 0px 1px 3px 1px rgba(60, 64, 67, 0.15);\n",
              "      fill: #174EA6;\n",
              "    }\n",
              "\n",
              "    .colab-df-buttons div {\n",
              "      margin-bottom: 4px;\n",
              "    }\n",
              "\n",
              "    [theme=dark] .colab-df-convert {\n",
              "      background-color: #3B4455;\n",
              "      fill: #D2E3FC;\n",
              "    }\n",
              "\n",
              "    [theme=dark] .colab-df-convert:hover {\n",
              "      background-color: #434B5C;\n",
              "      box-shadow: 0px 1px 3px 1px rgba(0, 0, 0, 0.15);\n",
              "      filter: drop-shadow(0px 1px 2px rgba(0, 0, 0, 0.3));\n",
              "      fill: #FFFFFF;\n",
              "    }\n",
              "  </style>\n",
              "\n",
              "    <script>\n",
              "      const buttonEl =\n",
              "        document.querySelector('#df-9af29d2e-8d83-4cf2-8299-fb542ff6b988 button.colab-df-convert');\n",
              "      buttonEl.style.display =\n",
              "        google.colab.kernel.accessAllowed ? 'block' : 'none';\n",
              "\n",
              "      async function convertToInteractive(key) {\n",
              "        const element = document.querySelector('#df-9af29d2e-8d83-4cf2-8299-fb542ff6b988');\n",
              "        const dataTable =\n",
              "          await google.colab.kernel.invokeFunction('convertToInteractive',\n",
              "                                                    [key], {});\n",
              "        if (!dataTable) return;\n",
              "\n",
              "        const docLinkHtml = 'Like what you see? Visit the ' +\n",
              "          '<a target=\"_blank\" href=https://colab.research.google.com/notebooks/data_table.ipynb>data table notebook</a>'\n",
              "          + ' to learn more about interactive tables.';\n",
              "        element.innerHTML = '';\n",
              "        dataTable['output_type'] = 'display_data';\n",
              "        await google.colab.output.renderOutput(dataTable, element);\n",
              "        const docLink = document.createElement('div');\n",
              "        docLink.innerHTML = docLinkHtml;\n",
              "        element.appendChild(docLink);\n",
              "      }\n",
              "    </script>\n",
              "  </div>\n",
              "\n",
              "\n",
              "<div id=\"df-bafa5351-13d1-453f-87ea-24b88d3bafd0\">\n",
              "  <button class=\"colab-df-quickchart\" onclick=\"quickchart('df-bafa5351-13d1-453f-87ea-24b88d3bafd0')\"\n",
              "            title=\"Suggest charts\"\n",
              "            style=\"display:none;\">\n",
              "\n",
              "<svg xmlns=\"http://www.w3.org/2000/svg\" height=\"24px\"viewBox=\"0 0 24 24\"\n",
              "     width=\"24px\">\n",
              "    <g>\n",
              "        <path d=\"M19 3H5c-1.1 0-2 .9-2 2v14c0 1.1.9 2 2 2h14c1.1 0 2-.9 2-2V5c0-1.1-.9-2-2-2zM9 17H7v-7h2v7zm4 0h-2V7h2v10zm4 0h-2v-4h2v4z\"/>\n",
              "    </g>\n",
              "</svg>\n",
              "  </button>\n",
              "\n",
              "<style>\n",
              "  .colab-df-quickchart {\n",
              "      --bg-color: #E8F0FE;\n",
              "      --fill-color: #1967D2;\n",
              "      --hover-bg-color: #E2EBFA;\n",
              "      --hover-fill-color: #174EA6;\n",
              "      --disabled-fill-color: #AAA;\n",
              "      --disabled-bg-color: #DDD;\n",
              "  }\n",
              "\n",
              "  [theme=dark] .colab-df-quickchart {\n",
              "      --bg-color: #3B4455;\n",
              "      --fill-color: #D2E3FC;\n",
              "      --hover-bg-color: #434B5C;\n",
              "      --hover-fill-color: #FFFFFF;\n",
              "      --disabled-bg-color: #3B4455;\n",
              "      --disabled-fill-color: #666;\n",
              "  }\n",
              "\n",
              "  .colab-df-quickchart {\n",
              "    background-color: var(--bg-color);\n",
              "    border: none;\n",
              "    border-radius: 50%;\n",
              "    cursor: pointer;\n",
              "    display: none;\n",
              "    fill: var(--fill-color);\n",
              "    height: 32px;\n",
              "    padding: 0;\n",
              "    width: 32px;\n",
              "  }\n",
              "\n",
              "  .colab-df-quickchart:hover {\n",
              "    background-color: var(--hover-bg-color);\n",
              "    box-shadow: 0 1px 2px rgba(60, 64, 67, 0.3), 0 1px 3px 1px rgba(60, 64, 67, 0.15);\n",
              "    fill: var(--button-hover-fill-color);\n",
              "  }\n",
              "\n",
              "  .colab-df-quickchart-complete:disabled,\n",
              "  .colab-df-quickchart-complete:disabled:hover {\n",
              "    background-color: var(--disabled-bg-color);\n",
              "    fill: var(--disabled-fill-color);\n",
              "    box-shadow: none;\n",
              "  }\n",
              "\n",
              "  .colab-df-spinner {\n",
              "    border: 2px solid var(--fill-color);\n",
              "    border-color: transparent;\n",
              "    border-bottom-color: var(--fill-color);\n",
              "    animation:\n",
              "      spin 1s steps(1) infinite;\n",
              "  }\n",
              "\n",
              "  @keyframes spin {\n",
              "    0% {\n",
              "      border-color: transparent;\n",
              "      border-bottom-color: var(--fill-color);\n",
              "      border-left-color: var(--fill-color);\n",
              "    }\n",
              "    20% {\n",
              "      border-color: transparent;\n",
              "      border-left-color: var(--fill-color);\n",
              "      border-top-color: var(--fill-color);\n",
              "    }\n",
              "    30% {\n",
              "      border-color: transparent;\n",
              "      border-left-color: var(--fill-color);\n",
              "      border-top-color: var(--fill-color);\n",
              "      border-right-color: var(--fill-color);\n",
              "    }\n",
              "    40% {\n",
              "      border-color: transparent;\n",
              "      border-right-color: var(--fill-color);\n",
              "      border-top-color: var(--fill-color);\n",
              "    }\n",
              "    60% {\n",
              "      border-color: transparent;\n",
              "      border-right-color: var(--fill-color);\n",
              "    }\n",
              "    80% {\n",
              "      border-color: transparent;\n",
              "      border-right-color: var(--fill-color);\n",
              "      border-bottom-color: var(--fill-color);\n",
              "    }\n",
              "    90% {\n",
              "      border-color: transparent;\n",
              "      border-bottom-color: var(--fill-color);\n",
              "    }\n",
              "  }\n",
              "</style>\n",
              "\n",
              "  <script>\n",
              "    async function quickchart(key) {\n",
              "      const quickchartButtonEl =\n",
              "        document.querySelector('#' + key + ' button');\n",
              "      quickchartButtonEl.disabled = true;  // To prevent multiple clicks.\n",
              "      quickchartButtonEl.classList.add('colab-df-spinner');\n",
              "      try {\n",
              "        const charts = await google.colab.kernel.invokeFunction(\n",
              "            'suggestCharts', [key], {});\n",
              "      } catch (error) {\n",
              "        console.error('Error during call to suggestCharts:', error);\n",
              "      }\n",
              "      quickchartButtonEl.classList.remove('colab-df-spinner');\n",
              "      quickchartButtonEl.classList.add('colab-df-quickchart-complete');\n",
              "    }\n",
              "    (() => {\n",
              "      let quickchartButtonEl =\n",
              "        document.querySelector('#df-bafa5351-13d1-453f-87ea-24b88d3bafd0 button');\n",
              "      quickchartButtonEl.style.display =\n",
              "        google.colab.kernel.accessAllowed ? 'block' : 'none';\n",
              "    })();\n",
              "  </script>\n",
              "</div>\n",
              "\n",
              "    </div>\n",
              "  </div>\n"
            ],
            "application/vnd.google.colaboratory.intrinsic+json": {
              "type": "dataframe",
              "summary": "{\n  \"name\": \"resultado\",\n  \"rows\": 8,\n  \"fields\": [\n    {\n      \"column\": \"Index\",\n      \"properties\": {\n        \"dtype\": \"number\",\n        \"std\": 3.0435868056083315,\n        \"min\": 0.0,\n        \"max\": 9.0,\n        \"num_unique_values\": 7,\n        \"samples\": [\n          9.0,\n          4.0,\n          6.0\n        ],\n        \"semantic_type\": \"\",\n        \"description\": \"\"\n      }\n    },\n    {\n      \"column\": \"Lambda\",\n      \"properties\": {\n        \"dtype\": \"number\",\n        \"std\": 63.708768102133234,\n        \"min\": 8.417495311810274,\n        \"max\": 149.9973135763541,\n        \"num_unique_values\": 8,\n        \"samples\": [\n          146.91337321154063,\n          149.769561378362,\n          9.0\n        ],\n        \"semantic_type\": \"\",\n        \"description\": \"\"\n      }\n    },\n    {\n      \"column\": \"Beta\",\n      \"properties\": {\n        \"dtype\": \"number\",\n        \"std\": 2.394711231089367,\n        \"min\": 0.6799186369304717,\n        \"max\": 9.0,\n        \"num_unique_values\": 8,\n        \"samples\": [\n          3.5935178594263206,\n          3.820811624390177,\n          9.0\n        ],\n        \"semantic_type\": \"\",\n        \"description\": \"\"\n      }\n    },\n    {\n      \"column\": \"Theta\",\n      \"properties\": {\n        \"dtype\": \"number\",\n        \"std\": 2.93718092117213,\n        \"min\": 0.26125002267827796,\n        \"max\": 9.0,\n        \"num_unique_values\": 8,\n        \"samples\": [\n          0.8243436653813195,\n          0.9540168401388583,\n          9.0\n        ],\n        \"semantic_type\": \"\",\n        \"description\": \"\"\n      }\n    },\n    {\n      \"column\": \"Convergencia_Primeira_Etapa\",\n      \"properties\": {\n        \"dtype\": \"number\",\n        \"std\": 3.1788275180728154,\n        \"min\": 0.001987784401889797,\n        \"max\": 9.0,\n        \"num_unique_values\": 8,\n        \"samples\": [\n          0.010049978892008433,\n          0.0097999572753906,\n          9.0\n        ],\n        \"semantic_type\": \"\",\n        \"description\": \"\"\n      }\n    }\n  ]\n}"
            }
          },
          "metadata": {},
          "execution_count": 369
        }
      ]
    },
    {
      "cell_type": "code",
      "source": [
        "param_primeira_etapa = ['Lambda', 'Beta', 'Theta']\n",
        "Lambda = ['Lambda']\n",
        "Beta = ['Beta']\n",
        "Theta = ['Theta']"
      ],
      "metadata": {
        "id": "EYmhuBQPHfwf"
      },
      "execution_count": 370,
      "outputs": []
    },
    {
      "cell_type": "code",
      "source": [
        "# Cria uma grafico para os parametros Lambda, Beta e Theta\n",
        "# Tamanho da figura\n",
        "plt.figure(figsize=(9, 5))\n",
        "\n",
        "# Itera sobre as colunas e cria um boxplot para cada uma\n",
        "for i, coluna in enumerate(param_primeira_etapa):\n",
        "    plt.subplot(1, 3, i + 1)  # 1 linhas, 3 colunas de gráficos\n",
        "    plt.boxplot(resultado[coluna])\n",
        "    plt.title(coluna)\n",
        "    plt.ylabel('Valores')\n",
        "\n",
        "# Ajusta o layout\n",
        "plt.tight_layout()\n",
        "plt.show()"
      ],
      "metadata": {
        "id": "IucArnkQFWEH",
        "outputId": "294c5f0c-40df-43d4-a56e-843b791bdcc2",
        "colab": {
          "base_uri": "https://localhost:8080/",
          "height": 507
        }
      },
      "execution_count": 371,
      "outputs": [
        {
          "output_type": "display_data",
          "data": {
            "text/plain": [
              "<Figure size 900x500 with 3 Axes>"
            ],
            "image/png": "[encoded data removed]"
          },
          "metadata": {}
        }
      ]
    },
    {
      "cell_type": "code",
      "source": [
        "# Configurar a formatação da moeda\n",
        "def format_currency(value):\n",
        "    return locale.currency(value, grouping=True)"
      ],
      "metadata": {
        "id": "oRfF5D6xcmkJ"
      },
      "execution_count": 372,
      "outputs": []
    },
    {
      "cell_type": "code",
      "source": [
        "# Função objetivo para otimização da politica de manutenção\n",
        "# Numero de ciclos determinado pela solução\n",
        "# Solução com 24 valores reais\n",
        "# Solucao a ser avaliada X = [x1, ..., x24]\n",
        "def objective_st(x):\n",
        "\n",
        "    # Dicionario para severidades\n",
        "    dict_severidades = {1:0.2, 3:0.4, 5:0.5, 7:0.9}\n",
        "\n",
        "    results = [] # Lista para armazenar os resultados das funções objetivo\n",
        "\n",
        "    # No PSO, como cada particula é um vetor de dimenções definidas, é\n",
        "    # Necessario interar sobre o vetor de particulas\n",
        "    for particle in x:\n",
        "        T = [0]\n",
        "        s_row = []\n",
        "        cont = 0\n",
        "\n",
        "        for number in particle:\n",
        "            modulo = int(number) % 2\n",
        "            if modulo == 1:\n",
        "                inteiro = int(number)\n",
        "                s_row.append(dict_severidades[inteiro])  # Severidade\n",
        "                frac = number - inteiro  # Tempo\n",
        "                t = (cont + frac) * 30\n",
        "                T.append(int(t))\n",
        "            cont += 1\n",
        "\n",
        "    s = []\n",
        "    for row in range(m):\n",
        "        s.append(s_row)\n",
        "\n",
        "    # A partir da solução define o número de ciclos\n",
        "    ck = len(T) - 1\n",
        "\n",
        "    print(\"\")\n",
        "    print(\"=========================================================================\")\n",
        "    print(\"\")\n",
        "    print('Número de ciclos de manutenção:', ck, m)\n",
        "    print('Tempos para manutenções preventivas:', T)\n",
        "    print('Severidade para cada subsistema:', s[0])\n",
        "    print(\"Número de Sisemas:\", m)\n",
        "\n",
        "    if ck == 0:\n",
        "        return MAX_VALUE_CUSTO\n",
        "\n",
        "    # O modelo já está ajustado\n",
        "    # Utilizado para avaliar a solução candidata\n",
        "\n",
        "    # Cria fator de meloria a partir da solução\n",
        "    fact = execute_function(fator_melhoria, ck, m, s, theta)\n",
        "    fator = [last_value_fator_ajuste] + list(fact[0])\n",
        "\n",
        "    print('Fator: ', fator)\n",
        "\n",
        "    # Numero esperado de falhas (NEF) em cada ciclo\n",
        "    termos_somatorio = [((1/(lamb**beta)) * (T[1]**beta))]\n",
        "    numero_medio_falhas = [0, ((1/(lamb**beta)) * (T[1]**beta))]\n",
        "\n",
        "    for i in range(ck-1):\n",
        "        termo = (((T[i+2]-fator[i]*T[i+1])**beta) - (((1-fator[i])*T[i+1])**beta)) * (1/(lamb**beta))\n",
        "        termos_somatorio.append(termo)\n",
        "        numero_medio_falhas.append(sum(termos_somatorio))\n",
        "\n",
        "    # Número médio de falhas até o final do período: 2 anos\n",
        "    final = DIAS_OBSERVADOS\n",
        "    termo = (((final-fator[ck-1]*T[ck])**beta) - (((1-fator[ck-1])*T[ck])**beta)) * (1/(lamb**beta))\n",
        "    termos_somatorio.append(termo)\n",
        "    numero_medio_falhas.append(sum(termos_somatorio))\n",
        "\n",
        "    mi = numero_medio_falhas\n",
        "\n",
        "    print('Media de falhas: ', mi)\n",
        "\n",
        "    Ctotal =  []\n",
        "\n",
        "    for i in range(ck):\n",
        "        cmp = custo_mp(s[0][i], CMP)\n",
        "        Ctotal.append((cmp + (mi[i+1] - mi[i])*CMC)/(T[i+1]-T[i]))\n",
        "\n",
        "    cmp = custo_mp(s[0][ck-1], CMP)\n",
        "    Ctotal.append((cmp + (mi[ck+1] - mi[ck])*CMC)/(final-T[ck]))\n",
        "\n",
        "    # Custo Total\n",
        "    Custo = np.sum(Ctotal)\n",
        "    results.append(Custo) # Adicione o valor da função objetivo à lista de resultados\n",
        "    print('Custo = ', Custo)\n",
        "\n",
        "    # Retorne os resultados da função objetivo como um array\n",
        "    return np.array(results)"
      ],
      "metadata": {
        "id": "-JuqM09rWWBJ"
      },
      "execution_count": 373,
      "outputs": []
    },
    {
      "cell_type": "code",
      "source": [
        "num_particles = 100\n",
        "max_iterations = 100\n",
        "dimensions = 24\n",
        "options = {'c1': 0.5, 'c2': 0.3, 'w': 0.9}\n",
        "\n",
        "min_bound = np.array([0.0] * dimensions)   # Limite inferior dos valores em x\n",
        "max_bound = np.array([1.3] * dimensions)  # Limite superior dos valores em x\n",
        "bounds = (min_bound, max_bound)\n",
        "\n",
        "# Registre o tempo de início de convergência para a segunda etapa\n",
        "start_time_second_stage = time.time()\n",
        "\n",
        "optimizer = GlobalBestPSO(n_particles=num_particles, dimensions=dimensions, options=options, bounds=bounds)\n",
        "\n",
        "# Inicializar current_cost e pbest_cost com valores infinitos\n",
        "optimizer.swarm.current_cost = np.full(optimizer.swarm.position.shape[0], np.inf)\n",
        "optimizer.swarm.pbest_cost = np.full(optimizer.swarm.position.shape[0], np.inf)\n",
        "best_cost, best_position = optimizer.optimize(objective_st, iters=max_iterations)\n",
        "\n",
        "# Registre o tempo de término\n",
        "end_time_second_stage = time.time()\n",
        "\n",
        "# Agora, você pode calcular os outros valores relacionados à melhor solução\n",
        "# Primeiro, você precisa transformar a melhor posição em uma lista (se necessário)\n",
        "best_position_list = best_position.tolist()\n",
        "\n",
        "pbest_cost = optimizer.swarm.pbest_cost\n",
        "\n",
        "gbest_cost = optimizer.cost_history[-1]  # O último valor registrado no histórico de custos\n",
        "\n",
        "best_positions = []  # Lista para armazenar todas as melhores posições\n",
        "\n",
        "# Loop de iterações do PSO\n",
        "for i in range(max_iterations):\n",
        "    best_cost, best_position = optimizer.optimize(objective_st, iters=1)\n",
        "    pbest_cost = optimizer.swarm.pbest_cost\n",
        "    best_positions.append(best_position)\n",
        "\n",
        "# Converter a lista de melhores posições em um array numpy para facilitar a manipulação\n",
        "best_positions = np.array(best_positions)"
      ],
      "metadata": {
        "colab": {
          "base_uri": "https://localhost:8080/"
        },
        "id": "cePW2Ji6gjmC",
        "outputId": "fe96796a-4cc2-4f43-f25e-ea633b539973"
      },
      "execution_count": 374,
      "outputs": [
        {
          "output_type": "stream",
          "name": "stderr",
          "text": [
            "2024-03-15 18:27:45,816 - pyswarms.single.global_best - INFO - Optimize for 100 iters with {'c1': 0.5, 'c2': 0.3, 'w': 0.9}\n",
            "pyswarms.single.global_best:  14%|█▍        |14/100, best_cost=3.21e+3"
          ]
        },
        {
          "output_type": "stream",
          "name": "stdout",
          "text": [
            "\n",
            "=========================================================================\n",
            "\n",
            "Número de ciclos de manutenção: 7 5\n",
            "Tempos para manutenções preventivas: [0, 95, 155, 218, 397, 450, 510, 576]\n",
            "Severidade para cada subsistema: [0.2, 0.2, 0.2, 0.2, 0.2, 0.2, 0.2]\n",
            "Número de Sisemas: 5\n",
            "Fator:  [0.09446248159231474, 0.09446248159231474, 0.09446248159231474, 0.09446248159231474, 0.09446248159231474, 0.09446248159231474, 0.09446248159231474, 0.09446248159231474]\n",
            "Media de falhas:  [0, 0.25915091972333637, 1.0047030085756863, 2.698744891535935, 16.339016652884432, 23.417237746051004, 33.701086865837965, 48.1577925792418, 54.2593150208042]\n",
            "Custo =  13728.99901556324\n",
            "\n",
            "=========================================================================\n",
            "\n",
            "Número de ciclos de manutenção: 6 5\n",
            "Tempos para manutenções preventivas: [0, 95, 127, 152, 335, 420, 488]\n",
            "Severidade para cada subsistema: [0.2, 0.2, 0.2, 0.2, 0.2, 0.2]\n",
            "Número de Sisemas: 5\n",
            "Fator:  [0.09446248159231474, 0.09446248159231474, 0.09446248159231474, 0.09446248159231474, 0.09446248159231474, 0.09446248159231474, 0.09446248159231474]\n",
            "Media de falhas:  [0, 0.25915091972333637, 0.5627153653865731, 0.9306721997602653, 10.017642619360608, 19.169873274592497, 29.634558044230396, 54.53919861902864]\n",
            "Custo =  8653.030862169406\n",
            "\n",
            "=========================================================================\n",
            "\n",
            "Número de ciclos de manutenção: 6 5\n",
            "Tempos para manutenções preventivas: [0, 2, 95, 184, 246, 305, 368]\n",
            "Severidade para cada subsistema: [0.2, 0.2, 0.2, 0.2, 0.2, 0.2]\n",
            "Número de Sisemas: 5\n",
            "Fator:  [0.09446248159231474, 0.09446248159231474, 0.09446248159231474, 0.09446248159231474, 0.09446248159231474, 0.09446248159231474, 0.09446248159231474]\n",
            "Media de falhas:  [0, 2.48971947559441e-06, 0.2576124019969889, 1.6782204924274478, 3.8738459174605184, 7.260021437542602, 12.625514651519463, 55.4000627735266]\n",
            "Custo =  6866.683315065877\n",
            "\n",
            "=========================================================================\n",
            "\n",
            "Número de ciclos de manutenção: 3 5\n",
            "Tempos para manutenções preventivas: [0, 93, 188, 661]\n",
            "Severidade para cada subsistema: [0.2, 0.2, 0.2]\n",
            "Número de Sisemas: 5\n",
            "Fator:  [0.09446248159231474, 0.09446248159231474, 0.09446248159231474, 0.09446248159231474]\n",
            "Media de falhas:  [0, 0.24316477246078586, 1.7939622028605653, 79.59987468994076, 62.01799108016694]\n",
            "Custo =  7088.914275214003\n",
            "\n",
            "=========================================================================\n",
            "\n",
            "Número de ciclos de manutenção: 12 5\n",
            "Tempos para manutenções preventivas: [0, 7, 38, 120, 187, 335, 368, 395, 452, 512, 570, 631, 665]\n",
            "Severidade para cada subsistema: [0.2, 0.2, 0.2, 0.2, 0.2, 0.2, 0.2, 0.2, 0.2, 0.2, 0.2, 0.2]\n",
            "Número de Sisemas: 5\n",
            "Fator:  [0.09446248159231474, 0.09446248159231474, 0.09446248159231474, 0.09446248159231474, 0.09446248159231474, 0.09446248159231474, 0.09446248159231474, 0.09446248159231474, 0.09446248159231474, 0.09446248159231474, 0.09446248159231474, 0.09446248159231474, 0.09446248159231474]\n",
            "Media de falhas:  [0, 0.00010574029634208668, 0.01587348481716944, 0.47955421400784765, 1.7229697735108045, 9.8331475442972, 12.86160571569417, 15.770570788391181, 23.392260346874817, 33.76097340883133, 46.349552142465235, 62.63742657490897, 73.14140668870265, 54.29756140950687]\n",
            "Custo =  25743.56006752346\n",
            "\n",
            "=========================================================================\n",
            "\n",
            "Número de ciclos de manutenção: 7 5\n",
            "Tempos para manutenções preventivas: [0, 33, 122, 335, 392, 515, 574, 665]\n",
            "Severidade para cada subsistema: [0.2, 0.2, 0.2, 0.2, 0.2, 0.2, 0.2]\n",
            "Número de Sisemas: 5\n",
            "Fator:  [0.09446248159231474, 0.09446248159231474, 0.09446248159231474, 0.09446248159231474, 0.09446248159231474, 0.09446248159231474, 0.09446248159231474, 0.09446248159231474]\n",
            "Media de falhas:  [0, 0.010949546173015112, 0.5098058711544378, 10.239098024707141, 15.877105295336108, 35.096407796479426, 48.06948124704742, 74.07365720293936, 55.22981192374358]\n",
            "Custo =  16703.862839485315\n",
            "\n",
            "=========================================================================\n",
            "\n",
            "Número de ciclos de manutenção: 7 5\n",
            "Tempos para manutenções preventivas: [0, 2, 244, 271, 335, 367, 570, 665]\n",
            "Severidade para cada subsistema: [0.2, 0.2, 0.2, 0.2, 0.2, 0.2, 0.2]\n",
            "Número de Sisemas: 5\n",
            "Fator:  [0.09446248159231474, 0.09446248159231474, 0.09446248159231474, 0.09446248159231474, 0.09446248159231474, 0.09446248159231474, 0.09446248159231474, 0.09446248159231474]\n",
            "Media de falhas:  [0, 2.48971947559441e-06, 4.3495777782468705, 5.684276770531321, 10.122238409635731, 13.049640071997503, 47.829200643040934, 74.82694981485177, 55.983104535656]\n",
            "Custo =  15781.011279398987\n",
            "\n",
            "=========================================================================\n",
            "\n",
            "Número de ciclos de manutenção: 4 5\n",
            "Tempos para manutenções preventivas: [0, 31, 455, 637, 662]\n",
            "Severidade para cada subsistema: [0.2, 0.2, 0.2, 0.2]\n",
            "Número de Sisemas: 5\n",
            "Fator:  [0.09446248159231474, 0.09446248159231474, 0.09446248159231474, 0.09446248159231474, 0.09446248159231474]\n",
            "Media de falhas:  [0, 0.009081230428447565, 27.600544084150513, 69.17570378483498, 76.92266251805174, 59.026587428106666]\n",
            "Custo =  13512.866250410578\n",
            "\n",
            "=========================================================================\n",
            "\n",
            "Número de ciclos de manutenção: 6 5\n",
            "Tempos para manutenções preventivas: [0, 60, 91, 277, 302, 367, 691]\n",
            "Severidade para cada subsistema: [0.2, 0.2, 0.2, 0.2, 0.2, 0.2]\n",
            "Número de Sisemas: 5\n",
            "Fator:  [0.09446248159231474, 0.09446248159231474, 0.09446248159231474, 0.09446248159231474, 0.09446248159231474, 0.09446248159231474, 0.09446248159231474]\n",
            "Media de falhas:  [0, 0.06551560813556095, 0.20479489509430418, 5.834275224652084, 7.391441226016828, 12.867343309208508, 86.09581989073132, 58.70655742045541]\n",
            "Custo =  10844.218808864644\n",
            "\n",
            "=========================================================================\n",
            "\n",
            "Número de ciclos de manutenção: 4 5\n",
            "Tempos para manutenções preventivas: [0, 7, 60, 94, 514]\n",
            "Severidade para cada subsistema: [0.2, 0.2, 0.2, 0.2]\n",
            "Número de Sisemas: 5\n",
            "Fator:  [0.09446248159231474, 0.09446248159231474, 0.09446248159231474, 0.09446248159231474, 0.09446248159231474]\n",
            "Media de falhas:  [0, 0.00010574029634208668, 0.06340579916017014, 0.22316030087967648, 38.5028300674403, 58.405413924709784]\n",
            "Custo =  5337.424975904894\n",
            "\n",
            "=========================================================================\n",
            "\n",
            "Número de ciclos de manutenção: 8 5\n",
            "Tempos para manutenções preventivas: [0, 33, 97, 153, 180, 301, 368, 577, 638]\n",
            "Severidade para cada subsistema: [0.2, 0.2, 0.2, 0.2, 0.2, 0.2, 0.2, 0.2]\n",
            "Número de Sisemas: 5\n",
            "Fator:  [0.09446248159231474, 0.09446248159231474, 0.09446248159231474, 0.09446248159231474, 0.09446248159231474, 0.09446248159231474, 0.09446248159231474, 0.09446248159231474, 0.09446248159231474]\n",
            "Media de falhas:  [0, 0.010949546173015112, 0.25295003133176575, 0.9446581860515908, 1.5086987917414612, 7.0714425348110375, 12.720600074741672, 49.19985361716272, 65.86580834974589, 55.2745814903717]\n",
            "Custo =  13649.473942384575\n",
            "\n",
            "=========================================================================\n",
            "\n",
            "Número de ciclos de manutenção: 8 5\n",
            "Tempos para manutenções preventivas: [0, 60, 97, 218, 243, 307, 424, 458, 572]\n",
            "Severidade para cada subsistema: [0.2, 0.2, 0.2, 0.2, 0.2, 0.2, 0.2, 0.2]\n",
            "Número de Sisemas: 5\n",
            "Fator:  [0.09446248159231474, 0.09446248159231474, 0.09446248159231474, 0.09446248159231474, 0.09446248159231474, 0.09446248159231474, 0.09446248159231474, 0.09446248159231474, 0.09446248159231474]\n",
            "Media de falhas:  [0, 0.06551560813556095, 0.24717880757225205, 2.778861389614825, 3.770390630436258, 7.440188548619441, 19.427293855776803, 24.320465462880605, 47.0993442199131, 54.17517021486638]\n",
            "Custo =  12722.356325518896\n",
            "\n",
            "=========================================================================\n",
            "\n",
            "Número de ciclos de manutenção: 3 5\n",
            "Tempos para manutenções preventivas: [0, 61, 93, 301]\n",
            "Severidade para cada subsistema: [0.2, 0.2, 0.2]\n",
            "Número de Sisemas: 5\n",
            "Fator:  [0.09446248159231474, 0.09446248159231474, 0.09446248159231474, 0.09446248159231474]\n",
            "Media de falhas:  [0, 0.06883768377232906, 0.218490236825221, 7.516037165393766, 57.12272379060619]\n",
            "Custo =  3213.5633339129918\n",
            "\n",
            "=========================================================================\n",
            "\n",
            "Número de ciclos de manutenção: 4 5\n",
            "Tempos para manutenções preventivas: [0, 62, 360, 576, 631]\n",
            "Severidade para cada subsistema: [0.2, 0.2, 0.2, 0.2]\n",
            "Número de Sisemas: 5\n",
            "Fator:  [0.09446248159231474, 0.09446248159231474, 0.09446248159231474, 0.09446248159231474, 0.09446248159231474]\n",
            "Media de falhas:  [0, 0.07227005969223721, 13.310801261554001, 50.43122708492682, 65.24459547268314, 56.69269617578326]\n",
            "Custo =  11459.762650556744\n",
            "\n",
            "=========================================================================\n",
            "\n",
            "Número de ciclos de manutenção: 8 5\n",
            "Tempos para manutenções preventivas: [0, 38, 63, 153, 366, 398, 422, 517, 637]\n",
            "Severidade para cada subsistema: [0.2, 0.2, 0.2, 0.2, 0.2, 0.2, 0.2, 0.2]\n",
            "Número de Sisemas: 5\n",
            "Fator:  [0.09446248159231474, 0.09446248159231474, 0.09446248159231474, 0.09446248159231474, 0.09446248159231474, 0.09446248159231474, 0.09446248159231474, 0.09446248159231474, 0.09446248159231474]\n",
            "Media de falhas:  [0, 0.01670097372294326, 0.06789849598310985, 0.96948758564272, 13.170702260336714, 16.632716158011725, 19.61335443566577, 35.35767881091297, 65.3723531661636, 55.07494915806339]\n",
            "Custo =  15238.679804353822\n"
          ]
        },
        {
          "output_type": "stream",
          "name": "stderr",
          "text": [
            "pyswarms.single.global_best:  31%|███       |31/100, best_cost=3.21e+3"
          ]
        },
        {
          "output_type": "stream",
          "name": "stdout",
          "text": [
            "\n",
            "=========================================================================\n",
            "\n",
            "Número de ciclos de manutenção: 5 5\n",
            "Tempos para manutenções preventivas: [0, 64, 150, 367, 573, 638]\n",
            "Severidade para cada subsistema: [0.2, 0.2, 0.2, 0.2, 0.2]\n",
            "Número de Sisemas: 5\n",
            "Fator:  [0.09446248159231474, 0.09446248159231474, 0.09446248159231474, 0.09446248159231474, 0.09446248159231474, 0.09446248159231474]\n",
            "Media de falhas:  [0, 0.0794728898364077, 0.9192765479057408, 13.30917557975916, 48.86056243081643, 66.51823796526882, 55.927011105894636]\n",
            "Custo =  11917.406129874289\n",
            "\n",
            "=========================================================================\n",
            "\n",
            "Número de ciclos de manutenção: 3 5\n",
            "Tempos para manutenções preventivas: [0, 63, 361, 513]\n",
            "Severidade para cada subsistema: [0.2, 0.2, 0.2]\n",
            "Número de Sisemas: 5\n",
            "Fator:  [0.09446248159231474, 0.09446248159231474, 0.09446248159231474, 0.09446248159231474]\n",
            "Media de falhas:  [0, 0.07581453031373277, 13.413678092415617, 35.74743349668159, 55.850642014993795]\n",
            "Custo =  6434.083345868426\n",
            "\n",
            "=========================================================================\n",
            "\n",
            "Número de ciclos de manutenção: 6 5\n",
            "Tempos para manutenções preventivas: [0, 63, 90, 215, 244, 274, 516]\n",
            "Severidade para cada subsistema: [0.2, 0.2, 0.2, 0.2, 0.2, 0.2]\n",
            "Número de Sisemas: 5\n",
            "Fator:  [0.09446248159231474, 0.09446248159231474, 0.09446248159231474, 0.09446248159231474, 0.09446248159231474, 0.09446248159231474, 0.09446248159231474]\n",
            "Media de falhas:  [0, 0.07581453031373277, 0.19910735993183248, 2.681253563028403, 3.8240903371175277, 5.326412608339858, 35.89032562663296, 55.389646288049576]\n",
            "Custo =  7392.693485958198\n",
            "\n",
            "=========================================================================\n",
            "\n",
            "Número de ciclos de manutenção: 9 5\n",
            "Tempos para manutenções preventivas: [0, 5, 62, 98, 247, 275, 301, 454, 514, 577]\n",
            "Severidade para cada subsistema: [0.2, 0.2, 0.2, 0.2, 0.2, 0.2, 0.2, 0.2, 0.2]\n",
            "Número de Sisemas: 5\n",
            "Fator:  [0.09446248159231474, 0.09446248159231474, 0.09446248159231474, 0.09446248159231474, 0.09446248159231474, 0.09446248159231474, 0.09446248159231474, 0.09446248159231474, 0.09446248159231474, 0.09446248159231474]\n",
            "Media de falhas:  [0, 3.8633261907778527e-05, 0.0706449718442115, 0.25346460641193913, 4.075696808029237, 5.497995232118683, 7.101532811452894, 24.06296517404637, 34.51689010952544, 48.432672740453825, 54.28874191100086]\n",
            "Custo =  14393.072666832826\n",
            "\n",
            "=========================================================================\n",
            "\n",
            "Número de ciclos de manutenção: 4 5\n",
            "Tempos para manutenções preventivas: [0, 63, 245, 367, 577]\n",
            "Severidade para cada subsistema: [0.2, 0.2, 0.2, 0.2]\n",
            "Número de Sisemas: 5\n",
            "Fator:  [0.09446248159231474, 0.09446248159231474, 0.09446248159231474, 0.09446248159231474, 0.09446248159231474]\n",
            "Media de falhas:  [0, 0.07581453031373277, 4.119738735383087, 13.010174484031594, 49.60407650543796, 55.460145675985]\n",
            "Custo =  8033.062404662676\n",
            "\n",
            "=========================================================================\n",
            "\n",
            "Número de ciclos de manutenção: 2 5\n",
            "Tempos para manutenções preventivas: [0, 63, 392]\n",
            "Severidade para cada subsistema: [0.2, 0.2]\n",
            "Número de Sisemas: 5\n",
            "Fator:  [0.09446248159231474, 0.09446248159231474, 0.09446248159231474]\n",
            "Media de falhas:  [0, 0.07581453031373277, 17.226445883895572, 57.05140322756041]\n",
            "Custo =  3719.4273172275766\n",
            "\n",
            "=========================================================================\n",
            "\n",
            "Número de ciclos de manutenção: 4 5\n",
            "Tempos para manutenções preventivas: [0, 2, 36, 64, 397]\n",
            "Severidade para cada subsistema: [0.2, 0.2, 0.2, 0.2]\n",
            "Número de Sisemas: 5\n",
            "Fator:  [0.09446248159231474, 0.09446248159231474, 0.09446248159231474, 0.09446248159231474, 0.09446248159231474]\n",
            "Media de falhas:  [0, 2.48971947559441e-06, 0.013984848830971647, 0.070921870767778, 17.881447722189936, 57.0555054538076]\n",
            "Custo =  4879.71040738031\n",
            "\n",
            "=========================================================================\n",
            "\n",
            "Número de ciclos de manutenção: 3 5\n",
            "Tempos para manutenções preventivas: [0, 64, 364, 396]\n",
            "Severidade para cada subsistema: [0.2, 0.2, 0.2]\n",
            "Número de Sisemas: 5\n",
            "Fator:  [0.09446248159231474, 0.09446248159231474, 0.09446248159231474, 0.09446248159231474]\n",
            "Media de falhas:  [0, 0.0794728898364077, 13.745304199383014, 17.17147896730075, 56.476745375551445]\n",
            "Custo =  5308.251152983199\n",
            "\n",
            "=========================================================================\n",
            "\n",
            "Número de ciclos de manutenção: 3 5\n",
            "Tempos para manutenções preventivas: [0, 64, 94, 394]\n",
            "Severidade para cada subsistema: [0.2, 0.2, 0.2]\n",
            "Número de Sisemas: 5\n",
            "Fator:  [0.09446248159231474, 0.09446248159231474, 0.09446248159231474, 0.09446248159231474]\n",
            "Media de falhas:  [0, 0.0794728898364077, 0.22619902644208156, 17.123072107034925, 56.68921010462003]\n",
            "Custo =  3932.1547179288737\n",
            "\n",
            "=========================================================================\n",
            "\n",
            "Número de ciclos de manutenção: 5 5\n",
            "Tempos para manutenções preventivas: [0, 63, 93, 304, 420, 540]\n",
            "Severidade para cada subsistema: [0.2, 0.2, 0.2, 0.2, 0.2]\n",
            "Número de Sisemas: 5\n",
            "Fator:  [0.09446248159231474, 0.09446248159231474, 0.09446248159231474, 0.09446248159231474, 0.09446248159231474, 0.09446248159231474]\n",
            "Media de falhas:  [0, 0.07581453031373277, 0.2189840939527784, 7.748632363405391, 19.408240236429236, 40.33729493698339, 54.78432593483111]\n",
            "Custo =  8535.64916515158\n",
            "\n",
            "=========================================================================\n",
            "\n",
            "Número de ciclos de manutenção: 6 5\n",
            "Tempos para manutenções preventivas: [0, 7, 31, 62, 214, 363, 638]\n",
            "Severidade para cada subsistema: [0.2, 0.2, 0.2, 0.2, 0.2, 0.2]\n",
            "Número de Sisemas: 5\n",
            "Fator:  [0.09446248159231474, 0.09446248159231474, 0.09446248159231474, 0.09446248159231474, 0.09446248159231474, 0.09446248159231474, 0.09446248159231474]\n",
            "Media de falhas:  [0, 0.00010574029634208668, 0.008540976190030785, 0.0643215073525474, 2.7201458204291638, 12.589213872906205, 67.53752867730196, 56.946301817927775]\n",
            "Custo =  8880.821316799913\n",
            "\n",
            "=========================================================================\n",
            "\n",
            "Número de ciclos de manutenção: 5 5\n",
            "Tempos para manutenções preventivas: [0, 61, 213, 245, 307, 572]\n",
            "Severidade para cada subsistema: [0.2, 0.2, 0.2, 0.2, 0.2]\n",
            "Número de Sisemas: 5\n",
            "Fator:  [0.09446248159231474, 0.09446248159231474, 0.09446248159231474, 0.09446248159231474, 0.09446248159231474, 0.09446248159231474]\n",
            "Media de falhas:  [0, 0.06883768377232906, 2.692090589218116, 3.949858028535359, 7.526528309128858, 48.84414885066308, 55.91997484561636]\n",
            "Custo =  8079.7357760991\n",
            "\n",
            "=========================================================================\n",
            "\n",
            "Número de ciclos de manutenção: 2 5\n",
            "Tempos para manutenções preventivas: [0, 60, 577]\n",
            "Severidade para cada subsistema: [0.2, 0.2]\n",
            "Número de Sisemas: 5\n",
            "Fator:  [0.09446248159231474, 0.09446248159231474, 0.09446248159231474]\n",
            "Media de falhas:  [0, 0.06551560813556095, 55.6272828137246, 61.483351984271636]\n",
            "Custo =  5571.756311014393\n",
            "\n",
            "=========================================================================\n",
            "\n",
            "Número de ciclos de manutenção: 5 5\n",
            "Tempos para manutenções preventivas: [0, 62, 305, 366, 451, 572]\n",
            "Severidade para cada subsistema: [0.2, 0.2, 0.2, 0.2, 0.2]\n",
            "Número de Sisemas: 5\n",
            "Fator:  [0.09446248159231474, 0.09446248159231474, 0.09446248159231474, 0.09446248159231474, 0.09446248159231474, 0.09446248159231474]\n",
            "Media de falhas:  [0, 0.07227005969223721, 8.040019331246071, 13.200591069386949, 23.884852853041732, 47.78945875659898, 54.86528475155226]\n",
            "Custo =  10602.536355942448\n",
            "\n",
            "=========================================================================\n",
            "\n",
            "Número de ciclos de manutenção: 3 5\n",
            "Tempos para manutenções preventivas: [0, 63, 514, 630]\n",
            "Severidade para cada subsistema: [0.2, 0.2, 0.2]\n",
            "Número de Sisemas: 5\n",
            "Fator:  [0.09446248159231474, 0.09446248159231474, 0.09446248159231474, 0.09446248159231474]\n",
            "Media de falhas:  [0, 0.07581453031373277, 39.15689491409991, 67.65124988862749, 59.38737488575443]\n",
            "Custo =  9121.172985120485\n",
            "\n",
            "=========================================================================\n",
            "\n",
            "Número de ciclos de manutenção: 7 5\n",
            "Tempos para manutenções preventivas: [0, 2, 65, 91, 246, 302, 518, 635]\n",
            "Severidade para cada subsistema: [0.2, 0.2, 0.2, 0.2, 0.2, 0.2, 0.2]\n",
            "Número de Sisemas: 5\n",
            "Fator:  [0.09446248159231474, 0.09446248159231474, 0.09446248159231474, 0.09446248159231474, 0.09446248159231474, 0.09446248159231474, 0.09446248159231474, 0.09446248159231474]\n",
            "Media de falhas:  [0, 2.48971947559441e-06, 0.08252561489124294, 0.20553269278972203, 4.052626849766511, 7.227400460065985, 36.10394998485547, 65.29682692655848, 55.58457303234921]\n",
            "Custo =  12350.201916614933\n",
            "\n",
            "=========================================================================\n",
            "\n",
            "Número de ciclos de manutenção: 6 5\n",
            "Tempos para manutenções preventivas: [0, 2, 66, 92, 186, 510, 632]\n",
            "Severidade para cada subsistema: [0.2, 0.2, 0.2, 0.2, 0.2, 0.2]\n",
            "Número de Sisemas: 5\n",
            "Fator:  [0.09446248159231474, 0.09446248159231474, 0.09446248159231474, 0.09446248159231474, 0.09446248159231474, 0.09446248159231474, 0.09446248159231474]\n",
            "Media de falhas:  [0, 2.48971947559441e-06, 0.08639480226154618, 0.21247631265517292, 1.7145153141940346, 35.92258767267622, 65.83296508592903, 56.99221706450989]\n",
            "Custo =  10827.522341913935\n",
            "\n",
            "=========================================================================\n",
            "\n",
            "Número de ciclos de manutenção: 6 5\n",
            "Tempos para manutenções preventivas: [0, 30, 67, 92, 301, 394, 457]\n",
            "Severidade para cada subsistema: [0.2, 0.2, 0.2, 0.2, 0.2, 0.2]\n",
            "Número de Sisemas: 5\n",
            "Fator:  [0.09446248159231474, 0.09446248159231474, 0.09446248159231474, 0.09446248159231474, 0.09446248159231474, 0.09446248159231474, 0.09446248159231474]\n",
            "Media de falhas:  [0, 0.008232487100087591, 0.08220674870135404, 0.2046795793407919, 7.515215004451705, 16.060058083552992, 24.57848441580269, 54.88653546622618]\n",
            "Custo =  7495.360040703259\n"
          ]
        },
        {
          "output_type": "stream",
          "name": "stderr",
          "text": [
            "pyswarms.single.global_best:  39%|███▉      |39/100, best_cost=1.79e+3"
          ]
        },
        {
          "output_type": "stream",
          "name": "stdout",
          "text": [
            "\n",
            "=========================================================================\n",
            "\n",
            "Número de ciclos de manutenção: 3 5\n",
            "Tempos para manutenções preventivas: [0, 65, 395, 456]\n",
            "Severidade para cada subsistema: [0.2, 0.2, 0.2]\n",
            "Número de Sisemas: 5\n",
            "Fator:  [0.09446248159231474, 0.09446248159231474, 0.09446248159231474, 0.09446248159231474]\n",
            "Media de falhas:  [0, 0.08324693224449906, 17.60601994808431, 25.84891574843395, 56.32152495488914]\n",
            "Custo =  6100.37783994309\n",
            "\n",
            "=========================================================================\n",
            "\n",
            "Número de ciclos de manutenção: 5 5\n",
            "Tempos para manutenções preventivas: [0, 1, 63, 307, 396, 451]\n",
            "Severidade para cada subsistema: [0.2, 0.2, 0.2, 0.2, 0.2]\n",
            "Número de Sisemas: 5\n",
            "Fator:  [0.09446248159231474, 0.09446248159231474, 0.09446248159231474, 0.09446248159231474, 0.09446248159231474, 0.09446248159231474]\n",
            "Media de falhas:  [0, 3.1285038861667167e-07, 0.07547494819937109, 8.194465842058083, 16.54202506460869, 23.891801225198673, 55.178308114308955]\n",
            "Custo =  9191.120884705366\n",
            "\n",
            "=========================================================================\n",
            "\n",
            "Número de ciclos de manutenção: 2 5\n",
            "Tempos para manutenções preventivas: [0, 61, 574]\n",
            "Severidade para cada subsistema: [0.2, 0.2]\n",
            "Número de Sisemas: 5\n",
            "Fator:  [0.09446248159231474, 0.09446248159231474, 0.09446248159231474]\n",
            "Media de falhas:  [0, 0.06883768377232906, 54.73167267400581, 61.321846173260376]\n",
            "Custo =  5530.887578068065\n",
            "\n",
            "=========================================================================\n",
            "\n",
            "Número de ciclos de manutenção: 3 5\n",
            "Tempos para manutenções preventivas: [0, 3, 60, 574]\n",
            "Severidade para cada subsistema: [0.2, 0.2, 0.2]\n",
            "Número de Sisemas: 5\n",
            "Fator:  [0.09446248159231474, 0.09446248159231474, 0.09446248159231474, 0.09446248159231474]\n",
            "Media de falhas:  [0, 8.37707997408962e-06, 0.06459613520033887, 54.75712204401385, 61.347295543268416]\n",
            "Custo =  6197.715736415084\n",
            "\n",
            "=========================================================================\n",
            "\n",
            "Número de ciclos de manutenção: 5 5\n",
            "Tempos para manutenções preventivas: [0, 60, 183, 240, 360, 570]\n",
            "Severidade para cada subsistema: [0.2, 0.2, 0.2, 0.2, 0.2]\n",
            "Número de Sisemas: 5\n",
            "Fator:  [0.09446248159231474, 0.09446248159231474, 0.09446248159231474, 0.09446248159231474, 0.09446248159231474, 0.09446248159231474]\n",
            "Media de falhas:  [0, 0.06551560813556095, 1.694458320958991, 3.6423429477192233, 12.050660844316365, 47.61501527419212, 55.17350570364204]\n",
            "Custo =  8275.766010542058\n",
            "\n",
            "=========================================================================\n",
            "\n",
            "Número de ciclos de manutenção: 1 5\n",
            "Tempos para manutenções preventivas: [0, 60]\n",
            "Severidade para cada subsistema: [0.2]\n",
            "Número de Sisemas: 5\n",
            "Fator:  [0.09446248159231474, 0.09446248159231474]\n",
            "Media de falhas:  [0, 0.06551560813556095, 62.59869372185017]\n",
            "Custo =  1790.4486644518884\n",
            "\n",
            "=========================================================================\n",
            "\n",
            "Número de ciclos de manutenção: 1 5\n",
            "Tempos para manutenções preventivas: [0, 513]\n",
            "Severidade para cada subsistema: [0.2]\n",
            "Número de Sisemas: 5\n",
            "Fator:  [0.09446248159231474, 0.09446248159231474]\n",
            "Media de falhas:  [0, 40.289879019836036, 60.39308753814825]\n",
            "Custo =  4671.024213423372\n",
            "\n",
            "=========================================================================\n",
            "\n",
            "Número de ciclos de manutenção: 4 5\n",
            "Tempos para manutenções preventivas: [0, 7, 242, 574, 632]\n",
            "Severidade para cada subsistema: [0.2, 0.2, 0.2, 0.2]\n",
            "Número de Sisemas: 5\n",
            "Fator:  [0.09446248159231474, 0.09446248159231474, 0.09446248159231474, 0.09446248159231474, 0.09446248159231474]\n",
            "Media de falhas:  [0, 0.00010574029634208668, 4.218948858171877, 50.991877736190666, 66.59708056886986, 57.75633254745071]\n",
            "Custo =  10834.909916256765\n",
            "\n",
            "=========================================================================\n",
            "\n",
            "Número de ciclos de manutenção: 4 5\n",
            "Tempos para manutenções preventivas: [0, 5, 188, 575, 630]\n",
            "Severidade para cada subsistema: [0.2, 0.2, 0.2, 0.2]\n",
            "Número de Sisemas: 5\n",
            "Fator:  [0.09446248159231474, 0.09446248159231474, 0.09446248159231474, 0.09446248159231474, 0.09446248159231474]\n",
            "Media de falhas:  [0, 3.8633261907778527e-05, 1.9831111207554013, 52.10449890950549, 66.86927290263449, 58.605397899761435]\n",
            "Custo =  10649.840209285569\n",
            "\n",
            "=========================================================================\n",
            "\n",
            "Número de ciclos de manutenção: 4 5\n",
            "Tempos para manutenções preventivas: [0, 2, 242, 421, 511]\n",
            "Severidade para cada subsistema: [0.2, 0.2, 0.2, 0.2]\n",
            "Número de Sisemas: 5\n",
            "Fator:  [0.09446248159231474, 0.09446248159231474, 0.09446248159231474, 0.09446248159231474, 0.09446248159231474]\n",
            "Media de falhas:  [0, 2.48971947559441e-06, 4.243678043648525, 19.953361741876336, 34.62920939181566, 55.131659926876964]\n",
            "Custo =  8547.346785860052\n",
            "\n",
            "=========================================================================\n",
            "\n",
            "Número de ciclos de manutenção: 2 5\n",
            "Tempos para manutenções preventivas: [0, 303, 457]\n",
            "Severidade para cada subsistema: [0.2, 0.2]\n",
            "Número de Sisemas: 5\n",
            "Fator:  [0.09446248159231474, 0.09446248159231474, 0.09446248159231474]\n",
            "Media de falhas:  [0, 8.334909737038794, 25.63310277935247, 55.941153829775956]\n",
            "Custo =  5310.248107745101\n",
            "\n",
            "=========================================================================\n",
            "\n",
            "Número de ciclos de manutenção: 9 5\n",
            "Tempos para manutenções preventivas: [0, 37, 183, 210, 242, 302, 390, 510, 540, 578]\n",
            "Severidade para cada subsistema: [0.2, 0.2, 0.2, 0.2, 0.2, 0.2, 0.2, 0.2, 0.2]\n",
            "Número de Sisemas: 5\n",
            "Fator:  [0.09446248159231474, 0.09446248159231474, 0.09446248159231474, 0.09446248159231474, 0.09446248159231474, 0.09446248159231474, 0.09446248159231474, 0.09446248159231474, 0.09446248159231474, 0.09446248159231474]\n",
            "Media de falhas:  [0, 0.015419977946234351, 1.7438487068688828, 2.5259064112969227, 3.7513544735732207, 7.111435576479836, 15.111252610688707, 33.561616935872834, 39.658229082117735, 48.42008001530057, 54.02994233666226]\n",
            "Custo =  16521.754847991102\n",
            "\n",
            "=========================================================================\n",
            "\n",
            "Número de ciclos de manutenção: 3 5\n",
            "Tempos para manutenções preventivas: [0, 210, 391, 540]\n",
            "Severidade para cada subsistema: [0.2, 0.2, 0.2]\n",
            "Número de Sisemas: 5\n",
            "Fator:  [0.09446248159231474, 0.09446248159231474, 0.09446248159231474, 0.09446248159231474]\n",
            "Media de falhas:  [0, 2.782498143744606, 16.011622583311308, 40.727922721349856, 55.174953719197575]\n",
            "Custo =  7462.391716502223\n",
            "\n",
            "=========================================================================\n",
            "\n",
            "Número de ciclos de manutenção: 6 5\n",
            "Tempos para manutenções preventivas: [0, 183, 360, 391, 452, 514, 576]\n",
            "Severidade para cada subsistema: [0.2, 0.2, 0.2, 0.2, 0.2, 0.2]\n",
            "Número de Sisemas: 5\n",
            "Fator:  [0.09446248159231474, 0.09446248159231474, 0.09446248159231474, 0.09446248159231474, 0.09446248159231474, 0.09446248159231474, 0.09446248159231474]\n",
            "Media de falhas:  [0, 1.8432413804620789, 12.522831508045043, 15.763442069324425, 23.854112103490444, 34.61813764332249, 48.28506068525813, 54.38658312682053]\n",
            "Custo =  14605.227528976133\n"
          ]
        },
        {
          "output_type": "stream",
          "name": "stderr",
          "text": [
            "pyswarms.single.global_best:  56%|█████▌    |56/100, best_cost=1.79e+3<ipython-input-373-f2a244820fa5>:79: RuntimeWarning: divide by zero encountered in scalar divide\n",
            "  Ctotal.append((cmp + (mi[i+1] - mi[i])*CMC)/(T[i+1]-T[i]))\n",
            "pyswarms.single.global_best:  56%|█████▌    |56/100, best_cost=1.79e+3"
          ]
        },
        {
          "output_type": "stream",
          "name": "stdout",
          "text": [
            "\n",
            "=========================================================================\n",
            "\n",
            "Número de ciclos de manutenção: 1 5\n",
            "Tempos para manutenções preventivas: [0, 246]\n",
            "Severidade para cada subsistema: [0.2]\n",
            "Número de Sisemas: 5\n",
            "Fator:  [0.09446248159231474, 0.09446248159231474]\n",
            "Media de falhas:  [0, 4.467481047013181, 58.35476433971082]\n",
            "Custo =  2569.54664128536\n",
            "\n",
            "=========================================================================\n",
            "\n",
            "Número de ciclos de manutenção: 5 5\n",
            "Tempos para manutenções preventivas: [0, 181, 306, 458, 515, 577]\n",
            "Severidade para cada subsistema: [0.2, 0.2, 0.2, 0.2, 0.2]\n",
            "Número de Sisemas: 5\n",
            "Fator:  [0.09446248159231474, 0.09446248159231474, 0.09446248159231474, 0.09446248159231474, 0.09446248159231474, 0.09446248159231474]\n",
            "Media de falhas:  [0, 1.7836135170253284, 7.685622299658857, 24.916287512508, 34.94131874167688, 48.65789220097974, 54.513961371526776]\n",
            "Custo =  12526.826342104376\n",
            "\n",
            "=========================================================================\n",
            "\n",
            "Número de ciclos de manutenção: 0 5\n",
            "Tempos para manutenções preventivas: [0]\n",
            "Severidade para cada subsistema: []\n",
            "Número de Sisemas: 5\n",
            "\n",
            "=========================================================================\n",
            "\n",
            "Número de ciclos de manutenção: 5 5\n",
            "Tempos para manutenções preventivas: [0, 60, 245, 302, 577, 630]\n",
            "Severidade para cada subsistema: [0.2, 0.2, 0.2, 0.2, 0.2]\n",
            "Número de Sisemas: 5\n",
            "Fator:  [0.09446248159231474, 0.09446248159231474, 0.09446248159231474, 0.09446248159231474, 0.09446248159231474, 0.09446248159231474]\n",
            "Media de falhas:  [0, 0.06551560813556095, 4.131655660138046, 7.353236784366558, 50.43454016248261, 64.70351027641684, 56.43963527354378]\n",
            "Custo =  11771.638757459401\n",
            "\n",
            "=========================================================================\n",
            "\n",
            "Número de ciclos de manutenção: 1 5\n",
            "Tempos para manutenções preventivas: [0, 630]\n",
            "Severidade para cada subsistema: [0.2]\n",
            "Número de Sisemas: 5\n",
            "Fator:  [0.09446248159231474, 0.09446248159231474]\n",
            "Media de falhas:  [0, 74.50593103294723, 66.24205603007417]\n",
            "Custo =  5842.396176824164\n",
            "\n",
            "=========================================================================\n",
            "\n",
            "Número de ciclos de manutenção: 2 5\n",
            "Tempos para manutenções preventivas: [0, 38, 450]\n",
            "Severidade para cada subsistema: [0.2, 0.2]\n",
            "Número de Sisemas: 5\n",
            "Fator:  [0.09446248159231474, 0.09446248159231474, 0.09446248159231474]\n",
            "Media de falhas:  [0, 0.01670097372294326, 26.581136966283957, 58.028653976861705]\n",
            "Custo =  4189.315267743661\n",
            "\n",
            "=========================================================================\n",
            "\n",
            "Número de ciclos de manutenção: 3 5\n",
            "Tempos para manutenções preventivas: [0, 302, 518, 542]\n",
            "Severidade para cada subsistema: [0.2, 0.2, 0.2]\n",
            "Número de Sisemas: 5\n",
            "Fator:  [0.09446248159231474, 0.09446248159231474, 0.09446248159231474, 0.09446248159231474]\n",
            "Media de falhas:  [0, 8.25286422933939, 37.129413754128876, 42.092983717855866, 56.10091091333444]\n",
            "Custo =  9273.895301221735\n",
            "\n",
            "=========================================================================\n",
            "\n",
            "Número de ciclos de manutenção: 5 5\n",
            "Tempos para manutenções preventivas: [0, 30, 184, 390, 456, 542]\n",
            "Severidade para cada subsistema: [0.2, 0.2, 0.2, 0.2, 0.2]\n",
            "Número de Sisemas: 5\n",
            "Fator:  [0.09446248159231474, 0.09446248159231474, 0.09446248159231474, 0.09446248159231474, 0.09446248159231474, 0.09446248159231474]\n",
            "Media de falhas:  [0, 0.008232487100087591, 1.7906316862362335, 15.875465728196255, 24.704708941046068, 40.73026694402253, 54.738194139501104]\n",
            "Custo =  9805.266729650522\n",
            "\n",
            "=========================================================================\n",
            "\n",
            "Número de ciclos de manutenção: 2 5\n",
            "Tempos para manutenções preventivas: [0, 38, 541]\n",
            "Severidade para cada subsistema: [0.2, 0.2]\n",
            "Número de Sisemas: 5\n",
            "Fator:  [0.09446248159231474, 0.09446248159231474, 0.09446248159231474]\n",
            "Media de falhas:  [0, 0.01670097372294326, 46.307326902539316, 60.53515915706173]\n",
            "Custo =  5094.780166137743\n",
            "\n",
            "=========================================================================\n",
            "\n",
            "Número de ciclos de manutenção: 8 5\n",
            "Tempos para manutenções preventivas: [0, 0, 37, 185, 248, 304, 455, 540, 573]\n",
            "Severidade para cada subsistema: [0.2, 0.2, 0.2, 0.2, 0.2, 0.2, 0.2, 0.2]\n",
            "Número de Sisemas: 5\n",
            "Fator:  [0.09446248159231474, 0.09446248159231474, 0.09446248159231474, 0.09446248159231474, 0.09446248159231474, 0.09446248159231474, 0.09446248159231474, 0.09446248159231474, 0.09446248159231474]\n",
            "Media de falhas:  [0, 0.0, 0.015419977946234351, 1.802504588600208, 4.0655982398185815, 7.286032074744295, 24.18082009888381, 39.922107978296424, 47.455828587266126, 54.28920249832625]\n",
            "Custo =  inf\n",
            "\n",
            "=========================================================================\n",
            "\n",
            "Número de ciclos de manutenção: 3 5\n",
            "Tempos para manutenções preventivas: [0, 2, 303, 576]\n",
            "Severidade para cada subsistema: [0.2, 0.2, 0.2]\n",
            "Número de Sisemas: 5\n",
            "Fator:  [0.09446248159231474, 0.09446248159231474, 0.09446248159231474, 0.09446248159231474]\n",
            "Media de falhas:  [0, 2.48971947559441e-06, 8.319368514810336, 51.046414873141416, 57.14793731470382]\n",
            "Custo =  7673.000314368071\n",
            "\n",
            "=========================================================================\n",
            "\n",
            "Número de ciclos de manutenção: 3 5\n",
            "Tempos para manutenções preventivas: [0, 5, 182, 574]\n",
            "Severidade para cada subsistema: [0.2, 0.2, 0.2]\n",
            "Número de Sisemas: 5\n",
            "Fator:  [0.09446248159231474, 0.09446248159231474, 0.09446248159231474, 0.09446248159231474]\n",
            "Media de falhas:  [0, 3.8633261907778527e-05, 1.7992292055646602, 51.937989929308905, 58.528163428563474]\n",
            "Custo =  6366.5124302083295\n",
            "\n",
            "=========================================================================\n",
            "\n",
            "Número de ciclos de manutenção: 3 5\n",
            "Tempos para manutenções preventivas: [0, 0, 247, 630]\n",
            "Severidade para cada subsistema: [0.2, 0.2, 0.2]\n",
            "Número de Sisemas: 5\n",
            "Fator:  [0.09446248159231474, 0.09446248159231474, 0.09446248159231474, 0.09446248159231474]\n",
            "Media de falhas:  [0, 0.0, 4.52204557269186, 67.71139733183053, 59.44752232895747]\n",
            "Custo =  inf\n",
            "\n",
            "=========================================================================\n",
            "\n",
            "Número de ciclos de manutenção: 2 5\n",
            "Tempos para manutenções preventivas: [0, 513, 630]\n",
            "Severidade para cada subsistema: [0.2, 0.2]\n",
            "Número de Sisemas: 5\n",
            "Fator:  [0.09446248159231474, 0.09446248159231474, 0.09446248159231474]\n",
            "Media de falhas:  [0, 40.289879019836036, 68.98771298040663, 60.72383797753357]\n",
            "Custo =  8943.5396074728\n"
          ]
        },
        {
          "output_type": "stream",
          "name": "stderr",
          "text": [
            "pyswarms.single.global_best:  72%|███████▏  |72/100, best_cost=1.79e+3"
          ]
        },
        {
          "output_type": "stream",
          "name": "stdout",
          "text": [
            "\n",
            "=========================================================================\n",
            "\n",
            "Número de ciclos de manutenção: 1 5\n",
            "Tempos para manutenções preventivas: [0, 510]\n",
            "Severidade para cada subsistema: [0.2]\n",
            "Número de Sisemas: 5\n",
            "Fator:  [0.09446248159231474, 0.09446248159231474]\n",
            "Media de falhas:  [0, 39.588920264474986, 60.28999078267306]\n",
            "Custo =  4640.702218328028\n",
            "\n",
            "=========================================================================\n",
            "\n",
            "Número de ciclos de manutenção: 0 5\n",
            "Tempos para manutenções preventivas: [0]\n",
            "Severidade para cada subsistema: []\n",
            "Número de Sisemas: 5\n",
            "\n",
            "=========================================================================\n",
            "\n",
            "Número de ciclos de manutenção: 1 5\n",
            "Tempos para manutenções preventivas: [0, 390]\n",
            "Severidade para cada subsistema: [0.2]\n",
            "Número de Sisemas: 5\n",
            "Fator:  [0.09446248159231474, 0.09446248159231474]\n",
            "Media de falhas:  [0, 17.73935883179251, 57.821093809020866]\n",
            "Custo =  3559.9161164460593\n",
            "\n",
            "=========================================================================\n",
            "\n",
            "Número de ciclos de manutenção: 2 5\n",
            "Tempos para manutenções preventivas: [0, 183, 392]\n",
            "Severidade para cada subsistema: [0.2, 0.2]\n",
            "Número de Sisemas: 5\n",
            "Fator:  [0.09446248159231474, 0.09446248159231474, 0.09446248159231474]\n",
            "Media de falhas:  [0, 1.8432413804620789, 16.21238394037825, 56.03734128404308]\n",
            "Custo =  4084.4693736950567\n",
            "\n",
            "=========================================================================\n",
            "\n",
            "Número de ciclos de manutenção: 1 5\n",
            "Tempos para manutenções preventivas: [0, 453]\n",
            "Severidade para cada subsistema: [0.2]\n",
            "Número de Sisemas: 5\n",
            "Fator:  [0.09446248159231474, 0.09446248159231474]\n",
            "Media de falhas:  [0, 27.768149922984364, 58.73087109892066]\n",
            "Custo =  4096.956960710421\n",
            "\n",
            "=========================================================================\n",
            "\n",
            "Número de ciclos de manutenção: 3 5\n",
            "Tempos para manutenções preventivas: [0, 0, 188, 241]\n",
            "Severidade para cada subsistema: [0.2, 0.2, 0.2]\n",
            "Número de Sisemas: 5\n",
            "Fator:  [0.09446248159231474, 0.09446248159231474, 0.09446248159231474, 0.09446248159231474]\n",
            "Media de falhas:  [0, 0.0, 1.9980850411220341, 3.8544836923652146, 58.079922045513776]\n",
            "Custo =  inf\n",
            "\n",
            "=========================================================================\n",
            "\n",
            "Número de ciclos de manutenção: 3 5\n",
            "Tempos para manutenções preventivas: [0, 4, 450, 571]\n",
            "Severidade para cada subsistema: [0.2, 0.2, 0.2]\n",
            "Número de Sisemas: 5\n",
            "Fator:  [0.09446248159231474, 0.09446248159231474, 0.09446248159231474, 0.09446248159231474]\n",
            "Media de falhas:  [0, 1.9813633905212215e-05, 27.153142203040375, 50.96635921895037, 58.28389028249194]\n",
            "Custo =  8240.256210585698\n",
            "\n",
            "=========================================================================\n",
            "\n",
            "Número de ciclos de manutenção: 1 5\n",
            "Tempos para manutenções preventivas: [0, 248]\n",
            "Severidade para cada subsistema: [0.2]\n",
            "Número de Sisemas: 5\n",
            "Fator:  [0.09446248159231474, 0.09446248159231474]\n",
            "Media de falhas:  [0, 4.577052025990402, 58.32685705913601]\n",
            "Custo =  2581.058804762314\n",
            "\n",
            "=========================================================================\n",
            "\n",
            "Número de ciclos de manutenção: 2 5\n",
            "Tempos para manutenções preventivas: [0, 187, 451]\n",
            "Severidade para cada subsistema: [0.2, 0.2]\n",
            "Número de Sisemas: 5\n",
            "Fator:  [0.09446248159231474, 0.09446248159231474, 0.09446248159231474]\n",
            "Media de falhas:  [0, 1.9664493048188796, 24.82000088600029, 56.10650777511057]\n",
            "Custo =  4637.575932258396\n",
            "\n",
            "=========================================================================\n",
            "\n",
            "Número de ciclos de manutenção: 2 5\n",
            "Tempos para manutenções preventivas: [0, 7, 246]\n",
            "Severidade para cada subsistema: [0.2, 0.2]\n",
            "Número de Sisemas: 5\n",
            "Fator:  [0.09446248159231474, 0.09446248159231474, 0.09446248159231474]\n",
            "Media de falhas:  [0, 0.00010574029634208668, 4.431669966022984, 58.318953258720626]\n",
            "Custo =  2861.4498979356267\n",
            "\n",
            "=========================================================================\n",
            "\n",
            "Número de ciclos de manutenção: 0 5\n",
            "Tempos para manutenções preventivas: [0]\n",
            "Severidade para cada subsistema: []\n",
            "Número de Sisemas: 5\n",
            "\n",
            "=========================================================================\n",
            "\n",
            "Número de ciclos de manutenção: 2 5\n",
            "Tempos para manutenções preventivas: [0, 5, 188]\n",
            "Severidade para cada subsistema: [0.2, 0.2]\n",
            "Número de Sisemas: 5\n",
            "Fator:  [0.09446248159231474, 0.09446248159231474, 0.09446248159231474]\n",
            "Media de falhas:  [0, 3.8633261907778527e-05, 1.9831111207554013, 59.3469989368356]\n",
            "Custo =  2666.9372169358367\n",
            "\n",
            "=========================================================================\n",
            "\n",
            "Número de ciclos de manutenção: 0 5\n",
            "Tempos para manutenções preventivas: [0]\n",
            "Severidade para cada subsistema: []\n",
            "Número de Sisemas: 5\n",
            "\n",
            "=========================================================================\n",
            "\n",
            "Número de ciclos de manutenção: 3 5\n",
            "Tempos para manutenções preventivas: [0, 4, 244, 572]\n",
            "Severidade para cada subsistema: [0.2, 0.2, 0.2]\n",
            "Número de Sisemas: 5\n",
            "Fator:  [0.09446248159231474, 0.09446248159231474, 0.09446248159231474, 0.09446248159231474]\n",
            "Media de falhas:  [0, 1.9813633905212215e-05, 4.339504263152878, 50.44250647759111, 57.51833247254439]\n",
            "Custo =  6756.14161739363\n",
            "\n",
            "=========================================================================\n",
            "\n",
            "Número de ciclos de manutenção: 5 5\n",
            "Tempos para manutenções preventivas: [0, 181, 241, 455, 540, 575]\n",
            "Severidade para cada subsistema: [0.2, 0.2, 0.2, 0.2, 0.2]\n",
            "Número de Sisemas: 5\n",
            "Fator:  [0.09446248159231474, 0.09446248159231474, 0.09446248159231474, 0.09446248159231474, 0.09446248159231474, 0.09446248159231474]\n",
            "Media de falhas:  [0, 1.7836135170253284, 3.829087347447776, 24.83758980813331, 40.578877687545926, 48.60105207036049, 54.9472755173068]\n",
            "Custo =  12369.824571901243\n",
            "\n",
            "=========================================================================\n",
            "\n",
            "Número de ciclos de manutenção: 3 5\n",
            "Tempos para manutenções preventivas: [0, 4, 540, 572]\n",
            "Severidade para cada subsistema: [0.2, 0.2, 0.2]\n",
            "Número de Sisemas: 5\n",
            "Fator:  [0.09446248159231474, 0.09446248159231474, 0.09446248159231474, 0.09446248159231474]\n",
            "Media de falhas:  [0, 1.9813633905212215e-05, 46.87562514171617, 54.166512744898775, 61.24233873985205]\n",
            "Custo =  9157.776161841997\n",
            "\n",
            "=========================================================================\n",
            "\n",
            "Número de ciclos de manutenção: 1 5\n",
            "Tempos para manutenções preventivas: [0, 454]\n",
            "Severidade para cada subsistema: [0.2]\n",
            "Número de Sisemas: 5\n",
            "Fator:  [0.09446248159231474, 0.09446248159231474]\n",
            "Media de falhas:  [0, 27.95198513159313, 58.75192808591795]\n",
            "Custo =  4106.005355095363\n"
          ]
        },
        {
          "output_type": "stream",
          "name": "stderr",
          "text": [
            "pyswarms.single.global_best:  88%|████████▊ |88/100, best_cost=1.79e+3"
          ]
        },
        {
          "output_type": "stream",
          "name": "stdout",
          "text": [
            "\n",
            "=========================================================================\n",
            "\n",
            "Número de ciclos de manutenção: 2 5\n",
            "Tempos para manutenções preventivas: [0, 185, 212]\n",
            "Severidade para cada subsistema: [0.2, 0.2]\n",
            "Número de Sisemas: 5\n",
            "Fator:  [0.09446248159231474, 0.09446248159231474, 0.09446248159231474]\n",
            "Media de falhas:  [0, 1.9041818974339435, 2.7020356196021615, 58.74050440115246]\n",
            "Custo =  2854.1203675216175\n",
            "\n",
            "=========================================================================\n",
            "\n",
            "Número de ciclos de manutenção: 0 5\n",
            "Tempos para manutenções preventivas: [0]\n",
            "Severidade para cada subsistema: []\n",
            "Número de Sisemas: 5\n",
            "\n",
            "=========================================================================\n",
            "\n",
            "Número de ciclos de manutenção: 3 5\n",
            "Tempos para manutenções preventivas: [0, 31, 184, 452]\n",
            "Severidade para cada subsistema: [0.2, 0.2, 0.2]\n",
            "Número de Sisemas: 5\n",
            "Fator:  [0.09446248159231474, 0.09446248159231474, 0.09446248159231474, 0.09446248159231474]\n",
            "Media de falhas:  [0, 0.009081230428447565, 1.788060561488717, 24.92677544248, 56.051684158364296]\n",
            "Custo =  4726.996991103659\n",
            "\n",
            "=========================================================================\n",
            "\n",
            "Número de ciclos de manutenção: 0 5\n",
            "Tempos para manutenções preventivas: [0]\n",
            "Severidade para cada subsistema: []\n",
            "Número de Sisemas: 5\n",
            "\n",
            "=========================================================================\n",
            "\n",
            "Número de ciclos de manutenção: 2 5\n",
            "Tempos para manutenções preventivas: [0, 7, 540]\n",
            "Severidade para cada subsistema: [0.2, 0.2]\n",
            "Número de Sisemas: 5\n",
            "Fator:  [0.09446248159231474, 0.09446248159231474, 0.09446248159231474]\n",
            "Media de falhas:  [0, 0.00010574029634208668, 46.80202042933509, 61.249051427182806]\n",
            "Custo =  5251.911355113227\n",
            "\n",
            "=========================================================================\n",
            "\n",
            "Número de ciclos de manutenção: 4 5\n",
            "Tempos para manutenções preventivas: [0, 241, 454, 540, 570]\n",
            "Severidade para cada subsistema: [0.2, 0.2, 0.2, 0.2]\n",
            "Número de Sisemas: 5\n",
            "Fator:  [0.09446248159231474, 0.09446248159231474, 0.09446248159231474, 0.09446248159231474, 0.09446248159231474]\n",
            "Media de falhas:  [0, 4.20122518224369, 25.043053112367073, 40.942396988419674, 47.75039751406851, 55.308887943518435]\n",
            "Custo =  11859.885830928815\n",
            "\n",
            "=========================================================================\n",
            "\n",
            "Número de ciclos de manutenção: 5 5\n",
            "Tempos para manutenções preventivas: [0, 5, 61, 184, 246, 573]\n",
            "Severidade para cada subsistema: [0.2, 0.2, 0.2, 0.2, 0.2]\n",
            "Número de Sisemas: 5\n",
            "Fator:  [0.09446248159231474, 0.09446248159231474, 0.09446248159231474, 0.09446248159231474, 0.09446248159231474, 0.09446248159231474]\n",
            "Media de falhas:  [0, 3.8633261907778527e-05, 0.06726491574465504, 1.7195049944710128, 3.9151304195040835, 50.15650038006926, 56.98987429112938]\n",
            "Custo =  7232.720725862822\n",
            "\n",
            "=========================================================================\n",
            "\n",
            "Número de ciclos de manutenção: 2 5\n",
            "Tempos para manutenções preventivas: [0, 242, 571]\n",
            "Severidade para cada subsistema: [0.2, 0.2]\n",
            "Número de Sisemas: 5\n",
            "Fator:  [0.09446248159231474, 0.09446248159231474, 0.09446248159231474]\n",
            "Media de falhas:  [0, 4.2536067061004825, 50.21758565469397, 57.53511671823554]\n",
            "Custo =  6227.514316602207\n",
            "\n",
            "=========================================================================\n",
            "\n",
            "Número de ciclos de manutenção: 1 5\n",
            "Tempos para manutenções preventivas: [0, 453]\n",
            "Severidade para cada subsistema: [0.2]\n",
            "Número de Sisemas: 5\n",
            "Fator:  [0.09446248159231474, 0.09446248159231474]\n",
            "Media de falhas:  [0, 27.768149922984364, 58.73087109892066]\n",
            "Custo =  4096.956960710421\n",
            "\n",
            "=========================================================================\n",
            "\n",
            "Número de ciclos de manutenção: 2 5\n",
            "Tempos para manutenções preventivas: [0, 60, 186]\n",
            "Severidade para cada subsistema: [0.2, 0.2]\n",
            "Número de Sisemas: 5\n",
            "Fator:  [0.09446248159231474, 0.09446248159231474, 0.09446248159231474]\n",
            "Media de falhas:  [0, 0.06551560813556095, 1.780826314008244, 59.2486413262848]\n",
            "Custo =  2356.787035165399\n",
            "\n",
            "=========================================================================\n",
            "\n",
            "Número de ciclos de manutenção: 1 5\n",
            "Tempos para manutenções preventivas: [0, 68]\n",
            "Severidade para cada subsistema: [0.2]\n",
            "Número de Sisemas: 5\n",
            "Fator:  [0.09446248159231474, 0.09446248159231474]\n",
            "Media de falhas:  [0, 0.09528109346379646, 62.36852324731543]\n",
            "Custo =  1810.0135482853207\n",
            "\n",
            "=========================================================================\n",
            "\n",
            "Número de ciclos de manutenção: 2 5\n",
            "Tempos para manutenções preventivas: [0, 30, 187]\n",
            "Severidade para cada subsistema: [0.2, 0.2]\n",
            "Número de Sisemas: 5\n",
            "Fator:  [0.09446248159231474, 0.09446248159231474, 0.09446248159231474]\n",
            "Media de falhas:  [0, 0.008232487100087591, 1.8807280157965232, 59.29669938475792]\n",
            "Custo =  2352.591062067831\n",
            "\n",
            "=========================================================================\n",
            "\n",
            "Número de ciclos de manutenção: 2 5\n",
            "Tempos para manutenções preventivas: [0, 8, 34]\n",
            "Severidade para cada subsistema: [0.2, 0.2]\n",
            "Número de Sisemas: 5\n",
            "Fator:  [0.09446248159231474, 0.09446248159231474, 0.09446248159231474]\n",
            "Media de falhas:  [0, 0.00015768045049976894, 0.01123441482785656, 63.36127653833945]\n",
            "Custo =  2016.0307624941354\n",
            "\n",
            "=========================================================================\n",
            "\n",
            "Número de ciclos de manutenção: 2 5\n",
            "Tempos para manutenções preventivas: [0, 458, 540]\n",
            "Severidade para cada subsistema: [0.2, 0.2]\n",
            "Número de Sisemas: 5\n",
            "Fator:  [0.09446248159231474, 0.09446248159231474, 0.09446248159231474]\n",
            "Media de falhas:  [0, 28.695429218707226, 43.95897830840652, 58.40600930625424]\n",
            "Custo =  7405.767411084858\n"
          ]
        },
        {
          "output_type": "stream",
          "name": "stderr",
          "text": [
            "pyswarms.single.global_best: 100%|██████████|100/100, best_cost=1.79e+3\n",
            "2024-03-15 18:27:47,270 - pyswarms.single.global_best - INFO - Optimization finished | best cost: 1790.4486644518884, best pos: [0.20914142 1.13073591 0.14042324 0.30194    0.574218   0.65167729\n",
            " 0.20630859 1.0523121  1.10240927 0.6474595  0.48446558 0.64195418\n",
            " 0.46562114 1.14907594 1.11206021 1.09159682 0.73586473 0.12082606\n",
            " 1.117676   0.45290259 1.02765314 0.76080482 0.30930071 0.18829759]\n",
            "2024-03-15 18:27:47,275 - pyswarms.single.global_best - INFO - Optimize for 1 iters with {'c1': 0.5, 'c2': 0.3, 'w': 0.9}\n"
          ]
        },
        {
          "output_type": "stream",
          "name": "stdout",
          "text": [
            "\n",
            "=========================================================================\n",
            "\n",
            "Número de ciclos de manutenção: 6 5\n",
            "Tempos para manutenções preventivas: [0, 4, 61, 181, 243, 422, 540]\n",
            "Severidade para cada subsistema: [0.2, 0.2, 0.2, 0.2, 0.2, 0.2]\n",
            "Número de Sisemas: 5\n",
            "Fator:  [0.09446248159231474, 0.09446248159231474, 0.09446248159231474, 0.09446248159231474, 0.09446248159231474, 0.09446248159231474, 0.09446248159231474]\n",
            "Media de falhas:  [0, 1.9813633905212215e-05, 0.06757466014697686, 1.635450400866951, 3.7718313007556405, 19.570993819535712, 40.222231424709626, 54.669262422557345]\n",
            "Custo =  8937.038065898092\n",
            "\n",
            "=========================================================================\n",
            "\n",
            "Número de ciclos de manutenção: 3 5\n",
            "Tempos para manutenções preventivas: [0, 66, 245, 423]\n",
            "Severidade para cada subsistema: [0.2, 0.2, 0.2]\n",
            "Número de Sisemas: 5\n",
            "Fator:  [0.09446248159231474, 0.09446248159231474, 0.09446248159231474, 0.09446248159231474]\n",
            "Media de falhas:  [0, 0.08713845131027981, 4.108119492984678, 19.943610875645803, 55.52092308817352]\n",
            "Custo =  4770.247496500235\n",
            "\n",
            "=========================================================================\n",
            "\n",
            "Número de ciclos de manutenção: 4 5\n",
            "Tempos para manutenções preventivas: [0, 60, 244, 424, 455]\n",
            "Severidade para cada subsistema: [0.2, 0.2, 0.2, 0.2]\n",
            "Número de Sisemas: 5\n",
            "Fator:  [0.09446248159231474, 0.09446248159231474, 0.09446248159231474, 0.09446248159231474, 0.09446248159231474]\n",
            "Media de falhas:  [0, 0.06551560813556095, 4.080420712731982, 20.112799102890893, 24.54060077648024, 55.177173512610594]\n",
            "Custo =  7125.121031904456\n",
            "\n",
            "=========================================================================\n",
            "\n",
            "Número de ciclos de manutenção: 3 5\n",
            "Tempos para manutenções preventivas: [0, 187, 240, 458]\n",
            "Severidade para cada subsistema: [0.2, 0.2, 0.2]\n",
            "Número de Sisemas: 5\n",
            "Fator:  [0.09446248159231474, 0.09446248159231474, 0.09446248159231474, 0.09446248159231474]\n",
            "Media de falhas:  [0, 1.9664493048188796, 3.805963944522425, 25.373724876144635, 55.51662182932577]\n",
            "Custo =  5418.172861974782\n",
            "\n",
            "=========================================================================\n",
            "\n",
            "Número de ciclos de manutenção: 0 5\n",
            "Tempos para manutenções preventivas: [0]\n",
            "Severidade para cada subsistema: []\n",
            "Número de Sisemas: 5\n",
            "\n",
            "=========================================================================\n",
            "\n",
            "Número de ciclos de manutenção: 0 5\n",
            "Tempos para manutenções preventivas: [0]\n",
            "Severidade para cada subsistema: []\n",
            "Número de Sisemas: 5\n",
            "\n",
            "=========================================================================\n",
            "\n",
            "Número de ciclos de manutenção: 3 5\n",
            "Tempos para manutenções preventivas: [0, 1, 188, 390]\n",
            "Severidade para cada subsistema: [0.2, 0.2, 0.2]\n",
            "Número de Sisemas: 5\n",
            "Fator:  [0.09446248159231474, 0.09446248159231474, 0.09446248159231474, 0.09446248159231474]\n",
            "Media de falhas:  [0, 3.1285038861667167e-07, 1.9950823431188947, 15.940455454660215, 56.022190431888575]\n",
            "Custo =  6088.686575565198\n",
            "\n",
            "=========================================================================\n",
            "\n",
            "Número de ciclos de manutenção: 4 5\n",
            "Tempos para manutenções preventivas: [0, 32, 212, 390, 540]\n",
            "Severidade para cada subsistema: [0.2, 0.2, 0.2, 0.2]\n",
            "Número de Sisemas: 5\n",
            "Fator:  [0.09446248159231474, 0.09446248159231474, 0.09446248159231474, 0.09446248159231474, 0.09446248159231474]\n",
            "Media de falhas:  [0, 0.009986315612474421, 2.7447063416739654, 15.768182622650055, 40.60724230752294, 55.05427330537066]\n",
            "Custo =  7557.235827993677\n"
          ]
        },
        {
          "output_type": "stream",
          "name": "stderr",
          "text": [
            "pyswarms.single.global_best: 100%|██████████|1/1, best_cost=1.79e+3\n",
            "2024-03-15 18:27:47,301 - pyswarms.single.global_best - INFO - Optimization finished | best cost: 1790.4486644518884, best pos: [0.20578011 1.10394244 1.15656032 0.29990198 0.57424995 0.64843425\n",
            " 0.20631119 0.16949234 1.11504679 0.6673343  0.48447154 0.64354626\n",
            " 0.46566558 1.13443227 1.11234955 1.09059288 0.71949596 0.12011724\n",
            " 1.11784066 0.45290841 1.02644126 0.76345526 0.24390865 0.18867038]\n",
            "2024-03-15 18:27:47,305 - pyswarms.single.global_best - INFO - Optimize for 1 iters with {'c1': 0.5, 'c2': 0.3, 'w': 0.9}\n"
          ]
        },
        {
          "output_type": "stream",
          "name": "stdout",
          "text": [
            "\n",
            "=========================================================================\n",
            "\n",
            "Número de ciclos de manutenção: 3 5\n",
            "Tempos para manutenções preventivas: [0, 63, 213, 390]\n",
            "Severidade para cada subsistema: [0.2, 0.2, 0.2]\n",
            "Número de Sisemas: 5\n",
            "Fator:  [0.09446248159231474, 0.09446248159231474, 0.09446248159231474, 0.09446248159231474]\n",
            "Media de falhas:  [0, 0.07581453031373277, 2.6865937892103786, 15.668330739856719, 55.75006571708508]\n",
            "Custo =  4308.159883176557\n"
          ]
        },
        {
          "output_type": "stream",
          "name": "stderr",
          "text": [
            "pyswarms.single.global_best: 100%|██████████|1/1, best_cost=1.79e+3\n",
            "2024-03-15 18:27:47,335 - pyswarms.single.global_best - INFO - Optimization finished | best cost: 1790.4486644518884, best pos: [0.20611329 1.00957221 1.26335358 0.297682   0.57425057 0.65044679\n",
            " 0.20630876 0.10759513 1.1117249  0.68932508 0.48447038 0.59213805\n",
            " 0.46562588 1.13677637 1.11155108 1.09085074 0.71706621 0.12008758\n",
            " 1.11828275 0.45290166 1.02635572 0.77285949 0.24771608 0.18886796]\n",
            "2024-03-15 18:27:47,337 - pyswarms.single.global_best - INFO - Optimize for 1 iters with {'c1': 0.5, 'c2': 0.3, 'w': 0.9}\n"
          ]
        },
        {
          "output_type": "stream",
          "name": "stdout",
          "text": [
            "\n",
            "=========================================================================\n",
            "\n",
            "Número de ciclos de manutenção: 4 5\n",
            "Tempos para manutenções preventivas: [0, 64, 213, 391, 602]\n",
            "Severidade para cada subsistema: [0.2, 0.2, 0.2, 0.2]\n",
            "Número de Sisemas: 5\n",
            "Fator:  [0.09446248159231474, 0.09446248159231474, 0.09446248159231474, 0.09446248159231474, 0.09446248159231474]\n",
            "Media de falhas:  [0, 0.0794728898364077, 2.683894012145057, 15.7884407426231, 56.309908248830034, 55.78132043763005]\n",
            "Custo =  7295.60131643858\n"
          ]
        },
        {
          "output_type": "stream",
          "name": "stderr",
          "text": [
            "pyswarms.single.global_best: 100%|██████████|1/1, best_cost=1.79e+3\n",
            "2024-03-15 18:27:47,377 - pyswarms.single.global_best - INFO - Optimization finished | best cost: 1790.4486644518884, best pos: [0.20657321 0.81179158 0.08513261 0.2958703  0.57424225 0.65250504\n",
            " 0.20630656 0.04598119 1.10701028 0.70564375 0.48446911 0.54592981\n",
            " 0.46558974 1.13935937 1.11085214 1.091249   0.71878124 0.12022249\n",
            " 1.11868051 0.4528957  1.02656754 0.77951553 0.267602   0.18897859]\n",
            "2024-03-15 18:27:47,381 - pyswarms.single.global_best - INFO - Optimize for 1 iters with {'c1': 0.5, 'c2': 0.3, 'w': 0.9}\n"
          ]
        },
        {
          "output_type": "stream",
          "name": "stdout",
          "text": [
            "\n",
            "=========================================================================\n",
            "\n",
            "Número de ciclos de manutenção: 6 5\n",
            "Tempos para manutenções preventivas: [0, 1, 213, 302, 392, 454, 605]\n",
            "Severidade para cada subsistema: [0.2, 0.2, 0.2, 0.2, 0.2, 0.2]\n",
            "Número de Sisemas: 5\n",
            "Fator:  [0.09446248159231474, 0.09446248159231474, 0.09446248159231474, 0.09446248159231474, 0.09446248159231474, 0.09446248159231474, 0.09446248159231474]\n",
            "Media de falhas:  [0, 3.1285038861667167e-07, 2.8992973449394257, 7.456277851382078, 15.691377860727714, 23.97511120069388, 56.172495312021596, 54.845124607858544]\n",
            "Custo =  13229.978703141453\n"
          ]
        },
        {
          "output_type": "stream",
          "name": "stderr",
          "text": [
            "pyswarms.single.global_best: 100%|██████████|1/1, best_cost=1.79e+3\n",
            "2024-03-15 18:27:47,398 - pyswarms.single.global_best - INFO - Optimization finished | best cost: 1790.4486644518884, best pos: [0.2073182  0.51245454 0.46122386 0.29462412 0.57422915 0.65430341\n",
            " 0.20630471 1.23299178 1.10162264 0.70399238 0.48446718 0.52660003\n",
            " 0.46556333 1.14419838 1.11037801 1.09161819 0.72089741 0.12046122\n",
            " 1.11881547 0.45289048 1.0268707  0.78350843 0.29562516 0.18894974]\n",
            "2024-03-15 18:27:47,400 - pyswarms.single.global_best - INFO - Optimize for 1 iters with {'c1': 0.5, 'c2': 0.3, 'w': 0.9}\n"
          ]
        },
        {
          "output_type": "stream",
          "name": "stdout",
          "text": [
            "\n",
            "=========================================================================\n",
            "\n",
            "Número de ciclos de manutenção: 5 5\n",
            "Tempos para manutenções preventivas: [0, 213, 392, 517, 540, 607]\n",
            "Severidade para cada subsistema: [0.2, 0.2, 0.2, 0.2, 0.2]\n",
            "Número de Sisemas: 5\n",
            "Fator:  [0.09446248159231474, 0.09446248159231474, 0.09446248159231474, 0.09446248159231474, 0.09446248159231474, 0.09446248159231474]\n",
            "Media de falhas:  [0, 2.903148342469915, 16.13116638670218, 35.76043033083951, 40.48946061071534, 56.84361408364925, 54.97977202574441]\n",
            "Custo =  14275.582802539197\n"
          ]
        },
        {
          "output_type": "stream",
          "name": "stderr",
          "text": [
            "pyswarms.single.global_best: 100%|██████████|1/1, best_cost=1.79e+3\n",
            "2024-03-15 18:27:47,415 - pyswarms.single.global_best - INFO - Optimization finished | best cost: 1790.4486644518884, best pos: [0.20814283 0.20464438 1.00558516 0.29390965 0.57421655 0.65560868\n",
            " 0.20630353 0.98202703 1.09690878 0.70226305 0.48446538 0.5232509\n",
            " 0.46555347 1.14943189 1.11019986 1.09194932 0.72671051 0.12074248\n",
            " 1.11869484 0.45288815 1.02727391 0.78629074 0.32151365 0.18887265]\n",
            "2024-03-15 18:27:47,422 - pyswarms.single.global_best - INFO - Optimize for 1 iters with {'c1': 0.5, 'c2': 0.3, 'w': 0.9}\n"
          ]
        },
        {
          "output_type": "stream",
          "name": "stdout",
          "text": [
            "\n",
            "=========================================================================\n",
            "\n",
            "Número de ciclos de manutenção: 8 5\n",
            "Tempos para manutenções preventivas: [0, 30, 213, 393, 420, 452, 512, 542, 608]\n",
            "Severidade para cada subsistema: [0.2, 0.2, 0.2, 0.2, 0.2, 0.2, 0.2, 0.2]\n",
            "Número de Sisemas: 5\n",
            "Fator:  [0.09446248159231474, 0.09446248159231474, 0.09446248159231474, 0.09446248159231474, 0.09446248159231474, 0.09446248159231474, 0.09446248159231474, 0.09446248159231474, 0.09446248159231474]\n",
            "Media de falhas:  [0, 0.008232487100087591, 2.7912051329987446, 16.14335779509187, 19.442800314001595, 23.94271479457596, 34.311427856532475, 40.454249079007724, 56.64419938875367, 54.51093289029155]\n",
            "Custo =  18735.8482449551\n"
          ]
        },
        {
          "output_type": "stream",
          "name": "stderr",
          "text": [
            "pyswarms.single.global_best: 100%|██████████|1/1, best_cost=1.79e+3\n",
            "2024-03-15 18:27:47,473 - pyswarms.single.global_best - INFO - Optimization finished | best cost: 1790.4486644518884, best pos: [0.20915493 1.21532887 0.37806499 0.29446889 0.57420551 0.65677938\n",
            " 0.20630247 0.62894165 1.09397554 0.69575219 0.48446377 0.52094962\n",
            " 0.46556305 1.15410744 1.11027045 1.09221456 0.73416106 0.12100485\n",
            " 1.11843571 0.45288656 1.02768576 0.78519808 0.34288303 0.18871434]\n",
            "2024-03-15 18:27:47,478 - pyswarms.single.global_best - INFO - Optimize for 1 iters with {'c1': 0.5, 'c2': 0.3, 'w': 0.9}\n"
          ]
        },
        {
          "output_type": "stream",
          "name": "stdout",
          "text": [
            "\n",
            "=========================================================================\n",
            "\n",
            "Número de ciclos de manutenção: 5 5\n",
            "Tempos para manutenções preventivas: [0, 32, 212, 394, 544, 607]\n",
            "Severidade para cada subsistema: [0.2, 0.2, 0.2, 0.2, 0.2]\n",
            "Número de Sisemas: 5\n",
            "Fator:  [0.09446248159231474, 0.09446248159231474, 0.09446248159231474, 0.09446248159231474, 0.09446248159231474, 0.09446248159231474]\n",
            "Media de falhas:  [0, 0.009986315612474421, 2.7447063416739654, 16.263648687203318, 41.51891959033052, 56.98943714713204, 55.1255950892272]\n",
            "Custo =  11393.669085769765\n"
          ]
        },
        {
          "output_type": "stream",
          "name": "stderr",
          "text": [
            "pyswarms.single.global_best: 100%|██████████|1/1, best_cost=1.79e+3\n",
            "2024-03-15 18:27:47,508 - pyswarms.single.global_best - INFO - Optimization finished | best cost: 1790.4486644518884, best pos: [0.21006326 0.80781159 1.18142306 0.29598165 0.57419633 0.65701991\n",
            " 0.20630253 0.2507824  1.09149807 0.68512136 0.48446248 0.54445511\n",
            " 0.46558094 1.1570257  1.11085026 1.09243161 0.74115875 0.12119988\n",
            " 1.11812677 0.45288879 1.02805482 0.77753927 0.35865661 0.18846901]\n",
            "2024-03-15 18:27:47,510 - pyswarms.single.global_best - INFO - Optimize for 1 iters with {'c1': 0.5, 'c2': 0.3, 'w': 0.9}\n"
          ]
        },
        {
          "output_type": "stream",
          "name": "stdout",
          "text": [
            "\n",
            "=========================================================================\n",
            "\n",
            "Número de ciclos de manutenção: 10 5\n",
            "Tempos para manutenções preventivas: [0, 1, 35, 67, 212, 243, 308, 395, 451, 545, 604]\n",
            "Severidade para cada subsistema: [0.2, 0.2, 0.2, 0.2, 0.2, 0.2, 0.2, 0.2, 0.2, 0.2]\n",
            "Número de Sisemas: 5\n",
            "Fator:  [0.09446248159231474, 0.09446248159231474, 0.09446248159231474, 0.09446248159231474, 0.09446248159231474, 0.09446248159231474, 0.09446248159231474, 0.09446248159231474, 0.09446248159231474, 0.09446248159231474, 0.09446248159231474]\n",
            "Media de falhas:  [0, 3.1285038861667167e-07, 0.012952560523338787, 0.08159000636530431, 2.6282129849634477, 3.8302806760262227, 7.572707389149736, 15.725688151377359, 23.193928194334973, 40.67995251405377, 55.10595056958476, 54.04562940269415]\n",
            "Custo =  17431.160562794183\n"
          ]
        },
        {
          "output_type": "stream",
          "name": "stderr",
          "text": [
            "pyswarms.single.global_best: 100%|██████████|1/1, best_cost=1.79e+3\n",
            "2024-03-15 18:27:47,525 - pyswarms.single.global_best - INFO - Optimization finished | best cost: 1790.4486644518884, best pos: [0.21076491 0.4048385  0.70900136 0.29816109 0.57419189 0.65660665\n",
            " 0.20630284 1.22623427 1.0916014  0.66506041 0.48446207 0.57355019\n",
            " 0.46560003 1.15883984 1.11149646 1.09239681 0.74702949 0.12128129\n",
            " 1.11781544 0.45289215 1.02835122 0.76593481 0.36759356 0.18824353]\n",
            "2024-03-15 18:27:47,528 - pyswarms.single.global_best - INFO - Optimize for 1 iters with {'c1': 0.5, 'c2': 0.3, 'w': 0.9}\n"
          ]
        },
        {
          "output_type": "stream",
          "name": "stdout",
          "text": [
            "\n",
            "=========================================================================\n",
            "\n",
            "Número de ciclos de manutenção: 8 5\n",
            "Tempos para manutenções preventivas: [0, 37, 98, 211, 246, 395, 420, 546, 601]\n",
            "Severidade para cada subsistema: [0.2, 0.2, 0.2, 0.2, 0.2, 0.2, 0.2, 0.2]\n",
            "Número de Sisemas: 5\n",
            "Fator:  [0.09446248159231474, 0.09446248159231474, 0.09446248159231474, 0.09446248159231474, 0.09446248159231474, 0.09446248159231474, 0.09446248159231474, 0.09446248159231474, 0.09446248159231474]\n",
            "Media de falhas:  [0, 0.015419977946234351, 0.259091674065315, 2.5154963496810234, 3.8876295647550427, 15.938684710768944, 19.00690672254859, 41.29360651751631, 54.68377344464493, 54.41987207604942]\n",
            "Custo =  12578.782292683376\n"
          ]
        },
        {
          "output_type": "stream",
          "name": "stderr",
          "text": [
            "pyswarms.single.global_best: 100%|██████████|1/1, best_cost=1.79e+3\n",
            "2024-03-15 18:27:47,551 - pyswarms.single.global_best - INFO - Optimization finished | best cost: 1790.4486644518884, best pos: [0.21092144 1.24578657 0.40622189 0.30099928 0.57419468 0.65501515\n",
            " 0.20630342 0.76661778 1.09305785 0.64435627 0.48446269 0.60133023\n",
            " 0.46561964 1.15913839 1.11208946 1.09224903 0.75091082 0.12122298\n",
            " 1.11749476 0.45289737 1.02850359 0.75543377 0.36282525 0.18805606]\n",
            "2024-03-15 18:27:47,556 - pyswarms.single.global_best - INFO - Optimize for 1 iters with {'c1': 0.5, 'c2': 0.3, 'w': 0.9}\n"
          ]
        },
        {
          "output_type": "stream",
          "name": "stdout",
          "text": [
            "\n",
            "=========================================================================\n",
            "\n",
            "Número de ciclos de manutenção: 9 5\n",
            "Tempos para manutenções preventivas: [0, 38, 91, 210, 248, 304, 396, 454, 512, 546]\n",
            "Severidade para cada subsistema: [0.2, 0.2, 0.2, 0.2, 0.2, 0.2, 0.2, 0.2, 0.2]\n",
            "Número de Sisemas: 5\n",
            "Fator:  [0.09446248159231474, 0.09446248159231474, 0.09446248159231474, 0.09446248159231474, 0.09446248159231474, 0.09446248159231474, 0.09446248159231474, 0.09446248159231474, 0.09446248159231474, 0.09446248159231474]\n",
            "Media de falhas:  [0, 0.01670097372294326, 0.20628761126179343, 2.4923495290514217, 3.9911629723014483, 7.211596807227162, 15.779891612390738, 23.592025571920928, 33.65095436640858, 40.67152146002311, 53.792738999224035]\n",
            "Custo =  14945.669294961877\n"
          ]
        },
        {
          "output_type": "stream",
          "name": "stderr",
          "text": [
            "pyswarms.single.global_best: 100%|██████████|1/1, best_cost=1.79e+3\n",
            "2024-03-15 18:27:47,602 - pyswarms.single.global_best - INFO - Optimization finished | best cost: 1790.4486644518884, best pos: [0.21092945 0.70037244 0.20832276 0.3038073  0.57419918 0.65306907\n",
            " 0.20630544 0.23276474 1.09666939 0.62612995 0.4844638  0.63176945\n",
            " 0.46563757 1.1580451  1.11261489 1.09205553 0.75398472 0.12112796\n",
            " 1.11725721 0.45290238 1.02858488 0.74670855 0.34738381 0.18792632]\n",
            "2024-03-15 18:27:47,607 - pyswarms.single.global_best - INFO - Optimize for 1 iters with {'c1': 0.5, 'c2': 0.3, 'w': 0.9}\n"
          ]
        },
        {
          "output_type": "stream",
          "name": "stdout",
          "text": [
            "\n",
            "=========================================================================\n",
            "\n",
            "Número de ciclos de manutenção: 4 5\n",
            "Tempos para manutenções preventivas: [0, 5, 210, 395, 546]\n",
            "Severidade para cada subsistema: [0.2, 0.2, 0.2, 0.2]\n",
            "Número de Sisemas: 5\n",
            "Fator:  [0.09446248159231474, 0.09446248159231474, 0.09446248159231474, 0.09446248159231474, 0.09446248159231474]\n",
            "Media de falhas:  [0, 3.8633261907778527e-05, 2.7638229133526795, 16.491573692195793, 42.08208814949272, 55.203305688693646]\n",
            "Custo =  7973.140605262785\n"
          ]
        },
        {
          "output_type": "stream",
          "name": "stderr",
          "text": [
            "pyswarms.single.global_best: 100%|██████████|1/1, best_cost=1.79e+3\n",
            "2024-03-15 18:27:47,651 - pyswarms.single.global_best - INFO - Optimization finished | best cost: 1790.4486644518884, best pos: [0.21075945 0.18275607 0.15081949 0.30629882 0.57420525 0.65113939\n",
            " 0.20630749 1.15737292 1.10050034 0.61599153 0.48446492 0.66005273\n",
            " 0.46565308 1.15590319 1.11300443 1.09185338 0.75436126 0.1209682\n",
            " 1.11715479 0.45290692 1.02861762 0.74184225 0.32929596 0.18786549]\n",
            "2024-03-15 18:27:47,655 - pyswarms.single.global_best - INFO - Optimize for 1 iters with {'c1': 0.5, 'c2': 0.3, 'w': 0.9}\n"
          ]
        },
        {
          "output_type": "stream",
          "name": "stdout",
          "text": [
            "\n",
            "=========================================================================\n",
            "\n",
            "Número de ciclos de manutenção: 6 5\n",
            "Tempos para manutenções preventivas: [0, 61, 210, 303, 395, 456, 545]\n",
            "Severidade para cada subsistema: [0.2, 0.2, 0.2, 0.2, 0.2, 0.2]\n",
            "Número de Sisemas: 5\n",
            "Fator:  [0.09446248159231474, 0.09446248159231474, 0.09446248159231474, 0.09446248159231474, 0.09446248159231474, 0.09446248159231474, 0.09446248159231474]\n",
            "Media de falhas:  [0, 0.06883768377232906, 2.5779009887712316, 7.316430539913823, 15.83699942864012, 24.07989522898976, 40.77649771817751, 54.12045871070915]\n",
            "Custo =  11084.334162185176\n"
          ]
        },
        {
          "output_type": "stream",
          "name": "stderr",
          "text": [
            "pyswarms.single.global_best: 100%|██████████|1/1, best_cost=1.79e+3\n",
            "2024-03-15 18:27:47,683 - pyswarms.single.global_best - INFO - Optimization finished | best cost: 1790.4486644518884, best pos: [0.21021174 0.89589678 0.22823969 0.30839011 0.57421245 0.64941872\n",
            " 0.20630952 0.68022646 1.10408047 0.61468784 0.48446608 0.68213307\n",
            " 0.46565799 1.15285841 1.11329274 1.09161673 0.75193914 0.12079288\n",
            " 1.11706704 0.45291039 1.02837176 0.73849377 0.30707681 0.18782954]\n",
            "2024-03-15 18:27:47,690 - pyswarms.single.global_best - INFO - Optimize for 1 iters with {'c1': 0.5, 'c2': 0.3, 'w': 0.9}\n"
          ]
        },
        {
          "output_type": "stream",
          "name": "stdout",
          "text": [
            "\n",
            "=========================================================================\n",
            "\n",
            "Número de ciclos de manutenção: 4 5\n",
            "Tempos para manutenções preventivas: [0, 210, 395, 516, 544]\n",
            "Severidade para cada subsistema: [0.2, 0.2, 0.2, 0.2]\n",
            "Número de Sisemas: 5\n",
            "Fator:  [0.09446248159231474, 0.09446248159231474, 0.09446248159231474, 0.09446248159231474, 0.09446248159231474]\n",
            "Media de falhas:  [0, 2.782498143744606, 16.51024892258772, 35.56716532484688, 41.362956772203155, 54.92894964981843]\n",
            "Custo =  10556.881165228326\n"
          ]
        },
        {
          "output_type": "stream",
          "name": "stderr",
          "text": [
            "pyswarms.single.global_best: 100%|██████████|1/1, best_cost=1.79e+3\n",
            "2024-03-15 18:27:47,717 - pyswarms.single.global_best - INFO - Optimization finished | best cost: 1790.4486644518884, best pos: [0.20939942 0.28103167 0.42316776 0.30886173 0.57422004 0.64813658\n",
            " 0.20631113 0.22681979 1.10704494 0.62069774 0.48446698 0.69300855\n",
            " 0.46565767 1.14999544 1.11347169 1.09139925 0.74563649 0.12063708\n",
            " 1.11711371 0.45291194 1.02811353 0.73819867 0.28750386 0.18789313]\n",
            "2024-03-15 18:27:47,722 - pyswarms.single.global_best - INFO - Optimize for 1 iters with {'c1': 0.5, 'c2': 0.3, 'w': 0.9}\n"
          ]
        },
        {
          "output_type": "stream",
          "name": "stdout",
          "text": [
            "\n",
            "=========================================================================\n",
            "\n",
            "Número de ciclos de manutenção: 6 5\n",
            "Tempos para manutenções preventivas: [0, 1, 95, 210, 395, 456, 543]\n",
            "Severidade para cada subsistema: [0.2, 0.2, 0.2, 0.2, 0.2, 0.2]\n",
            "Número de Sisemas: 5\n",
            "Fator:  [0.09446248159231474, 0.09446248159231474, 0.09446248159231474, 0.09446248159231474, 0.09446248159231474, 0.09446248159231474, 0.09446248159231474]\n",
            "Media de falhas:  [0, 3.1285038861667167e-07, 0.25838065833398866, 2.507423462450714, 16.23517424129383, 24.47807004164347, 40.72641925102316, 54.513733758579754]\n",
            "Custo =  12044.613472329273\n"
          ]
        },
        {
          "output_type": "stream",
          "name": "stderr",
          "text": [
            "pyswarms.single.global_best: 100%|██████████|1/1, best_cost=1.79e+3\n",
            "2024-03-15 18:27:47,756 - pyswarms.single.global_best - INFO - Optimization finished | best cost: 1790.4486644518884, best pos: [0.20859537 0.91897758 0.72354133 0.30722606 0.57422671 0.64731939\n",
            " 0.20631216 1.17039196 1.10849133 0.63353944 0.48446742 0.69416943\n",
            " 0.46564801 1.14722606 1.11346131 1.09124551 0.73877616 0.12049876\n",
            " 1.11719416 0.45291314 1.02782893 0.74020702 0.27627278 0.18797217]\n",
            "2024-03-15 18:27:47,762 - pyswarms.single.global_best - INFO - Optimize for 1 iters with {'c1': 0.5, 'c2': 0.3, 'w': 0.9}\n"
          ]
        },
        {
          "output_type": "stream",
          "name": "stdout",
          "text": [
            "\n",
            "=========================================================================\n",
            "\n",
            "Número de ciclos de manutenção: 5 5\n",
            "Tempos para manutenções preventivas: [0, 35, 68, 211, 394, 542]\n",
            "Severidade para cada subsistema: [0.2, 0.2, 0.2, 0.2, 0.2]\n",
            "Número de Sisemas: 5\n",
            "Fator:  [0.09446248159231474, 0.09446248159231474, 0.09446248159231474, 0.09446248159231474, 0.09446248159231474, 0.09446248159231474]\n",
            "Media de falhas:  [0, 0.013057655388740205, 0.08543353251879168, 2.587575376303903, 16.148231477974154, 40.9465483191164, 54.954475514594975]\n",
            "Custo =  7739.22876446034\n"
          ]
        },
        {
          "output_type": "stream",
          "name": "stderr",
          "text": [
            "pyswarms.single.global_best: 100%|██████████|1/1, best_cost=1.79e+3\n",
            "2024-03-15 18:27:47,785 - pyswarms.single.global_best - INFO - Optimization finished | best cost: 1790.4486644518884, best pos: [0.20798222 0.19495207 0.98545722 0.30556518 0.57423082 0.6468752\n",
            " 0.20631271 0.69781273 1.10976807 0.64710317 0.48446769 0.68470448\n",
            " 0.4656333  1.14517436 1.11315157 1.09110772 0.73236656 0.1204201\n",
            " 1.11737548 0.45291233 1.02752667 0.74649245 0.27190864 0.18811217]\n",
            "2024-03-15 18:27:47,795 - pyswarms.single.global_best - INFO - Optimize for 1 iters with {'c1': 0.5, 'c2': 0.3, 'w': 0.9}\n"
          ]
        },
        {
          "output_type": "stream",
          "name": "stdout",
          "text": [
            "\n",
            "=========================================================================\n",
            "\n",
            "Número de ciclos de manutenção: 5 5\n",
            "Tempos para manutenções preventivas: [0, 211, 394, 450, 511, 542]\n",
            "Severidade para cada subsistema: [0.2, 0.2, 0.2, 0.2, 0.2]\n",
            "Número de Sisemas: 5\n",
            "Fator:  [0.09446248159231474, 0.09446248159231474, 0.09446248159231474, 0.09446248159231474, 0.09446248159231474, 0.09446248159231474]\n",
            "Media de falhas:  [0, 2.822336317000098, 16.382992418670348, 23.81639781345871, 34.29597244681548, 40.632985893405525, 54.6409130888841]\n",
            "Custo =  12757.148838193754\n"
          ]
        },
        {
          "output_type": "stream",
          "name": "stderr",
          "text": [
            "pyswarms.single.global_best:   0%|          |0/1<ipython-input-373-f2a244820fa5>:82: RuntimeWarning: divide by zero encountered in scalar divide\n",
            "  Ctotal.append((cmp + (mi[ck+1] - mi[ck])*CMC)/(final-T[ck]))\n",
            "pyswarms.single.global_best: 100%|██████████|1/1, best_cost=1.79e+3\n",
            "2024-03-15 18:27:47,832 - pyswarms.single.global_best - INFO - Optimization finished | best cost: 1790.4486644518884, best pos: [0.20798222 0.19495207 0.98545722 0.30556518 0.57423082 0.6468752\n",
            " 0.20631271 0.69781273 1.10976807 0.64710317 0.48446769 0.68470448\n",
            " 0.4656333  1.14517436 1.11315157 1.09110772 0.73236656 0.1204201\n",
            " 1.11737548 0.45291233 1.02752667 0.74649245 0.27190864 0.18811217]\n",
            "2024-03-15 18:27:47,838 - pyswarms.single.global_best - INFO - Optimize for 1 iters with {'c1': 0.5, 'c2': 0.3, 'w': 0.9}\n"
          ]
        },
        {
          "output_type": "stream",
          "name": "stdout",
          "text": [
            "\n",
            "=========================================================================\n",
            "\n",
            "Número de ciclos de manutenção: 5 5\n",
            "Tempos para manutenções preventivas: [0, 2, 212, 394, 541, 600]\n",
            "Severidade para cada subsistema: [0.2, 0.2, 0.2, 0.2, 0.2]\n",
            "Número de Sisemas: 5\n",
            "Fator:  [0.09446248159231474, 0.09446248159231474, 0.09446248159231474, 0.09446248159231474, 0.09446248159231474, 0.09446248159231474]\n",
            "Media de falhas:  [0, 2.48971947559441e-06, 2.8549262235044917, 16.373868569033842, 40.94505667900758, 55.17288893352999, 55.17288893352999]\n",
            "Custo =  inf\n"
          ]
        },
        {
          "output_type": "stream",
          "name": "stderr",
          "text": [
            "pyswarms.single.global_best:   0%|          |0/1, best_cost=1.79e+3"
          ]
        },
        {
          "output_type": "stream",
          "name": "stdout",
          "text": [
            "\n",
            "=========================================================================\n",
            "\n",
            "Número de ciclos de manutenção: 8 5\n",
            "Tempos para manutenções preventivas: [0, 32, 91, 212, 245, 393, 513, 541, 601]\n",
            "Severidade para cada subsistema: [0.2, 0.2, 0.2, 0.2, 0.2, 0.2, 0.2, 0.2]\n",
            "Número de Sisemas: 5\n",
            "Fator:  [0.09446248159231474, 0.09446248159231474, 0.09446248159231474, 0.09446248159231474, 0.09446248159231474, 0.09446248159231474, 0.09446248159231474, 0.09446248159231474, 0.09446248159231474]\n",
            "Media de falhas:  [0, 0.009986315612474421, 0.2085073462869824, 2.5682568806295887, 3.86048553435894, 15.717199702559434, 34.40838531066751, 40.13919249602511, 54.63643541173036, 54.372534043134856]\n",
            "Custo =  13434.5342452445\n"
          ]
        },
        {
          "output_type": "stream",
          "name": "stderr",
          "text": [
            "\rpyswarms.single.global_best: 100%|██████████|1/1, best_cost=1.79e+3\n",
            "2024-03-15 18:27:47,871 - pyswarms.single.global_best - INFO - Optimization finished | best cost: 1790.4486644518884, best pos: [0.20750586 1.07709153 1.16592331 0.30204489 0.57422955 0.64788839\n",
            " 0.2063124  1.18250412 1.10934824 0.66183161 0.48446742 0.64674889\n",
            " 0.46560348 1.14454362 1.11244197 1.09113083 0.72608017 0.12032964\n",
            " 1.11777167 0.45290745 1.0271794  0.75919232 0.28117414 0.18839446]\n",
            "2024-03-15 18:27:47,873 - pyswarms.single.global_best - INFO - Optimize for 1 iters with {'c1': 0.5, 'c2': 0.3, 'w': 0.9}\n",
            "pyswarms.single.global_best: 100%|██████████|1/1, best_cost=1.79e+3\n",
            "2024-03-15 18:27:47,899 - pyswarms.single.global_best - INFO - Optimization finished | best cost: 1790.4486644518884, best pos: [0.2076362  0.09678257 1.02307072 0.30074025 0.57422515 0.64854202\n",
            " 0.20631114 0.70080364 1.10854992 0.66194826 0.4844668  0.62701437\n",
            " 0.46559267 1.14596636 1.11211497 1.09127301 0.72583698 0.12043828\n",
            " 1.1179383  0.45290457 1.02720066 0.76540344 0.28451651 0.18849643]\n",
            "2024-03-15 18:27:47,906 - pyswarms.single.global_best - INFO - Optimize for 1 iters with {'c1': 0.5, 'c2': 0.3, 'w': 0.9}\n"
          ]
        },
        {
          "output_type": "stream",
          "name": "stdout",
          "text": [
            "\n",
            "=========================================================================\n",
            "\n",
            "Número de ciclos de manutenção: 7 5\n",
            "Tempos para manutenções preventivas: [0, 65, 184, 212, 393, 425, 542, 602]\n",
            "Severidade para cada subsistema: [0.2, 0.2, 0.2, 0.2, 0.2, 0.2, 0.2]\n",
            "Número de Sisemas: 5\n",
            "Fator:  [0.09446248159231474, 0.09446248159231474, 0.09446248159231474, 0.09446248159231474, 0.09446248159231474, 0.09446248159231474, 0.09446248159231474, 0.09446248159231474]\n",
            "Media de falhas:  [0, 0.08324693224449906, 1.7139964860071377, 2.53783229026543, 15.931912027611956, 19.895945448208177, 40.57444824052915, 55.121989946065085, 54.5934021348651]\n",
            "Custo =  13129.621091389192\n"
          ]
        },
        {
          "output_type": "stream",
          "name": "stderr",
          "text": [
            "pyswarms.single.global_best: 100%|██████████|1/1, best_cost=1.79e+3\n",
            "2024-03-15 18:27:47,934 - pyswarms.single.global_best - INFO - Optimization finished | best cost: 1790.4486644518884, best pos: [0.20776754 0.41249776 0.76146128 0.29966499 0.57422057 0.64934988\n",
            " 0.20630975 0.16509474 1.10605187 0.65990717 0.4844661  0.60941601\n",
            " 0.46558639 1.14728534 1.1118179  1.0914148  0.72626265 0.12054612\n",
            " 1.11807984 0.4529018  1.02725347 0.76990006 0.29126484 0.18853161]\n",
            "2024-03-15 18:27:47,936 - pyswarms.single.global_best - INFO - Optimize for 1 iters with {'c1': 0.5, 'c2': 0.3, 'w': 0.9}\n"
          ]
        },
        {
          "output_type": "stream",
          "name": "stdout",
          "text": [
            "\n",
            "=========================================================================\n",
            "\n",
            "Número de ciclos de manutenção: 6 5\n",
            "Tempos para manutenções preventivas: [0, 8, 212, 393, 511, 542, 602]\n",
            "Severidade para cada subsistema: [0.2, 0.2, 0.2, 0.2, 0.2, 0.2]\n",
            "Número de Sisemas: 5\n",
            "Fator:  [0.09446248159231474, 0.09446248159231474, 0.09446248159231474, 0.09446248159231474, 0.09446248159231474, 0.09446248159231474, 0.09446248159231474]\n",
            "Media de falhas:  [0, 0.00015768045049976894, 2.8321666769192206, 16.22624641426575, 34.51442352823828, 40.851436974828324, 55.39897868036426, 54.870390869164275]\n",
            "Custo =  13696.549591347219\n"
          ]
        },
        {
          "output_type": "stream",
          "name": "stderr",
          "text": [
            "pyswarms.single.global_best: 100%|██████████|1/1, best_cost=1.79e+3\n",
            "2024-03-15 18:27:47,965 - pyswarms.single.global_best - INFO - Optimization finished | best cost: 1790.4486644518884, best pos: [0.20827166 0.78471787 0.60484105 0.29931658 0.57421595 0.65019293\n",
            " 0.20630826 1.09752146 1.10290527 0.65678864 0.48446536 0.59790878\n",
            " 0.46558476 1.14884412 1.11159508 1.09154413 0.72723463 0.12068418\n",
            " 1.11813285 0.45289937 1.02733387 0.77318323 0.30223518 0.18854261]\n",
            "2024-03-15 18:27:47,970 - pyswarms.single.global_best - INFO - Optimize for 1 iters with {'c1': 0.5, 'c2': 0.3, 'w': 0.9}\n"
          ]
        },
        {
          "output_type": "stream",
          "name": "stdout",
          "text": [
            "\n",
            "=========================================================================\n",
            "\n",
            "Número de ciclos de manutenção: 6 5\n",
            "Tempos para manutenções preventivas: [0, 31, 97, 212, 393, 543, 602]\n",
            "Severidade para cada subsistema: [0.2, 0.2, 0.2, 0.2, 0.2, 0.2]\n",
            "Número de Sisemas: 5\n",
            "Fator:  [0.09446248159231474, 0.09446248159231474, 0.09446248159231474, 0.09446248159231474, 0.09446248159231474, 0.09446248159231474, 0.09446248159231474]\n",
            "Media de falhas:  [0, 0.009081230428447565, 0.2539793601081153, 2.557050955834363, 15.95113069318089, 41.10202254409761, 55.428766854190755, 54.90017904299077]\n",
            "Custo =  10762.842276739966\n"
          ]
        },
        {
          "output_type": "stream",
          "name": "stderr",
          "text": [
            "pyswarms.single.global_best: 100%|██████████|1/1, best_cost=1.79e+3\n",
            "2024-03-15 18:27:48,001 - pyswarms.single.global_best - INFO - Optimization finished | best cost: 1790.4486644518884, best pos: [0.20895451 1.21922007 0.54029297 0.29972665 0.57421227 0.65120429\n",
            " 0.20630702 0.63126171 1.10004958 0.65189334 0.48446472 0.59980578\n",
            " 0.4655938  1.15025654 1.11146967 1.09166211 0.72976059 0.12083521\n",
            " 1.11808455 0.45289777 1.02743814 0.77606492 0.31221261 0.1884955 ]\n",
            "2024-03-15 18:27:48,003 - pyswarms.single.global_best - INFO - Optimize for 1 iters with {'c1': 0.5, 'c2': 0.3, 'w': 0.9}\n"
          ]
        },
        {
          "output_type": "stream",
          "name": "stdout",
          "text": [
            "\n",
            "=========================================================================\n",
            "\n",
            "Número de ciclos de manutenção: 8 5\n",
            "Tempos para manutenções preventivas: [0, 63, 183, 212, 241, 393, 426, 544, 602]\n",
            "Severidade para cada subsistema: [0.2, 0.2, 0.2, 0.2, 0.2, 0.2, 0.2, 0.2]\n",
            "Número de Sisemas: 5\n",
            "Fator:  [0.09446248159231474, 0.09446248159231474, 0.09446248159231474, 0.09446248159231474, 0.09446248159231474, 0.09446248159231474, 0.09446248159231474, 0.09446248159231474, 0.09446248159231474]\n",
            "Media de falhas:  [0, 0.07581453031373277, 1.6890943452443252, 2.5386701647997705, 3.652173891150543, 15.712842559010205, 19.811861930791814, 40.800330614202664, 54.9055686183314, 54.37698080713142]\n",
            "Custo =  13880.365460851226\n"
          ]
        },
        {
          "output_type": "stream",
          "name": "stderr",
          "text": [
            "pyswarms.single.global_best: 100%|██████████|1/1, best_cost=1.79e+3\n",
            "2024-03-15 18:27:48,036 - pyswarms.single.global_best - INFO - Optimization finished | best cost: 1790.4486644518884, best pos: [0.20957636 0.30258984 0.58565655 0.30033934 0.57420966 0.65216818\n",
            " 0.20630607 0.08340651 1.09805582 0.64623666 0.48446424 0.60749079\n",
            " 0.46560649 1.15124448 1.11146877 1.09175503 0.73204912 0.12096841\n",
            " 1.11798184 0.45289692 1.02754471 0.77611227 0.32058279 0.18843695]\n",
            "2024-03-15 18:27:48,038 - pyswarms.single.global_best - INFO - Optimize for 1 iters with {'c1': 0.5, 'c2': 0.3, 'w': 0.9}\n"
          ]
        },
        {
          "output_type": "stream",
          "name": "stdout",
          "text": [
            "\n",
            "=========================================================================\n",
            "\n",
            "Número de ciclos de manutenção: 5 5\n",
            "Tempos para manutenções preventivas: [0, 2, 211, 393, 544, 601]\n",
            "Severidade para cada subsistema: [0.2, 0.2, 0.2, 0.2, 0.2]\n",
            "Número de Sisemas: 5\n",
            "Fator:  [0.09446248159231474, 0.09446248159231474, 0.09446248159231474, 0.09446248159231474, 0.09446248159231474, 0.09446248159231474]\n",
            "Media de falhas:  [0, 2.48971947559441e-06, 2.81478162679562, 16.250512188420885, 41.63041620396897, 55.46554293156702, 55.20164156297152]\n",
            "Custo =  10498.79375669196\n"
          ]
        },
        {
          "output_type": "stream",
          "name": "stderr",
          "text": [
            "pyswarms.single.global_best: 100%|██████████|1/1, best_cost=1.79e+3\n",
            "2024-03-15 18:27:48,061 - pyswarms.single.global_best - INFO - Optimization finished | best cost: 1790.4486644518884, best pos: [0.20957636 0.30258984 0.58565655 0.30033934 0.57420966 0.65216818\n",
            " 0.20630607 0.08340651 1.09805582 0.64623666 0.48446424 0.60749079\n",
            " 0.46560649 1.15124448 1.11146877 1.09175503 0.73204912 0.12096841\n",
            " 1.11798184 0.45289692 1.02754471 0.77611227 0.32058279 0.18843695]\n",
            "2024-03-15 18:27:48,063 - pyswarms.single.global_best - INFO - Optimize for 1 iters with {'c1': 0.5, 'c2': 0.3, 'w': 0.9}\n"
          ]
        },
        {
          "output_type": "stream",
          "name": "stdout",
          "text": [
            "\n",
            "=========================================================================\n",
            "\n",
            "Número de ciclos de manutenção: 7 5\n",
            "Tempos para manutenções preventivas: [0, 35, 187, 211, 394, 453, 545, 600]\n",
            "Severidade para cada subsistema: [0.2, 0.2, 0.2, 0.2, 0.2, 0.2, 0.2]\n",
            "Número de Sisemas: 5\n",
            "Fator:  [0.09446248159231474, 0.09446248159231474, 0.09446248159231474, 0.09446248159231474, 0.09446248159231474, 0.09446248159231474, 0.09446248159231474, 0.09446248159231474]\n",
            "Media de falhas:  [0, 0.013057655388740205, 1.8675871808944993, 2.578943980872091, 16.13960008254234, 24.03356500298115, 41.205596549676855, 54.5495575422085, 54.5495575422085]\n",
            "Custo =  inf\n"
          ]
        },
        {
          "output_type": "stream",
          "name": "stderr",
          "text": [
            "pyswarms.single.global_best:   0%|          |0/1, best_cost=1.79e+3"
          ]
        },
        {
          "output_type": "stream",
          "name": "stdout",
          "text": [
            "\n",
            "=========================================================================\n",
            "\n",
            "Número de ciclos de manutenção: 7 5\n",
            "Tempos para manutenções preventivas: [0, 60, 211, 247, 394, 514, 545, 600]\n",
            "Severidade para cada subsistema: [0.2, 0.2, 0.2, 0.2, 0.2, 0.2, 0.2]\n",
            "Número de Sisemas: 5\n",
            "Fator:  [0.09446248159231474, 0.09446248159231474, 0.09446248159231474, 0.09446248159231474, 0.09446248159231474, 0.09446248159231474, 0.09446248159231474, 0.09446248159231474]\n",
            "Media de falhas:  [0, 0.06551560813556095, 2.6183221544130717, 4.036582057328216, 15.912074990198636, 34.683882445888294, 41.092796452480385, 54.43675744501203, 54.43675744501203]\n",
            "Custo =  inf\n"
          ]
        },
        {
          "output_type": "stream",
          "name": "stderr",
          "text": [
            "\rpyswarms.single.global_best: 100%|██████████|1/1, best_cost=1.79e+3\n",
            "2024-03-15 18:27:48,094 - pyswarms.single.global_best - INFO - Optimization finished | best cost: 1790.4486644518884, best pos: [0.20957636 0.30258984 0.58565655 0.30033934 0.57420966 0.65216818\n",
            " 0.20630607 0.08340651 1.09805582 0.64623666 0.48446424 0.60749079\n",
            " 0.46560649 1.15124448 1.11146877 1.09175503 0.73204912 0.12096841\n",
            " 1.11798184 0.45289692 1.02754471 0.77611227 0.32058279 0.18843695]\n",
            "2024-03-15 18:27:48,097 - pyswarms.single.global_best - INFO - Optimize for 1 iters with {'c1': 0.5, 'c2': 0.3, 'w': 0.9}\n",
            "pyswarms.single.global_best: 100%|██████████|1/1, best_cost=1.79e+3\n",
            "2024-03-15 18:27:48,121 - pyswarms.single.global_best - INFO - Optimization finished | best cost: 1790.4486644518884, best pos: [0.20976615 1.19740232 0.84018751 0.30231567 0.57421309 0.65296628\n",
            " 0.20630635 0.2475799  1.09676471 0.63899036 0.48446482 0.62714266\n",
            " 0.46562548 1.15038002 1.11182068 1.0918382  0.73524663 0.12093827\n",
            " 1.11769357 0.45289821 1.02781371 0.76871962 0.32484318 0.18828289]\n"
          ]
        },
        {
          "output_type": "stream",
          "name": "stdout",
          "text": [
            "\n",
            "=========================================================================\n",
            "\n",
            "Número de ciclos de manutenção: 5 5\n",
            "Tempos para manutenções preventivas: [0, 180, 211, 394, 516, 544]\n",
            "Severidade para cada subsistema: [0.2, 0.2, 0.2, 0.2, 0.2]\n",
            "Número de Sisemas: 5\n",
            "Fator:  [0.09446248159231474, 0.09446248159231474, 0.09446248159231474, 0.09446248159231474, 0.09446248159231474, 0.09446248159231474]\n",
            "Media de falhas:  [0, 1.7542873810368786, 2.645612692209158, 16.20626879387941, 35.38601263435724, 41.181804081713516, 54.74779695932879]\n",
            "Custo =  10995.900340171593\n"
          ]
        },
        {
          "output_type": "stream",
          "name": "stderr",
          "text": [
            "2024-03-15 18:27:48,128 - pyswarms.single.global_best - INFO - Optimize for 1 iters with {'c1': 0.5, 'c2': 0.3, 'w': 0.9}\n",
            "pyswarms.single.global_best: 100%|██████████|1/1, best_cost=1.79e+3\n",
            "2024-03-15 18:27:48,149 - pyswarms.single.global_best - INFO - Optimization finished | best cost: 1790.4486644518884, best pos: [0.20930892 1.13749716 0.91126517 0.30248953 0.57421618 0.65254541\n",
            " 0.20630789 0.65646975 1.09896321 0.64095826 0.48446538 0.63380013\n",
            " 0.465623   1.14941901 1.1119329  1.09176488 0.73513277 0.12083518\n",
            " 1.11761431 0.45289889 1.02782299 0.76458317 0.31628664 0.18826096]\n"
          ]
        },
        {
          "output_type": "stream",
          "name": "stdout",
          "text": [
            "\n",
            "=========================================================================\n",
            "\n",
            "Número de ciclos de manutenção: 6 5\n",
            "Tempos para manutenções preventivas: [0, 36, 66, 211, 394, 512, 544]\n",
            "Severidade para cada subsistema: [0.2, 0.2, 0.2, 0.2, 0.2, 0.2]\n",
            "Número de Sisemas: 5\n",
            "Fator:  [0.09446248159231474, 0.09446248159231474, 0.09446248159231474, 0.09446248159231474, 0.09446248159231474, 0.09446248159231474, 0.09446248159231474]\n",
            "Media de falhas:  [0, 0.014206139005627371, 0.07803047418957472, 2.5933399509872266, 16.153996052657476, 34.5212623916372, 41.10119230337666, 54.667185180991936]\n",
            "Custo =  10724.584965738613\n"
          ]
        },
        {
          "output_type": "stream",
          "name": "stderr",
          "text": [
            "2024-03-15 18:27:48,161 - pyswarms.single.global_best - INFO - Optimize for 1 iters with {'c1': 0.5, 'c2': 0.3, 'w': 0.9}\n",
            "pyswarms.single.global_best: 100%|██████████|1/1, best_cost=1.79e+3\n",
            "2024-03-15 18:27:48,184 - pyswarms.single.global_best - INFO - Optimization finished | best cost: 1790.4486644518884, best pos: [0.20930892 1.13749716 0.91126517 0.30248953 0.57421618 0.65254541\n",
            " 0.20630789 0.65646975 1.09896321 0.64095826 0.48446538 0.63380013\n",
            " 0.465623   1.14941901 1.1119329  1.09176488 0.73513277 0.12083518\n",
            " 1.11761431 0.45289889 1.02782299 0.76458317 0.31628664 0.18826096]\n"
          ]
        },
        {
          "output_type": "stream",
          "name": "stdout",
          "text": [
            "\n",
            "=========================================================================\n",
            "\n",
            "Número de ciclos de manutenção: 5 5\n",
            "Tempos para manutenções preventivas: [0, 211, 394, 450, 543, 600]\n",
            "Severidade para cada subsistema: [0.2, 0.2, 0.2, 0.2, 0.2]\n",
            "Número de Sisemas: 5\n",
            "Fator:  [0.09446248159231474, 0.09446248159231474, 0.09446248159231474, 0.09446248159231474, 0.09446248159231474, 0.09446248159231474]\n",
            "Media de falhas:  [0, 2.822336317000098, 16.382992418670348, 23.81639781345871, 41.0092701161463, 54.79658462370289, 54.79658462370289]\n",
            "Custo =  inf\n"
          ]
        },
        {
          "output_type": "stream",
          "name": "stderr",
          "text": [
            "2024-03-15 18:27:48,188 - pyswarms.single.global_best - INFO - Optimize for 1 iters with {'c1': 0.5, 'c2': 0.3, 'w': 0.9}\n",
            "pyswarms.single.global_best: 100%|██████████|1/1, best_cost=1.79e+3\n",
            "2024-03-15 18:27:48,219 - pyswarms.single.global_best - INFO - Optimization finished | best cost: 1790.4486644518884, best pos: [0.20930892 1.13749716 0.91126517 0.30248953 0.57421618 0.65254541\n",
            " 0.20630789 0.65646975 1.09896321 0.64095826 0.48446538 0.63380013\n",
            " 0.465623   1.14941901 1.1119329  1.09176488 0.73513277 0.12083518\n",
            " 1.11761431 0.45289889 1.02782299 0.76458317 0.31628664 0.18826096]\n",
            "2024-03-15 18:27:48,221 - pyswarms.single.global_best - INFO - Optimize for 1 iters with {'c1': 0.5, 'c2': 0.3, 'w': 0.9}\n"
          ]
        },
        {
          "output_type": "stream",
          "name": "stdout",
          "text": [
            "\n",
            "=========================================================================\n",
            "\n",
            "Número de ciclos de manutenção: 8 5\n",
            "Tempos para manutenções preventivas: [0, 34, 180, 211, 242, 394, 425, 543, 600]\n",
            "Severidade para cada subsistema: [0.2, 0.2, 0.2, 0.2, 0.2, 0.2, 0.2, 0.2]\n",
            "Número de Sisemas: 5\n",
            "Fator:  [0.09446248159231474, 0.09446248159231474, 0.09446248159231474, 0.09446248159231474, 0.09446248159231474, 0.09446248159231474, 0.09446248159231474, 0.09446248159231474, 0.09446248159231474]\n",
            "Media de falhas:  [0, 0.011972725204655208, 1.6653502788995929, 2.556675590071872, 3.7483317663481337, 15.88146898603146, 19.72982557256746, 40.6337299001176, 54.421044407674195, 54.421044407674195]\n",
            "Custo =  inf\n"
          ]
        },
        {
          "output_type": "stream",
          "name": "stderr",
          "text": [
            "pyswarms.single.global_best: 100%|██████████|1/1, best_cost=1.79e+3\n",
            "2024-03-15 18:27:48,279 - pyswarms.single.global_best - INFO - Optimization finished | best cost: 1790.4486644518884, best pos: [0.20930892 1.13749716 0.91126517 0.30248953 0.57421618 0.65254541\n",
            " 0.20630789 0.65646975 1.09896321 0.64095826 0.48446538 0.63380013\n",
            " 0.465623   1.14941901 1.1119329  1.09176488 0.73513277 0.12083518\n",
            " 1.11761431 0.45289889 1.02782299 0.76458317 0.31628664 0.18826096]\n"
          ]
        },
        {
          "output_type": "stream",
          "name": "stdout",
          "text": [
            "\n",
            "=========================================================================\n",
            "\n",
            "Número de ciclos de manutenção: 8 5\n",
            "Tempos para manutenções preventivas: [0, 7, 68, 211, 394, 423, 455, 543, 600]\n",
            "Severidade para cada subsistema: [0.2, 0.2, 0.2, 0.2, 0.2, 0.2, 0.2, 0.2]\n",
            "Número de Sisemas: 5\n",
            "Fator:  [0.09446248159231474, 0.09446248159231474, 0.09446248159231474, 0.09446248159231474, 0.09446248159231474, 0.09446248159231474, 0.09446248159231474, 0.09446248159231474, 0.09446248159231474]\n",
            "Media de falhas:  [0, 0.00010574029634208668, 0.09256247409022864, 2.5947043178753395, 16.15536041954559, 19.73594849702272, 24.29749481701495, 40.7047456824855, 54.492060190042096, 54.492060190042096]\n",
            "Custo =  inf\n"
          ]
        },
        {
          "output_type": "stream",
          "name": "stderr",
          "text": [
            "2024-03-15 18:27:48,289 - pyswarms.single.global_best - INFO - Optimize for 1 iters with {'c1': 0.5, 'c2': 0.3, 'w': 0.9}\n",
            "pyswarms.single.global_best: 100%|██████████|1/1, best_cost=1.79e+3\n",
            "2024-03-15 18:27:48,321 - pyswarms.single.global_best - INFO - Optimization finished | best cost: 1790.4486644518884, best pos: [0.20930892 1.13749716 0.91126517 0.30248953 0.57421618 0.65254541\n",
            " 0.20630789 0.65646975 1.09896321 0.64095826 0.48446538 0.63380013\n",
            " 0.465623   1.14941901 1.1119329  1.09176488 0.73513277 0.12083518\n",
            " 1.11761431 0.45289889 1.02782299 0.76458317 0.31628664 0.18826096]\n"
          ]
        },
        {
          "output_type": "stream",
          "name": "stdout",
          "text": [
            "\n",
            "=========================================================================\n",
            "\n",
            "Número de ciclos de manutenção: 7 5\n",
            "Tempos para manutenções preventivas: [0, 64, 211, 245, 394, 511, 543, 600]\n",
            "Severidade para cada subsistema: [0.2, 0.2, 0.2, 0.2, 0.2, 0.2, 0.2]\n",
            "Número de Sisemas: 5\n",
            "Fator:  [0.09446248159231474, 0.09446248159231474, 0.09446248159231474, 0.09446248159231474, 0.09446248159231474, 0.09446248159231474, 0.09446248159231474, 0.09446248159231474]\n",
            "Media de falhas:  [0, 0.0794728898364077, 2.607608577672206, 3.9340198530623733, 15.913528739150754, 34.07979332814442, 40.635004026099686, 54.42231853365628, 54.42231853365628]\n",
            "Custo =  inf\n"
          ]
        },
        {
          "output_type": "stream",
          "name": "stderr",
          "text": [
            "2024-03-15 18:27:48,327 - pyswarms.single.global_best - INFO - Optimize for 1 iters with {'c1': 0.5, 'c2': 0.3, 'w': 0.9}\n",
            "pyswarms.single.global_best: 100%|██████████|1/1, best_cost=1.79e+3\n",
            "2024-03-15 18:27:48,360 - pyswarms.single.global_best - INFO - Optimization finished | best cost: 1790.4486644518884, best pos: [0.20930892 1.13749716 0.91126517 0.30248953 0.57421618 0.65254541\n",
            " 0.20630789 0.65646975 1.09896321 0.64095826 0.48446538 0.63380013\n",
            " 0.465623   1.14941901 1.1119329  1.09176488 0.73513277 0.12083518\n",
            " 1.11761431 0.45289889 1.02782299 0.76458317 0.31628664 0.18826096]\n"
          ]
        },
        {
          "output_type": "stream",
          "name": "stdout",
          "text": [
            "\n",
            "=========================================================================\n",
            "\n",
            "Número de ciclos de manutenção: 6 5\n",
            "Tempos para manutenções preventivas: [0, 211, 394, 452, 518, 543, 600]\n",
            "Severidade para cada subsistema: [0.2, 0.2, 0.2, 0.2, 0.2, 0.2]\n",
            "Número de Sisemas: 5\n",
            "Fator:  [0.09446248159231474, 0.09446248159231474, 0.09446248159231474, 0.09446248159231474, 0.09446248159231474, 0.09446248159231474, 0.09446248159231474]\n",
            "Media de falhas:  [0, 2.822336317000098, 16.382992418670348, 24.12269887042297, 35.68743313825864, 40.8686190883396, 54.655933595896194, 54.655933595896194]\n",
            "Custo =  inf\n"
          ]
        },
        {
          "output_type": "stream",
          "name": "stderr",
          "text": [
            "2024-03-15 18:27:48,368 - pyswarms.single.global_best - INFO - Optimize for 1 iters with {'c1': 0.5, 'c2': 0.3, 'w': 0.9}\n",
            "pyswarms.single.global_best: 100%|██████████|1/1, best_cost=1.79e+3\n",
            "2024-03-15 18:27:48,402 - pyswarms.single.global_best - INFO - Optimization finished | best cost: 1790.4486644518884, best pos: [0.20930892 1.13749716 0.91126517 0.30248953 0.57421618 0.65254541\n",
            " 0.20630789 0.65646975 1.09896321 0.64095826 0.48446538 0.63380013\n",
            " 0.465623   1.14941901 1.1119329  1.09176488 0.73513277 0.12083518\n",
            " 1.11761431 0.45289889 1.02782299 0.76458317 0.31628664 0.18826096]\n"
          ]
        },
        {
          "output_type": "stream",
          "name": "stdout",
          "text": [
            "\n",
            "=========================================================================\n",
            "\n",
            "Número de ciclos de manutenção: 5 5\n",
            "Tempos para manutenções preventivas: [0, 211, 394, 421, 544, 600]\n",
            "Severidade para cada subsistema: [0.2, 0.2, 0.2, 0.2, 0.2]\n",
            "Número de Sisemas: 5\n",
            "Fator:  [0.09446248159231474, 0.09446248159231474, 0.09446248159231474, 0.09446248159231474, 0.09446248159231474, 0.09446248159231474]\n",
            "Media de falhas:  [0, 2.822336317000098, 16.382992418670348, 19.69856362719469, 41.390158354482054, 54.956151232097326, 54.956151232097326]\n",
            "Custo =  inf\n"
          ]
        },
        {
          "output_type": "stream",
          "name": "stderr",
          "text": [
            "2024-03-15 18:27:48,408 - pyswarms.single.global_best - INFO - Optimize for 1 iters with {'c1': 0.5, 'c2': 0.3, 'w': 0.9}\n",
            "pyswarms.single.global_best: 100%|██████████|1/1, best_cost=1.79e+3\n",
            "2024-03-15 18:27:48,450 - pyswarms.single.global_best - INFO - Optimization finished | best cost: 1790.4486644518884, best pos: [0.20930892 1.13749716 0.91126517 0.30248953 0.57421618 0.65254541\n",
            " 0.20630789 0.65646975 1.09896321 0.64095826 0.48446538 0.63380013\n",
            " 0.465623   1.14941901 1.1119329  1.09176488 0.73513277 0.12083518\n",
            " 1.11761431 0.45289889 1.02782299 0.76458317 0.31628664 0.18826096]\n"
          ]
        },
        {
          "output_type": "stream",
          "name": "stdout",
          "text": [
            "\n",
            "=========================================================================\n",
            "\n",
            "Número de ciclos de manutenção: 6 5\n",
            "Tempos para manutenções preventivas: [0, 7, 211, 246, 394, 544, 600]\n",
            "Severidade para cada subsistema: [0.2, 0.2, 0.2, 0.2, 0.2, 0.2]\n",
            "Número de Sisemas: 5\n",
            "Fator:  [0.09446248159231474, 0.09446248159231474, 0.09446248159231474, 0.09446248159231474, 0.09446248159231474, 0.09446248159231474, 0.09446248159231474]\n",
            "Media de falhas:  [0, 0.00010574029634208668, 2.795978770571489, 4.168111985645508, 16.095773482242862, 41.35104438537006, 54.91703726298533, 54.91703726298533]\n",
            "Custo =  inf\n"
          ]
        },
        {
          "output_type": "stream",
          "name": "stderr",
          "text": [
            "2024-03-15 18:27:48,452 - pyswarms.single.global_best - INFO - Optimize for 1 iters with {'c1': 0.5, 'c2': 0.3, 'w': 0.9}\n",
            "pyswarms.single.global_best:   0%|          |0/1, best_cost=1.79e+3"
          ]
        },
        {
          "output_type": "stream",
          "name": "stdout",
          "text": [
            "\n",
            "=========================================================================\n",
            "\n",
            "Número de ciclos de manutenção: 6 5\n",
            "Tempos para manutenções preventivas: [0, 186, 211, 394, 455, 544, 600]\n",
            "Severidade para cada subsistema: [0.2, 0.2, 0.2, 0.2, 0.2, 0.2]\n",
            "Número de Sisemas: 5\n",
            "Fator:  [0.09446248159231474, 0.09446248159231474, 0.09446248159231474, 0.09446248159231474, 0.09446248159231474, 0.09446248159231474, 0.09446248159231474]\n",
            "Media de falhas:  [0, 1.9351488500655154, 2.672943009086264, 16.233599110756515, 24.43830569242168, 41.06932159915911, 54.63531447677438, 54.63531447677438]\n",
            "Custo =  inf\n"
          ]
        },
        {
          "output_type": "stream",
          "name": "stderr",
          "text": [
            "\rpyswarms.single.global_best: 100%|██████████|1/1, best_cost=1.79e+3\n",
            "2024-03-15 18:27:48,541 - pyswarms.single.global_best - INFO - Optimization finished | best cost: 1790.4486644518884, best pos: [0.20930892 1.13749716 0.91126517 0.30248953 0.57421618 0.65254541\n",
            " 0.20630789 0.65646975 1.09896321 0.64095826 0.48446538 0.63380013\n",
            " 0.465623   1.14941901 1.1119329  1.09176488 0.73513277 0.12083518\n",
            " 1.11761431 0.45289889 1.02782299 0.76458317 0.31628664 0.18826096]\n",
            "2024-03-15 18:27:48,554 - pyswarms.single.global_best - INFO - Optimize for 1 iters with {'c1': 0.5, 'c2': 0.3, 'w': 0.9}\n",
            "pyswarms.single.global_best:   0%|          |0/1, best_cost=1.79e+3"
          ]
        },
        {
          "output_type": "stream",
          "name": "stdout",
          "text": [
            "\n",
            "=========================================================================\n",
            "\n",
            "Número de ciclos de manutenção: 7 5\n",
            "Tempos para manutenções preventivas: [0, 35, 211, 394, 428, 513, 544, 600]\n",
            "Severidade para cada subsistema: [0.2, 0.2, 0.2, 0.2, 0.2, 0.2, 0.2]\n",
            "Número de Sisemas: 5\n",
            "Fator:  [0.09446248159231474, 0.09446248159231474, 0.09446248159231474, 0.09446248159231474, 0.09446248159231474, 0.09446248159231474, 0.09446248159231474, 0.09446248159231474]\n",
            "Media de falhas:  [0, 0.013057655388740205, 2.6954096411420507, 16.2560657428123, 20.51126538668971, 34.61522202623963, 41.00012426848436, 54.566117146099636, 54.566117146099636]\n",
            "Custo =  inf\n"
          ]
        },
        {
          "output_type": "stream",
          "name": "stderr",
          "text": [
            "\rpyswarms.single.global_best: 100%|██████████|1/1, best_cost=1.79e+3\n",
            "2024-03-15 18:27:48,624 - pyswarms.single.global_best - INFO - Optimization finished | best cost: 1790.4486644518884, best pos: [0.20930892 1.13749716 0.91126517 0.30248953 0.57421618 0.65254541\n",
            " 0.20630789 0.65646975 1.09896321 0.64095826 0.48446538 0.63380013\n",
            " 0.465623   1.14941901 1.1119329  1.09176488 0.73513277 0.12083518\n",
            " 1.11761431 0.45289889 1.02782299 0.76458317 0.31628664 0.18826096]\n",
            "2024-03-15 18:27:48,633 - pyswarms.single.global_best - INFO - Optimize for 1 iters with {'c1': 0.5, 'c2': 0.3, 'w': 0.9}\n",
            "pyswarms.single.global_best:   0%|          |0/1, best_cost=1.79e+3"
          ]
        },
        {
          "output_type": "stream",
          "name": "stdout",
          "text": [
            "\n",
            "=========================================================================\n",
            "\n",
            "Número de ciclos de manutenção: 6 5\n",
            "Tempos para manutenções preventivas: [0, 2, 211, 246, 394, 543, 600]\n",
            "Severidade para cada subsistema: [0.2, 0.2, 0.2, 0.2, 0.2, 0.2]\n",
            "Número de Sisemas: 5\n",
            "Fator:  [0.09446248159231474, 0.09446248159231474, 0.09446248159231474, 0.09446248159231474, 0.09446248159231474, 0.09446248159231474, 0.09446248159231474]\n",
            "Media de falhas:  [0, 2.48971947559441e-06, 2.81478162679562, 4.186914841869639, 16.114576338466996, 41.14092018863785, 54.928234696194444, 54.928234696194444]\n",
            "Custo =  inf\n"
          ]
        },
        {
          "output_type": "stream",
          "name": "stderr",
          "text": [
            "\rpyswarms.single.global_best: 100%|██████████|1/1, best_cost=1.79e+3\n",
            "2024-03-15 18:27:48,700 - pyswarms.single.global_best - INFO - Optimization finished | best cost: 1790.4486644518884, best pos: [0.20930892 1.13749716 0.91126517 0.30248953 0.57421618 0.65254541\n",
            " 0.20630789 0.65646975 1.09896321 0.64095826 0.48446538 0.63380013\n",
            " 0.465623   1.14941901 1.1119329  1.09176488 0.73513277 0.12083518\n",
            " 1.11761431 0.45289889 1.02782299 0.76458317 0.31628664 0.18826096]\n",
            "2024-03-15 18:27:48,707 - pyswarms.single.global_best - INFO - Optimize for 1 iters with {'c1': 0.5, 'c2': 0.3, 'w': 0.9}\n",
            "pyswarms.single.global_best:   0%|          |0/1, best_cost=1.79e+3"
          ]
        },
        {
          "output_type": "stream",
          "name": "stdout",
          "text": [
            "\n",
            "=========================================================================\n",
            "\n",
            "Número de ciclos de manutenção: 5 5\n",
            "Tempos para manutenções preventivas: [0, 180, 211, 394, 543, 600]\n",
            "Severidade para cada subsistema: [0.2, 0.2, 0.2, 0.2, 0.2]\n",
            "Número de Sisemas: 5\n",
            "Fator:  [0.09446248159231474, 0.09446248159231474, 0.09446248159231474, 0.09446248159231474, 0.09446248159231474, 0.09446248159231474]\n",
            "Media de falhas:  [0, 1.7542873810368786, 2.645612692209158, 16.20626879387941, 41.23261264405026, 55.01992715160686, 55.01992715160686]\n",
            "Custo =  inf\n"
          ]
        },
        {
          "output_type": "stream",
          "name": "stderr",
          "text": [
            "\rpyswarms.single.global_best: 100%|██████████|1/1, best_cost=1.79e+3\n",
            "2024-03-15 18:27:48,753 - pyswarms.single.global_best - INFO - Optimization finished | best cost: 1790.4486644518884, best pos: [0.20930892 1.13749716 0.91126517 0.30248953 0.57421618 0.65254541\n",
            " 0.20630789 0.65646975 1.09896321 0.64095826 0.48446538 0.63380013\n",
            " 0.465623   1.14941901 1.1119329  1.09176488 0.73513277 0.12083518\n",
            " 1.11761431 0.45289889 1.02782299 0.76458317 0.31628664 0.18826096]\n",
            "2024-03-15 18:27:48,760 - pyswarms.single.global_best - INFO - Optimize for 1 iters with {'c1': 0.5, 'c2': 0.3, 'w': 0.9}\n",
            "pyswarms.single.global_best: 100%|██████████|1/1, best_cost=1.79e+3\n",
            "2024-03-15 18:27:48,784 - pyswarms.single.global_best - INFO - Optimization finished | best cost: 1790.4486644518884, best pos: [0.20930892 1.13749716 0.91126517 0.30248953 0.57421618 0.65254541\n",
            " 0.20630789 0.65646975 1.09896321 0.64095826 0.48446538 0.63380013\n",
            " 0.465623   1.14941901 1.1119329  1.09176488 0.73513277 0.12083518\n",
            " 1.11761431 0.45289889 1.02782299 0.76458317 0.31628664 0.18826096]\n",
            "2024-03-15 18:27:48,788 - pyswarms.single.global_best - INFO - Optimize for 1 iters with {'c1': 0.5, 'c2': 0.3, 'w': 0.9}\n"
          ]
        },
        {
          "output_type": "stream",
          "name": "stdout",
          "text": [
            "\n",
            "=========================================================================\n",
            "\n",
            "Número de ciclos de manutenção: 4 5\n",
            "Tempos para manutenções preventivas: [0, 211, 394, 543, 600]\n",
            "Severidade para cada subsistema: [0.2, 0.2, 0.2, 0.2]\n",
            "Número de Sisemas: 5\n",
            "Fator:  [0.09446248159231474, 0.09446248159231474, 0.09446248159231474, 0.09446248159231474, 0.09446248159231474]\n",
            "Media de falhas:  [0, 2.822336317000098, 16.382992418670348, 41.4093362688412, 55.196650776397796, 55.196650776397796]\n",
            "Custo =  inf\n"
          ]
        },
        {
          "output_type": "stream",
          "name": "stderr",
          "text": [
            "pyswarms.single.global_best: 100%|██████████|1/1, best_cost=1.79e+3\n",
            "2024-03-15 18:27:48,809 - pyswarms.single.global_best - INFO - Optimization finished | best cost: 1790.4486644518884, best pos: [0.20930892 1.13749716 0.91126517 0.30248953 0.57421618 0.65254541\n",
            " 0.20630789 0.65646975 1.09896321 0.64095826 0.48446538 0.63380013\n",
            " 0.465623   1.14941901 1.1119329  1.09176488 0.73513277 0.12083518\n",
            " 1.11761431 0.45289889 1.02782299 0.76458317 0.31628664 0.18826096]\n",
            "2024-03-15 18:27:48,811 - pyswarms.single.global_best - INFO - Optimize for 1 iters with {'c1': 0.5, 'c2': 0.3, 'w': 0.9}\n"
          ]
        },
        {
          "output_type": "stream",
          "name": "stdout",
          "text": [
            "\n",
            "=========================================================================\n",
            "\n",
            "Número de ciclos de manutenção: 9 5\n",
            "Tempos para manutenções preventivas: [0, 61, 183, 211, 242, 394, 423, 454, 543, 600]\n",
            "Severidade para cada subsistema: [0.2, 0.2, 0.2, 0.2, 0.2, 0.2, 0.2, 0.2, 0.2]\n",
            "Número de Sisemas: 5\n",
            "Fator:  [0.09446248159231474, 0.09446248159231474, 0.09446248159231474, 0.09446248159231474, 0.09446248159231474, 0.09446248159231474, 0.09446248159231474, 0.09446248159231474, 0.09446248159231474, 0.09446248159231474]\n",
            "Media de falhas:  [0, 0.06883768377232906, 1.6926390026213323, 2.508282151784674, 3.6999383280609353, 15.833075547744262, 19.41366362522139, 23.821498232360813, 40.387056544485986, 54.17437105204258, 54.17437105204258]\n",
            "Custo =  inf\n"
          ]
        },
        {
          "output_type": "stream",
          "name": "stderr",
          "text": [
            "pyswarms.single.global_best:   0%|          |0/1, best_cost=1.79e+3"
          ]
        },
        {
          "output_type": "stream",
          "name": "stdout",
          "text": [
            "\n",
            "=========================================================================\n",
            "\n",
            "Número de ciclos de manutenção: 7 5\n",
            "Tempos para manutenções preventivas: [0, 61, 211, 394, 428, 455, 544, 600]\n",
            "Severidade para cada subsistema: [0.2, 0.2, 0.2, 0.2, 0.2, 0.2, 0.2]\n",
            "Número de Sisemas: 5\n",
            "Fator:  [0.09446248159231474, 0.09446248159231474, 0.09446248159231474, 0.09446248159231474, 0.09446248159231474, 0.09446248159231474, 0.09446248159231474, 0.09446248159231474]\n",
            "Media de falhas:  [0, 0.06883768377232906, 2.615595874085979, 16.17625197575623, 20.43145161963364, 24.318713302110854, 40.94972920884828, 54.515722086463555, 54.515722086463555]\n",
            "Custo =  inf\n"
          ]
        },
        {
          "output_type": "stream",
          "name": "stderr",
          "text": [
            "\rpyswarms.single.global_best: 100%|██████████|1/1, best_cost=1.79e+3\n",
            "2024-03-15 18:27:48,853 - pyswarms.single.global_best - INFO - Optimization finished | best cost: 1790.4486644518884, best pos: [0.20930892 1.13749716 0.91126517 0.30248953 0.57421618 0.65254541\n",
            " 0.20630789 0.65646975 1.09896321 0.64095826 0.48446538 0.63380013\n",
            " 0.465623   1.14941901 1.1119329  1.09176488 0.73513277 0.12083518\n",
            " 1.11761431 0.45289889 1.02782299 0.76458317 0.31628664 0.18826096]\n",
            "2024-03-15 18:27:48,859 - pyswarms.single.global_best - INFO - Optimize for 1 iters with {'c1': 0.5, 'c2': 0.3, 'w': 0.9}\n",
            "pyswarms.single.global_best: 100%|██████████|1/1, best_cost=1.79e+3\n",
            "2024-03-15 18:27:48,888 - pyswarms.single.global_best - INFO - Optimization finished | best cost: 1790.4486644518884, best pos: [0.20930892 1.13749716 0.91126517 0.30248953 0.57421618 0.65254541\n",
            " 0.20630789 0.65646975 1.09896321 0.64095826 0.48446538 0.63380013\n",
            " 0.465623   1.14941901 1.1119329  1.09176488 0.73513277 0.12083518\n",
            " 1.11761431 0.45289889 1.02782299 0.76458317 0.31628664 0.18826096]\n",
            "2024-03-15 18:27:48,894 - pyswarms.single.global_best - INFO - Optimize for 1 iters with {'c1': 0.5, 'c2': 0.3, 'w': 0.9}\n"
          ]
        },
        {
          "output_type": "stream",
          "name": "stdout",
          "text": [
            "\n",
            "=========================================================================\n",
            "\n",
            "Número de ciclos de manutenção: 5 5\n",
            "Tempos para manutenções preventivas: [0, 35, 211, 394, 544, 600]\n",
            "Severidade para cada subsistema: [0.2, 0.2, 0.2, 0.2, 0.2]\n",
            "Número de Sisemas: 5\n",
            "Fator:  [0.09446248159231474, 0.09446248159231474, 0.09446248159231474, 0.09446248159231474, 0.09446248159231474, 0.09446248159231474]\n",
            "Media de falhas:  [0, 0.013057655388740205, 2.6954096411420507, 16.2560657428123, 41.5113366459395, 55.07732952355477, 55.07732952355477]\n",
            "Custo =  inf\n"
          ]
        },
        {
          "output_type": "stream",
          "name": "stderr",
          "text": [
            "pyswarms.single.global_best:   0%|          |0/1, best_cost=1.79e+3"
          ]
        },
        {
          "output_type": "stream",
          "name": "stdout",
          "text": [
            "\n",
            "=========================================================================\n",
            "\n",
            "Número de ciclos de manutenção: 7 5\n",
            "Tempos para manutenções preventivas: [0, 38, 187, 211, 394, 518, 544, 600]\n",
            "Severidade para cada subsistema: [0.2, 0.2, 0.2, 0.2, 0.2, 0.2, 0.2]\n",
            "Número de Sisemas: 5\n",
            "Fator:  [0.09446248159231474, 0.09446248159231474, 0.09446248159231474, 0.09446248159231474, 0.09446248159231474, 0.09446248159231474, 0.09446248159231474, 0.09446248159231474]\n",
            "Media de falhas:  [0, 0.01670097372294326, 1.859930182900485, 2.5712869828780764, 16.131943084548325, 35.72303271241384, 41.12271400454132, 54.688706882156595, 54.688706882156595]\n",
            "Custo =  inf\n"
          ]
        },
        {
          "output_type": "stream",
          "name": "stderr",
          "text": [
            "\rpyswarms.single.global_best: 100%|██████████|1/1, best_cost=1.79e+3\n",
            "2024-03-15 18:27:48,913 - pyswarms.single.global_best - INFO - Optimization finished | best cost: 1790.4486644518884, best pos: [0.20930892 1.13749716 0.91126517 0.30248953 0.57421618 0.65254541\n",
            " 0.20630789 0.65646975 1.09896321 0.64095826 0.48446538 0.63380013\n",
            " 0.465623   1.14941901 1.1119329  1.09176488 0.73513277 0.12083518\n",
            " 1.11761431 0.45289889 1.02782299 0.76458317 0.31628664 0.18826096]\n",
            "2024-03-15 18:27:48,915 - pyswarms.single.global_best - INFO - Optimize for 1 iters with {'c1': 0.5, 'c2': 0.3, 'w': 0.9}\n",
            "pyswarms.single.global_best: 100%|██████████|1/1, best_cost=1.79e+3\n",
            "2024-03-15 18:27:48,976 - pyswarms.single.global_best - INFO - Optimization finished | best cost: 1790.4486644518884, best pos: [0.20930892 1.13749716 0.91126517 0.30248953 0.57421618 0.65254541\n",
            " 0.20630789 0.65646975 1.09896321 0.64095826 0.48446538 0.63380013\n",
            " 0.465623   1.14941901 1.1119329  1.09176488 0.73513277 0.12083518\n",
            " 1.11761431 0.45289889 1.02782299 0.76458317 0.31628664 0.18826096]\n",
            "2024-03-15 18:27:48,978 - pyswarms.single.global_best - INFO - Optimize for 1 iters with {'c1': 0.5, 'c2': 0.3, 'w': 0.9}\n"
          ]
        },
        {
          "output_type": "stream",
          "name": "stdout",
          "text": [
            "\n",
            "=========================================================================\n",
            "\n",
            "Número de ciclos de manutenção: 7 5\n",
            "Tempos para manutenções preventivas: [0, 5, 35, 211, 243, 394, 544, 600]\n",
            "Severidade para cada subsistema: [0.2, 0.2, 0.2, 0.2, 0.2, 0.2, 0.2]\n",
            "Número de Sisemas: 5\n",
            "Fator:  [0.09446248159231474, 0.09446248159231474, 0.09446248159231474, 0.09446248159231474, 0.09446248159231474, 0.09446248159231474, 0.09446248159231474, 0.09446248159231474]\n",
            "Media de falhas:  [0, 3.8633261907778527e-05, 0.012547344818170433, 2.6948993305714812, 3.9310738635231743, 16.01331929006002, 41.26859019318722, 54.834583070802495, 54.834583070802495]\n",
            "Custo =  inf\n"
          ]
        },
        {
          "output_type": "stream",
          "name": "stderr",
          "text": [
            "pyswarms.single.global_best:   0%|          |0/1, best_cost=1.79e+3"
          ]
        },
        {
          "output_type": "stream",
          "name": "stdout",
          "text": [
            "\n",
            "=========================================================================\n",
            "\n",
            "Número de ciclos de manutenção: 7 5\n",
            "Tempos para manutenções preventivas: [0, 5, 211, 244, 394, 425, 543, 600]\n",
            "Severidade para cada subsistema: [0.2, 0.2, 0.2, 0.2, 0.2, 0.2, 0.2]\n",
            "Número de Sisemas: 5\n",
            "Fator:  [0.09446248159231474, 0.09446248159231474, 0.09446248159231474, 0.09446248159231474, 0.09446248159231474, 0.09446248159231474, 0.09446248159231474, 0.09446248159231474]\n",
            "Media de falhas:  [0, 3.8633261907778527e-05, 2.8034831861987106, 4.0845754931915765, 16.115611915568433, 19.963968502104432, 40.86787282965457, 54.65518733721117, 54.65518733721117]\n",
            "Custo =  inf\n"
          ]
        },
        {
          "output_type": "stream",
          "name": "stderr",
          "text": [
            "\rpyswarms.single.global_best: 100%|██████████|1/1, best_cost=1.79e+3\n",
            "2024-03-15 18:27:49,008 - pyswarms.single.global_best - INFO - Optimization finished | best cost: 1790.4486644518884, best pos: [0.20930892 1.13749716 0.91126517 0.30248953 0.57421618 0.65254541\n",
            " 0.20630789 0.65646975 1.09896321 0.64095826 0.48446538 0.63380013\n",
            " 0.465623   1.14941901 1.1119329  1.09176488 0.73513277 0.12083518\n",
            " 1.11761431 0.45289889 1.02782299 0.76458317 0.31628664 0.18826096]\n",
            "2024-03-15 18:27:49,010 - pyswarms.single.global_best - INFO - Optimize for 1 iters with {'c1': 0.5, 'c2': 0.3, 'w': 0.9}\n",
            "pyswarms.single.global_best: 100%|██████████|1/1, best_cost=1.79e+3\n",
            "2024-03-15 18:27:49,032 - pyswarms.single.global_best - INFO - Optimization finished | best cost: 1790.4486644518884, best pos: [0.20930892 1.13749716 0.91126517 0.30248953 0.57421618 0.65254541\n",
            " 0.20630789 0.65646975 1.09896321 0.64095826 0.48446538 0.63380013\n",
            " 0.465623   1.14941901 1.1119329  1.09176488 0.73513277 0.12083518\n",
            " 1.11761431 0.45289889 1.02782299 0.76458317 0.31628664 0.18826096]\n",
            "2024-03-15 18:27:49,033 - pyswarms.single.global_best - INFO - Optimize for 1 iters with {'c1': 0.5, 'c2': 0.3, 'w': 0.9}\n"
          ]
        },
        {
          "output_type": "stream",
          "name": "stdout",
          "text": [
            "\n",
            "=========================================================================\n",
            "\n",
            "Número de ciclos de manutenção: 5 5\n",
            "Tempos para manutenções preventivas: [0, 187, 211, 394, 543, 600]\n",
            "Severidade para cada subsistema: [0.2, 0.2, 0.2, 0.2, 0.2]\n",
            "Número de Sisemas: 5\n",
            "Fator:  [0.09446248159231474, 0.09446248159231474, 0.09446248159231474, 0.09446248159231474, 0.09446248159231474, 0.09446248159231474]\n",
            "Media de falhas:  [0, 1.9664493048188796, 2.677806104796471, 16.23846220646672, 41.264806056637575, 55.05212056419417, 55.05212056419417]\n",
            "Custo =  inf\n"
          ]
        },
        {
          "output_type": "stream",
          "name": "stderr",
          "text": [
            "pyswarms.single.global_best:   0%|          |0/1, best_cost=1.79e+3"
          ]
        },
        {
          "output_type": "stream",
          "name": "stdout",
          "text": [
            "\n",
            "=========================================================================\n",
            "\n",
            "Número de ciclos de manutenção: 3 5\n",
            "Tempos para manutenções preventivas: [0, 211, 394, 543]\n",
            "Severidade para cada subsistema: [0.2, 0.2, 0.2]\n",
            "Número de Sisemas: 5\n",
            "Fator:  [0.09446248159231474, 0.09446248159231474, 0.09446248159231474, 0.09446248159231474]\n",
            "Media de falhas:  [0, 2.822336317000098, 16.382992418670348, 41.4093362688412, 55.196650776397796]\n",
            "Custo =  7528.758632848345\n"
          ]
        },
        {
          "output_type": "stream",
          "name": "stderr",
          "text": [
            "\rpyswarms.single.global_best: 100%|██████████|1/1, best_cost=1.79e+3\n",
            "2024-03-15 18:27:49,061 - pyswarms.single.global_best - INFO - Optimization finished | best cost: 1790.4486644518884, best pos: [0.20905866 1.1235484  1.04034203 0.30225276 0.57421868 0.65207858\n",
            " 0.20630865 0.29007837 1.10009088 0.64372806 0.48446581 0.6361398\n",
            " 0.46562079 1.14908544 1.11205989 1.09175909 0.73547723 0.12070187\n",
            " 1.11760073 0.45290145 1.02774484 0.75988974 0.31391947 0.1882608 ]\n",
            "2024-03-15 18:27:49,063 - pyswarms.single.global_best - INFO - Optimize for 1 iters with {'c1': 0.5, 'c2': 0.3, 'w': 0.9}\n",
            "pyswarms.single.global_best: 100%|██████████|1/1, best_cost=1.79e+3\n",
            "2024-03-15 18:27:49,081 - pyswarms.single.global_best - INFO - Optimization finished | best cost: 1790.4486644518884, best pos: [0.20905866 1.1235484  1.04034203 0.30225276 0.57421868 0.65207858\n",
            " 0.20630865 0.29007837 1.10009088 0.64372806 0.48446581 0.6361398\n",
            " 0.46562079 1.14908544 1.11205989 1.09175909 0.73547723 0.12070187\n",
            " 1.11760073 0.45290145 1.02774484 0.75988974 0.31391947 0.1882608 ]\n",
            "2024-03-15 18:27:49,084 - pyswarms.single.global_best - INFO - Optimize for 1 iters with {'c1': 0.5, 'c2': 0.3, 'w': 0.9}\n"
          ]
        },
        {
          "output_type": "stream",
          "name": "stdout",
          "text": [
            "\n",
            "=========================================================================\n",
            "\n",
            "Número de ciclos de manutenção: 6 5\n",
            "Tempos para manutenções preventivas: [0, 211, 394, 423, 453, 543, 600]\n",
            "Severidade para cada subsistema: [0.2, 0.2, 0.2, 0.2, 0.2, 0.2]\n",
            "Número de Sisemas: 5\n",
            "Fator:  [0.09446248159231474, 0.09446248159231474, 0.09446248159231474, 0.09446248159231474, 0.09446248159231474, 0.09446248159231474, 0.09446248159231474]\n",
            "Media de falhas:  [0, 2.822336317000098, 16.382992418670348, 19.963580496147475, 24.21844129899995, 40.94171416324241, 54.729028670799, 54.729028670799]\n",
            "Custo =  inf\n"
          ]
        },
        {
          "output_type": "stream",
          "name": "stderr",
          "text": [
            "pyswarms.single.global_best:   0%|          |0/1, best_cost=1.79e+3"
          ]
        },
        {
          "output_type": "stream",
          "name": "stdout",
          "text": [
            "\n",
            "=========================================================================\n",
            "\n",
            "Número de ciclos de manutenção: 5 5\n",
            "Tempos para manutenções preventivas: [0, 181, 211, 394, 543, 600]\n",
            "Severidade para cada subsistema: [0.2, 0.2, 0.2, 0.2, 0.2]\n",
            "Número de Sisemas: 5\n",
            "Fator:  [0.09446248159231474, 0.09446248159231474, 0.09446248159231474, 0.09446248159231474, 0.09446248159231474, 0.09446248159231474]\n",
            "Media de falhas:  [0, 1.7836135170253284, 2.6499499928710604, 16.210606094541312, 41.236949944712165, 55.02426445226876, 55.02426445226876]\n",
            "Custo =  inf\n"
          ]
        },
        {
          "output_type": "stream",
          "name": "stderr",
          "text": [
            "\rpyswarms.single.global_best: 100%|██████████|1/1, best_cost=1.79e+3\n",
            "2024-03-15 18:27:49,131 - pyswarms.single.global_best - INFO - Optimization finished | best cost: 1790.4486644518884, best pos: [0.20905866 1.1235484  1.04034203 0.30225276 0.57421868 0.65207858\n",
            " 0.20630865 0.29007837 1.10009088 0.64372806 0.48446581 0.6361398\n",
            " 0.46562079 1.14908544 1.11205989 1.09175909 0.73547723 0.12070187\n",
            " 1.11760073 0.45290145 1.02774484 0.75988974 0.31391947 0.1882608 ]\n",
            "2024-03-15 18:27:49,142 - pyswarms.single.global_best - INFO - Optimize for 1 iters with {'c1': 0.5, 'c2': 0.3, 'w': 0.9}\n",
            "pyswarms.single.global_best:   0%|          |0/1, best_cost=1.79e+3"
          ]
        },
        {
          "output_type": "stream",
          "name": "stdout",
          "text": [
            "\n",
            "=========================================================================\n",
            "\n",
            "Número de ciclos de manutenção: 4 5\n",
            "Tempos para manutenções preventivas: [0, 211, 394, 543, 600]\n",
            "Severidade para cada subsistema: [0.2, 0.2, 0.2, 0.2]\n",
            "Número de Sisemas: 5\n",
            "Fator:  [0.09446248159231474, 0.09446248159231474, 0.09446248159231474, 0.09446248159231474, 0.09446248159231474]\n",
            "Media de falhas:  [0, 2.822336317000098, 16.382992418670348, 41.4093362688412, 55.196650776397796, 55.196650776397796]\n",
            "Custo =  inf\n"
          ]
        },
        {
          "output_type": "stream",
          "name": "stderr",
          "text": [
            "\rpyswarms.single.global_best: 100%|██████████|1/1, best_cost=1.79e+3\n",
            "2024-03-15 18:27:49,179 - pyswarms.single.global_best - INFO - Optimization finished | best cost: 1790.4486644518884, best pos: [0.20905866 1.1235484  1.04034203 0.30225276 0.57421868 0.65207858\n",
            " 0.20630865 0.29007837 1.10009088 0.64372806 0.48446581 0.6361398\n",
            " 0.46562079 1.14908544 1.11205989 1.09175909 0.73547723 0.12070187\n",
            " 1.11760073 0.45290145 1.02774484 0.75988974 0.31391947 0.1882608 ]\n",
            "2024-03-15 18:27:49,186 - pyswarms.single.global_best - INFO - Optimize for 1 iters with {'c1': 0.5, 'c2': 0.3, 'w': 0.9}\n",
            "pyswarms.single.global_best: 100%|██████████|1/1, best_cost=1.79e+3\n",
            "2024-03-15 18:27:49,213 - pyswarms.single.global_best - INFO - Optimization finished | best cost: 1790.4486644518884, best pos: [0.20905866 1.1235484  1.04034203 0.30225276 0.57421868 0.65207858\n",
            " 0.20630865 0.29007837 1.10009088 0.64372806 0.48446581 0.6361398\n",
            " 0.46562079 1.14908544 1.11205989 1.09175909 0.73547723 0.12070187\n",
            " 1.11760073 0.45290145 1.02774484 0.75988974 0.31391947 0.1882608 ]\n",
            "2024-03-15 18:27:49,216 - pyswarms.single.global_best - INFO - Optimize for 1 iters with {'c1': 0.5, 'c2': 0.3, 'w': 0.9}\n"
          ]
        },
        {
          "output_type": "stream",
          "name": "stdout",
          "text": [
            "\n",
            "=========================================================================\n",
            "\n",
            "Número de ciclos de manutenção: 5 5\n",
            "Tempos para manutenções preventivas: [0, 180, 211, 394, 543, 600]\n",
            "Severidade para cada subsistema: [0.2, 0.2, 0.2, 0.2, 0.2]\n",
            "Número de Sisemas: 5\n",
            "Fator:  [0.09446248159231474, 0.09446248159231474, 0.09446248159231474, 0.09446248159231474, 0.09446248159231474, 0.09446248159231474]\n",
            "Media de falhas:  [0, 1.7542873810368786, 2.645612692209158, 16.20626879387941, 41.23261264405026, 55.01992715160686, 55.01992715160686]\n",
            "Custo =  inf\n"
          ]
        },
        {
          "output_type": "stream",
          "name": "stderr",
          "text": [
            "pyswarms.single.global_best: 100%|██████████|1/1, best_cost=1.79e+3\n",
            "2024-03-15 18:27:49,236 - pyswarms.single.global_best - INFO - Optimization finished | best cost: 1790.4486644518884, best pos: [0.20905866 1.1235484  1.04034203 0.30225276 0.57421868 0.65207858\n",
            " 0.20630865 0.29007837 1.10009088 0.64372806 0.48446581 0.6361398\n",
            " 0.46562079 1.14908544 1.11205989 1.09175909 0.73547723 0.12070187\n",
            " 1.11760073 0.45290145 1.02774484 0.75988974 0.31391947 0.1882608 ]\n",
            "2024-03-15 18:27:49,240 - pyswarms.single.global_best - INFO - Optimize for 1 iters with {'c1': 0.5, 'c2': 0.3, 'w': 0.9}\n"
          ]
        },
        {
          "output_type": "stream",
          "name": "stdout",
          "text": [
            "\n",
            "=========================================================================\n",
            "\n",
            "Número de ciclos de manutenção: 5 5\n",
            "Tempos para manutenções preventivas: [0, 211, 394, 424, 543, 600]\n",
            "Severidade para cada subsistema: [0.2, 0.2, 0.2, 0.2, 0.2]\n",
            "Número de Sisemas: 5\n",
            "Fator:  [0.09446248159231474, 0.09446248159231474, 0.09446248159231474, 0.09446248159231474, 0.09446248159231474, 0.09446248159231474]\n",
            "Media de falhas:  [0, 2.822336317000098, 16.382992418670348, 20.09711991083053, 41.1421169298237, 54.929431437380295, 54.929431437380295]\n",
            "Custo =  inf\n"
          ]
        },
        {
          "output_type": "stream",
          "name": "stderr",
          "text": [
            "pyswarms.single.global_best: 100%|██████████|1/1, best_cost=1.79e+3\n",
            "2024-03-15 18:27:49,261 - pyswarms.single.global_best - INFO - Optimization finished | best cost: 1790.4486644518884, best pos: [0.20905866 1.1235484  1.04034203 0.30225276 0.57421868 0.65207858\n",
            " 0.20630865 0.29007837 1.10009088 0.64372806 0.48446581 0.6361398\n",
            " 0.46562079 1.14908544 1.11205989 1.09175909 0.73547723 0.12070187\n",
            " 1.11760073 0.45290145 1.02774484 0.75988974 0.31391947 0.1882608 ]\n",
            "2024-03-15 18:27:49,271 - pyswarms.single.global_best - INFO - Optimize for 1 iters with {'c1': 0.5, 'c2': 0.3, 'w': 0.9}\n"
          ]
        },
        {
          "output_type": "stream",
          "name": "stdout",
          "text": [
            "\n",
            "=========================================================================\n",
            "\n",
            "Número de ciclos de manutenção: 6 5\n",
            "Tempos para manutenções preventivas: [0, 180, 211, 242, 394, 543, 600]\n",
            "Severidade para cada subsistema: [0.2, 0.2, 0.2, 0.2, 0.2, 0.2]\n",
            "Número de Sisemas: 5\n",
            "Fator:  [0.09446248159231474, 0.09446248159231474, 0.09446248159231474, 0.09446248159231474, 0.09446248159231474, 0.09446248159231474, 0.09446248159231474]\n",
            "Media de falhas:  [0, 1.7542873810368786, 2.645612692209158, 3.8372688684854195, 15.970406088168748, 40.996749938339605, 54.7840644458962, 54.7840644458962]\n",
            "Custo =  inf\n"
          ]
        },
        {
          "output_type": "stream",
          "name": "stderr",
          "text": [
            "pyswarms.single.global_best: 100%|██████████|1/1, best_cost=1.79e+3\n",
            "2024-03-15 18:27:49,295 - pyswarms.single.global_best - INFO - Optimization finished | best cost: 1790.4486644518884, best pos: [0.20923402 1.1440026  0.42857009 0.30256843 0.57421346 0.65212344\n",
            " 0.20630876 0.10784868 1.09876352 0.64606705 0.48446567 0.63432315\n",
            " 0.46562262 1.14924059 1.11200058 1.09174264 0.73546706 0.1207989\n",
            " 1.11764822 0.45290154 1.02765857 0.76149302 0.31566122 0.18828976]\n"
          ]
        },
        {
          "output_type": "stream",
          "name": "stdout",
          "text": [
            "\n",
            "=========================================================================\n",
            "\n",
            "Número de ciclos de manutenção: 4 5\n",
            "Tempos para manutenções preventivas: [0, 211, 245, 394, 543]\n",
            "Severidade para cada subsistema: [0.2, 0.2, 0.2, 0.2]\n",
            "Número de Sisemas: 5\n",
            "Fator:  [0.09446248159231474, 0.09446248159231474, 0.09446248159231474, 0.09446248159231474, 0.09446248159231474]\n",
            "Media de falhas:  [0, 2.822336317000098, 4.148747592390265, 16.128256478478647, 41.1546003286495, 54.941914836206095]\n",
            "Custo =  8269.71910312556\n"
          ]
        },
        {
          "output_type": "stream",
          "name": "stderr",
          "text": [
            "2024-03-15 18:27:49,309 - pyswarms.single.global_best - INFO - Optimize for 1 iters with {'c1': 0.5, 'c2': 0.3, 'w': 0.9}\n",
            "pyswarms.single.global_best: 100%|██████████|1/1, best_cost=1.79e+3\n",
            "2024-03-15 18:27:49,335 - pyswarms.single.global_best - INFO - Optimization finished | best cost: 1790.4486644518884, best pos: [0.20923925 1.13996657 1.1872748  0.3026954  0.5742116  0.65207724\n",
            " 0.20630875 1.18144691 1.09890232 0.64540707 0.4844657  0.63340422\n",
            " 0.4656228  1.14921801 1.11198094 1.09178473 0.73543157 0.12079754\n",
            " 1.11765129 0.45290141 1.02766952 0.76208862 0.31556396 0.18829112]\n",
            "2024-03-15 18:27:49,337 - pyswarms.single.global_best - INFO - Optimize for 1 iters with {'c1': 0.5, 'c2': 0.3, 'w': 0.9}\n"
          ]
        },
        {
          "output_type": "stream",
          "name": "stdout",
          "text": [
            "\n",
            "=========================================================================\n",
            "\n",
            "Número de ciclos de manutenção: 5 5\n",
            "Tempos para manutenções preventivas: [0, 211, 248, 394, 456, 543]\n",
            "Severidade para cada subsistema: [0.2, 0.2, 0.2, 0.2, 0.2]\n",
            "Número de Sisemas: 5\n",
            "Fator:  [0.09446248159231474, 0.09446248159231474, 0.09446248159231474, 0.09446248159231474, 0.09446248159231474, 0.09446248159231474]\n",
            "Media de falhas:  [0, 2.822336317000098, 4.28712943272493, 16.11013130663971, 24.47132461812692, 40.71967382750661, 54.506988335063205]\n",
            "Custo =  10629.282217831995\n"
          ]
        },
        {
          "output_type": "stream",
          "name": "stderr",
          "text": [
            "pyswarms.single.global_best: 100%|██████████|1/1, best_cost=1.79e+3"
          ]
        },
        {
          "output_type": "stream",
          "name": "stdout",
          "text": [
            "\n",
            "=========================================================================\n",
            "\n",
            "Número de ciclos de manutenção: 5 5\n",
            "Tempos para manutenções preventivas: [0, 186, 211, 394, 543, 600]\n",
            "Severidade para cada subsistema: [0.2, 0.2, 0.2, 0.2, 0.2]\n",
            "Número de Sisemas: 5\n",
            "Fator:  [0.09446248159231474, 0.09446248159231474, 0.09446248159231474, 0.09446248159231474, 0.09446248159231474, 0.09446248159231474]\n",
            "Media de falhas:  [0, 1.9351488500655154, 2.672943009086264, 16.233599110756515, 41.25994296092737, 55.04725746848396, 55.04725746848396]\n",
            "Custo =  inf\n"
          ]
        },
        {
          "output_type": "stream",
          "name": "stderr",
          "text": [
            "\n",
            "2024-03-15 18:27:49,378 - pyswarms.single.global_best - INFO - Optimization finished | best cost: 1790.4486644518884, best pos: [0.20923925 1.13996657 1.1872748  0.3026954  0.5742116  0.65207724\n",
            " 0.20630875 1.18144691 1.09890232 0.64540707 0.4844657  0.63340422\n",
            " 0.4656228  1.14921801 1.11198094 1.09178473 0.73543157 0.12079754\n",
            " 1.11765129 0.45290141 1.02766952 0.76208862 0.31556396 0.18829112]\n",
            "2024-03-15 18:27:49,381 - pyswarms.single.global_best - INFO - Optimize for 1 iters with {'c1': 0.5, 'c2': 0.3, 'w': 0.9}\n",
            "pyswarms.single.global_best: 100%|██████████|1/1, best_cost=1.79e+3"
          ]
        },
        {
          "output_type": "stream",
          "name": "stdout",
          "text": [
            "\n",
            "=========================================================================\n",
            "\n",
            "Número de ciclos de manutenção: 4 5\n",
            "Tempos para manutenções preventivas: [0, 211, 394, 543, 600]\n",
            "Severidade para cada subsistema: [0.2, 0.2, 0.2, 0.2]\n",
            "Número de Sisemas: 5\n",
            "Fator:  [0.09446248159231474, 0.09446248159231474, 0.09446248159231474, 0.09446248159231474, 0.09446248159231474]\n",
            "Media de falhas:  [0, 2.822336317000098, 16.382992418670348, 41.4093362688412, 55.196650776397796, 55.196650776397796]\n",
            "Custo =  inf\n"
          ]
        },
        {
          "output_type": "stream",
          "name": "stderr",
          "text": [
            "\n",
            "2024-03-15 18:27:49,416 - pyswarms.single.global_best - INFO - Optimization finished | best cost: 1790.4486644518884, best pos: [0.20923925 1.13996657 1.1872748  0.3026954  0.5742116  0.65207724\n",
            " 0.20630875 1.18144691 1.09890232 0.64540707 0.4844657  0.63340422\n",
            " 0.4656228  1.14921801 1.11198094 1.09178473 0.73543157 0.12079754\n",
            " 1.11765129 0.45290141 1.02766952 0.76208862 0.31556396 0.18829112]\n",
            "2024-03-15 18:27:49,421 - pyswarms.single.global_best - INFO - Optimize for 1 iters with {'c1': 0.5, 'c2': 0.3, 'w': 0.9}\n",
            "pyswarms.single.global_best: 100%|██████████|1/1, best_cost=1.79e+3"
          ]
        },
        {
          "output_type": "stream",
          "name": "stdout",
          "text": [
            "\n",
            "=========================================================================\n",
            "\n",
            "Número de ciclos de manutenção: 5 5\n",
            "Tempos para manutenções preventivas: [0, 184, 211, 394, 543, 600]\n",
            "Severidade para cada subsistema: [0.2, 0.2, 0.2, 0.2, 0.2]\n",
            "Número de Sisemas: 5\n",
            "Fator:  [0.09446248159231474, 0.09446248159231474, 0.09446248159231474, 0.09446248159231474, 0.09446248159231474, 0.09446248159231474]\n",
            "Media de falhas:  [0, 1.8735466674238237, 2.6634826771705207, 16.22413877884077, 41.25048262901163, 55.03779713656822, 55.03779713656822]\n",
            "Custo =  inf\n"
          ]
        },
        {
          "output_type": "stream",
          "name": "stderr",
          "text": [
            "\n",
            "2024-03-15 18:27:49,452 - pyswarms.single.global_best - INFO - Optimization finished | best cost: 1790.4486644518884, best pos: [0.20923925 1.13996657 1.1872748  0.3026954  0.5742116  0.65207724\n",
            " 0.20630875 1.18144691 1.09890232 0.64540707 0.4844657  0.63340422\n",
            " 0.4656228  1.14921801 1.11198094 1.09178473 0.73543157 0.12079754\n",
            " 1.11765129 0.45290141 1.02766952 0.76208862 0.31556396 0.18829112]\n",
            "2024-03-15 18:27:49,461 - pyswarms.single.global_best - INFO - Optimize for 1 iters with {'c1': 0.5, 'c2': 0.3, 'w': 0.9}\n",
            "pyswarms.single.global_best: 100%|██████████|1/1, best_cost=1.79e+3"
          ]
        },
        {
          "output_type": "stream",
          "name": "stdout",
          "text": [
            "\n",
            "=========================================================================\n",
            "\n",
            "Número de ciclos de manutenção: 4 5\n",
            "Tempos para manutenções preventivas: [0, 211, 394, 543, 600]\n",
            "Severidade para cada subsistema: [0.2, 0.2, 0.2, 0.2]\n",
            "Número de Sisemas: 5\n",
            "Fator:  [0.09446248159231474, 0.09446248159231474, 0.09446248159231474, 0.09446248159231474, 0.09446248159231474]\n",
            "Media de falhas:  [0, 2.822336317000098, 16.382992418670348, 41.4093362688412, 55.196650776397796, 55.196650776397796]\n",
            "Custo =  inf\n"
          ]
        },
        {
          "output_type": "stream",
          "name": "stderr",
          "text": [
            "\n",
            "2024-03-15 18:27:49,496 - pyswarms.single.global_best - INFO - Optimization finished | best cost: 1790.4486644518884, best pos: [0.20923925 1.13996657 1.1872748  0.3026954  0.5742116  0.65207724\n",
            " 0.20630875 1.18144691 1.09890232 0.64540707 0.4844657  0.63340422\n",
            " 0.4656228  1.14921801 1.11198094 1.09178473 0.73543157 0.12079754\n",
            " 1.11765129 0.45290141 1.02766952 0.76208862 0.31556396 0.18829112]\n",
            "2024-03-15 18:27:49,504 - pyswarms.single.global_best - INFO - Optimize for 1 iters with {'c1': 0.5, 'c2': 0.3, 'w': 0.9}\n",
            "pyswarms.single.global_best: 100%|██████████|1/1, best_cost=1.79e+3"
          ]
        },
        {
          "output_type": "stream",
          "name": "stdout",
          "text": [
            "\n",
            "=========================================================================\n",
            "\n",
            "Número de ciclos de manutenção: 4 5\n",
            "Tempos para manutenções preventivas: [0, 211, 394, 543, 600]\n",
            "Severidade para cada subsistema: [0.2, 0.2, 0.2, 0.2]\n",
            "Número de Sisemas: 5\n",
            "Fator:  [0.09446248159231474, 0.09446248159231474, 0.09446248159231474, 0.09446248159231474, 0.09446248159231474]\n",
            "Media de falhas:  [0, 2.822336317000098, 16.382992418670348, 41.4093362688412, 55.196650776397796, 55.196650776397796]\n",
            "Custo =  inf\n"
          ]
        },
        {
          "output_type": "stream",
          "name": "stderr",
          "text": [
            "\n",
            "2024-03-15 18:27:49,532 - pyswarms.single.global_best - INFO - Optimization finished | best cost: 1790.4486644518884, best pos: [0.20923925 1.13996657 1.1872748  0.3026954  0.5742116  0.65207724\n",
            " 0.20630875 1.18144691 1.09890232 0.64540707 0.4844657  0.63340422\n",
            " 0.4656228  1.14921801 1.11198094 1.09178473 0.73543157 0.12079754\n",
            " 1.11765129 0.45290141 1.02766952 0.76208862 0.31556396 0.18829112]\n",
            "2024-03-15 18:27:49,543 - pyswarms.single.global_best - INFO - Optimize for 1 iters with {'c1': 0.5, 'c2': 0.3, 'w': 0.9}\n",
            "pyswarms.single.global_best: 100%|██████████|1/1, best_cost=1.79e+3"
          ]
        },
        {
          "output_type": "stream",
          "name": "stdout",
          "text": [
            "\n",
            "=========================================================================\n",
            "\n",
            "Número de ciclos de manutenção: 6 5\n",
            "Tempos para manutenções preventivas: [0, 185, 211, 394, 452, 543, 600]\n",
            "Severidade para cada subsistema: [0.2, 0.2, 0.2, 0.2, 0.2, 0.2]\n",
            "Número de Sisemas: 5\n",
            "Fator:  [0.09446248159231474, 0.09446248159231474, 0.09446248159231474, 0.09446248159231474, 0.09446248159231474, 0.09446248159231474, 0.09446248159231474]\n",
            "Media de falhas:  [0, 1.9041818974339435, 2.668168685097759, 16.22882478676801, 23.96853123852063, 40.8489270752638, 54.636241582820396, 54.636241582820396]\n",
            "Custo =  inf\n"
          ]
        },
        {
          "output_type": "stream",
          "name": "stderr",
          "text": [
            "\n",
            "2024-03-15 18:27:49,598 - pyswarms.single.global_best - INFO - Optimization finished | best cost: 1790.4486644518884, best pos: [0.20923925 1.13996657 1.1872748  0.3026954  0.5742116  0.65207724\n",
            " 0.20630875 1.18144691 1.09890232 0.64540707 0.4844657  0.63340422\n",
            " 0.4656228  1.14921801 1.11198094 1.09178473 0.73543157 0.12079754\n",
            " 1.11765129 0.45290141 1.02766952 0.76208862 0.31556396 0.18829112]\n",
            "2024-03-15 18:27:49,622 - pyswarms.single.global_best - INFO - Optimize for 1 iters with {'c1': 0.5, 'c2': 0.3, 'w': 0.9}\n",
            "pyswarms.single.global_best: 100%|██████████|1/1, best_cost=1.79e+3"
          ]
        },
        {
          "output_type": "stream",
          "name": "stdout",
          "text": [
            "\n",
            "=========================================================================\n",
            "\n",
            "Número de ciclos de manutenção: 5 5\n",
            "Tempos para manutenções preventivas: [0, 64, 211, 394, 458, 543]\n",
            "Severidade para cada subsistema: [0.2, 0.2, 0.2, 0.2, 0.2]\n",
            "Número de Sisemas: 5\n",
            "Fator:  [0.09446248159231474, 0.09446248159231474, 0.09446248159231474, 0.09446248159231474, 0.09446248159231474, 0.09446248159231474]\n",
            "Media de falhas:  [0, 0.0794728898364077, 2.607608577672206, 16.168264679342457, 24.844672091856033, 40.7734301012588, 54.5607446088154]\n",
            "Custo =  10006.511154544503\n"
          ]
        },
        {
          "output_type": "stream",
          "name": "stderr",
          "text": [
            "\n",
            "2024-03-15 18:27:49,653 - pyswarms.single.global_best - INFO - Optimization finished | best cost: 1790.4486644518884, best pos: [0.20920997 1.14051379 0.16380577 0.30223712 0.57421467 0.65181297\n",
            " 0.20630871 0.0146356  1.0983179  0.64647645 0.48446565 0.63601185\n",
            " 0.46562221 1.14917757 1.1120419  1.09167548 0.73587824 0.12080111\n",
            " 1.11766143 0.45290259 1.02764567 0.76181063 0.31180953 0.18828916]\n",
            "2024-03-15 18:27:49,662 - pyswarms.single.global_best - INFO - Optimize for 1 iters with {'c1': 0.5, 'c2': 0.3, 'w': 0.9}\n",
            "pyswarms.single.global_best: 100%|██████████|1/1, best_cost=1.79e+3"
          ]
        },
        {
          "output_type": "stream",
          "name": "stdout",
          "text": [
            "\n",
            "=========================================================================\n",
            "\n",
            "Número de ciclos de manutenção: 4 5\n",
            "Tempos para manutenções preventivas: [0, 180, 211, 394, 543]\n",
            "Severidade para cada subsistema: [0.2, 0.2, 0.2, 0.2]\n",
            "Número de Sisemas: 5\n",
            "Fator:  [0.09446248159231474, 0.09446248159231474, 0.09446248159231474, 0.09446248159231474, 0.09446248159231474]\n",
            "Media de falhas:  [0, 1.7542873810368786, 2.645612692209158, 16.20626879387941, 41.23261264405026, 55.01992715160686]\n",
            "Custo =  7971.744233446598\n"
          ]
        },
        {
          "output_type": "stream",
          "name": "stderr",
          "text": [
            "\n",
            "2024-03-15 18:27:49,686 - pyswarms.single.global_best - INFO - Optimization finished | best cost: 1790.4486644518884, best pos: [0.20920479 1.14098309 0.03912482 0.30222383 0.57421455 0.65181545\n",
            " 0.20630871 0.3600165  1.09808063 0.64665338 0.48446566 0.63586761\n",
            " 0.46562241 1.14918623 1.11206039 1.09168166 0.73574626 0.12079818\n",
            " 1.1176586  0.45290278 1.02764263 0.76215695 0.31338788 0.18828921]\n",
            "2024-03-15 18:27:49,697 - pyswarms.single.global_best - INFO - Optimize for 1 iters with {'c1': 0.5, 'c2': 0.3, 'w': 0.9}\n",
            "pyswarms.single.global_best: 100%|██████████|1/1, best_cost=1.79e+3"
          ]
        },
        {
          "output_type": "stream",
          "name": "stdout",
          "text": [
            "\n",
            "=========================================================================\n",
            "\n",
            "Número de ciclos de manutenção: 5 5\n",
            "Tempos para manutenções preventivas: [0, 211, 394, 458, 543, 600]\n",
            "Severidade para cada subsistema: [0.2, 0.2, 0.2, 0.2, 0.2]\n",
            "Número de Sisemas: 5\n",
            "Fator:  [0.09446248159231474, 0.09446248159231474, 0.09446248159231474, 0.09446248159231474, 0.09446248159231474, 0.09446248159231474]\n",
            "Media de falhas:  [0, 2.822336317000098, 16.382992418670348, 25.059399831183924, 40.988157840586695, 54.77547234814329, 54.77547234814329]\n",
            "Custo =  inf\n"
          ]
        },
        {
          "output_type": "stream",
          "name": "stderr",
          "text": [
            "\n",
            "2024-03-15 18:27:49,732 - pyswarms.single.global_best - INFO - Optimization finished | best cost: 1790.4486644518884, best pos: [0.20920479 1.14098309 0.03912482 0.30222383 0.57421455 0.65181545\n",
            " 0.20630871 0.3600165  1.09808063 0.64665338 0.48446566 0.63586761\n",
            " 0.46562241 1.14918623 1.11206039 1.09168166 0.73574626 0.12079818\n",
            " 1.1176586  0.45290278 1.02764263 0.76215695 0.31338788 0.18828921]\n",
            "2024-03-15 18:27:49,740 - pyswarms.single.global_best - INFO - Optimize for 1 iters with {'c1': 0.5, 'c2': 0.3, 'w': 0.9}\n",
            "pyswarms.single.global_best: 100%|██████████|1/1, best_cost=1.79e+3"
          ]
        },
        {
          "output_type": "stream",
          "name": "stdout",
          "text": [
            "\n",
            "=========================================================================\n",
            "\n",
            "Número de ciclos de manutenção: 4 5\n",
            "Tempos para manutenções preventivas: [0, 211, 394, 543, 600]\n",
            "Severidade para cada subsistema: [0.2, 0.2, 0.2, 0.2]\n",
            "Número de Sisemas: 5\n",
            "Fator:  [0.09446248159231474, 0.09446248159231474, 0.09446248159231474, 0.09446248159231474, 0.09446248159231474]\n",
            "Media de falhas:  [0, 2.822336317000098, 16.382992418670348, 41.4093362688412, 55.196650776397796, 55.196650776397796]\n",
            "Custo =  inf\n"
          ]
        },
        {
          "output_type": "stream",
          "name": "stderr",
          "text": [
            "\n",
            "2024-03-15 18:27:49,767 - pyswarms.single.global_best - INFO - Optimization finished | best cost: 1790.4486644518884, best pos: [0.20920479 1.14098309 0.03912482 0.30222383 0.57421455 0.65181545\n",
            " 0.20630871 0.3600165  1.09808063 0.64665338 0.48446566 0.63586761\n",
            " 0.46562241 1.14918623 1.11206039 1.09168166 0.73574626 0.12079818\n",
            " 1.1176586  0.45290278 1.02764263 0.76215695 0.31338788 0.18828921]\n",
            "2024-03-15 18:27:49,772 - pyswarms.single.global_best - INFO - Optimize for 1 iters with {'c1': 0.5, 'c2': 0.3, 'w': 0.9}\n",
            "pyswarms.single.global_best: 100%|██████████|1/1, best_cost=1.79e+3"
          ]
        },
        {
          "output_type": "stream",
          "name": "stdout",
          "text": [
            "\n",
            "=========================================================================\n",
            "\n",
            "Número de ciclos de manutenção: 5 5\n",
            "Tempos para manutenções preventivas: [0, 211, 394, 422, 543, 600]\n",
            "Severidade para cada subsistema: [0.2, 0.2, 0.2, 0.2, 0.2]\n",
            "Número de Sisemas: 5\n",
            "Fator:  [0.09446248159231474, 0.09446248159231474, 0.09446248159231474, 0.09446248159231474, 0.09446248159231474, 0.09446248159231474]\n",
            "Media de falhas:  [0, 2.822336317000098, 16.382992418670348, 19.83072899149962, 41.1562523974587, 54.943566905015295, 54.943566905015295]\n",
            "Custo =  inf\n"
          ]
        },
        {
          "output_type": "stream",
          "name": "stderr",
          "text": [
            "\n",
            "2024-03-15 18:27:49,803 - pyswarms.single.global_best - INFO - Optimization finished | best cost: 1790.4486644518884, best pos: [0.20920479 1.14098309 0.03912482 0.30222383 0.57421455 0.65181545\n",
            " 0.20630871 0.3600165  1.09808063 0.64665338 0.48446566 0.63586761\n",
            " 0.46562241 1.14918623 1.11206039 1.09168166 0.73574626 0.12079818\n",
            " 1.1176586  0.45290278 1.02764263 0.76215695 0.31338788 0.18828921]\n",
            "2024-03-15 18:27:49,811 - pyswarms.single.global_best - INFO - Optimize for 1 iters with {'c1': 0.5, 'c2': 0.3, 'w': 0.9}\n",
            "pyswarms.single.global_best: 100%|██████████|1/1, best_cost=1.79e+3\n",
            "2024-03-15 18:27:49,831 - pyswarms.single.global_best - INFO - Optimization finished | best cost: 1790.4486644518884, best pos: [0.20920479 1.14098309 0.03912482 0.30222383 0.57421455 0.65181545\n",
            " 0.20630871 0.3600165  1.09808063 0.64665338 0.48446566 0.63586761\n",
            " 0.46562241 1.14918623 1.11206039 1.09168166 0.73574626 0.12079818\n",
            " 1.1176586  0.45290278 1.02764263 0.76215695 0.31338788 0.18828921]\n",
            "2024-03-15 18:27:49,833 - pyswarms.single.global_best - INFO - Optimize for 1 iters with {'c1': 0.5, 'c2': 0.3, 'w': 0.9}\n"
          ]
        },
        {
          "output_type": "stream",
          "name": "stdout",
          "text": [
            "\n",
            "=========================================================================\n",
            "\n",
            "Número de ciclos de manutenção: 5 5\n",
            "Tempos para manutenções preventivas: [0, 211, 394, 427, 543, 600]\n",
            "Severidade para cada subsistema: [0.2, 0.2, 0.2, 0.2, 0.2]\n",
            "Número de Sisemas: 5\n",
            "Fator:  [0.09446248159231474, 0.09446248159231474, 0.09446248159231474, 0.09446248159231474, 0.09446248159231474, 0.09446248159231474]\n",
            "Media de falhas:  [0, 2.822336317000098, 16.382992418670348, 20.5018833114937, 41.12193668235166, 54.909251189908254, 54.909251189908254]\n",
            "Custo =  inf\n"
          ]
        },
        {
          "output_type": "stream",
          "name": "stderr",
          "text": [
            "pyswarms.single.global_best: 100%|██████████|1/1, best_cost=1.79e+3\n",
            "2024-03-15 18:27:49,858 - pyswarms.single.global_best - INFO - Optimization finished | best cost: 1790.4486644518884, best pos: [0.20920479 1.14098309 0.03912482 0.30222383 0.57421455 0.65181545\n",
            " 0.20630871 0.3600165  1.09808063 0.64665338 0.48446566 0.63586761\n",
            " 0.46562241 1.14918623 1.11206039 1.09168166 0.73574626 0.12079818\n",
            " 1.1176586  0.45290278 1.02764263 0.76215695 0.31338788 0.18828921]\n",
            "2024-03-15 18:27:49,860 - pyswarms.single.global_best - INFO - Optimize for 1 iters with {'c1': 0.5, 'c2': 0.3, 'w': 0.9}\n"
          ]
        },
        {
          "output_type": "stream",
          "name": "stdout",
          "text": [
            "\n",
            "=========================================================================\n",
            "\n",
            "Número de ciclos de manutenção: 7 5\n",
            "Tempos para manutenções preventivas: [0, 188, 211, 394, 428, 452, 543, 600]\n",
            "Severidade para cada subsistema: [0.2, 0.2, 0.2, 0.2, 0.2, 0.2, 0.2]\n",
            "Número de Sisemas: 5\n",
            "Fator:  [0.09446248159231474, 0.09446248159231474, 0.09446248159231474, 0.09446248159231474, 0.09446248159231474, 0.09446248159231474, 0.09446248159231474, 0.09446248159231474]\n",
            "Media de falhas:  [0, 1.9980850411220341, 2.6827584278702243, 16.243414529540473, 20.498614173417884, 23.927996399438925, 40.8083922361821, 54.595706743738695, 54.595706743738695]\n",
            "Custo =  inf\n"
          ]
        },
        {
          "output_type": "stream",
          "name": "stderr",
          "text": [
            "pyswarms.single.global_best:   0%|          |0/1, best_cost=1.79e+3"
          ]
        },
        {
          "output_type": "stream",
          "name": "stdout",
          "text": [
            "\n",
            "=========================================================================\n",
            "\n",
            "Número de ciclos de manutenção: 6 5\n",
            "Tempos para manutenções preventivas: [0, 211, 394, 421, 454, 543, 600]\n",
            "Severidade para cada subsistema: [0.2, 0.2, 0.2, 0.2, 0.2, 0.2]\n",
            "Número de Sisemas: 5\n",
            "Fator:  [0.09446248159231474, 0.09446248159231474, 0.09446248159231474, 0.09446248159231474, 0.09446248159231474, 0.09446248159231474, 0.09446248159231474]\n",
            "Media de falhas:  [0, 2.822336317000098, 16.382992418670348, 19.69856362719469, 24.372088706635694, 40.93764701876087, 54.724961526317465, 54.724961526317465]\n",
            "Custo =  inf\n"
          ]
        },
        {
          "output_type": "stream",
          "name": "stderr",
          "text": [
            "\rpyswarms.single.global_best: 100%|██████████|1/1, best_cost=1.79e+3\n",
            "2024-03-15 18:27:49,903 - pyswarms.single.global_best - INFO - Optimization finished | best cost: 1790.4486644518884, best pos: [0.20920479 1.14098309 0.03912482 0.30222383 0.57421455 0.65181545\n",
            " 0.20630871 0.3600165  1.09808063 0.64665338 0.48446566 0.63586761\n",
            " 0.46562241 1.14918623 1.11206039 1.09168166 0.73574626 0.12079818\n",
            " 1.1176586  0.45290278 1.02764263 0.76215695 0.31338788 0.18828921]\n",
            "2024-03-15 18:27:49,908 - pyswarms.single.global_best - INFO - Optimize for 1 iters with {'c1': 0.5, 'c2': 0.3, 'w': 0.9}\n",
            "pyswarms.single.global_best:   0%|          |0/1, best_cost=1.79e+3"
          ]
        },
        {
          "output_type": "stream",
          "name": "stdout",
          "text": [
            "\n",
            "=========================================================================\n",
            "\n",
            "Número de ciclos de manutenção: 4 5\n",
            "Tempos para manutenções preventivas: [0, 211, 394, 543, 600]\n",
            "Severidade para cada subsistema: [0.2, 0.2, 0.2, 0.2]\n",
            "Número de Sisemas: 5\n",
            "Fator:  [0.09446248159231474, 0.09446248159231474, 0.09446248159231474, 0.09446248159231474, 0.09446248159231474]\n",
            "Media de falhas:  [0, 2.822336317000098, 16.382992418670348, 41.4093362688412, 55.196650776397796, 55.196650776397796]\n",
            "Custo =  inf\n"
          ]
        },
        {
          "output_type": "stream",
          "name": "stderr",
          "text": [
            "\rpyswarms.single.global_best: 100%|██████████|1/1, best_cost=1.79e+3\n",
            "2024-03-15 18:27:49,937 - pyswarms.single.global_best - INFO - Optimization finished | best cost: 1790.4486644518884, best pos: [0.20920479 1.14098309 0.03912482 0.30222383 0.57421455 0.65181545\n",
            " 0.20630871 0.3600165  1.09808063 0.64665338 0.48446566 0.63586761\n",
            " 0.46562241 1.14918623 1.11206039 1.09168166 0.73574626 0.12079818\n",
            " 1.1176586  0.45290278 1.02764263 0.76215695 0.31338788 0.18828921]\n",
            "2024-03-15 18:27:49,941 - pyswarms.single.global_best - INFO - Optimize for 1 iters with {'c1': 0.5, 'c2': 0.3, 'w': 0.9}\n",
            "pyswarms.single.global_best: 100%|██████████|1/1, best_cost=1.79e+3\n",
            "2024-03-15 18:27:49,964 - pyswarms.single.global_best - INFO - Optimization finished | best cost: 1790.4486644518884, best pos: [0.20920479 1.14098309 0.03912482 0.30222383 0.57421455 0.65181545\n",
            " 0.20630871 0.3600165  1.09808063 0.64665338 0.48446566 0.63586761\n",
            " 0.46562241 1.14918623 1.11206039 1.09168166 0.73574626 0.12079818\n",
            " 1.1176586  0.45290278 1.02764263 0.76215695 0.31338788 0.18828921]\n",
            "2024-03-15 18:27:49,966 - pyswarms.single.global_best - INFO - Optimize for 1 iters with {'c1': 0.5, 'c2': 0.3, 'w': 0.9}\n"
          ]
        },
        {
          "output_type": "stream",
          "name": "stdout",
          "text": [
            "\n",
            "=========================================================================\n",
            "\n",
            "Número de ciclos de manutenção: 5 5\n",
            "Tempos para manutenções preventivas: [0, 187, 211, 394, 543, 600]\n",
            "Severidade para cada subsistema: [0.2, 0.2, 0.2, 0.2, 0.2]\n",
            "Número de Sisemas: 5\n",
            "Fator:  [0.09446248159231474, 0.09446248159231474, 0.09446248159231474, 0.09446248159231474, 0.09446248159231474, 0.09446248159231474]\n",
            "Media de falhas:  [0, 1.9664493048188796, 2.677806104796471, 16.23846220646672, 41.264806056637575, 55.05212056419417, 55.05212056419417]\n",
            "Custo =  inf\n"
          ]
        },
        {
          "output_type": "stream",
          "name": "stderr",
          "text": [
            "pyswarms.single.global_best: 100%|██████████|1/1, best_cost=1.79e+3\n",
            "2024-03-15 18:27:49,991 - pyswarms.single.global_best - INFO - Optimization finished | best cost: 1790.4486644518884, best pos: [0.20920479 1.14098309 0.03912482 0.30222383 0.57421455 0.65181545\n",
            " 0.20630871 0.3600165  1.09808063 0.64665338 0.48446566 0.63586761\n",
            " 0.46562241 1.14918623 1.11206039 1.09168166 0.73574626 0.12079818\n",
            " 1.1176586  0.45290278 1.02764263 0.76215695 0.31338788 0.18828921]\n",
            "2024-03-15 18:27:49,997 - pyswarms.single.global_best - INFO - Optimize for 1 iters with {'c1': 0.5, 'c2': 0.3, 'w': 0.9}\n"
          ]
        },
        {
          "output_type": "stream",
          "name": "stdout",
          "text": [
            "\n",
            "=========================================================================\n",
            "\n",
            "Número de ciclos de manutenção: 4 5\n",
            "Tempos para manutenções preventivas: [0, 211, 394, 543, 600]\n",
            "Severidade para cada subsistema: [0.2, 0.2, 0.2, 0.2]\n",
            "Número de Sisemas: 5\n",
            "Fator:  [0.09446248159231474, 0.09446248159231474, 0.09446248159231474, 0.09446248159231474, 0.09446248159231474]\n",
            "Media de falhas:  [0, 2.822336317000098, 16.382992418670348, 41.4093362688412, 55.196650776397796, 55.196650776397796]\n",
            "Custo =  inf\n"
          ]
        },
        {
          "output_type": "stream",
          "name": "stderr",
          "text": [
            "pyswarms.single.global_best: 100%|██████████|1/1, best_cost=1.79e+3\n",
            "2024-03-15 18:27:50,027 - pyswarms.single.global_best - INFO - Optimization finished | best cost: 1790.4486644518884, best pos: [0.20920479 1.14098309 0.03912482 0.30222383 0.57421455 0.65181545\n",
            " 0.20630871 0.3600165  1.09808063 0.64665338 0.48446566 0.63586761\n",
            " 0.46562241 1.14918623 1.11206039 1.09168166 0.73574626 0.12079818\n",
            " 1.1176586  0.45290278 1.02764263 0.76215695 0.31338788 0.18828921]\n",
            "2024-03-15 18:27:50,032 - pyswarms.single.global_best - INFO - Optimize for 1 iters with {'c1': 0.5, 'c2': 0.3, 'w': 0.9}\n"
          ]
        },
        {
          "output_type": "stream",
          "name": "stdout",
          "text": [
            "\n",
            "=========================================================================\n",
            "\n",
            "Número de ciclos de manutenção: 5 5\n",
            "Tempos para manutenções preventivas: [0, 182, 211, 394, 543, 600]\n",
            "Severidade para cada subsistema: [0.2, 0.2, 0.2, 0.2, 0.2]\n",
            "Número de Sisemas: 5\n",
            "Fator:  [0.09446248159231474, 0.09446248159231474, 0.09446248159231474, 0.09446248159231474, 0.09446248159231474, 0.09446248159231474]\n",
            "Media de falhas:  [0, 1.813264256902497, 2.654373786764541, 16.215029888434792, 41.241373738605645, 55.02868824616224, 55.02868824616224]\n",
            "Custo =  inf\n"
          ]
        },
        {
          "output_type": "stream",
          "name": "stderr",
          "text": [
            "pyswarms.single.global_best: 100%|██████████|1/1, best_cost=1.79e+3\n",
            "2024-03-15 18:27:50,055 - pyswarms.single.global_best - INFO - Optimization finished | best cost: 1790.4486644518884, best pos: [0.20920479 1.14098309 0.03912482 0.30222383 0.57421455 0.65181545\n",
            " 0.20630871 0.3600165  1.09808063 0.64665338 0.48446566 0.63586761\n",
            " 0.46562241 1.14918623 1.11206039 1.09168166 0.73574626 0.12079818\n",
            " 1.1176586  0.45290278 1.02764263 0.76215695 0.31338788 0.18828921]\n",
            "2024-03-15 18:27:50,060 - pyswarms.single.global_best - INFO - Optimize for 1 iters with {'c1': 0.5, 'c2': 0.3, 'w': 0.9}\n"
          ]
        },
        {
          "output_type": "stream",
          "name": "stdout",
          "text": [
            "\n",
            "=========================================================================\n",
            "\n",
            "Número de ciclos de manutenção: 4 5\n",
            "Tempos para manutenções preventivas: [0, 211, 394, 543, 600]\n",
            "Severidade para cada subsistema: [0.2, 0.2, 0.2, 0.2]\n",
            "Número de Sisemas: 5\n",
            "Fator:  [0.09446248159231474, 0.09446248159231474, 0.09446248159231474, 0.09446248159231474, 0.09446248159231474]\n",
            "Media de falhas:  [0, 2.822336317000098, 16.382992418670348, 41.4093362688412, 55.196650776397796, 55.196650776397796]\n",
            "Custo =  inf\n"
          ]
        },
        {
          "output_type": "stream",
          "name": "stderr",
          "text": [
            "pyswarms.single.global_best: 100%|██████████|1/1, best_cost=1.79e+3\n",
            "2024-03-15 18:27:50,079 - pyswarms.single.global_best - INFO - Optimization finished | best cost: 1790.4486644518884, best pos: [0.20920479 1.14098309 0.03912482 0.30222383 0.57421455 0.65181545\n",
            " 0.20630871 0.3600165  1.09808063 0.64665338 0.48446566 0.63586761\n",
            " 0.46562241 1.14918623 1.11206039 1.09168166 0.73574626 0.12079818\n",
            " 1.1176586  0.45290278 1.02764263 0.76215695 0.31338788 0.18828921]\n",
            "2024-03-15 18:27:50,086 - pyswarms.single.global_best - INFO - Optimize for 1 iters with {'c1': 0.5, 'c2': 0.3, 'w': 0.9}\n"
          ]
        },
        {
          "output_type": "stream",
          "name": "stdout",
          "text": [
            "\n",
            "=========================================================================\n",
            "\n",
            "Número de ciclos de manutenção: 5 5\n",
            "Tempos para manutenções preventivas: [0, 188, 211, 394, 543, 600]\n",
            "Severidade para cada subsistema: [0.2, 0.2, 0.2, 0.2, 0.2]\n",
            "Número de Sisemas: 5\n",
            "Fator:  [0.09446248159231474, 0.09446248159231474, 0.09446248159231474, 0.09446248159231474, 0.09446248159231474, 0.09446248159231474]\n",
            "Media de falhas:  [0, 1.9980850411220341, 2.6827584278702243, 16.243414529540473, 41.26975837971133, 55.05707288726792, 55.05707288726792]\n",
            "Custo =  inf\n"
          ]
        },
        {
          "output_type": "stream",
          "name": "stderr",
          "text": [
            "pyswarms.single.global_best: 100%|██████████|1/1, best_cost=1.79e+3\n",
            "2024-03-15 18:27:50,105 - pyswarms.single.global_best - INFO - Optimization finished | best cost: 1790.4486644518884, best pos: [0.20920479 1.14098309 0.03912482 0.30222383 0.57421455 0.65181545\n",
            " 0.20630871 0.3600165  1.09808063 0.64665338 0.48446566 0.63586761\n",
            " 0.46562241 1.14918623 1.11206039 1.09168166 0.73574626 0.12079818\n",
            " 1.1176586  0.45290278 1.02764263 0.76215695 0.31338788 0.18828921]\n",
            "2024-03-15 18:27:50,109 - pyswarms.single.global_best - INFO - Optimize for 1 iters with {'c1': 0.5, 'c2': 0.3, 'w': 0.9}\n"
          ]
        },
        {
          "output_type": "stream",
          "name": "stdout",
          "text": [
            "\n",
            "=========================================================================\n",
            "\n",
            "Número de ciclos de manutenção: 4 5\n",
            "Tempos para manutenções preventivas: [0, 211, 394, 543, 600]\n",
            "Severidade para cada subsistema: [0.2, 0.2, 0.2, 0.2]\n",
            "Número de Sisemas: 5\n",
            "Fator:  [0.09446248159231474, 0.09446248159231474, 0.09446248159231474, 0.09446248159231474, 0.09446248159231474]\n",
            "Media de falhas:  [0, 2.822336317000098, 16.382992418670348, 41.4093362688412, 55.196650776397796, 55.196650776397796]\n",
            "Custo =  inf\n"
          ]
        },
        {
          "output_type": "stream",
          "name": "stderr",
          "text": [
            "pyswarms.single.global_best: 100%|██████████|1/1, best_cost=1.79e+3\n",
            "2024-03-15 18:27:50,140 - pyswarms.single.global_best - INFO - Optimization finished | best cost: 1790.4486644518884, best pos: [0.20920479 1.14098309 0.03912482 0.30222383 0.57421455 0.65181545\n",
            " 0.20630871 0.3600165  1.09808063 0.64665338 0.48446566 0.63586761\n",
            " 0.46562241 1.14918623 1.11206039 1.09168166 0.73574626 0.12079818\n",
            " 1.1176586  0.45290278 1.02764263 0.76215695 0.31338788 0.18828921]\n",
            "2024-03-15 18:27:50,142 - pyswarms.single.global_best - INFO - Optimize for 1 iters with {'c1': 0.5, 'c2': 0.3, 'w': 0.9}\n"
          ]
        },
        {
          "output_type": "stream",
          "name": "stdout",
          "text": [
            "\n",
            "=========================================================================\n",
            "\n",
            "Número de ciclos de manutenção: 5 5\n",
            "Tempos para manutenções preventivas: [0, 183, 211, 394, 543, 600]\n",
            "Severidade para cada subsistema: [0.2, 0.2, 0.2, 0.2, 0.2]\n",
            "Número de Sisemas: 5\n",
            "Fator:  [0.09446248159231474, 0.09446248159231474, 0.09446248159231474, 0.09446248159231474, 0.09446248159231474, 0.09446248159231474]\n",
            "Media de falhas:  [0, 1.8432413804620789, 2.658884529625421, 16.219540631295672, 41.245884481466526, 55.03319898902312, 55.03319898902312]\n",
            "Custo =  inf\n"
          ]
        },
        {
          "output_type": "stream",
          "name": "stderr",
          "text": [
            "pyswarms.single.global_best: 100%|██████████|1/1, best_cost=1.79e+3\n",
            "2024-03-15 18:27:50,169 - pyswarms.single.global_best - INFO - Optimization finished | best cost: 1790.4486644518884, best pos: [0.20920479 1.14098309 0.03912482 0.30222383 0.57421455 0.65181545\n",
            " 0.20630871 0.3600165  1.09808063 0.64665338 0.48446566 0.63586761\n",
            " 0.46562241 1.14918623 1.11206039 1.09168166 0.73574626 0.12079818\n",
            " 1.1176586  0.45290278 1.02764263 0.76215695 0.31338788 0.18828921]\n",
            "2024-03-15 18:27:50,173 - pyswarms.single.global_best - INFO - Optimize for 1 iters with {'c1': 0.5, 'c2': 0.3, 'w': 0.9}\n"
          ]
        },
        {
          "output_type": "stream",
          "name": "stdout",
          "text": [
            "\n",
            "=========================================================================\n",
            "\n",
            "Número de ciclos de manutenção: 5 5\n",
            "Tempos para manutenções preventivas: [0, 61, 211, 394, 543, 600]\n",
            "Severidade para cada subsistema: [0.2, 0.2, 0.2, 0.2, 0.2]\n",
            "Número de Sisemas: 5\n",
            "Fator:  [0.09446248159231474, 0.09446248159231474, 0.09446248159231474, 0.09446248159231474, 0.09446248159231474, 0.09446248159231474]\n",
            "Media de falhas:  [0, 0.06883768377232906, 2.615595874085979, 16.17625197575623, 41.202595825927084, 54.98991033348368, 54.98991033348368]\n",
            "Custo =  inf\n"
          ]
        },
        {
          "output_type": "stream",
          "name": "stderr",
          "text": [
            "pyswarms.single.global_best:   0%|          |0/1, best_cost=1.79e+3"
          ]
        },
        {
          "output_type": "stream",
          "name": "stdout",
          "text": [
            "\n",
            "=========================================================================\n",
            "\n",
            "Número de ciclos de manutenção: 6 5\n",
            "Tempos para manutenções preventivas: [0, 62, 185, 211, 394, 543, 600]\n",
            "Severidade para cada subsistema: [0.2, 0.2, 0.2, 0.2, 0.2, 0.2]\n",
            "Número de Sisemas: 5\n",
            "Fator:  [0.09446248159231474, 0.09446248159231474, 0.09446248159231474, 0.09446248159231474, 0.09446248159231474, 0.09446248159231474, 0.09446248159231474]\n",
            "Media de falhas:  [0, 0.07227005969223721, 1.7479876836087, 2.5119744712725156, 16.072630572942767, 41.09897442311362, 54.88628893067021, 54.88628893067021]\n",
            "Custo =  inf\n"
          ]
        },
        {
          "output_type": "stream",
          "name": "stderr",
          "text": [
            "\rpyswarms.single.global_best: 100%|██████████|1/1, best_cost=1.79e+3\n",
            "2024-03-15 18:27:50,196 - pyswarms.single.global_best - INFO - Optimization finished | best cost: 1790.4486644518884, best pos: [0.20920479 1.14098309 0.03912482 0.30222383 0.57421455 0.65181545\n",
            " 0.20630871 0.3600165  1.09808063 0.64665338 0.48446566 0.63586761\n",
            " 0.46562241 1.14918623 1.11206039 1.09168166 0.73574626 0.12079818\n",
            " 1.1176586  0.45290278 1.02764263 0.76215695 0.31338788 0.18828921]\n",
            "2024-03-15 18:27:50,201 - pyswarms.single.global_best - INFO - Optimize for 1 iters with {'c1': 0.5, 'c2': 0.3, 'w': 0.9}\n",
            "pyswarms.single.global_best:   0%|          |0/1, best_cost=1.79e+3"
          ]
        },
        {
          "output_type": "stream",
          "name": "stdout",
          "text": [
            "\n",
            "=========================================================================\n",
            "\n",
            "Número de ciclos de manutenção: 4 5\n",
            "Tempos para manutenções preventivas: [0, 211, 394, 543, 600]\n",
            "Severidade para cada subsistema: [0.2, 0.2, 0.2, 0.2]\n",
            "Número de Sisemas: 5\n",
            "Fator:  [0.09446248159231474, 0.09446248159231474, 0.09446248159231474, 0.09446248159231474, 0.09446248159231474]\n",
            "Media de falhas:  [0, 2.822336317000098, 16.382992418670348, 41.4093362688412, 55.196650776397796, 55.196650776397796]\n",
            "Custo =  inf\n"
          ]
        },
        {
          "output_type": "stream",
          "name": "stderr",
          "text": [
            "\rpyswarms.single.global_best: 100%|██████████|1/1, best_cost=1.79e+3\n",
            "2024-03-15 18:27:50,232 - pyswarms.single.global_best - INFO - Optimization finished | best cost: 1790.4486644518884, best pos: [0.20920479 1.14098309 0.03912482 0.30222383 0.57421455 0.65181545\n",
            " 0.20630871 0.3600165  1.09808063 0.64665338 0.48446566 0.63586761\n",
            " 0.46562241 1.14918623 1.11206039 1.09168166 0.73574626 0.12079818\n",
            " 1.1176586  0.45290278 1.02764263 0.76215695 0.31338788 0.18828921]\n",
            "2024-03-15 18:27:50,234 - pyswarms.single.global_best - INFO - Optimize for 1 iters with {'c1': 0.5, 'c2': 0.3, 'w': 0.9}\n",
            "pyswarms.single.global_best:   0%|          |0/1, best_cost=1.79e+3"
          ]
        },
        {
          "output_type": "stream",
          "name": "stdout",
          "text": [
            "\n",
            "=========================================================================\n",
            "\n",
            "Número de ciclos de manutenção: 4 5\n",
            "Tempos para manutenções preventivas: [0, 211, 394, 543, 600]\n",
            "Severidade para cada subsistema: [0.2, 0.2, 0.2, 0.2]\n",
            "Número de Sisemas: 5\n",
            "Fator:  [0.09446248159231474, 0.09446248159231474, 0.09446248159231474, 0.09446248159231474, 0.09446248159231474]\n",
            "Media de falhas:  [0, 2.822336317000098, 16.382992418670348, 41.4093362688412, 55.196650776397796, 55.196650776397796]\n",
            "Custo =  inf\n"
          ]
        },
        {
          "output_type": "stream",
          "name": "stderr",
          "text": [
            "\rpyswarms.single.global_best: 100%|██████████|1/1, best_cost=1.79e+3\n",
            "2024-03-15 18:27:50,258 - pyswarms.single.global_best - INFO - Optimization finished | best cost: 1790.4486644518884, best pos: [0.20920479 1.14098309 0.03912482 0.30222383 0.57421455 0.65181545\n",
            " 0.20630871 0.3600165  1.09808063 0.64665338 0.48446566 0.63586761\n",
            " 0.46562241 1.14918623 1.11206039 1.09168166 0.73574626 0.12079818\n",
            " 1.1176586  0.45290278 1.02764263 0.76215695 0.31338788 0.18828921]\n",
            "2024-03-15 18:27:50,260 - pyswarms.single.global_best - INFO - Optimize for 1 iters with {'c1': 0.5, 'c2': 0.3, 'w': 0.9}\n",
            "pyswarms.single.global_best:   0%|          |0/1, best_cost=1.79e+3"
          ]
        },
        {
          "output_type": "stream",
          "name": "stdout",
          "text": [
            "\n",
            "=========================================================================\n",
            "\n",
            "Número de ciclos de manutenção: 5 5\n",
            "Tempos para manutenções preventivas: [0, 187, 211, 394, 543, 600]\n",
            "Severidade para cada subsistema: [0.2, 0.2, 0.2, 0.2, 0.2]\n",
            "Número de Sisemas: 5\n",
            "Fator:  [0.09446248159231474, 0.09446248159231474, 0.09446248159231474, 0.09446248159231474, 0.09446248159231474, 0.09446248159231474]\n",
            "Media de falhas:  [0, 1.9664493048188796, 2.677806104796471, 16.23846220646672, 41.264806056637575, 55.05212056419417, 55.05212056419417]\n",
            "Custo =  inf\n"
          ]
        },
        {
          "output_type": "stream",
          "name": "stderr",
          "text": [
            "\rpyswarms.single.global_best: 100%|██████████|1/1, best_cost=1.79e+3\n",
            "2024-03-15 18:27:50,289 - pyswarms.single.global_best - INFO - Optimization finished | best cost: 1790.4486644518884, best pos: [0.20920479 1.14098309 0.03912482 0.30222383 0.57421455 0.65181545\n",
            " 0.20630871 0.3600165  1.09808063 0.64665338 0.48446566 0.63586761\n",
            " 0.46562241 1.14918623 1.11206039 1.09168166 0.73574626 0.12079818\n",
            " 1.1176586  0.45290278 1.02764263 0.76215695 0.31338788 0.18828921]\n",
            "2024-03-15 18:27:50,291 - pyswarms.single.global_best - INFO - Optimize for 1 iters with {'c1': 0.5, 'c2': 0.3, 'w': 0.9}\n",
            "pyswarms.single.global_best:   0%|          |0/1, best_cost=1.79e+3"
          ]
        },
        {
          "output_type": "stream",
          "name": "stdout",
          "text": [
            "\n",
            "=========================================================================\n",
            "\n",
            "Número de ciclos de manutenção: 4 5\n",
            "Tempos para manutenções preventivas: [0, 211, 394, 543, 600]\n",
            "Severidade para cada subsistema: [0.2, 0.2, 0.2, 0.2]\n",
            "Número de Sisemas: 5\n",
            "Fator:  [0.09446248159231474, 0.09446248159231474, 0.09446248159231474, 0.09446248159231474, 0.09446248159231474]\n",
            "Media de falhas:  [0, 2.822336317000098, 16.382992418670348, 41.4093362688412, 55.196650776397796, 55.196650776397796]\n",
            "Custo =  inf\n"
          ]
        },
        {
          "output_type": "stream",
          "name": "stderr",
          "text": [
            "\rpyswarms.single.global_best: 100%|██████████|1/1, best_cost=1.79e+3\n",
            "2024-03-15 18:27:50,322 - pyswarms.single.global_best - INFO - Optimization finished | best cost: 1790.4486644518884, best pos: [0.20920479 1.14098309 0.03912482 0.30222383 0.57421455 0.65181545\n",
            " 0.20630871 0.3600165  1.09808063 0.64665338 0.48446566 0.63586761\n",
            " 0.46562241 1.14918623 1.11206039 1.09168166 0.73574626 0.12079818\n",
            " 1.1176586  0.45290278 1.02764263 0.76215695 0.31338788 0.18828921]\n",
            "2024-03-15 18:27:50,324 - pyswarms.single.global_best - INFO - Optimize for 1 iters with {'c1': 0.5, 'c2': 0.3, 'w': 0.9}\n",
            "pyswarms.single.global_best:   0%|          |0/1, best_cost=1.79e+3"
          ]
        },
        {
          "output_type": "stream",
          "name": "stdout",
          "text": [
            "\n",
            "=========================================================================\n",
            "\n",
            "Número de ciclos de manutenção: 4 5\n",
            "Tempos para manutenções preventivas: [0, 211, 394, 543, 600]\n",
            "Severidade para cada subsistema: [0.2, 0.2, 0.2, 0.2]\n",
            "Número de Sisemas: 5\n",
            "Fator:  [0.09446248159231474, 0.09446248159231474, 0.09446248159231474, 0.09446248159231474, 0.09446248159231474]\n",
            "Media de falhas:  [0, 2.822336317000098, 16.382992418670348, 41.4093362688412, 55.196650776397796, 55.196650776397796]\n",
            "Custo =  inf\n"
          ]
        },
        {
          "output_type": "stream",
          "name": "stderr",
          "text": [
            "\rpyswarms.single.global_best: 100%|██████████|1/1, best_cost=1.79e+3\n",
            "2024-03-15 18:27:50,347 - pyswarms.single.global_best - INFO - Optimization finished | best cost: 1790.4486644518884, best pos: [0.20920479 1.14098309 0.03912482 0.30222383 0.57421455 0.65181545\n",
            " 0.20630871 0.3600165  1.09808063 0.64665338 0.48446566 0.63586761\n",
            " 0.46562241 1.14918623 1.11206039 1.09168166 0.73574626 0.12079818\n",
            " 1.1176586  0.45290278 1.02764263 0.76215695 0.31338788 0.18828921]\n",
            "2024-03-15 18:27:50,349 - pyswarms.single.global_best - INFO - Optimize for 1 iters with {'c1': 0.5, 'c2': 0.3, 'w': 0.9}\n",
            "pyswarms.single.global_best:   0%|          |0/1, best_cost=1.79e+3"
          ]
        },
        {
          "output_type": "stream",
          "name": "stdout",
          "text": [
            "\n",
            "=========================================================================\n",
            "\n",
            "Número de ciclos de manutenção: 4 5\n",
            "Tempos para manutenções preventivas: [0, 211, 394, 543, 600]\n",
            "Severidade para cada subsistema: [0.2, 0.2, 0.2, 0.2]\n",
            "Número de Sisemas: 5\n",
            "Fator:  [0.09446248159231474, 0.09446248159231474, 0.09446248159231474, 0.09446248159231474, 0.09446248159231474]\n",
            "Media de falhas:  [0, 2.822336317000098, 16.382992418670348, 41.4093362688412, 55.196650776397796, 55.196650776397796]\n",
            "Custo =  inf\n"
          ]
        },
        {
          "output_type": "stream",
          "name": "stderr",
          "text": [
            "\rpyswarms.single.global_best: 100%|██████████|1/1, best_cost=1.79e+3\n",
            "2024-03-15 18:27:50,370 - pyswarms.single.global_best - INFO - Optimization finished | best cost: 1790.4486644518884, best pos: [0.20920479 1.14098309 0.03912482 0.30222383 0.57421455 0.65181545\n",
            " 0.20630871 0.3600165  1.09808063 0.64665338 0.48446566 0.63586761\n",
            " 0.46562241 1.14918623 1.11206039 1.09168166 0.73574626 0.12079818\n",
            " 1.1176586  0.45290278 1.02764263 0.76215695 0.31338788 0.18828921]\n",
            "2024-03-15 18:27:50,372 - pyswarms.single.global_best - INFO - Optimize for 1 iters with {'c1': 0.5, 'c2': 0.3, 'w': 0.9}\n",
            "pyswarms.single.global_best:   0%|          |0/1, best_cost=1.79e+3"
          ]
        },
        {
          "output_type": "stream",
          "name": "stdout",
          "text": [
            "\n",
            "=========================================================================\n",
            "\n",
            "Número de ciclos de manutenção: 4 5\n",
            "Tempos para manutenções preventivas: [0, 211, 394, 543, 600]\n",
            "Severidade para cada subsistema: [0.2, 0.2, 0.2, 0.2]\n",
            "Número de Sisemas: 5\n",
            "Fator:  [0.09446248159231474, 0.09446248159231474, 0.09446248159231474, 0.09446248159231474, 0.09446248159231474]\n",
            "Media de falhas:  [0, 2.822336317000098, 16.382992418670348, 41.4093362688412, 55.196650776397796, 55.196650776397796]\n",
            "Custo =  inf\n"
          ]
        },
        {
          "output_type": "stream",
          "name": "stderr",
          "text": [
            "\rpyswarms.single.global_best: 100%|██████████|1/1, best_cost=1.79e+3\n",
            "2024-03-15 18:27:50,393 - pyswarms.single.global_best - INFO - Optimization finished | best cost: 1790.4486644518884, best pos: [0.20920479 1.14098309 0.03912482 0.30222383 0.57421455 0.65181545\n",
            " 0.20630871 0.3600165  1.09808063 0.64665338 0.48446566 0.63586761\n",
            " 0.46562241 1.14918623 1.11206039 1.09168166 0.73574626 0.12079818\n",
            " 1.1176586  0.45290278 1.02764263 0.76215695 0.31338788 0.18828921]\n",
            "2024-03-15 18:27:50,398 - pyswarms.single.global_best - INFO - Optimize for 1 iters with {'c1': 0.5, 'c2': 0.3, 'w': 0.9}\n",
            "pyswarms.single.global_best:   0%|          |0/1, best_cost=1.79e+3"
          ]
        },
        {
          "output_type": "stream",
          "name": "stdout",
          "text": [
            "\n",
            "=========================================================================\n",
            "\n",
            "Número de ciclos de manutenção: 5 5\n",
            "Tempos para manutenções preventivas: [0, 211, 394, 421, 543, 600]\n",
            "Severidade para cada subsistema: [0.2, 0.2, 0.2, 0.2, 0.2]\n",
            "Número de Sisemas: 5\n",
            "Fator:  [0.09446248159231474, 0.09446248159231474, 0.09446248159231474, 0.09446248159231474, 0.09446248159231474, 0.09446248159231474]\n",
            "Media de falhas:  [0, 2.822336317000098, 16.382992418670348, 19.69856362719469, 41.16352335990138, 54.95083786745798, 54.95083786745798]\n",
            "Custo =  inf\n"
          ]
        },
        {
          "output_type": "stream",
          "name": "stderr",
          "text": [
            "\rpyswarms.single.global_best: 100%|██████████|1/1, best_cost=1.79e+3\n",
            "2024-03-15 18:27:50,420 - pyswarms.single.global_best - INFO - Optimization finished | best cost: 1790.4486644518884, best pos: [0.20920479 1.14098309 0.03912482 0.30222383 0.57421455 0.65181545\n",
            " 0.20630871 0.3600165  1.09808063 0.64665338 0.48446566 0.63586761\n",
            " 0.46562241 1.14918623 1.11206039 1.09168166 0.73574626 0.12079818\n",
            " 1.1176586  0.45290278 1.02764263 0.76215695 0.31338788 0.18828921]\n",
            "2024-03-15 18:27:50,424 - pyswarms.single.global_best - INFO - Optimize for 1 iters with {'c1': 0.5, 'c2': 0.3, 'w': 0.9}\n",
            "pyswarms.single.global_best: 100%|██████████|1/1, best_cost=1.79e+3\n",
            "2024-03-15 18:27:50,445 - pyswarms.single.global_best - INFO - Optimization finished | best cost: 1790.4486644518884, best pos: [0.20920479 1.14098309 0.03912482 0.30222383 0.57421455 0.65181545\n",
            " 0.20630871 0.3600165  1.09808063 0.64665338 0.48446566 0.63586761\n",
            " 0.46562241 1.14918623 1.11206039 1.09168166 0.73574626 0.12079818\n",
            " 1.1176586  0.45290278 1.02764263 0.76215695 0.31338788 0.18828921]\n",
            "2024-03-15 18:27:50,452 - pyswarms.single.global_best - INFO - Optimize for 1 iters with {'c1': 0.5, 'c2': 0.3, 'w': 0.9}\n"
          ]
        },
        {
          "output_type": "stream",
          "name": "stdout",
          "text": [
            "\n",
            "=========================================================================\n",
            "\n",
            "Número de ciclos de manutenção: 5 5\n",
            "Tempos para manutenções preventivas: [0, 211, 394, 422, 543, 600]\n",
            "Severidade para cada subsistema: [0.2, 0.2, 0.2, 0.2, 0.2]\n",
            "Número de Sisemas: 5\n",
            "Fator:  [0.09446248159231474, 0.09446248159231474, 0.09446248159231474, 0.09446248159231474, 0.09446248159231474, 0.09446248159231474]\n",
            "Media de falhas:  [0, 2.822336317000098, 16.382992418670348, 19.83072899149962, 41.1562523974587, 54.943566905015295, 54.943566905015295]\n",
            "Custo =  inf\n"
          ]
        },
        {
          "output_type": "stream",
          "name": "stderr",
          "text": [
            "pyswarms.single.global_best:   0%|          |0/1, best_cost=1.79e+3"
          ]
        },
        {
          "output_type": "stream",
          "name": "stdout",
          "text": [
            "\n",
            "=========================================================================\n",
            "\n",
            "Número de ciclos de manutenção: 6 5\n",
            "Tempos para manutenções preventivas: [0, 183, 211, 394, 420, 543, 600]\n",
            "Severidade para cada subsistema: [0.2, 0.2, 0.2, 0.2, 0.2, 0.2]\n",
            "Número de Sisemas: 5\n",
            "Fator:  [0.09446248159231474, 0.09446248159231474, 0.09446248159231474, 0.09446248159231474, 0.09446248159231474, 0.09446248159231474, 0.09446248159231474]\n",
            "Media de falhas:  [0, 1.8432413804620789, 2.658884529625421, 16.219540631295672, 19.403630846130973, 41.007477415284065, 54.79479192284066, 54.79479192284066]\n",
            "Custo =  inf\n"
          ]
        },
        {
          "output_type": "stream",
          "name": "stderr",
          "text": [
            "\rpyswarms.single.global_best: 100%|██████████|1/1, best_cost=1.79e+3\n",
            "2024-03-15 18:27:50,475 - pyswarms.single.global_best - INFO - Optimization finished | best cost: 1790.4486644518884, best pos: [0.20920479 1.14098309 0.03912482 0.30222383 0.57421455 0.65181545\n",
            " 0.20630871 0.3600165  1.09808063 0.64665338 0.48446566 0.63586761\n",
            " 0.46562241 1.14918623 1.11206039 1.09168166 0.73574626 0.12079818\n",
            " 1.1176586  0.45290278 1.02764263 0.76215695 0.31338788 0.18828921]\n",
            "2024-03-15 18:27:50,482 - pyswarms.single.global_best - INFO - Optimize for 1 iters with {'c1': 0.5, 'c2': 0.3, 'w': 0.9}\n",
            "pyswarms.single.global_best: 100%|██████████|1/1, best_cost=1.79e+3\n",
            "2024-03-15 18:27:50,506 - pyswarms.single.global_best - INFO - Optimization finished | best cost: 1790.4486644518884, best pos: [0.20920479 1.14098309 0.03912482 0.30222383 0.57421455 0.65181545\n",
            " 0.20630871 0.3600165  1.09808063 0.64665338 0.48446566 0.63586761\n",
            " 0.46562241 1.14918623 1.11206039 1.09168166 0.73574626 0.12079818\n",
            " 1.1176586  0.45290278 1.02764263 0.76215695 0.31338788 0.18828921]\n",
            "2024-03-15 18:27:50,512 - pyswarms.single.global_best - INFO - Optimize for 1 iters with {'c1': 0.5, 'c2': 0.3, 'w': 0.9}\n"
          ]
        },
        {
          "output_type": "stream",
          "name": "stdout",
          "text": [
            "\n",
            "=========================================================================\n",
            "\n",
            "Número de ciclos de manutenção: 4 5\n",
            "Tempos para manutenções preventivas: [0, 211, 394, 543, 600]\n",
            "Severidade para cada subsistema: [0.2, 0.2, 0.2, 0.2]\n",
            "Número de Sisemas: 5\n",
            "Fator:  [0.09446248159231474, 0.09446248159231474, 0.09446248159231474, 0.09446248159231474, 0.09446248159231474]\n",
            "Media de falhas:  [0, 2.822336317000098, 16.382992418670348, 41.4093362688412, 55.196650776397796, 55.196650776397796]\n",
            "Custo =  inf\n"
          ]
        },
        {
          "output_type": "stream",
          "name": "stderr",
          "text": [
            "pyswarms.single.global_best: 100%|██████████|1/1, best_cost=1.79e+3\n",
            "2024-03-15 18:27:50,543 - pyswarms.single.global_best - INFO - Optimization finished | best cost: 1790.4486644518884, best pos: [0.20920479 1.14098309 0.03912482 0.30222383 0.57421455 0.65181545\n",
            " 0.20630871 0.3600165  1.09808063 0.64665338 0.48446566 0.63586761\n",
            " 0.46562241 1.14918623 1.11206039 1.09168166 0.73574626 0.12079818\n",
            " 1.1176586  0.45290278 1.02764263 0.76215695 0.31338788 0.18828921]\n"
          ]
        },
        {
          "output_type": "stream",
          "name": "stdout",
          "text": [
            "\n",
            "=========================================================================\n",
            "\n",
            "Número de ciclos de manutenção: 4 5\n",
            "Tempos para manutenções preventivas: [0, 211, 394, 543, 600]\n",
            "Severidade para cada subsistema: [0.2, 0.2, 0.2, 0.2]\n",
            "Número de Sisemas: 5\n",
            "Fator:  [0.09446248159231474, 0.09446248159231474, 0.09446248159231474, 0.09446248159231474, 0.09446248159231474]\n",
            "Media de falhas:  [0, 2.822336317000098, 16.382992418670348, 41.4093362688412, 55.196650776397796, 55.196650776397796]\n",
            "Custo =  inf\n"
          ]
        },
        {
          "output_type": "stream",
          "name": "stderr",
          "text": [
            "2024-03-15 18:27:50,548 - pyswarms.single.global_best - INFO - Optimize for 1 iters with {'c1': 0.5, 'c2': 0.3, 'w': 0.9}\n",
            "pyswarms.single.global_best: 100%|██████████|1/1, best_cost=1.79e+3"
          ]
        },
        {
          "output_type": "stream",
          "name": "stdout",
          "text": [
            "\n",
            "=========================================================================\n",
            "\n",
            "Número de ciclos de manutenção: 4 5\n",
            "Tempos para manutenções preventivas: [0, 211, 394, 543, 600]\n",
            "Severidade para cada subsistema: [0.2, 0.2, 0.2, 0.2]\n",
            "Número de Sisemas: 5\n",
            "Fator:  [0.09446248159231474, 0.09446248159231474, 0.09446248159231474, 0.09446248159231474, 0.09446248159231474]\n",
            "Media de falhas:  [0, 2.822336317000098, 16.382992418670348, 41.4093362688412, 55.196650776397796, 55.196650776397796]\n",
            "Custo =  inf\n"
          ]
        },
        {
          "output_type": "stream",
          "name": "stderr",
          "text": [
            "\n",
            "2024-03-15 18:27:50,567 - pyswarms.single.global_best - INFO - Optimization finished | best cost: 1790.4486644518884, best pos: [0.20920479 1.14098309 0.03912482 0.30222383 0.57421455 0.65181545\n",
            " 0.20630871 0.3600165  1.09808063 0.64665338 0.48446566 0.63586761\n",
            " 0.46562241 1.14918623 1.11206039 1.09168166 0.73574626 0.12079818\n",
            " 1.1176586  0.45290278 1.02764263 0.76215695 0.31338788 0.18828921]\n",
            "2024-03-15 18:27:50,574 - pyswarms.single.global_best - INFO - Optimize for 1 iters with {'c1': 0.5, 'c2': 0.3, 'w': 0.9}\n",
            "pyswarms.single.global_best: 100%|██████████|1/1, best_cost=1.79e+3"
          ]
        },
        {
          "output_type": "stream",
          "name": "stdout",
          "text": [
            "\n",
            "=========================================================================\n",
            "\n",
            "Número de ciclos de manutenção: 6 5\n",
            "Tempos para manutenções preventivas: [0, 185, 211, 241, 394, 543, 600]\n",
            "Severidade para cada subsistema: [0.2, 0.2, 0.2, 0.2, 0.2, 0.2]\n",
            "Número de Sisemas: 5\n",
            "Fator:  [0.09446248159231474, 0.09446248159231474, 0.09446248159231474, 0.09446248159231474, 0.09446248159231474, 0.09446248159231474, 0.09446248159231474]\n",
            "Media de falhas:  [0, 1.9041818974339435, 2.668168685097759, 3.8157041450137035, 15.99941726798604, 41.02576111815689, 54.81307562571349, 54.81307562571349]\n",
            "Custo =  inf\n"
          ]
        },
        {
          "output_type": "stream",
          "name": "stderr",
          "text": [
            "\n",
            "2024-03-15 18:27:50,627 - pyswarms.single.global_best - INFO - Optimization finished | best cost: 1790.4486644518884, best pos: [0.20920479 1.14098309 0.03912482 0.30222383 0.57421455 0.65181545\n",
            " 0.20630871 0.3600165  1.09808063 0.64665338 0.48446566 0.63586761\n",
            " 0.46562241 1.14918623 1.11206039 1.09168166 0.73574626 0.12079818\n",
            " 1.1176586  0.45290278 1.02764263 0.76215695 0.31338788 0.18828921]\n",
            "2024-03-15 18:27:50,634 - pyswarms.single.global_best - INFO - Optimize for 1 iters with {'c1': 0.5, 'c2': 0.3, 'w': 0.9}\n",
            "pyswarms.single.global_best: 100%|██████████|1/1, best_cost=1.79e+3"
          ]
        },
        {
          "output_type": "stream",
          "name": "stdout",
          "text": [
            "\n",
            "=========================================================================\n",
            "\n",
            "Número de ciclos de manutenção: 5 5\n",
            "Tempos para manutenções preventivas: [0, 188, 211, 394, 543, 600]\n",
            "Severidade para cada subsistema: [0.2, 0.2, 0.2, 0.2, 0.2]\n",
            "Número de Sisemas: 5\n",
            "Fator:  [0.09446248159231474, 0.09446248159231474, 0.09446248159231474, 0.09446248159231474, 0.09446248159231474, 0.09446248159231474]\n",
            "Media de falhas:  [0, 1.9980850411220341, 2.6827584278702243, 16.243414529540473, 41.26975837971133, 55.05707288726792, 55.05707288726792]\n",
            "Custo =  inf\n"
          ]
        },
        {
          "output_type": "stream",
          "name": "stderr",
          "text": [
            "\n",
            "2024-03-15 18:27:50,658 - pyswarms.single.global_best - INFO - Optimization finished | best cost: 1790.4486644518884, best pos: [0.20920479 1.14098309 0.03912482 0.30222383 0.57421455 0.65181545\n",
            " 0.20630871 0.3600165  1.09808063 0.64665338 0.48446566 0.63586761\n",
            " 0.46562241 1.14918623 1.11206039 1.09168166 0.73574626 0.12079818\n",
            " 1.1176586  0.45290278 1.02764263 0.76215695 0.31338788 0.18828921]\n",
            "2024-03-15 18:27:50,662 - pyswarms.single.global_best - INFO - Optimize for 1 iters with {'c1': 0.5, 'c2': 0.3, 'w': 0.9}\n",
            "pyswarms.single.global_best: 100%|██████████|1/1, best_cost=1.79e+3"
          ]
        },
        {
          "output_type": "stream",
          "name": "stdout",
          "text": [
            "\n",
            "=========================================================================\n",
            "\n",
            "Número de ciclos de manutenção: 6 5\n",
            "Tempos para manutenções preventivas: [0, 180, 211, 394, 452, 543, 600]\n",
            "Severidade para cada subsistema: [0.2, 0.2, 0.2, 0.2, 0.2, 0.2]\n",
            "Número de Sisemas: 5\n",
            "Fator:  [0.09446248159231474, 0.09446248159231474, 0.09446248159231474, 0.09446248159231474, 0.09446248159231474, 0.09446248159231474, 0.09446248159231474]\n",
            "Media de falhas:  [0, 1.7542873810368786, 2.645612692209158, 16.20626879387941, 23.94597524563203, 40.8263710823752, 54.6136855899318, 54.6136855899318]\n",
            "Custo =  inf\n"
          ]
        },
        {
          "output_type": "stream",
          "name": "stderr",
          "text": [
            "\n",
            "2024-03-15 18:27:50,684 - pyswarms.single.global_best - INFO - Optimization finished | best cost: 1790.4486644518884, best pos: [0.20920479 1.14098309 0.03912482 0.30222383 0.57421455 0.65181545\n",
            " 0.20630871 0.3600165  1.09808063 0.64665338 0.48446566 0.63586761\n",
            " 0.46562241 1.14918623 1.11206039 1.09168166 0.73574626 0.12079818\n",
            " 1.1176586  0.45290278 1.02764263 0.76215695 0.31338788 0.18828921]\n",
            "2024-03-15 18:27:50,692 - pyswarms.single.global_best - INFO - Optimize for 1 iters with {'c1': 0.5, 'c2': 0.3, 'w': 0.9}\n",
            "pyswarms.single.global_best:   0%|          |0/1, best_cost=1.79e+3"
          ]
        },
        {
          "output_type": "stream",
          "name": "stdout",
          "text": [
            "\n",
            "=========================================================================\n",
            "\n",
            "Número de ciclos de manutenção: 5 5\n",
            "Tempos para manutenções preventivas: [0, 211, 394, 452, 543, 600]\n",
            "Severidade para cada subsistema: [0.2, 0.2, 0.2, 0.2, 0.2]\n",
            "Número de Sisemas: 5\n",
            "Fator:  [0.09446248159231474, 0.09446248159231474, 0.09446248159231474, 0.09446248159231474, 0.09446248159231474, 0.09446248159231474]\n",
            "Media de falhas:  [0, 2.822336317000098, 16.382992418670348, 24.12269887042297, 41.00309470716614, 54.790409214722736, 54.790409214722736]\n",
            "Custo =  inf\n"
          ]
        },
        {
          "output_type": "stream",
          "name": "stderr",
          "text": [
            "\rpyswarms.single.global_best: 100%|██████████|1/1, best_cost=1.79e+3\n",
            "2024-03-15 18:27:50,728 - pyswarms.single.global_best - INFO - Optimization finished | best cost: 1790.4486644518884, best pos: [0.20920479 1.14098309 0.03912482 0.30222383 0.57421455 0.65181545\n",
            " 0.20630871 0.3600165  1.09808063 0.64665338 0.48446566 0.63586761\n",
            " 0.46562241 1.14918623 1.11206039 1.09168166 0.73574626 0.12079818\n",
            " 1.1176586  0.45290278 1.02764263 0.76215695 0.31338788 0.18828921]\n",
            "2024-03-15 18:27:50,752 - pyswarms.single.global_best - INFO - Optimize for 1 iters with {'c1': 0.5, 'c2': 0.3, 'w': 0.9}\n",
            "pyswarms.single.global_best: 100%|██████████|1/1, best_cost=1.79e+3"
          ]
        },
        {
          "output_type": "stream",
          "name": "stdout",
          "text": [
            "\n",
            "=========================================================================\n",
            "\n",
            "Número de ciclos de manutenção: 4 5\n",
            "Tempos para manutenções preventivas: [0, 211, 394, 543, 600]\n",
            "Severidade para cada subsistema: [0.2, 0.2, 0.2, 0.2]\n",
            "Número de Sisemas: 5\n",
            "Fator:  [0.09446248159231474, 0.09446248159231474, 0.09446248159231474, 0.09446248159231474, 0.09446248159231474]\n",
            "Media de falhas:  [0, 2.822336317000098, 16.382992418670348, 41.4093362688412, 55.196650776397796, 55.196650776397796]\n",
            "Custo =  inf\n"
          ]
        },
        {
          "output_type": "stream",
          "name": "stderr",
          "text": [
            "\n",
            "2024-03-15 18:27:50,868 - pyswarms.single.global_best - INFO - Optimization finished | best cost: 1790.4486644518884, best pos: [0.20920479 1.14098309 0.03912482 0.30222383 0.57421455 0.65181545\n",
            " 0.20630871 0.3600165  1.09808063 0.64665338 0.48446566 0.63586761\n",
            " 0.46562241 1.14918623 1.11206039 1.09168166 0.73574626 0.12079818\n",
            " 1.1176586  0.45290278 1.02764263 0.76215695 0.31338788 0.18828921]\n",
            "2024-03-15 18:27:50,928 - pyswarms.single.global_best - INFO - Optimize for 1 iters with {'c1': 0.5, 'c2': 0.3, 'w': 0.9}\n",
            "pyswarms.single.global_best:   0%|          |0/1"
          ]
        },
        {
          "output_type": "stream",
          "name": "stdout",
          "text": [
            "\n",
            "=========================================================================\n",
            "\n",
            "Número de ciclos de manutenção: 4 5\n",
            "Tempos para manutenções preventivas: [0, 211, 394, 543, 600]\n",
            "Severidade para cada subsistema: [0.2, 0.2, 0.2, 0.2]\n",
            "Número de Sisemas: 5\n",
            "Fator:  [0.09446248159231474, 0.09446248159231474, 0.09446248159231474, 0.09446248159231474, 0.09446248159231474]\n",
            "Media de falhas:  [0, 2.822336317000098, 16.382992418670348, 41.4093362688412, 55.196650776397796, 55.196650776397796]\n"
          ]
        },
        {
          "output_type": "stream",
          "name": "stderr",
          "text": [
            "pyswarms.single.global_best: 100%|██████████|1/1, best_cost=1.79e+3\n",
            "2024-03-15 18:27:51,200 - pyswarms.single.global_best - INFO - Optimization finished | best cost: 1790.4486644518884, best pos: [0.20920479 1.14098309 0.03912482 0.30222383 0.57421455 0.65181545\n",
            " 0.20630871 0.3600165  1.09808063 0.64665338 0.48446566 0.63586761\n",
            " 0.46562241 1.14918623 1.11206039 1.09168166 0.73574626 0.12079818\n",
            " 1.1176586  0.45290278 1.02764263 0.76215695 0.31338788 0.18828921]\n",
            "2024-03-15 18:27:51,211 - pyswarms.single.global_best - INFO - Optimize for 1 iters with {'c1': 0.5, 'c2': 0.3, 'w': 0.9}\n"
          ]
        },
        {
          "output_type": "stream",
          "name": "stdout",
          "text": [
            "Custo =  inf\n"
          ]
        },
        {
          "output_type": "stream",
          "name": "stderr",
          "text": [
            "pyswarms.single.global_best:   0%|          |0/1, best_cost=1.79e+3"
          ]
        },
        {
          "output_type": "stream",
          "name": "stdout",
          "text": [
            "\n",
            "=========================================================================\n",
            "\n",
            "Número de ciclos de manutenção: 5 5\n",
            "Tempos para manutenções preventivas: [0, 211, 394, 455, 543, 600]\n",
            "Severidade para cada subsistema: [0.2, 0.2, 0.2, 0.2, 0.2]\n",
            "Número de Sisemas: 5\n",
            "Fator:  [0.09446248159231474, 0.09446248159231474, 0.09446248159231474, 0.09446248159231474, 0.09446248159231474, 0.09446248159231474]\n",
            "Media de falhas:  [0, 2.822336317000098, 16.382992418670348, 24.587699000335512, 40.99494986580606, 54.78226437336266, 54.78226437336266]\n",
            "Custo =  inf\n"
          ]
        },
        {
          "output_type": "stream",
          "name": "stderr",
          "text": [
            "\rpyswarms.single.global_best: 100%|██████████|1/1, best_cost=1.79e+3\n",
            "2024-03-15 18:27:51,300 - pyswarms.single.global_best - INFO - Optimization finished | best cost: 1790.4486644518884, best pos: [0.20920479 1.14098309 0.03912482 0.30222383 0.57421455 0.65181545\n",
            " 0.20630871 0.3600165  1.09808063 0.64665338 0.48446566 0.63586761\n",
            " 0.46562241 1.14918623 1.11206039 1.09168166 0.73574626 0.12079818\n",
            " 1.1176586  0.45290278 1.02764263 0.76215695 0.31338788 0.18828921]\n",
            "2024-03-15 18:27:51,308 - pyswarms.single.global_best - INFO - Optimize for 1 iters with {'c1': 0.5, 'c2': 0.3, 'w': 0.9}\n",
            "pyswarms.single.global_best: 100%|██████████|1/1, best_cost=1.79e+3\n",
            "2024-03-15 18:27:51,373 - pyswarms.single.global_best - INFO - Optimization finished | best cost: 1790.4486644518884, best pos: [0.20920479 1.14098309 0.03912482 0.30222383 0.57421455 0.65181545\n",
            " 0.20630871 0.3600165  1.09808063 0.64665338 0.48446566 0.63586761\n",
            " 0.46562241 1.14918623 1.11206039 1.09168166 0.73574626 0.12079818\n",
            " 1.1176586  0.45290278 1.02764263 0.76215695 0.31338788 0.18828921]\n",
            "2024-03-15 18:27:51,379 - pyswarms.single.global_best - INFO - Optimize for 1 iters with {'c1': 0.5, 'c2': 0.3, 'w': 0.9}\n"
          ]
        },
        {
          "output_type": "stream",
          "name": "stdout",
          "text": [
            "\n",
            "=========================================================================\n",
            "\n",
            "Número de ciclos de manutenção: 5 5\n",
            "Tempos para manutenções preventivas: [0, 211, 394, 518, 543, 600]\n",
            "Severidade para cada subsistema: [0.2, 0.2, 0.2, 0.2, 0.2]\n",
            "Número de Sisemas: 5\n",
            "Fator:  [0.09446248159231474, 0.09446248159231474, 0.09446248159231474, 0.09446248159231474, 0.09446248159231474, 0.09446248159231474]\n",
            "Media de falhas:  [0, 2.822336317000098, 16.382992418670348, 35.97408204653586, 41.155267996616814, 54.94258250417341, 54.94258250417341]\n",
            "Custo =  inf\n"
          ]
        },
        {
          "output_type": "stream",
          "name": "stderr",
          "text": [
            "pyswarms.single.global_best: 100%|██████████|1/1, best_cost=1.79e+3\n",
            "2024-03-15 18:27:51,449 - pyswarms.single.global_best - INFO - Optimization finished | best cost: 1790.4486644518884, best pos: [0.20920479 1.14098309 0.03912482 0.30222383 0.57421455 0.65181545\n",
            " 0.20630871 0.3600165  1.09808063 0.64665338 0.48446566 0.63586761\n",
            " 0.46562241 1.14918623 1.11206039 1.09168166 0.73574626 0.12079818\n",
            " 1.1176586  0.45290278 1.02764263 0.76215695 0.31338788 0.18828921]\n"
          ]
        },
        {
          "output_type": "stream",
          "name": "stdout",
          "text": [
            "\n",
            "=========================================================================\n",
            "\n",
            "Número de ciclos de manutenção: 5 5\n",
            "Tempos para manutenções preventivas: [0, 211, 394, 457, 543, 600]\n",
            "Severidade para cada subsistema: [0.2, 0.2, 0.2, 0.2, 0.2]\n",
            "Número de Sisemas: 5\n",
            "Fator:  [0.09446248159231474, 0.09446248159231474, 0.09446248159231474, 0.09446248159231474, 0.09446248159231474, 0.09446248159231474]\n",
            "Media de falhas:  [0, 2.822336317000098, 16.382992418670348, 24.901418750920044, 40.99027077989557, 54.77758528745216, 54.77758528745216]\n",
            "Custo =  inf\n"
          ]
        }
      ]
    },
    {
      "cell_type": "code",
      "source": [
        "# Seu histórico de custos\n",
        "cost_history = optimizer.cost_history"
      ],
      "metadata": {
        "id": "usQxMpP7-dHC"
      },
      "execution_count": 384,
      "outputs": []
    },
    {
      "cell_type": "code",
      "source": [
        "# Retorna o número de interações necessárias para chegar ao melhor custo.\n",
        "def numero_interacoes(cost_history):\n",
        "  for i, custo in enumerate(cost_history):\n",
        "    if custo == min(cost_history):\n",
        "      return i + 1\n",
        "\n",
        "numero_interacoes = numero_interacoes(cost_history)\n",
        "print(numero_interacoes)"
      ],
      "metadata": {
        "colab": {
          "base_uri": "https://localhost:8080/"
        },
        "id": "RRZCXsg6_D7r",
        "outputId": "b103c139-7d4a-405c-bd56-caa372017db0"
      },
      "execution_count": 376,
      "outputs": [
        {
          "output_type": "stream",
          "name": "stdout",
          "text": [
            "39\n"
          ]
        }
      ]
    },
    {
      "cell_type": "code",
      "source": [
        "melhorCusto = format_currency(best_cost)\n",
        "print(melhorCusto)"
      ],
      "metadata": {
        "id": "LaqSRfpLcW0i",
        "outputId": "90af86b2-d42d-4d21-ce38-d9b0f84ceec4",
        "colab": {
          "base_uri": "https://localhost:8080/"
        }
      },
      "execution_count": 377,
      "outputs": [
        {
          "output_type": "stream",
          "name": "stdout",
          "text": [
            "R$ 1.790,45\n"
          ]
        }
      ]
    },
    {
      "cell_type": "code",
      "source": [
        "# Plotar gráfico de densidade da otimização\n",
        "plt.figure()\n",
        "plt.plot(cost_history)\n",
        "\n",
        "# Calcule o tempo total de convergência\n",
        "convergence_time_second_stage = end_time_second_stage - start_time_second_stage\n",
        "\n",
        "# Localizando o índice da melhor interação\n",
        "index_melhor_custo = cost_history.index(min(cost_history))\n",
        "\n",
        "# Plotando a linha vertical\n",
        "plt.axvline(index_melhor_custo, color='red', linestyle='--', label='Melhor Custo')\n",
        "\n",
        "\n",
        "plt.xlabel('Interações')\n",
        "plt.xlim(0, max_iterations)\n",
        "plt.ylabel('Função objetivo')\n",
        "# plt.ylim(0, 1500)\n",
        "plt.title('Particle Swarm Optimization')\n",
        "plt.legend()\n",
        "plt.show()\n",
        "\n",
        "print(\"\")\n",
        "print('Cenário:', CENARIO)\n",
        "print(\"Número total de iterações:\", max_iterations)\n",
        "print(\"Número de Particulas:\", num_particles)\n",
        "print(\"Número de Dimensões:\", dimensions)\n",
        "print(\"Melhor Custo:\", melhorCusto)\n",
        "print(\"Número de Iterações até o Melhor Custo:\", numero_interacoes)\n",
        "print(\"Tempo de Convergência para a segunda etapa:\", convergence_time_second_stage, \"segundos\")"
      ],
      "metadata": {
        "id": "ULlt81ZI1vn9",
        "outputId": "fd44b42c-3be1-4c20-f178-40ccc1971067",
        "colab": {
          "base_uri": "https://localhost:8080/",
          "height": 611
        }
      },
      "execution_count": 378,
      "outputs": [
        {
          "output_type": "display_data",
          "data": {
            "text/plain": [
              "<Figure size 640x480 with 1 Axes>"
            ],
            "image/png": "[encoded data removed]"
          },
          "metadata": {}
        },
        {
          "output_type": "stream",
          "name": "stdout",
          "text": [
            "\n",
            "Cenário: primeiro_cenario\n",
            "Número total de iterações: 100\n",
            "Número de Particulas: 100\n",
            "Número de Dimensões: 24\n",
            "Melhor Custo: R$ 1.790,45\n",
            "Número de Iterações até o Melhor Custo: 39\n",
            "Tempo de Convergência para a segunda etapa: 1.4786033630371094 segundos\n"
          ]
        }
      ]
    },
    {
      "cell_type": "code",
      "source": [
        "# Plotar o gráfico 3D com todas as melhores posições\n",
        "fig = plt.figure(figsize=(8, 8))\n",
        "ax = fig.add_subplot(111)\n",
        "\n",
        "# Plotar todas as melhores posições anteriores\n",
        "for i in range(best_positions.shape[0]):\n",
        "    ax.scatter(best_positions[i, 0], best_positions[i, 1], marker='x', c='blue', alpha=0.6)\n",
        "\n",
        "# Plotar a última melhor posição com uma cor diferente para destacá-la\n",
        "ax.scatter(best_positions[-1, 0], best_positions[-1, 1], c='red', label='Melhor posição atual')\n",
        "\n",
        "ax.set_title('PSO - Melhores posições ao longo das iterações')\n",
        "ax.set_xlabel('Primeira dimensão das melhores posições')\n",
        "ax.set_ylabel('Segunda dimensão das melhores posições')\n",
        "ax.legend()\n",
        "plt.grid()\n",
        "plt.show()"
      ],
      "metadata": {
        "colab": {
          "base_uri": "https://localhost:8080/",
          "height": 718
        },
        "id": "GK1vNK4v20Dx",
        "outputId": "ff852e8f-3518-46ca-892a-8d5e08ce86a5"
      },
      "execution_count": 379,
      "outputs": [
        {
          "output_type": "display_data",
          "data": {
            "text/plain": [
              "<Figure size 800x800 with 1 Axes>"
            ],
            "image/png": "[encoded data removed]"
          },
          "metadata": {}
        }
      ]
    },
    {
      "cell_type": "code",
      "source": [
        "# Nome do arquivo CSV para salvar o resultado do melhor custo\n",
        "nome_arquivo = f'{LINK_ARQUIVO_PRINCIPAL}{NOME_ARQUIVO_PRINCIPAL}.csv'"
      ],
      "metadata": {
        "id": "lYIlaqDPhDdo"
      },
      "execution_count": 380,
      "outputs": []
    },
    {
      "cell_type": "code",
      "source": [
        "print(nome_arquivo)"
      ],
      "metadata": {
        "id": "5Ne7OAwDIg1m",
        "outputId": "2f1cbf14-5672-4a97-bb22-d476a3e368af",
        "colab": {
          "base_uri": "https://localhost:8080/"
        }
      },
      "execution_count": 381,
      "outputs": [
        {
          "output_type": "stream",
          "name": "stdout",
          "text": [
            "/content/drive/MyDrive/datasets/resultados_optimizacao/resultados_pso/Resultados_primeiro_cenario/melhor_custo_pso_primeiro_cenario.csv\n"
          ]
        }
      ]
    },
    {
      "cell_type": "code",
      "source": [
        "# # Adicionar o melhor custo atual à lista de melhores custos anteriores\n",
        "# melhores_custos_anteriores = []\n",
        "# try:\n",
        "#     with open(nome_arquivo, 'r') as arquivo_csv:\n",
        "#         reader = csv.reader(arquivo_csv)\n",
        "#         next(reader)  # Pule o cabeçalho\n",
        "#         for linha in reader:\n",
        "#             melhores_custos_anteriores.append(linha[1])\n",
        "# except FileNotFoundError:\n",
        "#     pass  # Arquivo não existe, pode ser a primeira execução\n",
        "\n",
        "# melhores_custos_anteriores.append(melhorCusto)  # Substitua pbest_cost[0] por best_cost\n",
        "\n",
        "# # Criar uma lista com os valores atuais\n",
        "# valores_atuais = [len(melhores_custos_anteriores), melhorCusto, convergence_time_second_stage,]\n",
        "\n",
        "# # Abrir o arquivo CSV em modo de leitura e escrita e escrever os valores atuais no final do arquivo\n",
        "# with open(nome_arquivo, 'a+', newline='') as arquivo_csv:\n",
        "#     writer = csv.writer(arquivo_csv)\n",
        "\n",
        "#     # Se o arquivo estiver vazio, escreva o cabeçalho\n",
        "#     if arquivo_csv.tell() == 0:\n",
        "#         writer.writerow(['Index', 'Melhor_Custo', 'Convergencia_Segunda_Etapa', 'Ciclos_MP'])\n",
        "\n",
        "#     # Escrever os valores atuais\n",
        "#     writer.writerow(valores_atuais)"
      ],
      "metadata": {
        "id": "SvLX3p0EXBEo"
      },
      "execution_count": 382,
      "outputs": []
    },
    {
      "cell_type": "code",
      "source": [
        "# Leitura dos dados de tempo de falha para 4 cenarios de exemplo\n",
        "resultado = pd.read_csv(nome_arquivo, sep=\",\")\n",
        "resultado.head(10)"
      ],
      "metadata": {
        "colab": {
          "base_uri": "https://localhost:8080/",
          "height": 339
        },
        "id": "UU0zcbG7xFjH",
        "outputId": "ab59a943-c2df-4c92-d118-b454b49b2a87"
      },
      "execution_count": 383,
      "outputs": [
        {
          "output_type": "error",
          "ename": "FileNotFoundError",
          "evalue": "[Errno 2] No such file or directory: '/content/drive/MyDrive/datasets/resultados_optimizacao/resultados_pso/Resultados_primeiro_cenario/melhor_custo_pso_primeiro_cenario.csv'",
          "traceback": [
            "\u001b[0;31m---------------------------------------------------------------------------\u001b[0m",
            "\u001b[0;31mFileNotFoundError\u001b[0m                         Traceback (most recent call last)",
            "\u001b[0;32m<ipython-input-383-a07ecc08e8cb>\u001b[0m in \u001b[0;36m<cell line: 2>\u001b[0;34m()\u001b[0m\n\u001b[1;32m      1\u001b[0m \u001b[0;31m# Leitura dos dados de tempo de falha para 4 cenarios de exemplo\u001b[0m\u001b[0;34m\u001b[0m\u001b[0;34m\u001b[0m\u001b[0m\n\u001b[0;32m----> 2\u001b[0;31m \u001b[0mresultado\u001b[0m \u001b[0;34m=\u001b[0m \u001b[0mpd\u001b[0m\u001b[0;34m.\u001b[0m\u001b[0mread_csv\u001b[0m\u001b[0;34m(\u001b[0m\u001b[0mnome_arquivo\u001b[0m\u001b[0;34m,\u001b[0m \u001b[0msep\u001b[0m\u001b[0;34m=\u001b[0m\u001b[0;34m\",\"\u001b[0m\u001b[0;34m)\u001b[0m\u001b[0;34m\u001b[0m\u001b[0;34m\u001b[0m\u001b[0m\n\u001b[0m\u001b[1;32m      3\u001b[0m \u001b[0mresultado\u001b[0m\u001b[0;34m.\u001b[0m\u001b[0mhead\u001b[0m\u001b[0;34m(\u001b[0m\u001b[0;36m10\u001b[0m\u001b[0;34m)\u001b[0m\u001b[0;34m\u001b[0m\u001b[0;34m\u001b[0m\u001b[0m\n",
            "\u001b[0;32m/usr/local/lib/python3.10/dist-packages/pandas/util/_decorators.py\u001b[0m in \u001b[0;36mwrapper\u001b[0;34m(*args, **kwargs)\u001b[0m\n\u001b[1;32m    209\u001b[0m                 \u001b[0;32melse\u001b[0m\u001b[0;34m:\u001b[0m\u001b[0;34m\u001b[0m\u001b[0;34m\u001b[0m\u001b[0m\n\u001b[1;32m    210\u001b[0m                     \u001b[0mkwargs\u001b[0m\u001b[0;34m[\u001b[0m\u001b[0mnew_arg_name\u001b[0m\u001b[0;34m]\u001b[0m \u001b[0;34m=\u001b[0m \u001b[0mnew_arg_value\u001b[0m\u001b[0;34m\u001b[0m\u001b[0;34m\u001b[0m\u001b[0m\n\u001b[0;32m--> 211\u001b[0;31m             \u001b[0;32mreturn\u001b[0m \u001b[0mfunc\u001b[0m\u001b[0;34m(\u001b[0m\u001b[0;34m*\u001b[0m\u001b[0margs\u001b[0m\u001b[0;34m,\u001b[0m \u001b[0;34m**\u001b[0m\u001b[0mkwargs\u001b[0m\u001b[0;34m)\u001b[0m\u001b[0;34m\u001b[0m\u001b[0;34m\u001b[0m\u001b[0m\n\u001b[0m\u001b[1;32m    212\u001b[0m \u001b[0;34m\u001b[0m\u001b[0m\n\u001b[1;32m    213\u001b[0m         \u001b[0;32mreturn\u001b[0m \u001b[0mcast\u001b[0m\u001b[0;34m(\u001b[0m\u001b[0mF\u001b[0m\u001b[0;34m,\u001b[0m \u001b[0mwrapper\u001b[0m\u001b[0;34m)\u001b[0m\u001b[0;34m\u001b[0m\u001b[0;34m\u001b[0m\u001b[0m\n",
            "\u001b[0;32m/usr/local/lib/python3.10/dist-packages/pandas/util/_decorators.py\u001b[0m in \u001b[0;36mwrapper\u001b[0;34m(*args, **kwargs)\u001b[0m\n\u001b[1;32m    329\u001b[0m                     \u001b[0mstacklevel\u001b[0m\u001b[0;34m=\u001b[0m\u001b[0mfind_stack_level\u001b[0m\u001b[0;34m(\u001b[0m\u001b[0;34m)\u001b[0m\u001b[0;34m,\u001b[0m\u001b[0;34m\u001b[0m\u001b[0;34m\u001b[0m\u001b[0m\n\u001b[1;32m    330\u001b[0m                 )\n\u001b[0;32m--> 331\u001b[0;31m             \u001b[0;32mreturn\u001b[0m \u001b[0mfunc\u001b[0m\u001b[0;34m(\u001b[0m\u001b[0;34m*\u001b[0m\u001b[0margs\u001b[0m\u001b[0;34m,\u001b[0m \u001b[0;34m**\u001b[0m\u001b[0mkwargs\u001b[0m\u001b[0;34m)\u001b[0m\u001b[0;34m\u001b[0m\u001b[0;34m\u001b[0m\u001b[0m\n\u001b[0m\u001b[1;32m    332\u001b[0m \u001b[0;34m\u001b[0m\u001b[0m\n\u001b[1;32m    333\u001b[0m         \u001b[0;31m# error: \"Callable[[VarArg(Any), KwArg(Any)], Any]\" has no\u001b[0m\u001b[0;34m\u001b[0m\u001b[0;34m\u001b[0m\u001b[0m\n",
            "\u001b[0;32m/usr/local/lib/python3.10/dist-packages/pandas/io/parsers/readers.py\u001b[0m in \u001b[0;36mread_csv\u001b[0;34m(filepath_or_buffer, sep, delimiter, header, names, index_col, usecols, squeeze, prefix, mangle_dupe_cols, dtype, engine, converters, true_values, false_values, skipinitialspace, skiprows, skipfooter, nrows, na_values, keep_default_na, na_filter, verbose, skip_blank_lines, parse_dates, infer_datetime_format, keep_date_col, date_parser, dayfirst, cache_dates, iterator, chunksize, compression, thousands, decimal, lineterminator, quotechar, quoting, doublequote, escapechar, comment, encoding, encoding_errors, dialect, error_bad_lines, warn_bad_lines, on_bad_lines, delim_whitespace, low_memory, memory_map, float_precision, storage_options)\u001b[0m\n\u001b[1;32m    948\u001b[0m     \u001b[0mkwds\u001b[0m\u001b[0;34m.\u001b[0m\u001b[0mupdate\u001b[0m\u001b[0;34m(\u001b[0m\u001b[0mkwds_defaults\u001b[0m\u001b[0;34m)\u001b[0m\u001b[0;34m\u001b[0m\u001b[0;34m\u001b[0m\u001b[0m\n\u001b[1;32m    949\u001b[0m \u001b[0;34m\u001b[0m\u001b[0m\n\u001b[0;32m--> 950\u001b[0;31m     \u001b[0;32mreturn\u001b[0m \u001b[0m_read\u001b[0m\u001b[0;34m(\u001b[0m\u001b[0mfilepath_or_buffer\u001b[0m\u001b[0;34m,\u001b[0m \u001b[0mkwds\u001b[0m\u001b[0;34m)\u001b[0m\u001b[0;34m\u001b[0m\u001b[0;34m\u001b[0m\u001b[0m\n\u001b[0m\u001b[1;32m    951\u001b[0m \u001b[0;34m\u001b[0m\u001b[0m\n\u001b[1;32m    952\u001b[0m \u001b[0;34m\u001b[0m\u001b[0m\n",
            "\u001b[0;32m/usr/local/lib/python3.10/dist-packages/pandas/io/parsers/readers.py\u001b[0m in \u001b[0;36m_read\u001b[0;34m(filepath_or_buffer, kwds)\u001b[0m\n\u001b[1;32m    603\u001b[0m \u001b[0;34m\u001b[0m\u001b[0m\n\u001b[1;32m    604\u001b[0m     \u001b[0;31m# Create the parser.\u001b[0m\u001b[0;34m\u001b[0m\u001b[0;34m\u001b[0m\u001b[0m\n\u001b[0;32m--> 605\u001b[0;31m     \u001b[0mparser\u001b[0m \u001b[0;34m=\u001b[0m \u001b[0mTextFileReader\u001b[0m\u001b[0;34m(\u001b[0m\u001b[0mfilepath_or_buffer\u001b[0m\u001b[0;34m,\u001b[0m \u001b[0;34m**\u001b[0m\u001b[0mkwds\u001b[0m\u001b[0;34m)\u001b[0m\u001b[0;34m\u001b[0m\u001b[0;34m\u001b[0m\u001b[0m\n\u001b[0m\u001b[1;32m    606\u001b[0m \u001b[0;34m\u001b[0m\u001b[0m\n\u001b[1;32m    607\u001b[0m     \u001b[0;32mif\u001b[0m \u001b[0mchunksize\u001b[0m \u001b[0;32mor\u001b[0m \u001b[0miterator\u001b[0m\u001b[0;34m:\u001b[0m\u001b[0;34m\u001b[0m\u001b[0;34m\u001b[0m\u001b[0m\n",
            "\u001b[0;32m/usr/local/lib/python3.10/dist-packages/pandas/io/parsers/readers.py\u001b[0m in \u001b[0;36m__init__\u001b[0;34m(self, f, engine, **kwds)\u001b[0m\n\u001b[1;32m   1440\u001b[0m \u001b[0;34m\u001b[0m\u001b[0m\n\u001b[1;32m   1441\u001b[0m         \u001b[0mself\u001b[0m\u001b[0;34m.\u001b[0m\u001b[0mhandles\u001b[0m\u001b[0;34m:\u001b[0m \u001b[0mIOHandles\u001b[0m \u001b[0;34m|\u001b[0m \u001b[0;32mNone\u001b[0m \u001b[0;34m=\u001b[0m \u001b[0;32mNone\u001b[0m\u001b[0;34m\u001b[0m\u001b[0;34m\u001b[0m\u001b[0m\n\u001b[0;32m-> 1442\u001b[0;31m         \u001b[0mself\u001b[0m\u001b[0;34m.\u001b[0m\u001b[0m_engine\u001b[0m \u001b[0;34m=\u001b[0m \u001b[0mself\u001b[0m\u001b[0;34m.\u001b[0m\u001b[0m_make_engine\u001b[0m\u001b[0;34m(\u001b[0m\u001b[0mf\u001b[0m\u001b[0;34m,\u001b[0m \u001b[0mself\u001b[0m\u001b[0;34m.\u001b[0m\u001b[0mengine\u001b[0m\u001b[0;34m)\u001b[0m\u001b[0;34m\u001b[0m\u001b[0;34m\u001b[0m\u001b[0m\n\u001b[0m\u001b[1;32m   1443\u001b[0m \u001b[0;34m\u001b[0m\u001b[0m\n\u001b[1;32m   1444\u001b[0m     \u001b[0;32mdef\u001b[0m \u001b[0mclose\u001b[0m\u001b[0;34m(\u001b[0m\u001b[0mself\u001b[0m\u001b[0;34m)\u001b[0m \u001b[0;34m->\u001b[0m \u001b[0;32mNone\u001b[0m\u001b[0;34m:\u001b[0m\u001b[0;34m\u001b[0m\u001b[0;34m\u001b[0m\u001b[0m\n",
            "\u001b[0;32m/usr/local/lib/python3.10/dist-packages/pandas/io/parsers/readers.py\u001b[0m in \u001b[0;36m_make_engine\u001b[0;34m(self, f, engine)\u001b[0m\n\u001b[1;32m   1733\u001b[0m                 \u001b[0;32mif\u001b[0m \u001b[0;34m\"b\"\u001b[0m \u001b[0;32mnot\u001b[0m \u001b[0;32min\u001b[0m \u001b[0mmode\u001b[0m\u001b[0;34m:\u001b[0m\u001b[0;34m\u001b[0m\u001b[0;34m\u001b[0m\u001b[0m\n\u001b[1;32m   1734\u001b[0m                     \u001b[0mmode\u001b[0m \u001b[0;34m+=\u001b[0m \u001b[0;34m\"b\"\u001b[0m\u001b[0;34m\u001b[0m\u001b[0;34m\u001b[0m\u001b[0m\n\u001b[0;32m-> 1735\u001b[0;31m             self.handles = get_handle(\n\u001b[0m\u001b[1;32m   1736\u001b[0m                 \u001b[0mf\u001b[0m\u001b[0;34m,\u001b[0m\u001b[0;34m\u001b[0m\u001b[0;34m\u001b[0m\u001b[0m\n\u001b[1;32m   1737\u001b[0m                 \u001b[0mmode\u001b[0m\u001b[0;34m,\u001b[0m\u001b[0;34m\u001b[0m\u001b[0;34m\u001b[0m\u001b[0m\n",
            "\u001b[0;32m/usr/local/lib/python3.10/dist-packages/pandas/io/common.py\u001b[0m in \u001b[0;36mget_handle\u001b[0;34m(path_or_buf, mode, encoding, compression, memory_map, is_text, errors, storage_options)\u001b[0m\n\u001b[1;32m    854\u001b[0m         \u001b[0;32mif\u001b[0m \u001b[0mioargs\u001b[0m\u001b[0;34m.\u001b[0m\u001b[0mencoding\u001b[0m \u001b[0;32mand\u001b[0m \u001b[0;34m\"b\"\u001b[0m \u001b[0;32mnot\u001b[0m \u001b[0;32min\u001b[0m \u001b[0mioargs\u001b[0m\u001b[0;34m.\u001b[0m\u001b[0mmode\u001b[0m\u001b[0;34m:\u001b[0m\u001b[0;34m\u001b[0m\u001b[0;34m\u001b[0m\u001b[0m\n\u001b[1;32m    855\u001b[0m             \u001b[0;31m# Encoding\u001b[0m\u001b[0;34m\u001b[0m\u001b[0;34m\u001b[0m\u001b[0m\n\u001b[0;32m--> 856\u001b[0;31m             handle = open(\n\u001b[0m\u001b[1;32m    857\u001b[0m                 \u001b[0mhandle\u001b[0m\u001b[0;34m,\u001b[0m\u001b[0;34m\u001b[0m\u001b[0;34m\u001b[0m\u001b[0m\n\u001b[1;32m    858\u001b[0m                 \u001b[0mioargs\u001b[0m\u001b[0;34m.\u001b[0m\u001b[0mmode\u001b[0m\u001b[0;34m,\u001b[0m\u001b[0;34m\u001b[0m\u001b[0;34m\u001b[0m\u001b[0m\n",
            "\u001b[0;31mFileNotFoundError\u001b[0m: [Errno 2] No such file or directory: '/content/drive/MyDrive/datasets/resultados_optimizacao/resultados_pso/Resultados_primeiro_cenario/melhor_custo_pso_primeiro_cenario.csv'"
          ]
        }
      ]
    },
    {
      "cell_type": "code",
      "source": [
        "resultado.info()"
      ],
      "metadata": {
        "id": "kQtfIuKeR_XX"
      },
      "execution_count": null,
      "outputs": []
    },
    {
      "cell_type": "code",
      "source": [
        "resultado.describe()"
      ],
      "metadata": {
        "id": "AefadimkxMSd"
      },
      "execution_count": null,
      "outputs": []
    },
    {
      "cell_type": "code",
      "source": [
        "param_segunda_etapa = ['Ciclos_MP', 'Melhor_Custo']\n",
        "convergencia = ['Convergencia_Primeira_Etapa', 'Convergencia_Segunda_Etapa']\n",
        "Melhor_Custo = ['Melhor_Custo']\n",
        "Convergencia_Primeira_Etapa = ['Convergencia_Primeira_Etapa']\n",
        "Convergencia_Segunda_Etapa = ['Convergencia_Segunda_Etapa']\n",
        "Ciclos_MP = ['Ciclos_MP']"
      ],
      "metadata": {
        "id": "G85nofRZHZsw"
      },
      "execution_count": null,
      "outputs": []
    },
    {
      "cell_type": "code",
      "source": [
        "# # Cria uma grafico para os parameros da segunda etapa\n",
        "# # Tamanho da figura\n",
        "# plt.figure(figsize=(8, 5))\n",
        "\n",
        "# # Itera sobre as colunas e cria um boxplot para cada uma\n",
        "# for i, coluna in enumerate(param_segunda_etapa):\n",
        "#     plt.subplot(1, 2, i + 1)  # 1 linhas, 3 colunas de gráficos\n",
        "#     plt.boxplot(resultado[coluna])\n",
        "#     plt.title(coluna)\n",
        "#     plt.ylabel('Valores')\n",
        "\n",
        "# # Ajusta o layout\n",
        "# plt.tight_layout()\n",
        "# plt.show()"
      ],
      "metadata": {
        "id": "SLqglbNovFBO"
      },
      "execution_count": null,
      "outputs": []
    },
    {
      "cell_type": "code",
      "source": [
        "# # Cria uma grafico para comparar as convervencias da primeira e segunda etapa\n",
        "# # Tamanho da figura\n",
        "# plt.figure(figsize=(8, 5))\n",
        "\n",
        "# # Itera sobre as colunas e cria um boxplot para cada uma\n",
        "# for i, coluna in enumerate(convergencia):\n",
        "#     plt.subplot(1, 2, i + 1)  # 1 linhas, 2 colunas de gráficos\n",
        "#     plt.boxplot(resultado[coluna])\n",
        "#     plt.title(coluna)\n",
        "#     plt.ylabel('Valores')\n",
        "\n",
        "# # Ajusta o layout\n",
        "# plt.tight_layout()\n",
        "# plt.show()"
      ],
      "metadata": {
        "id": "ARgEnkqqBVOU"
      },
      "execution_count": null,
      "outputs": []
    },
    {
      "cell_type": "code",
      "source": [
        "# Arrays de tempos e severidade\n",
        "Tempos = [\n",
        "[[303]],\n",
        "[[336]],\n",
        "[[272]],\n",
        "[[62]],\n",
        "[[517]],\n",
        "[[364]],\n",
        "[[332]],\n",
        "[[360]],\n",
        "[[395]],\n",
        "[[303]],\n",
        "]\n",
        "\n",
        "severidade = [\n",
        "    [[0.5]],\n",
        "[[0.5]],\n",
        "[[0.5]],\n",
        "[[0.5]],\n",
        "[[0.5]],\n",
        "[[0.5]],\n",
        "[[0.5]],\n",
        "[[0.5]],\n",
        "[[0.5]],\n",
        "[[0.5]],\n",
        "]\n",
        "\n",
        "# Verifica se ambos os arrays têm o mesmo número de linhas\n",
        "if len(Tempos) == len(severidade):\n",
        "    with open(f'{LINK_ARQUIVO_PRINCIPAL}{NOME_ARQUIVO_PRINCIPAL}{NOME_ARQUIVO_TEMPO_SEVERIDADE}.csv', \"w\") as file:\n",
        "        file.write('Tempos_Manutencoes_Preventivas;Severidade_subsistema\\n')\n",
        "        for i in range(len(Tempos)):\n",
        "            row = Tempos[i] + severidade[i]\n",
        "            row_str = [str(value) for value in row]\n",
        "            file.write(f\"{i};{';'.join(row_str)}\\n\")\n",
        "else:\n",
        "    print(\"Os arrays têm números diferentes de linhas e não podem ser concatenados.\")"
      ],
      "metadata": {
        "id": "iP3dSchKxQ3e"
      },
      "execution_count": null,
      "outputs": []
    },
    {
      "cell_type": "code",
      "source": [
        "# Leitura dos dados de tempo de falha para 4 cenarios de exemplo\n",
        "dados = pd.read_csv(f'{LINK_ARQUIVO_PRINCIPAL}{NOME_ARQUIVO_PRINCIPAL}{NOME_ARQUIVO_TEMPO_SEVERIDADE}.csv', sep=\";\")\n",
        "dados.head(10)"
      ],
      "metadata": {
        "id": "I1Smy3tlIsqw"
      },
      "execution_count": null,
      "outputs": []
    },
    {
      "cell_type": "code",
      "source": [
        "dados.info()"
      ],
      "metadata": {
        "id": "HwRD4mOCSQH-"
      },
      "execution_count": null,
      "outputs": []
    },
    {
      "cell_type": "code",
      "source": [
        "dados.describe()"
      ],
      "metadata": {
        "id": "6gqn8fCwSoVA"
      },
      "execution_count": null,
      "outputs": []
    }
  ]
}