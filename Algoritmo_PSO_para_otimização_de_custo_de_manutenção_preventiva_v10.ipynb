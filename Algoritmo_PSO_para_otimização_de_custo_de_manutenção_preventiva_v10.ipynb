{
  "nbformat": 4,
  "nbformat_minor": 0,
  "metadata": {
    "colab": {
      "provenance": [],
      "include_colab_link": true
    },
    "kernelspec": {
      "name": "python3",
      "display_name": "Python 3"
    },
    "language_info": {
      "name": "python"
    }
  },
  "cells": [
    {
      "cell_type": "markdown",
      "metadata": {
        "id": "view-in-github",
        "colab_type": "text"
      },
      "source": [
        "<a href=\"https://colab.research.google.com/github/uervitonsantos/Otimizacao-Politicaca-Manutencao-Preventiva-Imperfeita/blob/main/Algoritmo_PSO_para_otimiza%C3%A7%C3%A3o_de_custo_de_manuten%C3%A7%C3%A3o_preventiva_v10.ipynb\" target=\"_parent\"><img src=\"https://colab.research.google.com/assets/colab-badge.svg\" alt=\"Open In Colab\"/></a>"
      ]
    },
    {
      "cell_type": "markdown",
      "source": [
        "Dataset de dados de confiabilidade: https://drive.google.com/drive/folders/1b7jqK1A2XI1oZ4YhDXw_4xdnSTbfuBVK?usp=sharing"
      ],
      "metadata": {
        "id": "wZi0pIL-Ch37"
      }
    },
    {
      "cell_type": "code",
      "execution_count": 252,
      "metadata": {
        "id": "VM8_ebpiVP0V"
      },
      "outputs": [],
      "source": [
        "%%capture\n",
        "pip install pyswarms"
      ]
    },
    {
      "cell_type": "code",
      "source": [
        "import numpy as np\n",
        "import pandas as pd\n",
        "import math\n",
        "import csv\n",
        "import matplotlib.pyplot as plt\n",
        "import time\n",
        "from pyswarms.single.global_best import GlobalBestPSO\n",
        "import pyswarms as ps\n",
        "from pyswarms.utils.search import RandomSearch\n",
        "from pyswarms.utils.functions import single_obj as fx\n",
        "from pyswarms.utils.plotters import (plot_cost_history, plot_contour, plot_surface)\n",
        "import plotly.graph_objects as go\n",
        "from pyswarms.utils.plotters.formatters import Designer\n",
        "from pyswarms.utils.plotters.formatters import Mesher\n",
        "from mpl_toolkits.mplot3d import Axes3D"
      ],
      "metadata": {
        "id": "2sVG0WwfVrUs"
      },
      "execution_count": 253,
      "outputs": []
    },
    {
      "cell_type": "code",
      "source": [
        "MAX_VALUE_CUSTO = 10000\n",
        "fator_melhoria = 'expo'\n",
        "DIAS_OBSERVADOS = 600"
      ],
      "metadata": {
        "id": "FeZKvg25Vtwz"
      },
      "execution_count": 254,
      "outputs": []
    },
    {
      "cell_type": "code",
      "source": [
        "# Custos MC e MP\n",
        "CMC = 4000\n",
        "CMP = 2000"
      ],
      "metadata": {
        "id": "JFnJpCJGVx7P"
      },
      "execution_count": 255,
      "outputs": []
    },
    {
      "cell_type": "code",
      "source": [
        "class IntensidadeFalha:\n",
        "    # Este método vai inicializar cada objeto criado a partir desta classe\n",
        "    # O nome deste método é \"inicio\"\n",
        "    # (self) é uma referência a cada atributo de um objeto criado a partir desta classe\n",
        "    # Os atributos de cada objeto criados a partir desta classe.\n",
        "    # O self indica que estes são atributos dos objetos\n",
        "    def __init__(self):\n",
        "        self.fator = None\n",
        "        self.lamb = None\n",
        "        self.beta = None\n",
        "        self.theta = None\n",
        "        self.sz = None\n",
        "        self.T = None\n",
        "        self.u = None\n",
        "\n",
        "    def inicio(self, T, fator, solucao):\n",
        "        self.fator = fator\n",
        "        self.lamb = solucao[0]\n",
        "        self.beta = solucao[1]\n",
        "        self.theta = solucao[2]\n",
        "        self.sz = int(T[-1])\n",
        "        self.T = T\n",
        "\n",
        "    def create(self):\n",
        "        self.u = []\n",
        "        # Reducao de Idade com fator de melhoria linear\n",
        "        for i, tc in enumerate(self.T[1:], start=1):\n",
        "            for tt in range(int(self.T[i-1]), int(tc)+1):\n",
        "                b = tt - self.fator[0][i-1] * self.T[i-1]\n",
        "                self.u.append((1 / (self.lamb ** self.beta)) * self.beta * b ** (self.beta - 1))\n",
        "\n",
        "                if tt == tc:\n",
        "                    self.u.append(float('nan'))\n",
        "            break\n",
        "    # plota e salva a figura da função de intensidade de falha\n",
        "    def plotar(self):\n",
        "        fig = plt.figure(figsize=(20, 5))\n",
        "        plt.plot(self.u)\n",
        "\n",
        "        for xc in self.T:\n",
        "            plt.axvline(x=xc, color='r', linestyle='--')\n",
        "\n",
        "        plt.xlabel(\"Tempo (dias)\")\n",
        "        plt.ylabel(\"Função intensidade de falha\")\n",
        "        plt.xlim(0)\n",
        "        plt.grid(True)\n",
        "        plt.show()"
      ],
      "metadata": {
        "id": "QhF2qTuDV2P1"
      },
      "execution_count": 256,
      "outputs": []
    },
    {
      "cell_type": "code",
      "source": [
        "# Define a função de melhoria constante\n",
        "def const(ck, m, s, theta):\n",
        "    fator = [[theta] * ck] * m\n",
        "    return fator"
      ],
      "metadata": {
        "id": "mMRO_z3_V4a3"
      },
      "execution_count": 257,
      "outputs": []
    },
    {
      "cell_type": "code",
      "source": [
        "# Define a função de melhoria linear\n",
        "def linear(ck, m, s, theta):\n",
        "    fator = []\n",
        "    for k in range(0, m, 1):\n",
        "        linha = [0]\n",
        "        for j in range(0, ck, 1):\n",
        "            linha.append(s[k][j] * theta)\n",
        "        fator.append(linha)\n",
        "    return fator"
      ],
      "metadata": {
        "id": "S_fCxa7GV65n"
      },
      "execution_count": 258,
      "outputs": []
    },
    {
      "cell_type": "code",
      "source": [
        "# Define a função de melhoria exponencial\n",
        "def expo(ck, m, s, theta):\n",
        "    fator = []\n",
        "    for k in range(0, m):\n",
        "        linha = []\n",
        "        # Verifique se o índice k é válido\n",
        "        if k >= len(s):\n",
        "            break\n",
        "        for j in range(0, ck):\n",
        "            # Verifique se o índice j é válido\n",
        "            if j >= len(s[k]):\n",
        "                break\n",
        "            linha.append(1.0 - np.exp(-s[k][j] * theta))\n",
        "        fator.append(linha)\n",
        "\n",
        "    return fator"
      ],
      "metadata": {
        "id": "NV3lIXl9V9FL"
      },
      "execution_count": 302,
      "outputs": []
    },
    {
      "cell_type": "code",
      "source": [
        "# Define a função de melhoria potência\n",
        "def pot(ck, m, s, theta):\n",
        "    fator = []\n",
        "    for k in range(0, m, 1):\n",
        "        linha = []\n",
        "        for j in range(0, ck, 1):\n",
        "            linha.append(s[k][j] ** theta)\n",
        "        fator.append(linha)\n",
        "    return fator"
      ],
      "metadata": {
        "id": "ikxXlzxKV-0K"
      },
      "execution_count": 260,
      "outputs": []
    },
    {
      "cell_type": "code",
      "source": [
        "# Define a função de melhoria para manutenção perfeita\n",
        "def mpp(ck, m, s, theta):\n",
        "    fator = []\n",
        "    for k in range(0, m, 1):\n",
        "        linha = []\n",
        "        for j in range(0, ck, 1):\n",
        "            linha.append(1)\n",
        "        fator.append(linha)\n",
        "    return fator"
      ],
      "metadata": {
        "id": "xcHr8tSFWAus"
      },
      "execution_count": 261,
      "outputs": []
    },
    {
      "cell_type": "code",
      "source": [
        "# Executa a função de melhoria com base no parâmetro fornecido\n",
        "def execute_function(fator_melhoria, ck, m, s, theta):\n",
        "    return {\n",
        "        'const': lambda: const(ck, m, s, theta),\n",
        "        'linear': lambda: linear(ck, m, s, theta),\n",
        "        'expo': lambda: expo(ck, m, s, theta),\n",
        "        'pot': lambda: pot(ck, m, s, theta),\n",
        "        'mpp': lambda: mpp(ck, m, s, theta),\n",
        "    }[fator_melhoria]()"
      ],
      "metadata": {
        "id": "R5KeFcseWDH6"
      },
      "execution_count": 303,
      "outputs": []
    },
    {
      "cell_type": "code",
      "source": [
        "# Função custo de manutenção baseada em severidade\n",
        "def custo_mp(s, CMP):\n",
        "    dist = {0.25: 2000, 0.5: 4000, 0.75: 12000, 1.0: 20000}\n",
        "    if not isinstance(s, list):\n",
        "        s = [s]  # Transforma s em uma lista com um único elemento\n",
        "    cmp_f = np.sum([CMP if si < 0.25 or si > 1.0 else np.interp(si, [0.25, 0.5, 0.75, 1.0], [2000, 4000, 12000, 20000]) for si in s])\n",
        "    return cmp_f"
      ],
      "metadata": {
        "id": "B8BkTWrmWGWO"
      },
      "execution_count": 263,
      "outputs": []
    },
    {
      "cell_type": "code",
      "source": [
        "# Defina o dicionário de tipos de dados\n",
        "dtypes = {\n",
        "    't': int,\n",
        "    'k': int,\n",
        "    'c': int,\n",
        "}\n",
        "\n",
        "# Leitura dos dados de tempo de falha para 4 cenarios de exemplo\n",
        "# df = pd.read_csv('/content/drive/MyDrive/datasets/cenario01.csv.csv', sep=\";\")\n",
        "# df = pd.read_csv('/content/drive/MyDrive/datasets/cenario02.csv.csv', sep=\";\")\n",
        "# df = pd.read_csv('/content/drive/MyDrive/datasets/cenario03.csv.csv', sep=\";\")\n",
        "# df = pd.read_csv('/content/drive/MyDrive/datasets/cenario04.csv.csv', sep=\";\")\n",
        "df = pd.read_csv('/content/drive/MyDrive/datasets/cenario01.csv', sep=\";\")\n",
        "\n",
        "# Remova as linhas com valores ausentes\n",
        "df = df.fillna(0)\n",
        "\n",
        "# Converta as colunas para os tipos de dados desejados\n",
        "df = df.astype(dtypes)\n",
        "\n",
        "df.head()"
      ],
      "metadata": {
        "colab": {
          "base_uri": "https://localhost:8080/",
          "height": 206
        },
        "id": "IDcyZ_pHWIW8",
        "outputId": "aab230f5-23fa-42cc-ce26-c16444901b48"
      },
      "execution_count": 317,
      "outputs": [
        {
          "output_type": "execute_result",
          "data": {
            "text/plain": [
              "     t  k  c    n    s      T\n",
              "0   90  1  1  4.0  0.4  150.0\n",
              "1  110  1  1  0.0  0.5  250.0\n",
              "2  125  1  1  9.0  0.9  500.0\n",
              "3  135  1  1  2.0  0.2  600.0\n",
              "4  295  1  3  2.0  0.4    0.0"
            ],
            "text/html": [
              "\n",
              "  <div id=\"df-a3e62540-5aa6-4649-95fa-ccd8c4fead49\" class=\"colab-df-container\">\n",
              "    <div>\n",
              "<style scoped>\n",
              "    .dataframe tbody tr th:only-of-type {\n",
              "        vertical-align: middle;\n",
              "    }\n",
              "\n",
              "    .dataframe tbody tr th {\n",
              "        vertical-align: top;\n",
              "    }\n",
              "\n",
              "    .dataframe thead th {\n",
              "        text-align: right;\n",
              "    }\n",
              "</style>\n",
              "<table border=\"1\" class=\"dataframe\">\n",
              "  <thead>\n",
              "    <tr style=\"text-align: right;\">\n",
              "      <th></th>\n",
              "      <th>t</th>\n",
              "      <th>k</th>\n",
              "      <th>c</th>\n",
              "      <th>n</th>\n",
              "      <th>s</th>\n",
              "      <th>T</th>\n",
              "    </tr>\n",
              "  </thead>\n",
              "  <tbody>\n",
              "    <tr>\n",
              "      <th>0</th>\n",
              "      <td>90</td>\n",
              "      <td>1</td>\n",
              "      <td>1</td>\n",
              "      <td>4.0</td>\n",
              "      <td>0.4</td>\n",
              "      <td>150.0</td>\n",
              "    </tr>\n",
              "    <tr>\n",
              "      <th>1</th>\n",
              "      <td>110</td>\n",
              "      <td>1</td>\n",
              "      <td>1</td>\n",
              "      <td>0.0</td>\n",
              "      <td>0.5</td>\n",
              "      <td>250.0</td>\n",
              "    </tr>\n",
              "    <tr>\n",
              "      <th>2</th>\n",
              "      <td>125</td>\n",
              "      <td>1</td>\n",
              "      <td>1</td>\n",
              "      <td>9.0</td>\n",
              "      <td>0.9</td>\n",
              "      <td>500.0</td>\n",
              "    </tr>\n",
              "    <tr>\n",
              "      <th>3</th>\n",
              "      <td>135</td>\n",
              "      <td>1</td>\n",
              "      <td>1</td>\n",
              "      <td>2.0</td>\n",
              "      <td>0.2</td>\n",
              "      <td>600.0</td>\n",
              "    </tr>\n",
              "    <tr>\n",
              "      <th>4</th>\n",
              "      <td>295</td>\n",
              "      <td>1</td>\n",
              "      <td>3</td>\n",
              "      <td>2.0</td>\n",
              "      <td>0.4</td>\n",
              "      <td>0.0</td>\n",
              "    </tr>\n",
              "  </tbody>\n",
              "</table>\n",
              "</div>\n",
              "    <div class=\"colab-df-buttons\">\n",
              "\n",
              "  <div class=\"colab-df-container\">\n",
              "    <button class=\"colab-df-convert\" onclick=\"convertToInteractive('df-a3e62540-5aa6-4649-95fa-ccd8c4fead49')\"\n",
              "            title=\"Convert this dataframe to an interactive table.\"\n",
              "            style=\"display:none;\">\n",
              "\n",
              "  <svg xmlns=\"http://www.w3.org/2000/svg\" height=\"24px\" viewBox=\"0 -960 960 960\">\n",
              "    <path d=\"M120-120v-720h720v720H120Zm60-500h600v-160H180v160Zm220 220h160v-160H400v160Zm0 220h160v-160H400v160ZM180-400h160v-160H180v160Zm440 0h160v-160H620v160ZM180-180h160v-160H180v160Zm440 0h160v-160H620v160Z\"/>\n",
              "  </svg>\n",
              "    </button>\n",
              "\n",
              "  <style>\n",
              "    .colab-df-container {\n",
              "      display:flex;\n",
              "      gap: 12px;\n",
              "    }\n",
              "\n",
              "    .colab-df-convert {\n",
              "      background-color: #E8F0FE;\n",
              "      border: none;\n",
              "      border-radius: 50%;\n",
              "      cursor: pointer;\n",
              "      display: none;\n",
              "      fill: #1967D2;\n",
              "      height: 32px;\n",
              "      padding: 0 0 0 0;\n",
              "      width: 32px;\n",
              "    }\n",
              "\n",
              "    .colab-df-convert:hover {\n",
              "      background-color: #E2EBFA;\n",
              "      box-shadow: 0px 1px 2px rgba(60, 64, 67, 0.3), 0px 1px 3px 1px rgba(60, 64, 67, 0.15);\n",
              "      fill: #174EA6;\n",
              "    }\n",
              "\n",
              "    .colab-df-buttons div {\n",
              "      margin-bottom: 4px;\n",
              "    }\n",
              "\n",
              "    [theme=dark] .colab-df-convert {\n",
              "      background-color: #3B4455;\n",
              "      fill: #D2E3FC;\n",
              "    }\n",
              "\n",
              "    [theme=dark] .colab-df-convert:hover {\n",
              "      background-color: #434B5C;\n",
              "      box-shadow: 0px 1px 3px 1px rgba(0, 0, 0, 0.15);\n",
              "      filter: drop-shadow(0px 1px 2px rgba(0, 0, 0, 0.3));\n",
              "      fill: #FFFFFF;\n",
              "    }\n",
              "  </style>\n",
              "\n",
              "    <script>\n",
              "      const buttonEl =\n",
              "        document.querySelector('#df-a3e62540-5aa6-4649-95fa-ccd8c4fead49 button.colab-df-convert');\n",
              "      buttonEl.style.display =\n",
              "        google.colab.kernel.accessAllowed ? 'block' : 'none';\n",
              "\n",
              "      async function convertToInteractive(key) {\n",
              "        const element = document.querySelector('#df-a3e62540-5aa6-4649-95fa-ccd8c4fead49');\n",
              "        const dataTable =\n",
              "          await google.colab.kernel.invokeFunction('convertToInteractive',\n",
              "                                                    [key], {});\n",
              "        if (!dataTable) return;\n",
              "\n",
              "        const docLinkHtml = 'Like what you see? Visit the ' +\n",
              "          '<a target=\"_blank\" href=https://colab.research.google.com/notebooks/data_table.ipynb>data table notebook</a>'\n",
              "          + ' to learn more about interactive tables.';\n",
              "        element.innerHTML = '';\n",
              "        dataTable['output_type'] = 'display_data';\n",
              "        await google.colab.output.renderOutput(dataTable, element);\n",
              "        const docLink = document.createElement('div');\n",
              "        docLink.innerHTML = docLinkHtml;\n",
              "        element.appendChild(docLink);\n",
              "      }\n",
              "    </script>\n",
              "  </div>\n",
              "\n",
              "\n",
              "<div id=\"df-b82d03a9-b103-4242-a669-7db495539566\">\n",
              "  <button class=\"colab-df-quickchart\" onclick=\"quickchart('df-b82d03a9-b103-4242-a669-7db495539566')\"\n",
              "            title=\"Suggest charts.\"\n",
              "            style=\"display:none;\">\n",
              "\n",
              "<svg xmlns=\"http://www.w3.org/2000/svg\" height=\"24px\"viewBox=\"0 0 24 24\"\n",
              "     width=\"24px\">\n",
              "    <g>\n",
              "        <path d=\"M19 3H5c-1.1 0-2 .9-2 2v14c0 1.1.9 2 2 2h14c1.1 0 2-.9 2-2V5c0-1.1-.9-2-2-2zM9 17H7v-7h2v7zm4 0h-2V7h2v10zm4 0h-2v-4h2v4z\"/>\n",
              "    </g>\n",
              "</svg>\n",
              "  </button>\n",
              "\n",
              "<style>\n",
              "  .colab-df-quickchart {\n",
              "      --bg-color: #E8F0FE;\n",
              "      --fill-color: #1967D2;\n",
              "      --hover-bg-color: #E2EBFA;\n",
              "      --hover-fill-color: #174EA6;\n",
              "      --disabled-fill-color: #AAA;\n",
              "      --disabled-bg-color: #DDD;\n",
              "  }\n",
              "\n",
              "  [theme=dark] .colab-df-quickchart {\n",
              "      --bg-color: #3B4455;\n",
              "      --fill-color: #D2E3FC;\n",
              "      --hover-bg-color: #434B5C;\n",
              "      --hover-fill-color: #FFFFFF;\n",
              "      --disabled-bg-color: #3B4455;\n",
              "      --disabled-fill-color: #666;\n",
              "  }\n",
              "\n",
              "  .colab-df-quickchart {\n",
              "    background-color: var(--bg-color);\n",
              "    border: none;\n",
              "    border-radius: 50%;\n",
              "    cursor: pointer;\n",
              "    display: none;\n",
              "    fill: var(--fill-color);\n",
              "    height: 32px;\n",
              "    padding: 0;\n",
              "    width: 32px;\n",
              "  }\n",
              "\n",
              "  .colab-df-quickchart:hover {\n",
              "    background-color: var(--hover-bg-color);\n",
              "    box-shadow: 0 1px 2px rgba(60, 64, 67, 0.3), 0 1px 3px 1px rgba(60, 64, 67, 0.15);\n",
              "    fill: var(--button-hover-fill-color);\n",
              "  }\n",
              "\n",
              "  .colab-df-quickchart-complete:disabled,\n",
              "  .colab-df-quickchart-complete:disabled:hover {\n",
              "    background-color: var(--disabled-bg-color);\n",
              "    fill: var(--disabled-fill-color);\n",
              "    box-shadow: none;\n",
              "  }\n",
              "\n",
              "  .colab-df-spinner {\n",
              "    border: 2px solid var(--fill-color);\n",
              "    border-color: transparent;\n",
              "    border-bottom-color: var(--fill-color);\n",
              "    animation:\n",
              "      spin 1s steps(1) infinite;\n",
              "  }\n",
              "\n",
              "  @keyframes spin {\n",
              "    0% {\n",
              "      border-color: transparent;\n",
              "      border-bottom-color: var(--fill-color);\n",
              "      border-left-color: var(--fill-color);\n",
              "    }\n",
              "    20% {\n",
              "      border-color: transparent;\n",
              "      border-left-color: var(--fill-color);\n",
              "      border-top-color: var(--fill-color);\n",
              "    }\n",
              "    30% {\n",
              "      border-color: transparent;\n",
              "      border-left-color: var(--fill-color);\n",
              "      border-top-color: var(--fill-color);\n",
              "      border-right-color: var(--fill-color);\n",
              "    }\n",
              "    40% {\n",
              "      border-color: transparent;\n",
              "      border-right-color: var(--fill-color);\n",
              "      border-top-color: var(--fill-color);\n",
              "    }\n",
              "    60% {\n",
              "      border-color: transparent;\n",
              "      border-right-color: var(--fill-color);\n",
              "    }\n",
              "    80% {\n",
              "      border-color: transparent;\n",
              "      border-right-color: var(--fill-color);\n",
              "      border-bottom-color: var(--fill-color);\n",
              "    }\n",
              "    90% {\n",
              "      border-color: transparent;\n",
              "      border-bottom-color: var(--fill-color);\n",
              "    }\n",
              "  }\n",
              "</style>\n",
              "\n",
              "  <script>\n",
              "    async function quickchart(key) {\n",
              "      const quickchartButtonEl =\n",
              "        document.querySelector('#' + key + ' button');\n",
              "      quickchartButtonEl.disabled = true;  // To prevent multiple clicks.\n",
              "      quickchartButtonEl.classList.add('colab-df-spinner');\n",
              "      try {\n",
              "        const charts = await google.colab.kernel.invokeFunction(\n",
              "            'suggestCharts', [key], {});\n",
              "      } catch (error) {\n",
              "        console.error('Error during call to suggestCharts:', error);\n",
              "      }\n",
              "      quickchartButtonEl.classList.remove('colab-df-spinner');\n",
              "      quickchartButtonEl.classList.add('colab-df-quickchart-complete');\n",
              "    }\n",
              "    (() => {\n",
              "      let quickchartButtonEl =\n",
              "        document.querySelector('#df-b82d03a9-b103-4242-a669-7db495539566 button');\n",
              "      quickchartButtonEl.style.display =\n",
              "        google.colab.kernel.accessAllowed ? 'block' : 'none';\n",
              "    })();\n",
              "  </script>\n",
              "</div>\n",
              "    </div>\n",
              "  </div>\n"
            ]
          },
          "metadata": {},
          "execution_count": 317
        }
      ]
    },
    {
      "cell_type": "code",
      "source": [
        "# Cria as variaveis\n",
        "# tempos de falhas\n",
        "t = df['t']\n",
        "# indice do sistema\n",
        "k = df['k']\n",
        "m = k.drop_duplicates().shape[0]\n",
        "# Numero de ciclos de manutenção\n",
        "ck = df['c'].max()\n",
        "# Numero de falhas e severidade das manutenções preventivas em cada sistema\n",
        "n = []\n",
        "s = []\n",
        "for k in range(m):\n",
        "    n.append(list(df['n'][k * ck:(k + 1) * ck]))\n",
        "    s.append(list(df['s'][k * ck:(k + 1) * ck]))\n",
        "\n",
        "# Tempos das MP\n",
        "T = list(df['T'][:m])"
      ],
      "metadata": {
        "id": "osEXf1wsuIlP"
      },
      "execution_count": 318,
      "outputs": []
    },
    {
      "cell_type": "code",
      "source": [
        "def objective(x):\n",
        "    lamb = x[0]\n",
        "    beta = x[1]\n",
        "    theta = x[2]\n",
        "\n",
        "    # Cria fator de melhoria\n",
        "    fator = execute_function(fator_melhoria, ck, m, s, theta)\n",
        "\n",
        "    cont = 0\n",
        "    fitness = 1\n",
        "\n",
        "    for k in range(m):\n",
        "        prod = 1\n",
        "        for j in range(ck):\n",
        "            if j < len(T):\n",
        "                T_value = T[j]\n",
        "            else:\n",
        "                T_value = 0\n",
        "\n",
        "            if k < len(fator) and j < len(fator[k]):\n",
        "                fator_value = fator[k][j]\n",
        "            else:\n",
        "                fator_value = 0\n",
        "\n",
        "            if k < len(n) and j < len(n[k]):\n",
        "                nkj = int(n[k][j])\n",
        "                for i in range(nkj):\n",
        "                    if cont < len(t):\n",
        "                        t_value = int(t[cont])\n",
        "                    else:\n",
        "                        t_value = 0\n",
        "\n",
        "                    if (lamb == 0).any():\n",
        "                        # Evite divisão por zero\n",
        "                        lamb[lamb == 0] = 1e-10\n",
        "\n",
        "\n",
        "                    if (beta == 0).any():\n",
        "                        # Evite exponenciação que pode resultar em estouro numérico\n",
        "                        beta[beta == 0] = 1e-10\n",
        "\n",
        "                    # Evite exponenciações que podem resultar em estouro numérico\n",
        "                    if (beta == 1).any():\n",
        "                        prod *= (t_value - fator_value * T_value) ** (beta - 1)\n",
        "                    else:\n",
        "                        prod *= (1 / (lamb ** beta)) * beta * ((t_value - fator_value * T_value) ** (beta - 1))\n",
        "                    cont += 1\n",
        "\n",
        "        soma = 0\n",
        "        for l in range(ck):\n",
        "            if l < len(T) and l + 1 < len(T):\n",
        "                T_l_value = T[l]\n",
        "                T_lplus1_value = T[l + 1]\n",
        "            else:\n",
        "                T_l_value = 0\n",
        "                T_lplus1_value = 0\n",
        "\n",
        "            if (lamb == 0).any():\n",
        "                # Evite divisão por zero\n",
        "                lamb = np.maximum(1e-10, lamb)\n",
        "\n",
        "            if (beta == 0).any():\n",
        "                # Evite exponenciações que podem resultar em estouro numérico\n",
        "                beta = np.maximum(1e-10, beta)\n",
        "\n",
        "            if np.allclose(beta, 1, atol=1e-10):\n",
        "                # Evite exponenciações que podem resultar em estouro numérico\n",
        "                beta = np.maximum(1e-10, beta)\n",
        "\n",
        "                soma += ((T_lplus1_value - fator[k][l] * T_l_value) ** beta - (T_l_value - fator[k][l] * T_l_value) ** beta)\n",
        "            else:\n",
        "                soma += ((1 / (lamb ** beta)) * (T_lplus1_value - fator[k][l] * T_l_value) ** beta - (1 / (lamb ** beta)) * (T_l_value - fator[k][l] * T_l_value) ** beta)\n",
        "\n",
        "        ans = np.exp(-soma)\n",
        "        fitness *= prod * ans\n",
        "\n",
        "    return -fitness\n"
      ],
      "metadata": {
        "id": "7A55OWAZudPH"
      },
      "execution_count": 340,
      "outputs": []
    },
    {
      "cell_type": "code",
      "source": [
        "print('lambda: ', lamb)\n",
        "print('beta: ', beta)\n",
        "print('theta: ', theta)\n",
        "print('')\n",
        "print('n: ', n)\n",
        "print('')\n",
        "print('t: ', t)\n",
        "print('')\n",
        "print('ck: ', ck)\n",
        "print('s: ', s)\n",
        "print('')\n",
        "print('T: ', T)\n",
        "print('fator: ', fator)"
      ],
      "metadata": {
        "id": "sYQ9583UujK-"
      },
      "execution_count": null,
      "outputs": []
    },
    {
      "cell_type": "code",
      "source": [
        "# Parâmetros do PSO\n",
        "num_particles = 100\n",
        "max_iterations = 50\n",
        "dimensions = 3\n",
        "options = {'c1': 0.5, 'c2': 0.3, 'w': 0.9}\n",
        "\n",
        "# Limites inferiores e superiores para lamb, beta e theta\n",
        "lb = np.array([100, 1, 0])\n",
        "ub = np.array([150, 2, 1])\n",
        "bounds = (lb, ub)\n",
        "\n",
        "# Configuração do PSO\n",
        "optimizer = GlobalBestPSO(n_particles=num_particles, dimensions=dimensions, options=options, bounds=bounds)\n",
        "\n",
        "# Inicializar current_cost e pbest_cost com valores apropriados\n",
        "optimizer.swarm.current_cost = np.full(num_particles, np.inf)\n",
        "optimizer.swarm.pbest_cost = np.full(num_particles, np.inf)\n",
        "\n",
        "# Executa a otimização\n",
        "# cost, pos = optimizer.optimize(objective, iters=max_iterations)\n",
        "\n",
        "# Recupere os valores ótimos\n",
        "# lamb_optimal, beta_optimal, theta_optimal = pos\n",
        "\n",
        "# # Resultados\n",
        "# print(\"Resultado da otimização:\")\n",
        "# print(f\"lambda: {lamb_optimal}\")\n",
        "# print(f\"beta: {beta_optimal}\")\n",
        "# print(f\"theta: {theta_optimal}\")"
      ],
      "metadata": {
        "id": "sdZ_xrssxPjt"
      },
      "execution_count": 344,
      "outputs": []
    },
    {
      "cell_type": "code",
      "source": [
        "# Criação de variáveis para os parâmetros\n",
        "lamb = 5\n",
        "beta = 5\n",
        "theta = 2\n",
        "\n",
        "solucao = [lamb, beta, theta]\n",
        "\n",
        "# Cria a instância da classe IntensidadeFalha\n",
        "intensidadeFalha = IntensidadeFalha()\n",
        "\n",
        "# Inicializa a instância com os valores necessários\n",
        "falha = intensidadeFalha.inicio(T, execute_function(fator_melhoria, ck, m, s, theta), solucao)\n",
        "\n",
        "# Cria os dados da intensidade de falha\n",
        "intensidadeFalha.create()\n",
        "\n",
        "# Plota o gráfico da intensidade de falha\n",
        "intensidadeFalha.plotar()\n",
        "\n",
        "fator = execute_function(fator_melhoria, ck, m, s, theta)\n",
        "print('Fator ajuste: ', fator[0])\n",
        "\n",
        "last_value_fator_ajuste = fator[0][-1]\n",
        "\n",
        "time_duration = 1\n",
        "time.sleep(time_duration)"
      ],
      "metadata": {
        "id": "grvISRd2_HkE",
        "outputId": "e3afc62d-e5af-4f8c-d899-ff7277d42dab",
        "colab": {
          "base_uri": "https://localhost:8080/",
          "height": 411
        }
      },
      "execution_count": 346,
      "outputs": [
        {
          "output_type": "display_data",
          "data": {
            "text/plain": [
              "<Figure size 2000x500 with 1 Axes>"
            ],
            "image/png": "[encoded data removed]"
          },
          "metadata": {}
        },
        {
          "output_type": "stream",
          "name": "stdout",
          "text": [
            "Fator ajuste:  [0.5506710358827784, 0.6321205588285577, 0.8347011117784134, 0.3296799539643607]\n"
          ]
        }
      ]
    },
    {
      "cell_type": "code",
      "source": [
        "# Função objetivo para otimização da politica de manutenção\n",
        "# Numero de ciclos determinado pela solução\n",
        "# Solução com 24 valores reais\n",
        "# Solucao a ser avaliada X = [x1, ..., x24]\n",
        "def objective_st(x):\n",
        "\n",
        "    # Dicionario para severidades\n",
        "    dict_severidades = {1: 0.25, 3: 0.50, 5: 0.75, 7: 1.0}\n",
        "\n",
        "    results = [] # Lista para armazenar os resultados das funções objetivo\n",
        "\n",
        "\n",
        "    # No PSO, como cada particula é um vetor de dimenções definidas, é\n",
        "    # Necessario interar sobre o vetor de particulas\n",
        "    for particle in x:\n",
        "        T = [0]\n",
        "        s_row = []\n",
        "        cont = 0\n",
        "\n",
        "        for number in particle:\n",
        "            modulo = int(number) % 2\n",
        "            if modulo == 1:\n",
        "                inteiro = int(number)\n",
        "                s_row.append(dict_severidades[inteiro])  # Severidade\n",
        "                frac = number - inteiro  # Tempo\n",
        "                t = (cont + frac) * 30\n",
        "                T.append(int(t))\n",
        "            cont += 1\n",
        "\n",
        "    s = []\n",
        "    for row in range(m):\n",
        "        s.append(s_row)\n",
        "\n",
        "    # A partir da solução define o número de ciclos\n",
        "    # A variável m é o número de sistemas em análise: em nosso exemplo m = 4\n",
        "    # Para novos dados esse parâmetro deve ser ajustado\n",
        "    # m = 4\n",
        "    ck = len(T) - 1\n",
        "\n",
        "    print(\"\")\n",
        "    print(\"=========================================================================\")\n",
        "    print(\"\")\n",
        "    print('Número de ciclos de manutenção:', ck, m)\n",
        "    print('Tempos para manutenções preventivas:', T)\n",
        "    print('Severidade para cada subsistema:', s[0])\n",
        "    print(\"Número de Sisemas:\", m)\n",
        "\n",
        "    if ck == 0:\n",
        "        return MAX_VALUE_CUSTO\n",
        "\n",
        "    # O modelo já está ajustado\n",
        "    # Utilizado para avaliar a solução candidata\n",
        "\n",
        "    # Cria fator de meloria a partir da solução\n",
        "    fact = execute_function(fator_melhoria, ck, m, s, theta)\n",
        "    fator = [last_value_fator_ajuste] + list(fact[0])\n",
        "\n",
        "    print('Fator: ', fator)\n",
        "\n",
        "    # Numero esperado de falhas (NEF) em cada ciclo\n",
        "    termos_somatorio = [((1/(lamb**beta)) * (T[1]**beta))]\n",
        "    numero_medio_falhas = [0, ((1/(lamb**beta)) * (T[1]**beta))]\n",
        "\n",
        "    for i in range(ck-1):\n",
        "        termo = (((T[i+2]-fator[i]*T[i+1])**beta) - (((1-fator[i])*T[i+1])**beta)) * (1/(lamb**beta))\n",
        "        termos_somatorio.append(termo)\n",
        "        numero_medio_falhas.append(sum(termos_somatorio))\n",
        "\n",
        "    # Número médio de falhas até o final do período: 2 anos\n",
        "    final = DIAS_OBSERVADOS\n",
        "    termo = (((final-fator[ck-1]*T[ck])**beta) - (((1-fator[ck-1])*T[ck])**beta)) * (1/(lamb**beta))\n",
        "    termos_somatorio.append(termo)\n",
        "    numero_medio_falhas.append(sum(termos_somatorio))\n",
        "\n",
        "    mi = numero_medio_falhas\n",
        "\n",
        "    print('Media de falhas: ', mi)\n",
        "\n",
        "    Ctotal =  []\n",
        "\n",
        "    for i in range(ck):\n",
        "        cmp = custo_mp(s[0][i], CMP)\n",
        "        Ctotal.append((cmp + (mi[i+1] - mi[i])*CMC)/(T[i+1]-T[i]))\n",
        "\n",
        "    cmp = custo_mp(s[0][ck-1], CMP)\n",
        "    Ctotal.append((cmp + (mi[ck+1] - mi[ck])*CMC)/(final-T[ck]))\n",
        "\n",
        "    # Custo Total\n",
        "    Custo = np.sum(Ctotal)\n",
        "    results.append(Custo) # Adicione o valor da função objetivo à lista de resultados\n",
        "    print('Custo = ', Custo)\n",
        "\n",
        "    # Retorne os resultados da função objetivo como um array\n",
        "    return np.array(results)"
      ],
      "metadata": {
        "id": "-JuqM09rWWBJ"
      },
      "execution_count": 347,
      "outputs": []
    },
    {
      "cell_type": "code",
      "source": [
        "num_particles = 100\n",
        "max_iterations = 100\n",
        "dimensions = 24\n",
        "options = {'c1': 0.5, 'c2': 0.3, 'w': 0.9}\n",
        "\n",
        "max_bound = np.array([7.0] * dimensions)  # Limite superior dos valores em x\n",
        "min_bound = np.array([0.0] * dimensions)   # Limite inferior dos valores em x\n",
        "bounds = (min_bound, max_bound)\n",
        "\n",
        "optimizer = GlobalBestPSO(n_particles=num_particles, dimensions=dimensions, options=options, bounds=bounds)\n",
        "\n",
        "# Inicializar current_cost e pbest_cost com valores infinitos\n",
        "optimizer.swarm.current_cost = np.full(optimizer.swarm.position.shape[0], np.inf)\n",
        "optimizer.swarm.pbest_cost = np.full(optimizer.swarm.position.shape[0], np.inf)\n",
        "best_cost, best_position = optimizer.optimize(objective_st, iters=max_iterations)\n",
        "\n",
        "pbest_cost = optimizer.swarm.pbest_cost\n",
        "\n",
        "best_positions = []  # Lista para armazenar todas as melhores posições\n",
        "\n",
        "# Loop de iterações do PSO\n",
        "for i in range(max_iterations):\n",
        "    best_cost, best_position = optimizer.optimize(objective_st, iters=1)\n",
        "    pbest_cost = optimizer.swarm.pbest_cost\n",
        "    best_positions.append(best_position)\n",
        "\n",
        "# Converter a lista de melhores posições em um array numpy para facilitar a manipulação\n",
        "best_positions = np.array(best_positions)"
      ],
      "metadata": {
        "colab": {
          "base_uri": "https://localhost:8080/"
        },
        "id": "cePW2Ji6gjmC",
        "outputId": "63999f67-d2ef-4d8a-e47c-25614416fad0"
      },
      "execution_count": 348,
      "outputs": [
        {
          "output_type": "stream",
          "name": "stderr",
          "text": [
            "2023-10-02 01:29:09,654 - pyswarms.single.global_best - INFO - Optimize for 100 iters with {'c1': 0.5, 'c2': 0.3, 'w': 0.9}\n",
            "pyswarms.single.global_best:   8%|▊         |8/100, best_cost=5.44e+10"
          ]
        },
        {
          "output_type": "stream",
          "name": "stdout",
          "text": [
            "\n",
            "=========================================================================\n",
            "\n",
            "Número de ciclos de manutenção: 11 5\n",
            "Tempos para manutenções preventivas: [0, 1, 88, 112, 327, 348, 455, 481, 597, 643, 680, 715]\n",
            "Severidade para cada subsistema: [0.5, 0.25, 0.25, 0.75, 0.25, 0.75, 0.25, 0.5, 0.25, 0.5, 0.25]\n",
            "Número de Sisemas: 5\n",
            "Fator:  [0.3296799539643607, 0.6321205588285577, 0.3934693402873666, 0.3934693402873666, 0.7768698398515702, 0.3934693402873666, 0.7768698398515702, 0.3934693402873666, 0.6321205588285577, 0.3934693402873666, 0.6321205588285577, 0.3934693402873666]\n",
            "Media de falhas:  [0, 0.00032, 1657345.060504935, 1828154.8253047196, 581536189.5731088, 645767617.0130042, 713553473.434081, 1004804707.5058985, 1178011336.985845, 2808263954.7667418, 3061396263.2389708, 4981212955.5031395, 4601051791.551203]\n",
            "Custo =  478196442527.3779\n",
            "\n",
            "=========================================================================\n",
            "\n",
            "Número de ciclos de manutenção: 11 5\n",
            "Tempos para manutenções preventivas: [0, 59, 68, 201, 380, 400, 443, 466, 490, 514, 548, 684]\n",
            "Severidade para cada subsistema: [0.75, 0.5, 0.25, 0.75, 0.5, 0.25, 0.75, 0.25, 0.75, 0.25, 0.5]\n",
            "Número de Sisemas: 5\n",
            "Fator:  [0.3296799539643607, 0.7768698398515702, 0.6321205588285577, 0.3934693402873666, 0.7768698398515702, 0.6321205588285577, 0.3934693402873666, 0.7768698398515702, 0.3934693402873666, 0.7768698398515702, 0.3934693402873666, 0.6321205588285577]\n",
            "Media de falhas:  [0, 228775.77568000002, 284121.3722414591, 23139492.260006018, 353769072.47547644, 461162414.0314705, 472296862.1939393, 506691898.34184486, 797064755.1952907, 805550309.3113793, 1444423448.2319813, 1803436829.6271222, -860424746.9831483]\n",
            "Custo =  298993086102.2449\n",
            "\n",
            "=========================================================================\n",
            "\n",
            "Número de ciclos de manutenção: 10 5\n",
            "Tempos para manutenções preventivas: [0, 141, 207, 219, 313, 330, 467, 502, 537, 615, 674]\n",
            "Severidade para cada subsistema: [0.75, 0.5, 0.5, 0.75, 0.5, 0.75, 0.25, 0.75, 0.75, 0.5]\n",
            "Número de Sisemas: 5\n",
            "Fator:  [0.3296799539643607, 0.7768698398515702, 0.6321205588285577, 0.6321205588285577, 0.7768698398515702, 0.6321205588285577, 0.7768698398515702, 0.3934693402873666, 0.7768698398515702, 0.7768698398515702, 0.6321205588285577]\n",
            "Media de falhas:  [0, 17833867.74432, 49518386.758211374, 49664580.411205135, 100451637.75986364, 106869351.48804633, 238849403.33119386, 311989313.2602368, 328320713.48774517, 2586833046.942165, 2664356141.096179, 2640571202.861259]\n",
            "Custo =  142587478981.86966\n",
            "\n",
            "=========================================================================\n",
            "\n",
            "Número de ciclos de manutenção: 12 5\n",
            "Tempos para manutenções preventivas: [0, 12, 53, 71, 151, 232, 251, 272, 360, 435, 450, 639, 692]\n",
            "Severidade para cada subsistema: [0.25, 0.5, 0.75, 0.75, 0.5, 0.5, 0.25, 0.5, 0.5, 0.75, 0.5, 0.5]\n",
            "Número de Sisemas: 5\n",
            "Fator:  [0.3296799539643607, 0.3934693402873666, 0.6321205588285577, 0.7768698398515702, 0.7768698398515702, 0.6321205588285577, 0.6321205588285577, 0.3934693402873666, 0.6321205588285577, 0.6321205588285577, 0.7768698398515702, 0.6321205588285577, 0.6321205588285577]\n",
            "Media de falhas:  [0, 79.62624000000001, 90866.02521086819, 181351.01638868765, 4483963.625701896, 10820863.200947147, 11269818.264341211, 15106188.360168863, 87174254.08339418, 623511899.4244409, 642491802.5682296, 2395420460.207602, 2468139034.145534, 2162335854.983735]\n",
            "Custo =  94207118834.46614\n",
            "\n",
            "=========================================================================\n",
            "\n",
            "Número de ciclos de manutenção: 9 5\n",
            "Tempos para manutenções preventivas: [0, 30, 137, 168, 204, 298, 302, 372, 571, 655]\n",
            "Severidade para cada subsistema: [0.5, 0.5, 0.75, 0.25, 0.25, 0.5, 0.75, 0.75, 0.5]\n",
            "Número de Sisemas: 5\n",
            "Fator:  [0.3296799539643607, 0.6321205588285577, 0.6321205588285577, 0.7768698398515702, 0.3934693402873666, 0.3934693402873666, 0.6321205588285577, 0.7768698398515702, 0.7768698398515702, 0.6321205588285577]\n",
            "Media de falhas:  [0, 7776.000000000001, 10624700.18974778, 11664199.077596378, 14239346.537788225, 31093287.832563408, 38232936.06696813, 305083646.5260339, 1657087763.595388, 1781474331.6638308, 1762150062.283484]\n",
            "Custo =  58428172109.385124\n",
            "\n",
            "=========================================================================\n",
            "\n",
            "Número de ciclos de manutenção: 10 5\n",
            "Tempos para manutenções preventivas: [0, 70, 183, 354, 407, 457, 492, 543, 581, 607, 671]\n",
            "Severidade para cada subsistema: [0.75, 0.75, 0.75, 0.25, 0.5, 0.5, 0.25, 0.75, 0.5, 0.25]\n",
            "Número de Sisemas: 5\n",
            "Fator:  [0.3296799539643607, 0.7768698398515702, 0.7768698398515702, 0.7768698398515702, 0.3934693402873666, 0.6321205588285577, 0.6321205588285577, 0.3934693402873666, 0.7768698398515702, 0.6321205588285577, 0.3934693402873666]\n",
            "Media de falhas:  [0, 537824.0, 33938182.20165047, 170396690.4514912, 182230870.0808333, 197970828.99075592, 623246747.0924361, 776147501.7411776, 917489691.602083, 1660917276.0184531, 1747307425.833553, 1507827639.39456]\n",
            "Custo =  215295382902.00504\n",
            "\n",
            "=========================================================================\n",
            "\n",
            "Número de ciclos de manutenção: 10 5\n",
            "Tempos para manutenções preventivas: [0, 3, 83, 90, 130, 256, 315, 372, 500, 590, 605]\n",
            "Severidade para cada subsistema: [0.25, 0.5, 0.5, 0.25, 0.25, 0.25, 0.75, 0.5, 0.75, 0.75]\n",
            "Número de Sisemas: 5\n",
            "Fator:  [0.3296799539643607, 0.3934693402873666, 0.6321205588285577, 0.6321205588285577, 0.3934693402873666, 0.3934693402873666, 0.3934693402873666, 0.7768698398515702, 0.6321205588285577, 0.7768698398515702, 0.7768698398515702]\n",
            "Media de falhas:  [0, 0.07776000000000001, 1187160.62815878, 1282081.2697870014, 1937706.6788970295, 52638827.94811752, 168293580.81050035, 387373935.6281125, 1969918515.7022493, 2070857476.1941607, 2132011177.6360931, 2129544112.2409906]\n",
            "Custo =  97225780971.47478\n",
            "\n",
            "=========================================================================\n",
            "\n",
            "Número de ciclos de manutenção: 14 5\n",
            "Tempos para manutenções preventivas: [0, 12, 36, 90, 124, 184, 259, 288, 320, 371, 403, 504, 536, 588, 670]\n",
            "Severidade para cada subsistema: [0.25, 0.5, 0.5, 0.25, 0.5, 0.25, 0.25, 0.25, 0.5, 0.5, 0.5, 0.75, 0.75, 0.25]\n",
            "Número de Sisemas: 5\n",
            "Fator:  [0.3296799539643607, 0.3934693402873666, 0.6321205588285577, 0.6321205588285577, 0.3934693402873666, 0.6321205588285577, 0.3934693402873666, 0.3934693402873666, 0.3934693402873666, 0.6321205588285577, 0.6321205588285577, 0.6321205588285577, 0.7768698398515702, 0.7768698398515702, 0.3934693402873666]\n",
            "Media de falhas:  [0, 79.62624000000001, 10880.022293998878, 811895.9018689211, 1234734.7942427858, 5377049.17201934, 72235254.78348365, 79210240.25409338, 147849927.89115524, 342705203.634707, 517012517.6731333, 801967121.5095413, 887287979.6555331, 1099327634.674612, 1227845965.609072, 1204966543.1583936]\n",
            "Custo =  96403805809.55713\n",
            "\n",
            "=========================================================================\n",
            "\n",
            "Número de ciclos de manutenção: 13 5\n",
            "Tempos para manutenções preventivas: [0, 15, 56, 199, 354, 364, 412, 426, 493, 532, 546, 584, 657, 685]\n",
            "Severidade para cada subsistema: [0.25, 0.5, 0.75, 0.75, 0.25, 0.5, 0.5, 0.5, 0.75, 0.25, 0.75, 0.5, 0.25]\n",
            "Número de Sisemas: 5\n",
            "Fator:  [0.3296799539643607, 0.3934693402873666, 0.6321205588285577, 0.7768698398515702, 0.7768698398515702, 0.3934693402873666, 0.6321205588285577, 0.6321205588285577, 0.6321205588285577, 0.7768698398515702, 0.3934693402873666, 0.7768698398515702, 0.6321205588285577, 0.3934693402873666]\n",
            "Media de falhas:  [0, 243.00000000000003, 111212.65028708563, 55635442.357294485, 253026025.3937297, 253827812.5761517, 264225758.95872077, 361923739.5693336, 510998973.5061512, 614493021.5149364, 652406995.6093863, 677194326.3741423, 3446683367.1872926, 3476937073.586025, 3193314353.3792458]\n",
            "Custo =  238137166594.99695\n",
            "\n",
            "=========================================================================\n",
            "\n",
            "Número de ciclos de manutenção: 11 5\n",
            "Tempos para manutenções preventivas: [0, 17, 60, 122, 247, 327, 458, 481, 531, 580, 614, 641]\n",
            "Severidade para cada subsistema: [0.25, 0.5, 0.5, 0.5, 0.5, 0.5, 0.5, 0.75, 0.75, 0.75, 0.5]\n",
            "Número de Sisemas: 5\n",
            "Fator:  [0.3296799539643607, 0.3934693402873666, 0.6321205588285577, 0.6321205588285577, 0.6321205588285577, 0.6321205588285577, 0.6321205588285577, 0.6321205588285577, 0.7768698398515702, 0.7768698398515702, 0.7768698398515702, 0.6321205588285577]\n",
            "Media de falhas:  [0, 454.35424000000006, 152784.9732604856, 3083197.6868326995, 48301934.81070143, 92924511.38726233, 405551103.1869193, 444488101.597683, 581638245.5369024, 769329090.4128025, 795004467.0827518, 817525614.3098639, 801910486.7072011]\n",
            "Custo =  54373207003.552284\n",
            "\n",
            "=========================================================================\n",
            "\n",
            "Número de ciclos de manutenção: 10 5\n",
            "Tempos para manutenções preventivas: [0, 24, 141, 200, 234, 269, 474, 528, 578, 661, 719]\n",
            "Severidade para cada subsistema: [0.25, 0.5, 0.5, 0.5, 0.5, 0.5, 0.75, 0.75, 0.5, 0.25]\n",
            "Número de Sisemas: 5\n",
            "Fator:  [0.3296799539643607, 0.3934693402873666, 0.6321205588285577, 0.6321205588285577, 0.6321205588285577, 0.6321205588285577, 0.6321205588285577, 0.7768698398515702, 0.7768698398515702, 0.6321205588285577, 0.3934693402873666]\n",
            "Media de falhas:  [0, 2548.0396800000003, 13363212.571876086, 32073788.387429215, 35994074.79198146, 42810113.93509596, 870061770.4544309, 1017259891.8266187, 1206902532.2312806, 1332419671.0051072, 1427331297.3087425, 1033895586.8494475]\n",
            "Custo =  71001749590.96095\n",
            "\n",
            "=========================================================================\n",
            "\n",
            "Número de ciclos de manutenção: 11 5\n",
            "Tempos para manutenções preventivas: [0, 32, 135, 227, 354, 363, 442, 526, 580, 614, 672, 715]\n",
            "Severidade para cada subsistema: [0.75, 0.5, 0.5, 0.5, 0.5, 0.25, 0.75, 0.75, 0.5, 0.5, 0.25]\n",
            "Número de Sisemas: 5\n",
            "Fator:  [0.3296799539643607, 0.7768698398515702, 0.6321205588285577, 0.6321205588285577, 0.6321205588285577, 0.6321205588285577, 0.3934693402873666, 0.7768698398515702, 0.7768698398515702, 0.6321205588285577, 0.6321205588285577, 0.3934693402873666]\n",
            "Media de falhas:  [0, 10737.41824, 9562040.51783844, 18246303.814002242, 149228341.50762478, 153983653.33174944, 279183162.6720805, 534645587.81017053, 1788519478.2951436, 1814194854.965093, 1888978658.8925223, 2252294735.313542, 1872133571.3616047]\n",
            "Custo =  173570353293.2571\n",
            "\n",
            "=========================================================================\n",
            "\n",
            "Número de ciclos de manutenção: 14 5\n",
            "Tempos para manutenções preventivas: [0, 42, 80, 123, 225, 352, 368, 390, 446, 525, 566, 584, 614, 669, 713]\n",
            "Severidade para cada subsistema: [0.75, 0.25, 0.5, 0.5, 0.5, 0.75, 0.5, 0.25, 0.75, 0.5, 0.75, 0.5, 0.5, 0.25]\n",
            "Número de Sisemas: 5\n",
            "Fator:  [0.3296799539643607, 0.7768698398515702, 0.3934693402873666, 0.6321205588285577, 0.6321205588285577, 0.6321205588285577, 0.7768698398515702, 0.6321205588285577, 0.3934693402873666, 0.7768698398515702, 0.6321205588285577, 0.7768698398515702, 0.6321205588285577, 0.6321205588285577, 0.3934693402873666]\n",
            "Media de falhas:  [0, 41821.194240000004, 441587.87866750476, 707981.1003113817, 54940752.331860356, 183683424.47208968, 192894303.31223485, 209237820.90666562, 226789940.08620036, 460286916.06449085, 1332261694.8144972, 1341996007.012004, 1477091574.3579936, 1545145076.6493485, 1913822535.3435862, 1540253159.4793272]\n",
            "Custo =  181538938443.69196\n",
            "\n",
            "=========================================================================\n",
            "\n",
            "Número de ciclos de manutenção: 11 5\n",
            "Tempos para manutenções preventivas: [0, 47, 84, 185, 232, 288, 318, 411, 525, 586, 612, 716]\n",
            "Severidade para cada subsistema: [0.75, 0.25, 0.75, 0.5, 0.25, 0.5, 0.5, 0.75, 0.75, 0.5, 0.25]\n",
            "Número de Sisemas: 5\n",
            "Fator:  [0.3296799539643607, 0.7768698398515702, 0.3934693402873666, 0.7768698398515702, 0.6321205588285577, 0.3934693402873666, 0.6321205588285577, 0.6321205588285577, 0.7768698398515702, 0.7768698398515702, 0.6321205588285577, 0.3934693402873666]\n",
            "Media de falhas:  [0, 73390.40224000001, 546252.9850898396, 8423212.92521022, 35463432.05532507, 39995653.375060126, 50584104.82797435, 576170256.2574477, 970647583.7173653, 1223876717.169627, 1241932982.6409025, 1484505382.5549462, 1101037211.07351]\n",
            "Custo =  82789135000.25264\n",
            "\n",
            "=========================================================================\n",
            "\n",
            "Número de ciclos de manutenção: 12 5\n",
            "Tempos para manutenções preventivas: [0, 29, 41, 162, 258, 283, 301, 330, 488, 526, 587, 629, 642]\n",
            "Severidade para cada subsistema: [0.25, 0.75, 0.75, 0.5, 0.75, 0.5, 0.75, 0.5, 0.75, 0.75, 0.5, 0.5]\n",
            "Número de Sisemas: 5\n",
            "Fator:  [0.3296799539643607, 0.3934693402873666, 0.7768698398515702, 0.7768698398515702, 0.6321205588285577, 0.7768698398515702, 0.6321205588285577, 0.7768698398515702, 0.6321205588285577, 0.7768698398515702, 0.7768698398515702, 0.6321205588285577, 0.6321205588285577]\n",
            "Media de falhas:  [0, 6563.56768, 15504.368977704846, 21144748.307040013, 34020493.0667929, 35046170.940964065, 39819955.10443226, 42013967.2813809, 578434231.8048967, 595417353.7757142, 850286724.6050748, 887508001.003907, 897218567.1751393, 750404266.8730401]\n",
            "Custo =  55362204114.67331\n",
            "\n",
            "=========================================================================\n",
            "\n",
            "Número de ciclos de manutenção: 12 5\n",
            "Tempos para manutenções preventivas: [0, 22, 145, 184, 353, 426, 465, 497, 527, 568, 586, 654, 682]\n",
            "Severidade para cada subsistema: [0.25, 0.25, 0.5, 0.75, 0.5, 0.5, 0.5, 0.75, 0.75, 0.75, 0.5, 0.25]\n",
            "Número de Sisemas: 5\n",
            "Fator:  [0.3296799539643607, 0.3934693402873666, 0.3934693402873666, 0.6321205588285577, 0.7768698398515702, 0.6321205588285577, 0.6321205588285577, 0.6321205588285577, 0.7768698398515702, 0.7768698398515702, 0.7768698398515702, 0.6321205588285577, 0.3934693402873666]\n",
            "Media de falhas:  [0, 1649.16224, 15870857.520511737, 24737413.65162103, 575871599.1298759, 673991328.5584021, 685361131.6555293, 748973740.6997705, 823349408.7680662, 964427056.9493747, 974289872.2057362, 1061310209.4017568, 1091066394.9822376, 816916446.9271064]\n",
            "Custo =  77579554158.7931\n",
            "\n",
            "=========================================================================\n",
            "\n",
            "Número de ciclos de manutenção: 13 5\n",
            "Tempos para manutenções preventivas: [0, 17, 52, 151, 186, 374, 429, 503, 525, 557, 583, 603, 659, 683]\n",
            "Severidade para cada subsistema: [0.25, 0.5, 0.25, 0.75, 0.75, 0.5, 0.5, 0.75, 0.75, 0.75, 0.75, 0.5, 0.25]\n",
            "Número de Sisemas: 5\n",
            "Fator:  [0.3296799539643607, 0.3934693402873666, 0.6321205588285577, 0.3934693402873666, 0.7768698398515702, 0.7768698398515702, 0.6321205588285577, 0.6321205588285577, 0.7768698398515702, 0.7768698398515702, 0.7768698398515702, 0.7768698398515702, 0.6321205588285577, 0.3934693402873666]\n",
            "Media de falhas:  [0, 454.35424000000006, 69183.0532773526, 12189209.304789046, 13967939.01218302, 796336377.9433208, 811320204.1622618, 853814708.7535733, 906135956.8314607, 1005230170.7713528, 1020271742.6622564, 1032720359.6994742, 1098993680.009254, 1123842550.7012026, 846536634.5903673]\n",
            "Custo =  69676785908.53596\n",
            "\n",
            "=========================================================================\n",
            "\n",
            "Número de ciclos de manutenção: 9 5\n",
            "Tempos para manutenções preventivas: [0, 15, 39, 196, 501, 526, 581, 612, 655, 719]\n",
            "Severidade para cada subsistema: [0.25, 0.5, 0.75, 0.5, 0.75, 0.75, 0.75, 0.5, 0.25]\n",
            "Número de Sisemas: 5\n",
            "Fator:  [0.3296799539643607, 0.3934693402873666, 0.6321205588285577, 0.7768698398515702, 0.6321205588285577, 0.7768698398515702, 0.7768698398515702, 0.7768698398515702, 0.6321205588285577, 0.3934693402873666]\n",
            "Media de falhas:  [0, 243.00000000000003, 14866.998942658187, 61586338.829882644, 2501344629.905541, 2511083003.121612, 2727530509.4219246, 2750042802.253259, 2794571407.964718, 2904393144.3321223, 2510957433.8728275]\n",
            "Custo =  78003406362.68872\n",
            "\n",
            "=========================================================================\n",
            "\n",
            "Número de ciclos de manutenção: 15 5\n",
            "Tempos para manutenções preventivas: [0, 20, 47, 82, 194, 266, 314, 344, 368, 417, 492, 526, 579, 607, 643, 715]\n",
            "Severidade para cada subsistema: [0.25, 0.5, 0.25, 0.5, 0.25, 0.5, 0.75, 0.5, 0.5, 0.5, 0.75, 0.75, 0.75, 0.5, 0.25]\n",
            "Número de Sisemas: 5\n",
            "Fator:  [0.3296799539643607, 0.3934693402873666, 0.6321205588285577, 0.3934693402873666, 0.6321205588285577, 0.3934693402873666, 0.6321205588285577, 0.7768698398515702, 0.6321205588285577, 0.6321205588285577, 0.6321205588285577, 0.7768698398515702, 0.7768698398515702, 0.7768698398515702, 0.6321205588285577, 0.3934693402873666]\n",
            "Media de falhas:  [0, 1024.0, 35352.205372417244, 359892.2544185518, 18935524.008715536, 90260571.47080137, 108512946.4229286, 194945843.0720089, 209308542.56602064, 220512311.84079337, 392248492.29509246, 477086736.53197217, 681525510.6582348, 700720583.6524858, 733528944.9338294, 862707120.8803337, 482545956.92839646]\n",
            "Custo =  82378758625.46178\n"
          ]
        },
        {
          "output_type": "stream",
          "name": "stderr",
          "text": [
            "pyswarms.single.global_best:  29%|██▉       |29/100, best_cost=5.23e+10"
          ]
        },
        {
          "output_type": "stream",
          "name": "stdout",
          "text": [
            "\n",
            "=========================================================================\n",
            "\n",
            "Número de ciclos de manutenção: 14 5\n",
            "Tempos para manutenções preventivas: [0, 24, 86, 124, 203, 237, 293, 372, 406, 449, 483, 527, 578, 631, 712]\n",
            "Severidade para cada subsistema: [0.25, 0.25, 0.5, 0.25, 0.5, 0.5, 0.25, 0.5, 0.25, 0.5, 0.75, 0.75, 0.5, 0.25]\n",
            "Número de Sisemas: 5\n",
            "Fator:  [0.3296799539643607, 0.3934693402873666, 0.3934693402873666, 0.6321205588285577, 0.3934693402873666, 0.6321205588285577, 0.6321205588285577, 0.3934693402873666, 0.6321205588285577, 0.3934693402873666, 0.6321205588285577, 0.7768698398515702, 0.7768698398515702, 0.6321205588285577, 0.3934693402873666]\n",
            "Media de falhas:  [0, 2548.0396800000003, 931303.5192117589, 2714332.5509436573, 29851066.038171194, 33959418.05907886, 116074692.54476957, 184180340.6105939, 215404599.436781, 573570322.822065, 634536112.7657402, 1334027567.4408078, 1528122664.203502, 1580551810.606691, 1734602376.5550435, 1364318127.5191748]\n",
            "Custo =  159184840746.52527\n",
            "\n",
            "=========================================================================\n",
            "\n",
            "Número de ciclos de manutenção: 13 5\n",
            "Tempos para manutenções preventivas: [0, 27, 129, 155, 226, 298, 408, 443, 455, 528, 556, 580, 661, 710]\n",
            "Severidade para cada subsistema: [0.25, 0.5, 0.25, 0.5, 0.25, 0.5, 0.25, 0.5, 0.75, 0.25, 0.75, 0.5, 0.25]\n",
            "Número de Sisemas: 5\n",
            "Fator:  [0.3296799539643607, 0.3934693402873666, 0.6321205588285577, 0.3934693402873666, 0.6321205588285577, 0.3934693402873666, 0.6321205588285577, 0.3934693402873666, 0.6321205588285577, 0.7768698398515702, 0.3934693402873666, 0.7768698398515702, 0.6321205588285577, 0.3934693402873666]\n",
            "Media de falhas:  [0, 4591.65024, 7999374.882756813, 10999913.844714127, 21811285.497086354, 134165688.34569389, 292625508.2578531, 571053550.2264352, 586744155.5267754, 1730656616.3608015, 1815662217.848674, 1829027167.6814878, 4963716071.415701, 5035104997.731869, 4671370339.072702]\n",
            "Custo =  301344669548.6541\n",
            "\n",
            "=========================================================================\n",
            "\n",
            "Número de ciclos de manutenção: 14 5\n",
            "Tempos para manutenções preventivas: [0, 25, 34, 129, 165, 219, 247, 446, 468, 528, 555, 583, 625, 661, 711]\n",
            "Severidade para cada subsistema: [0.25, 0.75, 0.5, 0.25, 0.5, 0.5, 0.25, 0.5, 0.75, 0.5, 0.75, 0.5, 0.5, 0.25]\n",
            "Número de Sisemas: 5\n",
            "Fator:  [0.3296799539643607, 0.3934693402873666, 0.7768698398515702, 0.6321205588285577, 0.3934693402873666, 0.6321205588285577, 0.6321205588285577, 0.3934693402873666, 0.6321205588285577, 0.7768698398515702, 0.6321205588285577, 0.7768698398515702, 0.6321205588285577, 0.6321205588285577, 0.3934693402873666]\n",
            "Media de falhas:  [0, 3125.0000000000005, 6330.440574528859, 6617446.312513943, 6976282.586229056, 13065447.804758433, 34267234.18433666, 687129231.8849455, 720460232.5025355, 1669023425.5384665, 1750160877.3183658, 1766666151.603123, 1976559317.9892113, 2012890788.777515, 2433821128.6632013, 2066815060.3742514]\n",
            "Custo =  171525405398.73755\n",
            "\n",
            "=========================================================================\n",
            "\n",
            "Número de ciclos de manutenção: 13 5\n",
            "Tempos para manutenções preventivas: [0, 25, 41, 62, 174, 217, 265, 382, 476, 526, 541, 584, 626, 717]\n",
            "Severidade para cada subsistema: [0.25, 0.75, 0.5, 0.5, 0.5, 0.5, 0.5, 0.5, 0.75, 0.75, 0.75, 0.5, 0.25]\n",
            "Número de Sisemas: 5\n",
            "Fator:  [0.3296799539643607, 0.3934693402873666, 0.7768698398515702, 0.6321205588285577, 0.6321205588285577, 0.6321205588285577, 0.6321205588285577, 0.6321205588285577, 0.6321205588285577, 0.7768698398515702, 0.7768698398515702, 0.7768698398515702, 0.6321205588285577, 0.3934693402873666]\n",
            "Media de falhas:  [0, 3125.0000000000005, 14772.902067950688, 76695.88874226388, 10172344.374182459, 14318928.788265454, 24203683.76334431, 166652414.45463213, 376174289.8138962, 508468372.4386134, 547754829.8373451, 577185896.6928711, 613767695.4473274, 805776784.6936951, 418993967.05259776]\n",
            "Custo =  64316067259.4399\n",
            "\n",
            "=========================================================================\n",
            "\n",
            "Número de ciclos de manutenção: 14 5\n",
            "Tempos para manutenções preventivas: [0, 25, 44, 69, 205, 224, 296, 317, 330, 478, 481, 524, 547, 586, 633]\n",
            "Severidade para cada subsistema: [0.25, 0.75, 0.5, 0.25, 0.5, 0.5, 0.5, 0.75, 0.5, 0.5, 0.75, 0.75, 0.75, 0.5]\n",
            "Número de Sisemas: 5\n",
            "Fator:  [0.3296799539643607, 0.3934693402873666, 0.7768698398515702, 0.6321205588285577, 0.3934693402873666, 0.6321205588285577, 0.6321205588285577, 0.6321205588285577, 0.7768698398515702, 0.6321205588285577, 0.6321205588285577, 0.7768698398515702, 0.7768698398515702, 0.7768698398515702, 0.6321205588285577]\n",
            "Media de falhas:  [0, 3125.0000000000005, 21409.59423473825, 135129.14175671962, 25586840.40519518, 27207038.134035945, 136568777.90464377, 143501702.1293941, 148307455.20651647, 593956936.4749343, 594614010.3849978, 703828901.7886848, 768305390.0845783, 794310554.6357019, 838867641.8023303, 825635223.8617989]\n",
            "Custo =  52343850227.46812\n",
            "\n",
            "=========================================================================\n",
            "\n",
            "Número de ciclos de manutenção: 16 5\n",
            "Tempos para manutenções preventivas: [0, 28, 46, 63, 149, 194, 230, 342, 392, 425, 478, 484, 520, 567, 588, 640, 683]\n",
            "Severidade para cada subsistema: [0.25, 0.75, 0.5, 0.25, 0.5, 0.5, 0.75, 0.75, 0.5, 0.5, 0.5, 0.75, 0.75, 0.75, 0.5, 0.25]\n",
            "Número de Sisemas: 5\n",
            "Fator:  [0.3296799539643607, 0.3934693402873666, 0.7768698398515702, 0.6321205588285577, 0.3934693402873666, 0.6321205588285577, 0.6321205588285577, 0.7768698398515702, 0.7768698398515702, 0.6321205588285577, 0.6321205588285577, 0.6321205588285577, 0.7768698398515702, 0.7768698398515702, 0.7768698398515702, 0.6321205588285577, 0.3934693402873666]\n",
            "Media de falhas:  [0, 5507.317760000001, 26267.841908575196, 79256.2493255159, 3288243.0911680213, 6300252.765249714, 26501204.503312193, 119129720.85777658, 162797626.25970158, 169278189.95302284, 189416793.97212398, 199244137.0043589, 285778560.2344552, 449693853.2355727, 461674588.69836265, 515270811.19010454, 567129583.4876313, 289823667.37679607]\n",
            "Custo =  66496201781.1638\n",
            "\n",
            "=========================================================================\n",
            "\n",
            "Número de ciclos de manutenção: 14 5\n",
            "Tempos para manutenções preventivas: [0, 44, 91, 144, 181, 235, 346, 398, 429, 477, 490, 517, 590, 643, 679]\n",
            "Severidade para cada subsistema: [0.75, 0.5, 0.25, 0.75, 0.5, 0.75, 0.75, 0.5, 0.5, 0.5, 0.75, 0.75, 0.5, 0.25]\n",
            "Número de Sisemas: 5\n",
            "Fator:  [0.3296799539643607, 0.7768698398515702, 0.6321205588285577, 0.3934693402873666, 0.7768698398515702, 0.6321205588285577, 0.7768698398515702, 0.7768698398515702, 0.6321205588285577, 0.6321205588285577, 0.6321205588285577, 0.7768698398515702, 0.7768698398515702, 0.6321205588285577, 0.3934693402873666]\n",
            "Media de falhas:  [0, 52773.19168, 883718.2330159956, 1559964.1351673494, 3313368.7003480513, 35922757.63819945, 73110882.72807547, 121695784.96368943, 127826698.481703, 144878564.24712685, 167747738.39632872, 229229558.8191218, 553725409.0379786, 609756694.309091, 649888939.0597128, 385199538.7250327]\n",
            "Custo =  66036701690.733505\n",
            "\n",
            "=========================================================================\n",
            "\n",
            "Número de ciclos de manutenção: 18 5\n",
            "Tempos para manutenções preventivas: [0, 35, 95, 140, 154, 183, 235, 265, 344, 402, 424, 475, 495, 517, 591, 626, 642, 688, 719]\n",
            "Severidade para cada subsistema: [0.75, 0.5, 0.25, 0.75, 0.75, 0.5, 0.5, 0.75, 0.75, 0.5, 0.5, 0.5, 0.75, 0.75, 0.5, 0.5, 0.25, 0.25]\n",
            "Número de Sisemas: 5\n",
            "Fator:  [0.3296799539643607, 0.7768698398515702, 0.6321205588285577, 0.3934693402873666, 0.7768698398515702, 0.7768698398515702, 0.6321205588285577, 0.6321205588285577, 0.7768698398515702, 0.7768698398515702, 0.6321205588285577, 0.6321205588285577, 0.6321205588285577, 0.7768698398515702, 0.7768698398515702, 0.6321205588285577, 0.6321205588285577, 0.3934693402873666, 0.3934693402873666]\n",
            "Media de falhas:  [0, 16807.0, 1310437.3546381444, 1715842.155446775, 1985766.4492270588, 8504013.243240787, 10673953.996265566, 11765321.08947153, 63740724.42388016, 121859868.126238, 125565707.88153958, 144084592.17910457, 181578241.64906335, 230837182.658619, 563069130.315838, 591712116.8146179, 603960049.3631452, 941299102.1327997, 1201193148.0422783, -2820206751.9517574]\n",
            "Custo =  248969464075.06128\n",
            "\n",
            "=========================================================================\n",
            "\n",
            "Número de ciclos de manutenção: 17 5\n",
            "Tempos para manutenções preventivas: [0, 64, 96, 161, 187, 231, 246, 304, 336, 388, 401, 474, 493, 519, 592, 615, 637, 716]\n",
            "Severidade para cada subsistema: [0.25, 0.5, 0.5, 0.75, 0.5, 0.5, 0.5, 0.75, 0.75, 0.75, 0.5, 0.5, 0.75, 0.75, 0.5, 0.5, 0.25]\n",
            "Número de Sisemas: 5\n",
            "Fator:  [0.3296799539643607, 0.3934693402873666, 0.6321205588285577, 0.6321205588285577, 0.7768698398515702, 0.6321205588285577, 0.6321205588285577, 0.6321205588285577, 0.7768698398515702, 0.7768698398515702, 0.7768698398515702, 0.6321205588285577, 0.6321205588285577, 0.7768698398515702, 0.7768698398515702, 0.6321205588285577, 0.6321205588285577, 0.3934693402873666]\n",
            "Media de falhas:  [0, 343597.38368, 1051446.8357864541, 9929667.58397525, 11135477.513437439, 16484540.33285431, 16785634.666083593, 37950938.69530352, 52053317.36811492, 96259499.9313312, 97835673.24984798, 132231974.05607623, 137670839.47132054, 197571527.4179287, 526195476.0059751, 542041517.2950615, 559220171.5239027, 1299630069.5078998, 916161898.0264635]\n",
            "Custo =  95359726261.8293\n",
            "\n",
            "=========================================================================\n",
            "\n",
            "Número de ciclos de manutenção: 15 5\n",
            "Tempos para manutenções preventivas: [0, 95, 154, 207, 224, 283, 315, 380, 393, 475, 490, 522, 592, 603, 632, 715]\n",
            "Severidade para cada subsistema: [0.5, 0.25, 0.5, 0.5, 0.25, 0.5, 0.5, 0.75, 0.5, 0.5, 0.75, 0.75, 0.5, 0.5, 0.25]\n",
            "Número de Sisemas: 5\n",
            "Fator:  [0.3296799539643607, 0.6321205588285577, 0.3934693402873666, 0.6321205588285577, 0.6321205588285577, 0.3934693402873666, 0.6321205588285577, 0.6321205588285577, 0.7768698398515702, 0.6321205588285577, 0.6321205588285577, 0.7768698398515702, 0.7768698398515702, 0.6321205588285577, 0.6321205588285577, 0.3934693402873666]\n",
            "Media de falhas:  [0, 2476099.0, 11033538.409597373, 15919736.343436938, 24773741.97033387, 41649251.244574055, 52683873.34269456, 323456402.8761414, 333021365.5097108, 503892417.2614521, 507908214.37498075, 584882185.7150519, 896619440.7872665, 902947704.8172296, 926280564.117825, 1709213857.2938697, 1329052693.3419325]\n",
            "Custo =  118581501243.94717\n",
            "\n",
            "=========================================================================\n",
            "\n",
            "Número de ciclos de manutenção: 14 5\n",
            "Tempos para manutenções preventivas: [0, 27, 92, 219, 275, 322, 389, 475, 485, 525, 540, 593, 606, 661, 714]\n",
            "Severidade para cada subsistema: [0.25, 0.5, 0.5, 0.75, 0.5, 0.25, 0.5, 0.5, 0.75, 0.5, 0.75, 0.5, 0.5, 0.25]\n",
            "Número de Sisemas: 5\n",
            "Fator:  [0.3296799539643607, 0.3934693402873666, 0.6321205588285577, 0.6321205588285577, 0.7768698398515702, 0.6321205588285577, 0.3934693402873666, 0.6321205588285577, 0.6321205588285577, 0.7768698398515702, 0.6321205588285577, 0.7768698398515702, 0.6321205588285577, 0.6321205588285577, 0.3934693402873666]\n",
            "Media de falhas:  [0, 4591.65024, 1271971.2246544312, 66418022.977789514, 80532304.95924842, 99992199.08932069, 115893326.64281447, 298675000.0640671, 416828933.5376385, 518052142.9078085, 557052177.5501593, 599220667.874077, 652288948.7033784, 717512833.13025, 1174633914.1870081, 797772291.1835498]\n",
            "Custo =  154007244785.14874\n",
            "\n",
            "=========================================================================\n",
            "\n",
            "Número de ciclos de manutenção: 13 5\n",
            "Tempos para manutenções preventivas: [0, 25, 33, 62, 201, 219, 245, 322, 476, 481, 526, 592, 616, 716]\n",
            "Severidade para cada subsistema: [0.25, 0.75, 0.25, 0.25, 0.5, 0.5, 0.5, 0.5, 0.5, 0.75, 0.75, 0.5, 0.25]\n",
            "Número de Sisemas: 5\n",
            "Fator:  [0.3296799539643607, 0.3934693402873666, 0.7768698398515702, 0.3934693402873666, 0.3934693402873666, 0.6321205588285577, 0.6321205588285577, 0.6321205588285577, 0.6321205588285577, 0.6321205588285577, 0.7768698398515702, 0.7768698398515702, 0.6321205588285577, 0.3934693402873666]\n",
            "Media de falhas:  [0, 3125.0000000000005, 5678.727923690839, 95185.9966728703, 26779020.06695832, 35318019.183298245, 54431377.56191075, 94256121.50590394, 567234704.7912531, 575198823.2138916, 692040541.378237, 981818771.7664899, 998602568.9060133, 1224447400.2028487, 840979228.7214124]\n",
            "Custo =  79347729659.84523\n",
            "\n",
            "=========================================================================\n",
            "\n",
            "Número de ciclos de manutenção: 13 5\n",
            "Tempos para manutenções preventivas: [0, 25, 38, 77, 196, 224, 257, 319, 477, 480, 527, 591, 624, 718]\n",
            "Severidade para cada subsistema: [0.25, 0.75, 0.25, 0.25, 0.5, 0.5, 0.5, 0.5, 0.5, 0.75, 0.75, 0.5, 0.25]\n",
            "Número de Sisemas: 5\n",
            "Fator:  [0.3296799539643607, 0.3934693402873666, 0.7768698398515702, 0.3934693402873666, 0.3934693402873666, 0.6321205588285577, 0.6321205588285577, 0.6321205588285577, 0.6321205588285577, 0.6321205588285577, 0.7768698398515702, 0.7768698398515702, 0.6321205588285577, 0.3934693402873666]\n",
            "Media de falhas:  [0, 3125.0000000000005, 10169.465961088712, 302391.1820476684, 15289540.944737861, 29567405.559031293, 58690062.60860904, 86357428.66550191, 585762784.5654956, 590472401.7156696, 714319817.5203756, 991574932.6961305, 1017795484.1703768, 1221903634.457244, 831798360.6956439]\n",
            "Custo =  79770040244.37033\n",
            "\n",
            "=========================================================================\n",
            "\n",
            "Número de ciclos de manutenção: 16 5\n",
            "Tempos para manutenções preventivas: [0, 29, 42, 83, 193, 230, 313, 375, 390, 477, 484, 525, 540, 588, 627, 631, 719]\n",
            "Severidade para cada subsistema: [0.25, 0.75, 0.25, 0.25, 0.5, 0.5, 0.5, 0.75, 0.5, 0.5, 0.75, 0.25, 0.75, 0.5, 0.5, 0.25]\n",
            "Número de Sisemas: 5\n",
            "Fator:  [0.3296799539643607, 0.3934693402873666, 0.7768698398515702, 0.3934693402873666, 0.3934693402873666, 0.6321205588285577, 0.6321205588285577, 0.6321205588285577, 0.7768698398515702, 0.6321205588285577, 0.6321205588285577, 0.7768698398515702, 0.3934693402873666, 0.7768698398515702, 0.6321205588285577, 0.6321205588285577, 0.3934693402873666]\n",
            "Media de falhas:  [0, 6563.56768, 17170.209261356584, 429091.35795849655, 11648584.920390505, 32386501.12267487, 189989934.09972313, 239335145.4598232, 250135229.93706456, 438771062.4405055, 440410184.6394257, 544542788.1793911, 583542822.821742, 618869654.7636889, 1874644042.0704155, 1877240097.873555, 2737509925.5416694, 2344074215.0823746]\n",
            "Custo =  233187285999.64972\n",
            "\n",
            "=========================================================================\n",
            "\n",
            "Número de ciclos de manutenção: 16 5\n",
            "Tempos para manutenções preventivas: [0, 44, 86, 171, 233, 271, 305, 395, 477, 488, 522, 564, 586, 625, 635, 686, 719]\n",
            "Severidade para cada subsistema: [0.75, 0.25, 0.25, 0.5, 0.75, 0.5, 0.75, 0.5, 0.5, 0.75, 0.5, 0.75, 0.5, 0.5, 0.25, 0.25]\n",
            "Número de Sisemas: 5\n",
            "Fator:  [0.3296799539643607, 0.7768698398515702, 0.3934693402873666, 0.3934693402873666, 0.6321205588285577, 0.7768698398515702, 0.6321205588285577, 0.7768698398515702, 0.6321205588285577, 0.6321205588285577, 0.7768698398515702, 0.6321205588285577, 0.7768698398515702, 0.6321205588285577, 0.6321205588285577, 0.3934693402873666, 0.3934693402873666]\n",
            "Media de falhas:  [0, 52773.19168, 643354.78026211, 4571353.344460344, 40723605.49286022, 82020751.43193015, 92538026.44634199, 123634530.16199273, 297108727.5293544, 299884853.42893875, 382247003.2289476, 523346270.2313274, 535850113.25460625, 729032605.7568718, 736016634.3047976, 1110923508.7147765, 1388916040.5431585, -2632483859.450877]\n",
            "Custo =  265298361938.24054\n",
            "\n",
            "=========================================================================\n",
            "\n",
            "Número de ciclos de manutenção: 18 5\n",
            "Tempos para manutenções preventivas: [0, 41, 146, 175, 231, 276, 300, 331, 386, 397, 422, 477, 492, 520, 586, 622, 637, 682, 718]\n",
            "Severidade para cada subsistema: [0.75, 0.25, 0.25, 0.5, 0.5, 0.5, 0.75, 0.25, 0.75, 0.5, 0.5, 0.5, 0.75, 0.75, 0.5, 0.5, 0.25, 0.25]\n",
            "Número de Sisemas: 5\n",
            "Fator:  [0.3296799539643607, 0.7768698398515702, 0.3934693402873666, 0.3934693402873666, 0.6321205588285577, 0.6321205588285577, 0.6321205588285577, 0.7768698398515702, 0.3934693402873666, 0.7768698398515702, 0.6321205588285577, 0.6321205588285577, 0.6321205588285577, 0.7768698398515702, 0.7768698398515702, 0.6321205588285577, 0.6321205588285577, 0.3934693402873666, 0.3934693402873666]\n",
            "Media de falhas:  [0, 37073.98432, 13092344.316021927, 13363900.793137109, 44915030.1127176, 97185514.59579495, 103708601.66657026, 116534322.3289422, 163196824.50393048, 164446362.6591116, 329894260.40770054, 351153508.12510675, 378147586.4380567, 443587631.1770085, 722459781.7685261, 751490231.8006428, 762538937.7902614, 1080664103.0064304, 1384488130.2299898, -2595529183.1801453]\n",
            "Custo =  278618382665.0151\n",
            "\n",
            "=========================================================================\n",
            "\n",
            "Número de ciclos de manutenção: 20 5\n",
            "Tempos para manutenções preventivas: [0, 37, 91, 148, 157, 207, 230, 263, 301, 336, 398, 425, 476, 495, 518, 540, 587, 622, 638, 686, 716]\n",
            "Severidade para cada subsistema: [0.75, 0.5, 0.25, 0.5, 0.5, 0.5, 0.5, 0.5, 0.75, 0.75, 0.5, 0.5, 0.5, 0.75, 0.25, 0.75, 0.5, 0.5, 0.25, 0.25]\n",
            "Número de Sisemas: 5\n",
            "Fator:  [0.3296799539643607, 0.7768698398515702, 0.6321205588285577, 0.3934693402873666, 0.6321205588285577, 0.6321205588285577, 0.6321205588285577, 0.6321205588285577, 0.6321205588285577, 0.7768698398515702, 0.7768698398515702, 0.6321205588285577, 0.6321205588285577, 0.6321205588285577, 0.7768698398515702, 0.3934693402873666, 0.7768698398515702, 0.6321205588285577, 0.6321205588285577, 0.3934693402873666, 0.3934693402873666]\n",
            "Media de falhas:  [0, 22190.06624, 991557.5611513121, 1873906.2785145892, 2049787.7947511957, 20215191.126997117, 22462182.14467793, 28275752.053519905, 39780458.90222527, 55487047.862005174, 116743383.4075239, 121640916.64171699, 140292033.50784433, 175789298.66462976, 227852061.63571712, 286297880.13515097, 320350433.56411874, 1415337433.379403, 1427292802.5679579, 1777247941.4681673, 2024072059.7017965, -1873667385.7713351]\n",
            "Custo =  366569397104.1596\n",
            "\n",
            "=========================================================================\n",
            "\n",
            "Número de ciclos de manutenção: 17 5\n",
            "Tempos para manutenções preventivas: [0, 33, 92, 226, 257, 271, 309, 336, 385, 396, 420, 476, 492, 517, 589, 626, 637, 714]\n",
            "Severidade para cada subsistema: [0.75, 0.5, 0.5, 0.5, 0.5, 0.5, 0.75, 0.75, 0.75, 0.5, 0.5, 0.5, 0.75, 0.75, 0.5, 0.5, 0.25]\n",
            "Número de Sisemas: 5\n",
            "Fator:  [0.3296799539643607, 0.7768698398515702, 0.6321205588285577, 0.6321205588285577, 0.6321205588285577, 0.6321205588285577, 0.6321205588285577, 0.7768698398515702, 0.7768698398515702, 0.7768698398515702, 0.6321205588285577, 0.6321205588285577, 0.6321205588285577, 0.7768698398515702, 0.7768698398515702, 0.6321205588285577, 0.6321205588285577, 0.3934693402873666]\n",
            "Media de falhas:  [0, 12523.325760000002, 1134927.886506557, 29329634.146152504, 34257874.02332379, 36662195.21403108, 49350312.21552248, 60905502.211727284, 100700293.86028825, 101937748.36746114, 105944820.72724138, 127701513.93076853, 156591619.8150861, 213132867.99527207, 530009304.27211416, 560830556.4811286, 568671685.7847193, 1278626143.7512126, 901764520.7477542]\n",
            "Custo =  101370691039.54643\n",
            "\n",
            "=========================================================================\n",
            "\n",
            "Número de ciclos de manutenção: 16 5\n",
            "Tempos para manutenções preventivas: [0, 33, 93, 162, 192, 222, 244, 297, 317, 333, 476, 488, 519, 591, 624, 634, 716]\n",
            "Severidade para cada subsistema: [0.75, 0.5, 0.75, 0.5, 0.5, 0.5, 0.5, 0.5, 0.75, 0.5, 0.5, 0.75, 0.75, 0.5, 0.5, 0.25]\n",
            "Número de Sisemas: 5\n",
            "Fator:  [0.3296799539643607, 0.7768698398515702, 0.6321205588285577, 0.7768698398515702, 0.6321205588285577, 0.6321205588285577, 0.6321205588285577, 0.6321205588285577, 0.6321205588285577, 0.7768698398515702, 0.6321205588285577, 0.6321205588285577, 0.7768698398515702, 0.7768698398515702, 0.6321205588285577, 0.6321205588285577, 0.3934693402873666]\n",
            "Media de falhas:  [0, 12523.325760000002, 1205943.0170618633, 3068295.841428587, 4675304.797652728, 5285314.863646037, 7954452.71199277, 25066432.57578067, 31630917.49336124, 37855732.30326588, 451213281.684749, 454274567.4704272, 526935318.26616347, 847854131.3587365, 874074682.8329828, 881015711.9613482, 1656305213.3356223, 1272837041.854186]\n",
            "Custo =  101914498491.34206\n",
            "\n",
            "=========================================================================\n",
            "\n",
            "Número de ciclos de manutenção: 16 5\n",
            "Tempos para manutenções preventivas: [0, 29, 32, 90, 155, 219, 320, 330, 382, 476, 484, 521, 564, 593, 621, 631, 718]\n",
            "Severidade para cada subsistema: [0.25, 0.75, 0.5, 0.75, 0.5, 0.5, 0.75, 0.75, 0.5, 0.5, 0.75, 0.75, 0.75, 0.5, 0.5, 0.25]\n",
            "Número de Sisemas: 5\n",
            "Fator:  [0.3296799539643607, 0.3934693402873666, 0.7768698398515702, 0.6321205588285577, 0.7768698398515702, 0.6321205588285577, 0.6321205588285577, 0.7768698398515702, 0.7768698398515702, 0.6321205588285577, 0.6321205588285577, 0.7768698398515702, 0.7768698398515702, 0.7768698398515702, 0.6321205588285577, 0.6321205588285577, 0.3934693402873666]\n",
            "Media de falhas:  [0, 6563.56768, 7495.8022115420345, 896034.0996277882, 2321684.0133623155, 10436070.699467327, 34538166.6604021, 38179338.416903816, 79905879.16350225, 137659560.98922768, 139552933.68777785, 229477892.6423115, 374425067.0006669, 392811374.9692228, 413720452.88899624, 420533674.94145477, 1264103262.2235227, 873997988.4619226]\n"
          ]
        },
        {
          "output_type": "stream",
          "name": "stderr",
          "text": [
            "pyswarms.single.global_best:  49%|████▉     |49/100, best_cost=5.15e+10"
          ]
        },
        {
          "output_type": "stream",
          "name": "stdout",
          "text": [
            "Custo =  93145481018.68245\n",
            "\n",
            "=========================================================================\n",
            "\n",
            "Número de ciclos de manutenção: 16 5\n",
            "Tempos para manutenções preventivas: [0, 26, 32, 77, 219, 250, 298, 321, 365, 476, 482, 524, 542, 593, 619, 630, 719]\n",
            "Severidade para cada subsistema: [0.25, 0.75, 0.25, 0.5, 0.5, 0.75, 0.5, 0.75, 0.5, 0.5, 0.75, 0.5, 0.75, 0.5, 0.5, 0.25]\n",
            "Número de Sisemas: 5\n",
            "Fator:  [0.3296799539643607, 0.3934693402873666, 0.7768698398515702, 0.3934693402873666, 0.6321205588285577, 0.6321205588285577, 0.7768698398515702, 0.6321205588285577, 0.7768698398515702, 0.6321205588285577, 0.6321205588285577, 0.7768698398515702, 0.6321205588285577, 0.7768698398515702, 0.6321205588285577, 0.6321205588285577, 0.3934693402873666]\n",
            "Media de falhas:  [0, 3802.0403200000005, 5546.175938080017, 359381.8937781012, 33063320.935225643, 57598702.39388253, 72684944.37961562, 80749742.67147641, 86759628.02582072, 356861281.4320461, 358228932.0297829, 464510820.5956142, 512432702.8712253, 552237403.0253787, 671753739.0787823, 679263310.3635746, 1551901576.1714277, 1158465865.7121327]\n",
            "Custo =  115427209714.62268\n",
            "\n",
            "=========================================================================\n",
            "\n",
            "Número de ciclos de manutenção: 14 5\n",
            "Tempos para manutenções preventivas: [0, 28, 34, 62, 156, 224, 316, 369, 476, 482, 525, 544, 592, 614, 630]\n",
            "Severidade para cada subsistema: [0.25, 0.75, 0.25, 0.5, 0.5, 0.5, 0.5, 0.5, 0.5, 0.75, 0.25, 0.75, 0.5, 0.5]\n",
            "Número de Sisemas: 5\n",
            "Fator:  [0.3296799539643607, 0.3934693402873666, 0.7768698398515702, 0.3934693402873666, 0.6321205588285577, 0.6321205588285577, 0.6321205588285577, 0.6321205588285577, 0.6321205588285577, 0.6321205588285577, 0.7768698398515702, 0.3934693402873666, 0.7768698398515702, 0.6321205588285577, 0.6321205588285577]\n",
            "Media de falhas:  [0, 5507.317760000001, 7745.228549582676, 93511.05380019214, 4759190.207688327, 38724172.420532025, 89143263.36043051, 126791309.51070225, 381767414.41713786, 391434082.2148785, 501451710.5947262, 552933232.4031965, 589117744.2030642, 1250461013.7086754, 1261847026.0981076, 1154859843.870206]\n",
            "Custo =  184664253832.942\n",
            "\n",
            "=========================================================================\n",
            "\n",
            "Número de ciclos de manutenção: 13 5\n",
            "Tempos para manutenções preventivas: [0, 36, 73, 153, 228, 286, 307, 392, 476, 484, 525, 589, 612, 632]\n",
            "Severidade para cada subsistema: [0.75, 0.25, 0.5, 0.5, 0.75, 0.5, 0.75, 0.5, 0.5, 0.75, 0.75, 0.5, 0.5]\n",
            "Número de Sisemas: 5\n",
            "Fator:  [0.3296799539643607, 0.7768698398515702, 0.3934693402873666, 0.6321205588285577, 0.6321205588285577, 0.7768698398515702, 0.6321205588285577, 0.7768698398515702, 0.6321205588285577, 0.6321205588285577, 0.7768698398515702, 0.7768698398515702, 0.6321205588285577, 0.6321205588285577]\n",
            "Media de falhas:  [0, 19349.176320000002, 289927.6024052615, 2938195.7504071537, 43305496.59075034, 60372141.201740466, 66495295.405416496, 93283919.57926708, 271392986.9185444, 273286359.6170946, 377418963.15706, 651148575.0793934, 666703048.7866062, 681603090.0761675, 567887294.363166]\n",
            "Custo =  62515764484.00665\n",
            "\n",
            "=========================================================================\n",
            "\n",
            "Número de ciclos de manutenção: 14 5\n",
            "Tempos para manutenções preventivas: [0, 38, 87, 183, 230, 301, 365, 394, 475, 485, 525, 556, 587, 616, 634]\n",
            "Severidade para cada subsistema: [0.75, 0.25, 0.5, 0.5, 0.5, 0.25, 0.75, 0.5, 0.5, 0.75, 0.5, 0.75, 0.5, 0.5]\n",
            "Número de Sisemas: 5\n",
            "Fator:  [0.3296799539643607, 0.7768698398515702, 0.3934693402873666, 0.6321205588285577, 0.6321205588285577, 0.6321205588285577, 0.3934693402873666, 0.7768698398515702, 0.6321205588285577, 0.6321205588285577, 0.7768698398515702, 0.6321205588285577, 0.7768698398515702, 0.6321205588285577, 0.6321205588285577]\n",
            "Media de falhas:  [0, 25355.253760000003, 754950.4718904308, 7306626.854971116, 33419810.84149742, 61231124.642566614, 108024296.71067482, 131189191.22778177, 955080346.8844951, 957517963.1134487, 1058741172.4836187, 1153761141.0676618, 1173042029.0942824, 1304933149.5779464, 1318280581.7903264, 1197875079.262375]\n",
            "Custo =  112099357136.66887\n",
            "\n",
            "=========================================================================\n",
            "\n",
            "Número de ciclos de manutenção: 15 5\n",
            "Tempos para manutenções preventivas: [0, 37, 175, 198, 233, 262, 284, 368, 398, 475, 486, 523, 586, 626, 636, 689]\n",
            "Severidade para cada subsistema: [0.75, 0.25, 0.5, 0.5, 0.5, 0.5, 0.25, 0.75, 0.5, 0.5, 0.75, 0.75, 0.5, 0.5, 0.25]\n",
            "Número de Sisemas: 5\n",
            "Fator:  [0.3296799539643607, 0.7768698398515702, 0.3934693402873666, 0.6321205588285577, 0.6321205588285577, 0.6321205588285577, 0.6321205588285577, 0.3934693402873666, 0.7768698398515702, 0.6321205588285577, 0.6321205588285577, 0.7768698398515702, 0.7768698398515702, 0.6321205588285577, 0.6321205588285577, 0.3934693402873666]\n",
            "Media de falhas:  [0, 22190.06624, 36616276.29789055, 36881521.09291422, 57603177.51697767, 62479746.00765759, 67258744.3786481, 139386750.99917743, 164422638.69119143, 949256271.5794759, 951988494.925326, 1043255645.4849646, 1306632327.375396, 1340854614.800758, 1347881842.3241699, 1746303922.3788655, 1450022629.4920182]\n",
            "Custo =  129763628946.56021\n",
            "\n",
            "=========================================================================\n",
            "\n",
            "Número de ciclos de manutenção: 14 5\n",
            "Tempos para manutenções preventivas: [0, 31, 147, 234, 243, 279, 303, 396, 423, 476, 488, 521, 586, 629, 636]\n",
            "Severidade para cada subsistema: [0.75, 0.25, 0.5, 0.5, 0.5, 0.5, 0.75, 0.5, 0.5, 0.5, 0.75, 0.75, 0.5, 0.5]\n",
            "Número de Sisemas: 5\n",
            "Fator:  [0.3296799539643607, 0.7768698398515702, 0.3934693402873666, 0.6321205588285577, 0.6321205588285577, 0.6321205588285577, 0.6321205588285577, 0.7768698398515702, 0.6321205588285577, 0.6321205588285577, 0.6321205588285577, 0.7768698398515702, 0.7768698398515702, 0.6321205588285577, 0.6321205588285577]\n",
            "Media de falhas:  [0, 9161.32832, 15328025.985628024, 23212410.962239467, 29844963.8137025, 37938871.48151498, 44716471.43239874, 153568978.55465326, 181704045.3924384, 201560897.5899631, 222263702.93279964, 301330905.77350885, 575000876.9311755, 613449725.1746888, 618251013.4549655, 491192746.2714391]\n",
            "Custo =  69981146314.00417\n",
            "\n",
            "=========================================================================\n",
            "\n",
            "Número de ciclos de manutenção: 19 5\n",
            "Tempos para manutenções preventivas: [0, 29, 30, 61, 147, 204, 233, 298, 312, 331, 390, 428, 477, 490, 521, 561, 588, 626, 635, 718]\n",
            "Severidade para cada subsistema: [0.25, 0.75, 0.5, 0.25, 0.5, 0.5, 0.5, 0.5, 0.75, 0.75, 0.5, 0.5, 0.5, 0.75, 0.5, 0.75, 0.5, 0.5, 0.25]\n",
            "Número de Sisemas: 5\n",
            "Fator:  [0.3296799539643607, 0.3934693402873666, 0.7768698398515702, 0.6321205588285577, 0.3934693402873666, 0.6321205588285577, 0.6321205588285577, 0.6321205588285577, 0.6321205588285577, 0.7768698398515702, 0.7768698398515702, 0.6321205588285577, 0.6321205588285577, 0.6321205588285577, 0.7768698398515702, 0.6321205588285577, 0.7768698398515702, 0.6321205588285577, 0.6321205588285577, 0.3934693402873666]\n",
            "Media de falhas:  [0, 6563.56768, 6816.791092818258, 98392.18839194994, 3236475.565183181, 8499700.6419674, 25814577.72219081, 49219360.187226884, 53393618.46009285, 60730388.389004484, 113930947.93343024, 122107834.94640575, 139725660.4078778, 162594834.55707967, 236351383.08962122, 367110202.98684096, 383390088.3206137, 572240485.4539372, 578475273.5072739, 1373818507.6082187, 983713233.8466187]\n",
            "Custo =  119245638349.5468\n",
            "\n",
            "=========================================================================\n",
            "\n",
            "Número de ciclos de manutenção: 18 5\n",
            "Tempos para manutenções preventivas: [0, 29, 32, 64, 91, 151, 181, 227, 320, 332, 426, 477, 491, 520, 549, 589, 616, 633, 714]\n",
            "Severidade para cada subsistema: [0.25, 0.75, 0.5, 0.5, 0.5, 0.5, 0.5, 0.5, 0.75, 0.5, 0.5, 0.5, 0.75, 0.25, 0.75, 0.5, 0.5, 0.25]\n",
            "Número de Sisemas: 5\n",
            "Fator:  [0.3296799539643607, 0.3934693402873666, 0.7768698398515702, 0.6321205588285577, 0.6321205588285577, 0.6321205588285577, 0.6321205588285577, 0.6321205588285577, 0.6321205588285577, 0.7768698398515702, 0.6321205588285577, 0.6321205588285577, 0.6321205588285577, 0.7768698398515702, 0.3934693402873666, 0.7768698398515702, 0.6321205588285577, 0.6321205588285577, 0.3934693402873666]\n",
            "Media de falhas:  [0, 6563.56768, 7495.8022115420345, 121521.01772110345, 159689.84837708023, 2430121.152562891, 3727232.41256372, 9096995.380764656, 62622542.417750604, 67142343.51417404, 209378743.80887866, 228162809.7025811, 253072667.0681875, 321083198.22598875, 405139354.64344066, 432569920.33151186, 1250926459.8041277, 1263351586.237939, 2018951498.4949384, 1642089875.4914799]\n",
            "Custo =  217681186755.83026\n",
            "\n",
            "=========================================================================\n",
            "\n",
            "Número de ciclos de manutenção: 16 5\n",
            "Tempos para manutenções preventivas: [0, 37, 67, 92, 161, 221, 243, 279, 326, 330, 477, 488, 521, 590, 603, 632, 714]\n",
            "Severidade para cada subsistema: [0.75, 0.5, 0.5, 0.5, 0.5, 0.5, 0.75, 0.5, 0.75, 0.5, 0.5, 0.75, 0.75, 0.5, 0.5, 0.25]\n",
            "Número de Sisemas: 5\n",
            "Fator:  [0.3296799539643607, 0.7768698398515702, 0.6321205588285577, 0.6321205588285577, 0.6321205588285577, 0.6321205588285577, 0.6321205588285577, 0.7768698398515702, 0.6321205588285577, 0.7768698398515702, 0.6321205588285577, 0.6321205588285577, 0.7768698398515702, 0.7768698398515702, 0.6321205588285577, 0.6321205588285577, 0.3934693402873666]\n",
            "Media de falhas:  [0, 22190.06624, 177357.56213062257, 209681.18073530853, 3877302.3793969923, 11354018.39414281, 13981600.742421389, 22075508.41023387, 42438983.51548949, 42638980.733334914, 479923045.1399424, 482699171.03952676, 561766373.880236, 864090251.5807142, 871699568.5433973, 895032427.8439927, 1662212719.2832727, 1285351096.2798142]\n",
            "Custo =  100274062245.82066\n",
            "\n",
            "=========================================================================\n",
            "\n",
            "Número de ciclos de manutenção: 14 5\n",
            "Tempos para manutenções preventivas: [0, 29, 41, 91, 151, 216, 266, 288, 327, 476, 487, 522, 592, 631, 717]\n",
            "Severidade para cada subsistema: [0.25, 0.75, 0.5, 0.5, 0.5, 0.5, 0.75, 0.5, 0.5, 0.5, 0.75, 0.75, 0.5, 0.25]\n",
            "Número de Sisemas: 5\n",
            "Fator:  [0.3296799539643607, 0.3934693402873666, 0.7768698398515702, 0.6321205588285577, 0.6321205588285577, 0.6321205588285577, 0.6321205588285577, 0.7768698398515702, 0.6321205588285577, 0.6321205588285577, 0.6321205588285577, 0.7768698398515702, 0.7768698398515702, 0.6321205588285577, 0.3934693402873666]\n",
            "Media de falhas:  [0, 6563.56768, 15504.368977704846, 765164.9190677997, 1832767.5954265483, 9810216.616923021, 20433961.654112794, 25477554.2906397, 41680768.215159774, 213427434.71732742, 232189927.98899677, 317275868.0474298, 629013123.1196444, 663058989.421011, 837361991.333749, 450579173.69265175]\n",
            "Custo =  67848122185.091\n",
            "\n",
            "=========================================================================\n",
            "\n",
            "Número de ciclos de manutenção: 12 5\n",
            "Tempos para manutenções preventivas: [0, 27, 44, 153, 208, 218, 275, 323, 474, 485, 522, 593, 632]\n",
            "Severidade para cada subsistema: [0.25, 0.75, 0.5, 0.25, 0.5, 0.75, 0.5, 0.5, 0.5, 0.75, 0.75, 0.5]\n",
            "Número de Sisemas: 5\n",
            "Fator:  [0.3296799539643607, 0.3934693402873666, 0.7768698398515702, 0.6321205588285577, 0.3934693402873666, 0.6321205588285577, 0.7768698398515702, 0.6321205588285577, 0.6321205588285577, 0.6321205588285577, 0.7768698398515702, 0.7768698398515702, 0.6321205588285577]\n",
            "Media de falhas:  [0, 4591.65024, 21015.414315283157, 14734614.651318068, 16520663.776181582, 17232549.66577404, 81929257.1318965, 102170754.45095572, 278301178.9059106, 296760082.165505, 387354267.3323096, 706692320.3974466, 740935845.6276711, 728018148.7672544]\n",
            "Custo =  51475801566.93451\n",
            "\n",
            "=========================================================================\n",
            "\n",
            "Número de ciclos de manutenção: 14 5\n",
            "Tempos para manutenções preventivas: [0, 27, 43, 69, 183, 221, 315, 390, 446, 472, 485, 522, 595, 603, 633]\n",
            "Severidade para cada subsistema: [0.25, 0.75, 0.25, 0.5, 0.5, 0.5, 0.75, 0.25, 0.5, 0.5, 0.75, 0.75, 0.5, 0.5]\n",
            "Número de Sisemas: 5\n",
            "Fator:  [0.3296799539643607, 0.3934693402873666, 0.7768698398515702, 0.3934693402873666, 0.6321205588285577, 0.6321205588285577, 0.6321205588285577, 0.7768698398515702, 0.3934693402873666, 0.6321205588285577, 0.6321205588285577, 0.7768698398515702, 0.7768698398515702, 0.6321205588285577, 0.6321205588285577]\n",
            "Media de falhas:  [0, 4591.65024, 18721.709521606852, 137473.90368396492, 11745104.000301657, 29850978.099785782, 81689954.48937263, 156094432.47188672, 237698730.30358177, 244544295.13944125, 397537287.9135637, 488131473.08036834, 823021865.6425705, 827507458.458713, 851999112.1243737, 734933722.8501544]\n",
            "Custo =  110308832624.9945\n",
            "\n",
            "=========================================================================\n",
            "\n",
            "Número de ciclos de manutenção: 11 5\n",
            "Tempos para manutenções preventivas: [0, 40, 223, 308, 396, 444, 469, 487, 522, 596, 607, 633]\n",
            "Severidade para cada subsistema: [0.75, 0.5, 0.5, 0.75, 0.25, 0.5, 0.5, 0.75, 0.75, 0.5, 0.5]\n",
            "Número de Sisemas: 5\n",
            "Fator:  [0.3296799539643607, 0.7768698398515702, 0.6321205588285577, 0.6321205588285577, 0.7768698398515702, 0.3934693402873666, 0.6321205588285577, 0.6321205588285577, 0.7768698398515702, 0.7768698398515702, 0.6321205588285577, 0.6321205588285577]\n",
            "Media de falhas:  [0, 32768.0, 130138099.15763484, 144261267.698518, 244074575.48643696, 310289860.17093295, 316643580.4166856, 530647358.2765801, 615733298.3350132, 958577909.4174663, 965071709.5601575, 985579249.4913322, 868513860.2171129]\n",
            "Custo =  110102010689.6365\n",
            "\n",
            "=========================================================================\n",
            "\n",
            "Número de ciclos de manutenção: 16 5\n",
            "Tempos para manutenções preventivas: [0, 32, 174, 181, 226, 258, 297, 304, 402, 447, 469, 489, 521, 596, 608, 634, 717]\n",
            "Severidade para cada subsistema: [0.75, 0.75, 0.75, 0.5, 0.5, 0.5, 0.5, 0.75, 0.25, 0.5, 0.5, 0.75, 0.75, 0.5, 0.5, 0.25]\n",
            "Número de Sisemas: 5\n",
            "Fator:  [0.3296799539643607, 0.7768698398515702, 0.7768698398515702, 0.7768698398515702, 0.6321205588285577, 0.6321205588285577, 0.6321205588285577, 0.6321205588285577, 0.7768698398515702, 0.3934693402873666, 0.6321205588285577, 0.6321205588285577, 0.7768698398515702, 0.7768698398515702, 0.6321205588285577, 0.6321205588285577, 0.3934693402873666]\n",
            "Media de falhas:  [0, 10737.41824, 37340988.02972174, 37377421.02534316, 38795476.56699856, 39908739.27708347, 51224376.140035145, 53038543.66666305, 177620075.72902614, 240425531.3746732, 245823657.7557056, 486965677.4003059, 563367909.5611511, 912100000.3146214, 919291114.405116, 939921301.3238927, 1731111500.4391198, 1344328682.7980225]\n",
            "Custo =  148486952802.4592\n",
            "\n",
            "=========================================================================\n",
            "\n",
            "Número de ciclos de manutenção: 13 5\n",
            "Tempos para manutenções preventivas: [0, 91, 225, 242, 295, 306, 404, 470, 489, 521, 594, 604, 633, 715]\n",
            "Severidade para cada subsistema: [0.5, 0.5, 0.5, 0.5, 0.5, 0.75, 0.5, 0.5, 0.75, 0.75, 0.5, 0.5, 0.25]\n",
            "Número de Sisemas: 5\n",
            "Fator:  [0.3296799539643607, 0.6321205588285577, 0.6321205588285577, 0.6321205588285577, 0.6321205588285577, 0.6321205588285577, 0.7768698398515702, 0.6321205588285577, 0.6321205588285577, 0.7768698398515702, 0.7768698398515702, 0.6321205588285577, 0.6321205588285577, 0.3934693402873666]\n",
            "Media de falhas:  [0, 1996902.8643200002, 91948824.33126825, 93869308.18836662, 110572480.3719415, 113561446.97048585, 240254737.44107676, 362774652.7731176, 368048114.6102101, 444450346.7710554, 777241976.1134688, 782982796.249425, 806454385.4870006, 1577681231.62672, 1197520067.6747828]\n",
            "Custo =  103442153248.65349\n",
            "\n",
            "=========================================================================\n",
            "\n",
            "Número de ciclos de manutenção: 12 5\n",
            "Tempos para manutenções preventivas: [0, 68, 93, 225, 310, 382, 401, 472, 489, 520, 593, 633, 714]\n",
            "Severidade para cada subsistema: [0.25, 0.5, 0.5, 0.5, 0.5, 0.75, 0.5, 0.5, 0.75, 0.75, 0.5, 0.25]\n",
            "Número de Sisemas: 5\n",
            "Fator:  [0.3296799539643607, 0.3934693402873666, 0.6321205588285577, 0.6321205588285577, 0.6321205588285577, 0.6321205588285577, 0.7768698398515702, 0.6321205588285577, 0.6321205588285577, 0.7768698398515702, 0.7768698398515702, 0.6321205588285577, 0.3934693402873666]\n",
            "Media de falhas:  [0, 465258.74176000006, 962840.411673751, 76749590.58898455, 118042451.17236975, 183189753.95857823, 198715608.51807165, 335801255.1041975, 340416813.8394707, 413623922.6107118, 744326747.9009972, 779964661.0939626, 935467719.3514415, 558606096.3479831]\n",
            "Custo =  72076739996.19458\n",
            "\n",
            "=========================================================================\n",
            "\n",
            "Número de ciclos de manutenção: 13 5\n",
            "Tempos para manutenções preventivas: [0, 95, 222, 249, 270, 317, 394, 473, 489, 519, 552, 592, 633, 713]\n",
            "Severidade para cada subsistema: [0.5, 0.5, 0.5, 0.75, 0.5, 0.75, 0.5, 0.5, 0.75, 0.25, 0.75, 0.5, 0.25]\n",
            "Número de Sisemas: 5\n",
            "Fator:  [0.3296799539643607, 0.6321205588285577, 0.6321205588285577, 0.6321205588285577, 0.7768698398515702, 0.6321205588285577, 0.7768698398515702, 0.6321205588285577, 0.6321205588285577, 0.7768698398515702, 0.3934693402873666, 0.7768698398515702, 0.6321205588285577, 0.3934693402873666]\n",
            "Media de falhas:  [0, 2476099.0, 82805096.74664508, 86491808.88618918, 90220664.97679102, 108594212.56692058, 130545501.70729417, 290313909.6588206, 294610630.7813318, 364682646.6185653, 463670134.0460145, 491609844.7989495, 1861168908.537053, 2012803744.0682364, 1639234368.2039773]\n",
            "Custo =  194314841618.45856\n",
            "\n",
            "=========================================================================\n",
            "\n",
            "Número de ciclos de manutenção: 13 5\n",
            "Tempos para manutenções preventivas: [0, 35, 95, 152, 219, 285, 322, 370, 474, 489, 518, 592, 633, 713]\n",
            "Severidade para cada subsistema: [0.75, 0.5, 0.75, 0.5, 0.75, 0.5, 0.75, 0.5, 0.5, 0.75, 0.75, 0.5, 0.25]\n",
            "Número de Sisemas: 5\n",
            "Fator:  [0.3296799539643607, 0.7768698398515702, 0.6321205588285577, 0.7768698398515702, 0.6321205588285577, 0.7768698398515702, 0.6321205588285577, 0.7768698398515702, 0.6321205588285577, 0.6321205588285577, 0.7768698398515702, 0.7768698398515702, 0.6321205588285577, 0.3934693402873666]\n",
            "Media de falhas:  [0, 16807.0, 1310437.3546381444, 2244711.738490298, 11048638.759495078, 17358274.163908556, 31679214.87671909, 38978845.64047822, 279444409.22673875, 283428853.18938935, 350424956.6509169, 684759282.3929849, 721612085.7952783, 873246921.3264617, 499677545.4622026]\n",
            "Custo =  65243243679.8633\n",
            "\n",
            "=========================================================================\n",
            "\n",
            "Número de ciclos de manutenção: 13 5\n",
            "Tempos para manutenções preventivas: [0, 42, 95, 148, 200, 217, 272, 323, 475, 489, 518, 592, 633, 713]\n",
            "Severidade para cada subsistema: [0.75, 0.5, 0.25, 0.5, 0.5, 0.75, 0.5, 0.5, 0.5, 0.75, 0.75, 0.5, 0.25]\n",
            "Número de Sisemas: 5\n",
            "Fator:  [0.3296799539643607, 0.7768698398515702, 0.6321205588285577, 0.3934693402873666, 0.6321205588285577, 0.6321205588285577, 0.7768698398515702, 0.6321205588285577, 0.6321205588285577, 0.6321205588285577, 0.7768698398515702, 0.7768698398515702, 0.6321205588285577, 0.3934693402873666]\n",
            "Media de falhas:  [0, 41821.194240000004, 1162540.710591196, 1880773.2757462915, 6100875.24421753, 13889484.01376345, 27110716.37059712, 49074084.059501395, 229201990.62262797, 253713105.73138106, 320709209.1929086, 655043534.9349766, 691896338.33727, 843531173.8684534, 469961798.0041943]\n",
            "Custo =  68441355445.99633\n"
          ]
        },
        {
          "output_type": "stream",
          "name": "stderr",
          "text": [
            "pyswarms.single.global_best:  59%|█████▉    |59/100, best_cost=5.15e+10"
          ]
        },
        {
          "output_type": "stream",
          "name": "stdout",
          "text": [
            "\n",
            "=========================================================================\n",
            "\n",
            "Número de ciclos de manutenção: 13 5\n",
            "Tempos para manutenções preventivas: [0, 41, 82, 93, 148, 217, 241, 319, 475, 487, 519, 593, 634, 716]\n",
            "Severidade para cada subsistema: [0.75, 0.25, 0.5, 0.25, 0.5, 0.75, 0.5, 0.5, 0.5, 0.75, 0.75, 0.5, 0.25]\n",
            "Número de Sisemas: 5\n",
            "Fator:  [0.3296799539643607, 0.7768698398515702, 0.3934693402873666, 0.6321205588285577, 0.3934693402873666, 0.6321205588285577, 0.7768698398515702, 0.6321205588285577, 0.6321205588285577, 0.6321205588285577, 0.7768698398515702, 0.7768698398515702, 0.6321205588285577, 0.3934693402873666]\n",
            "Media de falhas:  [0, 37073.98432, 514079.52933163167, 520329.6054633249, 5829448.806845758, 14849903.888295447, 31414573.479820356, 70804382.4466846, 263855830.15830693, 284391121.0249012, 359659456.5616252, 696106205.4423404, 733171253.1441203, 893358733.9807954, 509890562.4993592]\n",
            "Custo =  69785393202.89264\n",
            "\n",
            "=========================================================================\n",
            "\n",
            "Número de ciclos de manutenção: 14 5\n",
            "Tempos para manutenções preventivas: [0, 38, 77, 90, 157, 219, 317, 390, 474, 486, 521, 594, 601, 634, 718]\n",
            "Severidade para cada subsistema: [0.75, 0.25, 0.5, 0.75, 0.5, 0.5, 0.75, 0.5, 0.5, 0.75, 0.75, 0.5, 0.5, 0.25]\n",
            "Número de Sisemas: 5\n",
            "Fator:  [0.3296799539643607, 0.7768698398515702, 0.3934693402873666, 0.6321205588285577, 0.7768698398515702, 0.6321205588285577, 0.6321205588285577, 0.7768698398515702, 0.6321205588285577, 0.6321205588285577, 0.7768698398515702, 0.7768698398515702, 0.6321205588285577, 0.6321205588285577, 0.3934693402873666]\n",
            "Media de falhas:  [0, 25355.253760000003, 378384.07010291156, 385918.45782553137, 8734343.403629674, 16411023.161935082, 38186840.28515665, 109726250.68917653, 285166898.5153316, 288179912.1214425, 372635915.6938985, 705427545.0363119, 709268598.6276565, 737082580.773791, 1544375879.3879414, 1154270605.6263413]\n",
            "Custo =  100322309743.3928\n",
            "\n",
            "=========================================================================\n",
            "\n",
            "Número de ciclos de manutenção: 17 5\n",
            "Tempos para manutenções preventivas: [0, 31, 73, 183, 221, 268, 271, 313, 381, 393, 473, 486, 523, 553, 595, 606, 633, 719]\n",
            "Severidade para cada subsistema: [0.75, 0.25, 0.75, 0.5, 0.5, 0.5, 0.5, 0.5, 0.75, 0.5, 0.5, 0.75, 0.25, 0.75, 0.5, 0.5, 0.25]\n",
            "Número de Sisemas: 5\n",
            "Fator:  [0.3296799539643607, 0.7768698398515702, 0.3934693402873666, 0.7768698398515702, 0.6321205588285577, 0.6321205588285577, 0.6321205588285577, 0.6321205588285577, 0.6321205588285577, 0.7768698398515702, 0.6321205588285577, 0.6321205588285577, 0.7768698398515702, 0.3934693402873666, 0.7768698398515702, 0.6321205588285577, 0.6321205588285577, 0.3934693402873666]\n",
            "Media de falhas:  [0, 9161.32832, 319992.7682361738, 10599055.826592883, 28704929.92607701, 31263461.602776837, 31745440.879136894, 46871848.74833897, 106333159.92414677, 115125437.76250263, 277710518.86552644, 281010254.1760063, 372277404.73564494, 462021581.1457062, 492469771.4473741, 809764328.0186763, 831244103.4382753, 1666995707.9420996, 1273559997.4828045]\n",
            "Custo =  215575854783.88184\n",
            "\n",
            "=========================================================================\n",
            "\n",
            "Número de ciclos de manutenção: 15 5\n",
            "Tempos para manutenções preventivas: [0, 72, 222, 247, 273, 308, 383, 395, 449, 472, 487, 523, 595, 607, 633, 718]\n",
            "Severidade para cada subsistema: [0.25, 0.5, 0.5, 0.5, 0.5, 0.25, 0.75, 0.25, 0.5, 0.5, 0.75, 0.75, 0.5, 0.5, 0.25]\n",
            "Número de Sisemas: 5\n",
            "Fator:  [0.3296799539643607, 0.3934693402873666, 0.6321205588285577, 0.6321205588285577, 0.6321205588285577, 0.6321205588285577, 0.3934693402873666, 0.7768698398515702, 0.3934693402873666, 0.6321205588285577, 0.6321205588285577, 0.7768698398515702, 0.7768698398515702, 0.6321205588285577, 0.6321205588285577, 0.3934693402873666]\n",
            "Media de falhas:  [0, 619173.6422400001, 98565336.29418176, 117590404.81728499, 122583952.71897659, 133893853.82975397, 203684690.4837031, 212655044.65438446, 657952747.3404343, 663800061.9431335, 842811391.8773639, 931294423.4510862, 1260414823.8025732, 1267559955.3883517, 1288067495.3195262, 2107381513.3758047, 1717276239.6142046]\n",
            "Custo =  181634191056.4958\n",
            "\n",
            "=========================================================================\n",
            "\n",
            "Número de ciclos de manutenção: 12 5\n",
            "Tempos para manutenções preventivas: [0, 73, 223, 297, 306, 395, 472, 489, 522, 594, 608, 632, 717]\n",
            "Severidade para cada subsistema: [0.25, 0.5, 0.5, 0.5, 0.75, 0.5, 0.5, 0.75, 0.75, 0.5, 0.5, 0.25]\n",
            "Número de Sisemas: 5\n",
            "Fator:  [0.3296799539643607, 0.3934693402873666, 0.6321205588285577, 0.6321205588285577, 0.6321205588285577, 0.7768698398515702, 0.6321205588285577, 0.6321205588285577, 0.7768698398515702, 0.7768698398515702, 0.6321205588285577, 0.6321205588285577, 0.3934693402873666]\n",
            "Media de falhas:  [0, 663382.9097600001, 100271984.55244853, 214179841.7080301, 216599093.10810983, 317300069.69292253, 470334390.20373386, 474949948.93900704, 554608192.940641, 881663514.0229007, 890198744.7550876, 908696630.2314043, 1723740821.0582347, 1336958003.4171374]\n",
            "Custo =  108411988631.61838\n",
            "\n",
            "=========================================================================\n",
            "\n",
            "Número de ciclos de manutenção: 13 5\n",
            "Tempos para manutenções preventivas: [0, 78, 170, 203, 223, 311, 396, 472, 492, 521, 593, 603, 632, 717]\n",
            "Severidade para cada subsistema: [0.25, 0.5, 0.25, 0.5, 0.5, 0.75, 0.5, 0.5, 0.75, 0.75, 0.5, 0.5, 0.25]\n",
            "Número de Sisemas: 5\n",
            "Fator:  [0.3296799539643607, 0.3934693402873666, 0.6321205588285577, 0.3934693402873666, 0.6321205588285577, 0.6321205588285577, 0.7768698398515702, 0.6321205588285577, 0.6321205588285577, 0.7768698398515702, 0.7768698398515702, 0.6321205588285577, 0.6321205588285577, 0.3934693402873666]\n",
            "Media de falhas:  [0, 923895.7977600001, 20809240.71053745, 32028377.662673704, 33719703.98067867, 196722033.62527668, 291348738.354269, 441662851.05613387, 447406895.1219614, 515928946.3707917, 840928997.3875339, 846632703.6448334, 869965562.9454288, 1685009753.7722592, 1298226936.131162]\n",
            "Custo =  108117466799.40022\n",
            "\n",
            "=========================================================================\n",
            "\n",
            "Número de ciclos de manutenção: 17 5\n",
            "Tempos para manutenções preventivas: [0, 37, 77, 90, 163, 223, 265, 280, 318, 382, 393, 471, 493, 519, 545, 592, 632, 718]\n",
            "Severidade para cada subsistema: [0.75, 0.25, 0.5, 0.25, 0.5, 0.5, 0.75, 0.5, 0.25, 0.75, 0.5, 0.5, 0.75, 0.75, 0.75, 0.5, 0.25]\n",
            "Número de Sisemas: 5\n",
            "Fator:  [0.3296799539643607, 0.7768698398515702, 0.3934693402873666, 0.6321205588285577, 0.3934693402873666, 0.6321205588285577, 0.6321205588285577, 0.7768698398515702, 0.6321205588285577, 0.3934693402873666, 0.7768698398515702, 0.6321205588285577, 0.6321205588285577, 0.7768698398515702, 0.7768698398515702, 0.7768698398515702, 0.6321205588285577, 0.3934693402873666]\n",
            "Media de falhas:  [0, 22190.06624, 384854.77077488665, 392389.15849750646, 11056481.045556182, 18759190.27885783, 60269772.43557887, 63215435.76043125, 77342450.7857204, 91092124.43412714, 99118342.0441636, 867019512.8941742, 873528627.7376348, 933429315.684243, 1005961346.1968534, 1041054249.3928174, 1076487274.4932368, 1251595925.0827959, 861490651.3211958]\n",
            "Custo =  99978483817.04175\n",
            "\n",
            "=========================================================================\n",
            "\n",
            "Número de ciclos de manutenção: 13 5\n",
            "Tempos para manutenções preventivas: [0, 48, 74, 92, 197, 221, 282, 322, 470, 494, 518, 592, 632, 717]\n",
            "Severidade para cada subsistema: [0.75, 0.25, 0.5, 0.25, 0.5, 0.75, 0.5, 0.5, 0.5, 0.75, 0.75, 0.5, 0.25]\n",
            "Número de Sisemas: 5\n",
            "Fator:  [0.3296799539643607, 0.7768698398515702, 0.3934693402873666, 0.6321205588285577, 0.3934693402873666, 0.6321205588285577, 0.7768698398515702, 0.6321205588285577, 0.6321205588285577, 0.6321205588285577, 0.7768698398515702, 0.7768698398515702, 0.6321205588285577, 0.3934693402873666]\n",
            "Media de falhas:  [0, 81537.26976000001, 283731.0015636127, 299004.9635739634, 34528484.06985702, 36562740.18347031, 113039479.48341087, 128830939.14697357, 292565247.0235124, 337829441.5572357, 392337625.86367965, 726671951.6057477, 762104976.7061672, 933001154.6697141, 546218337.0286168]\n",
            "Custo =  72213261537.55635\n"
          ]
        },
        {
          "output_type": "stream",
          "name": "stderr",
          "text": [
            "pyswarms.single.global_best:  77%|███████▋  |77/100, best_cost=5.15e+10"
          ]
        },
        {
          "output_type": "stream",
          "name": "stdout",
          "text": [
            "\n",
            "=========================================================================\n",
            "\n",
            "Número de ciclos de manutenção: 15 5\n",
            "Tempos para manutenções preventivas: [0, 29, 51, 79, 92, 180, 220, 241, 272, 321, 470, 493, 518, 592, 632, 717]\n",
            "Severidade para cada subsistema: [0.25, 0.75, 0.25, 0.5, 0.5, 0.5, 0.75, 0.75, 0.5, 0.5, 0.5, 0.75, 0.75, 0.5, 0.25]\n",
            "Número de Sisemas: 5\n",
            "Fator:  [0.3296799539643607, 0.3934693402873666, 0.7768698398515702, 0.3934693402873666, 0.6321205588285577, 0.6321205588285577, 0.6321205588285577, 0.7768698398515702, 0.7768698398515702, 0.6321205588285577, 0.6321205588285577, 0.6321205588285577, 0.7768698398515702, 0.7768698398515702, 0.6321205588285577, 0.3934693402873666]\n",
            "Media de falhas:  [0, 6563.56768, 44778.373212634746, 263196.49590115255, 271275.57053825597, 19775058.885351375, 23694240.519003548, 26104596.27903815, 32201785.1235511, 37020027.83654018, 203688123.83627033, 246571528.5070398, 303542203.9754926, 637876529.7175606, 673309554.8179802, 844205732.781527, 457422915.14042974]\n",
            "Custo =  66887722481.66699\n",
            "\n",
            "=========================================================================\n",
            "\n",
            "Número de ciclos de manutenção: 13 5\n",
            "Tempos para manutenções preventivas: [0, 29, 44, 84, 91, 220, 315, 369, 471, 493, 520, 594, 633, 717]\n",
            "Severidade para cada subsistema: [0.25, 0.75, 0.25, 0.5, 0.5, 0.5, 0.75, 0.5, 0.5, 0.75, 0.75, 0.5, 0.25]\n",
            "Número de Sisemas: 5\n",
            "Fator:  [0.3296799539643607, 0.3934693402873666, 0.7768698398515702, 0.3934693402873666, 0.6321205588285577, 0.6321205588285577, 0.6321205588285577, 0.7768698398515702, 0.6321205588285577, 0.6321205588285577, 0.7768698398515702, 0.7768698398515702, 0.6321205588285577, 0.3934693402873666]\n",
            "Media de falhas:  [0, 6563.56768, 21178.450747587514, 438899.81077452016, 441777.39330684335, 68124884.20350185, 120951385.52091947, 159542387.7437062, 387860979.02295625, 394370093.8664168, 457257861.7659875, 795827111.0594254, 830269159.1921424, 997802217.0590152, 611019399.4179178]\n",
            "Custo =  69718308437.20175\n",
            "\n",
            "=========================================================================\n",
            "\n",
            "Número de ciclos de manutenção: 17 5\n",
            "Tempos para manutenções preventivas: [0, 28, 34, 83, 177, 194, 221, 269, 285, 310, 390, 473, 491, 521, 553, 595, 633, 717]\n",
            "Severidade para cada subsistema: [0.25, 0.75, 0.25, 0.75, 0.75, 0.5, 0.5, 0.5, 0.5, 0.75, 0.5, 0.5, 0.75, 0.75, 0.75, 0.5, 0.25]\n",
            "Número de Sisemas: 5\n",
            "Fator:  [0.3296799539643607, 0.3934693402873666, 0.7768698398515702, 0.3934693402873666, 0.7768698398515702, 0.7768698398515702, 0.6321205588285577, 0.6321205588285577, 0.6321205588285577, 0.6321205588285577, 0.7768698398515702, 0.6321205588285577, 0.6321205588285577, 0.7768698398515702, 0.7768698398515702, 0.7768698398515702, 0.6321205588285577, 0.3934693402873666]\n",
            "Media de falhas:  [0, 5507.317760000001, 7745.228549582676, 530012.0991614267, 6300896.000795171, 11254197.866511445, 11754512.719987912, 14453602.442133375, 17841680.052514944, 25598515.69570869, 107456675.07203846, 278650923.3773041, 283669295.7072913, 354799199.5755287, 451149614.4221151, 481597804.723783, 514862743.10766196, 682395800.9745347, 295612983.33343744]\n",
            "Custo =  66431853238.6858\n",
            "\n",
            "=========================================================================\n",
            "\n",
            "Número de ciclos de manutenção: 17 5\n",
            "Tempos para manutenções preventivas: [0, 29, 79, 166, 203, 222, 256, 272, 308, 365, 394, 476, 487, 522, 595, 602, 633, 717]\n",
            "Severidade para cada subsistema: [0.25, 0.25, 0.25, 0.75, 0.5, 0.5, 0.5, 0.5, 0.5, 0.75, 0.5, 0.5, 0.75, 0.75, 0.5, 0.5, 0.25]\n",
            "Número de Sisemas: 5\n",
            "Fator:  [0.3296799539643607, 0.3934693402873666, 0.3934693402873666, 0.3934693402873666, 0.7768698398515702, 0.6321205588285577, 0.6321205588285577, 0.6321205588285577, 0.6321205588285577, 0.6321205588285577, 0.7768698398515702, 0.6321205588285577, 0.6321205588285577, 0.7768698398515702, 0.7768698398515702, 0.6321205588285577, 0.6321205588285577, 0.3934693402873666]\n",
            "Media de falhas:  [0, 6563.56768, 522301.05532548466, 14745755.588485926, 27267995.846872307, 36770122.82335208, 37976324.428971484, 40800881.33506787, 52513664.907295525, 92384367.69668466, 115549262.21379161, 287718143.55731833, 290472252.51785517, 375558192.5762882, 710448585.1384903, 714314884.2803946, 739843035.2416848, 1542925018.6414557, 1156142201.0003583]\n",
            "Custo =  106635744886.78506\n",
            "\n",
            "=========================================================================\n",
            "\n",
            "Número de ciclos de manutenção: 13 5\n",
            "Tempos para manutenções preventivas: [0, 77, 224, 253, 271, 307, 396, 476, 485, 523, 595, 607, 633, 717]\n",
            "Severidade para cada subsistema: [0.25, 0.5, 0.5, 0.5, 0.5, 0.75, 0.5, 0.5, 0.75, 0.75, 0.5, 0.5, 0.25]\n",
            "Número de Sisemas: 5\n",
            "Fator:  [0.3296799539643607, 0.3934693402873666, 0.6321205588285577, 0.6321205588285577, 0.6321205588285577, 0.6321205588285577, 0.7768698398515702, 0.6321205588285577, 0.6321205588285577, 0.7768698398515702, 0.7768698398515702, 0.6321205588285577, 0.6321205588285577, 0.3934693402873666]\n",
            "Media de falhas:  [0, 866170.93024, 99651227.60830544, 123810892.90157215, 126985941.20377941, 138556651.80852023, 240137754.25831008, 406475464.7784533, 408645876.49630153, 502717892.28965956, 831838292.6411465, 838983424.2269249, 859490964.1580995, 1662572947.5578704, 1275790129.916773]\n",
            "Custo =  107092395178.61725\n",
            "\n",
            "=========================================================================\n",
            "\n",
            "Número de ciclos de manutenção: 15 5\n",
            "Tempos para manutenções preventivas: [0, 75, 181, 225, 253, 283, 306, 395, 449, 475, 485, 523, 594, 608, 633, 717]\n",
            "Severidade para cada subsistema: [0.25, 0.75, 0.5, 0.5, 0.5, 0.5, 0.75, 0.25, 0.5, 0.5, 0.75, 0.75, 0.5, 0.5, 0.25]\n",
            "Número de Sisemas: 5\n",
            "Fator:  [0.3296799539643607, 0.3934693402873666, 0.7768698398515702, 0.6321205588285577, 0.6321205588285577, 0.6321205588285577, 0.6321205588285577, 0.7768698398515702, 0.3934693402873666, 0.6321205588285577, 0.6321205588285577, 0.7768698398515702, 0.7768698398515702, 0.6321205588285577, 0.6321205588285577, 0.3934693402873666]\n",
            "Media de falhas:  [0, 759375.0000000001, 30481825.66766053, 52900934.50686303, 53734932.877378725, 60535846.19326373, 67240039.70403823, 167941016.2888509, 247859726.9779027, 254867500.91189006, 373021434.3854614, 467093450.1788194, 788453400.6194794, 796988631.3516663, 816539396.443121, 1619621379.8428917, 1232838562.2017944]\n",
            "Custo =  149216772924.46024\n",
            "\n",
            "=========================================================================\n",
            "\n",
            "Número de ciclos de manutenção: 17 5\n",
            "Tempos para manutenções preventivas: [0, 78, 90, 163, 191, 226, 262, 309, 391, 448, 474, 486, 522, 555, 593, 603, 633, 718]\n",
            "Severidade para cada subsistema: [0.25, 0.5, 0.75, 0.5, 0.5, 0.5, 0.5, 0.75, 0.25, 0.5, 0.5, 0.75, 0.5, 0.75, 0.5, 0.5, 0.25]\n",
            "Número de Sisemas: 5\n",
            "Fator:  [0.3296799539643607, 0.3934693402873666, 0.6321205588285577, 0.7768698398515702, 0.6321205588285577, 0.6321205588285577, 0.6321205588285577, 0.6321205588285577, 0.7768698398515702, 0.3934693402873666, 0.6321205588285577, 0.6321205588285577, 0.7768698398515702, 0.6321205588285577, 0.7768698398515702, 0.6321205588285577, 0.6321205588285577, 0.3934693402873666]\n",
            "Media de falhas:  [0, 923895.7977600001, 1150175.3381527518, 11814267.225211427, 13251497.745691577, 14107993.165256973, 20518376.053177886, 37250179.887744136, 122972274.68228179, 207838741.1670504, 214792127.2732852, 357375892.56543654, 445205759.848439, 546303435.0844492, 572509312.0046576, 612225078.0705078, 636716731.7361684, 1456030749.7924469, 1065925476.0308468]\n",
            "Custo =  157584747821.87274\n",
            "\n",
            "=========================================================================\n",
            "\n",
            "Número de ciclos de manutenção: 12 5\n",
            "Tempos para manutenções preventivas: [0, 37, 77, 92, 226, 314, 449, 472, 489, 521, 593, 633, 717]\n",
            "Severidade para cada subsistema: [0.75, 0.25, 0.5, 0.5, 0.5, 0.25, 0.5, 0.5, 0.75, 0.75, 0.5, 0.25]\n",
            "Número de Sisemas: 5\n",
            "Fator:  [0.3296799539643607, 0.7768698398515702, 0.3934693402873666, 0.6321205588285577, 0.6321205588285577, 0.6321205588285577, 0.3934693402873666, 0.6321205588285577, 0.6321205588285577, 0.7768698398515702, 0.7768698398515702, 0.6321205588285577, 0.3934693402873666]\n",
            "Media de falhas:  [0, 22190.06624, 384854.77077488665, 395420.28406737733, 79043019.9319357, 124752253.52595538, 433897387.26918703, 470058555.57409126, 675788340.4849443, 752190572.6457896, 1077190623.6625319, 1112828536.8554971, 1280361594.72237, 893578777.0812726]\n",
            "Custo =  120693367080.23914\n",
            "\n",
            "=========================================================================\n",
            "\n",
            "Número de ciclos de manutenção: 13 5\n",
            "Tempos para manutenções preventivas: [0, 46, 78, 93, 196, 223, 322, 471, 491, 519, 549, 593, 633, 717]\n",
            "Severidade para cada subsistema: [0.75, 0.25, 0.5, 0.25, 0.5, 0.5, 0.5, 0.5, 0.75, 0.25, 0.75, 0.5, 0.25]\n",
            "Número de Sisemas: 5\n",
            "Fator:  [0.3296799539643607, 0.7768698398515702, 0.3934693402873666, 0.6321205588285577, 0.3934693402873666, 0.6321205588285577, 0.6321205588285577, 0.6321205588285577, 0.6321205588285577, 0.7768698398515702, 0.3934693402873666, 0.7768698398515702, 0.6321205588285577, 0.3934693402873666]\n",
            "Media de falhas:  [0, 65908.15232000001, 370424.16222620354, 381345.98854994396, 33136189.641741764, 35571758.50603441, 246825169.00064588, 677308148.518207, 713624826.2184592, 778574941.9941499, 865812108.3788542, 897930329.451809, 2235207980.6475005, 2402741038.5143733, 2015958220.873276]\n",
            "Custo =  207793907143.65918\n",
            "\n",
            "=========================================================================\n",
            "\n",
            "Número de ciclos de manutenção: 14 5\n",
            "Tempos para manutenções preventivas: [0, 47, 80, 92, 196, 220, 325, 375, 470, 492, 518, 565, 593, 633, 716]\n",
            "Severidade para cada subsistema: [0.75, 0.25, 0.5, 0.25, 0.5, 0.5, 0.5, 0.5, 0.5, 0.75, 0.5, 0.75, 0.5, 0.25]\n",
            "Número de Sisemas: 5\n",
            "Fator:  [0.3296799539643607, 0.7768698398515702, 0.3934693402873666, 0.6321205588285577, 0.3934693402873666, 0.6321205588285577, 0.6321205588285577, 0.6321205588285577, 0.6321205588285577, 0.6321205588285577, 0.7768698398515702, 0.6321205588285577, 0.7768698398515702, 0.6321205588285577, 0.3934693402873666]\n",
            "Media de falhas:  [0, 73390.40224000001, 420828.2587373097, 427832.36644366634, 33600806.814164564, 35600539.38121979, 268676354.75632083, 305709932.3793101, 509257711.5745814, 549808444.777711, 609258918.6342638, 770965938.0886462, 788554922.583117, 997334441.21267, 1160785653.7633922, 777317482.281956]\n",
            "Custo =  96844324782.86961\n",
            "\n",
            "=========================================================================\n",
            "\n",
            "Número de ciclos de manutenção: 13 5\n",
            "Tempos para manutenções preventivas: [0, 45, 85, 90, 219, 325, 376, 390, 471, 493, 518, 593, 633, 716]\n",
            "Severidade para cada subsistema: [0.75, 0.25, 0.5, 0.5, 0.5, 0.5, 0.75, 0.5, 0.5, 0.75, 0.75, 0.5, 0.25]\n",
            "Número de Sisemas: 5\n",
            "Fator:  [0.3296799539643607, 0.7768698398515702, 0.3934693402873666, 0.6321205588285577, 0.6321205588285577, 0.6321205588285577, 0.6321205588285577, 0.7768698398515702, 0.6321205588285577, 0.6321205588285577, 0.7768698398515702, 0.7768698398515702, 0.6321205588285577, 0.3934693402873666]\n",
            "Media de falhas:  [0, 59049.00000000001, 595226.9925762578, 596971.7675701141, 67179159.39334826, 138421211.7395071, 176793061.85003132, 186829800.44441614, 349753294.84854364, 356262409.6920042, 413233085.160457, 755465281.4292977, 791103194.6222631, 954554407.1729853, 571086235.6915491]\n",
            "Custo =  71951175828.40393\n",
            "\n",
            "=========================================================================\n",
            "\n",
            "Número de ciclos de manutenção: 14 5\n",
            "Tempos para manutenções preventivas: [0, 37, 166, 197, 218, 321, 367, 395, 472, 490, 519, 549, 594, 633, 717]\n",
            "Severidade para cada subsistema: [0.75, 0.75, 0.5, 0.5, 0.5, 0.5, 0.75, 0.5, 0.5, 0.75, 0.25, 0.75, 0.5, 0.25]\n",
            "Número de Sisemas: 5\n",
            "Fator:  [0.3296799539643607, 0.7768698398515702, 0.7768698398515702, 0.6321205588285577, 0.6321205588285577, 0.6321205588285577, 0.6321205588285577, 0.7768698398515702, 0.6321205588285577, 0.6321205588285577, 0.7768698398515702, 0.3934693402873666, 0.7768698398515702, 0.6321205588285577, 0.3934693402873666]\n",
            "Media de falhas:  [0, 22190.06624, 27558788.87631764, 28003095.05925687, 28320637.664535094, 93290405.28656812, 124009068.98822057, 146487549.91462108, 299521870.42543244, 304501490.4298476, 372003375.9279828, 459240542.3126871, 492603213.84477556, 1797553161.473065, 1965086219.3399377, 1578303401.6988404]\n",
            "Custo =  197385905050.8928\n",
            "\n",
            "=========================================================================\n",
            "\n",
            "Número de ciclos de manutenção: 13 5\n",
            "Tempos para manutenções preventivas: [0, 155, 218, 256, 314, 367, 398, 473, 486, 521, 549, 594, 633, 718]\n",
            "Severidade para cada subsistema: [0.5, 0.5, 0.5, 0.5, 0.5, 0.75, 0.5, 0.5, 0.75, 0.5, 0.75, 0.5, 0.25]\n",
            "Número de Sisemas: 5\n",
            "Fator:  [0.3296799539643607, 0.6321205588285577, 0.6321205588285577, 0.6321205588285577, 0.6321205588285577, 0.6321205588285577, 0.7768698398515702, 0.6321205588285577, 0.6321205588285577, 0.7768698398515702, 0.6321205588285577, 0.7768698398515702, 0.6321205588285577, 0.3934693402873666]\n",
            "Media de falhas:  [0, 28629151.000000004, 66195265.935684636, 72516031.82897443, 96260748.00901707, 133163463.42664893, 159158367.9328259, 307918299.8143397, 311218035.1248196, 395674038.6972756, 476570462.38821256, 509933133.920301, 712905131.1430696, 884593169.9310963, 494487896.1694963]\n",
            "Custo =  86810640243.0051\n",
            "\n",
            "=========================================================================\n",
            "\n",
            "Número de ciclos de manutenção: 13 5\n",
            "Tempos para manutenções preventivas: [0, 182, 220, 247, 307, 377, 396, 473, 483, 523, 594, 601, 632, 717]\n",
            "Severidade para cada subsistema: [0.75, 0.5, 0.5, 0.5, 0.5, 0.75, 0.5, 0.5, 0.75, 0.75, 0.5, 0.5, 0.25]\n",
            "Número de Sisemas: 5\n",
            "Fator:  [0.3296799539643607, 0.7768698398515702, 0.6321205588285577, 0.6321205588285577, 0.6321205588285577, 0.6321205588285577, 0.7768698398515702, 0.6321205588285577, 0.6321205588285577, 0.7768698398515702, 0.7768698398515702, 0.6321205588285577, 0.6321205588285577, 0.3934693402873666]\n",
            "Media de falhas:  [0, 63900891.658240005, 88805441.71853448, 89530339.60441759, 112557862.16948864, 172244369.77331617, 187025651.27777687, 341238701.30467284, 343637426.7769615, 443382440.88412184, 764742391.3247819, 768583444.9161265, 793961452.1323788, 1609005642.9592092, 1222222825.318112]\n",
            "Custo =  106288695608.94235\n",
            "\n",
            "=========================================================================\n",
            "\n",
            "Número de ciclos de manutenção: 16 5\n",
            "Tempos para manutenções preventivas: [0, 81, 90, 185, 222, 257, 308, 385, 396, 474, 484, 524, 567, 594, 603, 633, 717]\n",
            "Severidade para cada subsistema: [0.25, 0.5, 0.75, 0.5, 0.5, 0.5, 0.5, 0.75, 0.5, 0.5, 0.75, 0.75, 0.75, 0.5, 0.5, 0.25]\n",
            "Número de Sisemas: 5\n",
            "Fator:  [0.3296799539643607, 0.3934693402873666, 0.6321205588285577, 0.7768698398515702, 0.6321205588285577, 0.6321205588285577, 0.6321205588285577, 0.6321205588285577, 0.7768698398515702, 0.6321205588285577, 0.6321205588285577, 0.7768698398515702, 0.7768698398515702, 0.7768698398515702, 0.6321205588285577, 0.6321205588285577, 0.3934693402873666]\n",
            "Media de falhas:  [0, 1115771.00832, 1289876.5963373126, 25102686.84272539, 28730785.1698218, 30016784.29455546, 48498951.45041386, 122399767.97734585, 130671036.558989, 288853693.0018447, 291271805.17412186, 391753871.49538505, 539695850.3609135, 556607563.1487857, 561697107.3603071, 586188761.0259677, 1389270744.4257383, 1002487926.784641]\n",
            "Custo =  102358429154.52063\n",
            "\n",
            "=========================================================================\n",
            "\n",
            "Número de ciclos de manutenção: 17 5\n",
            "Tempos para manutenções preventivas: [0, 34, 64, 92, 223, 262, 297, 309, 377, 395, 473, 487, 523, 561, 594, 602, 633, 717]\n",
            "Severidade para cada subsistema: [0.75, 0.25, 0.5, 0.5, 0.5, 0.5, 0.5, 0.5, 0.75, 0.5, 0.5, 0.75, 0.75, 0.75, 0.5, 0.5, 0.25]\n",
            "Número de Sisemas: 5\n",
            "Fator:  [0.3296799539643607, 0.7768698398515702, 0.3934693402873666, 0.6321205588285577, 0.6321205588285577, 0.6321205588285577, 0.6321205588285577, 0.6321205588285577, 0.6321205588285577, 0.7768698398515702, 0.6321205588285577, 0.6321205588285577, 0.7768698398515702, 0.7768698398515702, 0.7768698398515702, 0.6321205588285577, 0.6321205588285577, 0.3934693402873666]\n",
            "Media de falhas:  [0, 14539.335680000002, 143774.8877295953, 186820.48349101466, 72799032.01341222, 79922690.47870381, 89788476.25461075, 93195433.08852503, 150453442.10672808, 164257858.7285861, 321235677.2075232, 324856715.85423833, 413339747.4279606, 536734614.76297647, 558585000.3889414, 563041416.396558, 588569567.3578483, 1391651550.757619, 1004868733.1165216]\n",
            "Custo =  103212976835.99551\n",
            "\n",
            "=========================================================================\n",
            "\n",
            "Número de ciclos de manutenção: 16 5\n",
            "Tempos para manutenções preventivas: [0, 41, 92, 162, 224, 259, 298, 316, 382, 392, 471, 492, 522, 544, 594, 634, 716]\n",
            "Severidade para cada subsistema: [0.75, 0.5, 0.25, 0.5, 0.5, 0.5, 0.5, 0.5, 0.75, 0.5, 0.5, 0.75, 0.75, 0.75, 0.5, 0.25]\n",
            "Número de Sisemas: 5\n",
            "Fator:  [0.3296799539643607, 0.7768698398515702, 0.6321205588285577, 0.3934693402873666, 0.6321205588285577, 0.6321205588285577, 0.6321205588285577, 0.6321205588285577, 0.6321205588285577, 0.7768698398515702, 0.6321205588285577, 0.6321205588285577, 0.7768698398515702, 0.7768698398515702, 0.7768698398515702, 0.6321205588285577, 0.3934693402873666]\n",
            "Media de falhas:  [0, 37073.98432, 984921.4637079634, 2929401.7618435547, 11195401.948018704, 42982302.33708754, 54440128.021815926, 60209335.52775171, 117756340.30144915, 124950062.63717353, 282291351.21040726, 288389514.8913346, 360052840.91524804, 420219047.35524327, 459100571.7463631, 494944265.2248765, 655131746.0615516, 271663574.5801154]\n",
            "Custo =  70532125733.62685\n"
          ]
        },
        {
          "output_type": "stream",
          "name": "stderr",
          "text": [
            "pyswarms.single.global_best: 100%|██████████|100/100, best_cost=5.15e+10\n",
            "2023-10-02 01:29:10,920 - pyswarms.single.global_best - INFO - Optimization finished | best cost: 51475801566.93451, best pos: [2.27247576 4.63059016 0.34137857 3.11831533 1.97487105 1.45529354\n",
            " 6.21701673 3.56828533 2.60204075 2.53359235 3.17959548 4.81117552\n",
            " 0.29102383 5.42691384 2.38245302 3.67163462 3.50505261 5.28399473\n",
            " 6.04124622 5.818495   2.98497557 3.17205507 2.26591892 1.67339786]\n",
            "2023-10-02 01:29:10,922 - pyswarms.single.global_best - INFO - Optimize for 1 iters with {'c1': 0.5, 'c2': 0.3, 'w': 0.9}\n"
          ]
        },
        {
          "output_type": "stream",
          "name": "stdout",
          "text": [
            "\n",
            "=========================================================================\n",
            "\n",
            "Número de ciclos de manutenção: 14 5\n",
            "Tempos para manutenções preventivas: [0, 28, 46, 92, 180, 225, 262, 322, 375, 471, 495, 521, 593, 634, 713]\n",
            "Severidade para cada subsistema: [0.25, 0.75, 0.5, 0.25, 0.5, 0.5, 0.5, 0.5, 0.5, 0.5, 0.75, 0.75, 0.5, 0.25]\n",
            "Número de Sisemas: 5\n",
            "Fator:  [0.3296799539643607, 0.3934693402873666, 0.7768698398515702, 0.6321205588285577, 0.3934693402873666, 0.6321205588285577, 0.6321205588285577, 0.6321205588285577, 0.6321205588285577, 0.6321205588285577, 0.6321205588285577, 0.7768698398515702, 0.7768698398515702, 0.6321205588285577, 0.3934693402873666]\n",
            "Media de falhas:  [0, 5507.317760000001, 26267.841908575196, 726174.5703368983, 5542915.734294312, 10580915.928886026, 45698769.2052977, 72967646.37423453, 112920275.44635282, 321220696.9174587, 366844681.03287363, 427653474.9418964, 752653525.9586385, 789718573.6604185, 938253660.6575341, 564684284.7932751]\n",
            "Custo =  77417271263.28584\n",
            "\n",
            "=========================================================================\n",
            "\n",
            "Número de ciclos de manutenção: 15 5\n",
            "Tempos para manutenções preventivas: [0, 28, 46, 91, 162, 200, 224, 323, 365, 471, 494, 520, 566, 593, 634, 712]\n",
            "Severidade para cada subsistema: [0.25, 0.75, 0.5, 0.5, 0.25, 0.5, 0.5, 0.5, 0.5, 0.5, 0.75, 0.5, 0.75, 0.5, 0.25]\n",
            "Número de Sisemas: 5\n",
            "Fator:  [0.3296799539643607, 0.3934693402873666, 0.7768698398515702, 0.6321205588285577, 0.6321205588285577, 0.3934693402873666, 0.6321205588285577, 0.6321205588285577, 0.6321205588285577, 0.6321205588285577, 0.6321205588285577, 0.7768698398515702, 0.6321205588285577, 0.7768698398515702, 0.6321205588285577, 0.3934693402873666]\n",
            "Media de falhas:  [0, 5507.317760000001, 26267.841908575196, 679727.9372759074, 2709198.719822859, 5302104.905405382, 7442635.130265351, 221305891.31261948, 248154063.3090827, 490458260.0816494, 533683566.61759335, 594037024.6915243, 752836069.9219012, 769641218.6598239, 985582006.627427, 1130371376.0903316, 760087127.0544629]\n",
            "Custo =  95966763600.85886\n",
            "\n",
            "=========================================================================\n",
            "\n",
            "Número de ciclos de manutenção: 16 5\n",
            "Tempos para manutenções preventivas: [0, 29, 44, 69, 90, 190, 222, 297, 322, 368, 472, 488, 519, 543, 593, 633, 713]\n",
            "Severidade para cada subsistema: [0.25, 0.75, 0.25, 0.5, 0.5, 0.5, 0.5, 0.5, 0.5, 0.5, 0.5, 0.75, 0.5, 0.75, 0.5, 0.25]\n",
            "Número de Sisemas: 5\n",
            "Fator:  [0.3296799539643607, 0.3934693402873666, 0.7768698398515702, 0.3934693402873666, 0.6321205588285577, 0.6321205588285577, 0.6321205588285577, 0.6321205588285577, 0.6321205588285577, 0.6321205588285577, 0.6321205588285577, 0.6321205588285577, 0.7768698398515702, 0.6321205588285577, 0.7768698398515702, 0.6321205588285577, 0.3934693402873666]\n",
            "Media de falhas:  [0, 6563.56768, 21178.450747587514, 134897.9982695689, 155058.1843304791, 28250410.844603438, 31231800.744322743, 60273456.48568926, 69250842.31244873, 100282968.11325468, 337258959.7584037, 365233262.21071863, 437894013.0064549, 503469140.32631767, 542120684.6414835, 750900203.2710365, 902535038.8022199, 528965662.9379608]\n",
            "Custo =  88395361553.5723\n",
            "\n",
            "=========================================================================\n",
            "\n",
            "Número de ciclos de manutenção: 14 5\n",
            "Tempos para manutenções preventivas: [0, 41, 87, 163, 219, 284, 316, 373, 391, 473, 484, 517, 593, 633, 713]\n",
            "Severidade para cada subsistema: [0.75, 0.25, 0.75, 0.5, 0.5, 0.5, 0.5, 0.75, 0.5, 0.5, 0.75, 0.75, 0.5, 0.25]\n",
            "Número de Sisemas: 5\n",
            "Fator:  [0.3296799539643607, 0.7768698398515702, 0.3934693402873666, 0.7768698398515702, 0.6321205588285577, 0.6321205588285577, 0.6321205588285577, 0.6321205588285577, 0.7768698398515702, 0.6321205588285577, 0.6321205588285577, 0.7768698398515702, 0.7768698398515702, 0.6321205588285577, 0.3934693402873666]\n",
            "Media de falhas:  [0, 37073.98432, 717683.661521207, 3247103.4596792725, 28728934.69993614, 34764843.63628257, 45932935.34225963, 89086773.12862638, 102351174.58294661, 270648910.0185619, 273337754.01449287, 350073696.1861153, 698133239.6115841, 733771152.8045495, 885405988.3357328, 511836612.47147375]\n",
            "Custo =  70936381952.44302\n",
            "\n",
            "=========================================================================\n",
            "\n",
            "Número de ciclos de manutenção: 14 5\n",
            "Tempos para manutenções preventivas: [0, 29, 33, 187, 217, 277, 311, 367, 398, 475, 483, 516, 594, 633, 713]\n",
            "Severidade para cada subsistema: [0.25, 0.75, 0.75, 0.5, 0.5, 0.5, 0.5, 0.75, 0.5, 0.5, 0.75, 0.75, 0.5, 0.25]\n",
            "Número de Sisemas: 5\n",
            "Fator:  [0.3296799539643607, 0.3934693402873666, 0.7768698398515702, 0.7768698398515702, 0.6321205588285577, 0.6321205588285577, 0.6321205588285577, 0.6321205588285577, 0.7768698398515702, 0.6321205588285577, 0.6321205588285577, 0.7768698398515702, 0.7768698398515702, 0.6321205588285577, 0.3934693402873666]\n",
            "Media de falhas:  [0, 6563.56768, 7939.2594003594, 51067967.45848989, 51634949.47207463, 56343610.19892029, 67662432.87588318, 107376025.7840282, 133370930.29020517, 289962124.6009465, 291840230.6241062, 368001522.0178976, 730101901.6323512, 764543949.7650682, 916178785.2962515, 542609409.4319925]\n",
            "Custo =  70453058244.58174\n",
            "\n",
            "=========================================================================\n",
            "\n",
            "Número de ciclos de manutenção: 14 5\n",
            "Tempos para manutenções preventivas: [0, 29, 207, 217, 268, 276, 310, 372, 402, 475, 485, 516, 594, 632, 716]\n",
            "Severidade para cada subsistema: [0.25, 0.75, 0.5, 0.5, 0.5, 0.5, 0.5, 0.75, 0.5, 0.5, 0.75, 0.75, 0.5, 0.25]\n",
            "Número de Sisemas: 5\n",
            "Fator:  [0.3296799539643607, 0.3934693402873666, 0.7768698398515702, 0.6321205588285577, 0.6321205588285577, 0.6321205588285577, 0.6321205588285577, 0.6321205588285577, 0.7768698398515702, 0.6321205588285577, 0.6321205588285577, 0.7768698398515702, 0.7768698398515702, 0.6321205588285577, 0.3934693402873666]\n",
            "Media de falhas:  [0, 6563.56768, 96015966.30451712, 100677452.8501011, 103700444.18696061, 105122698.69846714, 116304831.10996571, 164237198.0958488, 190257688.8377649, 335891004.7194567, 338328620.9484103, 409368672.94776195, 771469052.5622156, 804541760.9906025, 971299361.2872701, 587831189.8058338]\n",
            "Custo =  74184475559.51073\n",
            "\n",
            "=========================================================================\n",
            "\n",
            "Número de ciclos de manutenção: 16 5\n",
            "Tempos para manutenções preventivas: [0, 28, 74, 174, 218, 259, 289, 314, 371, 404, 474, 487, 517, 567, 594, 632, 719]\n",
            "Severidade para cada subsistema: [0.25, 0.25, 0.25, 0.5, 0.5, 0.5, 0.5, 0.5, 0.75, 0.5, 0.5, 0.75, 0.5, 0.75, 0.5, 0.25]\n",
            "Número de Sisemas: 5\n",
            "Fator:  [0.3296799539643607, 0.3934693402873666, 0.3934693402873666, 0.3934693402873666, 0.6321205588285577, 0.6321205588285577, 0.6321205588285577, 0.6321205588285577, 0.6321205588285577, 0.7768698398515702, 0.6321205588285577, 0.6321205588285577, 0.7768698398515702, 0.6321205588285577, 0.7768698398515702, 0.6321205588285577, 0.3934693402873666]\n",
            "Media de falhas:  [0, 5507.317760000001, 369503.02965065965, 20739936.01769625, 40477202.901847064, 77454150.73133239, 84817040.54944596, 92965876.44973212, 135280383.8794682, 164874779.5017726, 301490004.8300823, 304816016.24479383, 373842011.13243824, 550035903.7584552, 566947616.5463274, 762937393.111033, 942333396.4525721, 548897685.9932771]\n",
            "Custo =  91828946825.9687\n",
            "\n",
            "=========================================================================\n",
            "\n",
            "Número de ciclos de manutenção: 12 5\n",
            "Tempos para manutenções preventivas: [0, 29, 182, 219, 256, 316, 404, 473, 488, 519, 594, 601, 633]\n",
            "Severidade para cada subsistema: [0.25, 0.75, 0.5, 0.5, 0.5, 0.75, 0.5, 0.5, 0.75, 0.75, 0.5, 0.5]\n",
            "Número de Sisemas: 5\n",
            "Fator:  [0.3296799539643607, 0.3934693402873666, 0.7768698398515702, 0.6321205588285577, 0.6321205588285577, 0.6321205588285577, 0.7768698398515702, 0.6321205588285577, 0.6321205588285577, 0.7768698398515702, 0.7768698398515702, 0.6321205588285577, 0.6321205588285577]\n",
            "Media de falhas:  [0, 6563.56768, 48795695.64409856, 65807520.54922685, 67211994.26143211, 92718535.51836081, 199676793.88899586, 332670150.21157163, 336623425.23837763, 409284176.0341139, 753672732.5296232, 757513786.1209677, 784095115.9947176, 667029726.7204983]\n",
            "Custo =  66043801543.91401\n",
            "\n",
            "=========================================================================\n",
            "\n",
            "Número de ciclos de manutenção: 13 5\n",
            "Tempos para manutenções preventivas: [0, 35, 90, 202, 220, 258, 319, 403, 472, 489, 521, 594, 602, 633]\n",
            "Severidade para cada subsistema: [0.75, 0.5, 0.5, 0.5, 0.5, 0.5, 0.75, 0.5, 0.5, 0.75, 0.75, 0.5, 0.5]\n",
            "Número de Sisemas: 5\n",
            "Fator:  [0.3296799539643607, 0.7768698398515702, 0.6321205588285577, 0.6321205588285577, 0.6321205588285577, 0.6321205588285577, 0.6321205588285577, 0.7768698398515702, 0.6321205588285577, 0.6321205588285577, 0.7768698398515702, 0.7768698398515702, 0.6321205588285577, 0.6321205588285577]\n",
            "Media de falhas:  [0, 16807.0, 966067.388351589, 13828650.091512747, 15248514.727226082, 21752329.34212375, 48769780.04807106, 147559590.67164105, 279522955.03299487, 284138513.76826805, 360540745.9291133, 693332375.2715267, 697788791.2791433, 723316942.2404336, 606251552.9662143]\n",
            "Custo =  64239796389.34371\n",
            "\n",
            "=========================================================================\n",
            "\n",
            "Número de ciclos de manutenção: 14 5\n",
            "Tempos para manutenções preventivas: [0, 42, 92, 222, 263, 274, 322, 399, 471, 490, 523, 559, 594, 601, 634]\n",
            "Severidade para cada subsistema: [0.75, 0.5, 0.5, 0.5, 0.75, 0.5, 0.75, 0.5, 0.5, 0.75, 0.5, 0.75, 0.5, 0.5]\n",
            "Número de Sisemas: 5\n",
            "Fator:  [0.3296799539643607, 0.7768698398515702, 0.6321205588285577, 0.6321205588285577, 0.6321205588285577, 0.7768698398515702, 0.6321205588285577, 0.7768698398515702, 0.6321205588285577, 0.6321205588285577, 0.7768698398515702, 0.6321205588285577, 0.7768698398515702, 0.6321205588285577, 0.6321205588285577]\n",
            "Media de falhas:  [0, 41821.194240000004, 969180.3918299216, 25698694.63192858, 33424558.14193113, 35359693.63234751, 55372417.556160524, 78140789.48420916, 216744761.77692527, 222059215.0011228, 302311815.2840617, 416844364.9240229, 440455867.0829951, 467683209.9447938, 495497192.09092826, 375091689.562977]\n",
            "Custo =  72213175037.05167\n",
            "\n",
            "=========================================================================\n",
            "\n",
            "Número de ciclos de manutenção: 16 5\n",
            "Tempos para manutenções preventivas: [0, 29, 48, 93, 205, 223, 268, 321, 376, 395, 471, 490, 524, 552, 593, 634, 718]\n",
            "Severidade para cada subsistema: [0.25, 0.75, 0.5, 0.25, 0.5, 0.5, 0.5, 0.5, 0.75, 0.5, 0.5, 0.75, 0.5, 0.75, 0.5, 0.25]\n",
            "Número de Sisemas: 5\n",
            "Fator:  [0.3296799539643607, 0.3934693402873666, 0.7768698398515702, 0.6321205588285577, 0.3934693402873666, 0.6321205588285577, 0.6321205588285577, 0.6321205588285577, 0.6321205588285577, 0.7768698398515702, 0.6321205588285577, 0.6321205588285577, 0.7768698398515702, 0.6321205588285577, 0.7768698398515702, 0.6321205588285577, 0.3934693402873666]\n",
            "Media de falhas:  [0, 6563.56768, 32530.354576490823, 741380.4122811117, 13933062.19255582, 15428782.74369294, 61841081.32058641, 84477075.49425383, 126845069.86598994, 141480715.39826453, 290641857.3654251, 295956310.5896227, 379549615.08603203, 462188400.7509343, 491276216.43335736, 707217004.4009604, 875528263.2042146, 485422989.44261456]\n",
            "Custo =  88622734536.4741\n",
            "\n",
            "=========================================================================\n",
            "\n",
            "Número de ciclos de manutenção: 17 5\n",
            "Tempos para manutenções preventivas: [0, 28, 47, 73, 92, 163, 200, 224, 263, 316, 391, 471, 489, 524, 550, 593, 634, 714]\n",
            "Severidade para cada subsistema: [0.25, 0.75, 0.25, 0.5, 0.75, 0.25, 0.5, 0.5, 0.5, 0.75, 0.5, 0.5, 0.75, 0.5, 0.75, 0.5, 0.25]\n",
            "Número de Sisemas: 5\n",
            "Fator:  [0.3296799539643607, 0.3934693402873666, 0.7768698398515702, 0.3934693402873666, 0.6321205588285577, 0.7768698398515702, 0.3934693402873666, 0.6321205588285577, 0.6321205588285577, 0.6321205588285577, 0.7768698398515702, 0.6321205588285577, 0.6321205588285577, 0.7768698398515702, 0.6321205588285577, 0.7768698398515702, 0.6321205588285577, 0.3934693402873666]\n",
            "Media de falhas:  [0, 5507.317760000001, 29355.757703690717, 177291.90505774732, 194436.20501645186, 10510947.107745284, 13005756.219185043, 13436193.78963704, 50939237.183635205, 72326215.40289204, 147408314.50854468, 307527654.1909073, 312468747.1960346, 398825152.93701655, 473998895.42680097, 505090073.4065472, 721030861.3741503, 873380246.3936318, 496518623.39017344]\n",
            "Custo =  85758558792.05283\n",
            "\n",
            "=========================================================================\n",
            "\n",
            "Número de ciclos de manutenção: 15 5\n",
            "Tempos para manutenções preventivas: [0, 28, 38, 90, 154, 224, 264, 289, 312, 367, 472, 489, 524, 593, 633, 712]\n",
            "Severidade para cada subsistema: [0.25, 0.75, 0.5, 0.5, 0.5, 0.5, 0.5, 0.5, 0.75, 0.5, 0.5, 0.75, 0.75, 0.5, 0.25]\n",
            "Número de Sisemas: 5\n",
            "Fator:  [0.3296799539643607, 0.3934693402873666, 0.7768698398515702, 0.6321205588285577, 0.6321205588285577, 0.6321205588285577, 0.6321205588285577, 0.6321205588285577, 0.6321205588285577, 0.7768698398515702, 0.6321205588285577, 0.6321205588285577, 0.7768698398515702, 0.7768698398515702, 0.6321205588285577, 0.3934693402873666]\n",
            "Media de falhas:  [0, 5507.317760000001, 11068.229053200552, 770803.4335470281, 2114558.5580194844, 12356611.3827069, 19933830.155045517, 25860162.667691205, 33085986.182105213, 71851465.28984863, 312362684.22551143, 316978242.9607846, 403334648.70176655, 711469550.2542182, 747107463.4471836, 894943384.2818693, 524659135.24600065]\n",
            "Custo =  68766741969.9004\n",
            "\n",
            "=========================================================================\n",
            "\n",
            "Número de ciclos de manutenção: 12 5\n",
            "Tempos para manutenções preventivas: [0, 186, 224, 261, 281, 311, 371, 473, 487, 522, 593, 633, 712]\n",
            "Severidade para cada subsistema: [0.5, 0.5, 0.5, 0.5, 0.5, 0.75, 0.5, 0.5, 0.75, 0.75, 0.5, 0.25]\n",
            "Número de Sisemas: 5\n",
            "Fator:  [0.3296799539643607, 0.6321205588285577, 0.6321205588285577, 0.6321205588285577, 0.6321205588285577, 0.6321205588285577, 0.7768698398515702, 0.6321205588285577, 0.6321205588285577, 0.7768698398515702, 0.7768698398515702, 0.6321205588285577, 0.3934693402873666]\n",
            "Media de falhas:  [0, 71238489.01632, 98057226.57904658, 104608434.66800418, 108722878.99641836, 118450750.90561835, 163820895.3653031, 395519875.64659834, 399140914.29331344, 484226854.3517465, 803564907.4168835, 839202820.6098489, 987038741.4445345, 616754492.4086659]\n",
            "Custo =  72317283219.45847\n",
            "\n",
            "=========================================================================\n",
            "\n",
            "Número de ciclos de manutenção: 11 5\n",
            "Tempos para manutenções preventivas: [0, 200, 223, 258, 315, 473, 488, 520, 555, 593, 633, 711]\n",
            "Severidade para cada subsistema: [0.5, 0.5, 0.5, 0.5, 0.5, 0.5, 0.75, 0.5, 0.75, 0.5, 0.25]\n",
            "Número de Sisemas: 5\n",
            "Fator:  [0.3296799539643607, 0.6321205588285577, 0.6321205588285577, 0.6321205588285577, 0.6321205588285577, 0.6321205588285577, 0.6321205588285577, 0.7768698398515702, 0.6321205588285577, 0.7768698398515702, 0.6321205588285577, 0.3934693402873666]\n",
            "Media de falhas:  [0, 102400000.00000001, 119128419.81974702, 124966333.76521158, 148391037.32211903, 634841089.4864218, 660978663.7958684, 736812354.6799848, 844744531.8554771, 870950408.7756855, 1079729927.4052386, 1223835306.0145967, 856829237.7256467]\n",
            "Custo =  92619777872.24413\n",
            "\n",
            "=========================================================================\n",
            "\n",
            "Número de ciclos de manutenção: 13 5\n",
            "Tempos para manutenções preventivas: [0, 197, 221, 259, 275, 318, 375, 392, 473, 489, 518, 594, 633, 711]\n",
            "Severidade para cada subsistema: [0.5, 0.5, 0.5, 0.5, 0.5, 0.5, 0.75, 0.5, 0.5, 0.75, 0.75, 0.5, 0.25]\n",
            "Número de Sisemas: 5\n",
            "Fator:  [0.3296799539643607, 0.6321205588285577, 0.6321205588285577, 0.6321205588285577, 0.6321205588285577, 0.6321205588285577, 0.6321205588285577, 0.7768698398515702, 0.6321205588285577, 0.6321205588285577, 0.7768698398515702, 0.7768698398515702, 0.6321205588285577, 0.3934693402873666]\n",
            "Media de falhas:  [0, 94946969.84224, 111712263.0396424, 118309095.35744078, 121256918.35624684, 137794423.14871085, 181800164.9471398, 194398124.2472079, 359826226.11005676, 364122947.2325679, 431119050.69409543, 781368978.6948903, 815811026.8276073, 959916405.4369655, 592910337.1480155]\n",
            "Custo =  74810653751.22052\n",
            "\n",
            "=========================================================================\n",
            "\n",
            "Número de ciclos de manutenção: 14 5\n",
            "Tempos para manutenções preventivas: [0, 75, 151, 199, 220, 261, 318, 385, 394, 473, 490, 517, 594, 633, 714]\n",
            "Severidade para cada subsistema: [0.25, 0.25, 0.5, 0.5, 0.5, 0.5, 0.25, 0.75, 0.5, 0.5, 0.75, 0.75, 0.5, 0.25]\n",
            "Número de Sisemas: 5\n",
            "Fator:  [0.3296799539643607, 0.3934693402873666, 0.3934693402873666, 0.6321205588285577, 0.6321205588285577, 0.6321205588285577, 0.6321205588285577, 0.3934693402873666, 0.7768698398515702, 0.6321205588285577, 0.6321205588285577, 0.7768698398515702, 0.7768698398515702, 0.6321205588285577, 0.3934693402873666]\n",
            "Media de falhas:  [0, 759375.0000000001, 10930135.566713108, 25825568.50109216, 35908823.879301086, 43422739.63339261, 67654962.60687634, 128107083.80421144, 134686473.13831496, 925451198.2043692, 930102856.438716, 991584676.8615091, 1347738419.2190995, 1382180467.3518167, 1537683525.6092956, 1160821902.6058373]\n",
            "Custo =  105882573914.54631\n"
          ]
        },
        {
          "output_type": "stream",
          "name": "stderr",
          "text": [
            "pyswarms.single.global_best: 100%|██████████|1/1, best_cost=5.15e+10"
          ]
        },
        {
          "output_type": "stream",
          "name": "stdout",
          "text": [
            "\n",
            "=========================================================================\n",
            "\n",
            "Número de ciclos de manutenção: 16 5\n",
            "Tempos para manutenções preventivas: [0, 32, 90, 184, 220, 263, 275, 318, 361, 395, 473, 491, 519, 542, 594, 633, 719]\n",
            "Severidade para cada subsistema: [0.75, 0.5, 0.5, 0.5, 0.5, 0.75, 0.5, 0.25, 0.75, 0.5, 0.5, 0.75, 0.75, 0.75, 0.5, 0.25]\n",
            "Número de Sisemas: 5\n",
            "Fator:  [0.3296799539643607, 0.7768698398515702, 0.6321205588285577, 0.6321205588285577, 0.6321205588285577, 0.6321205588285577, 0.7768698398515702, 0.6321205588285577, 0.3934693402873666, 0.7768698398515702, 0.6321205588285577, 0.6321205588285577, 0.7768698398515702, 0.7768698398515702, 0.7768698398515702, 0.6321205588285577, 0.3934693402873666]\n",
            "Media de falhas:  [0, 10737.41824, 1022323.0815901017, 7204718.31605282, 10585550.001049401, 18830416.49640476, 20985280.75971567, 37522785.55217968, 43096524.851432115, 71199751.75753579, 852363666.4433829, 857382038.77337, 922332154.5490607, 984524591.3234295, 1025743926.9827532, 1060185975.1154702, 1236103108.8506293, 842667398.3913343]\n",
            "Custo =  96937917010.53212\n"
          ]
        },
        {
          "output_type": "stream",
          "name": "stderr",
          "text": [
            "\n",
            "2023-10-02 01:29:10,939 - pyswarms.single.global_best - INFO - Optimization finished | best cost: 51475801566.93451, best pos: [2.27206919 4.62771716 0.34076143 3.14651346 1.97509159 1.51862825\n",
            " 6.2089694  3.56507712 2.59573598 6.41779448 3.17172961 4.81178729\n",
            " 0.28622674 5.42795034 2.36062102 3.67286044 3.50900473 5.28347071\n",
            " 5.65181887 5.79632238 2.99740767 3.1717578  2.26407104 1.67404871]\n",
            "2023-10-02 01:29:10,941 - pyswarms.single.global_best - INFO - Optimize for 1 iters with {'c1': 0.5, 'c2': 0.3, 'w': 0.9}\n",
            "pyswarms.single.global_best: 100%|██████████|1/1, best_cost=4.41e+10\n",
            "2023-10-02 01:29:10,952 - pyswarms.single.global_best - INFO - Optimization finished | best cost: 44078952820.113815, best pos: [2.27137405 4.62702242 0.34056435 3.24773665 1.97509758 1.55899454\n",
            " 6.2107081  3.56643918 2.59647566 4.78761992 3.17613226 4.80899057\n",
            " 0.29018321 5.43363071 2.37187792 3.67288041 3.51424793 5.2831537\n",
            " 2.68001583 5.804939   2.87918259 3.17138521 2.265073   1.6735597 ]\n",
            "2023-10-02 01:29:10,953 - pyswarms.single.global_best - INFO - Optimize for 1 iters with {'c1': 0.5, 'c2': 0.3, 'w': 0.9}\n"
          ]
        },
        {
          "output_type": "stream",
          "name": "stdout",
          "text": [
            "\n",
            "=========================================================================\n",
            "\n",
            "Número de ciclos de manutenção: 15 5\n",
            "Tempos para manutenções preventivas: [0, 39, 93, 178, 180, 220, 260, 287, 314, 397, 473, 492, 520, 558, 594, 633]\n",
            "Severidade para cada subsistema: [0.75, 0.5, 0.5, 0.5, 0.5, 0.5, 0.75, 0.5, 0.75, 0.5, 0.5, 0.75, 0.75, 0.75, 0.5]\n",
            "Número de Sisemas: 5\n",
            "Fator:  [0.3296799539643607, 0.7768698398515702, 0.6321205588285577, 0.6321205588285577, 0.6321205588285577, 0.6321205588285577, 0.6321205588285577, 0.7768698398515702, 0.6321205588285577, 0.7768698398515702, 0.6321205588285577, 0.6321205588285577, 0.7768698398515702, 0.7768698398515702, 0.7768698398515702, 0.6321205588285577]\n",
            "Media de falhas:  [0, 28871.743680000003, 1082911.3855660385, 5313961.610603249, 5376504.347583917, 9295685.98123609, 16461674.496631602, 22780921.860299204, 31691291.68866913, 58035379.74384049, 209509220.9478096, 214906375.0304735, 280346419.7694253, 401204867.9922674, 425719496.87788033, 460161545.0105974, 446929127.070066]\n",
            "Custo =  44078952820.113815\n"
          ]
        },
        {
          "output_type": "stream",
          "name": "stderr",
          "text": [
            "pyswarms.single.global_best: 100%|██████████|1/1, best_cost=4.41e+10\n",
            "2023-10-02 01:29:10,964 - pyswarms.single.global_best - INFO - Optimization finished | best cost: 44078952820.113815, best pos: [2.27074841 4.62639715 0.34038699 3.33883753 1.97510297 1.59532421\n",
            " 6.21227293 3.56766503 2.59714138 3.32046281 3.18009465 4.80647352\n",
            " 0.29374404 5.43874304 2.38200912 3.67289838 3.51896682 5.28286839\n",
            " 5.60539309 5.81269396 2.77278003 3.17104988 2.26597476 1.67311958]\n",
            "2023-10-02 01:29:10,966 - pyswarms.single.global_best - INFO - Optimize for 1 iters with {'c1': 0.5, 'c2': 0.3, 'w': 0.9}\n"
          ]
        },
        {
          "output_type": "stream",
          "name": "stdout",
          "text": [
            "\n",
            "=========================================================================\n",
            "\n",
            "Número de ciclos de manutenção: 15 5\n",
            "Tempos para manutenções preventivas: [0, 43, 96, 160, 222, 253, 294, 310, 371, 400, 472, 494, 521, 561, 594, 634]\n",
            "Severidade para cada subsistema: [0.75, 0.5, 0.25, 0.5, 0.5, 0.75, 0.5, 0.25, 0.75, 0.5, 0.5, 0.75, 0.75, 0.75, 0.5]\n",
            "Número de Sisemas: 5\n",
            "Fator:  [0.3296799539643607, 0.7768698398515702, 0.6321205588285577, 0.3934693402873666, 0.6321205588285577, 0.6321205588285577, 0.7768698398515702, 0.6321205588285577, 0.3934693402873666, 0.7768698398515702, 0.6321205588285577, 0.6321205588285577, 0.7768698398515702, 0.7768698398515702, 0.7768698398515702, 0.6321205588285577]\n",
            "Media de falhas:  [0, 47042.70176, 1214349.3792251442, 2668232.6724631665, 10694457.744901685, 36442800.729580924, 48071025.45347686, 52775568.80584322, 64228296.03802524, 88785487.27954057, 806152933.1500865, 812711789.5844535, 876073529.8702375, 1006832349.7674572, 1028682735.3934222, 1064526428.8719356, 1050983290.5968539]\n",
            "Custo =  81807611324.75597\n"
          ]
        },
        {
          "output_type": "stream",
          "name": "stderr",
          "text": [
            "pyswarms.single.global_best: 100%|██████████|1/1, best_cost=4.41e+10\n",
            "2023-10-02 01:29:10,981 - pyswarms.single.global_best - INFO - Optimization finished | best cost: 44078952820.113815, best pos: [2.2702551  4.6258936  0.34023055 3.4092704  1.97510634 1.623585\n",
            " 6.21365041 3.56856315 2.5975953  2.28484234 3.18324801 4.80451978\n",
            " 0.29624275 5.44237973 2.38857092 3.67291205 3.52259092 5.2826764\n",
            " 0.28504058 5.81858252 2.708679   3.17078323 2.26652576 1.67281467]\n",
            "2023-10-02 01:29:10,982 - pyswarms.single.global_best - INFO - Optimize for 1 iters with {'c1': 0.5, 'c2': 0.3, 'w': 0.9}\n"
          ]
        },
        {
          "output_type": "stream",
          "name": "stdout",
          "text": [
            "\n",
            "=========================================================================\n",
            "\n",
            "Número de ciclos de manutenção: 13 5\n",
            "Tempos para manutenções preventivas: [0, 43, 99, 188, 223, 240, 294, 305, 403, 471, 495, 521, 594, 635]\n",
            "Severidade para cada subsistema: [0.75, 0.5, 0.5, 0.5, 0.5, 0.75, 0.5, 0.75, 0.5, 0.5, 0.75, 0.75, 0.5]\n",
            "Número de Sisemas: 5\n",
            "Fator:  [0.3296799539643607, 0.7768698398515702, 0.6321205588285577, 0.6321205588285577, 0.6321205588285577, 0.6321205588285577, 0.7768698398515702, 0.6321205588285577, 0.7768698398515702, 0.6321205588285577, 0.6321205588285577, 0.7768698398515702, 0.7768698398515702, 0.6321205588285577]\n",
            "Media de falhas:  [0, 47042.70176, 1445874.5010569256, 6858245.345417127, 10275458.065323824, 12135280.128485862, 29083860.603811, 32034528.666256737, 71969671.08059481, 200401167.74809274, 207771915.35470036, 268580709.26372313, 601372338.6061366, 638650551.3492109, 624800584.5067576]\n",
            "Custo =  46727478592.22794\n"
          ]
        },
        {
          "output_type": "stream",
          "name": "stderr",
          "text": [
            "pyswarms.single.global_best: 100%|██████████|1/1, best_cost=4.41e+10\n",
            "2023-10-02 01:29:10,996 - pyswarms.single.global_best - INFO - Optimization finished | best cost: 44078952820.113815, best pos: [2.27011942 4.6255179  0.34009763 3.44870582 1.97510848 1.64402465\n",
            " 6.2140079  3.56907312 2.59796411 1.45684314 3.18534524 4.80323434\n",
            " 0.29839025 5.44390825 2.39159708 3.67291858 3.52496665 5.28262355\n",
            " 1.3897204  5.82102451 2.65382802 3.17060485 2.26681277 1.67273027]\n",
            "2023-10-02 01:29:10,997 - pyswarms.single.global_best - INFO - Optimize for 1 iters with {'c1': 0.5, 'c2': 0.3, 'w': 0.9}\n"
          ]
        },
        {
          "output_type": "stream",
          "name": "stdout",
          "text": [
            "\n",
            "=========================================================================\n",
            "\n",
            "Número de ciclos de manutenção: 17 5\n",
            "Tempos para manutenções preventivas: [0, 43, 67, 101, 146, 173, 201, 225, 293, 301, 372, 405, 470, 497, 521, 594, 636, 719]\n",
            "Severidade para cada subsistema: [0.75, 0.25, 0.5, 0.25, 0.5, 0.5, 0.5, 0.75, 0.5, 0.5, 0.75, 0.5, 0.5, 0.75, 0.75, 0.5, 0.25]\n",
            "Número de Sisemas: 5\n",
            "Fator:  [0.3296799539643607, 0.7768698398515702, 0.3934693402873666, 0.6321205588285577, 0.3934693402873666, 0.6321205588285577, 0.6321205588285577, 0.6321205588285577, 0.7768698398515702, 0.6321205588285577, 0.6321205588285577, 0.7768698398515702, 0.6321205588285577, 0.6321205588285577, 0.7768698398515702, 0.7768698398515702, 0.6321205588285577, 0.3934693402873666]\n",
            "Media de falhas:  [0, 47042.70176, 172288.50573416305, 261978.82160502713, 4320924.796720033, 5273856.842267507, 14485338.185195502, 16662207.275075754, 40351379.24202595, 42355445.29276496, 58028161.92686115, 87904985.93355659, 208002899.157539, 216705221.29001027, 272461329.21784085, 605252958.5602542, 643999139.3894618, 809744362.698914, 416308652.239619]\n",
            "Custo =  70226709830.89595\n"
          ]
        },
        {
          "output_type": "stream",
          "name": "stderr",
          "text": [
            "pyswarms.single.global_best: 100%|██████████|1/1, best_cost=4.41e+10\n",
            "2023-10-02 01:29:11,014 - pyswarms.single.global_best - INFO - Optimization finished | best cost: 44078952820.113815, best pos: [2.27007327 4.62562465 0.34002878 3.42944257 1.97510825 1.64727201\n",
            " 6.21411643 3.56926376 2.59802597 1.24126587 3.18486529 4.8028914\n",
            " 0.29879008 5.44501865 2.39277354 3.67292225 3.52701325 5.28271047\n",
            " 1.76109178 5.82300379 2.65175912 3.17062989 2.26660985 1.6726819 ]\n",
            "2023-10-02 01:29:11,015 - pyswarms.single.global_best - INFO - Optimize for 1 iters with {'c1': 0.5, 'c2': 0.3, 'w': 0.9}\n"
          ]
        },
        {
          "output_type": "stream",
          "name": "stdout",
          "text": [
            "\n",
            "=========================================================================\n",
            "\n",
            "Número de ciclos de manutenção: 14 5\n",
            "Tempos para manutenções preventivas: [0, 37, 68, 103, 142, 161, 226, 290, 407, 469, 497, 521, 594, 636, 714]\n",
            "Severidade para cada subsistema: [0.75, 0.75, 0.5, 0.25, 0.25, 0.5, 0.75, 0.75, 0.5, 0.5, 0.75, 0.75, 0.5, 0.25]\n",
            "Número de Sisemas: 5\n",
            "Fator:  [0.3296799539643607, 0.7768698398515702, 0.7768698398515702, 0.6321205588285577, 0.3934693402873666, 0.3934693402873666, 0.6321205588285577, 0.7768698398515702, 0.7768698398515702, 0.6321205588285577, 0.6321205588285577, 0.7768698398515702, 0.7768698398515702, 0.6321205588285577, 0.3934693402873666]\n",
            "Media de falhas:  [0, 22190.06624, 192325.0653130049, 293808.2392340629, 584503.2690239477, 1047149.1620515687, 34634027.81207208, 124331605.30112176, 299107726.23185086, 323797609.3792611, 332923281.26492184, 388679389.1927524, 721471018.5351658, 760217199.3643733, 906381954.7466784, 529520331.74322]\n",
            "Custo =  68644762965.36293\n"
          ]
        },
        {
          "output_type": "stream",
          "name": "stderr",
          "text": [
            "pyswarms.single.global_best: 100%|██████████|1/1, best_cost=4.41e+10\n",
            "2023-10-02 01:29:11,026 - pyswarms.single.global_best - INFO - Optimization finished | best cost: 44078952820.113815, best pos: [2.27014585 4.62607508 0.34005266 3.39305248 1.97510519 1.62757674\n",
            " 6.21338921 3.56910662 2.59774751 1.40385292 3.18217036 4.80339776\n",
            " 0.29761487 5.44590597 2.39092714 3.67291924 3.52870813 5.282808\n",
            " 1.59110791 5.82221041 2.6697778  3.17083547 2.26598237 1.67287848]\n",
            "2023-10-02 01:29:11,028 - pyswarms.single.global_best - INFO - Optimize for 1 iters with {'c1': 0.5, 'c2': 0.3, 'w': 0.9}\n"
          ]
        },
        {
          "output_type": "stream",
          "name": "stdout",
          "text": [
            "\n",
            "=========================================================================\n",
            "\n",
            "Número de ciclos de manutenção: 16 5\n",
            "Tempos para manutenções preventivas: [0, 72, 103, 139, 194, 228, 266, 282, 380, 409, 468, 498, 520, 564, 594, 636, 710]\n",
            "Severidade para cada subsistema: [0.25, 0.5, 0.25, 0.75, 0.5, 0.25, 0.75, 0.75, 0.75, 0.5, 0.5, 0.75, 0.25, 0.75, 0.5, 0.25]\n",
            "Número de Sisemas: 5\n",
            "Fator:  [0.3296799539643607, 0.3934693402873666, 0.6321205588285577, 0.3934693402873666, 0.7768698398515702, 0.6321205588285577, 0.3934693402873666, 0.7768698398515702, 0.7768698398515702, 0.7768698398515702, 0.6321205588285577, 0.6321205588285577, 0.7768698398515702, 0.3934693402873666, 0.7768698398515702, 0.6321205588285577, 0.3934693402873666]\n",
            "Media de falhas:  [0, 619173.6422400001, 1536538.0728147593, 4195006.240140229, 8392836.566412013, 26855317.754365657, 28520523.944755506, 31771669.215858545, 436000823.1943129, 440703105.4089619, 463189009.17490053, 473261408.8567311, 523652486.61151195, 672474516.492852, 691792624.4205159, 2120586338.5564551, 2252317715.081705, 1888583056.4225392]\n",
            "Custo =  205618734619.25214\n"
          ]
        },
        {
          "output_type": "stream",
          "name": "stderr",
          "text": [
            "pyswarms.single.global_best: 100%|██████████|1/1, best_cost=4.41e+10\n",
            "2023-10-02 01:29:11,041 - pyswarms.single.global_best - INFO - Optimization finished | best cost: 44078952820.113815, best pos: [2.27045054 4.62651814 0.34010076 3.34912306 1.97510219 1.60793237\n",
            " 6.21228431 3.56883734 2.59735852 2.37020333 3.17917274 4.80485959\n",
            " 0.29623256 5.44520129 2.38848794 3.6729065  3.52722597 5.28291286\n",
            " 0.86075523 5.81750801 2.71024903 3.17104353 2.26529935 1.67325945]\n",
            "2023-10-02 01:29:11,042 - pyswarms.single.global_best - INFO - Optimize for 1 iters with {'c1': 0.5, 'c2': 0.3, 'w': 0.9}\n"
          ]
        },
        {
          "output_type": "stream",
          "name": "stdout",
          "text": [
            "\n",
            "=========================================================================\n",
            "\n",
            "Número de ciclos de manutenção: 14 5\n",
            "Tempos para manutenções preventivas: [0, 102, 139, 162, 229, 258, 270, 410, 467, 498, 519, 541, 594, 636, 706]\n",
            "Severidade para cada subsistema: [0.5, 0.25, 0.5, 0.5, 0.25, 0.75, 0.75, 0.5, 0.5, 0.75, 0.25, 0.75, 0.5, 0.25]\n",
            "Número de Sisemas: 5\n",
            "Fator:  [0.3296799539643607, 0.6321205588285577, 0.3934693402873666, 0.6321205588285577, 0.6321205588285577, 0.3934693402873666, 0.7768698398515702, 0.7768698398515702, 0.6321205588285577, 0.6321205588285577, 0.7768698398515702, 0.3934693402873666, 0.7768698398515702, 0.6321205588285577, 0.3934693402873666]\n",
            "Media de falhas:  [0, 3533058.5702400003, 7212000.637929339, 7816715.473946467, 44328176.92786987, 48930141.88233307, 50935300.7161641, 840855890.1918873, 861901504.284452, 872426763.3658144, 920008333.8790394, 978880740.9635049, 1021297967.5418687, 2450091681.677808, 2568420534.0796366, 2217707328.0115213]\n",
            "Custo =  208568748468.54517\n"
          ]
        },
        {
          "output_type": "stream",
          "name": "stderr",
          "text": [
            "pyswarms.single.global_best: 100%|██████████|1/1, best_cost=4.41e+10\n",
            "2023-10-02 01:29:11,054 - pyswarms.single.global_best - INFO - Optimization finished | best cost: 44078952820.113815, best pos: [2.27088639 4.62702453 0.3402083  3.30008391 1.97509829 1.5785663\n",
            " 6.21110136 3.56853134 2.59690042 3.45029512 3.17629077 4.80679804\n",
            " 0.29480699 5.44260694 2.38170371 3.67289427 3.5233076  5.28302704\n",
            " 6.99771873 5.81174555 2.75019999 3.17128804 2.26463371 1.67365686]\n",
            "2023-10-02 01:29:11,055 - pyswarms.single.global_best - INFO - Optimize for 1 iters with {'c1': 0.5, 'c2': 0.3, 'w': 0.9}\n"
          ]
        },
        {
          "output_type": "stream",
          "name": "stdout",
          "text": [
            "\n",
            "=========================================================================\n",
            "\n",
            "Número de ciclos de manutenção: 11 5\n",
            "Tempos para manutenções preventivas: [0, 99, 140, 230, 252, 409, 467, 497, 517, 594, 636, 703]\n",
            "Severidade para cada subsistema: [0.5, 0.25, 0.5, 0.25, 0.75, 0.5, 0.5, 0.75, 0.75, 0.5, 0.25]\n",
            "Número de Sisemas: 5\n",
            "Fator:  [0.3296799539643607, 0.6321205588285577, 0.3934693402873666, 0.6321205588285577, 0.3934693402873666, 0.7768698398515702, 0.6321205588285577, 0.6321205588285577, 0.7768698398515702, 0.7768698398515702, 0.6321205588285577, 0.3934693402873666]\n",
            "Media de falhas:  [0, 3043168.15968, 7195855.37306044, 25234216.907252185, 43487044.558917485, 351960301.1202207, 910861952.6348796, 920860436.4798632, 965347460.4078516, 1321501202.7654421, 1360247383.5946498, 1469166935.4917736, 1128157406.2256787]\n",
            "Custo =  103220521361.7662\n"
          ]
        },
        {
          "output_type": "stream",
          "name": "stderr",
          "text": [
            "pyswarms.single.global_best: 100%|██████████|1/1, best_cost=4.41e+10\n",
            "2023-10-02 01:29:11,068 - pyswarms.single.global_best - INFO - Optimization finished | best cost: 44078952820.113815, best pos: [2.27136015 4.62747996 0.34039078 3.24958869 1.97509476 1.54706955\n",
            " 6.20999763 3.56763126 2.59648115 4.79965594 3.17365037 4.80889776\n",
            " 0.2929978  5.43880567 2.37364272 3.67288303 3.51828388 5.28316024\n",
            " 4.42815948 5.8057529  2.82179241 3.1715201  2.26406357 1.67399519]\n",
            "2023-10-02 01:29:11,070 - pyswarms.single.global_best - INFO - Optimize for 1 iters with {'c1': 0.5, 'c2': 0.3, 'w': 0.9}\n"
          ]
        },
        {
          "output_type": "stream",
          "name": "stdout",
          "text": [
            "\n",
            "=========================================================================\n",
            "\n",
            "Número de ciclos de manutenção: 14 5\n",
            "Tempos para manutenções preventivas: [0, 80, 97, 141, 152, 190, 229, 253, 407, 467, 496, 516, 594, 636, 701]\n",
            "Severidade para cada subsistema: [0.5, 0.5, 0.25, 0.75, 0.25, 0.5, 0.25, 0.75, 0.5, 0.5, 0.75, 0.75, 0.5, 0.25]\n",
            "Número de Sisemas: 5\n",
            "Fator:  [0.3296799539643607, 0.6321205588285577, 0.6321205588285577, 0.3934693402873666, 0.7768698398515702, 0.3934693402873666, 0.6321205588285577, 0.3934693402873666, 0.7768698398515702, 0.6321205588285577, 0.6321205588285577, 0.7768698398515702, 0.7768698398515702, 0.6321205588285577, 0.3934693402873666]\n",
            "Media de falhas:  [0, 1048576.0, 1468957.2961931915, 2478491.0712522124, 2672669.0164059736, 12511110.646842133, 13610511.15341069, 33770894.44534772, 326168484.210978, 903455582.5691626, 912942760.3439778, 957092181.5218929, 1319192561.1363463, 1357938741.965554, 1460878611.4604752, 1126311177.459744]\n",
            "Custo =  102885508082.74754\n"
          ]
        },
        {
          "output_type": "stream",
          "name": "stderr",
          "text": [
            "pyswarms.single.global_best: 100%|██████████|1/1, best_cost=4.41e+10\n",
            "2023-10-02 01:29:11,081 - pyswarms.single.global_best - INFO - Optimization finished | best cost: 44078952820.113815, best pos: [2.27179024 4.62777493 0.34056324 3.20391439 1.97509182 1.52192401\n",
            " 6.20918819 3.56659581 2.59610252 6.012709   3.17187955 4.81079536\n",
            " 0.29096308 5.43418781 2.36587799 3.67287249 3.51340924 5.28327923\n",
            " 1.3618204  5.80029044 2.89405266 3.17172397 2.26373329 1.67429338]\n",
            "2023-10-02 01:29:11,082 - pyswarms.single.global_best - INFO - Optimize for 1 iters with {'c1': 0.5, 'c2': 0.3, 'w': 0.9}\n"
          ]
        },
        {
          "output_type": "stream",
          "name": "stdout",
          "text": [
            "\n",
            "=========================================================================\n",
            "\n",
            "Número de ciclos de manutenção: 12 5\n",
            "Tempos para manutenções preventivas: [0, 55, 94, 143, 229, 260, 404, 468, 495, 516, 594, 635, 702]\n",
            "Severidade para cada subsistema: [0.5, 0.5, 0.25, 0.5, 0.25, 0.75, 0.5, 0.5, 0.75, 0.75, 0.5, 0.25]\n",
            "Número de Sisemas: 5\n",
            "Fator:  [0.3296799539643607, 0.6321205588285577, 0.6321205588285577, 0.3934693402873666, 0.6321205588285577, 0.3934693402873666, 0.7768698398515702, 0.6321205588285577, 0.6321205588285577, 0.7768698398515702, 0.7768698398515702, 0.6321205588285577, 0.3934693402873666]\n",
            "Media de falhas:  [0, 161051.0, 943580.5100705071, 2232962.7664019186, 18474912.158366244, 47228768.020755395, 297611307.17434984, 916926286.10552, 925499769.4386036, 972009303.1898861, 1334109682.8043396, 1371387895.5474138, 1479773214.33777, 1141987314.0448296]\n",
            "Custo =  102377625281.69339\n"
          ]
        },
        {
          "output_type": "stream",
          "name": "stderr",
          "text": [
            "pyswarms.single.global_best: 100%|██████████|1/1, best_cost=4.41e+10\n",
            "2023-10-02 01:29:11,096 - pyswarms.single.global_best - INFO - Optimization finished | best cost: 44078952820.113815, best pos: [2.27213084e+00 4.62799727e+00 3.40718579e-01 3.17457749e+00\n",
            " 1.97508955e+00 1.50140882e+00 6.20846308e+00 3.56563565e+00\n",
            " 2.59579330e+00 4.92362380e-03 3.17094985e+00 4.81207901e+00\n",
            " 2.89064786e-01 5.42993606e+00 2.36010664e+00 3.67286338e+00\n",
            " 3.50917110e+00 5.28336146e+00 5.06672504e+00 5.79633122e+00\n",
            " 2.95669529e+00 3.17184077e+00 2.26373137e+00 1.67436498e+00]\n",
            "2023-10-02 01:29:11,098 - pyswarms.single.global_best - INFO - Optimize for 1 iters with {'c1': 0.5, 'c2': 0.3, 'w': 0.9}\n"
          ]
        },
        {
          "output_type": "stream",
          "name": "stdout",
          "text": [
            "\n",
            "=========================================================================\n",
            "\n",
            "Número de ciclos de manutenção: 14 5\n",
            "Tempos para manutenções preventivas: [0, 55, 76, 92, 144, 227, 297, 363, 402, 469, 495, 515, 593, 635, 704]\n",
            "Severidade para cada subsistema: [0.5, 0.25, 0.5, 0.25, 0.5, 0.5, 0.75, 0.75, 0.5, 0.5, 0.75, 0.75, 0.5, 0.25]\n",
            "Número de Sisemas: 5\n",
            "Fator:  [0.3296799539643607, 0.6321205588285577, 0.3934693402873666, 0.6321205588285577, 0.3934693402873666, 0.6321205588285577, 0.6321205588285577, 0.7768698398515702, 0.7768698398515702, 0.6321205588285577, 0.6321205588285577, 0.7768698398515702, 0.7768698398515702, 0.6321205588285577, 0.3934693402873666]\n",
            "Media de falhas:  [0, 161051.0, 346902.9618712658, 393962.81016002304, 4879493.025238598, 19620393.854342364, 127425303.33995017, 175356151.29975012, 210699435.52275112, 239073663.06243598, 247238037.58563244, 291051782.8777399, 650893231.2799824, 689418733.4577795, 803990782.1571274, 459752279.47155386]\n",
            "Custo =  67521552324.378334\n"
          ]
        },
        {
          "output_type": "stream",
          "name": "stderr",
          "text": [
            "pyswarms.single.global_best: 100%|██████████|1/1, best_cost=4.41e+10\n",
            "2023-10-02 01:29:11,109 - pyswarms.single.global_best - INFO - Optimization finished | best cost: 44078952820.113815, best pos: [2.27229808 4.62818595 0.34083733 3.16274149 1.9750879  1.49267356\n",
            " 6.20814714 3.56485    2.59556601 1.39809035 3.17121747 4.81247691\n",
            " 0.28749301 5.42633512 2.35551525 3.67285693 3.50591476 5.28341679\n",
            " 0.78839712 5.79416481 3.00228736 3.1719013  2.2637728  1.67440973]\n",
            "2023-10-02 01:29:11,111 - pyswarms.single.global_best - INFO - Optimize for 1 iters with {'c1': 0.5, 'c2': 0.3, 'w': 0.9}\n"
          ]
        },
        {
          "output_type": "stream",
          "name": "stdout",
          "text": [
            "\n",
            "=========================================================================\n",
            "\n",
            "Número de ciclos de manutenção: 16 5\n",
            "Tempos para manutenções preventivas: [0, 84, 92, 147, 176, 226, 295, 302, 382, 400, 470, 494, 515, 545, 593, 634, 706]\n",
            "Severidade para cada subsistema: [0.5, 0.5, 0.25, 0.5, 0.5, 0.5, 0.5, 0.5, 0.75, 0.5, 0.5, 0.75, 0.25, 0.75, 0.5, 0.25]\n",
            "Número de Sisemas: 5\n",
            "Fator:  [0.3296799539643607, 0.6321205588285577, 0.6321205588285577, 0.3934693402873666, 0.6321205588285577, 0.6321205588285577, 0.6321205588285577, 0.6321205588285577, 0.6321205588285577, 0.7768698398515702, 0.6321205588285577, 0.6321205588285577, 0.7768698398515702, 0.3934693402873666, 0.7768698398515702, 0.6321205588285577, 0.3934693402873666]\n",
            "Media de falhas:  [0, 1338278.2156800001, 1509076.5707848377, 3266249.76914384, 4384697.03242757, 30230482.136563532, 55043481.376173526, 56810805.44156612, 132949043.66929948, 147451501.03833944, 279886267.4543348, 287201570.2070806, 333357821.03601366, 418140963.43157536, 454542334.3067382, 1832850889.6512983, 1956554708.7647083, 1605841502.6965933]\n",
            "Custo =  198469344108.1691\n"
          ]
        },
        {
          "output_type": "stream",
          "name": "stderr",
          "text": [
            "pyswarms.single.global_best: 100%|██████████|1/1, best_cost=4.41e+10\n",
            "2023-10-02 01:29:11,122 - pyswarms.single.global_best - INFO - Optimization finished | best cost: 44078952820.113815, best pos: [2.27223405 4.6280087  0.34092549 3.17267114 1.97508884 1.49595537\n",
            " 6.20836212 3.56418497 2.59552649 3.4691689  3.17171728 4.81210076\n",
            " 0.28651392 5.42526919 2.3522216  3.67285204 3.50407435 5.28343043\n",
            " 3.45029634 5.79316004 3.03821965 3.17186794 2.2638294  1.67440248]\n",
            "2023-10-02 01:29:11,123 - pyswarms.single.global_best - INFO - Optimize for 1 iters with {'c1': 0.5, 'c2': 0.3, 'w': 0.9}\n"
          ]
        },
        {
          "output_type": "stream",
          "name": "stdout",
          "text": [
            "\n",
            "=========================================================================\n",
            "\n",
            "Número de ciclos de manutenção: 12 5\n",
            "Tempos para manutenções preventivas: [0, 80, 91, 149, 225, 306, 398, 471, 493, 515, 593, 634, 710]\n",
            "Severidade para cada subsistema: [0.75, 0.5, 0.25, 0.5, 0.5, 0.75, 0.5, 0.5, 0.75, 0.75, 0.5, 0.25]\n",
            "Número de Sisemas: 5\n",
            "Fator:  [0.3296799539643607, 0.7768698398515702, 0.6321205588285577, 0.3934693402873666, 0.6321205588285577, 0.6321205588285577, 0.7768698398515702, 0.6321205588285577, 0.6321205588285577, 0.7768698398515702, 0.7768698398515702, 0.6321205588285577, 0.3934693402873666]\n",
            "Media de falhas:  [0, 1048576.0, 1267389.013023735, 2208376.1706722938, 14308088.759148598, 154808094.14947075, 263672660.8055956, 404879227.852625, 411388342.6960856, 459903208.8684868, 819744657.2707293, 856809704.9725093, 994309673.318486, 630575014.6593201]\n",
            "Custo =  72780006983.62843\n"
          ]
        },
        {
          "output_type": "stream",
          "name": "stderr",
          "text": [
            "pyswarms.single.global_best: 100%|██████████|1/1, best_cost=4.41e+10\n",
            "2023-10-02 01:29:11,138 - pyswarms.single.global_best - INFO - Optimization finished | best cost: 44078952820.113815, best pos: [2.27204247 4.62776667 0.34094389 3.18707568 1.97508995 1.50551931\n",
            " 6.2088617  3.56365919 2.59552826 5.64261503 3.17276008 4.81137593\n",
            " 0.2862635  5.42611645 2.35248455 3.67285214 3.50262368 5.28340143\n",
            " 5.77123909 5.7934145  3.05714574 3.17182145 2.26423499 1.67422114]\n",
            "2023-10-02 01:29:11,139 - pyswarms.single.global_best - INFO - Optimize for 1 iters with {'c1': 0.5, 'c2': 0.3, 'w': 0.9}\n"
          ]
        },
        {
          "output_type": "stream",
          "name": "stdout",
          "text": [
            "\n",
            "=========================================================================\n",
            "\n",
            "Número de ciclos de manutenção: 13 5\n",
            "Tempos para manutenções preventivas: [0, 92, 156, 225, 243, 309, 397, 471, 493, 515, 544, 593, 634, 713]\n",
            "Severidade para cada subsistema: [0.5, 0.75, 0.5, 0.5, 0.5, 0.75, 0.5, 0.5, 0.75, 0.5, 0.75, 0.5, 0.25]\n",
            "Número de Sisemas: 5\n",
            "Fator:  [0.3296799539643607, 0.6321205588285577, 0.7768698398515702, 0.6321205588285577, 0.6321205588285577, 0.6321205588285577, 0.7768698398515702, 0.6321205588285577, 0.6321205588285577, 0.7768698398515702, 0.6321205588285577, 0.7768698398515702, 0.6321205588285577, 0.3934693402873666]\n",
            "Media de falhas:  [0, 2109060.8742400003, 11853573.191238513, 21974842.886293806, 22345072.789780997, 49513727.179938376, 150199553.86637682, 294033010.8440621, 300542125.68752265, 349056991.8599239, 430162512.2839878, 467679702.06152666, 683620490.0291297, 832155577.0262454, 458586201.1619863]\n",
            "Custo =  81433549762.28973\n"
          ]
        },
        {
          "output_type": "stream",
          "name": "stderr",
          "text": [
            "pyswarms.single.global_best: 100%|██████████|1/1, best_cost=4.41e+10\n",
            "2023-10-02 01:29:11,151 - pyswarms.single.global_best - INFO - Optimization finished | best cost: 44078952820.113815, best pos: [2.27176308 4.62754401 0.34087878 3.2122972  1.97509177 1.52833126\n",
            " 6.20971818 3.56395194 2.59560297 0.37935457 3.17422448 4.81028439\n",
            " 0.28619547 5.42726758 2.35449403 3.67285643 3.50332823 5.28330803\n",
            " 0.05162538 5.79416525 3.05392718 3.17173293 2.26475752 1.67386622]\n",
            "2023-10-02 01:29:11,152 - pyswarms.single.global_best - INFO - Optimize for 1 iters with {'c1': 0.5, 'c2': 0.3, 'w': 0.9}\n"
          ]
        },
        {
          "output_type": "stream",
          "name": "stdout",
          "text": [
            "\n",
            "=========================================================================\n",
            "\n",
            "Número de ciclos de manutenção: 14 5\n",
            "Tempos para manutenções preventivas: [0, 94, 194, 225, 250, 311, 383, 396, 471, 493, 515, 569, 593, 633, 715]\n",
            "Severidade para cada subsistema: [0.5, 0.75, 0.5, 0.5, 0.5, 0.25, 0.75, 0.5, 0.5, 0.75, 0.5, 0.75, 0.5, 0.25]\n",
            "Número de Sisemas: 5\n",
            "Fator:  [0.3296799539643607, 0.6321205588285577, 0.7768698398515702, 0.6321205588285577, 0.6321205588285577, 0.6321205588285577, 0.3934693402873666, 0.7768698398515702, 0.6321205588285577, 0.6321205588285577, 0.7768698398515702, 0.6321205588285577, 0.7768698398515702, 0.6321205588285577, 0.3934693402873666]\n",
            "Media de falhas:  [0, 2348492.8716800003, 38862407.619314745, 41867271.71184959, 42534985.56342451, 67232125.46063288, 132987155.86476514, 142843453.5416818, 882422122.789396, 888931237.6328566, 937446103.8052578, 1133031458.0274756, 1147563876.3892128, 1356343395.018766, 1515784928.0866356, 1135623764.1346984]\n",
            "Custo =  118597317058.0953\n"
          ]
        },
        {
          "output_type": "stream",
          "name": "stderr",
          "text": [
            "pyswarms.single.global_best: 100%|██████████|1/1, best_cost=4.41e+10\n",
            "2023-10-02 01:29:11,164 - pyswarms.single.global_best - INFO - Optimization finished | best cost: 44078952820.113815, best pos: [2.27141807 4.62726398 0.34076344 3.23703959 1.97509485 1.54950734\n",
            " 6.21051328 3.56458425 2.59579447 2.85928939 3.17563353 4.8090035\n",
            " 0.28703006 5.42864549 2.3587889  3.67286406 3.50721771 5.28321526\n",
            " 1.50101912 5.79775689 3.00727782 3.17158854 2.2652697  1.6735147 ]\n"
          ]
        },
        {
          "output_type": "stream",
          "name": "stdout",
          "text": [
            "\n",
            "=========================================================================\n",
            "\n",
            "Número de ciclos de manutenção: 13 5\n",
            "Tempos para manutenções preventivas: [0, 96, 185, 225, 252, 312, 385, 396, 471, 494, 516, 593, 633, 716]\n",
            "Severidade para cada subsistema: [0.5, 0.25, 0.5, 0.5, 0.5, 0.25, 0.75, 0.5, 0.5, 0.75, 0.75, 0.5, 0.25]\n",
            "Número de Sisemas: 5\n",
            "Fator:  [0.3296799539643607, 0.6321205588285577, 0.3934693402873666, 0.6321205588285577, 0.6321205588285577, 0.6321205588285577, 0.3934693402873666, 0.7768698398515702, 0.6321205588285577, 0.6321205588285577, 0.7768698398515702, 0.7768698398515702, 0.6321205588285577, 0.3934693402873666]\n",
            "Media de falhas:  [0, 2609192.6323200003, 29394158.024204258, 33641344.686828956, 55847939.74853045, 80228799.09384067, 148564104.8103131, 156835373.39195624, 896414042.6396705, 903347247.9294611, 952233088.6356881, 1306162256.4512236, 1341800169.644189, 1505251382.194911, 1121783210.7134748]\n",
            "Custo =  105992881709.72041\n"
          ]
        },
        {
          "output_type": "stream",
          "name": "stderr",
          "text": [
            "2023-10-02 01:29:11,165 - pyswarms.single.global_best - INFO - Optimize for 1 iters with {'c1': 0.5, 'c2': 0.3, 'w': 0.9}\n",
            "pyswarms.single.global_best: 100%|██████████|1/1, best_cost=4.41e+10\n",
            "2023-10-02 01:29:11,176 - pyswarms.single.global_best - INFO - Optimization finished | best cost: 44078952820.113815, best pos: [2.27109663 4.62696011 0.34065334 3.26247213 1.97509769 1.57127304\n",
            " 6.21126013 3.56569675 2.59610662 5.55906123 3.17695453 4.80784934\n",
            " 0.28790068 5.43059206 2.3653926  3.6728723  3.51087086 5.2831232\n",
            " 3.04650237 5.803067   2.95208587 3.17144965 2.26570967 1.67320607]\n",
            "2023-10-02 01:29:11,178 - pyswarms.single.global_best - INFO - Optimize for 1 iters with {'c1': 0.5, 'c2': 0.3, 'w': 0.9}\n"
          ]
        },
        {
          "output_type": "stream",
          "name": "stdout",
          "text": [
            "\n",
            "=========================================================================\n",
            "\n",
            "Número de ciclos de manutenção: 13 5\n",
            "Tempos para manutenções preventivas: [0, 30, 99, 167, 226, 252, 313, 397, 470, 495, 517, 594, 633, 716]\n",
            "Severidade para cada subsistema: [0.75, 0.5, 0.75, 0.5, 0.5, 0.5, 0.75, 0.5, 0.5, 0.75, 0.75, 0.5, 0.25]\n",
            "Número de Sisemas: 5\n",
            "Fator:  [0.3296799539643607, 0.7768698398515702, 0.6321205588285577, 0.7768698398515702, 0.6321205588285577, 0.6321205588285577, 0.6321205588285577, 0.7768698398515702, 0.6321205588285577, 0.6321205588285577, 0.7768698398515702, 0.7768698398515702, 0.6321205588285577, 0.3934693402873666]\n",
            "Media de falhas:  [0, 7776.000000000001, 1804652.4068580342, 3701992.0022092, 11530214.738406103, 12260308.31902927, 37522679.2231224, 131278319.04819958, 271394339.8450004, 279157854.1549219, 328416795.1644775, 684570537.522068, 719012585.654785, 882463798.2055073, 498995626.7240711]\n",
            "Custo =  67991107788.756905\n"
          ]
        },
        {
          "output_type": "stream",
          "name": "stderr",
          "text": [
            "pyswarms.single.global_best: 100%|██████████|1/1, best_cost=4.41e+10\n",
            "2023-10-02 01:29:11,190 - pyswarms.single.global_best - INFO - Optimization finished | best cost: 44078952820.113815, best pos: [2.27084045 4.62669032 0.34055088 3.28457304 1.97510023 1.5894709\n",
            " 6.21187071 3.56681742 2.5963893  0.86640347 3.17795452 4.80706917\n",
            " 0.28916947 5.43294026 2.37219698 3.67288108 3.5145818  5.28304655\n",
            " 4.42946049 5.80835599 2.88409352 3.17132061 2.26610288 1.67301518]\n",
            "2023-10-02 01:29:11,191 - pyswarms.single.global_best - INFO - Optimize for 1 iters with {'c1': 0.5, 'c2': 0.3, 'w': 0.9}\n"
          ]
        },
        {
          "output_type": "stream",
          "name": "stdout",
          "text": [
            "\n",
            "=========================================================================\n",
            "\n",
            "Número de ciclos de manutenção: 15 5\n",
            "Tempos para manutenções preventivas: [0, 33, 101, 187, 226, 249, 275, 312, 386, 399, 469, 495, 519, 594, 634, 715]\n",
            "Severidade para cada subsistema: [0.75, 0.5, 0.25, 0.5, 0.5, 0.75, 0.5, 0.5, 0.75, 0.5, 0.5, 0.75, 0.75, 0.5, 0.25]\n",
            "Número de Sisemas: 5\n",
            "Fator:  [0.3296799539643607, 0.7768698398515702, 0.6321205588285577, 0.3934693402873666, 0.6321205588285577, 0.6321205588285577, 0.7768698398515702, 0.6321205588285577, 0.6321205588285577, 0.7768698398515702, 0.6321205588285577, 0.6321205588285577, 0.7768698398515702, 0.7768698398515702, 0.6321205588285577, 0.3934693402873666]\n",
            "Media de falhas:  [0, 12523.325760000002, 1913086.496844536, 6730948.054908105, 10894965.385314036, 29042494.404224794, 34176850.21389991, 46898479.47673144, 65926419.52919276, 76080661.70621532, 207485647.64471874, 215650022.1679152, 270571825.54540557, 614960382.0409148, 650804075.5194281, 807037276.5003704, 426876112.5484332]\n",
            "Custo =  71047231712.28174\n"
          ]
        },
        {
          "output_type": "stream",
          "name": "stderr",
          "text": [
            "pyswarms.single.global_best: 100%|██████████|1/1, best_cost=4.41e+10\n",
            "2023-10-02 01:29:11,205 - pyswarms.single.global_best - INFO - Optimization finished | best cost: 44078952820.113815, best pos: [2.27066977 4.62645419 0.34045954 3.29402255 1.97510189 1.60481559\n",
            " 6.21209201 3.5677553  2.59664699 3.62053683 3.17857437 4.80664557\n",
            " 0.29034425 5.43508544 2.37831167 3.67288889 3.51785056 5.2830001\n",
            " 5.29819532 5.81242852 2.82247204 3.17121777 2.26619789 1.6729307 ]\n",
            "2023-10-02 01:29:11,207 - pyswarms.single.global_best - INFO - Optimize for 1 iters with {'c1': 0.5, 'c2': 0.3, 'w': 0.9}\n"
          ]
        },
        {
          "output_type": "stream",
          "name": "stdout",
          "text": [
            "\n",
            "=========================================================================\n",
            "\n",
            "Número de ciclos de manutenção: 16 5\n",
            "Tempos para manutenções preventivas: [0, 36, 87, 102, 227, 244, 279, 311, 375, 402, 469, 496, 520, 557, 594, 634, 713]\n",
            "Severidade para cada subsistema: [0.75, 0.75, 0.5, 0.5, 0.5, 0.75, 0.5, 0.75, 0.75, 0.5, 0.5, 0.75, 0.5, 0.75, 0.5, 0.25]\n",
            "Número de Sisemas: 5\n",
            "Fator:  [0.3296799539643607, 0.7768698398515702, 0.7768698398515702, 0.6321205588285577, 0.6321205588285577, 0.6321205588285577, 0.7768698398515702, 0.6321205588285577, 0.7768698398515702, 0.7768698398515702, 0.6321205588285577, 0.6321205588285577, 0.7768698398515702, 0.6321205588285577, 0.7768698398515702, 0.6321205588285577, 0.3934693402873666]\n",
            "Media de falhas:  [0, 19349.176320000002, 782787.2271767431, 797347.6715853044, 23333828.53199128, 25316450.44356988, 33124910.176302046, 43637647.09801197, 56637938.814668715, 79730282.14979514, 108104509.68947999, 116742231.50047565, 172080006.44693065, 288553876.8490713, 313986989.5063347, 524050506.8689129, 672585593.8660284, 299016218.00176936]\n",
            "Custo =  76982388482.89926\n"
          ]
        },
        {
          "output_type": "stream",
          "name": "stderr",
          "text": [
            "pyswarms.single.global_best: 100%|██████████|1/1, best_cost=4.41e+10\n",
            "2023-10-02 01:29:11,222 - pyswarms.single.global_best - INFO - Optimization finished | best cost: 44078952820.113815, best pos: [2.2705634  4.62629703 0.34038792 3.29576034 1.97510245 1.61761873\n",
            " 6.21214203 3.56822835 2.59682858 6.44925725 3.17887595 4.80641299\n",
            " 0.29137997 5.43681672 2.38308087 3.67289479 3.52016713 5.28296209\n",
            " 5.32659027 5.81465139 2.77581636 3.17112758 2.26594935 1.67288523]\n",
            "2023-10-02 01:29:11,224 - pyswarms.single.global_best - INFO - Optimize for 1 iters with {'c1': 0.5, 'c2': 0.3, 'w': 0.9}\n"
          ]
        },
        {
          "output_type": "stream",
          "name": "stdout",
          "text": [
            "\n",
            "=========================================================================\n",
            "\n",
            "Número de ciclos de manutenção: 14 5\n",
            "Tempos para manutenções preventivas: [0, 34, 102, 152, 184, 227, 278, 309, 405, 468, 496, 520, 594, 634, 710]\n",
            "Severidade para cada subsistema: [0.75, 0.5, 0.75, 0.25, 0.5, 0.75, 0.5, 0.75, 0.5, 0.5, 0.75, 0.75, 0.5, 0.25]\n",
            "Número de Sisemas: 5\n",
            "Fator:  [0.3296799539643607, 0.7768698398515702, 0.6321205588285577, 0.7768698398515702, 0.3934693402873666, 0.6321205588285577, 0.7768698398515702, 0.6321205588285577, 0.7768698398515702, 0.6321205588285577, 0.6321205588285577, 0.7768698398515702, 0.7768698398515702, 0.6321205588285577, 0.3934693402873666]\n",
            "Media de falhas:  [0, 14539.335680000002, 1986635.2641834307, 2637198.1878229217, 4143113.333063153, 5448526.756486218, 66142016.726322725, 76014886.39084634, 114589147.15674855, 228101154.02337712, 237159300.22753444, 292497075.1739894, 631066324.4674273, 666910017.9459406, 804409986.2919173, 440675327.6327514]\n",
            "Custo =  68193949989.09567\n"
          ]
        },
        {
          "output_type": "stream",
          "name": "stderr",
          "text": [
            "pyswarms.single.global_best:   0%|          |0/1, best_cost=4.41e+10"
          ]
        },
        {
          "output_type": "stream",
          "name": "stdout",
          "text": [
            "\n",
            "=========================================================================\n",
            "\n",
            "Número de ciclos de manutenção: 13 5\n",
            "Tempos para manutenções preventivas: [0, 102, 149, 228, 277, 307, 375, 407, 468, 497, 521, 594, 635, 708]\n",
            "Severidade para cada subsistema: [0.5, 0.25, 0.5, 0.75, 0.5, 0.25, 0.75, 0.5, 0.5, 0.75, 0.75, 0.5, 0.25]\n",
            "Número de Sisemas: 5\n",
            "Fator:  [0.3296799539643607, 0.6321205588285577, 0.3934693402873666, 0.6321205588285577, 0.7768698398515702, 0.6321205588285577, 0.3934693402873666, 0.7768698398515702, 0.6321205588285577, 0.6321205588285577, 0.7768698398515702, 0.7768698398515702, 0.6321205588285577, 0.3934693402873666]\n",
            "Media de falhas:  [0, 3533058.5702400003, 9596213.369349904, 23167481.07472405, 80724774.66164625, 89985197.13448454, 104667060.00875157, 134052636.9000391, 725618815.8877623, 735176487.791424, 790932595.7192546, 1123724225.061668, 1161002437.804742, 1288673116.5939379, 931461667.4000897]\n",
            "Custo =  103311805816.10326\n"
          ]
        },
        {
          "output_type": "stream",
          "name": "stderr",
          "text": [
            "\rpyswarms.single.global_best: 100%|██████████|1/1, best_cost=4.41e+10\n",
            "2023-10-02 01:29:11,242 - pyswarms.single.global_best - INFO - Optimization finished | best cost: 44078952820.113815, best pos: [2.27061663 4.62627484 0.34033552 3.2833615  1.97510281 1.6119433\n",
            " 6.21212461 3.56862642 2.59690847 1.8703639  3.17905167 4.80692466\n",
            " 0.2921617  5.43773451 2.38726189 3.67289638 3.52149292 5.28296717\n",
            " 4.69777454 5.81632003 2.73540072 3.17110583 2.26547405 1.6729297 ]\n",
            "2023-10-02 01:29:11,243 - pyswarms.single.global_best - INFO - Optimize for 1 iters with {'c1': 0.5, 'c2': 0.3, 'w': 0.9}\n",
            "pyswarms.single.global_best: 100%|██████████|1/1, best_cost=4.41e+10\n",
            "2023-10-02 01:29:11,255 - pyswarms.single.global_best - INFO - Optimization finished | best cost: 44078952820.113815, best pos: [2.27080012 4.62634785 0.3402929  3.26869775 1.97510233 1.59554284\n",
            " 6.21189134 3.56839285 2.59690027 4.18501709 3.17876977 4.80780822\n",
            " 0.29254858 5.43847389 2.38682928 3.67289402 3.52239282 5.28302242\n",
            " 3.64251395 5.81449652 2.74208433 3.17113652 2.26495331 1.67312713]\n",
            "2023-10-02 01:29:11,256 - pyswarms.single.global_best - INFO - Optimize for 1 iters with {'c1': 0.5, 'c2': 0.3, 'w': 0.9}\n"
          ]
        },
        {
          "output_type": "stream",
          "name": "stdout",
          "text": [
            "\n",
            "=========================================================================\n",
            "\n",
            "Número de ciclos de manutenção: 14 5\n",
            "Tempos para manutenções preventivas: [0, 102, 147, 228, 272, 305, 379, 408, 469, 496, 521, 563, 594, 635, 706]\n",
            "Severidade para cada subsistema: [0.5, 0.25, 0.5, 0.75, 0.5, 0.5, 0.75, 0.5, 0.5, 0.75, 0.25, 0.75, 0.5, 0.25]\n",
            "Número de Sisemas: 5\n",
            "Fator:  [0.3296799539643607, 0.6321205588285577, 0.3934693402873666, 0.6321205588285577, 0.7768698398515702, 0.6321205588285577, 0.6321205588285577, 0.7768698398515702, 0.6321205588285577, 0.6321205588285577, 0.7768698398515702, 0.3934693402873666, 0.7768698398515702, 0.6321205588285577, 0.3934693402873666]\n",
            "Media de falhas:  [0, 3533058.5702400003, 9048560.927314494, 23291115.396556325, 71516869.20788154, 81655472.43862498, 99699259.13813263, 126209654.98556036, 235966421.05001935, 244604142.861015, 302877806.3636617, 443014225.334332, 463162142.12040216, 1850262085.1450675, 1971260292.7690737, 1620547086.7009587]\n",
            "Custo =  200701938831.2844\n"
          ]
        },
        {
          "output_type": "stream",
          "name": "stderr",
          "text": [
            "pyswarms.single.global_best:   0%|          |0/1, best_cost=4.41e+10"
          ]
        },
        {
          "output_type": "stream",
          "name": "stdout",
          "text": [
            "\n",
            "=========================================================================\n",
            "\n",
            "Número de ciclos de manutenção: 14 5\n",
            "Tempos para manutenções preventivas: [0, 102, 147, 170, 228, 303, 380, 409, 469, 496, 521, 555, 594, 635, 704]\n",
            "Severidade para cada subsistema: [0.5, 0.25, 0.75, 0.5, 0.5, 0.75, 0.75, 0.5, 0.5, 0.75, 0.25, 0.75, 0.5, 0.25]\n",
            "Número de Sisemas: 5\n",
            "Fator:  [0.3296799539643607, 0.6321205588285577, 0.3934693402873666, 0.7768698398515702, 0.6321205588285577, 0.6321205588285577, 0.7768698398515702, 0.7768698398515702, 0.6321205588285577, 0.6321205588285577, 0.7768698398515702, 0.3934693402873666, 0.7768698398515702, 0.6321205588285577, 0.3934693402873666]\n",
            "Media de falhas:  [0, 3533058.5702400003, 9048560.927314494, 9771142.684310056, 40776417.82932255, 50779079.398864955, 121363160.12128145, 148125675.4452876, 171438143.74225527, 180075865.5532509, 238349529.05589762, 342852810.32565856, 370169909.27492905, 1757269852.2995944, 1871841900.9989424, 1527603398.3133688]\n",
            "Custo =  193246838726.11362\n"
          ]
        },
        {
          "output_type": "stream",
          "name": "stderr",
          "text": [
            "\rpyswarms.single.global_best: 100%|██████████|1/1, best_cost=4.41e+10\n",
            "2023-10-02 01:29:11,269 - pyswarms.single.global_best - INFO - Optimization finished | best cost: 44078952820.113815, best pos: [2.27108613 4.62645685 0.34027069 3.25029226 1.97510172 1.58052678\n",
            " 6.21155129 3.5681445  2.59686011 6.29382123 3.17790031 4.80889426\n",
            " 0.29252167 5.4388166  2.38269951 3.67288966 3.5210948  5.28309622\n",
            " 2.46855607 5.81242358 2.78241997 3.17117101 2.26451508 1.67341458]\n",
            "2023-10-02 01:29:11,270 - pyswarms.single.global_best - INFO - Optimize for 1 iters with {'c1': 0.5, 'c2': 0.3, 'w': 0.9}\n",
            "pyswarms.single.global_best: 100%|██████████|1/1, best_cost=4.41e+10\n",
            "2023-10-02 01:29:11,281 - pyswarms.single.global_best - INFO - Optimization finished | best cost: 44078952820.113815, best pos: [2.27141205 4.62662979 0.34026957 3.23298418 1.97510087 1.56499246\n",
            " 6.21110468 3.5675716  2.5968157  1.05811793 3.1766812  4.80989997\n",
            " 0.29246028 5.43872189 2.37837231 3.6728839  3.51847988 5.283174\n",
            " 1.45391604 5.80938846 2.84334089 3.17125013 2.26413787 1.67370194]\n"
          ]
        },
        {
          "output_type": "stream",
          "name": "stdout",
          "text": [
            "\n",
            "=========================================================================\n",
            "\n",
            "Número de ciclos de manutenção: 15 5\n",
            "Tempos para manutenções preventivas: [0, 85, 101, 146, 200, 227, 267, 301, 409, 470, 495, 520, 550, 594, 635, 703]\n",
            "Severidade para cada subsistema: [0.25, 0.5, 0.25, 0.75, 0.5, 0.25, 0.5, 0.75, 0.5, 0.5, 0.75, 0.25, 0.75, 0.5, 0.25]\n",
            "Número de Sisemas: 5\n",
            "Fator:  [0.3296799539643607, 0.3934693402873666, 0.6321205588285577, 0.3934693402873666, 0.7768698398515702, 0.6321205588285577, 0.3934693402873666, 0.6321205588285577, 0.7768698398515702, 0.6321205588285577, 0.6321205588285577, 0.7768698398515702, 0.3934693402873666, 0.7768698398515702, 0.6321205588285577, 0.3934693402873666]\n",
            "Media de falhas:  [0, 1419857.0, 1890048.017175899, 5948993.992290905, 10445106.20884745, 24998208.51365517, 26850385.73067361, 36857629.907083444, 634741257.6309932, 745370688.0905192, 753134202.4004407, 810971076.2466704, 898829998.1560782, 931142631.3584778, 2318242574.3831434, 2429691754.6316876, 2088682225.3655927]\n",
            "Custo =  214068833382.50198\n"
          ]
        },
        {
          "output_type": "stream",
          "name": "stderr",
          "text": [
            "2023-10-02 01:29:11,282 - pyswarms.single.global_best - INFO - Optimize for 1 iters with {'c1': 0.5, 'c2': 0.3, 'w': 0.9}\n",
            "pyswarms.single.global_best: 100%|██████████|1/1, best_cost=4.41e+10\n",
            "2023-10-02 01:29:11,294 - pyswarms.single.global_best - INFO - Optimization finished | best cost: 44078952820.113815, best pos: [2.27170235 4.62682958 0.34034941 3.22025329 1.97509975 1.55003536\n",
            " 6.21061498 3.56696222 2.5967198  3.69698508 3.17557251 4.81060684\n",
            " 0.29206734 5.43824484 2.37396324 3.672878   3.51544821 5.28323823\n",
            " 0.60745355 5.80577179 2.90532047 3.17132254 2.26394584 1.67395287]\n",
            "2023-10-02 01:29:11,296 - pyswarms.single.global_best - INFO - Optimize for 1 iters with {'c1': 0.5, 'c2': 0.3, 'w': 0.9}\n"
          ]
        },
        {
          "output_type": "stream",
          "name": "stdout",
          "text": [
            "\n",
            "=========================================================================\n",
            "\n",
            "Número de ciclos de manutenção: 15 5\n",
            "Tempos para manutenções preventivas: [0, 86, 99, 146, 187, 227, 263, 300, 407, 470, 494, 520, 552, 594, 635, 703]\n",
            "Severidade para cada subsistema: [0.5, 0.5, 0.25, 0.25, 0.5, 0.25, 0.5, 0.75, 0.5, 0.5, 0.75, 0.25, 0.75, 0.5, 0.25]\n",
            "Número de Sisemas: 5\n",
            "Fator:  [0.3296799539643607, 0.6321205588285577, 0.6321205588285577, 0.3934693402873666, 0.3934693402873666, 0.6321205588285577, 0.3934693402873666, 0.6321205588285577, 0.7768698398515702, 0.6321205588285577, 0.6321205588285577, 0.7768698398515702, 0.3934693402873666, 0.7768698398515702, 0.6321205588285577, 0.3934693402873666]\n",
            "Media de falhas:  [0, 1505366.45632, 1864801.0275299507, 3137010.7301805057, 5432563.119972447, 26626586.17111869, 61368609.60957321, 72353537.27890776, 653187018.3344209, 768507268.6163841, 775822571.3691299, 836176029.4430608, 931849508.6514353, 962113746.596477, 2349213689.6211424, 2460662869.8696866, 2119653340.6035917]\n",
            "Custo =  217186956611.68552\n"
          ]
        },
        {
          "output_type": "stream",
          "name": "stderr",
          "text": [
            "pyswarms.single.global_best: 100%|██████████|1/1, best_cost=4.41e+10\n",
            "2023-10-02 01:29:11,308 - pyswarms.single.global_best - INFO - Optimization finished | best cost: 44078952820.113815, best pos: [2.2719474  4.6270433  0.34042431 3.21313729 1.97509813 1.5385367\n",
            " 6.21017787 3.56631131 2.59663205 6.3036485  3.17468027 4.81096063\n",
            " 0.29162675 5.43692683 2.369714   3.67287334 3.51249952 5.28327444\n",
            " 0.12017401 5.8022768  2.9562847  3.17138849 2.26409487 1.67406171]\n",
            "2023-10-02 01:29:11,310 - pyswarms.single.global_best - INFO - Optimize for 1 iters with {'c1': 0.5, 'c2': 0.3, 'w': 0.9}\n"
          ]
        },
        {
          "output_type": "stream",
          "name": "stdout",
          "text": [
            "\n",
            "=========================================================================\n",
            "\n",
            "Número de ciclos de manutenção: 15 5\n",
            "Tempos para manutenções preventivas: [0, 89, 97, 146, 227, 261, 300, 378, 406, 470, 494, 520, 555, 594, 635, 703]\n",
            "Severidade para cada subsistema: [0.75, 0.5, 0.25, 0.5, 0.25, 0.5, 0.75, 0.75, 0.5, 0.5, 0.75, 0.25, 0.75, 0.5, 0.25]\n",
            "Número de Sisemas: 5\n",
            "Fator:  [0.3296799539643607, 0.7768698398515702, 0.6321205588285577, 0.3934693402873666, 0.6321205588285577, 0.3934693402873666, 0.6321205588285577, 0.7768698398515702, 0.7768698398515702, 0.6321205588285577, 0.6321205588285577, 0.7768698398515702, 0.3934693402873666, 0.7768698398515702, 0.6321205588285577, 0.3934693402873666]\n",
            "Media de falhas:  [0, 1786899.02368, 1998760.718345609, 2560249.274225413, 16612874.174877658, 48509309.67674115, 60255565.430715136, 376332066.93396753, 401330908.22552913, 427631773.3625737, 434947076.1153195, 495300534.18925035, 603232711.3647426, 630549810.3140131, 2017649753.3386784, 2129098933.5872223, 1788089404.3211274]\n",
            "Custo =  208074391188.869\n"
          ]
        },
        {
          "output_type": "stream",
          "name": "stderr",
          "text": [
            "pyswarms.single.global_best: 100%|██████████|1/1, best_cost=4.41e+10\n",
            "2023-10-02 01:29:11,322 - pyswarms.single.global_best - INFO - Optimization finished | best cost: 44078952820.113815, best pos: [2.27203786 4.62723334 0.34050324 3.21302131 1.97509653 1.53332952\n",
            " 6.2099053  3.56573317 2.59653692 1.54027442 3.1742144  4.81123991\n",
            " 0.29105847 5.4350003  2.36595564 3.67287087 3.51018168 5.28327188\n",
            " 0.18417748 5.79982976 2.98075186 3.17144712 2.26432207 1.67405051]\n",
            "2023-10-02 01:29:11,324 - pyswarms.single.global_best - INFO - Optimize for 1 iters with {'c1': 0.5, 'c2': 0.3, 'w': 0.9}\n"
          ]
        },
        {
          "output_type": "stream",
          "name": "stdout",
          "text": [
            "\n",
            "=========================================================================\n",
            "\n",
            "Número de ciclos de manutenção: 13 5\n",
            "Tempos para manutenções preventivas: [0, 95, 146, 227, 266, 300, 404, 471, 494, 519, 566, 594, 635, 705]\n",
            "Severidade para cada subsistema: [0.5, 0.25, 0.5, 0.25, 0.5, 0.75, 0.5, 0.5, 0.75, 0.25, 0.75, 0.5, 0.25]\n",
            "Número de Sisemas: 5\n",
            "Fator:  [0.3296799539643607, 0.6321205588285577, 0.3934693402873666, 0.6321205588285577, 0.3934693402873666, 0.6321205588285577, 0.7768698398515702, 0.6321205588285577, 0.6321205588285577, 0.7768698398515702, 0.3934693402873666, 0.7768698398515702, 0.6321205588285577, 0.3934693402873666]\n",
            "Media de falhas:  [0, 2476099.0, 8488398.20278606, 22541023.103438303, 61804388.919206254, 71687097.8012102, 619743539.2952429, 745690141.6017951, 752623346.8915857, 810025894.4904991, 972834231.7877294, 990534457.5767903, 2377634400.6014557, 2495389172.9829226, 2147916171.4383745]\n",
            "Custo =  217125295134.193\n"
          ]
        },
        {
          "output_type": "stream",
          "name": "stderr",
          "text": [
            "pyswarms.single.global_best: 100%|██████████|1/1, best_cost=4.41e+10\n",
            "2023-10-02 01:29:11,338 - pyswarms.single.global_best - INFO - Optimization finished | best cost: 44078952820.113815, best pos: [2.27193166 4.62736552 0.34057879 3.21715876 1.97509531 1.53588504\n",
            " 6.20989011 3.56524564 2.59645056 3.86281623 3.17392089 4.81124067\n",
            " 0.29054595 5.43292619 2.36270066 3.67287013 3.50890346 5.28325499\n",
            " 0.80736024 5.79851268 2.99280269 3.17149779 2.26460914 1.67399172]\n",
            "2023-10-02 01:29:11,340 - pyswarms.single.global_best - INFO - Optimize for 1 iters with {'c1': 0.5, 'c2': 0.3, 'w': 0.9}\n"
          ]
        },
        {
          "output_type": "stream",
          "name": "stdout",
          "text": [
            "\n",
            "=========================================================================\n",
            "\n",
            "Número de ciclos de manutenção: 12 5\n",
            "Tempos para manutenções preventivas: [0, 82, 93, 146, 227, 302, 402, 471, 494, 518, 593, 635, 706]\n",
            "Severidade para cada subsistema: [0.25, 0.5, 0.25, 0.5, 0.5, 0.75, 0.5, 0.5, 0.75, 0.75, 0.5, 0.25]\n",
            "Número de Sisemas: 5\n",
            "Fator:  [0.3296799539643607, 0.3934693402873666, 0.6321205588285577, 0.3934693402873666, 0.6321205588285577, 0.6321205588285577, 0.7768698398515702, 0.6321205588285577, 0.6321205588285577, 0.7768698398515702, 0.7768698398515702, 0.6321205588285577, 0.3934693402873666]\n",
            "Media de falhas:  [0, 1186367.49824, 1425532.7642017505, 6259083.341487458, 20311708.242139705, 143733658.28253865, 272466084.60264134, 403405516.41772974, 410338721.7075203, 464846906.01396424, 807079102.282805, 845604604.460602, 966602812.0846082, 615889606.0164931]\n",
            "Custo =  72789300727.1787\n"
          ]
        },
        {
          "output_type": "stream",
          "name": "stderr",
          "text": [
            "pyswarms.single.global_best: 100%|██████████|1/1, best_cost=4.41e+10\n",
            "2023-10-02 01:29:11,351 - pyswarms.single.global_best - INFO - Optimization finished | best cost: 44078952820.113815, best pos: [2.27169394 4.62747001 0.3406444  3.22109593 1.97509478 1.54199794\n",
            " 6.20990988 3.56490625 2.59637482 6.11085005 3.17424652 4.8112101\n",
            " 0.29002582 5.43125631 2.36198816 3.67287111 3.50821913 5.28321356\n",
            " 1.59344622 5.79747062 2.97690772 3.17152124 2.26498463 1.67386145]\n",
            "2023-10-02 01:29:11,352 - pyswarms.single.global_best - INFO - Optimize for 1 iters with {'c1': 0.5, 'c2': 0.3, 'w': 0.9}\n"
          ]
        },
        {
          "output_type": "stream",
          "name": "stdout",
          "text": [
            "\n",
            "=========================================================================\n",
            "\n",
            "Número de ciclos de manutenção: 14 5\n",
            "Tempos para manutenções preventivas: [0, 86, 93, 147, 153, 226, 304, 360, 400, 470, 494, 518, 593, 635, 708]\n",
            "Severidade para cada subsistema: [0.5, 0.5, 0.25, 0.75, 0.5, 0.5, 0.75, 0.75, 0.5, 0.5, 0.75, 0.75, 0.5, 0.25]\n",
            "Número de Sisemas: 5\n",
            "Fator:  [0.3296799539643607, 0.6321205588285577, 0.6321205588285577, 0.3934693402873666, 0.7768698398515702, 0.6321205588285577, 0.6321205588285577, 0.7768698398515702, 0.7768698398515702, 0.6321205588285577, 0.6321205588285577, 0.7768698398515702, 0.7768698398515702, 0.6321205588285577, 0.3934693402873666]\n",
            "Media de falhas:  [0, 1505366.45632, 1662971.7834668097, 3357230.138730436, 3459688.6878658677, 41349813.002724774, 52425385.35089895, 89442682.24688503, 125191535.31616914, 156156650.85455942, 163471953.60730523, 217980137.91374916, 560212334.1825899, 598737836.360387, 726408515.1495829, 369197065.9557347]\n",
            "Custo =  63437551255.974335\n"
          ]
        },
        {
          "output_type": "stream",
          "name": "stderr",
          "text": [
            "pyswarms.single.global_best:   0%|          |0/1, best_cost=4.41e+10"
          ]
        },
        {
          "output_type": "stream",
          "name": "stdout",
          "text": [
            "\n",
            "=========================================================================\n",
            "\n",
            "Número de ciclos de manutenção: 12 5\n",
            "Tempos para manutenções preventivas: [0, 92, 148, 226, 306, 399, 470, 494, 517, 547, 594, 635, 710]\n",
            "Severidade para cada subsistema: [0.5, 0.25, 0.5, 0.5, 0.75, 0.5, 0.5, 0.75, 0.5, 0.75, 0.5, 0.25]\n",
            "Número de Sisemas: 5\n",
            "Fator:  [0.3296799539643607, 0.6321205588285577, 0.3934693402873666, 0.6321205588285577, 0.6321205588285577, 0.7768698398515702, 0.6321205588285577, 0.6321205588285577, 0.7768698398515702, 0.6321205588285577, 0.7768698398515702, 0.6321205588285577, 0.3934693402873666]\n",
            "Media de falhas:  [0, 2109060.8742400003, 9042488.365685262, 21931462.427816346, 160688881.18553478, 272383165.24809575, 407354589.7678944, 414669892.5206402, 466339444.1014006, 552343022.4388925, 587858725.0411705, 805124340.2609011, 939720816.3559759, 575986157.69681]\n",
            "Custo =  86890689614.94487\n"
          ]
        },
        {
          "output_type": "stream",
          "name": "stderr",
          "text": [
            "\rpyswarms.single.global_best: 100%|██████████|1/1, best_cost=4.41e+10\n",
            "2023-10-02 01:29:11,366 - pyswarms.single.global_best - INFO - Optimization finished | best cost: 44078952820.113815, best pos: [2.27139609 4.6274697  0.34068688 3.22870351 1.97509467 1.54846918\n",
            " 6.20998093 3.56493296 2.59631278 0.76162171 3.17479375 4.81060686\n",
            " 0.28956302 5.43006153 2.36331402 3.67287396 3.50842952 5.2831649\n",
            " 2.30991232 5.79697263 2.95943496 3.17150867 2.26532554 1.67372728]\n",
            "2023-10-02 01:29:11,367 - pyswarms.single.global_best - INFO - Optimize for 1 iters with {'c1': 0.5, 'c2': 0.3, 'w': 0.9}\n",
            "pyswarms.single.global_best:   0%|          |0/1, best_cost=4.41e+10"
          ]
        },
        {
          "output_type": "stream",
          "name": "stdout",
          "text": [
            "\n",
            "=========================================================================\n",
            "\n",
            "Número de ciclos de manutenção: 13 5\n",
            "Tempos para manutenções preventivas: [0, 93, 200, 226, 307, 370, 399, 470, 494, 517, 556, 594, 634, 712]\n",
            "Severidade para cada subsistema: [0.5, 0.25, 0.5, 0.5, 0.5, 0.75, 0.5, 0.5, 0.75, 0.5, 0.75, 0.5, 0.25]\n",
            "Número de Sisemas: 5\n",
            "Fator:  [0.3296799539643607, 0.6321205588285577, 0.3934693402873666, 0.6321205588285577, 0.6321205588285577, 0.6321205588285577, 0.7768698398515702, 0.6321205588285577, 0.6321205588285577, 0.7768698398515702, 0.6321205588285577, 0.7768698398515702, 0.6321205588285577, 0.3934693402873666]\n",
            "Media de falhas:  [0, 2226202.78176, 46484872.895488776, 48927622.390837975, 191270691.65502226, 239336945.3640976, 263657828.14272496, 398629252.6625236, 405944555.41526943, 457614106.99602985, 580352183.3479474, 606719373.16428, 816782890.5268582, 961572259.9897628, 591288010.9538941]\n",
            "Custo =  90390956934.21352\n"
          ]
        },
        {
          "output_type": "stream",
          "name": "stderr",
          "text": [
            "\rpyswarms.single.global_best: 100%|██████████|1/1, best_cost=4.41e+10\n",
            "2023-10-02 01:29:11,380 - pyswarms.single.global_best - INFO - Optimization finished | best cost: 44078952820.113815, best pos: [2.2711232  4.62739943 0.34072499 3.24055274 1.97509465 1.55562399\n",
            " 6.21018286 3.56509013 2.59627974 3.44171447 3.17562966 4.80966597\n",
            " 0.28927292 5.42906738 2.3650964  3.6728766  3.51016114 5.28311822\n",
            " 2.97874823 5.79694852 2.94267503 3.17149568 2.26559447 1.67357032]\n",
            "2023-10-02 01:29:11,381 - pyswarms.single.global_best - INFO - Optimize for 1 iters with {'c1': 0.5, 'c2': 0.3, 'w': 0.9}\n",
            "pyswarms.single.global_best: 100%|██████████|1/1, best_cost=4.41e+10\n",
            "2023-10-02 01:29:11,393 - pyswarms.single.global_best - INFO - Optimization finished | best cost: 44078952820.113815, best pos: [2.27093036 4.62731868 0.34071863 3.25163743 1.97509545 1.56217201\n",
            " 6.21050879 3.56561881 2.59629597 5.90149766 3.17649116 4.8086838\n",
            " 0.28909727 5.42928648 2.36841351 3.67287993 3.5117895  5.28308347\n",
            " 3.54440181 5.79859355 2.91112498 3.17145238 2.26568576 1.67342832]\n",
            "2023-10-02 01:29:11,394 - pyswarms.single.global_best - INFO - Optimize for 1 iters with {'c1': 0.5, 'c2': 0.3, 'w': 0.9}\n"
          ]
        },
        {
          "output_type": "stream",
          "name": "stdout",
          "text": [
            "\n",
            "=========================================================================\n",
            "\n",
            "Número de ciclos de manutenção: 14 5\n",
            "Tempos para manutenções preventivas: [0, 94, 160, 226, 244, 308, 382, 399, 470, 495, 517, 561, 594, 634, 713]\n",
            "Severidade para cada subsistema: [0.5, 0.75, 0.5, 0.5, 0.5, 0.75, 0.75, 0.5, 0.5, 0.75, 0.5, 0.75, 0.5, 0.25]\n",
            "Número de Sisemas: 5\n",
            "Fator:  [0.3296799539643607, 0.6321205588285577, 0.7768698398515702, 0.6321205588285577, 0.6321205588285577, 0.6321205588285577, 0.7768698398515702, 0.7768698398515702, 0.6321205588285577, 0.6321205588285577, 0.7768698398515702, 0.6321205588285577, 0.7768698398515702, 0.6321205588285577, 0.3934693402873666]\n",
            "Media de falhas:  [0, 2348492.8716800003, 13466504.279593911, 22951752.492990285, 23327470.338825233, 48967166.519940406, 116767458.08915672, 130272017.23279202, 162066994.08289742, 169830508.39281893, 219089449.40237457, 364886914.26125145, 386737299.8872164, 596800817.2497945, 745335904.2469101, 371766528.38265103]\n",
            "Custo =  79520275466.64764\n"
          ]
        },
        {
          "output_type": "stream",
          "name": "stderr",
          "text": [
            "pyswarms.single.global_best:   0%|          |0/1, best_cost=4.41e+10"
          ]
        },
        {
          "output_type": "stream",
          "name": "stdout",
          "text": [
            "\n",
            "=========================================================================\n",
            "\n",
            "Número de ciclos de manutenção: 15 5\n",
            "Tempos para manutenções preventivas: [0, 31, 95, 167, 207, 226, 246, 309, 400, 469, 495, 517, 562, 594, 634, 713]\n",
            "Severidade para cada subsistema: [0.75, 0.5, 0.5, 0.5, 0.5, 0.5, 0.5, 0.75, 0.5, 0.5, 0.75, 0.5, 0.75, 0.5, 0.25]\n",
            "Número de Sisemas: 5\n",
            "Fator:  [0.3296799539643607, 0.7768698398515702, 0.6321205588285577, 0.6321205588285577, 0.6321205588285577, 0.6321205588285577, 0.6321205588285577, 0.6321205588285577, 0.7768698398515702, 0.6321205588285577, 0.6321205588285577, 0.7768698398515702, 0.6321205588285577, 0.7768698398515702, 0.6321205588285577, 0.3934693402873666]\n",
            "Media de falhas:  [0, 9161.32832, 1409492.2323766365, 3658048.3095528088, 6814414.17202967, 8490797.212724604, 10954673.53439108, 36281159.8760454, 145147253.79646137, 274056902.4761573, 282221276.99935377, 331480218.0089094, 482132014.44882035, 503123948.70581955, 713187466.0683978, 861722553.0655134, 488153177.2012543]\n",
            "Custo =  83219638150.73445\n"
          ]
        },
        {
          "output_type": "stream",
          "name": "stderr",
          "text": [
            "\rpyswarms.single.global_best: 100%|██████████|1/1, best_cost=4.41e+10\n",
            "2023-10-02 01:29:11,409 - pyswarms.single.global_best - INFO - Optimization finished | best cost: 44078952820.113815, best pos: [2.2707885  4.62721741 0.34068713 3.26049122 1.97509663 1.56711604\n",
            " 6.21083887 3.56618926 2.59634442 1.09972463 3.17719807 4.80787337\n",
            " 0.28923616 5.42990398 2.37238376 3.67288307 3.51336109 5.28305991\n",
            " 4.02645426 5.80096407 2.88066727 3.17140954 2.26559514 1.67332916]\n",
            "2023-10-02 01:29:11,410 - pyswarms.single.global_best - INFO - Optimize for 1 iters with {'c1': 0.5, 'c2': 0.3, 'w': 0.9}\n",
            "pyswarms.single.global_best: 100%|██████████|1/1, best_cost=4.41e+10\n",
            "2023-10-02 01:29:11,421 - pyswarms.single.global_best - INFO - Optimization finished | best cost: 44078952820.113815, best pos: [2.27070412 4.62708054 0.34065737 3.26574888 1.97509776 1.57037215\n",
            " 6.21111965 3.56673908 2.59641675 3.64925506 3.17763507 4.80739131\n",
            " 0.28960996 5.4306402  2.37580862 3.67288586 3.51477841 5.2830539\n",
            " 4.2372281  5.8036344  2.85309445 3.17136526 2.26547583 1.67330346]\n",
            "2023-10-02 01:29:11,423 - pyswarms.single.global_best - INFO - Optimize for 1 iters with {'c1': 0.5, 'c2': 0.3, 'w': 0.9}\n"
          ]
        },
        {
          "output_type": "stream",
          "name": "stdout",
          "text": [
            "\n",
            "=========================================================================\n",
            "\n",
            "Número de ciclos de manutenção: 14 5\n",
            "Tempos para manutenções preventivas: [0, 30, 96, 171, 226, 244, 308, 401, 469, 495, 517, 556, 594, 634, 713]\n",
            "Severidade para cada subsistema: [0.75, 0.5, 0.25, 0.5, 0.5, 0.5, 0.75, 0.5, 0.5, 0.75, 0.5, 0.75, 0.5, 0.25]\n",
            "Número de Sisemas: 5\n",
            "Fator:  [0.3296799539643607, 0.7768698398515702, 0.6321205588285577, 0.3934693402873666, 0.6321205588285577, 0.6321205588285577, 0.6321205588285577, 0.7768698398515702, 0.6321205588285577, 0.6321205588285577, 0.7768698398515702, 0.6321205588285577, 0.7768698398515702, 0.6321205588285577, 0.3934693402873666]\n",
            "Media de falhas:  [0, 7776.000000000001, 1521707.0262207584, 4187102.754862522, 11163990.685751088, 24376736.52424033, 50016432.705355495, 163636632.33242923, 290074009.9376609, 298238384.46085733, 347497325.47041297, 470235401.8223305, 496602591.6386631, 706666109.0012412, 855201195.9983568, 481631820.13409775]\n",
            "Custo =  84932440167.29144\n"
          ]
        },
        {
          "output_type": "stream",
          "name": "stderr",
          "text": [
            "pyswarms.single.global_best:   0%|          |0/1, best_cost=4.41e+10"
          ]
        },
        {
          "output_type": "stream",
          "name": "stdout",
          "text": [
            "\n",
            "=========================================================================\n",
            "\n",
            "Número de ciclos de manutenção: 14 5\n",
            "Tempos para manutenções preventivas: [0, 80, 97, 187, 226, 270, 306, 402, 469, 495, 518, 547, 594, 634, 713]\n",
            "Severidade para cada subsistema: [0.25, 0.5, 0.75, 0.5, 0.75, 0.5, 0.75, 0.5, 0.5, 0.75, 0.5, 0.75, 0.5, 0.25]\n",
            "Número de Sisemas: 5\n",
            "Fator:  [0.3296799539643607, 0.3934693402873666, 0.6321205588285577, 0.7768698398515702, 0.6321205588285577, 0.7768698398515702, 0.6321205588285577, 0.7768698398515702, 0.6321205588285577, 0.6321205588285577, 0.7768698398515702, 0.6321205588285577, 0.7768698398515702, 0.6321205588285577, 0.3934693402873666]\n",
            "Media de falhas:  [0, 1048576.0, 1468957.2961931915, 24613088.45694908, 28777105.787355013, 31075131.32022432, 42505074.84811454, 80316652.95024294, 204304578.9977665, 212468953.52096295, 264531716.49205032, 347398107.9545886, 382913810.5568666, 592977327.9194448, 741512414.9165604, 367943039.05230135]\n",
            "Custo =  78577424460.01247\n"
          ]
        },
        {
          "output_type": "stream",
          "name": "stderr",
          "text": [
            "\rpyswarms.single.global_best: 100%|██████████|1/1, best_cost=4.41e+10\n",
            "2023-10-02 01:29:11,438 - pyswarms.single.global_best - INFO - Optimization finished | best cost: 44078952820.113815, best pos: [2.27079698 4.62694157 0.34060473 3.26693353 1.97509876 1.5714633\n",
            " 6.21129487 3.56720898 2.59648646 6.06642886 3.17770093 4.80707323\n",
            " 0.29002714 5.43176258 2.37867866 3.67288808 3.51594227 5.28305678\n",
            " 4.01634257 5.8062115  2.83092818 3.17132693 2.26534086 1.67332823]\n",
            "2023-10-02 01:29:11,439 - pyswarms.single.global_best - INFO - Optimize for 1 iters with {'c1': 0.5, 'c2': 0.3, 'w': 0.9}\n",
            "pyswarms.single.global_best: 100%|██████████|1/1, best_cost=4.41e+10\n",
            "2023-10-02 01:29:11,450 - pyswarms.single.global_best - INFO - Optimization finished | best cost: 44078952820.113815, best pos: [2.27094439 4.62682714 0.34055491 3.26232928 1.97509953 1.5701527\n",
            " 6.21127893 3.56745603 2.59654703 1.23861895 3.17735002 4.80698182\n",
            " 0.29044732 5.432914   2.37923274 3.6728886  3.51679145 5.28307713\n",
            " 3.72807577 5.80834791 2.81912091 3.17130141 2.26520408 1.67335057]\n",
            "2023-10-02 01:29:11,451 - pyswarms.single.global_best - INFO - Optimize for 1 iters with {'c1': 0.5, 'c2': 0.3, 'w': 0.9}\n"
          ]
        },
        {
          "output_type": "stream",
          "name": "stdout",
          "text": [
            "\n",
            "=========================================================================\n",
            "\n",
            "Número de ciclos de manutenção: 12 5\n",
            "Tempos para manutenções preventivas: [0, 98, 158, 226, 270, 304, 403, 469, 496, 518, 594, 634, 711]\n",
            "Severidade para cada subsistema: [0.5, 0.75, 0.5, 0.75, 0.5, 0.75, 0.5, 0.5, 0.75, 0.75, 0.5, 0.25]\n",
            "Número de Sisemas: 5\n",
            "Fator:  [0.3296799539643607, 0.6321205588285577, 0.7768698398515702, 0.6321205588285577, 0.7768698398515702, 0.6321205588285577, 0.7768698398515702, 0.6321205588285577, 0.6321205588285577, 0.7768698398515702, 0.7768698398515702, 0.6321205588285577, 0.3934693402873666]\n",
            "Media de falhas:  [0, 2892546.5497600003, 12539776.179857286, 22540510.060295917, 24838535.593165223, 35226504.39772561, 76123228.61788267, 197684277.17446306, 206321998.9854587, 255956174.18193188, 606206102.1827266, 642049795.66124, 783161099.0929863, 416155030.8040364]\n",
            "Custo =  64678781913.309326\n"
          ]
        },
        {
          "output_type": "stream",
          "name": "stderr",
          "text": [
            "pyswarms.single.global_best: 100%|██████████|1/1, best_cost=4.41e+10\n",
            "2023-10-02 01:29:11,465 - pyswarms.single.global_best - INFO - Optimization finished | best cost: 44078952820.113815, best pos: [2.27120445 4.62677446 0.34051073 3.25507401 1.97510014 1.5663961\n",
            " 6.21125974 3.56739243 2.59659027 3.65272473 3.17694719 4.80699981\n",
            " 0.29074959 5.43411236 2.37937566 3.6728867  3.51736093 5.28310668\n",
            " 3.2483358  5.80971018 2.8169339  3.17129512 2.26507396 1.67338087]\n",
            "2023-10-02 01:29:11,466 - pyswarms.single.global_best - INFO - Optimize for 1 iters with {'c1': 0.5, 'c2': 0.3, 'w': 0.9}\n"
          ]
        },
        {
          "output_type": "stream",
          "name": "stdout",
          "text": [
            "\n",
            "=========================================================================\n",
            "\n",
            "Número de ciclos de manutenção: 14 5\n",
            "Tempos para manutenções preventivas: [0, 83, 98, 149, 153, 227, 303, 380, 404, 469, 496, 519, 594, 634, 710]\n",
            "Severidade para cada subsistema: [0.75, 0.5, 0.25, 0.5, 0.5, 0.5, 0.5, 0.75, 0.5, 0.5, 0.75, 0.75, 0.5, 0.25]\n",
            "Número de Sisemas: 5\n",
            "Fator:  [0.3296799539643607, 0.7768698398515702, 0.6321205588285577, 0.3934693402873666, 0.6321205588285577, 0.6321205588285577, 0.6321205588285577, 0.6321205588285577, 0.7768698398515702, 0.6321205588285577, 0.6321205588285577, 0.7768698398515702, 0.7768698398515702, 0.6321205588285577, 0.3934693402873666]\n",
            "Media de falhas:  [0, 1260493.00576, 1652630.8888787013, 2308381.791012275, 2375228.1473710635, 41489090.27536568, 73231850.22388512, 143815930.9463016, 164457838.691179, 283614339.58705187, 292252061.3980475, 344710278.417275, 689098834.9127843, 724942528.3912977, 862442496.7372744, 498707838.0781085]\n",
            "Custo =  71326408247.30312\n"
          ]
        },
        {
          "output_type": "stream",
          "name": "stderr",
          "text": [
            "pyswarms.single.global_best: 100%|██████████|1/1, best_cost=4.41e+10\n",
            "2023-10-02 01:29:11,477 - pyswarms.single.global_best - INFO - Optimization finished | best cost: 44078952820.113815, best pos: [2.27144621 4.62677038 0.34047296 3.2473662  1.97509996 1.56140778\n",
            " 6.2111503  3.56710002 2.59660405 6.01841069 3.17634751 4.8074543\n",
            " 0.29093122 5.43513972 2.37773399 3.6728842  3.51773721 5.28314555\n",
            " 2.74333818 5.81052033 2.81721538 3.17130315 2.26495671 1.67343062]\n",
            "2023-10-02 01:29:11,479 - pyswarms.single.global_best - INFO - Optimize for 1 iters with {'c1': 0.5, 'c2': 0.3, 'w': 0.9}\n"
          ]
        },
        {
          "output_type": "stream",
          "name": "stdout",
          "text": [
            "\n",
            "=========================================================================\n",
            "\n",
            "Número de ciclos de manutenção: 12 5\n",
            "Tempos para manutenções preventivas: [0, 99, 148, 182, 227, 302, 404, 469, 495, 519, 594, 635, 709]\n",
            "Severidade para cada subsistema: [0.5, 0.25, 0.5, 0.5, 0.5, 0.75, 0.5, 0.5, 0.75, 0.75, 0.5, 0.25]\n",
            "Número de Sisemas: 5\n",
            "Fator:  [0.3296799539643607, 0.6321205588285577, 0.3934693402873666, 0.6321205588285577, 0.6321205588285577, 0.6321205588285577, 0.7768698398515702, 0.6321205588285577, 0.6321205588285577, 0.7768698398515702, 0.7768698398515702, 0.6321205588285577, 0.3934693402873666]\n",
            "Media de falhas:  [0, 3043168.15968, 9169515.962538607, 10748399.87827652, 34492911.95410745, 65212823.224079125, 200421574.20415768, 319578075.10003054, 327742449.623227, 382664253.00071734, 727052809.4962265, 764331022.2393008, 895432490.4069865, 534962645.9639409]\n",
            "Custo =  69921646092.36517\n"
          ]
        },
        {
          "output_type": "stream",
          "name": "stderr",
          "text": [
            "pyswarms.single.global_best: 100%|██████████|1/1, best_cost=4.41e+10\n",
            "2023-10-02 01:29:11,491 - pyswarms.single.global_best - INFO - Optimization finished | best cost: 44078952820.113815, best pos: [2.27165159 4.62682628 0.3404555  3.24047626 1.97509954 1.55652222\n",
            " 6.21094783 3.56663993 2.59658548 0.83882771 3.17575432 4.80789199\n",
            " 0.29096078 5.43586273 2.37533529 3.67288163 3.5172318  5.28318286\n",
            " 2.27128519 5.81010587 2.82470738 3.17132189 2.26487987 1.6735041 ]\n",
            "2023-10-02 01:29:11,492 - pyswarms.single.global_best - INFO - Optimize for 1 iters with {'c1': 0.5, 'c2': 0.3, 'w': 0.9}\n"
          ]
        },
        {
          "output_type": "stream",
          "name": "stdout",
          "text": [
            "\n",
            "=========================================================================\n",
            "\n",
            "Número de ciclos de manutenção: 14 5\n",
            "Tempos para manutenções preventivas: [0, 76, 99, 147, 177, 227, 302, 378, 405, 470, 495, 519, 594, 635, 708]\n",
            "Severidade para cada subsistema: [0.5, 0.5, 0.25, 0.75, 0.5, 0.5, 0.25, 0.75, 0.5, 0.5, 0.75, 0.75, 0.5, 0.25]\n",
            "Número de Sisemas: 5\n",
            "Fator:  [0.3296799539643607, 0.6321205588285577, 0.6321205588285577, 0.3934693402873666, 0.7768698398515702, 0.6321205588285577, 0.6321205588285577, 0.3934693402873666, 0.7768698398515702, 0.6321205588285577, 0.6321205588285577, 0.7768698398515702, 0.7768698398515702, 0.6321205588285577, 0.3934693402873666]\n",
            "Media de falhas:  [0, 811368.1203200001, 1408976.246041452, 2760548.213806986, 3957072.768820623, 30265813.870237947, 40181540.44273109, 108134386.61413732, 131901841.73731354, 771391226.5280727, 779154740.8379942, 834076544.2154846, 1178465100.7109938, 1215743313.454068, 1343413992.2432637, 986202543.0494156]\n",
            "Custo =  102128898273.6016\n"
          ]
        },
        {
          "output_type": "stream",
          "name": "stderr",
          "text": [
            "pyswarms.single.global_best: 100%|██████████|1/1, best_cost=4.41e+10\n",
            "2023-10-02 01:29:11,504 - pyswarms.single.global_best - INFO - Optimization finished | best cost: 44078952820.113815, best pos: [2.27178333 4.62690952 0.34044497 3.23580777 1.97509885 1.55223661\n",
            " 6.21069644 3.56616859 2.59654883 2.85603115 3.17523741 4.80847913\n",
            " 0.29076058 5.43625649 2.37254948 3.67287923 3.51645674 5.28321341\n",
            " 1.94658038 5.80954    2.83826426 3.17134139 2.26484528 1.67357995]\n",
            "2023-10-02 01:29:11,506 - pyswarms.single.global_best - INFO - Optimize for 1 iters with {'c1': 0.5, 'c2': 0.3, 'w': 0.9}\n"
          ]
        },
        {
          "output_type": "stream",
          "name": "stdout",
          "text": [
            "\n",
            "=========================================================================\n",
            "\n",
            "Número de ciclos de manutenção: 14 5\n",
            "Tempos para manutenções preventivas: [0, 99, 147, 164, 190, 227, 302, 405, 470, 495, 519, 569, 594, 635, 707]\n",
            "Severidade para cada subsistema: [0.5, 0.25, 0.5, 0.5, 0.5, 0.5, 0.75, 0.5, 0.5, 0.75, 0.25, 0.75, 0.5, 0.25]\n",
            "Número de Sisemas: 5\n",
            "Fator:  [0.3296799539643607, 0.6321205588285577, 0.3934693402873666, 0.6321205588285577, 0.6321205588285577, 0.6321205588285577, 0.6321205588285577, 0.7768698398515702, 0.6321205588285577, 0.6321205588285577, 0.7768698398515702, 0.3934693402873666, 0.7768698398515702, 0.6321205588285577, 0.3934693402873666]\n",
            "Media de falhas:  [0, 3043168.15968, 8891008.288198877, 9323550.5197742, 16158307.632266503, 20091050.0400775, 50810961.310049176, 189350342.4548342, 309448255.6788166, 317211769.9887381, 372133573.36622846, 550717494.9585538, 566091954.6895379, 1953191897.7142034, 2077495116.5990803, 1723535820.881649]\n",
            "Custo =  199205026465.51724\n"
          ]
        },
        {
          "output_type": "stream",
          "name": "stderr",
          "text": [
            "pyswarms.single.global_best: 100%|██████████|1/1, best_cost=4.41e+10\n",
            "2023-10-02 01:29:11,523 - pyswarms.single.global_best - INFO - Optimization finished | best cost: 44078952820.113815, best pos: [2.27184962 4.62700167 0.34044731 3.2330462  1.97509815 1.54868451\n",
            " 6.21047198 3.56576876 2.59651404 4.70495691 3.17486588 4.80906106\n",
            " 0.29057338 5.43611688 2.36998127 3.67287734 3.5155579  5.28322928\n",
            " 1.7896361  5.80806854 2.85869294 3.1713691  2.26485791 1.6736438 ]\n",
            "2023-10-02 01:29:11,525 - pyswarms.single.global_best - INFO - Optimize for 1 iters with {'c1': 0.5, 'c2': 0.3, 'w': 0.9}\n"
          ]
        },
        {
          "output_type": "stream",
          "name": "stdout",
          "text": [
            "\n",
            "=========================================================================\n",
            "\n",
            "Número de ciclos de manutenção: 13 5\n",
            "Tempos para manutenções preventivas: [0, 98, 146, 227, 268, 302, 386, 405, 470, 495, 518, 594, 635, 707]\n",
            "Severidade para cada subsistema: [0.5, 0.25, 0.5, 0.25, 0.5, 0.75, 0.75, 0.5, 0.5, 0.75, 0.75, 0.5, 0.25]\n",
            "Número de Sisemas: 5\n",
            "Fator:  [0.3296799539643607, 0.6321205588285577, 0.3934693402873666, 0.6321205588285577, 0.3934693402873666, 0.6321205588285577, 0.7768698398515702, 0.7768698398515702, 0.6321205588285577, 0.6321205588285577, 0.7768698398515702, 0.7768698398515702, 0.6321205588285577, 0.3934693402873666]\n",
            "Media de falhas:  [0, 2892546.5497600003, 8579456.301238582, 22632081.201890826, 65085190.221254416, 75218151.14441733, 444851633.7874314, 460993144.20782274, 488035016.7426245, 495798531.052546, 547861294.0236334, 898111222.0244281, 935389434.7675024, 1059692653.6523794, 705733357.9349481]\n",
            "Custo =  81789252261.89442\n"
          ]
        },
        {
          "output_type": "stream",
          "name": "stderr",
          "text": [
            "pyswarms.single.global_best: 100%|██████████|1/1, best_cost=4.41e+10\n",
            "2023-10-02 01:29:11,536 - pyswarms.single.global_best - INFO - Optimization finished | best cost: 44078952820.113815, best pos: [2.27182996 4.62708965 0.3404532  3.23065265 1.97509737 1.5482822\n",
            " 6.2102828  3.56558574 2.59647205 6.37934778 3.17476003 4.80958428\n",
            " 0.29031915 5.43598737 2.36811433 3.67287577 3.51445726 5.2832341\n",
            " 1.72658898 5.80649003 2.88092228 3.17139776 2.2648823  1.67368226]\n"
          ]
        },
        {
          "output_type": "stream",
          "name": "stdout",
          "text": [
            "\n",
            "=========================================================================\n",
            "\n",
            "Número de ciclos de manutenção: 14 5\n",
            "Tempos para manutenções preventivas: [0, 68, 98, 147, 165, 227, 269, 303, 405, 470, 495, 518, 594, 635, 707]\n",
            "Severidade para cada subsistema: [0.75, 0.5, 0.25, 0.75, 0.5, 0.25, 0.5, 0.75, 0.5, 0.5, 0.75, 0.75, 0.5, 0.25]\n",
            "Número de Sisemas: 5\n",
            "Fator:  [0.3296799539643607, 0.7768698398515702, 0.6321205588285577, 0.3934693402873666, 0.7768698398515702, 0.6321205588285577, 0.3934693402873666, 0.6321205588285577, 0.7768698398515702, 0.6321205588285577, 0.6321205588285577, 0.7768698398515702, 0.7768698398515702, 0.6321205588285577, 0.3934693402873666]\n",
            "Media de falhas:  [0, 465258.74176000006, 1191580.0398109616, 1761936.3668408915, 2236482.278749504, 34814277.29193026, 36892290.73405328, 47152157.35805069, 590024942.561079, 710122855.7850615, 717886370.094983, 769949133.0660703, 1120199061.066865, 1157477273.8099391, 1281780492.694816, 927821196.9773848]\n",
            "Custo =  84968258744.83191\n"
          ]
        },
        {
          "output_type": "stream",
          "name": "stderr",
          "text": [
            "2023-10-02 01:29:11,538 - pyswarms.single.global_best - INFO - Optimize for 1 iters with {'c1': 0.5, 'c2': 0.3, 'w': 0.9}\n",
            "pyswarms.single.global_best: 100%|██████████|1/1, best_cost=4.41e+10\n",
            "2023-10-02 01:29:11,549 - pyswarms.single.global_best - INFO - Optimization finished | best cost: 44078952820.113815, best pos: [2.27168617 4.62716211 0.34046028 3.23254741 1.97509667 1.55020131\n",
            " 6.21013293 3.5655963  2.59643467 0.54702394 3.17475005 4.80996868\n",
            " 0.2900807  5.43581449 2.36684216 3.67287508 3.51341135 5.28322889\n",
            " 1.68205479 5.80501991 2.90047625 3.17142043 2.26493186 1.67370702]\n"
          ]
        },
        {
          "output_type": "stream",
          "name": "stdout",
          "text": [
            "\n",
            "=========================================================================\n",
            "\n",
            "Número de ciclos de manutenção: 14 5\n",
            "Tempos para manutenções preventivas: [0, 98, 147, 156, 185, 227, 303, 371, 404, 470, 495, 518, 594, 635, 707]\n",
            "Severidade para cada subsistema: [0.5, 0.25, 0.5, 0.75, 0.5, 0.5, 0.5, 0.75, 0.5, 0.5, 0.75, 0.75, 0.5, 0.25]\n",
            "Número de Sisemas: 5\n",
            "Fator:  [0.3296799539643607, 0.6321205588285577, 0.3934693402873666, 0.6321205588285577, 0.7768698398515702, 0.6321205588285577, 0.6321205588285577, 0.6321205588285577, 0.7768698398515702, 0.6321205588285577, 0.6321205588285577, 0.7768698398515702, 0.7768698398515702, 0.6321205588285577, 0.3934693402873666]\n",
            "Media de falhas:  [0, 2892546.5497600003, 8851519.42816498, 9023076.142393429, 15834140.168117568, 20534066.225678172, 30855012.143556245, 84925329.10711607, 114519724.72942048, 237039640.06146133, 244803154.37138283, 296865917.3424702, 647115845.343265, 684394058.0863394, 808697276.9712163, 454737981.253785]\n",
            "Custo =  69309811369.45233\n"
          ]
        },
        {
          "output_type": "stream",
          "name": "stderr",
          "text": [
            "2023-10-02 01:29:11,550 - pyswarms.single.global_best - INFO - Optimize for 1 iters with {'c1': 0.5, 'c2': 0.3, 'w': 0.9}\n",
            "pyswarms.single.global_best: 100%|██████████|1/1, best_cost=4.41e+10\n",
            "2023-10-02 01:29:11,566 - pyswarms.single.global_best - INFO - Optimization finished | best cost: 44078952820.113815, best pos: [2.2715432  4.62721744 0.3404696  3.23562553 1.97509627 1.55284234\n",
            " 6.21001246 3.5657181  2.59640259 2.69794466 3.17478452 4.81020258\n",
            " 0.28988537 5.43517392 2.36715065 3.67287449 3.5126102  5.28320574\n",
            " 1.65892968 5.80368828 2.91708867 3.171439   2.26497769 1.67371442]\n"
          ]
        },
        {
          "output_type": "stream",
          "name": "stdout",
          "text": [
            "\n",
            "=========================================================================\n",
            "\n",
            "Número de ciclos de manutenção: 12 5\n",
            "Tempos para manutenções preventivas: [0, 98, 148, 151, 227, 304, 404, 470, 494, 518, 594, 635, 707]\n",
            "Severidade para cada subsistema: [0.5, 0.25, 0.25, 0.5, 0.5, 0.75, 0.5, 0.5, 0.75, 0.75, 0.5, 0.25]\n",
            "Número de Sisemas: 5\n",
            "Fator:  [0.3296799539643607, 0.6321205588285577, 0.3934693402873666, 0.3934693402873666, 0.6321205588285577, 0.6321205588285577, 0.7768698398515702, 0.6321205588285577, 0.6321205588285577, 0.7768698398515702, 0.7768698398515702, 0.6321205588285577, 0.3934693402873666]\n",
            "Media de falhas:  [0, 2892546.5497600003, 9133238.363517297, 9180330.269944876, 49418280.235838465, 179512052.99880397, 310416877.04070187, 432936792.3727427, 440252095.1254885, 494760279.43193245, 845010207.4327272, 882288420.1758015, 1006591639.0606785, 652632343.3432472]\n",
            "Custo =  74730534561.52011\n"
          ]
        },
        {
          "output_type": "stream",
          "name": "stderr",
          "text": [
            "2023-10-02 01:29:11,567 - pyswarms.single.global_best - INFO - Optimize for 1 iters with {'c1': 0.5, 'c2': 0.3, 'w': 0.9}\n",
            "pyswarms.single.global_best: 100%|██████████|1/1, best_cost=4.41e+10\n",
            "2023-10-02 01:29:11,584 - pyswarms.single.global_best - INFO - Optimization finished | best cost: 44078952820.113815, best pos: [2.27136523 4.62724794 0.3404998  3.24197955 1.97509594 1.55627978\n",
            " 6.21000754 3.56583735 2.5963862  4.77098388 3.1752085  4.81016756\n",
            " 0.28979856 5.43448104 2.36798041 3.67287562 3.51206393 5.28317133\n",
            " 1.65700902 5.80280334 2.92372393 3.17144614 2.26503876 1.67371949]\n",
            "2023-10-02 01:29:11,585 - pyswarms.single.global_best - INFO - Optimize for 1 iters with {'c1': 0.5, 'c2': 0.3, 'w': 0.9}\n"
          ]
        },
        {
          "output_type": "stream",
          "name": "stdout",
          "text": [
            "\n",
            "=========================================================================\n",
            "\n",
            "Número de ciclos de manutenção: 14 5\n",
            "Tempos para manutenções preventivas: [0, 68, 97, 149, 194, 226, 305, 377, 403, 470, 494, 517, 594, 635, 708]\n",
            "Severidade para cada subsistema: [0.75, 0.5, 0.25, 0.5, 0.5, 0.5, 0.25, 0.75, 0.5, 0.5, 0.75, 0.75, 0.5, 0.25]\n",
            "Número de Sisemas: 5\n",
            "Fator:  [0.3296799539643607, 0.7768698398515702, 0.6321205588285577, 0.3934693402873666, 0.6321205588285577, 0.6321205588285577, 0.6321205588285577, 0.3934693402873666, 0.7768698398515702, 0.6321205588285577, 0.6321205588285577, 0.7768698398515702, 0.7768698398515702, 0.6321205588285577, 0.3934693402873666]\n",
            "Media de falhas:  [0, 465258.74176000006, 1140729.4082581406, 1832357.2557764235, 4844366.929858116, 21657697.948549494, 56246532.79935632, 118419176.00303118, 140768536.67853174, 799040139.7756453, 806355442.5283911, 858024994.1091516, 1214178736.466742, 1251456949.2098162, 1379127627.999012, 1021916178.8051639]\n",
            "Custo =  103055996199.09216\n"
          ]
        },
        {
          "output_type": "stream",
          "name": "stderr",
          "text": [
            "pyswarms.single.global_best: 100%|██████████|1/1, best_cost=4.41e+10\n",
            "2023-10-02 01:29:11,597 - pyswarms.single.global_best - INFO - Optimization finished | best cost: 44078952820.113815, best pos: [2.27120703 4.62723386 0.34054009 3.24809339 1.97509567 1.55987662\n",
            " 6.21006397 3.56611852 2.59638352 6.64163842 3.17585837 4.80998797\n",
            " 0.28982345 5.43377744 2.36908609 3.67287792 3.51184856 5.28313521\n",
            " 1.94994881 5.80247641 2.92193672 3.17144463 2.26510327 1.67371405]\n",
            "2023-10-02 01:29:11,598 - pyswarms.single.global_best - INFO - Optimize for 1 iters with {'c1': 0.5, 'c2': 0.3, 'w': 0.9}\n"
          ]
        },
        {
          "output_type": "stream",
          "name": "stdout",
          "text": [
            "\n",
            "=========================================================================\n",
            "\n",
            "Número de ciclos de manutenção: 10 5\n",
            "Tempos para manutenções preventivas: [0, 97, 226, 306, 402, 470, 495, 517, 594, 635, 709]\n",
            "Severidade para cada subsistema: [0.5, 0.5, 0.5, 0.75, 0.5, 0.5, 0.75, 0.75, 0.5, 0.25]\n",
            "Número de Sisemas: 5\n",
            "Fator:  [0.3296799539643607, 0.6321205588285577, 0.6321205588285577, 0.6321205588285577, 0.7768698398515702, 0.6321205588285577, 0.6321205588285577, 0.7768698398515702, 0.7768698398515702, 0.6321205588285577, 0.3934693402873666]\n",
            "Media de falhas:  [0, 2747948.88224, 90358123.13787436, 126066513.68657228, 246586816.6105776, 374018296.91568696, 381781811.22560847, 431040752.2351641, 787194494.5927546, 824472707.3358289, 955574175.5035145, 595104331.0604689]\n",
            "Custo =  69784523864.5415\n"
          ]
        },
        {
          "output_type": "stream",
          "name": "stderr",
          "text": [
            "pyswarms.single.global_best: 100%|██████████|1/1, best_cost=4.41e+10"
          ]
        },
        {
          "output_type": "stream",
          "name": "stdout",
          "text": [
            "\n",
            "=========================================================================\n",
            "\n",
            "Número de ciclos de manutenção: 13 5\n",
            "Tempos para manutenções preventivas: [0, 86, 97, 176, 196, 226, 306, 402, 470, 495, 518, 594, 635, 710]\n",
            "Severidade para cada subsistema: [0.5, 0.5, 0.25, 0.25, 0.5, 0.5, 0.75, 0.5, 0.5, 0.75, 0.75, 0.5, 0.25]\n",
            "Número de Sisemas: 5\n",
            "Fator:  [0.3296799539643607, 0.6321205588285577, 0.6321205588285577, 0.3934693402873666, 0.3934693402873666, 0.6321205588285577, 0.6321205588285577, 0.7768698398515702, 0.6321205588285577, 0.6321205588285577, 0.7768698398515702, 0.7768698398515702, 0.6321205588285577, 0.3934693402873666]\n",
            "Media de falhas:  [0, 1505366.45632, 1789473.843472236, 8119440.836526511, 9154157.45952637, 24962501.769391842, 163719920.52711028, 284240223.4511156, 411671703.756225, 419435218.0661465, 471497981.0372339, 821747909.0380287, 859026121.781103, 993622597.8761778, 629887939.2170119]\n",
            "Custo =  75036932526.08408\n"
          ]
        },
        {
          "output_type": "stream",
          "name": "stderr",
          "text": [
            "\n",
            "2023-10-02 01:29:11,611 - pyswarms.single.global_best - INFO - Optimization finished | best cost: 44078952820.113815, best pos: [2.27106471 4.62719745 0.34058164 3.25354263 1.97509552 1.56302387\n",
            " 6.21013023 3.56643807 2.59640856 1.26889913 3.17650612 4.80966162\n",
            " 0.2899505  5.43312246 2.37015722 3.67288022 3.51212384 5.28310705\n",
            " 2.39211262 5.80235608 2.91513724 3.17142624 2.2651608  1.67368482]\n",
            "2023-10-02 01:29:11,613 - pyswarms.single.global_best - INFO - Optimize for 1 iters with {'c1': 0.5, 'c2': 0.3, 'w': 0.9}\n",
            "pyswarms.single.global_best: 100%|██████████|1/1, best_cost=4.41e+10\n",
            "2023-10-02 01:29:11,627 - pyswarms.single.global_best - INFO - Optimization finished | best cost: 44078952820.113815, best pos: [2.27094916 4.62715556 0.34061401 3.25778589 1.97509541 1.56562249\n",
            " 6.21019726 3.56672595 2.59643751 3.51260909 3.17707041 4.80922139\n",
            " 0.29006682 5.43267105 2.37147294 3.67288233 3.51258817 5.28308781\n",
            " 2.86222829 5.80269287 2.90064163 3.17140408 2.26519253 1.6736278 ]\n",
            "2023-10-02 01:29:11,628 - pyswarms.single.global_best - INFO - Optimize for 1 iters with {'c1': 0.5, 'c2': 0.3, 'w': 0.9}\n"
          ]
        },
        {
          "output_type": "stream",
          "name": "stdout",
          "text": [
            "\n",
            "=========================================================================\n",
            "\n",
            "Número de ciclos de manutenção: 10 5\n",
            "Tempos para manutenções preventivas: [0, 96, 226, 306, 401, 470, 495, 518, 594, 634, 711]\n",
            "Severidade para cada subsistema: [0.5, 0.5, 0.5, 0.75, 0.5, 0.5, 0.75, 0.75, 0.5, 0.25]\n",
            "Número de Sisemas: 5\n",
            "Fator:  [0.3296799539643607, 0.6321205588285577, 0.6321205588285577, 0.6321205588285577, 0.7768698398515702, 0.6321205588285577, 0.6321205588285577, 0.7768698398515702, 0.7768698398515702, 0.6321205588285577, 0.3934693402873666]\n",
            "Media de falhas:  [0, 2609192.6323200003, 90988184.38873546, 126696574.93743338, 244217907.8291716, 374139442.42888606, 381902956.73880756, 433965719.70989496, 784215647.7106898, 820059341.1892031, 961170644.6209495, 594164576.3319995]\n",
            "Custo =  69964473705.1526\n"
          ]
        },
        {
          "output_type": "stream",
          "name": "stderr",
          "text": [
            "pyswarms.single.global_best: 100%|██████████|1/1, best_cost=4.41e+10\n",
            "2023-10-02 01:29:11,639 - pyswarms.single.global_best - INFO - Optimization finished | best cost: 44078952820.113815, best pos: [2.27086698 4.62711193 0.34062928 3.26151923 1.97509562 1.56690178\n",
            " 6.21039051 3.56696967 2.59646485 5.67330125 3.17737186 4.80881902\n",
            " 0.29018413 5.43232285 2.37269028 3.6728841  3.51303518 5.28307406\n",
            " 3.25978755 5.8036342  2.88549674 3.17138343 2.26520742 1.67356486]\n",
            "2023-10-02 01:29:11,641 - pyswarms.single.global_best - INFO - Optimize for 1 iters with {'c1': 0.5, 'c2': 0.3, 'w': 0.9}\n"
          ]
        },
        {
          "output_type": "stream",
          "name": "stdout",
          "text": [
            "\n",
            "=========================================================================\n",
            "\n",
            "Número de ciclos de manutenção: 13 5\n",
            "Tempos para manutenções preventivas: [0, 96, 166, 183, 226, 240, 306, 401, 470, 495, 518, 594, 634, 711]\n",
            "Severidade para cada subsistema: [0.5, 0.5, 0.25, 0.5, 0.5, 0.5, 0.75, 0.5, 0.5, 0.75, 0.75, 0.5, 0.25]\n",
            "Número de Sisemas: 5\n",
            "Fator:  [0.3296799539643607, 0.6321205588285577, 0.6321205588285577, 0.3934693402873666, 0.6321205588285577, 0.6321205588285577, 0.6321205588285577, 0.7768698398515702, 0.6321205588285577, 0.6321205588285577, 0.7768698398515702, 0.7768698398515702, 0.6321205588285577, 0.3934693402873666]\n",
            "Media de falhas:  [0, 2609192.6323200003, 16263235.23687953, 16919384.219943598, 21706354.683933355, 31403853.573688753, 57667395.10059425, 175188727.99233246, 305110262.59204686, 312873776.90196836, 364936539.87305576, 715186467.8738506, 751030161.352364, 892141464.7841103, 525135396.49516034]\n",
            "Custo =  71202063456.62332\n"
          ]
        },
        {
          "output_type": "stream",
          "name": "stderr",
          "text": [
            "pyswarms.single.global_best: 100%|██████████|1/1, best_cost=4.41e+10\n",
            "2023-10-02 01:29:11,652 - pyswarms.single.global_best - INFO - Optimization finished | best cost: 44078952820.113815, best pos: [2.27090601 4.6270529  0.34063412 3.26457101 1.97509637 1.5672676\n",
            " 6.21061043 3.56710309 2.59648998 0.39635451 3.17756303 4.80845702\n",
            " 0.29028947 5.43216655 2.37362071 3.67288524 3.51370842 5.28306177\n",
            " 3.60585989 5.8048     2.86999124 3.17136498 2.26520928 1.6735082 ]\n",
            "2023-10-02 01:29:11,654 - pyswarms.single.global_best - INFO - Optimize for 1 iters with {'c1': 0.5, 'c2': 0.3, 'w': 0.9}\n"
          ]
        },
        {
          "output_type": "stream",
          "name": "stdout",
          "text": [
            "\n",
            "=========================================================================\n",
            "\n",
            "Número de ciclos de manutenção: 12 5\n",
            "Tempos para manutenções preventivas: [0, 96, 149, 226, 244, 306, 401, 470, 495, 518, 594, 634, 712]\n",
            "Severidade para cada subsistema: [0.5, 0.25, 0.5, 0.5, 0.5, 0.75, 0.5, 0.5, 0.75, 0.75, 0.5, 0.25]\n",
            "Número de Sisemas: 5\n",
            "Fator:  [0.3296799539643607, 0.6321205588285577, 0.3934693402873666, 0.6321205588285577, 0.6321205588285577, 0.6321205588285577, 0.7768698398515702, 0.6321205588285577, 0.6321205588285577, 0.7768698398515702, 0.7768698398515702, 0.6321205588285577, 0.3934693402873666]\n",
            "Media de falhas:  [0, 2609192.6323200003, 9377697.729825499, 21953158.55186382, 35165904.39035306, 59062769.97013383, 176584102.86187205, 306505637.4615865, 314269151.771508, 366331914.7425954, 716581842.7433901, 752425536.2219034, 897214905.684808, 526930656.6489394]\n",
            "Custo =  71195333263.26733\n"
          ]
        },
        {
          "output_type": "stream",
          "name": "stderr",
          "text": [
            "pyswarms.single.global_best: 100%|██████████|1/1, best_cost=4.41e+10\n",
            "2023-10-02 01:29:11,666 - pyswarms.single.global_best - INFO - Optimization finished | best cost: 44078952820.113815, best pos: [2.27107192 4.62699604 0.34062739 3.26346312 1.97509739 1.56649211\n",
            " 6.21082998 3.56719015 2.59650901 2.26123006 3.17736772 4.80820257\n",
            " 0.29037219 5.43223689 2.37414517 3.67288546 3.51440851 5.28305242\n",
            " 3.80509654 5.80588583 2.85627698 3.17134961 2.26518599 1.67346593]\n"
          ]
        },
        {
          "output_type": "stream",
          "name": "stdout",
          "text": [
            "\n",
            "=========================================================================\n",
            "\n",
            "Número de ciclos de manutenção: 13 5\n",
            "Tempos para manutenções preventivas: [0, 96, 149, 151, 226, 244, 305, 401, 470, 495, 518, 594, 634, 712]\n",
            "Severidade para cada subsistema: [0.5, 0.25, 0.75, 0.5, 0.5, 0.5, 0.75, 0.5, 0.5, 0.75, 0.75, 0.5, 0.25]\n",
            "Número de Sisemas: 5\n",
            "Fator:  [0.3296799539643607, 0.6321205588285577, 0.3934693402873666, 0.7768698398515702, 0.6321205588285577, 0.6321205588285577, 0.6321205588285577, 0.7768698398515702, 0.6321205588285577, 0.6321205588285577, 0.7768698398515702, 0.7768698398515702, 0.6321205588285577, 0.3934693402873666]\n",
            "Media de falhas:  [0, 2609192.6323200003, 9377697.729825499, 9408772.108628592, 48399656.308646075, 48775374.15448102, 71834603.3575602, 191338845.5586329, 321260380.15834737, 329023894.4682689, 381086657.43935627, 731336585.440151, 767180278.9186643, 911969648.3815689, 541685399.3457003]\n",
            "Custo =  69832482383.9316\n"
          ]
        },
        {
          "output_type": "stream",
          "name": "stderr",
          "text": [
            "2023-10-02 01:29:11,667 - pyswarms.single.global_best - INFO - Optimize for 1 iters with {'c1': 0.5, 'c2': 0.3, 'w': 0.9}\n",
            "pyswarms.single.global_best: 100%|██████████|1/1, best_cost=4.41e+10\n",
            "2023-10-02 01:29:11,680 - pyswarms.single.global_best - INFO - Optimization finished | best cost: 44078952820.113815, best pos: [2.27128372 4.62694828 0.34061545 3.26033421 1.97509831 1.56538407\n",
            " 6.21101569 3.56712525 2.59652489 4.49382458 3.1768352  4.80816404\n",
            " 0.29039929 5.43236915 2.37401885 3.67288445 3.51503509 5.28305911\n",
            " 3.7731257  5.80659082 2.84634776 3.17134059 2.26515996 1.67344785]\n",
            "2023-10-02 01:29:11,681 - pyswarms.single.global_best - INFO - Optimize for 1 iters with {'c1': 0.5, 'c2': 0.3, 'w': 0.9}\n"
          ]
        },
        {
          "output_type": "stream",
          "name": "stdout",
          "text": [
            "\n",
            "=========================================================================\n",
            "\n",
            "Número de ciclos de manutenção: 13 5\n",
            "Tempos para manutenções preventivas: [0, 97, 148, 209, 227, 245, 304, 402, 470, 495, 518, 594, 634, 712]\n",
            "Severidade para cada subsistema: [0.5, 0.25, 0.5, 0.5, 0.5, 0.5, 0.75, 0.5, 0.5, 0.75, 0.75, 0.5, 0.25]\n",
            "Número de Sisemas: 5\n",
            "Fator:  [0.3296799539643607, 0.6321205588285577, 0.3934693402873666, 0.6321205588285577, 0.6321205588285577, 0.6321205588285577, 0.6321205588285577, 0.7768698398515702, 0.6321205588285577, 0.6321205588285577, 0.7768698398515702, 0.7768698398515702, 0.6321205588285577, 0.3934693402873666]\n",
            "Media de falhas:  [0, 2747948.88224, 9103246.588732794, 15512311.362973705, 25382935.389142863, 27532119.038164645, 49232609.502804816, 173814141.5651679, 301245621.8702773, 309009136.1801988, 361071899.1512862, 711321827.152081, 747165520.6305944, 891954890.093499, 521670641.0576303]\n",
            "Custo =  70719923788.09633\n"
          ]
        },
        {
          "output_type": "stream",
          "name": "stderr",
          "text": [
            "pyswarms.single.global_best:   0%|          |0/1, best_cost=4.41e+10"
          ]
        },
        {
          "output_type": "stream",
          "name": "stdout",
          "text": [
            "\n",
            "=========================================================================\n",
            "\n",
            "Número de ciclos de manutenção: 13 5\n",
            "Tempos para manutenções preventivas: [0, 78, 97, 148, 227, 245, 304, 402, 470, 495, 518, 594, 634, 711]\n",
            "Severidade para cada subsistema: [0.25, 0.5, 0.25, 0.5, 0.5, 0.5, 0.75, 0.5, 0.5, 0.75, 0.75, 0.5, 0.25]\n",
            "Número de Sisemas: 5\n",
            "Fator:  [0.3296799539643607, 0.3934693402873666, 0.6321205588285577, 0.3934693402873666, 0.6321205588285577, 0.6321205588285577, 0.6321205588285577, 0.7768698398515702, 0.6321205588285577, 0.6321205588285577, 0.7768698398515702, 0.7768698398515702, 0.6321205588285577, 0.3934693402873666]\n",
            "Media de falhas:  [0, 923895.7977600001, 1387893.1152832354, 6277067.951392284, 19665887.096053086, 33098613.250615418, 54799103.71525559, 179380635.7776187, 306812116.0827281, 314575630.3926496, 366638393.363737, 716888321.3645318, 752732014.8430451, 893843318.2747915, 526837249.9858415]\n",
            "Custo =  71114677277.88728\n"
          ]
        },
        {
          "output_type": "stream",
          "name": "stderr",
          "text": [
            "\rpyswarms.single.global_best: 100%|██████████|1/1, best_cost=4.41e+10\n",
            "2023-10-02 01:29:11,697 - pyswarms.single.global_best - INFO - Optimization finished | best cost: 44078952820.113815, best pos: [2.27148109 4.62691687 0.34059854 3.25606634 1.97509907 1.56346653\n",
            " 6.21114205 3.56706639 2.59653159 6.52040829 3.17618394 4.80819404\n",
            " 0.29038038 5.43257799 2.37330998 3.67288325 3.51545628 5.28309327\n",
            " 3.62071824 5.80701278 2.83985398 3.1713447  2.26512687 1.67345782]\n",
            "2023-10-02 01:29:11,698 - pyswarms.single.global_best - INFO - Optimize for 1 iters with {'c1': 0.5, 'c2': 0.3, 'w': 0.9}\n",
            "pyswarms.single.global_best: 100%|██████████|1/1, best_cost=4.41e+10\n",
            "2023-10-02 01:29:11,709 - pyswarms.single.global_best - INFO - Optimization finished | best cost: 44078952820.113815, best pos: [2.27165777 4.62689735 0.34058072 3.25025052 1.97509946 1.56121045\n",
            " 6.21116779 3.56698886 2.59652184 1.3441858  3.17558993 4.80833926\n",
            " 0.29034305 5.43305445 2.37241824 3.67288153 3.51550096 5.28313335\n",
            " 3.42580261 5.80698855 2.83530978 3.17135981 2.26508938 1.67348527]\n",
            "2023-10-02 01:29:11,710 - pyswarms.single.global_best - INFO - Optimize for 1 iters with {'c1': 0.5, 'c2': 0.3, 'w': 0.9}\n"
          ]
        },
        {
          "output_type": "stream",
          "name": "stdout",
          "text": [
            "\n",
            "=========================================================================\n",
            "\n",
            "Número de ciclos de manutenção: 14 5\n",
            "Tempos para manutenções preventivas: [0, 84, 97, 148, 160, 227, 241, 304, 403, 470, 495, 518, 594, 634, 711]\n",
            "Severidade para cada subsistema: [0.5, 0.5, 0.25, 0.5, 0.5, 0.5, 0.5, 0.75, 0.5, 0.5, 0.75, 0.75, 0.5, 0.25]\n",
            "Número de Sisemas: 5\n",
            "Fator:  [0.3296799539643607, 0.6321205588285577, 0.6321205588285577, 0.3934693402873666, 0.6321205588285577, 0.6321205588285577, 0.6321205588285577, 0.6321205588285577, 0.7768698398515702, 0.6321205588285577, 0.6321205588285577, 0.7768698398515702, 0.7768698398515702, 0.6321205588285577, 0.3934693402873666]\n",
            "Media de falhas:  [0, 1338278.2156800001, 1668881.3076060943, 3216584.296709452, 3477956.3774149236, 38739404.399389125, 40260567.62847409, 64181443.79185197, 191894631.24417084, 316858987.23423135, 324622501.54415286, 376685264.51524025, 726935192.5160351, 762778885.9945484, 903890189.4262948, 536884121.1373448]\n",
            "Custo =  69924251764.28372\n"
          ]
        },
        {
          "output_type": "stream",
          "name": "stderr",
          "text": [
            "pyswarms.single.global_best: 100%|██████████|1/1, best_cost=4.41e+10\n",
            "2023-10-02 01:29:11,722 - pyswarms.single.global_best - INFO - Optimization finished | best cost: 44078952820.113815, best pos: [2.27181201 4.62688381 0.34056147 3.24490519 1.9750994  1.55877849\n",
            " 6.21111346 3.56682023 2.59651273 3.67828743 3.17518373 4.80858445\n",
            " 0.290273   5.43348603 2.37160513 3.67287996 3.51538577 5.2831729\n",
            " 3.23935048 5.80679987 2.84412765 3.17137605 2.26505193 1.67352461]\n"
          ]
        },
        {
          "output_type": "stream",
          "name": "stdout",
          "text": [
            "\n",
            "=========================================================================\n",
            "\n",
            "Número de ciclos de manutenção: 12 5\n",
            "Tempos para manutenções preventivas: [0, 97, 148, 227, 303, 384, 403, 470, 495, 518, 594, 635, 710]\n",
            "Severidade para cada subsistema: [0.5, 0.25, 0.5, 0.5, 0.75, 0.75, 0.5, 0.5, 0.75, 0.75, 0.5, 0.25]\n",
            "Número de Sisemas: 5\n",
            "Fator:  [0.3296799539643607, 0.6321205588285577, 0.3934693402873666, 0.6321205588285577, 0.6321205588285577, 0.7768698398515702, 0.7768698398515702, 0.6321205588285577, 0.6321205588285577, 0.7768698398515702, 0.7768698398515702, 0.6321205588285577, 0.3934693402873666]\n",
            "Media de falhas:  [0, 2747948.88224, 9103246.588732794, 22492065.7333936, 149218705.08923897, 228227574.05183533, 244059009.1586515, 272625870.7604479, 280389385.0703694, 332452148.0414568, 682702076.0422516, 719980288.7853259, 854576764.8804007, 490842106.22123474]\n",
            "Custo =  69672457687.03769\n"
          ]
        },
        {
          "output_type": "stream",
          "name": "stderr",
          "text": [
            "2023-10-02 01:29:11,724 - pyswarms.single.global_best - INFO - Optimize for 1 iters with {'c1': 0.5, 'c2': 0.3, 'w': 0.9}\n",
            "pyswarms.single.global_best: 100%|██████████|1/1, best_cost=4.41e+10\n",
            "2023-10-02 01:29:11,739 - pyswarms.single.global_best - INFO - Optimization finished | best cost: 44078952820.113815, best pos: [2.27186597 4.62689451 0.34054427 3.24047753 1.97509931 1.55664608\n",
            " 6.21105571 3.56660014 2.59649874 5.78595539 3.17494741 4.8088424\n",
            " 0.29019626 5.43389758 2.37095021 3.67287867 3.51510894 5.28320576\n",
            " 3.00319214 5.80657708 2.8605055  3.17139086 2.26502147 1.67356295]\n",
            "2023-10-02 01:29:11,740 - pyswarms.single.global_best - INFO - Optimize for 1 iters with {'c1': 0.5, 'c2': 0.3, 'w': 0.9}\n"
          ]
        },
        {
          "output_type": "stream",
          "name": "stdout",
          "text": [
            "\n",
            "=========================================================================\n",
            "\n",
            "Número de ciclos de manutenção: 13 5\n",
            "Tempos para manutenções preventivas: [0, 85, 97, 148, 227, 303, 375, 404, 470, 495, 518, 594, 635, 709]\n",
            "Severidade para cada subsistema: [0.25, 0.5, 0.25, 0.5, 0.5, 0.75, 0.75, 0.5, 0.5, 0.75, 0.75, 0.5, 0.25]\n",
            "Número de Sisemas: 5\n",
            "Fator:  [0.3296799539643607, 0.3934693402873666, 0.6321205588285577, 0.3934693402873666, 0.6321205588285577, 0.6321205588285577, 0.7768698398515702, 0.7768698398515702, 0.6321205588285577, 0.6321205588285577, 0.7768698398515702, 0.7768698398515702, 0.6321205588285577, 0.3934693402873666]\n",
            "Media de falhas:  [0, 1419857.0, 1727364.0738735783, 6616538.909982627, 20005358.05464343, 146731997.41048878, 207744250.48413104, 233263990.13414934, 261061121.44695976, 268824635.75688124, 320887398.72796863, 671137326.7287633, 708415539.4718376, 839517007.6395233, 479047163.1964777]\n",
            "Custo =  69177210694.52591\n"
          ]
        },
        {
          "output_type": "stream",
          "name": "stderr",
          "text": [
            "pyswarms.single.global_best: 100%|██████████|1/1, best_cost=4.41e+10\n",
            "2023-10-02 01:29:11,751 - pyswarms.single.global_best - INFO - Optimization finished | best cost: 44078952820.113815, best pos: [2.27186525 4.6269246  0.34053178 3.23751602 1.97509877 1.55543132\n",
            " 6.21095898 3.56638683 2.59648374 0.48173503 3.17477162 4.80910988\n",
            " 0.29012399 5.43424434 2.3705441  3.67287798 3.51467421 5.2832268\n",
            " 2.76777589 5.80624438 2.87742997 3.1714036  2.26499671 1.6735971 ]\n",
            "2023-10-02 01:29:11,753 - pyswarms.single.global_best - INFO - Optimize for 1 iters with {'c1': 0.5, 'c2': 0.3, 'w': 0.9}\n"
          ]
        },
        {
          "output_type": "stream",
          "name": "stdout",
          "text": [
            "\n",
            "=========================================================================\n",
            "\n",
            "Número de ciclos de manutenção: 14 5\n",
            "Tempos para manutenções preventivas: [0, 97, 148, 179, 183, 227, 303, 381, 404, 470, 495, 518, 594, 635, 709]\n",
            "Severidade para cada subsistema: [0.5, 0.25, 0.25, 0.25, 0.5, 0.5, 0.75, 0.75, 0.5, 0.5, 0.75, 0.75, 0.5, 0.25]\n",
            "Número de Sisemas: 5\n",
            "Fator:  [0.3296799539643607, 0.6321205588285577, 0.3934693402873666, 0.3934693402873666, 0.3934693402873666, 0.6321205588285577, 0.6321205588285577, 0.7768698398515702, 0.7768698398515702, 0.6321205588285577, 0.6321205588285577, 0.7768698398515702, 0.7768698398515702, 0.6321205588285577, 0.3934693402873666]\n",
            "Media de falhas:  [0, 2747948.88224, 9103246.588732794, 10407656.474228, 11364844.85831468, 34598482.157930404, 161325121.51377577, 233949409.38056704, 253642964.8886319, 281440096.2014423, 289203610.5113638, 341266373.4824512, 691516301.483246, 728794514.2263203, 859895982.3940059, 499426137.95096034]\n",
            "Custo =  72035687643.82565\n"
          ]
        },
        {
          "output_type": "stream",
          "name": "stderr",
          "text": [
            "pyswarms.single.global_best: 100%|██████████|1/1, best_cost=4.41e+10\n",
            "2023-10-02 01:29:11,764 - pyswarms.single.global_best - INFO - Optimization finished | best cost: 44078952820.113815, best pos: [2.27182371 4.62696626 0.34052834 3.23581277 1.97509812 1.5543399\n",
            " 6.21084256 3.56619729 2.59646991 2.19841095 3.17483925 4.80934296\n",
            " 0.29006142 5.43445087 2.37028682 3.67287756 3.51421274 5.28322406\n",
            " 2.54076581 5.80556849 2.89317628 3.17141207 2.26497994 1.67362353]\n",
            "2023-10-02 01:29:11,765 - pyswarms.single.global_best - INFO - Optimize for 1 iters with {'c1': 0.5, 'c2': 0.3, 'w': 0.9}\n"
          ]
        },
        {
          "output_type": "stream",
          "name": "stdout",
          "text": [
            "\n",
            "=========================================================================\n",
            "\n",
            "Número de ciclos de manutenção: 12 5\n",
            "Tempos para manutenções preventivas: [0, 97, 149, 227, 304, 386, 404, 470, 495, 518, 594, 635, 708]\n",
            "Severidade para cada subsistema: [0.5, 0.25, 0.5, 0.5, 0.75, 0.75, 0.5, 0.5, 0.75, 0.75, 0.5, 0.25]\n",
            "Número de Sisemas: 5\n",
            "Fator:  [0.3296799539643607, 0.6321205588285577, 0.3934693402873666, 0.6321205588285577, 0.6321205588285577, 0.7768698398515702, 0.7768698398515702, 0.6321205588285577, 0.6321205588285577, 0.7768698398515702, 0.7768698398515702, 0.6321205588285577, 0.3934693402873666]\n",
            "Media de falhas:  [0, 2747948.88224, 9398200.019114291, 22464067.167024262, 152557839.92998976, 234521520.5059957, 249601226.80262968, 277398358.1154401, 285161872.4253616, 337224635.39644897, 687474563.3972437, 724752776.140318, 852423454.9295139, 495212005.7356658]\n",
            "Custo =  69680357283.2781\n"
          ]
        },
        {
          "output_type": "stream",
          "name": "stderr",
          "text": [
            "pyswarms.single.global_best: 100%|██████████|1/1, best_cost=4.41e+10\n",
            "2023-10-02 01:29:11,777 - pyswarms.single.global_best - INFO - Optimization finished | best cost: 44078952820.113815, best pos: [2.27171071 4.62700639 0.34053132 3.23586312 1.97509745 1.55435296\n",
            " 6.21072352 3.56603825 2.59645883 4.16516763 3.17497526 4.8094592\n",
            " 0.2900086  5.43454536 2.37016655 3.67287723 3.51380126 5.28321692\n",
            " 2.36047891 5.80488542 2.90373597 3.1714192  2.26498255 1.67364496]\n",
            "2023-10-02 01:29:11,778 - pyswarms.single.global_best - INFO - Optimize for 1 iters with {'c1': 0.5, 'c2': 0.3, 'w': 0.9}\n"
          ]
        },
        {
          "output_type": "stream",
          "name": "stdout",
          "text": [
            "\n",
            "=========================================================================\n",
            "\n",
            "Número de ciclos de manutenção: 14 5\n",
            "Tempos para manutenções preventivas: [0, 97, 149, 153, 187, 227, 304, 372, 403, 470, 495, 518, 594, 635, 708]\n",
            "Severidade para cada subsistema: [0.5, 0.25, 0.5, 0.25, 0.5, 0.5, 0.75, 0.75, 0.5, 0.5, 0.75, 0.75, 0.5, 0.25]\n",
            "Número de Sisemas: 5\n",
            "Fator:  [0.3296799539643607, 0.6321205588285577, 0.3934693402873666, 0.6321205588285577, 0.3934693402873666, 0.6321205588285577, 0.6321205588285577, 0.7768698398515702, 0.7768698398515702, 0.6321205588285577, 0.6321205588285577, 0.7768698398515702, 0.7768698398515702, 0.6321205588285577, 0.3934693402873666]\n",
            "Media de falhas:  [0, 2747948.88224, 9398200.019114291, 9465046.37547308, 17751733.593329586, 22135814.083862096, 152229586.8468276, 206821557.4139351, 234097044.79375717, 262663906.39555356, 270427420.70547503, 322490183.6765624, 672740111.6773572, 710018324.4204315, 837689003.2096274, 480477554.01577926]\n",
            "Custo =  69892718053.30122\n"
          ]
        },
        {
          "output_type": "stream",
          "name": "stderr",
          "text": [
            "pyswarms.single.global_best:   0%|          |0/1, best_cost=4.41e+10"
          ]
        },
        {
          "output_type": "stream",
          "name": "stdout",
          "text": [
            "\n",
            "=========================================================================\n",
            "\n",
            "Número de ciclos de manutenção: 11 5\n",
            "Tempos para manutenções preventivas: [0, 97, 149, 226, 305, 403, 470, 495, 518, 594, 635, 708]\n",
            "Severidade para cada subsistema: [0.5, 0.25, 0.5, 0.5, 0.75, 0.5, 0.5, 0.75, 0.75, 0.5, 0.25]\n",
            "Número de Sisemas: 5\n",
            "Fator:  [0.3296799539643607, 0.6321205588285577, 0.3934693402873666, 0.6321205588285577, 0.6321205588285577, 0.7768698398515702, 0.6321205588285577, 0.6321205588285577, 0.7768698398515702, 0.7768698398515702, 0.6321205588285577, 0.3934693402873666]\n",
            "Media de falhas:  [0, 2747948.88224, 9398200.019114291, 21973660.841152612, 157210895.66243422, 282844896.336812, 407809252.32687247, 415572766.636794, 467635529.60788137, 817885457.6086762, 855163670.3517505, 982834349.1409464, 625622899.9470983]\n",
            "Custo =  73307447848.09413\n"
          ]
        },
        {
          "output_type": "stream",
          "name": "stderr",
          "text": [
            "\rpyswarms.single.global_best: 100%|██████████|1/1, best_cost=4.41e+10\n",
            "2023-10-02 01:29:11,795 - pyswarms.single.global_best - INFO - Optimization finished | best cost: 44078952820.113815, best pos: [2.27157023 4.6270429  0.3405383  3.23760125 1.97509686 1.55546759\n",
            " 6.21061513 3.56593241 2.59645347 6.08029295 3.17539459 4.80945464\n",
            " 0.28998432 5.43451374 2.37053118 3.6728777  3.51349954 5.28319655\n",
            " 2.2803968  5.80428212 2.90752908 3.1714205  2.26498568 1.67364194]\n",
            "2023-10-02 01:29:11,796 - pyswarms.single.global_best - INFO - Optimize for 1 iters with {'c1': 0.5, 'c2': 0.3, 'w': 0.9}\n",
            "pyswarms.single.global_best: 100%|██████████|1/1, best_cost=4.41e+10\n",
            "2023-10-02 01:29:11,807 - pyswarms.single.global_best - INFO - Optimization finished | best cost: 44078952820.113815, best pos: [2.27139473 4.62707376 0.34054624 3.23992391 1.97509654 1.55703873\n",
            " 6.21053071 3.56585416 2.59645419 0.69117745 3.17588968 4.80944383\n",
            " 0.28998937 5.43429797 2.3708692  3.67287859 3.51340435 5.2831689\n",
            " 2.27546449 5.80376604 2.90449808 3.17141138 2.26499035 1.67363621]\n",
            "2023-10-02 01:29:11,809 - pyswarms.single.global_best - INFO - Optimize for 1 iters with {'c1': 0.5, 'c2': 0.3, 'w': 0.9}\n"
          ]
        },
        {
          "output_type": "stream",
          "name": "stdout",
          "text": [
            "\n",
            "=========================================================================\n",
            "\n",
            "Número de ciclos de manutenção: 11 5\n",
            "Tempos para manutenções preventivas: [0, 97, 192, 226, 305, 403, 470, 495, 518, 594, 635, 709]\n",
            "Severidade para cada subsistema: [0.5, 0.25, 0.5, 0.5, 0.75, 0.5, 0.5, 0.75, 0.75, 0.5, 0.25]\n",
            "Número de Sisemas: 5\n",
            "Fator:  [0.3296799539643607, 0.6321205588285577, 0.3934693402873666, 0.6321205588285577, 0.6321205588285577, 0.7768698398515702, 0.6321205588285577, 0.6321205588285577, 0.7768698398515702, 0.7768698398515702, 0.6321205588285577, 0.3934693402873666]\n",
            "Media de falhas:  [0, 2747948.88224, 35952558.96889637, 39403175.141998746, 174640409.96328035, 300274410.6376581, 425238766.62771857, 433002280.9376401, 485065043.90872747, 835314971.9095223, 872593184.6525966, 1003694652.8202822, 643224808.3772366]\n",
            "Custo =  74035772827.0116\n"
          ]
        },
        {
          "output_type": "stream",
          "name": "stderr",
          "text": [
            "pyswarms.single.global_best: 100%|██████████|1/1, best_cost=4.41e+10\n",
            "2023-10-02 01:29:11,820 - pyswarms.single.global_best - INFO - Optimization finished | best cost: 44078952820.113815, best pos: [2.27123642 4.6270953  0.34055821 3.2432263  1.97509643 1.55874489\n",
            " 6.21048638 3.56589567 2.59645654 2.45956975 3.17639137 4.80933709\n",
            " 0.29000519 5.43403285 2.37121237 3.67287983 3.51353767 5.2831433\n",
            " 2.34909634 5.80345584 2.89652282 3.17139871 2.26500884 1.67362227]\n",
            "2023-10-02 01:29:11,822 - pyswarms.single.global_best - INFO - Optimize for 1 iters with {'c1': 0.5, 'c2': 0.3, 'w': 0.9}\n"
          ]
        },
        {
          "output_type": "stream",
          "name": "stdout",
          "text": [
            "\n",
            "=========================================================================\n",
            "\n",
            "Número de ciclos de manutenção: 14 5\n",
            "Tempos para manutenções preventivas: [0, 62, 97, 173, 187, 226, 306, 388, 402, 470, 495, 518, 594, 635, 709]\n",
            "Severidade para cada subsistema: [0.25, 0.5, 0.25, 0.75, 0.5, 0.5, 0.5, 0.75, 0.5, 0.5, 0.75, 0.75, 0.5, 0.25]\n",
            "Número de Sisemas: 5\n",
            "Fator:  [0.3296799539643607, 0.3934693402873666, 0.6321205588285577, 0.3934693402873666, 0.7768698398515702, 0.6321205588285577, 0.6321205588285577, 0.6321205588285577, 0.7768698398515702, 0.6321205588285577, 0.6321205588285577, 0.7768698398515702, 0.7768698398515702, 0.6321205588285577, 0.3934693402873666]\n",
            "Media de falhas:  [0, 293162.50624, 1095183.046249879, 15130243.979741732, 15699073.449999932, 36018111.845926195, 47991747.50074753, 131443336.0985509, 142753310.80873716, 270184791.11384654, 277948305.42376804, 330011068.39485544, 680260996.3956501, 717539209.1387244, 848640677.3064101, 488170832.8633645]\n",
            "Custo =  71175150523.03784\n"
          ]
        },
        {
          "output_type": "stream",
          "name": "stderr",
          "text": [
            "pyswarms.single.global_best:   0%|          |0/1, best_cost=4.41e+10"
          ]
        },
        {
          "output_type": "stream",
          "name": "stdout",
          "text": [
            "\n",
            "=========================================================================\n",
            "\n",
            "Número de ciclos de manutenção: 11 5\n",
            "Tempos para manutenções preventivas: [0, 97, 209, 226, 306, 402, 470, 495, 518, 594, 635, 710]\n",
            "Severidade para cada subsistema: [0.5, 0.25, 0.5, 0.5, 0.75, 0.5, 0.5, 0.75, 0.75, 0.5, 0.25]\n",
            "Número de Sisemas: 5\n",
            "Fator:  [0.3296799539643607, 0.6321205588285577, 0.3934693402873666, 0.6321205588285577, 0.6321205588285577, 0.7768698398515702, 0.6321205588285577, 0.6321205588285577, 0.7768698398515702, 0.7768698398515702, 0.6321205588285577, 0.3934693402873666]\n",
            "Media de falhas:  [0, 2747948.88224, 58001624.23041911, 59476187.70939026, 198233606.4671087, 318753909.391114, 446185389.6962234, 453948904.0061449, 506011666.9772323, 856261594.9780271, 893539807.7211014, 1028136283.8161762, 664401625.1570103]\n",
            "Custo =  74661995246.78522\n"
          ]
        },
        {
          "output_type": "stream",
          "name": "stderr",
          "text": [
            "\rpyswarms.single.global_best: 100%|██████████|1/1, best_cost=4.41e+10\n",
            "2023-10-02 01:29:11,838 - pyswarms.single.global_best - INFO - Optimization finished | best cost: 44078952820.113815, best pos: [2.27110791 4.62709919 0.34056946 3.24652196 1.97509635 1.56028441\n",
            " 6.21049916 3.56597463 2.59646176 4.34819118 3.17682223 4.80914724\n",
            " 0.29004772 5.43368974 2.37165299 3.67288108 3.51377772 5.28312105\n",
            " 2.4293487  5.80352389 2.88880371 3.17138614 2.26503266 1.67360397]\n",
            "2023-10-02 01:29:11,840 - pyswarms.single.global_best - INFO - Optimize for 1 iters with {'c1': 0.5, 'c2': 0.3, 'w': 0.9}\n",
            "pyswarms.single.global_best: 100%|██████████|1/1, best_cost=4.41e+10\n",
            "2023-10-02 01:29:11,854 - pyswarms.single.global_best - INFO - Optimization finished | best cost: 44078952820.113815, best pos: [2.27100942 4.62709175 0.34057847 3.24959445 1.97509635 1.56152815\n",
            " 6.21055732 3.56612236 2.5964691  6.12042495 3.17718886 4.80896065\n",
            " 0.29009146 5.43337837 2.37209626 3.67288214 3.51403644 5.28310302\n",
            " 2.50457047 5.80400321 2.87983732 3.17137456 2.26506303 1.67358716]\n",
            "2023-10-02 01:29:11,856 - pyswarms.single.global_best - INFO - Optimize for 1 iters with {'c1': 0.5, 'c2': 0.3, 'w': 0.9}\n"
          ]
        },
        {
          "output_type": "stream",
          "name": "stdout",
          "text": [
            "\n",
            "=========================================================================\n",
            "\n",
            "Número de ciclos de manutenção: 12 5\n",
            "Tempos para manutenções preventivas: [0, 97, 169, 190, 226, 306, 402, 470, 495, 518, 594, 635, 710]\n",
            "Severidade para cada subsistema: [0.5, 0.5, 0.75, 0.5, 0.5, 0.75, 0.5, 0.5, 0.75, 0.75, 0.5, 0.25]\n",
            "Número de Sisemas: 5\n",
            "Fator:  [0.3296799539643607, 0.6321205588285577, 0.6321205588285577, 0.7768698398515702, 0.6321205588285577, 0.6321205588285577, 0.7768698398515702, 0.6321205588285577, 0.6321205588285577, 0.7768698398515702, 0.7768698398515702, 0.6321205588285577, 0.3934693402873666]\n",
            "Media de falhas:  [0, 2747948.88224, 17831671.427484028, 18808007.909415938, 22535701.047574423, 34509336.70239576, 155029639.6264011, 282461119.93151045, 290224634.24143195, 342287397.21251935, 692537325.213314, 729815537.9563884, 864412014.0514631, 500677355.3922972]\n",
            "Custo =  67440646481.746254\n"
          ]
        },
        {
          "output_type": "stream",
          "name": "stderr",
          "text": [
            "pyswarms.single.global_best: 100%|██████████|1/1, best_cost=4.41e+10\n",
            "2023-10-02 01:29:11,867 - pyswarms.single.global_best - INFO - Optimization finished | best cost: 44078952820.113815, best pos: [2.27092215 4.62708503 0.34058472 3.25189271 1.97509664 1.56234138\n",
            " 6.21065364 3.56634024 2.5964776  0.32445209 3.17737294 4.80879549\n",
            " 0.29013293 5.43311657 2.37247701 3.67288288 3.51431106 5.28310029\n",
            " 2.59817322 5.80453928 2.87159969 3.17136531 2.26509332 1.67356908]\n",
            "2023-10-02 01:29:11,868 - pyswarms.single.global_best - INFO - Optimize for 1 iters with {'c1': 0.5, 'c2': 0.3, 'w': 0.9}\n"
          ]
        },
        {
          "output_type": "stream",
          "name": "stdout",
          "text": [
            "\n",
            "=========================================================================\n",
            "\n",
            "Número de ciclos de manutenção: 11 5\n",
            "Tempos para manutenções preventivas: [0, 97, 192, 226, 306, 402, 470, 495, 518, 594, 635, 710]\n",
            "Severidade para cada subsistema: [0.5, 0.25, 0.5, 0.5, 0.75, 0.5, 0.5, 0.75, 0.75, 0.5, 0.25]\n",
            "Número de Sisemas: 5\n",
            "Fator:  [0.3296799539643607, 0.6321205588285577, 0.3934693402873666, 0.6321205588285577, 0.6321205588285577, 0.7768698398515702, 0.6321205588285577, 0.6321205588285577, 0.7768698398515702, 0.7768698398515702, 0.6321205588285577, 0.3934693402873666]\n",
            "Media de falhas:  [0, 2747948.88224, 35952558.96889637, 39403175.141998746, 178160593.89971718, 298680896.8237225, 426112377.12883186, 433875891.43875337, 485938654.40984076, 836188582.4106355, 873466795.1537098, 1008063271.2487845, 644328612.5896187]\n",
            "Custo =  74145737161.13365\n"
          ]
        },
        {
          "output_type": "stream",
          "name": "stderr",
          "text": [
            "pyswarms.single.global_best: 100%|██████████|1/1, best_cost=4.41e+10\n",
            "2023-10-02 01:29:11,880 - pyswarms.single.global_best - INFO - Optimization finished | best cost: 44078952820.113815, best pos: [2.27096044 4.62707866 0.34058787 3.25315854 1.97509718 1.56256607\n",
            " 6.21074344 3.56655257 2.59648498 2.10989153 3.17717317 4.80867775\n",
            " 0.29017874 5.43295413 2.37268245 3.67288332 3.51455703 5.28311224\n",
            " 2.69026073 5.80507487 2.86591426 3.17135976 2.26511509 1.67355148]\n",
            "2023-10-02 01:29:11,881 - pyswarms.single.global_best - INFO - Optimize for 1 iters with {'c1': 0.5, 'c2': 0.3, 'w': 0.9}\n"
          ]
        },
        {
          "output_type": "stream",
          "name": "stdout",
          "text": [
            "\n",
            "=========================================================================\n",
            "\n",
            "Número de ciclos de manutenção: 13 5\n",
            "Tempos para manutenções preventivas: [0, 97, 161, 193, 226, 305, 376, 402, 470, 495, 518, 594, 635, 711]\n",
            "Severidade para cada subsistema: [0.5, 0.75, 0.75, 0.5, 0.5, 0.75, 0.75, 0.5, 0.5, 0.75, 0.75, 0.5, 0.25]\n",
            "Número de Sisemas: 5\n",
            "Fator:  [0.3296799539643607, 0.6321205588285577, 0.7768698398515702, 0.7768698398515702, 0.6321205588285577, 0.6321205588285577, 0.7768698398515702, 0.7768698398515702, 0.6321205588285577, 0.6321205588285577, 0.7768698398515702, 0.7768698398515702, 0.6321205588285577, 0.3934693402873666]\n",
            "Media de falhas:  [0, 2747948.88224, 13816758.322774243, 15605626.289730087, 16373028.435315922, 27890694.317167718, 88241147.84033577, 110376051.63675508, 139727337.3446534, 147490851.6545749, 199553614.62566227, 549803542.626457, 587081755.3695313, 725238355.298029, 358232287.009079]\n",
            "Custo =  63101367246.91652\n"
          ]
        },
        {
          "output_type": "stream",
          "name": "stderr",
          "text": [
            "pyswarms.single.global_best: 100%|██████████|1/1, best_cost=4.41e+10\n",
            "2023-10-02 01:29:11,893 - pyswarms.single.global_best - INFO - Optimization finished | best cost: 44078952820.113815, best pos: [2.27109795 4.62707211 0.34058713 3.25297165 1.97509768 1.56259612\n",
            " 6.21081615 3.56672303 2.59649136 3.92731836 3.17676541 4.80857701\n",
            " 0.29022006 5.43285756 2.37283414 3.67288289 3.51469071 5.28312558\n",
            " 2.77159011 5.80552929 2.86347101 3.17135836 2.26512409 1.67353642]\n",
            "2023-10-02 01:29:11,894 - pyswarms.single.global_best - INFO - Optimize for 1 iters with {'c1': 0.5, 'c2': 0.3, 'w': 0.9}\n"
          ]
        },
        {
          "output_type": "stream",
          "name": "stdout",
          "text": [
            "\n",
            "=========================================================================\n",
            "\n",
            "Número de ciclos de manutenção: 12 5\n",
            "Tempos para manutenções preventivas: [0, 97, 149, 226, 240, 305, 402, 470, 495, 518, 594, 635, 711]\n",
            "Severidade para cada subsistema: [0.5, 0.25, 0.5, 0.5, 0.5, 0.75, 0.5, 0.5, 0.75, 0.75, 0.5, 0.25]\n",
            "Número de Sisemas: 5\n",
            "Fator:  [0.3296799539643607, 0.6321205588285577, 0.3934693402873666, 0.6321205588285577, 0.6321205588285577, 0.6321205588285577, 0.7768698398515702, 0.6321205588285577, 0.6321205588285577, 0.7768698398515702, 0.7768698398515702, 0.6321205588285577, 0.3934693402873666]\n",
            "Media de falhas:  [0, 2747948.88224, 9398200.019114291, 21973660.841152612, 31671159.730908006, 57039638.285472736, 179579460.2309823, 307010940.5360917, 314774454.8460132, 366837217.8171006, 717087145.8178954, 754365358.5609697, 892521958.4894674, 525515890.2005174]\n",
            "Custo =  71023661921.69319\n"
          ]
        },
        {
          "output_type": "stream",
          "name": "stderr",
          "text": [
            "pyswarms.single.global_best: 100%|██████████|1/1, best_cost=4.41e+10\n",
            "2023-10-02 01:29:11,905 - pyswarms.single.global_best - INFO - Optimization finished | best cost: 44078952820.113815, best pos: [2.27123362 4.62705134 0.34058616 3.25271798 1.9750981  1.56208669\n",
            " 6.21087572 3.56680879 2.59649316 5.71701417 3.17637557 4.80850516\n",
            " 0.29025319 5.43283413 2.37289508 3.67288201 3.51471903 5.28314424\n",
            " 2.83271499 5.80587875 2.86318984 3.17136402 2.2651291  1.67352352]\n",
            "2023-10-02 01:29:11,907 - pyswarms.single.global_best - INFO - Optimize for 1 iters with {'c1': 0.5, 'c2': 0.3, 'w': 0.9}\n"
          ]
        },
        {
          "output_type": "stream",
          "name": "stdout",
          "text": [
            "\n",
            "=========================================================================\n",
            "\n",
            "Número de ciclos de manutenção: 14 5\n",
            "Tempos para manutenções preventivas: [0, 89, 97, 149, 204, 226, 241, 304, 402, 470, 495, 518, 594, 635, 711]\n",
            "Severidade para cada subsistema: [0.25, 0.5, 0.25, 0.75, 0.5, 0.5, 0.5, 0.75, 0.5, 0.5, 0.75, 0.75, 0.5, 0.25]\n",
            "Número de Sisemas: 5\n",
            "Fator:  [0.3296799539643607, 0.3934693402873666, 0.6321205588285577, 0.3934693402873666, 0.7768698398515702, 0.6321205588285577, 0.6321205588285577, 0.6321205588285577, 0.7768698398515702, 0.6321205588285577, 0.6321205588285577, 0.7768698398515702, 0.7768698398515702, 0.6321205588285577, 0.3934693402873666]\n",
            "Media de falhas:  [0, 1786899.02368, 1998760.718345609, 7125054.90179803, 12076924.274053006, 23830884.978897214, 24110199.152068865, 48031075.31544674, 172612607.37780985, 300044087.6829192, 307807601.9928407, 359870364.9639281, 710120292.9647229, 747398505.7077972, 885555105.6362948, 518549037.3473449]\n",
            "Custo =  70116498153.45825\n"
          ]
        },
        {
          "output_type": "stream",
          "name": "stderr",
          "text": [
            "pyswarms.single.global_best:   0%|          |0/1, best_cost=4.41e+10"
          ]
        },
        {
          "output_type": "stream",
          "name": "stdout",
          "text": [
            "\n",
            "=========================================================================\n",
            "\n",
            "Número de ciclos de manutenção: 13 5\n",
            "Tempos para manutenções preventivas: [0, 78, 97, 148, 227, 240, 304, 402, 470, 495, 518, 594, 635, 710]\n",
            "Severidade para cada subsistema: [0.5, 0.5, 0.25, 0.5, 0.5, 0.5, 0.75, 0.5, 0.5, 0.75, 0.75, 0.5, 0.25]\n",
            "Número de Sisemas: 5\n",
            "Fator:  [0.3296799539643607, 0.6321205588285577, 0.6321205588285577, 0.3934693402873666, 0.6321205588285577, 0.6321205588285577, 0.6321205588285577, 0.7768698398515702, 0.6321205588285577, 0.6321205588285577, 0.7768698398515702, 0.7768698398515702, 0.6321205588285577, 0.3934693402873666]\n",
            "Media de falhas:  [0, 923895.7977600001, 1387893.1152832354, 2935596.104386593, 16324415.249047399, 25349995.372143313, 49846464.60710332, 174427996.66946644, 301859476.9745758, 309622991.2844973, 361685754.2555847, 711935682.2563795, 749213894.9994538, 883810371.0945287, 520075712.43536276]\n",
            "Custo =  70606283931.25267\n"
          ]
        },
        {
          "output_type": "stream",
          "name": "stderr",
          "text": [
            "\rpyswarms.single.global_best: 100%|██████████|1/1, best_cost=4.41e+10\n",
            "2023-10-02 01:29:11,920 - pyswarms.single.global_best - INFO - Optimization finished | best cost: 44078952820.113815, best pos: [2.27135665 4.62702515 0.34057964 3.25183114 1.97509842 1.56131726\n",
            " 6.21090772 3.56680482 2.59649003 0.10783144 3.17601948 4.80849548\n",
            " 0.29026479 5.43294519 2.37277949 3.67288111 3.51474043 5.28316332\n",
            " 2.86583426 5.80598542 2.86422446 3.171371   2.26512984 1.67351325]\n",
            "2023-10-02 01:29:11,922 - pyswarms.single.global_best - INFO - Optimize for 1 iters with {'c1': 0.5, 'c2': 0.3, 'w': 0.9}\n",
            "pyswarms.single.global_best: 100%|██████████|1/1, best_cost=4.41e+10\n",
            "2023-10-02 01:29:11,934 - pyswarms.single.global_best - INFO - Optimization finished | best cost: 44078952820.113815, best pos: [2.27147138 4.62700101 0.34057123 3.24990885 1.97509854 1.56012584\n",
            " 6.21089729 3.56677501 2.5964855  1.62350868 3.17570279 4.8085605\n",
            " 0.29025311 5.43306681 2.37257595 3.67288024 3.51472826 5.28317923\n",
            " 2.84832795 5.80599022 2.86683088 3.17137938 2.26512576 1.67350884]\n"
          ]
        },
        {
          "output_type": "stream",
          "name": "stdout",
          "text": [
            "\n",
            "=========================================================================\n",
            "\n",
            "Número de ciclos de manutenção: 14 5\n",
            "Tempos para manutenções preventivas: [0, 70, 97, 148, 162, 195, 227, 304, 402, 470, 495, 518, 594, 635, 710]\n",
            "Severidade para cada subsistema: [0.75, 0.5, 0.25, 0.75, 0.75, 0.5, 0.5, 0.75, 0.5, 0.5, 0.75, 0.75, 0.5, 0.25]\n",
            "Número de Sisemas: 5\n",
            "Fator:  [0.3296799539643607, 0.7768698398515702, 0.6321205588285577, 0.3934693402873666, 0.7768698398515702, 0.7768698398515702, 0.6321205588285577, 0.6321205588285577, 0.7768698398515702, 0.6321205588285577, 0.6321205588285577, 0.7768698398515702, 0.7768698398515702, 0.6321205588285577, 0.3934693402873666]\n",
            "Media de falhas:  [0, 537824.0, 1171404.3773286892, 1817232.1167827125, 2144851.7329006586, 11681504.080407197, 12417169.597225068, 23156336.99678193, 147737869.05914503, 275169349.3642544, 282932863.6741759, 334995626.6452633, 685245554.6460581, 722523767.3891324, 857120243.4842072, 493385584.82504123]\n",
            "Custo =  67428437977.89441\n"
          ]
        },
        {
          "output_type": "stream",
          "name": "stderr",
          "text": [
            "2023-10-02 01:29:11,936 - pyswarms.single.global_best - INFO - Optimize for 1 iters with {'c1': 0.5, 'c2': 0.3, 'w': 0.9}\n",
            "pyswarms.single.global_best: 100%|██████████|1/1, best_cost=4.41e+10\n",
            "2023-10-02 01:29:11,947 - pyswarms.single.global_best - INFO - Optimization finished | best cost: 44078952820.113815, best pos: [2.27156571 4.62698171 0.34056185 3.24755397 1.9750985  1.5588866\n",
            " 6.21087955 3.5667109  2.5964796  3.00868083 3.17546292 4.80870037\n",
            " 0.29023964 5.43330725 2.37230769 3.67287946 3.51470503 5.2831911\n",
            " 2.79733104 5.8058418  2.86989905 3.17138746 2.2651162  1.67350586]\n",
            "2023-10-02 01:29:11,948 - pyswarms.single.global_best - INFO - Optimize for 1 iters with {'c1': 0.5, 'c2': 0.3, 'w': 0.9}\n"
          ]
        },
        {
          "output_type": "stream",
          "name": "stdout",
          "text": [
            "\n",
            "=========================================================================\n",
            "\n",
            "Número de ciclos de manutenção: 13 5\n",
            "Tempos para manutenções preventivas: [0, 97, 148, 166, 196, 227, 304, 402, 470, 495, 518, 594, 635, 709]\n",
            "Severidade para cada subsistema: [0.5, 0.25, 0.25, 0.25, 0.5, 0.5, 0.75, 0.5, 0.5, 0.75, 0.75, 0.5, 0.25]\n",
            "Número de Sisemas: 5\n",
            "Fator:  [0.3296799539643607, 0.6321205588285577, 0.3934693402873666, 0.3934693402873666, 0.3934693402873666, 0.6321205588285577, 0.6321205588285577, 0.7768698398515702, 0.6321205588285577, 0.6321205588285577, 0.7768698398515702, 0.7768698398515702, 0.6321205588285577, 0.3934693402873666]\n",
            "Media de falhas:  [0, 2747948.88224, 9103246.588732794, 9588739.545380577, 18475073.336265683, 35080126.49798025, 165173899.26094574, 289755431.3233088, 417186911.6284182, 424950425.9383397, 477013188.9094271, 827263116.9102218, 864541329.6532961, 995642797.8209817, 635172953.3779361]\n",
            "Custo =  76068619499.65163\n"
          ]
        },
        {
          "output_type": "stream",
          "name": "stderr",
          "text": [
            "pyswarms.single.global_best: 100%|██████████|1/1, best_cost=4.41e+10\n",
            "2023-10-02 01:29:11,959 - pyswarms.single.global_best - INFO - Optimization finished | best cost: 44078952820.113815, best pos: [2.27160393 4.62696881 0.34055377 3.24547536 1.9750982  1.55779594\n",
            " 6.21083558 3.56658621 2.59647425 4.67571967 3.17527538 4.80890852\n",
            " 0.29021364 5.43354136 2.37203638 3.67287897 3.51467556 5.28320128\n",
            " 2.72505946 5.80560826 2.87505625 3.17139457 2.26509855 1.67351374]\n",
            "2023-10-02 01:29:11,960 - pyswarms.single.global_best - INFO - Optimize for 1 iters with {'c1': 0.5, 'c2': 0.3, 'w': 0.9}\n"
          ]
        },
        {
          "output_type": "stream",
          "name": "stdout",
          "text": [
            "\n",
            "=========================================================================\n",
            "\n",
            "Número de ciclos de manutenção: 13 5\n",
            "Tempos para manutenções preventivas: [0, 62, 97, 148, 152, 227, 304, 403, 470, 495, 518, 594, 635, 709]\n",
            "Severidade para cada subsistema: [0.5, 0.5, 0.25, 0.75, 0.5, 0.5, 0.75, 0.5, 0.5, 0.75, 0.75, 0.5, 0.25]\n",
            "Número de Sisemas: 5\n",
            "Fator:  [0.3296799539643607, 0.6321205588285577, 0.6321205588285577, 0.3934693402873666, 0.7768698398515702, 0.6321205588285577, 0.6321205588285577, 0.7768698398515702, 0.6321205588285577, 0.6321205588285577, 0.7768698398515702, 0.7768698398515702, 0.6321205588285577, 0.3934693402873666]\n",
            "Media de falhas:  [0, 293162.50624, 1095183.046249879, 2642886.035353237, 2708019.880878944, 42382533.00902255, 53121700.40857941, 180834887.86089826, 305799243.8509587, 313562758.1608802, 365625521.1319676, 715875449.1327624, 753153661.8758367, 884255130.0435224, 523785285.6004768]\n",
            "Custo =  68274118587.67361\n"
          ]
        },
        {
          "output_type": "stream",
          "name": "stderr",
          "text": [
            "pyswarms.single.global_best: 100%|██████████|1/1, best_cost=4.41e+10\n",
            "2023-10-02 01:29:11,972 - pyswarms.single.global_best - INFO - Optimization finished | best cost: 44078952820.113815, best pos: [2.27161767 4.62696428 0.34054903 3.24391227 1.97509781 1.55703791\n",
            " 6.21076911 3.56646575 2.5964697  6.2065105  3.17527171 4.80909923\n",
            " 0.29018519 5.43375424 2.37175536 3.67287888 3.51457717 5.28319852\n",
            " 2.64688    5.80524266 2.88086229 3.17140083 2.26507558 1.673531  ]\n",
            "2023-10-02 01:29:11,973 - pyswarms.single.global_best - INFO - Optimize for 1 iters with {'c1': 0.5, 'c2': 0.3, 'w': 0.9}\n"
          ]
        },
        {
          "output_type": "stream",
          "name": "stdout",
          "text": [
            "\n",
            "=========================================================================\n",
            "\n",
            "Número de ciclos de manutenção: 14 5\n",
            "Tempos para manutenções preventivas: [0, 76, 97, 148, 160, 227, 304, 388, 403, 470, 495, 518, 594, 635, 709]\n",
            "Severidade para cada subsistema: [0.75, 0.5, 0.25, 0.25, 0.5, 0.5, 0.25, 0.75, 0.5, 0.5, 0.75, 0.75, 0.5, 0.25]\n",
            "Número de Sisemas: 5\n",
            "Fator:  [0.3296799539643607, 0.7768698398515702, 0.6321205588285577, 0.3934693402873666, 0.3934693402873666, 0.6321205588285577, 0.6321205588285577, 0.3934693402873666, 0.7768698398515702, 0.6321205588285577, 0.6321205588285577, 0.7768698398515702, 0.7768698398515702, 0.6321205588285577, 0.3934693402873666]\n",
            "Media de falhas:  [0, 811368.1203200001, 1318344.740148345, 1964172.4796023683, 2225544.56030784, 37486992.58228204, 167580765.34524754, 254155963.66578823, 266443963.9873215, 924715567.084435, 932479081.3943565, 984541844.3654438, 1334791772.3662386, 1372069985.1093128, 1503171453.2769985, 1142701608.833953]\n",
            "Custo =  108522033567.2681\n"
          ]
        },
        {
          "output_type": "stream",
          "name": "stderr",
          "text": [
            "pyswarms.single.global_best: 100%|██████████|1/1, best_cost=4.41e+10\n",
            "2023-10-02 01:29:11,984 - pyswarms.single.global_best - INFO - Optimization finished | best cost: 44078952820.113815, best pos: [2.27156445 4.62697263 0.34054863 3.24336638 1.9750974  1.55687038\n",
            " 6.2107072  3.56635681 2.5964664  0.33883105 3.17545792 4.80925544\n",
            " 0.29015954 5.43391909 2.37150619 3.67287895 3.51444343 5.28319568\n",
            " 2.58501385 5.80487516 2.88573327 3.17140386 2.26505452 1.67355295]\n",
            "2023-10-02 01:29:11,986 - pyswarms.single.global_best - INFO - Optimize for 1 iters with {'c1': 0.5, 'c2': 0.3, 'w': 0.9}\n"
          ]
        },
        {
          "output_type": "stream",
          "name": "stdout",
          "text": [
            "\n",
            "=========================================================================\n",
            "\n",
            "Número de ciclos de manutenção: 15 5\n",
            "Tempos para manutenções preventivas: [0, 68, 97, 148, 150, 200, 227, 305, 388, 403, 470, 495, 518, 594, 635, 709]\n",
            "Severidade para cada subsistema: [0.25, 0.5, 0.25, 0.75, 0.5, 0.5, 0.5, 0.5, 0.75, 0.5, 0.5, 0.75, 0.75, 0.5, 0.25]\n",
            "Número de Sisemas: 5\n",
            "Fator:  [0.3296799539643607, 0.3934693402873666, 0.6321205588285577, 0.3934693402873666, 0.7768698398515702, 0.6321205588285577, 0.6321205588285577, 0.6321205588285577, 0.6321205588285577, 0.7768698398515702, 0.6321205588285577, 0.6321205588285577, 0.7768698398515702, 0.7768698398515702, 0.6321205588285577, 0.3934693402873666]\n",
            "Media de falhas:  [0, 465258.74176000006, 1140729.4082581406, 6029904.24436719, 6060167.680788864, 21886471.935991216, 22433095.973553944, 56299967.2612329, 141304461.76494947, 153592462.08648273, 278556818.0765432, 286320332.3864647, 338383095.3575521, 688633023.3583469, 725911236.1014212, 857012704.2691069, 496542859.8260613]\n",
            "Custo =  71164823951.20935\n"
          ]
        },
        {
          "output_type": "stream",
          "name": "stderr",
          "text": [
            "pyswarms.single.global_best:   0%|          |0/1, best_cost=4.41e+10"
          ]
        },
        {
          "output_type": "stream",
          "name": "stdout",
          "text": [
            "\n",
            "=========================================================================\n",
            "\n",
            "Número de ciclos de manutenção: 13 5\n",
            "Tempos para manutenções preventivas: [0, 97, 148, 164, 227, 305, 388, 403, 470, 495, 518, 594, 635, 709]\n",
            "Severidade para cada subsistema: [0.5, 0.25, 0.25, 0.5, 0.5, 0.75, 0.75, 0.5, 0.5, 0.75, 0.75, 0.5, 0.25]\n",
            "Número de Sisemas: 5\n",
            "Fator:  [0.3296799539643607, 0.6321205588285577, 0.3934693402873666, 0.3934693402873666, 0.6321205588285577, 0.6321205588285577, 0.7768698398515702, 0.7768698398515702, 0.6321205588285577, 0.6321205588285577, 0.7768698398515702, 0.7768698398515702, 0.6321205588285577, 0.3934693402873666]\n",
            "Media de falhas:  [0, 2747948.88224, 9103246.588732794, 9505326.186537521, 42615841.75449832, 176140072.80427817, 261144567.30799472, 273432567.629528, 301999429.2313244, 309762943.5412459, 361825706.5123333, 712075634.513128, 749353847.2562023, 880455315.423888, 519985470.9808424]\n",
            "Custo =  71423310707.59659\n"
          ]
        },
        {
          "output_type": "stream",
          "name": "stderr",
          "text": [
            "\rpyswarms.single.global_best: 100%|██████████|1/1, best_cost=4.41e+10\n",
            "2023-10-02 01:29:12,000 - pyswarms.single.global_best - INFO - Optimization finished | best cost: 44078952820.113815, best pos: [2.2715083  4.62698412 0.34055061 3.24405501 1.97509704 1.55718309\n",
            " 6.21065156 3.56625981 2.5964654  2.10380232 3.17572091 4.80934015\n",
            " 0.29013751 5.43398472 2.37137719 3.67287937 3.51428866 5.28318527\n",
            " 2.53258193 5.8045573  2.88891001 3.1714055  2.26504036 1.67357286]\n",
            "2023-10-02 01:29:12,001 - pyswarms.single.global_best - INFO - Optimize for 1 iters with {'c1': 0.5, 'c2': 0.3, 'w': 0.9}\n",
            "pyswarms.single.global_best:   0%|          |0/1, best_cost=4.41e+10"
          ]
        },
        {
          "output_type": "stream",
          "name": "stdout",
          "text": [
            "\n",
            "=========================================================================\n",
            "\n",
            "Número de ciclos de manutenção: 12 5\n",
            "Tempos para manutenções preventivas: [0, 97, 149, 160, 226, 305, 403, 470, 495, 518, 594, 635, 709]\n",
            "Severidade para cada subsistema: [0.5, 0.25, 0.75, 0.5, 0.5, 0.75, 0.5, 0.5, 0.75, 0.75, 0.5, 0.25]\n",
            "Número de Sisemas: 5\n",
            "Fator:  [0.3296799539643607, 0.6321205588285577, 0.3934693402873666, 0.7768698398515702, 0.6321205588285577, 0.6321205588285577, 0.7768698398515702, 0.6321205588285577, 0.6321205588285577, 0.7768698398515702, 0.7768698398515702, 0.6321205588285577, 0.3934693402873666]\n",
            "Media de falhas:  [0, 2747948.88224, 9398200.019114291, 9634985.741716249, 43751774.61814501, 55269440.49999681, 180903441.17437458, 305867797.164435, 313631311.47435653, 365694074.4454439, 715944002.4462388, 753222215.189313, 884323683.3569987, 523853838.9139531]\n",
            "Custo =  68632794070.2401\n"
          ]
        },
        {
          "output_type": "stream",
          "name": "stderr",
          "text": [
            "\rpyswarms.single.global_best: 100%|██████████|1/1, best_cost=4.41e+10\n",
            "2023-10-02 01:29:12,015 - pyswarms.single.global_best - INFO - Optimization finished | best cost: 44078952820.113815, best pos: [2.27143526 4.62699944 0.34055317 3.24526873 1.97509685 1.55775411\n",
            " 6.21060372 3.56618095 2.59646755 4.31754865 3.17603768 4.8093964\n",
            " 0.29012123 5.4340312  2.37141046 3.67287983 3.51414237 5.28317355\n",
            " 2.49316215 5.80434185 2.8913239  3.17140094 2.26502873 1.6735905 ]\n",
            "2023-10-02 01:29:12,016 - pyswarms.single.global_best - INFO - Optimize for 1 iters with {'c1': 0.5, 'c2': 0.3, 'w': 0.9}\n",
            "pyswarms.single.global_best: 100%|██████████|1/1, best_cost=4.41e+10\n",
            "2023-10-02 01:29:12,027 - pyswarms.single.global_best - INFO - Optimization finished | best cost: 44078952820.113815, best pos: [2.27136889 4.62701373 0.34055826 3.24694231 1.97509674 1.55842366\n",
            " 6.21058951 3.56617289 2.59647171 6.32873383 3.17634685 4.8094428\n",
            " 0.29011803 5.43405559 2.37151883 3.67288037 3.51403002 5.2831611\n",
            " 2.50822761 5.80429669 2.8912181  3.17139561 2.26502838 1.67360594]\n",
            "2023-10-02 01:29:12,029 - pyswarms.single.global_best - INFO - Optimize for 1 iters with {'c1': 0.5, 'c2': 0.3, 'w': 0.9}\n"
          ]
        },
        {
          "output_type": "stream",
          "name": "stdout",
          "text": [
            "\n",
            "=========================================================================\n",
            "\n",
            "Número de ciclos de manutenção: 13 5\n",
            "Tempos para manutenções preventivas: [0, 74, 97, 149, 174, 226, 305, 403, 470, 495, 518, 594, 635, 709]\n",
            "Severidade para cada subsistema: [0.5, 0.5, 0.25, 0.25, 0.5, 0.5, 0.75, 0.5, 0.5, 0.75, 0.75, 0.5, 0.25]\n",
            "Número de Sisemas: 5\n",
            "Fator:  [0.3296799539643607, 0.6321205588285577, 0.6321205588285577, 0.3934693402873666, 0.3934693402873666, 0.6321205588285577, 0.6321205588285577, 0.7768698398515702, 0.6321205588285577, 0.6321205588285577, 0.7768698398515702, 0.7768698398515702, 0.6321205588285577, 0.3934693402873666]\n",
            "Media de falhas:  [0, 710082.11968, 1259552.820764741, 2899704.7219755994, 3777803.3002365488, 30637756.5893273, 165874991.41060892, 291508992.0849867, 416473348.07504714, 424236862.38496864, 476299625.35605603, 826549553.3568509, 863827766.0999252, 994929234.2676108, 634459389.8245652]\n",
            "Custo =  74585166396.69704\n"
          ]
        },
        {
          "output_type": "stream",
          "name": "stderr",
          "text": [
            "pyswarms.single.global_best: 100%|██████████|1/1, best_cost=4.41e+10\n",
            "2023-10-02 01:29:12,042 - pyswarms.single.global_best - INFO - Optimization finished | best cost: 44078952820.113815, best pos: [2.27131009 4.62702885 0.34056396 3.2484528  1.97509667 1.55906461\n",
            " 6.21059919 3.56621406 2.59647559 0.97343155 3.17660305 4.80942495\n",
            " 0.29012817 5.43399707 2.37164739 3.67288087 3.513935   5.28314905\n",
            " 2.53781028 5.80437536 2.88787676 3.17139035 2.2650407  1.67360815]\n",
            "2023-10-02 01:29:12,043 - pyswarms.single.global_best - INFO - Optimize for 1 iters with {'c1': 0.5, 'c2': 0.3, 'w': 0.9}\n"
          ]
        },
        {
          "output_type": "stream",
          "name": "stdout",
          "text": [
            "\n",
            "=========================================================================\n",
            "\n",
            "Número de ciclos de manutenção: 13 5\n",
            "Tempos para manutenções preventivas: [0, 97, 149, 169, 208, 226, 305, 403, 470, 495, 518, 594, 635, 710]\n",
            "Severidade para cada subsistema: [0.5, 0.25, 0.75, 0.25, 0.5, 0.5, 0.75, 0.5, 0.5, 0.75, 0.75, 0.5, 0.25]\n",
            "Número de Sisemas: 5\n",
            "Fator:  [0.3296799539643607, 0.6321205588285577, 0.3934693402873666, 0.7768698398515702, 0.3934693402873666, 0.6321205588285577, 0.6321205588285577, 0.7768698398515702, 0.6321205588285577, 0.6321205588285577, 0.7768698398515702, 0.7768698398515702, 0.6321205588285577, 0.3934693402873666]\n",
            "Media de falhas:  [0, 2747948.88224, 9398200.019114291, 9989860.538020132, 24523387.160817876, 24809255.71631486, 160046490.53759646, 285680491.21197426, 410644847.2020347, 418408361.5119562, 470471124.4830436, 820721052.4838383, 857999265.2269126, 992595741.3219874, 628861082.6628215]\n",
            "Custo =  74506140821.08145\n"
          ]
        },
        {
          "output_type": "stream",
          "name": "stderr",
          "text": [
            "pyswarms.single.global_best: 100%|██████████|1/1, best_cost=4.41e+10"
          ]
        },
        {
          "output_type": "stream",
          "name": "stdout",
          "text": [
            "\n",
            "=========================================================================\n",
            "\n",
            "Número de ciclos de manutenção: 11 5\n",
            "Tempos para manutenções preventivas: [0, 97, 149, 226, 305, 402, 470, 495, 518, 594, 635, 710]\n",
            "Severidade para cada subsistema: [0.5, 0.25, 0.5, 0.5, 0.75, 0.5, 0.5, 0.75, 0.75, 0.5, 0.25]\n",
            "Número de Sisemas: 5\n",
            "Fator:  [0.3296799539643607, 0.6321205588285577, 0.3934693402873666, 0.6321205588285577, 0.6321205588285577, 0.7768698398515702, 0.6321205588285577, 0.6321205588285577, 0.7768698398515702, 0.7768698398515702, 0.6321205588285577, 0.3934693402873666]\n",
            "Media de falhas:  [0, 2747948.88224, 9398200.019114291, 21973660.841152612, 157210895.66243422, 279750717.6079438, 407182197.91305315, 414945712.22297466, 467008475.19406205, 817258403.1948569, 854536615.9379312, 989133092.033006, 625398433.3738401]\n",
            "Custo =  73447615129.46208\n"
          ]
        },
        {
          "output_type": "stream",
          "name": "stderr",
          "text": [
            "\n",
            "2023-10-02 01:29:12,054 - pyswarms.single.global_best - INFO - Optimization finished | best cost: 44078952820.113815, best pos: [2.27126578 4.62704071 0.34056909 3.24967891 1.97509677 1.55963846\n",
            " 6.21063263 3.56627906 2.59647909 3.20593926 3.17671853 4.80937512\n",
            " 0.29014238 5.4338452  2.3718187  3.67288125 3.51393829 5.28313953\n",
            " 2.59393417 5.80454493 2.88236771 3.17138441 2.265052   1.67360024]\n",
            "2023-10-02 01:29:12,055 - pyswarms.single.global_best - INFO - Optimize for 1 iters with {'c1': 0.5, 'c2': 0.3, 'w': 0.9}\n",
            "pyswarms.single.global_best:   0%|          |0/1, best_cost=4.41e+10"
          ]
        },
        {
          "output_type": "stream",
          "name": "stdout",
          "text": [
            "\n",
            "=========================================================================\n",
            "\n",
            "Número de ciclos de manutenção: 13 5\n",
            "Tempos para manutenções preventivas: [0, 68, 97, 149, 226, 305, 366, 402, 470, 495, 518, 594, 635, 710]\n",
            "Severidade para cada subsistema: [0.75, 0.5, 0.25, 0.5, 0.5, 0.25, 0.75, 0.5, 0.5, 0.75, 0.75, 0.5, 0.25]\n",
            "Número de Sisemas: 5\n",
            "Fator:  [0.3296799539643607, 0.7768698398515702, 0.6321205588285577, 0.3934693402873666, 0.6321205588285577, 0.6321205588285577, 0.3934693402873666, 0.7768698398515702, 0.6321205588285577, 0.6321205588285577, 0.7768698398515702, 0.7768698398515702, 0.6321205588285577, 0.3934693402873666]\n",
            "Media de falhas:  [0, 465258.74176000006, 1140729.4082581406, 1832357.2557764235, 14407818.077814745, 149645052.89909637, 193834605.37487903, 225976362.15978092, 893632206.4045005, 901395720.714422, 953458483.6855093, 1303708411.686304, 1340986624.4293783, 1475583100.5244532, 1111848441.8652873]\n",
            "Custo =  106190176165.71964\n"
          ]
        },
        {
          "output_type": "stream",
          "name": "stderr",
          "text": [
            "\rpyswarms.single.global_best: 100%|██████████|1/1, best_cost=4.41e+10\n",
            "2023-10-02 01:29:12,069 - pyswarms.single.global_best - INFO - Optimization finished | best cost: 44078952820.113815, best pos: [2.27124284 4.62704771 0.34057242 3.25025006 1.97509706 1.55997581\n",
            " 6.21066359 3.56634233 2.59648217 5.24299426 3.17675801 4.8092886\n",
            " 0.29016381 5.43368583 2.37198582 3.67288156 3.5139708  5.28313389\n",
            " 2.65246698 5.80472215 2.87656454 3.17137923 2.26506481 1.67359199]\n",
            "2023-10-02 01:29:12,070 - pyswarms.single.global_best - INFO - Optimize for 1 iters with {'c1': 0.5, 'c2': 0.3, 'w': 0.9}\n",
            "pyswarms.single.global_best:   0%|          |0/1, best_cost=4.41e+10"
          ]
        },
        {
          "output_type": "stream",
          "name": "stdout",
          "text": [
            "\n",
            "=========================================================================\n",
            "\n",
            "Número de ciclos de manutenção: 12 5\n",
            "Tempos para manutenções preventivas: [0, 97, 149, 226, 305, 361, 402, 470, 495, 518, 594, 635, 710]\n",
            "Severidade para cada subsistema: [0.5, 0.25, 0.5, 0.5, 0.5, 0.75, 0.5, 0.5, 0.75, 0.75, 0.5, 0.25]\n",
            "Número de Sisemas: 5\n",
            "Fator:  [0.3296799539643607, 0.6321205588285577, 0.3934693402873666, 0.6321205588285577, 0.6321205588285577, 0.6321205588285577, 0.7768698398515702, 0.6321205588285577, 0.6321205588285577, 0.7768698398515702, 0.7768698398515702, 0.6321205588285577, 0.3934693402873666]\n",
            "Media de falhas:  [0, 2747948.88224, 9398200.019114291, 21973660.841152612, 157210895.66243422, 194604607.27003074, 232137341.76023743, 359568822.0653468, 367332336.3752683, 419395099.3463557, 769645027.3471504, 806923240.0902247, 941519716.1852996, 577785057.5261338]\n",
            "Custo =  74727136430.73592\n"
          ]
        },
        {
          "output_type": "stream",
          "name": "stderr",
          "text": [
            "\rpyswarms.single.global_best: 100%|██████████|1/1, best_cost=4.41e+10\n",
            "2023-10-02 01:29:12,082 - pyswarms.single.global_best - INFO - Optimization finished | best cost: 44078952820.113815, best pos: [2.27123181 4.62704752 0.34057481 3.25048539 1.97509747 1.56013144\n",
            " 6.2107012  3.56641739 2.59648425 0.07209557 3.17660788 4.8091417\n",
            " 0.29018416 5.43352666 2.37211419 3.67288178 3.51401152 5.28312974\n",
            " 2.70634985 5.80490309 2.87195359 3.17137577 2.26507817 1.67358248]\n",
            "2023-10-02 01:29:12,084 - pyswarms.single.global_best - INFO - Optimize for 1 iters with {'c1': 0.5, 'c2': 0.3, 'w': 0.9}\n",
            "pyswarms.single.global_best:   0%|          |0/1, best_cost=4.41e+10"
          ]
        },
        {
          "output_type": "stream",
          "name": "stdout",
          "text": [
            "\n",
            "=========================================================================\n",
            "\n",
            "Número de ciclos de manutenção: 13 5\n",
            "Tempos para manutenções preventivas: [0, 68, 97, 149, 184, 226, 305, 402, 470, 495, 518, 594, 635, 710]\n",
            "Severidade para cada subsistema: [0.5, 0.5, 0.25, 0.75, 0.5, 0.5, 0.75, 0.5, 0.5, 0.75, 0.75, 0.5, 0.25]\n",
            "Número de Sisemas: 5\n",
            "Fator:  [0.3296799539643607, 0.6321205588285577, 0.6321205588285577, 0.3934693402873666, 0.7768698398515702, 0.6321205588285577, 0.6321205588285577, 0.7768698398515702, 0.6321205588285577, 0.6321205588285577, 0.7768698398515702, 0.7768698398515702, 0.6321205588285577, 0.3934693402873666]\n",
            "Media de falhas:  [0, 465258.74176000006, 1140729.4082581406, 2780881.309468999, 4492661.475548842, 26313578.782982323, 37831244.66483412, 160371066.6103437, 287802546.9154531, 295566061.2253746, 347628824.196462, 697878752.1972568, 735156964.9403311, 869753441.0354059, 506018782.37623996]\n",
            "Custo =  68425704427.64025\n"
          ]
        },
        {
          "output_type": "stream",
          "name": "stderr",
          "text": [
            "\rpyswarms.single.global_best: 100%|██████████|1/1, best_cost=4.41e+10\n",
            "2023-10-02 01:29:12,097 - pyswarms.single.global_best - INFO - Optimization finished | best cost: 44078952820.113815, best pos: [2.27122619 4.62704523 0.34057686 3.2502196  1.97509787 1.56009679\n",
            " 6.21073555 3.566488   2.59648516 2.73796999 3.17633438 4.8090081\n",
            " 0.2902024  5.43338355 2.37221968 3.6728819  3.51410121 5.28312938\n",
            " 2.74888036 5.8050664  2.86846354 3.17137451 2.26508865 1.67356971]\n",
            "2023-10-02 01:29:12,098 - pyswarms.single.global_best - INFO - Optimize for 1 iters with {'c1': 0.5, 'c2': 0.3, 'w': 0.9}\n",
            "pyswarms.single.global_best: 100%|██████████|1/1, best_cost=4.41e+10\n",
            "2023-10-02 01:29:12,108 - pyswarms.single.global_best - INFO - Optimization finished | best cost: 44078952820.113815, best pos: [2.27124003 4.62703941 0.34057816 3.24944217 1.97509817 1.56006184\n",
            " 6.21076108 3.56654929 2.59648577 5.34536156 3.17605847 4.80888541\n",
            " 0.29021856 5.43329508 2.37229586 3.67288185 3.51421032 5.28313437\n",
            " 2.77926203 5.80520545 2.86649347 3.17137459 2.26509577 1.67355718]\n",
            "2023-10-02 01:29:12,110 - pyswarms.single.global_best - INFO - Optimize for 1 iters with {'c1': 0.5, 'c2': 0.3, 'w': 0.9}\n"
          ]
        },
        {
          "output_type": "stream",
          "name": "stdout",
          "text": [
            "\n",
            "=========================================================================\n",
            "\n",
            "Número de ciclos de manutenção: 13 5\n",
            "Tempos para manutenções preventivas: [0, 97, 149, 174, 226, 305, 383, 402, 470, 495, 518, 594, 635, 710]\n",
            "Severidade para cada subsistema: [0.5, 0.25, 0.25, 0.5, 0.5, 0.75, 0.75, 0.5, 0.5, 0.75, 0.75, 0.5, 0.25]\n",
            "Número de Sisemas: 5\n",
            "Fator:  [0.3296799539643607, 0.6321205588285577, 0.3934693402873666, 0.3934693402873666, 0.6321205588285577, 0.6321205588285577, 0.7768698398515702, 0.7768698398515702, 0.6321205588285577, 0.6321205588285577, 0.7768698398515702, 0.7768698398515702, 0.6321205588285577, 0.3934693402873666]\n",
            "Media de falhas:  [0, 2747948.88224, 9398200.019114291, 10276298.59737524, 37136251.886466, 172373486.7077476, 246342478.36721987, 262020564.0911781, 291371849.79907644, 299135364.10899794, 351198127.08008534, 701448055.0808802, 738726267.8239545, 873322743.9190292, 509588085.2598633]\n",
            "Custo =  71272310733.84871\n"
          ]
        },
        {
          "output_type": "stream",
          "name": "stderr",
          "text": [
            "pyswarms.single.global_best: 100%|██████████|1/1, best_cost=4.41e+10\n",
            "2023-10-02 01:29:12,126 - pyswarms.single.global_best - INFO - Optimization finished | best cost: 44078952820.113815, best pos: [2.2712581  4.62702975 0.34057734 3.24846995 1.97509831 1.55988587\n",
            " 6.21078163 3.56659734 2.59648554 0.61262828 3.17582727 4.80880385\n",
            " 0.29023057 5.43323824 2.3722396  3.67288146 3.51431697 5.28313948\n",
            " 2.7773206  5.80529834 2.86800685 3.17137765 2.26509971 1.67354619]\n",
            "2023-10-02 01:29:12,127 - pyswarms.single.global_best - INFO - Optimize for 1 iters with {'c1': 0.5, 'c2': 0.3, 'w': 0.9}\n"
          ]
        },
        {
          "output_type": "stream",
          "name": "stdout",
          "text": [
            "\n",
            "=========================================================================\n",
            "\n",
            "Número de ciclos de manutenção: 11 5\n",
            "Tempos para manutenções preventivas: [0, 97, 149, 227, 304, 402, 470, 495, 518, 594, 635, 710]\n",
            "Severidade para cada subsistema: [0.5, 0.25, 0.5, 0.5, 0.75, 0.5, 0.5, 0.75, 0.75, 0.5, 0.25]\n",
            "Número de Sisemas: 5\n",
            "Fator:  [0.3296799539643607, 0.6321205588285577, 0.3934693402873666, 0.6321205588285577, 0.6321205588285577, 0.7768698398515702, 0.6321205588285577, 0.6321205588285577, 0.7768698398515702, 0.7768698398515702, 0.6321205588285577, 0.3934693402873666]\n",
            "Media de falhas:  [0, 2747948.88224, 9398200.019114291, 22464067.167024262, 152557839.92998976, 277139371.99235284, 404570852.2974622, 412334366.6073837, 464397129.5784711, 814647057.5792658, 851925270.3223401, 986521746.4174149, 622787087.758249]\n",
            "Custo =  73406824002.37318\n"
          ]
        },
        {
          "output_type": "stream",
          "name": "stderr",
          "text": [
            "pyswarms.single.global_best: 100%|██████████|1/1, best_cost=4.41e+10\n",
            "2023-10-02 01:29:12,139 - pyswarms.single.global_best - INFO - Optimization finished | best cost: 44078952820.113815, best pos: [2.27127764 4.62702049 0.34057532 3.24747572 1.97509822 1.55965988\n",
            " 6.21078813 3.56663886 2.59648443 3.48067548 3.17564673 4.80878604\n",
            " 0.29024137 5.43324475 2.37214524 3.67288104 3.51440439 5.28314815\n",
            " 2.75598146 5.80531537 2.87211998 3.17138071 2.26510016 1.67354005]\n",
            "2023-10-02 01:29:12,140 - pyswarms.single.global_best - INFO - Optimize for 1 iters with {'c1': 0.5, 'c2': 0.3, 'w': 0.9}\n"
          ]
        },
        {
          "output_type": "stream",
          "name": "stdout",
          "text": [
            "\n",
            "=========================================================================\n",
            "\n",
            "Número de ciclos de manutenção: 12 5\n",
            "Tempos para manutenções preventivas: [0, 86, 97, 149, 227, 304, 402, 470, 495, 518, 594, 635, 710]\n",
            "Severidade para cada subsistema: [0.75, 0.5, 0.25, 0.5, 0.5, 0.75, 0.5, 0.5, 0.75, 0.75, 0.5, 0.25]\n",
            "Número de Sisemas: 5\n",
            "Fator:  [0.3296799539643607, 0.7768698398515702, 0.6321205588285577, 0.3934693402873666, 0.6321205588285577, 0.6321205588285577, 0.7768698398515702, 0.6321205588285577, 0.6321205588285577, 0.7768698398515702, 0.7768698398515702, 0.6321205588285577, 0.3934693402873666]\n",
            "Media de falhas:  [0, 1505366.45632, 1789473.843472236, 2481101.690990519, 15546968.83890049, 145640741.60186598, 270222273.6642291, 397653753.9693385, 405417268.27926, 457480031.2503474, 807729959.2511421, 845008171.9942164, 979604648.0892913, 615869989.4301255]\n",
            "Custo =  73008480168.61082\n"
          ]
        },
        {
          "output_type": "stream",
          "name": "stderr",
          "text": [
            "pyswarms.single.global_best: 100%|██████████|1/1, best_cost=4.41e+10\n",
            "2023-10-02 01:29:12,152 - pyswarms.single.global_best - INFO - Optimization finished | best cost: 44078952820.113815, best pos: [2.27131509 4.62701269 0.34057054 3.24663384 1.97509798 1.55936034\n",
            " 6.21078748 3.56666825 2.59648168 6.42787567 3.17552088 4.80881288\n",
            " 0.29024311 5.43335608 2.37203404 3.67288052 3.51446958 5.28315654\n",
            " 2.72937459 5.80526425 2.87592622 3.171384   2.26509814 1.6735365 ]\n",
            "2023-10-02 01:29:12,153 - pyswarms.single.global_best - INFO - Optimize for 1 iters with {'c1': 0.5, 'c2': 0.3, 'w': 0.9}\n"
          ]
        },
        {
          "output_type": "stream",
          "name": "stdout",
          "text": [
            "\n",
            "=========================================================================\n",
            "\n",
            "Número de ciclos de manutenção: 12 5\n",
            "Tempos para manutenções preventivas: [0, 84, 97, 148, 227, 304, 402, 470, 495, 518, 594, 635, 709]\n",
            "Severidade para cada subsistema: [0.25, 0.5, 0.25, 0.5, 0.5, 0.75, 0.5, 0.5, 0.75, 0.75, 0.5, 0.25]\n",
            "Número de Sisemas: 5\n",
            "Fator:  [0.3296799539643607, 0.3934693402873666, 0.6321205588285577, 0.3934693402873666, 0.6321205588285577, 0.6321205588285577, 0.7768698398515702, 0.6321205588285577, 0.6321205588285577, 0.7768698398515702, 0.7768698398515702, 0.6321205588285577, 0.3934693402873666]\n",
            "Media de falhas:  [0, 1338278.2156800001, 1668881.3076060943, 6558056.143715143, 19946875.288375948, 150040648.05134144, 274622180.11370456, 402053660.41881394, 409817174.72873545, 461879937.69982284, 812129865.7006176, 849408078.4436918, 980509546.6113775, 620039702.1683319]\n",
            "Custo =  73248359146.88681\n"
          ]
        },
        {
          "output_type": "stream",
          "name": "stderr",
          "text": [
            "pyswarms.single.global_best: 100%|██████████|1/1, best_cost=4.41e+10\n",
            "2023-10-02 01:29:12,166 - pyswarms.single.global_best - INFO - Optimization finished | best cost: 44078952820.113815, best pos: [2.27136333 4.62700739 0.34056617 3.24611268 1.97509764 1.55898702\n",
            " 6.21077668 3.5666266  2.5964792  1.69549272 3.17553952 4.80885858\n",
            " 0.29023299 5.43349685 2.37191199 3.67288003 3.51450469 5.28316347\n",
            " 2.6963584  5.80520096 2.87990062 3.17138713 2.26509452 1.67353514]\n",
            "2023-10-02 01:29:12,168 - pyswarms.single.global_best - INFO - Optimize for 1 iters with {'c1': 0.5, 'c2': 0.3, 'w': 0.9}\n"
          ]
        },
        {
          "output_type": "stream",
          "name": "stdout",
          "text": [
            "\n",
            "=========================================================================\n",
            "\n",
            "Número de ciclos de manutenção: 13 5\n",
            "Tempos para manutenções preventivas: [0, 62, 97, 148, 189, 227, 304, 403, 470, 495, 518, 594, 635, 709]\n",
            "Severidade para cada subsistema: [0.75, 0.5, 0.25, 0.25, 0.5, 0.5, 0.75, 0.5, 0.5, 0.75, 0.75, 0.5, 0.25]\n",
            "Número de Sisemas: 5\n",
            "Fator:  [0.3296799539643607, 0.7768698398515702, 0.6321205588285577, 0.3934693402873666, 0.3934693402873666, 0.6321205588285577, 0.6321205588285577, 0.7768698398515702, 0.6321205588285577, 0.6321205588285577, 0.7768698398515702, 0.7768698398515702, 0.6321205588285577, 0.3934693402873666]\n",
            "Media de falhas:  [0, 293162.50624, 1095183.046249879, 1741010.7857039024, 4122698.2901586667, 24298099.006395012, 154391871.7693605, 282105059.2216794, 407069415.2117399, 414832929.5216614, 466895692.4927488, 817145620.4935436, 854423833.2366179, 985525301.4043036, 625055456.9612579]\n",
            "Custo =  74578598012.06404\n"
          ]
        },
        {
          "output_type": "stream",
          "name": "stderr",
          "text": [
            "pyswarms.single.global_best: 100%|██████████|1/1, best_cost=4.41e+10\n",
            "2023-10-02 01:29:12,180 - pyswarms.single.global_best - INFO - Optimization finished | best cost: 44078952820.113815, best pos: [2.27140726 4.62700588 0.34056195 3.24612851 1.97509733 1.55865119\n",
            " 6.21075149 3.5665512  2.59647592 3.82782674 3.17568403 4.80893733\n",
            " 0.29022226 5.43364554 2.37180041 3.67287965 3.51448911 5.28316925\n",
            " 2.66186534 5.80511676 2.88347337 3.17138969 2.26508582 1.67353966]\n",
            "2023-10-02 01:29:12,182 - pyswarms.single.global_best - INFO - Optimize for 1 iters with {'c1': 0.5, 'c2': 0.3, 'w': 0.9}\n"
          ]
        },
        {
          "output_type": "stream",
          "name": "stdout",
          "text": [
            "\n",
            "=========================================================================\n",
            "\n",
            "Número de ciclos de manutenção: 13 5\n",
            "Tempos para manutenções preventivas: [0, 97, 148, 175, 183, 227, 304, 403, 470, 495, 518, 594, 635, 709]\n",
            "Severidade para cada subsistema: [0.5, 0.25, 0.5, 0.75, 0.5, 0.5, 0.75, 0.5, 0.5, 0.75, 0.75, 0.5, 0.25]\n",
            "Número de Sisemas: 5\n",
            "Fator:  [0.3296799539643607, 0.6321205588285577, 0.3934693402873666, 0.6321205588285577, 0.7768698398515702, 0.6321205588285577, 0.6321205588285577, 0.7768698398515702, 0.6321205588285577, 0.6321205588285577, 0.7768698398515702, 0.7768698398515702, 0.6321205588285577, 0.3934693402873666]\n",
            "Media de falhas:  [0, 2747948.88224, 9103246.588732794, 10096983.095862497, 11985755.657380179, 17014072.40820277, 27753239.807759635, 155466427.2600785, 280430783.250139, 288194297.5600605, 340257060.5311479, 690506988.5319426, 727785201.2750169, 858886669.4427025, 498416824.999657]\n",
            "Custo =  68021545997.12106\n"
          ]
        },
        {
          "output_type": "stream",
          "name": "stderr",
          "text": [
            "pyswarms.single.global_best: 100%|██████████|1/1, best_cost=4.41e+10\n",
            "2023-10-02 01:29:12,195 - pyswarms.single.global_best - INFO - Optimization finished | best cost: 44078952820.113815, best pos: [2.27144035 4.6270057  0.34055869 3.24659139 1.9750971  1.5584084\n",
            " 6.21072235 3.56648058 2.59647293 5.80930003 3.17583183 4.80900904\n",
            " 0.29020419 5.43377741 2.37171212 3.67287948 3.51446286 5.28317344\n",
            " 2.63591047 5.80501311 2.88548576 3.17139101 2.26507513 1.67354547]\n",
            "2023-10-02 01:29:12,196 - pyswarms.single.global_best - INFO - Optimize for 1 iters with {'c1': 0.5, 'c2': 0.3, 'w': 0.9}\n"
          ]
        },
        {
          "output_type": "stream",
          "name": "stdout",
          "text": [
            "\n",
            "=========================================================================\n",
            "\n",
            "Número de ciclos de manutenção: 13 5\n",
            "Tempos para manutenções preventivas: [0, 83, 97, 148, 201, 227, 304, 403, 470, 495, 518, 594, 635, 709]\n",
            "Severidade para cada subsistema: [0.5, 0.5, 0.25, 0.25, 0.5, 0.5, 0.75, 0.5, 0.5, 0.75, 0.75, 0.5, 0.25]\n",
            "Número de Sisemas: 5\n",
            "Fator:  [0.3296799539643607, 0.6321205588285577, 0.6321205588285577, 0.3934693402873666, 0.3934693402873666, 0.6321205588285577, 0.6321205588285577, 0.7768698398515702, 0.6321205588285577, 0.6321205588285577, 0.7768698398515702, 0.7768698398515702, 0.6321205588285577, 0.3934693402873666]\n",
            "Media de falhas:  [0, 1260493.00576, 1613910.2902264965, 3161613.279329854, 7591029.93629552, 21628938.376061834, 151722711.13902733, 279435898.5913462, 404400254.5814067, 412163768.8913282, 464226531.8624156, 814476459.8632104, 851754672.6062847, 982856140.7739704, 622386296.3309247]\n",
            "Custo =  74838370877.41661\n"
          ]
        },
        {
          "output_type": "stream",
          "name": "stderr",
          "text": [
            "pyswarms.single.global_best: 100%|██████████|1/1, best_cost=4.41e+10\n",
            "2023-10-02 01:29:12,209 - pyswarms.single.global_best - INFO - Optimization finished | best cost: 44078952820.113815, best pos: [2.27146318 4.6270065  0.34055621 3.24712987 1.97509701 1.55820481\n",
            " 6.21069445 3.56641149 2.59647046 0.39914433 3.17605401 4.80907322\n",
            " 0.29018551 5.43386145 2.37167885 3.67287955 3.51443918 5.2831765\n",
            " 2.6159696  5.80490673 2.88608045 3.17139205 2.26506531 1.67355234]\n",
            "2023-10-02 01:29:12,211 - pyswarms.single.global_best - INFO - Optimize for 1 iters with {'c1': 0.5, 'c2': 0.3, 'w': 0.9}\n"
          ]
        },
        {
          "output_type": "stream",
          "name": "stdout",
          "text": [
            "\n",
            "=========================================================================\n",
            "\n",
            "Número de ciclos de manutenção: 13 5\n",
            "Tempos para manutenções preventivas: [0, 97, 148, 191, 226, 305, 368, 403, 470, 495, 518, 594, 635, 709]\n",
            "Severidade para cada subsistema: [0.5, 0.25, 0.75, 0.5, 0.5, 0.75, 0.75, 0.5, 0.5, 0.75, 0.75, 0.5, 0.25]\n",
            "Número de Sisemas: 5\n",
            "Fator:  [0.3296799539643607, 0.6321205588285577, 0.3934693402873666, 0.7768698398515702, 0.6321205588285577, 0.6321205588285577, 0.7768698398515702, 0.7768698398515702, 0.6321205588285577, 0.6321205588285577, 0.7768698398515702, 0.7768698398515702, 0.6321205588285577, 0.3934693402873666]\n",
            "Media de falhas:  [0, 2747948.88224, 9103246.588732794, 11761872.418821577, 30079041.027654737, 41596706.90950653, 88733417.3088652, 120126633.09906398, 148693494.70086038, 156457009.01078188, 208519771.98186925, 558769699.982664, 596047912.7257383, 727149380.8934239, 366679536.45037836]\n",
            "Custo =  64504217734.52082\n"
          ]
        },
        {
          "output_type": "stream",
          "name": "stderr",
          "text": [
            "pyswarms.single.global_best: 100%|██████████|1/1, best_cost=4.41e+10\n",
            "2023-10-02 01:29:12,223 - pyswarms.single.global_best - INFO - Optimization finished | best cost: 44078952820.113815, best pos: [2.27147958 4.6270079  0.34055598 3.24766126 1.97509694 1.55816153\n",
            " 6.2106701  3.56635011 2.59646949 1.86829482 3.17625752 4.80911071\n",
            " 0.29016825 5.43389745 2.3716859  3.6728797  3.5143809  5.28317863\n",
            " 2.61013322 5.8048185  2.88485802 3.17139179 2.2650574  1.67355906]\n",
            "2023-10-02 01:29:12,224 - pyswarms.single.global_best - INFO - Optimize for 1 iters with {'c1': 0.5, 'c2': 0.3, 'w': 0.9}\n"
          ]
        },
        {
          "output_type": "stream",
          "name": "stdout",
          "text": [
            "\n",
            "=========================================================================\n",
            "\n",
            "Número de ciclos de manutenção: 12 5\n",
            "Tempos para manutenções preventivas: [0, 97, 149, 207, 226, 305, 403, 470, 495, 518, 594, 635, 709]\n",
            "Severidade para cada subsistema: [0.5, 0.25, 0.25, 0.5, 0.5, 0.75, 0.5, 0.5, 0.75, 0.75, 0.5, 0.25]\n",
            "Número de Sisemas: 5\n",
            "Fator:  [0.3296799539643607, 0.6321205588285577, 0.3934693402873666, 0.3934693402873666, 0.6321205588285577, 0.6321205588285577, 0.7768698398515702, 0.6321205588285577, 0.6321205588285577, 0.7768698398515702, 0.7768698398515702, 0.6321205588285577, 0.3934693402873666]\n",
            "Media de falhas:  [0, 2747948.88224, 9398200.019114291, 15087292.033510163, 25300322.078194227, 160537556.89947584, 286171557.5738536, 411135913.56391406, 418899427.87383556, 470962190.84492296, 821212118.8457177, 858490331.588792, 989591799.7564776, 629121955.313432]\n",
            "Custo =  75285749823.65488\n"
          ]
        },
        {
          "output_type": "stream",
          "name": "stderr",
          "text": [
            "pyswarms.single.global_best: 100%|██████████|1/1, best_cost=4.41e+10\n",
            "2023-10-02 01:29:12,240 - pyswarms.single.global_best - INFO - Optimization finished | best cost: 44078952820.113815, best pos: [2.27149228 4.62701227 0.3405578  3.24815765 1.97509693 1.55834144\n",
            " 6.21065917 3.56630319 2.59647013 3.21127558 3.17642781 4.80913532\n",
            " 0.29015608 5.43387337 2.37172817 3.67288    3.51429431 5.28317672\n",
            " 2.60863374 5.80476351 2.88243693 3.17138963 2.2650522  1.67356518]\n",
            "2023-10-02 01:29:12,241 - pyswarms.single.global_best - INFO - Optimize for 1 iters with {'c1': 0.5, 'c2': 0.3, 'w': 0.9}\n"
          ]
        },
        {
          "output_type": "stream",
          "name": "stdout",
          "text": [
            "\n",
            "=========================================================================\n",
            "\n",
            "Número de ciclos de manutenção: 13 5\n",
            "Tempos para manutenções preventivas: [0, 65, 97, 149, 226, 305, 364, 403, 470, 495, 518, 594, 635, 710]\n",
            "Severidade para cada subsistema: [0.5, 0.5, 0.25, 0.5, 0.5, 0.5, 0.75, 0.5, 0.5, 0.75, 0.75, 0.5, 0.25]\n",
            "Número de Sisemas: 5\n",
            "Fator:  [0.3296799539643607, 0.6321205588285577, 0.6321205588285577, 0.3934693402873666, 0.6321205588285577, 0.6321205588285577, 0.6321205588285577, 0.7768698398515702, 0.6321205588285577, 0.6321205588285577, 0.7768698398515702, 0.7768698398515702, 0.6321205588285577, 0.3934693402873666]\n",
            "Media de falhas:  [0, 371293.00000000006, 1109759.0701830625, 2749910.971393921, 15325371.793432241, 150562606.61471385, 191938027.27182883, 227616979.6922139, 352581335.68227434, 360344849.99219584, 412407612.96328324, 762657540.964078, 799935753.7071522, 934532229.802227, 570797571.1430612]\n",
            "Custo =  74439956460.95093\n"
          ]
        },
        {
          "output_type": "stream",
          "name": "stderr",
          "text": [
            "pyswarms.single.global_best: 100%|██████████|1/1, best_cost=4.41e+10\n",
            "2023-10-02 01:29:12,252 - pyswarms.single.global_best - INFO - Optimization finished | best cost: 44078952820.113815, best pos: [2.27148104 4.62701737 0.3405596  3.24856678 1.97509697 1.55852569\n",
            " 6.2106612  3.56626479 2.59647089 4.54891176 3.17654575 4.80912563\n",
            " 0.29015003 5.43378744 2.37177473 3.67288029 3.51421559 5.2831706\n",
            " 2.62599728 5.80473403 2.87940837 3.17138697 2.26505228 1.67356996]\n",
            "2023-10-02 01:29:12,254 - pyswarms.single.global_best - INFO - Optimize for 1 iters with {'c1': 0.5, 'c2': 0.3, 'w': 0.9}\n"
          ]
        },
        {
          "output_type": "stream",
          "name": "stdout",
          "text": [
            "\n",
            "=========================================================================\n",
            "\n",
            "Número de ciclos de manutenção: 14 5\n",
            "Tempos para manutenções preventivas: [0, 62, 97, 149, 151, 226, 305, 376, 402, 470, 495, 518, 594, 635, 710]\n",
            "Severidade para cada subsistema: [0.75, 0.5, 0.25, 0.25, 0.5, 0.5, 0.75, 0.75, 0.5, 0.5, 0.75, 0.75, 0.5, 0.25]\n",
            "Número de Sisemas: 5\n",
            "Fator:  [0.3296799539643607, 0.7768698398515702, 0.6321205588285577, 0.3934693402873666, 0.3934693402873666, 0.6321205588285577, 0.6321205588285577, 0.7768698398515702, 0.7768698398515702, 0.6321205588285577, 0.6321205588285577, 0.7768698398515702, 0.7768698398515702, 0.6321205588285577, 0.3934693402873666]\n",
            "Media de falhas:  [0, 293162.50624, 1095183.046249879, 1786810.893768162, 1817885.2725712555, 40808769.47258874, 176046004.29387036, 236396457.81703842, 258531361.61345774, 287882647.32135606, 295646161.63127756, 347708924.60236496, 697958852.6031597, 735237065.346234, 869833541.4413087, 506098882.7821428]\n",
            "Custo =  70457692496.88147\n"
          ]
        },
        {
          "output_type": "stream",
          "name": "stderr",
          "text": [
            "pyswarms.single.global_best: 100%|██████████|1/1, best_cost=4.41e+10\n",
            "2023-10-02 01:29:12,265 - pyswarms.single.global_best - INFO - Optimization finished | best cost: 44078952820.113815, best pos: [2.2714446  4.6270227  0.3405616  3.2488597  1.97509702 1.55876669\n",
            " 6.2106682  3.5662674  2.59647284 5.76367    3.17663413 4.80910408\n",
            " 0.29014706 5.43370589 2.37184553 3.67288057 3.51415054 5.28316074\n",
            " 2.64671294 5.80474897 2.87667244 3.17138415 2.26505275 1.67357175]\n",
            "2023-10-02 01:29:12,267 - pyswarms.single.global_best - INFO - Optimize for 1 iters with {'c1': 0.5, 'c2': 0.3, 'w': 0.9}\n"
          ]
        },
        {
          "output_type": "stream",
          "name": "stdout",
          "text": [
            "\n",
            "=========================================================================\n",
            "\n",
            "Número de ciclos de manutenção: 11 5\n",
            "Tempos para manutenções preventivas: [0, 97, 149, 226, 305, 402, 470, 495, 518, 594, 635, 710]\n",
            "Severidade para cada subsistema: [0.5, 0.25, 0.5, 0.5, 0.75, 0.5, 0.5, 0.75, 0.75, 0.5, 0.25]\n",
            "Número de Sisemas: 5\n",
            "Fator:  [0.3296799539643607, 0.6321205588285577, 0.3934693402873666, 0.6321205588285577, 0.6321205588285577, 0.7768698398515702, 0.6321205588285577, 0.6321205588285577, 0.7768698398515702, 0.7768698398515702, 0.6321205588285577, 0.3934693402873666]\n",
            "Media de falhas:  [0, 2747948.88224, 9398200.019114291, 21973660.841152612, 157210895.66243422, 279750717.6079438, 407182197.91305315, 414945712.22297466, 467008475.19406205, 817258403.1948569, 854536615.9379312, 989133092.033006, 625398433.3738401]\n",
            "Custo =  73447615129.46208\n"
          ]
        },
        {
          "output_type": "stream",
          "name": "stderr",
          "text": [
            "pyswarms.single.global_best: 100%|██████████|1/1, best_cost=4.41e+10\n",
            "2023-10-02 01:29:12,278 - pyswarms.single.global_best - INFO - Optimization finished | best cost: 44078952820.113815, best pos: [2.27140181 4.62702748 0.34056368 3.24896786 1.97509714 1.55903381\n",
            " 6.21067743 3.56630031 2.59647509 6.59918132 3.17669672 4.80905462\n",
            " 0.29014605 5.43361822 2.37191377 3.67288078 3.51411345 5.28315109\n",
            " 2.6664897  5.8048119  2.87493751 3.1713818  2.26505353 1.67357249]\n",
            "2023-10-02 01:29:12,280 - pyswarms.single.global_best - INFO - Optimize for 1 iters with {'c1': 0.5, 'c2': 0.3, 'w': 0.9}\n"
          ]
        },
        {
          "output_type": "stream",
          "name": "stdout",
          "text": [
            "\n",
            "=========================================================================\n",
            "\n",
            "Número de ciclos de manutenção: 13 5\n",
            "Tempos para manutenções preventivas: [0, 97, 149, 160, 183, 226, 305, 402, 470, 495, 518, 594, 635, 710]\n",
            "Severidade para cada subsistema: [0.5, 0.25, 0.25, 0.5, 0.5, 0.5, 0.75, 0.5, 0.5, 0.75, 0.75, 0.5, 0.25]\n",
            "Número de Sisemas: 5\n",
            "Fator:  [0.3296799539643607, 0.6321205588285577, 0.3934693402873666, 0.3934693402873666, 0.6321205588285577, 0.6321205588285577, 0.6321205588285577, 0.7768698398515702, 0.6321205588285577, 0.6321205588285577, 0.7768698398515702, 0.7768698398515702, 0.6321205588285577, 0.3934693402873666]\n",
            "Media de falhas:  [0, 2747948.88224, 9398200.019114291, 9634985.741716249, 14858203.976921927, 37180275.44097605, 71769110.29178289, 194308932.23729247, 321740412.54240185, 329503926.85232335, 381566689.82341075, 731816617.8242055, 769094830.5672798, 903691306.6623547, 539956648.0031888]\n",
            "Custo =  70769184759.984\n"
          ]
        },
        {
          "output_type": "stream",
          "name": "stderr",
          "text": [
            "pyswarms.single.global_best: 100%|██████████|1/1, best_cost=4.41e+10\n",
            "2023-10-02 01:29:12,292 - pyswarms.single.global_best - INFO - Optimization finished | best cost: 44078952820.113815, best pos: [2.27135839 4.62703117 0.34056562 3.24904044 1.97509725 1.5592649\n",
            " 6.21069316 3.56636872 2.5964772  0.2036895  3.17674958 4.80899421\n",
            " 0.29015401 5.43353993 2.37196958 3.67288095 3.51408689 5.28314288\n",
            " 2.6855811  5.80487209 2.87370926 3.17138024 2.26505672 1.67357125]\n",
            "2023-10-02 01:29:12,294 - pyswarms.single.global_best - INFO - Optimize for 1 iters with {'c1': 0.5, 'c2': 0.3, 'w': 0.9}\n"
          ]
        },
        {
          "output_type": "stream",
          "name": "stdout",
          "text": [
            "\n",
            "=========================================================================\n",
            "\n",
            "Número de ciclos de manutenção: 12 5\n",
            "Tempos para manutenções preventivas: [0, 97, 149, 154, 226, 305, 402, 470, 495, 518, 594, 635, 710]\n",
            "Severidade para cada subsistema: [0.5, 0.25, 0.75, 0.5, 0.5, 0.75, 0.5, 0.5, 0.75, 0.75, 0.5, 0.25]\n",
            "Número de Sisemas: 5\n",
            "Fator:  [0.3296799539643607, 0.6321205588285577, 0.3934693402873666, 0.7768698398515702, 0.6321205588285577, 0.6321205588285577, 0.7768698398515702, 0.6321205588285577, 0.6321205588285577, 0.7768698398515702, 0.7768698398515702, 0.6321205588285577, 0.3934693402873666]\n",
            "Media de falhas:  [0, 2747948.88224, 9398200.019114291, 9484853.052862762, 46828583.4072306, 58346249.28908239, 180886071.23459196, 308317551.53970134, 316081065.84962285, 368143828.82071024, 718393756.8215051, 755671969.5645794, 890268445.6596541, 526533787.0004882]\n",
            "Custo =  68674038982.751495\n"
          ]
        },
        {
          "output_type": "stream",
          "name": "stderr",
          "text": [
            "pyswarms.single.global_best: 100%|██████████|1/1, best_cost=4.41e+10\n",
            "2023-10-02 01:29:12,305 - pyswarms.single.global_best - INFO - Optimization finished | best cost: 44078952820.113815, best pos: [2.27132001 4.62703416 0.34056705 3.24905116 1.97509742 1.55942817\n",
            " 6.21071068 3.56644698 2.59647888 1.18477745 3.17669043 4.80893887\n",
            " 0.29016319 5.43347043 2.37199524 3.672881   3.51407519 5.28313768\n",
            " 2.70202031 5.8049347  2.87299574 3.17137895 2.26506104 1.67356791]\n",
            "2023-10-02 01:29:12,306 - pyswarms.single.global_best - INFO - Optimize for 1 iters with {'c1': 0.5, 'c2': 0.3, 'w': 0.9}\n"
          ]
        },
        {
          "output_type": "stream",
          "name": "stdout",
          "text": [
            "\n",
            "=========================================================================\n",
            "\n",
            "Número de ciclos de manutenção: 13 5\n",
            "Tempos para manutenções preventivas: [0, 97, 149, 169, 192, 226, 305, 402, 470, 495, 518, 594, 635, 710]\n",
            "Severidade para cada subsistema: [0.5, 0.25, 0.25, 0.5, 0.5, 0.5, 0.75, 0.5, 0.5, 0.75, 0.75, 0.5, 0.25]\n",
            "Número de Sisemas: 5\n",
            "Fator:  [0.3296799539643607, 0.6321205588285577, 0.3934693402873666, 0.3934693402873666, 0.6321205588285577, 0.6321205588285577, 0.6321205588285577, 0.7768698398515702, 0.6321205588285577, 0.6321205588285577, 0.7768698398515702, 0.7768698398515702, 0.6321205588285577, 0.3934693402873666]\n",
            "Media de falhas:  [0, 2747948.88224, 9398200.019114291, 9989860.538020132, 16332671.600209836, 34148933.126643464, 68737767.97745028, 191277589.92295986, 318709070.22806925, 326472584.53799075, 378535347.50907815, 728785275.5098729, 766063488.2529472, 900659964.348022, 536925305.6888561]\n",
            "Custo =  71015683707.15767\n"
          ]
        },
        {
          "output_type": "stream",
          "name": "stderr",
          "text": [
            "pyswarms.single.global_best: 100%|██████████|1/1, best_cost=4.41e+10\n",
            "2023-10-02 01:29:12,317 - pyswarms.single.global_best - INFO - Optimization finished | best cost: 44078952820.113815, best pos: [2.27128915 4.62703674 0.34056762 3.24905701 1.97509758 1.55949045\n",
            " 6.21072569 3.56651525 2.59647982 2.24796142 3.17649353 4.80890253\n",
            " 0.29017199 5.4334086  2.37199537 3.67288099 3.51408698 5.28313311\n",
            " 2.7164752  5.80499155 2.87318234 3.17137945 2.26506608 1.67356348]\n",
            "2023-10-02 01:29:12,319 - pyswarms.single.global_best - INFO - Optimize for 1 iters with {'c1': 0.5, 'c2': 0.3, 'w': 0.9}\n"
          ]
        },
        {
          "output_type": "stream",
          "name": "stdout",
          "text": [
            "\n",
            "=========================================================================\n",
            "\n",
            "Número de ciclos de manutenção: 12 5\n",
            "Tempos para manutenções preventivas: [0, 97, 149, 164, 226, 305, 402, 470, 495, 518, 594, 635, 710]\n",
            "Severidade para cada subsistema: [0.5, 0.25, 0.75, 0.5, 0.5, 0.75, 0.5, 0.5, 0.75, 0.75, 0.5, 0.25]\n",
            "Número de Sisemas: 5\n",
            "Fator:  [0.3296799539643607, 0.6321205588285577, 0.3934693402873666, 0.7768698398515702, 0.6321205588285577, 0.6321205588285577, 0.7768698398515702, 0.6321205588285577, 0.6321205588285577, 0.7768698398515702, 0.7768698398515702, 0.6321205588285577, 0.3934693402873666]\n",
            "Media de falhas:  [0, 2747948.88224, 9398200.019114291, 9770571.249856897, 41779857.87753492, 53297523.75938672, 175837345.70489627, 303268826.01000565, 311032340.31992716, 363095103.29101455, 713345031.2918093, 750623244.0348836, 885219720.1299584, 521485061.4707925]\n",
            "Custo =  68694477539.526024\n"
          ]
        },
        {
          "output_type": "stream",
          "name": "stderr",
          "text": [
            "pyswarms.single.global_best:   0%|          |0/1, best_cost=4.41e+10"
          ]
        },
        {
          "output_type": "stream",
          "name": "stdout",
          "text": [
            "\n",
            "=========================================================================\n",
            "\n",
            "Número de ciclos de manutenção: 13 5\n",
            "Tempos para manutenções preventivas: [0, 97, 149, 179, 226, 305, 362, 402, 470, 495, 518, 594, 635, 710]\n",
            "Severidade para cada subsistema: [0.5, 0.25, 0.25, 0.5, 0.5, 0.75, 0.75, 0.5, 0.5, 0.75, 0.75, 0.5, 0.25]\n",
            "Número de Sisemas: 5\n",
            "Fator:  [0.3296799539643607, 0.6321205588285577, 0.3934693402873666, 0.3934693402873666, 0.6321205588285577, 0.6321205588285577, 0.7768698398515702, 0.7768698398515702, 0.6321205588285577, 0.6321205588285577, 0.7768698398515702, 0.7768698398515702, 0.6321205588285577, 0.3934693402873666]\n",
            "Media de falhas:  [0, 2747948.88224, 9398200.019114291, 10644246.33258508, 34975723.76030788, 170212958.5815895, 208902718.5242765, 245335110.40349224, 274686396.1113906, 282449910.4213121, 334512673.3923995, 684762601.3931942, 722040814.1362685, 856637290.2313433, 492902631.57217735]\n",
            "Custo =  70566946784.56932\n"
          ]
        },
        {
          "output_type": "stream",
          "name": "stderr",
          "text": [
            "\rpyswarms.single.global_best: 100%|██████████|1/1, best_cost=4.41e+10\n",
            "2023-10-02 01:29:12,332 - pyswarms.single.global_best - INFO - Optimization finished | best cost: 44078952820.113815, best pos: [2.27128081 4.62703755 0.34056749 3.24901448 1.97509773 1.55952048\n",
            " 6.21073464 3.56656164 2.59647968 3.3737255  3.17621972 4.80889401\n",
            " 0.2901831  5.43337327 2.37199031 3.67288097 3.51412262 5.28313364\n",
            " 2.72598503 5.80504079 2.87377277 3.17138094 2.26507206 1.67355872]\n"
          ]
        }
      ]
    },
    {
      "cell_type": "code",
      "source": [
        "# Nome do arquivo CSV para salvar o resultado do melhor custo\n",
        "nome_arquivo = '/content/drive/MyDrive/datasets/resultados_optimizacao/resultados_pso/melhor_custo_pso_primeiro_cenario.csv'\n",
        "\n",
        "# Abrir o arquivo CSV em modo de leitura para verificar o melhor custo anterior (se existir)\n",
        "melhores_custos_anteriores = []\n",
        "try:\n",
        "    with open(nome_arquivo, 'r') as arquivo_csv:\n",
        "        reader = csv.reader(arquivo_csv)\n",
        "        next(reader)  # Pule o cabeçalho\n",
        "        for linha in reader:\n",
        "            melhores_custos_anteriores.append(float(linha[1]))\n",
        "except FileNotFoundError:\n",
        "    pass  # Arquivo não existe, pode ser a primeira execução\n",
        "\n",
        "# Adicionar o melhor custo atual à lista de melhores custos anteriores\n",
        "melhores_custos_anteriores.append(pbest_cost[0])\n",
        "\n",
        "# Abrir o arquivo CSV em modo de escrita e escrever todos os melhores custos\n",
        "with open(nome_arquivo, 'w', newline='') as arquivo_csv:\n",
        "    writer = csv.writer(arquivo_csv)\n",
        "\n",
        "    # Escreve o cabeçalho com as colunas\n",
        "    writer.writerow(['Interação', 'Melhor Custo', 'Numero de Particulas', 'Numero de Interações', 'Dimensions', 'options'])\n",
        "\n",
        "    # Escreve os valores dos melhores custos com números de interação\n",
        "    for i, custo in enumerate(melhores_custos_anteriores, start=1):\n",
        "        writer.writerow([i, custo, num_particles, max_iterations, dimensions, options])"
      ],
      "metadata": {
        "id": "SvLX3p0EXBEo"
      },
      "execution_count": 349,
      "outputs": []
    },
    {
      "cell_type": "code",
      "source": [
        "# Plotar gráfico de densidade da otimização\n",
        "plt.figure()\n",
        "plt.plot(optimizer.cost_history)\n",
        "plt.xlabel('Iteration')\n",
        "plt.xlim(0, max_iterations)\n",
        "plt.ylabel('Objective function')\n",
        "plt.title('Particle Swarm Optimization (PSO) - Cost History')\n",
        "plt.show()\n",
        "\n",
        "print(\"                              \")\n",
        "print(\"*************************************************************************\")\n",
        "print(\"Número total de iterações:\", max_iterations)\n",
        "print(\"Número de Particulas:\", num_particles)\n",
        "print(\"Número de Dimensões:\", dimensions)\n",
        "print(\"                              \")\n",
        "print(\"Melhor partícula:\", pbest_cost[0])"
      ],
      "metadata": {
        "id": "ULlt81ZI1vn9",
        "outputId": "59a77114-911d-443b-81c5-267553295c0c",
        "colab": {
          "base_uri": "https://localhost:8080/",
          "height": 594
        }
      },
      "execution_count": 269,
      "outputs": [
        {
          "output_type": "display_data",
          "data": {
            "text/plain": [
              "<Figure size 640x480 with 1 Axes>"
            ],
            "image/png": "[encoded data removed]"
          },
          "metadata": {}
        },
        {
          "output_type": "stream",
          "name": "stdout",
          "text": [
            "                              \n",
            "*************************************************************************\n",
            "Número total de iterações: 100\n",
            "Número de Particulas: 100\n",
            "Número de Dimensões: 24\n",
            "                              \n",
            "Melhor partícula: 427097437892.2774\n"
          ]
        }
      ]
    },
    {
      "cell_type": "code",
      "source": [
        "# Plotar o gráfico 3D com todas as melhores posições\n",
        "fig = plt.figure(figsize=(8, 8))\n",
        "ax = fig.add_subplot(111)\n",
        "\n",
        "# Plotar todas as melhores posições anteriores\n",
        "for i in range(best_positions.shape[0]):\n",
        "    ax.scatter(best_positions[i, 0], best_positions[i, 1], marker='x', c='blue', alpha=0.6)\n",
        "\n",
        "# Plotar a última melhor posição com uma cor diferente para destacá-la\n",
        "ax.scatter(best_positions[-1, 0], best_positions[-1, 1], c='red', label='Melhor posição atual')\n",
        "\n",
        "ax.set_title('PSO - Melhores posições ao longo das iterações')\n",
        "ax.set_xlabel('Primeira dimensão das melhores posições')\n",
        "ax.set_ylabel('Segunda dimensão das melhores posições')\n",
        "ax.legend()\n",
        "plt.grid()\n",
        "plt.show()"
      ],
      "metadata": {
        "id": "4STRoUAPxmqT",
        "outputId": "dded366e-45e0-4c6a-ac19-4c4001650a32",
        "colab": {
          "base_uri": "https://localhost:8080/",
          "height": 718
        }
      },
      "execution_count": 270,
      "outputs": [
        {
          "output_type": "display_data",
          "data": {
            "text/plain": [
              "<Figure size 800x800 with 1 Axes>"
            ],
            "image/png": "[encoded data removed]"
          },
          "metadata": {}
        }
      ]
    }
  ]
}