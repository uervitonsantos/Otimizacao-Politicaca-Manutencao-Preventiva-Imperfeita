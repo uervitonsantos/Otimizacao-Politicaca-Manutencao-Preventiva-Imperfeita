{
  "nbformat": 4,
  "nbformat_minor": 0,
  "metadata": {
    "colab": {
      "provenance": [],
      "include_colab_link": true
    },
    "kernelspec": {
      "name": "python3",
      "display_name": "Python 3"
    },
    "language_info": {
      "name": "python"
    }
  },
  "cells": [
    {
      "cell_type": "markdown",
      "metadata": {
        "id": "view-in-github",
        "colab_type": "text"
      },
      "source": [
        "<a href=\"https://colab.research.google.com/github/uervitonsantos/Otimizacao-Politicaca-Manutencao-Preventiva-Imperfeita/blob/main/Algoritmo_PSO_para_otimiza%C3%A7%C3%A3o_de_custo_de_manuten%C3%A7%C3%A3o_preventiva_v11.ipynb\" target=\"_parent\"><img src=\"https://colab.research.google.com/assets/colab-badge.svg\" alt=\"Open In Colab\"/></a>"
      ]
    },
    {
      "cell_type": "markdown",
      "source": [
        "Os Dataset's de dados de confiabilidade para os 4 cenarios podem ser obtidos em: https://drive.google.com/drive/folders/1tzW3424gsRYhvXOCIaF67PCb3PAiOU43?usp=drive_link"
      ],
      "metadata": {
        "id": "wZi0pIL-Ch37"
      }
    },
    {
      "cell_type": "code",
      "execution_count": 279,
      "metadata": {
        "id": "VM8_ebpiVP0V"
      },
      "outputs": [],
      "source": [
        "%%capture\n",
        "pip install pyswarms"
      ]
    },
    {
      "cell_type": "code",
      "source": [
        "%%capture\n",
        "!pip install numpy==1.26"
      ],
      "metadata": {
        "id": "1ybZT-uetbA6"
      },
      "execution_count": 280,
      "outputs": []
    },
    {
      "cell_type": "code",
      "source": [
        "import numpy as np\n",
        "import pandas as pd\n",
        "import math\n",
        "import csv\n",
        "import matplotlib.pyplot as plt\n",
        "import time\n",
        "from pyswarms.single.global_best import GlobalBestPSO\n",
        "import pyswarms as ps\n",
        "from pyswarms.utils.search import RandomSearch\n",
        "from pyswarms.utils.functions import single_obj as fx\n",
        "from pyswarms.utils.plotters import (plot_cost_history, plot_contour, plot_surface)\n",
        "import plotly.graph_objects as go\n",
        "from pyswarms.utils.plotters.formatters import Designer\n",
        "from pyswarms.utils.plotters.formatters import Mesher\n",
        "from mpl_toolkits.mplot3d import Axes3D"
      ],
      "metadata": {
        "id": "2sVG0WwfVrUs"
      },
      "execution_count": 281,
      "outputs": []
    },
    {
      "cell_type": "code",
      "source": [
        "from google.colab import drive\n",
        "drive.mount('/content/drive')"
      ],
      "metadata": {
        "colab": {
          "base_uri": "https://localhost:8080/"
        },
        "id": "UxVZzIrcndid",
        "outputId": "f095aca8-f8fe-4234-8ed5-17cae9fd6c33"
      },
      "execution_count": 282,
      "outputs": [
        {
          "output_type": "stream",
          "name": "stdout",
          "text": [
            "Drive already mounted at /content/drive; to attempt to forcibly remount, call drive.mount(\"/content/drive\", force_remount=True).\n"
          ]
        }
      ]
    },
    {
      "cell_type": "code",
      "source": [
        "# Constantes criadas para representar alguns valores de teste no codigo\n",
        "\n",
        "MAX_VALUE_CUSTO = 10000 # Valor maximo para o custo total da otimização\n",
        "fator_melhoria = 'expo' # Função exponencial selecionada. Há outras funções desenvolvidas\n",
        "DIAS_OBSERVADOS = 600 # Quantidade de dias observados no horizonte de planejamento. Para cada teste há uma quantidade de dia específico\n",
        "CMC = 4000 # Valor para o custo da manutenção corretiva\n",
        "CMP = 2000 # Valor para o custo da manutenção preventiva"
      ],
      "metadata": {
        "id": "FeZKvg25Vtwz"
      },
      "execution_count": 283,
      "outputs": []
    },
    {
      "cell_type": "code",
      "source": [
        "class IntensidadeFalha:\n",
        "    # Este método vai inicializar cada objeto criado a partir desta classe\n",
        "    # O nome deste método é \"inicio\"\n",
        "    # (self) é uma referência a cada atributo de um objeto criado a partir desta classe\n",
        "    # Os atributos de cada objeto criados a partir desta classe.\n",
        "    # O self indica que estes são atributos dos objetos\n",
        "    def __init__(self):\n",
        "        self.fator = None\n",
        "        self.lamb = None\n",
        "        self.beta = None\n",
        "        self.theta = None\n",
        "        self.sz = None\n",
        "        self.T = None\n",
        "        self.u = None\n",
        "\n",
        "    def inicio(self, T, fator, solucao):\n",
        "        self.fator = fator\n",
        "        self.lamb = solucao[0]\n",
        "        self.beta = solucao[1]\n",
        "        self.theta = solucao[2]\n",
        "        self.sz = int(T[-1])\n",
        "        self.T = T\n",
        "\n",
        "    def create(self):\n",
        "        self.u = []\n",
        "        # Reducao de Idade com fator de melhoria linear\n",
        "        for i, tc in enumerate(self.T[1:], start=1):\n",
        "            for tt in range(int(self.T[i-1]), int(tc)+1):\n",
        "                b = tt - self.fator[0][i-1] * self.T[i-1]\n",
        "                self.u.append((1 / (self.lamb ** self.beta)) * self.beta * b ** (self.beta - 1))\n",
        "\n",
        "                if tt == tc:\n",
        "                    self.u.append(float('nan'))\n",
        "            break\n",
        "    # plota e salva a figura da função de intensidade de falha\n",
        "    def plotar(self):\n",
        "        fig = plt.figure(figsize=(20, 5))\n",
        "        plt.plot(self.u)\n",
        "\n",
        "        for xc in self.T:\n",
        "            plt.axvline(x=xc, color='r', linestyle='--')\n",
        "\n",
        "        plt.xlabel(\"Tempo (dias)\")\n",
        "        plt.ylabel(\"Função intensidade de falha\")\n",
        "        plt.xlim(0)\n",
        "        plt.grid(True)\n",
        "        plt.show()"
      ],
      "metadata": {
        "id": "QhF2qTuDV2P1"
      },
      "execution_count": 284,
      "outputs": []
    },
    {
      "cell_type": "code",
      "source": [
        "# Define a função de melhoria constante\n",
        "def const(ck, m, s, theta):\n",
        "    fator = [[theta] * ck] * m\n",
        "    return fator"
      ],
      "metadata": {
        "id": "mMRO_z3_V4a3"
      },
      "execution_count": 285,
      "outputs": []
    },
    {
      "cell_type": "code",
      "source": [
        "# Define a função de melhoria linear\n",
        "def linear(ck, m, s, theta):\n",
        "    fator = []\n",
        "    for k in range(0, m, 1):\n",
        "        linha = [0]\n",
        "        for j in range(0, ck, 1):\n",
        "            linha.append(s[k][j] * theta)\n",
        "        fator.append(linha)\n",
        "    return fator"
      ],
      "metadata": {
        "id": "S_fCxa7GV65n"
      },
      "execution_count": 286,
      "outputs": []
    },
    {
      "cell_type": "code",
      "source": [
        "# Define a função de melhoria exponencial\n",
        "def expo(ck, m, s, theta):\n",
        "    fator = []\n",
        "    for k in range(0, m):\n",
        "        linha = []\n",
        "        # Verifique se o índice k é válido\n",
        "        if k >= len(s):\n",
        "            break\n",
        "        for j in range(0, ck):\n",
        "            # Verifique se o índice j é válido\n",
        "            if j >= len(s[k]):\n",
        "                break\n",
        "            linha.append(1.0 - np.exp(-s[k][j] * theta))\n",
        "        fator.append(linha)\n",
        "\n",
        "    return fator"
      ],
      "metadata": {
        "id": "NV3lIXl9V9FL"
      },
      "execution_count": 287,
      "outputs": []
    },
    {
      "cell_type": "code",
      "source": [
        "# Define a função de melhoria potência\n",
        "def pot(ck, m, s, theta):\n",
        "    fator = []\n",
        "    for k in range(0, m, 1):\n",
        "        linha = []\n",
        "        for j in range(0, ck, 1):\n",
        "            linha.append(s[k][j] ** theta)\n",
        "        fator.append(linha)\n",
        "    return fator"
      ],
      "metadata": {
        "id": "ikxXlzxKV-0K"
      },
      "execution_count": 288,
      "outputs": []
    },
    {
      "cell_type": "code",
      "source": [
        "# Define a função de melhoria para manutenção perfeita\n",
        "def mpp(ck, m, s, theta):\n",
        "    fator = []\n",
        "    for k in range(0, m, 1):\n",
        "        linha = []\n",
        "        for j in range(0, ck, 1):\n",
        "            linha.append(1)\n",
        "        fator.append(linha)\n",
        "    return fator"
      ],
      "metadata": {
        "id": "xcHr8tSFWAus"
      },
      "execution_count": 289,
      "outputs": []
    },
    {
      "cell_type": "code",
      "source": [
        "# Executa a função de melhoria com base no parâmetro fornecido\n",
        "def execute_function(fator_melhoria, ck, m, s, theta):\n",
        "    return {\n",
        "        'const': lambda: const(ck, m, s, theta),\n",
        "        'linear': lambda: linear(ck, m, s, theta),\n",
        "        'expo': lambda: expo(ck, m, s, theta),\n",
        "        'pot': lambda: pot(ck, m, s, theta),\n",
        "        'mpp': lambda: mpp(ck, m, s, theta),\n",
        "    }[fator_melhoria]()"
      ],
      "metadata": {
        "id": "R5KeFcseWDH6"
      },
      "execution_count": 290,
      "outputs": []
    },
    {
      "cell_type": "code",
      "source": [
        "# Função custo de manutenção baseada em severidade\n",
        "def custo_mp(s, CMP):\n",
        "    dist = {0.25: 2000, 0.5: 4000, 0.75: 12000, 1.0: 20000}\n",
        "    if not isinstance(s, list):\n",
        "        s = [s]  # Transforma s em uma lista com um único elemento\n",
        "    cmp_f = np.sum([CMP if si < 0.25 or si > 1.0 else np.interp(si, [0.25, 0.5, 0.75, 1.0], [2000, 4000, 12000, 20000]) for si in s])\n",
        "    return cmp_f"
      ],
      "metadata": {
        "id": "B8BkTWrmWGWO"
      },
      "execution_count": 291,
      "outputs": []
    },
    {
      "cell_type": "markdown",
      "source": [
        "O 1.º cenário, considera o dataset fictício do trabalho do Dr Marco Coque Jr, com 5 sistema, observados por 600 dias, com MP realizada nos tempos 150, 250, 500 e 600, com custo de MP apresentado na tabela 1, com taxas de severidades de 40%, 50%, 90% e 20%, respectivamente  e MC fixa em \"?\"\n",
        "\n",
        "O 2.º cenário, considera o dataset fictício, com 3 sistemas, observados por 730 dias, com MP realizada nos tempos \"?\", com custo de MP apresentado na tabela 2, com taxas de severidade fixas em 20%, 70% e 100%, respectivamente e MC fixa em US$15.000\n",
        "\n",
        "O 3.º cenário, considera o dataset fictício, com 2 sistemas, observados por 1.460 dias, com MP realizada nos tempos \"?\", com custo de MP fixo em US$4.000, com taxas de severidade fixas em 100% e MC fixa em US$17.000\n",
        "\n",
        "O 4.º cenário, considera o dataset fictício, com 4 sistemas, observados por 730 dias, com MP realizada nos tempos \"?\", com custo de MP apresentado na tabela 2, com taxas de severidade fixas em 50% e 100%, onde US$2.000 e US$3.000, respectivamente e MC fixa em US$15.000 texto em itálico\n",
        "\n",
        "\n",
        "\n"
      ],
      "metadata": {
        "id": "G2TJsXlyGcOc"
      }
    },
    {
      "cell_type": "code",
      "source": [
        "# Defina o dicionário de tipos de dados\n",
        "# define as 3 colunas do dataset como int\n",
        "dtypes = {\n",
        "    't': int,\n",
        "    'k': int,\n",
        "    'c': int,\n",
        "}\n",
        "\n",
        "# Leitura dos dados de tempo de falha para 4 cenarios de exemplo\n",
        "# df = pd.read_csv('/content/drive/MyDrive/datasets/cenario01.csv.csv', sep=\";\")\n",
        "# df = pd.read_csv('/content/drive/MyDrive/datasets/cenario02.csv.csv', sep=\";\")\n",
        "# df = pd.read_csv('/content/drive/MyDrive/datasets/cenario03.csv.csv', sep=\";\")\n",
        "# df = pd.read_csv('/content/drive/MyDrive/datasets/cenario04.csv.csv', sep=\";\")\n",
        "df = pd.read_csv('/content/drive/MyDrive/datasets/cenario01.csv', sep=\";\")\n",
        "\n",
        "# Remova as linhas com valores ausentes\n",
        "df = df.fillna(0)\n",
        "\n",
        "# Converta as colunas para os tipos de dados desejados\n",
        "df = df.astype(dtypes)\n",
        "\n",
        "df.head()"
      ],
      "metadata": {
        "colab": {
          "base_uri": "https://localhost:8080/",
          "height": 206
        },
        "id": "IDcyZ_pHWIW8",
        "outputId": "e3f0f23d-60df-4a36-db80-b596f451366c"
      },
      "execution_count": 292,
      "outputs": [
        {
          "output_type": "execute_result",
          "data": {
            "text/plain": [
              "     t  k  c    n    s      T\n",
              "0   90  1  1  4.0  0.4  150.0\n",
              "1  110  1  1  0.0  0.5  250.0\n",
              "2  125  1  1  9.0  0.9  500.0\n",
              "3  135  1  1  2.0  0.2  600.0\n",
              "4  295  1  3  2.0  0.4    0.0"
            ],
            "text/html": [
              "\n",
              "  <div id=\"df-b1e607d2-a817-49dd-a07c-4558d73d22cc\" class=\"colab-df-container\">\n",
              "    <div>\n",
              "<style scoped>\n",
              "    .dataframe tbody tr th:only-of-type {\n",
              "        vertical-align: middle;\n",
              "    }\n",
              "\n",
              "    .dataframe tbody tr th {\n",
              "        vertical-align: top;\n",
              "    }\n",
              "\n",
              "    .dataframe thead th {\n",
              "        text-align: right;\n",
              "    }\n",
              "</style>\n",
              "<table border=\"1\" class=\"dataframe\">\n",
              "  <thead>\n",
              "    <tr style=\"text-align: right;\">\n",
              "      <th></th>\n",
              "      <th>t</th>\n",
              "      <th>k</th>\n",
              "      <th>c</th>\n",
              "      <th>n</th>\n",
              "      <th>s</th>\n",
              "      <th>T</th>\n",
              "    </tr>\n",
              "  </thead>\n",
              "  <tbody>\n",
              "    <tr>\n",
              "      <th>0</th>\n",
              "      <td>90</td>\n",
              "      <td>1</td>\n",
              "      <td>1</td>\n",
              "      <td>4.0</td>\n",
              "      <td>0.4</td>\n",
              "      <td>150.0</td>\n",
              "    </tr>\n",
              "    <tr>\n",
              "      <th>1</th>\n",
              "      <td>110</td>\n",
              "      <td>1</td>\n",
              "      <td>1</td>\n",
              "      <td>0.0</td>\n",
              "      <td>0.5</td>\n",
              "      <td>250.0</td>\n",
              "    </tr>\n",
              "    <tr>\n",
              "      <th>2</th>\n",
              "      <td>125</td>\n",
              "      <td>1</td>\n",
              "      <td>1</td>\n",
              "      <td>9.0</td>\n",
              "      <td>0.9</td>\n",
              "      <td>500.0</td>\n",
              "    </tr>\n",
              "    <tr>\n",
              "      <th>3</th>\n",
              "      <td>135</td>\n",
              "      <td>1</td>\n",
              "      <td>1</td>\n",
              "      <td>2.0</td>\n",
              "      <td>0.2</td>\n",
              "      <td>600.0</td>\n",
              "    </tr>\n",
              "    <tr>\n",
              "      <th>4</th>\n",
              "      <td>295</td>\n",
              "      <td>1</td>\n",
              "      <td>3</td>\n",
              "      <td>2.0</td>\n",
              "      <td>0.4</td>\n",
              "      <td>0.0</td>\n",
              "    </tr>\n",
              "  </tbody>\n",
              "</table>\n",
              "</div>\n",
              "    <div class=\"colab-df-buttons\">\n",
              "\n",
              "  <div class=\"colab-df-container\">\n",
              "    <button class=\"colab-df-convert\" onclick=\"convertToInteractive('df-b1e607d2-a817-49dd-a07c-4558d73d22cc')\"\n",
              "            title=\"Convert this dataframe to an interactive table.\"\n",
              "            style=\"display:none;\">\n",
              "\n",
              "  <svg xmlns=\"http://www.w3.org/2000/svg\" height=\"24px\" viewBox=\"0 -960 960 960\">\n",
              "    <path d=\"M120-120v-720h720v720H120Zm60-500h600v-160H180v160Zm220 220h160v-160H400v160Zm0 220h160v-160H400v160ZM180-400h160v-160H180v160Zm440 0h160v-160H620v160ZM180-180h160v-160H180v160Zm440 0h160v-160H620v160Z\"/>\n",
              "  </svg>\n",
              "    </button>\n",
              "\n",
              "  <style>\n",
              "    .colab-df-container {\n",
              "      display:flex;\n",
              "      gap: 12px;\n",
              "    }\n",
              "\n",
              "    .colab-df-convert {\n",
              "      background-color: #E8F0FE;\n",
              "      border: none;\n",
              "      border-radius: 50%;\n",
              "      cursor: pointer;\n",
              "      display: none;\n",
              "      fill: #1967D2;\n",
              "      height: 32px;\n",
              "      padding: 0 0 0 0;\n",
              "      width: 32px;\n",
              "    }\n",
              "\n",
              "    .colab-df-convert:hover {\n",
              "      background-color: #E2EBFA;\n",
              "      box-shadow: 0px 1px 2px rgba(60, 64, 67, 0.3), 0px 1px 3px 1px rgba(60, 64, 67, 0.15);\n",
              "      fill: #174EA6;\n",
              "    }\n",
              "\n",
              "    .colab-df-buttons div {\n",
              "      margin-bottom: 4px;\n",
              "    }\n",
              "\n",
              "    [theme=dark] .colab-df-convert {\n",
              "      background-color: #3B4455;\n",
              "      fill: #D2E3FC;\n",
              "    }\n",
              "\n",
              "    [theme=dark] .colab-df-convert:hover {\n",
              "      background-color: #434B5C;\n",
              "      box-shadow: 0px 1px 3px 1px rgba(0, 0, 0, 0.15);\n",
              "      filter: drop-shadow(0px 1px 2px rgba(0, 0, 0, 0.3));\n",
              "      fill: #FFFFFF;\n",
              "    }\n",
              "  </style>\n",
              "\n",
              "    <script>\n",
              "      const buttonEl =\n",
              "        document.querySelector('#df-b1e607d2-a817-49dd-a07c-4558d73d22cc button.colab-df-convert');\n",
              "      buttonEl.style.display =\n",
              "        google.colab.kernel.accessAllowed ? 'block' : 'none';\n",
              "\n",
              "      async function convertToInteractive(key) {\n",
              "        const element = document.querySelector('#df-b1e607d2-a817-49dd-a07c-4558d73d22cc');\n",
              "        const dataTable =\n",
              "          await google.colab.kernel.invokeFunction('convertToInteractive',\n",
              "                                                    [key], {});\n",
              "        if (!dataTable) return;\n",
              "\n",
              "        const docLinkHtml = 'Like what you see? Visit the ' +\n",
              "          '<a target=\"_blank\" href=https://colab.research.google.com/notebooks/data_table.ipynb>data table notebook</a>'\n",
              "          + ' to learn more about interactive tables.';\n",
              "        element.innerHTML = '';\n",
              "        dataTable['output_type'] = 'display_data';\n",
              "        await google.colab.output.renderOutput(dataTable, element);\n",
              "        const docLink = document.createElement('div');\n",
              "        docLink.innerHTML = docLinkHtml;\n",
              "        element.appendChild(docLink);\n",
              "      }\n",
              "    </script>\n",
              "  </div>\n",
              "\n",
              "\n",
              "<div id=\"df-3bd9a9d0-2fc0-46c6-904f-27cfe8b61e91\">\n",
              "  <button class=\"colab-df-quickchart\" onclick=\"quickchart('df-3bd9a9d0-2fc0-46c6-904f-27cfe8b61e91')\"\n",
              "            title=\"Suggest charts.\"\n",
              "            style=\"display:none;\">\n",
              "\n",
              "<svg xmlns=\"http://www.w3.org/2000/svg\" height=\"24px\"viewBox=\"0 0 24 24\"\n",
              "     width=\"24px\">\n",
              "    <g>\n",
              "        <path d=\"M19 3H5c-1.1 0-2 .9-2 2v14c0 1.1.9 2 2 2h14c1.1 0 2-.9 2-2V5c0-1.1-.9-2-2-2zM9 17H7v-7h2v7zm4 0h-2V7h2v10zm4 0h-2v-4h2v4z\"/>\n",
              "    </g>\n",
              "</svg>\n",
              "  </button>\n",
              "\n",
              "<style>\n",
              "  .colab-df-quickchart {\n",
              "      --bg-color: #E8F0FE;\n",
              "      --fill-color: #1967D2;\n",
              "      --hover-bg-color: #E2EBFA;\n",
              "      --hover-fill-color: #174EA6;\n",
              "      --disabled-fill-color: #AAA;\n",
              "      --disabled-bg-color: #DDD;\n",
              "  }\n",
              "\n",
              "  [theme=dark] .colab-df-quickchart {\n",
              "      --bg-color: #3B4455;\n",
              "      --fill-color: #D2E3FC;\n",
              "      --hover-bg-color: #434B5C;\n",
              "      --hover-fill-color: #FFFFFF;\n",
              "      --disabled-bg-color: #3B4455;\n",
              "      --disabled-fill-color: #666;\n",
              "  }\n",
              "\n",
              "  .colab-df-quickchart {\n",
              "    background-color: var(--bg-color);\n",
              "    border: none;\n",
              "    border-radius: 50%;\n",
              "    cursor: pointer;\n",
              "    display: none;\n",
              "    fill: var(--fill-color);\n",
              "    height: 32px;\n",
              "    padding: 0;\n",
              "    width: 32px;\n",
              "  }\n",
              "\n",
              "  .colab-df-quickchart:hover {\n",
              "    background-color: var(--hover-bg-color);\n",
              "    box-shadow: 0 1px 2px rgba(60, 64, 67, 0.3), 0 1px 3px 1px rgba(60, 64, 67, 0.15);\n",
              "    fill: var(--button-hover-fill-color);\n",
              "  }\n",
              "\n",
              "  .colab-df-quickchart-complete:disabled,\n",
              "  .colab-df-quickchart-complete:disabled:hover {\n",
              "    background-color: var(--disabled-bg-color);\n",
              "    fill: var(--disabled-fill-color);\n",
              "    box-shadow: none;\n",
              "  }\n",
              "\n",
              "  .colab-df-spinner {\n",
              "    border: 2px solid var(--fill-color);\n",
              "    border-color: transparent;\n",
              "    border-bottom-color: var(--fill-color);\n",
              "    animation:\n",
              "      spin 1s steps(1) infinite;\n",
              "  }\n",
              "\n",
              "  @keyframes spin {\n",
              "    0% {\n",
              "      border-color: transparent;\n",
              "      border-bottom-color: var(--fill-color);\n",
              "      border-left-color: var(--fill-color);\n",
              "    }\n",
              "    20% {\n",
              "      border-color: transparent;\n",
              "      border-left-color: var(--fill-color);\n",
              "      border-top-color: var(--fill-color);\n",
              "    }\n",
              "    30% {\n",
              "      border-color: transparent;\n",
              "      border-left-color: var(--fill-color);\n",
              "      border-top-color: var(--fill-color);\n",
              "      border-right-color: var(--fill-color);\n",
              "    }\n",
              "    40% {\n",
              "      border-color: transparent;\n",
              "      border-right-color: var(--fill-color);\n",
              "      border-top-color: var(--fill-color);\n",
              "    }\n",
              "    60% {\n",
              "      border-color: transparent;\n",
              "      border-right-color: var(--fill-color);\n",
              "    }\n",
              "    80% {\n",
              "      border-color: transparent;\n",
              "      border-right-color: var(--fill-color);\n",
              "      border-bottom-color: var(--fill-color);\n",
              "    }\n",
              "    90% {\n",
              "      border-color: transparent;\n",
              "      border-bottom-color: var(--fill-color);\n",
              "    }\n",
              "  }\n",
              "</style>\n",
              "\n",
              "  <script>\n",
              "    async function quickchart(key) {\n",
              "      const quickchartButtonEl =\n",
              "        document.querySelector('#' + key + ' button');\n",
              "      quickchartButtonEl.disabled = true;  // To prevent multiple clicks.\n",
              "      quickchartButtonEl.classList.add('colab-df-spinner');\n",
              "      try {\n",
              "        const charts = await google.colab.kernel.invokeFunction(\n",
              "            'suggestCharts', [key], {});\n",
              "      } catch (error) {\n",
              "        console.error('Error during call to suggestCharts:', error);\n",
              "      }\n",
              "      quickchartButtonEl.classList.remove('colab-df-spinner');\n",
              "      quickchartButtonEl.classList.add('colab-df-quickchart-complete');\n",
              "    }\n",
              "    (() => {\n",
              "      let quickchartButtonEl =\n",
              "        document.querySelector('#df-3bd9a9d0-2fc0-46c6-904f-27cfe8b61e91 button');\n",
              "      quickchartButtonEl.style.display =\n",
              "        google.colab.kernel.accessAllowed ? 'block' : 'none';\n",
              "    })();\n",
              "  </script>\n",
              "</div>\n",
              "    </div>\n",
              "  </div>\n"
            ]
          },
          "metadata": {},
          "execution_count": 292
        }
      ]
    },
    {
      "cell_type": "markdown",
      "source": [
        "\n",
        "\n",
        "*   t: Representa os tempos de falha.\n",
        "*   k: Indica o índice do sistema.\n",
        "*   c: Representa o número de ciclos de manutenção.\n",
        "*   n: Indica o número de falhas em cada ciclo de manutenção preventiva.\n",
        "*   s: Representa a severidade das manutenções preventivas em cada sistema.\n",
        "*   T: Indica os tempos das manutenções preventivas.\n",
        "\n"
      ],
      "metadata": {
        "id": "CaA-qPulJnW2"
      }
    },
    {
      "cell_type": "code",
      "source": [
        "# Cria as variaveis\n",
        "# tempos de falhas\n",
        "t = df['t']\n",
        "# indice do sistema\n",
        "k = df['k']\n",
        "m = k.drop_duplicates().shape[0]\n",
        "# Numero de ciclos de manutenção\n",
        "ck = df['c'].max()\n",
        "# Numero de falhas e severidade das manutenções preventivas em cada sistema\n",
        "n = []\n",
        "s = []\n",
        "for k in range(m):\n",
        "    n.append(list(df['n'][k * ck:(k + 1) * ck]))\n",
        "    s.append(list(df['s'][k * ck:(k + 1) * ck]))\n",
        "\n",
        "# Tempos das MP\n",
        "T = list(df['T'][:m])"
      ],
      "metadata": {
        "id": "osEXf1wsuIlP"
      },
      "execution_count": 293,
      "outputs": []
    },
    {
      "cell_type": "code",
      "source": [
        "# Define a função objetivo para ótimização dos parametros lambda, beta, theta\n",
        "def objective(x):\n",
        "    #\n",
        "    # Solucao a ser avaliada x = [x1, x2, x3] = [lambda, beta, theta]\n",
        "    lamb = x[:, 0]\n",
        "    beta = x[:, 1]\n",
        "    theta = x[:, 2]\n",
        "\n",
        "    # Cria fator de melhoria\n",
        "\t# variável fator_melhoria definida como 'expo' no início do programa!\n",
        "    fator = execute_function(fator_melhoria, ck, m, s, theta)\n",
        "\n",
        "    cont = 0\n",
        "    fitness = 1\n",
        "\n",
        "    for k in range(0, m, 1):\n",
        "        prod = 1\n",
        "        for j in range(0, len(ck) if isinstance(ck, np.ndarray) else 1, 1):\n",
        "            nkj = int(n[k][j])\n",
        "            for i in range(0, nkj, 1):\n",
        "                prod = prod * (1/(lamb**beta)) * beta * (int(t[cont])-fator[k][j]*T[j])**(beta-1);\n",
        "                cont = cont + 1;\n",
        "\n",
        "        soma = 0\n",
        "        for l in range(0, len(ck) if isinstance(ck, np.ndarray) else 1, 1):\n",
        "            soma = soma + ((1/(lamb**beta))*(T[l+1]-fator[k][l]*T[l])**beta - (1/(lamb**beta))*(T[l]-fator[k][l]*T[l])**beta);\n",
        "\n",
        "        ans = np.exp(-soma)\n",
        "        fitness = fitness * prod * ans;\n",
        "\n",
        "    return -fitness"
      ],
      "metadata": {
        "id": "F548fs8JXJkK"
      },
      "execution_count": 294,
      "outputs": []
    },
    {
      "cell_type": "code",
      "source": [
        "# Parâmetros do PSO\n",
        "num_particles = 50\n",
        "max_iterations = 100\n",
        "dimensions = 3\n",
        "options = {'c1': 0.5, 'c2': 0.3, 'w': 0.9}  # Opções do PSO\n",
        "\n",
        "# Limites inferiores e superiores para lamb, beta e theta\n",
        "lb = np.array([100, 1, 0])\n",
        "ub = np.array([150, 2, 1])\n",
        "bounds = (lb, ub)\n",
        "\n",
        "optimizer = GlobalBestPSO(n_particles=num_particles, dimensions=dimensions, options=options, bounds=bounds)\n",
        "\n",
        "# Define o enxame de partículas\n",
        "swarm = optimizer.swarm\n",
        "\n",
        "# Inicializar current_cost e pbest_cost com valores infinitos\n",
        "swarm.current_cost = np.full(swarm.position.shape[0], np.inf)\n",
        "swarm.pbest_cost = np.full(swarm.position.shape[0], np.inf)\n",
        "best_cost, best_position = optimizer.optimize(objective, iters=max_iterations)\n",
        "\n",
        "# Calcula mask_cost\n",
        "mask_cost = swarm.current_cost < swarm.pbest_cost\n",
        "\n",
        "# Atualiza pbest\n",
        "swarm.pbest_cost = np.where(mask_cost, swarm.current_cost, swarm.pbest_cost)\n",
        "swarm.pbest_pos = np.where(mask_cost[:, np.newaxis], swarm.position, swarm.pbest_pos)\n",
        "\n",
        "print(\"\")\n",
        "print(\"Melhores valores para λ, β, θ :\", best_position)"
      ],
      "metadata": {
        "id": "sdZ_xrssxPjt",
        "colab": {
          "base_uri": "https://localhost:8080/"
        },
        "outputId": "64947649-eab5-49af-bd0b-45109207c645"
      },
      "execution_count": 295,
      "outputs": [
        {
          "output_type": "stream",
          "name": "stderr",
          "text": [
            "2023-10-03 17:31:58,295 - pyswarms.single.global_best - INFO - Optimize for 100 iters with {'c1': 0.5, 'c2': 0.3, 'w': 0.9}\n",
            "pyswarms.single.global_best: 100%|██████████|100/100, best_cost=-2.15e-24\n",
            "2023-10-03 17:31:58,817 - pyswarms.single.global_best - INFO - Optimization finished | best cost: -2.1458293618416388e-24, best pos: [121.20641064   1.99660829   0.31007513]\n"
          ]
        },
        {
          "output_type": "stream",
          "name": "stdout",
          "text": [
            "\n",
            "Melhores valores para λ, β, θ : [121.20641064   1.99660829   0.31007513]\n"
          ]
        }
      ]
    },
    {
      "cell_type": "code",
      "source": [
        "# Criação de variáveis para os parâmetros\n",
        "lamb, beta, theta = best_position\n",
        "print('lamb:', lamb)\n",
        "print('beta:', beta)\n",
        "print('theta:', theta)"
      ],
      "metadata": {
        "colab": {
          "base_uri": "https://localhost:8080/"
        },
        "id": "NaosdejV9bWw",
        "outputId": "fa071abb-9ed1-436f-e35d-3606db543ae4"
      },
      "execution_count": 296,
      "outputs": [
        {
          "output_type": "stream",
          "name": "stdout",
          "text": [
            "lamb: 121.20641064197103\n",
            "beta: 1.9966082909771448\n",
            "theta: 0.31007513125705144\n"
          ]
        }
      ]
    },
    {
      "cell_type": "code",
      "source": [
        "beta = beta*5\n",
        "solucao = [lamb, beta, theta]\n",
        "\n",
        "# Cria a instância da classe IntensidadeFalha\n",
        "intensidadeFalha = IntensidadeFalha()\n",
        "\n",
        "# Inicializa a instância com os valores necessários\n",
        "falha = intensidadeFalha.inicio(T, execute_function(fator_melhoria, ck, m, s, theta), solucao)\n",
        "\n",
        "# Cria os dados da intensidade de falha\n",
        "intensidadeFalha.create()\n",
        "\n",
        "# Plota o gráfico da intensidade de falha\n",
        "intensidadeFalha.plotar()\n",
        "\n",
        "fator = execute_function(fator_melhoria, ck, m, s, theta)\n",
        "print('Fator ajuste: ', fator[0])\n",
        "\n",
        "last_value_fator_ajuste = fator[0][-1]\n",
        "\n",
        "time_duration = 1\n",
        "time.sleep(time_duration)"
      ],
      "metadata": {
        "id": "grvISRd2_HkE",
        "outputId": "544ed274-fd3c-49ec-d090-2ee596294ab0",
        "colab": {
          "base_uri": "https://localhost:8080/",
          "height": 403
        }
      },
      "execution_count": 297,
      "outputs": [
        {
          "output_type": "display_data",
          "data": {
            "text/plain": [
              "<Figure size 2000x500 with 1 Axes>"
            ],
            "image/png": "[encoded data removed]"
          },
          "metadata": {}
        },
        {
          "output_type": "stream",
          "name": "stdout",
          "text": [
            "Fator ajuste:  [0.11664670649349929, 0.14361699368653869, 0.24351125087000558, 0.06013123601935755]\n"
          ]
        }
      ]
    },
    {
      "cell_type": "code",
      "source": [
        "# Função objetivo para otimização da politica de manutenção\n",
        "# Numero de ciclos determinado pela solução\n",
        "# Solução com 24 valores reais\n",
        "# Solucao a ser avaliada X = [x1, ..., x24]\n",
        "def objective_st(x):\n",
        "\n",
        "    # Dicionario para severidades\n",
        "    dict_severidades = {1: 0.25, 3: 0.50, 5: 0.75, 7: 1.0}\n",
        "\n",
        "    results = [] # Lista para armazenar os resultados das funções objetivo\n",
        "\n",
        "\n",
        "    # No PSO, como cada particula é um vetor de dimenções definidas, é\n",
        "    # Necessario interar sobre o vetor de particulas\n",
        "    for particle in x:\n",
        "        T = [0]\n",
        "        s_row = []\n",
        "        cont = 0\n",
        "\n",
        "        for number in particle:\n",
        "            modulo = int(number) % 2\n",
        "            if modulo == 1:\n",
        "                inteiro = int(number)\n",
        "                s_row.append(dict_severidades[inteiro])  # Severidade\n",
        "                frac = number - inteiro  # Tempo\n",
        "                t = (cont + frac) * 30\n",
        "                T.append(int(t))\n",
        "            cont += 1\n",
        "\n",
        "    s = []\n",
        "    for row in range(m):\n",
        "        s.append(s_row)\n",
        "\n",
        "    # A partir da solução define o número de ciclos\n",
        "    # A variável m é o número de sistemas em análise: em nosso exemplo m = 4\n",
        "    # Para novos dados esse parâmetro deve ser ajustado\n",
        "    # m = 4\n",
        "    ck = len(T) - 1\n",
        "\n",
        "    print(\"\")\n",
        "    print(\"=========================================================================\")\n",
        "    print(\"\")\n",
        "    print('Número de ciclos de manutenção:', ck, m)\n",
        "    print('Tempos para manutenções preventivas:', T)\n",
        "    print('Severidade para cada subsistema:', s[0])\n",
        "    print(\"Número de Sisemas:\", m)\n",
        "\n",
        "    if ck == 0:\n",
        "        return MAX_VALUE_CUSTO\n",
        "\n",
        "    # O modelo já está ajustado\n",
        "    # Utilizado para avaliar a solução candidata\n",
        "\n",
        "    # Cria fator de meloria a partir da solução\n",
        "    fact = execute_function(fator_melhoria, ck, m, s, theta)\n",
        "    fator = [last_value_fator_ajuste] + list(fact[0])\n",
        "\n",
        "    print('Fator: ', fator)\n",
        "\n",
        "    # Numero esperado de falhas (NEF) em cada ciclo\n",
        "    termos_somatorio = [((1/(lamb**beta)) * (T[1]**beta))]\n",
        "    numero_medio_falhas = [0, ((1/(lamb**beta)) * (T[1]**beta))]\n",
        "\n",
        "    for i in range(ck-1):\n",
        "        termo = (((T[i+2]-fator[i]*T[i+1])**beta) - (((1-fator[i])*T[i+1])**beta)) * (1/(lamb**beta))\n",
        "        termos_somatorio.append(termo)\n",
        "        numero_medio_falhas.append(sum(termos_somatorio))\n",
        "\n",
        "    # Número médio de falhas até o final do período: 2 anos\n",
        "    final = DIAS_OBSERVADOS\n",
        "    termo = (((final-fator[ck-1]*T[ck])**beta) - (((1-fator[ck-1])*T[ck])**beta)) * (1/(lamb**beta))\n",
        "    termos_somatorio.append(termo)\n",
        "    numero_medio_falhas.append(sum(termos_somatorio))\n",
        "\n",
        "    mi = numero_medio_falhas\n",
        "\n",
        "    print('Media de falhas: ', mi)\n",
        "\n",
        "    Ctotal =  []\n",
        "\n",
        "    for i in range(ck):\n",
        "        cmp = custo_mp(s[0][i], CMP)\n",
        "        Ctotal.append((cmp + (mi[i+1] - mi[i])*CMC)/(T[i+1]-T[i]))\n",
        "\n",
        "    cmp = custo_mp(s[0][ck-1], CMP)\n",
        "    Ctotal.append((cmp + (mi[ck+1] - mi[ck])*CMC)/(final-T[ck]))\n",
        "\n",
        "    # Custo Total\n",
        "    Custo = np.sum(Ctotal)\n",
        "    results.append(Custo) # Adicione o valor da função objetivo à lista de resultados\n",
        "    print('Custo = ', Custo)\n",
        "\n",
        "    # Retorne os resultados da função objetivo como um array\n",
        "    return np.array(results)"
      ],
      "metadata": {
        "id": "-JuqM09rWWBJ"
      },
      "execution_count": 298,
      "outputs": []
    },
    {
      "cell_type": "code",
      "source": [
        "num_particles = 100\n",
        "max_iterations = 100\n",
        "dimensions = 24\n",
        "options = {'c1': 0.5, 'c2': 0.3, 'w': 0.9}\n",
        "\n",
        "max_bound = np.array([7.0] * dimensions)  # Limite superior dos valores em x\n",
        "min_bound = np.array([0.0] * dimensions)   # Limite inferior dos valores em x\n",
        "bounds = (min_bound, max_bound)\n",
        "\n",
        "optimizer = GlobalBestPSO(n_particles=num_particles, dimensions=dimensions, options=options, bounds=bounds)\n",
        "\n",
        "# Inicializar current_cost e pbest_cost com valores infinitos\n",
        "optimizer.swarm.current_cost = np.full(optimizer.swarm.position.shape[0], np.inf)\n",
        "optimizer.swarm.pbest_cost = np.full(optimizer.swarm.position.shape[0], np.inf)\n",
        "best_cost, best_position = optimizer.optimize(objective_st, iters=max_iterations)\n",
        "\n",
        "pbest_cost = optimizer.swarm.pbest_cost\n",
        "\n",
        "best_positions = []  # Lista para armazenar todas as melhores posições\n",
        "\n",
        "# Loop de iterações do PSO\n",
        "for i in range(max_iterations):\n",
        "    best_cost, best_position = optimizer.optimize(objective_st, iters=1)\n",
        "    pbest_cost = optimizer.swarm.pbest_cost\n",
        "    best_positions.append(best_position)\n",
        "\n",
        "# Converter a lista de melhores posições em um array numpy para facilitar a manipulação\n",
        "best_positions = np.array(best_positions)"
      ],
      "metadata": {
        "colab": {
          "base_uri": "https://localhost:8080/"
        },
        "id": "cePW2Ji6gjmC",
        "outputId": "b37b9378-c5d2-43db-aea2-245284d079c8"
      },
      "execution_count": 299,
      "outputs": [
        {
          "output_type": "stream",
          "name": "stderr",
          "text": [
            "2023-10-03 17:32:00,366 - pyswarms.single.global_best - INFO - Optimize for 100 iters with {'c1': 0.5, 'c2': 0.3, 'w': 0.9}\n",
            "pyswarms.single.global_best:   8%|▊         |8/100, best_cost=3.91e+8"
          ]
        },
        {
          "output_type": "stream",
          "name": "stdout",
          "text": [
            "\n",
            "=========================================================================\n",
            "\n",
            "Número de ciclos de manutenção: 7 5\n",
            "Tempos para manutenções preventivas: [0, 41, 66, 289, 381, 426, 664, 691]\n",
            "Severidade para cada subsistema: [0.5, 0.25, 0.25, 0.25, 0.75, 0.75, 0.75]\n",
            "Número de Sisemas: 5\n",
            "Fator:  [0.06013123601935755, 0.14361699368653869, 0.07459035756403465, 0.07459035756403465, 0.07459035756403465, 0.20749490833922268, 0.20749490833922268, 0.20749490833922268]\n",
            "Media de falhas:  [0, 1.9978632494594084e-05, 0.0015926758916576399, 4195.066744225647, 53142.6070421695, 151872.5075076958, 14519477.211419905, 16023143.197322588, 13131256.09167649]\n",
            "Custo =  602333827.0107914\n",
            "\n",
            "=========================================================================\n",
            "\n",
            "Número de ciclos de manutenção: 16 5\n",
            "Tempos para manutenções preventivas: [0, 58, 77, 139, 200, 254, 295, 333, 376, 434, 458, 495, 513, 564, 620, 666, 709]\n",
            "Severidade para cada subsistema: [0.5, 0.25, 0.75, 0.75, 0.5, 0.5, 0.25, 0.25, 0.75, 0.75, 0.5, 0.25, 0.5, 0.5, 0.75, 0.75]\n",
            "Número de Sisemas: 5\n",
            "Fator:  [0.06013123601935755, 0.14361699368653869, 0.07459035756403465, 0.20749490833922268, 0.20749490833922268, 0.14361699368653869, 0.14361699368653869, 0.07459035756403465, 0.07459035756403465, 0.20749490833922268, 0.20749490833922268, 0.14361699368653869, 0.07459035756403465, 0.14361699368653869, 0.14361699368653869, 0.20749490833922268, 0.20749490833922268]\n",
            "Media de falhas:  [0, 0.0006374592408296859, 0.0070867726579406905, 1.7205648926523005, 87.11931809806794, 344.342789231587, 1193.2722244347362, 5855.751640766301, 21551.767208914585, 158234.34587734597, 280983.88103801437, 374090.1406799167, 443944.45527265227, 1207288.827933667, 4984347.896242419, 8263408.624034762, 13790838.499766016, 9843428.049637496]\n",
            "Custo =  1331368592.1163874\n",
            "\n",
            "=========================================================================\n",
            "\n",
            "Número de ciclos de manutenção: 14 5\n",
            "Tempos para manutenções preventivas: [0, 86, 111, 128, 209, 290, 314, 343, 371, 430, 543, 574, 638, 667, 719]\n",
            "Severidade para cada subsistema: [0.25, 0.25, 0.75, 0.5, 0.75, 0.75, 0.25, 0.25, 0.75, 0.75, 0.75, 0.25, 0.75, 0.75]\n",
            "Número de Sisemas: 5\n",
            "Fator:  [0.06013123601935755, 0.07459035756403465, 0.07459035756403465, 0.20749490833922268, 0.14361699368653869, 0.20749490833922268, 0.20749490833922268, 0.07459035756403465, 0.07459035756403465, 0.20749490833922268, 0.20749490833922268, 0.20749490833922268, 0.07459035756403465, 0.20749490833922268, 0.20749490833922268]\n",
            "Media de falhas:  [0, 0.03252788994618843, 0.2731082659115966, 0.9655836808778926, 144.5380107181178, 1324.3052175211296, 3272.1713924763103, 5908.4641423345265, 11182.522191260308, 137622.7571111448, 1723795.3349365832, 2036077.2914705286, 3511582.0571226347, 4672010.263949815, 18847964.59380433, 14207090.82751452]\n",
            "Custo =  1605256439.8540902\n",
            "\n",
            "=========================================================================\n",
            "\n",
            "Número de ciclos de manutenção: 13 5\n",
            "Tempos para manutenções preventivas: [0, 59, 95, 238, 357, 366, 416, 425, 471, 523, 574, 631, 664, 712]\n",
            "Severidade para cada subsistema: [0.5, 0.25, 0.25, 0.25, 0.25, 0.75, 0.75, 0.5, 0.5, 0.75, 0.25, 0.75, 0.75]\n",
            "Número de Sisemas: 5\n",
            "Fator:  [0.06013123601935755, 0.14361699368653869, 0.07459035756403465, 0.07459035756403465, 0.07459035756403465, 0.07459035756403465, 0.20749490833922268, 0.20749490833922268, 0.14361699368653869, 0.14361699368653869, 0.20749490833922268, 0.07459035756403465, 0.20749490833922268, 0.20749490833922268]\n",
            "Media de falhas:  [0, 0.0007560781742368775, 0.060433550835587775, 467.3393025986553, 29074.259953015615, 35922.86535746511, 120190.467104459, 146774.15173323426, 216652.25826872906, 418157.5784557659, 1316403.6404365723, 3655643.004559324, 4900979.475249233, 17107216.83115875, 12960451.509507041]\n",
            "Custo =  1594997418.0209792\n",
            "\n",
            "=========================================================================\n",
            "\n",
            "Número de ciclos de manutenção: 12 5\n",
            "Tempos para manutenções preventivas: [0, 21, 40, 89, 175, 231, 291, 301, 366, 400, 520, 571, 700]\n",
            "Severidade para cada subsistema: [0.75, 0.5, 0.25, 0.25, 0.25, 0.25, 0.5, 0.25, 0.75, 0.75, 0.75, 0.75]\n",
            "Número de Sisemas: 5\n",
            "Fator:  [0.06013123601935755, 0.20749490833922268, 0.14361699368653869, 0.07459035756403465, 0.07459035756403465, 0.07459035756403465, 0.07459035756403465, 0.14361699368653869, 0.07459035756403465, 0.20749490833922268, 0.20749490833922268, 0.20749490833922268, 0.20749490833922268]\n",
            "Media de falhas:  [0, 2.5110056534841378e-08, 1.134687659444466e-05, 0.017247785983841003, 18.35557254778399, 350.1966976627922, 3470.5319263676724, 4740.123934268305, 33569.88346304336, 57201.170478527805, 1130470.8768354417, 1576372.461605464, 7354631.979944428, 3963736.7755626845]\n",
            "Custo =  390851690.1550514\n",
            "\n",
            "=========================================================================\n",
            "\n",
            "Número de ciclos de manutenção: 8 5\n",
            "Tempos para manutenções preventivas: [0, 88, 163, 226, 273, 316, 364, 473, 694]\n",
            "Severidade para cada subsistema: [0.25, 0.25, 0.25, 0.5, 0.25, 0.25, 0.25, 0.75]\n",
            "Número de Sisemas: 5\n",
            "Fator:  [0.06013123601935755, 0.07459035756403465, 0.07459035756403465, 0.07459035756403465, 0.14361699368653869, 0.07459035756403465, 0.07459035756403465, 0.07459035756403465, 0.20749490833922268]\n",
            "Media de falhas:  [0, 0.0409193553475362, 13.865862033491462, 294.3802273143253, 1816.6470717163133, 7629.144763867864, 20092.029344753057, 436718.82068798045, 21908760.62834793, 8443582.780029941]\n",
            "Custo =  978637163.681807\n",
            "\n",
            "=========================================================================\n",
            "\n",
            "Número de ciclos de manutenção: 10 5\n",
            "Tempos para manutenções preventivas: [0, 29, 89, 142, 152, 197, 223, 297, 458, 550, 696]\n",
            "Severidade para cada subsistema: [0.5, 0.25, 0.5, 0.25, 0.25, 0.25, 0.5, 0.25, 0.25, 0.75]\n",
            "Número de Sisemas: 5\n",
            "Fator:  [0.06013123601935755, 0.14361699368653869, 0.07459035756403465, 0.14361699368653869, 0.07459035756403465, 0.07459035756403465, 0.07459035756403465, 0.14361699368653869, 0.07459035756403465, 0.07459035756403465, 0.20749490833922268]\n",
            "Media de falhas:  [0, 6.298795308012977e-07, 0.03759504431608773, 1.9223996801278211, 4.341411975000062, 41.8062019779845, 205.68123723757495, 4326.225683558754, 354497.9804911301, 1242647.2051450422, 20211945.222700533, 6243023.383552741]\n",
            "Custo =  1149313307.7720115\n",
            "\n",
            "=========================================================================\n",
            "\n",
            "Número de ciclos de manutenção: 12 5\n",
            "Tempos para manutenções preventivas: [0, 10, 137, 151, 187, 224, 299, 301, 419, 461, 516, 545, 701]\n",
            "Severidade para cada subsistema: [0.5, 0.5, 0.25, 0.25, 0.25, 0.5, 0.25, 0.5, 0.25, 0.25, 0.25, 0.75]\n",
            "Número de Sisemas: 5\n",
            "Fator:  [0.06013123601935755, 0.14361699368653869, 0.14361699368653869, 0.07459035756403465, 0.07459035756403465, 0.07459035756403465, 0.14361699368653869, 0.07459035756403465, 0.14361699368653869, 0.07459035756403465, 0.07459035756403465, 0.07459035756403465, 0.20749490833922268]\n",
            "Media de falhas:  [0, 1.524470811950537e-11, 3.250695586041212, 4.754578298282307, 25.00497815618075, 232.09779458321165, 4649.093059384814, 4931.675975534963, 83535.34286680863, 280756.6591510358, 633416.4974564192, 1338687.4243519492, 22206351.652503055, 6920968.856184164]\n",
            "Custo =  1285632050.496924\n",
            "\n",
            "=========================================================================\n",
            "\n",
            "Número de ciclos de manutenção: 13 5\n",
            "Tempos para manutenções preventivas: [0, 14, 101, 144, 158, 180, 228, 288, 319, 467, 509, 542, 570, 707]\n",
            "Severidade para cada subsistema: [0.5, 0.25, 0.5, 0.25, 0.25, 0.25, 0.5, 0.25, 0.25, 0.75, 0.25, 0.75, 0.75]\n",
            "Número de Sisemas: 5\n",
            "Fator:  [0.06013123601935755, 0.14361699368653869, 0.07459035756403465, 0.14361699368653869, 0.07459035756403465, 0.07459035756403465, 0.07459035756403465, 0.14361699368653869, 0.07459035756403465, 0.07459035756403465, 0.20749490833922268, 0.07459035756403465, 0.20749490833922268, 0.20749490833922268]\n",
            "Media de falhas:  [0, 4.3845128933309626e-10, 0.1489403677764495, 2.049920518243343, 6.457920670720155, 16.957869934525146, 292.4894226741798, 3118.3247521994444, 8331.940642585561, 256363.89956729382, 751719.3428815759, 1493420.928747267, 1762040.400156929, 23211370.872732293, 19392913.451801408]\n",
            "Custo =  952050602.9003026\n",
            "\n",
            "=========================================================================\n",
            "\n",
            "Número de ciclos de manutenção: 11 5\n",
            "Tempos para manutenções preventivas: [0, 24, 35, 93, 170, 186, 236, 395, 500, 574, 633, 711]\n",
            "Severidade para cada subsistema: [0.5, 0.5, 0.75, 0.25, 0.25, 0.25, 0.75, 0.75, 0.75, 0.25, 0.75]\n",
            "Número de Sisemas: 5\n",
            "Fator:  [0.06013123601935755, 0.14361699368653869, 0.14361699368653869, 0.20749490833922268, 0.07459035756403465, 0.07459035756403465, 0.07459035756403465, 0.20749490833922268, 0.20749490833922268, 0.20749490833922268, 0.07459035756403465, 0.20749490833922268]\n",
            "Media de falhas:  [0, 9.523217455877133e-08, 2.7480052429642097e-06, 0.040797940955472345, 12.967113996242874, 18.904017309685713, 408.6844678223299, 84067.05890448565, 782767.7981891412, 1401291.1972255514, 2690893.864511681, 7345207.629513805, -10834299.695017446]\n",
            "Custo =  1043421009.7130566\n",
            "\n",
            "=========================================================================\n",
            "\n",
            "Número de ciclos de manutenção: 11 5\n",
            "Tempos para manutenções preventivas: [0, 47, 61, 179, 203, 413, 452, 495, 524, 577, 634, 713]\n",
            "Severidade para cada subsistema: [0.5, 0.5, 0.25, 0.25, 0.75, 0.5, 0.75, 0.75, 0.75, 0.25, 0.75]\n",
            "Número de Sisemas: 5\n",
            "Fator:  [0.06013123601935755, 0.14361699368653869, 0.14361699368653869, 0.07459035756403465, 0.07459035756403465, 0.20749490833922268, 0.14361699368653869, 0.20749490833922268, 0.20749490833922268, 0.20749490833922268, 0.07459035756403465, 0.20749490833922268]\n",
            "Media de falhas:  [0, 7.810878658833885e-05, 0.0006928436589750246, 29.706319123621288, 63.82779134239138, 142306.65160326823, 298415.8259130819, 403272.30310602963, 654178.0271808931, 1159966.7192186033, 2434085.223441302, 7256299.174446905, -11546590.480137607]\n",
            "Custo =  1100426988.7611842\n",
            "\n",
            "=========================================================================\n",
            "\n",
            "Número de ciclos de manutenção: 13 5\n",
            "Tempos para manutenções preventivas: [0, 24, 54, 61, 112, 304, 357, 416, 468, 488, 577, 633, 664, 716]\n",
            "Severidade para cada subsistema: [0.75, 0.5, 0.5, 0.75, 0.5, 0.25, 0.75, 0.5, 0.75, 0.75, 0.25, 0.75, 0.75]\n",
            "Número de Sisemas: 5\n",
            "Fator:  [0.06013123601935755, 0.20749490833922268, 0.14361699368653869, 0.14361699368653869, 0.20749490833922268, 0.14361699368653869, 0.07459035756403465, 0.20749490833922268, 0.14361699368653869, 0.20749490833922268, 0.20749490833922268, 0.07459035756403465, 0.20749490833922268, 0.20749490833922268]\n",
            "Media de falhas:  [0, 9.523217455877133e-08, 0.00023838102569354657, 0.0003467872858192251, 0.20167065193463407, 5636.65643986883, 11611.912391536622, 61097.4155901902, 321576.1865018727, 370260.91530502326, 1735641.7029177563, 2974251.5114530316, 4154359.5468197274, 17792364.833223052, 13368346.605553623]\n",
            "Custo =  1537439437.104362\n",
            "\n",
            "=========================================================================\n",
            "\n",
            "Número de ciclos de manutenção: 12 5\n",
            "Tempos para manutenções preventivas: [0, 26, 57, 283, 306, 357, 364, 402, 470, 492, 576, 669, 713]\n",
            "Severidade para cada subsistema: [0.75, 0.5, 0.5, 0.5, 0.25, 0.25, 0.75, 0.5, 0.75, 0.75, 0.75, 0.75]\n",
            "Número de Sisemas: 5\n",
            "Fator:  [0.06013123601935755, 0.20749490833922268, 0.14361699368653869, 0.14361699368653869, 0.14361699368653869, 0.07459035756403465, 0.07459035756403465, 0.20749490833922268, 0.14361699368653869, 0.20749490833922268, 0.20749490833922268, 0.20749490833922268, 0.20749490833922268]\n",
            "Media de falhas:  [0, 2.1174601661496445e-07, 0.0004060456572312651, 3099.3776167830333, 4585.831225223464, 15382.92006360762, 17985.41720116321, 69495.00088531761, 385676.12051424035, 442674.4414776225, 1739448.892079461, 4752108.875673624, 7794733.773969653, 3579900.2684909347]\n",
            "Custo =  654161936.6882329\n",
            "\n",
            "=========================================================================\n",
            "\n",
            "Número de ciclos de manutenção: 11 5\n",
            "Tempos para manutenções preventivas: [0, 10, 54, 104, 175, 234, 371, 499, 568, 574, 664, 709]\n",
            "Severidade para cada subsistema: [0.75, 0.5, 0.25, 0.25, 0.25, 0.25, 0.75, 0.5, 0.75, 0.75, 0.75]\n",
            "Número de Sisemas: 5\n",
            "Fator:  [0.06013123601935755, 0.20749490833922268, 0.14361699368653869, 0.07459035756403465, 0.07459035756403465, 0.07459035756403465, 0.07459035756403465, 0.20749490833922268, 0.14361699368653869, 0.20749490833922268, 0.20749490833922268, 0.20749490833922268]\n",
            "Media de falhas:  [0, 1.524470811950537e-11, 0.00027931039626557077, 0.06974628141439863, 16.079271866829217, 399.0838675772973, 43855.19421360397, 783803.0379496345, 2683294.4550820324, 2752285.05445211, 7874259.465592421, 10818340.025292864, 6870929.575164344]\n",
            "Custo =  814730518.1900995\n",
            "\n",
            "=========================================================================\n",
            "\n",
            "Número de ciclos de manutenção: 9 5\n",
            "Tempos para manutenções preventivas: [0, 46, 117, 163, 197, 229, 370, 502, 571, 708]\n",
            "Severidade para cada subsistema: [0.5, 0.75, 0.25, 0.25, 0.25, 0.25, 0.75, 0.75, 0.75]\n",
            "Número de Sisemas: 5\n",
            "Fator:  [0.06013123601935755, 0.14361699368653869, 0.20749490833922268, 0.07459035756403465, 0.07459035756403465, 0.07459035756403465, 0.07459035756403465, 0.20749490833922268, 0.20749490833922268, 0.20749490833922268]\n",
            "Media de falhas:  [0, 6.301704318749954e-05, 0.553548537391071, 6.901476412957214, 24.474357711287304, 261.34740435050384, 43011.99950062461, 835642.9139872958, 2831513.0749151227, 9529411.983293079, 5646867.064883402]\n",
            "Custo =  480324509.227934\n",
            "\n",
            "=========================================================================\n",
            "\n",
            "Número de ciclos de manutenção: 9 5\n",
            "Tempos para manutenções preventivas: [0, 29, 37, 146, 158, 225, 368, 471, 508, 707]\n",
            "Severidade para cada subsistema: [0.5, 0.5, 0.5, 0.25, 0.25, 0.25, 0.25, 0.75, 0.75]\n",
            "Número de Sisemas: 5\n",
            "Fator:  [0.06013123601935755, 0.14361699368653869, 0.14361699368653869, 0.14361699368653869, 0.07459035756403465, 0.07459035756403465, 0.07459035756403465, 0.07459035756403465, 0.20749490833922268, 0.20749490833922268]\n",
            "Media de falhas:  [0, 6.298795308012977e-07, 4.718585686539372e-06, 4.427523331954799, 6.46834041555444, 169.85231360077123, 40936.92601751535, 432140.189487289, 876460.0934426934, 25657873.388790824, 21839415.96785994]\n",
            "Custo =  705243987.7470601\n",
            "\n",
            "=========================================================================\n",
            "\n",
            "Número de ciclos de manutenção: 9 5\n",
            "Tempos para manutenções preventivas: [0, 8, 137, 160, 229, 362, 464, 539, 568, 706]\n",
            "Severidade para cada subsistema: [0.5, 0.5, 0.25, 0.25, 0.25, 0.25, 0.25, 0.25, 0.75]\n",
            "Número de Sisemas: 5\n",
            "Fator:  [0.06013123601935755, 0.14361699368653869, 0.14361699368653869, 0.07459035756403465, 0.07459035756403465, 0.07459035756403465, 0.07459035756403465, 0.07459035756403465, 0.07459035756403465, 0.20749490833922268]\n",
            "Media de falhas:  [0, 1.643094100688711e-12, 3.279421881159611, 6.872054962819871, 202.9770531245399, 34153.05788732878, 371744.50608286815, 1587216.671622572, 2618109.1567677385, 23846583.790016305, 7159337.359206906]\n",
            "Custo =  1466315548.1330156\n"
          ]
        },
        {
          "output_type": "stream",
          "name": "stderr",
          "text": [
            "pyswarms.single.global_best:  27%|██▋       |27/100, best_cost=3.91e+8"
          ]
        },
        {
          "output_type": "stream",
          "name": "stdout",
          "text": [
            "\n",
            "=========================================================================\n",
            "\n",
            "Número de ciclos de manutenção: 10 5\n",
            "Tempos para manutenções preventivas: [0, 6, 138, 166, 234, 276, 323, 479, 557, 570, 706]\n",
            "Severidade para cada subsistema: [0.5, 0.5, 0.25, 0.25, 0.5, 0.25, 0.25, 0.75, 0.75, 0.75]\n",
            "Número de Sisemas: 5\n",
            "Fator:  [0.06013123601935755, 0.14361699368653869, 0.14361699368653869, 0.07459035756403465, 0.07459035756403465, 0.14361699368653869, 0.07459035756403465, 0.07459035756403465, 0.20749490833922268, 0.20749490833922268, 0.20749490833922268]\n",
            "Media de falhas:  [0, 9.298092224724765e-14, 3.558192968694374, 9.271594567260582, 247.68140315659224, 1845.0955270464303, 9345.077854938636, 333930.4532022248, 2026970.12594499, 2559918.537576683, 9050778.087059133, 5295639.00476145]\n",
            "Custo =  592547750.8625741\n",
            "\n",
            "=========================================================================\n",
            "\n",
            "Número de ciclos de manutenção: 9 5\n",
            "Tempos para manutenções preventivas: [0, 18, 108, 171, 238, 271, 404, 537, 572, 704]\n",
            "Severidade para cada subsistema: [0.5, 0.5, 0.25, 0.25, 0.75, 0.75, 0.5, 0.75, 0.75]\n",
            "Número de Sisemas: 5\n",
            "Fator:  [0.06013123601935755, 0.14361699368653869, 0.14361699368653869, 0.07459035756403465, 0.07459035756403465, 0.20749490833922268, 0.20749490833922268, 0.14361699368653869, 0.20749490833922268, 0.20749490833922268]\n",
            "Media de falhas:  [0, 5.389086002057892e-09, 0.28586532936681025, 12.238954194920705, 289.6626463218831, 1467.021883337884, 99391.74070475905, 605110.7838468791, 939979.2243777039, 12095073.740421303, 8464298.927349199]\n",
            "Custo =  534264905.8293438\n",
            "\n",
            "=========================================================================\n",
            "\n",
            "Número de ciclos de manutenção: 8 5\n",
            "Tempos para manutenções preventivas: [0, 177, 207, 287, 405, 462, 554, 573, 703]\n",
            "Severidade para cada subsistema: [0.25, 0.25, 0.75, 0.75, 0.5, 0.75, 0.75, 0.75]\n",
            "Número de Sisemas: 5\n",
            "Fator:  [0.06013123601935755, 0.07459035756403465, 0.07459035756403465, 0.20749490833922268, 0.20749490833922268, 0.14361699368653869, 0.20749490833922268, 0.20749490833922268, 0.20749490833922268]\n",
            "Media de falhas:  [0, 43.8215733589592, 143.7218516732609, 3191.065734837859, 99519.05074812059, 168127.2818352147, 688014.3223828323, 1083976.9711569848, 7128858.092264872, 3559146.52968583]\n",
            "Custo =  438838042.7763999\n",
            "\n",
            "=========================================================================\n",
            "\n",
            "Número de ciclos de manutenção: 10 5\n",
            "Tempos para manutenções preventivas: [0, 17, 34, 91, 287, 357, 399, 472, 518, 574, 705]\n",
            "Severidade para cada subsistema: [0.75, 0.5, 0.25, 0.75, 0.25, 0.75, 0.5, 0.75, 0.75, 0.75]\n",
            "Número de Sisemas: 5\n",
            "Fator:  [0.06013123601935755, 0.20749490833922268, 0.14361699368653869, 0.07459035756403465, 0.20749490833922268, 0.07459035756403465, 0.20749490833922268, 0.14361699368653869, 0.20749490833922268, 0.20749490833922268, 0.20749490833922268]\n",
            "Media de falhas:  [0, 3.0457920515218336e-09, 2.2741133672305648e-06, 0.025552905736440083, 3428.862091704447, 26934.0277084268, 41049.960984760764, 382552.2574735786, 550412.6999361283, 1510824.175808162, 7750664.06296007, 4058082.9490814875]\n",
            "Custo =  435868417.45339334\n",
            "\n",
            "=========================================================================\n",
            "\n",
            "Número de ciclos de manutenção: 15 5\n",
            "Tempos para manutenções preventivas: [0, 23, 40, 115, 178, 190, 236, 293, 304, 356, 390, 464, 518, 561, 573, 706]\n",
            "Severidade para cada subsistema: [0.75, 0.5, 0.5, 0.25, 0.5, 0.25, 0.5, 0.5, 0.25, 0.75, 0.5, 0.75, 0.25, 0.75, 0.75]\n",
            "Número de Sisemas: 5\n",
            "Fator:  [0.06013123601935755, 0.20749490833922268, 0.14361699368653869, 0.14361699368653869, 0.07459035756403465, 0.14361699368653869, 0.07459035756403465, 0.14361699368653869, 0.14361699368653869, 0.07459035756403465, 0.20749490833922268, 0.14361699368653869, 0.20749490833922268, 0.07459035756403465, 0.20749490833922268, 0.20749490833922268]\n",
            "Media de falhas:  [0, 6.22677389440063e-08, 1.101757097729724e-05, 0.2801238697648408, 17.690116632038777, 28.84095871003612, 405.1362620143459, 2207.9722027485586, 3716.926391357651, 14361.11623555086, 33058.07606394804, 325467.97609324043, 515220.5763221377, 1155755.3734429977, 1287131.8294848707, 22174129.373723187, 18418990.291425504]\n",
            "Custo =  906856766.0228148\n",
            "\n",
            "=========================================================================\n",
            "\n",
            "Número de ciclos de manutenção: 10 5\n",
            "Tempos para manutenções preventivas: [0, 14, 45, 173, 232, 284, 310, 366, 507, 572, 709]\n",
            "Severidade para cada subsistema: [0.75, 0.5, 0.25, 0.25, 0.25, 0.5, 0.25, 0.75, 0.75, 0.75]\n",
            "Número de Sisemas: 5\n",
            "Fator:  [0.06013123601935755, 0.20749490833922268, 0.14361699368653869, 0.07459035756403465, 0.07459035756403465, 0.07459035756403465, 0.14361699368653869, 0.07459035756403465, 0.20749490833922268, 0.20749490833922268, 0.20749490833922268]\n",
            "Media de falhas:  [0, 4.3845128933309626e-10, 4.190759279700928e-05, 20.046150225326038, 223.36046861892646, 2546.9650045295116, 6094.586612982942, 32903.10685202974, 556453.7833791178, 2514206.440178753, 9300418.805032494, 5353008.354903974]\n",
            "Custo =  480981616.8788793\n",
            "\n",
            "=========================================================================\n",
            "\n",
            "Número de ciclos de manutenção: 9 5\n",
            "Tempos para manutenções preventivas: [0, 45, 146, 167, 203, 229, 309, 368, 571, 711]\n",
            "Severidade para cada subsistema: [0.5, 0.5, 0.25, 0.25, 0.25, 0.5, 0.25, 0.75, 0.75]\n",
            "Número de Sisemas: 5\n",
            "Fator:  [0.06013123601935755, 0.14361699368653869, 0.14361699368653869, 0.07459035756403465, 0.07459035756403465, 0.07459035756403465, 0.14361699368653869, 0.07459035756403465, 0.20749490833922268, 0.20749490833922268]\n",
            "Media de falhas:  [0, 5.060188758681372e-05, 5.318583620960565, 10.379520052114696, 54.23011846138618, 264.44520028540205, 6469.811691738249, 35452.41396130526, 2010355.0977724958, 24860737.99890901, 20781226.44279594]\n",
            "Custo =  841105901.9699876\n",
            "\n",
            "=========================================================================\n",
            "\n",
            "Número de ciclos de manutenção: 9 5\n",
            "Tempos para manutenções preventivas: [0, 42, 141, 162, 229, 366, 539, 547, 570, 710]\n",
            "Severidade para cada subsistema: [0.5, 0.5, 0.25, 0.25, 0.25, 0.5, 0.75, 0.75, 0.75]\n",
            "Número de Sisemas: 5\n",
            "Fator:  [0.06013123601935755, 0.14361699368653869, 0.14361699368653869, 0.07459035756403465, 0.07459035756403465, 0.07459035756403465, 0.14361699368653869, 0.20749490833922268, 0.20749490833922268, 0.20749490833922268]\n",
            "Media de falhas:  [0, 2.541222058054137e-05, 3.77974215104724, 7.590037383364486, 200.48639987178245, 38324.496265424685, 1764845.9849089002, 1998984.0565961397, 2444915.0471389205, 9425935.975232001, 5412872.996249007]\n",
            "Custo =  581056928.5367374\n",
            "\n",
            "=========================================================================\n",
            "\n",
            "Número de ciclos de manutenção: 11 5\n",
            "Tempos para manutenções preventivas: [0, 22, 36, 96, 144, 161, 232, 476, 508, 525, 571, 709]\n",
            "Severidade para cada subsistema: [0.5, 0.5, 0.5, 0.5, 0.25, 0.25, 0.25, 0.75, 0.5, 0.75, 0.75]\n",
            "Número de Sisemas: 5\n",
            "Fator:  [0.06013123601935755, 0.14361699368653869, 0.14361699368653869, 0.14361699368653869, 0.14361699368653869, 0.07459035756403465, 0.07459035756403465, 0.07459035756403465, 0.20749490833922268, 0.14361699368653869, 0.20749490833922268, 0.20749490833922268]\n",
            "Media de falhas:  [0, 3.99520373823736e-08, 3.7715402256647882e-06, 0.05612704503531354, 2.0806541991333947, 5.205918818080697, 230.4909195732232, 589020.5072779431, 987733.9822971316, 1308210.6956483172, 1719493.0517397411, 13947660.860627612, 10000250.410499092]\n",
            "Custo =  669975413.5780772\n",
            "\n",
            "=========================================================================\n",
            "\n",
            "Número de ciclos de manutenção: 12 5\n",
            "Tempos para manutenções preventivas: [0, 24, 32, 117, 165, 237, 290, 329, 479, 503, 572, 631, 707]\n",
            "Severidade para cada subsistema: [0.5, 0.5, 0.75, 0.25, 0.25, 0.25, 0.25, 0.25, 0.75, 0.75, 0.25, 0.75]\n",
            "Número de Sisemas: 5\n",
            "Fator:  [0.06013123601935755, 0.14361699368653869, 0.14361699368653869, 0.20749490833922268, 0.07459035756403465, 0.07459035756403465, 0.07459035756403465, 0.07459035756403465, 0.07459035756403465, 0.20749490833922268, 0.20749490833922268, 0.07459035756403465, 0.20749490833922268]\n",
            "Media de falhas:  [0, 9.523217455877133e-08, 1.105598739259165e-06, 0.47111574365619124, 7.762955126907065, 175.78630499527029, 3036.261287616081, 11068.872564599824, 538211.2292196086, 828279.097206179, 2857229.080975486, 4109771.8580170255, 8442874.147317305, -8535428.467385773]\n",
            "Custo =  1128752574.2966855\n",
            "\n",
            "=========================================================================\n",
            "\n",
            "Número de ciclos de manutenção: 12 5\n",
            "Tempos para manutenções preventivas: [0, 173, 186, 239, 323, 330, 399, 504, 517, 566, 572, 636, 705]\n",
            "Severidade para cada subsistema: [0.25, 0.25, 0.25, 0.25, 0.5, 0.75, 0.75, 0.5, 0.5, 0.75, 0.25, 0.75]\n",
            "Número de Sisemas: 5\n",
            "Fator:  [0.06013123601935755, 0.07459035756403465, 0.07459035756403465, 0.07459035756403465, 0.07459035756403465, 0.14361699368653869, 0.20749490833922268, 0.20749490833922268, 0.14361699368653869, 0.14361699368653869, 0.20749490833922268, 0.07459035756403465, 0.20749490833922268]\n",
            "Media de falhas:  [0, 34.88065922182499, 56.57537370659509, 506.967297993458, 10180.467458091469, 12310.552317121786, 79719.29078654456, 500697.51607896725, 556463.1802517478, 955087.0121207021, 1088616.762534792, 3821323.757005304, 7745568.870911747, -8654236.456436954]\n",
            "Custo =  1183428259.9684381\n",
            "\n",
            "=========================================================================\n",
            "\n",
            "Número de ciclos de manutenção: 10 5\n",
            "Tempos para manutenções preventivas: [0, 8, 32, 178, 202, 319, 403, 507, 573, 632, 703]\n",
            "Severidade para cada subsistema: [0.75, 0.5, 0.25, 0.25, 0.25, 0.75, 0.75, 0.75, 0.25, 0.75]\n",
            "Número de Sisemas: 5\n",
            "Fator:  [0.06013123601935755, 0.20749490833922268, 0.14361699368653869, 0.07459035756403465, 0.07459035756403465, 0.07459035756403465, 0.20749490833922268, 0.20749490833922268, 0.20749490833922268, 0.07459035756403465, 0.20749490833922268]\n",
            "Media de falhas:  [0, 1.643094100688711e-12, 1.4467107817891928e-06, 31.717027539784176, 64.30347981342375, 9665.892520414574, 90554.5022301155, 885481.1970006509, 1445242.2595347608, 2716194.8035431597, 6622836.0606668545, -9212769.717763148]\n",
            "Custo =  989921442.879952\n",
            "\n",
            "=========================================================================\n",
            "\n",
            "Número de ciclos de manutenção: 9 5\n",
            "Tempos para manutenções preventivas: [0, 23, 38, 95, 179, 238, 395, 509, 573, 704]\n",
            "Severidade para cada subsistema: [0.75, 0.5, 0.75, 0.25, 0.25, 0.75, 0.75, 0.75, 0.75]\n",
            "Número de Sisemas: 5\n",
            "Fator:  [0.06013123601935755, 0.20749490833922268, 0.14361699368653869, 0.20749490833922268, 0.07459035756403465, 0.07459035756403465, 0.20749490833922268, 0.20749490833922268, 0.20749490833922268, 0.20749490833922268]\n",
            "Media de falhas:  [0, 6.22677389440063e-08, 6.491013822125675e-06, 0.03699823154804096, 22.23432452949288, 172.2790647107696, 83468.30732745818, 940366.919743464, 1487509.9614552888, 7645680.11893741, 4014905.3058653073]\n",
            "Custo =  394078799.199574\n",
            "\n",
            "=========================================================================\n",
            "\n",
            "Número de ciclos de manutenção: 10 5\n",
            "Tempos para manutenções preventivas: [0, 42, 175, 235, 295, 362, 450, 516, 573, 660, 704]\n",
            "Severidade para cada subsistema: [0.5, 0.25, 0.25, 0.25, 0.25, 0.5, 0.75, 0.75, 0.75, 0.75]\n",
            "Número de Sisemas: 5\n",
            "Fator:  [0.06013123601935755, 0.14361699368653869, 0.07459035756403465, 0.07459035756403465, 0.07459035756403465, 0.07459035756403465, 0.14361699368653869, 0.20749490833922268, 0.20749490833922268, 0.20749490833922268, 0.20749490833922268]\n",
            "Media de falhas:  [0, 2.541222058054137e-05, 33.837234090478745, 265.4772274463885, 3820.980752329459, 30147.56682262327, 266956.8841281643, 1017390.2258470578, 1974221.8282180508, 4507200.049943736, 7215781.387056734, 3585006.5739846313]\n",
            "Custo =  627555737.0143473\n",
            "\n",
            "=========================================================================\n",
            "\n",
            "Número de ciclos de manutenção: 15 5\n",
            "Tempos para manutenções preventivas: [0, 24, 45, 116, 171, 232, 289, 316, 359, 369, 452, 507, 511, 572, 663, 704]\n",
            "Severidade para cada subsistema: [0.75, 0.5, 0.25, 0.25, 0.25, 0.75, 0.5, 0.25, 0.25, 0.5, 0.75, 0.75, 0.75, 0.75, 0.75]\n",
            "Número de Sisemas: 5\n",
            "Fator:  [0.06013123601935755, 0.20749490833922268, 0.14361699368653869, 0.07459035756403465, 0.07459035756403465, 0.07459035756403465, 0.20749490833922268, 0.14361699368653869, 0.07459035756403465, 0.07459035756403465, 0.14361699368653869, 0.20749490833922268, 0.20749490833922268, 0.20749490833922268, 0.20749490833922268, 0.20749490833922268]\n",
            "Media de falhas:  [0, 9.523217455877133e-08, 3.659050104880144e-05, 0.2791654268207873, 11.304423235103377, 368.23872786356446, 3226.593652279893, 7577.983365173406, 12989.876420908848, 17075.69704185166, 257794.27739959548, 828452.4210018554, 861095.5514106024, 1380533.818634671, 4109052.3175160326, 6663074.997582092, 3032300.184509989]\n",
            "Custo =  631573355.7383024\n",
            "\n",
            "=========================================================================\n",
            "\n",
            "Número de ciclos de manutenção: 11 5\n",
            "Tempos para manutenções preventivas: [0, 42, 167, 231, 270, 326, 369, 450, 503, 571, 660, 704]\n",
            "Severidade para cada subsistema: [0.5, 0.25, 0.25, 0.25, 0.5, 0.25, 0.5, 0.75, 0.75, 0.75, 0.75]\n",
            "Número de Sisemas: 5\n",
            "Fator:  [0.06013123601935755, 0.14361699368653869, 0.07459035756403465, 0.07459035756403465, 0.07459035756403465, 0.14361699368653869, 0.07459035756403465, 0.14361699368653869, 0.20749490833922268, 0.20749490833922268, 0.20749490833922268, 0.20749490833922268]\n",
            "Media de falhas:  [0, 2.541222058054137e-05, 21.061123129732984, 225.17880533893518, 1473.42614736274, 10412.166157202273, 35408.87867396188, 160437.89655189804, 678186.7505854549, 1722668.858703277, 4297478.513104266, 7006059.850217264, 3375285.037145161]\n",
            "Custo =  611397685.8996984\n",
            "\n",
            "=========================================================================\n",
            "\n",
            "Número de ciclos de manutenção: 11 5\n",
            "Tempos para manutenções preventivas: [0, 21, 37, 103, 165, 230, 309, 365, 505, 533, 571, 705]\n",
            "Severidade para cada subsistema: [0.5, 0.5, 0.75, 0.25, 0.25, 0.5, 0.25, 0.75, 0.5, 0.75, 0.75]\n",
            "Número de Sisemas: 5\n",
            "Fator:  [0.06013123601935755, 0.14361699368653869, 0.14361699368653869, 0.20749490833922268, 0.07459035756403465, 0.07459035756403465, 0.14361699368653869, 0.07459035756403465, 0.20749490833922268, 0.14361699368653869, 0.20749490833922268, 0.20749490833922268]\n",
            "Media de falhas:  [0, 2.5110056534841378e-08, 5.080908392678974e-06, 0.11605855791312987, 8.587092022325544, 126.27315675065329, 6303.398438798398, 32426.133537844325, 534841.0731203487, 1093808.7370359544, 1446469.8369545743, 12848739.158887913, 9156158.045009332]\n",
            "Custo =  614553224.7109429\n"
          ]
        },
        {
          "output_type": "stream",
          "name": "stderr",
          "text": [
            "pyswarms.single.global_best:  36%|███▌      |36/100, best_cost=3.91e+8<ipython-input-298-3f464f4b430c>:83: RuntimeWarning: divide by zero encountered in scalar divide\n",
            "  Ctotal.append((cmp + (mi[i+1] - mi[i])*CMC)/(T[i+1]-T[i]))\n",
            "pyswarms.single.global_best:  36%|███▌      |36/100, best_cost=3.91e+8"
          ]
        },
        {
          "output_type": "stream",
          "name": "stdout",
          "text": [
            "\n",
            "=========================================================================\n",
            "\n",
            "Número de ciclos de manutenção: 9 5\n",
            "Tempos para manutenções preventivas: [0, 18, 34, 149, 165, 232, 509, 571, 631, 707]\n",
            "Severidade para cada subsistema: [0.5, 0.5, 0.5, 0.25, 0.25, 0.75, 0.75, 0.25, 0.75]\n",
            "Número de Sisemas: 5\n",
            "Fator:  [0.06013123601935755, 0.14361699368653869, 0.14361699368653869, 0.14361699368653869, 0.07459035756403465, 0.07459035756403465, 0.20749490833922268, 0.20749490833922268, 0.07459035756403465, 0.20749490833922268]\n",
            "Media de falhas:  [0, 5.389086002057892e-09, 2.2341621574101007e-06, 5.631471756290793, 9.39413836035264, 227.46637100777141, 1178586.651084323, 3049402.54566955, 4318207.026353585, 8651309.315653864, -8326993.2990492135]\n",
            "Custo =  1085076832.4339082\n",
            "\n",
            "=========================================================================\n",
            "\n",
            "Número de ciclos de manutenção: 11 5\n",
            "Tempos para manutenções preventivas: [0, 27, 33, 147, 168, 200, 237, 307, 552, 571, 633, 709]\n",
            "Severidade para cada subsistema: [0.5, 0.5, 0.5, 0.25, 0.25, 0.25, 0.25, 0.5, 0.75, 0.25, 0.75]\n",
            "Número de Sisemas: 5\n",
            "Fator:  [0.06013123601935755, 0.14361699368653869, 0.14361699368653869, 0.14361699368653869, 0.07459035756403465, 0.07459035756403465, 0.07459035756403465, 0.07459035756403465, 0.14361699368653869, 0.20749490833922268, 0.07459035756403465, 0.20749490833922268]\n",
            "Media de falhas:  [0, 3.086323554633037e-07, 1.5251824355468052e-06, 4.947799842071392, 10.298756694225517, 45.87489083806493, 399.5427534143062, 5944.667671842047, 2451621.084981757, 3210615.850434984, 5768386.672325177, 10216009.384794857, -7355415.852022085]\n",
            "Custo =  1244006162.0707178\n",
            "\n",
            "=========================================================================\n",
            "\n",
            "Número de ciclos de manutenção: 12 5\n",
            "Tempos para manutenções preventivas: [0, 35, 102, 149, 173, 190, 239, 294, 517, 568, 571, 630, 712]\n",
            "Severidade para cada subsistema: [0.5, 0.5, 0.5, 0.25, 0.25, 0.25, 0.25, 0.5, 0.75, 0.75, 0.25, 0.75]\n",
            "Número de Sisemas: 5\n",
            "Fator:  [0.06013123601935755, 0.14361699368653869, 0.14361699368653869, 0.14361699368653869, 0.07459035756403465, 0.07459035756403465, 0.07459035756403465, 0.07459035756403465, 0.14361699368653869, 0.20749490833922268, 0.20749490833922268, 0.07459035756403465, 0.20749490833922268]\n",
            "Media de falhas:  [0, 4.116924993710378e-06, 0.14508721995222684, 2.902179971715352, 10.56653599187285, 25.092883606880477, 461.2771658952935, 3775.652464358999, 1262544.962921824, 2831561.407248553, 2898565.6497488394, 4132936.2989544207, 9026393.657601612, -9462870.740434559]\n",
            "Custo =  1217986633.6714058\n",
            "\n",
            "=========================================================================\n",
            "\n",
            "Número de ciclos de manutenção: 9 5\n",
            "Tempos para manutenções preventivas: [0, 4, 37, 91, 175, 190, 390, 533, 572, 715]\n",
            "Severidade para cada subsistema: [0.75, 0.5, 0.5, 0.25, 0.25, 0.75, 0.5, 0.75, 0.75]\n",
            "Número de Sisemas: 5\n",
            "Fator:  [0.06013123601935755, 0.20749490833922268, 0.14361699368653869, 0.14361699368653869, 0.07459035756403465, 0.07459035756403465, 0.20749490833922268, 0.14361699368653869, 0.20749490833922268, 0.20749490833922268]\n",
            "Media de falhas:  [0, 1.6235568878994416e-15, 6.717756858433635e-06, 0.023727235731276174, 18.037866967382232, 31.283918985566146, 80583.58252216448, 1532629.515692314, 1898677.5228120503, 15404953.75457664, 11051503.253765374]\n",
            "Custo =  609001522.0916989\n",
            "\n",
            "=========================================================================\n",
            "\n",
            "Número de ciclos de manutenção: 9 5\n",
            "Tempos para manutenções preventivas: [0, 24, 39, 91, 174, 196, 327, 396, 572, 714]\n",
            "Severidade para cada subsistema: [0.75, 0.5, 0.5, 0.25, 0.25, 0.25, 0.75, 0.75, 0.75]\n",
            "Número de Sisemas: 5\n",
            "Fator:  [0.06013123601935755, 0.20749490833922268, 0.14361699368653869, 0.14361699368653869, 0.07459035756403465, 0.07459035756403465, 0.07459035756403465, 0.20749490833922268, 0.20749490833922268, 0.20749490833922268]\n",
            "Media de falhas:  [0, 9.523217455877133e-08, 8.366668161368513e-06, 0.02257500049401514, 16.955716519531865, 40.17328015758169, 12707.77135693655, 75446.87996555331, 3156216.4738304885, 10584579.728887282, 6300854.300907436]\n",
            "Custo =  433603396.3256321\n",
            "\n",
            "=========================================================================\n",
            "\n",
            "Número de ciclos de manutenção: 10 5\n",
            "Tempos para manutenções preventivas: [0, 40, 92, 172, 205, 316, 364, 398, 512, 573, 712]\n",
            "Severidade para cada subsistema: [0.5, 0.5, 0.25, 0.25, 0.5, 0.25, 0.75, 0.75, 0.75, 0.75]\n",
            "Número de Sisemas: 5\n",
            "Fator:  [0.06013123601935755, 0.14361699368653869, 0.14361699368653869, 0.07459035756403465, 0.07459035756403465, 0.14361699368653869, 0.07459035756403465, 0.20749490833922268, 0.20749490833922268, 0.20749490833922268, 0.20749490833922268]\n",
            "Media de falhas:  [0, 1.561381270099446e-05, 0.048962024121132985, 14.85753609624647, 60.54438343158128, 8672.912237299268, 32109.1425212284, 54669.901398770045, 961232.4829748945, 1489116.2617120112, 8618754.40330626, 4471989.081654552]\n",
            "Custo =  424617585.6090753\n",
            "\n",
            "=========================================================================\n",
            "\n",
            "Número de ciclos de manutenção: 11 5\n",
            "Tempos para manutenções preventivas: [0, 28, 39, 101, 170, 202, 282, 366, 393, 511, 573, 707]\n",
            "Severidade para cada subsistema: [0.75, 0.5, 0.5, 0.25, 0.25, 0.5, 0.25, 0.75, 0.75, 0.75, 0.75]\n",
            "Número de Sisemas: 5\n",
            "Fator:  [0.06013123601935755, 0.20749490833922268, 0.14361699368653869, 0.14361699368653869, 0.07459035756403465, 0.07459035756403465, 0.14361699368653869, 0.07459035756403465, 0.20749490833922268, 0.20749490833922268, 0.20749490833922268, 0.20749490833922268]\n",
            "Media de falhas:  [0, 4.4372743099543927e-07, 8.010464709777276e-06, 0.0703495779540205, 12.060343232210158, 51.118648017257065, 2623.7215579283516, 34771.390769417354, 51637.77297827478, 953463.6470486488, 1487812.731465526, 7996462.881961149, 4178005.4610302644]\n",
            "Custo =  406244154.93276256\n",
            "\n",
            "=========================================================================\n",
            "\n",
            "Número de ciclos de manutenção: 9 5\n",
            "Tempos para manutenções preventivas: [0, 0, 38, 110, 169, 192, 238, 363, 572, 704]\n",
            "Severidade para cada subsistema: [0.75, 0.5, 0.5, 0.25, 0.25, 0.25, 0.25, 0.75, 0.75]\n",
            "Número de Sisemas: 5\n",
            "Fator:  [0.06013123601935755, 0.20749490833922268, 0.14361699368653869, 0.14361699368653869, 0.07459035756403465, 0.07459035756403465, 0.07459035756403465, 0.07459035756403465, 0.20749490833922268, 0.20749490833922268]\n",
            "Media de falhas:  [0, 0.0, 9.356701904975026e-06, 0.18068842740383728, 10.467253397627337, 30.203533068414465, 438.07050160021157, 34590.91971963729, 3297056.0422348836, 23558223.985583022, 19927449.17251092]\n",
            "Custo =  inf\n",
            "\n",
            "=========================================================================\n",
            "\n",
            "Número de ciclos de manutenção: 10 5\n",
            "Tempos para manutenções preventivas: [0, 37, 171, 186, 235, 317, 361, 506, 536, 572, 702]\n",
            "Severidade para cada subsistema: [0.5, 0.25, 0.25, 0.25, 0.5, 0.25, 0.75, 0.5, 0.75, 0.75]\n",
            "Número de Sisemas: 5\n",
            "Fator:  [0.06013123601935755, 0.14361699368653869, 0.07459035756403465, 0.07459035756403465, 0.07459035756403465, 0.14361699368653869, 0.07459035756403465, 0.20749490833922268, 0.14361699368653869, 0.20749490833922268, 0.20749490833922268]\n",
            "Media de falhas:  [0, 7.169691675509905e-06, 27.251516744416406, 38.134484792704605, 409.28641251908124, 8415.934995964668, 29041.7396188025, 550966.2408008154, 1172593.3914562839, 1515366.7336656852, 12281500.339679956, 8772117.510000173]\n",
            "Custo =  606556540.3504791\n",
            "\n",
            "=========================================================================\n",
            "\n",
            "Número de ciclos de manutenção: 11 5\n",
            "Tempos para manutenções preventivas: [0, 7, 36, 109, 146, 172, 183, 230, 505, 538, 571, 705]\n",
            "Severidade para cada subsistema: [0.5, 0.5, 0.75, 0.5, 0.25, 0.25, 0.25, 0.75, 0.5, 0.75, 0.75]\n",
            "Número de Sisemas: 5\n",
            "Fator:  "
          ]
        },
        {
          "output_type": "stream",
          "name": "stderr",
          "text": [
            "pyswarms.single.global_best:  51%|█████     |51/100, best_cost=3.3e+8"
          ]
        },
        {
          "output_type": "stream",
          "name": "stdout",
          "text": [
            "[0.06013123601935755, 0.14361699368653869, 0.14361699368653869, 0.20749490833922268, 0.14361699368653869, 0.07459035756403465, 0.07459035756403465, 0.07459035756403465, 0.20749490833922268, 0.14361699368653869, 0.20749490833922268, 0.20749490833922268]\n",
            "Media de falhas:  [0, 4.3323788364084784e-13, 4.849745792078261e-06, 0.2133589984744235, 2.205858127321013, 6.335355227818241, 13.704912602148077, 310.6335719375118, 1089716.8465670987, 1782481.7282284778, 2096251.100459185, 13498520.422392523, 9805939.308513941]\n",
            "Custo =  618916665.3388886\n",
            "\n",
            "=========================================================================\n",
            "\n",
            "Número de ciclos de manutenção: 10 5\n",
            "Tempos para manutenções preventivas: [0, 15, 35, 140, 173, 187, 226, 319, 571, 633, 709]\n",
            "Severidade para cada subsistema: [0.5, 0.5, 0.5, 0.25, 0.25, 0.25, 0.25, 0.75, 0.25, 0.75]\n",
            "Número de Sisemas: 5\n",
            "Fator:  [0.06013123601935755, 0.14361699368653869, 0.14361699368653869, 0.14361699368653869, 0.07459035756403465, 0.07459035756403465, 0.07459035756403465, 0.07459035756403465, 0.20749490833922268, 0.07459035756403465, 0.20749490833922268]\n",
            "Media de falhas:  [0, 8.730627370720793e-10, 3.1727294195531077e-06, 2.92707693074316, 12.190876940075656, 23.046949937089682, 254.15941775227506, 9145.308308149912, 3430760.814526231, 8333653.259763614, 12781275.972233294, -4790149.264583649]\n",
            "Custo =  1249946712.9293096\n",
            "\n",
            "=========================================================================\n",
            "\n",
            "Número de ciclos de manutenção: 10 5\n",
            "Tempos para manutenções preventivas: [0, 37, 143, 174, 195, 224, 300, 559, 571, 637, 711]\n",
            "Severidade para cada subsistema: [0.5, 0.5, 0.25, 0.25, 0.25, 0.25, 0.5, 0.75, 0.25, 0.75]\n",
            "Número de Sisemas: 5\n",
            "Fator:  [0.06013123601935755, 0.14361699368653869, 0.14361699368653869, 0.07459035756403465, 0.07459035756403465, 0.07459035756403465, 0.07459035756403465, 0.14361699368653869, 0.20749490833922268, 0.07459035756403465, 0.20749490833922268]\n",
            "Media de falhas:  [0, 7.169691675509905e-06, 4.455556111201153, 13.891880905540622, 35.342180918986024, 217.4917261528856, 4800.8222069072635, 2822370.9200551626, 3325737.180570747, 6158578.844204672, 10632880.036629237, -7546627.2879020125]\n",
            "Custo =  1280235546.9104125\n",
            "\n",
            "=========================================================================\n",
            "\n",
            "Número de ciclos de manutenção: 13 5\n",
            "Tempos para manutenções preventivas: [0, 0, 37, 98, 146, 171, 206, 226, 282, 393, 514, 572, 636, 709]\n",
            "Severidade para cada subsistema: [0.75, 0.5, 0.5, 0.5, 0.25, 0.25, 0.25, 0.75, 0.75, 0.75, 0.75, 0.25, 0.75]\n",
            "Número de Sisemas: 5\n",
            "Fator:  [0.06013123601935755, 0.20749490833922268, 0.14361699368653869, 0.14361699368653869, 0.14361699368653869, 0.07459035756403465, 0.07459035756403465, 0.07459035756403465, 0.20749490833922268, 0.20749490833922268, 0.20749490833922268, 0.20749490833922268, 0.07459035756403465, 0.20749490833922268]\n",
            "Media de falhas:  [0, 0.0, 7.169691675509905e-06, 0.05308009048180815, 2.357871376561896, 9.408287875927789, 58.92421032635985, 215.8684986404108, 2460.1801770580246, 73043.37823418346, 387866.35449666105, 887945.0352571593, 2321326.849178643, 6636322.401156095, -10935102.835660849]\n",
            "Custo =  inf\n",
            "\n",
            "=========================================================================\n",
            "\n",
            "Número de ciclos de manutenção: 10 5\n",
            "Tempos para manutenções preventivas: [0, 22, 38, 168, 209, 231, 274, 312, 394, 573, 705]\n",
            "Severidade para cada subsistema: [0.75, 0.5, 0.25, 0.25, 0.25, 0.25, 0.25, 0.75, 0.75, 0.75]\n",
            "Número de Sisemas: 5\n",
            "Fator:  [0.06013123601935755, 0.20749490833922268, 0.14361699368653869, 0.07459035756403465, 0.07459035756403465, 0.07459035756403465, 0.07459035756403465, 0.07459035756403465, 0.20749490833922268, 0.20749490833922268, 0.20749490833922268]\n",
            "Media de falhas:  [0, 3.99520373823736e-08, 6.587439796546763e-06, 16.107171682996977, 78.23390095118774, 283.3391156977009, 1792.3485359773176, 6598.238592164048, 71118.02914949428, 3222090.4238339006, 9495302.345671235, 5802721.231792653]\n",
            "Custo =  405018529.9003747\n",
            "\n",
            "=========================================================================\n",
            "\n",
            "Número de ciclos de manutenção: 7 5\n",
            "Tempos para manutenções preventivas: [0, 39, 164, 236, 274, 392, 573, 701]\n",
            "Severidade para cada subsistema: [0.5, 0.25, 0.25, 0.75, 0.75, 0.75, 0.75]\n",
            "Número de Sisemas: 5\n",
            "Fator:  [0.06013123601935755, 0.14361699368653869, 0.07459035756403465, 0.07459035756403465, 0.20749490833922268, 0.20749490833922268, 0.20749490833922268, 0.20749490833922268]\n",
            "Media de falhas:  [0, 1.212667080148525e-05, 17.721953234576144, 284.45880461197453, 1698.8304996361262, 72026.70799191833, 1237854.7092665816, 7061321.13801143, 3611540.9724947196]\n",
            "Custo =  346921305.63105166\n",
            "\n",
            "=========================================================================\n",
            "\n",
            "Número de ciclos de manutenção: 10 5\n",
            "Tempos para manutenções preventivas: [0, 26, 39, 110, 159, 197, 361, 422, 548, 574, 698]\n",
            "Severidade para cada subsistema: [0.75, 0.5, 0.5, 0.25, 0.25, 0.25, 0.75, 0.75, 0.75, 0.75]\n",
            "Número de Sisemas: 5\n",
            "Fator:  [0.06013123601935755, 0.20749490833922268, 0.14361699368653869, 0.14361699368653869, 0.07459035756403465, 0.07459035756403465, 0.07459035756403465, 0.20749490833922268, 0.20749490833922268, 0.20749490833922268, 0.20749490833922268]\n",
            "Media de falhas:  [0, 2.1174601661496445e-07, 8.158188266353965e-06, 0.17705509194493843, 5.380875574082741, 39.48294557207191, 35593.62978811553, 143405.46458198194, 1952573.835868795, 2221146.022877296, 7694136.191978324, 4418890.85210672]\n",
            "Custo =  416926754.1105785\n",
            "\n",
            "=========================================================================\n",
            "\n",
            "Número de ciclos de manutenção: 12 5\n",
            "Tempos para manutenções preventivas: [0, 18, 39, 157, 184, 289, 304, 364, 424, 505, 514, 574, 698]\n",
            "Severidade para cada subsistema: [0.75, 0.5, 0.25, 0.25, 0.25, 0.5, 0.25, 0.75, 0.75, 0.25, 0.75, 0.75]\n",
            "Número de Sisemas: 5\n",
            "Fator:  [0.06013123601935755, 0.20749490833922268, 0.14361699368653869, 0.07459035756403465, 0.07459035756403465, 0.07459035756403465, 0.14361699368653869, 0.07459035756403465, 0.20749490833922268, 0.20749490833922268, 0.07459035756403465, 0.20749490833922268, 0.20749490833922268]\n",
            "Media de falhas:  [0, 5.389086002057892e-09, 9.158693120371161e-06, 7.805488775238424, 22.490629006119697, 3593.3343713708095, 5548.153528664806, 31892.197237649416, 91658.60222616064, 774525.7490773266, 812053.7473452565, 1341885.020944871, 19492517.77768738, 16217272.437815774]\n",
            "Custo =  811313261.3068795\n",
            "\n",
            "=========================================================================\n",
            "\n",
            "Número de ciclos de manutenção: 9 5\n",
            "Tempos para manutenções preventivas: [0, 39, 157, 283, 302, 368, 423, 481, 574, 703]\n",
            "Severidade para cada subsistema: [0.5, 0.25, 0.5, 0.5, 0.25, 0.75, 0.75, 0.75, 0.75]\n",
            "Número de Sisemas: 5\n",
            "Fator:  [0.06013123601935755, 0.14361699368653869, 0.07459035756403465, 0.14361699368653869, 0.14361699368653869, 0.07459035756403465, 0.20749490833922268, 0.20749490833922268, 0.20749490833922268, 0.20749490833922268]\n",
            "Media de falhas:  [0, 1.212667080148525e-05, 11.39162772716535, 2080.574728321738, 4296.280709311635, 21043.26969470447, 76376.87748548684, 436074.6640010136, 1164081.0250608763, 7176316.4568707235, 3606604.8942916817]\n",
            "Custo =  386747018.61571264\n",
            "\n",
            "=========================================================================\n",
            "\n",
            "Número de ciclos de manutenção: 10 5\n",
            "Tempos para manutenções preventivas: [0, 38, 66, 161, 297, 368, 420, 484, 533, 574, 709]\n",
            "Severidade para cada subsistema: [0.5, 0.5, 0.25, 0.75, 0.25, 0.75, 0.75, 0.5, 0.75, 0.75]\n",
            "Número de Sisemas: 5\n",
            "Fator:  [0.06013123601935755, 0.14361699368653869, 0.14361699368653869, 0.07459035756403465, 0.20749490833922268, 0.07459035756403465, 0.20749490833922268, 0.20749490833922268, 0.14361699368653869, 0.20749490833922268, 0.20749490833922268]\n",
            "Media de falhas:  [0, 9.356701904975026e-06, 0.0016332325890257818, 9.287302681779437, 3427.8750311562794, 35027.38739205736, 61589.41710092439, 465140.1333293364, 694412.5176100141, 1088028.4699771479, 13165025.153758075, 9217614.703629555]\n",
            "Custo =  588961209.0989202\n",
            "\n",
            "=========================================================================\n",
            "\n",
            "Número de ciclos de manutenção: 14 5\n",
            "Tempos para manutenções preventivas: [0, 9, 38, 65, 112, 147, 166, 185, 239, 284, 367, 490, 574, 635, 714]\n",
            "Severidade para cada subsistema: [0.5, 0.5, 0.5, 0.5, 0.5, 0.25, 0.25, 0.25, 0.25, 0.25, 0.75, 0.75, 0.25, 0.75]\n",
            "Número de Sisemas: 5\n",
            "Fator:  [0.06013123601935755, 0.14361699368653869, 0.14361699368653869, 0.14361699368653869, 0.14361699368653869, 0.14361699368653869, 0.07459035756403465, 0.07459035756403465, 0.07459035756403465, 0.07459035756403465, 0.07459035756403465, 0.20749490833922268, 0.20749490833922268, 0.07459035756403465, 0.20749490833922268]\n",
            "Media de falhas:  [0, 5.325007067127904e-12, 8.108366982624923e-06, 0.0008345440523594628, 0.19103953586635458, 2.2524400722956655, 6.732232856936467, 19.006687173235374, 472.7378861838839, 2641.4545554925394, 35487.63159905181, 647633.7929477543, 2987674.1240912657, 4349702.6276957495, 9234763.238848697, -9885663.509373374]\n",
            "Custo =  1140702714.167169\n",
            "\n",
            "=========================================================================\n",
            "\n",
            "Número de ciclos de manutenção: 14 5\n",
            "Tempos para manutenções preventivas: [0, 37, 107, 145, 169, 195, 233, 279, 317, 365, 499, 525, 574, 637, 718]\n",
            "Severidade para cada subsistema: [0.5, 0.25, 0.5, 0.25, 0.25, 0.25, 0.75, 0.25, 0.25, 0.75, 0.75, 0.75, 0.25, 0.75]\n",
            "Número de Sisemas: 5\n",
            "Fator:  [0.06013123601935755, 0.14361699368653869, 0.07459035756403465, 0.14361699368653869, 0.07459035756403465, 0.07459035756403465, 0.07459035756403465, 0.20749490833922268, 0.07459035756403465, 0.07459035756403465, 0.20749490833922268, 0.20749490833922268, 0.20749490833922268, 0.07459035756403465, 0.20749490833922268]\n",
            "Media de falhas:  [0, 7.169691675509905e-06, 0.23356396873376123, 2.1284425970861958, 13.637621686956333, 38.332336179389145, 343.2982303668247, 2195.63478644552, 7775.726032836058, 14610.77778449971, 766821.3410287339, 1225207.6954616383, 1678786.1180362725, 3115807.0884347274, 8356104.762215231, -12074476.923642237]\n",
            "Custo =  1173941238.5182383\n",
            "\n",
            "=========================================================================\n",
            "\n",
            "Número de ciclos de manutenção: 10 5\n",
            "Tempos para manutenções preventivas: [0, 37, 145, 170, 207, 231, 301, 364, 507, 573, 638]\n",
            "Severidade para cada subsistema: [0.5, 0.5, 0.25, 0.25, 0.25, 0.25, 0.25, 0.75, 0.75, 0.25]\n",
            "Número de Sisemas: 5\n",
            "Fator:  [0.06013123601935755, 0.14361699368653869, 0.14361699368653869, 0.07459035756403465, 0.07459035756403465, 0.07459035756403465, 0.07459035756403465, 0.07459035756403465, 0.20749490833922268, 0.20749490833922268, 0.07459035756403465]\n",
            "Media de falhas:  [0, 7.169691675509905e-06, 5.129372536484002, 11.802861700695656, 65.32757694519859, 282.3116013770376, 4870.726322212145, 31838.71620369786, 928793.9473201815, 2937356.188309359, 4430286.15707807, 3586726.813867633]\n",
            "Custo =  329507358.89344704\n",
            "\n",
            "=========================================================================\n",
            "\n",
            "Número de ciclos de manutenção: 9 5\n",
            "Tempos para manutenções preventivas: [0, 37, 101, 144, 171, 232, 362, 559, 573, 639]\n",
            "Severidade para cada subsistema: [0.5, 0.25, 0.5, 0.25, 0.25, 0.25, 0.75, 0.75, 0.25]\n",
            "Número de Sisemas: 5\n",
            "Fator:  [0.06013123601935755, 0.14361699368653869, 0.07459035756403465, 0.14361699368653869, 0.07459035756403465, 0.07459035756403465, 0.07459035756403465, 0.20749490833922268, 0.20749490833922268, 0.07459035756403465]\n",
            "Media de falhas:  [0, 7.169691675509905e-06, 0.12964003787597553, 2.030620188342869, 15.706392249278647, 222.7691990298922, 33915.20807532308, 2596278.22498839, 3194030.807199487, 4726257.332830903, 3854996.8505671187]\n",
            "Custo =  406090121.66712296\n",
            "\n",
            "=========================================================================\n",
            "\n",
            "Número de ciclos de manutenção: 10 5\n",
            "Tempos para manutenções preventivas: [0, 37, 143, 169, 203, 236, 295, 361, 507, 573, 639]\n",
            "Severidade para cada subsistema: [0.5, 0.5, 0.25, 0.25, 0.25, 0.25, 0.25, 0.75, 0.75, 0.25]\n",
            "Número de Sisemas: 5\n",
            "Fator:  [0.06013123601935755, 0.14361699368653869, 0.14361699368653869, 0.07459035756403465, 0.07459035756403465, 0.07459035756403465, 0.07459035756403465, 0.07459035756403465, 0.20749490833922268, 0.20749490833922268, 0.07459035756403465]\n",
            "Media de falhas:  [0, 7.169691675509905e-06, 4.455556111201153, 10.922876875641407, 53.33486512328487, 373.3826060356208, 3903.614184238117, 29371.300087836127, 932779.1043376785, 2941341.345326856, 4473567.870958272, 3602307.388694488]\n",
            "Custo =  330532636.4893397\n"
          ]
        },
        {
          "output_type": "stream",
          "name": "stderr",
          "text": [
            "pyswarms.single.global_best:  70%|███████   |70/100, best_cost=3.14e+8"
          ]
        },
        {
          "output_type": "stream",
          "name": "stdout",
          "text": [
            "\n",
            "=========================================================================\n",
            "\n",
            "Número de ciclos de manutenção: 10 5\n",
            "Tempos para manutenções preventivas: [0, 36, 142, 168, 191, 272, 360, 503, 528, 574, 638]\n",
            "Severidade para cada subsistema: [0.5, 0.5, 0.25, 0.25, 0.75, 0.25, 0.75, 0.5, 0.75, 0.25]\n",
            "Número de Sisemas: 5\n",
            "Fator:  [0.06013123601935755, 0.14361699368653869, 0.14361699368653869, 0.07459035756403465, 0.07459035756403465, 0.20749490833922268, 0.07459035756403465, 0.20749490833922268, 0.14361699368653869, 0.20749490833922268, 0.07459035756403465]\n",
            "Media de falhas:  [0, 5.453936036415542e-06, 4.1673387729024665, 10.284532242395954, 29.08287393486908, 1853.2293307611008, 29773.35523320214, 321757.0642572207, 789576.5521955563, 1221153.7604454719, 4034690.565229277, 3191131.2220188407]\n",
            "Custo =  386553230.6610153\n",
            "\n",
            "=========================================================================\n",
            "\n",
            "Número de ciclos de manutenção: 11 5\n",
            "Tempos para manutenções preventivas: [0, 2, 36, 142, 166, 183, 360, 499, 537, 574, 637, 719]\n",
            "Severidade para cada subsistema: [0.5, 0.5, 0.5, 0.25, 0.25, 0.25, 0.75, 0.75, 0.75, 0.25, 0.75]\n",
            "Número de Sisemas: 5\n",
            "Fator:  [0.06013123601935755, 0.14361699368653869, 0.14361699368653869, 0.14361699368653869, 0.07459035756403465, 0.07459035756403465, 0.07459035756403465, 0.20749490833922268, 0.20749490833922268, 0.20749490833922268, 0.07459035756403465, 0.20749490833922268]\n",
            "Media de falhas:  [0, 1.604251982367202e-18, 5.274754499102596e-06, 3.354735028416556, 8.561484575090528, 18.821458179291895, 35649.09472346597, 797608.4254287275, 1554812.3638314395, 1916807.4256363418, 3353828.3960347967, 8710445.258480094, -12057902.67942416]\n",
            "Custo =  1192212489.2158647\n",
            "\n",
            "=========================================================================\n",
            "\n",
            "Número de ciclos de manutenção: 13 5\n",
            "Tempos para manutenções preventivas: [0, 7, 35, 61, 94, 143, 164, 312, 362, 493, 557, 574, 636, 718]\n",
            "Severidade para cada subsistema: [0.5, 0.5, 0.5, 0.75, 0.5, 0.25, 0.25, 0.25, 0.75, 0.75, 0.75, 0.25, 0.75]\n",
            "Número de Sisemas: 5\n",
            "Fator:  [0.06013123601935755, 0.14361699368653869, 0.14361699368653869, 0.14361699368653869, 0.20749490833922268, 0.14361699368653869, 0.07459035756403465, 0.07459035756403465, 0.07459035756403465, 0.20749490833922268, 0.20749490833922268, 0.20749490833922268, 0.07459035756403465, 0.20749490833922268]\n",
            "Media de falhas:  [0, 4.3323788364084784e-13, 3.6485151874275983e-06, 0.00044971530076056874, 0.029992622371088323, 1.9493955282717423, 4.228518963006935, 5741.251396641784, 28498.88876506359, 692645.6267204013, 2204315.7955658855, 2388354.910521694, 3787553.8375387415, 9075703.238006718, -11354878.447850749]\n",
            "Custo =  1200832277.4897838\n",
            "\n",
            "=========================================================================\n",
            "\n",
            "Número de ciclos de manutenção: 11 5\n",
            "Tempos para manutenções preventivas: [0, 8, 35, 65, 144, 163, 325, 363, 488, 574, 636, 718]\n",
            "Severidade para cada subsistema: [0.5, 0.5, 0.5, 0.5, 0.25, 0.25, 0.25, 0.75, 0.75, 0.25, 0.75]\n",
            "Número de Sisemas: 5\n",
            "Fator:  [0.06013123601935755, 0.14361699368653869, 0.14361699368653869, 0.14361699368653869, 0.14361699368653869, 0.07459035756403465, 0.07459035756403465, 0.07459035756403465, 0.20749490833922268, 0.20749490833922268, 0.07459035756403465, 0.20749490833922268]\n",
            "Media de falhas:  [0, 1.643094100688711e-12, 3.5856699721380348e-06, 0.000892962280196955, 2.861435265017461, 6.6412988831598625, 8960.440039100913, 28826.92579165467, 620842.3651442784, 2989844.6327392976, 4389043.559756345, 9677192.960224323, -10753388.725633144]\n",
            "Custo =  1172236688.9323206\n",
            "\n",
            "=========================================================================\n",
            "\n",
            "Número de ciclos de manutenção: 13 5\n",
            "Tempos para manutenções preventivas: [0, 5, 36, 62, 145, 164, 235, 281, 326, 364, 485, 574, 636, 718]\n",
            "Severidade para cada subsistema: [0.5, 0.5, 0.5, 0.5, 0.25, 0.25, 0.25, 0.25, 0.25, 0.75, 0.75, 0.25, 0.75]\n",
            "Número de Sisemas: 5\n",
            "Fator:  [0.06013123601935755, 0.14361699368653869, 0.14361699368653869, 0.14361699368653869, 0.14361699368653869, 0.07459035756403465, 0.07459035756403465, 0.07459035756403465, 0.07459035756403465, 0.07459035756403465, 0.20749490833922268, 0.20749490833922268, 0.07459035756403465, 0.20749490833922268]\n",
            "Media de falhas:  [0, 1.506344089548196e-14, 5.015903078194724e-06, 0.0005239510638004528, 3.1795949604933593, 7.181101177397692, 261.4452084518619, 2243.758239806224, 10239.21947824083, 30623.36938619095, 581945.4656702827, 2993011.4465573784, 4392210.3735744255, 9680359.774042403, -10750221.911815064]\n",
            "Custo =  1170425355.8611183\n",
            "\n",
            "=========================================================================\n",
            "\n",
            "Número de ciclos de manutenção: 10 5\n",
            "Tempos para manutenções preventivas: [0, 37, 145, 165, 232, 290, 318, 364, 492, 574, 637]\n",
            "Severidade para cada subsistema: [0.5, 0.5, 0.25, 0.25, 0.5, 0.25, 0.25, 0.75, 0.75, 0.25]\n",
            "Número de Sisemas: 5\n",
            "Fator:  [0.06013123601935755, 0.14361699368653869, 0.14361699368653869, 0.07459035756403465, 0.07459035756403465, 0.14361699368653869, 0.07459035756403465, 0.07459035756403465, 0.20749490833922268, 0.20749490833922268, 0.07459035756403465]\n",
            "Media de falhas:  [0, 7.169691675509905e-06, 5.129372536484002, 9.510423296397072, 227.58265594381587, 3203.9663401644216, 7934.67690016525, 20061.22676646534, 665969.2158331007, 2976282.6859741835, 4413303.656372638, 3597114.895594967]\n",
            "Custo =  314309220.5012563\n",
            "\n",
            "=========================================================================\n",
            "\n",
            "Número de ciclos de manutenção: 8 5\n",
            "Tempos para manutenções preventivas: [0, 37, 145, 165, 229, 310, 383, 574, 637]\n",
            "Severidade para cada subsistema: [0.5, 0.5, 0.25, 0.25, 0.25, 0.25, 0.75, 0.25]\n",
            "Número de Sisemas: 5\n",
            "Fator:  [0.06013123601935755, 0.14361699368653869, 0.14361699368653869, 0.07459035756403465, 0.07459035756403465, 0.07459035756403465, 0.07459035756403465, 0.20749490833922268, 0.07459035756403465]\n",
            "Media de falhas:  [0, 7.169691675509905e-06, 5.129372536484002, 9.510423296397072, 197.55775740080875, 6627.614158912022, 53462.73844954641, 3328064.110354485, 8582213.023791678, 7766024.263014006]\n",
            "Custo =  493308448.3762197\n",
            "\n",
            "=========================================================================\n",
            "\n",
            "Número de ciclos de manutenção: 8 5\n",
            "Tempos para manutenções preventivas: [0, 37, 144, 165, 231, 305, 559, 574, 637]\n",
            "Severidade para cada subsistema: [0.5, 0.5, 0.25, 0.25, 0.25, 0.5, 0.75, 0.25]\n",
            "Número de Sisemas: 5\n",
            "Fator:  [0.06013123601935755, 0.14361699368653869, 0.14361699368653869, 0.07459035756403465, 0.07459035756403465, 0.07459035756403465, 0.14361699368653869, 0.20749490833922268, 0.07459035756403465]\n",
            "Media de falhas:  [0, 7.169691675509905e-06, 4.781794749756274, 9.304324293401578, 216.93088026663764, 5536.735367162544, 2802888.6630188054, 3449045.6254815413, 6191478.903264806, 5375290.142487134]\n",
            "Custo =  479022952.28792685\n",
            "\n",
            "=========================================================================\n",
            "\n",
            "Número de ciclos de manutenção: 11 5\n",
            "Tempos para manutenções preventivas: [0, 37, 102, 143, 165, 232, 304, 500, 524, 552, 574, 636]\n",
            "Severidade para cada subsistema: [0.5, 0.5, 0.5, 0.25, 0.25, 0.25, 0.5, 0.75, 0.75, 0.75, 0.25]\n",
            "Número de Sisemas: 5\n",
            "Fator:  [0.06013123601935755, 0.14361699368653869, 0.14361699368653869, 0.14361699368653869, 0.07459035756403465, 0.07459035756403465, 0.07459035756403465, 0.14361699368653869, 0.20749490833922268, 0.20749490833922268, 0.20749490833922268, 0.07459035756403465]\n",
            "Media de falhas:  [0, 7.169691675509905e-06, 0.14335433078688628, 1.8767513540731158, 6.536126639241969, 224.60835928666074, 5326.107692373762, 877422.5394299002, 1299395.9231292303, 1692136.3639613343, 1924114.641607029, 3323313.5686240764, 2534169.1488285884]\n",
            "Custo =  364663389.2400121\n",
            "\n",
            "=========================================================================\n",
            "\n",
            "Número de ciclos de manutenção: 10 5\n",
            "Tempos para manutenções preventivas: [0, 37, 143, 164, 235, 284, 307, 362, 574, 636, 719]\n",
            "Severidade para cada subsistema: [0.5, 0.5, 0.25, 0.25, 0.75, 0.25, 0.5, 0.75, 0.25, 0.75]\n",
            "Número de Sisemas: 5\n",
            "Fator:  [0.06013123601935755, 0.14361699368653869, 0.14361699368653869, 0.07459035756403465, 0.07459035756403465, 0.20749490833922268, 0.07459035756403465, 0.14361699368653869, 0.20749490833922268, 0.07459035756403465, 0.20749490833922268]\n",
            "Media de falhas:  [0, 7.169691675509905e-06, 4.455556111201153, 8.72851628072935, 262.9926235551936, 2523.483931896422, 5495.4589397591935, 12474.295999454196, 3402806.68574677, 6075278.918860763, 11480117.809899144, -9288230.12800511]\n",
            "Custo =  1196181051.6216264\n",
            "\n",
            "=========================================================================\n",
            "\n",
            "Número de ciclos de manutenção: 11 5\n",
            "Tempos para manutenções preventivas: [0, 5, 36, 60, 142, 164, 238, 313, 364, 575, 636, 718]\n",
            "Severidade para cada subsistema: [0.5, 0.5, 0.5, 0.5, 0.25, 0.25, 0.25, 0.5, 0.75, 0.25, 0.75]\n",
            "Número de Sisemas: 5\n",
            "Fator:  [0.06013123601935755, 0.14361699368653869, 0.14361699368653869, 0.14361699368653869, 0.14361699368653869, 0.07459035756403465, 0.07459035756403465, 0.07459035756403465, 0.14361699368653869, 0.20749490833922268, 0.07459035756403465, 0.20749490833922268]\n",
            "Media de falhas:  [0, 1.506344089548196e-14, 5.015903078194724e-06, 0.00036756311741071646, 2.600595682768386, 7.002574171986831, 300.3215789525785, 7156.943093626045, 31388.775238845163, 3473689.530750799, 6115601.5144620575, 11403750.914930034, -9026830.770927433]\n",
            "Custo =  1191302121.3226433\n",
            "\n",
            "=========================================================================\n",
            "\n",
            "Número de ciclos de manutenção: 10 5\n",
            "Tempos para manutenções preventivas: [0, 10, 36, 65, 104, 143, 163, 320, 574, 636, 718]\n",
            "Severidade para cada subsistema: [0.5, 0.5, 0.5, 0.5, 0.5, 0.25, 0.25, 0.75, 0.25, 0.75]\n",
            "Número de Sisemas: 5\n",
            "Fator:  [0.06013123601935755, 0.14361699368653869, 0.14361699368653869, 0.14361699368653869, 0.14361699368653869, 0.14361699368653869, 0.07459035756403465, 0.07459035756403465, 0.20749490833922268, 0.07459035756403465, 0.20749490833922268]\n",
            "Media de falhas:  [0, 1.524470811950537e-11, 4.609792396401413e-06, 0.0008726469166310528, 0.0852610442856592, 1.7713490689193105, 5.681347235503499, 7582.556799718818, 3616424.1954757534, 8740462.020276092, 14028611.420744069, -6401970.265113398]\n",
            "Custo =  1338130974.5602338\n",
            "\n",
            "=========================================================================\n",
            "\n",
            "Número de ciclos de manutenção: 10 5\n",
            "Tempos para manutenções preventivas: [0, 12, 36, 64, 143, 163, 325, 566, 574, 636, 718]\n",
            "Severidade para cada subsistema: [0.5, 0.5, 0.5, 0.5, 0.25, 0.25, 0.25, 0.75, 0.25, 0.75]\n",
            "Número de Sisemas: 5\n",
            "Fator:  [0.06013123601935755, 0.14361699368653869, 0.14361699368653869, 0.14361699368653869, 0.14361699368653869, 0.07459035756403465, 0.07459035756403465, 0.07459035756403465, 0.20749490833922268, 0.07459035756403465, 0.20749490833922268]\n",
            "Media de falhas:  [0, 9.409981624894616e-11, 4.455847174746019e-06, 0.0007378783783915843, 2.6848113249192744, 6.594809491503463, 8960.393549709257, 3103167.1201493274, 3465118.1811649324, 8589156.005965272, 13877305.40643325, -6553276.279424217]\n",
            "Custo =  1513659733.104107\n",
            "\n",
            "=========================================================================\n",
            "\n",
            "Número de ciclos de manutenção: 13 5\n",
            "Tempos para manutenções preventivas: [0, 6, 36, 60, 105, 145, 164, 239, 295, 328, 389, 574, 637, 718]\n",
            "Severidade para cada subsistema: [0.5, 0.5, 0.5, 0.25, 0.5, 0.25, 0.25, 0.75, 0.25, 0.25, 0.75, 0.25, 0.75]\n",
            "Número de Sisemas: 5\n",
            "Fator:  [0.06013123601935755, 0.14361699368653869, 0.14361699368653869, 0.14361699368653869, 0.07459035756403465, 0.14361699368653869, 0.07459035756403465, 0.07459035756403465, 0.20749490833922268, 0.07459035756403465, 0.07459035756403465, 0.20749490833922268, 0.07459035756403465, 0.20749490833922268]\n",
            "Media de falhas:  [0, 9.298092224724765e-14, 4.932194801287136e-06, 0.0003674794091338089, 0.10167010100153326, 2.0507730524819645, 9.64545276402892, 317.11570651344937, 3768.1521164917895, 10807.667549822014, 25441.931290268447, 3265416.1742699943, 8519565.087707186, 13759862.761487689, -6670718.9243697785]\n",
            "Custo =  1357071772.7425547\n",
            "\n",
            "=========================================================================\n",
            "\n",
            "Número de ciclos de manutenção: 10 5\n",
            "Tempos para manutenções preventivas: [0, 36, 145, 164, 235, 328, 366, 569, 574, 637, 719]\n",
            "Severidade para cada subsistema: [0.5, 0.5, 0.25, 0.25, 0.25, 0.25, 0.25, 0.75, 0.25, 0.75]\n",
            "Número de Sisemas: 5\n",
            "Fator:  [0.06013123601935755, 0.14361699368653869, 0.14361699368653869, 0.07459035756403465, 0.07459035756403465, 0.07459035756403465, 0.07459035756403465, 0.07459035756403465, 0.20749490833922268, 0.07459035756403465, 0.20749490833922268]\n",
            "Media de falhas:  [0, 5.453936036415542e-06, 5.150978822402475, 9.152485039306807, 263.41659231377105, 11889.328712680892, 33344.947211064675, 3104407.759317234, 3335491.819115441, 8589640.732552633, 13946257.59499793, -6822090.342906324]\n",
            "Custo =  1541148393.7878036\n",
            "\n",
            "=========================================================================\n",
            "\n",
            "Número de ciclos de manutenção: 9 5\n",
            "Tempos para manutenções preventivas: [0, 36, 146, 165, 233, 323, 498, 512, 574, 636]\n",
            "Severidade para cada subsistema: [0.5, 0.5, 0.25, 0.25, 0.25, 0.75, 0.25, 0.75, 0.25]\n",
            "Número de Sisemas: 5\n",
            "Fator:  [0.06013123601935755, 0.14361699368653869, 0.14361699368653869, 0.07459035756403465, 0.07459035756403465, 0.07459035756403465, 0.20749490833922268, 0.07459035756403465, 0.20749490833922268, 0.07459035756403465]\n",
            "Media de falhas:  [0, 5.453936036415542e-06, 5.5225250458410216, 9.757168013796026, 238.73539346276112, 10151.591838957176, 817856.3179186075, 1032808.320212117, 1575832.028505132, 6699869.853305472, 5910725.433509984]\n",
            "Custo =  533632085.60154414\n",
            "\n",
            "=========================================================================\n",
            "\n",
            "Número de ciclos de manutenção: 12 5\n",
            "Tempos para manutenções preventivas: [0, 37, 116, 145, 165, 232, 317, 369, 482, 526, 546, 574, 636]\n",
            "Severidade para cada subsistema: [0.5, 0.75, 0.5, 0.25, 0.25, 0.25, 0.25, 0.75, 0.75, 0.25, 0.75, 0.25]\n",
            "Número de Sisemas: 5\n",
            "Fator:  [0.06013123601935755, 0.14361699368653869, 0.20749490833922268, 0.14361699368653869, 0.07459035756403465, 0.07459035756403465, 0.07459035756403465, 0.07459035756403465, 0.20749490833922268, 0.20749490833922268, 0.07459035756403465, 0.20749490833922268, 0.07459035756403465]\n",
            "Media de falhas:  [0, 7.169691675509905e-06, 0.531724581174248, 2.1644248078862662, 4.491230177305999, 222.56346282472478, 8332.91139544222, 36187.0493004306, 542414.5327341717, 1236621.2323544542, 1371876.8637000055, 1658194.907942257, 6782232.732742596, 5993088.312947108]\n",
            "Custo =  569788259.8231298\n",
            "\n",
            "=========================================================================\n",
            "\n",
            "Número de ciclos de manutenção: 12 5\n",
            "Tempos para manutenções preventivas: [0, 37, 92, 144, 164, 233, 312, 381, 489, 512, 561, 574, 636]\n",
            "Severidade para cada subsistema: [0.5, 0.5, 0.5, 0.25, 0.25, 0.25, 0.25, 0.5, 0.5, 0.75, 0.75, 0.25]\n",
            "Número de Sisemas: 5\n",
            "Fator:  [0.06013123601935755, 0.14361699368653869, 0.14361699368653869, 0.14361699368653869, 0.07459035756403465, 0.07459035756403465, 0.07459035756403465, 0.07459035756403465, 0.14361699368653869, 0.14361699368653869, 0.20749490833922268, 0.20749490833922268, 0.07459035756403465]\n",
            "Media de falhas:  [0, 7.169691675509905e-06, 0.0499510777687743, 2.1735462589170855, 6.313109665515432, 237.16881386765988, 7015.851115238746, 50456.36463192713, 621573.9416421603, 951110.2914023492, 1656896.3747489646, 1942549.1220970429, 3341748.0491140904, 2552603.6293186024]\n",
            "Custo =  404802817.28199434\n",
            "\n",
            "=========================================================================\n",
            "\n",
            "Número de ciclos de manutenção: 11 5\n",
            "Tempos para manutenções preventivas: [0, 37, 93, 143, 164, 235, 288, 309, 490, 574, 636, 719]\n",
            "Severidade para cada subsistema: [0.5, 0.25, 0.5, 0.25, 0.25, 0.75, 0.25, 0.25, 0.75, 0.25, 0.75]\n",
            "Número de Sisemas: 5\n",
            "Fator:  [0.06013123601935755, 0.14361699368653869, 0.07459035756403465, 0.14361699368653869, 0.07459035756403465, 0.07459035756403465, 0.20749490833922268, 0.07459035756403465, 0.07459035756403465, 0.20749490833922268, 0.07459035756403465, 0.20749490833922268]\n",
            "Media de falhas:  [0, 7.169691675509905e-06, 0.05579157570037655, 1.9984409663507667, 10.051668750075358, 264.3157760245396, 2942.2318865067846, 5894.298439245545, 285578.03736729163, 2625618.368510803, 7749656.193311143, 13154495.084349522, -7613852.853554731]\n",
            "Custo =  1407545648.1046085\n",
            "\n",
            "=========================================================================\n",
            "\n",
            "Número de ciclos de manutenção: 10 5\n",
            "Tempos para manutenções preventivas: [0, 4, 36, 143, 163, 236, 275, 308, 574, 636, 719]\n",
            "Severidade para cada subsistema: [0.5, 0.5, 0.5, 0.25, 0.25, 0.75, 0.25, 0.75, 0.25, 0.75]\n",
            "Número de Sisemas: 5\n",
            "Fator:  [0.06013123601935755, 0.14361699368653869, 0.14361699368653869, 0.14361699368653869, 0.07459035756403465, 0.07459035756403465, 0.20749490833922268, 0.07459035756403465, 0.20749490833922268, 0.07459035756403465, 0.20749490833922268]\n",
            "Media de falhas:  [0, 1.6235568878994416e-15, 5.100887591306023e-06, 3.6076871997816253, 7.517685366365814, 276.34742795284393, 1760.9164469614393, 5670.346130569842, 1705339.471275158, 6829377.296075498, 12234216.187113877, -8534131.750790376]\n",
            "Custo =  1315355472.3175957\n"
          ]
        },
        {
          "output_type": "stream",
          "name": "stderr",
          "text": [
            "pyswarms.single.global_best:  89%|████████▉ |89/100, best_cost=3.14e+8"
          ]
        },
        {
          "output_type": "stream",
          "name": "stdout",
          "text": [
            "\n",
            "=========================================================================\n",
            "\n",
            "Número de ciclos de manutenção: 11 5\n",
            "Tempos para manutenções preventivas: [0, 7, 36, 143, 163, 236, 312, 502, 537, 575, 636, 718]\n",
            "Severidade para cada subsistema: [0.5, 0.5, 0.5, 0.25, 0.25, 0.25, 0.5, 0.25, 0.75, 0.25, 0.75]\n",
            "Número de Sisemas: 5\n",
            "Fator:  [0.06013123601935755, 0.14361699368653869, 0.14361699368653869, 0.14361699368653869, 0.07459035756403465, 0.07459035756403465, 0.07459035756403465, 0.14361699368653869, 0.07459035756403465, 0.20749490833922268, 0.07459035756403465, 0.20749490833922268]\n",
            "Media de falhas:  [0, 4.3323788364084784e-13, 4.849745792078261e-06, 3.607686948639826, 7.5176851152240145, 276.34742770170214, 6958.608068602542, 903799.562163375, 1615976.1683633632, 2346802.7800055263, 7416538.467970461, 12704687.868438438, -7725893.81741903]\n",
            "Custo =  1460532591.2526836\n",
            "\n",
            "=========================================================================\n",
            "\n",
            "Número de ciclos de manutenção: 12 5\n",
            "Tempos para manutenções preventivas: [0, 9, 36, 60, 111, 144, 163, 235, 317, 558, 575, 636, 718]\n",
            "Severidade para cada subsistema: [0.5, 0.5, 0.5, 0.75, 0.5, 0.25, 0.25, 0.25, 0.75, 0.75, 0.25, 0.75]\n",
            "Número de Sisemas: 5\n",
            "Fator:  [0.06013123601935755, 0.14361699368653869, 0.14361699368653869, 0.14361699368653869, 0.20749490833922268, 0.14361699368653869, 0.07459035756403465, 0.07459035756403465, 0.07459035756403465, 0.20749490833922268, 0.20749490833922268, 0.07459035756403465, 0.20749490833922268]\n",
            "Media de falhas:  [0, 5.325007067127904e-12, 4.688559915033795e-06, 0.00036723577424755554, 0.18564322548243206, 1.8287494945121954, 3.830509001718791, 260.1113815211694, 8266.759964966757, 2706148.0915027084, 3439902.5491922735, 4821831.817644522, 10109981.218112499, -10320600.467744969]\n",
            "Custo =  1258972679.68434\n",
            "\n",
            "=========================================================================\n",
            "\n",
            "Número de ciclos de manutenção: 13 5\n",
            "Tempos para manutenções preventivas: [0, 10, 35, 63, 91, 145, 164, 235, 321, 386, 545, 574, 636, 719]\n",
            "Severidade para cada subsistema: [0.5, 0.5, 0.5, 0.25, 0.5, 0.25, 0.25, 0.25, 0.25, 0.25, 0.75, 0.25, 0.75]\n",
            "Número de Sisemas: 5\n",
            "Fator:  [0.06013123601935755, 0.14361699368653869, 0.14361699368653869, 0.14361699368653869, 0.07459035756403465, 0.14361699368653869, 0.07459035756403465, 0.07459035756403465, 0.07459035756403465, 0.07459035756403465, 0.07459035756403465, 0.20749490833922268, 0.07459035756403465, 0.20749490833922268]\n",
            "Media de falhas:  [0, 1.524470811950537e-11, 3.462898527546298e-06, 0.0006371343719886283, 0.020429060750504737, 2.3394853483050286, 9.934165059851985, 264.19827233431624, 9453.337885288223, 57272.40757994385, 1924412.7041648359, 3059685.834691479, 8183723.659491818, 13588562.550530199, -7179785.387374055]\n",
            "Custo =  1496102208.4739442\n",
            "\n",
            "=========================================================================\n",
            "\n",
            "Número de ciclos de manutenção: 15 5\n",
            "Tempos para manutenções preventivas: [0, 8, 36, 63, 117, 146, 164, 235, 273, 324, 373, 484, 520, 574, 636, 719]\n",
            "Severidade para cada subsistema: [0.5, 0.5, 0.5, 0.5, 0.5, 0.25, 0.25, 0.5, 0.25, 0.25, 0.25, 0.5, 0.75, 0.25, 0.75]\n",
            "Número de Sisemas: 5\n",
            "Fator:  [0.06013123601935755, 0.14361699368653869, 0.14361699368653869, 0.14361699368653869, 0.14361699368653869, 0.14361699368653869, 0.07459035756403465, 0.07459035756403465, 0.14361699368653869, 0.07459035756403465, 0.07459035756403465, 0.07459035756403465, 0.14361699368653869, 0.20749490833922268, 0.07459035756403465, 0.20749490833922268]\n",
            "Media de falhas:  [0, 1.643094100688711e-12, 4.768539470846688e-06, 0.0006226361370585971, 0.315022033170301, 2.0569438446313875, 5.91543666944481, 260.17954394390904, 1626.5688198398332, 9681.462105525125, 25547.115532780605, 548676.90214528, 1089077.6844904516, 2886907.1078890385, 5559379.341003032, 10964218.232041411, -9804129.705862843]\n",
            "Custo =  1345144003.8789434\n",
            "\n",
            "=========================================================================\n",
            "\n",
            "Número de ciclos de manutenção: 13 5\n",
            "Tempos para manutenções preventivas: [0, 1, 36, 63, 146, 164, 237, 296, 323, 364, 498, 574, 636, 719]\n",
            "Severidade para cada subsistema: [0.5, 0.5, 0.5, 0.5, 0.25, 0.25, 0.5, 0.25, 0.25, 0.75, 0.75, 0.25, 0.75]\n",
            "Número de Sisemas: 5\n",
            "Fator:  [0.06013123601935755, 0.14361699368653869, 0.14361699368653869, 0.14361699368653869, 0.14361699368653869, 0.07459035756403465, 0.07459035756403465, 0.14361699368653869, 0.07459035756403465, 0.07459035756403465, 0.20749490833922268, 0.20749490833922268, 0.07459035756403465, 0.20749490833922268]\n",
            "Media de falhas:  [0, 1.5851766218422156e-21, 5.363672025400574e-06, 0.000623231269613151, 3.385109280246675, 7.2436021050600985, 286.99189342686776, 3933.2470860343924, 9267.034600386638, 20506.143830617704, 758327.0050496665, 2974606.793887946, 4373805.720904993, 9778644.611943372, -10989703.325960882]\n",
            "Custo =  1189666804.4332972\n",
            "\n",
            "=========================================================================\n",
            "\n",
            "Número de ciclos de manutenção: 12 5\n",
            "Tempos para manutenções preventivas: [0, 37, 63, 90, 145, 164, 239, 320, 379, 511, 574, 636, 719]\n",
            "Severidade para cada subsistema: [0.5, 0.5, 0.25, 0.5, 0.25, 0.25, 0.25, 0.25, 0.75, 0.75, 0.25, 0.75]\n",
            "Número de Sisemas: 5\n",
            "Fator:  [0.06013123601935755, 0.14361699368653869, 0.14361699368653869, 0.07459035756403465, 0.14361699368653869, 0.07459035756403465, 0.07459035756403465, 0.07459035756403465, 0.07459035756403465, 0.20749490833922268, 0.20749490833922268, 0.07459035756403465, 0.20749490833922268]\n",
            "Media de falhas:  [0, 7.169691675509905e-06, 0.0010197645254811315, 0.018492951416012395, 2.364278086008513, 9.95895779755547, 317.4292115469759, 9044.376628140095, 47363.79828060485, 987807.965253636, 2972283.820856925, 4371482.747873972, 9776321.638912352, -10992026.298991902]\n",
            "Custo =  1206385580.6140437\n",
            "\n",
            "=========================================================================\n",
            "\n",
            "Número de ciclos de manutenção: 11 5\n",
            "Tempos para manutenções preventivas: [0, 37, 63, 94, 145, 164, 316, 520, 551, 574, 636, 719]\n",
            "Severidade para cada subsistema: [0.5, 0.5, 0.5, 0.5, 0.25, 0.25, 0.25, 0.75, 0.75, 0.25, 0.75]\n",
            "Número de Sisemas: 5\n",
            "Fator:  [0.06013123601935755, 0.14361699368653869, 0.14361699368653869, 0.14361699368653869, 0.14361699368653869, 0.07459035756403465, 0.07459035756403465, 0.07459035756403465, 0.20749490833922268, 0.20749490833922268, 0.07459035756403465, 0.20749490833922268]\n",
            "Media de falhas:  [0, 7.169691675509905e-06, 0.0010197645254811315, 0.02949107096170046, 2.2689988294820753, 6.270505046386408, 6589.499411229938, 1296991.5169062295, 2119168.885751321, 3056847.497543166, 4456046.424560213, 9860885.315598592, -10907462.622305661]\n",
            "Custo =  1343480582.1428745\n",
            "\n",
            "=========================================================================\n",
            "\n",
            "Número de ciclos de manutenção: 11 5\n",
            "Tempos para manutenções preventivas: [0, 37, 62, 103, 145, 164, 299, 313, 515, 574, 636, 719]\n",
            "Severidade para cada subsistema: [0.5, 0.5, 0.75, 0.5, 0.25, 0.5, 0.25, 0.75, 0.75, 0.25, 0.75]\n",
            "Número de Sisemas: 5\n",
            "Fator:  [0.06013123601935755, 0.14361699368653869, 0.14361699368653869, 0.20749490833922268, 0.14361699368653869, 0.07459035756403465, 0.14361699368653869, 0.07459035756403465, 0.20749490833922268, 0.20749490833922268, 0.07459035756403465, 0.20749490833922268]\n",
            "Media de falhas:  [0, 7.169691675509905e-06, 0.0008646139500928491, 0.08045693615574281, 2.0830065312024657, 4.201220945256424, 3622.909672163083, 6036.834656352628, 755215.8024161083, 2659624.1244681654, 4058823.0514852125, 9463661.942523591, -11304685.995380662]\n",
            "Custo =  1193587277.620603\n",
            "\n",
            "=========================================================================\n",
            "\n",
            "Número de ciclos de manutenção: 11 5\n",
            "Tempos para manutenções preventivas: [0, 37, 144, 164, 238, 295, 312, 489, 551, 574, 636, 719]\n",
            "Severidade para cada subsistema: [0.5, 0.5, 0.25, 0.25, 0.5, 0.25, 0.25, 0.25, 0.75, 0.25, 0.75]\n",
            "Número de Sisemas: 5\n",
            "Fator:  [0.06013123601935755, 0.14361699368653869, 0.14361699368653869, 0.07459035756403465, 0.07459035756403465, 0.14361699368653869, 0.07459035756403465, 0.07459035756403465, 0.07459035756403465, 0.20749490833922268, 0.07459035756403465, 0.20749490833922268]\n",
            "Media de falhas:  [0, 7.169691675509905e-06, 4.781794749756274, 8.921358156354621, 302.24036293694627, 3780.258477353257, 6523.183847842958, 431295.1433867221, 1770924.221815688, 2708602.833607533, 7832640.658407873, 13237479.549446251, -7530868.388458002]\n",
            "Custo =  1549161996.915591\n",
            "\n",
            "=========================================================================\n",
            "\n",
            "Número de ciclos de manutenção: 9 5\n",
            "Tempos para manutenções preventivas: [0, 36, 144, 164, 236, 314, 557, 575, 636, 719]\n",
            "Severidade para cada subsistema: [0.5, 0.5, 0.25, 0.25, 0.25, 0.25, 0.75, 0.25, 0.75]\n",
            "Número de Sisemas: 5\n",
            "Fator:  [0.06013123601935755, 0.14361699368653869, 0.14361699368653869, 0.07459035756403465, 0.07459035756403465, 0.07459035756403465, 0.07459035756403465, 0.20749490833922268, 0.07459035756403465, 0.20749490833922268]\n",
            "Media de falhas:  [0, 5.453936036415542e-06, 4.802079238044699, 8.941642644643046, 275.67849402204143, 7450.1893997564375, 2666979.0098131294, 3438553.8742919276, 8508289.562256861, 13913128.453295242, -6855219.484609012]\n",
            "Custo =  1506635711.1755633\n",
            "\n",
            "=========================================================================\n",
            "\n",
            "Número de ciclos de manutenção: 13 5\n",
            "Tempos para manutenções preventivas: [0, 3, 36, 106, 143, 163, 234, 317, 388, 509, 544, 575, 636, 719]\n",
            "Severidade para cada subsistema: [0.5, 0.5, 0.75, 0.5, 0.25, 0.25, 0.25, 0.25, 0.5, 0.5, 0.75, 0.25, 0.75]\n",
            "Número de Sisemas: 5\n",
            "Fator:  [0.06013123601935755, 0.14361699368653869, 0.14361699368653869, 0.20749490833922268, 0.14361699368653869, 0.07459035756403465, 0.07459035756403465, 0.07459035756403465, 0.07459035756403465, 0.14361699368653869, 0.14361699368653869, 0.20749490833922268, 0.07459035756403465, 0.20749490833922268]\n",
            "Media de falhas:  [0, 9.187533245630045e-17, 5.1871655780319504e-06, 0.1592205945789893, 1.7972484179712493, 3.875795661461418, 248.12940118490457, 8289.829195775164, 60635.48388726722, 937547.0886091944, 1740122.170607548, 2360850.8160938676, 5002762.799805125, 10407601.690843504, -10360746.24706075]\n",
            "Custo =  1335969212.0802236\n",
            "\n",
            "=========================================================================\n",
            "\n",
            "Número de ciclos de manutenção: 12 5\n",
            "Tempos para manutenções preventivas: [0, 8, 36, 118, 143, 163, 232, 320, 381, 480, 575, 637, 719]\n",
            "Severidade para cada subsistema: [0.5, 0.5, 0.5, 0.5, 0.25, 0.25, 0.25, 0.25, 0.75, 0.75, 0.25, 0.75]\n",
            "Número de Sisemas: 5\n",
            "Fator:  [0.06013123601935755, 0.14361699368653869, 0.14361699368653869, 0.14361699368653869, 0.14361699368653869, 0.07459035756403465, 0.07459035756403465, 0.07459035756403465, 0.07459035756403465, 0.20749490833922268, 0.20749490833922268, 0.07459035756403465, 0.20749490833922268]\n",
            "Media de falhas:  [0, 1.643094100688711e-12, 4.768539470846688e-06, 0.4892293132252034, 1.8055433308160271, 5.715541497400215, 227.40262461130604, 9217.143884558098, 50176.71683103765, 511552.2256886686, 3043587.963401671, 4463203.238883233, 9819820.10132853, -10948527.836575724]\n",
            "Custo =  1179345388.154389\n"
          ]
        },
        {
          "output_type": "stream",
          "name": "stderr",
          "text": [
            "pyswarms.single.global_best: 100%|██████████|100/100, best_cost=3.14e+8\n",
            "2023-10-03 17:32:01,780 - pyswarms.single.global_best - INFO - Optimization finished | best cost: 314309220.5012563, best pos: [3.17674914 3.20683123 3.21860184 6.48423801 3.76109054 1.44824759\n",
            " 0.34207724 2.11463817 4.49427137 0.2106671  1.52431898 2.7968349\n",
            " 3.70804937 4.16250969 4.26754432 2.41925788 0.01844537 4.58538593\n",
            " 2.26829987 5.17577965 4.59328227 1.19795338 4.47501695 5.9431627 ]\n",
            "2023-10-03 17:32:01,782 - pyswarms.single.global_best - INFO - Optimize for 1 iters with {'c1': 0.5, 'c2': 0.3, 'w': 0.9}\n"
          ]
        },
        {
          "output_type": "stream",
          "name": "stdout",
          "text": [
            "\n",
            "=========================================================================\n",
            "\n",
            "Número de ciclos de manutenção: 12 5\n",
            "Tempos para manutenções preventivas: [0, 11, 36, 143, 162, 234, 279, 321, 382, 485, 574, 637, 719]\n",
            "Severidade para cada subsistema: [0.5, 0.5, 0.5, 0.25, 0.25, 0.75, 0.25, 0.25, 0.75, 0.75, 0.25, 0.75]\n",
            "Número de Sisemas: 5\n",
            "Fator:  [0.06013123601935755, 0.14361699368653869, 0.14361699368653869, 0.14361699368653869, 0.07459035756403465, 0.07459035756403465, 0.20749490833922268, 0.07459035756403465, 0.07459035756403465, 0.20749490833922268, 0.20749490833922268, 0.07459035756403465, 0.20749490833922268]\n",
            "Media de falhas:  [0, 3.947698762388617e-11, 4.532224369487737e-06, 3.6076866311184035, 7.176902244497597, 253.37050032938356, 2085.817264825531, 8737.671061797699, 21103.025685324417, 538992.9816791257, 2950058.962566221, 4387079.932964676, 9743696.795409974, -11024651.14249428]\n",
            "Custo =  1180731456.9149513\n",
            "\n",
            "=========================================================================\n",
            "\n",
            "Número de ciclos de manutenção: 9 5\n",
            "Tempos para manutenções preventivas: [0, 10, 36, 143, 162, 236, 321, 574, 637, 719]\n",
            "Severidade para cada subsistema: [0.5, 0.5, 0.5, 0.25, 0.25, 0.25, 0.75, 0.25, 0.75]\n",
            "Número de Sisemas: 5\n",
            "Fator:  [0.06013123601935755, 0.14361699368653869, 0.14361699368653869, 0.14361699368653869, 0.07459035756403465, 0.07459035756403465, 0.07459035756403465, 0.20749490833922268, 0.07459035756403465, 0.20749490833922268]\n",
            "Media de falhas:  [0, 1.524470811950537e-11, 4.609792396401413e-06, 3.60768670868643, 7.176902322065624, 278.0968817126152, 9429.050474570793, 3613142.5923672873, 8867291.50580448, 14223908.368249776, -6544439.569654478]\n",
            "Custo =  1350413612.561552\n",
            "\n",
            "=========================================================================\n",
            "\n",
            "Número de ciclos de manutenção: 12 5\n",
            "Tempos para manutenções preventivas: [0, 6, 37, 144, 163, 238, 298, 320, 496, 531, 574, 636, 719]\n",
            "Severidade para cada subsistema: [0.5, 0.5, 0.5, 0.25, 0.25, 0.5, 0.25, 0.5, 0.75, 0.75, 0.25, 0.75]\n",
            "Número de Sisemas: 5\n",
            "Fator:  [0.06013123601935755, 0.14361699368653869, 0.14361699368653869, 0.14361699368653869, 0.07459035756403465, 0.07459035756403465, 0.14361699368653869, 0.07459035756403465, 0.14361699368653869, 0.20749490833922268, 0.20749490833922268, 0.07459035756403465, 0.20749490833922268]\n",
            "Media de falhas:  [0, 9.298092224724765e-14, 6.50154730763616e-06, 3.837815050650381, 7.617678668792783, 303.1906655316106, 4219.783522694828, 8441.729015568197, 492098.9992762945, 1134120.3505970156, 1925383.698514487, 3324582.625531534, 8729421.516569914, -12038926.42133434]\n",
            "Custo =  1207860042.1909425\n",
            "\n",
            "=========================================================================\n",
            "\n",
            "Número de ciclos de manutenção: 10 5\n",
            "Tempos para manutenções preventivas: [0, 0, 37, 107, 145, 165, 276, 318, 574, 636, 719]\n",
            "Severidade para cada subsistema: [0.5, 0.5, 0.5, 0.5, 0.25, 0.5, 0.25, 0.75, 0.25, 0.75]\n",
            "Número de Sisemas: 5\n",
            "Fator:  [0.06013123601935755, 0.14361699368653869, 0.14361699368653869, 0.14361699368653869, 0.14361699368653869, 0.07459035756403465, 0.14361699368653869, 0.07459035756403465, 0.20749490833922268, 0.07459035756403465, 0.20749490833922268]\n",
            "Media de falhas:  [0, 0.0, 7.169691675509905e-06, 0.1732489134329372, 2.0681275417853717, 6.44917830169844, 1510.416853017859, 7599.086335823449, 2419560.07792505, 7543597.902725389, 12948436.793763768, -7819911.144140486]\n",
            "Custo =  inf\n",
            "\n",
            "=========================================================================\n",
            "\n",
            "Número de ciclos de manutenção: 11 5\n",
            "Tempos para manutenções preventivas: [0, 37, 62, 145, 166, 281, 315, 388, 481, 574, 636, 719]\n",
            "Severidade para cada subsistema: [0.5, 0.5, 0.5, 0.25, 0.5, 0.25, 0.25, 0.25, 0.75, 0.25, 0.75]\n",
            "Número de Sisemas: 5\n",
            "Fator:  [0.06013123601935755, 0.14361699368653869, 0.14361699368653869, 0.14361699368653869, 0.07459035756403465, 0.14361699368653869, 0.07459035756403465, 0.07459035756403465, 0.07459035756403465, 0.20749490833922268, 0.07459035756403465, 0.20749490833922268]\n",
            "Media de falhas:  [0, 7.169691675509905e-06, 0.0008646139500928491, 3.179935623379652, 7.964930482348141, 1827.9189892647476, 6743.181597660602, 35937.63087605518, 494170.6392201635, 2958874.098388504, 8082911.923188843, 13487750.814227223, -7280597.12367703]\n",
            "Custo =  1417113764.0669415\n",
            "\n",
            "=========================================================================\n",
            "\n",
            "Número de ciclos de manutenção: 13 5\n",
            "Tempos para manutenções preventivas: [0, 36, 65, 145, 166, 299, 313, 373, 486, 522, 569, 574, 636, 719]\n",
            "Severidade para cada subsistema: [0.5, 0.5, 0.5, 0.25, 0.5, 0.25, 0.25, 0.25, 0.75, 0.5, 0.75, 0.25, 0.75]\n",
            "Número de Sisemas: 5\n",
            "Fator:  [0.06013123601935755, 0.14361699368653869, 0.14361699368653869, 0.14361699368653869, 0.07459035756403465, 0.14361699368653869, 0.07459035756403465, 0.07459035756403465, 0.07459035756403465, 0.20749490833922268, 0.14361699368653869, 0.20749490833922268, 0.07459035756403465, 0.20749490833922268]\n",
            "Media de falhas:  [0, 5.453936036415542e-06, 0.001420327192751244, 3.081268583185604, 7.866263442154093, 3588.4739952302616, 6002.398979419807, 23980.467067470225, 572001.7131335501, 1131917.803495895, 2639767.688542792, 2697584.808024808, 5370057.041138802, 10774895.932177182, -9993452.005727071]\n",
            "Custo =  1389181178.7953355\n",
            "\n",
            "=========================================================================\n",
            "\n",
            "Número de ciclos de manutenção: 9 5\n",
            "Tempos para manutenções preventivas: [0, 36, 67, 144, 165, 312, 364, 574, 636, 719]\n",
            "Severidade para cada subsistema: [0.5, 0.5, 0.5, 0.25, 0.25, 0.25, 0.75, 0.25, 0.75]\n",
            "Número de Sisemas: 5\n",
            "Fator:  [0.06013123601935755, 0.14361699368653869, 0.14361699368653869, 0.14361699368653869, 0.07459035756403465, 0.07459035756403465, 0.07459035756403465, 0.20749490833922268, 0.07459035756403465, 0.20749490833922268]\n",
            "Media de falhas:  [0, 5.453936036415542e-06, 0.0019410163710447796, 2.8019946383529324, 7.324524181998235, 5715.601093088424, 30201.74520563664, 3409799.600441925, 8533837.425242264, 13938676.316280644, -6829671.621623609]\n",
            "Custo =  1355566726.8583786\n",
            "\n",
            "=========================================================================\n",
            "\n",
            "Número de ciclos de manutenção: 12 5\n",
            "Tempos para manutenções preventivas: [0, 36, 63, 143, 164, 235, 313, 362, 506, 557, 574, 636, 719]\n",
            "Severidade para cada subsistema: [0.5, 0.5, 0.5, 0.25, 0.25, 0.25, 0.25, 0.5, 0.75, 0.75, 0.25, 0.75]\n",
            "Número de Sisemas: 5\n",
            "Fator:  [0.06013123601935755, 0.14361699368653869, 0.14361699368653869, 0.14361699368653869, 0.07459035756403465, 0.07459035756403465, 0.07459035756403465, 0.07459035756403465, 0.14361699368653869, 0.20749490833922268, 0.20749490833922268, 0.07459035756403465, 0.20749490833922268]\n",
            "Media de falhas:  [0, 5.453936036415542e-06, 0.0010290571217222468, 2.7140575204374593, 6.987017689965656, 261.2511249644299, 7219.095826876326, 29725.827313047914, 911901.291218934, 2219750.042379034, 2584143.601405505, 3983342.528422552, 9388181.419460932, -11380166.518443322]\n",
            "Custo =  1263872613.7958155\n",
            "\n",
            "=========================================================================\n",
            "\n",
            "Número de ciclos de manutenção: 13 5\n",
            "Tempos para manutenções preventivas: [0, 4, 36, 119, 143, 163, 231, 276, 315, 370, 554, 574, 636, 718]\n",
            "Severidade para cada subsistema: [0.5, 0.5, 0.5, 0.5, 0.25, 0.25, 0.75, 0.25, 0.25, 0.5, 0.75, 0.25, 0.75]\n",
            "Número de Sisemas: 5\n",
            "Fator:  [0.06013123601935755, 0.14361699368653869, 0.14361699368653869, 0.14361699368653869, 0.14361699368653869, 0.07459035756403465, 0.07459035756403465, 0.20749490833922268, 0.07459035756403465, 0.07459035756403465, 0.14361699368653869, 0.20749490833922268, 0.07459035756403465, 0.20749490833922268]\n",
            "Media de falhas:  [0, 1.6235568878994416e-15, 5.100887591306023e-06, 0.5342801408717368, 1.8195496339170616, 5.72954780050125, 216.8405372813036, 1870.6082181376178, 7209.098503591273, 15756.243808117808, 2312580.7540530306, 3144863.021894704, 5817335.2550086975, 11105484.655476674, -9325097.030380793]\n",
            "Custo =  1340657695.080236\n",
            "\n",
            "=========================================================================\n",
            "\n",
            "Número de ciclos de manutenção: 13 5\n",
            "Tempos para manutenções preventivas: [0, 7, 36, 114, 142, 163, 229, 318, 388, 539, 562, 574, 637, 718]\n",
            "Severidade para cada subsistema: [0.5, 0.5, 0.5, 0.5, 0.25, 0.25, 0.25, 0.25, 0.25, 0.25, 0.75, 0.25, 0.75]\n",
            "Número de Sisemas: 5\n",
            "Fator:  [0.06013123601935755, 0.14361699368653869, 0.14361699368653869, 0.14361699368653869, 0.14361699368653869, 0.07459035756403465, 0.07459035756403465, 0.07459035756403465, 0.07459035756403465, 0.07459035756403465, 0.07459035756403465, 0.20749490833922268, 0.07459035756403465, 0.20749490833922268]\n",
            "Media de falhas:  [0, 4.3323788364084784e-13, 4.849745792078261e-06, 0.3412085588534088, 1.6558356993594312, 5.69156370515834, 196.97710409590422, 8693.264802490537, 60701.12826034267, 1709270.8541840871, 2482265.655012489, 3010126.3105291077, 8264275.2239663005, 13504572.897746803, -6926008.788110664]\n",
            "Custo =  1642365690.051783\n"
          ]
        },
        {
          "output_type": "stream",
          "name": "stderr",
          "text": [
            "pyswarms.single.global_best: 100%|██████████|1/1, best_cost=3.14e+8\n",
            "2023-10-03 17:32:01,796 - pyswarms.single.global_best - INFO - Optimization finished | best cost: 314309220.5012563, best pos: [3.17678289 3.20614843 3.2186052  6.31178255 3.75948459 1.44962297\n",
            " 0.34209207 2.11372152 4.48905742 4.83925671 1.52407496 2.79686446\n",
            " 3.63862852 4.16139017 4.26740427 2.41952716 3.26108043 0.26795261\n",
            " 3.68672308 5.17579488 4.59379047 1.19799564 4.4750216  5.94314149]\n",
            "2023-10-03 17:32:01,803 - pyswarms.single.global_best - INFO - Optimize for 1 iters with {'c1': 0.5, 'c2': 0.3, 'w': 0.9}\n"
          ]
        },
        {
          "output_type": "stream",
          "name": "stdout",
          "text": [
            "\n",
            "=========================================================================\n",
            "\n",
            "Número de ciclos de manutenção: 11 5\n",
            "Tempos para manutenções preventivas: [0, 6, 36, 109, 142, 164, 228, 320, 503, 574, 637, 718]\n",
            "Severidade para cada subsistema: [0.5, 0.5, 0.5, 0.5, 0.25, 0.25, 0.25, 0.5, 0.75, 0.25, 0.75]\n",
            "Número de Sisemas: 5\n",
            "Fator:  [0.06013123601935755, 0.14361699368653869, 0.14361699368653869, 0.14361699368653869, 0.14361699368653869, 0.07459035756403465, 0.07459035756403465, 0.07459035756403465, 0.14361699368653869, 0.20749490833922268, 0.07459035756403465, 0.20749490833922268]\n",
            "Media de falhas:  [0, 9.298092224724765e-14, 4.932194801287136e-06, 0.21335908092343273, 1.653350869355771, 6.055329358574216, 186.50033614623484, 9316.06644798932, 912109.5625567669, 3044053.1037126766, 5786486.381495941, 11026784.055276444, -9403797.630581023]\n",
            "Custo =  1265718248.3700647\n"
          ]
        },
        {
          "output_type": "stream",
          "name": "stderr",
          "text": [
            "pyswarms.single.global_best: 100%|██████████|1/1, best_cost=3.14e+8\n",
            "2023-10-03 17:32:01,817 - pyswarms.single.global_best - INFO - Optimization finished | best cost: 314309220.5012563, best pos: [3.17679231 3.20580934 3.21861421 2.8105739  3.75993181 1.45068069\n",
            " 0.34208533 2.11299835 4.4911971  6.71328724 1.5240565  2.79653298\n",
            " 3.91209975 4.16208811 4.26749266 2.41922026 3.63141483 6.15958833\n",
            " 3.96786882 5.17579515 4.59334743 1.19782577 4.47502202 5.94332079]\n",
            "2023-10-03 17:32:01,818 - pyswarms.single.global_best - INFO - Optimize for 1 iters with {'c1': 0.5, 'c2': 0.3, 'w': 0.9}\n"
          ]
        },
        {
          "output_type": "stream",
          "name": "stdout",
          "text": [
            "\n",
            "=========================================================================\n",
            "\n",
            "Número de ciclos de manutenção: 11 5\n",
            "Tempos para manutenções preventivas: [0, 4, 36, 96, 143, 164, 229, 322, 526, 574, 637, 718]\n",
            "Severidade para cada subsistema: [0.5, 0.5, 0.5, 0.5, 0.25, 0.25, 0.25, 0.5, 0.75, 0.25, 0.75]\n",
            "Número de Sisemas: 5\n",
            "Fator:  [0.06013123601935755, 0.14361699368653869, 0.14361699368653869, 0.14361699368653869, 0.14361699368653869, 0.07459035756403465, 0.07459035756403465, 0.07459035756403465, 0.14361699368653869, 0.20749490833922268, 0.07459035756403465, 0.20749490833922268]\n",
            "Media de falhas:  [0, 1.6235568878994416e-15, 5.100887591306023e-06, 0.05612837438267918, 1.9291497828009185, 6.202109952329115, 195.87155397423547, 9926.636898939718, 1451283.8566075556, 3110914.7709270017, 5853348.048710266, 11093645.722490769, -9336935.963366698]\n",
            "Custo =  1292462401.9882116\n"
          ]
        },
        {
          "output_type": "stream",
          "name": "stderr",
          "text": [
            "pyswarms.single.global_best: 100%|██████████|1/1, best_cost=3.14e+8\n",
            "2023-10-03 17:32:01,834 - pyswarms.single.global_best - INFO - Optimization finished | best cost: 314309220.5012563, best pos: [3.17679402 3.20552669 3.21862157 6.152125   3.76067433 1.45132729\n",
            " 0.3420775  2.1126126  4.49328986 1.58742586 1.52409818 2.79629699\n",
            " 4.13199003 4.16277476 4.26758353 2.41894632 4.52305126 4.19719336\n",
            " 4.79797858 5.17579282 4.59292967 1.19768623 4.47502139 5.94345553]\n",
            "2023-10-03 17:32:01,836 - pyswarms.single.global_best - INFO - Optimize for 1 iters with {'c1': 0.5, 'c2': 0.3, 'w': 0.9}\n"
          ]
        },
        {
          "output_type": "stream",
          "name": "stdout",
          "text": [
            "\n",
            "=========================================================================\n",
            "\n",
            "Número de ciclos de manutenção: 11 5\n",
            "Tempos para manutenções preventivas: [0, 3, 36, 143, 165, 234, 323, 375, 524, 574, 636, 718]\n",
            "Severidade para cada subsistema: [0.5, 0.5, 0.5, 0.25, 0.25, 0.25, 0.5, 0.75, 0.75, 0.25, 0.75]\n",
            "Número de Sisemas: 5\n",
            "Fator:  [0.06013123601935755, 0.14361699368653869, 0.14361699368653869, 0.14361699368653869, 0.07459035756403465, 0.07459035756403465, 0.07459035756403465, 0.14361699368653869, 0.20749490833922268, 0.20749490833922268, 0.07459035756403465, 0.20749490833922268]\n",
            "Media de falhas:  [0, 9.187533245630045e-17, 5.1871655780319504e-06, 3.607687286059612, 8.267062571228465, 248.6295362274359, 10122.864135249709, 42558.790926511894, 1292765.6935776453, 2178161.5907331277, 3577360.5177501747, 8865509.918218153, -11565071.767639315]\n",
            "Custo =  1148141651.947927\n"
          ]
        },
        {
          "output_type": "stream",
          "name": "stderr",
          "text": [
            "pyswarms.single.global_best: 100%|██████████|1/1, best_cost=3.14e+8\n",
            "2023-10-03 17:32:01,848 - pyswarms.single.global_best - INFO - Optimization finished | best cost: 314309220.5012563, best pos: [3.17678265 3.20562152 3.21862403 1.46967901 3.76142918 1.45161907\n",
            " 0.3420704  2.1124017  4.49532621 4.28463015 1.52414559 2.79613576\n",
            " 4.29292349 4.16337657 4.26765428 2.41872403 6.06597261 1.73847056\n",
            " 6.16645986 5.17578799 4.59259492 1.1975845  4.47502003 5.94357583]\n",
            "2023-10-03 17:32:01,849 - pyswarms.single.global_best - INFO - Optimize for 1 iters with {'c1': 0.5, 'c2': 0.3, 'w': 0.9}\n"
          ]
        },
        {
          "output_type": "stream",
          "name": "stdout",
          "text": [
            "\n",
            "=========================================================================\n",
            "\n",
            "Número de ciclos de manutenção: 11 5\n",
            "Tempos para manutenções preventivas: [0, 3, 36, 107, 143, 165, 324, 418, 507, 575, 636, 718]\n",
            "Severidade para cada subsistema: [0.5, 0.5, 0.25, 0.5, 0.25, 0.25, 0.5, 0.75, 0.75, 0.25, 0.75]\n",
            "Número de Sisemas: 5\n",
            "Fator:  [0.06013123601935755, 0.14361699368653869, 0.14361699368653869, 0.07459035756403465, 0.14361699368653869, 0.07459035756403465, 0.07459035756403465, 0.14361699368653869, 0.20749490833922268, 0.20749490833922268, 0.07459035756403465, 0.20749490833922268]\n",
            "Media de falhas:  [0, 9.187533245630045e-17, 5.1871655780319504e-06, 0.1757055104926937, 1.7893398955375142, 10.543645867311236, 8589.358680242036, 128722.04120166527, 870644.9236588202, 1985352.7050494356, 3367281.9735016837, 8655431.373969661, -11775150.311887806]\n",
            "Custo =  1145386563.4607403\n"
          ]
        },
        {
          "output_type": "stream",
          "name": "stderr",
          "text": [
            "pyswarms.single.global_best: 100%|██████████|1/1, best_cost=3.14e+8\n",
            "2023-10-03 17:32:01,864 - pyswarms.single.global_best - INFO - Optimization finished | best cost: 314309220.5012563, best pos: [3.1767624  3.20596943 3.21862061 3.64786856 3.76207043 1.45183066\n",
            " 0.34206475 2.11279585 4.49693837 6.9089421  1.52421193 2.79604597\n",
            " 4.39091121 4.16382692 4.26769764 2.41866809 0.90215996 6.41145487\n",
            " 0.82974887 5.17578178 4.59236371 1.19759455 4.47501822 5.94357004]\n",
            "2023-10-03 17:32:01,866 - pyswarms.single.global_best - INFO - Optimize for 1 iters with {'c1': 0.5, 'c2': 0.3, 'w': 0.9}\n"
          ]
        },
        {
          "output_type": "stream",
          "name": "stdout",
          "text": [
            "\n",
            "=========================================================================\n",
            "\n",
            "Número de ciclos de manutenção: 12 5\n",
            "Tempos para manutenções preventivas: [0, 3, 36, 100, 143, 165, 289, 323, 418, 547, 575, 635, 718]\n",
            "Severidade para cada subsistema: [0.5, 0.5, 0.25, 0.5, 0.25, 0.75, 0.25, 0.5, 0.75, 0.75, 0.25, 0.75]\n",
            "Número de Sisemas: 5\n",
            "Fator:  [0.06013123601935755, 0.14361699368653869, 0.14361699368653869, 0.07459035756403465, 0.14361699368653869, 0.07459035756403465, 0.20749490833922268, 0.07459035756403465, 0.14361699368653869, 0.20749490833922268, 0.20749490833922268, 0.07459035756403465, 0.20749490833922268]\n",
            "Media de falhas:  [0, 9.187533245630045e-17, 5.1871655780319504e-06, 0.08630175426905193, 1.8664906773256869, 10.620796649099407, 2497.1424182467804, 8712.337369734914, 47681.77276105146, 1841592.179003535, 2412216.251218768, 3757109.047376052, 9092851.926384566, -11337729.759472901]\n",
            "Custo =  1178965155.4412327\n"
          ]
        },
        {
          "output_type": "stream",
          "name": "stderr",
          "text": [
            "pyswarms.single.global_best: 100%|██████████|1/1, best_cost=3.14e+8\n",
            "2023-10-03 17:32:01,877 - pyswarms.single.global_best - INFO - Optimization finished | best cost: 314309220.5012563, best pos: [3.17674064 3.20633917 3.21861238 5.55459178 3.76252273 1.45175077\n",
            " 0.34206123 2.11338659 4.49784938 1.69316541 1.52429898 2.79599754\n",
            " 4.40188218 4.16400206 4.26770888 2.41875713 3.69145829 3.61210577\n",
            " 3.13172857 5.17577595 4.59241442 1.19760509 4.47501652 5.94352751]\n",
            "2023-10-03 17:32:01,879 - pyswarms.single.global_best - INFO - Optimize for 1 iters with {'c1': 0.5, 'c2': 0.3, 'w': 0.9}\n"
          ]
        },
        {
          "output_type": "stream",
          "name": "stdout",
          "text": [
            "\n",
            "=========================================================================\n",
            "\n",
            "Número de ciclos de manutenção: 11 5\n",
            "Tempos para manutenções preventivas: [0, 3, 36, 65, 143, 164, 319, 419, 523, 575, 635, 718]\n",
            "Severidade para cada subsistema: [0.5, 0.5, 0.5, 0.5, 0.25, 0.25, 0.5, 0.25, 0.75, 0.25, 0.75]\n",
            "Número de Sisemas: 5\n",
            "Fator:  [0.06013123601935755, 0.14361699368653869, 0.14361699368653869, 0.14361699368653869, 0.14361699368653869, 0.07459035756403465, 0.07459035756403465, 0.14361699368653869, 0.07459035756403465, 0.20749490833922268, 0.07459035756403465, 0.20749490833922268]\n",
            "Media de falhas:  [0, 9.187533245630045e-17, 5.1871655780319504e-06, 0.0008732242898126833, 2.656261035756918, 6.929221205285115, 7296.731875104642, 133190.29430706365, 1203018.3422401492, 2128776.869838051, 7070501.80077707, 12406244.679785583, -8024337.006071884]\n",
            "Custo =  1396741016.6962366\n"
          ]
        },
        {
          "output_type": "stream",
          "name": "stderr",
          "text": [
            "pyswarms.single.global_best: 100%|██████████|1/1, best_cost=3.14e+8"
          ]
        },
        {
          "output_type": "stream",
          "name": "stdout",
          "text": [
            "\n",
            "=========================================================================\n",
            "\n",
            "Número de ciclos de manutenção: 14 5\n",
            "Tempos para manutenções preventivas: [0, 3, 36, 70, 142, 164, 299, 316, 365, 480, 533, 543, 575, 634, 718]\n",
            "Severidade para cada subsistema: [0.5, 0.5, 0.5, 0.5, 0.25, 0.25, 0.25, 0.75, 0.5, 0.75, 0.75, 0.75, 0.25, 0.75]\n",
            "Número de Sisemas: 5\n",
            "Fator:  [0.06013123601935755, 0.14361699368653869, 0.14361699368653869, 0.14361699368653869, 0.14361699368653869, 0.07459035756403465, 0.07459035756403465, 0.07459035756403465, 0.20749490833922268, 0.14361699368653869, 0.20749490833922268, 0.20749490833922268, 0.20749490833922268, 0.07459035756403465, 0.20749490833922268]\n",
            "Media de falhas:  [0, 9.187533245630045e-17, 5.1871655780319504e-06, 0.0019408887358385908, 2.3350916050735195, 6.737070094291965, 3625.4455213121187, 6709.058502149854, 31037.324040576168, 520711.51445632655, 764177.2979870589, 899668.1442417866, 1225580.3055591513, 2534076.1962218927, 7917158.699659247, -12513422.98619822]\n",
            "Custo =  1170776914.787499\n"
          ]
        },
        {
          "output_type": "stream",
          "name": "stderr",
          "text": [
            "\n",
            "2023-10-03 17:32:01,891 - pyswarms.single.global_best - INFO - Optimization finished | best cost: 314309220.5012563, best pos: [3.17672184 3.20679724 3.21860311 6.78441486 3.76254284 1.45079523\n",
            " 0.34205828 2.11394074 4.49792486 4.53765012 1.52438298 2.79611459\n",
            " 4.29950644 4.16386731 4.26769328 2.41888492 6.5404086  0.3989806\n",
            " 5.80660226 5.17577099 4.59246529 1.19769822 4.47501508 5.94340514]\n",
            "2023-10-03 17:32:01,896 - pyswarms.single.global_best - INFO - Optimize for 1 iters with {'c1': 0.5, 'c2': 0.3, 'w': 0.9}\n",
            "pyswarms.single.global_best: 100%|██████████|1/1, best_cost=3.14e+8\n",
            "2023-10-03 17:32:01,915 - pyswarms.single.global_best - INFO - Optimization finished | best cost: 314309220.5012563, best pos: [3.17670536 3.20721659 3.21859475 0.17516562 3.76237714 1.44983551\n",
            " 0.34205818 2.1144815  4.4969819  1.05525941 1.52444357 2.79626568\n",
            " 4.06470409 4.16341665 4.26766856 2.41903936 3.20259239 4.68033142\n",
            " 0.90912425 5.17576785 4.59269398 1.19780274 4.47501388 5.94323034]\n",
            "2023-10-03 17:32:01,916 - pyswarms.single.global_best - INFO - Optimize for 1 iters with {'c1': 0.5, 'c2': 0.3, 'w': 0.9}\n"
          ]
        },
        {
          "output_type": "stream",
          "name": "stdout",
          "text": [
            "\n",
            "=========================================================================\n",
            "\n",
            "Número de ciclos de manutenção: 13 5\n",
            "Tempos para manutenções preventivas: [0, 4, 36, 74, 142, 163, 298, 313, 363, 521, 549, 575, 634, 718]\n",
            "Severidade para cada subsistema: [0.5, 0.5, 0.5, 0.5, 0.25, 0.5, 0.25, 0.75, 0.5, 0.75, 0.75, 0.25, 0.75]\n",
            "Número de Sisemas: 5\n",
            "Fator:  [0.06013123601935755, 0.14361699368653869, 0.14361699368653869, 0.14361699368653869, 0.14361699368653869, 0.07459035756403465, 0.14361699368653869, 0.07459035756403465, 0.20749490833922268, 0.14361699368653869, 0.20749490833922268, 0.20749490833922268, 0.07459035756403465, 0.20749490833922268]\n",
            "Media de falhas:  [0, 1.6235568878994416e-15, 5.100887591306023e-06, 0.0035250213787513854, 2.2365328970087983, 6.272260902807707, 3514.3435246400154, 6068.859430139103, 18533.376610373576, 1225345.1271217756, 1416041.5708932339, 1952227.507480082, 3260723.398142824, 8643805.901580177, -11786775.78427729]\n",
            "Custo =  1179681615.0155003\n"
          ]
        },
        {
          "output_type": "stream",
          "name": "stderr",
          "text": [
            "pyswarms.single.global_best: 100%|██████████|1/1, best_cost=3.14e+8\n",
            "2023-10-03 17:32:01,933 - pyswarms.single.global_best - INFO - Optimization finished | best cost: 314309220.5012563, best pos: [3.17669779 3.20750057 3.21858892 6.98605778 3.76212201 1.44879103\n",
            " 0.34205841 2.11499073 4.4955257  5.58042522 1.52448182 2.79642258\n",
            " 3.75312711 4.16276671 4.26761545 2.41921981 0.23275745 1.50938264\n",
            " 3.86527404 5.1757682  4.59301792 1.19792923 4.47501325 5.94306077]\n",
            "2023-10-03 17:32:01,934 - pyswarms.single.global_best - INFO - Optimize for 1 iters with {'c1': 0.5, 'c2': 0.3, 'w': 0.9}\n"
          ]
        },
        {
          "output_type": "stream",
          "name": "stdout",
          "text": [
            "\n",
            "=========================================================================\n",
            "\n",
            "Número de ciclos de manutenção: 11 5\n",
            "Tempos para manutenções preventivas: [0, 5, 35, 77, 142, 162, 311, 522, 568, 575, 634, 718]\n",
            "Severidade para cada subsistema: [0.5, 0.5, 0.5, 0.5, 0.25, 0.25, 0.25, 0.75, 0.75, 0.25, 0.75]\n",
            "Número de Sisemas: 5\n",
            "Fator:  [0.06013123601935755, 0.14361699368653869, 0.14361699368653869, 0.14361699368653869, 0.14361699368653869, 0.07459035756403465, 0.07459035756403465, 0.07459035756403465, 0.20749490833922268, 0.20749490833922268, 0.07459035756403465, 0.20749490833922268]\n",
            "Media de falhas:  [0, 1.506344089548196e-14, 3.777188628876593e-06, 0.005502148436548074, 2.165666278473268, 5.857502363810345, 5603.312284023872, 1360211.5076521118, 2821458.1298677223, 3145468.7100149705, 4453964.600677712, 9837047.104115065, -10593534.581742402]\n",
            "Custo =  1375658944.0440278\n"
          ]
        },
        {
          "output_type": "stream",
          "name": "stderr",
          "text": [
            "pyswarms.single.global_best: 100%|██████████|1/1, best_cost=3.14e+8\n",
            "2023-10-03 17:32:01,953 - pyswarms.single.global_best - INFO - Optimization finished | best cost: 314309220.5012563, best pos: [3.17669718 3.20764359 3.21858527 6.07896324 3.76160887 1.44784695\n",
            " 0.34206422 2.115412   4.49385856 2.70738296 1.52449184 2.79667682\n",
            " 3.46137217 4.16215476 4.26756144 2.4193895  5.25744314 5.60566045\n",
            " 0.18438689 5.17577157 4.59338208 1.19804696 4.47501273 5.94292317]\n",
            "2023-10-03 17:32:01,955 - pyswarms.single.global_best - INFO - Optimize for 1 iters with {'c1': 0.5, 'c2': 0.3, 'w': 0.9}\n"
          ]
        },
        {
          "output_type": "stream",
          "name": "stdout",
          "text": [
            "\n",
            "=========================================================================\n",
            "\n",
            "Número de ciclos de manutenção: 12 5\n",
            "Tempos para manutenções preventivas: [0, 6, 35, 78, 113, 142, 162, 282, 309, 494, 575, 634, 718]\n",
            "Severidade para cada subsistema: [0.5, 0.5, 0.5, 0.75, 0.5, 0.25, 0.25, 0.25, 0.75, 0.75, 0.25, 0.75]\n",
            "Número de Sisemas: 5\n",
            "Fator:  [0.06013123601935755, 0.14361699368653869, 0.14361699368653869, 0.14361699368653869, 0.20749490833922268, 0.14361699368653869, 0.07459035756403465, 0.07459035756403465, 0.07459035756403465, 0.20749490833922268, 0.20749490833922268, 0.07459035756403465, 0.20749490833922268]\n",
            "Media de falhas:  [0, 9.298092224724765e-14, 3.712350226805744e-06, 0.006314258629495183, 0.17885608503903874, 1.5196006568085512, 3.4831001306694276, 1939.1552879510004, 5472.473331252235, 766705.070415174, 3099902.307656839, 4408398.19831958, 9791480.701756936, -10639100.984100532]\n",
            "Custo =  1169880070.847608\n"
          ]
        },
        {
          "output_type": "stream",
          "name": "stderr",
          "text": [
            "pyswarms.single.global_best: 100%|██████████|1/1, best_cost=3.14e+8\n",
            "2023-10-03 17:32:01,966 - pyswarms.single.global_best - INFO - Optimization finished | best cost: 314309220.5012563, best pos: [3.17671095 3.20754175 3.21858239 4.66379085 3.76110169 1.4470594\n",
            " 0.34207252 2.11558733 4.49236867 0.38306756 1.52447862 2.79691392\n",
            " 3.21132469 4.16169916 4.26751015 2.41953844 2.83863547 2.2405334\n",
            " 4.33109315 5.17577515 4.59370537 1.19813755 4.4750132  5.94284504]\n",
            "2023-10-03 17:32:01,968 - pyswarms.single.global_best - INFO - Optimize for 1 iters with {'c1': 0.5, 'c2': 0.3, 'w': 0.9}\n"
          ]
        },
        {
          "output_type": "stream",
          "name": "stdout",
          "text": [
            "\n",
            "=========================================================================\n",
            "\n",
            "Número de ciclos de manutenção: 10 5\n",
            "Tempos para manutenções preventivas: [0, 7, 35, 78, 142, 162, 309, 374, 575, 634, 718]\n",
            "Severidade para cada subsistema: [0.5, 0.5, 0.5, 0.5, 0.25, 0.25, 0.5, 0.75, 0.25, 0.75]\n",
            "Número de Sisemas: 5\n",
            "Fator:  [0.06013123601935755, 0.14361699368653869, 0.14361699368653869, 0.14361699368653869, 0.14361699368653869, 0.07459035756403465, 0.07459035756403465, 0.14361699368653869, 0.20749490833922268, 0.07459035756403465, 0.20749490833922268]\n",
            "Media de falhas:  [0, 4.3323788364084784e-13, 3.6485151874275983e-06, 0.006314194794455805, 2.142601396927135, 5.834437482264212, 5226.5231642752815, 40642.61174826173, 3427682.818550372, 5933353.497164406, 11316436.000601761, -9114145.685255706]\n",
            "Custo =  1188502679.8855495\n"
          ]
        },
        {
          "output_type": "stream",
          "name": "stderr",
          "text": [
            "pyswarms.single.global_best: 100%|██████████|1/1, best_cost=3.14e+8\n",
            "2023-10-03 17:32:01,983 - pyswarms.single.global_best - INFO - Optimization finished | best cost: 314309220.5012563, best pos: [3.17672464 3.20733564 3.2185852  2.87608812 3.76064523 1.4464066\n",
            " 0.34208137 2.11568592 4.49104947 5.97725047 1.52446601 2.79711342\n",
            " 2.99192623 4.16141806 4.26746945 2.41964901 0.85984389 5.83622153\n",
            " 1.68991899 5.17577862 4.5938936  1.19816978 4.47501453 5.94279888]\n",
            "2023-10-03 17:32:01,985 - pyswarms.single.global_best - INFO - Optimize for 1 iters with {'c1': 0.5, 'c2': 0.3, 'w': 0.9}\n"
          ]
        },
        {
          "output_type": "stream",
          "name": "stdout",
          "text": [
            "\n",
            "=========================================================================\n",
            "\n",
            "Número de ciclos de manutenção: 14 5\n",
            "Tempos para manutenções preventivas: [0, 7, 36, 78, 142, 162, 209, 309, 360, 494, 511, 564, 575, 635, 718]\n",
            "Severidade para cada subsistema: [0.5, 0.5, 0.5, 0.5, 0.25, 0.75, 0.25, 0.5, 0.5, 0.5, 0.25, 0.75, 0.25, 0.75]\n",
            "Número de Sisemas: 5\n",
            "Fator:  [0.06013123601935755, 0.14361699368653869, 0.14361699368653869, 0.14361699368653869, 0.14361699368653869, 0.07459035756403465, 0.20749490833922268, 0.07459035756403465, 0.14361699368653869, 0.14361699368653869, 0.14361699368653869, 0.07459035756403465, 0.20749490833922268, 0.07459035756403465, 0.20749490833922268]\n",
            "Media de falhas:  [0, 4.3323788364084784e-13, 4.849745792078261e-06, 0.006192199275776642, 2.142479401408456, 5.834315486745533, 72.86196446639669, 6774.220409839762, 13056.989796335496, 695748.6431736426, 822345.4906003862, 1607056.2885877728, 1855697.3739164658, 6797422.304855485, 12133165.183864, -8297416.501993468]\n",
            "Custo =  1479729588.6913342\n"
          ]
        },
        {
          "output_type": "stream",
          "name": "stderr",
          "text": [
            "pyswarms.single.global_best: 100%|██████████|1/1, best_cost=3.14e+8\n",
            "2023-10-03 17:32:01,996 - pyswarms.single.global_best - INFO - Optimization finished | best cost: 314309220.5012563, best pos: [3.17673893 3.20710736 3.21858964 0.74101419 3.76026537 1.44630491\n",
            " 0.34208933 2.11559045 4.48988027 4.89011658 1.5244451  2.79726229\n",
            " 2.98465275 4.16133245 4.26745442 2.41972793 6.67526798 1.99712942\n",
            " 6.38424409 5.17578196 4.59393861 1.1981802  4.47501628 5.94285469]\n",
            "2023-10-03 17:32:01,997 - pyswarms.single.global_best - INFO - Optimize for 1 iters with {'c1': 0.5, 'c2': 0.3, 'w': 0.9}\n"
          ]
        },
        {
          "output_type": "stream",
          "name": "stdout",
          "text": [
            "\n",
            "=========================================================================\n",
            "\n",
            "Número de ciclos de manutenção: 13 5\n",
            "Tempos para manutenções preventivas: [0, 7, 36, 76, 103, 142, 162, 204, 289, 310, 533, 575, 635, 718]\n",
            "Severidade para cada subsistema: [0.5, 0.5, 0.5, 0.25, 0.5, 0.25, 0.25, 0.5, 0.25, 0.25, 0.75, 0.25, 0.75]\n",
            "Número de Sisemas: 5\n",
            "Fator:  [0.06013123601935755, 0.14361699368653869, 0.14361699368653869, 0.14361699368653869, 0.07459035756403465, 0.14361699368653869, 0.07459035756403465, 0.07459035756403465, 0.14361699368653869, 0.07459035756403465, 0.07459035756403465, 0.20749490833922268, 0.07459035756403465, 0.20749490833922268]\n",
            "Media de falhas:  [0, 4.3323788364084784e-13, 4.849745792078261e-06, 0.004690313645578643, 0.06704273815862548, 1.6451450209949656, 8.621693448970262, 58.74670919387275, 3385.843269651164, 6427.3450445256385, 1107833.956106368, 2641500.888110735, 7583225.819049755, 12918968.69805827, -7511612.987799197]\n",
            "Custo =  1445718235.0563507\n"
          ]
        },
        {
          "output_type": "stream",
          "name": "stderr",
          "text": [
            "pyswarms.single.global_best: 100%|██████████|1/1, best_cost=3.14e+8\n",
            "2023-10-03 17:32:02,011 - pyswarms.single.global_best - INFO - Optimization finished | best cost: 314309220.5012563, best pos: [3.17675235 3.20686994 3.21859426 6.15847094 3.75995304 1.44674248\n",
            " 0.34209621 2.11539295 4.48982554 3.74023052 1.52439797 2.79737444\n",
            " 3.00559375 4.16139542 4.26746718 2.41968103 6.26584725 5.02355957\n",
            " 4.21566151 5.17578474 4.59380684 1.19813883 4.47501805 5.94298554]\n",
            "2023-10-03 17:32:02,012 - pyswarms.single.global_best - INFO - Optimize for 1 iters with {'c1': 0.5, 'c2': 0.3, 'w': 0.9}\n"
          ]
        },
        {
          "output_type": "stream",
          "name": "stdout",
          "text": [
            "\n",
            "=========================================================================\n",
            "\n",
            "Número de ciclos de manutenção: 9 5\n",
            "Tempos para manutenções preventivas: [0, 7, 36, 72, 142, 162, 312, 575, 636, 718]\n",
            "Severidade para cada subsistema: [0.5, 0.5, 0.5, 0.5, 0.25, 0.25, 0.75, 0.25, 0.75]\n",
            "Número de Sisemas: 5\n",
            "Fator:  [0.06013123601935755, 0.14361699368653869, 0.14361699368653869, 0.14361699368653869, 0.14361699368653869, 0.07459035756403465, 0.07459035756403465, 0.20749490833922268, 0.07459035756403465, 0.20749490833922268]\n",
            "Media de falhas:  [0, 4.3323788364084784e-13, 4.849745792078261e-06, 0.0026268790781593075, 2.28525953713385, 5.977095622470927, 5800.833158907165, 3722469.3275633296, 8792205.015528265, 14080354.415996242, -6350227.269861225]\n",
            "Custo =  1339646072.922183\n"
          ]
        },
        {
          "output_type": "stream",
          "name": "stderr",
          "text": [
            "pyswarms.single.global_best:   0%|          |0/1, best_cost=3.14e+8"
          ]
        },
        {
          "output_type": "stream",
          "name": "stdout",
          "text": [
            "\n",
            "=========================================================================\n",
            "\n",
            "Número de ciclos de manutenção: 11 5\n",
            "Tempos para manutenções preventivas: [0, 7, 36, 69, 142, 163, 235, 315, 558, 574, 636, 718]\n",
            "Severidade para cada subsistema: [0.5, 0.5, 0.5, 0.5, 0.25, 0.25, 0.25, 0.25, 0.75, 0.25, 0.75]\n",
            "Número de Sisemas: 5\n",
            "Fator:  [0.06013123601935755, 0.14361699368653869, 0.14361699368653869, 0.14361699368653869, 0.14361699368653869, 0.07459035756403465, 0.07459035756403465, 0.07459035756403465, 0.07459035756403465, 0.20749490833922268, 0.07459035756403465, 0.20749490833922268]\n",
            "Media de falhas:  [0, 4.3323788364084784e-13, 4.849745792078261e-06, 0.0016621347382728135, 2.360417443662742, 6.396145449461651, 262.67701796891225, 7729.092991580844, 2713574.0006728168, 3398038.343697478, 8522076.168497818, 13810225.568965796, -6620356.116891671]\n",
            "Custo =  1497150751.830268\n"
          ]
        },
        {
          "output_type": "stream",
          "name": "stderr",
          "text": [
            "\rpyswarms.single.global_best: 100%|██████████|1/1, best_cost=3.14e+8\n",
            "2023-10-03 17:32:02,030 - pyswarms.single.global_best - INFO - Optimization finished | best cost: 314309220.5012563, best pos: [3.17676424 3.20664542 3.21859862 4.03879138 3.7596758  1.44751884\n",
            " 0.34210044 2.11515496 4.48990541 2.94829654 1.52433867 2.79738581\n",
            " 3.19737482 4.1615906  4.26748892 2.4195788  5.29313983 0.67617703\n",
            " 1.93143709 5.17578572 4.59367186 1.19806692 4.47501963 5.94314337]\n",
            "2023-10-03 17:32:02,032 - pyswarms.single.global_best - INFO - Optimize for 1 iters with {'c1': 0.5, 'c2': 0.3, 'w': 0.9}\n",
            "pyswarms.single.global_best:   0%|          |0/1, best_cost=3.14e+8"
          ]
        },
        {
          "output_type": "stream",
          "name": "stdout",
          "text": [
            "\n",
            "=========================================================================\n",
            "\n",
            "Número de ciclos de manutenção: 13 5\n",
            "Tempos para manutenções preventivas: [0, 6, 36, 65, 142, 163, 182, 233, 318, 362, 488, 574, 637, 718]\n",
            "Severidade para cada subsistema: [0.5, 0.5, 0.5, 0.5, 0.25, 0.5, 0.25, 0.25, 0.5, 0.75, 0.75, 0.25, 0.75]\n",
            "Número de Sisemas: 5\n",
            "Fator:  [0.06013123601935755, 0.14361699368653869, 0.14361699368653869, 0.14361699368653869, 0.14361699368653869, 0.07459035756403465, 0.14361699368653869, 0.07459035756403465, 0.07459035756403465, 0.14361699368653869, 0.20749490833922268, 0.20749490833922268, 0.07459035756403465, 0.20749490833922268]\n",
            "Media de falhas:  [0, 9.298092224724765e-14, 4.932194801287136e-06, 0.0008729693190359384, 2.464440324594023, 6.500168330392931, 17.04486542900969, 364.6578016561888, 5229.820128070722, 26398.812463845275, 620127.7484670395, 1893571.6067854334, 3330592.5771838883, 8570890.250964392, -11859691.434893075]\n",
            "Custo =  1122845679.7638907\n"
          ]
        },
        {
          "output_type": "stream",
          "name": "stderr",
          "text": [
            "\rpyswarms.single.global_best: 100%|██████████|1/1, best_cost=3.14e+8\n",
            "2023-10-03 17:32:02,047 - pyswarms.single.global_best - INFO - Optimization finished | best cost: 314309220.5012563, best pos: [3.17677382 3.20646567 3.2186033  1.85303939 3.75965222 1.44835222\n",
            " 0.34209897 2.11492421 4.49119781 2.50951333 1.52428485 2.7972515\n",
            " 3.46285013 4.16196142 4.26751256 2.41943571 4.27475077 3.87335902\n",
            " 6.89671767 5.17578587 4.59344548 1.19799644 4.47502066 5.94328841]\n",
            "2023-10-03 17:32:02,049 - pyswarms.single.global_best - INFO - Optimize for 1 iters with {'c1': 0.5, 'c2': 0.3, 'w': 0.9}\n",
            "pyswarms.single.global_best: 100%|██████████|1/1, best_cost=3.14e+8"
          ]
        },
        {
          "output_type": "stream",
          "name": "stdout",
          "text": [
            "\n",
            "=========================================================================\n",
            "\n",
            "Número de ciclos de manutenção: 14 5\n",
            "Tempos para manutenções preventivas: [0, 5, 36, 62, 142, 164, 199, 233, 289, 319, 370, 518, 575, 637, 718]\n",
            "Severidade para cada subsistema: [0.5, 0.5, 0.5, 0.5, 0.25, 0.75, 0.25, 0.5, 0.25, 0.5, 0.25, 0.75, 0.25, 0.75]\n",
            "Número de Sisemas: 5\n",
            "Fator:  [0.06013123601935755, 0.14361699368653869, 0.14361699368653869, 0.14361699368653869, 0.14361699368653869, 0.07459035756403465, 0.20749490833922268, 0.07459035756403465, 0.14361699368653869, 0.07459035756403465, 0.14361699368653869, 0.07459035756403465, 0.20749490833922268, 0.07459035756403465, 0.20749490833922268]\n",
            "Media de falhas:  [0, 1.506344089548196e-14, 5.015903078194724e-06, 0.0005239510638004528, 2.545312210759597, 6.947290699978042, 42.72494353886485, 330.8944047530212, 1205.0868866639694, 6307.346637881412, 21396.938808269864, 1137664.8902427629, 2125946.255183828, 7325646.258970942, 12565943.932751445, -7864637.753106022]\n",
            "Custo =  1388296526.42735\n"
          ]
        },
        {
          "output_type": "stream",
          "name": "stderr",
          "text": [
            "\n",
            "2023-10-03 17:32:02,065 - pyswarms.single.global_best - INFO - Optimization finished | best cost: 314309220.5012563, best pos: [3.17677671 3.20634772 3.21860751 6.35005086 3.7596364  1.44909896\n",
            " 0.34209694 2.11467475 4.49310868 2.75912193 1.52424528 2.79705355\n",
            " 3.75005644 4.16233221 4.26754177 2.41929472 3.80072349 6.80956438\n",
            " 4.8268958  5.17578454 4.5932334  1.19792061 4.47502154 5.94340926]\n",
            "2023-10-03 17:32:02,067 - pyswarms.single.global_best - INFO - Optimize for 1 iters with {'c1': 0.5, 'c2': 0.3, 'w': 0.9}\n",
            "pyswarms.single.global_best: 100%|██████████|1/1, best_cost=3.14e+8\n",
            "2023-10-03 17:32:02,080 - pyswarms.single.global_best - INFO - Optimization finished | best cost: 314309220.5012563, best pos: [3.17677271 3.2062812  3.21860997 3.40932415 3.75993177 1.44957794\n",
            " 0.3420918  2.11444421 4.49488538 3.03525657 1.52422346 2.79686838\n",
            " 3.99944413 4.16270459 4.26756833 2.41916688 3.881157   2.01266346\n",
            " 2.34336356 5.17578288 4.59304825 1.19785461 4.47502204 5.94348953]\n",
            "2023-10-03 17:32:02,084 - pyswarms.single.global_best - INFO - Optimize for 1 iters with {'c1': 0.5, 'c2': 0.3, 'w': 0.9}\n"
          ]
        },
        {
          "output_type": "stream",
          "name": "stdout",
          "text": [
            "\n",
            "=========================================================================\n",
            "\n",
            "Número de ciclos de manutenção: 13 5\n",
            "Tempos para manutenções preventivas: [0, 5, 36, 94, 142, 164, 191, 235, 320, 378, 567, 575, 636, 718]\n",
            "Severidade para cada subsistema: [0.5, 0.5, 0.5, 0.5, 0.25, 0.25, 0.25, 0.25, 0.5, 0.25, 0.75, 0.25, 0.75]\n",
            "Número de Sisemas: 5\n",
            "Fator:  [0.06013123601935755, 0.14361699368653869, 0.14361699368653869, 0.14361699368653869, 0.14361699368653869, 0.07459035756403465, 0.07459035756403465, 0.07459035756403465, 0.07459035756403465, 0.14361699368653869, 0.07459035756403465, 0.20749490833922268, 0.07459035756403465, 0.20749490833922268]\n",
            "Media de falhas:  [0, 1.506344089548196e-14, 5.015903078194724e-06, 0.04494242138323296, 1.8201558891774159, 6.222134378395861, 27.053711915318917, 381.39512724511735, 9261.585816423185, 46310.13620414671, 2945070.509053163, 3129354.7136694477, 8199090.401634382, 13487239.80210236, -6943341.8837551065]\n",
            "Custo =  1439465997.486987\n"
          ]
        },
        {
          "output_type": "stream",
          "name": "stderr",
          "text": [
            "pyswarms.single.global_best:   0%|          |0/1, best_cost=3.14e+8"
          ]
        },
        {
          "output_type": "stream",
          "name": "stdout",
          "text": [
            "\n",
            "=========================================================================\n",
            "\n",
            "Número de ciclos de manutenção: 13 5\n",
            "Tempos para manutenções preventivas: [0, 4, 36, 106, 142, 164, 237, 277, 319, 386, 523, 575, 636, 718]\n",
            "Severidade para cada subsistema: [0.5, 0.5, 0.25, 0.5, 0.25, 0.25, 0.25, 0.25, 0.5, 0.5, 0.75, 0.25, 0.75]\n",
            "Número de Sisemas: 5\n",
            "Fator:  [0.06013123601935755, 0.14361699368653869, 0.14361699368653869, 0.07459035756403465, 0.14361699368653869, 0.07459035756403465, 0.07459035756403465, 0.07459035756403465, 0.07459035756403465, 0.14361699368653869, 0.14361699368653869, 0.20749490833922268, 0.07459035756403465, 0.20749490833922268]\n",
            "Media de falhas:  [0, 1.6235568878994416e-15, 5.100887591306023e-06, 0.15922050830100257, 1.6694679420213347, 9.93618812006316, 289.6844794418708, 1901.1022458054192, 8172.591214200473, 56686.25718770085, 1248357.5171480682, 2174116.04474597, 4816028.028457228, 10104177.428925205, -10326404.256932262]\n",
            "Custo =  1233439895.3886523\n"
          ]
        },
        {
          "output_type": "stream",
          "name": "stderr",
          "text": [
            "\rpyswarms.single.global_best: 100%|██████████|1/1, best_cost=3.14e+8\n",
            "2023-10-03 17:32:02,099 - pyswarms.single.global_best - INFO - Optimization finished | best cost: 314309220.5012563, best pos: [3.17676432 3.20625287 3.21860991 0.51638942 3.76041637 1.44990797\n",
            " 0.34208594 2.11424264 4.49630989 3.62726215 1.52421024 2.79670092\n",
            " 4.1702045  4.1630083  4.26758983 2.41906954 3.67202905 4.0433225\n",
            " 0.09747257 5.17578049 4.59290904 1.19780639 4.47502122 5.94351998]\n",
            "2023-10-03 17:32:02,100 - pyswarms.single.global_best - INFO - Optimize for 1 iters with {'c1': 0.5, 'c2': 0.3, 'w': 0.9}\n",
            "pyswarms.single.global_best: 100%|██████████|1/1, best_cost=3.14e+8\n",
            "2023-10-03 17:32:02,114 - pyswarms.single.global_best - INFO - Optimization finished | best cost: 314309220.5012563, best pos: [3.17675564 3.20631936 3.21860865 4.52560473 3.76100242 1.45006036\n",
            " 0.34207907 2.11417846 4.49743402 4.37449169 1.52421268 2.7965543\n",
            " 4.24812274 4.16319223 4.26759582 2.4189994  3.75244392 5.87921484\n",
            " 5.17228831 5.17577818 4.59282753 1.19779166 4.47502032 5.94347151]\n",
            "2023-10-03 17:32:02,115 - pyswarms.single.global_best - INFO - Optimize for 1 iters with {'c1': 0.5, 'c2': 0.3, 'w': 0.9}\n"
          ]
        },
        {
          "output_type": "stream",
          "name": "stdout",
          "text": [
            "\n",
            "=========================================================================\n",
            "\n",
            "Número de ciclos de manutenção: 9 5\n",
            "Tempos para manutenções preventivas: [0, 4, 36, 142, 164, 277, 318, 575, 636, 718]\n",
            "Severidade para cada subsistema: [0.5, 0.5, 0.5, 0.25, 0.5, 0.25, 0.75, 0.25, 0.75]\n",
            "Número de Sisemas: 5\n",
            "Fator:  [0.06013123601935755, 0.14361699368653869, 0.14361699368653869, 0.14361699368653869, 0.07459035756403465, 0.14361699368653869, 0.07459035756403465, 0.20749490833922268, 0.07459035756403465, 0.20749490833922268]\n",
            "Media de falhas:  [0, 1.6235568878994416e-15, 5.100887591306023e-06, 3.3547348545496485, 7.7567133437680935, 1581.667569356742, 7588.167938456012, 2465575.3412987157, 7535311.029263651, 12823460.42973163, -7607121.256125838]\n",
            "Custo =  1321862995.1430058\n"
          ]
        },
        {
          "output_type": "stream",
          "name": "stderr",
          "text": [
            "pyswarms.single.global_best:   0%|          |0/1, best_cost=3.14e+8"
          ]
        },
        {
          "output_type": "stream",
          "name": "stdout",
          "text": [
            "\n",
            "=========================================================================\n",
            "\n",
            "Número de ciclos de manutenção: 10 5\n",
            "Tempos para manutenções preventivas: [0, 4, 36, 142, 164, 270, 318, 532, 575, 635, 718]\n",
            "Severidade para cada subsistema: [0.5, 0.5, 0.5, 0.25, 0.75, 0.25, 0.75, 0.75, 0.25, 0.75]\n",
            "Número de Sisemas: 5\n",
            "Fator:  [0.06013123601935755, 0.14361699368653869, 0.14361699368653869, 0.14361699368653869, 0.07459035756403465, 0.20749490833922268, 0.07459035756403465, 0.20749490833922268, 0.20749490833922268, 0.07459035756403465, 0.20749490833922268]\n",
            "Media de falhas:  [0, 1.6235568878994416e-15, 5.100887591306023e-06, 3.3547348545496485, 7.7567133437680935, 1196.7036458215491, 7739.120629217758, 696232.3118246534, 2256316.4216438653, 3601209.2178011495, 8936952.096809663, -11493629.589047804]\n",
            "Custo =  1197951794.944522\n"
          ]
        },
        {
          "output_type": "stream",
          "name": "stderr",
          "text": [
            "\rpyswarms.single.global_best: 100%|██████████|1/1, best_cost=3.14e+8\n",
            "2023-10-03 17:32:02,132 - pyswarms.single.global_best - INFO - Optimization finished | best cost: 314309220.5012563, best pos: [3.17674714 3.20649859 3.21860708 1.15761035 3.76154891 1.45003125\n",
            " 0.34207274 2.11414372 4.49768562 5.1789128  1.52424646 2.7964283\n",
            " 4.1635886  4.16335346 4.26759056 2.41897681 3.822207   0.44789807\n",
            " 2.81323582 5.17577615 4.59284605 1.1977799  4.47501947 5.94334792]\n",
            "2023-10-03 17:32:02,134 - pyswarms.single.global_best - INFO - Optimize for 1 iters with {'c1': 0.5, 'c2': 0.3, 'w': 0.9}\n",
            "pyswarms.single.global_best: 100%|██████████|1/1, best_cost=3.14e+8\n",
            "2023-10-03 17:32:02,145 - pyswarms.single.global_best - INFO - Optimization finished | best cost: 314309220.5012563, best pos: [3.17673969 3.20666742 3.21860501 5.01366371 3.76199062 1.44979078\n",
            " 0.34206811 2.11416139 4.49780538 6.54130207 1.52428915 2.79640317\n",
            " 4.04885241 4.16343239 4.26758095 2.41903698 3.80184581 2.6728616\n",
            " 0.6392516  5.17577451 4.59289935 1.19781836 4.47501834 5.94319134]\n",
            "2023-10-03 17:32:02,150 - pyswarms.single.global_best - INFO - Optimize for 1 iters with {'c1': 0.5, 'c2': 0.3, 'w': 0.9}\n"
          ]
        },
        {
          "output_type": "stream",
          "name": "stdout",
          "text": [
            "\n",
            "=========================================================================\n",
            "\n",
            "Número de ciclos de manutenção: 10 5\n",
            "Tempos para manutenções preventivas: [0, 4, 36, 118, 142, 164, 316, 491, 575, 635, 718]\n",
            "Severidade para cada subsistema: [0.5, 0.5, 0.25, 0.5, 0.25, 0.25, 0.25, 0.75, 0.25, 0.75]\n",
            "Número de Sisemas: 5\n",
            "Fator:  [0.06013123601935755, 0.14361699368653869, 0.14361699368653869, 0.07459035756403465, 0.14361699368653869, 0.07459035756403465, 0.07459035756403465, 0.07459035756403465, 0.20749490833922268, 0.07459035756403465, 0.20749490833922268]\n",
            "Media de falhas:  [0, 1.6235568878994416e-15, 5.100887591306023e-06, 0.4892296455733239, 1.6924912869071578, 9.959211464948984, 6593.1881176485, 711163.8153756389, 3090039.4568519834, 8031764.387791003, 13367507.266799517, -7063074.41905795]\n",
            "Custo =  1408715539.7808442\n"
          ]
        },
        {
          "output_type": "stream",
          "name": "stderr",
          "text": [
            "pyswarms.single.global_best:   0%|          |0/1, best_cost=3.14e+8"
          ]
        },
        {
          "output_type": "stream",
          "name": "stdout",
          "text": [
            "\n",
            "=========================================================================\n",
            "\n",
            "Número de ciclos de manutenção: 9 5\n",
            "Tempos para manutenções preventivas: [0, 4, 36, 63, 142, 163, 315, 575, 635, 718]\n",
            "Severidade para cada subsistema: [0.5, 0.5, 0.5, 0.5, 0.25, 0.25, 0.75, 0.25, 0.75]\n",
            "Número de Sisemas: 5\n",
            "Fator:  [0.06013123601935755, 0.14361699368653869, 0.14361699368653869, 0.14361699368653869, 0.14361699368653869, 0.07459035756403465, 0.07459035756403465, 0.20749490833922268, 0.07459035756403465, 0.20749490833922268]\n",
            "Media de falhas:  [0, 1.6235568878994416e-15, 5.100887591306023e-06, 0.0006229684851790563, 2.518082197224078, 6.553810203022987, 6399.974352565525, 3707442.6715876665, 8649167.602526687, 13984910.4815352, -6445671.204322267]\n",
            "Custo =  1336264472.052422\n"
          ]
        },
        {
          "output_type": "stream",
          "name": "stderr",
          "text": [
            "\rpyswarms.single.global_best: 100%|██████████|1/1, best_cost=3.14e+8\n",
            "2023-10-03 17:32:02,163 - pyswarms.single.global_best - INFO - Optimization finished | best cost: 314309220.5012563, best pos: [3.17673514 3.20684939 3.21860261 1.65616305 3.76228376 1.44927391\n",
            " 0.3420645  2.11431218 4.49733093 6.97251094 1.52432775 2.79641354\n",
            " 3.8835684  4.16342843 4.26756483 2.41915382 3.37841519 4.83033938\n",
            " 5.90739748 5.17577428 4.5929824  1.19787574 4.47501691 5.94304724]\n",
            "2023-10-03 17:32:02,165 - pyswarms.single.global_best - INFO - Optimize for 1 iters with {'c1': 0.5, 'c2': 0.3, 'w': 0.9}\n",
            "pyswarms.single.global_best:   0%|          |0/1, best_cost=3.14e+8"
          ]
        },
        {
          "output_type": "stream",
          "name": "stdout",
          "text": [
            "\n",
            "=========================================================================\n",
            "\n",
            "Número de ciclos de manutenção: 12 5\n",
            "Tempos para manutenções preventivas: [0, 4, 36, 67, 114, 142, 163, 185, 314, 388, 575, 635, 718]\n",
            "Severidade para cada subsistema: [0.5, 0.5, 0.5, 0.5, 0.5, 0.25, 0.25, 0.25, 0.5, 0.75, 0.25, 0.75]\n",
            "Número de Sisemas: 5\n",
            "Fator:  [0.06013123601935755, 0.14361699368653869, 0.14361699368653869, 0.14361699368653869, 0.14361699368653869, 0.14361699368653869, 0.07459035756403465, 0.07459035756403465, 0.07459035756403465, 0.14361699368653869, 0.20749490833922268, 0.07459035756403465, 0.20749490833922268]\n",
            "Media de falhas:  [0, 1.6235568878994416e-15, 5.100887591306023e-06, 0.0012108625140151979, 0.22550285149801957, 1.5401299920040419, 5.5758579978029505, 19.13233229711189, 8541.971159890722, 61866.55184311892, 3368556.733852266, 5941794.214917362, 11277537.093925875, -9153044.591931593]\n",
            "Custo =  1195138834.8749065\n"
          ]
        },
        {
          "output_type": "stream",
          "name": "stderr",
          "text": [
            "\rpyswarms.single.global_best: 100%|██████████|1/1, best_cost=3.14e+8\n",
            "2023-10-03 17:32:02,181 - pyswarms.single.global_best - INFO - Optimization finished | best cost: 314309220.5012563, best pos: [3.17673254 3.20701309 3.21860023 5.50007551 3.76246482 1.44870296\n",
            " 0.34206161 2.11448699 4.49602672 6.70936312 1.52436234 2.79647179\n",
            " 3.68797499 4.16315049 4.26754873 2.41927206 3.17551173 6.7287916\n",
            " 3.26341363 5.17577567 4.59306464 1.19792825 4.47501563 5.94294355]\n",
            "2023-10-03 17:32:02,182 - pyswarms.single.global_best - INFO - Optimize for 1 iters with {'c1': 0.5, 'c2': 0.3, 'w': 0.9}\n",
            "pyswarms.single.global_best: 100%|██████████|1/1, best_cost=3.14e+8\n",
            "2023-10-03 17:32:02,193 - pyswarms.single.global_best - INFO - Optimization finished | best cost: 314309220.5012563, best pos: [3.17673042 3.20713834 3.21859847 2.15576004 3.76242226 1.44806596\n",
            " 0.34206301 2.11468085 4.49473313 0.05773435 1.52438801 2.79653455\n",
            " 3.51618568 4.1628319  4.26753298 2.41937665 3.25722693 1.07540321\n",
            " 0.61443845 5.17577702 4.59317439 1.19798036 4.47501461 5.94289467]\n",
            "2023-10-03 17:32:02,195 - pyswarms.single.global_best - INFO - Optimize for 1 iters with {'c1': 0.5, 'c2': 0.3, 'w': 0.9}\n"
          ]
        },
        {
          "output_type": "stream",
          "name": "stdout",
          "text": [
            "\n",
            "=========================================================================\n",
            "\n",
            "Número de ciclos de manutenção: 15 5\n",
            "Tempos para manutenções preventivas: [0, 5, 36, 71, 98, 142, 163, 181, 298, 313, 382, 483, 530, 575, 635, 718]\n",
            "Severidade para cada subsistema: [0.5, 0.5, 0.5, 0.25, 0.5, 0.25, 0.75, 0.75, 0.25, 0.5, 0.75, 0.75, 0.75, 0.25, 0.75]\n",
            "Número de Sisemas: 5\n",
            "Fator:  [0.06013123601935755, 0.14361699368653869, 0.14361699368653869, 0.14361699368653869, 0.07459035756403465, 0.14361699368653869, 0.07459035756403465, 0.20749490833922268, 0.20749490833922268, 0.07459035756403465, 0.14361699368653869, 0.20749490833922268, 0.20749490833922268, 0.20749490833922268, 0.07459035756403465, 0.20749490833922268]\n",
            "Media de falhas:  [0, 1.506344089548196e-14, 5.015903078194724e-06, 0.0022605069141999226, 0.04125425255363603, 1.7294011325663239, 9.332030512393741, 18.98084224773769, 4997.168972832224, 5659.412212713234, 19143.023860588757, 512947.10579796985, 917537.4674244628, 1348492.3227105, 2693385.1188677843, 8029127.997876298, -12401453.68798117]\n",
            "Custo =  1132797947.9427285\n"
          ]
        },
        {
          "output_type": "stream",
          "name": "stderr",
          "text": [
            "pyswarms.single.global_best:   0%|          |0/1, best_cost=3.14e+8"
          ]
        },
        {
          "output_type": "stream",
          "name": "stdout",
          "text": [
            "\n",
            "=========================================================================\n",
            "\n",
            "Número de ciclos de manutenção: 15 5\n",
            "Tempos para manutenções preventivas: [0, 5, 36, 74, 142, 163, 203, 276, 312, 376, 492, 510, 557, 575, 635, 718]\n",
            "Severidade para cada subsistema: [0.5, 0.5, 0.5, 0.5, 0.25, 0.25, 0.75, 0.25, 0.5, 0.75, 0.75, 0.75, 0.75, 0.25, 0.75]\n",
            "Número de Sisemas: 5\n",
            "Fator:  [0.06013123601935755, 0.14361699368653869, 0.14361699368653869, 0.14361699368653869, 0.14361699368653869, 0.07459035756403465, 0.07459035756403465, 0.20749490833922268, 0.07459035756403465, 0.14361699368653869, 0.20749490833922268, 0.20749490833922268, 0.20749490833922268, 0.20749490833922268, 0.07459035756403465, 0.20749490833922268]\n",
            "Media de falhas:  [0, 1.506344089548196e-14, 5.015903078194724e-06, 0.003524936394238274, 2.236532812024285, 6.272260817823193, 52.83895021389946, 2077.911646866339, 6731.837648886303, 17774.45837514208, 640529.3632344628, 771303.9350037015, 1104238.1932569554, 1301156.4146912443, 2646049.2108485284, 7981792.089857042, -12448789.596000426]\n",
            "Custo =  1163322679.977668\n"
          ]
        },
        {
          "output_type": "stream",
          "name": "stderr",
          "text": [
            "\rpyswarms.single.global_best: 100%|██████████|1/1, best_cost=3.14e+8\n",
            "2023-10-03 17:32:02,212 - pyswarms.single.global_best - INFO - Optimization finished | best cost: 314309220.5012563, best pos: [3.17673168 3.20724109 3.21859754 6.29060701 3.76237612 1.4475302\n",
            " 0.34206461 2.11485185 4.49351399 1.09858148 1.52440874 2.79659143\n",
            " 3.36393645 4.16249189 4.26752052 2.41946963 3.64692021 2.5799173\n",
            " 5.72117789 5.17577853 4.59329184 1.19801956 4.47501379 5.94293066]\n",
            "2023-10-03 17:32:02,214 - pyswarms.single.global_best - INFO - Optimize for 1 iters with {'c1': 0.5, 'c2': 0.3, 'w': 0.9}\n",
            "pyswarms.single.global_best: 100%|██████████|1/1, best_cost=3.14e+8\n",
            "2023-10-03 17:32:02,230 - pyswarms.single.global_best - INFO - Optimization finished | best cost: 314309220.5012563, best pos: [3.17673411 3.20733071 3.21859754 3.04932299 3.76195182 1.4471217\n",
            " 0.34206884 2.11499106 4.49253517 2.6173923  1.52440119 2.796703\n",
            " 3.32876325 4.16219064 4.26751213 2.41950355 3.63219785 4.16334022\n",
            " 3.42115945 5.1757801  4.59339588 1.19804312 4.47501394 5.94301778]\n",
            "2023-10-03 17:32:02,234 - pyswarms.single.global_best - INFO - Optimize for 1 iters with {'c1': 0.5, 'c2': 0.3, 'w': 0.9}\n"
          ]
        },
        {
          "output_type": "stream",
          "name": "stdout",
          "text": [
            "\n",
            "=========================================================================\n",
            "\n",
            "Número de ciclos de manutenção: 15 5\n",
            "Tempos para manutenções preventivas: [0, 5, 36, 75, 103, 142, 162, 201, 294, 313, 371, 504, 569, 575, 635, 718]\n",
            "Severidade para cada subsistema: [0.5, 0.5, 0.5, 0.5, 0.5, 0.25, 0.75, 0.5, 0.25, 0.5, 0.75, 0.5, 0.75, 0.25, 0.75]\n",
            "Número de Sisemas: 5\n",
            "Fator:  [0.06013123601935755, 0.14361699368653869, 0.14361699368653869, 0.14361699368653869, 0.14361699368653869, 0.14361699368653869, 0.07459035756403465, 0.20749490833922268, 0.14361699368653869, 0.07459035756403465, 0.14361699368653869, 0.20749490833922268, 0.14361699368653869, 0.20749490833922268, 0.07459035756403465, 0.20749490833922268]\n",
            "Media de falhas:  [0, 1.506344089548196e-14, 5.015903078194724e-06, 0.004070279710167354, 0.06768142044781664, 1.645783703284157, 5.337619788621234, 47.15657470768129, 4093.926715992436, 4902.876417279112, 21652.72224972576, 847434.3887783276, 1828416.429803271, 1898498.375878847, 4471735.856943943, 9807478.735952456, -10623102.949905012]\n",
            "Custo =  1254689303.8055096\n"
          ]
        },
        {
          "output_type": "stream",
          "name": "stderr",
          "text": [
            "pyswarms.single.global_best:   0%|          |0/1, best_cost=3.14e+8"
          ]
        },
        {
          "output_type": "stream",
          "name": "stdout",
          "text": [
            "\n",
            "=========================================================================\n",
            "\n",
            "Número de ciclos de manutenção: 11 5\n",
            "Tempos para manutenções preventivas: [0, 5, 36, 75, 142, 162, 314, 367, 534, 575, 636, 718]\n",
            "Severidade para cada subsistema: [0.5, 0.5, 0.5, 0.5, 0.25, 0.25, 0.5, 0.5, 0.75, 0.25, 0.75]\n",
            "Número de Sisemas: 5\n",
            "Fator:  [0.06013123601935755, 0.14361699368653869, 0.14361699368653869, 0.14361699368653869, 0.14361699368653869, 0.07459035756403465, 0.07459035756403465, 0.14361699368653869, 0.14361699368653869, 0.20749490833922268, 0.07459035756403465, 0.20749490833922268]\n",
            "Media de falhas:  [0, 1.506344089548196e-14, 5.015903078194724e-06, 0.004070279710167354, 2.2125893970681445, 5.904425482405221, 6214.45163291999, 32945.42080026176, 1592462.3096864093, 2367745.649551998, 5009657.633263256, 10297807.033731233, -10132774.652126234]\n",
            "Custo =  1238935184.503137\n"
          ]
        },
        {
          "output_type": "stream",
          "name": "stderr",
          "text": [
            "\rpyswarms.single.global_best: 100%|██████████|1/1, best_cost=3.14e+8\n",
            "2023-10-03 17:32:02,255 - pyswarms.single.global_best - INFO - Optimization finished | best cost: 314309220.5012563, best pos: [3.17673831 3.20734924 3.21859836 6.48845689 3.76143432 1.44698292\n",
            " 0.34207409 2.11508195 4.49188212 4.03115377 1.52437747 2.79684282\n",
            " 3.37288847 4.16201136 4.26751232 2.41953291 4.00582094 5.70434315\n",
            " 1.24718849 5.17578147 4.59346613 1.19804512 4.47501457 5.94311635]\n",
            "2023-10-03 17:32:02,256 - pyswarms.single.global_best - INFO - Optimize for 1 iters with {'c1': 0.5, 'c2': 0.3, 'w': 0.9}\n",
            "pyswarms.single.global_best: 100%|██████████|1/1, best_cost=3.14e+8\n",
            "2023-10-03 17:32:02,269 - pyswarms.single.global_best - INFO - Optimization finished | best cost: 314309220.5012563, best pos: [3.17674254 3.20733426 3.21859979 2.58314035 3.76090854 1.44721017\n",
            " 0.34207902 2.11512127 4.49163867 5.37122916 1.52434451 2.79696721\n",
            " 3.50931987 4.16196709 4.26751267 2.41949103 4.5623651  6.94995773\n",
            " 6.58199957 5.17578221 4.59348122 1.19803869 4.47501572 5.94321039]\n",
            "2023-10-03 17:32:02,270 - pyswarms.single.global_best - INFO - Optimize for 1 iters with {'c1': 0.5, 'c2': 0.3, 'w': 0.9}\n"
          ]
        },
        {
          "output_type": "stream",
          "name": "stdout",
          "text": [
            "\n",
            "=========================================================================\n",
            "\n",
            "Número de ciclos de manutenção: 13 5\n",
            "Tempos para manutenções preventivas: [0, 6, 36, 74, 108, 142, 163, 207, 315, 365, 524, 575, 636, 718]\n",
            "Severidade para cada subsistema: [0.5, 0.5, 0.5, 0.75, 0.5, 0.25, 0.75, 0.25, 0.5, 0.5, 0.75, 0.25, 0.75]\n",
            "Número de Sisemas: 5\n",
            "Fator:  [0.06013123601935755, 0.14361699368653869, 0.14361699368653869, 0.14361699368653869, 0.20749490833922268, 0.14361699368653869, 0.07459035756403465, 0.20749490833922268, 0.07459035756403465, 0.14361699368653869, 0.14361699368653869, 0.20749490833922268, 0.07459035756403465, 0.20749490833922268]\n",
            "Media de falhas:  [0, 9.298092224724765e-14, 4.932194801287136e-06, 0.0035248526859613665, 0.11436748118038922, 1.5781051557558565, 3.7317601363092745, 62.75952601431889, 8339.944850019623, 15378.860237043926, 1293629.9895595084, 2206467.358480907, 4848379.342192166, 10136528.742660142, -10294052.943197325]\n",
            "Custo =  1228390895.2057962\n"
          ]
        },
        {
          "output_type": "stream",
          "name": "stderr",
          "text": [
            "pyswarms.single.global_best:   0%|          |0/1, best_cost=3.14e+8"
          ]
        },
        {
          "output_type": "stream",
          "name": "stdout",
          "text": [
            "\n",
            "=========================================================================\n",
            "\n",
            "Número de ciclos de manutenção: 13 5\n",
            "Tempos para manutenções preventivas: [0, 5, 36, 72, 90, 142, 163, 189, 316, 364, 522, 575, 636, 718]\n",
            "Severidade para cada subsistema: [0.5, 0.5, 0.5, 0.5, 0.5, 0.25, 0.25, 0.25, 0.5, 0.5, 0.75, 0.25, 0.75]\n",
            "Número de Sisemas: 5\n",
            "Fator:  [0.06013123601935755, 0.14361699368653869, 0.14361699368653869, 0.14361699368653869, 0.14361699368653869, 0.14361699368653869, 0.07459035756403465, 0.07459035756403465, 0.07459035756403465, 0.14361699368653869, 0.14361699368653869, 0.20749490833922268, 0.07459035756403465, 0.20749490833922268]\n",
            "Media de falhas:  [0, 1.506344089548196e-14, 5.015903078194724e-06, 0.002627045235445424, 0.016596005182654996, 1.879334548487519, 5.915062554286427, 24.351930374666672, 9036.283525826373, 32472.513809755506, 1261811.4492655855, 2200349.1932011, 4842261.176912358, 10130410.577380337, -10300171.10847713]\n",
            "Custo =  1227958821.5253844\n"
          ]
        },
        {
          "output_type": "stream",
          "name": "stderr",
          "text": [
            "\rpyswarms.single.global_best: 100%|██████████|1/1, best_cost=3.14e+8\n",
            "2023-10-03 17:32:02,285 - pyswarms.single.global_best - INFO - Optimization finished | best cost: 314309220.5012563, best pos: [3.17674827 3.20718406 3.21860118 5.6635599  3.76047923 1.44759469\n",
            " 0.34208334 2.11502683 4.49155571 6.99660784 1.52430941 2.79704221\n",
            " 3.64956585 4.16197523 4.26752242 2.41944789 4.58214429 0.93522436\n",
            " 4.99954107 5.17578244 4.59347726 1.19803158 4.47501688 5.94328508]\n",
            "2023-10-03 17:32:02,287 - pyswarms.single.global_best - INFO - Optimize for 1 iters with {'c1': 0.5, 'c2': 0.3, 'w': 0.9}\n",
            "pyswarms.single.global_best:   0%|          |0/1, best_cost=3.14e+8"
          ]
        },
        {
          "output_type": "stream",
          "name": "stdout",
          "text": [
            "\n",
            "=========================================================================\n",
            "\n",
            "Número de ciclos de manutenção: 12 5\n",
            "Tempos para manutenções preventivas: [0, 5, 36, 69, 142, 163, 317, 364, 523, 542, 575, 636, 718]\n",
            "Severidade para cada subsistema: [0.5, 0.5, 0.5, 0.5, 0.25, 0.25, 0.5, 0.5, 0.75, 0.75, 0.25, 0.75]\n",
            "Número de Sisemas: 5\n",
            "Fator:  [0.06013123601935755, 0.14361699368653869, 0.14361699368653869, 0.14361699368653869, 0.14361699368653869, 0.07459035756403465, 0.07459035756403465, 0.14361699368653869, 0.14361699368653869, 0.20749490833922268, 0.20749490833922268, 0.07459035756403465, 0.20749490833922268]\n",
            "Media de falhas:  [0, 1.506344089548196e-14, 5.015903078194724e-06, 0.0016623008955589302, 2.3604176098200282, 6.396145615618937, 6851.618564292844, 30011.27710605186, 1284927.031412577, 1523587.581389916, 2176720.834931056, 3558650.103383304, 8846799.503851281, -11583782.182006186]\n",
            "Custo =  1204273239.2230082\n"
          ]
        },
        {
          "output_type": "stream",
          "name": "stderr",
          "text": [
            "\rpyswarms.single.global_best: 100%|██████████|1/1, best_cost=3.14e+8\n",
            "2023-10-03 17:32:02,301 - pyswarms.single.global_best - INFO - Optimization finished | best cost: 314309220.5012563, best pos: [3.1767536  3.20704307 3.21860256 1.50414636 3.76021038 1.44795295\n",
            " 0.34208678 2.11492012 4.4916526  0.93595162 1.52427838 2.79708304\n",
            " 3.77722451 4.16209459 4.26753125 2.41936131 4.00060434 2.03616639\n",
            " 2.7829436  5.17578192 4.59342983 1.19801685 4.47501793 5.94334865]\n",
            "2023-10-03 17:32:02,303 - pyswarms.single.global_best - INFO - Optimize for 1 iters with {'c1': 0.5, 'c2': 0.3, 'w': 0.9}\n",
            "pyswarms.single.global_best: 100%|██████████|1/1, best_cost=3.14e+8\n",
            "2023-10-03 17:32:02,313 - pyswarms.single.global_best - INFO - Optimization finished | best cost: 314309220.5012563, best pos: [3.17675758 3.20686636 3.21860372 4.84358689 3.76017998 1.44831153\n",
            " 0.34208762 2.11476714 4.49186074 2.42393939 1.52426239 2.79705176\n",
            " 3.87312397 4.16220618 4.26754064 2.41926146 3.4440495  3.5073166\n",
            " 0.68502446 5.17578143 4.59337056 1.19799683 4.47501867 5.94337552]\n",
            "2023-10-03 17:32:02,314 - pyswarms.single.global_best - INFO - Optimize for 1 iters with {'c1': 0.5, 'c2': 0.3, 'w': 0.9}\n"
          ]
        },
        {
          "output_type": "stream",
          "name": "stdout",
          "text": [
            "\n",
            "=========================================================================\n",
            "\n",
            "Número de ciclos de manutenção: 13 5\n",
            "Tempos para manutenções preventivas: [0, 5, 36, 66, 142, 163, 282, 317, 369, 524, 540, 575, 636, 718]\n",
            "Severidade para cada subsistema: [0.5, 0.5, 0.5, 0.5, 0.25, 0.5, 0.25, 0.5, 0.5, 0.5, 0.75, 0.25, 0.75]\n",
            "Número de Sisemas: 5\n",
            "Fator:  [0.06013123601935755, 0.14361699368653869, 0.14361699368653869, 0.14361699368653869, 0.14361699368653869, 0.07459035756403465, 0.14361699368653869, 0.07459035756403465, 0.14361699368653869, 0.14361699368653869, 0.14361699368653869, 0.20749490833922268, 0.07459035756403465, 0.20749490833922268]\n",
            "Media de falhas:  [0, 1.506344089548196e-14, 5.015903078194724e-06, 0.001029471467596512, 2.4380274905059944, 6.4737554963049035, 1931.1811277293807, 7241.058566039747, 22133.249571248543, 1289383.5881663056, 1487540.149344414, 2172307.7477913457, 4814219.731502604, 10102369.13197058, -10328212.553886887]\n",
            "Custo =  1286082320.8707237\n"
          ]
        },
        {
          "output_type": "stream",
          "name": "stderr",
          "text": [
            "pyswarms.single.global_best:   0%|          |0/1, best_cost=3.14e+8"
          ]
        },
        {
          "output_type": "stream",
          "name": "stdout",
          "text": [
            "\n",
            "=========================================================================\n",
            "\n",
            "Número de ciclos de manutenção: 12 5\n",
            "Tempos para manutenções preventivas: [0, 5, 36, 63, 142, 163, 318, 374, 531, 545, 575, 636, 718]\n",
            "Severidade para cada subsistema: [0.5, 0.5, 0.5, 0.5, 0.25, 0.25, 0.5, 0.5, 0.25, 0.75, 0.25, 0.75]\n",
            "Número de Sisemas: 5\n",
            "Fator:  [0.06013123601935755, 0.14361699368653869, 0.14361699368653869, 0.14361699368653869, 0.14361699368653869, 0.07459035756403465, 0.07459035756403465, 0.14361699368653869, 0.14361699368653869, 0.07459035756403465, 0.20749490833922268, 0.07459035756403465, 0.20749490833922268]\n",
            "Media de falhas:  [0, 1.506344089548196e-14, 5.015903078194724e-06, 0.0006228835006659451, 2.518082112239565, 6.553810118038474, 7088.2710984877385, 39986.86574536613, 1486527.0632285015, 1677533.66634305, 2281763.5768194804, 7351499.264784415, 12639648.665252393, -7790933.020605074]\n",
            "Custo =  1457489616.4383903\n"
          ]
        },
        {
          "output_type": "stream",
          "name": "stderr",
          "text": [
            "\rpyswarms.single.global_best: 100%|██████████|1/1, best_cost=3.14e+8\n",
            "2023-10-03 17:32:02,328 - pyswarms.single.global_best - INFO - Optimization finished | best cost: 314309220.5012563, best pos: [3.17675885 3.20669807 3.21860455 1.13180948 3.76037051 1.44861927\n",
            " 0.34208643 2.11459389 4.492457   4.098803   1.52424887 2.79696244\n",
            " 3.93556673 4.16232913 4.26754947 2.41917055 2.96286663 5.06371935\n",
            " 5.85674415 5.17578057 4.59330055 1.19796734 4.47501909 5.94334003]\n",
            "2023-10-03 17:32:02,329 - pyswarms.single.global_best - INFO - Optimize for 1 iters with {'c1': 0.5, 'c2': 0.3, 'w': 0.9}\n",
            "pyswarms.single.global_best:   0%|          |0/1, best_cost=3.14e+8"
          ]
        },
        {
          "output_type": "stream",
          "name": "stdout",
          "text": [
            "\n",
            "=========================================================================\n",
            "\n",
            "Número de ciclos de manutenção: 13 5\n",
            "Tempos para manutenções preventivas: [0, 4, 36, 61, 142, 163, 271, 318, 380, 504, 538, 575, 636, 718]\n",
            "Severidade para cada subsistema: [0.5, 0.5, 0.5, 0.5, 0.25, 0.75, 0.25, 0.5, 0.25, 0.5, 0.75, 0.25, 0.75]\n",
            "Número de Sisemas: 5\n",
            "Fator:  [0.06013123601935755, 0.14361699368653869, 0.14361699368653869, 0.14361699368653869, 0.14361699368653869, 0.07459035756403465, 0.20749490833922268, 0.07459035756403465, 0.14361699368653869, 0.07459035756403465, 0.14361699368653869, 0.20749490833922268, 0.07459035756403465, 0.20749490833922268]\n",
            "Media de falhas:  [0, 1.6235568878994416e-15, 5.100887591306023e-06, 0.00043956605290518844, 2.5728164400678715, 6.60854444586678, 1252.2600613123525, 7723.4541552947885, 19636.648662847565, 824584.2130081705, 1187780.8233488281, 2583557.6506765224, 5225469.63438778, 10513619.034855757, -9916962.65100171]\n",
            "Custo =  1344719131.5574746\n"
          ]
        },
        {
          "output_type": "stream",
          "name": "stderr",
          "text": [
            "\rpyswarms.single.global_best: 100%|██████████|1/1, best_cost=3.14e+8\n",
            "2023-10-03 17:32:02,343 - pyswarms.single.global_best - INFO - Optimization finished | best cost: 314309220.5012563, best pos: [3.17675798 3.20658157 3.21860452 5.4479303  3.76067367 1.44882185\n",
            " 0.34208401 2.11443841 4.49316982 5.54752235 1.5242369  2.79684501\n",
            " 3.96928527 4.16245524 4.2675562  2.41910496 3.19814338 6.39820171\n",
            " 3.24159883 5.17577962 4.59323333 1.19794074 4.47501941 5.94326504]\n",
            "2023-10-03 17:32:02,344 - pyswarms.single.global_best - INFO - Optimize for 1 iters with {'c1': 0.5, 'c2': 0.3, 'w': 0.9}\n",
            "pyswarms.single.global_best: 100%|██████████|1/1, best_cost=3.14e+8\n",
            "2023-10-03 17:32:02,355 - pyswarms.single.global_best - INFO - Optimization finished | best cost: 314309220.5012563, best pos: [3.17675549 3.2064791  3.21860383 2.51239557 3.76103247 1.44883726\n",
            " 0.34208018 2.11435599 4.49404273 6.98850473 1.52423087 2.79673849\n",
            " 3.96210313 4.16257456 4.26756206 2.41905417 3.752666   0.57322025\n",
            " 0.79695733 5.17577876 4.59317885 1.19791699 4.47501926 5.94316824]\n",
            "2023-10-03 17:32:02,356 - pyswarms.single.global_best - INFO - Optimize for 1 iters with {'c1': 0.5, 'c2': 0.3, 'w': 0.9}\n"
          ]
        },
        {
          "output_type": "stream",
          "name": "stdout",
          "text": [
            "\n",
            "=========================================================================\n",
            "\n",
            "Número de ciclos de manutenção: 10 5\n",
            "Tempos para manutenções preventivas: [0, 4, 36, 142, 164, 317, 386, 489, 575, 636, 718]\n",
            "Severidade para cada subsistema: [0.5, 0.5, 0.5, 0.25, 0.25, 0.5, 0.5, 0.75, 0.25, 0.75]\n",
            "Número de Sisemas: 5\n",
            "Fator:  [0.06013123601935755, 0.14361699368653869, 0.14361699368653869, 0.14361699368653869, 0.07459035756403465, 0.07459035756403465, 0.14361699368653869, 0.14361699368653869, 0.20749490833922268, 0.07459035756403465, 0.20749490833922268]\n",
            "Media de falhas:  [0, 1.6235568878994416e-15, 5.100887591306023e-06, 3.3547348545496485, 7.7567133437680935, 6819.346392693556, 56002.94855994831, 616254.7651489294, 1910643.5972075216, 4552555.58091878, 9840704.981386758, -10589876.704470709]\n",
            "Custo =  1208754023.824574\n"
          ]
        },
        {
          "output_type": "stream",
          "name": "stderr",
          "text": [
            "pyswarms.single.global_best:   0%|          |0/1, best_cost=3.14e+8"
          ]
        },
        {
          "output_type": "stream",
          "name": "stdout",
          "text": [
            "\n",
            "=========================================================================\n",
            "\n",
            "Número de ciclos de manutenção: 8 5\n",
            "Tempos para manutenções preventivas: [0, 4, 36, 142, 164, 316, 575, 635, 718]\n",
            "Severidade para cada subsistema: [0.5, 0.5, 0.5, 0.25, 0.25, 0.75, 0.25, 0.75]\n",
            "Número de Sisemas: 5\n",
            "Fator:  [0.06013123601935755, 0.14361699368653869, 0.14361699368653869, 0.14361699368653869, 0.07459035756403465, 0.07459035756403465, 0.20749490833922268, 0.07459035756403465, 0.20749490833922268]\n",
            "Media de falhas:  [0, 1.6235568878994416e-15, 5.100887591306023e-06, 3.3547348545496485, 7.7567133437680935, 6590.98561952732, 3702425.917256275, 8644150.848195296, 13979893.727203809, -6450687.958653659]\n",
            "Custo =  1336408745.842457\n"
          ]
        },
        {
          "output_type": "stream",
          "name": "stderr",
          "text": [
            "\rpyswarms.single.global_best: 100%|██████████|1/1, best_cost=3.14e+8\n",
            "2023-10-03 17:32:02,372 - pyswarms.single.global_best - INFO - Optimization finished | best cost: 314309220.5012563, best pos: [3.17675178 3.20645555 3.21860295 6.89587423 3.76136758 1.44875756\n",
            " 0.34207633 2.11433704 4.49488963 1.61717799 1.52424702 2.79664881\n",
            " 3.9007288  4.16267897 4.26756555 2.41906369 4.90411305 2.57368932\n",
            " 5.89017942 5.17577811 4.59315968 1.19790546 4.4750188  5.94307977]\n",
            "2023-10-03 17:32:02,373 - pyswarms.single.global_best - INFO - Optimize for 1 iters with {'c1': 0.5, 'c2': 0.3, 'w': 0.9}\n",
            "pyswarms.single.global_best: 100%|██████████|1/1, best_cost=3.14e+8\n",
            "2023-10-03 17:32:02,384 - pyswarms.single.global_best - INFO - Optimization finished | best cost: 314309220.5012563, best pos: [3.17674842 3.2065461  3.218602   3.78779025 3.76163953 1.44856587\n",
            " 0.34207303 2.11441009 4.49549294 3.38343661 1.52426963 2.79662128\n",
            " 3.80442702 4.16272976 4.26756234 2.41912558 6.47383172 4.56220297\n",
            " 3.13221912 5.17577776 4.59317057 1.19790058 4.47501834 5.94302175]\n",
            "2023-10-03 17:32:02,385 - pyswarms.single.global_best - INFO - Optimize for 1 iters with {'c1': 0.5, 'c2': 0.3, 'w': 0.9}\n"
          ]
        },
        {
          "output_type": "stream",
          "name": "stdout",
          "text": [
            "\n",
            "=========================================================================\n",
            "\n",
            "Número de ciclos de manutenção: 12 5\n",
            "Tempos para manutenções preventivas: [0, 4, 36, 61, 97, 142, 163, 299, 315, 499, 575, 635, 718]\n",
            "Severidade para cada subsistema: [0.5, 0.5, 0.5, 0.25, 0.5, 0.25, 0.75, 0.25, 0.75, 0.75, 0.25, 0.75]\n",
            "Número de Sisemas: 5\n",
            "Fator:  [0.06013123601935755, 0.14361699368653869, 0.14361699368653869, 0.14361699368653869, 0.07459035756403465, 0.14361699368653869, 0.07459035756403465, 0.20749490833922268, 0.07459035756403465, 0.20749490833922268, 0.20749490833922268, 0.07459035756403465, 0.20749490833922268]\n",
            "Media de falhas:  [0, 1.6235568878994416e-15, 5.100887591306023e-06, 0.00043956605290518844, 0.04225938193407299, 1.7521900215449588, 9.354819401372376, 3647.223803801971, 6500.714688689634, 341376.6909048909, 2594310.1895551877, 3939202.985712472, 9274945.864720985, -11155635.821136482]\n",
            "Custo =  1166045216.6916282\n"
          ]
        },
        {
          "output_type": "stream",
          "name": "stderr",
          "text": [
            "pyswarms.single.global_best:   0%|          |0/1, best_cost=3.14e+8"
          ]
        },
        {
          "output_type": "stream",
          "name": "stdout",
          "text": [
            "\n",
            "=========================================================================\n",
            "\n",
            "Número de ciclos de manutenção: 10 5\n",
            "Tempos para manutenções preventivas: [0, 4, 36, 64, 142, 163, 203, 314, 575, 635, 718]\n",
            "Severidade para cada subsistema: [0.5, 0.5, 0.5, 0.5, 0.25, 0.25, 0.25, 0.75, 0.25, 0.75]\n",
            "Número de Sisemas: 5\n",
            "Fator:  [0.06013123601935755, 0.14361699368653869, 0.14361699368653869, 0.14361699368653869, 0.14361699368653869, 0.07459035756403465, 0.07459035756403465, 0.07459035756403465, 0.20749490833922268, 0.07459035756403465, 0.20749490833922268]\n",
            "Media de falhas:  [0, 1.6235568878994416e-15, 5.100887591306023e-06, 0.0007385234188081442, 2.4911251844623714, 6.52685319026128, 53.09354258633754, 8153.603955789011, 3714404.3833367596, 8656129.314275779, 13991872.193284292, -6438709.492573176]\n",
            "Custo =  1336254501.2070804\n"
          ]
        },
        {
          "output_type": "stream",
          "name": "stderr",
          "text": [
            "\rpyswarms.single.global_best: 100%|██████████|1/1, best_cost=3.14e+8\n",
            "2023-10-03 17:32:02,400 - pyswarms.single.global_best - INFO - Optimization finished | best cost: 314309220.5012563, best pos: [3.17674548 3.20667215 3.21860115 0.80377879 3.7618161  1.44833899\n",
            " 0.34207011 2.11452959 4.49571623 5.60973442 1.52430051 2.79665743\n",
            " 3.71735121 4.16272434 4.26755875 2.41918535 1.36686253 6.35437967\n",
            " 0.56337075 5.17577767 4.59320415 1.19791107 4.47501765 5.94300597]\n",
            "2023-10-03 17:32:02,401 - pyswarms.single.global_best - INFO - Optimize for 1 iters with {'c1': 0.5, 'c2': 0.3, 'w': 0.9}\n",
            "pyswarms.single.global_best: 100%|██████████|1/1, best_cost=3.14e+8\n",
            "2023-10-03 17:32:02,420 - pyswarms.single.global_best - INFO - Optimization finished | best cost: 314309220.5012563, best pos: [3.17674374 3.20682826 3.2186005  5.98715377 3.76182005 1.44812494\n",
            " 0.3420688  2.11465895 4.49589686 0.36270979 1.52432955 2.79673406\n",
            " 3.63725738 4.16268878 4.26755241 2.41924758 3.52670152 0.58162277\n",
            " 5.6338525  5.17577785 4.59324941 1.19792988 4.47501697 5.94300804]\n",
            "2023-10-03 17:32:02,422 - pyswarms.single.global_best - INFO - Optimize for 1 iters with {'c1': 0.5, 'c2': 0.3, 'w': 0.9}\n"
          ]
        },
        {
          "output_type": "stream",
          "name": "stdout",
          "text": [
            "\n",
            "=========================================================================\n",
            "\n",
            "Número de ciclos de manutenção: 12 5\n",
            "Tempos para manutenções preventivas: [0, 4, 36, 67, 103, 142, 163, 202, 313, 514, 575, 635, 718]\n",
            "Severidade para cada subsistema: [0.5, 0.5, 0.5, 0.5, 0.5, 0.25, 0.5, 0.25, 0.75, 0.75, 0.25, 0.75]\n",
            "Número de Sisemas: 5\n",
            "Fator:  [0.06013123601935755, 0.14361699368653869, 0.14361699368653869, 0.14361699368653869, 0.14361699368653869, 0.14361699368653869, 0.07459035756403465, 0.14361699368653869, 0.07459035756403465, 0.20749490833922268, 0.20749490833922268, 0.07459035756403465, 0.20749490833922268]\n",
            "Media de falhas:  [0, 1.6235568878994416e-15, 5.100887591306023e-06, 0.0012108625140151979, 0.07461521876631881, 1.652717501602659, 5.688445507401568, 49.50835680774282, 7904.466010572717, 741265.214921393, 2718194.946919009, 4063087.7430762933, 9398830.622084808, -11031751.06377266]\n",
            "Custo =  1183885337.139801\n"
          ]
        },
        {
          "output_type": "stream",
          "name": "stderr",
          "text": [
            "pyswarms.single.global_best:   0%|          |0/1, best_cost=3.14e+8"
          ]
        },
        {
          "output_type": "stream",
          "name": "stdout",
          "text": [
            "\n",
            "=========================================================================\n",
            "\n",
            "Número de ciclos de manutenção: 13 5\n",
            "Tempos para manutenções preventivas: [0, 5, 36, 70, 142, 163, 196, 283, 313, 515, 564, 575, 635, 718]\n",
            "Severidade para cada subsistema: [0.5, 0.5, 0.5, 0.5, 0.25, 0.75, 0.5, 0.25, 0.75, 0.25, 0.75, 0.25, 0.75]\n",
            "Número de Sisemas: 5\n",
            "Fator:  [0.06013123601935755, 0.14361699368653869, 0.14361699368653869, 0.14361699368653869, 0.14361699368653869, 0.07459035756403465, 0.20749490833922268, 0.14361699368653869, 0.07459035756403465, 0.20749490833922268, 0.07459035756403465, 0.20749490833922268, 0.07459035756403465, 0.20749490833922268]\n",
            "Media de falhas:  [0, 1.506344089548196e-14, 5.015903078194724e-06, 0.0019407174733387536, 2.33509143381102, 6.370819439609928, 36.34074374014237, 2775.4964636891114, 3940.5704118383856, 753119.538171594, 2182854.0641104635, 2307821.7282595127, 7249546.659198532, 12585289.538207047, -7845292.147650421]\n",
            "Custo =  1456434445.245749\n"
          ]
        },
        {
          "output_type": "stream",
          "name": "stderr",
          "text": [
            "\rpyswarms.single.global_best: 100%|██████████|1/1, best_cost=3.14e+8\n",
            "2023-10-03 17:32:02,442 - pyswarms.single.global_best - INFO - Optimization finished | best cost: 314309220.5012563, best pos: [3.17674342 3.20696911 3.21860007 3.70682469 3.76165396 1.4479668\n",
            " 0.34206766 2.11477114 4.49596053 2.63173016 1.52435459 2.79680607\n",
            " 3.58381656 4.16264581 4.26754588 2.41930611 5.37940618 1.93201162\n",
            " 3.84257373 5.17577807 4.59329932 1.19794907 4.47501636 5.94301557]\n",
            "2023-10-03 17:32:02,444 - pyswarms.single.global_best - INFO - Optimize for 1 iters with {'c1': 0.5, 'c2': 0.3, 'w': 0.9}\n",
            "pyswarms.single.global_best: 100%|██████████|1/1, best_cost=3.14e+8\n",
            "2023-10-03 17:32:02,454 - pyswarms.single.global_best - INFO - Optimization finished | best cost: 314309220.5012563, best pos: [3.17674387 3.20708369 3.2185998  1.3956701  3.76135634 1.44784898\n",
            " 0.34206794 2.11485363 4.49569197 4.64974729 1.52437202 2.79687776\n",
            " 3.54289488 4.162602   4.26753968 2.41935621 0.22276256 3.46495067\n",
            " 1.78544745 5.17577843 4.59334047 1.19796736 4.47501588 5.94302953]\n",
            "2023-10-03 17:32:02,456 - pyswarms.single.global_best - INFO - Optimize for 1 iters with {'c1': 0.5, 'c2': 0.3, 'w': 0.9}\n"
          ]
        },
        {
          "output_type": "stream",
          "name": "stdout",
          "text": [
            "\n",
            "=========================================================================\n",
            "\n",
            "Número de ciclos de manutenção: 12 5\n",
            "Tempos para manutenções preventivas: [0, 5, 36, 71, 142, 163, 313, 385, 481, 512, 575, 635, 718]\n",
            "Severidade para cada subsistema: [0.5, 0.5, 0.5, 0.5, 0.25, 0.25, 0.5, 0.75, 0.75, 0.75, 0.25, 0.75]\n",
            "Número de Sisemas: 5\n",
            "Fator:  [0.06013123601935755, 0.14361699368653869, 0.14361699368653869, 0.14361699368653869, 0.14361699368653869, 0.07459035756403465, 0.07459035756403465, 0.14361699368653869, 0.20749490833922268, 0.20749490833922268, 0.20749490833922268, 0.07459035756403465, 0.20749490833922268]\n",
            "Media de falhas:  [0, 1.506344089548196e-14, 5.015903078194724e-06, 0.0022605069141999226, 2.310038370542462, 6.345766376341371, 5974.960841398732, 54894.83944833217, 519460.36141109606, 733539.3026344767, 1291996.5008489448, 2636889.297006229, 7972632.176014743, -12457949.509842724]\n",
            "Custo =  1124683307.4072049\n"
          ]
        },
        {
          "output_type": "stream",
          "name": "stderr",
          "text": [
            "pyswarms.single.global_best:   0%|          |0/1, best_cost=3.14e+8"
          ]
        },
        {
          "output_type": "stream",
          "name": "stdout",
          "text": [
            "\n",
            "=========================================================================\n",
            "\n",
            "Número de ciclos de manutenção: 11 5\n",
            "Tempos para manutenções preventivas: [0, 5, 36, 72, 105, 142, 163, 313, 380, 575, 635, 718]\n",
            "Severidade para cada subsistema: [0.5, 0.5, 0.5, 0.25, 0.5, 0.25, 0.25, 0.5, 0.75, 0.25, 0.75]\n",
            "Número de Sisemas: 5\n",
            "Fator:  [0.06013123601935755, 0.14361699368653869, 0.14361699368653869, 0.14361699368653869, 0.07459035756403465, 0.14361699368653869, 0.07459035756403465, 0.07459035756403465, 0.14361699368653869, 0.20749490833922268, 0.07459035756403465, 0.20749490833922268]\n",
            "Media de falhas:  [0, 1.506344089548196e-14, 5.015903078194724e-06, 0.002627045235445424, 0.08621667252644499, 1.6193029022451746, 9.221932282072592, 5977.837007304463, 47773.35282346864, 3400870.211711401, 5974107.692776497, 11309850.57178501, -9120731.114072457]\n",
            "Custo =  1192694522.524671\n"
          ]
        },
        {
          "output_type": "stream",
          "name": "stderr",
          "text": [
            "\rpyswarms.single.global_best: 100%|██████████|1/1, best_cost=3.14e+8\n",
            "2023-10-03 17:32:02,472 - pyswarms.single.global_best - INFO - Optimization finished | best cost: 314309220.5012563, best pos: [3.17674479 3.20714066 3.21859962 6.24008498 3.76106183 1.44775309\n",
            " 0.34207022 2.11488119 4.49536972 5.89750246 1.52438254 2.7969384\n",
            " 3.54504826 4.16254129 4.26753425 2.41938374 2.57742586 4.90038652\n",
            " 0.01793574 5.17577901 4.59337311 1.19798299 4.47501556 5.94305006]\n",
            "2023-10-03 17:32:02,474 - pyswarms.single.global_best - INFO - Optimize for 1 iters with {'c1': 0.5, 'c2': 0.3, 'w': 0.9}\n",
            "pyswarms.single.global_best: 100%|██████████|1/1, best_cost=3.14e+8\n",
            "2023-10-03 17:32:02,485 - pyswarms.single.global_best - INFO - Optimization finished | best cost: 314309220.5012563, best pos: [3.17674635 3.20717218 3.21859996 3.60590443 3.76080372 1.44768465\n",
            " 0.34207309 2.11484517 4.49486229 0.07369633 1.52437849 2.79697944\n",
            " 3.54867938 4.16248445 4.26753121 2.41937207 5.17080946 6.11863287\n",
            " 5.49876202 5.17577954 4.59337675 1.19799133 4.47501537 5.94308848]\n"
          ]
        },
        {
          "output_type": "stream",
          "name": "stdout",
          "text": [
            "\n",
            "=========================================================================\n",
            "\n",
            "Número de ciclos de manutenção: 11 5\n",
            "Tempos para manutenções preventivas: [0, 5, 36, 72, 142, 163, 313, 375, 569, 575, 635, 718]\n",
            "Severidade para cada subsistema: [0.5, 0.5, 0.5, 0.5, 0.25, 0.25, 0.5, 0.25, 0.75, 0.25, 0.75]\n",
            "Número de Sisemas: 5\n",
            "Fator:  [0.06013123601935755, 0.14361699368653869, 0.14361699368653869, 0.14361699368653869, 0.14361699368653869, 0.07459035756403465, 0.07459035756403465, 0.14361699368653869, 0.07459035756403465, 0.20749490833922268, 0.07459035756403465, 0.20749490833922268]\n",
            "Media de falhas:  [0, 1.506344089548196e-14, 5.015903078194724e-06, 0.002627045235445424, 2.2852597032911364, 6.320987709090045, 5974.936062731481, 41489.01063559621, 3066586.8068032935, 3206569.0798781514, 8148294.010817171, 13484036.889825685, -6946544.796031782]\n",
            "Custo =  1437303970.7522073\n"
          ]
        },
        {
          "output_type": "stream",
          "name": "stderr",
          "text": [
            "2023-10-03 17:32:02,486 - pyswarms.single.global_best - INFO - Optimize for 1 iters with {'c1': 0.5, 'c2': 0.3, 'w': 0.9}\n",
            "pyswarms.single.global_best:   0%|          |0/1, best_cost=3.14e+8"
          ]
        },
        {
          "output_type": "stream",
          "name": "stdout",
          "text": [
            "\n",
            "=========================================================================\n",
            "\n",
            "Número de ciclos de manutenção: 14 5\n",
            "Tempos para manutenções preventivas: [0, 5, 36, 71, 108, 142, 163, 187, 274, 314, 371, 502, 575, 635, 718]\n",
            "Severidade para cada subsistema: [0.5, 0.5, 0.5, 0.5, 0.5, 0.25, 0.75, 0.5, 0.25, 0.5, 0.5, 0.75, 0.25, 0.75]\n",
            "Número de Sisemas: 5\n",
            "Fator:  [0.06013123601935755, 0.14361699368653869, 0.14361699368653869, 0.14361699368653869, 0.14361699368653869, 0.14361699368653869, 0.07459035756403465, 0.20749490833922268, 0.14361699368653869, 0.07459035756403465, 0.14361699368653869, 0.14361699368653869, 0.20749490833922268, 0.07459035756403465, 0.20749490833922268]\n",
            "Media de falhas:  [0, 1.506344089548196e-14, 5.015903078194724e-06, 0.0022605069141999226, 0.11868976467324742, 1.5824274392487148, 5.618155445047623, 21.480977094411102, 2026.9047771417127, 3513.569245784878, 20088.463846984938, 810557.6863314951, 1978247.8149843886, 4551485.296049485, 9887228.175058, -10543353.510799468]\n",
            "Custo =  1210784896.6402168\n"
          ]
        },
        {
          "output_type": "stream",
          "name": "stderr",
          "text": [
            "\rpyswarms.single.global_best: 100%|██████████|1/1, best_cost=3.14e+8\n",
            "2023-10-03 17:32:02,502 - pyswarms.single.global_best - INFO - Optimization finished | best cost: 314309220.5012563, best pos: [3.17674816 3.20718725 3.21860042 1.38156822 3.76061439 1.44762706\n",
            " 0.34207589 2.11478775 4.49437047 1.83246224 1.52436037 2.79698988\n",
            " 3.56862395 4.16244038 4.26752924 2.41934822 0.69548502 6.84936912\n",
            " 4.02792959 5.17578002 4.59335943 1.19799706 4.47501563 5.94312424]\n",
            "2023-10-03 17:32:02,503 - pyswarms.single.global_best - INFO - Optimize for 1 iters with {'c1': 0.5, 'c2': 0.3, 'w': 0.9}\n",
            "pyswarms.single.global_best: 100%|██████████|1/1, best_cost=3.14e+8\n",
            "2023-10-03 17:32:02,518 - pyswarms.single.global_best - INFO - Optimization finished | best cost: 314309220.5012563, best pos: [3.17674997e+00 3.20719588e+00 3.21860116e+00 1.55701256e-01\n",
            " 3.76046541e+00 1.44762155e+00 3.42078749e-01 2.11469983e+00\n",
            " 4.49391836e+00 3.98262164e+00 1.52434279e+00 2.79697833e+00\n",
            " 3.60440428e+00 4.16241703e+00 4.26752948e+00 2.41930250e+00\n",
            " 3.55013600e+00 7.35267480e-04 2.38928717e+00 5.17578039e+00\n",
            " 4.59332893e+00 1.19799875e+00 4.47501599e+00 5.94316051e+00]\n",
            "2023-10-03 17:32:02,519 - pyswarms.single.global_best - INFO - Optimize for 1 iters with {'c1': 0.5, 'c2': 0.3, 'w': 0.9}\n"
          ]
        },
        {
          "output_type": "stream",
          "name": "stdout",
          "text": [
            "\n",
            "=========================================================================\n",
            "\n",
            "Número de ciclos de manutenção: 12 5\n",
            "Tempos para manutenções preventivas: [0, 5, 36, 69, 142, 163, 291, 315, 370, 488, 575, 635, 718]\n",
            "Severidade para cada subsistema: [0.5, 0.5, 0.5, 0.5, 0.25, 0.5, 0.25, 0.5, 0.5, 0.75, 0.25, 0.75]\n",
            "Número de Sisemas: 5\n",
            "Fator:  [0.06013123601935755, 0.14361699368653869, 0.14361699368653869, 0.14361699368653869, 0.14361699368653869, 0.07459035756403465, 0.14361699368653869, 0.07459035756403465, 0.14361699368653869, 0.14361699368653869, 0.20749490833922268, 0.07459035756403465, 0.20749490833922268]\n",
            "Media de falhas:  [0, 1.506344089548196e-14, 5.015903078194724e-06, 0.0016623008955589302, 2.3604176098200282, 6.396145615618937, 2716.346209196093, 6605.408930745162, 22418.533341605504, 601956.4341157841, 1905502.718521818, 4478740.199586914, 9814483.078595428, -10616098.60726204]\n",
            "Custo =  1202719448.9169478\n"
          ]
        },
        {
          "output_type": "stream",
          "name": "stderr",
          "text": [
            "pyswarms.single.global_best: 100%|██████████|1/1, best_cost=3.14e+8\n",
            "2023-10-03 17:32:02,532 - pyswarms.single.global_best - INFO - Optimization finished | best cost: 314309220.5012563, best pos: [3.17675157 3.2071373  3.21860194 5.45770338 3.7604432  1.4477549\n",
            " 0.34208116 2.11462002 4.49354161 5.8213916  1.52432603 2.79696684\n",
            " 3.64872066 4.16239646 4.26753038 2.4192484  6.17514026 0.84470265\n",
            " 0.89429204 5.17578054 4.59329671 1.1979872  4.4750166  5.94319346]\n",
            "2023-10-03 17:32:02,533 - pyswarms.single.global_best - INFO - Optimize for 1 iters with {'c1': 0.5, 'c2': 0.3, 'w': 0.9}\n"
          ]
        },
        {
          "output_type": "stream",
          "name": "stdout",
          "text": [
            "\n",
            "=========================================================================\n",
            "\n",
            "Número de ciclos de manutenção: 14 5\n",
            "Tempos para manutenções preventivas: [0, 5, 36, 67, 142, 163, 205, 297, 315, 370, 491, 561, 575, 636, 718]\n",
            "Severidade para cada subsistema: [0.5, 0.5, 0.5, 0.5, 0.25, 0.5, 0.5, 0.25, 0.5, 0.5, 0.25, 0.75, 0.25, 0.75]\n",
            "Número de Sisemas: 5\n",
            "Fator:  [0.06013123601935755, 0.14361699368653869, 0.14361699368653869, 0.14361699368653869, 0.14361699368653869, 0.07459035756403465, 0.14361699368653869, 0.14361699368653869, 0.07459035756403465, 0.14361699368653869, 0.14361699368653869, 0.07459035756403465, 0.20749490833922268, 0.07459035756403465, 0.20749490833922268]\n",
            "Media de falhas:  [0, 1.506344089548196e-14, 5.015903078194724e-06, 0.0012107775295020866, 2.411886035796847, 6.447614041595756, 58.936897958518415, 4505.978351066714, 6106.776406781053, 21919.900817641395, 642409.7501177826, 1545192.0855702003, 1855771.298010169, 6925506.985975103, 12213656.386443082, -8216925.299414385]\n",
            "Custo =  1445506373.59508\n"
          ]
        },
        {
          "output_type": "stream",
          "name": "stderr",
          "text": [
            "pyswarms.single.global_best:   0%|          |0/1, best_cost=3.14e+8"
          ]
        },
        {
          "output_type": "stream",
          "name": "stdout",
          "text": [
            "\n",
            "=========================================================================\n",
            "\n",
            "Número de ciclos de manutenção: 12 5\n",
            "Tempos para manutenções preventivas: [0, 5, 36, 65, 108, 142, 163, 316, 370, 493, 575, 636, 718]\n",
            "Severidade para cada subsistema: [0.5, 0.5, 0.5, 0.25, 0.5, 0.25, 0.25, 0.5, 0.5, 0.75, 0.25, 0.75]\n",
            "Número de Sisemas: 5\n",
            "Fator:  [0.06013123601935755, 0.14361699368653869, 0.14361699368653869, 0.14361699368653869, 0.07459035756403465, 0.14361699368653869, 0.07459035756403465, 0.07459035756403465, 0.14361699368653869, 0.14361699368653869, 0.20749490833922268, 0.07459035756403465, 0.20749490833922268]\n",
            "Media de falhas:  [0, 1.506344089548196e-14, 5.015903078194724e-06, 0.000873053027312846, 0.12864955230201064, 1.592387226877478, 9.195016606704895, 6625.049014753247, 35781.613660593626, 684927.1650730501, 1941892.2504661581, 4583804.234177416, 9871953.634645395, -10558628.051212072]\n",
            "Custo =  1208522534.085381\n"
          ]
        },
        {
          "output_type": "stream",
          "name": "stderr",
          "text": [
            "\rpyswarms.single.global_best: 100%|██████████|1/1, best_cost=3.14e+8\n",
            "2023-10-03 17:32:02,549 - pyswarms.single.global_best - INFO - Optimization finished | best cost: 314309220.5012563, best pos: [3.17675253 3.2070816  3.21860262 3.49437663 3.76051545 1.44792266\n",
            " 0.34208238 2.11455168 4.49341524 6.5317499  1.52430992 2.79695088\n",
            " 3.7016352  4.16239065 4.26753514 2.41920078 0.95817048 1.75169379\n",
            " 6.9025277  5.1757805  4.59326542 1.19797525 4.4750172  5.94321943]\n",
            "2023-10-03 17:32:02,550 - pyswarms.single.global_best - INFO - Optimize for 1 iters with {'c1': 0.5, 'c2': 0.3, 'w': 0.9}\n",
            "pyswarms.single.global_best: 100%|██████████|1/1, best_cost=3.14e+8\n",
            "2023-10-03 17:32:02,561 - pyswarms.single.global_best - INFO - Optimization finished | best cost: 314309220.5012563, best pos: [3.17675285 3.20701842 3.21860305 1.49896087 3.76062641 1.44809312\n",
            " 0.34208217 2.11449744 4.49338793 0.72546429 1.52429803 2.79690381\n",
            " 3.75070103 4.16241771 4.26754211 2.41916093 3.24788598 2.73896172\n",
            " 5.67791526 5.1757804  4.59324034 1.19795939 4.4750177  5.94324268]\n",
            "2023-10-03 17:32:02,562 - pyswarms.single.global_best - INFO - Optimize for 1 iters with {'c1': 0.5, 'c2': 0.3, 'w': 0.9}\n"
          ]
        },
        {
          "output_type": "stream",
          "name": "stdout",
          "text": [
            "\n",
            "=========================================================================\n",
            "\n",
            "Número de ciclos de manutenção: 14 5\n",
            "Tempos para manutenções preventivas: [0, 5, 36, 64, 94, 142, 163, 205, 316, 373, 505, 560, 575, 636, 718]\n",
            "Severidade para cada subsistema: [0.5, 0.5, 0.5, 0.75, 0.5, 0.25, 0.25, 0.25, 0.5, 0.5, 0.5, 0.75, 0.25, 0.75]\n",
            "Número de Sisemas: 5\n",
            "Fator:  [0.06013123601935755, 0.14361699368653869, 0.14361699368653869, 0.14361699368653869, 0.20749490833922268, 0.14361699368653869, 0.07459035756403465, 0.07459035756403465, 0.07459035756403465, 0.14361699368653869, 0.14361699368653869, 0.14361699368653869, 0.20749490833922268, 0.07459035756403465, 0.20749490833922268]\n",
            "Media de falhas:  [0, 1.506344089548196e-14, 5.015903078194724e-06, 0.000738438434295033, 0.02867497438365052, 1.8038884421778334, 3.957543422731251, 56.44682733965391, 8668.814681207341, 41038.14422922914, 880449.5361095214, 1634573.7847866574, 1965279.7837775522, 4607191.76748881, 9895341.167956788, -10535240.51790068]\n",
            "Custo =  1294821318.8092453\n"
          ]
        },
        {
          "output_type": "stream",
          "name": "stderr",
          "text": [
            "pyswarms.single.global_best:   0%|          |0/1, best_cost=3.14e+8"
          ]
        },
        {
          "output_type": "stream",
          "name": "stdout",
          "text": [
            "\n",
            "=========================================================================\n",
            "\n",
            "Número de ciclos de manutenção: 12 5\n",
            "Tempos para manutenções preventivas: [0, 5, 36, 63, 102, 142, 163, 316, 376, 543, 575, 636, 718]\n",
            "Severidade para cada subsistema: [0.5, 0.5, 0.5, 0.25, 0.5, 0.25, 0.25, 0.5, 0.25, 0.75, 0.25, 0.75]\n",
            "Número de Sisemas: 5\n",
            "Fator:  [0.06013123601935755, 0.14361699368653869, 0.14361699368653869, 0.14361699368653869, 0.07459035756403465, 0.14361699368653869, 0.07459035756403465, 0.07459035756403465, 0.14361699368653869, 0.07459035756403465, 0.20749490833922268, 0.07459035756403465, 0.20749490833922268]\n",
            "Media de falhas:  [0, 1.506344089548196e-14, 5.015903078194724e-06, 0.0006228835006659451, 0.07099259645903024, 1.6713342283976371, 9.273963608225055, 6625.127961754768, 42464.7948995467, 1874834.3910502915, 2511863.1302418658, 7581598.8182068, 12869748.218674779, -7560833.467182688]\n",
            "Custo =  1409045725.3095887\n"
          ]
        },
        {
          "output_type": "stream",
          "name": "stderr",
          "text": [
            "\rpyswarms.single.global_best: 100%|██████████|1/1, best_cost=3.14e+8\n",
            "2023-10-03 17:32:02,578 - pyswarms.single.global_best - INFO - Optimization finished | best cost: 314309220.5012563, best pos: [3.17675312 3.20696013 3.21860333 6.92429426 3.76081917 1.44827576\n",
            " 0.34208166 2.1144799  4.49342061 2.39280231 1.52429227 2.79685699\n",
            " 3.79250094 4.1624592  4.26754892 2.41914148 5.27187809 4.10782737\n",
            " 4.22891855 5.17578023 4.59322399 1.19794396 4.47501799 5.94325885]\n",
            "2023-10-03 17:32:02,579 - pyswarms.single.global_best - INFO - Optimize for 1 iters with {'c1': 0.5, 'c2': 0.3, 'w': 0.9}\n",
            "pyswarms.single.global_best: 100%|██████████|1/1, best_cost=3.14e+8\n",
            "2023-10-03 17:32:02,589 - pyswarms.single.global_best - INFO - Optimization finished | best cost: 314309220.5012563, best pos: [3.17675315 3.20688369 3.21860336 4.67923101 3.76105861 1.4484379\n",
            " 0.34208018 2.11450521 4.49353521 4.04914642 1.5242896  2.79681116\n",
            " 3.80794285 4.16249783 4.26755432 2.41915233 0.22670011 5.41250318\n",
            " 2.52021304 5.17578    4.59321757 1.19793218 4.47501799 5.94324804]\n",
            "2023-10-03 17:32:02,590 - pyswarms.single.global_best - INFO - Optimize for 1 iters with {'c1': 0.5, 'c2': 0.3, 'w': 0.9}\n"
          ]
        },
        {
          "output_type": "stream",
          "name": "stdout",
          "text": [
            "\n",
            "=========================================================================\n",
            "\n",
            "Número de ciclos de manutenção: 12 5\n",
            "Tempos para manutenções preventivas: [0, 5, 36, 63, 111, 142, 163, 316, 379, 567, 575, 636, 718]\n",
            "Severidade para cada subsistema: [0.5, 0.5, 0.5, 0.75, 0.5, 0.25, 0.25, 0.5, 0.75, 0.75, 0.25, 0.75]\n",
            "Número de Sisemas: 5\n",
            "Fator:  [0.06013123601935755, 0.14361699368653869, 0.14361699368653869, 0.14361699368653869, 0.20749490833922268, 0.14361699368653869, 0.07459035756403465, 0.07459035756403465, 0.14361699368653869, 0.20749490833922268, 0.20749490833922268, 0.07459035756403465, 0.20749490833922268]\n",
            "Media de falhas:  [0, 1.506344089548196e-14, 5.015903078194724e-06, 0.0006228835006659451, 0.17813352934468119, 1.569445975016452, 3.72310095556987, 6619.577099102113, 46205.34410613868, 2939855.3993190494, 3124139.603935334, 4506068.872387582, 9794218.272855561, -10636363.413001906]\n",
            "Custo =  1197538255.2730625\n"
          ]
        },
        {
          "output_type": "stream",
          "name": "stderr",
          "text": [
            "pyswarms.single.global_best:   0%|          |0/1, best_cost=3.14e+8"
          ]
        },
        {
          "output_type": "stream",
          "name": "stdout",
          "text": [
            "\n",
            "=========================================================================\n",
            "\n",
            "Número de ciclos de manutenção: 12 5\n",
            "Tempos para manutenções preventivas: [0, 5, 36, 64, 142, 163, 197, 316, 382, 543, 575, 636, 718]\n",
            "Severidade para cada subsistema: [0.5, 0.5, 0.5, 0.5, 0.25, 0.5, 0.25, 0.5, 0.5, 0.75, 0.25, 0.75]\n",
            "Número de Sisemas: 5\n",
            "Fator:  [0.06013123601935755, 0.14361699368653869, 0.14361699368653869, 0.14361699368653869, 0.14361699368653869, 0.07459035756403465, 0.14361699368653869, 0.07459035756403465, 0.14361699368653869, 0.14361699368653869, 0.20749490833922268, 0.07459035756403465, 0.20749490833922268]\n",
            "Media de falhas:  [0, 1.506344089548196e-14, 5.015903078194724e-06, 0.000738438434295033, 2.4911250994778587, 6.526853105276768, 38.5192539910922, 8853.493270350007, 32644.55613503662, 1842461.7021606083, 2479490.4413521825, 5121402.425063441, 10409551.82553142, -10021029.860326048]\n",
            "Custo =  1250098457.3403187\n"
          ]
        },
        {
          "output_type": "stream",
          "name": "stderr",
          "text": [
            "\rpyswarms.single.global_best: 100%|██████████|1/1, best_cost=3.14e+8\n",
            "2023-10-03 17:32:02,606 - pyswarms.single.global_best - INFO - Optimization finished | best cost: 314309220.5012563, best pos: [3.17675263 3.2068017  3.2186031  2.47286217 3.76128189 1.44854087\n",
            " 0.34207881 2.11456685 4.49377363 5.76925329 1.52429065 2.79677177\n",
            " 3.82025229 4.16253335 4.2675573  2.41918762 2.67411224 6.45549492\n",
            " 0.93695237 5.17577976 4.59321743 1.1979274  4.47501791 5.94321324]\n",
            "2023-10-03 17:32:02,607 - pyswarms.single.global_best - INFO - Optimize for 1 iters with {'c1': 0.5, 'c2': 0.3, 'w': 0.9}\n",
            "pyswarms.single.global_best: 100%|██████████|1/1, best_cost=3.14e+8\n",
            "2023-10-03 17:32:02,618 - pyswarms.single.global_best - INFO - Optimization finished | best cost: 314309220.5012563, best pos: [3.17675151 3.20673369 3.21860279 0.0450007  3.76145034 1.44858655\n",
            " 0.34207742 2.11463515 4.49404024 6.96691645 1.52429975 2.79673821\n",
            " 3.79795805 4.16256339 4.26755678 2.41923226 4.87280576 6.8727273\n",
            " 6.52732464 5.17577952 4.59322034 1.19792682 4.47501781 5.94317265]\n",
            "2023-10-03 17:32:02,619 - pyswarms.single.global_best - INFO - Optimize for 1 iters with {'c1': 0.5, 'c2': 0.3, 'w': 0.9}\n"
          ]
        },
        {
          "output_type": "stream",
          "name": "stdout",
          "text": [
            "\n",
            "=========================================================================\n",
            "\n",
            "Número de ciclos de manutenção: 10 5\n",
            "Tempos para manutenções preventivas: [0, 5, 36, 65, 142, 163, 315, 384, 575, 636, 718]\n",
            "Severidade para cada subsistema: [0.5, 0.5, 0.5, 0.5, 0.25, 0.25, 0.5, 0.75, 0.25, 0.75]\n",
            "Número de Sisemas: 5\n",
            "Fator:  [0.06013123601935755, 0.14361699368653869, 0.14361699368653869, 0.14361699368653869, 0.14361699368653869, 0.07459035756403465, 0.07459035756403465, 0.14361699368653869, 0.20749490833922268, 0.07459035756403465, 0.20749490833922268]\n",
            "Media de falhas:  [0, 1.506344089548196e-14, 5.015903078194724e-06, 0.000873053027312846, 2.4644404083022997, 6.500168414101209, 6399.920710776603, 53209.77408251545, 3383282.438081698, 6025194.421792956, 11313343.822260935, -9117237.863596532]\n",
            "Custo =  1196384655.0640087\n"
          ]
        },
        {
          "output_type": "stream",
          "name": "stderr",
          "text": [
            "pyswarms.single.global_best: 100%|██████████|1/1, best_cost=3.14e+8\n",
            "2023-10-03 17:32:02,630 - pyswarms.single.global_best - INFO - Optimization finished | best cost: 314309220.5012563, best pos: [3.17675048 3.20668662 3.21860243 5.09789303 3.76159545 1.44862081\n",
            " 0.34207614 2.11469707 4.49428866 0.74867622 1.52431339 2.79672184\n",
            " 3.76713243 4.16258178 4.26755577 2.41927981 6.75209053 0.08509656\n",
            " 4.92212305 5.17577932 4.59322558 1.1979303  4.47501754 5.94313438]\n",
            "2023-10-03 17:32:02,632 - pyswarms.single.global_best - INFO - Optimize for 1 iters with {'c1': 0.5, 'c2': 0.3, 'w': 0.9}\n"
          ]
        },
        {
          "output_type": "stream",
          "name": "stdout",
          "text": [
            "\n",
            "=========================================================================\n",
            "\n",
            "Número de ciclos de manutenção: 12 5\n",
            "Tempos para manutenções preventivas: [0, 5, 36, 66, 142, 163, 286, 315, 385, 500, 575, 635, 718]\n",
            "Severidade para cada subsistema: [0.5, 0.5, 0.5, 0.5, 0.25, 0.75, 0.25, 0.5, 0.25, 0.75, 0.25, 0.75]\n",
            "Número de Sisemas: 5\n",
            "Fator:  [0.06013123601935755, 0.14361699368653869, 0.14361699368653869, 0.14361699368653869, 0.14361699368653869, 0.07459035756403465, 0.20749490833922268, 0.07459035756403465, 0.14361699368653869, 0.07459035756403465, 0.20749490833922268, 0.07459035756403465, 0.20749490833922268]\n",
            "Media de falhas:  [0, 1.506344089548196e-14, 5.015903078194724e-06, 0.001029471467596512, 2.4380274905059944, 6.4737554963049035, 2250.6004825215323, 6685.645516475912, 21331.738969484257, 745938.0092361168, 1934115.7143240282, 6875840.645263048, 12211583.524271563, -8218998.161585905]\n",
            "Custo =  1369252043.1994128\n"
          ]
        },
        {
          "output_type": "stream",
          "name": "stderr",
          "text": [
            "pyswarms.single.global_best:   0%|          |0/1, best_cost=3.14e+8"
          ]
        },
        {
          "output_type": "stream",
          "name": "stdout",
          "text": [
            "\n",
            "=========================================================================\n",
            "\n",
            "Número de ciclos de manutenção: 11 5\n",
            "Tempos para manutenções preventivas: [0, 5, 36, 67, 142, 163, 314, 385, 496, 575, 635, 718]\n",
            "Severidade para cada subsistema: [0.5, 0.5, 0.5, 0.5, 0.25, 0.25, 0.5, 0.5, 0.75, 0.25, 0.75]\n",
            "Número de Sisemas: 5\n",
            "Fator:  [0.06013123601935755, 0.14361699368653869, 0.14361699368653869, 0.14361699368653869, 0.14361699368653869, 0.07459035756403465, 0.07459035756403465, 0.14361699368653869, 0.14361699368653869, 0.20749490833922268, 0.07459035756403465, 0.20749490833922268]\n",
            "Media de falhas:  [0, 1.506344089548196e-14, 5.015903078194724e-06, 0.0012107775295020866, 2.411886035796847, 6.447614041595756, 6184.1826967928255, 54797.442791975634, 716438.2856765889, 1944459.0526321158, 4517696.533697212, 9853439.412705727, -10577142.27315174]\n",
            "Custo =  1210181533.1559658\n"
          ]
        },
        {
          "output_type": "stream",
          "name": "stderr",
          "text": [
            "\rpyswarms.single.global_best: 100%|██████████|1/1, best_cost=3.14e+8\n",
            "2023-10-03 17:32:02,649 - pyswarms.single.global_best - INFO - Optimization finished | best cost: 314309220.5012563, best pos: [3.17674921 3.20666309 3.21860204 2.86108098 3.76162617 1.44865085\n",
            " 0.3420751  2.11475075 4.49450769 2.08633895 1.52432709 2.79671069\n",
            " 3.73502186 4.16257772 4.2675541  2.41932138 0.9006387  1.11556612\n",
            " 2.79873738 5.17577915 4.5932349  1.19793423 4.47501723 5.94310095]\n",
            "2023-10-03 17:32:02,651 - pyswarms.single.global_best - INFO - Optimize for 1 iters with {'c1': 0.5, 'c2': 0.3, 'w': 0.9}\n",
            "pyswarms.single.global_best: 100%|██████████|1/1, best_cost=3.14e+8\n",
            "2023-10-03 17:32:02,663 - pyswarms.single.global_best - INFO - Optimization finished | best cost: 314309220.5012563, best pos: [3.17674805 3.20667106 3.21860166 0.45013338 3.76151879 1.44867169\n",
            " 0.34207433 2.11478739 4.49463583 3.95421503 1.5243386  2.79673693\n",
            " 3.70075487 4.16257138 4.26755071 2.41935786 2.55534051 2.37893266\n",
            " 0.77397648 5.17577903 4.59324605 1.19794038 4.47501691 5.94307877]\n",
            "2023-10-03 17:32:02,665 - pyswarms.single.global_best - INFO - Optimize for 1 iters with {'c1': 0.5, 'c2': 0.3, 'w': 0.9}\n"
          ]
        },
        {
          "output_type": "stream",
          "name": "stdout",
          "text": [
            "\n",
            "=========================================================================\n",
            "\n",
            "Número de ciclos de manutenção: 12 5\n",
            "Tempos para manutenções preventivas: [0, 5, 36, 68, 142, 163, 286, 314, 385, 480, 575, 635, 718]\n",
            "Severidade para cada subsistema: [0.5, 0.5, 0.5, 0.5, 0.25, 0.5, 0.25, 0.5, 0.75, 0.75, 0.25, 0.75]\n",
            "Número de Sisemas: 5\n",
            "Fator:  [0.06013123601935755, 0.14361699368653869, 0.14361699368653869, 0.14361699368653869, 0.14361699368653869, 0.07459035756403465, 0.14361699368653869, 0.07459035756403465, 0.14361699368653869, 0.20749490833922268, 0.20749490833922268, 0.07459035756403465, 0.20749490833922268]\n",
            "Media de falhas:  [0, 1.506344089548196e-14, 5.015903078194724e-06, 0.001420429961856043, 2.386015995738076, 6.421744001536984, 2250.548471026764, 6455.685128794268, 33166.40199974572, 486545.5425398925, 1860719.1894422625, 3205611.9855995467, 8541354.86460806, -11889226.821249407]\n",
            "Custo =  1118496569.8760595\n"
          ]
        },
        {
          "output_type": "stream",
          "name": "stderr",
          "text": [
            "pyswarms.single.global_best: 100%|██████████|1/1, best_cost=3.14e+8\n",
            "2023-10-03 17:32:02,677 - pyswarms.single.global_best - INFO - Optimization finished | best cost: 314309220.5012563, best pos: [3.17674709 3.20668848 3.21860134 5.22612942 3.76129617 1.44856738\n",
            " 0.34207443 2.11480096 4.4946829  6.00554623 1.52434698 2.79677825\n",
            " 3.6719471  4.16255959 4.26754596 2.41938905 4.30176161 3.72133482\n",
            " 6.32626939 5.17577908 4.5932598  1.19794679 4.47501664 5.94308391]\n",
            "2023-10-03 17:32:02,678 - pyswarms.single.global_best - INFO - Optimize for 1 iters with {'c1': 0.5, 'c2': 0.3, 'w': 0.9}\n"
          ]
        },
        {
          "output_type": "stream",
          "name": "stdout",
          "text": [
            "\n",
            "=========================================================================\n",
            "\n",
            "Número de ciclos de manutenção: 13 5\n",
            "Tempos para manutenções preventivas: [0, 5, 36, 68, 112, 142, 163, 186, 270, 314, 384, 575, 635, 718]\n",
            "Severidade para cada subsistema: [0.5, 0.5, 0.5, 0.75, 0.5, 0.25, 0.25, 0.5, 0.25, 0.5, 0.75, 0.25, 0.75]\n",
            "Número de Sisemas: 5\n",
            "Fator:  [0.06013123601935755, 0.14361699368653869, 0.14361699368653869, 0.14361699368653869, 0.20749490833922268, 0.14361699368653869, 0.07459035756403465, 0.07459035756403465, 0.14361699368653869, 0.07459035756403465, 0.14361699368653869, 0.20749490833922268, 0.07459035756403465, 0.20749490833922268]\n",
            "Media de falhas:  [0, 1.506344089548196e-14, 5.015903078194724e-06, 0.001420429961856043, 0.18354716999990545, 1.54983604707655, 3.703491027629968, 18.381291663814853, 1738.187039764492, 7281.71811553155, 33135.613868807435, 3363208.27786799, 5936445.758933086, 11272188.637941599, -9158393.047915868]\n",
            "Custo =  1193063544.9269483\n"
          ]
        },
        {
          "output_type": "stream",
          "name": "stderr",
          "text": [
            "pyswarms.single.global_best:   0%|          |0/1, best_cost=3.14e+8"
          ]
        },
        {
          "output_type": "stream",
          "name": "stdout",
          "text": [
            "\n",
            "=========================================================================\n",
            "\n",
            "Número de ciclos de manutenção: 13 5\n",
            "Tempos para manutenções preventivas: [0, 5, 36, 68, 114, 142, 163, 180, 314, 383, 502, 575, 635, 718]\n",
            "Severidade para cada subsistema: [0.5, 0.5, 0.5, 0.25, 0.5, 0.25, 0.5, 0.25, 0.5, 0.25, 0.75, 0.25, 0.75]\n",
            "Número de Sisemas: 5\n",
            "Fator:  [0.06013123601935755, 0.14361699368653869, 0.14361699368653869, 0.14361699368653869, 0.07459035756403465, 0.14361699368653869, 0.07459035756403465, 0.14361699368653869, 0.07459035756403465, 0.14361699368653869, 0.07459035756403465, 0.20749490833922268, 0.07459035756403465, 0.20749490833922268]\n",
            "Media de falhas:  [0, 1.506344089548196e-14, 5.015903078194724e-06, 0.001420429961856043, 0.2225514602542166, 1.537178600760239, 9.139807980587657, 17.942372662578478, 8654.987978550333, 33674.475167749726, 796546.0756663899, 1964236.2043192836, 6905961.135258303, 12241704.014266817, -8188877.67159065]\n",
            "Custo =  1370494273.5666566\n"
          ]
        },
        {
          "output_type": "stream",
          "name": "stderr",
          "text": [
            "\rpyswarms.single.global_best: 100%|██████████|1/1, best_cost=3.14e+8\n",
            "2023-10-03 17:32:02,696 - pyswarms.single.global_best - INFO - Optimization finished | best cost: 314309220.5012563, best pos: [3.17674632 3.20672758 3.21860109 2.60869814 3.76105898 1.44840441\n",
            " 0.34207488 2.11478203 4.49465116 1.19170517 1.52435349 2.79682222\n",
            " 3.65271411 4.16254812 4.26754144 2.41939536 6.27106809 5.13719145\n",
            " 4.44499706 5.1757792  4.59327561 1.19795375 4.47501645 5.94309144]\n",
            "2023-10-03 17:32:02,697 - pyswarms.single.global_best - INFO - Optimize for 1 iters with {'c1': 0.5, 'c2': 0.3, 'w': 0.9}\n",
            "pyswarms.single.global_best: 100%|██████████|1/1, best_cost=3.14e+8\n",
            "2023-10-03 17:32:02,709 - pyswarms.single.global_best - INFO - Optimization finished | best cost: 314309220.5012563, best pos: [3.17674627 3.20678695 3.21860101 0.44486184 3.76084731 1.44823131\n",
            " 0.34207563 2.11473485 4.49458048 3.71747028 1.52435215 2.79686485\n",
            " 3.63724849 4.16253191 4.26753809 2.4194002  1.592474   6.33325037\n",
            " 2.25194336 5.17577934 4.59329045 1.19795999 4.47501639 5.9431027 ]\n",
            "2023-10-03 17:32:02,710 - pyswarms.single.global_best - INFO - Optimize for 1 iters with {'c1': 0.5, 'c2': 0.3, 'w': 0.9}\n"
          ]
        },
        {
          "output_type": "stream",
          "name": "stdout",
          "text": [
            "\n",
            "=========================================================================\n",
            "\n",
            "Número de ciclos de manutenção: 15 5\n",
            "Tempos para manutenções preventivas: [0, 5, 36, 67, 98, 142, 163, 180, 273, 315, 381, 509, 559, 575, 635, 718]\n",
            "Severidade para cada subsistema: [0.5, 0.5, 0.5, 0.75, 0.5, 0.25, 0.75, 0.5, 0.25, 0.5, 0.5, 0.5, 0.75, 0.25, 0.75]\n",
            "Número de Sisemas: 5\n",
            "Fator:  [0.06013123601935755, 0.14361699368653869, 0.14361699368653869, 0.14361699368653869, 0.20749490833922268, 0.14361699368653869, 0.07459035756403465, 0.20749490833922268, 0.14361699368653869, 0.07459035756403465, 0.14361699368653869, 0.14361699368653869, 0.14361699368653869, 0.20749490833922268, 0.07459035756403465, 0.20749490833922268]\n",
            "Media de falhas:  [0, 1.506344089548196e-14, 5.015903078194724e-06, 0.0012107775295020866, 0.043345059797802274, 1.73149193981049, 3.885146920363908, 12.687711602354728, 1992.069066529811, 3578.1503685837783, 26790.16444056, 922319.4588777876, 1615252.7879329785, 1965832.3024028493, 4539069.783467945, 9874812.662476458, -10555769.02338101]\n",
            "Custo =  1293969372.1179268\n"
          ]
        },
        {
          "output_type": "stream",
          "name": "stderr",
          "text": [
            "pyswarms.single.global_best: 100%|██████████|1/1, best_cost=3.14e+8\n",
            "2023-10-03 17:32:02,724 - pyswarms.single.global_best - INFO - Optimization finished | best cost: 314309220.5012563, best pos: [3.17674704 3.20684255 3.21860106 6.59765765 3.76070261 1.44807767\n",
            " 0.3420767  2.11467348 4.49443154 6.13402477 1.52434428 2.79690064\n",
            " 3.63388566 4.16251486 4.26753572 2.41939163 4.18718209 6.99223855\n",
            " 0.28246696 5.17577952 4.59330343 1.19796534 4.4750165  5.9431233 ]\n",
            "2023-10-03 17:32:02,725 - pyswarms.single.global_best - INFO - Optimize for 1 iters with {'c1': 0.5, 'c2': 0.3, 'w': 0.9}\n"
          ]
        },
        {
          "output_type": "stream",
          "name": "stdout",
          "text": [
            "\n",
            "=========================================================================\n",
            "\n",
            "Número de ciclos de manutenção: 13 5\n",
            "Tempos para manutenções preventivas: [0, 5, 36, 67, 111, 142, 163, 276, 315, 380, 508, 575, 635, 718]\n",
            "Severidade para cada subsistema: [0.5, 0.5, 0.5, 0.25, 0.5, 0.25, 0.5, 0.25, 0.5, 0.75, 0.75, 0.25, 0.75]\n",
            "Número de Sisemas: 5\n",
            "Fator:  [0.06013123601935755, 0.14361699368653869, 0.14361699368653869, 0.14361699368653869, 0.07459035756403465, 0.14361699368653869, 0.07459035756403465, 0.14361699368653869, 0.07459035756403465, 0.14361699368653869, 0.20749490833922268, 0.20749490833922268, 0.07459035756403465, 0.20749490833922268]\n",
            "Media de falhas:  [0, 1.506344089548196e-14, 5.015903078194724e-06, 0.0012107775295020866, 0.16870541660579796, 1.560017862277569, 9.162647242104986, 1530.8938499682165, 6869.384135421871, 29314.092421566438, 908067.7161472221, 2011862.1255738249, 3356754.921731109, 8692497.800739624, -11738083.885117844]\n",
            "Custo =  1134711155.341793\n"
          ]
        },
        {
          "output_type": "stream",
          "name": "stderr",
          "text": [
            "pyswarms.single.global_best:   0%|          |0/1, best_cost=3.14e+8"
          ]
        },
        {
          "output_type": "stream",
          "name": "stdout",
          "text": [
            "\n",
            "=========================================================================\n",
            "\n",
            "Número de ciclos de manutenção: 14 5\n",
            "Tempos para manutenções preventivas: [0, 5, 36, 66, 100, 142, 163, 188, 296, 315, 379, 560, 575, 635, 718]\n",
            "Severidade para cada subsistema: [0.5, 0.5, 0.5, 0.75, 0.5, 0.25, 0.5, 0.5, 0.25, 0.5, 0.75, 0.75, 0.25, 0.75]\n",
            "Número de Sisemas: 5\n",
            "Fator:  [0.06013123601935755, 0.14361699368653869, 0.14361699368653869, 0.14361699368653869, 0.20749490833922268, 0.14361699368653869, 0.07459035756403465, 0.14361699368653869, 0.14361699368653869, 0.07459035756403465, 0.14361699368653869, 0.20749490833922268, 0.20749490833922268, 0.07459035756403465, 0.20749490833922268]\n",
            "Media de falhas:  [0, 1.506344089548196e-14, 5.015903078194724e-06, 0.001029471467596512, 0.05478701737039059, 1.699211187572253, 3.8528661681256713, 20.967598701949505, 4561.931302202675, 6233.939479127681, 27931.658124551876, 2562449.5438962774, 2893155.542887172, 4238048.339044456, 9573791.21805297, -10856790.467804497]\n",
            "Custo =  1185448075.0363579\n"
          ]
        },
        {
          "output_type": "stream",
          "name": "stderr",
          "text": [
            "\rpyswarms.single.global_best: 100%|██████████|1/1, best_cost=3.14e+8\n",
            "2023-10-03 17:32:02,740 - pyswarms.single.global_best - INFO - Optimization finished | best cost: 314309220.5012563, best pos: [3.17674794 3.20689243 3.2186012  5.11039918 3.76062411 1.44795439\n",
            " 0.34207776 2.11460818 4.49427064 0.35077654 1.52433296 2.79691984\n",
            " 3.64930648 4.16249812 4.26753558 2.41934567 0.14938761 6.8792326\n",
            " 6.01850416 5.1757797  4.59330929 1.19796824 4.4750167  5.94314416]\n",
            "2023-10-03 17:32:02,741 - pyswarms.single.global_best - INFO - Optimize for 1 iters with {'c1': 0.5, 'c2': 0.3, 'w': 0.9}\n",
            "pyswarms.single.global_best:   0%|          |0/1, best_cost=3.14e+8"
          ]
        },
        {
          "output_type": "stream",
          "name": "stdout",
          "text": [
            "\n",
            "=========================================================================\n",
            "\n",
            "Número de ciclos de manutenção: 14 5\n",
            "Tempos para manutenções preventivas: [0, 5, 36, 65, 115, 142, 163, 204, 273, 316, 378, 543, 575, 636, 718]\n",
            "Severidade para cada subsistema: [0.5, 0.5, 0.5, 0.25, 0.5, 0.25, 0.75, 0.75, 0.25, 0.5, 0.5, 0.75, 0.25, 0.75]\n",
            "Número de Sisemas: 5\n",
            "Fator:  [0.06013123601935755, 0.14361699368653869, 0.14361699368653869, 0.14361699368653869, 0.07459035756403465, 0.14361699368653869, 0.07459035756403465, 0.20749490833922268, 0.20749490833922268, 0.07459035756403465, 0.14361699368653869, 0.14361699368653869, 0.20749490833922268, 0.07459035756403465, 0.20749490833922268]\n",
            "Media de falhas:  [0, 1.506344089548196e-14, 5.015903078194724e-06, 0.000873053027312846, 0.25458365879846506, 1.5424646245625095, 9.145094004389927, 58.59944581212401, 1844.7641919568714, 3505.9957156482806, 14849.885652308632, 1839788.2465949056, 2476816.98578648, 5118728.969497738, 10406878.369965717, -10023703.31589175]\n",
            "Custo =  1248629082.439015\n"
          ]
        },
        {
          "output_type": "stream",
          "name": "stderr",
          "text": [
            "\rpyswarms.single.global_best: 100%|██████████|1/1, best_cost=3.14e+8\n",
            "2023-10-03 17:32:02,756 - pyswarms.single.global_best - INFO - Optimization finished | best cost: 314309220.5012563, best pos: [3.17674902 3.20692623 3.2186014  3.21873478 3.7606125  1.44790368\n",
            " 0.34207871 2.11455005 4.49412589 2.10700345 1.52431922 2.79693283\n",
            " 3.66664394 4.16248332 4.26753782 2.41928426 3.496067   6.53758711\n",
            " 4.00906064 5.17577985 4.59330738 1.19796927 4.47501694 5.94316449]\n",
            "2023-10-03 17:32:02,758 - pyswarms.single.global_best - INFO - Optimize for 1 iters with {'c1': 0.5, 'c2': 0.3, 'w': 0.9}\n",
            "pyswarms.single.global_best:   0%|          |0/1, best_cost=3.14e+8"
          ]
        },
        {
          "output_type": "stream",
          "name": "stdout",
          "text": [
            "\n",
            "=========================================================================\n",
            "\n",
            "Número de ciclos de manutenção: 12 5\n",
            "Tempos para manutenções preventivas: [0, 5, 36, 65, 99, 142, 163, 288, 316, 378, 575, 636, 718]\n",
            "Severidade para cada subsistema: [0.5, 0.5, 0.5, 0.75, 0.5, 0.25, 0.75, 0.25, 0.5, 0.75, 0.25, 0.75]\n",
            "Número de Sisemas: 5\n",
            "Fator:  [0.06013123601935755, 0.14361699368653869, 0.14361699368653869, 0.14361699368653869, 0.20749490833922268, 0.14361699368653869, 0.07459035756403465, 0.20749490833922268, 0.07459035756403465, 0.14361699368653869, 0.20749490833922268, 0.07459035756403465, 0.20749490833922268]\n",
            "Media de falhas:  [0, 1.506344089548196e-14, 5.015903078194724e-06, 0.000873053027312846, 0.04978889189676901, 1.7161075590909918, 3.8697625396444097, 2424.9081813317243, 6885.952386404373, 18229.842323064724, 3382715.90589698, 6024627.889608238, 11312777.290076215, -9117804.395781253]\n",
            "Custo =  1193524344.9892113\n"
          ]
        },
        {
          "output_type": "stream",
          "name": "stderr",
          "text": [
            "\rpyswarms.single.global_best: 100%|██████████|1/1, best_cost=3.14e+8\n",
            "2023-10-03 17:32:02,770 - pyswarms.single.global_best - INFO - Optimization finished | best cost: 314309220.5012563, best pos: [3.17675    3.20693976 3.2186016  1.69572988 3.76070445 1.4479113\n",
            " 0.34207913 2.11451301 4.49400638 3.87137278 1.52430683 2.7969275\n",
            " 3.68803636 4.16247209 4.26754093 2.41922474 6.79179838 6.22333943\n",
            " 1.72320083 5.17577998 4.59330116 1.1979662  4.47501716 5.94318263]\n",
            "2023-10-03 17:32:02,772 - pyswarms.single.global_best - INFO - Optimize for 1 iters with {'c1': 0.5, 'c2': 0.3, 'w': 0.9}\n",
            "pyswarms.single.global_best:   0%|          |0/1, best_cost=3.14e+8"
          ]
        },
        {
          "output_type": "stream",
          "name": "stdout",
          "text": [
            "\n",
            "=========================================================================\n",
            "\n",
            "Número de ciclos de manutenção: 13 5\n",
            "Tempos para manutenções preventivas: [0, 5, 36, 64, 111, 142, 163, 192, 316, 378, 563, 575, 636, 718]\n",
            "Severidade para cada subsistema: [0.5, 0.5, 0.5, 0.25, 0.5, 0.25, 0.5, 0.25, 0.5, 0.75, 0.75, 0.25, 0.75]\n",
            "Número de Sisemas: 5\n",
            "Fator:  [0.06013123601935755, 0.14361699368653869, 0.14361699368653869, 0.14361699368653869, 0.07459035756403465, 0.14361699368653869, 0.07459035756403465, 0.14361699368653869, 0.07459035756403465, 0.14361699368653869, 0.20749490833922268, 0.20749490833922268, 0.07459035756403465, 0.20749490833922268]\n",
            "Media de falhas:  [0, 1.506344089548196e-14, 5.015903078194724e-06, 0.000738438434295033, 0.17571148510991397, 1.567023930781685, 9.169653310609103, 32.02981851770391, 8970.58912734889, 29743.746521690868, 2717870.9802799006, 2987421.597351884, 4369350.865804132, 9657500.266272109, -10773081.419585358]\n",
            "Custo =  1190746826.3612828\n"
          ]
        },
        {
          "output_type": "stream",
          "name": "stderr",
          "text": [
            "\rpyswarms.single.global_best: 100%|██████████|1/1, best_cost=3.14e+8\n",
            "2023-10-03 17:32:02,786 - pyswarms.single.global_best - INFO - Optimization finished | best cost: 314309220.5012563, best pos: [3.17675075 3.20693666 3.21860178 0.04956877 3.76085465 1.44800933\n",
            " 0.34207916 2.11449716 4.49396466 5.12715874 1.52429739 2.79690726\n",
            " 3.71262146 4.16246656 4.26754404 2.41917195 2.81301687 5.72516268\n",
            " 6.73407712 5.17578005 4.59329323 1.19796081 4.47501735 5.9431931 ]\n",
            "2023-10-03 17:32:02,788 - pyswarms.single.global_best - INFO - Optimize for 1 iters with {'c1': 0.5, 'c2': 0.3, 'w': 0.9}\n",
            "pyswarms.single.global_best: 100%|██████████|1/1, best_cost=3.14e+8\n",
            "2023-10-03 17:32:02,798 - pyswarms.single.global_best - INFO - Optimization finished | best cost: 314309220.5012563, best pos: [3.17675112 3.20690505 3.21860195 6.20018708 3.76103642 1.44813194\n",
            " 0.34207863 2.11450439 4.49395537 6.32157753 1.52429476 2.79686936\n",
            " 3.73467561 4.1624643  4.26754687 2.41912625 5.73881843 5.18124179\n",
            " 3.63210222 5.17578007 4.59328378 1.19795475 4.4750175  5.94320208]\n",
            "2023-10-03 17:32:02,799 - pyswarms.single.global_best - INFO - Optimize for 1 iters with {'c1': 0.5, 'c2': 0.3, 'w': 0.9}\n"
          ]
        },
        {
          "output_type": "stream",
          "name": "stdout",
          "text": [
            "\n",
            "=========================================================================\n",
            "\n",
            "Número de ciclos de manutenção: 12 5\n",
            "Tempos para manutenções preventivas: [0, 5, 36, 64, 92, 142, 163, 316, 378, 556, 575, 636, 718]\n",
            "Severidade para cada subsistema: [0.5, 0.5, 0.5, 0.75, 0.5, 0.25, 0.25, 0.5, 0.5, 0.75, 0.25, 0.75]\n",
            "Número de Sisemas: 5\n",
            "Fator:  [0.06013123601935755, 0.14361699368653869, 0.14361699368653869, 0.14361699368653869, 0.20749490833922268, 0.14361699368653869, 0.07459035756403465, 0.07459035756403465, 0.14361699368653869, 0.14361699368653869, 0.20749490833922268, 0.07459035756403465, 0.20749490833922268]\n",
            "Media de falhas:  [0, 1.506344089548196e-14, 5.015903078194724e-06, 0.000738438434295033, 0.022675873752102452, 1.8415312837312594, 3.995186264284677, 6619.849184410828, 44925.10780406902, 2396897.0827300306, 2805614.725058637, 5447526.708769895, 10735676.109237872, -9694905.576619595]\n",
            "Custo =  1265307164.9602199\n"
          ]
        },
        {
          "output_type": "stream",
          "name": "stderr",
          "text": [
            "pyswarms.single.global_best:   0%|          |0/1, best_cost=3.14e+8"
          ]
        },
        {
          "output_type": "stream",
          "name": "stdout",
          "text": [
            "\n",
            "=========================================================================\n",
            "\n",
            "Número de ciclos de manutenção: 14 5\n",
            "Tempos para manutenções preventivas: [0, 5, 36, 65, 96, 142, 163, 199, 288, 316, 378, 548, 575, 636, 718]\n",
            "Severidade para cada subsistema: [0.5, 0.5, 0.5, 0.25, 0.5, 0.25, 0.25, 0.25, 0.25, 0.5, 0.25, 0.75, 0.25, 0.75]\n",
            "Número de Sisemas: 5\n",
            "Fator:  [0.06013123601935755, 0.14361699368653869, 0.14361699368653869, 0.14361699368653869, 0.07459035756403465, 0.14361699368653869, 0.07459035756403465, 0.07459035756403465, 0.07459035756403465, 0.07459035756403465, 0.14361699368653869, 0.07459035756403465, 0.20749490833922268, 0.07459035756403465, 0.20749490833922268]\n",
            "Media de falhas:  [0, 1.506344089548196e-14, 5.015903078194724e-06, 0.000873053027312846, 0.0355775695433897, 1.7672679777635967, 9.369897357591014, 45.7345312916252, 3313.9488478417175, 7774.993052914366, 46080.25167257256, 2059874.0426559907, 2613384.6898845816, 7683120.377849516, 12971269.778317494, -7459311.907539973]\n",
            "Custo =  1415610433.7045097\n"
          ]
        },
        {
          "output_type": "stream",
          "name": "stderr",
          "text": [
            "\rpyswarms.single.global_best: 100%|██████████|1/1, best_cost=3.14e+8\n",
            "2023-10-03 17:32:02,814 - pyswarms.single.global_best - INFO - Optimization finished | best cost: 314309220.5012563, best pos: [3.17675115 3.20686212 3.21860209 4.75570993 3.76120551 1.44824569\n",
            " 0.34207793 2.11451131 4.49398102 0.33254964 1.52429784 2.79682653\n",
            " 3.75078788 4.16246799 4.26754917 2.41909421 1.65032454 4.64619275\n",
            " 0.80316252 5.17577997 4.59327482 1.1979489  4.47501753 5.94320439]\n",
            "2023-10-03 17:32:02,815 - pyswarms.single.global_best - INFO - Optimize for 1 iters with {'c1': 0.5, 'c2': 0.3, 'w': 0.9}\n",
            "pyswarms.single.global_best: 100%|██████████|1/1, best_cost=3.14e+8"
          ]
        },
        {
          "output_type": "stream",
          "name": "stdout",
          "text": [
            "\n",
            "=========================================================================\n",
            "\n",
            "Número de ciclos de manutenção: 12 5\n",
            "Tempos para manutenções preventivas: [0, 5, 36, 65, 142, 163, 283, 316, 379, 509, 575, 636, 718]\n",
            "Severidade para cada subsistema: [0.5, 0.5, 0.5, 0.5, 0.25, 0.5, 0.25, 0.5, 0.5, 0.75, 0.25, 0.75]\n",
            "Número de Sisemas: 5\n",
            "Fator:  [0.06013123601935755, 0.14361699368653869, 0.14361699368653869, 0.14361699368653869, 0.14361699368653869, 0.07459035756403465, 0.14361699368653869, 0.07459035756403465, 0.14361699368653869, 0.14361699368653869, 0.20749490833922268, 0.07459035756403465, 0.20749490833922268]\n",
            "Media de falhas:  [0, 1.506344089548196e-14, 5.015903078194724e-06, 0.000873053027312846, 2.4644404083022997, 6.500168414101209, 2006.9768950592288, 6976.133009370741, 28473.633252853328, 929095.0043875357, 2021866.015928085, 4663777.9996393435, 9951927.40010732, -10478654.285750147]\n",
            "Custo =  1219737184.9943862\n"
          ]
        },
        {
          "output_type": "stream",
          "name": "stderr",
          "text": [
            "\n",
            "2023-10-03 17:32:02,827 - pyswarms.single.global_best - INFO - Optimization finished | best cost: 314309220.5012563, best pos: [3.17675109 3.20681822 3.21860216 3.19551704 3.76134994 1.44834857\n",
            " 0.34207725 2.11453762 4.49401737 1.94004084 1.52430294 2.79678838\n",
            " 3.75464488 4.16248162 4.26755009 2.41906727 4.67502926 4.15479638\n",
            " 5.62796143 5.17577979 4.59326781 1.19794384 4.47501745 5.94320485]\n",
            "2023-10-03 17:32:02,829 - pyswarms.single.global_best - INFO - Optimize for 1 iters with {'c1': 0.5, 'c2': 0.3, 'w': 0.9}\n",
            "pyswarms.single.global_best: 100%|██████████|1/1, best_cost=3.14e+8\n",
            "2023-10-03 17:32:02,843 - pyswarms.single.global_best - INFO - Optimization finished | best cost: 314309220.5012563, best pos: [3.17675098 3.2067819  3.21860215 1.80784915 3.76147407 1.44843472\n",
            " 0.34207664 2.11458278 4.49410098 3.69777415 1.52430993 2.7967575\n",
            " 3.7576525  4.16250028 4.26755068 2.41906834 1.00033471 3.80909382\n",
            " 2.80629873 5.17577961 4.59326581 1.19793998 4.4750173  5.94320053]\n",
            "2023-10-03 17:32:02,844 - pyswarms.single.global_best - INFO - Optimize for 1 iters with {'c1': 0.5, 'c2': 0.3, 'w': 0.9}\n"
          ]
        },
        {
          "output_type": "stream",
          "name": "stdout",
          "text": [
            "\n",
            "=========================================================================\n",
            "\n",
            "Número de ciclos de manutenção: 12 5\n",
            "Tempos para manutenções preventivas: [0, 5, 36, 66, 142, 163, 283, 316, 380, 497, 575, 636, 718]\n",
            "Severidade para cada subsistema: [0.5, 0.5, 0.5, 0.5, 0.25, 0.75, 0.25, 0.5, 0.75, 0.75, 0.25, 0.75]\n",
            "Número de Sisemas: 5\n",
            "Fator:  [0.06013123601935755, 0.14361699368653869, 0.14361699368653869, 0.14361699368653869, 0.14361699368653869, 0.07459035756403465, 0.20749490833922268, 0.07459035756403465, 0.14361699368653869, 0.20749490833922268, 0.20749490833922268, 0.07459035756403465, 0.20749490833922268]\n",
            "Media de falhas:  [0, 1.506344089548196e-14, 5.015903078194724e-06, 0.001029471467596512, 2.4380274905059944, 6.4737554963049035, 2006.9504821414325, 6976.106596452944, 19158.254216174726, 707655.1515057514, 1925852.43217044, 3307781.700622688, 8595931.101090666, -11834650.584766801]\n",
            "Custo =  1128581974.9853487\n"
          ]
        },
        {
          "output_type": "stream",
          "name": "stderr",
          "text": [
            "pyswarms.single.global_best: 100%|██████████|1/1, best_cost=3.14e+8\n",
            "2023-10-03 17:32:02,856 - pyswarms.single.global_best - INFO - Optimization finished | best cost: 314309220.5012563, best pos: [3.17675076 3.20676069 3.21860214 0.28256247 3.76153382 1.44848154\n",
            " 0.34207627 2.114635   4.49422381 5.13079274 1.52431776 2.79674459\n",
            " 3.75860455 4.16251725 4.26755103 2.41910972 4.66223531 3.55864546\n",
            " 0.25969833 5.17577945 4.5932666  1.19793956 4.47501713 5.94319385]\n",
            "2023-10-03 17:32:02,857 - pyswarms.single.global_best - INFO - Optimize for 1 iters with {'c1': 0.5, 'c2': 0.3, 'w': 0.9}\n"
          ]
        },
        {
          "output_type": "stream",
          "name": "stdout",
          "text": [
            "\n",
            "=========================================================================\n",
            "\n",
            "Número de ciclos de manutenção: 12 5\n",
            "Tempos para manutenções preventivas: [0, 5, 36, 66, 100, 142, 163, 204, 315, 381, 575, 636, 718]\n",
            "Severidade para cada subsistema: [0.5, 0.5, 0.5, 0.75, 0.5, 0.25, 0.25, 0.25, 0.5, 0.75, 0.25, 0.75]\n",
            "Número de Sisemas: 5\n",
            "Fator:  [0.06013123601935755, 0.14361699368653869, 0.14361699368653869, 0.14361699368653869, 0.20749490833922268, 0.14361699368653869, 0.07459035756403465, 0.07459035756403465, 0.07459035756403465, 0.14361699368653869, 0.20749490833922268, 0.07459035756403465, 0.20749490833922268]\n",
            "Media de falhas:  [0, 1.506344089548196e-14, 5.015903078194724e-06, 0.001029471467596512, 0.05478701737039059, 1.699211187572253, 3.8528661681256713, 53.30721797585976, 8406.231415280887, 50958.96740142403, 3398331.3335967325, 6040243.31730799, 11328392.717775967, -9102188.9680815]\n",
            "Custo =  1195665945.9556355\n"
          ]
        },
        {
          "output_type": "stream",
          "name": "stderr",
          "text": [
            "pyswarms.single.global_best: 100%|██████████|1/1, best_cost=3.14e+8"
          ]
        },
        {
          "output_type": "stream",
          "name": "stdout",
          "text": [
            "\n",
            "=========================================================================\n",
            "\n",
            "Número de ciclos de manutenção: 11 5\n",
            "Tempos para manutenções preventivas: [0, 5, 36, 67, 142, 163, 276, 315, 381, 575, 635, 718]\n",
            "Severidade para cada subsistema: [0.5, 0.5, 0.5, 0.5, 0.25, 0.5, 0.25, 0.5, 0.75, 0.25, 0.75]\n",
            "Número de Sisemas: 5\n",
            "Fator:  [0.06013123601935755, 0.14361699368653869, 0.14361699368653869, 0.14361699368653869, 0.14361699368653869, 0.07459035756403465, 0.14361699368653869, 0.07459035756403465, 0.14361699368653869, 0.20749490833922268, 0.07459035756403465, 0.20749490833922268]\n",
            "Media de falhas:  [0, 1.506344089548196e-14, 5.015903078194724e-06, 0.0012107775295020866, 2.411886035796847, 6.447614041595756, 1528.178816767707, 6866.669102221362, 30078.683174197584, 3377451.049369506, 5950688.530434602, 11286431.409443116, -9144150.276414352]\n",
            "Custo =  1192284060.7335756\n"
          ]
        },
        {
          "output_type": "stream",
          "name": "stderr",
          "text": [
            "\n",
            "2023-10-03 17:32:02,872 - pyswarms.single.global_best - INFO - Optimization finished | best cost: 314309220.5012563, best pos: [3.17675054 3.20676155 3.21860206 6.02138816 3.76148174 1.44849247\n",
            " 0.34207595 2.1146821  4.4943437  6.03724462 1.5243249  2.79675324\n",
            " 3.75721869 4.16253145 4.26755122 2.41917812 1.10406265 3.54509087\n",
            " 5.38679224 5.17577934 4.59327113 1.19794184 4.47501695 5.94317965]\n",
            "2023-10-03 17:32:02,874 - pyswarms.single.global_best - INFO - Optimize for 1 iters with {'c1': 0.5, 'c2': 0.3, 'w': 0.9}\n",
            "pyswarms.single.global_best: 100%|██████████|1/1, best_cost=3.14e+8\n",
            "2023-10-03 17:32:02,884 - pyswarms.single.global_best - INFO - Optimization finished | best cost: 314309220.5012563, best pos: [3.1767503  3.20676299 3.21860196 4.31194911 3.76133603 1.44846867\n",
            " 0.34207592 2.11471863 4.49444263 6.99795012 1.52433008 2.79678436\n",
            " 3.7478964  4.16254088 4.26755033 2.41924914 4.85032522 3.75206012\n",
            " 2.99884246 5.17577929 4.59327836 1.19794586 4.47501679 5.94316461]\n",
            "2023-10-03 17:32:02,885 - pyswarms.single.global_best - INFO - Optimize for 1 iters with {'c1': 0.5, 'c2': 0.3, 'w': 0.9}\n"
          ]
        },
        {
          "output_type": "stream",
          "name": "stdout",
          "text": [
            "\n",
            "=========================================================================\n",
            "\n",
            "Número de ciclos de manutenção: 13 5\n",
            "Tempos para manutenções preventivas: [0, 5, 36, 67, 142, 163, 289, 315, 382, 480, 562, 575, 635, 718]\n",
            "Severidade para cada subsistema: [0.5, 0.5, 0.5, 0.5, 0.25, 0.75, 0.25, 0.5, 0.75, 0.75, 0.75, 0.25, 0.75]\n",
            "Número de Sisemas: 5\n",
            "Fator:  [0.06013123601935755, 0.14361699368653869, 0.14361699368653869, 0.14361699368653869, 0.14361699368653869, 0.07459035756403465, 0.20749490833922268, 0.07459035756403465, 0.14361699368653869, 0.20749490833922268, 0.20749490833922268, 0.20749490833922268, 0.07459035756403465, 0.20749490833922268]\n",
            "Media de falhas:  [0, 1.506344089548196e-14, 5.015903078194724e-06, 0.0012107775295020866, 2.411886035796847, 6.447614041595756, 2520.555710263733, 6636.510636149911, 19844.832471937334, 479260.2911535833, 1493919.0580446604, 1640004.7261128328, 2984897.522270117, 8320640.401278631, -12109941.284578837]\n",
            "Custo =  1154067680.566724\n"
          ]
        },
        {
          "output_type": "stream",
          "name": "stderr",
          "text": [
            "pyswarms.single.global_best:   0%|          |0/1, best_cost=3.14e+8"
          ]
        },
        {
          "output_type": "stream",
          "name": "stdout",
          "text": [
            "\n",
            "=========================================================================\n",
            "\n",
            "Número de ciclos de manutenção: 12 5\n",
            "Tempos para manutenções preventivas: [0, 5, 36, 67, 94, 142, 163, 190, 315, 382, 575, 635, 718]\n",
            "Severidade para cada subsistema: [0.5, 0.5, 0.5, 0.5, 0.5, 0.25, 0.25, 0.25, 0.5, 0.75, 0.25, 0.75]\n",
            "Número de Sisemas: 5\n",
            "Fator:  [0.06013123601935755, 0.14361699368653869, 0.14361699368653869, 0.14361699368653869, 0.14361699368653869, 0.14361699368653869, 0.07459035756403465, 0.07459035756403465, 0.07459035756403465, 0.14361699368653869, 0.20749490833922268, 0.07459035756403465, 0.20749490833922268]\n",
            "Media de falhas:  [0, 1.506344089548196e-14, 5.015903078194724e-06, 0.0012107775295020866, 0.0275343280773082, 1.802747795871491, 5.8384758016704, 25.671182351244113, 8718.982688582773, 52655.38621886876, 3394282.5992548782, 5967520.080319975, 11303262.959328488, -9127318.72652898]\n",
            "Custo =  1193418800.8008156\n"
          ]
        },
        {
          "output_type": "stream",
          "name": "stderr",
          "text": [
            "\rpyswarms.single.global_best: 100%|██████████|1/1, best_cost=3.14e+8\n",
            "2023-10-03 17:32:02,901 - pyswarms.single.global_best - INFO - Optimization finished | best cost: 314309220.5012563, best pos: [3.17674998 3.20676777 3.21860187 2.19886146 3.76118641 1.44841056\n",
            " 0.34207617 2.1147307  4.49451878 1.03715775 1.52433179 2.79681749\n",
            " 3.73469738 4.16254718 4.26754831 2.41931388 0.81151157 3.95344047\n",
            " 0.71871798 5.17577928 4.59328547 1.19795044 4.47501666 5.94315103]\n",
            "2023-10-03 17:32:02,902 - pyswarms.single.global_best - INFO - Optimize for 1 iters with {'c1': 0.5, 'c2': 0.3, 'w': 0.9}\n",
            "pyswarms.single.global_best: 100%|██████████|1/1, best_cost=3.14e+8\n",
            "2023-10-03 17:32:02,913 - pyswarms.single.global_best - INFO - Optimization finished | best cost: 314309220.5012563, best pos: [3.17674965 3.20678773 3.21860178 0.35052604 3.76102715 1.44832394\n",
            " 0.34207653 2.11471993 4.49455462 2.61690924 1.52433304 2.79684894\n",
            " 3.71581585 4.16254849 4.26754573 2.41936766 3.96435485 4.29139234\n",
            " 5.79032703 5.17577932 4.59329101 1.19795459 4.47501657 5.94314187]\n",
            "2023-10-03 17:32:02,915 - pyswarms.single.global_best - INFO - Optimize for 1 iters with {'c1': 0.5, 'c2': 0.3, 'w': 0.9}\n"
          ]
        },
        {
          "output_type": "stream",
          "name": "stdout",
          "text": [
            "\n",
            "=========================================================================\n",
            "\n",
            "Número de ciclos de manutenção: 12 5\n",
            "Tempos para manutenções preventivas: [0, 5, 36, 67, 142, 163, 185, 315, 382, 491, 575, 635, 718]\n",
            "Severidade para cada subsistema: [0.5, 0.5, 0.5, 0.5, 0.25, 0.5, 0.25, 0.5, 0.5, 0.75, 0.25, 0.75]\n",
            "Número de Sisemas: 5\n",
            "Fator:  [0.06013123601935755, 0.14361699368653869, 0.14361699368653869, 0.14361699368653869, 0.14361699368653869, 0.07459035756403465, 0.14361699368653869, 0.07459035756403465, 0.14361699368653869, 0.14361699368653869, 0.20749490833922268, 0.07459035756403465, 0.20749490833922268]\n",
            "Media de falhas:  [0, 1.506344089548196e-14, 5.015903078194724e-06, 0.0012107775295020866, 2.411886035796847, 6.447614041595756, 20.004088340904694, 8831.6051343449, 32831.73069479671, 628918.5253003277, 1904757.2806312314, 4477994.7616963275, 9813737.64070484, -10616844.045152627]\n",
            "Custo =  1205593513.8474019\n"
          ]
        },
        {
          "output_type": "stream",
          "name": "stderr",
          "text": [
            "pyswarms.single.global_best: 100%|██████████|1/1, best_cost=3.14e+8\n",
            "2023-10-03 17:32:02,931 - pyswarms.single.global_best - INFO - Optimization finished | best cost: 314309220.5012563, best pos: [3.17674932 3.20681357 3.2186017  5.99132866 3.76088651 1.4482443\n",
            " 0.34207689 2.11470923 4.49453186 4.31277952 1.52433369 2.79687594\n",
            " 3.698305   4.16254198 4.26754301 2.41938512 0.46383771 4.61620194\n",
            " 3.41937254 5.17577945 4.59329557 1.19795826 4.47501656 5.94313387]\n",
            "2023-10-03 17:32:02,933 - pyswarms.single.global_best - INFO - Optimize for 1 iters with {'c1': 0.5, 'c2': 0.3, 'w': 0.9}\n"
          ]
        },
        {
          "output_type": "stream",
          "name": "stdout",
          "text": [
            "\n",
            "=========================================================================\n",
            "\n",
            "Número de ciclos de manutenção: 13 5\n",
            "Tempos para manutenções preventivas: [0, 5, 36, 67, 117, 142, 163, 188, 315, 382, 503, 575, 635, 718]\n",
            "Severidade para cada subsistema: [0.5, 0.5, 0.5, 0.5, 0.5, 0.25, 0.75, 0.25, 0.5, 0.75, 0.75, 0.25, 0.75]\n",
            "Número de Sisemas: 5\n",
            "Fator:  [0.06013123601935755, 0.14361699368653869, 0.14361699368653869, 0.14361699368653869, 0.14361699368653869, 0.14361699368653869, 0.07459035756403465, 0.20749490833922268, 0.07459035756403465, 0.14361699368653869, 0.20749490833922268, 0.20749490833922268, 0.07459035756403465, 0.20749490833922268]\n",
            "Media de falhas:  [0, 1.506344089548196e-14, 5.015903078194724e-06, 0.0012107775295020866, 0.2990225360456594, 1.5312852497710319, 5.5670132555699405, 22.681745789393773, 8763.441074787333, 21971.762910574755, 804491.0301632866, 1961789.810534766, 3306682.60669205, 8642425.485700564, -11788156.200156903]\n",
            "Custo =  1130598503.192623\n"
          ]
        },
        {
          "output_type": "stream",
          "name": "stderr",
          "text": [
            "pyswarms.single.global_best: 100%|██████████|1/1, best_cost=3.14e+8"
          ]
        },
        {
          "output_type": "stream",
          "name": "stdout",
          "text": [
            "\n",
            "=========================================================================\n",
            "\n",
            "Número de ciclos de manutenção: 10 5\n",
            "Tempos para manutenções preventivas: [0, 5, 36, 66, 142, 163, 315, 381, 575, 635, 718]\n",
            "Severidade para cada subsistema: [0.5, 0.5, 0.5, 0.5, 0.25, 0.25, 0.5, 0.75, 0.25, 0.75]\n",
            "Número de Sisemas: 5\n",
            "Fator:  [0.06013123601935755, 0.14361699368653869, 0.14361699368653869, 0.14361699368653869, 0.14361699368653869, 0.07459035756403465, 0.07459035756403465, 0.14361699368653869, 0.20749490833922268, 0.07459035756403465, 0.20749490833922268]\n",
            "Media de falhas:  [0, 1.506344089548196e-14, 5.015903078194724e-06, 0.001029471467596512, 2.4380274905059944, 6.4737554963049035, 6399.894297858807, 48952.63028400195, 3396324.9964793106, 5969562.477544406, 11305305.356552921, -9125276.329304546]\n",
            "Custo =  1193022999.3023112\n"
          ]
        },
        {
          "output_type": "stream",
          "name": "stderr",
          "text": [
            "\n",
            "2023-10-03 17:32:02,945 - pyswarms.single.global_best - INFO - Optimization finished | best cost: 314309220.5012563, best pos: [3.17674902 3.2068378  3.21860165 4.13473038 3.76079514 1.44817357\n",
            " 0.34207724 2.11467855 4.49444489 5.61023481 1.5243342  2.79688989\n",
            " 3.68260116 4.1625352  4.26754073 2.41937012 4.24248737 4.90420309\n",
            " 1.16896306 5.17577956 4.59329936 1.19796136 4.47501656 5.94313483]\n",
            "2023-10-03 17:32:02,947 - pyswarms.single.global_best - INFO - Optimize for 1 iters with {'c1': 0.5, 'c2': 0.3, 'w': 0.9}\n",
            "pyswarms.single.global_best: 100%|██████████|1/1, best_cost=3.14e+8\n",
            "2023-10-03 17:32:02,964 - pyswarms.single.global_best - INFO - Optimization finished | best cost: 314309220.5012563, best pos: [3.17674875 3.20685924 3.21860164 2.17352016 3.7607331  1.44811567\n",
            " 0.34207756 2.11463916 4.49434117 0.14266227 1.52433182 2.79689222\n",
            " 3.67470861 4.1625217  4.26753897 2.41933236 1.27711958 5.10206491\n",
            " 6.26809983 5.17577967 4.59329781 1.19796236 4.47501666 5.94313788]\n",
            "2023-10-03 17:32:02,966 - pyswarms.single.global_best - INFO - Optimize for 1 iters with {'c1': 0.5, 'c2': 0.3, 'w': 0.9}\n"
          ]
        },
        {
          "output_type": "stream",
          "name": "stdout",
          "text": [
            "\n",
            "=========================================================================\n",
            "\n",
            "Número de ciclos de manutenção: 13 5\n",
            "Tempos para manutenções preventivas: [0, 5, 36, 66, 142, 163, 195, 315, 381, 507, 541, 575, 635, 718]\n",
            "Severidade para cada subsistema: [0.5, 0.5, 0.5, 0.5, 0.25, 0.5, 0.25, 0.5, 0.25, 0.75, 0.75, 0.25, 0.75]\n",
            "Número de Sisemas: 5\n",
            "Fator:  [0.06013123601935755, 0.14361699368653869, 0.14361699368653869, 0.14361699368653869, 0.14361699368653869, 0.07459035756403465, 0.14361699368653869, 0.07459035756403465, 0.14361699368653869, 0.07459035756403465, 0.20749490833922268, 0.20749490833922268, 0.07459035756403465, 0.20749490833922268]\n",
            "Media de falhas:  [0, 1.506344089548196e-14, 5.015903078194724e-06, 0.001029471467596512, 2.4380274905059944, 6.4737554963049035, 34.52377520650019, 8608.194608028676, 31820.208680004896, 889094.5302095731, 1271334.6760045358, 2579518.5479836916, 3924411.3441409757, 9260154.22314949, -11170427.462707978]\n",
            "Custo =  1267153509.207233\n"
          ]
        },
        {
          "output_type": "stream",
          "name": "stderr",
          "text": [
            "pyswarms.single.global_best:   0%|          |0/1, best_cost=3.14e+8"
          ]
        },
        {
          "output_type": "stream",
          "name": "stdout",
          "text": [
            "\n",
            "=========================================================================\n",
            "\n",
            "Número de ciclos de manutenção: 13 5\n",
            "Tempos para manutenções preventivas: [0, 5, 36, 66, 119, 142, 163, 315, 380, 505, 544, 575, 635, 718]\n",
            "Severidade para cada subsistema: [0.5, 0.5, 0.5, 0.25, 0.5, 0.25, 0.25, 0.5, 0.5, 0.5, 0.75, 0.25, 0.75]\n",
            "Número de Sisemas: 5\n",
            "Fator:  [0.06013123601935755, 0.14361699368653869, 0.14361699368653869, 0.14361699368653869, 0.07459035756403465, 0.14361699368653869, 0.07459035756403465, 0.07459035756403465, 0.14361699368653869, 0.14361699368653869, 0.14361699368653869, 0.20749490833922268, 0.07459035756403465, 0.20749490833922268]\n",
            "Media de falhas:  [0, 1.506344089548196e-14, 5.015903078194724e-06, 0.001029471467596512, 0.3640129160174636, 1.5373863600655016, 9.14001573989292, 6402.560558102395, 47605.9632369005, 870487.4845822019, 1318187.6252928856, 1938916.270779205, 4512153.751844301, 9847896.630852815, -10582685.055004653]\n",
            "Custo =  1276307245.6521907\n"
          ]
        },
        {
          "output_type": "stream",
          "name": "stderr",
          "text": [
            "\rpyswarms.single.global_best: 100%|██████████|1/1, best_cost=3.14e+8\n",
            "2023-10-03 17:32:03,004 - pyswarms.single.global_best - INFO - Optimization finished | best cost: 314309220.5012563, best pos: [3.17674853 3.20687765 3.21860165 6.97811415 3.76077398 1.44807998\n",
            " 0.34207783 2.11460355 4.49422975 2.23387982 1.52432919 2.79688332\n",
            " 3.66994142 4.16250813 4.26753778 2.41927624 5.55971176 5.15870593\n",
            " 3.99010203 5.17577976 4.5932928  1.19796201 4.47501675 5.94314305]\n",
            "2023-10-03 17:32:03,008 - pyswarms.single.global_best - INFO - Optimize for 1 iters with {'c1': 0.5, 'c2': 0.3, 'w': 0.9}\n",
            "pyswarms.single.global_best: 100%|██████████|1/1, best_cost=3.14e+8\n",
            "2023-10-03 17:32:03,036 - pyswarms.single.global_best - INFO - Optimization finished | best cost: 314309220.5012563, best pos: [3.17674836 3.20688717 3.21860166 4.23018354 3.76085906 1.44806013\n",
            " 0.34207795 2.11457359 4.49413311 4.80651619 1.52432394 2.79687208\n",
            " 3.6765517  4.16249597 4.26753765 2.41922218 2.39984799 5.12408136\n",
            " 1.90851329 5.17577984 4.59328587 1.19796012 4.47501686 5.9431499 ]\n"
          ]
        },
        {
          "output_type": "stream",
          "name": "stdout",
          "text": [
            "\n",
            "=========================================================================\n",
            "\n",
            "Número de ciclos de manutenção: 15 5\n",
            "Tempos para manutenções preventivas: [0, 5, 36, 66, 115, 142, 163, 209, 291, 315, 380, 492, 552, 575, 635, 718]\n",
            "Severidade para cada subsistema: [0.5, 0.5, 0.5, 0.75, 0.5, 0.25, 0.25, 0.25, 0.25, 0.5, 0.75, 0.25, 0.75, 0.25, 0.75]\n",
            "Número de Sisemas: 5\n",
            "Fator:  [0.06013123601935755, 0.14361699368653869, 0.14361699368653869, 0.14361699368653869, 0.20749490833922268, 0.14361699368653869, 0.07459035756403465, 0.07459035756403465, 0.07459035756403465, 0.07459035756403465, 0.14361699368653869, 0.20749490833922268, 0.07459035756403465, 0.20749490833922268, 0.07459035756403465, 0.20749490833922268]\n",
            "Media de falhas:  [0, 1.506344089548196e-14, 5.015903078194724e-06, 0.001029471467596512, 0.25124315581500195, 1.5391241215790463, 3.692779102132464, 69.931185958244, 3582.046860155414, 7471.109581704483, 48674.51226050259, 663043.098951135, 1363792.611421117, 1608913.9110739762, 6550638.842012996, 11886381.72102151, -8544199.964835957]\n",
            "Custo =  1393806792.6665282\n"
          ]
        },
        {
          "output_type": "stream",
          "name": "stderr",
          "text": [
            "2023-10-03 17:32:03,051 - pyswarms.single.global_best - INFO - Optimize for 1 iters with {'c1': 0.5, 'c2': 0.3, 'w': 0.9}\n",
            "pyswarms.single.global_best:   0%|          |0/1, best_cost=3.14e+8"
          ]
        },
        {
          "output_type": "stream",
          "name": "stdout",
          "text": [
            "\n",
            "=========================================================================\n",
            "\n",
            "Número de ciclos de manutenção: 11 5\n",
            "Tempos para manutenções preventivas: [0, 5, 36, 66, 142, 163, 281, 316, 380, 575, 635, 718]\n",
            "Severidade para cada subsistema: [0.5, 0.5, 0.5, 0.5, 0.25, 0.5, 0.25, 0.5, 0.75, 0.25, 0.75]\n",
            "Número de Sisemas: 5\n",
            "Fator:  [0.06013123601935755, 0.14361699368653869, 0.14361699368653869, 0.14361699368653869, 0.14361699368653869, 0.07459035756403465, 0.14361699368653869, 0.07459035756403465, 0.14361699368653869, 0.20749490833922268, 0.07459035756403465, 0.20749490833922268]\n",
            "Media de falhas:  [0, 1.506344089548196e-14, 5.015903078194724e-06, 0.001029471467596512, 2.4380274905059944, 6.4737554963049035, 1857.9986712730076, 7013.0244041679025, 29254.63615256061, 3382351.495040493, 5955588.976105589, 11291331.855114102, -9139249.830743365]\n",
            "Custo =  1192081374.342565\n"
          ]
        },
        {
          "output_type": "stream",
          "name": "stderr",
          "text": [
            "\rpyswarms.single.global_best: 100%|██████████|1/1, best_cost=3.14e+8\n",
            "2023-10-03 17:32:03,092 - pyswarms.single.global_best - INFO - Optimization finished | best cost: 314309220.5012563, best pos: [3.17674838 3.20688944 3.21860172 1.13581808 3.76098899 1.44806901\n",
            " 0.34207801 2.11456542 4.49405291 0.43036396 1.52431845 2.79685951\n",
            " 3.68385507 4.16248809 4.26753818 2.41918152 6.54704937 4.94524205\n",
            " 0.08175806 5.17577989 4.59327916 1.19795727 4.47501698 5.94315737]\n",
            "2023-10-03 17:32:03,106 - pyswarms.single.global_best - INFO - Optimize for 1 iters with {'c1': 0.5, 'c2': 0.3, 'w': 0.9}\n",
            "pyswarms.single.global_best: 100%|██████████|1/1, best_cost=3.14e+8\n",
            "2023-10-03 17:32:03,136 - pyswarms.single.global_best - INFO - Optimization finished | best cost: 314309220.5012563, best pos: [3.17674856 3.20687748 3.21860179 5.59791836 3.76113165 1.44808626\n",
            " 0.34207806 2.11456266 4.49399533 3.4704179  1.52431352 2.79684539\n",
            " 3.69103998 4.16248486 4.26754016 2.41915131 2.50150475 4.7029005\n",
            " 5.75633481 5.17577992 4.59327313 1.19795464 4.47501708 5.943165  ]\n"
          ]
        },
        {
          "output_type": "stream",
          "name": "stdout",
          "text": [
            "\n",
            "=========================================================================\n",
            "\n",
            "Número de ciclos de manutenção: 10 5\n",
            "Tempos para manutenções preventivas: [0, 5, 36, 66, 142, 163, 316, 379, 575, 635, 718]\n",
            "Severidade para cada subsistema: [0.5, 0.5, 0.5, 0.5, 0.25, 0.25, 0.5, 0.75, 0.25, 0.75]\n",
            "Número de Sisemas: 5\n",
            "Fator:  [0.06013123601935755, 0.14361699368653869, 0.14361699368653869, 0.14361699368653869, 0.14361699368653869, 0.07459035756403465, 0.07459035756403465, 0.14361699368653869, 0.20749490833922268, 0.07459035756403465, 0.20749490833922268]\n",
            "Media de falhas:  [0, 1.506344089548196e-14, 5.015903078194724e-06, 0.001029471467596512, 2.4380274905059944, 6.4737554963049035, 6622.327753642848, 46208.094760679414, 3405009.338535964, 5978246.81960106, 11313989.698609574, -9116591.987247894]\n",
            "Custo =  1192491122.6282244\n"
          ]
        },
        {
          "output_type": "stream",
          "name": "stderr",
          "text": [
            "2023-10-03 17:32:03,142 - pyswarms.single.global_best - INFO - Optimize for 1 iters with {'c1': 0.5, 'c2': 0.3, 'w': 0.9}\n",
            "pyswarms.single.global_best: 100%|██████████|1/1, best_cost=3.14e+8\n",
            "2023-10-03 17:32:03,177 - pyswarms.single.global_best - INFO - Optimization finished | best cost: 314309220.5012563, best pos: [3.17674884 3.20685552 3.21860186 2.83159263 3.76124918 1.44810338\n",
            " 0.34207802 2.11457593 4.49397593 6.15942034 1.52431036 2.79683049\n",
            " 3.70110661 4.16248256 4.26754221 2.41915382 5.81541771 4.46707905\n",
            " 4.17014767 5.17577988 4.59326776 1.19795192 4.47501716 5.94317144]\n",
            "2023-10-03 17:32:03,179 - pyswarms.single.global_best - INFO - Optimize for 1 iters with {'c1': 0.5, 'c2': 0.3, 'w': 0.9}\n"
          ]
        },
        {
          "output_type": "stream",
          "name": "stdout",
          "text": [
            "\n",
            "=========================================================================\n",
            "\n",
            "Número de ciclos de manutenção: 13 5\n",
            "Tempos para manutenções preventivas: [0, 5, 36, 66, 100, 142, 163, 316, 379, 493, 557, 575, 636, 718]\n",
            "Severidade para cada subsistema: [0.5, 0.5, 0.5, 0.5, 0.5, 0.25, 0.25, 0.5, 0.25, 0.75, 0.75, 0.25, 0.75]\n",
            "Número de Sisemas: 5\n",
            "Fator:  [0.06013123601935755, 0.14361699368653869, 0.14361699368653869, 0.14361699368653869, 0.14361699368653869, 0.14361699368653869, 0.07459035756403465, 0.07459035756403465, 0.14361699368653869, 0.07459035756403465, 0.20749490833922268, 0.20749490833922268, 0.07459035756403465, 0.20749490833922268]\n",
            "Media de falhas:  [0, 1.506344089548196e-14, 5.015903078194724e-06, 0.001029471467596512, 0.05478701737039059, 1.699211187572253, 5.7349391933711615, 6621.588937339914, 46207.355944376475, 676987.4166890448, 1473031.4587762614, 2244606.3232550593, 3626535.5917073074, 8914684.992175285, -11515896.693682183]\n",
            "Custo =  1287175051.9231415\n"
          ]
        },
        {
          "output_type": "stream",
          "name": "stderr",
          "text": [
            "pyswarms.single.global_best: 100%|██████████|1/1, best_cost=3.14e+8"
          ]
        },
        {
          "output_type": "stream",
          "name": "stdout",
          "text": [
            "\n",
            "=========================================================================\n",
            "\n",
            "Número de ciclos de manutenção: 11 5\n",
            "Tempos para manutenções preventivas: [0, 5, 36, 66, 142, 163, 316, 379, 480, 575, 636, 718]\n",
            "Severidade para cada subsistema: [0.5, 0.5, 0.5, 0.5, 0.25, 0.25, 0.5, 0.5, 0.75, 0.25, 0.75]\n",
            "Número de Sisemas: 5\n",
            "Fator:  [0.06013123601935755, 0.14361699368653869, 0.14361699368653869, 0.14361699368653869, 0.14361699368653869, 0.07459035756403465, 0.07459035756403465, 0.14361699368653869, 0.14361699368653869, 0.20749490833922268, 0.07459035756403465, 0.20749490833922268]\n",
            "Media de falhas:  [0, 1.506344089548196e-14, 5.015903078194724e-06, 0.001029471467596512, 2.4380274905059944, 6.4737554963049035, 6622.327753642848, 46208.094760679414, 511428.9851480177, 1885602.6320503878, 4527514.615761646, 9815664.016229624, -10614917.669627843]\n",
            "Custo =  1202734034.0093338\n"
          ]
        },
        {
          "output_type": "stream",
          "name": "stderr",
          "text": [
            "\n",
            "2023-10-03 17:32:03,216 - pyswarms.single.global_best - INFO - Optimization finished | best cost: 314309220.5012563, best pos: [3.17674912 3.20683486 3.21860192 0.16966655 3.76133411 1.44814517\n",
            " 0.34207788 2.11460315 4.49396671 2.10101823 1.5243096  2.79681831\n",
            " 3.71091534 4.16248587 4.26754468 2.41916431 0.95481863 4.28041682\n",
            " 2.48484942 5.17577979 4.59326497 1.19794964 4.47501717 5.94317504]\n",
            "2023-10-03 17:32:03,218 - pyswarms.single.global_best - INFO - Optimize for 1 iters with {'c1': 0.5, 'c2': 0.3, 'w': 0.9}\n",
            "pyswarms.single.global_best: 100%|██████████|1/1, best_cost=3.14e+8\n",
            "2023-10-03 17:32:03,247 - pyswarms.single.global_best - INFO - Optimization finished | best cost: 314309220.5012563, best pos: [3.17674938 3.20681546 3.21860196 5.76991301 3.76134956 1.44820774\n",
            " 0.3420777  2.11463401 4.49401516 4.89750746 1.52430934 2.79681109\n",
            " 3.719271   4.16249308 4.26754682 2.41917453 3.40482396 4.20364659\n",
            " 0.91966957 5.17577968 4.59326353 1.19794801 4.47501717 5.94317578]\n",
            "2023-10-03 17:32:03,255 - pyswarms.single.global_best - INFO - Optimize for 1 iters with {'c1': 0.5, 'c2': 0.3, 'w': 0.9}\n"
          ]
        },
        {
          "output_type": "stream",
          "name": "stdout",
          "text": [
            "\n",
            "=========================================================================\n",
            "\n",
            "Número de ciclos de manutenção: 13 5\n",
            "Tempos para manutenções preventivas: [0, 5, 36, 66, 102, 142, 163, 288, 316, 380, 547, 575, 636, 718]\n",
            "Severidade para cada subsistema: [0.5, 0.5, 0.5, 0.75, 0.5, 0.25, 0.25, 0.25, 0.5, 0.5, 0.75, 0.25, 0.75]\n",
            "Número de Sisemas: 5\n",
            "Fator:  [0.06013123601935755, 0.14361699368653869, 0.14361699368653869, 0.14361699368653869, 0.20749490833922268, 0.14361699368653869, 0.07459035756403465, 0.07459035756403465, 0.07459035756403465, 0.14361699368653869, 0.14361699368653869, 0.20749490833922268, 0.07459035756403465, 0.20749490833922268]\n",
            "Media de falhas:  [0, 1.506344089548196e-14, 5.015903078194724e-06, 0.001029471467596512, 0.0680128822433488, 1.6683545141819556, 3.8220094947353735, 2424.8604282868155, 6885.904633359464, 47784.955585255535, 2014581.9845735016, 2585206.0567887346, 5227118.040499993, 10515267.44096797, -9915314.244889498]\n",
            "Custo =  1255661168.541232\n"
          ]
        },
        {
          "output_type": "stream",
          "name": "stderr",
          "text": [
            "pyswarms.single.global_best: 100%|██████████|1/1, best_cost=3.14e+8\n",
            "2023-10-03 17:32:03,275 - pyswarms.single.global_best - INFO - Optimization finished | best cost: 314309220.5012563, best pos: [3.17674957 3.2068001  3.21860197 3.8912783  3.76129037 1.44827071\n",
            " 0.34207743 2.11466195 4.4940962  6.8131878  1.52431136 2.79680933\n",
            " 3.72452583 4.16250432 4.26754804 2.41918971 5.87064436 4.16104504\n",
            " 6.73356794 5.17577959 4.59326234 1.19794657 4.47501716 5.94317602]\n",
            "2023-10-03 17:32:03,276 - pyswarms.single.global_best - INFO - Optimize for 1 iters with {'c1': 0.5, 'c2': 0.3, 'w': 0.9}\n"
          ]
        },
        {
          "output_type": "stream",
          "name": "stdout",
          "text": [
            "\n",
            "=========================================================================\n",
            "\n",
            "Número de ciclos de manutenção: 13 5\n",
            "Tempos para manutenções preventivas: [0, 5, 36, 66, 142, 163, 194, 276, 316, 380, 562, 575, 636, 718]\n",
            "Severidade para cada subsistema: [0.5, 0.5, 0.5, 0.5, 0.25, 0.5, 0.5, 0.25, 0.5, 0.25, 0.75, 0.25, 0.75]\n",
            "Número de Sisemas: 5\n",
            "Fator:  [0.06013123601935755, 0.14361699368653869, 0.14361699368653869, 0.14361699368653869, 0.14361699368653869, 0.07459035756403465, 0.14361699368653869, 0.14361699368653869, 0.07459035756403465, 0.14361699368653869, 0.07459035756403465, 0.20749490833922268, 0.07459035756403465, 0.20749490833922268]\n",
            "Media de falhas:  [0, 1.506344089548196e-14, 5.015903078194724e-06, 0.001029471467596512, 2.4380274905059944, 6.4737554963049035, 32.70179327695161, 2141.3791459447402, 5100.069758984906, 27341.681507377616, 2655391.8501174795, 2945587.2144615375, 8015322.902426472, 13303472.30289445, -7127109.382963017]\n",
            "Custo =  1431808134.0704992\n"
          ]
        },
        {
          "output_type": "stream",
          "name": "stderr",
          "text": [
            "pyswarms.single.global_best: 100%|██████████|1/1, best_cost=3.14e+8\n",
            "2023-10-03 17:32:03,304 - pyswarms.single.global_best - INFO - Optimization finished | best cost: 314309220.5012563, best pos: [3.17674965 3.20679123 3.21860197 1.57058309 3.76117816 1.44832491\n",
            " 0.34207714 2.11468422 4.49417652 1.97401245 1.52431471 2.79680886\n",
            " 3.72807456 4.1625158  4.26754873 2.41921628 1.13354364 4.1716609\n",
            " 5.21681361 5.17577951 4.59326537 1.19794717 4.47501709 5.94317291]\n",
            "2023-10-03 17:32:03,305 - pyswarms.single.global_best - INFO - Optimize for 1 iters with {'c1': 0.5, 'c2': 0.3, 'w': 0.9}\n"
          ]
        },
        {
          "output_type": "stream",
          "name": "stdout",
          "text": [
            "\n",
            "=========================================================================\n",
            "\n",
            "Número de ciclos de manutenção: 10 5\n",
            "Tempos para manutenções preventivas: [0, 5, 36, 66, 142, 163, 316, 381, 575, 636, 718]\n",
            "Severidade para cada subsistema: [0.5, 0.5, 0.5, 0.5, 0.25, 0.25, 0.5, 0.75, 0.25, 0.75]\n",
            "Número de Sisemas: 5\n",
            "Fator:  [0.06013123601935755, 0.14361699368653869, 0.14361699368653869, 0.14361699368653869, 0.14361699368653869, 0.07459035756403465, 0.07459035756403465, 0.14361699368653869, 0.20749490833922268, 0.07459035756403465, 0.20749490833922268]\n",
            "Media de falhas:  [0, 1.506344089548196e-14, 5.015903078194724e-06, 0.001029471467596512, 2.4380274905059944, 6.4737554963049035, 6622.327753642848, 48868.181621037525, 3396240.547816346, 6038152.531527604, 11326301.931995582, -9104279.753861886]\n",
            "Custo =  1195553744.998921\n"
          ]
        },
        {
          "output_type": "stream",
          "name": "stderr",
          "text": [
            "pyswarms.single.global_best:   0%|          |0/1, best_cost=3.14e+8"
          ]
        },
        {
          "output_type": "stream",
          "name": "stdout",
          "text": [
            "\n",
            "=========================================================================\n",
            "\n",
            "Número de ciclos de manutenção: 12 5\n",
            "Tempos para manutenções preventivas: [0, 5, 36, 66, 142, 163, 190, 285, 316, 381, 575, 635, 718]\n",
            "Severidade para cada subsistema: [0.5, 0.5, 0.5, 0.5, 0.25, 0.25, 0.75, 0.25, 0.5, 0.75, 0.25, 0.75]\n",
            "Número de Sisemas: 5\n",
            "Fator:  [0.06013123601935755, 0.14361699368653869, 0.14361699368653869, 0.14361699368653869, 0.14361699368653869, 0.07459035756403465, 0.07459035756403465, 0.20749490833922268, 0.07459035756403465, 0.14361699368653869, 0.20749490833922268, 0.07459035756403465, 0.20749490833922268]\n",
            "Media de falhas:  [0, 1.506344089548196e-14, 5.015903078194724e-06, 0.001029471467596512, 2.4380274905059944, 6.4737554963049035, 26.306462045878618, 3045.53850573584, 7819.182007117099, 20438.78501647977, 3367811.1512117884, 5941048.632276884, 11276791.511285398, -9153790.17457207]\n",
            "Custo =  1191798659.0707533\n"
          ]
        },
        {
          "output_type": "stream",
          "name": "stderr",
          "text": [
            "\rpyswarms.single.global_best: 100%|██████████|1/1, best_cost=3.14e+8\n",
            "2023-10-03 17:32:03,340 - pyswarms.single.global_best - INFO - Optimization finished | best cost: 314309220.5012563, best pos: [3.17674964 3.20679009 3.21860195 0.15688619 3.76105846 1.44835269\n",
            " 0.34207689 2.11469256 4.49426297 4.11303045 1.52431784 2.79681212\n",
            " 3.73123294 4.16252459 4.26754901 2.41925232 3.64858337 4.27995622\n",
            " 3.54696167 5.17577947 4.59327221 1.19794954 4.475017   5.94316975]\n",
            "2023-10-03 17:32:03,350 - pyswarms.single.global_best - INFO - Optimize for 1 iters with {'c1': 0.5, 'c2': 0.3, 'w': 0.9}\n",
            "pyswarms.single.global_best: 100%|██████████|1/1, best_cost=3.14e+8\n",
            "2023-10-03 17:32:03,386 - pyswarms.single.global_best - INFO - Optimization finished | best cost: 314309220.5012563, best pos: [3.17674949 3.20680004 3.21860193 6.52186154 3.76095767 1.44835652\n",
            " 0.34207675 2.11469468 4.49434219 6.25334164 1.52432076 2.79681513\n",
            " 3.73274967 4.1625321  4.26754837 2.41928596 6.39474411 4.43765842\n",
            " 1.7214318  5.17577949 4.59327923 1.19795215 4.47501692 5.9431667 ]\n",
            "2023-10-03 17:32:03,391 - pyswarms.single.global_best - INFO - Optimize for 1 iters with {'c1': 0.5, 'c2': 0.3, 'w': 0.9}\n"
          ]
        },
        {
          "output_type": "stream",
          "name": "stdout",
          "text": [
            "\n",
            "=========================================================================\n",
            "\n",
            "Número de ciclos de manutenção: 13 5\n",
            "Tempos para manutenções preventivas: [0, 5, 36, 66, 118, 142, 163, 188, 295, 315, 382, 575, 635, 718]\n",
            "Severidade para cada subsistema: [0.5, 0.5, 0.5, 0.25, 0.5, 0.25, 0.25, 0.75, 0.25, 0.5, 0.75, 0.25, 0.75]\n",
            "Número de Sisemas: 5\n",
            "Fator:  [0.06013123601935755, 0.14361699368653869, 0.14361699368653869, 0.14361699368653869, 0.07459035756403465, 0.14361699368653869, 0.07459035756403465, 0.07459035756403465, 0.20749490833922268, 0.07459035756403465, 0.14361699368653869, 0.20749490833922268, 0.07459035756403465, 0.20749490833922268]\n",
            "Media de falhas:  [0, 1.506344089548196e-14, 5.015903078194724e-06, 0.001029471467596512, 0.33220773212961846, 1.5354693734634524, 9.13809875329087, 26.252831287114702, 4407.700508091078, 7806.007042974936, 21014.32887876236, 3362641.541914772, 5935879.022979868, 11271621.901988382, -9158959.783869086]\n",
            "Custo =  1192150290.013268\n"
          ]
        },
        {
          "output_type": "stream",
          "name": "stderr",
          "text": [
            "pyswarms.single.global_best: 100%|██████████|1/1, best_cost=3.14e+8\n",
            "2023-10-03 17:32:03,422 - pyswarms.single.global_best - INFO - Optimization finished | best cost: 314309220.5012563, best pos: [3.17674929 3.20681795 3.2186019  5.2411411  3.76086843 1.44833281\n",
            " 0.34207662 2.11469489 4.4944015  0.99252951 1.52432331 2.79681988\n",
            " 3.73023548 4.16253822 4.26754778 2.41931243 1.35912    4.58834615\n",
            " 0.21028695 5.17577954 4.59328606 1.19795459 4.47501685 5.94316374]\n",
            "2023-10-03 17:32:03,427 - pyswarms.single.global_best - INFO - Optimize for 1 iters with {'c1': 0.5, 'c2': 0.3, 'w': 0.9}\n"
          ]
        },
        {
          "output_type": "stream",
          "name": "stdout",
          "text": [
            "\n",
            "=========================================================================\n",
            "\n",
            "Número de ciclos de manutenção: 14 5\n",
            "Tempos para manutenções preventivas: [0, 5, 36, 66, 107, 142, 163, 200, 315, 382, 493, 544, 575, 635, 718]\n",
            "Severidade para cada subsistema: [0.5, 0.5, 0.5, 0.75, 0.5, 0.25, 0.25, 0.25, 0.5, 0.75, 0.5, 0.75, 0.25, 0.75]\n",
            "Número de Sisemas: 5\n",
            "Fator:  [0.06013123601935755, 0.14361699368653869, 0.14361699368653869, 0.14361699368653869, 0.20749490833922268, 0.14361699368653869, 0.07459035756403465, 0.07459035756403465, 0.07459035756403465, 0.14361699368653869, 0.20749490833922268, 0.14361699368653869, 0.20749490833922268, 0.07459035756403465, 0.20749490833922268]\n",
            "Media de falhas:  [0, 1.506344089548196e-14, 5.015903078194724e-06, 0.001029471467596512, 0.11465097878864959, 1.6017943270677755, 3.7554493076211934, 42.48012537859801, 8494.559044982529, 52430.962575268524, 676681.124633868, 1222994.1207514638, 1540282.083316184, 4113519.56438128, 9449262.443389794, -10981319.242467673]\n",
            "Custo =  1230463630.9583664\n"
          ]
        },
        {
          "output_type": "stream",
          "name": "stderr",
          "text": [
            "pyswarms.single.global_best:   0%|          |0/1, best_cost=3.14e+8"
          ]
        },
        {
          "output_type": "stream",
          "name": "stdout",
          "text": [
            "\n",
            "=========================================================================\n",
            "\n",
            "Número de ciclos de manutenção: 12 5\n",
            "Tempos para manutenções preventivas: [0, 5, 36, 66, 119, 142, 163, 315, 382, 548, 575, 635, 718]\n",
            "Severidade para cada subsistema: [0.5, 0.5, 0.5, 0.25, 0.5, 0.25, 0.25, 0.5, 0.25, 0.75, 0.25, 0.75]\n",
            "Número de Sisemas: 5\n",
            "Fator:  [0.06013123601935755, 0.14361699368653869, 0.14361699368653869, 0.14361699368653869, 0.07459035756403465, 0.14361699368653869, 0.07459035756403465, 0.07459035756403465, 0.14361699368653869, 0.07459035756403465, 0.20749490833922268, 0.07459035756403465, 0.20749490833922268]\n",
            "Media de falhas:  [0, 1.506344089548196e-14, 5.015903078194724e-06, 0.001029471467596512, 0.3640129160174636, 1.5373863600655016, 9.14001573989292, 6402.560558102395, 50338.964088388384, 2048035.3768889655, 2601546.0241175564, 7543270.955056576, 12879013.83406509, -7551567.8517923765]\n",
            "Custo =  1412088466.549344\n"
          ]
        },
        {
          "output_type": "stream",
          "name": "stderr",
          "text": [
            "\rpyswarms.single.global_best: 100%|██████████|1/1, best_cost=3.14e+8\n",
            "2023-10-03 17:32:03,452 - pyswarms.single.global_best - INFO - Optimization finished | best cost: 314309220.5012563, best pos: [3.1767491  3.20683798 3.21860186 3.49586717 3.76081235 1.44830125\n",
            " 0.34207656 2.11467929 4.49441636 3.10737497 1.52432499 2.7968274\n",
            " 3.72758357 4.16253614 4.26754625 2.41932859 3.50830919 4.72311563\n",
            " 6.35286666 5.1757796  4.5932912  1.19795654 4.47501682 5.94316081]\n",
            "2023-10-03 17:32:03,460 - pyswarms.single.global_best - INFO - Optimize for 1 iters with {'c1': 0.5, 'c2': 0.3, 'w': 0.9}\n",
            "pyswarms.single.global_best: 100%|██████████|1/1, best_cost=3.14e+8\n",
            "2023-10-03 17:32:03,506 - pyswarms.single.global_best - INFO - Optimization finished | best cost: 314309220.5012563, best pos: [3.17674894 3.20685505 3.21860182 1.79123849 3.76082783 1.44825846\n",
            " 0.34207663 2.11465933 4.49441199 5.48664157 1.5243262  2.7968356\n",
            " 3.72361852 4.16252763 4.26754456 2.41932612 5.94207634 4.83516973\n",
            " 4.86158328 5.17577965 4.59329329 1.19795805 4.47501681 5.9431587 ]\n",
            "2023-10-03 17:32:03,507 - pyswarms.single.global_best - INFO - Optimize for 1 iters with {'c1': 0.5, 'c2': 0.3, 'w': 0.9}\n"
          ]
        },
        {
          "output_type": "stream",
          "name": "stdout",
          "text": [
            "\n",
            "=========================================================================\n",
            "\n",
            "Número de ciclos de manutenção: 13 5\n",
            "Tempos para manutenções preventivas: [0, 5, 36, 66, 108, 142, 163, 201, 315, 381, 498, 575, 635, 718]\n",
            "Severidade para cada subsistema: [0.5, 0.5, 0.5, 0.75, 0.5, 0.25, 0.5, 0.25, 0.5, 0.25, 0.75, 0.25, 0.75]\n",
            "Número de Sisemas: 5\n",
            "Fator:  [0.06013123601935755, 0.14361699368653869, 0.14361699368653869, 0.14361699368653869, 0.20749490833922268, 0.14361699368653869, 0.07459035756403465, 0.14361699368653869, 0.07459035756403465, 0.14361699368653869, 0.07459035756403465, 0.20749490833922268, 0.07459035756403465, 0.20749490833922268]\n",
            "Media de falhas:  [0, 1.506344089548196e-14, 5.015903078194724e-06, 0.001029471467596512, 0.12688555537968457, 1.590623229955152, 3.74427821050857, 44.95215385764985, 8472.4178318158, 31684.43190379202, 733596.4872856222, 1941879.875286677, 6883604.806225697, 12219347.685234211, -8211234.000623256]\n",
            "Custo =  1367629031.4962952\n"
          ]
        },
        {
          "output_type": "stream",
          "name": "stderr",
          "text": [
            "pyswarms.single.global_best: 100%|██████████|1/1, best_cost=3.14e+8\n",
            "2023-10-03 17:32:03,544 - pyswarms.single.global_best - INFO - Optimization finished | best cost: 314309220.5012563, best pos: [3.1767488  3.20686992 3.2186018  0.35164717 3.76086059 1.44821808\n",
            " 0.34207674 2.11463556 4.49440237 0.35116584 1.52432607 2.79684289\n",
            " 3.71831647 4.16251997 4.26754297 2.41931133 1.24007579 4.89482987\n",
            " 3.41289584 5.17577971 4.59329304 1.1979584  4.47501683 5.94315786]\n",
            "2023-10-03 17:32:03,546 - pyswarms.single.global_best - INFO - Optimize for 1 iters with {'c1': 0.5, 'c2': 0.3, 'w': 0.9}\n"
          ]
        },
        {
          "output_type": "stream",
          "name": "stdout",
          "text": [
            "\n",
            "=========================================================================\n",
            "\n",
            "Número de ciclos de manutenção: 14 5\n",
            "Tempos para manutenções preventivas: [0, 5, 36, 66, 117, 142, 163, 189, 315, 381, 505, 544, 575, 635, 718]\n",
            "Severidade para cada subsistema: [0.5, 0.5, 0.5, 0.25, 0.5, 0.25, 0.75, 0.25, 0.5, 0.5, 0.75, 0.75, 0.25, 0.75]\n",
            "Número de Sisemas: 5\n",
            "Fator:  [0.06013123601935755, 0.14361699368653869, 0.14361699368653869, 0.14361699368653869, 0.07459035756403465, 0.14361699368653869, 0.07459035756403465, 0.20749490833922268, 0.07459035756403465, 0.14361699368653869, 0.14361699368653869, 0.20749490833922268, 0.20749490833922268, 0.07459035756403465, 0.20749490833922268]\n",
            "Media de falhas:  [0, 1.506344089548196e-14, 5.015903078194724e-06, 0.001029471467596512, 0.3029291399582591, 1.5351918536836315, 9.13782123351105, 27.57468905389129, 8744.63482294389, 21500.201736247047, 841929.0182062218, 1289629.1589169053, 1910357.8044032247, 3255250.6005605087, 8590993.479569022, -11839588.206288446]\n",
            "Custo =  1192900273.9063063\n"
          ]
        },
        {
          "output_type": "stream",
          "name": "stderr",
          "text": [
            "pyswarms.single.global_best:   0%|          |0/1, best_cost=3.14e+8"
          ]
        },
        {
          "output_type": "stream",
          "name": "stdout",
          "text": [
            "\n",
            "=========================================================================\n",
            "\n",
            "Número de ciclos de manutenção: 12 5\n",
            "Tempos para manutenções preventivas: [0, 5, 36, 66, 110, 142, 163, 315, 380, 549, 575, 635, 718]\n",
            "Severidade para cada subsistema: [0.5, 0.5, 0.5, 0.75, 0.5, 0.25, 0.25, 0.5, 0.5, 0.75, 0.25, 0.75]\n",
            "Número de Sisemas: 5\n",
            "Fator:  [0.06013123601935755, 0.14361699368653869, 0.14361699368653869, 0.14361699368653869, 0.20749490833922268, 0.14361699368653869, 0.07459035756403465, 0.07459035756403465, 0.14361699368653869, 0.14361699368653869, 0.20749490833922268, 0.07459035756403465, 0.20749490833922268]\n",
            "Media de falhas:  [0, 1.506344089548196e-14, 5.015903078194724e-06, 0.001029471467596512, 0.15495644430640404, 1.5708210507310763, 3.7244760312844942, 6397.145018393786, 47600.54769719189, 2093061.599484617, 2629247.5360714654, 5202485.017136561, 10538227.896145076, -9892353.789712392]\n",
            "Custo =  1254865549.710662\n"
          ]
        },
        {
          "output_type": "stream",
          "name": "stderr",
          "text": [
            "\rpyswarms.single.global_best: 100%|██████████|1/1, best_cost=3.14e+8\n",
            "2023-10-03 17:32:03,582 - pyswarms.single.global_best - INFO - Optimization finished | best cost: 314309220.5012563, best pos: [3.17674868 3.20688233 3.21860177 6.43505162 3.76091929 1.44818606\n",
            " 0.34207689 2.1146149  4.4943677  2.72655022 1.52432419 2.7968484\n",
            " 3.71158474 4.16251015 4.26754172 2.41929683 3.93362483 4.87848819\n",
            " 1.85367185 5.17577974 4.59329275 1.19795728 4.47501686 5.94315827]\n",
            "2023-10-03 17:32:03,583 - pyswarms.single.global_best - INFO - Optimize for 1 iters with {'c1': 0.5, 'c2': 0.3, 'w': 0.9}\n",
            "pyswarms.single.global_best:   0%|          |0/1, best_cost=3.14e+8"
          ]
        },
        {
          "output_type": "stream",
          "name": "stdout",
          "text": [
            "\n",
            "=========================================================================\n",
            "\n",
            "Número de ciclos de manutenção: 13 5\n",
            "Tempos para manutenções preventivas: [0, 5, 36, 66, 142, 163, 195, 315, 380, 494, 555, 575, 635, 718]\n",
            "Severidade para cada subsistema: [0.5, 0.5, 0.5, 0.5, 0.25, 0.25, 0.25, 0.5, 0.25, 0.25, 0.75, 0.25, 0.75]\n",
            "Número de Sisemas: 5\n",
            "Fator:  [0.06013123601935755, 0.14361699368653869, 0.14361699368653869, 0.14361699368653869, 0.14361699368653869, 0.07459035756403465, 0.07459035756403465, 0.07459035756403465, 0.14361699368653869, 0.07459035756403465, 0.07459035756403465, 0.20749490833922268, 0.07459035756403465, 0.20749490833922268]\n",
            "Media de falhas:  [0, 1.506344089548196e-14, 5.015903078194724e-06, 0.001029471467596512, 2.4380274905059944, 6.4737554963049035, 34.52377520650019, 8608.194608028676, 49811.597286826785, 692977.036653351, 1438298.0241573951, 2283898.355191505, 7225623.286130525, 12561366.165139038, -7869215.520718429]\n",
            "Custo =  1522543300.7806747\n"
          ]
        },
        {
          "output_type": "stream",
          "name": "stderr",
          "text": [
            "\rpyswarms.single.global_best: 100%|██████████|1/1, best_cost=3.14e+8\n",
            "2023-10-03 17:32:03,606 - pyswarms.single.global_best - INFO - Optimization finished | best cost: 314309220.5012563, best pos: [3.17674867 3.20688139 3.21860175 4.91727424 3.76098254 1.44816808\n",
            " 0.34207706 2.11460227 4.49432377 5.25115393 1.52432191 2.79685317\n",
            " 3.70487591 4.16250121 4.26754076 2.4192773  6.38270438 4.85272236\n",
            " 0.55578318 5.17577975 4.59329033 1.19795579 4.4750169  5.94315917]\n",
            "2023-10-03 17:32:03,612 - pyswarms.single.global_best - INFO - Optimize for 1 iters with {'c1': 0.5, 'c2': 0.3, 'w': 0.9}\n",
            "pyswarms.single.global_best: 100%|██████████|1/1, best_cost=3.14e+8\n",
            "2023-10-03 17:32:03,631 - pyswarms.single.global_best - INFO - Optimization finished | best cost: 314309220.5012563, best pos: [3.17674874 3.20686641 3.21860173 2.96024026 3.76105254 1.44816469\n",
            " 0.34207722 2.11459703 4.4942747  0.03921317 1.52431955 2.79685444\n",
            " 3.6989849  4.16249406 4.26754045 2.4192555  0.70689193 4.82498019\n",
            " 6.74081193 5.17577975 4.59328705 1.19795377 4.47501695 5.94316008]\n",
            "2023-10-03 17:32:03,633 - pyswarms.single.global_best - INFO - Optimize for 1 iters with {'c1': 0.5, 'c2': 0.3, 'w': 0.9}\n"
          ]
        },
        {
          "output_type": "stream",
          "name": "stdout",
          "text": [
            "\n",
            "=========================================================================\n",
            "\n",
            "Número de ciclos de manutenção: 12 5\n",
            "Tempos para manutenções preventivas: [0, 5, 36, 66, 142, 163, 201, 315, 380, 507, 575, 635, 718]\n",
            "Severidade para cada subsistema: [0.5, 0.5, 0.5, 0.5, 0.25, 0.5, 0.25, 0.5, 0.5, 0.75, 0.25, 0.75]\n",
            "Número de Sisemas: 5\n",
            "Fator:  [0.06013123601935755, 0.14361699368653869, 0.14361699368653869, 0.14361699368653869, 0.14361699368653869, 0.07459035756403465, 0.14361699368653869, 0.07459035756403465, 0.14361699368653869, 0.14361699368653869, 0.20749490833922268, 0.07459035756403465, 0.20749490833922268]\n",
            "Media de falhas:  [0, 1.506344089548196e-14, 5.015903078194724e-06, 0.001029471467596512, 2.4380274905059944, 6.4737554963049035, 47.68163114344618, 8475.147309101596, 30919.85559524616, 890698.6080349179, 2005406.3894255331, 4578643.870490629, 9914386.749499142, -10516194.936358325]\n",
            "Custo =  1215590010.206933\n"
          ]
        },
        {
          "output_type": "stream",
          "name": "stderr",
          "text": [
            "pyswarms.single.global_best: 100%|██████████|1/1, best_cost=3.14e+8\n",
            "2023-10-03 17:32:03,667 - pyswarms.single.global_best - INFO - Optimization finished | best cost: 314309220.5012563, best pos: [3.17674881 3.20684914 3.21860175 0.560836   3.76111787 1.44817474\n",
            " 0.34207737 2.11459566 4.49423019 2.36759362 1.52431727 2.79685094\n",
            " 3.69513417 4.16249028 4.26754037 2.41923601 2.56841423 4.75252002\n",
            " 5.44686777 5.17577971 4.59328409 1.19795189 4.475017   5.9431612 ]\n",
            "2023-10-03 17:32:03,674 - pyswarms.single.global_best - INFO - Optimize for 1 iters with {'c1': 0.5, 'c2': 0.3, 'w': 0.9}\n"
          ]
        },
        {
          "output_type": "stream",
          "name": "stdout",
          "text": [
            "\n",
            "=========================================================================\n",
            "\n",
            "Número de ciclos de manutenção: 13 5\n",
            "Tempos para manutenções preventivas: [0, 5, 36, 66, 109, 142, 163, 201, 315, 380, 502, 575, 635, 718]\n",
            "Severidade para cada subsistema: [0.5, 0.5, 0.5, 0.5, 0.5, 0.25, 0.75, 0.25, 0.5, 0.75, 0.75, 0.25, 0.75]\n",
            "Número de Sisemas: 5\n",
            "Fator:  [0.06013123601935755, 0.14361699368653869, 0.14361699368653869, 0.14361699368653869, 0.14361699368653869, 0.14361699368653869, 0.07459035756403465, 0.20749490833922268, 0.07459035756403465, 0.14361699368653869, 0.20749490833922268, 0.20749490833922268, 0.07459035756403465, 0.20749490833922268]\n",
            "Media de falhas:  [0, 1.506344089548196e-14, 5.015903078194724e-06, 0.001029471467596512, 0.14028802939728904, 1.5802798178296273, 5.616007823628536, 46.823883470769815, 8474.28956142892, 20789.805185899597, 790870.4090948533, 1958560.537747747, 3303453.333905031, 8639196.212913545, -11791385.472943923]\n",
            "Custo =  1129658389.1850324\n"
          ]
        },
        {
          "output_type": "stream",
          "name": "stderr",
          "text": [
            "pyswarms.single.global_best:   0%|          |0/1, best_cost=3.14e+8"
          ]
        },
        {
          "output_type": "stream",
          "name": "stdout",
          "text": [
            "\n",
            "=========================================================================\n",
            "\n",
            "Número de ciclos de manutenção: 12 5\n",
            "Tempos para manutenções preventivas: [0, 5, 36, 66, 91, 142, 163, 315, 380, 552, 575, 635, 718]\n",
            "Severidade para cada subsistema: [0.5, 0.5, 0.5, 0.25, 0.5, 0.25, 0.25, 0.5, 0.75, 0.75, 0.25, 0.75]\n",
            "Número de Sisemas: 5\n",
            "Fator:  [0.06013123601935755, 0.14361699368653869, 0.14361699368653869, 0.14361699368653869, 0.07459035756403465, 0.14361699368653869, 0.07459035756403465, 0.07459035756403465, 0.14361699368653869, 0.20749490833922268, 0.20749490833922268, 0.07459035756403465, 0.20749490833922268]\n",
            "Media de falhas:  [0, 1.506344089548196e-14, 5.015903078194724e-06, 0.001029471467596512, 0.01960795677695807, 1.8603677474235307, 9.462997127250949, 6402.883539489752, 47606.28621828786, 2216268.450466047, 2699179.709338296, 4044072.5054955804, 9379815.384504095, -11050766.301353373]\n",
            "Custo =  1176491912.480611\n"
          ]
        },
        {
          "output_type": "stream",
          "name": "stderr",
          "text": [
            "\rpyswarms.single.global_best: 100%|██████████|1/1, best_cost=3.14e+8\n",
            "2023-10-03 17:32:03,710 - pyswarms.single.global_best - INFO - Optimization finished | best cost: 314309220.5012563, best pos: [3.17674892 3.20683204 3.21860177 5.30682453 3.76117289 1.448189\n",
            " 0.34207748 2.11460049 4.49419037 5.00879884 1.5243153  2.7968443\n",
            " 3.69398845 4.16248952 4.26754054 2.41922002 4.68195045 4.66585163\n",
            " 3.86456416 5.17577968 4.59328102 1.19795025 4.47501703 5.94316229]\n",
            "2023-10-03 17:32:03,718 - pyswarms.single.global_best - INFO - Optimize for 1 iters with {'c1': 0.5, 'c2': 0.3, 'w': 0.9}\n",
            "pyswarms.single.global_best:   0%|          |0/1, best_cost=3.14e+8"
          ]
        },
        {
          "output_type": "stream",
          "name": "stdout",
          "text": [
            "\n",
            "=========================================================================\n",
            "\n",
            "Número de ciclos de manutenção: 14 5\n",
            "Tempos para manutenções preventivas: [0, 5, 36, 66, 106, 142, 163, 195, 315, 380, 488, 563, 575, 635, 718]\n",
            "Severidade para cada subsistema: [0.5, 0.5, 0.5, 0.75, 0.5, 0.25, 0.25, 0.25, 0.5, 0.5, 0.5, 0.75, 0.25, 0.75]\n",
            "Número de Sisemas: 5\n",
            "Fator:  [0.06013123601935755, 0.14361699368653869, 0.14361699368653869, 0.14361699368653869, 0.20749490833922268, 0.14361699368653869, 0.07459035756403465, 0.07459035756403465, 0.07459035756403465, 0.14361699368653869, 0.14361699368653869, 0.14361699368653869, 0.20749490833922268, 0.07459035756403465, 0.20749490833922268]\n",
            "Media de falhas:  [0, 1.506344089548196e-14, 5.015903078194724e-06, 0.001029471467596512, 0.10349296383550445, 1.6137403975558366, 3.7673953781092546, 31.817415088304543, 8605.48824791048, 49808.890926708584, 609830.1125527144, 1585465.5435683695, 1855016.1606403529, 4428253.641705449, 9763996.520713963, -10666585.165143505]\n",
            "Custo =  1286709467.3621268\n"
          ]
        },
        {
          "output_type": "stream",
          "name": "stderr",
          "text": [
            "\rpyswarms.single.global_best: 100%|██████████|1/1, best_cost=3.14e+8\n",
            "2023-10-03 17:32:03,746 - pyswarms.single.global_best - INFO - Optimization finished | best cost: 314309220.5012563, best pos: [3.17674907 3.20681643 3.2186018  2.91819361 3.76119866 1.44820285\n",
            " 0.34207755 2.11461257 4.49416377 6.7098688  1.52431372 2.79683612\n",
            " 3.69585478 4.1624892  4.26754132 2.41921158 6.63662279 4.58124408\n",
            " 2.02513546 5.17577965 4.59327864 1.19794955 4.47501705 5.94316335]\n",
            "2023-10-03 17:32:03,786 - pyswarms.single.global_best - INFO - Optimize for 1 iters with {'c1': 0.5, 'c2': 0.3, 'w': 0.9}\n",
            "pyswarms.single.global_best:   0%|          |0/1, best_cost=3.14e+8"
          ]
        },
        {
          "output_type": "stream",
          "name": "stdout",
          "text": [
            "\n",
            "=========================================================================\n",
            "\n",
            "Número de ciclos de manutenção: 12 5\n",
            "Tempos para manutenções preventivas: [0, 5, 36, 66, 142, 163, 199, 315, 381, 493, 575, 635, 718]\n",
            "Severidade para cada subsistema: [0.5, 0.5, 0.5, 0.5, 0.25, 0.5, 0.25, 0.5, 0.75, 0.75, 0.25, 0.75]\n",
            "Número de Sisemas: 5\n",
            "Fator:  [0.06013123601935755, 0.14361699368653869, 0.14361699368653869, 0.14361699368653869, 0.14361699368653869, 0.07459035756403465, 0.14361699368653869, 0.07459035756403465, 0.14361699368653869, 0.20749490833922268, 0.20749490833922268, 0.07459035756403465, 0.20749490833922268]\n",
            "Media de falhas:  [0, 1.506344089548196e-14, 5.015903078194724e-06, 0.001029471467596512, 2.4380274905059944, 6.4737554963049035, 42.83838943033909, 8519.424319411477, 31731.438391387695, 658182.8259407516, 1915147.91133386, 3260040.707491144, 8595783.586499657, -11834798.09935781]\n",
            "Custo =  1124760231.1013272\n"
          ]
        },
        {
          "output_type": "stream",
          "name": "stderr",
          "text": [
            "\rpyswarms.single.global_best: 100%|██████████|1/1, best_cost=3.14e+8\n",
            "2023-10-03 17:32:04,012 - pyswarms.single.global_best - INFO - Optimization finished | best cost: 314309220.5012563, best pos: [3.17674922 3.20680333 3.21860183 1.08856549 3.76119337 1.44821556\n",
            " 0.34207761 2.11462544 4.49416581 1.36804355 1.52431386 2.79682864\n",
            " 3.70027831 4.16249124 4.26754242 2.41921288 1.0964871  4.50533169\n",
            " 0.4144024  5.17577962 4.59327755 1.19794994 4.47501704 5.94316431]\n",
            "2023-10-03 17:32:04,017 - pyswarms.single.global_best - INFO - Optimize for 1 iters with {'c1': 0.5, 'c2': 0.3, 'w': 0.9}\n",
            "pyswarms.single.global_best: 100%|██████████|1/1, best_cost=3.14e+8\n",
            "2023-10-03 17:32:04,307 - pyswarms.single.global_best - INFO - Optimization finished | best cost: 314309220.5012563, best pos: [3.17674934 3.20679759 3.21860185 6.37549594 3.76117937 1.44822823\n",
            " 0.34207762 2.11463885 4.49418991 3.38789311 1.52431474 2.79682353\n",
            " 3.70632307 4.16249504 4.26754394 2.41921933 2.96621367 4.44347909\n",
            " 6.06999083 5.17577961 4.5932773  1.19795042 4.47501703 5.94316492]\n",
            "2023-10-03 17:32:04,338 - pyswarms.single.global_best - INFO - Optimize for 1 iters with {'c1': 0.5, 'c2': 0.3, 'w': 0.9}\n"
          ]
        },
        {
          "output_type": "stream",
          "name": "stdout",
          "text": [
            "\n",
            "=========================================================================\n",
            "\n",
            "Número de ciclos de manutenção: 12 5\n",
            "Tempos para manutenções preventivas: [0, 5, 36, 66, 142, 163, 190, 294, 315, 381, 575, 635, 718]\n",
            "Severidade para cada subsistema: [0.5, 0.5, 0.5, 0.5, 0.25, 0.75, 0.25, 0.25, 0.5, 0.75, 0.25, 0.75]\n",
            "Número de Sisemas: 5\n",
            "Fator:  [0.06013123601935755, 0.14361699368653869, 0.14361699368653869, 0.14361699368653869, 0.14361699368653869, 0.07459035756403465, 0.20749490833922268, 0.07459035756403465, 0.07459035756403465, 0.14361699368653869, 0.20749490833922268, 0.07459035756403465, 0.20749490833922268]\n",
            "Media de falhas:  [0, 1.506344089548196e-14, 5.015903078194724e-06, 0.001029471467596512, 2.4380274905059944, 6.4737554963049035, 26.306462045878618, 4226.519553923922, 5157.85444463477, 47710.59043077791, 3395082.9566260865, 5968320.437691182, 11304063.316699695, -9126518.369157773]\n",
            "Custo =  1193197179.1068838\n"
          ]
        },
        {
          "output_type": "stream",
          "name": "stderr",
          "text": [
            "pyswarms.single.global_best: 100%|██████████|1/1, best_cost=3.14e+8\n",
            "2023-10-03 17:32:04,415 - pyswarms.single.global_best - INFO - Optimization finished | best cost: 314309220.5012563, best pos: [3.17674945 3.20679308 3.21860187 4.14731365 3.76114929 1.44824256\n",
            " 0.34207761 2.1146508  4.49422449 5.63297131 1.52431563 2.79682056\n",
            " 3.71184059 4.16250018 4.26754541 2.41922692 5.18638316 4.40876052\n",
            " 4.04941562 5.1757796  4.59327797 1.19795171 4.47501701 5.94316529]\n",
            "2023-10-03 17:32:04,449 - pyswarms.single.global_best - INFO - Optimize for 1 iters with {'c1': 0.5, 'c2': 0.3, 'w': 0.9}\n"
          ]
        },
        {
          "output_type": "stream",
          "name": "stdout",
          "text": [
            "\n",
            "=========================================================================\n",
            "\n",
            "Número de ciclos de manutenção: 12 5\n",
            "Tempos para manutenções preventivas: [0, 5, 36, 66, 103, 142, 163, 279, 315, 381, 575, 635, 718]\n",
            "Severidade para cada subsistema: [0.5, 0.5, 0.5, 0.75, 0.5, 0.25, 0.5, 0.25, 0.5, 0.75, 0.25, 0.75]\n",
            "Número de Sisemas: 5\n",
            "Fator:  [0.06013123601935755, 0.14361699368653869, 0.14361699368653869, 0.14361699368653869, 0.20749490833922268, 0.14361699368653869, 0.07459035756403465, 0.14361699368653869, 0.07459035756403465, 0.14361699368653869, 0.20749490833922268, 0.07459035756403465, 0.20749490833922268]\n",
            "Media de falhas:  [0, 1.506344089548196e-14, 5.015903078194724e-06, 0.001029471467596512, 0.07565734427211208, 1.6537596271084523, 3.8074146076618702, 1716.4150596547856, 6807.351691877067, 30019.36576385329, 3377391.731959162, 5950629.213024258, 11286372.092032772, -9144209.593824696]\n",
            "Custo =  1192307435.7992814\n"
          ]
        },
        {
          "output_type": "stream",
          "name": "stderr",
          "text": [
            "\rpyswarms.single.global_best:   0%|          |0/1"
          ]
        },
        {
          "output_type": "stream",
          "name": "stdout",
          "text": [
            "\n",
            "=========================================================================\n",
            "\n",
            "Número de ciclos de manutenção: 13 5\n",
            "Tempos para manutenções preventivas: [0, 5, 36, 66, 98, 142, 163, 182, 276, 315, 381, 575, 635, 718]\n",
            "Severidade para cada subsistema: [0.5, 0.5, 0.5, 0.5, 0.5, 0.25, 0.25, 0.75, 0.25, 0.5, 0.75, 0.25, 0.75]\n",
            "Número de Sisemas: 5\n",
            "Fator:  [0.06013123601935755, 0.14361699368653869, 0.14361699368653869, 0.14361699368653869, 0.14361699368653869, 0.14361699368653869, 0.07459035756403465, 0.07459035756403465, 0.20749490833922268, 0.07459035756403465, 0.14361699368653869, 0.20749490833922268, 0.07459035756403465, 0.20749490833922268]\n",
            "Media de falhas:  [0, 1.506344089548196e-14, 5.015903078194724e-06, 0.001029471467596512, 0.04394144284979955, 1.7320883228624873, 5.767816328661396, 16.312513427278155, 2223.7051741128826, 7562.1954595665375, 20317.762372869693, 3367690.128568178, 5940927.609633274, 11276670.488641787, -9153911.19721568]\n"
          ]
        },
        {
          "output_type": "stream",
          "name": "stderr",
          "text": [
            "pyswarms.single.global_best: 100%|██████████|1/1, best_cost=3.14e+8\n",
            "2023-10-03 17:32:04,617 - pyswarms.single.global_best - INFO - Optimization finished | best cost: 314309220.5012563, best pos: [3.1767495  3.20679398 3.21860188 1.89797179 3.76111057 1.44825595\n",
            " 0.34207754 2.11465847 4.49425957 6.83317782 1.52431721 2.79681808\n",
            " 3.71670809 4.16250517 4.26754669 2.41924033 0.66721606 4.41269871\n",
            " 2.14030477 5.17577961 4.59327865 1.19795322 4.47501698 5.94316526]\n"
          ]
        },
        {
          "output_type": "stream",
          "name": "stdout",
          "text": [
            "Custo =  1191693016.255814\n"
          ]
        }
      ]
    },
    {
      "cell_type": "code",
      "source": [
        "# Nome do arquivo CSV para salvar o resultado do melhor custo\n",
        "nome_arquivo = '/content/drive/MyDrive/datasets/resultados_optimizacao/resultados_pso/melhor_custo_pso_primeiro_cenario.csv'\n",
        "\n",
        "# Adicionar o melhor custo atual à lista de melhores custos anteriores\n",
        "melhores_custos_anteriores = []\n",
        "try:\n",
        "    with open(nome_arquivo, 'r') as arquivo_csv:\n",
        "        reader = csv.reader(arquivo_csv)\n",
        "        next(reader)  # Pule o cabeçalho\n",
        "        for linha in reader:\n",
        "            melhores_custos_anteriores.append(float(linha[1]))\n",
        "except FileNotFoundError:\n",
        "    pass  # Arquivo não existe, pode ser a primeira execução\n",
        "\n",
        "melhores_custos_anteriores.append(pbest_cost[0])\n",
        "\n",
        "# Criar uma lista com os valores atuais\n",
        "valores_atuais = [len(melhores_custos_anteriores), pbest_cost[0], lamb, beta, theta, num_particles, max_iterations, dimensions, options]\n",
        "\n",
        "# Abrir o arquivo CSV em modo de leitura e escrita e escrever os valores atuais no final do arquivo\n",
        "with open(nome_arquivo, 'a+', newline='') as arquivo_csv:\n",
        "    writer = csv.writer(arquivo_csv)\n",
        "\n",
        "    # Se o arquivo estiver vazio, escreva o cabeçalho\n",
        "    if arquivo_csv.tell() == 0:\n",
        "        writer.writerow(['Index', 'Melhor Custo', 'Lambda (λ)', 'Beta (β)', 'Theta (θ)', 'Numero de Particulas', 'Numero de Interações', 'Dimensions', 'options'])\n",
        "\n",
        "    # Escrever os valores atuais\n",
        "    writer.writerow(valores_atuais)\n"
      ],
      "metadata": {
        "id": "SvLX3p0EXBEo"
      },
      "execution_count": 300,
      "outputs": []
    },
    {
      "cell_type": "code",
      "source": [
        "print('lamb:', lamb)\n",
        "print('beta:', beta)\n",
        "print('theta:', theta)"
      ],
      "metadata": {
        "id": "eoLCwdJ9Rkp0",
        "outputId": "2bc7080b-47a1-4ad8-bf50-b7298857608c",
        "colab": {
          "base_uri": "https://localhost:8080/"
        }
      },
      "execution_count": 301,
      "outputs": [
        {
          "output_type": "stream",
          "name": "stdout",
          "text": [
            "lamb: 121.20641064197103\n",
            "beta: 9.983041454885724\n",
            "theta: 0.31007513125705144\n"
          ]
        }
      ]
    },
    {
      "cell_type": "code",
      "source": [
        "# Plotar gráfico de densidade da otimização\n",
        "plt.figure()\n",
        "plt.plot(optimizer.cost_history)\n",
        "plt.xlabel('Iteration')\n",
        "plt.xlim(0, max_iterations)\n",
        "plt.ylabel('Objective function')\n",
        "plt.title('Particle Swarm Optimization (PSO) - Cost History')\n",
        "plt.show()\n",
        "\n",
        "print(\"                              \")\n",
        "print(\"*************************************************************************\")\n",
        "print(\"Número total de iterações:\", max_iterations)\n",
        "print(\"Número de Particulas:\", num_particles)\n",
        "print(\"Número de Dimensões:\", dimensions)\n",
        "print(\"                              \")\n",
        "print(\"Melhor partícula:\", pbest_cost[0])"
      ],
      "metadata": {
        "id": "ULlt81ZI1vn9",
        "outputId": "2a67d3d9-39fd-4910-8aa6-029ffc807594",
        "colab": {
          "base_uri": "https://localhost:8080/",
          "height": 594
        }
      },
      "execution_count": 302,
      "outputs": [
        {
          "output_type": "display_data",
          "data": {
            "text/plain": [
              "<Figure size 640x480 with 1 Axes>"
            ],
            "image/png": "[encoded data removed]"
          },
          "metadata": {}
        },
        {
          "output_type": "stream",
          "name": "stdout",
          "text": [
            "                              \n",
            "*************************************************************************\n",
            "Número total de iterações: 100\n",
            "Número de Particulas: 100\n",
            "Número de Dimensões: 24\n",
            "                              \n",
            "Melhor partícula: 1191693016.255814\n"
          ]
        }
      ]
    },
    {
      "cell_type": "code",
      "source": [
        "# Plotar o gráfico 3D com todas as melhores posições\n",
        "fig = plt.figure(figsize=(8, 8))\n",
        "ax = fig.add_subplot(111)\n",
        "\n",
        "# Plotar todas as melhores posições anteriores\n",
        "for i in range(best_positions.shape[0]):\n",
        "    ax.scatter(best_positions[i, 0], best_positions[i, 1], marker='x', c='blue', alpha=0.6)\n",
        "\n",
        "# Plotar a última melhor posição com uma cor diferente para destacá-la\n",
        "ax.scatter(best_positions[-1, 0], best_positions[-1, 1], c='red', label='Melhor posição atual')\n",
        "\n",
        "ax.set_title('PSO - Melhores posições ao longo das iterações')\n",
        "ax.set_xlabel('Primeira dimensão das melhores posições')\n",
        "ax.set_ylabel('Segunda dimensão das melhores posições')\n",
        "ax.legend()\n",
        "plt.grid()\n",
        "plt.show()"
      ],
      "metadata": {
        "id": "4STRoUAPxmqT",
        "outputId": "d4fde480-d476-4f7c-9720-14bd3ce6d838",
        "colab": {
          "base_uri": "https://localhost:8080/",
          "height": 718
        }
      },
      "execution_count": 303,
      "outputs": [
        {
          "output_type": "display_data",
          "data": {
            "text/plain": [
              "<Figure size 800x800 with 1 Axes>"
            ],
            "image/png": "[encoded data removed]"
          },
          "metadata": {}
        }
      ]
    }
  ]
}