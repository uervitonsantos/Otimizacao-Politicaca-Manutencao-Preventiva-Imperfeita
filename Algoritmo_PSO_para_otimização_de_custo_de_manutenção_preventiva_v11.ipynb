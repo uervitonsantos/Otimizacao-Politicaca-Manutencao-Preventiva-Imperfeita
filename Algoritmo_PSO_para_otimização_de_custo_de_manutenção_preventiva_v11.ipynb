{
  "nbformat": 4,
  "nbformat_minor": 0,
  "metadata": {
    "colab": {
      "provenance": [],
      "include_colab_link": true
    },
    "kernelspec": {
      "name": "python3",
      "display_name": "Python 3"
    },
    "language_info": {
      "name": "python"
    }
  },
  "cells": [
    {
      "cell_type": "markdown",
      "metadata": {
        "id": "view-in-github",
        "colab_type": "text"
      },
      "source": [
        "<a href=\"https://colab.research.google.com/github/uervitonsantos/Otimizacao-Politicaca-Manutencao-Preventiva-Imperfeita/blob/main/Algoritmo_PSO_para_otimiza%C3%A7%C3%A3o_de_custo_de_manuten%C3%A7%C3%A3o_preventiva_v11.ipynb\" target=\"_parent\"><img src=\"https://colab.research.google.com/assets/colab-badge.svg\" alt=\"Open In Colab\"/></a>"
      ]
    },
    {
      "cell_type": "markdown",
      "source": [
        "Os Dataset's de dados de confiabilidade para os 4 cenarios podem ser obtidos em: https://drive.google.com/drive/folders/1tzW3424gsRYhvXOCIaF67PCb3PAiOU43?usp=drive_link"
      ],
      "metadata": {
        "id": "wZi0pIL-Ch37"
      }
    },
    {
      "cell_type": "code",
      "execution_count": 1,
      "metadata": {
        "id": "VM8_ebpiVP0V"
      },
      "outputs": [],
      "source": [
        "%%capture\n",
        "pip install pyswarms"
      ]
    },
    {
      "cell_type": "code",
      "source": [
        "%%capture\n",
        "!pip install numpy==1.26"
      ],
      "metadata": {
        "id": "1ybZT-uetbA6"
      },
      "execution_count": 3,
      "outputs": []
    },
    {
      "cell_type": "code",
      "source": [
        "import numpy as np\n",
        "import pandas as pd\n",
        "import math\n",
        "import csv\n",
        "import matplotlib.pyplot as plt\n",
        "import time\n",
        "from pyswarms.single.global_best import GlobalBestPSO\n",
        "import pyswarms as ps\n",
        "from pyswarms.utils.search import RandomSearch\n",
        "from pyswarms.utils.functions import single_obj as fx\n",
        "from pyswarms.utils.plotters import (plot_cost_history, plot_contour, plot_surface)\n",
        "import plotly.graph_objects as go\n",
        "from pyswarms.utils.plotters.formatters import Designer\n",
        "from pyswarms.utils.plotters.formatters import Mesher\n",
        "from mpl_toolkits.mplot3d import Axes3D"
      ],
      "metadata": {
        "id": "2sVG0WwfVrUs"
      },
      "execution_count": 4,
      "outputs": []
    },
    {
      "cell_type": "code",
      "source": [
        "from google.colab import drive\n",
        "drive.mount('/content/drive')"
      ],
      "metadata": {
        "colab": {
          "base_uri": "https://localhost:8080/"
        },
        "id": "UxVZzIrcndid",
        "outputId": "8845de03-6824-4560-89aa-b72d83856249"
      },
      "execution_count": 5,
      "outputs": [
        {
          "output_type": "stream",
          "name": "stdout",
          "text": [
            "Mounted at /content/drive\n"
          ]
        }
      ]
    },
    {
      "cell_type": "code",
      "source": [
        "# Constantes criadas para representar alguns valores de teste no codigo\n",
        "\n",
        "MAX_VALUE_CUSTO = 10000 # Valor maximo para o custo total da otimização\n",
        "fator_melhoria = 'expo' # Função exponencial selecionada. Há outras funções desenvolvidas\n",
        "DIAS_OBSERVADOS = 600 # Quantidade de dias observados no horizonte de planejamento. Para cada teste há uma quantidade de dia específico\n",
        "CMC = 4000 # Valor para o custo da manutenção corretiva\n",
        "CMP = 2000 # Valor para o custo da manutenção preventiva"
      ],
      "metadata": {
        "id": "FeZKvg25Vtwz"
      },
      "execution_count": 8,
      "outputs": []
    },
    {
      "cell_type": "code",
      "source": [
        "class IntensidadeFalha:\n",
        "    # Este método vai inicializar cada objeto criado a partir desta classe\n",
        "    # O nome deste método é \"inicio\"\n",
        "    # (self) é uma referência a cada atributo de um objeto criado a partir desta classe\n",
        "    # Os atributos de cada objeto criados a partir desta classe.\n",
        "    # O self indica que estes são atributos dos objetos\n",
        "    def __init__(self):\n",
        "        self.fator = None\n",
        "        self.lamb = None\n",
        "        self.beta = None\n",
        "        self.theta = None\n",
        "        self.sz = None\n",
        "        self.T = None\n",
        "        self.u = None\n",
        "\n",
        "    def inicio(self, T, fator, solucao):\n",
        "        self.fator = fator\n",
        "        self.lamb = solucao[0]\n",
        "        self.beta = solucao[1]\n",
        "        self.theta = solucao[2]\n",
        "        self.sz = int(T[-1])\n",
        "        self.T = T\n",
        "\n",
        "    def create(self):\n",
        "        self.u = []\n",
        "        # Reducao de Idade com fator de melhoria linear\n",
        "        for i, tc in enumerate(self.T[1:], start=1):\n",
        "            for tt in range(int(self.T[i-1]), int(tc)+1):\n",
        "                b = tt - self.fator[0][i-1] * self.T[i-1]\n",
        "                self.u.append((1 / (self.lamb ** self.beta)) * self.beta * b ** (self.beta - 1))\n",
        "\n",
        "                if tt == tc:\n",
        "                    self.u.append(float('nan'))\n",
        "            break\n",
        "    # plota e salva a figura da função de intensidade de falha\n",
        "    def plotar(self):\n",
        "        fig = plt.figure(figsize=(20, 5))\n",
        "        plt.plot(self.u)\n",
        "\n",
        "        for xc in self.T:\n",
        "            plt.axvline(x=xc, color='r', linestyle='--')\n",
        "\n",
        "        plt.xlabel(\"Tempo (dias)\")\n",
        "        plt.ylabel(\"Função intensidade de falha\")\n",
        "        plt.xlim(0)\n",
        "        plt.grid(True)\n",
        "        plt.show()"
      ],
      "metadata": {
        "id": "QhF2qTuDV2P1"
      },
      "execution_count": 9,
      "outputs": []
    },
    {
      "cell_type": "code",
      "source": [
        "# Define a função de melhoria constante\n",
        "def const(ck, m, s, theta):\n",
        "    fator = [[theta] * ck] * m\n",
        "    return fator"
      ],
      "metadata": {
        "id": "mMRO_z3_V4a3"
      },
      "execution_count": 10,
      "outputs": []
    },
    {
      "cell_type": "code",
      "source": [
        "# Define a função de melhoria linear\n",
        "def linear(ck, m, s, theta):\n",
        "    fator = []\n",
        "    for k in range(0, m, 1):\n",
        "        linha = [0]\n",
        "        for j in range(0, ck, 1):\n",
        "            linha.append(s[k][j] * theta)\n",
        "        fator.append(linha)\n",
        "    return fator"
      ],
      "metadata": {
        "id": "S_fCxa7GV65n"
      },
      "execution_count": 11,
      "outputs": []
    },
    {
      "cell_type": "code",
      "source": [
        "# Define a função de melhoria exponencial\n",
        "def expo(ck, m, s, theta):\n",
        "    fator = []\n",
        "    for k in range(0, m):\n",
        "        linha = []\n",
        "        # Verifique se o índice k é válido\n",
        "        if k >= len(s):\n",
        "            break\n",
        "        for j in range(0, ck):\n",
        "            # Verifique se o índice j é válido\n",
        "            if j >= len(s[k]):\n",
        "                break\n",
        "            linha.append(1.0 - np.exp(-s[k][j] * theta))\n",
        "        fator.append(linha)\n",
        "\n",
        "    return fator"
      ],
      "metadata": {
        "id": "NV3lIXl9V9FL"
      },
      "execution_count": 12,
      "outputs": []
    },
    {
      "cell_type": "code",
      "source": [
        "# Define a função de melhoria potência\n",
        "def pot(ck, m, s, theta):\n",
        "    fator = []\n",
        "    for k in range(0, m, 1):\n",
        "        linha = []\n",
        "        for j in range(0, ck, 1):\n",
        "            linha.append(s[k][j] ** theta)\n",
        "        fator.append(linha)\n",
        "    return fator"
      ],
      "metadata": {
        "id": "ikxXlzxKV-0K"
      },
      "execution_count": 13,
      "outputs": []
    },
    {
      "cell_type": "code",
      "source": [
        "# Define a função de melhoria para manutenção perfeita\n",
        "def mpp(ck, m, s, theta):\n",
        "    fator = []\n",
        "    for k in range(0, m, 1):\n",
        "        linha = []\n",
        "        for j in range(0, ck, 1):\n",
        "            linha.append(1)\n",
        "        fator.append(linha)\n",
        "    return fator"
      ],
      "metadata": {
        "id": "xcHr8tSFWAus"
      },
      "execution_count": 14,
      "outputs": []
    },
    {
      "cell_type": "code",
      "source": [
        "# Executa a função de melhoria com base no parâmetro fornecido\n",
        "def execute_function(fator_melhoria, ck, m, s, theta):\n",
        "    return {\n",
        "        'const': lambda: const(ck, m, s, theta),\n",
        "        'linear': lambda: linear(ck, m, s, theta),\n",
        "        'expo': lambda: expo(ck, m, s, theta),\n",
        "        'pot': lambda: pot(ck, m, s, theta),\n",
        "        'mpp': lambda: mpp(ck, m, s, theta),\n",
        "    }[fator_melhoria]()"
      ],
      "metadata": {
        "id": "R5KeFcseWDH6"
      },
      "execution_count": 15,
      "outputs": []
    },
    {
      "cell_type": "code",
      "source": [
        "# Função custo de manutenção baseada em severidade\n",
        "def custo_mp(s, CMP):\n",
        "    dist = {0.25: 2000, 0.5: 4000, 0.75: 12000, 1.0: 20000}\n",
        "    if not isinstance(s, list):\n",
        "        s = [s]  # Transforma s em uma lista com um único elemento\n",
        "    cmp_f = np.sum([CMP if si < 0.25 or si > 1.0 else np.interp(si, [0.25, 0.5, 0.75, 1.0], [2000, 4000, 12000, 20000]) for si in s])\n",
        "    return cmp_f"
      ],
      "metadata": {
        "id": "B8BkTWrmWGWO"
      },
      "execution_count": 16,
      "outputs": []
    },
    {
      "cell_type": "markdown",
      "source": [
        "O 1.º cenário, considera o dataset fictício do trabalho do Dr Marco Coque Jr, com 5 sistema, observados por 600 dias, com MP realizada nos tempos 150, 250, 500 e 600, com custo de MP apresentado na tabela 1, com taxas de severidades de 40%, 50%, 90% e 20%, respectivamente  e MC fixa em \"?\"\n",
        "\n",
        "O 2.º cenário, considera o dataset fictício, com 3 sistemas, observados por 730 dias, com MP realizada nos tempos \"?\", com custo de MP apresentado na tabela 2, com taxas de severidade fixas em 20%, 70% e 100%, respectivamente e MC fixa em US$15.000\n",
        "\n",
        "O 3.º cenário, considera o dataset fictício, com 2 sistemas, observados por 1.460 dias, com MP realizada nos tempos \"?\", com custo de MP fixo em US$4.000, com taxas de severidade fixas em 100% e MC fixa em US$17.000\n",
        "\n",
        "O 4.º cenário, considera o dataset fictício, com 4 sistemas, observados por 730 dias, com MP realizada nos tempos \"?\", com custo de MP apresentado na tabela 2, com taxas de severidade fixas em 50% e 100%, onde US$2.000 e US$3.000, respectivamente e MC fixa em US$15.000 texto em itálico\n",
        "\n",
        "\n",
        "\n"
      ],
      "metadata": {
        "id": "G2TJsXlyGcOc"
      }
    },
    {
      "cell_type": "code",
      "source": [
        "# Defina o dicionário de tipos de dados\n",
        "# define as 3 colunas do dataset como int\n",
        "dtypes = {\n",
        "    't': int,\n",
        "    'k': int,\n",
        "    'c': int,\n",
        "}\n",
        "\n",
        "# Leitura dos dados de tempo de falha para 4 cenarios de exemplo\n",
        "# df = pd.read_csv('/content/drive/MyDrive/datasets/cenario01.csv.csv', sep=\";\")\n",
        "# df = pd.read_csv('/content/drive/MyDrive/datasets/cenario02.csv.csv', sep=\";\")\n",
        "# df = pd.read_csv('/content/drive/MyDrive/datasets/cenario03.csv.csv', sep=\";\")\n",
        "# df = pd.read_csv('/content/drive/MyDrive/datasets/cenario04.csv.csv', sep=\";\")\n",
        "df = pd.read_csv('/content/drive/MyDrive/datasets/cenario01.csv', sep=\";\")\n",
        "\n",
        "# Remova as linhas com valores ausentes\n",
        "df = df.fillna(0)\n",
        "\n",
        "# Converta as colunas para os tipos de dados desejados\n",
        "df = df.astype(dtypes)\n",
        "\n",
        "df.head()"
      ],
      "metadata": {
        "colab": {
          "base_uri": "https://localhost:8080/",
          "height": 206
        },
        "id": "IDcyZ_pHWIW8",
        "outputId": "813abd3b-43d4-48bd-8f2e-611de93d2e41"
      },
      "execution_count": 19,
      "outputs": [
        {
          "output_type": "execute_result",
          "data": {
            "text/plain": [
              "     t  k  c    n    s      T\n",
              "0   90  1  1  4.0  0.4  150.0\n",
              "1  110  1  1  0.0  0.5  250.0\n",
              "2  125  1  1  9.0  0.9  500.0\n",
              "3  135  1  1  2.0  0.2  600.0\n",
              "4  295  1  3  2.0  0.4    0.0"
            ],
            "text/html": [
              "\n",
              "  <div id=\"df-cc814f82-76e8-485e-852d-14965dadcb1d\" class=\"colab-df-container\">\n",
              "    <div>\n",
              "<style scoped>\n",
              "    .dataframe tbody tr th:only-of-type {\n",
              "        vertical-align: middle;\n",
              "    }\n",
              "\n",
              "    .dataframe tbody tr th {\n",
              "        vertical-align: top;\n",
              "    }\n",
              "\n",
              "    .dataframe thead th {\n",
              "        text-align: right;\n",
              "    }\n",
              "</style>\n",
              "<table border=\"1\" class=\"dataframe\">\n",
              "  <thead>\n",
              "    <tr style=\"text-align: right;\">\n",
              "      <th></th>\n",
              "      <th>t</th>\n",
              "      <th>k</th>\n",
              "      <th>c</th>\n",
              "      <th>n</th>\n",
              "      <th>s</th>\n",
              "      <th>T</th>\n",
              "    </tr>\n",
              "  </thead>\n",
              "  <tbody>\n",
              "    <tr>\n",
              "      <th>0</th>\n",
              "      <td>90</td>\n",
              "      <td>1</td>\n",
              "      <td>1</td>\n",
              "      <td>4.0</td>\n",
              "      <td>0.4</td>\n",
              "      <td>150.0</td>\n",
              "    </tr>\n",
              "    <tr>\n",
              "      <th>1</th>\n",
              "      <td>110</td>\n",
              "      <td>1</td>\n",
              "      <td>1</td>\n",
              "      <td>0.0</td>\n",
              "      <td>0.5</td>\n",
              "      <td>250.0</td>\n",
              "    </tr>\n",
              "    <tr>\n",
              "      <th>2</th>\n",
              "      <td>125</td>\n",
              "      <td>1</td>\n",
              "      <td>1</td>\n",
              "      <td>9.0</td>\n",
              "      <td>0.9</td>\n",
              "      <td>500.0</td>\n",
              "    </tr>\n",
              "    <tr>\n",
              "      <th>3</th>\n",
              "      <td>135</td>\n",
              "      <td>1</td>\n",
              "      <td>1</td>\n",
              "      <td>2.0</td>\n",
              "      <td>0.2</td>\n",
              "      <td>600.0</td>\n",
              "    </tr>\n",
              "    <tr>\n",
              "      <th>4</th>\n",
              "      <td>295</td>\n",
              "      <td>1</td>\n",
              "      <td>3</td>\n",
              "      <td>2.0</td>\n",
              "      <td>0.4</td>\n",
              "      <td>0.0</td>\n",
              "    </tr>\n",
              "  </tbody>\n",
              "</table>\n",
              "</div>\n",
              "    <div class=\"colab-df-buttons\">\n",
              "\n",
              "  <div class=\"colab-df-container\">\n",
              "    <button class=\"colab-df-convert\" onclick=\"convertToInteractive('df-cc814f82-76e8-485e-852d-14965dadcb1d')\"\n",
              "            title=\"Convert this dataframe to an interactive table.\"\n",
              "            style=\"display:none;\">\n",
              "\n",
              "  <svg xmlns=\"http://www.w3.org/2000/svg\" height=\"24px\" viewBox=\"0 -960 960 960\">\n",
              "    <path d=\"M120-120v-720h720v720H120Zm60-500h600v-160H180v160Zm220 220h160v-160H400v160Zm0 220h160v-160H400v160ZM180-400h160v-160H180v160Zm440 0h160v-160H620v160ZM180-180h160v-160H180v160Zm440 0h160v-160H620v160Z\"/>\n",
              "  </svg>\n",
              "    </button>\n",
              "\n",
              "  <style>\n",
              "    .colab-df-container {\n",
              "      display:flex;\n",
              "      gap: 12px;\n",
              "    }\n",
              "\n",
              "    .colab-df-convert {\n",
              "      background-color: #E8F0FE;\n",
              "      border: none;\n",
              "      border-radius: 50%;\n",
              "      cursor: pointer;\n",
              "      display: none;\n",
              "      fill: #1967D2;\n",
              "      height: 32px;\n",
              "      padding: 0 0 0 0;\n",
              "      width: 32px;\n",
              "    }\n",
              "\n",
              "    .colab-df-convert:hover {\n",
              "      background-color: #E2EBFA;\n",
              "      box-shadow: 0px 1px 2px rgba(60, 64, 67, 0.3), 0px 1px 3px 1px rgba(60, 64, 67, 0.15);\n",
              "      fill: #174EA6;\n",
              "    }\n",
              "\n",
              "    .colab-df-buttons div {\n",
              "      margin-bottom: 4px;\n",
              "    }\n",
              "\n",
              "    [theme=dark] .colab-df-convert {\n",
              "      background-color: #3B4455;\n",
              "      fill: #D2E3FC;\n",
              "    }\n",
              "\n",
              "    [theme=dark] .colab-df-convert:hover {\n",
              "      background-color: #434B5C;\n",
              "      box-shadow: 0px 1px 3px 1px rgba(0, 0, 0, 0.15);\n",
              "      filter: drop-shadow(0px 1px 2px rgba(0, 0, 0, 0.3));\n",
              "      fill: #FFFFFF;\n",
              "    }\n",
              "  </style>\n",
              "\n",
              "    <script>\n",
              "      const buttonEl =\n",
              "        document.querySelector('#df-cc814f82-76e8-485e-852d-14965dadcb1d button.colab-df-convert');\n",
              "      buttonEl.style.display =\n",
              "        google.colab.kernel.accessAllowed ? 'block' : 'none';\n",
              "\n",
              "      async function convertToInteractive(key) {\n",
              "        const element = document.querySelector('#df-cc814f82-76e8-485e-852d-14965dadcb1d');\n",
              "        const dataTable =\n",
              "          await google.colab.kernel.invokeFunction('convertToInteractive',\n",
              "                                                    [key], {});\n",
              "        if (!dataTable) return;\n",
              "\n",
              "        const docLinkHtml = 'Like what you see? Visit the ' +\n",
              "          '<a target=\"_blank\" href=https://colab.research.google.com/notebooks/data_table.ipynb>data table notebook</a>'\n",
              "          + ' to learn more about interactive tables.';\n",
              "        element.innerHTML = '';\n",
              "        dataTable['output_type'] = 'display_data';\n",
              "        await google.colab.output.renderOutput(dataTable, element);\n",
              "        const docLink = document.createElement('div');\n",
              "        docLink.innerHTML = docLinkHtml;\n",
              "        element.appendChild(docLink);\n",
              "      }\n",
              "    </script>\n",
              "  </div>\n",
              "\n",
              "\n",
              "<div id=\"df-f3381b03-7a76-472c-998d-e4aafb584d6d\">\n",
              "  <button class=\"colab-df-quickchart\" onclick=\"quickchart('df-f3381b03-7a76-472c-998d-e4aafb584d6d')\"\n",
              "            title=\"Suggest charts.\"\n",
              "            style=\"display:none;\">\n",
              "\n",
              "<svg xmlns=\"http://www.w3.org/2000/svg\" height=\"24px\"viewBox=\"0 0 24 24\"\n",
              "     width=\"24px\">\n",
              "    <g>\n",
              "        <path d=\"M19 3H5c-1.1 0-2 .9-2 2v14c0 1.1.9 2 2 2h14c1.1 0 2-.9 2-2V5c0-1.1-.9-2-2-2zM9 17H7v-7h2v7zm4 0h-2V7h2v10zm4 0h-2v-4h2v4z\"/>\n",
              "    </g>\n",
              "</svg>\n",
              "  </button>\n",
              "\n",
              "<style>\n",
              "  .colab-df-quickchart {\n",
              "      --bg-color: #E8F0FE;\n",
              "      --fill-color: #1967D2;\n",
              "      --hover-bg-color: #E2EBFA;\n",
              "      --hover-fill-color: #174EA6;\n",
              "      --disabled-fill-color: #AAA;\n",
              "      --disabled-bg-color: #DDD;\n",
              "  }\n",
              "\n",
              "  [theme=dark] .colab-df-quickchart {\n",
              "      --bg-color: #3B4455;\n",
              "      --fill-color: #D2E3FC;\n",
              "      --hover-bg-color: #434B5C;\n",
              "      --hover-fill-color: #FFFFFF;\n",
              "      --disabled-bg-color: #3B4455;\n",
              "      --disabled-fill-color: #666;\n",
              "  }\n",
              "\n",
              "  .colab-df-quickchart {\n",
              "    background-color: var(--bg-color);\n",
              "    border: none;\n",
              "    border-radius: 50%;\n",
              "    cursor: pointer;\n",
              "    display: none;\n",
              "    fill: var(--fill-color);\n",
              "    height: 32px;\n",
              "    padding: 0;\n",
              "    width: 32px;\n",
              "  }\n",
              "\n",
              "  .colab-df-quickchart:hover {\n",
              "    background-color: var(--hover-bg-color);\n",
              "    box-shadow: 0 1px 2px rgba(60, 64, 67, 0.3), 0 1px 3px 1px rgba(60, 64, 67, 0.15);\n",
              "    fill: var(--button-hover-fill-color);\n",
              "  }\n",
              "\n",
              "  .colab-df-quickchart-complete:disabled,\n",
              "  .colab-df-quickchart-complete:disabled:hover {\n",
              "    background-color: var(--disabled-bg-color);\n",
              "    fill: var(--disabled-fill-color);\n",
              "    box-shadow: none;\n",
              "  }\n",
              "\n",
              "  .colab-df-spinner {\n",
              "    border: 2px solid var(--fill-color);\n",
              "    border-color: transparent;\n",
              "    border-bottom-color: var(--fill-color);\n",
              "    animation:\n",
              "      spin 1s steps(1) infinite;\n",
              "  }\n",
              "\n",
              "  @keyframes spin {\n",
              "    0% {\n",
              "      border-color: transparent;\n",
              "      border-bottom-color: var(--fill-color);\n",
              "      border-left-color: var(--fill-color);\n",
              "    }\n",
              "    20% {\n",
              "      border-color: transparent;\n",
              "      border-left-color: var(--fill-color);\n",
              "      border-top-color: var(--fill-color);\n",
              "    }\n",
              "    30% {\n",
              "      border-color: transparent;\n",
              "      border-left-color: var(--fill-color);\n",
              "      border-top-color: var(--fill-color);\n",
              "      border-right-color: var(--fill-color);\n",
              "    }\n",
              "    40% {\n",
              "      border-color: transparent;\n",
              "      border-right-color: var(--fill-color);\n",
              "      border-top-color: var(--fill-color);\n",
              "    }\n",
              "    60% {\n",
              "      border-color: transparent;\n",
              "      border-right-color: var(--fill-color);\n",
              "    }\n",
              "    80% {\n",
              "      border-color: transparent;\n",
              "      border-right-color: var(--fill-color);\n",
              "      border-bottom-color: var(--fill-color);\n",
              "    }\n",
              "    90% {\n",
              "      border-color: transparent;\n",
              "      border-bottom-color: var(--fill-color);\n",
              "    }\n",
              "  }\n",
              "</style>\n",
              "\n",
              "  <script>\n",
              "    async function quickchart(key) {\n",
              "      const quickchartButtonEl =\n",
              "        document.querySelector('#' + key + ' button');\n",
              "      quickchartButtonEl.disabled = true;  // To prevent multiple clicks.\n",
              "      quickchartButtonEl.classList.add('colab-df-spinner');\n",
              "      try {\n",
              "        const charts = await google.colab.kernel.invokeFunction(\n",
              "            'suggestCharts', [key], {});\n",
              "      } catch (error) {\n",
              "        console.error('Error during call to suggestCharts:', error);\n",
              "      }\n",
              "      quickchartButtonEl.classList.remove('colab-df-spinner');\n",
              "      quickchartButtonEl.classList.add('colab-df-quickchart-complete');\n",
              "    }\n",
              "    (() => {\n",
              "      let quickchartButtonEl =\n",
              "        document.querySelector('#df-f3381b03-7a76-472c-998d-e4aafb584d6d button');\n",
              "      quickchartButtonEl.style.display =\n",
              "        google.colab.kernel.accessAllowed ? 'block' : 'none';\n",
              "    })();\n",
              "  </script>\n",
              "</div>\n",
              "    </div>\n",
              "  </div>\n"
            ]
          },
          "metadata": {},
          "execution_count": 19
        }
      ]
    },
    {
      "cell_type": "markdown",
      "source": [
        "\n",
        "\n",
        "*   t: Representa os tempos de falha.\n",
        "*   k: Indica o índice do sistema.\n",
        "*   c: Representa o número de ciclos de manutenção.\n",
        "*   n: Indica o número de falhas em cada ciclo de manutenção preventiva.\n",
        "*   s: Representa a severidade das manutenções preventivas em cada sistema.\n",
        "*   T: Indica os tempos das manutenções preventivas.\n",
        "\n"
      ],
      "metadata": {
        "id": "CaA-qPulJnW2"
      }
    },
    {
      "cell_type": "code",
      "source": [
        "# Cria as variaveis\n",
        "# tempos de falhas\n",
        "t = df['t']\n",
        "# indice do sistema\n",
        "k = df['k']\n",
        "m = k.drop_duplicates().shape[0]\n",
        "# Numero de ciclos de manutenção\n",
        "ck = df['c'].max()\n",
        "# Numero de falhas e severidade das manutenções preventivas em cada sistema\n",
        "n = []\n",
        "s = []\n",
        "for k in range(m):\n",
        "    n.append(list(df['n'][k * ck:(k + 1) * ck]))\n",
        "    s.append(list(df['s'][k * ck:(k + 1) * ck]))\n",
        "\n",
        "# Tempos das MP\n",
        "T = list(df['T'][:m])"
      ],
      "metadata": {
        "id": "osEXf1wsuIlP"
      },
      "execution_count": 20,
      "outputs": []
    },
    {
      "cell_type": "code",
      "source": [
        "# Define a função objetivo para ótimização dos parametros lambda, beta, theta\n",
        "def objective(x):\n",
        "    #\n",
        "    # Solucao a ser avaliada x = [x1, x2, x3] = [lambda, beta, theta]\n",
        "    lamb = x[:, 0]\n",
        "    beta = x[:, 1]\n",
        "    theta = x[:, 2]\n",
        "\n",
        "    # Cria fator de melhoria\n",
        "\t# variável fator_melhoria definida como 'expo' no início do programa!\n",
        "    fator = execute_function(fator_melhoria, ck, m, s, theta)\n",
        "\n",
        "    cont = 0\n",
        "    fitness = 1\n",
        "\n",
        "    for k in range(0, m, 1):\n",
        "        prod = 1\n",
        "        for j in range(0, len(ck) if isinstance(ck, np.ndarray) else 1, 1):\n",
        "            nkj = int(n[k][j])\n",
        "            for i in range(0, nkj, 1):\n",
        "                prod = prod * (1/(lamb**beta)) * beta * (int(t[cont])-fator[k][j]*T[j])**(beta-1);\n",
        "                cont = cont + 1;\n",
        "\n",
        "        soma = 0\n",
        "        for l in range(0, len(ck) if isinstance(ck, np.ndarray) else 1, 1):\n",
        "            soma = soma + ((1/(lamb**beta))*(T[l+1]-fator[k][l]*T[l])**beta - (1/(lamb**beta))*(T[l]-fator[k][l]*T[l])**beta);\n",
        "\n",
        "        ans = np.exp(-soma)\n",
        "        fitness = fitness * prod * ans;\n",
        "\n",
        "    return -fitness"
      ],
      "metadata": {
        "id": "F548fs8JXJkK"
      },
      "execution_count": 21,
      "outputs": []
    },
    {
      "cell_type": "code",
      "source": [
        "# Parâmetros do PSO\n",
        "num_particles = 50\n",
        "max_iterations = 100\n",
        "dimensions = 3\n",
        "options = {'c1': 0.5, 'c2': 0.3, 'w': 0.9}  # Opções do PSO\n",
        "\n",
        "# Limites inferiores e superiores para lamb, beta e theta\n",
        "lb = np.array([100, 1, 0])\n",
        "ub = np.array([150, 2, 1])\n",
        "bounds = (lb, ub)\n",
        "\n",
        "optimizer = GlobalBestPSO(n_particles=num_particles, dimensions=dimensions, options=options, bounds=bounds)\n",
        "\n",
        "# Define o enxame de partículas\n",
        "swarm = optimizer.swarm\n",
        "\n",
        "# Inicializar current_cost e pbest_cost com valores infinitos\n",
        "swarm.current_cost = np.full(swarm.position.shape[0], np.inf)\n",
        "swarm.pbest_cost = np.full(swarm.position.shape[0], np.inf)\n",
        "best_cost, best_position = optimizer.optimize(objective, iters=max_iterations)\n",
        "\n",
        "# Calcula mask_cost\n",
        "mask_cost = swarm.current_cost < swarm.pbest_cost\n",
        "\n",
        "# Atualiza pbest\n",
        "swarm.pbest_cost = np.where(mask_cost, swarm.current_cost, swarm.pbest_cost)\n",
        "swarm.pbest_pos = np.where(mask_cost[:, np.newaxis], swarm.position, swarm.pbest_pos)\n",
        "\n",
        "print(\"\")\n",
        "print(\"Melhores valores para λ, β, θ :\", best_position)"
      ],
      "metadata": {
        "id": "sdZ_xrssxPjt",
        "colab": {
          "base_uri": "https://localhost:8080/"
        },
        "outputId": "a5dbffc2-47ca-488f-fe87-29d14e353822"
      },
      "execution_count": 22,
      "outputs": [
        {
          "output_type": "stream",
          "name": "stderr",
          "text": [
            "2023-10-03 15:31:21,579 - pyswarms.single.global_best - INFO - Optimize for 100 iters with {'c1': 0.5, 'c2': 0.3, 'w': 0.9}\n",
            "pyswarms.single.global_best: 100%|██████████|100/100, best_cost=-2.16e-24\n",
            "2023-10-03 15:31:22,080 - pyswarms.single.global_best - INFO - Optimization finished | best cost: -2.163735738596033e-24, best pos: [122.54713789   1.99876902   0.26467241]\n"
          ]
        },
        {
          "output_type": "stream",
          "name": "stdout",
          "text": [
            "\n",
            "Melhores valores para λ, β, θ : [122.54713789   1.99876902   0.26467241]\n"
          ]
        }
      ]
    },
    {
      "cell_type": "code",
      "source": [
        "# Criação de variáveis para os parâmetros\n",
        "lamb, beta, theta = best_position\n",
        "print('lamb:', lamb)\n",
        "print('beta:', beta)\n",
        "print('theta:', theta)"
      ],
      "metadata": {
        "colab": {
          "base_uri": "https://localhost:8080/"
        },
        "id": "NaosdejV9bWw",
        "outputId": "674ea6c2-8e8a-406a-f320-8754407ef2a4"
      },
      "execution_count": 24,
      "outputs": [
        {
          "output_type": "stream",
          "name": "stdout",
          "text": [
            "lamb: 122.54713788723937\n",
            "beta: 1.9987690240650657\n",
            "theta: 0.264672406222762\n"
          ]
        }
      ]
    },
    {
      "cell_type": "code",
      "source": [
        "beta = beta*5\n",
        "solucao = [lamb, beta, theta]\n",
        "\n",
        "# Cria a instância da classe IntensidadeFalha\n",
        "intensidadeFalha = IntensidadeFalha()\n",
        "\n",
        "# Inicializa a instância com os valores necessários\n",
        "falha = intensidadeFalha.inicio(T, execute_function(fator_melhoria, ck, m, s, theta), solucao)\n",
        "\n",
        "# Cria os dados da intensidade de falha\n",
        "intensidadeFalha.create()\n",
        "\n",
        "# Plota o gráfico da intensidade de falha\n",
        "intensidadeFalha.plotar()\n",
        "\n",
        "fator = execute_function(fator_melhoria, ck, m, s, theta)\n",
        "print('Fator ajuste: ', fator[0])\n",
        "\n",
        "last_value_fator_ajuste = fator[0][-1]\n",
        "\n",
        "time_duration = 1\n",
        "time.sleep(time_duration)"
      ],
      "metadata": {
        "id": "grvISRd2_HkE",
        "outputId": "5bc4ec2f-72f2-4e96-aefc-e171119b554d",
        "colab": {
          "base_uri": "https://localhost:8080/",
          "height": 400
        }
      },
      "execution_count": 25,
      "outputs": [
        {
          "output_type": "display_data",
          "data": {
            "text/plain": [
              "<Figure size 2000x500 with 1 Axes>"
            ],
            "image/png": "[encoded data removed]"
          },
          "metadata": {}
        },
        {
          "output_type": "stream",
          "name": "stdout",
          "text": [
            "Fator ajuste:  [0.1004574858346835, 0.12395358396783229, 0.21195900439690896, 0.05155784880398928]\n"
          ]
        }
      ]
    },
    {
      "cell_type": "code",
      "source": [
        "# Função objetivo para otimização da politica de manutenção\n",
        "# Numero de ciclos determinado pela solução\n",
        "# Solução com 24 valores reais\n",
        "# Solucao a ser avaliada X = [x1, ..., x24]\n",
        "def objective_st(x):\n",
        "\n",
        "    # Dicionario para severidades\n",
        "    dict_severidades = {1: 0.25, 3: 0.50, 5: 0.75, 7: 1.0}\n",
        "\n",
        "    results = [] # Lista para armazenar os resultados das funções objetivo\n",
        "\n",
        "\n",
        "    # No PSO, como cada particula é um vetor de dimenções definidas, é\n",
        "    # Necessario interar sobre o vetor de particulas\n",
        "    for particle in x:\n",
        "        T = [0]\n",
        "        s_row = []\n",
        "        cont = 0\n",
        "\n",
        "        for number in particle:\n",
        "            modulo = int(number) % 2\n",
        "            if modulo == 1:\n",
        "                inteiro = int(number)\n",
        "                s_row.append(dict_severidades[inteiro])  # Severidade\n",
        "                frac = number - inteiro  # Tempo\n",
        "                t = (cont + frac) * 30\n",
        "                T.append(int(t))\n",
        "            cont += 1\n",
        "\n",
        "    s = []\n",
        "    for row in range(m):\n",
        "        s.append(s_row)\n",
        "\n",
        "    # A partir da solução define o número de ciclos\n",
        "    # A variável m é o número de sistemas em análise: em nosso exemplo m = 4\n",
        "    # Para novos dados esse parâmetro deve ser ajustado\n",
        "    # m = 4\n",
        "    ck = len(T) - 1\n",
        "\n",
        "    print(\"\")\n",
        "    print(\"=========================================================================\")\n",
        "    print(\"\")\n",
        "    print('Número de ciclos de manutenção:', ck, m)\n",
        "    print('Tempos para manutenções preventivas:', T)\n",
        "    print('Severidade para cada subsistema:', s[0])\n",
        "    print(\"Número de Sisemas:\", m)\n",
        "\n",
        "    if ck == 0:\n",
        "        return MAX_VALUE_CUSTO\n",
        "\n",
        "    # O modelo já está ajustado\n",
        "    # Utilizado para avaliar a solução candidata\n",
        "\n",
        "    # Cria fator de meloria a partir da solução\n",
        "    fact = execute_function(fator_melhoria, ck, m, s, theta)\n",
        "    fator = [last_value_fator_ajuste] + list(fact[0])\n",
        "\n",
        "    print('Fator: ', fator)\n",
        "\n",
        "    # Numero esperado de falhas (NEF) em cada ciclo\n",
        "    termos_somatorio = [((1/(lamb**beta)) * (T[1]**beta))]\n",
        "    numero_medio_falhas = [0, ((1/(lamb**beta)) * (T[1]**beta))]\n",
        "\n",
        "    for i in range(ck-1):\n",
        "        termo = (((T[i+2]-fator[i]*T[i+1])**beta) - (((1-fator[i])*T[i+1])**beta)) * (1/(lamb**beta))\n",
        "        termos_somatorio.append(termo)\n",
        "        numero_medio_falhas.append(sum(termos_somatorio))\n",
        "\n",
        "    # Número médio de falhas até o final do período: 2 anos\n",
        "    final = DIAS_OBSERVADOS\n",
        "    termo = (((final-fator[ck-1]*T[ck])**beta) - (((1-fator[ck-1])*T[ck])**beta)) * (1/(lamb**beta))\n",
        "    termos_somatorio.append(termo)\n",
        "    numero_medio_falhas.append(sum(termos_somatorio))\n",
        "\n",
        "    mi = numero_medio_falhas\n",
        "\n",
        "    print('Media de falhas: ', mi)\n",
        "\n",
        "    Ctotal =  []\n",
        "\n",
        "    for i in range(ck):\n",
        "        cmp = custo_mp(s[0][i], CMP)\n",
        "        Ctotal.append((cmp + (mi[i+1] - mi[i])*CMC)/(T[i+1]-T[i]))\n",
        "\n",
        "    cmp = custo_mp(s[0][ck-1], CMP)\n",
        "    Ctotal.append((cmp + (mi[ck+1] - mi[ck])*CMC)/(final-T[ck]))\n",
        "\n",
        "    # Custo Total\n",
        "    Custo = np.sum(Ctotal)\n",
        "    results.append(Custo) # Adicione o valor da função objetivo à lista de resultados\n",
        "    print('Custo = ', Custo)\n",
        "\n",
        "    # Retorne os resultados da função objetivo como um array\n",
        "    return np.array(results)"
      ],
      "metadata": {
        "id": "-JuqM09rWWBJ"
      },
      "execution_count": 26,
      "outputs": []
    },
    {
      "cell_type": "code",
      "source": [
        "num_particles = 100\n",
        "max_iterations = 100\n",
        "dimensions = 24\n",
        "options = {'c1': 0.5, 'c2': 0.3, 'w': 0.9}\n",
        "\n",
        "max_bound = np.array([7.0] * dimensions)  # Limite superior dos valores em x\n",
        "min_bound = np.array([0.0] * dimensions)   # Limite inferior dos valores em x\n",
        "bounds = (min_bound, max_bound)\n",
        "\n",
        "optimizer = GlobalBestPSO(n_particles=num_particles, dimensions=dimensions, options=options, bounds=bounds)\n",
        "\n",
        "# Inicializar current_cost e pbest_cost com valores infinitos\n",
        "optimizer.swarm.current_cost = np.full(optimizer.swarm.position.shape[0], np.inf)\n",
        "optimizer.swarm.pbest_cost = np.full(optimizer.swarm.position.shape[0], np.inf)\n",
        "best_cost, best_position = optimizer.optimize(objective_st, iters=max_iterations)\n",
        "\n",
        "pbest_cost = optimizer.swarm.pbest_cost\n",
        "\n",
        "best_positions = []  # Lista para armazenar todas as melhores posições\n",
        "\n",
        "# Loop de iterações do PSO\n",
        "for i in range(max_iterations):\n",
        "    best_cost, best_position = optimizer.optimize(objective_st, iters=1)\n",
        "    pbest_cost = optimizer.swarm.pbest_cost\n",
        "    best_positions.append(best_position)\n",
        "\n",
        "# Converter a lista de melhores posições em um array numpy para facilitar a manipulação\n",
        "best_positions = np.array(best_positions)"
      ],
      "metadata": {
        "colab": {
          "base_uri": "https://localhost:8080/"
        },
        "id": "cePW2Ji6gjmC",
        "outputId": "b4322f12-e327-42d2-ff37-1de780365600"
      },
      "execution_count": 27,
      "outputs": [
        {
          "output_type": "stream",
          "name": "stderr",
          "text": [
            "2023-10-03 15:32:26,178 - pyswarms.single.global_best - INFO - Optimize for 100 iters with {'c1': 0.5, 'c2': 0.3, 'w': 0.9}\n",
            "pyswarms.single.global_best:   6%|▌         |6/100, best_cost=1.58e+8"
          ]
        },
        {
          "output_type": "stream",
          "name": "stdout",
          "text": [
            "\n",
            "=========================================================================\n",
            "\n",
            "Número de ciclos de manutenção: 13 5\n",
            "Tempos para manutenções preventivas: [0, 8, 48, 161, 214, 240, 287, 413, 446, 510, 556, 651, 673, 711]\n",
            "Severidade para cada subsistema: [0.5, 0.25, 0.75, 0.75, 0.5, 0.25, 0.75, 0.5, 0.5, 0.25, 0.25, 0.25, 0.25]\n",
            "Número de Sisemas: 5\n",
            "Fator:  [0.05155784880398928, 0.12395358396783229, 0.06402648753708429, 0.18004375890582325, 0.18004375890582325, 0.12395358396783229, 0.06402648753708429, 0.18004375890582325, 0.12395358396783229, 0.12395358396783229, 0.06402648753708429, 0.06402648753708429, 0.06402648753708429, 0.06402648753708429]\n",
            "Media de falhas:  [0, 1.4294303132513343e-12, 7.84204005720838e-05, 10.497015226750067, 163.05442086229104, 270.7083642347732, 1123.6917648021767, 76063.65696484645, 198806.41143618154, 421964.81977207575, 1106359.9360446204, 5920233.823574981, 9810302.186477404, 19952613.11928332, 1446520.0531582236]\n",
            "Custo =  2735292062.801074\n",
            "\n",
            "=========================================================================\n",
            "\n",
            "Número de ciclos de manutenção: 10 5\n",
            "Tempos para manutenções preventivas: [0, 26, 182, 228, 251, 299, 409, 455, 538, 621, 637]\n",
            "Severidade para cada subsistema: [0.5, 0.25, 0.75, 0.5, 0.25, 0.75, 0.5, 0.5, 0.25, 0.5]\n",
            "Número de Sisemas: 5\n",
            "Fator:  [0.05155784880398928, 0.12395358396783229, 0.06402648753708429, 0.18004375890582325, 0.12395358396783229, 0.06402648753708429, 0.18004375890582325, 0.12395358396783229, 0.12395358396783229, 0.06402648753708429, 0.12395358396783229]\n",
            "Media de falhas:  [0, 1.8657180666395972e-07, 48.3658431976737, 209.25220257162516, 664.4654756682173, 1932.2926017525228, 65823.7085509145, 251050.70672119036, 688797.5871325934, 3538690.521544474, 4528421.63427692, 1049082.624104221]\n",
            "Custo =  800649132.1512921\n",
            "\n",
            "=========================================================================\n",
            "\n",
            "Número de ciclos de manutenção: 11 5\n",
            "Tempos para manutenções preventivas: [0, 142, 197, 238, 256, 275, 325, 372, 435, 588, 676, 690]\n",
            "Severidade para cada subsistema: [0.75, 0.25, 0.75, 0.5, 0.5, 0.75, 0.75, 0.75, 0.75, 0.5, 0.5]\n",
            "Número de Sisemas: 5\n",
            "Fator:  [0.05155784880398928, 0.18004375890582325, 0.06402648753708429, 0.18004375890582325, 0.12395358396783229, 0.12395358396783229, 0.18004375890582325, 0.18004375890582325, 0.18004375890582325, 0.18004375890582325, 0.12395358396783229, 0.12395358396783229]\n",
            "Media de falhas:  [0, 4.3597129545968025, 80.49348586142726, 216.23574456651966, 676.9662280435446, 975.4148233834214, 5769.956786186071, 22198.885370952077, 72386.92116213834, 1564165.4929848532, 5388908.58940104, 6394123.2535846755, -362663.78189400584]\n",
            "Custo =  805512869.7379065\n",
            "\n",
            "=========================================================================\n",
            "\n",
            "Número de ciclos de manutenção: 13 5\n",
            "Tempos para manutenções preventivas: [0, 89, 120, 175, 206, 235, 248, 270, 315, 343, 406, 469, 532, 558]\n",
            "Severidade para cada subsistema: [0.5, 0.75, 0.75, 0.25, 0.75, 0.5, 0.75, 0.75, 0.5, 0.5, 0.75, 0.75, 0.5]\n",
            "Número de Sisemas: 5\n",
            "Fator:  [0.05155784880398928, 0.12395358396783229, 0.18004375890582325, 0.18004375890582325, 0.06402648753708429, 0.18004375890582325, 0.12395358396783229, 0.18004375890582325, 0.18004375890582325, 0.12395358396783229, 0.12395358396783229, 0.18004375890582325, 0.18004375890582325, 0.12395358396783229]\n",
            "Media de falhas:  [0, 0.040900002405048264, 0.5658549666632648, 14.83290739966633, 44.17424311509274, 139.8080273388464, 407.7820869123476, 690.4597096802311, 4049.8591292159754, 7144.240539781251, 33512.25143483623, 206383.55099678016, 769405.5341243315, 1023297.660094989, 1756940.1372983428]\n",
            "Custo =  158224267.64872384\n",
            "\n",
            "=========================================================================\n",
            "\n",
            "Número de ciclos de manutenção: 12 5\n",
            "Tempos para manutenções preventivas: [0, 35, 69, 106, 158, 230, 301, 348, 364, 532, 540, 678, 719]\n",
            "Severidade para cada subsistema: [0.5, 0.5, 0.25, 0.75, 0.75, 0.75, 0.25, 0.5, 0.75, 0.75, 0.75, 0.75]\n",
            "Número de Sisemas: 5\n",
            "Fator:  [0.05155784880398928, 0.12395358396783229, 0.12395358396783229, 0.06402648753708429, 0.18004375890582325, 0.18004375890582325, 0.18004375890582325, 0.06402648753708429, 0.12395358396783229, 0.18004375890582325, 0.18004375890582325, 0.18004375890582325, 0.18004375890582325]\n",
            "Media de falhas:  [0, 3.639137109243248e-06, 0.002467391108969305, 0.10283304485367886, 5.361803462351468, 343.4386051828801, 2079.8109852374464, 7227.625549738562, 10606.345005764217, 1488878.3847601945, 1605271.225471408, 6890178.893577792, 10679985.392728098, 4794839.051910871]\n",
            "Custo =  815539176.1691241\n",
            "\n",
            "=========================================================================\n",
            "\n",
            "Número de ciclos de manutenção: 9 5\n",
            "Tempos para manutenções preventivas: [0, 42, 148, 225, 405, 447, 483, 562, 592, 684]\n",
            "Severidade para cada subsistema: [0.5, 0.5, 0.75, 0.25, 0.75, 0.25, 0.75, 0.5, 0.75]\n",
            "Número de Sisemas: 5\n",
            "Fator:  [0.05155784880398928, 0.12395358396783229, 0.12395358396783229, 0.18004375890582325, 0.06402648753708429, 0.18004375890582325, 0.06402648753708429, 0.18004375890582325, 0.12395358396783229, 0.18004375890582325]\n",
            "Media de falhas:  [0, 2.2507306646565497e-05, 5.6899545540458485, 189.2982926322496, 75695.93566429155, 124243.24058106361, 397889.6062245297, 1034212.0341427685, 2592832.0177802956, 6991983.446673698, 965340.4466197705]\n",
            "Custo =  755002605.043947\n",
            "\n",
            "=========================================================================\n",
            "\n",
            "Número de ciclos de manutenção: 8 5\n",
            "Tempos para manutenções preventivas: [0, 41, 223, 411, 437, 485, 598, 649, 684]\n",
            "Severidade para cada subsistema: [0.5, 0.75, 0.25, 0.75, 0.25, 0.5, 0.75, 0.75]\n",
            "Número de Sisemas: 5\n",
            "Fator:  [0.05155784880398928, 0.12395358396783229, 0.18004375890582325, 0.06402648753708429, 0.18004375890582325, 0.06402648753708429, 0.12395358396783229, 0.18004375890582325, 0.18004375890582325]\n",
            "Media de falhas:  [0, 1.7690235100057432e-05, 360.64331753199, 89373.6900571383, 116453.45863215113, 462346.35895628977, 1899196.0381651267, 7340717.886444887, 11078806.146806175, 7874293.262819661]\n",
            "Custo =  1092347396.8531604\n",
            "\n",
            "=========================================================================\n",
            "\n",
            "Número de ciclos de manutenção: 10 5\n",
            "Tempos para manutenções preventivas: [0, 34, 120, 165, 221, 364, 423, 475, 490, 629, 670]\n",
            "Severidade para cada subsistema: [0.5, 0.75, 0.5, 0.75, 0.5, 0.75, 0.25, 0.25, 0.25, 0.75]\n",
            "Número de Sisemas: 5\n",
            "Fator:  [0.05155784880398928, 0.12395358396783229, 0.18004375890582325, 0.12395358396783229, 0.18004375890582325, 0.12395358396783229, 0.18004375890582325, 0.06402648753708429, 0.06402648753708429, 0.06402648753708429, 0.18004375890582325]\n",
            "Media de falhas:  [0, 2.7238590459835084e-06, 0.6997887838300745, 8.08656442124915, 91.05560768550782, 24287.91718370884, 61287.52839411117, 233642.78206007165, 281551.56099389866, 7281107.782165306, 13505241.904798036, 5050507.549755633]\n",
            "Custo =  1321013122.0599408\n",
            "\n",
            "=========================================================================\n",
            "\n",
            "Número de ciclos de manutenção: 10 5\n",
            "Tempos para manutenções preventivas: [0, 77, 111, 137, 165, 221, 241, 491, 554, 649, 695]\n",
            "Severidade para cada subsistema: [0.5, 0.25, 0.75, 0.5, 0.75, 0.5, 0.25, 0.75, 0.5, 0.75]\n",
            "Número de Sisemas: 5\n",
            "Fator:  [0.05155784880398928, 0.12395358396783229, 0.06402648753708429, 0.18004375890582325, 0.12395358396783229, 0.18004375890582325, 0.12395358396783229, 0.06402648753708429, 0.18004375890582325, 0.12395358396783229, 0.18004375890582325]\n",
            "Media de falhas:  [0, 0.009618728276266557, 0.2624079283920484, 1.2213656937883726, 10.970383971746184, 93.93942723600486, 255.34955678481768, 419410.96972482285, 1241690.271021638, 9213703.350963926, 12261584.874418778, 4852911.932116022]\n",
            "Custo =  971596991.4597254\n",
            "\n",
            "=========================================================================\n",
            "\n",
            "Número de ciclos de manutenção: 13 5\n",
            "Tempos para manutenções preventivas: [0, 94, 147, 168, 223, 249, 297, 309, 364, 407, 484, 581, 686, 718]\n",
            "Severidade para cada subsistema: [0.25, 0.75, 0.5, 0.75, 0.5, 0.75, 0.75, 0.75, 0.5, 0.25, 0.75, 0.5, 0.5]\n",
            "Número de Sisemas: 5\n",
            "Fator:  [0.05155784880398928, 0.06402648753708429, 0.18004375890582325, 0.12395358396783229, 0.18004375890582325, 0.12395358396783229, 0.18004375890582325, 0.18004375890582325, 0.18004375890582325, 0.12395358396783229, 0.06402648753708429, 0.18004375890582325, 0.12395358396783229, 0.12395358396783229]\n",
            "Media de falhas:  [0, 0.07062455095436806, 4.436074509181296, 14.407578918905525, 103.60804562911025, 366.33928420040695, 1557.148638736826, 2611.8056079602416, 11310.883885469495, 32041.370513491504, 187257.44090870093, 1855454.668141141, 16046793.766328547, 19083020.5306998, 8094818.600293592]\n",
            "Custo =  1372550673.0991743\n",
            "\n",
            "=========================================================================\n",
            "\n",
            "Número de ciclos de manutenção: 14 5\n",
            "Tempos para manutenções preventivas: [0, 149, 174, 204, 223, 253, 324, 357, 371, 419, 473, 514, 586, 629, 684]\n",
            "Severidade para cada subsistema: [0.75, 0.5, 0.25, 0.75, 0.5, 0.75, 0.5, 0.75, 0.5, 0.5, 0.5, 0.75, 0.25, 0.5]\n",
            "Número de Sisemas: 5\n",
            "Fator:  [0.05155784880398928, 0.18004375890582325, 0.12395358396783229, 0.06402648753708429, 0.18004375890582325, 0.12395358396783229, 0.18004375890582325, 0.12395358396783229, 0.18004375890582325, 0.12395358396783229, 0.12395358396783229, 0.12395358396783229, 0.18004375890582325, 0.06402648753708429, 0.12395358396783229]\n",
            "Media de falhas:  [0, 7.051938435002474, 24.058309362397537, 50.268685957080855, 126.00293598609974, 704.8822511447663, 4161.745873967697, 13009.843314236428, 16588.906227457086, 67274.97203476609, 165665.9360125336, 469614.0655352097, 1984294.0418046298, 4020263.6242463477, 7049287.4200333245, -4263579.968861708]\n",
            "Custo =  1076099636.5774915\n"
          ]
        },
        {
          "output_type": "stream",
          "name": "stderr",
          "text": [
            "pyswarms.single.global_best:  18%|█▊        |18/100, best_cost=1.58e+8"
          ]
        },
        {
          "output_type": "stream",
          "name": "stdout",
          "text": [
            "\n",
            "=========================================================================\n",
            "\n",
            "Número de ciclos de manutenção: 12 5\n",
            "Tempos para manutenções preventivas: [0, 131, 200, 226, 249, 328, 369, 426, 464, 563, 583, 629, 642]\n",
            "Severidade para cada subsistema: [0.75, 0.25, 0.75, 0.5, 0.75, 0.75, 0.75, 0.75, 0.5, 0.75, 0.25, 0.5]\n",
            "Número de Sisemas: 5\n",
            "Fator:  [0.05155784880398928, 0.18004375890582325, 0.06402648753708429, 0.18004375890582325, 0.12395358396783229, 0.18004375890582325, 0.18004375890582325, 0.18004375890582325, 0.18004375890582325, 0.12395358396783229, 0.18004375890582325, 0.06402648753708429, 0.12395358396783229]\n",
            "Media de falhas:  [0, 1.9476142098932216, 95.61011853829244, 157.2357376665694, 579.7025957457338, 4732.5137236371165, 18685.848715590822, 57289.22316107675, 120834.1946737911, 871604.9621815466, 1172850.8119917677, 3315996.377612426, 3804085.8811095473, -295401.5464291796]\n",
            "Custo =  828613174.9069121\n",
            "\n",
            "=========================================================================\n",
            "\n",
            "Número de ciclos de manutenção: 13 5\n",
            "Tempos para manutenções preventivas: [0, 74, 198, 229, 241, 273, 325, 353, 411, 515, 552, 570, 630, 691]\n",
            "Severidade para cada subsistema: [0.5, 0.25, 0.75, 0.5, 0.5, 0.75, 0.75, 0.5, 0.5, 0.5, 0.75, 0.75, 0.5]\n",
            "Número de Sisemas: 5\n",
            "Fator:  [0.05155784880398928, 0.12395358396783229, 0.06402648753708429, 0.18004375890582325, 0.12395358396783229, 0.12395358396783229, 0.18004375890582325, 0.18004375890582325, 0.12395358396783229, 0.12395358396783229, 0.12395358396783229, 0.18004375890582325, 0.18004375890582325, 0.12395358396783229]\n",
            "Media de falhas:  [0, 0.00646597213979489, 99.51761185919369, 233.89010693854746, 427.0714474320573, 839.6716132205529, 5742.941647190461, 12824.452554057669, 40795.65833182818, 377584.3750583337, 921362.7368680034, 1321548.7568005985, 3958552.257781302, 7559509.010122845, 3906622.837141224]\n",
            "Custo =  736622523.0273483\n",
            "\n",
            "=========================================================================\n",
            "\n",
            "Número de ciclos de manutenção: 11 5\n",
            "Tempos para manutenções preventivas: [0, 30, 111, 161, 201, 228, 317, 335, 392, 532, 546, 661]\n",
            "Severidade para cada subsistema: [0.5, 0.25, 0.75, 0.25, 0.75, 0.75, 0.5, 0.5, 0.5, 0.5, 0.75]\n",
            "Número de Sisemas: 5\n",
            "Fator:  [0.05155784880398928, 0.12395358396783229, 0.06402648753708429, 0.18004375890582325, 0.06402648753708429, 0.18004375890582325, 0.18004375890582325, 0.12395358396783229, 0.12395358396783229, 0.12395358396783229, 0.12395358396783229, 0.18004375890582325]\n",
            "Media de falhas:  [0, 7.797269975221016e-07, 0.3232644476785753, 6.486977122179424, 81.59789966547429, 150.28190428798126, 8220.034905781033, 9967.356088078996, 27750.549051594957, 902681.4508545818, 1118742.080432178, 7313860.979703534, 3624203.5857168864]\n",
            "Custo =  546175437.5212744\n",
            "\n",
            "=========================================================================\n",
            "\n",
            "Número de ciclos de manutenção: 12 5\n",
            "Tempos para manutenções preventivas: [0, 37, 95, 151, 227, 305, 378, 473, 536, 566, 598, 667, 702]\n",
            "Severidade para cada subsistema: [0.5, 0.5, 0.75, 0.75, 0.75, 0.5, 0.75, 0.5, 0.5, 0.5, 0.75, 0.75]\n",
            "Número de Sisemas: 5\n",
            "Fator:  [0.05155784880398928, 0.12395358396783229, 0.12395358396783229, 0.18004375890582325, 0.18004375890582325, 0.18004375890582325, 0.12395358396783229, 0.18004375890582325, 0.12395358396783229, 0.12395358396783229, 0.12395358396783229, 0.18004375890582325, 0.18004375890582325]\n",
            "Media de falhas:  [0, 6.341422303917883e-06, 0.06410045823617871, 3.6223425513418848, 201.96372629289218, 2290.045873857962, 17170.26168739061, 160590.85733035335, 764465.594906558, 1090856.7170974344, 2103184.022350556, 7039613.010357738, 11783337.358145658, 7343095.488281067]\n",
            "Custo =  1217811336.7565558\n",
            "\n",
            "=========================================================================\n",
            "\n",
            "Número de ciclos de manutenção: 9 5\n",
            "Tempos para manutenções preventivas: [0, 37, 147, 176, 224, 294, 371, 537, 598, 670]\n",
            "Severidade para cada subsistema: [0.5, 0.5, 0.5, 0.75, 0.25, 0.5, 0.5, 0.5, 0.75]\n",
            "Número de Sisemas: 5\n",
            "Fator:  [0.05155784880398928, 0.12395358396783229, 0.12395358396783229, 0.12395358396783229, 0.18004375890582325, 0.06402648753708429, 0.12395358396783229, 0.12395358396783229, 0.12395358396783229, 0.18004375890582325]\n",
            "Media de falhas:  [0, 6.341422303917883e-06, 5.407076459982439, 16.261684207198968, 155.3070766014239, 2375.7480911056937, 15303.046653921663, 1628022.8599541665, 3269873.6652292875, 8566204.696956549, 4042577.8866735147]\n",
            "Custo =  700069048.8172202\n",
            "\n",
            "=========================================================================\n",
            "\n",
            "Número de ciclos de manutenção: 9 5\n",
            "Tempos para manutenções preventivas: [0, 34, 60, 221, 353, 376, 419, 451, 663, 702]\n",
            "Severidade para cada subsistema: [0.5, 0.5, 0.75, 0.75, 0.5, 0.25, 0.5, 0.75, 0.75]\n",
            "Número de Sisemas: 5\n",
            "Fator:  [0.05155784880398928, 0.12395358396783229, 0.12395358396783229, 0.18004375890582325, 0.18004375890582325, 0.12395358396783229, 0.06402648753708429, 0.12395358396783229, 0.18004375890582325, 0.18004375890582325]\n",
            "Media de falhas:  [0, 2.7238590459835084e-06, 0.0005922647581896214, 257.47791070416247, 17590.334435658224, 23755.741328856726, 50893.85928877855, 126274.29873520562, 13517274.808622226, 18698397.7467842, 14258155.876919609]\n",
            "Custo =  971736683.3843011\n",
            "\n",
            "=========================================================================\n",
            "\n",
            "Número de ciclos de manutenção: 6 5\n",
            "Tempos para manutenções preventivas: [0, 84, 223, 439, 482, 629, 647]\n",
            "Severidade para cada subsistema: [0.5, 0.75, 0.75, 0.25, 0.25, 0.5]\n",
            "Número de Sisemas: 5\n",
            "Fator:  [0.05155784880398928, 0.12395358396783229, 0.18004375890582325, 0.18004375890582325, 0.06402648753708429, 0.06402648753708429, 0.12395358396783229]\n",
            "Media de falhas:  [0, 0.022949365417376463, 326.0678336677901, 180494.95818172433, 279695.4881482811, 3008163.460910069, 5285590.438150076, 522679.79989546817]\n",
            "Custo =  998267194.7997572\n",
            "\n",
            "=========================================================================\n",
            "\n",
            "Número de ciclos de manutenção: 8 5\n",
            "Tempos para manutenções preventivas: [0, 92, 137, 229, 430, 460, 480, 570, 711]\n",
            "Severidade para cada subsistema: [0.25, 0.75, 0.75, 0.75, 0.25, 0.25, 0.75, 0.5]\n",
            "Número de Sisemas: 5\n",
            "Fator:  [0.05155784880398928, 0.06402648753708429, 0.18004375890582325, 0.18004375890582325, 0.18004375890582325, 0.06402648753708429, 0.06402648753708429, 0.18004375890582325, 0.12395358396783229]\n",
            "Media de falhas:  [0, 0.056965632487263766, 2.1659997757810197, 350.64637872492955, 102799.72216924385, 151516.16690599226, 202723.62649288855, 2465708.964075285, 25292287.540844016, 20124284.128006138]\n",
            "Custo =  953165913.7526128\n",
            "\n",
            "=========================================================================\n",
            "\n",
            "Número de ciclos de manutenção: 10 5\n",
            "Tempos para manutenções preventivas: [0, 179, 209, 232, 304, 395, 455, 579, 631, 687, 698]\n",
            "Severidade para cada subsistema: [0.5, 0.25, 0.75, 0.75, 0.5, 0.25, 0.75, 0.5, 0.5, 0.5]\n",
            "Número de Sisemas: 5\n",
            "Fator:  [0.05155784880398928, 0.12395358396783229, 0.06402648753708429, 0.18004375890582325, 0.18004375890582325, 0.12395358396783229, 0.06402648753708429, 0.18004375890582325, 0.12395358396783229, 0.12395358396783229, 0.12395358396783229]\n",
            "Media de falhas:  [0, 44.104794054087854, 150.24541769024663, 275.35323850749364, 5290.460274824505, 31149.996933405393, 104965.42993545765, 1944873.495997454, 6191734.164646046, 9389578.00080786, 10993391.037442394, 3173580.4368602484]\n",
            "Custo =  1523206210.3943357\n",
            "\n",
            "=========================================================================\n",
            "\n",
            "Número de ciclos de manutenção: 11 5\n",
            "Tempos para manutenções preventivas: [0, 199, 235, 247, 273, 311, 351, 418, 580, 643, 681, 696]\n",
            "Severidade para cada subsistema: [0.25, 0.75, 0.5, 0.5, 0.75, 0.75, 0.5, 0.75, 0.5, 0.5, 0.5]\n",
            "Número de Sisemas: 5\n",
            "Fator:  [0.05155784880398928, 0.06402648753708429, 0.18004375890582325, 0.12395358396783229, 0.12395358396783229, 0.18004375890582325, 0.18004375890582325, 0.12395358396783229, 0.18004375890582325, 0.12395358396783229, 0.12395358396783229, 0.12395358396783229]\n",
            "Media de falhas:  [0, 127.11685166383782, 480.91911073053757, 723.0680032099772, 1078.2001379934247, 3764.2592283694776, 12370.499042891932, 48409.65902098731, 1412070.3117347893, 4710291.675696664, 6873755.579387685, 8959346.310339078, 1415333.4399447106]\n",
            "Custo =  1344780105.0518157\n",
            "\n",
            "=========================================================================\n",
            "\n",
            "Número de ciclos de manutenção: 11 5\n",
            "Tempos para manutenções preventivas: [0, 82, 195, 230, 256, 287, 313, 344, 575, 642, 683, 702]\n",
            "Severidade para cada subsistema: [0.5, 0.25, 0.75, 0.5, 0.75, 0.75, 0.25, 0.75, 0.5, 0.5, 0.5]\n",
            "Número de Sisemas: 5\n",
            "Fator:  [0.05155784880398928, 0.12395358396783229, 0.06402648753708429, 0.18004375890582325, 0.12395358396783229, 0.18004375890582325, 0.18004375890582325, 0.06402648753708429, 0.18004375890582325, 0.12395358396783229, 0.12395358396783229, 0.12395358396783229]\n",
            "Media de falhas:  [0, 0.01803768331794012, 83.36351185912875, 233.80718843445163, 826.4408991982942, 1468.149118124954, 3670.0981449538485, 7104.281579015458, 1643029.3355594398, 7541017.1603303645, 9907016.884546649, 12703069.81658394, 4310632.727625616]\n",
            "Custo =  1530011385.4384344\n",
            "\n",
            "=========================================================================\n",
            "\n",
            "Número de ciclos de manutenção: 11 5\n",
            "Tempos para manutenções preventivas: [0, 60, 136, 152, 203, 224, 254, 313, 377, 471, 643, 710]\n",
            "Severidade para cada subsistema: [0.5, 0.75, 0.75, 0.25, 0.75, 0.5, 0.75, 0.5, 0.75, 0.5, 0.5]\n",
            "Número de Sisemas: 5\n",
            "Fator:  [0.05155784880398928, 0.12395358396783229, 0.18004375890582325, 0.18004375890582325, 0.06402648753708429, 0.18004375890582325, 0.12395358396783229, 0.18004375890582325, 0.12395358396783229, 0.18004375890582325, 0.12395358396783229, 0.12395358396783229]\n",
            "Media de falhas:  [0, 0.0007950413646965206, 2.250492413901282, 4.154314303537117, 39.452331801129475, 88.05893800216492, 688.8274444642584, 2911.556260835531, 25251.325146102346, 162168.17925923047, 6022919.180439426, 10986891.797951475, 1360429.6912641637]\n"
          ]
        },
        {
          "output_type": "stream",
          "name": "stderr",
          "text": [
            "pyswarms.single.global_best:  30%|███       |30/100, best_cost=1.58e+8"
          ]
        },
        {
          "output_type": "stream",
          "name": "stdout",
          "text": [
            "Custo =  790174337.1888351\n",
            "\n",
            "=========================================================================\n",
            "\n",
            "Número de ciclos de manutenção: 10 5\n",
            "Tempos para manutenções preventivas: [0, 32, 104, 222, 248, 311, 332, 368, 435, 480, 519]\n",
            "Severidade para cada subsistema: [0.5, 0.25, 0.75, 0.5, 0.75, 0.25, 0.5, 0.75, 0.25, 0.75]\n",
            "Número de Sisemas: 5\n",
            "Fator:  [0.05155784880398928, 0.12395358396783229, 0.06402648753708429, 0.18004375890582325, 0.12395358396783229, 0.18004375890582325, 0.06402648753708429, 0.12395358396783229, 0.18004375890582325, 0.06402648753708429, 0.18004375890582325]\n",
            "Media de falhas:  [0, 1.4861316869926902e-06, 0.16532406098295235, 208.68927632228716, 648.8888372058416, 2832.14010004007, 6062.157670124923, 13224.298832751687, 163277.42799962274, 335495.47782834596, 517596.69475959294, 4003401.621046148]\n",
            "Custo =  216708169.00432247\n",
            "\n",
            "=========================================================================\n",
            "\n",
            "Número de ciclos de manutenção: 11 5\n",
            "Tempos para manutenções preventivas: [0, 35, 110, 146, 224, 309, 374, 401, 475, 486, 533, 673]\n",
            "Severidade para cada subsistema: [0.5, 0.75, 0.5, 0.75, 0.75, 0.5, 0.5, 0.75, 0.25, 0.75, 0.75]\n",
            "Número de Sisemas: 5\n",
            "Fator:  [0.05155784880398928, 0.12395358396783229, 0.18004375890582325, 0.12395358396783229, 0.18004375890582325, 0.18004375890582325, 0.12395358396783229, 0.12395358396783229, 0.18004375890582325, 0.06402648753708429, 0.18004375890582325, 0.18004375890582325]\n",
            "Media de falhas:  [0, 3.639137109243248e-06, 0.2880013084441897, 2.3576849117096734, 120.70555046365084, 4041.360287600815, 16542.224151959654, 29219.75656506678, 243493.67826822778, 303747.6281409303, 572430.7835681508, 14012600.078132953, 11438835.451603327]\n",
            "Custo =  584232252.0621152\n",
            "\n",
            "=========================================================================\n",
            "\n",
            "Número de ciclos de manutenção: 13 5\n",
            "Tempos para manutenções preventivas: [0, 36, 65, 145, 159, 229, 289, 303, 338, 388, 450, 488, 524, 669]\n",
            "Severidade para cada subsistema: [0.5, 0.5, 0.5, 0.5, 0.75, 0.75, 0.75, 0.25, 0.5, 0.75, 0.25, 0.75, 0.75]\n",
            "Número de Sisemas: 5\n",
            "Fator:  [0.05155784880398928, 0.12395358396783229, 0.12395358396783229, 0.12395358396783229, 0.12395358396783229, 0.18004375890582325, 0.18004375890582325, 0.18004375890582325, 0.06402648753708429, 0.12395358396783229, 0.18004375890582325, 0.06402648753708429, 0.18004375890582325, 0.18004375890582325]\n",
            "Media de falhas:  [0, 4.822449417819587e-06, 0.0013264932270187057, 3.0352373796885286, 5.673751337274272, 212.47989972363118, 1958.0567906378176, 2522.01169674217, 5713.642888809483, 20501.83710659642, 219313.7107376727, 397055.0798498292, 583770.5306717858, 13450353.360343784, 11085463.433322482]\n",
            "Custo =  546158112.93726\n",
            "\n",
            "=========================================================================\n",
            "\n",
            "Número de ciclos de manutenção: 11 5\n",
            "Tempos para manutenções preventivas: [0, 36, 83, 115, 232, 295, 341, 418, 486, 549, 627, 691]\n",
            "Severidade para cada subsistema: [0.5, 0.5, 0.5, 0.75, 0.75, 0.75, 0.25, 0.25, 0.75, 0.25, 0.75]\n",
            "Número de Sisemas: 5\n",
            "Fator:  [0.05155784880398928, 0.12395358396783229, 0.12395358396783229, 0.12395358396783229, 0.18004375890582325, 0.18004375890582325, 0.18004375890582325, 0.06402648753708429, 0.06402648753708429, 0.18004375890582325, 0.06402648753708429, 0.18004375890582325]\n",
            "Media de falhas:  [0, 4.822449417819587e-06, 0.016243625388464168, 0.2184756903041549, 312.6279404687417, 2487.3746470875467, 6685.718788661893, 46132.17537924667, 194624.45691986004, 1502729.500814075, 6674509.552177925, 10407523.74976665, -2540260.476933636]\n",
            "Custo =  1162019607.0818653\n",
            "\n",
            "=========================================================================\n",
            "\n",
            "Número de ciclos de manutenção: 11 5\n",
            "Tempos para manutenções preventivas: [0, 32, 209, 233, 276, 416, 436, 456, 481, 550, 627, 630]\n",
            "Severidade para cada subsistema: [0.5, 0.25, 0.75, 0.75, 0.25, 0.75, 0.5, 0.25, 0.75, 0.25, 0.75]\n",
            "Número de Sisemas: 5\n",
            "Fator:  [0.05155784880398928, 0.12395358396783229, 0.06402648753708429, 0.18004375890582325, 0.18004375890582325, 0.06402648753708429, 0.18004375890582325, 0.12395358396783229, 0.06402648753708429, 0.18004375890582325, 0.06402648753708429, 0.18004375890582325]\n",
            "Media de falhas:  [0, 1.4861316869926902e-06, 191.69289104028653, 325.7417724554782, 1925.731740217544, 58025.54779452811, 79308.06560055807, 181354.37375865187, 244498.032315752, 1058902.6978719744, 6192730.096182301, 6292946.0418808805, 3614092.2051402377]\n",
            "Custo =  841258691.3369491\n",
            "\n",
            "=========================================================================\n",
            "\n",
            "Número de ciclos de manutenção: 8 5\n",
            "Tempos para manutenções preventivas: [0, 140, 171, 203, 229, 424, 544, 629, 634]\n",
            "Severidade para cada subsistema: [0.75, 0.5, 0.25, 0.75, 0.75, 0.75, 0.25, 0.75]\n",
            "Número de Sisemas: 5\n",
            "Fator:  [0.05155784880398928, 0.18004375890582325, 0.12395358396783229, 0.06402648753708429, 0.18004375890582325, 0.18004375890582325, 0.18004375890582325, 0.06402648753708429, 0.18004375890582325]\n",
            "Media de falhas:  [0, 3.7834911721271496, 19.70329732015886, 45.83334213021134, 166.1113732775891, 171517.76367651531, 787650.4974094252, 2697171.804685319, 2872079.9461745205, -254842.26587349316]\n",
            "Custo =  621739108.0609618\n",
            "\n",
            "=========================================================================\n",
            "\n",
            "Número de ciclos de manutenção: 12 5\n",
            "Tempos para manutenções preventivas: [0, 104, 160, 200, 225, 243, 275, 302, 398, 481, 629, 643, 689]\n",
            "Severidade para cada subsistema: [0.75, 0.75, 0.25, 0.75, 0.5, 0.5, 0.75, 0.5, 0.25, 0.25, 0.75, 0.5]\n",
            "Número de Sisemas: 5\n",
            "Fator:  [0.05155784880398928, 0.18004375890582325, 0.18004375890582325, 0.06402648753708429, 0.18004375890582325, 0.12395358396783229, 0.12395358396783229, 0.18004375890582325, 0.12395358396783229, 0.06402648753708429, 0.06402648753708429, 0.18004375890582325, 0.12395358396783229]\n",
            "Media de falhas:  [0, 0.19397257159890138, 10.301039058965753, 36.56910946978022, 94.08441937016477, 378.32358829021973, 819.8704199271785, 2443.3883142837676, 48552.62290045144, 202363.34403476724, 4616851.7964148745, 6333763.672952684, 15123616.950518109, 11602807.283724423]\n",
            "Custo =  1542138303.6610622\n",
            "\n",
            "=========================================================================\n",
            "\n",
            "Número de ciclos de manutenção: 13 5\n",
            "Tempos para manutenções preventivas: [0, 74, 204, 222, 250, 309, 333, 419, 472, 481, 529, 568, 634, 719]\n",
            "Severidade para cada subsistema: [0.5, 0.25, 0.75, 0.5, 0.75, 0.75, 0.5, 0.5, 0.25, 0.25, 0.5, 0.75, 0.5]\n",
            "Número de Sisemas: 5\n",
            "Fator:  [0.05155784880398928, 0.12395358396783229, 0.06402648753708429, 0.18004375890582325, 0.12395358396783229, 0.18004375890582325, 0.18004375890582325, 0.12395358396783229, 0.12395358396783229, 0.06402648753708429, 0.06402648753708429, 0.12395358396783229, 0.18004375890582325, 0.12395358396783229]\n",
            "Media de falhas:  [0, 0.00646597213979489, 134.88830017716685, 204.73558209754611, 701.4469374370906, 2672.271698716753, 6352.703288431889, 49653.169398729005, 144857.82084783405, 190440.10768614057, 635069.0260202957, 1937683.1965714968, 7132872.766395152, 18546366.353366233, 12661220.012549005]\n",
            "Custo =  1250737406.3422441\n",
            "\n",
            "=========================================================================\n",
            "\n",
            "Número de ciclos de manutenção: 12 5\n",
            "Tempos para manutenções preventivas: [0, 101, 140, 221, 251, 317, 346, 377, 424, 450, 483, 521, 569]\n",
            "Severidade para cada subsistema: [0.5, 0.75, 0.75, 0.5, 0.75, 0.25, 0.5, 0.75, 0.75, 0.25, 0.5, 0.5]\n",
            "Número de Sisemas: 5\n",
            "Fator:  [0.05155784880398928, 0.12395358396783229, 0.18004375890582325, 0.18004375890582325, 0.12395358396783229, 0.18004375890582325, 0.06402648753708429, 0.12395358396783229, 0.18004375890582325, 0.18004375890582325, 0.06402648753708429, 0.12395358396783229, 0.12395358396783229]\n",
            "Media de falhas:  [0, 0.1447767785899003, 2.6499317261409363, 161.7376715605215, 342.37438796301365, 3031.7826600578146, 9066.832777336022, 17069.160017292175, 113950.33821838608, 176761.51044265536, 259106.75627158937, 443965.78378462815, 1979193.7705239004, 2996354.4321262967]\n",
            "Custo =  308593034.32241654\n",
            "\n",
            "=========================================================================\n",
            "\n",
            "Número de ciclos de manutenção: 10 5\n",
            "Tempos para manutenções preventivas: [0, 219, 249, 295, 321, 354, 428, 474, 484, 516, 658]\n",
            "Severidade para cada subsistema: [0.75, 0.5, 0.25, 0.75, 0.75, 0.75, 0.75, 0.25, 0.75, 0.5]\n",
            "Número de Sisemas: 5\n",
            "Fator:  [0.05155784880398928, 0.18004375890582325, 0.12395358396783229, 0.06402648753708429, 0.18004375890582325, 0.18004375890582325, 0.18004375890582325, 0.18004375890582325, 0.06402648753708429, 0.18004375890582325, 0.12395358396783229]\n",
            "Media de falhas:  [0, 331.0225077855162, 887.0079103293233, 1974.1620711731337, 4756.1429413771775, 19062.128842406608, 67017.81445586712, 156371.16447091027, 185917.57409098477, 333348.5474471672, 11217263.38098253, 9376069.208114259]\n",
            "Custo =  476516332.55189735\n",
            "\n",
            "=========================================================================\n",
            "\n",
            "Número de ciclos de manutenção: 8 5\n",
            "Tempos para manutenções preventivas: [0, 176, 225, 315, 340, 411, 431, 475, 484]\n",
            "Severidade para cada subsistema: [0.5, 0.75, 0.75, 0.25, 0.5, 0.75, 0.75, 0.25]\n",
            "Número de Sisemas: 5\n",
            "Fator:  [0.05155784880398928, 0.12395358396783229, 0.18004375890582325, 0.18004375890582325, 0.06402648753708429, 0.12395358396783229, 0.18004375890582325, 0.18004375890582325, 0.06402648753708429]\n",
            "Media de falhas:  [0, 37.250091672887486, 302.71168418153053, 5143.73881062644, 7756.856451410187, 39722.84097299291, 100563.45480484542, 254372.33077241664, 281149.2237099674, 1788705.9439010052]\n"
          ]
        },
        {
          "output_type": "stream",
          "name": "stderr",
          "text": [
            "pyswarms.single.global_best:  42%|████▏     |42/100, best_cost=6.4e+7 "
          ]
        },
        {
          "output_type": "stream",
          "name": "stdout",
          "text": [
            "Custo =  92494626.18392625\n",
            "\n",
            "=========================================================================\n",
            "\n",
            "Número de ciclos de manutenção: 11 5\n",
            "Tempos para manutenções preventivas: [0, 33, 65, 227, 308, 394, 428, 458, 485, 544, 654, 662]\n",
            "Severidade para cada subsistema: [0.5, 0.5, 0.75, 0.75, 0.5, 0.75, 0.75, 0.25, 0.75, 0.25, 0.75]\n",
            "Número de Sisemas: 5\n",
            "Fator:  [0.05155784880398928, 0.12395358396783229, 0.12395358396783229, 0.18004375890582325, 0.18004375890582325, 0.12395358396783229, 0.18004375890582325, 0.18004375890582325, 0.06402648753708429, 0.18004375890582325, 0.06402648753708429, 0.18004375890582325]\n",
            "Media de falhas:  [0, 2.021224976483433e-06, 0.0013581264281135395, 330.1636232472297, 4042.8369523146007, 28397.124605344154, 56089.7215907932, 138777.8645772195, 211415.52504924446, 595186.0103122955, 9808718.135789216, 10215604.86025918, 3174234.880328864]\n",
            "Custo =  1045152461.2132733\n",
            "\n",
            "=========================================================================\n",
            "\n",
            "Número de ciclos de manutenção: 13 5\n",
            "Tempos para manutenções preventivas: [0, 38, 67, 104, 156, 229, 303, 423, 487, 519, 558, 644, 662, 712]\n",
            "Severidade para cada subsistema: [0.5, 0.5, 0.5, 0.25, 0.75, 0.75, 0.75, 0.25, 0.5, 0.75, 0.25, 0.75, 0.5]\n",
            "Número de Sisemas: 5\n",
            "Fator:  [0.05155784880398928, 0.12395358396783229, 0.12395358396783229, 0.12395358396783229, 0.06402648753708429, 0.18004375890582325, 0.18004375890582325, 0.18004375890582325, 0.06402648753708429, 0.12395358396783229, 0.18004375890582325, 0.06402648753708429, 0.18004375890582325, 0.12395358396783229]\n",
            "Media de falhas:  [0, 8.278165719682774e-06, 0.0017838125480134186, 0.0855814579950706, 4.746033158725757, 215.9416328126927, 5121.452132299012, 63901.29943781806, 209153.3129764317, 364642.7062104541, 1469735.7986251279, 5566542.515453659, 6436763.034047441, 19104981.966098625, 13851088.69180499]\n",
            "Custo =  1729123799.029686\n",
            "\n",
            "=========================================================================\n",
            "\n",
            "Número de ciclos de manutenção: 9 5\n",
            "Tempos para manutenções preventivas: [0, 37, 62, 226, 420, 469, 488, 532, 558, 696]\n",
            "Severidade para cada subsistema: [0.5, 0.5, 0.75, 0.75, 0.5, 0.25, 0.75, 0.75, 0.5]\n",
            "Número de Sisemas: 5\n",
            "Fator:  [0.05155784880398928, 0.12395358396783229, 0.12395358396783229, 0.18004375890582325, 0.18004375890582325, 0.12395358396783229, 0.06402648753708429, 0.18004375890582325, 0.18004375890582325, 0.12395358396783229]\n",
            "Media de falhas:  [0, 6.341422303917883e-06, 0.0008099622936353229, 320.8180403139836, 111519.52530861416, 196341.061978105, 253279.56828761118, 693520.0516508981, 1499884.470404894, 8252627.379579465, 4254986.03855206]\n",
            "Custo =  547591148.7244076\n",
            "\n",
            "=========================================================================\n",
            "\n",
            "Número de ciclos de manutenção: 12 5\n",
            "Tempos para manutenções preventivas: [0, 32, 110, 156, 219, 288, 355, 422, 488, 550, 629, 637, 693]\n",
            "Severidade para cada subsistema: [0.5, 0.75, 0.25, 0.75, 0.25, 0.25, 0.75, 0.25, 0.75, 0.25, 0.5, 0.5]\n",
            "Número de Sisemas: 5\n",
            "Fator:  [0.05155784880398928, 0.12395358396783229, 0.18004375890582325, 0.06402648753708429, 0.18004375890582325, 0.06402648753708429, 0.06402648753708429, 0.18004375890582325, 0.06402648753708429, 0.18004375890582325, 0.06402648753708429, 0.12395358396783229, 0.12395358396783229]\n",
            "Media de falhas:  [0, 1.4861316869926902e-06, 0.2921416159558848, 4.674651910008678, 87.11350703420109, 3020.6423935661596, 10850.17929124193, 123317.55862302112, 565873.9995105587, 1006085.860405115, 6374125.6105072405, 6661472.1538802, 17350435.709479153, 10207422.432940232]\n",
            "Custo =  1548778018.4171517\n",
            "\n",
            "=========================================================================\n",
            "\n",
            "Número de ciclos de manutenção: 13 5\n",
            "Tempos para manutenções preventivas: [0, 102, 130, 176, 213, 288, 302, 344, 362, 424, 470, 488, 529, 629]\n",
            "Severidade para cada subsistema: [0.75, 0.75, 0.25, 0.75, 0.25, 0.75, 0.5, 0.5, 0.75, 0.5, 0.25, 0.5, 0.25]\n",
            "Número de Sisemas: 5\n",
            "Fator:  [0.05155784880398928, 0.18004375890582325, 0.18004375890582325, 0.06402648753708429, 0.18004375890582325, 0.06402648753708429, 0.18004375890582325, 0.12395358396783229, 0.12395358396783229, 0.18004375890582325, 0.12395358396783229, 0.06402648753708429, 0.12395358396783229, 0.06402648753708429]\n",
            "Media de falhas:  [0, 0.1597572415853363, 1.2596645548582575, 9.960348744011181, 54.97796759120148, 3073.7062915410775, 3620.877612503188, 16312.045973760876, 19864.49087698552, 86240.28450258699, 230008.59630387812, 284306.3782014034, 680970.4770623059, 6757093.951886699, 5359724.550697574]\n",
            "Custo =  505658348.5362014\n",
            "\n",
            "=========================================================================\n",
            "\n",
            "Número de ciclos de manutenção: 11 5\n",
            "Tempos para manutenções preventivas: [0, 130, 161, 211, 303, 367, 391, 425, 454, 488, 628, 705]\n",
            "Severidade para cada subsistema: [0.75, 0.5, 0.75, 0.75, 0.5, 0.5, 0.75, 0.75, 0.25, 0.25, 0.5]\n",
            "Número de Sisemas: 5\n",
            "Fator:  [0.05155784880398928, 0.18004375890582325, 0.12395358396783229, 0.18004375890582325, 0.18004375890582325, 0.12395358396783229, 0.12395358396783229, 0.18004375890582325, 0.18004375890582325, 0.06402648753708429, 0.06402648753708429, 0.12395358396783229]\n",
            "Media de falhas:  [0, 1.8040309503532435, 10.739763331831048, 60.74783583020424, 3444.7798839196616, 13817.411407091717, 22957.800900036997, 68508.88794282754, 142789.66876871878, 235494.50467679632, 2840676.3294291752, 18300384.319300517, 1611163.8475597892]\n",
            "Custo =  1542152038.6546445\n",
            "\n",
            "=========================================================================\n",
            "\n",
            "Número de ciclos de manutenção: 12 5\n",
            "Tempos para manutenções preventivas: [0, 125, 213, 244, 303, 337, 369, 404, 427, 477, 488, 629, 717]\n",
            "Severidade para cada subsistema: [0.75, 0.75, 0.5, 0.75, 0.75, 0.5, 0.5, 0.75, 0.75, 0.25, 0.25, 0.5]\n",
            "Número de Sisemas: 5\n",
            "Fator:  [0.05155784880398928, 0.18004375890582325, 0.18004375890582325, 0.12395358396783229, 0.18004375890582325, 0.18004375890582325, 0.12395358396783229, 0.12395358396783229, 0.18004375890582325, 0.18004375890582325, 0.06402648753708429, 0.06402648753708429, 0.12395358396783229]\n",
            "Media de falhas:  [0, 1.2190329070402965, 184.97495688957505, 327.03992833686505, 1967.6383033253678, 7250.93070803501, 13976.594996936832, 30599.689917481526, 65739.76662421014, 240359.0740503978, 275138.06757256534, 2931476.4906039536, 22540234.185754348, 2076115.6272824854]\n",
            "Custo =  1702522169.9373126\n",
            "\n",
            "=========================================================================\n",
            "\n",
            "Número de ciclos de manutenção: 11 5\n",
            "Tempos para manutenções preventivas: [0, 218, 243, 305, 339, 360, 415, 427, 479, 487, 530, 653]\n",
            "Severidade para cada subsistema: [0.75, 0.5, 0.75, 0.75, 0.5, 0.5, 0.75, 0.75, 0.25, 0.75, 0.5]\n",
            "Número de Sisemas: 5\n",
            "Fator:  [0.05155784880398928, 0.18004375890582325, 0.12395358396783229, 0.18004375890582325, 0.18004375890582325, 0.12395358396783229, 0.12395358396783229, 0.18004375890582325, 0.18004375890582325, 0.06402648753708429, 0.18004375890582325, 0.12395358396783229]\n",
            "Media de falhas:  [0, 316.223066430556, 712.8945482996126, 2513.910139768862, 8096.48530320717, 11936.490538818973, 41465.377579709675, 61577.5393201112, 247961.95416936954, 273308.61217707937, 511636.36540265946, 10055842.41092678, 8430042.729585603]\n",
            "Custo =  492691180.7184151\n",
            "\n",
            "=========================================================================\n",
            "\n",
            "Número de ciclos de manutenção: 10 5\n",
            "Tempos para manutenções preventivas: [0, 33, 103, 170, 222, 297, 302, 350, 428, 462, 487]\n",
            "Severidade para cada subsistema: [0.5, 0.5, 0.5, 0.75, 0.25, 0.75, 0.75, 0.75, 0.75, 0.25]\n",
            "Número de Sisemas: 5\n",
            "Fator:  [0.05155784880398928, 0.12395358396783229, 0.12395358396783229, 0.12395358396783229, 0.18004375890582325, 0.06402648753708429, 0.18004375890582325, 0.18004375890582325, 0.18004375890582325, 0.18004375890582325, 0.06402648753708429]\n",
            "Media de falhas:  [0, 2.021224976483433e-06, 0.14911239465185205, 12.17290042293818, 145.1294691339968, 2675.3438941632867, 2890.716297809366, 18982.18978625277, 68597.59860430827, 124607.57019414852, 195339.03426006428, 1677760.9341625688]\n",
            "Custo =  74588836.69563553\n",
            "\n",
            "=========================================================================\n",
            "\n",
            "Número de ciclos de manutenção: 5 5\n",
            "Tempos para manutenções preventivas: [0, 38, 106, 224, 426, 486]\n",
            "Severidade para cada subsistema: [0.5, 0.5, 0.75, 0.75, 0.25]\n",
            "Número de Sisemas: 5\n",
            "Fator:  [0.05155784880398928, 0.12395358396783229, 0.12395358396783229, 0.18004375890582325, 0.18004375890582325, 0.06402648753708429]\n",
            "Media de falhas:  [0, 8.278165719682774e-06, 0.19473784907637817, 226.8463426325273, 130494.73059302715, 266790.2590283426, 1757622.0958035965]\n",
            "Custo =  63983890.26191171\n"
          ]
        },
        {
          "output_type": "stream",
          "name": "stderr",
          "text": [
            "pyswarms.single.global_best:  54%|█████▍    |54/100, best_cost=6.4e+7"
          ]
        },
        {
          "output_type": "stream",
          "name": "stdout",
          "text": [
            "\n",
            "=========================================================================\n",
            "\n",
            "Número de ciclos de manutenção: 8 5\n",
            "Tempos para manutenções preventivas: [0, 42, 156, 226, 422, 452, 487, 629, 712]\n",
            "Severidade para cada subsistema: [0.5, 0.25, 0.75, 0.75, 0.5, 0.25, 0.25, 0.5]\n",
            "Número de Sisemas: 5\n",
            "Fator:  [0.05155784880398928, 0.12395358396783229, 0.06402648753708429, 0.18004375890582325, 0.18004375890582325, 0.12395358396783229, 0.06402648753708429, 0.06402648753708429, 0.12395358396783229]\n",
            "Media de falhas:  [0, 2.2507306646565497e-05, 9.70287233349554, 192.1700066544368, 164150.27968882953, 205612.81662069133, 298698.0705375066, 4622679.457614771, 22367454.10454368, 3545083.78313756]\n",
            "Custo =  1668723733.0577135\n",
            "\n",
            "=========================================================================\n",
            "\n",
            "Número de ciclos de manutenção: 12 5\n",
            "Tempos para manutenções preventivas: [0, 45, 107, 124, 223, 273, 414, 474, 489, 519, 627, 632, 702]\n",
            "Severidade para cada subsistema: [0.5, 0.75, 0.75, 0.75, 0.25, 0.5, 0.25, 0.25, 0.75, 0.25, 0.5, 0.5]\n",
            "Número de Sisemas: 5\n",
            "Fator:  [0.05155784880398928, 0.12395358396783229, 0.18004375890582325, 0.18004375890582325, 0.18004375890582325, 0.06402648753708429, 0.12395358396783229, 0.06402648753708429, 0.06402648753708429, 0.18004375890582325, 0.06402648753708429, 0.12395358396783229, 0.12395358396783229]\n",
            "Media de falhas:  [0, 4.485091853217865e-05, 0.2070432241416497, 0.5015853646891179, 138.56766772302618, 694.979525854096, 54629.58500622467, 373610.9594101014, 457912.1498050114, 922031.8787092002, 7034422.93084587, 7204416.09910015, 21200063.29736875, 12807626.208410425]\n",
            "Custo =  1598457024.5191793\n",
            "\n",
            "=========================================================================\n",
            "\n",
            "Número de ciclos de manutenção: 10 5\n",
            "Tempos para manutenções preventivas: [0, 44, 132, 218, 359, 400, 469, 490, 625, 648, 691]\n",
            "Severidade para cada subsistema: [0.5, 0.75, 0.75, 0.75, 0.5, 0.25, 0.25, 0.25, 0.5, 0.5]\n",
            "Número de Sisemas: 5\n",
            "Fator:  [0.05155784880398928, 0.12395358396783229, 0.18004375890582325, 0.18004375890582325, 0.18004375890582325, 0.12395358396783229, 0.06402648753708429, 0.06402648753708429, 0.06402648753708429, 0.12395358396783229, 0.12395358396783229]\n",
            "Media de falhas:  [0, 3.582886407352297e-05, 1.7671462100960678, 146.20578144328834, 14641.107942224324, 31693.1892880924, 139289.74475849286, 254310.4110662422, 6764806.009193224, 9625791.167579848, 18207569.468029484, 11323650.24279482]\n",
            "Custo =  1821589734.062113\n",
            "\n",
            "=========================================================================\n",
            "\n",
            "Número de ciclos de manutenção: 8 5\n",
            "Tempos para manutenções preventivas: [0, 40, 113, 130, 155, 215, 398, 490, 624]\n",
            "Severidade para cada subsistema: [0.5, 0.75, 0.75, 0.25, 0.75, 0.5, 0.25, 0.25]\n",
            "Número de Sisemas: 5\n",
            "Fator:  [0.05155784880398928, 0.12395358396783229, 0.18004375890582325, 0.18004375890582325, 0.06402648753708429, 0.18004375890582325, 0.12395358396783229, 0.06402648753708429, 0.06402648753708429]\n",
            "Media de falhas:  [0, 1.3821683847030447e-05, 0.3698554396246868, 0.8287432462584756, 2.6183533030116166, 69.79402798615455, 91102.51345970084, 286583.08675553766, 4179329.2141902046, 2128316.1515382333]\n",
            "Custo =  468531947.3693262\n",
            "\n",
            "=========================================================================\n",
            "\n",
            "Número de ciclos de manutenção: 12 5\n",
            "Tempos para manutenções preventivas: [0, 34, 92, 120, 215, 279, 361, 404, 420, 459, 490, 531, 623]\n",
            "Severidade para cada subsistema: [0.5, 0.75, 0.75, 0.75, 0.25, 0.5, 0.5, 0.75, 0.5, 0.25, 0.5, 0.25]\n",
            "Número de Sisemas: 5\n",
            "Fator:  [0.05155784880398928, 0.12395358396783229, 0.18004375890582325, 0.18004375890582325, 0.18004375890582325, 0.06402648753708429, 0.12395358396783229, 0.12395358396783229, 0.18004375890582325, 0.12395358396783229, 0.06402648753708429, 0.12395358396783229, 0.06402648753708429]\n",
            "Media de falhas:  [0, 2.7238590459835084e-06, 0.047003018340416286, 0.3306653754358859, 95.76142667727797, 894.5271386290909, 11318.109076326002, 69624.89410776937, 91909.60088631771, 194611.38912591233, 283988.41941203794, 694745.7606787736, 6016658.220263771, 4953011.837325643]\n",
            "Custo =  490068919.370052\n",
            "\n",
            "=========================================================================\n",
            "\n",
            "Número de ciclos de manutenção: 9 5\n",
            "Tempos para manutenções preventivas: [0, 151, 217, 302, 361, 410, 421, 489, 626, 659]\n",
            "Severidade para cada subsistema: [0.5, 0.75, 0.75, 0.5, 0.5, 0.75, 0.25, 0.25, 0.5]\n",
            "Número de Sisemas: 5\n",
            "Fator:  [0.05155784880398928, 0.12395358396783229, 0.18004375890582325, 0.18004375890582325, 0.12395358396783229, 0.12395358396783229, 0.18004375890582325, 0.06402648753708429, 0.06402648753708429, 0.12395358396783229]\n",
            "Media de falhas:  [0, 8.057116811005905, 212.94407369543998, 3366.508435170159, 11800.062537036385, 36154.10043609879, 52505.62844851334, 320467.7665495913, 2814210.8613334633, 7321769.6212793635, 773144.7119338792]\n",
            "Custo =  1087586407.3793416\n",
            "\n",
            "=========================================================================\n",
            "\n",
            "Número de ciclos de manutenção: 12 5\n",
            "Tempos para manutenções preventivas: [0, 114, 167, 221, 281, 305, 417, 421, 451, 488, 520, 628, 651]\n",
            "Severidade para cada subsistema: [0.5, 0.5, 0.75, 0.5, 0.75, 0.5, 0.75, 0.75, 0.25, 0.25, 0.25, 0.5]\n",
            "Número de Sisemas: 5\n",
            "Fator:  [0.05155784880398928, 0.12395358396783229, 0.12395358396783229, 0.18004375890582325, 0.12395358396783229, 0.18004375890582325, 0.12395358396783229, 0.18004375890582325, 0.18004375890582325, 0.06402648753708429, 0.06402648753708429, 0.06402648753708429, 0.12395358396783229]\n",
            "Media de falhas:  [0, 0.48552325888995995, 15.609229816019935, 145.3975409052162, 1483.052601567939, 2413.3875812191677, 79900.47796739337, 83402.47116479311, 155144.69524086977, 254236.67840042352, 412497.9340738486, 6618487.027911138, 9602781.34826829, 4276113.739395245]\n",
            "Custo =  1213226901.378596\n",
            "\n",
            "=========================================================================\n",
            "\n",
            "Número de ciclos de manutenção: 10 5\n",
            "Tempos para manutenções preventivas: [0, 62, 151, 225, 292, 307, 358, 421, 455, 487, 635]\n",
            "Severidade para cada subsistema: [0.5, 0.5, 0.75, 0.75, 0.75, 0.75, 0.75, 0.75, 0.25, 0.5]\n",
            "Número de Sisemas: 5\n",
            "Fator:  [0.05155784880398928, 0.12395358396783229, 0.12395358396783229, 0.18004375890582325, 0.18004375890582325, 0.18004375890582325, 0.18004375890582325, 0.18004375890582325, 0.18004375890582325, 0.06402648753708429, 0.12395358396783229]\n",
            "Media de falhas:  [0, 0.0011033326442781042, 6.506422708527718, 186.41801544558425, 2222.510805104924, 2896.7653302533513, 9980.32777912872, 46971.54472179965, 95634.9916851641, 182302.57822269015, 3177082.0701600527, -65720.79472517222]\n",
            "Custo =  471322190.97519183\n",
            "\n",
            "=========================================================================\n",
            "\n",
            "Número de ciclos de manutenção: 8 5\n",
            "Tempos para manutenções preventivas: [0, 30, 62, 178, 226, 307, 339, 486, 704]\n",
            "Severidade para cada subsistema: [0.5, 0.5, 0.25, 0.75, 0.75, 0.75, 0.25, 0.5]\n",
            "Número de Sisemas: 5\n",
            "Fator:  [0.05155784880398928, 0.12395358396783229, 0.12395358396783229, 0.06402648753708429, 0.18004375890582325, 0.18004375890582325, 0.18004375890582325, 0.06402648753708429, 0.12395358396783229]\n",
            "Media de falhas:  [0, 7.797269975221016e-07, 0.0008574660936302864, 26.83017036632182, 178.10514830381558, 5919.22117581989, 8990.493469331575, 254965.43337431457, 10403213.057027265, -5996260.636549011]\n",
            "Custo =  824330556.9325383\n",
            "\n",
            "=========================================================================\n",
            "\n",
            "Número de ciclos de manutenção: 9 5\n",
            "Tempos para manutenções preventivas: [0, 34, 113, 223, 302, 344, 383, 418, 470, 487]\n",
            "Severidade para cada subsistema: [0.5, 0.75, 0.75, 0.75, 0.75, 0.25, 0.5, 0.5, 0.25]\n",
            "Número de Sisemas: 5\n",
            "Fator:  [0.05155784880398928, 0.12395358396783229, 0.18004375890582325, 0.18004375890582325, 0.18004375890582325, 0.18004375890582325, 0.06402648753708429, 0.12395358396783229, 0.12395358396783229, 0.06402648753708429]\n",
            "Media de falhas:  [0, 2.7238590459835084e-06, 0.38028791330238215, 207.6881528617688, 2127.6823466787564, 6405.965464136546, 17401.078686958987, 40168.51684192721, 311052.30566156196, 401724.62469257624, 2858652.795447178]\n",
            "Custo =  133385905.61827305\n",
            "\n",
            "=========================================================================\n",
            "\n",
            "Número de ciclos de manutenção: 6 5\n",
            "Tempos para manutenções preventivas: [0, 39, 124, 219, 282, 412, 487]\n",
            "Severidade para cada subsistema: [0.5, 0.75, 0.75, 0.75, 0.5, 0.25]\n",
            "Número de Sisemas: 5\n",
            "Fator:  [0.05155784880398928, 0.12395358396783229, 0.18004375890582325, 0.18004375890582325, 0.18004375890582325, 0.12395358396783229, 0.06402648753708429]\n",
            "Media de falhas:  [0, 1.0731854774400642e-05, 0.9554277898248491, 160.62004473719398, 1034.5262877944358, 49656.13851242401, 211259.8250213922, 2668187.9957759944]\n",
            "Custo =  97148711.04752082\n",
            "\n",
            "=========================================================================\n",
            "\n",
            "Número de ciclos de manutenção: 8 5\n",
            "Tempos para manutenções preventivas: [0, 42, 124, 213, 404, 423, 487, 536, 628]\n",
            "Severidade para cada subsistema: [0.5, 0.75, 0.75, 0.5, 0.75, 0.25, 0.75, 0.25]\n",
            "Número de Sisemas: 5\n",
            "Fator:  [0.05155784880398928, 0.12395358396783229, 0.18004375890582325, 0.18004375890582325, 0.12395358396783229, 0.18004375890582325, 0.06402648753708429, 0.18004375890582325, 0.06402648753708429]\n",
            "Media de falhas:  [0, 2.2507306646565497e-05, 0.9433948018716736, 119.278995862858, 55638.105368502496, 71084.15265688972, 319599.7978547839, 611590.8758471457, 6352554.076381021, 5624504.733154242]\n",
            "Custo =  397403496.1281922\n"
          ]
        },
        {
          "output_type": "stream",
          "name": "stderr",
          "text": [
            "pyswarms.single.global_best:  73%|███████▎  |73/100, best_cost=6.4e+7"
          ]
        },
        {
          "output_type": "stream",
          "name": "stdout",
          "text": [
            "\n",
            "=========================================================================\n",
            "\n",
            "Número de ciclos de manutenção: 12 5\n",
            "Tempos para manutenções preventivas: [0, 41, 118, 123, 212, 271, 361, 399, 425, 489, 626, 635, 710]\n",
            "Severidade para cada subsistema: [0.5, 0.75, 0.75, 0.75, 0.5, 0.5, 0.5, 0.75, 0.25, 0.25, 0.5, 0.5]\n",
            "Número de Sisemas: 5\n",
            "Fator:  [0.05155784880398928, 0.12395358396783229, 0.18004375890582325, 0.18004375890582325, 0.18004375890582325, 0.12395358396783229, 0.12395358396783229, 0.12395358396783229, 0.18004375890582325, 0.06402648753708429, 0.06402648753708429, 0.12395358396783229, 0.12395358396783229]\n",
            "Media de falhas:  [0, 1.7690235100057432e-05, 0.5720549023449273, 0.6822194226858199, 79.97412146479067, 657.5239585760737, 11727.49521940801, 39184.622551184744, 76309.36236800934, 334562.511242406, 2828305.606026278, 3845697.843506445, 20099169.24292333, 10472707.13623602]\n",
            "Custo =  1767170675.5037496\n",
            "\n",
            "=========================================================================\n",
            "\n",
            "Número de ciclos de manutenção: 15 5\n",
            "Tempos para manutenções preventivas: [0, 38, 110, 122, 169, 216, 351, 371, 395, 426, 479, 490, 519, 624, 652, 695]\n",
            "Severidade para cada subsistema: [0.5, 0.75, 0.75, 0.25, 0.75, 0.25, 0.5, 0.5, 0.75, 0.25, 0.25, 0.75, 0.25, 0.5, 0.5]\n",
            "Número de Sisemas: 5\n",
            "Fator:  [0.05155784880398928, 0.12395358396783229, 0.18004375890582325, 0.18004375890582325, 0.06402648753708429, 0.18004375890582325, 0.06402648753708429, 0.12395358396783229, 0.12395358396783229, 0.18004375890582325, 0.06402648753708429, 0.06402648753708429, 0.18004375890582325, 0.06402648753708429, 0.12395358396783229, 0.12395358396783229]\n",
            "Media de falhas:  [0, 8.278165719682774e-06, 0.2839149262021651, 0.4859258262864812, 6.529990277703863, 66.35566580927976, 24620.832327090022, 29480.23273797086, 60982.949907927235, 104439.69957273686, 293185.14253775263, 329278.36493170063, 781298.4953498216, 6545092.6365014715, 7666950.6891036015, 16718486.167500908, 9309813.225198152]\n",
            "Custo =  1636069390.9846556\n",
            "\n",
            "=========================================================================\n",
            "\n",
            "Número de ciclos de manutenção: 12 5\n",
            "Tempos para manutenções preventivas: [0, 34, 121, 222, 278, 377, 393, 425, 490, 537, 623, 657, 690]\n",
            "Severidade para cada subsistema: [0.5, 0.75, 0.75, 0.25, 0.5, 0.5, 0.75, 0.25, 0.5, 0.25, 0.5, 0.5]\n",
            "Número de Sisemas: 5\n",
            "Fator:  [0.05155784880398928, 0.12395358396783229, 0.18004375890582325, 0.18004375890582325, 0.06402648753708429, 0.12395358396783229, 0.12395358396783229, 0.18004375890582325, 0.06402648753708429, 0.12395358396783229, 0.06402648753708429, 0.12395358396783229, 0.12395358396783229]\n",
            "Media de falhas:  [0, 2.7238590459835084e-06, 0.761233176438583, 189.02351223932976, 898.0922315881378, 18564.750464506593, 40269.62259351814, 83819.0610507979, 349588.9650866492, 637486.9507923392, 5775226.145014567, 8297912.769876876, 15173847.787972905, 8417060.752494223]\n",
            "Custo =  1721999867.526381\n",
            "\n",
            "=========================================================================\n",
            "\n",
            "Número de ciclos de manutenção: 13 5\n",
            "Tempos para manutenções preventivas: [0, 33, 124, 163, 226, 289, 375, 396, 424, 464, 490, 624, 652, 692]\n",
            "Severidade para cada subsistema: [0.5, 0.75, 0.5, 0.75, 0.5, 0.5, 0.5, 0.75, 0.5, 0.25, 0.25, 0.5, 0.5]\n",
            "Número de Sisemas: 5\n",
            "Fator:  [0.05155784880398928, 0.12395358396783229, 0.18004375890582325, 0.12395358396783229, 0.18004375890582325, 0.12395358396783229, 0.12395358396783229, 0.12395358396783229, 0.18004375890582325, 0.12395358396783229, 0.06402648753708429, 0.06402648753708429, 0.12395358396783229, 0.12395358396783229]\n",
            "Media de falhas:  [0, 2.021224976483433e-06, 0.9799154462637114, 7.11013075095672, 117.63381830425467, 1907.2562318287114, 17247.41252850393, 33584.38524194832, 72078.49020079678, 187724.06905205402, 265048.2634543427, 4157794.3908890095, 7731249.74865269, 15958380.757927956, 8945725.707257863]\n",
            "Custo =  1787214174.1068385\n",
            "\n",
            "=========================================================================\n",
            "\n",
            "Número de ciclos de manutenção: 14 5\n",
            "Tempos para manutenções preventivas: [0, 32, 125, 162, 227, 300, 342, 361, 406, 421, 489, 539, 626, 639, 694]\n",
            "Severidade para cada subsistema: [0.5, 0.75, 0.5, 0.75, 0.75, 0.5, 0.5, 0.5, 0.75, 0.25, 0.25, 0.25, 0.5, 0.5]\n",
            "Número de Sisemas: 5\n",
            "Fator:  [0.05155784880398928, 0.12395358396783229, 0.18004375890582325, 0.12395358396783229, 0.18004375890582325, 0.18004375890582325, 0.12395358396783229, 0.12395358396783229, 0.12395358396783229, 0.18004375890582325, 0.06402648753708429, 0.06402648753708429, 0.06402648753708429, 0.12395358396783229, 0.12395358396783229]\n",
            "Media de falhas:  [0, 1.4861316869926902e-06, 1.0674507382537544, 6.699791582211989, 124.32183822929349, 2871.056126217865, 6923.577825743688, 10548.413427016352, 46748.933403892035, 68283.97448770532, 336246.1125887833, 648377.5287495344, 6058224.84877223, 7574304.596793349, 18271676.118367888, 10996663.26036185]\n",
            "Custo =  1853783666.5760164\n",
            "\n",
            "=========================================================================\n",
            "\n",
            "Número de ciclos de manutenção: 11 5\n",
            "Tempos para manutenções preventivas: [0, 32, 127, 156, 225, 275, 304, 419, 455, 487, 628, 693]\n",
            "Severidade para cada subsistema: [0.5, 0.75, 0.5, 0.75, 0.25, 0.75, 0.5, 0.75, 0.25, 0.25, 0.5]\n",
            "Número de Sisemas: 5\n",
            "Fator:  [0.05155784880398928, 0.12395358396783229, 0.18004375890582325, 0.12395358396783229, 0.18004375890582325, 0.06402648753708429, 0.18004375890582325, 0.12395358396783229, 0.18004375890582325, 0.06402648753708429, 0.06402648753708429, 0.12395358396783229]\n",
            "Media de falhas:  [0, 1.4861316869926902e-06, 1.2535930427250792, 4.726659043370839, 117.59787647163357, 1108.6768595649926, 2150.371774079186, 132320.56302030594, 183198.30550385153, 336297.4631845099, 2953401.7497829767, 14777737.035589822, 1335291.6992541943]\n",
            "Custo =  1409614847.1023438\n",
            "\n",
            "=========================================================================\n",
            "\n",
            "Número de ciclos de manutenção: 12 5\n",
            "Tempos para manutenções preventivas: [0, 34, 99, 128, 223, 299, 302, 348, 386, 453, 485, 535, 699]\n",
            "Severidade para cada subsistema: [0.5, 0.75, 0.75, 0.75, 0.5, 0.75, 0.75, 0.25, 0.75, 0.25, 0.5, 0.5]\n",
            "Número de Sisemas: 5\n",
            "Fator:  [0.05155784880398928, 0.12395358396783229, 0.18004375890582325, 0.18004375890582325, 0.18004375890582325, 0.12395358396783229, 0.18004375890582325, 0.18004375890582325, 0.06402648753708429, 0.18004375890582325, 0.06402648753708429, 0.12395358396783229, 0.12395358396783229]\n",
            "Media de falhas:  [0, 2.7238590459835084e-06, 0.09916419583372527, 0.6319001477814163, 133.76207244917438, 1838.971973962704, 1971.1449875350002, 10646.920336555251, 22243.41390513682, 98570.63422638015, 359377.37596630235, 650729.0653932032, 21191851.92294302, 13231543.854488175]\n",
            "Custo =  885349708.712766\n",
            "\n",
            "=========================================================================\n",
            "\n",
            "Número de ciclos de manutenção: 8 5\n",
            "Tempos para manutenções preventivas: [0, 37, 128, 159, 219, 297, 379, 485, 710]\n",
            "Severidade para cada subsistema: [0.5, 0.75, 0.25, 0.75, 0.75, 0.25, 0.25, 0.5]\n",
            "Número de Sisemas: 5\n",
            "Fator:  [0.05155784880398928, 0.12395358396783229, 0.18004375890582325, 0.06402648753708429, 0.18004375890582325, 0.18004375890582325, 0.06402648753708429, 0.06402648753708429, 0.12395358396783229]\n",
            "Media de falhas:  [0, 6.341422303917883e-06, 1.3297824920617503, 5.638494110095544, 85.41121593831392, 4202.601707643436, 20633.376786800654, 215095.51276933125, 26694540.260912217, 8500804.802031979]\n",
            "Custo =  1140693513.3497772\n",
            "\n",
            "=========================================================================\n",
            "\n",
            "Número de ciclos de manutenção: 11 5\n",
            "Tempos para manutenções preventivas: [0, 41, 123, 214, 334, 388, 419, 421, 469, 485, 629, 718]\n",
            "Severidade para cada subsistema: [0.5, 0.75, 0.75, 0.75, 0.25, 0.5, 0.75, 0.5, 0.25, 0.25, 0.5]\n",
            "Número de Sisemas: 5\n",
            "Fator:  [0.05155784880398928, 0.12395358396783229, 0.18004375890582325, 0.18004375890582325, 0.18004375890582325, 0.06402648753708429, 0.12395358396783229, 0.18004375890582325, 0.12395358396783229, 0.06402648753708429, 0.06402648753708429, 0.12395358396783229]\n",
            "Media de falhas:  [0, 1.7690235100057432e-05, 0.8725152951716522, 126.14934380220511, 6693.2742042321925, 22278.03482296835, 43464.667698181525, 49297.78421359718, 194400.66450544982, 240640.45961952687, 4595088.809872239, 24591768.574208625, 3786908.3180806935]\n",
            "Custo =  1764371182.044963\n",
            "\n",
            "=========================================================================\n",
            "\n",
            "Número de ciclos de manutenção: 10 5\n",
            "Tempos para manutenções preventivas: [0, 42, 91, 150, 213, 357, 408, 423, 487, 627, 649]\n",
            "Severidade para cada subsistema: [0.5, 0.5, 0.25, 0.75, 0.5, 0.5, 0.75, 0.25, 0.25, 0.5]\n",
            "Número de Sisemas: 5\n",
            "Fator:  [0.05155784880398928, 0.12395358396783229, 0.12395358396783229, 0.06402648753708429, 0.18004375890582325, 0.12395358396783229, 0.12395358396783229, 0.18004375890582325, 0.06402648753708429, 0.06402648753708429, 0.12395358396783229]\n",
            "Media de falhas:  [0, 2.2507306646565497e-05, 0.04015580307733209, 3.4782609130812365, 102.12840107980088, 29603.324250945254, 53532.750792110426, 76019.31572717335, 324534.96092506754, 2891176.2320945133, 5683796.767063331, 642783.1138183773]\n",
            "Custo =  1016826008.1742071\n",
            "\n",
            "=========================================================================\n",
            "\n",
            "Número de ciclos de manutenção: 12 5\n",
            "Tempos para manutenções preventivas: [0, 41, 173, 214, 352, 363, 398, 425, 470, 489, 521, 626, 657]\n",
            "Severidade para cada subsistema: [0.5, 0.25, 0.75, 0.5, 0.5, 0.5, 0.75, 0.25, 0.25, 0.5, 0.25, 0.5]\n",
            "Número de Sisemas: 5\n",
            "Fator:  [0.05155784880398928, 0.12395358396783229, 0.06402648753708429, 0.18004375890582325, 0.12395358396783229, 0.12395358396783229, 0.12395358396783229, 0.18004375890582325, 0.06402648753708429, 0.06402648753708429, 0.12395358396783229, 0.06402648753708429, 0.12395358396783229]\n",
            "Media de falhas:  [0, 1.7690235100057432e-05, 27.74263448288801, 110.86519722691128, 25517.07443222569, 27884.915961567684, 53199.84835852934, 91441.29456671195, 233042.3993331194, 291053.7083220243, 796417.8091140997, 6738648.236909632, 9076175.170633797, 2845334.401331519]\n",
            "Custo =  1063375869.2215719\n",
            "\n",
            "=========================================================================\n",
            "\n",
            "Número de ciclos de manutenção: 8 5\n",
            "Tempos para manutenções preventivas: [0, 39, 218, 366, 390, 425, 492, 526, 626]\n",
            "Severidade para cada subsistema: [0.5, 0.75, 0.5, 0.5, 0.75, 0.25, 0.5, 0.25]\n",
            "Número de Sisemas: 5\n",
            "Fator:  [0.05155784880398928, 0.12395358396783229, 0.18004375890582325, 0.12395358396783229, 0.12395358396783229, 0.18004375890582325, 0.06402648753708429, 0.12395358396783229, 0.06402648753708429]\n",
            "Media de falhas:  [0, 1.0731854774400642e-05, 288.25352527050256, 26263.445967210817, 35191.48795370362, 81718.80238121818, 362993.65995539393, 547697.4683270508, 6353763.140441992, 5126504.840318754]\n",
            "Custo =  467088669.4914026\n",
            "\n",
            "=========================================================================\n",
            "\n",
            "Número de ciclos de manutenção: 10 5\n",
            "Tempos para manutenções preventivas: [0, 36, 105, 222, 390, 423, 470, 491, 625, 659, 716]\n",
            "Severidade para cada subsistema: [0.5, 0.75, 0.75, 0.5, 0.75, 0.5, 0.25, 0.25, 0.5, 0.5]\n",
            "Número de Sisemas: 5\n",
            "Fator:  [0.05155784880398928, 0.12395358396783229, 0.18004375890582325, 0.18004375890582325, 0.12395358396783229, 0.18004375890582325, 0.12395358396783229, 0.06402648753708429, 0.06402648753708429, 0.12395358396783229, 0.12395358396783229]\n",
            "Media de falhas:  [0, 4.822449417819587e-06, 0.17859531532710476, 207.46503480175377, 36065.60829531587, 60346.9391180025, 206251.61186746263, 271942.1942789823, 4224259.346861793, 8840870.506014585, 23499866.837724417, 12864714.567033084]\n",
            "Custo =  2085276315.196972\n",
            "\n",
            "=========================================================================\n",
            "\n",
            "Número de ciclos de manutenção: 9 5\n",
            "Tempos para manutenções preventivas: [0, 33, 116, 151, 225, 407, 489, 626, 648, 706]\n",
            "Severidade para cada subsistema: [0.5, 0.25, 0.5, 0.75, 0.5, 0.25, 0.25, 0.5, 0.5]\n",
            "Número de Sisemas: 5\n",
            "Fator:  [0.05155784880398928, 0.12395358396783229, 0.06402648753708429, 0.12395358396783229, 0.18004375890582325, 0.12395358396783229, 0.06402648753708429, 0.06402648753708429, 0.12395358396783229, 0.12395358396783229]\n",
            "Media de falhas:  [0, 2.021224976483433e-06, 0.4983839232099166, 3.308361513010672, 278.7558382140805, 79890.49245324849, 257923.9031721513, 4316034.987954194, 7069614.620297682, 20088849.92202377, 11094649.43085608]\n",
            "Custo =  1866868121.3109362\n",
            "\n",
            "=========================================================================\n",
            "\n",
            "Número de ciclos de manutenção: 8 5\n",
            "Tempos para manutenções preventivas: [0, 34, 227, 289, 340, 487, 532, 628, 699]\n",
            "Severidade para cada subsistema: [0.5, 0.75, 0.75, 0.75, 0.25, 0.5, 0.25, 0.5]\n",
            "Número de Sisemas: 5\n",
            "Fator:  [0.05155784880398928, 0.12395358396783229, 0.18004375890582325, 0.18004375890582325, 0.18004375890582325, 0.06402648753708429, 0.12395358396783229, 0.06402648753708429, 0.12395358396783229]\n",
            "Media de falhas:  [0, 2.7238590459835084e-06, 438.4620287838187, 2213.5869150728, 6592.081858160673, 257314.08714846335, 512811.62169945904, 6378767.722785691, 14166697.809442908, -837547.1194957532]\n",
            "Custo =  1319404610.7154799\n",
            "\n",
            "=========================================================================\n",
            "\n",
            "Número de ciclos de manutenção: 7 5\n",
            "Tempos para manutenções preventivas: [0, 35, 120, 171, 223, 486, 629, 698]\n",
            "Severidade para cada subsistema: [0.5, 0.75, 0.25, 0.75, 0.25, 0.25, 0.5]\n",
            "Número de Sisemas: 5\n",
            "Fator:  [0.05155784880398928, 0.12395358396783229, 0.18004375890582325, 0.06402648753708429, 0.18004375890582325, 0.06402648753708429, 0.06402648753708429, 0.12395358396783229]\n",
            "Media de falhas:  [0, 3.639137109243248e-06, 0.6967458088037813, 11.728379716434238, 97.75027922946502, 708209.6985490982, 3388676.9860751173, 16534298.635761876, 1798679.5726169944]\n",
            "Custo =  1449274811.1748831\n",
            "\n",
            "=========================================================================\n",
            "\n",
            "Número de ciclos de manutenção: 10 5\n",
            "Tempos para manutenções preventivas: [0, 37, 124, 154, 218, 288, 421, 485, 533, 629, 695]\n",
            "Severidade para cada subsistema: [0.5, 0.75, 0.25, 0.75, 0.5, 0.75, 0.25, 0.25, 0.25, 0.5]\n",
            "Número de Sisemas: 5\n",
            "Fator:  [0.05155784880398928, 0.12395358396783229, 0.18004375890582325, 0.06402648753708429, 0.18004375890582325, 0.12395358396783229, 0.18004375890582325, 0.06402648753708429, 0.06402648753708429, 0.06402648753708429, 0.12395358396783229]\n",
            "Media de falhas:  [0, 6.341422303917883e-06, 0.9635278163580634, 4.093046742824112, 83.94666104568428, 3032.3728132310143, 63426.07680907572, 302532.53592268773, 575507.9418429768, 6530754.575731637, 18799672.53629092, 4849796.405397205]\n",
            "Custo =  1618752417.3396626\n",
            "\n",
            "=========================================================================\n",
            "\n",
            "Número de ciclos de manutenção: 9 5\n",
            "Tempos para manutenções preventivas: [0, 39, 95, 122, 150, 215, 422, 454, 485, 693]\n",
            "Severidade para cada subsistema: [0.5, 0.75, 0.75, 0.25, 0.75, 0.75, 0.5, 0.25, 0.5]\n",
            "Número de Sisemas: 5\n",
            "Fator:  [0.05155784880398928, 0.12395358396783229, 0.18004375890582325, 0.18004375890582325, 0.06402648753708429, 0.18004375890582325, 0.18004375890582325, 0.12395358396783229, 0.06402648753708429, 0.12395358396783229]\n",
            "Media de falhas:  [0, 1.0731854774400642e-05, 0.06339622959555397, 0.389239021521004, 1.806980445205089, 72.75652477404117, 166980.7049789287, 212443.23210131627, 293785.42273721914, 13404838.200780986, -37607.135554641485]\n",
            "Custo =  849715041.5299399\n",
            "\n",
            "=========================================================================\n",
            "\n",
            "Número de ciclos de manutenção: 10 5\n",
            "Tempos para manutenções preventivas: [0, 41, 162, 215, 362, 410, 424, 468, 486, 535, 703]\n",
            "Severidade para cada subsistema: [0.5, 0.25, 0.75, 0.5, 0.5, 0.75, 0.25, 0.25, 0.5, 0.5]\n",
            "Número de Sisemas: 5\n",
            "Fator:  [0.05155784880398928, 0.12395358396783229, 0.06402648753708429, 0.18004375890582325, 0.12395358396783229, 0.12395358396783229, 0.18004375890582325, 0.06402648753708429, 0.06402648753708429, 0.12395358396783229, 0.12395358396783229]\n",
            "Media de falhas:  [0, 1.7690235100057432e-05, 14.268076091172036, 113.27599396603294, 34081.97156631795, 58085.84319056405, 79715.1795095005, 213699.91639760594, 266003.1982930345, 1142705.312615156, 23032550.630175527, 14492456.530116875]\n",
            "Custo =  957325761.3711371\n",
            "\n",
            "=========================================================================\n",
            "\n",
            "Número de ciclos de manutenção: 8 5\n",
            "Tempos para manutenções preventivas: [0, 40, 176, 218, 350, 399, 421, 487, 713]\n",
            "Severidade para cada subsistema: [0.5, 0.25, 0.75, 0.5, 0.5, 0.75, 0.25, 0.5]\n",
            "Número de Sisemas: 5\n",
            "Fator:  [0.05155784880398928, 0.12395358396783229, 0.06402648753708429, 0.18004375890582325, 0.12395358396783229, 0.12395358396783229, 0.18004375890582325, 0.06402648753708429, 0.12395358396783229]\n",
            "Media de falhas:  [0, 1.3821683847030447e-05, 33.110758603740244, 133.42801589939052, 23859.879636307804, 42773.78431015477, 72536.60141377535, 325772.51682252664, 12039281.732832044, -7103329.830325797]\n",
            "Custo =  907966942.208171\n",
            "\n",
            "=========================================================================\n",
            "\n",
            "Número de ciclos de manutenção: 9 5\n",
            "Tempos para manutenções preventivas: [0, 37, 222, 276, 342, 399, 488, 512, 629, 643]\n",
            "Severidade para cada subsistema: [0.5, 0.75, 0.5, 0.5, 0.5, 0.25, 0.75, 0.25, 0.5]\n",
            "Número de Sisemas: 5\n",
            "Fator:  [0.05155784880398928, 0.12395358396783229, 0.18004375890582325, 0.12395358396783229, 0.12395358396783229, 0.12395358396783229, 0.06402648753708429, 0.18004375890582325, 0.06402648753708429, 0.12395358396783229]\n",
            "Media de falhas:  [0, 6.341422303917883e-06, 347.8986507141103, 1416.4384582656935, 6886.8373159747625, 42552.73730648356, 348864.8755102529, 541214.3435768164, 7070583.463121412, 7600916.579427557, 3372293.172411043]\n",
            "Custo =  816857634.2983136\n"
          ]
        },
        {
          "output_type": "stream",
          "name": "stderr",
          "text": [
            "pyswarms.single.global_best:  93%|█████████▎|93/100, best_cost=6.4e+7"
          ]
        },
        {
          "output_type": "stream",
          "name": "stdout",
          "text": [
            "\n",
            "=========================================================================\n",
            "\n",
            "Número de ciclos de manutenção: 7 5\n",
            "Tempos para manutenções preventivas: [0, 34, 97, 224, 344, 410, 490, 627]\n",
            "Severidade para cada subsistema: [0.5, 0.75, 0.75, 0.5, 0.5, 0.25, 0.25]\n",
            "Número de Sisemas: 5\n",
            "Fator:  [0.05155784880398928, 0.12395358396783229, 0.18004375890582325, 0.18004375890582325, 0.12395358396783229, 0.12395358396783229, 0.06402648753708429, 0.06402648753708429]\n",
            "Media de falhas:  [0, 2.7238590459835084e-06, 0.0805679909422015, 239.04535740576472, 8862.885291771068, 38656.52579862384, 338897.9836445823, 4458928.212612218, 2100437.903202253]\n",
            "Custo =  486812028.21156526\n",
            "\n",
            "=========================================================================\n",
            "\n",
            "Número de ciclos de manutenção: 9 5\n",
            "Tempos para manutenções preventivas: [0, 32, 113, 120, 223, 342, 416, 490, 626, 715]\n",
            "Severidade para cada subsistema: [0.5, 0.5, 0.75, 0.75, 0.5, 0.5, 0.25, 0.25, 0.5]\n",
            "Número de Sisemas: 5\n",
            "Fator:  [0.05155784880398928, 0.12395358396783229, 0.12395358396783229, 0.18004375890582325, 0.18004375890582325, 0.12395358396783229, 0.12395358396783229, 0.06402648753708429, 0.06402648753708429, 0.12395358396783229]\n",
            "Media de falhas:  [0, 1.4861316869926902e-06, 0.38382486160612733, 0.4998560909104135, 199.2627013863481, 8319.446035951523, 45082.01350549319, 332238.2067213875, 4375297.780864113, 23598248.98634102, 3803083.434676759]\n",
            "Custo =  1689185895.979773\n",
            "\n",
            "=========================================================================\n",
            "\n",
            "Número de ciclos de manutenção: 10 5\n",
            "Tempos para manutenções preventivas: [0, 30, 123, 219, 293, 387, 469, 490, 513, 625, 700]\n",
            "Severidade para cada subsistema: [0.5, 0.75, 0.75, 0.25, 0.25, 0.75, 0.25, 0.5, 0.25, 0.5]\n",
            "Número de Sisemas: 5\n",
            "Fator:  [0.05155784880398928, 0.12395358396783229, 0.18004375890582325, 0.18004375890582325, 0.06402648753708429, 0.06402648753708429, 0.18004375890582325, 0.06402648753708429, 0.12395358396783229, 0.06402648753708429, 0.12395358396783229]\n",
            "Media de falhas:  [0, 7.797269975221016e-07, 0.9142907356805757, 161.57801430603186, 1548.2706168510435, 23357.695017579914, 361415.60467426595, 566815.5851768785, 672834.2962546768, 6699688.70090741, 14888638.10820366, -387653.09767677076]\n",
            "Custo =  1338103522.0172763\n",
            "\n",
            "=========================================================================\n",
            "\n",
            "Número de ciclos de manutenção: 9 5\n",
            "Tempos para manutenções preventivas: [0, 119, 130, 217, 283, 471, 490, 627, 651, 695]\n",
            "Severidade para cada subsistema: [0.25, 0.75, 0.75, 0.25, 0.75, 0.25, 0.25, 0.5, 0.5]\n",
            "Número de Sisemas: 5\n",
            "Fator:  [0.05155784880398928, 0.06402648753708429, 0.18004375890582325, 0.18004375890582325, 0.06402648753708429, 0.18004375890582325, 0.06402648753708429, 0.06402648753708429, 0.12395358396783229, 0.12395358396783229]\n",
            "Media de falhas:  [0, 0.7456180280676464, 1.4191004526093332, 204.7943154982844, 1135.5289143697414, 222702.63288119438, 411581.14689621417, 2942833.724998599, 6037795.37306974, 15248644.663648073, 7839971.721345317]\n",
            "Custo =  1783571980.7091067\n",
            "\n",
            "=========================================================================\n",
            "\n",
            "Número de ciclos de manutenção: 9 5\n",
            "Tempos para manutenções preventivas: [0, 33, 136, 179, 215, 416, 489, 629, 636, 698]\n",
            "Severidade para cada subsistema: [0.5, 0.75, 0.25, 0.75, 0.5, 0.25, 0.25, 0.5, 0.5]\n",
            "Número de Sisemas: 5\n",
            "Fator:  [0.05155784880398928, 0.12395358396783229, 0.18004375890582325, 0.06402648753708429, 0.18004375890582325, 0.12395358396783229, 0.06402648753708429, 0.06402648753708429, 0.12395358396783229, 0.12395358396783229]\n",
            "Media de falhas:  [0, 2.021224976483433e-06, 2.4971130889003486, 18.155367099749043, 66.41415499241893, 143997.2075167068, 308916.36385505856, 4602115.625134243, 5415256.23675579, 17669149.78162227, 9849339.181040123]\n",
            "Custo =  1708973484.4895842\n",
            "\n",
            "=========================================================================\n",
            "\n",
            "Número de ciclos de manutenção: 10 5\n",
            "Tempos para manutenções preventivas: [0, 38, 90, 129, 172, 215, 334, 406, 456, 489, 703]\n",
            "Severidade para cada subsistema: [0.5, 0.5, 0.75, 0.25, 0.75, 0.75, 0.5, 0.5, 0.25, 0.5]\n",
            "Número de Sisemas: 5\n",
            "Fator:  [0.05155784880398928, 0.12395358396783229, 0.12395358396783229, 0.18004375890582325, 0.06402648753708429, 0.18004375890582325, 0.18004375890582325, 0.12395358396783229, 0.12395358396783229, 0.06402648753708429, 0.12395358396783229]\n",
            "Media de falhas:  [0, 8.278165719682774e-06, 0.03670560273310827, 0.7008431205392417, 11.420547774132688, 65.53577656650317, 14683.170564849457, 43452.99397896584, 109767.46823358918, 272588.86145548103, 15508399.77953577, -604948.3633756004]\n",
            "Custo =  937680556.8146455\n",
            "\n",
            "=========================================================================\n",
            "\n",
            "Número de ciclos de manutenção: 10 5\n",
            "Tempos para manutenções preventivas: [0, 42, 118, 169, 214, 281, 403, 464, 488, 510, 711]\n",
            "Severidade para cada subsistema: [0.5, 0.5, 0.25, 0.75, 0.5, 0.5, 0.25, 0.25, 0.75, 0.5]\n",
            "Número de Sisemas: 5\n",
            "Fator:  [0.05155784880398928, 0.12395358396783229, 0.12395358396783229, 0.06402648753708429, 0.18004375890582325, 0.12395358396783229, 0.12395358396783229, 0.06402648753708429, 0.06402648753708429, 0.18004375890582325, 0.12395358396783229]\n",
            "Media de falhas:  [0, 2.2507306646565497e-05, 0.569518485023044, 10.434874907094358, 97.68148657438174, 2387.779386071638, 40261.57919871149, 193536.89186137845, 317421.8662395524, 625443.7079057621, 26552585.717201915, 21384582.304364033]\n",
            "Custo =  790287926.2503396\n",
            "\n",
            "=========================================================================\n",
            "\n",
            "Número de ciclos de manutenção: 9 5\n",
            "Tempos para manutenções preventivas: [0, 44, 169, 218, 353, 407, 421, 487, 516, 714]\n",
            "Severidade para cada subsistema: [0.5, 0.25, 0.75, 0.5, 0.5, 0.75, 0.25, 0.75, 0.5]\n",
            "Número de Sisemas: 5\n",
            "Fator:  [0.05155784880398928, 0.12395358396783229, 0.06402648753708429, 0.18004375890582325, 0.12395358396783229, 0.12395358396783229, 0.18004375890582325, 0.06402648753708429, 0.18004375890582325, 0.12395358396783229]\n",
            "Media de falhas:  [0, 3.582886407352297e-05, 21.693067326003412, 130.29056966243124, 26075.80497780323, 50403.07864238745, 70676.90170113655, 323912.81710988784, 459899.32445384853, 27336131.971207164, 21907302.790746663]\n",
            "Custo =  775918418.4309566\n",
            "\n",
            "=========================================================================\n",
            "\n",
            "Número de ciclos de manutenção: 9 5\n",
            "Tempos para manutenções preventivas: [0, 45, 172, 223, 331, 426, 472, 487, 628, 714]\n",
            "Severidade para cada subsistema: [0.5, 0.25, 0.75, 0.5, 0.75, 0.25, 0.25, 0.25, 0.5]\n",
            "Número de Sisemas: 5\n",
            "Fator:  [0.05155784880398928, 0.12395358396783229, 0.06402648753708429, 0.18004375890582325, 0.12395358396783229, 0.18004375890582325, 0.06402648753708429, 0.06402648753708429, 0.06402648753708429, 0.12395358396783229]\n",
            "Media de falhas:  [0, 4.485091853217865e-05, 25.84655374978075, 163.25812368003324, 13177.966583386287, 67063.028795599, 216625.52094224852, 261931.93744637142, 7192139.486712502, 25793640.27945582, 6326778.71200984]\n",
            "Custo =  1772685803.56356\n",
            "\n",
            "=========================================================================\n",
            "\n",
            "Número de ciclos de manutenção: 10 5\n",
            "Tempos para manutenções preventivas: [0, 43, 173, 225, 341, 430, 479, 487, 626, 647, 710]\n",
            "Severidade para cada subsistema: [0.5, 0.25, 0.75, 0.5, 0.75, 0.5, 0.25, 0.25, 0.5, 0.5]\n",
            "Número de Sisemas: 5\n",
            "Fator:  [0.05155784880398928, 0.12395358396783229, 0.06402648753708429, 0.18004375890582325, 0.12395358396783229, 0.18004375890582325, 0.12395358396783229, 0.06402648753708429, 0.06402648753708429, 0.12395358396783229, 0.12395358396783229]\n",
            "Media de falhas:  [0, 2.8474249230348143e-05, 27.57579129793274, 178.60372581219397, 17919.88342476919, 74321.84197750958, 253425.92874001482, 278772.5867477247, 4366739.564620757, 6974496.98618494, 21494029.455192085, 11867567.348504774]\n",
            "Custo =  1916737578.4210367\n",
            "\n",
            "=========================================================================\n",
            "\n",
            "Número de ciclos de manutenção: 9 5\n",
            "Tempos para manutenções preventivas: [0, 39, 106, 226, 295, 431, 468, 488, 625, 708]\n",
            "Severidade para cada subsistema: [0.5, 0.5, 0.75, 0.5, 0.75, 0.75, 0.25, 0.25, 0.5]\n",
            "Número de Sisemas: 5\n",
            "Fator:  [0.05155784880398928, 0.12395358396783229, 0.12395358396783229, 0.18004375890582325, 0.12395358396783229, 0.18004375890582325, 0.18004375890582325, 0.06402648753708429, 0.06402648753708429, 0.12395358396783229]\n",
            "Media de falhas:  [0, 1.0731854774400642e-05, 0.1937765827974937, 249.27599690232148, 2526.0990999058977, 78825.36800632383, 197138.15719273177, 256682.47750755455, 2713413.506059756, 19542452.728881087, 1961848.7279666774]\n",
            "Custo =  1560985584.0632255\n",
            "\n",
            "=========================================================================\n",
            "\n",
            "Número de ciclos de manutenção: 8 5\n",
            "Tempos para manutenções preventivas: [0, 34, 132, 225, 336, 429, 489, 626, 703]\n",
            "Severidade para cada subsistema: [0.5, 0.75, 0.75, 0.75, 0.75, 0.25, 0.25, 0.5]\n",
            "Número de Sisemas: 5\n",
            "Fator:  [0.05155784880398928, 0.12395358396783229, 0.18004375890582325, 0.18004375890582325, 0.18004375890582325, 0.18004375890582325, 0.06402648753708429, 0.06402648753708429, 0.12395358396783229]\n",
            "Media de falhas:  [0, 2.7238590459835084e-06, 1.8385864067681317, 205.2093939104876, 6753.190887115132, 63514.511836558355, 207836.3647224045, 2701579.4595062765, 17754604.72084088, 1641256.577929508]\n",
            "Custo =  1492854705.3291116\n",
            "\n",
            "=========================================================================\n",
            "\n",
            "Número de ciclos de manutenção: 11 5\n",
            "Tempos para manutenções preventivas: [0, 30, 141, 221, 270, 344, 413, 423, 476, 489, 628, 692]\n",
            "Severidade para cada subsistema: [0.5, 0.75, 0.75, 0.25, 0.75, 0.5, 0.75, 0.75, 0.25, 0.25, 0.5]\n",
            "Número de Sisemas: 5\n",
            "Fator:  [0.05155784880398928, 0.12395358396783229, 0.18004375890582325, 0.18004375890582325, 0.06402648753708429, 0.18004375890582325, 0.12395358396783229, 0.18004375890582325, 0.18004375890582325, 0.06402648753708429, 0.06402648753708429, 0.12395358396783229]\n",
            "Media de falhas:  [0, 7.797269975221016e-07, 3.638393936607965, 161.6806174262858, 656.9894299552664, 6872.948194345343, 99773.08926931782, 108482.74164290901, 286475.4672104404, 327783.5825642914, 2921018.715625648, 14468526.444322288, 1274989.4807150252]\n",
            "Custo =  1405376455.7890759\n",
            "\n",
            "=========================================================================\n",
            "\n",
            "Número de ciclos de manutenção: 6 5\n",
            "Tempos para manutenções preventivas: [0, 140, 150, 218, 335, 404, 489]\n",
            "Severidade para cada subsistema: [0.75, 0.5, 0.75, 0.75, 0.5, 0.25]\n",
            "Número de Sisemas: 5\n",
            "Fator:  [0.05155784880398928, 0.18004375890582325, 0.12395358396783229, 0.18004375890582325, 0.18004375890582325, 0.12395358396783229, 0.06402648753708429]\n",
            "Media de falhas:  [0, 3.7834911721271496, 6.159978474701747, 89.44996218003358, 9998.368126574216, 36723.33036390126, 218961.86153275595, 2652593.251262518]\n",
            "Custo =  98169221.3163094\n",
            "\n",
            "=========================================================================\n",
            "\n",
            "Número de ciclos de manutenção: 10 5\n",
            "Tempos para manutenções preventivas: [0, 32, 60, 102, 134, 217, 403, 452, 488, 532, 641]\n",
            "Severidade para cada subsistema: [0.5, 0.5, 0.5, 0.75, 0.75, 0.5, 0.5, 0.25, 0.25, 0.5]\n",
            "Número de Sisemas: 5\n",
            "Fator:  [0.05155784880398928, 0.12395358396783229, 0.12395358396783229, 0.12395358396783229, 0.18004375890582325, 0.18004375890582325, 0.12395358396783229, 0.12395358396783229, 0.06402648753708429, 0.06402648753708429, 0.12395358396783229]\n",
            "Media de falhas:  [0, 1.4861316869926902e-06, 0.0006022986448495699, 0.07535635355292242, 0.9398422168415854, 136.56498211591716, 53091.056920131174, 113322.3051307569, 284034.4693408376, 724274.9527041245, 8301108.356413193, 4329026.387340851]\n",
            "Custo =  730622324.9626393\n",
            "\n",
            "=========================================================================\n",
            "\n",
            "Número de ciclos de manutenção: 11 5\n",
            "Tempos para manutenções preventivas: [0, 36, 60, 124, 179, 218, 280, 347, 409, 487, 534, 702]\n",
            "Severidade para cada subsistema: [0.5, 0.5, 0.75, 0.25, 0.75, 0.25, 0.5, 0.5, 0.25, 0.5, 0.5]\n",
            "Número de Sisemas: 5\n",
            "Fator:  [0.05155784880398928, 0.12395358396783229, 0.12395358396783229, 0.18004375890582325, 0.06402648753708429, 0.18004375890582325, 0.06402648753708429, 0.12395358396783229, 0.12395358396783229, 0.06402648753708429, 0.12395358396783229, 0.12395358396783229]\n",
            "Media de falhas:  [0, 4.822449417819587e-06, 0.0005827510545258871, 0.6066900121753291, 18.288110819334403, 76.14563789433572, 2227.119155333311, 8553.564252104761, 88961.59472647293, 368288.9191396068, 846300.0775126431, 22437833.24599972, 14045396.157041395]\n",
            "Custo =  903917986.6311097\n",
            "\n",
            "=========================================================================\n",
            "\n",
            "Número de ciclos de manutenção: 8 5\n",
            "Tempos para manutenções preventivas: [0, 40, 159, 219, 358, 414, 465, 488, 629]\n",
            "Severidade para cada subsistema: [0.5, 0.25, 0.75, 0.5, 0.5, 0.25, 0.25, 0.25]\n",
            "Número de Sisemas: 5\n",
            "Fator:  [0.05155784880398928, 0.12395358396783229, 0.06402648753708429, 0.18004375890582325, 0.12395358396783229, 0.12395358396783229, 0.06402648753708429, 0.06402648753708429, 0.06402648753708429]\n",
            "Media de falhas:  [0, 1.3821683847030447e-05, 11.846218758472402, 137.23909048509327, 30132.43305706099, 59362.16037417024, 198873.1770386541, 318461.69668758335, 7355578.354368562, 4784974.867531121]\n",
            "Custo =  588900812.0720941\n",
            "\n",
            "=========================================================================\n",
            "\n",
            "Número de ciclos de manutenção: 8 5\n",
            "Tempos para manutenções preventivas: [0, 41, 222, 285, 413, 476, 488, 521, 627]\n",
            "Severidade para cada subsistema: [0.5, 0.75, 0.5, 0.5, 0.25, 0.25, 0.75, 0.25]\n",
            "Número de Sisemas: 5\n",
            "Fator:  [0.05155784880398928, 0.12395358396783229, 0.18004375890582325, 0.12395358396783229, 0.12395358396783229, 0.06402648753708429, 0.06402648753708429, 0.18004375890582325, 0.06402648753708429]\n",
            "Media de falhas:  [0, 1.7690235100057432e-05, 344.6544682967149, 1912.6094784929633, 51100.11877736336, 249750.20680854833, 317461.7167750917, 834778.6744262119, 6894747.682512792, 6197170.551233023]\n",
            "Custo =  431556173.55011326\n"
          ]
        },
        {
          "output_type": "stream",
          "name": "stderr",
          "text": [
            "pyswarms.single.global_best: 100%|██████████|100/100, best_cost=6.4e+7\n",
            "2023-10-03 15:32:27,707 - pyswarms.single.global_best - INFO - Optimization finished | best cost: 63983890.26191171, best pos: [4.51336694 3.10936049 2.6617977  3.57071296 5.59845332 1.22851837\n",
            " 2.67462779 5.10189248 2.52798088 6.29494611 4.57145464 1.19162962\n",
            " 3.24890552 2.96175073 4.66424655 6.55966997 1.3940762  3.62682818\n",
            " 4.80366303 4.56173825 1.80031361 4.48076091 4.49909675 2.62381151]\n",
            "2023-10-03 15:32:27,709 - pyswarms.single.global_best - INFO - Optimize for 1 iters with {'c1': 0.5, 'c2': 0.3, 'w': 0.9}\n"
          ]
        },
        {
          "output_type": "stream",
          "name": "stdout",
          "text": [
            "\n",
            "=========================================================================\n",
            "\n",
            "Número de ciclos de manutenção: 9 5\n",
            "Tempos para manutenções preventivas: [0, 40, 225, 286, 409, 423, 471, 488, 627, 633]\n",
            "Severidade para cada subsistema: [0.5, 0.75, 0.5, 0.5, 0.75, 0.25, 0.25, 0.25, 0.5]\n",
            "Número de Sisemas: 5\n",
            "Fator:  [0.05155784880398928, 0.12395358396783229, 0.18004375890582325, 0.12395358396783229, 0.12395358396783229, 0.18004375890582325, 0.06402648753708429, 0.06402648753708429, 0.06402648753708429, 0.12395358396783229]\n",
            "Media de falhas:  [0, 1.3821683847030447e-05, 395.5520490208397, 1990.1405607212487, 45690.84585863809, 66859.6559497055, 217830.11713633966, 269451.60950938397, 7057866.343883876, 7730063.038305801, 4717456.477848902]\n",
            "Custo =  1040957078.2687718\n",
            "\n",
            "=========================================================================\n",
            "\n",
            "Número de ciclos de manutenção: 11 5\n",
            "Tempos para manutenções preventivas: [0, 36, 115, 151, 227, 404, 425, 488, 530, 628, 647, 706]\n",
            "Severidade para cada subsistema: [0.5, 0.5, 0.25, 0.75, 0.5, 0.75, 0.25, 0.5, 0.25, 0.5, 0.5]\n",
            "Número de Sisemas: 5\n",
            "Fator:  [0.05155784880398928, 0.12395358396783229, 0.12395358396783229, 0.06402648753708429, 0.18004375890582325, 0.12395358396783229, 0.18004375890582325, 0.06402648753708429, 0.12395358396783229, 0.06402648753708429, 0.12395358396783229, 0.12395358396783229]\n",
            "Media de falhas:  [0, 4.822449417819587e-06, 0.45029352343557993, 3.3000144296451177, 201.64139817119542, 104326.39950102616, 121889.0641888449, 372778.81408236607, 606820.0957027, 6532976.0506298095, 7864015.434952275, 21037932.603137836, 12043732.111970147]\n",
            "Custo =  1798583113.853587\n",
            "\n",
            "=========================================================================\n",
            "\n",
            "Número de ciclos de manutenção: 9 5\n",
            "Tempos para manutenções preventivas: [0, 33, 98, 165, 226, 354, 401, 428, 488, 695]\n",
            "Severidade para cada subsistema: [0.5, 0.5, 0.25, 0.75, 0.5, 0.5, 0.75, 0.25, 0.5]\n",
            "Número de Sisemas: 5\n",
            "Fator:  [0.05155784880398928, 0.12395358396783229, 0.12395358396783229, 0.06402648753708429, 0.18004375890582325, 0.12395358396783229, 0.12395358396783229, 0.18004375890582325, 0.06402648753708429, 0.12395358396783229]\n",
            "Media de falhas:  [0, 2.021224976483433e-06, 0.08991164095964903, 9.162692995599, 179.63058315304707, 26432.2097657657, 45676.19767069441, 86477.4803534899, 329820.89061608724, 9015126.003062645, -4934750.127831072]\n",
            "Custo =  779933602.2429345\n",
            "\n",
            "=========================================================================\n",
            "\n",
            "Número de ciclos de manutenção: 9 5\n",
            "Tempos para manutenções preventivas: [0, 33, 178, 220, 275, 389, 398, 425, 487, 521]\n",
            "Severidade para cada subsistema: [0.5, 0.25, 0.75, 0.75, 0.25, 0.5, 0.75, 0.25, 0.25]\n",
            "Número de Sisemas: 5\n",
            "Fator:  [0.05155784880398928, 0.12395358396783229, 0.06402648753708429, 0.18004375890582325, 0.18004375890582325, 0.06402648753708429, 0.12395358396783229, 0.18004375890582325, 0.06402648753708429, 0.06402648753708429]\n",
            "Media de falhas:  [0, 2.021224976483433e-06, 37.886506389568346, 147.26146563689602, 1873.5617917991622, 27884.21376363816, 32431.754888754753, 100163.91338584188, 343840.8332617566, 513027.2128096008, 3951611.128902534]\n",
            "Custo =  222837736.64083415\n",
            "\n",
            "=========================================================================\n",
            "\n",
            "Número de ciclos de manutenção: 8 5\n",
            "Tempos para manutenções preventivas: [0, 34, 125, 215, 272, 407, 469, 487, 652]\n",
            "Severidade para cada subsistema: [0.5, 0.75, 0.75, 0.75, 0.5, 0.75, 0.25, 0.5]\n",
            "Número de Sisemas: 5\n",
            "Fator:  [0.05155784880398928, 0.12395358396783229, 0.18004375890582325, 0.18004375890582325, 0.18004375890582325, 0.12395358396783229, 0.18004375890582325, 0.06402648753708429, 0.12395358396783229]\n",
            "Media de falhas:  [0, 2.7238590459835084e-06, 1.0585667411568607, 131.11672213018278, 715.8624999372167, 45325.032684287085, 145421.4619660171, 240714.8512062822, 4354217.373978576, -1118167.5660143634]\n",
            "Custo =  549677593.6968162\n"
          ]
        },
        {
          "output_type": "stream",
          "name": "stderr",
          "text": [
            "pyswarms.single.global_best: 100%|██████████|1/1, best_cost=6.4e+7\n",
            "2023-10-03 15:32:27,721 - pyswarms.single.global_best - INFO - Optimization finished | best cost: 63983890.26191171, best pos: [4.50507757 3.10883512 2.66169075 3.56936945 5.60206277 1.23054381\n",
            " 2.67476044 5.10215208 2.52785292 6.29493977 4.58338243 1.19234225\n",
            " 3.24724434 2.9497523  4.663698   6.55966255 1.39376818 3.42061067\n",
            " 4.68296271 4.56181629 1.80051423 4.27990462 4.4990584  2.62046466]\n",
            "2023-10-03 15:32:27,722 - pyswarms.single.global_best - INFO - Optimize for 1 iters with {'c1': 0.5, 'c2': 0.3, 'w': 0.9}\n"
          ]
        },
        {
          "output_type": "stream",
          "name": "stdout",
          "text": [
            "\n",
            "=========================================================================\n",
            "\n",
            "Número de ciclos de manutenção: 12 5\n",
            "Tempos para manutenções preventivas: [0, 36, 60, 91, 129, 214, 333, 416, 479, 488, 628, 639, 693]\n",
            "Severidade para cada subsistema: [0.5, 0.5, 0.5, 0.75, 0.75, 0.25, 0.5, 0.75, 0.25, 0.25, 0.5, 0.5]\n",
            "Número de Sisemas: 5\n",
            "Fator:  [0.05155784880398928, 0.12395358396783229, 0.12395358396783229, 0.12395358396783229, 0.18004375890582325, 0.18004375890582325, 0.06402648753708429, 0.12395358396783229, 0.18004375890582325, 0.06402648753708429, 0.06402648753708429, 0.12395358396783229, 0.12395358396783229]\n",
            "Media de falhas:  [0, 4.822449417819587e-06, 0.0005827510545258871, 0.02215406502411341, 0.6777928768527889, 121.16909580516868, 6468.317115817321, 46044.586618704394, 407925.2584871203, 459884.945331288, 3065066.770083667, 4364449.297003755, 14783862.51962014, 7640849.243081218]\n",
            "Custo =  1674169144.720062\n"
          ]
        },
        {
          "output_type": "stream",
          "name": "stderr",
          "text": [
            "pyswarms.single.global_best: 100%|██████████|1/1, best_cost=6.4e+7\n",
            "2023-10-03 15:32:27,735 - pyswarms.single.global_best - INFO - Optimization finished | best cost: 63983890.26191171, best pos: [4.50840916 3.10953489 2.66264161 3.56987933 5.60311265 1.2308049\n",
            " 2.67513559 5.10230249 2.52804882 6.29493668 4.58180235 1.19200131\n",
            " 3.24679423 2.94551214 4.66463247 6.55971162 1.39443314 3.37389261\n",
            " 4.36246976 4.56180272 1.80089074 3.87548328 4.49911836 2.61677774]\n",
            "2023-10-03 15:32:27,737 - pyswarms.single.global_best - INFO - Optimize for 1 iters with {'c1': 0.5, 'c2': 0.3, 'w': 0.9}\n"
          ]
        },
        {
          "output_type": "stream",
          "name": "stdout",
          "text": [
            "\n",
            "=========================================================================\n",
            "\n",
            "Número de ciclos de manutenção: 12 5\n",
            "Tempos para manutenções preventivas: [0, 38, 61, 99, 136, 212, 272, 364, 472, 489, 625, 635, 705]\n",
            "Severidade para cada subsistema: [0.5, 0.5, 0.5, 0.75, 0.75, 0.75, 0.5, 0.75, 0.25, 0.25, 0.5, 0.5]\n",
            "Número de Sisemas: 5\n",
            "Fator:  [0.05155784880398928, 0.12395358396783229, 0.12395358396783229, 0.12395358396783229, 0.18004375890582325, 0.18004375890582325, 0.18004375890582325, 0.12395358396783229, 0.18004375890582325, 0.06402648753708429, 0.06402648753708429, 0.12395358396783229, 0.12395358396783229]\n",
            "Media de falhas:  [0, 8.278165719682774e-06, 0.0006801734065746887, 0.05401706076733056, 1.1230648656614777, 104.89805750295992, 709.1626252113685, 12841.609908680615, 165488.7305322191, 259614.44278046745, 2704844.455779099, 3827979.672366853, 18393230.507350612, 9552275.973346002]\n",
            "Custo =  1718646893.3835294\n"
          ]
        },
        {
          "output_type": "stream",
          "name": "stderr",
          "text": [
            "pyswarms.single.global_best: 100%|██████████|1/1, best_cost=6.4e+7\n",
            "2023-10-03 15:32:27,750 - pyswarms.single.global_best - INFO - Optimization finished | best cost: 63983890.26191171, best pos: [4.51213162 3.11013783 2.66336407 3.57051137 5.60307082 1.23040053\n",
            " 2.67543923 5.10234629 2.5282175  6.29493597 4.57786677 1.19166079\n",
            " 3.24697336 2.9433963  4.66543165 6.55975468 1.39502626 3.33231791\n",
            " 3.48785486 4.56178224 1.80114717 3.61792243 4.49917207 2.61520186]\n",
            "2023-10-03 15:32:27,751 - pyswarms.single.global_best - INFO - Optimize for 1 iters with {'c1': 0.5, 'c2': 0.3, 'w': 0.9}\n"
          ]
        },
        {
          "output_type": "stream",
          "name": "stdout",
          "text": [
            "\n",
            "=========================================================================\n",
            "\n",
            "Número de ciclos de manutenção: 11 5\n",
            "Tempos para manutenções preventivas: [0, 39, 108, 142, 211, 283, 381, 490, 512, 623, 634, 709]\n",
            "Severidade para cada subsistema: [0.5, 0.5, 0.75, 0.75, 0.75, 0.5, 0.25, 0.75, 0.25, 0.5, 0.5]\n",
            "Número de Sisemas: 5\n",
            "Fator:  [0.05155784880398928, 0.12395358396783229, 0.12395358396783229, 0.18004375890582325, 0.18004375890582325, 0.18004375890582325, 0.12395358396783229, 0.06402648753708429, 0.18004375890582325, 0.06402648753708429, 0.12395358396783229, 0.12395358396783229]\n",
            "Media de falhas:  [0, 1.0731854774400642e-05, 0.2344133782206241, 1.7796949363552401, 96.17925724330584, 1080.9642323928235, 20447.293005414067, 238350.76869563496, 417144.8937518981, 6239054.746665381, 6611623.344129183, 22651785.238061402, 13186324.23803401]\n",
            "Custo =  1589466889.256326\n"
          ]
        },
        {
          "output_type": "stream",
          "name": "stderr",
          "text": [
            "pyswarms.single.global_best: 100%|██████████|1/1, best_cost=6.4e+7\n",
            "2023-10-03 15:32:27,767 - pyswarms.single.global_best - INFO - Optimization finished | best cost: 63983890.26191171, best pos: [4.51563967 3.11054685 2.66360248 3.57110841 5.60236171 1.22959378\n",
            " 2.67569976 5.10235902 2.52835647 6.29493734 4.57332507 1.19135151\n",
            " 3.24727386 2.94181055 4.66609806 6.55978476 1.39551319 3.32820156\n",
            " 2.14247584 4.5617585  1.80115678 3.44941193 4.49920479 2.6145319 ]\n",
            "2023-10-03 15:32:27,769 - pyswarms.single.global_best - INFO - Optimize for 1 iters with {'c1': 0.5, 'c2': 0.3, 'w': 0.9}\n"
          ]
        },
        {
          "output_type": "stream",
          "name": "stdout",
          "text": [
            "\n",
            "=========================================================================\n",
            "\n",
            "Número de ciclos de manutenção: 11 5\n",
            "Tempos para manutenções preventivas: [0, 40, 116, 146, 210, 297, 358, 467, 491, 621, 643, 712]\n",
            "Severidade para cada subsistema: [0.5, 0.5, 0.75, 0.75, 0.75, 0.25, 0.5, 0.25, 0.25, 0.5, 0.5]\n",
            "Número de Sisemas: 5\n",
            "Fator:  [0.05155784880398928, 0.12395358396783229, 0.12395358396783229, 0.18004375890582325, 0.18004375890582325, 0.18004375890582325, 0.06402648753708429, 0.12395358396783229, 0.06402648753708429, 0.06402648753708429, 0.12395358396783229, 0.12395358396783229]\n",
            "Media de falhas:  [0, 1.3821683847030447e-05, 0.4828831443870664, 2.370889147992982, 89.26391202630215, 1842.3740270406615, 9814.854850563555, 148815.97291301982, 382285.37602527573, 4043968.1130715315, 6609526.738263799, 22437283.23399626, 12482813.103410752]\n",
            "Custo =  1896823129.6415234\n"
          ]
        },
        {
          "output_type": "stream",
          "name": "stderr",
          "text": [
            "pyswarms.single.global_best: 100%|██████████|1/1, best_cost=6.4e+7\n",
            "2023-10-03 15:32:27,783 - pyswarms.single.global_best - INFO - Optimization finished | best cost: 63983890.26191171, best pos: [4.51829153 3.11083339 2.66378212 3.57160055 5.60138386 1.22868662\n",
            " 2.67583168 5.10225375 2.52842223 6.29493905 4.56870926 1.19115547\n",
            " 3.24771374 2.94101501 4.66648589 6.55978209 1.39579108 3.33037643\n",
            " 0.94671092 4.5617361  1.80114916 3.30412725 4.4992075  2.61498543]\n",
            "2023-10-03 15:32:27,784 - pyswarms.single.global_best - INFO - Optimize for 1 iters with {'c1': 0.5, 'c2': 0.3, 'w': 0.9}\n"
          ]
        },
        {
          "output_type": "stream",
          "name": "stdout",
          "text": [
            "\n",
            "=========================================================================\n",
            "\n",
            "Número de ciclos de manutenção: 7 5\n",
            "Tempos para manutenções preventivas: [0, 38, 210, 349, 493, 620, 654, 710]\n",
            "Severidade para cada subsistema: [0.5, 0.75, 0.5, 0.25, 0.25, 0.5, 0.5]\n",
            "Número de Sisemas: 5\n",
            "Fator:  [0.05155784880398928, 0.12395358396783229, 0.18004375890582325, 0.12395358396783229, 0.06402648753708429, 0.06402648753708429, 0.12395358396783229, 0.12395358396783229]\n",
            "Media de falhas:  [0, 8.278165719682774e-06, 198.1704055416045, 16209.459766578082, 293225.8469888441, 3856308.1007373407, 8160624.137152855, 21549579.593981374, 11923117.487294063]\n",
            "Custo =  1933180964.704057\n"
          ]
        },
        {
          "output_type": "stream",
          "name": "stderr",
          "text": [
            "pyswarms.single.global_best: 100%|██████████|1/1, best_cost=6.4e+7\n",
            "2023-10-03 15:32:27,797 - pyswarms.single.global_best - INFO - Optimization finished | best cost: 63983890.26191171, best pos: [4.52051583 3.11081464 2.66361101 3.57202678 5.60039003 1.22785842\n",
            " 2.67589159 5.10208757 2.52847969 6.29494062 4.56466308 1.19110217\n",
            " 3.24833188 2.94366939 4.66625779 6.55976023 1.39599747 3.34841724\n",
            " 6.61495156 4.56171595 1.80094982 3.37149517 4.49917777 2.61557634]\n",
            "2023-10-03 15:32:27,798 - pyswarms.single.global_best - INFO - Optimize for 1 iters with {'c1': 0.5, 'c2': 0.3, 'w': 0.9}\n"
          ]
        },
        {
          "output_type": "stream",
          "name": "stdout",
          "text": [
            "\n",
            "=========================================================================\n",
            "\n",
            "Número de ciclos de manutenção: 6 5\n",
            "Tempos para manutenções preventivas: [0, 37, 418, 462, 494, 620, 699]\n",
            "Severidade para cada subsistema: [0.5, 0.5, 0.25, 0.25, 0.25, 0.5]\n",
            "Número de Sisemas: 5\n",
            "Fator:  [0.05155784880398928, 0.12395358396783229, 0.12395358396783229, 0.06402648753708429, 0.06402648753708429, 0.06402648753708429, 0.12395358396783229]\n",
            "Media de falhas:  [0, 6.341422303917883e-06, 202114.8122890144, 320952.4529369404, 495575.232156205, 6361659.584139795, 20852430.59977688, 5848185.670838218]\n",
            "Custo =  1560920405.4761493\n"
          ]
        },
        {
          "output_type": "stream",
          "name": "stderr",
          "text": [
            "pyswarms.single.global_best: 100%|██████████|1/1, best_cost=6.4e+7\n",
            "2023-10-03 15:32:27,812 - pyswarms.single.global_best - INFO - Optimization finished | best cost: 63983890.26191171, best pos: [4.5204929  3.11048436 2.66330575 3.57221687 5.59907147 1.22715787\n",
            " 2.67584387 5.10188952 2.52841243 6.29494212 4.56262652 1.19115562\n",
            " 3.24889403 2.94752227 4.66567738 6.55971447 1.39574529 3.36691865\n",
            " 4.64851362 4.56170238 1.80066133 3.43911021 4.49914786 2.61831909]\n",
            "2023-10-03 15:32:27,813 - pyswarms.single.global_best - INFO - Optimize for 1 iters with {'c1': 0.5, 'c2': 0.3, 'w': 0.9}\n"
          ]
        },
        {
          "output_type": "stream",
          "name": "stdout",
          "text": [
            "\n",
            "=========================================================================\n",
            "\n",
            "Número de ciclos de manutenção: 11 5\n",
            "Tempos para manutenções preventivas: [0, 35, 149, 163, 210, 343, 400, 450, 494, 510, 541, 620]\n",
            "Severidade para cada subsistema: [0.5, 0.75, 0.25, 0.75, 0.75, 0.5, 0.25, 0.25, 0.25, 0.75, 0.25]\n",
            "Número de Sisemas: 5\n",
            "Fator:  [0.05155784880398928, 0.12395358396783229, 0.18004375890582325, 0.06402648753708429, 0.18004375890582325, 0.18004375890582325, 0.12395358396783229, 0.06402648753708429, 0.06402648753708429, 0.06402648753708429, 0.18004375890582325, 0.06402648753708429]\n",
            "Media de falhas:  [0, 3.639137109243248e-06, 6.243427957624535, 9.56597320556926, 55.534400666782446, 19603.74300263924, 41072.68756681778, 99717.63717028317, 321120.56519255973, 555918.0045032237, 1253949.578485198, 5939809.498343674, 5445427.707683064]\n",
            "Custo =  511823063.3661072\n"
          ]
        },
        {
          "output_type": "stream",
          "name": "stderr",
          "text": [
            "pyswarms.single.global_best: 100%|██████████|1/1, best_cost=6.4e+7\n",
            "2023-10-03 15:32:27,825 - pyswarms.single.global_best - INFO - Optimization finished | best cost: 63983890.26191171, best pos: [4.51930002 3.10998898 2.66301668 3.57237116 5.59782342 1.22658037\n",
            " 2.67571205 5.10171151 2.52830114 6.2949443  4.56319747 1.19126395\n",
            " 3.2494001  2.9531963  4.66490633 6.55966948 1.39504166 3.4566184\n",
            " 2.1839525  4.56170045 1.80030247 3.50375089 4.49911649 2.62210836]\n",
            "2023-10-03 15:32:27,827 - pyswarms.single.global_best - INFO - Optimize for 1 iters with {'c1': 0.5, 'c2': 0.3, 'w': 0.9}\n"
          ]
        },
        {
          "output_type": "stream",
          "name": "stdout",
          "text": [
            "\n",
            "=========================================================================\n",
            "\n",
            "Número de ciclos de manutenção: 7 5\n",
            "Tempos para manutenções preventivas: [0, 33, 148, 210, 493, 543, 622, 630]\n",
            "Severidade para cada subsistema: [0.5, 0.75, 0.75, 0.25, 0.75, 0.25, 0.75]\n",
            "Número de Sisemas: 5\n",
            "Fator:  [0.05155784880398928, 0.12395358396783229, 0.18004375890582325, 0.18004375890582325, 0.06402648753708429, 0.18004375890582325, 0.06402648753708429, 0.18004375890582325]\n",
            "Media de falhas:  [0, 2.021224976483433e-06, 5.873489966071858, 91.40815985358991, 495963.0940236107, 830182.716799953, 5660577.178543364, 5920616.3345229495, 3241762.4977823067]\n",
            "Custo =  765530895.381689\n"
          ]
        },
        {
          "output_type": "stream",
          "name": "stderr",
          "text": [
            "pyswarms.single.global_best: 100%|██████████|1/1, best_cost=6.4e+7\n",
            "2023-10-03 15:32:27,841 - pyswarms.single.global_best - INFO - Optimization finished | best cost: 63983890.26191171, best pos: [4.51762041 3.10949065 2.66261531 3.57201447 5.59676367 1.22645281\n",
            " 2.67554359 5.10156676 2.52812083 6.29494664 4.56432812 1.19141997\n",
            " 3.24978112 2.95924275 4.66401845 6.55962912 1.39420087 3.56861275\n",
            " 6.85077993 4.56170592 1.79998264 3.77772968 4.49908379 2.62591958]\n",
            "2023-10-03 15:32:27,843 - pyswarms.single.global_best - INFO - Optimize for 1 iters with {'c1': 0.5, 'c2': 0.3, 'w': 0.9}\n"
          ]
        },
        {
          "output_type": "stream",
          "name": "stdout",
          "text": [
            "\n",
            "=========================================================================\n",
            "\n",
            "Número de ciclos de manutenção: 8 5\n",
            "Tempos para manutenções preventivas: [0, 31, 144, 211, 354, 492, 544, 623, 636]\n",
            "Severidade para cada subsistema: [0.5, 0.75, 0.75, 0.5, 0.25, 0.75, 0.25, 0.75]\n",
            "Número de Sisemas: 5\n",
            "Fator:  [0.05155784880398928, 0.12395358396783229, 0.18004375890582325, 0.18004375890582325, 0.12395358396783229, 0.06402648753708429, 0.18004375890582325, 0.06402648753708429, 0.18004375890582325]\n",
            "Media de falhas:  [0, 1.08207986174339e-06, 4.484550178375572, 97.49268170370604, 12991.83014750948, 277078.6753678109, 886887.0880251464, 5791026.251852729, 6239302.007680886, 2879033.584838911]\n",
            "Custo =  814535729.0891914\n"
          ]
        },
        {
          "output_type": "stream",
          "name": "stderr",
          "text": [
            "pyswarms.single.global_best: 100%|██████████|1/1, best_cost=6.4e+7\n",
            "2023-10-03 15:32:27,860 - pyswarms.single.global_best - INFO - Optimization finished | best cost: 63983890.26191171, best pos: [4.51506249 3.10903336 2.66225369 3.57142878 5.59611608 1.22645062\n",
            " 2.6751838  5.10151544 2.52794445 6.29494867 4.567091   1.19158005\n",
            " 3.2500303  2.96527261 4.66324778 6.55960429 1.39342641 3.67866375\n",
            " 3.72960453 4.56171384 1.79973078 4.16099475 4.49905527 2.62908546]\n"
          ]
        },
        {
          "output_type": "stream",
          "name": "stdout",
          "text": [
            "\n",
            "=========================================================================\n",
            "\n",
            "Número de ciclos de manutenção: 12 5\n",
            "Tempos para manutenções preventivas: [0, 114, 138, 212, 387, 414, 455, 492, 524, 542, 625, 642, 715]\n",
            "Severidade para cada subsistema: [0.5, 0.75, 0.75, 0.5, 0.25, 0.75, 0.25, 0.5, 0.75, 0.25, 0.75, 0.25]\n",
            "Número de Sisemas: 5\n",
            "Fator:  [0.05155784880398928, 0.12395358396783229, 0.18004375890582325, 0.18004375890582325, 0.12395358396783229, 0.06402648753708429, 0.18004375890582325, 0.06402648753708429, 0.12395358396783229, 0.18004375890582325, 0.06402648753708429, 0.18004375890582325, 0.06402648753708429]\n",
            "Media de falhas:  [0, 0.48552325888995995, 2.3204184751335935, 104.65732174439681, 34770.93835768272, 51768.33123390938, 149904.05569271618, 481113.95297575847, 650907.293108611, 1104153.8561162401, 4130993.0616336334, 4756165.149570929, 21822693.362370946, 16304794.103516404]\n",
            "Custo =  1590695595.257203\n"
          ]
        },
        {
          "output_type": "stream",
          "name": "stderr",
          "text": [
            "2023-10-03 15:32:27,862 - pyswarms.single.global_best - INFO - Optimize for 1 iters with {'c1': 0.5, 'c2': 0.3, 'w': 0.9}\n",
            "pyswarms.single.global_best: 100%|██████████|1/1, best_cost=6.4e+7\n",
            "2023-10-03 15:32:27,877 - pyswarms.single.global_best - INFO - Optimization finished | best cost: 63983890.26191171, best pos: [4.51246411 3.10870599 2.66180468 3.5708909  5.5961681  1.22649209\n",
            " 2.67476761 5.10148602 2.52778748 6.29495004 4.57008166 1.19173373\n",
            " 3.25008804 2.97002069 4.66284283 6.55960135 1.39279289 3.7638157\n",
            " 0.45071803 4.56172728 1.7995553  4.51384629 4.49903888 2.63102592]\n",
            "2023-10-03 15:32:27,879 - pyswarms.single.global_best - INFO - Optimize for 1 iters with {'c1': 0.5, 'c2': 0.3, 'w': 0.9}\n"
          ]
        },
        {
          "output_type": "stream",
          "name": "stdout",
          "text": [
            "\n",
            "=========================================================================\n",
            "\n",
            "Número de ciclos de manutenção: 10 5\n",
            "Tempos para manutenções preventivas: [0, 108, 133, 213, 375, 411, 458, 491, 626, 645, 709]\n",
            "Severidade para cada subsistema: [0.5, 0.75, 0.75, 0.5, 0.25, 0.5, 0.25, 0.25, 0.75, 0.25]\n",
            "Número de Sisemas: 5\n",
            "Fator:  [0.05155784880398928, 0.12395358396783229, 0.18004375890582325, 0.18004375890582325, 0.12395358396783229, 0.06402648753708429, 0.12395358396783229, 0.06402648753708429, 0.06402648753708429, 0.18004375890582325, 0.06402648753708429]\n",
            "Media de falhas:  [0, 0.2828418077696421, 1.594080322466799, 113.10038674455323, 24404.120179457255, 44305.51859456065, 158976.68692211973, 457970.4846274905, 4485893.905090369, 6808413.75879466, 21290344.28045748, 16291023.615989538]\n",
            "Custo =  1745698707.1199696\n"
          ]
        },
        {
          "output_type": "stream",
          "name": "stderr",
          "text": [
            "pyswarms.single.global_best: 100%|██████████|1/1, best_cost=6.4e+7\n",
            "2023-10-03 15:32:27,893 - pyswarms.single.global_best - INFO - Optimization finished | best cost: 63983890.26191171, best pos: [4.51032832 3.1085742  2.66139886 3.57037553 5.59677861 1.22670721\n",
            " 2.67437056 5.10151659 2.52768825 6.29495095 4.57289267 1.19184686\n",
            " 3.25008452 2.97183266 4.66264108 6.55960846 1.3922318  3.81104057\n",
            " 4.94719316 4.56173942 1.7996156  4.82819845 4.49903382 2.63275089]\n",
            "2023-10-03 15:32:27,895 - pyswarms.single.global_best - INFO - Optimize for 1 iters with {'c1': 0.5, 'c2': 0.3, 'w': 0.9}\n"
          ]
        },
        {
          "output_type": "stream",
          "name": "stdout",
          "text": [
            "\n",
            "=========================================================================\n",
            "\n",
            "Número de ciclos de manutenção: 12 5\n",
            "Tempos para manutenções preventivas: [0, 102, 129, 158, 214, 270, 365, 411, 465, 490, 627, 643, 711]\n",
            "Severidade para cada subsistema: [0.5, 0.75, 0.75, 0.75, 0.25, 0.5, 0.25, 0.25, 0.25, 0.25, 0.75, 0.25]\n",
            "Número de Sisemas: 5\n",
            "Fator:  [0.05155784880398928, 0.12395358396783229, 0.18004375890582325, 0.18004375890582325, 0.18004375890582325, 0.06402648753708429, 0.12395358396783229, 0.06402648753708429, 0.06402648753708429, 0.06402648753708429, 0.06402648753708429, 0.18004375890582325, 0.06402648753708429]\n",
            "Media de falhas:  [0, 0.1597572415853363, 1.1673785080268002, 5.085164043557839, 66.51657490798522, 606.112457432537, 13318.03016060884, 84703.74512570087, 229524.97046106323, 466306.0620718686, 7217639.919327608, 9155137.371762717, 24629087.92633293, 19461084.51349505]\n",
            "Custo =  1833361260.0588531\n"
          ]
        },
        {
          "output_type": "stream",
          "name": "stderr",
          "text": [
            "pyswarms.single.global_best: 100%|██████████|1/1, best_cost=6.4e+7\n",
            "2023-10-03 15:32:27,915 - pyswarms.single.global_best - INFO - Optimization finished | best cost: 63983890.26191171, best pos: [4.50877589 3.10851214 2.6610717  3.56999338 5.59741937 1.22691758\n",
            " 2.67406864 5.10159103 2.5276707  6.29495102 4.57530228 1.19192268\n",
            " 3.24995519 2.9706603  4.66262262 6.55962909 1.39209    3.82723959\n",
            " 1.98845825 4.5617501  1.79974846 5.02361546 4.49904514 2.63318186]\n",
            "2023-10-03 15:32:27,916 - pyswarms.single.global_best - INFO - Optimize for 1 iters with {'c1': 0.5, 'c2': 0.3, 'w': 0.9}\n"
          ]
        },
        {
          "output_type": "stream",
          "name": "stdout",
          "text": [
            "\n",
            "=========================================================================\n",
            "\n",
            "Número de ciclos de manutenção: 10 5\n",
            "Tempos para manutenções preventivas: [0, 98, 127, 169, 214, 273, 415, 490, 627, 635, 719]\n",
            "Severidade para cada subsistema: [0.5, 0.75, 0.5, 0.75, 0.75, 0.25, 0.25, 0.25, 0.75, 0.25]\n",
            "Número de Sisemas: 5\n",
            "Fator:  [0.05155784880398928, 0.12395358396783229, 0.18004375890582325, 0.12395358396783229, 0.18004375890582325, 0.18004375890582325, 0.06402648753708429, 0.06402648753708429, 0.06402648753708429, 0.18004375890582325, 0.06402648753708429]\n",
            "Media de falhas:  [0, 0.10710913895422873, 0.996150111146116, 9.960917395484458, 63.29585519533617, 1071.748681924387, 56513.488350242296, 227649.36032846678, 6978983.217584207, 7889221.8964067595, 27481942.198129795, 21596795.857312568]\n",
            "Custo =  1793810961.4830503\n"
          ]
        },
        {
          "output_type": "stream",
          "name": "stderr",
          "text": [
            "pyswarms.single.global_best: 100%|██████████|1/1, best_cost=6.4e+7\n",
            "2023-10-03 15:32:27,929 - pyswarms.single.global_best - INFO - Optimization finished | best cost: 63983890.26191171, best pos: [4.50801814 3.1084629  2.66087097 3.56967825 5.598233   1.22757255\n",
            " 2.67383528 5.10166878 2.52772702 6.29495081 4.57685376 1.1919164\n",
            " 3.24981082 2.96957362 4.66266228 6.55965258 1.39236504 3.79942345\n",
            " 6.32174217 4.56175807 1.80000606 5.1792115  4.49906945 2.63353009]\n",
            "2023-10-03 15:32:27,931 - pyswarms.single.global_best - INFO - Optimize for 1 iters with {'c1': 0.5, 'c2': 0.3, 'w': 0.9}\n"
          ]
        },
        {
          "output_type": "stream",
          "name": "stdout",
          "text": [
            "\n",
            "=========================================================================\n",
            "\n",
            "Número de ciclos de manutenção: 11 5\n",
            "Tempos para manutenções preventivas: [0, 30, 96, 127, 172, 214, 295, 348, 468, 489, 535, 627]\n",
            "Severidade para cada subsistema: [0.5, 0.5, 0.75, 0.25, 0.75, 0.25, 0.25, 0.5, 0.25, 0.5, 0.25]\n",
            "Número de Sisemas: 5\n",
            "Fator:  [0.05155784880398928, 0.12395358396783229, 0.12395358396783229, 0.18004375890582325, 0.06402648753708429, 0.18004375890582325, 0.06402648753708429, 0.06402648753708429, 0.12395358396783229, 0.06402648753708429, 0.12395358396783229, 0.06402648753708429]\n",
            "Media de falhas:  [0, 7.797269975221016e-07, 0.0741030204977365, 0.5853269136692298, 11.547941905261553, 62.579442138532876, 3967.274696193105, 9547.487678042848, 393965.36056082527, 595555.8214428382, 1074504.5028455462, 6729381.127145235, 5446153.781929508]\n",
            "Custo =  529452793.9255866\n"
          ]
        },
        {
          "output_type": "stream",
          "name": "stderr",
          "text": [
            "pyswarms.single.global_best: 100%|██████████|1/1, best_cost=6.4e+7\n",
            "2023-10-03 15:32:27,942 - pyswarms.single.global_best - INFO - Optimization finished | best cost: 63983890.26191171, best pos: [4.50841159 3.10862089 2.66085033 3.56945588 5.59898976 1.22829231\n",
            " 2.67381094 5.10180311 2.52783    6.29495032 4.57741957 1.19187263\n",
            " 3.24942034 2.96839059 4.6630335  6.55967562 1.39309688 3.76675563\n",
            " 2.79189962 4.56176346 1.800253   5.27335887 4.49909695 2.6337609 ]\n",
            "2023-10-03 15:32:27,943 - pyswarms.single.global_best - INFO - Optimize for 1 iters with {'c1': 0.5, 'c2': 0.3, 'w': 0.9}\n"
          ]
        },
        {
          "output_type": "stream",
          "name": "stdout",
          "text": [
            "\n",
            "=========================================================================\n",
            "\n",
            "Número de ciclos de manutenção: 8 5\n",
            "Tempos para manutenções preventivas: [0, 32, 96, 126, 214, 456, 489, 516, 627]\n",
            "Severidade para cada subsistema: [0.5, 0.5, 0.75, 0.75, 0.25, 0.25, 0.75, 0.25]\n",
            "Número de Sisemas: 5\n",
            "Fator:  [0.05155784880398928, 0.12395358396783229, 0.12395358396783229, 0.18004375890582325, 0.18004375890582325, 0.06402648753708429, 0.06402648753708429, 0.18004375890582325, 0.06402648753708429]\n",
            "Media de falhas:  [0, 1.4861316869926902e-06, 0.07329877868814552, 0.539889653117778, 123.41348179344001, 208993.4163965407, 301237.41344891815, 706275.7698316093, 6894990.331815568, 6197413.200535799]\n",
            "Custo =  401007503.9624619\n"
          ]
        },
        {
          "output_type": "stream",
          "name": "stderr",
          "text": [
            "pyswarms.single.global_best: 100%|██████████|1/1, best_cost=6.4e+7\n",
            "2023-10-03 15:32:27,957 - pyswarms.single.global_best - INFO - Optimization finished | best cost: 63983890.26191171, best pos: [4.50910288 3.10894444 2.66104537 3.56927205 5.59964995 1.22896373\n",
            " 2.67398743 5.10194653 2.527948   6.29494985 4.57705676 1.19181649\n",
            " 3.24896463 2.96546262 4.6634758  6.55969477 1.39398977 3.71665841\n",
            " 6.50668076 4.56176426 1.80049054 5.16013624 4.49912165 2.63135925]\n",
            "2023-10-03 15:32:27,958 - pyswarms.single.global_best - INFO - Optimize for 1 iters with {'c1': 0.5, 'c2': 0.3, 'w': 0.9}\n"
          ]
        },
        {
          "output_type": "stream",
          "name": "stdout",
          "text": [
            "\n",
            "=========================================================================\n",
            "\n",
            "Número de ciclos de manutenção: 9 5\n",
            "Tempos para manutenções preventivas: [0, 33, 98, 129, 214, 285, 348, 464, 490, 626]\n",
            "Severidade para cada subsistema: [0.5, 0.5, 0.75, 0.75, 0.5, 0.5, 0.75, 0.25, 0.25]\n",
            "Número de Sisemas: 5\n",
            "Fator:  [0.05155784880398928, 0.12395358396783229, 0.12395358396783229, 0.18004375890582325, 0.18004375890582325, 0.12395358396783229, 0.12395358396783229, 0.18004375890582325, 0.06402648753708429, 0.06402648753708429]\n",
            "Media de falhas:  [0, 2.021224976483433e-06, 0.08991164095964903, 0.6829236519524919, 121.17422658026838, 1163.3604597633964, 7410.22415859534, 224893.300577626, 362239.679549162, 2844309.4478128706, 589719.0087838485]\n",
            "Custo =  448953790.3502093\n"
          ]
        },
        {
          "output_type": "stream",
          "name": "stderr",
          "text": [
            "pyswarms.single.global_best:   0%|          |0/1, best_cost=6.4e+7"
          ]
        },
        {
          "output_type": "stream",
          "name": "stdout",
          "text": [
            "\n",
            "=========================================================================\n",
            "\n",
            "Número de ciclos de manutenção: 10 5\n",
            "Tempos para manutenções preventivas: [0, 34, 102, 131, 159, 213, 395, 491, 625, 657, 693]\n",
            "Severidade para cada subsistema: [0.5, 0.5, 0.75, 0.25, 0.75, 0.5, 0.25, 0.25, 0.5, 0.5]\n",
            "Número de Sisemas: 5\n",
            "Fator:  [0.05155784880398928, 0.12395358396783229, 0.12395358396783229, 0.18004375890582325, 0.06402648753708429, 0.18004375890582325, 0.12395358396783229, 0.06402648753708429, 0.06402648753708429, 0.12395358396783229, 0.12395358396783229]\n",
            "Media de falhas:  [0, 2.7238590459835084e-06, 0.13434579394055438, 0.798080519182869, 4.8783969247605485, 62.29410364734196, 84521.46660748453, 289279.69348538964, 4241596.846068201, 8517634.22552954, 16191951.972198015, 9048938.695659094]\n",
            "Custo =  1822806546.7230885\n"
          ]
        },
        {
          "output_type": "stream",
          "name": "stderr",
          "text": [
            "\rpyswarms.single.global_best: 100%|██████████|1/1, best_cost=6.4e+7\n",
            "2023-10-03 15:32:27,974 - pyswarms.single.global_best - INFO - Optimization finished | best cost: 63983890.26191171, best pos: [4.51074075 3.10926859 2.66141332 3.56941183 5.60019655 1.22955456\n",
            " 2.67417548 5.10206985 2.52805818 6.29494848 4.57638516 1.19173117\n",
            " 3.24854983 2.96193423 4.66407668 6.55971066 1.39481623 3.65583739\n",
            " 2.40486146 4.56175772 1.80068478 4.94529584 4.49914295 2.62914328]\n",
            "2023-10-03 15:32:27,975 - pyswarms.single.global_best - INFO - Optimize for 1 iters with {'c1': 0.5, 'c2': 0.3, 'w': 0.9}\n",
            "pyswarms.single.global_best: 100%|██████████|1/1, best_cost=6.4e+7\n",
            "2023-10-03 15:32:27,988 - pyswarms.single.global_best - INFO - Optimization finished | best cost: 63983890.26191171, best pos: [4.51286616 3.10957844 2.66175422 3.56992503 5.60036994 1.22992544\n",
            " 2.67440525 5.10218072 2.5281542  6.29494672 4.57501904 1.19164509\n",
            " 3.24818667 2.95874254 4.6646376  6.5597215  1.39538537 3.59506624\n",
            " 5.68942199 4.56174968 1.8008417  4.62717733 4.49916077 2.62630553]\n",
            "2023-10-03 15:32:27,992 - pyswarms.single.global_best - INFO - Optimize for 1 iters with {'c1': 0.5, 'c2': 0.3, 'w': 0.9}\n"
          ]
        },
        {
          "output_type": "stream",
          "name": "stdout",
          "text": [
            "\n",
            "=========================================================================\n",
            "\n",
            "Número de ciclos de manutenção: 12 5\n",
            "Tempos para manutenções preventivas: [0, 35, 107, 134, 164, 213, 337, 404, 477, 491, 624, 654, 699]\n",
            "Severidade para cada subsistema: [0.5, 0.5, 0.75, 0.75, 0.75, 0.75, 0.5, 0.75, 0.25, 0.25, 0.5, 0.5]\n",
            "Número de Sisemas: 5\n",
            "Fator:  [0.05155784880398928, 0.12395358396783229, 0.12395358396783229, 0.18004375890582325, 0.18004375890582325, 0.18004375890582325, 0.18004375890582325, 0.12395358396783229, 0.18004375890582325, 0.06402648753708429, 0.06402648753708429, 0.12395358396783229, 0.12395358396783229]\n",
            "Media de falhas:  [0, 3.639137109243248e-06, 0.217445271045055, 1.0105793332940864, 6.6863181477698355, 60.59923354447078, 7375.00554265057, 33593.012502472986, 164389.3917986055, 246662.76832116838, 2621390.743177112, 6511721.297203752, 16390241.753321365, 8429933.684866522]\n",
            "Custo =  1822332460.5890682\n"
          ]
        },
        {
          "output_type": "stream",
          "name": "stderr",
          "text": [
            "pyswarms.single.global_best: 100%|██████████|1/1, best_cost=6.4e+7\n",
            "2023-10-03 15:32:28,007 - pyswarms.single.global_best - INFO - Optimization finished | best cost: 63983890.26191171, best pos: [4.514804   3.109832   2.66206615 3.57054831 5.60028115 1.22991427\n",
            " 2.67467229 5.10224135 2.52823466 6.29494502 4.57375473 1.1915637\n",
            " 3.24800288 2.95646022 4.6650389  6.55972247 1.39581804 3.54611499\n",
            " 1.41300054 4.5617424  1.80093247 4.31036758 4.4991674  2.62363416]\n"
          ]
        },
        {
          "output_type": "stream",
          "name": "stdout",
          "text": [
            "\n",
            "=========================================================================\n",
            "\n",
            "Número de ciclos de manutenção: 11 5\n",
            "Tempos para manutenções preventivas: [0, 35, 111, 137, 179, 212, 408, 492, 533, 623, 656, 702]\n",
            "Severidade para cada subsistema: [0.5, 0.5, 0.75, 0.25, 0.75, 0.5, 0.25, 0.75, 0.25, 0.5, 0.5]\n",
            "Número de Sisemas: 5\n",
            "Fator:  [0.05155784880398928, 0.12395358396783229, 0.12395358396783229, 0.18004375890582325, 0.06402648753708429, 0.18004375890582325, 0.12395358396783229, 0.06402648753708429, 0.18004375890582325, 0.06402648753708429, 0.12395358396783229, 0.12395358396783229]\n",
            "Media de falhas:  [0, 3.639137109243248e-06, 0.31573673225885235, 1.2746944976551764, 16.75066475640886, 56.72789518442052, 118374.55103296468, 309856.5567320364, 735150.7521360801, 5997228.718413813, 7362289.963240145, 17810683.66324429, 9418246.574285964]\n",
            "Custo =  1690036263.1648288\n"
          ]
        },
        {
          "output_type": "stream",
          "name": "stderr",
          "text": [
            "2023-10-03 15:32:28,009 - pyswarms.single.global_best - INFO - Optimize for 1 iters with {'c1': 0.5, 'c2': 0.3, 'w': 0.9}\n",
            "pyswarms.single.global_best: 100%|██████████|1/1, best_cost=6.4e+7"
          ]
        },
        {
          "output_type": "stream",
          "name": "stdout",
          "text": [
            "\n",
            "=========================================================================\n",
            "\n",
            "Número de ciclos de manutenção: 10 5\n",
            "Tempos para manutenções preventivas: [0, 35, 114, 140, 170, 212, 408, 493, 523, 622, 701]\n",
            "Severidade para cada subsistema: [0.5, 0.5, 0.75, 0.75, 0.75, 0.5, 0.25, 0.75, 0.25, 0.5]\n",
            "Número de Sisemas: 5\n",
            "Fator:  [0.05155784880398928, 0.12395358396783229, 0.12395358396783229, 0.18004375890582325, 0.18004375890582325, 0.18004375890582325, 0.12395358396783229, 0.06402648753708429, 0.18004375890582325, 0.06402648753708429, 0.12395358396783229]\n",
            "Media de falhas:  [0, 3.639137109243248e-06, 0.4139607564895863, 1.5910459277092293, 9.562361742566377, 56.30312810606043, 62259.96466690605, 258914.9553908859, 539467.7131137198, 5975652.249818604, 10947082.250925738, -4604715.0090162065]\n",
            "Custo =  1135212910.256392\n"
          ]
        },
        {
          "output_type": "stream",
          "name": "stderr",
          "text": [
            "\n",
            "2023-10-03 15:32:28,027 - pyswarms.single.global_best - INFO - Optimization finished | best cost: 63983890.26191171, best pos: [4.51613342 3.11000931 2.66231482 3.57114758 5.5999775  1.22986161\n",
            " 2.67490894 5.1022277  2.52827983 6.29494362 4.57250557 1.19150898\n",
            " 3.2480271  2.95557126 4.66522175 6.55971011 1.39618622 3.50416149\n",
            " 4.20435855 4.56173567 1.80090222 4.07384134 4.49916354 2.62124159]\n",
            "2023-10-03 15:32:28,029 - pyswarms.single.global_best - INFO - Optimize for 1 iters with {'c1': 0.5, 'c2': 0.3, 'w': 0.9}\n",
            "pyswarms.single.global_best: 100%|██████████|1/1, best_cost=6.4e+7"
          ]
        },
        {
          "output_type": "stream",
          "name": "stdout",
          "text": [
            "\n",
            "=========================================================================\n",
            "\n",
            "Número de ciclos de manutenção: 12 5\n",
            "Tempos para manutenções preventivas: [0, 35, 117, 142, 172, 212, 333, 366, 406, 454, 493, 622, 696]\n",
            "Severidade para cada subsistema: [0.5, 0.5, 0.75, 0.25, 0.75, 0.75, 0.5, 0.5, 0.5, 0.25, 0.25, 0.5]\n",
            "Número de Sisemas: 5\n",
            "Fator:  [0.05155784880398928, 0.12395358396783229, 0.12395358396783229, 0.18004375890582325, 0.06402648753708429, 0.18004375890582325, 0.18004375890582325, 0.12395358396783229, 0.12395358396783229, 0.12395358396783229, 0.06402648753708429, 0.06402648753708429, 0.12395358396783229]\n",
            "Media de falhas:  [0, 3.639137109243248e-06, 0.5388762654149701, 1.856673833020608, 10.75931411593934, 56.06061068338501, 14324.36424586993, 20707.830810314674, 39931.09378263027, 147108.59032361646, 346220.05255487567, 4049460.0363701703, 17423307.80374883, 3214834.7466410585]\n",
            "Custo =  1462287900.2926862\n"
          ]
        },
        {
          "output_type": "stream",
          "name": "stderr",
          "text": [
            "\n",
            "2023-10-03 15:32:28,041 - pyswarms.single.global_best - INFO - Optimization finished | best cost: 63983890.26191171, best pos: [4.51681657 3.11006584 2.66238909 3.57157664 5.59934379 1.2294147\n",
            " 2.67505331 5.10216964 2.528251   6.29494242 4.57110358 1.19148542\n",
            " 3.24826661 2.95656361 4.66533443 6.55969171 1.39644372 3.49199801\n",
            " 6.73220465 4.56173005 1.80083695 3.91444175 4.49915871 2.61938295]\n",
            "2023-10-03 15:32:28,042 - pyswarms.single.global_best - INFO - Optimize for 1 iters with {'c1': 0.5, 'c2': 0.3, 'w': 0.9}\n",
            "pyswarms.single.global_best: 100%|██████████|1/1, best_cost=6.4e+7\n",
            "2023-10-03 15:32:28,054 - pyswarms.single.global_best - INFO - Optimization finished | best cost: 63983890.26191171, best pos: [4.51692012 3.11006889 2.66228605 3.57176834 5.598597   1.22884734\n",
            " 2.67507879 5.10211311 2.52821897 6.29494188 4.5698622  1.1914793\n",
            " 3.24856186 2.95759605 4.66538417 6.55967167 1.39634878 3.48360845\n",
            " 1.57488232 4.56172609 1.80062459 3.85891029 4.49914508 2.61832166]\n"
          ]
        },
        {
          "output_type": "stream",
          "name": "stdout",
          "text": [
            "\n",
            "=========================================================================\n",
            "\n",
            "Número de ciclos de manutenção: 12 5\n",
            "Tempos para manutenções preventivas: [0, 34, 117, 143, 154, 212, 332, 374, 404, 493, 536, 540, 622]\n",
            "Severidade para cada subsistema: [0.5, 0.5, 0.75, 0.75, 0.75, 0.5, 0.5, 0.5, 0.25, 0.5, 0.75, 0.25]\n",
            "Número de Sisemas: 5\n",
            "Fator:  [0.05155784880398928, 0.12395358396783229, 0.12395358396783229, 0.18004375890582325, 0.18004375890582325, 0.18004375890582325, 0.12395358396783229, 0.12395358396783229, 0.12395358396783229, 0.06402648753708429, 0.12395358396783229, 0.18004375890582325, 0.06402648753708429]\n",
            "Media de falhas:  [0, 2.7238590459835084e-06, 0.5412910949179517, 1.9797241950002924, 3.6232389964703993, 61.22661600975527, 6274.329518625946, 15576.996067797545, 41550.55678661071, 378853.9127762964, 842865.046976865, 951125.8088640987, 3822950.3644797057, 3272270.4676267263]\n",
            "Custo =  411363176.8792789\n"
          ]
        },
        {
          "output_type": "stream",
          "name": "stderr",
          "text": [
            "2023-10-03 15:32:28,055 - pyswarms.single.global_best - INFO - Optimize for 1 iters with {'c1': 0.5, 'c2': 0.3, 'w': 0.9}\n",
            "pyswarms.single.global_best: 100%|██████████|1/1, best_cost=6.4e+7\n",
            "2023-10-03 15:32:28,071 - pyswarms.single.global_best - INFO - Optimization finished | best cost: 63983890.26191171, best pos: [4.51630934 3.10991258 2.66205908 3.57173586 5.59789394 1.22825273\n",
            " 2.67504619 5.10204897 2.52818787 6.29494182 4.56906596 1.19151708\n",
            " 3.24883012 2.95964533 4.66539475 6.55965354 1.39607331 3.47867331\n",
            " 3.78280039 4.56172345 1.80037062 3.96519375 4.49912178 2.61833069]\n",
            "2023-10-03 15:32:28,072 - pyswarms.single.global_best - INFO - Optimize for 1 iters with {'c1': 0.5, 'c2': 0.3, 'w': 0.9}\n"
          ]
        },
        {
          "output_type": "stream",
          "name": "stdout",
          "text": [
            "\n",
            "=========================================================================\n",
            "\n",
            "Número de ciclos de manutenção: 12 5\n",
            "Tempos para manutenções preventivas: [0, 33, 117, 143, 167, 212, 335, 380, 399, 492, 512, 540, 622]\n",
            "Severidade para cada subsistema: [0.5, 0.5, 0.75, 0.25, 0.75, 0.25, 0.5, 0.5, 0.25, 0.5, 0.75, 0.25]\n",
            "Número de Sisemas: 5\n",
            "Fator:  [0.05155784880398928, 0.12395358396783229, 0.12395358396783229, 0.18004375890582325, 0.06402648753708429, 0.18004375890582325, 0.06402648753708429, 0.12395358396783229, 0.12395358396783229, 0.06402648753708429, 0.12395358396783229, 0.18004375890582325, 0.06402648753708429]\n",
            "Media de falhas:  [0, 2.021224976483433e-06, 0.5437157490771408, 1.9821488491594814, 7.919005156939178, 56.769243273313265, 15251.405146079056, 26574.82609604722, 55315.95282396412, 394087.33791611757, 558925.1906996523, 1192313.9519488213, 4064138.5075644283, 3513458.610711449]\n",
            "Custo =  385793994.73161006\n"
          ]
        },
        {
          "output_type": "stream",
          "name": "stderr",
          "text": [
            "pyswarms.single.global_best: 100%|██████████|1/1, best_cost=6.4e+7\n",
            "2023-10-03 15:32:28,084 - pyswarms.single.global_best - INFO - Optimization finished | best cost: 63983890.26191171, best pos: [4.51557674 3.10969449 2.66182489 3.57155195 5.59733333 1.22773511\n",
            " 2.67491723 5.10197219 2.52812159 6.29494251 4.56862178 1.19156322\n",
            " 3.24907354 2.96149658 4.66523374 6.55963904 1.39542613 3.49757747\n",
            " 5.97764099 4.56172411 1.80014163 4.0770696  4.49909352 2.61923961]\n",
            "2023-10-03 15:32:28,085 - pyswarms.single.global_best - INFO - Optimize for 1 iters with {'c1': 0.5, 'c2': 0.3, 'w': 0.9}\n"
          ]
        },
        {
          "output_type": "stream",
          "name": "stdout",
          "text": [
            "\n",
            "=========================================================================\n",
            "\n",
            "Número de ciclos de manutenção: 10 5\n",
            "Tempos para manutenções preventivas: [0, 32, 114, 142, 158, 212, 290, 384, 392, 492, 623]\n",
            "Severidade para cada subsistema: [0.5, 0.5, 0.75, 0.75, 0.75, 0.75, 0.5, 0.5, 0.25, 0.25]\n",
            "Número de Sisemas: 5\n",
            "Fator:  [0.05155784880398928, 0.12395358396783229, 0.12395358396783229, 0.18004375890582325, 0.18004375890582325, 0.18004375890582325, 0.18004375890582325, 0.12395358396783229, 0.12395358396783229, 0.06402648753708429, 0.06402648753708429]\n",
            "Media de falhas:  [0, 1.4861316869926902e-06, 0.4196987218941788, 1.8197147032305576, 4.550577269904517, 59.49742067783744, 1363.5856262081074, 21643.20357991852, 25195.36531595012, 377105.1061632258, 4166998.9270688486, 2215699.1935494305]\n",
            "Custo =  471867926.0227115\n"
          ]
        },
        {
          "output_type": "stream",
          "name": "stderr",
          "text": [
            "pyswarms.single.global_best: 100%|██████████|1/1, best_cost=6.4e+7\n",
            "2023-10-03 15:32:28,097 - pyswarms.single.global_best - INFO - Optimization finished | best cost: 63983890.26191171, best pos: [4.51427155 3.10946816 2.66161039 3.57132471 5.59696339 1.22737091\n",
            " 2.67472043 5.10188095 2.52803904 6.2949433  4.56893287 1.19161721\n",
            " 3.24924972 2.96319017 4.66497566 6.55962638 1.3946123  3.52412053\n",
            " 0.84542931 4.56172796 1.79997687 4.20969893 4.49906885 2.6207004 ]\n",
            "2023-10-03 15:32:28,099 - pyswarms.single.global_best - INFO - Optimize for 1 iters with {'c1': 0.5, 'c2': 0.3, 'w': 0.9}\n"
          ]
        },
        {
          "output_type": "stream",
          "name": "stdout",
          "text": [
            "\n",
            "=========================================================================\n",
            "\n",
            "Número de ciclos de manutenção: 10 5\n",
            "Tempos para manutenções preventivas: [0, 32, 110, 140, 163, 212, 351, 385, 491, 539, 623]\n",
            "Severidade para cada subsistema: [0.5, 0.5, 0.75, 0.25, 0.75, 0.5, 0.5, 0.25, 0.25, 0.25]\n",
            "Número de Sisemas: 5\n",
            "Fator:  [0.05155784880398928, 0.12395358396783229, 0.12395358396783229, 0.18004375890582325, 0.06402648753708429, 0.18004375890582325, 0.12395358396783229, 0.12395358396783229, 0.06402648753708429, 0.06402648753708429, 0.06402648753708429]\n",
            "Media de falhas:  [0, 1.4861316869926902e-06, 0.2921416159558848, 1.5604156744682525, 6.169318395105315, 57.76137636530188, 24825.771253957297, 35247.35469826196, 390910.2733692286, 919984.2866592862, 5993122.515561901, 4041822.782042483]\n",
            "Custo =  640390295.9204717\n"
          ]
        },
        {
          "output_type": "stream",
          "name": "stderr",
          "text": [
            "\rpyswarms.single.global_best:   0%|          |0/1"
          ]
        },
        {
          "output_type": "stream",
          "name": "stdout",
          "text": [
            "\n",
            "=========================================================================\n",
            "\n",
            "Número de ciclos de manutenção: 8 5\n",
            "Tempos para manutenções preventivas: [0, 31, 106, 139, 213, 382, 491, 537, 624]\n",
            "Severidade para cada subsistema: [0.5, 0.5, 0.75, 0.75, 0.5, 0.25, 0.25, 0.25]\n",
            "Número de Sisemas: 5\n",
            "Fator:  [0.05155784880398928, 0.12395358396783229, 0.12395358396783229, 0.18004375890582325, 0.18004375890582325, 0.12395358396783229, 0.06402648753708429, 0.06402648753708429, 0.06402648753708429]\n",
            "Media de falhas:  [0, 1.08207986174339e-06, 0.20159212650042665, 1.4446566353159593, 108.44749312852068, 29954.19629891706, 252052.4305221826, 747866.4023363641, 5996351.272331899, 3945338.2096799277]\n"
          ]
        },
        {
          "output_type": "stream",
          "name": "stderr",
          "text": [
            "pyswarms.single.global_best: 100%|██████████|1/1, best_cost=6.4e+7\n",
            "2023-10-03 15:32:28,121 - pyswarms.single.global_best - INFO - Optimization finished | best cost: 63983890.26191171, best pos: [4.51298299 3.10924685 2.6614212  3.57099685 5.59666168 1.22725408\n",
            " 2.67454327 5.10180149 2.5279478  6.29494446 4.56962522 1.19166638\n",
            " 3.24933454 2.96467116 4.6645457  6.55962539 1.39374006 3.57613895\n",
            " 2.63130052 4.56173436 1.79992342 4.38970072 4.49904812 2.62265741]\n",
            "2023-10-03 15:32:28,122 - pyswarms.single.global_best - INFO - Optimize for 1 iters with {'c1': 0.5, 'c2': 0.3, 'w': 0.9}\n"
          ]
        },
        {
          "output_type": "stream",
          "name": "stdout",
          "text": [
            "Custo =  635122898.9060941\n"
          ]
        },
        {
          "output_type": "stream",
          "name": "stderr",
          "text": [
            "pyswarms.single.global_best: 100%|██████████|1/1, best_cost=6.4e+7\n",
            "2023-10-03 15:32:28,139 - pyswarms.single.global_best - INFO - Optimization finished | best cost: 63983890.26191171, best pos: [4.51190934 3.1090649  2.66130072 3.57069007 5.59642334 1.22729997\n",
            " 2.67438586 5.101736   2.52787398 6.29494588 4.57075913 1.19171006\n",
            " 3.24929992 2.96531295 4.66414802 6.5596375  1.39298824 3.63022687\n",
            " 4.42106248 4.5617407  1.79996942 4.55840275 4.49903911 2.62461952]\n"
          ]
        },
        {
          "output_type": "stream",
          "name": "stdout",
          "text": [
            "\n",
            "=========================================================================\n",
            "\n",
            "Número de ciclos de manutenção: 10 5\n",
            "Tempos para manutenções preventivas: [0, 31, 103, 137, 213, 343, 379, 456, 490, 538, 624]\n",
            "Severidade para cada subsistema: [0.5, 0.5, 0.75, 0.75, 0.75, 0.5, 0.25, 0.25, 0.25, 0.25]\n",
            "Número de Sisemas: 5\n",
            "Fator:  [0.05155784880398928, 0.12395358396783229, 0.12395358396783229, 0.18004375890582325, 0.18004375890582325, 0.18004375890582325, 0.12395358396783229, 0.06402648753708429, 0.06402648753708429, 0.06402648753708429, 0.06402648753708429]\n",
            "Media de falhas:  [0, 1.08207986174339e-06, 0.1506359008140161, 1.2499963337995434, 109.75321256433894, 9040.36892921365, 18446.87311578222, 107411.02465065703, 277174.9659570749, 1188197.9105264922, 6404481.8778432105, 4353468.815191239]\n",
            "Custo =  686292459.7933395\n"
          ]
        },
        {
          "output_type": "stream",
          "name": "stderr",
          "text": [
            "2023-10-03 15:32:28,144 - pyswarms.single.global_best - INFO - Optimize for 1 iters with {'c1': 0.5, 'c2': 0.3, 'w': 0.9}\n",
            "pyswarms.single.global_best:   0%|          |0/1, best_cost=6.4e+7"
          ]
        },
        {
          "output_type": "stream",
          "name": "stdout",
          "text": [
            "\n",
            "=========================================================================\n",
            "\n",
            "Número de ciclos de manutenção: 7 5\n",
            "Tempos para manutenções preventivas: [0, 31, 100, 135, 213, 372, 490, 625]\n",
            "Severidade para cada subsistema: [0.5, 0.5, 0.75, 0.75, 0.5, 0.25, 0.25]\n",
            "Número de Sisemas: 5\n",
            "Fator:  [0.05155784880398928, 0.12395358396783229, 0.12395358396783229, 0.18004375890582325, 0.18004375890582325, 0.12395358396783229, 0.06402648753708429, 0.06402648753708429]\n",
            "Media de falhas:  [0, 1.08207986174339e-06, 0.11157910570077792, 1.0813534793584203, 111.08509773954086, 22320.501353034895, 251643.7249531533, 4218947.6239331355, 2066843.5965707507]\n",
            "Custo =  470225204.7277331\n"
          ]
        },
        {
          "output_type": "stream",
          "name": "stderr",
          "text": [
            "\rpyswarms.single.global_best: 100%|██████████|1/1, best_cost=6.4e+7\n",
            "2023-10-03 15:32:28,160 - pyswarms.single.global_best - INFO - Optimization finished | best cost: 63983890.26191171, best pos: [4.51118391 3.10891897 2.66122553 3.57042047 5.5965471  1.22740024\n",
            " 2.67427502 5.10168507 2.52783132 6.29494722 4.57193339 1.19174356\n",
            " 3.24919051 2.96510513 4.66379909 6.55965153 1.39252567 3.67805283\n",
            " 6.10559295 4.56174619 1.80010197 4.69142854 4.49904053 2.62622955]\n",
            "2023-10-03 15:32:28,162 - pyswarms.single.global_best - INFO - Optimize for 1 iters with {'c1': 0.5, 'c2': 0.3, 'w': 0.9}\n",
            "pyswarms.single.global_best:   0%|          |0/1, best_cost=6.4e+7"
          ]
        },
        {
          "output_type": "stream",
          "name": "stdout",
          "text": [
            "\n",
            "=========================================================================\n",
            "\n",
            "Número de ciclos de manutenção: 8 5\n",
            "Tempos para manutenções preventivas: [0, 31, 98, 134, 213, 365, 490, 510, 625]\n",
            "Severidade para cada subsistema: [0.5, 0.5, 0.75, 0.75, 0.5, 0.25, 0.5, 0.25]\n",
            "Número de Sisemas: 5\n",
            "Fator:  [0.05155784880398928, 0.12395358396783229, 0.12395358396783229, 0.18004375890582325, 0.18004375890582325, 0.12395358396783229, 0.06402648753708429, 0.12395358396783229, 0.06402648753708429]\n",
            "Media de falhas:  [0, 1.08207986174339e-06, 0.09087806607619257, 1.007115953897533, 111.76177591889844, 18073.57261811128, 256160.12559485977, 415208.5674668803, 6512510.07064176, 5340498.753670316]\n",
            "Custo =  439509569.0357611\n"
          ]
        },
        {
          "output_type": "stream",
          "name": "stderr",
          "text": [
            "\rpyswarms.single.global_best: 100%|██████████|1/1, best_cost=6.4e+7\n",
            "2023-10-03 15:32:28,174 - pyswarms.single.global_best - INFO - Optimization finished | best cost: 63983890.26191171, best pos: [4.51107643 3.10882728 2.66132225 3.57020305 5.59669987 1.22761331\n",
            " 2.67422815 5.10167661 2.52780373 6.29494817 4.57287752 1.19176955\n",
            " 3.24904109 2.964819   4.66354085 6.5596687  1.39229585 3.71917538\n",
            " 0.58437061 4.56175096 1.80025212 4.8043904  4.49905654 2.62696681]\n",
            "2023-10-03 15:32:28,176 - pyswarms.single.global_best - INFO - Optimize for 1 iters with {'c1': 0.5, 'c2': 0.3, 'w': 0.9}\n",
            "pyswarms.single.global_best: 100%|██████████|1/1, best_cost=6.4e+7"
          ]
        },
        {
          "output_type": "stream",
          "name": "stdout",
          "text": [
            "\n",
            "=========================================================================\n",
            "\n",
            "Número de ciclos de manutenção: 10 5\n",
            "Tempos para manutenções preventivas: [0, 32, 97, 133, 173, 213, 286, 470, 490, 532, 624]\n",
            "Severidade para cada subsistema: [0.5, 0.5, 0.75, 0.5, 0.75, 0.75, 0.25, 0.25, 0.5, 0.25]\n",
            "Número de Sisemas: 5\n",
            "Fator:  [0.05155784880398928, 0.12395358396783229, 0.12395358396783229, 0.18004375890582325, 0.12395358396783229, 0.18004375890582325, 0.18004375890582325, 0.06402648753708429, 0.06402648753708429, 0.12395358396783229, 0.06402648753708429]\n",
            "Media de falhas:  [0, 1.4861316869926902e-06, 0.08144342925529338, 0.9347328668629048, 11.86151284759991, 59.200910004863594, 1803.6089464121678, 215297.50767451615, 277105.86172335624, 1025858.1192077252, 6429331.089156898, 5311854.007635782]\n",
            "Custo =  509595108.1823555\n"
          ]
        },
        {
          "output_type": "stream",
          "name": "stderr",
          "text": [
            "\n",
            "2023-10-03 15:32:28,189 - pyswarms.single.global_best - INFO - Optimization finished | best cost: 63983890.26191171, best pos: [4.51139854 3.10878173 2.66141901 3.57008233 5.59698966 1.22805461\n",
            " 2.67427067 5.10168895 2.52782857 6.29494855 4.57353777 1.19178006\n",
            " 3.24890468 2.96424748 4.66339301 6.55968439 1.39240249 3.73290701\n",
            " 2.14869596 4.56175355 1.80039087 4.86568046 4.49907274 2.62734476]\n",
            "2023-10-03 15:32:28,191 - pyswarms.single.global_best - INFO - Optimize for 1 iters with {'c1': 0.5, 'c2': 0.3, 'w': 0.9}\n",
            "pyswarms.single.global_best:   0%|          |0/1, best_cost=6.4e+7"
          ]
        },
        {
          "output_type": "stream",
          "name": "stdout",
          "text": [
            "\n",
            "=========================================================================\n",
            "\n",
            "Número de ciclos de manutenção: 8 5\n",
            "Tempos para manutenções preventivas: [0, 33, 99, 133, 213, 294, 355, 491, 624]\n",
            "Severidade para cada subsistema: [0.5, 0.5, 0.75, 0.75, 0.5, 0.75, 0.25, 0.25]\n",
            "Número de Sisemas: 5\n",
            "Fator:  [0.05155784880398928, 0.12395358396783229, 0.12395358396783229, 0.18004375890582325, 0.18004375890582325, 0.12395358396783229, 0.18004375890582325, 0.06402648753708429, 0.06402648753708429]\n",
            "Media de falhas:  [0, 2.021224976483433e-06, 0.09969057488439105, 0.9293143360360799, 112.43562075812252, 1632.0192021411033, 9001.60122300253, 411556.5043311715, 2786284.4791871156, 735271.4165351442]\n",
            "Custo =  425660599.43283343\n"
          ]
        },
        {
          "output_type": "stream",
          "name": "stderr",
          "text": [
            "\rpyswarms.single.global_best: 100%|██████████|1/1, best_cost=6.4e+7\n",
            "2023-10-03 15:32:28,209 - pyswarms.single.global_best - INFO - Optimization finished | best cost: 63983890.26191171, best pos: [4.51181422 3.1088488  2.66156737 3.57008094 5.59742656 1.22853567\n",
            " 2.67432432 5.10171253 2.52786571 6.29494864 4.5738752  1.19177137\n",
            " 3.24878207 2.96345076 4.66339332 6.55969814 1.39267677 3.73724677\n",
            " 4.2765959  4.56175302 1.80051117 4.84882153 4.49909341 2.62678832]\n",
            "2023-10-03 15:32:28,211 - pyswarms.single.global_best - INFO - Optimize for 1 iters with {'c1': 0.5, 'c2': 0.3, 'w': 0.9}\n",
            "pyswarms.single.global_best:   0%|          |0/1, best_cost=6.4e+7"
          ]
        },
        {
          "output_type": "stream",
          "name": "stdout",
          "text": [
            "\n",
            "=========================================================================\n",
            "\n",
            "Número de ciclos de manutenção: 10 5\n",
            "Tempos para manutenções preventivas: [0, 34, 102, 134, 158, 213, 299, 339, 391, 491, 624]\n",
            "Severidade para cada subsistema: [0.5, 0.5, 0.75, 0.5, 0.75, 0.25, 0.25, 0.5, 0.25, 0.25]\n",
            "Número de Sisemas: 5\n",
            "Fator:  [0.05155784880398928, 0.12395358396783229, 0.12395358396783229, 0.18004375890582325, 0.12395358396783229, 0.18004375890582325, 0.06402648753708429, 0.06402648753708429, 0.12395358396783229, 0.06402648753708429, 0.06402648753708429]\n",
            "Media de falhas:  [0, 2.7238590459835084e-06, 0.13434579394055438, 0.9988316572292173, 4.524283620791657, 62.63442446135713, 2947.403606440243, 6556.0298673374455, 54437.101375191836, 624926.8055134597, 4502833.491894522, 2451820.4292425504]\n",
            "Custo =  485468036.34710205\n"
          ]
        },
        {
          "output_type": "stream",
          "name": "stderr",
          "text": [
            "\rpyswarms.single.global_best: 100%|██████████|1/1, best_cost=6.4e+7\n",
            "2023-10-03 15:32:28,226 - pyswarms.single.global_best - INFO - Optimization finished | best cost: 63983890.26191171, best pos: [4.51233236 3.10892181 2.66174364 3.57018859 5.59808894 1.22896592\n",
            " 2.6744234  5.10176048 2.52790826 6.2949482  4.57352341 1.19172354\n",
            " 3.24869645 2.96243436 4.66353299 6.55970605 1.39312425 3.71774253\n",
            " 6.26963772 4.56175048 1.80061873 4.7603776  4.49911252 2.6260462 ]\n",
            "2023-10-03 15:32:28,227 - pyswarms.single.global_best - INFO - Optimize for 1 iters with {'c1': 0.5, 'c2': 0.3, 'w': 0.9}\n",
            "pyswarms.single.global_best:   0%|          |0/1, best_cost=6.4e+7"
          ]
        },
        {
          "output_type": "stream",
          "name": "stdout",
          "text": [
            "\n",
            "=========================================================================\n",
            "\n",
            "Número de ciclos de manutenção: 8 5\n",
            "Tempos para manutenções preventivas: [0, 34, 105, 136, 213, 396, 474, 491, 623]\n",
            "Severidade para cada subsistema: [0.5, 0.5, 0.75, 0.75, 0.5, 0.75, 0.25, 0.25]\n",
            "Número de Sisemas: 5\n",
            "Fator:  [0.05155784880398928, 0.12395358396783229, 0.12395358396783229, 0.18004375890582325, 0.18004375890582325, 0.12395358396783229, 0.18004375890582325, 0.06402648753708429, 0.06402648753708429]\n",
            "Media de falhas:  [0, 2.7238590459835084e-06, 0.18038684226267765, 1.159791450818418, 110.41313116895148, 44610.344515022574, 173416.58471867885, 271112.11865261744, 2599209.6858796026, 647909.9523601844]\n",
            "Custo =  440476945.7971183\n"
          ]
        },
        {
          "output_type": "stream",
          "name": "stderr",
          "text": [
            "\rpyswarms.single.global_best: 100%|██████████|1/1, best_cost=6.4e+7\n",
            "2023-10-03 15:32:28,241 - pyswarms.single.global_best - INFO - Optimization finished | best cost: 63983890.26191171, best pos: [4.51284789 3.10908295 2.66191327 3.57039585 5.59871629 1.22925073\n",
            " 2.67451909 5.10184083 2.52795791 6.29494751 4.572698   1.1916659\n",
            " 3.24863039 2.96149688 4.66382835 6.55971012 1.39368075 3.67632449\n",
            " 0.96882959 4.56174803 1.80066534 4.62832346 4.49912706 2.62494114]\n",
            "2023-10-03 15:32:28,245 - pyswarms.single.global_best - INFO - Optimize for 1 iters with {'c1': 0.5, 'c2': 0.3, 'w': 0.9}\n",
            "pyswarms.single.global_best:   0%|          |0/1, best_cost=6.4e+7"
          ]
        },
        {
          "output_type": "stream",
          "name": "stdout",
          "text": [
            "\n",
            "=========================================================================\n",
            "\n",
            "Número de ciclos de manutenção: 9 5\n",
            "Tempos para manutenções preventivas: [0, 34, 107, 137, 213, 290, 398, 492, 515, 623]\n",
            "Severidade para cada subsistema: [0.5, 0.5, 0.75, 0.75, 0.75, 0.5, 0.25, 0.75, 0.25]\n",
            "Número de Sisemas: 5\n",
            "Fator:  [0.05155784880398928, 0.12395358396783229, 0.12395358396783229, 0.18004375890582325, 0.18004375890582325, 0.18004375890582325, 0.12395358396783229, 0.06402648753708429, 0.18004375890582325, 0.06402648753708429]\n",
            "Media de falhas:  [0, 2.7238590459835084e-06, 0.21851231348949257, 1.2512178812538257, 109.75443411179322, 1402.7358393102859, 32438.90274819798, 238332.88291385493, 434150.8405295783, 6184604.899468044, 5605258.041364728]\n",
            "Custo =  357776411.91098815\n"
          ]
        },
        {
          "output_type": "stream",
          "name": "stderr",
          "text": [
            "\rpyswarms.single.global_best: 100%|██████████|1/1, best_cost=6.4e+7\n",
            "2023-10-03 15:32:28,258 - pyswarms.single.global_best - INFO - Optimization finished | best cost: 63983890.26191171, best pos: [4.51340351 3.10926629 2.66203323 3.57064409 5.59927984 1.2294243\n",
            " 2.67461137 5.10192594 2.52800858 6.29494658 4.57171653 1.19160925\n",
            " 3.24863166 2.96069411 4.66421541 6.5597118  1.3941893  3.63010338\n",
            " 2.9168159  4.56174417 1.80063063 4.48168576 4.49913639 2.62382395]\n",
            "2023-10-03 15:32:28,260 - pyswarms.single.global_best - INFO - Optimize for 1 iters with {'c1': 0.5, 'c2': 0.3, 'w': 0.9}\n",
            "pyswarms.single.global_best:   0%|          |0/1, best_cost=6.4e+7"
          ]
        },
        {
          "output_type": "stream",
          "name": "stdout",
          "text": [
            "\n",
            "=========================================================================\n",
            "\n",
            "Número de ciclos de manutenção: 11 5\n",
            "Tempos para manutenções preventivas: [0, 34, 109, 139, 167, 212, 296, 362, 397, 492, 511, 623]\n",
            "Severidade para cada subsistema: [0.5, 0.5, 0.75, 0.75, 0.75, 0.5, 0.5, 0.5, 0.25, 0.75, 0.25]\n",
            "Número de Sisemas: 5\n",
            "Fator:  [0.05155784880398928, 0.12395358396783229, 0.12395358396783229, 0.18004375890582325, 0.18004375890582325, 0.18004375890582325, 0.12395358396783229, 0.12395358396783229, 0.12395358396783229, 0.06402648753708429, 0.18004375890582325, 0.06402648753708429]\n",
            "Media de falhas:  [0, 2.7238590459835084e-06, 0.2637421009634008, 1.4486510495696336, 7.935163947685043, 56.78540206405913, 1715.5907050370706, 11023.05024724207, 35753.79032449972, 378359.8625611462, 533275.4879699929, 6378443.385296329, 5799096.527193014]\n",
            "Custo =  360028269.04620075\n"
          ]
        },
        {
          "output_type": "stream",
          "name": "stderr",
          "text": [
            "\rpyswarms.single.global_best: 100%|██████████|1/1, best_cost=6.4e+7\n",
            "2023-10-03 15:32:28,273 - pyswarms.single.global_best - INFO - Optimization finished | best cost: 63983890.26191171, best pos: [4.51389571 3.10943997 2.6621146  3.57088452 5.5997802  1.22945141\n",
            " 2.67469859 5.1020018  2.52804885 6.29494562 4.57082595 1.19155928\n",
            " 3.248709   2.96025128 4.66456628 6.55970722 1.39463612 3.58825699\n",
            " 4.82421276 4.56173907 1.80058383 4.34965904 4.49914301 2.62281844]\n",
            "2023-10-03 15:32:28,275 - pyswarms.single.global_best - INFO - Optimize for 1 iters with {'c1': 0.5, 'c2': 0.3, 'w': 0.9}\n",
            "pyswarms.single.global_best: 100%|██████████|1/1, best_cost=6.4e+7\n",
            "2023-10-03 15:32:28,293 - pyswarms.single.global_best - INFO - Optimization finished | best cost: 63983890.26191171, best pos: [4.51433603 3.10957957 2.66218458 3.5710903  5.59988124 1.22924931\n",
            " 2.67476719 5.10206788 2.52807929 6.29494475 4.57014316 1.19152058\n",
            " 3.24878796 2.95989223 4.66481628 6.5597023  1.3949611  3.55343203\n",
            " 6.53915299 4.56173447 1.80046163 4.23744537 4.49914355 2.622193  ]\n"
          ]
        },
        {
          "output_type": "stream",
          "name": "stdout",
          "text": [
            "\n",
            "=========================================================================\n",
            "\n",
            "Número de ciclos de manutenção: 12 5\n",
            "Tempos para manutenções preventivas: [0, 35, 111, 140, 169, 212, 287, 332, 368, 396, 460, 492, 623]\n",
            "Severidade para cada subsistema: [0.5, 0.5, 0.75, 0.25, 0.75, 0.25, 0.25, 0.5, 0.5, 0.25, 0.25, 0.25]\n",
            "Número de Sisemas: 5\n",
            "Fator:  [0.05155784880398928, 0.12395358396783229, 0.12395358396783229, 0.18004375890582325, 0.06402648753708429, 0.18004375890582325, 0.06402648753708429, 0.06402648753708429, 0.12395358396783229, 0.12395358396783229, 0.06402648753708429, 0.06402648753708429, 0.06402648753708429]\n",
            "Media de falhas:  [0, 3.639137109243248e-06, 0.31573673225885235, 1.562179061126213, 8.962625911070436, 56.41262583777156, 2975.387302526255, 6199.388006174573, 27951.393773628228, 64143.29548262739, 209642.31877637195, 377856.7844587985, 6617770.8578894045, 4666471.124369986]\n",
            "Custo =  568045016.8175168\n"
          ]
        },
        {
          "output_type": "stream",
          "name": "stderr",
          "text": [
            "2023-10-03 15:32:28,295 - pyswarms.single.global_best - INFO - Optimize for 1 iters with {'c1': 0.5, 'c2': 0.3, 'w': 0.9}\n",
            "pyswarms.single.global_best: 100%|██████████|1/1, best_cost=6.4e+7\n",
            "2023-10-03 15:32:28,309 - pyswarms.single.global_best - INFO - Optimization finished | best cost: 63983890.26191171, best pos: [4.51456452 3.10964354 2.66214634 3.57120045 5.59971757 1.22892549\n",
            " 2.67480698 5.10207655 2.52810041 6.29494432 4.56978699 1.19149442\n",
            " 3.24889177 2.95994578 4.66501471 6.55968957 1.39504879 3.54163284\n",
            " 0.82789521 4.56173145 1.80034716 4.19698849 4.4991413  2.6217996 ]\n",
            "2023-10-03 15:32:28,311 - pyswarms.single.global_best - INFO - Optimize for 1 iters with {'c1': 0.5, 'c2': 0.3, 'w': 0.9}\n"
          ]
        },
        {
          "output_type": "stream",
          "name": "stdout",
          "text": [
            "\n",
            "=========================================================================\n",
            "\n",
            "Número de ciclos de manutenção: 12 5\n",
            "Tempos para manutenções preventivas: [0, 35, 112, 141, 153, 212, 296, 337, 372, 393, 492, 536, 623]\n",
            "Severidade para cada subsistema: [0.5, 0.5, 0.75, 0.75, 0.75, 0.75, 0.75, 0.5, 0.5, 0.25, 0.5, 0.25]\n",
            "Número de Sisemas: 5\n",
            "Fator:  [0.05155784880398928, 0.12395358396783229, 0.12395358396783229, 0.18004375890582325, 0.18004375890582325, 0.18004375890582325, 0.18004375890582325, 0.18004375890582325, 0.12395358396783229, 0.12395358396783229, 0.06402648753708429, 0.12395358396783229, 0.06402648753708429]\n",
            "Media de falhas:  [0, 3.639137109243248e-06, 0.3458531674000195, 1.6792852597214738, 3.33093354225553, 61.59751331226706, 1720.4028162852785, 5195.5042535021785, 12948.04018469128, 21526.684222425793, 371606.5158062181, 843487.5865610673, 6012910.1559702465, 4949263.773032119]\n",
            "Custo =  482644829.4868088\n"
          ]
        },
        {
          "output_type": "stream",
          "name": "stderr",
          "text": [
            "pyswarms.single.global_best: 100%|██████████|1/1, best_cost=6.4e+7\n",
            "2023-10-03 15:32:28,323 - pyswarms.single.global_best - INFO - Optimization finished | best cost: 63983890.26191171, best pos: [4.51474315 3.10964111 2.66207352 3.57119206 5.59928981 1.228566\n",
            " 2.67479042 5.10207905 2.52811374 6.29494418 4.5696742  1.19150628\n",
            " 3.2489864  2.96037841 4.6651526  6.55967759 1.39508073 3.5446689\n",
            " 2.38087362 4.56173024 1.80024224 4.16659622 4.4991368  2.62189218]\n",
            "2023-10-03 15:32:28,324 - pyswarms.single.global_best - INFO - Optimize for 1 iters with {'c1': 0.5, 'c2': 0.3, 'w': 0.9}\n"
          ]
        },
        {
          "output_type": "stream",
          "name": "stdout",
          "text": [
            "\n",
            "=========================================================================\n",
            "\n",
            "Número de ciclos de manutenção: 10 5\n",
            "Tempos para manutenções preventivas: [0, 34, 112, 141, 170, 212, 376, 390, 492, 520, 623]\n",
            "Severidade para cada subsistema: [0.5, 0.5, 0.75, 0.25, 0.75, 0.5, 0.5, 0.25, 0.5, 0.25]\n",
            "Número de Sisemas: 5\n",
            "Fator:  [0.05155784880398928, 0.12395358396783229, 0.12395358396783229, 0.18004375890582325, 0.06402648753708429, 0.18004375890582325, 0.12395358396783229, 0.12395358396783229, 0.06402648753708429, 0.12395358396783229, 0.06402648753708429]\n",
            "Media de falhas:  [0, 2.7238590459835084e-06, 0.34747336012214003, 1.6809054524435945, 9.505294546048157, 56.24606090954221, 50780.045062567326, 56421.90770815707, 411947.794758554, 663664.9582493867, 6289144.504767621, 5225498.121829493]\n",
            "Custo =  456205192.66867095\n"
          ]
        },
        {
          "output_type": "stream",
          "name": "stderr",
          "text": [
            "pyswarms.single.global_best: 100%|██████████|1/1, best_cost=6.4e+7"
          ]
        },
        {
          "output_type": "stream",
          "name": "stdout",
          "text": [
            "\n",
            "=========================================================================\n",
            "\n",
            "Número de ciclos de manutenção: 8 5\n",
            "Tempos para manutenções preventivas: [0, 34, 112, 140, 168, 212, 379, 492, 624]\n",
            "Severidade para cada subsistema: [0.5, 0.5, 0.75, 0.75, 0.75, 0.5, 0.25, 0.25]\n",
            "Número de Sisemas: 5\n",
            "Fator:  [0.05155784880398928, 0.12395358396783229, 0.12395358396783229, 0.18004375890582325, 0.18004375890582325, 0.18004375890582325, 0.12395358396783229, 0.06402648753708429, 0.06402648753708429]\n",
            "Media de falhas:  [0, 2.7238590459835084e-06, 0.34747336012214003, 1.5714773160653375, 8.433927029124694, 56.58690627356584, 27541.96739381918, 259205.5500940218, 4122185.9015220352, 2071172.838870064]\n",
            "Custo =  467761157.20083827\n"
          ]
        },
        {
          "output_type": "stream",
          "name": "stderr",
          "text": [
            "\n",
            "2023-10-03 15:32:28,338 - pyswarms.single.global_best - INFO - Optimization finished | best cost: 63983890.26191171, best pos: [4.51456511 3.10961541 2.66196719 3.57109287 5.59867428 1.22823358\n",
            " 2.6747738  5.10208125 2.52810492 6.29494453 4.56964471 1.19152572\n",
            " 3.24904766 2.96085856 4.66512761 6.55966554 1.39497274 3.56247526\n",
            " 3.87633495 4.56172943 1.80014918 4.20490684 4.49913209 2.62215003]\n",
            "2023-10-03 15:32:28,344 - pyswarms.single.global_best - INFO - Optimize for 1 iters with {'c1': 0.5, 'c2': 0.3, 'w': 0.9}\n",
            "pyswarms.single.global_best:   0%|          |0/1, best_cost=6.4e+7"
          ]
        },
        {
          "output_type": "stream",
          "name": "stdout",
          "text": [
            "\n",
            "=========================================================================\n",
            "\n",
            "Número de ciclos de manutenção: 8 5\n",
            "Tempos para manutenções preventivas: [0, 34, 111, 139, 212, 288, 379, 492, 624]\n",
            "Severidade para cada subsistema: [0.5, 0.5, 0.75, 0.75, 0.5, 0.5, 0.25, 0.25]\n",
            "Número de Sisemas: 5\n",
            "Fator:  [0.05155784880398928, 0.12395358396783229, 0.12395358396783229, 0.18004375890582325, 0.18004375890582325, 0.12395358396783229, 0.12395358396783229, 0.06402648753708429, 0.06402648753708429]\n",
            "Media de falhas:  [0, 2.7238590459835084e-06, 0.3172293848226197, 1.4608674064077183, 103.07829790514236, 1304.760476309364, 18873.284483685296, 393360.14192439144, 4256340.493352405, 2205327.4307004334]\n",
            "Custo =  472993738.8699781\n"
          ]
        },
        {
          "output_type": "stream",
          "name": "stderr",
          "text": [
            "\rpyswarms.single.global_best: 100%|██████████|1/1, best_cost=6.4e+7\n",
            "2023-10-03 15:32:28,359 - pyswarms.single.global_best - INFO - Optimization finished | best cost: 63983890.26191171, best pos: [4.51437905 3.10956774 2.66183269 3.57095305 5.5980787  1.22795095\n",
            " 2.67475812 5.10207014 2.52806379 6.29494513 4.57003719 1.19156077\n",
            " 3.24906871 2.96134434 4.66509808 6.55965599 1.3947608  3.58552891\n",
            " 5.43107244 4.56173018 1.80007783 4.31561787 4.49911725 2.62253742]\n",
            "2023-10-03 15:32:28,361 - pyswarms.single.global_best - INFO - Optimize for 1 iters with {'c1': 0.5, 'c2': 0.3, 'w': 0.9}\n",
            "pyswarms.single.global_best:   0%|          |0/1, best_cost=6.4e+7"
          ]
        },
        {
          "output_type": "stream",
          "name": "stdout",
          "text": [
            "\n",
            "=========================================================================\n",
            "\n",
            "Número de ciclos de manutenção: 8 5\n",
            "Tempos para manutenções preventivas: [0, 34, 109, 138, 212, 379, 456, 491, 624]\n",
            "Severidade para cada subsistema: [0.5, 0.5, 0.75, 0.75, 0.5, 0.25, 0.25, 0.25]\n",
            "Número de Sisemas: 5\n",
            "Fator:  [0.05155784880398928, 0.12395358396783229, 0.12395358396783229, 0.18004375890582325, 0.18004375890582325, 0.12395358396783229, 0.06402648753708429, 0.06402648753708429, 0.06402648753708429]\n",
            "Media de falhas:  [0, 2.7238590459835084e-06, 0.2637421009634008, 1.3512464607739192, 103.68814973003714, 27589.068637275654, 116553.22017215047, 293405.2587910171, 6667709.061299448, 4616695.998647477]\n",
            "Custo =  559041885.3689206\n"
          ]
        },
        {
          "output_type": "stream",
          "name": "stderr",
          "text": [
            "\rpyswarms.single.global_best: 100%|██████████|1/1, best_cost=6.4e+7\n",
            "2023-10-03 15:32:28,378 - pyswarms.single.global_best - INFO - Optimization finished | best cost: 63983890.26191171, best pos: [4.51417193 3.1094984  2.66170308 3.57078283 5.59762053 1.22772386\n",
            " 2.67471216 5.10200686 2.52802671 6.29494576 4.57047747 1.19160577\n",
            " 3.24904705 2.96180542 4.66489899 6.55965065 1.39451951 3.6153798\n",
            " 6.82716032 4.56173129 1.80004778 4.43879117 4.49910015 2.62319163]\n",
            "2023-10-03 15:32:28,379 - pyswarms.single.global_best - INFO - Optimize for 1 iters with {'c1': 0.5, 'c2': 0.3, 'w': 0.9}\n",
            "pyswarms.single.global_best:   0%|          |0/1, best_cost=6.4e+7"
          ]
        },
        {
          "output_type": "stream",
          "name": "stdout",
          "text": [
            "\n",
            "=========================================================================\n",
            "\n",
            "Número de ciclos de manutenção: 8 5\n",
            "Tempos para manutenções preventivas: [0, 33, 107, 136, 155, 213, 378, 491, 624]\n",
            "Severidade para cada subsistema: [0.5, 0.5, 0.75, 0.5, 0.75, 0.5, 0.25, 0.25]\n",
            "Número de Sisemas: 5\n",
            "Fator:  [0.05155784880398928, 0.12395358396783229, 0.12395358396783229, 0.18004375890582325, 0.12395358396783229, 0.18004375890582325, 0.12395358396783229, 0.06402648753708429, 0.06402648753708429]\n",
            "Media de falhas:  [0, 2.021224976483433e-06, 0.21958415655883318, 1.1664989599949487, 3.7225869065731567, 63.91047917237031, 37547.39558469991, 264845.2843332236, 4142751.9707142855, 2091738.9080623141]\n",
            "Custo =  467424728.0966304\n"
          ]
        },
        {
          "output_type": "stream",
          "name": "stderr",
          "text": [
            "\rpyswarms.single.global_best: 100%|██████████|1/1, best_cost=6.4e+7\n",
            "2023-10-03 15:32:28,392 - pyswarms.single.global_best - INFO - Optimization finished | best cost: 63983890.26191171, best pos: [4.51378454 3.1094346  2.66159785 3.57060939 5.59736819 1.22760119\n",
            " 2.6746707  5.10192485 2.52798273 6.2949464  4.57102757 1.19165085\n",
            " 3.24898928 2.96221337 4.66470023 6.55964925 1.39423178 3.64555838\n",
            " 0.50835341 4.56173274 1.80005519 4.55411627 4.49908376 2.62392825]\n",
            "2023-10-03 15:32:28,393 - pyswarms.single.global_best - INFO - Optimize for 1 iters with {'c1': 0.5, 'c2': 0.3, 'w': 0.9}\n",
            "pyswarms.single.global_best: 100%|██████████|1/1, best_cost=6.4e+7"
          ]
        },
        {
          "output_type": "stream",
          "name": "stdout",
          "text": [
            "\n",
            "=========================================================================\n",
            "\n",
            "Número de ciclos de manutenção: 7 5\n",
            "Tempos para manutenções preventivas: [0, 33, 105, 135, 213, 377, 491, 624]\n",
            "Severidade para cada subsistema: [0.5, 0.5, 0.75, 0.75, 0.5, 0.25, 0.25]\n",
            "Número de Sisemas: 5\n",
            "Fator:  [0.05155784880398928, 0.12395358396783229, 0.12395358396783229, 0.18004375890582325, 0.18004375890582325, 0.12395358396783229, 0.06402648753708429, 0.06402648753708429]\n",
            "Media de falhas:  [0, 2.021224976483433e-06, 0.18128880474785852, 1.07949807668778, 111.08324233687021, 25885.563645169204, 254475.91365135505, 4132382.600032417, 2081369.5373804457]\n",
            "Custo =  467120118.1663408\n"
          ]
        },
        {
          "output_type": "stream",
          "name": "stderr",
          "text": [
            "\n",
            "2023-10-03 15:32:28,406 - pyswarms.single.global_best - INFO - Optimization finished | best cost: 63983890.26191171, best pos: [4.51341824 3.10935648 2.66151225 3.57048247 5.59745032 1.22761336\n",
            " 2.67462395 5.10185053 2.52794286 6.29494689 4.571636   1.19168519\n",
            " 3.24891361 2.96253336 4.6644486  6.55964824 1.39394258 3.67137038\n",
            " 1.21354978 4.56173417 1.80011475 4.64783019 4.49907266 2.62458258]\n",
            "2023-10-03 15:32:28,408 - pyswarms.single.global_best - INFO - Optimize for 1 iters with {'c1': 0.5, 'c2': 0.3, 'w': 0.9}\n",
            "pyswarms.single.global_best: 100%|██████████|1/1, best_cost=6.4e+7\n",
            "2023-10-03 15:32:28,421 - pyswarms.single.global_best - INFO - Optimization finished | best cost: 63983890.26191171, best pos: [4.51307341 3.10928737 2.66150346 3.57039203 5.59768147 1.22785776\n",
            " 2.67458301 5.10179411 2.527915   6.29494725 4.57214587 1.19170009\n",
            " 3.24884547 2.96269698 4.66421402 6.55964978 1.39370432 3.68194775\n",
            " 2.72735389 4.56173662 1.8001938  4.70181337 4.49906926 2.62515134]\n"
          ]
        },
        {
          "output_type": "stream",
          "name": "stdout",
          "text": [
            "\n",
            "=========================================================================\n",
            "\n",
            "Número de ciclos de manutenção: 8 5\n",
            "Tempos para manutenções preventivas: [0, 32, 103, 135, 213, 373, 461, 491, 624]\n",
            "Severidade para cada subsistema: [0.5, 0.5, 0.75, 0.75, 0.5, 0.75, 0.25, 0.25]\n",
            "Número de Sisemas: 5\n",
            "Fator:  [0.05155784880398928, 0.12395358396783229, 0.12395358396783229, 0.18004375890582325, 0.18004375890582325, 0.12395358396783229, 0.18004375890582325, 0.06402648753708429, 0.06402648753708429]\n",
            "Media de falhas:  [0, 1.4861316869926902e-06, 0.14987237776858758, 1.0776021811073415, 111.08134644128977, 22995.821888477712, 130377.79543429126, 287332.19614241534, 2662060.1709983596, 611047.1083463882]\n",
            "Custo =  439642906.94830614\n"
          ]
        },
        {
          "output_type": "stream",
          "name": "stderr",
          "text": [
            "2023-10-03 15:32:28,422 - pyswarms.single.global_best - INFO - Optimize for 1 iters with {'c1': 0.5, 'c2': 0.3, 'w': 0.9}\n",
            "pyswarms.single.global_best: 100%|██████████|1/1, best_cost=6.4e+7\n",
            "2023-10-03 15:32:28,435 - pyswarms.single.global_best - INFO - Optimization finished | best cost: 63983890.26191171, best pos: [4.51284508 3.10923663 2.66157943 3.57037866 5.59804656 1.2281292\n",
            " 2.67455703 5.10174656 2.52790183 6.29494743 4.57248231 1.19171215\n",
            " 3.24878836 2.96280065 4.66401104 6.55965396 1.39357759 3.6900519\n",
            " 4.19147107 4.561739   1.8002827  4.69940548 4.49906923 2.62558485]\n",
            "2023-10-03 15:32:28,437 - pyswarms.single.global_best - INFO - Optimize for 1 iters with {'c1': 0.5, 'c2': 0.3, 'w': 0.9}\n"
          ]
        },
        {
          "output_type": "stream",
          "name": "stdout",
          "text": [
            "\n",
            "=========================================================================\n",
            "\n",
            "Número de ciclos de manutenção: 11 5\n",
            "Tempos para manutenções preventivas: [0, 32, 103, 135, 167, 213, 275, 368, 464, 491, 511, 624]\n",
            "Severidade para cada subsistema: [0.5, 0.5, 0.75, 0.25, 0.75, 0.5, 0.5, 0.5, 0.25, 0.5, 0.25]\n",
            "Número de Sisemas: 5\n",
            "Fator:  [0.05155784880398928, 0.12395358396783229, 0.12395358396783229, 0.18004375890582325, 0.06402648753708429, 0.18004375890582325, 0.12395358396783229, 0.12395358396783229, 0.12395358396783229, 0.06402648753708429, 0.12395358396783229, 0.06402648753708429]\n",
            "Media de falhas:  [0, 1.4861316869926902e-06, 0.14987237776858758, 1.0776021811073415, 8.050965328736977, 59.82266666302746, 1868.4641948579647, 15400.091421427931, 213143.7898422458, 357433.92422748933, 519354.07110493653, 6478114.14856379, 5360637.067042675]\n",
            "Custo =  459880834.19641614\n"
          ]
        },
        {
          "output_type": "stream",
          "name": "stderr",
          "text": [
            "pyswarms.single.global_best: 100%|██████████|1/1, best_cost=6.4e+7"
          ]
        },
        {
          "output_type": "stream",
          "name": "stdout",
          "text": [
            "\n",
            "=========================================================================\n",
            "\n",
            "Número de ciclos de manutenção: 9 5\n",
            "Tempos para manutenções preventivas: [0, 32, 103, 135, 213, 364, 478, 491, 520, 624]\n",
            "Severidade para cada subsistema: [0.5, 0.5, 0.75, 0.75, 0.5, 0.25, 0.25, 0.5, 0.25]\n",
            "Número de Sisemas: 5\n",
            "Fator:  [0.05155784880398928, 0.12395358396783229, 0.12395358396783229, 0.18004375890582325, 0.18004375890582325, 0.12395358396783229, 0.06402648753708429, 0.06402648753708429, 0.12395358396783229, 0.06402648753708429]\n",
            "Media de falhas:  [0, 1.4861316869926902e-06, 0.14987237776858758, 1.0776021811073415, 111.08134644128977, 17529.815485318853, 195402.97236568548, 272375.16264410736, 732481.3602452708, 6470560.485124208, 5353083.403603092]\n",
            "Custo =  500797540.21279436\n"
          ]
        },
        {
          "output_type": "stream",
          "name": "stderr",
          "text": [
            "\n",
            "2023-10-03 15:32:28,458 - pyswarms.single.global_best - INFO - Optimization finished | best cost: 63983890.26191171, best pos: [4.51272309 3.10919182 2.6616875  3.57044458 5.59838264 1.22847649\n",
            " 2.67453511 5.10171986 2.52790312 6.29494755 4.57276337 1.19171786\n",
            " 3.24874571 2.9627425  4.66384621 6.55966117 1.39352189 3.68200202\n",
            " 5.53090794 4.56174103 1.80037066 4.68535053 4.49907352 2.62594659]\n",
            "2023-10-03 15:32:28,460 - pyswarms.single.global_best - INFO - Optimize for 1 iters with {'c1': 0.5, 'c2': 0.3, 'w': 0.9}\n",
            "pyswarms.single.global_best:   0%|          |0/1, best_cost=6.4e+7"
          ]
        },
        {
          "output_type": "stream",
          "name": "stdout",
          "text": [
            "\n",
            "=========================================================================\n",
            "\n",
            "Número de ciclos de manutenção: 9 5\n",
            "Tempos para manutenções preventivas: [0, 32, 104, 136, 213, 275, 360, 491, 530, 624]\n",
            "Severidade para cada subsistema: [0.5, 0.5, 0.75, 0.75, 0.5, 0.5, 0.25, 0.5, 0.25]\n",
            "Número de Sisemas: 5\n",
            "Fator:  [0.05155784880398928, 0.12395358396783229, 0.12395358396783229, 0.18004375890582325, 0.18004375890582325, 0.12395358396783229, 0.12395358396783229, 0.06402648753708429, 0.12395358396783229, 0.06402648753708429]\n",
            "Media de falhas:  [0, 1.4861316869926902e-06, 0.16532406098295235, 1.16040108139074, 110.41374079952381, 794.189651310398, 11188.565576201663, 406395.7468083382, 795245.0510153132, 6258017.305502415, 5140540.2239812985]\n",
            "Custo =  471193898.32092\n"
          ]
        },
        {
          "output_type": "stream",
          "name": "stderr",
          "text": [
            "\rpyswarms.single.global_best: 100%|██████████|1/1, best_cost=6.4e+7\n",
            "2023-10-03 15:32:28,480 - pyswarms.single.global_best - INFO - Optimization finished | best cost: 63983890.26191171, best pos: [4.51265337 3.1091609  2.66179472 3.57054541 5.59870464 1.22879658\n",
            " 2.67453716 5.10172749 2.52790429 6.29494738 4.57279038 1.19171323\n",
            " 3.24871595 2.96261444 4.66374674 6.55966842 1.39363407 3.67386553\n",
            " 6.66920564 4.56174208 1.80044638 4.66429376 4.49907907 2.62573244]\n",
            "2023-10-03 15:32:28,481 - pyswarms.single.global_best - INFO - Optimize for 1 iters with {'c1': 0.5, 'c2': 0.3, 'w': 0.9}\n",
            "pyswarms.single.global_best:   0%|          |0/1, best_cost=6.4e+7"
          ]
        },
        {
          "output_type": "stream",
          "name": "stdout",
          "text": [
            "\n",
            "=========================================================================\n",
            "\n",
            "Número de ciclos de manutenção: 7 5\n",
            "Tempos para manutenções preventivas: [0, 32, 105, 137, 213, 491, 538, 624]\n",
            "Severidade para cada subsistema: [0.5, 0.5, 0.75, 0.75, 0.25, 0.5, 0.25]\n",
            "Número de Sisemas: 5\n",
            "Fator:  [0.05155784880398928, 0.12395358396783229, 0.12395358396783229, 0.18004375890582325, 0.18004375890582325, 0.06402648753708429, 0.12395358396783229, 0.06402648753708429]\n",
            "Media de falhas:  [0, 1.4861316869926902e-06, 0.18219489533508162, 1.2489548888266246, 109.75217111936603, 469004.5822104856, 761893.265074006, 5978177.232390725, 4860700.15086961]\n",
            "Custo =  460544022.75074697\n"
          ]
        },
        {
          "output_type": "stream",
          "name": "stderr",
          "text": [
            "\rpyswarms.single.global_best: 100%|██████████|1/1, best_cost=6.4e+7\n",
            "2023-10-03 15:32:28,495 - pyswarms.single.global_best - INFO - Optimization finished | best cost: 63983890.26191171, best pos: [4.51266974 3.10917914 2.66189143 3.57067963 5.59892165 1.22901254\n",
            " 2.67455606 5.10174372 2.52791572 6.29494716 4.57253929 1.19169515\n",
            " 3.24870825 2.96236923 4.66376481 6.5596751  1.3938504  3.6619245\n",
            " 0.26703845 4.561742   1.80050819 4.61121    4.49908844 2.62525493]\n",
            "2023-10-03 15:32:28,497 - pyswarms.single.global_best - INFO - Optimize for 1 iters with {'c1': 0.5, 'c2': 0.3, 'w': 0.9}\n",
            "pyswarms.single.global_best:   0%|          |0/1, best_cost=6.4e+7"
          ]
        },
        {
          "output_type": "stream",
          "name": "stdout",
          "text": [
            "\n",
            "=========================================================================\n",
            "\n",
            "Número de ciclos de manutenção: 8 5\n",
            "Tempos para manutenções preventivas: [0, 33, 107, 138, 159, 212, 391, 491, 623]\n",
            "Severidade para cada subsistema: [0.5, 0.5, 0.75, 0.5, 0.75, 0.5, 0.25, 0.25]\n",
            "Número de Sisemas: 5\n",
            "Fator:  [0.05155784880398928, 0.12395358396783229, 0.12395358396783229, 0.18004375890582325, 0.12395358396783229, 0.18004375890582325, 0.12395358396783229, 0.06402648753708429, 0.06402648753708429]\n",
            "Media de falhas:  [0, 2.021224976483433e-06, 0.21958415655883318, 1.3445481656769585, 4.798864079985239, 59.07899472243198, 54154.33164918279, 264333.73298584437, 4069008.9150609164, 2117709.1815414983]\n",
            "Custo =  464271532.6456702\n"
          ]
        },
        {
          "output_type": "stream",
          "name": "stderr",
          "text": [
            "\rpyswarms.single.global_best: 100%|██████████|1/1, best_cost=6.4e+7\n",
            "2023-10-03 15:32:28,515 - pyswarms.single.global_best - INFO - Optimization finished | best cost: 63983890.26191171, best pos: [4.512881   3.10921661 2.66195058 3.57080379 5.5990592  1.22917196\n",
            " 2.67458588 5.10178441 2.52793097 6.29494667 4.57219129 1.19166915\n",
            " 3.24875321 2.96203849 4.6639181  6.55968071 1.39410138 3.64545519\n",
            " 1.89641992 4.56174136 1.80056313 4.544834   4.49909733 2.62456018]\n",
            "2023-10-03 15:32:28,516 - pyswarms.single.global_best - INFO - Optimize for 1 iters with {'c1': 0.5, 'c2': 0.3, 'w': 0.9}\n",
            "pyswarms.single.global_best:   0%|          |0/1, best_cost=6.4e+7"
          ]
        },
        {
          "output_type": "stream",
          "name": "stdout",
          "text": [
            "\n",
            "=========================================================================\n",
            "\n",
            "Número de ciclos de manutenção: 8 5\n",
            "Tempos para manutenções preventivas: [0, 33, 109, 138, 212, 343, 393, 492, 623]\n",
            "Severidade para cada subsistema: [0.5, 0.5, 0.75, 0.75, 0.25, 0.5, 0.25, 0.25]\n",
            "Número de Sisemas: 5\n",
            "Fator:  [0.05155784880398928, 0.12395358396783229, 0.12395358396783229, 0.18004375890582325, 0.18004375890582325, 0.06402648753708429, 0.12395358396783229, 0.06402648753708429, 0.06402648753708429]\n",
            "Media de falhas:  [0, 2.021224976483433e-06, 0.26501168095762256, 1.352516040768141, 103.68941931003135, 9088.980470132938, 25748.332135026565, 605122.6532166462, 4395016.474122269, 2443716.740602851]\n",
            "Custo =  480101085.0199866\n"
          ]
        },
        {
          "output_type": "stream",
          "name": "stderr",
          "text": [
            "\rpyswarms.single.global_best: 100%|██████████|1/1, best_cost=6.4e+7\n",
            "2023-10-03 15:32:28,532 - pyswarms.single.global_best - INFO - Optimization finished | best cost: 63983890.26191171, best pos: [4.5131051  3.10927419 2.66196669 3.57090224 5.59912323 1.22917894\n",
            " 2.67462058 5.10184538 2.52794648 6.29494616 4.57170913 1.19164555\n",
            " 3.24880519 2.96170232 4.66410616 6.55968421 1.39432477 3.62881708\n",
            " 3.86242161 4.56174009 1.80055883 4.4731987  4.49910517 2.6239235 ]\n",
            "2023-10-03 15:32:28,533 - pyswarms.single.global_best - INFO - Optimize for 1 iters with {'c1': 0.5, 'c2': 0.3, 'w': 0.9}\n",
            "pyswarms.single.global_best: 100%|██████████|1/1, best_cost=6.4e+7\n",
            "2023-10-03 15:32:28,544 - pyswarms.single.global_best - INFO - Optimization finished | best cost: 63983890.26191171, best pos: [4.51337016 3.1093327  2.66198119 3.57098088 5.59912129 1.22918275\n",
            " 2.67465303 5.10190444 2.52796056 6.29494569 4.57122325 1.19162014\n",
            " 3.2488789  2.96140877 4.66429505 6.55968319 1.39452204 3.61355736\n",
            " 5.70556602 4.56173875 1.80055363 4.40986825 4.49911031 2.62332814]\n",
            "2023-10-03 15:32:28,546 - pyswarms.single.global_best - INFO - Optimize for 1 iters with {'c1': 0.5, 'c2': 0.3, 'w': 0.9}\n"
          ]
        },
        {
          "output_type": "stream",
          "name": "stdout",
          "text": [
            "\n",
            "=========================================================================\n",
            "\n",
            "Número de ciclos de manutenção: 10 5\n",
            "Tempos para manutenções preventivas: [0, 33, 109, 139, 179, 212, 344, 361, 394, 492, 623]\n",
            "Severidade para cada subsistema: [0.5, 0.5, 0.75, 0.25, 0.75, 0.75, 0.5, 0.5, 0.25, 0.25]\n",
            "Número de Sisemas: 5\n",
            "Fator:  [0.05155784880398928, 0.12395358396783229, 0.12395358396783229, 0.18004375890582325, 0.06402648753708429, 0.18004375890582325, 0.18004375890582325, 0.12395358396783229, 0.12395358396783229, 0.06402648753708429, 0.06402648753708429]\n",
            "Media de falhas:  [0, 2.021224976483433e-06, 0.26501168095762256, 1.4499206295638556, 16.55198888447589, 56.52921931248755, 20119.670573320833, 23419.334096736806, 36030.86541796776, 384265.7482669899, 4174159.569172613, 2222859.8356531947]\n",
            "Custo =  472213040.15513587\n"
          ]
        },
        {
          "output_type": "stream",
          "name": "stderr",
          "text": [
            "pyswarms.single.global_best:   0%|          |0/1, best_cost=6.4e+7"
          ]
        },
        {
          "output_type": "stream",
          "name": "stdout",
          "text": [
            "\n",
            "=========================================================================\n",
            "\n",
            "Número de ciclos de manutenção: 10 5\n",
            "Tempos para manutenções preventivas: [0, 33, 110, 140, 212, 294, 359, 365, 394, 492, 623]\n",
            "Severidade para cada subsistema: [0.5, 0.5, 0.75, 0.75, 0.75, 0.25, 0.5, 0.5, 0.25, 0.25]\n",
            "Número de Sisemas: 5\n",
            "Fator:  [0.05155784880398928, 0.12395358396783229, 0.12395358396783229, 0.18004375890582325, 0.18004375890582325, 0.18004375890582325, 0.06402648753708429, 0.12395358396783229, 0.12395358396783229, 0.06402648753708429, 0.06402648753708429]\n",
            "Media de falhas:  [0, 2.021224976483433e-06, 0.2907555228466694, 1.5590295813590371, 102.45635402604081, 1634.597216041303, 10161.042943244687, 11582.099556516645, 47006.26895557354, 395241.15180459566, 4185134.9727102187, 2233835.2391908006]\n",
            "Custo =  475732459.0183332\n"
          ]
        },
        {
          "output_type": "stream",
          "name": "stderr",
          "text": [
            "\rpyswarms.single.global_best: 100%|██████████|1/1, best_cost=6.4e+7\n",
            "2023-10-03 15:32:28,562 - pyswarms.single.global_best - INFO - Optimization finished | best cost: 63983890.26191171, best pos: [4.51360817 3.10938593 2.66196948 3.57104788 5.59907962 1.22912493\n",
            " 2.67468124 5.10195679 2.52797656 6.29494527 4.57079701 1.19159797\n",
            " 3.248951   2.96115009 4.66446124 6.55968102 1.39466559 3.6024145\n",
            " 0.22741812 4.56173745 1.8005434  4.37191351 4.49911202 2.62293536]\n",
            "2023-10-03 15:32:28,563 - pyswarms.single.global_best - INFO - Optimize for 1 iters with {'c1': 0.5, 'c2': 0.3, 'w': 0.9}\n",
            "pyswarms.single.global_best:   0%|          |0/1, best_cost=6.4e+7"
          ]
        },
        {
          "output_type": "stream",
          "name": "stdout",
          "text": [
            "\n",
            "=========================================================================\n",
            "\n",
            "Número de ciclos de manutenção: 10 5\n",
            "Tempos para manutenções preventivas: [0, 33, 109, 140, 212, 292, 348, 369, 394, 492, 623]\n",
            "Severidade para cada subsistema: [0.5, 0.5, 0.75, 0.75, 0.25, 0.75, 0.5, 0.5, 0.25, 0.25]\n",
            "Número de Sisemas: 5\n",
            "Fator:  [0.05155784880398928, 0.12395358396783229, 0.12395358396783229, 0.18004375890582325, 0.18004375890582325, 0.06402648753708429, 0.18004375890582325, 0.12395358396783229, 0.12395358396783229, 0.06402648753708429, 0.06402648753708429]\n",
            "Media de falhas:  [0, 2.021224976483433e-06, 0.26501168095762256, 1.5545622132997803, 102.45188665798155, 1516.5280238581513, 7303.034711098515, 22469.219299794357, 32604.73050214453, 380839.61335116666, 4170733.4342567897, 2219433.7007373716]\n",
            "Custo =  474293649.2188357\n"
          ]
        },
        {
          "output_type": "stream",
          "name": "stderr",
          "text": [
            "\rpyswarms.single.global_best: 100%|██████████|1/1, best_cost=6.4e+7\n",
            "2023-10-03 15:32:28,574 - pyswarms.single.global_best - INFO - Optimization finished | best cost: 63983890.26191171, best pos: [4.51376126 3.10942973 2.66192334 3.57109615 5.59888509 1.22898345\n",
            " 2.67470332 5.1020005  2.52799194 6.29494512 4.57047378 1.19158701\n",
            " 3.24901197 2.96092935 4.66458765 6.55967601 1.39474788 3.59865295\n",
            " 2.13213879 4.56173648 1.80049009 4.34831698 4.49911341 2.62266716]\n",
            "2023-10-03 15:32:28,576 - pyswarms.single.global_best - INFO - Optimize for 1 iters with {'c1': 0.5, 'c2': 0.3, 'w': 0.9}\n",
            "pyswarms.single.global_best: 100%|██████████|1/1, best_cost=6.4e+7\n",
            "2023-10-03 15:32:28,588 - pyswarms.single.global_best - INFO - Optimization finished | best cost: 63983890.26191171, best pos: [4.51387799 3.10944879 2.66184888 3.57102854 5.5986022  1.22876517\n",
            " 2.67472215 5.10201414 2.52800253 6.29494519 4.5703896  1.19157782\n",
            " 3.24905837 2.96092543 4.66468742 6.55967072 1.39465165 3.59695133\n",
            " 4.63114668 4.56173613 1.8004255  4.34369825 4.4991125  2.62261741]\n"
          ]
        },
        {
          "output_type": "stream",
          "name": "stdout",
          "text": [
            "\n",
            "=========================================================================\n",
            "\n",
            "Número de ciclos de manutenção: 11 5\n",
            "Tempos para manutenções preventivas: [0, 33, 108, 140, 151, 212, 372, 393, 451, 492, 536, 623]\n",
            "Severidade para cada subsistema: [0.5, 0.5, 0.75, 0.5, 0.75, 0.5, 0.5, 0.75, 0.25, 0.5, 0.25]\n",
            "Número de Sisemas: 5\n",
            "Fator:  [0.05155784880398928, 0.12395358396783229, 0.12395358396783229, 0.18004375890582325, 0.12395358396783229, 0.18004375890582325, 0.12395358396783229, 0.12395358396783229, 0.18004375890582325, 0.06402648753708429, 0.12395358396783229, 0.06402648753708429]\n",
            "Media de falhas:  [0, 2.021224976483433e-06, 0.2413376437430784, 1.5516576792713825, 2.922075514726256, 62.51608041535762, 31728.33097234105, 40306.97501007556, 154128.77577048726, 356810.6886801992, 625932.087258003, 5795354.656667182, 4731708.273729054]\n",
            "Custo =  477177650.35172373\n"
          ]
        },
        {
          "output_type": "stream",
          "name": "stderr",
          "text": [
            "2023-10-03 15:32:28,590 - pyswarms.single.global_best - INFO - Optimize for 1 iters with {'c1': 0.5, 'c2': 0.3, 'w': 0.9}\n",
            "pyswarms.single.global_best: 100%|██████████|1/1, best_cost=6.4e+7\n",
            "2023-10-03 15:32:28,601 - pyswarms.single.global_best - INFO - Optimization finished | best cost: 63983890.26191171, best pos: [4.51391204 3.10945456 2.66177928 3.57096613 5.59833039 1.22854944\n",
            " 2.67471515 5.10199766 2.52800873 6.29494532 4.5705071  1.19157821\n",
            " 3.24906542 2.96099118 4.66470799 6.55966595 1.39453926 3.5963727\n",
            " 6.89406288 4.56173624 1.80033554 4.34645468 4.49911156 2.62286017]\n"
          ]
        },
        {
          "output_type": "stream",
          "name": "stdout",
          "text": [
            "\n",
            "=========================================================================\n",
            "\n",
            "Número de ciclos de manutenção: 10 5\n",
            "Tempos para manutenções preventivas: [0, 33, 107, 140, 212, 374, 392, 457, 491, 529, 623]\n",
            "Severidade para cada subsistema: [0.5, 0.5, 0.75, 0.75, 0.5, 0.5, 0.5, 0.25, 0.5, 0.25]\n",
            "Número de Sisemas: 5\n",
            "Fator:  [0.05155784880398928, 0.12395358396783229, 0.12395358396783229, 0.18004375890582325, 0.18004375890582325, 0.12395358396783229, 0.12395358396783229, 0.12395358396783229, 0.06402648753708429, 0.12395358396783229, 0.06402648753708429]\n",
            "Media de falhas:  [0, 2.021224976483433e-06, 0.21958415655883318, 1.5502120731118354, 102.44753651779361, 23809.380749004456, 31166.065590552, 169264.90625014665, 342253.3218135144, 716955.5893951408, 6097208.328679033, 5033561.945740905]\n",
            "Custo =  484448283.39129215\n"
          ]
        },
        {
          "output_type": "stream",
          "name": "stderr",
          "text": [
            "2023-10-03 15:32:28,603 - pyswarms.single.global_best - INFO - Optimize for 1 iters with {'c1': 0.5, 'c2': 0.3, 'w': 0.9}\n",
            "pyswarms.single.global_best: 100%|██████████|1/1, best_cost=6.4e+7\n",
            "2023-10-03 15:32:28,615 - pyswarms.single.global_best - INFO - Optimization finished | best cost: 63983890.26191171, best pos: [4.51389531 3.10943448 2.66171912 3.57090062 5.59811816 1.22835465\n",
            " 2.6746971  5.10195725 2.52801338 6.29494548 4.57074349 1.19158971\n",
            " 3.24905967 2.96107569 4.66465918 6.55966215 1.39440945 3.59671165\n",
            " 1.47725256 4.56173646 1.80025082 4.38731946 4.49911019 2.62317269]\n",
            "2023-10-03 15:32:28,617 - pyswarms.single.global_best - INFO - Optimize for 1 iters with {'c1': 0.5, 'c2': 0.3, 'w': 0.9}\n"
          ]
        },
        {
          "output_type": "stream",
          "name": "stdout",
          "text": [
            "\n",
            "=========================================================================\n",
            "\n",
            "Número de ciclos de manutenção: 12 5\n",
            "Tempos para manutenções preventivas: [0, 33, 106, 140, 170, 212, 278, 375, 390, 451, 491, 523, 624]\n",
            "Severidade para cada subsistema: [0.5, 0.5, 0.75, 0.25, 0.75, 0.5, 0.5, 0.5, 0.25, 0.25, 0.5, 0.25]\n",
            "Número de Sisemas: 5\n",
            "Fator:  [0.05155784880398928, 0.12395358396783229, 0.12395358396783229, 0.18004375890582325, 0.06402648753708429, 0.18004375890582325, 0.12395358396783229, 0.12395358396783229, 0.12395358396783229, 0.06402648753708429, 0.06402648753708429, 0.12395358396783229, 0.06402648753708429]\n",
            "Media de falhas:  [0, 2.021224976483433e-06, 0.1996114676356969, 1.5501282130346312, 9.521444027891778, 56.262210391385835, 2110.2713682832027, 18696.745199938217, 29410.44547640547, 146814.3689437502, 342166.66834624764, 865723.089845622, 6524748.647074273, 5407271.565553157]\n",
            "Custo =  506716933.56825376\n"
          ]
        },
        {
          "output_type": "stream",
          "name": "stderr",
          "text": [
            "pyswarms.single.global_best: 100%|██████████|1/1, best_cost=6.4e+7\n",
            "2023-10-03 15:32:28,629 - pyswarms.single.global_best - INFO - Optimization finished | best cost: 63983890.26191171, best pos: [4.51382954 3.10939857 2.66168563 3.57078774 5.59795472 1.22819104\n",
            " 2.67467919 5.10190347 2.52801587 6.29494579 4.57116531 1.19161001\n",
            " 3.24903612 2.96115539 4.66450062 6.55965916 1.3942168  3.59913275\n",
            " 3.689313   4.56173712 1.80019033 4.44815483 4.4991088  2.62358113]\n",
            "2023-10-03 15:32:28,631 - pyswarms.single.global_best - INFO - Optimize for 1 iters with {'c1': 0.5, 'c2': 0.3, 'w': 0.9}\n"
          ]
        },
        {
          "output_type": "stream",
          "name": "stdout",
          "text": [
            "\n",
            "=========================================================================\n",
            "\n",
            "Número de ciclos de manutenção: 9 5\n",
            "Tempos para manutenções preventivas: [0, 33, 105, 139, 213, 375, 464, 491, 518, 624]\n",
            "Severidade para cada subsistema: [0.5, 0.5, 0.75, 0.75, 0.5, 0.75, 0.25, 0.5, 0.25]\n",
            "Número de Sisemas: 5\n",
            "Fator:  [0.05155784880398928, 0.12395358396783229, 0.12395358396783229, 0.18004375890582325, 0.18004375890582325, 0.12395358396783229, 0.18004375890582325, 0.06402648753708429, 0.12395358396783229, 0.06402648753708429]\n",
            "Media de falhas:  [0, 2.021224976483433e-06, 0.18128880474785852, 1.4429113497395034, 108.44574784294421, 24399.465540555644, 139327.38758387024, 283617.52196911373, 416362.4937579534, 6205561.821002867, 5088084.739481751]\n",
            "Custo =  451520799.89601356\n"
          ]
        },
        {
          "output_type": "stream",
          "name": "stderr",
          "text": [
            "pyswarms.single.global_best: 100%|██████████|1/1, best_cost=6.4e+7\n",
            "2023-10-03 15:32:28,646 - pyswarms.single.global_best - INFO - Optimization finished | best cost: 63983890.26191171, best pos: [4.51368706 3.10935521 2.66167686 3.57068428 5.59794438 1.22812466\n",
            " 2.67466282 5.10185235 2.52801572 6.29494608 4.57161067 1.19162883\n",
            " 3.24901417 2.96129597 4.66431391 6.55965934 1.39401383 3.60437341\n",
            " 5.86680364 4.56173778 1.80014832 4.51245749 4.49910608 2.62397868]\n",
            "2023-10-03 15:32:28,649 - pyswarms.single.global_best - INFO - Optimize for 1 iters with {'c1': 0.5, 'c2': 0.3, 'w': 0.9}\n"
          ]
        },
        {
          "output_type": "stream",
          "name": "stdout",
          "text": [
            "\n",
            "=========================================================================\n",
            "\n",
            "Número de ciclos de manutenção: 9 5\n",
            "Tempos para manutenções preventivas: [0, 33, 104, 138, 150, 213, 376, 491, 513, 624]\n",
            "Severidade para cada subsistema: [0.5, 0.5, 0.75, 0.25, 0.75, 0.5, 0.25, 0.5, 0.25]\n",
            "Número de Sisemas: 5\n",
            "Fator:  [0.05155784880398928, 0.12395358396783229, 0.12395358396783229, 0.18004375890582325, 0.06402648753708429, 0.18004375890582325, 0.12395358396783229, 0.06402648753708429, 0.12395358396783229, 0.06402648753708429]\n",
            "Media de falhas:  [0, 2.021224976483433e-06, 0.16449387611783567, 1.3424899099183194, 2.7174999627378416, 66.36932102357125, 50694.52066717616, 280574.662031528, 462588.7110565754, 6374334.169081173, 5256857.087560058]\n",
            "Custo =  441619449.34537446\n"
          ]
        },
        {
          "output_type": "stream",
          "name": "stderr",
          "text": [
            "pyswarms.single.global_best: 100%|██████████|1/1, best_cost=6.4e+7\n",
            "2023-10-03 15:32:28,664 - pyswarms.single.global_best - INFO - Optimization finished | best cost: 63983890.26191171, best pos: [4.51350289 3.10931727 2.66167762 3.57059911 5.59804334 1.22811058\n",
            " 2.67464167 5.10181707 2.52801213 6.29494635 4.5719778  1.19164583\n",
            " 3.24897057 2.96146055 4.66414382 6.55966141 1.39384046 3.60914784\n",
            " 0.76384487 4.5617385  1.80011301 4.56486104 4.49910118 2.62430166]\n",
            "2023-10-03 15:32:28,666 - pyswarms.single.global_best - INFO - Optimize for 1 iters with {'c1': 0.5, 'c2': 0.3, 'w': 0.9}\n"
          ]
        },
        {
          "output_type": "stream",
          "name": "stdout",
          "text": [
            "\n",
            "=========================================================================\n",
            "\n",
            "Número de ciclos de manutenção: 10 5\n",
            "Tempos para manutenções preventivas: [0, 33, 104, 137, 213, 284, 357, 374, 491, 514, 624]\n",
            "Severidade para cada subsistema: [0.5, 0.5, 0.75, 0.75, 0.75, 0.75, 0.5, 0.25, 0.5, 0.25]\n",
            "Número de Sisemas: 5\n",
            "Fator:  [0.05155784880398928, 0.12395358396783229, 0.12395358396783229, 0.18004375890582325, 0.18004375890582325, 0.18004375890582325, 0.18004375890582325, 0.12395358396783229, 0.06402648753708429, 0.12395358396783229, 0.06402648753708429]\n",
            "Media de falhas:  [0, 2.021224976483433e-06, 0.16449387611783567, 1.2477180612049585, 109.75093429174436, 1118.270001730271, 9836.332407061662, 14395.523379799248, 246847.83940331556, 439212.8473427674, 6327030.739501867, 5209553.657980751]\n",
            "Custo =  443365036.5098698\n"
          ]
        },
        {
          "output_type": "stream",
          "name": "stderr",
          "text": [
            "pyswarms.single.global_best:   0%|          |0/1, best_cost=6.4e+7"
          ]
        },
        {
          "output_type": "stream",
          "name": "stdout",
          "text": [
            "\n",
            "=========================================================================\n",
            "\n",
            "Número de ciclos de manutenção: 11 5\n",
            "Tempos para manutenções preventivas: [0, 33, 104, 136, 213, 291, 354, 371, 462, 491, 518, 624]\n",
            "Severidade para cada subsistema: [0.5, 0.5, 0.75, 0.75, 0.25, 0.25, 0.5, 0.75, 0.25, 0.5, 0.25]\n",
            "Número de Sisemas: 5\n",
            "Fator:  [0.05155784880398928, 0.12395358396783229, 0.12395358396783229, 0.18004375890582325, 0.18004375890582325, 0.06402648753708429, 0.06402648753708429, 0.12395358396783229, 0.18004375890582325, 0.06402648753708429, 0.12395358396783229, 0.06402648753708429]\n",
            "Media de falhas:  [0, 2.021224976483433e-06, 0.16449387611783567, 1.1595708965256233, 110.41291061465868, 1457.0646078912152, 8786.407624335912, 22247.483509673657, 328516.39331369335, 481312.0478776481, 614057.0196664878, 6403256.346911402, 5285779.265390286]\n",
            "Custo =  462618907.2203419\n"
          ]
        },
        {
          "output_type": "stream",
          "name": "stderr",
          "text": [
            "\rpyswarms.single.global_best: 100%|██████████|1/1, best_cost=6.4e+7\n",
            "2023-10-03 15:32:28,684 - pyswarms.single.global_best - INFO - Optimization finished | best cost: 63983890.26191171, best pos: [4.5133063  3.10929274 2.66168976 3.57053426 5.59817948 1.22813502\n",
            " 2.67462234 5.10180562 2.52800812 6.29494656 4.57217628 1.19165899\n",
            " 3.24891226 2.96167777 4.66400124 6.55966383 1.39370863 3.61804612\n",
            " 2.92885935 4.56173913 1.80013742 4.59292376 4.499096   2.62454581]\n",
            "2023-10-03 15:32:28,686 - pyswarms.single.global_best - INFO - Optimize for 1 iters with {'c1': 0.5, 'c2': 0.3, 'w': 0.9}\n",
            "pyswarms.single.global_best:   0%|          |0/1, best_cost=6.4e+7"
          ]
        },
        {
          "output_type": "stream",
          "name": "stdout",
          "text": [
            "\n",
            "=========================================================================\n",
            "\n",
            "Número de ciclos de manutenção: 10 5\n",
            "Tempos para manutenções preventivas: [0, 32, 105, 136, 213, 294, 367, 454, 491, 524, 624]\n",
            "Severidade para cada subsistema: [0.5, 0.5, 0.75, 0.75, 0.75, 0.5, 0.5, 0.25, 0.5, 0.25]\n",
            "Número de Sisemas: 5\n",
            "Fator:  [0.05155784880398928, 0.12395358396783229, 0.12395358396783229, 0.18004375890582325, 0.18004375890582325, 0.18004375890582325, 0.12395358396783229, 0.12395358396783229, 0.06402648753708429, 0.12395358396783229, 0.06402648753708429]\n",
            "Media de falhas:  [0, 1.4861316869926902e-06, 0.18219489533508162, 1.161599503890822, 110.41493922202389, 1629.9985206050046, 12918.781081117455, 105303.5567310968, 289716.2666046187, 597631.0648769209, 6229652.411583221, 5112175.330062104]\n",
            "Custo =  473734625.07722884\n"
          ]
        },
        {
          "output_type": "stream",
          "name": "stderr",
          "text": [
            "\rpyswarms.single.global_best: 100%|██████████|1/1, best_cost=6.4e+7\n",
            "2023-10-03 15:32:28,698 - pyswarms.single.global_best - INFO - Optimization finished | best cost: 63983890.26191171, best pos: [4.51314322 3.10929085 2.6617232  3.57047644 5.59834895 1.2282101\n",
            " 2.67460512 5.10180966 2.52799755 6.29494669 4.57215373 1.19166217\n",
            " 3.24885951 2.96188281 4.66387365 6.5596665  1.39359723 3.6262486\n",
            " 5.35876616 4.56173966 1.80019258 4.58605923 4.49909143 2.6245987 ]\n",
            "2023-10-03 15:32:28,700 - pyswarms.single.global_best - INFO - Optimize for 1 iters with {'c1': 0.5, 'c2': 0.3, 'w': 0.9}\n",
            "pyswarms.single.global_best:   0%|          |0/1, best_cost=6.4e+7"
          ]
        },
        {
          "output_type": "stream",
          "name": "stdout",
          "text": [
            "\n",
            "=========================================================================\n",
            "\n",
            "Número de ciclos de manutenção: 11 5\n",
            "Tempos para manutenções preventivas: [0, 32, 106, 135, 157, 213, 330, 363, 459, 491, 529, 624]\n",
            "Severidade para cada subsistema: [0.5, 0.5, 0.75, 0.25, 0.75, 0.25, 0.5, 0.25, 0.25, 0.5, 0.25]\n",
            "Número de Sisemas: 5\n",
            "Fator:  [0.05155784880398928, 0.12395358396783229, 0.12395358396783229, 0.18004375890582325, 0.06402648753708429, 0.18004375890582325, 0.06402648753708429, 0.12395358396783229, 0.06402648753708429, 0.06402648753708429, 0.12395358396783229, 0.06402648753708429]\n",
            "Media de falhas:  [0, 1.4861316869926902e-06, 0.20059956935077627, 1.0835031918669429, 4.238600513997544, 63.04201873938856, 13003.762772902199, 18919.58006061957, 312907.0490249588, 477996.48202190106, 1139371.809129458, 6631239.241755018, 5513762.160233902]\n",
            "Custo =  521152371.96658033\n"
          ]
        },
        {
          "output_type": "stream",
          "name": "stderr",
          "text": [
            "\rpyswarms.single.global_best: 100%|██████████|1/1, best_cost=6.4e+7\n",
            "2023-10-03 15:32:28,713 - pyswarms.single.global_best - INFO - Optimization finished | best cost: 63983890.26191171, best pos: [4.51302832 3.10930999 2.66176946 3.57046232 5.59852743 1.22833019\n",
            " 2.67459053 5.1018181  2.52798538 6.29494681 4.57208076 1.19166115\n",
            " 3.2488249  2.9620338  4.66380835 6.55966908 1.39356136 3.63377295\n",
            " 0.43656777 4.56173985 1.80027179 4.57642792 4.49908883 2.62454755]\n",
            "2023-10-03 15:32:28,715 - pyswarms.single.global_best - INFO - Optimize for 1 iters with {'c1': 0.5, 'c2': 0.3, 'w': 0.9}\n",
            "pyswarms.single.global_best: 100%|██████████|1/1, best_cost=6.4e+7\n",
            "2023-10-03 15:32:28,727 - pyswarms.single.global_best - INFO - Optimization finished | best cost: 63983890.26191171, best pos: [4.5130101  3.10933779 2.6618118  3.57048134 5.59867034 1.22845312\n",
            " 2.67458831 5.10183754 2.52797309 6.29494672 4.57195387 1.19166007\n",
            " 3.24879498 2.96209355 4.66380342 6.55967151 1.393667   3.63910438\n",
            " 3.61511799 4.56173999 1.80035026 4.53988125 4.49908727 2.62436415]\n"
          ]
        },
        {
          "output_type": "stream",
          "name": "stdout",
          "text": [
            "\n",
            "=========================================================================\n",
            "\n",
            "Número de ciclos de manutenção: 9 5\n",
            "Tempos para manutenções preventivas: [0, 32, 106, 136, 157, 213, 361, 491, 534, 623]\n",
            "Severidade para cada subsistema: [0.5, 0.5, 0.75, 0.75, 0.75, 0.5, 0.25, 0.5, 0.25]\n",
            "Número de Sisemas: 5\n",
            "Fator:  [0.05155784880398928, 0.12395358396783229, 0.12395358396783229, 0.18004375890582325, 0.18004375890582325, 0.18004375890582325, 0.12395358396783229, 0.06402648753708429, 0.12395358396783229, 0.06402648753708429]\n",
            "Media de falhas:  [0, 1.4861316869926902e-06, 0.20059956935077627, 1.1639625284324513, 4.231488597208032, 63.03490682259905, 15939.870128898163, 264943.49145478004, 713166.5836264918, 5944752.496815766, 4881106.113877638]\n",
            "Custo =  469901720.86556154\n"
          ]
        },
        {
          "output_type": "stream",
          "name": "stderr",
          "text": [
            "2023-10-03 15:32:28,729 - pyswarms.single.global_best - INFO - Optimize for 1 iters with {'c1': 0.5, 'c2': 0.3, 'w': 0.9}\n",
            "pyswarms.single.global_best: 100%|██████████|1/1, best_cost=6.4e+7"
          ]
        },
        {
          "output_type": "stream",
          "name": "stdout",
          "text": [
            "\n",
            "=========================================================================\n",
            "\n",
            "Número de ciclos de manutenção: 8 5\n",
            "Tempos para manutenções preventivas: [0, 33, 107, 136, 161, 213, 491, 538, 623]\n",
            "Severidade para cada subsistema: [0.5, 0.5, 0.75, 0.25, 0.75, 0.25, 0.5, 0.25]\n",
            "Número de Sisemas: 5\n",
            "Fator:  [0.05155784880398928, 0.12395358396783229, 0.12395358396783229, 0.18004375890582325, 0.06402648753708429, 0.18004375890582325, 0.06402648753708429, 0.12395358396783229, 0.06402648753708429]\n",
            "Media de falhas:  [0, 2.021224976483433e-06, 0.21958415655883318, 1.1664989599949487, 5.475403589685863, 61.49729967987422, 797587.3244681212, 1090476.0073316416, 6196122.502111417, 5132476.119173289]\n",
            "Custo =  461655655.1964289\n"
          ]
        },
        {
          "output_type": "stream",
          "name": "stderr",
          "text": [
            "\n",
            "2023-10-03 15:32:28,744 - pyswarms.single.global_best - INFO - Optimization finished | best cost: 63983890.26191171, best pos: [4.51301403 3.10936851 2.66184946 3.57054791 5.59875734 1.22858008\n",
            " 2.67459214 5.10186778 2.52796347 6.2949466  4.57182274 1.19165634\n",
            " 3.24878227 2.96206131 4.66392492 6.55967369 1.39386753 3.64287774\n",
            " 6.66139766 4.56173973 1.80041333 4.49045682 4.49908634 2.62409113]\n",
            "2023-10-03 15:32:28,746 - pyswarms.single.global_best - INFO - Optimize for 1 iters with {'c1': 0.5, 'c2': 0.3, 'w': 0.9}\n",
            "pyswarms.single.global_best:   0%|          |0/1, best_cost=6.4e+7"
          ]
        },
        {
          "output_type": "stream",
          "name": "stdout",
          "text": [
            "\n",
            "=========================================================================\n",
            "\n",
            "Número de ciclos de manutenção: 10 5\n",
            "Tempos para manutenções preventivas: [0, 33, 108, 137, 213, 279, 356, 360, 390, 491, 623]\n",
            "Severidade para cada subsistema: [0.5, 0.5, 0.75, 0.75, 0.75, 0.5, 0.5, 0.5, 0.25, 0.25]\n",
            "Número de Sisemas: 5\n",
            "Fator:  [0.05155784880398928, 0.12395358396783229, 0.12395358396783229, 0.18004375890582325, 0.18004375890582325, 0.18004375890582325, 0.12395358396783229, 0.12395358396783229, 0.12395358396783229, 0.06402648753708429, 0.06402648753708429]\n",
            "Media de falhas:  [0, 2.021224976483433e-06, 0.2413376437430784, 1.2563758675406949, 109.75959209808009, 924.516637836379, 9711.65655051667, 10563.811637056644, 29309.37178198067, 376278.687758115, 4180953.869833187, 2229654.136313769]\n",
            "Custo =  472256363.80244166\n"
          ]
        },
        {
          "output_type": "stream",
          "name": "stderr",
          "text": [
            "\rpyswarms.single.global_best: 100%|██████████|1/1, best_cost=6.4e+7\n",
            "2023-10-03 15:32:28,768 - pyswarms.single.global_best - INFO - Optimization finished | best cost: 63983890.26191171, best pos: [4.51312068 3.10939571 2.66187732 3.57062335 5.59882537 1.22869397\n",
            " 2.67459963 5.1019003  2.52795877 6.29494639 4.57162019 1.19164748\n",
            " 3.24879829 2.96201392 4.66405177 6.5596749  1.39404848 3.64512316\n",
            " 1.95242608 4.56173947 1.80046116 4.44321824 4.49908812 2.62378258]\n",
            "2023-10-03 15:32:28,783 - pyswarms.single.global_best - INFO - Optimize for 1 iters with {'c1': 0.5, 'c2': 0.3, 'w': 0.9}\n",
            "pyswarms.single.global_best: 100%|██████████|1/1, best_cost=6.4e+7"
          ]
        },
        {
          "output_type": "stream",
          "name": "stdout",
          "text": [
            "\n",
            "=========================================================================\n",
            "\n",
            "Número de ciclos de manutenção: 10 5\n",
            "Tempos para manutenções preventivas: [0, 33, 108, 138, 163, 213, 274, 361, 391, 491, 623]\n",
            "Severidade para cada subsistema: [0.5, 0.5, 0.75, 0.25, 0.75, 0.25, 0.5, 0.5, 0.25, 0.25]\n",
            "Número de Sisemas: 5\n",
            "Fator:  [0.05155784880398928, 0.12395358396783229, 0.12395358396783229, 0.18004375890582325, 0.06402648753708429, 0.18004375890582325, 0.06402648753708429, 0.12395358396783229, 0.12395358396783229, 0.06402648753708429, 0.06402648753708429]\n",
            "Media de falhas:  [0, 2.021224976483433e-06, 0.2413376437430784, 1.347809772585439, 6.188024054849404, 60.8069193247252, 1796.6028546010916, 12625.569877872356, 46435.69993229018, 391625.60359340586, 4196300.785668478, 2245001.05214906]\n",
            "Custo =  473583341.62758374\n"
          ]
        },
        {
          "output_type": "stream",
          "name": "stderr",
          "text": [
            "\rpyswarms.single.global_best: 100%|██████████|1/1, best_cost=6.4e+7\n",
            "2023-10-03 15:32:29,196 - pyswarms.single.global_best - INFO - Optimization finished | best cost: 63983890.26191171, best pos: [4.51324528 3.10941826 2.66189422 3.57069418 5.5988035  1.22875009\n",
            " 2.67460715 5.10192804 2.5279591  6.29494616 4.57142788 1.19163906\n",
            " 3.24882339 2.96189251 4.66422236 6.55967566 1.39421526 3.64400732\n",
            " 4.45973458 4.56173912 1.80048819 4.40276757 4.49909179 2.62351249]\n",
            "2023-10-03 15:32:29,204 - pyswarms.single.global_best - INFO - Optimize for 1 iters with {'c1': 0.5, 'c2': 0.3, 'w': 0.9}\n",
            "pyswarms.single.global_best: 100%|██████████|1/1, best_cost=6.4e+7\n",
            "2023-10-03 15:32:29,348 - pyswarms.single.global_best - INFO - Optimization finished | best cost: 63983890.26191171, best pos: [4.5133659  3.10942431 2.66189577 3.57075857 5.59877417 1.22879224\n",
            " 2.67461444 5.1019427  2.52796336 6.29494594 4.57125834 1.19162959\n",
            " 3.24886185 2.9617565  4.66438311 6.55967572 1.39433104 3.64289418\n",
            " 6.73241876 4.56173856 1.80047209 4.38344196 4.49909573 2.62327139]\n",
            "2023-10-03 15:32:29,382 - pyswarms.single.global_best - INFO - Optimize for 1 iters with {'c1': 0.5, 'c2': 0.3, 'w': 0.9}\n"
          ]
        },
        {
          "output_type": "stream",
          "name": "stdout",
          "text": [
            "\n",
            "=========================================================================\n",
            "\n",
            "Número de ciclos de manutenção: 11 5\n",
            "Tempos para manutenções preventivas: [0, 33, 109, 139, 159, 212, 355, 362, 393, 492, 539, 623]\n",
            "Severidade para cada subsistema: [0.5, 0.5, 0.75, 0.75, 0.75, 0.5, 0.5, 0.5, 0.25, 0.5, 0.25]\n",
            "Número de Sisemas: 5\n",
            "Fator:  [0.05155784880398928, 0.12395358396783229, 0.12395358396783229, 0.18004375890582325, 0.18004375890582325, 0.18004375890582325, 0.12395358396783229, 0.12395358396783229, 0.12395358396783229, 0.06402648753708429, 0.12395358396783229, 0.06402648753708429]\n",
            "Media de falhas:  [0, 2.021224976483433e-06, 0.26501168095762256, 1.4499206295638556, 4.801274890311786, 59.08140553275853, 13291.01683373423, 14815.340740954067, 35432.92612362266, 385512.7577074149, 906703.4386272515, 5979841.667529866, 4916195.284591738]\n",
            "Custo =  488969893.46870136\n"
          ]
        },
        {
          "output_type": "stream",
          "name": "stderr",
          "text": [
            "\rpyswarms.single.global_best:   0%|          |0/1"
          ]
        },
        {
          "output_type": "stream",
          "name": "stdout",
          "text": [
            "\n"
          ]
        },
        {
          "output_type": "stream",
          "name": "stderr",
          "text": [
            "pyswarms.single.global_best: 100%|██████████|1/1, best_cost=6.4e+7\n",
            "2023-10-03 15:32:29,625 - pyswarms.single.global_best - INFO - Optimization finished | best cost: 63983890.26191171, best pos: [4.5134745  3.10942579 2.66189454 3.57081472 5.59870165 1.228802\n",
            " 2.67462219 5.10195222 2.52796873 6.29494577 4.57114129 1.19162107\n",
            " 3.24890137 2.96163297 4.6645253  6.55967423 1.39436574 3.64036536\n",
            " 1.36903053 4.56173797 1.80044586 4.37176164 4.49909957 2.62305671]\n",
            "2023-10-03 15:32:29,630 - pyswarms.single.global_best - INFO - Optimize for 1 iters with {'c1': 0.5, 'c2': 0.3, 'w': 0.9}\n"
          ]
        },
        {
          "output_type": "stream",
          "name": "stdout",
          "text": [
            "=========================================================================\n",
            "\n",
            "Número de ciclos de manutenção: 10 5\n",
            "Tempos para manutenções preventivas: [0, 33, 109, 139, 212, 275, 364, 393, 491, 535, 623]\n",
            "Severidade para cada subsistema: [0.5, 0.5, 0.75, 0.75, 0.25, 0.5, 0.5, 0.25, 0.5, 0.25]\n",
            "Número de Sisemas: 5\n",
            "Fator:  [0.05155784880398928, 0.12395358396783229, 0.12395358396783229, 0.18004375890582325, 0.18004375890582325, 0.06402648753708429, 0.12395358396783229, 0.12395358396783229, 0.06402648753708429, 0.12395358396783229, 0.06402648753708429]\n",
            "Media de falhas:  [0, 2.021224976483433e-06, 0.26501168095762256, 1.4499206295638556, 103.0673511282985, 793.9078273163127, 12667.295251223102, 47266.451465372185, 388854.0709594433, 852641.0567938468, 6053343.838625567, 4989697.455687439]\n",
            "Custo =  482838901.3441043\n"
          ]
        },
        {
          "output_type": "stream",
          "name": "stderr",
          "text": [
            "pyswarms.single.global_best: 100%|██████████|1/1, best_cost=6.4e+7\n",
            "2023-10-03 15:32:29,878 - pyswarms.single.global_best - INFO - Optimization finished | best cost: 63983890.26191171, best pos: [4.51354218 3.10941333 2.66188185 3.5708383  5.59857433 1.22880071\n",
            " 2.67462931 5.10195767 2.52797483 6.29494564 4.5710487  1.19161479\n",
            " 3.24893761 2.96152678 4.66460621 6.55967187 1.39433642 3.63474519\n",
            " 3.36348529 4.56173749 1.80038501 4.37044141 4.49910277 2.62302895]\n",
            "2023-10-03 15:32:29,934 - pyswarms.single.global_best - INFO - Optimize for 1 iters with {'c1': 0.5, 'c2': 0.3, 'w': 0.9}\n"
          ]
        },
        {
          "output_type": "stream",
          "name": "stdout",
          "text": [
            "\n",
            "=========================================================================\n",
            "\n",
            "Número de ciclos de manutenção: 12 5\n",
            "Tempos para manutenções preventivas: [0, 33, 109, 139, 212, 281, 339, 366, 393, 451, 491, 530, 623]\n",
            "Severidade para cada subsistema: [0.5, 0.5, 0.75, 0.75, 0.75, 0.75, 0.5, 0.5, 0.5, 0.25, 0.5, 0.25]\n",
            "Número de Sisemas: 5\n",
            "Fator:  [0.05155784880398928, 0.12395358396783229, 0.12395358396783229, 0.18004375890582325, 0.18004375890582325, 0.18004375890582325, 0.18004375890582325, 0.12395358396783229, 0.12395358396783229, 0.12395358396783229, 0.06402648753708429, 0.12395358396783229, 0.06402648753708429]\n",
            "Media de falhas:  [0, 2.021224976483433e-06, 0.26501168095762256, 1.4499206295638556, 103.0673511282985, 999.5037458995456, 5634.649127853433, 11106.077514612014, 21639.314960328054, 135461.11572073976, 330813.4151232372, 719662.7193302123, 6070929.238086823, 5007282.855148695]\n",
            "Custo =  485160975.22664285\n"
          ]
        },
        {
          "output_type": "stream",
          "name": "stderr",
          "text": [
            "pyswarms.single.global_best: 100%|██████████|1/1, best_cost=6.4e+7\n",
            "2023-10-03 15:32:30,046 - pyswarms.single.global_best - INFO - Optimization finished | best cost: 63983890.26191171, best pos: [4.51359065 3.10938626 2.66184887 3.570851   5.59845434 1.22872988\n",
            " 2.67463533 5.10194389 2.52798036 6.29494554 4.57097157 1.19161111\n",
            " 3.24896594 2.96145972 4.6646504  6.55966949 1.39430351 3.62778012\n",
            " 5.54992685 4.56173728 1.80032632 4.37889374 4.49910544 2.62307223]\n",
            "2023-10-03 15:32:30,050 - pyswarms.single.global_best - INFO - Optimize for 1 iters with {'c1': 0.5, 'c2': 0.3, 'w': 0.9}\n"
          ]
        },
        {
          "output_type": "stream",
          "name": "stdout",
          "text": [
            "\n",
            "=========================================================================\n",
            "\n",
            "Número de ciclos de manutenção: 10 5\n",
            "Tempos para manutenções preventivas: [0, 33, 109, 139, 212, 368, 392, 465, 491, 525, 624]\n",
            "Severidade para cada subsistema: [0.5, 0.5, 0.75, 0.75, 0.5, 0.5, 0.25, 0.25, 0.5, 0.25]\n",
            "Número de Sisemas: 5\n",
            "Fator:  [0.05155784880398928, 0.12395358396783229, 0.12395358396783229, 0.18004375890582325, 0.18004375890582325, 0.12395358396783229, 0.12395358396783229, 0.06402648753708429, 0.06402648753708429, 0.12395358396783229, 0.06402648753708429]\n",
            "Media de falhas:  [0, 2.021224976483433e-06, 0.26501168095762256, 1.4499206295638556, 103.0673511282985, 19896.055282104142, 29253.271646502857, 203244.3881041999, 343185.4704761023, 911020.0797335083, 6515702.110472252, 5398225.028951136]\n",
            "Custo =  512639086.20370066\n"
          ]
        },
        {
          "output_type": "stream",
          "name": "stderr",
          "text": [
            "pyswarms.single.global_best: 100%|██████████|1/1, best_cost=6.4e+7\n",
            "2023-10-03 15:32:30,075 - pyswarms.single.global_best - INFO - Optimization finished | best cost: 63983890.26191171, best pos: [4.51362737 3.10935638 2.66181355 3.570838   5.59834626 1.22866024\n",
            " 2.6746405  5.10192519 2.52798548 6.29494548 4.57103319 1.19160956\n",
            " 3.24897445 2.96144024 4.66462399 6.55966748 1.39420786 3.62138838\n",
            " 0.46775859 4.56173733 1.8002706  4.40399034 4.49910659 2.62317777]\n",
            "2023-10-03 15:32:30,078 - pyswarms.single.global_best - INFO - Optimize for 1 iters with {'c1': 0.5, 'c2': 0.3, 'w': 0.9}\n"
          ]
        },
        {
          "output_type": "stream",
          "name": "stdout",
          "text": [
            "\n",
            "=========================================================================\n",
            "\n",
            "Número de ciclos de manutenção: 10 5\n",
            "Tempos para manutenções preventivas: [0, 33, 108, 139, 156, 212, 369, 392, 491, 521, 624]\n",
            "Severidade para cada subsistema: [0.5, 0.5, 0.75, 0.75, 0.75, 0.5, 0.5, 0.25, 0.5, 0.25]\n",
            "Número de Sisemas: 5\n",
            "Fator:  [0.05155784880398928, 0.12395358396783229, 0.12395358396783229, 0.18004375890582325, 0.18004375890582325, 0.18004375890582325, 0.12395358396783229, 0.12395358396783229, 0.06402648753708429, 0.12395358396783229, 0.06402648753708429]\n",
            "Media de falhas:  [0, 2.021224976483433e-06, 0.2413376437430784, 1.4460865599252957, 3.971875066532817, 60.248370138366184, 20462.216189154897, 29499.043478161126, 372895.16721232655, 643737.4097602926, 6355786.767757212, 5238309.686236097]\n",
            "Custo =  460158200.34370613\n"
          ]
        },
        {
          "output_type": "stream",
          "name": "stderr",
          "text": [
            "pyswarms.single.global_best: 100%|██████████|1/1, best_cost=6.4e+7\n",
            "2023-10-03 15:32:30,105 - pyswarms.single.global_best - INFO - Optimization finished | best cost: 63983890.26191171, best pos: [4.51365736 3.10933036 2.66177816 3.57081857 5.59825275 1.2285618\n",
            " 2.67464247 5.10190315 2.5279895  6.29494559 4.57110816 1.19161065\n",
            " 3.24898062 2.96150421 4.66457708 6.55966576 1.39410412 3.61641459\n",
            " 3.23214408 4.56173744 1.80022882 4.43156059 4.49910624 2.62343609]\n",
            "2023-10-03 15:32:30,110 - pyswarms.single.global_best - INFO - Optimize for 1 iters with {'c1': 0.5, 'c2': 0.3, 'w': 0.9}\n"
          ]
        },
        {
          "output_type": "stream",
          "name": "stdout",
          "text": [
            "\n",
            "=========================================================================\n",
            "\n",
            "Número de ciclos de manutenção: 10 5\n",
            "Tempos para manutenções preventivas: [0, 33, 108, 138, 213, 272, 370, 391, 491, 518, 624]\n",
            "Severidade para cada subsistema: [0.5, 0.5, 0.75, 0.75, 0.5, 0.5, 0.5, 0.25, 0.5, 0.25]\n",
            "Número de Sisemas: 5\n",
            "Fator:  [0.05155784880398928, 0.12395358396783229, 0.12395358396783229, 0.18004375890582325, 0.18004375890582325, 0.12395358396783229, 0.12395358396783229, 0.12395358396783229, 0.06402648753708429, 0.12395358396783229, 0.06402648753708429]\n",
            "Media de falhas:  [0, 2.021224976483433e-06, 0.2413376437430784, 1.347809772585439, 109.10094246281683, 706.8947815986297, 15439.234315755722, 29977.298545737038, 375167.20220685273, 611048.1847657375, 6400247.512010652, 5282770.430489536]\n",
            "Custo =  456877507.141379\n"
          ]
        },
        {
          "output_type": "stream",
          "name": "stderr",
          "text": [
            "pyswarms.single.global_best: 100%|██████████|1/1, best_cost=6.4e+7\n",
            "2023-10-03 15:32:30,137 - pyswarms.single.global_best - INFO - Optimization finished | best cost: 63983890.26191171, best pos: [4.51365985 3.10930712 2.66174823 3.57079561 5.59818143 1.22846251\n",
            " 2.67464079 5.10188252 2.52799207 6.29494579 4.5712638  1.19161503\n",
            " 3.24897067 2.96158461 4.664436   6.55966543 1.39400514 3.61226815\n",
            " 5.95305022 4.56173775 1.80019797 4.45965905 4.49910564 2.62376628]\n",
            "2023-10-03 15:32:30,141 - pyswarms.single.global_best - INFO - Optimize for 1 iters with {'c1': 0.5, 'c2': 0.3, 'w': 0.9}\n"
          ]
        },
        {
          "output_type": "stream",
          "name": "stdout",
          "text": [
            "\n",
            "=========================================================================\n",
            "\n",
            "Número de ciclos de manutenção: 11 5\n",
            "Tempos para manutenções preventivas: [0, 33, 107, 138, 213, 335, 370, 390, 457, 491, 518, 624]\n",
            "Severidade para cada subsistema: [0.5, 0.5, 0.75, 0.75, 0.75, 0.5, 0.5, 0.75, 0.25, 0.5, 0.25]\n",
            "Número de Sisemas: 5\n",
            "Fator:  [0.05155784880398928, 0.12395358396783229, 0.12395358396783229, 0.18004375890582325, 0.18004375890582325, 0.18004375890582325, 0.12395358396783229, 0.12395358396783229, 0.18004375890582325, 0.06402648753708429, 0.12395358396783229, 0.06402648753708429]\n",
            "Media de falhas:  [0, 2.021224976483433e-06, 0.21958415655883318, 1.3445481656769585, 109.09768085590835, 6946.217206148595, 14321.602105653335, 21998.540222663738, 162596.61180214724, 335585.027365515, 468329.9991543547, 6257529.326399269, 5140052.244878152]\n",
            "Custo =  455727764.0823238\n"
          ]
        },
        {
          "output_type": "stream",
          "name": "stderr",
          "text": [
            "pyswarms.single.global_best: 100%|██████████|1/1, best_cost=6.4e+7\n",
            "2023-10-03 15:32:30,168 - pyswarms.single.global_best - INFO - Optimization finished | best cost: 63983890.26191171, best pos: [4.51366046 3.1092889  2.66173163 3.57075867 5.5981399  1.22838535\n",
            " 2.67463601 5.1018664  2.52799149 6.29494605 4.57144387 1.19161979\n",
            " 3.24894322 2.96169562 4.66425688 6.55966548 1.39392764 3.60991451\n",
            " 1.37887782 4.56173804 1.80017819 4.48739248 4.49910267 2.62407075]\n",
            "2023-10-03 15:32:30,170 - pyswarms.single.global_best - INFO - Optimize for 1 iters with {'c1': 0.5, 'c2': 0.3, 'w': 0.9}\n"
          ]
        },
        {
          "output_type": "stream",
          "name": "stdout",
          "text": [
            "\n",
            "=========================================================================\n",
            "\n",
            "Número de ciclos de manutenção: 10 5\n",
            "Tempos para manutenções preventivas: [0, 33, 106, 137, 213, 333, 370, 469, 491, 519, 624]\n",
            "Severidade para cada subsistema: [0.5, 0.5, 0.75, 0.75, 0.25, 0.5, 0.5, 0.25, 0.5, 0.25]\n",
            "Número de Sisemas: 5\n",
            "Fator:  [0.05155784880398928, 0.12395358396783229, 0.12395358396783229, 0.18004375890582325, 0.18004375890582325, 0.06402648753708429, 0.12395358396783229, 0.12395358396783229, 0.06402648753708429, 0.12395358396783229, 0.06402648753708429]\n",
            "Media de falhas:  [0, 2.021224976483433e-06, 0.1996114676356969, 1.2495443596321967, 109.75276059017159, 6497.66555407539, 14181.449139243367, 380148.8857769993, 502024.4261735184, 749331.3139464185, 6513125.455098068, 5395648.373576952]\n",
            "Custo =  479145120.54723036\n"
          ]
        },
        {
          "output_type": "stream",
          "name": "stderr",
          "text": [
            "pyswarms.single.global_best: 100%|██████████|1/1, best_cost=6.4e+7\n",
            "2023-10-03 15:32:30,196 - pyswarms.single.global_best - INFO - Optimization finished | best cost: 63983890.26191171, best pos: [4.51361964 3.10927623 2.66171862 3.57071398 5.59812785 1.22835132\n",
            " 2.67463146 5.10185309 2.52799092 6.2949463  4.57160808 1.19162464\n",
            " 3.24891622 2.9618101  4.66409273 6.55966662 1.39388178 3.61010492\n",
            " 4.52041984 4.56173837 1.80017174 4.5105773  4.49909972 2.62428641]\n",
            "2023-10-03 15:32:30,197 - pyswarms.single.global_best - INFO - Optimize for 1 iters with {'c1': 0.5, 'c2': 0.3, 'w': 0.9}\n"
          ]
        },
        {
          "output_type": "stream",
          "name": "stdout",
          "text": [
            "\n",
            "=========================================================================\n",
            "\n",
            "Número de ciclos de manutenção: 11 5\n",
            "Tempos para manutenções preventivas: [0, 33, 106, 137, 150, 213, 294, 370, 477, 491, 520, 624]\n",
            "Severidade para cada subsistema: [0.5, 0.5, 0.75, 0.5, 0.75, 0.75, 0.5, 0.25, 0.25, 0.5, 0.25]\n",
            "Número de Sisemas: 5\n",
            "Fator:  [0.05155784880398928, 0.12395358396783229, 0.12395358396783229, 0.18004375890582325, 0.12395358396783229, 0.18004375890582325, 0.18004375890582325, 0.12395358396783229, 0.06402648753708429, 0.06402648753708429, 0.12395358396783229, 0.06402648753708429]\n",
            "Media de falhas:  [0, 2.021224976483433e-06, 0.1996114676356969, 1.2495443596321967, 2.706806713449594, 66.358627774283, 2452.5938067524366, 14952.636041724989, 182404.76058783525, 264678.13711039815, 724784.3347115616, 6462863.459590499, 5345386.378069384]\n",
            "Custo =  500952895.87999237\n"
          ]
        },
        {
          "output_type": "stream",
          "name": "stderr",
          "text": [
            "pyswarms.single.global_best: 100%|██████████|1/1, best_cost=6.4e+7\n",
            "2023-10-03 15:32:30,231 - pyswarms.single.global_best - INFO - Optimization finished | best cost: 63983890.26191171, best pos: [4.51355472 3.10927574 2.66172999 3.57067364 5.59812771 1.22835489\n",
            " 2.67462717 5.10184919 2.52798763 6.29494648 4.571743   1.19163031\n",
            " 3.24888972 2.96190977 4.66398886 6.55966783 1.39388092 3.61504994\n",
            " 0.40570429 4.56173864 1.80018882 4.52751437 4.49909685 2.62446679]\n"
          ]
        },
        {
          "output_type": "stream",
          "name": "stdout",
          "text": [
            "\n",
            "=========================================================================\n",
            "\n",
            "Número de ciclos de manutenção: 10 5\n",
            "Tempos para manutenções preventivas: [0, 33, 106, 136, 213, 292, 334, 370, 491, 524, 624]\n",
            "Severidade para cada subsistema: [0.5, 0.5, 0.75, 0.75, 0.25, 0.25, 0.5, 0.25, 0.5, 0.25]\n",
            "Número de Sisemas: 5\n",
            "Fator:  [0.05155784880398928, 0.12395358396783229, 0.12395358396783229, 0.18004375890582325, 0.18004375890582325, 0.06402648753708429, 0.06402648753708429, 0.12395358396783229, 0.06402648753708429, 0.12395358396783229, 0.06402648753708429]\n",
            "Media de falhas:  [0, 2.021224976483433e-06, 0.1996114676356969, 1.1629744267173718, 110.41631414485043, 1512.6832505523398, 4764.496938466478, 27647.11224585642, 640200.474437695, 948115.2727099971, 6580136.619416297, 5462659.537895182]\n",
            "Custo =  472029753.29727054\n"
          ]
        },
        {
          "output_type": "stream",
          "name": "stderr",
          "text": [
            "2023-10-03 15:32:30,234 - pyswarms.single.global_best - INFO - Optimize for 1 iters with {'c1': 0.5, 'c2': 0.3, 'w': 0.9}\n",
            "pyswarms.single.global_best: 100%|██████████|1/1, best_cost=6.4e+7\n",
            "2023-10-03 15:32:30,260 - pyswarms.single.global_best - INFO - Optimization finished | best cost: 63983890.26191171, best pos: [4.51346136 3.10928758 2.66174377 3.57064256 5.59821897 1.22836836\n",
            " 2.67462336 5.10184949 2.52798365 6.29494656 4.57178819 1.1916354\n",
            " 3.24886818 2.96195824 4.66392139 6.55966917 1.39391886 3.62111419\n",
            " 3.52019158 4.56173886 1.80023035 4.53148607 4.49909425 2.62450204]\n"
          ]
        },
        {
          "output_type": "stream",
          "name": "stdout",
          "text": [
            "\n",
            "=========================================================================\n",
            "\n",
            "Número de ciclos de manutenção: 11 5\n",
            "Tempos para manutenções preventivas: [0, 33, 105, 136, 175, 213, 274, 335, 369, 491, 528, 624]\n",
            "Severidade para cada subsistema: [0.5, 0.5, 0.75, 0.25, 0.75, 0.75, 0.75, 0.5, 0.25, 0.5, 0.25]\n",
            "Número de Sisemas: 5\n",
            "Fator:  [0.05155784880398928, 0.12395358396783229, 0.12395358396783229, 0.18004375890582325, 0.06402648753708429, 0.18004375890582325, 0.18004375890582325, 0.18004375890582325, 0.12395358396783229, 0.06402648753708429, 0.12395358396783229, 0.06402648753708429]\n",
            "Media de falhas:  [0, 2.021224976483433e-06, 0.18128880474785852, 1.1606934133035989, 13.193081772953983, 58.99413036839434, 1794.7900656447607, 6080.73046192203, 13120.214740110678, 251966.51545354078, 612790.943259675, 6133391.431313442, 5015914.349792326]\n",
            "Custo =  464341011.39628845\n"
          ]
        },
        {
          "output_type": "stream",
          "name": "stderr",
          "text": [
            "2023-10-03 15:32:30,263 - pyswarms.single.global_best - INFO - Optimize for 1 iters with {'c1': 0.5, 'c2': 0.3, 'w': 0.9}\n",
            "pyswarms.single.global_best: 100%|██████████|1/1, best_cost=6.4e+7\n",
            "2023-10-03 15:32:30,291 - pyswarms.single.global_best - INFO - Optimization finished | best cost: 63983890.26191171, best pos: [4.51336367 3.10930384 2.66176225 3.57062019 5.59834102 1.22842034\n",
            " 2.67462119 5.1018499  2.52797957 6.2949465  4.57178685 1.19163849\n",
            " 3.24885058 2.96199933 4.66393369 6.55967057 1.39398957 3.62706359\n",
            " 6.3380734  4.56173903 1.80028315 4.53292153 4.49909243 2.62444348]\n"
          ]
        },
        {
          "output_type": "stream",
          "name": "stdout",
          "text": [
            "\n",
            "=========================================================================\n",
            "\n",
            "Número de ciclos de manutenção: 10 5\n",
            "Tempos para manutenções preventivas: [0, 33, 106, 137, 213, 280, 345, 367, 491, 531, 624]\n",
            "Severidade para cada subsistema: [0.5, 0.5, 0.75, 0.75, 0.25, 0.25, 0.5, 0.25, 0.5, 0.25]\n",
            "Número de Sisemas: 5\n",
            "Fator:  [0.05155784880398928, 0.12395358396783229, 0.12395358396783229, 0.18004375890582325, 0.18004375890582325, 0.06402648753708429, 0.06402648753708429, 0.12395358396783229, 0.06402648753708429, 0.12395358396783229, 0.06402648753708429]\n",
            "Media de falhas:  [0, 2.021224976483433e-06, 0.1996114676356969, 1.2495443596321967, 109.75276059017159, 960.4441918198199, 6838.541769238879, 21792.04370594361, 639520.9479606723, 1042791.1168540174, 6476100.44910611, 5358623.367584994]\n",
            "Custo =  483328869.96731806\n"
          ]
        },
        {
          "output_type": "stream",
          "name": "stderr",
          "text": [
            "2023-10-03 15:32:30,294 - pyswarms.single.global_best - INFO - Optimize for 1 iters with {'c1': 0.5, 'c2': 0.3, 'w': 0.9}\n",
            "pyswarms.single.global_best:   0%|          |0/1, best_cost=6.4e+7"
          ]
        },
        {
          "output_type": "stream",
          "name": "stdout",
          "text": [
            "\n",
            "=========================================================================\n",
            "\n",
            "Número de ciclos de manutenção: 9 5\n",
            "Tempos para manutenções preventivas: [0, 33, 106, 137, 213, 334, 366, 491, 533, 623]\n",
            "Severidade para cada subsistema: [0.5, 0.5, 0.75, 0.75, 0.75, 0.5, 0.25, 0.5, 0.25]\n",
            "Número de Sisemas: 5\n",
            "Fator:  [0.05155784880398928, 0.12395358396783229, 0.12395358396783229, 0.18004375890582325, 0.18004375890582325, 0.18004375890582325, 0.12395358396783229, 0.06402648753708429, 0.12395358396783229, 0.06402648753708429]\n",
            "Media de falhas:  [0, 2.021224976483433e-06, 0.1996114676356969, 1.2495443596321967, 109.75276059017159, 6718.852931456937, 12956.023137495686, 255619.2554293753, 688571.5114070668, 5950649.4776848005, 4887003.094746673]\n",
            "Custo =  468855860.8077568\n"
          ]
        },
        {
          "output_type": "stream",
          "name": "stderr",
          "text": [
            "\rpyswarms.single.global_best: 100%|██████████|1/1, best_cost=6.4e+7\n",
            "2023-10-03 15:32:30,326 - pyswarms.single.global_best - INFO - Optimization finished | best cost: 63983890.26191171, best pos: [4.51327668 3.10932801 2.6617799  3.57062485 5.5984568  1.22847567\n",
            " 2.67462093 5.10185641 2.52797607 6.29494635 4.57176758 1.19164086\n",
            " 3.2488495  2.96197873 4.66397063 6.55967173 1.39406313 3.63241683\n",
            " 1.726608   4.56173895 1.80033873 4.52710951 4.49909113 2.62421244]\n",
            "2023-10-03 15:32:30,330 - pyswarms.single.global_best - INFO - Optimize for 1 iters with {'c1': 0.5, 'c2': 0.3, 'w': 0.9}\n",
            "pyswarms.single.global_best:   0%|          |0/1, best_cost=6.4e+7"
          ]
        },
        {
          "output_type": "stream",
          "name": "stdout",
          "text": [
            "\n",
            "=========================================================================\n",
            "\n",
            "Número de ciclos de manutenção: 11 5\n",
            "Tempos para manutenções preventivas: [0, 33, 106, 137, 169, 213, 339, 365, 452, 491, 534, 623]\n",
            "Severidade para cada subsistema: [0.5, 0.5, 0.75, 0.5, 0.75, 0.25, 0.5, 0.25, 0.25, 0.5, 0.25]\n",
            "Número de Sisemas: 5\n",
            "Fator:  [0.05155784880398928, 0.12395358396783229, 0.12395358396783229, 0.18004375890582325, 0.12395358396783229, 0.18004375890582325, 0.06402648753708429, 0.12395358396783229, 0.06402648753708429, 0.06402648753708429, 0.12395358396783229, 0.06402648753708429]\n",
            "Media de falhas:  [0, 2.021224976483433e-06, 0.1996114676356969, 1.2495443596321967, 9.054578639844859, 59.37458784506981, 11589.017283922161, 16767.94908136659, 260523.39215669365, 452281.37429812056, 1240499.1111656358, 6472085.0243549105, 5408438.6414167825]\n",
            "Custo =  525476357.83230245\n"
          ]
        },
        {
          "output_type": "stream",
          "name": "stderr",
          "text": [
            "\rpyswarms.single.global_best: 100%|██████████|1/1, best_cost=6.4e+7\n",
            "2023-10-03 15:32:30,363 - pyswarms.single.global_best - INFO - Optimization finished | best cost: 63983890.26191171, best pos: [4.51321097 3.10935039 2.66179692 3.57063171 5.59856069 1.22853555\n",
            " 2.67462226 5.10186659 2.52797391 6.29494619 4.57172458 1.19164282\n",
            " 3.24885362 2.96191539 4.66408019 6.55967251 1.39412935 3.63622303\n",
            " 4.76648786 4.56173882 1.80038353 4.52055656 4.49909102 2.6239155 ]\n",
            "2023-10-03 15:32:30,366 - pyswarms.single.global_best - INFO - Optimize for 1 iters with {'c1': 0.5, 'c2': 0.3, 'w': 0.9}\n",
            "pyswarms.single.global_best:   0%|          |0/1"
          ]
        },
        {
          "output_type": "stream",
          "name": "stdout",
          "text": [
            "\n",
            "=========================================================================\n",
            "\n",
            "Número de ciclos de manutenção: 8 5\n",
            "Tempos para manutenções preventivas: [0, 33, 107, 138, 213, 365, 491, 534, 623]\n",
            "Severidade para cada subsistema: [0.5, 0.5, 0.75, 0.75, 0.5, 0.25, 0.5, 0.25]\n",
            "Número de Sisemas: 5\n",
            "Fator:  [0.05155784880398928, 0.12395358396783229, 0.12395358396783229, 0.18004375890582325, 0.18004375890582325, 0.12395358396783229, 0.06402648753708429, 0.12395358396783229, 0.06402648753708429]\n",
            "Media de falhas:  [0, 2.021224976483433e-06, 0.21958415655883318, 1.3445481656769585, 109.09768085590835, 18070.908523048292, 262004.0011974111, 710227.0933691228, 5941813.006558397, 4878166.623620269]\n"
          ]
        },
        {
          "output_type": "stream",
          "name": "stderr",
          "text": [
            "pyswarms.single.global_best: 100%|██████████|1/1, best_cost=6.4e+7\n",
            "2023-10-03 15:32:30,394 - pyswarms.single.global_best - INFO - Optimization finished | best cost: 63983890.26191171, best pos: [4.5131725  3.10937319 2.66181229 3.57066017 5.59863833 1.22858769\n",
            " 2.67462347 5.10187698 2.52797308 6.29494602 4.57165091 1.19164229\n",
            " 3.24887217 2.96183443 4.66418634 6.55967254 1.39417381 3.63723891\n",
            " 0.5079115  4.56173865 1.80040808 4.51228659 4.49909215 2.62364439]\n",
            "2023-10-03 15:32:30,401 - pyswarms.single.global_best - INFO - Optimize for 1 iters with {'c1': 0.5, 'c2': 0.3, 'w': 0.9}\n"
          ]
        },
        {
          "output_type": "stream",
          "name": "stdout",
          "text": [
            "Custo =  470027891.6657513\n"
          ]
        },
        {
          "output_type": "stream",
          "name": "stderr",
          "text": [
            "\rpyswarms.single.global_best:   0%|          |0/1"
          ]
        },
        {
          "output_type": "stream",
          "name": "stdout",
          "text": [
            "\n",
            "=========================================================================\n",
            "\n",
            "Número de ciclos de manutenção: 10 5\n",
            "Tempos para manutenções preventivas: [0, 33, 107, 138, 212, 280, 365, 468, 491, 532, 623]\n",
            "Severidade para cada subsistema: [0.5, 0.5, 0.75, 0.75, 0.75, 0.5, 0.5, 0.25, 0.5, 0.25]\n",
            "Número de Sisemas: 5\n",
            "Fator:  [0.05155784880398928, 0.12395358396783229, 0.12395358396783229, 0.18004375890582325, 0.18004375890582325, 0.18004375890582325, 0.12395358396783229, 0.12395358396783229, 0.06402648753708429, 0.12395358396783229, 0.06402648753708429]\n",
            "Media de falhas:  [0, 2.021224976483433e-06, 0.21958415655883318, 1.3445481656769585, 103.68145143494017, 962.5707069420076, 12787.6275061207, 149532.48591616747, 276027.2125249539, 693996.7749349456, 5986181.640804422, 4922535.257866294]\n"
          ]
        },
        {
          "output_type": "stream",
          "name": "stderr",
          "text": [
            "pyswarms.single.global_best: 100%|██████████|1/1, best_cost=6.4e+7\n",
            "2023-10-03 15:32:30,433 - pyswarms.single.global_best - INFO - Optimization finished | best cost: 63983890.26191171, best pos: [4.51316154 3.10939282 2.66182546 3.57069905 5.59866262 1.22862734\n",
            " 2.67462502 5.10188936 2.52797389 6.29494589 4.57154689 1.19164003\n",
            " 3.24888922 2.96174028 4.66428681 6.55967247 1.39419766 3.63542038\n",
            " 3.83012095 4.56173848 1.80041709 4.49653426 4.49909397 2.62343902]\n",
            "2023-10-03 15:32:30,435 - pyswarms.single.global_best - INFO - Optimize for 1 iters with {'c1': 0.5, 'c2': 0.3, 'w': 0.9}\n"
          ]
        },
        {
          "output_type": "stream",
          "name": "stdout",
          "text": [
            "Custo =  486306362.67741334\n"
          ]
        },
        {
          "output_type": "stream",
          "name": "stderr",
          "text": [
            "pyswarms.single.global_best: 100%|██████████|1/1, best_cost=6.4e+7\n",
            "2023-10-03 15:32:30,470 - pyswarms.single.global_best - INFO - Optimization finished | best cost: 63983890.26191171, best pos: [4.51319237 3.10940816 2.66183031 3.57073815 5.59862556 1.22866131\n",
            " 2.6746272  5.10190123 2.52797619 6.29494581 4.5714421  1.19163638\n",
            " 3.24890529 2.96165696 4.66437187 6.55967216 1.39421614 3.63264511\n",
            " 0.10079648 4.56173826 1.8003988  4.4800418  4.4990963  2.62328351]\n",
            "2023-10-03 15:32:30,474 - pyswarms.single.global_best - INFO - Optimize for 1 iters with {'c1': 0.5, 'c2': 0.3, 'w': 0.9}\n"
          ]
        },
        {
          "output_type": "stream",
          "name": "stdout",
          "text": [
            "\n",
            "=========================================================================\n",
            "\n",
            "Número de ciclos de manutenção: 11 5\n",
            "Tempos para manutenções preventivas: [0, 33, 107, 138, 164, 212, 282, 365, 462, 491, 529, 623]\n",
            "Severidade para cada subsistema: [0.5, 0.5, 0.75, 0.25, 0.75, 0.25, 0.5, 0.25, 0.25, 0.5, 0.25]\n",
            "Número de Sisemas: 5\n",
            "Fator:  [0.05155784880398928, 0.12395358396783229, 0.12395358396783229, 0.18004375890582325, 0.06402648753708429, 0.18004375890582325, 0.06402648753708429, 0.12395358396783229, 0.06402648753708429, 0.06402648753708429, 0.12395358396783229, 0.06402648753708429]\n",
            "Media de falhas:  [0, 2.021224976483433e-06, 0.21958415655883318, 1.3445481656769585, 6.588413996911706, 57.50114744587443, 2464.021788270016, 14109.346224244575, 328348.9276485566, 481144.58221251133, 1142519.909320068, 6522772.648603961, 5459126.265665833]\n",
            "Custo =  518285993.7954576\n"
          ]
        },
        {
          "output_type": "stream",
          "name": "stderr",
          "text": [
            "pyswarms.single.global_best: 100%|██████████|1/1, best_cost=6.4e+7\n",
            "2023-10-03 15:32:30,501 - pyswarms.single.global_best - INFO - Optimization finished | best cost: 63983890.26191171, best pos: [4.51326982 3.10941225 2.66182643 3.57076957 5.59855616 1.22867671\n",
            " 2.67462917 5.10191138 2.52797945 6.29494582 4.57135147 1.19163121\n",
            " 3.24891977 2.96159681 4.66443994 6.5596717  1.39419491 3.62943321\n",
            " 4.25262961 4.56173806 1.80037623 4.46522061 4.49909852 2.62321034]\n",
            "2023-10-03 15:32:30,507 - pyswarms.single.global_best - INFO - Optimize for 1 iters with {'c1': 0.5, 'c2': 0.3, 'w': 0.9}\n"
          ]
        },
        {
          "output_type": "stream",
          "name": "stdout",
          "text": [
            "\n",
            "=========================================================================\n",
            "\n",
            "Número de ciclos de manutenção: 12 5\n",
            "Tempos para manutenções preventivas: [0, 33, 108, 138, 176, 212, 282, 335, 365, 390, 491, 527, 623]\n",
            "Severidade para cada subsistema: [0.5, 0.5, 0.75, 0.75, 0.75, 0.75, 0.25, 0.5, 0.5, 0.25, 0.5, 0.25]\n",
            "Número de Sisemas: 5\n",
            "Fator:  [0.05155784880398928, 0.12395358396783229, 0.12395358396783229, 0.18004375890582325, 0.18004375890582325, 0.18004375890582325, 0.18004375890582325, 0.06402648753708429, 0.12395358396783229, 0.12395358396783229, 0.06402648753708429, 0.12395358396783229, 0.06402648753708429]\n",
            "Media de falhas:  [0, 2.021224976483433e-06, 0.2413376437430784, 1.347809772585439, 13.882581950076133, 56.20399728154791, 991.6042436290713, 4902.9564935138815, 10692.851541048221, 39581.35496940494, 386550.67094553926, 733761.8932889948, 6170905.9692066675, 5107259.58626854]\n",
            "Custo =  469600800.80464375\n"
          ]
        },
        {
          "output_type": "stream",
          "name": "stderr",
          "text": [
            "pyswarms.single.global_best: 100%|██████████|1/1, best_cost=6.4e+7\n",
            "2023-10-03 15:32:30,536 - pyswarms.single.global_best - INFO - Optimization finished | best cost: 63983890.26191171, best pos: [4.51334925 3.10940336 2.66181433 3.57078623 5.59848376 1.22867163\n",
            " 2.67463056 5.10191784 2.52798264 6.2949459  4.57128497 1.19162649\n",
            " 3.24892938 2.96157713 4.66445606 6.55967126 1.39415364 3.62644982\n",
            " 1.06251029 4.56173792 1.80035384 4.45623466 4.49910008 2.62322016]\n",
            "2023-10-03 15:32:30,541 - pyswarms.single.global_best - INFO - Optimize for 1 iters with {'c1': 0.5, 'c2': 0.3, 'w': 0.9}\n"
          ]
        },
        {
          "output_type": "stream",
          "name": "stdout",
          "text": [
            "\n",
            "=========================================================================\n",
            "\n",
            "Número de ciclos de manutenção: 11 5\n",
            "Tempos para manutenções preventivas: [0, 33, 108, 138, 212, 339, 366, 390, 477, 491, 525, 623]\n",
            "Severidade para cada subsistema: [0.5, 0.5, 0.75, 0.75, 0.75, 0.5, 0.5, 0.5, 0.25, 0.5, 0.25]\n",
            "Número de Sisemas: 5\n",
            "Fator:  [0.05155784880398928, 0.12395358396783229, 0.12395358396783229, 0.18004375890582325, 0.18004375890582325, 0.18004375890582325, 0.12395358396783229, 0.12395358396783229, 0.12395358396783229, 0.06402648753708429, 0.12395358396783229, 0.06402648753708429]\n",
            "Media de falhas:  [0, 2.021224976483433e-06, 0.2413376437430784, 1.347809772585439, 103.68471304184865, 7973.734078229056, 13445.162464987636, 22373.204451480437, 266281.8731412152, 348555.24966377806, 669316.0520045054, 6161946.612041641, 5098300.229103513]\n",
            "Custo =  484181960.3641143\n"
          ]
        },
        {
          "output_type": "stream",
          "name": "stderr",
          "text": [
            "pyswarms.single.global_best: 100%|██████████|1/1, best_cost=6.4e+7\n",
            "2023-10-03 15:32:30,570 - pyswarms.single.global_best - INFO - Optimization finished | best cost: 63983890.26191171, best pos: [4.51342231 3.10939129 2.66180328 3.57079443 5.59841421 1.22865282\n",
            " 2.67463137 5.10192033 2.5279855  6.29494598 4.57126126 1.19162232\n",
            " 3.2489322  2.96157685 4.6644486  6.55967076 1.39410314 3.62387542\n",
            " 5.59620312 4.56173782 1.80032564 4.45195869 4.49910131 2.6233662 ]\n",
            "2023-10-03 15:32:30,572 - pyswarms.single.global_best - INFO - Optimize for 1 iters with {'c1': 0.5, 'c2': 0.3, 'w': 0.9}\n"
          ]
        },
        {
          "output_type": "stream",
          "name": "stdout",
          "text": [
            "\n",
            "=========================================================================\n",
            "\n",
            "Número de ciclos de manutenção: 12 5\n",
            "Tempos para manutenções preventivas: [0, 33, 107, 138, 175, 212, 298, 367, 391, 453, 491, 524, 623]\n",
            "Severidade para cada subsistema: [0.5, 0.5, 0.75, 0.75, 0.75, 0.75, 0.5, 0.5, 0.25, 0.25, 0.5, 0.25]\n",
            "Número de Sisemas: 5\n",
            "Fator:  [0.05155784880398928, 0.12395358396783229, 0.12395358396783229, 0.18004375890582325, 0.18004375890582325, 0.18004375890582325, 0.18004375890582325, 0.12395358396783229, 0.12395358396783229, 0.06402648753708429, 0.06402648753708429, 0.12395358396783229, 0.06402648753708429]\n",
            "Media de falhas:  [0, 2.021224976483433e-06, 0.21958415655883318, 1.3445481656769585, 13.059487327440424, 56.140090413386616, 1850.7618580448398, 12738.95769493786, 21879.34718788314, 145475.66554851973, 333587.44151597575, 879080.8410498734, 6398941.285626015, 5335294.902687887]\n",
            "Custo =  504148115.91963756\n"
          ]
        },
        {
          "output_type": "stream",
          "name": "stderr",
          "text": [
            "pyswarms.single.global_best: 100%|██████████|1/1, best_cost=6.4e+7\n",
            "2023-10-03 15:32:30,604 - pyswarms.single.global_best - INFO - Optimization finished | best cost: 63983890.26191171, best pos: [4.51348252 3.10937312 2.66179281 3.57078474 5.59836087 1.22859945\n",
            " 2.67463179 5.10191752 2.52798733 6.29494606 4.57129013 1.19161957\n",
            " 3.24893221 2.9616252  4.6644128  6.5596703  1.39405578 3.62213489\n",
            " 2.49793804 4.56173781 1.80029875 4.45489472 4.49910192 2.62358974]\n",
            "2023-10-03 15:32:30,608 - pyswarms.single.global_best - INFO - Optimize for 1 iters with {'c1': 0.5, 'c2': 0.3, 'w': 0.9}\n"
          ]
        },
        {
          "output_type": "stream",
          "name": "stdout",
          "text": [
            "\n",
            "=========================================================================\n",
            "\n",
            "Número de ciclos de manutenção: 10 5\n",
            "Tempos para manutenções preventivas: [0, 33, 107, 138, 212, 368, 391, 465, 491, 524, 624]\n",
            "Severidade para cada subsistema: [0.5, 0.5, 0.75, 0.75, 0.5, 0.5, 0.75, 0.25, 0.5, 0.25]\n",
            "Número de Sisemas: 5\n",
            "Fator:  [0.05155784880398928, 0.12395358396783229, 0.12395358396783229, 0.18004375890582325, 0.18004375890582325, 0.12395358396783229, 0.12395358396783229, 0.18004375890582325, 0.06402648753708429, 0.12395358396783229, 0.06402648753708429]\n",
            "Media de falhas:  [0, 2.021224976483433e-06, 0.21958415655883318, 1.3445481656769585, 103.68145143494017, 19896.669382410782, 28724.238770630836, 204069.89296830265, 344010.97534020507, 518107.9016747429, 6150129.248381043, 5032652.166859927]\n",
            "Custo =  465686884.38119674\n"
          ]
        },
        {
          "output_type": "stream",
          "name": "stderr",
          "text": [
            "\rpyswarms.single.global_best:   0%|          |0/1"
          ]
        },
        {
          "output_type": "stream",
          "name": "stdout",
          "text": [
            "\n",
            "=========================================================================\n",
            "\n",
            "Número de ciclos de manutenção: 11 5\n",
            "Tempos para manutenções preventivas: [0, 33, 107, 138, 160, 212, 337, 369, 391, 491, 524, 624]\n",
            "Severidade para cada subsistema: [0.5, 0.5, 0.75, 0.75, 0.75, 0.75, 0.5, 0.5, 0.25, 0.5, 0.25]\n",
            "Número de Sisemas: 5\n",
            "Fator:  [0.05155784880398928, 0.12395358396783229, 0.12395358396783229, 0.18004375890582325, 0.18004375890582325, 0.18004375890582325, 0.18004375890582325, 0.12395358396783229, 0.12395358396783229, 0.06402648753708429, 0.12395358396783229, 0.06402648753708429]\n",
            "Media de falhas:  [0, 2.021224976483433e-06, 0.21958415655883318, 1.3445481656769585, 5.11349409543687, 58.72517463767244, 7419.112441553579, 14144.7767304554, 22654.588143336034, 367844.4918044517, 675759.2900767538, 6307780.636783054, 5190303.555261938]\n"
          ]
        },
        {
          "output_type": "stream",
          "name": "stderr",
          "text": [
            "pyswarms.single.global_best: 100%|██████████|1/1, best_cost=6.4e+7\n",
            "2023-10-03 15:32:30,636 - pyswarms.single.global_best - INFO - Optimization finished | best cost: 63983890.26191171, best pos: [4.51350499 3.10935581 2.66178353 3.57076863 5.59833767 1.22854413\n",
            " 2.67463162 5.10191314 2.52798843 6.29494615 4.57136253 1.19161758\n",
            " 3.24893001 2.96167182 4.66435677 6.55966987 1.39401833 3.6216226\n",
            " 6.64128647 4.56173789 1.80027692 4.45929834 4.49910225 2.62383713]\n",
            "2023-10-03 15:32:30,639 - pyswarms.single.global_best - INFO - Optimize for 1 iters with {'c1': 0.5, 'c2': 0.3, 'w': 0.9}\n"
          ]
        },
        {
          "output_type": "stream",
          "name": "stdout",
          "text": [
            "Custo =  465287900.5349777\n"
          ]
        },
        {
          "output_type": "stream",
          "name": "stderr",
          "text": [
            "pyswarms.single.global_best: 100%|██████████|1/1, best_cost=6.4e+7\n",
            "2023-10-03 15:32:30,672 - pyswarms.single.global_best - INFO - Optimization finished | best cost: 63983890.26191171, best pos: [4.51349099 3.1093414  2.66177894 3.57073998 5.59834653 1.22849314\n",
            " 2.67463059 5.10190632 2.52798787 6.29494622 4.57143817 1.1916187\n",
            " 3.24892288 2.96172864 4.66430266 6.55966951 1.39399422 3.62139517\n",
            " 3.17821316 4.56173796 1.8002655  4.46550231 4.49910167 2.62405374]\n",
            "2023-10-03 15:32:30,674 - pyswarms.single.global_best - INFO - Optimize for 1 iters with {'c1': 0.5, 'c2': 0.3, 'w': 0.9}\n"
          ]
        },
        {
          "output_type": "stream",
          "name": "stdout",
          "text": [
            "\n",
            "=========================================================================\n",
            "\n",
            "Número de ciclos de manutenção: 10 5\n",
            "Tempos para manutenções preventivas: [0, 33, 106, 137, 173, 213, 369, 390, 491, 525, 624]\n",
            "Severidade para cada subsistema: [0.5, 0.5, 0.75, 0.25, 0.75, 0.5, 0.5, 0.25, 0.5, 0.25]\n",
            "Número de Sisemas: 5\n",
            "Fator:  [0.05155784880398928, 0.12395358396783229, 0.12395358396783229, 0.18004375890582325, 0.06402648753708429, 0.18004375890582325, 0.12395358396783229, 0.12395358396783229, 0.06402648753708429, 0.12395358396783229, 0.06402648753708429]\n",
            "Media de falhas:  [0, 2.021224976483433e-06, 0.1996114676356969, 1.2495443596321967, 11.608333720148451, 58.947730877412134, 41696.82574377362, 49694.02462034086, 396663.3405964752, 717424.1429372025, 6322106.173675945, 5204629.092154829]\n",
            "Custo =  466774057.8025498\n"
          ]
        },
        {
          "output_type": "stream",
          "name": "stderr",
          "text": [
            "\rpyswarms.single.global_best:   0%|          |0/1"
          ]
        },
        {
          "output_type": "stream",
          "name": "stdout",
          "text": [
            "\n",
            "=========================================================================\n",
            "\n",
            "Número de ciclos de manutenção: 10 5\n",
            "Tempos para manutenções preventivas: [0, 33, 106, 137, 166, 213, 369, 468, 491, 527, 624]\n",
            "Severidade para cada subsistema: [0.5, 0.5, 0.75, 0.75, 0.75, 0.5, 0.5, 0.25, 0.5, 0.25]\n",
            "Número de Sisemas: 5\n",
            "Fator:  [0.05155784880398928, 0.12395358396783229, 0.12395358396783229, 0.18004375890582325, 0.18004375890582325, 0.18004375890582325, 0.12395358396783229, 0.12395358396783229, 0.06402648753708429, 0.12395358396783229, 0.06402648753708429]\n",
            "Media de falhas:  "
          ]
        },
        {
          "output_type": "stream",
          "name": "stderr",
          "text": [
            "pyswarms.single.global_best: 100%|██████████|1/1, best_cost=6.4e+7\n",
            "2023-10-03 15:32:30,706 - pyswarms.single.global_best - INFO - Optimization finished | best cost: 63983890.26191171, best pos: [4.51346027 3.10932985 2.66177711 3.57071201 5.59836561 1.22845242\n",
            " 2.67462942 5.10189716 2.52798703 6.29494626 4.57151051 1.19162275\n",
            " 3.24891335 2.96178079 4.66424695 6.55966923 1.39398454 3.62139967\n",
            " 6.45734156 4.56173804 1.80026474 4.47174046 4.49909981 2.62422652]\n",
            "2023-10-03 15:32:30,707 - pyswarms.single.global_best - INFO - Optimize for 1 iters with {'c1': 0.5, 'c2': 0.3, 'w': 0.9}\n"
          ]
        },
        {
          "output_type": "stream",
          "name": "stdout",
          "text": [
            "[0, 2.021224976483433e-06, 0.1996114676356969, 1.2495443596321967, 7.498274444567382, 59.988061063969695, 20349.501206837995, 153670.41904574548, 280165.1456545319, 627376.3679979874, 6176353.336410417, 5058876.254889302]\n",
            "Custo =  481561937.1728054\n"
          ]
        },
        {
          "output_type": "stream",
          "name": "stderr",
          "text": [
            "\rpyswarms.single.global_best:   0%|          |0/1"
          ]
        },
        {
          "output_type": "stream",
          "name": "stdout",
          "text": [
            "\n",
            "=========================================================================\n",
            "\n",
            "Número de ciclos de manutenção: 10 5\n"
          ]
        },
        {
          "output_type": "stream",
          "name": "stderr",
          "text": [
            "pyswarms.single.global_best: 100%|██████████|1/1, best_cost=6.4e+7\n",
            "2023-10-03 15:32:30,738 - pyswarms.single.global_best - INFO - Optimization finished | best cost: 63983890.26191171, best pos: [4.51340944 3.10932369 2.66177924 3.5706871  5.59838785 1.22843399\n",
            " 2.67462788 5.10188785 2.52798561 6.29494628 4.57156697 1.19162682\n",
            " 3.24890262 2.96182144 4.66419681 6.55966907 1.39398178 3.62281285\n",
            " 2.0080337  4.56173817 1.80026646 4.47972722 4.49909721 2.62429984]\n",
            "2023-10-03 15:32:30,742 - pyswarms.single.global_best - INFO - Optimize for 1 iters with {'c1': 0.5, 'c2': 0.3, 'w': 0.9}\n"
          ]
        },
        {
          "output_type": "stream",
          "name": "stdout",
          "text": [
            "Tempos para manutenções preventivas: [0, 33, 106, 137, 171, 213, 332, 369, 491, 528, 624]\n",
            "Severidade para cada subsistema: [0.5, 0.5, 0.75, 0.25, 0.75, 0.75, 0.5, 0.25, 0.5, 0.25]\n",
            "Número de Sisemas: 5\n",
            "Fator:  [0.05155784880398928, 0.12395358396783229, 0.12395358396783229, 0.18004375890582325, 0.06402648753708429, 0.18004375890582325, 0.18004375890582325, 0.12395358396783229, 0.06402648753708429, 0.12395358396783229, 0.06402648753708429]\n",
            "Media de falhas:  [0, 2.021224976483433e-06, 0.1996114676356969, 1.2495443596321967, 10.256985324917979, 59.101071674964956, 13849.467327519962, 21343.042402603904, 260189.343116034, 621013.7709221683, 6141614.258975935, 5024137.17745482]\n",
            "Custo =  464390967.5593945\n"
          ]
        },
        {
          "output_type": "stream",
          "name": "stderr",
          "text": [
            "\rpyswarms.single.global_best:   0%|          |0/1"
          ]
        },
        {
          "output_type": "stream",
          "name": "stdout",
          "text": [
            "\n",
            "=========================================================================\n",
            "\n",
            "Número de ciclos de manutenção: 11 5\n"
          ]
        },
        {
          "output_type": "stream",
          "name": "stderr",
          "text": [
            "pyswarms.single.global_best: 100%|██████████|1/1, best_cost=6.4e+7\n",
            "2023-10-03 15:32:30,768 - pyswarms.single.global_best - INFO - Optimization finished | best cost: 63983890.26191171, best pos: [4.51335365 3.10932408 2.66178649 3.57066831 5.59842645 1.2284394\n",
            " 2.67462648 5.10187956 2.52798384 6.29494626 4.57160884 1.19163132\n",
            " 3.24889351 2.96185611 4.66416627 6.5596691  1.39399794 3.62452126\n",
            " 4.83498746 4.5617383  1.80027403 4.48699224 4.49909485 2.62435464]\n",
            "2023-10-03 15:32:30,775 - pyswarms.single.global_best - INFO - Optimize for 1 iters with {'c1': 0.5, 'c2': 0.3, 'w': 0.9}\n"
          ]
        },
        {
          "output_type": "stream",
          "name": "stdout",
          "text": [
            "Tempos para manutenções preventivas: [0, 33, 106, 137, 154, 213, 282, 368, 478, 491, 529, 624]\n",
            "Severidade para cada subsistema: [0.5, 0.5, 0.75, 0.75, 0.75, 0.25, 0.5, 0.75, 0.25, 0.5, 0.25]\n",
            "Número de Sisemas: 5\n",
            "Fator:  [0.05155784880398928, 0.12395358396783229, 0.12395358396783229, 0.18004375890582325, 0.18004375890582325, 0.18004375890582325, 0.06402648753708429, 0.12395358396783229, 0.18004375890582325, 0.06402648753708429, 0.12395358396783229, 0.06402648753708429]\n",
            "Media de falhas:  [0, 2.021224976483433e-06, 0.1996114676356969, 1.2495443596321967, 3.488755165466693, 64.36850618578158, 991.0622567654963, 13853.198896069776, 471050.16261828307, 548022.3528967049, 760718.7237259718, 6252586.156351532, 5135109.074830417]\n",
            "Custo =  480839505.1983746\n"
          ]
        },
        {
          "output_type": "stream",
          "name": "stderr",
          "text": [
            "\rpyswarms.single.global_best:   0%|          |0/1"
          ]
        },
        {
          "output_type": "stream",
          "name": "stdout",
          "text": [
            "\n",
            "=========================================================================\n",
            "\n",
            "Número de ciclos de manutenção: 10 5\n",
            "Tempos para manutenções preventivas: [0, 33, 106, 137, 160, 213, 368, 470, 491, 530, 624]\n",
            "Severidade para cada subsistema: [0.5, 0.5, 0.75, 0.25, 0.75, 0.5, 0.5, 0.25, 0.5, 0.25]\n",
            "Número de Sisemas: 5\n",
            "Fator:  [0.05155784880398928, 0.12395358396783229, 0.12395358396783229, 0.18004375890582325, 0.06402648753708429, 0.18004375890582325, 0.12395358396783229, 0.12395358396783229, 0.06402648753708429, 0.12395358396783229, 0.06402648753708429]\n",
            "Media de falhas:  [0, 2.021224976483433e-06, 0.1996114676356969, 1.2495443596321967, 5.120098685038315, 61.83985008931706, 40539.849854550914, 181962.63006427776, 299148.4047354358, 687997.7089424109, 6150769.9634295115, 5033292.881908396]\n"
          ]
        },
        {
          "output_type": "stream",
          "name": "stderr",
          "text": [
            "pyswarms.single.global_best: 100%|██████████|1/1, best_cost=6.4e+7\n",
            "2023-10-03 15:32:30,796 - pyswarms.single.global_best - INFO - Optimization finished | best cost: 63983890.26191171, best pos: [4.51330578 3.1093353  2.6617937  3.57065662 5.59846727 1.22845095\n",
            " 2.67462548 5.10187247 2.52798148 6.2949462  4.57160868 1.19163498\n",
            " 3.2488871  2.9618721  4.66416235 6.55966921 1.39403317 3.62638391\n",
            " 0.37795189 4.56173841 1.80028112 4.49261327 4.49909315 2.624376  ]\n",
            "2023-10-03 15:32:30,798 - pyswarms.single.global_best - INFO - Optimize for 1 iters with {'c1': 0.5, 'c2': 0.3, 'w': 0.9}\n"
          ]
        },
        {
          "output_type": "stream",
          "name": "stdout",
          "text": [
            "Custo =  487504416.63627756\n"
          ]
        },
        {
          "output_type": "stream",
          "name": "stderr",
          "text": [
            "\rpyswarms.single.global_best:   0%|          |0/1"
          ]
        },
        {
          "output_type": "stream",
          "name": "stdout",
          "text": [
            "\n",
            "=========================================================================\n",
            "\n",
            "Número de ciclos de manutenção: 11 5\n",
            "Tempos para manutenções preventivas: [0, 33, 106, 137, 213, 298, 349, 367, 466, 491, 530, 624]\n",
            "Severidade para cada subsistema:"
          ]
        },
        {
          "output_type": "stream",
          "name": "stderr",
          "text": [
            "\rpyswarms.single.global_best:   0%|          |0/1, best_cost=6.4e+7"
          ]
        },
        {
          "output_type": "stream",
          "name": "stdout",
          "text": [
            " [0.5, 0.5, 0.75, 0.75, 0.5, 0.75, 0.5, 0.25, 0.25, 0.5, 0.25]\n",
            "Número de Sisemas: 5\n",
            "Fator:  [0.05155784880398928, 0.12395358396783229, 0.12395358396783229, 0.18004375890582325, 0.18004375890582325, 0.12395358396783229, 0.18004375890582325, 0.12395358396783229, 0.06402648753708429, 0.06402648753708429, 0.12395358396783229, 0.06402648753708429]\n",
            "Media de falhas:  [0, 2.021224976483433e-06, 0.1996114676356969, 1.2495443596321967, 109.75276059017159, 1890.1736131591817, 7476.88081512001, 14642.663839855017, 142728.2864731913, 278254.57481205696, 964093.278806998, 6426865.533294099, 5309388.451772984]\n",
            "Custo =  518027965.29028237\n"
          ]
        },
        {
          "output_type": "stream",
          "name": "stderr",
          "text": [
            "\rpyswarms.single.global_best: 100%|██████████|1/1, best_cost=6.4e+7\n",
            "2023-10-03 15:32:30,834 - pyswarms.single.global_best - INFO - Optimization finished | best cost: 63983890.26191171, best pos: [4.51326975 3.10935113 2.66180052 3.57066085 5.598504   1.22846629\n",
            " 2.67462493 5.10186993 2.52797936 6.29494615 4.57157469 1.19163675\n",
            " 3.24888409 2.96185655 4.66418093 6.55966936 1.39407163 3.6281779\n",
            " 3.83259365 4.56173847 1.80029038 4.49692128 4.49909212 2.62436762]\n",
            "2023-10-03 15:32:30,841 - pyswarms.single.global_best - INFO - Optimize for 1 iters with {'c1': 0.5, 'c2': 0.3, 'w': 0.9}\n",
            "pyswarms.single.global_best:   0%|          |0/1"
          ]
        },
        {
          "output_type": "stream",
          "name": "stdout",
          "text": [
            "\n",
            "=========================================================================\n",
            "\n",
            "Número de ciclos de manutenção: 11 5\n",
            "Tempos para manutenções preventivas: [0, 33, 106, 137, 153, 213, 278, 334, 367, 491, 530, 623]\n",
            "Severidade para cada subsistema: [0.5, 0.5, 0.75, 0.25, 0.75, 0.25, 0.5, 0.5, 0.25, 0.5, 0.25]\n",
            "Número de Sisemas: 5\n",
            "Fator:  [0.05155784880398928, 0.12395358396783229, 0.12395358396783229, 0.18004375890582325, 0.06402648753708429, 0.18004375890582325, 0.06402648753708429, 0.12395358396783229, 0.12395358396783229, 0.06402648753708429, 0.12395358396783229, 0.06402648753708429]\n",
            "Media de falhas: "
          ]
        },
        {
          "output_type": "stream",
          "name": "stderr",
          "text": [
            "pyswarms.single.global_best: 100%|██████████|1/1, best_cost=6.4e+7\n",
            "2023-10-03 15:32:30,873 - pyswarms.single.global_best - INFO - Optimization finished | best cost: 63983890.26191171, best pos: [4.51325833 3.10936606 2.66180605 3.57066537 5.59853216 1.22849454\n",
            " 2.67462463 5.10187251 2.52797785 6.29494608 4.57153439 1.19163772\n",
            " 3.24888201 2.96182992 4.66420688 6.55966957 1.39410637 3.6295199\n",
            " 6.95702113 4.56173848 1.80030202 4.4960797  4.49909178 2.62419517]\n",
            "2023-10-03 15:32:30,875 - pyswarms.single.global_best - INFO - Optimize for 1 iters with {'c1': 0.5, 'c2': 0.3, 'w': 0.9}\n"
          ]
        },
        {
          "output_type": "stream",
          "name": "stdout",
          "text": [
            " [0, 2.021224976483433e-06, 0.1996114676356969, 1.2495443596321967, 3.273377019485467, 64.84515526314372, 2107.6437630318715, 6050.902559407372, 26079.88290778544, 410743.7966765237, 799593.1008834988, 6150859.61964011, 5087213.236701982]\n",
            "Custo =  470275522.8457591\n"
          ]
        },
        {
          "output_type": "stream",
          "name": "stderr",
          "text": [
            "\rpyswarms.single.global_best:   0%|          |0/1"
          ]
        },
        {
          "output_type": "stream",
          "name": "stdout",
          "text": [
            "\n",
            "=========================================================================\n",
            "\n",
            "Número de ciclos de manutenção: 9 5\n",
            "Tempos para manutenções preventivas: [0, 33, 107, 137, 213, 297, 366, 491, 530, 623]\n",
            "Severidade para cada subsistema: [0.5, 0.5, 0.75, 0.75, 0.75, 0.5, 0.25, 0.5, 0.25]\n",
            "Número de Sisemas: 5\n",
            "Fator:  [0.05155784880398928, 0.12395358396783229, 0.12395358396783229, 0.18004375890582325, 0.18004375890582325, 0.18004375890582325, 0.12395358396783229, 0.06402648753708429, 0.12395358396783229, 0.06402648753708429]\n",
            "Media de falhas:  [0, 2.021224976483433e-06, 0.21958415655883318, 1.2522897243231663, 109.75550595486256, 1821.5186104368913, 12435.408153614038, 255098.64044549366, 643947.9446524688, 5995214.46340908, 4931568.080470952]\n"
          ]
        },
        {
          "output_type": "stream",
          "name": "stderr",
          "text": [
            "pyswarms.single.global_best: 100%|██████████|1/1, best_cost=6.4e+7\n",
            "2023-10-03 15:32:30,909 - pyswarms.single.global_best - INFO - Optimization finished | best cost: 63983890.26191171, best pos: [4.51327175 3.10937841 2.66181011 3.57067168 5.59853767 1.22852599\n",
            " 2.67462458 5.10187634 2.52797709 6.29494603 4.57147627 1.19163838\n",
            " 3.24888182 2.96179652 4.66424072 6.55966987 1.39413032 3.63011186\n",
            " 2.37485932 4.56173847 1.80031283 4.49272433 4.49909151 2.62399561]\n",
            "2023-10-03 15:32:30,913 - pyswarms.single.global_best - INFO - Optimize for 1 iters with {'c1': 0.5, 'c2': 0.3, 'w': 0.9}\n"
          ]
        },
        {
          "output_type": "stream",
          "name": "stdout",
          "text": [
            "Custo =  463494841.63471365\n"
          ]
        },
        {
          "output_type": "stream",
          "name": "stderr",
          "text": [
            "pyswarms.single.global_best: 100%|██████████|1/1, best_cost=6.4e+7\n",
            "2023-10-03 15:32:30,943 - pyswarms.single.global_best - INFO - Optimization finished | best cost: 63983890.26191171, best pos: [4.51330486 3.10938481 2.66181346 3.57068265 5.59853704 1.22855417\n",
            " 2.67462522 5.10188027 2.52797644 6.294946   4.57142329 1.19163895\n",
            " 3.2488879  2.9617581  4.66427148 6.55967015 1.3941465  3.63017491\n",
            " 4.82274558 4.56173843 1.80032257 4.48790928 4.49909239 2.62379899]\n",
            "2023-10-03 15:32:30,944 - pyswarms.single.global_best - INFO - Optimize for 1 iters with {'c1': 0.5, 'c2': 0.3, 'w': 0.9}\n"
          ]
        },
        {
          "output_type": "stream",
          "name": "stdout",
          "text": [
            "\n",
            "=========================================================================\n",
            "\n",
            "Número de ciclos de manutenção: 12 5\n",
            "Tempos para manutenções preventivas: [0, 33, 107, 138, 168, 213, 276, 345, 366, 464, 491, 530, 623]\n",
            "Severidade para cada subsistema: [0.5, 0.5, 0.75, 0.25, 0.75, 0.5, 0.75, 0.5, 0.25, 0.25, 0.5, 0.25]\n",
            "Número de Sisemas: 5\n",
            "Fator:  [0.05155784880398928, 0.12395358396783229, 0.12395358396783229, 0.18004375890582325, 0.06402648753708429, 0.18004375890582325, 0.12395358396783229, 0.18004375890582325, 0.12395358396783229, 0.06402648753708429, 0.06402648753708429, 0.12395358396783229, 0.06402648753708429]\n",
            "Media de falhas:  [0, 2.021224976483433e-06, 0.21958415655883318, 1.3445481656769585, 8.472427569313146, 59.521041481905385, 1943.558488288667, 8051.034324709374, 15973.449531620594, 138211.57248092708, 282501.7068661706, 968340.4108611117, 6319606.929617723, 5255960.5466795955]\n",
            "Custo =  513841848.67399275\n"
          ]
        },
        {
          "output_type": "stream",
          "name": "stderr",
          "text": [
            "\rpyswarms.single.global_best:   0%|          |0/1"
          ]
        },
        {
          "output_type": "stream",
          "name": "stdout",
          "text": [
            "\n",
            "=========================================================================\n",
            "\n",
            "Número de ciclos de manutenção: 9 5\n",
            "Tempos para manutenções preventivas: [0, 33, 107, 138, 174, 213, 366, 491, 529, 623]\n",
            "Severidade para cada subsistema: "
          ]
        },
        {
          "output_type": "stream",
          "name": "stderr",
          "text": [
            "pyswarms.single.global_best: 100%|██████████|1/1, best_cost=6.4e+7\n",
            "2023-10-03 15:32:30,973 - pyswarms.single.global_best - INFO - Optimization finished | best cost: 63983890.26191171, best pos: [4.51334483 3.10938932 2.66181359 3.57069508 5.59851593 1.22857598\n",
            " 2.674626   5.10188558 2.52797614 6.29494599 4.57138226 1.19163828\n",
            " 3.24889656 2.96172223 4.66429226 6.55967035 1.39415498 3.62988066\n",
            " 0.02540981 4.56173836 1.80033108 4.48339466 4.49909431 2.62362569]\n",
            "2023-10-03 15:32:30,975 - pyswarms.single.global_best - INFO - Optimize for 1 iters with {'c1': 0.5, 'c2': 0.3, 'w': 0.9}\n"
          ]
        },
        {
          "output_type": "stream",
          "name": "stdout",
          "text": [
            "[0.5, 0.5, 0.75, 0.75, 0.75, 0.5, 0.25, 0.5, 0.25]\n",
            "Número de Sisemas: 5\n",
            "Fator:  [0.05155784880398928, 0.12395358396783229, 0.12395358396783229, 0.18004375890582325, 0.18004375890582325, 0.18004375890582325, 0.12395358396783229, 0.06402648753708429, 0.12395358396783229, 0.06402648753708429]\n",
            "Media de falhas:  [0, 2.021224976483433e-06, 0.21958415655883318, 1.3445481656769585, 12.285046796552008, 58.85979757436142, 18578.90783014419, 261242.14012202382, 635944.4077036502, 6016197.1469875425, 4952550.764049415]\n",
            "Custo =  461628091.01919794\n"
          ]
        },
        {
          "output_type": "stream",
          "name": "stderr",
          "text": [
            "\rpyswarms.single.global_best:   0%|          |0/1"
          ]
        },
        {
          "output_type": "stream",
          "name": "stdout",
          "text": [
            "\n",
            "=========================================================================\n",
            "\n",
            "Número de ciclos de manutenção: 9 5\n",
            "Tempos para manutenções preventivas: [0, 33, 107, 138, 213, 366, 466, 491, 528, 623]\n",
            "Severidade para cada subsistema: [0.5, 0.5, 0.75, 0.75, 0.5, 0.5, 0.25, 0.5, 0.25]\n",
            "Número de Sisemas: 5\n",
            "Fator:  [0.05155784880398928, 0.12395358396783229, 0.12395358396783229, 0.18004375890582325, 0.18004375890582325, 0.12395358396783229, 0.12395358396783229, 0.06402648753708429, 0.12395358396783229, 0.06402648753708429]\n"
          ]
        },
        {
          "output_type": "stream",
          "name": "stderr",
          "text": [
            "pyswarms.single.global_best: 100%|██████████|1/1, best_cost=6.4e+7\n",
            "2023-10-03 15:32:31,011 - pyswarms.single.global_best - INFO - Optimization finished | best cost: 63983890.26191171, best pos: [4.51338298 3.10939166 2.6618123  3.57071088 5.59848199 1.22857919\n",
            " 2.67462678 5.1018905  2.52797625 6.29494599 4.57136516 1.19163567\n",
            " 3.24890598 2.96169187 4.66430554 6.55967045 1.39415165 3.6293222\n",
            " 2.06382839 4.56173828 1.80033413 4.47880418 4.49909612 2.62351257]\n",
            "2023-10-03 15:32:31,014 - pyswarms.single.global_best - INFO - Optimize for 1 iters with {'c1': 0.5, 'c2': 0.3, 'w': 0.9}\n"
          ]
        },
        {
          "output_type": "stream",
          "name": "stdout",
          "text": [
            "Media de falhas:  [0, 2.021224976483433e-06, 0.21958415655883318, 1.3445481656769585, 109.09768085590835, 18629.14571342574, 147541.20419109977, 283067.49252996536, 643891.9203360996, 6052768.662817403, 4989122.279879275]\n",
            "Custo =  479063891.82802963\n"
          ]
        },
        {
          "output_type": "stream",
          "name": "stderr",
          "text": [
            "pyswarms.single.global_best: 100%|██████████|1/1, best_cost=6.4e+7\n",
            "2023-10-03 15:32:31,037 - pyswarms.single.global_best - INFO - Optimization finished | best cost: 63983890.26191171, best pos: [4.51341413 3.10938829 2.66180844 3.57072566 5.59844973 1.22858127\n",
            " 2.67462757 5.10189539 2.52797688 6.29494603 4.57136029 1.19163183\n",
            " 3.24891445 2.96166949 4.66431541 6.55967043 1.39413922 3.62832973\n",
            " 4.45226656 4.56173821 1.80033685 4.47485555 4.49909794 2.62345864]\n"
          ]
        },
        {
          "output_type": "stream",
          "name": "stdout",
          "text": [
            "\n",
            "=========================================================================\n",
            "\n",
            "Número de ciclos de manutenção: 10 5\n",
            "Tempos para manutenções preventivas: [0, 33, 107, 138, 168, 213, 294, 366, 491, 527, 623]\n",
            "Severidade para cada subsistema: [0.5, 0.5, 0.75, 0.75, 0.75, 0.25, 0.5, 0.25, 0.5, 0.25]\n",
            "Número de Sisemas: 5\n",
            "Fator:  [0.05155784880398928, 0.12395358396783229, 0.12395358396783229, 0.18004375890582325, 0.18004375890582325, 0.18004375890582325, 0.06402648753708429, 0.12395358396783229, 0.06402648753708429, 0.12395358396783229, 0.06402648753708429]\n",
            "Media de falhas:  [0, 2.021224976483433e-06, 0.21958415655883318, 1.3445481656769585, 8.472427569313146, 59.521041481905385, 1579.104622864886, 12486.665495209458, 631902.6370268946, 979113.8593703501, 6416257.935288022, 5352611.552349894]\n",
            "Custo =  470618017.3628296\n"
          ]
        }
      ]
    },
    {
      "cell_type": "code",
      "source": [
        "# Nome do arquivo CSV para salvar o resultado do melhor custo\n",
        "nome_arquivo = '/content/drive/MyDrive/datasets/resultados_optimizacao/resultados_pso/melhor_custo_pso_primeiro_cenario.csv'\n",
        "\n",
        "# Abrir o arquivo CSV em modo de leitura para verificar o melhor custo anterior (se existir)\n",
        "melhores_custos_anteriores = []\n",
        "try:\n",
        "    with open(nome_arquivo, 'r') as arquivo_csv:\n",
        "        reader = csv.reader(arquivo_csv)\n",
        "        next(reader)  # Pule o cabeçalho\n",
        "        for linha in reader:\n",
        "            melhores_custos_anteriores.append(float(linha[1]))\n",
        "except FileNotFoundError:\n",
        "    pass  # Arquivo não existe, pode ser a primeira execução\n",
        "\n",
        "# Adicionar o melhor custo atual à lista de melhores custos anteriores\n",
        "melhores_custos_anteriores.append(pbest_cost[0])\n",
        "\n",
        "# Abrir o arquivo CSV em modo de escrita e escrever todos os melhores custos\n",
        "with open(nome_arquivo, 'w', newline='') as arquivo_csv:\n",
        "    writer = csv.writer(arquivo_csv)\n",
        "\n",
        "    # Escreve o cabeçalho com as colunas\n",
        "    writer.writerow(['Index', 'Melhor Custo', 'Lambda (λ)', 'Beta (β)', 'Theta (θ)', 'Numero de Particulas', 'Numero de Interações', 'Dimensions', 'options'])\n",
        "\n",
        "    # Escreve os valores dos melhores custos com números de interação\n",
        "    for i, custo in enumerate(melhores_custos_anteriores, start=1):\n",
        "        writer.writerow([i, custo, lamb, beta, theta, num_particles, max_iterations, dimensions, options])"
      ],
      "metadata": {
        "id": "SvLX3p0EXBEo"
      },
      "execution_count": 28,
      "outputs": []
    },
    {
      "cell_type": "code",
      "source": [
        "# Plotar gráfico de densidade da otimização\n",
        "plt.figure()\n",
        "plt.plot(optimizer.cost_history)\n",
        "plt.xlabel('Iteration')\n",
        "plt.xlim(0, max_iterations)\n",
        "plt.ylabel('Objective function')\n",
        "plt.title('Particle Swarm Optimization (PSO) - Cost History')\n",
        "plt.show()\n",
        "\n",
        "print(\"                              \")\n",
        "print(\"*************************************************************************\")\n",
        "print(\"Número total de iterações:\", max_iterations)\n",
        "print(\"Número de Particulas:\", num_particles)\n",
        "print(\"Número de Dimensões:\", dimensions)\n",
        "print(\"                              \")\n",
        "print(\"Melhor partícula:\", pbest_cost[0])"
      ],
      "metadata": {
        "id": "ULlt81ZI1vn9",
        "outputId": "28293730-59c3-436c-f488-583ddece8d20",
        "colab": {
          "base_uri": "https://localhost:8080/",
          "height": 594
        }
      },
      "execution_count": 29,
      "outputs": [
        {
          "output_type": "display_data",
          "data": {
            "text/plain": [
              "<Figure size 640x480 with 1 Axes>"
            ],
            "image/png": "[encoded data removed]"
          },
          "metadata": {}
        },
        {
          "output_type": "stream",
          "name": "stdout",
          "text": [
            "                              \n",
            "*************************************************************************\n",
            "Número total de iterações: 100\n",
            "Número de Particulas: 100\n",
            "Número de Dimensões: 24\n",
            "                              \n",
            "Melhor partícula: 470618017.3628296\n"
          ]
        }
      ]
    },
    {
      "cell_type": "code",
      "source": [
        "# Plotar o gráfico 3D com todas as melhores posições\n",
        "fig = plt.figure(figsize=(8, 8))\n",
        "ax = fig.add_subplot(111)\n",
        "\n",
        "# Plotar todas as melhores posições anteriores\n",
        "for i in range(best_positions.shape[0]):\n",
        "    ax.scatter(best_positions[i, 0], best_positions[i, 1], marker='x', c='blue', alpha=0.6)\n",
        "\n",
        "# Plotar a última melhor posição com uma cor diferente para destacá-la\n",
        "ax.scatter(best_positions[-1, 0], best_positions[-1, 1], c='red', label='Melhor posição atual')\n",
        "\n",
        "ax.set_title('PSO - Melhores posições ao longo das iterações')\n",
        "ax.set_xlabel('Primeira dimensão das melhores posições')\n",
        "ax.set_ylabel('Segunda dimensão das melhores posições')\n",
        "ax.legend()\n",
        "plt.grid()\n",
        "plt.show()"
      ],
      "metadata": {
        "id": "4STRoUAPxmqT",
        "outputId": "d548e677-6bde-4d3c-cf8d-f4bb85d8d9fc",
        "colab": {
          "base_uri": "https://localhost:8080/",
          "height": 718
        }
      },
      "execution_count": 30,
      "outputs": [
        {
          "output_type": "display_data",
          "data": {
            "text/plain": [
              "<Figure size 800x800 with 1 Axes>"
            ],
            "image/png": "[encoded data removed]"
          },
          "metadata": {}
        }
      ]
    }
  ]
}