{
  "nbformat": 4,
  "nbformat_minor": 0,
  "metadata": {
    "colab": {
      "provenance": [],
      "include_colab_link": true
    },
    "kernelspec": {
      "name": "python3",
      "display_name": "Python 3"
    },
    "language_info": {
      "name": "python"
    }
  },
  "cells": [
    {
      "cell_type": "markdown",
      "metadata": {
        "id": "view-in-github",
        "colab_type": "text"
      },
      "source": [
        "<a href=\"https://colab.research.google.com/github/uervitonsantos/Otimizacao-Politicaca-Manutencao-Preventiva-Imperfeita/blob/main/Algoritmo_PSO_para_otimiza%C3%A7%C3%A3o_de_custo_de_manuten%C3%A7%C3%A3o_preventiva_v11.ipynb\" target=\"_parent\"><img src=\"https://colab.research.google.com/assets/colab-badge.svg\" alt=\"Open In Colab\"/></a>"
      ]
    },
    {
      "cell_type": "markdown",
      "source": [
        "Os Dataset's de dados de confiabilidade para os 4 cenarios podem ser obtidos em: https://drive.google.com/drive/folders/1tzW3424gsRYhvXOCIaF67PCb3PAiOU43?usp=drive_link"
      ],
      "metadata": {
        "id": "wZi0pIL-Ch37"
      }
    },
    {
      "cell_type": "code",
      "execution_count": 1649,
      "metadata": {
        "id": "VM8_ebpiVP0V"
      },
      "outputs": [],
      "source": [
        "%%capture\n",
        "pip install pyswarms"
      ]
    },
    {
      "cell_type": "code",
      "source": [
        "%%capture\n",
        "!pip install numpy==1.26"
      ],
      "metadata": {
        "id": "1ybZT-uetbA6"
      },
      "execution_count": 1650,
      "outputs": []
    },
    {
      "cell_type": "code",
      "source": [
        "import numpy as np\n",
        "import pandas as pd\n",
        "import math\n",
        "import csv\n",
        "import locale\n",
        "import matplotlib.pyplot as plt\n",
        "import time\n",
        "from pyswarms.single.global_best import GlobalBestPSO\n",
        "import pyswarms as ps\n",
        "from pyswarms.utils.search import RandomSearch\n",
        "from pyswarms.utils.functions import single_obj as fx\n",
        "from pyswarms.utils.plotters import (plot_cost_history, plot_contour, plot_surface)\n",
        "import plotly.graph_objects as go\n",
        "from pyswarms.utils.plotters.formatters import Designer\n",
        "from pyswarms.utils.plotters.formatters import Mesher\n",
        "from mpl_toolkits.mplot3d import Axes3D"
      ],
      "metadata": {
        "id": "2sVG0WwfVrUs"
      },
      "execution_count": 1651,
      "outputs": []
    },
    {
      "cell_type": "code",
      "source": [
        "from google.colab import drive\n",
        "drive.mount('/content/drive')"
      ],
      "metadata": {
        "colab": {
          "base_uri": "https://localhost:8080/"
        },
        "id": "UxVZzIrcndid",
        "outputId": "1cf44078-1f54-4901-c94b-80c69281174d"
      },
      "execution_count": 1652,
      "outputs": [
        {
          "output_type": "stream",
          "name": "stdout",
          "text": [
            "Drive already mounted at /content/drive; to attempt to forcibly remount, call drive.mount(\"/content/drive\", force_remount=True).\n"
          ]
        }
      ]
    },
    {
      "cell_type": "code",
      "source": [
        "# Constantes criadas para representar alguns valores de teste no codigo\n",
        "\n",
        "MAX_VALUE_CUSTO = 20000 # Valor maximo para o custo total da otimização\n",
        "fator_melhoria = 'expo' # Função exponencial selecionada. Há outras funções desenvolvidas\n",
        "DIAS_OBSERVADOS = 730 # Quantidade de dias observados no horizonte de planejamento. Para cada teste há uma quantidade de dia específico\n",
        "CMC = 15000 # Valor para o custo da manutenção corretiva\n",
        "CMP = 4000 # Valor para o custo da manutenção preventiva"
      ],
      "metadata": {
        "id": "FeZKvg25Vtwz"
      },
      "execution_count": 1653,
      "outputs": []
    },
    {
      "cell_type": "code",
      "source": [
        "class IntensidadeFalha:\n",
        "    # Este método vai inicializar cada objeto criado a partir desta classe\n",
        "    # O nome deste método é \"inicio\"\n",
        "    # (self) é uma referência a cada atributo de um objeto criado a partir desta classe\n",
        "    # Os atributos de cada objeto criados a partir desta classe.\n",
        "    # O self indica que estes são atributos dos objetos\n",
        "    def __init__(self):\n",
        "        self.fator = None\n",
        "        self.lamb = None\n",
        "        self.beta = None\n",
        "        self.theta = None\n",
        "        self.sz = None\n",
        "        self.T = None\n",
        "        self.u = None\n",
        "\n",
        "    def inicio(self, T, fator, solucao):\n",
        "        self.fator = fator\n",
        "        self.lamb = solucao[0]\n",
        "        self.beta = solucao[1]\n",
        "        self.theta = solucao[2]\n",
        "        self.sz = int(T[-1])\n",
        "        self.T = T\n",
        "\n",
        "    def create(self):\n",
        "        self.u = []\n",
        "        # Reducao de Idade com fator de melhoria linear\n",
        "        for i, tc in enumerate(self.T[1:], start=1):\n",
        "            for tt in range(int(self.T[i-1]), int(tc)+1):\n",
        "                b = tt - self.fator[0][i-1] * self.T[i-1]\n",
        "                self.u.append((1 / (self.lamb ** self.beta)) * self.beta * b ** (self.beta - 1))\n",
        "\n",
        "                if tt == tc:\n",
        "                    self.u.append(float('nan'))\n",
        "            break\n",
        "    # plota e salva a figura da função de intensidade de falha\n",
        "    def plotar(self):\n",
        "        fig = plt.figure(figsize=(20, 5))\n",
        "        plt.plot(self.u)\n",
        "\n",
        "        for xc in self.T:\n",
        "            plt.axvline(x=xc, color='r', linestyle='--')\n",
        "\n",
        "        plt.xlabel(\"Tempo (dias)\")\n",
        "        plt.ylabel(\"Função intensidade de falha\")\n",
        "        plt.xlim(0)\n",
        "        plt.grid(True)\n",
        "        plt.show()"
      ],
      "metadata": {
        "id": "QhF2qTuDV2P1"
      },
      "execution_count": 1654,
      "outputs": []
    },
    {
      "cell_type": "code",
      "source": [
        "# Define a função de melhoria constante\n",
        "def const(ck, m, s, theta):\n",
        "    fator = [[theta] * ck] * m\n",
        "    return fator"
      ],
      "metadata": {
        "id": "mMRO_z3_V4a3"
      },
      "execution_count": 1655,
      "outputs": []
    },
    {
      "cell_type": "code",
      "source": [
        "# Define a função de melhoria linear\n",
        "def linear(ck, m, s, theta):\n",
        "    fator = []\n",
        "    for k in range(0, m, 1):\n",
        "        linha = [0]\n",
        "        for j in range(0, ck, 1):\n",
        "            linha.append(s[k][j] * theta)\n",
        "        fator.append(linha)\n",
        "    return fator"
      ],
      "metadata": {
        "id": "S_fCxa7GV65n"
      },
      "execution_count": 1656,
      "outputs": []
    },
    {
      "cell_type": "code",
      "source": [
        "# Define a função de melhoria exponencial\n",
        "def expo(ck, m, s, theta):\n",
        "    fator = []\n",
        "    for k in range(0, m):\n",
        "        linha = []\n",
        "        # Verifique se o índice k é válido\n",
        "        if k >= len(s):\n",
        "            break\n",
        "        for j in range(0, ck):\n",
        "            # Verifique se o índice j é válido\n",
        "            if j >= len(s[k]):\n",
        "                break\n",
        "            linha.append(1.0 - np.exp(-s[k][j] * theta))\n",
        "        fator.append(linha)\n",
        "\n",
        "    return fator"
      ],
      "metadata": {
        "id": "NV3lIXl9V9FL"
      },
      "execution_count": 1657,
      "outputs": []
    },
    {
      "cell_type": "code",
      "source": [
        "# Define a função de melhoria potência\n",
        "def pot(ck, m, s, theta):\n",
        "    fator = []\n",
        "    for k in range(0, m, 1):\n",
        "        linha = []\n",
        "        for j in range(0, ck, 1):\n",
        "            linha.append(s[k][j] ** theta)\n",
        "        fator.append(linha)\n",
        "    return fator"
      ],
      "metadata": {
        "id": "ikxXlzxKV-0K"
      },
      "execution_count": 1658,
      "outputs": []
    },
    {
      "cell_type": "code",
      "source": [
        "# Define a função de melhoria para manutenção perfeita\n",
        "def mpp(ck, m, s, theta):\n",
        "    fator = []\n",
        "    for k in range(0, m, 1):\n",
        "        linha = []\n",
        "        for j in range(0, ck, 1):\n",
        "            linha.append(1)\n",
        "        fator.append(linha)\n",
        "    return fator"
      ],
      "metadata": {
        "id": "xcHr8tSFWAus"
      },
      "execution_count": 1659,
      "outputs": []
    },
    {
      "cell_type": "code",
      "source": [
        "# Executa a função de melhoria com base no parâmetro fornecido\n",
        "def execute_function(fator_melhoria, ck, m, s, theta):\n",
        "    return {\n",
        "        'const': lambda: const(ck, m, s, theta),\n",
        "        'linear': lambda: linear(ck, m, s, theta),\n",
        "        'expo': lambda: expo(ck, m, s, theta),\n",
        "        'pot': lambda: pot(ck, m, s, theta),\n",
        "        'mpp': lambda: mpp(ck, m, s, theta),\n",
        "    }[fator_melhoria]()"
      ],
      "metadata": {
        "id": "R5KeFcseWDH6"
      },
      "execution_count": 1660,
      "outputs": []
    },
    {
      "cell_type": "code",
      "source": [
        "# Função custo de manutenção baseada em severidade\n",
        "def custo_mp(s, CMP):\n",
        "    dist = {0.25: 2000, 0.5: 4000, 0.75: 12000, 1.0: 20000}\n",
        "    if not isinstance(s, list):\n",
        "        s = [s]  # Transforma s em uma lista com um único elemento\n",
        "    cmp_f = np.sum([CMP if si < 0.25 or si > 1.0 else np.interp(si, [0.25, 0.5, 0.75, 1.0], [2000, 4000, 12000, 20000]) for si in s])\n",
        "    return cmp_f"
      ],
      "metadata": {
        "id": "B8BkTWrmWGWO"
      },
      "execution_count": 1661,
      "outputs": []
    },
    {
      "cell_type": "markdown",
      "source": [
        "O 1.º cenário, considera o dataset fictício do trabalho do Dr Marco Coque Jr, com 5 sistema, observados por 600 dias, com MP realizada nos tempos 150, 250, 500 e 600, com custo de MP apresentado na tabela 1, com taxas de severidades de 40%, 50%, 90% e 20%, respectivamente  e MC fixa em \"?\"\n",
        "\n",
        "O 2.º cenário, considera o dataset fictício, com 3 sistemas, observados por 730 dias, com MP realizada nos tempos \"?\", com custo de MP apresentado na tabela 2, com taxas de severidade fixas em 20%, 70% e 100%, respectivamente e MC fixa em US$15.000\n",
        "\n",
        "O 3.º cenário, considera o dataset fictício, com 2 sistemas, observados por 1.460 dias, com MP realizada nos tempos \"?\", com custo de MP fixo em US$4.000, com taxas de severidade fixas em 100% e MC fixa em US$17.000\n",
        "\n",
        "O 4.º cenário, considera o dataset fictício, com 4 sistemas, observados por 730 dias, com MP realizada nos tempos \"?\", com custo de MP apresentado na tabela 2, com taxas de severidade fixas em 50% e 100%, onde US$2.000 e US$3.000, respectivamente e MC fixa em US$15.000 texto em itálico\n",
        "\n",
        "\n",
        "\n"
      ],
      "metadata": {
        "id": "G2TJsXlyGcOc"
      }
    },
    {
      "cell_type": "code",
      "source": [
        "# Defina o dicionário de tipos de dados\n",
        "# define as 3 colunas do dataset como int\n",
        "dtypes = {\n",
        "    't': int,\n",
        "    'k': int,\n",
        "    'c': int,\n",
        "}\n",
        "\n",
        "# Leitura dos dados de tempo de falha para 4 cenarios de exemplo\n",
        "# df = pd.read_csv('/content/drive/MyDrive/datasets/Cenarios/cenario01.csv', sep=\";\")\n",
        "# df = pd.read_csv('/content/drive/MyDrive/datasets/Cenarios/cenario02.csv', sep=\";\")\n",
        "# df = pd.read_csv('/content/drive/MyDrive/datasets/Cenarios/cenario03.csv', sep=\";\")\n",
        "# df = pd.read_csv('/content/drive/MyDrive/datasets/Cenarios/cenario04.csv', sep=\";\")\n",
        "df = pd.read_csv('/content/drive/MyDrive/datasets/Cenarios/cenario04.csv', sep=\";\")\n",
        "\n",
        "# Remova as linhas com valores ausentes\n",
        "df = df.fillna(0)\n",
        "\n",
        "# Converta as colunas para os tipos de dados desejados\n",
        "df = df.astype(dtypes)\n",
        "\n",
        "df.head()"
      ],
      "metadata": {
        "colab": {
          "base_uri": "https://localhost:8080/",
          "height": 206
        },
        "id": "IDcyZ_pHWIW8",
        "outputId": "0e9b1641-325b-4f6a-86cf-05e5c90b8310"
      },
      "execution_count": 1662,
      "outputs": [
        {
          "output_type": "execute_result",
          "data": {
            "text/plain": [
              "      t  k   c  n    s    T\n",
              "0  1033  1   6  0  1.0  182\n",
              "1  1309  1   7  0  1.0  366\n",
              "2  1778  1   7  0  1.0  547\n",
              "3  2342  1  10  0  1.0  731\n",
              "4  3254  1  14  0  1.0  912"
            ],
            "text/html": [
              "\n",
              "  <div id=\"df-1192f861-696e-40ba-b915-7943cb7696b9\" class=\"colab-df-container\">\n",
              "    <div>\n",
              "<style scoped>\n",
              "    .dataframe tbody tr th:only-of-type {\n",
              "        vertical-align: middle;\n",
              "    }\n",
              "\n",
              "    .dataframe tbody tr th {\n",
              "        vertical-align: top;\n",
              "    }\n",
              "\n",
              "    .dataframe thead th {\n",
              "        text-align: right;\n",
              "    }\n",
              "</style>\n",
              "<table border=\"1\" class=\"dataframe\">\n",
              "  <thead>\n",
              "    <tr style=\"text-align: right;\">\n",
              "      <th></th>\n",
              "      <th>t</th>\n",
              "      <th>k</th>\n",
              "      <th>c</th>\n",
              "      <th>n</th>\n",
              "      <th>s</th>\n",
              "      <th>T</th>\n",
              "    </tr>\n",
              "  </thead>\n",
              "  <tbody>\n",
              "    <tr>\n",
              "      <th>0</th>\n",
              "      <td>1033</td>\n",
              "      <td>1</td>\n",
              "      <td>6</td>\n",
              "      <td>0</td>\n",
              "      <td>1.0</td>\n",
              "      <td>182</td>\n",
              "    </tr>\n",
              "    <tr>\n",
              "      <th>1</th>\n",
              "      <td>1309</td>\n",
              "      <td>1</td>\n",
              "      <td>7</td>\n",
              "      <td>0</td>\n",
              "      <td>1.0</td>\n",
              "      <td>366</td>\n",
              "    </tr>\n",
              "    <tr>\n",
              "      <th>2</th>\n",
              "      <td>1778</td>\n",
              "      <td>1</td>\n",
              "      <td>7</td>\n",
              "      <td>0</td>\n",
              "      <td>1.0</td>\n",
              "      <td>547</td>\n",
              "    </tr>\n",
              "    <tr>\n",
              "      <th>3</th>\n",
              "      <td>2342</td>\n",
              "      <td>1</td>\n",
              "      <td>10</td>\n",
              "      <td>0</td>\n",
              "      <td>1.0</td>\n",
              "      <td>731</td>\n",
              "    </tr>\n",
              "    <tr>\n",
              "      <th>4</th>\n",
              "      <td>3254</td>\n",
              "      <td>1</td>\n",
              "      <td>14</td>\n",
              "      <td>0</td>\n",
              "      <td>1.0</td>\n",
              "      <td>912</td>\n",
              "    </tr>\n",
              "  </tbody>\n",
              "</table>\n",
              "</div>\n",
              "    <div class=\"colab-df-buttons\">\n",
              "\n",
              "  <div class=\"colab-df-container\">\n",
              "    <button class=\"colab-df-convert\" onclick=\"convertToInteractive('df-1192f861-696e-40ba-b915-7943cb7696b9')\"\n",
              "            title=\"Convert this dataframe to an interactive table.\"\n",
              "            style=\"display:none;\">\n",
              "\n",
              "  <svg xmlns=\"http://www.w3.org/2000/svg\" height=\"24px\" viewBox=\"0 -960 960 960\">\n",
              "    <path d=\"M120-120v-720h720v720H120Zm60-500h600v-160H180v160Zm220 220h160v-160H400v160Zm0 220h160v-160H400v160ZM180-400h160v-160H180v160Zm440 0h160v-160H620v160ZM180-180h160v-160H180v160Zm440 0h160v-160H620v160Z\"/>\n",
              "  </svg>\n",
              "    </button>\n",
              "\n",
              "  <style>\n",
              "    .colab-df-container {\n",
              "      display:flex;\n",
              "      gap: 12px;\n",
              "    }\n",
              "\n",
              "    .colab-df-convert {\n",
              "      background-color: #E8F0FE;\n",
              "      border: none;\n",
              "      border-radius: 50%;\n",
              "      cursor: pointer;\n",
              "      display: none;\n",
              "      fill: #1967D2;\n",
              "      height: 32px;\n",
              "      padding: 0 0 0 0;\n",
              "      width: 32px;\n",
              "    }\n",
              "\n",
              "    .colab-df-convert:hover {\n",
              "      background-color: #E2EBFA;\n",
              "      box-shadow: 0px 1px 2px rgba(60, 64, 67, 0.3), 0px 1px 3px 1px rgba(60, 64, 67, 0.15);\n",
              "      fill: #174EA6;\n",
              "    }\n",
              "\n",
              "    .colab-df-buttons div {\n",
              "      margin-bottom: 4px;\n",
              "    }\n",
              "\n",
              "    [theme=dark] .colab-df-convert {\n",
              "      background-color: #3B4455;\n",
              "      fill: #D2E3FC;\n",
              "    }\n",
              "\n",
              "    [theme=dark] .colab-df-convert:hover {\n",
              "      background-color: #434B5C;\n",
              "      box-shadow: 0px 1px 3px 1px rgba(0, 0, 0, 0.15);\n",
              "      filter: drop-shadow(0px 1px 2px rgba(0, 0, 0, 0.3));\n",
              "      fill: #FFFFFF;\n",
              "    }\n",
              "  </style>\n",
              "\n",
              "    <script>\n",
              "      const buttonEl =\n",
              "        document.querySelector('#df-1192f861-696e-40ba-b915-7943cb7696b9 button.colab-df-convert');\n",
              "      buttonEl.style.display =\n",
              "        google.colab.kernel.accessAllowed ? 'block' : 'none';\n",
              "\n",
              "      async function convertToInteractive(key) {\n",
              "        const element = document.querySelector('#df-1192f861-696e-40ba-b915-7943cb7696b9');\n",
              "        const dataTable =\n",
              "          await google.colab.kernel.invokeFunction('convertToInteractive',\n",
              "                                                    [key], {});\n",
              "        if (!dataTable) return;\n",
              "\n",
              "        const docLinkHtml = 'Like what you see? Visit the ' +\n",
              "          '<a target=\"_blank\" href=https://colab.research.google.com/notebooks/data_table.ipynb>data table notebook</a>'\n",
              "          + ' to learn more about interactive tables.';\n",
              "        element.innerHTML = '';\n",
              "        dataTable['output_type'] = 'display_data';\n",
              "        await google.colab.output.renderOutput(dataTable, element);\n",
              "        const docLink = document.createElement('div');\n",
              "        docLink.innerHTML = docLinkHtml;\n",
              "        element.appendChild(docLink);\n",
              "      }\n",
              "    </script>\n",
              "  </div>\n",
              "\n",
              "\n",
              "<div id=\"df-7b126ea1-89c4-45a2-89ea-a835528a1393\">\n",
              "  <button class=\"colab-df-quickchart\" onclick=\"quickchart('df-7b126ea1-89c4-45a2-89ea-a835528a1393')\"\n",
              "            title=\"Suggest charts.\"\n",
              "            style=\"display:none;\">\n",
              "\n",
              "<svg xmlns=\"http://www.w3.org/2000/svg\" height=\"24px\"viewBox=\"0 0 24 24\"\n",
              "     width=\"24px\">\n",
              "    <g>\n",
              "        <path d=\"M19 3H5c-1.1 0-2 .9-2 2v14c0 1.1.9 2 2 2h14c1.1 0 2-.9 2-2V5c0-1.1-.9-2-2-2zM9 17H7v-7h2v7zm4 0h-2V7h2v10zm4 0h-2v-4h2v4z\"/>\n",
              "    </g>\n",
              "</svg>\n",
              "  </button>\n",
              "\n",
              "<style>\n",
              "  .colab-df-quickchart {\n",
              "      --bg-color: #E8F0FE;\n",
              "      --fill-color: #1967D2;\n",
              "      --hover-bg-color: #E2EBFA;\n",
              "      --hover-fill-color: #174EA6;\n",
              "      --disabled-fill-color: #AAA;\n",
              "      --disabled-bg-color: #DDD;\n",
              "  }\n",
              "\n",
              "  [theme=dark] .colab-df-quickchart {\n",
              "      --bg-color: #3B4455;\n",
              "      --fill-color: #D2E3FC;\n",
              "      --hover-bg-color: #434B5C;\n",
              "      --hover-fill-color: #FFFFFF;\n",
              "      --disabled-bg-color: #3B4455;\n",
              "      --disabled-fill-color: #666;\n",
              "  }\n",
              "\n",
              "  .colab-df-quickchart {\n",
              "    background-color: var(--bg-color);\n",
              "    border: none;\n",
              "    border-radius: 50%;\n",
              "    cursor: pointer;\n",
              "    display: none;\n",
              "    fill: var(--fill-color);\n",
              "    height: 32px;\n",
              "    padding: 0;\n",
              "    width: 32px;\n",
              "  }\n",
              "\n",
              "  .colab-df-quickchart:hover {\n",
              "    background-color: var(--hover-bg-color);\n",
              "    box-shadow: 0 1px 2px rgba(60, 64, 67, 0.3), 0 1px 3px 1px rgba(60, 64, 67, 0.15);\n",
              "    fill: var(--button-hover-fill-color);\n",
              "  }\n",
              "\n",
              "  .colab-df-quickchart-complete:disabled,\n",
              "  .colab-df-quickchart-complete:disabled:hover {\n",
              "    background-color: var(--disabled-bg-color);\n",
              "    fill: var(--disabled-fill-color);\n",
              "    box-shadow: none;\n",
              "  }\n",
              "\n",
              "  .colab-df-spinner {\n",
              "    border: 2px solid var(--fill-color);\n",
              "    border-color: transparent;\n",
              "    border-bottom-color: var(--fill-color);\n",
              "    animation:\n",
              "      spin 1s steps(1) infinite;\n",
              "  }\n",
              "\n",
              "  @keyframes spin {\n",
              "    0% {\n",
              "      border-color: transparent;\n",
              "      border-bottom-color: var(--fill-color);\n",
              "      border-left-color: var(--fill-color);\n",
              "    }\n",
              "    20% {\n",
              "      border-color: transparent;\n",
              "      border-left-color: var(--fill-color);\n",
              "      border-top-color: var(--fill-color);\n",
              "    }\n",
              "    30% {\n",
              "      border-color: transparent;\n",
              "      border-left-color: var(--fill-color);\n",
              "      border-top-color: var(--fill-color);\n",
              "      border-right-color: var(--fill-color);\n",
              "    }\n",
              "    40% {\n",
              "      border-color: transparent;\n",
              "      border-right-color: var(--fill-color);\n",
              "      border-top-color: var(--fill-color);\n",
              "    }\n",
              "    60% {\n",
              "      border-color: transparent;\n",
              "      border-right-color: var(--fill-color);\n",
              "    }\n",
              "    80% {\n",
              "      border-color: transparent;\n",
              "      border-right-color: var(--fill-color);\n",
              "      border-bottom-color: var(--fill-color);\n",
              "    }\n",
              "    90% {\n",
              "      border-color: transparent;\n",
              "      border-bottom-color: var(--fill-color);\n",
              "    }\n",
              "  }\n",
              "</style>\n",
              "\n",
              "  <script>\n",
              "    async function quickchart(key) {\n",
              "      const quickchartButtonEl =\n",
              "        document.querySelector('#' + key + ' button');\n",
              "      quickchartButtonEl.disabled = true;  // To prevent multiple clicks.\n",
              "      quickchartButtonEl.classList.add('colab-df-spinner');\n",
              "      try {\n",
              "        const charts = await google.colab.kernel.invokeFunction(\n",
              "            'suggestCharts', [key], {});\n",
              "      } catch (error) {\n",
              "        console.error('Error during call to suggestCharts:', error);\n",
              "      }\n",
              "      quickchartButtonEl.classList.remove('colab-df-spinner');\n",
              "      quickchartButtonEl.classList.add('colab-df-quickchart-complete');\n",
              "    }\n",
              "    (() => {\n",
              "      let quickchartButtonEl =\n",
              "        document.querySelector('#df-7b126ea1-89c4-45a2-89ea-a835528a1393 button');\n",
              "      quickchartButtonEl.style.display =\n",
              "        google.colab.kernel.accessAllowed ? 'block' : 'none';\n",
              "    })();\n",
              "  </script>\n",
              "</div>\n",
              "    </div>\n",
              "  </div>\n"
            ]
          },
          "metadata": {},
          "execution_count": 1662
        }
      ]
    },
    {
      "cell_type": "markdown",
      "source": [
        "\n",
        "\n",
        "*   t: Representa os tempos de falha.\n",
        "*   k: Indica o índice do sistema.\n",
        "*   c: Representa o número de ciclos de manutenção.\n",
        "*   n: Indica o número de falhas em cada ciclo de manutenção preventiva.\n",
        "*   s: Representa a severidade das manutenções preventivas em cada sistema.\n",
        "*   T: Indica os tempos das manutenções preventivas.\n",
        "\n"
      ],
      "metadata": {
        "id": "CaA-qPulJnW2"
      }
    },
    {
      "cell_type": "code",
      "source": [
        "# Cria as variaveis\n",
        "# tempos de falhas\n",
        "t = df['t']\n",
        "# indice do sistema\n",
        "k = df['k']\n",
        "m = k.drop_duplicates().shape[0]\n",
        "# Numero de ciclos de manutenção\n",
        "ck = df['c'].max()\n",
        "# Numero de falhas e severidade das manutenções preventivas em cada sistema\n",
        "n = []\n",
        "s = []\n",
        "for k in range(m):\n",
        "    n.append(list(df['n'][k * ck:(k + 1) * ck]))\n",
        "    s.append(list(df['s'][k * ck:(k + 1) * ck]))\n",
        "\n",
        "# Tempos das MP\n",
        "T = list(df['T'][:m])"
      ],
      "metadata": {
        "id": "osEXf1wsuIlP"
      },
      "execution_count": 1663,
      "outputs": []
    },
    {
      "cell_type": "code",
      "source": [
        "# Define a função objetivo para ótimização dos parametros lambda, beta, theta\n",
        "def objective(x):\n",
        "    #\n",
        "    # Solucao a ser avaliada x = [x1, x2, x3] = [lambda, beta, theta]\n",
        "    lamb = x[:, 0]\n",
        "    beta = x[:, 1]\n",
        "    theta = x[:, 2]\n",
        "\n",
        "    # Cria fator de melhoria\n",
        "\t# variável fator_melhoria definida como 'expo' no início do programa!\n",
        "    fator = execute_function(fator_melhoria, ck, m, s, theta)\n",
        "\n",
        "    cont = 0\n",
        "    fitness = 1\n",
        "\n",
        "    for k in range(0, m, 1):\n",
        "        prod = 1\n",
        "        for j in range(0, len(ck) if isinstance(ck, np.ndarray) else 1, 1):\n",
        "            nkj = int(n[k][j])\n",
        "            for i in range(0, nkj, 1):\n",
        "                prod = prod * (1/(lamb**beta)) * beta * (int(t[cont])-fator[k][j]*T[j])**(beta-1);\n",
        "                cont = cont + 1;\n",
        "\n",
        "        soma = 0\n",
        "        for l in range(0, len(ck) if isinstance(ck, np.ndarray) else 1, 1):\n",
        "            soma = soma + ((1/(lamb**beta))*(T[l+1]-fator[k][l]*T[l])**beta - (1/(lamb**beta))*(T[l]-fator[k][l]*T[l])**beta);\n",
        "\n",
        "        ans = np.exp(-soma)\n",
        "        fitness = fitness * prod * ans;\n",
        "\n",
        "    return -fitness"
      ],
      "metadata": {
        "id": "F548fs8JXJkK"
      },
      "execution_count": 1664,
      "outputs": []
    },
    {
      "cell_type": "code",
      "source": [
        "# Parâmetros do PSO\n",
        "num_particles = 50\n",
        "max_iterations = 100\n",
        "dimensions = 3\n",
        "options = {'c1': 0.5, 'c2': 0.3, 'w': 0.9}  # Opções do PSO\n",
        "\n",
        "# Limites inferiores e superiores para lamb, beta e theta\n",
        "lb = np.array([100, 1, 0])\n",
        "ub = np.array([150, 2, 1])\n",
        "bounds = (lb, ub)\n",
        "\n",
        "optimizer = GlobalBestPSO(n_particles=num_particles, dimensions=dimensions, options=options, bounds=bounds)\n",
        "\n",
        "# Define o enxame de partículas\n",
        "swarm = optimizer.swarm\n",
        "\n",
        "# Inicializar current_cost e pbest_cost com valores infinitos\n",
        "swarm.current_cost = np.full(swarm.position.shape[0], np.inf)\n",
        "swarm.pbest_cost = np.full(swarm.position.shape[0], np.inf)\n",
        "best_cost, best_position = optimizer.optimize(objective, iters=max_iterations)\n",
        "\n",
        "# Calcula mask_cost\n",
        "mask_cost = swarm.current_cost < swarm.pbest_cost\n",
        "\n",
        "# Atualiza pbest\n",
        "swarm.pbest_cost = np.where(mask_cost, swarm.current_cost, swarm.pbest_cost)\n",
        "swarm.pbest_pos = np.where(mask_cost[:, np.newaxis], swarm.position, swarm.pbest_pos)\n",
        "\n",
        "print(\"\")\n",
        "print(\"Melhores valores para λ, β, θ :\", best_position)"
      ],
      "metadata": {
        "id": "sdZ_xrssxPjt",
        "colab": {
          "base_uri": "https://localhost:8080/"
        },
        "outputId": "cf0a230e-3c60-4a56-8b9f-561f8fbf9521"
      },
      "execution_count": 1665,
      "outputs": [
        {
          "output_type": "stream",
          "name": "stderr",
          "text": [
            "2023-10-22 00:26:42,958 - pyswarms.single.global_best - INFO - Optimize for 100 iters with {'c1': 0.5, 'c2': 0.3, 'w': 0.9}\n",
            "pyswarms.single.global_best: 100%|██████████|100/100, best_cost=-.0846\n",
            "2023-10-22 00:26:43,267 - pyswarms.single.global_best - INFO - Optimization finished | best cost: -0.08458294572616092, best pos: [149.1333434    1.00083456   0.65323625]\n"
          ]
        },
        {
          "output_type": "stream",
          "name": "stdout",
          "text": [
            "\n",
            "Melhores valores para λ, β, θ : [149.1333434    1.00083456   0.65323625]\n"
          ]
        }
      ]
    },
    {
      "cell_type": "code",
      "source": [
        "# Criação de variáveis para os parâmetros\n",
        "lamb, beta, theta = best_position\n",
        "print('lamb:', lamb)\n",
        "print('beta:', beta)\n",
        "print('theta:', theta)"
      ],
      "metadata": {
        "colab": {
          "base_uri": "https://localhost:8080/"
        },
        "id": "NaosdejV9bWw",
        "outputId": "15dac072-4d96-4d00-834a-53ca50ca4b76"
      },
      "execution_count": 1666,
      "outputs": [
        {
          "output_type": "stream",
          "name": "stdout",
          "text": [
            "lamb: 149.13334340187373\n",
            "beta: 1.0008345615005512\n",
            "theta: 0.6532362489521314\n"
          ]
        }
      ]
    },
    {
      "cell_type": "code",
      "source": [
        "beta = beta*5\n",
        "solucao = [lamb, beta, theta]\n",
        "\n",
        "# Cria a instância da classe IntensidadeFalha\n",
        "intensidadeFalha = IntensidadeFalha()\n",
        "\n",
        "# Inicializa a instância com os valores necessários\n",
        "falha = intensidadeFalha.inicio(T, execute_function(fator_melhoria, ck, m, s, theta), solucao)\n",
        "\n",
        "# Cria os dados da intensidade de falha\n",
        "intensidadeFalha.create()\n",
        "\n",
        "# Plota o gráfico da intensidade de falha\n",
        "intensidadeFalha.plotar()\n",
        "\n",
        "fator = execute_function(fator_melhoria, ck, m, s, theta)\n",
        "print('Fator ajuste: ', fator[0])\n",
        "\n",
        "last_value_fator_ajuste = fator[0][-1]\n",
        "\n",
        "time_duration = 1\n",
        "time.sleep(time_duration)"
      ],
      "metadata": {
        "id": "grvISRd2_HkE",
        "outputId": "4936eb76-70a7-49c2-b6cd-ec8b69cba2fe",
        "colab": {
          "base_uri": "https://localhost:8080/",
          "height": 417
        }
      },
      "execution_count": 1667,
      "outputs": [
        {
          "output_type": "display_data",
          "data": {
            "text/plain": [
              "<Figure size 2000x500 with 1 Axes>"
            ],
            "image/png": "[encoded data removed]"
          },
          "metadata": {}
        },
        {
          "output_type": "stream",
          "name": "stdout",
          "text": [
            "Fator ajuste:  [0.4796409625107464, 0.4796409625107464, 0.4796409625107464, 0.4796409625107464, 0.4796409625107464, 0.27864084015710067, 0.27864084015710067, 0.4796409625107464, 0.27864084015710067, 0.4796409625107464, 0.27864084015710067, 0.4796409625107464, 0.4796409625107464, 0.4796409625107464]\n"
          ]
        }
      ]
    },
    {
      "cell_type": "code",
      "source": [
        "# Função objetivo para otimização da politica de manutenção\n",
        "# Numero de ciclos determinado pela solução\n",
        "# Solução com 24 valores reais\n",
        "# Solucao a ser avaliada X = [x1, ..., x24]\n",
        "def objective_st(x):\n",
        "\n",
        "    # Dicionario para severidades\n",
        "    dict_severidades = {1: 0.25, 3: 0.50, 5: 0.75, 7: 1.0}\n",
        "\n",
        "    results = [] # Lista para armazenar os resultados das funções objetivo\n",
        "\n",
        "\n",
        "    # No PSO, como cada particula é um vetor de dimenções definidas, é\n",
        "    # Necessario interar sobre o vetor de particulas\n",
        "    for particle in x:\n",
        "        T = [0]\n",
        "        s_row = []\n",
        "        cont = 0\n",
        "\n",
        "        for number in particle:\n",
        "            modulo = int(number) % 2\n",
        "            if modulo == 1:\n",
        "                inteiro = int(number)\n",
        "                s_row.append(dict_severidades[inteiro])  # Severidade\n",
        "                frac = number - inteiro  # Tempo\n",
        "                t = (cont + frac) * 30\n",
        "                T.append(int(t))\n",
        "            cont += 1\n",
        "\n",
        "    s = []\n",
        "    for row in range(m):\n",
        "        s.append(s_row)\n",
        "\n",
        "    # A partir da solução define o número de ciclos\n",
        "    # A variável m é o número de sistemas em análise: em nosso exemplo m = 4\n",
        "    # Para novos dados esse parâmetro deve ser ajustado\n",
        "    # m = 4\n",
        "    ck = len(T) - 1\n",
        "\n",
        "    print(\"\")\n",
        "    print(\"=========================================================================\")\n",
        "    print(\"\")\n",
        "    print('Número de ciclos de manutenção:', ck, m)\n",
        "    print('Tempos para manutenções preventivas:', T)\n",
        "    print('Severidade para cada subsistema:', s[0])\n",
        "    print(\"Número de Sisemas:\", m)\n",
        "\n",
        "    if ck == 0:\n",
        "        return MAX_VALUE_CUSTO\n",
        "\n",
        "    # O modelo já está ajustado\n",
        "    # Utilizado para avaliar a solução candidata\n",
        "\n",
        "    # Cria fator de meloria a partir da solução\n",
        "    fact = execute_function(fator_melhoria, ck, m, s, theta)\n",
        "    fator = [last_value_fator_ajuste] + list(fact[0])\n",
        "\n",
        "    print('Fator: ', fator)\n",
        "\n",
        "    # Numero esperado de falhas (NEF) em cada ciclo\n",
        "    termos_somatorio = [((1/(lamb**beta)) * (T[1]**beta))]\n",
        "    numero_medio_falhas = [0, ((1/(lamb**beta)) * (T[1]**beta))]\n",
        "\n",
        "    for i in range(ck-1):\n",
        "        termo = (((T[i+2]-fator[i]*T[i+1])**beta) - (((1-fator[i])*T[i+1])**beta)) * (1/(lamb**beta))\n",
        "        termos_somatorio.append(termo)\n",
        "        numero_medio_falhas.append(sum(termos_somatorio))\n",
        "\n",
        "    # Número médio de falhas até o final do período: 2 anos\n",
        "    final = DIAS_OBSERVADOS\n",
        "    termo = (((final-fator[ck-1]*T[ck])**beta) - (((1-fator[ck-1])*T[ck])**beta)) * (1/(lamb**beta))\n",
        "    termos_somatorio.append(termo)\n",
        "    numero_medio_falhas.append(sum(termos_somatorio))\n",
        "\n",
        "    mi = numero_medio_falhas\n",
        "\n",
        "    print('Media de falhas: ', mi)\n",
        "\n",
        "    Ctotal =  []\n",
        "\n",
        "    for i in range(ck):\n",
        "        cmp = custo_mp(s[0][i], CMP)\n",
        "        Ctotal.append((cmp + (mi[i+1] - mi[i])*CMC)/(T[i+1]-T[i]))\n",
        "\n",
        "    cmp = custo_mp(s[0][ck-1], CMP)\n",
        "    Ctotal.append((cmp + (mi[ck+1] - mi[ck])*CMC)/(final-T[ck]))\n",
        "\n",
        "    # Custo Total\n",
        "    Custo = np.sum(Ctotal)\n",
        "    results.append(Custo) # Adicione o valor da função objetivo à lista de resultados\n",
        "    print('Custo = ', Custo)\n",
        "\n",
        "    # Retorne os resultados da função objetivo como um array\n",
        "    return np.array(results)"
      ],
      "metadata": {
        "id": "-JuqM09rWWBJ"
      },
      "execution_count": 1668,
      "outputs": []
    },
    {
      "cell_type": "code",
      "source": [
        "num_particles = 100\n",
        "max_iterations = 100\n",
        "dimensions = 24\n",
        "options = {'c1': 0.5, 'c2': 0.3, 'w': 0.9}\n",
        "\n",
        "max_bound = np.array([7.0] * dimensions)  # Limite superior dos valores em x\n",
        "min_bound = np.array([0.0] * dimensions)   # Limite inferior dos valores em x\n",
        "bounds = (min_bound, max_bound)\n",
        "\n",
        "optimizer = GlobalBestPSO(n_particles=num_particles, dimensions=dimensions, options=options, bounds=bounds)\n",
        "\n",
        "# Inicializar current_cost e pbest_cost com valores infinitos\n",
        "optimizer.swarm.current_cost = np.full(optimizer.swarm.position.shape[0], np.inf)\n",
        "optimizer.swarm.pbest_cost = np.full(optimizer.swarm.position.shape[0], np.inf)\n",
        "best_cost, best_position = optimizer.optimize(objective_st, iters=max_iterations)\n",
        "\n",
        "# Agora, você pode calcular os outros valores relacionados à melhor solução\n",
        "# Primeiro, você precisa transformar a melhor posição em uma lista (se necessário)\n",
        "best_position_list = best_position.tolist()\n",
        "\n",
        "pbest_cost = optimizer.swarm.pbest_cost\n",
        "\n",
        "gbest_cost = optimizer.cost_history[-1]  # O último valor registrado no histórico de custos\n",
        "\n",
        "best_positions = []  # Lista para armazenar todas as melhores posições\n",
        "\n",
        "# Loop de iterações do PSO\n",
        "for i in range(max_iterations):\n",
        "    best_cost, best_position = optimizer.optimize(objective_st, iters=1)\n",
        "    pbest_cost = optimizer.swarm.pbest_cost\n",
        "    best_positions.append(best_position)\n",
        "\n",
        "# Converter a lista de melhores posições em um array numpy para facilitar a manipulação\n",
        "best_positions = np.array(best_positions)"
      ],
      "metadata": {
        "colab": {
          "base_uri": "https://localhost:8080/"
        },
        "id": "cePW2Ji6gjmC",
        "outputId": "8e641bfc-1654-4c57-dd84-d627f0c95b85"
      },
      "execution_count": 1669,
      "outputs": [
        {
          "output_type": "stream",
          "name": "stderr",
          "text": [
            "2023-10-22 00:26:44,886 - pyswarms.single.global_best - INFO - Optimize for 100 iters with {'c1': 0.5, 'c2': 0.3, 'w': 0.9}\n",
            "pyswarms.single.global_best:   8%|▊         |8/100, best_cost=1.53e+5"
          ]
        },
        {
          "output_type": "stream",
          "name": "stdout",
          "text": [
            "\n",
            "=========================================================================\n",
            "\n",
            "Número de ciclos de manutenção: 11 2\n",
            "Tempos para manutenções preventivas: [0, 79, 115, 129, 214, 262, 358, 521, 563, 621, 655, 668]\n",
            "Severidade para cada subsistema: [0.5, 0.25, 0.5, 0.75, 0.5, 0.5, 0.25, 0.25, 0.75, 0.25, 0.5]\n",
            "Número de Sisemas: 2\n",
            "Fator:  [0.4796409625107464, 0.27864084015710067, 0.15067134756744527, 0.27864084015710067, 0.3873289968507504, 0.27864084015710067, 0.27864084015710067, 0.15067134756744527, 0.15067134756744527, 0.3873289968507504, 0.15067134756744527, 0.27864084015710067]\n",
            "Media de falhas:  [0, 0.04160161668923838, 0.07686882517334495, 0.13968053614299303, 3.7096110457006426, 7.128078412029353, 20.773809182335118, 185.75615456427425, 257.09456117603816, 520.4633596727521, 724.5950196447199, 749.0987839557906, 1294.260245846665]\n",
            "Custo =  364274.8015633718\n",
            "\n",
            "=========================================================================\n",
            "\n",
            "Número de ciclos de manutenção: 10 2\n",
            "Tempos para manutenções preventivas: [0, 81, 142, 187, 288, 316, 348, 369, 529, 606, 631]\n",
            "Severidade para cada subsistema: [0.5, 0.5, 0.75, 0.25, 0.25, 0.5, 0.5, 0.25, 0.75, 0.5]\n",
            "Número de Sisemas: 2\n",
            "Fator:  [0.4796409625107464, 0.27864084015710067, 0.27864084015710067, 0.3873289968507504, 0.15067134756744527, 0.15067134756744527, 0.27864084015710067, 0.27864084015710067, 0.15067134756744527, 0.3873289968507504, 0.27864084015710067]\n",
            "Media de falhas:  [0, 0.04714603281517899, 0.2033987490505618, 0.9949995257326271, 10.310503675913003, 12.838981253778828, 27.166490446223243, 39.73451047206581, 213.00318330620692, 379.14950732340446, 510.99194114819954, 761.2880646792114]\n",
            "Custo =  185538.52840310146\n",
            "\n",
            "=========================================================================\n",
            "\n",
            "Número de ciclos de manutenção: 10 2\n",
            "Tempos para manutenções preventivas: [0, 5, 49, 82, 160, 190, 302, 386, 417, 475, 713]\n",
            "Severidade para cada subsistema: [0.75, 0.25, 0.5, 0.75, 0.75, 0.5, 0.5, 0.5, 0.25, 0.75]\n",
            "Número de Sisemas: 2\n",
            "Fator:  [0.4796409625107464, 0.3873289968507504, 0.15067134756744527, 0.27864084015710067, 0.3873289968507504, 0.3873289968507504, 0.27864084015710067, 0.27864084015710067, 0.27864084015710067, 0.15067134756744527, 0.3873289968507504]\n",
            "Media de falhas:  [0, 4.176601192142946e-08, 0.0029650864567666237, 0.01606399884279374, 0.944968056250595, 1.5490039637851996, 9.701648080363485, 25.90947367730692, 41.741155800284375, 89.17066769076646, 924.7212276748571, 1089.7327696419661]\n",
            "Custo =  226783.32196534163\n",
            "\n",
            "=========================================================================\n",
            "\n",
            "Número de ciclos de manutenção: 9 2\n",
            "Tempos para manutenções preventivas: [0, 35, 79, 125, 163, 182, 550, 609, 638, 695]\n",
            "Severidade para cada subsistema: [0.25, 0.5, 0.75, 0.75, 0.75, 0.75, 0.5, 0.75, 0.75]\n",
            "Número de Sisemas: 2\n",
            "Fator:  [0.4796409625107464, 0.15067134756744527, 0.27864084015710067, 0.3873289968507504, 0.3873289968507504, 0.3873289968507504, 0.3873289968507504, 0.27864084015710067, 0.3873289968507504, 0.3873289968507504]\n",
            "Media de falhas:  [0, 0.0007076844283161163, 0.013268053458316003, 0.24543601638588658, 0.6333792169069397, 0.8203161197065795, 345.90040759545525, 419.30081500654154, 464.0117831812301, 687.2158775060498, 779.6158018074564]\n",
            "Custo =  156996.0163155675\n",
            "\n",
            "=========================================================================\n",
            "\n",
            "Número de ciclos de manutenção: 12 2\n",
            "Tempos para manutenções preventivas: [0, 11, 75, 110, 148, 165, 223, 306, 350, 407, 464, 521, 659]\n",
            "Severidade para cada subsistema: [0.5, 0.5, 0.75, 0.75, 0.75, 0.75, 0.75, 0.25, 0.75, 0.5, 0.5, 0.75]\n",
            "Número de Sisemas: 2\n",
            "Fator:  [0.4796409625107464, 0.27864084015710067, 0.27864084015710067, 0.3873289968507504, 0.3873289968507504, 0.3873289968507504, 0.3873289968507504, 0.3873289968507504, 0.15067134756744527, 0.3873289968507504, 0.27864084015710067, 0.27864084015710067, 0.3873289968507504]\n",
            "Media de falhas:  [0, 2.1595600069852454e-06, 0.022268902238021217, 0.09197972032588031, 0.35081763812877537, 0.4638326940647232, 1.7028216558923168, 7.995856250590058, 13.878663318493235, 27.746674306183063, 104.71867636915951, 142.45880912515088, 528.4663873310358, 861.4288817489364]\n",
            "Custo =  152633.07324173834\n",
            "\n",
            "=========================================================================\n",
            "\n",
            "Número de ciclos de manutenção: 11 2\n",
            "Tempos para manutenções preventivas: [0, 72, 133, 166, 205, 220, 316, 340, 421, 480, 623, 684]\n",
            "Severidade para cada subsistema: [0.5, 0.75, 0.75, 0.5, 0.25, 0.75, 0.25, 0.25, 0.75, 0.25, 0.25]\n",
            "Número de Sisemas: 2\n",
            "Fator:  [0.4796409625107464, 0.27864084015710067, 0.3873289968507504, 0.3873289968507504, 0.27864084015710067, 0.15067134756744527, 0.3873289968507504, 0.15067134756744527, 0.15067134756744527, 0.3873289968507504, 0.15067134756744527, 0.15067134756744527]\n",
            "Media de falhas:  [0, 0.02614984339217043, 0.15041192255257668, 0.5232763404575059, 1.123391470687098, 1.444595360401732, 14.642052317814365, 24.768167865124525, 46.99441793438888, 138.2409664081112, 675.1538890456904, 796.43172604694, 1215.2152999341536]\n",
            "Custo =  260542.97117113217\n",
            "\n",
            "=========================================================================\n",
            "\n",
            "Número de ciclos de manutenção: 13 2\n",
            "Tempos para manutenções preventivas: [0, 28, 70, 94, 165, 192, 230, 319, 340, 415, 485, 608, 674, 699]\n",
            "Severidade para cada subsistema: [0.25, 0.5, 0.5, 0.75, 0.5, 0.75, 0.75, 0.25, 0.75, 0.75, 0.25, 0.5, 0.25]\n",
            "Número de Sisemas: 2\n",
            "Fator:  [0.4796409625107464, 0.15067134756744527, 0.27864084015710067, 0.27864084015710067, 0.3873289968507504, 0.27864084015710067, 0.3873289968507504, 0.3873289968507504, 0.15067134756744527, 0.3873289968507504, 0.3873289968507504, 0.15067134756744527, 0.27864084015710067, 0.15067134756744527]\n",
            "Media de falhas:  [0, 0.00023167820929635553, 0.00804458675087916, 0.05275133034056974, 0.7317197042028181, 1.3081433938752944, 2.2410845280250475, 15.159715879362544, 17.73901049907289, 37.22228373927335, 146.44126199647707, 293.1862647747098, 416.36279052561537, 616.2294299735067, 770.7434362121094]\n",
            "Custo =  274507.5618373686\n",
            "\n",
            "=========================================================================\n",
            "\n",
            "Número de ciclos de manutenção: 11 2\n",
            "Tempos para manutenções preventivas: [0, 24, 67, 146, 163, 183, 348, 414, 490, 551, 572, 601]\n",
            "Severidade para cada subsistema: [0.25, 0.5, 0.5, 0.75, 0.5, 0.25, 0.5, 0.75, 0.25, 0.75, 0.25]\n",
            "Número de Sisemas: 2\n",
            "Fator:  [0.4796409625107464, 0.15067134756744527, 0.27864084015710067, 0.27864084015710067, 0.3873289968507504, 0.27864084015710067, 0.15067134756744527, 0.27864084015710067, 0.3873289968507504, 0.15067134756744527, 0.3873289968507504, 0.15067134756744527]\n",
            "Media de falhas:  [0, 0.00010712032546573579, 0.007204609265673764, 0.6274025401127988, 0.8228814880761546, 1.1865259102844776, 23.158198346562756, 53.16762978098571, 174.72987770965108, 266.1698682106273, 287.19459608910944, 411.29076002866805, 733.216910080819]\n",
            "Custo =  174551.84500098205\n",
            "\n",
            "=========================================================================\n",
            "\n",
            "Número de ciclos de manutenção: 14 2\n",
            "Tempos para manutenções preventivas: [0, 35, 65, 118, 132, 160, 182, 210, 357, 475, 491, 554, 617, 659, 690]\n",
            "Severidade para cada subsistema: [0.25, 0.5, 0.25, 0.5, 0.75, 0.5, 0.25, 0.25, 0.5, 0.75, 0.75, 0.25, 0.75, 0.25]\n",
            "Número de Sisemas: 2\n",
            "Fator:  [0.4796409625107464, 0.15067134756744527, 0.27864084015710067, 0.15067134756744527, 0.27864084015710067, 0.3873289968507504, 0.27864084015710067, 0.15067134756744527, 0.15067134756744527, 0.27864084015710067, 0.3873289968507504, 0.3873289968507504, 0.15067134756744527, 0.3873289968507504, 0.15067134756744527]\n",
            "Media de falhas:  [0, 0.0007076844283161163, 0.004195400252145933, 0.19809364639721505, 0.26713955989714605, 0.7591143615559736, 1.1457998215359038, 1.6285007467525443, 32.75768334393026, 178.42403683644724, 209.68016316901367, 305.89363327487547, 388.271240092673, 461.1946622347269, 693.0391458522281, 798.204034692452]\n",
            "Custo =  274713.7868270287\n",
            "\n",
            "=========================================================================\n",
            "\n",
            "Número de ciclos de manutenção: 12 2\n",
            "Tempos para manutenções preventivas: [0, 14, 43, 63, 157, 192, 323, 413, 446, 490, 527, 639, 700]\n",
            "Severidade para cada subsistema: [0.5, 0.25, 0.5, 0.75, 0.5, 0.25, 0.25, 0.25, 0.75, 0.5, 0.75, 0.25]\n",
            "Número de Sisemas: 2\n",
            "Fator:  [0.4796409625107464, 0.27864084015710067, 0.15067134756744527, 0.27864084015710067, 0.3873289968507504, 0.27864084015710067, 0.15067134756744527, 0.15067134756744527, 0.15067134756744527, 0.3873289968507504, 0.27864084015710067, 0.3873289968507504, 0.15067134756744527]\n",
            "Media de falhas:  [0, 7.219033700132119e-06, 0.0008545659067307164, 0.0051325028055378506, 0.9458413146026543, 1.664380756058545, 14.26693583268243, 52.752259843192384, 93.80240361362829, 171.61187102213518, 261.9386146527146, 426.0047613291998, 670.4623767927716, 749.9998338492162]\n",
            "Custo =  213459.58946266654\n",
            "\n",
            "=========================================================================\n",
            "\n",
            "Número de ciclos de manutenção: 12 2\n",
            "Tempos para manutenções preventivas: [0, 41, 67, 99, 140, 156, 203, 318, 402, 488, 606, 674, 705]\n",
            "Severidade para cada subsistema: [0.25, 0.5, 0.5, 0.5, 0.75, 0.5, 0.25, 0.25, 0.75, 0.5, 0.5, 0.25]\n",
            "Número de Sisemas: 2\n",
            "Fator:  [0.4796409625107464, 0.15067134756744527, 0.27864084015710067, 0.27864084015710067, 0.27864084015710067, 0.3873289968507504, 0.27864084015710067, 0.15067134756744527, 0.15067134756744527, 0.3873289968507504, 0.27864084015710067, 0.27864084015710067, 0.15067134756744527]\n",
            "Media de falhas:  [0, 0.0015620877956197732, 0.004708521295053171, 0.07178345079198936, 0.289747886332014, 0.4443551184686466, 1.6011742462403413, 11.872692924720894, 44.3536208189091, 175.48760856897883, 592.3064075701857, 719.0375866815667, 853.1941499762993, 979.0030797613749]\n",
            "Custo =  253658.7886110624\n",
            "\n",
            "=========================================================================\n",
            "\n",
            "Número de ciclos de manutenção: 11 2\n",
            "Tempos para manutenções preventivas: [0, 11, 42, 73, 123, 156, 237, 427, 482, 559, 610, 714]\n",
            "Severidade para cada subsistema: [0.75, 0.25, 0.5, 0.75, 0.75, 0.25, 0.5, 0.75, 0.5, 0.5, 0.25]\n",
            "Número de Sisemas: 2\n",
            "Fator:  [0.4796409625107464, 0.3873289968507504, 0.15067134756744527, 0.27864084015710067, 0.3873289968507504, 0.3873289968507504, 0.15067134756744527, 0.27864084015710067, 0.3873289968507504, 0.27864084015710067, 0.27864084015710067, 0.15067134756744527]\n",
            "Media de falhas:  [0, 2.1595600069852454e-06, 0.0009022658797417226, 0.008684994573588404, 0.2349358596723594, 0.5225432593801225, 2.74325100390855, 59.430054855608184, 147.1011049151656, 266.08202928267355, 330.371536988694, 755.2324434724558, 836.934030215162]\n",
            "Custo =  211386.27641473664\n",
            "\n",
            "=========================================================================\n",
            "\n",
            "Número de ciclos de manutenção: 11 2\n",
            "Tempos para manutenções preventivas: [0, 8, 39, 80, 93, 159, 305, 359, 422, 555, 609, 664]\n",
            "Severidade para cada subsistema: [0.75, 0.25, 0.5, 0.75, 0.75, 0.5, 0.25, 0.5, 0.25, 0.5, 0.25]\n",
            "Número de Sisemas: 2\n",
            "Fator:  [0.4796409625107464, 0.3873289968507504, 0.15067134756744527, 0.27864084015710067, 0.3873289968507504, 0.3873289968507504, 0.27864084015710067, 0.15067134756744527, 0.27864084015710067, 0.15067134756744527, 0.27864084015710067, 0.15067134756744527]\n",
            "Media de falhas:  [0, 4.3880813952869946e-07, 0.0007247405639820086, 0.01616696636310612, 0.043589495582213526, 0.5909332242783014, 12.079974930341812, 20.000316444742634, 51.22750530084051, 361.17756001749177, 484.87926619918323, 816.8834390307904, 1128.6733157336657]\n",
            "Custo =  244754.52264466122\n",
            "\n",
            "=========================================================================\n",
            "\n",
            "Número de ciclos de manutenção: 9 2\n",
            "Tempos para manutenções preventivas: [0, 36, 80, 164, 347, 403, 462, 515, 633, 682]\n",
            "Severidade para cada subsistema: [0.25, 0.5, 0.75, 0.25, 0.5, 0.5, 0.5, 0.75, 0.25]\n",
            "Número de Sisemas: 2\n",
            "Fator:  [0.4796409625107464, 0.15067134756744527, 0.27864084015710067, 0.3873289968507504, 0.15067134756744527, 0.27864084015710067, 0.27864084015710067, 0.27864084015710067, 0.3873289968507504, 0.15067134756744527]\n",
            "Media de falhas:  [0, 0.0008148224266520397, 0.013906865184216069, 1.092360537192404, 34.53969355499469, 47.64127997632252, 125.36590322783424, 186.47715821789453, 473.0517835633983, 652.9573975720783, 778.3571606107855]\n",
            "Custo =  174893.13397196066\n",
            "\n",
            "=========================================================================\n",
            "\n",
            "Número de ciclos de manutenção: 13 2\n",
            "Tempos para manutenções preventivas: [0, 19, 34, 75, 131, 167, 211, 342, 427, 477, 534, 543, 647, 691]\n",
            "Severidade para cada subsistema: [0.5, 0.25, 0.5, 0.25, 0.75, 0.75, 0.25, 0.25, 0.5, 0.5, 0.5, 0.75, 0.5]\n",
            "Número de Sisemas: 2\n",
            "Fator:  [0.4796409625107464, 0.27864084015710067, 0.15067134756744527, 0.27864084015710067, 0.15067134756744527, 0.3873289968507504, 0.3873289968507504, 0.15067134756744527, 0.15067134756744527, 0.27864084015710067, 0.27864084015710067, 0.27864084015710067, 0.3873289968507504, 0.27864084015710067]\n",
            "Media de falhas:  [0, 3.327823747272426e-05, 0.00016046044226791307, 0.016360721768899616, 0.335000779216569, 0.745793131930755, 2.9751977329704444, 18.714857418442516, 43.36430973567225, 120.91510413499384, 259.42812643936884, 273.56994614296065, 555.8182349035155, 727.6334570377732, 830.2528879288527]\n",
            "Custo =  231237.24646009406\n"
          ]
        },
        {
          "output_type": "stream",
          "name": "stderr",
          "text": [
            "pyswarms.single.global_best:  24%|██▍       |24/100, best_cost=1.09e+5"
          ]
        },
        {
          "output_type": "stream",
          "name": "stdout",
          "text": [
            "\n",
            "=========================================================================\n",
            "\n",
            "Número de ciclos de manutenção: 10 2\n",
            "Tempos para manutenções preventivas: [0, 68, 119, 140, 169, 215, 305, 351, 622, 658, 690]\n",
            "Severidade para cada subsistema: [0.5, 0.5, 0.5, 0.75, 0.5, 0.5, 0.25, 0.25, 0.75, 0.5]\n",
            "Número de Sisemas: 2\n",
            "Fator:  [0.4796409625107464, 0.27864084015710067, 0.27864084015710067, 0.27864084015710067, 0.3873289968507504, 0.27864084015710067, 0.27864084015710067, 0.15067134756744527, 0.15067134756744527, 0.3873289968507504, 0.27864084015710067]\n",
            "Media de falhas:  [0, 0.019644799001198754, 0.08395729455062406, 0.2093802866243097, 0.5700492684700126, 2.015508238007146, 8.754499671950855, 19.855635307498396, 545.0759917712332, 764.2187578609758, 1002.9838520899754, 1108.1487409301992]\n",
            "Custo =  278734.6470913803\n",
            "\n",
            "=========================================================================\n",
            "\n",
            "Número de ciclos de manutenção: 8 2\n",
            "Tempos para manutenções preventivas: [0, 62, 95, 170, 208, 235, 322, 552, 612]\n",
            "Severidade para cada subsistema: [0.5, 0.5, 0.75, 0.5, 0.25, 0.25, 0.75, 0.25]\n",
            "Número de Sisemas: 2\n",
            "Fator:  [0.4796409625107464, 0.27864084015710067, 0.27864084015710067, 0.3873289968507504, 0.27864084015710067, 0.15067134756744527, 0.15067134756744527, 0.3873289968507504, 0.15067134756744527]\n",
            "Media de falhas:  [0, 0.012373543006436758, 0.027896092427209158, 0.8330500979156316, 1.9075431307352222, 2.643285922456444, 15.835318442392865, 435.86141056612814, 690.9817982949035, 986.7055414767934]\n",
            "Custo =  132694.07103111877\n",
            "\n",
            "=========================================================================\n",
            "\n",
            "Número de ciclos de manutenção: 8 2\n",
            "Tempos para manutenções preventivas: [0, 118, 148, 170, 198, 481, 567, 570, 604]\n",
            "Severidade para cada subsistema: [0.25, 0.25, 0.75, 0.5, 0.75, 0.75, 0.75, 0.25]\n",
            "Número de Sisemas: 2\n",
            "Fator:  [0.4796409625107464, 0.15067134756744527, 0.15067134756744527, 0.3873289968507504, 0.27864084015710067, 0.3873289968507504, 0.3873289968507504, 0.3873289968507504, 0.15067134756744527]\n",
            "Media de falhas:  [0, 0.309821762683067, 0.3843367322960418, 0.9120656247888308, 2.126423863015205, 148.832430252061, 287.6077670680223, 290.6337228979157, 332.45700095357677, 647.2400410124231]\n",
            "Custo =  109151.90170863555\n",
            "\n",
            "=========================================================================\n",
            "\n",
            "Número de ciclos de manutenção: 12 2\n",
            "Tempos para manutenções preventivas: [0, 29, 33, 171, 191, 220, 447, 486, 563, 576, 603, 654, 718]\n",
            "Severidade para cada subsistema: [0.25, 0.25, 0.75, 0.5, 0.75, 0.25, 0.75, 0.75, 0.75, 0.25, 0.75, 0.25]\n",
            "Número de Sisemas: 2\n",
            "Fator:  [0.4796409625107464, 0.15067134756744527, 0.15067134756744527, 0.3873289968507504, 0.27864084015710067, 0.3873289968507504, 0.15067134756744527, 0.3873289968507504, 0.3873289968507504, 0.3873289968507504, 0.15067134756744527, 0.3873289968507504, 0.15067134756744527]\n",
            "Media de falhas:  [0, 0.000276152267749812, 0.0002997234910609138, 1.710969812970758, 2.5055207542037934, 3.1081735338855414, 117.91241449566638, 137.73717469919458, 358.5438495143993, 372.05296894591817, 405.27656187322253, 490.49568845611805, 1013.6329153789867, 1045.9716842009393]\n",
            "Custo =  284634.8008539081\n",
            "\n",
            "=========================================================================\n",
            "\n",
            "Número de ciclos de manutenção: 13 2\n",
            "Tempos para manutenções preventivas: [0, 38, 146, 171, 191, 217, 335, 392, 490, 545, 580, 606, 649, 704]\n",
            "Severidade para cada subsistema: [0.25, 0.75, 0.75, 0.5, 0.25, 0.5, 0.25, 0.75, 0.75, 0.75, 0.25, 0.75, 0.25]\n",
            "Número de Sisemas: 2\n",
            "Fator:  [0.4796409625107464, 0.15067134756744527, 0.3873289968507504, 0.3873289968507504, 0.27864084015710067, 0.15067134756744527, 0.27864084015710067, 0.15067134756744527, 0.3873289968507504, 0.3873289968507504, 0.3873289968507504, 0.15067134756744527, 0.3873289968507504, 0.15067134756744527]\n",
            "Media de falhas:  [0, 0.001067988152774315, 0.4624006839789902, 1.0608685961977649, 1.2995638422154734, 1.8134335062249205, 21.73349311280495, 59.59152610673551, 143.94939190331718, 290.2933891199932, 326.80824487971614, 359.4815160101713, 429.60689030356417, 852.3704031580021, 921.5439485654437]\n",
            "Custo =  282528.73141064064\n",
            "\n",
            "=========================================================================\n",
            "\n",
            "Número de ciclos de manutenção: 14 2\n",
            "Tempos para manutenções preventivas: [0, 46, 117, 171, 198, 234, 336, 397, 474, 491, 583, 616, 645, 680, 696]\n",
            "Severidade para cada subsistema: [0.25, 0.5, 0.75, 0.5, 0.5, 0.5, 0.25, 0.5, 0.75, 0.75, 0.25, 0.75, 0.75, 0.25]\n",
            "Número de Sisemas: 2\n",
            "Fator:  [0.4796409625107464, 0.15067134756744527, 0.27864084015710067, 0.3873289968507504, 0.27864084015710067, 0.27864084015710067, 0.27864084015710067, 0.15067134756744527, 0.27864084015710067, 0.3873289968507504, 0.3873289968507504, 0.15067134756744527, 0.3873289968507504, 0.3873289968507504, 0.15067134756744527]\n",
            "Media de falhas:  [0, 0.0027783301120600586, 0.10701823703377297, 1.1264237932276318, 1.7811743900566923, 2.7315046570560693, 20.662400117866028, 44.240348238687076, 104.26443714121996, 137.36458995483704, 302.3547556132669, 346.345830634293, 393.067959252339, 637.3790756086946, 672.8416508067447, 762.6770591213002]\n",
            "Custo =  301589.56605639576\n",
            "\n",
            "=========================================================================\n",
            "\n",
            "Número de ciclos de manutenção: 16 2\n",
            "Tempos para manutenções preventivas: [0, 51, 171, 206, 235, 241, 330, 393, 431, 474, 489, 539, 560, 586, 626, 646, 703]\n",
            "Severidade para cada subsistema: [0.25, 0.75, 0.5, 0.75, 0.75, 0.5, 0.25, 0.75, 0.5, 0.75, 0.5, 0.5, 0.75, 0.25, 0.75, 0.25]\n",
            "Número de Sisemas: 2\n",
            "Fator:  [0.4796409625107464, 0.15067134756744527, 0.3873289968507504, 0.27864084015710067, 0.3873289968507504, 0.3873289968507504, 0.27864084015710067, 0.15067134756744527, 0.3873289968507504, 0.27864084015710067, 0.3873289968507504, 0.27864084015710067, 0.27864084015710067, 0.3873289968507504, 0.15067134756744527, 0.3873289968507504, 0.15067134756744527]\n",
            "Media de falhas:  [0, 0.004656210022042303, 0.9203838251237859, 2.6248021597679436, 3.4122330989766336, 3.7732177734621746, 12.903494492403352, 26.137084655969687, 47.95507091592425, 114.43470150727221, 122.48241692116007, 192.41905523977712, 211.72278076514988, 265.36701411778256, 370.50672879476906, 403.2204001941576, 836.8392252155136, 908.6100889897075]\n",
            "Custo =  335803.8690110626\n",
            "\n",
            "=========================================================================\n",
            "\n",
            "Número de ciclos de manutenção: 15 2\n",
            "Tempos para manutenções preventivas: [0, 6, 49, 60, 120, 170, 233, 245, 320, 479, 484, 539, 586, 652, 688, 708]\n",
            "Severidade para cada subsistema: [0.5, 0.25, 0.5, 0.75, 0.75, 0.75, 0.75, 0.25, 0.5, 0.75, 0.5, 0.75, 0.75, 0.75, 0.25]\n",
            "Número de Sisemas: 2\n",
            "Fator:  [0.4796409625107464, 0.27864084015710067, 0.15067134756744527, 0.27864084015710067, 0.3873289968507504, 0.3873289968507504, 0.3873289968507504, 0.3873289968507504, 0.15067134756744527, 0.27864084015710067, 0.3873289968507504, 0.27864084015710067, 0.3873289968507504, 0.3873289968507504, 0.3873289968507504, 0.15067134756744527]\n",
            "Media de falhas:  [0, 1.0400629993224111e-07, 0.0028155474094218908, 0.004956771078031526, 0.22804730878334123, 0.8059369802419418, 2.4098066774317255, 2.8096638829363854, 9.625253517733878, 82.46122183176976, 92.02387466345334, 168.19941897937008, 218.73942375414825, 414.7817896692978, 489.5484862924129, 536.850059437684, 595.5908614106701]\n",
            "Custo =  232369.89027391537\n",
            "\n",
            "=========================================================================\n",
            "\n",
            "Número de ciclos de manutenção: 12 2\n",
            "Tempos para manutenções preventivas: [0, 5, 42, 63, 105, 170, 245, 433, 480, 585, 655, 672, 709]\n",
            "Severidade para cada subsistema: [0.5, 0.25, 0.5, 0.5, 0.75, 0.75, 0.25, 0.75, 0.75, 0.75, 0.75, 0.25]\n",
            "Número de Sisemas: 2\n",
            "Fator:  [0.4796409625107464, 0.27864084015710067, 0.15067134756744527, 0.27864084015710067, 0.27864084015710067, 0.3873289968507504, 0.3873289968507504, 0.15067134756744527, 0.3873289968507504, 0.3873289968507504, 0.3873289968507504, 0.3873289968507504, 0.15067134756744527]\n",
            "Media de falhas:  [0, 4.176601192142946e-08, 0.0013131396968147939, 0.005762922123475007, 0.10736783847299367, 0.8220993851675353, 4.538239148216778, 63.60372994033165, 86.13539917346131, 415.4372856195471, 531.4618607408256, 564.1506982625049, 650.8328009609835, 706.954323598479]\n",
            "Custo =  191719.84710339233\n",
            "\n",
            "=========================================================================\n",
            "\n",
            "Número de ciclos de manutenção: 11 2\n",
            "Tempos para manutenções preventivas: [0, 5, 33, 65, 169, 208, 244, 436, 581, 622, 655, 717]\n",
            "Severidade para cada subsistema: [0.5, 0.25, 0.5, 0.75, 0.5, 0.75, 0.5, 0.75, 0.25, 0.75, 0.25]\n",
            "Número de Sisemas: 2\n",
            "Fator:  [0.4796409625107464, 0.27864084015710067, 0.15067134756744527, 0.27864084015710067, 0.3873289968507504, 0.27864084015710067, 0.3873289968507504, 0.27864084015710067, 0.3873289968507504, 0.15067134756744527, 0.3873289968507504, 0.15067134756744527]\n",
            "Media de falhas:  [0, 4.176601192142946e-08, 0.0003614421970264985, 0.007565030616952016, 1.3875475951749976, 2.485600450852804, 3.611643010093752, 93.16832716235972, 236.5355046598791, 341.3352300767964, 397.6926176948814, 903.7786841630164, 938.7791296839581]\n",
            "Custo =  251955.3098537447\n",
            "\n",
            "=========================================================================\n",
            "\n",
            "Número de ciclos de manutenção: 11 2\n",
            "Tempos para manutenções preventivas: [0, 1, 66, 169, 200, 214, 242, 395, 574, 615, 654, 716]\n",
            "Severidade para cada subsistema: [0.5, 0.5, 0.75, 0.5, 0.25, 0.75, 0.5, 0.75, 0.25, 0.75, 0.25]\n",
            "Número de Sisemas: 2\n",
            "Fator:  [0.4796409625107464, 0.27864084015710067, 0.27864084015710067, 0.3873289968507504, 0.27864084015710067, 0.15067134756744527, 0.3873289968507504, 0.27864084015710067, 0.3873289968507504, 0.15067134756744527, 0.3873289968507504, 0.15067134756744527]\n",
            "Media de falhas:  [0, 1.3275666049155885e-11, 0.016312369526060834, 1.0635431911106137, 1.8321340847756318, 2.1009191101215157, 3.6493324233877558, 79.28011112765658, 248.0757481460774, 348.1480662044904, 413.9838457399966, 917.1538528156078, 954.8110806886368]\n",
            "Custo =  252723.59304086945\n",
            "\n",
            "=========================================================================\n",
            "\n",
            "Número de ciclos de manutenção: 11 2\n",
            "Tempos para manutenções preventivas: [0, 65, 136, 170, 193, 312, 406, 482, 542, 610, 650, 683]\n",
            "Severidade para cada subsistema: [0.5, 0.75, 0.75, 0.5, 0.25, 0.75, 0.75, 0.75, 0.25, 0.75, 0.5]\n",
            "Número de Sisemas: 2\n",
            "Fator:  [0.4796409625107464, 0.27864084015710067, 0.3873289968507504, 0.3873289968507504, 0.27864084015710067, 0.15067134756744527, 0.3873289968507504, 0.3873289968507504, 0.3873289968507504, 0.15067134756744527, 0.3873289968507504, 0.27864084015710067]\n",
            "Media de falhas:  [0, 0.01567429588847886, 0.18638575138517646, 0.6085401844412697, 0.8929223405053943, 10.788257572750593, 47.91369501142236, 161.28323972102865, 207.79340656428494, 292.3784699557021, 358.1912595720389, 593.8300283472946, 716.7125463322843]\n",
            "Custo =  233046.20720411395\n",
            "\n",
            "=========================================================================\n",
            "\n",
            "Número de ciclos de manutenção: 9 2\n",
            "Tempos para manutenções preventivas: [0, 31, 62, 170, 190, 235, 428, 485, 609, 646]\n",
            "Severidade para cada subsistema: [0.25, 0.5, 0.75, 0.5, 0.5, 0.5, 0.75, 0.25, 0.75]\n",
            "Número de Sisemas: 2\n",
            "Fator:  [0.4796409625107464, 0.15067134756744527, 0.27864084015710067, 0.3873289968507504, 0.27864084015710067, 0.27864084015710067, 0.27864084015710067, 0.3873289968507504, 0.15067134756744527, 0.3873289968507504]\n",
            "Media de falhas:  [0, 0.0003855564328850595, 0.003508345214816251, 1.4494130317049645, 1.8738189688538196, 3.069915851043018, 86.36192099521934, 137.26639654772836, 391.3961305639656, 450.9340412574272, 1155.6001595689177]\n",
            "Custo =  202808.7445247859\n",
            "\n",
            "=========================================================================\n",
            "\n",
            "Número de ciclos de manutenção: 12 2\n",
            "Tempos para manutenções preventivas: [0, 21, 34, 60, 146, 171, 194, 404, 446, 489, 571, 608, 647]\n",
            "Severidade para cada subsistema: [0.25, 0.25, 0.5, 0.5, 0.75, 0.5, 0.5, 0.75, 0.75, 0.75, 0.25, 0.75]\n",
            "Número de Sisemas: 2\n",
            "Fator:  [0.4796409625107464, 0.15067134756744527, 0.15067134756744527, 0.27864084015710067, 0.27864084015710067, 0.3873289968507504, 0.27864084015710067, 0.27864084015710067, 0.3873289968507504, 0.3873289968507504, 0.3873289968507504, 0.15067134756744527, 0.3873289968507504]\n",
            "Media de falhas:  [0, 5.4912366369779524e-05, 0.00015833471518284767, 0.00660649900715852, 0.6550032651258928, 0.9888346766530851, 1.512109503018221, 53.50299092927867, 80.98014511217497, 121.92164311183797, 199.22226191661503, 245.83052407973003, 308.86616270093066, 1006.6197180525925]\n",
            "Custo =  214187.32571150752\n",
            "\n",
            "=========================================================================\n",
            "\n",
            "Número de ciclos de manutenção: 12 2\n",
            "Tempos para manutenções preventivas: [0, 36, 171, 201, 328, 330, 390, 491, 537, 577, 609, 651, 681]\n",
            "Severidade para cada subsistema: [0.25, 0.75, 0.5, 0.25, 0.5, 0.25, 0.75, 0.5, 0.75, 0.25, 0.75, 0.75]\n",
            "Número de Sisemas: 2\n",
            "Fator:  [0.4796409625107464, 0.15067134756744527, 0.3873289968507504, 0.27864084015710067, 0.15067134756744527, 0.27864084015710067, 0.15067134756744527, 0.3873289968507504, 0.27864084015710067, 0.3873289968507504, 0.15067134756744527, 0.3873289968507504, 0.3873289968507504]\n",
            "Media de falhas:  [0, 0.0008148224266520397, 1.1649520230930126, 2.5305164367966615, 15.452636999939465, 15.885924552480752, 54.435167949315606, 141.661795288101, 259.81387159638695, 300.48006630409, 376.78718095632075, 446.19905963052497, 659.3744639352083, 787.2881410333898]\n",
            "Custo =  292087.40278639656\n"
          ]
        },
        {
          "output_type": "stream",
          "name": "stderr",
          "text": [
            "pyswarms.single.global_best:  39%|███▉      |39/100, best_cost=1.09e+5"
          ]
        },
        {
          "output_type": "stream",
          "name": "stdout",
          "text": [
            "\n",
            "=========================================================================\n",
            "\n",
            "Número de ciclos de manutenção: 15 2\n",
            "Tempos para manutenções preventivas: [0, 42, 107, 131, 171, 207, 212, 314, 331, 440, 489, 537, 583, 614, 656, 685]\n",
            "Severidade para cada subsistema: [0.25, 0.75, 0.75, 0.75, 0.5, 0.5, 0.75, 0.5, 0.5, 0.75, 0.5, 0.75, 0.25, 0.75, 0.75]\n",
            "Número de Sisemas: 2\n",
            "Fator:  [0.4796409625107464, 0.15067134756744527, 0.3873289968507504, 0.3873289968507504, 0.3873289968507504, 0.27864084015710067, 0.27864084015710067, 0.3873289968507504, 0.27864084015710067, 0.27864084015710067, 0.3873289968507504, 0.27864084015710067, 0.3873289968507504, 0.15067134756744527, 0.3873289968507504, 0.3873289968507504]\n",
            "Media de falhas:  [0, 0.0017622855408672082, 0.06854850353220274, 0.25561381345327083, 0.55125954389664, 1.129483163283111, 1.2243680890953461, 14.718439367983821, 18.251823566596443, 53.66481441116074, 99.71114604418118, 166.09891421821493, 214.59065885423223, 291.15352709014905, 362.7448543876469, 574.2892248559223, 692.1270865341091]\n",
            "Custo =  276665.8307075746\n",
            "\n",
            "=========================================================================\n",
            "\n",
            "Número de ciclos de manutenção: 7 2\n",
            "Tempos para manutenções preventivas: [0, 44, 171, 484, 538, 586, 620, 676]\n",
            "Severidade para cada subsistema: [0.25, 0.75, 0.75, 0.5, 0.75, 0.25, 0.75]\n",
            "Número de Sisemas: 2\n",
            "Fator:  [0.4796409625107464, 0.15067134756744527, 0.3873289968507504, 0.3873289968507504, 0.27864084015710067, 0.3873289968507504, 0.15067134756744527, 0.3873289968507504]\n",
            "Media de falhas:  [0, 0.002224218830606961, 1.0279869804320307, 275.32318454351054, 316.15090616714093, 367.72019374038723, 454.5937487791518, 561.1511551234887, 1044.2679484811388]\n",
            "Custo =  242789.01176458818\n",
            "\n",
            "=========================================================================\n",
            "\n",
            "Número de ciclos de manutenção: 15 2\n",
            "Tempos para manutenções preventivas: [0, 8, 48, 114, 171, 207, 236, 244, 410, 428, 480, 539, 587, 622, 660, 704]\n",
            "Severidade para cada subsistema: [0.5, 0.25, 0.5, 0.75, 0.5, 0.75, 0.75, 0.75, 0.75, 0.75, 0.5, 0.75, 0.25, 0.75, 0.25]\n",
            "Número de Sisemas: 2\n",
            "Fator:  [0.4796409625107464, 0.27864084015710067, 0.15067134756744527, 0.27864084015710067, 0.3873289968507504, 0.27864084015710067, 0.3873289968507504, 0.3873289968507504, 0.3873289968507504, 0.3873289968507504, 0.3873289968507504, 0.27864084015710067, 0.3873289968507504, 0.15067134756744527, 0.3873289968507504, 0.15067134756744527]\n",
            "Media de falhas:  [0, 4.3880813952869946e-07, 0.002266148093675509, 0.1412156540411153, 1.1936735578734075, 2.2001270245665037, 3.0012318239877227, 3.5022900414740636, 44.99363634249095, 50.616749777777706, 75.42553335453132, 120.17988581992151, 172.106226987821, 262.5482177696149, 329.16497869665363, 675.8811702815476, 745.0547156889892]\n",
            "Custo =  273071.65699647093\n",
            "\n",
            "=========================================================================\n",
            "\n",
            "Número de ciclos de manutenção: 13 2\n",
            "Tempos para manutenções preventivas: [0, 11, 44, 61, 170, 200, 219, 246, 419, 421, 584, 618, 658, 697]\n",
            "Severidade para cada subsistema: [0.5, 0.25, 0.5, 0.75, 0.5, 0.5, 0.75, 0.75, 0.5, 0.75, 0.25, 0.75, 0.25]\n",
            "Número de Sisemas: 2\n",
            "Fator:  [0.4796409625107464, 0.27864084015710067, 0.15067134756744527, 0.27864084015710067, 0.3873289968507504, 0.27864084015710067, 0.27864084015710067, 0.3873289968507504, 0.3873289968507504, 0.27864084015710067, 0.3873289968507504, 0.15067134756744527, 0.3873289968507504, 0.15067134756744527]\n",
            "Media de falhas:  [0, 2.1595600069852454e-06, 0.0011758416301699997, 0.004453222249440766, 1.4576091942750506, 2.204975188189189, 2.6005456792007564, 4.20479609503046, 73.73472533949732, 74.33453334847023, 238.7425036158063, 324.4820362484622, 393.62849667004934, 691.9989914212297, 779.2659394720788]\n",
            "Custo =  249789.85605534917\n",
            "\n",
            "=========================================================================\n",
            "\n",
            "Número de ciclos de manutenção: 12 2\n",
            "Tempos para manutenções preventivas: [0, 37, 62, 170, 196, 242, 434, 482, 540, 576, 611, 655, 702]\n",
            "Severidade para cada subsistema: [0.25, 0.5, 0.75, 0.5, 0.75, 0.25, 0.75, 0.75, 0.75, 0.25, 0.75, 0.25]\n",
            "Número de Sisemas: 2\n",
            "Fator:  [0.4796409625107464, 0.15067134756744527, 0.27864084015710067, 0.3873289968507504, 0.27864084015710067, 0.3873289968507504, 0.15067134756744527, 0.3873289968507504, 0.3873289968507504, 0.3873289968507504, 0.15067134756744527, 0.3873289968507504, 0.15067134756744527]\n",
            "Media de falhas:  [0, 0.0009345633451572969, 0.0031880382087794363, 1.4490927246989276, 2.0567098833730135, 3.43230347712299, 91.29367107511773, 114.67254140649428, 261.91216443934013, 298.39851953419117, 343.45858272990563, 417.8697557301334, 781.4405196637463, 855.8044449110803]\n",
            "Custo =  270987.90963194874\n",
            "\n",
            "=========================================================================\n",
            "\n",
            "Número de ciclos de manutenção: 11 2\n",
            "Tempos para manutenções preventivas: [0, 31, 63, 90, 170, 193, 313, 419, 485, 609, 649, 707]\n",
            "Severidade para cada subsistema: [0.25, 0.5, 0.5, 0.75, 0.5, 0.5, 0.75, 0.75, 0.25, 0.75, 0.25]\n",
            "Número de Sisemas: 2\n",
            "Fator:  [0.4796409625107464, 0.15067134756744527, 0.27864084015710067, 0.27864084015710067, 0.3873289968507504, 0.27864084015710067, 0.27864084015710067, 0.3873289968507504, 0.3873289968507504, 0.15067134756744527, 0.3873289968507504, 0.15067134756744527]\n",
            "Media de falhas:  [0, 0.0003855564328850595, 0.003855921082518946, 0.043665009792027545, 0.8945487263252879, 1.4067845936051455, 11.5192682971424, 58.23531933196024, 116.08574985861907, 264.9638155853427, 330.36854822267065, 781.0529235215828, 842.4085221590421]\n",
            "Custo =  222074.73221814213\n",
            "\n",
            "=========================================================================\n",
            "\n",
            "Número de ciclos de manutenção: 13 2\n",
            "Tempos para manutenções preventivas: [0, 32, 62, 104, 170, 192, 218, 325, 401, 488, 609, 646, 660, 710]\n",
            "Severidade para cada subsistema: [0.25, 0.5, 0.75, 0.75, 0.5, 0.5, 0.75, 0.5, 0.75, 0.25, 0.75, 0.75, 0.25]\n",
            "Número de Sisemas: 2\n",
            "Fator:  [0.4796409625107464, 0.15067134756744527, 0.27864084015710067, 0.3873289968507504, 0.3873289968507504, 0.27864084015710067, 0.27864084015710067, 0.3873289968507504, 0.27864084015710067, 0.3873289968507504, 0.15067134756744527, 0.3873289968507504, 0.3873289968507504, 0.15067134756744527]\n",
            "Media de falhas:  [0, 0.00045194637972845566, 0.0034156529632777795, 0.10077557929468943, 0.8245270873637524, 1.091464980621829, 1.6150027869545336, 17.821190721433688, 47.408649634722565, 90.67680380359691, 339.7090451822543, 399.2469558757159, 490.31471624513813, 606.8844261354676, 660.382141360964]\n",
            "Custo =  246571.84482365512\n",
            "\n",
            "=========================================================================\n",
            "\n",
            "Número de ciclos de manutenção: 14 2\n",
            "Tempos para manutenções preventivas: [0, 23, 36, 60, 90, 147, 170, 198, 405, 446, 488, 614, 645, 666, 718]\n",
            "Severidade para cada subsistema: [0.25, 0.25, 0.5, 0.25, 0.75, 0.75, 0.5, 0.25, 0.75, 0.75, 0.25, 0.75, 0.75, 0.25]\n",
            "Número de Sisemas: 2\n",
            "Fator:  [0.4796409625107464, 0.15067134756744527, 0.15067134756744527, 0.27864084015710067, 0.15067134756744527, 0.3873289968507504, 0.3873289968507504, 0.27864084015710067, 0.15067134756744527, 0.3873289968507504, 0.3873289968507504, 0.15067134756744527, 0.3873289968507504, 0.3873289968507504, 0.15067134756744527]\n",
            "Media de falhas:  [0, 8.657205513617083e-05, 0.0002138436985714449, 0.006389886942348718, 0.048780875465757746, 0.39810298540707123, 0.9448866703450848, 1.325130082383313, 52.84565828257636, 79.73307490228188, 153.22927612815243, 309.49754978326496, 359.3466485263775, 498.63067783367404, 625.2869550369631, 657.6257238589158]\n",
            "Custo =  262784.6199719096\n",
            "\n",
            "=========================================================================\n",
            "\n",
            "Número de ciclos de manutenção: 11 2\n",
            "Tempos para manutenções preventivas: [0, 27, 42, 120, 171, 204, 227, 432, 486, 618, 646, 670]\n",
            "Severidade para cada subsistema: [0.25, 0.25, 0.5, 0.75, 0.5, 0.5, 0.5, 0.75, 0.25, 0.75, 0.75]\n",
            "Número de Sisemas: 2\n",
            "Fator:  [0.4796409625107464, 0.15067134756744527, 0.15067134756744527, 0.27864084015710067, 0.3873289968507504, 0.27864084015710067, 0.27864084015710067, 0.27864084015710067, 0.3873289968507504, 0.15067134756744527, 0.3873289968507504, 0.3873289968507504]\n",
            "Media de falhas:  [0, 0.00019312920172563452, 0.00046430945877389327, 0.2566651522737197, 1.2414905496589326, 2.121538418914325, 2.6704549405786, 93.84619387194466, 142.7935847666242, 427.28286978799224, 472.7202763040927, 634.6349515799109, 789.9941377732938]\n",
            "Custo =  220246.03651032367\n",
            "\n",
            "=========================================================================\n",
            "\n",
            "Número de ciclos de manutenção: 13 2\n",
            "Tempos para manutenções preventivas: [0, 48, 171, 209, 217, 309, 400, 478, 485, 538, 578, 622, 646, 664]\n",
            "Severidade para cada subsistema: [0.25, 0.75, 0.5, 0.25, 0.5, 0.25, 0.5, 0.75, 0.5, 0.75, 0.25, 0.75, 0.75]\n",
            "Número de Sisemas: 2\n",
            "Fator:  [0.4796409625107464, 0.15067134756744527, 0.3873289968507504, 0.27864084015710067, 0.15067134756744527, 0.27864084015710067, 0.15067134756744527, 0.27864084015710067, 0.3873289968507504, 0.27864084015710067, 0.3873289968507504, 0.15067134756744527, 0.3873289968507504, 0.3873289968507504]\n",
            "Media de falhas:  [0, 0.0034377793779644303, 0.9651111313421844, 2.8917343489881735, 3.0569521274163702, 14.664826518254886, 72.78638860910706, 135.62764702678194, 149.03606529797298, 222.17012279550866, 263.12198660322076, 374.98657668813814, 414.0856742704188, 532.8936441058888, 703.075777936843]\n",
            "Custo =  293886.0757283013\n",
            "\n",
            "=========================================================================\n",
            "\n",
            "Número de ciclos de manutenção: 14 2\n",
            "Tempos para manutenções preventivas: [0, 50, 171, 209, 241, 330, 392, 477, 484, 536, 587, 626, 646, 663, 692]\n",
            "Severidade para cada subsistema: [0.25, 0.75, 0.5, 0.75, 0.5, 0.5, 0.5, 0.75, 0.5, 0.75, 0.25, 0.75, 0.75, 0.5]\n",
            "Número de Sisemas: 2\n",
            "Fator:  [0.4796409625107464, 0.15067134756744527, 0.3873289968507504, 0.27864084015710067, 0.3873289968507504, 0.27864084015710067, 0.27864084015710067, 0.27864084015710067, 0.3873289968507504, 0.27864084015710067, 0.3873289968507504, 0.15067134756744527, 0.3873289968507504, 0.3873289968507504, 0.27864084015710067]\n",
            "Media de falhas:  [0, 0.004216924404381182, 0.9350618354639589, 2.861685053109948, 3.819324453746768, 18.71330072985637, 31.613160946146962, 98.58961868884218, 105.54689100339554, 176.3514979822395, 231.37848831186034, 334.0740288549255, 366.787700254314, 478.5867212123809, 540.6254426408611, 640.6956921505559]\n",
            "Custo =  308966.80515114305\n",
            "\n",
            "=========================================================================\n",
            "\n",
            "Número de ciclos de manutenção: 11 2\n",
            "Tempos para manutenções preventivas: [0, 44, 171, 247, 331, 438, 483, 538, 566, 591, 621, 650]\n",
            "Severidade para cada subsistema: [0.25, 0.75, 0.75, 0.5, 0.5, 0.75, 0.5, 0.5, 0.75, 0.25, 0.75]\n",
            "Número de Sisemas: 2\n",
            "Fator:  [0.4796409625107464, 0.15067134756744527, 0.3873289968507504, 0.3873289968507504, 0.27864084015710067, 0.27864084015710067, 0.3873289968507504, 0.27864084015710067, 0.27864084015710067, 0.3873289968507504, 0.15067134756744527, 0.3873289968507504]\n",
            "Media de falhas:  [0, 0.002224218830606961, 1.0279869804320307, 7.348467673084439, 16.075063845519477, 50.2183015050162, 90.7686251266392, 166.36472968699098, 193.02539433712016, 246.51935746205055, 324.24745465510307, 372.4471546122197, 1049.2756817701822]\n",
            "Custo =  280902.7286004873\n",
            "\n",
            "=========================================================================\n",
            "\n",
            "Número de ciclos de manutenção: 14 2\n",
            "Tempos para manutenções preventivas: [0, 8, 37, 91, 126, 170, 204, 250, 332, 408, 484, 568, 589, 617, 655]\n",
            "Severidade para cada subsistema: [0.5, 0.25, 0.75, 0.25, 0.75, 0.5, 0.75, 0.5, 0.75, 0.75, 0.5, 0.75, 0.25, 0.75]\n",
            "Número de Sisemas: 2\n",
            "Fator:  [0.4796409625107464, 0.27864084015710067, 0.15067134756744527, 0.3873289968507504, 0.15067134756744527, 0.3873289968507504, 0.27864084015710067, 0.3873289968507504, 0.27864084015710067, 0.3873289968507504, 0.3873289968507504, 0.27864084015710067, 0.3873289968507504, 0.15067134756744527, 0.3873289968507504]\n",
            "Media de falhas:  [0, 4.3880813952869946e-07, 0.0005407562427116628, 0.0466092847941588, 0.25103633507139805, 0.5681365579540867, 2.1680945331538926, 3.7372271713062646, 18.0332570387721, 36.4515622037403, 101.1918457150714, 178.6105205132952, 202.26734081188474, 273.1994966476056, 337.80171320781426, 979.1214834654977]\n",
            "Custo =  245971.43577797984\n"
          ]
        },
        {
          "output_type": "stream",
          "name": "stderr",
          "text": [
            "pyswarms.single.global_best:  55%|█████▌    |55/100, best_cost=1.09e+5"
          ]
        },
        {
          "output_type": "stream",
          "name": "stdout",
          "text": [
            "\n",
            "=========================================================================\n",
            "\n",
            "Número de ciclos de manutenção: 16 2\n",
            "Tempos para manutenções preventivas: [0, 2, 30, 60, 96, 142, 170, 198, 242, 329, 405, 433, 485, 569, 577, 615, 656]\n",
            "Severidade para cada subsistema: [0.5, 0.25, 0.5, 0.25, 0.75, 0.75, 0.5, 0.75, 0.25, 0.75, 0.75, 0.75, 0.5, 0.75, 0.25, 0.75]\n",
            "Número de Sisemas: 2\n",
            "Fator:  [0.4796409625107464, 0.27864084015710067, 0.15067134756744527, 0.27864084015710067, 0.15067134756744527, 0.3873289968507504, 0.3873289968507504, 0.27864084015710067, 0.3873289968507504, 0.15067134756744527, 0.3873289968507504, 0.3873289968507504, 0.3873289968507504, 0.27864084015710067, 0.3873289968507504, 0.15067134756744527, 0.3873289968507504]\n",
            "Media de falhas:  [0, 4.260518325920225e-10, 0.00027809844527415187, 0.005170692736530702, 0.06779014657166992, 0.3216120163817912, 0.9584070789403052, 1.3386504909785335, 2.6569899859923396, 17.094887350900095, 34.971152014056194, 66.37328478414327, 92.2461497513164, 170.2189280500794, 178.64058459182664, 271.8998300041492, 341.84745065874733, 975.9690155905197]\n",
            "Custo =  258325.7179407213\n",
            "\n",
            "=========================================================================\n",
            "\n",
            "Número de ciclos de manutenção: 11 2\n",
            "Tempos para manutenções preventivas: [0, 30, 60, 109, 132, 170, 196, 449, 485, 613, 656, 709]\n",
            "Severidade para cada subsistema: [0.25, 0.5, 0.75, 0.25, 0.75, 0.5, 0.25, 0.75, 0.25, 0.75, 0.25]\n",
            "Número de Sisemas: 2\n",
            "Fator:  [0.4796409625107464, 0.15067134756744527, 0.27864084015710067, 0.3873289968507504, 0.15067134756744527, 0.3873289968507504, 0.27864084015710067, 0.15067134756744527, 0.3873289968507504, 0.15067134756744527, 0.3873289968507504, 0.15067134756744527]\n",
            "Media de falhas:  [0, 0.00032720982486222997, 0.002977424121045583, 0.13339946220868112, 0.23949259905917875, 0.5141740379637396, 1.6114017036640573, 99.6331650786899, 133.30128990186523, 597.194148469039, 670.4267266247027, 1091.7711440208589, 1147.8926666583545]\n",
            "Custo =  261706.31193898112\n",
            "\n",
            "=========================================================================\n",
            "\n",
            "Número de ciclos de manutenção: 12 2\n",
            "Tempos para manutenções preventivas: [0, 31, 61, 97, 170, 195, 217, 486, 542, 613, 655, 660, 707]\n",
            "Severidade para cada subsistema: [0.25, 0.5, 0.25, 0.75, 0.5, 0.25, 0.75, 0.75, 0.25, 0.75, 0.75, 0.25]\n",
            "Número de Sisemas: 2\n",
            "Fator:  [0.4796409625107464, 0.15067134756744527, 0.27864084015710067, 0.15067134756744527, 0.3873289968507504, 0.27864084015710067, 0.15067134756744527, 0.3873289968507504, 0.3873289968507504, 0.15067134756744527, 0.3873289968507504, 0.3873289968507504, 0.15067134756744527]\n",
            "Media de falhas:  [0, 0.0003855564328850595, 0.0031890771046453334, 0.06876073269795581, 0.8557541576532518, 1.8964450237604167, 2.3348168560808067, 191.03815405125184, 336.24067053199485, 426.1397397650021, 497.29112317266794, 530.549217629003, 638.5195089058311, 699.8751075432905]\n",
            "Custo =  272952.3106951648\n",
            "\n",
            "=========================================================================\n",
            "\n",
            "Número de ciclos de manutenção: 13 2\n",
            "Tempos para manutenções preventivas: [0, 36, 61, 97, 170, 199, 391, 420, 488, 560, 612, 654, 676, 710]\n",
            "Severidade para cada subsistema: [0.25, 0.5, 0.75, 0.75, 0.5, 0.5, 0.5, 0.75, 0.75, 0.25, 0.75, 0.75, 0.25]\n",
            "Número de Sisemas: 2\n",
            "Fator:  [0.4796409625107464, 0.15067134756744527, 0.27864084015710067, 0.3873289968507504, 0.3873289968507504, 0.27864084015710067, 0.27864084015710067, 0.27864084015710067, 0.3873289968507504, 0.3873289968507504, 0.15067134756744527, 0.3873289968507504, 0.3873289968507504, 0.15067134756744527]\n",
            "Media de falhas:  [0, 0.0008148224266520397, 0.002941294920607931, 0.06851295051391841, 0.8555063754692144, 1.2567460027350097, 42.347204640115336, 57.67852233335136, 118.57580914800447, 231.65748954641992, 298.02594508711246, 368.7394179678064, 523.374432802938, 603.6881044761346, 657.1858197016311]\n",
            "Custo =  276300.14890096424\n",
            "\n",
            "=========================================================================\n",
            "\n",
            "Número de ciclos de manutenção: 10 2\n",
            "Tempos para manutenções preventivas: [0, 39, 60, 109, 170, 202, 490, 562, 613, 650, 677]\n",
            "Severidade para cada subsistema: [0.25, 0.5, 0.25, 0.75, 0.5, 0.75, 0.75, 0.25, 0.75, 0.75]\n",
            "Número de Sisemas: 2\n",
            "Fator:  [0.4796409625107464, 0.15067134756744527, 0.27864084015710067, 0.15067134756744527, 0.3873289968507504, 0.27864084015710067, 0.3873289968507504, 0.3873289968507504, 0.15067134756744527, 0.3873289968507504, 0.3873289968507504]\n",
            "Media de falhas:  [0, 0.0012162379783662663, 0.0027889146766679166, 0.13321095276430345, 0.8118166425754763, 2.277341370693125, 163.01730043213766, 277.77754424134105, 343.3563248095482, 404.39682027046246, 593.0480691134973, 730.9849554140576]\n",
            "Custo =  222901.65117236366\n",
            "\n",
            "=========================================================================\n",
            "\n",
            "Número de ciclos de manutenção: 14 2\n",
            "Tempos para manutenções preventivas: [0, 40, 123, 171, 206, 217, 305, 475, 491, 539, 547, 578, 611, 650, 662]\n",
            "Severidade para cada subsistema: [0.25, 0.25, 0.75, 0.5, 0.75, 0.75, 0.5, 0.75, 0.5, 0.75, 0.75, 0.25, 0.75, 0.75]\n",
            "Número de Sisemas: 2\n",
            "Fator:  [0.4796409625107464, 0.15067134756744527, 0.15067134756744527, 0.3873289968507504, 0.27864084015710067, 0.3873289968507504, 0.3873289968507504, 0.27864084015710067, 0.3873289968507504, 0.27864084015710067, 0.3873289968507504, 0.3873289968507504, 0.15067134756744527, 0.3873289968507504, 0.3873289968507504]\n",
            "Media de falhas:  [0, 0.0013805157435352374, 0.1645418211277108, 1.113120949295664, 2.817539283939822, 3.042766034760869, 13.646023125570455, 89.29989736303443, 98.01466073618238, 165.42212403205517, 172.2190987836011, 232.113282619299, 274.6807955453778, 338.9053109839498, 418.3137656108069, 593.4159117966153]\n",
            "Custo =  268698.08177909785\n",
            "\n",
            "=========================================================================\n",
            "\n",
            "Número de ciclos de manutenção: 13 2\n",
            "Tempos para manutenções preventivas: [0, 44, 96, 149, 171, 206, 214, 240, 390, 478, 492, 586, 614, 652]\n",
            "Severidade para cada subsistema: [0.25, 0.5, 0.75, 0.75, 0.5, 0.25, 0.75, 0.5, 0.5, 0.75, 0.75, 0.25, 0.75]\n",
            "Número de Sisemas: 2\n",
            "Fator:  [0.4796409625107464, 0.15067134756744527, 0.27864084015710067, 0.3873289968507504, 0.3873289968507504, 0.27864084015710067, 0.15067134756744527, 0.3873289968507504, 0.27864084015710067, 0.27864084015710067, 0.3873289968507504, 0.3873289968507504, 0.15067134756744527, 0.3873289968507504]\n",
            "Media de falhas:  [0, 0.002224218830606961, 0.033993690479167595, 0.5824739300977578, 0.8813757440144852, 1.4333464598476615, 1.58955471041891, 2.9910281371379774, 73.67484122536293, 113.90022361533396, 128.512491387385, 300.16713072242834, 337.1887694330565, 400.6044281240528, 1063.3252830082229]\n",
            "Custo =  234309.51583209354\n",
            "\n",
            "=========================================================================\n",
            "\n",
            "Número de ciclos de manutenção: 13 2\n",
            "Tempos para manutenções preventivas: [0, 48, 147, 171, 207, 218, 245, 418, 434, 491, 568, 591, 614, 655]\n",
            "Severidade para cada subsistema: [0.25, 0.25, 0.75, 0.5, 0.75, 0.75, 0.5, 0.75, 0.75, 0.5, 0.75, 0.25, 0.75]\n",
            "Número de Sisemas: 2\n",
            "Fator:  [0.4796409625107464, 0.15067134756744527, 0.15067134756744527, 0.3873289968507504, 0.27864084015710067, 0.3873289968507504, 0.3873289968507504, 0.27864084015710067, 0.3873289968507504, 0.3873289968507504, 0.27864084015710067, 0.3873289968507504, 0.15067134756744527, 0.3873289968507504]\n",
            "Media de falhas:  [0, 0.0034377793779644303, 0.4000425513926707, 0.9796829750630103, 2.756542313304047, 2.9859861629165985, 4.563548263326389, 51.420186327492075, 56.72246924237389, 110.27469316737015, 181.5543224636359, 207.76346198500357, 265.43131231922837, 334.9491548667533, 976.2689251244367]\n",
            "Custo =  252070.04115634144\n",
            "\n",
            "=========================================================================\n",
            "\n",
            "Número de ciclos de manutenção: 16 2\n",
            "Tempos para manutenções preventivas: [0, 8, 52, 60, 134, 171, 207, 211, 249, 313, 394, 490, 539, 559, 590, 610, 654]\n",
            "Severidade para cada subsistema: [0.5, 0.25, 0.5, 0.75, 0.75, 0.5, 0.25, 0.75, 0.5, 0.75, 0.75, 0.5, 0.5, 0.75, 0.25, 0.75]\n",
            "Número de Sisemas: 2\n",
            "Fator:  [0.4796409625107464, 0.27864084015710067, 0.15067134756744527, 0.27864084015710067, 0.3873289968507504, 0.3873289968507504, 0.27864084015710067, 0.15067134756744527, 0.3873289968507504, 0.27864084015710067, 0.3873289968507504, 0.3873289968507504, 0.27864084015710067, 0.27864084015710067, 0.3873289968507504, 0.15067134756744527, 0.3873289968507504]\n",
            "Media de falhas:  [0, 4.3880813952869946e-07, 0.00349697297168989, 0.005129603935886771, 0.4132121711671558, 0.8770792947709177, 1.4553029141573885, 1.5300226418022578, 3.8008406936586088, 19.620987141470902, 36.62155348138178, 119.5501010318462, 157.0450316574114, 175.3186080587084, 240.43038763167885, 289.5493020077711, 363.50236778977705, 1011.9879839220207]\n",
            "Custo =  272230.0177452045\n",
            "\n",
            "=========================================================================\n",
            "\n",
            "Número de ciclos de manutenção: 14 2\n",
            "Tempos para manutenções preventivas: [0, 7, 56, 61, 106, 128, 170, 204, 251, 448, 487, 538, 583, 605, 655]\n",
            "Severidade para cada subsistema: [0.5, 0.25, 0.5, 0.5, 0.25, 0.75, 0.5, 0.75, 0.5, 0.75, 0.5, 0.75, 0.25, 0.75]\n",
            "Número de Sisemas: 2\n",
            "Fator:  [0.4796409625107464, 0.27864084015710067, 0.15067134756744527, 0.27864084015710067, 0.27864084015710067, 0.15067134756744527, 0.3873289968507504, 0.27864084015710067, 0.3873289968507504, 0.27864084015710067, 0.3873289968507504, 0.27864084015710067, 0.3873289968507504, 0.15067134756744527, 0.3873289968507504]\n",
            "Media de falhas:  [0, 2.2494324227523736e-07, 0.005456817426161995, 0.00660706297559713, 0.11662890625566392, 0.20653979980421652, 0.7084867274356956, 2.3084447026355015, 3.9362752181831215, 106.40099870519175, 126.39133170256726, 197.0445829137858, 244.5253902746784, 296.58564206022186, 380.7203463278718, 1022.0401165855553]\n",
            "Custo =  246020.24421408103\n",
            "\n",
            "=========================================================================\n",
            "\n",
            "Número de ciclos de manutenção: 15 2\n",
            "Tempos para manutenções preventivas: [0, 52, 61, 130, 170, 201, 251, 305, 486, 539, 546, 575, 606, 656, 665, 718]\n",
            "Severidade para cada subsistema: [0.25, 0.5, 0.75, 0.75, 0.5, 0.75, 0.5, 0.75, 0.5, 0.75, 0.75, 0.25, 0.75, 0.75, 0.25]\n",
            "Número de Sisemas: 2\n",
            "Fator:  [0.4796409625107464, 0.15067134756744527, 0.27864084015710067, 0.3873289968507504, 0.3873289968507504, 0.27864084015710067, 0.3873289968507504, 0.27864084015710067, 0.3873289968507504, 0.27864084015710067, 0.3873289968507504, 0.3873289968507504, 0.15067134756744527, 0.3873289968507504, 0.3873289968507504, 0.15067134756744527]\n",
            "Media de falhas:  [0, 0.005131373050082006, 0.005757623980743413, 0.3492511867281106, 0.8316698139015591, 1.2768393690940756, 3.004135409584908, 10.11077740515099, 98.68410078837113, 172.37828363150192, 178.2896970914703, 233.3654268680733, 272.12509142778924, 356.7805905445214, 417.8822170582324, 546.8763532668471, 579.2151220887997]\n",
            "Custo =  300748.33191752346\n",
            "\n",
            "=========================================================================\n",
            "\n",
            "Número de ciclos de manutenção: 13 2\n",
            "Tempos para manutenções preventivas: [0, 41, 60, 142, 170, 197, 249, 410, 484, 563, 613, 657, 683, 716]\n",
            "Severidade para cada subsistema: [0.25, 0.5, 0.25, 0.75, 0.5, 0.75, 0.75, 0.75, 0.75, 0.25, 0.75, 0.75, 0.25]\n",
            "Número de Sisemas: 2\n",
            "Fator:  [0.4796409625107464, 0.15067134756744527, 0.27864084015710067, 0.15067134756744527, 0.3873289968507504, 0.27864084015710067, 0.3873289968507504, 0.3873289968507504, 0.3873289968507504, 0.3873289968507504, 0.15067134756744527, 0.3873289968507504, 0.3873289968507504, 0.15067134756744527]\n",
            "Media de falhas:  [0, 0.0015620877956197732, 0.0029419549711939773, 0.5613174000907117, 0.920156426916081, 2.0752652690233555, 3.811919333941927, 63.64379032412247, 99.5172453392494, 169.98135453782595, 234.32876559587083, 309.6625435090863, 498.4128155855475, 579.1248228699583, 616.7820507429873]\n",
            "Custo =  261036.4249401366\n",
            "\n",
            "=========================================================================\n",
            "\n",
            "Número de ciclos de manutenção: 13 2\n",
            "Tempos para manutenções preventivas: [0, 27, 111, 142, 170, 195, 213, 438, 481, 561, 619, 656, 675, 705]\n",
            "Severidade para cada subsistema: [0.25, 0.5, 0.75, 0.75, 0.5, 0.5, 0.5, 0.75, 0.75, 0.25, 0.75, 0.75, 0.25]\n",
            "Número de Sisemas: 2\n",
            "Fator:  [0.4796409625107464, 0.15067134756744527, 0.27864084015710067, 0.3873289968507504, 0.3873289968507504, 0.27864084015710067, 0.27864084015710067, 0.27864084015710067, 0.3873289968507504, 0.3873289968507504, 0.15067134756744527, 0.3873289968507504, 0.3873289968507504, 0.15067134756744527]\n",
            "Media de falhas:  [0, 0.00019312920172563452, 0.12281598605963798, 0.44002156940248704, 0.7988605962278563, 1.119818769129955, 1.455504923590293, 106.22029445311438, 144.48456444353815, 269.28531709933316, 346.42292776332675, 409.77046246646546, 543.4807902102618, 612.5963949087675, 679.1683200665143]\n",
            "Custo =  273168.5422981305\n",
            "\n",
            "=========================================================================\n",
            "\n",
            "Número de ciclos de manutenção: 10 2\n",
            "Tempos para manutenções preventivas: [0, 21, 170, 194, 407, 482, 541, 627, 655, 671, 703]\n",
            "Severidade para cada subsistema: [0.25, 0.75, 0.5, 0.5, 0.75, 0.75, 0.25, 0.75, 0.75, 0.25]\n",
            "Número de Sisemas: 2\n",
            "Fator:  [0.4796409625107464, 0.15067134756744527, 0.3873289968507504, 0.27864084015710067, 0.27864084015710067, 0.3873289968507504, 0.3873289968507504, 0.15067134756744527, 0.3873289968507504, 0.3873289968507504, 0.15067134756744527]\n",
            "Media de falhas:  [0, 5.4912366369779524e-05, 1.4186828525220858, 2.4041577317603346, 56.82712720736275, 119.74997882219708, 202.0790097581563, 320.2664737092864, 368.3100508592803, 479.03281586389045, 551.7878580249743, 623.5587217991682]\n",
            "Custo =  264301.0149148761\n",
            "\n",
            "=========================================================================\n",
            "\n",
            "Número de ciclos de manutenção: 12 2\n",
            "Tempos para manutenções preventivas: [0, 29, 117, 171, 196, 229, 322, 435, 485, 626, 654, 661, 713]\n",
            "Severidade para cada subsistema: [0.25, 0.75, 0.75, 0.5, 0.75, 0.75, 0.75, 0.75, 0.25, 0.75, 0.75, 0.25]\n",
            "Número de Sisemas: 2\n",
            "Fator:  [0.4796409625107464, 0.15067134756744527, 0.3873289968507504, 0.3873289968507504, 0.27864084015710067, 0.3873289968507504, 0.3873289968507504, 0.3873289968507504, 0.3873289968507504, 0.15067134756744527, 0.3873289968507504, 0.3873289968507504, 0.15067134756744527]\n",
            "Media de falhas:  [0, 0.000276152267749812, 0.1578628352607056, 1.1772683914545645, 1.5049527264359515, 2.3065367997970414, 16.22770867076576, 51.276352437501245, 76.20105321388456, 264.5799729544375, 312.328568787471, 358.9419844186049, 482.06920072522314, 527.6678699442783]\n",
            "Custo =  240243.3319087544\n",
            "\n",
            "=========================================================================\n",
            "\n",
            "Número de ciclos de manutenção: 9 2\n",
            "Tempos para manutenções preventivas: [0, 33, 171, 201, 211, 489, 549, 575, 623, 653]\n",
            "Severidade para cada subsistema: [0.25, 0.75, 0.5, 0.5, 0.75, 0.5, 0.75, 0.25, 0.75]\n",
            "Número de Sisemas: 2\n",
            "Fator:  [0.4796409625107464, 0.15067134756744527, 0.3873289968507504, 0.27864084015710067, 0.27864084015710067, 0.3873289968507504, 0.27864084015710067, 0.3873289968507504, 0.15067134756744527, 0.3873289968507504]\n",
            "Media de falhas:  [0, 0.0005271843203717879, 1.2202346520473502, 2.585799065750999, 2.769173776214197, 202.3085818562646, 291.0802005928566, 317.519710416482, 439.48792916220435, 490.23590534439097, 1145.855164357751]\n",
            "Custo =  242360.51492213114\n",
            "\n",
            "=========================================================================\n",
            "\n",
            "Número de ciclos de manutenção: 12 2\n",
            "Tempos para manutenções preventivas: [0, 6, 48, 92, 137, 171, 206, 314, 402, 493, 582, 620, 650]\n",
            "Severidade para cada subsistema: [0.5, 0.25, 0.5, 0.75, 0.75, 0.5, 0.5, 0.5, 0.75, 0.75, 0.25, 0.75]\n",
            "Número de Sisemas: 2\n",
            "Fator:  [0.4796409625107464, 0.27864084015710067, 0.15067134756744527, 0.27864084015710067, 0.3873289968507504, 0.3873289968507504, 0.27864084015710067, 0.27864084015710067, 0.27864084015710067, 0.3873289968507504, 0.3873289968507504, 0.15067134756744527, 0.3873289968507504]\n",
            "Media de falhas:  [0, 1.0400629993224111e-07, 0.002523051522510048, 0.04247586106463948, 0.38657704203965676, 0.8191990211797424, 1.3711697370129188, 10.508719442917863, 44.25590927290747, 125.61849057435556, 284.87342444346575, 336.62501026997035, 386.439338849437, 1063.2678660073996]\n",
            "Custo =  222561.92503027414\n"
          ]
        },
        {
          "output_type": "stream",
          "name": "stderr",
          "text": [
            "pyswarms.single.global_best:  64%|██████▍   |64/100, best_cost=1.09e+5"
          ]
        },
        {
          "output_type": "stream",
          "name": "stdout",
          "text": [
            "\n",
            "=========================================================================\n",
            "\n",
            "Número de ciclos de manutenção: 12 2\n",
            "Tempos para manutenções preventivas: [0, 15, 60, 170, 207, 223, 409, 491, 539, 585, 616, 648, 690]\n",
            "Severidade para cada subsistema: [0.5, 0.5, 0.75, 0.5, 0.75, 0.5, 0.75, 0.5, 0.75, 0.25, 0.75, 0.5]\n",
            "Número de Sisemas: 2\n",
            "Fator:  [0.4796409625107464, 0.27864084015710067, 0.27864084015710067, 0.3873289968507504, 0.27864084015710067, 0.3873289968507504, 0.27864084015710067, 0.3873289968507504, 0.27864084015710067, 0.3873289968507504, 0.15067134756744527, 0.3873289968507504, 0.27864084015710067]\n",
            "Media de falhas:  [0, 1.0195774388402635e-05, 0.005551416000910778, 1.1506666954800233, 2.180542946415045, 2.541542185876967, 69.38493092065218, 111.30758319630203, 178.71504649217482, 227.8833525513401, 305.4642991720574, 357.8442925586944, 664.020319117875, 769.1852079580989]\n",
            "Custo =  264418.5752040036\n",
            "\n",
            "=========================================================================\n",
            "\n",
            "Número de ciclos de manutenção: 14 2\n",
            "Tempos para manutenções preventivas: [0, 20, 61, 170, 209, 248, 318, 400, 441, 488, 539, 581, 608, 650, 663]\n",
            "Severidade para cada subsistema: [0.5, 0.5, 0.75, 0.5, 0.75, 0.25, 0.5, 0.75, 0.75, 0.5, 0.75, 0.25, 0.75, 0.75]\n",
            "Número de Sisemas: 2\n",
            "Fator:  [0.4796409625107464, 0.27864084015710067, 0.27864084015710067, 0.3873289968507504, 0.27864084015710067, 0.3873289968507504, 0.15067134756744527, 0.27864084015710067, 0.3873289968507504, 0.3873289968507504, 0.27864084015710067, 0.3873289968507504, 0.15067134756744527, 0.3873289968507504, 0.3873289968507504]\n",
            "Media de falhas:  [0, 4.3016517204670066e-05, 0.004886616855481807, 1.1394276916650197, 2.2596636737128315, 3.557480797855731, 14.048021486795044, 32.33410783580189, 79.64691687762783, 123.63461759901787, 162.58891027194542, 206.41448226838057, 270.9775803147542, 339.9596191594825, 426.29791427413943, 598.9413160395068]\n",
            "Custo =  267185.0965122634\n",
            "\n",
            "=========================================================================\n",
            "\n",
            "Número de ciclos de manutenção: 10 2\n",
            "Tempos para manutenções preventivas: [0, 23, 61, 170, 251, 485, 538, 567, 575, 652, 667]\n",
            "Severidade para cada subsistema: [0.5, 0.5, 0.75, 0.75, 0.75, 0.5, 0.5, 0.75, 0.75, 0.75]\n",
            "Número de Sisemas: 2\n",
            "Fator:  [0.4796409625107464, 0.27864084015710067, 0.27864084015710067, 0.3873289968507504, 0.3873289968507504, 0.3873289968507504, 0.27864084015710067, 0.27864084015710067, 0.3873289968507504, 0.3873289968507504, 0.3873289968507504]\n",
            "Media de falhas:  [0, 8.657205513617083e-05, 0.004286822992895248, 1.138827897802433, 5.515561649806712, 123.68996333558377, 163.79684835146736, 191.57733119417404, 207.43798724971998, 432.17613493306646, 460.2225883047558, 623.0053588538949]\n",
            "Custo =  178035.41867588382\n",
            "\n",
            "=========================================================================\n",
            "\n",
            "Número de ciclos de manutenção: 15 2\n",
            "Tempos para manutenções preventivas: [0, 6, 51, 61, 170, 239, 247, 324, 400, 483, 539, 540, 571, 654, 671, 719]\n",
            "Severidade para cada subsistema: [0.5, 0.25, 0.5, 0.75, 0.25, 0.75, 0.75, 0.5, 0.75, 0.5, 0.75, 0.75, 0.75, 0.75, 0.25]\n",
            "Número de Sisemas: 2\n",
            "Fator:  [0.4796409625107464, 0.27864084015710067, 0.15067134756744527, 0.27864084015710067, 0.3873289968507504, 0.15067134756744527, 0.3873289968507504, 0.3873289968507504, 0.27864084015710067, 0.3873289968507504, 0.27864084015710067, 0.3873289968507504, 0.3873289968507504, 0.3873289968507504, 0.3873289968507504, 0.15067134756744527]\n",
            "Media de falhas:  [0, 1.0400629993224111e-07, 0.0034818832405717486, 0.005598882449834053, 1.458754854475444, 4.589905620194534, 4.8681961531174025, 25.721004175060152, 42.72077705810526, 82.39947201890678, 159.80871838658317, 160.62304104310783, 217.62240440000585, 353.19576151745906, 385.68943219009384, 503.6257085695516, 533.2978601811542]\n",
            "Custo =  223649.80987807323\n",
            "\n",
            "=========================================================================\n",
            "\n",
            "Número de ciclos de manutenção: 13 2\n",
            "Tempos para manutenções preventivas: [0, 41, 60, 109, 131, 170, 205, 241, 483, 560, 603, 653, 675, 697]\n",
            "Severidade para cada subsistema: [0.25, 0.5, 0.5, 0.25, 0.75, 0.5, 0.75, 0.75, 0.75, 0.25, 0.75, 0.75, 0.25]\n",
            "Número de Sisemas: 2\n",
            "Fator:  [0.4796409625107464, 0.15067134756744527, 0.27864084015710067, 0.27864084015710067, 0.15067134756744527, 0.3873289968507504, 0.27864084015710067, 0.3873289968507504, 0.3873289968507504, 0.3873289968507504, 0.15067134756744527, 0.3873289968507504, 0.3873289968507504, 0.15067134756744527]\n",
            "Media de falhas:  [0, 0.0015620877956197732, 0.0029419549711939773, 0.1333639930588295, 0.2323733661369338, 0.704930524581123, 2.374406800054638, 3.4453629503191703, 170.59074959009652, 237.8863341362582, 289.9832257035242, 373.0835646530547, 526.7926358215002, 575.5554394498496, 662.8223875006987]\n",
            "Custo =  248117.6556035143\n",
            "\n",
            "=========================================================================\n",
            "\n",
            "Número de ciclos de manutenção: 12 2\n",
            "Tempos para manutenções preventivas: [0, 103, 146, 170, 198, 402, 422, 475, 483, 562, 613, 652, 665]\n",
            "Severidade para cada subsistema: [0.5, 0.5, 0.75, 0.5, 0.75, 0.75, 0.5, 0.75, 0.75, 0.25, 0.75, 0.75]\n",
            "Número de Sisemas: 2\n",
            "Fator:  [0.4796409625107464, 0.27864084015710067, 0.27864084015710067, 0.3873289968507504, 0.27864084015710067, 0.3873289968507504, 0.3873289968507504, 0.27864084015710067, 0.3873289968507504, 0.3873289968507504, 0.15067134756744527, 0.3873289968507504, 0.3873289968507504]\n",
            "Media de falhas:  [0, 0.1569067492648551, 0.26474061293497914, 0.5793160461476716, 1.2549506672321231, 50.44634119524239, 61.490377170954815, 85.70304504068113, 89.82727795793463, 214.19724550733207, 279.7760260755392, 344.8024263469819, 432.1967452556194, 599.9150458370536]\n",
            "Custo =  239176.5562408083\n",
            "\n",
            "=========================================================================\n",
            "\n",
            "Número de ciclos de manutenção: 11 2\n",
            "Tempos para manutenções preventivas: [0, 22, 149, 170, 192, 395, 473, 485, 548, 624, 650, 690]\n",
            "Severidade para cada subsistema: [0.25, 0.75, 0.75, 0.5, 0.75, 0.5, 0.75, 0.75, 0.25, 0.75, 0.25]\n",
            "Número de Sisemas: 2\n",
            "Fator:  [0.4796409625107464, 0.15067134756744527, 0.3873289968507504, 0.3873289968507504, 0.27864084015710067, 0.3873289968507504, 0.27864084015710067, 0.3873289968507504, 0.3873289968507504, 0.15067134756744527, 0.3873289968507504, 0.15067134756744527]\n",
            "Media de falhas:  [0, 6.930608943925695e-05, 0.689390574677029, 1.1976956452678085, 1.4646335385258853, 47.24394548830774, 107.39717797939082, 113.65168054613437, 205.64191443495042, 308.7163081274201, 352.0550132464504, 645.0062263490611, 750.1711151892849]\n",
            "Custo =  242765.38076098176\n",
            "\n",
            "=========================================================================\n",
            "\n",
            "Número de ciclos de manutenção: 9 2\n",
            "Tempos para manutenções preventivas: [0, 171, 190, 312, 404, 472, 486, 627, 652, 708]\n",
            "Severidade para cada subsistema: [0.75, 0.5, 0.75, 0.75, 0.5, 0.75, 0.25, 0.75, 0.25]\n",
            "Número de Sisemas: 2\n",
            "Fator:  [0.4796409625107464, 0.3873289968507504, 0.27864084015710067, 0.3873289968507504, 0.3873289968507504, 0.27864084015710067, 0.3873289968507504, 0.15067134756744527, 0.3873289968507504, 0.15067134756744527]\n",
            "Media de falhas:  [0, 1.9831462087596066, 2.1064317073187007, 12.278041133474895, 48.010552352426785, 77.91160303910681, 85.24901991340637, 404.2783927446763, 446.51042028127154, 886.1617475674423, 944.9025495404284]\n"
          ]
        },
        {
          "output_type": "stream",
          "name": "stderr",
          "text": [
            "pyswarms.single.global_best:  64%|██████▍   |64/100, best_cost=1.09e+5<ipython-input-1668-3f464f4b430c>:83: RuntimeWarning: divide by zero encountered in double_scalars\n",
            "  Ctotal.append((cmp + (mi[i+1] - mi[i])*CMC)/(T[i+1]-T[i]))\n",
            "pyswarms.single.global_best:  78%|███████▊  |78/100, best_cost=1.09e+5"
          ]
        },
        {
          "output_type": "stream",
          "name": "stdout",
          "text": [
            "Custo =  240944.26760406172\n",
            "\n",
            "=========================================================================\n",
            "\n",
            "Número de ciclos de manutenção: 11 2\n",
            "Tempos para manutenções preventivas: [0, 40, 137, 171, 195, 411, 424, 488, 567, 571, 623, 654]\n",
            "Severidade para cada subsistema: [0.25, 0.5, 0.75, 0.5, 0.75, 0.5, 0.75, 0.5, 0.75, 0.25, 0.75]\n",
            "Número de Sisemas: 2\n",
            "Fator:  [0.4796409625107464, 0.15067134756744527, 0.27864084015710067, 0.3873289968507504, 0.27864084015710067, 0.3873289968507504, 0.27864084015710067, 0.3873289968507504, 0.27864084015710067, 0.3873289968507504, 0.15067134756744527, 0.3873289968507504]\n",
            "Media de falhas:  [0, 0.0013805157435352374, 0.30871831923509435, 1.0616531896329544, 1.6164755252584784, 59.07905065702745, 66.53898337489761, 98.85319436918692, 227.87025872846678, 231.92818533246577, 363.1354749682605, 415.85001941043924, 1064.335635542683]\n",
            "Custo =  256754.39063930998\n",
            "\n",
            "=========================================================================\n",
            "\n",
            "Número de ciclos de manutenção: 12 2\n",
            "Tempos para manutenções preventivas: [0, 0, 55, 60, 171, 205, 319, 488, 539, 542, 574, 615, 652]\n",
            "Severidade para cada subsistema: [0.5, 0.25, 0.5, 0.75, 0.5, 0.5, 0.75, 0.5, 0.5, 0.75, 0.25, 0.75]\n",
            "Número de Sisemas: 2\n",
            "Fator:  [0.4796409625107464, 0.27864084015710067, 0.15067134756744527, 0.27864084015710067, 0.3873289968507504, 0.27864084015710067, 0.27864084015710067, 0.3873289968507504, 0.27864084015710067, 0.27864084015710067, 0.3873289968507504, 0.15067134756744527, 0.3873289968507504]\n",
            "Media de falhas:  [0, 0.0, 0.006794100473966279, 0.007869078759983779, 1.514392547174706, 2.4355103198317702, 12.737140897626848, 141.82026026916657, 213.01420144809322, 215.4869712759143, 275.47295160893054, 375.5452696673436, 437.34764581231525, 1100.0685006964854]\n",
            "Custo =  inf\n",
            "\n",
            "=========================================================================\n",
            "\n",
            "Número de ciclos de manutenção: 13 2\n",
            "Tempos para manutenções preventivas: [0, 3, 59, 60, 171, 217, 311, 425, 487, 537, 577, 609, 652, 665]\n",
            "Severidade para cada subsistema: [0.5, 0.25, 0.5, 0.75, 0.75, 0.5, 0.25, 0.75, 0.5, 0.75, 0.25, 0.75, 0.75]\n",
            "Número de Sisemas: 2\n",
            "Fator:  [0.4796409625107464, 0.27864084015710067, 0.15067134756744527, 0.27864084015710067, 0.3873289968507504, 0.3873289968507504, 0.27864084015710067, 0.15067134756744527, 0.3873289968507504, 0.27864084015710067, 0.3873289968507504, 0.15067134756744527, 0.3873289968507504, 0.3873289968507504]\n",
            "Media de falhas:  [0, 3.2408096839028386e-09, 0.00853189923018309, 0.008763974289382371, 1.5152874427041045, 3.0178123047612804, 10.630890095855072, 42.83894291166596, 98.57198212909583, 225.5035665798692, 266.1697612875722, 342.476875939803, 413.9215276504499, 501.3158465590874, 669.0341471405216]\n",
            "Custo =  281021.4248429444\n",
            "\n",
            "=========================================================================\n",
            "\n",
            "Número de ciclos de manutenção: 15 2\n",
            "Tempos para manutenções preventivas: [0, 3, 49, 60, 93, 127, 170, 243, 310, 443, 486, 537, 580, 606, 652, 663]\n",
            "Severidade para cada subsistema: [0.5, 0.25, 0.5, 0.5, 0.5, 0.75, 0.75, 0.5, 0.5, 0.75, 0.5, 0.75, 0.25, 0.75, 0.75]\n",
            "Número de Sisemas: 2\n",
            "Fator:  [0.4796409625107464, 0.27864084015710067, 0.15067134756744527, 0.27864084015710067, 0.27864084015710067, 0.27864084015710067, 0.3873289968507504, 0.3873289968507504, 0.27864084015710067, 0.27864084015710067, 0.3873289968507504, 0.27864084015710067, 0.3873289968507504, 0.15067134756744527, 0.3873289968507504, 0.3873289968507504]\n",
            "Media de falhas:  [0, 3.2408096839028386e-09, 0.0032833258609568064, 0.005424549529566442, 0.05720761014587713, 0.18170015842722068, 0.6933198464642981, 4.206401397263653, 9.580647399564558, 53.986027495957686, 93.90760427385442, 164.02325682588386, 208.53905829845198, 270.0029894113748, 346.2363472652422, 419.6527154081192, 592.2961171734867]\n",
            "Custo =  261111.56994276622\n",
            "\n",
            "=========================================================================\n",
            "\n",
            "Número de ciclos de manutenção: 15 2\n",
            "Tempos para manutenções preventivas: [0, 32, 60, 105, 170, 206, 226, 254, 413, 486, 538, 552, 581, 605, 649, 662]\n",
            "Severidade para cada subsistema: [0.25, 0.5, 0.5, 0.75, 0.5, 0.75, 0.75, 0.25, 0.75, 0.5, 0.5, 0.75, 0.25, 0.75, 0.75]\n",
            "Número de Sisemas: 2\n",
            "Fator:  [0.4796409625107464, 0.15067134756744527, 0.27864084015710067, 0.27864084015710067, 0.3873289968507504, 0.27864084015710067, 0.3873289968507504, 0.3873289968507504, 0.15067134756744527, 0.3873289968507504, 0.27864084015710067, 0.27864084015710067, 0.3873289968507504, 0.15067134756744527, 0.3873289968507504, 0.3873289968507504]\n",
            "Media de falhas:  [0, 0.00045194637972845566, 0.0028287306662721605, 0.108287020354957, 0.8230185670494986, 1.8093832728957946, 2.2812653404234218, 4.171440872237364, 44.85198433307555, 80.86171260351719, 213.12144020994754, 225.36710772997276, 282.8146765172423, 339.38891267929, 411.0831318321152, 496.8970198562956, 671.999166042104]\n",
            "Custo =  295671.72690868494\n",
            "\n",
            "=========================================================================\n",
            "\n",
            "Número de ciclos de manutenção: 12 2\n",
            "Tempos para manutenções preventivas: [0, 60, 116, 170, 195, 253, 329, 411, 485, 539, 578, 610, 646]\n",
            "Severidade para cada subsistema: [0.5, 0.5, 0.75, 0.5, 0.75, 0.5, 0.25, 0.75, 0.5, 0.75, 0.25, 0.75]\n",
            "Número de Sisemas: 2\n",
            "Fator:  [0.4796409625107464, 0.27864084015710067, 0.27864084015710067, 0.3873289968507504, 0.27864084015710067, 0.3873289968507504, 0.27864084015710067, 0.15067134756744527, 0.3873289968507504, 0.27864084015710067, 0.3873289968507504, 0.15067134756744527, 0.3873289968507504]\n",
            "Media de falhas:  [0, 0.010501043413451327, 0.07837827124363707, 0.6932451817204707, 1.2682004952476746, 3.3267973641242445, 16.263889227549306, 36.66952092747421, 100.49910261973162, 238.109413763863, 278.07599543492296, 354.8936303458974, 412.8752514129368, 1117.541369724427]\n",
            "Custo =  261777.72559716913\n",
            "\n",
            "=========================================================================\n",
            "\n",
            "Número de ciclos de manutenção: 17 2\n",
            "Tempos para manutenções preventivas: [0, 18, 102, 148, 170, 186, 238, 244, 324, 445, 479, 484, 539, 544, 572, 616, 644, 710]\n",
            "Severidade para cada subsistema: [0.25, 0.5, 0.75, 0.75, 0.5, 0.5, 0.75, 0.5, 0.75, 0.5, 0.75, 0.5, 0.75, 0.75, 0.25, 0.75, 0.25]\n",
            "Número de Sisemas: 2\n",
            "Fator:  [0.4796409625107464, 0.15067134756744527, 0.27864084015710067, 0.3873289968507504, 0.3873289968507504, 0.27864084015710067, 0.27864084015710067, 0.3873289968507504, 0.27864084015710067, 0.3873289968507504, 0.27864084015710067, 0.3873289968507504, 0.27864084015710067, 0.3873289968507504, 0.3873289968507504, 0.15067134756744527, 0.3873289968507504, 0.15067134756744527]\n",
            "Media de falhas:  [0, 2.5389658248351453e-05, 0.09601576770603963, 0.5861122419606889, 0.8778545887683866, 1.0511281179877263, 2.4981512427124004, 2.877606378468439, 15.527873400966302, 56.62382695981209, 86.98435880046512, 89.59483711051226, 165.77038142642897, 169.94193761670655, 222.1050055991468, 280.1627338716012, 325.03570694567605, 837.7666976708865, 891.264412896383]\n",
            "Custo =  301779.93638015084\n",
            "\n",
            "=========================================================================\n",
            "\n",
            "Número de ciclos de manutenção: 13 2\n",
            "Tempos para manutenções preventivas: [0, 23, 33, 92, 170, 183, 432, 469, 486, 539, 562, 622, 647, 708]\n",
            "Severidade para cada subsistema: [0.25, 0.25, 0.5, 0.75, 0.5, 0.25, 0.5, 0.75, 0.5, 0.75, 0.25, 0.75, 0.25]\n",
            "Número de Sisemas: 2\n",
            "Fator:  [0.4796409625107464, 0.15067134756744527, 0.15067134756744527, 0.27864084015710067, 0.3873289968507504, 0.27864084015710067, 0.15067134756744527, 0.27864084015710067, 0.3873289968507504, 0.27864084015710067, 0.3873289968507504, 0.15067134756744527, 0.3873289968507504, 0.15067134756744527]\n",
            "Media de falhas:  [0, 8.657205513617083e-05, 0.00015208529559252403, 0.0674406304060016, 1.2862784814062787, 1.5325787306811467, 84.84902441194276, 114.9480158529876, 146.70065951674272, 220.3948423598735, 241.79440145746327, 390.1269709586543, 431.06932139104174, 904.6677153471815, 963.4085173201676]\n",
            "Custo =  301617.5954391399\n",
            "\n",
            "=========================================================================\n",
            "\n",
            "Número de ciclos de manutenção: 13 2\n",
            "Tempos para manutenções preventivas: [0, 47, 98, 170, 194, 323, 430, 462, 486, 538, 560, 622, 653, 703]\n",
            "Severidade para cada subsistema: [0.25, 0.5, 0.75, 0.5, 0.5, 0.75, 0.5, 0.75, 0.5, 0.75, 0.25, 0.75, 0.25]\n",
            "Número de Sisemas: 2\n",
            "Fator:  [0.4796409625107464, 0.15067134756744527, 0.27864084015710067, 0.3873289968507504, 0.27864084015710067, 0.27864084015710067, 0.3873289968507504, 0.27864084015710067, 0.3873289968507504, 0.27864084015710067, 0.3873289968507504, 0.15067134756744527, 0.3873289968507504, 0.15067134756744527]\n",
            "Media de falhas:  [0, 0.003094018821836729, 0.03604260237801588, 1.2042020478842939, 1.7473694855653656, 14.133694126407434, 66.61025412174371, 91.38277578090862, 103.79788118089186, 175.69390070844798, 195.89385845380576, 348.64852010414586, 401.03872376992405, 787.4538435522632, 859.2247073264571]\n",
            "Custo =  283756.2083657897\n",
            "\n",
            "=========================================================================\n",
            "\n",
            "Número de ciclos de manutenção: 12 2\n",
            "Tempos para manutenções preventivas: [0, 117, 133, 170, 205, 227, 475, 486, 541, 621, 657, 660, 712]\n",
            "Severidade para cada subsistema: [0.5, 0.5, 0.75, 0.5, 0.5, 0.5, 0.75, 0.75, 0.25, 0.75, 0.75, 0.25]\n",
            "Número de Sisemas: 2\n",
            "Fator:  [0.4796409625107464, 0.27864084015710067, 0.27864084015710067, 0.3873289968507504, 0.27864084015710067, 0.27864084015710067, 0.27864084015710067, 0.3873289968507504, 0.3873289968507504, 0.15067134756744527, 0.3873289968507504, 0.3873289968507504, 0.15067134756744527]\n",
            "Media de falhas:  [0, 0.2969038090914035, 0.3219191248908553, 0.7745435867035319, 1.718481314848351, 2.244628719215231, 161.75973289904599, 172.76621389422058, 250.110645579473, 356.23616568429634, 418.3076852049254, 438.36211292938435, 560.792476509602, 609.0288106409396]\n",
            "Custo =  275044.104170246\n",
            "\n",
            "=========================================================================\n",
            "\n",
            "Número de ciclos de manutenção: 7 2\n",
            "Tempos para manutenções preventivas: [0, 61, 133, 170, 484, 575, 614, 673]\n",
            "Severidade para cada subsistema: [0.5, 0.5, 0.75, 0.75, 0.75, 0.25, 0.75]\n",
            "Número de Sisemas: 2\n",
            "Fator:  [0.4796409625107464, 0.27864084015710067, 0.27864084015710067, 0.3873289968507504, 0.3873289968507504, 0.3873289968507504, 0.15067134756744527, 0.3873289968507504]\n",
            "Media de falhas:  [0, 0.011406576879344137, 0.17361713263144815, 0.6262415944441247, 216.34630039356423, 304.1358684619802, 355.1557244062182, 465.16790445281305, 971.8150599715125]\n",
            "Custo =  206997.15663380013\n",
            "\n",
            "=========================================================================\n",
            "\n",
            "Número de ciclos de manutenção: 11 2\n",
            "Tempos para manutenções preventivas: [0, 61, 139, 170, 307, 394, 445, 483, 541, 581, 609, 676]\n",
            "Severidade para cada subsistema: [0.5, 0.5, 0.75, 0.5, 0.75, 0.25, 0.75, 0.5, 0.75, 0.25, 0.75]\n",
            "Número de Sisemas: 2\n",
            "Fator:  [0.4796409625107464, 0.27864084015710067, 0.27864084015710067, 0.3873289968507504, 0.27864084015710067, 0.3873289968507504, 0.15067134756744527, 0.3873289968507504, 0.27864084015710067, 0.3873289968507504, 0.15067134756744527, 0.3873289968507504]\n",
            "Media de falhas:  [0, 0.011406576879344137, 0.22646539799289983, 0.6173878511064479, 16.271031800999303, 34.48639501338701, 66.85108807632761, 85.71010677988798, 234.09033061790345, 275.90825037608187, 343.18253774270784, 469.6462154330658, 952.7630087907158]\n",
            "Custo =  276526.5698536915\n",
            "\n",
            "=========================================================================\n",
            "\n",
            "Número de ciclos de manutenção: 12 2\n",
            "Tempos para manutenções preventivas: [0, 4, 43, 62, 148, 171, 207, 239, 482, 543, 584, 602, 684]\n",
            "Severidade para cada subsistema: [0.5, 0.25, 0.5, 0.5, 0.75, 0.5, 0.25, 0.75, 0.5, 0.75, 0.25, 0.75]\n",
            "Número de Sisemas: 2\n",
            "Fator:  [0.4796409625107464, 0.27864084015710067, 0.15067134756744527, 0.27864084015710067, 0.27864084015710067, 0.3873289968507504, 0.27864084015710067, 0.15067134756744527, 0.3873289968507504, 0.27864084015710067, 0.3873289968507504, 0.15067134756744527, 0.3873289968507504]\n",
            "Media de falhas:  [0, 1.3673149308133014e-08, 0.0015776892267063427, 0.0054156977962338156, 0.6945349062466012, 1.0052043729314972, 2.0116578396245934, 2.9374790363124927, 169.27081757493124, 326.3936530447014, 370.1172163008537, 412.19098693343295, 572.9396265887204, 991.7232004759339]\n",
            "Custo =  270036.66264942766\n",
            "\n",
            "=========================================================================\n",
            "\n",
            "Número de ciclos de manutenção: 15 2\n",
            "Tempos para manutenções preventivas: [0, 5, 61, 93, 148, 170, 202, 219, 247, 304, 417, 482, 548, 585, 602, 659]\n",
            "Severidade para cada subsistema: [0.5, 0.5, 0.5, 0.5, 0.75, 0.5, 0.75, 0.75, 0.75, 0.5, 0.75, 0.5, 0.75, 0.25, 0.75]\n",
            "Número de Sisemas: 2\n",
            "Fator:  [0.4796409625107464, 0.27864084015710067, 0.27864084015710067, 0.27864084015710067, 0.27864084015710067, 0.3873289968507504, 0.27864084015710067, 0.3873289968507504, 0.3873289968507504, 0.3873289968507504, 0.27864084015710067, 0.3873289968507504, 0.27864084015710067, 0.3873289968507504, 0.15067134756744527, 0.3873289968507504]\n",
            "Media de falhas:  [0, 4.176601192142946e-08, 0.00933232687556478, 0.041388549596859434, 0.3903963896318586, 0.6821387364395564, 1.5051001243093625, 1.8607157824396618, 3.5453237107900613, 7.796487665798266, 37.382097256617406, 68.57103634540474, 164.40260773582543, 204.28723739794538, 244.10169411785918, 341.8625168133105, 954.1937373433361]\n",
            "Custo =  246515.85882902407\n"
          ]
        },
        {
          "output_type": "stream",
          "name": "stderr",
          "text": [
            "pyswarms.single.global_best:  92%|█████████▏|92/100, best_cost=1.09e+5"
          ]
        },
        {
          "output_type": "stream",
          "name": "stdout",
          "text": [
            "\n",
            "=========================================================================\n",
            "\n",
            "Número de ciclos de manutenção: 12 2\n",
            "Tempos para manutenções preventivas: [0, 0, 60, 142, 170, 198, 236, 251, 483, 568, 584, 608, 653]\n",
            "Severidade para cada subsistema: [0.5, 0.5, 0.5, 0.75, 0.5, 0.25, 0.75, 0.75, 0.5, 0.75, 0.25, 0.75]\n",
            "Número de Sisemas: 2\n",
            "Fator:  [0.4796409625107464, 0.27864084015710067, 0.27864084015710067, 0.27864084015710067, 0.3873289968507504, 0.27864084015710067, 0.15067134756744527, 0.3873289968507504, 0.3873289968507504, 0.27864084015710067, 0.3873289968507504, 0.15067134756744527, 0.3873289968507504]\n",
            "Media de falhas:  [0, 0.0, 0.010501043413451327, 0.4265198102514677, 0.785358837076837, 1.4609934581612884, 2.4965654712927554, 3.516480008395223, 235.65774176890127, 313.95158708596443, 331.46540308779544, 389.18449697143393, 464.2877853323763, 1119.9070443457363]\n",
            "Custo =  inf\n",
            "\n",
            "=========================================================================\n",
            "\n",
            "Número de ciclos de manutenção: 10 2\n",
            "Tempos para manutenções preventivas: [0, 143, 170, 197, 253, 485, 538, 576, 615, 647, 682]\n",
            "Severidade para cada subsistema: [0.5, 0.75, 0.5, 0.75, 0.75, 0.5, 0.75, 0.25, 0.75, 0.75]\n",
            "Número de Sisemas: 2\n",
            "Fator:  [0.4796409625107464, 0.27864084015710067, 0.3873289968507504, 0.27864084015710067, 0.3873289968507504, 0.3873289968507504, 0.27864084015710067, 0.3873289968507504, 0.15067134756744527, 0.3873289968507504, 0.3873289968507504]\n",
            "Media de falhas:  [0, 0.8104576180768781, 0.9247856914886043, 1.5659565698959172, 3.5555713283964585, 167.38816488557325, 207.4950499014568, 245.9325026048995, 341.4709465768036, 393.5256036295498, 640.7866517499251, 766.1864147886323]\n",
            "Custo =  246753.57295531518\n",
            "\n",
            "=========================================================================\n",
            "\n",
            "Número de ciclos de manutenção: 13 2\n",
            "Tempos para manutenções preventivas: [0, 37, 143, 170, 199, 251, 419, 425, 478, 487, 535, 621, 644, 661]\n",
            "Severidade para cada subsistema: [0.25, 0.5, 0.75, 0.5, 0.75, 0.5, 0.75, 0.5, 0.75, 0.5, 0.25, 0.75, 0.75]\n",
            "Número de Sisemas: 2\n",
            "Fator:  [0.4796409625107464, 0.15067134756744527, 0.27864084015710067, 0.3873289968507504, 0.27864084015710067, 0.3873289968507504, 0.27864084015710067, 0.3873289968507504, 0.27864084015710067, 0.3873289968507504, 0.27864084015710067, 0.15067134756744527, 0.3873289968507504, 0.3873289968507504]\n",
            "Media de falhas:  [0, 0.0009345633451572969, 0.41849430603180354, 1.0379633104885355, 1.748990090265826, 3.542696319854298, 71.40039166097394, 73.25682873185794, 118.21957443147849, 123.00876534119335, 188.3884707038058, 302.05663045088613, 372.00486713476056, 482.44563245819785, 660.0040412751181]\n",
            "Custo =  260464.38642188872\n",
            "\n",
            "=========================================================================\n",
            "\n",
            "Número de ciclos de manutenção: 12 2\n",
            "Tempos para manutenções preventivas: [0, 57, 170, 203, 213, 247, 419, 473, 486, 537, 556, 627, 647]\n",
            "Severidade para cada subsistema: [0.25, 0.75, 0.5, 0.5, 0.75, 0.5, 0.5, 0.75, 0.5, 0.75, 0.25, 0.75]\n",
            "Número de Sisemas: 2\n",
            "Fator:  [0.4796409625107464, 0.15067134756744527, 0.3873289968507504, 0.27864084015710067, 0.27864084015710067, 0.3873289968507504, 0.27864084015710067, 0.27864084015710067, 0.3873289968507504, 0.27864084015710067, 0.3873289968507504, 0.15067134756744527, 0.3873289968507504]\n",
            "Media de falhas:  [0, 0.008123768243754556, 0.8086883012342179, 2.340671040839129, 2.53115735016195, 4.527183770231961, 73.72247280907104, 97.95135300867842, 110.89549586289962, 181.01114841492907, 198.01862222625962, 376.102560139888, 409.0205105639612, 1106.774065915623]\n",
            "Custo =  255651.03346815408\n",
            "\n",
            "=========================================================================\n",
            "\n",
            "Número de ciclos de manutenção: 9 2\n",
            "Tempos para manutenções preventivas: [0, 170, 205, 212, 414, 476, 485, 566, 651, 689]\n",
            "Severidade para cada subsistema: [0.75, 0.5, 0.25, 0.5, 0.5, 0.75, 0.75, 0.75, 0.5]\n",
            "Número de Sisemas: 2\n",
            "Fator:  [0.4796409625107464, 0.3873289968507504, 0.27864084015710067, 0.15067134756744527, 0.27864084015710067, 0.27864084015710067, 0.3873289968507504, 0.3873289968507504, 0.3873289968507504, 0.27864084015710067]\n",
            "Media de falhas:  [0, 1.9257865980448212, 2.241052258556962, 2.373062234653446, 77.86923492721411, 169.55875173172234, 178.53374981826045, 309.39999003801825, 445.5120697361797, 524.7590798765245, 632.4657471593061]\n",
            "Custo =  164656.59285060782\n",
            "\n",
            "=========================================================================\n",
            "\n",
            "Número de ciclos de manutenção: 11 2\n",
            "Tempos para manutenções preventivas: [0, 109, 132, 170, 206, 308, 400, 479, 486, 558, 652, 688]\n",
            "Severidade para cada subsistema: [0.5, 0.75, 0.75, 0.5, 0.75, 0.5, 0.5, 0.75, 0.75, 0.75, 0.5]\n",
            "Número de Sisemas: 2\n",
            "Fator:  [0.4796409625107464, 0.27864084015710067, 0.3873289968507504, 0.3873289968507504, 0.27864084015710067, 0.3873289968507504, 0.27864084015710067, 0.27864084015710067, 0.3873289968507504, 0.3873289968507504, 0.3873289968507504, 0.27864084015710067]\n",
            "Media de falhas:  [0, 0.20830063669849588, 0.24390675990937666, 0.706533551507132, 1.2735253849963373, 9.245395646404353, 43.519689018684474, 80.12084348907275, 87.19445622901675, 198.6161125187767, 349.31062722060534, 424.0773238437205, 534.3221339074036]\n",
            "Custo =  150536.44594576675\n",
            "\n",
            "=========================================================================\n",
            "\n",
            "Número de ciclos de manutenção: 13 2\n",
            "Tempos para manutenções preventivas: [0, 55, 60, 116, 170, 205, 230, 304, 400, 488, 571, 622, 653, 719]\n",
            "Severidade para cada subsistema: [0.25, 0.5, 0.5, 0.75, 0.5, 0.25, 0.75, 0.5, 0.75, 0.75, 0.25, 0.75, 0.25]\n",
            "Número de Sisemas: 2\n",
            "Fator:  [0.4796409625107464, 0.15067134756744527, 0.27864084015710067, 0.27864084015710067, 0.3873289968507504, 0.27864084015710067, 0.15067134756744527, 0.3873289968507504, 0.27864084015710067, 0.3873289968507504, 0.3873289968507504, 0.15067134756744527, 0.3873289968507504, 0.15067134756744527]\n",
            "Media de falhas:  [0, 0.006794100473966279, 0.007114225643962411, 0.19198333630889688, 0.8068502467857305, 1.7507879749305495, 2.3775241638386406, 11.468314308107686, 71.7198456724872, 115.46265725372464, 254.06299279904502, 323.6263584952428, 376.016562161021, 916.2571842531486, 945.9293358647512]\n",
            "Custo =  256266.55970086268\n",
            "\n",
            "=========================================================================\n",
            "\n",
            "Número de ciclos de manutenção: 12 2\n",
            "Tempos para manutenções preventivas: [0, 30, 61, 170, 203, 320, 445, 487, 581, 611, 656, 668, 716]\n",
            "Severidade para cada subsistema: [0.25, 0.5, 0.75, 0.5, 0.5, 0.25, 0.75, 0.75, 0.25, 0.75, 0.75, 0.25]\n",
            "Número de Sisemas: 2\n",
            "Fator:  [0.4796409625107464, 0.15067134756744527, 0.27864084015710067, 0.3873289968507504, 0.27864084015710067, 0.27864084015710067, 0.15067134756744527, 0.3873289968507504, 0.3873289968507504, 0.15067134756744527, 0.3873289968507504, 0.3873289968507504, 0.15067134756744527]\n",
            "Media de falhas:  [0, 0.00032720982486222997, 0.003282665391404498, 1.4564386374170144, 2.3186947305261767, 13.044056477121007, 81.7582244178828, 121.16878113481579, 415.60682495180504, 454.41915578755004, 530.9270080388693, 613.2786948258399, 729.2386915385916, 766.8959194116206]\n",
            "Custo =  298115.58541024325\n",
            "\n",
            "=========================================================================\n",
            "\n",
            "Número de ciclos de manutenção: 11 2\n",
            "Tempos para manutenções preventivas: [0, 61, 115, 170, 200, 437, 487, 553, 584, 604, 659, 685]\n",
            "Severidade para cada subsistema: [0.5, 0.5, 0.75, 0.5, 0.5, 0.75, 0.5, 0.75, 0.25, 0.75, 0.75]\n",
            "Número de Sisemas: 2\n",
            "Fator:  [0.4796409625107464, 0.27864084015710067, 0.27864084015710067, 0.3873289968507504, 0.27864084015710067, 0.27864084015710067, 0.3873289968507504, 0.27864084015710067, 0.3873289968507504, 0.15067134756744527, 0.3873289968507504, 0.3873289968507504]\n",
            "Media de falhas:  [0, 0.011406576879344137, 0.07364676666491585, 0.6976827141069876, 1.4450487080211256, 82.80850680775075, 128.9097002621038, 228.40121541548802, 261.7877347005477, 308.9824020883943, 403.45978505706944, 594.4672958108762, 712.305157489063]\n",
            "Custo =  271191.0058262413\n",
            "\n",
            "=========================================================================\n",
            "\n",
            "Número de ciclos de manutenção: 13 2\n",
            "Tempos para manutenções preventivas: [0, 62, 115, 170, 199, 315, 430, 487, 539, 548, 584, 606, 659, 677]\n",
            "Severidade para cada subsistema: [0.5, 0.5, 0.75, 0.5, 0.25, 0.75, 0.75, 0.5, 0.5, 0.75, 0.25, 0.75, 0.75]\n",
            "Número de Sisemas: 2\n",
            "Fator:  [0.4796409625107464, 0.27864084015710067, 0.27864084015710067, 0.3873289968507504, 0.27864084015710067, 0.15067134756744527, 0.3873289968507504, 0.3873289968507504, 0.27864084015710067, 0.27864084015710067, 0.3873289968507504, 0.15067134756744527, 0.3873289968507504, 0.3873289968507504]\n",
            "Media de falhas:  [0, 0.012373543006436758, 0.0728420185495809, 0.6968779659916526, 1.4079047457689429, 11.397807105876424, 67.02882643712749, 161.29271720087462, 200.97520988978428, 208.66829204435368, 280.50374888359164, 332.9130964396154, 424.09886644052835, 552.6070630757964, 690.5439493763567]\n",
            "Custo =  298675.66064734693\n",
            "\n",
            "=========================================================================\n",
            "\n",
            "Número de ciclos de manutenção: 13 2\n",
            "Tempos para manutenções preventivas: [0, 61, 170, 199, 236, 414, 447, 487, 535, 548, 578, 608, 654, 664]\n",
            "Severidade para cada subsistema: [0.5, 0.75, 0.5, 0.25, 0.5, 0.75, 0.75, 0.5, 0.5, 0.75, 0.25, 0.75, 0.75]\n",
            "Número de Sisemas: 2\n",
            "Fator:  [0.4796409625107464, 0.27864084015710067, 0.3873289968507504, 0.27864084015710067, 0.15067134756744527, 0.27864084015710067, 0.3873289968507504, 0.3873289968507504, 0.27864084015710067, 0.27864084015710067, 0.3873289968507504, 0.15067134756744527, 0.3873289968507504, 0.3873289968507504]\n",
            "Media de falhas:  [0, 0.011406576879344137, 0.7593804476655308, 1.4704072274428213, 2.480049051791356, 70.21303041968699, 111.64384131651107, 149.34563541410105, 185.01713760565005, 196.07395155765545, 254.15074556230738, 325.4807218890844, 402.6639424124322, 469.9784170651795, 640.1605508961336]\n",
            "Custo =  296541.6607983211\n",
            "\n",
            "=========================================================================\n",
            "\n",
            "Número de ciclos de manutenção: 12 2\n",
            "Tempos para manutenções preventivas: [0, 42, 60, 170, 201, 213, 320, 484, 534, 540, 571, 614, 653]\n",
            "Severidade para cada subsistema: [0.25, 0.5, 0.75, 0.5, 0.25, 0.5, 0.75, 0.5, 0.5, 0.75, 0.25, 0.75]\n",
            "Número de Sisemas: 2\n",
            "Fator:  [0.4796409625107464, 0.15067134756744527, 0.27864084015710067, 0.3873289968507504, 0.27864084015710067, 0.15067134756744527, 0.27864084015710067, 0.3873289968507504, 0.27864084015710067, 0.27864084015710067, 0.3873289968507504, 0.15067134756744527, 0.3873289968507504]\n",
            "Media de falhas:  [0, 0.0017622855408672082, 0.003050901770659759, 1.4634566781040528, 2.248127829026221, 2.4754230294902158, 17.660828825397104, 211.51653758503, 278.82876823226485, 283.68224539276946, 340.6816087496675, 444.5631162463545, 509.9932664355183, 1165.6125254488784]\n",
            "Custo =  272182.0591137253\n",
            "\n",
            "=========================================================================\n",
            "\n",
            "Número de ciclos de manutenção: 10 2\n",
            "Tempos para manutenções preventivas: [0, 170, 201, 241, 304, 421, 482, 538, 555, 618, 652]\n",
            "Severidade para cada subsistema: [0.75, 0.5, 0.75, 0.75, 0.5, 0.75, 0.5, 0.5, 0.25, 0.75]\n",
            "Número de Sisemas: 2\n",
            "Fator:  [0.4796409625107464, 0.3873289968507504, 0.27864084015710067, 0.3873289968507504, 0.3873289968507504, 0.27864084015710067, 0.3873289968507504, 0.27864084015710067, 0.27864084015710067, 0.15067134756744527, 0.3873289968507504]\n",
            "Media de falhas:  [0, 1.9257865980448212, 2.182014411153163, 3.3658093355818126, 11.334798675517758, 43.16197024038995, 72.52572725817653, 149.34592161392357, 164.48881380225623, 315.38751179415146, 421.98240127966477, 1084.7032561638348]\n",
            "Custo =  260042.41977092024\n"
          ]
        },
        {
          "output_type": "stream",
          "name": "stderr",
          "text": [
            "pyswarms.single.global_best: 100%|██████████|100/100, best_cost=1.09e+5\n",
            "2023-10-22 00:26:46,465 - pyswarms.single.global_best - INFO - Optimization finished | best cost: 109151.90170863555, best pos: [3.54934539 1.92724319 3.1159078  0.38341103 3.69106846 5.70079276\n",
            " 3.98764046 6.7196157  5.19939839 2.60691521 5.94202641 2.92815726\n",
            " 4.77285752 0.77617882 0.58172635 3.75773196 5.46065273 3.81532141\n",
            " 6.53422434 5.38970219 2.06510291 5.33931771 6.53300999 0.78973085]\n",
            "2023-10-22 00:26:46,473 - pyswarms.single.global_best - INFO - Optimize for 1 iters with {'c1': 0.5, 'c2': 0.3, 'w': 0.9}\n"
          ]
        },
        {
          "output_type": "stream",
          "name": "stdout",
          "text": [
            "\n",
            "=========================================================================\n",
            "\n",
            "Número de ciclos de manutenção: 7 2\n",
            "Tempos para manutenções preventivas: [0, 170, 203, 423, 481, 617, 652, 681]\n",
            "Severidade para cada subsistema: [0.75, 0.5, 0.25, 0.75, 0.25, 0.75, 0.5]\n",
            "Número de Sisemas: 2\n",
            "Fator:  [0.4796409625107464, 0.3873289968507504, 0.27864084015710067, 0.15067134756744527, 0.3873289968507504, 0.15067134756744527, 0.3873289968507504, 0.27864084015710067]\n",
            "Media de falhas:  [0, 1.9257865980448212, 2.210560588965735, 67.69197554135947, 117.64371106967536, 615.2269623007036, 673.7950109290875, 880.3533395416819, 1008.2670166398634]\n",
            "Custo =  244646.33463117195\n",
            "\n",
            "=========================================================================\n",
            "\n",
            "Número de ciclos de manutenção: 8 2\n",
            "Tempos para manutenções preventivas: [0, 118, 149, 170, 204, 392, 482, 620, 655]\n",
            "Severidade para cada subsistema: [0.5, 0.25, 0.75, 0.5, 0.5, 0.75, 0.25, 0.75]\n",
            "Número de Sisemas: 2\n",
            "Fator:  [0.4796409625107464, 0.27864084015710067, 0.15067134756744527, 0.3873289968507504, 0.27864084015710067, 0.27864084015710067, 0.3873289968507504, 0.15067134756744527, 0.3873289968507504]\n",
            "Media de falhas:  [0, 0.309821762683067, 0.3891663610809927, 0.669303895126114, 2.26926187032592, 42.69619543096782, 116.07299924151765, 415.1458814194695, 474.8092299766206, 1116.129000234304]\n",
            "Custo =  204240.09167438443\n",
            "\n",
            "=========================================================================\n",
            "\n",
            "Número de ciclos de manutenção: 12 2\n",
            "Tempos para manutenções preventivas: [0, 51, 97, 133, 170, 202, 419, 421, 484, 543, 571, 617, 658]\n",
            "Severidade para cada subsistema: [0.25, 0.5, 0.75, 0.75, 0.5, 0.5, 0.25, 0.75, 0.75, 0.75, 0.25, 0.75]\n",
            "Número de Sisemas: 2\n",
            "Fator:  [0.4796409625107464, 0.15067134756744527, 0.27864084015710067, 0.3873289968507504, 0.3873289968507504, 0.27864084015710067, 0.27864084015710067, 0.15067134756744527, 0.3873289968507504, 0.3873289968507504, 0.3873289968507504, 0.15067134756744527, 0.3873289968507504]\n",
            "Media de falhas:  [0, 0.004656210022042303, 0.03162201655553853, 0.2952136388512448, 0.7478381006639214, 1.215970728435029, 63.32038530324693, 64.47114451636861, 119.56097276441642, 272.40246702312237, 300.02605354047597, 361.0143477711057, 431.8275072096866, 1051.4549549257422]\n",
            "Custo =  258355.8554354777\n",
            "\n",
            "=========================================================================\n",
            "\n",
            "Número de ciclos de manutenção: 9 2\n",
            "Tempos para manutenções preventivas: [0, 31, 97, 170, 200, 487, 579, 614, 658, 664]\n",
            "Severidade para cada subsistema: [0.25, 0.5, 0.75, 0.5, 0.75, 0.75, 0.25, 0.75, 0.75]\n",
            "Número de Sisemas: 2\n",
            "Fator:  [0.4796409625107464, 0.15067134756744527, 0.27864084015710067, 0.3873289968507504, 0.27864084015710067, 0.3873289968507504, 0.3873289968507504, 0.15067134756744527, 0.3873289968507504, 0.3873289968507504]\n",
            "Media de falhas:  [0, 0.0003855564328850595, 0.05090494618071404, 1.227714972259227, 1.9750809661733653, 158.42320847254305, 318.7617493197886, 364.7218217597436, 440.520110559767, 481.3093317266557, 651.4914655576099]\n",
            "Custo =  224241.13057891608\n",
            "\n",
            "=========================================================================\n",
            "\n",
            "Número de ciclos de manutenção: 12 2\n",
            "Tempos para manutenções preventivas: [0, 60, 93, 170, 198, 312, 440, 489, 582, 611, 653, 678, 707]\n",
            "Severidade para cada subsistema: [0.5, 0.5, 0.75, 0.5, 0.5, 0.5, 0.75, 0.75, 0.25, 0.75, 0.75, 0.25]\n",
            "Número de Sisemas: 2\n",
            "Fator:  [0.4796409625107464, 0.27864084015710067, 0.27864084015710067, 0.3873289968507504, 0.27864084015710067, 0.27864084015710067, 0.27864084015710067, 0.3873289968507504, 0.3873289968507504, 0.15067134756744527, 0.3873289968507504, 0.3873289968507504, 0.15067134756744527]\n",
            "Media de falhas:  [0, 0.010501043413451327, 0.024858669710596235, 0.8482412391177313, 1.5238758602021827, 10.966219046320095, 77.76189234895624, 123.80822398197668, 289.1382082906061, 326.69432662837283, 396.97191605980237, 573.5415986880287, 641.1807032747772, 702.5363019122366]\n",
            "Custo =  277747.71320209175\n"
          ]
        },
        {
          "output_type": "stream",
          "name": "stderr",
          "text": [
            "pyswarms.single.global_best: 100%|██████████|1/1, best_cost=1.09e+5\n",
            "2023-10-22 00:26:46,488 - pyswarms.single.global_best - INFO - Optimization finished | best cost: 109151.90170863555, best pos: [3.55103025 1.92806106 3.11591194 0.3770311  3.79732219 5.69526064\n",
            " 3.98542764 6.71961141 5.19546018 2.606479   4.88169217 2.92812069\n",
            " 4.77304472 0.81843004 0.58216693 3.75553647 5.45822984 3.81515339\n",
            " 6.53067705 5.38958295 2.06486113 5.3387275  6.53328618 0.78896737]\n",
            "2023-10-22 00:26:46,491 - pyswarms.single.global_best - INFO - Optimize for 1 iters with {'c1': 0.5, 'c2': 0.3, 'w': 0.9}\n"
          ]
        },
        {
          "output_type": "stream",
          "name": "stdout",
          "text": [
            "\n",
            "=========================================================================\n",
            "\n",
            "Número de ciclos de manutenção: 13 2\n",
            "Tempos para manutenções preventivas: [0, 3, 61, 170, 198, 318, 405, 489, 538, 584, 610, 646, 683, 705]\n",
            "Severidade para cada subsistema: [0.5, 0.5, 0.75, 0.5, 0.75, 0.5, 0.75, 0.5, 0.75, 0.25, 0.75, 0.75, 0.25]\n",
            "Número de Sisemas: 2\n",
            "Fator:  [0.4796409625107464, 0.27864084015710067, 0.27864084015710067, 0.3873289968507504, 0.27864084015710067, 0.3873289968507504, 0.27864084015710067, 0.3873289968507504, 0.27864084015710067, 0.3873289968507504, 0.15067134756744527, 0.3873289968507504, 0.3873289968507504, 0.15067134756744527]\n",
            "Media de falhas:  [0, 3.2408096839028386e-09, 0.010122219365065369, 1.1446632941746033, 1.8202979152590548, 12.578344294382577, 47.06652308983055, 89.259037292959, 157.41239775959446, 206.2415427391469, 269.36674350828736, 327.34836457532674, 589.0751960328961, 640.1300059891898, 706.7019311469367]\n",
            "Custo =  296760.07917643036\n"
          ]
        },
        {
          "output_type": "stream",
          "name": "stderr",
          "text": [
            "pyswarms.single.global_best: 100%|██████████|1/1, best_cost=1.09e+5\n",
            "2023-10-22 00:26:46,525 - pyswarms.single.global_best - INFO - Optimization finished | best cost: 109151.90170863555, best pos: [3.5507515  1.92806976 3.11591327 0.37247333 3.77323042 5.69288301\n",
            " 3.98638462 6.71961905 5.19838657 2.60641768 0.11593253 2.92813389\n",
            " 4.77199237 3.89679451 0.58188664 3.75595946 5.46382109 3.81519551\n",
            " 6.53055505 5.3896939  2.06486452 5.3397946  6.5334581  0.78985039]\n",
            "2023-10-22 00:26:46,527 - pyswarms.single.global_best - INFO - Optimize for 1 iters with {'c1': 0.5, 'c2': 0.3, 'w': 0.9}\n"
          ]
        },
        {
          "output_type": "stream",
          "name": "stdout",
          "text": [
            "\n",
            "=========================================================================\n",
            "\n",
            "Número de ciclos de manutenção: 14 2\n",
            "Tempos para manutenções preventivas: [0, 10, 62, 90, 170, 199, 311, 403, 488, 533, 548, 585, 608, 640, 698]\n",
            "Severidade para cada subsistema: [0.5, 0.5, 0.5, 0.75, 0.5, 0.25, 0.5, 0.75, 0.5, 0.5, 0.75, 0.25, 0.75, 0.25]\n",
            "Número de Sisemas: 2\n",
            "Fator:  [0.4796409625107464, 0.27864084015710067, 0.27864084015710067, 0.27864084015710067, 0.3873289968507504, 0.27864084015710067, 0.15067134756744527, 0.27864084015710067, 0.3873289968507504, 0.27864084015710067, 0.27864084015710067, 0.3873289968507504, 0.15067134756744527, 0.3873289968507504, 0.15067134756744527]\n",
            "Media de falhas:  [0, 1.3403836653692202e-06, 0.008271301554091264, 0.03335069389228898, 0.8842344104255493, 1.5952611902028395, 10.742832940359758, 46.10647002979859, 176.10844667536594, 236.8362160208652, 249.5628873900531, 323.76718720932115, 379.18753780000907, 429.0071139675538, 856.4404101921086, 941.1349092891072]\n",
            "Custo =  305616.9942654455\n"
          ]
        },
        {
          "output_type": "stream",
          "name": "stderr",
          "text": [
            "pyswarms.single.global_best: 100%|██████████|1/1, best_cost=1.09e+5\n",
            "2023-10-22 00:26:46,539 - pyswarms.single.global_best - INFO - Optimization finished | best cost: 109151.90170863555, best pos: [3.5501532  1.92801198 3.1159136  0.3699427  3.72779891 5.69196801\n",
            " 3.98746986 6.71962591 5.20119775 2.60650647 2.77845315 2.92814775\n",
            " 4.77108504 0.60490144 0.58162594 3.75652376 5.46882816 3.81523884\n",
            " 6.53052181 5.38979612 2.06487389 5.34070843 6.53357825 0.79063618]\n",
            "2023-10-22 00:26:46,541 - pyswarms.single.global_best - INFO - Optimize for 1 iters with {'c1': 0.5, 'c2': 0.3, 'w': 0.9}\n"
          ]
        },
        {
          "output_type": "stream",
          "name": "stdout",
          "text": [
            "\n",
            "=========================================================================\n",
            "\n",
            "Número de ciclos de manutenção: 15 2\n",
            "Tempos para manutenções preventivas: [0, 17, 64, 96, 145, 170, 202, 217, 323, 449, 489, 529, 585, 610, 635, 690]\n",
            "Severidade para cada subsistema: [0.5, 0.5, 0.5, 0.25, 0.75, 0.5, 0.75, 0.75, 0.5, 0.75, 0.5, 0.75, 0.25, 0.75, 0.25]\n",
            "Número de Sisemas: 2\n",
            "Fator:  [0.4796409625107464, 0.27864084015710067, 0.27864084015710067, 0.27864084015710067, 0.15067134756744527, 0.3873289968507504, 0.27864084015710067, 0.3873289968507504, 0.3873289968507504, 0.27864084015710067, 0.3873289968507504, 0.27864084015710067, 0.3873289968507504, 0.15067134756744527, 0.3873289968507504, 0.15067134756744527]\n",
            "Media de falhas:  [0, 1.907371778552721e-05, 0.0073518358011814555, 0.04397497174046881, 0.3355814163331925, 0.6613925895103685, 2.126917317628017, 2.430779283988391, 18.103242010992044, 62.46150361081918, 83.2849292812648, 136.16894669670302, 195.51025340661698, 256.32320784889885, 294.29097928750906, 683.4060277483065, 788.5709165885304]\n",
            "Custo =  260453.31016144127\n"
          ]
        },
        {
          "output_type": "stream",
          "name": "stderr",
          "text": [
            "pyswarms.single.global_best: 100%|██████████|1/1, best_cost=1.09e+5\n",
            "2023-10-22 00:26:46,553 - pyswarms.single.global_best - INFO - Optimization finished | best cost: 109151.90170863555, best pos: [3.54953611 1.92781945 3.11591329 0.36773167 3.6807611  5.69323722\n",
            " 3.98847011 6.71963184 5.20334477 2.60663785 5.15318894 2.92816029\n",
            " 4.77073094 5.36915093 0.58140546 3.75722354 5.47135566 3.81528425\n",
            " 6.53122762 5.38988396 2.0649223  5.34125188 6.5335754  0.79134256]\n",
            "2023-10-22 00:26:46,555 - pyswarms.single.global_best - INFO - Optimize for 1 iters with {'c1': 0.5, 'c2': 0.3, 'w': 0.9}\n"
          ]
        },
        {
          "output_type": "stream",
          "name": "stdout",
          "text": [
            "\n",
            "=========================================================================\n",
            "\n",
            "Número de ciclos de manutenção: 15 2\n",
            "Tempos para manutenções preventivas: [0, 23, 34, 65, 118, 170, 205, 314, 398, 420, 473, 490, 525, 585, 612, 631]\n",
            "Severidade para cada subsistema: [0.5, 0.25, 0.5, 0.5, 0.75, 0.5, 0.5, 0.75, 0.5, 0.5, 0.75, 0.5, 0.75, 0.25, 0.75]\n",
            "Número de Sisemas: 2\n",
            "Fator:  [0.4796409625107464, 0.27864084015710067, 0.15067134756744527, 0.27864084015710067, 0.27864084015710067, 0.3873289968507504, 0.27864084015710067, 0.27864084015710067, 0.3873289968507504, 0.27864084015710067, 0.27864084015710067, 0.3873289968507504, 0.27864084015710067, 0.3873289968507504, 0.15067134756744527, 0.3873289968507504]\n",
            "Media de falhas:  [0, 8.657205513617083e-05, 0.00016925398150452188, 0.007175527759106188, 0.2010737739041753, 0.7975173209966657, 1.7414550491414849, 10.968913603040829, 42.11993662340163, 53.97145183025456, 77.77354716817138, 95.10212384095749, 140.43864166922606, 203.81304279114116, 270.1160850755055, 298.41958417956243, 1103.1423330017496]\n",
            "Custo =  257144.7741352527\n"
          ]
        },
        {
          "output_type": "stream",
          "name": "stderr",
          "text": [
            "pyswarms.single.global_best: 100%|██████████|1/1, best_cost=1.09e+5\n",
            "2023-10-22 00:26:46,572 - pyswarms.single.global_best - INFO - Optimization finished | best cost: 109151.90170863555, best pos: [3.54893916 1.92760331 3.11591178 0.36611572 3.6388083  5.69505114\n",
            " 3.98920391 6.71963701 5.20481076 2.60682738 6.82620162 2.92817157\n",
            " 4.77098481 3.39449198 0.58122759 3.75795562 5.47052671 3.81533234\n",
            " 6.53204654 5.38993013 2.06501509 5.34145568 6.53342625 0.79191949]\n",
            "2023-10-22 00:26:46,574 - pyswarms.single.global_best - INFO - Optimize for 1 iters with {'c1': 0.5, 'c2': 0.3, 'w': 0.9}\n"
          ]
        },
        {
          "output_type": "stream",
          "name": "stdout",
          "text": [
            "\n",
            "=========================================================================\n",
            "\n",
            "Número de ciclos de manutenção: 14 2\n",
            "Tempos para manutenções preventivas: [0, 27, 47, 66, 146, 170, 208, 241, 328, 434, 467, 492, 524, 584, 619]\n",
            "Severidade para cada subsistema: [0.5, 0.25, 0.5, 0.5, 0.75, 0.5, 0.75, 0.25, 0.25, 0.5, 0.75, 0.5, 0.75, 0.25]\n",
            "Número de Sisemas: 2\n",
            "Fator:  [0.4796409625107464, 0.27864084015710067, 0.15067134756744527, 0.27864084015710067, 0.27864084015710067, 0.3873289968507504, 0.27864084015710067, 0.3873289968507504, 0.15067134756744527, 0.15067134756744527, 0.27864084015710067, 0.3873289968507504, 0.27864084015710067, 0.3873289968507504, 0.15067134756744527]\n",
            "Media de falhas:  [0, 0.00019312920172563452, 0.0008023981747890649, 0.0057924092384184275, 0.6300675683127863, 0.9446430015254788, 2.0191360343450695, 3.0051641826140063, 17.25982460775778, 49.864087666878255, 99.47993779675737, 147.28923196322245, 188.6839837074833, 251.62058678929637, 340.3010267995523, 619.3228295582654]\n",
            "Custo =  172870.54404477892\n"
          ]
        },
        {
          "output_type": "stream",
          "name": "stderr",
          "text": [
            "pyswarms.single.global_best:   0%|          |0/1, best_cost=1.09e+5"
          ]
        },
        {
          "output_type": "stream",
          "name": "stdout",
          "text": [
            "\n",
            "=========================================================================\n",
            "\n",
            "Número de ciclos de manutenção: 12 2\n",
            "Tempos para manutenções preventivas: [0, 28, 66, 94, 140, 170, 246, 303, 463, 493, 526, 582, 628]\n",
            "Severidade para cada subsistema: [0.5, 0.5, 0.75, 0.25, 0.75, 0.75, 0.25, 0.5, 0.75, 0.5, 0.75, 0.25]\n",
            "Número de Sisemas: 2\n",
            "Fator:  [0.4796409625107464, 0.27864084015710067, 0.27864084015710067, 0.3873289968507504, 0.15067134756744527, 0.3873289968507504, 0.3873289968507504, 0.15067134756744527, 0.27864084015710067, 0.3873289968507504, 0.27864084015710067, 0.3873289968507504, 0.15067134756744527]\n",
            "Media de falhas:  [0, 0.00023167820929635553, 0.005641982541437983, 0.03574463387477622, 0.27489712118672516, 0.4937632324107108, 6.702385344991108, 10.897234695468985, 75.01243718200139, 131.92884262432548, 175.19191602303846, 233.3102166670073, 354.5050217618067, 611.9964639820054]\n",
            "Custo =  151759.70577232906\n"
          ]
        },
        {
          "output_type": "stream",
          "name": "stderr",
          "text": [
            "\rpyswarms.single.global_best: 100%|██████████|1/1, best_cost=1.09e+5\n",
            "2023-10-22 00:26:46,586 - pyswarms.single.global_best - INFO - Optimization finished | best cost: 109151.90170863555, best pos: [3.54845585 1.92732753 3.11591027 0.3648191  3.60704763 5.69727816\n",
            " 3.98942101 6.71963632 5.20612853 2.6070147  0.4439523  2.92818172\n",
            " 4.77146966 1.91913662 0.58109266 3.75854856 5.46965182 3.81537516\n",
            " 6.53281639 5.3899598  2.06511357 5.34117709 6.5331982  0.79213194]\n",
            "2023-10-22 00:26:46,587 - pyswarms.single.global_best - INFO - Optimize for 1 iters with {'c1': 0.5, 'c2': 0.3, 'w': 0.9}\n",
            "pyswarms.single.global_best: 100%|██████████|1/1, best_cost=1.09e+5\n",
            "2023-10-22 00:26:46,599 - pyswarms.single.global_best - INFO - Optimization finished | best cost: 109151.90170863555, best pos: [3.5480388  1.92705966 3.1159086  0.36633293 3.59393922 5.69977626\n",
            " 3.98947589 6.71963563 5.20642528 2.60716364 1.85504622 2.92818927\n",
            " 4.77214773 1.05404334 0.58097468 3.75887023 5.46659797 3.81540224\n",
            " 6.5338186  5.38994297 2.06520218 5.34078169 6.53295087 0.79195434]\n",
            "2023-10-22 00:26:46,600 - pyswarms.single.global_best - INFO - Optimize for 1 iters with {'c1': 0.5, 'c2': 0.3, 'w': 0.9}\n"
          ]
        },
        {
          "output_type": "stream",
          "name": "stdout",
          "text": [
            "\n",
            "=========================================================================\n",
            "\n",
            "Número de ciclos de manutenção: 14 2\n",
            "Tempos para manutenções preventivas: [0, 28, 65, 108, 170, 238, 250, 304, 330, 403, 461, 495, 529, 560, 580]\n",
            "Severidade para cada subsistema: [0.5, 0.5, 0.75, 0.75, 0.25, 0.75, 0.25, 0.5, 0.75, 0.5, 0.75, 0.5, 0.25, 0.75]\n",
            "Número de Sisemas: 2\n",
            "Fator:  [0.4796409625107464, 0.27864084015710067, 0.27864084015710067, 0.3873289968507504, 0.3873289968507504, 0.15067134756744527, 0.3873289968507504, 0.15067134756744527, 0.27864084015710067, 0.3873289968507504, 0.27864084015710067, 0.3873289968507504, 0.27864084015710067, 0.15067134756744527, 0.3873289968507504]\n",
            "Media de falhas:  [0, 0.00023167820929635553, 0.00514540855125827, 0.08147066280512244, 0.7691190195033981, 2.654248951050957, 3.088056295999596, 15.438143271587323, 18.245255677168743, 69.60143870535993, 111.51866552358587, 130.23608359601414, 175.75829685752115, 203.94263551975422, 244.00022123864466, 1343.364313970602]\n",
            "Custo =  212947.10197114042\n"
          ]
        },
        {
          "output_type": "stream",
          "name": "stderr",
          "text": [
            "pyswarms.single.global_best: 100%|██████████|1/1, best_cost=1.09e+5\n",
            "2023-10-22 00:26:46,612 - pyswarms.single.global_best - INFO - Optimization finished | best cost: 109151.90170863555, best pos: [3.54774764 1.92684534 3.11590694 0.37185671 3.58379738 5.70211603\n",
            " 3.98903538 6.71963034 5.20528201 2.60729577 2.95149391 2.92819292\n",
            " 4.7728316  0.92312706 0.58093345 3.7588879  5.46369322 3.81542634\n",
            " 6.53480626 5.38988592 2.06526259 5.34019642 6.53273374 0.79113553]\n",
            "2023-10-22 00:26:46,615 - pyswarms.single.global_best - INFO - Optimize for 1 iters with {'c1': 0.5, 'c2': 0.3, 'w': 0.9}\n"
          ]
        },
        {
          "output_type": "stream",
          "name": "stdout",
          "text": [
            "\n",
            "=========================================================================\n",
            "\n",
            "Número de ciclos de manutenção: 13 2\n",
            "Tempos para manutenções preventivas: [0, 27, 64, 98, 171, 253, 318, 330, 443, 460, 496, 533, 579, 632]\n",
            "Severidade para cada subsistema: [0.5, 0.5, 0.75, 0.75, 0.75, 0.25, 0.5, 0.25, 0.5, 0.75, 0.5, 0.75, 0.75]\n",
            "Número de Sisemas: 2\n",
            "Fator:  [0.4796409625107464, 0.27864084015710067, 0.27864084015710067, 0.3873289968507504, 0.3873289968507504, 0.3873289968507504, 0.15067134756744527, 0.27864084015710067, 0.15067134756744527, 0.27864084015710067, 0.3873289968507504, 0.27864084015710067, 0.3873289968507504, 0.3873289968507504]\n",
            "Media de falhas:  [0, 0.00019312920172563452, 0.00486473919058311, 0.04680474740393615, 0.8532545930907672, 3.7658222860307315, 9.551052075190038, 10.879255666271142, 115.42250358331859, 128.84225854157665, 197.52617723769112, 248.28918362189813, 295.44881205978453, 437.02382284863154, 684.919108452533]\n",
            "Custo =  174608.47476684168\n"
          ]
        },
        {
          "output_type": "stream",
          "name": "stderr",
          "text": [
            "pyswarms.single.global_best: 100%|██████████|1/1, best_cost=1.09e+5\n",
            "2023-10-22 00:26:46,628 - pyswarms.single.global_best - INFO - Optimization finished | best cost: 109151.90170863555, best pos: [3.54770986 1.92673423 3.11590569 0.37768544 3.60445788 5.70393134\n",
            " 3.98846321 6.71962239 5.20345212 2.60736525 3.48506806 2.92819193\n",
            " 4.77344715 1.47795932 0.58106552 3.75864427 5.46054044 3.81543524\n",
            " 6.53559808 5.38982117 2.06527073 5.33959311 6.5325408  0.79018486]\n",
            "2023-10-22 00:26:46,630 - pyswarms.single.global_best - INFO - Optimize for 1 iters with {'c1': 0.5, 'c2': 0.3, 'w': 0.9}\n"
          ]
        },
        {
          "output_type": "stream",
          "name": "stdout",
          "text": [
            "\n",
            "=========================================================================\n",
            "\n",
            "Número de ciclos de manutenção: 12 2\n",
            "Tempos para manutenções preventivas: [0, 25, 63, 104, 133, 171, 255, 330, 460, 496, 537, 578, 636]\n",
            "Severidade para cada subsistema: [0.5, 0.5, 0.75, 0.75, 0.75, 0.75, 0.5, 0.5, 0.75, 0.5, 0.75, 0.75]\n",
            "Número de Sisemas: 2\n",
            "Fator:  [0.4796409625107464, 0.27864084015710067, 0.27864084015710067, 0.3873289968507504, 0.3873289968507504, 0.3873289968507504, 0.3873289968507504, 0.27864084015710067, 0.27864084015710067, 0.3873289968507504, 0.27864084015710067, 0.3873289968507504, 0.3873289968507504]\n",
            "Media de falhas:  [0, 0.00013139828505492594, 0.004786711167704523, 0.06746291271027738, 0.2001895215777659, 0.48144745227493735, 3.56282794042706, 11.27829670212044, 61.70442642996947, 98.60306069816065, 156.1202847915768, 198.05583279797537, 355.6961357025492, 593.9750258002813]\n",
            "Custo =  141240.74539186904\n"
          ]
        },
        {
          "output_type": "stream",
          "name": "stderr",
          "text": [
            "pyswarms.single.global_best: 100%|██████████|1/1, best_cost=1.09e+5\n",
            "2023-10-22 00:26:46,644 - pyswarms.single.global_best - INFO - Optimization finished | best cost: 109151.90170863555, best pos: [3.54793218 1.92670567 3.11590475 0.38445241 3.64344393 5.70505233\n",
            " 3.987756   6.71961329 5.2011737  2.60729921 3.98812907 2.92818763\n",
            " 4.77395928 2.64985953 0.58123983 3.7584153  5.45773648 3.81544019\n",
            " 6.53624302 5.38973106 2.06523713 5.33903663 6.53238725 0.78928414]\n",
            "2023-10-22 00:26:46,646 - pyswarms.single.global_best - INFO - Optimize for 1 iters with {'c1': 0.5, 'c2': 0.3, 'w': 0.9}\n"
          ]
        },
        {
          "output_type": "stream",
          "name": "stdout",
          "text": [
            "\n",
            "=========================================================================\n",
            "\n",
            "Número de ciclos de manutenção: 13 2\n",
            "Tempos para manutenções preventivas: [0, 23, 62, 171, 231, 254, 330, 413, 445, 462, 496, 556, 578, 641]\n",
            "Severidade para cada subsistema: [0.5, 0.5, 0.75, 0.25, 0.75, 0.5, 0.75, 0.5, 0.5, 0.75, 0.25, 0.75, 0.75]\n",
            "Número de Sisemas: 2\n",
            "Fator:  [0.4796409625107464, 0.27864084015710067, 0.27864084015710067, 0.3873289968507504, 0.15067134756744527, 0.3873289968507504, 0.27864084015710067, 0.3873289968507504, 0.27864084015710067, 0.27864084015710067, 0.3873289968507504, 0.15067134756744527, 0.3873289968507504, 0.3873289968507504]\n",
            "Media de falhas:  [0, 8.657205513617083e-05, 0.004725004145625902, 1.1661516009540867, 3.590793244353783, 4.456155245626319, 26.836378544467635, 47.89027267014326, 69.14704221908944, 76.38362548243208, 111.38886121100668, 204.9142560136649, 227.86015815065844, 550.1738084292315, 776.3998793911089]\n",
            "Custo =  197998.88315524333\n"
          ]
        },
        {
          "output_type": "stream",
          "name": "stderr",
          "text": [
            "pyswarms.single.global_best: 100%|██████████|1/1, best_cost=1.09e+5\n",
            "2023-10-22 00:26:46,661 - pyswarms.single.global_best - INFO - Optimization finished | best cost: 109151.90170863555, best pos: [3.54833497 1.92682941 3.11590452 0.39046553 3.68719415 5.70521254\n",
            " 3.98709725 6.71960555 5.19880997 2.60718745 3.74935494 2.92818125\n",
            " 4.77430952 3.98266442 0.58150989 3.75814047 5.45593249 3.81542326\n",
            " 6.53653612 5.38964522 2.06517598 5.33859328 6.53227667 0.78858773]\n",
            "2023-10-22 00:26:46,662 - pyswarms.single.global_best - INFO - Optimize for 1 iters with {'c1': 0.5, 'c2': 0.3, 'w': 0.9}\n"
          ]
        },
        {
          "output_type": "stream",
          "name": "stdout",
          "text": [
            "\n",
            "=========================================================================\n",
            "\n",
            "Número de ciclos de manutenção: 11 2\n",
            "Tempos para manutenções preventivas: [0, 20, 61, 130, 171, 253, 326, 430, 466, 496, 579, 644]\n",
            "Severidade para cada subsistema: [0.5, 0.5, 0.5, 0.75, 0.75, 0.75, 0.25, 0.5, 0.75, 0.75, 0.75]\n",
            "Número de Sisemas: 2\n",
            "Fator:  [0.4796409625107464, 0.27864084015710067, 0.27864084015710067, 0.27864084015710067, 0.3873289968507504, 0.3873289968507504, 0.3873289968507504, 0.15067134756744527, 0.27864084015710067, 0.3873289968507504, 0.3873289968507504, 0.3873289968507504]\n",
            "Media de falhas:  [0, 4.3016517204670066e-05, 0.004886616855481807, 0.25216225377892454, 0.7566245024804754, 5.326635511956536, 12.481485368242737, 43.31212084345614, 58.80229294669729, 117.15257677693174, 263.98036447078186, 364.92909142622517, 583.9043149729262]\n",
            "Custo =  132604.74382650177\n"
          ]
        },
        {
          "output_type": "stream",
          "name": "stderr",
          "text": [
            "pyswarms.single.global_best: 100%|██████████|1/1, best_cost=1.09e+5\n",
            "2023-10-22 00:26:46,675 - pyswarms.single.global_best - INFO - Optimization finished | best cost: 109151.90170863555, best pos: [3.5489136  1.92700172 3.11590447 0.39560054 3.72745689 5.70410351\n",
            " 3.98657438 6.71959873 5.19677678 2.60706918 3.00808765 2.92817131\n",
            " 4.77421564 5.36005881 0.58179726 3.75785658 5.45514993 3.81540387\n",
            " 6.53666361 5.38957074 2.06510404 5.33834049 6.53224717 0.78823337]\n",
            "2023-10-22 00:26:46,676 - pyswarms.single.global_best - INFO - Optimize for 1 iters with {'c1': 0.5, 'c2': 0.3, 'w': 0.9}\n"
          ]
        },
        {
          "output_type": "stream",
          "name": "stdout",
          "text": [
            "\n",
            "=========================================================================\n",
            "\n",
            "Número de ciclos de manutenção: 11 2\n",
            "Tempos para manutenções preventivas: [0, 17, 61, 112, 171, 208, 252, 471, 495, 543, 580, 647]\n",
            "Severidade para cada subsistema: [0.5, 0.5, 0.25, 0.75, 0.5, 0.75, 0.5, 0.75, 0.5, 0.75, 0.75]\n",
            "Número de Sisemas: 2\n",
            "Fator:  [0.4796409625107464, 0.27864084015710067, 0.27864084015710067, 0.15067134756744527, 0.3873289968507504, 0.27864084015710067, 0.3873289968507504, 0.27864084015710067, 0.3873289968507504, 0.27864084015710067, 0.3873289968507504, 0.3873289968507504]\n",
            "Media de falhas:  [0, 1.907371778552721e-05, 0.005581372612029934, 0.10806771681600533, 0.7849997279320104, 2.6359183693681842, 4.189175299779252, 142.25037993403794, 155.61931841535878, 225.1014265341273, 263.6265014976901, 456.12547468741536, 667.8341575540938]\n",
            "Custo =  140183.9549387622\n"
          ]
        },
        {
          "output_type": "stream",
          "name": "stderr",
          "text": [
            "pyswarms.single.global_best:   0%|          |0/1, best_cost=1.09e+5"
          ]
        },
        {
          "output_type": "stream",
          "name": "stdout",
          "text": [
            "\n",
            "=========================================================================\n",
            "\n",
            "Número de ciclos de manutenção: 13 2\n",
            "Tempos para manutenções preventivas: [0, 13, 62, 110, 143, 171, 206, 250, 315, 447, 476, 495, 581, 649]\n",
            "Severidade para cada subsistema: [0.5, 0.5, 0.5, 0.25, 0.75, 0.5, 0.75, 0.5, 0.5, 0.5, 0.75, 0.75, 0.75]\n",
            "Número de Sisemas: 2\n",
            "Fator:  [0.4796409625107464, 0.27864084015710067, 0.27864084015710067, 0.27864084015710067, 0.15067134756744527, 0.3873289968507504, 0.27864084015710067, 0.3873289968507504, 0.27864084015710067, 0.27864084015710067, 0.27864084015710067, 0.3873289968507504, 0.3873289968507504, 0.3873289968507504]\n",
            "Media de falhas:  [0, 4.982202230908635e-06, 0.007284922468018404, 0.09760388137671269, 0.2974374419922286, 0.6651340950370681, 2.3695524296812263, 3.873478949048316, 13.360169376388392, 59.03270814120537, 84.57104304652066, 104.65492120326672, 258.2072697088234, 366.9428813565985, 573.7979462232706]\n",
            "Custo =  129754.94472731282\n"
          ]
        },
        {
          "output_type": "stream",
          "name": "stderr",
          "text": [
            "\rpyswarms.single.global_best: 100%|██████████|1/1, best_cost=1.09e+5\n",
            "2023-10-22 00:26:46,689 - pyswarms.single.global_best - INFO - Optimization finished | best cost: 109151.90170863555, best pos: [3.54954261 1.9271984  3.11590483 0.4001554  3.76302071 5.70287092\n",
            " 3.98640318 6.71959398 5.19518321 2.60694075 2.22253901 2.92815971\n",
            " 4.77404049 0.13071837 0.58204288 3.75757753 5.45444583 3.81536503\n",
            " 6.53638446 5.38950466 2.06503916 5.33820357 6.53233927 0.78799779]\n",
            "2023-10-22 00:26:46,691 - pyswarms.single.global_best - INFO - Optimize for 1 iters with {'c1': 0.5, 'c2': 0.3, 'w': 0.9}\n",
            "pyswarms.single.global_best: 100%|██████████|1/1, best_cost=1.09e+5\n",
            "2023-10-22 00:26:46,706 - pyswarms.single.global_best - INFO - Optimization finished | best cost: 109151.90170863555, best pos: [3.55006038 1.92738469 3.11590564 0.40026183 3.79236882 5.70124686\n",
            " 3.98640386 6.71959149 5.1940294  2.606825   1.88799869 2.92814878\n",
            " 4.77371931 2.49744548 0.58225611 3.75734707 5.45530956 3.81531704\n",
            " 6.53557229 5.38947981 2.06498529 5.33840334 6.53260203 0.78786046]\n",
            "2023-10-22 00:26:46,707 - pyswarms.single.global_best - INFO - Optimize for 1 iters with {'c1': 0.5, 'c2': 0.3, 'w': 0.9}\n"
          ]
        },
        {
          "output_type": "stream",
          "name": "stdout",
          "text": [
            "\n",
            "=========================================================================\n",
            "\n",
            "Número de ciclos de manutenção: 15 2\n",
            "Tempos para manutenções preventivas: [0, 10, 56, 62, 100, 142, 171, 205, 236, 248, 445, 494, 555, 582, 626, 649]\n",
            "Severidade para cada subsistema: [0.5, 0.25, 0.5, 0.75, 0.25, 0.75, 0.5, 0.25, 0.75, 0.25, 0.75, 0.75, 0.75, 0.25, 0.75]\n",
            "Número de Sisemas: 2\n",
            "Fator:  [0.4796409625107464, 0.27864084015710067, 0.15067134756744527, 0.27864084015710067, 0.3873289968507504, 0.15067134756744527, 0.3873289968507504, 0.27864084015710067, 0.15067134756744527, 0.3873289968507504, 0.15067134756744527, 0.3873289968507504, 0.3873289968507504, 0.3873289968507504, 0.15067134756744527, 0.3873289968507504]\n",
            "Media de falhas:  [0, 1.3403836653692202e-06, 0.004751260555235565, 0.00620109784663182, 0.08358080378983944, 0.3194557625023115, 0.5364568750330189, 2.170025828900473, 3.023504287845157, 3.811231749533966, 151.39656181263615, 177.73704051969523, 349.87877273751303, 378.6773728316627, 440.64095158359544, 478.85458787482975, 1162.6895010347798]\n",
            "Custo =  257343.60464566108\n"
          ]
        },
        {
          "output_type": "stream",
          "name": "stderr",
          "text": [
            "pyswarms.single.global_best:   0%|          |0/1, best_cost=1.09e+5"
          ]
        },
        {
          "output_type": "stream",
          "name": "stdout",
          "text": [
            "\n",
            "=========================================================================\n",
            "\n",
            "Número de ciclos de manutenção: 16 2\n",
            "Tempos para manutenções preventivas: [0, 9, 51, 63, 171, 204, 238, 246, 318, 391, 493, 536, 545, 583, 622, 647, 690]\n",
            "Severidade para cada subsistema: [0.5, 0.25, 0.5, 0.75, 0.5, 0.75, 0.75, 0.25, 0.75, 0.75, 0.5, 0.5, 0.75, 0.25, 0.75, 0.25]\n",
            "Número de Sisemas: 2\n",
            "Fator:  [0.4796409625107464, 0.27864084015710067, 0.15067134756744527, 0.27864084015710067, 0.3873289968507504, 0.27864084015710067, 0.3873289968507504, 0.3873289968507504, 0.15067134756744527, 0.3873289968507504, 0.3873289968507504, 0.27864084015710067, 0.27864084015710067, 0.3873289968507504, 0.15067134756744527, 0.3873289968507504, 0.15067134756744527]\n",
            "Media de falhas:  [0, 7.911352521515275e-07, 0.0029918267450319987, 0.005813730866226639, 1.4900671138995611, 2.3701149831549535, 3.33425560189829, 3.852125052488574, 10.238656699373173, 25.156464691639826, 180.09192220331593, 212.44447758912372, 219.9698316869121, 294.9788436052536, 395.0268228281475, 435.96917326053494, 748.7101991052504, 853.8750879454742]\n",
            "Custo =  298903.8981232719\n"
          ]
        },
        {
          "output_type": "stream",
          "name": "stderr",
          "text": [
            "\rpyswarms.single.global_best: 100%|██████████|1/1, best_cost=1.09e+5\n",
            "2023-10-22 00:26:46,724 - pyswarms.single.global_best - INFO - Optimization finished | best cost: 109151.90170863555, best pos: [3.55033636 1.92751627 3.11590667 0.39563223 3.81433975 5.69977988\n",
            " 3.98653422 6.71959357 5.19354549 2.60674595 1.22659612 2.92814138\n",
            " 4.77335805 5.1668209  0.58234693 3.75714447 5.45725519 3.81527417\n",
            " 6.53446216 5.38946335 2.06493745 5.33863188 6.53289676 0.78786197]\n",
            "2023-10-22 00:26:46,726 - pyswarms.single.global_best - INFO - Optimize for 1 iters with {'c1': 0.5, 'c2': 0.3, 'w': 0.9}\n",
            "pyswarms.single.global_best:   0%|          |0/1, best_cost=1.09e+5"
          ]
        },
        {
          "output_type": "stream",
          "name": "stdout",
          "text": [
            "\n",
            "=========================================================================\n",
            "\n",
            "Número de ciclos de manutenção: 13 2\n",
            "Tempos para manutenções preventivas: [0, 8, 48, 63, 170, 204, 244, 493, 533, 551, 583, 619, 644, 690]\n",
            "Severidade para cada subsistema: [0.5, 0.25, 0.5, 0.75, 0.5, 0.75, 0.75, 0.5, 0.25, 0.75, 0.25, 0.75, 0.25]\n",
            "Número de Sisemas: 2\n",
            "Fator:  [0.4796409625107464, 0.27864084015710067, 0.15067134756744527, 0.27864084015710067, 0.3873289968507504, 0.27864084015710067, 0.3873289968507504, 0.3873289968507504, 0.27864084015710067, 0.15067134756744527, 0.3873289968507504, 0.15067134756744527, 0.3873289968507504, 0.15067134756744527]\n",
            "Media de falhas:  [0, 4.3880813952869946e-07, 0.002266148093675509, 0.005656693121066643, 1.4443071825479048, 2.3468820904664174, 3.591537717800838, 190.11137229908414, 219.6191239744454, 235.17428273818757, 299.07856709628004, 469.71707890744756, 509.8999499753885, 842.1481786429097, 947.3130674831335]\n",
            "Custo =  311887.7192739807\n"
          ]
        },
        {
          "output_type": "stream",
          "name": "stderr",
          "text": [
            "\rpyswarms.single.global_best: 100%|██████████|1/1, best_cost=1.09e+5\n",
            "2023-10-22 00:26:46,739 - pyswarms.single.global_best - INFO - Optimization finished | best cost: 109151.90170863555, best pos: [3.55032923 1.92758603 3.11590766 0.39121758 3.80199618 5.69870578\n",
            " 3.98677182 6.71960165 5.19441851 2.60669517 0.16498152 2.9281367\n",
            " 4.77299156 0.18489573 0.58228039 3.75702605 5.45953131 3.8152402\n",
            " 6.53339922 5.38950797 2.06492496 5.33895733 6.53317576 0.78789957]\n",
            "2023-10-22 00:26:46,741 - pyswarms.single.global_best - INFO - Optimize for 1 iters with {'c1': 0.5, 'c2': 0.3, 'w': 0.9}\n",
            "pyswarms.single.global_best: 100%|██████████|1/1, best_cost=1.09e+5"
          ]
        },
        {
          "output_type": "stream",
          "name": "stdout",
          "text": [
            "\n",
            "=========================================================================\n",
            "\n",
            "Número de ciclos de manutenção: 12 2\n",
            "Tempos para manutenções preventivas: [0, 8, 47, 64, 126, 170, 204, 242, 492, 529, 584, 618, 641]\n",
            "Severidade para cada subsistema: [0.5, 0.25, 0.5, 0.5, 0.75, 0.5, 0.75, 0.75, 0.5, 0.75, 0.25, 0.75]\n",
            "Número de Sisemas: 2\n",
            "Fator:  [0.4796409625107464, 0.27864084015710067, 0.15067134756744527, 0.27864084015710067, 0.27864084015710067, 0.3873289968507504, 0.27864084015710067, 0.3873289968507504, 0.3873289968507504, 0.27864084015710067, 0.3873289968507504, 0.15067134756744527, 0.3873289968507504]\n",
            "Media de falhas:  [0, 4.3880813952869946e-07, 0.002020792556700319, 0.006029737637247459, 0.28845215783003136, 0.8096875661549872, 1.7122624740734997, 2.8587640532238607, 188.48890570074565, 215.04647877828094, 272.973713438281, 358.71324607093686, 395.0650080604029, 1133.8324529698325]\n",
            "Custo =  227496.06973902544\n"
          ]
        },
        {
          "output_type": "stream",
          "name": "stderr",
          "text": [
            "\n",
            "2023-10-22 00:26:46,752 - pyswarms.single.global_best - INFO - Optimization finished | best cost: 109151.90170863555, best pos: [3.55025861 1.92761336 3.11590857 0.38505089 3.76975494 5.69820533\n",
            " 3.98724486 6.7196118  5.19520634 2.60669561 5.77570446 2.92813356\n",
            " 4.77262938 2.76152914 0.58221356 3.75697371 5.46166849 3.81522179\n",
            " 6.53246693 5.38957282 2.06491427 5.33930696 6.53339409 0.78846303]\n",
            "2023-10-22 00:26:46,754 - pyswarms.single.global_best - INFO - Optimize for 1 iters with {'c1': 0.5, 'c2': 0.3, 'w': 0.9}\n",
            "pyswarms.single.global_best: 100%|██████████|1/1, best_cost=1.09e+5\n",
            "2023-10-22 00:26:46,765 - pyswarms.single.global_best - INFO - Optimization finished | best cost: 109151.90170863555, best pos: [3.54997908 1.92755447 3.11590918 0.37916959 3.7240347  5.69845097\n",
            " 3.98772009 6.71962156 5.19711835 2.60670586 3.86035962 2.9281328\n",
            " 4.77233416 5.22981311 0.58213649 3.7570096  5.46347526 3.81523263\n",
            " 6.53171287 5.38966973 2.06495233 5.33962454 6.53353826 0.78918293]\n",
            "2023-10-22 00:26:46,767 - pyswarms.single.global_best - INFO - Optimize for 1 iters with {'c1': 0.5, 'c2': 0.3, 'w': 0.9}\n"
          ]
        },
        {
          "output_type": "stream",
          "name": "stdout",
          "text": [
            "\n",
            "=========================================================================\n",
            "\n",
            "Número de ciclos de manutenção: 17 2\n",
            "Tempos para manutenções preventivas: [0, 9, 47, 64, 107, 149, 170, 205, 241, 419, 437, 479, 491, 527, 558, 584, 618, 638]\n",
            "Severidade para cada subsistema: [0.5, 0.25, 0.5, 0.75, 0.5, 0.75, 0.5, 0.75, 0.5, 0.25, 0.5, 0.75, 0.5, 0.5, 0.75, 0.25, 0.75]\n",
            "Número de Sisemas: 2\n",
            "Fator:  [0.4796409625107464, 0.27864084015710067, 0.15067134756744527, 0.27864084015710067, 0.3873289968507504, 0.27864084015710067, 0.3873289968507504, 0.27864084015710067, 0.3873289968507504, 0.27864084015710067, 0.15067134756744527, 0.27864084015710067, 0.3873289968507504, 0.27864084015710067, 0.27864084015710067, 0.3873289968507504, 0.15067134756744527, 0.3873289968507504]\n",
            "Media de falhas:  [0, 7.911352521515275e-07, 0.00191125434073393, 0.00592019942128107, 0.11787030182098171, 0.40654912299269785, 0.5624861021402482, 1.5064238302850672, 2.5773799805495994, 73.7825533212127, 79.89762655878229, 116.72170870431863, 140.47628140142592, 187.7366481966656, 215.51682827780462, 268.4224038750589, 354.16193650771476, 385.2754269938469, 1144.1399148503526]\n",
            "Custo =  308440.67317078676\n"
          ]
        },
        {
          "output_type": "stream",
          "name": "stderr",
          "text": [
            "pyswarms.single.global_best: 100%|██████████|1/1, best_cost=1.09e+5\n",
            "2023-10-22 00:26:46,779 - pyswarms.single.global_best - INFO - Optimization finished | best cost: 109151.90170863555, best pos: [3.5495901  1.92746603 3.11590934 0.37483198 3.68122602 5.69867668\n",
            " 3.98812748 6.71962902 5.19901143 2.60677707 1.5628475  2.92813341\n",
            " 4.77209078 0.37552237 0.58195599 3.75719276 5.46498334 3.81524355\n",
            " 6.53144096 5.38976072 2.06499669 5.33983202 6.53365386 0.78999104]\n",
            "2023-10-22 00:26:46,781 - pyswarms.single.global_best - INFO - Optimize for 1 iters with {'c1': 0.5, 'c2': 0.3, 'w': 0.9}\n"
          ]
        },
        {
          "output_type": "stream",
          "name": "stdout",
          "text": [
            "\n",
            "=========================================================================\n",
            "\n",
            "Número de ciclos de manutenção: 12 2\n",
            "Tempos para manutenções preventivas: [0, 10, 50, 64, 170, 207, 242, 473, 491, 525, 583, 620, 635]\n",
            "Severidade para cada subsistema: [0.5, 0.25, 0.5, 0.75, 0.5, 0.75, 0.5, 0.75, 0.5, 0.75, 0.25, 0.75]\n",
            "Número de Sisemas: 2\n",
            "Fator:  [0.4796409625107464, 0.27864084015710067, 0.15067134756744527, 0.27864084015710067, 0.3873289968507504, 0.27864084015710067, 0.3873289968507504, 0.27864084015710067, 0.3873289968507504, 0.27864084015710067, 0.3873289968507504, 0.15067134756744527, 0.3873289968507504]\n",
            "Media de falhas:  [0, 1.3403836653692202e-06, 0.0025471093678665333, 0.005970244430727297, 1.437362150483136, 2.4672384014181574, 3.527574166292892, 150.69819405089632, 160.47649974666945, 204.61174115347535, 265.126534972814, 359.1477518768481, 382.1646670789582, 1160.8583214523726]\n",
            "Custo =  241280.09399008218\n"
          ]
        },
        {
          "output_type": "stream",
          "name": "stderr",
          "text": [
            "pyswarms.single.global_best: 100%|██████████|1/1, best_cost=1.09e+5\n",
            "2023-10-22 00:26:46,793 - pyswarms.single.global_best - INFO - Optimization finished | best cost: 109151.90170863555, best pos: [3.5491931  1.92734172 3.11590922 0.37339128 3.64323254 5.69945692\n",
            " 3.98840664 6.71963539 5.20078895 2.60684842 6.19664536 2.92813749\n",
            " 4.77207284 3.01172424 0.58178997 3.7575069  5.46538884 3.81525359\n",
            " 6.53147138 5.38983947 2.0650545  5.33988767 6.53359048 0.79071519]\n",
            "2023-10-22 00:26:46,794 - pyswarms.single.global_best - INFO - Optimize for 1 iters with {'c1': 0.5, 'c2': 0.3, 'w': 0.9}\n"
          ]
        },
        {
          "output_type": "stream",
          "name": "stdout",
          "text": [
            "\n",
            "=========================================================================\n",
            "\n",
            "Número de ciclos de manutenção: 14 2\n",
            "Tempos para manutenções preventivas: [0, 13, 55, 64, 170, 209, 216, 244, 468, 492, 523, 550, 582, 624, 634]\n",
            "Severidade para cada subsistema: [0.5, 0.25, 0.5, 0.75, 0.5, 0.5, 0.75, 0.5, 0.75, 0.5, 0.75, 0.75, 0.25, 0.75]\n",
            "Número de Sisemas: 2\n",
            "Fator:  [0.4796409625107464, 0.27864084015710067, 0.15067134756744527, 0.27864084015710067, 0.3873289968507504, 0.27864084015710067, 0.27864084015710067, 0.3873289968507504, 0.27864084015710067, 0.3873289968507504, 0.27864084015710067, 0.3873289968507504, 0.3873289968507504, 0.15067134756744527, 0.3873289968507504]\n",
            "Media de falhas:  [0, 4.982202230908635e-06, 0.003725510967762681, 0.006086775328617847, 1.4374786813810265, 2.5577146634288384, 2.700041017845459, 4.3018977857838205, 141.4150165010417, 154.46011028466387, 194.3365083773665, 217.26153789718109, 280.7212274616382, 339.21207479651133, 354.54246569752, 1139.7870060057107]\n",
            "Custo =  252348.67645264103\n"
          ]
        },
        {
          "output_type": "stream",
          "name": "stderr",
          "text": [
            "pyswarms.single.global_best: 100%|██████████|1/1, best_cost=1.09e+5\n",
            "2023-10-22 00:26:46,807 - pyswarms.single.global_best - INFO - Optimization finished | best cost: 109151.90170863555, best pos: [3.54884984 1.92722556 3.1159089  0.37430837 3.61176051 5.70048975\n",
            " 3.98863412 6.71964048 5.20208788 2.60692005 3.31546759 2.9281452\n",
            " 4.77220147 5.73874744 0.58163965 3.75780448 5.46493011 3.81528261\n",
            " 6.53196936 5.38990412 2.06511485 5.33982043 6.53336459 0.79113856]\n",
            "2023-10-22 00:26:46,808 - pyswarms.single.global_best - INFO - Optimize for 1 iters with {'c1': 0.5, 'c2': 0.3, 'w': 0.9}\n"
          ]
        },
        {
          "output_type": "stream",
          "name": "stdout",
          "text": [
            "\n",
            "=========================================================================\n",
            "\n",
            "Número de ciclos de manutenção: 14 2\n",
            "Tempos para manutenções preventivas: [0, 16, 59, 64, 92, 123, 170, 245, 431, 464, 492, 522, 581, 628, 632]\n",
            "Severidade para cada subsistema: [0.5, 0.25, 0.5, 0.75, 0.75, 0.75, 0.75, 0.5, 0.5, 0.75, 0.5, 0.75, 0.25, 0.75]\n",
            "Número de Sisemas: 2\n",
            "Fator:  [0.4796409625107464, 0.27864084015710067, 0.15067134756744527, 0.27864084015710067, 0.3873289968507504, 0.3873289968507504, 0.3873289968507504, 0.3873289968507504, 0.27864084015710067, 0.27864084015710067, 0.3873289968507504, 0.27864084015710067, 0.3873289968507504, 0.15067134756744527, 0.3873289968507504]\n",
            "Media de falhas:  [0, 1.4082533509826091e-05, 0.004820495690721991, 0.006220419651371616, 0.051048037399627, 0.15206045676284985, 0.49069223014798885, 2.82854419059594, 60.13598259491031, 74.13928003309383, 102.41528999034365, 140.78900733738865, 201.44707082837687, 325.05880599161355, 331.15450140965197, 1129.4134425308953]\n",
            "Custo =  252289.80711496295\n"
          ]
        },
        {
          "output_type": "stream",
          "name": "stderr",
          "text": [
            "pyswarms.single.global_best: 100%|██████████|1/1, best_cost=1.09e+5\n",
            "2023-10-22 00:26:46,822 - pyswarms.single.global_best - INFO - Optimization finished | best cost: 109151.90170863555, best pos: [3.54865601 1.92712334 3.11590831 0.37660089 3.58641808 5.70150417\n",
            " 3.98857751 6.71964447 5.20319535 2.60698365 0.10394582 2.92815391\n",
            " 4.77250526 0.80284355 0.58152719 3.75805299 5.46354607 3.81531726\n",
            " 6.53288196 5.3899211  2.06516566 5.33962518 6.53311558 0.79123516]\n",
            "2023-10-22 00:26:46,824 - pyswarms.single.global_best - INFO - Optimize for 1 iters with {'c1': 0.5, 'c2': 0.3, 'w': 0.9}\n"
          ]
        },
        {
          "output_type": "stream",
          "name": "stdout",
          "text": [
            "\n",
            "=========================================================================\n",
            "\n",
            "Número de ciclos de manutenção: 11 2\n",
            "Tempos para manutenções preventivas: [0, 19, 63, 110, 171, 247, 402, 461, 492, 522, 580, 631]\n",
            "Severidade para cada subsistema: [0.5, 0.5, 0.75, 0.75, 0.75, 0.75, 0.5, 0.75, 0.5, 0.75, 0.75]\n",
            "Número de Sisemas: 2\n",
            "Fator:  [0.4796409625107464, 0.27864084015710067, 0.27864084015710067, 0.3873289968507504, 0.3873289968507504, 0.3873289968507504, 0.3873289968507504, 0.27864084015710067, 0.3873289968507504, 0.27864084015710067, 0.3873289968507504, 0.3873289968507504]\n",
            "Media de falhas:  [0, 3.327823747272426e-05, 0.0061653134966878865, 0.0948969476073547, 0.7903904470926318, 3.23813486095835, 38.837768252739124, 62.58554828867464, 79.29446145430472, 117.66817880134973, 176.93129472016608, 312.7517349248078, 563.0478584558196]\n",
            "Custo =  132777.01020489633\n"
          ]
        },
        {
          "output_type": "stream",
          "name": "stderr",
          "text": [
            "pyswarms.single.global_best: 100%|██████████|1/1, best_cost=1.09e+5\n",
            "2023-10-22 00:26:46,835 - pyswarms.single.global_best - INFO - Optimization finished | best cost: 109151.90170863555, best pos: [3.54862106 1.92703514 3.11590765 0.37921351 3.56836381 5.70230449\n",
            " 3.98836046 6.71964278 5.20351406 2.60702403 4.11291755 2.92816227\n",
            " 4.77284998 3.35493998 0.581475   3.75820387 5.46150411 3.81534847\n",
            " 6.53379585 5.38992675 2.06520215 5.33940213 6.53288919 0.79108144]\n",
            "2023-10-22 00:26:46,837 - pyswarms.single.global_best - INFO - Optimize for 1 iters with {'c1': 0.5, 'c2': 0.3, 'w': 0.9}\n"
          ]
        },
        {
          "output_type": "stream",
          "name": "stdout",
          "text": [
            "\n",
            "=========================================================================\n",
            "\n",
            "Número de ciclos de manutenção: 12 2\n",
            "Tempos para manutenções preventivas: [0, 21, 63, 112, 171, 248, 304, 411, 461, 493, 523, 580, 630]\n",
            "Severidade para cada subsistema: [0.5, 0.5, 0.75, 0.75, 0.75, 0.5, 0.75, 0.5, 0.75, 0.5, 0.75, 0.75]\n",
            "Número de Sisemas: 2\n",
            "Fator:  [0.4796409625107464, 0.27864084015710067, 0.27864084015710067, 0.3873289968507504, 0.3873289968507504, 0.3873289968507504, 0.27864084015710067, 0.3873289968507504, 0.27864084015710067, 0.3873289968507504, 0.27864084015710067, 0.3873289968507504, 0.3873289968507504]\n",
            "Media de falhas:  [0, 5.4912366369779524e-05, 0.005658879266591712, 0.10471758075608179, 0.7816495918720869, 3.302691863352308, 7.482502853774159, 33.92334894775489, 70.70793925609541, 88.07785580642573, 126.75160035397846, 185.0405201142095, 317.56628139483985, 570.2620174430394]\n",
            "Custo =  139269.7910544498\n"
          ]
        },
        {
          "output_type": "stream",
          "name": "stderr",
          "text": [
            "pyswarms.single.global_best:   0%|          |0/1, best_cost=1.09e+5"
          ]
        },
        {
          "output_type": "stream",
          "name": "stdout",
          "text": [
            "\n",
            "=========================================================================\n",
            "\n",
            "Número de ciclos de manutenção: 13 2\n",
            "Tempos para manutenções preventivas: [0, 22, 63, 105, 141, 171, 212, 249, 420, 463, 494, 523, 562, 580]\n",
            "Severidade para cada subsistema: [0.5, 0.5, 0.75, 0.5, 0.75, 0.5, 0.75, 0.75, 0.5, 0.75, 0.5, 0.25, 0.75]\n",
            "Número de Sisemas: 2\n",
            "Fator:  [0.4796409625107464, 0.27864084015710067, 0.27864084015710067, 0.3873289968507504, 0.27864084015710067, 0.3873289968507504, 0.27864084015710067, 0.3873289968507504, 0.3873289968507504, 0.27864084015710067, 0.3873289968507504, 0.27864084015710067, 0.15067134756744527, 0.3873289968507504]\n",
            "Media de falhas:  [0, 6.930608943925695e-05, 0.005423067684519313, 0.07196739418701614, 0.27415388161137855, 0.49828150976520474, 1.7376842137043178, 2.9924820746000256, 72.54178404314244, 90.42796527893928, 107.41299461331901, 144.87891946295142, 180.55813893648914, 216.75648731418678, 1316.1205800461444]\n",
            "Custo =  197930.63393207872\n"
          ]
        },
        {
          "output_type": "stream",
          "name": "stderr",
          "text": [
            "\rpyswarms.single.global_best: 100%|██████████|1/1, best_cost=1.09e+5\n",
            "2023-10-22 00:26:46,849 - pyswarms.single.global_best - INFO - Optimization finished | best cost: 109151.90170863555, best pos: [3.5487749  1.92700393 3.11590708 0.38254597 3.58759189 5.70278144\n",
            " 3.9879877  6.719634   5.20305151 2.60703238 1.18748776 2.92816965\n",
            " 4.77316163 6.34593584 0.58145865 3.75824371 5.45960471 3.81537564\n",
            " 6.53463115 5.38990643 2.06523395 5.33919003 6.53269826 0.79086059]\n",
            "2023-10-22 00:26:46,851 - pyswarms.single.global_best - INFO - Optimize for 1 iters with {'c1': 0.5, 'c2': 0.3, 'w': 0.9}\n",
            "pyswarms.single.global_best:   0%|          |0/1, best_cost=1.09e+5"
          ]
        },
        {
          "output_type": "stream",
          "name": "stdout",
          "text": [
            "\n",
            "=========================================================================\n",
            "\n",
            "Número de ciclos de manutenção: 11 2\n",
            "Tempos para manutenções preventivas: [0, 22, 62, 100, 125, 171, 249, 430, 466, 494, 526, 579]\n",
            "Severidade para cada subsistema: [0.5, 0.5, 0.75, 0.5, 0.75, 0.75, 0.25, 0.5, 0.75, 0.5, 0.75]\n",
            "Número de Sisemas: 2\n",
            "Fator:  [0.4796409625107464, 0.27864084015710067, 0.27864084015710067, 0.3873289968507504, 0.27864084015710067, 0.3873289968507504, 0.3873289968507504, 0.15067134756744527, 0.27864084015710067, 0.3873289968507504, 0.27864084015710067, 0.3873289968507504]\n",
            "Media de falhas:  [0, 6.930608943925695e-05, 0.004931141485142416, 0.05490449485219423, 0.1455235605429815, 0.48483004242466343, 4.590152413363575, 59.62938409926497, 75.11955620250612, 129.03297944311115, 171.0750209854484, 225.0765660268779, 862.7035612718818]\n",
            "Custo =  141358.8224264089\n"
          ]
        },
        {
          "output_type": "stream",
          "name": "stderr",
          "text": [
            "\rpyswarms.single.global_best: 100%|██████████|1/1, best_cost=1.09e+5\n",
            "2023-10-22 00:26:46,863 - pyswarms.single.global_best - INFO - Optimization finished | best cost: 109151.90170863555, best pos: [3.54897565 1.92700987 3.11590663 0.38563143 3.63120219 5.7027344\n",
            " 3.98756155 6.71962311 5.20256741 2.60700477 5.54065582 2.92817314\n",
            " 4.77335266 2.60904217 0.58148598 3.75815585 5.45797428 3.81538961\n",
            " 6.53530652 5.38987266 2.06523936 5.33903058 6.53254206 0.79038261]\n",
            "2023-10-22 00:26:46,865 - pyswarms.single.global_best - INFO - Optimize for 1 iters with {'c1': 0.5, 'c2': 0.3, 'w': 0.9}\n",
            "pyswarms.single.global_best:   0%|          |0/1, best_cost=1.09e+5"
          ]
        },
        {
          "output_type": "stream",
          "name": "stdout",
          "text": [
            "\n",
            "=========================================================================\n",
            "\n",
            "Número de ciclos de manutenção: 12 2\n",
            "Tempos para manutenções preventivas: [0, 20, 62, 171, 249, 412, 421, 468, 495, 530, 542, 580, 630]\n",
            "Severidade para cada subsistema: [0.5, 0.5, 0.75, 0.75, 0.75, 0.75, 0.5, 0.75, 0.5, 0.5, 0.75, 0.75]\n",
            "Número de Sisemas: 2\n",
            "Fator:  [0.4796409625107464, 0.27864084015710067, 0.27864084015710067, 0.3873289968507504, 0.3873289968507504, 0.3873289968507504, 0.3873289968507504, 0.27864084015710067, 0.3873289968507504, 0.27864084015710067, 0.27864084015710067, 0.3873289968507504, 0.3873289968507504]\n",
            "Media de falhas:  [0, 4.3016517204670066e-05, 0.005377001068953636, 1.1668035978774143, 5.272125968816326, 46.69807162792515, 49.365842416515704, 69.70109594650917, 84.68635001644425, 131.80981400810055, 141.58642784783365, 215.03405548594037, 347.5598167665707, 600.2555528147702]\n",
            "Custo =  166715.05486649356\n"
          ]
        },
        {
          "output_type": "stream",
          "name": "stderr",
          "text": [
            "\rpyswarms.single.global_best: 100%|██████████|1/1, best_cost=1.09e+5\n",
            "2023-10-22 00:26:46,878 - pyswarms.single.global_best - INFO - Optimization finished | best cost: 109151.90170863555, best pos: [3.54923716 1.92702475 3.11590638 0.38785547 3.68360804 5.70247173\n",
            " 3.98719136 6.71961288 5.20143945 2.60697171 2.49996388 2.92817464\n",
            " 4.7733992  6.05048047 0.58154121 3.75805149 5.45688961 3.81539366\n",
            " 6.53588606 5.38980962 2.06522789 5.33892426 6.53240743 0.78990869]\n",
            "2023-10-22 00:26:46,880 - pyswarms.single.global_best - INFO - Optimize for 1 iters with {'c1': 0.5, 'c2': 0.3, 'w': 0.9}\n",
            "pyswarms.single.global_best:   0%|          |0/1, best_cost=1.09e+5"
          ]
        },
        {
          "output_type": "stream",
          "name": "stdout",
          "text": [
            "\n",
            "=========================================================================\n",
            "\n",
            "Número de ciclos de manutenção: 12 2\n",
            "Tempos para manutenções preventivas: [0, 18, 56, 62, 171, 249, 400, 427, 471, 495, 534, 580, 633]\n",
            "Severidade para cada subsistema: [0.5, 0.25, 0.5, 0.75, 0.75, 0.75, 0.25, 0.5, 0.75, 0.5, 0.75, 0.75]\n",
            "Número de Sisemas: 2\n",
            "Fator:  [0.4796409625107464, 0.27864084015710067, 0.15067134756744527, 0.27864084015710067, 0.3873289968507504, 0.3873289968507504, 0.3873289968507504, 0.15067134756744527, 0.27864084015710067, 0.3873289968507504, 0.27864084015710067, 0.3873289968507504, 0.3873289968507504]\n",
            "Media de falhas:  [0, 2.5389658248351453e-05, 0.003241063950641248, 0.004690901242037504, 1.4963695992411856, 5.601691970180097, 39.524516177799164, 47.77518340153901, 67.37158940596807, 114.57580553320642, 168.26990910641598, 215.75995600920493, 358.2546126473004, 603.7477954830154]\n",
            "Custo =  162228.9007957073\n"
          ]
        },
        {
          "output_type": "stream",
          "name": "stderr",
          "text": [
            "\rpyswarms.single.global_best: 100%|██████████|1/1, best_cost=1.09e+5\n",
            "2023-10-22 00:26:46,892 - pyswarms.single.global_best - INFO - Optimization finished | best cost: 109151.90170863555, best pos: [3.54947744 1.92709387 3.11590643 0.38925468 3.73251814 5.70208749\n",
            " 3.98691005 6.7196042  5.19991246 2.6069368  6.74448037 2.92817309\n",
            " 4.77337909 2.61968608 0.58162442 3.75787907 5.45676349 3.81538617\n",
            " 6.53627693 5.38973705 2.0652035  5.33886277 6.53234685 0.78945201]\n",
            "2023-10-22 00:26:46,893 - pyswarms.single.global_best - INFO - Optimize for 1 iters with {'c1': 0.5, 'c2': 0.3, 'w': 0.9}\n",
            "pyswarms.single.global_best:   0%|          |0/1, best_cost=1.09e+5"
          ]
        },
        {
          "output_type": "stream",
          "name": "stdout",
          "text": [
            "\n",
            "=========================================================================\n",
            "\n",
            "Número de ciclos de manutenção: 14 2\n",
            "Tempos para manutenções preventivas: [0, 16, 53, 62, 103, 171, 208, 248, 324, 474, 495, 537, 552, 581, 636]\n",
            "Severidade para cada subsistema: [0.5, 0.25, 0.5, 0.5, 0.75, 0.5, 0.75, 0.75, 0.5, 0.75, 0.5, 0.75, 0.75, 0.75]\n",
            "Número de Sisemas: 2\n",
            "Fator:  [0.4796409625107464, 0.27864084015710067, 0.15067134756744527, 0.27864084015710067, 0.27864084015710067, 0.3873289968507504, 0.27864084015710067, 0.3873289968507504, 0.3873289968507504, 0.27864084015710067, 0.3873289968507504, 0.27864084015710067, 0.3873289968507504, 0.3873289968507504, 0.3873289968507504]\n",
            "Media de falhas:  [0, 1.4082533509826091e-05, 0.002593980179220486, 0.004664173212502903, 0.0967019686823991, 0.8568940273886896, 1.9076542195517, 3.2370960125054378, 15.370402563416103, 81.12504135570366, 92.86678718969505, 151.66636066399283, 164.77083110234938, 222.21839988961892, 304.0420392549542, 542.3209293526862]\n",
            "Custo =  146486.39621083793\n"
          ]
        },
        {
          "output_type": "stream",
          "name": "stderr",
          "text": [
            "\rpyswarms.single.global_best: 100%|██████████|1/1, best_cost=1.09e+5\n",
            "2023-10-22 00:26:46,907 - pyswarms.single.global_best - INFO - Optimization finished | best cost: 109151.90170863555, best pos: [3.54966677 1.92717311 3.11590651 0.39049929 3.77023689 5.70143054\n",
            " 3.98671476 6.71959872 5.19841008 2.60690468 3.3951313  2.92816766\n",
            " 4.77329742 6.26569309 0.58172169 3.75769621 5.4570882  3.81536105\n",
            " 6.53616337 5.38966148 2.0651754  5.33885088 6.53231178 0.78904874]\n",
            "2023-10-22 00:26:46,908 - pyswarms.single.global_best - INFO - Optimize for 1 iters with {'c1': 0.5, 'c2': 0.3, 'w': 0.9}\n",
            "pyswarms.single.global_best:   0%|          |0/1, best_cost=1.09e+5"
          ]
        },
        {
          "output_type": "stream",
          "name": "stdout",
          "text": [
            "\n",
            "=========================================================================\n",
            "\n",
            "Número de ciclos de manutenção: 15 2\n",
            "Tempos para manutenções preventivas: [0, 14, 51, 62, 91, 171, 208, 247, 325, 398, 422, 476, 495, 548, 582, 640]\n",
            "Severidade para cada subsistema: [0.5, 0.25, 0.5, 0.5, 0.75, 0.5, 0.75, 0.25, 0.5, 0.25, 0.5, 0.75, 0.5, 0.75, 0.75]\n",
            "Número de Sisemas: 2\n",
            "Fator:  [0.4796409625107464, 0.27864084015710067, 0.15067134756744527, 0.27864084015710067, 0.27864084015710067, 0.3873289968507504, 0.27864084015710067, 0.3873289968507504, 0.15067134756744527, 0.27864084015710067, 0.15067134756744527, 0.27864084015710067, 0.3873289968507504, 0.27864084015710067, 0.3873289968507504, 0.3873289968507504]\n",
            "Media de falhas:  [0, 7.219033700132119e-06, 0.0023042055664757146, 0.0047589012932640696, 0.048389199340215856, 0.9201856407955094, 1.9709458329585197, 3.247680877934126, 15.801423882581211, 31.830207758693202, 56.41537512230404, 101.34422334750055, 139.32816793709273, 218.2097590996322, 254.21392890641675, 415.9608796704205, 644.6006002794488]\n",
            "Custo =  185840.50832427468\n"
          ]
        },
        {
          "output_type": "stream",
          "name": "stderr",
          "text": [
            "\rpyswarms.single.global_best: 100%|██████████|1/1, best_cost=1.09e+5\n",
            "2023-10-22 00:26:46,924 - pyswarms.single.global_best - INFO - Optimization finished | best cost: 109151.90170863555, best pos: [3.54978093 1.92726059 3.11590675 0.39010455 3.78157693 5.7008258\n",
            " 3.98673217 6.7195954  5.19728597 2.60687815 6.74584265 2.92816191\n",
            " 4.77315018 1.78137663 0.5818104  3.75753363 5.45741807 3.81532671\n",
            " 6.53603217 5.38959699 2.06513405 5.3388424  6.53239797 0.78870567]\n",
            "2023-10-22 00:26:46,928 - pyswarms.single.global_best - INFO - Optimize for 1 iters with {'c1': 0.5, 'c2': 0.3, 'w': 0.9}\n",
            "pyswarms.single.global_best: 100%|██████████|1/1, best_cost=1.09e+5"
          ]
        },
        {
          "output_type": "stream",
          "name": "stdout",
          "text": [
            "\n",
            "=========================================================================\n",
            "\n",
            "Número de ciclos de manutenção: 13 2\n",
            "Tempos para manutenções preventivas: [0, 12, 49, 63, 101, 171, 207, 225, 247, 320, 477, 494, 582, 644]\n",
            "Severidade para cada subsistema: [0.5, 0.25, 0.5, 0.5, 0.75, 0.5, 0.75, 0.75, 0.75, 0.5, 0.75, 0.75, 0.75]\n",
            "Número de Sisemas: 2\n",
            "Fator:  [0.4796409625107464, 0.27864084015710067, 0.15067134756744527, 0.27864084015710067, 0.27864084015710067, 0.3873289968507504, 0.27864084015710067, 0.3873289968507504, 0.3873289968507504, 0.3873289968507504, 0.27864084015710067, 0.3873289968507504, 0.3873289968507504, 0.3873289968507504]\n",
            "Media de falhas:  [0, 3.337841922444591e-06, 0.0020427287270132445, 0.005247553682976859, 0.08612910250013273, 0.8648014264035531, 1.871254893096649, 2.2903007669149216, 3.6483046606584386, 10.286767329757211, 80.9830799283891, 90.45988370192205, 248.18486524001423, 344.6877708140984, 563.6629943607994]\n",
            "Custo =  110441.88674078305\n"
          ]
        },
        {
          "output_type": "stream",
          "name": "stderr",
          "text": [
            "\n",
            "2023-10-22 00:26:46,940 - pyswarms.single.global_best - INFO - Optimization finished | best cost: 109151.90170863555, best pos: [3.54985649 1.92733917 3.11590727 0.38861074 3.77698352 5.70028065\n",
            " 3.98681528 6.71959606 5.19657756 2.60685466 2.56825175 2.92815591\n",
            " 4.77300118 4.5561034  0.58187855 3.75739882 5.45806759 3.81529528\n",
            " 6.53557567 5.3895475  2.06508853 5.33888253 6.53250637 0.78849944]\n",
            "2023-10-22 00:26:46,941 - pyswarms.single.global_best - INFO - Optimize for 1 iters with {'c1': 0.5, 'c2': 0.3, 'w': 0.9}\n",
            "pyswarms.single.global_best:   0%|          |0/1, best_cost=1.09e+5"
          ]
        },
        {
          "output_type": "stream",
          "name": "stdout",
          "text": [
            "\n",
            "=========================================================================\n",
            "\n",
            "Número de ciclos de manutenção: 16 2\n",
            "Tempos para manutenções preventivas: [0, 11, 50, 63, 111, 130, 171, 207, 225, 246, 411, 477, 494, 556, 582, 629, 646]\n",
            "Severidade para cada subsistema: [0.5, 0.25, 0.5, 0.5, 0.5, 0.75, 0.5, 0.5, 0.75, 0.25, 0.5, 0.75, 0.75, 0.75, 0.25, 0.75]\n",
            "Número de Sisemas: 2\n",
            "Fator:  [0.4796409625107464, 0.27864084015710067, 0.15067134756744527, 0.27864084015710067, 0.27864084015710067, 0.27864084015710067, 0.3873289968507504, 0.27864084015710067, 0.27864084015710067, 0.3873289968507504, 0.15067134756744527, 0.27864084015710067, 0.3873289968507504, 0.3873289968507504, 0.3873289968507504, 0.15067134756744527, 0.3873289968507504]\n",
            "Media de falhas:  [0, 2.1595600069852454e-06, 0.002415561500098673, 0.005430983088877944, 0.14536652647252973, 0.23002139096888685, 0.7344836396704377, 1.7409371063635337, 2.1599829801818062, 3.440490613631867, 65.12210893100446, 95.4563152017008, 129.38529893659657, 225.66737245745836, 253.42883034989765, 320.7333218812534, 348.62564383374905, 1053.2917621452393]\n",
            "Custo =  260195.08226730477\n"
          ]
        },
        {
          "output_type": "stream",
          "name": "stderr",
          "text": [
            "\rpyswarms.single.global_best: 100%|██████████|1/1, best_cost=1.09e+5\n",
            "2023-10-22 00:26:46,953 - pyswarms.single.global_best - INFO - Optimization finished | best cost: 109151.90170863555, best pos: [3.54985312 1.92738471 3.11590788 0.38583776 3.74954748 5.69983893\n",
            " 3.98698879 6.71959942 5.19622401 2.60684076 5.18805751 2.92815067\n",
            " 4.77286699 0.72111402 0.58190654 3.75736186 5.4588905  3.81527235\n",
            " 6.53482509 5.38954756 2.06504954 5.33901023 6.53274814 0.78865126]\n",
            "2023-10-22 00:26:46,954 - pyswarms.single.global_best - INFO - Optimize for 1 iters with {'c1': 0.5, 'c2': 0.3, 'w': 0.9}\n",
            "pyswarms.single.global_best:   0%|          |0/1, best_cost=1.09e+5"
          ]
        },
        {
          "output_type": "stream",
          "name": "stdout",
          "text": [
            "\n",
            "=========================================================================\n",
            "\n",
            "Número de ciclos de manutenção: 17 2\n",
            "Tempos para manutenções preventivas: [0, 11, 51, 63, 143, 171, 207, 219, 245, 329, 413, 437, 476, 494, 543, 583, 628, 647]\n",
            "Severidade para cada subsistema: [0.5, 0.25, 0.5, 0.5, 0.75, 0.5, 0.25, 0.75, 0.75, 0.25, 0.5, 0.5, 0.75, 0.5, 0.75, 0.25, 0.75]\n",
            "Número de Sisemas: 2\n",
            "Fator:  [0.4796409625107464, 0.27864084015710067, 0.15067134756744527, 0.27864084015710067, 0.27864084015710067, 0.3873289968507504, 0.27864084015710067, 0.15067134756744527, 0.3873289968507504, 0.3873289968507504, 0.15067134756744527, 0.27864084015710067, 0.27864084015710067, 0.3873289968507504, 0.27864084015710067, 0.3873289968507504, 0.15067134756744527, 0.3873289968507504]\n",
            "Media de falhas:  [0, 2.1595600069852454e-06, 0.002697969190516027, 0.005519873311710667, 0.5743207952472971, 0.9420174482921366, 1.9484709149852326, 2.202740941519823, 3.7283546268740895, 27.33224289899083, 48.62998602618343, 56.71524874688071, 118.8899397325245, 137.80630323449597, 208.5953207169813, 250.99820459843858, 369.76771710423515, 401.0716250021032, 1098.825180353765]\n",
            "Custo =  286918.2770629299\n"
          ]
        },
        {
          "output_type": "stream",
          "name": "stderr",
          "text": [
            "\rpyswarms.single.global_best: 100%|██████████|1/1, best_cost=1.09e+5\n",
            "2023-10-22 00:26:46,966 - pyswarms.single.global_best - INFO - Optimization finished | best cost: 109151.90170863555, best pos: [3.549703   1.92740318 3.11590841 0.38332395 3.70945645 5.69946708\n",
            " 3.98723459 6.71960433 5.19646065 2.60683119 0.7527314  2.92814648\n",
            " 4.7727452  4.27096707 0.58192577 3.7573949  5.46000353 3.81526135\n",
            " 6.53398882 5.38955511 2.06501817 5.33919067 6.53300778 0.78881587]\n",
            "2023-10-22 00:26:46,970 - pyswarms.single.global_best - INFO - Optimize for 1 iters with {'c1': 0.5, 'c2': 0.3, 'w': 0.9}\n",
            "pyswarms.single.global_best: 100%|██████████|1/1, best_cost=1.09e+5\n",
            "2023-10-22 00:26:46,986 - pyswarms.single.global_best - INFO - Optimization finished | best cost: 109151.90170863555, best pos: [3.5495154  1.92741155 3.11590888 0.38108609 3.66915258 5.69913852\n",
            " 3.98757355 6.71960973 5.19732047 2.60682486 4.2405675  2.92814285\n",
            " 4.77263769 1.0993952  0.58192128 3.75746525 5.46107324 3.81525994\n",
            " 6.53324694 5.38959005 2.06500617 5.33938855 6.53324204 0.78908812]\n",
            "2023-10-22 00:26:46,987 - pyswarms.single.global_best - INFO - Optimize for 1 iters with {'c1': 0.5, 'c2': 0.3, 'w': 0.9}\n"
          ]
        },
        {
          "output_type": "stream",
          "name": "stdout",
          "text": [
            "\n",
            "=========================================================================\n",
            "\n",
            "Número de ciclos de manutenção: 13 2\n",
            "Tempos para manutenções preventivas: [0, 10, 53, 64, 110, 170, 208, 239, 244, 475, 493, 582, 628, 646]\n",
            "Severidade para cada subsistema: [0.5, 0.25, 0.5, 0.75, 0.75, 0.5, 0.75, 0.75, 0.5, 0.75, 0.75, 0.25, 0.75]\n",
            "Número de Sisemas: 2\n",
            "Fator:  [0.4796409625107464, 0.27864084015710067, 0.15067134756744527, 0.27864084015710067, 0.3873289968507504, 0.3873289968507504, 0.27864084015710067, 0.3873289968507504, 0.3873289968507504, 0.27864084015710067, 0.3873289968507504, 0.3873289968507504, 0.15067134756744527, 0.3873289968507504]\n",
            "Media de falhas:  [0, 1.3403836653692202e-06, 0.003512657988495739, 0.006314258417415332, 0.1376761416298053, 0.8072280300548036, 1.428072403928661, 2.326403561707999, 2.6441660005187773, 110.16205231635954, 120.10177208002033, 279.3567059491305, 344.8631418367602, 374.36572551048357, 1079.0318438219738]\n",
            "Custo =  221568.51419921068\n"
          ]
        },
        {
          "output_type": "stream",
          "name": "stderr",
          "text": [
            "pyswarms.single.global_best:   0%|          |0/1, best_cost=1.09e+5"
          ]
        },
        {
          "output_type": "stream",
          "name": "stdout",
          "text": [
            "\n",
            "=========================================================================\n",
            "\n",
            "Número de ciclos de manutenção: 17 2\n",
            "Tempos para manutenções preventivas: [0, 10, 54, 64, 113, 170, 209, 219, 244, 315, 411, 424, 474, 493, 538, 582, 627, 645]\n",
            "Severidade para cada subsistema: [0.5, 0.25, 0.5, 0.75, 0.75, 0.5, 0.5, 0.75, 0.75, 0.5, 0.25, 0.5, 0.75, 0.5, 0.75, 0.25, 0.75]\n",
            "Número de Sisemas: 2\n",
            "Fator:  [0.4796409625107464, 0.27864084015710067, 0.15067134756744527, 0.27864084015710067, 0.3873289968507504, 0.3873289968507504, 0.27864084015710067, 0.27864084015710067, 0.3873289968507504, 0.3873289968507504, 0.27864084015710067, 0.15067134756744527, 0.27864084015710067, 0.3873289968507504, 0.27864084015710067, 0.3873289968507504, 0.15067134756744527, 0.3873289968507504]\n",
            "Media de falhas:  [0, 1.3403836653692202e-06, 0.003892642728636171, 0.006476998346077272, 0.1597185997648987, 0.8020196137089102, 1.450952284100985, 1.6640193612214422, 3.112689302776677, 13.312995372188812, 37.07977978899841, 41.01979907724776, 82.26524955795622, 119.62898007742889, 182.7239925593022, 228.87079752645593, 346.86987512250533, 376.1891726591901, 1087.7368855699751]\n",
            "Custo =  284615.5879538704\n"
          ]
        },
        {
          "output_type": "stream",
          "name": "stderr",
          "text": [
            "\rpyswarms.single.global_best: 100%|██████████|1/1, best_cost=1.09e+5\n",
            "2023-10-22 00:26:46,999 - pyswarms.single.global_best - INFO - Optimization finished | best cost: 109151.90170863555, best pos: [3.54931425 1.9273937  3.11590914 0.37951524 3.63664224 5.69893104\n",
            " 3.98789684 6.71961511 5.19847944 2.60683693 0.68980021 2.92814044\n",
            " 4.77255471 5.21115689 0.58185911 3.75760686 5.46191762 3.81526391\n",
            " 6.5327564  5.38965326 2.06499896 5.33956162 6.53343462 0.78943289]\n",
            "2023-10-22 00:26:47,001 - pyswarms.single.global_best - INFO - Optimize for 1 iters with {'c1': 0.5, 'c2': 0.3, 'w': 0.9}\n",
            "pyswarms.single.global_best:   0%|          |0/1, best_cost=1.09e+5"
          ]
        },
        {
          "output_type": "stream",
          "name": "stdout",
          "text": [
            "\n",
            "=========================================================================\n",
            "\n",
            "Número de ciclos de manutenção: 13 2\n",
            "Tempos para manutenções preventivas: [0, 10, 56, 64, 170, 244, 311, 429, 473, 492, 535, 582, 628, 643]\n",
            "Severidade para cada subsistema: [0.5, 0.25, 0.5, 0.75, 0.75, 0.25, 0.5, 0.5, 0.75, 0.5, 0.75, 0.25, 0.75]\n",
            "Número de Sisemas: 2\n",
            "Fator:  [0.4796409625107464, 0.27864084015710067, 0.15067134756744527, 0.27864084015710067, 0.3873289968507504, 0.3873289968507504, 0.15067134756744527, 0.27864084015710067, 0.27864084015710067, 0.3873289968507504, 0.27864084015710067, 0.3873289968507504, 0.15067134756744527, 0.3873289968507504]\n",
            "Media de falhas:  [0, 1.3403836653692202e-06, 0.004751260555235565, 0.006883074510864168, 1.4382749805632729, 5.051851914006984, 10.496432149619142, 45.10781705491458, 112.31702783166682, 131.9125838103726, 191.0790788837711, 240.23759729837622, 361.4324023931756, 385.6374027118328, 1110.8560081164896]\n",
            "Custo =  273367.61691592797\n"
          ]
        },
        {
          "output_type": "stream",
          "name": "stderr",
          "text": [
            "\rpyswarms.single.global_best: 100%|██████████|1/1, best_cost=1.09e+5\n",
            "2023-10-22 00:26:47,014 - pyswarms.single.global_best - INFO - Optimization finished | best cost: 109151.90170863555, best pos: [3.54913542 1.9273704  3.11590913 0.37919768 3.61286867 5.69920307\n",
            " 3.98818472 6.71962006 5.19963317 2.60687009 4.1319504  2.9281391\n",
            " 4.77248382 1.5199952  0.58176653 3.75775275 5.46245732 3.81527194\n",
            " 6.53251362 5.38971665 2.06501614 5.3396937  6.53360595 0.78977222]\n",
            "2023-10-22 00:26:47,016 - pyswarms.single.global_best - INFO - Optimize for 1 iters with {'c1': 0.5, 'c2': 0.3, 'w': 0.9}\n",
            "pyswarms.single.global_best: 100%|██████████|1/1, best_cost=1.09e+5\n",
            "2023-10-22 00:26:47,032 - pyswarms.single.global_best - INFO - Optimization finished | best cost: 109151.90170863555, best pos: [3.54900202 1.92733223 3.11590891 0.37962663 3.60957446 5.69984167\n",
            " 3.98839731 6.71962329 5.20061151 2.60690603 0.703401   2.92814285\n",
            " 4.77246144 5.02768622 0.58168245 3.75787963 5.46254647 3.81528403\n",
            " 6.5324384  5.38977118 2.06505115 5.33974639 6.53365765 0.79006551]\n",
            "2023-10-22 00:26:47,033 - pyswarms.single.global_best - INFO - Optimize for 1 iters with {'c1': 0.5, 'c2': 0.3, 'w': 0.9}\n"
          ]
        },
        {
          "output_type": "stream",
          "name": "stdout",
          "text": [
            "\n",
            "=========================================================================\n",
            "\n",
            "Número de ciclos de manutenção: 11 2\n",
            "Tempos para manutenções preventivas: [0, 11, 58, 63, 170, 244, 438, 472, 492, 532, 581, 640]\n",
            "Severidade para cada subsistema: [0.5, 0.25, 0.5, 0.75, 0.75, 0.75, 0.5, 0.75, 0.5, 0.75, 0.75]\n",
            "Número de Sisemas: 2\n",
            "Fator:  [0.4796409625107464, 0.27864084015710067, 0.15067134756744527, 0.27864084015710067, 0.3873289968507504, 0.3873289968507504, 0.3873289968507504, 0.27864084015710067, 0.3873289968507504, 0.27864084015710067, 0.3873289968507504, 0.3873289968507504]\n",
            "Media de falhas:  [0, 2.1595600069852454e-06, 0.005501050555030913, 0.006813635746217326, 1.4454641251730556, 5.059041058616766, 69.09280905045472, 84.53485320750117, 95.4607315021938, 149.58134992692626, 200.38553358787658, 364.6453765317008, 593.2850971407291]\n",
            "Custo =  139554.75250101514\n"
          ]
        },
        {
          "output_type": "stream",
          "name": "stderr",
          "text": [
            "pyswarms.single.global_best: 100%|██████████|1/1, best_cost=1.09e+5\n",
            "2023-10-22 00:26:47,045 - pyswarms.single.global_best - INFO - Optimization finished | best cost: 109151.90170863555, best pos: [3.54898437 1.92729476 3.11590867 0.38024919 3.61318307 5.70043037\n",
            " 3.98840237 6.71962583 5.20134247 2.60694035 5.42867179 2.92814761\n",
            " 4.7724756  1.21844857 0.58161009 3.75796507 5.46243696 3.81529753\n",
            " 6.53246868 5.38980727 2.06509003 5.33973055 6.53363514 0.79023194]\n",
            "2023-10-22 00:26:47,046 - pyswarms.single.global_best - INFO - Optimize for 1 iters with {'c1': 0.5, 'c2': 0.3, 'w': 0.9}\n"
          ]
        },
        {
          "output_type": "stream",
          "name": "stdout",
          "text": [
            "\n",
            "=========================================================================\n",
            "\n",
            "Número de ciclos de manutenção: 13 2\n",
            "Tempos para manutenções preventivas: [0, 11, 63, 107, 171, 237, 245, 300, 407, 471, 492, 529, 581, 638]\n",
            "Severidade para cada subsistema: [0.5, 0.5, 0.25, 0.75, 0.5, 0.75, 0.25, 0.25, 0.5, 0.75, 0.5, 0.75, 0.75]\n",
            "Número de Sisemas: 2\n",
            "Fator:  [0.4796409625107464, 0.27864084015710067, 0.27864084015710067, 0.15067134756744527, 0.3873289968507504, 0.27864084015710067, 0.3873289968507504, 0.15067134756744527, 0.15067134756744527, 0.27864084015710067, 0.3873289968507504, 0.27864084015710067, 0.3873289968507504, 0.3873289968507504]\n",
            "Media de falhas:  [0, 2.1595600069852454e-06, 0.00865546796116171, 0.08348605289179403, 0.8067362482437296, 5.640245256219526, 5.9095756091318075, 12.645988903836768, 38.06940557835755, 128.02208217819106, 168.71115665680026, 217.93707390081707, 271.7107661623474, 428.9062514456692, 662.3685627108717]\n",
            "Custo =  175851.33513195155\n"
          ]
        },
        {
          "output_type": "stream",
          "name": "stderr",
          "text": [
            "pyswarms.single.global_best: 100%|██████████|1/1, best_cost=1.09e+5\n",
            "2023-10-22 00:26:47,058 - pyswarms.single.global_best - INFO - Optimization finished | best cost: 109151.90170863555, best pos: [3.54901753 1.92724586 3.11590834 0.38152314 3.6307358  5.7010502\n",
            " 3.98819444 6.71962741 5.20167895 2.60696995 2.74008898 2.9281538\n",
            " 4.77258427 4.66878945 0.58155219 3.75802581 5.46223348 3.81531284\n",
            " 6.53259791 5.3898305  2.06512739 5.33965313 6.53347886 0.79026996]\n",
            "2023-10-22 00:26:47,060 - pyswarms.single.global_best - INFO - Optimize for 1 iters with {'c1': 0.5, 'c2': 0.3, 'w': 0.9}\n"
          ]
        },
        {
          "output_type": "stream",
          "name": "stdout",
          "text": [
            "\n",
            "=========================================================================\n",
            "\n",
            "Número de ciclos de manutenção: 12 2\n",
            "Tempos para manutenções preventivas: [0, 12, 63, 102, 171, 233, 245, 410, 470, 492, 528, 580, 636]\n",
            "Severidade para cada subsistema: [0.5, 0.5, 0.5, 0.75, 0.25, 0.75, 0.5, 0.5, 0.75, 0.5, 0.75, 0.75]\n",
            "Número de Sisemas: 2\n",
            "Fator:  [0.4796409625107464, 0.27864084015710067, 0.27864084015710067, 0.27864084015710067, 0.3873289968507504, 0.15067134756744527, 0.3873289968507504, 0.27864084015710067, 0.27864084015710067, 0.3873289968507504, 0.27864084015710067, 0.3873289968507504, 0.3873289968507504]\n",
            "Media de falhas:  [0, 3.337841922444591e-06, 0.008302722965270138, 0.0637619064342588, 0.833191610394827, 3.4146865632099677, 3.8145437687146275, 96.88123920033318, 122.97883079613081, 145.50831576921811, 193.13566722295346, 246.53559742178336, 399.25645232387683, 637.5353424216089]\n",
            "Custo =  148881.28271040914\n"
          ]
        },
        {
          "output_type": "stream",
          "name": "stderr",
          "text": [
            "pyswarms.single.global_best: 100%|██████████|1/1, best_cost=1.09e+5\n",
            "2023-10-22 00:26:47,071 - pyswarms.single.global_best - INFO - Optimization finished | best cost: 109151.90170863555, best pos: [3.54913666 1.92720115 3.11590802 0.38276401 3.65345778 5.70153294\n",
            " 3.98787513 6.71962533 5.20161541 2.60698941 0.54430883 2.92815947\n",
            " 4.77270823 1.41632184 0.58152215 3.75802032 5.46177567 3.81532776\n",
            " 6.53281582 5.38985092 2.06515505 5.33949931 6.53328086 0.79025536]\n",
            "2023-10-22 00:26:47,073 - pyswarms.single.global_best - INFO - Optimize for 1 iters with {'c1': 0.5, 'c2': 0.3, 'w': 0.9}\n"
          ]
        },
        {
          "output_type": "stream",
          "name": "stdout",
          "text": [
            "\n",
            "=========================================================================\n",
            "\n",
            "Número de ciclos de manutenção: 13 2\n",
            "Tempos para manutenções preventivas: [0, 14, 63, 145, 171, 246, 316, 412, 469, 492, 529, 550, 580, 634]\n",
            "Severidade para cada subsistema: [0.5, 0.5, 0.5, 0.75, 0.75, 0.25, 0.75, 0.5, 0.75, 0.5, 0.75, 0.75, 0.75]\n",
            "Número de Sisemas: 2\n",
            "Fator:  [0.4796409625107464, 0.27864084015710067, 0.27864084015710067, 0.27864084015710067, 0.3873289968507504, 0.3873289968507504, 0.15067134756744527, 0.3873289968507504, 0.27864084015710067, 0.3873289968507504, 0.27864084015710067, 0.3873289968507504, 0.3873289968507504, 0.3873289968507504]\n",
            "Media de falhas:  [0, 7.219033700132119e-06, 0.007633435101206299, 0.46049532677975363, 0.8057285058641561, 4.5859658617316645, 10.644083713727568, 34.644705514166255, 115.15406301589076, 127.67117882629898, 176.8970960703158, 194.849311822101, 253.74702655415948, 333.12895147078376, 576.2187271944498]\n",
            "Custo =  160910.22252942197\n"
          ]
        },
        {
          "output_type": "stream",
          "name": "stderr",
          "text": [
            "pyswarms.single.global_best:   0%|          |0/1, best_cost=1.09e+5"
          ]
        },
        {
          "output_type": "stream",
          "name": "stdout",
          "text": [
            "\n",
            "=========================================================================\n",
            "\n",
            "Número de ciclos de manutenção: 12 2\n",
            "Tempos para manutenções preventivas: [0, 16, 63, 136, 171, 246, 323, 470, 493, 530, 555, 580, 634]\n",
            "Severidade para cada subsistema: [0.5, 0.5, 0.5, 0.75, 0.75, 0.75, 0.5, 0.75, 0.5, 0.5, 0.75, 0.75]\n",
            "Número de Sisemas: 2\n",
            "Fator:  [0.4796409625107464, 0.27864084015710067, 0.27864084015710067, 0.27864084015710067, 0.3873289968507504, 0.3873289968507504, 0.3873289968507504, 0.27864084015710067, 0.3873289968507504, 0.27864084015710067, 0.27864084015710067, 0.3873289968507504, 0.3873289968507504]\n",
            "Media de falhas:  [0, 1.4082533509826091e-05, 0.007011411673456247, 0.3201179361314077, 0.763237404931042, 4.54347476079855, 11.804361898164675, 74.06976260997588, 86.68979724980181, 136.29666417349958, 158.36160711651885, 207.93272902946273, 353.80728602272995, 596.8970617463959]\n",
            "Custo =  161299.96857888458\n"
          ]
        },
        {
          "output_type": "stream",
          "name": "stderr",
          "text": [
            "\rpyswarms.single.global_best: 100%|██████████|1/1, best_cost=1.09e+5\n",
            "2023-10-22 00:26:47,091 - pyswarms.single.global_best - INFO - Optimization finished | best cost: 109151.90170863555, best pos: [3.54926369 1.92716629 3.11590771 0.38389446 3.67489993 5.70175267\n",
            " 3.98755644 6.71962319 5.2010732  2.60700266 5.41207357 2.92816415\n",
            " 4.77282078 5.37674218 0.58154363 3.75793565 5.46129062 3.81533981\n",
            " 6.53342461 5.38986114 2.0651784  5.33935734 6.53309252 0.79010056]\n",
            "2023-10-22 00:26:47,092 - pyswarms.single.global_best - INFO - Optimize for 1 iters with {'c1': 0.5, 'c2': 0.3, 'w': 0.9}\n",
            "pyswarms.single.global_best: 100%|██████████|1/1, best_cost=1.09e+5\n",
            "2023-10-22 00:26:47,104 - pyswarms.single.global_best - INFO - Optimization finished | best cost: 109151.90170863555, best pos: [3.54938455 1.92715124 3.11590744 0.38479491 3.69779013 5.70185161\n",
            " 3.98727249 6.71962071 5.20033867 2.60700097 2.94568644 2.92816709\n",
            " 4.77293222 1.46603364 0.58159439 3.75785336 5.46081685 3.81534665\n",
            " 6.53410248 5.38983158 2.06519559 5.33922017 6.53290355 0.78986311]\n",
            "2023-10-22 00:26:47,105 - pyswarms.single.global_best - INFO - Optimize for 1 iters with {'c1': 0.5, 'c2': 0.3, 'w': 0.9}\n"
          ]
        },
        {
          "output_type": "stream",
          "name": "stdout",
          "text": [
            "\n",
            "=========================================================================\n",
            "\n",
            "Número de ciclos de manutenção: 15 2\n",
            "Tempos para manutenções preventivas: [0, 18, 59, 63, 129, 171, 235, 247, 394, 435, 470, 493, 533, 561, 581, 633]\n",
            "Severidade para cada subsistema: [0.5, 0.25, 0.5, 0.5, 0.75, 0.25, 0.75, 0.5, 0.25, 0.5, 0.75, 0.5, 0.25, 0.75, 0.75]\n",
            "Número de Sisemas: 2\n",
            "Fator:  [0.4796409625107464, 0.27864084015710067, 0.15067134756744527, 0.27864084015710067, 0.27864084015710067, 0.3873289968507504, 0.15067134756744527, 0.3873289968507504, 0.27864084015710067, 0.15067134756744527, 0.27864084015710067, 0.3873289968507504, 0.27864084015710067, 0.15067134756744527, 0.3873289968507504, 0.3873289968507504]\n",
            "Media de falhas:  [0, 2.5389658248351453e-05, 0.004398297764805618, 0.005467028626235393, 0.3296914122899659, 0.8441329890410997, 3.5894066609093995, 4.002595070002639, 77.1433574558827, 90.41913544199677, 119.2751440179095, 163.91651020534385, 218.45411427970737, 244.17727605907092, 284.5149353533289, 543.997440648111, 789.490623483826]\n",
            "Custo =  237009.2802604027\n"
          ]
        },
        {
          "output_type": "stream",
          "name": "stderr",
          "text": [
            "pyswarms.single.global_best: 100%|██████████|1/1, best_cost=1.09e+5\n",
            "2023-10-22 00:26:47,117 - pyswarms.single.global_best - INFO - Optimization finished | best cost: 109151.90170863555, best pos: [3.54948287 1.92716384 3.11590722 0.38537249 3.71787493 5.70175227\n",
            " 3.98707544 6.7196181  5.19957019 2.60699943 0.50370199 2.92816757\n",
            " 4.77302777 4.76573994 0.58164888 3.75775392 5.46035471 3.81534578\n",
            " 6.53474822 5.3897688  2.0652039  5.33911507 6.53275797 0.78962752]\n",
            "2023-10-22 00:26:47,118 - pyswarms.single.global_best - INFO - Optimize for 1 iters with {'c1': 0.5, 'c2': 0.3, 'w': 0.9}\n"
          ]
        },
        {
          "output_type": "stream",
          "name": "stdout",
          "text": [
            "\n",
            "=========================================================================\n",
            "\n",
            "Número de ciclos de manutenção: 14 2\n",
            "Tempos para manutenções preventivas: [0, 19, 57, 63, 116, 126, 171, 209, 247, 408, 471, 494, 535, 581, 634]\n",
            "Severidade para cada subsistema: [0.5, 0.25, 0.5, 0.25, 0.5, 0.75, 0.5, 0.75, 0.75, 0.5, 0.75, 0.5, 0.75, 0.75]\n",
            "Número de Sisemas: 2\n",
            "Fator:  [0.4796409625107464, 0.27864084015710067, 0.15067134756744527, 0.27864084015710067, 0.15067134756744527, 0.27864084015710067, 0.3873289968507504, 0.27864084015710067, 0.3873289968507504, 0.3873289968507504, 0.27864084015710067, 0.3873289968507504, 0.27864084015710067, 0.3873289968507504, 0.3873289968507504]\n",
            "Media de falhas:  [0, 3.327823747272426e-05, 0.0034294192822612235, 0.004977716982449881, 0.18459039507327435, 0.22671478446868845, 1.1372362298719667, 2.2334234564038815, 3.4790218017371086, 62.10044463094069, 89.67198404592524, 102.39557141610003, 159.04201922703436, 206.86422092589657, 350.2830033788807, 593.3727791025467]\n",
            "Custo =  139987.81738517006\n"
          ]
        },
        {
          "output_type": "stream",
          "name": "stderr",
          "text": [
            "pyswarms.single.global_best: 100%|██████████|1/1, best_cost=1.09e+5\n",
            "2023-10-22 00:26:47,130 - pyswarms.single.global_best - INFO - Optimization finished | best cost: 109151.90170863555, best pos: [3.54956872 1.92718577 3.11590712 0.38559372 3.72954783 5.70161675\n",
            " 3.9870488  6.71961522 5.19887569 2.60698706 4.9533737  2.92816565\n",
            " 4.77306397 0.86492108 0.58170816 3.7576597  5.45999669 3.81534322\n",
            " 6.53526622 5.38969407 2.06518767 5.33906    6.53265712 0.78942204]\n",
            "2023-10-22 00:26:47,131 - pyswarms.single.global_best - INFO - Optimize for 1 iters with {'c1': 0.5, 'c2': 0.3, 'w': 0.9}\n"
          ]
        },
        {
          "output_type": "stream",
          "name": "stdout",
          "text": [
            "\n",
            "=========================================================================\n",
            "\n",
            "Número de ciclos de manutenção: 15 2\n",
            "Tempos para manutenções preventivas: [0, 19, 56, 63, 105, 125, 171, 209, 214, 246, 406, 472, 494, 536, 581, 636]\n",
            "Severidade para cada subsistema: [0.5, 0.25, 0.5, 0.5, 0.5, 0.75, 0.5, 0.5, 0.75, 0.25, 0.5, 0.75, 0.5, 0.75, 0.75]\n",
            "Número de Sisemas: 2\n",
            "Fator:  [0.4796409625107464, 0.27864084015710067, 0.15067134756744527, 0.27864084015710067, 0.27864084015710067, 0.27864084015710067, 0.3873289968507504, 0.27864084015710067, 0.27864084015710067, 0.3873289968507504, 0.15067134756744527, 0.27864084015710067, 0.3873289968507504, 0.27864084015710067, 0.3873289968507504, 0.3873289968507504]\n",
            "Media de falhas:  [0, 3.327823747272426e-05, 0.003088926376958032, 0.0048653577467406665, 0.10647027409625932, 0.18162821980262922, 0.735398974419382, 1.8315862009512967, 1.9301212209994842, 3.792422367314822, 60.92781211931436, 89.99322160491717, 133.1887572459368, 191.54176599009284, 238.3670769853097, 388.61603568154464, 626.8949257792767]\n",
            "Custo =  162740.9881520097\n"
          ]
        },
        {
          "output_type": "stream",
          "name": "stderr",
          "text": [
            "pyswarms.single.global_best: 100%|██████████|1/1, best_cost=1.09e+5\n",
            "2023-10-22 00:26:47,146 - pyswarms.single.global_best - INFO - Optimization finished | best cost: 109151.90170863555, best pos: [3.54961235 1.92721192 3.11590715 0.38515846 3.73237268 5.70129006\n",
            " 3.98714024 6.71961272 5.19831016 2.60696601 2.17979824 2.92816215\n",
            " 4.77304745 4.33131593 0.58176648 3.75758103 5.45980415 3.81533911\n",
            " 6.53544908 5.38962792 2.06514807 5.33903155 6.53262919 0.78932319]\n",
            "2023-10-22 00:26:47,147 - pyswarms.single.global_best - INFO - Optimize for 1 iters with {'c1': 0.5, 'c2': 0.3, 'w': 0.9}\n"
          ]
        },
        {
          "output_type": "stream",
          "name": "stdout",
          "text": [
            "\n",
            "=========================================================================\n",
            "\n",
            "Número de ciclos de manutenção: 15 2\n",
            "Tempos para manutenções preventivas: [0, 19, 55, 63, 128, 171, 208, 246, 318, 425, 473, 494, 537, 541, 582, 638]\n",
            "Severidade para cada subsistema: [0.5, 0.25, 0.5, 0.5, 0.75, 0.5, 0.75, 0.75, 0.25, 0.5, 0.75, 0.5, 0.25, 0.75, 0.75]\n",
            "Número de Sisemas: 2\n",
            "Fator:  [0.4796409625107464, 0.27864084015710067, 0.15067134756744527, 0.27864084015710067, 0.27864084015710067, 0.3873289968507504, 0.27864084015710067, 0.3873289968507504, 0.3873289968507504, 0.15067134756744527, 0.27864084015710067, 0.3873289968507504, 0.27864084015710067, 0.15067134756744527, 0.3873289968507504, 0.3873289968507504]\n",
            "Media de falhas:  [0, 3.327823747272426e-05, 0.0027763027610485163, 0.004773834294192739, 0.31540365393335573, 0.8397628158058787, 1.890523007968889, 3.115804205404637, 13.851102349126226, 44.098867874978616, 65.75890182393847, 107.1258680246542, 167.20267830057264, 170.47103817501028, 250.37624640253915, 536.2174162683185, 769.679727533521]\n",
            "Custo =  224639.84687233358\n"
          ]
        },
        {
          "output_type": "stream",
          "name": "stderr",
          "text": [
            "pyswarms.single.global_best:   0%|          |0/1, best_cost=1.09e+5"
          ]
        },
        {
          "output_type": "stream",
          "name": "stdout",
          "text": [
            "\n",
            "=========================================================================\n",
            "\n",
            "Número de ciclos de manutenção: 18 2\n",
            "Tempos para manutenções preventivas: [0, 19, 54, 63, 118, 133, 171, 208, 246, 317, 399, 426, 474, 494, 538, 550, 582, 629, 640]\n",
            "Severidade para cada subsistema: [0.5, 0.25, 0.5, 0.75, 0.5, 0.75, 0.5, 0.75, 0.25, 0.25, 0.5, 0.5, 0.75, 0.5, 0.25, 0.75, 0.25, 0.75]\n",
            "Número de Sisemas: 2\n",
            "Fator:  [0.4796409625107464, 0.27864084015710067, 0.15067134756744527, 0.27864084015710067, 0.3873289968507504, 0.27864084015710067, 0.3873289968507504, 0.27864084015710067, 0.3873289968507504, 0.15067134756744527, 0.15067134756744527, 0.27864084015710067, 0.27864084015710067, 0.3873289968507504, 0.27864084015710067, 0.15067134756744527, 0.3873289968507504, 0.15067134756744527, 0.3873289968507504]\n",
            "Media de falhas:  [0, 3.327823747272426e-05, 0.002489800923644783, 0.0047019271207102056, 0.20241671162061847, 0.278132874398656, 0.5593908050958275, 1.6101509972588377, 2.8354321946945857, 13.30959263762482, 31.411622331240658, 59.83739963959752, 132.83218762860125, 153.75132184286554, 215.56930459637755, 225.93894577954586, 289.39863534400297, 520.755037747589, 538.249449675548, 1283.7459211976275]\n",
            "Custo =  351417.3252101011\n"
          ]
        },
        {
          "output_type": "stream",
          "name": "stderr",
          "text": [
            "\rpyswarms.single.global_best: 100%|██████████|1/1, best_cost=1.09e+5\n",
            "2023-10-22 00:26:47,159 - pyswarms.single.global_best - INFO - Optimization finished | best cost: 109151.90170863555, best pos: [3.5496504  1.9272386  3.11590737 0.38439906 3.72980208 5.70093499\n",
            " 3.98734419 6.71961069 5.19786402 2.60694568 6.52416506 2.92815766\n",
            " 4.77301592 0.34306813 0.58181388 3.75753722 5.45982665 3.81533123\n",
            " 6.53528871 5.3895787  2.06510399 5.33906139 6.53261814 0.78935088]\n",
            "2023-10-22 00:26:47,161 - pyswarms.single.global_best - INFO - Optimize for 1 iters with {'c1': 0.5, 'c2': 0.3, 'w': 0.9}\n",
            "pyswarms.single.global_best: 100%|██████████|1/1, best_cost=1.09e+5\n",
            "2023-10-22 00:26:47,172 - pyswarms.single.global_best - INFO - Optimization finished | best cost: 109151.90170863555, best pos: [3.54960182 1.92726366 3.1159076  0.3834439  3.72091376 5.70058749\n",
            " 3.98757206 6.71960945 5.19760922 2.60691836 3.4024091  2.9281535\n",
            " 4.77295415 3.86673792 0.58183344 3.75749808 5.45998154 3.81532315\n",
            " 6.53514281 5.38955556 2.06506431 5.3391298  6.53268017 0.78942864]\n"
          ]
        },
        {
          "output_type": "stream",
          "name": "stdout",
          "text": [
            "\n",
            "=========================================================================\n",
            "\n",
            "Número de ciclos de manutenção: 17 2\n",
            "Tempos para manutenções preventivas: [0, 18, 54, 63, 138, 171, 208, 245, 300, 392, 436, 474, 494, 538, 540, 582, 629, 643]\n",
            "Severidade para cada subsistema: [0.5, 0.25, 0.5, 0.5, 0.75, 0.5, 0.75, 0.75, 0.75, 0.75, 0.5, 0.75, 0.5, 0.25, 0.75, 0.25, 0.75]\n",
            "Número de Sisemas: 2\n",
            "Fator:  [0.4796409625107464, 0.27864084015710067, 0.15067134756744527, 0.27864084015710067, 0.27864084015710067, 0.3873289968507504, 0.27864084015710067, 0.3873289968507504, 0.3873289968507504, 0.3873289968507504, 0.3873289968507504, 0.27864084015710067, 0.3873289968507504, 0.27864084015710067, 0.15067134756744527, 0.3873289968507504, 0.15067134756744527, 0.3873289968507504]\n",
            "Media de falhas:  [0, 2.5389658248351453e-05, 0.00261647822058742, 0.004828604417652843, 0.4736990361466098, 0.8957367293306779, 1.9464969214936882, 3.1215546930516, 9.85796798775656, 28.700007773886, 43.03305999524237, 60.51009421263869, 71.61605712927093, 133.43403988278294, 135.06048704707143, 216.75862342878216, 448.1150258323682, 470.7302105896789, 1195.9488159943357]\n",
            "Custo =  317085.04942257126\n"
          ]
        },
        {
          "output_type": "stream",
          "name": "stderr",
          "text": [
            "2023-10-22 00:26:47,174 - pyswarms.single.global_best - INFO - Optimize for 1 iters with {'c1': 0.5, 'c2': 0.3, 'w': 0.9}\n",
            "pyswarms.single.global_best: 100%|██████████|1/1, best_cost=1.09e+5\n",
            "2023-10-22 00:26:47,191 - pyswarms.single.global_best - INFO - Optimization finished | best cost: 109151.90170863555, best pos: [3.54949037 1.92728236 3.11590783 0.38258111 3.71144686 5.7003205\n",
            " 3.98778284 6.71960837 5.19773916 2.60689324 0.51758253 2.92815085\n",
            " 4.77289009 0.55931156 0.58183945 3.75748124 5.4602347  3.81531557\n",
            " 6.534892   5.38955451 2.06503577 5.33920206 6.53282974 0.78957605]\n",
            "2023-10-22 00:26:47,192 - pyswarms.single.global_best - INFO - Optimize for 1 iters with {'c1': 0.5, 'c2': 0.3, 'w': 0.9}\n"
          ]
        },
        {
          "output_type": "stream",
          "name": "stdout",
          "text": [
            "\n",
            "=========================================================================\n",
            "\n",
            "Número de ciclos de manutenção: 15 2\n",
            "Tempos para manutenções preventivas: [0, 17, 53, 63, 143, 171, 208, 245, 306, 474, 494, 538, 548, 582, 629, 644]\n",
            "Severidade para cada subsistema: [0.5, 0.25, 0.5, 0.5, 0.75, 0.5, 0.75, 0.25, 0.5, 0.75, 0.5, 0.25, 0.75, 0.25, 0.75]\n",
            "Número de Sisemas: 2\n",
            "Fator:  [0.4796409625107464, 0.27864084015710067, 0.15067134756744527, 0.27864084015710067, 0.27864084015710067, 0.3873289968507504, 0.27864084015710067, 0.3873289968507504, 0.15067134756744527, 0.27864084015710067, 0.3873289968507504, 0.27864084015710067, 0.15067134756744527, 0.3873289968507504, 0.15067134756744527, 0.3873289968507504]\n",
            "Media de falhas:  [0, 1.907371778552721e-05, 0.002465000157655484, 0.004885726521372482, 0.5736866484569589, 0.9413833015017985, 1.9921434936648088, 3.16720126522272, 11.142042017018222, 85.22482595149047, 124.75093410614791, 186.56891685965994, 195.10599866768115, 262.2692880671781, 493.6256904707641, 517.982372672334, 1236.3808640331508]\n",
            "Custo =  330321.8786442749\n"
          ]
        },
        {
          "output_type": "stream",
          "name": "stderr",
          "text": [
            "pyswarms.single.global_best: 100%|██████████|1/1, best_cost=1.09e+5"
          ]
        },
        {
          "output_type": "stream",
          "name": "stdout",
          "text": [
            "\n",
            "=========================================================================\n",
            "\n",
            "Número de ciclos de manutenção: 15 2\n",
            "Tempos para manutenções preventivas: [0, 16, 54, 63, 147, 170, 208, 245, 416, 474, 493, 538, 552, 582, 629, 645]\n",
            "Severidade para cada subsistema: [0.5, 0.25, 0.5, 0.5, 0.75, 0.5, 0.75, 0.75, 0.5, 0.75, 0.5, 0.25, 0.75, 0.25, 0.75]\n",
            "Número de Sisemas: 2\n",
            "Fator:  [0.4796409625107464, 0.27864084015710067, 0.15067134756744527, 0.27864084015710067, 0.27864084015710067, 0.3873289968507504, 0.27864084015710067, 0.3873289968507504, 0.3873289968507504, 0.27864084015710067, 0.3873289968507504, 0.27864084015710067, 0.15067134756744527, 0.3873289968507504, 0.15067134756744527, 0.3873289968507504]\n",
            "Media de falhas:  [0, 1.4082533509826091e-05, 0.0028917371061890234, 0.005103863303254446, 0.6653983355631482, 0.968618730103105, 2.0431117629226954, 3.218169534480607, 70.04478143496615, 96.1989325753162, 106.67726135455916, 169.77227383643245, 182.01794135645767, 241.74525596687448, 473.10165837046054, 499.2173424128227, 1210.7650553236076]\n",
            "Custo =  314105.11826217116\n"
          ]
        },
        {
          "output_type": "stream",
          "name": "stderr",
          "text": [
            "\n",
            "2023-10-22 00:26:47,205 - pyswarms.single.global_best - INFO - Optimization finished | best cost: 109151.90170863555, best pos: [3.54937298 1.92728906 3.11590803 0.38195409 3.70023369 5.7001218\n",
            " 3.98793745 6.71960745 5.19820333 2.60687411 5.78928382 2.92814995\n",
            " 4.77282296 4.62272025 0.5818346  3.75749692 5.46056467 3.81530912\n",
            " 6.53453579 5.38957083 2.06501789 5.3392742  6.53298496 0.78975055]\n",
            "2023-10-22 00:26:47,206 - pyswarms.single.global_best - INFO - Optimize for 1 iters with {'c1': 0.5, 'c2': 0.3, 'w': 0.9}\n",
            "pyswarms.single.global_best:   0%|          |0/1, best_cost=1.09e+5"
          ]
        },
        {
          "output_type": "stream",
          "name": "stdout",
          "text": [
            "\n",
            "=========================================================================\n",
            "\n",
            "Número de ciclos de manutenção: 14 2\n",
            "Tempos para manutenções preventivas: [0, 15, 55, 63, 101, 149, 170, 209, 245, 474, 493, 538, 581, 629, 644]\n",
            "Severidade para cada subsistema: [0.5, 0.25, 0.5, 0.75, 0.5, 0.75, 0.5, 0.75, 0.5, 0.75, 0.5, 0.75, 0.25, 0.75]\n",
            "Número de Sisemas: 2\n",
            "Fator:  [0.4796409625107464, 0.27864084015710067, 0.15067134756744527, 0.27864084015710067, 0.3873289968507504, 0.27864084015710067, 0.3873289968507504, 0.27864084015710067, 0.3873289968507504, 0.27864084015710067, 0.3873289968507504, 0.27864084015710067, 0.3873289968507504, 0.15067134756744527, 0.3873289968507504]\n",
            "Media de falhas:  [0, 1.0195774388402635e-05, 0.0033784011325789873, 0.005375932665723211, 0.08625748148287908, 0.4077401163556443, 0.5636770955031947, 1.6839130775510065, 2.8287839761298352, 150.16219691074616, 160.64052568998912, 223.7355381718624, 268.5625613189808, 395.4053309732503, 419.76201317482014, 1138.160504535637]\n",
            "Custo =  249267.14357973568\n"
          ]
        },
        {
          "output_type": "stream",
          "name": "stderr",
          "text": [
            "\rpyswarms.single.global_best: 100%|██████████|1/1, best_cost=1.09e+5\n",
            "2023-10-22 00:26:47,220 - pyswarms.single.global_best - INFO - Optimization finished | best cost: 109151.90170863555, best pos: [3.54926534 1.9272947  3.11590818 0.38169514 3.68754068 5.70005206\n",
            " 3.98805417 6.71960905 5.1986448  2.60686655 3.54995713 2.92814933\n",
            " 4.77276434 0.98444792 0.5818205  3.75751735 5.46086725 3.81530376\n",
            " 6.53419473 5.38962305 2.06502114 5.33933991 6.53312545 0.78990758]\n",
            "2023-10-22 00:26:47,221 - pyswarms.single.global_best - INFO - Optimize for 1 iters with {'c1': 0.5, 'c2': 0.3, 'w': 0.9}\n",
            "pyswarms.single.global_best: 100%|██████████|1/1, best_cost=1.09e+5\n",
            "2023-10-22 00:26:47,233 - pyswarms.single.global_best - INFO - Optimization finished | best cost: 109151.90170863555, best pos: [3.54918727 1.92728439 3.11590825 0.38165453 3.67630067 5.70005897\n",
            " 3.98815188 6.71961214 5.19908111 2.60686447 1.10784799 2.92814895\n",
            " 4.77271421 4.66231802 0.58179277 3.75755338 5.46111615 3.81530203\n",
            " 6.53389369 5.38968693 2.06503898 5.33939738 6.53323635 0.78999983]\n"
          ]
        },
        {
          "output_type": "stream",
          "name": "stdout",
          "text": [
            "\n",
            "=========================================================================\n",
            "\n",
            "Número de ciclos de manutenção: 12 2\n",
            "Tempos para manutenções preventivas: [0, 14, 56, 63, 148, 171, 209, 245, 473, 493, 537, 581, 642]\n",
            "Severidade para cada subsistema: [0.5, 0.25, 0.5, 0.5, 0.75, 0.5, 0.75, 0.5, 0.75, 0.5, 0.75, 0.75]\n",
            "Número de Sisemas: 2\n",
            "Fator:  [0.4796409625107464, 0.27864084015710067, 0.15067134756744527, 0.27864084015710067, 0.27864084015710067, 0.3873289968507504, 0.27864084015710067, 0.3873289968507504, 0.27864084015710067, 0.3873289968507504, 0.27864084015710067, 0.3873289968507504, 0.3873289968507504]\n",
            "Media de falhas:  [0, 7.219033700132119e-06, 0.003930634169348881, 0.0057070655391315145, 0.6906019728683742, 1.0012714395532702, 2.097458666085185, 3.2423295646640136, 148.7388210411719, 159.75446544742854, 221.10344188790606, 266.93036902319983, 438.37389394930295, 662.1846923002968]\n",
            "Custo =  139143.7689604901\n"
          ]
        },
        {
          "output_type": "stream",
          "name": "stderr",
          "text": [
            "2023-10-22 00:26:47,235 - pyswarms.single.global_best - INFO - Optimize for 1 iters with {'c1': 0.5, 'c2': 0.3, 'w': 0.9}\n",
            "pyswarms.single.global_best: 100%|██████████|1/1, best_cost=1.09e+5\n",
            "2023-10-22 00:26:47,247 - pyswarms.single.global_best - INFO - Optimization finished | best cost: 109151.90170863555, best pos: [3.54913094 1.92726601 3.11590819 0.3816823  3.66698167 5.70019512\n",
            " 3.988141   6.71961493 5.19951478 2.60686547 5.79725098 2.92814964\n",
            " 4.77267853 1.06371795 0.58176414 3.75763371 5.46126598 3.81530437\n",
            " 6.53371815 5.38974548 2.06505742 5.33943973 6.53332658 0.79004058]\n"
          ]
        },
        {
          "output_type": "stream",
          "name": "stdout",
          "text": [
            "\n",
            "=========================================================================\n",
            "\n",
            "Número de ciclos de manutenção: 14 2\n",
            "Tempos para manutenções preventivas: [0, 14, 58, 63, 146, 171, 209, 245, 300, 436, 473, 493, 536, 581, 639]\n",
            "Severidade para cada subsistema: [0.5, 0.25, 0.5, 0.5, 0.75, 0.5, 0.75, 0.25, 0.25, 0.5, 0.75, 0.5, 0.75, 0.75]\n",
            "Número de Sisemas: 2\n",
            "Fator:  [0.4796409625107464, 0.27864084015710067, 0.15067134756744527, 0.27864084015710067, 0.27864084015710067, 0.3873289968507504, 0.27864084015710067, 0.3873289968507504, 0.15067134756744527, 0.15067134756744527, 0.27864084015710067, 0.3873289968507504, 0.27864084015710067, 0.3873289968507504, 0.3873289968507504]\n",
            "Media de falhas:  [0, 7.219033700132119e-06, 0.004794840305684697, 0.00610742549687111, 0.6425074824912211, 0.9763388940184135, 2.0725261205503283, 3.217397019129157, 9.953810313834119, 52.597085628278954, 110.44685960444549, 149.64835566311962, 209.2687034448651, 256.094014440082, 416.8068566354833, 647.858644009419]\n",
            "Custo =  180235.81133501182\n"
          ]
        },
        {
          "output_type": "stream",
          "name": "stderr",
          "text": [
            "2023-10-22 00:26:47,249 - pyswarms.single.global_best - INFO - Optimize for 1 iters with {'c1': 0.5, 'c2': 0.3, 'w': 0.9}\n",
            "pyswarms.single.global_best: 100%|██████████|1/1, best_cost=1.09e+5\n",
            "2023-10-22 00:26:47,262 - pyswarms.single.global_best - INFO - Optimization finished | best cost: 109151.90170863555, best pos: [3.54913199 1.92724274 3.1159081  0.38181706 3.66289761 5.70035204\n",
            " 3.98811495 6.71961751 5.19989995 2.60687838 3.02531241 2.9281516\n",
            " 4.77269484 4.81410203 0.58173009 3.75771835 5.46137482 3.81531145\n",
            " 6.53361326 5.38979283 2.06507961 5.33945349 6.53338024 0.7900453 ]\n"
          ]
        },
        {
          "output_type": "stream",
          "name": "stdout",
          "text": [
            "\n",
            "=========================================================================\n",
            "\n",
            "Número de ciclos de manutenção: 13 2\n",
            "Tempos para manutenções preventivas: [0, 14, 59, 63, 143, 171, 245, 311, 444, 473, 493, 534, 581, 637]\n",
            "Severidade para cada subsistema: [0.5, 0.25, 0.5, 0.5, 0.75, 0.75, 0.75, 0.5, 0.5, 0.75, 0.5, 0.75, 0.75]\n",
            "Número de Sisemas: 2\n",
            "Fator:  [0.4796409625107464, 0.27864084015710067, 0.15067134756744527, 0.27864084015710067, 0.27864084015710067, 0.3873289968507504, 0.3873289968507504, 0.3873289968507504, 0.27864084015710067, 0.27864084015710067, 0.3873289968507504, 0.27864084015710067, 0.3873289968507504, 0.3873289968507504]\n",
            "Media de falhas:  [0, 7.219033700132119e-06, 0.005280620314617846, 0.006349351176047621, 0.575150273111634, 0.9428469261564736, 4.6190103882808184, 9.985062743179979, 54.79111094482667, 68.15461398212241, 88.90271853064053, 145.11750967809456, 193.9351358341745, 347.64272177816474, 583.514053996866]\n",
            "Custo =  148779.51163185074\n"
          ]
        },
        {
          "output_type": "stream",
          "name": "stderr",
          "text": [
            "2023-10-22 00:26:47,263 - pyswarms.single.global_best - INFO - Optimize for 1 iters with {'c1': 0.5, 'c2': 0.3, 'w': 0.9}\n",
            "pyswarms.single.global_best:   0%|          |0/1, best_cost=1.09e+5"
          ]
        },
        {
          "output_type": "stream",
          "name": "stdout",
          "text": [
            "\n",
            "=========================================================================\n",
            "\n",
            "Número de ciclos de manutenção: 13 2\n",
            "Tempos para manutenções preventivas: [0, 15, 63, 139, 171, 228, 246, 447, 472, 493, 533, 563, 581, 636]\n",
            "Severidade para cada subsistema: [0.5, 0.5, 0.5, 0.75, 0.5, 0.75, 0.75, 0.5, 0.75, 0.5, 0.25, 0.75, 0.75]\n",
            "Número de Sisemas: 2\n",
            "Fator:  [0.4796409625107464, 0.27864084015710067, 0.27864084015710067, 0.27864084015710067, 0.3873289968507504, 0.27864084015710067, 0.3873289968507504, 0.3873289968507504, 0.27864084015710067, 0.3873289968507504, 0.27864084015710067, 0.15067134756744527, 0.3873289968507504, 0.3873289968507504]\n",
            "Media de falhas:  [0, 1.0195774388402635e-05, 0.007316577687040007, 0.36252085392446787, 0.7738841458689865, 2.975746514525661, 3.5769485171348463, 106.84272098656967, 118.32188778131234, 129.8735748221549, 184.41117889651838, 212.31049893715746, 248.76169522417638, 526.5573686131563, 764.8362587108884]\n",
            "Custo =  206238.49171150627\n"
          ]
        },
        {
          "output_type": "stream",
          "name": "stderr",
          "text": [
            "\rpyswarms.single.global_best: 100%|██████████|1/1, best_cost=1.09e+5\n",
            "2023-10-22 00:26:47,276 - pyswarms.single.global_best - INFO - Optimization finished | best cost: 109151.90170863555, best pos: [3.54917411 1.92722187 3.11590799 0.38208179 3.66244075 5.70058924\n",
            " 3.98801328 6.71961972 5.20014523 2.60689206 6.92221234 2.92815444\n",
            " 4.7727312  1.59482399 0.58169919 3.75779701 5.46142782 3.81532021\n",
            " 6.53362033 5.38982095 2.06510471 5.33944748 6.53334544 0.78996679]\n",
            "2023-10-22 00:26:47,278 - pyswarms.single.global_best - INFO - Optimize for 1 iters with {'c1': 0.5, 'c2': 0.3, 'w': 0.9}\n",
            "pyswarms.single.global_best: 100%|██████████|1/1, best_cost=1.09e+5"
          ]
        },
        {
          "output_type": "stream",
          "name": "stdout",
          "text": [
            "\n",
            "=========================================================================\n",
            "\n",
            "Número de ciclos de manutenção: 11 2\n",
            "Tempos para manutenções preventivas: [0, 16, 63, 136, 171, 210, 246, 472, 493, 532, 581, 635]\n",
            "Severidade para cada subsistema: [0.5, 0.5, 0.5, 0.75, 0.75, 0.75, 0.5, 0.75, 0.5, 0.75, 0.75]\n",
            "Número de Sisemas: 2\n",
            "Fator:  [0.4796409625107464, 0.27864084015710067, 0.27864084015710067, 0.27864084015710067, 0.3873289968507504, 0.3873289968507504, 0.3873289968507504, 0.27864084015710067, 0.3873289968507504, 0.27864084015710067, 0.3873289968507504, 0.3873289968507504]\n",
            "Media de falhas:  [0, 1.4082533509826091e-05, 0.007011411673456247, 0.3201179361314077, 0.763237404931042, 1.905993094673732, 3.0699287157631283, 105.26373212440683, 116.81541916524937, 169.69272535082592, 220.49690901177624, 367.31632785143404, 608.0013525446128]\n",
            "Custo =  133549.67443934348\n"
          ]
        },
        {
          "output_type": "stream",
          "name": "stderr",
          "text": [
            "\n",
            "2023-10-22 00:26:47,290 - pyswarms.single.global_best - INFO - Optimization finished | best cost: 109151.90170863555, best pos: [3.54924712 1.92720899 3.11590786 0.38261944 3.66256479 5.70083717\n",
            " 3.98782129 6.71962072 5.20014629 2.60690933 3.38430613 2.92815742\n",
            " 4.77279812 5.69676667 0.58167938 3.75785644 5.46125813 3.81532834\n",
            " 6.53378543 5.38984199 2.06512702 5.33941259 6.53330558 0.78985828]\n",
            "2023-10-22 00:26:47,291 - pyswarms.single.global_best - INFO - Optimize for 1 iters with {'c1': 0.5, 'c2': 0.3, 'w': 0.9}\n",
            "pyswarms.single.global_best: 100%|██████████|1/1, best_cost=1.09e+5\n",
            "2023-10-22 00:26:47,303 - pyswarms.single.global_best - INFO - Optimization finished | best cost: 109151.90170863555, best pos: [3.54931877 1.92720174 3.11590774 0.38328155 3.66705072 5.70104806\n",
            " 3.98761945 6.71962127 5.2000682  2.60692503 6.89107838 2.92816007\n",
            " 4.77286372 2.40824266 0.5816628  3.75787285 5.46103864 3.81533457\n",
            " 6.53396488 5.38985558 2.06514139 5.33937571 6.53320006 0.78975193]\n"
          ]
        },
        {
          "output_type": "stream",
          "name": "stdout",
          "text": [
            "\n",
            "=========================================================================\n",
            "\n",
            "Número de ciclos de manutenção: 12 2\n",
            "Tempos para manutenções preventivas: [0, 16, 63, 134, 171, 230, 246, 448, 472, 493, 531, 581, 635]\n",
            "Severidade para cada subsistema: [0.5, 0.5, 0.5, 0.75, 0.75, 0.75, 0.25, 0.5, 0.75, 0.5, 0.75, 0.75]\n",
            "Número de Sisemas: 2\n",
            "Fator:  [0.4796409625107464, 0.27864084015710067, 0.27864084015710067, 0.27864084015710067, 0.3873289968507504, 0.3873289968507504, 0.3873289968507504, 0.15067134756744527, 0.27864084015710067, 0.3873289968507504, 0.27864084015710067, 0.3873289968507504, 0.3873289968507504]\n",
            "Media de falhas:  [0, 1.4082533509826091e-05, 0.007011411673456247, 0.2943270556660707, 0.7581941792698326, 3.106936612936197, 3.6437560350465286, 76.86035919539127, 87.89440642678909, 128.9213761018983, 180.15514566168383, 231.95051588077447, 378.7699347204323, 619.454959413611]\n",
            "Custo =  160649.03553671658\n"
          ]
        },
        {
          "output_type": "stream",
          "name": "stderr",
          "text": [
            "2023-10-22 00:26:47,305 - pyswarms.single.global_best - INFO - Optimize for 1 iters with {'c1': 0.5, 'c2': 0.3, 'w': 0.9}\n",
            "pyswarms.single.global_best:   0%|          |0/1, best_cost=1.09e+5"
          ]
        },
        {
          "output_type": "stream",
          "name": "stdout",
          "text": [
            "\n",
            "=========================================================================\n",
            "\n",
            "Número de ciclos de manutenção: 14 2\n",
            "Tempos para manutenções preventivas: [0, 17, 63, 107, 134, 171, 235, 246, 327, 472, 493, 531, 541, 581, 636]\n",
            "Severidade para cada subsistema: [0.5, 0.5, 0.75, 0.5, 0.75, 0.75, 0.75, 0.75, 0.5, 0.75, 0.5, 0.75, 0.75, 0.75]\n",
            "Número de Sisemas: 2\n",
            "Fator:  [0.4796409625107464, 0.27864084015710067, 0.27864084015710067, 0.3873289968507504, 0.27864084015710067, 0.3873289968507504, 0.3873289968507504, 0.3873289968507504, 0.3873289968507504, 0.27864084015710067, 0.3873289968507504, 0.27864084015710067, 0.3873289968507504, 0.3873289968507504, 0.3873289968507504]\n",
            "Media de falhas:  [0, 1.907371778552721e-05, 0.006717847200654882, 0.08154843213128721, 0.21066784009412445, 0.4847544613226641, 3.230028133190964, 3.603569088468506, 11.621533933383967, 74.06050338856704, 85.61219042940958, 136.84595998919514, 144.9533727629925, 222.51270813954702, 304.33634750488227, 542.6152376026143]\n",
            "Custo =  144411.1938951852\n"
          ]
        },
        {
          "output_type": "stream",
          "name": "stderr",
          "text": [
            "\rpyswarms.single.global_best: 100%|██████████|1/1, best_cost=1.09e+5\n",
            "2023-10-22 00:26:47,319 - pyswarms.single.global_best - INFO - Optimization finished | best cost: 109151.90170863555, best pos: [3.54938411 1.92719562 3.11590763 0.38391196 3.67221533 5.70123149\n",
            " 3.98744263 6.7196208  5.19981948 2.60693675 2.82552236 2.92816221\n",
            " 4.77292257 6.16608464 0.58165272 3.75787584 5.46081991 3.81533936\n",
            " 6.5341887  5.3898559  2.06514569 5.33933355 6.53309172 0.7896556 ]\n",
            "2023-10-22 00:26:47,320 - pyswarms.single.global_best - INFO - Optimize for 1 iters with {'c1': 0.5, 'c2': 0.3, 'w': 0.9}\n",
            "pyswarms.single.global_best:   0%|          |0/1, best_cost=1.09e+5"
          ]
        },
        {
          "output_type": "stream",
          "name": "stdout",
          "text": [
            "\n",
            "=========================================================================\n",
            "\n",
            "Número de ciclos de manutenção: 14 2\n",
            "Tempos para manutenções preventivas: [0, 18, 63, 136, 171, 224, 246, 323, 439, 471, 494, 532, 546, 581, 637]\n",
            "Severidade para cada subsistema: [0.5, 0.5, 0.5, 0.75, 0.75, 0.75, 0.25, 0.75, 0.5, 0.75, 0.5, 0.5, 0.75, 0.75]\n",
            "Número de Sisemas: 2\n",
            "Fator:  [0.4796409625107464, 0.27864084015710067, 0.27864084015710067, 0.27864084015710067, 0.3873289968507504, 0.3873289968507504, 0.3873289968507504, 0.15067134756744527, 0.3873289968507504, 0.27864084015710067, 0.3873289968507504, 0.27864084015710067, 0.27864084015710067, 0.3873289968507504, 0.3873289968507504]\n",
            "Media de falhas:  [0, 2.5389658248351453e-05, 0.006435824115773396, 0.3195423485737248, 0.762661817373359, 2.6896915961477617, 3.418280956472608, 10.679168093838733, 47.99652693616764, 97.99642946544284, 110.72001683561763, 162.34893176760536, 174.06807117244944, 242.59095806866532, 396.2985440126556, 632.1698762313569]\n",
            "Custo =  184126.37130907766\n"
          ]
        },
        {
          "output_type": "stream",
          "name": "stderr",
          "text": [
            "\rpyswarms.single.global_best: 100%|██████████|1/1, best_cost=1.09e+5\n",
            "2023-10-22 00:26:47,333 - pyswarms.single.global_best - INFO - Optimization finished | best cost: 109151.90170863555, best pos: [3.54944182 1.92719344 3.11590759 0.3844525  3.67794613 5.70139073\n",
            " 3.98733577 6.71961998 5.19950495 2.6069423  5.49997815 2.92816366\n",
            " 4.77297043 2.42553006 0.58164845 3.75787775 5.46057861 3.81534308\n",
            " 6.53439626 5.38983067 2.06513717 5.33929237 6.53298664 0.78958383]\n",
            "2023-10-22 00:26:47,335 - pyswarms.single.global_best - INFO - Optimize for 1 iters with {'c1': 0.5, 'c2': 0.3, 'w': 0.9}\n",
            "pyswarms.single.global_best: 100%|██████████|1/1, best_cost=1.09e+5\n",
            "2023-10-22 00:26:47,347 - pyswarms.single.global_best - INFO - Optimization finished | best cost: 109151.90170863555, best pos: [3.54948327 1.92719374 3.11590758 0.38480515 3.68655666 5.70142519\n",
            " 3.98729773 6.71961869 5.19921003 2.60694575 1.03065918 2.92816416\n",
            " 4.77300793 6.0401808  0.5816608  3.75783754 5.46036964 3.81534331\n",
            " 6.53453245 5.38978971 2.06511986 5.33926133 6.532898   0.78955298]\n",
            "2023-10-22 00:26:47,349 - pyswarms.single.global_best - INFO - Optimize for 1 iters with {'c1': 0.5, 'c2': 0.3, 'w': 0.9}\n"
          ]
        },
        {
          "output_type": "stream",
          "name": "stdout",
          "text": [
            "\n",
            "=========================================================================\n",
            "\n",
            "Número de ciclos de manutenção: 14 2\n",
            "Tempos para manutenções preventivas: [0, 18, 63, 90, 137, 171, 246, 300, 401, 472, 494, 533, 555, 581, 638]\n",
            "Severidade para cada subsistema: [0.5, 0.5, 0.25, 0.5, 0.75, 0.75, 0.75, 0.25, 0.5, 0.75, 0.5, 0.25, 0.75, 0.75]\n",
            "Número de Sisemas: 2\n",
            "Fator:  [0.4796409625107464, 0.27864084015710067, 0.27864084015710067, 0.15067134756744527, 0.27864084015710067, 0.3873289968507504, 0.3873289968507504, 0.3873289968507504, 0.15067134756744527, 0.27864084015710067, 0.3873289968507504, 0.27864084015710067, 0.15067134756744527, 0.3873289968507504, 0.3873289968507504]\n",
            "Media de falhas:  [0, 2.5389658248351453e-05, 0.006435824115773396, 0.030790914508565713, 0.25299797677009717, 1.0059328471679572, 4.786170203035466, 8.612456675481143, 31.235172014187626, 62.38773429581681, 105.58326993683646, 158.8677995568964, 178.35083155829426, 230.16276589266727, 520.3920962945883, 753.8544075597908]\n",
            "Custo =  222563.6307328451\n"
          ]
        },
        {
          "output_type": "stream",
          "name": "stderr",
          "text": [
            "pyswarms.single.global_best:   0%|          |0/1, best_cost=1.09e+5"
          ]
        },
        {
          "output_type": "stream",
          "name": "stdout",
          "text": [
            "\n",
            "=========================================================================\n",
            "\n",
            "Número de ciclos de manutenção: 15 2\n",
            "Tempos para manutenções preventivas: [0, 17, 59, 63, 138, 171, 209, 232, 246, 300, 418, 472, 494, 534, 581, 640]\n",
            "Severidade para cada subsistema: [0.5, 0.25, 0.5, 0.5, 0.75, 0.5, 0.5, 0.75, 0.25, 0.5, 0.5, 0.75, 0.5, 0.75, 0.75]\n",
            "Número de Sisemas: 2\n",
            "Fator:  [0.4796409625107464, 0.27864084015710067, 0.15067134756744527, 0.27864084015710067, 0.27864084015710067, 0.3873289968507504, 0.27864084015710067, 0.27864084015710067, 0.3873289968507504, 0.15067134756744527, 0.27864084015710067, 0.27864084015710067, 0.3873289968507504, 0.27864084015710067, 0.3873289968507504, 0.3873289968507504]\n",
            "Media de falhas:  [0, 1.907371778552721e-05, 0.00460467055968852, 0.005673401421118295, 0.4745438331500752, 0.8965815263341432, 1.992768752866058, 2.592339799881828, 3.4734130324772465, 10.107184339991889, 41.302643468245535, 120.41210001909198, 143.31533957400987, 198.27233735712431, 247.08996351320425, 411.3498064570285, 639.9895270660568]\n",
            "Custo =  165733.2146495921\n"
          ]
        },
        {
          "output_type": "stream",
          "name": "stderr",
          "text": [
            "\rpyswarms.single.global_best: 100%|██████████|1/1, best_cost=1.09e+5\n",
            "2023-10-22 00:26:47,372 - pyswarms.single.global_best - INFO - Optimization finished | best cost: 109151.90170863555, best pos: [3.54950787 1.92720135 3.11590762 0.38491712 3.69499293 5.70128663\n",
            " 3.98733956 6.71961711 5.19895378 2.60694117 4.73622302 2.92816328\n",
            " 4.77301342 2.61271691 0.58168979 3.75777507 5.46023966 3.8153379\n",
            " 6.53459091 5.38974322 2.06510193 5.3392343  6.53282567 0.78952916]\n",
            "2023-10-22 00:26:47,376 - pyswarms.single.global_best - INFO - Optimize for 1 iters with {'c1': 0.5, 'c2': 0.3, 'w': 0.9}\n",
            "pyswarms.single.global_best:   0%|          |0/1, best_cost=1.09e+5"
          ]
        },
        {
          "output_type": "stream",
          "name": "stdout",
          "text": [
            "\n",
            "=========================================================================\n",
            "\n",
            "Número de ciclos de manutenção: 13 2\n",
            "Tempos para manutenções preventivas: [0, 17, 58, 63, 140, 171, 209, 246, 427, 472, 494, 534, 581, 641]\n",
            "Severidade para cada subsistema: [0.5, 0.25, 0.5, 0.5, 0.75, 0.5, 0.75, 0.75, 0.5, 0.75, 0.5, 0.75, 0.75]\n",
            "Número de Sisemas: 2\n",
            "Fator:  [0.4796409625107464, 0.27864084015710067, 0.15067134756744527, 0.27864084015710067, 0.27864084015710067, 0.3873289968507504, 0.27864084015710067, 0.3873289968507504, 0.3873289968507504, 0.27864084015710067, 0.3873289968507504, 0.27864084015710067, 0.3873289968507504, 0.3873289968507504]\n",
            "Media de falhas:  [0, 1.907371778552721e-05, 0.004170720327186339, 0.005483305518372752, 0.5125013317648678, 0.9130967454969, 2.0092839720288147, 3.203907700087683, 81.33326483756032, 101.52708710826668, 113.71271391649542, 168.66971169960988, 217.48733785568982, 385.32401243195005, 611.5500833938274]\n",
            "Custo =  142349.18177980726\n"
          ]
        },
        {
          "output_type": "stream",
          "name": "stderr",
          "text": [
            "\rpyswarms.single.global_best: 100%|██████████|1/1, best_cost=1.09e+5\n",
            "2023-10-22 00:26:47,391 - pyswarms.single.global_best - INFO - Optimization finished | best cost: 109151.90170863555, best pos: [3.54949542 1.9272145  3.11590767 0.38501625 3.70146328 5.70102732\n",
            " 3.98744269 6.71961565 5.19885272 2.60693627 1.19649202 2.92816093\n",
            " 4.77301458 6.00286249 0.58171728 3.75770653 5.46022565 3.81533282\n",
            " 6.53457984 5.38969513 2.06508594 5.33922918 6.53279635 0.78952475]\n",
            "2023-10-22 00:26:47,392 - pyswarms.single.global_best - INFO - Optimize for 1 iters with {'c1': 0.5, 'c2': 0.3, 'w': 0.9}\n",
            "pyswarms.single.global_best:   0%|          |0/1, best_cost=1.09e+5"
          ]
        },
        {
          "output_type": "stream",
          "name": "stdout",
          "text": [
            "\n",
            "=========================================================================\n",
            "\n",
            "Número de ciclos de manutenção: 14 2\n",
            "Tempos para manutenções preventivas: [0, 16, 56, 63, 141, 171, 209, 239, 245, 425, 472, 494, 535, 582, 642]\n",
            "Severidade para cada subsistema: [0.5, 0.25, 0.5, 0.5, 0.75, 0.5, 0.25, 0.75, 0.25, 0.5, 0.75, 0.5, 0.75, 0.75]\n",
            "Número de Sisemas: 2\n",
            "Fator:  [0.4796409625107464, 0.27864084015710067, 0.15067134756744527, 0.27864084015710067, 0.27864084015710067, 0.3873289968507504, 0.27864084015710067, 0.15067134756744527, 0.3873289968507504, 0.15067134756744527, 0.27864084015710067, 0.3873289968507504, 0.27864084015710067, 0.3873289968507504, 0.3873289968507504]\n",
            "Media de falhas:  [0, 1.4082533509826091e-05, 0.003569670292021772, 0.005346101661804405, 0.5323362277674503, 0.9220668815993197, 2.0182541081312344, 2.8890464618912444, 3.274813164246445, 117.78989699881173, 138.83852508385272, 182.03406072487235, 238.68050853580667, 287.8390269504118, 456.75294538724904, 680.5637437382428]\n",
            "Custo =  169462.75646091194\n"
          ]
        },
        {
          "output_type": "stream",
          "name": "stderr",
          "text": [
            "\rpyswarms.single.global_best: 100%|██████████|1/1, best_cost=1.09e+5\n",
            "2023-10-22 00:26:47,422 - pyswarms.single.global_best - INFO - Optimization finished | best cost: 109151.90170863555, best pos: [3.54947207 1.92723417 3.11590774 0.38510206 3.70560343 5.70074617\n",
            " 3.98756025 6.71961434 5.19884731 2.60693121 4.89410809 2.92815845\n",
            " 4.77298673 2.37666237 0.58174372 3.75764493 5.46025867 3.81532731\n",
            " 6.5345178  5.38965258 2.06507614 5.33923958 6.53283138 0.78952422]\n",
            "2023-10-22 00:26:47,429 - pyswarms.single.global_best - INFO - Optimize for 1 iters with {'c1': 0.5, 'c2': 0.3, 'w': 0.9}\n",
            "pyswarms.single.global_best: 100%|██████████|1/1, best_cost=1.09e+5\n",
            "2023-10-22 00:26:47,459 - pyswarms.single.global_best - INFO - Optimization finished | best cost: 109151.90170863555, best pos: [3.54941527 1.92725326 3.11590781 0.38508444 3.70908807 5.70049617\n",
            " 3.98768125 6.71961346 5.19897125 2.6069244  1.47251563 2.92815589\n",
            " 4.77293756 5.95230344 0.58176362 3.75761429 5.46032796 3.81532219\n",
            " 6.53443008 5.38961792 2.06507363 5.33925404 6.53287919 0.78953185]\n",
            "2023-10-22 00:26:47,461 - pyswarms.single.global_best - INFO - Optimize for 1 iters with {'c1': 0.5, 'c2': 0.3, 'w': 0.9}\n"
          ]
        },
        {
          "output_type": "stream",
          "name": "stdout",
          "text": [
            "\n",
            "=========================================================================\n",
            "\n",
            "Número de ciclos de manutenção: 14 2\n",
            "Tempos para manutenções preventivas: [0, 15, 56, 63, 142, 171, 209, 245, 329, 473, 494, 535, 564, 582, 642]\n",
            "Severidade para cada subsistema: [0.5, 0.25, 0.5, 0.5, 0.75, 0.5, 0.75, 0.5, 0.5, 0.75, 0.5, 0.25, 0.75, 0.75]\n",
            "Número de Sisemas: 2\n",
            "Fator:  [0.4796409625107464, 0.27864084015710067, 0.15067134756744527, 0.27864084015710067, 0.27864084015710067, 0.3873289968507504, 0.27864084015710067, 0.3873289968507504, 0.27864084015710067, 0.27864084015710067, 0.3873289968507504, 0.27864084015710067, 0.15067134756744527, 0.3873289968507504, 0.3873289968507504]\n",
            "Media de falhas:  [0, 1.0195774388402635e-05, 0.0037460989875336185, 0.005522530357316252, 0.5531022174218462, 0.9318677816027958, 2.028055008134711, 3.1729259067135396, 17.20660528362356, 79.72831819849202, 101.6418191451842, 158.28826695611852, 185.4803900958181, 222.1857572743553, 533.4151307955216, 757.2259291465153]\n",
            "Custo =  210826.19512401952\n"
          ]
        },
        {
          "output_type": "stream",
          "name": "stderr",
          "text": [
            "pyswarms.single.global_best: 100%|██████████|1/1, best_cost=1.09e+5\n",
            "2023-10-22 00:26:47,494 - pyswarms.single.global_best - INFO - Optimization finished | best cost: 109151.90170863555, best pos: [3.54934359 1.92726969 3.11590787 0.38461176 3.71180018 5.700272\n",
            " 3.98778831 6.71961324 5.19918445 2.60691613 5.98340888 2.92815366\n",
            " 4.77287974 1.77919608 0.58177171 3.75762081 5.46044627 3.81531736\n",
            " 6.53434686 5.38961171 2.06507757 5.33926779 6.53292425 0.78957075]\n",
            "2023-10-22 00:26:47,496 - pyswarms.single.global_best - INFO - Optimize for 1 iters with {'c1': 0.5, 'c2': 0.3, 'w': 0.9}\n"
          ]
        },
        {
          "output_type": "stream",
          "name": "stdout",
          "text": [
            "\n",
            "=========================================================================\n",
            "\n",
            "Número de ciclos de manutenção: 16 2\n",
            "Tempos para manutenções preventivas: [0, 15, 55, 63, 105, 143, 171, 209, 245, 300, 425, 473, 494, 536, 554, 582, 642]\n",
            "Severidade para cada subsistema: [0.5, 0.25, 0.5, 0.75, 0.5, 0.75, 0.5, 0.75, 0.25, 0.25, 0.5, 0.75, 0.5, 0.5, 0.75, 0.75]\n",
            "Número de Sisemas: 2\n",
            "Fator:  [0.4796409625107464, 0.27864084015710067, 0.15067134756744527, 0.27864084015710067, 0.3873289968507504, 0.27864084015710067, 0.3873289968507504, 0.27864084015710067, 0.3873289968507504, 0.15067134756744527, 0.15067134756744527, 0.27864084015710067, 0.3873289968507504, 0.27864084015710067, 0.27864084015710067, 0.3873289968507504, 0.3873289968507504]\n",
            "Media de falhas:  [0, 1.0195774388402635e-05, 0.0033784011325789873, 0.005375932665723211, 0.10698084901524187, 0.3310653129620199, 0.5409364598930324, 1.6371236864249472, 2.781994585003776, 9.518407879708736, 44.852758023543814, 117.20870120957579, 158.57566741029152, 216.92867615444754, 232.82757584210694, 288.79332562816774, 457.70724406500506, 681.5180424159988]\n",
            "Custo =  207701.7928677\n"
          ]
        },
        {
          "output_type": "stream",
          "name": "stderr",
          "text": [
            "pyswarms.single.global_best: 100%|██████████|1/1, best_cost=1.09e+5\n",
            "2023-10-22 00:26:47,525 - pyswarms.single.global_best - INFO - Optimization finished | best cost: 109151.90170863555, best pos: [3.54927947 1.92728406 3.11590791 0.38406904 3.71109733 5.70012172\n",
            " 3.987867   6.71961344 5.19943065 2.60690858 3.04200087 2.92815248\n",
            " 4.77282666 4.81093685 0.58177522 3.75763865 5.46056431 3.81531416\n",
            " 6.53423748 5.38963326 2.06508467 5.33929043 6.53297048 0.78965059]\n"
          ]
        },
        {
          "output_type": "stream",
          "name": "stdout",
          "text": [
            "\n",
            "=========================================================================\n",
            "\n",
            "Número de ciclos de manutenção: 15 2\n",
            "Tempos para manutenções preventivas: [0, 15, 55, 63, 144, 171, 209, 245, 320, 423, 473, 493, 536, 544, 581, 642]\n",
            "Severidade para cada subsistema: [0.5, 0.25, 0.5, 0.5, 0.75, 0.5, 0.75, 0.75, 0.75, 0.5, 0.75, 0.5, 0.75, 0.75, 0.75]\n",
            "Número de Sisemas: 2\n",
            "Fator:  [0.4796409625107464, 0.27864084015710067, 0.15067134756744527, 0.27864084015710067, 0.27864084015710067, 0.3873289968507504, 0.27864084015710067, 0.3873289968507504, 0.3873289968507504, 0.3873289968507504, 0.27864084015710067, 0.3873289968507504, 0.27864084015710067, 0.3873289968507504, 0.3873289968507504, 0.3873289968507504]\n",
            "Media de falhas:  [0, 1.0195774388402635e-05, 0.0033784011325789873, 0.005375932665723211, 0.5960441927969317, 0.9525645774916607, 2.0487518040235755, 3.193622702602404, 14.587991010015566, 43.176187442374925, 65.69474183840475, 76.71038624466142, 136.33073402640693, 142.97929266210957, 215.13740424823473, 308.9656232008816, 532.7764215518754]\n",
            "Custo =  151376.9465429766\n"
          ]
        },
        {
          "output_type": "stream",
          "name": "stderr",
          "text": [
            "2023-10-22 00:26:47,533 - pyswarms.single.global_best - INFO - Optimize for 1 iters with {'c1': 0.5, 'c2': 0.3, 'w': 0.9}\n",
            "pyswarms.single.global_best: 100%|██████████|1/1, best_cost=1.09e+5"
          ]
        },
        {
          "output_type": "stream",
          "name": "stdout",
          "text": [
            "\n",
            "=========================================================================\n",
            "\n",
            "Número de ciclos de manutenção: 13 2\n",
            "Tempos para manutenções preventivas: [0, 15, 55, 63, 144, 171, 209, 221, 245, 473, 493, 535, 581, 641]\n",
            "Severidade para cada subsistema: [0.5, 0.25, 0.5, 0.5, 0.75, 0.5, 0.75, 0.75, 0.5, 0.75, 0.5, 0.75, 0.75]\n",
            "Número de Sisemas: 2\n",
            "Fator:  [0.4796409625107464, 0.27864084015710067, 0.15067134756744527, 0.27864084015710067, 0.27864084015710067, 0.3873289968507504, 0.27864084015710067, 0.3873289968507504, 0.3873289968507504, 0.27864084015710067, 0.3873289968507504, 0.27864084015710067, 0.3873289968507504, 0.3873289968507504]\n",
            "Media de falhas:  [0, 1.0195774388402635e-05, 0.0033784011325789873, 0.005375932665723211, 0.5960441927969317, 0.9525645774916607, 2.0487518040235755, 2.3125259658804502, 3.732956658218039, 107.86484920313103, 118.8804936093877, 176.78948958520755, 224.61169128406976, 392.44836586033, 618.6744368222074]\n",
            "Custo =  137662.5551951674\n"
          ]
        },
        {
          "output_type": "stream",
          "name": "stderr",
          "text": [
            "\n",
            "2023-10-22 00:26:47,557 - pyswarms.single.global_best - INFO - Optimization finished | best cost: 109151.90170863555, best pos: [3.54922615 1.92728615 3.11590795 0.383405   3.7078416  5.69999357\n",
            " 3.98789407 6.71961371 5.19964575 2.60690319 0.060528   2.9281517\n",
            " 4.7727812  0.34888023 0.58177443 3.75766956 5.46068394 3.81531236\n",
            " 6.53413638 5.38965418 2.06509313 5.33931874 6.53302162 0.78973918]\n",
            "2023-10-22 00:26:47,561 - pyswarms.single.global_best - INFO - Optimize for 1 iters with {'c1': 0.5, 'c2': 0.3, 'w': 0.9}\n",
            "pyswarms.single.global_best:   0%|          |0/1, best_cost=1.09e+5"
          ]
        },
        {
          "output_type": "stream",
          "name": "stdout",
          "text": [
            "\n",
            "=========================================================================\n",
            "\n",
            "Número de ciclos de manutenção: 12 2\n",
            "Tempos para manutenções preventivas: [0, 15, 55, 63, 144, 171, 209, 245, 473, 493, 534, 581, 641]\n",
            "Severidade para cada subsistema: [0.5, 0.25, 0.5, 0.5, 0.75, 0.5, 0.75, 0.5, 0.75, 0.5, 0.75, 0.75]\n",
            "Número de Sisemas: 2\n",
            "Fator:  [0.4796409625107464, 0.27864084015710067, 0.15067134756744527, 0.27864084015710067, 0.27864084015710067, 0.3873289968507504, 0.27864084015710067, 0.3873289968507504, 0.27864084015710067, 0.3873289968507504, 0.27864084015710067, 0.3873289968507504, 0.3873289968507504]\n",
            "Media de falhas:  [0, 1.0195774388402635e-05, 0.0033784011325789873, 0.005375932665723211, 0.5960441927969317, 0.9525645774916607, 2.0487518040235755, 3.193622702602404, 148.69011417911028, 159.70575858536694, 215.92054973282097, 264.7381758889009, 432.57485046516115, 658.8009214270386]\n",
            "Custo =  138344.05881750662\n"
          ]
        },
        {
          "output_type": "stream",
          "name": "stderr",
          "text": [
            "\rpyswarms.single.global_best: 100%|██████████|1/1, best_cost=1.09e+5\n",
            "2023-10-22 00:26:47,598 - pyswarms.single.global_best - INFO - Optimization finished | best cost: 109151.90170863555, best pos: [3.54921202 1.92727876 3.11590797 0.38280779 3.70363801 5.69989128\n",
            " 3.98790767 6.71961403 5.19979809 2.60689888 5.29495632 2.92815213\n",
            " 4.77274799 3.34786403 0.58176184 3.75770728 5.46078994 3.81531102\n",
            " 6.53405811 5.38967993 2.06510261 5.33934409 6.53306745 0.78981669]\n",
            "2023-10-22 00:26:47,600 - pyswarms.single.global_best - INFO - Optimize for 1 iters with {'c1': 0.5, 'c2': 0.3, 'w': 0.9}\n",
            "pyswarms.single.global_best: 100%|██████████|1/1, best_cost=1.09e+5\n",
            "2023-10-22 00:26:47,634 - pyswarms.single.global_best - INFO - Optimization finished | best cost: 109151.90170863555, best pos: [3.54920811 1.92727168 3.11590795 0.38227293 3.69634844 5.69983452\n",
            " 3.98789805 6.71961452 5.19981967 2.60689743 3.1857391  2.92815285\n",
            " 4.77272998 5.99303385 0.58174148 3.75774324 5.46086764 3.81531256\n",
            " 6.53400599 5.38970509 2.06511118 5.33936638 6.53310643 0.78986289]\n",
            "2023-10-22 00:26:47,640 - pyswarms.single.global_best - INFO - Optimize for 1 iters with {'c1': 0.5, 'c2': 0.3, 'w': 0.9}\n"
          ]
        },
        {
          "output_type": "stream",
          "name": "stdout",
          "text": [
            "\n",
            "=========================================================================\n",
            "\n",
            "Número de ciclos de manutenção: 14 2\n",
            "Tempos para manutenções preventivas: [0, 15, 56, 63, 143, 171, 209, 245, 329, 438, 473, 493, 533, 581, 640]\n",
            "Severidade para cada subsistema: [0.5, 0.25, 0.5, 0.5, 0.75, 0.5, 0.75, 0.75, 0.5, 0.5, 0.75, 0.5, 0.75, 0.75]\n",
            "Número de Sisemas: 2\n",
            "Fator:  [0.4796409625107464, 0.27864084015710067, 0.15067134756744527, 0.27864084015710067, 0.27864084015710067, 0.3873289968507504, 0.27864084015710067, 0.3873289968507504, 0.3873289968507504, 0.27864084015710067, 0.27864084015710067, 0.3873289968507504, 0.27864084015710067, 0.3873289968507504, 0.3873289968507504]\n",
            "Media de falhas:  [0, 1.0195774388402635e-05, 0.0037460989875336185, 0.005522530357316252, 0.5743234522929026, 0.9420201053377422, 2.038207331869657, 3.1830782304484857, 17.216757607358506, 51.987000501084395, 68.00138506825101, 88.74948961676913, 143.2870936911326, 193.0987049058849, 357.3585478497091, 585.9982684587375]\n",
            "Custo =  150203.7793127736\n"
          ]
        },
        {
          "output_type": "stream",
          "name": "stderr",
          "text": [
            "pyswarms.single.global_best: 100%|██████████|1/1, best_cost=1.09e+5\n",
            "2023-10-22 00:26:47,663 - pyswarms.single.global_best - INFO - Optimization finished | best cost: 109151.90170863555, best pos: [3.5492214  1.92726319 3.1159079  0.38179246 3.6886144  5.70000069\n",
            " 3.987832   6.71961516 5.19973452 2.60689729 0.86468699 2.92815463\n",
            " 4.7727147  0.55983641 0.58171947 3.75777235 5.46091653 3.81531539\n",
            " 6.53401451 5.38972694 2.06511681 5.33937586 6.53312588 0.78990394]\n",
            "2023-10-22 00:26:47,665 - pyswarms.single.global_best - INFO - Optimize for 1 iters with {'c1': 0.5, 'c2': 0.3, 'w': 0.9}\n"
          ]
        },
        {
          "output_type": "stream",
          "name": "stdout",
          "text": [
            "\n",
            "=========================================================================\n",
            "\n",
            "Número de ciclos de manutenção: 16 2\n",
            "Tempos para manutenções preventivas: [0, 15, 57, 63, 98, 142, 171, 209, 245, 327, 422, 472, 493, 533, 553, 581, 639]\n",
            "Severidade para cada subsistema: [0.5, 0.25, 0.5, 0.25, 0.5, 0.75, 0.5, 0.75, 0.5, 0.25, 0.5, 0.75, 0.5, 0.75, 0.75, 0.75]\n",
            "Número de Sisemas: 2\n",
            "Fator:  [0.4796409625107464, 0.27864084015710067, 0.15067134756744527, 0.27864084015710067, 0.15067134756744527, 0.27864084015710067, 0.3873289968507504, 0.27864084015710067, 0.3873289968507504, 0.27864084015710067, 0.15067134756744527, 0.27864084015710067, 0.3873289968507504, 0.27864084015710067, 0.3873289968507504, 0.3873289968507504, 0.3873289968507504]\n",
            "Media de falhas:  [0, 1.0195774388402635e-05, 0.004145233893188668, 0.0056935315933773255, 0.07323909164474052, 0.31812351941327144, 0.9884485343841275, 2.084635760916042, 3.229506659494871, 16.644293329407276, 42.81294495555653, 83.3469666191829, 124.3739362942921, 178.9115403686556, 196.4079450421293, 251.98434758415257, 339.7231951380074, 570.7749825119431]\n",
            "Custo =  177718.75588722876\n"
          ]
        },
        {
          "output_type": "stream",
          "name": "stderr",
          "text": [
            "pyswarms.single.global_best: 100%|██████████|1/1, best_cost=1.09e+5\n",
            "2023-10-22 00:26:47,687 - pyswarms.single.global_best - INFO - Optimization finished | best cost: 109151.90170863555, best pos: [3.54926908 1.92725257 3.11590785 0.3816954  3.68181217 5.70024623\n",
            " 3.98777179 6.71961578 5.19957149 2.60689908 6.29235196 2.92815628\n",
            " 4.77271811 2.72699022 0.58170077 3.75778905 5.46092697 3.81531856\n",
            " 6.53406123 5.38974458 2.06511997 5.33937346 6.53313415 0.78990721]\n",
            "2023-10-22 00:26:47,693 - pyswarms.single.global_best - INFO - Optimize for 1 iters with {'c1': 0.5, 'c2': 0.3, 'w': 0.9}\n"
          ]
        },
        {
          "output_type": "stream",
          "name": "stdout",
          "text": [
            "\n",
            "=========================================================================\n",
            "\n",
            "Número de ciclos de manutenção: 17 2\n",
            "Tempos para manutenções preventivas: [0, 16, 58, 63, 92, 140, 171, 209, 236, 246, 315, 397, 443, 472, 493, 532, 581, 638]\n",
            "Severidade para cada subsistema: [0.5, 0.25, 0.5, 0.5, 0.5, 0.75, 0.5, 0.75, 0.75, 0.25, 0.25, 0.75, 0.5, 0.75, 0.5, 0.75, 0.75]\n",
            "Número de Sisemas: 2\n",
            "Fator:  [0.4796409625107464, 0.27864084015710067, 0.15067134756744527, 0.27864084015710067, 0.27864084015710067, 0.27864084015710067, 0.3873289968507504, 0.27864084015710067, 0.3873289968507504, 0.3873289968507504, 0.15067134756744527, 0.15067134756744527, 0.3873289968507504, 0.27864084015710067, 0.3873289968507504, 0.27864084015710067, 0.3873289968507504, 0.3873289968507504]\n",
            "Media de falhas:  [0, 1.4082533509826091e-05, 0.0043697547228536806, 0.005682339914040093, 0.051466173737544973, 0.29899204133095814, 0.6995874550629904, 1.7957746815949052, 2.5442912663524657, 3.1855004176716113, 9.083819560385365, 26.821948098485823, 79.9650488175911, 126.14006614993812, 137.69175319078067, 190.56905937635725, 241.37324303730756, 398.56872832062936, 632.0310395858319]\n",
            "Custo =  176591.0501827345\n"
          ]
        },
        {
          "output_type": "stream",
          "name": "stderr",
          "text": [
            "pyswarms.single.global_best: 100%|██████████|1/1, best_cost=1.09e+5\n",
            "2023-10-22 00:26:47,714 - pyswarms.single.global_best - INFO - Optimization finished | best cost: 109151.90170863555, best pos: [3.54931789 1.92724115 3.1159078  0.3818585  3.67728399 5.70048597\n",
            " 3.98769259 6.71961633 5.19940973 2.60690431 4.10403806 2.92815778\n",
            " 4.77272484 4.99566853 0.58168581 3.75779304 5.46091556 3.81532224\n",
            " 6.53410367 5.38975633 2.06512145 5.33935638 6.53312003 0.7899037 ]\n",
            "2023-10-22 00:26:47,719 - pyswarms.single.global_best - INFO - Optimize for 1 iters with {'c1': 0.5, 'c2': 0.3, 'w': 0.9}\n"
          ]
        },
        {
          "output_type": "stream",
          "name": "stdout",
          "text": [
            "\n",
            "=========================================================================\n",
            "\n",
            "Número de ciclos de manutenção: 16 2\n",
            "Tempos para manutenções preventivas: [0, 16, 59, 63, 139, 171, 209, 227, 246, 329, 411, 429, 472, 493, 532, 581, 638]\n",
            "Severidade para cada subsistema: [0.5, 0.25, 0.5, 0.5, 0.75, 0.5, 0.5, 0.75, 0.75, 0.5, 0.5, 0.5, 0.75, 0.5, 0.75, 0.75]\n",
            "Número de Sisemas: 2\n",
            "Fator:  [0.4796409625107464, 0.27864084015710067, 0.15067134756744527, 0.27864084015710067, 0.27864084015710067, 0.3873289968507504, 0.27864084015710067, 0.27864084015710067, 0.3873289968507504, 0.3873289968507504, 0.27864084015710067, 0.27864084015710067, 0.27864084015710067, 0.3873289968507504, 0.27864084015710067, 0.3873289968507504, 0.3873289968507504]\n",
            "Media de falhas:  [0, 1.4082533509826091e-05, 0.004820495690721991, 0.005889226552151766, 0.493538616185327, 0.9049019081298455, 2.0010891346617603, 2.435411502958381, 3.604299678961538, 17.502441785985468, 37.908073485910364, 43.584328305904705, 78.99631831211535, 100.73056247618771, 153.6078686617643, 204.4120523227146, 361.60753760603643, 595.069848871239]\n",
            "Custo =  160637.490512183\n"
          ]
        },
        {
          "output_type": "stream",
          "name": "stderr",
          "text": [
            "pyswarms.single.global_best: 100%|██████████|1/1, best_cost=1.09e+5\n",
            "2023-10-22 00:26:47,750 - pyswarms.single.global_best - INFO - Optimization finished | best cost: 109151.90170863555, best pos: [3.54936464 1.92723111 3.11590776 0.38224588 3.67511186 5.70070907\n",
            " 3.98762059 6.7196168  5.19926359 2.60691011 1.7854003  2.92815897\n",
            " 4.77275559 0.16913825 0.58167742 3.75779037 5.46086996 3.81532534\n",
            " 6.53415137 5.3897565  2.0651188  5.33933276 6.53308209 0.78988545]\n",
            "2023-10-22 00:26:47,752 - pyswarms.single.global_best - INFO - Optimize for 1 iters with {'c1': 0.5, 'c2': 0.3, 'w': 0.9}\n"
          ]
        },
        {
          "output_type": "stream",
          "name": "stdout",
          "text": [
            "\n",
            "=========================================================================\n",
            "\n",
            "Número de ciclos de manutenção: 15 2\n",
            "Tempos para manutenções preventivas: [0, 17, 59, 63, 110, 138, 171, 209, 215, 246, 418, 472, 493, 532, 581, 637]\n",
            "Severidade para cada subsistema: [0.5, 0.25, 0.5, 0.75, 0.5, 0.75, 0.5, 0.25, 0.75, 0.75, 0.5, 0.75, 0.5, 0.75, 0.75]\n",
            "Número de Sisemas: 2\n",
            "Fator:  [0.4796409625107464, 0.27864084015710067, 0.15067134756744527, 0.27864084015710067, 0.3873289968507504, 0.27864084015710067, 0.3873289968507504, 0.27864084015710067, 0.15067134756744527, 0.3873289968507504, 0.3873289968507504, 0.27864084015710067, 0.3873289968507504, 0.27864084015710067, 0.3873289968507504, 0.3873289968507504]\n",
            "Media de falhas:  [0, 1.907371778552721e-05, 0.00460467055968852, 0.005673401421118295, 0.13855890199035467, 0.28901625796219177, 0.5345231228359841, 1.630710349367899, 1.7508140397592828, 3.5623038195513375, 107.32130180566392, 131.34321238104766, 142.89489942189022, 195.7722056074668, 246.5763892684171, 400.28397521240737, 636.1553074311087]\n",
            "Custo =  145204.10240011523\n"
          ]
        },
        {
          "output_type": "stream",
          "name": "stderr",
          "text": [
            "pyswarms.single.global_best:   0%|          |0/1, best_cost=1.09e+5"
          ]
        },
        {
          "output_type": "stream",
          "name": "stdout",
          "text": [
            "\n",
            "=========================================================================\n",
            "\n",
            "Número de ciclos de manutenção: 15 2\n",
            "Tempos para manutenções preventivas: [0, 17, 59, 63, 138, 171, 209, 233, 246, 397, 426, 472, 493, 532, 581, 637]\n",
            "Severidade para cada subsistema: [0.5, 0.25, 0.5, 0.5, 0.75, 0.5, 0.75, 0.75, 0.25, 0.75, 0.5, 0.75, 0.5, 0.75, 0.75]\n",
            "Número de Sisemas: 2\n",
            "Fator:  [0.4796409625107464, 0.27864084015710067, 0.15067134756744527, 0.27864084015710067, 0.27864084015710067, 0.3873289968507504, 0.27864084015710067, 0.3873289968507504, 0.3873289968507504, 0.15067134756744527, 0.3873289968507504, 0.27864084015710067, 0.3873289968507504, 0.27864084015710067, 0.3873289968507504, 0.3873289968507504]\n",
            "Media de falhas:  [0, 1.907371778552721e-05, 0.00460467055968852, 0.005673401421118295, 0.4745438331500752, 0.8965815263341432, 1.992768752866058, 2.6281247733060344, 3.450060489413494, 36.389802256390595, 45.144851614359524, 114.3340295770235, 125.88571661786604, 178.7630228034426, 229.5672064643929, 383.2747924083832, 619.1461246270844]\n",
            "Custo =  160792.5799772531\n"
          ]
        },
        {
          "output_type": "stream",
          "name": "stderr",
          "text": [
            "\rpyswarms.single.global_best: 100%|██████████|1/1, best_cost=1.09e+5\n",
            "2023-10-22 00:26:47,766 - pyswarms.single.global_best - INFO - Optimization finished | best cost: 109151.90170863555, best pos: [3.54940262 1.92722365 3.11590772 0.3827752  3.67478849 5.70091764\n",
            " 3.98755935 6.71961696 5.19913801 2.60691671 6.63717395 2.92815959\n",
            " 4.7727877  2.89003554 0.58168218 3.75777485 5.46078371 3.81532753\n",
            " 6.53421604 5.38975632 2.06511629 5.33930745 6.53303098 0.78982315]\n",
            "2023-10-22 00:26:47,768 - pyswarms.single.global_best - INFO - Optimize for 1 iters with {'c1': 0.5, 'c2': 0.3, 'w': 0.9}\n",
            "pyswarms.single.global_best: 100%|██████████|1/1, best_cost=1.09e+5\n",
            "2023-10-22 00:26:47,795 - pyswarms.single.global_best - INFO - Optimization finished | best cost: 109151.90170863555, best pos: [3.54943101 1.92722245 3.1159077  0.38333669 3.67811767 5.70110226\n",
            " 3.98752164 6.71961684 5.19905565 2.60692263 3.86237413 2.92815981\n",
            " 4.77282712 5.68596927 0.58169619 3.75775785 5.46069097 3.81532894\n",
            " 6.53427654 5.38975321 2.06511216 5.33928476 6.53298013 0.7897416 ]\n",
            "2023-10-22 00:26:47,797 - pyswarms.single.global_best - INFO - Optimize for 1 iters with {'c1': 0.5, 'c2': 0.3, 'w': 0.9}\n"
          ]
        },
        {
          "output_type": "stream",
          "name": "stdout",
          "text": [
            "\n",
            "=========================================================================\n",
            "\n",
            "Número de ciclos de manutenção: 14 2\n",
            "Tempos para manutenções preventivas: [0, 17, 59, 63, 138, 171, 209, 215, 246, 419, 472, 493, 532, 581, 638]\n",
            "Severidade para cada subsistema: [0.5, 0.25, 0.5, 0.5, 0.75, 0.5, 0.5, 0.75, 0.5, 0.5, 0.75, 0.5, 0.75, 0.75]\n",
            "Número de Sisemas: 2\n",
            "Fator:  [0.4796409625107464, 0.27864084015710067, 0.15067134756744527, 0.27864084015710067, 0.27864084015710067, 0.3873289968507504, 0.27864084015710067, 0.27864084015710067, 0.3873289968507504, 0.27864084015710067, 0.27864084015710067, 0.3873289968507504, 0.27864084015710067, 0.3873289968507504, 0.3873289968507504]\n",
            "Media de falhas:  [0, 1.907371778552721e-05, 0.00460467055968852, 0.005673401421118295, 0.4745438331500752, 0.8965815263341432, 1.992768752866058, 2.1128724432574417, 3.9243622230494966, 73.45429146751636, 97.05307600243896, 118.78732016651131, 171.66462635208788, 222.4688100130382, 379.66429529636, 613.1266065615625]\n",
            "Custo =  149671.55278600781\n"
          ]
        },
        {
          "output_type": "stream",
          "name": "stderr",
          "text": [
            "pyswarms.single.global_best: 100%|██████████|1/1, best_cost=1.09e+5\n",
            "2023-10-22 00:26:47,825 - pyswarms.single.global_best - INFO - Optimization finished | best cost: 109151.90170863555, best pos: [3.54944019 1.92722513 3.11590769 0.38384775 3.68155002 5.70121248\n",
            " 3.98752159 6.71961658 5.19907665 2.60692784 1.11737227 2.92815928\n",
            " 4.77286431 1.54167788 0.58170895 3.75773901 5.46059833 3.81532972\n",
            " 6.5343187  5.38973828 2.06510665 5.33927389 6.53293631 0.78966574]\n",
            "2023-10-22 00:26:47,831 - pyswarms.single.global_best - INFO - Optimize for 1 iters with {'c1': 0.5, 'c2': 0.3, 'w': 0.9}\n"
          ]
        },
        {
          "output_type": "stream",
          "name": "stdout",
          "text": [
            "\n",
            "=========================================================================\n",
            "\n",
            "Número de ciclos de manutenção: 13 2\n",
            "Tempos para manutenções preventivas: [0, 17, 58, 63, 138, 171, 209, 246, 472, 494, 533, 557, 581, 639]\n",
            "Severidade para cada subsistema: [0.5, 0.25, 0.5, 0.5, 0.75, 0.5, 0.75, 0.5, 0.75, 0.5, 0.75, 0.75, 0.75]\n",
            "Número de Sisemas: 2\n",
            "Fator:  [0.4796409625107464, 0.27864084015710067, 0.15067134756744527, 0.27864084015710067, 0.27864084015710067, 0.3873289968507504, 0.27864084015710067, 0.3873289968507504, 0.27864084015710067, 0.3873289968507504, 0.27864084015710067, 0.3873289968507504, 0.3873289968507504, 0.3873289968507504]\n",
            "Media de falhas:  [0, 1.907371778552721e-05, 0.004170720327186339, 0.005483305518372752, 0.47435373724732965, 0.8963914304313978, 1.9925786569633126, 3.1872023850221805, 146.31309132973792, 158.49871813796665, 211.7832477580266, 233.29907985231256, 281.3166824161303, 369.0555299699851, 600.1073173439208]\n",
            "Custo =  147680.0845685547\n"
          ]
        },
        {
          "output_type": "stream",
          "name": "stderr",
          "text": [
            "pyswarms.single.global_best: 100%|██████████|1/1, best_cost=1.09e+5\n",
            "2023-10-22 00:26:47,859 - pyswarms.single.global_best - INFO - Optimization finished | best cost: 109151.90170863555, best pos: [3.54944691 1.92723251 3.1159077  0.38430443 3.68655722 5.70123607\n",
            " 3.98754312 6.71961627 5.19911341 2.60693147 5.33161117 2.92815858\n",
            " 4.77289768 4.59127726 0.58172539 3.75772122 5.46051517 3.81532837\n",
            " 6.53434395 5.3897223  2.06510082 5.33927723 6.53291302 0.78960085]\n",
            "2023-10-22 00:26:47,864 - pyswarms.single.global_best - INFO - Optimize for 1 iters with {'c1': 0.5, 'c2': 0.3, 'w': 0.9}\n"
          ]
        },
        {
          "output_type": "stream",
          "name": "stdout",
          "text": [
            "\n",
            "=========================================================================\n",
            "\n",
            "Número de ciclos de manutenção: 14 2\n",
            "Tempos para manutenções preventivas: [0, 18, 58, 63, 138, 171, 209, 246, 429, 472, 494, 534, 561, 581, 640]\n",
            "Severidade para cada subsistema: [0.5, 0.25, 0.5, 0.5, 0.75, 0.5, 0.75, 0.75, 0.5, 0.75, 0.5, 0.5, 0.75, 0.75]\n",
            "Número de Sisemas: 2\n",
            "Fator:  [0.4796409625107464, 0.27864084015710067, 0.15067134756744527, 0.27864084015710067, 0.27864084015710067, 0.3873289968507504, 0.27864084015710067, 0.3873289968507504, 0.3873289968507504, 0.27864084015710067, 0.3873289968507504, 0.27864084015710067, 0.27864084015710067, 0.3873289968507504, 0.3873289968507504]\n",
            "Media de falhas:  [0, 2.5389658248351453e-05, 0.003980664556574339, 0.005293249747760752, 0.47416368147671767, 0.8962013746607858, 1.9923886011927006, 3.1870123292515684, 83.58971029808468, 102.92611995886153, 115.11174676709027, 170.0687445502047, 194.9001611882539, 235.23782048251186, 399.4976634263361, 628.1373840353644]\n",
            "Custo =  171184.73963340884\n"
          ]
        },
        {
          "output_type": "stream",
          "name": "stderr",
          "text": [
            "pyswarms.single.global_best: 100%|██████████|1/1, best_cost=1.09e+5\n",
            "2023-10-22 00:26:47,896 - pyswarms.single.global_best - INFO - Optimization finished | best cost: 109151.90170863555, best pos: [3.54942479 1.92724163 3.11590773 0.38464677 3.69180103 5.70122673\n",
            " 3.98759    6.71961597 5.19921511 2.60693174 2.24855215 2.92815781\n",
            " 4.77292244 0.82691288 0.58174028 3.75770812 5.46047255 3.81532578\n",
            " 6.5343454  5.38970469 2.06509611 5.33928303 6.5329074  0.7895606 ]\n"
          ]
        },
        {
          "output_type": "stream",
          "name": "stdout",
          "text": [
            "\n",
            "=========================================================================\n",
            "\n",
            "Número de ciclos de manutenção: 15 2\n",
            "Tempos para manutenções preventivas: [0, 18, 57, 63, 138, 171, 209, 246, 317, 393, 472, 494, 535, 568, 581, 641]\n",
            "Severidade para cada subsistema: [0.5, 0.25, 0.5, 0.5, 0.75, 0.5, 0.75, 0.75, 0.75, 0.5, 0.75, 0.5, 0.25, 0.75, 0.75]\n",
            "Número de Sisemas: 2\n",
            "Fator:  [0.4796409625107464, 0.27864084015710067, 0.15067134756744527, 0.27864084015710067, 0.27864084015710067, 0.3873289968507504, 0.27864084015710067, 0.3873289968507504, 0.3873289968507504, 0.3873289968507504, 0.27864084015710067, 0.3873289968507504, 0.27864084015710067, 0.15067134756744527, 0.3873289968507504, 0.3873289968507504]\n",
            "Media de falhas:  [0, 2.5389658248351453e-05, 0.0035955665293096787, 0.005143864229498337, 0.4740142959584553, 0.8960519891425234, 1.9922392156744382, 3.1868629437333063, 13.66102338666354, 29.48878881547885, 63.97034796534143, 76.15597477357016, 132.80242258450448, 164.507328843606, 191.10331623597816, 500.3254036749264, 726.5514746368038]\n",
            "Custo =  206782.7722449907\n"
          ]
        },
        {
          "output_type": "stream",
          "name": "stderr",
          "text": [
            "2023-10-22 00:26:47,902 - pyswarms.single.global_best - INFO - Optimize for 1 iters with {'c1': 0.5, 'c2': 0.3, 'w': 0.9}\n",
            "pyswarms.single.global_best: 100%|██████████|1/1, best_cost=1.09e+5\n",
            "2023-10-22 00:26:47,929 - pyswarms.single.global_best - INFO - Optimization finished | best cost: 109151.90170863555, best pos: [3.5493895  1.92725002 3.11590777 0.38488687 3.69635074 5.70119292\n",
            " 3.98764506 6.71961564 5.19931577 2.6069307  6.83649417 2.92815709\n",
            " 4.7729396  4.42478907 0.58175156 3.75770184 5.46047733 3.815323\n",
            " 6.53433549 5.38968878 2.0650923  5.33928853 6.53291218 0.78953281]\n",
            "2023-10-22 00:26:47,934 - pyswarms.single.global_best - INFO - Optimize for 1 iters with {'c1': 0.5, 'c2': 0.3, 'w': 0.9}\n"
          ]
        },
        {
          "output_type": "stream",
          "name": "stdout",
          "text": [
            "\n",
            "=========================================================================\n",
            "\n",
            "Número de ciclos de manutenção: 13 2\n",
            "Tempos para manutenções preventivas: [0, 17, 56, 63, 139, 171, 209, 245, 311, 472, 494, 536, 581, 641]\n",
            "Severidade para cada subsistema: [0.5, 0.25, 0.5, 0.5, 0.75, 0.5, 0.75, 0.25, 0.5, 0.75, 0.5, 0.75, 0.75]\n",
            "Número de Sisemas: 2\n",
            "Fator:  [0.4796409625107464, 0.27864084015710067, 0.15067134756744527, 0.27864084015710067, 0.27864084015710067, 0.3873289968507504, 0.27864084015710067, 0.3873289968507504, 0.15067134756744527, 0.27864084015710067, 0.3873289968507504, 0.27864084015710067, 0.3873289968507504, 0.3873289968507504]\n",
            "Media de falhas:  [0, 1.907371778552721e-05, 0.0034013237051971237, 0.005177755074979758, 0.492827144708155, 0.9041904366526735, 2.0003776631845884, 3.145248561763417, 12.25227444133738, 81.88376034495127, 125.07929598597092, 183.43230473012693, 230.25761572534378, 398.094290301604, 624.3203612634815]\n",
            "Custo =  158770.1449191212\n"
          ]
        },
        {
          "output_type": "stream",
          "name": "stderr",
          "text": [
            "pyswarms.single.global_best: 100%|██████████|1/1, best_cost=1.09e+5\n",
            "2023-10-22 00:26:47,959 - pyswarms.single.global_best - INFO - Optimization finished | best cost: 109151.90170863555, best pos: [3.54935065 1.92725706 3.1159078  0.3846913  3.70041364 5.70106654\n",
            " 3.98769375 6.71961535 5.199408   2.6069264  3.79525309 2.92815647\n",
            " 4.77294266 0.54320336 0.58175832 3.75769983 5.46048233 3.81532012\n",
            " 6.53432214 5.38967674 2.06509176 5.33930148 6.53291927 0.78954527]\n"
          ]
        },
        {
          "output_type": "stream",
          "name": "stdout",
          "text": [
            "\n",
            "=========================================================================\n",
            "\n",
            "Número de ciclos de manutenção: 14 2\n",
            "Tempos para manutenções preventivas: [0, 16, 56, 63, 140, 171, 209, 245, 415, 444, 472, 494, 536, 581, 642]\n",
            "Severidade para cada subsistema: [0.5, 0.25, 0.5, 0.5, 0.75, 0.5, 0.75, 0.5, 0.5, 0.5, 0.75, 0.5, 0.75, 0.75]\n",
            "Número de Sisemas: 2\n",
            "Fator:  [0.4796409625107464, 0.27864084015710067, 0.15067134756744527, 0.27864084015710067, 0.27864084015710067, 0.3873289968507504, 0.27864084015710067, 0.3873289968507504, 0.27864084015710067, 0.27864084015710067, 0.27864084015710067, 0.3873289968507504, 0.27864084015710067, 0.3873289968507504, 0.3873289968507504]\n",
            "Media de falhas:  [0, 1.4082533509826091e-05, 0.003569670292021772, 0.005346101661804405, 0.5123641279082994, 0.9129595416403317, 2.0091467681722466, 3.1540176667510753, 68.99099265314175, 79.34003840328685, 103.22165266775995, 126.12489222267784, 184.47790096683386, 231.3032119620507, 402.7467368881538, 626.5575352391476]\n",
            "Custo =  160829.60180842417\n"
          ]
        },
        {
          "output_type": "stream",
          "name": "stderr",
          "text": [
            "2023-10-22 00:26:47,960 - pyswarms.single.global_best - INFO - Optimize for 1 iters with {'c1': 0.5, 'c2': 0.3, 'w': 0.9}\n",
            "pyswarms.single.global_best: 100%|██████████|1/1, best_cost=1.09e+5\n",
            "2023-10-22 00:26:47,985 - pyswarms.single.global_best - INFO - Optimization finished | best cost: 109151.90170863555, best pos: [3.54931493 1.92726329 3.11590783 0.38415675 3.70132615 5.7009524\n",
            " 3.98773728 6.71961517 5.19949094 2.60691965 0.360984   2.92815606\n",
            " 4.7729213  4.05217551 0.58175576 3.75770161 5.460515   3.81531785\n",
            " 6.5343058  5.3896725  2.06509428 5.33931545 6.53294216 0.78957326]\n",
            "2023-10-22 00:26:47,992 - pyswarms.single.global_best - INFO - Optimize for 1 iters with {'c1': 0.5, 'c2': 0.3, 'w': 0.9}\n"
          ]
        },
        {
          "output_type": "stream",
          "name": "stdout",
          "text": [
            "\n",
            "=========================================================================\n",
            "\n",
            "Número de ciclos de manutenção: 14 2\n",
            "Tempos para manutenções preventivas: [0, 16, 56, 63, 141, 171, 209, 226, 245, 472, 494, 536, 563, 581, 642]\n",
            "Severidade para cada subsistema: [0.5, 0.25, 0.5, 0.5, 0.75, 0.5, 0.5, 0.75, 0.5, 0.75, 0.5, 0.75, 0.75, 0.75]\n",
            "Número de Sisemas: 2\n",
            "Fator:  [0.4796409625107464, 0.27864084015710067, 0.15067134756744527, 0.27864084015710067, 0.27864084015710067, 0.3873289968507504, 0.27864084015710067, 0.27864084015710067, 0.3873289968507504, 0.27864084015710067, 0.3873289968507504, 0.27864084015710067, 0.3873289968507504, 0.3873289968507504, 0.3873289968507504]\n",
            "Media de falhas:  [0, 1.4082533509826091e-05, 0.003569670292021772, 0.005346101661804405, 0.5323362277674503, 0.9220668815993197, 2.0182541081312344, 2.4221359237287166, 3.5717153778142325, 147.2493691173945, 159.43499592562324, 217.78800466977927, 242.97842931974296, 279.4296256067619, 373.25784455940874, 597.0686429104026]\n",
            "Custo =  150630.97227183136\n"
          ]
        },
        {
          "output_type": "stream",
          "name": "stderr",
          "text": [
            "pyswarms.single.global_best:   0%|          |0/1, best_cost=1.09e+5"
          ]
        },
        {
          "output_type": "stream",
          "name": "stdout",
          "text": [
            "\n",
            "=========================================================================\n",
            "\n",
            "Número de ciclos de manutenção: 16 2\n",
            "Tempos para manutenções preventivas: [0, 15, 56, 63, 98, 142, 171, 209, 245, 302, 402, 445, 472, 494, 536, 581, 641]\n",
            "Severidade para cada subsistema: [0.5, 0.25, 0.5, 0.25, 0.5, 0.75, 0.5, 0.75, 0.5, 0.5, 0.5, 0.5, 0.75, 0.5, 0.75, 0.75]\n",
            "Número de Sisemas: 2\n",
            "Fator:  [0.4796409625107464, 0.27864084015710067, 0.15067134756744527, 0.27864084015710067, 0.15067134756744527, 0.27864084015710067, 0.3873289968507504, 0.27864084015710067, 0.3873289968507504, 0.27864084015710067, 0.27864084015710067, 0.27864084015710067, 0.27864084015710067, 0.3873289968507504, 0.27864084015710067, 0.3873289968507504, 0.3873289968507504]\n",
            "Media de falhas:  [0, 1.0195774388402635e-05, 0.0037460989875336185, 0.005522530357316252, 0.07306809040867945, 0.3179525181772104, 0.9882775331480664, 2.0844647596799812, 3.22933565825881, 10.364537758198901, 32.99203038133864, 60.798672736011525, 83.88271642208856, 106.78595597700645, 165.13896472116247, 211.96427571637932, 379.8009502926395, 606.027021254517]\n",
            "Custo =  164802.9942303279\n"
          ]
        },
        {
          "output_type": "stream",
          "name": "stderr",
          "text": [
            "\rpyswarms.single.global_best: 100%|██████████|1/1, best_cost=1.09e+5\n",
            "2023-10-22 00:26:48,017 - pyswarms.single.global_best - INFO - Optimization finished | best cost: 109151.90170863555, best pos: [3.54928524 1.92726588 3.11590785 0.38366422 3.70074803 5.70080324\n",
            " 3.98776578 6.71961509 5.19954254 2.60691272 4.6674088  2.92815603\n",
            " 4.77289407 0.17248986 0.58174511 3.75771057 5.46057681 3.81531665\n",
            " 6.53427873 5.38967663 2.06509709 5.33932814 6.53297133 0.78963319]\n",
            "2023-10-22 00:26:48,021 - pyswarms.single.global_best - INFO - Optimize for 1 iters with {'c1': 0.5, 'c2': 0.3, 'w': 0.9}\n",
            "pyswarms.single.global_best: 100%|██████████|1/1, best_cost=1.09e+5\n",
            "2023-10-22 00:26:48,041 - pyswarms.single.global_best - INFO - Optimization finished | best cost: 109151.90170863555, best pos: [3.5492625  1.92726235 3.11590786 0.3831749  3.69852639 5.70066653\n",
            " 3.98778532 6.71961517 5.19955259 2.60690722 1.85301523 2.92815629\n",
            " 4.7728648  3.69985024 0.58173385 3.75772029 5.46063272 3.81531637\n",
            " 6.53424073 5.38968559 2.06510118 5.33933902 6.53300752 0.78969061]\n",
            "2023-10-22 00:26:48,043 - pyswarms.single.global_best - INFO - Optimize for 1 iters with {'c1': 0.5, 'c2': 0.3, 'w': 0.9}\n"
          ]
        },
        {
          "output_type": "stream",
          "name": "stdout",
          "text": [
            "\n",
            "=========================================================================\n",
            "\n",
            "Número de ciclos de manutenção: 12 2\n",
            "Tempos para manutenções preventivas: [0, 15, 57, 63, 142, 171, 209, 245, 472, 493, 535, 581, 641]\n",
            "Severidade para cada subsistema: [0.5, 0.25, 0.5, 0.5, 0.75, 0.5, 0.75, 0.5, 0.75, 0.5, 0.75, 0.75]\n",
            "Número de Sisemas: 2\n",
            "Fator:  [0.4796409625107464, 0.27864084015710067, 0.15067134756744527, 0.27864084015710067, 0.27864084015710067, 0.3873289968507504, 0.27864084015710067, 0.3873289968507504, 0.27864084015710067, 0.3873289968507504, 0.27864084015710067, 0.3873289968507504, 0.3873289968507504]\n",
            "Media de falhas:  [0, 1.0195774388402635e-05, 0.004145233893188668, 0.0056935315933773255, 0.5532732186579074, 0.932038782838857, 2.028226009370772, 3.1730969079496005, 146.85075064752988, 158.40243768837243, 216.31143366419226, 264.13363536305445, 431.9703099393147, 658.1963809011921]\n",
            "Custo =  138487.40227199162\n"
          ]
        },
        {
          "output_type": "stream",
          "name": "stderr",
          "text": [
            "pyswarms.single.global_best: 100%|██████████|1/1, best_cost=1.09e+5\n",
            "2023-10-22 00:26:48,068 - pyswarms.single.global_best - INFO - Optimization finished | best cost: 109151.90170863555, best pos: [3.54925245 1.92725758 3.11590786 0.3827681  3.69615149 5.70056699\n",
            " 3.98778257 6.71961529 5.19953375 2.60690246 6.04277999 2.92815656\n",
            " 4.77283703 6.96280828 0.58172349 3.7577299  5.46068531 3.81531696\n",
            " 6.53420609 5.3896939  2.06510501 5.33934481 6.53304074 0.78974443]\n",
            "2023-10-22 00:26:48,071 - pyswarms.single.global_best - INFO - Optimize for 1 iters with {'c1': 0.5, 'c2': 0.3, 'w': 0.9}\n"
          ]
        },
        {
          "output_type": "stream",
          "name": "stdout",
          "text": [
            "\n",
            "=========================================================================\n",
            "\n",
            "Número de ciclos de manutenção: 15 2\n",
            "Tempos para manutenções preventivas: [0, 14, 57, 63, 143, 171, 209, 210, 245, 328, 472, 493, 534, 563, 581, 640]\n",
            "Severidade para cada subsistema: [0.5, 0.25, 0.5, 0.5, 0.75, 0.5, 0.25, 0.75, 0.25, 0.5, 0.75, 0.5, 0.25, 0.75, 0.75]\n",
            "Número de Sisemas: 2\n",
            "Fator:  [0.4796409625107464, 0.27864084015710067, 0.15067134756744527, 0.27864084015710067, 0.27864084015710067, 0.3873289968507504, 0.27864084015710067, 0.15067134756744527, 0.3873289968507504, 0.15067134756744527, 0.27864084015710067, 0.3873289968507504, 0.27864084015710067, 0.15067134756744527, 0.3873289968507504, 0.3873289968507504]\n",
            "Media de falhas:  [0, 7.219033700132119e-06, 0.0043455433758534156, 0.005893841076042073, 0.5746947630116285, 0.942391416056468, 2.0385786425883827, 2.057091227032149, 4.035877103247291, 27.148020339730685, 89.14535213469723, 130.17232180980642, 186.38711295726046, 213.3852110063662, 249.8364072933851, 552.6816071343244, 781.3213277433528]\n",
            "Custo =  227534.27798823523\n"
          ]
        },
        {
          "output_type": "stream",
          "name": "stderr",
          "text": [
            "pyswarms.single.global_best: 100%|██████████|1/1, best_cost=1.09e+5\n",
            "2023-10-22 00:26:48,101 - pyswarms.single.global_best - INFO - Optimization finished | best cost: 109151.90170863555, best pos: [3.54925798 1.92725261 3.11590785 0.38254161 3.69273564 5.70053017\n",
            " 3.98774834 6.71961549 5.19950922 2.60690189 2.80229244 2.92815685\n",
            " 4.77281643 2.27605542 0.58171418 3.75773868 5.4607259  3.81531828\n",
            " 6.53417783 5.38970305 2.065108   5.33934953 6.533062   0.78978925]\n",
            "2023-10-22 00:26:48,102 - pyswarms.single.global_best - INFO - Optimize for 1 iters with {'c1': 0.5, 'c2': 0.3, 'w': 0.9}\n"
          ]
        },
        {
          "output_type": "stream",
          "name": "stdout",
          "text": [
            "\n",
            "=========================================================================\n",
            "\n",
            "Número de ciclos de manutenção: 15 2\n",
            "Tempos para manutenções preventivas: [0, 14, 58, 63, 142, 171, 209, 226, 245, 416, 472, 493, 533, 555, 581, 640]\n",
            "Severidade para cada subsistema: [0.5, 0.25, 0.5, 0.5, 0.75, 0.5, 0.75, 0.75, 0.75, 0.5, 0.75, 0.5, 0.25, 0.75, 0.75]\n",
            "Número de Sisemas: 2\n",
            "Fator:  [0.4796409625107464, 0.27864084015710067, 0.15067134756744527, 0.27864084015710067, 0.27864084015710067, 0.3873289968507504, 0.27864084015710067, 0.3873289968507504, 0.3873289968507504, 0.3873289968507504, 0.27864084015710067, 0.3873289968507504, 0.27864084015710067, 0.15067134756744527, 0.3873289968507504, 0.3873289968507504]\n",
            "Media de falhas:  [0, 7.219033700132119e-06, 0.004794840305684697, 0.00610742549687111, 0.5536871125614011, 0.9324526767423509, 2.0286399032742657, 2.4325217188717483, 3.5821011729572643, 48.973599660931995, 73.84028654723706, 85.3919735880796, 139.92957766244308, 159.41260966384095, 211.22454399821396, 514.0697438391533, 742.7094644481816]\n",
            "Custo =  204364.4039236807\n"
          ]
        },
        {
          "output_type": "stream",
          "name": "stderr",
          "text": [
            "pyswarms.single.global_best: 100%|██████████|1/1, best_cost=1.09e+5\n",
            "2023-10-22 00:26:48,120 - pyswarms.single.global_best - INFO - Optimization finished | best cost: 109151.90170863555, best pos: [3.54926433 1.92724595 3.11590782 0.38248757 3.68926644 5.70053587\n",
            " 3.98769912 6.71961571 5.19946954 2.6069023  6.945487   2.92815723\n",
            " 4.77280186 4.65811988 0.58170745 3.7577451  5.46075408 3.81532009\n",
            " 6.5341609  5.38971104 2.06510955 5.33934998 6.53307335 0.78981661]\n",
            "2023-10-22 00:26:48,122 - pyswarms.single.global_best - INFO - Optimize for 1 iters with {'c1': 0.5, 'c2': 0.3, 'w': 0.9}\n"
          ]
        },
        {
          "output_type": "stream",
          "name": "stdout",
          "text": [
            "\n",
            "=========================================================================\n",
            "\n",
            "Número de ciclos de manutenção: 13 2\n",
            "Tempos para manutenções preventivas: [0, 14, 58, 63, 142, 171, 209, 245, 472, 493, 532, 553, 581, 639]\n",
            "Severidade para cada subsistema: [0.5, 0.25, 0.5, 0.5, 0.75, 0.5, 0.75, 0.5, 0.75, 0.5, 0.25, 0.75, 0.75]\n",
            "Número de Sisemas: 2\n",
            "Fator:  [0.4796409625107464, 0.27864084015710067, 0.15067134756744527, 0.27864084015710067, 0.27864084015710067, 0.3873289968507504, 0.27864084015710067, 0.3873289968507504, 0.27864084015710067, 0.3873289968507504, 0.27864084015710067, 0.15067134756744527, 0.3873289968507504, 0.3873289968507504]\n",
            "Media de falhas:  [0, 7.219033700132119e-06, 0.004794840305684697, 0.00610742549687111, 0.5536871125614011, 0.9324526767423509, 2.0286399032742657, 3.1735108018530944, 146.85116454143338, 158.40285158227593, 211.2801577678525, 229.63011546471415, 285.2065180067374, 581.7208821577831, 812.7726695317187]\n",
            "Custo =  200536.7188839347\n"
          ]
        },
        {
          "output_type": "stream",
          "name": "stderr",
          "text": [
            "pyswarms.single.global_best: 100%|██████████|1/1, best_cost=1.09e+5\n",
            "2023-10-22 00:26:48,141 - pyswarms.single.global_best - INFO - Optimization finished | best cost: 109151.90170863555, best pos: [3.54928741 1.92723957 3.1159078  0.38255932 3.68627833 5.70057859\n",
            " 3.98763984 6.71961591 5.19941597 2.60690426 3.66105405 2.92815757\n",
            " 4.77280016 6.90245864 0.58170368 3.75775036 5.46075069 3.81532195\n",
            " 6.53416194 5.3897161  2.06510956 5.33934536 6.5330695  0.78983839]\n",
            "2023-10-22 00:26:48,143 - pyswarms.single.global_best - INFO - Optimize for 1 iters with {'c1': 0.5, 'c2': 0.3, 'w': 0.9}\n"
          ]
        },
        {
          "output_type": "stream",
          "name": "stdout",
          "text": [
            "\n",
            "=========================================================================\n",
            "\n",
            "Número de ciclos de manutenção: 16 2\n",
            "Tempos para manutenções preventivas: [0, 14, 58, 63, 103, 142, 171, 209, 246, 329, 402, 420, 472, 493, 532, 581, 639]\n",
            "Severidade para cada subsistema: [0.5, 0.25, 0.5, 0.75, 0.5, 0.75, 0.5, 0.75, 0.5, 0.75, 0.25, 0.5, 0.75, 0.5, 0.75, 0.75]\n",
            "Número de Sisemas: 2\n",
            "Fator:  [0.4796409625107464, 0.27864084015710067, 0.15067134756744527, 0.27864084015710067, 0.3873289968507504, 0.27864084015710067, 0.3873289968507504, 0.27864084015710067, 0.3873289968507504, 0.27864084015710067, 0.3873289968507504, 0.15067134756744527, 0.27864084015710067, 0.3873289968507504, 0.27864084015710067, 0.3873289968507504, 0.3873289968507504]\n",
            "Media de falhas:  [0, 7.219033700132119e-06, 0.004794840305684697, 0.00610742549687111, 0.09690725647494883, 0.319101530419201, 0.5361026429499084, 1.632289869481823, 2.826913597540691, 16.72505570456462, 33.416123403173366, 43.21972118834796, 66.39486519775546, 107.42183487286466, 160.29914105844125, 211.10332471939157, 371.8161669147929, 602.8679542887286]\n",
            "Custo =  170829.7374674572\n"
          ]
        },
        {
          "output_type": "stream",
          "name": "stderr",
          "text": [
            "pyswarms.single.global_best:   0%|          |0/1, best_cost=1.09e+5"
          ]
        },
        {
          "output_type": "stream",
          "name": "stdout",
          "text": [
            "\n",
            "=========================================================================\n",
            "\n",
            "Número de ciclos de manutenção: 16 2\n",
            "Tempos para manutenções preventivas: [0, 15, 58, 63, 101, 141, 171, 209, 221, 246, 416, 426, 472, 493, 532, 581, 638]\n",
            "Severidade para cada subsistema: [0.5, 0.25, 0.5, 0.25, 0.5, 0.75, 0.5, 0.5, 0.75, 0.25, 0.75, 0.5, 0.75, 0.5, 0.75, 0.75]\n",
            "Número de Sisemas: 2\n",
            "Fator:  [0.4796409625107464, 0.27864084015710067, 0.15067134756744527, 0.27864084015710067, 0.15067134756744527, 0.27864084015710067, 0.3873289968507504, 0.27864084015710067, 0.27864084015710067, 0.3873289968507504, 0.15067134756744527, 0.3873289968507504, 0.27864084015710067, 0.3873289968507504, 0.27864084015710067, 0.3873289968507504, 0.3873289968507504]\n",
            "Media de falhas:  [0, 1.0195774388402635e-05, 0.004577780654101164, 0.005890365845287577, 0.08677191466244344, 0.30692207113663705, 0.9943858227202433, 2.090573049252158, 2.3543472111090322, 3.8524677539640093, 70.35401310725645, 73.45728154665522, 142.6464595093192, 154.19814655016174, 207.0754527357383, 257.8796363966886, 415.07512168001045, 648.5374329452129]\n",
            "Custo =  163925.0776280504\n"
          ]
        },
        {
          "output_type": "stream",
          "name": "stderr",
          "text": [
            "\rpyswarms.single.global_best: 100%|██████████|1/1, best_cost=1.09e+5\n",
            "2023-10-22 00:26:48,170 - pyswarms.single.global_best - INFO - Optimization finished | best cost: 109151.90170863555, best pos: [3.54932267 1.92723409 3.11590777 0.3828184  3.68446171 5.70062592\n",
            " 3.98758655 6.71961604 5.19936756 2.60690917 0.33410333 2.92815782\n",
            " 4.77280795 1.49087344 0.58170458 3.75775348 5.46073153 3.8153235\n",
            " 6.53417111 5.38971752 2.06510868 5.33933827 6.53305527 0.78983356]\n",
            "2023-10-22 00:26:48,171 - pyswarms.single.global_best - INFO - Optimize for 1 iters with {'c1': 0.5, 'c2': 0.3, 'w': 0.9}\n",
            "pyswarms.single.global_best: 100%|██████████|1/1, best_cost=1.09e+5\n",
            "2023-10-22 00:26:48,194 - pyswarms.single.global_best - INFO - Optimization finished | best cost: 109151.90170863555, best pos: [3.54935649 1.92722981 3.11590776 0.38317016 3.68365248 5.70067237\n",
            " 3.9875442  6.71961614 5.19933264 2.60691454 4.48207048 2.92815789\n",
            " 4.77282551 3.5871621  0.58171087 3.75775067 5.46070075 3.81532489\n",
            " 6.53418625 5.38971763 2.06510762 5.33932648 6.53304014 0.78981461]\n",
            "2023-10-22 00:26:48,195 - pyswarms.single.global_best - INFO - Optimize for 1 iters with {'c1': 0.5, 'c2': 0.3, 'w': 0.9}\n"
          ]
        },
        {
          "output_type": "stream",
          "name": "stdout",
          "text": [
            "\n",
            "=========================================================================\n",
            "\n",
            "Número de ciclos de manutenção: 14 2\n",
            "Tempos para manutenções preventivas: [0, 15, 58, 63, 140, 171, 209, 246, 328, 404, 472, 493, 532, 581, 638]\n",
            "Severidade para cada subsistema: [0.5, 0.25, 0.5, 0.5, 0.75, 0.5, 0.75, 0.5, 0.75, 0.5, 0.75, 0.5, 0.75, 0.75]\n",
            "Número de Sisemas: 2\n",
            "Fator:  [0.4796409625107464, 0.27864084015710067, 0.15067134756744527, 0.27864084015710067, 0.27864084015710067, 0.3873289968507504, 0.27864084015710067, 0.3873289968507504, 0.27864084015710067, 0.3873289968507504, 0.27864084015710067, 0.3873289968507504, 0.27864084015710067, 0.3873289968507504, 0.3873289968507504]\n",
            "Media de falhas:  [0, 1.0195774388402635e-05, 0.004577780654101164, 0.005890365845287577, 0.5129083920917826, 0.9135038058238149, 2.0096910323557298, 3.204314760414598, 16.791960074621525, 34.49025373842444, 87.5321435865377, 99.08383062738024, 151.9611368129568, 202.7653204739071, 359.96080575722897, 593.4231170224315]\n",
            "Custo =  145974.0388955242\n"
          ]
        },
        {
          "output_type": "stream",
          "name": "stderr",
          "text": [
            "pyswarms.single.global_best: 100%|██████████|1/1, best_cost=1.09e+5\n",
            "2023-10-22 00:26:48,220 - pyswarms.single.global_best - INFO - Optimization finished | best cost: 109151.90170863555, best pos: [3.54938451 1.92722804 3.11590774 0.38354094 3.68502752 5.70072882\n",
            " 3.9875345  6.71961622 5.19930935 2.60691938 1.49918673 2.9281578\n",
            " 4.77284778 5.66194428 0.58171901 3.75774809 5.46065973 3.815326\n",
            " 6.53421101 5.38971572 2.06510593 5.33931549 6.533019   0.78977626]\n",
            "2023-10-22 00:26:48,221 - pyswarms.single.global_best - INFO - Optimize for 1 iters with {'c1': 0.5, 'c2': 0.3, 'w': 0.9}\n"
          ]
        },
        {
          "output_type": "stream",
          "name": "stdout",
          "text": [
            "\n",
            "=========================================================================\n",
            "\n",
            "Número de ciclos de manutenção: 13 2\n",
            "Tempos para manutenções preventivas: [0, 16, 58, 63, 139, 171, 209, 230, 246, 472, 493, 532, 581, 638]\n",
            "Severidade para cada subsistema: [0.5, 0.25, 0.5, 0.5, 0.75, 0.5, 0.5, 0.75, 0.5, 0.75, 0.5, 0.75, 0.75]\n",
            "Número de Sisemas: 2\n",
            "Fator:  [0.4796409625107464, 0.27864084015710067, 0.15067134756744527, 0.27864084015710067, 0.27864084015710067, 0.3873289968507504, 0.27864084015710067, 0.27864084015710067, 0.3873289968507504, 0.27864084015710067, 0.3873289968507504, 0.27864084015710067, 0.3873289968507504, 0.3873289968507504]\n",
            "Media de falhas:  [0, 1.4082533509826091e-05, 0.0043697547228536806, 0.005682339914040093, 0.4933317295472153, 0.9046950214917339, 2.0008822480236486, 2.531673338587302, 3.529419908087992, 146.65530885280373, 158.20699589364628, 211.08430207922285, 261.88848574017317, 419.083971023495, 652.5462822886975]\n",
            "Custo =  138962.52764626674\n"
          ]
        },
        {
          "output_type": "stream",
          "name": "stderr",
          "text": [
            "pyswarms.single.global_best: 100%|██████████|1/1, best_cost=1.09e+5\n",
            "2023-10-22 00:26:48,247 - pyswarms.single.global_best - INFO - Optimization finished | best cost: 109151.90170863555, best pos: [3.54940242 1.92722772 3.11590774 0.38385201 3.68658918 5.70079834\n",
            " 3.98754699 6.71961618 5.19930909 2.60692318 5.38881022 2.9281576\n",
            " 4.77286827 0.51049335 0.58172671 3.75774324 5.46062118 3.81532646\n",
            " 6.53423604 5.38971073 2.06510442 5.33930581 6.53299888 0.78973039]\n",
            "2023-10-22 00:26:48,253 - pyswarms.single.global_best - INFO - Optimize for 1 iters with {'c1': 0.5, 'c2': 0.3, 'w': 0.9}\n"
          ]
        },
        {
          "output_type": "stream",
          "name": "stdout",
          "text": [
            "\n",
            "=========================================================================\n",
            "\n",
            "Número de ciclos de manutenção: 14 2\n",
            "Tempos para manutenções preventivas: [0, 16, 58, 63, 119, 138, 171, 209, 246, 326, 472, 493, 533, 581, 638]\n",
            "Severidade para cada subsistema: [0.5, 0.25, 0.5, 0.5, 0.5, 0.75, 0.5, 0.75, 0.5, 0.5, 0.75, 0.5, 0.75, 0.75]\n",
            "Número de Sisemas: 2\n",
            "Fator:  [0.4796409625107464, 0.27864084015710067, 0.15067134756744527, 0.27864084015710067, 0.27864084015710067, 0.27864084015710067, 0.3873289968507504, 0.27864084015710067, 0.3873289968507504, 0.27864084015710067, 0.27864084015710067, 0.3873289968507504, 0.27864084015710067, 0.3873289968507504, 0.3873289968507504]\n",
            "Media de falhas:  [0, 1.4082533509826091e-05, 0.0043697547228536806, 0.005682339914040093, 0.21296328439787585, 0.3213814298465726, 0.7434191230306406, 1.8396063495625554, 3.0342300776214235, 16.015092303301156, 78.89656277391465, 100.63080693798702, 155.16841101235053, 204.9800222271028, 362.1755075104246, 595.6378187756271]\n",
            "Custo =  144636.32104240713\n"
          ]
        },
        {
          "output_type": "stream",
          "name": "stderr",
          "text": [
            "pyswarms.single.global_best: 100%|██████████|1/1, best_cost=1.09e+5\n",
            "2023-10-22 00:26:48,283 - pyswarms.single.global_best - INFO - Optimization finished | best cost: 109151.90170863555, best pos: [3.5494055  1.9272302  3.11590775 0.38412698 3.6882612  5.70085983\n",
            " 3.9875672  6.719616   5.19931231 2.60692475 1.90828419 2.92815739\n",
            " 4.77288637 2.94524518 0.58173361 3.75773592 5.4605952  3.81532618\n",
            " 6.53425544 5.38970408 2.06510295 5.33929884 6.5329809  0.7896892 ]\n",
            "2023-10-22 00:26:48,284 - pyswarms.single.global_best - INFO - Optimize for 1 iters with {'c1': 0.5, 'c2': 0.3, 'w': 0.9}\n"
          ]
        },
        {
          "output_type": "stream",
          "name": "stdout",
          "text": [
            "\n",
            "=========================================================================\n",
            "\n",
            "Número de ciclos de manutenção: 13 2\n",
            "Tempos para manutenções preventivas: [0, 17, 57, 63, 138, 171, 209, 246, 416, 472, 493, 533, 581, 639]\n",
            "Severidade para cada subsistema: [0.5, 0.25, 0.5, 0.5, 0.75, 0.5, 0.75, 0.25, 0.5, 0.75, 0.5, 0.75, 0.75]\n",
            "Número de Sisemas: 2\n",
            "Fator:  [0.4796409625107464, 0.27864084015710067, 0.15067134756744527, 0.27864084015710067, 0.27864084015710067, 0.3873289968507504, 0.27864084015710067, 0.3873289968507504, 0.15067134756744527, 0.27864084015710067, 0.3873289968507504, 0.27864084015710067, 0.3873289968507504, 0.3873289968507504]\n",
            "Media de falhas:  [0, 1.907371778552721e-05, 0.0037702640670566464, 0.005318561767245304, 0.47418899349620225, 0.8962266866802704, 1.9924139132121852, 3.1870376412710533, 69.68858299456349, 94.55526988086855, 135.58223955597776, 190.11984363034128, 239.93145484509355, 400.64429704049485, 631.6960844144305]\n",
            "Custo =  161850.15759791862\n"
          ]
        },
        {
          "output_type": "stream",
          "name": "stderr",
          "text": [
            "pyswarms.single.global_best: 100%|██████████|1/1, best_cost=1.09e+5\n",
            "2023-10-22 00:26:48,310 - pyswarms.single.global_best - INFO - Optimization finished | best cost: 109151.90170863555, best pos: [3.54940077 1.92723602 3.11590775 0.38419497 3.69021232 5.70090124\n",
            " 3.98759763 6.71961576 5.19932013 2.60692577 6.04399866 2.92815715\n",
            " 4.77289485 5.47599203 0.58173974 3.75772844 5.4605803  3.81532528\n",
            " 6.53426573 5.38969777 2.06510162 5.3392939  6.53296531 0.7896597 ]\n",
            "2023-10-22 00:26:48,311 - pyswarms.single.global_best - INFO - Optimize for 1 iters with {'c1': 0.5, 'c2': 0.3, 'w': 0.9}\n"
          ]
        },
        {
          "output_type": "stream",
          "name": "stdout",
          "text": [
            "\n",
            "=========================================================================\n",
            "\n",
            "Número de ciclos de manutenção: 14 2\n",
            "Tempos para manutenções preventivas: [0, 17, 57, 63, 109, 138, 171, 209, 246, 313, 472, 494, 534, 581, 639]\n",
            "Severidade para cada subsistema: [0.5, 0.25, 0.5, 0.5, 0.5, 0.75, 0.5, 0.75, 0.5, 0.5, 0.75, 0.5, 0.75, 0.75]\n",
            "Número de Sisemas: 2\n",
            "Fator:  [0.4796409625107464, 0.27864084015710067, 0.15067134756744527, 0.27864084015710067, 0.27864084015710067, 0.27864084015710067, 0.3873289968507504, 0.27864084015710067, 0.3873289968507504, 0.27864084015710067, 0.27864084015710067, 0.3873289968507504, 0.27864084015710067, 0.3873289968507504, 0.3873289968507504]\n",
            "Media de falhas:  [0, 1.907371778552721e-05, 0.0037702640670566464, 0.005318561767245304, 0.13142936367785119, 0.286306448308502, 0.7083441414925701, 1.804531368024485, 2.999155096083353, 12.470012385928403, 81.18852230678333, 104.09176186170122, 159.04875964481568, 207.8663858008956, 368.57922799629694, 599.6310153702326]\n",
            "Custo =  144587.0009952673\n"
          ]
        },
        {
          "output_type": "stream",
          "name": "stderr",
          "text": [
            "pyswarms.single.global_best: 100%|██████████|1/1, best_cost=1.09e+5"
          ]
        },
        {
          "output_type": "stream",
          "name": "stdout",
          "text": [
            "\n",
            "=========================================================================\n",
            "\n",
            "Número de ciclos de manutenção: 12 2\n",
            "Tempos para manutenções preventivas: [0, 17, 57, 63, 138, 171, 209, 245, 472, 494, 535, 581, 639]\n",
            "Severidade para cada subsistema: [0.5, 0.25, 0.5, 0.5, 0.75, 0.5, 0.75, 0.5, 0.75, 0.5, 0.75, 0.75]\n",
            "Número de Sisemas: 2\n",
            "Fator:  [0.4796409625107464, 0.27864084015710067, 0.15067134756744527, 0.27864084015710067, 0.27864084015710067, 0.3873289968507504, 0.27864084015710067, 0.3873289968507504, 0.27864084015710067, 0.3873289968507504, 0.27864084015710067, 0.3873289968507504, 0.3873289968507504]\n",
            "Media de falhas:  [0, 1.907371778552721e-05, 0.0037702640670566464, 0.005318561767245304, 0.47418899349620225, 0.8962266866802704, 1.9924139132121852, 3.137284811791014, 146.81493855137128, 159.00056535960002, 215.64701317053434, 263.4692148693965, 424.18205706479785, 655.2338444387335]\n",
            "Custo =  138038.5685111661\n"
          ]
        },
        {
          "output_type": "stream",
          "name": "stderr",
          "text": [
            "\n",
            "2023-10-22 00:26:48,346 - pyswarms.single.global_best - INFO - Optimization finished | best cost: 109151.90170863555, best pos: [3.54939487 1.92724183 3.11590776 0.38409001 3.69198806 5.70092238\n",
            " 3.98762849 6.71961554 5.19934535 2.60692426 2.75605801 2.92815695\n",
            " 4.77289661 0.41641268 0.58174342 3.75772217 5.46057856 3.81532413\n",
            " 6.53426301 5.3896934  2.06510059 5.33929125 6.53295543 0.78963737]\n",
            "2023-10-22 00:26:48,347 - pyswarms.single.global_best - INFO - Optimize for 1 iters with {'c1': 0.5, 'c2': 0.3, 'w': 0.9}\n",
            "pyswarms.single.global_best:   0%|          |0/1, best_cost=1.09e+5"
          ]
        },
        {
          "output_type": "stream",
          "name": "stdout",
          "text": [
            "\n",
            "=========================================================================\n",
            "\n",
            "Número de ciclos de manutenção: 16 2\n",
            "Tempos para manutenções preventivas: [0, 17, 56, 63, 104, 139, 171, 209, 235, 245, 323, 406, 472, 494, 535, 581, 640]\n",
            "Severidade para cada subsistema: [0.5, 0.25, 0.5, 0.25, 0.5, 0.75, 0.5, 0.5, 0.75, 0.5, 0.25, 0.5, 0.75, 0.5, 0.75, 0.75]\n",
            "Número de Sisemas: 2\n",
            "Fator:  [0.4796409625107464, 0.27864084015710067, 0.15067134756744527, 0.27864084015710067, 0.15067134756744527, 0.27864084015710067, 0.3873289968507504, 0.27864084015710067, 0.27864084015710067, 0.3873289968507504, 0.27864084015710067, 0.15067134756744527, 0.27864084015710067, 0.3873289968507504, 0.27864084015710067, 0.3873289968507504, 0.3873289968507504]\n",
            "Media de falhas:  [0, 1.907371778552721e-05, 0.0034013237051971237, 0.005177755074979758, 0.10126569852037229, 0.2873963211406974, 1.0081981983417174, 2.104385424873632, 2.814195097647821, 3.444909054152909, 15.678063044869278, 35.32619457576209, 87.02181547237254, 130.21735111339217, 186.8637989243265, 234.6860006231887, 398.94584356701296, 627.5855641760413]\n",
            "Custo =  169767.9861897034\n"
          ]
        },
        {
          "output_type": "stream",
          "name": "stderr",
          "text": [
            "\rpyswarms.single.global_best: 100%|██████████|1/1, best_cost=1.09e+5\n",
            "2023-10-22 00:26:48,372 - pyswarms.single.global_best - INFO - Optimization finished | best cost: 109151.90170863555, best pos: [3.54937653 1.92724712 3.11590778 0.38380849 3.69340703 5.70093755\n",
            " 3.98765977 6.71961538 5.1993783  2.60692048 6.57004298 2.92815684\n",
            " 4.77288867 2.87007928 0.58174649 3.75771864 5.4605977  3.81532281\n",
            " 6.53425154 5.38969019 2.06510008 5.3392963  6.53295002 0.78964124]\n",
            "2023-10-22 00:26:48,375 - pyswarms.single.global_best - INFO - Optimize for 1 iters with {'c1': 0.5, 'c2': 0.3, 'w': 0.9}\n",
            "pyswarms.single.global_best:   0%|          |0/1, best_cost=1.09e+5"
          ]
        },
        {
          "output_type": "stream",
          "name": "stdout",
          "text": [
            "\n",
            "=========================================================================\n",
            "\n",
            "Número de ciclos de manutenção: 16 2\n",
            "Tempos para manutenções preventivas: [0, 17, 56, 63, 103, 140, 171, 209, 212, 245, 411, 472, 494, 536, 562, 581, 640]\n",
            "Severidade para cada subsistema: [0.5, 0.25, 0.5, 0.5, 0.5, 0.75, 0.5, 0.25, 0.75, 0.5, 0.5, 0.75, 0.5, 0.75, 0.75, 0.75]\n",
            "Número de Sisemas: 2\n",
            "Fator:  [0.4796409625107464, 0.27864084015710067, 0.15067134756744527, 0.27864084015710067, 0.27864084015710067, 0.27864084015710067, 0.3873289968507504, 0.27864084015710067, 0.15067134756744527, 0.3873289968507504, 0.27864084015710067, 0.27864084015710067, 0.3873289968507504, 0.27864084015710067, 0.3873289968507504, 0.3873289968507504, 0.3873289968507504]\n",
            "Media de falhas:  [0, 1.907371778552721e-05, 0.0034013237051971237, 0.005177755074979758, 0.09597758605305748, 0.29661614593383345, 0.6972115596658657, 1.7933987861977805, 1.8507004753905767, 3.731462919826267, 98.12458856125855, 125.09539223830218, 147.99863179322006, 206.35164053737608, 230.4620880355276, 268.86043471222854, 358.6095337937209, 587.2492544027493]\n",
            "Custo =  163403.8508483591\n"
          ]
        },
        {
          "output_type": "stream",
          "name": "stderr",
          "text": [
            "\rpyswarms.single.global_best: 100%|██████████|1/1, best_cost=1.09e+5\n",
            "2023-10-22 00:26:48,401 - pyswarms.single.global_best - INFO - Optimization finished | best cost: 109151.90170863555, best pos: [3.54935619 1.927251   3.1159078  0.38353388 3.69459296 5.70091588\n",
            " 3.9876859  6.71961532 5.19941092 2.60691597 2.86483015 2.92815682\n",
            " 4.77287671 5.59967217 0.58174492 3.75771569 5.46061687 3.81532142\n",
            " 6.53423911 5.3896902  2.06509968 5.33930103 6.53295749 0.78965514]\n",
            "2023-10-22 00:26:48,407 - pyswarms.single.global_best - INFO - Optimize for 1 iters with {'c1': 0.5, 'c2': 0.3, 'w': 0.9}\n",
            "pyswarms.single.global_best:   0%|          |0/1, best_cost=1.09e+5"
          ]
        },
        {
          "output_type": "stream",
          "name": "stdout",
          "text": [
            "\n",
            "=========================================================================\n",
            "\n",
            "Número de ciclos de manutenção: 16 2\n",
            "Tempos para manutenções preventivas: [0, 16, 57, 63, 114, 141, 171, 209, 245, 312, 419, 472, 494, 536, 563, 581, 640]\n",
            "Severidade para cada subsistema: [0.5, 0.25, 0.5, 0.75, 0.5, 0.75, 0.5, 0.75, 0.5, 0.75, 0.5, 0.75, 0.5, 0.5, 0.75, 0.75]\n",
            "Número de Sisemas: 2\n",
            "Fator:  [0.4796409625107464, 0.27864084015710067, 0.15067134756744527, 0.27864084015710067, 0.3873289968507504, 0.27864084015710067, 0.3873289968507504, 0.27864084015710067, 0.3873289968507504, 0.27864084015710067, 0.3873289968507504, 0.27864084015710067, 0.3873289968507504, 0.27864084015710067, 0.27864084015710067, 0.3873289968507504, 0.3873289968507504]\n",
            "Media de falhas:  [0, 1.4082533509826091e-05, 0.003953485187254825, 0.005501782887443483, 0.1683234708245524, 0.3280260953651402, 0.5521537235189664, 1.6483409500508812, 2.79321184862971, 12.138161947736299, 40.706610501550905, 83.38931603464542, 95.57494284287415, 153.92795158703018, 179.11837623699387, 215.56957252401276, 379.82941546783695, 608.4691360768653]\n",
            "Custo =  176954.8789672467\n"
          ]
        },
        {
          "output_type": "stream",
          "name": "stderr",
          "text": [
            "\rpyswarms.single.global_best: 100%|██████████|1/1, best_cost=1.09e+5\n",
            "2023-10-22 00:26:48,435 - pyswarms.single.global_best - INFO - Optimization finished | best cost: 109151.90170863555, best pos: [3.54933575 1.92725306 3.11590782 0.38328328 3.69476533 5.70088953\n",
            " 3.98769878 6.71961538 5.19943682 2.60691189 6.2511474  2.92815685\n",
            " 4.77286186 0.39828093 0.5817409  3.75771309 5.46064102 3.81532017\n",
            " 6.53422428 5.38969165 2.0650999  5.33930747 6.53297481 0.78968028]\n",
            "2023-10-22 00:26:48,439 - pyswarms.single.global_best - INFO - Optimize for 1 iters with {'c1': 0.5, 'c2': 0.3, 'w': 0.9}\n",
            "pyswarms.single.global_best:   0%|          |0/1, best_cost=1.09e+5"
          ]
        },
        {
          "output_type": "stream",
          "name": "stdout",
          "text": [
            "\n",
            "=========================================================================\n",
            "\n",
            "Número de ciclos de manutenção: 16 2\n",
            "Tempos para manutenções preventivas: [0, 16, 57, 63, 141, 171, 209, 232, 245, 405, 429, 472, 493, 536, 566, 581, 641]\n",
            "Severidade para cada subsistema: [0.5, 0.25, 0.5, 0.5, 0.75, 0.5, 0.5, 0.75, 0.25, 0.75, 0.5, 0.75, 0.5, 0.25, 0.75, 0.75]\n",
            "Número de Sisemas: 2\n",
            "Fator:  [0.4796409625107464, 0.27864084015710067, 0.15067134756744527, 0.27864084015710067, 0.27864084015710067, 0.3873289968507504, 0.27864084015710067, 0.27864084015710067, 0.3873289968507504, 0.15067134756744527, 0.3873289968507504, 0.27864084015710067, 0.3873289968507504, 0.27864084015710067, 0.15067134756744527, 0.3873289968507504, 0.3873289968507504]\n",
            "Media de falhas:  [0, 1.4082533509826091e-05, 0.003953485187254825, 0.005501782887443483, 0.5324919089930894, 0.9222225628249588, 2.0184097893568738, 2.6179808363726433, 3.4264200819384305, 59.97597235499994, 67.48011048064187, 132.80421411424103, 144.3559011550836, 203.97624893682908, 232.48044145147614, 263.0426207162129, 572.2647081551612, 798.4907791170386]\n",
            "Custo =  229224.40741077968\n"
          ]
        },
        {
          "output_type": "stream",
          "name": "stderr",
          "text": [
            "\rpyswarms.single.global_best: 100%|██████████|1/1, best_cost=1.09e+5\n",
            "2023-10-22 00:26:48,465 - pyswarms.single.global_best - INFO - Optimization finished | best cost: 109151.90170863555, best pos: [3.5493174  1.92725419 3.11590783 0.38306022 3.69412258 5.70084658\n",
            " 3.98769681 6.71961547 5.19945392 2.6069083  2.23658449 2.92815697\n",
            " 4.77284738 2.77226488 0.58173562 3.75771351 5.46066321 3.81531913\n",
            " 6.53421094 5.38969561 2.06510036 5.33931487 6.53299863 0.78971534]\n",
            "2023-10-22 00:26:48,467 - pyswarms.single.global_best - INFO - Optimize for 1 iters with {'c1': 0.5, 'c2': 0.3, 'w': 0.9}\n",
            "pyswarms.single.global_best: 100%|██████████|1/1, best_cost=1.09e+5"
          ]
        },
        {
          "output_type": "stream",
          "name": "stdout",
          "text": [
            "\n",
            "=========================================================================\n",
            "\n",
            "Número de ciclos de manutenção: 14 2\n",
            "Tempos para manutenções preventivas: [0, 15, 57, 63, 118, 142, 171, 209, 214, 245, 472, 493, 536, 581, 641]\n",
            "Severidade para cada subsistema: [0.5, 0.25, 0.5, 0.25, 0.5, 0.75, 0.5, 0.25, 0.75, 0.5, 0.75, 0.5, 0.75, 0.75]\n",
            "Número de Sisemas: 2\n",
            "Fator:  [0.4796409625107464, 0.27864084015710067, 0.15067134756744527, 0.27864084015710067, 0.15067134756744527, 0.27864084015710067, 0.3873289968507504, 0.27864084015710067, 0.15067134756744527, 0.3873289968507504, 0.27864084015710067, 0.3873289968507504, 0.27864084015710067, 0.3873289968507504, 0.3873289968507504]\n",
            "Media de falhas:  [0, 1.0195774388402635e-05, 0.004145233893188668, 0.0056935315933773255, 0.20340831609328558, 0.3524292062280263, 1.0227542211988823, 2.118941447730797, 2.2174764677789844, 3.998735803395676, 210.99782624814932, 222.54951328899188, 282.1698610707374, 328.99517206595425, 496.8318466422145, 723.0579176040919]\n",
            "Custo =  144286.00477884038\n"
          ]
        },
        {
          "output_type": "stream",
          "name": "stderr",
          "text": [
            "\n",
            "2023-10-22 00:26:48,490 - pyswarms.single.global_best - INFO - Optimization finished | best cost: 109151.90170863555, best pos: [3.54930436 1.9272533  3.11590783 0.38288936 3.69283744 5.70079994\n",
            " 3.98768569 6.71961558 5.19945981 2.60690625 5.45328202 2.92815715\n",
            " 4.77283581 5.55903812 0.58173005 3.7577157  5.46068162 3.81531861\n",
            " 6.53419896 5.38970081 2.06510099 5.3393223  6.53302152 0.78974918]\n",
            "2023-10-22 00:26:48,497 - pyswarms.single.global_best - INFO - Optimize for 1 iters with {'c1': 0.5, 'c2': 0.3, 'w': 0.9}\n",
            "pyswarms.single.global_best: 100%|██████████|1/1, best_cost=1.09e+5\n",
            "2023-10-22 00:26:48,519 - pyswarms.single.global_best - INFO - Optimization finished | best cost: 109151.90170863555, best pos: [3.54930163 1.92725145 3.11590783 0.38274716 3.69145359 5.7007561\n",
            " 3.98766459 6.7196157  5.19945758 2.60690661 1.41816671 2.92815733\n",
            " 4.77283152 0.54273736 0.58172439 3.75772247 5.46069297 3.81531859\n",
            " 6.53419097 5.38970583 2.0651016  5.33932781 6.53303934 0.78977529]\n"
          ]
        },
        {
          "output_type": "stream",
          "name": "stdout",
          "text": [
            "\n",
            "=========================================================================\n",
            "\n",
            "Número de ciclos de manutenção: 15 2\n",
            "Tempos para manutenções preventivas: [0, 15, 58, 63, 115, 142, 171, 209, 245, 317, 472, 493, 535, 551, 581, 640]\n",
            "Severidade para cada subsistema: [0.5, 0.25, 0.5, 0.5, 0.5, 0.75, 0.5, 0.75, 0.75, 0.5, 0.75, 0.5, 0.75, 0.75, 0.75]\n",
            "Número de Sisemas: 2\n",
            "Fator:  [0.4796409625107464, 0.27864084015710067, 0.15067134756744527, 0.27864084015710067, 0.27864084015710067, 0.27864084015710067, 0.3873289968507504, 0.27864084015710067, 0.3873289968507504, 0.3873289968507504, 0.27864084015710067, 0.3873289968507504, 0.27864084015710067, 0.3873289968507504, 0.3873289968507504, 0.3873289968507504]\n",
            "Media de falhas:  [0, 1.0195774388402635e-05, 0.004577780654101164, 0.005890365845287577, 0.17694825966546818, 0.34142974189363273, 0.7201953060745825, 1.8163825326064973, 2.961253431185326, 13.555921402199083, 80.46091904858477, 92.01260608942731, 149.92160206524716, 163.78141555171086, 223.09284151982365, 312.841940601316, 541.4816612103443]\n",
            "Custo =  146976.77861456998\n"
          ]
        },
        {
          "output_type": "stream",
          "name": "stderr",
          "text": [
            "2023-10-22 00:26:48,524 - pyswarms.single.global_best - INFO - Optimize for 1 iters with {'c1': 0.5, 'c2': 0.3, 'w': 0.9}\n",
            "pyswarms.single.global_best: 100%|██████████|1/1, best_cost=1.09e+5"
          ]
        },
        {
          "output_type": "stream",
          "name": "stdout",
          "text": [
            "\n",
            "=========================================================================\n",
            "\n",
            "Número de ciclos de manutenção: 17 2\n",
            "Tempos para manutenções preventivas: [0, 15, 58, 63, 101, 141, 171, 209, 225, 245, 312, 413, 472, 493, 535, 543, 581, 640]\n",
            "Severidade para cada subsistema: [0.5, 0.25, 0.5, 0.75, 0.5, 0.75, 0.5, 0.5, 0.75, 0.25, 0.25, 0.5, 0.75, 0.5, 0.5, 0.75, 0.75]\n",
            "Número de Sisemas: 2\n",
            "Fator:  [0.4796409625107464, 0.27864084015710067, 0.15067134756744527, 0.27864084015710067, 0.3873289968507504, 0.27864084015710067, 0.3873289968507504, 0.27864084015710067, 0.27864084015710067, 0.3873289968507504, 0.15067134756744527, 0.15067134756744527, 0.27864084015710067, 0.3873289968507504, 0.27864084015710067, 0.27864084015710067, 0.3873289968507504, 0.3873289968507504]\n",
            "Media de falhas:  [0, 1.0195774388402635e-05, 0.004577780654101164, 0.005890365845287577, 0.08677191466244344, 0.30692207113663705, 0.5310496992904632, 1.627236925822378, 2.001507024994459, 3.2061928798744175, 12.551142978981005, 38.02126110709134, 123.05657318318205, 164.08354285829125, 221.9925388341111, 228.59217007753273, 302.55752081569074, 466.81736375951493, 695.4570843685433]\n",
            "Custo =  205659.5542560275\n"
          ]
        },
        {
          "output_type": "stream",
          "name": "stderr",
          "text": [
            "\n",
            "2023-10-22 00:26:48,556 - pyswarms.single.global_best - INFO - Optimization finished | best cost: 109151.90170863555, best pos: [3.54930055 1.92724808 3.11590783 0.3827854  3.69017707 5.7007243\n",
            " 3.98764219 6.71961581 5.19944918 2.60690834 4.84544308 2.92815747\n",
            " 4.77283022 3.05498602 0.58171988 3.75772918 5.46069781 3.81531936\n",
            " 6.53419377 5.38971005 2.06510223 5.3393325  6.53304728 0.78979315]\n",
            "2023-10-22 00:26:48,558 - pyswarms.single.global_best - INFO - Optimize for 1 iters with {'c1': 0.5, 'c2': 0.3, 'w': 0.9}\n",
            "pyswarms.single.global_best: 100%|██████████|1/1, best_cost=1.09e+5\n",
            "2023-10-22 00:26:48,585 - pyswarms.single.global_best - INFO - Optimization finished | best cost: 109151.90170863555, best pos: [3.5493007  1.92724475 3.11590782 0.38283001 3.68905812 5.70069621\n",
            " 3.98762179 6.7196159  5.1994353  2.60691193 1.16512281 2.92815758\n",
            " 4.77283639 5.50674762 0.58171644 3.75773592 5.46069728 3.81532022\n",
            " 6.53419863 5.38971262 2.06510294 5.33933596 6.53304416 0.78979521]\n"
          ]
        },
        {
          "output_type": "stream",
          "name": "stdout",
          "text": [
            "\n",
            "=========================================================================\n",
            "\n",
            "Número de ciclos de manutenção: 13 2\n",
            "Tempos para manutenções preventivas: [0, 15, 58, 63, 141, 171, 209, 245, 445, 472, 493, 535, 581, 640]\n",
            "Severidade para cada subsistema: [0.5, 0.25, 0.5, 0.5, 0.75, 0.5, 0.75, 0.25, 0.5, 0.75, 0.5, 0.75, 0.75]\n",
            "Número de Sisemas: 2\n",
            "Fator:  [0.4796409625107464, 0.27864084015710067, 0.15067134756744527, 0.27864084015710067, 0.27864084015710067, 0.3873289968507504, 0.27864084015710067, 0.3873289968507504, 0.15067134756744527, 0.27864084015710067, 0.3873289968507504, 0.27864084015710067, 0.3873289968507504, 0.3873289968507504]\n",
            "Media de falhas:  [0, 1.0195774388402635e-05, 0.004577780654101164, 0.005890365845287577, 0.5328804919509335, 0.9226111457828029, 2.0187983723147176, 3.1636692708935463, 104.0946465525303, 116.46104496086343, 157.48801463597263, 215.39701061179247, 263.21921231065465, 427.4790552544789, 656.1187758635073]\n",
            "Custo =  164525.5508608361\n"
          ]
        }
      ]
    },
    {
      "cell_type": "code",
      "source": [
        "print('lamb:', lamb)\n",
        "print('beta:', beta)\n",
        "print('theta:', theta)"
      ],
      "metadata": {
        "id": "eoLCwdJ9Rkp0",
        "outputId": "a828f896-ba9d-4f3c-91a7-15f7afb5f6b7",
        "colab": {
          "base_uri": "https://localhost:8080/"
        }
      },
      "execution_count": 1670,
      "outputs": [
        {
          "output_type": "stream",
          "name": "stdout",
          "text": [
            "lamb: 149.13334340187373\n",
            "beta: 5.004172807502756\n",
            "theta: 0.6532362489521314\n"
          ]
        }
      ]
    },
    {
      "cell_type": "code",
      "source": [
        "# Plotar gráfico de densidade da otimização\n",
        "# Seu histórico de custos\n",
        "cost_history = optimizer.cost_history\n",
        "\n",
        "# Escalando os valores por uma constante (dividindo por 100 milhões)\n",
        "scaled_history = [cost / 1.000 for cost in cost_history]\n",
        "\n",
        "# Custo ótimo (substitua pbest_cost[0] por best_cost)\n",
        "optimal_cost = best_cost\n",
        "\n",
        "\n",
        "\n",
        "# Plotagem do gráfico de histórico de custos\n",
        "plt.plot(scaled_history)\n",
        "plt.xlabel('Iteration')\n",
        "plt.xlim(0, max_iterations)\n",
        "plt.ylabel('Objective function')\n",
        "plt.title('Particle Swarm Optimization (PSO) - Cost History')\n",
        "\n",
        "# Adicionar uma linha horizontal no custo ótimo\n",
        "plt.axhline(optimal_cost / 1.000, color='red', linestyle='--', label='Best Cost')\n",
        "\n",
        "# Mostrar a legenda\n",
        "plt.legend()\n",
        "plt.show()\n",
        "\n",
        "print(\"                              \")\n",
        "print(\"*************************************************************************\")\n",
        "print(\"Número total de iterações:\", max_iterations)\n",
        "print(\"Número de Particulas:\", num_particles)\n",
        "print(\"Número de Dimensões:\", dimensions)\n",
        "print(\"Melhor Custo:\", best_cost)"
      ],
      "metadata": {
        "id": "ULlt81ZI1vn9",
        "outputId": "ef4a8ca0-a634-4a26-e438-7fc762a4a927",
        "colab": {
          "base_uri": "https://localhost:8080/",
          "height": 576
        }
      },
      "execution_count": 1677,
      "outputs": [
        {
          "output_type": "display_data",
          "data": {
            "text/plain": [
              "<Figure size 640x480 with 1 Axes>"
            ],
            "image/png": "[encoded data removed]"
          },
          "metadata": {}
        },
        {
          "output_type": "stream",
          "name": "stdout",
          "text": [
            "                              \n",
            "*************************************************************************\n",
            "Número total de iterações: 100\n",
            "Número de Particulas: 100\n",
            "Número de Dimensões: 24\n",
            "Melhor Custo: 109151.90170863555\n"
          ]
        }
      ]
    },
    {
      "cell_type": "code",
      "source": [
        "# Plotar o gráfico 3D com todas as melhores posições\n",
        "fig = plt.figure(figsize=(8, 8))\n",
        "ax = fig.add_subplot(111)\n",
        "\n",
        "# Plotar todas as melhores posições anteriores\n",
        "for i in range(best_positions.shape[0]):\n",
        "    ax.scatter(best_positions[i, 0], best_positions[i, 1], marker='x', c='blue', alpha=0.6)\n",
        "\n",
        "# Plotar a última melhor posição com uma cor diferente para destacá-la\n",
        "ax.scatter(best_positions[-1, 0], best_positions[-1, 1], c='red', label='Melhor posição atual')\n",
        "\n",
        "ax.set_title('PSO - Melhores posições ao longo das iterações')\n",
        "ax.set_xlabel('Primeira dimensão das melhores posições')\n",
        "ax.set_ylabel('Segunda dimensão das melhores posições')\n",
        "ax.legend()\n",
        "plt.grid()\n",
        "plt.show()"
      ],
      "metadata": {
        "colab": {
          "base_uri": "https://localhost:8080/",
          "height": 718
        },
        "id": "GK1vNK4v20Dx",
        "outputId": "0c8ef902-69fb-439a-e4d3-5da1a2e9d456"
      },
      "execution_count": 1672,
      "outputs": [
        {
          "output_type": "display_data",
          "data": {
            "text/plain": [
              "<Figure size 800x800 with 1 Axes>"
            ],
            "image/png": "[encoded data removed]"
          },
          "metadata": {}
        }
      ]
    },
    {
      "cell_type": "code",
      "source": [
        "# Nome do arquivo CSV para salvar o resultado do melhor custo\n",
        "nome_arquivo = '/content/drive/MyDrive/datasets/resultados_optimizacao/resultados_pso/melhor_custo_pso_quarto_cenario.csv'\n",
        "\n",
        "# Adicionar o melhor custo atual à lista de melhores custos anteriores\n",
        "melhores_custos_anteriores = []\n",
        "try:\n",
        "    with open(nome_arquivo, 'r') as arquivo_csv:\n",
        "        reader = csv.reader(arquivo_csv)\n",
        "        next(reader)  # Pule o cabeçalho\n",
        "        for linha in reader:\n",
        "            melhores_custos_anteriores.append(linha[1])\n",
        "except FileNotFoundError:\n",
        "    pass  # Arquivo não existe, pode ser a primeira execução\n",
        "\n",
        "melhores_custos_anteriores.append(best_cost)  # Substitua pbest_cost[0] por best_cost\n",
        "\n",
        "# Criar uma lista com os valores atuais\n",
        "valores_atuais = [len(melhores_custos_anteriores), best_cost, lamb, beta, theta]\n",
        "\n",
        "# Abrir o arquivo CSV em modo de leitura e escrita e escrever os valores atuais no final do arquivo\n",
        "with open(nome_arquivo, 'a+', newline='') as arquivo_csv:\n",
        "    writer = csv.writer(arquivo_csv)\n",
        "\n",
        "    # Se o arquivo estiver vazio, escreva o cabeçalho\n",
        "    if arquivo_csv.tell() == 0:\n",
        "        writer.writerow(['Index', 'Melhor Custo', 'Lambda (λ)', 'Beta (β)', 'Theta (θ)', 'Número de ciclos de manutenção', 'Tempos para manutenções preventivas', 'Severidade para cada subsistema'])\n",
        "\n",
        "    # Escrever os valores atuais\n",
        "    writer.writerow(valores_atuais)"
      ],
      "metadata": {
        "id": "SvLX3p0EXBEo"
      },
      "execution_count": 1673,
      "outputs": []
    }
  ]
}