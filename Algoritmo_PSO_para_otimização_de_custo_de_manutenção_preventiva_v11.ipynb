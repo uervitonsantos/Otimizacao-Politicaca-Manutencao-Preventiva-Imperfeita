{
  "nbformat": 4,
  "nbformat_minor": 0,
  "metadata": {
    "colab": {
      "provenance": [],
      "include_colab_link": true
    },
    "kernelspec": {
      "name": "python3",
      "display_name": "Python 3"
    },
    "language_info": {
      "name": "python"
    }
  },
  "cells": [
    {
      "cell_type": "markdown",
      "metadata": {
        "id": "view-in-github",
        "colab_type": "text"
      },
      "source": [
        "<a href=\"https://colab.research.google.com/github/uervitonsantos/Otimizacao-Politicaca-Manutencao-Preventiva-Imperfeita/blob/main/Algoritmo_PSO_para_otimiza%C3%A7%C3%A3o_de_custo_de_manuten%C3%A7%C3%A3o_preventiva_v11.ipynb\" target=\"_parent\"><img src=\"https://colab.research.google.com/assets/colab-badge.svg\" alt=\"Open In Colab\"/></a>"
      ]
    },
    {
      "cell_type": "markdown",
      "source": [
        "Os Dataset's de dados de confiabilidade para os 4 cenarios podem ser obtidos em: https://drive.google.com/drive/folders/1tzW3424gsRYhvXOCIaF67PCb3PAiOU43?usp=drive_link"
      ],
      "metadata": {
        "id": "wZi0pIL-Ch37"
      }
    },
    {
      "cell_type": "code",
      "execution_count": 29,
      "metadata": {
        "id": "VM8_ebpiVP0V"
      },
      "outputs": [],
      "source": [
        "%%capture\n",
        "pip install pyswarms"
      ]
    },
    {
      "cell_type": "code",
      "source": [
        "%%capture\n",
        "!pip install numpy==1.26"
      ],
      "metadata": {
        "id": "1ybZT-uetbA6"
      },
      "execution_count": 30,
      "outputs": []
    },
    {
      "cell_type": "code",
      "source": [
        "import numpy as np\n",
        "import pandas as pd\n",
        "import math\n",
        "import csv\n",
        "import locale\n",
        "import matplotlib.pyplot as plt\n",
        "import time\n",
        "from pyswarms.single.global_best import GlobalBestPSO\n",
        "import pyswarms as ps\n",
        "from pyswarms.utils.search import RandomSearch\n",
        "from pyswarms.utils.functions import single_obj as fx\n",
        "from pyswarms.utils.plotters import (plot_cost_history, plot_contour, plot_surface)\n",
        "import plotly.graph_objects as go\n",
        "from pyswarms.utils.plotters.formatters import Designer\n",
        "from pyswarms.utils.plotters.formatters import Mesher\n",
        "from mpl_toolkits.mplot3d import Axes3D"
      ],
      "metadata": {
        "id": "2sVG0WwfVrUs"
      },
      "execution_count": 31,
      "outputs": []
    },
    {
      "cell_type": "code",
      "source": [
        "from google.colab import drive\n",
        "drive.mount('/content/drive')"
      ],
      "metadata": {
        "colab": {
          "base_uri": "https://localhost:8080/"
        },
        "id": "UxVZzIrcndid",
        "outputId": "42175324-3f54-4fae-ad4c-c4dddfe0bb28"
      },
      "execution_count": 32,
      "outputs": [
        {
          "output_type": "stream",
          "name": "stdout",
          "text": [
            "Drive already mounted at /content/drive; to attempt to forcibly remount, call drive.mount(\"/content/drive\", force_remount=True).\n"
          ]
        }
      ]
    },
    {
      "cell_type": "code",
      "source": [
        "# Constantes criadas para representar alguns valores de teste no codigo\n",
        "\n",
        "MAX_VALUE_CUSTO = 20000 # Valor maximo para o custo total da otimização\n",
        "fator_melhoria = 'expo' # Função exponencial selecionada. Há outras funções desenvolvidas\n",
        "DIAS_OBSERVADOS = 600 # Quantidade de dias observados no horizonte de planejamento. Para cada teste há uma quantidade de dia específico\n",
        "CMC = 4000 # Valor para o custo da manutenção corretiva\n",
        "CMP = 2000 # Valor para o custo da manutenção preventiva"
      ],
      "metadata": {
        "id": "FeZKvg25Vtwz"
      },
      "execution_count": 33,
      "outputs": []
    },
    {
      "cell_type": "code",
      "source": [
        "class IntensidadeFalha:\n",
        "    # Este método vai inicializar cada objeto criado a partir desta classe\n",
        "    # O nome deste método é \"inicio\"\n",
        "    # (self) é uma referência a cada atributo de um objeto criado a partir desta classe\n",
        "    # Os atributos de cada objeto criados a partir desta classe.\n",
        "    # O self indica que estes são atributos dos objetos\n",
        "    def __init__(self):\n",
        "        self.fator = None\n",
        "        self.lamb = None\n",
        "        self.beta = None\n",
        "        self.theta = None\n",
        "        self.sz = None\n",
        "        self.T = None\n",
        "        self.u = None\n",
        "\n",
        "    def inicio(self, T, fator, solucao):\n",
        "        self.fator = fator\n",
        "        self.lamb = solucao[0]\n",
        "        self.beta = solucao[1]\n",
        "        self.theta = solucao[2]\n",
        "        self.sz = int(T[-1])\n",
        "        self.T = T\n",
        "\n",
        "    def create(self):\n",
        "        self.u = []\n",
        "        # Reducao de Idade com fator de melhoria linear\n",
        "        for i, tc in enumerate(self.T[1:], start=1):\n",
        "            for tt in range(int(self.T[i-1]), int(tc)+1):\n",
        "                b = tt - self.fator[0][i-1] * self.T[i-1]\n",
        "                self.u.append((1 / (self.lamb ** self.beta)) * self.beta * b ** (self.beta - 1))\n",
        "\n",
        "                if tt == tc:\n",
        "                    self.u.append(float('nan'))\n",
        "            break\n",
        "    # plota e salva a figura da função de intensidade de falha\n",
        "    def plotar(self):\n",
        "        fig = plt.figure(figsize=(20, 5))\n",
        "        plt.plot(self.u)\n",
        "\n",
        "        for xc in self.T:\n",
        "            plt.axvline(x=xc, color='r', linestyle='--')\n",
        "\n",
        "        plt.xlabel(\"Tempo (dias)\")\n",
        "        plt.ylabel(\"Função intensidade de falha\")\n",
        "        plt.xlim(0)\n",
        "        plt.grid(True)\n",
        "        plt.show()"
      ],
      "metadata": {
        "id": "QhF2qTuDV2P1"
      },
      "execution_count": 34,
      "outputs": []
    },
    {
      "cell_type": "code",
      "source": [
        "# Define a função de melhoria constante\n",
        "def const(ck, m, s, theta):\n",
        "    fator = [[theta] * ck] * m\n",
        "    return fator"
      ],
      "metadata": {
        "id": "mMRO_z3_V4a3"
      },
      "execution_count": 35,
      "outputs": []
    },
    {
      "cell_type": "code",
      "source": [
        "# Define a função de melhoria linear\n",
        "def linear(ck, m, s, theta):\n",
        "    fator = []\n",
        "    for k in range(0, m, 1):\n",
        "        linha = [0]\n",
        "        for j in range(0, ck, 1):\n",
        "            linha.append(s[k][j] * theta)\n",
        "        fator.append(linha)\n",
        "    return fator"
      ],
      "metadata": {
        "id": "S_fCxa7GV65n"
      },
      "execution_count": 36,
      "outputs": []
    },
    {
      "cell_type": "code",
      "source": [
        "# Define a função de melhoria exponencial\n",
        "def expo(ck, m, s, theta):\n",
        "    fator = []\n",
        "    for k in range(0, m):\n",
        "        linha = []\n",
        "        # Verifique se o índice k é válido\n",
        "        if k >= len(s):\n",
        "            break\n",
        "        for j in range(0, ck):\n",
        "            # Verifique se o índice j é válido\n",
        "            if j >= len(s[k]):\n",
        "                break\n",
        "            linha.append(1.0 - np.exp(-s[k][j] * theta))\n",
        "        fator.append(linha)\n",
        "\n",
        "    return fator"
      ],
      "metadata": {
        "id": "NV3lIXl9V9FL"
      },
      "execution_count": 37,
      "outputs": []
    },
    {
      "cell_type": "code",
      "source": [
        "# Define a função de melhoria potência\n",
        "def pot(ck, m, s, theta):\n",
        "    fator = []\n",
        "    for k in range(0, m, 1):\n",
        "        linha = []\n",
        "        for j in range(0, ck, 1):\n",
        "            linha.append(s[k][j] ** theta)\n",
        "        fator.append(linha)\n",
        "    return fator"
      ],
      "metadata": {
        "id": "ikxXlzxKV-0K"
      },
      "execution_count": 38,
      "outputs": []
    },
    {
      "cell_type": "code",
      "source": [
        "# Define a função de melhoria para manutenção perfeita\n",
        "def mpp(ck, m, s, theta):\n",
        "    fator = []\n",
        "    for k in range(0, m, 1):\n",
        "        linha = []\n",
        "        for j in range(0, ck, 1):\n",
        "            linha.append(1)\n",
        "        fator.append(linha)\n",
        "    return fator"
      ],
      "metadata": {
        "id": "xcHr8tSFWAus"
      },
      "execution_count": 39,
      "outputs": []
    },
    {
      "cell_type": "code",
      "source": [
        "# Executa a função de melhoria com base no parâmetro fornecido\n",
        "def execute_function(fator_melhoria, ck, m, s, theta):\n",
        "    return {\n",
        "        'const': lambda: const(ck, m, s, theta),\n",
        "        'linear': lambda: linear(ck, m, s, theta),\n",
        "        'expo': lambda: expo(ck, m, s, theta),\n",
        "        'pot': lambda: pot(ck, m, s, theta),\n",
        "        'mpp': lambda: mpp(ck, m, s, theta),\n",
        "    }[fator_melhoria]()"
      ],
      "metadata": {
        "id": "R5KeFcseWDH6"
      },
      "execution_count": 40,
      "outputs": []
    },
    {
      "cell_type": "code",
      "source": [
        "# Função custo de manutenção baseada em severidade\n",
        "def custo_mp(s, CMP):\n",
        "    dist = {0.25: 2000, 0.5: 4000, 0.75: 12000, 1.0: 20000}\n",
        "    if not isinstance(s, list):\n",
        "        s = [s]  # Transforma s em uma lista com um único elemento\n",
        "    cmp_f = np.sum([CMP if si < 0.25 or si > 1.0 else np.interp(si, [0.25, 0.5, 0.75, 1.0], [2000, 4000, 12000, 20000]) for si in s])\n",
        "    return cmp_f"
      ],
      "metadata": {
        "id": "B8BkTWrmWGWO"
      },
      "execution_count": 41,
      "outputs": []
    },
    {
      "cell_type": "markdown",
      "source": [
        "O 1.º cenário, considera o dataset fictício do trabalho do Dr Marco Coque Jr, com 5 sistema, observados por 600 dias, com MP realizada nos tempos 150, 250, 500 e 600, com custo de MP apresentado na tabela 1, com taxas de severidades de 40%, 50%, 90% e 20%, respectivamente  e MC fixa em \"?\"\n",
        "\n",
        "O 2.º cenário, considera o dataset fictício, com 3 sistemas, observados por 730 dias, com MP realizada nos tempos \"?\", com custo de MP apresentado na tabela 2, com taxas de severidade fixas em 20%, 70% e 100%, respectivamente e MC fixa em US$15.000\n",
        "\n",
        "O 3.º cenário, considera o dataset fictício, com 2 sistemas, observados por 1.460 dias, com MP realizada nos tempos \"?\", com custo de MP fixo em US$4.000, com taxas de severidade fixas em 100% e MC fixa em US$17.000\n",
        "\n",
        "O 4.º cenário, considera o dataset fictício, com 4 sistemas, observados por 730 dias, com MP realizada nos tempos \"?\", com custo de MP apresentado na tabela 2, com taxas de severidade fixas em 50% e 100%, onde US$2.000 e US$3.000, respectivamente e MC fixa em US$15.000 texto em itálico\n",
        "\n",
        "\n",
        "\n"
      ],
      "metadata": {
        "id": "G2TJsXlyGcOc"
      }
    },
    {
      "cell_type": "code",
      "source": [
        "# Defina o dicionário de tipos de dados\n",
        "# define as 3 colunas do dataset como int\n",
        "dtypes = {\n",
        "    't': int,\n",
        "    'k': int,\n",
        "    'c': int,\n",
        "}\n",
        "\n",
        "# Leitura dos dados de tempo de falha para 4 cenarios de exemplo\n",
        "# df = pd.read_csv('/content/drive/MyDrive/datasets/Cenarios/cenario01.csv', sep=\";\")\n",
        "# df = pd.read_csv('/content/drive/MyDrive/datasets/Cenarios/cenario02.csv', sep=\";\")\n",
        "# df = pd.read_csv('/content/drive/MyDrive/datasets/Cenarios/cenario03.csv', sep=\";\")\n",
        "# df = pd.read_csv('/content/drive/MyDrive/datasets/Cenarios/cenario04.csv', sep=\";\")\n",
        "df = pd.read_csv('/content/drive/MyDrive/datasets/Cenarios/cenario01.csv', sep=\";\")\n",
        "\n",
        "# Remova as linhas com valores ausentes\n",
        "df = df.fillna(0)\n",
        "\n",
        "# Converta as colunas para os tipos de dados desejados\n",
        "df = df.astype(dtypes)\n",
        "\n",
        "df.head()"
      ],
      "metadata": {
        "colab": {
          "base_uri": "https://localhost:8080/",
          "height": 206
        },
        "id": "IDcyZ_pHWIW8",
        "outputId": "c17edffa-c260-419a-9d82-92a67d73035d"
      },
      "execution_count": 42,
      "outputs": [
        {
          "output_type": "execute_result",
          "data": {
            "text/plain": [
              "     t  k  c    n    s      T\n",
              "0   90  1  1  4.0  0.4  150.0\n",
              "1  110  1  1  0.0  0.5  250.0\n",
              "2  125  1  1  9.0  0.9  500.0\n",
              "3  135  1  1  2.0  0.2  600.0\n",
              "4  295  1  3  2.0  0.4    0.0"
            ],
            "text/html": [
              "\n",
              "  <div id=\"df-01290a5d-1ecf-419f-9941-110d173f698e\" class=\"colab-df-container\">\n",
              "    <div>\n",
              "<style scoped>\n",
              "    .dataframe tbody tr th:only-of-type {\n",
              "        vertical-align: middle;\n",
              "    }\n",
              "\n",
              "    .dataframe tbody tr th {\n",
              "        vertical-align: top;\n",
              "    }\n",
              "\n",
              "    .dataframe thead th {\n",
              "        text-align: right;\n",
              "    }\n",
              "</style>\n",
              "<table border=\"1\" class=\"dataframe\">\n",
              "  <thead>\n",
              "    <tr style=\"text-align: right;\">\n",
              "      <th></th>\n",
              "      <th>t</th>\n",
              "      <th>k</th>\n",
              "      <th>c</th>\n",
              "      <th>n</th>\n",
              "      <th>s</th>\n",
              "      <th>T</th>\n",
              "    </tr>\n",
              "  </thead>\n",
              "  <tbody>\n",
              "    <tr>\n",
              "      <th>0</th>\n",
              "      <td>90</td>\n",
              "      <td>1</td>\n",
              "      <td>1</td>\n",
              "      <td>4.0</td>\n",
              "      <td>0.4</td>\n",
              "      <td>150.0</td>\n",
              "    </tr>\n",
              "    <tr>\n",
              "      <th>1</th>\n",
              "      <td>110</td>\n",
              "      <td>1</td>\n",
              "      <td>1</td>\n",
              "      <td>0.0</td>\n",
              "      <td>0.5</td>\n",
              "      <td>250.0</td>\n",
              "    </tr>\n",
              "    <tr>\n",
              "      <th>2</th>\n",
              "      <td>125</td>\n",
              "      <td>1</td>\n",
              "      <td>1</td>\n",
              "      <td>9.0</td>\n",
              "      <td>0.9</td>\n",
              "      <td>500.0</td>\n",
              "    </tr>\n",
              "    <tr>\n",
              "      <th>3</th>\n",
              "      <td>135</td>\n",
              "      <td>1</td>\n",
              "      <td>1</td>\n",
              "      <td>2.0</td>\n",
              "      <td>0.2</td>\n",
              "      <td>600.0</td>\n",
              "    </tr>\n",
              "    <tr>\n",
              "      <th>4</th>\n",
              "      <td>295</td>\n",
              "      <td>1</td>\n",
              "      <td>3</td>\n",
              "      <td>2.0</td>\n",
              "      <td>0.4</td>\n",
              "      <td>0.0</td>\n",
              "    </tr>\n",
              "  </tbody>\n",
              "</table>\n",
              "</div>\n",
              "    <div class=\"colab-df-buttons\">\n",
              "\n",
              "  <div class=\"colab-df-container\">\n",
              "    <button class=\"colab-df-convert\" onclick=\"convertToInteractive('df-01290a5d-1ecf-419f-9941-110d173f698e')\"\n",
              "            title=\"Convert this dataframe to an interactive table.\"\n",
              "            style=\"display:none;\">\n",
              "\n",
              "  <svg xmlns=\"http://www.w3.org/2000/svg\" height=\"24px\" viewBox=\"0 -960 960 960\">\n",
              "    <path d=\"M120-120v-720h720v720H120Zm60-500h600v-160H180v160Zm220 220h160v-160H400v160Zm0 220h160v-160H400v160ZM180-400h160v-160H180v160Zm440 0h160v-160H620v160ZM180-180h160v-160H180v160Zm440 0h160v-160H620v160Z\"/>\n",
              "  </svg>\n",
              "    </button>\n",
              "\n",
              "  <style>\n",
              "    .colab-df-container {\n",
              "      display:flex;\n",
              "      gap: 12px;\n",
              "    }\n",
              "\n",
              "    .colab-df-convert {\n",
              "      background-color: #E8F0FE;\n",
              "      border: none;\n",
              "      border-radius: 50%;\n",
              "      cursor: pointer;\n",
              "      display: none;\n",
              "      fill: #1967D2;\n",
              "      height: 32px;\n",
              "      padding: 0 0 0 0;\n",
              "      width: 32px;\n",
              "    }\n",
              "\n",
              "    .colab-df-convert:hover {\n",
              "      background-color: #E2EBFA;\n",
              "      box-shadow: 0px 1px 2px rgba(60, 64, 67, 0.3), 0px 1px 3px 1px rgba(60, 64, 67, 0.15);\n",
              "      fill: #174EA6;\n",
              "    }\n",
              "\n",
              "    .colab-df-buttons div {\n",
              "      margin-bottom: 4px;\n",
              "    }\n",
              "\n",
              "    [theme=dark] .colab-df-convert {\n",
              "      background-color: #3B4455;\n",
              "      fill: #D2E3FC;\n",
              "    }\n",
              "\n",
              "    [theme=dark] .colab-df-convert:hover {\n",
              "      background-color: #434B5C;\n",
              "      box-shadow: 0px 1px 3px 1px rgba(0, 0, 0, 0.15);\n",
              "      filter: drop-shadow(0px 1px 2px rgba(0, 0, 0, 0.3));\n",
              "      fill: #FFFFFF;\n",
              "    }\n",
              "  </style>\n",
              "\n",
              "    <script>\n",
              "      const buttonEl =\n",
              "        document.querySelector('#df-01290a5d-1ecf-419f-9941-110d173f698e button.colab-df-convert');\n",
              "      buttonEl.style.display =\n",
              "        google.colab.kernel.accessAllowed ? 'block' : 'none';\n",
              "\n",
              "      async function convertToInteractive(key) {\n",
              "        const element = document.querySelector('#df-01290a5d-1ecf-419f-9941-110d173f698e');\n",
              "        const dataTable =\n",
              "          await google.colab.kernel.invokeFunction('convertToInteractive',\n",
              "                                                    [key], {});\n",
              "        if (!dataTable) return;\n",
              "\n",
              "        const docLinkHtml = 'Like what you see? Visit the ' +\n",
              "          '<a target=\"_blank\" href=https://colab.research.google.com/notebooks/data_table.ipynb>data table notebook</a>'\n",
              "          + ' to learn more about interactive tables.';\n",
              "        element.innerHTML = '';\n",
              "        dataTable['output_type'] = 'display_data';\n",
              "        await google.colab.output.renderOutput(dataTable, element);\n",
              "        const docLink = document.createElement('div');\n",
              "        docLink.innerHTML = docLinkHtml;\n",
              "        element.appendChild(docLink);\n",
              "      }\n",
              "    </script>\n",
              "  </div>\n",
              "\n",
              "\n",
              "<div id=\"df-c61979e4-c76e-46c2-8638-c4882dbeec12\">\n",
              "  <button class=\"colab-df-quickchart\" onclick=\"quickchart('df-c61979e4-c76e-46c2-8638-c4882dbeec12')\"\n",
              "            title=\"Suggest charts.\"\n",
              "            style=\"display:none;\">\n",
              "\n",
              "<svg xmlns=\"http://www.w3.org/2000/svg\" height=\"24px\"viewBox=\"0 0 24 24\"\n",
              "     width=\"24px\">\n",
              "    <g>\n",
              "        <path d=\"M19 3H5c-1.1 0-2 .9-2 2v14c0 1.1.9 2 2 2h14c1.1 0 2-.9 2-2V5c0-1.1-.9-2-2-2zM9 17H7v-7h2v7zm4 0h-2V7h2v10zm4 0h-2v-4h2v4z\"/>\n",
              "    </g>\n",
              "</svg>\n",
              "  </button>\n",
              "\n",
              "<style>\n",
              "  .colab-df-quickchart {\n",
              "      --bg-color: #E8F0FE;\n",
              "      --fill-color: #1967D2;\n",
              "      --hover-bg-color: #E2EBFA;\n",
              "      --hover-fill-color: #174EA6;\n",
              "      --disabled-fill-color: #AAA;\n",
              "      --disabled-bg-color: #DDD;\n",
              "  }\n",
              "\n",
              "  [theme=dark] .colab-df-quickchart {\n",
              "      --bg-color: #3B4455;\n",
              "      --fill-color: #D2E3FC;\n",
              "      --hover-bg-color: #434B5C;\n",
              "      --hover-fill-color: #FFFFFF;\n",
              "      --disabled-bg-color: #3B4455;\n",
              "      --disabled-fill-color: #666;\n",
              "  }\n",
              "\n",
              "  .colab-df-quickchart {\n",
              "    background-color: var(--bg-color);\n",
              "    border: none;\n",
              "    border-radius: 50%;\n",
              "    cursor: pointer;\n",
              "    display: none;\n",
              "    fill: var(--fill-color);\n",
              "    height: 32px;\n",
              "    padding: 0;\n",
              "    width: 32px;\n",
              "  }\n",
              "\n",
              "  .colab-df-quickchart:hover {\n",
              "    background-color: var(--hover-bg-color);\n",
              "    box-shadow: 0 1px 2px rgba(60, 64, 67, 0.3), 0 1px 3px 1px rgba(60, 64, 67, 0.15);\n",
              "    fill: var(--button-hover-fill-color);\n",
              "  }\n",
              "\n",
              "  .colab-df-quickchart-complete:disabled,\n",
              "  .colab-df-quickchart-complete:disabled:hover {\n",
              "    background-color: var(--disabled-bg-color);\n",
              "    fill: var(--disabled-fill-color);\n",
              "    box-shadow: none;\n",
              "  }\n",
              "\n",
              "  .colab-df-spinner {\n",
              "    border: 2px solid var(--fill-color);\n",
              "    border-color: transparent;\n",
              "    border-bottom-color: var(--fill-color);\n",
              "    animation:\n",
              "      spin 1s steps(1) infinite;\n",
              "  }\n",
              "\n",
              "  @keyframes spin {\n",
              "    0% {\n",
              "      border-color: transparent;\n",
              "      border-bottom-color: var(--fill-color);\n",
              "      border-left-color: var(--fill-color);\n",
              "    }\n",
              "    20% {\n",
              "      border-color: transparent;\n",
              "      border-left-color: var(--fill-color);\n",
              "      border-top-color: var(--fill-color);\n",
              "    }\n",
              "    30% {\n",
              "      border-color: transparent;\n",
              "      border-left-color: var(--fill-color);\n",
              "      border-top-color: var(--fill-color);\n",
              "      border-right-color: var(--fill-color);\n",
              "    }\n",
              "    40% {\n",
              "      border-color: transparent;\n",
              "      border-right-color: var(--fill-color);\n",
              "      border-top-color: var(--fill-color);\n",
              "    }\n",
              "    60% {\n",
              "      border-color: transparent;\n",
              "      border-right-color: var(--fill-color);\n",
              "    }\n",
              "    80% {\n",
              "      border-color: transparent;\n",
              "      border-right-color: var(--fill-color);\n",
              "      border-bottom-color: var(--fill-color);\n",
              "    }\n",
              "    90% {\n",
              "      border-color: transparent;\n",
              "      border-bottom-color: var(--fill-color);\n",
              "    }\n",
              "  }\n",
              "</style>\n",
              "\n",
              "  <script>\n",
              "    async function quickchart(key) {\n",
              "      const quickchartButtonEl =\n",
              "        document.querySelector('#' + key + ' button');\n",
              "      quickchartButtonEl.disabled = true;  // To prevent multiple clicks.\n",
              "      quickchartButtonEl.classList.add('colab-df-spinner');\n",
              "      try {\n",
              "        const charts = await google.colab.kernel.invokeFunction(\n",
              "            'suggestCharts', [key], {});\n",
              "      } catch (error) {\n",
              "        console.error('Error during call to suggestCharts:', error);\n",
              "      }\n",
              "      quickchartButtonEl.classList.remove('colab-df-spinner');\n",
              "      quickchartButtonEl.classList.add('colab-df-quickchart-complete');\n",
              "    }\n",
              "    (() => {\n",
              "      let quickchartButtonEl =\n",
              "        document.querySelector('#df-c61979e4-c76e-46c2-8638-c4882dbeec12 button');\n",
              "      quickchartButtonEl.style.display =\n",
              "        google.colab.kernel.accessAllowed ? 'block' : 'none';\n",
              "    })();\n",
              "  </script>\n",
              "</div>\n",
              "    </div>\n",
              "  </div>\n"
            ]
          },
          "metadata": {},
          "execution_count": 42
        }
      ]
    },
    {
      "cell_type": "markdown",
      "source": [
        "\n",
        "\n",
        "*   t: Representa os tempos de falha.\n",
        "*   k: Indica o índice do sistema.\n",
        "*   c: Representa o número de ciclos de manutenção.\n",
        "*   n: Indica o número de falhas em cada ciclo de manutenção preventiva.\n",
        "*   s: Representa a severidade das manutenções preventivas em cada sistema.\n",
        "*   T: Indica os tempos das manutenções preventivas.\n",
        "\n"
      ],
      "metadata": {
        "id": "CaA-qPulJnW2"
      }
    },
    {
      "cell_type": "code",
      "source": [
        "# Cria as variaveis\n",
        "# tempos de falhas\n",
        "t = df['t']\n",
        "# indice do sistema\n",
        "k = df['k']\n",
        "m = k.drop_duplicates().shape[0]\n",
        "# Numero de ciclos de manutenção\n",
        "ck = df['c'].max()\n",
        "# Numero de falhas e severidade das manutenções preventivas em cada sistema\n",
        "n = []\n",
        "s = []\n",
        "for k in range(m):\n",
        "    n.append(list(df['n'][k * ck:(k + 1) * ck]))\n",
        "    s.append(list(df['s'][k * ck:(k + 1) * ck]))\n",
        "\n",
        "# Tempos das MP\n",
        "T = list(df['T'][:m])"
      ],
      "metadata": {
        "id": "osEXf1wsuIlP"
      },
      "execution_count": 43,
      "outputs": []
    },
    {
      "cell_type": "code",
      "source": [
        "# Define a função objetivo para ótimização dos parametros lambda, beta, theta\n",
        "def objective(x):\n",
        "    #\n",
        "    # Solucao a ser avaliada x = [x1, x2, x3] = [lambda, beta, theta]\n",
        "    lamb = x[:, 0]\n",
        "    beta = x[:, 1]\n",
        "    theta = x[:, 2]\n",
        "\n",
        "    # Cria fator de melhoria\n",
        "\t# variável fator_melhoria definida como 'expo' no início do programa!\n",
        "    fator = execute_function(fator_melhoria, ck, m, s, theta)\n",
        "\n",
        "    cont = 0\n",
        "    fitness = 1\n",
        "\n",
        "    for k in range(0, m, 1):\n",
        "        prod = 1\n",
        "        for j in range(0, len(ck) if isinstance(ck, np.ndarray) else 1, 1):\n",
        "            nkj = int(n[k][j])\n",
        "            for i in range(0, nkj, 1):\n",
        "                prod = prod * (1/(lamb**beta)) * beta * (int(t[cont])-fator[k][j]*T[j])**(beta-1);\n",
        "                cont = cont + 1;\n",
        "\n",
        "        soma = 0\n",
        "        for l in range(0, len(ck) if isinstance(ck, np.ndarray) else 1, 1):\n",
        "            soma = soma + ((1/(lamb**beta))*(T[l+1]-fator[k][l]*T[l])**beta - (1/(lamb**beta))*(T[l]-fator[k][l]*T[l])**beta);\n",
        "\n",
        "        ans = np.exp(-soma)\n",
        "        fitness = fitness * prod * ans;\n",
        "\n",
        "    return -fitness"
      ],
      "metadata": {
        "id": "F548fs8JXJkK"
      },
      "execution_count": 44,
      "outputs": []
    },
    {
      "cell_type": "code",
      "source": [
        "# Parâmetros do PSO\n",
        "num_particles = 100\n",
        "max_iterations = 50\n",
        "dimensions = 3\n",
        "options = {'c1': 0.5, 'c2': 0.3, 'w': 0.9}  # Opções do PSO\n",
        "\n",
        "# Limites inferiores e superiores para lamb, beta e theta\n",
        "lb = np.array([100, 1, 0])\n",
        "ub = np.array([150, 2, 1])\n",
        "bounds = (lb, ub)\n",
        "\n",
        "# Registre o tempo de início de convergência para a primeira etapa\n",
        "start_time_first_stage = time.time()\n",
        "\n",
        "optimizer = GlobalBestPSO(n_particles=num_particles, dimensions=dimensions, options=options, bounds=bounds)\n",
        "\n",
        "# Registre o tempo de término\n",
        "end_time_first_stage = time.time()\n",
        "\n",
        "# Calcule o tempo total de convergência\n",
        "convergence_time_first_stage = end_time_first_stage - start_time_first_stage\n",
        "\n",
        "# Define o enxame de partículas\n",
        "swarm = optimizer.swarm\n",
        "\n",
        "# Inicializar current_cost e pbest_cost com valores infinitos\n",
        "swarm.current_cost = np.full(swarm.position.shape[0], np.inf)\n",
        "swarm.pbest_cost = np.full(swarm.position.shape[0], np.inf)\n",
        "best_cost, best_position = optimizer.optimize(objective, iters=max_iterations)\n",
        "\n",
        "# Calcula mask_cost\n",
        "mask_cost = swarm.current_cost < swarm.pbest_cost\n",
        "\n",
        "# Atualiza pbest\n",
        "swarm.pbest_cost = np.where(mask_cost, swarm.current_cost, swarm.pbest_cost)\n",
        "swarm.pbest_pos = np.where(mask_cost[:, np.newaxis], swarm.position, swarm.pbest_pos)"
      ],
      "metadata": {
        "id": "sdZ_xrssxPjt",
        "colab": {
          "base_uri": "https://localhost:8080/"
        },
        "outputId": "7aa99629-f109-45d8-920e-47fadc9f02d8"
      },
      "execution_count": 54,
      "outputs": [
        {
          "output_type": "stream",
          "name": "stderr",
          "text": [
            "2023-10-27 17:54:48,662 - pyswarms.single.global_best - INFO - Optimize for 50 iters with {'c1': 0.5, 'c2': 0.3, 'w': 0.9}\n",
            "pyswarms.single.global_best: 100%|██████████|50/50, best_cost=-2.17e-24\n",
            "2023-10-27 17:54:48,923 - pyswarms.single.global_best - INFO - Optimization finished | best cost: -2.1742554956207226e-24, best pos: [124.70453599   1.99912398   0.23339115]\n"
          ]
        }
      ]
    },
    {
      "cell_type": "code",
      "source": [
        "# Criação de variáveis para os parâmetros\n",
        "lamb, beta, theta = best_position\n",
        "print('lamb:', lamb)\n",
        "print('beta:', beta)\n",
        "print('theta:', theta)\n",
        "print('')\n",
        "print(\"Tempo de Convergência para a primeira etapa:\", convergence_time_first_stage, \"segundos\")"
      ],
      "metadata": {
        "colab": {
          "base_uri": "https://localhost:8080/"
        },
        "id": "NaosdejV9bWw",
        "outputId": "11113007-9407-4682-d01c-06847c2608c9"
      },
      "execution_count": 56,
      "outputs": [
        {
          "output_type": "stream",
          "name": "stdout",
          "text": [
            "lamb: 124.70453598647626\n",
            "beta: 1.9991239843204789\n",
            "theta: 0.23339114920679804\n",
            "\n",
            "Tempo de Convergência para a primeira etapa: 0.01893329620361328 segundos\n"
          ]
        }
      ]
    },
    {
      "cell_type": "code",
      "source": [
        "beta = beta*5\n",
        "solucao = [lamb, beta, theta]\n",
        "\n",
        "# Cria a instância da classe IntensidadeFalha\n",
        "intensidadeFalha = IntensidadeFalha()\n",
        "\n",
        "# Inicializa a instância com os valores necessários\n",
        "falha = intensidadeFalha.inicio(T, execute_function(fator_melhoria, ck, m, s, theta), solucao)\n",
        "\n",
        "# Cria os dados da intensidade de falha\n",
        "intensidadeFalha.create()\n",
        "\n",
        "# Plota o gráfico da intensidade de falha\n",
        "intensidadeFalha.plotar()\n",
        "\n",
        "fator = execute_function(fator_melhoria, ck, m, s, theta)\n",
        "print('Fator ajuste: ', fator[0])\n",
        "\n",
        "last_value_fator_ajuste = fator[0][-1]\n",
        "\n",
        "time_duration = 1\n",
        "time.sleep(time_duration)"
      ],
      "metadata": {
        "id": "grvISRd2_HkE",
        "outputId": "5b68fbf8-3150-4e7e-a7bf-353b34a026a6",
        "colab": {
          "base_uri": "https://localhost:8080/",
          "height": 400
        }
      },
      "execution_count": 47,
      "outputs": [
        {
          "output_type": "display_data",
          "data": {
            "text/plain": [
              "<Figure size 2000x500 with 1 Axes>"
            ],
            "image/png": "[encoded data removed]"
          },
          "metadata": {}
        },
        {
          "output_type": "stream",
          "name": "stdout",
          "text": [
            "Fator ajuste:  [0.12593593864412922, 0.15485917743198108, 0.26129278020855595, 0.06508606740734102]\n"
          ]
        }
      ]
    },
    {
      "cell_type": "code",
      "source": [
        "# Função objetivo para otimização da politica de manutenção\n",
        "# Numero de ciclos determinado pela solução\n",
        "# Solução com 24 valores reais\n",
        "# Solucao a ser avaliada X = [x1, ..., x24]\n",
        "def objective_st(x):\n",
        "\n",
        "    # Dicionario para severidades\n",
        "    dict_severidades = {1: 0.25, 3: 0.50, 5: 0.75, 7: 1.0}\n",
        "\n",
        "    results = [] # Lista para armazenar os resultados das funções objetivo\n",
        "\n",
        "\n",
        "    # No PSO, como cada particula é um vetor de dimenções definidas, é\n",
        "    # Necessario interar sobre o vetor de particulas\n",
        "    for particle in x:\n",
        "        T = [0]\n",
        "        s_row = []\n",
        "        cont = 0\n",
        "\n",
        "        for number in particle:\n",
        "            modulo = int(number) % 2\n",
        "            if modulo == 1:\n",
        "                inteiro = int(number)\n",
        "                s_row.append(dict_severidades[inteiro])  # Severidade\n",
        "                frac = number - inteiro  # Tempo\n",
        "                t = (cont + frac) * 30\n",
        "                T.append(int(t))\n",
        "            cont += 1\n",
        "\n",
        "    s = []\n",
        "    for row in range(m):\n",
        "        s.append(s_row)\n",
        "\n",
        "    # A partir da solução define o número de ciclos\n",
        "    # A variável m é o número de sistemas em análise: em nosso exemplo m = 4\n",
        "    # Para novos dados esse parâmetro deve ser ajustado\n",
        "    # m = 4\n",
        "    ck = len(T) - 1\n",
        "\n",
        "    print(\"\")\n",
        "    print(\"=========================================================================\")\n",
        "    print(\"\")\n",
        "    print('Número de ciclos de manutenção:', ck, m)\n",
        "    print('Tempos para manutenções preventivas:', T)\n",
        "    print('Severidade para cada subsistema:', s[0])\n",
        "    print(\"Número de Sisemas:\", m)\n",
        "\n",
        "    if ck == 0:\n",
        "        return MAX_VALUE_CUSTO\n",
        "\n",
        "    # O modelo já está ajustado\n",
        "    # Utilizado para avaliar a solução candidata\n",
        "\n",
        "    # Cria fator de meloria a partir da solução\n",
        "    fact = execute_function(fator_melhoria, ck, m, s, theta)\n",
        "    fator = [last_value_fator_ajuste] + list(fact[0])\n",
        "\n",
        "    print('Fator: ', fator)\n",
        "\n",
        "    # Numero esperado de falhas (NEF) em cada ciclo\n",
        "    termos_somatorio = [((1/(lamb**beta)) * (T[1]**beta))]\n",
        "    numero_medio_falhas = [0, ((1/(lamb**beta)) * (T[1]**beta))]\n",
        "\n",
        "    for i in range(ck-1):\n",
        "        termo = (((T[i+2]-fator[i]*T[i+1])**beta) - (((1-fator[i])*T[i+1])**beta)) * (1/(lamb**beta))\n",
        "        termos_somatorio.append(termo)\n",
        "        numero_medio_falhas.append(sum(termos_somatorio))\n",
        "\n",
        "    # Número médio de falhas até o final do período: 2 anos\n",
        "    final = DIAS_OBSERVADOS\n",
        "    termo = (((final-fator[ck-1]*T[ck])**beta) - (((1-fator[ck-1])*T[ck])**beta)) * (1/(lamb**beta))\n",
        "    termos_somatorio.append(termo)\n",
        "    numero_medio_falhas.append(sum(termos_somatorio))\n",
        "\n",
        "    mi = numero_medio_falhas\n",
        "\n",
        "    print('Media de falhas: ', mi)\n",
        "\n",
        "    Ctotal =  []\n",
        "\n",
        "    for i in range(ck):\n",
        "        cmp = custo_mp(s[0][i], CMP)\n",
        "        Ctotal.append((cmp + (mi[i+1] - mi[i])*CMC)/(T[i+1]-T[i]))\n",
        "\n",
        "    cmp = custo_mp(s[0][ck-1], CMP)\n",
        "    Ctotal.append((cmp + (mi[ck+1] - mi[ck])*CMC)/(final-T[ck]))\n",
        "\n",
        "    # Custo Total\n",
        "    Custo = np.sum(Ctotal)\n",
        "    results.append(Custo) # Adicione o valor da função objetivo à lista de resultados\n",
        "    print('Custo = ', Custo)\n",
        "\n",
        "    # Retorne os resultados da função objetivo como um array\n",
        "    return np.array(results)"
      ],
      "metadata": {
        "id": "-JuqM09rWWBJ"
      },
      "execution_count": 48,
      "outputs": []
    },
    {
      "cell_type": "code",
      "source": [
        "num_particles = 100\n",
        "max_iterations = 100\n",
        "dimensions = 24\n",
        "options = {'c1': 0.5, 'c2': 0.3, 'w': 0.9}\n",
        "\n",
        "max_bound = np.array([7.0] * dimensions)  # Limite superior dos valores em x\n",
        "min_bound = np.array([0.0] * dimensions)   # Limite inferior dos valores em x\n",
        "bounds = (min_bound, max_bound)\n",
        "\n",
        "# Registre o tempo de início de convergência para a segunda etapa\n",
        "start_time_second_stage = time.time()\n",
        "\n",
        "optimizer = GlobalBestPSO(n_particles=num_particles, dimensions=dimensions, options=options, bounds=bounds)\n",
        "\n",
        "# Inicializar current_cost e pbest_cost com valores infinitos\n",
        "optimizer.swarm.current_cost = np.full(optimizer.swarm.position.shape[0], np.inf)\n",
        "optimizer.swarm.pbest_cost = np.full(optimizer.swarm.position.shape[0], np.inf)\n",
        "best_cost, best_position = optimizer.optimize(objective_st, iters=max_iterations)\n",
        "\n",
        "# Registre o tempo de término\n",
        "end_time_second_stage = time.time()\n",
        "\n",
        "# Agora, você pode calcular os outros valores relacionados à melhor solução\n",
        "# Primeiro, você precisa transformar a melhor posição em uma lista (se necessário)\n",
        "best_position_list = best_position.tolist()\n",
        "\n",
        "pbest_cost = optimizer.swarm.pbest_cost\n",
        "\n",
        "gbest_cost = optimizer.cost_history[-1]  # O último valor registrado no histórico de custos\n",
        "\n",
        "best_positions = []  # Lista para armazenar todas as melhores posições\n",
        "\n",
        "# Loop de iterações do PSO\n",
        "for i in range(max_iterations):\n",
        "    best_cost, best_position = optimizer.optimize(objective_st, iters=1)\n",
        "    pbest_cost = optimizer.swarm.pbest_cost\n",
        "    best_positions.append(best_position)\n",
        "\n",
        "# Converter a lista de melhores posições em um array numpy para facilitar a manipulação\n",
        "best_positions = np.array(best_positions)"
      ],
      "metadata": {
        "colab": {
          "base_uri": "https://localhost:8080/"
        },
        "id": "cePW2Ji6gjmC",
        "outputId": "b0e18191-9d09-4fea-f74d-d6219a97b24c"
      },
      "execution_count": 57,
      "outputs": [
        {
          "output_type": "stream",
          "name": "stderr",
          "text": [
            "2023-10-27 18:01:13,802 - pyswarms.single.global_best - INFO - Optimize for 100 iters with {'c1': 0.5, 'c2': 0.3, 'w': 0.9}\n",
            "pyswarms.single.global_best:   8%|▊         |8/100, best_cost=2.78e+3"
          ]
        },
        {
          "output_type": "stream",
          "name": "stdout",
          "text": [
            "\n",
            "=========================================================================\n",
            "\n",
            "Número de ciclos de manutenção: 9 5\n",
            "Tempos para manutenções preventivas: [0, 83, 268, 397, 425, 456, 507, 542, 595, 636]\n",
            "Severidade para cada subsistema: [0.75, 0.5, 0.75, 0.75, 0.75, 0.5, 0.75, 0.5, 0.75]\n",
            "Número de Sisemas: 5\n",
            "Fator:  [0.06508606740734102, 0.16057937889727636, 0.1101439532860915, 0.16057937889727636, 0.16057937889727636, 0.16057937889727636, 0.1101439532860915, 0.16057937889727636, 0.1101439532860915, 0.16057937889727636]\n",
            "Media de falhas:  [0, 0.4431457274959492, 4.487119701624862, 9.283758935998453, 10.604479829734329, 12.08651953918437, 14.760434482160752, 16.751791422389456, 20.214091956779882, 22.951135882375734, 20.418608168079512]\n",
            "Custo =  3415.4620533458606\n",
            "\n",
            "=========================================================================\n",
            "\n",
            "Número de ciclos de manutenção: 11 5\n",
            "Tempos para manutenções preventivas: [0, 113, 201, 309, 381, 449, 475, 481, 523, 559, 644, 699]\n",
            "Severidade para cada subsistema: [0.75, 0.25, 0.75, 0.75, 0.75, 0.75, 0.75, 0.25, 0.75, 0.75, 0.25]\n",
            "Número de Sisemas: 5\n",
            "Fator:  [0.06508606740734102, 0.16057937889727636, 0.05667818496872001, 0.16057937889727636, 0.16057937889727636, 0.16057937889727636, 0.16057937889727636, 0.16057937889727636, 0.05667818496872001, 0.16057937889727636, 0.16057937889727636, 0.05667818496872001]\n",
            "Media de falhas:  [0, 0.8211639635914066, 2.5137315432844973, 5.6043166906894335, 8.632854209705696, 11.722923900225984, 13.02479472315301, 13.334329932104046, 15.625213692627861, 17.737806781073722, 23.95581198468989, 27.967024241470863, 21.138376552556576]\n",
            "Custo =  5873.286995943164\n",
            "\n",
            "=========================================================================\n",
            "\n",
            "Número de ciclos de manutenção: 13 5\n",
            "Tempos para manutenções preventivas: [0, 17, 167, 190, 214, 326, 389, 409, 509, 594, 607, 631, 683, 710]\n",
            "Severidade para cada subsistema: [0.5, 0.75, 0.5, 0.25, 0.75, 0.75, 0.5, 0.75, 0.5, 0.5, 0.75, 0.5, 0.25]\n",
            "Número de Sisemas: 5\n",
            "Fator:  [0.06508606740734102, 0.1101439532860915, 0.16057937889727636, 0.1101439532860915, 0.05667818496872001, 0.16057937889727636, 0.16057937889727636, 0.1101439532860915, 0.16057937889727636, 0.1101439532860915, 0.1101439532860915, 0.16057937889727636, 0.1101439532860915, 0.05667818496872001]\n",
            "Media de falhas:  [0, 0.018616218791185957, 1.7715798335941384, 2.244856578950121, 2.7737930944408227, 6.319664525055435, 9.062904400914963, 9.92738893015504, 14.978495922773803, 20.38550451512905, 21.22860119349794, 22.9298649804088, 26.85176062544344, 28.885792740660357, 20.74047083204706]\n",
            "Custo =  4771.692171405196\n",
            "\n",
            "=========================================================================\n",
            "\n",
            "Número de ciclos de manutenção: 9 5\n",
            "Tempos para manutenções preventivas: [0, 57, 171, 257, 335, 384, 477, 505, 579, 666]\n",
            "Severidade para cada subsistema: [0.25, 0.5, 0.75, 0.5, 0.75, 0.75, 0.75, 0.5, 0.5]\n",
            "Número de Sisemas: 5\n",
            "Fator:  [0.06508606740734102, 0.05667818496872001, 0.1101439532860915, 0.16057937889727636, 0.1101439532860915, 0.16057937889727636, 0.16057937889727636, 0.16057937889727636, 0.1101439532860915, 0.1101439532860915]\n",
            "Media de falhas:  [0, 0.2090658322802543, 1.825454902468294, 4.083166567779401, 6.765513091168371, 8.689639469840193, 13.326094457841538, 14.816141111090875, 19.195624580957094, 25.110287555996965, 20.36830768941207]\n",
            "Custo =  2782.284644221382\n",
            "\n",
            "=========================================================================\n",
            "\n",
            "Número de ciclos de manutenção: 12 5\n",
            "Tempos para manutenções preventivas: [0, 27, 45, 117, 168, 222, 338, 376, 407, 470, 496, 608, 632]\n",
            "Severidade para cada subsistema: [0.25, 0.25, 0.5, 0.25, 0.5, 0.25, 0.75, 0.25, 0.75, 0.75, 0.25, 0.5]\n",
            "Número de Sisemas: 5\n",
            "Fator:  [0.06508606740734102, 0.05667818496872001, 0.05667818496872001, 0.1101439532860915, 0.05667818496872001, 0.1101439532860915, 0.05667818496872001, 0.16057937889727636, 0.05667818496872001, 0.16057937889727636, 0.16057937889727636, 0.05667818496872001, 0.1101439532860915]\n",
            "Media de falhas:  [0, 0.046940223754234914, 0.12626388390559634, 0.852638229222902, 1.743334865696233, 2.9681478088681263, 6.953160640386725, 8.5139341667211, 9.987760696911312, 13.006843568994869, 14.530418149271446, 21.32326810233942, 22.932867565447914, 20.549436722898065]\n",
            "Custo =  3415.3955647222624\n",
            "\n",
            "=========================================================================\n",
            "\n",
            "Número de ciclos de manutenção: 9 5\n",
            "Tempos para manutenções preventivas: [0, 7, 37, 110, 261, 299, 368, 393, 466, 488]\n",
            "Severidade para cada subsistema: [0.25, 0.25, 0.5, 0.75, 0.75, 0.75, 0.25, 0.75, 0.75]\n",
            "Número de Sisemas: 5\n",
            "Fator:  [0.06508606740734102, 0.05667818496872001, 0.05667818496872001, 0.1101439532860915, 0.16057937889727636, 0.16057937889727636, 0.16057937889727636, 0.05667818496872001, 0.16057937889727636, 0.16057937889727636]\n",
            "Media de falhas:  [0, 0.003158837500410024, 0.08636708519533597, 0.7567286400827675, 4.2352856748955805, 5.461883587742413, 7.992313231749921, 9.024385223997584, 12.459440819122996, 13.732324541852188, 20.428685183163708]\n",
            "Custo =  3114.858010059708\n",
            "\n",
            "=========================================================================\n",
            "\n",
            "Número de ciclos de manutenção: 14 5\n",
            "Tempos para manutenções preventivas: [0, 16, 36, 84, 107, 216, 242, 276, 366, 399, 466, 484, 600, 636, 697]\n",
            "Severidade para cada subsistema: [0.25, 0.25, 0.25, 0.5, 0.75, 0.75, 0.75, 0.75, 0.25, 0.75, 0.75, 0.25, 0.25, 0.5]\n",
            "Número de Sisemas: 5\n",
            "Fator:  [0.06508606740734102, 0.05667818496872001, 0.05667818496872001, 0.05667818496872001, 0.1101439532860915, 0.16057937889727636, 0.16057937889727636, 0.16057937889727636, 0.16057937889727636, 0.05667818496872001, 0.16057937889727636, 0.16057937889727636, 0.05667818496872001, 0.05667818496872001, 0.1101439532860915]\n",
            "Media de falhas:  [0, 0.01649136718820338, 0.08074941692257007, 0.4386168485438202, 0.7069764612264912, 2.8844859804821237, 3.570061075640468, 4.531753291197663, 7.730580508290144, 9.102745280447582, 12.272976735199691, 13.309808495360567, 20.225119165740665, 22.636214583584028, 27.57296182765515, 19.989680549011233]\n",
            "Custo =  4764.94510346074\n",
            "\n",
            "=========================================================================\n",
            "\n",
            "Número de ciclos de manutenção: 11 5\n",
            "Tempos para manutenções preventivas: [0, 29, 51, 104, 214, 265, 344, 370, 469, 483, 628, 699]\n",
            "Severidade para cada subsistema: [0.25, 0.25, 0.5, 0.75, 0.5, 0.25, 0.75, 0.75, 0.75, 0.25, 0.5]\n",
            "Número de Sisemas: 5\n",
            "Fator:  [0.06508606740734102, 0.05667818496872001, 0.05667818496872001, 0.1101439532860915, 0.16057937889727636, 0.1101439532860915, 0.05667818496872001, 0.16057937889727636, 0.16057937889727636, 0.16057937889727636, 0.05667818496872001, 0.1101439532860915]\n",
            "Media de falhas:  [0, 0.054148500746399854, 0.16204591965970835, 0.6705940363807643, 2.8351672070272604, 4.250136501235257, 6.908602134576951, 7.9742950344867785, 13.04102120069054, 13.761408091182492, 22.65964872871243, 27.788299938077554, 20.03740426817706]\n",
            "Custo =  3729.636720054368\n",
            "\n",
            "=========================================================================\n",
            "\n",
            "Número de ciclos de manutenção: 9 5\n",
            "Tempos para manutenções preventivas: [0, 71, 102, 194, 247, 377, 394, 472, 488, 580]\n",
            "Severidade para cada subsistema: [0.75, 0.5, 0.75, 0.5, 0.75, 0.5, 0.75, 0.75, 0.5]\n",
            "Número de Sisemas: 5\n",
            "Fator:  [0.06508606740734102, 0.16057937889727636, 0.1101439532860915, 0.16057937889727636, 0.1101439532860915, 0.16057937889727636, 0.1101439532860915, 0.16057937889727636, 0.16057937889727636, 0.1101439532860915]\n",
            "Media de falhas:  [0, 0.32431459264415946, 0.6507269882254373, 2.207264352681552, 3.5634312226811806, 8.111471099793327, 8.862515995563438, 12.566271914288654, 13.445662916788962, 18.82822040729848, 20.10412080878989]\n",
            "Custo =  3424.9401804623494\n",
            "\n",
            "=========================================================================\n",
            "\n",
            "Número de ciclos de manutenção: 12 5\n",
            "Tempos para manutenções preventivas: [0, 5, 85, 96, 174, 216, 243, 383, 411, 476, 494, 593, 603]\n",
            "Severidade para cada subsistema: [0.5, 0.75, 0.5, 0.25, 0.5, 0.5, 0.75, 0.5, 0.75, 0.75, 0.5, 0.5]\n",
            "Número de Sisemas: 5\n",
            "Fator:  [0.06508606740734102, 0.1101439532860915, 0.16057937889727636, 0.1101439532860915, 0.05667818496872001, 0.1101439532860915, 0.1101439532860915, 0.16057937889727636, 0.1101439532860915, 0.16057937889727636, 0.16057937889727636, 0.1101439532860915, 0.1101439532860915]\n",
            "Media de falhas:  [0, 0.0016121268982905456, 0.4614023894498266, 0.5761792056107715, 1.7752737407279362, 2.72434342137393, 3.4780500739397375, 8.6256657665474, 9.901626038274555, 13.052897615651048, 14.052741936553067, 19.95326190085032, 20.59879677476407, 20.39270356613061]\n",
            "Custo =  3616.0204651658214\n",
            "\n",
            "=========================================================================\n",
            "\n",
            "Número de ciclos de manutenção: 13 5\n",
            "Tempos para manutenções preventivas: [0, 7, 95, 193, 221, 245, 278, 344, 386, 404, 479, 500, 596, 658]\n",
            "Severidade para cada subsistema: [0.5, 0.5, 0.5, 0.25, 0.5, 0.75, 0.5, 0.75, 0.5, 0.75, 0.75, 0.5, 0.25]\n",
            "Número de Sisemas: 5\n",
            "Fator:  [0.06508606740734102, 0.1101439532860915, 0.1101439532860915, 0.1101439532860915, 0.05667818496872001, 0.1101439532860915, 0.16057937889727636, 0.1101439532860915, 0.16057937889727636, 0.1101439532860915, 0.16057937889727636, 0.16057937889727636, 0.1101439532860915, 0.05667818496872001]\n",
            "Media de falhas:  [0, 0.003158837500410024, 0.5753242896812854, 2.257479400233586, 2.9258109277114084, 3.569277295240857, 4.6190683102549865, 6.99622083278552, 8.667328312191392, 9.482205811562912, 13.109857396910444, 14.287576296779907, 20.05284855519343, 24.281975938695787, 20.137984177003815]\n",
            "Custo =  4726.251976628973\n",
            "\n",
            "=========================================================================\n",
            "\n",
            "Número de ciclos de manutenção: 11 5\n",
            "Tempos para manutenções preventivas: [0, 102, 187, 245, 329, 344, 388, 479, 505, 585, 645, 661]\n",
            "Severidade para cada subsistema: [0.5, 0.5, 0.5, 0.75, 0.5, 0.75, 0.75, 0.75, 0.5, 0.5, 0.5]\n",
            "Número de Sisemas: 5\n",
            "Fator:  [0.06508606740734102, 0.1101439532860915, 0.1101439532860915, 0.1101439532860915, 0.16057937889727636, 0.1101439532860915, 0.16057937889727636, 0.16057937889727636, 0.16057937889727636, 0.1101439532860915, 0.1101439532860915, 0.1101439532860915]\n",
            "Media de falhas:  [0, 0.6691327747032365, 2.175365350162573, 3.6317039604312775, 6.437597962054781, 7.016138028595623, 8.772468719757349, 13.339099894327543, 14.724979210592727, 19.49034504547155, 23.504285065191965, 24.699648990258517, 20.332161754387275]\n",
            "Custo =  3882.1486790682334\n",
            "\n",
            "=========================================================================\n",
            "\n",
            "Número de ciclos de manutenção: 14 5\n",
            "Tempos para manutenções preventivas: [0, 50, 64, 102, 166, 187, 231, 257, 328, 387, 410, 479, 504, 615, 666]\n",
            "Severidade para cada subsistema: [0.25, 0.25, 0.5, 0.25, 0.5, 0.5, 0.5, 0.75, 0.75, 0.25, 0.75, 0.75, 0.25, 0.5]\n",
            "Número de Sisemas: 5\n",
            "Fator:  [0.06508606740734102, 0.05667818496872001, 0.05667818496872001, 0.1101439532860915, 0.05667818496872001, 0.1101439532860915, 0.1101439532860915, 0.1101439532860915, 0.16057937889727636, 0.16057937889727636, 0.05667818496872001, 0.16057937889727636, 0.16057937889727636, 0.05667818496872001, 0.1101439532860915]\n",
            "Media de falhas:  [0, 0.1608878353506686, 0.2576857722806607, 0.6455660014485469, 1.7004202369778056, 2.1274462942995913, 3.2491927735914876, 3.9793209358907524, 6.3890495163209025, 8.82447948608948, 9.818108800878628, 13.17357968477673, 14.66418114425664, 21.48488755286509, 25.03204363205691, 19.988620382906603]\n",
            "Custo =  4083.0028656710424\n",
            "\n",
            "=========================================================================\n",
            "\n",
            "Número de ciclos de manutenção: 14 5\n",
            "Tempos para manutenções preventivas: [0, 18, 44, 67, 100, 203, 262, 347, 382, 395, 476, 503, 603, 651, 660]\n",
            "Severidade para cada subsistema: [0.25, 0.25, 0.25, 0.5, 0.5, 0.5, 0.25, 0.75, 0.25, 0.75, 0.75, 0.25, 0.75, 0.5]\n",
            "Número de Sisemas: 5\n",
            "Fator:  [0.06508606740734102, 0.05667818496872001, 0.05667818496872001, 0.05667818496872001, 0.1101439532860915, 0.1101439532860915, 0.1101439532860915, 0.05667818496872001, 0.16057937889727636, 0.05667818496872001, 0.16057937889727636, 0.16057937889727636, 0.05667818496872001, 0.16057937889727636, 0.1101439532860915]\n",
            "Media de falhas:  [0, 0.020869733151874945, 0.12068827560258537, 0.2775264934316305, 0.6157696565031199, 2.546396224000673, 4.139476988380359, 7.1492706888817485, 8.616059839620622, 9.228544640397942, 13.099067205064108, 14.702578028184833, 20.766033662589315, 24.033276387264358, 24.74797034668244, 20.71127486221286]\n",
            "Custo =  4562.673114838781\n",
            "\n",
            "=========================================================================\n",
            "\n",
            "Número de ciclos de manutenção: 10 "
          ]
        },
        {
          "output_type": "stream",
          "name": "stderr",
          "text": [
            "pyswarms.single.global_best:  23%|██▎       |23/100, best_cost=2.54e+3"
          ]
        },
        {
          "output_type": "stream",
          "name": "stdout",
          "text": [
            "5\n",
            "Tempos para manutenções preventivas: [0, 8, 44, 77, 97, 164, 238, 374, 474, 499, 608]\n",
            "Severidade para cada subsistema: [0.25, 0.25, 0.25, 0.5, 0.5, 0.75, 0.75, 0.75, 0.75, 0.25]\n",
            "Número de Sisemas: 5\n",
            "Fator:  [0.06508606740734102, 0.05667818496872001, 0.05667818496872001, 0.05667818496872001, 0.1101439532860915, 0.1101439532860915, 0.16057937889727636, 0.16057937889727636, 0.16057937889727636, 0.16057937889727636, 0.05667818496872001]\n",
            "Media de falhas:  [0, 0.004125345978943973, 0.12219440749231597, 0.36842913840240343, 0.5809634147027594, 1.6575829418506423, 3.3972200756960698, 8.285189879194816, 12.959314566109047, 14.276824448244236, 20.901962613220473, 20.38184913313311]\n",
            "Custo =  2535.1658308179112\n",
            "\n",
            "=========================================================================\n",
            "\n",
            "Número de ciclos de manutenção: 10 5\n",
            "Tempos para manutenções preventivas: [0, 53, 90, 199, 238, 283, 365, 471, 491, 616, 654]\n",
            "Severidade para cada subsistema: [0.25, 0.5, 0.75, 0.5, 0.75, 0.75, 0.75, 0.75, 0.25, 0.75]\n",
            "Número de Sisemas: 5\n",
            "Fator:  [0.06508606740734102, 0.05667818496872001, 0.1101439532860915, 0.16057937889727636, 0.1101439532860915, 0.16057937889727636, 0.16057937889727636, 0.16057937889727636, 0.16057937889727636, 0.05667818496872001, 0.16057937889727636]\n",
            "Media de falhas:  [0, 0.1807643445430593, 0.5046066624198524, 2.4576372813038847, 3.4428009295406645, 4.728003836172145, 7.812452459145792, 12.705069598142256, 13.746200186503112, 21.364431539982693, 23.979819012493884, 19.890227667988743]\n",
            "Custo =  3295.2229640706187\n",
            "\n",
            "=========================================================================\n",
            "\n",
            "Número de ciclos de manutenção: 8 5\n",
            "Tempos para manutenções preventivas: [0, 75, 152, 211, 470, 483, 512, 622, 687]\n",
            "Severidade para cada subsistema: [0.5, 0.75, 0.5, 0.75, 0.75, 0.5, 0.25, 0.25]\n",
            "Número de Sisemas: 5\n",
            "Fator:  [0.06508606740734102, 0.1101439532860915, 0.16057937889727636, 0.1101439532860915, 0.16057937889727636, 0.16057937889727636, 0.1101439532860915, 0.05667818496872001, 0.05667818496872001]\n",
            "Media de falhas:  [0, 0.36186907306078353, 1.4371313566065895, 2.686429402458085, 12.886859867552483, 13.59589483436676, 15.159757573744402, 22.00672470809024, 26.896515141412397, 20.144483002166176]\n",
            "Custo =  3021.866763001215\n",
            "\n",
            "=========================================================================\n",
            "\n",
            "Número de ciclos de manutenção: 11 5\n",
            "Tempos para manutenções preventivas: [0, 5, 85, 232, 362, 471, 482, 522, 623, 654, 682, 693]\n",
            "Severidade para cada subsistema: [0.25, 0.5, 0.5, 0.75, 0.75, 0.75, 0.5, 0.25, 0.5, 0.25, 0.5]\n",
            "Número de Sisemas: 5\n",
            "Fator:  [0.06508606740734102, 0.05667818496872001, 0.1101439532860915, 0.1101439532860915, 0.16057937889727636, 0.16057937889727636, 0.16057937889727636, 0.1101439532860915, 0.05667818496872001, 0.1101439532860915, 0.05667818496872001, 0.1101439532860915]\n",
            "Media de falhas:  [0, 0.0016121268982905456, 0.4614023894498266, 3.3649050588680667, 7.89808979121365, 13.170295640604262, 13.736566333831169, 15.91753636685653, 22.254755504533122, 24.52275236168907, 26.790523905070412, 27.655262316349457, 20.405845260299944]\n",
            "Custo =  4765.509901875636\n",
            "\n",
            "=========================================================================\n",
            "\n",
            "Número de ciclos de manutenção: 13 5\n",
            "Tempos para manutenções preventivas: [0, 13, 74, 206, 212, 274, 367, 472, 483, 524, 618, 651, 686, 690]\n",
            "Severidade para cada subsistema: [0.25, 0.5, 0.75, 0.75, 0.75, 0.75, 0.75, 0.75, 0.5, 0.25, 0.5, 0.25, 0.5]\n",
            "Número de Sisemas: 5\n",
            "Fator:  [0.06508606740734102, 0.05667818496872001, 0.1101439532860915, 0.16057937889727636, 0.16057937889727636, 0.16057937889727636, 0.16057937889727636, 0.16057937889727636, 0.16057937889727636, 0.1101439532860915, 0.05667818496872001, 0.1101439532860915, 0.05667818496872001, 0.1101439532860915]\n",
            "Media de falhas:  [0, 0.01088885957302025, 0.3456518262380626, 2.64984950881583, 2.793501184417013, 4.458164544375849, 7.761483730996389, 12.623827568017655, 13.191282999199547, 15.43382302305059, 21.30986919208864, 23.709588147019257, 26.5473102197798, 26.86179104120294, 19.86157815763624]\n",
            "Custo =  7632.418494780302\n",
            "\n",
            "=========================================================================\n",
            "\n",
            "Número de ciclos de manutenção: 12 5\n",
            "Tempos para manutenções preventivas: [0, 20, 177, 184, 288, 331, 373, 395, 473, 484, 522, 610, 655]\n",
            "Severidade para cada subsistema: [0.25, 0.25, 0.75, 0.75, 0.75, 0.75, 0.25, 0.75, 0.75, 0.5, 0.25, 0.5]\n",
            "Número de Sisemas: 5\n",
            "Fator:  [0.06508606740734102, 0.05667818496872001, 0.05667818496872001, 0.16057937889727636, 0.16057937889727636, 0.16057937889727636, 0.16057937889727636, 0.05667818496872001, 0.16057937889727636, 0.16057937889727636, 0.1101439532860915, 0.05667818496872001, 0.1101439532860915]\n",
            "Media de falhas:  [0, 0.025762724712748857, 1.987692782916809, 2.1410474792189556, 5.155187140603943, 6.609415332038224, 8.221702432101655, 9.137540536334225, 12.849697932027834, 13.487696779337446, 15.562928011307218, 21.01108816205677, 24.276973768588007, 20.108521886194243]\n",
            "Custo =  6182.968301388532\n",
            "\n",
            "=========================================================================\n",
            "\n",
            "Número de ciclos de manutenção: 10 5\n",
            "Tempos para manutenções preventivas: [0, 20, 69, 153, 263, 379, 406, 475, 486, 516, 604]\n",
            "Severidade para cada subsistema: [0.25, 0.25, 0.75, 0.5, 0.75, 0.25, 0.75, 0.75, 0.5, 0.25]\n",
            "Número de Sisemas: 5\n",
            "Fator:  [0.06508606740734102, 0.05667818496872001, 0.05667818496872001, 0.16057937889727636, 0.1101439532860915, 0.16057937889727636, 0.05667818496872001, 0.16057937889727636, 0.16057937889727636, 0.1101439532860915, 0.05667818496872001]\n",
            "Media de falhas:  [0, 0.025762724712748857, 0.2981080819804208, 1.4546150247577883, 4.272047049313834, 8.426049519614, 9.642375204861244, 12.968118273771363, 13.608779603386061, 15.238186041221892, 20.629487587973554, 20.35449660900213]\n",
            "Custo =  3089.8574980176622\n",
            "\n",
            "=========================================================================\n",
            "\n",
            "Número de ciclos de manutenção: 13 5\n",
            "Tempos para manutenções preventivas: [0, 16, 55, 92, 152, 208, 257, 348, 380, 413, 475, 492, 601, 641]\n",
            "Severidade para cada subsistema: [0.25, 0.25, 0.5, 0.25, 0.5, 0.5, 0.75, 0.75, 0.25, 0.75, 0.75, 0.25, 0.75]\n",
            "Número de Sisemas: 5\n",
            "Fator:  [0.06508606740734102, 0.05667818496872001, 0.05667818496872001, 0.1101439532860915, 0.05667818496872001, 0.1101439532860915, 0.1101439532860915, 0.16057937889727636, 0.16057937889727636, 0.05667818496872001, 0.16057937889727636, 0.16057937889727636, 0.05667818496872001, 0.16057937889727636]\n",
            "Media de falhas:  [0, 0.01649136718820338, 0.18943559570419416, 0.5243671639182667, 1.425184120134432, 2.600172813381686, 3.9897324210731226, 7.195053140245327, 8.53361200045288, 9.955544364424966, 12.962795695896467, 13.959451560939561, 20.50242327700056, 23.19598738547849, 20.12123449410278]\n",
            "Custo =  3997.3738890315735\n",
            "\n",
            "=========================================================================\n",
            "\n",
            "Número de ciclos de manutenção: 10 5\n",
            "Tempos para manutenções preventivas: [0, 9, 45, 91, 262, 376, 410, 475, 496, 606, 638]\n",
            "Severidade para cada subsistema: [0.25, 0.25, 0.5, 0.5, 0.75, 0.25, 0.75, 0.75, 0.25, 0.75]\n",
            "Número de Sisemas: 5\n",
            "Fator:  [0.06508606740734102, 0.05667818496872001, 0.05667818496872001, 0.1101439532860915, 0.1101439532860915, 0.16057937889727636, 0.05667818496872001, 0.16057937889727636, 0.16057937889727636, 0.05667818496872001, 0.16057937889727636]\n",
            "Media de falhas:  [0, 0.005220602316180704, 0.12761881188261845, 0.514855601280552, 4.280148963698308, 8.528959745936234, 10.064252062383316, 13.208522526506723, 14.445073891219433, 21.102511654672853, 23.258172186172214, 20.414883477835918]\n",
            "Custo =  3092.8895974739185\n",
            "\n",
            "=========================================================================\n",
            "\n",
            "Número de ciclos de manutenção: 9 5\n",
            "Tempos para manutenções preventivas: [0, 3, 40, 72, 371, 399, 473, 498, 615, 631]\n",
            "Severidade para cada subsistema: [0.25, 0.25, 0.25, 0.75, 0.25, 0.75, 0.75, 0.25, 0.75]\n",
            "Número de Sisemas: 5\n",
            "Fator:  [0.06508606740734102, 0.05667818496872001, 0.05667818496872001, 0.05667818496872001, 0.16057937889727636, 0.05667818496872001, 0.16057937889727636, 0.16057937889727636, 0.05667818496872001, 0.16057937889727636]\n",
            "Media de falhas:  [0, 0.0005806254500704725, 0.10205886152466997, 0.3232562041248369, 8.675461340203, 9.984324065689066, 13.519006683730144, 14.991455162312837, 22.150279322843826, 23.22719592734078, 20.920010032770364]\n",
            "Custo =  3493.3848707005427\n",
            "\n",
            "=========================================================================\n",
            "\n",
            "Número de ciclos de manutenção: 8 5\n",
            "Tempos para manutenções preventivas: [0, 2, 42, 153, 367, 472, 499, 512, 622]\n",
            "Severidade para cada subsistema: [0.25, 0.25, 0.75, 0.75, 0.75, 0.75, 0.5, 0.25]\n",
            "Número de Sisemas: 5\n",
            "Fator:  [0.06508606740734102, 0.05667818496872001, 0.05667818496872001, 0.16057937889727636, 0.16057937889727636, 0.16057937889727636, 0.16057937889727636, 0.1101439532860915, 0.05667818496872001]\n",
            "Media de falhas:  [0, 0.00025814743166972695, 0.11286989508701184, 1.4703969150738727, 8.379981872298352, 13.242325709319617, 14.662884693893439, 15.37298469840788, 22.21995183275372, 20.68769825396346]\n",
            "Custo =  3339.476372095838\n",
            "\n",
            "=========================================================================\n",
            "\n",
            "Número de ciclos de manutenção: 12 5\n",
            "Tempos para manutenções preventivas: [0, 2, 48, 75, 164, 191, 291, 338, 364, 471, 498, 516, 624]\n",
            "Severidade para cada subsistema: [0.25, 0.25, 0.5, 0.25, 0.75, 0.75, 0.5, 0.75, 0.75, 0.75, 0.5, 0.25]\n",
            "Número de Sisemas: 5\n",
            "Fator:  [0.06508606740734102, 0.05667818496872001, 0.05667818496872001, 0.1101439532860915, 0.05667818496872001, 0.16057937889727636, 0.16057937889727636, 0.1101439532860915, 0.16057937889727636, 0.16057937889727636, 0.16057937889727636, 0.1101439532860915, 0.05667818496872001]\n",
            "Media de falhas:  [0, 0.00025814743166972695, 0.14750922533893737, 0.35165823890267744, 1.670289354769301, 2.223553491017566, 5.180859028692934, 6.797620884724016, 7.788616159868608, 12.97479002140189, 14.392441062716394, 15.379491368651177, 22.13463397307385, 20.460684250477687]\n",
            "Custo =  4784.757825747985\n",
            "\n",
            "=========================================================================\n",
            "\n",
            "Número de ciclos de manutenção: 11 5\n",
            "Tempos para manutenções preventivas: [0, 8, 55, 179, 196, 283, 362, 472, 495, 519, 619, 680]\n",
            "Severidade para cada subsistema: [0.25, 0.25, 0.75, 0.75, 0.75, 0.75, 0.75, 0.75, 0.5, 0.25, 0.25]\n",
            "Número de Sisemas: 5\n",
            "Fator:  [0.06508606740734102, 0.05667818496872001, 0.05667818496872001, 0.16057937889727636, 0.16057937889727636, 0.16057937889727636, 0.16057937889727636, 0.16057937889727636, 0.16057937889727636, 0.1101439532860915, 0.05667818496872001, 0.05667818496872001]\n",
            "Media de falhas:  [0, 0.004125345978943973, 0.191510701824927, 2.006900184817486, 2.394365183968315, 4.719860967490465, 7.531534826295161, 12.601462424025714, 13.805666255486633, 15.123216630073124, 21.358971356955756, 25.911316430142385, 19.734392673840304]\n",
            "Custo =  4097.515520678665\n",
            "\n",
            "=========================================================================\n",
            "\n",
            "Número de ciclos de manutenção: 10 5\n",
            "Tempos para manutenções preventivas: [0, 14, 170, 195, 277, 361, 473, 492, 519, 613, 679]\n",
            "Severidade para cada subsistema: [0.25, 0.25, 0.75, 0.75, 0.75, 0.75, 0.75, 0.5, 0.25, 0.25]\n",
            "Número de Sisemas: 5\n",
            "Fator:  [0.06508606740734102, 0.05667818496872001, 0.05667818496872001, 0.16057937889727636, 0.16057937889727636, 0.16057937889727636, 0.16057937889727636, 0.16057937889727636, 0.1101439532860915, 0.05667818496872001, 0.05667818496872001]\n",
            "Media de falhas:  [0, 0.012627680047447418, 1.8396057623305189, 2.3949944166089523, 4.764971765789795, 7.727251335839357, 12.891666602166225, 13.883614456345, 15.36233122363917, 21.187765081713675, 26.08921806894463, 19.993997791436513]\n",
            "Custo =  3699.9056409459754\n"
          ]
        },
        {
          "output_type": "stream",
          "name": "stderr",
          "text": [
            "pyswarms.single.global_best:  37%|███▋      |37/100, best_cost=2.54e+3"
          ]
        },
        {
          "output_type": "stream",
          "name": "stdout",
          "text": [
            "\n",
            "=========================================================================\n",
            "\n",
            "Número de ciclos de manutenção: 13 5\n",
            "Tempos para manutenções preventivas: [0, 17, 58, 89, 157, 186, 274, 367, 390, 475, 491, 514, 608, 681]\n",
            "Severidade para cada subsistema: [0.25, 0.25, 0.5, 0.75, 0.75, 0.75, 0.75, 0.25, 0.75, 0.75, 0.5, 0.25, 0.25]\n",
            "Número de Sisemas: 5\n",
            "Fator:  [0.06508606740734102, 0.05667818496872001, 0.05667818496872001, 0.1101439532860915, 0.16057937889727636, 0.16057937889727636, 0.16057937889727636, 0.16057937889727636, 0.05667818496872001, 0.16057937889727636, 0.16057937889727636, 0.1101439532860915, 0.05667818496872001, 0.05667818496872001]\n",
            "Media de falhas:  [0, 0.018616218791185957, 0.2106294187144688, 0.4905712602765355, 1.521713830676944, 2.0964877977054246, 4.35952610507724, 7.66284529169778, 8.60692224877035, 12.644617528692175, 13.581620243982368, 14.832889036762557, 20.60771019709369, 26.02012517903215, 19.761384228236082]\n",
            "Custo =  4428.701480917814\n",
            "\n",
            "=========================================================================\n",
            "\n",
            "Número de ciclos de manutenção: 9 5\n",
            "Tempos para manutenções preventivas: [0, 18, 151, 279, 345, 372, 401, 476, 490, 607]\n",
            "Severidade para cada subsistema: [0.25, 0.25, 0.75, 0.75, 0.75, 0.25, 0.75, 0.75, 0.25]\n",
            "Número de Sisemas: 5\n",
            "Fator:  [0.06508606740734102, 0.05667818496872001, 0.05667818496872001, 0.16057937889727636, 0.16057937889727636, 0.16057937889727636, 0.05667818496872001, 0.16057937889727636, 0.16057937889727636, 0.05667818496872001]\n",
            "Media de falhas:  [0, 0.020869733151874945, 1.4459193171626978, 4.841268775380808, 7.352316410082222, 8.403520602030659, 9.620663158950995, 13.224080015581626, 14.043855600669588, 21.10188365890224, 20.647089150864673]\n",
            "Custo =  3220.6373604304085\n",
            "\n",
            "=========================================================================\n",
            "\n",
            "Número de ciclos de manutenção: 12 5\n",
            "Tempos para manutenções preventivas: [0, 14, 83, 95, 153, 287, 347, 377, 408, 475, 489, 608, 719]\n",
            "Severidade para cada subsistema: [0.25, 0.25, 0.5, 0.75, 0.75, 0.25, 0.75, 0.25, 0.75, 0.75, 0.25, 0.25]\n",
            "Número de Sisemas: 5\n",
            "Fator:  [0.06508606740734102, 0.05667818496872001, 0.05667818496872001, 0.1101439532860915, 0.16057937889727636, 0.16057937889727636, 0.05667818496872001, 0.16057937889727636, 0.05667818496872001, 0.16057937889727636, 0.16057937889727636, 0.05667818496872001, 0.05667818496872001]\n",
            "Media de falhas:  [0, 0.012627680047447418, 0.43506291930829105, 0.5651429465690421, 1.4495662270359735, 4.947405918116436, 7.035555113904745, 8.215798665665133, 9.693377533043764, 12.928558524792702, 13.746639812466032, 20.927768837565818, 28.991520324044266, 19.539464081351667]\n",
            "Custo =  4354.402379488408\n",
            "\n",
            "=========================================================================\n",
            "\n",
            "Número de ciclos de manutenção: 11 5\n",
            "Tempos para manutenções preventivas: [0, 11, 65, 97, 158, 295, 346, 376, 408, 474, 487, 609]\n",
            "Severidade para cada subsistema: [0.25, 0.25, 0.5, 0.25, 0.75, 0.75, 0.75, 0.25, 0.75, 0.75, 0.25]\n",
            "Número de Sisemas: 5\n",
            "Fator:  [0.06508606740734102, 0.05667818496872001, 0.05667818496872001, 0.1101439532860915, 0.05667818496872001, 0.16057937889727636, 0.16057937889727636, 0.16057937889727636, 0.05667818496872001, 0.16057937889727636, 0.16057937889727636, 0.05667818496872001]\n",
            "Media de falhas:  [0, 0.007797306719746586, 0.266866721410556, 0.585047009521704, 1.5417500026296276, 5.222536416546562, 7.212592464273857, 8.38960414275527, 9.752606153918782, 12.935266595588237, 13.692506325345887, 21.051872234226984, 20.46635270047348]\n",
            "Custo =  3703.8947842749367\n",
            "\n",
            "=========================================================================\n",
            "\n",
            "Número de ciclos de manutenção: 11 5\n",
            "Tempos para manutenções preventivas: [0, 8, 65, 91, 161, 375, 399, 473, 485, 511, 613, 665]\n",
            "Severidade para cada subsistema: [0.25, 0.25, 0.5, 0.75, 0.75, 0.25, 0.75, 0.75, 0.5, 0.25, 0.5]\n",
            "Número de Sisemas: 5\n",
            "Fator:  [0.06508606740734102, 0.05667818496872001, 0.05667818496872001, 0.1101439532860915, 0.16057937889727636, 0.16057937889727636, 0.05667818496872001, 0.16057937889727636, 0.16057937889727636, 0.1101439532860915, 0.05667818496872001, 0.1101439532860915]\n",
            "Media de falhas:  [0, 0.004125345978943973, 0.2680214353925656, 0.5165208711210875, 1.6039446022157957, 8.484372770290804, 9.49171949850432, 13.026402116545398, 13.723170617385636, 15.125851087410837, 21.411533793819288, 25.22659631906001, 20.26328451335067]\n",
            "Custo =  4002.7348217155604\n",
            "\n",
            "=========================================================================\n",
            "\n",
            "Número de ciclos de manutenção: 9 5\n",
            "Tempos para manutenções preventivas: [0, 7, 81, 165, 373, 471, 487, 517, 615, 665]\n",
            "Severidade para cada subsistema: [0.25, 0.25, 0.25, 0.75, 0.75, 0.75, 0.5, 0.25, 0.5]\n",
            "Número de Sisemas: 5\n",
            "Fator:  [0.06508606740734102, 0.05667818496872001, 0.05667818496872001, 0.05667818496872001, 0.16057937889727636, 0.16057937889727636, 0.16057937889727636, 0.1101439532860915, 0.05667818496872001, 0.1101439532860915]\n",
            "Media de falhas:  [0, 0.003158837500410024, 0.4177208034324378, 1.6963691059555541, 8.634370173022361, 13.679214841630804, 14.508013545794524, 16.14065093596735, 22.218012491005467, 25.891342496790173, 20.92803069108083]\n",
            "Custo =  3135.5733111443783\n",
            "\n",
            "=========================================================================\n",
            "\n",
            "Número de ciclos de manutenção: 8 5\n",
            "Tempos para manutenções preventivas: [0, 7, 162, 186, 370, 470, 491, 521, 615]\n",
            "Severidade para cada subsistema: [0.25, 0.75, 0.75, 0.75, 0.75, 0.75, 0.5, 0.25]\n",
            "Número de Sisemas: 5\n",
            "Fator:  [0.06508606740734102, 0.05667818496872001, 0.16057937889727636, 0.16057937889727636, 0.16057937889727636, 0.16057937889727636, 0.16057937889727636, 0.1101439532860915, 0.05667818496872001]\n",
            "Media de falhas:  [0, 0.003158837500410024, 1.678122848545725, 2.1864988271853116, 8.05200709178229, 12.683046417892971, 13.77531898332837, 15.420880126875264, 21.26655895555938, 20.22709142527352]\n",
            "Custo =  3036.9717804738602\n",
            "\n",
            "=========================================================================\n",
            "\n",
            "Número de ciclos de manutenção: 13 5\n",
            "Tempos para manutenções preventivas: [0, 8, 62, 179, 194, 232, 348, 368, 470, 494, 523, 614, 652, 691]\n",
            "Severidade para cada subsistema: [0.25, 0.5, 0.25, 0.75, 0.5, 0.75, 0.75, 0.75, 0.75, 0.5, 0.25, 0.5, 0.5]\n",
            "Número de Sisemas: 5\n",
            "Fator:  [0.06508606740734102, 0.05667818496872001, 0.1101439532860915, 0.05667818496872001, 0.16057937889727636, 0.1101439532860915, 0.16057937889727636, 0.16057937889727636, 0.16057937889727636, 0.16057937889727636, 0.1101439532860915, 0.05667818496872001, 0.1101439532860915, 0.1101439532860915]\n",
            "Media de falhas:  [0, 0.004125345978943973, 0.24371875053143616, 2.0032737359393016, 2.3247957639856924, 3.311156226252812, 7.077714378664971, 7.898914075695671, 12.61368858433546, 13.86661905374409, 15.464837502766047, 21.126040398232274, 23.884189183057543, 27.06094467525203, 20.408998947129863]\n",
            "Custo =  5226.509411043996\n",
            "\n",
            "=========================================================================\n",
            "\n",
            "Número de ciclos de manutenção: 14 5\n",
            "Tempos para manutenções preventivas: [0, 10, 57, 77, 196, 217, 299, 334, 367, 471, 495, 519, 611, 651, 675]\n",
            "Severidade para cada subsistema: [0.25, 0.25, 0.5, 0.75, 0.25, 0.75, 0.25, 0.75, 0.75, 0.75, 0.5, 0.25, 0.5, 0.25]\n",
            "Número de Sisemas: 5\n",
            "Fator:  [0.06508606740734102, 0.05667818496872001, 0.05667818496872001, 0.1101439532860915, 0.16057937889727636, 0.05667818496872001, 0.16057937889727636, 0.05667818496872001, 0.16057937889727636, 0.16057937889727636, 0.16057937889727636, 0.1101439532860915, 0.05667818496872001, 0.1101439532860915, 0.05667818496872001]\n",
            "Media de falhas:  [0, 0.006444593197609683, 0.20513193887106668, 0.369179872783096, 2.3903714359540564, 2.889381194911221, 5.240479324822656, 6.5872189795083385, 7.845623209605989, 13.163840321673115, 14.419355642431814, 15.736906017018304, 21.426592455457058, 24.321340790591826, 26.250277623701788, 20.827910522392088]\n",
            "Custo =  4583.555708392098\n",
            "\n",
            "=========================================================================\n",
            "\n",
            "Número de ciclos de manutenção: 14 5\n",
            "Tempos para manutenções preventivas: [0, 12, 47, 91, 172, 195, 216, 291, 369, 395, 473, 495, 514, 611, 664]\n",
            "Severidade para cada subsistema: [0.25, 0.25, 0.5, 0.25, 0.75, 0.25, 0.75, 0.75, 0.25, 0.75, 0.75, 0.5, 0.25, 0.25]\n",
            "Número de Sisemas: 5\n",
            "Fator:  [0.06508606740734102, 0.05667818496872001, 0.05667818496872001, 0.1101439532860915, 0.05667818496872001, 0.16057937889727636, 0.05667818496872001, 0.16057937889727636, 0.16057937889727636, 0.05667818496872001, 0.16057937889727636, 0.16057937889727636, 0.1101439532860915, 0.05667818496872001, 0.05667818496872001]\n",
            "Media de falhas:  [0, 0.009278732119191772, 0.13865250020622974, 0.5140670514855612, 1.829586980980829, 2.316004236308492, 2.8407250211841575, 4.949341069943782, 8.090318951597574, 9.16814294523166, 12.880300340925269, 14.171821395912849, 15.20878789861818, 21.186577095030437, 25.066306463864553, 20.182992383665507]\n",
            "Custo =  4512.975843756349\n",
            "\n",
            "=========================================================================\n",
            "\n",
            "Número de ciclos de manutenção: 13 5\n",
            "Tempos para manutenções preventivas: [0, 13, 42, 93, 189, 287, 330, 372, 410, 474, 491, 613, 647, 676]\n",
            "Severidade para cada subsistema: [0.25, 0.25, 0.5, 0.75, 0.75, 0.25, 0.75, 0.25, 0.75, 0.75, 0.25, 0.75, 0.25]\n",
            "Número de Sisemas: 5\n",
            "Fator:  [0.06508606740734102, 0.05667818496872001, 0.05667818496872001, 0.1101439532860915, 0.16057937889727636, 0.16057937889727636, 0.05667818496872001, 0.16057937889727636, 0.05667818496872001, 0.16057937889727636, 0.16057937889727636, 0.05667818496872001, 0.16057937889727636, 0.05667818496872001]\n",
            "Media de falhas:  [0, 0.01088885957302025, 0.11038388348125627, 0.5375471365859779, 2.2124075881176877, 4.947124685806416, 6.396719907376574, 8.004482285676673, 9.80977557128644, 12.901566691539461, 13.89616519760381, 21.30808309689838, 23.62846101464231, 25.954523697557345, 20.78843333560677]\n",
            "Custo =  4484.892396490555\n",
            "\n",
            "=========================================================================\n",
            "\n",
            "Número de ciclos de manutenção: 11 5\n",
            "Tempos para manutenções preventivas: [0, 13, 42, 95, 151, 181, 288, 340, 375, 475, 488, 615]\n",
            "Severidade para cada subsistema: [0.25, 0.25, 0.5, 0.25, 0.75, 0.75, 0.75, 0.75, 0.75, 0.75, 0.25]\n",
            "Número de Sisemas: 5\n",
            "Fator:  [0.06508606740734102, 0.05667818496872001, 0.05667818496872001, 0.1101439532860915, 0.05667818496872001, 0.16057937889727636, 0.16057937889727636, 0.16057937889727636, 0.16057937889727636, 0.16057937889727636, 0.16057937889727636, 0.05667818496872001]\n",
            "Media de falhas:  [0, 0.01088885957302025, 0.11038388348125627, 0.5611090471953155, 1.4078425357966857, 1.9837935076173947, 5.066609786765134, 6.855245248056229, 8.217031722977826, 12.901927695209354, 13.57842523027157, 21.293811151875314, 20.31402658950608]\n",
            "Custo =  3841.9251147050513\n",
            "\n",
            "=========================================================================\n",
            "\n",
            "Número de ciclos de manutenção: 11 5\n",
            "Tempos para manutenções preventivas: [0, 11, 46, 95, 215, 294, 377, 413, 475, 484, 615, 660]\n",
            "Severidade para cada subsistema: [0.25, 0.25, 0.5, 0.75, 0.75, 0.75, 0.25, 0.75, 0.75, 0.25, 0.5]\n",
            "Número de Sisemas: 5\n",
            "Fator:  [0.06508606740734102, 0.05667818496872001, 0.05667818496872001, 0.1101439532860915, 0.16057937889727636, 0.16057937889727636, 0.16057937889727636, 0.05667818496872001, 0.16057937889727636, 0.16057937889727636, 0.05667818496872001, 0.1101439532860915]\n",
            "Media de falhas:  [0, 0.007797306719746586, 0.1329625777267831, 0.5608386574664054, 2.8684019604223705, 5.211216284369671, 8.284921766525589, 9.831416458252564, 12.838667789724065, 13.361690605724247, 21.29726246272443, 24.409789363107823, 19.84532900262987]\n",
            "Custo =  4154.316227129914\n",
            "\n",
            "=========================================================================\n",
            "\n",
            "Número de ciclos de manutenção: 10 5\n",
            "Tempos para manutenções preventivas: [0, 8, 51, 80, 93, 374, 405, 474, 480, 615, 678]\n",
            "Severidade para cada subsistema: [0.25, 0.25, 0.5, 0.5, 0.75, 0.25, 0.75, 0.75, 0.25, 0.5]\n",
            "Número de Sisemas: 5\n",
            "Fator:  [0.06508606740734102, 0.05667818496872001, 0.05667818496872001, 0.1101439532860915, 0.1101439532860915, 0.16057937889727636, 0.05667818496872001, 0.16057937889727636, 0.16057937889727636, 0.05667818496872001, 0.1101439532860915]\n",
            "Media de falhas:  [0, 0.004125345978943973, 0.16450518177687787, 0.39805072271407815, 0.535079009265573, 8.595135626872052, 9.981914387280284, 13.300225466017789, 13.64702656975659, 21.801390764169106, 26.231658101564854, 20.218027587003487]\n",
            "Custo =  4690.179658044208\n"
          ]
        },
        {
          "output_type": "stream",
          "name": "stderr",
          "text": [
            "pyswarms.single.global_best:  52%|█████▏    |52/100, best_cost=2.54e+3"
          ]
        },
        {
          "output_type": "stream",
          "name": "stdout",
          "text": [
            "\n",
            "=========================================================================\n",
            "\n",
            "Número de ciclos de manutenção: 10 5\n",
            "Tempos para manutenções preventivas: [0, 6, 55, 72, 343, 369, 390, 473, 486, 613, 678]\n",
            "Severidade para cada subsistema: [0.25, 0.25, 0.5, 0.25, 0.75, 0.25, 0.75, 0.75, 0.25, 0.5]\n",
            "Número de Sisemas: 5\n",
            "Fator:  [0.06508606740734102, 0.05667818496872001, 0.05667818496872001, 0.1101439532860915, 0.05667818496872001, 0.16057937889727636, 0.05667818496872001, 0.16057937889727636, 0.16057937889727636, 0.05667818496872001, 0.1101439532860915]\n",
            "Media de falhas:  [0, 0.002321091987145075, 0.19219696807993983, 0.32423873806388703, 7.407294815358848, 8.470018573823609, 9.437150360246893, 13.369191134889308, 14.124857581243685, 21.81289065892545, 26.378141297933016, 20.36451078337165]\n",
            "Custo =  4021.115975557298\n",
            "\n",
            "=========================================================================\n",
            "\n",
            "Número de ciclos de manutenção: 10 5\n",
            "Tempos para manutenções preventivas: [0, 5, 55, 354, 365, 472, 496, 513, 613, 644, 665]\n",
            "Severidade para cada subsistema: [0.25, 0.25, 0.5, 0.75, 0.75, 0.75, 0.5, 0.25, 0.5, 0.5]\n",
            "Número de Sisemas: 5\n",
            "Fator:  [0.06508606740734102, 0.05667818496872001, 0.05667818496872001, 0.1101439532860915, 0.16057937889727636, 0.16057937889727636, 0.16057937889727636, 0.1101439532860915, 0.05667818496872001, 0.1101439532860915, 0.1101439532860915]\n",
            "Media de falhas:  [0, 0.0016121268982905456, 0.19256523400497427, 7.929144803019657, 8.408706778653336, 13.607098008798861, 14.865198176240318, 15.79266008278844, 21.963803147249102, 24.19641648627538, 25.862410852047976, 21.195529528352573]\n",
            "Custo =  4725.84406467856\n",
            "\n",
            "=========================================================================\n",
            "\n",
            "Número de ciclos de manutenção: 9 5\n",
            "Tempos para manutenções preventivas: [0, 7, 58, 175, 364, 472, 503, 527, 613, 655]\n",
            "Severidade para cada subsistema: [0.25, 0.25, 0.5, 0.75, 0.75, 0.75, 0.5, 0.25, 0.5]\n",
            "Número de Sisemas: 5\n",
            "Fator:  [0.06508606740734102, 0.05667818496872001, 0.05667818496872001, 0.1101439532860915, 0.16057937889727636, 0.16057937889727636, 0.16057937889727636, 0.1101439532860915, 0.05667818496872001, 0.1101439532860915]\n",
            "Media de falhas:  [0, 0.003158837500410024, 0.21347428307097147, 1.916320696569908, 8.218968470349838, 13.460539918275565, 15.099506870538391, 16.437735021039014, 21.797345995301168, 24.85180676247544, 20.683354880081676]\n",
            "Custo =  2815.153280828137\n",
            "\n",
            "=========================================================================\n",
            "\n",
            "Número de ciclos de manutenção: 13 5\n",
            "Tempos para manutenções preventivas: [0, 9, 76, 182, 218, 291, 365, 392, 472, 504, 530, 613, 633, 679]\n",
            "Severidade para cada subsistema: [0.25, 0.25, 0.75, 0.25, 0.75, 0.75, 0.25, 0.75, 0.75, 0.5, 0.25, 0.75, 0.25]\n",
            "Número de Sisemas: 5\n",
            "Fator:  [0.06508606740734102, 0.05667818496872001, 0.05667818496872001, 0.16057937889727636, 0.05667818496872001, 0.16057937889727636, 0.16057937889727636, 0.05667818496872001, 0.16057937889727636, 0.16057937889727636, 0.1101439532860915, 0.05667818496872001, 0.16057937889727636, 0.05667818496872001]\n",
            "Media de falhas:  [0, 0.005220602316180704, 0.3665327480328651, 2.0655964103668984, 2.943101404855566, 5.001849854416651, 7.962759002955934, 9.072135985269087, 12.863891165406798, 14.759121095965074, 16.215004065032193, 21.398494417796865, 22.824780536368987, 26.486629097248894, 21.106295596089282]\n",
            "Custo =  4541.6579901687055\n",
            "\n",
            "=========================================================================\n",
            "\n",
            "Número de ciclos de manutenção: 14 5\n",
            "Tempos para manutenções preventivas: [0, 11, 58, 80, 175, 187, 285, 358, 368, 404, 472, 505, 525, 614, 663]\n",
            "Severidade para cada subsistema: [0.25, 0.25, 0.25, 0.75, 0.75, 0.75, 0.75, 0.75, 0.25, 0.75, 0.75, 0.5, 0.25, 0.25]\n",
            "Número de Sisemas: 5\n",
            "Fator:  [0.06508606740734102, 0.05667818496872001, 0.05667818496872001, 0.05667818496872001, 0.16057937889727636, 0.16057937889727636, 0.16057937889727636, 0.16057937889727636, 0.16057937889727636, 0.05667818496872001, 0.16057937889727636, 0.16057937889727636, 0.1101439532860915, 0.05667818496872001, 0.05667818496872001]\n",
            "Media de falhas:  [0, 0.007797306719746586, 0.21213537743276573, 0.39808227965494153, 1.8997668568539876, 2.163605671971496, 4.757272889524023, 7.343024449114081, 7.735455545319078, 9.247048388208835, 12.505581109426963, 14.462153758321598, 15.576519840716688, 21.121051630354582, 24.71217970336595, 19.908749630596024]\n",
            "Custo =  6032.35654528032\n",
            "\n",
            "=========================================================================\n",
            "\n",
            "Número de ciclos de manutenção: 15 5\n",
            "Tempos para manutenções preventivas: [0, 13, 56, 88, 96, 186, 226, 283, 346, 370, 409, 472, 499, 513, 614, 664]\n",
            "Severidade para cada subsistema: [0.25, 0.25, 0.25, 0.5, 0.75, 0.25, 0.75, 0.75, 0.75, 0.25, 0.75, 0.75, 0.5, 0.25, 0.25]\n",
            "Número de Sisemas: 5\n",
            "Fator:  [0.06508606740734102, 0.05667818496872001, 0.05667818496872001, 0.05667818496872001, 0.1101439532860915, 0.16057937889727636, 0.05667818496872001, 0.16057937889727636, 0.16057937889727636, 0.16057937889727636, 0.05667818496872001, 0.16057937889727636, 0.16057937889727636, 0.1101439532860915, 0.05667818496872001, 0.05667818496872001]\n",
            "Media de falhas:  [0, 0.01088885957302025, 0.19711905323851178, 0.4803890360244585, 0.5699013431094634, 2.1381211777446714, 3.091703630057217, 4.689821901684668, 7.10511199195631, 8.037481107167082, 9.690949513854012, 12.723603872143332, 14.31404452680083, 15.079665706355001, 21.31899848466912, 24.986621526626408, 20.10330744642736]\n",
            "Custo =  5196.678785727061\n",
            "\n",
            "=========================================================================\n",
            "\n",
            "Número de ciclos de manutenção: 12 5\n",
            "Tempos para manutenções preventivas: [0, 14, 51, 103, 186, 282, 372, 406, 473, 494, 612, 647, 684]\n",
            "Severidade para cada subsistema: [0.25, 0.25, 0.5, 0.75, 0.75, 0.75, 0.25, 0.75, 0.75, 0.25, 0.75, 0.25]\n",
            "Número de Sisemas: 5\n",
            "Fator:  [0.06508606740734102, 0.05667818496872001, 0.05667818496872001, 0.1101439532860915, 0.16057937889727636, 0.16057937889727636, 0.16057937889727636, 0.05667818496872001, 0.16057937889727636, 0.16057937889727636, 0.05667818496872001, 0.16057937889727636, 0.05667818496872001]\n",
            "Media de falhas:  [0, 0.012627680047447418, 0.1630491615690949, 0.6586614118561431, 2.1379917052067365, 4.77167431264599, 8.0286800995545, 9.466582684052428, 12.68733054524373, 13.918799037827617, 21.09554983687876, 23.482650267261697, 26.469367272146556, 20.73022041777115]\n",
            "Custo =  3968.2187379522843\n",
            "\n",
            "=========================================================================\n",
            "\n",
            "Número de ciclos de manutenção: 11 5\n",
            "Tempos para manutenções preventivas: [0, 15, 51, 100, 221, 289, 339, 373, 400, 474, 487, 611]\n",
            "Severidade para cada subsistema: [0.25, 0.25, 0.5, 0.5, 0.75, 0.5, 0.75, 0.25, 0.75, 0.75, 0.25]\n",
            "Número de Sisemas: 5\n",
            "Fator:  [0.06508606740734102, 0.05667818496872001, 0.05667818496872001, 0.1101439532860915, 0.1101439532860915, 0.16057937889727636, 0.1101439532860915, 0.16057937889727636, 0.05667818496872001, 0.16057937889727636, 0.16057937889727636, 0.05667818496872001]\n",
            "Media de falhas:  [0, 0.014495185180345305, 0.16286510192956646, 0.620440535683483, 3.0282919105564874, 5.043489625571992, 6.855841195882106, 8.172874933885856, 9.370702015332167, 12.913355222608011, 13.670594952365661, 21.166513476954567, 20.449920591543787]\n",
            "Custo =  3566.722425428298\n",
            "\n",
            "=========================================================================\n",
            "\n",
            "Número de ciclos de manutenção: 10 5\n",
            "Tempos para manutenções preventivas: [0, 12, 47, 155, 294, 372, 391, 474, 481, 611, 657]\n",
            "Severidade para cada subsistema: [0.25, 0.25, 0.75, 0.75, 0.75, 0.25, 0.75, 0.75, 0.25, 0.5]\n",
            "Número de Sisemas: 5\n",
            "Fator:  [0.06508606740734102, 0.05667818496872001, 0.05667818496872001, 0.16057937889727636, 0.16057937889727636, 0.16057937889727636, 0.05667818496872001, 0.16057937889727636, 0.16057937889727636, 0.05667818496872001, 0.1101439532860915]\n",
            "Media de falhas:  [0, 0.009278732119191772, 0.13865250020622974, 1.5041242356887676, 5.356733798118107, 8.220250067913687, 9.005496993800199, 12.946477821804361, 13.35152813725879, 21.176186009823493, 24.341018070263882, 20.014503953907667]\n",
            "Custo =  4303.831339489577\n",
            "\n",
            "=========================================================================\n",
            "\n",
            "Número de ciclos de manutenção: 10 5\n",
            "Tempos para manutenções preventivas: [0, 10, 48, 223, 298, 334, 371, 474, 614, 657, 667]\n",
            "Severidade para cada subsistema: [0.25, 0.25, 0.75, 0.75, 0.5, 0.75, 0.75, 0.25, 0.5, 0.5]\n",
            "Número de Sisemas: 5\n",
            "Fator:  [0.06508606740734102, 0.05667818496872001, 0.05667818496872001, 0.16057937889727636, 0.16057937889727636, 0.1101439532860915, 0.16057937889727636, 0.16057937889727636, 0.05667818496872001, 0.1101439532860915, 0.1101439532860915]\n",
            "Media de falhas:  [0, 0.006444593197609683, 0.14509857252665914, 3.1317969781941546, 5.520056321843895, 6.760164801507318, 8.180599908360165, 13.228790782065339, 21.639609142662536, 24.603655736343516, 25.405660719694446, 20.58848230211493]\n",
            "Custo =  3305.3907175966456\n",
            "\n",
            "=========================================================================\n",
            "\n",
            "Número de ciclos de manutenção: 11 5\n",
            "Tempos para manutenções preventivas: [0, 9, 50, 219, 263, 369, 473, 480, 522, 616, 659, 665]\n",
            "Severidade para cada subsistema: [0.25, 0.25, 0.75, 0.5, 0.75, 0.75, 0.75, 0.5, 0.25, 0.5, 0.5]\n",
            "Número de Sisemas: 5\n",
            "Fator:  [0.06508606740734102, 0.05667818496872001, 0.05667818496872001, 0.16057937889727636, 0.1101439532860915, 0.16057937889727636, 0.16057937889727636, 0.16057937889727636, 0.1101439532860915, 0.05667818496872001, 0.1101439532860915, 0.1101439532860915]\n",
            "Media de falhas:  [0, 0.005220602316180704, 0.1577989719806881, 3.017942862317588, 4.31020080797794, 8.038078340300508, 13.118203316665074, 13.478268951527555, 15.76462938699674, 21.6204306778467, 24.76509848057862, 25.246214240877137, 20.579332917181734]\n",
            "Custo =  5302.0526760386565\n",
            "\n",
            "=========================================================================\n",
            "\n",
            "Número de ciclos de manutenção: 9 5\n",
            "Tempos para manutenções preventivas: [0, 9, 52, 262, 367, 391, 472, 484, 533, 615]\n",
            "Severidade para cada subsistema: [0.25, 0.25, 0.5, 0.75, 0.25, 0.75, 0.75, 0.5, 0.25]\n",
            "Número de Sisemas: 5\n",
            "Fator:  [0.06508606740734102, 0.05667818496872001, 0.05667818496872001, 0.1101439532860915, 0.16057937889727636, 0.05667818496872001, 0.16057937889727636, 0.16057937889727636, 0.1101439532860915, 0.05667818496872001]\n",
            "Media de falhas:  [0, 0.005220602316180704, 0.1707708501176145, 4.3284646089660885, 8.369975823073602, 9.413647903535049, 13.249272040807767, 13.94458827599277, 16.65512059044854, 21.79739025424164, 20.757922723955783]\n",
            "Custo =  3201.547688975424\n",
            "\n",
            "=========================================================================\n",
            "\n",
            "Número de ciclos de manutenção: 15 5\n",
            "Tempos para manutenções preventivas: [0, 11, 57, 85, 160, 212, 265, 298, 355, 368, 393, 472, 493, 535, 615, 688]\n",
            "Severidade para cada subsistema: [0.25, 0.25, 0.25, 0.75, 0.5, 0.5, 0.75, 0.75, 0.75, 0.25, 0.75, 0.75, 0.5, 0.25, 0.25]\n",
            "Número de Sisemas: 5\n",
            "Fator:  [0.06508606740734102, 0.05667818496872001, 0.05667818496872001, 0.05667818496872001, 0.16057937889727636, 0.1101439532860915, 0.1101439532860915, 0.16057937889727636, 0.16057937889727636, 0.16057937889727636, 0.05667818496872001, 0.16057937889727636, 0.16057937889727636, 0.1101439532860915, 0.05667818496872001, 0.05667818496872001]\n",
            "Media de falhas:  [0, 0.007797306719746586, 0.2048307022578637, 0.4488902680073983, 1.5835441135034753, 2.765902809256789, 4.158303667321671, 5.227994908316686, 7.378268420749366, 7.886729973558002, 8.918801965805665, 12.666601073026555, 13.895528122651598, 16.240691176921008, 21.264506682174474, 26.735246069094288, 19.900600729556558]\n",
            "Custo =  5456.933911165892\n",
            "\n",
            "=========================================================================\n",
            "\n",
            "Número de ciclos de manutenção: 17 5\n",
            "Tempos para manutenções preventivas: [0, 11, 59, 92, 176, 188, 233, 269, 296, 356, 370, 398, 472, 500, 530, 615, 645, 679]\n",
            "Severidade para cada subsistema: [0.25, 0.25, 0.5, 0.25, 0.75, 0.25, 0.5, 0.75, 0.75, 0.75, 0.25, 0.75, 0.75, 0.5, 0.25, 0.75, 0.25]\n",
            "Número de Sisemas: 5\n",
            "Fator:  [0.06508606740734102, 0.05667818496872001, 0.05667818496872001, 0.1101439532860915, 0.05667818496872001, 0.16057937889727636, 0.05667818496872001, 0.1101439532860915, 0.16057937889727636, 0.16057937889727636, 0.16057937889727636, 0.05667818496872001, 0.16057937889727636, 0.16057937889727636, 0.1101439532860915, 0.05667818496872001, 0.16057937889727636, 0.05667818496872001]\n",
            "Media de falhas:  [0, 0.007797306719746586, 0.21956857848671335, 0.5258117119485586, 1.9164134894898985, 2.1672063158112174, 3.3227855371785466, 4.310754548030656, 5.237738777500869, 7.499030310971825, 8.049010858981932, 9.216353882427919, 12.743065895423094, 14.394207829035038, 16.068847093216608, 21.388144802992972, 23.553662798629485, 26.28344537966763, 20.903111878508014]\n",
            "Custo =  7092.502487004064\n"
          ]
        },
        {
          "output_type": "stream",
          "name": "stderr",
          "text": [
            "pyswarms.single.global_best:  66%|██████▌   |66/100, best_cost=2.54e+3"
          ]
        },
        {
          "output_type": "stream",
          "name": "stdout",
          "text": [
            "\n",
            "=========================================================================\n",
            "\n",
            "Número de ciclos de manutenção: 15 5\n",
            "Tempos para manutenções preventivas: [0, 12, 102, 175, 192, 223, 295, 346, 371, 398, 473, 502, 524, 613, 643, 684]\n",
            "Severidade para cada subsistema: [0.25, 0.5, 0.75, 0.75, 0.25, 0.75, 0.5, 0.75, 0.25, 0.75, 0.75, 0.5, 0.25, 0.75, 0.25]\n",
            "Número de Sisemas: 5\n",
            "Fator:  [0.06508606740734102, 0.05667818496872001, 0.1101439532860915, 0.16057937889727636, 0.16057937889727636, 0.05667818496872001, 0.16057937889727636, 0.1101439532860915, 0.16057937889727636, 0.05667818496872001, 0.16057937889727636, 0.16057937889727636, 0.1101439532860915, 0.05667818496872001, 0.16057937889727636, 0.05667818496872001]\n",
            "Media de falhas:  [0, 0.009278732119191772, 0.660097146166106, 1.9054777328335348, 2.264282338955118, 2.9681056899197253, 5.0328244624756815, 7.022880510202976, 7.99570255227656, 9.187363376954082, 12.766545361477053, 14.482026447497363, 15.703543728612122, 21.23849148661063, 23.39716101625365, 26.69744138397895, 20.958294529603542]\n",
            "Custo =  5808.058877963182\n",
            "\n",
            "=========================================================================\n",
            "\n",
            "Número de ciclos de manutenção: 13 5\n",
            "Tempos para manutenções preventivas: [0, 11, 107, 166, 185, 211, 297, 337, 372, 398, 473, 499, 518, 610]\n",
            "Severidade para cada subsistema: [0.25, 0.5, 0.25, 0.75, 0.25, 0.75, 0.25, 0.75, 0.25, 0.75, 0.75, 0.5, 0.25]\n",
            "Número de Sisemas: 5\n",
            "Fator:  [0.06508606740734102, 0.05667818496872001, 0.1101439532860915, 0.05667818496872001, 0.16057937889727636, 0.05667818496872001, 0.16057937889727636, 0.05667818496872001, 0.16057937889727636, 0.05667818496872001, 0.16057937889727636, 0.16057937889727636, 0.1101439532860915, 0.05667818496872001]\n",
            "Media de falhas:  [0, 0.007797306719746586, 0.7274763810442719, 1.7167182212138967, 2.10063534792826, 2.727145369065967, 5.159406180423769, 6.701685699086294, 8.052160478396681, 9.267343951895079, 12.84652593641805, 14.379540134196219, 15.424691659358466, 21.104470944332192, 20.41399299532919]\n",
            "Custo =  4284.659949358895\n",
            "\n",
            "=========================================================================\n",
            "\n",
            "Número de ciclos de manutenção: 12 5\n",
            "Tempos para manutenções preventivas: [0, 10, 62, 109, 154, 295, 373, 396, 474, 491, 513, 607, 659]\n",
            "Severidade para cada subsistema: [0.25, 0.5, 0.5, 0.75, 0.75, 0.75, 0.25, 0.75, 0.75, 0.5, 0.25, 0.5]\n",
            "Número de Sisemas: 5\n",
            "Fator:  [0.06508606740734102, 0.05667818496872001, 0.1101439532860915, 0.1101439532860915, 0.16057937889727636, 0.16057937889727636, 0.16057937889727636, 0.05667818496872001, 0.16057937889727636, 0.16057937889727636, 0.1101439532860915, 0.05667818496872001, 0.1101439532860915]\n",
            "Media de falhas:  [0, 0.006444593197609683, 0.24298237947768012, 0.7385088327436347, 1.4297808026578096, 5.189803174463982, 8.061722823556948, 9.020665722188138, 12.741224578116597, 13.735823084180947, 14.931277587345667, 20.69597616141484, 24.475427066995202, 19.990395840112182]\n",
            "Custo =  4053.9444202329705\n",
            "\n",
            "=========================================================================\n",
            "\n",
            "Número de ciclos de manutenção: 12 5\n",
            "Tempos para manutenções preventivas: [0, 10, 103, 152, 291, 330, 372, 390, 474, 485, 513, 608, 643]\n",
            "Severidade para cada subsistema: [0.25, 0.5, 0.25, 0.75, 0.25, 0.75, 0.25, 0.75, 0.75, 0.5, 0.25, 0.5]\n",
            "Número de Sisemas: 5\n",
            "Fator:  [0.06508606740734102, 0.05667818496872001, 0.1101439532860915, 0.05667818496872001, 0.16057937889727636, 0.05667818496872001, 0.16057937889727636, 0.05667818496872001, 0.16057937889727636, 0.16057937889727636, 0.1101439532860915, 0.05667818496872001, 0.1101439532860915]\n",
            "Media de falhas:  [0, 0.006444593197609683, 0.6745306670460934, 1.4408920304636705, 5.097977548890523, 6.570867887465333, 8.178630265765433, 9.010672281061451, 12.995476156294842, 13.634806245972266, 15.148977625343583, 20.981096257136826, 23.490792781066, 20.26116182603694]\n",
            "Custo =  4396.763329304125\n",
            "\n",
            "=========================================================================\n",
            "\n",
            "Número de ciclos de manutenção: 11 5\n",
            "Tempos para manutenções preventivas: [0, 11, 95, 218, 291, 370, 391, 474, 486, 510, 609, 647]\n",
            "Severidade para cada subsistema: [0.25, 0.5, 0.75, 0.75, 0.75, 0.25, 0.75, 0.75, 0.5, 0.25, 0.5]\n",
            "Número de Sisemas: 5\n",
            "Fator:  [0.06508606740734102, 0.05667818496872001, 0.1101439532860915, 0.16057937889727636, 0.16057937889727636, 0.16057937889727636, 0.05667818496872001, 0.16057937889727636, 0.16057937889727636, 0.1101439532860915, 0.05667818496872001, 0.1101439532860915]\n",
            "Media de falhas:  [0, 0.007797306719746586, 0.5727476223690091, 2.9616906953698336, 5.123474642062794, 8.003238654808225, 8.869313671334778, 12.81029449933894, 13.508515263180291, 14.802802799424288, 20.873901403683035, 23.610363438128793, 20.06961170149373]\n",
            "Custo =  4099.848530523549\n",
            "\n",
            "=========================================================================\n",
            "\n",
            "Número de ciclos de manutenção: 10 5\n",
            "Tempos para manutenções preventivas: [0, 12, 54, 84, 294, 368, 392, 473, 490, 511, 613]\n",
            "Severidade para cada subsistema: [0.25, 0.25, 0.25, 0.75, 0.75, 0.25, 0.75, 0.75, 0.5, 0.25]\n",
            "Número de Sisemas: 5\n",
            "Fator:  [0.06508606740734102, 0.05667818496872001, 0.05667818496872001, 0.05667818496872001, 0.16057937889727636, 0.16057937889727636, 0.05667818496872001, 0.16057937889727636, 0.16057937889727636, 0.1101439532860915, 0.05667818496872001]\n",
            "Media de falhas:  [0, 0.009278732119191772, 0.1834284594187323, 0.43786557278187566, 5.409582164439845, 8.397366923726576, 9.386616069992527, 13.230964840219642, 14.223505983573464, 15.361012823383987, 21.64669552979244, 20.747123878660712]\n",
            "Custo =  3131.878846221796\n",
            "\n",
            "=========================================================================\n",
            "\n",
            "Número de ciclos de manutenção: 12 5\n",
            "Tempos para manutenções preventivas: [0, 12, 45, 79, 174, 269, 296, 369, 394, 472, 494, 517, 616]\n",
            "Severidade para cada subsistema: [0.25, 0.25, 0.25, 0.5, 0.5, 0.75, 0.75, 0.25, 0.75, 0.75, 0.5, 0.25]\n",
            "Número de Sisemas: 5\n",
            "Fator:  [0.06508606740734102, 0.05667818496872001, 0.05667818496872001, 0.05667818496872001, 0.1101439532860915, 0.1101439532860915, 0.16057937889727636, 0.16057937889727636, 0.05667818496872001, 0.16057937889727636, 0.16057937889727636, 0.1101439532860915, 0.05667818496872001]\n",
            "Media de falhas:  [0, 0.009278732119191772, 0.12701628431045844, 0.3870195710157206, 1.8771936291478624, 4.460572095350276, 5.337712992633906, 8.149846875032042, 9.184611974602026, 12.888367893327242, 14.177226486797878, 15.435926445810916, 21.58165187175029, 20.47208637900282]\n",
            "Custo =  3665.5020268971302\n",
            "\n",
            "=========================================================================\n",
            "\n",
            "Número de ciclos de manutenção: 12 5\n",
            "Tempos para manutenções preventivas: [0, 12, 43, 88, 182, 267, 297, 372, 398, 472, 499, 518, 619]\n",
            "Severidade para cada subsistema: [0.25, 0.25, 0.25, 0.75, 0.5, 0.75, 0.75, 0.25, 0.75, 0.75, 0.5, 0.25]\n",
            "Número de Sisemas: 5\n",
            "Fator:  [0.06508606740734102, 0.05667818496872001, 0.05667818496872001, 0.05667818496872001, 0.16057937889727636, 0.1101439532860915, 0.16057937889727636, 0.16057937889727636, 0.05667818496872001, 0.16057937889727636, 0.16057937889727636, 0.1101439532860915, 0.05667818496872001]\n",
            "Media de falhas:  [0, 0.009278732119191772, 0.11589428859424167, 0.480910773041416, 2.051864305322975, 4.391100362888272, 5.312767461381561, 8.22013650769248, 9.306362946647393, 12.833074959642568, 14.423515614300065, 15.468667139462312, 21.76238139402497, 20.441921924091933]\n",
            "Custo =  3663.7605952574254\n",
            "\n",
            "=========================================================================\n",
            "\n",
            "Número de ciclos de manutenção: 11 5\n",
            "Tempos para manutenções preventivas: [0, 11, 48, 187, 217, 267, 373, 402, 472, 503, 517, 620]\n",
            "Severidade para cada subsistema: [0.25, 0.25, 0.75, 0.5, 0.5, 0.75, 0.25, 0.75, 0.75, 0.5, 0.25]\n",
            "Número de Sisemas: 5\n",
            "Fator:  [0.06508606740734102, 0.05667818496872001, 0.05667818496872001, 0.16057937889727636, 0.1101439532860915, 0.1101439532860915, 0.16057937889727636, 0.05667818496872001, 0.16057937889727636, 0.16057937889727636, 0.1101439532860915, 0.05667818496872001]\n",
            "Media de falhas:  [0, 0.007797306719746586, 0.14487262980733018, 2.195853085674158, 2.9337194433291813, 4.264618520945031, 8.22138238872089, 9.511658742783249, 12.859933016890821, 14.693948516516672, 15.465600754439722, 21.886064411800792, 20.49510692002024]\n",
            "Custo =  3266.1562184935074\n",
            "\n",
            "=========================================================================\n",
            "\n",
            "Número de ciclos de manutenção: 11 5\n",
            "Tempos para manutenções preventivas: [0, 10, 55, 185, 229, 372, 404, 473, 505, 514, 618, 636]\n",
            "Severidade para cada subsistema: [0.25, 0.25, 0.75, 0.25, 0.75, 0.25, 0.75, 0.75, 0.5, 0.25, 0.75]\n",
            "Número de Sisemas: 5\n",
            "Fator:  [0.06508606740734102, 0.05667818496872001, 0.05667818496872001, 0.16057937889727636, 0.05667818496872001, 0.16057937889727636, 0.05667818496872001, 0.16057937889727636, 0.16057937889727636, 0.1101439532860915, 0.05667818496872001, 0.16057937889727636]\n",
            "Media de falhas:  [0, 0.006444593197609683, 0.19089144312509557, 2.144210546895458, 3.2552993355665496, 8.10010939266417, 9.608038153384523, 12.918917227313488, 14.818019792582524, 15.313133769007374, 21.7690046979351, 23.060626121480595, 20.37107825838571]\n",
            "Custo =  3862.17978305802\n",
            "\n",
            "=========================================================================\n",
            "\n",
            "Número de ciclos de manutenção: 12 5\n",
            "Tempos para manutenções preventivas: [0, 9, 66, 97, 178, 296, 338, 370, 404, 474, 503, 612, 651]\n",
            "Severidade para cada subsistema: [0.25, 0.5, 0.5, 0.75, 0.75, 0.25, 0.75, 0.25, 0.75, 0.75, 0.25, 0.5]\n",
            "Número de Sisemas: 5\n",
            "Fator:  [0.06508606740734102, 0.05667818496872001, 0.1101439532860915, 0.1101439532860915, 0.16057937889727636, 0.16057937889727636, 0.05667818496872001, 0.16057937889727636, 0.05667818496872001, 0.16057937889727636, 0.16057937889727636, 0.05667818496872001, 0.1101439532860915]\n",
            "Media de falhas:  [0, 0.005220602316180704, 0.27596933925452605, 0.5859724829640546, 1.9064210982808065, 5.202437762931261, 6.65635272948803, 7.888359715852841, 9.486665733587897, 12.850019465216137, 14.569010130043145, 21.241100147874576, 23.911017418019767, 20.057325368975825]\n",
            "Custo =  3749.41002578513\n",
            "\n",
            "=========================================================================\n",
            "\n",
            "Número de ciclos de manutenção: 11 5\n",
            "Tempos para manutenções preventivas: [0, 9, 65, 102, 212, 292, 335, 368, 406, 474, 497, 608]\n",
            "Severidade para cada subsistema: [0.25, 0.5, 0.5, 0.25, 0.75, 0.25, 0.75, 0.25, 0.75, 0.75, 0.25]\n",
            "Número de Sisemas: 5\n",
            "Fator:  [0.06508606740734102, 0.05667818496872001, 0.1101439532860915, 0.1101439532860915, 0.05667818496872001, 0.16057937889727636, 0.05667818496872001, 0.16057937889727636, 0.05667818496872001, 0.16057937889727636, 0.16057937889727636, 0.05667818496872001]\n",
            "Media de falhas:  [0, 0.005220602316180704, 0.26761978115480906, 0.6474004092829746, 2.7082846155833282, 5.058473931094499, 6.698672971730657, 7.960632351326099, 9.747526963027063, 13.020708275676952, 14.375193657447072, 21.112226778822787, 20.592113298735423]\n",
            "Custo =  3178.0902267147767\n",
            "\n",
            "=========================================================================\n",
            "\n",
            "Número de ciclos de manutenção: 12 5\n",
            "Tempos para manutenções preventivas: [0, 9, 57, 98, 231, 289, 368, 400, 474, 487, 514, 606, 655]\n",
            "Severidade para cada subsistema: [0.25, 0.25, 0.5, 0.25, 0.75, 0.75, 0.25, 0.75, 0.75, 0.5, 0.25, 0.25]\n",
            "Número de Sisemas: 5\n",
            "Fator:  [0.06508606740734102, 0.05667818496872001, 0.05667818496872001, 0.1101439532860915, 0.05667818496872001, 0.16057937889727636, 0.16057937889727636, 0.05667818496872001, 0.16057937889727636, 0.16057937889727636, 0.1101439532860915, 0.05667818496872001, 0.05667818496872001]\n",
            "Media de falhas:  [0, 0.005220602316180704, 0.20544992412601895, 0.5970664157530252, 3.313953646316427, 5.061826481051046, 8.229014665645416, 9.564439732413097, 13.107092939688943, 13.864332669446593, 15.328510182287728, 20.968660701151947, 24.515045867831578, 20.346593985437814]\n",
            "Custo =  4123.411967618081\n",
            "\n",
            "=========================================================================\n",
            "\n",
            "Número de ciclos de manutenção: 11 5\n",
            "Tempos para manutenções preventivas: [0, 10, 53, 92, 290, 344, 370, 390, 474, 481, 524, 605]\n",
            "Severidade para cada subsistema: [0.25, 0.25, 0.5, 0.75, 0.5, 0.75, 0.25, 0.75, 0.75, 0.5, 0.25]\n",
            "Número de Sisemas: 5\n",
            "Fator:  [0.06508606740734102, 0.05667818496872001, 0.05667818496872001, 0.1101439532860915, 0.16057937889727636, 0.1101439532860915, 0.16057937889727636, 0.05667818496872001, 0.16057937889727636, 0.16057937889727636, 0.1101439532860915, 0.05667818496872001]\n",
            "Media de falhas:  [0, 0.006444593197609683, 0.17716507462144193, 0.5257570669184561, 5.252720811793866, 7.230088824801269, 8.237890161882154, 9.10933540290822, 13.094139278141611, 13.49918959359604, 15.847376625561704, 20.843237282009216, 20.499248515882826]\n",
            "Custo =  4407.211037007304\n"
          ]
        },
        {
          "output_type": "stream",
          "name": "stderr",
          "text": [
            "pyswarms.single.global_best:  80%|████████  |80/100, best_cost=1.87e+3"
          ]
        },
        {
          "output_type": "stream",
          "name": "stdout",
          "text": [
            "\n",
            "=========================================================================\n",
            "\n",
            "Número de ciclos de manutenção: 9 5\n",
            "Tempos para manutenções preventivas: [0, 12, 50, 89, 293, 370, 473, 529, 605, 640]\n",
            "Severidade para cada subsistema: [0.25, 0.25, 0.25, 0.75, 0.75, 0.75, 0.5, 0.25, 0.5]\n",
            "Número de Sisemas: 5\n",
            "Fator:  [0.06508606740734102, 0.05667818496872001, 0.05667818496872001, 0.05667818496872001, 0.16057937889727636, 0.16057937889727636, 0.16057937889727636, 0.1101439532860915, 0.05667818496872001, 0.1101439532860915]\n",
            "Media de falhas:  [0, 0.009278732119191772, 0.1570709435161227, 0.49147967830433004, 5.366125305411281, 8.480536911784188, 13.270331894242087, 16.326887781689784, 21.03090894395703, 23.52862057356112, 20.5311361316801]\n",
            "Custo =  2261.21827098435\n",
            "\n",
            "=========================================================================\n",
            "\n",
            "Número de ciclos de manutenção: 9 5\n",
            "Tempos para manutenções preventivas: [0, 15, 51, 81, 185, 291, 371, 473, 534, 607]\n",
            "Severidade para cada subsistema: [0.25, 0.25, 0.25, 0.75, 0.75, 0.75, 0.75, 0.5, 0.25]\n",
            "Número de Sisemas: 5\n",
            "Fator:  [0.06508606740734102, 0.05667818496872001, 0.05667818496872001, 0.05667818496872001, 0.16057937889727636, 0.16057937889727636, 0.16057937889727636, 0.16057937889727636, 0.1101439532860915, 0.05667818496872001]\n",
            "Media de falhas:  [0, 0.014495185180345305, 0.16286510192956646, 0.40639155087474066, 2.1230446912385874, 5.221591304846408, 8.142941660431632, 12.890676562071278, 16.23970461045726, 20.7832990997492, 20.301014709451554]\n",
            "Custo =  1871.2408108741981\n",
            "\n",
            "=========================================================================\n",
            "\n",
            "Número de ciclos de manutenção: 13 5\n",
            "Tempos para manutenções preventivas: [0, 17, 53, 86, 194, 258, 289, 339, 370, 390, 472, 538, 612, 682]\n",
            "Severidade para cada subsistema: [0.25, 0.25, 0.25, 0.75, 0.5, 0.75, 0.25, 0.75, 0.25, 0.75, 0.5, 0.25, 0.25]\n",
            "Número de Sisemas: 5\n",
            "Fator:  [0.06508606740734102, 0.05667818496872001, 0.05667818496872001, 0.05667818496872001, 0.16057937889727636, 0.1101439532860915, 0.16057937889727636, 0.05667818496872001, 0.16057937889727636, 0.05667818496872001, 0.16057937889727636, 0.1101439532860915, 0.05667818496872001, 0.05667818496872001]\n",
            "Media de falhas:  [0, 0.018616218791185957, 0.17564230981907092, 0.45788347693065046, 2.3337245552235353, 4.101772238063812, 5.0260879184050475, 6.838439488715162, 8.033296682427547, 8.95551232146192, 12.834918299884373, 16.8877683729948, 21.53022519399363, 26.73870317070555, 20.398031309862418]\n",
            "Custo =  3691.3978257129793\n",
            "\n",
            "=========================================================================\n",
            "\n",
            "Número de ciclos de manutenção: 12 5\n",
            "Tempos para manutenções preventivas: [0, 19, 58, 159, 201, 244, 279, 349, 369, 395, 472, 616, 676]\n",
            "Severidade para cada subsistema: [0.25, 0.25, 0.75, 0.75, 0.5, 0.75, 0.75, 0.75, 0.25, 0.75, 0.25, 0.25]\n",
            "Número de Sisemas: 5\n",
            "Fator:  [0.06508606740734102, 0.05667818496872001, 0.05667818496872001, 0.16057937889727636, 0.16057937889727636, 0.1101439532860915, 0.16057937889727636, 0.16057937889727636, 0.16057937889727636, 0.05667818496872001, 0.16057937889727636, 0.05667818496872001, 0.05667818496872001]\n",
            "Media de falhas:  [0, 0.023251903824554575, 0.2102613711981553, 1.5764615252033884, 2.4993931649718535, 3.5504991243719566, 4.550266079937046, 7.097451099890148, 7.875755677159395, 8.95357967079348, 12.613205285646607, 22.176202003648534, 26.390420387000546, 20.539628250201318]\n",
            "Custo =  3911.8381357760404\n",
            "\n",
            "=========================================================================\n",
            "\n",
            "Número de ciclos de manutenção: 8 5\n",
            "Tempos para manutenções preventivas: [0, 18, 199, 212, 369, 401, 472, 617, 677]\n",
            "Severidade para cada subsistema: [0.25, 0.75, 0.5, 0.75, 0.25, 0.75, 0.25, 0.25]\n",
            "Número de Sisemas: 5\n",
            "Fator:  [0.06508606740734102, 0.05667818496872001, 0.16057937889727636, 0.1101439532860915, 0.16057937889727636, 0.05667818496872001, 0.16057937889727636, 0.05667818496872001, 0.05667818496872001]\n",
            "Media de falhas:  [0, 0.020869733151874945, 2.5182031544899033, 2.842651997465905, 8.015258326047142, 9.430554725335936, 12.823569105324653, 22.462275345855208, 26.682954180311953, 20.75079971270275]\n",
            "Custo =  2329.1509383545504\n",
            "\n",
            "=========================================================================\n",
            "\n",
            "Número de ciclos de manutenção: 10 5\n",
            "Tempos para manutenções preventivas: [0, 17, 70, 193, 368, 406, 472, 539, 614, 648, 684]\n",
            "Severidade para cada subsistema: [0.25, 0.5, 0.75, 0.75, 0.25, 0.75, 0.5, 0.25, 0.5, 0.25]\n",
            "Número de Sisemas: 5\n",
            "Fator:  [0.06508606740734102, 0.05667818496872001, 0.1101439532860915, 0.16057937889727636, 0.16057937889727636, 0.05667818496872001, 0.16057937889727636, 0.1101439532860915, 0.05667818496872001, 0.1101439532860915, 0.05667818496872001]\n",
            "Media de falhas:  [0, 0.018616218791185957, 0.30770775703083225, 2.3241123249527686, 8.152296708726135, 9.752743384424738, 12.921186099234376, 17.039740525566998, 21.75782018193849, 24.216915333494505, 27.124957195469626, 21.014102299757973]\n",
            "Custo =  2815.874291423215\n",
            "\n",
            "=========================================================================\n",
            "\n",
            "Número de ciclos de manutenção: 10 5\n",
            "Tempos para manutenções preventivas: [0, 15, 63, 187, 237, 247, 368, 404, 472, 535, 610]\n",
            "Severidade para cada subsistema: [0.25, 0.5, 0.75, 0.25, 0.5, 0.75, 0.25, 0.75, 0.5, 0.25]\n",
            "Número de Sisemas: 5\n",
            "Fator:  [0.06508606740734102, 0.05667818496872001, 0.1101439532860915, 0.16057937889727636, 0.05667818496872001, 0.1101439532860915, 0.16057937889727636, 0.05667818496872001, 0.16057937889727636, 0.1101439532860915, 0.05667818496872001]\n",
            "Media de falhas:  [0, 0.014495185180345305, 0.24934835727578744, 2.1849387385598025, 3.414726243595136, 3.6767834987442587, 8.238634379202212, 9.83597118543941, 13.094503906657538, 16.951010599003165, 21.636784745848665, 20.94630679684566]\n",
            "Custo =  2554.8020225085547\n",
            "\n",
            "=========================================================================\n",
            "\n",
            "Número de ciclos de manutenção: 12 5\n",
            "Tempos para manutenções preventivas: [0, 13, 167, 181, 210, 264, 368, 400, 473, 480, 531, 607, 657]\n",
            "Severidade para cada subsistema: [0.25, 0.5, 0.75, 0.5, 0.5, 0.75, 0.25, 0.75, 0.75, 0.5, 0.25, 0.25]\n",
            "Número de Sisemas: 5\n",
            "Fator:  [0.06508606740734102, 0.05667818496872001, 0.1101439532860915, 0.16057937889727636, 0.1101439532860915, 0.1101439532860915, 0.16057937889727636, 0.05667818496872001, 0.16057937889727636, 0.16057937889727636, 0.1101439532860915, 0.05667818496872001, 0.05667818496872001]\n",
            "Media de falhas:  [0, 0.01088885957302025, 1.7761620849655946, 2.07220543897317, 2.726507048289422, 4.137006933493105, 7.970134824572245, 9.381777139727793, 12.87187327690807, 13.276076434849443, 16.081815671816166, 20.80220511834324, 24.429879194674406, 20.10336507831819]\n",
            "Custo =  5552.120080562184\n",
            "\n",
            "=========================================================================\n",
            "\n",
            "Número de ciclos de manutenção: 11 5\n",
            "Tempos para manutenções preventivas: [0, 13, 53, 180, 299, 341, 368, 395, 473, 481, 529, 607]\n",
            "Severidade para cada subsistema: [0.25, 0.25, 0.75, 0.5, 0.75, 0.75, 0.25, 0.75, 0.75, 0.5, 0.25]\n",
            "Número de Sisemas: 5\n",
            "Fator:  [0.06508606740734102, 0.05667818496872001, 0.05667818496872001, 0.16057937889727636, 0.1101439532860915, 0.16057937889727636, 0.16057937889727636, 0.05667818496872001, 0.16057937889727636, 0.16057937889727636, 0.1101439532860915, 0.05667818496872001]\n",
            "Media de falhas:  [0, 0.01088885957302025, 0.17641199313711922, 2.0294103429464037, 5.535203592684823, 7.002693885145258, 8.101857414775182, 9.219960081300483, 12.932117476994092, 13.394577118071128, 16.031204924568623, 20.869022213923905, 20.38673782362626]\n",
            "Custo =  4442.638479871879\n",
            "\n",
            "=========================================================================\n",
            "\n",
            "Número de ciclos de manutenção: 13 5\n",
            "Tempos para manutenções preventivas: [0, 14, 49, 78, 180, 218, 345, 369, 392, 473, 480, 529, 610, 638]\n",
            "Severidade para cada subsistema: [0.25, 0.25, 0.25, 0.75, 0.75, 0.75, 0.75, 0.25, 0.75, 0.75, 0.5, 0.25, 0.5]\n",
            "Número de Sisemas: 5\n",
            "Fator:  [0.06508606740734102, 0.05667818496872001, 0.05667818496872001, 0.05667818496872001, 0.16057937889727636, 0.16057937889727636, 0.16057937889727636, 0.16057937889727636, 0.05667818496872001, 0.16057937889727636, 0.16057937889727636, 0.1101439532860915, 0.05667818496872001, 0.1101439532860915]\n",
            "Media de falhas:  [0, 0.012627680047447418, 0.15041802973214072, 0.3769319734532314, 2.0103982490950454, 2.9323275535799445, 6.954135226049895, 7.883918814338453, 8.832951107920188, 12.677299878147302, 13.081503036088675, 15.770926703974615, 20.81040026332428, 22.81197907284712, 19.968690364510824]\n",
            "Custo =  5523.04279934941\n",
            "\n",
            "=========================================================================\n",
            "\n",
            "Número de ciclos de manutenção: 12 5\n",
            "Tempos para manutenções preventivas: [0, 16, 48, 73, 178, 185, 215, 345, 369, 473, 533, 612, 689]\n",
            "Severidade para cada subsistema: [0.25, 0.25, 0.25, 0.5, 0.75, 0.75, 0.75, 0.75, 0.75, 0.5, 0.25, 0.25]\n",
            "Número de Sisemas: 5\n",
            "Fator:  [0.06508606740734102, 0.05667818496872001, 0.05667818496872001, 0.05667818496872001, 0.1101439532860915, 0.16057937889727636, 0.16057937889727636, 0.16057937889727636, 0.16057937889727636, 0.16057937889727636, 0.1101439532860915, 0.05667818496872001, 0.05667818496872001]\n",
            "Media de falhas:  [0, 0.01649136718820338, 0.14399410345424424, 0.3298080570945173, 1.9679338892695055, 2.1221364620320946, 2.8146368899815877, 6.914453999598937, 7.844237587887495, 12.676005530774527, 15.966282561950415, 20.90521899056964, 26.66911162681605, 19.751739372456413]\n",
            "Custo =  5062.3933950457895\n",
            "\n",
            "=========================================================================\n",
            "\n",
            "Número de ciclos de manutenção: 12 5\n",
            "Tempos para manutenções preventivas: [0, 17, 54, 87, 191, 277, 352, 368, 393, 472, 536, 613, 680]\n",
            "Severidade para cada subsistema: [0.25, 0.25, 0.25, 0.75, 0.75, 0.75, 0.75, 0.25, 0.75, 0.5, 0.25, 0.25]\n",
            "Número de Sisemas: 5\n",
            "Fator:  [0.06508606740734102, 0.05667818496872001, 0.05667818496872001, 0.05667818496872001, 0.16057937889727636, 0.16057937889727636, 0.16057937889727636, 0.16057937889727636, 0.05667818496872001, 0.16057937889727636, 0.1101439532860915, 0.05667818496872001, 0.05667818496872001]\n",
            "Media de falhas:  [0, 0.018616218791185957, 0.1823826660617133, 0.4686242836428126, 2.2608788793954226, 4.726886421757275, 7.328462321782017, 7.952170225619314, 8.984242217866978, 12.732041325087868, 16.653867530984556, 21.48276514372641, 26.46277940232642, 20.285855646024338]\n",
            "Custo =  3714.5594178263163\n",
            "\n",
            "=========================================================================\n",
            "\n",
            "Número de ciclos de manutenção: 12 5\n",
            "Tempos para manutenções preventivas: [0, 17, 196, 219, 265, 274, 336, 368, 397, 472, 538, 615, 677]\n",
            "Severidade para cada subsistema: [0.25, 0.75, 0.5, 0.5, 0.75, 0.75, 0.75, 0.25, 0.75, 0.5, 0.25, 0.25]\n",
            "Número de Sisemas: 5\n",
            "Fator:  [0.06508606740734102, 0.05667818496872001, 0.16057937889727636, 0.1101439532860915, 0.1101439532860915, 0.16057937889727636, 0.16057937889727636, 0.16057937889727636, 0.05667818496872001, 0.16057937889727636, 0.1101439532860915, 0.05667818496872001, 0.05667818496872001]\n",
            "Media de falhas:  [0, 0.018616218791185957, 2.4438646933169936, 3.0242973125221013, 4.246828245085863, 4.524699316590802, 6.713542791165191, 7.93865497474196, 9.143301623061074, 12.714405284848011, 16.767255357958437, 21.61273643655983, 26.21538008812798, 20.283225620518778]\n",
            "Custo =  4812.013922787115\n",
            "\n",
            "=========================================================================\n",
            "\n",
            "Número de ciclos de manutenção: 12 5\n",
            "Tempos para manutenções preventivas: [0, 16, 61, 169, 200, 249, 368, 404, 472, 539, 613, 647, 678]\n",
            "Severidade para cada subsistema: [0.25, 0.5, 0.5, 0.75, 0.5, 0.75, 0.25, 0.75, 0.5, 0.25, 0.5, 0.25]\n",
            "Número de Sisemas: 5\n",
            "Fator:  [0.06508606740734102, 0.05667818496872001, 0.1101439532860915, 0.1101439532860915, 0.16057937889727636, 0.1101439532860915, 0.16057937889727636, 0.05667818496872001, 0.16057937889727636, 0.1101439532860915, 0.05667818496872001, 0.1101439532860915, 0.05667818496872001]\n",
            "Media de falhas:  [0, 0.01649136718820338, 0.23339825061998337, 1.7820974695849972, 2.442998886360608, 3.7178200695729755, 7.822667438002133, 9.420004244239331, 12.67853696545746, 16.79709139179008, 21.447516894077538, 23.902731257530366, 26.393187997143905, 20.742225021803016]\n",
            "Custo =  3470.2673382169223\n"
          ]
        },
        {
          "output_type": "stream",
          "name": "stderr",
          "text": [
            "pyswarms.single.global_best:  94%|█████████▍|94/100, best_cost=1.87e+3"
          ]
        },
        {
          "output_type": "stream",
          "name": "stdout",
          "text": [
            "\n",
            "=========================================================================\n",
            "\n",
            "Número de ciclos de manutenção: 11 5\n",
            "Tempos para manutenções preventivas: [0, 15, 67, 200, 239, 240, 368, 404, 472, 537, 611, 682]\n",
            "Severidade para cada subsistema: [0.25, 0.5, 0.75, 0.25, 0.5, 0.75, 0.25, 0.75, 0.5, 0.25, 0.25]\n",
            "Número de Sisemas: 5\n",
            "Fator:  [0.06508606740734102, 0.05667818496872001, 0.1101439532860915, 0.16057937889727636, 0.05667818496872001, 0.1101439532860915, 0.16057937889727636, 0.05667818496872001, 0.16057937889727636, 0.1101439532860915, 0.05667818496872001, 0.05667818496872001]\n",
            "Media de falhas:  [0, 0.014495185180345305, 0.2822888150533537, 2.499685238343481, 3.489304480328641, 3.515148017127724, 8.289923871818061, 9.88726067805526, 13.145793399273387, 17.133067398831827, 21.767555526526287, 27.04688988484726, 20.70621802400413]\n",
            "Custo =  6686.89543334889\n",
            "\n",
            "=========================================================================\n",
            "\n",
            "Número de ciclos de manutenção: 11 5\n",
            "Tempos para manutenções preventivas: [0, 14, 59, 71, 193, 359, 368, 400, 472, 534, 611, 689]\n",
            "Severidade para cada subsistema: [0.25, 0.25, 0.5, 0.75, 0.5, 0.75, 0.25, 0.75, 0.5, 0.25, 0.25]\n",
            "Número de Sisemas: 5\n",
            "Fator:  [0.06508606740734102, 0.05667818496872001, 0.05667818496872001, 0.1101439532860915, 0.16057937889727636, 0.1101439532860915, 0.16057937889727636, 0.05667818496872001, 0.16057937889727636, 0.1101439532860915, 0.05667818496872001, 0.05667818496872001]\n",
            "Media de falhas:  [0, 0.012627680047447418, 0.21871515598626862, 0.3138849453277159, 2.320843857732232, 7.753418281559812, 8.106998314259064, 9.518640629414612, 12.956308001311008, 16.747623460437147, 21.559937557281547, 27.394785463297982, 20.477413208938344]\n",
            "Custo =  4178.899566133901\n",
            "\n",
            "=========================================================================\n",
            "\n",
            "Número de ciclos de manutenção: 12 5\n",
            "Tempos para manutenções preventivas: [0, 14, 49, 60, 186, 252, 273, 347, 369, 392, 473, 532, 612]\n",
            "Severidade para cada subsistema: [0.25, 0.25, 0.5, 0.75, 0.5, 0.75, 0.5, 0.75, 0.25, 0.75, 0.5, 0.25]\n",
            "Número de Sisemas: 5\n",
            "Fator:  [0.06508606740734102, 0.05667818496872001, 0.05667818496872001, 0.1101439532860915, 0.16057937889727636, 0.1101439532860915, 0.16057937889727636, 0.1101439532860915, 0.16057937889727636, 0.05667818496872001, 0.16057937889727636, 0.1101439532860915, 0.05667818496872001]\n",
            "Media de falhas:  [0, 0.012627680047447418, 0.15041802973214072, 0.22361342765967696, 2.1608034997655454, 3.844368848163393, 4.443462037912511, 7.104485731646239, 7.9587040637617585, 8.962666884232961, 12.807015654460075, 16.41066709089325, 21.408638165101802, 20.578864430372192]\n",
            "Custo =  3809.6728450617093\n",
            "\n",
            "=========================================================================\n",
            "\n",
            "Número de ciclos de manutenção: 12 5\n",
            "Tempos para manutenções preventivas: [0, 13, 46, 153, 180, 224, 278, 346, 369, 473, 531, 612, 657]\n",
            "Severidade para cada subsistema: [0.25, 0.25, 0.75, 0.75, 0.75, 0.75, 0.5, 0.75, 0.75, 0.5, 0.25, 0.25]\n",
            "Número de Sisemas: 5\n",
            "Fator:  [0.06508606740734102, 0.05667818496872001, 0.05667818496872001, 0.16057937889727636, 0.16057937889727636, 0.16057937889727636, 0.16057937889727636, 0.1101439532860915, 0.16057937889727636, 0.16057937889727636, 0.1101439532860915, 0.05667818496872001, 0.05667818496872001]\n",
            "Media de falhas:  [0, 0.01088885957302025, 0.13259440043325352, 1.4655834047137912, 2.013271898562139, 2.992059457112614, 4.4840298488113985, 6.819571765510446, 7.711616288161617, 12.791741264526184, 15.964901138322395, 21.021819765793612, 24.297977995512177, 19.971463879155962]\n",
            "Custo =  3964.8310783984916\n",
            "\n",
            "=========================================================================\n",
            "\n",
            "Número de ciclos de manutenção: 9 5\n",
            "Tempos para manutenções preventivas: [0, 14, 51, 81, 283, 369, 390, 473, 531, 611]\n",
            "Severidade para cada subsistema: [0.25, 0.25, 0.25, 0.75, 0.75, 0.25, 0.75, 0.5, 0.25]\n",
            "Número de Sisemas: 5\n",
            "Fator:  [0.06508606740734102, 0.05667818496872001, 0.05667818496872001, 0.05667818496872001, 0.16057937889727636, 0.16057937889727636, 0.05667818496872001, 0.16057937889727636, 0.1101439532860915, 0.05667818496872001]\n",
            "Media de falhas:  [0, 0.012627680047447418, 0.1630491615690949, 0.40657561051426916, 5.011760016311603, 8.435744721232485, 9.299557520593163, 13.231598295235578, 16.770450611514402, 21.759806849306973, 20.99973101533554]\n",
            "Custo =  2041.2187052665618\n",
            "\n",
            "=========================================================================\n",
            "\n",
            "Número de ciclos de manutenção: 11 5\n",
            "Tempos para manutenções preventivas: [0, 15, 57, 82, 240, 278, 369, 398, 473, 532, 613, 649]\n",
            "Severidade para cada subsistema: [0.25, 0.25, 0.25, 0.75, 0.75, 0.75, 0.25, 0.75, 0.5, 0.25, 0.5]\n",
            "Número de Sisemas: 5\n",
            "Fator:  [0.06508606740734102, 0.05667818496872001, 0.05667818496872001, 0.05667818496872001, 0.16057937889727636, 0.16057937889727636, 0.16057937889727636, 0.05667818496872001, 0.16057937889727636, 0.1101439532860915, 0.05667818496872001, 0.1101439532860915]\n",
            "Media de falhas:  [0, 0.014495185180345305, 0.2037932168005176, 0.41688473808987425, 3.591814854823035, 4.789852799114188, 8.049670551870435, 9.25744118795579, 12.836623172478761, 16.440274608911935, 21.50591575059938, 24.11017212529068, 20.413177673183743]\n",
            "Custo =  2984.362148238377\n",
            "\n",
            "=========================================================================\n",
            "\n",
            "Número de ciclos de manutenção: 10 5\n",
            "Tempos para manutenções preventivas: [0, 16, 86, 180, 241, 370, 402, 473, 534, 614, 686]\n",
            "Severidade para cada subsistema: [0.25, 0.25, 0.75, 0.75, 0.75, 0.25, 0.75, 0.5, 0.25, 0.25]\n",
            "Número de Sisemas: 5\n",
            "Fator:  [0.06508606740734102, 0.05667818496872001, 0.05667818496872001, 0.16057937889727636, 0.16057937889727636, 0.16057937889727636, 0.05667818496872001, 0.16057937889727636, 0.1101439532860915, 0.05667818496872001, 0.05667818496872001]\n",
            "Media de falhas:  [0, 0.01649136718820338, 0.46637360411683365, 2.0145495328489456, 3.584549942420593, 8.00593449036894, 9.348253839683975, 12.748915672803115, 16.482550192351145, 21.497750900267587, 26.880713306639013, 20.21118065300844]\n",
            "Custo =  2697.5729733266576\n",
            "\n",
            "=========================================================================\n",
            "\n",
            "Número de ciclos de manutenção: 11 5\n",
            "Tempos para manutenções preventivas: [0, 16, 179, 185, 216, 336, 370, 403, 472, 536, 616, 682]\n",
            "Severidade para cada subsistema: [0.25, 0.25, 0.75, 0.5, 0.75, 0.75, 0.25, 0.75, 0.5, 0.25, 0.25]\n",
            "Número de Sisemas: 5\n",
            "Fator:  [0.06508606740734102, 0.05667818496872001, 0.05667818496872001, 0.16057937889727636, 0.1101439532860915, 0.16057937889727636, 0.16057937889727636, 0.05667818496872001, 0.16057937889727636, 0.1101439532860915, 0.05667818496872001, 0.05667818496872001]\n",
            "Media de falhas:  [0, 0.01649136718820338, 2.0378908765802755, 2.1704060539972048, 2.9273489158692194, 6.6477129174052605, 8.02770251903804, 9.414086762306995, 12.717533816758392, 16.639360022655083, 21.67179031226423, 26.59584260560229, 20.255170744759162]\n",
            "Custo =  5037.295233391898\n",
            "\n",
            "=========================================================================\n",
            "\n",
            "Número de ciclos de manutenção: 11 5\n",
            "Tempos para manutenções preventivas: [0, 16, 76, 191, 222, 292, 370, 404, 472, 537, 613, 683]\n",
            "Severidade para cada subsistema: [0.25, 0.5, 0.75, 0.25, 0.5, 0.75, 0.25, 0.75, 0.5, 0.25, 0.25]\n",
            "Número de Sisemas: 5\n",
            "Fator:  [0.06508606740734102, 0.05667818496872001, 0.1101439532860915, 0.16057937889727636, 0.05667818496872001, 0.1101439532860915, 0.16057937889727636, 0.05667818496872001, 0.16057937889727636, 0.1101439532860915, 0.05667818496872001, 0.05667818496872001]\n",
            "Media de falhas:  [0, 0.01649136718820338, 0.3635460816291085, 2.273328822984575, 3.012153849692878, 5.002990406449408, 8.153411044362025, 9.665408868351928, 12.923941589570056, 16.911215589128496, 21.680709589923094, 26.89717721811516, 20.47446073181864]\n",
            "Custo =  2837.054046035667\n",
            "\n",
            "=========================================================================\n",
            "\n",
            "Número de ciclos de manutenção: 12 5\n",
            "Tempos para manutenções preventivas: [0, 16, 195, 217, 253, 285, 331, 370, 402, 472, 536, 612, 686]\n",
            "Severidade para cada subsistema: [0.25, 0.75, 0.25, 0.5, 0.5, 0.25, 0.75, 0.25, 0.75, 0.5, 0.25, 0.25]\n",
            "Número de Sisemas: 5\n",
            "Fator:  [0.06508606740734102, 0.05667818496872001, 0.16057937889727636, 0.05667818496872001, 0.1101439532860915, 0.1101439532860915, 0.05667818496872001, 0.16057937889727636, 0.05667818496872001, 0.16057937889727636, 0.1101439532860915, 0.05667818496872001, 0.05667818496872001]\n",
            "Media de falhas:  [0, 0.01649136718820338, 2.4202393815588032, 2.9713591185624972, 3.897254846062081, 4.9441779200424305, 6.578718845139596, 8.151891671813985, 9.65207358531353, 13.000347859421105, 16.922174065317794, 21.68348400470363, 27.20857223697295, 20.53903958334238]\n",
            "Custo =  3375.4409950131226\n",
            "\n",
            "=========================================================================\n",
            "\n",
            "Número de ciclos de manutenção: 12 5\n",
            "Tempos para manutenções preventivas: [0, 15, 197, 210, 284, 340, 368, 401, 472, 534, 610, 648, 689]\n",
            "Severidade para cada subsistema: [0.25, 0.75, 0.5, 0.5, 0.5, 0.75, 0.25, 0.75, 0.5, 0.25, 0.5, 0.25]\n",
            "Número de Sisemas: 5\n",
            "Fator:  [0.06508606740734102, 0.05667818496872001, 0.16057937889727636, 0.1101439532860915, 0.1101439532860915, 0.1101439532860915, 0.16057937889727636, 0.05667818496872001, 0.16057937889727636, 0.1101439532860915, 0.05667818496872001, 0.1101439532860915, 0.05667818496872001]\n",
            "Media de falhas:  [0, 0.014495185180345305, 2.471731885781749, 2.793031811809019, 4.820936781996669, 6.840353349049124, 7.978825731521147, 9.436699191339052, 12.829713571327769, 16.621029030453908, 21.36597080992366, 24.106770206467253, 27.431852907143963, 20.935004585748274]\n",
            "Custo =  3853.36824235926\n",
            "\n",
            "=========================================================================\n",
            "\n",
            "Número de ciclos de manutenção: 9 5\n",
            "Tempos para manutenções preventivas: [0, 15, 69, 197, 291, 368, 394, 472, 533, 609]\n",
            "Severidade para cada subsistema: [0.25, 0.5, 0.75, 0.5, 0.75, 0.25, 0.75, 0.5, 0.25]\n",
            "Número de Sisemas: 5\n",
            "Fator:  [0.06508606740734102, 0.05667818496872001, 0.1101439532860915, 0.16057937889727636, 0.1101439532860915, 0.16057937889727636, 0.05667818496872001, 0.16057937889727636, 0.1101439532860915, 0.05667818496872001]\n",
            "Media de falhas:  [0, 0.014495185180345305, 0.29953011026231063, 2.4234884407802753, 5.108356653613956, 7.905332974595353, 9.0422831371951, 12.746039055920315, 16.472291562379866, 21.20904924329942, 20.58806916332908]\n",
            "Custo =  2085.38150409075\n"
          ]
        },
        {
          "output_type": "stream",
          "name": "stderr",
          "text": [
            "pyswarms.single.global_best: 100%|██████████|100/100, best_cost=1.87e+3\n",
            "2023-10-27 18:01:15,319 - pyswarms.single.global_best - INFO - Optimization finished | best cost: 1871.2408108741981, best pos: [1.55747886 2.40861592 4.29081998 2.33273981 4.63819023 0.66130455\n",
            " 5.42758738 3.7443416  3.03053597 3.48903742 6.50993018 0.33615263\n",
            " 5.1898718  1.73290993 6.44795998 5.75227589 5.05916029 3.82930373\n",
            " 6.43752221 2.56289725 1.70866934 2.11669815 1.73395505 2.84794524]\n",
            "2023-10-27 18:01:15,323 - pyswarms.single.global_best - INFO - Optimize for 1 iters with {'c1': 0.5, 'c2': 0.3, 'w': 0.9}\n"
          ]
        },
        {
          "output_type": "stream",
          "name": "stdout",
          "text": [
            "\n",
            "=========================================================================\n",
            "\n",
            "Número de ciclos de manutenção: 9 5\n",
            "Tempos para manutenções preventivas: [0, 15, 58, 193, 227, 297, 367, 473, 532, 610]\n",
            "Severidade para cada subsistema: [0.25, 0.25, 0.75, 0.75, 0.5, 0.75, 0.75, 0.5, 0.25]\n",
            "Número de Sisemas: 5\n",
            "Fator:  [0.06508606740734102, 0.05667818496872001, 0.05667818496872001, 0.16057937889727636, 0.16057937889727636, 0.1101439532860915, 0.16057937889727636, 0.16057937889727636, 0.1101439532860915, 0.05667818496872001]\n",
            "Media de falhas:  [0, 0.014495185180345305, 0.21106443067540107, 2.33192889475222, 3.2016143009731794, 5.2301665403259445, 7.786677974925571, 12.9538920767794, 16.185546383009974, 21.048562151528785, 20.35808420252578]\n",
            "Custo =  2245.8635515161823\n",
            "\n",
            "=========================================================================\n",
            "\n",
            "Número de ciclos de manutenção: 11 5\n",
            "Tempos para manutenções preventivas: [0, 15, 57, 76, 188, 228, 357, 367, 473, 532, 610, 632]\n",
            "Severidade para cada subsistema: [0.25, 0.25, 0.25, 0.75, 0.75, 0.75, 0.75, 0.75, 0.5, 0.25, 0.5]\n",
            "Número de Sisemas: 5\n",
            "Fator:  [0.06508606740734102, 0.05667818496872001, 0.05667818496872001, 0.05667818496872001, 0.16057937889727636, 0.16057937889727636, 0.16057937889727636, 0.16057937889727636, 0.16057937889727636, 0.1101439532860915, 0.05667818496872001, 0.1101439532860915]\n",
            "Media de falhas:  [0, 0.014495185180345305, 0.2037932168005176, 0.3584179194476709, 2.196805409486018, 3.211148722489251, 7.4518450725748195, 7.8431988756558395, 12.758651377371127, 15.990305683601703, 20.85332145212051, 22.417524726684935, 20.034093884135082]\n",
            "Custo =  3995.717216905064\n",
            "\n",
            "=========================================================================\n",
            "\n",
            "Número de ciclos de manutenção: 11 5\n",
            "Tempos para manutenções preventivas: [0, 16, 54, 184, 244, 354, 367, 473, 532, 612, 645, 688]\n",
            "Severidade para cada subsistema: [0.25, 0.25, 0.75, 0.5, 0.25, 0.75, 0.75, 0.5, 0.25, 0.5, 0.25]\n",
            "Número de Sisemas: 5\n",
            "Fator:  [0.06508606740734102, 0.05667818496872001, 0.05667818496872001, 0.16057937889727636, 0.1101439532860915, 0.05667818496872001, 0.16057937889727636, 0.16057937889727636, 0.1101439532860915, 0.05667818496872001, 0.1101439532860915, 0.05667818496872001]\n",
            "Media de falhas:  [0, 0.01649136718820338, 0.18255833884868755, 2.120125069043845, 3.689602301878561, 7.361208456611251, 7.898056567363524, 13.3321472024857, 16.563801508716274, 21.561772582924828, 23.93889168364387, 27.416081207325746, 20.99663158174118]\n",
            "Custo =  3690.857215926667\n",
            "\n",
            "=========================================================================\n",
            "\n",
            "Número de ciclos de manutenção: 13 5\n",
            "Tempos para manutenções preventivas: [0, 16, 56, 170, 181, 236, 267, 368, 392, 473, 533, 614, 653, 688]\n",
            "Severidade para cada subsistema: [0.25, 0.25, 0.5, 0.75, 0.5, 0.5, 0.75, 0.25, 0.75, 0.5, 0.25, 0.5, 0.25]\n",
            "Número de Sisemas: 5\n",
            "Fator:  [0.06508606740734102, 0.05667818496872001, 0.05667818496872001, 0.1101439532860915, 0.16057937889727636, 0.1101439532860915, 0.1101439532860915, 0.16057937889727636, 0.05667818496872001, 0.16057937889727636, 0.1101439532860915, 0.05667818496872001, 0.1101439532860915, 0.05667818496872001]\n",
            "Media de falhas:  [0, 0.01649136718820338, 0.1964413851727466, 1.8060344854428123, 2.0405185426582784, 3.373235457734753, 4.22405945553494, 7.961778295653941, 9.008190973230153, 12.852539743457267, 16.52111858105425, 21.595482223758815, 24.428715079004203, 27.274906203863598, 20.855456578279032]\n",
            "Custo =  4367.050630537368\n"
          ]
        },
        {
          "output_type": "stream",
          "name": "stderr",
          "text": [
            "pyswarms.single.global_best: 100%|██████████|1/1, best_cost=1.87e+3\n",
            "2023-10-27 18:01:15,347 - pyswarms.single.global_best - INFO - Optimization finished | best cost: 1871.2408108741981, best pos: [1.55778422 2.40902135 4.21311628 2.33239976 4.63824919 0.66130448\n",
            " 5.4274615  3.74336549 2.87179947 4.13090131 6.5098057  0.3348401\n",
            " 5.18998899 1.73309513 6.44141932 5.7524479  5.05931286 3.82885939\n",
            " 6.4375433  2.56422501 1.71154322 2.11678192 1.73472325 2.84797537]\n",
            "2023-10-27 18:01:15,349 - pyswarms.single.global_best - INFO - Optimize for 1 iters with {'c1': 0.5, 'c2': 0.3, 'w': 0.9}\n"
          ]
        },
        {
          "output_type": "stream",
          "name": "stdout",
          "text": [
            "\n",
            "=========================================================================\n",
            "\n",
            "Número de ciclos de manutenção: 12 5\n",
            "Tempos para manutenções preventivas: [0, 16, 57, 71, 181, 340, 369, 396, 473, 535, 616, 657, 687]\n",
            "Severidade para cada subsistema: [0.25, 0.25, 0.25, 0.75, 0.5, 0.75, 0.25, 0.75, 0.5, 0.25, 0.5, 0.25]\n",
            "Número de Sisemas: 5\n",
            "Fator:  [0.06508606740734102, 0.05667818496872001, 0.05667818496872001, 0.05667818496872001, 0.16057937889727636, 0.1101439532860915, 0.16057937889727636, 0.05667818496872001, 0.16057937889727636, 0.1101439532860915, 0.05667818496872001, 0.1101439532860915, 0.05667818496872001]\n",
            "Media de falhas:  [0, 0.01649136718820338, 0.20357570518662496, 0.31301176710903367, 2.0378049209811877, 7.149439691250869, 8.266611726151687, 9.452106266069933, 13.120025639619838, 16.91884412168437, 22.01065272691706, 25.003797994378573, 27.44828964116949, 21.10613870618868]\n",
            "Custo =  3496.3352061610444\n"
          ]
        },
        {
          "output_type": "stream",
          "name": "stderr",
          "text": [
            "pyswarms.single.global_best: 100%|██████████|1/1, best_cost=1.87e+3\n",
            "2023-10-27 18:01:15,363 - pyswarms.single.global_best - INFO - Optimization finished | best cost: 1871.2408108741981, best pos: [1.55784524 2.40925047 4.21814412 2.33226706 4.63826437 0.66130805\n",
            " 5.42753881 3.74209043 2.83736119 1.00692466 6.50970592 0.33451155\n",
            " 5.1899075  1.73314061 6.44102677 5.75236251 5.05845709 3.83156043\n",
            " 6.43755862 2.56182093 1.71073712 2.11685732 1.73375703 2.84793267]\n",
            "2023-10-27 18:01:15,365 - pyswarms.single.global_best - INFO - Optimize for 1 iters with {'c1': 0.5, 'c2': 0.3, 'w': 0.9}\n"
          ]
        },
        {
          "output_type": "stream",
          "name": "stdout",
          "text": [
            "\n",
            "=========================================================================\n",
            "\n",
            "Número de ciclos de manutenção: 10 5\n",
            "Tempos para manutenções preventivas: [0, 17, 182, 272, 370, 401, 472, 536, 618, 649, 685]\n",
            "Severidade para cada subsistema: [0.25, 0.75, 0.75, 0.75, 0.25, 0.75, 0.5, 0.25, 0.5, 0.25]\n",
            "Número de Sisemas: 5\n",
            "Fator:  [0.06508606740734102, 0.05667818496872001, 0.16057937889727636, 0.16057937889727636, 0.16057937889727636, 0.05667818496872001, 0.16057937889727636, 0.1101439532860915, 0.05667818496872001, 0.1101439532860915, 0.05667818496872001]\n",
            "Media de falhas:  [0, 0.018616218791185957, 2.105831723714058, 4.611553136303179, 8.102797248955651, 9.401180028982331, 12.794194408971048, 16.716020614867737, 21.884780734262236, 24.135085893345835, 27.04748328479762, 20.859629714883248]\n",
            "Custo =  2997.572664958498\n"
          ]
        },
        {
          "output_type": "stream",
          "name": "stderr",
          "text": [
            "pyswarms.single.global_best: 100%|██████████|1/1, best_cost=1.87e+3\n",
            "2023-10-27 18:01:15,380 - pyswarms.single.global_best - INFO - Optimization finished | best cost: 1871.2408108741981, best pos: [1.5578017  2.40939459 4.23095736 2.33226282 4.63826905 0.66131126\n",
            " 5.4276218  3.74152943 2.84741198 4.97820857 6.50962229 0.33453702\n",
            " 5.18982568 1.73312499 6.44086381 5.75228018 5.05775618 3.8339246\n",
            " 6.43756434 2.55987449 1.70977197 2.11689738 1.73288768 2.84789633]\n",
            "2023-10-27 18:01:15,382 - pyswarms.single.global_best - INFO - Optimize for 1 iters with {'c1': 0.5, 'c2': 0.3, 'w': 0.9}\n"
          ]
        },
        {
          "output_type": "stream",
          "name": "stdout",
          "text": [
            "\n",
            "=========================================================================\n",
            "\n",
            "Número de ciclos de manutenção: 11 5\n",
            "Tempos para manutenções preventivas: [0, 17, 81, 185, 226, 270, 370, 406, 472, 536, 620, 683]\n",
            "Severidade para cada subsistema: [0.25, 0.5, 0.75, 0.75, 0.75, 0.75, 0.25, 0.75, 0.5, 0.25, 0.25]\n",
            "Número de Sisemas: 5\n",
            "Fator:  [0.06508606740734102, 0.05667818496872001, 0.1101439532860915, 0.16057937889727636, 0.16057937889727636, 0.16057937889727636, 0.16057937889727636, 0.05667818496872001, 0.16057937889727636, 0.1101439532860915, 0.05667818496872001, 0.05667818496872001]\n",
            "Media de falhas:  [0, 0.018616218791185957, 0.4129522317804909, 2.1296053721443378, 3.104975039604664, 4.301895541109956, 7.855675988615279, 9.375024858467569, 12.543467573277207, 16.465293779173898, 21.770896829209807, 26.487770355301823, 20.065053869005297]\n",
            "Custo =  3221.0641916589743\n"
          ]
        },
        {
          "output_type": "stream",
          "name": "stderr",
          "text": [
            "pyswarms.single.global_best: 100%|██████████|1/1, best_cost=1.87e+3\n",
            "2023-10-27 18:01:15,398 - pyswarms.single.global_best - INFO - Optimization finished | best cost: 1871.2408108741981, best pos: [1.55774822 2.40930035 4.24512126 2.3323345  4.63827239 0.66131407\n",
            " 5.42769148 3.74178694 2.89490364 1.25456552 6.50961653 0.33484135\n",
            " 5.18975514 1.73308304 6.44182921 5.75220583 5.0572248  3.83560565\n",
            " 6.43755688 2.55821775 1.70862866 2.11689211 1.7321675  2.84786817]\n",
            "2023-10-27 18:01:15,401 - pyswarms.single.global_best - INFO - Optimize for 1 iters with {'c1': 0.5, 'c2': 0.3, 'w': 0.9}\n"
          ]
        },
        {
          "output_type": "stream",
          "name": "stdout",
          "text": [
            "\n",
            "=========================================================================\n",
            "\n",
            "Número de ciclos de manutenção: 10 5\n",
            "Tempos para manutenções preventivas: [0, 17, 190, 368, 411, 472, 480, 537, 622, 680, 690]\n",
            "Severidade para cada subsistema: [0.25, 0.75, 0.75, 0.25, 0.75, 0.75, 0.5, 0.25, 0.25, 0.5]\n",
            "Número de Sisemas: 5\n",
            "Fator:  [0.06508606740734102, 0.05667818496872001, 0.16057937889727636, 0.16057937889727636, 0.05667818496872001, 0.16057937889727636, 0.16057937889727636, 0.1101439532860915, 0.05667818496872001, 0.05667818496872001, 0.1101439532860915]\n",
            "Media de falhas:  [0, 0.018616218791185957, 2.295912012191663, 8.429378448652269, 10.254205357715602, 13.195898582667468, 13.657390042891281, 16.815155012061577, 22.198525094594086, 26.53568537303913, 27.36551712234695, 20.36530423878025]\n",
            "Custo =  4686.763651711131\n"
          ]
        },
        {
          "output_type": "stream",
          "name": "stderr",
          "text": [
            "pyswarms.single.global_best: 100%|██████████|1/1, best_cost=1.87e+3\n",
            "2023-10-27 18:01:15,416 - pyswarms.single.global_best - INFO - Optimization finished | best cost: 1871.2408108741981, best pos: [1.55764439 2.40916584 4.2630745  2.33244233 4.63826073 0.66131638\n",
            " 5.42773678 3.7423378  2.96226526 4.49127307 6.50967105 0.33543594\n",
            " 5.18971705 1.7330256  6.44290467 5.75214458 5.05723929 3.83547761\n",
            " 6.43754248 2.55742692 1.7076079  2.11686096 1.73178457 2.84784347]\n",
            "2023-10-27 18:01:15,418 - pyswarms.single.global_best - INFO - Optimize for 1 iters with {'c1': 0.5, 'c2': 0.3, 'w': 0.9}\n"
          ]
        },
        {
          "output_type": "stream",
          "name": "stdout",
          "text": [
            "\n",
            "=========================================================================\n",
            "\n",
            "Número de ciclos de manutenção: 13 5\n",
            "Tempos para manutenções preventivas: [0, 17, 77, 195, 255, 367, 417, 472, 481, 537, 623, 645, 678, 692]\n",
            "Severidade para cada subsistema: [0.25, 0.75, 0.75, 0.5, 0.75, 0.25, 0.75, 0.75, 0.5, 0.25, 0.25, 0.25, 0.5]\n",
            "Número de Sisemas: 5\n",
            "Fator:  [0.06508606740734102, 0.05667818496872001, 0.16057937889727636, 0.16057937889727636, 0.1101439532860915, 0.16057937889727636, 0.05667818496872001, 0.16057937889727636, 0.16057937889727636, 0.1101439532860915, 0.05667818496872001, 0.05667818496872001, 0.05667818496872001, 0.1101439532860915]\n",
            "Media de falhas:  [0, 0.018616218791185957, 0.37288257315418843, 2.369512643760237, 3.8628501215320155, 7.748327345285543, 10.006053419322454, 12.672772562178496, 13.192527776957213, 16.297332075618762, 21.749551986514753, 23.34639970516537, 25.993778338049324, 27.1557463139403, 19.989511029383944]\n",
            "Custo =  5342.829105079484\n"
          ]
        },
        {
          "output_type": "stream",
          "name": "stderr",
          "text": [
            "pyswarms.single.global_best: 100%|██████████|1/1, best_cost=1.87e+3\n",
            "2023-10-27 18:01:15,434 - pyswarms.single.global_best - INFO - Optimization finished | best cost: 1871.2408108741981, best pos: [1.55754406 2.40902523 4.28527205 2.33258037 4.63823005 0.66131844\n",
            " 5.42775768 3.74315402 3.02297058 0.39801994 6.50972315 0.33617611\n",
            " 5.18970595 1.73295619 6.44416963 5.75212679 5.05732721 3.83357359\n",
            " 6.43752851 2.5577448  1.70671725 2.11679402 1.7320569  2.84783342]\n",
            "2023-10-27 18:01:15,435 - pyswarms.single.global_best - INFO - Optimize for 1 iters with {'c1': 0.5, 'c2': 0.3, 'w': 0.9}\n"
          ]
        },
        {
          "output_type": "stream",
          "name": "stdout",
          "text": [
            "\n",
            "=========================================================================\n",
            "\n",
            "Número de ciclos de manutenção: 13 5\n",
            "Tempos para manutenções preventivas: [0, 16, 199, 214, 240, 286, 355, 366, 471, 482, 536, 624, 677, 691]\n",
            "Severidade para cada subsistema: [0.25, 0.75, 0.5, 0.5, 0.5, 0.5, 0.75, 0.75, 0.75, 0.5, 0.25, 0.25, 0.5]\n",
            "Número de Sisemas: 5\n",
            "Fator:  [0.06508606740734102, 0.05667818496872001, 0.16057937889727636, 0.1101439532860915, 0.1101439532860915, 0.1101439532860915, 0.1101439532860915, 0.16057937889727636, 0.16057937889727636, 0.16057937889727636, 0.1101439532860915, 0.05667818496872001, 0.05667818496872001, 0.1101439532860915]\n",
            "Media de falhas:  [0, 0.01649136718820338, 2.5209621479821136, 2.8972520005682143, 3.5408583621998333, 4.938964642835674, 7.5004963761715215, 7.954596992854259, 13.054338620141609, 13.620609313368515, 16.613415357919763, 22.194243565065587, 26.15261439843874, 27.312888595530783, 20.229721368516905]\n",
            "Custo =  5938.991432170774\n"
          ]
        },
        {
          "output_type": "stream",
          "name": "stderr",
          "text": [
            "pyswarms.single.global_best: 100%|██████████|1/1, best_cost=1.87e+3\n",
            "2023-10-27 18:01:15,452 - pyswarms.single.global_best - INFO - Optimization finished | best cost: 1871.2408108741981, best pos: [1.55744269 2.40887318 4.3055714  2.33271041 4.63819062 0.66131915\n",
            " 5.42774028 3.74411183 3.07942053 3.56776211 6.50978091 0.33683603\n",
            " 5.18970257 1.73288381 6.44597607 5.75211785 5.05794573 3.83127956\n",
            " 6.43751441 2.55946682 1.70597785 2.11672478 1.73235346 2.84785792]\n",
            "2023-10-27 18:01:15,454 - pyswarms.single.global_best - INFO - Optimize for 1 iters with {'c1': 0.5, 'c2': 0.3, 'w': 0.9}\n"
          ]
        },
        {
          "output_type": "stream",
          "name": "stdout",
          "text": [
            "\n",
            "=========================================================================\n",
            "\n",
            "Número de ciclos de manutenção: 11 5\n",
            "Tempos para manutenções preventivas: [0, 16, 168, 201, 274, 364, 472, 482, 535, 624, 677, 690]\n",
            "Severidade para cada subsistema: [0.25, 0.25, 0.75, 0.5, 0.75, 0.75, 0.75, 0.5, 0.25, 0.25, 0.5]\n",
            "Número de Sisemas: 5\n",
            "Fator:  [0.06508606740734102, 0.05667818496872001, 0.05667818496872001, 0.16057937889727636, 0.1101439532860915, 0.16057937889727636, 0.16057937889727636, 0.16057937889727636, 0.1101439532860915, 0.05667818496872001, 0.05667818496872001, 0.1101439532860915]\n",
            "Media de falhas:  [0, 0.01649136718820338, 1.794093281382547, 2.536160677240192, 4.656890602810879, 7.836324756130388, 13.077896204056115, 13.593123246090062, 16.527107098837387, 22.167478407878047, 26.1258492412512, 27.2024130648182, 20.2022001812515]\n",
            "Custo =  4614.5941294354525\n"
          ]
        },
        {
          "output_type": "stream",
          "name": "stderr",
          "text": [
            "pyswarms.single.global_best: 100%|██████████|1/1, best_cost=1.87e+3"
          ]
        },
        {
          "output_type": "stream",
          "name": "stdout",
          "text": [
            "\n",
            "=========================================================================\n",
            "\n",
            "Número de ciclos de manutenção: 10 5\n",
            "Tempos para manutenções preventivas: [0, 16, 201, 221, 357, 363, 472, 483, 534, 624, 677]\n",
            "Severidade para cada subsistema: [0.25, 0.75, 0.25, 0.5, 0.75, 0.75, 0.75, 0.5, 0.25, 0.25]\n",
            "Número de Sisemas: 5\n",
            "Fator:  [0.06508606740734102, 0.05667818496872001, 0.16057937889727636, 0.05667818496872001, 0.1101439532860915, 0.16057937889727636, 0.16057937889727636, 0.16057937889727636, 0.1101439532860915, 0.05667818496872001, 0.05667818496872001]\n",
            "Media de falhas:  [0, 0.01649136718820338, 2.572093851496784, 3.085077304507423, 7.5144077186402445, 7.776241043297255, 13.06089264740304, 13.628348078584933, 16.450564964645853, 22.150392283637288, 26.10876311701044, 20.17660864940124]\n",
            "Custo =  5581.363095608537\n"
          ]
        },
        {
          "output_type": "stream",
          "name": "stderr",
          "text": [
            "\n",
            "2023-10-27 18:01:15,469 - pyswarms.single.global_best - INFO - Optimization finished | best cost: 1871.2408108741981, best pos: [1.55735227 2.40867723 4.31959513 2.33283164 4.63815513 0.66131605\n",
            " 5.42771716 3.74501055 3.12903453 6.41221134 6.50985926 0.33736588\n",
            " 5.18972838 1.73282298 6.44792213 5.75212448 5.05877961 3.82907572\n",
            " 6.43750211 2.5619381  1.70585548 2.1166562  1.7328527  2.84789728]\n",
            "2023-10-27 18:01:15,470 - pyswarms.single.global_best - INFO - Optimize for 1 iters with {'c1': 0.5, 'c2': 0.3, 'w': 0.9}\n",
            "pyswarms.single.global_best: 100%|██████████|1/1, best_cost=1.87e+3\n",
            "2023-10-27 18:01:15,484 - pyswarms.single.global_best - INFO - Optimization finished | best cost: 1871.2408108741981, best pos: [1.55728744 2.40848653 4.32393851 2.33291358 4.63812541 0.66131132\n",
            " 5.42769274 3.7456459  3.16145815 1.61220248 6.50993368 0.33780074\n",
            " 5.18977705 1.73278896 6.44968335 5.75214849 5.05962102 3.82716036\n",
            " 6.43749328 2.56431359 1.70587376 2.11660532 1.73344128 2.84794186]\n",
            "2023-10-27 18:01:15,486 - pyswarms.single.global_best - INFO - Optimize for 1 iters with {'c1': 0.5, 'c2': 0.3, 'w': 0.9}\n"
          ]
        },
        {
          "output_type": "stream",
          "name": "stdout",
          "text": [
            "\n",
            "=========================================================================\n",
            "\n",
            "Número de ciclos de manutenção: 10 5\n",
            "Tempos para manutenções preventivas: [0, 16, 70, 201, 225, 363, 472, 483, 533, 624, 678]\n",
            "Severidade para cada subsistema: [0.25, 0.75, 0.75, 0.5, 0.75, 0.75, 0.75, 0.5, 0.25, 0.25]\n",
            "Número de Sisemas: 5\n",
            "Fator:  [0.06508606740734102, 0.05667818496872001, 0.16057937889727636, 0.16057937889727636, 0.1101439532860915, 0.16057937889727636, 0.16057937889727636, 0.16057937889727636, 0.1101439532860915, 0.05667818496872001, 0.05667818496872001]\n",
            "Media de falhas:  [0, 0.01649136718820338, 0.30801726683128466, 2.5228619459326547, 3.0802527153594785, 7.651908887517351, 12.936560491623137, 13.50401592280503, 16.267687802697512, 22.026884039546662, 26.063404227372278, 20.04977371281091]\n",
            "Custo =  3807.4973998298665\n"
          ]
        },
        {
          "output_type": "stream",
          "name": "stderr",
          "text": [
            "pyswarms.single.global_best: 100%|██████████|1/1, best_cost=1.87e+3\n",
            "2023-10-27 18:01:15,501 - pyswarms.single.global_best - INFO - Optimization finished | best cost: 1871.2408108741981, best pos: [1.55727521 2.40832204 4.32530517 2.33293969 4.63810179 0.66130686\n",
            " 5.42766244 3.74615956 3.15688631 3.82825662 6.51000039 0.33785724\n",
            " 5.18984765 1.73278819 6.45115855 5.75219932 5.06028738 3.82560771\n",
            " 6.43749099 2.56610983 1.70609731 2.11658594 1.73409735 2.84798215]\n",
            "2023-10-27 18:01:15,503 - pyswarms.single.global_best - INFO - Optimize for 1 iters with {'c1': 0.5, 'c2': 0.3, 'w': 0.9}\n"
          ]
        },
        {
          "output_type": "stream",
          "name": "stdout",
          "text": [
            "\n",
            "=========================================================================\n",
            "\n",
            "Número de ciclos de manutenção: 12 5\n",
            "Tempos para manutenções preventivas: [0, 16, 200, 223, 349, 363, 416, 472, 483, 533, 623, 633, 680]\n",
            "Severidade para cada subsistema: [0.25, 0.75, 0.75, 0.5, 0.75, 0.25, 0.75, 0.75, 0.5, 0.25, 0.25, 0.25]\n",
            "Número de Sisemas: 5\n",
            "Fator:  [0.06508606740734102, 0.05667818496872001, 0.16057937889727636, 0.16057937889727636, 0.1101439532860915, 0.16057937889727636, 0.05667818496872001, 0.16057937889727636, 0.16057937889727636, 0.1101439532860915, 0.05667818496872001, 0.05667818496872001, 0.05667818496872001]\n",
            "Media de falhas:  [0, 0.01649136718820338, 2.546463806854927, 3.1380385020258856, 7.187974554602325, 7.727397562601797, 10.106580682071504, 12.819346616869069, 13.456014219375252, 16.219686099267737, 21.909821840904517, 22.627965607180613, 26.37243360056837, 20.19550984426629]\n",
            "Custo =  5701.862505831265\n"
          ]
        },
        {
          "output_type": "stream",
          "name": "stderr",
          "text": [
            "pyswarms.single.global_best: 100%|██████████|1/1, best_cost=1.87e+3\n",
            "2023-10-27 18:01:15,517 - pyswarms.single.global_best - INFO - Optimization finished | best cost: 1871.2408108741981, best pos: [1.55727492 2.40819768 4.32060758 2.33292991 4.6380975  0.66130224\n",
            " 5.42761533 3.74627039 3.12994377 5.76389768 6.51004831 0.33788548\n",
            " 5.18991564 1.73281003 6.45210227 5.75226545 5.06078913 3.82499684\n",
            " 6.43749582 2.56760082 1.70701143 2.1165736  1.73467844 2.84800966]\n",
            "2023-10-27 18:01:15,519 - pyswarms.single.global_best - INFO - Optimize for 1 iters with {'c1': 0.5, 'c2': 0.3, 'w': 0.9}\n"
          ]
        },
        {
          "output_type": "stream",
          "name": "stdout",
          "text": [
            "\n",
            "=========================================================================\n",
            "\n",
            "Número de ciclos de manutenção: 11 5\n",
            "Tempos para manutenções preventivas: [0, 16, 88, 197, 363, 411, 472, 483, 533, 622, 650, 681]\n",
            "Severidade para cada subsistema: [0.25, 0.5, 0.75, 0.75, 0.25, 0.75, 0.75, 0.5, 0.25, 0.25, 0.25]\n",
            "Número de Sisemas: 5\n",
            "Fator:  [0.06508606740734102, 0.05667818496872001, 0.1101439532860915, 0.16057937889727636, 0.16057937889727636, 0.05667818496872001, 0.16057937889727636, 0.16057937889727636, 0.1101439532860915, 0.05667818496872001, 0.05667818496872001, 0.05667818496872001]\n",
            "Media de falhas:  [0, 0.01649136718820338, 0.48848093046891106, 2.415100751609636, 7.923518071828958, 9.950080034261674, 12.89177325921354, 13.528440861719723, 16.292112741612208, 21.913316262098437, 23.95324643451999, 26.454954997490812, 20.19621404669474]\n",
            "Custo =  4130.05686415915\n"
          ]
        },
        {
          "output_type": "stream",
          "name": "stderr",
          "text": [
            "pyswarms.single.global_best: 100%|██████████|1/1, best_cost=1.87e+3\n",
            "2023-10-27 18:01:15,535 - pyswarms.single.global_best - INFO - Optimization finished | best cost: 1871.2408108741981, best pos: [1.55729831 2.40812235 4.31403922 2.33290218 4.63811594 0.6612987\n",
            " 5.42756839 3.74624475 3.08351157 0.34390165 6.51005644 0.33773518\n",
            " 5.18997639 1.73285224 6.45266615 5.75232774 5.06092536 3.82495404\n",
            " 6.43750095 2.56876574 1.70829242 2.1165673  1.73517446 2.84802699]\n",
            "2023-10-27 18:01:15,537 - pyswarms.single.global_best - INFO - Optimize for 1 iters with {'c1': 0.5, 'c2': 0.3, 'w': 0.9}\n"
          ]
        },
        {
          "output_type": "stream",
          "name": "stdout",
          "text": [
            "\n",
            "=========================================================================\n",
            "\n",
            "Número de ciclos de manutenção: 10 5\n",
            "Tempos para manutenções preventivas: [0, 16, 73, 194, 363, 406, 472, 483, 533, 621, 682]\n",
            "Severidade para cada subsistema: [0.25, 0.5, 0.75, 0.75, 0.25, 0.75, 0.75, 0.5, 0.25, 0.25]\n",
            "Número de Sisemas: 5\n",
            "Fator:  [0.06508606740734102, 0.05667818496872001, 0.1101439532860915, 0.16057937889727636, 0.16057937889727636, 0.05667818496872001, 0.16057937889727636, 0.16057937889727636, 0.1101439532860915, 0.05667818496872001, 0.05667818496872001]\n",
            "Media de falhas:  [0, 0.01649136718820338, 0.335203423255362, 2.3472630205454292, 7.929855894375072, 9.7315224754774, 12.899965190287038, 13.53663279279322, 16.300304672685705, 21.852704246292493, 26.41897409317296, 20.078302232329833]\n",
            "Custo =  3694.196427665937\n"
          ]
        },
        {
          "output_type": "stream",
          "name": "stderr",
          "text": [
            "pyswarms.single.global_best: 100%|██████████|1/1, best_cost=1.87e+3\n",
            "2023-10-27 18:01:15,550 - pyswarms.single.global_best - INFO - Optimization finished | best cost: 1871.2408108741981, best pos: [1.55733094 2.40812565 4.30210759 2.33285221 4.63815383 0.66129605\n",
            " 5.42752837 3.74584087 3.03841325 2.42299359 6.51005707 0.33746404\n",
            " 5.19000002 1.7328997  6.4520561  5.75237075 5.06088786 3.82606647\n",
            " 6.43750593 2.56959532 1.7094637  2.11657014 1.73545813 2.84802462]\n",
            "2023-10-27 18:01:15,551 - pyswarms.single.global_best - INFO - Optimize for 1 iters with {'c1': 0.5, 'c2': 0.3, 'w': 0.9}\n"
          ]
        },
        {
          "output_type": "stream",
          "name": "stdout",
          "text": [
            "\n",
            "=========================================================================\n",
            "\n",
            "Número de ciclos de manutenção: 13 5\n",
            "Tempos para manutenções preventivas: [0, 16, 60, 191, 220, 246, 338, 364, 404, 472, 482, 533, 620, 683]\n",
            "Severidade para cada subsistema: [0.25, 0.5, 0.75, 0.25, 0.5, 0.75, 0.75, 0.25, 0.75, 0.75, 0.5, 0.25, 0.25]\n",
            "Número de Sisemas: 5\n",
            "Fator:  [0.06508606740734102, 0.05667818496872001, 0.1101439532860915, 0.16057937889727636, 0.05667818496872001, 0.1101439532860915, 0.16057937889727636, 0.16057937889727636, 0.05667818496872001, 0.16057937889727636, 0.16057937889727636, 0.1101439532860915, 0.05667818496872001, 0.05667818496872001]\n",
            "Media de falhas:  [0, 0.01649136718820338, 0.22574982837498528, 2.2818721851582717, 2.9693077405947346, 3.6297264651344685, 6.915898803303975, 7.963776744971442, 9.636354905273917, 12.894887626492045, 13.4730348887806, 16.28975923455128, 21.773483135759417, 26.490356661851433, 20.067640175554907]\n",
            "Custo =  4916.528948274996\n"
          ]
        },
        {
          "output_type": "stream",
          "name": "stderr",
          "text": [
            "\rpyswarms.single.global_best:   0%|          |0/1"
          ]
        },
        {
          "output_type": "stream",
          "name": "stdout",
          "text": [
            "\n",
            "=========================================================================\n",
            "\n",
            "Número de ciclos de manutenção: 13 5\n",
            "Tempos para manutenções preventivas: [0, 16, 159, 188, 254, 275, 365, 402, 472, 482, 534, 620, 630, 684]\n",
            "Severidade para cada subsistema: [0.25, 0.25, 0.75, 0.5, 0.5, 0.75, 0.25, 0.75, 0.75, 0.5, 0.25, 0.5, 0.25]\n",
            "Número de Sisemas: 5\n",
            "Fator:  [0.06508606740734102, 0.05667818496872001, 0.05667818496872001, 0.16057937889727636, 0.1101439532860915, 0.1101439532860915, 0.16057937889727636, 0.05667818496872001, 0.16057937889727636, 0.16057937889727636, 0.1101439532860915, 0.05667818496872001, 0.1101439532860915, 0.05667818496872001]\n",
            "Media de falhas:  [0, 0.01649136718820338, 1.606178978595034, 2.2192376723825267, 4.003052893409139, 4.606671960383562, 7.956014897294633, 9.58742103965253, 12.935695313760103, 13.513842576048658, 16.389132529120506, 21.813569905293015, 22.528289421062155, 26.83508445751848, 20.724229561806826]\n",
            "Custo =  5349.513348511617\n"
          ]
        },
        {
          "output_type": "stream",
          "name": "stderr",
          "text": [
            "pyswarms.single.global_best: 100%|██████████|1/1, best_cost=1.87e+3\n",
            "2023-10-27 18:01:15,644 - pyswarms.single.global_best - INFO - Optimization finished | best cost: 1871.2408108741981, best pos: [1.55737366 2.40823299 4.29122715 2.33279111 4.6381942  0.66129568\n",
            " 5.42750237 3.74522469 2.99735267 4.54497946 6.51004792 0.33706235\n",
            " 5.19001691 1.73294428 6.45070247 5.75238747 5.0603712  3.82728236\n",
            " 6.43751085 2.56942167 1.71039104 2.11659008 1.73536112 2.84801725]\n",
            "2023-10-27 18:01:15,650 - pyswarms.single.global_best - INFO - Optimize for 1 iters with {'c1': 0.5, 'c2': 0.3, 'w': 0.9}\n",
            "pyswarms.single.global_best: 100%|██████████|1/1, best_cost=1.87e+3\n",
            "2023-10-27 18:01:15,708 - pyswarms.single.global_best - INFO - Optimization finished | best cost: 1871.2408108741981, best pos: [1.55742911 2.40839129 4.28139637 2.33272983 4.63823018 0.66129548\n",
            " 5.42749765 3.74462168 2.96241156 6.39921622 6.51001467 0.33663577\n",
            " 5.19000881 1.73298367 6.44894241 5.75237283 5.05982517 3.82894715\n",
            " 6.437518   2.56913723 1.71073784 2.11661704 1.73505245 2.84799393]\n"
          ]
        },
        {
          "output_type": "stream",
          "name": "stdout",
          "text": [
            "\n",
            "=========================================================================\n",
            "\n",
            "Número de ciclos de manutenção: 14 5\n",
            "Tempos para manutenções preventivas: [0, 16, 187, 232, 261, 283, 355, 366, 402, 472, 481, 534, 619, 633, 684]\n",
            "Severidade para cada subsistema: [0.25, 0.75, 0.5, 0.5, 0.5, 0.5, 0.75, 0.25, 0.75, 0.75, 0.5, 0.25, 0.5, 0.25]\n",
            "Número de Sisemas: 5\n",
            "Fator:  [0.06508606740734102, 0.05667818496872001, 0.16057937889727636, 0.1101439532860915, 0.1101439532860915, 0.1101439532860915, 0.1101439532860915, 0.16057937889727636, 0.05667818496872001, 0.16057937889727636, 0.16057937889727636, 0.1101439532860915, 0.05667818496872001, 0.1101439532860915, 0.05667818496872001]\n",
            "Media de falhas:  [0, 0.01649136718820338, 2.224956540712379, 3.375085852482011, 4.15479444009526, 4.84233886643005, 7.504433315586601, 7.958533932269338, 9.547649062439397, 12.895923336546971, 13.415678551325689, 16.343954471678426, 21.699865048432933, 22.702465933330974, 26.778694192111665, 20.66783929640001]\n",
            "Custo =  6383.40958776003\n"
          ]
        },
        {
          "output_type": "stream",
          "name": "stderr",
          "text": [
            "2023-10-27 18:01:15,714 - pyswarms.single.global_best - INFO - Optimize for 1 iters with {'c1': 0.5, 'c2': 0.3, 'w': 0.9}\n",
            "pyswarms.single.global_best:   0%|          |0/1, best_cost=1.87e+3"
          ]
        },
        {
          "output_type": "stream",
          "name": "stdout",
          "text": [
            "\n",
            "=========================================================================\n",
            "\n",
            "Número de ciclos de manutenção: 14 5\n",
            "Tempos para manutenções preventivas: [0, 16, 59, 62, 187, 266, 290, 367, 403, 472, 481, 535, 619, 635, 683]\n",
            "Severidade para cada subsistema: [0.25, 0.25, 0.5, 0.75, 0.5, 0.5, 0.75, 0.25, 0.75, 0.75, 0.5, 0.25, 0.5, 0.25]\n",
            "Número de Sisemas: 5\n",
            "Fator:  [0.06508606740734102, 0.05667818496872001, 0.05667818496872001, 0.1101439532860915, 0.16057937889727636, 0.1101439532860915, 0.1101439532860915, 0.16057937889727636, 0.05667818496872001, 0.16057937889727636, 0.16057937889727636, 0.1101439532860915, 0.05667818496872001, 0.1101439532860915, 0.05667818496872001]\n",
            "Media de falhas:  [0, 0.01649136718820338, 0.21822992876476938, 0.24028736237537573, 2.18436815231641, 4.274492116411627, 4.999997517964419, 7.9332221121707365, 9.52644808502853, 12.829895139479927, 13.349650354258644, 16.33664077537372, 21.63319833331636, 22.7810802244234, 26.619910775262255, 20.585954548026045]\n",
            "Custo =  6366.549423887022\n"
          ]
        },
        {
          "output_type": "stream",
          "name": "stderr",
          "text": [
            "\rpyswarms.single.global_best: 100%|██████████|1/1, best_cost=1.87e+3\n",
            "2023-10-27 18:01:15,805 - pyswarms.single.global_best - INFO - Optimization finished | best cost: 1871.2408108741981, best pos: [1.55748866 2.40859832 4.27330343 2.33267724 4.6382553  0.66129618\n",
            " 5.42749571 3.74404706 2.94044772 0.60506684 6.50997746 0.33619753\n",
            " 5.18997236 1.73301701 6.44716634 5.75233671 5.05927292 3.83053295\n",
            " 6.43752472 2.56775117 1.71086162 2.11665747 1.73450545 2.84796392]\n",
            "2023-10-27 18:01:15,807 - pyswarms.single.global_best - INFO - Optimize for 1 iters with {'c1': 0.5, 'c2': 0.3, 'w': 0.9}\n",
            "pyswarms.single.global_best: 100%|██████████|1/1, best_cost=1.87e+3\n",
            "2023-10-27 18:01:15,839 - pyswarms.single.global_best - INFO - Optimization finished | best cost: 1871.2408108741981, best pos: [1.55754083 2.40878573 4.27003592 2.332647   4.63826597 0.66129739\n",
            " 5.42750144 3.74361592 2.93250802 1.97197823 6.50993741 0.33580101\n",
            " 5.18993013 1.73303961 6.44570065 5.7522875  5.05874498 3.83171432\n",
            " 6.4375304  2.56540817 1.71050342 2.11669609 1.73398469 2.84793507]\n",
            "2023-10-27 18:01:15,845 - pyswarms.single.global_best - INFO - Optimize for 1 iters with {'c1': 0.5, 'c2': 0.3, 'w': 0.9}\n"
          ]
        },
        {
          "output_type": "stream",
          "name": "stdout",
          "text": [
            "\n",
            "=========================================================================\n",
            "\n",
            "Número de ciclos de manutenção: 17 5\n",
            "Tempos para manutenções preventivas: [0, 16, 59, 79, 179, 188, 229, 268, 295, 338, 367, 406, 472, 481, 535, 619, 637, 683]\n",
            "Severidade para cada subsistema: [0.25, 0.25, 0.5, 0.75, 0.75, 0.75, 0.5, 0.5, 0.25, 0.75, 0.25, 0.75, 0.75, 0.5, 0.25, 0.5, 0.25]\n",
            "Número de Sisemas: 5\n",
            "Fator:  [0.06508606740734102, 0.05667818496872001, 0.05667818496872001, 0.1101439532860915, 0.16057937889727636, 0.16057937889727636, 0.16057937889727636, 0.1101439532860915, 0.1101439532860915, 0.05667818496872001, 0.16057937889727636, 0.05667818496872001, 0.16057937889727636, 0.16057937889727636, 0.1101439532860915, 0.05667818496872001, 0.1101439532860915, 0.05667818496872001]\n",
            "Media de falhas:  [0, 0.01649136718820338, 0.21822992876476938, 0.3871270123909421, 1.9878381278495165, 2.177284401802096, 3.1167924984054607, 4.177791098592537, 5.005002099998925, 6.573774902051021, 7.748144308177924, 9.579843875183913, 12.748286589993551, 13.268041804772269, 16.255032225887344, 21.551589783829986, 22.84526575344594, 26.529376152260383, 20.495419925024173]\n",
            "Custo =  7553.310764807203\n"
          ]
        },
        {
          "output_type": "stream",
          "name": "stderr",
          "text": [
            "pyswarms.single.global_best: 100%|██████████|1/1, best_cost=1.87e+3\n",
            "2023-10-27 18:01:15,871 - pyswarms.single.global_best - INFO - Optimization finished | best cost: 1871.2408108741981, best pos: [1.55757822 2.40890773 4.27055708 2.33262109 4.63825803 0.66130055\n",
            " 5.42753119 3.74323653 2.93038363 3.56707763 6.5099012  0.33553811\n",
            " 5.18988633 1.73302707 6.44475055 5.75224146 5.05833627 3.83257566\n",
            " 6.43753541 2.56329229 1.71014781 2.11673124 1.73351054 2.84791019]\n",
            "2023-10-27 18:01:15,874 - pyswarms.single.global_best - INFO - Optimize for 1 iters with {'c1': 0.5, 'c2': 0.3, 'w': 0.9}\n"
          ]
        },
        {
          "output_type": "stream",
          "name": "stdout",
          "text": [
            "\n",
            "=========================================================================\n",
            "\n",
            "Número de ciclos de manutenção: 12 5\n",
            "Tempos para manutenções preventivas: [0, 16, 189, 266, 352, 367, 408, 472, 480, 536, 619, 631, 682]\n",
            "Severidade para cada subsistema: [0.25, 0.75, 0.5, 0.5, 0.75, 0.25, 0.75, 0.75, 0.5, 0.25, 0.5, 0.25]\n",
            "Número de Sisemas: 5\n",
            "Fator:  [0.06508606740734102, 0.05667818496872001, 0.16057937889727636, 0.1101439532860915, 0.1101439532860915, 0.16057937889727636, 0.05667818496872001, 0.16057937889727636, 0.16057937889727636, 0.1101439532860915, 0.05667818496872001, 0.1101439532860915, 0.05667818496872001]\n",
            "Media de falhas:  [0, 0.01649136718820338, 2.2730069026735684, 4.417815074296814, 7.359739774128718, 7.9776789600770845, 9.805339279836357, 12.883343536292278, 13.344834996516092, 16.443608279989494, 21.680725727203264, 22.538558679780937, 26.602446130805042, 20.64528856618653]\n",
            "Custo =  5712.555881037296\n"
          ]
        },
        {
          "output_type": "stream",
          "name": "stderr",
          "text": [
            "pyswarms.single.global_best: 100%|██████████|1/1, best_cost=1.87e+3\n",
            "2023-10-27 18:01:15,904 - pyswarms.single.global_best - INFO - Optimization finished | best cost: 1871.2408108741981, best pos: [1.55758639 2.40897915 4.27486763 2.33259837 4.63824532 0.66130377\n",
            " 5.42756123 3.74322504 2.94271214 4.98749707 6.50987334 0.3354734\n",
            " 5.18984648 1.73299573 6.44442295 5.75220011 5.05799249 3.83272795\n",
            " 6.43753942 2.56129868 1.70950204 2.1167597  1.7331352  2.84789573]\n"
          ]
        },
        {
          "output_type": "stream",
          "name": "stdout",
          "text": [
            "\n",
            "=========================================================================\n",
            "\n",
            "Número de ciclos de manutenção: 10 5\n",
            "Tempos para manutenções preventivas: [0, 16, 190, 256, 366, 411, 472, 480, 536, 619, 681]\n",
            "Severidade para cada subsistema: [0.25, 0.75, 0.5, 0.75, 0.25, 0.75, 0.75, 0.5, 0.25, 0.25]\n",
            "Número de Sisemas: 5\n",
            "Fator:  [0.06508606740734102, 0.05667818496872001, 0.16057937889727636, 0.1101439532860915, 0.16057937889727636, 0.05667818496872001, 0.16057937889727636, 0.16057937889727636, 0.1101439532860915, 0.05667818496872001, 0.05667818496872001]\n",
            "Media de falhas:  [0, 0.01649136718820338, 2.2972246722029355, 4.097025509434399, 7.910852886495588, 9.923231891190879, 12.864925116142743, 13.326416576366556, 16.42518985983996, 21.66230730705373, 26.293257149035504, 20.034516198239437]\n",
            "Custo =  4196.335385415442\n"
          ]
        },
        {
          "output_type": "stream",
          "name": "stderr",
          "text": [
            "2023-10-27 18:01:15,906 - pyswarms.single.global_best - INFO - Optimize for 1 iters with {'c1': 0.5, 'c2': 0.3, 'w': 0.9}\n",
            "pyswarms.single.global_best: 100%|██████████|1/1, best_cost=1.87e+3\n",
            "2023-10-27 18:01:15,921 - pyswarms.single.global_best - INFO - Optimization finished | best cost: 1871.2408108741981, best pos: [1.55756804 2.40894576 4.2813562  2.33260621 4.63823356 0.66130674\n",
            " 5.42758925 3.74338397 2.97169016 6.01381493 6.50986262 0.33542812\n",
            " 5.18981813 1.73296742 6.44443392 5.75217808 5.05788871 3.83222394\n",
            " 6.437539   2.55955355 1.70891178 2.11677191 1.73282942 2.84788425]\n",
            "2023-10-27 18:01:15,922 - pyswarms.single.global_best - INFO - Optimize for 1 iters with {'c1': 0.5, 'c2': 0.3, 'w': 0.9}\n"
          ]
        },
        {
          "output_type": "stream",
          "name": "stdout",
          "text": [
            "\n",
            "=========================================================================\n",
            "\n",
            "Número de ciclos de manutenção: 12 5\n",
            "Tempos para manutenções preventivas: [0, 16, 63, 192, 236, 247, 366, 414, 472, 481, 535, 620, 680]\n",
            "Severidade para cada subsistema: [0.25, 0.75, 0.75, 0.75, 0.5, 0.75, 0.25, 0.75, 0.75, 0.5, 0.25, 0.25]\n",
            "Número de Sisemas: 5\n",
            "Fator:  [0.06508606740734102, 0.05667818496872001, 0.16057937889727636, 0.16057937889727636, 0.16057937889727636, 0.1101439532860915, 0.16057937889727636, 0.05667818496872001, 0.16057937889727636, 0.16057937889727636, 0.1101439532860915, 0.05667818496872001, 0.05667818496872001]\n",
            "Media de falhas:  [0, 0.01649136718820338, 0.24908065547100144, 2.3041361328609433, 3.339831718947554, 3.6276153597406173, 7.706820025962094, 9.862596684287402, 12.667194869634088, 13.186950084412805, 16.17394050552788, 21.53900426459331, 26.019721087495377, 19.842797331193296]\n",
            "Custo =  5007.302655620526\n"
          ]
        },
        {
          "output_type": "stream",
          "name": "stderr",
          "text": [
            "pyswarms.single.global_best: 100%|██████████|1/1, best_cost=1.87e+3\n",
            "2023-10-27 18:01:15,935 - pyswarms.single.global_best - INFO - Optimization finished | best cost: 1871.2408108741981, best pos: [1.55754518 2.40888668 4.28768666 2.33263832 4.63821503 0.66130928\n",
            " 5.42761426 3.74368074 3.01121607 6.48871447 6.5098641  0.33555582\n",
            " 5.18980099 1.7329286  6.44475004 5.75215932 5.05807251 3.83136852\n",
            " 6.43753629 2.55888725 1.70837616 2.11676931 1.73259689 2.8478874 ]\n",
            "2023-10-27 18:01:15,936 - pyswarms.single.global_best - INFO - Optimize for 1 iters with {'c1': 0.5, 'c2': 0.3, 'w': 0.9}\n"
          ]
        },
        {
          "output_type": "stream",
          "name": "stdout",
          "text": [
            "\n",
            "=========================================================================\n",
            "\n",
            "Número de ciclos de manutenção: 14 5\n",
            "Tempos para manutenções preventivas: [0, 16, 69, 171, 193, 221, 299, 366, 416, 472, 481, 535, 621, 652, 679]\n",
            "Severidade para cada subsistema: [0.25, 0.75, 0.75, 0.75, 0.75, 0.5, 0.75, 0.25, 0.75, 0.75, 0.5, 0.25, 0.25, 0.25]\n",
            "Número de Sisemas: 5\n",
            "Fator:  [0.06508606740734102, 0.05667818496872001, 0.16057937889727636, 0.16057937889727636, 0.16057937889727636, 0.16057937889727636, 0.1101439532860915, 0.16057937889727636, 0.05667818496872001, 0.16057937889727636, 0.16057937889727636, 0.1101439532860915, 0.05667818496872001, 0.05667818496872001, 0.05667818496872001]\n",
            "Media de falhas:  [0, 0.01649136718820338, 0.2992122225286384, 1.821448248132038, 2.258426162850098, 2.8917628032490343, 5.141768886975655, 7.590253887522723, 9.842270556591549, 12.555036491389114, 13.074791706167831, 16.061782127282907, 21.495480362229532, 23.756400554733368, 25.93491551491661, 19.839695237408495]\n",
            "Custo =  5990.358153375997\n"
          ]
        },
        {
          "output_type": "stream",
          "name": "stderr",
          "text": [
            "pyswarms.single.global_best: 100%|██████████|1/1, best_cost=1.87e+3\n",
            "2023-10-27 18:01:15,949 - pyswarms.single.global_best - INFO - Optimization finished | best cost: 1871.2408108741981, best pos: [1.55750538 2.40878917 4.29366596 2.33269697 4.63819728 0.66131122\n",
            " 5.42762994 3.74395152 3.04804913 6.57890549 6.50987194 0.33584272\n",
            " 5.18980356 1.73289231 6.44540019 5.75217046 5.05827488 3.83015437\n",
            " 6.4375335  2.55885953 1.70796687 2.11675657 1.73272559 2.84790736]\n",
            "2023-10-27 18:01:15,950 - pyswarms.single.global_best - INFO - Optimize for 1 iters with {'c1': 0.5, 'c2': 0.3, 'w': 0.9}\n"
          ]
        },
        {
          "output_type": "stream",
          "name": "stdout",
          "text": [
            "\n",
            "=========================================================================\n",
            "\n",
            "Número de ciclos de manutenção: 12 5\n",
            "Tempos para manutenções preventivas: [0, 16, 66, 194, 292, 365, 416, 472, 481, 535, 621, 641, 679]\n",
            "Severidade para cada subsistema: [0.25, 0.75, 0.75, 0.5, 0.75, 0.25, 0.75, 0.75, 0.5, 0.25, 0.25, 0.25]\n",
            "Número de Sisemas: 5\n",
            "Fator:  [0.06508606740734102, 0.05667818496872001, 0.16057937889727636, 0.16057937889727636, 0.1101439532860915, 0.16057937889727636, 0.05667818496872001, 0.16057937889727636, 0.16057937889727636, 0.1101439532860915, 0.05667818496872001, 0.05667818496872001, 0.05667818496872001]\n",
            "Media de falhas:  [0, 0.01649136718820338, 0.27356813616453923, 2.351000640846723, 5.01859529232556, 7.659401036244091, 9.953906583360915, 12.666672518158482, 13.186427732937199, 16.173418154052275, 21.6071163889989, 23.05166514915578, 26.093955939948145, 19.99873566244003]\n",
            "Custo =  4815.1123500887625\n"
          ]
        },
        {
          "output_type": "stream",
          "name": "stderr",
          "text": [
            "pyswarms.single.global_best: 100%|██████████|1/1, best_cost=1.87e+3\n",
            "2023-10-27 18:01:15,963 - pyswarms.single.global_best - INFO - Optimization finished | best cost: 1871.2408108741981, best pos: [1.55746755 2.40865869 4.29901712 2.33276054 4.63818059 0.6613125\n",
            " 5.42763465 3.74420617 3.07756614 5.93969616 6.50988385 0.33613738\n",
            " 5.18981325 1.73286169 6.44655794 5.75220033 5.05861718 3.82890143\n",
            " 6.43752895 2.55935055 1.70775337 2.11673734 1.73312192 2.84793351]\n",
            "2023-10-27 18:01:15,965 - pyswarms.single.global_best - INFO - Optimize for 1 iters with {'c1': 0.5, 'c2': 0.3, 'w': 0.9}\n"
          ]
        },
        {
          "output_type": "stream",
          "name": "stdout",
          "text": [
            "\n",
            "=========================================================================\n",
            "\n",
            "Número de ciclos de manutenção: 13 5\n",
            "Tempos para manutenções preventivas: [0, 16, 61, 195, 223, 285, 365, 415, 472, 482, 534, 622, 638, 679]\n",
            "Severidade para cada subsistema: [0.25, 0.75, 0.75, 0.5, 0.5, 0.75, 0.25, 0.75, 0.75, 0.5, 0.25, 0.25, 0.25]\n",
            "Número de Sisemas: 5\n",
            "Fator:  [0.06508606740734102, 0.05667818496872001, 0.16057937889727636, 0.16057937889727636, 0.1101439532860915, 0.1101439532860915, 0.16057937889727636, 0.05667818496872001, 0.16057937889727636, 0.16057937889727636, 0.1101439532860915, 0.05667818496872001, 0.05667818496872001, 0.05667818496872001]\n",
            "Media de falhas:  [0, 0.01649136718820338, 0.23339825061998337, 2.378656788266071, 3.01802915815066, 4.756187096326306, 7.773411297885202, 10.019718549273142, 12.778444164964853, 13.356591427253408, 16.231881380325255, 21.793757179297526, 22.94711785320049, 26.2225957244854, 20.127375446977286]\n",
            "Custo =  4974.077923778312\n"
          ]
        },
        {
          "output_type": "stream",
          "name": "stderr",
          "text": [
            "pyswarms.single.global_best:   0%|          |0/1, best_cost=1.87e+3"
          ]
        },
        {
          "output_type": "stream",
          "name": "stdout",
          "text": [
            "\n",
            "=========================================================================\n",
            "\n",
            "Número de ciclos de manutenção: 11 5\n",
            "Tempos para manutenções preventivas: [0, 16, 195, 279, 364, 414, 472, 482, 534, 622, 635, 680]\n",
            "Severidade para cada subsistema: [0.25, 0.75, 0.5, 0.75, 0.25, 0.75, 0.75, 0.5, 0.25, 0.25, 0.25]\n",
            "Número de Sisemas: 5\n",
            "Fator:  [0.06508606740734102, 0.05667818496872001, 0.16057937889727636, 0.1101439532860915, 0.16057937889727636, 0.05667818496872001, 0.16057937889727636, 0.16057937889727636, 0.1101439532860915, 0.05667818496872001, 0.05667818496872001, 0.05667818496872001]\n",
            "Media de falhas:  [0, 0.01649136718820338, 2.4202393815588032, 4.858803750490193, 7.8801188411350545, 10.120716662096822, 12.925314847443506, 13.50346210973206, 16.37875206280391, 21.94062786177618, 22.875232167611987, 26.46547851440193, 20.28855475809985]\n",
            "Custo =  4410.277385438299\n"
          ]
        },
        {
          "output_type": "stream",
          "name": "stderr",
          "text": [
            "\rpyswarms.single.global_best: 100%|██████████|1/1, best_cost=1.87e+3\n",
            "2023-10-27 18:01:15,984 - pyswarms.single.global_best - INFO - Optimization finished | best cost: 1871.2408108741981, best pos: [1.55743643 2.40854019 4.30175054 2.33281344 4.63816842 0.66131154\n",
            " 5.42763152 3.74447005 3.09587806 5.16891018 6.50989493 0.33640442\n",
            " 5.18982496 1.73283453 6.44792847 5.75224502 5.0589465  3.82778283\n",
            " 6.43752398 2.56006438 1.70775676 2.11670883 1.73353688 2.84795984]\n",
            "2023-10-27 18:01:15,985 - pyswarms.single.global_best - INFO - Optimize for 1 iters with {'c1': 0.5, 'c2': 0.3, 'w': 0.9}\n",
            "pyswarms.single.global_best: 100%|██████████|1/1, best_cost=1.87e+3\n",
            "2023-10-27 18:01:16,004 - pyswarms.single.global_best - INFO - Optimization finished | best cost: 1871.2408108741981, best pos: [1.5574088  2.40845074 4.30205296 2.33284001 4.63815942 0.6613102\n",
            " 5.42761982 3.74468502 3.10944374 4.32772596 6.50990639 0.33661067\n",
            " 5.18984177 1.73281481 6.44917072 5.75229327 5.05928054 3.82708247\n",
            " 6.43751938 2.56111955 1.70785134 2.11668198 1.73394647 2.84798164]\n",
            "2023-10-27 18:01:16,005 - pyswarms.single.global_best - INFO - Optimize for 1 iters with {'c1': 0.5, 'c2': 0.3, 'w': 0.9}\n"
          ]
        },
        {
          "output_type": "stream",
          "name": "stdout",
          "text": [
            "\n",
            "=========================================================================\n",
            "\n",
            "Número de ciclos de manutenção: 14 5\n",
            "Tempos para manutenções preventivas: [0, 16, 165, 195, 236, 274, 352, 364, 412, 472, 482, 534, 623, 638, 681]\n",
            "Severidade para cada subsistema: [0.25, 0.75, 0.75, 0.25, 0.5, 0.25, 0.75, 0.25, 0.75, 0.75, 0.5, 0.25, 0.25, 0.25]\n",
            "Número de Sisemas: 5\n",
            "Fator:  [0.06508606740734102, 0.05667818496872001, 0.16057937889727636, 0.16057937889727636, 0.05667818496872001, 0.1101439532860915, 0.05667818496872001, 0.16057937889727636, 0.05667818496872001, 0.16057937889727636, 0.16057937889727636, 0.1101439532860915, 0.05667818496872001, 0.05667818496872001, 0.05667818496872001]\n",
            "Media de falhas:  [0, 0.01649136718820338, 1.7302995064115285, 2.388227126565276, 3.3586677013906425, 4.418686986400598, 7.399134119842289, 7.8911755005628015, 10.15586060155997, 13.05194259172967, 13.630089854018225, 16.505379807090073, 22.136167229024224, 23.218192961954614, 26.658965260076364, 20.400224309280297]\n",
            "Custo =  6147.3926888178\n"
          ]
        },
        {
          "output_type": "stream",
          "name": "stderr",
          "text": [
            "pyswarms.single.global_best: 100%|██████████|1/1, best_cost=1.87e+3\n",
            "2023-10-27 18:01:16,018 - pyswarms.single.global_best - INFO - Optimization finished | best cost: 1871.2408108741981, best pos: [1.5573889  2.40841725 4.3003822  2.33283539 4.63815494 0.66130759\n",
            " 5.4276079  3.74481117 3.11275873 3.53235399 6.50991686 0.33671915\n",
            " 5.18986307 1.73280514 6.45010028 5.75233587 5.05956919 3.82668315\n",
            " 6.4375156  2.56221328 1.70799115 2.11665798 1.73431635 2.84799882]\n",
            "2023-10-27 18:01:16,019 - pyswarms.single.global_best - INFO - Optimize for 1 iters with {'c1': 0.5, 'c2': 0.3, 'w': 0.9}\n"
          ]
        },
        {
          "output_type": "stream",
          "name": "stdout",
          "text": [
            "\n",
            "=========================================================================\n",
            "\n",
            "Número de ciclos de manutenção: 14 5\n",
            "Tempos para manutenções preventivas: [0, 16, 151, 195, 226, 271, 355, 364, 411, 472, 482, 533, 623, 645, 682]\n",
            "Severidade para cada subsistema: [0.25, 0.25, 0.75, 0.25, 0.5, 0.5, 0.75, 0.25, 0.75, 0.75, 0.5, 0.25, 0.25, 0.25]\n",
            "Número de Sisemas: 5\n",
            "Fator:  [0.06508606740734102, 0.05667818496872001, 0.05667818496872001, 0.16057937889727636, 0.05667818496872001, 0.1101439532860915, 0.1101439532860915, 0.16057937889727636, 0.05667818496872001, 0.16057937889727636, 0.16057937889727636, 0.1101439532860915, 0.05667818496872001, 0.05667818496872001, 0.05667818496872001]\n",
            "Media de falhas:  [0, 0.01649136718820338, 1.447876025797145, 2.3777695247385724, 3.1722569509413585, 4.399268626677351, 7.6108127139797475, 7.981194599234291, 10.078309967628714, 13.020003192580578, 13.598150454869133, 16.41487480063981, 22.10501054227659, 23.70185826092721, 26.679622209751724, 20.338950348908597]\n",
            "Custo =  6265.604195605896\n"
          ]
        },
        {
          "output_type": "stream",
          "name": "stderr",
          "text": [
            "pyswarms.single.global_best:   0%|          |0/1, best_cost=1.87e+3"
          ]
        },
        {
          "output_type": "stream",
          "name": "stdout",
          "text": [
            "\n",
            "=========================================================================\n",
            "\n",
            "Número de ciclos de manutenção: 13 5\n",
            "Tempos para manutenções preventivas: [0, 16, 178, 194, 227, 272, 365, 410, 472, 482, 534, 623, 653, 683]\n",
            "Severidade para cada subsistema: [0.25, 0.5, 0.75, 0.25, 0.5, 0.75, 0.25, 0.75, 0.75, 0.5, 0.25, 0.25, 0.25]\n",
            "Número de Sisemas: 5\n",
            "Fator:  [0.06508606740734102, 0.05667818496872001, 0.1101439532860915, 0.16057937889727636, 0.05667818496872001, 0.1101439532860915, 0.16057937889727636, 0.05667818496872001, 0.16057937889727636, 0.16057937889727636, 0.1101439532860915, 0.05667818496872001, 0.05667818496872001, 0.05667818496872001]\n",
            "Media de falhas:  [0, 0.01649136718820338, 2.015085454418241, 2.376793267016248, 3.1788321288932138, 4.410693165075551, 8.031298293209574, 10.038538790430314, 13.025756138153419, 13.603903400441974, 16.47919335351382, 22.109980775447973, 24.302892445715216, 26.73286572453037, 20.310149238233848]\n",
            "Custo =  5333.744066706397\n"
          ]
        },
        {
          "output_type": "stream",
          "name": "stderr",
          "text": [
            "\rpyswarms.single.global_best: 100%|██████████|1/1, best_cost=1.87e+3\n",
            "2023-10-27 18:01:16,032 - pyswarms.single.global_best - INFO - Optimization finished | best cost: 1871.2408108741981, best pos: [1.55737192 2.40838861 4.29651325 2.33283056 4.63816037 0.66130508\n",
            " 5.42759508 3.74485116 3.1103507  2.81165264 6.50992682 0.33677763\n",
            " 5.18988375 1.73282669 6.45089317 5.75236859 5.05972644 3.82693222\n",
            " 6.43751346 2.56320277 1.70832036 2.11664302 1.73457412 2.84800906]\n",
            "2023-10-27 18:01:16,034 - pyswarms.single.global_best - INFO - Optimize for 1 iters with {'c1': 0.5, 'c2': 0.3, 'w': 0.9}\n",
            "pyswarms.single.global_best: 100%|██████████|1/1, best_cost=1.87e+3\n",
            "2023-10-27 18:01:16,051 - pyswarms.single.global_best - INFO - Optimization finished | best cost: 1871.2408108741981, best pos: [1.55737554 2.40842378 4.29250129 2.33280391 4.63817075 0.66130276\n",
            " 5.42758129 3.74480146 3.10011944 2.30833838 6.5099365  0.33670887\n",
            " 5.18990062 1.73284792 6.45110681 5.75238766 5.05975876 3.82771237\n",
            " 6.43751331 2.56400638 1.70863148 2.11663061 1.73477468 2.84800555]\n",
            "2023-10-27 18:01:16,053 - pyswarms.single.global_best - INFO - Optimize for 1 iters with {'c1': 0.5, 'c2': 0.3, 'w': 0.9}\n"
          ]
        },
        {
          "output_type": "stream",
          "name": "stdout",
          "text": [
            "\n",
            "=========================================================================\n",
            "\n",
            "Número de ciclos de manutenção: 13 5\n",
            "Tempos para manutenções preventivas: [0, 16, 83, 193, 232, 276, 331, 365, 409, 472, 481, 534, 622, 683]\n",
            "Severidade para cada subsistema: [0.25, 0.5, 0.75, 0.25, 0.5, 0.25, 0.75, 0.25, 0.75, 0.75, 0.5, 0.25, 0.25]\n",
            "Número de Sisemas: 5\n",
            "Fator:  [0.06508606740734102, 0.05667818496872001, 0.1101439532860915, 0.16057937889727636, 0.05667818496872001, 0.1101439532860915, 0.05667818496872001, 0.16057937889727636, 0.05667818496872001, 0.16057937889727636, 0.16057937889727636, 0.1101439532860915, 0.05667818496872001, 0.05667818496872001]\n",
            "Media de falhas:  [0, 0.01649136718820338, 0.43417622927296556, 2.3189002320354652, 3.277329942651186, 4.50269983661517, 6.536440687529438, 7.897016404812656, 9.96701200188709, 12.999666360176409, 13.519421574955127, 16.447697495307864, 22.009573294280134, 26.582805514025953, 20.160089027729427]\n",
            "Custo =  4811.670765989983\n"
          ]
        },
        {
          "output_type": "stream",
          "name": "stderr",
          "text": [
            "pyswarms.single.global_best:   0%|          |0/1, best_cost=1.87e+3"
          ]
        },
        {
          "output_type": "stream",
          "name": "stdout",
          "text": [
            "\n",
            "=========================================================================\n",
            "\n",
            "Número de ciclos de manutenção: 14 5\n",
            "Tempos para manutenções preventivas: [0, 16, 79, 161, 192, 245, 282, 341, 365, 408, 472, 481, 534, 622, 683]\n",
            "Severidade para cada subsistema: [0.25, 0.5, 0.25, 0.75, 0.5, 0.5, 0.5, 0.75, 0.25, 0.75, 0.75, 0.5, 0.25, 0.25]\n",
            "Número de Sisemas: 5\n",
            "Fator:  [0.06508606740734102, 0.05667818496872001, 0.1101439532860915, 0.05667818496872001, 0.16057937889727636, 0.1101439532860915, 0.1101439532860915, 0.1101439532860915, 0.16057937889727636, 0.05667818496872001, 0.16057937889727636, 0.16057937889727636, 0.1101439532860915, 0.05667818496872001, 0.05667818496872001]\n",
            "Media de falhas:  [0, 0.01649136718820338, 0.3930452005611069, 1.610846363707361, 2.2434099661258915, 3.6573164635981508, 4.7229497254697845, 6.848430864922062, 7.8208451543612085, 9.733357160310936, 12.811361416766857, 13.331116631545575, 16.259392551898312, 21.821268350870582, 26.3945005706164, 19.97178408431988]\n",
            "Custo =  5407.242736125309\n"
          ]
        },
        {
          "output_type": "stream",
          "name": "stderr",
          "text": [
            "\rpyswarms.single.global_best: 100%|██████████|1/1, best_cost=1.87e+3\n",
            "2023-10-27 18:01:16,067 - pyswarms.single.global_best - INFO - Optimization finished | best cost: 1871.2408108741981, best pos: [1.55740781 2.40846343 4.28859921 2.33276519 4.63818152 0.66130119\n",
            " 5.42757002 3.74472432 3.08258355 2.17376598 6.50994427 0.33652634\n",
            " 5.1899089  1.73288303 6.45128884 5.75239864 5.05968464 3.82887731\n",
            " 6.43751488 2.56450399 1.70892068 2.11662862 1.73491858 2.84800184]\n",
            "2023-10-27 18:01:16,069 - pyswarms.single.global_best - INFO - Optimize for 1 iters with {'c1': 0.5, 'c2': 0.3, 'w': 0.9}\n",
            "pyswarms.single.global_best: 100%|██████████|1/1, best_cost=1.87e+3\n",
            "2023-10-27 18:01:16,091 - pyswarms.single.global_best - INFO - Optimization finished | best cost: 1871.2408108741981, best pos: [1.55743804 2.40853303 4.2856147  2.33272961 4.63819326 0.66130059\n",
            " 5.4275649  3.74461815 3.05843724 2.1026499  6.50994833 0.3363326\n",
            " 5.18991418 1.73292236 6.45109645 5.75238237 5.05958644 3.83000627\n",
            " 6.43751755 2.56491805 1.70912528 2.11663247 1.73477422 2.8479944 ]\n"
          ]
        },
        {
          "output_type": "stream",
          "name": "stdout",
          "text": [
            "\n",
            "=========================================================================\n",
            "\n",
            "Número de ciclos de manutenção: 14 5\n",
            "Tempos para manutenções preventivas: [0, 16, 77, 164, 192, 219, 251, 287, 366, 408, 472, 481, 534, 621, 683]\n",
            "Severidade para cada subsistema: [0.25, 0.5, 0.5, 0.75, 0.5, 0.5, 0.5, 0.75, 0.25, 0.75, 0.75, 0.5, 0.25, 0.25]\n",
            "Número de Sisemas: 5\n",
            "Fator:  [0.06508606740734102, 0.05667818496872001, 0.1101439532860915, 0.1101439532860915, 0.16057937889727636, 0.1101439532860915, 0.1101439532860915, 0.1101439532860915, 0.16057937889727636, 0.05667818496872001, 0.16057937889727636, 0.16057937889727636, 0.1101439532860915, 0.05667818496872001, 0.05667818496872001]\n",
            "Media de falhas:  [0, 0.01649136718820338, 0.3732506276514407, 1.672159207867334, 2.247712312122337, 2.8873567653868726, 3.7090559678230512, 4.825354676576108, 7.817838811263236, 9.687975004564166, 12.765979261020087, 13.285734475798805, 16.21401039615154, 21.707102846466682, 26.352205726655704, 19.92948924035918]\n",
            "Custo =  5203.095367352239\n"
          ]
        },
        {
          "output_type": "stream",
          "name": "stderr",
          "text": [
            "2023-10-27 18:01:16,093 - pyswarms.single.global_best - INFO - Optimize for 1 iters with {'c1': 0.5, 'c2': 0.3, 'w': 0.9}\n",
            "pyswarms.single.global_best: 100%|██████████|1/1, best_cost=1.87e+3\n",
            "2023-10-27 18:01:16,106 - pyswarms.single.global_best - INFO - Optimization finished | best cost: 1871.2408108741981, best pos: [1.55746621 2.40859844 4.28409197 2.33270055 4.63820379 0.66130107\n",
            " 5.42756656 3.74448623 3.03253997 2.23500924 6.50995102 0.33610712\n",
            " 5.1899171  1.73295569 6.4500248  5.75235254 5.05943264 3.83082631\n",
            " 6.43752112 2.56470444 1.70922086 2.11665535 1.73449933 2.8479744 ]\n",
            "2023-10-27 18:01:16,108 - pyswarms.single.global_best - INFO - Optimize for 1 iters with {'c1': 0.5, 'c2': 0.3, 'w': 0.9}\n"
          ]
        },
        {
          "output_type": "stream",
          "name": "stdout",
          "text": [
            "\n",
            "=========================================================================\n",
            "\n",
            "Número de ciclos de manutenção: 13 5\n",
            "Tempos para manutenções preventivas: [0, 16, 80, 162, 191, 255, 291, 366, 409, 472, 481, 535, 620, 683]\n",
            "Severidade para cada subsistema: [0.25, 0.5, 0.75, 0.75, 0.5, 0.5, 0.75, 0.25, 0.75, 0.75, 0.5, 0.25, 0.25]\n",
            "Número de Sisemas: 5\n",
            "Fator:  [0.06508606740734102, 0.05667818496872001, 0.1101439532860915, 0.16057937889727636, 0.16057937889727636, 0.1101439532860915, 0.1101439532860915, 0.16057937889727636, 0.05667818496872001, 0.16057937889727636, 0.16057937889727636, 0.1101439532860915, 0.05667818496872001, 0.05667818496872001]\n",
            "Media de falhas:  [0, 0.01649136718820338, 0.4031352245229447, 1.6308722173255021, 2.222215199401429, 3.803951740028195, 4.877265957892683, 7.7332430610507625, 9.650665208506432, 12.683319566795753, 13.20307478157447, 16.190065202689546, 21.555128961754974, 26.27200248784699, 19.849286001550468]\n",
            "Custo =  4981.657980025052\n"
          ]
        },
        {
          "output_type": "stream",
          "name": "stderr",
          "text": [
            "pyswarms.single.global_best:   0%|          |0/1, best_cost=1.87e+3"
          ]
        },
        {
          "output_type": "stream",
          "name": "stdout",
          "text": [
            "\n",
            "=========================================================================\n",
            "\n",
            "Número de ciclos de manutenção: 13 5\n",
            "Tempos para manutenções preventivas: [0, 16, 88, 191, 255, 294, 340, 366, 409, 472, 481, 535, 620, 683]\n",
            "Severidade para cada subsistema: [0.25, 0.5, 0.75, 0.5, 0.5, 0.75, 0.75, 0.25, 0.75, 0.75, 0.5, 0.25, 0.25]\n",
            "Número de Sisemas: 5\n",
            "Fator:  [0.06508606740734102, 0.05667818496872001, 0.1101439532860915, 0.16057937889727636, 0.1101439532860915, 0.1101439532860915, 0.16057937889727636, 0.16057937889727636, 0.05667818496872001, 0.16057937889727636, 0.16057937889727636, 0.1101439532860915, 0.05667818496872001, 0.05667818496872001]\n",
            "Media de falhas:  [0, 0.01649136718820338, 0.48848093046891106, 2.2693675991925604, 3.930257822204841, 5.100524255845655, 6.782348351934867, 7.836164642318012, 9.651727451353214, 12.684381809642534, 13.204137024421252, 16.191127445536328, 21.556191204601756, 26.273064730693772, 19.850348244397246]\n",
            "Custo =  5167.002118225655\n"
          ]
        },
        {
          "output_type": "stream",
          "name": "stderr",
          "text": [
            "\rpyswarms.single.global_best: 100%|██████████|1/1, best_cost=1.87e+3\n",
            "2023-10-27 18:01:16,124 - pyswarms.single.global_best - INFO - Optimization finished | best cost: 1871.2408108741981, best pos: [1.55749363 2.40865903 4.28397364 2.33268065 4.63821071 0.66130212\n",
            " 5.42757094 3.74436364 3.00892134 2.44137123 6.5099485  0.33590821\n",
            " 5.18991039 1.73298309 6.44868354 5.75230323 5.05924871 3.83137269\n",
            " 6.43752449 2.56425218 1.70930302 2.11667814 1.7342499  2.84794897]\n",
            "2023-10-27 18:01:16,125 - pyswarms.single.global_best - INFO - Optimize for 1 iters with {'c1': 0.5, 'c2': 0.3, 'w': 0.9}\n",
            "pyswarms.single.global_best:   0%|          |0/1, best_cost=1.87e+3"
          ]
        },
        {
          "output_type": "stream",
          "name": "stdout",
          "text": [
            "\n",
            "=========================================================================\n",
            "\n",
            "Número de ciclos de manutenção: 13 5\n",
            "Tempos para manutenções preventivas: [0, 16, 191, 221, 254, 295, 334, 366, 410, 472, 481, 535, 619, 682]\n",
            "Severidade para cada subsistema: [0.25, 0.75, 0.75, 0.5, 0.5, 0.25, 0.75, 0.25, 0.75, 0.75, 0.5, 0.25, 0.25]\n",
            "Número de Sisemas: 5\n",
            "Fator:  [0.06508606740734102, 0.05667818496872001, 0.16057937889727636, 0.16057937889727636, 0.1101439532860915, 0.1101439532860915, 0.05667818496872001, 0.16057937889727636, 0.05667818496872001, 0.16057937889727636, 0.16057937889727636, 0.1101439532860915, 0.05667818496872001, 0.05667818496872001]\n",
            "Media de falhas:  [0, 0.01649136718820338, 2.3215708333013416, 3.0739706636948156, 3.930579008427303, 5.161704115923468, 6.574533769327952, 7.861932138239762, 9.93725368375231, 12.924471031475415, 13.444226246254132, 16.431216667369206, 21.727774225311848, 26.437457095396194, 20.096785234553067]\n",
            "Custo =  5297.299799870967\n"
          ]
        },
        {
          "output_type": "stream",
          "name": "stderr",
          "text": [
            "\rpyswarms.single.global_best: 100%|██████████|1/1, best_cost=1.87e+3\n",
            "2023-10-27 18:01:16,139 - pyswarms.single.global_best - INFO - Optimization finished | best cost: 1871.2408108741981, best pos: [1.55751679 2.40870093 4.28567191 2.3326762  4.63821255 0.66130357\n",
            " 5.42757575 3.74424818 2.99283716 2.86095493 6.50994504 0.33573027\n",
            " 5.18989615 1.73299155 6.44738303 5.75225494 5.05907814 3.83160264\n",
            " 6.4375271  2.56364574 1.70925837 2.11669966 1.73395201 2.84792554]\n",
            "2023-10-27 18:01:16,141 - pyswarms.single.global_best - INFO - Optimize for 1 iters with {'c1': 0.5, 'c2': 0.3, 'w': 0.9}\n",
            "pyswarms.single.global_best: 100%|██████████|1/1, best_cost=1.87e+3\n",
            "2023-10-27 18:01:16,159 - pyswarms.single.global_best - INFO - Optimization finished | best cost: 1871.2408108741981, best pos: [1.55753195 2.40872551 4.28790476 2.33267293 4.63821322 0.66130489\n",
            " 5.42758035 3.74417059 2.98298791 3.2839023  6.5099381  0.33563668\n",
            " 5.18987687 1.73299525 6.44625127 5.75221689 5.05894672 3.83159108\n",
            " 6.4375281  2.56293413 1.70904217 2.11671888 1.73368454 2.84790561]\n",
            "2023-10-27 18:01:16,161 - pyswarms.single.global_best - INFO - Optimize for 1 iters with {'c1': 0.5, 'c2': 0.3, 'w': 0.9}\n"
          ]
        },
        {
          "output_type": "stream",
          "name": "stdout",
          "text": [
            "\n",
            "=========================================================================\n",
            "\n",
            "Número de ciclos de manutenção: 13 5\n",
            "Tempos para manutenções preventivas: [0, 16, 159, 191, 224, 250, 295, 366, 411, 472, 481, 535, 619, 682]\n",
            "Severidade para cada subsistema: [0.25, 0.75, 0.75, 0.75, 0.5, 0.5, 0.75, 0.25, 0.75, 0.75, 0.5, 0.25, 0.25]\n",
            "Número de Sisemas: 5\n",
            "Fator:  [0.06508606740734102, 0.05667818496872001, 0.16057937889727636, 0.16057937889727636, 0.16057937889727636, 0.1101439532860915, 0.1101439532860915, 0.16057937889727636, 0.05667818496872001, 0.16057937889727636, 0.16057937889727636, 0.1101439532860915, 0.05667818496872001, 0.05667818496872001]\n",
            "Media de falhas:  [0, 0.01649136718820338, 1.606178978595034, 2.2888208981210716, 3.038732497921443, 3.710359255015132, 5.053751073761109, 7.771619846544382, 9.783998851239673, 12.725692076191539, 13.245447290970256, 16.232437712085332, 21.528995270027973, 26.23867814011232, 19.89800627926919]\n",
            "Custo =  5324.299954868488\n"
          ]
        },
        {
          "output_type": "stream",
          "name": "stderr",
          "text": [
            "pyswarms.single.global_best: 100%|██████████|1/1, best_cost=1.87e+3\n",
            "2023-10-27 18:01:16,174 - pyswarms.single.global_best - INFO - Optimization finished | best cost: 1871.2408108741981, best pos: [1.55753992 2.40872907 4.29016208 2.33268893 4.6382105  0.66130602\n",
            " 5.42758657 3.74410556 2.98374706 3.67265979 6.50993054 0.33566684\n",
            " 5.18985926 1.73299747 6.44562052 5.75218289 5.05883291 3.83141545\n",
            " 6.43752736 2.56228751 1.70884436 2.11673234 1.73347982 2.84789822]\n",
            "2023-10-27 18:01:16,176 - pyswarms.single.global_best - INFO - Optimize for 1 iters with {'c1': 0.5, 'c2': 0.3, 'w': 0.9}\n"
          ]
        },
        {
          "output_type": "stream",
          "name": "stdout",
          "text": [
            "\n",
            "=========================================================================\n",
            "\n",
            "Número de ciclos de manutenção: 12 5\n",
            "Tempos para manutenções preventivas: [0, 16, 192, 223, 245, 295, 366, 412, 472, 481, 535, 620, 681]\n",
            "Severidade para cada subsistema: [0.25, 0.75, 0.75, 0.5, 0.5, 0.75, 0.25, 0.75, 0.75, 0.5, 0.25, 0.25]\n",
            "Número de Sisemas: 5\n",
            "Fator:  [0.06508606740734102, 0.05667818496872001, 0.16057937889727636, 0.16057937889727636, 0.1101439532860915, 0.1101439532860915, 0.16057937889727636, 0.05667818496872001, 0.16057937889727636, 0.16057937889727636, 0.1101439532860915, 0.05667818496872001, 0.05667818496872001]\n",
            "Media de falhas:  [0, 0.01649136718820338, 2.3460453853751284, 3.129269609399627, 3.6895493846017398, 5.171313713904685, 7.889182486687957, 9.949232393860004, 12.845314384029704, 13.365069598808422, 16.352060019923496, 21.717123778988924, 26.276431243687757, 20.017690292891686]\n",
            "Custo =  4910.2654430829925\n"
          ]
        },
        {
          "output_type": "stream",
          "name": "stderr",
          "text": [
            "pyswarms.single.global_best: 100%|██████████|1/1, best_cost=1.87e+3\n",
            "2023-10-27 18:01:16,190 - pyswarms.single.global_best - INFO - Optimization finished | best cost: 1871.2408108741981, best pos: [1.5575411  2.40871721 4.29229976 2.33271098 4.63820711 0.66130683\n",
            " 5.42759227 3.74407668 2.99041227 4.01845329 6.50992371 0.33583481\n",
            " 5.18984542 1.73298525 6.44517434 5.75215608 5.05882728 3.83079762\n",
            " 6.43752644 2.56185128 1.70861797 2.11673726 1.73341272 2.84789906]\n",
            "2023-10-27 18:01:16,191 - pyswarms.single.global_best - INFO - Optimize for 1 iters with {'c1': 0.5, 'c2': 0.3, 'w': 0.9}\n"
          ]
        },
        {
          "output_type": "stream",
          "name": "stdout",
          "text": [
            "\n",
            "=========================================================================\n",
            "\n",
            "Número de ciclos de manutenção: 11 5\n",
            "Tempos para manutenções preventivas: [0, 16, 192, 240, 295, 365, 413, 472, 481, 535, 620, 681]\n",
            "Severidade para cada subsistema: [0.25, 0.75, 0.5, 0.5, 0.75, 0.25, 0.75, 0.75, 0.5, 0.25, 0.25]\n",
            "Número de Sisemas: 5\n",
            "Fator:  [0.06508606740734102, 0.05667818496872001, 0.16057937889727636, 0.1101439532860915, 0.1101439532860915, 0.16057937889727636, 0.05667818496872001, 0.16057937889727636, 0.16057937889727636, 0.1101439532860915, 0.05667818496872001, 0.05667818496872001]\n",
            "Media de falhas:  [0, 0.01649136718820338, 2.3460453853751284, 3.611159196703527, 5.229117245060177, 7.904214407344329, 10.054510011266588, 12.90489365483684, 13.424648869615558, 16.411639290730633, 21.776703049796062, 26.336010514494895, 20.077269563698827]\n",
            "Custo =  4323.002326305154\n"
          ]
        },
        {
          "output_type": "stream",
          "name": "stderr",
          "text": [
            "pyswarms.single.global_best: 100%|██████████|1/1, best_cost=1.87e+3\n",
            "2023-10-27 18:01:16,206 - pyswarms.single.global_best - INFO - Optimization finished | best cost: 1871.2408108741981, best pos: [1.55753531 2.40868975 4.293928   2.33273463 4.63820072 0.66130746\n",
            " 5.42759733 3.74405714 3.00650382 4.18892604 6.50991908 0.33601375\n",
            " 5.18983468 1.73295647 6.44551524 5.75215832 5.05890825 3.83016327\n",
            " 6.43752528 2.56176276 1.70841969 2.11673605 1.73346887 2.84791058]\n",
            "2023-10-27 18:01:16,208 - pyswarms.single.global_best - INFO - Optimize for 1 iters with {'c1': 0.5, 'c2': 0.3, 'w': 0.9}\n"
          ]
        },
        {
          "output_type": "stream",
          "name": "stdout",
          "text": [
            "\n",
            "=========================================================================\n",
            "\n",
            "Número de ciclos de manutenção: 13 5\n",
            "Tempos para manutenções preventivas: [0, 16, 167, 193, 293, 353, 365, 414, 472, 481, 535, 621, 656, 681]\n",
            "Severidade para cada subsistema: [0.25, 0.25, 0.75, 0.5, 0.25, 0.75, 0.25, 0.75, 0.75, 0.5, 0.25, 0.25, 0.25]\n",
            "Número de Sisemas: 5\n",
            "Fator:  [0.06508606740734102, 0.05667818496872001, 0.05667818496872001, 0.16057937889727636, 0.1101439532860915, 0.05667818496872001, 0.16057937889727636, 0.05667818496872001, 0.16057937889727636, 0.16057937889727636, 0.1101439532860915, 0.05667818496872001, 0.05667818496872001, 0.05667818496872001]\n",
            "Media de falhas:  [0, 0.01649136718820338, 1.7727002833311518, 2.342525942692895, 5.324050288740218, 7.450985826918355, 7.944397576556673, 10.265338467187735, 13.06993665253442, 13.589691867313137, 16.576682288428213, 22.010380523374838, 24.572011012373462, 26.598046796957576, 20.33930584616151]\n",
            "Custo =  6041.655372430611\n"
          ]
        },
        {
          "output_type": "stream",
          "name": "stderr",
          "text": [
            "pyswarms.single.global_best: 100%|██████████|1/1, best_cost=1.87e+3\n",
            "2023-10-27 18:01:16,224 - pyswarms.single.global_best - INFO - Optimization finished | best cost: 1871.2408108741981, best pos: [1.55751889 2.40866063 4.2951004  2.33275656 4.63819378 0.66130771\n",
            " 5.42760071 3.74406715 3.02813175 4.1450825  6.50991605 0.33619885\n",
            " 5.18983594 1.73292404 6.4463351  5.75218977 5.05903103 3.82951885\n",
            " 6.43752361 2.56201397 1.70829026 2.11672997 1.73363847 2.84793049]\n",
            "2023-10-27 18:01:16,226 - pyswarms.single.global_best - INFO - Optimize for 1 iters with {'c1': 0.5, 'c2': 0.3, 'w': 0.9}\n"
          ]
        },
        {
          "output_type": "stream",
          "name": "stdout",
          "text": [
            "\n",
            "=========================================================================\n",
            "\n",
            "Número de ciclos de manutenção: 14 5\n",
            "Tempos para manutenções preventivas: [0, 16, 160, 193, 231, 290, 355, 365, 414, 472, 482, 534, 621, 653, 681]\n",
            "Severidade para cada subsistema: [0.25, 0.5, 0.75, 0.5, 0.5, 0.75, 0.75, 0.25, 0.75, 0.75, 0.5, 0.25, 0.25, 0.25]\n",
            "Número de Sisemas: 5\n",
            "Fator:  [0.06508606740734102, 0.05667818496872001, 0.1101439532860915, 0.16057937889727636, 0.1101439532860915, 0.1101439532860915, 0.16057937889727636, 0.16057937889727636, 0.05667818496872001, 0.16057937889727636, 0.16057937889727636, 0.1101439532860915, 0.05667818496872001, 0.05667818496872001, 0.05667818496872001]\n",
            "Media de falhas:  [0, 0.01649136718820338, 1.6265447080331323, 2.3366350484087053, 3.2680502896160424, 4.961605913111498, 7.387652869324182, 7.799829955153299, 9.882312712887657, 12.686910898234341, 13.265058160522896, 16.140348113594744, 21.633440563909886, 23.969345933822638, 26.233729846702015, 19.974988895905945]\n",
            "Custo =  6385.8515436036005\n"
          ]
        },
        {
          "output_type": "stream",
          "name": "stderr",
          "text": [
            "pyswarms.single.global_best: 100%|██████████|1/1, best_cost=1.87e+3\n",
            "2023-10-27 18:01:16,239 - pyswarms.single.global_best - INFO - Optimization finished | best cost: 1871.2408108741981, best pos: [1.55749341 2.40862312 4.29601079 2.33277398 4.63818652 0.66130764\n",
            " 5.42760305 3.74410592 3.04825557 4.05145323 6.50991355 0.33635967\n",
            " 5.18984433 1.73289432 6.4472021  5.75223002 5.05915913 3.82889229\n",
            " 6.43752196 2.56226038 1.70820759 2.11671724 1.73380144 2.8479497 ]\n",
            "2023-10-27 18:01:16,241 - pyswarms.single.global_best - INFO - Optimize for 1 iters with {'c1': 0.5, 'c2': 0.3, 'w': 0.9}\n"
          ]
        },
        {
          "output_type": "stream",
          "name": "stdout",
          "text": [
            "\n",
            "=========================================================================\n",
            "\n",
            "Número de ciclos de manutenção: 13 5\n",
            "Tempos para manutenções preventivas: [0, 16, 153, 194, 216, 287, 365, 414, 472, 482, 534, 621, 653, 681]\n",
            "Severidade para cada subsistema: [0.25, 0.75, 0.75, 0.5, 0.5, 0.75, 0.25, 0.75, 0.75, 0.5, 0.25, 0.25, 0.25]\n",
            "Número de Sisemas: 5\n",
            "Fator:  [0.06508606740734102, 0.05667818496872001, 0.16057937889727636, 0.16057937889727636, 0.1101439532860915, 0.1101439532860915, 0.16057937889727636, 0.05667818496872001, 0.16057937889727636, 0.16057937889727636, 0.1101439532860915, 0.05667818496872001, 0.05667818496872001, 0.05667818496872001]\n",
            "Media de falhas:  [0, 0.01649136718820338, 1.4866812733644448, 2.355208805236597, 2.8467274072591784, 4.824655421836345, 7.774254869858702, 9.972492140081684, 12.777090325428368, 13.355237587716923, 16.23052754078877, 21.72361999110391, 24.05952536101666, 26.32390927389604, 20.065168323099968]\n",
            "Custo =  5040.386536035361\n"
          ]
        },
        {
          "output_type": "stream",
          "name": "stderr",
          "text": [
            "pyswarms.single.global_best:   0%|          |0/1, best_cost=1.87e+3"
          ]
        },
        {
          "output_type": "stream",
          "name": "stdout",
          "text": [
            "\n",
            "=========================================================================\n",
            "\n",
            "Número de ciclos de manutenção: 11 5\n",
            "Tempos para manutenções preventivas: [0, 16, 194, 284, 364, 414, 472, 482, 534, 622, 655, 681]\n",
            "Severidade para cada subsistema: [0.25, 0.75, 0.5, 0.75, 0.25, 0.75, 0.75, 0.5, 0.25, 0.25, 0.25]\n",
            "Número de Sisemas: 5\n",
            "Fator:  [0.06508606740734102, 0.05667818496872001, 0.16057937889727636, 0.1101439532860915, 0.16057937889727636, 0.05667818496872001, 0.16057937889727636, 0.16057937889727636, 0.1101439532860915, 0.05667818496872001, 0.05667818496872001, 0.05667818496872001]\n",
            "Media de falhas:  [0, 0.01649136718820338, 2.395379660089783, 5.031886969535146, 7.892904447371322, 10.133502268333089, 12.938100453679773, 13.516247715968328, 16.391537669040176, 21.953413468012446, 24.36819888860476, 26.473797768832675, 20.215056818036608]\n",
            "Custo =  4367.683999096748\n"
          ]
        },
        {
          "output_type": "stream",
          "name": "stderr",
          "text": [
            "\rpyswarms.single.global_best: 100%|██████████|1/1, best_cost=1.87e+3\n",
            "2023-10-27 18:01:16,258 - pyswarms.single.global_best - INFO - Optimization finished | best cost: 1871.2408108741981, best pos: [1.55747019 2.40858905 4.29532901 2.33278589 4.63818004 0.66130689\n",
            " 5.42760095 3.74419701 3.06573802 3.95260145 6.50991367 0.33645197\n",
            " 5.18985666 1.73287152 6.448004   5.75227312 5.05927449 3.82833063\n",
            " 6.43752048 2.5626597  1.7081421  2.11670378 1.73398107 2.84796572]\n",
            "2023-10-27 18:01:16,260 - pyswarms.single.global_best - INFO - Optimize for 1 iters with {'c1': 0.5, 'c2': 0.3, 'w': 0.9}\n",
            "pyswarms.single.global_best:   0%|          |0/1, best_cost=1.87e+3"
          ]
        },
        {
          "output_type": "stream",
          "name": "stdout",
          "text": [
            "\n",
            "=========================================================================\n",
            "\n",
            "Número de ciclos de manutenção: 11 5\n",
            "Tempos para manutenções preventivas: [0, 16, 194, 281, 365, 415, 472, 482, 534, 622, 659, 682]\n",
            "Severidade para cada subsistema: [0.25, 0.75, 0.5, 0.75, 0.25, 0.75, 0.75, 0.5, 0.25, 0.25, 0.25]\n",
            "Número de Sisemas: 5\n",
            "Fator:  [0.06508606740734102, 0.05667818496872001, 0.16057937889727636, 0.1101439532860915, 0.16057937889727636, 0.05667818496872001, 0.16057937889727636, 0.16057937889727636, 0.1101439532860915, 0.05667818496872001, 0.05667818496872001, 0.05667818496872001]\n",
            "Media de falhas:  [0, 0.01649136718820338, 2.395379660089783, 4.927251867194798, 7.925731763265324, 10.172039014653263, 12.930764630344974, 13.50891189263353, 16.384201845705377, 21.946077644677647, 24.66305602131905, 26.53240714460427, 20.19173528376114]\n",
            "Custo =  4371.500515485495\n"
          ]
        },
        {
          "output_type": "stream",
          "name": "stderr",
          "text": [
            "\rpyswarms.single.global_best: 100%|██████████|1/1, best_cost=1.87e+3\n",
            "2023-10-27 18:01:16,275 - pyswarms.single.global_best - INFO - Optimization finished | best cost: 1871.2408108741981, best pos: [1.55744958 2.40856499 4.29448156 2.33278691 4.63817511 0.66130619\n",
            " 5.42759641 3.74431247 3.07761352 3.79487847 6.50991385 0.3364713\n",
            " 5.18986976 1.73285487 6.44872204 5.75231209 5.05936873 3.82804109\n",
            " 6.43751937 2.56307877 1.7082176  2.11669009 1.73414009 2.84797968]\n",
            "2023-10-27 18:01:16,277 - pyswarms.single.global_best - INFO - Optimize for 1 iters with {'c1': 0.5, 'c2': 0.3, 'w': 0.9}\n",
            "pyswarms.single.global_best: 100%|██████████|1/1, best_cost=1.87e+3\n",
            "2023-10-27 18:01:16,295 - pyswarms.single.global_best - INFO - Optimization finished | best cost: 1871.2408108741981, best pos: [1.55743863 2.40855169 4.29354578 2.33277869 4.63817255 0.66130535\n",
            " 5.42759098 3.74442216 3.07434326 3.63891708 6.50991645 0.33643581\n",
            " 5.18988159 1.73285215 6.44920477 5.75234509 5.05944723 3.82808447\n",
            " 6.43751915 2.56342898 1.70829466 2.11667995 1.73428279 2.84798897]\n",
            "2023-10-27 18:01:16,297 - pyswarms.single.global_best - INFO - Optimize for 1 iters with {'c1': 0.5, 'c2': 0.3, 'w': 0.9}\n"
          ]
        },
        {
          "output_type": "stream",
          "name": "stdout",
          "text": [
            "\n",
            "=========================================================================\n",
            "\n",
            "Número de ciclos de manutenção: 12 5\n",
            "Tempos para manutenções preventivas: [0, 16, 164, 193, 280, 347, 365, 414, 472, 482, 534, 622, 682]\n",
            "Severidade para cada subsistema: [0.25, 0.75, 0.75, 0.5, 0.75, 0.75, 0.25, 0.75, 0.75, 0.5, 0.25, 0.25]\n",
            "Número de Sisemas: 5\n",
            "Fator:  [0.06508606740734102, 0.05667818496872001, 0.16057937889727636, 0.16057937889727636, 0.1101439532860915, 0.16057937889727636, 0.16057937889727636, 0.05667818496872001, 0.16057937889727636, 0.16057937889727636, 0.1101439532860915, 0.05667818496872001, 0.05667818496872001]\n",
            "Media de falhas:  [0, 0.01649136718820338, 1.7092917289071392, 2.339913969690878, 4.63728263550957, 6.948616097158412, 7.683330295332377, 9.765813053066735, 12.57041123841342, 13.148558500701975, 16.023848453773823, 21.585724252746093, 26.080137566145815, 19.739465705302685]\n",
            "Custo =  5289.266632437786\n"
          ]
        },
        {
          "output_type": "stream",
          "name": "stderr",
          "text": [
            "pyswarms.single.global_best:   0%|          |0/1, best_cost=1.87e+3"
          ]
        },
        {
          "output_type": "stream",
          "name": "stdout",
          "text": [
            "\n",
            "=========================================================================\n",
            "\n",
            "Número de ciclos de manutenção: 12 5\n",
            "Tempos para manutenções preventivas: [0, 16, 193, 240, 278, 337, 365, 413, 472, 481, 534, 622, 682]\n",
            "Severidade para cada subsistema: [0.25, 0.75, 0.5, 0.5, 0.25, 0.75, 0.25, 0.75, 0.75, 0.5, 0.25, 0.25]\n",
            "Número de Sisemas: 5\n",
            "Fator:  [0.06508606740734102, 0.05667818496872001, 0.16057937889727636, 0.1101439532860915, 0.1101439532860915, 0.05667818496872001, 0.16057937889727636, 0.05667818496872001, 0.16057937889727636, 0.16057937889727636, 0.1101439532860915, 0.05667818496872001, 0.05667818496872001]\n",
            "Media de falhas:  [0, 0.01649136718820338, 2.3706483278337593, 3.6120806968398673, 4.688479625779252, 6.787006891460952, 7.915886571200748, 10.18638178368572, 13.036765427255972, 13.55652064203469, 16.484796562387427, 22.046672361359697, 26.541085674759422, 20.200413813916292]\n",
            "Custo =  4807.192148163332\n"
          ]
        },
        {
          "output_type": "stream",
          "name": "stderr",
          "text": [
            "\rpyswarms.single.global_best: 100%|██████████|1/1, best_cost=1.87e+3\n",
            "2023-10-27 18:01:16,312 - pyswarms.single.global_best - INFO - Optimization finished | best cost: 1871.2408108741981, best pos: [1.5574301  2.40855405 4.29188942 2.33276241 4.63817066 0.6613045\n",
            " 5.42758599 3.74449772 3.07075725 3.46160131 6.50991983 0.33633026\n",
            " 5.18989035 1.73285109 6.44937344 5.75235823 5.05948112 3.82838581\n",
            " 6.43751911 2.56366411 1.70843485 2.11667536 1.73433492 2.84799655]\n",
            "2023-10-27 18:01:16,313 - pyswarms.single.global_best - INFO - Optimize for 1 iters with {'c1': 0.5, 'c2': 0.3, 'w': 0.9}\n",
            "pyswarms.single.global_best:   0%|          |0/1, best_cost=1.87e+3"
          ]
        },
        {
          "output_type": "stream",
          "name": "stdout",
          "text": [
            "\n",
            "=========================================================================\n",
            "\n",
            "Número de ciclos de manutenção: 11 5\n",
            "Tempos para manutenções preventivas: [0, 16, 193, 243, 278, 365, 413, 472, 481, 534, 622, 682]\n",
            "Severidade para cada subsistema: [0.25, 0.75, 0.5, 0.5, 0.75, 0.25, 0.75, 0.75, 0.5, 0.25, 0.25]\n",
            "Número de Sisemas: 5\n",
            "Fator:  [0.06508606740734102, 0.05667818496872001, 0.16057937889727636, 0.1101439532860915, 0.1101439532860915, 0.16057937889727636, 0.05667818496872001, 0.16057937889727636, 0.16057937889727636, 0.1101439532860915, 0.05667818496872001, 0.05667818496872001]\n",
            "Media de falhas:  [0, 0.01649136718820338, 2.3706483278337593, 3.700949375542409, 4.69694475007074, 7.947702957021159, 10.097998560943418, 12.94838220451367, 13.468137419292388, 16.396413339645125, 21.958289138617396, 26.45270245201712, 20.11203059117399]\n",
            "Custo =  4323.764732729128\n"
          ]
        },
        {
          "output_type": "stream",
          "name": "stderr",
          "text": [
            "\rpyswarms.single.global_best: 100%|██████████|1/1, best_cost=1.87e+3\n",
            "2023-10-27 18:01:16,327 - pyswarms.single.global_best - INFO - Optimization finished | best cost: 1871.2408108741981, best pos: [1.55743304 2.40856288 4.29009498 2.33274488 4.63817072 0.66130375\n",
            " 5.42758166 3.74452194 3.05966214 3.30266984 6.50992314 0.33623018\n",
            " 5.18989769 1.73286565 6.44933914 5.7523577  5.05944126 3.82879842\n",
            " 6.43751989 2.56376353 1.7086149  2.11667686 1.73435162 2.84799493]\n",
            "2023-10-27 18:01:16,329 - pyswarms.single.global_best - INFO - Optimize for 1 iters with {'c1': 0.5, 'c2': 0.3, 'w': 0.9}\n",
            "pyswarms.single.global_best:   0%|          |0/1, best_cost=1.87e+3"
          ]
        },
        {
          "output_type": "stream",
          "name": "stdout",
          "text": [
            "\n",
            "=========================================================================\n",
            "\n",
            "Número de ciclos de manutenção: 12 5\n",
            "Tempos para manutenções preventivas: [0, 16, 154, 192, 246, 279, 366, 412, 472, 481, 534, 621, 682]\n",
            "Severidade para cada subsistema: [0.25, 0.75, 0.75, 0.5, 0.5, 0.75, 0.25, 0.75, 0.75, 0.5, 0.25, 0.25]\n",
            "Número de Sisemas: 5\n",
            "Fator:  [0.06508606740734102, 0.05667818496872001, 0.16057937889727636, 0.16057937889727636, 0.1101439532860915, 0.1101439532860915, 0.16057937889727636, 0.05667818496872001, 0.16057937889727636, 0.16057937889727636, 0.1101439532860915, 0.05667818496872001, 0.05667818496872001]\n",
            "Media de falhas:  [0, 0.01649136718820338, 1.5062765216419025, 2.3085372150655425, 3.614283168389246, 4.559796464430118, 7.820490686372075, 9.880540593544122, 12.776622583713822, 13.29637779849254, 16.224653718845275, 21.717746169160414, 26.28401601604088, 19.94334415519775]\n",
            "Custo =  4723.12750246772\n"
          ]
        },
        {
          "output_type": "stream",
          "name": "stderr",
          "text": [
            "\rpyswarms.single.global_best: 100%|██████████|1/1, best_cost=1.87e+3\n",
            "2023-10-27 18:01:16,343 - pyswarms.single.global_best - INFO - Optimization finished | best cost: 1871.2408108741981, best pos: [1.5574424  2.4085713  4.28859062 2.33272776 4.63817558 0.66130325\n",
            " 5.42757785 3.74452331 3.043241   3.19304404 6.50992699 0.33612437\n",
            " 5.18990098 1.73288065 6.44909668 5.75233695 5.05939055 3.82921781\n",
            " 6.43752124 2.56368838 1.70878034 2.11668132 1.73430451 2.84798904]\n",
            "2023-10-27 18:01:16,346 - pyswarms.single.global_best - INFO - Optimize for 1 iters with {'c1': 0.5, 'c2': 0.3, 'w': 0.9}\n",
            "pyswarms.single.global_best:   0%|          |0/1, best_cost=1.87e+3"
          ]
        },
        {
          "output_type": "stream",
          "name": "stdout",
          "text": [
            "\n",
            "=========================================================================\n",
            "\n",
            "Número de ciclos de manutenção: 12 5\n",
            "Tempos para manutenções preventivas: [0, 16, 192, 247, 281, 341, 366, 411, 472, 481, 534, 621, 682]\n",
            "Severidade para cada subsistema: [0.25, 0.75, 0.5, 0.5, 0.5, 0.75, 0.25, 0.75, 0.75, 0.5, 0.25, 0.25]\n",
            "Número de Sisemas: 5\n",
            "Fator:  [0.06508606740734102, 0.05667818496872001, 0.16057937889727636, 0.1101439532860915, 0.1101439532860915, 0.1101439532860915, 0.16057937889727636, 0.05667818496872001, 0.16057937889727636, 0.16057937889727636, 0.1101439532860915, 0.05667818496872001, 0.05667818496872001]\n",
            "Media de falhas:  [0, 0.01649136718820338, 2.3460453853751284, 3.820367532969522, 4.800378831132371, 6.958882733035663, 7.973418439913409, 9.9857974446087, 12.927490669560566, 13.447245884339283, 16.37552180469202, 21.86861425500716, 26.434884101887626, 20.094212241044495]\n",
            "Custo =  4882.4557472696915\n"
          ]
        },
        {
          "output_type": "stream",
          "name": "stderr",
          "text": [
            "\rpyswarms.single.global_best: 100%|██████████|1/1, best_cost=1.87e+3\n",
            "2023-10-27 18:01:16,359 - pyswarms.single.global_best - INFO - Optimization finished | best cost: 1871.2408108741981, best pos: [1.55745179 2.40858741 4.28752599 2.33271483 4.638183   0.66130292\n",
            " 5.42757511 3.74451004 3.0263265  3.09742856 6.50993089 0.33603107\n",
            " 5.18990014 1.73289554 6.44873751 5.7523116  5.05931825 3.82961645\n",
            " 6.43752251 2.56351368 1.70892792 2.11668777 1.73418466 2.84797764]\n",
            "2023-10-27 18:01:16,361 - pyswarms.single.global_best - INFO - Optimize for 1 iters with {'c1': 0.5, 'c2': 0.3, 'w': 0.9}\n",
            "pyswarms.single.global_best:   0%|          |0/1, best_cost=1.87e+3"
          ]
        },
        {
          "output_type": "stream",
          "name": "stdout",
          "text": [
            "\n",
            "=========================================================================\n",
            "\n",
            "Número de ciclos de manutenção: 12 5\n",
            "Tempos para manutenções preventivas: [0, 16, 192, 222, 246, 283, 366, 410, 472, 481, 534, 621, 682]\n",
            "Severidade para cada subsistema: [0.25, 0.75, 0.5, 0.5, 0.5, 0.75, 0.25, 0.75, 0.75, 0.5, 0.25, 0.25]\n",
            "Número de Sisemas: 5\n",
            "Fator:  [0.06508606740734102, 0.05667818496872001, 0.16057937889727636, 0.1101439532860915, 0.1101439532860915, 0.1101439532860915, 0.16057937889727636, 0.05667818496872001, 0.16057937889727636, 0.16057937889727636, 0.1101439532860915, 0.05667818496872001, 0.05667818496872001]\n",
            "Media de falhas:  [0, 0.01649136718820338, 2.3460453853751284, 3.1020785452293276, 3.713787581540714, 4.842337396946281, 7.969727244569451, 9.934563662591398, 12.921781010314502, 13.44153622509322, 16.369812145445955, 21.862904595761094, 26.42917444264156, 20.08850258179843]\n",
            "Custo =  4642.241536151439\n"
          ]
        },
        {
          "output_type": "stream",
          "name": "stderr",
          "text": [
            "\rpyswarms.single.global_best: 100%|██████████|1/1, best_cost=1.87e+3\n",
            "2023-10-27 18:01:16,377 - pyswarms.single.global_best - INFO - Optimization finished | best cost: 1871.2408108741981, best pos: [1.55746729 2.40860917 4.28743089 2.33270702 4.63819022 0.66130274\n",
            " 5.42757369 3.74444858 3.01176244 3.06719207 6.50993429 0.3359622\n",
            " 5.18989181 1.73291069 6.44838835 5.75228294 5.05922513 3.82990601\n",
            " 6.43752356 2.56319313 1.70905052 2.11669382 1.73401704 2.84796178]\n",
            "2023-10-27 18:01:16,379 - pyswarms.single.global_best - INFO - Optimize for 1 iters with {'c1': 0.5, 'c2': 0.3, 'w': 0.9}\n",
            "pyswarms.single.global_best:   0%|          |0/1, best_cost=1.87e+3"
          ]
        },
        {
          "output_type": "stream",
          "name": "stdout",
          "text": [
            "\n",
            "=========================================================================\n",
            "\n",
            "Número de ciclos de manutenção: 13 5\n",
            "Tempos para manutenções preventivas: [0, 16, 168, 192, 233, 245, 285, 366, 410, 472, 481, 535, 621, 682]\n",
            "Severidade para cada subsistema: [0.25, 0.75, 0.75, 0.5, 0.5, 0.5, 0.75, 0.25, 0.75, 0.75, 0.5, 0.25, 0.25]\n",
            "Número de Sisemas: 5\n",
            "Fator:  [0.06508606740734102, 0.05667818496872001, 0.16057937889727636, 0.16057937889727636, 0.1101439532860915, 0.1101439532860915, 0.1101439532860915, 0.16057937889727636, 0.05667818496872001, 0.16057937889727636, 0.16057937889727636, 0.1101439532860915, 0.05667818496872001, 0.05667818496872001]\n",
            "Media de falhas:  [0, 0.01649136718820338, 1.794093281382547, 2.319911599872488, 3.277095506268544, 3.5879319455726093, 4.811118484312557, 7.871255641536765, 9.836092059558712, 12.823309407281817, 13.343064622060535, 16.33005504317561, 21.763753278122234, 26.3300231250027, 19.989351264159573]\n",
            "Custo =  5355.088134664391\n"
          ]
        },
        {
          "output_type": "stream",
          "name": "stderr",
          "text": [
            "\rpyswarms.single.global_best: 100%|██████████|1/1, best_cost=1.87e+3\n",
            "2023-10-27 18:01:16,393 - pyswarms.single.global_best - INFO - Optimization finished | best cost: 1871.2408108741981, best pos: [1.5574813  2.40863012 4.28762322 2.33270219 4.63819673 0.66130296\n",
            " 5.42757308 3.74438061 2.99964602 3.09274527 6.50993617 0.3359532\n",
            " 5.18988082 1.73292429 6.44796832 5.7522571  5.05912658 3.83014085\n",
            " 6.43752441 2.5628325  1.70913911 2.1167001  1.73385808 2.84794515]\n",
            "2023-10-27 18:01:16,395 - pyswarms.single.global_best - INFO - Optimize for 1 iters with {'c1': 0.5, 'c2': 0.3, 'w': 0.9}\n",
            "pyswarms.single.global_best:   0%|          |0/1, best_cost=1.87e+3"
          ]
        },
        {
          "output_type": "stream",
          "name": "stdout",
          "text": [
            "\n",
            "=========================================================================\n",
            "\n",
            "Número de ciclos de manutenção: 12 5\n",
            "Tempos para manutenções preventivas: [0, 16, 192, 243, 286, 352, 365, 410, 472, 481, 535, 620, 682]\n",
            "Severidade para cada subsistema: [0.25, 0.75, 0.5, 0.5, 0.75, 0.75, 0.25, 0.75, 0.75, 0.5, 0.25, 0.25]\n",
            "Número de Sisemas: 5\n",
            "Fator:  [0.06508606740734102, 0.05667818496872001, 0.16057937889727636, 0.1101439532860915, 0.1101439532860915, 0.16057937889727636, 0.16057937889727636, 0.05667818496872001, 0.16057937889727636, 0.16057937889727636, 0.1101439532860915, 0.05667818496872001, 0.05667818496872001]\n",
            "Media de falhas:  [0, 0.01649136718820338, 2.3460453853751284, 3.7000497026019326, 4.945780728483607, 7.383235862943571, 7.917114848689605, 9.818049643843107, 12.805266991566212, 13.32502220634493, 16.312012627460003, 21.67707638652543, 26.315102752348658, 19.974430891505527]\n",
            "Custo =  5412.428369310987\n"
          ]
        },
        {
          "output_type": "stream",
          "name": "stderr",
          "text": [
            "\rpyswarms.single.global_best: 100%|██████████|1/1, best_cost=1.87e+3\n",
            "2023-10-27 18:01:16,408 - pyswarms.single.global_best - INFO - Optimization finished | best cost: 1871.2408108741981, best pos: [1.55749333 2.4086459  4.28783356 2.33270828 4.63820089 0.66130356\n",
            " 5.42757453 3.74431298 2.99797064 3.17134417 6.50993719 0.33600175\n",
            " 5.18987049 1.73293494 6.44758797 5.75223578 5.05903994 3.83011385\n",
            " 6.43752515 2.56250942 1.70919321 2.11670537 1.73371991 2.8479302 ]\n",
            "2023-10-27 18:01:16,410 - pyswarms.single.global_best - INFO - Optimize for 1 iters with {'c1': 0.5, 'c2': 0.3, 'w': 0.9}\n",
            "pyswarms.single.global_best:   0%|          |0/1, best_cost=1.87e+3"
          ]
        },
        {
          "output_type": "stream",
          "name": "stdout",
          "text": [
            "\n",
            "=========================================================================\n",
            "\n",
            "Número de ciclos de manutenção: 12 5\n",
            "Tempos para manutenções preventivas: [0, 16, 192, 240, 287, 354, 365, 410, 472, 481, 535, 620, 681]\n",
            "Severidade para cada subsistema: [0.25, 0.75, 0.5, 0.5, 0.25, 0.75, 0.25, 0.75, 0.75, 0.5, 0.25, 0.25]\n",
            "Número de Sisemas: 5\n",
            "Fator:  [0.06508606740734102, 0.05667818496872001, 0.16057937889727636, 0.1101439532860915, 0.1101439532860915, 0.05667818496872001, 0.16057937889727636, 0.05667818496872001, 0.16057937889727636, 0.16057937889727636, 0.1101439532860915, 0.05667818496872001, 0.05667818496872001]\n",
            "Media de falhas:  [0, 0.01649136718820338, 2.3460453853751284, 3.611159196703527, 4.9696449007584, 7.455982500101837, 7.90882694968375, 10.028754985459523, 13.015972333182628, 13.535727547961345, 16.52271796907642, 21.88778172814185, 26.447089192840682, 20.18834824204461]\n",
            "Custo =  5444.565343045943\n"
          ]
        },
        {
          "output_type": "stream",
          "name": "stderr",
          "text": [
            "\rpyswarms.single.global_best: 100%|██████████|1/1, best_cost=1.87e+3\n",
            "2023-10-27 18:01:16,429 - pyswarms.single.global_best - INFO - Optimization finished | best cost: 1871.2408108741981, best pos: [1.5575015  2.40865995 4.28859275 2.33272222 4.638203   0.66130415\n",
            " 5.42757745 3.74425641 3.00020462 3.29905307 6.50993736 0.3360835\n",
            " 5.18986128 1.73294073 6.44734157 5.75222488 5.05897151 3.82990231\n",
            " 6.4375257  2.56228461 1.70913313 2.11670998 1.73363947 2.84791896]\n",
            "2023-10-27 18:01:16,431 - pyswarms.single.global_best - INFO - Optimize for 1 iters with {'c1': 0.5, 'c2': 0.3, 'w': 0.9}\n",
            "pyswarms.single.global_best:   0%|          |0/1, best_cost=1.87e+3"
          ]
        },
        {
          "output_type": "stream",
          "name": "stdout",
          "text": [
            "\n",
            "=========================================================================\n",
            "\n",
            "Número de ciclos de manutenção: 12 5\n",
            "Tempos para manutenções preventivas: [0, 16, 155, 192, 288, 338, 365, 410, 472, 481, 535, 620, 681]\n",
            "Severidade para cada subsistema: [0.25, 0.75, 0.75, 0.5, 0.75, 0.75, 0.25, 0.75, 0.75, 0.5, 0.25, 0.25]\n",
            "Número de Sisemas: 5\n",
            "Fator:  [0.06508606740734102, 0.05667818496872001, 0.16057937889727636, 0.16057937889727636, 0.1101439532860915, 0.16057937889727636, 0.16057937889727636, 0.05667818496872001, 0.16057937889727636, 0.16057937889727636, 0.1101439532860915, 0.05667818496872001, 0.05667818496872001]\n",
            "Media de falhas:  [0, 0.01649136718820338, 1.5260001852631069, 2.309255089274596, 4.889394434424116, 6.602818765499843, 7.692732199132949, 9.593666994286451, 12.580884342009556, 13.100639556788273, 16.087629977903347, 21.452693736968776, 26.01200120166761, 19.75326025087154]\n",
            "Custo =  5151.552854494429\n"
          ]
        },
        {
          "output_type": "stream",
          "name": "stderr",
          "text": [
            "\rpyswarms.single.global_best: 100%|██████████|1/1, best_cost=1.87e+3\n",
            "2023-10-27 18:01:16,444 - pyswarms.single.global_best - INFO - Optimization finished | best cost: 1871.2408108741981, best pos: [1.55750524 2.40866934 4.28963675 2.33273953 4.63820191 0.66130472\n",
            " 5.4275815  3.74422705 3.0028475  3.42421968 6.50993638 0.33615881\n",
            " 5.18985544 1.73294184 6.44718453 5.75222035 5.05895854 3.82959631\n",
            " 6.43752601 2.56220174 1.7090307  2.11671359 1.73363605 2.84791329]\n",
            "2023-10-27 18:01:16,446 - pyswarms.single.global_best - INFO - Optimize for 1 iters with {'c1': 0.5, 'c2': 0.3, 'w': 0.9}\n",
            "pyswarms.single.global_best: 100%|██████████|1/1, best_cost=1.87e+3\n",
            "2023-10-27 18:01:16,463 - pyswarms.single.global_best - INFO - Optimization finished | best cost: 1871.2408108741981, best pos: [1.55750477 2.40866294 4.29063836 2.33275512 4.63819955 0.66130518\n",
            " 5.42758599 3.74422929 3.01176551 3.5481203  6.50993513 0.33622534\n",
            " 5.18985411 1.73293493 6.44714088 5.75222849 5.05900681 3.82925421\n",
            " 6.4375259  2.56222776 1.70891051 2.11671469 1.73369049 2.84791073]\n",
            "2023-10-27 18:01:16,465 - pyswarms.single.global_best - INFO - Optimize for 1 iters with {'c1': 0.5, 'c2': 0.3, 'w': 0.9}\n"
          ]
        },
        {
          "output_type": "stream",
          "name": "stdout",
          "text": [
            "\n",
            "=========================================================================\n",
            "\n",
            "Número de ciclos de manutenção: 12 5\n",
            "Tempos para manutenções preventivas: [0, 16, 192, 287, 343, 365, 411, 472, 481, 535, 620, 656, 681]\n",
            "Severidade para cada subsistema: [0.25, 0.75, 0.5, 0.25, 0.75, 0.25, 0.75, 0.75, 0.5, 0.25, 0.25, 0.25]\n",
            "Número de Sisemas: 5\n",
            "Fator:  [0.06508606740734102, 0.05667818496872001, 0.16057937889727636, 0.1101439532860915, 0.05667818496872001, 0.16057937889727636, 0.05667818496872001, 0.16057937889727636, 0.16057937889727636, 0.1101439532860915, 0.05667818496872001, 0.05667818496872001, 0.05667818496872001]\n",
            "Media de falhas:  [0, 0.01649136718820338, 2.3460453853751284, 5.1365035400228685, 7.071067852448461, 7.9646490434882935, 10.134637828258377, 13.076331053210243, 13.59608626798896, 16.583076689104036, 21.948140448169465, 24.581160147967783, 26.607195932551896, 20.34845498175583]\n",
            "Custo =  5085.7933469610525\n"
          ]
        },
        {
          "output_type": "stream",
          "name": "stderr",
          "text": [
            "pyswarms.single.global_best:   0%|          |0/1, best_cost=1.87e+3"
          ]
        },
        {
          "output_type": "stream",
          "name": "stdout",
          "text": [
            "\n",
            "=========================================================================\n",
            "\n",
            "Número de ciclos de manutenção: 12 5\n",
            "Tempos para manutenções preventivas: [0, 16, 179, 192, 286, 365, 412, 472, 481, 534, 620, 654, 681]\n",
            "Severidade para cada subsistema: [0.25, 0.25, 0.75, 0.5, 0.75, 0.25, 0.75, 0.75, 0.5, 0.25, 0.25, 0.25]\n",
            "Número de Sisemas: 5\n",
            "Fator:  [0.06508606740734102, 0.05667818496872001, 0.05667818496872001, 0.16057937889727636, 0.1101439532860915, 0.16057937889727636, 0.05667818496872001, 0.16057937889727636, 0.16057937889727636, 0.1101439532860915, 0.05667818496872001, 0.05667818496872001, 0.05667818496872001]\n",
            "Media de falhas:  [0, 0.01649136718820338, 2.0378908765802755, 2.3308492985340785, 5.085901136463371, 7.923108971689463, 10.025591224476356, 12.921673214646056, 13.441428429424773, 16.36970434977751, 21.79414172595002, 24.276521493621516, 26.461569749998784, 20.202828799202713]\n",
            "Custo =  5443.51983954498\n"
          ]
        },
        {
          "output_type": "stream",
          "name": "stderr",
          "text": [
            "\rpyswarms.single.global_best: 100%|██████████|1/1, best_cost=1.87e+3\n",
            "2023-10-27 18:01:16,478 - pyswarms.single.global_best - INFO - Optimization finished | best cost: 1871.2408108741981, best pos: [1.55750307 2.40864559 4.29155535 2.33276829 4.63819684 0.66130557\n",
            " 5.4275903  3.74424771 3.02143796 3.65408799 6.50993314 0.33627695\n",
            " 5.18985317 1.73292733 6.44725022 5.75224757 5.05907004 3.82895345\n",
            " 6.43752499 2.56234623 1.70878546 2.11671456 1.73378775 2.84791507]\n",
            "2023-10-27 18:01:16,480 - pyswarms.single.global_best - INFO - Optimize for 1 iters with {'c1': 0.5, 'c2': 0.3, 'w': 0.9}\n",
            "pyswarms.single.global_best: 100%|██████████|1/1, best_cost=1.87e+3"
          ]
        },
        {
          "output_type": "stream",
          "name": "stdout",
          "text": [
            "\n",
            "=========================================================================\n",
            "\n",
            "Número de ciclos de manutenção: 12 5\n",
            "Tempos para manutenções preventivas: [0, 16, 193, 237, 285, 365, 412, 472, 482, 534, 621, 654, 681]\n",
            "Severidade para cada subsistema: [0.25, 0.75, 0.5, 0.5, 0.75, 0.25, 0.75, 0.75, 0.5, 0.25, 0.25, 0.25]\n",
            "Número de Sisemas: 5\n",
            "Fator:  [0.06508606740734102, 0.05667818496872001, 0.16057937889727636, 0.1101439532860915, 0.1101439532860915, 0.16057937889727636, 0.05667818496872001, 0.16057937889727636, 0.16057937889727636, 0.1101439532860915, 0.05667818496872001, 0.05667818496872001, 0.05667818496872001]\n",
            "Media de falhas:  [0, 0.01649136718820338, 2.3706483278337593, 3.524367347467413, 4.899320602895537, 7.916544804454434, 10.019027057241326, 12.915109047411026, 13.49325630969958, 16.368546262771428, 21.86163871308657, 24.272657525012733, 26.45770578139, 20.19896483059393]\n",
            "Custo =  4599.167916380732\n"
          ]
        },
        {
          "output_type": "stream",
          "name": "stderr",
          "text": [
            "\n",
            "2023-10-27 18:01:16,492 - pyswarms.single.global_best - INFO - Optimization finished | best cost: 1871.2408108741981, best pos: [1.55749947 2.40862434 4.29230752 2.33277262 4.63819373 0.66130585\n",
            " 5.427594   3.74427344 3.03076872 3.74116894 6.509931   0.33630048\n",
            " 5.18985719 1.73291918 6.44756105 5.75226711 5.0591361  3.82870819\n",
            " 6.43752338 2.56258314 1.70865479 2.11671424 1.73391617 2.84792353]\n",
            "2023-10-27 18:01:16,494 - pyswarms.single.global_best - INFO - Optimize for 1 iters with {'c1': 0.5, 'c2': 0.3, 'w': 0.9}\n",
            "pyswarms.single.global_best: 100%|██████████|1/1, best_cost=1.87e+3"
          ]
        },
        {
          "output_type": "stream",
          "name": "stdout",
          "text": [
            "\n",
            "=========================================================================\n",
            "\n",
            "Número de ciclos de manutenção: 12 5\n",
            "Tempos para manutenções preventivas: [0, 16, 193, 229, 284, 365, 413, 472, 482, 534, 621, 655, 681]\n",
            "Severidade para cada subsistema: [0.25, 0.75, 0.5, 0.5, 0.75, 0.25, 0.75, 0.75, 0.5, 0.25, 0.25, 0.25]\n",
            "Número de Sisemas: 5\n",
            "Fator:  [0.06508606740734102, 0.05667818496872001, 0.16057937889727636, 0.1101439532860915, 0.1101439532860915, 0.16057937889727636, 0.05667818496872001, 0.16057937889727636, 0.16057937889727636, 0.1101439532860915, 0.05667818496872001, 0.05667818496872001, 0.05667818496872001]\n",
            "Media de falhas:  [0, 0.01649136718820338, 2.3706483278337593, 3.296113461241258, 4.848877574788677, 7.899764028726742, 10.050059632649003, 12.900443276219253, 13.478590538507808, 16.353880491579655, 21.846972941894798, 24.33323346024682, 26.438832340474736, 20.180091389678665]\n",
            "Custo =  4607.491250084264\n"
          ]
        },
        {
          "output_type": "stream",
          "name": "stderr",
          "text": [
            "\n",
            "2023-10-27 18:01:16,508 - pyswarms.single.global_best - INFO - Optimization finished | best cost: 1871.2408108741981, best pos: [1.55749183 2.40860459 4.2926179  2.33276924 4.63819001 0.66130607\n",
            " 5.42759713 3.74431312 3.03912518 3.78395744 6.50992902 0.3362977\n",
            " 5.18986192 1.73291099 6.44792027 5.75228623 5.05919592 3.82866369\n",
            " 6.43752191 2.56284631 1.70853802 2.11671307 1.73403982 2.84793614]\n",
            "2023-10-27 18:01:16,510 - pyswarms.single.global_best - INFO - Optimize for 1 iters with {'c1': 0.5, 'c2': 0.3, 'w': 0.9}\n",
            "pyswarms.single.global_best: 100%|██████████|1/1, best_cost=1.87e+3"
          ]
        },
        {
          "output_type": "stream",
          "name": "stdout",
          "text": [
            "\n",
            "=========================================================================\n",
            "\n",
            "Número de ciclos de manutenção: 13 5\n",
            "Tempos para manutenções preventivas: [0, 16, 165, 193, 223, 283, 365, 413, 472, 482, 534, 621, 657, 681]\n",
            "Severidade para cada subsistema: [0.25, 0.25, 0.75, 0.5, 0.5, 0.75, 0.25, 0.75, 0.75, 0.5, 0.25, 0.25, 0.25]\n",
            "Número de Sisemas: 5\n",
            "Fator:  [0.06508606740734102, 0.05667818496872001, 0.05667818496872001, 0.16057937889727636, 0.1101439532860915, 0.1101439532860915, 0.16057937889727636, 0.05667818496872001, 0.16057937889727636, 0.16057937889727636, 0.1101439532860915, 0.05667818496872001, 0.05667818496872001, 0.05667818496872001]\n",
            "Media de falhas:  [0, 0.01649136718820338, 1.7302995064115285, 2.3407700768206965, 3.1004365507961604, 4.774822633233365, 7.859271256207012, 10.009566860129272, 12.859950503699523, 13.438097765988077, 16.313387719059925, 21.806480169375064, 24.443608893049653, 26.38996786264807, 20.131226911852004]\n",
            "Custo =  5077.12779778154\n"
          ]
        },
        {
          "output_type": "stream",
          "name": "stderr",
          "text": [
            "\n",
            "2023-10-27 18:01:16,524 - pyswarms.single.global_best - INFO - Optimization finished | best cost: 1871.2408108741981, best pos: [1.55748309 2.40858997 4.29270232 2.33275753 4.6381867  0.66130598\n",
            " 5.42759764 3.74435445 3.04521614 3.81077969 6.50992752 0.33628218\n",
            " 5.18986636 1.73290356 6.44824392 5.7523029  5.05924745 3.82864128\n",
            " 6.43752065 2.56308862 1.70843836 2.1167116  1.73414517 2.84794948]\n",
            "2023-10-27 18:01:16,526 - pyswarms.single.global_best - INFO - Optimize for 1 iters with {'c1': 0.5, 'c2': 0.3, 'w': 0.9}\n",
            "pyswarms.single.global_best: 100%|██████████|1/1, best_cost=1.87e+3"
          ]
        },
        {
          "output_type": "stream",
          "name": "stdout",
          "text": [
            "\n",
            "=========================================================================\n",
            "\n",
            "Número de ciclos de manutenção: 13 5\n",
            "Tempos para manutenções preventivas: [0, 16, 169, 193, 218, 282, 365, 413, 472, 482, 534, 621, 659, 681]\n",
            "Severidade para cada subsistema: [0.25, 0.5, 0.75, 0.5, 0.5, 0.75, 0.25, 0.75, 0.75, 0.5, 0.25, 0.25, 0.25]\n",
            "Número de Sisemas: 5\n",
            "Fator:  [0.06508606740734102, 0.05667818496872001, 0.1101439532860915, 0.16057937889727636, 0.1101439532860915, 0.1101439532860915, 0.16057937889727636, 0.05667818496872001, 0.16057937889727636, 0.16057937889727636, 0.1101439532860915, 0.05667818496872001, 0.05667818496872001, 0.05667818496872001]\n",
            "Media de falhas:  [0, 0.01649136718820338, 1.8156146849259516, 2.344340010190821, 2.9362499121568955, 4.704209380445941, 7.8221200887970594, 9.97241569271932, 12.82279933628957, 13.400946598578125, 16.276236551649973, 21.76932900196511, 24.557838986315797, 26.344503168526213, 20.085762217730142]\n",
            "Custo =  5181.660642989369\n"
          ]
        },
        {
          "output_type": "stream",
          "name": "stderr",
          "text": [
            "\n",
            "2023-10-27 18:01:16,539 - pyswarms.single.global_best - INFO - Optimization finished | best cost: 1871.2408108741981, best pos: [1.55747414 2.40858013 4.29248072 2.33274606 4.63818442 0.66130549\n",
            " 5.42759764 3.74438932 3.0480501  3.77223947 6.50992667 0.33624508\n",
            " 5.18987164 1.7328974  6.44847067 5.7523153  5.0592823  3.82864589\n",
            " 6.4375198  2.56325897 1.70837958 2.11670821 1.73419155 2.84796062]\n",
            "2023-10-27 18:01:16,541 - pyswarms.single.global_best - INFO - Optimize for 1 iters with {'c1': 0.5, 'c2': 0.3, 'w': 0.9}\n",
            "pyswarms.single.global_best: 100%|██████████|1/1, best_cost=1.87e+3\n",
            "2023-10-27 18:01:16,555 - pyswarms.single.global_best - INFO - Optimization finished | best cost: 1871.2408108741981, best pos: [1.55746659 2.40857647 4.29178715 2.33273509 4.63818307 0.66130485\n",
            " 5.42759564 3.74441878 3.04914569 3.67005525 6.50992649 0.33619653\n",
            " 5.18987644 1.73289358 6.44862818 5.75232127 5.05929079 3.82868662\n",
            " 6.43751939 2.56340729 1.70836188 2.11670456 1.73419184 2.84796904]\n"
          ]
        },
        {
          "output_type": "stream",
          "name": "stdout",
          "text": [
            "\n",
            "=========================================================================\n",
            "\n",
            "Número de ciclos de manutenção: 12 5\n",
            "Tempos para manutenções preventivas: [0, 16, 193, 215, 241, 282, 365, 413, 472, 482, 534, 621, 682]\n",
            "Severidade para cada subsistema: [0.25, 0.75, 0.5, 0.5, 0.5, 0.75, 0.25, 0.75, 0.75, 0.5, 0.25, 0.25]\n",
            "Número de Sisemas: 5\n",
            "Fator:  [0.06508606740734102, 0.05667818496872001, 0.16057937889727636, 0.1101439532860915, 0.1101439532860915, 0.1101439532860915, 0.16057937889727636, 0.05667818496872001, 0.16057937889727636, 0.16057937889727636, 0.1101439532860915, 0.05667818496872001, 0.05667818496872001]\n",
            "Media de falhas:  [0, 0.01649136718820338, 2.3706483278337593, 2.9164391443572493, 3.562847592985469, 4.8005119017578, 7.918422610108919, 10.068718214031179, 12.91910185760143, 13.497249119889984, 16.372539072961832, 21.865631523276974, 26.43190137015744, 20.09122950931431]\n",
            "Custo =  4537.137003195232\n"
          ]
        },
        {
          "output_type": "stream",
          "name": "stderr",
          "text": [
            "2023-10-27 18:01:16,558 - pyswarms.single.global_best - INFO - Optimize for 1 iters with {'c1': 0.5, 'c2': 0.3, 'w': 0.9}\n",
            "pyswarms.single.global_best: 100%|██████████|1/1, best_cost=1.87e+3\n",
            "2023-10-27 18:01:16,574 - pyswarms.single.global_best - INFO - Optimization finished | best cost: 1871.2408108741981, best pos: [1.55746025 2.40858392 4.29114914 2.33272611 4.63818371 0.66130423\n",
            " 5.42759324 3.74443552 3.04480078 3.57550932 6.50992647 0.3361502\n",
            " 5.18988053 1.73289291 6.44860107 5.75232354 5.05929333 3.82887422\n",
            " 6.43751938 2.56340885 1.70841114 2.11670027 1.73418538 2.84797112]\n"
          ]
        },
        {
          "output_type": "stream",
          "name": "stdout",
          "text": [
            "\n",
            "=========================================================================\n",
            "\n",
            "Número de ciclos de manutenção: 13 5\n",
            "Tempos para manutenções preventivas: [0, 16, 165, 192, 213, 242, 281, 365, 412, 472, 481, 534, 621, 682]\n",
            "Severidade para cada subsistema: [0.25, 0.25, 0.75, 0.5, 0.5, 0.5, 0.75, 0.25, 0.75, 0.75, 0.5, 0.25, 0.25]\n",
            "Número de Sisemas: 5\n",
            "Fator:  [0.06508606740734102, 0.05667818496872001, 0.05667818496872001, 0.16057937889727636, 0.1101439532860915, 0.1101439532860915, 0.1101439532860915, 0.16057937889727636, 0.05667818496872001, 0.16057937889727636, 0.16057937889727636, 0.1101439532860915, 0.05667818496872001, 0.05667818496872001]\n",
            "Media de falhas:  [0, 0.01649136718820338, 1.7302995064115285, 2.317234143805994, 2.834324850140179, 3.554652896416766, 4.731392045025524, 7.882664754780373, 9.985147007567265, 12.881228997736965, 13.400984212515683, 16.32926013286842, 21.82235258318356, 26.388622430064025, 20.047950569220895]\n",
            "Custo =  5130.419996141417\n"
          ]
        },
        {
          "output_type": "stream",
          "name": "stderr",
          "text": [
            "2023-10-27 18:01:16,576 - pyswarms.single.global_best - INFO - Optimize for 1 iters with {'c1': 0.5, 'c2': 0.3, 'w': 0.9}\n",
            "pyswarms.single.global_best: 100%|██████████|1/1, best_cost=1.87e+3"
          ]
        },
        {
          "output_type": "stream",
          "name": "stdout",
          "text": [
            "\n",
            "=========================================================================\n",
            "\n",
            "Número de ciclos de manutenção: 12 5\n",
            "Tempos para manutenções preventivas: [0, 16, 192, 216, 243, 281, 365, 411, 472, 481, 534, 621, 682]\n",
            "Severidade para cada subsistema: [0.25, 0.75, 0.5, 0.5, 0.5, 0.75, 0.25, 0.75, 0.75, 0.5, 0.25, 0.25]\n",
            "Número de Sisemas: 5\n",
            "Fator:  [0.06508606740734102, 0.05667818496872001, 0.16057937889727636, 0.1101439532860915, 0.1101439532860915, 0.1101439532860915, 0.16057937889727636, 0.05667818496872001, 0.16057937889727636, 0.16057937889727636, 0.1101439532860915, 0.05667818496872001, 0.05667818496872001]\n",
            "Media de falhas:  [0, 0.01649136718820338, 2.3460453853751284, 2.94162814003712, 3.6175415090346488, 4.766009616371434, 7.9172823261262835, 9.972079543245089, 12.913772768196953, 13.43352798297567, 16.361803903328408, 21.854896353643547, 26.421166200524013, 20.080494339680882]\n",
            "Custo =  4648.78980850258\n"
          ]
        },
        {
          "output_type": "stream",
          "name": "stderr",
          "text": [
            "\n",
            "2023-10-27 18:01:16,590 - pyswarms.single.global_best - INFO - Optimization finished | best cost: 1871.2408108741981, best pos: [1.55745999 2.408593   4.29055771 2.33271824 4.63818562 0.66130375\n",
            " 5.4275898  3.74444773 3.03813492 3.46801241 6.50992644 0.33610919\n",
            " 5.18988387 1.73289543 6.44843117 5.75231859 5.05927169 3.8290941\n",
            " 6.43751963 2.56336639 1.70846601 2.11669634 1.73415566 2.84797239]\n",
            "2023-10-27 18:01:16,592 - pyswarms.single.global_best - INFO - Optimize for 1 iters with {'c1': 0.5, 'c2': 0.3, 'w': 0.9}\n",
            "pyswarms.single.global_best:   0%|          |0/1"
          ]
        },
        {
          "output_type": "stream",
          "name": "stdout",
          "text": [
            "\n",
            "=========================================================================\n",
            "\n",
            "Número de ciclos de manutenção: 13 5\n",
            "Tempos para manutenções preventivas: [0, 16, 192, 222, 243, 281, 352, 365, 411, 472, 481, 534, 621, 682]\n",
            "Severidade para cada subsistema: [0.25, 0.75, 0.5, 0.5, 0.5, 0.5, 0.75, 0.25, 0.75, 0.75, 0.5, 0.25, 0.25]\n",
            "Número de Sisemas: 5\n",
            "Fator:  [0.06508606740734102, 0.05667818496872001, 0.16057937889727636, 0.1101439532860915, 0.1101439532860915, 0.1101439532860915, 0.1101439532860915, 0.16057937889727636, 0.05667818496872001, 0.16057937889727636, 0.16057937889727636, 0.1101439532860915, 0.05667818496872001, 0.05667818496872001]\n",
            "Media de falhas:  [0, 0.01649136718820338, 2.3460453853751284, 3.1020785452293276, 3.6332798413772815, 4.7817479487140675, 7.386095167839278, 7.919974153585311, 9.974771370704117, 12.916464595655981, 13.436219810434698, 16.364495730787436, 21.857588181102578, 26.423858027983044, 20.083186167139914]\n"
          ]
        },
        {
          "output_type": "stream",
          "name": "stderr",
          "text": [
            "pyswarms.single.global_best: 100%|██████████|1/1, best_cost=1.87e+3\n",
            "2023-10-27 18:01:16,609 - pyswarms.single.global_best - INFO - Optimization finished | best cost: 1871.2408108741981, best pos: [1.55746126 2.40860802 4.29004522 2.33271609 4.6381882  0.66130337\n",
            " 5.42758634 3.74445311 3.03083054 3.37240007 6.50992661 0.3360723\n",
            " 5.18988447 1.73289841 6.44827554 5.7523037  5.05922166 3.82929261\n",
            " 6.43752021 2.56329344 1.70856831 2.11669315 1.7341117  2.84797194]\n",
            "2023-10-27 18:01:16,611 - pyswarms.single.global_best - INFO - Optimize for 1 iters with {'c1': 0.5, 'c2': 0.3, 'w': 0.9}\n"
          ]
        },
        {
          "output_type": "stream",
          "name": "stdout",
          "text": [
            "Custo =  5657.862479016202\n"
          ]
        },
        {
          "output_type": "stream",
          "name": "stderr",
          "text": [
            "pyswarms.single.global_best: 100%|██████████|1/1, best_cost=1.87e+3\n",
            "2023-10-27 18:01:16,623 - pyswarms.single.global_best - INFO - Optimization finished | best cost: 1871.2408108741981, best pos: [1.55746281 2.40862272 4.28968731 2.33271548 4.63819087 0.6613033\n",
            " 5.42758346 3.74444682 3.02416901 3.30599111 6.50992737 0.33605264\n",
            " 5.18988308 1.73290175 6.44806207 5.75228524 5.05916315 3.8294746\n",
            " 6.43752078 2.56311885 1.70866202 2.11669106 1.73402889 2.84796738]\n"
          ]
        },
        {
          "output_type": "stream",
          "name": "stdout",
          "text": [
            "\n",
            "=========================================================================\n",
            "\n",
            "Número de ciclos de manutenção: 12 5\n",
            "Tempos para manutenções preventivas: [0, 16, 192, 228, 243, 282, 365, 410, 472, 481, 535, 621, 682]\n",
            "Severidade para cada subsistema: [0.25, 0.75, 0.5, 0.5, 0.5, 0.75, 0.25, 0.75, 0.75, 0.5, 0.25, 0.25]\n",
            "Número de Sisemas: 5\n",
            "Fator:  [0.06508606740734102, 0.05667818496872001, 0.16057937889727636, 0.1101439532860915, 0.1101439532860915, 0.1101439532860915, 0.16057937889727636, 0.05667818496872001, 0.16057937889727636, 0.16057937889727636, 0.1101439532860915, 0.05667818496872001, 0.05667818496872001]\n",
            "Media de falhas:  [0, 0.01649136718820338, 2.3460453853751284, 3.26715059820273, 3.6505021022757576, 4.83169615002813, 7.949606858379249, 9.956847355599988, 12.944064703323093, 13.46381991810181, 16.450810339216886, 21.88450857416351, 26.450778421043978, 20.110106560200848]\n",
            "Custo =  4713.067605778358\n"
          ]
        },
        {
          "output_type": "stream",
          "name": "stderr",
          "text": [
            "2023-10-27 18:01:16,625 - pyswarms.single.global_best - INFO - Optimize for 1 iters with {'c1': 0.5, 'c2': 0.3, 'w': 0.9}\n",
            "pyswarms.single.global_best: 100%|██████████|1/1, best_cost=1.87e+3\n",
            "2023-10-27 18:01:16,641 - pyswarms.single.global_best - INFO - Optimization finished | best cost: 1871.2408108741981, best pos: [1.55746543 2.40863558 4.28951635 2.33272173 4.63819323 0.66130346\n",
            " 5.42758148 3.74442381 3.01896375 3.28454981 6.50992884 0.33604619\n",
            " 5.18987849 1.73290532 6.44784415 5.75226685 5.05910976 3.82961017\n",
            " 6.43752172 2.56294649 1.7087484  2.11669058 1.7339454  2.84795997]\n"
          ]
        },
        {
          "output_type": "stream",
          "name": "stdout",
          "text": [
            "\n",
            "=========================================================================\n",
            "\n",
            "Número de ciclos de manutenção: 13 5\n",
            "Tempos para manutenções preventivas: [0, 16, 151, 192, 235, 243, 283, 365, 410, 472, 481, 535, 621, 682]\n",
            "Severidade para cada subsistema: [0.25, 0.75, 0.75, 0.5, 0.5, 0.5, 0.75, 0.25, 0.75, 0.75, 0.5, 0.25, 0.25]\n",
            "Número de Sisemas: 5\n",
            "Fator:  [0.06508606740734102, 0.05667818496872001, 0.16057937889727636, 0.16057937889727636, 0.1101439532860915, 0.1101439532860915, 0.1101439532860915, 0.16057937889727636, 0.05667818496872001, 0.16057937889727636, 0.16057937889727636, 0.1101439532860915, 0.05667818496872001, 0.05667818496872001]\n",
            "Media de falhas:  [0, 0.01649136718820338, 1.447876025797145, 2.30647090160237, 3.315867544746296, 3.5227619983231744, 4.736810344248738, 7.821258967222385, 9.828499464443125, 12.81571681216623, 13.335472026944947, 16.322462448060023, 21.756160683006648, 26.322430529887114, 19.981758669043984]\n",
            "Custo =  5307.363846553943\n"
          ]
        },
        {
          "output_type": "stream",
          "name": "stderr",
          "text": [
            "2023-10-27 18:01:16,643 - pyswarms.single.global_best - INFO - Optimize for 1 iters with {'c1': 0.5, 'c2': 0.3, 'w': 0.9}\n",
            "pyswarms.single.global_best: 100%|██████████|1/1, best_cost=1.87e+3\n",
            "2023-10-27 18:01:16,656 - pyswarms.single.global_best - INFO - Optimization finished | best cost: 1871.2408108741981, best pos: [1.5574698  2.4086446  4.28959425 2.33273219 4.63819479 0.66130381\n",
            " 5.42757996 3.74439649 3.01767279 3.32371806 6.50993044 0.33604071\n",
            " 5.18987303 1.7329086  6.44767421 5.75225102 5.05906663 3.82971834\n",
            " 6.43752267 2.56278415 1.70882348 2.11669238 1.73387081 2.84795117]\n",
            "2023-10-27 18:01:16,658 - pyswarms.single.global_best - INFO - Optimize for 1 iters with {'c1': 0.5, 'c2': 0.3, 'w': 0.9}\n"
          ]
        },
        {
          "output_type": "stream",
          "name": "stdout",
          "text": [
            "\n",
            "=========================================================================\n",
            "\n",
            "Número de ciclos de manutenção: 12 5\n",
            "Tempos para manutenções preventivas: [0, 16, 192, 242, 284, 336, 365, 410, 472, 481, 535, 621, 682]\n",
            "Severidade para cada subsistema: [0.25, 0.75, 0.5, 0.5, 0.75, 0.75, 0.25, 0.75, 0.75, 0.5, 0.25, 0.25]\n",
            "Número de Sisemas: 5\n",
            "Fator:  [0.06508606740734102, 0.05667818496872001, 0.16057937889727636, 0.1101439532860915, 0.1101439532860915, 0.16057937889727636, 0.16057937889727636, 0.05667818496872001, 0.16057937889727636, 0.16057937889727636, 0.1101439532860915, 0.05667818496872001, 0.05667818496872001]\n",
            "Media de falhas:  [0, 0.01649136718820338, 2.3460453853751284, 3.6702911648876437, 4.8798301127709705, 6.741654862360436, 7.909400720121527, 9.810335515275028, 12.797552862998133, 13.31730807777685, 16.304298498891924, 21.73799673383855, 26.304266580719016, 19.963594719875886]\n",
            "Custo =  4947.937020486288\n"
          ]
        },
        {
          "output_type": "stream",
          "name": "stderr",
          "text": [
            "pyswarms.single.global_best: 100%|██████████|1/1, best_cost=1.87e+3\n",
            "2023-10-27 18:01:16,672 - pyswarms.single.global_best - INFO - Optimization finished | best cost: 1871.2408108741981, best pos: [1.557476   2.40864963 4.2899887  2.33274164 4.63819579 0.66130433\n",
            " 5.42757876 3.74436282 3.02033767 3.3795404  6.50993184 0.33605605\n",
            " 5.18986787 1.73291177 6.44753717 5.7522438  5.05905116 3.82980832\n",
            " 6.43752345 2.56264334 1.70888199 2.11669418 1.73381442 2.84794269]\n",
            "2023-10-27 18:01:16,673 - pyswarms.single.global_best - INFO - Optimize for 1 iters with {'c1': 0.5, 'c2': 0.3, 'w': 0.9}\n"
          ]
        },
        {
          "output_type": "stream",
          "name": "stdout",
          "text": [
            "\n",
            "=========================================================================\n",
            "\n",
            "Número de ciclos de manutenção: 12 5\n",
            "Tempos para manutenções preventivas: [0, 16, 153, 192, 241, 285, 365, 410, 472, 481, 535, 621, 682]\n",
            "Severidade para cada subsistema: [0.25, 0.5, 0.75, 0.5, 0.5, 0.75, 0.25, 0.75, 0.75, 0.5, 0.25, 0.25]\n",
            "Número de Sisemas: 5\n",
            "Fator:  [0.06508606740734102, 0.05667818496872001, 0.1101439532860915, 0.16057937889727636, 0.1101439532860915, 0.1101439532860915, 0.16057937889727636, 0.05667818496872001, 0.16057937889727636, 0.16057937889727636, 0.1101439532860915, 0.05667818496872001, 0.05667818496872001]\n",
            "Media de falhas:  [0, 0.01649136718820338, 1.4866812733644448, 2.307833892326664, 3.5378709821833816, 4.805913879328948, 7.823138080887844, 9.830378578108585, 12.81759592583169, 13.337351140610407, 16.324341561725483, 21.758039796672108, 26.324309643552574, 19.983637782709444]\n",
            "Custo =  4644.166422827908\n"
          ]
        },
        {
          "output_type": "stream",
          "name": "stderr",
          "text": [
            "pyswarms.single.global_best: 100%|██████████|1/1, best_cost=1.87e+3\n",
            "2023-10-27 18:01:16,688 - pyswarms.single.global_best - INFO - Optimization finished | best cost: 1871.2408108741981, best pos: [1.55748173 2.40865356 4.29043009 2.33275002 4.63819665 0.66130484\n",
            " 5.4275802  3.74432911 3.02367302 3.44994126 6.50993311 0.33609085\n",
            " 5.18986353 1.73291412 6.44750392 5.75224142 5.05906957 3.8298426\n",
            " 6.43752395 2.56258808 1.70892735 2.11669667 1.73377464 2.84793529]\n"
          ]
        },
        {
          "output_type": "stream",
          "name": "stdout",
          "text": [
            "\n",
            "=========================================================================\n",
            "\n",
            "Número de ciclos de manutenção: 12 5\n",
            "Tempos para manutenções preventivas: [0, 16, 173, 192, 240, 286, 365, 411, 472, 481, 535, 621, 682]\n",
            "Severidade para cada subsistema: [0.25, 0.75, 0.75, 0.5, 0.5, 0.75, 0.25, 0.75, 0.75, 0.5, 0.25, 0.25]\n",
            "Número de Sisemas: 5\n",
            "Fator:  [0.06508606740734102, 0.05667818496872001, 0.16057937889727636, 0.16057937889727636, 0.1101439532860915, 0.1101439532860915, 0.16057937889727636, 0.05667818496872001, 0.16057937889727636, 0.16057937889727636, 0.1101439532860915, 0.05667818496872001, 0.05667818496872001]\n",
            "Media de falhas:  [0, 0.01649136718820338, 1.9029843406447724, 2.324665032232431, 3.466840207757353, 4.793469487580527, 7.776931353730081, 9.831728570848886, 12.77342179580075, 13.293177010579468, 16.280167431694544, 21.71386566664117, 26.280135513521635, 19.939463652678505]\n",
            "Custo =  5022.318575369605\n"
          ]
        },
        {
          "output_type": "stream",
          "name": "stderr",
          "text": [
            "2023-10-27 18:01:16,698 - pyswarms.single.global_best - INFO - Optimize for 1 iters with {'c1': 0.5, 'c2': 0.3, 'w': 0.9}\n",
            "pyswarms.single.global_best: 100%|██████████|1/1, best_cost=1.87e+3"
          ]
        },
        {
          "output_type": "stream",
          "name": "stdout",
          "text": [
            "\n",
            "=========================================================================\n",
            "\n",
            "Número de ciclos de manutenção: 12 5\n",
            "Tempos para manutenções preventivas: [0, 16, 166, 192, 286, 354, 365, 411, 472, 481, 534, 621, 681]\n",
            "Severidade para cada subsistema: [0.25, 0.25, 0.75, 0.5, 0.75, 0.75, 0.25, 0.75, 0.75, 0.5, 0.25, 0.25]\n",
            "Número de Sisemas: 5\n",
            "Fator:  [0.06508606740734102, 0.05667818496872001, 0.05667818496872001, 0.16057937889727636, 0.1101439532860915, 0.16057937889727636, 0.16057937889727636, 0.05667818496872001, 0.16057937889727636, 0.16057937889727636, 0.1101439532860915, 0.05667818496872001, 0.05667818496872001]\n",
            "Media de falhas:  [0, 0.01649136718820338, 1.7514356914475289, 2.3181120787008593, 5.073163916630152, 7.467316851572026, 7.9201613011539385, 9.866290605029848, 12.807983829981712, 13.32773904476043, 16.256014965113167, 21.749107415428306, 26.23667248816479, 19.97793153736872]\n",
            "Custo =  5825.679671949136\n"
          ]
        },
        {
          "output_type": "stream",
          "name": "stderr",
          "text": [
            "\n",
            "2023-10-27 18:01:16,720 - pyswarms.single.global_best - INFO - Optimization finished | best cost: 1871.2408108741981, best pos: [1.55748618 2.408652   4.29090477 2.33275736 4.63819559 0.66130521\n",
            " 5.42758358 3.74429939 3.02670648 3.52398347 6.50993402 0.33612445\n",
            " 5.18986159 1.73291587 6.44757231 5.75224556 5.0591064  3.82977724\n",
            " 6.43752393 2.56263069 1.70896152 2.11669926 1.73377336 2.8479299 ]\n",
            "2023-10-27 18:01:16,724 - pyswarms.single.global_best - INFO - Optimize for 1 iters with {'c1': 0.5, 'c2': 0.3, 'w': 0.9}\n",
            "pyswarms.single.global_best: 100%|██████████|1/1, best_cost=1.87e+3\n",
            "2023-10-27 18:01:16,748 - pyswarms.single.global_best - INFO - Optimization finished | best cost: 1871.2408108741981, best pos: [1.55748964 2.40864579 4.29131086 2.33276132 4.63819409 0.66130553\n",
            " 5.42758687 3.7442835  3.02960017 3.58780674 6.50993421 0.33616147\n",
            " 5.18986113 1.73291642 6.44766548 5.75225716 5.05914049 3.82964966\n",
            " 6.43752384 2.56273115 1.70893758 2.11670136 1.73377318 2.84792873]\n"
          ]
        },
        {
          "output_type": "stream",
          "name": "stdout",
          "text": [
            "\n",
            "=========================================================================\n",
            "\n",
            "Número de ciclos de manutenção: 10 5\n",
            "Tempos para manutenções preventivas: [0, 16, 192, 286, 365, 411, 472, 481, 534, 621, 681]\n",
            "Severidade para cada subsistema: [0.25, 0.75, 0.5, 0.75, 0.25, 0.75, 0.75, 0.5, 0.25, 0.25]\n",
            "Número de Sisemas: 5\n",
            "Fator:  [0.06508606740734102, 0.05667818496872001, 0.16057937889727636, 0.1101439532860915, 0.16057937889727636, 0.05667818496872001, 0.16057937889727636, 0.16057937889727636, 0.1101439532860915, 0.05667818496872001, 0.05667818496872001]\n",
            "Media de falhas:  [0, 0.01649136718820338, 2.3460453853751284, 5.101097223304421, 7.9383050585305135, 9.993102275649319, 12.934795500601183, 13.4545507153799, 16.382826635732638, 21.87591908604778, 26.363484158784264, 20.104743207988193]\n",
            "Custo =  4070.609237321029\n"
          ]
        },
        {
          "output_type": "stream",
          "name": "stderr",
          "text": [
            "2023-10-27 18:01:16,752 - pyswarms.single.global_best - INFO - Optimize for 1 iters with {'c1': 0.5, 'c2': 0.3, 'w': 0.9}\n",
            "pyswarms.single.global_best:   0%|          |0/1, best_cost=1.87e+3"
          ]
        },
        {
          "output_type": "stream",
          "name": "stdout",
          "text": [
            "\n",
            "=========================================================================\n",
            "\n",
            "Número de ciclos de manutenção: 11 5\n",
            "Tempos para manutenções preventivas: [0, 16, 192, 286, 343, 365, 412, 472, 481, 534, 621, 681]\n",
            "Severidade para cada subsistema: [0.25, 0.75, 0.5, 0.5, 0.75, 0.25, 0.75, 0.75, 0.5, 0.25, 0.25]\n",
            "Número de Sisemas: 5\n",
            "Fator:  [0.06508606740734102, 0.05667818496872001, 0.16057937889727636, 0.1101439532860915, 0.1101439532860915, 0.16057937889727636, 0.05667818496872001, 0.16057937889727636, 0.16057937889727636, 0.1101439532860915, 0.05667818496872001, 0.05667818496872001]\n",
            "Media de falhas:  [0, 0.01649136718820338, 2.3460453853751284, 5.101097223304421, 7.067723988284481, 7.961305179324313, 10.063787432111205, 12.959869422280905, 13.479624637059622, 16.407900557412358, 21.9009930077275, 26.388558080463984, 20.129817129667913]\n",
            "Custo =  4693.947073885707\n"
          ]
        },
        {
          "output_type": "stream",
          "name": "stderr",
          "text": [
            "\rpyswarms.single.global_best: 100%|██████████|1/1, best_cost=1.87e+3\n",
            "2023-10-27 18:01:16,780 - pyswarms.single.global_best - INFO - Optimization finished | best cost: 1871.2408108741981, best pos: [1.55749081 2.40863674 4.29165906 2.33276363 4.63819254 0.66130554\n",
            " 5.42758991 3.74427027 3.03234063 3.62416073 6.50993366 0.33619418\n",
            " 5.18986299 1.73291619 6.44778692 5.75227177 5.05917202 3.8295025\n",
            " 6.43752373 2.56286168 1.70888872 2.1167031  1.73381319 2.84792882]\n",
            "2023-10-27 18:01:16,781 - pyswarms.single.global_best - INFO - Optimize for 1 iters with {'c1': 0.5, 'c2': 0.3, 'w': 0.9}\n",
            "pyswarms.single.global_best: 100%|██████████|1/1, best_cost=1.87e+3\n",
            "2023-10-27 18:01:16,801 - pyswarms.single.global_best - INFO - Optimization finished | best cost: 1871.2408108741981, best pos: [1.55748987 2.40862658 4.29192985 2.33276459 4.63819048 0.66130552\n",
            " 5.42759211 3.744277   3.03440736 3.61774859 6.50993252 0.33621141\n",
            " 5.18986479 1.73291541 6.44792757 5.75228513 5.05919778 3.82935119\n",
            " 6.4375234  2.56298211 1.70883827 2.11670439 1.73386918 2.84793016]\n",
            "2023-10-27 18:01:16,803 - pyswarms.single.global_best - INFO - Optimize for 1 iters with {'c1': 0.5, 'c2': 0.3, 'w': 0.9}\n"
          ]
        },
        {
          "output_type": "stream",
          "name": "stdout",
          "text": [
            "\n",
            "=========================================================================\n",
            "\n",
            "Número de ciclos de manutenção: 11 5\n",
            "Tempos para manutenções preventivas: [0, 16, 162, 192, 285, 365, 412, 472, 481, 534, 621, 681]\n",
            "Severidade para cada subsistema: [0.25, 0.25, 0.75, 0.5, 0.75, 0.25, 0.75, 0.75, 0.5, 0.25, 0.25]\n",
            "Número de Sisemas: 5\n",
            "Fator:  [0.06508606740734102, 0.05667818496872001, 0.05667818496872001, 0.16057937889727636, 0.1101439532860915, 0.16057937889727636, 0.05667818496872001, 0.16057937889727636, 0.16057937889727636, 0.1101439532860915, 0.05667818496872001, 0.05667818496872001]\n",
            "Media de falhas:  [0, 0.01649136718820338, 1.6676613992501388, 2.314687642835067, 5.03446151336888, 7.904098041960213, 10.006580294747106, 12.902662284916806, 13.422417499695523, 16.35069342004826, 21.843785870363398, 26.33135094309988, 20.07260999230381]\n",
            "Custo =  4495.601650491172\n"
          ]
        },
        {
          "output_type": "stream",
          "name": "stderr",
          "text": [
            "pyswarms.single.global_best:   0%|          |0/1, best_cost=1.87e+3"
          ]
        },
        {
          "output_type": "stream",
          "name": "stdout",
          "text": [
            "\n",
            "=========================================================================\n",
            "\n",
            "Número de ciclos de manutenção: 12 5\n",
            "Tempos para manutenções preventivas: [0, 16, 158, 192, 236, 284, 365, 412, 472, 481, 534, 621, 681]\n",
            "Severidade para cada subsistema: [0.25, 0.5, 0.75, 0.5, 0.5, 0.75, 0.25, 0.75, 0.75, 0.5, 0.25, 0.25]\n",
            "Número de Sisemas: 5\n",
            "Fator:  [0.06508606740734102, 0.05667818496872001, 0.1101439532860915, 0.16057937889727636, 0.1101439532860915, 0.1101439532860915, 0.16057937889727636, 0.05667818496872001, 0.16057937889727636, 0.16057937889727636, 0.1101439532860915, 0.05667818496872001, 0.05667818496872001]\n",
            "Media de falhas:  [0, 0.01649136718820338, 1.5859416608822676, 2.311496019875711, 3.4018968461962658, 4.771677656242989, 7.822564110181054, 9.925046362967947, 12.821128353137647, 13.340883567916364, 16.2691594882691, 21.762251938584242, 26.249817011320726, 19.991076060524655]\n",
            "Custo =  4693.9299938509785\n"
          ]
        },
        {
          "output_type": "stream",
          "name": "stderr",
          "text": [
            "\rpyswarms.single.global_best: 100%|██████████|1/1, best_cost=1.87e+3\n",
            "2023-10-27 18:01:16,828 - pyswarms.single.global_best - INFO - Optimization finished | best cost: 1871.2408108741981, best pos: [1.55748863 2.40861527 4.29189152 2.33276222 4.63818858 0.66130526\n",
            " 5.42759293 3.74428619 3.03584553 3.60596973 6.50993084 0.33621977\n",
            " 5.18986817 1.73291342 6.44806088 5.75229558 5.05921594 3.8292052\n",
            " 6.43752298 2.56308491 1.70877788 2.11670458 1.73393674 2.84793573]\n",
            "2023-10-27 18:01:16,834 - pyswarms.single.global_best - INFO - Optimize for 1 iters with {'c1': 0.5, 'c2': 0.3, 'w': 0.9}\n",
            "pyswarms.single.global_best: 100%|██████████|1/1, best_cost=1.87e+3\n",
            "2023-10-27 18:01:16,853 - pyswarms.single.global_best - INFO - Optimization finished | best cost: 1871.2408108741981, best pos: [1.55748676 2.40860517 4.29160955 2.33275854 4.63818694 0.66130489\n",
            " 5.42759254 3.74430236 3.03656681 3.58224562 6.50992916 0.33620835\n",
            " 5.18987182 1.73291142 6.44818057 5.75230375 5.05922616 3.82908291\n",
            " 6.43752255 2.56315774 1.70872129 2.11670311 1.73400228 2.84794189]\n",
            "2023-10-27 18:01:16,857 - pyswarms.single.global_best - INFO - Optimize for 1 iters with {'c1': 0.5, 'c2': 0.3, 'w': 0.9}\n"
          ]
        },
        {
          "output_type": "stream",
          "name": "stdout",
          "text": [
            "\n",
            "=========================================================================\n",
            "\n",
            "Número de ciclos de manutenção: 13 5\n",
            "Tempos para manutenções preventivas: [0, 16, 169, 192, 230, 284, 333, 365, 412, 472, 481, 534, 621, 681]\n",
            "Severidade para cada subsistema: [0.25, 0.75, 0.75, 0.5, 0.5, 0.5, 0.75, 0.25, 0.75, 0.75, 0.5, 0.25, 0.25]\n",
            "Número de Sisemas: 5\n",
            "Fator:  [0.06508606740734102, 0.05667818496872001, 0.16057937889727636, 0.16057937889727636, 0.1101439532860915, 0.1101439532860915, 0.1101439532860915, 0.16057937889727636, 0.05667818496872001, 0.16057937889727636, 0.16057937889727636, 0.1101439532860915, 0.05667818496872001, 0.05667818496872001]\n",
            "Media de falhas:  [0, 0.01649136718820338, 1.8156146849259516, 2.3208331859926954, 3.200660868434792, 4.727545978027964, 6.47252441049329, 7.756268391151747, 9.85875064393864, 12.75483263410834, 13.274587848887057, 16.202863769239794, 21.695956219554937, 26.18352129229142, 19.92478034149535]\n",
            "Custo =  5376.594855401179\n"
          ]
        },
        {
          "output_type": "stream",
          "name": "stderr",
          "text": [
            "pyswarms.single.global_best: 100%|██████████|1/1, best_cost=1.87e+3"
          ]
        },
        {
          "output_type": "stream",
          "name": "stdout",
          "text": [
            "\n",
            "=========================================================================\n",
            "\n",
            "Número de ciclos de manutenção: 13 5\n",
            "Tempos para manutenções preventivas: [0, 16, 192, 225, 240, 283, 347, 365, 412, 472, 481, 534, 621, 681]\n",
            "Severidade para cada subsistema: [0.25, 0.75, 0.5, 0.5, 0.5, 0.75, 0.75, 0.25, 0.75, 0.75, 0.5, 0.25, 0.25]\n",
            "Número de Sisemas: 5\n",
            "Fator:  [0.06508606740734102, 0.05667818496872001, 0.16057937889727636, 0.1101439532860915, 0.1101439532860915, 0.1101439532860915, 0.16057937889727636, 0.16057937889727636, 0.05667818496872001, 0.16057937889727636, 0.16057937889727636, 0.1101439532860915, 0.05667818496872001, 0.05667818496872001]\n",
            "Media de falhas:  [0, 0.01649136718820338, 2.3460453853751284, 3.1840368729099597, 3.5625387126607406, 4.8611847172993965, 7.1946356429285405, 7.929349841102505, 9.920801975194909, 12.816883965364608, 13.336639180143326, 16.26491510049606, 21.7580075508112, 26.245572623547684, 19.986831672751613]\n",
            "Custo =  5576.092119093413\n"
          ]
        },
        {
          "output_type": "stream",
          "name": "stderr",
          "text": [
            "\n",
            "2023-10-27 18:01:16,874 - pyswarms.single.global_best - INFO - Optimization finished | best cost: 1871.2408108741981, best pos: [1.55748335 2.40859739 4.29130171 2.3327548  4.63818619 0.66130448\n",
            " 5.42759087 3.74432132 3.0359463  3.54427751 6.50992795 0.33618852\n",
            " 5.1898751  1.73290931 6.44823015 5.75230298 5.05923375 3.82900339\n",
            " 6.43752216 2.5631984  1.7086606  2.11670117 1.73404907 2.84794773]\n",
            "2023-10-27 18:01:16,876 - pyswarms.single.global_best - INFO - Optimize for 1 iters with {'c1': 0.5, 'c2': 0.3, 'w': 0.9}\n",
            "pyswarms.single.global_best:   0%|          |0/1, best_cost=1.87e+3"
          ]
        },
        {
          "output_type": "stream",
          "name": "stdout",
          "text": [
            "\n",
            "=========================================================================\n",
            "\n",
            "Número de ciclos de manutenção: 13 5\n",
            "Tempos para manutenções preventivas: [0, 16, 192, 222, 241, 283, 337, 365, 412, 472, 481, 534, 621, 682]\n",
            "Severidade para cada subsistema: [0.25, 0.75, 0.5, 0.5, 0.5, 0.25, 0.75, 0.25, 0.75, 0.75, 0.5, 0.25, 0.25]\n",
            "Número de Sisemas: 5\n",
            "Fator:  [0.06508606740734102, 0.05667818496872001, 0.16057937889727636, 0.1101439532860915, 0.1101439532860915, 0.1101439532860915, 0.05667818496872001, 0.16057937889727636, 0.05667818496872001, 0.16057937889727636, 0.16057937889727636, 0.1101439532860915, 0.05667818496872001, 0.05667818496872001]\n",
            "Media de falhas:  [0, 0.01649136718820338, 2.3460453853751284, 3.1020785452293276, 3.580249919315024, 4.850796801863104, 6.78499338781529, 7.913873067555086, 10.134050911324106, 13.030132901493806, 13.549888116272523, 16.47816403662526, 21.971256486940398, 26.537526333820864, 20.196854472977734]\n",
            "Custo =  5160.029824874293\n"
          ]
        },
        {
          "output_type": "stream",
          "name": "stderr",
          "text": [
            "\rpyswarms.single.global_best: 100%|██████████|1/1, best_cost=1.87e+3\n",
            "2023-10-27 18:01:16,892 - pyswarms.single.global_best - INFO - Optimization finished | best cost: 1871.2408108741981, best pos: [1.55748002 2.40859267 4.29098458 2.33275133 4.63818661 0.66130411\n",
            " 5.42758859 3.74434057 3.03471686 3.50819863 6.50992734 0.3361664\n",
            " 5.18987788 1.73290741 6.44819418 5.75230215 5.05922437 3.82897544\n",
            " 6.43752181 2.56319646 1.70860814 2.11669898 1.73408544 2.84795261]\n",
            "2023-10-27 18:01:16,895 - pyswarms.single.global_best - INFO - Optimize for 1 iters with {'c1': 0.5, 'c2': 0.3, 'w': 0.9}\n",
            "pyswarms.single.global_best: 100%|██████████|1/1, best_cost=1.87e+3"
          ]
        },
        {
          "output_type": "stream",
          "name": "stdout",
          "text": [
            "\n",
            "=========================================================================\n",
            "\n",
            "Número de ciclos de manutenção: 12 5\n",
            "Tempos para manutenções preventivas: [0, 16, 192, 220, 242, 283, 365, 412, 472, 481, 534, 621, 682]\n",
            "Severidade para cada subsistema: [0.25, 0.75, 0.5, 0.5, 0.5, 0.75, 0.25, 0.75, 0.75, 0.5, 0.25, 0.25]\n",
            "Número de Sisemas: 5\n",
            "Fator:  [0.06508606740734102, 0.05667818496872001, 0.16057937889727636, 0.1101439532860915, 0.1101439532860915, 0.1101439532860915, 0.16057937889727636, 0.05667818496872001, 0.16057937889727636, 0.16057937889727636, 0.1101439532860915, 0.05667818496872001, 0.05667818496872001]\n",
            "Media de falhas:  [0, 0.01649136718820338, 2.3460453853751284, 3.048081554715694, 3.6012484651455052, 4.843596127999444, 7.928044750973091, 10.030527003759984, 12.926608993929683, 13.4463642087084, 16.374640129061138, 21.86773257937628, 26.434002426256747, 20.093330565413616]\n",
            "Custo =  4659.398083387093\n"
          ]
        },
        {
          "output_type": "stream",
          "name": "stderr",
          "text": [
            "\n",
            "2023-10-27 18:01:16,917 - pyswarms.single.global_best - INFO - Optimization finished | best cost: 1871.2408108741981, best pos: [1.55747696 2.40858999 4.29065677 2.33274588 4.63818756 0.66130384\n",
            " 5.42758637 3.74435802 3.03280332 3.47177526 6.50992757 0.33614336\n",
            " 5.18988014 1.73290623 6.44810062 5.75229482 5.05919834 3.82901485\n",
            " 6.4375215  2.56319414 1.70856664 2.11669697 1.73410397 2.84795491]\n",
            "2023-10-27 18:01:16,919 - pyswarms.single.global_best - INFO - Optimize for 1 iters with {'c1': 0.5, 'c2': 0.3, 'w': 0.9}\n",
            "pyswarms.single.global_best: 100%|██████████|1/1, best_cost=1.87e+3\n",
            "2023-10-27 18:01:16,933 - pyswarms.single.global_best - INFO - Optimization finished | best cost: 1871.2408108741981, best pos: [1.55747455 2.40859101 4.29040767 2.3327402  4.63818845 0.66130371\n",
            " 5.42758445 3.74437284 3.0308645  3.43969765 6.50992803 0.33612474\n",
            " 5.18988109 1.73290537 6.44799471 5.75228709 5.0591742  3.82905145\n",
            " 6.43752132 2.56312497 1.7085422  2.11669542 1.73407692 2.8479555 ]\n",
            "2023-10-27 18:01:16,935 - pyswarms.single.global_best - INFO - Optimize for 1 iters with {'c1': 0.5, 'c2': 0.3, 'w': 0.9}\n"
          ]
        },
        {
          "output_type": "stream",
          "name": "stdout",
          "text": [
            "\n",
            "=========================================================================\n",
            "\n",
            "Número de ciclos de manutenção: 12 5\n",
            "Tempos para manutenções preventivas: [0, 16, 192, 222, 242, 283, 365, 411, 472, 481, 534, 621, 682]\n",
            "Severidade para cada subsistema: [0.25, 0.75, 0.5, 0.5, 0.5, 0.75, 0.25, 0.75, 0.75, 0.5, 0.25, 0.25]\n",
            "Número de Sisemas: 5\n",
            "Fator:  [0.06508606740734102, 0.05667818496872001, 0.16057937889727636, 0.1101439532860915, 0.1101439532860915, 0.1101439532860915, 0.16057937889727636, 0.05667818496872001, 0.16057937889727636, 0.16057937889727636, 0.1101439532860915, 0.05667818496872001, 0.05667818496872001]\n",
            "Media de falhas:  [0, 0.01649136718820338, 2.3460453853751284, 3.1020785452293276, 3.606700689513222, 4.84904835236716, 7.933496975340807, 9.988294192459612, 12.929987417411478, 13.449742632190196, 16.378018552542933, 21.871111002858072, 26.43738084973854, 20.096708988895408]\n",
            "Custo =  4666.133782621243\n"
          ]
        },
        {
          "output_type": "stream",
          "name": "stderr",
          "text": [
            "pyswarms.single.global_best:   0%|          |0/1, best_cost=1.87e+3"
          ]
        },
        {
          "output_type": "stream",
          "name": "stdout",
          "text": [
            "\n",
            "=========================================================================\n",
            "\n",
            "Número de ciclos de manutenção: 14 5\n",
            "Tempos para manutenções preventivas: [0, 16, 173, 192, 225, 242, 284, 342, 365, 411, 472, 481, 534, 621, 682]\n",
            "Severidade para cada subsistema: [0.25, 0.25, 0.75, 0.5, 0.5, 0.5, 0.5, 0.75, 0.25, 0.75, 0.75, 0.5, 0.25, 0.25]\n",
            "Número de Sisemas: 5\n",
            "Fator:  [0.06508606740734102, 0.05667818496872001, 0.05667818496872001, 0.16057937889727636, 0.1101439532860915, 0.1101439532860915, 0.1101439532860915, 0.1101439532860915, 0.16057937889727636, 0.05667818496872001, 0.16057937889727636, 0.16057937889727636, 0.1101439532860915, 0.05667818496872001, 0.05667818496872001]\n",
            "Media de falhas:  [0, 0.01649136718820338, 1.9029843406447724, 2.324665032232431, 3.1626565197672623, 3.593807824359439, 4.869152280460104, 6.968134775911091, 7.901182549536562, 9.955979766655368, 12.897672991607234, 13.417428206385951, 16.34570412673869, 21.838796577053827, 26.405066423934294, 20.064394563091163]\n",
            "Custo =  5949.492614087246\n"
          ]
        },
        {
          "output_type": "stream",
          "name": "stderr",
          "text": [
            "\rpyswarms.single.global_best: 100%|██████████|1/1, best_cost=1.87e+3\n",
            "2023-10-27 18:01:16,953 - pyswarms.single.global_best - INFO - Optimization finished | best cost: 1871.2408108741981, best pos: [1.55747338 2.4085981  4.29030315 2.33273499 4.63818932 0.66130376\n",
            " 5.42758278 3.7443844  3.0290384  3.42018714 6.509929   0.33611322\n",
            " 5.18988149 1.73290495 6.44789003 5.75227685 5.05915132 3.82914024\n",
            " 6.43752118 2.56303959 1.70853789 2.11669436 1.73405069 2.847956  ]\n",
            "2023-10-27 18:01:16,955 - pyswarms.single.global_best - INFO - Optimize for 1 iters with {'c1': 0.5, 'c2': 0.3, 'w': 0.9}\n",
            "pyswarms.single.global_best:   0%|          |0/1, best_cost=1.87e+3"
          ]
        },
        {
          "output_type": "stream",
          "name": "stdout",
          "text": [
            "\n",
            "=========================================================================\n",
            "\n",
            "Número de ciclos de manutenção: 12 5\n",
            "Tempos para manutenções preventivas: [0, 16, 192, 230, 242, 284, 365, 411, 472, 481, 534, 621, 682]\n",
            "Severidade para cada subsistema: [0.25, 0.75, 0.5, 0.5, 0.5, 0.75, 0.25, 0.75, 0.75, 0.5, 0.25, 0.25]\n",
            "Número de Sisemas: 5\n",
            "Fator:  [0.06508606740734102, 0.05667818496872001, 0.16057937889727636, 0.1101439532860915, 0.1101439532860915, 0.1101439532860915, 0.16057937889727636, 0.05667818496872001, 0.16057937889727636, 0.16057937889727636, 0.1101439532860915, 0.05667818496872001, 0.05667818496872001]\n",
            "Media de falhas:  [0, 0.01649136718820338, 2.3460453853751284, 3.3232016289975714, 3.6301583832218998, 4.905502839322565, 7.95638929326063, 10.011186510379435, 12.952879735331301, 13.472634950110018, 16.400910870462756, 21.894003320777898, 26.460273167658364, 20.119601306815234]\n",
            "Custo =  4774.786242495148\n"
          ]
        },
        {
          "output_type": "stream",
          "name": "stderr",
          "text": [
            "\rpyswarms.single.global_best: 100%|██████████|1/1, best_cost=1.87e+3\n",
            "2023-10-27 18:01:16,974 - pyswarms.single.global_best - INFO - Optimization finished | best cost: 1871.2408108741981, best pos: [1.55747286 2.40860889 4.29021756 2.33273124 4.6381903  0.661304\n",
            " 5.42758177 3.74439304 3.02747745 3.4229306  6.50993008 0.33610724\n",
            " 5.18987897 1.73290566 6.44779876 5.75226751 5.0591327  3.82925649\n",
            " 6.43752108 2.56294363 1.70854425 2.11669409 1.7339999  2.84795589]\n",
            "2023-10-27 18:01:16,975 - pyswarms.single.global_best - INFO - Optimize for 1 iters with {'c1': 0.5, 'c2': 0.3, 'w': 0.9}\n",
            "pyswarms.single.global_best: 100%|██████████|1/1, best_cost=1.87e+3\n",
            "2023-10-27 18:01:16,989 - pyswarms.single.global_best - INFO - Optimization finished | best cost: 1871.2408108741981, best pos: [1.55747324 2.40861861 4.29015993 2.33272846 4.63819117 0.66130432\n",
            " 5.42758096 3.74439125 3.0262943  3.43317585 6.50993107 0.33610623\n",
            " 5.18987468 1.73290727 6.44773507 5.75226138 5.05911973 3.82937173\n",
            " 6.43752113 2.56285193 1.70856457 2.11669491 1.73395123 2.84795311]\n",
            "2023-10-27 18:01:16,991 - pyswarms.single.global_best - INFO - Optimize for 1 iters with {'c1': 0.5, 'c2': 0.3, 'w': 0.9}\n"
          ]
        },
        {
          "output_type": "stream",
          "name": "stdout",
          "text": [
            "\n",
            "=========================================================================\n",
            "\n",
            "Número de ciclos de manutenção: 13 5\n",
            "Tempos para manutenções preventivas: [0, 16, 192, 234, 242, 285, 339, 365, 411, 472, 481, 534, 621, 682]\n",
            "Severidade para cada subsistema: [0.25, 0.75, 0.5, 0.5, 0.5, 0.5, 0.75, 0.25, 0.75, 0.75, 0.5, 0.25, 0.25]\n",
            "Número de Sisemas: 5\n",
            "Fator:  [0.06508606740734102, 0.05667818496872001, 0.16057937889727636, 0.1101439532860915, 0.1101439532860915, 0.1101439532860915, 0.1101439532860915, 0.16057937889727636, 0.05667818496872001, 0.16057937889727636, 0.16057937889727636, 0.1101439532860915, 0.05667818496872001, 0.05667818496872001]\n",
            "Media de falhas:  [0, 0.01649136718820338, 2.3460453853751284, 3.4368441854857137, 3.642876488841554, 4.951346095020751, 6.89787746007606, 7.948724579781319, 10.003521796900124, 12.94521502185199, 13.464970236630707, 16.393246156983444, 21.886338607298583, 26.45260845417905, 20.11193659333592]\n",
            "Custo =  5473.853639043583\n"
          ]
        },
        {
          "output_type": "stream",
          "name": "stderr",
          "text": [
            "pyswarms.single.global_best:   0%|          |0/1, best_cost=1.87e+3"
          ]
        },
        {
          "output_type": "stream",
          "name": "stdout",
          "text": [
            "\n",
            "=========================================================================\n",
            "\n",
            "Número de ciclos de manutenção: 13 5\n",
            "Tempos para manutenções preventivas: [0, 16, 163, 192, 238, 241, 285, 365, 411, 472, 481, 534, 621, 682]\n",
            "Severidade para cada subsistema: [0.25, 0.25, 0.75, 0.5, 0.5, 0.5, 0.75, 0.25, 0.75, 0.75, 0.5, 0.25, 0.25]\n",
            "Número de Sisemas: 5\n",
            "Fator:  [0.06508606740734102, 0.05667818496872001, 0.05667818496872001, 0.16057937889727636, 0.1101439532860915, 0.1101439532860915, 0.1101439532860915, 0.16057937889727636, 0.05667818496872001, 0.16057937889727636, 0.16057937889727636, 0.1101439532860915, 0.05667818496872001, 0.05667818496872001]\n",
            "Media de falhas:  [0, 0.01649136718820338, 1.688412359622537, 2.315521925793305, 3.5220172485249845, 3.599609706077135, 4.936306807402978, 7.953531008961875, 10.00832822608068, 12.950021451032544, 13.469776665811262, 16.398052586164, 21.891145036479138, 26.457414883359604, 20.116743022516474]\n",
            "Custo =  6195.715560720008\n"
          ]
        },
        {
          "output_type": "stream",
          "name": "stderr",
          "text": [
            "\rpyswarms.single.global_best: 100%|██████████|1/1, best_cost=1.87e+3\n",
            "2023-10-27 18:01:17,008 - pyswarms.single.global_best - INFO - Optimization finished | best cost: 1871.2408108741981, best pos: [1.55747386 2.40862662 4.29014279 2.33272802 4.63819178 0.66130462\n",
            " 5.42758092 3.74438372 3.02580828 3.44386738 6.50993182 0.33611686\n",
            " 5.18987064 1.73290939 6.44773951 5.7522562  5.05911532 3.82946171\n",
            " 6.43752125 2.56278291 1.70859149 2.11669647 1.7339079  2.84794859]\n",
            "2023-10-27 18:01:17,010 - pyswarms.single.global_best - INFO - Optimize for 1 iters with {'c1': 0.5, 'c2': 0.3, 'w': 0.9}\n",
            "pyswarms.single.global_best:   0%|          |0/1, best_cost=1.87e+3"
          ]
        },
        {
          "output_type": "stream",
          "name": "stdout",
          "text": [
            "\n",
            "=========================================================================\n",
            "\n",
            "Número de ciclos de manutenção: 12 5\n",
            "Tempos para manutenções preventivas: [0, 16, 174, 192, 241, 285, 365, 411, 472, 481, 534, 621, 682]\n",
            "Severidade para cada subsistema: [0.25, 0.5, 0.75, 0.5, 0.5, 0.75, 0.25, 0.75, 0.75, 0.5, 0.25, 0.25]\n",
            "Número de Sisemas: 5\n",
            "Fator:  [0.06508606740734102, 0.05667818496872001, 0.1101439532860915, 0.16057937889727636, 0.1101439532860915, 0.1101439532860915, 0.16057937889727636, 0.05667818496872001, 0.16057937889727636, 0.16057937889727636, 0.1101439532860915, 0.05667818496872001, 0.05667818496872001]\n",
            "Media de falhas:  [0, 0.01649136718820338, 1.925147761651486, 2.325659368850353, 3.5556964587070703, 4.823739355852636, 7.840963557411532, 9.895760774530338, 12.837453999482204, 13.357209214260921, 16.28548513461366, 21.778577584928797, 26.344847431809264, 20.004175570966133]\n",
            "Custo =  5012.774262794815\n"
          ]
        },
        {
          "output_type": "stream",
          "name": "stderr",
          "text": [
            "\rpyswarms.single.global_best: 100%|██████████|1/1, best_cost=1.87e+3\n",
            "2023-10-27 18:01:17,029 - pyswarms.single.global_best - INFO - Optimization finished | best cost: 1871.2408108741981, best pos: [1.55747531 2.40863133 4.29015994 2.33272777 4.63819229 0.66130489\n",
            " 5.42758172 3.74436476 3.02643246 3.45682143 6.50993214 0.33613687\n",
            " 5.18986706 1.73291131 6.4477908  5.75225705 5.05912086 3.82952984\n",
            " 6.43752141 2.56273352 1.708634   2.11669818 1.73387845 2.84794389]\n",
            "2023-10-27 18:01:17,030 - pyswarms.single.global_best - INFO - Optimize for 1 iters with {'c1': 0.5, 'c2': 0.3, 'w': 0.9}\n",
            "pyswarms.single.global_best: 100%|██████████|1/1, best_cost=1.87e+3\n",
            "2023-10-27 18:01:17,048 - pyswarms.single.global_best - INFO - Optimization finished | best cost: 1871.2408108741981, best pos: [1.557477   2.40863193 4.29018841 2.33273042 4.63819269 0.66130512\n",
            " 5.42758378 3.7443434  3.02784285 3.46947628 6.50993189 0.33615748\n",
            " 5.18986478 1.73291299 6.44783979 5.7522627  5.05912606 3.82952892\n",
            " 6.43752174 2.56273307 1.70867913 2.11669971 1.73385713 2.84794003]\n",
            "2023-10-27 18:01:17,049 - pyswarms.single.global_best - INFO - Optimize for 1 iters with {'c1': 0.5, 'c2': 0.3, 'w': 0.9}\n"
          ]
        },
        {
          "output_type": "stream",
          "name": "stdout",
          "text": [
            "\n",
            "=========================================================================\n",
            "\n",
            "Número de ciclos de manutenção: 12 5\n",
            "Tempos para manutenções preventivas: [0, 16, 192, 241, 285, 350, 365, 411, 472, 481, 534, 621, 681]\n",
            "Severidade para cada subsistema: [0.25, 0.75, 0.5, 0.5, 0.75, 0.75, 0.25, 0.75, 0.75, 0.5, 0.25, 0.25]\n",
            "Número de Sisemas: 5\n",
            "Fator:  [0.06508606740734102, 0.05667818496872001, 0.16057937889727636, 0.1101439532860915, 0.1101439532860915, 0.16057937889727636, 0.16057937889727636, 0.05667818496872001, 0.16057937889727636, 0.16057937889727636, 0.1101439532860915, 0.05667818496872001, 0.05667818496872001]\n",
            "Media de falhas:  [0, 0.01649136718820338, 2.3460453853751284, 3.640660996092302, 4.908703893237868, 7.297633268736683, 7.9121465338393655, 9.858275837715276, 12.799969062667142, 13.319724277445859, 16.248000197798596, 21.741092648113735, 26.22865772085022, 19.969916770054148]\n",
            "Custo =  5294.813491664707\n"
          ]
        },
        {
          "output_type": "stream",
          "name": "stderr",
          "text": [
            "pyswarms.single.global_best:   0%|          |0/1, best_cost=1.87e+3"
          ]
        },
        {
          "output_type": "stream",
          "name": "stdout",
          "text": [
            "\n",
            "=========================================================================\n",
            "\n",
            "Número de ciclos de manutenção: 11 5\n",
            "Tempos para manutenções preventivas: [0, 16, 192, 240, 285, 365, 412, 472, 481, 534, 621, 681]\n",
            "Severidade para cada subsistema: [0.25, 0.75, 0.5, 0.5, 0.75, 0.25, 0.75, 0.75, 0.5, 0.25, 0.25]\n",
            "Número de Sisemas: 5\n",
            "Fator:  [0.06508606740734102, 0.05667818496872001, 0.16057937889727636, 0.1101439532860915, 0.1101439532860915, 0.16057937889727636, 0.05667818496872001, 0.16057937889727636, 0.16057937889727636, 0.1101439532860915, 0.05667818496872001, 0.05667818496872001]\n",
            "Media de falhas:  [0, 0.01649136718820338, 2.3460453853751284, 3.611159196703527, 4.90606041353076, 7.923284615089656, 10.025766867876548, 12.921848858046248, 13.441604072824965, 16.3698799931777, 21.862972443492843, 26.350537516229327, 20.091796565433256]\n",
            "Custo =  4311.661360301766\n"
          ]
        },
        {
          "output_type": "stream",
          "name": "stderr",
          "text": [
            "\rpyswarms.single.global_best: 100%|██████████|1/1, best_cost=1.87e+3\n",
            "2023-10-27 18:01:17,064 - pyswarms.single.global_best - INFO - Optimization finished | best cost: 1871.2408108741981, best pos: [1.55747881 2.40862946 4.29036205 2.33273551 4.63819237 0.6613053\n",
            " 5.4275859  3.74432378 3.0298179  3.48091443 6.50993137 0.33617545\n",
            " 5.18986306 1.73291449 6.44788876 5.7522703  5.05914092 3.82952643\n",
            " 6.4375221  2.56274156 1.70871967 2.11670089 1.7338605  2.84793707]\n",
            "2023-10-27 18:01:17,066 - pyswarms.single.global_best - INFO - Optimize for 1 iters with {'c1': 0.5, 'c2': 0.3, 'w': 0.9}\n",
            "pyswarms.single.global_best:   0%|          |0/1, best_cost=1.87e+3"
          ]
        },
        {
          "output_type": "stream",
          "name": "stdout",
          "text": [
            "\n",
            "=========================================================================\n",
            "\n",
            "Número de ciclos de manutenção: 12 5\n",
            "Tempos para manutenções preventivas: [0, 16, 157, 192, 240, 285, 365, 412, 472, 481, 534, 621, 681]\n",
            "Severidade para cada subsistema: [0.25, 0.75, 0.75, 0.5, 0.5, 0.75, 0.25, 0.75, 0.75, 0.5, 0.25, 0.25]\n",
            "Número de Sisemas: 5\n",
            "Fator:  [0.06508606740734102, 0.05667818496872001, 0.16057937889727636, 0.16057937889727636, 0.1101439532860915, 0.1101439532860915, 0.16057937889727636, 0.05667818496872001, 0.16057937889727636, 0.16057937889727636, 0.1101439532860915, 0.05667818496872001, 0.05667818496872001]\n",
            "Media de falhas:  [0, 0.01649136718820338, 1.5658327556092568, 2.310734491763813, 3.4529096672887354, 4.747810884115967, 7.765035085674864, 9.867517338461756, 12.763599328631456, 13.283354543410173, 16.21163046376291, 21.704722914078047, 26.19228798681453, 19.93354703601846]\n",
            "Custo =  4737.338346312952\n"
          ]
        },
        {
          "output_type": "stream",
          "name": "stderr",
          "text": [
            "\rpyswarms.single.global_best: 100%|██████████|1/1, best_cost=1.87e+3\n",
            "2023-10-27 18:01:17,082 - pyswarms.single.global_best - INFO - Optimization finished | best cost: 1871.2408108741981, best pos: [1.55748045 2.40862696 4.29054103 2.33274024 4.63819176 0.66130541\n",
            " 5.42758815 3.74430687 3.03175147 3.4914679  6.50993069 0.33618795\n",
            " 5.18986216 1.73291542 6.44794585 5.75227797 5.05915723 3.82949643\n",
            " 6.43752244 2.5627534  1.70874274 2.1167015  1.73388008 2.84793481]\n",
            "2023-10-27 18:01:17,084 - pyswarms.single.global_best - INFO - Optimize for 1 iters with {'c1': 0.5, 'c2': 0.3, 'w': 0.9}\n",
            "pyswarms.single.global_best:   0%|          |0/1, best_cost=1.87e+3"
          ]
        },
        {
          "output_type": "stream",
          "name": "stdout",
          "text": [
            "\n",
            "=========================================================================\n",
            "\n",
            "Número de ciclos de manutenção: 13 5\n",
            "Tempos para manutenções preventivas: [0, 16, 192, 239, 240, 285, 336, 365, 412, 472, 481, 534, 621, 681]\n",
            "Severidade para cada subsistema: [0.25, 0.75, 0.5, 0.5, 0.5, 0.75, 0.75, 0.25, 0.75, 0.75, 0.5, 0.25, 0.25]\n",
            "Número de Sisemas: 5\n",
            "Fator:  [0.06508606740734102, 0.05667818496872001, 0.16057937889727636, 0.1101439532860915, 0.1101439532860915, 0.1101439532860915, 0.16057937889727636, 0.16057937889727636, 0.05667818496872001, 0.16057937889727636, 0.16057937889727636, 0.1101439532860915, 0.05667818496872001, 0.05667818496872001]\n",
            "Media de falhas:  [0, 0.01649136718820338, 2.3460453853751284, 3.5817857672110662, 3.6076293040101493, 4.9724538028684755, 6.801026217024276, 7.968772074785367, 9.960224208877769, 12.856306199047468, 13.376061413826186, 16.30433733417892, 21.797429784494064, 26.284994857230547, 20.026253906434476]\n",
            "Custo =  9066.029680880529\n"
          ]
        },
        {
          "output_type": "stream",
          "name": "stderr",
          "text": [
            "\rpyswarms.single.global_best: 100%|██████████|1/1, best_cost=1.87e+3\n",
            "2023-10-27 18:01:17,105 - pyswarms.single.global_best - INFO - Optimization finished | best cost: 1871.2408108741981, best pos: [1.55748186 2.40862214 4.29076433 2.33274441 4.6381909  0.6613054\n",
            " 5.42759002 3.74430148 3.03316516 3.50028901 6.50992998 0.33619756\n",
            " 5.18986264 1.73291624 6.44799794 5.75228457 5.05917267 3.82942601\n",
            " 6.43752268 2.56277203 1.70875802 2.11670192 1.73391671 2.84793538]\n",
            "2023-10-27 18:01:17,107 - pyswarms.single.global_best - INFO - Optimize for 1 iters with {'c1': 0.5, 'c2': 0.3, 'w': 0.9}\n",
            "pyswarms.single.global_best: 100%|██████████|1/1, best_cost=1.87e+3\n",
            "2023-10-27 18:01:17,119 - pyswarms.single.global_best - INFO - Optimization finished | best cost: 1871.2408108741981, best pos: [1.55748295 2.40861614 4.29096541 2.33274717 4.63819003 0.66130518\n",
            " 5.42759137 3.7443073  3.03433129 3.50576753 6.50992934 0.33619381\n",
            " 5.18986441 1.73291601 6.44803847 5.75228893 5.05918623 3.82933944\n",
            " 6.43752278 2.5628104  1.70875967 2.11670162 1.73395686 2.84793765]\n",
            "2023-10-27 18:01:17,121 - pyswarms.single.global_best - INFO - Optimize for 1 iters with {'c1': 0.5, 'c2': 0.3, 'w': 0.9}\n"
          ]
        },
        {
          "output_type": "stream",
          "name": "stdout",
          "text": [
            "\n",
            "=========================================================================\n",
            "\n",
            "Número de ciclos de manutenção: 13 5\n",
            "Tempos para manutenções preventivas: [0, 16, 157, 192, 236, 240, 284, 365, 412, 472, 481, 534, 621, 681]\n",
            "Severidade para cada subsistema: [0.25, 0.5, 0.75, 0.5, 0.5, 0.5, 0.75, 0.25, 0.75, 0.75, 0.5, 0.25, 0.25]\n",
            "Número de Sisemas: 5\n",
            "Fator:  [0.06508606740734102, 0.05667818496872001, 0.1101439532860915, 0.16057937889727636, 0.1101439532860915, 0.1101439532860915, 0.1101439532860915, 0.16057937889727636, 0.05667818496872001, 0.16057937889727636, 0.16057937889727636, 0.1101439532860915, 0.05667818496872001, 0.05667818496872001]\n",
            "Media de falhas:  [0, 0.01649136718820338, 1.5658327556092568, 2.310734491763813, 3.4011353180843678, 3.503986546337873, 4.835657619718567, 7.886544073656632, 9.989026326443524, 12.885108316613223, 13.40486353139194, 16.333139451744678, 21.826231902059817, 26.3137969747963, 20.05505602400023]\n",
            "Custo =  5800.900702540444\n"
          ]
        },
        {
          "output_type": "stream",
          "name": "stderr",
          "text": [
            "pyswarms.single.global_best:   0%|          |0/1, best_cost=1.87e+3"
          ]
        },
        {
          "output_type": "stream",
          "name": "stdout",
          "text": [
            "\n",
            "=========================================================================\n",
            "\n",
            "Número de ciclos de manutenção: 12 5\n",
            "Tempos para manutenções preventivas: [0, 16, 192, 232, 240, 284, 365, 412, 472, 481, 534, 621, 681]\n",
            "Severidade para cada subsistema: [0.25, 0.75, 0.5, 0.5, 0.5, 0.75, 0.25, 0.75, 0.75, 0.5, 0.25, 0.25]\n",
            "Número de Sisemas: 5\n",
            "Fator:  [0.06508606740734102, 0.05667818496872001, 0.16057937889727636, 0.1101439532860915, 0.1101439532860915, 0.1101439532860915, 0.16057937889727636, 0.05667818496872001, 0.16057937889727636, 0.16057937889727636, 0.1101439532860915, 0.05667818496872001, 0.05667818496872001]\n",
            "Media de falhas:  [0, 0.01649136718820338, 2.3460453853751284, 3.3797661594543253, 3.5840741528639244, 4.915745226244618, 7.966631680182683, 10.069113932969575, 12.965195923139275, 13.484951137917992, 16.413227058270728, 21.906319508585867, 26.39388458132235, 20.13514363052628]\n",
            "Custo =  4934.354825967586\n"
          ]
        },
        {
          "output_type": "stream",
          "name": "stderr",
          "text": [
            "\rpyswarms.single.global_best: 100%|██████████|1/1, best_cost=1.87e+3\n",
            "2023-10-27 18:01:17,138 - pyswarms.single.global_best - INFO - Optimization finished | best cost: 1871.2408108741981, best pos: [1.55748319 2.40861069 4.29114192 2.33274953 4.63818926 0.66130481\n",
            " 5.4275914  3.74431958 3.03449419 3.50969112 6.5099288  0.3361787\n",
            " 5.18986776 1.73291558 6.44806381 5.75229199 5.05919337 3.82925154\n",
            " 6.43752284 2.56285757 1.70874205 2.11670067 1.7339927  2.84794189]\n",
            "2023-10-27 18:01:17,139 - pyswarms.single.global_best - INFO - Optimize for 1 iters with {'c1': 0.5, 'c2': 0.3, 'w': 0.9}\n",
            "pyswarms.single.global_best: 100%|██████████|1/1, best_cost=1.87e+3\n",
            "2023-10-27 18:01:17,151 - pyswarms.single.global_best - INFO - Optimization finished | best cost: 1871.2408108741981, best pos: [1.55748328 2.40860666 4.29127597 2.33274941 4.63818857 0.66130441\n",
            " 5.42759063 3.74433637 3.03446255 3.50853243 6.50992867 0.33616007\n",
            " 5.18987092 1.73291422 6.44807482 5.75229    5.05919409 3.82918066\n",
            " 6.43752288 2.56290491 1.70871404 2.11669927 1.73401826 2.84794648]\n",
            "2023-10-27 18:01:17,152 - pyswarms.single.global_best - INFO - Optimize for 1 iters with {'c1': 0.5, 'c2': 0.3, 'w': 0.9}\n"
          ]
        },
        {
          "output_type": "stream",
          "name": "stdout",
          "text": [
            "\n",
            "=========================================================================\n",
            "\n",
            "Número de ciclos de manutenção: 14 5\n",
            "Tempos para manutenções preventivas: [0, 16, 167, 192, 229, 240, 284, 344, 365, 412, 472, 481, 534, 621, 681]\n",
            "Severidade para cada subsistema: [0.25, 0.25, 0.75, 0.5, 0.5, 0.5, 0.75, 0.75, 0.25, 0.75, 0.75, 0.5, 0.25, 0.25]\n",
            "Número de Sisemas: 5\n",
            "Fator:  [0.06508606740734102, 0.05667818496872001, 0.05667818496872001, 0.16057937889727636, 0.1101439532860915, 0.1101439532860915, 0.1101439532860915, 0.16057937889727636, 0.16057937889727636, 0.05667818496872001, 0.16057937889727636, 0.16057937889727636, 0.1101439532860915, 0.05667818496872001, 0.05667818496872001]\n",
            "Media de falhas:  [0, 0.01649136718820338, 1.7727002833311518, 2.3190045640825323, 3.2680711045929036, 3.547556542347615, 4.8792276157283085, 7.058289382144311, 7.912303924086924, 9.903756058179326, 12.799838048349025, 13.319593263127743, 16.24786918348048, 21.74096163379562, 26.228526706532104, 19.969785755736034]\n",
            "Custo =  6081.965873888787\n"
          ]
        },
        {
          "output_type": "stream",
          "name": "stderr",
          "text": [
            "pyswarms.single.global_best: 100%|██████████|1/1, best_cost=1.87e+3\n",
            "2023-10-27 18:01:17,166 - pyswarms.single.global_best - INFO - Optimization finished | best cost: 1871.2408108741981, best pos: [1.5574824  2.40860465 4.29133066 2.33274927 4.63818805 0.66130407\n",
            " 5.42758964 3.74435223 3.0336889  3.50711723 6.50992859 0.33614292\n",
            " 5.18987382 1.73291246 6.4480587  5.75228501 5.05919015 3.82912782\n",
            " 6.4375229  2.56294727 1.7086835  2.1166977  1.73402491 2.84795055]\n",
            "2023-10-27 18:01:17,167 - pyswarms.single.global_best - INFO - Optimize for 1 iters with {'c1': 0.5, 'c2': 0.3, 'w': 0.9}\n"
          ]
        },
        {
          "output_type": "stream",
          "name": "stdout",
          "text": [
            "\n",
            "=========================================================================\n",
            "\n",
            "Número de ciclos de manutenção: 13 5\n",
            "Tempos para manutenções preventivas: [0, 16, 192, 226, 240, 283, 342, 365, 412, 472, 481, 534, 621, 682]\n",
            "Severidade para cada subsistema: [0.25, 0.75, 0.5, 0.5, 0.5, 0.25, 0.75, 0.25, 0.75, 0.75, 0.5, 0.25, 0.25]\n",
            "Número de Sisemas: 5\n",
            "Fator:  [0.06508606740734102, 0.05667818496872001, 0.16057937889727636, 0.1101439532860915, 0.1101439532860915, 0.1101439532860915, 0.05667818496872001, 0.16057937889727636, 0.05667818496872001, 0.16057937889727636, 0.16057937889727636, 0.1101439532860915, 0.05667818496872001, 0.05667818496872001]\n",
            "Media de falhas:  [0, 0.01649136718820338, 2.3460453853751284, 3.2116130711945914, 3.5654915461886056, 4.8641375508272615, 6.996357111570261, 7.929404885195733, 10.149582728964752, 13.045664719134452, 13.56541993391317, 16.493695854265905, 21.986788304581047, 26.553058151461514, 20.212386290618383]\n",
            "Custo =  5310.897103937214\n"
          ]
        },
        {
          "output_type": "stream",
          "name": "stderr",
          "text": [
            "pyswarms.single.global_best: 100%|██████████|1/1, best_cost=1.87e+3\n",
            "2023-10-27 18:01:17,183 - pyswarms.single.global_best - INFO - Optimization finished | best cost: 1871.2408108741981, best pos: [1.55748148 2.40860437 4.2913195  2.3327469  4.63818824 0.66130391\n",
            " 5.42758839 3.74436621 3.03221982 3.50204146 6.50992879 0.33613008\n",
            " 5.18987638 1.73291066 6.44803115 5.75227935 5.05918591 3.82909163\n",
            " 6.43752276 2.56297718 1.70865197 2.11669632 1.73403063 2.84795312]\n",
            "2023-10-27 18:01:17,184 - pyswarms.single.global_best - INFO - Optimize for 1 iters with {'c1': 0.5, 'c2': 0.3, 'w': 0.9}\n"
          ]
        },
        {
          "output_type": "stream",
          "name": "stdout",
          "text": [
            "\n",
            "=========================================================================\n",
            "\n",
            "Número de ciclos de manutenção: 12 5\n",
            "Tempos para manutenções preventivas: [0, 16, 192, 225, 240, 283, 365, 411, 472, 481, 534, 621, 682]\n",
            "Severidade para cada subsistema: [0.25, 0.75, 0.5, 0.5, 0.5, 0.75, 0.25, 0.75, 0.75, 0.5, 0.25, 0.25]\n",
            "Número de Sisemas: 5\n",
            "Fator:  [0.06508606740734102, 0.05667818496872001, 0.16057937889727636, 0.1101439532860915, 0.1101439532860915, 0.1101439532860915, 0.16057937889727636, 0.05667818496872001, 0.16057937889727636, 0.16057937889727636, 0.1101439532860915, 0.05667818496872001, 0.05667818496872001]\n",
            "Media de falhas:  [0, 0.01649136718820338, 2.3460453853751284, 3.1840368729099597, 3.5625387126607406, 4.8611847172993965, 7.9456333402730435, 10.000430557391848, 12.942123782343714, 13.461878997122431, 16.39015491747517, 21.88324736779031, 26.449517214670777, 20.108845353827647]\n",
            "Custo =  4716.520846362301\n"
          ]
        },
        {
          "output_type": "stream",
          "name": "stderr",
          "text": [
            "pyswarms.single.global_best: 100%|██████████|1/1, best_cost=1.87e+3\n",
            "2023-10-27 18:01:17,197 - pyswarms.single.global_best - INFO - Optimization finished | best cost: 1871.2408108741981, best pos: [1.55748028 2.40860481 4.29129587 2.33274309 4.63818861 0.66130378\n",
            " 5.427587   3.74437222 3.0303933  3.49574051 6.50992923 0.33612329\n",
            " 5.18987859 1.73290887 6.44800204 5.75227394 5.05918062 3.82908062\n",
            " 6.43752251 2.56299916 1.70862737 2.11669555 1.73402902 2.84795539]\n",
            "2023-10-27 18:01:17,199 - pyswarms.single.global_best - INFO - Optimize for 1 iters with {'c1': 0.5, 'c2': 0.3, 'w': 0.9}\n"
          ]
        },
        {
          "output_type": "stream",
          "name": "stdout",
          "text": [
            "\n",
            "=========================================================================\n",
            "\n",
            "Número de ciclos de manutenção: 12 5\n",
            "Tempos para manutenções preventivas: [0, 16, 192, 225, 240, 284, 365, 411, 472, 481, 534, 621, 682]\n",
            "Severidade para cada subsistema: [0.25, 0.75, 0.5, 0.5, 0.5, 0.75, 0.25, 0.75, 0.75, 0.5, 0.25, 0.25]\n",
            "Número de Sisemas: 5\n",
            "Fator:  [0.06508606740734102, 0.05667818496872001, 0.16057937889727636, 0.1101439532860915, 0.1101439532860915, 0.1101439532860915, 0.16057937889727636, 0.05667818496872001, 0.16057937889727636, 0.16057937889727636, 0.1101439532860915, 0.05667818496872001, 0.05667818496872001]\n",
            "Media de falhas:  [0, 0.01649136718820338, 2.3460453853751284, 3.1840368729099597, 3.5625387126607406, 4.894209786041434, 7.945096239979499, 9.999893457098304, 12.941586682050168, 13.461341896828886, 16.389617817181623, 21.882710267496762, 26.44898011437723, 20.108308253534098]\n",
            "Custo =  4716.670244376647\n"
          ]
        },
        {
          "output_type": "stream",
          "name": "stderr",
          "text": [
            "pyswarms.single.global_best:   0%|          |0/1, best_cost=1.87e+3"
          ]
        },
        {
          "output_type": "stream",
          "name": "stdout",
          "text": [
            "\n",
            "=========================================================================\n",
            "\n",
            "Número de ciclos de manutenção: 12 5\n",
            "Tempos para manutenções preventivas: [0, 16, 192, 227, 240, 284, 365, 411, 472, 481, 534, 621, 682]\n",
            "Severidade para cada subsistema: [0.25, 0.75, 0.5, 0.5, 0.5, 0.75, 0.25, 0.75, 0.75, 0.5, 0.25, 0.25]\n",
            "Número de Sisemas: 5\n",
            "Fator:  [0.06508606740734102, 0.05667818496872001, 0.16057937889727636, 0.1101439532860915, 0.1101439532860915, 0.1101439532860915, 0.16057937889727636, 0.05667818496872001, 0.16057937889727636, 0.16057937889727636, 0.1101439532860915, 0.05667818496872001, 0.05667818496872001]\n",
            "Media de falhas:  [0, 0.01649136718820338, 2.3460453853751284, 3.2393176464660396, 3.568485599307254, 4.900156672687947, 7.951043126626012, 10.005840343744817, 12.94753356869668, 13.467288783475398, 16.395564703828136, 21.888657154143274, 26.45492700102374, 20.11425514018061]\n",
            "Custo =  4751.631634218998\n"
          ]
        },
        {
          "output_type": "stream",
          "name": "stderr",
          "text": [
            "\rpyswarms.single.global_best: 100%|██████████|1/1, best_cost=1.87e+3\n",
            "2023-10-27 18:01:17,216 - pyswarms.single.global_best - INFO - Optimization finished | best cost: 1871.2408108741981, best pos: [1.55747895 2.40860741 4.29116513 2.33273912 4.63818921 0.66130384\n",
            " 5.42758585 3.74437611 3.02875639 3.48878765 6.50992969 0.33611898\n",
            " 5.18987975 1.73290727 6.44797216 5.75226932 5.05917314 3.82909025\n",
            " 6.43752221 2.56300104 1.70861247 2.11669561 1.73402341 2.84795559]\n",
            "2023-10-27 18:01:17,217 - pyswarms.single.global_best - INFO - Optimize for 1 iters with {'c1': 0.5, 'c2': 0.3, 'w': 0.9}\n",
            "pyswarms.single.global_best: 100%|██████████|1/1, best_cost=1.87e+3"
          ]
        },
        {
          "output_type": "stream",
          "name": "stdout",
          "text": [
            "\n",
            "=========================================================================\n",
            "\n",
            "Número de ciclos de manutenção: 12 5\n",
            "Tempos para manutenções preventivas: [0, 16, 192, 229, 241, 284, 365, 411, 472, 481, 534, 621, 682]\n",
            "Severidade para cada subsistema: [0.25, 0.75, 0.5, 0.5, 0.5, 0.75, 0.25, 0.75, 0.75, 0.5, 0.25, 0.25]\n",
            "Número de Sisemas: 5\n",
            "Fator:  [0.06508606740734102, 0.05667818496872001, 0.16057937889727636, 0.1101439532860915, 0.1101439532860915, 0.1101439532860915, 0.16057937889727636, 0.05667818496872001, 0.16057937889727636, 0.16057937889727636, 0.1101439532860915, 0.05667818496872001, 0.05667818496872001]\n",
            "Media de falhas:  [0, 0.01649136718820338, 2.3460453853751284, 3.2951119258854997, 3.600775442219394, 4.90433325576451, 7.955219709702575, 10.01001692682138, 12.951710151773245, 13.471465366551962, 16.3997412869047, 21.89283373721984, 26.459103584100305, 20.118431723257174]\n",
            "Custo =  4774.528325376786\n"
          ]
        },
        {
          "output_type": "stream",
          "name": "stderr",
          "text": [
            "\n",
            "2023-10-27 18:01:17,229 - pyswarms.single.global_best - INFO - Optimization finished | best cost: 1871.2408108741981, best pos: [1.55747775 2.40861037 4.29101391 2.33273557 4.63818995 0.661304\n",
            " 5.42758487 3.74437299 3.02773768 3.48260109 6.50993011 0.33611847\n",
            " 5.18987866 1.7329064  6.4479451  5.75226534 5.05916472 3.82914184\n",
            " 6.43752195 2.56300207 1.70861358 2.11669628 1.73401718 2.84795283]\n",
            "2023-10-27 18:01:17,231 - pyswarms.single.global_best - INFO - Optimize for 1 iters with {'c1': 0.5, 'c2': 0.3, 'w': 0.9}\n",
            "pyswarms.single.global_best:   0%|          |0/1, best_cost=1.87e+3"
          ]
        },
        {
          "output_type": "stream",
          "name": "stdout",
          "text": [
            "\n",
            "=========================================================================\n",
            "\n",
            "Número de ciclos de manutenção: 13 5\n",
            "Tempos para manutenções preventivas: [0, 16, 192, 231, 241, 284, 353, 365, 411, 472, 481, 534, 621, 682]\n",
            "Severidade para cada subsistema: [0.25, 0.75, 0.5, 0.5, 0.5, 0.5, 0.75, 0.25, 0.75, 0.75, 0.5, 0.25, 0.25]\n",
            "Número de Sisemas: 5\n",
            "Fator:  [0.06508606740734102, 0.05667818496872001, 0.16057937889727636, 0.1101439532860915, 0.1101439532860915, 0.1101439532860915, 0.1101439532860915, 0.16057937889727636, 0.05667818496872001, 0.16057937889727636, 0.16057937889727636, 0.1101439532860915, 0.05667818496872001, 0.05667818496872001]\n",
            "Media de falhas:  [0, 0.01649136718820338, 2.3460453853751284, 3.3514197070245357, 3.6070108515070514, 4.910568665052168, 7.456339688138398, 7.949751437776715, 10.00454865489552, 12.946241879847385, 13.465997094626102, 16.39427301497884, 21.887365465293982, 26.45363531217445, 20.112963451331318]\n",
            "Custo =  5907.72645137038\n"
          ]
        },
        {
          "output_type": "stream",
          "name": "stderr",
          "text": [
            "\rpyswarms.single.global_best: 100%|██████████|1/1, best_cost=1.87e+3\n",
            "2023-10-27 18:01:17,248 - pyswarms.single.global_best - INFO - Optimization finished | best cost: 1871.2408108741981, best pos: [1.55747683 2.40861368 4.29083725 2.33273363 4.63819066 0.66130414\n",
            " 5.42758447 3.74436708 3.02706214 3.47820062 6.5099305  0.33611817\n",
            " 5.18987702 1.73290587 6.44792358 5.75226239 5.05915652 3.829204\n",
            " 6.43752174 2.56298627 1.70862734 2.11669738 1.73399935 2.84794847]\n",
            "2023-10-27 18:01:17,249 - pyswarms.single.global_best - INFO - Optimize for 1 iters with {'c1': 0.5, 'c2': 0.3, 'w': 0.9}\n",
            "pyswarms.single.global_best: 100%|██████████|1/1, best_cost=1.87e+3\n",
            "2023-10-27 18:01:17,261 - pyswarms.single.global_best - INFO - Optimization finished | best cost: 1871.2408108741981, best pos: [1.5574762  2.40861687 4.29067648 2.33273306 4.63819127 0.66130438\n",
            " 5.42758495 3.74435866 3.02657224 3.47598988 6.50993081 0.3361282\n",
            " 5.18987446 1.73290649 6.44791263 5.75226337 5.05915024 3.82928322\n",
            " 6.43752156 2.56295253 1.70864492 2.11669852 1.73397998 2.84794416]\n",
            "2023-10-27 18:01:17,262 - pyswarms.single.global_best - INFO - Optimize for 1 iters with {'c1': 0.5, 'c2': 0.3, 'w': 0.9}\n"
          ]
        },
        {
          "output_type": "stream",
          "name": "stdout",
          "text": [
            "\n",
            "=========================================================================\n",
            "\n",
            "Número de ciclos de manutenção: 13 5\n",
            "Tempos para manutenções preventivas: [0, 16, 173, 192, 233, 241, 285, 365, 411, 472, 481, 534, 621, 682]\n",
            "Severidade para cada subsistema: [0.25, 0.25, 0.75, 0.5, 0.5, 0.5, 0.75, 0.25, 0.75, 0.75, 0.5, 0.25, 0.25]\n",
            "Número de Sisemas: 5\n",
            "Fator:  [0.06508606740734102, 0.05667818496872001, 0.05667818496872001, 0.16057937889727636, 0.1101439532860915, 0.1101439532860915, 0.1101439532860915, 0.16057937889727636, 0.05667818496872001, 0.16057937889727636, 0.16057937889727636, 0.1101439532860915, 0.05667818496872001, 0.05667818496872001]\n",
            "Media de falhas:  [0, 0.01649136718820338, 1.9029843406447724, 2.324665032232431, 3.3868606326345008, 3.592030782605688, 4.928727883931531, 7.945952085490427, 10.000749302609233, 12.942442527561099, 13.462197742339816, 16.390473662692553, 21.883566113007696, 26.449835959888162, 20.10916409904503]\n",
            "Custo =  5592.596681441276\n"
          ]
        },
        {
          "output_type": "stream",
          "name": "stderr",
          "text": [
            "pyswarms.single.global_best: 100%|██████████|1/1, best_cost=1.87e+3"
          ]
        },
        {
          "output_type": "stream",
          "name": "stdout",
          "text": [
            "\n",
            "=========================================================================\n",
            "\n",
            "Número de ciclos de manutenção: 12 5\n",
            "Tempos para manutenções preventivas: [0, 16, 192, 235, 241, 285, 365, 411, 472, 481, 534, 621, 682]\n",
            "Severidade para cada subsistema: [0.25, 0.75, 0.5, 0.5, 0.5, 0.75, 0.25, 0.75, 0.75, 0.5, 0.25, 0.25]\n",
            "Número de Sisemas: 5\n",
            "Fator:  [0.06508606740734102, 0.05667818496872001, 0.16057937889727636, 0.1101439532860915, 0.1101439532860915, 0.1101439532860915, 0.16057937889727636, 0.05667818496872001, 0.16057937889727636, 0.16057937889727636, 0.1101439532860915, 0.05667818496872001, 0.05667818496872001]\n",
            "Media de falhas:  [0, 0.01649136718820338, 2.3460453853751284, 3.465575758074712, 3.6199762936256965, 4.956673394951539, 7.973897596510437, 10.028694813629242, 12.970388038581106, 13.490143253359824, 16.41841917371256, 21.911511624027703, 26.47778147090817, 20.13710961006504]\n",
            "Custo =  5095.557794009029\n"
          ]
        },
        {
          "output_type": "stream",
          "name": "stderr",
          "text": [
            "\n",
            "2023-10-27 18:01:17,280 - pyswarms.single.global_best - INFO - Optimization finished | best cost: 1871.2408108741981, best pos: [1.55747576 2.40861971 4.29056747 2.33273433 4.63819151 0.6613046\n",
            " 5.42758581 3.74434825 3.02645819 3.47584956 6.50993103 0.33614084\n",
            " 5.18987171 1.73290781 6.44791145 5.75226739 5.05914691 3.82935504\n",
            " 6.43752146 2.56291491 1.70866591 2.11669951 1.73395761 2.84794041]\n",
            "2023-10-27 18:01:17,281 - pyswarms.single.global_best - INFO - Optimize for 1 iters with {'c1': 0.5, 'c2': 0.3, 'w': 0.9}\n",
            "pyswarms.single.global_best: 100%|██████████|1/1, best_cost=1.87e+3\n",
            "2023-10-27 18:01:17,292 - pyswarms.single.global_best - INFO - Optimization finished | best cost: 1871.2408108741981, best pos: [1.55747614 2.40862183 4.29049032 2.3327363  4.63819146 0.66130478\n",
            " 5.42758688 3.74433877 3.0267364  3.47921658 6.50993117 0.33615469\n",
            " 5.18986925 1.73290909 6.44791461 5.7522714  5.05914568 3.82940867\n",
            " 6.43752156 2.56287972 1.70868562 2.11670003 1.7339373  2.84793782]\n",
            "2023-10-27 18:01:17,294 - pyswarms.single.global_best - INFO - Optimize for 1 iters with {'c1': 0.5, 'c2': 0.3, 'w': 0.9}\n"
          ]
        },
        {
          "output_type": "stream",
          "name": "stdout",
          "text": [
            "\n",
            "=========================================================================\n",
            "\n",
            "Número de ciclos de manutenção: 12 5\n",
            "Tempos para manutenções preventivas: [0, 16, 192, 236, 241, 285, 365, 411, 472, 481, 534, 621, 681]\n",
            "Severidade para cada subsistema: [0.25, 0.75, 0.5, 0.5, 0.5, 0.75, 0.25, 0.75, 0.75, 0.5, 0.25, 0.25]\n",
            "Número de Sisemas: 5\n",
            "Fator:  [0.06508606740734102, 0.05667818496872001, 0.16057937889727636, 0.1101439532860915, 0.1101439532860915, 0.1101439532860915, 0.16057937889727636, 0.05667818496872001, 0.16057937889727636, 0.16057937889727636, 0.1101439532860915, 0.05667818496872001, 0.05667818496872001]\n",
            "Media de falhas:  [0, 0.01649136718820338, 2.3460453853751284, 3.4944357030412956, 3.623320699769665, 4.960017801095508, 7.977242002654405, 10.03203921977321, 12.973732444725076, 13.493487659503794, 16.42176357985653, 21.91485603017167, 26.402421102908153, 20.143680152112083]\n",
            "Custo =  5226.9693976780945\n"
          ]
        },
        {
          "output_type": "stream",
          "name": "stderr",
          "text": [
            "pyswarms.single.global_best:   0%|          |0/1, best_cost=1.87e+3"
          ]
        },
        {
          "output_type": "stream",
          "name": "stdout",
          "text": [
            "\n",
            "=========================================================================\n",
            "\n",
            "Número de ciclos de manutenção: 12 5\n",
            "Tempos para manutenções preventivas: [0, 16, 192, 236, 240, 285, 365, 412, 472, 481, 534, 621, 681]\n",
            "Severidade para cada subsistema: [0.25, 0.75, 0.5, 0.5, 0.5, 0.75, 0.25, 0.75, 0.75, 0.5, 0.25, 0.25]\n",
            "Número de Sisemas: 5\n",
            "Fator:  [0.06508606740734102, 0.05667818496872001, 0.16057937889727636, 0.1101439532860915, 0.1101439532860915, 0.1101439532860915, 0.16057937889727636, 0.05667818496872001, 0.16057937889727636, 0.16057937889727636, 0.1101439532860915, 0.05667818496872001, 0.05667818496872001]\n",
            "Media de falhas:  [0, 0.01649136718820338, 2.3460453853751284, 3.4944357030412956, 3.597286931294801, 4.962111430153127, 7.979335631712024, 10.081817884498916, 12.977899874668616, 13.497655089447333, 16.42593100980007, 21.919023460115213, 26.406588532851696, 20.147847582055626]\n",
            "Custo =  5427.276717822038\n"
          ]
        },
        {
          "output_type": "stream",
          "name": "stderr",
          "text": [
            "\rpyswarms.single.global_best: 100%|██████████|1/1, best_cost=1.87e+3\n",
            "2023-10-27 18:01:17,311 - pyswarms.single.global_best - INFO - Optimization finished | best cost: 1871.2408108741981, best pos: [1.55747673 2.4086232  4.2904448  2.33273896 4.63819127 0.66130489\n",
            " 5.42758785 3.74433025 3.02811282 3.48278452 6.50993126 0.3361666\n",
            " 5.18986705 1.73291039 6.4479234  5.75227515 5.0591487  3.82943403\n",
            " 6.43752179 2.56285297 1.70869911 2.11670049 1.73392252 2.84793715]\n",
            "2023-10-27 18:01:17,312 - pyswarms.single.global_best - INFO - Optimize for 1 iters with {'c1': 0.5, 'c2': 0.3, 'w': 0.9}\n",
            "pyswarms.single.global_best:   0%|          |0/1, best_cost=1.87e+3"
          ]
        },
        {
          "output_type": "stream",
          "name": "stdout",
          "text": [
            "\n",
            "=========================================================================\n",
            "\n",
            "Número de ciclos de manutenção: 13 5\n",
            "Tempos para manutenções preventivas: [0, 16, 172, 192, 236, 240, 285, 365, 412, 472, 481, 534, 621, 681]\n",
            "Severidade para cada subsistema: [0.25, 0.75, 0.75, 0.5, 0.5, 0.5, 0.75, 0.25, 0.75, 0.75, 0.5, 0.25, 0.25]\n",
            "Número de Sisemas: 5\n",
            "Fator:  [0.06508606740734102, 0.05667818496872001, 0.16057937889727636, 0.16057937889727636, 0.1101439532860915, 0.1101439532860915, 0.1101439532860915, 0.16057937889727636, 0.05667818496872001, 0.16057937889727636, 0.16057937889727636, 0.1101439532860915, 0.05667818496872001, 0.05667818496872001]\n",
            "Media de falhas:  [0, 0.01649136718820338, 1.8809493218108921, 2.323685245561826, 3.359380831648437, 3.4622320599019423, 4.827056558760268, 7.844280760319165, 9.946763013106057, 12.842845003275757, 13.362600218054475, 16.29087613840721, 21.783968588722352, 26.271533661458836, 20.012792710662765]\n",
            "Custo =  6109.182390432188\n"
          ]
        },
        {
          "output_type": "stream",
          "name": "stderr",
          "text": [
            "\rpyswarms.single.global_best: 100%|██████████|1/1, best_cost=1.87e+3\n",
            "2023-10-27 18:01:17,331 - pyswarms.single.global_best - INFO - Optimization finished | best cost: 1871.2408108741981, best pos: [1.55747742 2.40862242 4.29046701 2.33274143 4.63819083 0.66130493\n",
            " 5.42758866 3.74432469 3.02952731 3.48740953 6.50993124 0.33617623\n",
            " 5.18986644 1.73291152 6.44793654 5.75227853 5.05915458 3.82942589\n",
            " 6.43752211 2.56283897 1.70870317 2.11670039 1.7339107  2.84793861]\n",
            "2023-10-27 18:01:17,333 - pyswarms.single.global_best - INFO - Optimize for 1 iters with {'c1': 0.5, 'c2': 0.3, 'w': 0.9}\n",
            "pyswarms.single.global_best:   0%|          |0/1, best_cost=1.87e+3"
          ]
        },
        {
          "output_type": "stream",
          "name": "stdout",
          "text": [
            "\n",
            "=========================================================================\n",
            "\n",
            "Número de ciclos de manutenção: 13 5\n",
            "Tempos para manutenções preventivas: [0, 16, 174, 192, 235, 240, 284, 365, 412, 472, 481, 534, 621, 681]\n",
            "Severidade para cada subsistema: [0.25, 0.25, 0.75, 0.5, 0.5, 0.5, 0.75, 0.25, 0.75, 0.75, 0.5, 0.25, 0.25]\n",
            "Número de Sisemas: 5\n",
            "Fator:  [0.06508606740734102, 0.05667818496872001, 0.05667818496872001, 0.16057937889727636, 0.1101439532860915, 0.1101439532860915, 0.1101439532860915, 0.16057937889727636, 0.05667818496872001, 0.16057937889727636, 0.16057937889727636, 0.1101439532860915, 0.05667818496872001, 0.05667818496872001]\n",
            "Media de falhas:  [0, 0.01649136718820338, 1.925147761651486, 2.325659368850353, 3.4451897415499366, 3.573535892854017, 4.905206966234711, 7.956093420172776, 10.058575672959668, 12.954657663129368, 13.474412877908085, 16.402688798260822, 21.895781248575965, 26.383346321312448, 20.124605370516377]\n",
            "Custo =  5924.192950219138\n"
          ]
        },
        {
          "output_type": "stream",
          "name": "stderr",
          "text": [
            "\rpyswarms.single.global_best: 100%|██████████|1/1, best_cost=1.87e+3\n",
            "2023-10-27 18:01:17,355 - pyswarms.single.global_best - INFO - Optimization finished | best cost: 1871.2408108741981, best pos: [1.55747808 2.40862132 4.2905678  2.33274342 4.63819026 0.66130493\n",
            " 5.42758937 3.74431981 3.03081821 3.49203582 6.50993105 0.33618199\n",
            " 5.18986638 1.73291218 6.44795448 5.75228148 5.05916035 3.82938752\n",
            " 6.43752243 2.56283889 1.7087     2.11670013 1.73390726 2.84794019]\n"
          ]
        }
      ]
    },
    {
      "cell_type": "code",
      "source": [
        "print('lamb:', lamb)\n",
        "print('beta:', beta)\n",
        "print('theta:', theta)"
      ],
      "metadata": {
        "id": "eoLCwdJ9Rkp0",
        "outputId": "1cd80b2f-e99e-4ef6-c0bf-fe4aea03929d",
        "colab": {
          "base_uri": "https://localhost:8080/"
        }
      },
      "execution_count": 50,
      "outputs": [
        {
          "output_type": "stream",
          "name": "stdout",
          "text": [
            "lamb: 123.09135067702765\n",
            "beta: 9.996950440392977\n",
            "theta: 0.336504023167073\n"
          ]
        }
      ]
    },
    {
      "cell_type": "code",
      "source": [
        "# Plotar gráfico de densidade da otimização\n",
        "# Seu histórico de custos\n",
        "cost_history = optimizer.cost_history\n",
        "\n",
        "# Escalando os valores por uma constante (dividindo por 100 milhões)\n",
        "scaled_history = [cost / 1.000 for cost in cost_history]\n",
        "\n",
        "# Custo ótimo (substitua pbest_cost[0] por best_cost)\n",
        "optimal_cost = best_cost\n",
        "\n",
        "# Calcule o tempo total de convergência\n",
        "convergence_time_second_stage = end_time_second_stage - start_time_second_stage\n",
        "\n",
        "# Plotagem do gráfico de histórico de custos\n",
        "plt.plot(scaled_history)\n",
        "plt.xlabel('Iteration')\n",
        "plt.xlim(0, max_iterations)\n",
        "plt.ylabel('Objective function')\n",
        "plt.title('Particle Swarm Optimization (PSO) - Cost History')\n",
        "\n",
        "# Adicionar uma linha horizontal no custo ótimo\n",
        "plt.axhline(optimal_cost / 1.000, color='red', linestyle='--', label='Best Cost')\n",
        "\n",
        "# Mostrar a legenda\n",
        "plt.legend()\n",
        "plt.show()\n",
        "\n",
        "print(\"                              \")\n",
        "print(\"*************************************************************************\")\n",
        "print(\"Número total de iterações:\", max_iterations)\n",
        "print(\"Número de Particulas:\", num_particles)\n",
        "print(\"Número de Dimensões:\", dimensions)\n",
        "print(\"Melhor Custo:\", best_cost)\n",
        "print(\"Tempo de Convergência para a segunda etapa:\", convergence_time_second_stage, \"segundos\")"
      ],
      "metadata": {
        "id": "ULlt81ZI1vn9",
        "outputId": "c70ddafc-e85e-4ac0-eb31-c41d91e1d3b4",
        "colab": {
          "base_uri": "https://localhost:8080/",
          "height": 594
        }
      },
      "execution_count": 51,
      "outputs": [
        {
          "output_type": "display_data",
          "data": {
            "text/plain": [
              "<Figure size 640x480 with 1 Axes>"
            ],
            "image/png": "[encoded data removed]"
          },
          "metadata": {}
        },
        {
          "output_type": "stream",
          "name": "stdout",
          "text": [
            "                              \n",
            "*************************************************************************\n",
            "Número total de iterações: 100\n",
            "Número de Particulas: 100\n",
            "Número de Dimensões: 24\n",
            "Melhor Custo: 142014680.30857912\n",
            "Tempo de Convergência: 1.638117790222168 segundos\n"
          ]
        }
      ]
    },
    {
      "cell_type": "code",
      "source": [
        "# Plotar o gráfico 3D com todas as melhores posições\n",
        "fig = plt.figure(figsize=(8, 8))\n",
        "ax = fig.add_subplot(111)\n",
        "\n",
        "# Plotar todas as melhores posições anteriores\n",
        "for i in range(best_positions.shape[0]):\n",
        "    ax.scatter(best_positions[i, 0], best_positions[i, 1], marker='x', c='blue', alpha=0.6)\n",
        "\n",
        "# Plotar a última melhor posição com uma cor diferente para destacá-la\n",
        "ax.scatter(best_positions[-1, 0], best_positions[-1, 1], c='red', label='Melhor posição atual')\n",
        "\n",
        "ax.set_title('PSO - Melhores posições ao longo das iterações')\n",
        "ax.set_xlabel('Primeira dimensão das melhores posições')\n",
        "ax.set_ylabel('Segunda dimensão das melhores posições')\n",
        "ax.legend()\n",
        "plt.grid()\n",
        "plt.show()"
      ],
      "metadata": {
        "colab": {
          "base_uri": "https://localhost:8080/",
          "height": 718
        },
        "id": "GK1vNK4v20Dx",
        "outputId": "4ed97c73-7df8-49b6-c512-871a45e89e90"
      },
      "execution_count": 52,
      "outputs": [
        {
          "output_type": "display_data",
          "data": {
            "text/plain": [
              "<Figure size 800x800 with 1 Axes>"
            ],
            "image/png": "[encoded data removed]"
          },
          "metadata": {}
        }
      ]
    },
    {
      "cell_type": "code",
      "source": [
        "# Nome do arquivo CSV para salvar o resultado do melhor custo\n",
        "#nome_arquivo = '/content/drive/MyDrive/datasets/resultados_optimizacao/resultados_pso/melhor_custo_pso_quarto_cenario.csv'\n",
        "\n",
        "# Adicionar o melhor custo atual à lista de melhores custos anteriores\n",
        "melhores_custos_anteriores = []\n",
        "try:\n",
        "    with open(nome_arquivo, 'r') as arquivo_csv:\n",
        "        reader = csv.reader(arquivo_csv)\n",
        "        next(reader)  # Pule o cabeçalho\n",
        "        for linha in reader:\n",
        "            melhores_custos_anteriores.append(linha[1])\n",
        "except FileNotFoundError:\n",
        "    pass  # Arquivo não existe, pode ser a primeira execução\n",
        "\n",
        "melhores_custos_anteriores.append(best_cost)  # Substitua pbest_cost[0] por best_cost\n",
        "\n",
        "# Criar uma lista com os valores atuais\n",
        "valores_atuais = [len(melhores_custos_anteriores), best_cost, lamb, beta, theta]\n",
        "\n",
        "# Abrir o arquivo CSV em modo de leitura e escrita e escrever os valores atuais no final do arquivo\n",
        "with open(nome_arquivo, 'a+', newline='') as arquivo_csv:\n",
        "    writer = csv.writer(arquivo_csv)\n",
        "\n",
        "    # Se o arquivo estiver vazio, escreva o cabeçalho\n",
        "    if arquivo_csv.tell() == 0:\n",
        "        writer.writerow(['Index', 'Melhor Custo', 'Lambda (λ)', 'Beta (β)', 'Theta (θ)', 'Número de ciclos de manutenção', 'Tempos para manutenções preventivas', 'Severidade para cada subsistema'])\n",
        "\n",
        "    # Escrever os valores atuais\n",
        "    writer.writerow(valores_atuais)"
      ],
      "metadata": {
        "id": "SvLX3p0EXBEo",
        "outputId": "88bf9868-3847-4c00-9824-ee7ec8d24e11",
        "colab": {
          "base_uri": "https://localhost:8080/",
          "height": 245
        }
      },
      "execution_count": 53,
      "outputs": [
        {
          "output_type": "error",
          "ename": "NameError",
          "evalue": "ignored",
          "traceback": [
            "\u001b[0;31m---------------------------------------------------------------------------\u001b[0m",
            "\u001b[0;31mNameError\u001b[0m                                 Traceback (most recent call last)",
            "\u001b[0;32m<ipython-input-53-3b2599b6ffc5>\u001b[0m in \u001b[0;36m<cell line: 6>\u001b[0;34m()\u001b[0m\n\u001b[1;32m      5\u001b[0m \u001b[0mmelhores_custos_anteriores\u001b[0m \u001b[0;34m=\u001b[0m \u001b[0;34m[\u001b[0m\u001b[0;34m]\u001b[0m\u001b[0;34m\u001b[0m\u001b[0;34m\u001b[0m\u001b[0m\n\u001b[1;32m      6\u001b[0m \u001b[0;32mtry\u001b[0m\u001b[0;34m:\u001b[0m\u001b[0;34m\u001b[0m\u001b[0;34m\u001b[0m\u001b[0m\n\u001b[0;32m----> 7\u001b[0;31m     \u001b[0;32mwith\u001b[0m \u001b[0mopen\u001b[0m\u001b[0;34m(\u001b[0m\u001b[0mnome_arquivo\u001b[0m\u001b[0;34m,\u001b[0m \u001b[0;34m'r'\u001b[0m\u001b[0;34m)\u001b[0m \u001b[0;32mas\u001b[0m \u001b[0marquivo_csv\u001b[0m\u001b[0;34m:\u001b[0m\u001b[0;34m\u001b[0m\u001b[0;34m\u001b[0m\u001b[0m\n\u001b[0m\u001b[1;32m      8\u001b[0m         \u001b[0mreader\u001b[0m \u001b[0;34m=\u001b[0m \u001b[0mcsv\u001b[0m\u001b[0;34m.\u001b[0m\u001b[0mreader\u001b[0m\u001b[0;34m(\u001b[0m\u001b[0marquivo_csv\u001b[0m\u001b[0;34m)\u001b[0m\u001b[0;34m\u001b[0m\u001b[0;34m\u001b[0m\u001b[0m\n\u001b[1;32m      9\u001b[0m         \u001b[0mnext\u001b[0m\u001b[0;34m(\u001b[0m\u001b[0mreader\u001b[0m\u001b[0;34m)\u001b[0m  \u001b[0;31m# Pule o cabeçalho\u001b[0m\u001b[0;34m\u001b[0m\u001b[0;34m\u001b[0m\u001b[0m\n",
            "\u001b[0;31mNameError\u001b[0m: name 'nome_arquivo' is not defined"
          ]
        }
      ]
    }
  ]
}