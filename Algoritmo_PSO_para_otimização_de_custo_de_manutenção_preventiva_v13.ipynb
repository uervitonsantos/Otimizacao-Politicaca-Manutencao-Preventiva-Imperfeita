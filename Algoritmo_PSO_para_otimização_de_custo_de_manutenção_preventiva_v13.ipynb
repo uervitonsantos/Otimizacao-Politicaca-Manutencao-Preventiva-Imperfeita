{
  "nbformat": 4,
  "nbformat_minor": 0,
  "metadata": {
    "colab": {
      "provenance": [],
      "include_colab_link": true
    },
    "kernelspec": {
      "name": "python3",
      "display_name": "Python 3"
    },
    "language_info": {
      "name": "python"
    }
  },
  "cells": [
    {
      "cell_type": "markdown",
      "metadata": {
        "id": "view-in-github",
        "colab_type": "text"
      },
      "source": [
        "<a href=\"https://colab.research.google.com/github/uervitonsantos/Otimizacao-Politicaca-Manutencao-Preventiva-Imperfeita/blob/main/Algoritmo_PSO_para_otimiza%C3%A7%C3%A3o_de_custo_de_manuten%C3%A7%C3%A3o_preventiva_v13.ipynb\" target=\"_parent\"><img src=\"https://colab.research.google.com/assets/colab-badge.svg\" alt=\"Open In Colab\"/></a>"
      ]
    },
    {
      "cell_type": "markdown",
      "source": [
        "Os Dataset's de dados de confiabilidade para os 4 cenarios podem ser obtidos em: https://drive.google.com/drive/folders/1tzW3424gsRYhvXOCIaF67PCb3PAiOU43?usp=drive_link"
      ],
      "metadata": {
        "id": "wZi0pIL-Ch37"
      }
    },
    {
      "cell_type": "code",
      "execution_count": 263,
      "metadata": {
        "id": "VM8_ebpiVP0V"
      },
      "outputs": [],
      "source": [
        "%%capture\n",
        "pip install pyswarms"
      ]
    },
    {
      "cell_type": "code",
      "source": [
        "%%capture\n",
        "pip install scipy"
      ],
      "metadata": {
        "id": "OWf5AdwyN8Sr"
      },
      "execution_count": 264,
      "outputs": []
    },
    {
      "cell_type": "code",
      "source": [
        "from scipy import stats\n",
        "import numpy as np\n",
        "import pandas as pd\n",
        "import math\n",
        "import csv\n",
        "import locale\n",
        "import matplotlib.pyplot as plt\n",
        "import time\n",
        "from pyswarms.single.global_best import GlobalBestPSO\n",
        "import pyswarms as ps\n",
        "from pyswarms.utils.search import RandomSearch\n",
        "from pyswarms.utils.functions import single_obj as fx\n",
        "from pyswarms.utils.plotters import (plot_cost_history, plot_contour, plot_surface)\n",
        "import plotly.graph_objects as go\n",
        "from pyswarms.utils.plotters.formatters import Designer\n",
        "from pyswarms.utils.plotters.formatters import Mesher\n",
        "from mpl_toolkits.mplot3d import Axes3D"
      ],
      "metadata": {
        "id": "2sVG0WwfVrUs"
      },
      "execution_count": 265,
      "outputs": []
    },
    {
      "cell_type": "code",
      "source": [
        "!dpkg-reconfigure locales"
      ],
      "metadata": {
        "id": "QRtJky4YZv-I",
        "outputId": "34476b41-06be-4bab-bbf2-e943d31b9b18",
        "colab": {
          "base_uri": "https://localhost:8080/"
        }
      },
      "execution_count": 266,
      "outputs": [
        {
          "output_type": "stream",
          "name": "stdout",
          "text": [
            "Generating locales (this might take a while)...\n",
            "  en_US.UTF-8... done\n",
            "  pt_BR.ISO-8859-1... done\n",
            "Generation complete.\n"
          ]
        }
      ]
    },
    {
      "cell_type": "code",
      "source": [
        "# Install locale pt_BR\n",
        "!/usr/share/locales/install-language-pack pt_BR"
      ],
      "metadata": {
        "id": "s92MNLHCZyMH",
        "outputId": "4c326798-5b76-4f8f-dbe8-4e621744f011",
        "colab": {
          "base_uri": "https://localhost:8080/"
        }
      },
      "execution_count": 267,
      "outputs": [
        {
          "output_type": "stream",
          "name": "stdout",
          "text": [
            "Generating locales (this might take a while)...\n",
            "Generation complete.\n",
            "\u001b[1mdpkg-trigger:\u001b[0m \u001b[1;31merror:\u001b[0m must be called from a maintainer script (or with a --by-package option)\n",
            "\n",
            "Type dpkg-trigger --help for help about this utility.\n"
          ]
        }
      ]
    },
    {
      "cell_type": "code",
      "source": [
        "print(locale.getlocale())"
      ],
      "metadata": {
        "id": "4KRG4RjkZ0j_",
        "outputId": "9bf2fd2a-b780-4364-d3a0-86323de1c475",
        "colab": {
          "base_uri": "https://localhost:8080/"
        }
      },
      "execution_count": 268,
      "outputs": [
        {
          "output_type": "stream",
          "name": "stdout",
          "text": [
            "('pt_BR', 'ISO8859-1')\n"
          ]
        }
      ]
    },
    {
      "cell_type": "code",
      "source": [
        "locale.setlocale(locale.LC_ALL, 'pt_BR.iso88591')"
      ],
      "metadata": {
        "id": "90z2KljmZ2bx",
        "outputId": "5c7635f1-3af0-4766-84c3-c55181bb2b4d",
        "colab": {
          "base_uri": "https://localhost:8080/",
          "height": 35
        }
      },
      "execution_count": 269,
      "outputs": [
        {
          "output_type": "execute_result",
          "data": {
            "text/plain": [
              "'pt_BR.iso88591'"
            ],
            "application/vnd.google.colaboratory.intrinsic+json": {
              "type": "string"
            }
          },
          "metadata": {},
          "execution_count": 269
        }
      ]
    },
    {
      "cell_type": "code",
      "source": [
        "from google.colab import drive\n",
        "drive.mount('/content/drive')"
      ],
      "metadata": {
        "colab": {
          "base_uri": "https://localhost:8080/"
        },
        "id": "UxVZzIrcndid",
        "outputId": "ead2544e-3cf2-4577-e86e-7aef89057246"
      },
      "execution_count": 270,
      "outputs": [
        {
          "output_type": "stream",
          "name": "stdout",
          "text": [
            "Drive already mounted at /content/drive; to attempt to forcibly remount, call drive.mount(\"/content/drive\", force_remount=True).\n"
          ]
        }
      ]
    },
    {
      "cell_type": "code",
      "source": [
        "# Constantes criadas para representar alguns valores de teste no codigo\n",
        "\n",
        "MAX_VALUE_CUSTO = 17000 # Valor maximo para o custo total da otimização\n",
        "fator_melhoria = 'expo' # Função exponencial selecionada. Há outras funções desenvolvidas\n",
        "DIAS_OBSERVADOS = 1460 # Quantidade de dias observados no horizonte de planejamento. Para cada teste há uma quantidade de dia específico\n",
        "CMC = 17000 # Valor para o custo da manutenção corretiva\n",
        "CMP = 4000 # Valor para o custo da manutenção preventiva\n",
        "\n",
        "VALOR_DIMENSOES = int(DIAS_OBSERVADOS / 30)\n",
        "\n",
        "ALGORITMO = ('pso')\n",
        "\n",
        "LINK_ARQUIVO_PRINCIPAL = f'/content/drive/MyDrive/datasets/resultados_optimizacao/resultados_{ALGORITMO}/'\n",
        "NOME_ARQUIVO_PRINCIPAL = f'melhor_custo_{ALGORITMO}_terceiro_cenario'\n",
        "NOME_ARQUIVO_TEMPO_SEVERIDADE = '_tempo_severidade'\n",
        "\n",
        "# Constante para configuração dos cenarios de teste. de 01 a 04\n",
        "CENARIO = '03'"
      ],
      "metadata": {
        "id": "FeZKvg25Vtwz"
      },
      "execution_count": 271,
      "outputs": []
    },
    {
      "cell_type": "code",
      "source": [
        "class IntensidadeFalha:\n",
        "    # Este método vai inicializar cada objeto criado a partir desta classe\n",
        "    # O nome deste método é \"inicio\"\n",
        "    # (self) é uma referência a cada atributo de um objeto criado a partir desta classe\n",
        "    # Os atributos de cada objeto criados a partir desta classe.\n",
        "    # O self indica que estes são atributos dos objetos\n",
        "    def __init__(self):\n",
        "        self.fator = None\n",
        "        self.lamb = None\n",
        "        self.beta = None\n",
        "        self.theta = None\n",
        "        self.sz = None\n",
        "        self.T = None\n",
        "        self.u = None\n",
        "\n",
        "    def inicio(self, T, fator, solucao):\n",
        "        self.fator = fator\n",
        "        self.lamb = solucao[0]\n",
        "        self.beta = solucao[1]\n",
        "        self.theta = solucao[2]\n",
        "        self.sz = int(T[-1])\n",
        "        self.T = T\n",
        "\n",
        "    def create(self):\n",
        "        self.u = []\n",
        "        for i in range(len(self.T) - 1):\n",
        "            for tt in range(int(self.T[i]), int(self.T[i + 1])):\n",
        "                b = tt - self.fator[0][i] * self.T[i]\n",
        "                self.u.append((1 / (self.lamb ** self.beta)) * self.beta * b ** (self.beta - 1))\n",
        "            # Adiciona nan ao final do ciclo\n",
        "            self.u.append(float('nan'))\n",
        "\n",
        "    # plota e salva a figura da função de intensidade de falha\n",
        "    def plotar(self):\n",
        "        fig = plt.figure(figsize=(20, 5))\n",
        "        plt.plot(self.u)\n",
        "\n",
        "        for xc in self.T:\n",
        "            plt.axvline(x=xc, color='r', linestyle='--')\n",
        "\n",
        "        plt.xlabel(\"Tempo (dias)\")\n",
        "        plt.ylabel(\"Função intensidade de falha\")\n",
        "        plt.xlim(0)\n",
        "        plt.grid(True)\n",
        "        plt.show()"
      ],
      "metadata": {
        "id": "QhF2qTuDV2P1"
      },
      "execution_count": 272,
      "outputs": []
    },
    {
      "cell_type": "code",
      "source": [
        "# Define a função de melhoria constante\n",
        "def const(ck, m, s, theta):\n",
        "    fator = [[theta] * ck] * m\n",
        "    return fator"
      ],
      "metadata": {
        "id": "mMRO_z3_V4a3"
      },
      "execution_count": 273,
      "outputs": []
    },
    {
      "cell_type": "code",
      "source": [
        "# Define a função de melhoria linear\n",
        "def linear(ck, m, s, theta):\n",
        "    fator = []\n",
        "    for k in range(0, m, 1):\n",
        "        linha = [0]\n",
        "        for j in range(0, ck, 1):\n",
        "            linha.append(s[k][j] * theta)\n",
        "        fator.append(linha)\n",
        "    return fator"
      ],
      "metadata": {
        "id": "S_fCxa7GV65n"
      },
      "execution_count": 274,
      "outputs": []
    },
    {
      "cell_type": "code",
      "source": [
        "# Define a função de melhoria exponencial\n",
        "def expo(ck, m, s, theta):\n",
        "    fator = []\n",
        "    for k in range(0, m):\n",
        "        linha = []\n",
        "        # Verifique se o índice k é válido\n",
        "        if k >= len(s):\n",
        "            break\n",
        "        for j in range(0, ck):\n",
        "            # Verifique se o índice j é válido\n",
        "            if j >= len(s[k]):\n",
        "                break\n",
        "            linha.append(1.0 - np.exp(-s[k][j] * theta))\n",
        "        fator.append(linha)\n",
        "\n",
        "    return fator"
      ],
      "metadata": {
        "id": "NV3lIXl9V9FL"
      },
      "execution_count": 275,
      "outputs": []
    },
    {
      "cell_type": "code",
      "source": [
        "# Define a função de melhoria potência\n",
        "def pot(ck, m, s, theta):\n",
        "    fator = []\n",
        "    for k in range(0, m, 1):\n",
        "        linha = []\n",
        "        for j in range(0, ck, 1):\n",
        "            linha.append(s[k][j] ** theta)\n",
        "        fator.append(linha)\n",
        "    return fator"
      ],
      "metadata": {
        "id": "ikxXlzxKV-0K"
      },
      "execution_count": 276,
      "outputs": []
    },
    {
      "cell_type": "code",
      "source": [
        "# Define a função de melhoria para manutenção perfeita\n",
        "def mpp(ck, m, s, theta):\n",
        "    fator = []\n",
        "    for k in range(0, m, 1):\n",
        "        linha = []\n",
        "        for j in range(0, ck, 1):\n",
        "            linha.append(1)\n",
        "        fator.append(linha)\n",
        "    return fator"
      ],
      "metadata": {
        "id": "xcHr8tSFWAus"
      },
      "execution_count": 277,
      "outputs": []
    },
    {
      "cell_type": "code",
      "source": [
        "# Executa a função de melhoria com base no parâmetro fornecido\n",
        "def execute_function(fator_melhoria, ck, m, s, theta):\n",
        "    return {\n",
        "        'const': lambda: const(ck, m, s, theta),\n",
        "        'linear': lambda: linear(ck, m, s, theta),\n",
        "        'expo': lambda: expo(ck, m, s, theta),\n",
        "        'pot': lambda: pot(ck, m, s, theta),\n",
        "        'mpp': lambda: mpp(ck, m, s, theta),\n",
        "    }[fator_melhoria]()"
      ],
      "metadata": {
        "id": "R5KeFcseWDH6"
      },
      "execution_count": 278,
      "outputs": []
    },
    {
      "cell_type": "code",
      "source": [
        "# Função custo de manutenção baseada severidade\n",
        "def custo_mp(s, CMP):\n",
        "    # Dicionario definido pelo cliente\n",
        "    dist = {1.0: 400.0000}\n",
        "    custos = [dist.get(si, CMP) for si in s]\n",
        "    custo_total = np.sum(custos)\n",
        "    return custo_total"
      ],
      "metadata": {
        "id": "SHsZAjxZncnq"
      },
      "execution_count": 279,
      "outputs": []
    },
    {
      "cell_type": "code",
      "source": [
        "# Função custo de manutenção baseada em severidade\n",
        "def custo_mp(s, CMP):\n",
        "    # Dicionario definido pelo cliente\n",
        "    dist = {1.0: 400.0000}\n",
        "    if not isinstance(s, list):\n",
        "        s = [s]  # Transforma s em uma lista com um único elemento\n",
        "    cmp_f = np.sum([CMP if si < 0.20 or si > 1.0 else np.interp(si, [1.0], [400.0000]) for si in s])\n",
        "    return cmp_f"
      ],
      "metadata": {
        "id": "9K0PX8kIrIc4"
      },
      "execution_count": 280,
      "outputs": []
    },
    {
      "cell_type": "markdown",
      "source": [
        "O 1.º cenário, considera o dataset fictício do trabalho do Dr Marco Coque Jr, com 5 sistema, observados por 600 dias, com MP realizada nos tempos 150, 250, 500 e 600, com custo de MP apresentado na tabela 1, com taxas de severidades de 40%, 50%, 90% e 20%, respectivamente  e MC fixa em \"?\"\n",
        "\n",
        "O 2.º cenário, considera o dataset fictício, com 3 sistemas, observados por 730 dias, com MP realizada nos tempos \"?\", com custo de MP apresentado na tabela 2, com taxas de severidade fixas em 20%, 70% e 100%, respectivamente e MC fixa em US$15.000\n",
        "\n",
        "O 3.º cenário, considera o dataset fictício, com 2 sistemas, observados por 1.460 dias, com MP realizada nos tempos \"?\", com custo de MP fixo em US$4.000, com taxas de severidade fixas em 100% e MC fixa em US$17.000\n",
        "\n",
        "O 4.º cenário, considera o dataset fictício, com 4 sistemas, observados por 730 dias, com MP realizada nos tempos \"?\", com custo de MP apresentado na tabela 2, com taxas de severidade fixas em 50% e 100%, onde US$2.000 e US$3.000, respectivamente e MC fixa em US$15.000 texto em itálico\n",
        "\n",
        "\n",
        "\n"
      ],
      "metadata": {
        "id": "G2TJsXlyGcOc"
      }
    },
    {
      "cell_type": "code",
      "source": [
        "# Defina o dicionário de tipos de dados\n",
        "# define as 3 colunas do dataset como int\n",
        "dtypes = {\n",
        "    't': int,\n",
        "    'k': int,\n",
        "    'c': int,\n",
        "}\n",
        "\n",
        "# Leitura dos dados de tempo de falha para 4 cenarios de exemplo\n",
        "df = pd.read_csv(f'/content/drive/MyDrive/datasets/Cenarios/cenario{CENARIO}.csv', sep=\";\")\n",
        "\n",
        "# Remova as linhas com valores ausentes\n",
        "df = df.fillna(0)\n",
        "\n",
        "# Converta as colunas para os tipos de dados desejados\n",
        "df = df.astype(dtypes)\n",
        "\n",
        "df.head()"
      ],
      "metadata": {
        "colab": {
          "base_uri": "https://localhost:8080/",
          "height": 206
        },
        "id": "IDcyZ_pHWIW8",
        "outputId": "74824dd1-d03d-4500-fc3a-9af22edec1db"
      },
      "execution_count": 281,
      "outputs": [
        {
          "output_type": "execute_result",
          "data": {
            "text/plain": [
              "      t  k  c  n    s    T\n",
              "0  1033  1  6  0  0.7  182\n",
              "1  1309  1  7  0  0.7  366\n",
              "2  1778  1  7  0  0.7  547\n",
              "3     0  1  0  0  0.7  731\n",
              "4     0  0  0  0  1.0  912"
            ],
            "text/html": [
              "\n",
              "  <div id=\"df-1c335213-95d8-4c71-b786-3f6c1fc5897f\" class=\"colab-df-container\">\n",
              "    <div>\n",
              "<style scoped>\n",
              "    .dataframe tbody tr th:only-of-type {\n",
              "        vertical-align: middle;\n",
              "    }\n",
              "\n",
              "    .dataframe tbody tr th {\n",
              "        vertical-align: top;\n",
              "    }\n",
              "\n",
              "    .dataframe thead th {\n",
              "        text-align: right;\n",
              "    }\n",
              "</style>\n",
              "<table border=\"1\" class=\"dataframe\">\n",
              "  <thead>\n",
              "    <tr style=\"text-align: right;\">\n",
              "      <th></th>\n",
              "      <th>t</th>\n",
              "      <th>k</th>\n",
              "      <th>c</th>\n",
              "      <th>n</th>\n",
              "      <th>s</th>\n",
              "      <th>T</th>\n",
              "    </tr>\n",
              "  </thead>\n",
              "  <tbody>\n",
              "    <tr>\n",
              "      <th>0</th>\n",
              "      <td>1033</td>\n",
              "      <td>1</td>\n",
              "      <td>6</td>\n",
              "      <td>0</td>\n",
              "      <td>0.7</td>\n",
              "      <td>182</td>\n",
              "    </tr>\n",
              "    <tr>\n",
              "      <th>1</th>\n",
              "      <td>1309</td>\n",
              "      <td>1</td>\n",
              "      <td>7</td>\n",
              "      <td>0</td>\n",
              "      <td>0.7</td>\n",
              "      <td>366</td>\n",
              "    </tr>\n",
              "    <tr>\n",
              "      <th>2</th>\n",
              "      <td>1778</td>\n",
              "      <td>1</td>\n",
              "      <td>7</td>\n",
              "      <td>0</td>\n",
              "      <td>0.7</td>\n",
              "      <td>547</td>\n",
              "    </tr>\n",
              "    <tr>\n",
              "      <th>3</th>\n",
              "      <td>0</td>\n",
              "      <td>1</td>\n",
              "      <td>0</td>\n",
              "      <td>0</td>\n",
              "      <td>0.7</td>\n",
              "      <td>731</td>\n",
              "    </tr>\n",
              "    <tr>\n",
              "      <th>4</th>\n",
              "      <td>0</td>\n",
              "      <td>0</td>\n",
              "      <td>0</td>\n",
              "      <td>0</td>\n",
              "      <td>1.0</td>\n",
              "      <td>912</td>\n",
              "    </tr>\n",
              "  </tbody>\n",
              "</table>\n",
              "</div>\n",
              "    <div class=\"colab-df-buttons\">\n",
              "\n",
              "  <div class=\"colab-df-container\">\n",
              "    <button class=\"colab-df-convert\" onclick=\"convertToInteractive('df-1c335213-95d8-4c71-b786-3f6c1fc5897f')\"\n",
              "            title=\"Convert this dataframe to an interactive table.\"\n",
              "            style=\"display:none;\">\n",
              "\n",
              "  <svg xmlns=\"http://www.w3.org/2000/svg\" height=\"24px\" viewBox=\"0 -960 960 960\">\n",
              "    <path d=\"M120-120v-720h720v720H120Zm60-500h600v-160H180v160Zm220 220h160v-160H400v160Zm0 220h160v-160H400v160ZM180-400h160v-160H180v160Zm440 0h160v-160H620v160ZM180-180h160v-160H180v160Zm440 0h160v-160H620v160Z\"/>\n",
              "  </svg>\n",
              "    </button>\n",
              "\n",
              "  <style>\n",
              "    .colab-df-container {\n",
              "      display:flex;\n",
              "      gap: 12px;\n",
              "    }\n",
              "\n",
              "    .colab-df-convert {\n",
              "      background-color: #E8F0FE;\n",
              "      border: none;\n",
              "      border-radius: 50%;\n",
              "      cursor: pointer;\n",
              "      display: none;\n",
              "      fill: #1967D2;\n",
              "      height: 32px;\n",
              "      padding: 0 0 0 0;\n",
              "      width: 32px;\n",
              "    }\n",
              "\n",
              "    .colab-df-convert:hover {\n",
              "      background-color: #E2EBFA;\n",
              "      box-shadow: 0px 1px 2px rgba(60, 64, 67, 0.3), 0px 1px 3px 1px rgba(60, 64, 67, 0.15);\n",
              "      fill: #174EA6;\n",
              "    }\n",
              "\n",
              "    .colab-df-buttons div {\n",
              "      margin-bottom: 4px;\n",
              "    }\n",
              "\n",
              "    [theme=dark] .colab-df-convert {\n",
              "      background-color: #3B4455;\n",
              "      fill: #D2E3FC;\n",
              "    }\n",
              "\n",
              "    [theme=dark] .colab-df-convert:hover {\n",
              "      background-color: #434B5C;\n",
              "      box-shadow: 0px 1px 3px 1px rgba(0, 0, 0, 0.15);\n",
              "      filter: drop-shadow(0px 1px 2px rgba(0, 0, 0, 0.3));\n",
              "      fill: #FFFFFF;\n",
              "    }\n",
              "  </style>\n",
              "\n",
              "    <script>\n",
              "      const buttonEl =\n",
              "        document.querySelector('#df-1c335213-95d8-4c71-b786-3f6c1fc5897f button.colab-df-convert');\n",
              "      buttonEl.style.display =\n",
              "        google.colab.kernel.accessAllowed ? 'block' : 'none';\n",
              "\n",
              "      async function convertToInteractive(key) {\n",
              "        const element = document.querySelector('#df-1c335213-95d8-4c71-b786-3f6c1fc5897f');\n",
              "        const dataTable =\n",
              "          await google.colab.kernel.invokeFunction('convertToInteractive',\n",
              "                                                    [key], {});\n",
              "        if (!dataTable) return;\n",
              "\n",
              "        const docLinkHtml = 'Like what you see? Visit the ' +\n",
              "          '<a target=\"_blank\" href=https://colab.research.google.com/notebooks/data_table.ipynb>data table notebook</a>'\n",
              "          + ' to learn more about interactive tables.';\n",
              "        element.innerHTML = '';\n",
              "        dataTable['output_type'] = 'display_data';\n",
              "        await google.colab.output.renderOutput(dataTable, element);\n",
              "        const docLink = document.createElement('div');\n",
              "        docLink.innerHTML = docLinkHtml;\n",
              "        element.appendChild(docLink);\n",
              "      }\n",
              "    </script>\n",
              "  </div>\n",
              "\n",
              "\n",
              "<div id=\"df-0922fe25-b649-48d1-8ff5-d11cc113306d\">\n",
              "  <button class=\"colab-df-quickchart\" onclick=\"quickchart('df-0922fe25-b649-48d1-8ff5-d11cc113306d')\"\n",
              "            title=\"Suggest charts\"\n",
              "            style=\"display:none;\">\n",
              "\n",
              "<svg xmlns=\"http://www.w3.org/2000/svg\" height=\"24px\"viewBox=\"0 0 24 24\"\n",
              "     width=\"24px\">\n",
              "    <g>\n",
              "        <path d=\"M19 3H5c-1.1 0-2 .9-2 2v14c0 1.1.9 2 2 2h14c1.1 0 2-.9 2-2V5c0-1.1-.9-2-2-2zM9 17H7v-7h2v7zm4 0h-2V7h2v10zm4 0h-2v-4h2v4z\"/>\n",
              "    </g>\n",
              "</svg>\n",
              "  </button>\n",
              "\n",
              "<style>\n",
              "  .colab-df-quickchart {\n",
              "      --bg-color: #E8F0FE;\n",
              "      --fill-color: #1967D2;\n",
              "      --hover-bg-color: #E2EBFA;\n",
              "      --hover-fill-color: #174EA6;\n",
              "      --disabled-fill-color: #AAA;\n",
              "      --disabled-bg-color: #DDD;\n",
              "  }\n",
              "\n",
              "  [theme=dark] .colab-df-quickchart {\n",
              "      --bg-color: #3B4455;\n",
              "      --fill-color: #D2E3FC;\n",
              "      --hover-bg-color: #434B5C;\n",
              "      --hover-fill-color: #FFFFFF;\n",
              "      --disabled-bg-color: #3B4455;\n",
              "      --disabled-fill-color: #666;\n",
              "  }\n",
              "\n",
              "  .colab-df-quickchart {\n",
              "    background-color: var(--bg-color);\n",
              "    border: none;\n",
              "    border-radius: 50%;\n",
              "    cursor: pointer;\n",
              "    display: none;\n",
              "    fill: var(--fill-color);\n",
              "    height: 32px;\n",
              "    padding: 0;\n",
              "    width: 32px;\n",
              "  }\n",
              "\n",
              "  .colab-df-quickchart:hover {\n",
              "    background-color: var(--hover-bg-color);\n",
              "    box-shadow: 0 1px 2px rgba(60, 64, 67, 0.3), 0 1px 3px 1px rgba(60, 64, 67, 0.15);\n",
              "    fill: var(--button-hover-fill-color);\n",
              "  }\n",
              "\n",
              "  .colab-df-quickchart-complete:disabled,\n",
              "  .colab-df-quickchart-complete:disabled:hover {\n",
              "    background-color: var(--disabled-bg-color);\n",
              "    fill: var(--disabled-fill-color);\n",
              "    box-shadow: none;\n",
              "  }\n",
              "\n",
              "  .colab-df-spinner {\n",
              "    border: 2px solid var(--fill-color);\n",
              "    border-color: transparent;\n",
              "    border-bottom-color: var(--fill-color);\n",
              "    animation:\n",
              "      spin 1s steps(1) infinite;\n",
              "  }\n",
              "\n",
              "  @keyframes spin {\n",
              "    0% {\n",
              "      border-color: transparent;\n",
              "      border-bottom-color: var(--fill-color);\n",
              "      border-left-color: var(--fill-color);\n",
              "    }\n",
              "    20% {\n",
              "      border-color: transparent;\n",
              "      border-left-color: var(--fill-color);\n",
              "      border-top-color: var(--fill-color);\n",
              "    }\n",
              "    30% {\n",
              "      border-color: transparent;\n",
              "      border-left-color: var(--fill-color);\n",
              "      border-top-color: var(--fill-color);\n",
              "      border-right-color: var(--fill-color);\n",
              "    }\n",
              "    40% {\n",
              "      border-color: transparent;\n",
              "      border-right-color: var(--fill-color);\n",
              "      border-top-color: var(--fill-color);\n",
              "    }\n",
              "    60% {\n",
              "      border-color: transparent;\n",
              "      border-right-color: var(--fill-color);\n",
              "    }\n",
              "    80% {\n",
              "      border-color: transparent;\n",
              "      border-right-color: var(--fill-color);\n",
              "      border-bottom-color: var(--fill-color);\n",
              "    }\n",
              "    90% {\n",
              "      border-color: transparent;\n",
              "      border-bottom-color: var(--fill-color);\n",
              "    }\n",
              "  }\n",
              "</style>\n",
              "\n",
              "  <script>\n",
              "    async function quickchart(key) {\n",
              "      const quickchartButtonEl =\n",
              "        document.querySelector('#' + key + ' button');\n",
              "      quickchartButtonEl.disabled = true;  // To prevent multiple clicks.\n",
              "      quickchartButtonEl.classList.add('colab-df-spinner');\n",
              "      try {\n",
              "        const charts = await google.colab.kernel.invokeFunction(\n",
              "            'suggestCharts', [key], {});\n",
              "      } catch (error) {\n",
              "        console.error('Error during call to suggestCharts:', error);\n",
              "      }\n",
              "      quickchartButtonEl.classList.remove('colab-df-spinner');\n",
              "      quickchartButtonEl.classList.add('colab-df-quickchart-complete');\n",
              "    }\n",
              "    (() => {\n",
              "      let quickchartButtonEl =\n",
              "        document.querySelector('#df-0922fe25-b649-48d1-8ff5-d11cc113306d button');\n",
              "      quickchartButtonEl.style.display =\n",
              "        google.colab.kernel.accessAllowed ? 'block' : 'none';\n",
              "    })();\n",
              "  </script>\n",
              "</div>\n",
              "\n",
              "    </div>\n",
              "  </div>\n"
            ]
          },
          "metadata": {},
          "execution_count": 281
        }
      ]
    },
    {
      "cell_type": "markdown",
      "source": [
        "\n",
        "\n",
        "*   t: Representa os tempos de falha.\n",
        "*   k: Indica o índice do sistema.\n",
        "*   c: Representa o número de ciclos de manutenção.\n",
        "*   n: Indica o número de falhas em cada ciclo de manutenção preventiva.\n",
        "*   s: Representa a severidade das manutenções preventivas em cada sistema.\n",
        "*   T: Indica os tempos das manutenções preventivas.\n",
        "\n"
      ],
      "metadata": {
        "id": "CaA-qPulJnW2"
      }
    },
    {
      "cell_type": "code",
      "source": [
        "# Cria as variaveis\n",
        "# tempos de falhas\n",
        "t = df['t']\n",
        "# indice do sistema\n",
        "k = df['k']\n",
        "m = k.drop_duplicates().shape[0]\n",
        "# Numero de ciclos de manutenção\n",
        "ck = df['c'].max()\n",
        "# Numero de falhas e severidade das manutenções preventivas em cada sistema\n",
        "n = []\n",
        "s = []\n",
        "for k in range(m):\n",
        "    n.append(list(df['n'][k * ck:(k + 1) * ck]))\n",
        "    s.append(list(df['s'][k * ck:(k + 1) * ck]))\n",
        "\n",
        "# Tempos das MP\n",
        "T = list(df['T'][:m])"
      ],
      "metadata": {
        "id": "osEXf1wsuIlP"
      },
      "execution_count": 282,
      "outputs": []
    },
    {
      "cell_type": "code",
      "source": [
        "# Define a função objetivo para ótimização dos parametros lambda, beta, theta\n",
        "def objective(x):\n",
        "    #\n",
        "    # Solucao a ser avaliada x = [x1, x2, x3] = [lambda, beta, theta]\n",
        "    lamb = x[:, 0]\n",
        "    beta = x[:, 1]\n",
        "    theta = x[:, 2]\n",
        "\n",
        "    # Cria fator de melhoria\n",
        "\t# variável fator_melhoria definida como 'expo' no início do programa!\n",
        "    fator = execute_function(fator_melhoria, ck, m, s, theta)\n",
        "\n",
        "    cont = 0\n",
        "    fitness = 1\n",
        "\n",
        "    for k in range(0, m, 1):\n",
        "        prod = 1\n",
        "        for j in range(0, len(ck) if isinstance(ck, np.ndarray) else 1, 1):\n",
        "            nkj = int(n[k][j])\n",
        "            for i in range(0, nkj, 1):\n",
        "                prod = prod * (1/(lamb**beta)) * beta * (int(t[cont])-fator[k][j]*T[j])**(beta-1);\n",
        "                cont = cont + 1;\n",
        "\n",
        "        soma = 0\n",
        "        for l in range(0, len(ck) if isinstance(ck, np.ndarray) else 1, 1):\n",
        "            soma = soma + ((1/(lamb**beta))*(T[l+1]-fator[k][l]*T[l])**beta - (1/(lamb**beta))*(T[l]-fator[k][l]*T[l])**beta);\n",
        "\n",
        "        ans = np.exp(-soma)\n",
        "        fitness = fitness * prod * ans;\n",
        "\n",
        "    return (-1)*fitness"
      ],
      "metadata": {
        "id": "F548fs8JXJkK"
      },
      "execution_count": 283,
      "outputs": []
    },
    {
      "cell_type": "code",
      "source": [
        "# Parâmetros do PSO\n",
        "num_particles = 100\n",
        "max_iterations = 50\n",
        "dimensions = 3\n",
        "options = {'c1': 0.5, 'c2': 0.3, 'w': 0.9}  # Opções do PSO\n",
        "\n",
        "# Limites inferiores e superiores para lamb, beta e theta\n",
        "lb = np.array([100, 1, 0])\n",
        "ub = np.array([150, 2, 1])\n",
        "bounds = (lb, ub)\n",
        "\n",
        "# Registre o tempo de início de convergência para a primeira etapa\n",
        "start_time_first_stage = time.time()\n",
        "\n",
        "optimizer = GlobalBestPSO(n_particles=num_particles, dimensions=dimensions, options=options, bounds=bounds)\n",
        "\n",
        "# Registre o tempo de término\n",
        "end_time_first_stage = time.time()\n",
        "\n",
        "# Calcule o tempo total de convergência\n",
        "convergence_time_first_stage = end_time_first_stage - start_time_first_stage\n",
        "\n",
        "# Define o enxame de partículas\n",
        "swarm = optimizer.swarm\n",
        "\n",
        "# Inicializar current_cost e pbest_cost com valores infinitos\n",
        "swarm.current_cost = np.full(swarm.position.shape[0], np.inf)\n",
        "swarm.pbest_cost = np.full(swarm.position.shape[0], np.inf)\n",
        "best_cost, best_position = optimizer.optimize(objective, iters=max_iterations)\n",
        "\n",
        "# Calcula mask_cost\n",
        "mask_cost = swarm.current_cost < swarm.pbest_cost\n",
        "\n",
        "# Atualiza pbest\n",
        "swarm.pbest_cost = np.where(mask_cost, swarm.current_cost, swarm.pbest_cost)\n",
        "swarm.pbest_pos = np.where(mask_cost[:, np.newaxis], swarm.position, swarm.pbest_pos)"
      ],
      "metadata": {
        "id": "sdZ_xrssxPjt",
        "colab": {
          "base_uri": "https://localhost:8080/"
        },
        "outputId": "354d3582-1f11-4326-e676-3eed412eb8c5"
      },
      "execution_count": 284,
      "outputs": [
        {
          "output_type": "stream",
          "name": "stderr",
          "text": [
            "2023-12-21 23:25:21,870 - pyswarms.single.global_best - INFO - Optimize for 50 iters with {'c1': 0.5, 'c2': 0.3, 'w': 0.9}\n",
            "pyswarms.single.global_best: 100%|██████████|50/50, best_cost=-.0837\n",
            "2023-12-21 23:25:22,004 - pyswarms.single.global_best - INFO - Optimization finished | best cost: -0.08369716132174138, best pos: [148.41225848   1.00025993   0.15233147]\n"
          ]
        }
      ]
    },
    {
      "cell_type": "code",
      "source": [
        "# Criação de variáveis para os parâmetros\n",
        "lamb, beta, theta = best_position\n",
        "print('lamb:', lamb)\n",
        "print('beta:', beta)\n",
        "print('theta:', theta)\n",
        "print('')\n",
        "print(\"Tempo de Convergência para a primeira etapa:\", convergence_time_first_stage, \"segundos\")"
      ],
      "metadata": {
        "colab": {
          "base_uri": "https://localhost:8080/"
        },
        "id": "NaosdejV9bWw",
        "outputId": "27e593db-6da9-48dc-9c70-36a9e66c27e9"
      },
      "execution_count": 285,
      "outputs": [
        {
          "output_type": "stream",
          "name": "stdout",
          "text": [
            "lamb: 148.4122584844515\n",
            "beta: 1.0002599275394077\n",
            "theta: 0.15233147028446048\n",
            "\n",
            "Tempo de Convergência para a primeira etapa: 0.0072824954986572266 segundos\n"
          ]
        }
      ]
    },
    {
      "cell_type": "code",
      "source": [
        "lamb = 149.0660105892337\n",
        "beta = 1.0021041775754342\n",
        "theta = 0.5713164590755301\n",
        "\n",
        "solucao = [lamb, beta, theta]\n",
        "\n",
        "# Cria a instância da classe IntensidadeFalha\n",
        "intensidadeFalha = IntensidadeFalha()\n",
        "\n",
        "# Inicializa a instância com os valores necessários\n",
        "intensidadeFalha.inicio(T, execute_function(fator_melhoria, ck, m, s, theta), solucao)\n",
        "\n",
        "# Cria os dados da intensidade de falha\n",
        "intensidadeFalha.create()\n",
        "\n",
        "# Plota o gráfico da intensidade de falha\n",
        "intensidadeFalha.plotar()\n",
        "\n",
        "fator = execute_function(fator_melhoria, ck, m, s, theta)\n",
        "print('Fator ajuste: ', fator[0])\n",
        "\n",
        "last_value_fator_ajuste = fator[0][-1]\n",
        "\n",
        "time_duration = 1\n",
        "time.sleep(time_duration)"
      ],
      "metadata": {
        "id": "grvISRd2_HkE",
        "outputId": "d9104ff9-8506-4a0d-f7d6-ac08359b5d3e",
        "colab": {
          "base_uri": "https://localhost:8080/",
          "height": 369
        }
      },
      "execution_count": 286,
      "outputs": [
        {
          "output_type": "display_data",
          "data": {
            "text/plain": [
              "<Figure size 2000x500 with 1 Axes>"
            ],
            "image/png": "[encoded data removed]"
          },
          "metadata": {}
        },
        {
          "output_type": "stream",
          "name": "stdout",
          "text": [
            "Fator ajuste:  [0.329627346089734, 0.329627346089734, 0.329627346089734, 0.329627346089734, 0.43521856256562297, 0.329627346089734, 0.329627346089734]\n"
          ]
        }
      ]
    },
    {
      "cell_type": "code",
      "source": [
        "# Configurar a formatação da moeda\n",
        "def format_currency(value):\n",
        "    return locale.currency(value, grouping=True)"
      ],
      "metadata": {
        "id": "oRfF5D6xcmkJ"
      },
      "execution_count": 287,
      "outputs": []
    },
    {
      "cell_type": "code",
      "source": [
        "# Função objetivo para otimização da politica de manutenção\n",
        "# Numero de ciclos determinado pela solução\n",
        "# Solução com 24 valores reais\n",
        "# Solucao a ser avaliada X = [x1, ..., x24]\n",
        "def objective_st(x):\n",
        "\n",
        "    # Dicionario para severidades\n",
        "    dict_severidades = {1:1.0, 3:1.0, 5:1.0, 7:1.0}\n",
        "\n",
        "    results = [] # Lista para armazenar os resultados das funções objetivo\n",
        "\n",
        "    # No PSO, como cada particula é um vetor de dimenções definidas, é\n",
        "    # Necessario interar sobre o vetor de particulas\n",
        "    for particle in x:\n",
        "        T = [0]\n",
        "        s_row = []\n",
        "        cont = 0\n",
        "\n",
        "        for number in particle:\n",
        "            modulo = int(number) % 2\n",
        "            if modulo == 1:\n",
        "                inteiro = int(number)\n",
        "                s_row.append(dict_severidades[inteiro])  # Severidade\n",
        "                frac = number - inteiro  # Tempo\n",
        "                t = (cont + frac) * 30\n",
        "                T.append(int(t))\n",
        "            cont += 1\n",
        "\n",
        "    s = []\n",
        "    for row in range(m):\n",
        "        s.append(s_row)\n",
        "\n",
        "    # A partir da solução define o número de ciclos\n",
        "    ck = len(T) - 1\n",
        "\n",
        "    print(\"\")\n",
        "    print(\"=========================================================================\")\n",
        "    print(\"\")\n",
        "    print('Número de ciclos de manutenção:', ck, m)\n",
        "    print('Tempos para manutenções preventivas:', T)\n",
        "    print('Severidade para cada subsistema:', s[0])\n",
        "    print(\"Número de Sisemas:\", m)\n",
        "\n",
        "    if ck == 0:\n",
        "        return MAX_VALUE_CUSTO\n",
        "\n",
        "    # O modelo já está ajustado\n",
        "    # Utilizado para avaliar a solução candidata\n",
        "\n",
        "    # Cria fator de meloria a partir da solução\n",
        "    fact = execute_function(fator_melhoria, ck, m, s, theta)\n",
        "    fator = [last_value_fator_ajuste] + list(fact[0])\n",
        "\n",
        "    print('Fator: ', fator)\n",
        "\n",
        "    # Numero esperado de falhas (NEF) em cada ciclo\n",
        "    termos_somatorio = [((1/(lamb**beta)) * (T[1]**beta))]\n",
        "    numero_medio_falhas = [0, ((1/(lamb**beta)) * (T[1]**beta))]\n",
        "\n",
        "    for i in range(ck-1):\n",
        "        termo = (((T[i+2]-fator[i]*T[i+1])**beta) - (((1-fator[i])*T[i+1])**beta)) * (1/(lamb**beta))\n",
        "        termos_somatorio.append(termo)\n",
        "        numero_medio_falhas.append(sum(termos_somatorio))\n",
        "\n",
        "    # Número médio de falhas até o final do período: 2 anos\n",
        "    final = DIAS_OBSERVADOS\n",
        "    termo = (((final-fator[ck-1]*T[ck])**beta) - (((1-fator[ck-1])*T[ck])**beta)) * (1/(lamb**beta))\n",
        "    termos_somatorio.append(termo)\n",
        "    numero_medio_falhas.append(sum(termos_somatorio))\n",
        "\n",
        "    mi = numero_medio_falhas\n",
        "\n",
        "    print('Media de falhas: ', mi)\n",
        "\n",
        "    Ctotal =  []\n",
        "\n",
        "    for i in range(ck):\n",
        "        cmp = custo_mp(s[0][i], CMP)\n",
        "        Ctotal.append((cmp + (mi[i+1] - mi[i])*CMC)/(T[i+1]-T[i]))\n",
        "\n",
        "    cmp = custo_mp(s[0][ck-1], CMP)\n",
        "    Ctotal.append((cmp + (mi[ck+1] - mi[ck])*CMC)/(final-T[ck]))\n",
        "\n",
        "    # Custo Total\n",
        "    Custo = np.sum(Ctotal)\n",
        "    results.append(Custo) # Adicione o valor da função objetivo à lista de resultados\n",
        "    print('Custo = ', Custo)\n",
        "\n",
        "    # Retorne os resultados da função objetivo como um array\n",
        "    return np.array(results)"
      ],
      "metadata": {
        "id": "-JuqM09rWWBJ"
      },
      "execution_count": 288,
      "outputs": []
    },
    {
      "cell_type": "code",
      "source": [
        "num_particles = 100\n",
        "max_iterations = 100\n",
        "dimensions = VALOR_DIMENSOES\n",
        "options = {'c1': 0.5, 'c2': 0.3, 'w': 0.9}\n",
        "\n",
        "max_bound = np.array([1.3] * dimensions)  # Limite superior dos valores em x\n",
        "min_bound = np.array([0.0] * dimensions)   # Limite inferior dos valores em x\n",
        "bounds = (min_bound, max_bound)\n",
        "\n",
        "# Registre o tempo de início de convergência para a segunda etapa\n",
        "start_time_second_stage = time.time()\n",
        "\n",
        "optimizer = GlobalBestPSO(n_particles=num_particles, dimensions=dimensions, options=options, bounds=bounds)\n",
        "\n",
        "# Inicializar current_cost e pbest_cost com valores infinitos\n",
        "optimizer.swarm.current_cost = np.full(optimizer.swarm.position.shape[0], np.inf)\n",
        "optimizer.swarm.pbest_cost = np.full(optimizer.swarm.position.shape[0], np.inf)\n",
        "best_cost, best_position = optimizer.optimize(objective_st, iters=max_iterations)\n",
        "\n",
        "# Registre o tempo de término\n",
        "end_time_second_stage = time.time()\n",
        "\n",
        "# Agora, você pode calcular os outros valores relacionados à melhor solução\n",
        "# Primeiro, você precisa transformar a melhor posição em uma lista (se necessário)\n",
        "best_position_list = best_position.tolist()\n",
        "\n",
        "pbest_cost = optimizer.swarm.pbest_cost\n",
        "\n",
        "gbest_cost = optimizer.cost_history[-1]  # O último valor registrado no histórico de custos\n",
        "\n",
        "best_positions = []  # Lista para armazenar todas as melhores posições\n",
        "\n",
        "# Loop de iterações do PSO\n",
        "for i in range(max_iterations):\n",
        "    best_cost, best_position = optimizer.optimize(objective_st, iters=1)\n",
        "    pbest_cost = optimizer.swarm.pbest_cost\n",
        "    best_positions.append(best_position)\n",
        "\n",
        "# Converter a lista de melhores posições em um array numpy para facilitar a manipulação\n",
        "best_positions = np.array(best_positions)"
      ],
      "metadata": {
        "colab": {
          "base_uri": "https://localhost:8080/"
        },
        "id": "cePW2Ji6gjmC",
        "outputId": "fc50a4e2-f08f-4be0-96ea-9ba7b2019bda"
      },
      "execution_count": 289,
      "outputs": [
        {
          "output_type": "stream",
          "name": "stderr",
          "text": [
            "2023-12-21 23:25:23,407 - pyswarms.single.global_best - INFO - Optimize for 100 iters with {'c1': 0.5, 'c2': 0.3, 'w': 0.9}\n",
            "pyswarms.single.global_best:   8%|▊         |8/100, best_cost=348"
          ]
        },
        {
          "output_type": "stream",
          "name": "stdout",
          "text": [
            "\n",
            "=========================================================================\n",
            "\n",
            "Número de ciclos de manutenção: 12 2\n",
            "Tempos para manutenções preventivas: [0, 156, 333, 368, 427, 668, 878, 933, 990, 1232, 1267, 1351, 1387]\n",
            "Severidade para cada subsistema: [1.0, 1.0, 1.0, 1.0, 1.0, 1.0, 1.0, 1.0, 1.0, 1.0, 1.0, 1.0]\n",
            "Número de Sisemas: 2\n",
            "Fator:  [0.329627346089734, 0.43521856256562297, 0.43521856256562297, 0.43521856256562297, 0.43521856256562297, 0.43521856256562297, 0.43521856256562297, 0.43521856256562297, 0.43521856256562297, 0.43521856256562297, 0.43521856256562297, 0.43521856256562297, 0.43521856256562297]\n",
            "Media de falhas:  [0, 1.0466163590453064, 2.237062502871031, 2.4725104443408537, 2.869527279086141, 4.492621642440782, 5.907826080385609, 6.278544538024243, 6.662791754639056, 8.294835742153662, 8.53090140847971, 9.09753029953481, 9.34038704116985, 9.832896578223131]\n",
            "Custo =  1564.0685157178684\n",
            "\n",
            "=========================================================================\n",
            "\n",
            "Número de ciclos de manutenção: 14 2\n",
            "Tempos para manutenções preventivas: [0, 93, 274, 398, 511, 543, 570, 603, 752, 782, 908, 964, 994, 1117, 1172]\n",
            "Severidade para cada subsistema: [1.0, 1.0, 1.0, 1.0, 1.0, 1.0, 1.0, 1.0, 1.0, 1.0, 1.0, 1.0, 1.0, 1.0]\n",
            "Número de Sisemas: 2\n",
            "Fator:  [0.329627346089734, 0.43521856256562297, 0.43521856256562297, 0.43521856256562297, 0.43521856256562297, 0.43521856256562297, 0.43521856256562297, 0.43521856256562297, 0.43521856256562297, 0.43521856256562297, 0.43521856256562297, 0.43521856256562297, 0.43521856256562297, 0.43521856256562297, 0.43521856256562297]\n",
            "Media de falhas:  [0, 0.6232656365507941, 1.839943565405585, 2.674172549703743, 3.434825822026677, 3.650271033915257, 3.8320720670667794, 4.054299201890976, 5.058108861387204, 5.2602449464900936, 6.109458315788299, 6.48694315988717, 6.689181732455138, 7.518544694484569, 7.8894423108447995, 9.832403011569465]\n",
            "Custo =  1821.508221815425\n",
            "\n",
            "=========================================================================\n",
            "\n",
            "Número de ciclos de manutenção: 16 2\n",
            "Tempos para manutenções preventivas: [0, 34, 90, 151, 182, 248, 272, 305, 336, 483, 511, 548, 720, 758, 962, 995, 1177]\n",
            "Severidade para cada subsistema: [1.0, 1.0, 1.0, 1.0, 1.0, 1.0, 1.0, 1.0, 1.0, 1.0, 1.0, 1.0, 1.0, 1.0, 1.0, 1.0]\n",
            "Número de Sisemas: 2\n",
            "Fator:  [0.329627346089734, 0.43521856256562297, 0.43521856256562297, 0.43521856256562297, 0.43521856256562297, 0.43521856256562297, 0.43521856256562297, 0.43521856256562297, 0.43521856256562297, 0.43521856256562297, 0.43521856256562297, 0.43521856256562297, 0.43521856256562297, 0.43521856256562297, 0.43521856256562297, 0.43521856256562297, 0.43521856256562297]\n",
            "Media de falhas:  [0, 0.22737861528445635, 0.6029454805322422, 1.012477698956103, 1.220703535674819, 1.6642956317393027, 1.8256433189973755, 2.047548521274866, 2.2560483880390434, 3.245419470740802, 3.4339101534703076, 3.6830228882823643, 4.841659062666025, 5.097680505472823, 6.472729225840513, 6.69519195384467, 7.92249696013063, 9.831728083742048]\n",
            "Custo =  2088.5874285189357\n",
            "\n",
            "=========================================================================\n",
            "\n",
            "Número de ciclos de manutenção: 6 2\n",
            "Tempos para manutenções preventivas: [0, 663, 993, 1175, 1233, 1268, 1382]\n",
            "Severidade para cada subsistema: [1.0, 1.0, 1.0, 1.0, 1.0, 1.0]\n",
            "Número de Sisemas: 2\n",
            "Fator:  [0.329627346089734, 0.43521856256562297, 0.43521856256562297, 0.43521856256562297, 0.43521856256562297, 0.43521856256562297, 0.43521856256562297]\n",
            "Media de falhas:  [0, 4.461682793836151, 6.686650083336838, 7.9139505890255775, 8.305120732966172, 8.541186792509198, 9.310215415888354, 9.836457993203739]\n",
            "Custo =  833.3225287423085\n",
            "\n",
            "=========================================================================\n",
            "\n",
            "Número de ciclos de manutenção: 15 2\n",
            "Tempos para manutenções preventivas: [0, 32, 121, 153, 184, 330, 395, 601, 726, 785, 810, 1110, 1143, 1170, 1203, 1354]\n",
            "Severidade para cada subsistema: [1.0, 1.0, 1.0, 1.0, 1.0, 1.0, 1.0, 1.0, 1.0, 1.0, 1.0, 1.0, 1.0, 1.0, 1.0]\n",
            "Número de Sisemas: 2\n",
            "Fator:  [0.329627346089734, 0.43521856256562297, 0.43521856256562297, 0.43521856256562297, 0.43521856256562297, 0.43521856256562297, 0.43521856256562297, 0.43521856256562297, 0.43521856256562297, 0.43521856256562297, 0.43521856256562297, 0.43521856256562297, 0.43521856256562297, 0.43521856256562297, 0.43521856256562297, 0.43521856256562297]\n",
            "Media de falhas:  [0, 0.21397610502422967, 0.8111455693735377, 1.0260068790611907, 1.234237637773264, 2.21602249877649, 2.6533383838556315, 4.040417249092155, 4.882484899899379, 5.280018384305853, 5.448477921842224, 7.471170672057887, 7.693698568519126, 7.87577606270152, 8.098327999075495, 9.116900908255563, 9.83204725758468]\n",
            "Custo =  1956.7912576111755\n",
            "\n",
            "=========================================================================\n",
            "\n",
            "Número de ciclos de manutenção: 14 2\n",
            "Tempos para manutenções preventivas: [0, 38, 123, 187, 245, 308, 484, 573, 605, 816, 900, 1147, 1207, 1232, 1265]\n",
            "Severidade para cada subsistema: [1.0, 1.0, 1.0, 1.0, 1.0, 1.0, 1.0, 1.0, 1.0, 1.0, 1.0, 1.0, 1.0, 1.0]\n",
            "Número de Sisemas: 2\n",
            "Fator:  [0.329627346089734, 0.43521856256562297, 0.43521856256562297, 0.43521856256562297, 0.43521856256562297, 0.43521856256562297, 0.43521856256562297, 0.43521856256562297, 0.43521856256562297, 0.43521856256562297, 0.43521856256562297, 0.43521856256562297, 0.43521856256562297, 0.43521856256562297, 0.43521856256562297]\n",
            "Media de falhas:  [0, 0.2541885235486378, 0.8245727452988083, 1.254452634001865, 1.6442706382414483, 2.067902783720012, 3.252428085552319, 3.8516852174097247, 4.067179805950643, 5.488893126215043, 6.055032839108568, 7.7205344965084155, 8.125174828230579, 8.293783538090484, 8.516359085827212, 9.831934183550825]\n",
            "Custo =  1815.426561440916\n",
            "\n",
            "=========================================================================\n",
            "\n",
            "Número de ciclos de manutenção: 10 2\n",
            "Tempos para manutenções preventivas: [0, 121, 180, 301, 605, 664, 725, 811, 872, 1140, 1206]\n",
            "Severidade para cada subsistema: [1.0, 1.0, 1.0, 1.0, 1.0, 1.0, 1.0, 1.0, 1.0, 1.0]\n",
            "Número de Sisemas: 2\n",
            "Fator:  [0.329627346089734, 0.43521856256562297, 0.43521856256562297, 0.43521856256562297, 0.43521856256562297, 0.43521856256562297, 0.43521856256562297, 0.43521856256562297, 0.43521856256562297, 0.43521856256562297, 0.43521856256562297]\n",
            "Media de falhas:  [0, 0.8113647155780206, 1.2077363624272093, 2.021268016967306, 4.068067129579344, 4.465459031578137, 4.876398403197068, 5.455888434870687, 5.866989148237888, 7.674055153175875, 8.119158134448899, 9.832755780774713]\n",
            "Custo =  1307.450621245211\n",
            "\n",
            "=========================================================================\n",
            "\n",
            "Número de ciclos de manutenção: 2 2\n",
            "Tempos para manutenções preventivas: [0, 480, 601]\n",
            "Severidade para cada subsistema: [1.0, 1.0]\n",
            "Número de Sisemas: 2\n",
            "Fator:  [0.329627346089734, 0.43521856256562297, 0.43521856256562297]\n",
            "Media de falhas:  [0, 3.227983021542424, 4.043018268703552, 9.836958285374232]\n",
            "Custo =  348.10296266349184\n",
            "\n",
            "=========================================================================\n",
            "\n",
            "Número de ciclos de manutenção: 7 2\n",
            "Tempos para manutenções preventivas: [0, 152, 336, 691, 780, 902, 1267, 1321]\n",
            "Severidade para cada subsistema: [1.0, 1.0, 1.0, 1.0, 1.0, 1.0, 1.0]\n",
            "Número de Sisemas: 2\n",
            "Fator:  [0.329627346089734, 0.43521856256562297, 0.43521856256562297, 0.43521856256562297, 0.43521856256562297, 0.43521856256562297, 0.43521856256562297, 0.43521856256562297]\n",
            "Media de falhas:  [0, 1.0197243055154457, 2.257253736880563, 4.648081513393606, 5.247735648228496, 6.069979329908145, 8.53158867323242, 8.895834998754133, 9.83361507577929]\n",
            "Custo =  941.0903162333636\n",
            "\n",
            "=========================================================================\n",
            "\n",
            "Número de ciclos de manutenção: 12 2\n",
            "Tempos para manutenções preventivas: [0, 32, 240, 308, 391, 480, 571, 691, 783, 1086, 1116, 1238, 1322]\n",
            "Severidade para cada subsistema: [1.0, 1.0, 1.0, 1.0, 1.0, 1.0, 1.0, 1.0, 1.0, 1.0, 1.0, 1.0]\n",
            "Número de Sisemas: 2\n",
            "Fator:  [0.329627346089734, 0.43521856256562297, 0.43521856256562297, 0.43521856256562297, 0.43521856256562297, 0.43521856256562297, 0.43521856256562297, 0.43521856256562297, 0.43521856256562297, 0.43521856256562297, 0.43521856256562297, 0.43521856256562297, 0.43521856256562297]\n",
            "Media de falhas:  [0, 0.21397610502422967, 1.611314486388548, 2.0685654403830567, 2.626962658179373, 3.2259902675775116, 3.8387085056547803, 4.647008990491476, 5.266880538356257, 7.309698731194705, 7.511986746922754, 8.334787861537048, 8.901390666194349, 9.83242431400344]\n",
            "Custo =  1555.0458474035909\n",
            "\n",
            "=========================================================================\n",
            "\n",
            "Número de ciclos de manutenção: 5 2\n",
            "Tempos para manutenções preventivas: [0, 241, 691, 723, 1261, 1323]\n",
            "Severidade para cada subsistema: [1.0, 1.0, 1.0, 1.0, 1.0]\n",
            "Número de Sisemas: 2\n",
            "Fator:  [0.329627346089734, 0.43521856256562297, 0.43521856256562297, 0.43521856256562297, 0.43521856256562297, 0.43521856256562297]\n",
            "Media de falhas:  [0, 1.61836853505566, 4.649185923818056, 4.8647618237455506, 8.492823511530956, 8.911032918567033, 9.835320134136477]\n",
            "Custo =  712.3487241739319\n",
            "\n",
            "=========================================================================\n",
            "\n",
            "Número de ciclos de manutenção: 4 2\n",
            "Tempos para manutenções preventivas: [0, 483, 665, 726, 1321]\n",
            "Severidade para cada subsistema: [1.0, 1.0, 1.0, 1.0]\n",
            "Número de Sisemas: 2\n",
            "Fator:  [0.329627346089734, 0.43521856256562297, 0.43521856256562297, 0.43521856256562297, 0.43521856256562297]\n",
            "Media de falhas:  [0, 3.248200499651112, 4.474321722447634, 4.885262299797001, 8.898048097422148, 9.835828174447306]\n",
            "Custo =  585.8549807653366\n",
            "\n",
            "=========================================================================\n",
            "\n",
            "Número de ciclos de manutenção: 7 2\n",
            "Tempos para manutenções preventivas: [0, 38, 244, 336, 423, 938, 1320, 1410]\n",
            "Severidade para cada subsistema: [1.0, 1.0, 1.0, 1.0, 1.0, 1.0, 1.0]\n",
            "Número de Sisemas: 2\n",
            "Fator:  [0.329627346089734, 0.43521856256562297, 0.43521856256562297, 0.43521856256562297, 0.43521856256562297, 0.43521856256562297, 0.43521856256562297, 0.43521856256562297]\n",
            "Media de falhas:  [0, 0.2541885235486378, 1.6381993318787622, 2.256933089814604, 2.8423393504580634, 6.3128718435455085, 8.889352180436038, 9.496508890750368, 9.833845603650111]\n",
            "Custo =  950.9342493193082\n",
            "\n",
            "=========================================================================\n",
            "\n",
            "Número de ciclos de manutenção: 7 2\n",
            "Tempos para manutenções preventivas: [0, 180, 304, 486, 905, 991, 1260, 1352]\n",
            "Severidade para cada subsistema: [1.0, 1.0, 1.0, 1.0, 1.0, 1.0, 1.0]\n",
            "Número de Sisemas: 2\n",
            "Fator:  [0.329627346089734, 0.43521856256562297, 0.43521856256562297, 0.43521856256562297, 0.43521856256562297, 0.43521856256562297, 0.43521856256562297, 0.43521856256562297]\n",
            "Media de falhas:  [0, 1.2079979454411232, 2.0419163144379353, 3.2668271434702314, 6.090368907858501, 6.670106744054862, 8.484312601448442, 9.10490609562166, 9.833545488088154]\n",
            "Custo =  938.7999779055253\n",
            "\n",
            "=========================================================================\n",
            "\n",
            "Número de ciclos de manutenção: 9 2\n",
            "Tempos para manutenções preventivas: [0, 181, 422, 603, 812, 900, 992, 1116, 1206, 1268]\n",
            "Severidade para cada subsistema: [1.0, 1.0, 1.0, 1.0, 1.0, 1.0, 1.0, 1.0, 1.0]\n",
            "Número de Sisemas:"
          ]
        },
        {
          "output_type": "stream",
          "name": "stderr",
          "text": [
            "pyswarms.single.global_best:  23%|██▎       |23/100, best_cost=348"
          ]
        },
        {
          "output_type": "stream",
          "name": "stdout",
          "text": [
            " 2\n",
            "Fator:  [0.329627346089734, 0.43521856256562297, 0.43521856256562297, 0.43521856256562297, 0.43521856256562297, 0.43521856256562297, 0.43521856256562297, 0.43521856256562297, 0.43521856256562297, 0.43521856256562297]\n",
            "Media de falhas:  [0, 1.2147232057195656, 2.836356076231545, 4.055132481423681, 5.46335596986351, 6.05645393000024, 6.676638818108717, 7.512742736647701, 8.11969797124426, 8.537869785791328, 9.833206123292609]\n",
            "Custo =  1178.3868914435661\n",
            "\n",
            "=========================================================================\n",
            "\n",
            "Número de ciclos de manutenção: 11 2\n",
            "Tempos para manutenções preventivas: [0, 182, 241, 337, 367, 428, 488, 603, 727, 813, 990, 1086]\n",
            "Severidade para cada subsistema: [1.0, 1.0, 1.0, 1.0, 1.0, 1.0, 1.0, 1.0, 1.0, 1.0, 1.0]\n",
            "Número de Sisemas: 2\n",
            "Fator:  [0.329627346089734, 0.43521856256562297, 0.43521856256562297, 0.43521856256562297, 0.43521856256562297, 0.43521856256562297, 0.43521856256562297, 0.43521856256562297, 0.43521856256562297, 0.43521856256562297, 0.43521856256562297, 0.43521856256562297]\n",
            "Media de falhas:  [0, 1.221448544181964, 1.6180874166418637, 2.263723643862747, 2.465535802674075, 2.8760122718542473, 3.2798736343626596, 4.054268244829223, 4.88960224175025, 5.469095322852448, 6.662238772121069, 7.309512343708747, 9.832605320721775]\n",
            "Custo =  1431.8954237898204\n",
            "\n",
            "=========================================================================\n",
            "\n",
            "Número de ciclos de manutenção: 9 2\n",
            "Tempos para manutenções preventivas: [0, 180, 304, 424, 600, 664, 812, 874, 935, 1354]\n",
            "Severidade para cada subsistema: [1.0, 1.0, 1.0, 1.0, 1.0, 1.0, 1.0, 1.0, 1.0]\n",
            "Número de Sisemas: 2\n",
            "Fator:  [0.329627346089734, 0.43521856256562297, 0.43521856256562297, 0.43521856256562297, 0.43521856256562297, 0.43521856256562297, 0.43521856256562297, 0.43521856256562297, 0.43521856256562297, 0.43521856256562297]\n",
            "Media de falhas:  [0, 1.2079979454411232, 2.0419163144379353, 2.8493523172740156, 4.034451982738273, 4.465520201722037, 5.462759651006854, 5.880601618191384, 6.291763223020752, 9.11792416437787, 9.833070513706987]\n",
            "Custo =  1182.5812414849984\n",
            "\n",
            "=========================================================================\n",
            "\n",
            "Número de ciclos de manutenção: 7 2\n",
            "Tempos para manutenções preventivas: [0, 488, 573, 690, 905, 1200, 1320, 1358]\n",
            "Severidade para cada subsistema: [1.0, 1.0, 1.0, 1.0, 1.0, 1.0, 1.0]\n",
            "Número de Sisemas: 2\n",
            "Fator:  [0.329627346089734, 0.43521856256562297, 0.43521856256562297, 0.43521856256562297, 0.43521856256562297, 0.43521856256562297, 0.43521856256562297, 0.43521856256562297]\n",
            "Media de falhas:  [0, 3.2818968828815467, 3.854404204837097, 4.642495898045754, 6.091488944645848, 8.080816341148873, 8.890239979093959, 9.146577230972472, 9.834737460089485]\n",
            "Custo =  946.5305228008847\n",
            "\n",
            "=========================================================================\n",
            "\n",
            "Número de ciclos de manutenção: 2 2\n",
            "Tempos para manutenções preventivas: [0, 690, 1321]\n",
            "Severidade para cada subsistema: [1.0, 1.0]\n",
            "Número de Sisemas: 2\n",
            "Fator:  [0.329627346089734, 0.43521856256562297, 0.43521856256562297]\n",
            "Media de falhas:  [0, 4.643770304636511, 8.900218005164394, 9.837998082189552]\n",
            "Custo =  347.8700841903026\n",
            "\n",
            "=========================================================================\n",
            "\n",
            "Número de ciclos de manutenção: 9 2\n",
            "Tempos para manutenções preventivas: [0, 248, 307, 571, 660, 691, 726, 1085, 1116, 1321]\n",
            "Severidade para cada subsistema: [1.0, 1.0, 1.0, 1.0, 1.0, 1.0, 1.0, 1.0, 1.0]\n",
            "Número de Sisemas: 2\n",
            "Fator:  [0.329627346089734, 0.43521856256562297, 0.43521856256562297, 0.43521856256562297, 0.43521856256562297, 0.43521856256562297, 0.43521856256562297, 0.43521856256562297, 0.43521856256562297, 0.43521856256562297]\n",
            "Media de falhas:  [0, 1.6654754259222806, 2.0623303417892114, 3.8396413138397003, 4.4390807620477295, 4.647899989460092, 4.883687934440657, 7.303996047147798, 7.513026948549354, 8.895766458674178, 9.833546535699336]\n",
            "Custo =  1202.680263568492\n",
            "\n",
            "=========================================================================\n",
            "\n",
            "Número de ciclos de manutenção: 8 2\n",
            "Tempos para manutenções preventivas: [0, 332, 366, 486, 666, 692, 782, 906, 1322]\n",
            "Severidade para cada subsistema: [1.0, 1.0, 1.0, 1.0, 1.0, 1.0, 1.0, 1.0]\n",
            "Número de Sisemas: 2\n",
            "Fator:  [0.329627346089734, 0.43521856256562297, 0.43521856256562297, 0.43521856256562297, 0.43521856256562297, 0.43521856256562297, 0.43521856256562297, 0.43521856256562297, 0.43521856256562297]\n",
            "Media de falhas:  [0, 2.2309570152048055, 2.4597517069989645, 3.2674316934556784, 4.479743567992628, 4.654883146721787, 5.261278050203855, 6.0970084813418435, 8.90278656028661, 9.833820208095702]\n",
            "Custo =  1075.9738826041164\n",
            "\n",
            "=========================================================================\n",
            "\n",
            "Número de ciclos de manutenção: 11 2\n",
            "Tempos para manutenções preventivas: [0, 331, 482, 570, 667, 695, 720, 782, 818, 1085, 1322, 1351]\n",
            "Severidade para cada subsistema: [1.0, 1.0, 1.0, 1.0, 1.0, 1.0, 1.0, 1.0, 1.0, 1.0, 1.0]\n",
            "Número de Sisemas: 2\n",
            "Fator:  [0.329627346089734, 0.43521856256562297, 0.43521856256562297, 0.43521856256562297, 0.43521856256562297, 0.43521856256562297, 0.43521856256562297, 0.43521856256562297, 0.43521856256562297, 0.43521856256562297, 0.43521856256562297, 0.43521856256562297]\n",
            "Media de falhas:  [0, 2.2242231469723674, 3.2407815951459487, 3.833299142825542, 4.486633033666858, 4.675246469253775, 4.843664092313071, 5.261407283254574, 5.503993194585853, 7.304121267459781, 8.9026923159007, 9.09831631210278, 9.833702221875125]\n",
            "Custo =  1455.4571363617422\n",
            "\n",
            "=========================================================================\n",
            "\n",
            "Número de ciclos de manutenção: 6 2\n",
            "Tempos para manutenções preventivas: [0, 302, 425, 661, 696, 901, 1322]\n",
            "Severidade para cada subsistema: [1.0, 1.0, 1.0, 1.0, 1.0, 1.0]\n",
            "Número de Sisemas: 2\n",
            "Fator:  [0.329627346089734, 0.43521856256562297, 0.43521856256562297, 0.43521856256562297, 0.43521856256562297, 0.43521856256562297, 0.43521856256562297]\n",
            "Media de falhas:  [0, 2.02896013759978, 2.856812919458695, 4.446200816652576, 4.681967692897496, 6.063558250463758, 8.903054737712939, 9.83408838552203]\n",
            "Custo =  825.0592007569937\n",
            "\n",
            "=========================================================================\n",
            "\n",
            "Número de ciclos de manutenção: 5 2\n",
            "Tempos para manutenções preventivas: [0, 151, 240, 578, 696, 1322]\n",
            "Severidade para cada subsistema: [1.0, 1.0, 1.0, 1.0, 1.0]\n",
            "Número de Sisemas: 2\n",
            "Fator:  [0.329627346089734, 0.43521856256562297, 0.43521856256562297, 0.43521856256562297, 0.43521856256562297, 0.43521856256562297]\n",
            "Media de falhas:  [0, 1.0130015232918275, 1.6112601321345523, 3.886629592525313, 4.681471599427953, 8.903275890540465, 9.834309538349556]\n",
            "Custo =  701.8698088284084\n",
            "\n",
            "=========================================================================\n",
            "\n",
            "Número de ciclos de manutenção: 8 2\n",
            "Tempos para manutenções preventivas: [0, 155, 303, 694, 725, 815, 871, 903, 1321]\n",
            "Severidade para cada subsistema: [1.0, 1.0, 1.0, 1.0, 1.0, 1.0, 1.0, 1.0]\n",
            "Número de Sisemas: 2\n",
            "Fator:  [0.329627346089734, 0.43521856256562297, 0.43521856256562297, 0.43521856256562297, 0.43521856256562297, 0.43521856256562297, 0.43521856256562297, 0.43521856256562297, 0.43521856256562297]\n",
            "Media de falhas:  [0, 1.039893208165897, 2.035137765133225, 4.668350319221778, 4.87719076984939, 5.483639289378342, 5.861042911998521, 6.07672018262864, 8.895980846925443, 9.833760923950601]\n",
            "Custo =  1077.5662224370676\n",
            "\n",
            "=========================================================================\n",
            "\n",
            "Número de ciclos de manutenção: 6 2\n",
            "Tempos para manutenções preventivas: [0, 154, 335, 422, 488, 691, 1320]\n",
            "Severidade para cada subsistema: [1.0, 1.0, 1.0, 1.0, 1.0, 1.0]\n",
            "Número de Sisemas: 2\n",
            "Fator:  [0.329627346089734, 0.43521856256562297, 0.43521856256562297, 0.43521856256562297, 0.43521856256562297, 0.43521856256562297, 0.43521856256562297]\n",
            "Media de falhas:  [0, 1.0331701485555542, 2.250523781152487, 2.8359270204087172, 3.2801727732364134, 4.6474834466975015, 8.889498823618524, 9.834025326830103]\n",
            "Custo =  821.9789952370883\n",
            "\n",
            "=========================================================================\n",
            "\n",
            "Número de ciclos de manutenção: 7 2\n",
            "Tempos para manutenções preventivas: [0, 570, 690, 815, 875, 904, 1080, 1320]\n",
            "Severidade para cada subsistema: [1.0, 1.0, 1.0, 1.0, 1.0, 1.0, 1.0]\n",
            "Número de Sisemas: 2\n",
            "Fator:  [0.329627346089734, 0.43521856256562297, 0.43521856256562297, 0.43521856256562297, 0.43521856256562297, 0.43521856256562297, 0.43521856256562297, 0.43521856256562297]\n",
            "Media de falhas:  [0, 3.8346161978835345, 4.6431648755071215, 5.485442856812964, 5.8898072942722655, 6.085265447306074, 7.271891726283487, 8.89069123767208, 9.835217740883659]\n",
            "Custo =  951.074963969219\n",
            "\n",
            "=========================================================================\n",
            "\n",
            "Número de ciclos de manutenção: 5 2\n",
            "Tempos para manutenções preventivas: [0, 245, 424, 691, 725, 1320]\n",
            "Severidade para cada subsistema: [1.0, 1.0, 1.0, 1.0, 1.0]\n",
            "Número de Sisemas: 2\n",
            "Fator:  [0.329627346089734, 0.43521856256562297, 0.43521856256562297, 0.43521856256562297, 0.43521856256562297, 0.43521856256562297]\n",
            "Media de falhas:  [0, 1.6452864111432122, 2.8499165024073267, 4.64822134317888, 4.877271906367527, 8.89005051615205, 9.834577019363628]\n",
            "Custo =  707.5958883393192\n"
          ]
        },
        {
          "output_type": "stream",
          "name": "stderr",
          "text": [
            "pyswarms.single.global_best:  37%|███▋      |37/100, best_cost=348"
          ]
        },
        {
          "output_type": "stream",
          "name": "stdout",
          "text": [
            "\n",
            "=========================================================================\n",
            "\n",
            "Número de ciclos de manutenção: 6 2\n",
            "Tempos para manutenções preventivas: [0, 487, 693, 870, 902, 1111, 1320]\n",
            "Severidade para cada subsistema: [1.0, 1.0, 1.0, 1.0, 1.0, 1.0]\n",
            "Número de Sisemas: 2\n",
            "Fator:  [0.329627346089734, 0.43521856256562297, 0.43521856256562297, 0.43521856256562297, 0.43521856256562297, 0.43521856256562297, 0.43521856256562297]\n",
            "Media de falhas:  [0, 3.275157547878523, 4.6630619531145605, 5.855870433815484, 6.071547199374489, 7.480737400611134, 8.890453449036531, 9.83497995224811]\n",
            "Custo =  826.1949029999003\n",
            "\n",
            "=========================================================================\n",
            "\n",
            "Número de ciclos de manutenção: 8 2\n",
            "Tempos para manutenções preventivas: [0, 244, 336, 425, 575, 695, 782, 1087, 1321]\n",
            "Severidade para cada subsistema: [1.0, 1.0, 1.0, 1.0, 1.0, 1.0, 1.0, 1.0]\n",
            "Número de Sisemas: 2\n",
            "Fator:  [0.329627346089734, 0.43521856256562297, 0.43521856256562297, 0.43521856256562297, 0.43521856256562297, 0.43521856256562297, 0.43521856256562297, 0.43521856256562297, 0.43521856256562297]\n",
            "Media de falhas:  [0, 1.63855685483235, 2.2574646586673084, 2.8563336450843946, 3.8662852089886446, 4.674595792643143, 5.260778228656231, 7.317082966739633, 8.89541761194778, 9.833197688972938]\n",
            "Custo =  1057.3784907642712\n",
            "\n",
            "=========================================================================\n",
            "\n",
            "Número de ciclos de manutenção: 7 2\n",
            "Tempos para manutenções preventivas: [0, 301, 695, 726, 781, 1111, 1321, 1386]\n",
            "Severidade para cada subsistema: [1.0, 1.0, 1.0, 1.0, 1.0, 1.0, 1.0]\n",
            "Número de Sisemas: 2\n",
            "Fator:  [0.329627346089734, 0.43521856256562297, 0.43521856256562297, 0.43521856256562297, 0.43521856256562297, 0.43521856256562297, 0.43521856256562297, 0.43521856256562297]\n",
            "Media de falhas:  [0, 2.0222276132985546, 4.676158017302365, 4.884999076909854, 5.255577654432956, 7.480518375794459, 8.896981428291852, 9.335469690253811, 9.834725840662097]\n",
            "Custo =  953.6460508238403\n",
            "\n",
            "=========================================================================\n",
            "\n",
            "Número de ciclos de manutenção: 7 2\n",
            "Tempos para manutenções preventivas: [0, 150, 243, 422, 485, 695, 817, 1322]\n",
            "Severidade para cada subsistema: [1.0, 1.0, 1.0, 1.0, 1.0, 1.0, 1.0]\n",
            "Número de Sisemas: 2\n",
            "Fator:  [0.329627346089734, 0.43521856256562297, 0.43521856256562297, 0.43521856256562297, 0.43521856256562297, 0.43521856256562297, 0.43521856256562297, 0.43521856256562297]\n",
            "Media de falhas:  [0, 1.0062788347498806, 1.6314358530052673, 2.8357663430449347, 3.259814334968298, 4.674285616662019, 5.496354277723704, 8.902296459053549, 9.83333010686264]\n",
            "Custo =  939.9534182262983\n",
            "\n",
            "=========================================================================\n",
            "\n",
            "Número de ciclos de manutenção: 6 2\n",
            "Tempos para manutenções preventivas: [0, 151, 332, 694, 1086, 1322, 1384]\n",
            "Severidade para cada subsistema: [1.0, 1.0, 1.0, 1.0, 1.0, 1.0]\n",
            "Número de Sisemas: 2\n",
            "Fator:  [0.329627346089734, 0.43521856256562297, 0.43521856256562297, 0.43521856256562297, 0.43521856256562297, 0.43521856256562297, 0.43521856256562297]\n",
            "Media de falhas:  [0, 1.0130015232918275, 2.230326158090575, 4.668306652203331, 7.311061324972567, 8.902887772351196, 9.32113707922399, 9.83388644839993]\n",
            "Custo =  821.9156243285069\n",
            "\n",
            "=========================================================================\n",
            "\n",
            "Número de ciclos de manutenção: 5 2\n",
            "Tempos para manutenções preventivas: [0, 151, 240, 420, 692, 1321]\n",
            "Severidade para cada subsistema: [1.0, 1.0, 1.0, 1.0, 1.0]\n",
            "Número de Sisemas: 2\n",
            "Fator:  [0.329627346089734, 0.43521856256562297, 0.43521856256562297, 0.43521856256562297, 0.43521856256562297, 0.43521856256562297]\n",
            "Media de falhas:  [0, 1.0130015232918275, 1.6112601321345523, 2.822303663996758, 4.654283860448842, 8.896306926740248, 9.834087003765406]\n",
            "Custo =  700.887367710956\n",
            "\n",
            "=========================================================================\n",
            "\n",
            "Número de ciclos de manutenção: 7 2\n",
            "Tempos para manutenções preventivas: [0, 152, 488, 691, 724, 817, 902, 1320]\n",
            "Severidade para cada subsistema: [1.0, 1.0, 1.0, 1.0, 1.0, 1.0, 1.0]\n",
            "Número de Sisemas: 2\n",
            "Fator:  [0.329627346089734, 0.43521856256562297, 0.43521856256562297, 0.43521856256562297, 0.43521856256562297, 0.43521856256562297, 0.43521856256562297, 0.43521856256562297]\n",
            "Media de falhas:  [0, 1.0197243055154457, 3.2809746613501733, 4.648285334811261, 4.870598549622625, 5.497264593362385, 6.070146586933519, 8.88940245136879, 9.833928954580369]\n",
            "Custo =  946.6996925621052\n",
            "\n",
            "=========================================================================\n",
            "\n",
            "Número de ciclos de manutenção: 8 2\n",
            "Tempos para manutenções preventivas: [0, 152, 331, 425, 691, 1208, 1320, 1354, 1387]\n",
            "Severidade para cada subsistema: [1.0, 1.0, 1.0, 1.0, 1.0, 1.0, 1.0, 1.0]\n",
            "Número de Sisemas: 2\n",
            "Fator:  [0.329627346089734, 0.43521856256562297, 0.43521856256562297, 0.43521856256562297, 0.43521856256562297, 0.43521856256562297, 0.43521856256562297, 0.43521856256562297, 0.43521856256562297]\n",
            "Media de falhas:  [0, 1.0197243055154457, 2.223595502078082, 2.856106002491672, 4.6476769550544965, 8.133805277097437, 8.889268683860609, 9.118621812640091, 9.341240615647568, 9.83375015270085]\n",
            "Custo =  1074.959573433361\n",
            "\n",
            "=========================================================================\n",
            "\n",
            "Número de ciclos de manutenção: 5 2\n",
            "Tempos para manutenções preventivas: [0, 153, 693, 873, 1320, 1353]\n",
            "Severidade para cada subsistema: [1.0, 1.0, 1.0, 1.0, 1.0]\n",
            "Número de Sisemas: 2\n",
            "Fator:  [0.329627346089734, 0.43521856256562297, 0.43521856256562297, 0.43521856256562297, 0.43521856256562297, 0.43521856256562297]\n",
            "Media de falhas:  [0, 1.0264471808056916, 4.662817318633515, 5.8758504487639405, 8.890669874989445, 9.113277018460623, 9.835169890777404]\n",
            "Custo =  709.451201891839\n",
            "\n",
            "=========================================================================\n",
            "\n",
            "Número de ciclos de manutenção: 11 2\n",
            "Tempos para manutenções preventivas: [0, 150, 247, 304, 425, 488, 696, 728, 904, 1081, 1208, 1320]\n",
            "Severidade para cada subsistema: [1.0, 1.0, 1.0, 1.0, 1.0, 1.0, 1.0, 1.0, 1.0, 1.0, 1.0]\n",
            "Número de Sisemas: 2\n",
            "Fator:  [0.329627346089734, 0.43521856256562297, 0.43521856256562297, 0.43521856256562297, 0.43521856256562297, 0.43521856256562297, 0.43521856256562297, 0.43521856256562297, 0.43521856256562297, 0.43521856256562297, 0.43521856256562297, 0.43521856256562297]\n",
            "Media de falhas:  [0, 1.0062788347498806, 1.6583414284910019, 2.0416194926029947, 2.8557875755865236, 3.2798411780825694, 4.680847591228358, 4.896426634887867, 6.082595570043615, 7.27596605169455, 8.132442607172178, 8.88790601393535, 9.832432517146929]\n",
            "Custo =  1425.6760069189215\n",
            "\n",
            "=========================================================================\n",
            "\n",
            "Número de ciclos de manutenção: 6 2\n",
            "Tempos para manutenções preventivas: [0, 337, 570, 696, 724, 780, 1321]\n",
            "Severidade para cada subsistema: [1.0, 1.0, 1.0, 1.0, 1.0, 1.0]\n",
            "Número de Sisemas: 2\n",
            "Fator:  [0.329627346089734, 0.43521856256562297, 0.43521856256562297, 0.43521856256562297, 0.43521856256562297, 0.43521856256562297, 0.43521856256562297]\n",
            "Media de falhas:  [0, 2.264626994000682, 3.833659357103123, 4.682385542583162, 4.871015283475146, 5.24833048934565, 8.897013965027213, 9.834794042052371]\n",
            "Custo =  832.766184650124\n",
            "\n",
            "=========================================================================\n",
            "\n",
            "Número de ciclos de manutenção: 8 2\n",
            "Tempos para manutenções preventivas: [0, 424, 695, 725, 781, 870, 903, 1080, 1321]\n",
            "Severidade para cada subsistema: [1.0, 1.0, 1.0, 1.0, 1.0, 1.0, 1.0, 1.0]\n",
            "Número de Sisemas: 2\n",
            "Fator:  [0.329627346089734, 0.43521856256562297, 0.43521856256562297, 0.43521856256562297, 0.43521856256562297, 0.43521856256562297, 0.43521856256562297, 0.43521856256562297, 0.43521856256562297]\n",
            "Media de falhas:  [0, 2.8506408058852624, 4.676356768766495, 4.8784605048035266, 5.255776737736765, 5.855570842714971, 6.077987963431696, 7.271356059159909, 8.8969028016497, 9.834682878674858]\n",
            "Custo =  1077.3201331092484\n",
            "\n",
            "=========================================================================\n",
            "\n",
            "Número de ciclos de manutenção: 5 2\n",
            "Tempos para manutenções preventivas: [0, 487, 694, 781, 1230, 1322]\n",
            "Severidade para cada subsistema: [1.0, 1.0, 1.0, 1.0, 1.0]\n",
            "Número de Sisemas: 2\n",
            "Fator:  [0.329627346089734, 0.43521856256562297, 0.43521856256562297, 0.43521856256562297, 0.43521856256562297, 0.43521856256562297]\n",
            "Media de falhas:  [0, 3.275157547878523, 4.6698025528429765, 5.255983384824604, 8.283803223819413, 8.904367146404589, 9.83540079421368]\n",
            "Custo =  702.8947255996798\n",
            "\n",
            "=========================================================================\n",
            "\n",
            "Número de ciclos de manutenção: 6 2\n",
            "Tempos para manutenções preventivas: [0, 8, 422, 693, 901, 1233, 1321]\n",
            "Severidade para cada subsistema: [1.0, 1.0, 1.0, 1.0, 1.0, 1.0]\n",
            "Número de Sisemas: 2\n",
            "Fator:  [0.329627346089734, 0.43521856256562297, 0.43521856256562297, 0.43521856256562297, 0.43521856256562297, 0.43521856256562297, 0.43521856256562297]\n",
            "Media de falhas:  [0, 0.05333821104058538, 2.837011728747868, 4.662264162356441, 6.064071308676465, 8.303013934587934, 8.89659636923126, 9.834376446256417]\n",
            "Custo =  863.7189001228733\n",
            "\n",
            "=========================================================================\n",
            "\n",
            "Número de ciclos de manutenção: 7 2\n",
            "Tempos para manutenções preventivas: [0, 1, 244, 693, 871, 1086, 1114, 1321]\n",
            "Severidade para cada subsistema: [1.0, 1.0, 1.0, 1.0, 1.0, 1.0, 1.0]\n",
            "Número de Sisemas: 2\n",
            "Fator:  [0.329627346089734, 0.43521856256562297, 0.43521856256562297, 0.43521856256562297, 0.43521856256562297, 0.43521856256562297, 0.43521856256562297, 0.43521856256562297]\n",
            "Media de falhas:  [0, 0.006638167347123002, 1.6385304864013002, 4.662138556239939, 5.861688561852053, 7.311259388523963, 7.500060908538453, 8.89628984755235, 9.834069924577507]\n",
            "Custo =  1340.4032977404022\n"
          ]
        },
        {
          "output_type": "stream",
          "name": "stderr",
          "text": [
            "pyswarms.single.global_best:  53%|█████▎    |53/100, best_cost=348<ipython-input-288-d3a1771d0f23>:79: RuntimeWarning: divide by zero encountered in double_scalars\n",
            "  Ctotal.append((cmp + (mi[i+1] - mi[i])*CMC)/(T[i+1]-T[i]))\n",
            "pyswarms.single.global_best:  53%|█████▎    |53/100, best_cost=348"
          ]
        },
        {
          "output_type": "stream",
          "name": "stdout",
          "text": [
            "\n",
            "=========================================================================\n",
            "\n",
            "Número de ciclos de manutenção: 7 2\n",
            "Tempos para manutenções preventivas: [0, 152, 307, 428, 481, 693, 1205, 1321]\n",
            "Severidade para cada subsistema: [1.0, 1.0, 1.0, 1.0, 1.0, 1.0, 1.0]\n",
            "Número de Sisemas: 2\n",
            "Fator:  [0.329627346089734, 0.43521856256562297, 0.43521856256562297, 0.43521856256562297, 0.43521856256562297, 0.43521856256562297, 0.43521856256562297, 0.43521856256562297]\n",
            "Media de falhas:  [0, 1.0197243055154457, 2.062053936602939, 2.8762347664879235, 3.23296954367601, 4.6609009348711075, 8.113302124600565, 8.89574693527235, 9.833527012297507]\n",
            "Custo =  940.7363410999582\n",
            "\n",
            "=========================================================================\n",
            "\n",
            "Número de ciclos de manutenção: 10 2\n",
            "Tempos para manutenções preventivas: [0, 156, 247, 337, 693, 906, 1082, 1111, 1320, 1350, 1382]\n",
            "Severidade para cada subsistema: [1.0, 1.0, 1.0, 1.0, 1.0, 1.0, 1.0, 1.0, 1.0, 1.0]\n",
            "Número de Sisemas: 2\n",
            "Fator:  [0.329627346089734, 0.43521856256562297, 0.43521856256562297, 0.43521856256562297, 0.43521856256562297, 0.43521856256562297, 0.43521856256562297, 0.43521856256562297, 0.43521856256562297, 0.43521856256562297, 0.43521856256562297]\n",
            "Media de falhas:  [0, 1.0466163590453064, 1.6583571604129297, 2.2636456780684533, 4.661222823380328, 6.09674159366932, 7.283372614354521, 7.478915887743064, 8.888631936168462, 9.091001233207434, 9.306872406548864, 9.833114983864249]\n",
            "Custo =  1323.0416350715007\n",
            "\n",
            "=========================================================================\n",
            "\n",
            "Número de ciclos de manutenção: 9 2\n",
            "Tempos para manutenções preventivas: [0, 8, 156, 303, 425, 693, 811, 908, 1320, 1353]\n",
            "Severidade para cada subsistema: [1.0, 1.0, 1.0, 1.0, 1.0, 1.0, 1.0, 1.0, 1.0]\n",
            "Número de Sisemas: 2\n",
            "Fator:  [0.329627346089734, 0.43521856256562297, 0.43521856256562297, 0.43521856256562297, 0.43521856256562297, 0.43521856256562297, 0.43521856256562297, 0.43521856256562297, 0.43521856256562297, 0.43521856256562297]\n",
            "Media de falhas:  [0, 0.05333821104058538, 1.0464992908405693, 2.0348060932284104, 2.8557020068506827, 4.660752743607291, 5.4558570105792334, 6.109623099660482, 8.888416900501984, 9.111024043973162, 9.832916916289943]\n",
            "Custo =  1228.2976973211607\n",
            "\n",
            "=========================================================================\n",
            "\n",
            "Número de ciclos de manutenção: 6 2\n",
            "Tempos para manutenções preventivas: [0, 153, 244, 482, 693, 1320, 1352]\n",
            "Severidade para cada subsistema: [1.0, 1.0, 1.0, 1.0, 1.0, 1.0]\n",
            "Número de Sisemas: 2\n",
            "Fator:  [0.329627346089734, 0.43521856256562297, 0.43521856256562297, 0.43521856256562297, 0.43521856256562297, 0.43521856256562297, 0.43521856256562297]\n",
            "Media de falhas:  [0, 1.0264471808056916, 1.6381700462028523, 3.2398409471591076, 4.661037726940155, 8.88956886770367, 9.105430044099716, 9.83406943656621]\n",
            "Custo =  828.6833649277339\n",
            "\n",
            "=========================================================================\n",
            "\n",
            "Número de ciclos de manutenção: 4 2\n",
            "Tempos para manutenções preventivas: [0, 337, 423, 692, 1320]\n",
            "Severidade para cada subsistema: [1.0, 1.0, 1.0, 1.0]\n",
            "Número de Sisemas: 2\n",
            "Fator:  [0.329627346089734, 0.43521856256562297, 0.43521856256562297, 0.43521856256562297, 0.43521856256562297]\n",
            "Media de falhas:  [0, 2.264626994000682, 2.84347954004827, 4.655258157932785, 8.890531421238983, 9.835057924450561]\n",
            "Custo =  583.3235066223903\n",
            "\n",
            "=========================================================================\n",
            "\n",
            "Número de ciclos de manutenção: 7 2\n",
            "Tempos para manutenções preventivas: [0, 245, 307, 692, 780, 817, 900, 1321]\n",
            "Severidade para cada subsistema: [1.0, 1.0, 1.0, 1.0, 1.0, 1.0, 1.0]\n",
            "Número de Sisemas: 2\n",
            "Fator:  [0.329627346089734, 0.43521856256562297, 0.43521856256562297, 0.43521856256562297, 0.43521856256562297, 0.43521856256562297, 0.43521856256562297, 0.43521856256562297]\n",
            "Media de falhas:  [0, 1.6452864111432122, 2.0623177261596526, 4.655120180576294, 5.2480368639026445, 5.497360545808271, 6.056760684643889, 8.896252338108432, 9.83403241513359]\n",
            "Custo =  949.1461081511657\n",
            "\n",
            "=========================================================================\n",
            "\n",
            "Número de ciclos de manutenção: 4 2\n",
            "Tempos para manutenções preventivas: [0, 692, 781, 1201, 1321]\n",
            "Severidade para cada subsistema: [1.0, 1.0, 1.0, 1.0]\n",
            "Número de Sisemas: 2\n",
            "Fator:  [0.329627346089734, 0.43521856256562297, 0.43521856256562297, 0.43521856256562297, 0.43521856256562297]\n",
            "Media de falhas:  [0, 4.657258872171124, 5.257111052918466, 8.089249218629533, 8.898674162830941, 9.8364542398561]\n",
            "Custo =  585.22198922553\n",
            "\n",
            "=========================================================================\n",
            "\n",
            "Número de ciclos de manutenção: 5 2\n",
            "Tempos para manutenções preventivas: [0, 240, 337, 692, 720, 1321]\n",
            "Severidade para cada subsistema: [1.0, 1.0, 1.0, 1.0, 1.0]\n",
            "Número de Sisemas: 2\n",
            "Fator:  [0.329627346089734, 0.43521856256562297, 0.43521856256562297, 0.43521856256562297, 0.43521856256562297, 0.43521856256562297]\n",
            "Media de falhas:  [0, 1.611639212316374, 2.2641808310620997, 4.655017038474261, 4.843644569723854, 8.896884723164202, 9.83466480018936]\n",
            "Custo =  711.6247031908432\n",
            "\n",
            "=========================================================================\n",
            "\n",
            "Número de ciclos de manutenção: 7 2\n",
            "Tempos para manutenções preventivas: [0, 428, 692, 720, 815, 1087, 1321, 1388]\n",
            "Severidade para cada subsistema: [1.0, 1.0, 1.0, 1.0, 1.0, 1.0, 1.0]\n",
            "Número de Sisemas: 2\n",
            "Fator:  [0.329627346089734, 0.43521856256562297, 0.43521856256562297, 0.43521856256562297, 0.43521856256562297, 0.43521856256562297, 0.43521856256562297, 0.43521856256562297]\n",
            "Media de falhas:  [0, 2.87759049763032, 4.65614370925788, 4.844771240507473, 5.484910128193996, 7.318752516781985, 8.897087161990132, 9.34906857472327, 9.83483149578177]\n",
            "Custo =  952.2079212724348\n",
            "\n",
            "=========================================================================\n",
            "\n",
            "Número de ciclos de manutenção: 8 2\n",
            "Tempos para manutenções preventivas: [0, 154, 302, 422, 692, 904, 1087, 1202, 1321]\n",
            "Severidade para cada subsistema: [1.0, 1.0, 1.0, 1.0, 1.0, 1.0, 1.0, 1.0]\n",
            "Número de Sisemas: 2\n",
            "Fator:  [0.329627346089734, 0.43521856256562297, 0.43521856256562297, 0.43521856256562297, 0.43521856256562297, 0.43521856256562297, 0.43521856256562297, 0.43521856256562297, 0.43521856256562297]\n",
            "Media de falhas:  [0, 1.0331701485555542, 2.028406288573521, 2.8358337941849103, 4.654346285274173, 6.083119214905508, 7.316955344985689, 8.092499067687502, 8.89517898344569, 9.832959060470849]\n",
            "Custo =  1054.354972634616\n",
            "\n",
            "=========================================================================\n",
            "\n",
            "Número de ciclos de manutenção: 6 2\n",
            "Tempos para manutenções preventivas: [0, 0, 303, 336, 693, 1321, 1350]\n",
            "Severidade para cada subsistema: [1.0, 1.0, 1.0, 1.0, 1.0, 1.0]\n",
            "Número de Sisemas: 2\n",
            "Fator:  [0.329627346089734, 0.43521856256562297, 0.43521856256562297, 0.43521856256562297, 0.43521856256562297, 0.43521856256562297, 0.43521856256562297]\n",
            "Media de falhas:  [0, 0.0, 2.035692708809952, 2.2576437858519225, 4.661953434785453, 8.897234372468779, 9.092858063085115, 9.834990487313535]\n",
            "Custo =  inf\n",
            "\n",
            "=========================================================================\n",
            "\n",
            "Número de ciclos de manutenção: 8 2\n",
            "Tempos para manutenções preventivas: [0, 6, 244, 306, 692, 904, 1112, 1320, 1352]\n",
            "Severidade para cada subsistema: [1.0, 1.0, 1.0, 1.0, 1.0, 1.0, 1.0, 1.0]\n",
            "Número de Sisemas: 2\n",
            "Fator:  [0.329627346089734, 0.43521856256562297, 0.43521856256562297, 0.43521856256562297, 0.43521856256562297, 0.43521856256562297, 0.43521856256562297, 0.43521856256562297, 0.43521856256562297]\n",
            "Media de falhas:  [0, 0.039979450027109224, 1.6384484150598135, 2.05535082329846, 4.654885169704581, 6.083658099335917, 7.486108955796729, 8.889080311102656, 9.104941487498703, 9.833580879965197]\n",
            "Custo =  1127.2527661506385\n",
            "\n",
            "=========================================================================\n",
            "\n",
            "Número de ciclos de manutenção: 5 2\n",
            "Tempos para manutenções preventivas: [0, 6, 693, 1207, 1321, 1383]\n",
            "Severidade para cada subsistema: [1.0, 1.0, 1.0, 1.0, 1.0]\n",
            "Número de Sisemas: 2\n",
            "Fator:  [0.329627346089734, 0.43521856256562297, 0.43521856256562297, 0.43521856256562297, 0.43521856256562297, 0.43521856256562297]\n",
            "Media de falhas:  [0, 0.039979450027109224, 4.663865407350892, 8.129762805173316, 8.89871752939712, 9.316966196525993, 9.836462171103065]\n",
            "Custo =  769.551257363754\n",
            "\n",
            "=========================================================================\n",
            "\n",
            "Número de ciclos de manutenção: 7 2\n",
            "Tempos para manutenções preventivas: [0, 158, 694, 724, 811, 1086, 1112, 1321]\n",
            "Severidade para cada subsistema: [1.0, 1.0, 1.0, 1.0, 1.0, 1.0, 1.0]\n",
            "Número de Sisemas: 2\n",
            "Fator:  [0.329627346089734, 0.43521856256562297, 0.43521856256562297, 0.43521856256562297, 0.43521856256562297, 0.43521856256562297, 0.43521856256562297, 0.43521856256562297]\n",
            "Media de falhas:  [0, 1.0600629322833988, 4.669546399955185, 4.871649545952157, 5.457877613060498, 7.3119403706292765, 7.48725548342422, 8.896973835417958, 9.834753912443116]\n",
            "Custo =  959.0549155397675\n"
          ]
        },
        {
          "output_type": "stream",
          "name": "stderr",
          "text": [
            "pyswarms.single.global_best:  68%|██████▊   |68/100, best_cost=348"
          ]
        },
        {
          "output_type": "stream",
          "name": "stdout",
          "text": [
            "\n",
            "=========================================================================\n",
            "\n",
            "Número de ciclos de manutenção: 8 2\n",
            "Tempos para manutenções preventivas: [0, 150, 241, 333, 694, 722, 908, 1206, 1321]\n",
            "Severidade para cada subsistema: [1.0, 1.0, 1.0, 1.0, 1.0, 1.0, 1.0, 1.0]\n",
            "Número de Sisemas: 2\n",
            "Fator:  [0.329627346089734, 0.43521856256562297, 0.43521856256562297, 0.43521856256562297, 0.43521856256562297, 0.43521856256562297, 0.43521856256562297, 0.43521856256562297, 0.43521856256562297]\n",
            "Media de falhas:  [0, 1.0062788347498806, 1.6179835025103988, 2.236704940073018, 4.6679529952669245, 4.856581632872757, 6.1101535055631695, 8.119731422607046, 8.895431191688978, 9.833211268714136]\n",
            "Custo =  1066.8917659937597\n",
            "\n",
            "=========================================================================\n",
            "\n",
            "Número de ciclos de manutenção: 5 2\n",
            "Tempos para manutenções preventivas: [0, 7, 335, 693, 1321, 1386]\n",
            "Severidade para cada subsistema: [1.0, 1.0, 1.0, 1.0, 1.0]\n",
            "Número de Sisemas: 2\n",
            "Fator:  [0.329627346089734, 0.43521856256562297, 0.43521856256562297, 0.43521856256562297, 0.43521856256562297, 0.43521856256562297]\n",
            "Media de falhas:  [0, 0.046657823194500875, 2.2510269792179245, 4.662069112897754, 8.897350050581078, 9.335838312543038, 9.835094462951323]\n",
            "Custo =  757.7542569998845\n",
            "\n",
            "=========================================================================\n",
            "\n",
            "Número de ciclos de manutenção: 4 2\n",
            "Tempos para manutenções preventivas: [0, 334, 361, 693, 1321]\n",
            "Severidade para cada subsistema: [1.0, 1.0, 1.0, 1.0]\n",
            "Número de Sisemas: 2\n",
            "Fator:  [0.329627346089734, 0.43521856256562297, 0.43521856256562297, 0.43521856256562297, 0.43521856256562297]\n",
            "Media de falhas:  [0, 2.2444248795778177, 2.4261114353101774, 4.6621030185041175, 8.897383956187443, 9.835164033212601]\n",
            "Custo =  593.1997097379472\n",
            "\n",
            "=========================================================================\n",
            "\n",
            "Número de ciclos de manutenção: 8 2\n",
            "Tempos para manutenções preventivas: [0, 360, 692, 811, 906, 1083, 1113, 1201, 1321]\n",
            "Severidade para cada subsistema: [1.0, 1.0, 1.0, 1.0, 1.0, 1.0, 1.0, 1.0]\n",
            "Número de Sisemas: 2\n",
            "Fator:  [0.329627346089734, 0.43521856256562297, 0.43521856256562297, 0.43521856256562297, 0.43521856256562297, 0.43521856256562297, 0.43521856256562297, 0.43521856256562297, 0.43521856256562297]\n",
            "Media de falhas:  [0, 2.419522203320902, 4.655998735159821, 5.45784084694455, 6.09812463689775, 7.29149988356803, 7.493786749771418, 8.087249131469427, 8.896674075670836, 9.834454152695994]\n",
            "Custo =  1067.391460268613\n",
            "\n",
            "=========================================================================\n",
            "\n",
            "Número de ciclos de manutenção: 5 2\n",
            "Tempos para manutenções preventivas: [0, 4, 151, 692, 1321, 1383]\n",
            "Severidade para cada subsistema: [1.0, 1.0, 1.0, 1.0, 1.0]\n",
            "Número de Sisemas: 2\n",
            "Fator:  [0.329627346089734, 0.43521856256562297, 0.43521856256562297, 0.43521856256562297, 0.43521856256562297, 0.43521856256562297]\n",
            "Media de falhas:  [0, 0.026630236855068226, 1.0129306858313165, 4.655576012810881, 8.897599079102287, 9.31584774623116, 9.835343720808233]\n",
            "Custo =  801.4714473263734\n",
            "\n",
            "=========================================================================\n",
            "\n",
            "Número de ciclos de manutenção: 5 2\n",
            "Tempos para manutenções preventivas: [0, 692, 817, 1110, 1321, 1388]\n",
            "Severidade para cada subsistema: [1.0, 1.0, 1.0, 1.0, 1.0]\n",
            "Número de Sisemas: 2\n",
            "Fator:  [0.329627346089734, 0.43521856256562297, 0.43521856256562297, 0.43521856256562297, 0.43521856256562297, 0.43521856256562297]\n",
            "Media de falhas:  [0, 4.657258872171124, 5.499807661390923, 7.475309428069512, 8.898517177068868, 9.350498589802006, 9.836261510860506]\n",
            "Custo =  706.225183695054\n",
            "\n",
            "=========================================================================\n",
            "\n",
            "Número de ciclos de manutenção: 10 2\n",
            "Tempos para manutenções preventivas: [0, 8, 240, 692, 908, 1117, 1201, 1232, 1320, 1352, 1388]\n",
            "Severidade para cada subsistema: [1.0, 1.0, 1.0, 1.0, 1.0, 1.0, 1.0, 1.0, 1.0, 1.0]\n",
            "Número de Sisemas: 2\n",
            "Fator:  [0.329627346089734, 0.43521856256562297, 0.43521856256562297, 0.43521856256562297, 0.43521856256562297, 0.43521856256562297, 0.43521856256562297, 0.43521856256562297, 0.43521856256562297, 0.43521856256562297, 0.43521856256562297]\n",
            "Media de falhas:  [0, 0.05333821104058538, 1.6115059551031732, 4.655293299625355, 6.111035804560869, 7.52024248684598, 8.086729841030992, 8.295804382066576, 8.889385862445923, 9.10524703884197, 9.348104149940058, 9.833867070998558]\n",
            "Custo =  1366.969355497747\n",
            "\n",
            "=========================================================================\n",
            "\n",
            "Número de ciclos de manutenção: 8 2\n",
            "Tempos para manutenções preventivas: [0, 240, 693, 724, 813, 1231, 1321, 1355, 1382]\n",
            "Severidade para cada subsistema: [1.0, 1.0, 1.0, 1.0, 1.0, 1.0, 1.0, 1.0]\n",
            "Número de Sisemas: 2\n",
            "Fator:  [0.329627346089734, 0.43521856256562297, 0.43521856256562297, 0.43521856256562297, 0.43521856256562297, 0.43521856256562297, 0.43521856256562297, 0.43521856256562297, 0.43521856256562297]\n",
            "Media de falhas:  [0, 1.611639212316374, 4.662671654215778, 4.871511495019779, 5.471218773894036, 8.290030589972636, 8.897103276092272, 9.126456762253522, 9.308598231971965, 9.83484080928735]\n",
            "Custo =  1088.1502324147577\n",
            "\n",
            "=========================================================================\n",
            "\n",
            "Número de ciclos de manutenção: 5 2\n",
            "Tempos para manutenções preventivas: [0, 2, 693, 900, 1321, 1352]\n",
            "Severidade para cada subsistema: [1.0, 1.0, 1.0, 1.0, 1.0]\n",
            "Número de Sisemas: 2\n",
            "Fator:  [0.329627346089734, 0.43521856256562297, 0.43521856256562297, 0.43521856256562297, 0.43521856256562297, 0.43521856256562297]\n",
            "Media de falhas:  [0, 0.013295712419327723, 4.663947091059662, 6.059011983435354, 8.898503636899896, 9.107619190957228, 9.836258583423723]\n",
            "Custo =  906.0961524126232\n",
            "\n",
            "=========================================================================\n",
            "\n",
            "Número de ciclos de manutenção: 5 2\n",
            "Tempos para manutenções preventivas: [0, 156, 693, 1200, 1238, 1321]\n",
            "Severidade para cada subsistema: [1.0, 1.0, 1.0, 1.0, 1.0]\n",
            "Número de Sisemas: 2\n",
            "Fator:  [0.329627346089734, 0.43521856256562297, 0.43521856256562297, 0.43521856256562297, 0.43521856256562297, 0.43521856256562297]\n",
            "Media de falhas:  [0, 1.0466163590453064, 4.66280873386112, 8.081469678721021, 8.33775685469187, 8.897613606999647, 9.835393684024805]\n",
            "Custo =  709.5010908070917\n",
            "\n",
            "=========================================================================\n",
            "\n",
            "Número de ciclos de manutenção: 7 2\n",
            "Tempos para manutenções preventivas: [0, 3, 360, 693, 721, 1082, 1112, 1321]\n",
            "Severidade para cada subsistema: [1.0, 1.0, 1.0, 1.0, 1.0, 1.0, 1.0]\n",
            "Número de Sisemas: 2\n",
            "Fator:  [0.329627346089734, 0.43521856256562297, 0.43521856256562297, 0.43521856256562297, 0.43521856256562297, 0.43521856256562297, 0.43521856256562297, 0.43521856256562297]\n",
            "Media de falhas:  [0, 0.019960591155694637, 2.4194528776756705, 4.662177396093943, 4.8508054809064864, 7.284579874471699, 7.486866356810609, 8.896584708804346, 9.834364785829504]\n",
            "Custo =  1084.1603238508478\n",
            "\n",
            "=========================================================================\n",
            "\n",
            "Número de ciclos de manutenção: 3 2\n",
            "Tempos para manutenções preventivas: [0, 693, 1083, 1321]\n",
            "Severidade para cada subsistema: [1.0, 1.0, 1.0]\n",
            "Número de Sisemas: 2\n",
            "Fator:  [0.329627346089734, 0.43521856256562297, 0.43521856256562297, 0.43521856256562297]\n",
            "Media de falhas:  [0, 4.664003186714551, 7.293933564915234, 8.899246576812747, 9.837026653837905]\n",
            "Custo =  464.56972168568336\n",
            "\n",
            "=========================================================================\n",
            "\n",
            "Número de ciclos de manutenção: 9 2\n",
            "Tempos para manutenções preventivas: [0, 8, 303, 693, 721, 813, 901, 1200, 1237, 1321]\n",
            "Severidade para cada subsistema: [1.0, 1.0, 1.0, 1.0, 1.0, 1.0, 1.0, 1.0, 1.0]\n",
            "Número de Sisemas: 2\n",
            "Fator:  [0.329627346089734, 0.43521856256562297, 0.43521856256562297, 0.43521856256562297, 0.43521856256562297, 0.43521856256562297, 0.43521856256562297, 0.43521856256562297, 0.43521856256562297, 0.43521856256562297]\n",
            "Media de falhas:  [0, 0.05333821104058538, 2.0355507030687074, 4.662021914557087, 4.85064999936963, 5.47057142504762, 6.063670790360489, 8.079969421816198, 8.329511824755524, 8.89611371963265, 9.833893796657808]\n",
            "Custo =  1239.7154088059933\n",
            "\n",
            "=========================================================================\n",
            "\n",
            "Número de ciclos de manutenção: 4 2\n",
            "Tempos para manutenções preventivas: [0, 158, 302, 694, 1321]\n",
            "Severidade para cada subsistema: [1.0, 1.0, 1.0, 1.0]\n",
            "Número de Sisemas: 2\n",
            "Fator:  [0.329627346089734, 0.43521856256562297, 0.43521856256562297, 0.43521856256562297, 0.43521856256562297]\n",
            "Media de falhas:  [0, 1.0600629322833988, 2.028412608336164, 4.668356990639296, 8.896895790801878, 9.834675867827036]\n",
            "Custo =  582.0512396592245\n"
          ]
        },
        {
          "output_type": "stream",
          "name": "stderr",
          "text": [
            "pyswarms.single.global_best:  82%|████████▏ |82/100, best_cost=348"
          ]
        },
        {
          "output_type": "stream",
          "name": "stdout",
          "text": [
            "\n",
            "=========================================================================\n",
            "\n",
            "Número de ciclos de manutenção: 4 2\n",
            "Tempos para manutenções preventivas: [0, 6, 694, 904, 1321]\n",
            "Severidade para cada subsistema: [1.0, 1.0, 1.0, 1.0]\n",
            "Número de Sisemas: 2\n",
            "Fator:  [0.329627346089734, 0.43521856256562297, 0.43521856256562297, 0.43521856256562297, 0.43521856256562297]\n",
            "Media de falhas:  [0, 0.039979450027109224, 4.6706097018431025, 6.085904865138311, 8.898421854420667, 9.836201931445824]\n",
            "Custo =  644.6075122511671\n",
            "\n",
            "=========================================================================\n",
            "\n",
            "Número de ciclos de manutenção: 4 2\n",
            "Tempos para manutenções preventivas: [0, 694, 721, 818, 1321]\n",
            "Severidade para cada subsistema: [1.0, 1.0, 1.0, 1.0]\n",
            "Número de Sisemas: 2\n",
            "Fator:  [0.329627346089734, 0.43521856256562297, 0.43521856256562297, 0.43521856256562297, 0.43521856256562297]\n",
            "Media de falhas:  [0, 4.67074752173599, 4.852702572635112, 5.506322709949956, 8.89877273418206, 9.836552811207218]\n",
            "Custo =  596.0651153857459\n",
            "\n",
            "=========================================================================\n",
            "\n",
            "Número de ciclos de manutenção: 6 2\n",
            "Tempos para manutenções preventivas: [0, 2, 330, 694, 1202, 1321, 1387]\n",
            "Severidade para cada subsistema: [1.0, 1.0, 1.0, 1.0, 1.0, 1.0]\n",
            "Número de Sisemas: 2\n",
            "Fator:  [0.329627346089734, 0.43521856256562297, 0.43521856256562297, 0.43521856256562297, 0.43521856256562297, 0.43521856256562297, 0.43521856256562297]\n",
            "Media de falhas:  [0, 0.013295712419327723, 2.2174401666703574, 4.668885480986889, 8.094301106349919, 8.896981022108108, 9.342215850715101, 9.834725387768383]\n",
            "Custo =  1018.4248551341443\n",
            "\n",
            "=========================================================================\n",
            "\n",
            "Número de ciclos de manutenção: 3 2\n",
            "Tempos para manutenções preventivas: [0, 695, 904, 1321]\n",
            "Severidade para cada subsistema: [1.0, 1.0, 1.0]\n",
            "Número de Sisemas: 2\n",
            "Fator:  [0.329627346089734, 0.43521856256562297, 0.43521856256562297, 0.43521856256562297]\n",
            "Media de falhas:  [0, 4.677491877205994, 6.086461752750606, 8.898978742032961, 9.836758819058119]\n",
            "Custo =  464.6965145834895\n",
            "\n",
            "=========================================================================\n",
            "\n",
            "Número de ciclos de manutenção: 9 2\n",
            "Tempos para manutenções preventivas: [0, 4, 694, 723, 817, 1086, 1115, 1203, 1238, 1321]\n",
            "Severidade para cada subsistema: [1.0, 1.0, 1.0, 1.0, 1.0, 1.0, 1.0, 1.0, 1.0]\n",
            "Número de Sisemas: 2\n",
            "Fator:  [0.329627346089734, 0.43521856256562297, 0.43521856256562297, 0.43521856256562297, 0.43521856256562297, 0.43521856256562297, 0.43521856256562297, 0.43521856256562297, 0.43521856256562297, 0.43521856256562297]\n",
            "Media de falhas:  [0, 0.026630236855068226, 4.670648127715599, 4.866014002678764, 5.4994181504078234, 7.313032670744265, 7.508577427570981, 8.102041907641917, 8.33809603338709, 8.897952785694867, 9.835732862720025]\n",
            "Custo =  1302.1603220282095\n",
            "\n",
            "=========================================================================\n",
            "\n",
            "Número de ciclos de manutenção: 5 2\n",
            "Tempos para manutenções preventivas: [0, 334, 693, 1088, 1114, 1321]\n",
            "Severidade para cada subsistema: [1.0, 1.0, 1.0, 1.0, 1.0]\n",
            "Número de Sisemas: 2\n",
            "Fator:  [0.329627346089734, 0.43521856256562297, 0.43521856256562297, 0.43521856256562297, 0.43521856256562297, 0.43521856256562297]\n",
            "Media de falhas:  [0, 2.2444248795778177, 4.662703806678037, 7.325691199437777, 7.501006976992728, 8.897235916006625, 9.835015993031783]\n",
            "Custo =  710.8687480077086\n",
            "\n",
            "=========================================================================\n",
            "\n",
            "Número de ciclos de manutenção: 6 2\n",
            "Tempos para manutenções preventivas: [0, 2, 300, 693, 1081, 1321, 1386]\n",
            "Severidade para cada subsistema: [1.0, 1.0, 1.0, 1.0, 1.0, 1.0]\n",
            "Número de Sisemas: 2\n",
            "Fator:  [0.329627346089734, 0.43521856256562297, 0.43521856256562297, 0.43521856256562297, 0.43521856256562297, 0.43521856256562297, 0.43521856256562297]\n",
            "Media de falhas:  [0, 0.013295712419327723, 2.015446872325857, 4.662113470371857, 7.277878472368292, 8.896680642241796, 9.335168904203755, 9.83442505461204]\n",
            "Custo =  1016.9829624453889\n",
            "\n",
            "=========================================================================\n",
            "\n",
            "Número de ciclos de manutenção: 7 2\n",
            "Tempos para manutenções preventivas: [0, 307, 693, 728, 905, 1203, 1230, 1321]\n",
            "Severidade para cada subsistema: [1.0, 1.0, 1.0, 1.0, 1.0, 1.0, 1.0]\n",
            "Número de Sisemas: 2\n",
            "Fator:  [0.329627346089734, 0.43521856256562297, 0.43521856256562297, 0.43521856256562297, 0.43521856256562297, 0.43521856256562297, 0.43521856256562297, 0.43521856256562297]\n",
            "Media de falhas:  [0, 2.06262345966547, 4.662677758756013, 4.898467077055885, 6.091377997549498, 8.100944886231023, 8.283041593737217, 8.896859400968248, 9.834639477993406]\n",
            "Custo =  955.9397540728622\n",
            "\n",
            "=========================================================================\n",
            "\n",
            "Número de ciclos de manutenção: 7 2\n",
            "Tempos para manutenções preventivas: [0, 150, 305, 693, 810, 906, 1231, 1321]\n",
            "Severidade para cada subsistema: [1.0, 1.0, 1.0, 1.0, 1.0, 1.0, 1.0]\n",
            "Número de Sisemas: 2\n",
            "Fator:  [0.329627346089734, 0.43521856256562297, 0.43521856256562297, 0.43521856256562297, 0.43521856256562297, 0.43521856256562297, 0.43521856256562297, 0.43521856256562297]\n",
            "Media de falhas:  [0, 1.0062788347498806, 2.0485908495987326, 4.661598361966153, 5.449962684864492, 6.096986086653181, 8.288719384054579, 8.895792070174215, 9.833572147199373]\n",
            "Custo =  938.3991369115143\n",
            "\n",
            "=========================================================================\n",
            "\n",
            "Número de ciclos de manutenção: 8 2\n",
            "Tempos para manutenções preventivas: [0, 6, 301, 693, 905, 1202, 1230, 1321, 1381]\n",
            "Severidade para cada subsistema: [1.0, 1.0, 1.0, 1.0, 1.0, 1.0, 1.0, 1.0]\n",
            "Número de Sisemas: 2\n",
            "Fator:  [0.329627346089734, 0.43521856256562297, 0.43521856256562297, 0.43521856256562297, 0.43521856256562297, 0.43521856256562297, 0.43521856256562297, 0.43521856256562297, 0.43521856256562297]\n",
            "Media de falhas:  [0, 0.039979450027109224, 2.0221132711629406, 4.66204809542757, 6.090824493820275, 8.093644867535371, 8.2824858584938, 8.896303665724831, 9.30105935743293, 9.834048534818038]\n",
            "Custo =  1132.5832307830592\n",
            "\n",
            "=========================================================================\n",
            "\n",
            "Número de ciclos de manutenção: 4 2\n",
            "Tempos para manutenções preventivas: [0, 692, 817, 1321, 1386]\n",
            "Severidade para cada subsistema: [1.0, 1.0, 1.0, 1.0]\n",
            "Número de Sisemas: 2\n",
            "Fator:  [0.329627346089734, 0.43521856256562297, 0.43521856256562297, 0.43521856256562297, 0.43521856256562297]\n",
            "Media de falhas:  [0, 4.657258872171124, 5.499807661390923, 8.899000803971573, 9.337489065933532, 9.836745216341818]\n",
            "Custo =  589.1608514986139\n",
            "\n",
            "=========================================================================\n",
            "\n",
            "Número de ciclos de manutenção: 3 2\n",
            "Tempos para manutenções preventivas: [0, 692, 1321, 1388]\n",
            "Severidade para cada subsistema: [1.0, 1.0, 1.0]\n",
            "Número de Sisemas: 2\n",
            "Fator:  [0.329627346089734, 0.43521856256562297, 0.43521856256562297, 0.43521856256562297]\n",
            "Media de falhas:  [0, 4.657258872171124, 8.900221317215834, 9.352202729948973, 9.837965651007472]\n",
            "Custo =  471.2026331762585\n",
            "\n",
            "=========================================================================\n",
            "\n",
            "Número de ciclos de manutenção: 5 2\n",
            "Tempos para manutenções preventivas: [0, 2, 693, 1110, 1321, 1381]\n",
            "Severidade para cada subsistema: [1.0, 1.0, 1.0, 1.0, 1.0]\n",
            "Número de Sisemas: 2\n",
            "Fator:  [0.329627346089734, 0.43521856256562297, 0.43521856256562297, 0.43521856256562297, 0.43521856256562297, 0.43521856256562297]\n",
            "Media de falhas:  [0, 0.013295712419327723, 4.663947091059662, 7.475353434180571, 8.898561183179925, 9.303316874888024, 9.83630605227313]\n",
            "Custo =  901.2471660969212\n",
            "\n",
            "=========================================================================\n",
            "\n",
            "Número de ciclos de manutenção: 8 2\n",
            "Tempos para manutenções preventivas: [0, 241, 362, 694, 723, 812, 1080, 1204, 1321]\n",
            "Severidade para cada subsistema: [1.0, 1.0, 1.0, 1.0, 1.0, 1.0, 1.0, 1.0]\n",
            "Número de Sisemas: 2\n",
            "Fator:  [0.329627346089734, 0.43521856256562297, 0.43521856256562297, 0.43521856256562297, 0.43521856256562297, 0.43521856256562297, 0.43521856256562297, 0.43521856256562297, 0.43521856256562297]\n",
            "Media de falhas:  [0, 1.61836853505566, 2.4324582862176554, 4.668457595851314, 4.863823470814479, 5.463529171757301, 7.270380240629966, 8.106619774490289, 8.895809623476302, 9.83358970050146]\n",
            "Custo =  1066.197566944036\n"
          ]
        },
        {
          "output_type": "stream",
          "name": "stderr",
          "text": [
            "pyswarms.single.global_best: 100%|██████████|100/100, best_cost=348\n",
            "2023-12-21 23:25:24,889 - pyswarms.single.global_best - INFO - Optimization finished | best cost: 347.8700841903026, best pos: [0.15989072 0.60825871 0.40405205 0.39680044 0.38514906 1.24762045\n",
            " 0.68801273 0.5172663  0.10506937 0.69812804 0.62493217 0.83390539\n",
            " 1.13962597 0.6724794  0.79138155 0.42042105 0.76732004 0.54997762\n",
            " 0.25308736 0.83584737 0.7776013  0.92231776 1.05510761 1.27064733\n",
            " 1.15513175 0.67713176 0.9690985  0.04375114 0.89834878 0.90706542\n",
            " 0.11756255 0.01096581 0.46029832 0.55581824 0.77095279 0.6679715\n",
            " 0.94260519 0.07389475 0.39610943 0.53285507 1.11431291 1.16569516\n",
            " 0.86398827 0.42511177 1.05353649 1.13714752 1.17297557 0.86567674]\n",
            "2023-12-21 23:25:24,893 - pyswarms.single.global_best - INFO - Optimize for 1 iters with {'c1': 0.5, 'c2': 0.3, 'w': 0.9}\n"
          ]
        },
        {
          "output_type": "stream",
          "name": "stdout",
          "text": [
            "\n",
            "=========================================================================\n",
            "\n",
            "Número de ciclos de manutenção: 5 2\n",
            "Tempos para manutenções preventivas: [0, 241, 362, 695, 728, 1321]\n",
            "Severidade para cada subsistema: [1.0, 1.0, 1.0, 1.0, 1.0]\n",
            "Número de Sisemas: 2\n",
            "Fator:  [0.329627346089734, 0.43521856256562297, 0.43521856256562297, 0.43521856256562297, 0.43521856256562297, 0.43521856256562297]\n",
            "Media de falhas:  [0, 1.61836853505566, 2.4324582862176554, 4.675198301086798, 4.897514108175414, 8.896815053545822, 9.83459513057098]\n",
            "Custo =  708.7394164307303\n",
            "\n",
            "=========================================================================\n",
            "\n",
            "Número de ciclos de manutenção: 6 2\n",
            "Tempos para manutenções preventivas: [0, 695, 728, 811, 1207, 1230, 1321]\n",
            "Severidade para cada subsistema: [1.0, 1.0, 1.0, 1.0, 1.0, 1.0]\n",
            "Número de Sisemas: 2\n",
            "Fator:  [0.329627346089734, 0.43521856256562297, 0.43521856256562297, 0.43521856256562297, 0.43521856256562297, 0.43521856256562297, 0.43521856256562297]\n",
            "Media de falhas:  [0, 4.677491877205994, 4.8998849286645, 5.459160820384997, 8.129517870122788, 8.284637415329108, 8.89845522256014, 9.836235299585297]\n",
            "Custo =  845.3727130384249\n",
            "\n",
            "=========================================================================\n",
            "\n",
            "Número de ciclos de manutenção: 4 2\n",
            "Tempos para manutenções preventivas: [0, 696, 903, 1238, 1321]\n",
            "Severidade para cada subsistema: [1.0, 1.0, 1.0, 1.0]\n",
            "Número de Sisemas: 2\n",
            "Fator:  [0.329627346089734, 0.43521856256562297, 0.43521856256562297, 0.43521856256562297, 0.43521856256562297]\n",
            "Media de falhas:  [0, 4.684236253095205, 6.079721765573675, 8.338913777438645, 8.898770529746422, 9.83655060677158]\n",
            "Custo =  584.4245389969927\n",
            "\n",
            "=========================================================================\n",
            "\n",
            "Número de ciclos de manutenção: 6 2\n",
            "Tempos para manutenções preventivas: [0, 695, 812, 906, 1205, 1235, 1321]\n",
            "Severidade para cada subsistema: [1.0, 1.0, 1.0, 1.0, 1.0, 1.0]\n",
            "Número de Sisemas: 2\n",
            "Fator:  [0.329627346089734, 0.43521856256562297, 0.43521856256562297, 0.43521856256562297, 0.43521856256562297, 0.43521856256562297, 0.43521856256562297]\n",
            "Media de falhas:  [0, 4.677491877205994, 5.466111722164772, 6.099655895266475, 8.115973005725738, 8.318304287229727, 8.898396458106475, 9.836176535131633]\n",
            "Custo =  832.6824523923896\n",
            "\n",
            "=========================================================================\n",
            "\n",
            "Número de ciclos de manutenção: 5 2\n",
            "Tempos para manutenções preventivas: [0, 4, 151, 693, 1234, 1321]\n",
            "Severidade para cada subsistema: [1.0, 1.0, 1.0, 1.0, 1.0]\n",
            "Número de Sisemas: 2\n",
            "Fator:  [0.329627346089734, 0.43521856256562297, 0.43521856256562297, 0.43521856256562297, 0.43521856256562297, 0.43521856256562297]\n",
            "Media de falhas:  [0, 0.026630236855068226, 1.0129306858313165, 4.662318912502186, 8.310421203891892, 8.897258508184633, 9.83503858520979]\n",
            "Custo =  797.3757987405513\n",
            "\n",
            "=========================================================================\n",
            "\n",
            "Número de ciclos de manutenção: 5 2\n",
            "Tempos para manutenções preventivas: [0, 150, 691, 1237, 1321, 1387]\n",
            "Severidade para cada subsistema: [1.0, 1.0, 1.0, 1.0, 1.0]\n",
            "Número de Sisemas: 2\n",
            "Fator:  [0.329627346089734, 0.43521856256562297, 0.43521856256562297, 0.43521856256562297, 0.43521856256562297, 0.43521856256562297]\n",
            "Media de falhas:  [0, 1.0062788347498806, 4.6493396950875, 8.33117085166538, 8.897772746542506, 9.3430075751495, 9.835517112202782]\n",
            "Custo =  707.6433948331015\n",
            "\n",
            "=========================================================================\n",
            "\n",
            "Número de ciclos de manutenção: 5 2\n",
            "Tempos para manutenções preventivas: [0, 7, 338, 1203, 1321, 1386]\n",
            "Severidade para cada subsistema: [1.0, 1.0, 1.0, 1.0, 1.0]\n",
            "Número de Sisemas: 2\n",
            "Fator:  [0.329627346089734, 0.43521856256562297, 0.43521856256562297, 0.43521856256562297, 0.43521856256562297, 0.43521856256562297]\n",
            "Media de falhas:  [0, 0.046657823194500875, 2.2712289276664284, 8.10260067377676, 8.898535557794027, 9.337023819755986, 9.836279970164272]\n",
            "Custo =  759.9766838796855\n",
            "\n",
            "=========================================================================\n",
            "\n",
            "Número de ciclos de manutenção: 4 2\n",
            "Tempos para manutenções preventivas: [0, 723, 1205, 1321, 1384]\n",
            "Severidade para cada subsistema: [1.0, 1.0, 1.0, 1.0]\n",
            "Número de Sisemas: 2\n",
            "Fator:  [0.329627346089734, 0.43521856256562297, 0.43521856256562297, 0.43521856256562297, 0.43521856256562297]\n",
            "Media de falhas:  [0, 4.866342015539418, 8.117291901604533, 8.899736712276317, 9.32473189347763, 9.83748126265357]\n",
            "Custo =  589.5706170716685\n",
            "\n",
            "=========================================================================\n",
            "\n",
            "Número de ciclos de manutenção: 5 2\n",
            "Tempos para manutenções preventivas: [0, 4, 1113, 1200, 1231, 1320]\n",
            "Severidade para cada subsistema: [1.0, 1.0, 1.0, 1.0, 1.0]\n",
            "Número de Sisemas: 2\n",
            "Fator:  [0.329627346089734, 0.43521856256562297, 0.43521856256562297, 0.43521856256562297, 0.43521856256562297, 0.43521856256562297]\n",
            "Media de falhas:  [0, 0.026630236855068226, 7.498034913563081, 8.084752505095556, 8.293826687806463, 8.894153284509418, 9.838679787720997]\n",
            "Custo =  811.5829219159663\n",
            "\n",
            "=========================================================================\n",
            "\n",
            "Número de ciclos de manutenção: 4 2\n",
            "Tempos para manutenções preventivas: [0, 335, 692, 810, 1320]\n",
            "Severidade para cada subsistema: [1.0, 1.0, 1.0, 1.0]\n",
            "Número de Sisemas: 2\n",
            "Fator:  [0.329627346089734, 0.43521856256562297, 0.43521856256562297, 0.43521856256562297, 0.43521856256562297]\n",
            "Media de falhas:  [0, 2.2511588754633665, 4.655963159815791, 5.451065315403247, 8.890711020437854, 9.835237523649432]\n",
            "Custo =  581.994144366783\n",
            "\n",
            "=========================================================================\n",
            "\n",
            "Número de ciclos de manutenção: 4 2\n",
            "Tempos para manutenções preventivas: [0, 4, 695, 1202, 1320]\n",
            "Severidade para cada subsistema: [1.0, 1.0, 1.0, 1.0]\n",
            "Número de Sisemas: 2\n",
            "Fator:  [0.329627346089734, 0.43521856256562297, 0.43521856256562297, 0.43521856256562297, 0.43521856256562297]\n",
            "Media de falhas:  [0, 0.026630236855068226, 4.677392456217798, 8.09606670288169, 8.892000302733276, 9.836526805944855]\n",
            "Custo =  679.2024859907017\n",
            "\n",
            "=========================================================================\n",
            "\n",
            "Número de ciclos de manutenção: 7 2\n",
            "Tempos para manutenções preventivas: [0, 332, 697, 817, 903, 1111, 1205, 1321]\n",
            "Severidade para cada subsistema: [1.0, 1.0, 1.0, 1.0, 1.0, 1.0, 1.0]\n",
            "Número de Sisemas: 2\n",
            "Fator:  [0.329627346089734, 0.43521856256562297, 0.43521856256562297, 0.43521856256562297, 0.43521856256562297, 0.43521856256562297, 0.43521856256562297, 0.43521856256562297]\n",
            "Media de falhas:  [0, 2.2309570152048055, 4.689669189091089, 5.49826197184558, 6.077884931745309, 7.480333048671719, 8.114262350630355, 8.896707161302139, 9.834487238327297]\n",
            "Custo =  939.2990792289905\n",
            "\n",
            "=========================================================================\n",
            "\n",
            "Número de ciclos de manutenção: 4 2\n",
            "Tempos para manutenções preventivas: [0, 5, 697, 1117, 1321]\n",
            "Severidade para cada subsistema: [1.0, 1.0, 1.0, 1.0]\n",
            "Número de Sisemas: 2\n",
            "Fator:  [0.329627346089734, 0.43521856256562297, 0.43521856256562297, 0.43521856256562297, 0.43521856256562297]\n",
            "Media de falhas:  [0, 0.033303429479368554, 4.690861473418297, 7.522530743150659, 8.898525532885253, 9.836305609910411]\n",
            "Custo =  657.9942811669387\n",
            "\n",
            "=========================================================================\n",
            "\n",
            "Número de ciclos de manutenção: 5 2\n",
            "Tempos para manutenções preventivas: [0, 150, 697, 1082, 1110, 1321]\n",
            "Severidade para cada subsistema: [1.0, 1.0, 1.0, 1.0, 1.0]\n",
            "Número de Sisemas: 2\n",
            "Fator:  [0.329627346089734, 0.43521856256562297, 0.43521856256562297, 0.43521856256562297, 0.43521856256562297, 0.43521856256562297]\n",
            "Media de falhas:  [0, 1.0062788347498806, 4.689799473464934, 7.2853484837742695, 7.474148570379349, 8.897356319378705, 9.835136396403863]\n",
            "Custo =  710.6155102258009\n",
            "\n",
            "=========================================================================\n",
            "\n",
            "Número de ciclos de manutenção: 6 2\n",
            "Tempos para manutenções preventivas: [0, 338, 695, 727, 1086, 1321, 1386]\n",
            "Severidade para cada subsistema: [1.0, 1.0, 1.0, 1.0, 1.0, 1.0]\n",
            "Número de Sisemas: 2\n",
            "Fator:  [0.329627346089734, 0.43521856256562297, 0.43521856256562297, 0.43521856256562297, 0.43521856256562297, 0.43521856256562297, 0.43521856256562297]\n",
            "Media de falhas:  [0, 2.2713611164019523, 4.676192442704044, 4.891770859354956, 7.312084007856217, 8.897163251057824, 9.335651513019783, 9.83490766342807]\n",
            "Custo =  831.1130948461214\n"
          ]
        },
        {
          "output_type": "stream",
          "name": "stderr",
          "text": [
            "pyswarms.single.global_best: 100%|██████████|1/1, best_cost=348\n",
            "2023-12-21 23:25:24,916 - pyswarms.single.global_best - INFO - Optimization finished | best cost: 347.8700841903026, best pos: [0.16021243 0.6079129  0.40402569 0.39783898 0.38999697 0.28479897\n",
            " 0.78206916 0.51743785 1.27647377 0.69882263 0.62639991 0.83498166\n",
            " 1.13971824 0.66958663 0.79822436 0.42012963 0.76731236 0.5498504\n",
            " 0.61144192 1.15365685 0.77756931 0.92228559 1.05731847 1.25033875\n",
            " 1.15502225 0.7693861  0.18191149 1.2619458  0.89768968 0.90663681\n",
            " 0.92698689 0.75278424 0.45956225 0.54588569 0.76936397 0.66883205\n",
            " 0.93901335 0.07408628 0.39623096 0.53209768 0.59571905 1.16568654\n",
            " 0.8640901  0.425188   1.05346064 0.78529904 1.17329733 0.86822649]\n",
            "2023-12-21 23:25:24,917 - pyswarms.single.global_best - INFO - Optimize for 1 iters with {'c1': 0.5, 'c2': 0.3, 'w': 0.9}\n"
          ]
        },
        {
          "output_type": "stream",
          "name": "stdout",
          "text": [
            "\n",
            "=========================================================================\n",
            "\n",
            "Número de ciclos de manutenção: 3 2\n",
            "Tempos para manutenções preventivas: [0, 660, 692, 1321]\n",
            "Severidade para cada subsistema: [1.0, 1.0, 1.0]\n",
            "Número de Sisemas: 2\n",
            "Fator:  [0.329627346089734, 0.43521856256562297, 0.43521856256562297, 0.43521856256562297]\n",
            "Media de falhas:  [0, 4.441451799946073, 4.657082545892576, 8.899105612183982, 9.83688568920914]\n",
            "Custo =  474.91635295817866\n"
          ]
        },
        {
          "output_type": "stream",
          "name": "stderr",
          "text": [
            "pyswarms.single.global_best: 100%|██████████|1/1, best_cost=348\n",
            "2023-12-21 23:25:24,943 - pyswarms.single.global_best - INFO - Optimization finished | best cost: 347.8700841903026, best pos: [0.15936809 0.60780375 0.40402293 0.39743508 0.38288582 1.09561604\n",
            " 0.757581   0.51706999 0.69143935 0.69899079 0.62646041 0.83009284\n",
            " 1.1395297  0.66963265 0.80620091 0.42018243 0.76732008 0.54980714\n",
            " 0.60240868 0.51524953 0.77753167 0.92211251 1.0568181  0.21298919\n",
            " 1.15501473 0.80130525 0.0413498  0.62300007 0.89737345 0.90554892\n",
            " 0.30717942 0.91080033 0.46202557 0.54216806 0.76953516 0.66888579\n",
            " 0.94228693 0.07426376 0.39612038 0.53255073 0.72626077 1.16569632\n",
            " 0.86414066 0.42504223 1.05339716 0.45690652 1.17329564 0.86763234]\n",
            "2023-12-21 23:25:24,945 - pyswarms.single.global_best - INFO - Optimize for 1 iters with {'c1': 0.5, 'c2': 0.3, 'w': 0.9}\n"
          ]
        },
        {
          "output_type": "stream",
          "name": "stdout",
          "text": [
            "\n",
            "=========================================================================\n",
            "\n",
            "Número de ciclos de manutenção: 3 2\n",
            "Tempos para manutenções preventivas: [0, 661, 690, 1321]\n",
            "Severidade para cada subsistema: [1.0, 1.0, 1.0]\n",
            "Número de Sisemas: 2\n",
            "Fator:  [0.329627346089734, 0.43521856256562297, 0.43521856256562297, 0.43521856256562297]\n",
            "Media de falhas:  [0, 4.448195443119637, 4.643610076500739, 8.899117373199147, 9.836897450224305]\n",
            "Custo =  476.2063547490211\n"
          ]
        },
        {
          "output_type": "stream",
          "name": "stderr",
          "text": [
            "pyswarms.single.global_best: 100%|██████████|1/1, best_cost=348\n",
            "2023-12-21 23:25:24,962 - pyswarms.single.global_best - INFO - Optimization finished | best cost: 347.8700841903026, best pos: [0.15863349 0.60782715 0.40402125 0.39702653 0.37664009 0.42872133\n",
            " 0.71782093 0.51676428 0.14710259 0.6989774  0.62650958 0.82629041\n",
            " 1.13937734 0.67018204 0.81025328 0.42023981 0.76732703 0.54979945\n",
            " 0.64062657 1.17252845 0.77751803 0.92197609 1.05608111 0.2636034\n",
            " 1.15501076 0.79659907 1.21247856 0.11122254 0.89731694 0.90483489\n",
            " 1.13911169 1.10960356 0.46379777 0.54056439 0.77006209 0.66888883\n",
            " 0.94523495 0.07436463 0.39601938 0.53299798 0.71736744 1.16570498\n",
            " 0.86414817 0.42491317 1.05337026 0.12348559 1.17322453 0.86659876]\n",
            "2023-12-21 23:25:24,968 - pyswarms.single.global_best - INFO - Optimize for 1 iters with {'c1': 0.5, 'c2': 0.3, 'w': 0.9}\n"
          ]
        },
        {
          "output_type": "stream",
          "name": "stdout",
          "text": [
            "\n",
            "=========================================================================\n",
            "\n",
            "Número de ciclos de manutenção: 8 2\n",
            "Tempos para manutenções preventivas: [0, 334, 662, 690, 721, 780, 1208, 1321, 1380]\n",
            "Severidade para cada subsistema: [1.0, 1.0, 1.0, 1.0, 1.0, 1.0, 1.0, 1.0]\n",
            "Número de Sisemas: 2\n",
            "Fator:  [0.329627346089734, 0.43521856256562297, 0.43521856256562297, 0.43521856256562297, 0.43521856256562297, 0.43521856256562297, 0.43521856256562297, 0.43521856256562297, 0.43521856256562297]\n",
            "Media de falhas:  [0, 2.2444248795778177, 4.453717741498933, 4.642328296972337, 4.8511663032196095, 5.24869438793554, 8.134806902430176, 8.89701657853491, 9.295025808938169, 9.834761583718635]\n",
            "Custo =  1083.641118837466\n"
          ]
        },
        {
          "output_type": "stream",
          "name": "stderr",
          "text": [
            "pyswarms.single.global_best: 100%|██████████|1/1, best_cost=348\n",
            "2023-12-21 23:25:25,002 - pyswarms.single.global_best - INFO - Optimization finished | best cost: 347.8700841903026, best pos: [0.15825866 0.60787761 0.40401986 0.39659331 0.37188927 0.95534574\n",
            " 0.67643372 0.51660121 1.08234614 0.69892508 0.62653451 0.82407994\n",
            " 1.13929998 0.67068227 0.81072509 0.42032807 0.76733248 0.5498429\n",
            " 0.79816833 0.38904635 0.77751708 0.9219186  1.05536243 0.27649063\n",
            " 1.15503981 0.76711433 0.96624258 1.07730058 0.89741604 0.90476685\n",
            " 0.70001454 0.11177413 0.46434431 0.54167465 0.77075299 0.66875479\n",
            " 0.94757538 0.0743964  0.39595367 0.53336811 0.63268336 1.16571257\n",
            " 0.86415442 0.42481287 1.0533854  1.14929474 1.17312001 0.86561588]\n",
            "2023-12-21 23:25:25,003 - pyswarms.single.global_best - INFO - Optimize for 1 iters with {'c1': 0.5, 'c2': 0.3, 'w': 0.9}\n"
          ]
        },
        {
          "output_type": "stream",
          "name": "stdout",
          "text": [
            "\n",
            "=========================================================================\n",
            "\n",
            "Número de ciclos de manutenção: 5 2\n",
            "Tempos para manutenções preventivas: [0, 3, 663, 691, 781, 1321]\n",
            "Severidade para cada subsistema: [1.0, 1.0, 1.0, 1.0, 1.0]\n",
            "Número de Sisemas: 2\n",
            "Fator:  [0.329627346089734, 0.43521856256562297, 0.43521856256562297, 0.43521856256562297, 0.43521856256562297, 0.43521856256562297]\n",
            "Media de falhas:  [0, 0.019960591155694637, 4.461604895858398, 4.650216029026211, 5.25660927203204, 8.89854989798671, 9.836329975011868]\n",
            "Custo =  842.2050594277018\n"
          ]
        },
        {
          "output_type": "stream",
          "name": "stderr",
          "text": [
            "pyswarms.single.global_best: 100%|██████████|1/1, best_cost=348\n",
            "2023-12-21 23:25:25,056 - pyswarms.single.global_best - INFO - Optimization finished | best cost: 347.8700841903026, best pos: [0.15832942 0.60801341 0.40402717 0.39623399 0.3681667  0.07242083\n",
            " 0.6417619  0.51659649 0.63410633 0.69879563 0.62611743 0.82269522\n",
            " 1.13931886 0.67144892 0.80584941 0.42042962 0.767337   0.54990695\n",
            " 1.06075904 0.9774736  0.77753976 0.92197092 1.0546669  0.27150746\n",
            " 1.15507994 0.71674418 0.61490328 0.89145533 0.89752381 0.90479432\n",
            " 0.30844424 0.64030998 0.46470161 0.54277566 0.77142213 0.66850313\n",
            " 0.94847888 0.07437426 0.39592864 0.53368869 0.47483059 1.16571727\n",
            " 0.86414908 0.4247339  1.05343644 0.77014963 1.17302049 0.86474185]\n",
            "2023-12-21 23:25:25,058 - pyswarms.single.global_best - INFO - Optimize for 1 iters with {'c1': 0.5, 'c2': 0.3, 'w': 0.9}\n"
          ]
        },
        {
          "output_type": "stream",
          "name": "stdout",
          "text": [
            "\n",
            "=========================================================================\n",
            "\n",
            "Número de ciclos de manutenção: 8 2\n",
            "Tempos para manutenções preventivas: [0, 306, 332, 664, 692, 727, 782, 877, 1321]\n",
            "Severidade para cada subsistema: [1.0, 1.0, 1.0, 1.0, 1.0, 1.0, 1.0, 1.0]\n",
            "Número de Sisemas: 2\n",
            "Fator:  [0.329627346089734, 0.43521856256562297, 0.43521856256562297, 0.43521856256562297, 0.43521856256562297, 0.43521856256562297, 0.43521856256562297, 0.43521856256562297, 0.43521856256562297]\n",
            "Media de falhas:  [0, 2.0558907023543114, 2.2308169444184096, 4.466578277879288, 4.6551899879032295, 4.890978620017908, 5.261558204763293, 5.90179748854286, 8.896391574072155, 9.834171651097313]\n",
            "Custo =  1089.4480023198003\n"
          ]
        },
        {
          "output_type": "stream",
          "name": "stderr",
          "text": [
            "pyswarms.single.global_best: 100%|██████████|1/1, best_cost=348\n",
            "2023-12-21 23:25:25,085 - pyswarms.single.global_best - INFO - Optimization finished | best cost: 347.8700841903026, best pos: [0.15848719 0.60819613 0.40404115 0.39599221 0.36654032 0.42615759\n",
            " 0.61957316 0.51674579 0.33031823 0.69865184 0.62565238 0.82264237\n",
            " 1.13937779 0.67235641 0.79757276 0.42052089 0.76734022 0.54996465\n",
            " 1.18540592 0.20346573 0.77757695 0.92209686 1.05412526 0.29141982\n",
            " 1.15511721 0.6654635  0.23470607 0.6987691  0.89762911 0.90502088\n",
            " 0.06706703 0.02319713 0.46476723 0.5448977  0.77189634 0.66819732\n",
            " 0.94782345 0.07430319 0.3959355  0.53382731 0.26539663 1.16571935\n",
            " 0.8641351  0.42473213 1.0535091  0.34158301 1.17292705 0.86415747]\n",
            "2023-12-21 23:25:25,089 - pyswarms.single.global_best - INFO - Optimize for 1 iters with {'c1': 0.5, 'c2': 0.3, 'w': 0.9}\n"
          ]
        },
        {
          "output_type": "stream",
          "name": "stdout",
          "text": [
            "\n",
            "=========================================================================\n",
            "\n",
            "Número de ciclos de manutenção: 6 2\n",
            "Tempos para manutenções preventivas: [0, 8, 367, 664, 694, 782, 1321]\n",
            "Severidade para cada subsistema: [1.0, 1.0, 1.0, 1.0, 1.0, 1.0]\n",
            "Número de Sisemas: 2\n",
            "Fator:  [0.329627346089734, 0.43521856256562297, 0.43521856256562297, 0.43521856256562297, 0.43521856256562297, 0.43521856256562297, 0.43521856256562297]\n",
            "Media de falhas:  [0, 0.05333821104058538, 2.466519225950926, 4.466646606074718, 4.668731659746286, 5.261651590861777, 8.896849359578717, 9.834629436603874]\n",
            "Custo =  874.4643824203707\n"
          ]
        },
        {
          "output_type": "stream",
          "name": "stderr",
          "text": [
            "pyswarms.single.global_best:   0%|          |0/1, best_cost=348"
          ]
        },
        {
          "output_type": "stream",
          "name": "stdout",
          "text": [
            "\n",
            "=========================================================================\n",
            "\n",
            "Número de ciclos de manutenção: 6 2\n",
            "Tempos para manutenções preventivas: [0, 308, 663, 695, 782, 1080, 1321]\n",
            "Severidade para cada subsistema: [1.0, 1.0, 1.0, 1.0, 1.0, 1.0]\n",
            "Número de Sisemas: 2\n",
            "Fator:  [0.329627346089734, 0.43521856256562297, 0.43521856256562297, 0.43521856256562297, 0.43521856256562297, 0.43521856256562297, 0.43521856256562297]\n",
            "Media de falhas:  [0, 2.0693562631231774, 4.460427163899928, 4.675985045237196, 5.262167481250284, 7.271255003869899, 8.89680174635969, 9.834581823384848]\n",
            "Custo =  827.1491421641036\n"
          ]
        },
        {
          "output_type": "stream",
          "name": "stderr",
          "text": [
            "\rpyswarms.single.global_best: 100%|██████████|1/1, best_cost=348\n",
            "2023-12-21 23:25:25,112 - pyswarms.single.global_best - INFO - Optimization finished | best cost: 347.8700841903026, best pos: [0.15868322 0.60836681 0.40405497 0.3958991  0.36524914 0.72202445\n",
            " 0.61003851 0.5169002  0.16000358 0.69838556 0.62519879 0.8233634\n",
            " 1.13949092 0.67318357 0.78861876 0.42057841 0.76734023 0.55001787\n",
            " 0.00619486 0.78936197 0.77761755 0.92222697 1.05390095 0.16388945\n",
            " 1.15515427 0.6205563  1.25883634 0.56598196 0.89783461 0.90574875\n",
            " 1.28057536 0.89622052 0.46412722 0.54840878 0.77226768 0.66789211\n",
            " 0.94653773 0.07422799 0.39597047 0.5339375  0.09402024 1.16571838\n",
            " 0.86411397 0.4247916  1.05357892 1.22788928 1.17285711 0.86375331]\n",
            "2023-12-21 23:25:25,115 - pyswarms.single.global_best - INFO - Optimize for 1 iters with {'c1': 0.5, 'c2': 0.3, 'w': 0.9}\n",
            "pyswarms.single.global_best: 100%|██████████|1/1, best_cost=348"
          ]
        },
        {
          "output_type": "stream",
          "name": "stdout",
          "text": [
            "\n",
            "=========================================================================\n",
            "\n",
            "Número de ciclos de manutenção: 8 2\n",
            "Tempos para manutenções preventivas: [0, 0, 246, 333, 663, 697, 781, 873, 1321]\n",
            "Severidade para cada subsistema: [1.0, 1.0, 1.0, 1.0, 1.0, 1.0, 1.0, 1.0]\n",
            "Número de Sisemas: 2\n",
            "Fator:  [0.329627346089734, 0.43521856256562297, 0.43521856256562297, 0.43521856256562297, 0.43521856256562297, 0.43521856256562297, 0.43521856256562297, 0.43521856256562297, 0.43521856256562297]\n",
            "Media de falhas:  [0, 0.0, 1.6520160252511424, 2.2371149621659665, 4.459403992128664, 4.688435457151399, 5.254403824763855, 5.87441961878681, 8.895987705759396, 9.833767782784554]\n",
            "Custo =  inf\n"
          ]
        },
        {
          "output_type": "stream",
          "name": "stderr",
          "text": [
            "\n",
            "2023-12-21 23:25:25,138 - pyswarms.single.global_best - INFO - Optimization finished | best cost: 347.8700841903026, best pos: [0.15868322 0.60836681 0.40405497 0.3958991  0.36524914 0.72202445\n",
            " 0.61003851 0.5169002  0.16000358 0.69838556 0.62519879 0.8233634\n",
            " 1.13949092 0.67318357 0.78861876 0.42057841 0.76734023 0.55001787\n",
            " 0.00619486 0.78936197 0.77761755 0.92222697 1.05390095 0.16388945\n",
            " 1.15515427 0.6205563  1.25883634 0.56598196 0.89783461 0.90574875\n",
            " 1.28057536 0.89622052 0.46412722 0.54840878 0.77226768 0.66789211\n",
            " 0.94653773 0.07422799 0.39597047 0.5339375  0.09402024 1.16571838\n",
            " 0.86411397 0.4247916  1.05357892 1.22788928 1.17285711 0.86375331]\n",
            "2023-12-21 23:25:25,143 - pyswarms.single.global_best - INFO - Optimize for 1 iters with {'c1': 0.5, 'c2': 0.3, 'w': 0.9}\n",
            "pyswarms.single.global_best: 100%|██████████|1/1, best_cost=348\n",
            "2023-12-21 23:25:25,180 - pyswarms.single.global_best - INFO - Optimization finished | best cost: 347.8700841903026, best pos: [0.15949037 0.60854603 0.40407495 0.39623185 0.3766374  0.86830977\n",
            " 0.61919733 0.51725349 0.23871346 0.69786438 0.62436337 0.83012723\n",
            " 1.13969516 0.67438408 0.77779214 0.42056142 0.76732938 0.55007457\n",
            " 0.56943338 0.92067567 0.77766094 0.92244489 1.05447027 1.22217629\n",
            " 1.15519406 0.56516022 0.46672661 0.44755524 0.89827606 0.90715531\n",
            " 1.03616367 0.5498498  0.46095333 0.55582868 0.77244527 0.66761004\n",
            " 0.94207549 0.07403361 0.39610425 0.5337356  1.23366662 1.16571572\n",
            " 0.86400867 0.42499235 1.05364841 0.27296989 1.17280608 0.8640873 ]\n",
            "2023-12-21 23:25:25,184 - pyswarms.single.global_best - INFO - Optimize for 1 iters with {'c1': 0.5, 'c2': 0.3, 'w': 0.9}\n"
          ]
        },
        {
          "output_type": "stream",
          "name": "stdout",
          "text": [
            "\n",
            "=========================================================================\n",
            "\n",
            "Número de ciclos de manutenção: 7 2\n",
            "Tempos para manutenções preventivas: [0, 662, 698, 780, 1113, 1321, 1358, 1384]\n",
            "Severidade para cada subsistema: [1.0, 1.0, 1.0, 1.0, 1.0, 1.0, 1.0]\n",
            "Número de Sisemas: 2\n",
            "Fator:  [0.329627346089734, 0.43521856256562297, 0.43521856256562297, 0.43521856256562297, 0.43521856256562297, 0.43521856256562297, 0.43521856256562297, 0.43521856256562297]\n",
            "Media de falhas:  [0, 4.45493910776045, 4.697527377528857, 5.250019227426005, 7.495193043966962, 8.898166691463492, 9.147758273499106, 9.323154329818225, 9.835903698994166]\n",
            "Custo =  968.0123629654229\n"
          ]
        },
        {
          "output_type": "stream",
          "name": "stderr",
          "text": [
            "pyswarms.single.global_best: 100%|██████████|1/1, best_cost=348\n",
            "2023-12-21 23:25:25,228 - pyswarms.single.global_best - INFO - Optimization finished | best cost: 347.8700841903026, best pos: [0.1598857  0.60854182 0.40408229 0.39646529 0.38511016 0.7626667\n",
            " 0.63838964 0.51740885 0.46104215 0.69775114 0.62407024 0.83378686\n",
            " 1.13973486 0.67476035 0.77735134 0.42049191 0.76732321 0.55006176\n",
            " 0.97897359 0.41821484 0.7776609  0.92250934 1.05498673 0.79979766\n",
            " 1.15520055 0.55715561 0.0390551  0.53184512 0.89847172 0.90779791\n",
            " 0.69404628 0.49735849 0.45931587 0.5580427  0.7721266  0.66762895\n",
            " 0.94020646 0.07390807 0.3961686  0.5334233  1.01130292 1.16571264\n",
            " 0.86395459 0.42512357 1.05365085 1.12059586 1.17281246 0.86461602]\n",
            "2023-12-21 23:25:25,230 - pyswarms.single.global_best - INFO - Optimize for 1 iters with {'c1': 0.5, 'c2': 0.3, 'w': 0.9}\n"
          ]
        },
        {
          "output_type": "stream",
          "name": "stdout",
          "text": [
            "\n",
            "=========================================================================\n",
            "\n",
            "Número de ciclos de manutenção: 9 2\n",
            "Tempos para manutenções preventivas: [0, 332, 360, 661, 907, 936, 1114, 1233, 1321, 1351]\n",
            "Severidade para cada subsistema: [1.0, 1.0, 1.0, 1.0, 1.0, 1.0, 1.0, 1.0, 1.0]\n",
            "Número de Sisemas: 2\n",
            "Fator:  [0.329627346089734, 0.43521856256562297, 0.43521856256562297, 0.43521856256562297, 0.43521856256562297, 0.43521856256562297, 0.43521856256562297, 0.43521856256562297, 0.43521856256562297, 0.43521856256562297]\n",
            "Media de falhas:  [0, 2.2309570152048055, 2.419371278363767, 4.446407579094238, 6.104310235838411, 6.299782751863226, 7.499972995516032, 8.302534950659478, 8.896117385302803, 9.098486998494504, 9.83387290826685]\n",
            "Custo =  1204.982635706206\n"
          ]
        },
        {
          "output_type": "stream",
          "name": "stderr",
          "text": [
            "pyswarms.single.global_best: 100%|██████████|1/1, best_cost=348\n",
            "2023-12-21 23:25:25,266 - pyswarms.single.global_best - INFO - Optimization finished | best cost: 347.8700841903026, best pos: [0.16024202 0.60852969 0.40408633 0.39677397 0.39274297 0.59264025\n",
            " 0.66488286 0.51751395 0.76967912 0.69773089 0.6239185  0.8370879\n",
            " 1.13974702 0.67492053 0.77834095 0.42042383 0.76731671 0.55003305\n",
            " 0.12535142 1.21388864 0.77765858 0.92255335 1.05548187 0.23805936\n",
            " 1.15519567 0.57576494 1.08312566 0.73474242 0.89861561 0.90827308\n",
            " 0.38294136 0.46062087 0.45809888 0.56001394 0.77173812 0.66774494\n",
            " 0.93869544 0.07379392 0.39622292 0.53304818 0.70789978 1.16570593\n",
            " 0.86390904 0.42523889 1.05363953 0.58773666 1.17283735 0.86539058]\n",
            "2023-12-21 23:25:25,268 - pyswarms.single.global_best - INFO - Optimize for 1 iters with {'c1': 0.5, 'c2': 0.3, 'w': 0.9}\n"
          ]
        },
        {
          "output_type": "stream",
          "name": "stdout",
          "text": [
            "\n",
            "=========================================================================\n",
            "\n",
            "Número de ciclos de manutenção: 3 2\n",
            "Tempos para manutenções preventivas: [0, 660, 1113, 1321]\n",
            "Severidade para cada subsistema: [1.0, 1.0, 1.0]\n",
            "Número de Sisemas: 2\n",
            "Fator:  [0.329627346089734, 0.43521856256562297, 0.43521856256562297, 0.43521856256562297]\n",
            "Media de falhas:  [0, 4.441451799946073, 7.496276812565066, 8.899250460061596, 9.837030537086754]\n",
            "Custo =  464.6897438770858\n"
          ]
        },
        {
          "output_type": "stream",
          "name": "stderr",
          "text": [
            "pyswarms.single.global_best:   0%|          |0/1, best_cost=348"
          ]
        },
        {
          "output_type": "stream",
          "name": "stdout",
          "text": [
            "\n",
            "=========================================================================\n",
            "\n",
            "Número de ciclos de manutenção: 5 2\n",
            "Tempos para manutenções preventivas: [0, 8, 660, 1113, 1321, 1380]\n",
            "Severidade para cada subsistema: [1.0, 1.0, 1.0, 1.0, 1.0]\n",
            "Número de Sisemas: 2\n",
            "Fator:  [0.329627346089734, 0.43521856256562297, 0.43521856256562297, 0.43521856256562297, 0.43521856256562297, 0.43521856256562297]\n",
            "Media de falhas:  [0, 0.05333821104058538, 4.441280599094747, 7.495365807033318, 8.898339454529848, 9.296348684933108, 9.836084459713573]\n",
            "Custo =  751.6055387768539\n"
          ]
        },
        {
          "output_type": "stream",
          "name": "stderr",
          "text": [
            "\rpyswarms.single.global_best: 100%|██████████|1/1, best_cost=348\n",
            "2023-12-21 23:25:25,294 - pyswarms.single.global_best - INFO - Optimization finished | best cost: 347.8700841903026, best pos: [0.16048675 0.6085103  0.40408514 0.39705272 0.39960426 0.48079393\n",
            " 0.69240022 0.51754856 1.03132291 0.69782855 0.62392282 0.83942551\n",
            " 1.13972351 0.67457447 0.78096599 0.42036189 0.76731108 0.5499947\n",
            " 0.66880401 0.54813504 0.77765438 0.92258445 1.05587409 0.88194497\n",
            " 1.15519089 0.59768297 0.70231774 0.86799973 0.89872694 0.90846529\n",
            " 0.17985382 0.43329732 0.45757504 0.56174252 0.77132742 0.6679155\n",
            " 0.93757078 0.073694   0.39626503 0.53269277 0.41074759 1.16569783\n",
            " 0.8638823  0.42531387 1.05361779 0.07666448 1.17289093 0.86613529]\n",
            "2023-12-21 23:25:25,296 - pyswarms.single.global_best - INFO - Optimize for 1 iters with {'c1': 0.5, 'c2': 0.3, 'w': 0.9}\n",
            "pyswarms.single.global_best:   0%|          |0/1, best_cost=348"
          ]
        },
        {
          "output_type": "stream",
          "name": "stdout",
          "text": [
            "\n",
            "=========================================================================\n",
            "\n",
            "Número de ciclos de manutenção: 12 2\n",
            "Tempos para manutenções preventivas: [0, 158, 241, 308, 331, 366, 660, 874, 1112, 1206, 1234, 1321, 1357]\n",
            "Severidade para cada subsistema: [1.0, 1.0, 1.0, 1.0, 1.0, 1.0, 1.0, 1.0, 1.0, 1.0, 1.0, 1.0]\n",
            "Número de Sisemas: 2\n",
            "Fator:  [0.329627346089734, 0.43521856256562297, 0.43521856256562297, 0.43521856256562297, 0.43521856256562297, 0.43521856256562297, 0.43521856256562297, 0.43521856256562297, 0.43521856256562297, 0.43521856256562297, 0.43521856256562297, 0.43521856256562297, 0.43521856256562297]\n",
            "Media de falhas:  [0, 1.0600629322833988, 1.6180059417669292, 2.068533173616047, 2.2232227625958982, 2.4586679677093555, 4.438568957240581, 5.880712566284075, 7.485424082156002, 8.119354502420432, 8.30819678704507, 8.895034091337811, 9.137879623257334, 9.832786386654796]\n",
            "Custo =  1573.5374459040097\n"
          ]
        },
        {
          "output_type": "stream",
          "name": "stderr",
          "text": [
            "\rpyswarms.single.global_best: 100%|██████████|1/1, best_cost=348\n",
            "2023-12-21 23:25:25,321 - pyswarms.single.global_best - INFO - Optimization finished | best cost: 347.8700841903026, best pos: [0.16062782 0.60848259 0.40407782 0.39728631 0.40207748 0.39944069\n",
            " 0.71669215 0.51752661 1.25855089 0.69792622 0.62396974 0.84137689\n",
            " 1.1396775  0.67393257 0.78429713 0.42032021 0.76730808 0.54995753\n",
            " 1.1679268  1.17584651 0.77764416 0.92260234 1.05600985 0.06807938\n",
            " 1.15517429 0.62649051 0.25134588 1.01428041 0.89880292 0.90854944\n",
            " 0.11536566 0.43395925 0.4577445  0.5615435  0.77090079 0.66807065\n",
            " 0.93769465 0.07363006 0.39625905 0.53240411 0.18414647 1.16569042\n",
            " 0.86388658 0.42532876 1.05359488 0.7963435  1.17295823 0.86679844]\n",
            "2023-12-21 23:25:25,325 - pyswarms.single.global_best - INFO - Optimize for 1 iters with {'c1': 0.5, 'c2': 0.3, 'w': 0.9}\n",
            "pyswarms.single.global_best: 100%|██████████|1/1, best_cost=348\n",
            "2023-12-21 23:25:25,347 - pyswarms.single.global_best - INFO - Optimization finished | best cost: 347.8700841903026, best pos: [0.16075195 0.60839535 0.40406791 0.39744621 0.40321094 0.41136779\n",
            " 0.73410693 0.51744524 0.24714592 0.69803277 0.62421809 0.84098783\n",
            " 1.13963283 0.67298018 0.78915279 0.42029231 0.76730605 0.54992937\n",
            " 0.22197707 0.43191127 0.77762706 0.92255463 1.05601666 0.62146556\n",
            " 1.15515316 0.66227252 1.19628274 1.03415849 0.89881037 0.90846014\n",
            " 0.18759034 0.44200192 0.45825277 0.56038892 0.77052943 0.66818747\n",
            " 0.93892304 0.07362194 0.39622768 0.53225582 0.09986048 1.16568442\n",
            " 0.86389283 0.4253264  1.05356727 0.14586448 1.17302203 0.86730957]\n",
            "2023-12-21 23:25:25,353 - pyswarms.single.global_best - INFO - Optimize for 1 iters with {'c1': 0.5, 'c2': 0.3, 'w': 0.9}\n"
          ]
        },
        {
          "output_type": "stream",
          "name": "stdout",
          "text": [
            "\n",
            "=========================================================================\n",
            "\n",
            "Número de ciclos de manutenção: 5 2\n",
            "Tempos para manutenções preventivas: [0, 660, 811, 931, 1321, 1388]\n",
            "Severidade para cada subsistema: [1.0, 1.0, 1.0, 1.0, 1.0]\n",
            "Número de Sisemas: 2\n",
            "Fator:  [0.329627346089734, 0.43521856256562297, 0.43521856256562297, 0.43521856256562297, 0.43521856256562297, 0.43521856256562297]\n",
            "Media de falhas:  [0, 4.441451799946073, 5.4592134981384355, 6.268033284000778, 8.898468830808362, 9.3504502435415, 9.8362131646]\n",
            "Custo =  706.7419084819659\n"
          ]
        },
        {
          "output_type": "stream",
          "name": "stderr",
          "text": [
            "pyswarms.single.global_best: 100%|██████████|1/1, best_cost=348"
          ]
        },
        {
          "output_type": "stream",
          "name": "stdout",
          "text": [
            "\n",
            "=========================================================================\n",
            "\n",
            "Número de ciclos de manutenção: 4 2\n",
            "Tempos para manutenções preventivas: [0, 660, 723, 1081, 1321]\n",
            "Severidade para cada subsistema: [1.0, 1.0, 1.0, 1.0]\n",
            "Número de Sisemas: 2\n",
            "Fator:  [0.329627346089734, 0.43521856256562297, 0.43521856256562297, 0.43521856256562297, 0.43521856256562297]\n",
            "Media de falhas:  [0, 4.441451799946073, 4.86600405800105, 7.279551270718898, 8.898353440592402, 9.83613351761756]\n",
            "Custo =  585.5471664871516\n"
          ]
        },
        {
          "output_type": "stream",
          "name": "stderr",
          "text": [
            "\n",
            "2023-12-21 23:25:25,377 - pyswarms.single.global_best - INFO - Optimization finished | best cost: 347.8700841903026, best pos: [0.1607098  0.60831035 0.40405425 0.39744903 0.40216699 0.46646686\n",
            " 0.7377951  0.51735838 0.61504355 0.69813263 0.62444431 0.83949349\n",
            " 1.13959148 0.67205024 0.79381459 0.42029795 0.76730557 0.54991711\n",
            " 0.67683999 0.9927141  0.77760669 0.9224894  1.05579835 1.11286761\n",
            " 1.15512972 0.69730569 0.71032861 1.06069679 0.89875443 0.90826787\n",
            " 0.3776319  0.54799328 0.45885897 0.55821981 0.77020007 0.66824931\n",
            " 0.94055982 0.07366638 0.39618454 0.53219448 0.13406161 1.1656795\n",
            " 0.86392572 0.42532058 1.05353637 0.96911321 1.17307433 0.867296  ]\n",
            "2023-12-21 23:25:25,379 - pyswarms.single.global_best - INFO - Optimize for 1 iters with {'c1': 0.5, 'c2': 0.3, 'w': 0.9}\n",
            "pyswarms.single.global_best: 100%|██████████|1/1, best_cost=348\n",
            "2023-12-21 23:25:25,397 - pyswarms.single.global_best - INFO - Optimization finished | best cost: 347.8700841903026, best pos: [0.16047263 0.60822716 0.40404184 0.39728897 0.40041038 0.52703574\n",
            " 0.74056082 0.51726927 1.00678218 0.69822245 0.62465489 0.83654977\n",
            " 1.13956312 0.67133182 0.79782173 0.42031838 0.76730716 0.5499124\n",
            " 1.18403538 0.17658297 0.77758791 0.92240338 1.05559009 0.12783851\n",
            " 1.15510893 0.72527869 0.15498061 1.13499277 0.89859317 0.90773501\n",
            " 0.64029409 0.66822475 0.4596683  0.55593845 0.76996306 0.66822918\n",
            " 0.94211452 0.07372312 0.39612344 0.53220691 0.30897738 1.16567672\n",
            " 0.86396545 0.42530759 1.05350856 0.4392196  1.17309497 0.8668457 ]\n",
            "2023-12-21 23:25:25,401 - pyswarms.single.global_best - INFO - Optimize for 1 iters with {'c1': 0.5, 'c2': 0.3, 'w': 0.9}\n"
          ]
        },
        {
          "output_type": "stream",
          "name": "stdout",
          "text": [
            "\n",
            "=========================================================================\n",
            "\n",
            "Número de ciclos de manutenção: 10 2\n",
            "Tempos para manutenções preventivas: [0, 155, 240, 660, 874, 904, 933, 1085, 1233, 1321, 1354]\n",
            "Severidade para cada subsistema: [1.0, 1.0, 1.0, 1.0, 1.0, 1.0, 1.0, 1.0, 1.0, 1.0]\n",
            "Número de Sisemas: 2\n",
            "Fator:  [0.329627346089734, 0.43521856256562297, 0.43521856256562297, 0.43521856256562297, 0.43521856256562297, 0.43521856256562297, 0.43521856256562297, 0.43521856256562297, 0.43521856256562297, 0.43521856256562297, 0.43521856256562297]\n",
            "Media de falhas:  [0, 1.039893208165897, 1.611271297370153, 4.43932779108124, 5.881471400124733, 6.083669431232435, 6.279140621794817, 7.3039720208068895, 8.302109107698008, 8.895691542341334, 9.118299032906839, 9.833445382235956]\n",
            "Custo =  1322.8440515878403\n"
          ]
        },
        {
          "output_type": "stream",
          "name": "stderr",
          "text": [
            "pyswarms.single.global_best: 100%|██████████|1/1, best_cost=348\n",
            "2023-12-21 23:25:25,421 - pyswarms.single.global_best - INFO - Optimization finished | best cost: 347.8700841903026, best pos: [0.16020302 0.60815665 0.40403098 0.39706603 0.39707658 0.64851423\n",
            " 0.72968816 0.51718828 1.2959265  0.69830274 0.624914   0.83349976\n",
            " 1.13953945 0.67087652 0.8007551  0.42035988 0.767311   0.54991458\n",
            " 0.37496387 0.62885621 0.77757144 0.92230392 1.05525885 0.48400905\n",
            " 1.15509159 0.74665042 0.96820391 1.14893322 0.89838829 0.9071217\n",
            " 0.87119747 0.80745413 0.46043976 0.5538585  0.76988688 0.66815232\n",
            " 0.94352096 0.07382272 0.39606587 0.53240691 0.51292864 1.16567927\n",
            " 0.86400284 0.42523879 1.05348688 1.14607856 1.17309111 0.86613656]\n",
            "2023-12-21 23:25:25,424 - pyswarms.single.global_best - INFO - Optimize for 1 iters with {'c1': 0.5, 'c2': 0.3, 'w': 0.9}\n"
          ]
        },
        {
          "output_type": "stream",
          "name": "stdout",
          "text": [
            "\n",
            "=========================================================================\n",
            "\n",
            "Número de ciclos de manutenção: 5 2\n",
            "Tempos para manutenções preventivas: [0, 7, 661, 1087, 1205, 1321]\n",
            "Severidade para cada subsistema: [1.0, 1.0, 1.0, 1.0, 1.0]\n",
            "Número de Sisemas: 2\n",
            "Fator:  [0.329627346089734, 0.43521856256562297, 0.43521856256562297, 0.43521856256562297, 0.43521856256562297, 0.43521856256562297]\n",
            "Media de falhas:  [0, 0.046657823194500875, 4.448041255229721, 7.319974962729762, 8.115753898679735, 8.898198709351519, 9.835978786376677]\n",
            "Custo =  754.7451195793863\n"
          ]
        },
        {
          "output_type": "stream",
          "name": "stderr",
          "text": [
            "pyswarms.single.global_best: 100%|██████████|1/1, best_cost=348"
          ]
        },
        {
          "output_type": "stream",
          "name": "stdout",
          "text": [
            "\n",
            "=========================================================================\n",
            "\n",
            "Número de ciclos de manutenção: 7 2\n",
            "Tempos para manutenções preventivas: [0, 158, 661, 690, 725, 818, 1086, 1321]\n",
            "Severidade para cada subsistema: [1.0, 1.0, 1.0, 1.0, 1.0, 1.0, 1.0]\n",
            "Número de Sisemas: 2\n",
            "Fator:  [0.329627346089734, 0.43521856256562297, 0.43521856256562297, 0.43521856256562297, 0.43521856256562297, 0.43521856256562297, 0.43521856256562297, 0.43521856256562297]\n",
            "Media de falhas:  [0, 1.0600629322833988, 4.447031783673417, 4.642378355246741, 4.8781656121416415, 5.504833295892411, 7.311706421849277, 8.896785665050885, 9.834565742076043]\n",
            "Custo =  955.0133359815901\n"
          ]
        },
        {
          "output_type": "stream",
          "name": "stderr",
          "text": [
            "\n",
            "2023-12-21 23:25:25,462 - pyswarms.single.global_best - INFO - Optimization finished | best cost: 347.8700841903026, best pos: [0.15994108 0.60810423 0.40402615 0.39682511 0.39055018 0.77720353\n",
            " 0.71937531 0.51713869 0.35297682 0.69833687 0.62515186 0.83079105\n",
            " 1.13954355 0.6705961  0.80078875 0.42041475 0.76731517 0.54992304\n",
            " 0.94282151 1.04052686 0.77756457 0.92221661 1.05494547 0.83915468\n",
            " 1.15508138 0.75830037 0.40022291 1.09593264 0.8981924  0.90655997\n",
            " 1.0328396  0.8971102  0.4611115  0.55222278 0.76992505 0.66805143\n",
            " 0.94460646 0.07392947 0.3960175  0.53259824 0.67354423 1.1656863\n",
            " 0.8640335  0.42516258 1.05346805 0.48179519 1.1730592  0.86542631]\n",
            "2023-12-21 23:25:25,464 - pyswarms.single.global_best - INFO - Optimize for 1 iters with {'c1': 0.5, 'c2': 0.3, 'w': 0.9}\n",
            "pyswarms.single.global_best: 100%|██████████|1/1, best_cost=348\n",
            "2023-12-21 23:25:25,494 - pyswarms.single.global_best - INFO - Optimization finished | best cost: 347.8700841903026, best pos: [0.15994108 0.60810423 0.40402615 0.39682511 0.39055018 0.77720353\n",
            " 0.71937531 0.51713869 0.35297682 0.69833687 0.62515186 0.83079105\n",
            " 1.13954355 0.6705961  0.80078875 0.42041475 0.76731517 0.54992304\n",
            " 0.94282151 1.04052686 0.77756457 0.92221661 1.05494547 0.83915468\n",
            " 1.15508138 0.75830037 0.40022291 1.09593264 0.8981924  0.90655997\n",
            " 1.0328396  0.8971102  0.4611115  0.55222278 0.76992505 0.66805143\n",
            " 0.94460646 0.07392947 0.3960175  0.53259824 0.67354423 1.1656863\n",
            " 0.8640335  0.42516258 1.05346805 0.48179519 1.1730592  0.86542631]\n"
          ]
        },
        {
          "output_type": "stream",
          "name": "stdout",
          "text": [
            "\n",
            "=========================================================================\n",
            "\n",
            "Número de ciclos de manutenção: 8 2\n",
            "Tempos para manutenções preventivas: [0, 0, 244, 365, 661, 870, 905, 1085, 1321]\n",
            "Severidade para cada subsistema: [1.0, 1.0, 1.0, 1.0, 1.0, 1.0, 1.0, 1.0]\n",
            "Número de Sisemas: 2\n",
            "Fator:  [0.329627346089734, 0.43521856256562297, 0.43521856256562297, 0.43521856256562297, 0.43521856256562297, 0.43521856256562297, 0.43521856256562297, 0.43521856256562297, 0.43521856256562297]\n",
            "Media de falhas:  [0, 0.0, 1.63855685483235, 2.4524471804007244, 4.4458205369953845, 5.85425819427663, 6.090156106401741, 7.303761738317727, 8.895585575304322, 9.83336565232948]\n",
            "Custo =  inf\n"
          ]
        },
        {
          "output_type": "stream",
          "name": "stderr",
          "text": [
            "2023-12-21 23:25:25,496 - pyswarms.single.global_best - INFO - Optimize for 1 iters with {'c1': 0.5, 'c2': 0.3, 'w': 0.9}\n",
            "pyswarms.single.global_best: 100%|██████████|1/1, best_cost=348\n",
            "2023-12-21 23:25:25,514 - pyswarms.single.global_best - INFO - Optimization finished | best cost: 347.8700841903026, best pos: [0.15957306 0.60810062 0.40402835 0.39650377 0.38053567 0.64760984\n",
            " 0.68753191 0.51712447 0.85233574 0.69832754 0.62547536 0.82803934\n",
            " 1.13956149 0.67052185 0.79615553 0.42050906 0.76732321 0.54994935\n",
            " 1.03643526 0.89122722 0.77757336 0.9221645  1.05460081 1.1032193\n",
            " 1.15508986 0.72951953 0.35931909 0.91455382 0.89795577 0.90612109\n",
            " 1.05356628 0.84175033 0.46161742 0.55114671 0.77059558 0.66789261\n",
            " 0.94508031 0.07408799 0.3959607  0.53289548 0.75492461 1.16569835\n",
            " 0.8640707  0.42503121 1.05345988 0.53422075 1.17298598 0.86449708]\n"
          ]
        },
        {
          "output_type": "stream",
          "name": "stdout",
          "text": [
            "\n",
            "=========================================================================\n",
            "\n",
            "Número de ciclos de manutenção: 11 2\n",
            "Tempos para manutenções preventivas: [0, 157, 661, 723, 780, 811, 876, 930, 1083, 1200, 1321, 1388]\n",
            "Severidade para cada subsistema: [1.0, 1.0, 1.0, 1.0, 1.0, 1.0, 1.0, 1.0, 1.0, 1.0, 1.0]\n",
            "Número de Sisemas: 2\n",
            "Fator:  [0.329627346089734, 0.43521856256562297, 0.43521856256562297, 0.43521856256562297, 0.43521856256562297, 0.43521856256562297, 0.43521856256562297, 0.43521856256562297, 0.43521856256562297, 0.43521856256562297, 0.43521856256562297, 0.43521856256562297]\n",
            "Media de falhas:  [0, 1.0533396006099431, 4.447034308684958, 4.864707766523801, 5.248760603984672, 5.4576505707866465, 5.8957123982088735, 6.259688142522344, 7.291257449651926, 8.080285693529513, 8.896455662869071, 9.34843707560221, 9.83419999666071]\n",
            "Custo =  1438.746772220125\n"
          ]
        },
        {
          "output_type": "stream",
          "name": "stderr",
          "text": [
            "2023-12-21 23:25:25,519 - pyswarms.single.global_best - INFO - Optimize for 1 iters with {'c1': 0.5, 'c2': 0.3, 'w': 0.9}\n",
            "pyswarms.single.global_best: 100%|██████████|1/1, best_cost=348\n",
            "2023-12-21 23:25:25,537 - pyswarms.single.global_best - INFO - Optimization finished | best cost: 347.8700841903026, best pos: [0.15952785 0.60813133 0.40403092 0.39644597 0.3778833  0.41818696\n",
            " 0.67407956 0.51716222 0.97825884 0.6982908  0.62548112 0.82834567\n",
            " 1.13957247 0.67092782 0.79323065 0.42052781 0.76732646 0.54997415\n",
            " 0.56085374 0.30925337 0.77758389 0.92218279 1.05455318 1.0447988\n",
            " 1.1551023  0.70781903 0.87463832 0.73757955 0.89793336 0.90611813\n",
            " 0.87642033 0.86386623 0.46143995 0.55234584 0.77097046 0.66786069\n",
            " 0.94461478 0.07411698 0.3959541  0.53299279 0.73359372 1.1657015\n",
            " 0.86406329 0.42500537 1.05346613 1.2696476  1.17294742 0.86436691]\n"
          ]
        },
        {
          "output_type": "stream",
          "name": "stdout",
          "text": [
            "\n",
            "=========================================================================\n",
            "\n",
            "Número de ciclos de manutenção: 4 2\n",
            "Tempos para manutenções preventivas: [0, 662, 780, 1081, 1321]\n",
            "Severidade para cada subsistema: [1.0, 1.0, 1.0, 1.0]\n",
            "Número de Sisemas: 2\n",
            "Fator:  [0.329627346089734, 0.43521856256562297, 0.43521856256562297, 0.43521856256562297, 0.43521856256562297]\n",
            "Media de falhas:  [0, 4.45493910776045, 5.2502284569610715, 7.2795434787607185, 8.898345648634223, 9.83612572565938]\n",
            "Custo =  582.8148294699118\n"
          ]
        },
        {
          "output_type": "stream",
          "name": "stderr",
          "text": [
            "2023-12-21 23:25:25,543 - pyswarms.single.global_best - INFO - Optimize for 1 iters with {'c1': 0.5, 'c2': 0.3, 'w': 0.9}\n",
            "pyswarms.single.global_best: 100%|██████████|1/1, best_cost=348\n",
            "2023-12-21 23:25:25,564 - pyswarms.single.global_best - INFO - Optimization finished | best cost: 347.8700841903026, best pos: [0.15951063 0.60819672 0.40403581 0.39645138 0.37593623 0.22376157\n",
            " 0.66363834 0.51720271 1.13403005 0.69821558 0.62542365 0.83020755\n",
            " 1.13958773 0.67174059 0.79049115 0.42054462 0.76732903 0.54999744\n",
            " 0.04340027 1.11257944 0.7775974  0.92222453 1.05459605 0.91197383\n",
            " 1.15511753 0.68224948 0.04151865 0.59075687 0.89798841 0.90632713\n",
            " 0.62973501 0.84815994 0.46097069 0.55362295 0.7713056  0.66784554\n",
            " 0.94411309 0.074098   0.39599406 0.53304641 0.58785892 1.16570273\n",
            " 0.86404343 0.42500063 1.05348129 0.62216451 1.17291551 0.86463955]\n",
            "2023-12-21 23:25:25,566 - pyswarms.single.global_best - INFO - Optimize for 1 iters with {'c1': 0.5, 'c2': 0.3, 'w': 0.9}\n"
          ]
        },
        {
          "output_type": "stream",
          "name": "stdout",
          "text": [
            "\n",
            "=========================================================================\n",
            "\n",
            "Número de ciclos de manutenção: 13 2\n",
            "Tempos para manutenções preventivas: [0, 7, 153, 361, 662, 693, 727, 780, 815, 937, 1238, 1321, 1354, 1380]\n",
            "Severidade para cada subsistema: [1.0, 1.0, 1.0, 1.0, 1.0, 1.0, 1.0, 1.0, 1.0, 1.0, 1.0, 1.0, 1.0]\n",
            "Número de Sisemas: 2\n",
            "Fator:  [0.329627346089734, 0.43521856256562297, 0.43521856256562297, 0.43521856256562297, 0.43521856256562297, 0.43521856256562297, 0.43521856256562297, 0.43521856256562297, 0.43521856256562297, 0.43521856256562297, 0.43521856256562297, 0.43521856256562297, 0.43521856256562297, 0.43521856256562297]\n",
            "Media de falhas:  [0, 0.046657823194500875, 1.0263410205880905, 2.4251911610157366, 4.4522347243162415, 4.6610552288890394, 4.89010712774735, 5.247209407243165, 5.483055064668625, 6.305365951197624, 8.33528958597872, 8.895146338286496, 9.117753828852, 9.293148814560425, 9.83288458934089]\n",
            "Custo =  1750.9974261054829\n"
          ]
        },
        {
          "output_type": "stream",
          "name": "stderr",
          "text": [
            "pyswarms.single.global_best: 100%|██████████|1/1, best_cost=348\n",
            "2023-12-21 23:25:25,588 - pyswarms.single.global_best - INFO - Optimization finished | best cost: 347.8700841903026, best pos: [0.15950447 0.60825638 0.40404055 0.39653565 0.37575    0.14026953\n",
            " 0.65592925 0.51725588 0.02021119 0.69813373 0.62523987 0.83240243\n",
            " 1.13960608 0.67253137 0.78811905 0.42054499 0.7673289  0.55001613\n",
            " 0.93279911 0.46127388 0.77760978 0.92228239 1.05467521 0.73840712\n",
            " 1.15513188 0.6583607  0.69246694 0.43978956 0.89813288 0.90651684\n",
            " 0.43093158 0.92357852 0.46054264 0.55486389 0.7715981  0.66785826\n",
            " 0.94361719 0.07402612 0.39605971 0.53305878 0.44647    1.16570216\n",
            " 0.86401291 0.42499689 1.05350596 1.27623812 1.17289697 0.86493029]\n"
          ]
        },
        {
          "output_type": "stream",
          "name": "stdout",
          "text": [
            "\n",
            "=========================================================================\n",
            "\n",
            "Número de ciclos de manutenção: 5 2\n",
            "Tempos para manutenções preventivas: [0, 241, 330, 662, 907, 1321]\n",
            "Severidade para cada subsistema: [1.0, 1.0, 1.0, 1.0, 1.0]\n",
            "Número de Sisemas: 2\n",
            "Fator:  [0.329627346089734, 0.43521856256562297, 0.43521856256562297, 0.43521856256562297, 0.43521856256562297, 0.43521856256562297]\n",
            "Media de falhas:  [0, 1.61836853505566, 2.2170736097423207, 4.4528186042882645, 6.103982581309593, 8.896268509829081, 9.834048586854239]\n",
            "Custo =  699.7567509285241\n"
          ]
        },
        {
          "output_type": "stream",
          "name": "stderr",
          "text": [
            "2023-12-21 23:25:25,590 - pyswarms.single.global_best - INFO - Optimize for 1 iters with {'c1': 0.5, 'c2': 0.3, 'w': 0.9}\n",
            "pyswarms.single.global_best: 100%|██████████|1/1, best_cost=348\n",
            "2023-12-21 23:25:25,614 - pyswarms.single.global_best - INFO - Optimization finished | best cost: 347.8700841903026, best pos: [0.15949991 0.60831067 0.40404611 0.3966194  0.37580382 0.13321754\n",
            " 0.65209573 0.517305   0.3241923  0.69805921 0.62504437 0.83465217\n",
            " 1.13962783 0.6732368  0.78684659 0.42052225 0.76732616 0.55002796\n",
            " 0.52933949 1.13477055 0.77762053 0.92233455 1.05482589 0.49747244\n",
            " 1.15514478 0.63720561 0.03114722 0.39856209 0.89831966 0.90681462\n",
            " 0.29268015 0.90796397 0.46011577 0.55618039 0.77168053 0.66788776\n",
            " 0.94313873 0.07393971 0.39612547 0.53303229 0.28545022 1.16570039\n",
            " 0.86397886 0.42500879 1.0535301  0.53071152 1.17288169 0.86527002]\n"
          ]
        },
        {
          "output_type": "stream",
          "name": "stdout",
          "text": [
            "\n",
            "=========================================================================\n",
            "\n",
            "Número de ciclos de manutenção: 6 2\n",
            "Tempos para manutenções preventivas: [0, 333, 661, 818, 933, 1112, 1321]\n",
            "Severidade para cada subsistema: [1.0, 1.0, 1.0, 1.0, 1.0, 1.0]\n",
            "Número de Sisemas: 2\n",
            "Fator:  [0.329627346089734, 0.43521856256562297, 0.43521856256562297, 0.43521856256562297, 0.43521856256562297, 0.43521856256562297, 0.43521856256562297]\n",
            "Media de falhas:  [0, 2.2376909261159206, 4.446975209246089, 5.50487032405299, 6.2799941732556945, 7.48692200814676, 8.896640360140497, 9.834420437165655]\n",
            "Custo =  817.3307396215765\n"
          ]
        },
        {
          "output_type": "stream",
          "name": "stderr",
          "text": [
            "2023-12-21 23:25:25,624 - pyswarms.single.global_best - INFO - Optimize for 1 iters with {'c1': 0.5, 'c2': 0.3, 'w': 0.9}\n",
            "pyswarms.single.global_best:   0%|          |0/1, best_cost=348"
          ]
        },
        {
          "output_type": "stream",
          "name": "stdout",
          "text": [
            "\n",
            "=========================================================================\n",
            "\n",
            "Número de ciclos de manutenção: 9 2\n",
            "Tempos para manutenções preventivas: [0, 3, 334, 362, 661, 876, 1233, 1321, 1358, 1387]\n",
            "Severidade para cada subsistema: [1.0, 1.0, 1.0, 1.0, 1.0, 1.0, 1.0, 1.0, 1.0]\n",
            "Número de Sisemas: 2\n",
            "Fator:  [0.329627346089734, 0.43521856256562297, 0.43521856256562297, 0.43521856256562297, 0.43521856256562297, 0.43521856256562297, 0.43521856256562297, 0.43521856256562297, 0.43521856256562297, 0.43521856256562297]\n",
            "Media de falhas:  [0, 0.019960591155694637, 2.24435660589114, 2.432709422950106, 4.44628059620634, 5.895169825495764, 8.302686767714276, 8.896269202357601, 9.145860784393214, 9.341495633559223, 9.834005170612505]\n",
            "Custo =  1331.9000467335238\n"
          ]
        },
        {
          "output_type": "stream",
          "name": "stderr",
          "text": [
            "\rpyswarms.single.global_best: 100%|██████████|1/1, best_cost=348\n",
            "2023-12-21 23:25:25,653 - pyswarms.single.global_best - INFO - Optimization finished | best cost: 347.8700841903026, best pos: [0.15958114 0.60834906 0.40405159 0.39672375 0.37747412 0.1600466\n",
            " 0.65494022 0.51734809 0.71385196 0.69800931 0.62484154 0.83656068\n",
            " 1.13964735 0.67386975 0.78676724 0.42048608 0.76732299 0.55003506\n",
            " 0.15870768 0.40556244 0.77762746 0.92238097 1.05501386 0.29394078\n",
            " 1.15515601 0.61924045 0.69081281 0.46173275 0.89848996 0.90711863\n",
            " 0.26741993 0.75495281 0.45975951 0.55727073 0.77173603 0.66793078\n",
            " 0.94265139 0.07385283 0.39618075 0.53298683 0.22542126 1.16569806\n",
            " 0.86394912 0.4250432  1.05355334 1.04165137 1.17289005 0.86562813]\n",
            "2023-12-21 23:25:25,662 - pyswarms.single.global_best - INFO - Optimize for 1 iters with {'c1': 0.5, 'c2': 0.3, 'w': 0.9}\n",
            "pyswarms.single.global_best: 100%|██████████|1/1, best_cost=348"
          ]
        },
        {
          "output_type": "stream",
          "name": "stdout",
          "text": [
            "\n",
            "=========================================================================\n",
            "\n",
            "Número de ciclos de manutenção: 6 2\n",
            "Tempos para manutenções preventivas: [0, 151, 333, 661, 697, 1205, 1321]\n",
            "Severidade para cada subsistema: [1.0, 1.0, 1.0, 1.0, 1.0, 1.0]\n",
            "Número de Sisemas: 2\n",
            "Fator:  [0.329627346089734, 0.43521856256562297, 0.43521856256562297, 0.43521856256562297, 0.43521856256562297, 0.43521856256562297, 0.43521856256562297]\n",
            "Media de falhas:  [0, 1.0130015232918275, 2.237057771681216, 4.445866461273265, 4.688370176969998, 8.113805752578987, 8.89625056325077, 9.834030640275929]\n",
            "Custo =  825.660724055201\n"
          ]
        },
        {
          "output_type": "stream",
          "name": "stderr",
          "text": [
            "\n",
            "2023-12-21 23:25:25,683 - pyswarms.single.global_best - INFO - Optimization finished | best cost: 347.8700841903026, best pos: [0.15972204 0.60836003 0.40405663 0.39683372 0.37966478 0.2811449\n",
            " 0.66551086 0.5173753  1.16294882 0.69799988 0.62466112 0.83786647\n",
            " 1.13966382 0.67402814 0.78770477 0.42044992 0.76731937 0.5500311\n",
            " 1.14103805 1.01178895 0.77762984 0.92241323 1.05520979 0.147119\n",
            " 1.15516494 0.60459773 0.04172508 0.54989244 0.89863783 0.90738094\n",
            " 0.37252033 0.72665824 0.45951339 0.55803515 0.77171297 0.66797093\n",
            " 0.94220835 0.07378548 0.39621815 0.53294199 0.1244322  1.16569533\n",
            " 0.86392837 0.42507478 1.05357245 0.21119898 1.17292014 0.86595753]\n",
            "2023-12-21 23:25:25,686 - pyswarms.single.global_best - INFO - Optimize for 1 iters with {'c1': 0.5, 'c2': 0.3, 'w': 0.9}\n",
            "pyswarms.single.global_best: 100%|██████████|1/1, best_cost=348\n",
            "2023-12-21 23:25:25,714 - pyswarms.single.global_best - INFO - Optimization finished | best cost: 347.8700841903026, best pos: [0.15987016 0.60834248 0.40406011 0.39692637 0.38227554 0.28849008\n",
            " 0.67710666 0.51737333 0.21362577 0.69800403 0.62456151 0.83828843\n",
            " 1.13967647 0.67397073 0.78925561 0.42041122 0.76731629 0.55001581\n",
            " 0.83238008 0.23154292 0.77762708 0.92241819 1.05535786 0.01704732\n",
            " 1.15516323 0.60001088 0.86890324 0.64577029 0.89873079 0.9075705\n",
            " 0.5309032  0.64033144 0.45949916 0.55811161 0.77153182 0.66800707\n",
            " 0.94189646 0.07375267 0.39623971 0.5328945  1.25281313 1.16569285\n",
            " 0.86392632 0.42510711 1.05358764 0.71843849 1.17296242 0.86618403]\n"
          ]
        },
        {
          "output_type": "stream",
          "name": "stdout",
          "text": [
            "\n",
            "=========================================================================\n",
            "\n",
            "Número de ciclos de manutenção: 7 2\n",
            "Tempos para manutenções preventivas: [0, 246, 661, 725, 811, 903, 1321, 1380]\n",
            "Severidade para cada subsistema: [1.0, 1.0, 1.0, 1.0, 1.0, 1.0, 1.0]\n",
            "Número de Sisemas: 2\n",
            "Fator:  [0.329627346089734, 0.43521856256562297, 0.43521856256562297, 0.43521856256562297, 0.43521856256562297, 0.43521856256562297, 0.43521856256562297, 0.43521856256562297]\n",
            "Media de falhas:  [0, 1.6520160252511424, 4.446918681621312, 4.878067664148266, 5.457557695821885, 6.07761822956229, 8.896878893859093, 9.294888124262352, 9.834623899042818]\n",
            "Custo =  946.9132677152179\n"
          ]
        },
        {
          "output_type": "stream",
          "name": "stderr",
          "text": [
            "2023-12-21 23:25:25,724 - pyswarms.single.global_best - INFO - Optimize for 1 iters with {'c1': 0.5, 'c2': 0.3, 'w': 0.9}\n",
            "pyswarms.single.global_best:   0%|          |0/1, best_cost=348"
          ]
        },
        {
          "output_type": "stream",
          "name": "stdout",
          "text": [
            "\n",
            "=========================================================================\n",
            "\n",
            "Número de ciclos de manutenção: 5 2\n",
            "Tempos para manutenções preventivas: [0, 661, 904, 1112, 1234, 1321]\n",
            "Severidade para cada subsistema: [1.0, 1.0, 1.0, 1.0, 1.0]\n",
            "Número de Sisemas: 2\n",
            "Fator:  [0.329627346089734, 0.43521856256562297, 0.43521856256562297, 0.43521856256562297, 0.43521856256562297, 0.43521856256562297]\n",
            "Media de falhas:  [0, 4.448195443119637, 6.086333059020518, 7.48878391548133, 8.311579348177105, 8.898416652469846, 9.836196729495004]\n",
            "Custo =  702.5691100122435\n"
          ]
        },
        {
          "output_type": "stream",
          "name": "stderr",
          "text": [
            "\rpyswarms.single.global_best: 100%|██████████|1/1, best_cost=348\n",
            "2023-12-21 23:25:25,744 - pyswarms.single.global_best - INFO - Optimization finished | best cost: 347.8700841903026, best pos: [0.16000572 0.60830581 0.40406106 0.39700685 0.38548106 0.2389176\n",
            " 0.69080878 0.51736776 0.64216939 0.69803864 0.62452383 0.83823525\n",
            " 1.13968717 0.6737294  0.79122191 0.42037863 0.7673144  0.54999875\n",
            " 0.52756076 0.857334   0.77762328 0.92240472 1.05546042 1.28421573\n",
            " 1.15515341 0.59672575 0.32759004 0.72398671 0.89877443 0.90769442\n",
            " 0.70036466 0.55539635 0.45949164 0.55755542 0.77127782 0.66802977\n",
            " 0.94173417 0.0737334  0.39623003 0.5328468  0.95087097 1.16569094\n",
            " 0.86392459 0.42513716 1.0535877  1.29056348 1.17300343 0.86636431]\n",
            "2023-12-21 23:25:25,751 - pyswarms.single.global_best - INFO - Optimize for 1 iters with {'c1': 0.5, 'c2': 0.3, 'w': 0.9}\n",
            "pyswarms.single.global_best: 100%|██████████|1/1, best_cost=348"
          ]
        },
        {
          "output_type": "stream",
          "name": "stdout",
          "text": [
            "\n",
            "=========================================================================\n",
            "\n",
            "Número de ciclos de manutenção: 8 2\n",
            "Tempos para manutenções preventivas: [0, 155, 661, 696, 727, 904, 938, 1321, 1380]\n",
            "Severidade para cada subsistema: [1.0, 1.0, 1.0, 1.0, 1.0, 1.0, 1.0, 1.0]\n",
            "Número de Sisemas: 2\n",
            "Fator:  [0.329627346089734, 0.43521856256562297, 0.43521856256562297, 0.43521856256562297, 0.43521856256562297, 0.43521856256562297, 0.43521856256562297, 0.43521856256562297, 0.43521856256562297]\n",
            "Media de falhas:  [0, 1.039893208165897, 4.447039455747033, 4.682806331991953, 4.8916479997379225, 6.08455605116589, 6.313731439589084, 8.896960003578494, 9.294969233981753, 9.834705008762219]\n",
            "Custo =  1085.3106935525752\n"
          ]
        },
        {
          "output_type": "stream",
          "name": "stderr",
          "text": [
            "\n",
            "2023-12-21 23:25:25,781 - pyswarms.single.global_best - INFO - Optimization finished | best cost: 347.8700841903026, best pos: [0.16011765 0.60826153 0.4040608  0.39707041 0.38832544 0.08532896\n",
            " 0.70281027 0.51733874 1.0159657  0.69807076 0.62453931 0.8379178\n",
            " 1.13968993 0.67335012 0.79299907 0.42035773 0.76731316 0.54998148\n",
            " 0.2038409  0.12015517 0.77761921 0.92238927 1.05550828 1.12090998\n",
            " 1.15513861 0.61065731 1.15405204 0.88329172 0.89868923 0.90766633\n",
            " 0.9405394  0.52076444 0.45949696 0.55689078 0.7709533  0.66804042\n",
            " 0.9416625  0.0737479  0.39621182 0.53280635 0.55947342 1.16568942\n",
            " 0.86393198 0.42515958 1.05358047 0.46517469 1.17303732 0.86651295]\n",
            "2023-12-21 23:25:25,787 - pyswarms.single.global_best - INFO - Optimize for 1 iters with {'c1': 0.5, 'c2': 0.3, 'w': 0.9}\n",
            "pyswarms.single.global_best: 100%|██████████|1/1, best_cost=348\n",
            "2023-12-21 23:25:25,805 - pyswarms.single.global_best - INFO - Optimization finished | best cost: 347.8700841903026, best pos: [0.16017715 0.6082211  0.40405881 0.39710289 0.38999079 1.28696665\n",
            " 0.71296621 0.51730305 1.27083774 0.69810412 0.62463815 0.83757689\n",
            " 1.13968412 0.67284529 0.79454896 0.42035056 0.76731224 0.54996504\n",
            " 1.22674778 0.74404459 0.77761395 0.92236329 1.0555293  0.84800023\n",
            " 1.15512366 0.64309056 0.54834965 0.95279224 0.89854149 0.90763696\n",
            " 1.11047335 0.60335087 0.4596999  0.55620093 0.77066118 0.66803532\n",
            " 0.94185543 0.0737823  0.39618119 0.53277832 0.20495293 1.16568836\n",
            " 0.86394372 0.42517354 1.05356158 1.01684088 1.17305659 0.86654227]\n",
            "2023-12-21 23:25:25,808 - pyswarms.single.global_best - INFO - Optimize for 1 iters with {'c1': 0.5, 'c2': 0.3, 'w': 0.9}\n"
          ]
        },
        {
          "output_type": "stream",
          "name": "stdout",
          "text": [
            "\n",
            "=========================================================================\n",
            "\n",
            "Número de ciclos de manutenção: 6 2\n",
            "Tempos para manutenções preventivas: [0, 661, 873, 907, 1080, 1321, 1352]\n",
            "Severidade para cada subsistema: [1.0, 1.0, 1.0, 1.0, 1.0, 1.0]\n",
            "Número de Sisemas: 2\n",
            "Fator:  [0.329627346089734, 0.43521856256562297, 0.43521856256562297, 0.43521856256562297, 0.43521856256562297, 0.43521856256562297, 0.43521856256562297]\n",
            "Media de falhas:  [0, 4.448195443119637, 5.877273473314071, 6.106432581279969, 7.272833380382334, 8.898380122872126, 9.107495676929458, 9.836135069395953]\n",
            "Custo =  837.0643425200917\n"
          ]
        },
        {
          "output_type": "stream",
          "name": "stderr",
          "text": [
            "pyswarms.single.global_best: 100%|██████████|1/1, best_cost=348\n",
            "2023-12-21 23:25:25,831 - pyswarms.single.global_best - INFO - Optimization finished | best cost: 347.8700841903026, best pos: [0.16015297 0.60818746 0.40405528 0.39705378 0.39102607 1.06441741\n",
            " 0.71917693 0.51726279 0.30309031 0.69813883 0.62476147 0.83669291\n",
            " 1.13967213 0.67235099 0.79533964 0.4203507  0.7673135  0.54995042\n",
            " 0.73667488 0.02738278 0.77760559 0.9223314  1.05549911 0.50828096\n",
            " 1.1551118  0.68087995 1.27679502 0.91099108 0.89837241 0.90752423\n",
            " 1.0992256  0.70035314 0.45997646 0.55550913 0.77045188 0.66801676\n",
            " 0.94212268 0.07383463 0.39615213 0.53275732 1.22327183 1.16568916\n",
            " 0.8639609  0.42516796 1.05353796 0.24577058 1.17306427 0.86646152]\n",
            "2023-12-21 23:25:25,833 - pyswarms.single.global_best - INFO - Optimize for 1 iters with {'c1': 0.5, 'c2': 0.3, 'w': 0.9}\n"
          ]
        },
        {
          "output_type": "stream",
          "name": "stdout",
          "text": [
            "\n",
            "=========================================================================\n",
            "\n",
            "Número de ciclos de manutenção: 9 2\n",
            "Tempos para manutenções preventivas: [0, 248, 362, 661, 724, 1081, 1110, 1234, 1321, 1382]\n",
            "Severidade para cada subsistema: [1.0, 1.0, 1.0, 1.0, 1.0, 1.0, 1.0, 1.0, 1.0]\n",
            "Número de Sisemas: 2\n",
            "Fator:  [0.329627346089734, 0.43521856256562297, 0.43521856256562297, 0.43521856256562297, 0.43521856256562297, 0.43521856256562297, 0.43521856256562297, 0.43521856256562297, 0.43521856256562297, 0.43521856256562297]\n",
            "Media de falhas:  [0, 1.6654754259222806, 2.432480254098834, 4.4460514273550675, 4.870462631291353, 7.277269131141998, 7.472812032835438, 8.309095507252817, 8.895932811545558, 9.307434982169452, 9.833677559484837]\n",
            "Custo =  1192.7169043657775\n"
          ]
        },
        {
          "output_type": "stream",
          "name": "stderr",
          "text": [
            "pyswarms.single.global_best:   0%|          |0/1, best_cost=348"
          ]
        },
        {
          "output_type": "stream",
          "name": "stdout",
          "text": [
            "\n",
            "=========================================================================\n",
            "\n",
            "Número de ciclos de manutenção: 7 2\n",
            "Tempos para manutenções preventivas: [0, 158, 661, 690, 818, 930, 1082, 1321]\n",
            "Severidade para cada subsistema: [1.0, 1.0, 1.0, 1.0, 1.0, 1.0, 1.0]\n",
            "Número de Sisemas: 2\n",
            "Fator:  [0.329627346089734, 0.43521856256562297, 0.43521856256562297, 0.43521856256562297, 0.43521856256562297, 0.43521856256562297, 0.43521856256562297, 0.43521856256562297]\n",
            "Media de falhas:  [0, 1.0600629322833988, 4.447031783673417, 4.642378355246741, 5.5048767751772365, 6.259775558983374, 7.284600857164733, 8.896658450171326, 9.834438527196484]\n",
            "Custo =  947.1501082121302\n"
          ]
        },
        {
          "output_type": "stream",
          "name": "stderr",
          "text": [
            "\rpyswarms.single.global_best: 100%|██████████|1/1, best_cost=348\n",
            "2023-12-21 23:25:25,852 - pyswarms.single.global_best - INFO - Optimization finished | best cost: 347.8700841903026, best pos: [0.16007266 0.60816374 0.40405161 0.39699848 0.39079019 0.77024189\n",
            " 0.72450505 0.5172268  0.72528379 0.69816879 0.62490551 0.83588993\n",
            " 1.13965215 0.67192674 0.7949283  0.42036572 0.76731622 0.54994262\n",
            " 0.2389068  0.67081645 0.77759757 0.92229902 1.05546014 0.11855476\n",
            " 1.15510164 0.71467999 0.56434042 0.92429864 0.89821967 0.9073917\n",
            " 1.1147939  0.80277312 0.46029677 0.55490247 0.77034631 0.66798794\n",
            " 0.94249498 0.07388206 0.39612164 0.53275571 0.81258749 1.16569065\n",
            " 0.86398397 0.42515724 1.05351669 0.94393445 1.17305684 0.86617012]\n",
            "2023-12-21 23:25:25,858 - pyswarms.single.global_best - INFO - Optimize for 1 iters with {'c1': 0.5, 'c2': 0.3, 'w': 0.9}\n",
            "pyswarms.single.global_best:   0%|          |0/1, best_cost=348"
          ]
        },
        {
          "output_type": "stream",
          "name": "stdout",
          "text": [
            "\n",
            "=========================================================================\n",
            "\n",
            "Número de ciclos de manutenção: 8 2\n",
            "Tempos para manutenções preventivas: [0, 366, 661, 721, 938, 1082, 1321, 1358, 1383]\n",
            "Severidade para cada subsistema: [1.0, 1.0, 1.0, 1.0, 1.0, 1.0, 1.0, 1.0]\n",
            "Número de Sisemas: 2\n",
            "Fator:  [0.329627346089734, 0.43521856256562297, 0.43521856256562297, 0.43521856256562297, 0.43521856256562297, 0.43521856256562297, 0.43521856256562297, 0.43521856256562297, 0.43521856256562297]\n",
            "Media de falhas:  [0, 2.4599331298054037, 4.447031732359145, 4.851229795781056, 6.313815630351291, 7.284705085095969, 8.896762678102561, 9.146354260138175, 9.315004087947703, 9.834500062524775]\n",
            "Custo =  1078.6261358525053\n"
          ]
        },
        {
          "output_type": "stream",
          "name": "stderr",
          "text": [
            "\rpyswarms.single.global_best: 100%|██████████|1/1, best_cost=348\n",
            "2023-12-21 23:25:25,891 - pyswarms.single.global_best - INFO - Optimization finished | best cost: 347.8700841903026, best pos: [0.15999479 0.608157   0.40404831 0.39694434 0.38937547 0.48488032\n",
            " 0.72748617 0.51719947 1.11772622 0.69818724 0.62504097 0.8348794\n",
            " 1.13962988 0.67159659 0.79441964 0.42038819 0.76731972 0.54993636\n",
            " 1.09244007 1.29817585 0.77759094 0.92227177 1.05541778 1.04594119\n",
            " 1.15509314 0.74089186 1.13062942 0.92244225 0.89811984 0.90720774\n",
            " 1.25446756 1.00639109 0.46058531 0.55453642 0.77037713 0.66796058\n",
            " 0.94285693 0.07392475 0.39609273 0.53277677 0.31602024 1.16569237\n",
            " 0.86400491 0.42513491 1.05350096 0.28444906 1.17303195 0.86584545]\n",
            "2023-12-21 23:25:25,898 - pyswarms.single.global_best - INFO - Optimize for 1 iters with {'c1': 0.5, 'c2': 0.3, 'w': 0.9}\n",
            "pyswarms.single.global_best: 100%|██████████|1/1, best_cost=348"
          ]
        },
        {
          "output_type": "stream",
          "name": "stdout",
          "text": [
            "\n",
            "=========================================================================\n",
            "\n",
            "Número de ciclos de manutenção: 7 2\n",
            "Tempos para manutenções preventivas: [0, 661, 870, 901, 1081, 1115, 1202, 1321]\n",
            "Severidade para cada subsistema: [1.0, 1.0, 1.0, 1.0, 1.0, 1.0, 1.0]\n",
            "Número de Sisemas: 2\n",
            "Fator:  [0.329627346089734, 0.43521856256562297, 0.43521856256562297, 0.43521856256562297, 0.43521856256562297, 0.43521856256562297, 0.43521856256562297, 0.43521856256562297]\n",
            "Media de falhas:  [0, 4.448195443119637, 5.857042989805187, 6.06597942730615, 7.279575371266856, 7.508834476310791, 8.095554143847275, 8.898234059605464, 9.836014136630622]\n",
            "Custo =  957.0750196342779\n"
          ]
        },
        {
          "output_type": "stream",
          "name": "stderr",
          "text": [
            "\n",
            "2023-12-21 23:25:25,940 - pyswarms.single.global_best - INFO - Optimization finished | best cost: 347.8700841903026, best pos: [0.15991126 0.60816366 0.40404603 0.3968673  0.38757531 0.14675888\n",
            " 0.72339828 0.51717806 0.2809808  0.69819661 0.62514552 0.83390027\n",
            " 1.13960935 0.67155458 0.79339839 0.42041183 0.76732288 0.54994172\n",
            " 0.61296493 0.51252607 0.77758682 0.92225129 1.05535892 0.62691123\n",
            " 1.15509258 0.76073468 0.29473316 0.93083003 0.89809009 0.90703282\n",
            " 0.19584854 1.21432973 0.46081309 0.55427817 0.77056461 0.66793724\n",
            " 0.94316665 0.07395439 0.39607026 0.53280394 1.05497653 1.16569457\n",
            " 0.86401943 0.42511199 1.05348978 0.99230612 1.17299621 0.86555149]\n",
            "2023-12-21 23:25:25,941 - pyswarms.single.global_best - INFO - Optimize for 1 iters with {'c1': 0.5, 'c2': 0.3, 'w': 0.9}\n",
            "pyswarms.single.global_best:   0%|          |0/1"
          ]
        },
        {
          "output_type": "stream",
          "name": "stdout",
          "text": [
            "\n",
            "=========================================================================\n",
            "\n",
            "Número de ciclos de manutenção: 10 2\n",
            "Tempos para manutenções preventivas: [0, 156, 244, 367, 661, 697, 723, 813, 1235, 1321, 1380]\n",
            "Severidade para cada subsistema: [1.0, 1.0, 1.0, 1.0, 1.0, 1.0, 1.0, 1.0, 1.0, 1.0]\n",
            "Número de Sisemas: 2\n",
            "Fator:  [0.329627346089734, 0.43521856256562297, 0.43521856256562297, 0.43521856256562297, 0.43521856256562297, 0.43521856256562297, 0.43521856256562297, 0.43521856256562297, 0.43521856256562297, 0.43521856256562297, 0.43521856256562297]\n",
            "Media de falhas:  [0, 1.0466163590453064, 1.638178300561079, 2.4655294584933873, 4.445437521105105, 4.687941236801838, 4.863097040394092, 5.469542373892683, 8.315344999420745, 8.895437170297493, 9.293446400700752, 9.833182175481218]\n",
            "Custo =  1319.4847566874903\n"
          ]
        },
        {
          "output_type": "stream",
          "name": "stderr",
          "text": [
            "pyswarms.single.global_best: 100%|██████████|1/1, best_cost=348\n",
            "2023-12-21 23:25:26,092 - pyswarms.single.global_best - INFO - Optimization finished | best cost: 347.8700841903026, best pos: [0.15983204 0.60818249 0.40404541 0.39679226 0.38568061 1.27208036\n",
            " 0.71948736 0.51717888 0.81108593 0.69819933 0.62518123 0.8330204\n",
            " 1.13959448 0.67169872 0.79246856 0.42043413 0.76732551 0.54995046\n",
            " 0.09421101 0.97565319 0.77758742 0.92224868 1.05528668 0.30719199\n",
            " 1.15510115 0.77191119 0.74154528 0.92017619 0.89812657 0.90687788\n",
            " 0.53867535 1.20835995 0.46088348 0.55422486 0.77075148 0.66792602\n",
            " 0.9433029  0.07396343 0.39605938 0.5328369  0.42207463 1.16569671\n",
            " 0.86402404 0.42509132 1.05348454 0.37036156 1.17295848 0.86530657]\n",
            "2023-12-21 23:25:26,096 - pyswarms.single.global_best - INFO - Optimize for 1 iters with {'c1': 0.5, 'c2': 0.3, 'w': 0.9}\n",
            "pyswarms.single.global_best: 100%|██████████|1/1, best_cost=348\n",
            "2023-12-21 23:25:26,150 - pyswarms.single.global_best - INFO - Optimization finished | best cost: 347.8700841903026, best pos: [0.15976387 0.60819944 0.4040453  0.3967248  0.38386093 0.97810091\n",
            " 0.71210634 0.51719513 1.26698938 0.69819625 0.62520601 0.83234947\n",
            " 1.13958168 0.67189684 0.79151111 0.42045306 0.76732648 0.54995894\n",
            " 0.97145917 0.07811766 0.77759131 0.92224901 1.05518473 1.20330263\n",
            " 1.1551133  0.77099492 1.20023777 0.87058145 0.89820064 0.90673896\n",
            " 0.85349476 0.98845507 0.46090472 0.55461885 0.77093197 0.66792833\n",
            " 0.94338953 0.07395788 0.39605432 0.53287023 1.11221399 1.1656983\n",
            " 0.86401901 0.42507468 1.05349038 1.03973786 1.17292724 0.86516568]\n",
            "2023-12-21 23:25:26,163 - pyswarms.single.global_best - INFO - Optimize for 1 iters with {'c1': 0.5, 'c2': 0.3, 'w': 0.9}\n"
          ]
        },
        {
          "output_type": "stream",
          "name": "stdout",
          "text": [
            "\n",
            "=========================================================================\n",
            "\n",
            "Número de ciclos de manutenção: 3 2\n",
            "Tempos para manutenções preventivas: [0, 661, 1208, 1321]\n",
            "Severidade para cada subsistema: [1.0, 1.0, 1.0]\n",
            "Número de Sisemas: 2\n",
            "Fator:  [0.329627346089734, 0.43521856256562297, 0.43521856256562297, 0.43521856256562297]\n",
            "Media de falhas:  [0, 4.448195443119637, 8.137404347518602, 8.899614023623336, 9.837394100648494]\n",
            "Custo =  466.17204837515646\n"
          ]
        },
        {
          "output_type": "stream",
          "name": "stderr",
          "text": [
            "pyswarms.single.global_best: 100%|██████████|1/1, best_cost=348\n",
            "2023-12-21 23:25:26,205 - pyswarms.single.global_best - INFO - Optimization finished | best cost: 347.8700841903026, best pos: [0.15971508 0.60821519 0.40404531 0.39667873 0.38259751 0.59695282\n",
            " 0.70422049 0.51723018 0.2501395  0.69817504 0.62515014 0.83180353\n",
            " 1.13958041 0.67211037 0.79064641 0.42046368 0.76732699 0.54996891\n",
            " 0.49274568 0.51488635 0.77759573 0.92226205 1.05507338 0.71413962\n",
            " 1.15512767 0.7502428  0.30881799 0.7672913  0.89826904 0.90662946\n",
            " 1.18916012 0.88038938 0.46082501 0.55507313 0.7710967  0.66793886\n",
            " 0.94339874 0.07395123 0.39605322 0.53289825 0.43350089 1.16569957\n",
            " 0.86400986 0.42506192 1.05350341 0.35433128 1.17290731 0.86508512]\n",
            "2023-12-21 23:25:26,207 - pyswarms.single.global_best - INFO - Optimize for 1 iters with {'c1': 0.5, 'c2': 0.3, 'w': 0.9}\n"
          ]
        },
        {
          "output_type": "stream",
          "name": "stdout",
          "text": [
            "\n",
            "=========================================================================\n",
            "\n",
            "Número de ciclos de manutenção: 4 2\n",
            "Tempos para manutenções preventivas: [0, 366, 661, 726, 1321]\n",
            "Severidade para cada subsistema: [1.0, 1.0, 1.0, 1.0]\n",
            "Número de Sisemas: 2\n",
            "Fator:  [0.329627346089734, 0.43521856256562297, 0.43521856256562297, 0.43521856256562297, 0.43521856256562297]\n",
            "Media de falhas:  [0, 2.4599331298054037, 4.447031732359145, 4.884918525895846, 8.897704323520994, 9.835484400546152]\n",
            "Custo =  584.79038580238\n"
          ]
        },
        {
          "output_type": "stream",
          "name": "stderr",
          "text": [
            "pyswarms.single.global_best: 100%|██████████|1/1, best_cost=348\n",
            "2023-12-21 23:25:26,243 - pyswarms.single.global_best - INFO - Optimization finished | best cost: 347.8700841903026, best pos: [0.15971524 0.60823829 0.40404538 0.3966384  0.38195971 0.2052552\n",
            " 0.69600116 0.51727059 0.63400403 0.69814783 0.62507933 0.83139121\n",
            " 1.13958556 0.67240535 0.78994879 0.42046528 0.76732633 0.54997973\n",
            " 1.29033727 0.99009935 0.77760021 0.92228739 1.05497628 0.19433021\n",
            " 1.15514142 0.72131623 0.73917345 0.63738485 0.89834909 0.90664257\n",
            " 0.28820691 0.84440689 0.46075296 0.55552836 0.77120719 0.66795595\n",
            " 0.94320672 0.07393396 0.39606148 0.53291423 1.19318176 1.16570049\n",
            " 0.86399516 0.42505915 1.05351604 1.13203981 1.17288956 0.86514731]\n",
            "2023-12-21 23:25:26,247 - pyswarms.single.global_best - INFO - Optimize for 1 iters with {'c1': 0.5, 'c2': 0.3, 'w': 0.9}\n"
          ]
        },
        {
          "output_type": "stream",
          "name": "stdout",
          "text": [
            "\n",
            "=========================================================================\n",
            "\n",
            "Número de ciclos de manutenção: 8 2\n",
            "Tempos para manutenções preventivas: [0, 154, 661, 696, 870, 906, 1115, 1208, 1321]\n",
            "Severidade para cada subsistema: [1.0, 1.0, 1.0, 1.0, 1.0, 1.0, 1.0, 1.0]\n",
            "Número de Sisemas: 2\n",
            "Fator:  [0.329627346089734, 0.43521856256562297, 0.43521856256562297, 0.43521856256562297, 0.43521856256562297, 0.43521856256562297, 0.43521856256562297, 0.43521856256562297, 0.43521856256562297]\n",
            "Media de falhas:  [0, 1.0331701485555542, 4.44704207817794, 4.68280895442286, 5.855401831079128, 6.098040179352344, 7.507241378204852, 8.134430217007809, 8.896639893112543, 9.8344199701377]\n",
            "Custo =  1071.6686053495437\n"
          ]
        },
        {
          "output_type": "stream",
          "name": "stderr",
          "text": [
            "pyswarms.single.global_best: 100%|██████████|1/1, best_cost=348\n",
            "2023-12-21 23:25:26,260 - pyswarms.single.global_best - INFO - Optimization finished | best cost: 347.8700841903026, best pos: [0.15974502 0.60826249 0.404046   0.39661883 0.38219814 0.01498843\n",
            " 0.68737755 0.51730573 1.07084488 0.69812222 0.62500047 0.83127566\n",
            " 1.13959742 0.67268532 0.78952816 0.42045758 0.76732428 0.54998902\n",
            " 0.82503355 0.07363743 0.77760431 0.92231594 1.05490091 0.94396296\n",
            " 1.15515092 0.68655901 1.14938493 0.5110152  0.89842108 0.90671033\n",
            " 0.74012493 0.82925034 0.46066817 0.55601892 0.77124646 0.66797561\n",
            " 0.94293335 0.07391111 0.39607347 0.53292542 0.56178381 1.16570019\n",
            " 0.86398046 0.42506213 1.05352832 0.53201564 1.17288943 0.86533067]\n",
            "2023-12-21 23:25:26,261 - pyswarms.single.global_best - INFO - Optimize for 1 iters with {'c1': 0.5, 'c2': 0.3, 'w': 0.9}\n"
          ]
        },
        {
          "output_type": "stream",
          "name": "stdout",
          "text": [
            "\n",
            "=========================================================================\n",
            "\n",
            "Número de ciclos de manutenção: 9 2\n",
            "Tempos para manutenções preventivas: [0, 243, 365, 661, 725, 815, 878, 1234, 1321, 1380]\n",
            "Severidade para cada subsistema: [1.0, 1.0, 1.0, 1.0, 1.0, 1.0, 1.0, 1.0, 1.0]\n",
            "Número de Sisemas: 2\n",
            "Fator:  [0.329627346089734, 0.43521856256562297, 0.43521856256562297, 0.43521856256562297, 0.43521856256562297, 0.43521856256562297, 0.43521856256562297, 0.43521856256562297, 0.43521856256562297, 0.43521856256562297]\n",
            "Media de falhas:  [0, 1.63182735655493, 2.45265938143201, 4.446032738026671, 4.877181720553624, 5.483630240082576, 5.90821557507454, 8.308993953552926, 8.895831257845668, 9.293840488248927, 9.833576263029393]\n",
            "Custo =  1186.177742984401\n"
          ]
        },
        {
          "output_type": "stream",
          "name": "stderr",
          "text": [
            "pyswarms.single.global_best: 100%|██████████|1/1, best_cost=348\n",
            "2023-12-21 23:25:26,280 - pyswarms.single.global_best - INFO - Optimization finished | best cost: 347.8700841903026, best pos: [0.15979194 0.60828405 0.40404747 0.39664636 0.38290723 1.17168779\n",
            " 0.67972746 0.51732889 0.19246523 0.69810016 0.62491234 0.83189534\n",
            " 1.13961243 0.6728794  0.78945738 0.42044399 0.76732143 0.54999713\n",
            " 0.3274608  0.60993754 0.77760726 0.92234174 1.05485279 0.40437523\n",
            " 1.15515623 0.65279559 0.19173828 0.50248465 0.89846717 0.90685023\n",
            " 1.24763214 0.76796951 0.4605544  0.55643595 0.77123578 0.66799294\n",
            " 0.94261971 0.07388749 0.39608442 0.53293044 1.17948105 1.16569985\n",
            " 0.86396814 0.42506678 1.05354117 1.24167787 1.17290182 0.86559595]\n",
            "2023-12-21 23:25:26,281 - pyswarms.single.global_best - INFO - Optimize for 1 iters with {'c1': 0.5, 'c2': 0.3, 'w': 0.9}\n"
          ]
        },
        {
          "output_type": "stream",
          "name": "stdout",
          "text": [
            "\n",
            "=========================================================================\n",
            "\n",
            "Número de ciclos de manutenção: 3 2\n",
            "Tempos para manutenções preventivas: [0, 661, 1201, 1321]\n",
            "Severidade para cada subsistema: [1.0, 1.0, 1.0]\n",
            "Número de Sisemas: 2\n",
            "Fator:  [0.329627346089734, 0.43521856256562297, 0.43521856256562297, 0.43521856256562297]\n",
            "Media de falhas:  [0, 4.448195443119637, 8.090158969616757, 8.899583913818166, 9.837363990843324]\n",
            "Custo =  465.97377978358895\n"
          ]
        },
        {
          "output_type": "stream",
          "name": "stderr",
          "text": [
            "pyswarms.single.global_best: 100%|██████████|1/1, best_cost=348\n",
            "2023-12-21 23:25:26,294 - pyswarms.single.global_best - INFO - Optimization finished | best cost: 347.8700841903026, best pos: [0.15985571 0.60829712 0.40404991 0.39670087 0.38360671 0.93148792\n",
            " 0.6743837  0.51734246 0.6961507  0.69808844 0.62483451 0.83263375\n",
            " 1.1396274  0.67305125 0.78957524 0.42042977 0.76731875 0.5500009\n",
            " 1.1653807  1.14063994 0.77760942 0.92236097 1.05488181 1.26442935\n",
            " 1.15515827 0.62319432 0.54195679 0.49748913 0.8984852  0.90697908\n",
            " 0.24663612 0.67432904 0.46043442 0.55675491 0.77122279 0.66800664\n",
            " 0.9423344  0.07386743 0.39609765 0.53292054 0.41932084 1.16569942\n",
            " 0.86396189 0.42507719 1.05355186 0.57204714 1.17291758 0.8658473 ]\n",
            "2023-12-21 23:25:26,296 - pyswarms.single.global_best - INFO - Optimize for 1 iters with {'c1': 0.5, 'c2': 0.3, 'w': 0.9}\n"
          ]
        },
        {
          "output_type": "stream",
          "name": "stdout",
          "text": [
            "\n",
            "=========================================================================\n",
            "\n",
            "Número de ciclos de manutenção: 7 2\n",
            "Tempos para manutenções preventivas: [0, 3, 363, 661, 724, 904, 1321, 1384]\n",
            "Severidade para cada subsistema: [1.0, 1.0, 1.0, 1.0, 1.0, 1.0, 1.0]\n",
            "Número de Sisemas: 2\n",
            "Fator:  [0.329627346089734, 0.43521856256562297, 0.43521856256562297, 0.43521856256562297, 0.43521856256562297, 0.43521856256562297, 0.43521856256562297, 0.43521856256562297]\n",
            "Media de falhas:  [0, 0.019960591155694637, 2.4396580487697204, 4.446496633133476, 4.870907837069762, 6.084033198603177, 8.896550187885532, 9.321545369086845, 9.834294738262786]\n",
            "Custo =  1071.9180918921213\n"
          ]
        },
        {
          "output_type": "stream",
          "name": "stderr",
          "text": [
            "pyswarms.single.global_best: 100%|██████████|1/1, best_cost=348\n",
            "2023-12-21 23:25:26,314 - pyswarms.single.global_best - INFO - Optimization finished | best cost: 347.8700841903026, best pos: [0.15991656 0.60830882 0.40405244 0.3967544  0.38446587 0.65735171\n",
            " 0.67185875 0.51734408 1.25730804 0.69808267 0.62477728 0.8336306\n",
            " 1.13964049 0.67318084 0.78989493 0.42041593 0.76731668 0.55000364\n",
            " 0.53781855 0.24857792 0.77760927 0.92237356 1.05491243 0.73989837\n",
            " 1.15515524 0.60590747 0.95360347 0.49183227 0.89848804 0.90709896\n",
            " 0.62947931 0.6140042  0.4603127  0.55680182 0.77118907 0.66801416\n",
            " 0.94209866 0.07385565 0.39610957 0.5329008  1.03446179 1.16569831\n",
            " 0.8639596  0.42509372 1.05355743 1.1559514  1.17294387 0.86603524]\n",
            "2023-12-21 23:25:26,317 - pyswarms.single.global_best - INFO - Optimize for 1 iters with {'c1': 0.5, 'c2': 0.3, 'w': 0.9}\n"
          ]
        },
        {
          "output_type": "stream",
          "name": "stdout",
          "text": [
            "\n",
            "=========================================================================\n",
            "\n",
            "Número de ciclos de manutenção: 4 2\n",
            "Tempos para manutenções preventivas: [0, 661, 811, 937, 1321]\n",
            "Severidade para cada subsistema: [1.0, 1.0, 1.0, 1.0]\n",
            "Número de Sisemas: 2\n",
            "Fator:  [0.329627346089734, 0.43521856256562297, 0.43521856256562297, 0.43521856256562297, 0.43521856256562297]\n",
            "Media de falhas:  [0, 4.448195443119637, 5.459217802736781, 6.308488535514581, 8.898460971056222, 9.83624104808138]\n",
            "Custo =  583.2866197475631\n"
          ]
        },
        {
          "output_type": "stream",
          "name": "stderr",
          "text": [
            "pyswarms.single.global_best: 100%|██████████|1/1, best_cost=348\n",
            "2023-12-21 23:25:26,332 - pyswarms.single.global_best - INFO - Optimization finished | best cost: 347.8700841903026, best pos: [0.15997107 0.60830979 0.40405465 0.39681147 0.38535041 0.35786726\n",
            " 0.67427079 0.51734074 0.33059497 0.69808976 0.62472851 0.83456253\n",
            " 1.13964868 0.673157   0.79030214 0.42040448 0.76731536 0.55000441\n",
            " 1.247353   0.79103847 0.77760773 0.92237511 1.05497039 0.24140805\n",
            " 1.15514761 0.60431726 0.02817212 0.53241008 0.89847319 0.9072048\n",
            " 1.09905048 0.55505595 0.46020099 0.55671785 0.77110992 0.66801808\n",
            " 0.94199123 0.07385598 0.39612028 0.53287068 0.30967542 1.16569636\n",
            " 0.86396309 0.42511161 1.05355896 0.37618454 1.17297131 0.86620322]\n",
            "2023-12-21 23:25:26,334 - pyswarms.single.global_best - INFO - Optimize for 1 iters with {'c1': 0.5, 'c2': 0.3, 'w': 0.9}\n"
          ]
        },
        {
          "output_type": "stream",
          "name": "stdout",
          "text": [
            "\n",
            "=========================================================================\n",
            "\n",
            "Número de ciclos de manutenção: 9 2\n",
            "Tempos para manutenções preventivas: [0, 241, 362, 661, 698, 722, 1203, 1232, 1321, 1382]\n",
            "Severidade para cada subsistema: [1.0, 1.0, 1.0, 1.0, 1.0, 1.0, 1.0, 1.0, 1.0]\n",
            "Número de Sisemas: 2\n",
            "Fator:  [0.329627346089734, 0.43521856256562297, 0.43521856256562297, 0.43521856256562297, 0.43521856256562297, 0.43521856256562297, 0.43521856256562297, 0.43521856256562297, 0.43521856256562297, 0.43521856256562297]\n",
            "Media de falhas:  [0, 1.61836853505566, 2.4324582862176554, 4.446029459473889, 4.695270049254359, 4.856951973645339, 8.10035367819688, 8.295939620290346, 8.89626718221169, 9.307769352835583, 9.834011930150968]\n",
            "Custo =  1209.9747466058745\n"
          ]
        },
        {
          "output_type": "stream",
          "name": "stderr",
          "text": [
            "pyswarms.single.global_best:   0%|          |0/1, best_cost=348"
          ]
        },
        {
          "output_type": "stream",
          "name": "stdout",
          "text": [
            "\n",
            "=========================================================================\n",
            "\n",
            "Número de ciclos de manutenção: 7 2\n",
            "Tempos para manutenções preventivas: [0, 154, 245, 661, 872, 931, 1113, 1321]\n",
            "Severidade para cada subsistema: [1.0, 1.0, 1.0, 1.0, 1.0, 1.0, 1.0]\n",
            "Número de Sisemas: 2\n",
            "Fator:  [0.329627346089734, 0.43521856256562297, 0.43521856256562297, 0.43521856256562297, 0.43521856256562297, 0.43521856256562297, 0.43521856256562297, 0.43521856256562297]\n",
            "Media de falhas:  [0, 1.0331701485555542, 1.644899021297845, 4.446046787531509, 5.867968205146606, 6.265645721564737, 7.492802649897547, 8.895776297394077, 9.833556374419235]\n",
            "Custo =  939.5593964884613\n"
          ]
        },
        {
          "output_type": "stream",
          "name": "stderr",
          "text": [
            "\rpyswarms.single.global_best: 100%|██████████|1/1, best_cost=348\n",
            "2023-12-21 23:25:26,357 - pyswarms.single.global_best - INFO - Optimization finished | best cost: 347.8700841903026, best pos: [0.16000873 0.60830243 0.40405605 0.3968614  0.38611478 1.26476369\n",
            " 0.67829615 0.51732935 0.76217999 0.69810036 0.62468473 0.83533413\n",
            " 1.13965595 0.67305942 0.79075817 0.42039516 0.76731517 0.55000384\n",
            " 0.47577322 1.28556851 0.77760489 0.92237084 1.05503198 1.17511404\n",
            " 1.15513609 0.62203182 0.60435225 0.61619039 0.89844216 0.90725945\n",
            " 0.1398792  0.47576028 0.46012103 0.5564974  0.7710194  0.6680186\n",
            " 0.94202037 0.07385952 0.39612917 0.53284138 1.06535316 1.16569434\n",
            " 0.86396649 0.42512775 1.05355843 0.90130474 1.17299722 0.86630122]\n",
            "2023-12-21 23:25:26,359 - pyswarms.single.global_best - INFO - Optimize for 1 iters with {'c1': 0.5, 'c2': 0.3, 'w': 0.9}\n",
            "pyswarms.single.global_best: 100%|██████████|1/1, best_cost=348\n",
            "2023-12-21 23:25:26,383 - pyswarms.single.global_best - INFO - Optimization finished | best cost: 347.8700841903026, best pos: [0.16003594 0.60828732 0.40405617 0.39690045 0.38678284 0.77987932\n",
            " 0.68368032 0.51731284 1.12523308 0.69811803 0.62467986 0.8358519\n",
            " 1.13965835 0.67287039 0.79128808 0.42039327 0.76731624 0.54999815\n",
            " 1.0337696  0.41655787 0.77760219 0.92235903 1.05508861 0.72218016\n",
            " 1.15512505 0.64200019 1.17345429 0.65528585 0.89841024 0.90729168\n",
            " 0.57322229 0.40807373 0.46009432 0.55617183 0.7709216  0.66801392\n",
            " 0.94209448 0.07386767 0.39613608 0.53281633 0.45073293 1.16569256\n",
            " 0.86397207 0.42513888 1.05355718 0.09290598 1.17301534 0.86637865]\n",
            "2023-12-21 23:25:26,384 - pyswarms.single.global_best - INFO - Optimize for 1 iters with {'c1': 0.5, 'c2': 0.3, 'w': 0.9}\n"
          ]
        },
        {
          "output_type": "stream",
          "name": "stdout",
          "text": [
            "\n",
            "=========================================================================\n",
            "\n",
            "Número de ciclos de manutenção: 8 2\n",
            "Tempos para manutenções preventivas: [0, 361, 661, 720, 815, 878, 906, 1321, 1351]\n",
            "Severidade para cada subsistema: [1.0, 1.0, 1.0, 1.0, 1.0, 1.0, 1.0, 1.0]\n",
            "Número de Sisemas: 2\n",
            "Fator:  [0.329627346089734, 0.43521856256562297, 0.43521856256562297, 0.43521856256562297, 0.43521856256562297, 0.43521856256562297, 0.43521856256562297, 0.43521856256562297, 0.43521856256562297]\n",
            "Media de falhas:  [0, 2.4262572599514662, 4.447022042725793, 4.844482457978216, 5.484621345664739, 5.909206680656704, 6.097925832509111, 8.89695545389169, 9.099325067083392, 9.834710976855737]\n",
            "Custo =  1083.0514415406356\n"
          ]
        },
        {
          "output_type": "stream",
          "name": "stderr",
          "text": [
            "pyswarms.single.global_best: 100%|██████████|1/1, best_cost=348\n",
            "2023-12-21 23:25:26,399 - pyswarms.single.global_best - INFO - Optimization finished | best cost: 347.8700841903026, best pos: [0.16001947 0.60826784 0.40405566 0.39693332 0.38722612 0.34504913\n",
            " 0.68897897 0.51729338 0.12804614 0.69813492 0.62471922 0.83615672\n",
            " 1.13965261 0.67263512 0.79176893 0.42039853 0.76731726 0.54999037\n",
            " 0.26740524 0.9103173  0.77759951 0.92233857 1.05514439 0.23681048\n",
            " 1.15511576 0.66114181 0.34959031 0.65933844 0.89837572 0.90728215\n",
            " 0.95969562 0.37739407 0.46007341 0.5557968  0.7708392  0.66800478\n",
            " 0.94221515 0.07387526 0.39613522 0.53279993 1.13490078 1.16569149\n",
            " 0.86398051 0.4251444  1.05355505 0.58774697 1.1730226  0.8663635 ]\n",
            "2023-12-21 23:25:26,400 - pyswarms.single.global_best - INFO - Optimize for 1 iters with {'c1': 0.5, 'c2': 0.3, 'w': 0.9}\n"
          ]
        },
        {
          "output_type": "stream",
          "name": "stdout",
          "text": [
            "\n",
            "=========================================================================\n",
            "\n",
            "Número de ciclos de manutenção: 4 2\n",
            "Tempos para manutenções preventivas: [0, 1, 661, 1201, 1321]\n",
            "Severidade para cada subsistema: [1.0, 1.0, 1.0, 1.0]\n",
            "Número de Sisemas: 2\n",
            "Fator:  [0.329627346089734, 0.43521856256562297, 0.43521856256562297, 0.43521856256562297, 0.43521856256562297]\n",
            "Media de falhas:  [0, 0.006638167347123002, 4.4481644161941265, 8.0892923824534, 8.89871732665481, 9.836497403679967]\n",
            "Custo =  978.7987900662068\n"
          ]
        },
        {
          "output_type": "stream",
          "name": "stderr",
          "text": [
            "pyswarms.single.global_best:   0%|          |0/1, best_cost=348"
          ]
        },
        {
          "output_type": "stream",
          "name": "stdout",
          "text": [
            "\n",
            "=========================================================================\n",
            "\n",
            "Número de ciclos de manutenção: 7 2\n",
            "Tempos para manutenções preventivas: [0, 361, 661, 720, 1080, 1110, 1321, 1356]\n",
            "Severidade para cada subsistema: [1.0, 1.0, 1.0, 1.0, 1.0, 1.0, 1.0]\n",
            "Número de Sisemas: 2\n",
            "Fator:  [0.329627346089734, 0.43521856256562297, 0.43521856256562297, 0.43521856256562297, 0.43521856256562297, 0.43521856256562297, 0.43521856256562297, 0.43521856256562297]\n",
            "Media de falhas:  [0, 2.4262572599514662, 4.447022042725793, 4.844482457978216, 7.271505996459599, 7.473791710031427, 8.896999459030782, 9.133098958984455, 9.834752253848013]\n",
            "Custo =  957.3985809325877\n"
          ]
        },
        {
          "output_type": "stream",
          "name": "stderr",
          "text": [
            "\rpyswarms.single.global_best: 100%|██████████|1/1, best_cost=348\n",
            "2023-12-21 23:25:26,418 - pyswarms.single.global_best - INFO - Optimization finished | best cost: 347.8700841903026, best pos: [0.1599779  0.60824961 0.40405504 0.39695517 0.38758267 1.23578292\n",
            " 0.69370497 0.51726874 0.52454886 0.69814931 0.62481211 0.83606394\n",
            " 1.13964265 0.67241238 0.79209844 0.42040468 0.76731874 0.54998109\n",
            " 0.87726651 0.04580066 0.77759715 0.92231856 1.05519198 1.18527808\n",
            " 1.15510905 0.68163576 0.89179659 0.67978695 0.89834458 0.90721132\n",
            " 0.11645344 0.46373841 0.46006218 0.55546216 0.77079206 0.66798705\n",
            " 0.94235715 0.07388283 0.39612672 0.53280079 0.44801908 1.16569088\n",
            " 0.86398909 0.42514713 1.05355029 1.12530868 1.17301771 0.86618353]\n",
            "2023-12-21 23:25:26,419 - pyswarms.single.global_best - INFO - Optimize for 1 iters with {'c1': 0.5, 'c2': 0.3, 'w': 0.9}\n",
            "pyswarms.single.global_best: 100%|██████████|1/1, best_cost=348\n",
            "2023-12-21 23:25:26,431 - pyswarms.single.global_best - INFO - Optimization finished | best cost: 347.8700841903026, best pos: [0.159938   0.60823483 0.40405365 0.39696903 0.38740754 0.74004997\n",
            " 0.697596   0.51724628 0.96183059 0.69815756 0.62491583 0.83538116\n",
            " 1.13963362 0.67221962 0.79234547 0.42041388 0.76732035 0.54997251\n",
            " 0.19651628 0.58091342 0.77759546 0.92230034 1.05523218 0.75864675\n",
            " 1.15510581 0.69969862 0.09365808 0.72570743 0.89831756 0.90712098\n",
            " 0.65764419 0.55676456 0.46010995 0.55519784 0.77076048 0.66796732\n",
            " 0.94249562 0.07388993 0.39611638 0.53280444 1.13504058 1.16569056\n",
            " 0.86399675 0.42513954 1.0535426  0.31237649 1.17300226 0.86588077]\n",
            "2023-12-21 23:25:26,433 - pyswarms.single.global_best - INFO - Optimize for 1 iters with {'c1': 0.5, 'c2': 0.3, 'w': 0.9}\n"
          ]
        },
        {
          "output_type": "stream",
          "name": "stdout",
          "text": [
            "\n",
            "=========================================================================\n",
            "\n",
            "Número de ciclos de manutenção: 6 2\n",
            "Tempos para manutenções preventivas: [0, 661, 901, 1080, 1233, 1321, 1388]\n",
            "Severidade para cada subsistema: [1.0, 1.0, 1.0, 1.0, 1.0, 1.0]\n",
            "Número de Sisemas: 2\n",
            "Fator:  [0.329627346089734, 0.43521856256562297, 0.43521856256562297, 0.43521856256562297, 0.43521856256562297, 0.43521856256562297, 0.43521856256562297]\n",
            "Media de falhas:  [0, 4.448195443119637, 6.066100602869437, 7.272952317214357, 8.304808932992568, 8.898391367635893, 9.350372780369032, 9.836135701427532]\n",
            "Custo =  825.5081418368521\n"
          ]
        },
        {
          "output_type": "stream",
          "name": "stderr",
          "text": [
            "pyswarms.single.global_best:   0%|          |0/1, best_cost=348"
          ]
        },
        {
          "output_type": "stream",
          "name": "stdout",
          "text": [
            "\n",
            "=========================================================================\n",
            "\n",
            "Número de ciclos de manutenção: 7 2\n",
            "Tempos para manutenções preventivas: [0, 361, 661, 724, 1080, 1201, 1321, 1357]\n",
            "Severidade para cada subsistema: [1.0, 1.0, 1.0, 1.0, 1.0, 1.0, 1.0]\n",
            "Número de Sisemas: 2\n",
            "Fator:  [0.329627346089734, 0.43521856256562297, 0.43521856256562297, 0.43521856256562297, 0.43521856256562297, 0.43521856256562297, 0.43521856256562297, 0.43521856256562297]\n",
            "Media de falhas:  [0, 2.4262572599514662, 4.447022042725793, 4.871433246662079, 7.27149401138133, 8.0874982128607, 8.896923157062108, 9.139768688981631, 9.834675452379093]\n",
            "Custo =  948.1312392019945\n"
          ]
        },
        {
          "output_type": "stream",
          "name": "stderr",
          "text": [
            "\rpyswarms.single.global_best: 100%|██████████|1/1, best_cost=348\n",
            "2023-12-21 23:25:26,453 - pyswarms.single.global_best - INFO - Optimization finished | best cost: 347.8700841903026, best pos: [0.15989231 0.60822855 0.40405208 0.39697978 0.38724346 0.28741644\n",
            " 0.69852908 0.51722846 1.22838487 0.6981611  0.62501002 0.83447259\n",
            " 1.13962437 0.67207071 0.79243714 0.42042383 0.76732177 0.54996485\n",
            " 0.90080604 1.08741707 0.77759514 0.92228842 1.05524661 0.36505244\n",
            " 1.15510425 0.7118175  0.64601733 0.86448026 0.89829382 0.90703348\n",
            " 1.17306549 0.73898708 0.46019252 0.5550272  0.77077379 0.6679506\n",
            " 0.94262972 0.07389746 0.3961054  0.53281145 0.44848162 1.16569127\n",
            " 0.86400334 0.42513202 1.05353514 0.98457537 1.17298236 0.86559118]\n",
            "2023-12-21 23:25:26,455 - pyswarms.single.global_best - INFO - Optimize for 1 iters with {'c1': 0.5, 'c2': 0.3, 'w': 0.9}\n",
            "pyswarms.single.global_best:   0%|          |0/1, best_cost=348"
          ]
        },
        {
          "output_type": "stream",
          "name": "stdout",
          "text": [
            "\n",
            "=========================================================================\n",
            "\n",
            "Número de ciclos de manutenção: 5 2\n",
            "Tempos para manutenções preventivas: [0, 241, 661, 695, 1321, 1380]\n",
            "Severidade para cada subsistema: [1.0, 1.0, 1.0, 1.0, 1.0]\n",
            "Número de Sisemas: 2\n",
            "Fator:  [0.329627346089734, 0.43521856256562297, 0.43521856256562297, 0.43521856256562297, 0.43521856256562297, 0.43521856256562297]\n",
            "Media de falhas:  [0, 1.61836853505566, 4.446920011907853, 4.675950083417519, 8.897746737164429, 9.295755967567688, 9.835491742348154]\n",
            "Custo =  713.9821847044977\n"
          ]
        },
        {
          "output_type": "stream",
          "name": "stderr",
          "text": [
            "\rpyswarms.single.global_best: 100%|██████████|1/1, best_cost=348\n",
            "2023-12-21 23:25:26,474 - pyswarms.single.global_best - INFO - Optimization finished | best cost: 347.8700841903026, best pos: [0.15985117 0.60822552 0.40405067 0.39694417 0.38700901 1.07900485\n",
            " 0.69681975 0.51722372 0.12134856 0.69815791 0.62509248 0.83355161\n",
            " 1.13961615 0.67196487 0.79223068 0.42043248 0.76732287 0.54996157\n",
            " 0.26816855 0.23857368 0.77759571 0.92227776 1.05522606 1.27575908\n",
            " 1.15510466 0.71666857 1.14419018 0.93497605 0.8982863  0.90696046\n",
            " 0.38708221 0.93329525 0.46028351 0.55495483 0.77083121 0.66793582\n",
            " 0.94274491 0.07390368 0.39609673 0.53281778 1.16751436 1.16569258\n",
            " 0.864009   0.42512199 1.0535288  0.30623108 1.17296293 0.86534481]\n",
            "2023-12-21 23:25:26,475 - pyswarms.single.global_best - INFO - Optimize for 1 iters with {'c1': 0.5, 'c2': 0.3, 'w': 0.9}\n",
            "pyswarms.single.global_best: 100%|██████████|1/1, best_cost=348\n",
            "2023-12-21 23:25:26,490 - pyswarms.single.global_best - INFO - Optimization finished | best cost: 347.8700841903026, best pos: [0.15981942 0.60822419 0.40404946 0.39686989 0.38646096 0.53676115\n",
            " 0.69373223 0.51722542 0.42367385 0.69815216 0.62512858 0.83279316\n",
            " 1.13960964 0.67198535 0.79185266 0.42043743 0.76732322 0.54996008\n",
            " 0.99596389 0.75715316 0.7775971  0.92227102 1.05519273 0.795149\n",
            " 1.15511096 0.70964456 0.26200059 1.07886791 0.89828535 0.90691082\n",
            " 0.94395375 1.01520944 0.46036951 0.55509293 0.77090956 0.66792791\n",
            " 0.94282568 0.07390869 0.39609036 0.53283444 0.50509604 1.16569448\n",
            " 0.8640121  0.42511216 1.05352409 0.95455403 1.17294682 0.86515594]\n",
            "2023-12-21 23:25:26,492 - pyswarms.single.global_best - INFO - Optimize for 1 iters with {'c1': 0.5, 'c2': 0.3, 'w': 0.9}\n"
          ]
        },
        {
          "output_type": "stream",
          "name": "stdout",
          "text": [
            "\n",
            "=========================================================================\n",
            "\n",
            "Número de ciclos de manutenção: 6 2\n",
            "Tempos para manutenções preventivas: [0, 360, 661, 904, 1236, 1321, 1354]\n",
            "Severidade para cada subsistema: [1.0, 1.0, 1.0, 1.0, 1.0, 1.0]\n",
            "Número de Sisemas: 2\n",
            "Fator:  [0.329627346089734, 0.43521856256562297, 0.43521856256562297, 0.43521856256562297, 0.43521856256562297, 0.43521856256562297, 0.43521856256562297]\n",
            "Media de falhas:  [0, 2.419522203320902, 4.447020152080986, 6.084694722745018, 8.323649407891306, 8.896996442293801, 9.119603932859306, 9.834750282188423]\n",
            "Custo =  827.9110413637177\n"
          ]
        },
        {
          "output_type": "stream",
          "name": "stderr",
          "text": [
            "pyswarms.single.global_best:   0%|          |0/1, best_cost=348"
          ]
        },
        {
          "output_type": "stream",
          "name": "stdout",
          "text": [
            "\n",
            "=========================================================================\n",
            "\n",
            "Número de ciclos de manutenção: 8 2\n",
            "Tempos para manutenções preventivas: [0, 2, 157, 661, 723, 810, 871, 1204, 1321]\n",
            "Severidade para cada subsistema: [1.0, 1.0, 1.0, 1.0, 1.0, 1.0, 1.0, 1.0]\n",
            "Número de Sisemas: 2\n",
            "Fator:  [0.329627346089734, 0.43521856256562297, 0.43521856256562297, 0.43521856256562297, 0.43521856256562297, 0.43521856256562297, 0.43521856256562297, 0.43521856256562297, 0.43521856256562297]\n",
            "Media de falhas:  [0, 0.013295712419327723, 1.0532973895605184, 4.4465636013804595, 4.8642370592193025, 5.450463580651706, 5.861563292110089, 8.107130352310332, 8.896320201296344, 9.834100278321502]\n",
            "Custo =  1257.6541991187223\n"
          ]
        },
        {
          "output_type": "stream",
          "name": "stderr",
          "text": [
            "\rpyswarms.single.global_best: 100%|██████████|1/1, best_cost=348\n",
            "2023-12-21 23:25:26,512 - pyswarms.single.global_best - INFO - Optimization finished | best cost: 347.8700841903026, best pos: [0.15979334 0.60823043 0.4040487  0.39679899 0.38587101 0.00584253\n",
            " 0.68948731 0.51723697 0.79233365 0.6981403  0.62513943 0.83236124\n",
            " 1.13960562 0.67208199 0.79149286 0.42044069 0.76732269 0.54996357\n",
            " 0.27071096 1.24442338 0.77759956 0.92227309 1.05515987 0.36669563\n",
            " 1.15512006 0.69570514 0.64680735 1.04684035 0.89830008 0.9068834\n",
            " 0.18822941 0.9660075  0.46044237 0.55542362 0.77098954 0.6679312\n",
            " 0.94286171 0.07391248 0.3960901  0.53285435 1.15114511 1.16569631\n",
            " 0.86401327 0.42510331 1.05352103 0.2614366  1.17293382 0.86499015]\n",
            "2023-12-21 23:25:26,513 - pyswarms.single.global_best - INFO - Optimize for 1 iters with {'c1': 0.5, 'c2': 0.3, 'w': 0.9}\n",
            "pyswarms.single.global_best: 100%|██████████|1/1, best_cost=348\n",
            "2023-12-21 23:25:26,530 - pyswarms.single.global_best - INFO - Optimization finished | best cost: 347.8700841903026, best pos: [0.15979422 0.60824292 0.40404828 0.39673519 0.38521548 0.92801849\n",
            " 0.68546665 0.5172553  1.23899725 0.69812859 0.62513705 0.83210348\n",
            " 1.13960505 0.67225414 0.79114194 0.42044202 0.76732181 0.54997051\n",
            " 0.91607506 0.29699281 0.77760192 0.92227544 1.05512365 1.25303242\n",
            " 1.15513084 0.68017293 1.03244874 0.98356258 0.89831708 0.9068823\n",
            " 0.80062446 1.01648934 0.46046922 0.55572972 0.77105744 0.66793827\n",
            " 0.942871   0.07391485 0.3960918  0.5328724  0.4223833  1.16569778\n",
            " 0.86400823 0.42509681 1.05352126 1.00593456 1.17293014 0.86501059]\n",
            "2023-12-21 23:25:26,531 - pyswarms.single.global_best - INFO - Optimize for 1 iters with {'c1': 0.5, 'c2': 0.3, 'w': 0.9}\n"
          ]
        },
        {
          "output_type": "stream",
          "name": "stdout",
          "text": [
            "\n",
            "=========================================================================\n",
            "\n",
            "Número de ciclos de manutenção: 7 2\n",
            "Tempos para manutenções preventivas: [0, 150, 248, 661, 878, 1112, 1321, 1353]\n",
            "Severidade para cada subsistema: [1.0, 1.0, 1.0, 1.0, 1.0, 1.0, 1.0]\n",
            "Número de Sisemas: 2\n",
            "Fator:  [0.329627346089734, 0.43521856256562297, 0.43521856256562297, 0.43521856256562297, 0.43521856256562297, 0.43521856256562297, 0.43521856256562297, 0.43521856256562297]\n",
            "Media de falhas:  [0, 1.0062788347498806, 1.6650680023889182, 4.446025477380984, 5.908398757351998, 7.486142463391568, 8.895860815385305, 9.111722328575047, 9.833615200891828]\n",
            "Custo =  945.4388144284248\n"
          ]
        },
        {
          "output_type": "stream",
          "name": "stderr",
          "text": [
            "pyswarms.single.global_best: 100%|██████████|1/1, best_cost=348\n",
            "2023-12-21 23:25:26,543 - pyswarms.single.global_best - INFO - Optimization finished | best cost: 347.8700841903026, best pos: [0.15981373 0.60825517 0.40404823 0.39668616 0.38462022 0.5363144\n",
            " 0.68250866 0.51727403 0.41678874 0.69811805 0.6250769  0.83236068\n",
            " 1.13960956 0.67245468 0.79088314 0.42043783 0.76732098 0.54997783\n",
            " 0.27004037 0.76660859 0.77760387 0.9222848  1.05508972 0.75466985\n",
            " 1.15514055 0.66565682 0.07172973 0.90583663 0.8983347  0.90688629\n",
            " 0.04773603 0.98651819 0.46045695 0.55601643 0.77110148 0.66794697\n",
            " 0.94282638 0.07391647 0.39609443 0.53288398 0.957631   1.16569865\n",
            " 0.86400246 0.42509481 1.05352271 0.41034468 1.17293205 0.86513971]\n",
            "2023-12-21 23:25:26,545 - pyswarms.single.global_best - INFO - Optimize for 1 iters with {'c1': 0.5, 'c2': 0.3, 'w': 0.9}\n"
          ]
        },
        {
          "output_type": "stream",
          "name": "stdout",
          "text": [
            "\n",
            "=========================================================================\n",
            "\n",
            "Número de ciclos de manutenção: 3 2\n",
            "Tempos para manutenções preventivas: [0, 661, 900, 1321]\n",
            "Severidade para cada subsistema: [1.0, 1.0, 1.0]\n",
            "Número de Sisemas: 2\n",
            "Fator:  [0.329627346089734, 0.43521856256562297, 0.43521856256562297, 0.43521856256562297]\n",
            "Media de falhas:  [0, 4.448195443119637, 6.059356492326044, 8.898848145790588, 9.836628222815746]\n",
            "Custo =  464.4607449657\n"
          ]
        },
        {
          "output_type": "stream",
          "name": "stderr",
          "text": [
            "pyswarms.single.global_best:   0%|          |0/1, best_cost=348"
          ]
        },
        {
          "output_type": "stream",
          "name": "stdout",
          "text": [
            "\n",
            "=========================================================================\n",
            "\n",
            "Número de ciclos de manutenção: 4 2\n",
            "Tempos para manutenções preventivas: [0, 661, 694, 1321, 1353]\n",
            "Severidade para cada subsistema: [1.0, 1.0, 1.0, 1.0]\n",
            "Número de Sisemas: 2\n",
            "Fator:  [0.329627346089734, 0.43521856256562297, 0.43521856256562297, 0.43521856256562297, 0.43521856256562297]\n",
            "Media de falhas:  [0, 4.448195443119637, 4.670565837368726, 8.899104637531309, 9.11496615072105, 9.836859023037832]\n",
            "Custo =  602.5775396441358\n"
          ]
        },
        {
          "output_type": "stream",
          "name": "stderr",
          "text": [
            "\rpyswarms.single.global_best: 100%|██████████|1/1, best_cost=348\n",
            "2023-12-21 23:25:26,560 - pyswarms.single.global_best - INFO - Optimization finished | best cost: 347.8700841903026, best pos: [0.15984368 0.60826703 0.40404877 0.39666329 0.38414998 0.055807\n",
            " 0.6801267  0.5172891  0.97362404 0.69811084 0.62499284 0.83303341\n",
            " 1.13961623 0.67263744 0.79072226 0.42042926 0.76732016 0.54998436\n",
            " 0.98419561 1.20675602 0.77760552 0.92229724 1.05506056 0.30881167\n",
            " 1.15514857 0.65357185 0.52374088 0.79698299 0.89835327 0.9069073\n",
            " 0.683389   1.07281482 0.46042908 0.55623912 0.77114037 0.6679556\n",
            " 0.94273118 0.07391722 0.39609768 0.53288874 0.16226947 1.16569909\n",
            " 0.86399696 0.42509506 1.05352753 1.10681292 1.17293967 0.86525867]\n",
            "2023-12-21 23:25:26,561 - pyswarms.single.global_best - INFO - Optimize for 1 iters with {'c1': 0.5, 'c2': 0.3, 'w': 0.9}\n",
            "pyswarms.single.global_best: 100%|██████████|1/1, best_cost=348\n",
            "2023-12-21 23:25:26,572 - pyswarms.single.global_best - INFO - Optimization finished | best cost: 347.8700841903026, best pos: [0.15987946 0.6082754  0.40404977 0.39665834 0.38393633 1.0567331\n",
            " 0.67976604 0.51730205 0.18301572 0.69810558 0.62490297 0.83388578\n",
            " 1.13962308 0.67278416 0.79073795 0.42041916 0.7673194  0.54999015\n",
            " 0.39470473 0.2489538  0.77760648 0.92231372 1.05504802 0.00972974\n",
            " 1.15515449 0.64955393 0.98921533 0.78151452 0.89836942 0.90693473\n",
            " 1.26042157 1.25252254 0.46038712 0.55635675 0.77114291 0.66796386\n",
            " 0.94261459 0.07391201 0.39610348 0.5328844  0.81549419 1.16569905\n",
            " 0.86399098 0.42510024 1.05353431 0.43729269 1.17295525 0.86545278]\n",
            "2023-12-21 23:25:26,574 - pyswarms.single.global_best - INFO - Optimize for 1 iters with {'c1': 0.5, 'c2': 0.3, 'w': 0.9}\n"
          ]
        },
        {
          "output_type": "stream",
          "name": "stdout",
          "text": [
            "\n",
            "=========================================================================\n",
            "\n",
            "Número de ciclos de manutenção: 5 2\n",
            "Tempos para manutenções preventivas: [0, 244, 661, 720, 1116, 1321]\n",
            "Severidade para cada subsistema: [1.0, 1.0, 1.0, 1.0, 1.0]\n",
            "Número de Sisemas: 2\n",
            "Fator:  [0.329627346089734, 0.43521856256562297, 0.43521856256562297, 0.43521856256562297, 0.43521856256562297, 0.43521856256562297]\n",
            "Media de falhas:  [0, 1.63855685483235, 4.446919148206953, 4.844379563459376, 7.5142622089596305, 8.897001719084455, 9.834781796109613]\n",
            "Custo =  702.365991627997\n"
          ]
        },
        {
          "output_type": "stream",
          "name": "stderr",
          "text": [
            "pyswarms.single.global_best: 100%|██████████|1/1, best_cost=348\n",
            "2023-12-21 23:25:26,592 - pyswarms.single.global_best - INFO - Optimization finished | best cost: 347.8700841903026, best pos: [0.15991478 0.60827833 0.40405131 0.396672   0.38399206 0.68652431\n",
            " 0.68077884 0.51730786 0.76287426 0.69810682 0.62482291 0.83465406\n",
            " 1.13962955 0.672828   0.79076668 0.42041033 0.76731889 0.54999441\n",
            " 1.13575206 0.66415206 0.7776059  0.92232929 1.05504003 1.19762927\n",
            " 1.15515603 0.65273234 0.10509195 0.73048359 0.89837868 0.90697689\n",
            " 0.5249262  0.14228116 0.46032402 0.55631935 0.77110848 0.66797209\n",
            " 0.94250914 0.07390238 0.39610887 0.53287626 0.12325288 1.16569835\n",
            " 0.86398524 0.42510797 1.05354068 1.20498817 1.17297184 0.86564649]\n",
            "2023-12-21 23:25:26,594 - pyswarms.single.global_best - INFO - Optimize for 1 iters with {'c1': 0.5, 'c2': 0.3, 'w': 0.9}\n"
          ]
        },
        {
          "output_type": "stream",
          "name": "stdout",
          "text": [
            "\n",
            "=========================================================================\n",
            "\n",
            "Número de ciclos de manutenção: 6 2\n",
            "Tempos para manutenções preventivas: [0, 1, 154, 661, 1233, 1321, 1353]\n",
            "Severidade para cada subsistema: [1.0, 1.0, 1.0, 1.0, 1.0, 1.0]\n",
            "Número de Sisemas: 2\n",
            "Fator:  [0.329627346089734, 0.43521856256562297, 0.43521856256562297, 0.43521856256562297, 0.43521856256562297, 0.43521856256562297, 0.43521856256562297]\n",
            "Media de falhas:  [0, 0.006638167347123002, 1.033145929009989, 4.446592676205672, 8.303672304039434, 8.89725473868276, 9.113116251872501, 9.835009124189282]\n",
            "Custo =  1224.918999861115\n"
          ]
        },
        {
          "output_type": "stream",
          "name": "stderr",
          "text": [
            "pyswarms.single.global_best: 100%|██████████|1/1, best_cost=348\n",
            "2023-12-21 23:25:26,607 - pyswarms.single.global_best - INFO - Optimization finished | best cost: 347.8700841903026, best pos: [0.15994587 0.60827909 0.40405272 0.39671889 0.38411378 0.30471916\n",
            " 0.68241272 0.51730703 0.01189759 0.69811082 0.62476867 0.83513626\n",
            " 1.13963512 0.67279918 0.79086267 0.42040519 0.76731859 0.54999563\n",
            " 0.41498669 1.04316653 0.7776042  0.92234001 1.0550363  0.98125147\n",
            " 1.15515675 0.65864173 0.57857683 0.76394273 0.89838421 0.90704091\n",
            " 1.13027181 0.41115344 0.46026458 0.5561465  0.77105911 0.66797947\n",
            " 0.94243629 0.07389325 0.39611375 0.53286533 0.74807632 1.16569713\n",
            " 0.86398057 0.425116   1.05354526 0.59320733 1.17298688 0.86582616]\n"
          ]
        },
        {
          "output_type": "stream",
          "name": "stdout",
          "text": [
            "\n",
            "=========================================================================\n",
            "\n",
            "Número de ciclos de manutenção: 6 2\n",
            "Tempos para manutenções preventivas: [0, 661, 690, 811, 870, 907, 1321]\n",
            "Severidade para cada subsistema: [1.0, 1.0, 1.0, 1.0, 1.0, 1.0]\n",
            "Número de Sisemas: 2\n",
            "Fator:  [0.329627346089734, 0.43521856256562297, 0.43521856256562297, 0.43521856256562297, 0.43521856256562297, 0.43521856256562297, 0.43521856256562297]\n",
            "Media de falhas:  [0, 4.448195443119637, 4.643610076500739, 5.458927858991857, 5.856548179071712, 6.105926990387595, 8.898212918907085, 9.835992995932243]\n",
            "Custo =  841.1415984121055\n"
          ]
        },
        {
          "output_type": "stream",
          "name": "stderr",
          "text": [
            "2023-12-21 23:25:26,609 - pyswarms.single.global_best - INFO - Optimize for 1 iters with {'c1': 0.5, 'c2': 0.3, 'w': 0.9}\n",
            "pyswarms.single.global_best: 100%|██████████|1/1, best_cost=348\n",
            "2023-12-21 23:25:26,624 - pyswarms.single.global_best - INFO - Optimization finished | best cost: 347.8700841903026, best pos: [0.15996534 0.60827654 0.40405397 0.39676655 0.38433697 1.18593387\n",
            " 0.68406351 0.51729942 0.655288   0.69811489 0.62475575 0.83553151\n",
            " 1.13963828 0.67270969 0.79096669 0.42040322 0.76731855 0.54999501\n",
            " 1.05131579 0.07113212 0.7776026  0.92234806 1.05503486 0.70329304\n",
            " 1.15515054 0.66798127 1.08191955 0.82786933 0.89838378 0.90710338\n",
            " 0.40745009 0.69604328 0.46021268 0.55597131 0.77098329 0.66798592\n",
            " 0.94240948 0.07388544 0.3961174  0.53285442 0.11890313 1.16569552\n",
            " 0.86397641 0.42512235 1.053548   1.22265893 1.17299784 0.86595141]\n",
            "2023-12-21 23:25:26,626 - pyswarms.single.global_best - INFO - Optimize for 1 iters with {'c1': 0.5, 'c2': 0.3, 'w': 0.9}\n"
          ]
        },
        {
          "output_type": "stream",
          "name": "stdout",
          "text": [
            "\n",
            "=========================================================================\n",
            "\n",
            "Número de ciclos de manutenção: 6 2\n",
            "Tempos para manutenções preventivas: [0, 362, 661, 877, 1118, 1321, 1354]\n",
            "Severidade para cada subsistema: [1.0, 1.0, 1.0, 1.0, 1.0, 1.0]\n",
            "Número de Sisemas: 2\n",
            "Fator:  [0.329627346089734, 0.43521856256562297, 0.43521856256562297, 0.43521856256562297, 0.43521856256562297, 0.43521856256562297, 0.43521856256562297]\n",
            "Media de falhas:  [0, 2.432992355839135, 4.447023949176365, 5.902655191770328, 7.527611621734009, 8.896861687125364, 9.119469177690869, 9.834615527019986]\n",
            "Custo =  825.8094956145294\n"
          ]
        },
        {
          "output_type": "stream",
          "name": "stderr",
          "text": [
            "pyswarms.single.global_best: 100%|██████████|1/1, best_cost=348"
          ]
        },
        {
          "output_type": "stream",
          "name": "stdout",
          "text": [
            "\n",
            "=========================================================================\n",
            "\n",
            "Número de ciclos de manutenção: 4 2\n",
            "Tempos para manutenções preventivas: [0, 246, 661, 1208, 1321]\n",
            "Severidade para cada subsistema: [1.0, 1.0, 1.0, 1.0]\n",
            "Número de Sisemas: 2\n",
            "Fator:  [0.329627346089734, 0.43521856256562297, 0.43521856256562297, 0.43521856256562297, 0.43521856256562297]\n",
            "Media de falhas:  [0, 1.6520160252511424, 4.446918681621312, 8.135284732455471, 8.897494408560204, 9.835274485585362]\n",
            "Custo =  582.3828833502588\n"
          ]
        },
        {
          "output_type": "stream",
          "name": "stderr",
          "text": [
            "\n",
            "2023-12-21 23:25:26,644 - pyswarms.single.global_best - INFO - Optimization finished | best cost: 347.8700841903026, best pos: [0.15996499 0.60827318 0.40405455 0.39681847 0.38474735 0.69238766\n",
            " 0.68598433 0.5172921  1.27445717 0.6981215  0.62477332 0.83541877\n",
            " 1.13964061 0.67261114 0.79112345 0.42040511 0.76731871 0.54999248\n",
            " 0.44391518 0.48951768 0.77760084 0.92234804 1.05504548 0.48859823\n",
            " 1.15513957 0.67689307 0.2174841  0.78968222 0.89838127 0.90715844\n",
            " 0.97953119 0.89978916 0.46017621 0.55580539 0.77091475 0.66799144\n",
            " 0.94238875 0.07387948 0.39611964 0.53284471 0.77895228 1.16569402\n",
            " 0.86397293 0.42512794 1.05354993 0.47158365 1.17300593 0.8660277 ]\n",
            "2023-12-21 23:25:26,645 - pyswarms.single.global_best - INFO - Optimize for 1 iters with {'c1': 0.5, 'c2': 0.3, 'w': 0.9}\n",
            "pyswarms.single.global_best: 100%|██████████|1/1, best_cost=348\n",
            "2023-12-21 23:25:26,665 - pyswarms.single.global_best - INFO - Optimization finished | best cost: 347.8700841903026, best pos: [0.15996072 0.60826735 0.40405446 0.39686506 0.38520507 0.2317509\n",
            " 0.68821813 0.51727817 0.53677288 0.69812791 0.62483222 0.83507609\n",
            " 1.13963942 0.67251878 0.79129497 0.42040744 0.76731913 0.54998649\n",
            " 1.16353322 0.8997217  0.77759935 0.92234556 1.05505535 0.33773336\n",
            " 1.15512809 0.68493709 0.72704341 0.86550732 0.89837243 0.90718953\n",
            " 0.23790841 1.04225746 0.46014698 0.55565729 0.77086214 0.66799317\n",
            " 0.94241865 0.0738742  0.39612092 0.53283636 0.11274856 1.16569277\n",
            " 0.86397314 0.42512902 1.05355135 1.13269897 1.17301026 0.86599865]\n",
            "2023-12-21 23:25:26,667 - pyswarms.single.global_best - INFO - Optimize for 1 iters with {'c1': 0.5, 'c2': 0.3, 'w': 0.9}\n"
          ]
        },
        {
          "output_type": "stream",
          "name": "stdout",
          "text": [
            "\n",
            "=========================================================================\n",
            "\n",
            "Número de ciclos de manutenção: 6 2\n",
            "Tempos para manutenções preventivas: [0, 365, 661, 812, 1111, 1321, 1354]\n",
            "Severidade para cada subsistema: [1.0, 1.0, 1.0, 1.0, 1.0, 1.0]\n",
            "Número de Sisemas: 2\n",
            "Fator:  [0.329627346089734, 0.43521856256562297, 0.43521856256562297, 0.43521856256562297, 0.43521856256562297, 0.43521856256562297, 0.43521856256562297]\n",
            "Media de falhas:  [0, 2.4531978779655623, 4.447029763023596, 5.464482187010647, 7.480437410930461, 8.896900463427855, 9.11950795399336, 9.834654303322477]\n",
            "Custo =  826.2058230745215\n"
          ]
        },
        {
          "output_type": "stream",
          "name": "stderr",
          "text": [
            "pyswarms.single.global_best: 100%|██████████|1/1, best_cost=348"
          ]
        },
        {
          "output_type": "stream",
          "name": "stdout",
          "text": [
            "\n",
            "=========================================================================\n",
            "\n",
            "Número de ciclos de manutenção: 6 2\n",
            "Tempos para manutenções preventivas: [0, 4, 661, 725, 1233, 1321, 1384]\n",
            "Severidade para cada subsistema: [1.0, 1.0, 1.0, 1.0, 1.0, 1.0]\n",
            "Número de Sisemas: 2\n",
            "Fator:  [0.329627346089734, 0.43521856256562297, 0.43521856256562297, 0.43521856256562297, 0.43521856256562297, 0.43521856256562297, 0.43521856256562297]\n",
            "Media de falhas:  [0, 0.026630236855068226, 4.44809696152155, 4.879245944048503, 8.304864964342643, 8.898447398985969, 9.323442580187281, 9.836191949363222]\n",
            "Custo =  924.5941643688416\n"
          ]
        },
        {
          "output_type": "stream",
          "name": "stderr",
          "text": [
            "\n",
            "2023-12-21 23:25:26,681 - pyswarms.single.global_best - INFO - Optimization finished | best cost: 347.8700841903026, best pos: [0.15995173 0.60826209 0.40405401 0.39688811 0.38561627 1.04192075\n",
            " 0.6901945  0.51726489 1.05122882 0.69813372 0.62490237 0.83449817\n",
            " 1.13963528 0.67243186 0.79145453 0.42041146 0.76731961 0.5499805\n",
            " 0.51669183 1.25447277 0.77759857 0.92234298 1.05507673 0.18918459\n",
            " 1.15511788 0.6907374  1.23141192 0.95520678 0.89835956 0.90721637\n",
            " 0.85205188 1.0264904  0.46012477 0.55554074 0.77083835 0.66799107\n",
            " 0.94248679 0.07387317 0.3961201  0.53283319 0.74518151 1.16569207\n",
            " 0.86397683 0.4251285  1.05354881 0.42867635 1.17300769 0.8659125 ]\n",
            "2023-12-21 23:25:26,683 - pyswarms.single.global_best - INFO - Optimize for 1 iters with {'c1': 0.5, 'c2': 0.3, 'w': 0.9}\n",
            "pyswarms.single.global_best:   0%|          |0/1, best_cost=348"
          ]
        },
        {
          "output_type": "stream",
          "name": "stdout",
          "text": [
            "\n",
            "=========================================================================\n",
            "\n",
            "Número de ciclos de manutenção: 6 2\n",
            "Tempos para manutenções preventivas: [0, 244, 367, 661, 872, 908, 1321]\n",
            "Severidade para cada subsistema: [1.0, 1.0, 1.0, 1.0, 1.0, 1.0]\n",
            "Número de Sisemas: 2\n",
            "Fator:  [0.329627346089734, 0.43521856256562297, 0.43521856256562297, 0.43521856256562297, 0.43521856256562297, 0.43521856256562297, 0.43521856256562297]\n",
            "Media de falhas:  [0, 1.63855685483235, 2.466125956511766, 4.446034019123484, 5.867955436738581, 6.1105949164414035, 8.896137146170457, 9.833917223195614]\n",
            "Custo =  824.6244788486202\n"
          ]
        },
        {
          "output_type": "stream",
          "name": "stderr",
          "text": [
            "\rpyswarms.single.global_best: 100%|██████████|1/1, best_cost=348\n",
            "2023-12-21 23:25:26,700 - pyswarms.single.global_best - INFO - Optimization finished | best cost: 347.8700841903026, best pos: [0.15993893 0.60825698 0.40405339 0.3968868  0.38591021 0.48384425\n",
            " 0.69138429 0.51725333 0.23230827 0.69813784 0.62496652 0.83396303\n",
            " 1.13963068 0.67236623 0.79159012 0.42041609 0.76732016 0.5499744\n",
            " 1.22178029 0.1872637  0.7775983  0.92233491 1.05510348 1.2949377\n",
            " 1.15510968 0.6957686  0.32976323 0.98224221 0.89834735 0.9072011\n",
            " 0.03373197 1.13435941 0.46014706 0.55549431 0.77083079 0.66798837\n",
            " 0.94257215 0.07387243 0.39611697 0.53283452 0.03009694 1.16569156\n",
            " 0.86398353 0.42512575 1.05354631 0.98465744 1.17300311 0.86581814]\n",
            "2023-12-21 23:25:26,703 - pyswarms.single.global_best - INFO - Optimize for 1 iters with {'c1': 0.5, 'c2': 0.3, 'w': 0.9}\n",
            "pyswarms.single.global_best: 100%|██████████|1/1, best_cost=348"
          ]
        },
        {
          "output_type": "stream",
          "name": "stdout",
          "text": [
            "\n",
            "=========================================================================\n",
            "\n",
            "Número de ciclos de manutenção: 6 2\n",
            "Tempos para manutenções preventivas: [0, 157, 661, 810, 1234, 1321, 1388]\n",
            "Severidade para cada subsistema: [1.0, 1.0, 1.0, 1.0, 1.0, 1.0]\n",
            "Número de Sisemas: 2\n",
            "Fator:  [0.329627346089734, 0.43521856256562297, 0.43521856256562297, 0.43521856256562297, 0.43521856256562297, 0.43521856256562297, 0.43521856256562297]\n",
            "Media de falhas:  [0, 1.0533396006099431, 4.447034308684958, 5.451006051587472, 8.310288432348592, 8.897125736641334, 9.349107149374472, 9.834870070432972]\n",
            "Custo =  824.851911731062\n"
          ]
        },
        {
          "output_type": "stream",
          "name": "stderr",
          "text": [
            "\n",
            "2023-12-21 23:25:26,714 - pyswarms.single.global_best - INFO - Optimization finished | best cost: 347.8700841903026, best pos: [0.15992444 0.60825266 0.40405268 0.3968812  0.38606993 0.02544884\n",
            " 0.69164805 0.51724616 0.78784361 0.69814111 0.62501953 0.83346555\n",
            " 1.13962655 0.67231932 0.79166891 0.42042115 0.76732063 0.54996906\n",
            " 0.51079092 0.5814788  0.7775984  0.9223265  1.05512851 0.98460252\n",
            " 1.15510866 0.69937097 0.71090756 1.0782189  0.89833671 0.9071819\n",
            " 0.60288571 0.05725827 0.46019764 0.55546662 0.77083068 0.66798289\n",
            " 0.94265621 0.07387269 0.39611233 0.53283934 0.57055399 1.16569197\n",
            " 0.86399014 0.42512082 1.05354169 0.18710533 1.1729947  0.86571394]\n",
            "2023-12-21 23:25:26,719 - pyswarms.single.global_best - INFO - Optimize for 1 iters with {'c1': 0.5, 'c2': 0.3, 'w': 0.9}\n",
            "pyswarms.single.global_best:   0%|          |0/1, best_cost=348"
          ]
        },
        {
          "output_type": "stream",
          "name": "stdout",
          "text": [
            "\n",
            "=========================================================================\n",
            "\n",
            "Número de ciclos de manutenção: 8 2\n",
            "Tempos para manutenções preventivas: [0, 367, 661, 698, 908, 938, 1110, 1202, 1321]\n",
            "Severidade para cada subsistema: [1.0, 1.0, 1.0, 1.0, 1.0, 1.0, 1.0, 1.0]\n",
            "Número de Sisemas: 2\n",
            "Fator:  [0.329627346089734, 0.43521856256562297, 0.43521856256562297, 0.43521856256562297, 0.43521856256562297, 0.43521856256562297, 0.43521856256562297, 0.43521856256562297, 0.43521856256562297]\n",
            "Media de falhas:  [0, 2.4666684203671694, 4.447033717332401, 4.69627430711287, 6.111583182807266, 6.3137969861063015, 7.47352449446679, 8.093962946409434, 8.896642862167623, 9.83442293919278]\n",
            "Custo =  1072.4905267600711\n"
          ]
        },
        {
          "output_type": "stream",
          "name": "stderr",
          "text": [
            "\rpyswarms.single.global_best: 100%|██████████|1/1, best_cost=348\n",
            "2023-12-21 23:25:26,738 - pyswarms.single.global_best - INFO - Optimization finished | best cost: 347.8700841903026, best pos: [0.15991119 0.60825003 0.40405195 0.39687255 0.3860288  0.81183148\n",
            " 0.69167729 0.51724528 1.28640737 0.69814118 0.62505923 0.83309572\n",
            " 1.13962269 0.67231887 0.79173284 0.4204257  0.76732102 0.54996527\n",
            " 1.1697264  0.94973694 0.77759878 0.92231718 1.05514672 0.65399201\n",
            " 1.15510775 0.69703511 1.10691493 1.11160526 0.89832844 0.90714796\n",
            " 1.2133473  0.38046547 0.46026264 0.55547257 0.77085056 0.66797584\n",
            " 0.94271908 0.07387672 0.39610771 0.53284643 1.18617703 1.1656925\n",
            " 0.86399596 0.42511415 1.05353652 0.65655446 1.17298233 0.86561874]\n",
            "2023-12-21 23:25:26,739 - pyswarms.single.global_best - INFO - Optimize for 1 iters with {'c1': 0.5, 'c2': 0.3, 'w': 0.9}\n",
            "pyswarms.single.global_best:   0%|          |0/1, best_cost=348"
          ]
        },
        {
          "output_type": "stream",
          "name": "stdout",
          "text": [
            "\n",
            "=========================================================================\n",
            "\n",
            "Número de ciclos de manutenção: 7 2\n",
            "Tempos para manutenções preventivas: [0, 241, 661, 693, 720, 1231, 1321, 1352]\n",
            "Severidade para cada subsistema: [1.0, 1.0, 1.0, 1.0, 1.0, 1.0, 1.0]\n",
            "Número de Sisemas: 2\n",
            "Fator:  [0.329627346089734, 0.43521856256562297, 0.43521856256562297, 0.43521856256562297, 0.43521856256562297, 0.43521856256562297, 0.43521856256562297, 0.43521856256562297]\n",
            "Media de falhas:  [0, 1.61836853505566, 4.446920011907853, 4.662476578437318, 4.844367478749573, 8.2901989620002, 8.897271648119837, 9.106387202177169, 9.835026594643663]\n",
            "Custo =  968.1222573457276\n"
          ]
        },
        {
          "output_type": "stream",
          "name": "stderr",
          "text": [
            "\rpyswarms.single.global_best: 100%|██████████|1/1, best_cost=348\n",
            "2023-12-21 23:25:26,754 - pyswarms.single.global_best - INFO - Optimization finished | best cost: 347.8700841903026, best pos: [0.15989867 0.60824906 0.40405132 0.39685502 0.38593724 0.24467051\n",
            " 0.69130843 0.51724921 0.25524814 0.69814006 0.62508838 0.83295263\n",
            " 1.13962017 0.67236043 0.79171011 0.42042857 0.76732114 0.54996244\n",
            " 0.42230072 1.2783702  0.77759955 0.92230889 1.05515876 0.38871581\n",
            " 1.15511031 0.69349635 0.14845701 1.24347293 0.8983217  0.90711409\n",
            " 0.47910151 0.75974079 0.46032214 0.55554373 0.77089188 0.66796892\n",
            " 0.94274442 0.07388167 0.39610357 0.53285334 0.43583501 1.16569369\n",
            " 0.86400103 0.42510785 1.05353186 1.15717891 1.17296923 0.8655444 ]\n",
            "2023-12-21 23:25:26,756 - pyswarms.single.global_best - INFO - Optimize for 1 iters with {'c1': 0.5, 'c2': 0.3, 'w': 0.9}\n",
            "pyswarms.single.global_best:   0%|          |0/1, best_cost=348"
          ]
        },
        {
          "output_type": "stream",
          "name": "stdout",
          "text": [
            "\n",
            "=========================================================================\n",
            "\n",
            "Número de ciclos de manutenção: 8 2\n",
            "Tempos para manutenções preventivas: [0, 0, 363, 661, 816, 902, 1113, 1202, 1321]\n",
            "Severidade para cada subsistema: [1.0, 1.0, 1.0, 1.0, 1.0, 1.0, 1.0, 1.0]\n",
            "Número de Sisemas: 2\n",
            "Fator:  [0.329627346089734, 0.43521856256562297, 0.43521856256562297, 0.43521856256562297, 0.43521856256562297, 0.43521856256562297, 0.43521856256562297, 0.43521856256562297, 0.43521856256562297]\n",
            "Media de falhas:  [0, 0.0, 2.4397274908756894, 4.446566075239445, 5.4909801855874365, 6.0706017758436825, 7.4932816891361576, 8.093488880804651, 8.89616879656284, 9.833948873587998]\n",
            "Custo =  inf\n"
          ]
        },
        {
          "output_type": "stream",
          "name": "stderr",
          "text": [
            "\rpyswarms.single.global_best: 100%|██████████|1/1, best_cost=348\n",
            "2023-12-21 23:25:26,770 - pyswarms.single.global_best - INFO - Optimization finished | best cost: 347.8700841903026, best pos: [0.15989867 0.60824906 0.40405132 0.39685502 0.38593724 0.24467051\n",
            " 0.69130843 0.51724921 0.25524814 0.69814006 0.62508838 0.83295263\n",
            " 1.13962017 0.67236043 0.79171011 0.42042857 0.76732114 0.54996244\n",
            " 0.42230072 1.2783702  0.77759955 0.92230889 1.05515876 0.38871581\n",
            " 1.15511031 0.69349635 0.14845701 1.24347293 0.8983217  0.90711409\n",
            " 0.47910151 0.75974079 0.46032214 0.55554373 0.77089188 0.66796892\n",
            " 0.94274442 0.07388167 0.39610357 0.53285334 0.43583501 1.16569369\n",
            " 0.86400103 0.42510785 1.05353186 1.15717891 1.17296923 0.8655444 ]\n",
            "2023-12-21 23:25:26,771 - pyswarms.single.global_best - INFO - Optimize for 1 iters with {'c1': 0.5, 'c2': 0.3, 'w': 0.9}\n",
            "pyswarms.single.global_best: 100%|██████████|1/1, best_cost=348\n",
            "2023-12-21 23:25:26,784 - pyswarms.single.global_best - INFO - Optimization finished | best cost: 347.8700841903026, best pos: [0.15987997 0.60825099 0.40405061 0.39681307 0.38551849 0.4573355\n",
            " 0.68940159 0.51725595 0.90706969 0.69813618 0.6250584  0.83336307\n",
            " 1.13961843 0.67246068 0.79152537 0.42042771 0.76732096 0.54996236\n",
            " 1.29092449 0.82523467 0.77760078 0.92230429 1.05516427 0.0522654\n",
            " 1.15511913 0.68110428 1.08861393 1.13153906 0.89832329 0.90703997\n",
            " 0.20546472 1.28258578 0.46038554 0.5557246  0.77097489 0.66795969\n",
            " 0.94276528 0.07389164 0.39610236 0.53286285 0.081027   1.16569567\n",
            " 0.86400402 0.42510244 1.05352678 1.05656993 1.17295818 0.86549642]\n",
            "2023-12-21 23:25:26,785 - pyswarms.single.global_best - INFO - Optimize for 1 iters with {'c1': 0.5, 'c2': 0.3, 'w': 0.9}\n"
          ]
        },
        {
          "output_type": "stream",
          "name": "stdout",
          "text": [
            "\n",
            "=========================================================================\n",
            "\n",
            "Número de ciclos de manutenção: 3 2\n",
            "Tempos para manutenções preventivas: [0, 661, 1232, 1321]\n",
            "Severidade para cada subsistema: [1.0, 1.0, 1.0]\n",
            "Número de Sisemas: 2\n",
            "Fator:  [0.329627346089734, 0.43521856256562297, 0.43521856256562297, 0.43521856256562297]\n",
            "Media de falhas:  [0, 4.448195443119637, 8.29939380610865, 8.899721368029994, 9.837501445055151]\n",
            "Custo =  467.1001272871641\n"
          ]
        },
        {
          "output_type": "stream",
          "name": "stderr",
          "text": [
            "pyswarms.single.global_best: 100%|██████████|1/1, best_cost=348\n",
            "2023-12-21 23:25:26,799 - pyswarms.single.global_best - INFO - Optimization finished | best cost: 347.8700841903026, best pos: [0.15987637 0.60825433 0.40405072 0.39679515 0.38516319 1.17243913\n",
            " 0.68835702 0.51725852 1.06200846 0.69813221 0.62501744 0.83363134\n",
            " 1.13961892 0.67250327 0.79139561 0.42042513 0.76732048 0.54996457\n",
            " 0.30361773 0.14127712 0.77760132 0.9223088  1.05515197 0.09750287\n",
            " 1.15512764 0.67545695 0.18918394 1.21685672 0.89833325 0.9070141\n",
            " 0.69866949 0.02450706 0.46039739 0.55581326 0.77099797 0.66795871\n",
            " 0.94274906 0.07389509 0.39610349 0.53286499 0.47189609 1.16569631\n",
            " 0.86400319 0.42510413 1.05352673 0.45274283 1.17296105 0.86550587]\n",
            "2023-12-21 23:25:26,800 - pyswarms.single.global_best - INFO - Optimize for 1 iters with {'c1': 0.5, 'c2': 0.3, 'w': 0.9}\n"
          ]
        },
        {
          "output_type": "stream",
          "name": "stdout",
          "text": [
            "\n",
            "=========================================================================\n",
            "\n",
            "Número de ciclos de manutenção: 4 2\n",
            "Tempos para manutenções preventivas: [0, 158, 661, 938, 1321]\n",
            "Severidade para cada subsistema: [1.0, 1.0, 1.0, 1.0]\n",
            "Número de Sisemas: 2\n",
            "Fator:  [0.329627346089734, 0.43521856256562297, 0.43521856256562297, 0.43521856256562297, 0.43521856256562297]\n",
            "Media de falhas:  [0, 1.0600629322833988, 4.447031783673417, 6.313969892419044, 8.897198456408454, 9.834978533433612]\n",
            "Custo =  581.1507582649598\n"
          ]
        },
        {
          "output_type": "stream",
          "name": "stderr",
          "text": [
            "pyswarms.single.global_best:   0%|          |0/1, best_cost=348"
          ]
        },
        {
          "output_type": "stream",
          "name": "stdout",
          "text": [
            "\n",
            "=========================================================================\n",
            "\n",
            "Número de ciclos de manutenção: 9 2\n",
            "Tempos para manutenções preventivas: [0, 8, 240, 362, 661, 722, 901, 938, 1116, 1321]\n",
            "Severidade para cada subsistema: [1.0, 1.0, 1.0, 1.0, 1.0, 1.0, 1.0, 1.0, 1.0]\n",
            "Número de Sisemas: 2\n",
            "Fator:  [0.329627346089734, 0.43521856256562297, 0.43521856256562297, 0.43521856256562297, 0.43521856256562297, 0.43521856256562297, 0.43521856256562297, 0.43521856256562297, 0.43521856256562297, 0.43521856256562297]\n",
            "Media de falhas:  [0, 0.05333821104058538, 1.6115059551031732, 2.432106272526385, 4.44567744578262, 4.8566131900917275, 6.062990725695635, 6.31238726177876, 7.5125821520397285, 8.895321662164553, 9.833101739189711]\n",
            "Custo =  1227.0361884716797\n"
          ]
        },
        {
          "output_type": "stream",
          "name": "stderr",
          "text": [
            "\rpyswarms.single.global_best: 100%|██████████|1/1, best_cost=348\n",
            "2023-12-21 23:25:26,816 - pyswarms.single.global_best - INFO - Optimization finished | best cost: 347.8700841903026, best pos: [0.15987325 0.60825855 0.40405095 0.39677902 0.38483928 0.51856811\n",
            " 0.68736501 0.51726108 1.10901525 0.69812776 0.62496246 0.83393828\n",
            " 1.1396197  0.67254158 0.79127587 0.42042182 0.76732003 0.54996782\n",
            " 0.70407471 0.85183595 0.7776018  0.92231437 1.05513873 0.24870237\n",
            " 1.15513589 0.67085129 0.59266282 0.03703683 0.89834554 0.90699457\n",
            " 1.20156053 0.19095563 0.4603822  0.55589371 0.77101084 0.66796051\n",
            " 0.94271287 0.07389816 0.39610508 0.53286582 0.8878831  1.16569668\n",
            " 0.86400012 0.42510586 1.05352702 1.22988893 1.17296411 0.86556388]\n",
            "2023-12-21 23:25:26,817 - pyswarms.single.global_best - INFO - Optimize for 1 iters with {'c1': 0.5, 'c2': 0.3, 'w': 0.9}\n",
            "pyswarms.single.global_best: 100%|██████████|1/1, best_cost=348"
          ]
        },
        {
          "output_type": "stream",
          "name": "stdout",
          "text": [
            "\n",
            "=========================================================================\n",
            "\n",
            "Número de ciclos de manutenção: 4 2\n",
            "Tempos para manutenções preventivas: [0, 661, 818, 1321, 1355]\n",
            "Severidade para cada subsistema: [1.0, 1.0, 1.0, 1.0]\n",
            "Número de Sisemas: 2\n",
            "Fator:  [0.329627346089734, 0.43521856256562297, 0.43521856256562297, 0.43521856256562297, 0.43521856256562297]\n",
            "Media de falhas:  [0, 4.448195443119637, 5.506413201465593, 8.898863225697697, 9.128216711858947, 9.836616535368355]\n",
            "Custo =  592.533273339891\n"
          ]
        },
        {
          "output_type": "stream",
          "name": "stderr",
          "text": [
            "\n",
            "2023-12-21 23:25:26,831 - pyswarms.single.global_best - INFO - Optimization finished | best cost: 347.8700841903026, best pos: [0.15987497 0.60826239 0.40405141 0.39676948 0.38459475 1.14333985\n",
            " 0.68659557 0.51726389 1.06638873 0.69812379 0.62490541 0.83420875\n",
            " 1.1396207  0.67257006 0.79118529 0.42041881 0.76731964 0.54997139\n",
            " 1.16880808 0.18736249 0.77760215 0.92232019 1.0551255  0.4592865\n",
            " 1.15514228 0.66712692 1.00423161 0.27520064 0.89835747 0.90699391\n",
            " 0.28136326 0.44873685 0.4603444  0.55595641 0.77101664 0.66796352\n",
            " 0.94266052 0.07390005 0.39610682 0.53286478 0.02482068 1.16569676\n",
            " 0.86399406 0.42510881 1.05352732 0.6189425  1.17296828 0.86564073]\n",
            "2023-12-21 23:25:26,832 - pyswarms.single.global_best - INFO - Optimize for 1 iters with {'c1': 0.5, 'c2': 0.3, 'w': 0.9}\n",
            "pyswarms.single.global_best:   0%|          |0/1, best_cost=348"
          ]
        },
        {
          "output_type": "stream",
          "name": "stdout",
          "text": [
            "\n",
            "=========================================================================\n",
            "\n",
            "Número de ciclos de manutenção: 4 2\n",
            "Tempos para manutenções preventivas: [0, 240, 661, 1321, 1387]\n",
            "Severidade para cada subsistema: [1.0, 1.0, 1.0, 1.0]\n",
            "Número de Sisemas: 2\n",
            "Fator:  [0.329627346089734, 0.43521856256562297, 0.43521856256562297, 0.43521856256562297, 0.43521856256562297]\n",
            "Media de falhas:  [0, 1.611639212316374, 4.44692034380485, 8.89794487726508, 9.343179705872075, 9.835689242925357]\n",
            "Custo =  587.4327701507656\n"
          ]
        },
        {
          "output_type": "stream",
          "name": "stderr",
          "text": [
            "\rpyswarms.single.global_best: 100%|██████████|1/1, best_cost=348\n",
            "2023-12-21 23:25:26,853 - pyswarms.single.global_best - INFO - Optimization finished | best cost: 347.8700841903026, best pos: [0.15987657 0.60826549 0.40405189 0.39676553 0.38439539 0.41909226\n",
            " 0.68608062 0.51726703 0.98334875 0.69812059 0.62486188 0.83443769\n",
            " 1.1396223  0.6725855  0.79115404 0.4204165  0.76731934 0.54997591\n",
            " 0.38366394 0.9189727  0.77760222 0.92232538 1.05510841 0.59596492\n",
            " 1.15514528 0.66656574 0.07452251 0.61754744 0.89836646 0.90700006\n",
            " 0.72930876 0.70632158 0.46030061 0.55600891 0.77101274 0.66796827\n",
            " 0.94260502 0.07390031 0.39610894 0.53286309 0.55633158 1.16569675\n",
            " 0.86398821 0.42511185 1.05352831 0.06564505 1.17297304 0.86572025]\n",
            "2023-12-21 23:25:26,854 - pyswarms.single.global_best - INFO - Optimize for 1 iters with {'c1': 0.5, 'c2': 0.3, 'w': 0.9}\n",
            "pyswarms.single.global_best:   0%|          |0/1, best_cost=348"
          ]
        },
        {
          "output_type": "stream",
          "name": "stdout",
          "text": [
            "\n",
            "=========================================================================\n",
            "\n",
            "Número de ciclos de manutenção: 7 2\n",
            "Tempos para manutenções preventivas: [0, 4, 158, 661, 727, 1110, 1201, 1321]\n",
            "Severidade para cada subsistema: [1.0, 1.0, 1.0, 1.0, 1.0, 1.0, 1.0]\n",
            "Número de Sisemas: 2\n",
            "Fator:  [0.329627346089734, 0.43521856256562297, 0.43521856256562297, 0.43521856256562297, 0.43521856256562297, 0.43521856256562297, 0.43521856256562297, 0.43521856256562297]\n",
            "Media de falhas:  [0, 0.026630236855068226, 1.0599912459694794, 4.4465305196314775, 4.891155156523198, 7.473373067512996, 8.087066683668153, 8.896491627869562, 9.83427170489472]\n",
            "Custo =  1035.9577522238128\n"
          ]
        },
        {
          "output_type": "stream",
          "name": "stderr",
          "text": [
            "\rpyswarms.single.global_best: 100%|██████████|1/1, best_cost=348\n",
            "2023-12-21 23:25:26,876 - pyswarms.single.global_best - INFO - Optimization finished | best cost: 347.8700841903026, best pos: [0.15987856 0.60826809 0.40405234 0.39676229 0.38435257 0.94212546\n",
            " 0.68594988 0.51726972 0.96471978 0.69811883 0.62483599 0.83457652\n",
            " 1.13962423 0.67259238 0.79112674 0.42041566 0.76731912 0.5499803\n",
            " 0.95127329 0.26303826 0.77760207 0.92232835 1.05509283 0.71549442\n",
            " 1.15514485 0.66665773 0.64663043 1.00904779 0.89837048 0.90701264\n",
            " 1.08302042 0.8969508  0.46026088 0.55602033 0.77100714 0.66797264\n",
            " 0.94255509 0.07389967 0.39611088 0.53286135 1.19970972 1.16569664\n",
            " 0.86398296 0.42511458 1.05353072 0.95011756 1.17297809 0.86577964]\n",
            "2023-12-21 23:25:26,877 - pyswarms.single.global_best - INFO - Optimize for 1 iters with {'c1': 0.5, 'c2': 0.3, 'w': 0.9}\n",
            "pyswarms.single.global_best: 100%|██████████|1/1, best_cost=348\n",
            "2023-12-21 23:25:26,891 - pyswarms.single.global_best - INFO - Optimization finished | best cost: 347.8700841903026, best pos: [0.15988108 0.60826783 0.40405271 0.39676876 0.3844668  0.1687528\n",
            " 0.68622872 0.5172712  0.82994599 0.69811996 0.62482192 0.83466127\n",
            " 1.13962642 0.67259246 0.79116311 0.4204163  0.76731913 0.54998358\n",
            " 0.21027289 0.9124365  0.77760185 0.9223296  1.05508288 0.72637817\n",
            " 1.15514235 0.66789751 1.21404684 0.03325373 0.89837285 0.90703016\n",
            " 0.00184122 1.13716198 0.46022844 0.55600056 0.77099146 0.66797635\n",
            " 0.94252025 0.07389905 0.39611235 0.53285905 0.4541436  1.16569648\n",
            " 0.86397918 0.42511645 1.05353441 0.48472426 1.17298243 0.86581335]\n",
            "2023-12-21 23:25:26,894 - pyswarms.single.global_best - INFO - Optimize for 1 iters with {'c1': 0.5, 'c2': 0.3, 'w': 0.9}\n"
          ]
        },
        {
          "output_type": "stream",
          "name": "stdout",
          "text": [
            "\n",
            "=========================================================================\n",
            "\n",
            "Número de ciclos de manutenção: 6 2\n",
            "Tempos para manutenções preventivas: [0, 244, 661, 816, 1231, 1321, 1382]\n",
            "Severidade para cada subsistema: [1.0, 1.0, 1.0, 1.0, 1.0, 1.0]\n",
            "Número de Sisemas: 2\n",
            "Fator:  [0.329627346089734, 0.43521856256562297, 0.43521856256562297, 0.43521856256562297, 0.43521856256562297, 0.43521856256562297, 0.43521856256562297]\n",
            "Media de falhas:  [0, 1.63855685483235, 4.446919148206953, 5.491333258554945, 8.289917595013781, 8.896990281133418, 9.308492451757312, 9.834735029072696]\n",
            "Custo =  824.1580035748741\n"
          ]
        },
        {
          "output_type": "stream",
          "name": "stderr",
          "text": [
            "pyswarms.single.global_best:   0%|          |0/1, best_cost=348"
          ]
        },
        {
          "output_type": "stream",
          "name": "stdout",
          "text": [
            "\n",
            "=========================================================================\n",
            "\n",
            "Número de ciclos de manutenção: 3 2\n",
            "Tempos para manutenções preventivas: [0, 661, 1207, 1321]\n",
            "Severidade para cada subsistema: [1.0, 1.0, 1.0]\n",
            "Número de Sisemas: 2\n",
            "Fator:  [0.329627346089734, 0.43521856256562297, 0.43521856256562297, 0.43521856256562297]\n",
            "Media de falhas:  [0, 4.448195443119637, 8.13065496467122, 8.899609688895023, 9.83738976592018]\n",
            "Custo =  466.14215732868126\n"
          ]
        },
        {
          "output_type": "stream",
          "name": "stderr",
          "text": [
            "\rpyswarms.single.global_best: 100%|██████████|1/1, best_cost=348\n",
            "2023-12-21 23:25:26,914 - pyswarms.single.global_best - INFO - Optimization finished | best cost: 347.8700841903026, best pos: [0.15988608 0.60826671 0.40405287 0.39678377 0.38461107 0.75697825\n",
            " 0.68696973 0.51727236 0.837803   0.69812321 0.62482367 0.83456325\n",
            " 1.1396283  0.67256924 0.79124975 0.42041719 0.76731937 0.549986\n",
            " 0.84820245 0.18107949 0.77760157 0.92232923 1.05507527 0.67368128\n",
            " 1.1551389  0.67168192 0.41154012 0.45633022 0.89836937 0.90705261\n",
            " 0.33266642 0.05699817 0.46020543 0.55597402 0.77097169 0.66797887\n",
            " 0.94250805 0.07389735 0.39611359 0.53285636 1.0410181  1.16569623\n",
            " 0.86397721 0.42511737 1.05353798 0.12973562 1.17298587 0.86583268]\n",
            "2023-12-21 23:25:26,915 - pyswarms.single.global_best - INFO - Optimize for 1 iters with {'c1': 0.5, 'c2': 0.3, 'w': 0.9}\n",
            "pyswarms.single.global_best: 100%|██████████|1/1, best_cost=348\n",
            "2023-12-21 23:25:26,927 - pyswarms.single.global_best - INFO - Optimization finished | best cost: 347.8700841903026, best pos: [0.15989195 0.60826401 0.40405292 0.3967998  0.38480109 0.13165969\n",
            " 0.68788613 0.51727166 0.83634919 0.69812724 0.62483815 0.83435947\n",
            " 1.13962998 0.6725251  0.79135945 0.42041914 0.76731972 0.54998701\n",
            " 0.20220387 0.79456782 0.77760125 0.92232758 1.05507391 0.56185454\n",
            " 1.15513382 0.67515843 0.94980124 0.91264293 0.89836576 0.90707584\n",
            " 0.7051489  0.37757454 0.46018707 0.5559469  0.77095064 0.66797956\n",
            " 0.94252156 0.07389557 0.3961146  0.5328539  0.27309168 1.1656958\n",
            " 0.86397579 0.42511801 1.05354104 1.10362099 1.1729886  0.86583189]\n"
          ]
        },
        {
          "output_type": "stream",
          "name": "stdout",
          "text": [
            "\n",
            "=========================================================================\n",
            "\n",
            "Número de ciclos de manutenção: 9 2\n",
            "Tempos para manutenções preventivas: [0, 1, 243, 367, 661, 723, 901, 937, 1321, 1357]\n",
            "Severidade para cada subsistema: [1.0, 1.0, 1.0, 1.0, 1.0, 1.0, 1.0, 1.0, 1.0]\n",
            "Número de Sisemas: 2\n",
            "Fator:  [0.329627346089734, 0.43521856256562297, 0.43521856256562297, 0.43521856256562297, 0.43521856256562297, 0.43521856256562297, 0.43521856256562297, 0.43521856256562297, 0.43521856256562297, 0.43521856256562297]\n",
            "Media de falhas:  [0, 0.006638167347123002, 1.6318010073054194, 2.465877525571516, 4.4457855881832335, 4.863459046022077, 6.0630975292348595, 6.305753139462024, 8.895725575003667, 9.13857110692319, 9.833477870320651]\n",
            "Custo =  1585.645885436853\n"
          ]
        },
        {
          "output_type": "stream",
          "name": "stderr",
          "text": [
            "2023-12-21 23:25:26,932 - pyswarms.single.global_best - INFO - Optimize for 1 iters with {'c1': 0.5, 'c2': 0.3, 'w': 0.9}\n",
            "pyswarms.single.global_best:   0%|          |0/1, best_cost=348"
          ]
        },
        {
          "output_type": "stream",
          "name": "stdout",
          "text": [
            "\n",
            "=========================================================================\n",
            "\n",
            "Número de ciclos de manutenção: 4 2\n",
            "Tempos para manutenções preventivas: [0, 661, 1115, 1206, 1321]\n",
            "Severidade para cada subsistema: [1.0, 1.0, 1.0, 1.0]\n",
            "Número de Sisemas: 2\n",
            "Fator:  [0.329627346089734, 0.43521856256562297, 0.43521856256562297, 0.43521856256562297, 0.43521856256562297]\n",
            "Media de falhas:  [0, 4.448195443119637, 7.509775139166869, 8.123474175374504, 8.899173944456436, 9.836954021481594]\n",
            "Custo =  585.2880707919402\n"
          ]
        },
        {
          "output_type": "stream",
          "name": "stderr",
          "text": [
            "\rpyswarms.single.global_best: 100%|██████████|1/1, best_cost=348\n",
            "2023-12-21 23:25:27,072 - pyswarms.single.global_best - INFO - Optimization finished | best cost: 347.8700841903026, best pos: [0.15989698 0.60826124 0.40405289 0.39681428 0.38498141 0.98421457\n",
            " 0.68873793 0.51726998 0.87935538 0.69813087 0.62487147 0.83407112\n",
            " 1.13963065 0.67248422 0.79146162 0.42042126 0.76732006 0.54998531\n",
            " 0.92140731 0.05815128 0.77760097 0.92232339 1.05507462 0.46087428\n",
            " 1.15512924 0.67848799 0.13469172 0.1361206  0.89836041 0.90709393\n",
            " 1.1131738  0.72959346 0.46019296 0.55589121 0.77093221 0.66797999\n",
            " 0.94255546 0.07389383 0.39611547 0.53285195 0.96324708 1.16569536\n",
            " 0.86397668 0.42511813 1.05354314 0.68396664 1.17299084 0.86582102]\n",
            "2023-12-21 23:25:27,076 - pyswarms.single.global_best - INFO - Optimize for 1 iters with {'c1': 0.5, 'c2': 0.3, 'w': 0.9}\n",
            "pyswarms.single.global_best: 100%|██████████|1/1, best_cost=348\n",
            "2023-12-21 23:25:27,253 - pyswarms.single.global_best - INFO - Optimization finished | best cost: 347.8700841903026, best pos: [0.15990073 0.60825858 0.40405273 0.39682444 0.38516426 0.51915375\n",
            " 0.68944206 0.51726756 0.88773765 0.69813391 0.62491826 0.83378901\n",
            " 1.13962997 0.67244696 0.79153406 0.42042312 0.76732036 0.54998182\n",
            " 0.3982327  0.63625318 0.77760074 0.92231907 1.05507943 0.35502222\n",
            " 1.15512514 0.68138882 0.78512385 0.72186649 0.89835415 0.90710216\n",
            " 0.0509907  1.09602517 0.46019965 0.55583039 0.77091913 0.66797943\n",
            " 0.94259329 0.07389231 0.39611444 0.53285088 0.30205709 1.16569493\n",
            " 0.8639786  0.42511681 1.0535436  0.26532669 1.17298892 0.86581053]\n"
          ]
        },
        {
          "output_type": "stream",
          "name": "stdout",
          "text": [
            "\n",
            "=========================================================================\n",
            "\n",
            "Número de ciclos de manutenção: 6 2\n",
            "Tempos para manutenções preventivas: [0, 661, 1118, 1235, 1321, 1350, 1380]\n",
            "Severidade para cada subsistema: [1.0, 1.0, 1.0, 1.0, 1.0, 1.0]\n",
            "Número de Sisemas: 2\n",
            "Fator:  [0.329627346089734, 0.43521856256562297, 0.43521856256562297, 0.43521856256562297, 0.43521856256562297, 0.43521856256562297, 0.43521856256562297]\n",
            "Media de falhas:  [0, 4.448195443119637, 7.530019178313144, 8.319095806486418, 8.899187977363166, 9.094811667979503, 9.297190349157741, 9.836926123938207]\n",
            "Custo =  844.0919650498786\n"
          ]
        },
        {
          "output_type": "stream",
          "name": "stderr",
          "text": [
            "2023-12-21 23:25:27,257 - pyswarms.single.global_best - INFO - Optimize for 1 iters with {'c1': 0.5, 'c2': 0.3, 'w': 0.9}\n",
            "pyswarms.single.global_best:   0%|          |0/1, best_cost=348"
          ]
        },
        {
          "output_type": "stream",
          "name": "stdout",
          "text": [
            "\n",
            "=========================================================================\n",
            "\n",
            "Número de ciclos de manutenção: 8 2\n",
            "Tempos para manutenções preventivas: [0, 151, 246, 661, 724, 815, 903, 1201, 1321]\n",
            "Severidade para cada subsistema: [1.0, 1.0, 1.0, 1.0, 1.0, 1.0, 1.0, 1.0]\n",
            "Número de Sisemas: 2\n",
            "Fator:  [0.329627346089734, 0.43521856256562297, 0.43521856256562297, 0.43521856256562297, 0.43521856256562297, 0.43521856256562297, 0.43521856256562297, 0.43521856256562297, 0.43521856256562297]\n",
            "Media de falhas:  [0, 1.0130015232918275, 1.651617475721704, 4.446035172450745, 4.870446376387031, 5.483632980956713, 6.076735151882119, 8.08629467206047, 8.895719616261879, 9.833499693287036]\n",
            "Custo =  1061.1141827697872\n"
          ]
        },
        {
          "output_type": "stream",
          "name": "stderr",
          "text": [
            "\rpyswarms.single.global_best: 100%|██████████|1/1, best_cost=348\n",
            "2023-12-21 23:25:27,392 - pyswarms.single.global_best - INFO - Optimization finished | best cost: 347.8700841903026, best pos: [0.15990139 0.60825623 0.40405243 0.39682878 0.38532829 0.13063127\n",
            " 0.68982495 0.51726535 0.92093018 0.69813561 0.62496314 0.83353727\n",
            " 1.13962858 0.67241902 0.79157324 0.42042479 0.76732055 0.54997791\n",
            " 1.19584782 1.2019264  0.77760065 0.92231498 1.05509113 0.17586193\n",
            " 1.15512281 0.68289829 0.10363605 0.00388535 0.89834844 0.90710257\n",
            " 0.4144188  0.05752035 0.46022484 0.55577559 0.77091241 0.66797874\n",
            " 0.94262784 0.073891   0.39611303 0.53285103 0.9193248  1.16569457\n",
            " 0.86398033 0.42511432 1.05354221 1.0817437  1.17298626 0.86578403]\n",
            "2023-12-21 23:25:27,423 - pyswarms.single.global_best - INFO - Optimize for 1 iters with {'c1': 0.5, 'c2': 0.3, 'w': 0.9}\n",
            "pyswarms.single.global_best: 100%|██████████|1/1, best_cost=348\n",
            "2023-12-21 23:25:27,558 - pyswarms.single.global_best - INFO - Optimization finished | best cost: 347.8700841903026, best pos: [0.15990023 0.60825415 0.40405209 0.39682739 0.38547082 1.04214853\n",
            " 0.68972349 0.5172635  1.0158861  0.69813565 0.62499951 0.83339346\n",
            " 1.13962658 0.67240907 0.79156349 0.42042519 0.76732061 0.54997437\n",
            " 0.69942833 0.37088722 0.77760072 0.92231185 1.05510626 1.18665154\n",
            " 1.15512314 0.68384399 0.78013786 0.6693791  0.89834331 0.90709984\n",
            " 0.85836713 0.4105491  0.460264   0.55572908 0.77091611 0.66797601\n",
            " 0.94265307 0.07389083 0.39611126 0.53285175 0.20413962 1.16569429\n",
            " 0.86398215 0.42511192 1.05354063 0.52504619 1.17298185 0.86573252]\n",
            "2023-12-21 23:25:27,629 - pyswarms.single.global_best - INFO - Optimize for 1 iters with {'c1': 0.5, 'c2': 0.3, 'w': 0.9}\n"
          ]
        },
        {
          "output_type": "stream",
          "name": "stdout",
          "text": [
            "\n",
            "=========================================================================\n",
            "\n",
            "Número de ciclos de manutenção: 4 2\n",
            "Tempos para manutenções preventivas: [0, 661, 934, 1321, 1386]\n",
            "Severidade para cada subsistema: [1.0, 1.0, 1.0, 1.0]\n",
            "Número de Sisemas: 2\n",
            "Fator:  [0.329627346089734, 0.43521856256562297, 0.43521856256562297, 0.43521856256562297, 0.43521856256562297]\n",
            "Media de falhas:  [0, 4.448195443119637, 6.288667727497389, 8.898871744031133, 9.337360005993093, 9.836616156401378]\n",
            "Custo =  587.7083990613895\n"
          ]
        },
        {
          "output_type": "stream",
          "name": "stderr",
          "text": [
            "pyswarms.single.global_best: 100%|██████████|1/1, best_cost=348\n",
            "2023-12-21 23:25:27,735 - pyswarms.single.global_best - INFO - Optimization finished | best cost: 347.8700841903026, best pos: [0.15989854 0.60825315 0.40405178 0.3968223  0.38556487 0.619576\n",
            " 0.68939676 0.51726225 0.96542684 0.69813495 0.62502808 0.83335174\n",
            " 1.13962461 0.67240343 0.79150051 0.42042469 0.76732058 0.54997199\n",
            " 0.25049083 0.91471971 0.77760091 0.92231023 1.0551201  0.82037549\n",
            " 1.15512505 0.68285052 0.11930248 0.0688116  0.89833993 0.90709595\n",
            " 1.23219428 0.77484286 0.46030372 0.5557121  0.7709287  0.6679724\n",
            " 0.94266701 0.07389147 0.39610918 0.53285318 0.98462514 1.16569405\n",
            " 0.86398512 0.42510974 1.05353838 0.01509343 1.1729766  0.86567512]\n",
            "2023-12-21 23:25:27,738 - pyswarms.single.global_best - INFO - Optimize for 1 iters with {'c1': 0.5, 'c2': 0.3, 'w': 0.9}\n"
          ]
        },
        {
          "output_type": "stream",
          "name": "stdout",
          "text": [
            "\n",
            "=========================================================================\n",
            "\n",
            "Número de ciclos de manutenção: 5 2\n",
            "Tempos para manutenções preventivas: [0, 154, 362, 661, 1321, 1357]\n",
            "Severidade para cada subsistema: [1.0, 1.0, 1.0, 1.0, 1.0]\n",
            "Número de Sisemas: 2\n",
            "Fator:  [0.329627346089734, 0.43521856256562297, 0.43521856256562297, 0.43521856256562297, 0.43521856256562297, 0.43521856256562297]\n",
            "Media de falhas:  [0, 1.0331701485555542, 2.4322970032451696, 4.445868176501404, 8.896892709961634, 9.139738241881156, 9.834645005278619]\n",
            "Custo =  708.3638906840247\n"
          ]
        },
        {
          "output_type": "stream",
          "name": "stderr",
          "text": [
            "\rpyswarms.single.global_best:   0%|          |0/1"
          ]
        },
        {
          "output_type": "stream",
          "name": "stdout",
          "text": [
            "\n",
            "=========================================================================\n",
            "\n",
            "Número de ciclos de manutenção: 7 2\n",
            "Tempos para manutenções preventivas: [0, 8, 242, 661, 721, 1111, 1237, 1321]\n",
            "Severidade para cada subsistema: [1.0, 1.0, 1.0, 1.0, 1.0, 1.0, 1.0]\n",
            "Número de Sisemas: 2\n",
            "Fator:  [0.329627346089734, 0.43521856256562297, 0.43521856256562297, 0.43521856256562297, 0.43521856256562297, 0.43521856256562297, 0.43521856256562297, 0.43521856256562297]\n",
            "Media de falhas:  [0, 0.05333821104058538, 1.624964347758469, 4.446302155414603, 4.8505002188365145, 7.47991011127286, 8.32968601824836, 8.896287913125486, 9.834067990150643]\n",
            "Custo =  986.3141388931253\n"
          ]
        },
        {
          "output_type": "stream",
          "name": "stderr",
          "text": [
            "pyswarms.single.global_best: 100%|██████████|1/1, best_cost=348\n",
            "2023-12-21 23:25:27,768 - pyswarms.single.global_best - INFO - Optimization finished | best cost: 347.8700841903026, best pos: [0.15989493 0.60825237 0.40405152 0.39681573 0.38560534 0.16592772\n",
            " 0.68873481 0.5172623  0.96013053 0.69813394 0.62502871 0.83338684\n",
            " 1.13962291 0.67240149 0.79142489 0.42042386 0.76732046 0.54997069\n",
            " 1.14696557 0.09235975 0.77760113 0.92230893 1.05513058 0.45847158\n",
            " 1.15512837 0.68042847 0.71101322 0.82241843 0.89833731 0.90709022\n",
            " 0.20426942 1.2099245  0.46033929 0.55572226 0.77094187 0.66796894\n",
            " 0.94266651 0.07389237 0.39610737 0.53285452 0.41271584 1.1656939\n",
            " 0.86398811 0.42510789 1.05353584 0.79165764 1.17297173 0.86562372]\n",
            "2023-12-21 23:25:27,772 - pyswarms.single.global_best - INFO - Optimize for 1 iters with {'c1': 0.5, 'c2': 0.3, 'w': 0.9}\n",
            "pyswarms.single.global_best: 100%|██████████|1/1, best_cost=348\n",
            "2023-12-21 23:25:27,799 - pyswarms.single.global_best - INFO - Optimization finished | best cost: 347.8700841903026, best pos: [0.15989159 0.60825326 0.4040514  0.39680563 0.38561653 0.95653419\n",
            " 0.68808438 0.5172634  1.0243845  0.69813265 0.62502452 0.83351599\n",
            " 1.13962203 0.67240551 0.79135576 0.420423   0.76732032 0.54997153\n",
            " 0.68310031 0.72251891 0.77760136 0.92230914 1.05513483 0.21304688\n",
            " 1.15513179 0.6774814  0.00961213 0.28585577 0.89833668 0.90707983\n",
            " 0.57796971 0.32585769 0.46036207 0.55573712 0.77095586 0.66796655\n",
            " 0.94265458 0.0738933  0.39610603 0.53285587 1.08827182 1.16569403\n",
            " 0.8639908  0.42510729 1.05353366 0.28787401 1.17296739 0.8655788 ]\n",
            "2023-12-21 23:25:27,802 - pyswarms.single.global_best - INFO - Optimize for 1 iters with {'c1': 0.5, 'c2': 0.3, 'w': 0.9}\n"
          ]
        },
        {
          "output_type": "stream",
          "name": "stdout",
          "text": [
            "\n",
            "=========================================================================\n",
            "\n",
            "Número de ciclos de manutenção: 6 2\n",
            "Tempos para manutenções preventivas: [0, 158, 368, 661, 1118, 1201, 1321]\n",
            "Severidade para cada subsistema: [1.0, 1.0, 1.0, 1.0, 1.0, 1.0]\n",
            "Número de Sisemas: 2\n",
            "Fator:  [0.329627346089734, 0.43521856256562297, 0.43521856256562297, 0.43521856256562297, 0.43521856256562297, 0.43521856256562297, 0.43521856256562297]\n",
            "Media de falhas:  [0, 1.0600629322833988, 2.472697618430349, 4.445873009381078, 7.5269520121045, 8.086695600855654, 8.896120545057062, 9.83390062208222]\n",
            "Custo =  819.2260818536107\n"
          ]
        },
        {
          "output_type": "stream",
          "name": "stderr",
          "text": [
            "pyswarms.single.global_best: 100%|██████████|1/1, best_cost=348\n",
            "2023-12-21 23:25:27,830 - pyswarms.single.global_best - INFO - Optimization finished | best cost: 347.8700841903026, best pos: [0.15988835 0.6082549  0.40405149 0.39679596 0.38556821 0.4045208\n",
            " 0.68748076 0.51726483 1.08460001 0.6981312  0.62499534 0.83368986\n",
            " 1.13962213 0.67240915 0.79129749 0.42042214 0.76732013 0.54997373\n",
            " 0.25939504 1.29246512 0.77760156 0.92231077 1.05513106 1.27440172\n",
            " 1.15513486 0.67479202 0.70473564 1.05357258 0.89833879 0.90706837\n",
            " 0.97212655 0.8228912  0.46036552 0.55575119 0.77096798 0.66796498\n",
            " 0.94263727 0.07389452 0.39610582 0.53285701 0.40157629 1.16569431\n",
            " 0.86399304 0.4251068  1.05353198 1.13118296 1.17296423 0.8655463 ]\n",
            "2023-12-21 23:25:27,832 - pyswarms.single.global_best - INFO - Optimize for 1 iters with {'c1': 0.5, 'c2': 0.3, 'w': 0.9}\n"
          ]
        },
        {
          "output_type": "stream",
          "name": "stdout",
          "text": [
            "\n",
            "=========================================================================\n",
            "\n",
            "Número de ciclos de manutenção: 4 2\n",
            "Tempos para manutenções preventivas: [0, 661, 818, 935, 1321]\n",
            "Severidade para cada subsistema: [1.0, 1.0, 1.0, 1.0]\n",
            "Número de Sisemas: 2\n",
            "Fator:  [0.329627346089734, 0.43521856256562297, 0.43521856256562297, 0.43521856256562297, 0.43521856256562297]\n",
            "Media de falhas:  [0, 4.448195443119637, 5.506413201465593, 6.295020550599613, 8.898480712423943, 9.836260789449101]\n",
            "Custo =  583.4078330380014\n"
          ]
        },
        {
          "output_type": "stream",
          "name": "stderr",
          "text": [
            "pyswarms.single.global_best: 100%|██████████|1/1, best_cost=348\n",
            "2023-12-21 23:25:27,864 - pyswarms.single.global_best - INFO - Optimization finished | best cost: 347.8700841903026, best pos: [0.15988549 0.60825671 0.40405164 0.39678807 0.38549014 1.18559259\n",
            " 0.68697502 0.51726614 1.1623297  0.69812985 0.62496242 0.83387009\n",
            " 1.13962318 0.67242916 0.79125683 0.42042109 0.76731995 0.54997644\n",
            " 1.17721717 0.48425416 0.77760168 0.92231428 1.05512322 0.928648\n",
            " 1.15513705 0.6724929  0.0663521  0.53011323 0.89834132 0.90705786\n",
            " 0.09153561 0.05194198 0.46035816 0.55577913 0.77097548 0.66796545\n",
            " 0.94262032 0.07389563 0.39610663 0.53285803 0.9795553  1.16569476\n",
            " 0.86399459 0.425107   1.05353174 0.59160671 1.17296382 0.86552971]\n",
            "2023-12-21 23:25:27,867 - pyswarms.single.global_best - INFO - Optimize for 1 iters with {'c1': 0.5, 'c2': 0.3, 'w': 0.9}\n"
          ]
        },
        {
          "output_type": "stream",
          "name": "stdout",
          "text": [
            "\n",
            "=========================================================================\n",
            "\n",
            "Número de ciclos de manutenção: 5 2\n",
            "Tempos para manutenções preventivas: [0, 241, 661, 722, 1208, 1321]\n",
            "Severidade para cada subsistema: [1.0, 1.0, 1.0, 1.0, 1.0]\n",
            "Número de Sisemas: 2\n",
            "Fator:  [0.329627346089734, 0.43521856256562297, 0.43521856256562297, 0.43521856256562297, 0.43521856256562297, 0.43521856256562297]\n",
            "Media de falhas:  [0, 1.61836853505566, 4.446920011907853, 4.857855756216961, 8.134996943351396, 8.89720661945613, 9.834986696481288]\n",
            "Custo =  703.57466652172\n"
          ]
        },
        {
          "output_type": "stream",
          "name": "stderr",
          "text": [
            "pyswarms.single.global_best: 100%|██████████|1/1, best_cost=348\n",
            "2023-12-21 23:25:27,891 - pyswarms.single.global_best - INFO - Optimization finished | best cost: 347.8700841903026, best pos: [0.15988443 0.60825894 0.4040518  0.39678415 0.38538812 0.59562359\n",
            " 0.68660776 0.51726735 1.29863655 0.69812835 0.6249322  0.83403718\n",
            " 1.1396244  0.6724605  0.79125112 0.42042014 0.76731981 0.54997906\n",
            " 0.62389304 1.00072996 0.7776017  0.92231761 1.05511394 0.49791822\n",
            " 1.15513765 0.6704725  0.71220532 0.04976246 0.89834427 0.90704911\n",
            " 0.60061979 0.65437375 0.46034185 0.55581587 0.77098127 0.66796738\n",
            " 0.94260241 0.07389647 0.39610814 0.5328584  0.21497334 1.16569522\n",
            " 0.86399432 0.42510825 1.05353259 1.29490182 1.17296408 0.86551657]\n",
            "2023-12-21 23:25:27,895 - pyswarms.single.global_best - INFO - Optimize for 1 iters with {'c1': 0.5, 'c2': 0.3, 'w': 0.9}\n"
          ]
        },
        {
          "output_type": "stream",
          "name": "stdout",
          "text": [
            "\n",
            "=========================================================================\n",
            "\n",
            "Número de ciclos de manutenção: 3 2\n",
            "Tempos para manutenções preventivas: [0, 661, 1236, 1321]\n",
            "Severidade para cada subsistema: [1.0, 1.0, 1.0]\n",
            "Número de Sisemas: 2\n",
            "Fator:  [0.329627346089734, 0.43521856256562297, 0.43521856256562297, 0.43521856256562297]\n",
            "Media de falhas:  [0, 4.448195443119637, 8.326392838691845, 8.89973987309434, 9.837519950119498]\n",
            "Custo =  467.3074551258345\n"
          ]
        },
        {
          "output_type": "stream",
          "name": "stderr",
          "text": [
            "pyswarms.single.global_best: 100%|██████████|1/1, best_cost=348"
          ]
        },
        {
          "output_type": "stream",
          "name": "stdout",
          "text": [
            "\n",
            "=========================================================================\n",
            "\n",
            "Número de ciclos de manutenção: 5 2\n",
            "Tempos para manutenções preventivas: [0, 8, 661, 1114, 1321, 1384]\n",
            "Severidade para cada subsistema: [1.0, 1.0, 1.0, 1.0, 1.0]\n",
            "Número de Sisemas: 2\n",
            "Fator:  [0.329627346089734, 0.43521856256562297, 0.43521856256562297, 0.43521856256562297, 0.43521856256562297, 0.43521856256562297]\n",
            "Media de falhas:  [0, 0.05333821104058538, 4.448024185502871, 7.50211576204258, 8.898344701056477, 9.32333988225779, 9.83608925143373]\n",
            "Custo =  751.4479148241738\n"
          ]
        },
        {
          "output_type": "stream",
          "name": "stderr",
          "text": [
            "\n",
            "2023-12-21 23:25:27,922 - pyswarms.single.global_best - INFO - Optimization finished | best cost: 347.8700841903026, best pos: [0.15988469 0.60826089 0.40405195 0.3967851  0.38529517 1.27373684\n",
            " 0.68659186 0.51726827 0.11292379 0.69812695 0.624905   0.83415458\n",
            " 1.13962578 0.67249034 0.79125048 0.42041937 0.76731971 0.54998109\n",
            " 0.05452623 0.12532765 0.77760162 0.92232062 1.0551042  1.28600498\n",
            " 1.15513666 0.6693851  0.0481279  0.91729173 0.89834811 0.90704171\n",
            " 1.12913844 1.20943141 0.46032372 0.55584921 0.77098048 0.66796978\n",
            " 0.94258657 0.07389718 0.3961096  0.53285804 0.74080854 1.16569563\n",
            " 0.8639935  0.42510954 1.05353342 0.60893708 1.1729655  0.86551562]\n",
            "2023-12-21 23:25:27,924 - pyswarms.single.global_best - INFO - Optimize for 1 iters with {'c1': 0.5, 'c2': 0.3, 'w': 0.9}\n",
            "pyswarms.single.global_best: 100%|██████████|1/1, best_cost=348"
          ]
        },
        {
          "output_type": "stream",
          "name": "stdout",
          "text": [
            "\n",
            "=========================================================================\n",
            "\n",
            "Número de ciclos de manutenção: 7 2\n",
            "Tempos para manutenções preventivas: [0, 242, 367, 661, 725, 814, 932, 1321]\n",
            "Severidade para cada subsistema: [1.0, 1.0, 1.0, 1.0, 1.0, 1.0, 1.0]\n",
            "Número de Sisemas: 2\n",
            "Fator:  [0.329627346089734, 0.43521856256562297, 0.43521856256562297, 0.43521856256562297, 0.43521856256562297, 0.43521856256562297, 0.43521856256562297, 0.43521856256562297]\n",
            "Media de falhas:  [0, 1.6250979165492714, 2.4661199178204094, 4.446027980432127, 4.877176962959081, 5.476885817791899, 6.272227649631943, 8.89591935866789, 9.833699435693047]\n",
            "Custo =  940.2876674789054\n"
          ]
        },
        {
          "output_type": "stream",
          "name": "stderr",
          "text": [
            "\n",
            "2023-12-21 23:25:27,951 - pyswarms.single.global_best - INFO - Optimization finished | best cost: 347.8700841903026, best pos: [0.15988605 0.60826247 0.40405209 0.39678752 0.38517048 0.57998006\n",
            " 0.68693561 0.51726869 0.34375647 0.69812573 0.62488069 0.83424698\n",
            " 1.13962706 0.67251405 0.79128076 0.42041905 0.76731963 0.54998241\n",
            " 0.90162824 0.57830715 0.77760153 0.92232283 1.05509576 0.69194442\n",
            " 1.15513475 0.66949905 0.79244836 0.36951372 0.89835168 0.90703963\n",
            " 0.17287761 0.47547294 0.46030384 0.55587656 0.77097405 0.66797238\n",
            " 0.94257399 0.07389739 0.3961109  0.53285716 1.2791102  1.16569597\n",
            " 0.86399181 0.42511122 1.05353501 1.22101374 1.17296821 0.86552674]\n",
            "2023-12-21 23:25:27,954 - pyswarms.single.global_best - INFO - Optimize for 1 iters with {'c1': 0.5, 'c2': 0.3, 'w': 0.9}\n",
            "pyswarms.single.global_best: 100%|██████████|1/1, best_cost=348\n",
            "2023-12-21 23:25:27,984 - pyswarms.single.global_best - INFO - Optimization finished | best cost: 347.8700841903026, best pos: [0.15988605 0.60826247 0.40405209 0.39678752 0.38517048 0.57998006\n",
            " 0.68693561 0.51726869 0.34375647 0.69812573 0.62488069 0.83424698\n",
            " 1.13962706 0.67251405 0.79128076 0.42041905 0.76731963 0.54998241\n",
            " 0.90162824 0.57830715 0.77760153 0.92232283 1.05509576 0.69194442\n",
            " 1.15513475 0.66949905 0.79244836 0.36951372 0.89835168 0.90703963\n",
            " 0.17287761 0.47547294 0.46030384 0.55587656 0.77097405 0.66797238\n",
            " 0.94257399 0.07389739 0.3961109  0.53285716 1.2791102  1.16569597\n",
            " 0.86399181 0.42511122 1.05353501 1.22101374 1.17296821 0.86552674]\n"
          ]
        },
        {
          "output_type": "stream",
          "name": "stdout",
          "text": [
            "\n",
            "=========================================================================\n",
            "\n",
            "Número de ciclos de manutenção: 6 2\n",
            "Tempos para manutenções preventivas: [0, 0, 155, 661, 1237, 1321, 1358]\n",
            "Severidade para cada subsistema: [1.0, 1.0, 1.0, 1.0, 1.0, 1.0]\n",
            "Número de Sisemas: 2\n",
            "Fator:  [0.329627346089734, 0.43521856256562297, 0.43521856256562297, 0.43521856256562297, 0.43521856256562297, 0.43521856256562297, 0.43521856256562297]\n",
            "Media de falhas:  [0, 0.0, 1.039893208165897, 4.446613157083248, 8.330687835035588, 8.897289729912714, 9.146881311948327, 9.83504154106534]\n",
            "Custo =  inf\n"
          ]
        },
        {
          "output_type": "stream",
          "name": "stderr",
          "text": [
            "2023-12-21 23:25:27,986 - pyswarms.single.global_best - INFO - Optimize for 1 iters with {'c1': 0.5, 'c2': 0.3, 'w': 0.9}\n",
            "pyswarms.single.global_best: 100%|██████████|1/1, best_cost=348"
          ]
        },
        {
          "output_type": "stream",
          "name": "stdout",
          "text": [
            "\n",
            "=========================================================================\n",
            "\n",
            "Número de ciclos de manutenção: 5 2\n",
            "Tempos para manutenções preventivas: [0, 661, 873, 907, 1204, 1321]\n",
            "Severidade para cada subsistema: [1.0, 1.0, 1.0, 1.0, 1.0]\n",
            "Número de Sisemas: 2\n",
            "Fator:  [0.329627346089734, 0.43521856256562297, 0.43521856256562297, 0.43521856256562297, 0.43521856256562297, 0.43521856256562297]\n",
            "Media de falhas:  [0, 4.448195443119637, 5.877273473314071, 6.106432581279969, 8.109260290664905, 8.898450139650917, 9.836230216676075]\n",
            "Custo =  709.477881929361\n"
          ]
        },
        {
          "output_type": "stream",
          "name": "stderr",
          "text": [
            "\n",
            "2023-12-21 23:25:28,019 - pyswarms.single.global_best - INFO - Optimization finished | best cost: 347.8700841903026, best pos: [0.15989022 0.60826313 0.40405222 0.39679386 0.3849912  0.20580804\n",
            " 0.68772434 0.51726835 0.83331984 0.6981256  0.6248546  0.83419698\n",
            " 1.13962891 0.67252968 0.79135226 0.42041871 0.76731972 0.54998221\n",
            " 0.03079063 0.08672092 0.77760132 0.92232399 1.05508866 0.84111851\n",
            " 1.15513075 0.67390252 1.04724875 0.12613671 0.89835595 0.90704913\n",
            " 0.89738752 1.29755056 0.46027314 0.55587715 0.77096028 0.66797596\n",
            " 0.94256773 0.07389694 0.39611161 0.53285493 0.99067683 1.16569631\n",
            " 0.86398897 0.42511359 1.053538   0.983655   1.17297397 0.86562766]\n",
            "2023-12-21 23:25:28,023 - pyswarms.single.global_best - INFO - Optimize for 1 iters with {'c1': 0.5, 'c2': 0.3, 'w': 0.9}\n",
            "pyswarms.single.global_best:   0%|          |0/1, best_cost=348"
          ]
        },
        {
          "output_type": "stream",
          "name": "stdout",
          "text": [
            "\n",
            "=========================================================================\n",
            "\n",
            "Número de ciclos de manutenção: 5 2\n",
            "Tempos para manutenções preventivas: [0, 246, 360, 661, 934, 1321]\n",
            "Severidade para cada subsistema: [1.0, 1.0, 1.0, 1.0, 1.0]\n",
            "Número de Sisemas: 2\n",
            "Fator:  [0.329627346089734, 0.43521856256562297, 0.43521856256562297, 0.43521856256562297, 0.43521856256562297, 0.43521856256562297]\n",
            "Media de falhas:  [0, 1.6520160252511424, 2.419010911072042, 4.446047211802513, 6.286011804316129, 8.896215820849873, 9.833995897875031]\n",
            "Custo =  698.7933019487858\n"
          ]
        },
        {
          "output_type": "stream",
          "name": "stderr",
          "text": [
            "\rpyswarms.single.global_best: 100%|██████████|1/1, best_cost=348\n",
            "2023-12-21 23:25:28,057 - pyswarms.single.global_best - INFO - Optimization finished | best cost: 347.8700841903026, best pos: [0.15989206 0.60826245 0.4040522  0.39679808 0.38494917 0.74874352\n",
            " 0.6880498  0.51726759 0.92972556 0.69812646 0.62485239 0.83408409\n",
            " 1.13962944 0.67252664 0.79138673 0.42041862 0.76731988 0.54998134\n",
            " 1.09164242 0.56437987 0.77760122 0.92232285 1.05509224 0.30650986\n",
            " 1.15512932 0.67716179 0.50739238 0.54314127 0.89835688 0.90705738\n",
            " 1.27021983 0.26618749 0.46026747 0.5558543  0.77095341 0.66797669\n",
            " 0.94258075 0.07389607 0.39611109 0.53285423 0.2033628  1.16569608\n",
            " 0.86398784 0.42511392 1.05353894 0.17935068 1.17297686 0.86568084]\n",
            "2023-12-21 23:25:28,059 - pyswarms.single.global_best - INFO - Optimize for 1 iters with {'c1': 0.5, 'c2': 0.3, 'w': 0.9}\n",
            "pyswarms.single.global_best:   0%|          |0/1"
          ]
        },
        {
          "output_type": "stream",
          "name": "stdout",
          "text": [
            "\n",
            "=========================================================================\n",
            "\n",
            "Número de ciclos de manutenção: 5 2\n",
            "Tempos para manutenções preventivas: [0, 153, 661, 876, 1321, 1385]\n",
            "Severidade para cada subsistema: [1.0, 1.0, 1.0, 1.0, 1.0]\n",
            "Número de Sisemas: 2\n",
            "Fator:  [0.329627346089734, 0.43521856256562297, 0.43521856256562297, 0.43521856256562297, 0.43521856256562297, 0.43521856256562297]\n",
            "Media de falhas:  [0, 1.0264471808056916, 4.447044733466483, 5.895933962755907, 8.897271558078975, 9.329013270898521, 9.835016032016279]\n",
            "Custo =  704.8594847922357\n"
          ]
        },
        {
          "output_type": "stream",
          "name": "stderr",
          "text": [
            "pyswarms.single.global_best: 100%|██████████|1/1, best_cost=348\n",
            "2023-12-21 23:25:28,084 - pyswarms.single.global_best - INFO - Optimization finished | best cost: 347.8700841903026, best pos: [0.15989362 0.60826168 0.40405216 0.39680228 0.38492886 1.27037521\n",
            " 0.68833367 0.5172666  0.92495637 0.6981275  0.62486742 0.83396352\n",
            " 1.13962944 0.67252099 0.79141659 0.420419   0.76732004 0.54997947\n",
            " 0.73895176 1.06061285 0.77760114 0.92232094 1.05509567 1.09226113\n",
            " 1.15512816 0.68009225 1.24145657 0.93915864 0.89835717 0.90706717\n",
            " 0.28009001 0.58710694 0.46026988 0.55583086 0.77094714 0.66797675\n",
            " 0.94259418 0.07389493 0.39611055 0.53285367 0.93628922 1.16569569\n",
            " 0.86398696 0.4251137  1.05353968 0.80624197 1.1729794  0.86572797]\n",
            "2023-12-21 23:25:28,091 - pyswarms.single.global_best - INFO - Optimize for 1 iters with {'c1': 0.5, 'c2': 0.3, 'w': 0.9}\n",
            "pyswarms.single.global_best: 100%|██████████|1/1, best_cost=348"
          ]
        },
        {
          "output_type": "stream",
          "name": "stdout",
          "text": [
            "\n",
            "=========================================================================\n",
            "\n",
            "Número de ciclos de manutenção: 4 2\n",
            "Tempos para manutenções preventivas: [0, 661, 1112, 1204, 1321]\n",
            "Severidade para cada subsistema: [1.0, 1.0, 1.0, 1.0]\n",
            "Número de Sisemas: 2\n",
            "Fator:  [0.329627346089734, 0.43521856256562297, 0.43521856256562297, 0.43521856256562297, 0.43521856256562297]\n",
            "Media de falhas:  [0, 4.448195443119637, 7.489531242466946, 8.109971887457027, 8.89916173644304, 9.836941813468197]\n",
            "Custo =  585.1857156381842\n"
          ]
        },
        {
          "output_type": "stream",
          "name": "stderr",
          "text": [
            "\n",
            "2023-12-21 23:25:28,114 - pyswarms.single.global_best - INFO - Optimization finished | best cost: 347.8700841903026, best pos: [0.15989489 0.60826081 0.4040521  0.39680587 0.38495337 0.4339693\n",
            " 0.68856572 0.51726566 0.96629283 0.69812845 0.62489641 0.83384148\n",
            " 1.13962855 0.67250707 0.79143981 0.42041983 0.76732017 0.54997746\n",
            " 0.34744356 0.14700746 0.77760109 0.92231847 1.05510027 0.5335301\n",
            " 1.15512788 0.68260526 0.56149611 1.18252126 0.89835714 0.90707582\n",
            " 0.6645765  0.87137586 0.4602793  0.55580885 0.77094282 0.66797605\n",
            " 0.94260902 0.07389389 0.39610981 0.53285337 0.34841052 1.16569529\n",
            " 0.86398617 0.42511341 1.05354023 0.14258134 1.17298141 0.86576563]\n",
            "2023-12-21 23:25:28,116 - pyswarms.single.global_best - INFO - Optimize for 1 iters with {'c1': 0.5, 'c2': 0.3, 'w': 0.9}\n",
            "pyswarms.single.global_best: 100%|██████████|1/1, best_cost=348\n",
            "2023-12-21 23:25:28,161 - pyswarms.single.global_best - INFO - Optimization finished | best cost: 347.8700841903026, best pos: [0.15989564 0.60825995 0.40405203 0.3968083  0.38499879 1.05431692\n",
            " 0.68870871 0.51726498 0.99700669 0.6981292  0.62492782 0.83373566\n",
            " 1.13962741 0.6724938  0.79145905 0.42042092 0.76732028 0.54997568\n",
            " 1.29159586 0.56673942 0.77760109 0.92231606 1.0551065  1.25710463\n",
            " 1.15512811 0.68435684 1.14795177 0.01498826 0.89835656 0.90708091\n",
            " 0.98493551 1.12460342 0.46028847 0.55579129 0.77093914 0.66797406\n",
            " 0.94262182 0.07389315 0.39610907 0.53285356 1.01830199 1.16569489\n",
            " 0.86398577 0.42511295 1.05354014 0.85146138 1.17298236 0.86579561]\n",
            "2023-12-21 23:25:28,163 - pyswarms.single.global_best - INFO - Optimize for 1 iters with {'c1': 0.5, 'c2': 0.3, 'w': 0.9}\n"
          ]
        },
        {
          "output_type": "stream",
          "name": "stdout",
          "text": [
            "\n",
            "=========================================================================\n",
            "\n",
            "Número de ciclos de manutenção: 6 2\n",
            "Tempos para manutenções preventivas: [0, 244, 365, 661, 691, 937, 1321]\n",
            "Severidade para cada subsistema: [1.0, 1.0, 1.0, 1.0, 1.0, 1.0]\n",
            "Número de Sisemas: 2\n",
            "Fator:  [0.329627346089734, 0.43521856256562297, 0.43521856256562297, 0.43521856256562297, 0.43521856256562297, 0.43521856256562297, 0.43521856256562297]\n",
            "Media de falhas:  [0, 1.63855685483235, 2.4526624457618365, 4.446035802356497, 4.648119003798082, 6.306141168555907, 8.896113604097549, 9.833893681122706]\n",
            "Custo =  826.6450420614632\n"
          ]
        },
        {
          "output_type": "stream",
          "name": "stderr",
          "text": [
            "pyswarms.single.global_best: 100%|██████████|1/1, best_cost=348\n",
            "2023-12-21 23:25:28,196 - pyswarms.single.global_best - INFO - Optimization finished | best cost: 347.8700841903026, best pos: [0.15989587 0.60825887 0.40405198 0.39680988 0.38504456 0.3264156\n",
            " 0.68873461 0.51726454 1.11376792 0.69812974 0.62495698 0.83365902\n",
            " 1.13962638 0.6724791  0.79145882 0.42042194 0.76732031 0.54997422\n",
            " 0.81094129 0.95741744 0.77760116 0.9223142  1.05511235 0.61106905\n",
            " 1.155129   0.68566709 0.34753338 0.26654239 0.89835447 0.90708336\n",
            " 0.06657498 0.1601725  0.46029874 0.55578264 0.77093784 0.6679718\n",
            " 0.94263147 0.07389269 0.39610846 0.53285398 0.3359013  1.16569457\n",
            " 0.86398602 0.42511237 1.05353942 0.2083244  1.17298315 0.86579313]\n",
            "2023-12-21 23:25:28,201 - pyswarms.single.global_best - INFO - Optimize for 1 iters with {'c1': 0.5, 'c2': 0.3, 'w': 0.9}\n"
          ]
        },
        {
          "output_type": "stream",
          "name": "stdout",
          "text": [
            "\n",
            "=========================================================================\n",
            "\n",
            "Número de ciclos de manutenção: 4 2\n",
            "Tempos para manutenções preventivas: [0, 661, 691, 901, 1321]\n",
            "Severidade para cada subsistema: [1.0, 1.0, 1.0, 1.0]\n",
            "Número de Sisemas: 2\n",
            "Fator:  [0.329627346089734, 0.43521856256562297, 0.43521856256562297, 0.43521856256562297, 0.43521856256562297]\n",
            "Media de falhas:  [0, 4.448195443119637, 4.650348971823918, 6.065633808670439, 8.898381805069514, 9.836161882094672]\n",
            "Custo =  592.550431830058\n"
          ]
        },
        {
          "output_type": "stream",
          "name": "stderr",
          "text": [
            "pyswarms.single.global_best: 100%|██████████|1/1, best_cost=348\n",
            "2023-12-21 23:25:28,233 - pyswarms.single.global_best - INFO - Optimization finished | best cost: 347.8700841903026, best pos: [0.15989581 0.60825787 0.40405194 0.39680931 0.38508741 1.03286349\n",
            " 0.68867794 0.5172646  0.00949118 0.69813002 0.6249817  0.83363608\n",
            " 1.13962542 0.67246588 0.7914495  0.42042267 0.76732029 0.54997368\n",
            " 0.32378746 1.27309994 0.77760122 0.92231283 1.05511748 1.20027928\n",
            " 1.15512999 0.68583166 0.79804303 0.56741562 0.8983512  0.90708524\n",
            " 0.54801899 0.55296167 0.46030796 0.55578016 0.77093767 0.66796973\n",
            " 0.9426364  0.07389255 0.39610808 0.53285448 0.94102197 1.16569429\n",
            " 0.86398626 0.4251117  1.05353802 0.85214774 1.17298378 0.86575793]\n"
          ]
        },
        {
          "output_type": "stream",
          "name": "stdout",
          "text": [
            "\n",
            "=========================================================================\n",
            "\n",
            "Número de ciclos de manutenção: 5 2\n",
            "Tempos para manutenções preventivas: [0, 154, 661, 930, 1112, 1321]\n",
            "Severidade para cada subsistema: [1.0, 1.0, 1.0, 1.0, 1.0]\n",
            "Número de Sisemas: 2\n",
            "Fator:  [0.329627346089734, 0.43521856256562297, 0.43521856256562297, 0.43521856256562297, 0.43521856256562297, 0.43521856256562297]\n",
            "Media de falhas:  [0, 1.0331701485555542, 4.44704207817794, 6.260033505722161, 7.487188051262591, 8.89690640325633, 9.834686480281487]\n",
            "Custo =  698.9416559513493\n"
          ]
        },
        {
          "output_type": "stream",
          "name": "stderr",
          "text": [
            "2023-12-21 23:25:28,237 - pyswarms.single.global_best - INFO - Optimize for 1 iters with {'c1': 0.5, 'c2': 0.3, 'w': 0.9}\n",
            "pyswarms.single.global_best: 100%|██████████|1/1, best_cost=348\n",
            "2023-12-21 23:25:28,262 - pyswarms.single.global_best - INFO - Optimization finished | best cost: 347.8700841903026, best pos: [0.15989444 0.60825719 0.40405191 0.39680728 0.38514106 0.39882189\n",
            " 0.68855904 0.51726476 0.32618153 0.69812969 0.62500157 0.83369112\n",
            " 1.13962468 0.67245735 0.79144108 0.42042288 0.76732023 0.54997361\n",
            " 1.16501806 0.1950478  0.7776013  0.92231206 1.05512149 0.44306548\n",
            " 1.15513127 0.68527046 1.25238001 0.92082008 0.89834767 0.90708219\n",
            " 1.01169363 0.89497684 0.46031527 0.55578187 0.77093975 0.66796831\n",
            " 0.94263459 0.07389271 0.39610777 0.53285506 0.18888191 1.16569405\n",
            " 0.86398699 0.42511111 1.05353659 0.21356565 1.1729835  0.86571205]\n",
            "2023-12-21 23:25:28,264 - pyswarms.single.global_best - INFO - Optimize for 1 iters with {'c1': 0.5, 'c2': 0.3, 'w': 0.9}\n"
          ]
        },
        {
          "output_type": "stream",
          "name": "stdout",
          "text": [
            "\n",
            "=========================================================================\n",
            "\n",
            "Número de ciclos de manutenção: 7 2\n",
            "Tempos para manutenções preventivas: [0, 7, 242, 661, 872, 1234, 1321, 1384]\n",
            "Severidade para cada subsistema: [1.0, 1.0, 1.0, 1.0, 1.0, 1.0, 1.0]\n",
            "Número de Sisemas: 2\n",
            "Fator:  [0.329627346089734, 0.43521856256562297, 0.43521856256562297, 0.43521856256562297, 0.43521856256562297, 0.43521856256562297, 0.43521856256562297, 0.43521856256562297]\n",
            "Media de falhas:  [0, 0.046657823194500875, 1.624976692162356, 4.44631449981849, 5.868235917433586, 8.309471697746904, 8.896309002039645, 9.321304183240958, 9.834053552416899]\n",
            "Custo =  994.2186729595722\n"
          ]
        },
        {
          "output_type": "stream",
          "name": "stderr",
          "text": [
            "pyswarms.single.global_best: 100%|██████████|1/1, best_cost=348\n",
            "2023-12-21 23:25:28,301 - pyswarms.single.global_best - INFO - Optimization finished | best cost: 347.8700841903026, best pos: [0.15989316 0.60825693 0.40405192 0.39680354 0.38519114 1.18552683\n",
            " 0.68829236 0.51726533 0.74048015 0.6981291  0.62500291 0.83379636\n",
            " 1.13962412 0.6724549  0.79141582 0.42042306 0.76732014 0.5499739\n",
            " 0.54070155 0.49296432 0.77760136 0.9223129  1.05512294 1.01018962\n",
            " 1.15513249 0.68350978 0.28532881 1.26104467 0.89834455 0.90707556\n",
            " 0.04331937 1.1221016  0.46032033 0.55578768 0.77094393 0.66796776\n",
            " 0.94262421 0.07389327 0.39610764 0.53285558 0.8722945  1.16569416\n",
            " 0.86398797 0.42511076 1.05353528 0.99402256 1.17298173 0.86566144]\n"
          ]
        },
        {
          "output_type": "stream",
          "name": "stdout",
          "text": [
            "\n",
            "=========================================================================\n",
            "\n",
            "Número de ciclos de manutenção: 4 2\n",
            "Tempos para manutenções preventivas: [0, 363, 661, 1206, 1321]\n",
            "Severidade para cada subsistema: [1.0, 1.0, 1.0, 1.0]\n",
            "Número de Sisemas: 2\n",
            "Fator:  [0.329627346089734, 0.43521856256562297, 0.43521856256562297, 0.43521856256562297, 0.43521856256562297]\n",
            "Media de falhas:  [0, 2.4397274908756894, 4.447025871398694, 8.121895249242492, 8.897595018324424, 9.835375095349582]\n",
            "Custo =  582.2917765268261\n"
          ]
        },
        {
          "output_type": "stream",
          "name": "stderr",
          "text": [
            "2023-12-21 23:25:28,303 - pyswarms.single.global_best - INFO - Optimize for 1 iters with {'c1': 0.5, 'c2': 0.3, 'w': 0.9}\n",
            "pyswarms.single.global_best: 100%|██████████|1/1, best_cost=348\n",
            "2023-12-21 23:25:28,333 - pyswarms.single.global_best - INFO - Optimization finished | best cost: 347.8549926221335, best pos: [0.15989166 0.60825676 0.40405194 0.39679954 0.38523156 0.60379195\n",
            " 0.68802399 0.51726605 1.17529999 0.69812829 0.62498987 0.83391943\n",
            " 1.13962377 0.67245531 0.79139017 0.42042281 0.76732007 0.54997442\n",
            " 1.22829043 0.84718682 0.77760142 0.92231388 1.05512161 0.23508419\n",
            " 1.1551334  0.68177229 0.6115678  0.09936056 0.89834256 0.90706846\n",
            " 0.47262118 1.2372939  0.46032433 0.55579294 0.77094812 0.66796816\n",
            " 0.94261422 0.07389406 0.39610754 0.53285595 0.23600796 1.16569454\n",
            " 0.86398885 0.42511057 1.05353446 0.40053355 1.1729799  0.86561969]\n",
            "2023-12-21 23:25:28,342 - pyswarms.single.global_best - INFO - Optimize for 1 iters with {'c1': 0.5, 'c2': 0.3, 'w': 0.9}\n"
          ]
        },
        {
          "output_type": "stream",
          "name": "stdout",
          "text": [
            "\n",
            "=========================================================================\n",
            "\n",
            "Número de ciclos de manutenção: 2 2\n",
            "Tempos para manutenções preventivas: [0, 661, 1321]\n",
            "Severidade para cada subsistema: [1.0, 1.0]\n",
            "Número de Sisemas: 2\n",
            "Fator:  [0.329627346089734, 0.43521856256562297, 0.43521856256562297]\n",
            "Media de falhas:  [0, 4.448195443119637, 8.900173706266049, 9.837953783291207]\n",
            "Custo =  347.8549926221335\n"
          ]
        },
        {
          "output_type": "stream",
          "name": "stderr",
          "text": [
            "pyswarms.single.global_best: 100%|██████████|1/1, best_cost=348\n",
            "2023-12-21 23:25:28,373 - pyswarms.single.global_best - INFO - Optimization finished | best cost: 347.8549926221335, best pos: [0.15989031 0.60825661 0.40405196 0.39679594 0.38526794 1.25023057\n",
            " 0.68778246 0.51726669 0.39663785 0.69812755 0.62497813 0.83403019\n",
            " 1.13962346 0.67245567 0.79136709 0.42042258 0.76732    0.54997488\n",
            " 0.67712043 1.16598707 0.77760147 0.92231476 1.05512041 0.70748931\n",
            " 1.15513422 0.68020855 0.9051829  0.35384486 0.89834077 0.90706208\n",
            " 0.98899281 0.17096696 0.46032794 0.55579768 0.77095189 0.66796851\n",
            " 0.94260524 0.07389476 0.39610745 0.53285629 0.83335008 1.16569489\n",
            " 0.86398965 0.4251104  1.05353372 1.03639344 1.17297825 0.86558211]\n"
          ]
        },
        {
          "output_type": "stream",
          "name": "stdout",
          "text": [
            "\n",
            "=========================================================================\n",
            "\n",
            "Número de ciclos de manutenção: 7 2\n",
            "Tempos para manutenções preventivas: [0, 6, 155, 661, 931, 1207, 1321, 1358]\n",
            "Severidade para cada subsistema: [1.0, 1.0, 1.0, 1.0, 1.0, 1.0, 1.0]\n",
            "Número de Sisemas: 2\n",
            "Fator:  [0.329627346089734, 0.43521856256562297, 0.43521856256562297, 0.43521856256562297, 0.43521856256562297, 0.43521856256562297, 0.43521856256562297, 0.43521856256562297]\n",
            "Media de falhas:  [0, 0.039979450027109224, 1.0397975350319542, 4.446517483949306, 6.266252169686092, 8.127488749440381, 8.896443473664185, 9.146035055699798, 9.834195284816811]\n",
            "Custo =  1006.3735262460457\n"
          ]
        }
      ]
    },
    {
      "cell_type": "code",
      "source": [
        "melhorCusto = format_currency(best_cost)\n",
        "print(melhorCusto)"
      ],
      "metadata": {
        "id": "LaqSRfpLcW0i",
        "outputId": "24f0af31-a170-40e9-a26b-33735d575b2a",
        "colab": {
          "base_uri": "https://localhost:8080/"
        }
      },
      "execution_count": 290,
      "outputs": [
        {
          "output_type": "stream",
          "name": "stdout",
          "text": [
            "R$ 347,85\n"
          ]
        }
      ]
    },
    {
      "cell_type": "code",
      "source": [
        "print('lamb:', lamb)\n",
        "print('beta:', beta)\n",
        "print('theta:', theta)\n",
        "print(\"Tempo de Convergência para a primeira etapa:\", convergence_time_first_stage, \"segundos\")"
      ],
      "metadata": {
        "id": "eoLCwdJ9Rkp0",
        "outputId": "b5372cce-7fe0-406a-f966-b5c0913b736d",
        "colab": {
          "base_uri": "https://localhost:8080/"
        }
      },
      "execution_count": 291,
      "outputs": [
        {
          "output_type": "stream",
          "name": "stdout",
          "text": [
            "lamb: 149.0660105892337\n",
            "beta: 1.0021041775754342\n",
            "theta: 0.5713164590755301\n",
            "Tempo de Convergência para a primeira etapa: 0.0072824954986572266 segundos\n"
          ]
        }
      ]
    },
    {
      "cell_type": "code",
      "source": [
        "# Plotar gráfico de densidade da otimização\n",
        "# Seu histórico de custos\n",
        "cost_history = optimizer.cost_history\n",
        "\n",
        "# Escalando os valores por uma constante (dividindo por 100 milhões)\n",
        "scaled_history = [cost / 1.000 for cost in cost_history]\n",
        "\n",
        "# Custo ótimo (substitua pbest_cost[0] por best_cost)\n",
        "optimal_cost = best_cost\n",
        "\n",
        "# Calcule o tempo total de convergência\n",
        "convergence_time_second_stage = end_time_second_stage - start_time_second_stage\n",
        "\n",
        "# Plotagem do gráfico de histórico de custos\n",
        "plt.plot(scaled_history)\n",
        "plt.xlabel('Iteration')\n",
        "plt.xlim(0, max_iterations)\n",
        "plt.ylabel('Objective function')\n",
        "plt.title('Particle Swarm Optimization')\n",
        "\n",
        "\n",
        "# Mostrar a legenda\n",
        "plt.legend()\n",
        "plt.show()\n",
        "\n",
        "print(\"                              \")\n",
        "print(\"*************************************************************************\")\n",
        "print(\"Número total de iterações:\", max_iterations)\n",
        "print(\"Número de Particulas:\", num_particles)\n",
        "print(\"Número de Dimensões:\", dimensions)\n",
        "print(\"Melhor Custo:\", melhorCusto)\n",
        "print(\"Tempo de Convergência para a segunda etapa:\", convergence_time_second_stage, \"segundos\")"
      ],
      "metadata": {
        "id": "ULlt81ZI1vn9",
        "outputId": "ad5a6df0-5c40-4faf-99ca-9e516c8eebbb",
        "colab": {
          "base_uri": "https://localhost:8080/",
          "height": 631
        }
      },
      "execution_count": 292,
      "outputs": [
        {
          "output_type": "stream",
          "name": "stderr",
          "text": [
            "2023-12-21 23:25:28,486 - matplotlib.legend - WARNING - No artists with labels found to put in legend.  Note that artists whose label start with an underscore are ignored when legend() is called with no argument.\n"
          ]
        },
        {
          "output_type": "display_data",
          "data": {
            "text/plain": [
              "<Figure size 640x480 with 1 Axes>"
            ],
            "image/png": "[encoded data removed]"
          },
          "metadata": {}
        },
        {
          "output_type": "stream",
          "name": "stdout",
          "text": [
            "                              \n",
            "*************************************************************************\n",
            "Número total de iterações: 100\n",
            "Número de Particulas: 100\n",
            "Número de Dimensões: 48\n",
            "Melhor Custo: R$ 347,85\n",
            "Tempo de Convergência para a segunda etapa: 1.493340253829956 segundos\n"
          ]
        }
      ]
    },
    {
      "cell_type": "code",
      "source": [
        "# Plotar o gráfico 3D com todas as melhores posições\n",
        "fig = plt.figure(figsize=(8, 8))\n",
        "ax = fig.add_subplot(111)\n",
        "\n",
        "# Plotar todas as melhores posições anteriores\n",
        "for i in range(best_positions.shape[0]):\n",
        "    ax.scatter(best_positions[i, 0], best_positions[i, 1], marker='x', c='blue', alpha=0.6)\n",
        "\n",
        "# Plotar a última melhor posição com uma cor diferente para destacá-la\n",
        "ax.scatter(best_positions[-1, 0], best_positions[-1, 1], c='red', label='Melhor posição atual')\n",
        "\n",
        "ax.set_title('PSO - Melhores posições ao longo das iterações')\n",
        "ax.set_xlabel('Primeira dimensão das melhores posições')\n",
        "ax.set_ylabel('Segunda dimensão das melhores posições')\n",
        "ax.legend()\n",
        "plt.grid()\n",
        "plt.show()"
      ],
      "metadata": {
        "colab": {
          "base_uri": "https://localhost:8080/",
          "height": 718
        },
        "id": "GK1vNK4v20Dx",
        "outputId": "5586bd33-4dde-4838-a9b7-80718a627741"
      },
      "execution_count": 293,
      "outputs": [
        {
          "output_type": "display_data",
          "data": {
            "text/plain": [
              "<Figure size 800x800 with 1 Axes>"
            ],
            "image/png": "[encoded data removed]"
          },
          "metadata": {}
        }
      ]
    },
    {
      "cell_type": "code",
      "source": [
        "# Nome do arquivo CSV para salvar o resultado do melhor custo\n",
        "nome_arquivo = f'{LINK_ARQUIVO_PRINCIPAL}{NOME_ARQUIVO_PRINCIPAL}.csv'"
      ],
      "metadata": {
        "id": "lYIlaqDPhDdo"
      },
      "execution_count": 294,
      "outputs": []
    },
    {
      "cell_type": "code",
      "source": [
        "# Adicionar o melhor custo atual à lista de melhores custos anteriores\n",
        "melhores_custos_anteriores = []\n",
        "try:\n",
        "    with open(nome_arquivo, 'r') as arquivo_csv:\n",
        "        reader = csv.reader(arquivo_csv)\n",
        "        next(reader)  # Pule o cabeçalho\n",
        "        for linha in reader:\n",
        "            melhores_custos_anteriores.append(linha[1])\n",
        "except FileNotFoundError:\n",
        "    pass  # Arquivo não existe, pode ser a primeira execução\n",
        "\n",
        "melhores_custos_anteriores.append(melhorCusto)  # Substitua pbest_cost[0] por best_cost\n",
        "\n",
        "# Criar uma lista com os valores atuais\n",
        "valores_atuais = [len(melhores_custos_anteriores), melhorCusto, lamb, beta, theta, convergence_time_first_stage, convergence_time_second_stage,]\n",
        "\n",
        "# Abrir o arquivo CSV em modo de leitura e escrita e escrever os valores atuais no final do arquivo\n",
        "with open(nome_arquivo, 'a+', newline='') as arquivo_csv:\n",
        "    writer = csv.writer(arquivo_csv)\n",
        "\n",
        "    # Se o arquivo estiver vazio, escreva o cabeçalho\n",
        "    if arquivo_csv.tell() == 0:\n",
        "        writer.writerow(['Index', 'Melhor_Custo', 'Lambda', 'Beta', 'Theta', 'Convergencia_Primeira_Etapa', 'Convergencia_Segunda_Etapa', 'Ciclos_MP'])\n",
        "\n",
        "    # Escrever os valores atuais\n",
        "    writer.writerow(valores_atuais)"
      ],
      "metadata": {
        "id": "SvLX3p0EXBEo"
      },
      "execution_count": 295,
      "outputs": []
    },
    {
      "cell_type": "code",
      "source": [
        "# Leitura dos dados de tempo de falha para 4 cenarios de exemplo\n",
        "resultado = pd.read_csv(nome_arquivo, sep=\",\")\n",
        "resultado.head(10)"
      ],
      "metadata": {
        "colab": {
          "base_uri": "https://localhost:8080/",
          "height": 112
        },
        "id": "UU0zcbG7xFjH",
        "outputId": "0094a437-b168-4b31-d965-6b7fa80fafd5"
      },
      "execution_count": 296,
      "outputs": [
        {
          "output_type": "execute_result",
          "data": {
            "text/plain": [
              "   Index Melhor_Custo      Lambda      Beta     Theta  \\\n",
              "0      1    R$ 463,75  149.066011  1.002104  0.571316   \n",
              "1      2    R$ 347,85  149.066011  1.002104  0.571316   \n",
              "\n",
              "   Convergencia_Primeira_Etapa  Convergencia_Segunda_Etapa  Ciclos_MP  \n",
              "0                     0.008755                    1.461958        NaN  \n",
              "1                     0.007282                    1.493340        NaN  "
            ],
            "text/html": [
              "\n",
              "  <div id=\"df-77585d6d-3db4-4649-9ca3-20d325e78e03\" class=\"colab-df-container\">\n",
              "    <div>\n",
              "<style scoped>\n",
              "    .dataframe tbody tr th:only-of-type {\n",
              "        vertical-align: middle;\n",
              "    }\n",
              "\n",
              "    .dataframe tbody tr th {\n",
              "        vertical-align: top;\n",
              "    }\n",
              "\n",
              "    .dataframe thead th {\n",
              "        text-align: right;\n",
              "    }\n",
              "</style>\n",
              "<table border=\"1\" class=\"dataframe\">\n",
              "  <thead>\n",
              "    <tr style=\"text-align: right;\">\n",
              "      <th></th>\n",
              "      <th>Index</th>\n",
              "      <th>Melhor_Custo</th>\n",
              "      <th>Lambda</th>\n",
              "      <th>Beta</th>\n",
              "      <th>Theta</th>\n",
              "      <th>Convergencia_Primeira_Etapa</th>\n",
              "      <th>Convergencia_Segunda_Etapa</th>\n",
              "      <th>Ciclos_MP</th>\n",
              "    </tr>\n",
              "  </thead>\n",
              "  <tbody>\n",
              "    <tr>\n",
              "      <th>0</th>\n",
              "      <td>1</td>\n",
              "      <td>R$ 463,75</td>\n",
              "      <td>149.066011</td>\n",
              "      <td>1.002104</td>\n",
              "      <td>0.571316</td>\n",
              "      <td>0.008755</td>\n",
              "      <td>1.461958</td>\n",
              "      <td>NaN</td>\n",
              "    </tr>\n",
              "    <tr>\n",
              "      <th>1</th>\n",
              "      <td>2</td>\n",
              "      <td>R$ 347,85</td>\n",
              "      <td>149.066011</td>\n",
              "      <td>1.002104</td>\n",
              "      <td>0.571316</td>\n",
              "      <td>0.007282</td>\n",
              "      <td>1.493340</td>\n",
              "      <td>NaN</td>\n",
              "    </tr>\n",
              "  </tbody>\n",
              "</table>\n",
              "</div>\n",
              "    <div class=\"colab-df-buttons\">\n",
              "\n",
              "  <div class=\"colab-df-container\">\n",
              "    <button class=\"colab-df-convert\" onclick=\"convertToInteractive('df-77585d6d-3db4-4649-9ca3-20d325e78e03')\"\n",
              "            title=\"Convert this dataframe to an interactive table.\"\n",
              "            style=\"display:none;\">\n",
              "\n",
              "  <svg xmlns=\"http://www.w3.org/2000/svg\" height=\"24px\" viewBox=\"0 -960 960 960\">\n",
              "    <path d=\"M120-120v-720h720v720H120Zm60-500h600v-160H180v160Zm220 220h160v-160H400v160Zm0 220h160v-160H400v160ZM180-400h160v-160H180v160Zm440 0h160v-160H620v160ZM180-180h160v-160H180v160Zm440 0h160v-160H620v160Z\"/>\n",
              "  </svg>\n",
              "    </button>\n",
              "\n",
              "  <style>\n",
              "    .colab-df-container {\n",
              "      display:flex;\n",
              "      gap: 12px;\n",
              "    }\n",
              "\n",
              "    .colab-df-convert {\n",
              "      background-color: #E8F0FE;\n",
              "      border: none;\n",
              "      border-radius: 50%;\n",
              "      cursor: pointer;\n",
              "      display: none;\n",
              "      fill: #1967D2;\n",
              "      height: 32px;\n",
              "      padding: 0 0 0 0;\n",
              "      width: 32px;\n",
              "    }\n",
              "\n",
              "    .colab-df-convert:hover {\n",
              "      background-color: #E2EBFA;\n",
              "      box-shadow: 0px 1px 2px rgba(60, 64, 67, 0.3), 0px 1px 3px 1px rgba(60, 64, 67, 0.15);\n",
              "      fill: #174EA6;\n",
              "    }\n",
              "\n",
              "    .colab-df-buttons div {\n",
              "      margin-bottom: 4px;\n",
              "    }\n",
              "\n",
              "    [theme=dark] .colab-df-convert {\n",
              "      background-color: #3B4455;\n",
              "      fill: #D2E3FC;\n",
              "    }\n",
              "\n",
              "    [theme=dark] .colab-df-convert:hover {\n",
              "      background-color: #434B5C;\n",
              "      box-shadow: 0px 1px 3px 1px rgba(0, 0, 0, 0.15);\n",
              "      filter: drop-shadow(0px 1px 2px rgba(0, 0, 0, 0.3));\n",
              "      fill: #FFFFFF;\n",
              "    }\n",
              "  </style>\n",
              "\n",
              "    <script>\n",
              "      const buttonEl =\n",
              "        document.querySelector('#df-77585d6d-3db4-4649-9ca3-20d325e78e03 button.colab-df-convert');\n",
              "      buttonEl.style.display =\n",
              "        google.colab.kernel.accessAllowed ? 'block' : 'none';\n",
              "\n",
              "      async function convertToInteractive(key) {\n",
              "        const element = document.querySelector('#df-77585d6d-3db4-4649-9ca3-20d325e78e03');\n",
              "        const dataTable =\n",
              "          await google.colab.kernel.invokeFunction('convertToInteractive',\n",
              "                                                    [key], {});\n",
              "        if (!dataTable) return;\n",
              "\n",
              "        const docLinkHtml = 'Like what you see? Visit the ' +\n",
              "          '<a target=\"_blank\" href=https://colab.research.google.com/notebooks/data_table.ipynb>data table notebook</a>'\n",
              "          + ' to learn more about interactive tables.';\n",
              "        element.innerHTML = '';\n",
              "        dataTable['output_type'] = 'display_data';\n",
              "        await google.colab.output.renderOutput(dataTable, element);\n",
              "        const docLink = document.createElement('div');\n",
              "        docLink.innerHTML = docLinkHtml;\n",
              "        element.appendChild(docLink);\n",
              "      }\n",
              "    </script>\n",
              "  </div>\n",
              "\n",
              "\n",
              "<div id=\"df-4e00673e-8e18-4a22-ad38-2604f2298e08\">\n",
              "  <button class=\"colab-df-quickchart\" onclick=\"quickchart('df-4e00673e-8e18-4a22-ad38-2604f2298e08')\"\n",
              "            title=\"Suggest charts\"\n",
              "            style=\"display:none;\">\n",
              "\n",
              "<svg xmlns=\"http://www.w3.org/2000/svg\" height=\"24px\"viewBox=\"0 0 24 24\"\n",
              "     width=\"24px\">\n",
              "    <g>\n",
              "        <path d=\"M19 3H5c-1.1 0-2 .9-2 2v14c0 1.1.9 2 2 2h14c1.1 0 2-.9 2-2V5c0-1.1-.9-2-2-2zM9 17H7v-7h2v7zm4 0h-2V7h2v10zm4 0h-2v-4h2v4z\"/>\n",
              "    </g>\n",
              "</svg>\n",
              "  </button>\n",
              "\n",
              "<style>\n",
              "  .colab-df-quickchart {\n",
              "      --bg-color: #E8F0FE;\n",
              "      --fill-color: #1967D2;\n",
              "      --hover-bg-color: #E2EBFA;\n",
              "      --hover-fill-color: #174EA6;\n",
              "      --disabled-fill-color: #AAA;\n",
              "      --disabled-bg-color: #DDD;\n",
              "  }\n",
              "\n",
              "  [theme=dark] .colab-df-quickchart {\n",
              "      --bg-color: #3B4455;\n",
              "      --fill-color: #D2E3FC;\n",
              "      --hover-bg-color: #434B5C;\n",
              "      --hover-fill-color: #FFFFFF;\n",
              "      --disabled-bg-color: #3B4455;\n",
              "      --disabled-fill-color: #666;\n",
              "  }\n",
              "\n",
              "  .colab-df-quickchart {\n",
              "    background-color: var(--bg-color);\n",
              "    border: none;\n",
              "    border-radius: 50%;\n",
              "    cursor: pointer;\n",
              "    display: none;\n",
              "    fill: var(--fill-color);\n",
              "    height: 32px;\n",
              "    padding: 0;\n",
              "    width: 32px;\n",
              "  }\n",
              "\n",
              "  .colab-df-quickchart:hover {\n",
              "    background-color: var(--hover-bg-color);\n",
              "    box-shadow: 0 1px 2px rgba(60, 64, 67, 0.3), 0 1px 3px 1px rgba(60, 64, 67, 0.15);\n",
              "    fill: var(--button-hover-fill-color);\n",
              "  }\n",
              "\n",
              "  .colab-df-quickchart-complete:disabled,\n",
              "  .colab-df-quickchart-complete:disabled:hover {\n",
              "    background-color: var(--disabled-bg-color);\n",
              "    fill: var(--disabled-fill-color);\n",
              "    box-shadow: none;\n",
              "  }\n",
              "\n",
              "  .colab-df-spinner {\n",
              "    border: 2px solid var(--fill-color);\n",
              "    border-color: transparent;\n",
              "    border-bottom-color: var(--fill-color);\n",
              "    animation:\n",
              "      spin 1s steps(1) infinite;\n",
              "  }\n",
              "\n",
              "  @keyframes spin {\n",
              "    0% {\n",
              "      border-color: transparent;\n",
              "      border-bottom-color: var(--fill-color);\n",
              "      border-left-color: var(--fill-color);\n",
              "    }\n",
              "    20% {\n",
              "      border-color: transparent;\n",
              "      border-left-color: var(--fill-color);\n",
              "      border-top-color: var(--fill-color);\n",
              "    }\n",
              "    30% {\n",
              "      border-color: transparent;\n",
              "      border-left-color: var(--fill-color);\n",
              "      border-top-color: var(--fill-color);\n",
              "      border-right-color: var(--fill-color);\n",
              "    }\n",
              "    40% {\n",
              "      border-color: transparent;\n",
              "      border-right-color: var(--fill-color);\n",
              "      border-top-color: var(--fill-color);\n",
              "    }\n",
              "    60% {\n",
              "      border-color: transparent;\n",
              "      border-right-color: var(--fill-color);\n",
              "    }\n",
              "    80% {\n",
              "      border-color: transparent;\n",
              "      border-right-color: var(--fill-color);\n",
              "      border-bottom-color: var(--fill-color);\n",
              "    }\n",
              "    90% {\n",
              "      border-color: transparent;\n",
              "      border-bottom-color: var(--fill-color);\n",
              "    }\n",
              "  }\n",
              "</style>\n",
              "\n",
              "  <script>\n",
              "    async function quickchart(key) {\n",
              "      const quickchartButtonEl =\n",
              "        document.querySelector('#' + key + ' button');\n",
              "      quickchartButtonEl.disabled = true;  // To prevent multiple clicks.\n",
              "      quickchartButtonEl.classList.add('colab-df-spinner');\n",
              "      try {\n",
              "        const charts = await google.colab.kernel.invokeFunction(\n",
              "            'suggestCharts', [key], {});\n",
              "      } catch (error) {\n",
              "        console.error('Error during call to suggestCharts:', error);\n",
              "      }\n",
              "      quickchartButtonEl.classList.remove('colab-df-spinner');\n",
              "      quickchartButtonEl.classList.add('colab-df-quickchart-complete');\n",
              "    }\n",
              "    (() => {\n",
              "      let quickchartButtonEl =\n",
              "        document.querySelector('#df-4e00673e-8e18-4a22-ad38-2604f2298e08 button');\n",
              "      quickchartButtonEl.style.display =\n",
              "        google.colab.kernel.accessAllowed ? 'block' : 'none';\n",
              "    })();\n",
              "  </script>\n",
              "</div>\n",
              "\n",
              "    </div>\n",
              "  </div>\n"
            ]
          },
          "metadata": {},
          "execution_count": 296
        }
      ]
    },
    {
      "cell_type": "code",
      "source": [
        "resultado.info()"
      ],
      "metadata": {
        "id": "kQtfIuKeR_XX",
        "outputId": "3f2098f5-c6a5-42c3-ada8-2635e8b8d7a6",
        "colab": {
          "base_uri": "https://localhost:8080/"
        }
      },
      "execution_count": 297,
      "outputs": [
        {
          "output_type": "stream",
          "name": "stdout",
          "text": [
            "<class 'pandas.core.frame.DataFrame'>\n",
            "RangeIndex: 2 entries, 0 to 1\n",
            "Data columns (total 8 columns):\n",
            " #   Column                       Non-Null Count  Dtype  \n",
            "---  ------                       --------------  -----  \n",
            " 0   Index                        2 non-null      int64  \n",
            " 1   Melhor_Custo                 2 non-null      object \n",
            " 2   Lambda                       2 non-null      float64\n",
            " 3   Beta                         2 non-null      float64\n",
            " 4   Theta                        2 non-null      float64\n",
            " 5   Convergencia_Primeira_Etapa  2 non-null      float64\n",
            " 6   Convergencia_Segunda_Etapa   2 non-null      float64\n",
            " 7   Ciclos_MP                    0 non-null      float64\n",
            "dtypes: float64(6), int64(1), object(1)\n",
            "memory usage: 256.0+ bytes\n"
          ]
        }
      ]
    },
    {
      "cell_type": "code",
      "source": [
        "resultado.describe()"
      ],
      "metadata": {
        "colab": {
          "base_uri": "https://localhost:8080/",
          "height": 300
        },
        "id": "AefadimkxMSd",
        "outputId": "eaf131d6-a92a-44bb-86f1-e7e6b8824a6d"
      },
      "execution_count": 298,
      "outputs": [
        {
          "output_type": "execute_result",
          "data": {
            "text/plain": [
              "          Index      Lambda      Beta     Theta  Convergencia_Primeira_Etapa  \\\n",
              "count  2.000000    2.000000  2.000000  2.000000                     2.000000   \n",
              "mean   1.500000  149.066011  1.002104  0.571316                     0.008019   \n",
              "std    0.707107    0.000000  0.000000  0.000000                     0.001041   \n",
              "min    1.000000  149.066011  1.002104  0.571316                     0.007282   \n",
              "25%    1.250000  149.066011  1.002104  0.571316                     0.007651   \n",
              "50%    1.500000  149.066011  1.002104  0.571316                     0.008019   \n",
              "75%    1.750000  149.066011  1.002104  0.571316                     0.008387   \n",
              "max    2.000000  149.066011  1.002104  0.571316                     0.008755   \n",
              "\n",
              "       Convergencia_Segunda_Etapa  Ciclos_MP  \n",
              "count                    2.000000        0.0  \n",
              "mean                     1.477649        NaN  \n",
              "std                      0.022191        NaN  \n",
              "min                      1.461958        NaN  \n",
              "25%                      1.469803        NaN  \n",
              "50%                      1.477649        NaN  \n",
              "75%                      1.485495        NaN  \n",
              "max                      1.493340        NaN  "
            ],
            "text/html": [
              "\n",
              "  <div id=\"df-79351ba5-6b55-40fa-9ae7-680d5224e3d9\" class=\"colab-df-container\">\n",
              "    <div>\n",
              "<style scoped>\n",
              "    .dataframe tbody tr th:only-of-type {\n",
              "        vertical-align: middle;\n",
              "    }\n",
              "\n",
              "    .dataframe tbody tr th {\n",
              "        vertical-align: top;\n",
              "    }\n",
              "\n",
              "    .dataframe thead th {\n",
              "        text-align: right;\n",
              "    }\n",
              "</style>\n",
              "<table border=\"1\" class=\"dataframe\">\n",
              "  <thead>\n",
              "    <tr style=\"text-align: right;\">\n",
              "      <th></th>\n",
              "      <th>Index</th>\n",
              "      <th>Lambda</th>\n",
              "      <th>Beta</th>\n",
              "      <th>Theta</th>\n",
              "      <th>Convergencia_Primeira_Etapa</th>\n",
              "      <th>Convergencia_Segunda_Etapa</th>\n",
              "      <th>Ciclos_MP</th>\n",
              "    </tr>\n",
              "  </thead>\n",
              "  <tbody>\n",
              "    <tr>\n",
              "      <th>count</th>\n",
              "      <td>2.000000</td>\n",
              "      <td>2.000000</td>\n",
              "      <td>2.000000</td>\n",
              "      <td>2.000000</td>\n",
              "      <td>2.000000</td>\n",
              "      <td>2.000000</td>\n",
              "      <td>0.0</td>\n",
              "    </tr>\n",
              "    <tr>\n",
              "      <th>mean</th>\n",
              "      <td>1.500000</td>\n",
              "      <td>149.066011</td>\n",
              "      <td>1.002104</td>\n",
              "      <td>0.571316</td>\n",
              "      <td>0.008019</td>\n",
              "      <td>1.477649</td>\n",
              "      <td>NaN</td>\n",
              "    </tr>\n",
              "    <tr>\n",
              "      <th>std</th>\n",
              "      <td>0.707107</td>\n",
              "      <td>0.000000</td>\n",
              "      <td>0.000000</td>\n",
              "      <td>0.000000</td>\n",
              "      <td>0.001041</td>\n",
              "      <td>0.022191</td>\n",
              "      <td>NaN</td>\n",
              "    </tr>\n",
              "    <tr>\n",
              "      <th>min</th>\n",
              "      <td>1.000000</td>\n",
              "      <td>149.066011</td>\n",
              "      <td>1.002104</td>\n",
              "      <td>0.571316</td>\n",
              "      <td>0.007282</td>\n",
              "      <td>1.461958</td>\n",
              "      <td>NaN</td>\n",
              "    </tr>\n",
              "    <tr>\n",
              "      <th>25%</th>\n",
              "      <td>1.250000</td>\n",
              "      <td>149.066011</td>\n",
              "      <td>1.002104</td>\n",
              "      <td>0.571316</td>\n",
              "      <td>0.007651</td>\n",
              "      <td>1.469803</td>\n",
              "      <td>NaN</td>\n",
              "    </tr>\n",
              "    <tr>\n",
              "      <th>50%</th>\n",
              "      <td>1.500000</td>\n",
              "      <td>149.066011</td>\n",
              "      <td>1.002104</td>\n",
              "      <td>0.571316</td>\n",
              "      <td>0.008019</td>\n",
              "      <td>1.477649</td>\n",
              "      <td>NaN</td>\n",
              "    </tr>\n",
              "    <tr>\n",
              "      <th>75%</th>\n",
              "      <td>1.750000</td>\n",
              "      <td>149.066011</td>\n",
              "      <td>1.002104</td>\n",
              "      <td>0.571316</td>\n",
              "      <td>0.008387</td>\n",
              "      <td>1.485495</td>\n",
              "      <td>NaN</td>\n",
              "    </tr>\n",
              "    <tr>\n",
              "      <th>max</th>\n",
              "      <td>2.000000</td>\n",
              "      <td>149.066011</td>\n",
              "      <td>1.002104</td>\n",
              "      <td>0.571316</td>\n",
              "      <td>0.008755</td>\n",
              "      <td>1.493340</td>\n",
              "      <td>NaN</td>\n",
              "    </tr>\n",
              "  </tbody>\n",
              "</table>\n",
              "</div>\n",
              "    <div class=\"colab-df-buttons\">\n",
              "\n",
              "  <div class=\"colab-df-container\">\n",
              "    <button class=\"colab-df-convert\" onclick=\"convertToInteractive('df-79351ba5-6b55-40fa-9ae7-680d5224e3d9')\"\n",
              "            title=\"Convert this dataframe to an interactive table.\"\n",
              "            style=\"display:none;\">\n",
              "\n",
              "  <svg xmlns=\"http://www.w3.org/2000/svg\" height=\"24px\" viewBox=\"0 -960 960 960\">\n",
              "    <path d=\"M120-120v-720h720v720H120Zm60-500h600v-160H180v160Zm220 220h160v-160H400v160Zm0 220h160v-160H400v160ZM180-400h160v-160H180v160Zm440 0h160v-160H620v160ZM180-180h160v-160H180v160Zm440 0h160v-160H620v160Z\"/>\n",
              "  </svg>\n",
              "    </button>\n",
              "\n",
              "  <style>\n",
              "    .colab-df-container {\n",
              "      display:flex;\n",
              "      gap: 12px;\n",
              "    }\n",
              "\n",
              "    .colab-df-convert {\n",
              "      background-color: #E8F0FE;\n",
              "      border: none;\n",
              "      border-radius: 50%;\n",
              "      cursor: pointer;\n",
              "      display: none;\n",
              "      fill: #1967D2;\n",
              "      height: 32px;\n",
              "      padding: 0 0 0 0;\n",
              "      width: 32px;\n",
              "    }\n",
              "\n",
              "    .colab-df-convert:hover {\n",
              "      background-color: #E2EBFA;\n",
              "      box-shadow: 0px 1px 2px rgba(60, 64, 67, 0.3), 0px 1px 3px 1px rgba(60, 64, 67, 0.15);\n",
              "      fill: #174EA6;\n",
              "    }\n",
              "\n",
              "    .colab-df-buttons div {\n",
              "      margin-bottom: 4px;\n",
              "    }\n",
              "\n",
              "    [theme=dark] .colab-df-convert {\n",
              "      background-color: #3B4455;\n",
              "      fill: #D2E3FC;\n",
              "    }\n",
              "\n",
              "    [theme=dark] .colab-df-convert:hover {\n",
              "      background-color: #434B5C;\n",
              "      box-shadow: 0px 1px 3px 1px rgba(0, 0, 0, 0.15);\n",
              "      filter: drop-shadow(0px 1px 2px rgba(0, 0, 0, 0.3));\n",
              "      fill: #FFFFFF;\n",
              "    }\n",
              "  </style>\n",
              "\n",
              "    <script>\n",
              "      const buttonEl =\n",
              "        document.querySelector('#df-79351ba5-6b55-40fa-9ae7-680d5224e3d9 button.colab-df-convert');\n",
              "      buttonEl.style.display =\n",
              "        google.colab.kernel.accessAllowed ? 'block' : 'none';\n",
              "\n",
              "      async function convertToInteractive(key) {\n",
              "        const element = document.querySelector('#df-79351ba5-6b55-40fa-9ae7-680d5224e3d9');\n",
              "        const dataTable =\n",
              "          await google.colab.kernel.invokeFunction('convertToInteractive',\n",
              "                                                    [key], {});\n",
              "        if (!dataTable) return;\n",
              "\n",
              "        const docLinkHtml = 'Like what you see? Visit the ' +\n",
              "          '<a target=\"_blank\" href=https://colab.research.google.com/notebooks/data_table.ipynb>data table notebook</a>'\n",
              "          + ' to learn more about interactive tables.';\n",
              "        element.innerHTML = '';\n",
              "        dataTable['output_type'] = 'display_data';\n",
              "        await google.colab.output.renderOutput(dataTable, element);\n",
              "        const docLink = document.createElement('div');\n",
              "        docLink.innerHTML = docLinkHtml;\n",
              "        element.appendChild(docLink);\n",
              "      }\n",
              "    </script>\n",
              "  </div>\n",
              "\n",
              "\n",
              "<div id=\"df-5950523a-dad2-4663-bbaa-29d7f74298a8\">\n",
              "  <button class=\"colab-df-quickchart\" onclick=\"quickchart('df-5950523a-dad2-4663-bbaa-29d7f74298a8')\"\n",
              "            title=\"Suggest charts\"\n",
              "            style=\"display:none;\">\n",
              "\n",
              "<svg xmlns=\"http://www.w3.org/2000/svg\" height=\"24px\"viewBox=\"0 0 24 24\"\n",
              "     width=\"24px\">\n",
              "    <g>\n",
              "        <path d=\"M19 3H5c-1.1 0-2 .9-2 2v14c0 1.1.9 2 2 2h14c1.1 0 2-.9 2-2V5c0-1.1-.9-2-2-2zM9 17H7v-7h2v7zm4 0h-2V7h2v10zm4 0h-2v-4h2v4z\"/>\n",
              "    </g>\n",
              "</svg>\n",
              "  </button>\n",
              "\n",
              "<style>\n",
              "  .colab-df-quickchart {\n",
              "      --bg-color: #E8F0FE;\n",
              "      --fill-color: #1967D2;\n",
              "      --hover-bg-color: #E2EBFA;\n",
              "      --hover-fill-color: #174EA6;\n",
              "      --disabled-fill-color: #AAA;\n",
              "      --disabled-bg-color: #DDD;\n",
              "  }\n",
              "\n",
              "  [theme=dark] .colab-df-quickchart {\n",
              "      --bg-color: #3B4455;\n",
              "      --fill-color: #D2E3FC;\n",
              "      --hover-bg-color: #434B5C;\n",
              "      --hover-fill-color: #FFFFFF;\n",
              "      --disabled-bg-color: #3B4455;\n",
              "      --disabled-fill-color: #666;\n",
              "  }\n",
              "\n",
              "  .colab-df-quickchart {\n",
              "    background-color: var(--bg-color);\n",
              "    border: none;\n",
              "    border-radius: 50%;\n",
              "    cursor: pointer;\n",
              "    display: none;\n",
              "    fill: var(--fill-color);\n",
              "    height: 32px;\n",
              "    padding: 0;\n",
              "    width: 32px;\n",
              "  }\n",
              "\n",
              "  .colab-df-quickchart:hover {\n",
              "    background-color: var(--hover-bg-color);\n",
              "    box-shadow: 0 1px 2px rgba(60, 64, 67, 0.3), 0 1px 3px 1px rgba(60, 64, 67, 0.15);\n",
              "    fill: var(--button-hover-fill-color);\n",
              "  }\n",
              "\n",
              "  .colab-df-quickchart-complete:disabled,\n",
              "  .colab-df-quickchart-complete:disabled:hover {\n",
              "    background-color: var(--disabled-bg-color);\n",
              "    fill: var(--disabled-fill-color);\n",
              "    box-shadow: none;\n",
              "  }\n",
              "\n",
              "  .colab-df-spinner {\n",
              "    border: 2px solid var(--fill-color);\n",
              "    border-color: transparent;\n",
              "    border-bottom-color: var(--fill-color);\n",
              "    animation:\n",
              "      spin 1s steps(1) infinite;\n",
              "  }\n",
              "\n",
              "  @keyframes spin {\n",
              "    0% {\n",
              "      border-color: transparent;\n",
              "      border-bottom-color: var(--fill-color);\n",
              "      border-left-color: var(--fill-color);\n",
              "    }\n",
              "    20% {\n",
              "      border-color: transparent;\n",
              "      border-left-color: var(--fill-color);\n",
              "      border-top-color: var(--fill-color);\n",
              "    }\n",
              "    30% {\n",
              "      border-color: transparent;\n",
              "      border-left-color: var(--fill-color);\n",
              "      border-top-color: var(--fill-color);\n",
              "      border-right-color: var(--fill-color);\n",
              "    }\n",
              "    40% {\n",
              "      border-color: transparent;\n",
              "      border-right-color: var(--fill-color);\n",
              "      border-top-color: var(--fill-color);\n",
              "    }\n",
              "    60% {\n",
              "      border-color: transparent;\n",
              "      border-right-color: var(--fill-color);\n",
              "    }\n",
              "    80% {\n",
              "      border-color: transparent;\n",
              "      border-right-color: var(--fill-color);\n",
              "      border-bottom-color: var(--fill-color);\n",
              "    }\n",
              "    90% {\n",
              "      border-color: transparent;\n",
              "      border-bottom-color: var(--fill-color);\n",
              "    }\n",
              "  }\n",
              "</style>\n",
              "\n",
              "  <script>\n",
              "    async function quickchart(key) {\n",
              "      const quickchartButtonEl =\n",
              "        document.querySelector('#' + key + ' button');\n",
              "      quickchartButtonEl.disabled = true;  // To prevent multiple clicks.\n",
              "      quickchartButtonEl.classList.add('colab-df-spinner');\n",
              "      try {\n",
              "        const charts = await google.colab.kernel.invokeFunction(\n",
              "            'suggestCharts', [key], {});\n",
              "      } catch (error) {\n",
              "        console.error('Error during call to suggestCharts:', error);\n",
              "      }\n",
              "      quickchartButtonEl.classList.remove('colab-df-spinner');\n",
              "      quickchartButtonEl.classList.add('colab-df-quickchart-complete');\n",
              "    }\n",
              "    (() => {\n",
              "      let quickchartButtonEl =\n",
              "        document.querySelector('#df-5950523a-dad2-4663-bbaa-29d7f74298a8 button');\n",
              "      quickchartButtonEl.style.display =\n",
              "        google.colab.kernel.accessAllowed ? 'block' : 'none';\n",
              "    })();\n",
              "  </script>\n",
              "</div>\n",
              "\n",
              "    </div>\n",
              "  </div>\n"
            ]
          },
          "metadata": {},
          "execution_count": 298
        }
      ]
    },
    {
      "cell_type": "code",
      "source": [
        "param_primeira_etapa = ['Lambda', 'Beta', 'Theta']\n",
        "param_segunda_etapa = ['Ciclos_MP', 'Melhor_Custo']\n",
        "convergencia = ['Convergencia_Primeira_Etapa', 'Convergencia_Segunda_Etapa']\n",
        "Melhor_Custo = ['Melhor_Custo']\n",
        "Lambda = ['Lambda']\n",
        "Beta = ['Beta']\n",
        "Theta = ['Theta']\n",
        "Convergencia_Primeira_Etapa = ['Convergencia_Primeira_Etapa']\n",
        "Convergencia_Segunda_Etapa = ['Convergencia_Segunda_Etapa']\n",
        "Ciclos_MP = ['Ciclos_MP']"
      ],
      "metadata": {
        "id": "G85nofRZHZsw"
      },
      "execution_count": 299,
      "outputs": []
    },
    {
      "cell_type": "code",
      "source": [
        "# Cria uma grafico para os parametros Lambda, Beta e Theta\n",
        "# Tamanho da figura\n",
        "plt.figure(figsize=(9, 5))\n",
        "\n",
        "# Itera sobre as colunas e cria um boxplot para cada uma\n",
        "for i, coluna in enumerate(param_primeira_etapa):\n",
        "    plt.subplot(1, 3, i + 1)  # 1 linhas, 3 colunas de gráficos\n",
        "    plt.boxplot(resultado[coluna])\n",
        "    plt.title(coluna)\n",
        "    plt.ylabel('Valores')\n",
        "\n",
        "# Ajusta o layout\n",
        "plt.tight_layout()\n",
        "plt.show()"
      ],
      "metadata": {
        "id": "IucArnkQFWEH",
        "outputId": "31ca50db-77a1-41b3-9bb0-814b25ecd39e",
        "colab": {
          "base_uri": "https://localhost:8080/",
          "height": 507
        }
      },
      "execution_count": 300,
      "outputs": [
        {
          "output_type": "display_data",
          "data": {
            "text/plain": [
              "<Figure size 900x500 with 3 Axes>"
            ],
            "image/png": "[encoded data removed]"
          },
          "metadata": {}
        }
      ]
    },
    {
      "cell_type": "code",
      "source": [
        "# # Cria uma grafico para os parameros da segunda etapa\n",
        "# # Tamanho da figura\n",
        "# plt.figure(figsize=(8, 5))\n",
        "\n",
        "# # Itera sobre as colunas e cria um boxplot para cada uma\n",
        "# for i, coluna in enumerate(param_segunda_etapa):\n",
        "#     plt.subplot(1, 2, i + 1)  # 1 linhas, 3 colunas de gráficos\n",
        "#     plt.boxplot(resultado[coluna])\n",
        "#     plt.title(coluna)\n",
        "#     plt.ylabel('Valores')\n",
        "\n",
        "# # Ajusta o layout\n",
        "# plt.tight_layout()\n",
        "# plt.show()"
      ],
      "metadata": {
        "id": "SLqglbNovFBO"
      },
      "execution_count": 301,
      "outputs": []
    },
    {
      "cell_type": "code",
      "source": [
        "# Cria uma grafico para comparar as convervencias da primeira e segunda etapa\n",
        "# Tamanho da figura\n",
        "plt.figure(figsize=(8, 5))\n",
        "\n",
        "# Itera sobre as colunas e cria um boxplot para cada uma\n",
        "for i, coluna in enumerate(convergencia):\n",
        "    plt.subplot(1, 2, i + 1)  # 1 linhas, 2 colunas de gráficos\n",
        "    plt.boxplot(resultado[coluna])\n",
        "    plt.title(coluna)\n",
        "    plt.ylabel('Valores')\n",
        "\n",
        "# Ajusta o layout\n",
        "plt.tight_layout()\n",
        "plt.show()"
      ],
      "metadata": {
        "colab": {
          "base_uri": "https://localhost:8080/",
          "height": 507
        },
        "id": "ARgEnkqqBVOU",
        "outputId": "b23a1e97-1042-42de-8517-9ccf0e37cdb7"
      },
      "execution_count": 302,
      "outputs": [
        {
          "output_type": "display_data",
          "data": {
            "text/plain": [
              "<Figure size 800x500 with 2 Axes>"
            ],
            "image/png": "[encoded data removed]"
          },
          "metadata": {}
        }
      ]
    },
    {
      "cell_type": "code",
      "source": [
        "# Arrays de tempos e severidade\n",
        "Tempos = [\n",
        "[[72, 137, 158, 209, 239, 276, 308, 340, 377, 466]],\n",
        "[[9, 79, 155, 186, 234, 360, 531, 543]],\n",
        "[[131, 208, 352, 403, 434, 514]],\n",
        "[[78, 117, 177, 252, 274, 403, 478, 582]],\n",
        "[[95, 138, 200, 282, 566]],\n",
        "[[81, 105, 203, 233, 439, 464, 488, 623]],\n",
        "[[98, 202, 216, 245, 317, 392]],\n",
        "[[95, 163, 321, 359, 425, 460, 509]],\n",
        "[[18, 37, 443, 617]],\n",
        "[[60, 105, 122, 198, 242, 305, 342, 404, 432, 471]],\n",
        "]\n",
        "\n",
        "severidade = [\n",
        "  [[0.75, 0.5, 0.5, 0.25, 0.5, 0.5, 0.5, 0.75, 0.5, 0.5]],\n",
        "  [[0.75, 0.25, 0.75, 0.5, 0.5, 0.75, 0.25, 0.5]],\n",
        "  [[0.5, 0.5, 0.75, 0.25, 0.75, 0.5]],\n",
        "  [[0.5, 0.75, 0.5, 0.5, 0.75, 0.5, 0.5, 0.75]],\n",
        "  [[0.25, 0.5, 0.75, 0.5, 0.75]],\n",
        "  [[0.5, 0.25, 0.5, 0.25, 0.5, 0.25, 0.75, 0.25]],\n",
        "  [[0.75, 0.25, 0.75, 0.25, 0.5, 0.25]],\n",
        "  [[0.75, 0.25, 0.75, 0.75, 0.75, 0.5, 0.25]],\n",
        "  [[0.75, 0.5, 0.75, 0.5]],\n",
        "  [[0.5, 0.5, 0.75, 0.75, 0.75, 0.75, 0.25, 0.25, 0.5, 0.25]],\n",
        "]\n",
        "\n",
        "# # Verifica se ambos os arrays têm o mesmo número de linhas\n",
        "# if len(Tempos) == len(severidade):\n",
        "#     with open(f'{LINK_ARQUIVO_PRINCIPAL}{NOME_ARQUIVO_PRINCIPAL}{NOME_ARQUIVO_TEMPO_SEVERIDADE}.csv', \"w\") as file:\n",
        "#         file.write('Tempos_Manutencoes_Preventivas;Severidade_subsistema\\n')\n",
        "#         for i in range(len(Tempos)):\n",
        "#             row = Tempos[i] + severidade[i]\n",
        "#             row_str = [str(value) for value in row]\n",
        "#             file.write(f\"{i};{';'.join(row_str)}\\n\")\n",
        "# else:\n",
        "#     print(\"Os arrays têm números diferentes de linhas e não podem ser concatenados.\")"
      ],
      "metadata": {
        "id": "iP3dSchKxQ3e"
      },
      "execution_count": 303,
      "outputs": []
    },
    {
      "cell_type": "code",
      "source": [
        "# # Leitura dos dados de tempo de falha para 4 cenarios de exemplo\n",
        "# dados = pd.read_csv(f'{LINK_ARQUIVO_PRINCIPAL}{NOME_ARQUIVO_PRINCIPAL}{NOME_ARQUIVO_TEMPO_SEVERIDADE}.csv', sep=\";\")\n",
        "# dados.head(10)"
      ],
      "metadata": {
        "id": "I1Smy3tlIsqw"
      },
      "execution_count": 304,
      "outputs": []
    },
    {
      "cell_type": "code",
      "source": [
        "# dados.info()"
      ],
      "metadata": {
        "id": "HwRD4mOCSQH-"
      },
      "execution_count": 305,
      "outputs": []
    },
    {
      "cell_type": "code",
      "source": [
        "# dados.describe()"
      ],
      "metadata": {
        "id": "6gqn8fCwSoVA"
      },
      "execution_count": 306,
      "outputs": []
    }
  ]
}