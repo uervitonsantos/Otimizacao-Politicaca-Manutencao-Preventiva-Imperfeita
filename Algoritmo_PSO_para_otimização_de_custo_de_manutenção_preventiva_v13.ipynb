{
  "nbformat": 4,
  "nbformat_minor": 0,
  "metadata": {
    "colab": {
      "provenance": [],
      "include_colab_link": true
    },
    "kernelspec": {
      "name": "python3",
      "display_name": "Python 3"
    },
    "language_info": {
      "name": "python"
    }
  },
  "cells": [
    {
      "cell_type": "markdown",
      "metadata": {
        "id": "view-in-github",
        "colab_type": "text"
      },
      "source": [
        "<a href=\"https://colab.research.google.com/github/uervitonsantos/Otimizacao-Politicaca-Manutencao-Preventiva-Imperfeita/blob/main/Algoritmo_PSO_para_otimiza%C3%A7%C3%A3o_de_custo_de_manuten%C3%A7%C3%A3o_preventiva_v13.ipynb\" target=\"_parent\"><img src=\"https://colab.research.google.com/assets/colab-badge.svg\" alt=\"Open In Colab\"/></a>"
      ]
    },
    {
      "cell_type": "markdown",
      "source": [
        "Os Dataset's de dados de confiabilidade para os 4 cenarios podem ser obtidos em: https://drive.google.com/drive/folders/1tzW3424gsRYhvXOCIaF67PCb3PAiOU43?usp=drive_link"
      ],
      "metadata": {
        "id": "wZi0pIL-Ch37"
      }
    },
    {
      "cell_type": "code",
      "execution_count": 4103,
      "metadata": {
        "id": "VM8_ebpiVP0V"
      },
      "outputs": [],
      "source": [
        "%%capture\n",
        "pip install pyswarms"
      ]
    },
    {
      "cell_type": "code",
      "source": [
        "%%capture\n",
        "pip install scipy"
      ],
      "metadata": {
        "id": "OWf5AdwyN8Sr"
      },
      "execution_count": 4104,
      "outputs": []
    },
    {
      "cell_type": "code",
      "source": [
        "from scipy import stats\n",
        "import numpy as np\n",
        "import pandas as pd\n",
        "import math\n",
        "import csv\n",
        "import locale\n",
        "import matplotlib.pyplot as plt\n",
        "import time\n",
        "from pyswarms.single.global_best import GlobalBestPSO\n",
        "import pyswarms as ps"
      ],
      "metadata": {
        "id": "2sVG0WwfVrUs"
      },
      "execution_count": 4105,
      "outputs": []
    },
    {
      "cell_type": "code",
      "source": [
        "!dpkg-reconfigure locales"
      ],
      "metadata": {
        "id": "QRtJky4YZv-I",
        "outputId": "9156d03c-7b09-478f-8062-33ae9cff8a64",
        "colab": {
          "base_uri": "https://localhost:8080/"
        }
      },
      "execution_count": 4106,
      "outputs": [
        {
          "output_type": "stream",
          "name": "stdout",
          "text": [
            "Generating locales (this might take a while)...\n",
            "  en_US.UTF-8... done\n",
            "  pt_BR.ISO-8859-1... done\n",
            "Generation complete.\n"
          ]
        }
      ]
    },
    {
      "cell_type": "code",
      "source": [
        "# Install locale pt_BR\n",
        "!/usr/share/locales/install-language-pack pt_BR"
      ],
      "metadata": {
        "id": "s92MNLHCZyMH",
        "outputId": "3bdafc65-db42-418a-8487-ae08973834d4",
        "colab": {
          "base_uri": "https://localhost:8080/"
        }
      },
      "execution_count": 4107,
      "outputs": [
        {
          "output_type": "stream",
          "name": "stdout",
          "text": [
            "Generating locales (this might take a while)...\n",
            "Generation complete.\n",
            "\u001b[1mdpkg-trigger:\u001b[0m \u001b[1;31merror:\u001b[0m must be called from a maintainer script (or with a --by-package option)\n",
            "\n",
            "Type dpkg-trigger --help for help about this utility.\n"
          ]
        }
      ]
    },
    {
      "cell_type": "code",
      "source": [
        "print(locale.getlocale())"
      ],
      "metadata": {
        "id": "4KRG4RjkZ0j_",
        "outputId": "6e73bbab-52cd-41ac-df10-dec30e5fcfb9",
        "colab": {
          "base_uri": "https://localhost:8080/"
        }
      },
      "execution_count": 4108,
      "outputs": [
        {
          "output_type": "stream",
          "name": "stdout",
          "text": [
            "('pt_BR', 'ISO8859-1')\n"
          ]
        }
      ]
    },
    {
      "cell_type": "code",
      "source": [
        "locale.setlocale(locale.LC_ALL, 'pt_BR.iso88591')"
      ],
      "metadata": {
        "id": "90z2KljmZ2bx",
        "outputId": "6b8051ee-cc06-4fbe-c0fe-9b13bc98291c",
        "colab": {
          "base_uri": "https://localhost:8080/",
          "height": 35
        }
      },
      "execution_count": 4109,
      "outputs": [
        {
          "output_type": "execute_result",
          "data": {
            "text/plain": [
              "'pt_BR.iso88591'"
            ],
            "application/vnd.google.colaboratory.intrinsic+json": {
              "type": "string"
            }
          },
          "metadata": {},
          "execution_count": 4109
        }
      ]
    },
    {
      "cell_type": "code",
      "source": [
        "from google.colab import drive\n",
        "drive.mount('/content/drive')"
      ],
      "metadata": {
        "colab": {
          "base_uri": "https://localhost:8080/"
        },
        "id": "UxVZzIrcndid",
        "outputId": "a5d40493-c27e-4217-9564-b8bbf12b0395"
      },
      "execution_count": 4110,
      "outputs": [
        {
          "output_type": "stream",
          "name": "stdout",
          "text": [
            "Drive already mounted at /content/drive; to attempt to forcibly remount, call drive.mount(\"/content/drive\", force_remount=True).\n"
          ]
        }
      ]
    },
    {
      "cell_type": "code",
      "source": [
        "# Constantes criadas para representar alguns valores de teste no codigo\n",
        "\n",
        "MAX_VALUE_CUSTO = 15000 # Valor maximo para o custo total da otimização\n",
        "fator_melhoria = 'expo' # Função exponencial selecionada. Há outras funções desenvolvidas\n",
        "DIAS_OBSERVADOS = 730 # Quantidade de dias observados no horizonte de planejamento. Para cada teste há uma quantidade de dia específico\n",
        "CMC = 15000 # Valor para o custo da manutenção corretiva\n",
        "CMP = 2000 # Valor para o custo da manutenção preventiva\n",
        "\n",
        "VALOR_DIMENSOES = int(DIAS_OBSERVADOS / 30)\n",
        "\n",
        "ALGORITMO = ('pso')\n",
        "\n",
        "LINK_ARQUIVO_PRINCIPAL = f'/content/drive/MyDrive/datasets/resultados_optimizacao/resultados_{ALGORITMO}/'\n",
        "NOME_ARQUIVO_PRINCIPAL = f'melhor_custo_{ALGORITMO}_quarto_cenario'\n",
        "NOME_ARQUIVO_TEMPO_SEVERIDADE = '_tempo_severidade'\n",
        "\n",
        "# Constante para configuração dos cenarios de teste. de 01 a 04\n",
        "CENARIO = '04'"
      ],
      "metadata": {
        "id": "FeZKvg25Vtwz"
      },
      "execution_count": 4111,
      "outputs": []
    },
    {
      "cell_type": "code",
      "source": [
        "class IntensidadeFalha:\n",
        "    # Este método vai inicializar cada objeto criado a partir desta classe\n",
        "    # O nome deste método é \"inicio\"\n",
        "    # (self) é uma referência a cada atributo de um objeto criado a partir desta classe\n",
        "    # Os atributos de cada objeto criados a partir desta classe.\n",
        "    # O self indica que estes são atributos dos objetos\n",
        "    def __init__(self):\n",
        "        self.fator = None\n",
        "        self.lamb = None\n",
        "        self.beta = None\n",
        "        self.theta = None\n",
        "        self.sz = None\n",
        "        self.T = None\n",
        "        self.u = None\n",
        "\n",
        "    def inicio(self, T, fator, solucao):\n",
        "        self.fator = fator\n",
        "        self.lamb = solucao[0]\n",
        "        self.beta = solucao[1]\n",
        "        self.theta = solucao[2]\n",
        "        self.sz = int(T[-1])\n",
        "        self.T = T\n",
        "\n",
        "    def create(self):\n",
        "        self.u = []\n",
        "        for i in range(len(self.T) - 1):\n",
        "            for tt in range(int(self.T[i]), int(self.T[i + 1])):\n",
        "                b = tt - self.fator[0][i] * self.T[i]\n",
        "                self.u.append((1 / (self.lamb ** self.beta)) * self.beta * b ** (self.beta - 1))\n",
        "            # Adiciona nan ao final do ciclo\n",
        "            self.u.append(float('nan'))\n",
        "\n",
        "    # plota e salva a figura da função de intensidade de falha\n",
        "    def plotar(self):\n",
        "        fig = plt.figure(figsize=(20, 5))\n",
        "        plt.plot(self.u)\n",
        "\n",
        "        for xc in self.T:\n",
        "            plt.axvline(x=xc, color='r', linestyle='--')\n",
        "\n",
        "        plt.xlabel(\"Tempo (dias)\")\n",
        "        plt.ylabel(\"Função intensidade de falha\")\n",
        "        plt.xlim(0)\n",
        "        plt.grid(True)\n",
        "        plt.show()"
      ],
      "metadata": {
        "id": "QhF2qTuDV2P1"
      },
      "execution_count": 4112,
      "outputs": []
    },
    {
      "cell_type": "code",
      "source": [
        "# Define a função de melhoria constante\n",
        "def const(ck, m, s, theta):\n",
        "    fator = [[theta] * ck] * m\n",
        "    return fator"
      ],
      "metadata": {
        "id": "mMRO_z3_V4a3"
      },
      "execution_count": 4113,
      "outputs": []
    },
    {
      "cell_type": "code",
      "source": [
        "# Define a função de melhoria linear\n",
        "def linear(ck, m, s, theta):\n",
        "    fator = []\n",
        "    for k in range(0, m, 1):\n",
        "        linha = [0]\n",
        "        for j in range(0, ck, 1):\n",
        "            linha.append(s[k][j] * theta)\n",
        "        fator.append(linha)\n",
        "    return fator"
      ],
      "metadata": {
        "id": "S_fCxa7GV65n"
      },
      "execution_count": 4114,
      "outputs": []
    },
    {
      "cell_type": "code",
      "source": [
        "# Define a função de melhoria exponencial\n",
        "def expo(ck, m, s, theta):\n",
        "    fator = []\n",
        "    for k in range(0, m):\n",
        "        linha = []\n",
        "        # Verifique se o índice k é válido\n",
        "        if k >= len(s):\n",
        "            break\n",
        "        for j in range(0, ck):\n",
        "            # Verifique se o índice j é válido\n",
        "            if j >= len(s[k]):\n",
        "                break\n",
        "            linha.append(1.0 - np.exp(-s[k][j] * theta))\n",
        "        fator.append(linha)\n",
        "\n",
        "    return fator"
      ],
      "metadata": {
        "id": "NV3lIXl9V9FL"
      },
      "execution_count": 4115,
      "outputs": []
    },
    {
      "cell_type": "code",
      "source": [
        "# Define a função de melhoria potência\n",
        "def pot(ck, m, s, theta):\n",
        "    fator = []\n",
        "    for k in range(0, m, 1):\n",
        "        linha = []\n",
        "        for j in range(0, ck, 1):\n",
        "            linha.append(s[k][j] ** theta)\n",
        "        fator.append(linha)\n",
        "    return fator"
      ],
      "metadata": {
        "id": "ikxXlzxKV-0K"
      },
      "execution_count": 4116,
      "outputs": []
    },
    {
      "cell_type": "code",
      "source": [
        "# Define a função de melhoria para manutenção perfeita\n",
        "def mpp(ck, m, s, theta):\n",
        "    fator = []\n",
        "    for k in range(0, m, 1):\n",
        "        linha = []\n",
        "        for j in range(0, ck, 1):\n",
        "            linha.append(1)\n",
        "        fator.append(linha)\n",
        "    return fator"
      ],
      "metadata": {
        "id": "xcHr8tSFWAus"
      },
      "execution_count": 4117,
      "outputs": []
    },
    {
      "cell_type": "code",
      "source": [
        "# Executa a função de melhoria com base no parâmetro fornecido\n",
        "def execute_function(fator_melhoria, ck, m, s, theta):\n",
        "    return {\n",
        "        'const': lambda: const(ck, m, s, theta),\n",
        "        'linear': lambda: linear(ck, m, s, theta),\n",
        "        'expo': lambda: expo(ck, m, s, theta),\n",
        "        'pot': lambda: pot(ck, m, s, theta),\n",
        "        'mpp': lambda: mpp(ck, m, s, theta),\n",
        "    }[fator_melhoria]()"
      ],
      "metadata": {
        "id": "R5KeFcseWDH6"
      },
      "execution_count": 4118,
      "outputs": []
    },
    {
      "cell_type": "code",
      "source": [
        "# Função custo de manutenção baseada severidade\n",
        "def custo_mp(s, CMP):\n",
        "    # Dicionario definido pelo cliente\n",
        "    dist = {1.0: 400.0000}\n",
        "    custos = [dist.get(si, CMP) for si in s]\n",
        "    custo_total = np.sum(custos)\n",
        "    return custo_total"
      ],
      "metadata": {
        "id": "SHsZAjxZncnq"
      },
      "execution_count": 4119,
      "outputs": []
    },
    {
      "cell_type": "code",
      "source": [
        "# Função custo de manutenção baseada em severidade\n",
        "def custo_mp(s, CMP):\n",
        "    # Dicionario definido pelo cliente\n",
        "    dist = {0.5: 2000, 1.0: 3000}\n",
        "    if not isinstance(s, list):\n",
        "        s = [s]  # Transforma s em uma lista com um único elemento\n",
        "    cmp_f = np.sum([CMP if si < 0.20 or si > 1.0 else np.interp(si, [0.5, 1.0], [2000, 3000]) for si in s])\n",
        "    return cmp_f"
      ],
      "metadata": {
        "id": "9K0PX8kIrIc4"
      },
      "execution_count": 4120,
      "outputs": []
    },
    {
      "cell_type": "markdown",
      "source": [
        "O 1.º cenário, considera o dataset fictício do trabalho do Dr Marco Coque Jr, com 5 sistema, observados por 600 dias, com MP realizada nos tempos 150, 250, 500 e 600, com custo de MP apresentado na tabela 1, com taxas de severidades de 40%, 50%, 90% e 20%, respectivamente  e MC fixa em \"?\"\n",
        "\n",
        "O 2.º cenário, considera o dataset fictício, com 3 sistemas, observados por 730 dias, com MP realizada nos tempos \"?\", com custo de MP apresentado na tabela 2, com taxas de severidade fixas em 20%, 70% e 100%, respectivamente e MC fixa em US$15.000\n",
        "\n",
        "O 3.º cenário, considera o dataset fictício, com 2 sistemas, observados por 1.460 dias, com MP realizada nos tempos \"?\", com custo de MP fixo em US$4.000, com taxas de severidade fixas em 100% e MC fixa em US$17.000\n",
        "\n",
        "O 4.º cenário, considera o dataset fictício, com 4 sistemas, observados por 730 dias, com MP realizada nos tempos \"?\", com custo de MP apresentado na tabela 2, com taxas de severidade fixas em 50% e 100%, onde US$2.000 e US$3.000, respectivamente e MC fixa em US$15.000 texto em itálico\n",
        "\n",
        "\n",
        "\n"
      ],
      "metadata": {
        "id": "G2TJsXlyGcOc"
      }
    },
    {
      "cell_type": "code",
      "source": [
        "# Defina o dicionário de tipos de dados\n",
        "# define as 3 colunas do dataset como int\n",
        "dtypes = {\n",
        "    't': int,\n",
        "    'k': int,\n",
        "    'c': int,\n",
        "}\n",
        "\n",
        "# Leitura dos dados de tempo de falha para 4 cenarios de exemplo\n",
        "df = pd.read_csv(f'/content/drive/MyDrive/datasets/Cenarios/cenario{CENARIO}.csv', sep=\";\")\n",
        "\n",
        "# Remova as linhas com valores ausentes\n",
        "df = df.fillna(0)\n",
        "\n",
        "# Converta as colunas para os tipos de dados desejados\n",
        "df = df.astype(dtypes)\n",
        "\n",
        "df.head()"
      ],
      "metadata": {
        "colab": {
          "base_uri": "https://localhost:8080/",
          "height": 206
        },
        "id": "IDcyZ_pHWIW8",
        "outputId": "d853cbcf-80a3-4873-db37-141d0e0f9533"
      },
      "execution_count": 4121,
      "outputs": [
        {
          "output_type": "execute_result",
          "data": {
            "text/plain": [
              "      t  k   c  n    s    T\n",
              "0  1033  1   6  0  1.0  182\n",
              "1  1309  1   7  0  1.0  366\n",
              "2  1778  1   7  0  1.0  547\n",
              "3  2342  1  10  0  1.0  731\n",
              "4  3254  1  14  0  1.0  912"
            ],
            "text/html": [
              "\n",
              "  <div id=\"df-84951972-17d0-421d-9984-1a8edcc70ffe\" class=\"colab-df-container\">\n",
              "    <div>\n",
              "<style scoped>\n",
              "    .dataframe tbody tr th:only-of-type {\n",
              "        vertical-align: middle;\n",
              "    }\n",
              "\n",
              "    .dataframe tbody tr th {\n",
              "        vertical-align: top;\n",
              "    }\n",
              "\n",
              "    .dataframe thead th {\n",
              "        text-align: right;\n",
              "    }\n",
              "</style>\n",
              "<table border=\"1\" class=\"dataframe\">\n",
              "  <thead>\n",
              "    <tr style=\"text-align: right;\">\n",
              "      <th></th>\n",
              "      <th>t</th>\n",
              "      <th>k</th>\n",
              "      <th>c</th>\n",
              "      <th>n</th>\n",
              "      <th>s</th>\n",
              "      <th>T</th>\n",
              "    </tr>\n",
              "  </thead>\n",
              "  <tbody>\n",
              "    <tr>\n",
              "      <th>0</th>\n",
              "      <td>1033</td>\n",
              "      <td>1</td>\n",
              "      <td>6</td>\n",
              "      <td>0</td>\n",
              "      <td>1.0</td>\n",
              "      <td>182</td>\n",
              "    </tr>\n",
              "    <tr>\n",
              "      <th>1</th>\n",
              "      <td>1309</td>\n",
              "      <td>1</td>\n",
              "      <td>7</td>\n",
              "      <td>0</td>\n",
              "      <td>1.0</td>\n",
              "      <td>366</td>\n",
              "    </tr>\n",
              "    <tr>\n",
              "      <th>2</th>\n",
              "      <td>1778</td>\n",
              "      <td>1</td>\n",
              "      <td>7</td>\n",
              "      <td>0</td>\n",
              "      <td>1.0</td>\n",
              "      <td>547</td>\n",
              "    </tr>\n",
              "    <tr>\n",
              "      <th>3</th>\n",
              "      <td>2342</td>\n",
              "      <td>1</td>\n",
              "      <td>10</td>\n",
              "      <td>0</td>\n",
              "      <td>1.0</td>\n",
              "      <td>731</td>\n",
              "    </tr>\n",
              "    <tr>\n",
              "      <th>4</th>\n",
              "      <td>3254</td>\n",
              "      <td>1</td>\n",
              "      <td>14</td>\n",
              "      <td>0</td>\n",
              "      <td>1.0</td>\n",
              "      <td>912</td>\n",
              "    </tr>\n",
              "  </tbody>\n",
              "</table>\n",
              "</div>\n",
              "    <div class=\"colab-df-buttons\">\n",
              "\n",
              "  <div class=\"colab-df-container\">\n",
              "    <button class=\"colab-df-convert\" onclick=\"convertToInteractive('df-84951972-17d0-421d-9984-1a8edcc70ffe')\"\n",
              "            title=\"Convert this dataframe to an interactive table.\"\n",
              "            style=\"display:none;\">\n",
              "\n",
              "  <svg xmlns=\"http://www.w3.org/2000/svg\" height=\"24px\" viewBox=\"0 -960 960 960\">\n",
              "    <path d=\"M120-120v-720h720v720H120Zm60-500h600v-160H180v160Zm220 220h160v-160H400v160Zm0 220h160v-160H400v160ZM180-400h160v-160H180v160Zm440 0h160v-160H620v160ZM180-180h160v-160H180v160Zm440 0h160v-160H620v160Z\"/>\n",
              "  </svg>\n",
              "    </button>\n",
              "\n",
              "  <style>\n",
              "    .colab-df-container {\n",
              "      display:flex;\n",
              "      gap: 12px;\n",
              "    }\n",
              "\n",
              "    .colab-df-convert {\n",
              "      background-color: #E8F0FE;\n",
              "      border: none;\n",
              "      border-radius: 50%;\n",
              "      cursor: pointer;\n",
              "      display: none;\n",
              "      fill: #1967D2;\n",
              "      height: 32px;\n",
              "      padding: 0 0 0 0;\n",
              "      width: 32px;\n",
              "    }\n",
              "\n",
              "    .colab-df-convert:hover {\n",
              "      background-color: #E2EBFA;\n",
              "      box-shadow: 0px 1px 2px rgba(60, 64, 67, 0.3), 0px 1px 3px 1px rgba(60, 64, 67, 0.15);\n",
              "      fill: #174EA6;\n",
              "    }\n",
              "\n",
              "    .colab-df-buttons div {\n",
              "      margin-bottom: 4px;\n",
              "    }\n",
              "\n",
              "    [theme=dark] .colab-df-convert {\n",
              "      background-color: #3B4455;\n",
              "      fill: #D2E3FC;\n",
              "    }\n",
              "\n",
              "    [theme=dark] .colab-df-convert:hover {\n",
              "      background-color: #434B5C;\n",
              "      box-shadow: 0px 1px 3px 1px rgba(0, 0, 0, 0.15);\n",
              "      filter: drop-shadow(0px 1px 2px rgba(0, 0, 0, 0.3));\n",
              "      fill: #FFFFFF;\n",
              "    }\n",
              "  </style>\n",
              "\n",
              "    <script>\n",
              "      const buttonEl =\n",
              "        document.querySelector('#df-84951972-17d0-421d-9984-1a8edcc70ffe button.colab-df-convert');\n",
              "      buttonEl.style.display =\n",
              "        google.colab.kernel.accessAllowed ? 'block' : 'none';\n",
              "\n",
              "      async function convertToInteractive(key) {\n",
              "        const element = document.querySelector('#df-84951972-17d0-421d-9984-1a8edcc70ffe');\n",
              "        const dataTable =\n",
              "          await google.colab.kernel.invokeFunction('convertToInteractive',\n",
              "                                                    [key], {});\n",
              "        if (!dataTable) return;\n",
              "\n",
              "        const docLinkHtml = 'Like what you see? Visit the ' +\n",
              "          '<a target=\"_blank\" href=https://colab.research.google.com/notebooks/data_table.ipynb>data table notebook</a>'\n",
              "          + ' to learn more about interactive tables.';\n",
              "        element.innerHTML = '';\n",
              "        dataTable['output_type'] = 'display_data';\n",
              "        await google.colab.output.renderOutput(dataTable, element);\n",
              "        const docLink = document.createElement('div');\n",
              "        docLink.innerHTML = docLinkHtml;\n",
              "        element.appendChild(docLink);\n",
              "      }\n",
              "    </script>\n",
              "  </div>\n",
              "\n",
              "\n",
              "<div id=\"df-5937bc98-be8e-4807-a336-a24f3493e61a\">\n",
              "  <button class=\"colab-df-quickchart\" onclick=\"quickchart('df-5937bc98-be8e-4807-a336-a24f3493e61a')\"\n",
              "            title=\"Suggest charts\"\n",
              "            style=\"display:none;\">\n",
              "\n",
              "<svg xmlns=\"http://www.w3.org/2000/svg\" height=\"24px\"viewBox=\"0 0 24 24\"\n",
              "     width=\"24px\">\n",
              "    <g>\n",
              "        <path d=\"M19 3H5c-1.1 0-2 .9-2 2v14c0 1.1.9 2 2 2h14c1.1 0 2-.9 2-2V5c0-1.1-.9-2-2-2zM9 17H7v-7h2v7zm4 0h-2V7h2v10zm4 0h-2v-4h2v4z\"/>\n",
              "    </g>\n",
              "</svg>\n",
              "  </button>\n",
              "\n",
              "<style>\n",
              "  .colab-df-quickchart {\n",
              "      --bg-color: #E8F0FE;\n",
              "      --fill-color: #1967D2;\n",
              "      --hover-bg-color: #E2EBFA;\n",
              "      --hover-fill-color: #174EA6;\n",
              "      --disabled-fill-color: #AAA;\n",
              "      --disabled-bg-color: #DDD;\n",
              "  }\n",
              "\n",
              "  [theme=dark] .colab-df-quickchart {\n",
              "      --bg-color: #3B4455;\n",
              "      --fill-color: #D2E3FC;\n",
              "      --hover-bg-color: #434B5C;\n",
              "      --hover-fill-color: #FFFFFF;\n",
              "      --disabled-bg-color: #3B4455;\n",
              "      --disabled-fill-color: #666;\n",
              "  }\n",
              "\n",
              "  .colab-df-quickchart {\n",
              "    background-color: var(--bg-color);\n",
              "    border: none;\n",
              "    border-radius: 50%;\n",
              "    cursor: pointer;\n",
              "    display: none;\n",
              "    fill: var(--fill-color);\n",
              "    height: 32px;\n",
              "    padding: 0;\n",
              "    width: 32px;\n",
              "  }\n",
              "\n",
              "  .colab-df-quickchart:hover {\n",
              "    background-color: var(--hover-bg-color);\n",
              "    box-shadow: 0 1px 2px rgba(60, 64, 67, 0.3), 0 1px 3px 1px rgba(60, 64, 67, 0.15);\n",
              "    fill: var(--button-hover-fill-color);\n",
              "  }\n",
              "\n",
              "  .colab-df-quickchart-complete:disabled,\n",
              "  .colab-df-quickchart-complete:disabled:hover {\n",
              "    background-color: var(--disabled-bg-color);\n",
              "    fill: var(--disabled-fill-color);\n",
              "    box-shadow: none;\n",
              "  }\n",
              "\n",
              "  .colab-df-spinner {\n",
              "    border: 2px solid var(--fill-color);\n",
              "    border-color: transparent;\n",
              "    border-bottom-color: var(--fill-color);\n",
              "    animation:\n",
              "      spin 1s steps(1) infinite;\n",
              "  }\n",
              "\n",
              "  @keyframes spin {\n",
              "    0% {\n",
              "      border-color: transparent;\n",
              "      border-bottom-color: var(--fill-color);\n",
              "      border-left-color: var(--fill-color);\n",
              "    }\n",
              "    20% {\n",
              "      border-color: transparent;\n",
              "      border-left-color: var(--fill-color);\n",
              "      border-top-color: var(--fill-color);\n",
              "    }\n",
              "    30% {\n",
              "      border-color: transparent;\n",
              "      border-left-color: var(--fill-color);\n",
              "      border-top-color: var(--fill-color);\n",
              "      border-right-color: var(--fill-color);\n",
              "    }\n",
              "    40% {\n",
              "      border-color: transparent;\n",
              "      border-right-color: var(--fill-color);\n",
              "      border-top-color: var(--fill-color);\n",
              "    }\n",
              "    60% {\n",
              "      border-color: transparent;\n",
              "      border-right-color: var(--fill-color);\n",
              "    }\n",
              "    80% {\n",
              "      border-color: transparent;\n",
              "      border-right-color: var(--fill-color);\n",
              "      border-bottom-color: var(--fill-color);\n",
              "    }\n",
              "    90% {\n",
              "      border-color: transparent;\n",
              "      border-bottom-color: var(--fill-color);\n",
              "    }\n",
              "  }\n",
              "</style>\n",
              "\n",
              "  <script>\n",
              "    async function quickchart(key) {\n",
              "      const quickchartButtonEl =\n",
              "        document.querySelector('#' + key + ' button');\n",
              "      quickchartButtonEl.disabled = true;  // To prevent multiple clicks.\n",
              "      quickchartButtonEl.classList.add('colab-df-spinner');\n",
              "      try {\n",
              "        const charts = await google.colab.kernel.invokeFunction(\n",
              "            'suggestCharts', [key], {});\n",
              "      } catch (error) {\n",
              "        console.error('Error during call to suggestCharts:', error);\n",
              "      }\n",
              "      quickchartButtonEl.classList.remove('colab-df-spinner');\n",
              "      quickchartButtonEl.classList.add('colab-df-quickchart-complete');\n",
              "    }\n",
              "    (() => {\n",
              "      let quickchartButtonEl =\n",
              "        document.querySelector('#df-5937bc98-be8e-4807-a336-a24f3493e61a button');\n",
              "      quickchartButtonEl.style.display =\n",
              "        google.colab.kernel.accessAllowed ? 'block' : 'none';\n",
              "    })();\n",
              "  </script>\n",
              "</div>\n",
              "\n",
              "    </div>\n",
              "  </div>\n"
            ]
          },
          "metadata": {},
          "execution_count": 4121
        }
      ]
    },
    {
      "cell_type": "markdown",
      "source": [
        "\n",
        "\n",
        "*   t: Representa os tempos de falha.\n",
        "*   k: Indica o índice do sistema.\n",
        "*   c: Representa o número de ciclos de manutenção.\n",
        "*   n: Indica o número de falhas em cada ciclo de manutenção preventiva.\n",
        "*   s: Representa a severidade das manutenções preventivas em cada sistema.\n",
        "*   T: Indica os tempos das manutenções preventivas.\n",
        "\n"
      ],
      "metadata": {
        "id": "CaA-qPulJnW2"
      }
    },
    {
      "cell_type": "code",
      "source": [
        "# Cria as variaveis\n",
        "# tempos de falhas\n",
        "t = df['t']\n",
        "# indice do sistema\n",
        "k = df['k']\n",
        "m = k.drop_duplicates().shape[0]\n",
        "# Numero de ciclos de manutenção\n",
        "ck = df['c'].max()\n",
        "# Numero de falhas e severidade das manutenções preventivas em cada sistema\n",
        "n = []\n",
        "s = []\n",
        "for k in range(m):\n",
        "    n.append(list(df['n'][k * ck:(k + 1) * ck]))\n",
        "    s.append(list(df['s'][k * ck:(k + 1) * ck]))\n",
        "\n",
        "# Tempos das MP\n",
        "T = list(df['T'][:m])"
      ],
      "metadata": {
        "id": "osEXf1wsuIlP"
      },
      "execution_count": 4122,
      "outputs": []
    },
    {
      "cell_type": "code",
      "source": [
        "# Define a função objetivo para ótimização dos parametros lambda, beta, theta\n",
        "def objective(x):\n",
        "    #\n",
        "    # Solucao a ser avaliada x = [x1, x2, x3] = [lambda, beta, theta]\n",
        "    lamb = x[:, 0]\n",
        "    beta = x[:, 1]\n",
        "    theta = x[:, 2]\n",
        "\n",
        "    # Cria fator de melhoria\n",
        "\t# variável fator_melhoria definida como 'expo' no início do programa!\n",
        "    fator = execute_function(fator_melhoria, ck, m, s, theta)\n",
        "\n",
        "    cont = 0\n",
        "    fitness = 1\n",
        "\n",
        "    for k in range(0, m, 1):\n",
        "        prod = 1\n",
        "        for j in range(0, len(ck) if isinstance(ck, np.ndarray) else 1, 1):\n",
        "            nkj = int(n[k][j])\n",
        "            for i in range(0, nkj, 1):\n",
        "                prod = prod * (1/(lamb**beta)) * beta * (int(t[cont])-fator[k][j]*T[j])**(beta-1);\n",
        "                cont = cont + 1;\n",
        "\n",
        "        soma = 0\n",
        "        for l in range(0, len(ck) if isinstance(ck, np.ndarray) else 1, 1):\n",
        "            soma = soma + ((1/(lamb**beta))*(T[l+1]-fator[k][l]*T[l])**beta - (1/(lamb**beta))*(T[l]-fator[k][l]*T[l])**beta);\n",
        "\n",
        "        ans = np.exp(-soma)\n",
        "        fitness = fitness * prod * ans;\n",
        "\n",
        "    return (-1)*fitness"
      ],
      "metadata": {
        "id": "F548fs8JXJkK"
      },
      "execution_count": 4123,
      "outputs": []
    },
    {
      "cell_type": "code",
      "source": [
        "# Parâmetros do PSO\n",
        "num_particles = 100\n",
        "max_iterations = 50\n",
        "dimensions = 3\n",
        "options = {'c1': 0.5, 'c2': 0.3, 'w': 0.9}  # Opções do PSO\n",
        "\n",
        "# Limites inferiores e superiores para lamb, beta e theta\n",
        "lb = np.array([100, 1, 0])\n",
        "ub = np.array([150, 2, 1])\n",
        "bounds = (lb, ub)\n",
        "\n",
        "# Registre o tempo de início de convergência para a primeira etapa\n",
        "start_time_first_stage = time.time()\n",
        "\n",
        "optimizer = GlobalBestPSO(n_particles=num_particles, dimensions=dimensions, options=options, bounds=bounds)\n",
        "\n",
        "# Registre o tempo de término\n",
        "end_time_first_stage = time.time()\n",
        "\n",
        "# Calcule o tempo total de convergência\n",
        "convergence_time_first_stage = end_time_first_stage - start_time_first_stage\n",
        "\n",
        "# Define o enxame de partículas\n",
        "swarm = optimizer.swarm\n",
        "\n",
        "# Inicializar current_cost e pbest_cost com valores infinitos\n",
        "swarm.current_cost = np.full(swarm.position.shape[0], np.inf)\n",
        "swarm.pbest_cost = np.full(swarm.position.shape[0], np.inf)\n",
        "best_cost, best_position = optimizer.optimize(objective, iters=max_iterations)\n",
        "\n",
        "# Calcula mask_cost\n",
        "mask_cost = swarm.current_cost < swarm.pbest_cost\n",
        "\n",
        "# Atualiza pbest\n",
        "swarm.pbest_cost = np.where(mask_cost, swarm.current_cost, swarm.pbest_cost)\n",
        "swarm.pbest_pos = np.where(mask_cost[:, np.newaxis], swarm.position, swarm.pbest_pos)"
      ],
      "metadata": {
        "id": "sdZ_xrssxPjt",
        "colab": {
          "base_uri": "https://localhost:8080/"
        },
        "outputId": "e2d625c4-0080-4476-87be-a975660377c6"
      },
      "execution_count": 4124,
      "outputs": [
        {
          "output_type": "stream",
          "name": "stderr",
          "text": [
            "2023-12-28 19:22:48,189 - pyswarms.single.global_best - INFO - Optimize for 50 iters with {'c1': 0.5, 'c2': 0.3, 'w': 0.9}\n",
            "pyswarms.single.global_best: 100%|██████████|50/50, best_cost=-.0839\n",
            "2023-12-28 19:22:48,354 - pyswarms.single.global_best - INFO - Optimization finished | best cost: -0.08391496819876343, best pos: [148.78429629   1.0014883    0.55032627]\n"
          ]
        }
      ]
    },
    {
      "cell_type": "code",
      "source": [
        "# Criação de variáveis para os parâmetros\n",
        "lamb, beta, theta = best_position\n",
        "print('lamb:', lamb)\n",
        "print('beta:', beta)\n",
        "print('theta:', theta)\n",
        "print('')\n",
        "print(\"Tempo de Convergência para a primeira etapa:\", convergence_time_first_stage, \"segundos\")"
      ],
      "metadata": {
        "colab": {
          "base_uri": "https://localhost:8080/"
        },
        "id": "NaosdejV9bWw",
        "outputId": "acf095c4-90ac-4e31-e3fe-5d1ffac37846"
      },
      "execution_count": 4125,
      "outputs": [
        {
          "output_type": "stream",
          "name": "stdout",
          "text": [
            "lamb: 148.78429628929626\n",
            "beta: 1.0014883044944407\n",
            "theta: 0.5503262709372889\n",
            "\n",
            "Tempo de Convergência para a primeira etapa: 0.011978387832641602 segundos\n"
          ]
        }
      ]
    },
    {
      "cell_type": "code",
      "source": [
        "lamb = 148.8236099092524\n",
        "beta = 1.003177327961337\n",
        "theta = 0.6594169622308468\n",
        "\n",
        "solucao = [lamb, beta, theta]\n",
        "\n",
        "# Cria a instância da classe IntensidadeFalha\n",
        "intensidadeFalha = IntensidadeFalha()\n",
        "\n",
        "# Inicializa a instância com os valores necessários\n",
        "intensidadeFalha.inicio(T, execute_function(fator_melhoria, ck, m, s, theta), solucao)\n",
        "\n",
        "# Cria os dados da intensidade de falha\n",
        "intensidadeFalha.create()\n",
        "\n",
        "# Plota o gráfico da intensidade de falha\n",
        "intensidadeFalha.plotar()\n",
        "\n",
        "fator = execute_function(fator_melhoria, ck, m, s, theta)\n",
        "print('Fator ajuste: ', fator[0])\n",
        "\n",
        "last_value_fator_ajuste = fator[0][-1]\n",
        "\n",
        "time_duration = 1\n",
        "time.sleep(time_duration)"
      ],
      "metadata": {
        "id": "grvISRd2_HkE",
        "outputId": "b4abfe4f-34b9-4dc8-9989-e4896cf82748",
        "colab": {
          "base_uri": "https://localhost:8080/",
          "height": 410
        }
      },
      "execution_count": 4126,
      "outputs": [
        {
          "output_type": "display_data",
          "data": {
            "text/plain": [
              "<Figure size 2000x500 with 1 Axes>"
            ],
            "image/png": "[encoded data removed]"
          },
          "metadata": {}
        },
        {
          "output_type": "stream",
          "name": "stdout",
          "text": [
            "Fator ajuste:  [0.4828472337947568, 0.4828472337947568, 0.4828472337947568, 0.4828472337947568, 0.4828472337947568, 0.28086665617199813, 0.28086665617199813, 0.4828472337947568, 0.28086665617199813, 0.4828472337947568, 0.28086665617199813, 0.4828472337947568, 0.4828472337947568, 0.4828472337947568]\n"
          ]
        }
      ]
    },
    {
      "cell_type": "code",
      "source": [
        "# Configurar a formatação da moeda\n",
        "def format_currency(value):\n",
        "    return locale.currency(value, grouping=True)"
      ],
      "metadata": {
        "id": "oRfF5D6xcmkJ"
      },
      "execution_count": 4127,
      "outputs": []
    },
    {
      "cell_type": "code",
      "source": [
        "# Função objetivo para otimização da politica de manutenção\n",
        "# Numero de ciclos determinado pela solução\n",
        "# Solução com 24 valores reais\n",
        "# Solucao a ser avaliada X = [x1, ..., x24]\n",
        "def objective_st(x):\n",
        "\n",
        "    # Dicionario para severidades\n",
        "    dict_severidades = {1:0.5, 3:0, 5:0, 7:1.0}\n",
        "\n",
        "    results = [] # Lista para armazenar os resultados das funções objetivo\n",
        "\n",
        "    # No PSO, como cada particula é um vetor de dimenções definidas, é\n",
        "    # Necessario interar sobre o vetor de particulas\n",
        "    for particle in x:\n",
        "        T = [0]\n",
        "        s_row = []\n",
        "        cont = 0\n",
        "\n",
        "        for number in particle:\n",
        "            modulo = int(number) % 2\n",
        "            if modulo == 1:\n",
        "                inteiro = int(number)\n",
        "                s_row.append(dict_severidades[inteiro])  # Severidade\n",
        "                frac = number - inteiro  # Tempo\n",
        "                t = (cont + frac) * 30\n",
        "                T.append(int(t))\n",
        "            cont += 1\n",
        "\n",
        "    s = []\n",
        "    for row in range(m):\n",
        "        s.append(s_row)\n",
        "\n",
        "    # A partir da solução define o número de ciclos\n",
        "    ck = len(T) - 1\n",
        "\n",
        "    print(\"\")\n",
        "    print(\"=========================================================================\")\n",
        "    print(\"\")\n",
        "    print('Número de ciclos de manutenção:', ck, m)\n",
        "    print('Tempos para manutenções preventivas:', T)\n",
        "    print('Severidade para cada subsistema:', s[0])\n",
        "    print(\"Número de Sisemas:\", m)\n",
        "\n",
        "    if ck == 0:\n",
        "        return MAX_VALUE_CUSTO\n",
        "\n",
        "    # O modelo já está ajustado\n",
        "    # Utilizado para avaliar a solução candidata\n",
        "\n",
        "    # Cria fator de meloria a partir da solução\n",
        "    fact = execute_function(fator_melhoria, ck, m, s, theta)\n",
        "    fator = [last_value_fator_ajuste] + list(fact[0])\n",
        "\n",
        "    print('Fator: ', fator)\n",
        "\n",
        "    # Numero esperado de falhas (NEF) em cada ciclo\n",
        "    termos_somatorio = [((1/(lamb**beta)) * (T[1]**beta))]\n",
        "    numero_medio_falhas = [0, ((1/(lamb**beta)) * (T[1]**beta))]\n",
        "\n",
        "    for i in range(ck-1):\n",
        "        termo = (((T[i+2]-fator[i]*T[i+1])**beta) - (((1-fator[i])*T[i+1])**beta)) * (1/(lamb**beta))\n",
        "        termos_somatorio.append(termo)\n",
        "        numero_medio_falhas.append(sum(termos_somatorio))\n",
        "\n",
        "    # Número médio de falhas até o final do período: 2 anos\n",
        "    final = DIAS_OBSERVADOS\n",
        "    termo = (((final-fator[ck-1]*T[ck])**beta) - (((1-fator[ck-1])*T[ck])**beta)) * (1/(lamb**beta))\n",
        "    termos_somatorio.append(termo)\n",
        "    numero_medio_falhas.append(sum(termos_somatorio))\n",
        "\n",
        "    mi = numero_medio_falhas\n",
        "\n",
        "    print('Media de falhas: ', mi)\n",
        "\n",
        "    Ctotal =  []\n",
        "\n",
        "    for i in range(ck):\n",
        "        cmp = custo_mp(s[0][i], CMP)\n",
        "        Ctotal.append((cmp + (mi[i+1] - mi[i])*CMC)/(T[i+1]-T[i]))\n",
        "\n",
        "    cmp = custo_mp(s[0][ck-1], CMP)\n",
        "    Ctotal.append((cmp + (mi[ck+1] - mi[ck])*CMC)/(final-T[ck]))\n",
        "\n",
        "    # Custo Total\n",
        "    Custo = np.sum(Ctotal)\n",
        "    results.append(Custo) # Adicione o valor da função objetivo à lista de resultados\n",
        "    print('Custo = ', Custo)\n",
        "\n",
        "    # Retorne os resultados da função objetivo como um array\n",
        "    return np.array(results)"
      ],
      "metadata": {
        "id": "-JuqM09rWWBJ"
      },
      "execution_count": 4128,
      "outputs": []
    },
    {
      "cell_type": "code",
      "source": [
        "num_particles = 100\n",
        "max_iterations = 100\n",
        "dimensions = VALOR_DIMENSOES\n",
        "options = {'c1': 0.5, 'c2': 0.3, 'w': 0.9}\n",
        "\n",
        "max_bound = np.array([1.3] * dimensions)  # Limite superior dos valores em x\n",
        "min_bound = np.array([0.0] * dimensions)   # Limite inferior dos valores em x\n",
        "bounds = (min_bound, max_bound)\n",
        "\n",
        "# Registre o tempo de início de convergência para a segunda etapa\n",
        "start_time_second_stage = time.time()\n",
        "\n",
        "optimizer = GlobalBestPSO(n_particles=num_particles, dimensions=dimensions, options=options, bounds=bounds)\n",
        "\n",
        "# Inicializar current_cost e pbest_cost com valores infinitos\n",
        "optimizer.swarm.current_cost = np.full(optimizer.swarm.position.shape[0], np.inf)\n",
        "optimizer.swarm.pbest_cost = np.full(optimizer.swarm.position.shape[0], np.inf)\n",
        "best_cost, best_position = optimizer.optimize(objective_st, iters=max_iterations)\n",
        "\n",
        "# Registre o tempo de término\n",
        "end_time_second_stage = time.time()\n",
        "\n",
        "# Agora, você pode calcular os outros valores relacionados à melhor solução\n",
        "# Primeiro, você precisa transformar a melhor posição em uma lista (se necessário)\n",
        "best_position_list = best_position.tolist()\n",
        "\n",
        "pbest_cost = optimizer.swarm.pbest_cost\n",
        "\n",
        "gbest_cost = optimizer.cost_history[-1]  # O último valor registrado no histórico de custos\n",
        "\n",
        "best_positions = []  # Lista para armazenar todas as melhores posições\n",
        "\n",
        "# Loop de iterações do PSO\n",
        "for i in range(max_iterations):\n",
        "    best_cost, best_position = optimizer.optimize(objective_st, iters=1)\n",
        "    pbest_cost = optimizer.swarm.pbest_cost\n",
        "    best_positions.append(best_position)\n",
        "\n",
        "# Converter a lista de melhores posições em um array numpy para facilitar a manipulação\n",
        "best_positions = np.array(best_positions)"
      ],
      "metadata": {
        "colab": {
          "base_uri": "https://localhost:8080/"
        },
        "id": "cePW2Ji6gjmC",
        "outputId": "f8ccd799-5602-4dd6-e234-d5c1eda84419"
      },
      "execution_count": 4129,
      "outputs": [
        {
          "output_type": "stream",
          "name": "stderr",
          "text": [
            "2023-12-28 19:22:49,850 - pyswarms.single.global_best - INFO - Optimize for 100 iters with {'c1': 0.5, 'c2': 0.3, 'w': 0.9}\n",
            "pyswarms.single.global_best:   8%|▊         |8/100, best_cost=332"
          ]
        },
        {
          "output_type": "stream",
          "name": "stdout",
          "text": [
            "\n",
            "=========================================================================\n",
            "\n",
            "Número de ciclos de manutenção: 5 2\n",
            "Tempos para manutenções preventivas: [0, 7, 62, 395, 601, 638]\n",
            "Severidade para cada subsistema: [0.5, 0.5, 0.5, 0.5, 0.5]\n",
            "Número de Sisemas: 2\n",
            "Fator:  [0.4828472337947568, 0.28086665617199813, 0.28086665617199813, 0.28086665617199813, 0.28086665617199813, 0.28086665617199813]\n",
            "Media de falhas:  [0, 0.04658092065663886, 0.41526717432193916, 2.661477041997987, 4.054234280860942, 4.304520068376842, 4.9270743405893285]\n",
            "Custo =  1019.5185172669584\n",
            "\n",
            "=========================================================================\n",
            "\n",
            "Número de ciclos de manutenção: 4 2\n",
            "Tempos para manutenções preventivas: [0, 248, 395, 518, 603]\n",
            "Severidade para cada subsistema: [0.5, 0.5, 0.5, 0.5]\n",
            "Número de Sisemas: 2\n",
            "Fator:  [0.4828472337947568, 0.28086665617199813, 0.28086665617199813, 0.28086665617199813, 0.28086665617199813]\n",
            "Media de falhas:  [0, 1.6691082871695793, 2.6608792175002645, 3.492195094715754, 4.067022586941611, 4.926372693172696]\n",
            "Custo =  583.6809845367541\n",
            "\n",
            "=========================================================================\n",
            "\n",
            "Número de ciclos de manutenção: 7 2\n",
            "Tempos para manutenções preventivas: [0, 90, 182, 334, 395, 484, 545, 603]\n",
            "Severidade para cada subsistema: [0.5, 0.5, 0.5, 0.5, 0.5, 0.5, 0.5]\n",
            "Número de Sisemas: 2\n",
            "Fator:  [0.4828472337947568, 0.28086665617199813, 0.28086665617199813, 0.28086665617199813, 0.28086665617199813, 0.28086665617199813, 0.28086665617199813, 0.28086665617199813]\n",
            "Media de falhas:  [0, 0.6037771222615703, 1.2228998256668442, 2.248484936817228, 2.660447983066122, 3.2618771157704276, 3.6742807732471117, 4.066534839563374, 4.92588494579446]\n",
            "Custo =  1005.1988601754648\n",
            "\n",
            "=========================================================================\n",
            "\n",
            "Número de ciclos de manutenção: 8 2\n",
            "Tempos para manutenções preventivas: [0, 92, 182, 242, 300, 395, 420, 512, 600]\n",
            "Severidade para cada subsistema: [0.5, 0.5, 0.5, 0.5, 0.5, 0.5, 0.5, 0.5]\n",
            "Número de Sisemas: 2\n",
            "Fator:  [0.4828472337947568, 0.28086665617199813, 0.28086665617199813, 0.28086665617199813, 0.28086665617199813, 0.28086665617199813, 0.28086665617199813, 0.28086665617199813, 0.28086665617199813]\n",
            "Media de falhas:  [0, 0.6172374944235904, 1.222905781217071, 1.6274412237272524, 2.018784383881222, 2.660302464996059, 2.8291897233070498, 3.4510058164121573, 4.046108182483324, 4.92575381208101]\n",
            "Custo =  1183.5488740000592\n",
            "\n",
            "=========================================================================\n",
            "\n",
            "Número de ciclos de manutenção: 2 2\n",
            "Tempos para manutenções preventivas: [0, 93, 395]\n",
            "Severidade para cada subsistema: [0.5, 0.5]\n",
            "Número de Sisemas: 2\n",
            "Fator:  [0.4828472337947568, 0.28086665617199813, 0.28086665617199813]\n",
            "Media de falhas:  [0, 0.6239680304490293, 2.6607763579092225, 4.926721273275556]\n",
            "Custo =  337.3642436857522\n",
            "\n",
            "=========================================================================\n",
            "\n",
            "Número de ciclos de manutenção: 5 2\n",
            "Tempos para manutenções preventivas: [0, 63, 150, 277, 395, 450]\n",
            "Severidade para cada subsistema: [0.5, 0.5, 0.5, 0.5, 0.5]\n",
            "Número de Sisemas: 2\n",
            "Fator:  [0.4828472337947568, 0.28086665617199813, 0.28086665617199813, 0.28086665617199813, 0.28086665617199813, 0.28086665617199813]\n",
            "Media de falhas:  [0, 0.4221652857505575, 1.0072456983240838, 1.8636352975558514, 2.660410856150709, 3.0320198970530488, 4.926152385547779]\n",
            "Custo =  737.5824025220124\n",
            "\n",
            "=========================================================================\n",
            "\n",
            "Número de ciclos de manutenção: 4 2\n",
            "Tempos para manutenções preventivas: [0, 65, 336, 393, 481]\n",
            "Severidade para cada subsistema: [0.5, 0.5, 0.5, 0.5]\n",
            "Número de Sisemas: 2\n",
            "Fator:  [0.4828472337947568, 0.28086665617199813, 0.28086665617199813, 0.28086665617199813, 0.28086665617199813]\n",
            "Media de falhas:  [0, 0.4356106121174637, 2.2622870751345174, 2.6472339304772117, 3.241894315349015, 4.92641689562625]\n",
            "Custo =  609.7711377991532\n",
            "\n",
            "=========================================================================\n",
            "\n",
            "Número de ciclos de manutenção: 2 2\n",
            "Tempos para manutenções preventivas: [0, 64, 390]\n",
            "Severidade para cada subsistema: [0.5, 0.5]\n",
            "Número de Sisemas: 2\n",
            "Fator:  [0.4828472337947568, 0.28086665617199813, 0.28086665617199813]\n",
            "Media de falhas:  [0, 0.42888778205140465, 2.6272226189571635, 4.926963448068238]\n",
            "Custo =  346.397426341363\n",
            "\n",
            "=========================================================================\n",
            "\n",
            "Número de ciclos de manutenção: 4 2\n",
            "Tempos para manutenções preventivas: [0, 151, 278, 420, 511]\n",
            "Severidade para cada subsistema: [0.5, 0.5, 0.5, 0.5]\n",
            "Número de Sisemas: 2\n",
            "Fator:  [0.4828472337947568, 0.28086665617199813, 0.28086665617199813, 0.28086665617199813, 0.28086665617199813]\n",
            "Media de falhas:  [0, 1.0146707614217494, 1.8705089304289482, 2.829478389658914, 3.4445329104187388, 4.926180384548401]\n",
            "Custo =  580.2312785619862\n",
            "\n",
            "=========================================================================\n",
            "\n",
            "Número de ciclos de manutenção: 5 2\n",
            "Tempos para manutenções preventivas: [0, 158, 302, 333, 422, 518]\n",
            "Severidade para cada subsistema: [0.5, 0.5, 0.5, 0.5, 0.5]\n",
            "Número de Sisemas: 2\n",
            "Fator:  [0.4828472337947568, 0.28086665617199813, 0.28086665617199813, 0.28086665617199813, 0.28086665617199813, 0.28086665617199813]\n",
            "Media de falhas:  [0, 1.0618613559474048, 2.0325030525033254, 2.2417616052516616, 2.84291011641427, 3.4917815497931377, 4.9260878975683955]\n",
            "Custo =  751.1619883328992\n",
            "\n",
            "=========================================================================\n",
            "\n",
            "Número de ciclos de manutenção: 5 2\n",
            "Tempos para manutenções preventivas: [0, 152, 180, 303, 423, 517]\n",
            "Severidade para cada subsistema: [0.5, 0.5, 0.5, 0.5, 0.5]\n",
            "Número de Sisemas: 2\n",
            "Fator:  [0.4828472337947568, 0.28086665617199813, 0.28086665617199813, 0.28086665617199813, 0.28086665617199813, 0.28086665617199813]\n",
            "Media de falhas:  [0, 1.0214118567127326, 1.2098652727375858, 2.039582907932739, 2.850054901282154, 3.4854068170470076, 4.926476264098174]\n",
            "Custo =  755.2977569113481\n",
            "\n",
            "=========================================================================\n",
            "\n",
            "Número de ciclos de manutenção: 6 2\n",
            "Tempos para manutenções preventivas: [0, 94, 184, 245, 302, 423, 513]\n",
            "Severidade para cada subsistema: [0.5, 0.5, 0.5, 0.5, 0.5, 0.5]\n",
            "Número de Sisemas: 2\n",
            "Fator:  [0.4828472337947568, 0.28086665617199813, 0.28086665617199813, 0.28086665617199813, 0.28086665617199813, 0.28086665617199813, 0.28086665617199813]\n",
            "Media de falhas:  [0, 0.6306987964303509, 1.2363904042106564, 1.6476836833091744, 2.032289691310894, 2.8495131900188095, 3.457818238401436, 4.925939812201961]\n",
            "Custo =  867.4589164385222\n",
            "\n",
            "=========================================================================\n",
            "\n",
            "Número de ciclos de manutenção: 7 2\n",
            "Tempos para manutenções preventivas: [0, 93, 180, 270, 333, 392, 422, 545]\n",
            "Severidade para cada subsistema: [0.5, 0.5, 0.5, 0.5, 0.5, 0.5, 0.5]\n",
            "Número de Sisemas: 2\n",
            "Fator:  [0.4828472337947568, 0.28086665617199813, 0.28086665617199813, 0.28086665617199813, 0.28086665617199813, 0.28086665617199813, 0.28086665617199813, 0.28086665617199813]\n",
            "Media de falhas:  [0, 0.6239680304490293, 1.2094313851355496, 1.8163801040844523, 2.2416027375658465, 2.6400508739499404, 2.8427162442949863, 3.674177996578666, 4.9258706769927025]\n",
            "Custo =  1035.6010770335592\n",
            "\n",
            "=========================================================================\n",
            "\n",
            "Número de ciclos de manutenção: 5 2\n",
            "Tempos para manutenções preventivas: [0, 158, 273, 338, 391, 515]\n",
            "Severidade para cada subsistema: [0.5, 0.5, 0.5, 0.5, 0.5]\n",
            "Número de Sisemas: 2\n",
            "Fator:  [0.4828472337947568, 0.28086665617199813, 0.28086665617199813, 0.28086665617199813, 0.28086665617199813, 0.28086665617199813]\n",
            "Media de falhas:  [0, 1.0618613559474048, 1.8368052811482989, 2.2755462533616235, 2.6334772058621208, 3.47153293721813, 4.926128501833379]\n",
            "Custo =  731.2854852382637\n",
            "\n",
            "=========================================================================\n",
            "\n",
            "Número de ciclos de manutenção: 2 2\n",
            "Tempos para manutenções preventivas: [0, 246, 390]\n",
            "Severidade para cada subsistema: [0.5, 0.5]\n",
            "Número de Sisemas: 2\n",
            "Fator:  [0.4828472337947568, 0.28086665617199813, 0.28086665617199813]\n",
            "Media de falhas:  [0, 1.6556051413498427, 2.6270979997346826, 4.926838828845757]\n",
            "Custo =  331.5091831139245\n",
            "\n",
            "=========================================================================\n",
            "\n",
            "Número de ciclos de manutenção: 2 2\n",
            "Tempos para manutenções preventivas: [0, 62, 158]\n",
            "Severidade para cada subsistema: [0.5, 0.5]\n",
            "Número de Sisemas: 2\n",
            "Fator:  [0.4828472337947568, 0.28086665617199813, 0.28086665617199813]\n",
            "Media de falhas:  [0, 0.4154431284962564, 1.0611396510219082, 4.927684769600576]\n",
            "Custo =  359.3838312529507\n",
            "\n",
            "=========================================================================\n",
            "\n",
            "Número de ciclos de manutenção: 4 2\n",
            "Tempos para manutenções preventivas: [0, 67, 126, 300, 480]\n",
            "Severidade para cada subsistema: [0.5, 0.5, 0.5, 0.5]\n",
            "Número de Sisemas: 2\n",
            "Fator:  [0.4828472337947568, 0.28086665617199813, 0.28086665617199813, 0.28086665617199813, 0.28086665617199813]\n",
            "Media de falhas:  [0, 0.4490572532238496, 0.8456499657822767, 2.0190325774764384, 3.2350826669038635, 4.926367307152215]\n",
            "Custo =  599.6865363080051\n"
          ]
        },
        {
          "output_type": "stream",
          "name": "stderr",
          "text": [
            "pyswarms.single.global_best:  27%|██▋       |27/100, best_cost=217"
          ]
        },
        {
          "output_type": "stream",
          "name": "stdout",
          "text": [
            "\n",
            "=========================================================================\n",
            "\n",
            "Número de ciclos de manutenção: 4 2\n",
            "Tempos para manutenções preventivas: [0, 67, 303, 335, 480]\n",
            "Severidade para cada subsistema: [0.5, 0.5, 0.5, 0.5]\n",
            "Número de Sisemas: 2\n",
            "Fator:  [0.4828472337947568, 0.28086665617199813, 0.28086665617199813, 0.28086665617199813, 0.28086665617199813]\n",
            "Media de falhas:  [0, 0.4490572532238496, 2.0393618683951376, 2.2553742561149677, 3.2350651767571446, 4.926349817005496]\n",
            "Custo =  628.3125368781514\n",
            "\n",
            "=========================================================================\n",
            "\n",
            "Número de ciclos de manutenção: 3 2\n",
            "Tempos para manutenções preventivas: [0, 67, 303, 333]\n",
            "Severidade para cada subsistema: [0.5, 0.5, 0.5]\n",
            "Número de Sisemas: 2\n",
            "Fator:  [0.4828472337947568, 0.28086665617199813, 0.28086665617199813, 0.28086665617199813]\n",
            "Media de falhas:  [0, 0.4490572532238496, 2.0393618683951376, 2.241870781969792, 4.926816552451269]\n",
            "Custo =  514.344432228608\n",
            "\n",
            "=========================================================================\n",
            "\n",
            "Número de ciclos de manutenção: 5 2\n",
            "Tempos para manutenções preventivas: [0, 65, 151, 270, 303, 450]\n",
            "Severidade para cada subsistema: [0.5, 0.5, 0.5, 0.5, 0.5]\n",
            "Número de Sisemas: 2\n",
            "Fator:  [0.4828472337947568, 0.28086665617199813, 0.28086665617199813, 0.28086665617199813, 0.28086665617199813, 0.28086665617199813]\n",
            "Media de falhas:  [0, 0.4356106121174637, 1.0139833733236454, 1.8163834116297657, 2.0390719861894135, 3.0320406079331685, 4.926173096427898]\n",
            "Custo =  758.7502765669011\n",
            "\n",
            "=========================================================================\n",
            "\n",
            "Número de ciclos de manutenção: 5 2\n",
            "Tempos para manutenções preventivas: [0, 121, 241, 272, 303, 450]\n",
            "Severidade para cada subsistema: [0.5, 0.5, 0.5, 0.5, 0.5]\n",
            "Número de Sisemas: 2\n",
            "Fator:  [0.4828472337947568, 0.28086665617199813, 0.28086665617199813, 0.28086665617199813, 0.28086665617199813, 0.28086665617199813]\n",
            "Media de falhas:  [0, 0.8125085445645923, 1.6207850906780776, 1.8299045342442646, 2.039098295288852, 3.032066917032607, 4.926199405527337]\n",
            "Custo =  789.9392448701694\n",
            "\n",
            "=========================================================================\n",
            "\n",
            "Número de ciclos de manutenção: 5 2\n",
            "Tempos para manutenções preventivas: [0, 157, 274, 300, 391, 425]\n",
            "Severidade para cada subsistema: [0.5, 0.5, 0.5, 0.5, 0.5]\n",
            "Número de Sisemas: 2\n",
            "Fator:  [0.4828472337947568, 0.28086665617199813, 0.28086665617199813, 0.28086665617199813, 0.28086665617199813, 0.28086665617199813]\n",
            "Media de falhas:  [0, 1.055119428704597, 1.8435470944551438, 2.0189972603998236, 2.6334898987635835, 2.8631803753874023, 4.926331155195429]\n",
            "Custo =  801.3146451736212\n",
            "\n",
            "=========================================================================\n",
            "\n",
            "Número de ciclos de manutenção: 5 2\n",
            "Tempos para manutenções preventivas: [0, 128, 275, 392, 428, 541]\n",
            "Severidade para cada subsistema: [0.5, 0.5, 0.5, 0.5, 0.5]\n",
            "Número de Sisemas: 2\n",
            "Fator:  [0.4828472337947568, 0.28086665617199813, 0.28086665617199813, 0.28086665617199813, 0.28086665617199813, 0.28086665617199813]\n",
            "Media de falhas:  [0, 0.8596667729859416, 1.850193758874075, 2.6401981117876834, 2.8834041899895184, 3.647264642617337, 4.926012394336198]\n",
            "Custo =  737.481319929971\n",
            "\n",
            "=========================================================================\n",
            "\n",
            "Número de ciclos de manutenção: 5 2\n",
            "Tempos para manutenções preventivas: [0, 273, 391, 421, 510, 543]\n",
            "Severidade para cada subsistema: [0.5, 0.5, 0.5, 0.5, 0.5]\n",
            "Número de Sisemas: 2\n",
            "Fator:  [0.4828472337947568, 0.28086665617199813, 0.28086665617199813, 0.28086665617199813, 0.28086665617199813, 0.28086665617199813]\n",
            "Media de falhas:  [0, 1.8379259473585552, 2.6340422587959273, 2.8367060662276993, 3.4382415904655828, 3.661354498312681, 4.92657476540612]\n",
            "Custo =  792.5186628843893\n",
            "\n",
            "=========================================================================\n",
            "\n",
            "Número de ciclos de manutenção: 5 2\n",
            "Tempos para manutenções preventivas: [0, 155, 243, 270, 334, 541]\n",
            "Severidade para cada subsistema: [0.5, 0.5, 0.5, 0.5, 0.5]\n",
            "Número de Sisemas: 2\n",
            "Fator:  [0.4828472337947568, 0.28086665617199813, 0.28086665617199813, 0.28086665617199813, 0.28086665617199813, 0.28086665617199813]\n",
            "Media de falhas:  [0, 1.0416359844139191, 1.6344364863040064, 1.8165712056206236, 2.248546319017638, 3.6475207720912035, 4.926268523810065]\n",
            "Custo =  768.3404409451974\n",
            "\n",
            "=========================================================================\n",
            "\n",
            "Número de ciclos de manutenção: 1 2\n",
            "Tempos para manutenções preventivas: [0, 62]\n",
            "Severidade para cada subsistema: [0.5]\n",
            "Número de Sisemas: 2\n",
            "Fator:  [0.4828472337947568, 0.28086665617199813]\n",
            "Media de falhas:  [0, 0.4154431284962564, 4.928226183228483]\n",
            "Custo =  237.09745963959483\n",
            "\n",
            "=========================================================================\n",
            "\n",
            "Número de ciclos de manutenção: 3 2\n",
            "Tempos para manutenções preventivas: [0, 64, 246, 513]\n",
            "Severidade para cada subsistema: [0.5, 0.5, 0.5]\n",
            "Número de Sisemas: 2\n",
            "Fator:  [0.4828472337947568, 0.28086665617199813, 0.28086665617199813, 0.28086665617199813]\n",
            "Media de falhas:  [0, 0.42888778205140465, 1.6545642154602773, 3.458356568108182, 4.926478141908707]\n",
            "Custo =  463.3038070629178\n",
            "\n",
            "=========================================================================\n",
            "\n",
            "Número de ciclos de manutenção: 6 2\n",
            "Tempos para manutenções preventivas: [0, 64, 122, 158, 214, 303, 451]\n",
            "Severidade para cada subsistema: [0.5, 0.5, 0.5, 0.5, 0.5, 0.5]\n",
            "Número de Sisemas: 2\n",
            "Fator:  [0.4828472337947568, 0.28086665617199813, 0.28086665617199813, 0.28086665617199813, 0.28086665617199813, 0.28086665617199813, 0.28086665617199813]\n",
            "Media de falhas:  [0, 0.42888778205140465, 0.8187167552013701, 1.0611152833507442, 1.4385278876138867, 2.0389834646329095, 3.038712065094641, 4.926083404173875]\n",
            "Custo =  907.582742845297\n",
            "\n",
            "=========================================================================\n",
            "\n",
            "Número de ciclos de manutenção: 5 2\n",
            "Tempos para manutenções preventivas: [0, 64, 217, 306, 450, 570]\n",
            "Severidade para cada subsistema: [0.5, 0.5, 0.5, 0.5, 0.5]\n",
            "Número de Sisemas: 2\n",
            "Fator:  [0.4828472337947568, 0.28086665617199813, 0.28086665617199813, 0.28086665617199813, 0.28086665617199813, 0.28086665617199813]\n",
            "Media de falhas:  [0, 0.42888778205140465, 1.4588985491820843, 2.059375112822587, 3.032087551143249, 3.8433998219830516, 4.925989229074049]\n",
            "Custo =  716.7863010840941\n",
            "\n",
            "=========================================================================\n",
            "\n",
            "Número de ciclos de manutenção: 5 2\n",
            "Tempos para manutenções preventivas: [0, 216, 241, 305, 450, 518]\n",
            "Severidade para cada subsistema: [0.5, 0.5, 0.5, 0.5, 0.5]\n",
            "Número de Sisemas: 2\n",
            "Fator:  [0.4828472337947568, 0.28086665617199813, 0.28086665617199813, 0.28086665617199813, 0.28086665617199813, 0.28086665617199813]\n",
            "Media de falhas:  [0, 1.4531014985595907, 1.6215216404974733, 2.053363005067072, 3.032827550495437, 3.492472441710594, 4.9267787894858515]\n",
            "Custo =  780.5229345589354\n",
            "\n",
            "=========================================================================\n",
            "\n",
            "Número de ciclos de manutenção: 4 2\n",
            "Tempos para manutenções preventivas: [0, 152, 244, 301, 450]\n",
            "Severidade para cada subsistema: [0.5, 0.5, 0.5, 0.5]\n",
            "Número de Sisemas: 2\n",
            "Fator:  [0.4828472337947568, 0.28086665617199813, 0.28086665617199813, 0.28086665617199813, 0.28086665617199813]\n",
            "Media de falhas:  [0, 1.0214118567127326, 1.6411611368598569, 2.0257628158490473, 3.0322353289069888, 4.926367817401719]\n",
            "Custo =  596.3988090726\n",
            "\n",
            "=========================================================================\n",
            "\n",
            "Número de ciclos de manutenção: 4 2\n",
            "Tempos para manutenções preventivas: [0, 332, 450, 517, 541]\n",
            "Severidade para cada subsistema: [0.5, 0.5, 0.5, 0.5]\n",
            "Número de Sisemas: 2\n",
            "Fator:  [0.4828472337947568, 0.28086665617199813, 0.28086665617199813, 0.28086665617199813, 0.28086665617199813]\n",
            "Media de falhas:  [0, 2.2365233698506333, 3.0330080697579684, 3.4858915214755486, 3.648156247298461, 4.9269039990173225]\n",
            "Custo =  653.330324789732\n",
            "\n",
            "=========================================================================\n",
            "\n",
            "Número de ciclos de manutenção: 1 2\n",
            "Tempos para manutenções preventivas: [0, 542]\n",
            "Severidade para cada subsistema: [0.5]\n",
            "Número de Sisemas: 2\n",
            "Fator:  [0.4828472337947568, 0.28086665617199813]\n",
            "Media de falhas:  [0, 3.656882222808381, 4.927812257217746]\n",
            "Custo =  216.93755444833724\n"
          ]
        },
        {
          "output_type": "stream",
          "name": "stderr",
          "text": [
            "pyswarms.single.global_best:  44%|████▍     |44/100, best_cost=216"
          ]
        },
        {
          "output_type": "stream",
          "name": "stdout",
          "text": [
            "\n",
            "=========================================================================\n",
            "\n",
            "Número de ciclos de manutenção: 1 2\n",
            "Tempos para manutenções preventivas: [0, 543]\n",
            "Severidade para cada subsistema: [0.5]\n",
            "Número de Sisemas: 2\n",
            "Fator:  [0.4828472337947568, 0.28086665617199813]\n",
            "Media de falhas:  [0, 3.6636506952865306, 4.92782111570992]\n",
            "Custo =  216.98829314884847\n",
            "\n",
            "=========================================================================\n",
            "\n",
            "Número de ciclos de manutenção: 3 2\n",
            "Tempos para manutenções preventivas: [0, 93, 517, 543]\n",
            "Severidade para cada subsistema: [0.5, 0.5, 0.5]\n",
            "Número de Sisemas: 2\n",
            "Fator:  [0.4828472337947568, 0.28086665617199813, 0.28086665617199813, 0.28086665617199813]\n",
            "Media de falhas:  [0, 0.6239680304490293, 3.4857929531578726, 3.661581177672518, 4.926801444765957]\n",
            "Custo =  518.6289727966137\n",
            "\n",
            "=========================================================================\n",
            "\n",
            "Número de ciclos de manutenção: 2 2\n",
            "Tempos para manutenções preventivas: [0, 92, 542]\n",
            "Severidade para cada subsistema: [0.5, 0.5]\n",
            "Número de Sisemas: 2\n",
            "Fator:  [0.4828472337947568, 0.28086665617199813, 0.28086665617199813]\n",
            "Media de falhas:  [0, 0.6172374944235904, 3.6549541607678284, 4.926938182957578]\n",
            "Custo =  340.20372984373006\n",
            "\n",
            "=========================================================================\n",
            "\n",
            "Número de ciclos de manutenção: 1 2\n",
            "Tempos para manutenções preventivas: [0, 154]\n",
            "Severidade para cada subsistema: [0.5]\n",
            "Número de Sisemas: 2\n",
            "Fator:  [0.4828472337947568, 0.28086665617199813]\n",
            "Media de falhas:  [0, 1.034894469120973, 4.927115630394232]\n",
            "Custo =  218.62057061402453\n",
            "\n",
            "=========================================================================\n",
            "\n",
            "Número de ciclos de manutenção: 0 2\n",
            "Tempos para manutenções preventivas: [0]\n",
            "Severidade para cada subsistema: []\n",
            "Número de Sisemas: 2\n",
            "\n",
            "=========================================================================\n",
            "\n",
            "Número de ciclos de manutenção: 1 2\n",
            "Tempos para manutenções preventivas: [0, 517]\n",
            "Severidade para cada subsistema: [0.5]\n",
            "Número de Sisemas: 2\n",
            "Fator:  [0.4828472337947568, 0.28086665617199813]\n",
            "Media de falhas:  [0, 3.487683500509777, 4.927600579165598]\n",
            "Custo =  215.85079802312578\n",
            "\n",
            "=========================================================================\n",
            "\n",
            "Número de ciclos de manutenção: 1 2\n",
            "Tempos para manutenções preventivas: [0, 120]\n",
            "Severidade para cada subsistema: [0.5]\n",
            "Número de Sisemas: 2\n",
            "Fator:  [0.4828472337947568, 0.28086665617199813]\n",
            "Media de falhas:  [0, 0.8057723510151403, 4.9274246321674395]\n",
            "Custo =  222.0190043423862\n",
            "\n",
            "=========================================================================\n",
            "\n",
            "Número de ciclos de manutenção: 3 2\n",
            "Tempos para manutenções preventivas: [0, 124, 420, 515]\n",
            "Severidade para cada subsistema: [0.5, 0.5, 0.5]\n",
            "Número de Sisemas: 2\n",
            "Fator:  [0.4828472337947568, 0.28086665617199813, 0.28086665617199813, 0.28086665617199813]\n",
            "Media de falhas:  [0, 0.8327181807915316, 2.8296049015733136, 3.471706038299859, 4.926301602915108]\n",
            "Custo =  458.03416949178\n",
            "\n",
            "=========================================================================\n",
            "\n",
            "Número de ciclos de manutenção: 3 2\n",
            "Tempos para manutenções preventivas: [0, 31, 302, 450]\n",
            "Severidade para cada subsistema: [0.5, 0.5, 0.5]\n",
            "Número de Sisemas: 2\n",
            "Fator:  [0.4828472337947568, 0.28086665617199813, 0.28086665617199813, 0.28086665617199813]\n",
            "Media de falhas:  [0, 0.2072645908255546, 2.0330014518335897, 3.0327220424452235, 4.926854530939953]\n",
            "Custo =  496.69185358749485\n",
            "\n",
            "=========================================================================\n",
            "\n",
            "Número de ciclos de manutenção: 2 2\n",
            "Tempos para manutenções preventivas: [0, 302, 450]\n",
            "Severidade para cada subsistema: [0.5, 0.5]\n",
            "Número de Sisemas: 2\n",
            "Fator:  [0.4828472337947568, 0.28086665617199813, 0.28086665617199813]\n",
            "Media de falhas:  [0, 2.0338157803014214, 3.0327684145957567, 4.926900903090486]\n",
            "Custo =  331.0128100277993\n",
            "\n",
            "=========================================================================\n",
            "\n",
            "Número de ciclos de manutenção: 2 2\n",
            "Tempos para manutenções preventivas: [0, 154, 303]\n",
            "Severidade para cada subsistema: [0.5, 0.5]\n",
            "Número de Sisemas: 2\n",
            "Fator:  [0.4828472337947568, 0.28086665617199813, 0.28086665617199813]\n",
            "Media de falhas:  [0, 1.034894469120973, 2.0392392023744015, 4.926868883618871]\n",
            "Custo =  334.4425938283747\n",
            "\n",
            "=========================================================================\n",
            "\n",
            "Número de ciclos de manutenção: 2 2\n",
            "Tempos para manutenções preventivas: [0, 123, 301]\n",
            "Severidade para cada subsistema: [0.5, 0.5]\n",
            "Número de Sisemas: 2\n",
            "Fator:  [0.4828472337947568, 0.28086665617199813, 0.28086665617199813]\n",
            "Media de falhas:  [0, 0.8259814608864131, 2.0256824497613293, 4.926822895368382]\n",
            "Custo =  335.4244438273982\n",
            "\n",
            "=========================================================================\n",
            "\n",
            "Número de ciclos de manutenção: 3 2\n",
            "Tempos para manutenções preventivas: [0, 60, 300, 518]\n",
            "Severidade para cada subsistema: [0.5, 0.5, 0.5]\n",
            "Número de Sisemas: 2\n",
            "Fator:  [0.4828472337947568, 0.28086665617199813, 0.28086665617199813, 0.28086665617199813]\n",
            "Media de falhas:  [0, 0.4019998531115509, 2.019155278650527, 3.492187679229189, 4.926494027004447]\n",
            "Custo =  464.686498339365\n",
            "\n",
            "=========================================================================\n",
            "\n",
            "Número de ciclos de manutenção: 1 2\n",
            "Tempos para manutenções preventivas: [0, 155]\n",
            "Severidade para cada subsistema: [0.5]\n",
            "Número de Sisemas: 2\n",
            "Fator:  [0.4828472337947568, 0.28086665617199813]\n",
            "Media de falhas:  [0, 1.0416359844139191, 4.927107947423025]\n",
            "Custo =  218.5451072041091\n",
            "\n",
            "=========================================================================\n",
            "\n",
            "Número de ciclos de manutenção: 1 2\n",
            "Tempos para manutenções preventivas: [0, 511]\n",
            "Severidade para cada subsistema: [0.5]\n",
            "Número de Sisemas: 2\n",
            "Fator:  [0.4828472337947568, 0.28086665617199813]\n",
            "Media de falhas:  [0, 3.4470796290492896, 4.927552602517391]\n",
            "Custo =  215.63486335379562\n",
            "\n",
            "=========================================================================\n",
            "\n",
            "Número de ciclos de manutenção: 0 2\n",
            "Tempos para manutenções preventivas: [0]\n",
            "Severidade para cada subsistema: []\n",
            "Número de Sisemas: 2\n"
          ]
        },
        {
          "output_type": "stream",
          "name": "stderr",
          "text": [
            "pyswarms.single.global_best:  60%|██████    |60/100, best_cost=214"
          ]
        },
        {
          "output_type": "stream",
          "name": "stdout",
          "text": [
            "\n",
            "=========================================================================\n",
            "\n",
            "Número de ciclos de manutenção: 4 2\n",
            "Tempos para manutenções preventivas: [0, 125, 150, 423, 691]\n",
            "Severidade para cada subsistema: [0.5, 0.5, 0.5, 0.5]\n",
            "Número de Sisemas: 2\n",
            "Fator:  [0.4828472337947568, 0.28086665617199813, 0.28086665617199813, 0.28086665617199813, 0.28086665617199813]\n",
            "Media de falhas:  [0, 0.8394550733198309, 1.007619102367586, 2.850398758127022, 4.663027026201163, 4.926955937490283]\n",
            "Custo =  667.9195952718142\n",
            "\n",
            "=========================================================================\n",
            "\n",
            "Número de ciclos de manutenção: 5 2\n",
            "Tempos para manutenções preventivas: [0, 32, 300, 424, 518, 695]\n",
            "Severidade para cada subsistema: [0.5, 0.5, 0.5, 0.5, 0.5]\n",
            "Número de Sisemas: 2\n",
            "Fator:  [0.4828472337947568, 0.28086665617199813, 0.28086665617199813, 0.28086665617199813, 0.28086665617199813, 0.28086665617199813]\n",
            "Media de falhas:  [0, 0.21397212893789638, 2.0194765330451716, 2.8569612876586414, 3.4923173577062387, 4.689694023188855, 4.9265546140485545]\n",
            "Custo =  782.8439203170084\n",
            "\n",
            "=========================================================================\n",
            "\n",
            "Número de ciclos de manutenção: 5 2\n",
            "Tempos para manutenções preventivas: [0, 33, 302, 422, 510, 698]\n",
            "Severidade para cada subsistema: [0.5, 0.5, 0.5, 0.5, 0.5]\n",
            "Número de Sisemas: 2\n",
            "Fator:  [0.4828472337947568, 0.28086665617199813, 0.28086665617199813, 0.28086665617199813, 0.28086665617199813, 0.28086665617199813]\n",
            "Media de falhas:  [0, 0.2206803331930953, 2.032970692926458, 2.8434359071994946, 3.4382139202589115, 4.709998327324882, 4.92655747746122]\n",
            "Custo =  787.6145971384444\n",
            "\n",
            "=========================================================================\n",
            "\n",
            "Número de ciclos de manutenção: 2 2\n",
            "Tempos para manutenções preventivas: [0, 302, 693]\n",
            "Severidade para cada subsistema: [0.5, 0.5]\n",
            "Número de Sisemas: 2\n",
            "Fator:  [0.4828472337947568, 0.28086665617199813, 0.28086665617199813]\n",
            "Media de falhas:  [0, 2.0338157803014214, 4.676167971996, 4.926562761354207]\n",
            "Custo =  369.68941120833017\n",
            "\n",
            "=========================================================================\n",
            "\n",
            "Número de ciclos de manutenção: 1 2\n",
            "Tempos para manutenções preventivas: [0, 302]\n",
            "Severidade para cada subsistema: [0.5]\n",
            "Número de Sisemas: 2\n",
            "Fator:  [0.4828472337947568, 0.28086665617199813]\n",
            "Media de falhas:  [0, 2.0338157803014214, 4.9266346075928364]\n",
            "Custo =  213.69659123882246\n",
            "\n",
            "=========================================================================\n",
            "\n",
            "Número de ciclos de manutenção: 2 2\n",
            "Tempos para manutenções preventivas: [0, 120, 302]\n",
            "Severidade para cada subsistema: [0.5, 0.5]\n",
            "Número de Sisemas: 2\n",
            "Fator:  [0.4828472337947568, 0.28086665617199813, 0.28086665617199813]\n",
            "Media de falhas:  [0, 0.8057723510151403, 2.032433277002788, 4.926818364643775]\n",
            "Custo =  335.58727640189073\n",
            "\n",
            "=========================================================================\n",
            "\n",
            "Número de ciclos de manutenção: 2 2\n",
            "Tempos para manutenções preventivas: [0, 303, 518]\n",
            "Severidade para cada subsistema: [0.5, 0.5]\n",
            "Número de Sisemas: 2\n",
            "Fator:  [0.4828472337947568, 0.28086665617199813, 0.28086665617199813]\n",
            "Media de falhas:  [0, 2.040571702821598, 3.49233663573781, 4.926642983513068]\n",
            "Custo =  329.12521429470837\n",
            "\n",
            "=========================================================================\n",
            "\n",
            "Número de ciclos de manutenção: 2 2\n",
            "Tempos para manutenções preventivas: [0, 304, 570]\n",
            "Severidade para cada subsistema: [0.5, 0.5]\n",
            "Número de Sisemas: 2\n",
            "Fator:  [0.4828472337947568, 0.28086665617199813, 0.28086665617199813]\n",
            "Media de falhas:  [0, 2.0473276961864384, 3.843953213388291, 4.926542620479288]\n",
            "Custo =  330.4234289842351\n",
            "\n",
            "=========================================================================\n",
            "\n",
            "Número de ciclos de manutenção: 2 2\n",
            "Tempos para manutenções preventivas: [0, 128, 304]\n",
            "Severidade para cada subsistema: [0.5, 0.5]\n",
            "Número de Sisemas: 2\n",
            "Fator:  [0.4828472337947568, 0.28086665617199813, 0.28086665617199813]\n",
            "Media de falhas:  [0, 0.8596667729859416, 2.0459383355911456, 4.9268125621777745]\n",
            "Custo =  334.96759532895436\n",
            "\n",
            "=========================================================================\n",
            "\n",
            "Número de ciclos de manutenção: 4 2\n",
            "Tempos para manutenções preventivas: [0, 122, 150, 304, 692]\n",
            "Severidade para cada subsistema: [0.5, 0.5, 0.5, 0.5]\n",
            "Número de Sisemas: 2\n",
            "Fator:  [0.4828472337947568, 0.28086665617199813, 0.28086665617199813, 0.28086665617199813, 0.28086665617199813]\n",
            "Media de falhas:  [0, 0.8192449150034692, 1.0075875476754705, 2.0462725362394174, 4.669828413858661, 4.926990273770159]\n",
            "Custo =  664.327923454493\n",
            "\n",
            "=========================================================================\n",
            "\n",
            "Número de ciclos de manutenção: 3 2\n",
            "Tempos para manutenções preventivas: [0, 30, 304, 695]\n",
            "Severidade para cada subsistema: [0.5, 0.5, 0.5]\n",
            "Número de Sisemas: 2\n",
            "Fator:  [0.4828472337947568, 0.28086665617199813, 0.28086665617199813, 0.28086665617199813]\n",
            "Media de falhas:  [0, 0.2005577402824932, 2.046527164302833, 4.690395827084471, 4.927256417944171]\n",
            "Custo =  540.4983421796534\n",
            "\n",
            "=========================================================================\n",
            "\n",
            "Número de ciclos de manutenção: 3 2\n",
            "Tempos para manutenções preventivas: [0, 303, 511, 694]\n",
            "Severidade para cada subsistema: [0.5, 0.5, 0.5]\n",
            "Número de Sisemas: 2\n",
            "Fator:  [0.4828472337947568, 0.28086665617199813, 0.28086665617199813, 0.28086665617199813]\n",
            "Media de falhas:  [0, 2.040571702821598, 3.4450156392265914, 4.682962018518641, 4.926589718181679]\n",
            "Custo =  487.9835339822893\n",
            "\n",
            "=========================================================================\n",
            "\n",
            "Número de ciclos de manutenção: 2 2\n",
            "Tempos para manutenções preventivas: [0, 303, 692]\n",
            "Severidade para cada subsistema: [0.5, 0.5]\n",
            "Número de Sisemas: 2\n",
            "Fator:  [0.4828472337947568, 0.28086665617199813, 0.28086665617199813]\n",
            "Media de falhas:  [0, 2.040571702821598, 4.669400521699007, 4.9265623816105055]\n",
            "Custo =  368.2720093316104\n",
            "\n",
            "=========================================================================\n",
            "\n",
            "Número de ciclos de manutenção: 3 2\n",
            "Tempos para manutenções preventivas: [0, 303, 510, 691]\n",
            "Severidade para cada subsistema: [0.5, 0.5, 0.5]\n",
            "Número de Sisemas: 2\n",
            "Fator:  [0.4828472337947568, 0.28086665617199813, 0.28086665617199813, 0.28086665617199813]\n",
            "Media de falhas:  [0, 2.040571702821598, 3.4382557311691575, 4.662658420942649, 4.92658733223177]\n",
            "Custo =  483.8750792087303\n",
            "\n",
            "=========================================================================\n",
            "\n",
            "Número de ciclos de manutenção: 2 2\n",
            "Tempos para manutenções preventivas: [0, 303, 690]\n",
            "Severidade para cada subsistema: [0.5, 0.5]\n",
            "Número de Sisemas: 2\n",
            "Fator:  [0.4828472337947568, 0.28086665617199813, 0.28086665617199813]\n",
            "Media de falhas:  [0, 2.040571702821598, 4.655863402902698, 4.926559346359885]\n",
            "Custo =  365.66589400054517\n",
            "\n",
            "=========================================================================\n",
            "\n",
            "Número de ciclos de manutenção: 2 2\n",
            "Tempos para manutenções preventivas: [0, 302, 510]\n",
            "Severidade para cada subsistema: [0.5, 0.5]\n",
            "Número de Sisemas: 2\n",
            "Fator:  [0.4828472337947568, 0.28086665617199813, 0.28086665617199813]\n",
            "Media de falhas:  [0, 2.0338157803014214, 3.438250335628868, 4.926660718951889]\n"
          ]
        },
        {
          "output_type": "stream",
          "name": "stderr",
          "text": [
            "pyswarms.single.global_best:  77%|███████▋  |77/100, best_cost=214"
          ]
        },
        {
          "output_type": "stream",
          "name": "stdout",
          "text": [
            "Custo =  329.1100146040175\n",
            "\n",
            "=========================================================================\n",
            "\n",
            "Número de ciclos de manutenção: 1 2\n",
            "Tempos para manutenções preventivas: [0, 302]\n",
            "Severidade para cada subsistema: [0.5]\n",
            "Número de Sisemas: 2\n",
            "Fator:  [0.4828472337947568, 0.28086665617199813]\n",
            "Media de falhas:  [0, 2.0338157803014214, 4.9266346075928364]\n",
            "Custo =  213.69659123882246\n",
            "\n",
            "=========================================================================\n",
            "\n",
            "Número de ciclos de manutenção: 3 2\n",
            "Tempos para manutenções preventivas: [0, 121, 302, 510]\n",
            "Severidade para cada subsistema: [0.5, 0.5, 0.5]\n",
            "Número de Sisemas: 2\n",
            "Fator:  [0.4828472337947568, 0.28086665617199813, 0.28086665617199813, 0.28086665617199813]\n",
            "Media de falhas:  [0, 0.8125085445645923, 2.0324332766714384, 3.437852340069234, 4.926262723392256]\n",
            "Custo =  450.94273996582024\n",
            "\n",
            "=========================================================================\n",
            "\n",
            "Número de ciclos de manutenção: 3 2\n",
            "Tempos para manutenções preventivas: [0, 123, 154, 303]\n",
            "Severidade para cada subsistema: [0.5, 0.5, 0.5]\n",
            "Número de Sisemas: 2\n",
            "Fator:  [0.4828472337947568, 0.28086665617199813, 0.28086665617199813, 0.28086665617199813]\n",
            "Media de falhas:  [0, 0.8259814608864131, 1.0345201661561105, 2.039495053320056, 4.927124734564526]\n",
            "Custo =  503.12917303848155\n",
            "\n",
            "=========================================================================\n",
            "\n",
            "Número de ciclos de manutenção: 2 2\n",
            "Tempos para manutenções preventivas: [0, 304, 691]\n",
            "Severidade para cada subsistema: [0.5, 0.5]\n",
            "Número de Sisemas: 2\n",
            "Fator:  [0.4828472337947568, 0.28086665617199813, 0.28086665617199813]\n",
            "Media de falhas:  [0, 2.0473276961864384, 4.662633192342591, 4.926562103631712]\n",
            "Custo =  366.9279658103695\n",
            "\n",
            "=========================================================================\n",
            "\n",
            "Número de ciclos de manutenção: 4 2\n",
            "Tempos para manutenções preventivas: [0, 30, 304, 510, 693]\n",
            "Severidade para cada subsistema: [0.5, 0.5, 0.5, 0.5]\n",
            "Número de Sisemas: 2\n",
            "Fator:  [0.4828472337947568, 0.28086665617199813, 0.28086665617199813, 0.28086665617199813, 0.28086665617199813]\n",
            "Media de falhas:  [0, 0.2005577402824932, 2.046527164302833, 3.4384404065618512, 4.676380534599824, 4.926775323958031]\n",
            "Custo =  654.3280902198499\n",
            "\n",
            "=========================================================================\n",
            "\n",
            "Número de ciclos de manutenção: 4 2\n",
            "Tempos para manutenções preventivas: [0, 151, 303, 518, 695]\n",
            "Severidade para cada subsistema: [0.5, 0.5, 0.5, 0.5]\n",
            "Número de Sisemas: 2\n",
            "Fator:  [0.4828472337947568, 0.28086665617199813, 0.28086665617199813, 0.28086665617199813, 0.28086665617199813]\n",
            "Media de falhas:  [0, 1.0146707614217494, 2.039229984547704, 3.4920035277462858, 4.689380193228901, 4.926240784088601]\n",
            "Custo =  610.3910467023275\n",
            "\n",
            "=========================================================================\n",
            "\n",
            "Número de ciclos de manutenção: 2 2\n",
            "Tempos para manutenções preventivas: [0, 303, 694]\n",
            "Severidade para cada subsistema: [0.5, 0.5]\n",
            "Número de Sisemas: 2\n",
            "Fator:  [0.4828472337947568, 0.28086665617199813, 0.28086665617199813]\n",
            "Media de falhas:  [0, 2.040571702821598, 4.6829377981366065, 4.926565497799645]\n",
            "Custo =  371.17079109020654\n",
            "\n",
            "=========================================================================\n",
            "\n",
            "Número de ciclos de manutenção: 2 2\n",
            "Tempos para manutenções preventivas: [0, 303, 691]\n",
            "Severidade para cada subsistema: [0.5, 0.5]\n",
            "Número de Sisemas: 2\n",
            "Fator:  [0.4828472337947568, 0.28086665617199813, 0.28086665617199813]\n",
            "Media de falhas:  [0, 2.040571702821598, 4.662631942559662, 4.926560853848782]\n",
            "Custo =  366.93517961697876\n",
            "\n",
            "=========================================================================\n",
            "\n",
            "Número de ciclos de manutenção: 1 2\n",
            "Tempos para manutenções preventivas: [0, 303]\n",
            "Severidade para cada subsistema: [0.5]\n",
            "Número de Sisemas: 2\n",
            "Fator:  [0.4828472337947568, 0.28086665617199813]\n",
            "Media de falhas:  [0, 2.040571702821598, 4.926635096031422]\n",
            "Custo =  213.68686189402604\n",
            "\n",
            "=========================================================================\n",
            "\n",
            "Número de ciclos de manutenção: 2 2\n",
            "Tempos para manutenções preventivas: [0, 303, 518]\n",
            "Severidade para cada subsistema: [0.5, 0.5]\n",
            "Número de Sisemas: 2\n",
            "Fator:  [0.4828472337947568, 0.28086665617199813, 0.28086665617199813]\n",
            "Media de falhas:  [0, 2.040571702821598, 3.49233663573781, 4.926642983513068]\n",
            "Custo =  329.12521429470837\n",
            "\n",
            "=========================================================================\n",
            "\n",
            "Número de ciclos de manutenção: 2 2\n",
            "Tempos para manutenções preventivas: [0, 151, 303]\n",
            "Severidade para cada subsistema: [0.5, 0.5]\n",
            "Número de Sisemas: 2\n",
            "Fator:  [0.4828472337947568, 0.28086665617199813, 0.28086665617199813]\n",
            "Media de falhas:  [0, 1.0146707614217494, 2.039229984547704, 4.926859665792174]\n",
            "Custo =  334.4286771977224\n",
            "\n",
            "=========================================================================\n",
            "\n",
            "Número de ciclos de manutenção: 2 2\n",
            "Tempos para manutenções preventivas: [0, 150, 304]\n",
            "Severidade para cada subsistema: [0.5, 0.5]\n",
            "Número de Sisemas: 2\n",
            "Fator:  [0.4828472337947568, 0.28086665617199813, 0.28086665617199813]\n",
            "Media de falhas:  [0, 1.0079298079758092, 2.0459772353724404, 4.926851461959069]\n",
            "Custo =  334.3559117847095\n",
            "\n",
            "=========================================================================\n",
            "\n",
            "Número de ciclos de manutenção: 2 2\n",
            "Tempos para manutenções preventivas: [0, 304, 692]\n",
            "Severidade para cada subsistema: [0.5, 0.5]\n",
            "Número de Sisemas: 2\n",
            "Fator:  [0.4828472337947568, 0.28086665617199813, 0.28086665617199813]\n",
            "Media de falhas:  [0, 2.0473276961864384, 4.669401752426999, 4.926563612338497]\n",
            "Custo =  368.26472705627197\n",
            "\n",
            "=========================================================================\n",
            "\n",
            "Número de ciclos de manutenção: 2 2\n",
            "Tempos para manutenções preventivas: [0, 304, 694]\n",
            "Severidade para cada subsistema: [0.5, 0.5]\n",
            "Número de Sisemas: 2\n",
            "Fator:  [0.4828472337947568, 0.28086665617199813, 0.28086665617199813]\n",
            "Media de falhas:  [0, 2.0473276961864384, 4.682938990858972, 4.9265666905220105]\n",
            "Custo =  371.16337345157046\n",
            "\n",
            "=========================================================================\n",
            "\n",
            "Número de ciclos de manutenção: 2 2\n",
            "Tempos para manutenções preventivas: [0, 304, 695]\n",
            "Severidade para cada subsistema: [0.5, 0.5]\n",
            "Número de Sisemas: 2\n",
            "Fator:  [0.4828472337947568, 0.28086665617199813, 0.28086665617199813]\n",
            "Media de falhas:  [0, 2.0473276961864384, 4.6897076690628285, 4.9265682599225284]\n",
            "Custo =  372.73811020156376\n",
            "\n",
            "=========================================================================\n",
            "\n",
            "Número de ciclos de manutenção: 3 2\n",
            "Tempos para manutenções preventivas: [0, 155, 304, 693]\n",
            "Severidade para cada subsistema: [0.5, 0.5, 0.5]\n",
            "Número de Sisemas: 2\n",
            "Fator:  [0.4828472337947568, 0.28086665617199813, 0.28086665617199813, 0.28086665617199813]\n",
            "Media de falhas:  [0, 1.0416359844139191, 2.045992371831539, 4.676319142451343, 4.92671393180955]\n",
            "Custo =  490.3725558699416\n"
          ]
        },
        {
          "output_type": "stream",
          "name": "stderr",
          "text": [
            "pyswarms.single.global_best:  93%|█████████▎|93/100, best_cost=214"
          ]
        },
        {
          "output_type": "stream",
          "name": "stdout",
          "text": [
            "\n",
            "=========================================================================\n",
            "\n",
            "Número de ciclos de manutenção: 2 2\n",
            "Tempos para manutenções preventivas: [0, 304, 691]\n",
            "Severidade para cada subsistema: [0.5, 0.5]\n",
            "Número de Sisemas: 2\n",
            "Fator:  [0.4828472337947568, 0.28086665617199813, 0.28086665617199813]\n",
            "Media de falhas:  [0, 2.0473276961864384, 4.662633192342591, 4.926562103631712]\n",
            "Custo =  366.9279658103695\n",
            "\n",
            "=========================================================================\n",
            "\n",
            "Número de ciclos de manutenção: 1 2\n",
            "Tempos para manutenções preventivas: [0, 303]\n",
            "Severidade para cada subsistema: [0.5]\n",
            "Número de Sisemas: 2\n",
            "Fator:  [0.4828472337947568, 0.28086665617199813]\n",
            "Media de falhas:  [0, 2.040571702821598, 4.926635096031422]\n",
            "Custo =  213.68686189402604\n",
            "\n",
            "=========================================================================\n",
            "\n",
            "Número de ciclos de manutenção: 1 2\n",
            "Tempos para manutenções preventivas: [0, 303]\n",
            "Severidade para cada subsistema: [0.5]\n",
            "Número de Sisemas: 2\n",
            "Fator:  [0.4828472337947568, 0.28086665617199813]\n",
            "Media de falhas:  [0, 2.040571702821598, 4.926635096031422]\n",
            "Custo =  213.68686189402604\n",
            "\n",
            "=========================================================================\n",
            "\n",
            "Número de ciclos de manutenção: 3 2\n",
            "Tempos para manutenções preventivas: [0, 157, 303, 515]\n",
            "Severidade para cada subsistema: [0.5, 0.5, 0.5]\n",
            "Número de Sisemas: 2\n",
            "Fator:  [0.4828472337947568, 0.28086665617199813, 0.28086665617199813, 0.28086665617199813]\n",
            "Media de falhas:  [0, 1.055119428704597, 2.0392492228455046, 3.471732127952801, 4.92632769256805]\n",
            "Custo =  449.92891965685305\n",
            "\n",
            "=========================================================================\n",
            "\n",
            "Número de ciclos de manutenção: 1 2\n",
            "Tempos para manutenções preventivas: [0, 303]\n",
            "Severidade para cada subsistema: [0.5]\n",
            "Número de Sisemas: 2\n",
            "Fator:  [0.4828472337947568, 0.28086665617199813]\n",
            "Media de falhas:  [0, 2.040571702821598, 4.926635096031422]\n",
            "Custo =  213.68686189402604\n",
            "\n",
            "=========================================================================\n",
            "\n",
            "Número de ciclos de manutenção: 3 2\n",
            "Tempos para manutenções preventivas: [0, 304, 516, 690]\n",
            "Severidade para cada subsistema: [0.5, 0.5, 0.5]\n",
            "Número de Sisemas: 2\n",
            "Fator:  [0.4828472337947568, 0.28086665617199813, 0.28086665617199813, 0.28086665617199813]\n",
            "Media de falhas:  [0, 2.0473276961864384, 3.478821333513081, 4.6558800620560845, 4.9265760055132715]\n",
            "Custo =  482.7931072121387\n",
            "\n",
            "=========================================================================\n",
            "\n",
            "Número de ciclos de manutenção: 2 2\n",
            "Tempos para manutenções preventivas: [0, 304, 692]\n",
            "Severidade para cada subsistema: [0.5, 0.5]\n",
            "Número de Sisemas: 2\n",
            "Fator:  [0.4828472337947568, 0.28086665617199813, 0.28086665617199813]\n",
            "Media de falhas:  [0, 2.0473276961864384, 4.669401752426999, 4.926563612338497]\n",
            "Custo =  368.26472705627197\n",
            "\n",
            "=========================================================================\n",
            "\n",
            "Número de ciclos de manutenção: 5 2\n",
            "Tempos para manutenções preventivas: [0, 30, 154, 304, 517, 694]\n",
            "Severidade para cada subsistema: [0.5, 0.5, 0.5, 0.5, 0.5]\n",
            "Número de Sisemas: 2\n",
            "Fator:  [0.4828472337947568, 0.28086665617199813, 0.28086665617199813, 0.28086665617199813, 0.28086665617199813, 0.28086665617199813]\n",
            "Media de falhas:  [0, 0.2005577402824932, 1.034312718161478, 2.046040299046701, 3.4852972137403366, 4.682667865518344, 4.926295565181382]\n",
            "Custo =  779.0225308476985\n",
            "\n",
            "=========================================================================\n",
            "\n",
            "Número de ciclos de manutenção: 3 2\n",
            "Tempos para manutenções preventivas: [0, 33, 304, 695]\n",
            "Severidade para cada subsistema: [0.5, 0.5, 0.5]\n",
            "Número de Sisemas: 2\n",
            "Fator:  [0.4828472337947568, 0.28086665617199813, 0.28086665617199813, 0.28086665617199813]\n",
            "Media de falhas:  [0, 0.2206803331930953, 2.046480289804665, 4.690348952586303, 4.927209543446003]\n",
            "Custo =  534.5512299617918\n",
            "\n",
            "=========================================================================\n",
            "\n",
            "Número de ciclos de manutenção: 4 2\n",
            "Tempos para manutenções preventivas: [0, 33, 154, 304, 692]\n",
            "Severidade para cada subsistema: [0.5, 0.5, 0.5, 0.5]\n",
            "Número de Sisemas: 2\n",
            "Fator:  [0.4828472337947568, 0.28086665617199813, 0.28086665617199813, 0.28086665617199813, 0.28086665617199813]\n",
            "Media de falhas:  [0, 0.2206803331930953, 1.0342885976870433, 2.046016178572266, 4.66957205619151, 4.926733916103008]\n",
            "Custo =  653.5344565679343\n",
            "\n",
            "=========================================================================\n",
            "\n",
            "Número de ciclos de manutenção: 3 2\n",
            "Tempos para manutenções preventivas: [0, 30, 304, 690]\n",
            "Severidade para cada subsistema: [0.5, 0.5, 0.5]\n",
            "Número de Sisemas: 2\n",
            "Fator:  [0.4828472337947568, 0.28086665617199813, 0.28086665617199813, 0.28086665617199813]\n",
            "Media de falhas:  [0, 0.2005577402824932, 2.046527164302833, 4.656541362372575, 4.927237305829762]\n",
            "Custo =  533.4192753254772\n",
            "\n",
            "=========================================================================\n",
            "\n",
            "Número de ciclos de manutenção: 1 2\n",
            "Tempos para manutenções preventivas: [0, 303]\n",
            "Severidade para cada subsistema: [0.5]\n",
            "Número de Sisemas: 2\n",
            "Fator:  [0.4828472337947568, 0.28086665617199813]\n",
            "Media de falhas:  [0, 2.040571702821598, 4.926635096031422]\n",
            "Custo =  213.68686189402604\n",
            "\n",
            "=========================================================================\n",
            "\n",
            "Número de ciclos de manutenção: 2 2\n",
            "Tempos para manutenções preventivas: [0, 153, 303]\n",
            "Severidade para cada subsistema: [0.5, 0.5]\n",
            "Número de Sisemas: 2\n",
            "Fator:  [0.4828472337947568, 0.28086665617199813, 0.28086665617199813]\n",
            "Media de falhas:  [0, 1.0281530929185096, 2.0392360400612364, 4.926865721305706]\n",
            "Custo =  334.43566883374297\n",
            "\n",
            "=========================================================================\n",
            "\n",
            "Número de ciclos de manutenção: 4 2\n",
            "Tempos para manutenções preventivas: [0, 93, 121, 155, 303]\n",
            "Severidade para cada subsistema: [0.5, 0.5, 0.5, 0.5]\n",
            "Número de Sisemas: 2\n",
            "Fator:  [0.4828472337947568, 0.28086665617199813, 0.28086665617199813, 0.28086665617199813, 0.28086665617199813]\n",
            "Media de falhas:  [0, 0.6239680304490293, 0.8121794249343983, 1.0410997235001842, 2.039335046685099, 4.926964727929569]\n",
            "Custo =  675.0280992339435\n",
            "\n",
            "=========================================================================\n",
            "\n",
            "Número de ciclos de manutenção: 4 2\n",
            "Tempos para manutenções preventivas: [0, 125, 154, 304, 691]\n",
            "Severidade para cada subsistema: [0.5, 0.5, 0.5, 0.5]\n",
            "Número de Sisemas: 2\n",
            "Fator:  [0.4828472337947568, 0.28086665617199813, 0.28086665617199813, 0.28086665617199813, 0.28086665617199813]\n",
            "Media de falhas:  [0, 0.8394550733198309, 1.034540444934763, 2.0462680258199857, 4.663053045903084, 4.926981957192204]\n",
            "Custo =  660.4993497961733\n",
            "\n",
            "=========================================================================\n",
            "\n",
            "Número de ciclos de manutenção: 3 2\n",
            "Tempos para manutenções preventivas: [0, 120, 304, 693]\n",
            "Severidade para cada subsistema: [0.5, 0.5, 0.5]\n",
            "Número de Sisemas: 2\n",
            "Fator:  [0.4828472337947568, 0.28086665617199813, 0.28086665617199813, 0.28086665617199813]\n",
            "Media de falhas:  [0, 0.8057723510151403, 2.04593608422437, 4.676262854844174, 4.926657644202381]\n",
            "Custo =  491.49140557626174\n",
            "\n",
            "=========================================================================\n",
            "\n",
            "Número de ciclos de manutenção: 2 2\n",
            "Tempos para manutenções preventivas: [0, 304, 692]\n",
            "Severidade para cada subsistema: [0.5, 0.5]\n",
            "Número de Sisemas: 2\n",
            "Fator:  [0.4828472337947568, 0.28086665617199813, 0.28086665617199813]\n",
            "Media de falhas:  [0, 2.0473276961864384, 4.669401752426999, 4.926563612338497]\n",
            "Custo =  368.26472705627197\n"
          ]
        },
        {
          "output_type": "stream",
          "name": "stderr",
          "text": [
            "pyswarms.single.global_best: 100%|██████████|100/100, best_cost=214\n",
            "2023-12-28 19:22:51,147 - pyswarms.single.global_best - INFO - Optimization finished | best cost: 213.68686189402604, best pos: [0.81168946 1.0950471  0.9121329  0.82644253 0.26368849 0.30484624\n",
            " 0.45691385 0.33621851 0.33364336 0.32535773 1.18549954 0.92204809\n",
            " 0.21370867 0.88706725 0.41883149 0.98593168 0.68507436 0.99891499\n",
            " 0.78707387 0.82136794 0.61695697 0.41906422 0.49337788 1.17151966]\n",
            "2023-12-28 19:22:51,156 - pyswarms.single.global_best - INFO - Optimize for 1 iters with {'c1': 0.5, 'c2': 0.3, 'w': 0.9}\n"
          ]
        },
        {
          "output_type": "stream",
          "name": "stdout",
          "text": [
            "\n",
            "=========================================================================\n",
            "\n",
            "Número de ciclos de manutenção: 2 2\n",
            "Tempos para manutenções preventivas: [0, 305, 691]\n",
            "Severidade para cada subsistema: [0.5, 0.5]\n",
            "Número de Sisemas: 2\n",
            "Fator:  [0.4828472337947568, 0.28086665617199813, 0.28086665617199813]\n",
            "Media de falhas:  [0, 2.054083760163639, 4.66263448551005, 4.92656339679917]\n",
            "Custo =  366.92095950610747\n",
            "\n",
            "=========================================================================\n",
            "\n",
            "Número de ciclos de manutenção: 2 2\n",
            "Tempos para manutenções preventivas: [0, 304, 690]\n",
            "Severidade para cada subsistema: [0.5, 0.5]\n",
            "Número de Sisemas: 2\n",
            "Fator:  [0.4828472337947568, 0.28086665617199813, 0.28086665617199813]\n",
            "Media de falhas:  [0, 2.0473276961864384, 4.655864671775483, 4.9265606152326695]\n",
            "Custo =  365.6587491946378\n"
          ]
        },
        {
          "output_type": "stream",
          "name": "stderr",
          "text": [
            "pyswarms.single.global_best: 100%|██████████|1/1, best_cost=214\n",
            "2023-12-28 19:22:51,188 - pyswarms.single.global_best - INFO - Optimization finished | best cost: 213.68686189402604, best pos: [0.81169428 1.09889792 0.91094389 0.74566013 0.26371797 0.30484649\n",
            " 0.4569653  0.33009882 0.33364291 0.39580371 1.18530344 0.9220443\n",
            " 0.21382763 0.88716764 0.36550398 0.98192405 0.68509521 0.99902608\n",
            " 0.78707487 0.4137647  0.61695887 0.41909179 0.49337818 1.17172707]\n",
            "2023-12-28 19:22:51,191 - pyswarms.single.global_best - INFO - Optimize for 1 iters with {'c1': 0.5, 'c2': 0.3, 'w': 0.9}\n"
          ]
        },
        {
          "output_type": "stream",
          "name": "stdout",
          "text": [
            "\n",
            "=========================================================================\n",
            "\n",
            "Número de ciclos de manutenção: 2 2\n",
            "Tempos para manutenções preventivas: [0, 304, 690]\n",
            "Severidade para cada subsistema: [0.5, 0.5]\n",
            "Número de Sisemas: 2\n",
            "Fator:  [0.4828472337947568, 0.28086665617199813, 0.28086665617199813]\n",
            "Media de falhas:  [0, 2.0473276961864384, 4.655864671775483, 4.9265606152326695]\n",
            "Custo =  365.6587491946378\n"
          ]
        },
        {
          "output_type": "stream",
          "name": "stderr",
          "text": [
            "pyswarms.single.global_best: 100%|██████████|1/1, best_cost=214\n",
            "2023-12-28 19:22:51,227 - pyswarms.single.global_best - INFO - Optimization finished | best cost: 213.68686189402604, best pos: [0.81168827 1.09576933 0.91122463 0.80163685 0.26372372 0.30484723\n",
            " 0.45696878 0.3253419  0.33364294 0.45244187 1.18520775 0.9220473\n",
            " 0.21386649 0.88532415 0.36920938 0.98539248 0.68509314 0.99899967\n",
            " 0.78710088 0.37569042 0.61696284 0.41912491 0.49337817 1.1695694 ]\n",
            "2023-12-28 19:22:51,230 - pyswarms.single.global_best - INFO - Optimize for 1 iters with {'c1': 0.5, 'c2': 0.3, 'w': 0.9}\n"
          ]
        },
        {
          "output_type": "stream",
          "name": "stdout",
          "text": [
            "\n",
            "=========================================================================\n",
            "\n",
            "Número de ciclos de manutenção: 3 2\n",
            "Tempos para manutenções preventivas: [0, 30, 303, 690]\n",
            "Severidade para cada subsistema: [0.5, 0.5, 0.5]\n",
            "Número de Sisemas: 2\n",
            "Fator:  [0.4828472337947568, 0.28086665617199813, 0.28086665617199813, 0.28086665617199813]\n",
            "Media de falhas:  [0, 0.2005577402824932, 2.039772220640968, 4.656541486338842, 4.927237429796029]\n",
            "Custo =  533.4313876028605\n"
          ]
        },
        {
          "output_type": "stream",
          "name": "stderr",
          "text": [
            "pyswarms.single.global_best: 100%|██████████|1/1, best_cost=214\n",
            "2023-12-28 19:22:51,257 - pyswarms.single.global_best - INFO - Optimization finished | best cost: 213.68686189402604, best pos: [0.81168314 1.09277961 0.91148068 0.8546638  0.26372731 0.30484774\n",
            " 0.45697069 0.32320102 0.33364308 0.49424062 1.18513156 0.92205014\n",
            " 0.2138765  0.88375444 0.37285501 0.98853923 0.68508726 0.99897421\n",
            " 0.78711656 0.24989216 0.61696509 0.41914552 0.49337815 1.16801238]\n",
            "2023-12-28 19:22:51,259 - pyswarms.single.global_best - INFO - Optimize for 1 iters with {'c1': 0.5, 'c2': 0.3, 'w': 0.9}\n"
          ]
        },
        {
          "output_type": "stream",
          "name": "stdout",
          "text": [
            "\n",
            "=========================================================================\n",
            "\n",
            "Número de ciclos de manutenção: 3 2\n",
            "Tempos para manutenções preventivas: [0, 31, 303, 692]\n",
            "Severidade para cada subsistema: [0.5, 0.5, 0.5]\n",
            "Número de Sisemas: 2\n",
            "Fator:  [0.4828472337947568, 0.28086665617199813, 0.28086665617199813, 0.28086665617199813]\n",
            "Media de falhas:  [0, 0.2072645908255546, 2.0397562850942474, 4.670067250291353, 4.927229110202852]\n",
            "Custo =  533.9250159151231\n"
          ]
        },
        {
          "output_type": "stream",
          "name": "stderr",
          "text": [
            "pyswarms.single.global_best: 100%|██████████|1/1, best_cost=214\n",
            "2023-12-28 19:22:51,273 - pyswarms.single.global_best - INFO - Optimization finished | best cost: 213.68686189402604, best pos: [0.81167954 1.09019872 0.91178587 0.89903849 0.26372014 0.30484803\n",
            " 0.45696714 0.32209559 0.33364329 0.51574617 1.18506497 0.92205231\n",
            " 0.21384896 0.88332626 0.38044658 0.99091663 0.68507909 0.99894062\n",
            " 0.78712743 0.13415705 0.61696698 0.41915363 0.49337811 1.16691835]\n",
            "2023-12-28 19:22:51,276 - pyswarms.single.global_best - INFO - Optimize for 1 iters with {'c1': 0.5, 'c2': 0.3, 'w': 0.9}\n"
          ]
        },
        {
          "output_type": "stream",
          "name": "stdout",
          "text": [
            "\n",
            "=========================================================================\n",
            "\n",
            "Número de ciclos de manutenção: 5 2\n",
            "Tempos para manutenções preventivas: [0, 33, 94, 303, 517, 694]\n",
            "Severidade para cada subsistema: [0.5, 0.5, 0.5, 0.5, 0.5]\n",
            "Número de Sisemas: 2\n",
            "Fator:  [0.4828472337947568, 0.28086665617199813, 0.28086665617199813, 0.28086665617199813, 0.28086665617199813, 0.28086665617199813]\n",
            "Media de falhas:  [0, 0.2206803331930953, 0.6302736439618257, 2.039421951285229, 3.4854318986575894, 4.682802550435596, 4.926430250098635]\n",
            "Custo =  785.6665318344791\n"
          ]
        },
        {
          "output_type": "stream",
          "name": "stderr",
          "text": [
            "pyswarms.single.global_best: 100%|██████████|1/1, best_cost=214\n",
            "2023-12-28 19:22:51,293 - pyswarms.single.global_best - INFO - Optimization finished | best cost: 213.68686189402604, best pos: [0.8116784  1.08838554 0.91206385 0.91887348 0.26370794 0.30484791\n",
            " 0.45695851 0.32404382 0.33364348 0.50832792 1.18506942 0.9220532\n",
            " 0.21380188 0.88312327 0.3927177  0.99260682 0.68507171 0.99890476\n",
            " 0.78712134 0.01549993 0.61696568 0.41915908 0.49337803 1.16663577]\n",
            "2023-12-28 19:22:51,294 - pyswarms.single.global_best - INFO - Optimize for 1 iters with {'c1': 0.5, 'c2': 0.3, 'w': 0.9}\n"
          ]
        },
        {
          "output_type": "stream",
          "name": "stdout",
          "text": [
            "\n",
            "=========================================================================\n",
            "\n",
            "Número de ciclos de manutenção: 5 2\n",
            "Tempos para manutenções preventivas: [0, 34, 97, 127, 304, 696]\n",
            "Severidade para cada subsistema: [0.5, 0.5, 0.5, 0.5, 0.5]\n",
            "Número de Sisemas: 2\n",
            "Fator:  [0.4828472337947568, 0.28086665617199813, 0.28086665617199813, 0.28086665617199813, 0.28086665617199813, 0.28086665617199813]\n",
            "Media de falhas:  [0, 0.22738918346191364, 0.650453771326621, 0.8523104008628647, 2.0459691697991307, 4.696608831626252, 4.926702294608054]\n",
            "Custo =  838.5348518109686\n"
          ]
        },
        {
          "output_type": "stream",
          "name": "stderr",
          "text": [
            "pyswarms.single.global_best: 100%|██████████|1/1, best_cost=214\n",
            "2023-12-28 19:22:51,305 - pyswarms.single.global_best - INFO - Optimization finished | best cost: 213.68686189402604, best pos: [0.81167794 1.0882367  0.91232179 0.91364764 0.26369199 0.30484756\n",
            " 0.45693758 0.32858776 0.33364364 0.48519997 1.18520143 0.92205395\n",
            " 0.2137448  0.88297963 0.41100263 0.99331224 0.68506536 0.99887528\n",
            " 0.78710195 1.25995823 0.616962   0.41916295 0.49337791 1.16661393]\n",
            "2023-12-28 19:22:51,306 - pyswarms.single.global_best - INFO - Optimize for 1 iters with {'c1': 0.5, 'c2': 0.3, 'w': 0.9}\n"
          ]
        },
        {
          "output_type": "stream",
          "name": "stdout",
          "text": [
            "\n",
            "=========================================================================\n",
            "\n",
            "Número de ciclos de manutenção: 3 2\n",
            "Tempos para manutenções preventivas: [0, 35, 304, 698]\n",
            "Severidade para cada subsistema: [0.5, 0.5, 0.5]\n",
            "Número de Sisemas: 2\n",
            "Fator:  [0.4828472337947568, 0.28086665617199813, 0.28086665617199813, 0.28086665617199813]\n",
            "Media de falhas:  [0, 0.23409866079788857, 2.0464507072942615, 4.710632472853424, 4.927191622989762]\n",
            "Custo =  536.4828054683557\n"
          ]
        },
        {
          "output_type": "stream",
          "name": "stderr",
          "text": [
            "pyswarms.single.global_best:   0%|          |0/1, best_cost=214"
          ]
        },
        {
          "output_type": "stream",
          "name": "stdout",
          "text": [
            "\n",
            "=========================================================================\n",
            "\n",
            "Número de ciclos de manutenção: 3 2\n",
            "Tempos para manutenções preventivas: [0, 35, 156, 305]\n",
            "Severidade para cada subsistema: [0.5, 0.5, 0.5]\n",
            "Número de Sisemas: 2\n",
            "Fator:  [0.4828472337947568, 0.28086665617199813, 0.28086665617199813, 0.28086665617199813]\n",
            "Media de falhas:  [0, 0.23409866079788857, 1.0477525022176164, 2.052753545852748, 4.9268722696882365]\n",
            "Custo =  495.6087461596838\n"
          ]
        },
        {
          "output_type": "stream",
          "name": "stderr",
          "text": [
            "\rpyswarms.single.global_best: 100%|██████████|1/1, best_cost=214\n",
            "2023-12-28 19:22:51,318 - pyswarms.single.global_best - INFO - Optimization finished | best cost: 213.68686189402604, best pos: [0.81167959 1.08813576 0.91254623 0.89168939 0.26367671 0.30484725\n",
            " 0.45691791 0.3343892  0.33364378 0.45517086 1.18536097 0.92205419\n",
            " 0.21369004 0.88311402 0.4289673  0.99369387 0.68505999 0.99885844\n",
            " 0.7870781  0.99369196 0.61695749 0.41916297 0.4933778  1.16660863]\n",
            "2023-12-28 19:22:51,319 - pyswarms.single.global_best - INFO - Optimize for 1 iters with {'c1': 0.5, 'c2': 0.3, 'w': 0.9}\n",
            "pyswarms.single.global_best: 100%|██████████|1/1, best_cost=214\n",
            "2023-12-28 19:22:51,329 - pyswarms.single.global_best - INFO - Optimization finished | best cost: 213.68686189402604, best pos: [0.81168157 1.08815744 0.91265097 0.86601535 0.26366553 0.30484669\n",
            " 0.45689989 0.34009039 0.33364389 0.41746679 1.1855054  0.92205404\n",
            " 0.21364218 0.88429352 0.4447021  0.99348889 0.68505609 0.99885044\n",
            " 0.78705578 0.60292941 0.61695338 0.41914629 0.49337771 1.16765058]\n",
            "2023-12-28 19:22:51,330 - pyswarms.single.global_best - INFO - Optimize for 1 iters with {'c1': 0.5, 'c2': 0.3, 'w': 0.9}\n"
          ]
        },
        {
          "output_type": "stream",
          "name": "stdout",
          "text": [
            "\n",
            "=========================================================================\n",
            "\n",
            "Número de ciclos de manutenção: 5 2\n",
            "Tempos para manutenções preventivas: [0, 35, 151, 305, 450, 510]\n",
            "Severidade para cada subsistema: [0.5, 0.5, 0.5, 0.5, 0.5]\n",
            "Número de Sisemas: 2\n",
            "Fator:  [0.4828472337947568, 0.28086665617199813, 0.28086665617199813, 0.28086665617199813, 0.28086665617199813, 0.28086665617199813]\n",
            "Media de falhas:  [0, 0.23409866079788857, 1.014058116665109, 2.0527567408763847, 3.0322212863047495, 3.4377762094485678, 4.9261865927715895]\n",
            "Custo =  750.1405383181568\n"
          ]
        },
        {
          "output_type": "stream",
          "name": "stderr",
          "text": [
            "pyswarms.single.global_best: 100%|██████████|1/1, best_cost=214\n",
            "2023-12-28 19:22:51,341 - pyswarms.single.global_best - INFO - Optimization finished | best cost: 213.68686189402604, best pos: [0.81168511 1.0885309  0.91266694 0.83704773 0.26365876 0.30484609\n",
            " 0.4568839  0.34473258 0.33364395 0.35778963 1.18563407 0.92205359\n",
            " 0.2136116  0.88603283 0.45871912 0.99145478 0.68505273 0.99885907\n",
            " 0.78703976 0.14265109 0.61695062 0.41911803 0.49337766 1.16935229]\n",
            "2023-12-28 19:22:51,342 - pyswarms.single.global_best - INFO - Optimize for 1 iters with {'c1': 0.5, 'c2': 0.3, 'w': 0.9}\n"
          ]
        },
        {
          "output_type": "stream",
          "name": "stdout",
          "text": [
            "\n",
            "=========================================================================\n",
            "\n",
            "Número de ciclos de manutenção: 3 2\n",
            "Tempos para manutenções preventivas: [0, 34, 306, 450]\n",
            "Severidade para cada subsistema: [0.5, 0.5, 0.5]\n",
            "Número de Sisemas: 2\n",
            "Fator:  [0.4828472337947568, 0.28086665617199813, 0.28086665617199813, 0.28086665617199813]\n",
            "Media de falhas:  [0, 0.22738918346191364, 2.0599751612621033, 3.0326875995827653, 4.926820088077495]\n",
            "Custo =  491.3842963838579\n"
          ]
        },
        {
          "output_type": "stream",
          "name": "stderr",
          "text": [
            "pyswarms.single.global_best:   0%|          |0/1, best_cost=214"
          ]
        },
        {
          "output_type": "stream",
          "name": "stdout",
          "text": [
            "\n",
            "=========================================================================\n",
            "\n",
            "Número de ciclos de manutenção: 4 2\n",
            "Tempos para manutenções preventivas: [0, 33, 95, 306, 450]\n",
            "Severidade para cada subsistema: [0.5, 0.5, 0.5, 0.5]\n",
            "Número de Sisemas: 2\n",
            "Fator:  [0.4828472337947568, 0.28086665617199813, 0.28086665617199813, 0.28086665617199813, 0.28086665617199813]\n",
            "Media de falhas:  [0, 0.2206803331930953, 0.6370006893236866, 2.0596788990355233, 3.0323913373561853, 4.926523825850914]\n",
            "Custo =  628.3403102972123\n"
          ]
        },
        {
          "output_type": "stream",
          "name": "stderr",
          "text": [
            "\rpyswarms.single.global_best: 100%|██████████|1/1, best_cost=214\n",
            "2023-12-28 19:22:51,414 - pyswarms.single.global_best - INFO - Optimization finished | best cost: 213.68686189402604, best pos: [0.81168914 1.08996415 0.91264475 0.80780403 0.26365737 0.30484556\n",
            " 0.45687698 0.3483643  0.33364392 0.30072179 1.18574196 0.92205212\n",
            " 0.21359766 0.8877981  0.46812772 0.98843934 0.6850537  0.99888274\n",
            " 0.787031   0.98166715 0.61694869 0.41909105 0.49337767 1.17121935]\n",
            "2023-12-28 19:22:51,416 - pyswarms.single.global_best - INFO - Optimize for 1 iters with {'c1': 0.5, 'c2': 0.3, 'w': 0.9}\n",
            "pyswarms.single.global_best:   0%|          |0/1, best_cost=214"
          ]
        },
        {
          "output_type": "stream",
          "name": "stdout",
          "text": [
            "\n",
            "=========================================================================\n",
            "\n",
            "Número de ciclos de manutenção: 7 2\n",
            "Tempos para manutenções preventivas: [0, 32, 128, 150, 306, 451, 511, 697]\n",
            "Severidade para cada subsistema: [0.5, 0.5, 0.5, 0.5, 0.5, 0.5, 0.5]\n",
            "Número de Sisemas: 2\n",
            "Fator:  [0.4828472337947568, 0.28086665617199813, 0.28086665617199813, 0.28086665617199813, 0.28086665617199813, 0.28086665617199813, 0.28086665617199813, 0.28086665617199813]\n",
            "Media de falhas:  [0, 0.21397212893789638, 0.8591333942191274, 1.007255113245145, 2.059445919589141, 3.038918287041302, 3.4444758343829065, 4.7027287484101254, 4.926055064472996]\n",
            "Custo =  1114.5163653796449\n"
          ]
        },
        {
          "output_type": "stream",
          "name": "stderr",
          "text": [
            "\rpyswarms.single.global_best: 100%|██████████|1/1, best_cost=214\n",
            "2023-12-28 19:22:51,449 - pyswarms.single.global_best - INFO - Optimization finished | best cost: 213.68686189402604, best pos: [0.81169286 1.09222591 0.91247588 0.78242541 0.26366176 0.30484523\n",
            " 0.45687917 0.34948126 0.33364376 0.2565449  1.18578605 0.92205071\n",
            " 0.21360212 0.88934154 0.46959708 0.98510226 0.68505784 0.99891267\n",
            " 0.78702997 0.42938002 0.61694871 0.41906153 0.49337774 1.17295063]\n",
            "2023-12-28 19:22:51,450 - pyswarms.single.global_best - INFO - Optimize for 1 iters with {'c1': 0.5, 'c2': 0.3, 'w': 0.9}\n",
            "pyswarms.single.global_best: 100%|██████████|1/1, best_cost=214\n",
            "2023-12-28 19:22:51,467 - pyswarms.single.global_best - INFO - Optimization finished | best cost: 213.68686189402604, best pos: [0.81169566 1.09448819 0.91226868 0.76202205 0.26367333 0.30484497\n",
            " 0.4568842  0.34949391 0.33364358 0.22250794 1.18574576 0.92204892\n",
            " 0.21363076 0.89023068 0.46650219 0.98220662 0.68506243 0.99894011\n",
            " 0.78703971 1.11574548 0.61694876 0.41903538 0.49337782 1.17439127]\n"
          ]
        },
        {
          "output_type": "stream",
          "name": "stdout",
          "text": [
            "\n",
            "=========================================================================\n",
            "\n",
            "Número de ciclos de manutenção: 4 2\n",
            "Tempos para manutenções preventivas: [0, 31, 152, 306, 451]\n",
            "Severidade para cada subsistema: [0.5, 0.5, 0.5, 0.5]\n",
            "Número de Sisemas: 2\n",
            "Fator:  [0.4828472337947568, 0.28086665617199813, 0.28086665617199813, 0.28086665617199813, 0.28086665617199813]\n",
            "Media de falhas:  [0, 0.2072645908255546, 1.0208261101419311, 2.0595383103583957, 3.039010677810557, 4.92638201688979]\n",
            "Custo =  620.1072531018585\n"
          ]
        },
        {
          "output_type": "stream",
          "name": "stderr",
          "text": [
            "2023-12-28 19:22:51,470 - pyswarms.single.global_best - INFO - Optimize for 1 iters with {'c1': 0.5, 'c2': 0.3, 'w': 0.9}\n",
            "pyswarms.single.global_best: 100%|██████████|1/1, best_cost=214\n",
            "2023-12-28 19:22:51,487 - pyswarms.single.global_best - INFO - Optimization finished | best cost: 213.68686189402604, best pos: [0.81169777 1.09659217 0.91207892 0.74729052 0.2636881  0.30484484\n",
            " 0.45689477 0.34789655 0.33364336 0.19548978 1.18567238 0.9220472\n",
            " 0.21367535 0.89051616 0.45632479 0.9798471  0.68506883 0.99895861\n",
            " 0.7870584  0.40238779 0.61695023 0.41901355 0.49337791 1.17491857]\n",
            "2023-12-28 19:22:51,488 - pyswarms.single.global_best - INFO - Optimize for 1 iters with {'c1': 0.5, 'c2': 0.3, 'w': 0.9}\n"
          ]
        },
        {
          "output_type": "stream",
          "name": "stdout",
          "text": [
            "\n",
            "=========================================================================\n",
            "\n",
            "Número de ciclos de manutenção: 5 2\n",
            "Tempos para manutenções preventivas: [0, 31, 122, 153, 306, 450]\n",
            "Severidade para cada subsistema: [0.5, 0.5, 0.5, 0.5, 0.5]\n",
            "Número de Sisemas: 2\n",
            "Fator:  [0.4828472337947568, 0.28086665617199813, 0.28086665617199813, 0.28086665617199813, 0.28086665617199813, 0.28086665617199813]\n",
            "Media de falhas:  [0, 0.2072645908255546, 0.8187338103032561, 1.0274507278333056, 2.05942348244516, 3.032135920765822, 4.926268409260551]\n",
            "Custo =  791.1563212031705\n"
          ]
        },
        {
          "output_type": "stream",
          "name": "stderr",
          "text": [
            "pyswarms.single.global_best: 100%|██████████|1/1, best_cost=214\n",
            "2023-12-28 19:22:51,500 - pyswarms.single.global_best - INFO - Optimization finished | best cost: 213.68686189402604, best pos: [0.81169719 1.09812331 0.91192311 0.74024633 0.26370142 0.30484477\n",
            " 0.45690443 0.34477663 0.33364316 0.17262651 1.18555562 0.92204579\n",
            " 0.21371947 0.89026745 0.43624323 0.97854507 0.68507476 0.99896468\n",
            " 0.7870786  1.03830385 0.6169519  0.41899772 0.49337798 1.17464396]\n",
            "2023-12-28 19:22:51,501 - pyswarms.single.global_best - INFO - Optimize for 1 iters with {'c1': 0.5, 'c2': 0.3, 'w': 0.9}\n"
          ]
        },
        {
          "output_type": "stream",
          "name": "stdout",
          "text": [
            "\n",
            "=========================================================================\n",
            "\n",
            "Número de ciclos de manutenção: 7 2\n",
            "Tempos para manutenções preventivas: [0, 31, 93, 153, 305, 450, 512, 690]\n",
            "Severidade para cada subsistema: [0.5, 0.5, 0.5, 0.5, 0.5, 0.5, 0.5]\n",
            "Número de Sisemas: 2\n",
            "Fator:  [0.4828472337947568, 0.28086665617199813, 0.28086665617199813, 0.28086665617199813, 0.28086665617199813, 0.28086665617199813, 0.28086665617199813, 0.28086665617199813]\n",
            "Media de falhas:  [0, 0.2072645908255546, 0.6235505986910177, 1.0274210658766192, 2.052640939541969, 3.0321054849703337, 3.4511825670135785, 4.6552916042847965, 4.925987547741983]\n",
            "Custo =  1059.3912267709384\n"
          ]
        },
        {
          "output_type": "stream",
          "name": "stderr",
          "text": [
            "pyswarms.single.global_best: 100%|██████████|1/1, best_cost=214\n",
            "2023-12-28 19:22:51,512 - pyswarms.single.global_best - INFO - Optimization finished | best cost: 213.68686189402604, best pos: [0.81169564 1.09908009 0.91180632 0.74344344 0.26371309 0.30484496\n",
            " 0.45691589 0.34063256 0.33364302 0.19529412 1.18543762 0.92204486\n",
            " 0.21375676 0.88942579 0.41759264 0.97851666 0.68508004 0.99896382\n",
            " 0.78709647 0.26594109 0.61695425 0.41898765 0.49337803 1.17373741]\n",
            "2023-12-28 19:22:51,514 - pyswarms.single.global_best - INFO - Optimize for 1 iters with {'c1': 0.5, 'c2': 0.3, 'w': 0.9}\n"
          ]
        },
        {
          "output_type": "stream",
          "name": "stdout",
          "text": [
            "\n",
            "=========================================================================\n",
            "\n",
            "Número de ciclos de manutenção: 3 2\n",
            "Tempos para manutenções preventivas: [0, 31, 155, 305]\n",
            "Severidade para cada subsistema: [0.5, 0.5, 0.5]\n",
            "Número de Sisemas: 2\n",
            "Fator:  [0.4828472337947568, 0.28086665617199813, 0.28086665617199813, 0.28086665617199813]\n",
            "Media de falhas:  [0, 0.2072645908255546, 1.0410436456717584, 2.0527843923373537, 4.926903116172842]\n",
            "Custo =  502.4476236930655\n"
          ]
        },
        {
          "output_type": "stream",
          "name": "stderr",
          "text": [
            "pyswarms.single.global_best: 100%|██████████|1/1, best_cost=214\n",
            "2023-12-28 19:22:51,525 - pyswarms.single.global_best - INFO - Optimization finished | best cost: 213.68686189402604, best pos: [0.81169258 1.09952896 0.91171431 0.75057761 0.26371864 0.3048454\n",
            " 0.45692601 0.33612406 0.33364292 0.23227829 1.18533811 0.92204413\n",
            " 0.21377724 0.8882656  0.40116909 0.97954855 0.68508322 0.99895848\n",
            " 0.78710898 0.85248667 0.61695637 0.41899521 0.49337807 1.17251617]\n",
            "2023-12-28 19:22:51,527 - pyswarms.single.global_best - INFO - Optimize for 1 iters with {'c1': 0.5, 'c2': 0.3, 'w': 0.9}\n"
          ]
        },
        {
          "output_type": "stream",
          "name": "stdout",
          "text": [
            "\n",
            "=========================================================================\n",
            "\n",
            "Número de ciclos de manutenção: 4 2\n",
            "Tempos para manutenções preventivas: [0, 31, 154, 305, 518]\n",
            "Severidade para cada subsistema: [0.5, 0.5, 0.5, 0.5]\n",
            "Número de Sisemas: 2\n",
            "Fator:  [0.4828472337947568, 0.28086665617199813, 0.28086665617199813, 0.28086665617199813, 0.28086665617199813]\n",
            "Media de falhas:  [0, 0.2072645908255546, 1.034304312775792, 2.0527846696679717, 3.492052072774016, 4.926358420549273]\n",
            "Custo =  618.0071236517607\n"
          ]
        },
        {
          "output_type": "stream",
          "name": "stderr",
          "text": [
            "pyswarms.single.global_best: 100%|██████████|1/1, best_cost=214\n",
            "2023-12-28 19:22:51,537 - pyswarms.single.global_best - INFO - Optimization finished | best cost: 213.68686189402604, best pos: [0.81168926 1.09887574 0.9116798  0.75812741 0.26371505 0.30484604\n",
            " 0.45693406 0.33206922 0.33364296 0.2909287  1.18529118 0.92204429\n",
            " 0.2137814  0.88687642 0.38843503 0.9823255  0.6850851  0.99894655\n",
            " 0.78711131 0.07905918 0.61695834 0.41901311 0.49337805 1.17122652]\n"
          ]
        },
        {
          "output_type": "stream",
          "name": "stdout",
          "text": [
            "\n",
            "=========================================================================\n",
            "\n",
            "Número de ciclos de manutenção: 4 2\n",
            "Tempos para manutenções preventivas: [0, 32, 152, 304, 696]\n",
            "Severidade para cada subsistema: [0.5, 0.5, 0.5, 0.5]\n",
            "Número de Sisemas: 2\n",
            "Fator:  [0.4828472337947568, 0.28086665617199813, 0.28086665617199813, 0.28086665617199813, 0.28086665617199813]\n",
            "Media de falhas:  [0, 0.21397212893789638, 1.0208182234674061, 2.0460246977026504, 4.6966643595297715, 4.926757822511574]\n",
            "Custo =  661.5163804076561\n"
          ]
        },
        {
          "output_type": "stream",
          "name": "stderr",
          "text": [
            "2023-12-28 19:22:51,539 - pyswarms.single.global_best - INFO - Optimize for 1 iters with {'c1': 0.5, 'c2': 0.3, 'w': 0.9}\n",
            "pyswarms.single.global_best: 100%|██████████|1/1, best_cost=214\n",
            "2023-12-28 19:22:51,549 - pyswarms.single.global_best - INFO - Optimization finished | best cost: 213.68686189402604, best pos: [0.81168633 1.0975106  0.91177487 0.77761608 0.26370886 0.30484665\n",
            " 0.45693779 0.32907545 0.33364307 0.35276597 1.18527431 0.92204557\n",
            " 0.21376917 0.88564398 0.38378529 0.98487465 0.68508531 0.99893366\n",
            " 0.78711176 0.76081661 0.61696008 0.419034   0.49337802 1.17015377]\n",
            "2023-12-28 19:22:51,550 - pyswarms.single.global_best - INFO - Optimize for 1 iters with {'c1': 0.5, 'c2': 0.3, 'w': 0.9}\n"
          ]
        },
        {
          "output_type": "stream",
          "name": "stdout",
          "text": [
            "\n",
            "=========================================================================\n",
            "\n",
            "Número de ciclos de manutenção: 4 2\n",
            "Tempos para manutenções preventivas: [0, 32, 151, 304, 512]\n",
            "Severidade para cada subsistema: [0.5, 0.5, 0.5, 0.5]\n",
            "Número de Sisemas: 2\n",
            "Fator:  [0.4828472337947568, 0.28086665617199813, 0.28086665617199813, 0.28086665617199813, 0.28086665617199813]\n",
            "Media de falhas:  [0, 0.21397212893789638, 1.014079431826887, 2.046025210940662, 3.451464965479918, 4.926349503082003]\n",
            "Custo =  616.3294760993301\n"
          ]
        },
        {
          "output_type": "stream",
          "name": "stderr",
          "text": [
            "pyswarms.single.global_best: 100%|██████████|1/1, best_cost=214\n",
            "2023-12-28 19:22:51,560 - pyswarms.single.global_best - INFO - Optimization finished | best cost: 213.68686189402604, best pos: [0.81168408 1.09598986 0.9119209  0.80335794 0.26370003 0.30484717\n",
            " 0.45693823 0.32765416 0.3336432  0.40301609 1.18529358 0.92204727\n",
            " 0.21374729 0.88481696 0.38301669 0.98734093 0.68508231 0.99892121\n",
            " 0.78710336 0.08563587 0.61696118 0.41905279 0.49337795 1.16922836]\n",
            "2023-12-28 19:22:51,561 - pyswarms.single.global_best - INFO - Optimize for 1 iters with {'c1': 0.5, 'c2': 0.3, 'w': 0.9}\n"
          ]
        },
        {
          "output_type": "stream",
          "name": "stdout",
          "text": [
            "\n",
            "=========================================================================\n",
            "\n",
            "Número de ciclos de manutenção: 4 2\n",
            "Tempos para manutenções preventivas: [0, 32, 153, 304, 693]\n",
            "Severidade para cada subsistema: [0.5, 0.5, 0.5, 0.5]\n",
            "Número de Sisemas: 2\n",
            "Fator:  [0.4828472337947568, 0.28086665617199813, 0.28086665617199813, 0.28086665617199813, 0.28086665617199813]\n",
            "Media de falhas:  [0, 0.21397212893789638, 1.0275571719147036, 2.0460242465182645, 4.676351017138069, 4.926745806496276]\n",
            "Custo =  656.7365955594576\n"
          ]
        },
        {
          "output_type": "stream",
          "name": "stderr",
          "text": [
            "pyswarms.single.global_best: 100%|██████████|1/1, best_cost=214\n",
            "2023-12-28 19:22:51,571 - pyswarms.single.global_best - INFO - Optimization finished | best cost: 213.68686189402604, best pos: [0.8116828  1.0946096  0.91208846 0.82680757 0.26369081 0.3048474\n",
            " 0.45693765 0.32655248 0.33364334 0.44676492 1.18536915 0.922049\n",
            " 0.21372205 0.88462235 0.38377189 0.98913895 0.68507733 0.99890939\n",
            " 0.78709106 0.65267355 0.61696213 0.41907051 0.49337789 1.16875573]\n",
            "2023-12-28 19:22:51,573 - pyswarms.single.global_best - INFO - Optimize for 1 iters with {'c1': 0.5, 'c2': 0.3, 'w': 0.9}\n"
          ]
        },
        {
          "output_type": "stream",
          "name": "stdout",
          "text": [
            "\n",
            "=========================================================================\n",
            "\n",
            "Número de ciclos de manutenção: 4 2\n",
            "Tempos para manutenções preventivas: [0, 33, 91, 153, 304]\n",
            "Severidade para cada subsistema: [0.5, 0.5, 0.5, 0.5]\n",
            "Número de Sisemas: 2\n",
            "Fator:  [0.4828472337947568, 0.28086665617199813, 0.28086665617199813, 0.28086665617199813, 0.28086665617199813]\n",
            "Media de falhas:  [0, 0.2206803331930953, 0.6100941649121766, 1.0274192263720745, 2.0458863009756354, 4.926760527562264]\n",
            "Custo =  649.8836685774561\n"
          ]
        },
        {
          "output_type": "stream",
          "name": "stderr",
          "text": [
            "pyswarms.single.global_best: 100%|██████████|1/1, best_cost=214\n",
            "2023-12-28 19:22:51,582 - pyswarms.single.global_best - INFO - Optimization finished | best cost: 213.68686189402604, best pos: [0.81168278 1.09342108 0.91223957 0.84782405 0.2636819  0.30484738\n",
            " 0.45693417 0.32571981 0.33364346 0.45407705 1.18546967 0.92205038\n",
            " 0.21369929 0.88500058 0.39433638 0.99044811 0.68507243 0.99889943\n",
            " 0.78707847 1.16314405 0.61696223 0.41908591 0.49337783 1.16861314]\n",
            "2023-12-28 19:22:51,584 - pyswarms.single.global_best - INFO - Optimize for 1 iters with {'c1': 0.5, 'c2': 0.3, 'w': 0.9}\n"
          ]
        },
        {
          "output_type": "stream",
          "name": "stdout",
          "text": [
            "\n",
            "=========================================================================\n",
            "\n",
            "Número de ciclos de manutenção: 4 2\n",
            "Tempos para manutenções preventivas: [0, 33, 150, 304, 692]\n",
            "Severidade para cada subsistema: [0.5, 0.5, 0.5, 0.5]\n",
            "Número de Sisemas: 2\n",
            "Fator:  [0.4828472337947568, 0.28086665617199813, 0.28086665617199813, 0.28086665617199813, 0.28086665617199813]\n",
            "Media de falhas:  [0, 0.2206803331930953, 1.007333423209855, 2.046018411773802, 4.669574289393045, 4.926736149304544]\n",
            "Custo =  653.7435169787739\n"
          ]
        },
        {
          "output_type": "stream",
          "name": "stderr",
          "text": [
            "pyswarms.single.global_best: 100%|██████████|1/1, best_cost=214\n",
            "2023-12-28 19:22:51,594 - pyswarms.single.global_best - INFO - Optimization finished | best cost: 213.68686189402604, best pos: [0.81168462 1.09236352 0.91236867 0.86461631 0.26367507 0.30484706\n",
            " 0.4569299  0.32802545 0.33364356 0.42374821 1.1855645  0.92205125\n",
            " 0.21368021 0.88569015 0.40938692 0.99109399 0.68506812 0.99889315\n",
            " 0.78706695 0.28723402 0.61696186 0.41909769 0.49337778 1.16883199]\n",
            "2023-12-28 19:22:51,595 - pyswarms.single.global_best - INFO - Optimize for 1 iters with {'c1': 0.5, 'c2': 0.3, 'w': 0.9}\n"
          ]
        },
        {
          "output_type": "stream",
          "name": "stdout",
          "text": [
            "\n",
            "=========================================================================\n",
            "\n",
            "Número de ciclos de manutenção: 3 2\n",
            "Tempos para manutenções preventivas: [0, 33, 152, 305]\n",
            "Severidade para cada subsistema: [0.5, 0.5, 0.5]\n",
            "Número de Sisemas: 2\n",
            "Fator:  [0.4828472337947568, 0.28086665617199813, 0.28086665617199813, 0.28086665617199813]\n",
            "Media de falhas:  [0, 0.2206803331930953, 1.020810695717058, 2.0527699920442544, 4.926888715879743]\n",
            "Custo =  498.9685362215277\n"
          ]
        },
        {
          "output_type": "stream",
          "name": "stderr",
          "text": [
            "pyswarms.single.global_best: 100%|██████████|1/1, best_cost=214\n",
            "2023-12-28 19:22:51,609 - pyswarms.single.global_best - INFO - Optimization finished | best cost: 213.68686189402604, best pos: [0.8116871  1.09204997 0.91245669 0.87390751 0.26367293 0.30484659\n",
            " 0.45692478 0.33176352 0.3336436  0.37035593 1.18563696 0.9220516\n",
            " 0.21366305 0.88652982 0.423836   0.9915359  0.68506526 0.99889018\n",
            " 0.78705702 0.6780851  0.61696022 0.41910334 0.49337777 1.16927665]\n",
            "2023-12-28 19:22:51,610 - pyswarms.single.global_best - INFO - Optimize for 1 iters with {'c1': 0.5, 'c2': 0.3, 'w': 0.9}\n"
          ]
        },
        {
          "output_type": "stream",
          "name": "stdout",
          "text": [
            "\n",
            "=========================================================================\n",
            "\n",
            "Número de ciclos de manutenção: 5 2\n",
            "Tempos para manutenções preventivas: [0, 33, 92, 127, 153, 305]\n",
            "Severidade para cada subsistema: [0.5, 0.5, 0.5, 0.5, 0.5]\n",
            "Número de Sisemas: 2\n",
            "Fator:  [0.4828472337947568, 0.28086665617199813, 0.28086665617199813, 0.28086665617199813, 0.28086665617199813, 0.28086665617199813]\n",
            "Media de falhas:  [0, 0.2206803331930953, 0.6168203781679997, 0.8523084620187745, 1.0273678886795756, 2.0525877623449253, 4.926706486180414]\n",
            "Custo =  851.9886757635859\n"
          ]
        },
        {
          "output_type": "stream",
          "name": "stderr",
          "text": [
            "pyswarms.single.global_best: 100%|██████████|1/1, best_cost=214\n",
            "2023-12-28 19:22:51,621 - pyswarms.single.global_best - INFO - Optimization finished | best cost: 213.68686189402604, best pos: [0.81168972 1.0920377  0.91244922 0.87840722 0.26367497 0.30484615\n",
            " 0.45691862 0.33559351 0.33364362 0.30943341 1.18569222 0.92205136\n",
            " 0.21365772 0.88730143 0.43543072 0.99108348 0.68506511 0.99888792\n",
            " 0.78704822 1.0426902  0.61695801 0.41909908 0.49337776 1.17000338]\n",
            "2023-12-28 19:22:51,622 - pyswarms.single.global_best - INFO - Optimize for 1 iters with {'c1': 0.5, 'c2': 0.3, 'w': 0.9}\n"
          ]
        },
        {
          "output_type": "stream",
          "name": "stdout",
          "text": [
            "\n",
            "=========================================================================\n",
            "\n",
            "Número de ciclos de manutenção: 4 2\n",
            "Tempos para manutenções preventivas: [0, 33, 154, 305, 450]\n",
            "Severidade para cada subsistema: [0.5, 0.5, 0.5, 0.5]\n",
            "Número de Sisemas: 2\n",
            "Fator:  [0.4828472337947568, 0.28086665617199813, 0.28086665617199813, 0.28086665617199813, 0.28086665617199813]\n",
            "Media de falhas:  [0, 0.2206803331930953, 1.0342885976870433, 2.052768954579223, 3.032233500007588, 4.926365988502317]\n",
            "Custo =  616.454598137831\n"
          ]
        },
        {
          "output_type": "stream",
          "name": "stderr",
          "text": [
            "pyswarms.single.global_best: 100%|██████████|1/1, best_cost=214\n",
            "2023-12-28 19:22:51,632 - pyswarms.single.global_best - INFO - Optimization finished | best cost: 213.68686189402604, best pos: [0.81169204 1.0920382  0.91237573 0.87308032 0.26367963 0.30484576\n",
            " 0.45691231 0.33905273 0.33364361 0.2555922  1.18573678 0.9220508\n",
            " 0.21365576 0.8879672  0.44367985 0.98936915 0.68506689 0.99888801\n",
            " 0.78704476 0.05492492 0.61695595 0.4190854  0.49337776 1.17098501]\n",
            "2023-12-28 19:22:51,633 - pyswarms.single.global_best - INFO - Optimize for 1 iters with {'c1': 0.5, 'c2': 0.3, 'w': 0.9}\n"
          ]
        },
        {
          "output_type": "stream",
          "name": "stdout",
          "text": [
            "\n",
            "=========================================================================\n",
            "\n",
            "Número de ciclos de manutenção: 4 2\n",
            "Tempos para manutenções preventivas: [0, 33, 124, 306, 450]\n",
            "Severidade para cada subsistema: [0.5, 0.5, 0.5, 0.5]\n",
            "Número de Sisemas: 2\n",
            "Fator:  [0.4828472337947568, 0.28086665617199813, 0.28086665617199813, 0.28086665617199813, 0.28086665617199813]\n",
            "Media de falhas:  [0, 0.2206803331930953, 0.832190851118063, 2.0595663369650303, 3.0322787752856923, 4.926411263780421]\n",
            "Custo =  619.6654348853358\n"
          ]
        },
        {
          "output_type": "stream",
          "name": "stderr",
          "text": [
            "pyswarms.single.global_best: 100%|██████████|1/1, best_cost=214"
          ]
        },
        {
          "output_type": "stream",
          "name": "stdout",
          "text": [
            "\n",
            "=========================================================================\n",
            "\n",
            "Número de ciclos de manutenção: 4 2\n",
            "Tempos para manutenções preventivas: [0, 32, 93, 306, 450]\n",
            "Severidade para cada subsistema: [0.5, 0.5, 0.5, 0.5]\n",
            "Número de Sisemas: 2\n",
            "Fator:  [0.4828472337947568, 0.28086665617199813, 0.28086665617199813, 0.28086665617199813, 0.28086665617199813]\n",
            "Media de falhas:  [0, 0.21397212893789638, 0.6235485422323029, 2.0596914934040065, 3.0324039317246685, 4.9265364202193975]\n",
            "Custo =  630.6556727292162\n"
          ]
        },
        {
          "output_type": "stream",
          "name": "stderr",
          "text": [
            "\n",
            "2023-12-28 19:22:51,643 - pyswarms.single.global_best - INFO - Optimization finished | best cost: 213.68686189402604, best pos: [0.81169362 1.09254467 0.91229445 0.86570939 0.26368611 0.30484553\n",
            " 0.45690708 0.34189804 0.33364359 0.21331952 1.18572095 0.92204998\n",
            " 0.21365566 0.8884324  0.44693865 0.98727115 0.68506933 0.9988903\n",
            " 0.78704202 0.56298433 0.61695429 0.41907025 0.49337776 1.17188624]\n",
            "2023-12-28 19:22:51,645 - pyswarms.single.global_best - INFO - Optimize for 1 iters with {'c1': 0.5, 'c2': 0.3, 'w': 0.9}\n",
            "pyswarms.single.global_best:   0%|          |0/1"
          ]
        },
        {
          "output_type": "stream",
          "name": "stdout",
          "text": [
            "\n",
            "=========================================================================\n",
            "\n",
            "Número de ciclos de manutenção: 3 2\n",
            "Tempos para manutenções preventivas: [0, 32, 124, 306]\n",
            "Severidade para cada subsistema: [0.5, 0.5, 0.5]\n",
            "Número de Sisemas: 2\n",
            "Fator:  [0.4828472337947568, 0.28086665617199813, 0.28086665617199813, 0.28086665617199813]\n",
            "Media de falhas:  [0, 0.21397212893789638, 0.8321960025147859, 2.059571488361753, 4.926934661519736]\n",
            "Custo =  503.6389838489618\n"
          ]
        },
        {
          "output_type": "stream",
          "name": "stderr",
          "text": [
            "pyswarms.single.global_best: 100%|██████████|1/1, best_cost=214\n",
            "2023-12-28 19:22:51,712 - pyswarms.single.global_best - INFO - Optimization finished | best cost: 213.68686189402604, best pos: [0.81169388 1.09344289 0.91220104 0.85057797 0.26369211 0.30484551\n",
            " 0.45690427 0.34275563 0.33364354 0.20000229 1.18565456 0.9220489\n",
            " 0.21365708 0.88872792 0.4415684  0.98513626 0.68507185 0.99889608\n",
            " 0.78704565 1.0280487  0.6169529  0.41905624 0.49337779 1.1726549 ]\n",
            "2023-12-28 19:22:51,748 - pyswarms.single.global_best - INFO - Optimize for 1 iters with {'c1': 0.5, 'c2': 0.3, 'w': 0.9}\n",
            "pyswarms.single.global_best:   0%|          |0/1, best_cost=214"
          ]
        },
        {
          "output_type": "stream",
          "name": "stdout",
          "text": [
            "\n",
            "=========================================================================\n",
            "\n",
            "Número de ciclos de manutenção: 4 2\n",
            "Tempos para manutenções preventivas: [0, 32, 154, 306, 510]\n",
            "Severidade para cada subsistema: [0.5, 0.5, 0.5, 0.5]\n",
            "Número de Sisemas: 2\n",
            "Fator:  [0.4828472337947568, 0.28086665617199813, 0.28086665617199813, 0.28086665617199813, 0.28086665617199813]\n",
            "Media de falhas:  [0, 0.21397212893789638, 1.034296276032361, 2.0595294909038016, 3.437936725085831, 4.926347108408852]\n",
            "Custo =  616.1154593932998\n"
          ]
        },
        {
          "output_type": "stream",
          "name": "stderr",
          "text": [
            "\rpyswarms.single.global_best: 100%|██████████|1/1, best_cost=214\n",
            "2023-12-28 19:22:51,876 - pyswarms.single.global_best - INFO - Optimization finished | best cost: 213.68686189402604, best pos: [0.81169284 1.0946493  0.91211016 0.8324811  0.26369733 0.30484571\n",
            " 0.4569031  0.34188118 0.33364347 0.19516674 1.18555579 0.92204778\n",
            " 0.21366299 0.88879275 0.43033694 0.98328936 0.68507452 0.99890446\n",
            " 0.78705416 0.11735995 0.61695263 0.41904385 0.49337785 1.17309219]\n",
            "2023-12-28 19:22:51,889 - pyswarms.single.global_best - INFO - Optimize for 1 iters with {'c1': 0.5, 'c2': 0.3, 'w': 0.9}\n",
            "pyswarms.single.global_best: 100%|██████████|1/1, best_cost=214\n",
            "2023-12-28 19:22:51,950 - pyswarms.single.global_best - INFO - Optimization finished | best cost: 213.68686189402604, best pos: [0.81169152 1.09580138 0.91203189 0.81441675 0.26369965 0.304846\n",
            " 0.45690437 0.34070011 0.33364341 0.20043387 1.18545804 0.92204678\n",
            " 0.21367701 0.88859782 0.41977799 0.98181353 0.68507688 0.99891348\n",
            " 0.78706295 0.64400624 0.61695268 0.41903488 0.4933779  1.17347815]\n",
            "2023-12-28 19:22:51,978 - pyswarms.single.global_best - INFO - Optimize for 1 iters with {'c1': 0.5, 'c2': 0.3, 'w': 0.9}\n"
          ]
        },
        {
          "output_type": "stream",
          "name": "stdout",
          "text": [
            "\n",
            "=========================================================================\n",
            "\n",
            "Número de ciclos de manutenção: 4 2\n",
            "Tempos para manutenções preventivas: [0, 32, 95, 306, 690]\n",
            "Severidade para cada subsistema: [0.5, 0.5, 0.5, 0.5]\n",
            "Número de Sisemas: 2\n",
            "Fator:  [0.4828472337947568, 0.28086665617199813, 0.28086665617199813, 0.28086665617199813, 0.28086665617199813]\n",
            "Media de falhas:  [0, 0.21397212893789638, 0.6370026227586464, 2.059680832470483, 4.656184751692069, 4.926880695149256]\n",
            "Custo =  664.029194147544\n"
          ]
        },
        {
          "output_type": "stream",
          "name": "stderr",
          "text": [
            "pyswarms.single.global_best: 100%|██████████|1/1, best_cost=214\n",
            "2023-12-28 19:22:52,061 - pyswarms.single.global_best - INFO - Optimization finished | best cost: 213.68686189402604, best pos: [0.81168973 1.09677032 0.91198    0.80107014 0.26370133 0.30484632\n",
            " 0.4569077  0.33902912 0.33364334 0.23318204 1.18537727 0.92204614\n",
            " 0.21369709 0.88805034 0.41001229 0.98144232 0.68507863 0.99892171\n",
            " 0.78707365 1.135628   0.61695325 0.41902954 0.49337794 1.17333139]\n",
            "2023-12-28 19:22:52,065 - pyswarms.single.global_best - INFO - Optimize for 1 iters with {'c1': 0.5, 'c2': 0.3, 'w': 0.9}\n"
          ]
        },
        {
          "output_type": "stream",
          "name": "stdout",
          "text": [
            "\n",
            "=========================================================================\n",
            "\n",
            "Número de ciclos de manutenção: 2 2\n",
            "Tempos para manutenções preventivas: [0, 32, 305]\n",
            "Severidade para cada subsistema: [0.5, 0.5]\n",
            "Número de Sisemas: 2\n",
            "Fator:  [0.4828472337947568, 0.28086665617199813, 0.28086665617199813]\n",
            "Media de falhas:  [0, 0.21397212893789638, 2.0532505176924447, 4.927369241527933]\n",
            "Custo =  377.33006161862255\n"
          ]
        },
        {
          "output_type": "stream",
          "name": "stderr",
          "text": [
            "pyswarms.single.global_best: 100%|██████████|1/1, best_cost=214\n",
            "2023-12-28 19:22:52,091 - pyswarms.single.global_best - INFO - Optimization finished | best cost: 213.68686189402604, best pos: [0.81168809 1.09758988 0.91194015 0.79532422 0.26369975 0.3048466\n",
            " 0.45691097 0.3369225  0.33364328 0.28687585 1.18533381 0.92204607\n",
            " 0.21371739 0.88730496 0.40276191 0.98211595 0.68508    0.99892865\n",
            " 0.78708332 0.2471068  0.61695481 0.41902921 0.49337797 1.17309609]\n",
            "2023-12-28 19:22:52,096 - pyswarms.single.global_best - INFO - Optimize for 1 iters with {'c1': 0.5, 'c2': 0.3, 'w': 0.9}\n"
          ]
        },
        {
          "output_type": "stream",
          "name": "stdout",
          "text": [
            "\n",
            "=========================================================================\n",
            "\n",
            "Número de ciclos de manutenção: 2 2\n",
            "Tempos para manutenções preventivas: [0, 32, 305]\n",
            "Severidade para cada subsistema: [0.5, 0.5]\n",
            "Número de Sisemas: 2\n",
            "Fator:  [0.4828472337947568, 0.28086665617199813, 0.28086665617199813]\n",
            "Media de falhas:  [0, 0.21397212893789638, 2.0532505176924447, 4.927369241527933]\n",
            "Custo =  377.33006161862255\n"
          ]
        },
        {
          "output_type": "stream",
          "name": "stderr",
          "text": [
            "pyswarms.single.global_best: 100%|██████████|1/1, best_cost=214\n",
            "2023-12-28 19:22:52,119 - pyswarms.single.global_best - INFO - Optimization finished | best cost: 213.68686189402604, best pos: [0.81168674 1.09809683 0.91191101 0.79032175 0.26369509 0.30484679\n",
            " 0.45691419 0.33482142 0.33364325 0.34587455 1.18529526 0.92204611\n",
            " 0.21373532 0.88662057 0.3967626  0.98358776 0.68508014 0.99893374\n",
            " 0.78709068 0.70199686 0.61695628 0.41903394 0.49337799 1.17245672]\n",
            "2023-12-28 19:22:52,123 - pyswarms.single.global_best - INFO - Optimize for 1 iters with {'c1': 0.5, 'c2': 0.3, 'w': 0.9}\n"
          ]
        },
        {
          "output_type": "stream",
          "name": "stdout",
          "text": [
            "\n",
            "=========================================================================\n",
            "\n",
            "Número de ciclos de manutenção: 4 2\n",
            "Tempos para manutenções preventivas: [0, 32, 91, 127, 305]\n",
            "Severidade para cada subsistema: [0.5, 0.5, 0.5, 0.5]\n",
            "Número de Sisemas: 2\n",
            "Fator:  [0.4828472337947568, 0.28086665617199813, 0.28086665617199813, 0.28086665617199813, 0.28086665617199813]\n",
            "Media de falhas:  [0, 0.21397212893789638, 0.6100955642622395, 0.8523094952952581, 2.0527216542120765, 4.926840378047565]\n",
            "Custo =  672.4247650859076\n"
          ]
        },
        {
          "output_type": "stream",
          "name": "stderr",
          "text": [
            "\rpyswarms.single.global_best:   0%|          |0/1"
          ]
        },
        {
          "output_type": "stream",
          "name": "stdout",
          "text": [
            "\n",
            "=========================================================================\n",
            "\n",
            "Número de ciclos de manutenção: 2 2\n",
            "Tempos para manutenções preventivas: [0, 32, 305]\n",
            "Severidade para cada subsistema: [0.5, 0.5]\n",
            "Número de Sisemas: 2\n",
            "Fator:  [0.4828472337947568, 0.28086665617199813, 0.28086665617199813]\n",
            "Media de falhas:  [0, 0.21397212893789638, 2.0532505176924447, 4.927369241527933]\n"
          ]
        },
        {
          "output_type": "stream",
          "name": "stderr",
          "text": [
            "pyswarms.single.global_best: 100%|██████████|1/1, best_cost=214\n",
            "2023-12-28 19:22:52,149 - pyswarms.single.global_best - INFO - Optimization finished | best cost: 213.68686189402604, best pos: [0.81168576 1.09825088 0.91193769 0.79597503 0.26368947 0.30484686\n",
            " 0.45691702 0.33320414 0.33364325 0.39630904 1.18526718 0.92204664\n",
            " 0.21374537 0.88608001 0.39226575 0.98559338 0.6850798  0.99893537\n",
            " 0.78709712 1.14332103 0.61695767 0.41903826 0.49337799 1.17160128]\n",
            "2023-12-28 19:22:52,154 - pyswarms.single.global_best - INFO - Optimize for 1 iters with {'c1': 0.5, 'c2': 0.3, 'w': 0.9}\n"
          ]
        },
        {
          "output_type": "stream",
          "name": "stdout",
          "text": [
            "Custo =  377.33006161862255\n"
          ]
        },
        {
          "output_type": "stream",
          "name": "stderr",
          "text": [
            "pyswarms.single.global_best: 100%|██████████|1/1, best_cost=214\n",
            "2023-12-28 19:22:52,176 - pyswarms.single.global_best - INFO - Optimization finished | best cost: 213.68686189402604, best pos: [0.81168559 1.09742997 0.91200794 0.8024642  0.26368423 0.30484682\n",
            " 0.45691917 0.33260876 0.33364328 0.42263375 1.18528194 0.92204719\n",
            " 0.21374697 0.88587328 0.39405877 0.98748748 0.68507928 0.99893577\n",
            " 0.78709599 0.18063253 0.6169588  0.41904928 0.49337797 1.17080786]\n",
            "2023-12-28 19:22:52,181 - pyswarms.single.global_best - INFO - Optimize for 1 iters with {'c1': 0.5, 'c2': 0.3, 'w': 0.9}\n"
          ]
        },
        {
          "output_type": "stream",
          "name": "stdout",
          "text": [
            "\n",
            "=========================================================================\n",
            "\n",
            "Número de ciclos de manutenção: 3 2\n",
            "Tempos para manutenções preventivas: [0, 33, 158, 305]\n",
            "Severidade para cada subsistema: [0.5, 0.5, 0.5]\n",
            "Número de Sisemas: 2\n",
            "Fator:  [0.4828472337947568, 0.28086665617199813, 0.28086665617199813, 0.28086665617199813]\n",
            "Media de falhas:  [0, 0.2206803331930953, 1.061246253913924, 2.0527676156337376, 4.926886339469226]\n",
            "Custo =  498.70967150861713\n"
          ]
        },
        {
          "output_type": "stream",
          "name": "stderr",
          "text": [
            "pyswarms.single.global_best: 100%|██████████|1/1, best_cost=214\n",
            "2023-12-28 19:22:52,207 - pyswarms.single.global_best - INFO - Optimization finished | best cost: 213.68686189402604, best pos: [0.81168618 1.096453   0.91209825 0.81321472 0.26368061 0.30484669\n",
            " 0.45691955 0.33313973 0.33364333 0.41922634 1.18532578 0.92204771\n",
            " 0.21373913 0.88600035 0.39895859 0.98885404 0.68507795 0.9989302\n",
            " 0.78709085 0.60040126 0.61695961 0.41906182 0.49337795 1.17022719]\n",
            "2023-12-28 19:22:52,212 - pyswarms.single.global_best - INFO - Optimize for 1 iters with {'c1': 0.5, 'c2': 0.3, 'w': 0.9}\n"
          ]
        },
        {
          "output_type": "stream",
          "name": "stdout",
          "text": [
            "\n",
            "=========================================================================\n",
            "\n",
            "Número de ciclos de manutenção: 3 2\n",
            "Tempos para manutenções preventivas: [0, 33, 305, 693]\n",
            "Severidade para cada subsistema: [0.5, 0.5, 0.5]\n",
            "Número de Sisemas: 2\n",
            "Fator:  [0.4828472337947568, 0.28086665617199813, 0.28086665617199813, 0.28086665617199813]\n",
            "Media de falhas:  [0, 0.2206803331930953, 2.0532352001313017, 4.676806825289469, 4.927201614647676]\n",
            "Custo =  531.4750875939039\n"
          ]
        },
        {
          "output_type": "stream",
          "name": "stderr",
          "text": [
            "pyswarms.single.global_best: 100%|██████████|1/1, best_cost=214\n",
            "2023-12-28 19:22:52,236 - pyswarms.single.global_best - INFO - Optimization finished | best cost: 213.68686189402604, best pos: [0.81168732 1.09521166 0.91218785 0.82538496 0.26367753 0.30484649\n",
            " 0.45691974 0.33372226 0.33364338 0.39214845 1.18539836 0.92204823\n",
            " 0.21372843 0.88637928 0.40783586 0.98990267 0.68507616 0.99892201\n",
            " 0.78708485 1.03655915 0.61695957 0.41907347 0.49337791 1.16997732]\n",
            "2023-12-28 19:22:52,238 - pyswarms.single.global_best - INFO - Optimize for 1 iters with {'c1': 0.5, 'c2': 0.3, 'w': 0.9}\n"
          ]
        },
        {
          "output_type": "stream",
          "name": "stdout",
          "text": [
            "\n",
            "=========================================================================\n",
            "\n",
            "Número de ciclos de manutenção: 5 2\n",
            "Tempos para manutenções preventivas: [0, 33, 95, 151, 305, 511]\n",
            "Severidade para cada subsistema: [0.5, 0.5, 0.5, 0.5, 0.5]\n",
            "Número de Sisemas: 2\n",
            "Fator:  [0.4828472337947568, 0.28086665617199813, 0.28086665617199813, 0.28086665617199813, 0.28086665617199813, 0.28086665617199813]\n",
            "Media de falhas:  [0, 0.2206803331930953, 0.6370006893236866, 1.013941889685704, 2.0526405138969794, 3.444563992093804, 4.926211466223466]\n",
            "Custo =  766.4131828484933\n"
          ]
        },
        {
          "output_type": "stream",
          "name": "stderr",
          "text": [
            "pyswarms.single.global_best: 100%|██████████|1/1, best_cost=214\n",
            "2023-12-28 19:22:52,269 - pyswarms.single.global_best - INFO - Optimization finished | best cost: 213.68686189402604, best pos: [0.81168877 1.09405957 0.91225392 0.83643081 0.26367663 0.30484632\n",
            " 0.45691966 0.33499537 0.33364343 0.36606509 1.18549252 0.92204867\n",
            " 0.213716   0.88680428 0.41742057 0.99006964 0.6850742  0.99891344\n",
            " 0.78707689 0.11470986 0.61695911 0.41908376 0.49337787 1.17003084]\n",
            "2023-12-28 19:22:52,272 - pyswarms.single.global_best - INFO - Optimize for 1 iters with {'c1': 0.5, 'c2': 0.3, 'w': 0.9}\n"
          ]
        },
        {
          "output_type": "stream",
          "name": "stdout",
          "text": [
            "\n",
            "=========================================================================\n",
            "\n",
            "Número de ciclos de manutenção: 2 2\n",
            "Tempos para manutenções preventivas: [0, 33, 305]\n",
            "Severidade para cada subsistema: [0.5, 0.5]\n",
            "Número de Sisemas: 2\n",
            "Fator:  [0.4828472337947568, 0.28086665617199813, 0.28086665617199813]\n",
            "Media de falhas:  [0, 0.2206803331930953, 2.0532352001313017, 4.92735392396679]\n",
            "Custo =  375.4736219110209\n"
          ]
        },
        {
          "output_type": "stream",
          "name": "stderr",
          "text": [
            "pyswarms.single.global_best: 100%|██████████|1/1, best_cost=214\n",
            "2023-12-28 19:22:52,297 - pyswarms.single.global_best - INFO - Optimization finished | best cost: 213.68686189402604, best pos: [0.81169018 1.09316983 0.9123067  0.84583288 0.26367762 0.30484616\n",
            " 0.45691808 0.33626569 0.33364346 0.34008686 1.18557886 0.92204899\n",
            " 0.21370363 0.88723544 0.42629292 0.98940728 0.68507246 0.9989058\n",
            " 0.7870691  0.57867509 0.61695811 0.41908974 0.49337784 1.17027789]\n",
            "2023-12-28 19:22:52,300 - pyswarms.single.global_best - INFO - Optimize for 1 iters with {'c1': 0.5, 'c2': 0.3, 'w': 0.9}\n"
          ]
        },
        {
          "output_type": "stream",
          "name": "stdout",
          "text": [
            "\n",
            "=========================================================================\n",
            "\n",
            "Número de ciclos de manutenção: 4 2\n",
            "Tempos para manutenções preventivas: [0, 33, 305, 513, 690]\n",
            "Severidade para cada subsistema: [0.5, 0.5, 0.5, 0.5]\n",
            "Número de Sisemas: 2\n",
            "Fator:  [0.4828472337947568, 0.28086665617199813, 0.28086665617199813, 0.28086665617199813, 0.28086665617199813]\n",
            "Media de falhas:  [0, 0.2206803331930953, 2.0532352001313017, 3.458685263164497, 4.656031763697433, 4.92672770715462]\n",
            "Custo =  644.5786678988945\n"
          ]
        },
        {
          "output_type": "stream",
          "name": "stderr",
          "text": [
            "pyswarms.single.global_best: 100%|██████████|1/1, best_cost=214\n",
            "2023-12-28 19:22:52,328 - pyswarms.single.global_best - INFO - Optimization finished | best cost: 213.68686189402604, best pos: [0.81169131 1.09271635 0.91231839 0.85121953 0.26368164 0.30484601\n",
            " 0.45691543 0.33740189 0.33364348 0.31265331 1.18565351 0.92204917\n",
            " 0.21369304 0.88760294 0.43353007 0.98869509 0.6850711  0.99890128\n",
            " 0.7870622  1.04550459 0.61695687 0.41909235 0.49337782 1.17063455]\n",
            "2023-12-28 19:22:52,331 - pyswarms.single.global_best - INFO - Optimize for 1 iters with {'c1': 0.5, 'c2': 0.3, 'w': 0.9}\n"
          ]
        },
        {
          "output_type": "stream",
          "name": "stdout",
          "text": [
            "\n",
            "=========================================================================\n",
            "\n",
            "Número de ciclos de manutenção: 2 2\n",
            "Tempos para manutenções preventivas: [0, 32, 305]\n",
            "Severidade para cada subsistema: [0.5, 0.5]\n",
            "Número de Sisemas: 2\n",
            "Fator:  [0.4828472337947568, 0.28086665617199813, 0.28086665617199813]\n",
            "Media de falhas:  [0, 0.21397212893789638, 2.0532505176924447, 4.927369241527933]\n",
            "Custo =  377.33006161862255\n"
          ]
        },
        {
          "output_type": "stream",
          "name": "stderr",
          "text": [
            "pyswarms.single.global_best: 100%|██████████|1/1, best_cost=214\n",
            "2023-12-28 19:22:52,359 - pyswarms.single.global_best - INFO - Optimization finished | best cost: 213.68686189402604, best pos: [0.81169208 1.09237463 0.91232362 0.85410112 0.26368667 0.30484591\n",
            " 0.45691303 0.33814475 0.33364348 0.28899908 1.18571794 0.92204918\n",
            " 0.21368582 0.88789851 0.43984669 0.98764718 0.68507063 0.99890052\n",
            " 0.78705662 0.11462993 0.61695576 0.41909446 0.49337781 1.17106583]\n"
          ]
        },
        {
          "output_type": "stream",
          "name": "stdout",
          "text": [
            "\n",
            "=========================================================================\n",
            "\n",
            "Número de ciclos de manutenção: 4 2\n",
            "Tempos para manutenções preventivas: [0, 32, 92, 305, 513]\n",
            "Severidade para cada subsistema: [0.5, 0.5, 0.5, 0.5]\n",
            "Número de Sisemas: 2\n",
            "Fator:  [0.4828472337947568, 0.28086665617199813, 0.28086665617199813, 0.28086665617199813, 0.28086665617199813]\n",
            "Media de falhas:  [0, 0.21397212893789638, 0.6168219136445355, 2.052942760163065, 3.4583928231962604, 4.926514396996786]\n",
            "Custo =  629.0397616200227\n"
          ]
        },
        {
          "output_type": "stream",
          "name": "stderr",
          "text": [
            "2023-12-28 19:22:52,363 - pyswarms.single.global_best - INFO - Optimize for 1 iters with {'c1': 0.5, 'c2': 0.3, 'w': 0.9}\n",
            "pyswarms.single.global_best: 100%|██████████|1/1, best_cost=214\n",
            "2023-12-28 19:22:52,386 - pyswarms.single.global_best - INFO - Optimization finished | best cost: 213.68686189402604, best pos: [0.81169276 1.09228659 0.91228816 0.85436556 0.2636913  0.30484592\n",
            " 0.45691099 0.33833691 0.33364347 0.27691823 1.18571621 0.92204912\n",
            " 0.21368234 0.8879418  0.44373453 0.98620808 0.68507091 0.99890259\n",
            " 0.78705316 0.64768075 0.61695507 0.41909592 0.4933778  1.17157419]\n",
            "2023-12-28 19:22:52,388 - pyswarms.single.global_best - INFO - Optimize for 1 iters with {'c1': 0.5, 'c2': 0.3, 'w': 0.9}\n"
          ]
        },
        {
          "output_type": "stream",
          "name": "stdout",
          "text": [
            "\n",
            "=========================================================================\n",
            "\n",
            "Número de ciclos de manutenção: 3 2\n",
            "Tempos para manutenções preventivas: [0, 32, 305, 691]\n",
            "Severidade para cada subsistema: [0.5, 0.5, 0.5]\n",
            "Número de Sisemas: 2\n",
            "Fator:  [0.4828472337947568, 0.28086665617199813, 0.28086665617199813, 0.28086665617199813]\n",
            "Media de falhas:  [0, 0.21397212893789638, 2.0532505176924447, 4.6632804122400575, 4.927209323529178]\n",
            "Custo =  530.5852452254516\n"
          ]
        },
        {
          "output_type": "stream",
          "name": "stderr",
          "text": [
            "pyswarms.single.global_best: 100%|██████████|1/1, best_cost=214\n",
            "2023-12-28 19:22:52,415 - pyswarms.single.global_best - INFO - Optimization finished | best cost: 213.68686189402604, best pos: [0.81169322 1.09234548 0.91223051 0.851959   0.26369484 0.30484593\n",
            " 0.45690972 0.33845171 0.33364343 0.26706931 1.18568432 0.92204887\n",
            " 0.2136853  0.88775212 0.44165184 0.9848445  0.68507201 0.99890533\n",
            " 0.78705558 1.17145383 0.6169549  0.41909425 0.4933778  1.1720188 ]\n",
            "2023-12-28 19:22:52,422 - pyswarms.single.global_best - INFO - Optimize for 1 iters with {'c1': 0.5, 'c2': 0.3, 'w': 0.9}\n"
          ]
        },
        {
          "output_type": "stream",
          "name": "stdout",
          "text": [
            "\n",
            "=========================================================================\n",
            "\n",
            "Número de ciclos de manutenção: 3 2\n",
            "Tempos para manutenções preventivas: [0, 32, 305, 510]\n",
            "Severidade para cada subsistema: [0.5, 0.5, 0.5]\n",
            "Número de Sisemas: 2\n",
            "Fator:  [0.4828472337947568, 0.28086665617199813, 0.28086665617199813, 0.28086665617199813]\n",
            "Media de falhas:  [0, 0.21397212893789638, 2.0532505176924447, 3.4384107791958973, 4.926821162518919]\n",
            "Custo =  492.8674175486686\n"
          ]
        },
        {
          "output_type": "stream",
          "name": "stderr",
          "text": [
            "pyswarms.single.global_best: 100%|██████████|1/1, best_cost=214\n",
            "2023-12-28 19:22:52,452 - pyswarms.single.global_best - INFO - Optimization finished | best cost: 213.68686189402604, best pos: [0.81169268 1.09250182 0.91214945 0.84356569 0.26369634 0.30484595\n",
            " 0.45690874 0.33809205 0.33364339 0.27259106 1.18561665 0.92204858\n",
            " 0.21368903 0.88747783 0.43628162 0.98379493 0.68507347 0.99890908\n",
            " 0.78705998 0.29481106 0.61695518 0.41909    0.49337782 1.17227205]\n",
            "2023-12-28 19:22:52,454 - pyswarms.single.global_best - INFO - Optimize for 1 iters with {'c1': 0.5, 'c2': 0.3, 'w': 0.9}\n"
          ]
        },
        {
          "output_type": "stream",
          "name": "stdout",
          "text": [
            "\n",
            "=========================================================================\n",
            "\n",
            "Número de ciclos de manutenção: 2 2\n",
            "Tempos para manutenções preventivas: [0, 32, 305]\n",
            "Severidade para cada subsistema: [0.5, 0.5]\n",
            "Número de Sisemas: 2\n",
            "Fator:  [0.4828472337947568, 0.28086665617199813, 0.28086665617199813]\n",
            "Media de falhas:  [0, 0.21397212893789638, 2.0532505176924447, 4.927369241527933]\n",
            "Custo =  377.33006161862255\n"
          ]
        },
        {
          "output_type": "stream",
          "name": "stderr",
          "text": [
            "pyswarms.single.global_best: 100%|██████████|1/1, best_cost=214\n",
            "2023-12-28 19:22:52,470 - pyswarms.single.global_best - INFO - Optimization finished | best cost: 213.68686189402604, best pos: [0.81169186 1.09311529 0.91207329 0.83382148 0.26369548 0.304846\n",
            " 0.45690899 0.3373783  0.33364334 0.29139174 1.18552176 0.9220483\n",
            " 0.21369398 0.88720449 0.43141184 0.98302141 0.68507498 0.99891357\n",
            " 0.78706521 0.7257608  0.61695565 0.41907893 0.49337784 1.17231873]\n",
            "2023-12-28 19:22:52,472 - pyswarms.single.global_best - INFO - Optimize for 1 iters with {'c1': 0.5, 'c2': 0.3, 'w': 0.9}\n"
          ]
        },
        {
          "output_type": "stream",
          "name": "stdout",
          "text": [
            "\n",
            "=========================================================================\n",
            "\n",
            "Número de ciclos de manutenção: 3 2\n",
            "Tempos para manutenções preventivas: [0, 32, 151, 305]\n",
            "Severidade para cada subsistema: [0.5, 0.5, 0.5]\n",
            "Número de Sisemas: 2\n",
            "Fator:  [0.4828472337947568, 0.28086665617199813, 0.28086665617199813, 0.28086665617199813]\n",
            "Media de falhas:  [0, 0.21397212893789638, 1.014079431826887, 2.0527780560381625, 4.926896779873651]\n",
            "Custo =  500.764343464712\n"
          ]
        },
        {
          "output_type": "stream",
          "name": "stderr",
          "text": [
            "pyswarms.single.global_best:   0%|          |0/1, best_cost=214"
          ]
        },
        {
          "output_type": "stream",
          "name": "stdout",
          "text": [
            "\n",
            "=========================================================================\n",
            "\n",
            "Número de ciclos de manutenção: 2 2\n",
            "Tempos para manutenções preventivas: [0, 32, 305]\n",
            "Severidade para cada subsistema: [0.5, 0.5]\n",
            "Número de Sisemas: 2\n",
            "Fator:  [0.4828472337947568, 0.28086665617199813, 0.28086665617199813]\n",
            "Media de falhas:  [0, 0.21397212893789638, 2.0532505176924447, 4.927369241527933]\n",
            "Custo =  377.33006161862255\n"
          ]
        },
        {
          "output_type": "stream",
          "name": "stderr",
          "text": [
            "\rpyswarms.single.global_best: 100%|██████████|1/1, best_cost=214\n",
            "2023-12-28 19:22:52,528 - pyswarms.single.global_best - INFO - Optimization finished | best cost: 213.68686189402604, best pos: [0.81169097 1.0938389  0.91201549 0.82435028 0.26369351 0.30484608\n",
            " 0.45691    0.33662716 0.3336433  0.30937352 1.18543355 0.922048\n",
            " 0.21370273 0.8869506  0.42488667 0.98249317 0.68507625 0.99891778\n",
            " 0.78707195 1.13651121 0.61695624 0.41906847 0.49337786 1.17212868]\n",
            "2023-12-28 19:22:52,530 - pyswarms.single.global_best - INFO - Optimize for 1 iters with {'c1': 0.5, 'c2': 0.3, 'w': 0.9}\n",
            "pyswarms.single.global_best: 100%|██████████|1/1, best_cost=214\n",
            "2023-12-28 19:22:52,560 - pyswarms.single.global_best - INFO - Optimization finished | best cost: 213.68686189402604, best pos: [0.81168999 1.09457116 0.91196862 0.81632204 0.2636904  0.30484616\n",
            " 0.45691114 0.33585104 0.33364328 0.32756573 1.18537361 0.92204773\n",
            " 0.21371181 0.88674414 0.41850208 0.98262834 0.68507722 0.99892108\n",
            " 0.78707828 0.11308451 0.61695683 0.41905825 0.49337789 1.17188243]\n",
            "2023-12-28 19:22:52,562 - pyswarms.single.global_best - INFO - Optimize for 1 iters with {'c1': 0.5, 'c2': 0.3, 'w': 0.9}\n"
          ]
        },
        {
          "output_type": "stream",
          "name": "stdout",
          "text": [
            "\n",
            "=========================================================================\n",
            "\n",
            "Número de ciclos de manutenção: 3 2\n",
            "Tempos para manutenções preventivas: [0, 32, 127, 305]\n",
            "Severidade para cada subsistema: [0.5, 0.5, 0.5]\n",
            "Número de Sisemas: 2\n",
            "Fator:  [0.4828472337947568, 0.28086665617199813, 0.28086665617199813, 0.28086665617199813]\n",
            "Media de falhas:  [0, 0.21397212893789638, 0.8523987568143254, 2.0528109157311434, 4.926929639566632]\n",
            "Custo =  503.19592119852126\n"
          ]
        },
        {
          "output_type": "stream",
          "name": "stderr",
          "text": [
            "pyswarms.single.global_best:   0%|          |0/1, best_cost=214"
          ]
        },
        {
          "output_type": "stream",
          "name": "stdout",
          "text": [
            "\n",
            "=========================================================================\n",
            "\n",
            "Número de ciclos de manutenção: 5 2\n",
            "Tempos para manutenções preventivas: [0, 32, 97, 152, 305, 514]\n",
            "Severidade para cada subsistema: [0.5, 0.5, 0.5, 0.5, 0.5]\n",
            "Número de Sisemas: 2\n",
            "Fator:  [0.4828472337947568, 0.28086665617199813, 0.28086665617199813, 0.28086665617199813, 0.28086665617199813, 0.28086665617199813]\n",
            "Media de falhas:  [0, 0.21397212893789638, 0.650457778202124, 1.0206802260894188, 2.052639522416615, 3.464852953357104, 4.926211536142091]\n",
            "Custo =  767.5407971607088\n"
          ]
        },
        {
          "output_type": "stream",
          "name": "stderr",
          "text": [
            "\rpyswarms.single.global_best: 100%|██████████|1/1, best_cost=214\n",
            "2023-12-28 19:22:52,582 - pyswarms.single.global_best - INFO - Optimization finished | best cost: 213.68686189402604, best pos: [0.811689   1.09531224 0.91195435 0.80911293 0.26368758 0.30484623\n",
            " 0.45691295 0.33519452 0.33364328 0.343562   1.18534105 0.9220476\n",
            " 0.21371939 0.88664765 0.41283797 0.98349683 0.68507798 0.99892395\n",
            " 0.78708287 0.52043363 0.61695737 0.41905012 0.49337791 1.17165357]\n",
            "2023-12-28 19:22:52,597 - pyswarms.single.global_best - INFO - Optimize for 1 iters with {'c1': 0.5, 'c2': 0.3, 'w': 0.9}\n",
            "pyswarms.single.global_best: 100%|██████████|1/1, best_cost=214\n",
            "2023-12-28 19:22:52,618 - pyswarms.single.global_best - INFO - Optimization finished | best cost: 213.68686189402604, best pos: [0.81168812 1.09592197 0.91197426 0.80655185 0.26368507 0.30484629\n",
            " 0.4569147  0.33487782 0.33364328 0.35535021 1.18535566 0.92204749\n",
            " 0.21372334 0.8865972  0.40798384 0.98443997 0.6850778  0.99892441\n",
            " 0.78708669 0.9601729  0.61695784 0.41904437 0.49337793 1.1714209 ]\n",
            "2023-12-28 19:22:52,626 - pyswarms.single.global_best - INFO - Optimize for 1 iters with {'c1': 0.5, 'c2': 0.3, 'w': 0.9}\n"
          ]
        },
        {
          "output_type": "stream",
          "name": "stdout",
          "text": [
            "\n",
            "=========================================================================\n",
            "\n",
            "Número de ciclos de manutenção: 3 2\n",
            "Tempos para manutenções preventivas: [0, 32, 305, 691]\n",
            "Severidade para cada subsistema: [0.5, 0.5, 0.5]\n",
            "Número de Sisemas: 2\n",
            "Fator:  [0.4828472337947568, 0.28086665617199813, 0.28086665617199813, 0.28086665617199813]\n",
            "Media de falhas:  [0, 0.21397212893789638, 2.0532505176924447, 4.6632804122400575, 4.927209323529178]\n",
            "Custo =  530.5852452254516\n"
          ]
        },
        {
          "output_type": "stream",
          "name": "stderr",
          "text": [
            "\rpyswarms.single.global_best:   0%|          |0/1"
          ]
        },
        {
          "output_type": "stream",
          "name": "stdout",
          "text": [
            "\n",
            "=========================================================================\n",
            "\n",
            "Número de ciclos de manutenção: 3 2\n",
            "Tempos para manutenções preventivas: [0, 32, 123, 305]\n",
            "Severidade para cada subsistema: [0.5, 0.5, 0.5]\n",
            "Número de Sisemas: 2\n",
            "Fator:  [0.4828472337947568, 0.28086665617199813, 0.28086665617199813, 0.28086665617199813]\n",
            "Media de falhas:  [0, 0.21397212893789638, 0.8254621429249835, 2.0528204548432853, 4.926939178678774]\n"
          ]
        },
        {
          "output_type": "stream",
          "name": "stderr",
          "text": [
            "pyswarms.single.global_best: 100%|██████████|1/1, best_cost=214\n",
            "2023-12-28 19:22:52,660 - pyswarms.single.global_best - INFO - Optimization finished | best cost: 213.68686189402604, best pos: [0.81168765 1.09639298 0.91203015 0.80537315 0.26368354 0.30484635\n",
            " 0.45691617 0.33462048 0.3336433  0.36126041 1.18540102 0.92204743\n",
            " 0.21372673 0.88660075 0.40416213 0.98539114 0.68507663 0.9989248\n",
            " 0.78708799 0.05188417 0.61695807 0.41904206 0.49337793 1.17122456]\n",
            "2023-12-28 19:22:52,662 - pyswarms.single.global_best - INFO - Optimize for 1 iters with {'c1': 0.5, 'c2': 0.3, 'w': 0.9}\n"
          ]
        },
        {
          "output_type": "stream",
          "name": "stdout",
          "text": [
            "Custo =  503.8627972093276\n"
          ]
        },
        {
          "output_type": "stream",
          "name": "stderr",
          "text": [
            "\rpyswarms.single.global_best:   0%|          |0/1"
          ]
        },
        {
          "output_type": "stream",
          "name": "stdout",
          "text": [
            "\n",
            "=========================================================================\n",
            "\n",
            "Número de ciclos de manutenção: 4 2\n",
            "Tempos para manutenções preventivas: [0, 32, 90, 154, 305]\n",
            "Severidade para cada subsistema: [0.5, 0.5, 0.5, 0.5]\n",
            "Número de Sisemas: 2\n",
            "Fator:  [0.4828472337947568, 0.28086665617199813, 0.28086665617199813, 0.28086665617199813, 0.28086665617199813]\n",
            "Media de falhas:  [0, 0.21397212893789638, 0.6033694977695013, 1.034159147056322, 2.0526395039485017, 4.92675822778399]\n"
          ]
        },
        {
          "output_type": "stream",
          "name": "stderr",
          "text": [
            "pyswarms.single.global_best: 100%|██████████|1/1, best_cost=214\n",
            "2023-12-28 19:22:52,696 - pyswarms.single.global_best - INFO - Optimization finished | best cost: 213.68686189402604, best pos: [0.81168754 1.09646732 0.91210286 0.80487736 0.26368268 0.30484638\n",
            " 0.45691704 0.33460048 0.33364332 0.36259583 1.1854642  0.92204746\n",
            " 0.21372573 0.88664803 0.40508574 0.98634297 0.68507546 0.99892362\n",
            " 0.7870876  0.42099976 0.61695795 0.41904012 0.49337793 1.17113242]\n",
            "2023-12-28 19:22:52,698 - pyswarms.single.global_best - INFO - Optimize for 1 iters with {'c1': 0.5, 'c2': 0.3, 'w': 0.9}\n"
          ]
        },
        {
          "output_type": "stream",
          "name": "stdout",
          "text": [
            "Custo =  650.7686794118949\n"
          ]
        },
        {
          "output_type": "stream",
          "name": "stderr",
          "text": [
            "pyswarms.single.global_best: 100%|██████████|1/1, best_cost=214\n",
            "2023-12-28 19:22:52,728 - pyswarms.single.global_best - INFO - Optimization finished | best cost: 213.68686189402604, best pos: [0.8116877  1.09612251 0.91216867 0.8048004  0.26368284 0.30484639\n",
            " 0.45691738 0.33475247 0.33364334 0.35515242 1.18552568 0.92204756\n",
            " 0.21372329 0.88672127 0.40829079 0.98717311 0.68507435 0.99892024\n",
            " 0.78708455 0.85430994 0.6169577  0.41904001 0.49337792 1.17116303]\n",
            "2023-12-28 19:22:52,733 - pyswarms.single.global_best - INFO - Optimize for 1 iters with {'c1': 0.5, 'c2': 0.3, 'w': 0.9}\n"
          ]
        },
        {
          "output_type": "stream",
          "name": "stdout",
          "text": [
            "\n",
            "=========================================================================\n",
            "\n",
            "Número de ciclos de manutenção: 4 2\n",
            "Tempos para manutenções preventivas: [0, 32, 126, 305, 693]\n",
            "Severidade para cada subsistema: [0.5, 0.5, 0.5, 0.5]\n",
            "Número de Sisemas: 2\n",
            "Fator:  [0.4828472337947568, 0.28086665617199813, 0.28086665617199813, 0.28086665617199813, 0.28086665617199813]\n",
            "Media de falhas:  [0, 0.21397212893789638, 0.8456643112369224, 2.0528131830404823, 4.67638480819865, 4.926779597556857]\n",
            "Custo =  659.3557186196865\n"
          ]
        },
        {
          "output_type": "stream",
          "name": "stderr",
          "text": [
            "\rpyswarms.single.global_best:   0%|          |0/1"
          ]
        },
        {
          "output_type": "stream",
          "name": "stdout",
          "text": [
            "\n",
            "=========================================================================\n",
            "\n",
            "Número de ciclos de manutenção: 3 2\n",
            "Tempos para manutenções preventivas: [0, 32, 305, 513]\n",
            "Severidade para cada subsistema: [0.5, 0.5, 0.5]\n",
            "Número de Sisemas: 2\n",
            "Fator:  [0.4828472337947568, 0.28086665617199813, 0.28086665617199813, 0.28086665617199813]\n",
            "Media de falhas:  [0, 0.21397212893789638, 2.0532505176924447, 3.45870058072564, 4.926822154526166]\n"
          ]
        },
        {
          "output_type": "stream",
          "name": "stderr",
          "text": [
            "pyswarms.single.global_best: 100%|██████████|1/1, best_cost=214\n",
            "2023-12-28 19:22:52,763 - pyswarms.single.global_best - INFO - Optimization finished | best cost: 213.68686189402604, best pos: [0.81168787 1.0955305  0.91221957 0.80835523 0.26368463 0.30484638\n",
            " 0.45691759 0.33528511 0.33364336 0.34372169 1.18557983 0.92204773\n",
            " 0.21371809 0.8867893  0.41200716 0.98779657 0.68507336 0.99891572\n",
            " 0.78708075 1.24081152 0.61695744 0.41904011 0.4933779  1.17129288]\n",
            "2023-12-28 19:22:52,767 - pyswarms.single.global_best - INFO - Optimize for 1 iters with {'c1': 0.5, 'c2': 0.3, 'w': 0.9}\n"
          ]
        },
        {
          "output_type": "stream",
          "name": "stdout",
          "text": [
            "Custo =  492.8542993223188\n"
          ]
        },
        {
          "output_type": "stream",
          "name": "stderr",
          "text": [
            "pyswarms.single.global_best: 100%|██████████|1/1, best_cost=214\n",
            "2023-12-28 19:22:52,793 - pyswarms.single.global_best - INFO - Optimization finished | best cost: 213.68686189402604, best pos: [0.81168815 1.09496319 0.91225077 0.8126893  0.26368688 0.30484637\n",
            " 0.45691739 0.33578938 0.33364338 0.33235133 1.18562156 0.92204791\n",
            " 0.21371209 0.8868864  0.41634657 0.98811792 0.68507255 0.99891146\n",
            " 0.78707709 0.24526113 0.6169572  0.41904523 0.49337788 1.17146618]\n",
            "2023-12-28 19:22:52,801 - pyswarms.single.global_best - INFO - Optimize for 1 iters with {'c1': 0.5, 'c2': 0.3, 'w': 0.9}\n"
          ]
        },
        {
          "output_type": "stream",
          "name": "stdout",
          "text": [
            "\n",
            "=========================================================================\n",
            "\n",
            "Número de ciclos de manutenção: 4 2\n",
            "Tempos para manutenções preventivas: [0, 32, 122, 153, 305]\n",
            "Severidade para cada subsistema: [0.5, 0.5, 0.5, 0.5]\n",
            "Número de Sisemas: 2\n",
            "Fator:  [0.4828472337947568, 0.28086665617199813, 0.28086665617199813, 0.28086665617199813, 0.28086665617199813]\n",
            "Media de falhas:  [0, 0.21397212893789638, 0.8187284822742165, 1.0274453998042659, 2.0526652734696156, 4.926783997305105]\n",
            "Custo =  671.7988444285531\n"
          ]
        },
        {
          "output_type": "stream",
          "name": "stderr",
          "text": [
            "pyswarms.single.global_best: 100%|██████████|1/1, best_cost=214\n",
            "2023-12-28 19:22:52,829 - pyswarms.single.global_best - INFO - Optimization finished | best cost: 213.68686189402604, best pos: [0.81168852 1.09445926 0.91226364 0.81998463 0.263689   0.30484634\n",
            " 0.45691621 0.3363286  0.33364339 0.32050465 1.18564333 0.92204811\n",
            " 0.21370623 0.88702518 0.42085748 0.98838566 0.6850722  0.99890831\n",
            " 0.78707299 0.57491418 0.61695697 0.41905112 0.49337787 1.17163277]\n",
            "2023-12-28 19:22:52,834 - pyswarms.single.global_best - INFO - Optimize for 1 iters with {'c1': 0.5, 'c2': 0.3, 'w': 0.9}\n"
          ]
        },
        {
          "output_type": "stream",
          "name": "stdout",
          "text": [
            "\n",
            "=========================================================================\n",
            "\n",
            "Número de ciclos de manutenção: 3 2\n",
            "Tempos para manutenções preventivas: [0, 32, 98, 305]\n",
            "Severidade para cada subsistema: [0.5, 0.5, 0.5]\n",
            "Número de Sisemas: 2\n",
            "Fator:  [0.4828472337947568, 0.28086665617199813, 0.28086665617199813, 0.28086665617199813]\n",
            "Media de falhas:  [0, 0.21397212893789638, 0.6571857507535187, 2.052911577058715, 4.927030300894204]\n",
            "Custo =  510.77958944033793\n"
          ]
        },
        {
          "output_type": "stream",
          "name": "stderr",
          "text": [
            "pyswarms.single.global_best:   0%|          |0/1, best_cost=214"
          ]
        },
        {
          "output_type": "stream",
          "name": "stdout",
          "text": [
            "\n",
            "=========================================================================\n",
            "\n",
            "Número de ciclos de manutenção: 3 2\n",
            "Tempos para manutenções preventivas: [0, 32, 305, 515]\n",
            "Severidade para cada subsistema: [0.5, 0.5, 0.5]\n",
            "Número de Sisemas: 2\n",
            "Fator:  [0.4828472337947568, 0.28086665617199813, 0.28086665617199813, 0.28086665617199813]\n",
            "Media de falhas:  [0, 0.21397212893789638, 2.0532505176924447, 3.47222736671008, 4.9268229313253284]\n",
            "Custo =  492.84973070055213\n"
          ]
        },
        {
          "output_type": "stream",
          "name": "stderr",
          "text": [
            "\rpyswarms.single.global_best: 100%|██████████|1/1, best_cost=214\n",
            "2023-12-28 19:22:52,861 - pyswarms.single.global_best - INFO - Optimization finished | best cost: 213.68686189402604, best pos: [0.81168885 1.0941659  0.91224523 0.82829308 0.2636908  0.30484629\n",
            " 0.456915   0.3367946  0.3336434  0.31054537 1.18566263 0.92204829\n",
            " 0.21370135 0.88715961 0.42446193 0.98852307 0.68507204 0.9989065\n",
            " 0.7870695  0.89199158 0.61695676 0.41905745 0.49337785 1.1717748 ]\n",
            "2023-12-28 19:22:52,863 - pyswarms.single.global_best - INFO - Optimize for 1 iters with {'c1': 0.5, 'c2': 0.3, 'w': 0.9}\n",
            "pyswarms.single.global_best:   0%|          |0/1"
          ]
        },
        {
          "output_type": "stream",
          "name": "stdout",
          "text": [
            "\n",
            "=========================================================================\n",
            "\n",
            "Número de ciclos de manutenção: 2 2\n",
            "Tempos para manutenções preventivas: [0, 32, 305]\n",
            "Severidade para cada subsistema: [0.5, 0.5]\n",
            "Número de Sisemas: 2\n",
            "Fator:  [0.4828472337947568, 0.28086665617199813, 0.28086665617199813]\n",
            "Media de falhas:  [0, 0.21397212893789638, 2.0532505176924447, 4.927369241527933]\n"
          ]
        },
        {
          "output_type": "stream",
          "name": "stderr",
          "text": [
            "pyswarms.single.global_best: 100%|██████████|1/1, best_cost=214\n",
            "2023-12-28 19:22:52,895 - pyswarms.single.global_best - INFO - Optimization finished | best cost: 213.68686189402604, best pos: [0.81168927 1.09405304 0.91221398 0.83558636 0.26369195 0.30484623\n",
            " 0.45691379 0.3371876  0.3336434  0.30429455 1.18567315 0.92204842\n",
            " 0.21369906 0.88725337 0.42650033 0.98816505 0.68507213 0.99890522\n",
            " 0.78706713 1.16998123 0.6169566  0.41906329 0.49337784 1.17186234]\n",
            "2023-12-28 19:22:52,900 - pyswarms.single.global_best - INFO - Optimize for 1 iters with {'c1': 0.5, 'c2': 0.3, 'w': 0.9}\n"
          ]
        },
        {
          "output_type": "stream",
          "name": "stdout",
          "text": [
            "Custo =  377.33006161862255\n"
          ]
        },
        {
          "output_type": "stream",
          "name": "stderr",
          "text": [
            "\rpyswarms.single.global_best:   0%|          |0/1"
          ]
        },
        {
          "output_type": "stream",
          "name": "stdout",
          "text": [
            "\n",
            "=========================================================================\n",
            "\n",
            "Número de ciclos de manutenção: 3 2\n",
            "Tempos para manutenções preventivas: [0, 32, 92, 305]\n",
            "Severidade para cada subsistema: [0.5, 0.5, 0.5]\n",
            "Número de Sisemas: 2\n",
            "Fator:  [0.4828472337947568, 0.28086665617199813, 0.28086665617199813, 0.28086665617199813]\n",
            "Media de falhas:  [0, 0.21397212893789638, 0.6168219136445355, 2.052942760163065, 4.927061483998553]\n"
          ]
        },
        {
          "output_type": "stream",
          "name": "stderr",
          "text": [
            "pyswarms.single.global_best: 100%|██████████|1/1, best_cost=214\n",
            "2023-12-28 19:22:52,927 - pyswarms.single.global_best - INFO - Optimization finished | best cost: 213.68686189402604, best pos: [0.81168969 1.09421907 0.91216638 0.84148012 0.26369254 0.30484617\n",
            " 0.45691271 0.33749242 0.3336434  0.30462958 1.18563904 0.92204849\n",
            " 0.21369816 0.88732095 0.42736465 0.98745883 0.68507232 0.99890596\n",
            " 0.78706654 0.06571635 0.61695648 0.41906871 0.49337784 1.17192819]\n",
            "2023-12-28 19:22:52,931 - pyswarms.single.global_best - INFO - Optimize for 1 iters with {'c1': 0.5, 'c2': 0.3, 'w': 0.9}\n"
          ]
        },
        {
          "output_type": "stream",
          "name": "stdout",
          "text": [
            "Custo =  513.5155239163264\n"
          ]
        },
        {
          "output_type": "stream",
          "name": "stderr",
          "text": [
            "\rpyswarms.single.global_best:   0%|          |0/1"
          ]
        },
        {
          "output_type": "stream",
          "name": "stdout",
          "text": [
            "\n",
            "=========================================================================\n",
            "\n",
            "Número de ciclos de manutenção: 3 2\n",
            "Tempos para manutenções preventivas: [0, 32, 305, 518]\n",
            "Severidade para cada subsistema: [0.5, 0.5, 0.5]\n",
            "Número de Sisemas: 2\n",
            "Fator:  [0.4828472337947568, 0.28086665617199813, 0.28086665617199813, 0.28086665617199813]\n",
            "Media de falhas:  [0, 0.21397212893789638, 2.0532505176924447, 3.492517920798489, 4.926824268573746]\n"
          ]
        },
        {
          "output_type": "stream",
          "name": "stderr",
          "text": [
            "\rpyswarms.single.global_best:   0%|          |0/1, best_cost=214"
          ]
        },
        {
          "output_type": "stream",
          "name": "stdout",
          "text": [
            "Custo =  492.849127595415\n"
          ]
        },
        {
          "output_type": "stream",
          "name": "stderr",
          "text": [
            "\rpyswarms.single.global_best: 100%|██████████|1/1, best_cost=214\n",
            "2023-12-28 19:22:52,959 - pyswarms.single.global_best - INFO - Optimization finished | best cost: 213.68686189402604, best pos: [0.81169006 1.09449405 0.91211933 0.84502209 0.26369253 0.30484614\n",
            " 0.45691196 0.33776289 0.3336434  0.30617668 1.18557972 0.92204851\n",
            " 0.2136977  0.88731185 0.42598242 0.98644385 0.68507259 0.99890902\n",
            " 0.78706653 0.24997307 0.6169564  0.41907235 0.49337784 1.17189116]\n",
            "2023-12-28 19:22:52,961 - pyswarms.single.global_best - INFO - Optimize for 1 iters with {'c1': 0.5, 'c2': 0.3, 'w': 0.9}\n",
            "pyswarms.single.global_best:   0%|          |0/1"
          ]
        },
        {
          "output_type": "stream",
          "name": "stdout",
          "text": [
            "\n",
            "=========================================================================\n",
            "\n",
            "Número de ciclos de manutenção: 3 2\n",
            "Tempos para manutenções preventivas: [0, 32, 154, 305]\n",
            "Severidade para cada subsistema: [0.5, 0.5, 0.5]\n",
            "Número de Sisemas: 2\n",
            "Fator:  [0.4828472337947568, 0.28086665617199813, 0.28086665617199813, 0.28086665617199813]\n",
            "Media de falhas:  [0, 0.21397212893789638, 1.034296276032361, 2.052776632924541, 4.9268953567600295]\n"
          ]
        },
        {
          "output_type": "stream",
          "name": "stderr",
          "text": [
            "pyswarms.single.global_best: 100%|██████████|1/1, best_cost=214\n",
            "2023-12-28 19:22:52,992 - pyswarms.single.global_best - INFO - Optimization finished | best cost: 213.68686189402604, best pos: [0.81169038 1.09476131 0.91207766 0.84654134 0.2636925  0.30484613\n",
            " 0.45691134 0.3378163  0.33364339 0.31331565 1.18550555 0.92204843\n",
            " 0.2137     0.88729217 0.42271741 0.98544254 0.68507333 0.99891252\n",
            " 0.78706782 0.42697187 0.61695636 0.41907557 0.49337785 1.1717988 ]\n",
            "2023-12-28 19:22:52,994 - pyswarms.single.global_best - INFO - Optimize for 1 iters with {'c1': 0.5, 'c2': 0.3, 'w': 0.9}\n"
          ]
        },
        {
          "output_type": "stream",
          "name": "stdout",
          "text": [
            "Custo =  500.61634956752476\n"
          ]
        },
        {
          "output_type": "stream",
          "name": "stderr",
          "text": [
            "pyswarms.single.global_best: 100%|██████████|1/1, best_cost=214"
          ]
        },
        {
          "output_type": "stream",
          "name": "stdout",
          "text": [
            "\n",
            "=========================================================================\n",
            "\n",
            "Número de ciclos de manutenção: 2 2\n",
            "Tempos para manutenções preventivas: [0, 32, 305]\n",
            "Severidade para cada subsistema: [0.5, 0.5]\n",
            "Número de Sisemas: 2\n",
            "Fator:  [0.4828472337947568, 0.28086665617199813, 0.28086665617199813]\n",
            "Media de falhas:  [0, 0.21397212893789638, 2.0532505176924447, 4.927369241527933]\n",
            "Custo =  377.33006161862255\n"
          ]
        },
        {
          "output_type": "stream",
          "name": "stderr",
          "text": [
            "\n",
            "2023-12-28 19:22:53,020 - pyswarms.single.global_best - INFO - Optimization finished | best cost: 213.68686189402604, best pos: [0.81169043 1.09503032 0.91205404 0.84370057 0.26369176 0.30484613\n",
            " 0.45691148 0.33753548 0.33364338 0.32329445 1.18543762 0.92204826\n",
            " 0.21370227 0.88726318 0.41939274 0.98459004 0.68507401 0.99891595\n",
            " 0.78706963 0.59524605 0.6169565  0.41907735 0.49337786 1.17169925]\n",
            "2023-12-28 19:22:53,028 - pyswarms.single.global_best - INFO - Optimize for 1 iters with {'c1': 0.5, 'c2': 0.3, 'w': 0.9}\n",
            "pyswarms.single.global_best:   0%|          |0/1"
          ]
        },
        {
          "output_type": "stream",
          "name": "stdout",
          "text": [
            "\n",
            "=========================================================================\n",
            "\n",
            "Número de ciclos de manutenção: 5 2\n",
            "Tempos para manutenções preventivas: [0, 32, 94, 120, 305, 516]\n",
            "Severidade para cada subsistema: [0.5, 0.5, 0.5, 0.5, 0.5]\n",
            "Número de Sisemas: 2\n",
            "Fator:  [0.4828472337947568, 0.28086665617199813, 0.28086665617199813, 0.28086665617199813, 0.28086665617199813, 0.28086665617199813]\n",
            "Media de falhas:  [0, 0.21397212893789638, 0.6302754464363273, 0.8051904028233118, 2.052757085961062, 3.478497403109211, 4.926329922460075]\n",
            "Custo =  807.2404643738855\n"
          ]
        },
        {
          "output_type": "stream",
          "name": "stderr",
          "text": [
            "pyswarms.single.global_best: 100%|██████████|1/1, best_cost=214\n",
            "2023-12-28 19:22:53,058 - pyswarms.single.global_best - INFO - Optimization finished | best cost: 213.68686189402604, best pos: [0.81169029 1.09527509 0.91204875 0.83912813 0.26369029 0.30484615\n",
            " 0.4569118  0.33715215 0.33364337 0.33270372 1.18539443 0.9220481\n",
            " 0.21370595 0.8872309  0.41629879 0.98415067 0.68507472 0.99891888\n",
            " 0.78707251 0.77837424 0.61695674 0.41907833 0.49337788 1.17156962]\n",
            "2023-12-28 19:22:53,062 - pyswarms.single.global_best - INFO - Optimize for 1 iters with {'c1': 0.5, 'c2': 0.3, 'w': 0.9}\n",
            "pyswarms.single.global_best:   0%|          |0/1, best_cost=214"
          ]
        },
        {
          "output_type": "stream",
          "name": "stdout",
          "text": [
            "\n",
            "=========================================================================\n",
            "\n",
            "Número de ciclos de manutenção: 3 2\n",
            "Tempos para manutenções preventivas: [0, 32, 153, 305]\n",
            "Severidade para cada subsistema: [0.5, 0.5, 0.5]\n",
            "Número de Sisemas: 2\n",
            "Fator:  [0.4828472337947568, 0.28086665617199813, 0.28086665617199813, 0.28086665617199813]\n",
            "Media de falhas:  [0, 0.21397212893789638, 1.0275571719147036, 2.0527770455800534, 4.926895769415542]\n",
            "Custo =  500.66228632427806\n"
          ]
        },
        {
          "output_type": "stream",
          "name": "stderr",
          "text": [
            "\rpyswarms.single.global_best: 100%|██████████|1/1, best_cost=214\n",
            "2023-12-28 19:22:53,085 - pyswarms.single.global_best - INFO - Optimization finished | best cost: 213.68686189402604, best pos: [0.81168993 1.0954877  0.91205779 0.83365171 0.26368857 0.30484619\n",
            " 0.45691247 0.33673052 0.33364336 0.33992168 1.18537584 0.92204795\n",
            " 0.21370935 0.88715485 0.41422563 0.98402243 0.68507534 0.99892105\n",
            " 0.78707533 0.95349026 0.61695702 0.41907764 0.4933779  1.17144459]\n",
            "2023-12-28 19:22:53,094 - pyswarms.single.global_best - INFO - Optimize for 1 iters with {'c1': 0.5, 'c2': 0.3, 'w': 0.9}\n",
            "pyswarms.single.global_best:   0%|          |0/1"
          ]
        },
        {
          "output_type": "stream",
          "name": "stdout",
          "text": [
            "\n",
            "=========================================================================\n",
            "\n",
            "Número de ciclos de manutenção: 3 2\n",
            "Tempos para manutenções preventivas: [0, 32, 123, 305]\n",
            "Severidade para cada subsistema: [0.5, 0.5, 0.5]\n",
            "Número de Sisemas: 2\n",
            "Fator:  [0.4828472337947568, 0.28086665617199813, 0.28086665617199813, 0.28086665617199813]"
          ]
        },
        {
          "output_type": "stream",
          "name": "stderr",
          "text": [
            "\rpyswarms.single.global_best:   0%|          |0/1, best_cost=214"
          ]
        },
        {
          "output_type": "stream",
          "name": "stdout",
          "text": [
            "\n",
            "Media de falhas:  [0, 0.21397212893789638, 0.8254621429249835, 2.0528204548432853, 4.926939178678774]\n",
            "Custo =  503.8627972093276\n"
          ]
        },
        {
          "output_type": "stream",
          "name": "stderr",
          "text": [
            "\rpyswarms.single.global_best: 100%|██████████|1/1, best_cost=214\n",
            "2023-12-28 19:22:53,124 - pyswarms.single.global_best - INFO - Optimization finished | best cost: 213.68686189402604, best pos: [0.81168952 1.0956402  0.91207412 0.82822798 0.26368701 0.30484623\n",
            " 0.45691312 0.33619901 0.33364335 0.34225501 1.18537565 0.92204783\n",
            " 0.21371233 0.88707935 0.41287469 0.98399931 0.68507565 0.99892262\n",
            " 0.78707759 1.07978767 0.61695727 0.41907601 0.49337791 1.17133449]\n",
            "2023-12-28 19:22:53,127 - pyswarms.single.global_best - INFO - Optimize for 1 iters with {'c1': 0.5, 'c2': 0.3, 'w': 0.9}\n",
            "pyswarms.single.global_best:   0%|          |0/1, best_cost=214"
          ]
        },
        {
          "output_type": "stream",
          "name": "stdout",
          "text": [
            "\n",
            "=========================================================================\n",
            "\n",
            "Número de ciclos de manutenção: 3 2\n",
            "Tempos para manutenções preventivas: [0, 32, 305, 512]\n",
            "Severidade para cada subsistema: [0.5, 0.5, 0.5]\n",
            "Número de Sisemas: 2\n",
            "Fator:  [0.4828472337947568, 0.28086665617199813, 0.28086665617199813, 0.28086665617199813]\n",
            "Media de falhas:  [0, 0.21397212893789638, 2.0532505176924447, 3.4519372631052265, 4.9268218007073115]\n",
            "Custo =  492.8578355845147\n"
          ]
        },
        {
          "output_type": "stream",
          "name": "stderr",
          "text": [
            "\rpyswarms.single.global_best: 100%|██████████|1/1, best_cost=214\n",
            "2023-12-28 19:22:53,158 - pyswarms.single.global_best - INFO - Optimization finished | best cost: 213.68686189402604, best pos: [0.81168913 1.09577745 0.91210393 0.82284552 0.263686   0.30484627\n",
            " 0.45691391 0.33572543 0.33364334 0.34279902 1.18539955 0.92204774\n",
            " 0.21371501 0.88700973 0.41186428 0.98424063 0.68507565 0.99892226\n",
            " 0.78707916 1.13568565 0.61695742 0.41907392 0.49337792 1.17124868]\n",
            "2023-12-28 19:22:53,161 - pyswarms.single.global_best - INFO - Optimize for 1 iters with {'c1': 0.5, 'c2': 0.3, 'w': 0.9}\n",
            "pyswarms.single.global_best:   0%|          |0/1, best_cost=214"
          ]
        },
        {
          "output_type": "stream",
          "name": "stdout",
          "text": [
            "\n",
            "=========================================================================\n",
            "\n",
            "Número de ciclos de manutenção: 5 2\n",
            "Tempos para manutenções preventivas: [0, 32, 97, 127, 305, 697]\n",
            "Severidade para cada subsistema: [0.5, 0.5, 0.5, 0.5, 0.5]\n",
            "Número de Sisemas: 2\n",
            "Fator:  [0.4828472337947568, 0.28086665617199813, 0.28086665617199813, 0.28086665617199813, 0.28086665617199813, 0.28086665617199813]\n",
            "Media de falhas:  [0, 0.21397212893789638, 0.650457778202124, 0.8523144077383678, 2.0527265666551857, 4.703382077642119, 4.926708393704989]\n",
            "Custo =  842.9335960431781\n"
          ]
        },
        {
          "output_type": "stream",
          "name": "stderr",
          "text": [
            "\rpyswarms.single.global_best: 100%|██████████|1/1, best_cost=214\n",
            "2023-12-28 19:22:53,189 - pyswarms.single.global_best - INFO - Optimization finished | best cost: 213.68686189402604, best pos: [0.81168882 1.09580351 0.91213107 0.8182437  0.2636855  0.3048463\n",
            " 0.4569146  0.33537054 0.33364334 0.34290909 1.1854381  0.92204771\n",
            " 0.21371591 0.88695996 0.41172076 0.98460834 0.68507554 0.9989203\n",
            " 0.78707945 1.11880596 0.61695744 0.41906964 0.49337792 1.17121742]\n",
            "2023-12-28 19:22:53,191 - pyswarms.single.global_best - INFO - Optimize for 1 iters with {'c1': 0.5, 'c2': 0.3, 'w': 0.9}\n",
            "pyswarms.single.global_best: 100%|██████████|1/1, best_cost=214\n",
            "2023-12-28 19:22:53,219 - pyswarms.single.global_best - INFO - Optimization finished | best cost: 213.68686189402604, best pos: [0.81168861 1.09576226 0.91215566 0.81410809 0.26368591 0.30484633\n",
            " 0.45691516 0.33523513 0.33364334 0.34062219 1.18548865 0.92204776\n",
            " 0.21371461 0.88692606 0.41180718 0.98495244 0.68507534 0.99891849\n",
            " 0.78707923 1.07843948 0.61695743 0.41906432 0.49337792 1.17122056]\n",
            "2023-12-28 19:22:53,221 - pyswarms.single.global_best - INFO - Optimize for 1 iters with {'c1': 0.5, 'c2': 0.3, 'w': 0.9}\n"
          ]
        },
        {
          "output_type": "stream",
          "name": "stdout",
          "text": [
            "\n",
            "=========================================================================\n",
            "\n",
            "Número de ciclos de manutenção: 2 2\n",
            "Tempos para manutenções preventivas: [0, 32, 305]\n",
            "Severidade para cada subsistema: [0.5, 0.5]\n",
            "Número de Sisemas: 2\n",
            "Fator:  [0.4828472337947568, 0.28086665617199813, 0.28086665617199813]\n",
            "Media de falhas:  [0, 0.21397212893789638, 2.0532505176924447, 4.927369241527933]\n",
            "Custo =  377.33006161862255\n"
          ]
        },
        {
          "output_type": "stream",
          "name": "stderr",
          "text": [
            "pyswarms.single.global_best: 100%|██████████|1/1, best_cost=214\n",
            "2023-12-28 19:22:53,237 - pyswarms.single.global_best - INFO - Optimization finished | best cost: 213.68686189402604, best pos: [0.81168861 1.09556283 0.91217412 0.81040609 0.26368686 0.30484633\n",
            " 0.45691555 0.33540346 0.33364334 0.33547339 1.18553462 0.92204791\n",
            " 0.2137127  0.88689858 0.41374871 0.98554373 0.68507494 0.99891601\n",
            " 0.78707895 1.0318655  0.61695729 0.41905951 0.49337791 1.17126925]\n",
            "2023-12-28 19:22:53,238 - pyswarms.single.global_best - INFO - Optimize for 1 iters with {'c1': 0.5, 'c2': 0.3, 'w': 0.9}\n"
          ]
        },
        {
          "output_type": "stream",
          "name": "stdout",
          "text": [
            "\n",
            "=========================================================================\n",
            "\n",
            "Número de ciclos de manutenção: 4 2\n",
            "Tempos para manutenções preventivas: [0, 32, 127, 158, 305]\n",
            "Severidade para cada subsistema: [0.5, 0.5, 0.5, 0.5]\n",
            "Número de Sisemas: 2\n",
            "Fator:  [0.4828472337947568, 0.28086665617199813, 0.28086665617199813, 0.28086665617199813, 0.28086665617199813]\n",
            "Media de falhas:  [0, 0.21397212893789638, 0.8523987568143254, 1.061138547051751, 2.0526599087715645, 4.9267786326070535]\n",
            "Custo =  671.1019828163767\n"
          ]
        },
        {
          "output_type": "stream",
          "name": "stderr",
          "text": [
            "pyswarms.single.global_best: 100%|██████████|1/1, best_cost=214\n",
            "2023-12-28 19:22:53,292 - pyswarms.single.global_best - INFO - Optimization finished | best cost: 213.68686189402604, best pos: [0.81168876 1.09523779 0.91218279 0.80914728 0.26368784 0.30484633\n",
            " 0.45691568 0.33555544 0.33364334 0.32891502 1.18557408 0.92204806\n",
            " 0.21371094 0.88687893 0.4166738  0.9861035  0.68507447 0.99891362\n",
            " 0.78707764 0.97797721 0.61695709 0.41905642 0.4933779  1.17136487]\n",
            "2023-12-28 19:22:53,294 - pyswarms.single.global_best - INFO - Optimize for 1 iters with {'c1': 0.5, 'c2': 0.3, 'w': 0.9}\n"
          ]
        },
        {
          "output_type": "stream",
          "name": "stdout",
          "text": [
            "\n",
            "=========================================================================\n",
            "\n",
            "Número de ciclos de manutenção: 2 2\n",
            "Tempos para manutenções preventivas: [0, 32, 305]\n",
            "Severidade para cada subsistema: [0.5, 0.5]\n",
            "Número de Sisemas: 2\n",
            "Fator:  [0.4828472337947568, 0.28086665617199813, 0.28086665617199813]\n",
            "Media de falhas:  [0, 0.21397212893789638, 2.0532505176924447, 4.927369241527933]\n",
            "Custo =  377.33006161862255\n"
          ]
        },
        {
          "output_type": "stream",
          "name": "stderr",
          "text": [
            "pyswarms.single.global_best: 100%|██████████|1/1, best_cost=214\n",
            "2023-12-28 19:22:53,335 - pyswarms.single.global_best - INFO - Optimization finished | best cost: 213.68686189402604, best pos: [0.81168899 1.09492206 0.91217969 0.80978386 0.26368884 0.30484632\n",
            " 0.45691558 0.33582465 0.33364335 0.32290903 1.18560155 0.92204821\n",
            " 0.21370914 0.88691731 0.4198058  0.98659692 0.68507404 0.99891176\n",
            " 0.78707586 0.91090208 0.61695689 0.41905365 0.49337788 1.17147299]\n",
            "2023-12-28 19:22:53,338 - pyswarms.single.global_best - INFO - Optimize for 1 iters with {'c1': 0.5, 'c2': 0.3, 'w': 0.9}\n"
          ]
        },
        {
          "output_type": "stream",
          "name": "stdout",
          "text": [
            "\n",
            "=========================================================================\n",
            "\n",
            "Número de ciclos de manutenção: 3 2\n",
            "Tempos para manutenções preventivas: [0, 32, 120, 305]\n",
            "Severidade para cada subsistema: [0.5, 0.5, 0.5]\n",
            "Número de Sisemas: 2\n",
            "Fator:  [0.4828472337947568, 0.28086665617199813, 0.28086665617199813, 0.28086665617199813]\n",
            "Media de falhas:  [0, 0.21397212893789638, 0.8052617652698375, 2.052828448407588, 4.926947172243077]\n",
            "Custo =  504.4249472838198\n"
          ]
        },
        {
          "output_type": "stream",
          "name": "stderr",
          "text": [
            "\rpyswarms.single.global_best:   0%|          |0/1"
          ]
        },
        {
          "output_type": "stream",
          "name": "stdout",
          "text": [
            "\n",
            "=========================================================================\n",
            "\n",
            "Número de ciclos de manutenção: 5 2\n",
            "Tempos para manutenções preventivas: [0, 32, 97, 152, 305, 516]\n",
            "Severidade para cada subsistema: [0.5, 0.5, 0.5, 0.5, 0.5]\n",
            "Número de Sisemas: 2\n",
            "Fator:  [0.4828472337947568, 0.28086665617199813, 0.28086665617199813, 0.28086665617199813, 0.28086665617199813, 0.28086665617199813]\n",
            "Media de falhas:  [0, 0.21397212893789638, 0.650457778202124, 1.0206802260894188, 2.052639522416615, 3.478379839564764, 4.926212358915629]\n"
          ]
        },
        {
          "output_type": "stream",
          "name": "stderr",
          "text": [
            "pyswarms.single.global_best: 100%|██████████|1/1, best_cost=214\n",
            "2023-12-28 19:22:53,365 - pyswarms.single.global_best - INFO - Optimization finished | best cost: 213.68686189402604, best pos: [0.81168923 1.09465065 0.91217038 0.81391681 0.26368969 0.30484629\n",
            " 0.4569152  0.33615578 0.33364335 0.31815305 1.18560793 0.92204832\n",
            " 0.2137075  0.88699529 0.42253416 0.9869059  0.68507369 0.9989104\n",
            " 0.78707368 0.84637696 0.61695671 0.41905263 0.49337786 1.17157075]\n",
            "2023-12-28 19:22:53,370 - pyswarms.single.global_best - INFO - Optimize for 1 iters with {'c1': 0.5, 'c2': 0.3, 'w': 0.9}\n"
          ]
        },
        {
          "output_type": "stream",
          "name": "stdout",
          "text": [
            "Custo =  767.5378959666172\n"
          ]
        },
        {
          "output_type": "stream",
          "name": "stderr",
          "text": [
            "\rpyswarms.single.global_best:   0%|          |0/1"
          ]
        },
        {
          "output_type": "stream",
          "name": "stdout",
          "text": [
            "\n",
            "=========================================================================\n",
            "\n",
            "Número de ciclos de manutenção: 2 2\n",
            "Tempos para manutenções preventivas: [0, 32, 305]\n",
            "Severidade para cada subsistema: [0.5, 0.5]\n",
            "Número de Sisemas: 2\n",
            "Fator:  [0.4828472337947568, 0.28086665617199813, 0.28086665617199813]\n",
            "Media de falhas:  [0, 0.21397212893789638, 2.0532505176924447, 4.927369241527933]\n"
          ]
        },
        {
          "output_type": "stream",
          "name": "stderr",
          "text": [
            "pyswarms.single.global_best: 100%|██████████|1/1, best_cost=214\n",
            "2023-12-28 19:22:53,400 - pyswarms.single.global_best - INFO - Optimization finished | best cost: 213.68686189402604, best pos: [0.81168946 1.09446276 0.91215958 0.81782148 0.26369012 0.30484626\n",
            " 0.45691464 0.33645446 0.33364336 0.3141243  1.18558302 0.9220484\n",
            " 0.2137062  0.88708383 0.42396789 0.98712236 0.68507344 0.99890923\n",
            " 0.78707177 0.78396256 0.61695657 0.41905225 0.49337785 1.17164576]\n",
            "2023-12-28 19:22:53,404 - pyswarms.single.global_best - INFO - Optimize for 1 iters with {'c1': 0.5, 'c2': 0.3, 'w': 0.9}\n"
          ]
        },
        {
          "output_type": "stream",
          "name": "stdout",
          "text": [
            "Custo =  377.33006161862255\n"
          ]
        },
        {
          "output_type": "stream",
          "name": "stderr",
          "text": [
            "pyswarms.single.global_best:   0%|          |0/1, best_cost=214"
          ]
        },
        {
          "output_type": "stream",
          "name": "stdout",
          "text": [
            "\n",
            "=========================================================================\n",
            "\n",
            "Número de ciclos de manutenção: 4 2\n",
            "Tempos para manutenções preventivas: [0, 32, 158, 305, 511]\n",
            "Severidade para cada subsistema: [0.5, 0.5, 0.5, 0.5]\n",
            "Número de Sisemas: 2\n",
            "Fator:  [0.4828472337947568, 0.28086665617199813, 0.28086665617199813, 0.28086665617199813, 0.28086665617199813]\n",
            "Media de falhas:  [0, 0.21397212893789638, 1.061254227044168, 2.0527755887639816, 3.4446990669608057, 4.926346541090468]\n",
            "Custo =  615.9979720737558\n"
          ]
        },
        {
          "output_type": "stream",
          "name": "stderr",
          "text": [
            "\rpyswarms.single.global_best: 100%|██████████|1/1, best_cost=214\n",
            "2023-12-28 19:22:53,436 - pyswarms.single.global_best - INFO - Optimization finished | best cost: 213.68686189402604, best pos: [0.81168966 1.09437664 0.91214213 0.82144567 0.26369046 0.30484623\n",
            " 0.45691403 0.33665565 0.33364337 0.31095188 1.18554564 0.92204841\n",
            " 0.21370574 0.88715894 0.42503934 0.98709764 0.68507334 0.99890942\n",
            " 0.78707008 0.73659776 0.61695648 0.41905393 0.49337784 1.17167779]\n",
            "2023-12-28 19:22:53,437 - pyswarms.single.global_best - INFO - Optimize for 1 iters with {'c1': 0.5, 'c2': 0.3, 'w': 0.9}\n",
            "pyswarms.single.global_best: 100%|██████████|1/1, best_cost=214\n",
            "2023-12-28 19:22:53,456 - pyswarms.single.global_best - INFO - Optimization finished | best cost: 213.68686189402604, best pos: [0.8116898  1.09447228 0.91212604 0.82602198 0.26369064 0.3048462\n",
            " 0.45691347 0.33670782 0.33364337 0.31066945 1.18550435 0.92204833\n",
            " 0.21370607 0.88721668 0.42536126 0.98707288 0.68507345 0.99891059\n",
            " 0.78706891 0.70124488 0.61695646 0.41905787 0.49337785 1.17167371]\n",
            "2023-12-28 19:22:53,465 - pyswarms.single.global_best - INFO - Optimize for 1 iters with {'c1': 0.5, 'c2': 0.3, 'w': 0.9}\n"
          ]
        },
        {
          "output_type": "stream",
          "name": "stdout",
          "text": [
            "\n",
            "=========================================================================\n",
            "\n",
            "Número de ciclos de manutenção: 2 2\n",
            "Tempos para manutenções preventivas: [0, 32, 305]\n",
            "Severidade para cada subsistema: [0.5, 0.5]\n",
            "Número de Sisemas: 2\n",
            "Fator:  [0.4828472337947568, 0.28086665617199813, 0.28086665617199813]\n",
            "Media de falhas:  [0, 0.21397212893789638, 2.0532505176924447, 4.927369241527933]\n",
            "Custo =  377.33006161862255\n"
          ]
        },
        {
          "output_type": "stream",
          "name": "stderr",
          "text": [
            "\rpyswarms.single.global_best:   0%|          |0/1"
          ]
        },
        {
          "output_type": "stream",
          "name": "stdout",
          "text": [
            "\n",
            "=========================================================================\n",
            "\n",
            "Número de ciclos de manutenção: 4 2\n",
            "Tempos para manutenções preventivas: [0, 32, 96, 305, 691]\n",
            "Severidade para cada subsistema: [0.5, 0.5, 0.5, 0.5]\n",
            "Número de Sisemas: 2\n",
            "Fator:  [0.4828472337947568, 0.28086665617199813, 0.28086665617199813, 0.28086665617199813, 0.28086665617199813]\n",
            "Media de falhas:  [0, 0.21397212893789638, 0.6437300677891126, 2.05292152125222, 4.662951415799833, 4.926880327088954]\n"
          ]
        },
        {
          "output_type": "stream",
          "name": "stderr",
          "text": [
            "pyswarms.single.global_best: 100%|██████████|1/1, best_cost=214\n",
            "2023-12-28 19:22:53,497 - pyswarms.single.global_best - INFO - Optimization finished | best cost: 213.68686189402604, best pos: [0.81168986 1.09459512 0.91211328 0.83023286 0.2636907  0.30484618\n",
            " 0.45691303 0.3366143  0.33364337 0.3143252  1.18546649 0.92204824\n",
            " 0.2137064  0.88723049 0.42414877 0.98681752 0.68507374 0.9989124\n",
            " 0.78706923 0.67660344 0.61695647 0.41906275 0.49337785 1.17164535]\n",
            "2023-12-28 19:22:53,503 - pyswarms.single.global_best - INFO - Optimize for 1 iters with {'c1': 0.5, 'c2': 0.3, 'w': 0.9}\n"
          ]
        },
        {
          "output_type": "stream",
          "name": "stdout",
          "text": [
            "Custo =  664.8820232718039\n"
          ]
        },
        {
          "output_type": "stream",
          "name": "stderr",
          "text": [
            "\rpyswarms.single.global_best:   0%|          |0/1"
          ]
        },
        {
          "output_type": "stream",
          "name": "stdout",
          "text": [
            "\n",
            "=========================================================================\n",
            "\n",
            "Número de ciclos de manutenção: 2 2\n",
            "Tempos para manutenções preventivas: [0, 32, 305]\n",
            "Severidade para cada subsistema: [0.5, 0.5]\n",
            "Número de Sisemas: 2\n",
            "Fator:  [0.4828472337947568, 0.28086665617199813, 0.28086665617199813]\n",
            "Media de falhas:  [0, 0.21397212893789638, 2.0532505176924447, 4.927369241527933]\n"
          ]
        },
        {
          "output_type": "stream",
          "name": "stderr",
          "text": [
            "pyswarms.single.global_best: 100%|██████████|1/1, best_cost=214\n",
            "2023-12-28 19:22:53,524 - pyswarms.single.global_best - INFO - Optimization finished | best cost: 213.68686189402604, best pos: [0.81168984 1.09472926 0.9121062  0.83366728 0.2636906  0.30484617\n",
            " 0.4569127  0.3365059  0.33364337 0.31970703 1.18543933 0.92204814\n",
            " 0.21370702 0.88724055 0.42147165 0.98647751 0.68507408 0.99891423\n",
            " 0.78706963 0.65628576 0.61695659 0.41906756 0.49337786 1.17161944]\n",
            "2023-12-28 19:22:53,533 - pyswarms.single.global_best - INFO - Optimize for 1 iters with {'c1': 0.5, 'c2': 0.3, 'w': 0.9}\n"
          ]
        },
        {
          "output_type": "stream",
          "name": "stdout",
          "text": [
            "Custo =  377.33006161862255\n"
          ]
        },
        {
          "output_type": "stream",
          "name": "stderr",
          "text": [
            "\rpyswarms.single.global_best:   0%|          |0/1"
          ]
        },
        {
          "output_type": "stream",
          "name": "stdout",
          "text": [
            "\n",
            "=========================================================================\n",
            "\n",
            "Número de ciclos de manutenção: 2 2\n",
            "Tempos para manutenções preventivas: [0, 32, 305]\n",
            "Severidade para cada subsistema: [0.5, 0.5]\n",
            "Número de Sisemas: 2\n",
            "Fator:  [0.4828472337947568, 0.28086665617199813, 0.28086665617199813]\n",
            "Media de falhas:  [0, 0.21397212893789638, 2.0532505176924447, 4.927369241527933]\n"
          ]
        },
        {
          "output_type": "stream",
          "name": "stderr",
          "text": [
            "\rpyswarms.single.global_best:   0%|          |0/1, best_cost=214"
          ]
        },
        {
          "output_type": "stream",
          "name": "stdout",
          "text": [
            "Custo =  377.33006161862255\n"
          ]
        },
        {
          "output_type": "stream",
          "name": "stderr",
          "text": [
            "\rpyswarms.single.global_best: 100%|██████████|1/1, best_cost=214\n",
            "2023-12-28 19:22:53,568 - pyswarms.single.global_best - INFO - Optimization finished | best cost: 213.68686189402604, best pos: [0.81168973 1.09490307 0.91210716 0.83613687 0.26369009 0.30484618\n",
            " 0.45691259 0.33638036 0.33364337 0.32514789 1.1854247  0.92204804\n",
            " 0.21370807 0.88724394 0.41887711 0.98616764 0.6850744  0.9989161\n",
            " 0.78707082 0.67063134 0.61695677 0.41907137 0.49337788 1.17159289]\n",
            "2023-12-28 19:22:53,570 - pyswarms.single.global_best - INFO - Optimize for 1 iters with {'c1': 0.5, 'c2': 0.3, 'w': 0.9}\n",
            "pyswarms.single.global_best: 100%|██████████|1/1, best_cost=214\n",
            "2023-12-28 19:22:53,607 - pyswarms.single.global_best - INFO - Optimization finished | best cost: 213.68686189402604, best pos: [0.81168963 1.09510263 0.912109   0.83795131 0.26368962 0.30484619\n",
            " 0.45691253 0.33626693 0.33364337 0.33009023 1.18542227 0.92204796\n",
            " 0.21370914 0.88723815 0.41653936 0.98586087 0.68507468 0.99891758\n",
            " 0.78707197 0.71464315 0.61695695 0.41907404 0.49337789 1.17154946]\n",
            "2023-12-28 19:22:53,610 - pyswarms.single.global_best - INFO - Optimize for 1 iters with {'c1': 0.5, 'c2': 0.3, 'w': 0.9}\n"
          ]
        },
        {
          "output_type": "stream",
          "name": "stdout",
          "text": [
            "\n",
            "=========================================================================\n",
            "\n",
            "Número de ciclos de manutenção: 5 2\n",
            "Tempos para manutenções preventivas: [0, 32, 120, 157, 305, 691]\n",
            "Severidade para cada subsistema: [0.5, 0.5, 0.5, 0.5, 0.5]\n",
            "Número de Sisemas: 2\n",
            "Fator:  [0.4828472337947568, 0.28086665617199813, 0.28086665617199813, 0.28086665617199813, 0.28086665617199813, 0.28086665617199813]\n",
            "Media de falhas:  [0, 0.21397212893789638, 0.8052617652698375, 1.0543862379677225, 2.0526474864098363, 4.662677380957449, 4.92660629224657]\n",
            "Custo =  815.4543666396476\n"
          ]
        },
        {
          "output_type": "stream",
          "name": "stderr",
          "text": [
            "pyswarms.single.global_best: 100%|██████████|1/1, best_cost=214\n",
            "2023-12-28 19:22:53,642 - pyswarms.single.global_best - INFO - Optimization finished | best cost: 213.68686189402604, best pos: [0.81168949 1.0952765  0.91211457 0.83785559 0.26368886 0.30484621\n",
            " 0.4569125  0.33615206 0.33364336 0.33387283 1.18544075 0.92204789\n",
            " 0.21371008 0.88722073 0.41450533 0.9855884  0.6850749  0.99891876\n",
            " 0.78707312 0.75721359 0.61695712 0.41907535 0.4933779  1.17150718]\n",
            "2023-12-28 19:22:53,646 - pyswarms.single.global_best - INFO - Optimize for 1 iters with {'c1': 0.5, 'c2': 0.3, 'w': 0.9}\n"
          ]
        },
        {
          "output_type": "stream",
          "name": "stdout",
          "text": [
            "\n",
            "=========================================================================\n",
            "\n",
            "Número de ciclos de manutenção: 3 2\n",
            "Tempos para manutenções preventivas: [0, 32, 91, 305]\n",
            "Severidade para cada subsistema: [0.5, 0.5, 0.5]\n",
            "Número de Sisemas: 2\n",
            "Fator:  [0.4828472337947568, 0.28086665617199813, 0.28086665617199813, 0.28086665617199813]\n",
            "Media de falhas:  [0, 0.21397212893789638, 0.6100955642622395, 2.052948361183964, 4.927067085019452]\n",
            "Custo =  514.0327914446374\n"
          ]
        },
        {
          "output_type": "stream",
          "name": "stderr",
          "text": [
            "pyswarms.single.global_best: 100%|██████████|1/1, best_cost=214\n",
            "2023-12-28 19:22:53,672 - pyswarms.single.global_best - INFO - Optimization finished | best cost: 213.68686189402604, best pos: [0.81168936 1.0953687  0.91212101 0.83572209 0.26368815 0.30484623\n",
            " 0.45691252 0.33606134 0.33364336 0.33510325 1.18546824 0.92204788\n",
            " 0.2137105  0.88719088 0.41357329 0.98535463 0.68507497 0.99891898\n",
            " 0.78707423 0.8074256  0.61695725 0.41907493 0.49337791 1.17147055]\n",
            "2023-12-28 19:22:53,673 - pyswarms.single.global_best - INFO - Optimize for 1 iters with {'c1': 0.5, 'c2': 0.3, 'w': 0.9}\n"
          ]
        },
        {
          "output_type": "stream",
          "name": "stdout",
          "text": [
            "\n",
            "=========================================================================\n",
            "\n",
            "Número de ciclos de manutenção: 5 2\n",
            "Tempos para manutenções preventivas: [0, 32, 98, 121, 155, 305]\n",
            "Severidade para cada subsistema: [0.5, 0.5, 0.5, 0.5, 0.5]\n",
            "Número de Sisemas: 2\n",
            "Fator:  [0.4828472337947568, 0.28086665617199813, 0.28086665617199813, 0.28086665617199813, 0.28086665617199813, 0.28086665617199813]\n",
            "Media de falhas:  [0, 0.21397212893789638, 0.6571857507535187, 0.8119270627738568, 1.0408473613396427, 2.0525881080052377, 4.926706831840726]\n",
            "Custo =  862.1781565485664\n"
          ]
        },
        {
          "output_type": "stream",
          "name": "stderr",
          "text": [
            "\rpyswarms.single.global_best:   0%|          |0/1"
          ]
        },
        {
          "output_type": "stream",
          "name": "stdout",
          "text": [
            "\n",
            "=========================================================================\n",
            "\n",
            "Número de ciclos de manutenção: 2 2\n",
            "Tempos para manutenções preventivas: [0, 32, 305]\n",
            "Severidade para cada subsistema: [0.5, 0.5]\n",
            "Número de Sisemas: "
          ]
        },
        {
          "output_type": "stream",
          "name": "stderr",
          "text": [
            "pyswarms.single.global_best: 100%|██████████|1/1, best_cost=214\n",
            "2023-12-28 19:22:53,701 - pyswarms.single.global_best - INFO - Optimization finished | best cost: 213.68686189402604, best pos: [0.81168926 1.09541718 0.91212772 0.83313127 0.26368756 0.30484625\n",
            " 0.45691284 0.33601364 0.33364335 0.33471574 1.18549568 0.92204789\n",
            " 0.21371071 0.88714217 0.4131073  0.9852249  0.68507486 0.99891878\n",
            " 0.78707516 0.85492445 0.61695732 0.41907277 0.49337792 1.17144896]\n",
            "2023-12-28 19:22:53,709 - pyswarms.single.global_best - INFO - Optimize for 1 iters with {'c1': 0.5, 'c2': 0.3, 'w': 0.9}\n"
          ]
        },
        {
          "output_type": "stream",
          "name": "stdout",
          "text": [
            "2\n",
            "Fator:  [0.4828472337947568, 0.28086665617199813, 0.28086665617199813]\n",
            "Media de falhas:  [0, 0.21397212893789638, 2.0532505176924447, 4.927369241527933]\n",
            "Custo =  377.33006161862255\n"
          ]
        },
        {
          "output_type": "stream",
          "name": "stderr",
          "text": [
            "pyswarms.single.global_best: 100%|██████████|1/1, best_cost=214\n",
            "2023-12-28 19:22:53,743 - pyswarms.single.global_best - INFO - Optimization finished | best cost: 213.68686189402604, best pos: [0.81168918 1.0953633  0.91213499 0.82965974 0.26368706 0.30484627\n",
            " 0.45691341 0.33601632 0.33364335 0.33390049 1.18552077 0.92204791\n",
            " 0.21371089 0.88709762 0.41409192 0.98528013 0.68507475 0.99891806\n",
            " 0.78707566 0.89413182 0.61695736 0.41906972 0.49337792 1.17144377]\n",
            "2023-12-28 19:22:53,745 - pyswarms.single.global_best - INFO - Optimize for 1 iters with {'c1': 0.5, 'c2': 0.3, 'w': 0.9}\n"
          ]
        },
        {
          "output_type": "stream",
          "name": "stdout",
          "text": [
            "\n",
            "=========================================================================\n",
            "\n",
            "Número de ciclos de manutenção: 4 2\n",
            "Tempos para manutenções preventivas: [0, 32, 120, 153, 305]\n",
            "Severidade para cada subsistema: [0.5, 0.5, 0.5, 0.5]\n",
            "Número de Sisemas: 2\n",
            "Fator:  [0.4828472337947568, 0.28086665617199813, 0.28086665617199813, 0.28086665617199813, 0.28086665617199813]\n",
            "Media de falhas:  [0, 0.21397212893789638, 0.8052617652698375, 1.02744090370626, 2.0526607773716097, 4.926779501207099]\n",
            "Custo =  668.3875677460198\n"
          ]
        },
        {
          "output_type": "stream",
          "name": "stderr",
          "text": [
            "pyswarms.single.global_best: 100%|██████████|1/1, best_cost=214"
          ]
        },
        {
          "output_type": "stream",
          "name": "stdout",
          "text": [
            "\n",
            "=========================================================================\n",
            "\n",
            "Número de ciclos de manutenção: 3 2\n",
            "Tempos para manutenções preventivas: [0, 32, 305, 698]\n",
            "Severidade para cada subsistema: [0.5, 0.5, 0.5]\n",
            "Número de Sisemas: 2\n",
            "Fator:  [0.4828472337947568, 0.28086665617199813, 0.28086665617199813, 0.28086665617199813]\n",
            "Media de falhas:  [0, 0.21397212893789638, 2.0532505176924447, 4.710677088259292, 4.927236238395629]\n",
            "Custo =  541.7143501054015\n"
          ]
        },
        {
          "output_type": "stream",
          "name": "stderr",
          "text": [
            "\n",
            "2023-12-28 19:22:53,766 - pyswarms.single.global_best - INFO - Optimization finished | best cost: 213.68686189402604, best pos: [0.81168918 1.09527454 0.91214151 0.82584248 0.263687   0.30484628\n",
            " 0.45691394 0.33604515 0.33364335 0.33061215 1.18553902 0.92204796\n",
            " 0.21371089 0.88705614 0.41498833 0.98533806 0.68507456 0.99891679\n",
            " 0.78707593 0.92100804 0.61695731 0.41906605 0.49337791 1.17145206]\n",
            "2023-12-28 19:22:53,780 - pyswarms.single.global_best - INFO - Optimize for 1 iters with {'c1': 0.5, 'c2': 0.3, 'w': 0.9}\n",
            "pyswarms.single.global_best:   0%|          |0/1"
          ]
        },
        {
          "output_type": "stream",
          "name": "stdout",
          "text": [
            "\n",
            "=========================================================================\n",
            "\n",
            "Número de ciclos de manutenção: 4 2\n",
            "Tempos para manutenções preventivas: [0, 32, 154, 305, 692]\n",
            "Severidade para cada subsistema: [0.5, 0.5, 0.5, 0.5]\n",
            "Número de Sisemas: 2\n",
            "Fator:  [0.4828472337947568, 0.28086665617199813, 0.28086665617199813, 0.28086665617199813, 0.28086665617199813]\n",
            "Media de falhas:  [0, 0.21397212893789638, 1.034296276032361, 2.052776632924541, 4.669577375037035, 4.926739234948533]\n"
          ]
        },
        {
          "output_type": "stream",
          "name": "stderr",
          "text": [
            "pyswarms.single.global_best: 100%|██████████|1/1, best_cost=214\n",
            "2023-12-28 19:22:53,809 - pyswarms.single.global_best - INFO - Optimization finished | best cost: 213.68686189402604, best pos: [0.81168919 1.09519244 0.91214616 0.82252594 0.26368695 0.30484629\n",
            " 0.45691439 0.33611402 0.33364335 0.32728322 1.18555472 0.92204804\n",
            " 0.21371023 0.88702206 0.41648848 0.98542694 0.68507434 0.99891537\n",
            " 0.78707573 0.9276377  0.61695725 0.41906244 0.4933779  1.17146466]\n",
            "2023-12-28 19:22:53,811 - pyswarms.single.global_best - INFO - Optimize for 1 iters with {'c1': 0.5, 'c2': 0.3, 'w': 0.9}\n"
          ]
        },
        {
          "output_type": "stream",
          "name": "stdout",
          "text": [
            "Custo =  655.2081662921969\n"
          ]
        },
        {
          "output_type": "stream",
          "name": "stderr",
          "text": [
            "pyswarms.single.global_best: 100%|██████████|1/1, best_cost=214\n",
            "2023-12-28 19:22:53,844 - pyswarms.single.global_best - INFO - Optimization finished | best cost: 213.68686189402604, best pos: [0.81168921 1.09507827 0.91214926 0.82051664 0.26368732 0.30484628\n",
            " 0.45691472 0.33619933 0.33364336 0.32405544 1.18555746 0.92204811\n",
            " 0.21370925 0.88699973 0.41791104 0.98563248 0.68507415 0.99891397\n",
            " 0.7870752  0.92380712 0.61695716 0.41905938 0.49337789 1.1714812 ]\n",
            "2023-12-28 19:22:53,848 - pyswarms.single.global_best - INFO - Optimize for 1 iters with {'c1': 0.5, 'c2': 0.3, 'w': 0.9}\n"
          ]
        },
        {
          "output_type": "stream",
          "name": "stdout",
          "text": [
            "\n",
            "=========================================================================\n",
            "\n",
            "Número de ciclos de manutenção: 4 2\n",
            "Tempos para manutenções preventivas: [0, 32, 94, 305, 516]\n",
            "Severidade para cada subsistema: [0.5, 0.5, 0.5, 0.5]\n",
            "Número de Sisemas: 2\n",
            "Fator:  [0.4828472337947568, 0.28086665617199813, 0.28086665617199813, 0.28086665617199813, 0.28086665617199813]\n",
            "Media de falhas:  [0, 0.21397212893789638, 0.6302754464363273, 2.0529319111802784, 3.4786722283284277, 4.926504747679292]\n",
            "Custo =  628.055434900712\n"
          ]
        },
        {
          "output_type": "stream",
          "name": "stderr",
          "text": [
            "\rpyswarms.single.global_best:   0%|          |0/1"
          ]
        },
        {
          "output_type": "stream",
          "name": "stdout",
          "text": [
            "\n",
            "=========================================================================\n",
            "\n",
            "Número de ciclos de manutenção: 2 2\n",
            "Tempos para manutenções preventivas: [0, 32, 305]\n",
            "Severidade para cada subsistema: [0.5, 0.5]\n",
            "Número de Sisemas: 2\n",
            "Fator:  [0.4828472337947568, 0.28086665617199813, 0.28086665617199813]\n",
            "Media de falhas:  [0, 0.21397212893789638, 2.0532505176924447, 4.927369241527933]\n",
            "Custo =  377.33006161862255\n"
          ]
        },
        {
          "output_type": "stream",
          "name": "stderr",
          "text": [
            "pyswarms.single.global_best: 100%|██████████|1/1, best_cost=214\n",
            "2023-12-28 19:22:53,880 - pyswarms.single.global_best - INFO - Optimization finished | best cost: 213.68686189402604, best pos: [0.81168925 1.09496978 0.91214909 0.81972212 0.26368783 0.30484627\n",
            " 0.45691498 0.33627721 0.33364336 0.32124498 1.1855522  0.92204818\n",
            " 0.21370823 0.88699617 0.4193661  0.98587908 0.68507403 0.99891292\n",
            " 0.78707443 0.90443447 0.61695708 0.41905688 0.49337788 1.17150178]\n",
            "2023-12-28 19:22:53,882 - pyswarms.single.global_best - INFO - Optimize for 1 iters with {'c1': 0.5, 'c2': 0.3, 'w': 0.9}\n",
            "pyswarms.single.global_best:   0%|          |0/1"
          ]
        },
        {
          "output_type": "stream",
          "name": "stdout",
          "text": [
            "\n",
            "=========================================================================\n",
            "\n",
            "Número de ciclos de manutenção: 3 2\n",
            "Tempos para manutenções preventivas: [0, 32, 305, 518]\n",
            "Severidade para cada subsistema: [0.5, 0.5, 0.5]\n",
            "Número de Sisemas: 2\n",
            "Fator:  [0.4828472337947568, 0.28086665617199813, 0.28086665617199813, 0.28086665617199813]\n",
            "Media de falhas:  [0, 0.21397212893789638, 2.0532505176924447, 3.492517920798489, 4.926824268573746]\n",
            "Custo = "
          ]
        },
        {
          "output_type": "stream",
          "name": "stderr",
          "text": [
            "pyswarms.single.global_best: 100%|██████████|1/1, best_cost=214\n",
            "2023-12-28 19:22:53,916 - pyswarms.single.global_best - INFO - Optimization finished | best cost: 213.68686189402604, best pos: [0.81168932 1.09489208 0.91214441 0.82009772 0.26368831 0.30484626\n",
            " 0.45691495 0.33634631 0.33364336 0.31919839 1.18554301 0.92204822\n",
            " 0.21370742 0.88700716 0.42058011 0.98610482 0.68507401 0.9989123\n",
            " 0.7870736  0.86319259 0.61695699 0.41905471 0.49337787 1.17152117]\n",
            "2023-12-28 19:22:53,921 - pyswarms.single.global_best - INFO - Optimize for 1 iters with {'c1': 0.5, 'c2': 0.3, 'w': 0.9}\n"
          ]
        },
        {
          "output_type": "stream",
          "name": "stdout",
          "text": [
            " 492.849127595415\n"
          ]
        },
        {
          "output_type": "stream",
          "name": "stderr",
          "text": [
            "pyswarms.single.global_best: 100%|██████████|1/1, best_cost=214\n",
            "2023-12-28 19:22:53,952 - pyswarms.single.global_best - INFO - Optimization finished | best cost: 213.68686189402604, best pos: [0.81168938 1.09483933 0.91213746 0.82073036 0.26368876 0.30484624\n",
            " 0.4569146  0.33639004 0.33364336 0.31786238 1.18553093 0.92204824\n",
            " 0.2137067  0.88702415 0.421479   0.98627949 0.68507406 0.99891207\n",
            " 0.78707292 0.82243858 0.6169569  0.41905399 0.49337786 1.17153846]\n",
            "2023-12-28 19:22:53,954 - pyswarms.single.global_best - INFO - Optimize for 1 iters with {'c1': 0.5, 'c2': 0.3, 'w': 0.9}\n"
          ]
        },
        {
          "output_type": "stream",
          "name": "stdout",
          "text": [
            "\n",
            "=========================================================================\n",
            "\n",
            "Número de ciclos de manutenção: 2 2\n",
            "Tempos para manutenções preventivas: [0, 32, 305]\n",
            "Severidade para cada subsistema: [0.5, 0.5]\n",
            "Número de Sisemas: 2\n",
            "Fator:  [0.4828472337947568, 0.28086665617199813, 0.28086665617199813]\n",
            "Media de falhas:  [0, 0.21397212893789638, 2.0532505176924447, 4.927369241527933]\n",
            "Custo =  377.33006161862255\n"
          ]
        },
        {
          "output_type": "stream",
          "name": "stderr",
          "text": [
            "pyswarms.single.global_best: 100%|██████████|1/1, best_cost=214\n",
            "2023-12-28 19:22:53,984 - pyswarms.single.global_best - INFO - Optimization finished | best cost: 213.68686189402604, best pos: [0.81168946 1.09485392 0.91213016 0.82153482 0.26368917 0.30484622\n",
            " 0.45691422 0.33641887 0.33364337 0.31809024 1.18551437 0.92204824\n",
            " 0.2137062  0.88705035 0.42219543 0.98633245 0.68507411 0.99891235\n",
            " 0.78707235 0.78569535 0.61695683 0.419054   0.49337785 1.17155389]\n",
            "2023-12-28 19:22:53,986 - pyswarms.single.global_best - INFO - Optimize for 1 iters with {'c1': 0.5, 'c2': 0.3, 'w': 0.9}\n"
          ]
        },
        {
          "output_type": "stream",
          "name": "stdout",
          "text": [
            "\n",
            "=========================================================================\n",
            "\n",
            "Número de ciclos de manutenção: 4 2\n",
            "Tempos para manutenções preventivas: [0, 32, 158, 305, 512]\n",
            "Severidade para cada subsistema: [0.5, 0.5, 0.5, 0.5]\n",
            "Número de Sisemas: 2\n",
            "Fator:  [0.4828472337947568, 0.28086665617199813, 0.28086665617199813, 0.28086665617199813, 0.28086665617199813]\n",
            "Media de falhas:  [0, 0.21397212893789638, 1.061254227044168, 2.0527755887639816, 3.451462334176763, 4.926346871778848]\n",
            "Custo =  615.993599775329\n"
          ]
        },
        {
          "output_type": "stream",
          "name": "stderr",
          "text": [
            "pyswarms.single.global_best: 100%|██████████|1/1, best_cost=214\n",
            "2023-12-28 19:22:54,003 - pyswarms.single.global_best - INFO - Optimization finished | best cost: 213.68686189402604, best pos: [0.81168953 1.09487101 0.912124   0.82278958 0.26368951 0.30484621\n",
            " 0.45691386 0.3364249  0.33364337 0.31851569 1.18549617 0.9220482\n",
            " 0.21370648 0.88707462 0.42281665 0.98629101 0.68507418 0.99891281\n",
            " 0.78707226 0.76328768 0.61695678 0.41905516 0.49337784 1.17156338]\n"
          ]
        },
        {
          "output_type": "stream",
          "name": "stdout",
          "text": [
            "\n",
            "=========================================================================\n",
            "\n",
            "Número de ciclos de manutenção: 4 2\n",
            "Tempos para manutenções preventivas: [0, 32, 98, 128, 305]\n",
            "Severidade para cada subsistema: [0.5, 0.5, 0.5, 0.5]\n",
            "Número de Sisemas: 2\n",
            "Fator:  [0.4828472337947568, 0.28086665617199813, 0.28086665617199813, 0.28086665617199813, 0.28086665617199813]\n",
            "Media de falhas:  [0, 0.21397212893789638, 0.6571857507535187, 0.8590478562160123, 2.052723187442152, 4.9268419112776405]\n",
            "Custo =  680.0342818619929\n"
          ]
        },
        {
          "output_type": "stream",
          "name": "stderr",
          "text": [
            "2023-12-28 19:22:54,006 - pyswarms.single.global_best - INFO - Optimize for 1 iters with {'c1': 0.5, 'c2': 0.3, 'w': 0.9}\n",
            "pyswarms.single.global_best: 100%|██████████|1/1, best_cost=214\n",
            "2023-12-28 19:22:54,051 - pyswarms.single.global_best - INFO - Optimization finished | best cost: 213.68686189402604, best pos: [0.81168959 1.09493505 0.9121196  0.82403663 0.26368953 0.3048462\n",
            " 0.45691354 0.33640538 0.33364337 0.31917299 1.18547989 0.92204814\n",
            " 0.21370738 0.88709608 0.42229581 0.98624925 0.68507428 0.99891359\n",
            " 0.78707242 0.75788199 0.61695675 0.41905785 0.49337784 1.17156604]\n",
            "2023-12-28 19:22:54,056 - pyswarms.single.global_best - INFO - Optimize for 1 iters with {'c1': 0.5, 'c2': 0.3, 'w': 0.9}\n"
          ]
        },
        {
          "output_type": "stream",
          "name": "stdout",
          "text": [
            "\n",
            "=========================================================================\n",
            "\n",
            "Número de ciclos de manutenção: 4 2\n",
            "Tempos para manutenções preventivas: [0, 32, 151, 305, 691]\n",
            "Severidade para cada subsistema: [0.5, 0.5, 0.5, 0.5]\n",
            "Número de Sisemas: 2\n",
            "Fator:  [0.4828472337947568, 0.28086665617199813, 0.28086665617199813, 0.28086665617199813, 0.28086665617199813]\n",
            "Media de falhas:  [0, 0.21397212893789638, 1.014079431826887, 2.0527780560381625, 4.662807950585775, 4.926736861874896]\n",
            "Custo =  654.019527071541\n"
          ]
        },
        {
          "output_type": "stream",
          "name": "stderr",
          "text": [
            "pyswarms.single.global_best: 100%|██████████|1/1, best_cost=214\n",
            "2023-12-28 19:22:54,086 - pyswarms.single.global_best - INFO - Optimization finished | best cost: 213.68686189402604, best pos: [0.81168963 1.09501116 0.91211716 0.82530448 0.26368927 0.3048462\n",
            " 0.4569133  0.33638004 0.33364337 0.32071571 1.18546788 0.92204808\n",
            " 0.21370838 0.88711113 0.42140367 0.98613826 0.68507438 0.99891471\n",
            " 0.78707287 0.75532391 0.61695678 0.41906041 0.49337785 1.17156377]\n",
            "2023-12-28 19:22:54,087 - pyswarms.single.global_best - INFO - Optimize for 1 iters with {'c1': 0.5, 'c2': 0.3, 'w': 0.9}\n"
          ]
        },
        {
          "output_type": "stream",
          "name": "stdout",
          "text": [
            "\n",
            "=========================================================================\n",
            "\n",
            "Número de ciclos de manutenção: 2 2\n",
            "Tempos para manutenções preventivas: [0, 32, 305]\n",
            "Severidade para cada subsistema: [0.5, 0.5]\n",
            "Número de Sisemas: 2\n",
            "Fator:  [0.4828472337947568, 0.28086665617199813, 0.28086665617199813]\n",
            "Media de falhas:  [0, 0.21397212893789638, 2.0532505176924447, 4.927369241527933]\n",
            "Custo =  377.33006161862255\n"
          ]
        },
        {
          "output_type": "stream",
          "name": "stderr",
          "text": [
            "\rpyswarms.single.global_best:   0%|          |0/1"
          ]
        },
        {
          "output_type": "stream",
          "name": "stdout",
          "text": [
            "\n",
            "=========================================================================\n",
            "\n",
            "Número de ciclos de manutenção: 2"
          ]
        },
        {
          "output_type": "stream",
          "name": "stderr",
          "text": [
            "pyswarms.single.global_best: 100%|██████████|1/1, best_cost=214\n",
            "2023-12-28 19:22:54,117 - pyswarms.single.global_best - INFO - Optimization finished | best cost: 213.68686189402604, best pos: [0.81168965 1.09508146 0.91211777 0.82664724 0.26368895 0.30484621\n",
            " 0.45691312 0.33631507 0.33364337 0.32260537 1.18546177 0.92204803\n",
            " 0.21370934 0.88711736 0.4202101  0.98599898 0.68507447 0.99891575\n",
            " 0.78707349 0.77266161 0.61695683 0.41906386 0.49337786 1.17155571]\n",
            "2023-12-28 19:22:54,121 - pyswarms.single.global_best - INFO - Optimize for 1 iters with {'c1': 0.5, 'c2': 0.3, 'w': 0.9}\n"
          ]
        },
        {
          "output_type": "stream",
          "name": "stdout",
          "text": [
            " 2\n",
            "Tempos para manutenções preventivas: [0, 32, 305]\n",
            "Severidade para cada subsistema: [0.5, 0.5]\n",
            "Número de Sisemas: 2\n",
            "Fator:  [0.4828472337947568, 0.28086665617199813, 0.28086665617199813]\n",
            "Media de falhas:  [0, 0.21397212893789638, 2.0532505176924447, 4.927369241527933]\n",
            "Custo =  377.33006161862255\n"
          ]
        },
        {
          "output_type": "stream",
          "name": "stderr",
          "text": [
            "pyswarms.single.global_best: 100%|██████████|1/1, best_cost=214\n",
            "2023-12-28 19:22:54,151 - pyswarms.single.global_best - INFO - Optimization finished | best cost: 213.68686189402604, best pos: [0.81168961 1.0951431  0.91212285 0.8277967  0.26368864 0.30484622\n",
            " 0.45691303 0.33623496 0.33364336 0.3250159  1.18546529 0.922048\n",
            " 0.21371013 0.88711872 0.41874518 0.98586338 0.68507454 0.99891668\n",
            " 0.78707411 0.79259417 0.61695688 0.41906696 0.49337787 1.1715446 ]\n",
            "2023-12-28 19:22:54,155 - pyswarms.single.global_best - INFO - Optimize for 1 iters with {'c1': 0.5, 'c2': 0.3, 'w': 0.9}\n"
          ]
        },
        {
          "output_type": "stream",
          "name": "stdout",
          "text": [
            "\n",
            "=========================================================================\n",
            "\n",
            "Número de ciclos de manutenção: 3 2\n",
            "Tempos para manutenções preventivas: [0, 32, 158, 305]\n",
            "Severidade para cada subsistema: [0.5, 0.5, 0.5]\n",
            "Número de Sisemas: 2\n",
            "Fator:  [0.4828472337947568, 0.28086665617199813, 0.28086665617199813, 0.28086665617199813]\n",
            "Media de falhas:  [0, 0.21397212893789638, 1.061254227044168, 2.0527755887639816, 4.926894312599471]\n",
            "Custo =  500.46582580943686\n"
          ]
        },
        {
          "output_type": "stream",
          "name": "stderr",
          "text": [
            "\rpyswarms.single.global_best:   0%|          |0/1"
          ]
        },
        {
          "output_type": "stream",
          "name": "stdout",
          "text": [
            "\n",
            "=========================================================================\n",
            "\n",
            "Número de ciclos de manutenção: 4 2\n",
            "Tempos para manutenções preventivas: [0, 32, 94, 124, 305]\n",
            "Severidade para cada subsistema: [0.5, 0.5, 0.5, 0.5]\n",
            "Número de Sisemas: "
          ]
        },
        {
          "output_type": "stream",
          "name": "stderr",
          "text": [
            "pyswarms.single.global_best: 100%|██████████|1/1, best_cost=214\n",
            "2023-12-28 19:22:54,187 - pyswarms.single.global_best - INFO - Optimization finished | best cost: 213.68686189402604, best pos: [0.81168956 1.09517727 0.91212782 0.82879583 0.26368836 0.30484623\n",
            " 0.45691298 0.33616112 0.33364336 0.32724306 1.18547003 0.92204797\n",
            " 0.21371082 0.88711245 0.41744219 0.98574188 0.68507456 0.99891725\n",
            " 0.78707462 0.81528403 0.61695695 0.4190692  0.49337789 1.17153407]\n",
            "2023-12-28 19:22:54,191 - pyswarms.single.global_best - INFO - Optimize for 1 iters with {'c1': 0.5, 'c2': 0.3, 'w': 0.9}\n"
          ]
        },
        {
          "output_type": "stream",
          "name": "stdout",
          "text": [
            "2\n",
            "Fator:  [0.4828472337947568, 0.28086665617199813, 0.28086665617199813, 0.28086665617199813, 0.28086665617199813]\n",
            "Media de falhas:  [0, 0.21397212893789638, 0.6302754464363273, 0.8321153597263171, 2.0527373090182426, 4.926856032853731]\n",
            "Custo =  681.714273438703\n"
          ]
        },
        {
          "output_type": "stream",
          "name": "stderr",
          "text": [
            "pyswarms.single.global_best: 100%|██████████|1/1, best_cost=214\n",
            "2023-12-28 19:22:54,222 - pyswarms.single.global_best - INFO - Optimization finished | best cost: 213.68686189402604, best pos: [0.81168951 1.09517376 0.91213272 0.82908815 0.26368812 0.30484625\n",
            " 0.45691316 0.33611064 0.33364336 0.32914269 1.18547543 0.92204796\n",
            " 0.2137112  0.88709988 0.41645419 0.9856641  0.68507453 0.99891742\n",
            " 0.78707491 0.83737816 0.61695701 0.41907042 0.4933779  1.17152374]\n",
            "2023-12-28 19:22:54,226 - pyswarms.single.global_best - INFO - Optimize for 1 iters with {'c1': 0.5, 'c2': 0.3, 'w': 0.9}\n"
          ]
        },
        {
          "output_type": "stream",
          "name": "stdout",
          "text": [
            "\n",
            "=========================================================================\n",
            "\n",
            "Número de ciclos de manutenção: 3 2\n",
            "Tempos para manutenções preventivas: [0, 32, 305, 696]\n",
            "Severidade para cada subsistema: [0.5, 0.5, 0.5]\n",
            "Número de Sisemas: 2\n",
            "Fator:  [0.4828472337947568, 0.28086665617199813, 0.28086665617199813, 0.28086665617199813]\n",
            "Media de falhas:  [0, 0.21397212893789638, 2.0532505176924447, 4.697135004290983, 4.927228467272785]\n",
            "Custo =  538.062929328109\n"
          ]
        },
        {
          "output_type": "stream",
          "name": "stderr",
          "text": [
            "pyswarms.single.global_best: 100%|██████████|1/1, best_cost=214\n",
            "2023-12-28 19:22:54,248 - pyswarms.single.global_best - INFO - Optimization finished | best cost: 213.68686189402604, best pos: [0.81168946 1.09516357 0.91213713 0.82929303 0.26368797 0.30484625\n",
            " 0.45691347 0.33609017 0.33364336 0.3304655  1.18548496 0.92204797\n",
            " 0.21371131 0.88708262 0.41620608 0.98565594 0.68507447 0.99891724\n",
            " 0.78707491 0.85385976 0.61695706 0.41907004 0.4933779  1.17151396]\n",
            "2023-12-28 19:22:54,263 - pyswarms.single.global_best - INFO - Optimize for 1 iters with {'c1': 0.5, 'c2': 0.3, 'w': 0.9}\n"
          ]
        },
        {
          "output_type": "stream",
          "name": "stdout",
          "text": [
            "\n",
            "=========================================================================\n",
            "\n",
            "Número de ciclos de manutenção: 3 2\n",
            "Tempos para manutenções preventivas: [0, 32, 305, 510]\n",
            "Severidade para cada subsistema: [0.5, 0.5, 0.5]\n",
            "Número de Sisemas: 2\n",
            "Fator:  [0.4828472337947568, 0.28086665617199813, 0.28086665617199813, 0.28086665617199813]\n",
            "Media de falhas:  [0, 0.21397212893789638, 2.0532505176924447, 3.4384107791958973, 4.926821162518919]\n",
            "Custo =  492.8674175486686\n"
          ]
        },
        {
          "output_type": "stream",
          "name": "stderr",
          "text": [
            "pyswarms.single.global_best: 100%|██████████|1/1, best_cost=214\n",
            "2023-12-28 19:22:54,285 - pyswarms.single.global_best - INFO - Optimization finished | best cost: 213.68686189402604, best pos: [0.81168941 1.09513885 0.9121404  0.8292027  0.26368793 0.30484626\n",
            " 0.45691382 0.33610848 0.33364336 0.33135887 1.18549688 0.92204799\n",
            " 0.21371129 0.88706592 0.41659984 0.98566132 0.6850744  0.99891672\n",
            " 0.78707475 0.85926573 0.61695709 0.41906934 0.4933779  1.17150684]\n",
            "2023-12-28 19:22:54,286 - pyswarms.single.global_best - INFO - Optimize for 1 iters with {'c1': 0.5, 'c2': 0.3, 'w': 0.9}\n"
          ]
        },
        {
          "output_type": "stream",
          "name": "stdout",
          "text": [
            "\n",
            "=========================================================================\n",
            "\n",
            "Número de ciclos de manutenção: 3 2\n",
            "Tempos para manutenções preventivas: [0, 32, 121, 305]\n",
            "Severidade para cada subsistema: [0.5, 0.5, 0.5]\n",
            "Número de Sisemas: 2\n",
            "Fator:  [0.4828472337947568, 0.28086665617199813, 0.28086665617199813, 0.28086665617199813]\n",
            "Media de falhas:  [0, 0.21397212893789638, 0.8119950224236941, 2.052825702301263, 4.926944426136751]\n",
            "Custo =  504.2313277896096\n"
          ]
        },
        {
          "output_type": "stream",
          "name": "stderr",
          "text": [
            "pyswarms.single.global_best: 100%|██████████|1/1, best_cost=214\n",
            "2023-12-28 19:22:54,333 - pyswarms.single.global_best - INFO - Optimization finished | best cost: 213.68686189402604, best pos: [0.81168937 1.09510992 0.91214295 0.82839303 0.2636879  0.30484626\n",
            " 0.45691413 0.33614025 0.33364336 0.33200019 1.18550792 0.92204801\n",
            " 0.21371086 0.88705093 0.41696101 0.98574427 0.68507434 0.99891616\n",
            " 0.78707446 0.85882022 0.61695708 0.41906751 0.49337789 1.17150313]\n"
          ]
        },
        {
          "output_type": "stream",
          "name": "stdout",
          "text": [
            "\n",
            "=========================================================================\n",
            "\n",
            "Número de ciclos de manutenção: 3 2\n",
            "Tempos para manutenções preventivas: [0, 32, 305, 514]\n",
            "Severidade para cada subsistema: [0.5, 0.5, 0.5]\n",
            "Número de Sisemas: 2\n",
            "Fator:  [0.4828472337947568, 0.28086665617199813, 0.28086665617199813, 0.28086665617199813]\n",
            "Media de falhas:  [0, 0.21397212893789638, 2.0532505176924447, 3.4654639486329337, 4.926822531417921]\n",
            "Custo =  492.85159798907426\n"
          ]
        },
        {
          "output_type": "stream",
          "name": "stderr",
          "text": [
            "2023-12-28 19:22:54,337 - pyswarms.single.global_best - INFO - Optimize for 1 iters with {'c1': 0.5, 'c2': 0.3, 'w': 0.9}\n",
            "pyswarms.single.global_best: 100%|██████████|1/1, best_cost=214\n",
            "2023-12-28 19:22:54,364 - pyswarms.single.global_best - INFO - Optimization finished | best cost: 213.68686189402604, best pos: [0.81168934 1.09507999 0.91214419 0.8272946  0.26368805 0.30484626\n",
            " 0.45691436 0.3361869  0.33364336 0.33165317 1.18551561 0.92204804\n",
            " 0.21371019 0.88703788 0.41746477 0.98585192 0.68507429 0.99891562\n",
            " 0.78707404 0.85214349 0.61695705 0.41906553 0.49337789 1.17150164]\n"
          ]
        },
        {
          "output_type": "stream",
          "name": "stdout",
          "text": [
            "\n",
            "=========================================================================\n",
            "\n",
            "Número de ciclos de manutenção: 3 2\n",
            "Tempos para manutenções preventivas: [0, 32, 125, 305]\n",
            "Severidade para cada subsistema: [0.5, 0.5, 0.5]\n",
            "Número de Sisemas: 2\n",
            "Fator:  [0.4828472337947568, 0.28086665617199813, 0.28086665617199813, 0.28086665617199813]\n",
            "Media de falhas:  [0, 0.21397212893789638, 0.8389300592166541, 2.052815528138514, 4.926934251974003]\n",
            "Custo =  503.5180782025897\n"
          ]
        },
        {
          "output_type": "stream",
          "name": "stderr",
          "text": [
            "2023-12-28 19:22:54,371 - pyswarms.single.global_best - INFO - Optimize for 1 iters with {'c1': 0.5, 'c2': 0.3, 'w': 0.9}\n",
            "pyswarms.single.global_best: 100%|██████████|1/1, best_cost=214\n",
            "2023-12-28 19:22:54,399 - pyswarms.single.global_best - INFO - Optimization finished | best cost: 213.68686189402604, best pos: [0.81168932 1.09504359 0.9121434  0.82623043 0.26368829 0.30484626\n",
            " 0.45691449 0.33623824 0.33364336 0.33030014 1.18551931 0.92204806\n",
            " 0.21370917 0.88703308 0.41829869 0.98596075 0.68507425 0.99891499\n",
            " 0.78707364 0.84342157 0.61695702 0.41906349 0.49337788 1.17150557]\n"
          ]
        },
        {
          "output_type": "stream",
          "name": "stdout",
          "text": [
            "\n",
            "=========================================================================\n",
            "\n",
            "Número de ciclos de manutenção: 4 2\n",
            "Tempos para manutenções preventivas: [0, 32, 94, 305, 515]\n",
            "Severidade para cada subsistema: [0.5, 0.5, 0.5, 0.5]\n",
            "Número de Sisemas: 2\n",
            "Fator:  [0.4828472337947568, 0.28086665617199813, 0.28086665617199813, 0.28086665617199813, 0.28086665617199813]\n",
            "Media de falhas:  [0, 0.21397212893789638, 0.6302754464363273, 2.0529319111802784, 3.4719087601979135, 4.926504324813163]\n",
            "Custo =  628.0564688062815\n"
          ]
        }
      ]
    },
    {
      "cell_type": "code",
      "source": [
        "melhorCusto = format_currency(best_cost)\n",
        "print(melhorCusto)"
      ],
      "metadata": {
        "id": "LaqSRfpLcW0i",
        "outputId": "db603d78-4210-45bb-c1b1-f99df8aefe57",
        "colab": {
          "base_uri": "https://localhost:8080/"
        }
      },
      "execution_count": 4130,
      "outputs": [
        {
          "output_type": "stream",
          "name": "stdout",
          "text": [
            "R$ 213,69\n"
          ]
        }
      ]
    },
    {
      "cell_type": "code",
      "source": [
        "print('lamb:', lamb)\n",
        "print('beta:', beta)\n",
        "print('theta:', theta)\n",
        "print(\"Tempo de Convergência para a primeira etapa:\", convergence_time_first_stage, \"segundos\")"
      ],
      "metadata": {
        "id": "eoLCwdJ9Rkp0",
        "outputId": "2880555a-d283-4c99-ef74-453b52e1e72c",
        "colab": {
          "base_uri": "https://localhost:8080/"
        }
      },
      "execution_count": 4131,
      "outputs": [
        {
          "output_type": "stream",
          "name": "stdout",
          "text": [
            "lamb: 148.8236099092524\n",
            "beta: 1.003177327961337\n",
            "theta: 0.6594169622308468\n",
            "Tempo de Convergência para a primeira etapa: 0.011978387832641602 segundos\n"
          ]
        }
      ]
    },
    {
      "cell_type": "code",
      "source": [
        "# Plotar gráfico de densidade da otimização\n",
        "# Seu histórico de custos\n",
        "cost_history = optimizer.cost_history\n",
        "\n",
        "# Escalando os valores por uma constante (dividindo por 100 milhões)\n",
        "scaled_history = [cost / 1.000 for cost in cost_history]\n",
        "\n",
        "# Custo ótimo (substitua pbest_cost[0] por best_cost)\n",
        "optimal_cost = best_cost\n",
        "\n",
        "# Calcule o tempo total de convergência\n",
        "convergence_time_second_stage = end_time_second_stage - start_time_second_stage\n",
        "\n",
        "# Plotagem do gráfico de histórico de custos\n",
        "plt.plot(scaled_history)\n",
        "plt.xlabel('Iteration')\n",
        "plt.xlim(0, max_iterations)\n",
        "plt.ylabel('Objective function')\n",
        "plt.title('Particle Swarm Optimization')\n",
        "\n",
        "\n",
        "# Mostrar a legenda\n",
        "plt.legend()\n",
        "plt.show()\n",
        "\n",
        "print(\"                              \")\n",
        "print(\"*************************************************************************\")\n",
        "print(\"Número total de iterações:\", max_iterations)\n",
        "print(\"Número de Particulas:\", num_particles)\n",
        "print(\"Número de Dimensões:\", dimensions)\n",
        "print(\"Melhor Custo:\", melhorCusto)\n",
        "print(\"Tempo de Convergência para a segunda etapa:\", convergence_time_second_stage, \"segundos\")"
      ],
      "metadata": {
        "id": "ULlt81ZI1vn9",
        "outputId": "b19af5a3-048b-401e-d6a3-aeddfc1929d7",
        "colab": {
          "base_uri": "https://localhost:8080/",
          "height": 631
        }
      },
      "execution_count": 4132,
      "outputs": [
        {
          "output_type": "stream",
          "name": "stderr",
          "text": [
            "2023-12-28 19:22:54,512 - matplotlib.legend - WARNING - No artists with labels found to put in legend.  Note that artists whose label start with an underscore are ignored when legend() is called with no argument.\n"
          ]
        },
        {
          "output_type": "display_data",
          "data": {
            "text/plain": [
              "<Figure size 640x480 with 1 Axes>"
            ],
            "image/png": "[encoded data removed]"
          },
          "metadata": {}
        },
        {
          "output_type": "stream",
          "name": "stdout",
          "text": [
            "                              \n",
            "*************************************************************************\n",
            "Número total de iterações: 100\n",
            "Número de Particulas: 100\n",
            "Número de Dimensões: 24\n",
            "Melhor Custo: R$ 213,69\n",
            "Tempo de Convergência para a segunda etapa: 1.3137929439544678 segundos\n"
          ]
        }
      ]
    },
    {
      "cell_type": "code",
      "source": [
        "# Plotar o gráfico 3D com todas as melhores posições\n",
        "fig = plt.figure(figsize=(8, 8))\n",
        "ax = fig.add_subplot(111)\n",
        "\n",
        "# Plotar todas as melhores posições anteriores\n",
        "for i in range(best_positions.shape[0]):\n",
        "    ax.scatter(best_positions[i, 0], best_positions[i, 1], marker='x', c='blue', alpha=0.6)\n",
        "\n",
        "# Plotar a última melhor posição com uma cor diferente para destacá-la\n",
        "ax.scatter(best_positions[-1, 0], best_positions[-1, 1], c='red', label='Melhor posição atual')\n",
        "\n",
        "ax.set_title('PSO - Melhores posições ao longo das iterações')\n",
        "ax.set_xlabel('Primeira dimensão das melhores posições')\n",
        "ax.set_ylabel('Segunda dimensão das melhores posições')\n",
        "ax.legend()\n",
        "plt.grid()\n",
        "plt.show()"
      ],
      "metadata": {
        "colab": {
          "base_uri": "https://localhost:8080/",
          "height": 718
        },
        "id": "GK1vNK4v20Dx",
        "outputId": "4470cf81-468e-4fa5-8812-e4d1aca4ee8c"
      },
      "execution_count": 4133,
      "outputs": [
        {
          "output_type": "display_data",
          "data": {
            "text/plain": [
              "<Figure size 800x800 with 1 Axes>"
            ],
            "image/png": "[encoded data removed]"
          },
          "metadata": {}
        }
      ]
    },
    {
      "cell_type": "code",
      "source": [
        "# Nome do arquivo CSV para salvar o resultado do melhor custo\n",
        "nome_arquivo = f'{LINK_ARQUIVO_PRINCIPAL}{NOME_ARQUIVO_PRINCIPAL}.csv'"
      ],
      "metadata": {
        "id": "lYIlaqDPhDdo"
      },
      "execution_count": 4134,
      "outputs": []
    },
    {
      "cell_type": "code",
      "source": [
        "# Adicionar o melhor custo atual à lista de melhores custos anteriores\n",
        "melhores_custos_anteriores = []\n",
        "try:\n",
        "    with open(nome_arquivo, 'r') as arquivo_csv:\n",
        "        reader = csv.reader(arquivo_csv)\n",
        "        next(reader)  # Pule o cabeçalho\n",
        "        for linha in reader:\n",
        "            melhores_custos_anteriores.append(linha[1])\n",
        "except FileNotFoundError:\n",
        "    pass  # Arquivo não existe, pode ser a primeira execução\n",
        "\n",
        "melhores_custos_anteriores.append(melhorCusto)  # Substitua pbest_cost[0] por best_cost\n",
        "\n",
        "# Criar uma lista com os valores atuais\n",
        "valores_atuais = [len(melhores_custos_anteriores), melhorCusto, lamb, beta, theta, convergence_time_first_stage, convergence_time_second_stage,]\n",
        "\n",
        "# Abrir o arquivo CSV em modo de leitura e escrita e escrever os valores atuais no final do arquivo\n",
        "with open(nome_arquivo, 'a+', newline='') as arquivo_csv:\n",
        "    writer = csv.writer(arquivo_csv)\n",
        "\n",
        "    # Se o arquivo estiver vazio, escreva o cabeçalho\n",
        "    if arquivo_csv.tell() == 0:\n",
        "        writer.writerow(['Index', 'Melhor_Custo', 'Lambda', 'Beta', 'Theta', 'Convergencia_Primeira_Etapa', 'Convergencia_Segunda_Etapa', 'Ciclos_MP'])\n",
        "\n",
        "    # Escrever os valores atuais\n",
        "    writer.writerow(valores_atuais)"
      ],
      "metadata": {
        "id": "SvLX3p0EXBEo"
      },
      "execution_count": 4135,
      "outputs": []
    },
    {
      "cell_type": "code",
      "source": [
        "# Leitura dos dados de tempo de falha para 4 cenarios de exemplo\n",
        "resultado = pd.read_csv(nome_arquivo, sep=\",\")\n",
        "resultado.head(10)"
      ],
      "metadata": {
        "colab": {
          "base_uri": "https://localhost:8080/",
          "height": 363
        },
        "id": "UU0zcbG7xFjH",
        "outputId": "0013dab3-116c-4a9c-d1cc-e837eaa4137e"
      },
      "execution_count": 4136,
      "outputs": [
        {
          "output_type": "execute_result",
          "data": {
            "text/plain": [
              "   Index Melhor_Custo     Lambda      Beta     Theta  \\\n",
              "0      1    R$ 213,69  148.82361  1.003177  0.659417   \n",
              "1      2    R$ 213,47  148.82361  1.003177  0.659417   \n",
              "2      3    R$ 214,08  148.82361  1.003177  0.659417   \n",
              "3      4    R$ 237,10  148.82361  1.003177  0.659417   \n",
              "4      5    R$ 215,85  148.82361  1.003177  0.659417   \n",
              "5      6    R$ 213,43  148.82361  1.003177  0.659417   \n",
              "6      7    R$ 213,48  148.82361  1.003177  0.659417   \n",
              "7      8    R$ 213,43  148.82361  1.003177  0.659417   \n",
              "8      9    R$ 213,53  148.82361  1.003177  0.659417   \n",
              "9     10    R$ 213,69  148.82361  1.003177  0.659417   \n",
              "\n",
              "   Convergencia_Primeira_Etapa  Convergencia_Segunda_Etapa  Ciclos_MP  \n",
              "0                     0.014063                    1.200916        NaN  \n",
              "1                     0.009366                    1.162873        NaN  \n",
              "2                     0.008394                    1.313679        NaN  \n",
              "3                     0.011445                    1.297929        NaN  \n",
              "4                     0.011161                    1.394715        NaN  \n",
              "5                     0.009453                    1.354239        NaN  \n",
              "6                     0.006884                    1.337299        NaN  \n",
              "7                     0.012637                    0.836785        NaN  \n",
              "8                     0.006800                    0.969784        NaN  \n",
              "9                     0.011978                    1.313793        NaN  "
            ],
            "text/html": [
              "\n",
              "  <div id=\"df-c7c1c673-1b27-4463-9cca-ab83fb40bc82\" class=\"colab-df-container\">\n",
              "    <div>\n",
              "<style scoped>\n",
              "    .dataframe tbody tr th:only-of-type {\n",
              "        vertical-align: middle;\n",
              "    }\n",
              "\n",
              "    .dataframe tbody tr th {\n",
              "        vertical-align: top;\n",
              "    }\n",
              "\n",
              "    .dataframe thead th {\n",
              "        text-align: right;\n",
              "    }\n",
              "</style>\n",
              "<table border=\"1\" class=\"dataframe\">\n",
              "  <thead>\n",
              "    <tr style=\"text-align: right;\">\n",
              "      <th></th>\n",
              "      <th>Index</th>\n",
              "      <th>Melhor_Custo</th>\n",
              "      <th>Lambda</th>\n",
              "      <th>Beta</th>\n",
              "      <th>Theta</th>\n",
              "      <th>Convergencia_Primeira_Etapa</th>\n",
              "      <th>Convergencia_Segunda_Etapa</th>\n",
              "      <th>Ciclos_MP</th>\n",
              "    </tr>\n",
              "  </thead>\n",
              "  <tbody>\n",
              "    <tr>\n",
              "      <th>0</th>\n",
              "      <td>1</td>\n",
              "      <td>R$ 213,69</td>\n",
              "      <td>148.82361</td>\n",
              "      <td>1.003177</td>\n",
              "      <td>0.659417</td>\n",
              "      <td>0.014063</td>\n",
              "      <td>1.200916</td>\n",
              "      <td>NaN</td>\n",
              "    </tr>\n",
              "    <tr>\n",
              "      <th>1</th>\n",
              "      <td>2</td>\n",
              "      <td>R$ 213,47</td>\n",
              "      <td>148.82361</td>\n",
              "      <td>1.003177</td>\n",
              "      <td>0.659417</td>\n",
              "      <td>0.009366</td>\n",
              "      <td>1.162873</td>\n",
              "      <td>NaN</td>\n",
              "    </tr>\n",
              "    <tr>\n",
              "      <th>2</th>\n",
              "      <td>3</td>\n",
              "      <td>R$ 214,08</td>\n",
              "      <td>148.82361</td>\n",
              "      <td>1.003177</td>\n",
              "      <td>0.659417</td>\n",
              "      <td>0.008394</td>\n",
              "      <td>1.313679</td>\n",
              "      <td>NaN</td>\n",
              "    </tr>\n",
              "    <tr>\n",
              "      <th>3</th>\n",
              "      <td>4</td>\n",
              "      <td>R$ 237,10</td>\n",
              "      <td>148.82361</td>\n",
              "      <td>1.003177</td>\n",
              "      <td>0.659417</td>\n",
              "      <td>0.011445</td>\n",
              "      <td>1.297929</td>\n",
              "      <td>NaN</td>\n",
              "    </tr>\n",
              "    <tr>\n",
              "      <th>4</th>\n",
              "      <td>5</td>\n",
              "      <td>R$ 215,85</td>\n",
              "      <td>148.82361</td>\n",
              "      <td>1.003177</td>\n",
              "      <td>0.659417</td>\n",
              "      <td>0.011161</td>\n",
              "      <td>1.394715</td>\n",
              "      <td>NaN</td>\n",
              "    </tr>\n",
              "    <tr>\n",
              "      <th>5</th>\n",
              "      <td>6</td>\n",
              "      <td>R$ 213,43</td>\n",
              "      <td>148.82361</td>\n",
              "      <td>1.003177</td>\n",
              "      <td>0.659417</td>\n",
              "      <td>0.009453</td>\n",
              "      <td>1.354239</td>\n",
              "      <td>NaN</td>\n",
              "    </tr>\n",
              "    <tr>\n",
              "      <th>6</th>\n",
              "      <td>7</td>\n",
              "      <td>R$ 213,48</td>\n",
              "      <td>148.82361</td>\n",
              "      <td>1.003177</td>\n",
              "      <td>0.659417</td>\n",
              "      <td>0.006884</td>\n",
              "      <td>1.337299</td>\n",
              "      <td>NaN</td>\n",
              "    </tr>\n",
              "    <tr>\n",
              "      <th>7</th>\n",
              "      <td>8</td>\n",
              "      <td>R$ 213,43</td>\n",
              "      <td>148.82361</td>\n",
              "      <td>1.003177</td>\n",
              "      <td>0.659417</td>\n",
              "      <td>0.012637</td>\n",
              "      <td>0.836785</td>\n",
              "      <td>NaN</td>\n",
              "    </tr>\n",
              "    <tr>\n",
              "      <th>8</th>\n",
              "      <td>9</td>\n",
              "      <td>R$ 213,53</td>\n",
              "      <td>148.82361</td>\n",
              "      <td>1.003177</td>\n",
              "      <td>0.659417</td>\n",
              "      <td>0.006800</td>\n",
              "      <td>0.969784</td>\n",
              "      <td>NaN</td>\n",
              "    </tr>\n",
              "    <tr>\n",
              "      <th>9</th>\n",
              "      <td>10</td>\n",
              "      <td>R$ 213,69</td>\n",
              "      <td>148.82361</td>\n",
              "      <td>1.003177</td>\n",
              "      <td>0.659417</td>\n",
              "      <td>0.011978</td>\n",
              "      <td>1.313793</td>\n",
              "      <td>NaN</td>\n",
              "    </tr>\n",
              "  </tbody>\n",
              "</table>\n",
              "</div>\n",
              "    <div class=\"colab-df-buttons\">\n",
              "\n",
              "  <div class=\"colab-df-container\">\n",
              "    <button class=\"colab-df-convert\" onclick=\"convertToInteractive('df-c7c1c673-1b27-4463-9cca-ab83fb40bc82')\"\n",
              "            title=\"Convert this dataframe to an interactive table.\"\n",
              "            style=\"display:none;\">\n",
              "\n",
              "  <svg xmlns=\"http://www.w3.org/2000/svg\" height=\"24px\" viewBox=\"0 -960 960 960\">\n",
              "    <path d=\"M120-120v-720h720v720H120Zm60-500h600v-160H180v160Zm220 220h160v-160H400v160Zm0 220h160v-160H400v160ZM180-400h160v-160H180v160Zm440 0h160v-160H620v160ZM180-180h160v-160H180v160Zm440 0h160v-160H620v160Z\"/>\n",
              "  </svg>\n",
              "    </button>\n",
              "\n",
              "  <style>\n",
              "    .colab-df-container {\n",
              "      display:flex;\n",
              "      gap: 12px;\n",
              "    }\n",
              "\n",
              "    .colab-df-convert {\n",
              "      background-color: #E8F0FE;\n",
              "      border: none;\n",
              "      border-radius: 50%;\n",
              "      cursor: pointer;\n",
              "      display: none;\n",
              "      fill: #1967D2;\n",
              "      height: 32px;\n",
              "      padding: 0 0 0 0;\n",
              "      width: 32px;\n",
              "    }\n",
              "\n",
              "    .colab-df-convert:hover {\n",
              "      background-color: #E2EBFA;\n",
              "      box-shadow: 0px 1px 2px rgba(60, 64, 67, 0.3), 0px 1px 3px 1px rgba(60, 64, 67, 0.15);\n",
              "      fill: #174EA6;\n",
              "    }\n",
              "\n",
              "    .colab-df-buttons div {\n",
              "      margin-bottom: 4px;\n",
              "    }\n",
              "\n",
              "    [theme=dark] .colab-df-convert {\n",
              "      background-color: #3B4455;\n",
              "      fill: #D2E3FC;\n",
              "    }\n",
              "\n",
              "    [theme=dark] .colab-df-convert:hover {\n",
              "      background-color: #434B5C;\n",
              "      box-shadow: 0px 1px 3px 1px rgba(0, 0, 0, 0.15);\n",
              "      filter: drop-shadow(0px 1px 2px rgba(0, 0, 0, 0.3));\n",
              "      fill: #FFFFFF;\n",
              "    }\n",
              "  </style>\n",
              "\n",
              "    <script>\n",
              "      const buttonEl =\n",
              "        document.querySelector('#df-c7c1c673-1b27-4463-9cca-ab83fb40bc82 button.colab-df-convert');\n",
              "      buttonEl.style.display =\n",
              "        google.colab.kernel.accessAllowed ? 'block' : 'none';\n",
              "\n",
              "      async function convertToInteractive(key) {\n",
              "        const element = document.querySelector('#df-c7c1c673-1b27-4463-9cca-ab83fb40bc82');\n",
              "        const dataTable =\n",
              "          await google.colab.kernel.invokeFunction('convertToInteractive',\n",
              "                                                    [key], {});\n",
              "        if (!dataTable) return;\n",
              "\n",
              "        const docLinkHtml = 'Like what you see? Visit the ' +\n",
              "          '<a target=\"_blank\" href=https://colab.research.google.com/notebooks/data_table.ipynb>data table notebook</a>'\n",
              "          + ' to learn more about interactive tables.';\n",
              "        element.innerHTML = '';\n",
              "        dataTable['output_type'] = 'display_data';\n",
              "        await google.colab.output.renderOutput(dataTable, element);\n",
              "        const docLink = document.createElement('div');\n",
              "        docLink.innerHTML = docLinkHtml;\n",
              "        element.appendChild(docLink);\n",
              "      }\n",
              "    </script>\n",
              "  </div>\n",
              "\n",
              "\n",
              "<div id=\"df-7bca70a3-34e9-4ac9-9b2c-acb1d2feeefb\">\n",
              "  <button class=\"colab-df-quickchart\" onclick=\"quickchart('df-7bca70a3-34e9-4ac9-9b2c-acb1d2feeefb')\"\n",
              "            title=\"Suggest charts\"\n",
              "            style=\"display:none;\">\n",
              "\n",
              "<svg xmlns=\"http://www.w3.org/2000/svg\" height=\"24px\"viewBox=\"0 0 24 24\"\n",
              "     width=\"24px\">\n",
              "    <g>\n",
              "        <path d=\"M19 3H5c-1.1 0-2 .9-2 2v14c0 1.1.9 2 2 2h14c1.1 0 2-.9 2-2V5c0-1.1-.9-2-2-2zM9 17H7v-7h2v7zm4 0h-2V7h2v10zm4 0h-2v-4h2v4z\"/>\n",
              "    </g>\n",
              "</svg>\n",
              "  </button>\n",
              "\n",
              "<style>\n",
              "  .colab-df-quickchart {\n",
              "      --bg-color: #E8F0FE;\n",
              "      --fill-color: #1967D2;\n",
              "      --hover-bg-color: #E2EBFA;\n",
              "      --hover-fill-color: #174EA6;\n",
              "      --disabled-fill-color: #AAA;\n",
              "      --disabled-bg-color: #DDD;\n",
              "  }\n",
              "\n",
              "  [theme=dark] .colab-df-quickchart {\n",
              "      --bg-color: #3B4455;\n",
              "      --fill-color: #D2E3FC;\n",
              "      --hover-bg-color: #434B5C;\n",
              "      --hover-fill-color: #FFFFFF;\n",
              "      --disabled-bg-color: #3B4455;\n",
              "      --disabled-fill-color: #666;\n",
              "  }\n",
              "\n",
              "  .colab-df-quickchart {\n",
              "    background-color: var(--bg-color);\n",
              "    border: none;\n",
              "    border-radius: 50%;\n",
              "    cursor: pointer;\n",
              "    display: none;\n",
              "    fill: var(--fill-color);\n",
              "    height: 32px;\n",
              "    padding: 0;\n",
              "    width: 32px;\n",
              "  }\n",
              "\n",
              "  .colab-df-quickchart:hover {\n",
              "    background-color: var(--hover-bg-color);\n",
              "    box-shadow: 0 1px 2px rgba(60, 64, 67, 0.3), 0 1px 3px 1px rgba(60, 64, 67, 0.15);\n",
              "    fill: var(--button-hover-fill-color);\n",
              "  }\n",
              "\n",
              "  .colab-df-quickchart-complete:disabled,\n",
              "  .colab-df-quickchart-complete:disabled:hover {\n",
              "    background-color: var(--disabled-bg-color);\n",
              "    fill: var(--disabled-fill-color);\n",
              "    box-shadow: none;\n",
              "  }\n",
              "\n",
              "  .colab-df-spinner {\n",
              "    border: 2px solid var(--fill-color);\n",
              "    border-color: transparent;\n",
              "    border-bottom-color: var(--fill-color);\n",
              "    animation:\n",
              "      spin 1s steps(1) infinite;\n",
              "  }\n",
              "\n",
              "  @keyframes spin {\n",
              "    0% {\n",
              "      border-color: transparent;\n",
              "      border-bottom-color: var(--fill-color);\n",
              "      border-left-color: var(--fill-color);\n",
              "    }\n",
              "    20% {\n",
              "      border-color: transparent;\n",
              "      border-left-color: var(--fill-color);\n",
              "      border-top-color: var(--fill-color);\n",
              "    }\n",
              "    30% {\n",
              "      border-color: transparent;\n",
              "      border-left-color: var(--fill-color);\n",
              "      border-top-color: var(--fill-color);\n",
              "      border-right-color: var(--fill-color);\n",
              "    }\n",
              "    40% {\n",
              "      border-color: transparent;\n",
              "      border-right-color: var(--fill-color);\n",
              "      border-top-color: var(--fill-color);\n",
              "    }\n",
              "    60% {\n",
              "      border-color: transparent;\n",
              "      border-right-color: var(--fill-color);\n",
              "    }\n",
              "    80% {\n",
              "      border-color: transparent;\n",
              "      border-right-color: var(--fill-color);\n",
              "      border-bottom-color: var(--fill-color);\n",
              "    }\n",
              "    90% {\n",
              "      border-color: transparent;\n",
              "      border-bottom-color: var(--fill-color);\n",
              "    }\n",
              "  }\n",
              "</style>\n",
              "\n",
              "  <script>\n",
              "    async function quickchart(key) {\n",
              "      const quickchartButtonEl =\n",
              "        document.querySelector('#' + key + ' button');\n",
              "      quickchartButtonEl.disabled = true;  // To prevent multiple clicks.\n",
              "      quickchartButtonEl.classList.add('colab-df-spinner');\n",
              "      try {\n",
              "        const charts = await google.colab.kernel.invokeFunction(\n",
              "            'suggestCharts', [key], {});\n",
              "      } catch (error) {\n",
              "        console.error('Error during call to suggestCharts:', error);\n",
              "      }\n",
              "      quickchartButtonEl.classList.remove('colab-df-spinner');\n",
              "      quickchartButtonEl.classList.add('colab-df-quickchart-complete');\n",
              "    }\n",
              "    (() => {\n",
              "      let quickchartButtonEl =\n",
              "        document.querySelector('#df-7bca70a3-34e9-4ac9-9b2c-acb1d2feeefb button');\n",
              "      quickchartButtonEl.style.display =\n",
              "        google.colab.kernel.accessAllowed ? 'block' : 'none';\n",
              "    })();\n",
              "  </script>\n",
              "</div>\n",
              "\n",
              "    </div>\n",
              "  </div>\n"
            ]
          },
          "metadata": {},
          "execution_count": 4136
        }
      ]
    },
    {
      "cell_type": "code",
      "source": [
        "resultado.info()"
      ],
      "metadata": {
        "id": "kQtfIuKeR_XX",
        "outputId": "c8465588-1f29-43e9-c609-94833df23b85",
        "colab": {
          "base_uri": "https://localhost:8080/"
        }
      },
      "execution_count": 4137,
      "outputs": [
        {
          "output_type": "stream",
          "name": "stdout",
          "text": [
            "<class 'pandas.core.frame.DataFrame'>\n",
            "RangeIndex: 10 entries, 0 to 9\n",
            "Data columns (total 8 columns):\n",
            " #   Column                       Non-Null Count  Dtype  \n",
            "---  ------                       --------------  -----  \n",
            " 0   Index                        10 non-null     int64  \n",
            " 1   Melhor_Custo                 10 non-null     object \n",
            " 2   Lambda                       10 non-null     float64\n",
            " 3   Beta                         10 non-null     float64\n",
            " 4   Theta                        10 non-null     float64\n",
            " 5   Convergencia_Primeira_Etapa  10 non-null     float64\n",
            " 6   Convergencia_Segunda_Etapa   10 non-null     float64\n",
            " 7   Ciclos_MP                    0 non-null      float64\n",
            "dtypes: float64(6), int64(1), object(1)\n",
            "memory usage: 768.0+ bytes\n"
          ]
        }
      ]
    },
    {
      "cell_type": "code",
      "source": [
        "resultado.describe()"
      ],
      "metadata": {
        "colab": {
          "base_uri": "https://localhost:8080/",
          "height": 300
        },
        "id": "AefadimkxMSd",
        "outputId": "4a6e6a3c-6dc4-4d0f-d9f3-e0e760b3f7df"
      },
      "execution_count": 4138,
      "outputs": [
        {
          "output_type": "execute_result",
          "data": {
            "text/plain": [
              "          Index     Lambda       Beta         Theta  \\\n",
              "count  10.00000   10.00000  10.000000  1.000000e+01   \n",
              "mean    5.50000  148.82361   1.003177  6.594170e-01   \n",
              "std     3.02765    0.00000   0.000000  1.170278e-16   \n",
              "min     1.00000  148.82361   1.003177  6.594170e-01   \n",
              "25%     3.25000  148.82361   1.003177  6.594170e-01   \n",
              "50%     5.50000  148.82361   1.003177  6.594170e-01   \n",
              "75%     7.75000  148.82361   1.003177  6.594170e-01   \n",
              "max    10.00000  148.82361   1.003177  6.594170e-01   \n",
              "\n",
              "       Convergencia_Primeira_Etapa  Convergencia_Segunda_Etapa  Ciclos_MP  \n",
              "count                    10.000000                   10.000000        0.0  \n",
              "mean                      0.010218                    1.218201        NaN  \n",
              "std                       0.002439                    0.182272        NaN  \n",
              "min                       0.006800                    0.836785        NaN  \n",
              "25%                       0.008637                    1.172384        NaN  \n",
              "50%                       0.010307                    1.305804        NaN  \n",
              "75%                       0.011845                    1.331422        NaN  \n",
              "max                       0.014063                    1.394715        NaN  "
            ],
            "text/html": [
              "\n",
              "  <div id=\"df-b6ab7a83-cc79-4f32-9da9-c7cd08d4a6c8\" class=\"colab-df-container\">\n",
              "    <div>\n",
              "<style scoped>\n",
              "    .dataframe tbody tr th:only-of-type {\n",
              "        vertical-align: middle;\n",
              "    }\n",
              "\n",
              "    .dataframe tbody tr th {\n",
              "        vertical-align: top;\n",
              "    }\n",
              "\n",
              "    .dataframe thead th {\n",
              "        text-align: right;\n",
              "    }\n",
              "</style>\n",
              "<table border=\"1\" class=\"dataframe\">\n",
              "  <thead>\n",
              "    <tr style=\"text-align: right;\">\n",
              "      <th></th>\n",
              "      <th>Index</th>\n",
              "      <th>Lambda</th>\n",
              "      <th>Beta</th>\n",
              "      <th>Theta</th>\n",
              "      <th>Convergencia_Primeira_Etapa</th>\n",
              "      <th>Convergencia_Segunda_Etapa</th>\n",
              "      <th>Ciclos_MP</th>\n",
              "    </tr>\n",
              "  </thead>\n",
              "  <tbody>\n",
              "    <tr>\n",
              "      <th>count</th>\n",
              "      <td>10.00000</td>\n",
              "      <td>10.00000</td>\n",
              "      <td>10.000000</td>\n",
              "      <td>1.000000e+01</td>\n",
              "      <td>10.000000</td>\n",
              "      <td>10.000000</td>\n",
              "      <td>0.0</td>\n",
              "    </tr>\n",
              "    <tr>\n",
              "      <th>mean</th>\n",
              "      <td>5.50000</td>\n",
              "      <td>148.82361</td>\n",
              "      <td>1.003177</td>\n",
              "      <td>6.594170e-01</td>\n",
              "      <td>0.010218</td>\n",
              "      <td>1.218201</td>\n",
              "      <td>NaN</td>\n",
              "    </tr>\n",
              "    <tr>\n",
              "      <th>std</th>\n",
              "      <td>3.02765</td>\n",
              "      <td>0.00000</td>\n",
              "      <td>0.000000</td>\n",
              "      <td>1.170278e-16</td>\n",
              "      <td>0.002439</td>\n",
              "      <td>0.182272</td>\n",
              "      <td>NaN</td>\n",
              "    </tr>\n",
              "    <tr>\n",
              "      <th>min</th>\n",
              "      <td>1.00000</td>\n",
              "      <td>148.82361</td>\n",
              "      <td>1.003177</td>\n",
              "      <td>6.594170e-01</td>\n",
              "      <td>0.006800</td>\n",
              "      <td>0.836785</td>\n",
              "      <td>NaN</td>\n",
              "    </tr>\n",
              "    <tr>\n",
              "      <th>25%</th>\n",
              "      <td>3.25000</td>\n",
              "      <td>148.82361</td>\n",
              "      <td>1.003177</td>\n",
              "      <td>6.594170e-01</td>\n",
              "      <td>0.008637</td>\n",
              "      <td>1.172384</td>\n",
              "      <td>NaN</td>\n",
              "    </tr>\n",
              "    <tr>\n",
              "      <th>50%</th>\n",
              "      <td>5.50000</td>\n",
              "      <td>148.82361</td>\n",
              "      <td>1.003177</td>\n",
              "      <td>6.594170e-01</td>\n",
              "      <td>0.010307</td>\n",
              "      <td>1.305804</td>\n",
              "      <td>NaN</td>\n",
              "    </tr>\n",
              "    <tr>\n",
              "      <th>75%</th>\n",
              "      <td>7.75000</td>\n",
              "      <td>148.82361</td>\n",
              "      <td>1.003177</td>\n",
              "      <td>6.594170e-01</td>\n",
              "      <td>0.011845</td>\n",
              "      <td>1.331422</td>\n",
              "      <td>NaN</td>\n",
              "    </tr>\n",
              "    <tr>\n",
              "      <th>max</th>\n",
              "      <td>10.00000</td>\n",
              "      <td>148.82361</td>\n",
              "      <td>1.003177</td>\n",
              "      <td>6.594170e-01</td>\n",
              "      <td>0.014063</td>\n",
              "      <td>1.394715</td>\n",
              "      <td>NaN</td>\n",
              "    </tr>\n",
              "  </tbody>\n",
              "</table>\n",
              "</div>\n",
              "    <div class=\"colab-df-buttons\">\n",
              "\n",
              "  <div class=\"colab-df-container\">\n",
              "    <button class=\"colab-df-convert\" onclick=\"convertToInteractive('df-b6ab7a83-cc79-4f32-9da9-c7cd08d4a6c8')\"\n",
              "            title=\"Convert this dataframe to an interactive table.\"\n",
              "            style=\"display:none;\">\n",
              "\n",
              "  <svg xmlns=\"http://www.w3.org/2000/svg\" height=\"24px\" viewBox=\"0 -960 960 960\">\n",
              "    <path d=\"M120-120v-720h720v720H120Zm60-500h600v-160H180v160Zm220 220h160v-160H400v160Zm0 220h160v-160H400v160ZM180-400h160v-160H180v160Zm440 0h160v-160H620v160ZM180-180h160v-160H180v160Zm440 0h160v-160H620v160Z\"/>\n",
              "  </svg>\n",
              "    </button>\n",
              "\n",
              "  <style>\n",
              "    .colab-df-container {\n",
              "      display:flex;\n",
              "      gap: 12px;\n",
              "    }\n",
              "\n",
              "    .colab-df-convert {\n",
              "      background-color: #E8F0FE;\n",
              "      border: none;\n",
              "      border-radius: 50%;\n",
              "      cursor: pointer;\n",
              "      display: none;\n",
              "      fill: #1967D2;\n",
              "      height: 32px;\n",
              "      padding: 0 0 0 0;\n",
              "      width: 32px;\n",
              "    }\n",
              "\n",
              "    .colab-df-convert:hover {\n",
              "      background-color: #E2EBFA;\n",
              "      box-shadow: 0px 1px 2px rgba(60, 64, 67, 0.3), 0px 1px 3px 1px rgba(60, 64, 67, 0.15);\n",
              "      fill: #174EA6;\n",
              "    }\n",
              "\n",
              "    .colab-df-buttons div {\n",
              "      margin-bottom: 4px;\n",
              "    }\n",
              "\n",
              "    [theme=dark] .colab-df-convert {\n",
              "      background-color: #3B4455;\n",
              "      fill: #D2E3FC;\n",
              "    }\n",
              "\n",
              "    [theme=dark] .colab-df-convert:hover {\n",
              "      background-color: #434B5C;\n",
              "      box-shadow: 0px 1px 3px 1px rgba(0, 0, 0, 0.15);\n",
              "      filter: drop-shadow(0px 1px 2px rgba(0, 0, 0, 0.3));\n",
              "      fill: #FFFFFF;\n",
              "    }\n",
              "  </style>\n",
              "\n",
              "    <script>\n",
              "      const buttonEl =\n",
              "        document.querySelector('#df-b6ab7a83-cc79-4f32-9da9-c7cd08d4a6c8 button.colab-df-convert');\n",
              "      buttonEl.style.display =\n",
              "        google.colab.kernel.accessAllowed ? 'block' : 'none';\n",
              "\n",
              "      async function convertToInteractive(key) {\n",
              "        const element = document.querySelector('#df-b6ab7a83-cc79-4f32-9da9-c7cd08d4a6c8');\n",
              "        const dataTable =\n",
              "          await google.colab.kernel.invokeFunction('convertToInteractive',\n",
              "                                                    [key], {});\n",
              "        if (!dataTable) return;\n",
              "\n",
              "        const docLinkHtml = 'Like what you see? Visit the ' +\n",
              "          '<a target=\"_blank\" href=https://colab.research.google.com/notebooks/data_table.ipynb>data table notebook</a>'\n",
              "          + ' to learn more about interactive tables.';\n",
              "        element.innerHTML = '';\n",
              "        dataTable['output_type'] = 'display_data';\n",
              "        await google.colab.output.renderOutput(dataTable, element);\n",
              "        const docLink = document.createElement('div');\n",
              "        docLink.innerHTML = docLinkHtml;\n",
              "        element.appendChild(docLink);\n",
              "      }\n",
              "    </script>\n",
              "  </div>\n",
              "\n",
              "\n",
              "<div id=\"df-7d5b3f9b-2a9d-49e7-91db-415d1af6c122\">\n",
              "  <button class=\"colab-df-quickchart\" onclick=\"quickchart('df-7d5b3f9b-2a9d-49e7-91db-415d1af6c122')\"\n",
              "            title=\"Suggest charts\"\n",
              "            style=\"display:none;\">\n",
              "\n",
              "<svg xmlns=\"http://www.w3.org/2000/svg\" height=\"24px\"viewBox=\"0 0 24 24\"\n",
              "     width=\"24px\">\n",
              "    <g>\n",
              "        <path d=\"M19 3H5c-1.1 0-2 .9-2 2v14c0 1.1.9 2 2 2h14c1.1 0 2-.9 2-2V5c0-1.1-.9-2-2-2zM9 17H7v-7h2v7zm4 0h-2V7h2v10zm4 0h-2v-4h2v4z\"/>\n",
              "    </g>\n",
              "</svg>\n",
              "  </button>\n",
              "\n",
              "<style>\n",
              "  .colab-df-quickchart {\n",
              "      --bg-color: #E8F0FE;\n",
              "      --fill-color: #1967D2;\n",
              "      --hover-bg-color: #E2EBFA;\n",
              "      --hover-fill-color: #174EA6;\n",
              "      --disabled-fill-color: #AAA;\n",
              "      --disabled-bg-color: #DDD;\n",
              "  }\n",
              "\n",
              "  [theme=dark] .colab-df-quickchart {\n",
              "      --bg-color: #3B4455;\n",
              "      --fill-color: #D2E3FC;\n",
              "      --hover-bg-color: #434B5C;\n",
              "      --hover-fill-color: #FFFFFF;\n",
              "      --disabled-bg-color: #3B4455;\n",
              "      --disabled-fill-color: #666;\n",
              "  }\n",
              "\n",
              "  .colab-df-quickchart {\n",
              "    background-color: var(--bg-color);\n",
              "    border: none;\n",
              "    border-radius: 50%;\n",
              "    cursor: pointer;\n",
              "    display: none;\n",
              "    fill: var(--fill-color);\n",
              "    height: 32px;\n",
              "    padding: 0;\n",
              "    width: 32px;\n",
              "  }\n",
              "\n",
              "  .colab-df-quickchart:hover {\n",
              "    background-color: var(--hover-bg-color);\n",
              "    box-shadow: 0 1px 2px rgba(60, 64, 67, 0.3), 0 1px 3px 1px rgba(60, 64, 67, 0.15);\n",
              "    fill: var(--button-hover-fill-color);\n",
              "  }\n",
              "\n",
              "  .colab-df-quickchart-complete:disabled,\n",
              "  .colab-df-quickchart-complete:disabled:hover {\n",
              "    background-color: var(--disabled-bg-color);\n",
              "    fill: var(--disabled-fill-color);\n",
              "    box-shadow: none;\n",
              "  }\n",
              "\n",
              "  .colab-df-spinner {\n",
              "    border: 2px solid var(--fill-color);\n",
              "    border-color: transparent;\n",
              "    border-bottom-color: var(--fill-color);\n",
              "    animation:\n",
              "      spin 1s steps(1) infinite;\n",
              "  }\n",
              "\n",
              "  @keyframes spin {\n",
              "    0% {\n",
              "      border-color: transparent;\n",
              "      border-bottom-color: var(--fill-color);\n",
              "      border-left-color: var(--fill-color);\n",
              "    }\n",
              "    20% {\n",
              "      border-color: transparent;\n",
              "      border-left-color: var(--fill-color);\n",
              "      border-top-color: var(--fill-color);\n",
              "    }\n",
              "    30% {\n",
              "      border-color: transparent;\n",
              "      border-left-color: var(--fill-color);\n",
              "      border-top-color: var(--fill-color);\n",
              "      border-right-color: var(--fill-color);\n",
              "    }\n",
              "    40% {\n",
              "      border-color: transparent;\n",
              "      border-right-color: var(--fill-color);\n",
              "      border-top-color: var(--fill-color);\n",
              "    }\n",
              "    60% {\n",
              "      border-color: transparent;\n",
              "      border-right-color: var(--fill-color);\n",
              "    }\n",
              "    80% {\n",
              "      border-color: transparent;\n",
              "      border-right-color: var(--fill-color);\n",
              "      border-bottom-color: var(--fill-color);\n",
              "    }\n",
              "    90% {\n",
              "      border-color: transparent;\n",
              "      border-bottom-color: var(--fill-color);\n",
              "    }\n",
              "  }\n",
              "</style>\n",
              "\n",
              "  <script>\n",
              "    async function quickchart(key) {\n",
              "      const quickchartButtonEl =\n",
              "        document.querySelector('#' + key + ' button');\n",
              "      quickchartButtonEl.disabled = true;  // To prevent multiple clicks.\n",
              "      quickchartButtonEl.classList.add('colab-df-spinner');\n",
              "      try {\n",
              "        const charts = await google.colab.kernel.invokeFunction(\n",
              "            'suggestCharts', [key], {});\n",
              "      } catch (error) {\n",
              "        console.error('Error during call to suggestCharts:', error);\n",
              "      }\n",
              "      quickchartButtonEl.classList.remove('colab-df-spinner');\n",
              "      quickchartButtonEl.classList.add('colab-df-quickchart-complete');\n",
              "    }\n",
              "    (() => {\n",
              "      let quickchartButtonEl =\n",
              "        document.querySelector('#df-7d5b3f9b-2a9d-49e7-91db-415d1af6c122 button');\n",
              "      quickchartButtonEl.style.display =\n",
              "        google.colab.kernel.accessAllowed ? 'block' : 'none';\n",
              "    })();\n",
              "  </script>\n",
              "</div>\n",
              "\n",
              "    </div>\n",
              "  </div>\n"
            ]
          },
          "metadata": {},
          "execution_count": 4138
        }
      ]
    },
    {
      "cell_type": "code",
      "source": [
        "param_primeira_etapa = ['Lambda', 'Beta', 'Theta']\n",
        "param_segunda_etapa = ['Ciclos_MP', 'Melhor_Custo']\n",
        "convergencia = ['Convergencia_Primeira_Etapa', 'Convergencia_Segunda_Etapa']\n",
        "Melhor_Custo = ['Melhor_Custo']\n",
        "Lambda = ['Lambda']\n",
        "Beta = ['Beta']\n",
        "Theta = ['Theta']\n",
        "Convergencia_Primeira_Etapa = ['Convergencia_Primeira_Etapa']\n",
        "Convergencia_Segunda_Etapa = ['Convergencia_Segunda_Etapa']\n",
        "Ciclos_MP = ['Ciclos_MP']"
      ],
      "metadata": {
        "id": "G85nofRZHZsw"
      },
      "execution_count": 4139,
      "outputs": []
    },
    {
      "cell_type": "code",
      "source": [
        "# Cria uma grafico para os parametros Lambda, Beta e Theta\n",
        "# Tamanho da figura\n",
        "plt.figure(figsize=(9, 5))\n",
        "\n",
        "# Itera sobre as colunas e cria um boxplot para cada uma\n",
        "for i, coluna in enumerate(param_primeira_etapa):\n",
        "    plt.subplot(1, 3, i + 1)  # 1 linhas, 3 colunas de gráficos\n",
        "    plt.boxplot(resultado[coluna])\n",
        "    plt.title(coluna)\n",
        "    plt.ylabel('Valores')\n",
        "\n",
        "# Ajusta o layout\n",
        "plt.tight_layout()\n",
        "plt.show()"
      ],
      "metadata": {
        "id": "IucArnkQFWEH",
        "outputId": "d7b75ec6-5522-47e0-b522-2d950f544d8f",
        "colab": {
          "base_uri": "https://localhost:8080/",
          "height": 507
        }
      },
      "execution_count": 4140,
      "outputs": [
        {
          "output_type": "display_data",
          "data": {
            "text/plain": [
              "<Figure size 900x500 with 3 Axes>"
            ],
            "image/png": "[encoded data removed]"
          },
          "metadata": {}
        }
      ]
    },
    {
      "cell_type": "code",
      "source": [
        "# # Cria uma grafico para os parameros da segunda etapa\n",
        "# # Tamanho da figura\n",
        "# plt.figure(figsize=(8, 5))\n",
        "\n",
        "# # Itera sobre as colunas e cria um boxplot para cada uma\n",
        "# for i, coluna in enumerate(param_segunda_etapa):\n",
        "#     plt.subplot(1, 2, i + 1)  # 1 linhas, 3 colunas de gráficos\n",
        "#     plt.boxplot(resultado[coluna])\n",
        "#     plt.title(coluna)\n",
        "#     plt.ylabel('Valores')\n",
        "\n",
        "# # Ajusta o layout\n",
        "# plt.tight_layout()\n",
        "# plt.show()"
      ],
      "metadata": {
        "id": "SLqglbNovFBO"
      },
      "execution_count": 4141,
      "outputs": []
    },
    {
      "cell_type": "code",
      "source": [
        "# Cria uma grafico para comparar as convervencias da primeira e segunda etapa\n",
        "# Tamanho da figura\n",
        "plt.figure(figsize=(8, 5))\n",
        "\n",
        "# Itera sobre as colunas e cria um boxplot para cada uma\n",
        "for i, coluna in enumerate(convergencia):\n",
        "    plt.subplot(1, 2, i + 1)  # 1 linhas, 2 colunas de gráficos\n",
        "    plt.boxplot(resultado[coluna])\n",
        "    plt.title(coluna)\n",
        "    plt.ylabel('Valores')\n",
        "\n",
        "# Ajusta o layout\n",
        "plt.tight_layout()\n",
        "plt.show()"
      ],
      "metadata": {
        "colab": {
          "base_uri": "https://localhost:8080/",
          "height": 507
        },
        "id": "ARgEnkqqBVOU",
        "outputId": "be89fc57-2f37-4210-975c-0b32f9f0ef68"
      },
      "execution_count": 4142,
      "outputs": [
        {
          "output_type": "display_data",
          "data": {
            "text/plain": [
              "<Figure size 800x500 with 2 Axes>"
            ],
            "image/png": "[encoded data removed]"
          },
          "metadata": {}
        }
      ]
    },
    {
      "cell_type": "code",
      "source": [
        "# Arrays de tempos e severidade\n",
        "Tempos = [\n",
        "[[1022]],\n",
        "[[691]],\n",
        "[[1022]],\n",
        "[[365]],\n",
        "[[874]],\n",
        "[[1053]],\n",
        "[[1235]],\n",
        "[[781]],\n",
        "[[1380]],\n",
        "[[210]],\n",
        "]\n",
        "\n",
        "severidade = [\n",
        "    [[1.0]],\n",
        "    [[1.0]],\n",
        "    [[1.0]],\n",
        "    [[1.0]],\n",
        "    [[1.0]],\n",
        "    [[1.0]],\n",
        "    [[1.0]],\n",
        "    [[1.0]],\n",
        "    [[1.0]],\n",
        "    [[1.0]],\n",
        "]\n",
        "\n",
        "# Verifica se ambos os arrays têm o mesmo número de linhas\n",
        "if len(Tempos) == len(severidade):\n",
        "    with open(f'{LINK_ARQUIVO_PRINCIPAL}{NOME_ARQUIVO_PRINCIPAL}{NOME_ARQUIVO_TEMPO_SEVERIDADE}.csv', \"w\") as file:\n",
        "        file.write('Tempos_Manutencoes_Preventivas;Severidade_subsistema\\n')\n",
        "        for i in range(len(Tempos)):\n",
        "            row = Tempos[i] + severidade[i]\n",
        "            row_str = [str(value) for value in row]\n",
        "            file.write(f\"{i};{';'.join(row_str)}\\n\")\n",
        "else:\n",
        "    print(\"Os arrays têm números diferentes de linhas e não podem ser concatenados.\")"
      ],
      "metadata": {
        "id": "iP3dSchKxQ3e"
      },
      "execution_count": 4143,
      "outputs": []
    },
    {
      "cell_type": "code",
      "source": [
        "# Leitura dos dados de tempo de falha para 4 cenarios de exemplo\n",
        "dados = pd.read_csv(f'{LINK_ARQUIVO_PRINCIPAL}{NOME_ARQUIVO_PRINCIPAL}{NOME_ARQUIVO_TEMPO_SEVERIDADE}.csv', sep=\";\")\n",
        "dados.head(10)"
      ],
      "metadata": {
        "id": "I1Smy3tlIsqw",
        "outputId": "ec8f7a89-ae51-49ee-be02-a2fcba7e1945",
        "colab": {
          "base_uri": "https://localhost:8080/",
          "height": 363
        }
      },
      "execution_count": 4144,
      "outputs": [
        {
          "output_type": "execute_result",
          "data": {
            "text/plain": [
              "  Tempos_Manutencoes_Preventivas Severidade_subsistema\n",
              "0                         [1022]                 [1.0]\n",
              "1                          [691]                 [1.0]\n",
              "2                         [1022]                 [1.0]\n",
              "3                          [365]                 [1.0]\n",
              "4                          [874]                 [1.0]\n",
              "5                         [1053]                 [1.0]\n",
              "6                         [1235]                 [1.0]\n",
              "7                          [781]                 [1.0]\n",
              "8                         [1380]                 [1.0]\n",
              "9                          [210]                 [1.0]"
            ],
            "text/html": [
              "\n",
              "  <div id=\"df-705c71bc-309a-4000-bcab-de12d5603516\" class=\"colab-df-container\">\n",
              "    <div>\n",
              "<style scoped>\n",
              "    .dataframe tbody tr th:only-of-type {\n",
              "        vertical-align: middle;\n",
              "    }\n",
              "\n",
              "    .dataframe tbody tr th {\n",
              "        vertical-align: top;\n",
              "    }\n",
              "\n",
              "    .dataframe thead th {\n",
              "        text-align: right;\n",
              "    }\n",
              "</style>\n",
              "<table border=\"1\" class=\"dataframe\">\n",
              "  <thead>\n",
              "    <tr style=\"text-align: right;\">\n",
              "      <th></th>\n",
              "      <th>Tempos_Manutencoes_Preventivas</th>\n",
              "      <th>Severidade_subsistema</th>\n",
              "    </tr>\n",
              "  </thead>\n",
              "  <tbody>\n",
              "    <tr>\n",
              "      <th>0</th>\n",
              "      <td>[1022]</td>\n",
              "      <td>[1.0]</td>\n",
              "    </tr>\n",
              "    <tr>\n",
              "      <th>1</th>\n",
              "      <td>[691]</td>\n",
              "      <td>[1.0]</td>\n",
              "    </tr>\n",
              "    <tr>\n",
              "      <th>2</th>\n",
              "      <td>[1022]</td>\n",
              "      <td>[1.0]</td>\n",
              "    </tr>\n",
              "    <tr>\n",
              "      <th>3</th>\n",
              "      <td>[365]</td>\n",
              "      <td>[1.0]</td>\n",
              "    </tr>\n",
              "    <tr>\n",
              "      <th>4</th>\n",
              "      <td>[874]</td>\n",
              "      <td>[1.0]</td>\n",
              "    </tr>\n",
              "    <tr>\n",
              "      <th>5</th>\n",
              "      <td>[1053]</td>\n",
              "      <td>[1.0]</td>\n",
              "    </tr>\n",
              "    <tr>\n",
              "      <th>6</th>\n",
              "      <td>[1235]</td>\n",
              "      <td>[1.0]</td>\n",
              "    </tr>\n",
              "    <tr>\n",
              "      <th>7</th>\n",
              "      <td>[781]</td>\n",
              "      <td>[1.0]</td>\n",
              "    </tr>\n",
              "    <tr>\n",
              "      <th>8</th>\n",
              "      <td>[1380]</td>\n",
              "      <td>[1.0]</td>\n",
              "    </tr>\n",
              "    <tr>\n",
              "      <th>9</th>\n",
              "      <td>[210]</td>\n",
              "      <td>[1.0]</td>\n",
              "    </tr>\n",
              "  </tbody>\n",
              "</table>\n",
              "</div>\n",
              "    <div class=\"colab-df-buttons\">\n",
              "\n",
              "  <div class=\"colab-df-container\">\n",
              "    <button class=\"colab-df-convert\" onclick=\"convertToInteractive('df-705c71bc-309a-4000-bcab-de12d5603516')\"\n",
              "            title=\"Convert this dataframe to an interactive table.\"\n",
              "            style=\"display:none;\">\n",
              "\n",
              "  <svg xmlns=\"http://www.w3.org/2000/svg\" height=\"24px\" viewBox=\"0 -960 960 960\">\n",
              "    <path d=\"M120-120v-720h720v720H120Zm60-500h600v-160H180v160Zm220 220h160v-160H400v160Zm0 220h160v-160H400v160ZM180-400h160v-160H180v160Zm440 0h160v-160H620v160ZM180-180h160v-160H180v160Zm440 0h160v-160H620v160Z\"/>\n",
              "  </svg>\n",
              "    </button>\n",
              "\n",
              "  <style>\n",
              "    .colab-df-container {\n",
              "      display:flex;\n",
              "      gap: 12px;\n",
              "    }\n",
              "\n",
              "    .colab-df-convert {\n",
              "      background-color: #E8F0FE;\n",
              "      border: none;\n",
              "      border-radius: 50%;\n",
              "      cursor: pointer;\n",
              "      display: none;\n",
              "      fill: #1967D2;\n",
              "      height: 32px;\n",
              "      padding: 0 0 0 0;\n",
              "      width: 32px;\n",
              "    }\n",
              "\n",
              "    .colab-df-convert:hover {\n",
              "      background-color: #E2EBFA;\n",
              "      box-shadow: 0px 1px 2px rgba(60, 64, 67, 0.3), 0px 1px 3px 1px rgba(60, 64, 67, 0.15);\n",
              "      fill: #174EA6;\n",
              "    }\n",
              "\n",
              "    .colab-df-buttons div {\n",
              "      margin-bottom: 4px;\n",
              "    }\n",
              "\n",
              "    [theme=dark] .colab-df-convert {\n",
              "      background-color: #3B4455;\n",
              "      fill: #D2E3FC;\n",
              "    }\n",
              "\n",
              "    [theme=dark] .colab-df-convert:hover {\n",
              "      background-color: #434B5C;\n",
              "      box-shadow: 0px 1px 3px 1px rgba(0, 0, 0, 0.15);\n",
              "      filter: drop-shadow(0px 1px 2px rgba(0, 0, 0, 0.3));\n",
              "      fill: #FFFFFF;\n",
              "    }\n",
              "  </style>\n",
              "\n",
              "    <script>\n",
              "      const buttonEl =\n",
              "        document.querySelector('#df-705c71bc-309a-4000-bcab-de12d5603516 button.colab-df-convert');\n",
              "      buttonEl.style.display =\n",
              "        google.colab.kernel.accessAllowed ? 'block' : 'none';\n",
              "\n",
              "      async function convertToInteractive(key) {\n",
              "        const element = document.querySelector('#df-705c71bc-309a-4000-bcab-de12d5603516');\n",
              "        const dataTable =\n",
              "          await google.colab.kernel.invokeFunction('convertToInteractive',\n",
              "                                                    [key], {});\n",
              "        if (!dataTable) return;\n",
              "\n",
              "        const docLinkHtml = 'Like what you see? Visit the ' +\n",
              "          '<a target=\"_blank\" href=https://colab.research.google.com/notebooks/data_table.ipynb>data table notebook</a>'\n",
              "          + ' to learn more about interactive tables.';\n",
              "        element.innerHTML = '';\n",
              "        dataTable['output_type'] = 'display_data';\n",
              "        await google.colab.output.renderOutput(dataTable, element);\n",
              "        const docLink = document.createElement('div');\n",
              "        docLink.innerHTML = docLinkHtml;\n",
              "        element.appendChild(docLink);\n",
              "      }\n",
              "    </script>\n",
              "  </div>\n",
              "\n",
              "\n",
              "<div id=\"df-bcfd8101-3c1d-4a95-8cda-1771344657b1\">\n",
              "  <button class=\"colab-df-quickchart\" onclick=\"quickchart('df-bcfd8101-3c1d-4a95-8cda-1771344657b1')\"\n",
              "            title=\"Suggest charts\"\n",
              "            style=\"display:none;\">\n",
              "\n",
              "<svg xmlns=\"http://www.w3.org/2000/svg\" height=\"24px\"viewBox=\"0 0 24 24\"\n",
              "     width=\"24px\">\n",
              "    <g>\n",
              "        <path d=\"M19 3H5c-1.1 0-2 .9-2 2v14c0 1.1.9 2 2 2h14c1.1 0 2-.9 2-2V5c0-1.1-.9-2-2-2zM9 17H7v-7h2v7zm4 0h-2V7h2v10zm4 0h-2v-4h2v4z\"/>\n",
              "    </g>\n",
              "</svg>\n",
              "  </button>\n",
              "\n",
              "<style>\n",
              "  .colab-df-quickchart {\n",
              "      --bg-color: #E8F0FE;\n",
              "      --fill-color: #1967D2;\n",
              "      --hover-bg-color: #E2EBFA;\n",
              "      --hover-fill-color: #174EA6;\n",
              "      --disabled-fill-color: #AAA;\n",
              "      --disabled-bg-color: #DDD;\n",
              "  }\n",
              "\n",
              "  [theme=dark] .colab-df-quickchart {\n",
              "      --bg-color: #3B4455;\n",
              "      --fill-color: #D2E3FC;\n",
              "      --hover-bg-color: #434B5C;\n",
              "      --hover-fill-color: #FFFFFF;\n",
              "      --disabled-bg-color: #3B4455;\n",
              "      --disabled-fill-color: #666;\n",
              "  }\n",
              "\n",
              "  .colab-df-quickchart {\n",
              "    background-color: var(--bg-color);\n",
              "    border: none;\n",
              "    border-radius: 50%;\n",
              "    cursor: pointer;\n",
              "    display: none;\n",
              "    fill: var(--fill-color);\n",
              "    height: 32px;\n",
              "    padding: 0;\n",
              "    width: 32px;\n",
              "  }\n",
              "\n",
              "  .colab-df-quickchart:hover {\n",
              "    background-color: var(--hover-bg-color);\n",
              "    box-shadow: 0 1px 2px rgba(60, 64, 67, 0.3), 0 1px 3px 1px rgba(60, 64, 67, 0.15);\n",
              "    fill: var(--button-hover-fill-color);\n",
              "  }\n",
              "\n",
              "  .colab-df-quickchart-complete:disabled,\n",
              "  .colab-df-quickchart-complete:disabled:hover {\n",
              "    background-color: var(--disabled-bg-color);\n",
              "    fill: var(--disabled-fill-color);\n",
              "    box-shadow: none;\n",
              "  }\n",
              "\n",
              "  .colab-df-spinner {\n",
              "    border: 2px solid var(--fill-color);\n",
              "    border-color: transparent;\n",
              "    border-bottom-color: var(--fill-color);\n",
              "    animation:\n",
              "      spin 1s steps(1) infinite;\n",
              "  }\n",
              "\n",
              "  @keyframes spin {\n",
              "    0% {\n",
              "      border-color: transparent;\n",
              "      border-bottom-color: var(--fill-color);\n",
              "      border-left-color: var(--fill-color);\n",
              "    }\n",
              "    20% {\n",
              "      border-color: transparent;\n",
              "      border-left-color: var(--fill-color);\n",
              "      border-top-color: var(--fill-color);\n",
              "    }\n",
              "    30% {\n",
              "      border-color: transparent;\n",
              "      border-left-color: var(--fill-color);\n",
              "      border-top-color: var(--fill-color);\n",
              "      border-right-color: var(--fill-color);\n",
              "    }\n",
              "    40% {\n",
              "      border-color: transparent;\n",
              "      border-right-color: var(--fill-color);\n",
              "      border-top-color: var(--fill-color);\n",
              "    }\n",
              "    60% {\n",
              "      border-color: transparent;\n",
              "      border-right-color: var(--fill-color);\n",
              "    }\n",
              "    80% {\n",
              "      border-color: transparent;\n",
              "      border-right-color: var(--fill-color);\n",
              "      border-bottom-color: var(--fill-color);\n",
              "    }\n",
              "    90% {\n",
              "      border-color: transparent;\n",
              "      border-bottom-color: var(--fill-color);\n",
              "    }\n",
              "  }\n",
              "</style>\n",
              "\n",
              "  <script>\n",
              "    async function quickchart(key) {\n",
              "      const quickchartButtonEl =\n",
              "        document.querySelector('#' + key + ' button');\n",
              "      quickchartButtonEl.disabled = true;  // To prevent multiple clicks.\n",
              "      quickchartButtonEl.classList.add('colab-df-spinner');\n",
              "      try {\n",
              "        const charts = await google.colab.kernel.invokeFunction(\n",
              "            'suggestCharts', [key], {});\n",
              "      } catch (error) {\n",
              "        console.error('Error during call to suggestCharts:', error);\n",
              "      }\n",
              "      quickchartButtonEl.classList.remove('colab-df-spinner');\n",
              "      quickchartButtonEl.classList.add('colab-df-quickchart-complete');\n",
              "    }\n",
              "    (() => {\n",
              "      let quickchartButtonEl =\n",
              "        document.querySelector('#df-bcfd8101-3c1d-4a95-8cda-1771344657b1 button');\n",
              "      quickchartButtonEl.style.display =\n",
              "        google.colab.kernel.accessAllowed ? 'block' : 'none';\n",
              "    })();\n",
              "  </script>\n",
              "</div>\n",
              "\n",
              "    </div>\n",
              "  </div>\n"
            ]
          },
          "metadata": {},
          "execution_count": 4144
        }
      ]
    },
    {
      "cell_type": "code",
      "source": [
        "dados.info()"
      ],
      "metadata": {
        "id": "HwRD4mOCSQH-",
        "outputId": "4e2d04b4-ecf4-4e5f-d241-44df37fb9d23",
        "colab": {
          "base_uri": "https://localhost:8080/"
        }
      },
      "execution_count": 4145,
      "outputs": [
        {
          "output_type": "stream",
          "name": "stdout",
          "text": [
            "<class 'pandas.core.frame.DataFrame'>\n",
            "Int64Index: 10 entries, 0 to 9\n",
            "Data columns (total 2 columns):\n",
            " #   Column                          Non-Null Count  Dtype \n",
            "---  ------                          --------------  ----- \n",
            " 0   Tempos_Manutencoes_Preventivas  10 non-null     object\n",
            " 1   Severidade_subsistema           10 non-null     object\n",
            "dtypes: object(2)\n",
            "memory usage: 240.0+ bytes\n"
          ]
        }
      ]
    },
    {
      "cell_type": "code",
      "source": [
        "dados.describe()"
      ],
      "metadata": {
        "id": "6gqn8fCwSoVA",
        "outputId": "b5b14499-fde2-40b8-c918-0149fe2af46e",
        "colab": {
          "base_uri": "https://localhost:8080/",
          "height": 175
        }
      },
      "execution_count": 4146,
      "outputs": [
        {
          "output_type": "execute_result",
          "data": {
            "text/plain": [
              "       Tempos_Manutencoes_Preventivas Severidade_subsistema\n",
              "count                              10                    10\n",
              "unique                              9                     1\n",
              "top                            [1022]                 [1.0]\n",
              "freq                                2                    10"
            ],
            "text/html": [
              "\n",
              "  <div id=\"df-fbcdec2c-30eb-4d87-920b-a0a5102e1d49\" class=\"colab-df-container\">\n",
              "    <div>\n",
              "<style scoped>\n",
              "    .dataframe tbody tr th:only-of-type {\n",
              "        vertical-align: middle;\n",
              "    }\n",
              "\n",
              "    .dataframe tbody tr th {\n",
              "        vertical-align: top;\n",
              "    }\n",
              "\n",
              "    .dataframe thead th {\n",
              "        text-align: right;\n",
              "    }\n",
              "</style>\n",
              "<table border=\"1\" class=\"dataframe\">\n",
              "  <thead>\n",
              "    <tr style=\"text-align: right;\">\n",
              "      <th></th>\n",
              "      <th>Tempos_Manutencoes_Preventivas</th>\n",
              "      <th>Severidade_subsistema</th>\n",
              "    </tr>\n",
              "  </thead>\n",
              "  <tbody>\n",
              "    <tr>\n",
              "      <th>count</th>\n",
              "      <td>10</td>\n",
              "      <td>10</td>\n",
              "    </tr>\n",
              "    <tr>\n",
              "      <th>unique</th>\n",
              "      <td>9</td>\n",
              "      <td>1</td>\n",
              "    </tr>\n",
              "    <tr>\n",
              "      <th>top</th>\n",
              "      <td>[1022]</td>\n",
              "      <td>[1.0]</td>\n",
              "    </tr>\n",
              "    <tr>\n",
              "      <th>freq</th>\n",
              "      <td>2</td>\n",
              "      <td>10</td>\n",
              "    </tr>\n",
              "  </tbody>\n",
              "</table>\n",
              "</div>\n",
              "    <div class=\"colab-df-buttons\">\n",
              "\n",
              "  <div class=\"colab-df-container\">\n",
              "    <button class=\"colab-df-convert\" onclick=\"convertToInteractive('df-fbcdec2c-30eb-4d87-920b-a0a5102e1d49')\"\n",
              "            title=\"Convert this dataframe to an interactive table.\"\n",
              "            style=\"display:none;\">\n",
              "\n",
              "  <svg xmlns=\"http://www.w3.org/2000/svg\" height=\"24px\" viewBox=\"0 -960 960 960\">\n",
              "    <path d=\"M120-120v-720h720v720H120Zm60-500h600v-160H180v160Zm220 220h160v-160H400v160Zm0 220h160v-160H400v160ZM180-400h160v-160H180v160Zm440 0h160v-160H620v160ZM180-180h160v-160H180v160Zm440 0h160v-160H620v160Z\"/>\n",
              "  </svg>\n",
              "    </button>\n",
              "\n",
              "  <style>\n",
              "    .colab-df-container {\n",
              "      display:flex;\n",
              "      gap: 12px;\n",
              "    }\n",
              "\n",
              "    .colab-df-convert {\n",
              "      background-color: #E8F0FE;\n",
              "      border: none;\n",
              "      border-radius: 50%;\n",
              "      cursor: pointer;\n",
              "      display: none;\n",
              "      fill: #1967D2;\n",
              "      height: 32px;\n",
              "      padding: 0 0 0 0;\n",
              "      width: 32px;\n",
              "    }\n",
              "\n",
              "    .colab-df-convert:hover {\n",
              "      background-color: #E2EBFA;\n",
              "      box-shadow: 0px 1px 2px rgba(60, 64, 67, 0.3), 0px 1px 3px 1px rgba(60, 64, 67, 0.15);\n",
              "      fill: #174EA6;\n",
              "    }\n",
              "\n",
              "    .colab-df-buttons div {\n",
              "      margin-bottom: 4px;\n",
              "    }\n",
              "\n",
              "    [theme=dark] .colab-df-convert {\n",
              "      background-color: #3B4455;\n",
              "      fill: #D2E3FC;\n",
              "    }\n",
              "\n",
              "    [theme=dark] .colab-df-convert:hover {\n",
              "      background-color: #434B5C;\n",
              "      box-shadow: 0px 1px 3px 1px rgba(0, 0, 0, 0.15);\n",
              "      filter: drop-shadow(0px 1px 2px rgba(0, 0, 0, 0.3));\n",
              "      fill: #FFFFFF;\n",
              "    }\n",
              "  </style>\n",
              "\n",
              "    <script>\n",
              "      const buttonEl =\n",
              "        document.querySelector('#df-fbcdec2c-30eb-4d87-920b-a0a5102e1d49 button.colab-df-convert');\n",
              "      buttonEl.style.display =\n",
              "        google.colab.kernel.accessAllowed ? 'block' : 'none';\n",
              "\n",
              "      async function convertToInteractive(key) {\n",
              "        const element = document.querySelector('#df-fbcdec2c-30eb-4d87-920b-a0a5102e1d49');\n",
              "        const dataTable =\n",
              "          await google.colab.kernel.invokeFunction('convertToInteractive',\n",
              "                                                    [key], {});\n",
              "        if (!dataTable) return;\n",
              "\n",
              "        const docLinkHtml = 'Like what you see? Visit the ' +\n",
              "          '<a target=\"_blank\" href=https://colab.research.google.com/notebooks/data_table.ipynb>data table notebook</a>'\n",
              "          + ' to learn more about interactive tables.';\n",
              "        element.innerHTML = '';\n",
              "        dataTable['output_type'] = 'display_data';\n",
              "        await google.colab.output.renderOutput(dataTable, element);\n",
              "        const docLink = document.createElement('div');\n",
              "        docLink.innerHTML = docLinkHtml;\n",
              "        element.appendChild(docLink);\n",
              "      }\n",
              "    </script>\n",
              "  </div>\n",
              "\n",
              "\n",
              "<div id=\"df-69a8a717-4f9a-4a77-b648-0322af391a04\">\n",
              "  <button class=\"colab-df-quickchart\" onclick=\"quickchart('df-69a8a717-4f9a-4a77-b648-0322af391a04')\"\n",
              "            title=\"Suggest charts\"\n",
              "            style=\"display:none;\">\n",
              "\n",
              "<svg xmlns=\"http://www.w3.org/2000/svg\" height=\"24px\"viewBox=\"0 0 24 24\"\n",
              "     width=\"24px\">\n",
              "    <g>\n",
              "        <path d=\"M19 3H5c-1.1 0-2 .9-2 2v14c0 1.1.9 2 2 2h14c1.1 0 2-.9 2-2V5c0-1.1-.9-2-2-2zM9 17H7v-7h2v7zm4 0h-2V7h2v10zm4 0h-2v-4h2v4z\"/>\n",
              "    </g>\n",
              "</svg>\n",
              "  </button>\n",
              "\n",
              "<style>\n",
              "  .colab-df-quickchart {\n",
              "      --bg-color: #E8F0FE;\n",
              "      --fill-color: #1967D2;\n",
              "      --hover-bg-color: #E2EBFA;\n",
              "      --hover-fill-color: #174EA6;\n",
              "      --disabled-fill-color: #AAA;\n",
              "      --disabled-bg-color: #DDD;\n",
              "  }\n",
              "\n",
              "  [theme=dark] .colab-df-quickchart {\n",
              "      --bg-color: #3B4455;\n",
              "      --fill-color: #D2E3FC;\n",
              "      --hover-bg-color: #434B5C;\n",
              "      --hover-fill-color: #FFFFFF;\n",
              "      --disabled-bg-color: #3B4455;\n",
              "      --disabled-fill-color: #666;\n",
              "  }\n",
              "\n",
              "  .colab-df-quickchart {\n",
              "    background-color: var(--bg-color);\n",
              "    border: none;\n",
              "    border-radius: 50%;\n",
              "    cursor: pointer;\n",
              "    display: none;\n",
              "    fill: var(--fill-color);\n",
              "    height: 32px;\n",
              "    padding: 0;\n",
              "    width: 32px;\n",
              "  }\n",
              "\n",
              "  .colab-df-quickchart:hover {\n",
              "    background-color: var(--hover-bg-color);\n",
              "    box-shadow: 0 1px 2px rgba(60, 64, 67, 0.3), 0 1px 3px 1px rgba(60, 64, 67, 0.15);\n",
              "    fill: var(--button-hover-fill-color);\n",
              "  }\n",
              "\n",
              "  .colab-df-quickchart-complete:disabled,\n",
              "  .colab-df-quickchart-complete:disabled:hover {\n",
              "    background-color: var(--disabled-bg-color);\n",
              "    fill: var(--disabled-fill-color);\n",
              "    box-shadow: none;\n",
              "  }\n",
              "\n",
              "  .colab-df-spinner {\n",
              "    border: 2px solid var(--fill-color);\n",
              "    border-color: transparent;\n",
              "    border-bottom-color: var(--fill-color);\n",
              "    animation:\n",
              "      spin 1s steps(1) infinite;\n",
              "  }\n",
              "\n",
              "  @keyframes spin {\n",
              "    0% {\n",
              "      border-color: transparent;\n",
              "      border-bottom-color: var(--fill-color);\n",
              "      border-left-color: var(--fill-color);\n",
              "    }\n",
              "    20% {\n",
              "      border-color: transparent;\n",
              "      border-left-color: var(--fill-color);\n",
              "      border-top-color: var(--fill-color);\n",
              "    }\n",
              "    30% {\n",
              "      border-color: transparent;\n",
              "      border-left-color: var(--fill-color);\n",
              "      border-top-color: var(--fill-color);\n",
              "      border-right-color: var(--fill-color);\n",
              "    }\n",
              "    40% {\n",
              "      border-color: transparent;\n",
              "      border-right-color: var(--fill-color);\n",
              "      border-top-color: var(--fill-color);\n",
              "    }\n",
              "    60% {\n",
              "      border-color: transparent;\n",
              "      border-right-color: var(--fill-color);\n",
              "    }\n",
              "    80% {\n",
              "      border-color: transparent;\n",
              "      border-right-color: var(--fill-color);\n",
              "      border-bottom-color: var(--fill-color);\n",
              "    }\n",
              "    90% {\n",
              "      border-color: transparent;\n",
              "      border-bottom-color: var(--fill-color);\n",
              "    }\n",
              "  }\n",
              "</style>\n",
              "\n",
              "  <script>\n",
              "    async function quickchart(key) {\n",
              "      const quickchartButtonEl =\n",
              "        document.querySelector('#' + key + ' button');\n",
              "      quickchartButtonEl.disabled = true;  // To prevent multiple clicks.\n",
              "      quickchartButtonEl.classList.add('colab-df-spinner');\n",
              "      try {\n",
              "        const charts = await google.colab.kernel.invokeFunction(\n",
              "            'suggestCharts', [key], {});\n",
              "      } catch (error) {\n",
              "        console.error('Error during call to suggestCharts:', error);\n",
              "      }\n",
              "      quickchartButtonEl.classList.remove('colab-df-spinner');\n",
              "      quickchartButtonEl.classList.add('colab-df-quickchart-complete');\n",
              "    }\n",
              "    (() => {\n",
              "      let quickchartButtonEl =\n",
              "        document.querySelector('#df-69a8a717-4f9a-4a77-b648-0322af391a04 button');\n",
              "      quickchartButtonEl.style.display =\n",
              "        google.colab.kernel.accessAllowed ? 'block' : 'none';\n",
              "    })();\n",
              "  </script>\n",
              "</div>\n",
              "\n",
              "    </div>\n",
              "  </div>\n"
            ]
          },
          "metadata": {},
          "execution_count": 4146
        }
      ]
    }
  ]
}