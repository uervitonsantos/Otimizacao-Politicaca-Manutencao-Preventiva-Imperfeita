{
  "nbformat": 4,
  "nbformat_minor": 0,
  "metadata": {
    "colab": {
      "provenance": [],
      "mount_file_id": "1RdFgP-oDl5GfiBXVSjm47plKw1zogDMB",
      "authorship_tag": "ABX9TyM0oGupK2Ihi6cKn+gfx3PA",
      "include_colab_link": true
    },
    "kernelspec": {
      "name": "python3",
      "display_name": "Python 3"
    },
    "language_info": {
      "name": "python"
    }
  },
  "cells": [
    {
      "cell_type": "markdown",
      "metadata": {
        "id": "view-in-github",
        "colab_type": "text"
      },
      "source": [
        "<a href=\"https://colab.research.google.com/github/uervitonsantos/Otimizacao-Politicaca-Manutencao-Preventiva-Imperfeita/blob/main/Algoritmo_PSO_para_otimiza%C3%A7%C3%A3o_de_custo_de_manuten%C3%A7%C3%A3o_preventiva_v7.ipynb\" target=\"_parent\"><img src=\"https://colab.research.google.com/assets/colab-badge.svg\" alt=\"Open In Colab\"/></a>"
      ]
    },
    {
      "cell_type": "markdown",
      "source": [
        "Dataset de dados de confiabilidade: https://drive.google.com/drive/folders/1b7jqK1A2XI1oZ4YhDXw_4xdnSTbfuBVK?usp=sharing"
      ],
      "metadata": {
        "id": "wZi0pIL-Ch37"
      }
    },
    {
      "cell_type": "code",
      "execution_count": 161,
      "metadata": {
        "id": "VM8_ebpiVP0V"
      },
      "outputs": [],
      "source": [
        "%%capture\n",
        "pip install pyswarms"
      ]
    },
    {
      "cell_type": "code",
      "source": [
        "import numpy as np\n",
        "import pandas as pd\n",
        "import math\n",
        "import matplotlib.pyplot as plt\n",
        "import time\n",
        "from pyswarms.single.global_best import GlobalBestPSO\n",
        "import pyswarms as ps\n",
        "from pyswarms.utils.search import RandomSearch\n",
        "from pyswarms.utils.functions import single_obj as fx\n",
        "from pyswarms.utils.plotters import (plot_cost_history, plot_contour, plot_surface)\n",
        "import plotly.graph_objects as go\n",
        "from pyswarms.utils.plotters.formatters import Designer\n",
        "from pyswarms.utils.plotters.formatters import Mesher\n",
        "from mpl_toolkits.mplot3d import Axes3D"
      ],
      "metadata": {
        "id": "2sVG0WwfVrUs"
      },
      "execution_count": 162,
      "outputs": []
    },
    {
      "cell_type": "code",
      "source": [
        "MAX_VALUE_CUSTO = 10000\n",
        "fator_melhoria = 'expo'"
      ],
      "metadata": {
        "id": "FeZKvg25Vtwz"
      },
      "execution_count": 163,
      "outputs": []
    },
    {
      "cell_type": "code",
      "source": [
        "# Custos MC e MP\n",
        "CMC = 4000\n",
        "CMP = 2000"
      ],
      "metadata": {
        "id": "JFnJpCJGVx7P"
      },
      "execution_count": 164,
      "outputs": []
    },
    {
      "cell_type": "code",
      "source": [
        "class IntensidadeFalha:\n",
        "    # Este método vai inicializar cada objeto criado a partir desta classe\n",
        "    # O nome deste método é \"inicio\"\n",
        "    # (self) é uma referência a cada atributo de um objeto criado a partir desta classe\n",
        "    # Os atributos de cada objeto criados a partir desta classe.\n",
        "    # O self indica que estes são atributos dos objetos\n",
        "    def __init__(self):\n",
        "        self.fator = None\n",
        "        self.lamb = None\n",
        "        self.beta = None\n",
        "        self.theta = None\n",
        "        self.sz = None\n",
        "        self.T = None\n",
        "        self.u = None\n",
        "\n",
        "    def inicio(self, T, fator, solucao):\n",
        "        self.fator = fator\n",
        "        self.lamb = solucao[0]\n",
        "        self.beta = solucao[1]\n",
        "        self.theta = solucao[2]\n",
        "        self.sz = int(T[-1])\n",
        "        self.T = T\n",
        "\n",
        "    def create(self):\n",
        "        self.u = []\n",
        "        # Reducao de Idade com fator de melhoria linear\n",
        "        for i, tc in enumerate(self.T[1:], start=1):\n",
        "            for tt in range(int(self.T[i-1]), int(tc)+1):\n",
        "                b = tt - self.fator[0][i-1] * self.T[i-1]\n",
        "                self.u.append((1 / (self.lamb ** self.beta)) * self.beta * b ** (self.beta - 1))\n",
        "\n",
        "                if tt == tc:\n",
        "                    self.u.append(float('nan'))\n",
        "            break\n",
        "    # plota e salva a figura da função de intensidade de falha\n",
        "    def plotar(self):\n",
        "        fig = plt.figure(figsize=(20, 5))\n",
        "        plt.plot(self.u)\n",
        "\n",
        "        for xc in self.T:\n",
        "            plt.axvline(x=xc, color='r', linestyle='--')\n",
        "\n",
        "        plt.xlabel(\"Tempo (dias)\")\n",
        "        plt.ylabel(\"Função intensidade de falha\")\n",
        "        plt.xlim(0)\n",
        "        plt.grid(True)\n",
        "        plt.show()"
      ],
      "metadata": {
        "id": "QhF2qTuDV2P1"
      },
      "execution_count": 165,
      "outputs": []
    },
    {
      "cell_type": "code",
      "source": [
        "# Define a função de melhoria constante\n",
        "def const(ck, m, s, theta):\n",
        "    fator = [[theta] * ck] * m\n",
        "    return fator"
      ],
      "metadata": {
        "id": "mMRO_z3_V4a3"
      },
      "execution_count": 166,
      "outputs": []
    },
    {
      "cell_type": "code",
      "source": [
        "# Define a função de melhoria linear\n",
        "def linear(ck, m, s, theta):\n",
        "    fator = []\n",
        "    for k in range(0, m, 1):\n",
        "        linha = [0]\n",
        "        for j in range(0, ck, 1):\n",
        "            linha.append(s[k][j] * theta)\n",
        "        fator.append(linha)\n",
        "    return fator"
      ],
      "metadata": {
        "id": "S_fCxa7GV65n"
      },
      "execution_count": 167,
      "outputs": []
    },
    {
      "cell_type": "code",
      "source": [
        " # Define a função de melhoria exponencial\n",
        "def expo(ck, m, s, theta):\n",
        "    fator = []\n",
        "    for k in range(0, m, 1):\n",
        "        linha = []\n",
        "        for j in range(0, ck, 1):\n",
        "            linha.append(1.0 - np.exp(-s[k][j] * theta))\n",
        "        fator.append(linha)\n",
        "    return fator"
      ],
      "metadata": {
        "id": "NV3lIXl9V9FL"
      },
      "execution_count": 168,
      "outputs": []
    },
    {
      "cell_type": "code",
      "source": [
        "# Define a função de melhoria potência\n",
        "def pot(ck, m, s, theta):\n",
        "    fator = []\n",
        "    for k in range(0, m, 1):\n",
        "        linha = []\n",
        "        for j in range(0, ck, 1):\n",
        "            linha.append(s[k][j] ** theta)\n",
        "        fator.append(linha)\n",
        "    return fator"
      ],
      "metadata": {
        "id": "ikxXlzxKV-0K"
      },
      "execution_count": 169,
      "outputs": []
    },
    {
      "cell_type": "code",
      "source": [
        "# Define a função de melhoria para manutenção perfeita\n",
        "def mpp(ck, m, s, theta):\n",
        "    fator = []\n",
        "    for k in range(0, m, 1):\n",
        "        linha = []\n",
        "        for j in range(0, ck, 1):\n",
        "            linha.append(1)\n",
        "        fator.append(linha)\n",
        "    return fator"
      ],
      "metadata": {
        "id": "xcHr8tSFWAus"
      },
      "execution_count": 170,
      "outputs": []
    },
    {
      "cell_type": "code",
      "source": [
        "# Executa a função de melhoria com base no parâmetro fornecido\n",
        "def execute_function(fator_melhoria, ck, m, s, theta):\n",
        "    return {\n",
        "        'const': lambda: const(ck, m, s, theta),\n",
        "        'linear': lambda: linear(ck, m, s, theta),\n",
        "        'expo': lambda: expo(ck, m, s, theta),\n",
        "        'pot': lambda: pot(ck, m, s, theta),\n",
        "        'mpp': lambda: mpp(ck, m, s, theta),\n",
        "    }[fator_melhoria]()"
      ],
      "metadata": {
        "id": "R5KeFcseWDH6"
      },
      "execution_count": 171,
      "outputs": []
    },
    {
      "cell_type": "code",
      "source": [
        "# Função custo de manutenção baseada em severidade\n",
        "def custo_mp(s, CMP):\n",
        "    dist = {0.25: 2000, 0.5: 4000, 0.75: 12000, 1.0: 20000}\n",
        "    if not isinstance(s, list):\n",
        "        s = [s]  # Transforma s em uma lista com um único elemento\n",
        "    cmp_f = np.sum([CMP if si < 0.25 or si > 1.0 else np.interp(si, [0.25, 0.5, 0.75, 1.0], [2000, 4000, 12000, 20000]) for si in s])\n",
        "    return cmp_f"
      ],
      "metadata": {
        "id": "B8BkTWrmWGWO"
      },
      "execution_count": 172,
      "outputs": []
    },
    {
      "cell_type": "code",
      "source": [
        "# Leitura dos dados de tempo: exemplo tese Marcos Coque Jr.\n",
        "df = pd.read_csv('/content/drive/MyDrive/Colab Notebooks/DateSet/data.csv', sep=\";\")\n",
        "df.head()"
      ],
      "metadata": {
        "colab": {
          "base_uri": "https://localhost:8080/",
          "height": 206
        },
        "id": "IDcyZ_pHWIW8",
        "outputId": "3570f240-6ab3-44a4-bc09-9c093ca28292"
      },
      "execution_count": 173,
      "outputs": [
        {
          "output_type": "execute_result",
          "data": {
            "text/plain": [
              "     t  k  c    n    s      T\n",
              "0   90  1  1  4.0  0.4    0.0\n",
              "1  110  1  1  0.0  0.5  150.0\n",
              "2  125  1  1  9.0  0.9  250.0\n",
              "3  135  1  1  2.0  0.2  500.0\n",
              "4  295  1  3  2.0  0.4  600.0"
            ],
            "text/html": [
              "\n",
              "  <div id=\"df-94328148-46a7-4f22-86fd-6ed396849b99\" class=\"colab-df-container\">\n",
              "    <div>\n",
              "<style scoped>\n",
              "    .dataframe tbody tr th:only-of-type {\n",
              "        vertical-align: middle;\n",
              "    }\n",
              "\n",
              "    .dataframe tbody tr th {\n",
              "        vertical-align: top;\n",
              "    }\n",
              "\n",
              "    .dataframe thead th {\n",
              "        text-align: right;\n",
              "    }\n",
              "</style>\n",
              "<table border=\"1\" class=\"dataframe\">\n",
              "  <thead>\n",
              "    <tr style=\"text-align: right;\">\n",
              "      <th></th>\n",
              "      <th>t</th>\n",
              "      <th>k</th>\n",
              "      <th>c</th>\n",
              "      <th>n</th>\n",
              "      <th>s</th>\n",
              "      <th>T</th>\n",
              "    </tr>\n",
              "  </thead>\n",
              "  <tbody>\n",
              "    <tr>\n",
              "      <th>0</th>\n",
              "      <td>90</td>\n",
              "      <td>1</td>\n",
              "      <td>1</td>\n",
              "      <td>4.0</td>\n",
              "      <td>0.4</td>\n",
              "      <td>0.0</td>\n",
              "    </tr>\n",
              "    <tr>\n",
              "      <th>1</th>\n",
              "      <td>110</td>\n",
              "      <td>1</td>\n",
              "      <td>1</td>\n",
              "      <td>0.0</td>\n",
              "      <td>0.5</td>\n",
              "      <td>150.0</td>\n",
              "    </tr>\n",
              "    <tr>\n",
              "      <th>2</th>\n",
              "      <td>125</td>\n",
              "      <td>1</td>\n",
              "      <td>1</td>\n",
              "      <td>9.0</td>\n",
              "      <td>0.9</td>\n",
              "      <td>250.0</td>\n",
              "    </tr>\n",
              "    <tr>\n",
              "      <th>3</th>\n",
              "      <td>135</td>\n",
              "      <td>1</td>\n",
              "      <td>1</td>\n",
              "      <td>2.0</td>\n",
              "      <td>0.2</td>\n",
              "      <td>500.0</td>\n",
              "    </tr>\n",
              "    <tr>\n",
              "      <th>4</th>\n",
              "      <td>295</td>\n",
              "      <td>1</td>\n",
              "      <td>3</td>\n",
              "      <td>2.0</td>\n",
              "      <td>0.4</td>\n",
              "      <td>600.0</td>\n",
              "    </tr>\n",
              "  </tbody>\n",
              "</table>\n",
              "</div>\n",
              "    <div class=\"colab-df-buttons\">\n",
              "\n",
              "  <div class=\"colab-df-container\">\n",
              "    <button class=\"colab-df-convert\" onclick=\"convertToInteractive('df-94328148-46a7-4f22-86fd-6ed396849b99')\"\n",
              "            title=\"Convert this dataframe to an interactive table.\"\n",
              "            style=\"display:none;\">\n",
              "\n",
              "  <svg xmlns=\"http://www.w3.org/2000/svg\" height=\"24px\" viewBox=\"0 -960 960 960\">\n",
              "    <path d=\"M120-120v-720h720v720H120Zm60-500h600v-160H180v160Zm220 220h160v-160H400v160Zm0 220h160v-160H400v160ZM180-400h160v-160H180v160Zm440 0h160v-160H620v160ZM180-180h160v-160H180v160Zm440 0h160v-160H620v160Z\"/>\n",
              "  </svg>\n",
              "    </button>\n",
              "\n",
              "  <style>\n",
              "    .colab-df-container {\n",
              "      display:flex;\n",
              "      gap: 12px;\n",
              "    }\n",
              "\n",
              "    .colab-df-convert {\n",
              "      background-color: #E8F0FE;\n",
              "      border: none;\n",
              "      border-radius: 50%;\n",
              "      cursor: pointer;\n",
              "      display: none;\n",
              "      fill: #1967D2;\n",
              "      height: 32px;\n",
              "      padding: 0 0 0 0;\n",
              "      width: 32px;\n",
              "    }\n",
              "\n",
              "    .colab-df-convert:hover {\n",
              "      background-color: #E2EBFA;\n",
              "      box-shadow: 0px 1px 2px rgba(60, 64, 67, 0.3), 0px 1px 3px 1px rgba(60, 64, 67, 0.15);\n",
              "      fill: #174EA6;\n",
              "    }\n",
              "\n",
              "    .colab-df-buttons div {\n",
              "      margin-bottom: 4px;\n",
              "    }\n",
              "\n",
              "    [theme=dark] .colab-df-convert {\n",
              "      background-color: #3B4455;\n",
              "      fill: #D2E3FC;\n",
              "    }\n",
              "\n",
              "    [theme=dark] .colab-df-convert:hover {\n",
              "      background-color: #434B5C;\n",
              "      box-shadow: 0px 1px 3px 1px rgba(0, 0, 0, 0.15);\n",
              "      filter: drop-shadow(0px 1px 2px rgba(0, 0, 0, 0.3));\n",
              "      fill: #FFFFFF;\n",
              "    }\n",
              "  </style>\n",
              "\n",
              "    <script>\n",
              "      const buttonEl =\n",
              "        document.querySelector('#df-94328148-46a7-4f22-86fd-6ed396849b99 button.colab-df-convert');\n",
              "      buttonEl.style.display =\n",
              "        google.colab.kernel.accessAllowed ? 'block' : 'none';\n",
              "\n",
              "      async function convertToInteractive(key) {\n",
              "        const element = document.querySelector('#df-94328148-46a7-4f22-86fd-6ed396849b99');\n",
              "        const dataTable =\n",
              "          await google.colab.kernel.invokeFunction('convertToInteractive',\n",
              "                                                    [key], {});\n",
              "        if (!dataTable) return;\n",
              "\n",
              "        const docLinkHtml = 'Like what you see? Visit the ' +\n",
              "          '<a target=\"_blank\" href=https://colab.research.google.com/notebooks/data_table.ipynb>data table notebook</a>'\n",
              "          + ' to learn more about interactive tables.';\n",
              "        element.innerHTML = '';\n",
              "        dataTable['output_type'] = 'display_data';\n",
              "        await google.colab.output.renderOutput(dataTable, element);\n",
              "        const docLink = document.createElement('div');\n",
              "        docLink.innerHTML = docLinkHtml;\n",
              "        element.appendChild(docLink);\n",
              "      }\n",
              "    </script>\n",
              "  </div>\n",
              "\n",
              "\n",
              "<div id=\"df-4e77bc01-61c4-4508-8f71-f9c95682f715\">\n",
              "  <button class=\"colab-df-quickchart\" onclick=\"quickchart('df-4e77bc01-61c4-4508-8f71-f9c95682f715')\"\n",
              "            title=\"Suggest charts.\"\n",
              "            style=\"display:none;\">\n",
              "\n",
              "<svg xmlns=\"http://www.w3.org/2000/svg\" height=\"24px\"viewBox=\"0 0 24 24\"\n",
              "     width=\"24px\">\n",
              "    <g>\n",
              "        <path d=\"M19 3H5c-1.1 0-2 .9-2 2v14c0 1.1.9 2 2 2h14c1.1 0 2-.9 2-2V5c0-1.1-.9-2-2-2zM9 17H7v-7h2v7zm4 0h-2V7h2v10zm4 0h-2v-4h2v4z\"/>\n",
              "    </g>\n",
              "</svg>\n",
              "  </button>\n",
              "\n",
              "<style>\n",
              "  .colab-df-quickchart {\n",
              "    background-color: #E8F0FE;\n",
              "    border: none;\n",
              "    border-radius: 50%;\n",
              "    cursor: pointer;\n",
              "    display: none;\n",
              "    fill: #1967D2;\n",
              "    height: 32px;\n",
              "    padding: 0 0 0 0;\n",
              "    width: 32px;\n",
              "  }\n",
              "\n",
              "  .colab-df-quickchart:hover {\n",
              "    background-color: #E2EBFA;\n",
              "    box-shadow: 0px 1px 2px rgba(60, 64, 67, 0.3), 0px 1px 3px 1px rgba(60, 64, 67, 0.15);\n",
              "    fill: #174EA6;\n",
              "  }\n",
              "\n",
              "  [theme=dark] .colab-df-quickchart {\n",
              "    background-color: #3B4455;\n",
              "    fill: #D2E3FC;\n",
              "  }\n",
              "\n",
              "  [theme=dark] .colab-df-quickchart:hover {\n",
              "    background-color: #434B5C;\n",
              "    box-shadow: 0px 1px 3px 1px rgba(0, 0, 0, 0.15);\n",
              "    filter: drop-shadow(0px 1px 2px rgba(0, 0, 0, 0.3));\n",
              "    fill: #FFFFFF;\n",
              "  }\n",
              "</style>\n",
              "\n",
              "  <script>\n",
              "    async function quickchart(key) {\n",
              "      const charts = await google.colab.kernel.invokeFunction(\n",
              "          'suggestCharts', [key], {});\n",
              "    }\n",
              "    (() => {\n",
              "      let quickchartButtonEl =\n",
              "        document.querySelector('#df-4e77bc01-61c4-4508-8f71-f9c95682f715 button');\n",
              "      quickchartButtonEl.style.display =\n",
              "        google.colab.kernel.accessAllowed ? 'block' : 'none';\n",
              "    })();\n",
              "  </script>\n",
              "</div>\n",
              "    </div>\n",
              "  </div>\n"
            ]
          },
          "metadata": {},
          "execution_count": 173
        }
      ]
    },
    {
      "cell_type": "code",
      "source": [
        "# Cria as variaveis\n",
        "# tempos de falhas\n",
        "t = df['t']\n",
        "# indice do sistema\n",
        "k = df['k']\n",
        "m = k.drop_duplicates().shape[0]\n",
        "# Numero de ciclos de manutenção\n",
        "ck = df['c'].max()\n",
        "# Numero de falhas e severidade das manutenções preventivas em cada sistema\n",
        "n = []\n",
        "s = []\n",
        "for k in range(m):\n",
        "    n.append(list(df['n'][k * ck:(k + 1) * ck]))\n",
        "    s.append(list(df['s'][k * ck:(k + 1) * ck]))\n",
        "\n",
        "# Tempos das MP\n",
        "T = list(df['T'][:m])\n",
        "\n",
        "# Criação de variáveis para os parâmetros\n",
        "lamb = 5\n",
        "theta = 2\n",
        "\n",
        "# Cria alguns cenários de teste\n",
        "beta = 5\n",
        "\n",
        "solucao = [lamb, beta, theta]\n",
        "\n",
        "# Cria a instância da classe IntensidadeFalha\n",
        "intensidadeFalha = IntensidadeFalha()\n",
        "\n",
        "# Inicializa a instância com os valores necessários\n",
        "falha = intensidadeFalha.inicio(T, execute_function(fator_melhoria, ck, m, s, theta), solucao)\n",
        "\n",
        "# Cria os dados da intensidade de falha\n",
        "intensidadeFalha.create()\n",
        "\n",
        "# Plota o gráfico da intensidade de falha\n",
        "intensidadeFalha.plotar()\n",
        "\n",
        "fator = execute_function(fator_melhoria, ck, m, s, theta)\n",
        "print('Fator ajuste: ', fator[0])\n",
        "\n",
        "last_value_fator_ajuste = fator[0][-1]\n",
        "\n",
        "time_duration = 1\n",
        "time.sleep(time_duration)"
      ],
      "metadata": {
        "id": "grvISRd2_HkE",
        "outputId": "4f74d23e-ed58-4a68-cbe7-a11a94a4b53d",
        "colab": {
          "base_uri": "https://localhost:8080/",
          "height": 372
        }
      },
      "execution_count": 174,
      "outputs": [
        {
          "output_type": "display_data",
          "data": {
            "text/plain": [
              "<Figure size 2000x500 with 1 Axes>"
            ],
            "image/png": "[encoded data removed]"
          },
          "metadata": {}
        },
        {
          "output_type": "stream",
          "name": "stdout",
          "text": [
            "Fator ajuste:  [0.5506710358827784, 0.6321205588285577, 0.8347011117784134, 0.3296799539643607]\n"
          ]
        }
      ]
    },
    {
      "cell_type": "code",
      "source": [
        "# Função objetivo para otimização da politica de manutenção\n",
        "# Numero de ciclos determinado pela solução\n",
        "# Solução com 24 valores reais\n",
        "# Solucao a ser avaliada X = [x1, ..., x24]\n",
        "def objective_st(x):\n",
        "    # Dicionario para severidades\n",
        "    dict_severidades = {1: 0.25, 3: 0.50, 5: 0.75, 7: 1.0}\n",
        "\n",
        "    global s\n",
        "    T = [0]\n",
        "    s_row = []\n",
        "    cont = 0\n",
        "\n",
        "    # Iterar sobre os elementos de x usando np.nditer()\n",
        "    with np.nditer(x, op_flags=['readwrite']) as it:\n",
        "        for number in it:\n",
        "            modulo = int(number) % 2\n",
        "            if modulo == 1:\n",
        "                inteiro = int(number)\n",
        "                s_row.append(dict_severidades[inteiro])  # Severidade\n",
        "                frac = number - inteiro  # Tempo\n",
        "                t = (cont + frac) * 30\n",
        "                T.append(int(t))\n",
        "            cont += 1\n",
        "\n",
        "    s = []\n",
        "    for row in range(m):\n",
        "        s.append(s_row)\n",
        "\n",
        "# A partir da solução define o número de ciclos\n",
        "# A variável m é o número de sistemas em análise: em nosso exemplo m = 4\n",
        "# Para novos dados esse parâmetro deve ser ajustado\n",
        "# m = 4\n",
        "    ck = len(T) - 1\n",
        "\n",
        "    print(\"\")\n",
        "    print(\"=========================================================================\")\n",
        "    print(\"\")\n",
        "    print('Número de ciclos de manutenção:', ck, m)\n",
        "    print('Tempos para manutenções preventivas:', T)\n",
        "    print('Severidade para cada subsistema:', s[0])\n",
        "    print(\"Número de Sisemas:\", m)\n",
        "\n",
        "    if ck == 0:\n",
        "        return MAX_VALUE_CUSTO\n",
        "\n",
        "# O modelo já está ajustado\n",
        "# Utilizado para avaliar a solução candidata\n",
        "\n",
        "# Cria fator de meloria a partir da solução\n",
        "    fact = execute_function(fator_melhoria, ck, m, s, theta)\n",
        "    fator = [last_value_fator_ajuste] + list(fact[0])\n",
        "\n",
        "    print('Fator: ', fator)\n",
        "\n",
        "# Numero esperado de falhas (NEF) em cada ciclo\n",
        "    termos_somatorio = [((1/(lamb**beta)) * (T[1]**beta))]\n",
        "    numero_medio_falhas = [0, ((1/(lamb**beta)) * (T[1]**beta))]\n",
        "\n",
        "    for i in range(ck-1):\n",
        "        termo = (((T[i+2]-fator[i]*T[i+1])**beta) - (((1-fator[i])*T[i+1])**beta)) * (1/(lamb**beta))\n",
        "        termos_somatorio.append(termo)\n",
        "        numero_medio_falhas.append(sum(termos_somatorio))\n",
        "\n",
        "# Número médio de falhas até o final do período: 2 anos\n",
        "    final = 730\n",
        "    termo = (((final-fator[ck-1]*T[ck])**beta) - (((1-fator[ck-1])*T[ck])**beta)) * (1/(lamb**beta))\n",
        "    termos_somatorio.append(termo)\n",
        "    numero_medio_falhas.append(sum(termos_somatorio))\n",
        "\n",
        "    mi = numero_medio_falhas\n",
        "\n",
        "    print('Media de falhas: ', mi)\n",
        "\n",
        "    Ctotal =  []\n",
        "\n",
        "    for i in range(ck):\n",
        "        cmp = custo_mp(s[0][i], CMP)\n",
        "        Ctotal.append((cmp + (mi[i+1] - mi[i])*CMC)/(T[i+1]-T[i]))\n",
        "\n",
        "    cmp = custo_mp(s[0][ck-1], CMP)\n",
        "    Ctotal.append((cmp + (mi[ck+1] - mi[ck])*CMC)/(final-T[ck]))\n",
        "\n",
        "    # Custo Total\n",
        "    Custo = np.sum(Ctotal)\n",
        "\n",
        "    print('Custo = ', Custo)\n",
        "\n",
        "    # Retorna o custo\n",
        "    return Custo"
      ],
      "metadata": {
        "id": "-JuqM09rWWBJ"
      },
      "execution_count": 175,
      "outputs": []
    },
    {
      "cell_type": "code",
      "source": [
        "num_particles = 10\n",
        "max_iterations = 100\n",
        "dimensions = 3\n",
        "options = {'c1': 0.5, 'c2': 0.3, 'w': 0.9}\n",
        "\n",
        "max_bound = np.array([7.0] * dimensions)  # Limite superior dos valores em x\n",
        "min_bound = np.array([0.0] * dimensions)   # Limite inferior dos valores em x\n",
        "bounds = (min_bound, max_bound)\n",
        "\n",
        "optimizer = GlobalBestPSO(n_particles=num_particles, dimensions=dimensions, options=options, bounds=bounds)\n",
        "\n",
        "# Inicializar current_cost e pbest_cost com valores infinitos\n",
        "optimizer.swarm.current_cost = np.full(optimizer.swarm.position.shape[0], np.inf)\n",
        "optimizer.swarm.pbest_cost = np.full(optimizer.swarm.position.shape[0], np.inf)\n",
        "best_cost, best_position = optimizer.optimize(objective_st, iters=max_iterations)\n",
        "\n",
        "pbest_cost = optimizer.swarm.pbest_cost\n",
        "\n",
        "best_positions = []  # Lista para armazenar todas as melhores posições\n",
        "\n",
        "# Loop de iterações do PSO\n",
        "for i in range(max_iterations):\n",
        "    best_cost, best_position = optimizer.optimize(objective_st, iters=1)\n",
        "    pbest_cost = optimizer.swarm.pbest_cost\n",
        "    best_positions.append(best_position)\n",
        "\n",
        "# Converter a lista de melhores posições em um array numpy para facilitar a manipulação\n",
        "best_positions = np.array(best_positions)"
      ],
      "metadata": {
        "colab": {
          "base_uri": "https://localhost:8080/"
        },
        "id": "cePW2Ji6gjmC",
        "outputId": "1459b9ad-f80c-47ab-f6de-d1eada20f8ba"
      },
      "execution_count": 176,
      "outputs": [
        {
          "output_type": "stream",
          "name": "stderr",
          "text": [
            "2023-08-25 14:18:03,712 - pyswarms.single.global_best - INFO - Optimize for 100 iters with {'c1': 0.5, 'c2': 0.3, 'w': 0.9}\n",
            "pyswarms.single.global_best:   0%|          |0/100, best_cost=4.04e+11<ipython-input-175-5db6df258298>:79: RuntimeWarning: divide by zero encountered in double_scalars\n",
            "  Ctotal.append((cmp + (mi[i+1] - mi[i])*CMC)/(T[i+1]-T[i]))\n",
            "pyswarms.single.global_best:   9%|▉         |9/100, best_cost=1.46e+11"
          ]
        },
        {
          "output_type": "stream",
          "name": "stdout",
          "text": [
            "\n",
            "=========================================================================\n",
            "\n",
            "Número de ciclos de manutenção: 15 5\n",
            "Tempos para manutenções preventivas: [0, 29, 48, 90, 183, 306, 346, 388, 436, 468, 507, 542, 620, 636, 769, 802]\n",
            "Severidade para cada subsistema: [0.5, 0.25, 0.75, 0.25, 0.5, 0.75, 0.75, 0.5, 0.75, 0.25, 0.75, 0.25, 0.5, 0.5, 0.75]\n",
            "Número de Sisemas: 5\n",
            "Fator:  [0.3296799539643607, 0.6321205588285577, 0.3934693402873666, 0.7768698398515702, 0.3934693402873666, 0.6321205588285577, 0.7768698398515702, 0.7768698398515702, 0.6321205588285577, 0.7768698398515702, 0.3934693402873666, 0.7768698398515702, 0.3934693402873666, 0.6321205588285577, 0.6321205588285577, 0.7768698398515702]\n",
            "Media de falhas:  [0, 6563.56768, 32530.354576490823, 273805.9553095757, 22526627.498998582, 60260957.049305424, 176783208.57386047, 210580868.39298415, 223148745.40977255, 231918325.84376994, 317876480.91372144, 334767765.73279816, 2668483943.358767, 2680295014.1025243, 11968322711.851665, 12395165394.508614, 11856391599.962605]\n",
            "Custo =  513614904284.0014\n",
            "\n",
            "=========================================================================\n",
            "\n",
            "Número de ciclos de manutenção: 13 5\n",
            "Tempos para manutenções preventivas: [0, 66, 108, 142, 300, 340, 382, 392, 469, 561, 583, 656, 842, 873]\n",
            "Severidade para cada subsistema: [0.5, 0.75, 0.75, 0.5, 0.75, 0.75, 0.5, 0.75, 0.75, 0.25, 0.5, 0.5, 0.25]\n",
            "Número de Sisemas: 5\n",
            "Fator:  [0.3296799539643607, 0.6321205588285577, 0.7768698398515702, 0.7768698398515702, 0.6321205588285577, 0.7768698398515702, 0.7768698398515702, 0.6321205588285577, 0.7768698398515702, 0.7768698398515702, 0.3934693402873666, 0.6321205588285577, 0.6321205588285577, 0.3934693402873666]\n",
            "Media de falhas:  [0, 400746.42432000005, 1873099.8227778296, 2538687.4339344, 81107922.036931, 85153240.4317083, 117020567.48486, 118087884.56280775, 154957060.8663007, 520573688.48617816, 532836210.1262334, 631460704.5381052, 19156587287.821617, 19714213807.116898, 18678326256.298206]\n",
            "Custo =  530861146939.3917\n",
            "\n",
            "=========================================================================\n",
            "\n",
            "Número de ciclos de manutenção: 12 5\n",
            "Tempos para manutenções preventivas: [0, 69, 116, 120, 169, 202, 235, 374, 395, 458, 566, 592, 895]\n",
            "Severidade para cada subsistema: [0.5, 0.75, 0.75, 0.25, 0.5, 0.5, 0.75, 0.5, 0.75, 0.75, 0.25, 0.25]\n",
            "Número de Sisemas: 5\n",
            "Fator:  [0.3296799539643607, 0.6321205588285577, 0.7768698398515702, 0.7768698398515702, 0.3934693402873666, 0.6321205588285577, 0.6321205588285577, 0.7768698398515702, 0.6321205588285577, 0.7768698398515702, 0.7768698398515702, 0.3934693402873666, 0.3934693402873666]\n",
            "Media de falhas:  [0, 500490.03168, 2689294.2730494826, 2714888.2428525966, 3509945.545192193, 4051164.570512911, 24328755.40103613, 209171140.67042983, 225492378.83335876, 249025055.33988303, 722629523.7365263, 738562649.3488972, 5715236074.354056, -6904756748.899253]\n",
            "Custo =  404381474239.975\n",
            "\n",
            "=========================================================================\n",
            "\n",
            "Número de ciclos de manutenção: 15 5\n",
            "Tempos para manutenções preventivas: [0, 0, 71, 116, 182, 215, 274, 359, 366, 394, 535, 568, 709, 776, 794, 812]\n",
            "Severidade para cada subsistema: [0.75, 0.5, 0.75, 0.75, 0.5, 0.75, 0.5, 0.75, 0.5, 0.5, 0.75, 0.5, 0.5, 0.75, 0.75]\n",
            "Número de Sisemas: 5\n",
            "Fator:  [0.3296799539643607, 0.7768698398515702, 0.6321205588285577, 0.7768698398515702, 0.7768698398515702, 0.6321205588285577, 0.7768698398515702, 0.6321205588285577, 0.7768698398515702, 0.6321205588285577, 0.6321205588285577, 0.7768698398515702, 0.6321205588285577, 0.6321205588285577, 0.7768698398515702, 0.7768698398515702]\n",
            "Media de falhas:  [0, 0.0, 577353.3923200001, 843828.0323464083, 5648952.7098517325, 6305162.213384551, 10706356.636058897, 78230802.08001687, 78779888.22681892, 101039127.73024225, 300501701.6847944, 411136723.6598261, 1963295786.8887327, 2116934278.3904183, 2333901238.6199574, 2571032848.9698706, 2511626851.574949]\n",
            "Custo =  inf\n",
            "\n",
            "=========================================================================\n",
            "\n",
            "Número de ciclos de manutenção: 15 5\n",
            "Tempos para manutenções preventivas: [0, 5, 72, 112, 136, 162, 203, 260, 329, 341, 360, 525, 563, 602, 760, 876]\n",
            "Severidade para cada subsistema: [0.75, 0.5, 0.75, 0.5, 0.5, 0.75, 0.5, 0.25, 0.5, 0.75, 0.5, 0.75, 0.5, 0.5, 0.5]\n",
            "Número de Sisemas: 5\n",
            "Fator:  [0.3296799539643607, 0.7768698398515702, 0.6321205588285577, 0.7768698398515702, 0.6321205588285577, 0.6321205588285577, 0.7768698398515702, 0.6321205588285577, 0.3934693402873666, 0.6321205588285577, 0.7768698398515702, 0.6321205588285577, 0.7768698398515702, 0.6321205588285577, 0.6321205588285577, 0.6321205588285577]\n",
            "Media de falhas:  [0, 1.0, 551468.310663516, 728391.0617644871, 1067505.130596335, 1241012.0854389186, 4297016.304881672, 16222695.831864912, 26590451.71548441, 31612630.81476359, 98445226.66718692, 830349081.1244361, 852051935.3590084, 1019059719.1551824, 1688151679.2097988, 4241498179.229049, 3183703007.841816]\n",
            "Custo =  188736775356.39294\n",
            "\n",
            "=========================================================================\n",
            "\n",
            "Número de ciclos de manutenção: 11 5\n",
            "Tempos para manutenções preventivas: [0, 9, 73, 104, 242, 515, 555, 572, 612, 717, 799, 891]\n",
            "Severidade para cada subsistema: [0.75, 0.5, 0.75, 0.5, 0.5, 0.75, 0.5, 0.5, 0.25, 0.5, 0.5]\n",
            "Número de Sisemas: 5\n",
            "Fator:  [0.3296799539643607, 0.7768698398515702, 0.6321205588285577, 0.7768698398515702, 0.6321205588285577, 0.6321205588285577, 0.7768698398515702, 0.6321205588285577, 0.6321205588285577, 0.3934693402873666, 0.6321205588285577, 0.6321205588285577]\n",
            "Media de falhas:  [0, 18.895680000000002, 539104.6596209793, 614408.4522313146, 55027431.241683215, 1251268762.486762, 1376704705.8251143, 1432526598.5382862, 1464045250.587141, 2533966657.112735, 3706943228.6431484, 15551525858.574476, 14382036579.678375]\n",
            "Custo =  689992745335.5106\n",
            "\n",
            "=========================================================================\n",
            "\n",
            "Número de ciclos de manutenção: 11 5\n",
            "Tempos para manutenções preventivas: [0, 11, 74, 99, 286, 512, 550, 577, 620, 715, 835, 897]\n",
            "Severidade para cada subsistema: [0.75, 0.5, 0.75, 0.5, 0.5, 0.75, 0.5, 0.5, 0.25, 0.75, 0.5]\n",
            "Número de Sisemas: 5\n",
            "Fator:  [0.3296799539643607, 0.7768698398515702, 0.6321205588285577, 0.7768698398515702, 0.6321205588285577, 0.6321205588285577, 0.7768698398515702, 0.6321205588285577, 0.6321205588285577, 0.3934693402873666, 0.7768698398515702, 0.6321205588285577]\n",
            "Media de falhas:  [0, 51.53632, 552371.6792036268, 591424.5840772691, 178710672.26079154, 832640440.7165028, 946926651.0543226, 1041408190.4982712, 1077906099.6374278, 2006886332.6963553, 4242345220.7043924, 12574456712.624508, 12471690710.188425]\n",
            "Custo =  698495194682.8724\n",
            "\n",
            "=========================================================================\n",
            "\n",
            "Número de ciclos de manutenção: 11 5\n",
            "Tempos para manutenções preventivas: [0, 10, 74, 95, 272, 444, 517, 550, 578, 623, 632, 897]\n",
            "Severidade para cada subsistema: [0.75, 0.5, 0.75, 0.25, 0.5, 0.5, 0.75, 0.5, 0.5, 0.75, 0.5]\n",
            "Número de Sisemas: 5\n",
            "Fator:  [0.3296799539643607, 0.7768698398515702, 0.6321205588285577, 0.7768698398515702, 0.3934693402873666, 0.6321205588285577, 0.6321205588285577, 0.7768698398515702, 0.6321205588285577, 0.6321205588285577, 0.7768698398515702, 0.6321205588285577]\n",
            "Media de falhas:  [0, 32.0, 565414.0511425746, 588788.6113131125, 137440191.28611588, 355475651.96835136, 1406007325.8453732, 1503606529.663881, 1602552631.251589, 1642128074.7188213, 1685105138.4980223, 11220172023.007786, 11117406020.571703]\n",
            "Custo =  260737561225.01837\n",
            "\n",
            "=========================================================================\n",
            "\n",
            "Número de ciclos de manutenção: 13 5\n",
            "Tempos para manutenções preventivas: [0, 6, 73, 99, 169, 209, 444, 524, 552, 618, 637, 722, 784, 886]\n",
            "Severidade para cada subsistema: [0.75, 0.5, 0.75, 0.5, 0.75, 0.5, 0.5, 0.75, 0.5, 0.75, 0.75, 0.5, 0.5]\n",
            "Número de Sisemas: 5\n",
            "Fator:  [0.3296799539643607, 0.7768698398515702, 0.6321205588285577, 0.7768698398515702, 0.6321205588285577, 0.7768698398515702, 0.6321205588285577, 0.6321205588285577, 0.7768698398515702, 0.6321205588285577, 0.7768698398515702, 0.7768698398515702, 0.6321205588285577, 0.6321205588285577]\n",
            "Media de falhas:  [0, 2.4883200000000003, 578247.3440812095, 621157.8679748373, 4968501.708694812, 5850892.079322199, 949345392.8256112, 1005211330.3457077, 1087850116.0106099, 1428654269.8410301, 1443121747.7961142, 2279684330.467783, 2421827840.9269533, 2890637654.1578345, 1758805581.9259784]\n",
            "Custo =  150680922667.59225\n",
            "\n",
            "=========================================================================\n",
            "\n",
            "Número de ciclos de manutenção: 19 5\n",
            "Tempos para manutenções preventivas: [0, 3, 72, 101, 153, 196, 245, 363, 390, 441, 456, 530, 553, 612, 641, 691, 725, 792, 819, 876]\n",
            "Severidade para cada subsistema: [0.75, 0.5, 0.75, 0.5, 0.75, 0.5, 0.75, 0.5, 0.5, 0.75, 0.5, 0.75, 0.5, 0.75, 0.5, 0.75, 0.5, 0.25, 0.5]\n",
            "Número de Sisemas: 5\n",
            "Fator:  [0.3296799539643607, 0.7768698398515702, 0.6321205588285577, 0.7768698398515702, 0.6321205588285577, 0.7768698398515702, 0.6321205588285577, 0.7768698398515702, 0.6321205588285577, 0.6321205588285577, 0.7768698398515702, 0.6321205588285577, 0.7768698398515702, 0.6321205588285577, 0.7768698398515702, 0.6321205588285577, 0.7768698398515702, 0.6321205588285577, 0.3934693402873666, 0.6321205588285577]\n",
            "Media de falhas:  [0, 0.07776000000000001, 577799.2220113922, 636935.9173061105, 2416871.283214719, 3276044.892333959, 10988204.539701227, 59944840.63265093, 80479864.8952617, 94910746.52175875, 114908815.56504339, 336644465.9165352, 347241203.6883729, 634096047.1806656, 658699937.9695401, 1035670341.4725637, 1083305979.4057605, 1975802576.004212, 2032931410.6230633, 3127909454.313177, -7703852729.353722]\n",
            "Custo =  519834445578.60364\n",
            "\n",
            "=========================================================================\n",
            "\n",
            "Número de ciclos de manutenção: 19 5\n",
            "Tempos para manutenções preventivas: [0, 1, 71, 103, 120, 183, 212, 252, 336, 365, 392, 438, 464, 533, 552, 610, 645, 706, 728, 798]\n",
            "Severidade para cada subsistema: [0.75, 0.5, 0.75, 0.5, 0.75, 0.5, 0.5, 0.5, 0.75, 0.5, 0.5, 0.75, 0.5, 0.75, 0.5, 0.75, 0.5, 0.75, 0.5]\n",
            "Número de Sisemas: 5\n",
            "Fator:  [0.3296799539643607, 0.7768698398515702, 0.6321205588285577, 0.7768698398515702, 0.6321205588285577, 0.7768698398515702, 0.6321205588285577, 0.6321205588285577, 0.6321205588285577, 0.7768698398515702, 0.6321205588285577, 0.6321205588285577, 0.7768698398515702, 0.6321205588285577, 0.7768698398515702, 0.6321205588285577, 0.7768698398515702, 0.6321205588285577, 0.7768698398515702, 0.6321205588285577]\n",
            "Media de falhas:  [0, 0.00032, 564072.9440171731, 643959.7498951827, 778434.0468459539, 2640160.6033902946, 4850877.410636257, 6398056.2466551345, 59338615.167522475, 76591739.19142038, 97537415.04991671, 109451710.34243616, 148125495.64497006, 354946865.4527924, 363307649.0757042, 640892974.6890271, 672882146.5924284, 1187773427.55615, 1216411033.4080534, 2183354330.933608, 2131247756.5339243]\n",
            "Custo =  149480072860.9302\n",
            "\n",
            "=========================================================================\n",
            "\n",
            "Número de ciclos de manutenção: 19 5\n",
            "Tempos para manutenções preventivas: [0, 0, 71, 102, 120, 214, 259, 344, 366, 393, 433, 468, 534, 549, 608, 645, 718, 729, 802, 813]\n",
            "Severidade para cada subsistema: [0.75, 0.5, 0.75, 0.5, 0.5, 0.5, 0.5, 0.75, 0.5, 0.5, 0.75, 0.5, 0.75, 0.5, 0.75, 0.5, 0.75, 0.5, 0.5]\n",
            "Número de Sisemas: 5\n",
            "Fator:  [0.3296799539643607, 0.7768698398515702, 0.6321205588285577, 0.7768698398515702, 0.6321205588285577, 0.6321205588285577, 0.6321205588285577, 0.6321205588285577, 0.7768698398515702, 0.6321205588285577, 0.6321205588285577, 0.7768698398515702, 0.6321205588285577, 0.7768698398515702, 0.6321205588285577, 0.7768698398515702, 0.6321205588285577, 0.7768698398515702, 0.6321205588285577, 0.6321205588285577]\n",
            "Media de falhas:  [0, 0.0, 577353.3923200001, 649201.0114148689, 794261.4012383606, 9013161.335879551, 17323533.900696505, 75749871.2235382, 88511757.67853156, 109665060.05375476, 118868520.21193025, 174647819.8770174, 371465087.9718753, 377683636.1149419, 657469593.8524818, 691872322.2880173, 1371483193.0582738, 1384782738.1207225, 2420280495.8767185, 2440688598.8699274, 1825621172.59614]\n",
            "Custo =  inf\n",
            "\n",
            "=========================================================================\n",
            "\n",
            "Número de ciclos de manutenção: 20 5\n",
            "Tempos para manutenções preventivas: [0, 0, 70, 100, 213, 261, 301, 348, 366, 391, 430, 466, 532, 546, 608, 642, 719, 728, 750, 804, 836]\n",
            "Severidade para cada subsistema: [0.75, 0.5, 0.75, 0.5, 0.5, 0.5, 0.5, 0.75, 0.5, 0.5, 0.75, 0.5, 0.75, 0.5, 0.75, 0.5, 0.75, 0.5, 0.5, 0.5]\n",
            "Número de Sisemas: 5\n",
            "Fator:  [0.3296799539643607, 0.7768698398515702, 0.6321205588285577, 0.7768698398515702, 0.6321205588285577, 0.6321205588285577, 0.6321205588285577, 0.6321205588285577, 0.7768698398515702, 0.6321205588285577, 0.6321205588285577, 0.7768698398515702, 0.6321205588285577, 0.7768698398515702, 0.6321205588285577, 0.7768698398515702, 0.6321205588285577, 0.7768698398515702, 0.6321205588285577, 0.6321205588285577, 0.6321205588285577]\n",
            "Media de falhas:  [0, 0.0, 537824.0, 600750.8448417862, 24707909.114381343, 27175820.730694745, 39461712.52957671, 65376825.437228404, 75616522.3561571, 94638545.63181277, 103282404.60536535, 159946909.3884884, 354025248.3596109, 359653163.5691106, 656623886.5410295, 686906124.6963297, 1415825959.2505546, 1426497164.1825533, 1639882688.6442668, 1767912338.4307046, 2254227329.2473726, 1480191320.2483375]\n",
            "Custo =  inf\n",
            "\n",
            "=========================================================================\n",
            "\n",
            "Número de ciclos de manutenção: 19 5\n",
            "Tempos para manutenções preventivas: [0, 0, 70, 100, 210, 261, 301, 348, 366, 390, 429, 463, 528, 543, 609, 639, 717, 727, 750, 803]\n",
            "Severidade para cada subsistema: [0.75, 0.5, 0.75, 0.5, 0.5, 0.5, 0.5, 0.75, 0.5, 0.5, 0.75, 0.5, 0.75, 0.5, 0.75, 0.5, 0.75, 0.5, 0.5]\n",
            "Número de Sisemas: 5\n",
            "Fator:  [0.3296799539643607, 0.7768698398515702, 0.6321205588285577, 0.7768698398515702, 0.6321205588285577, 0.6321205588285577, 0.6321205588285577, 0.6321205588285577, 0.7768698398515702, 0.6321205588285577, 0.6321205588285577, 0.7768698398515702, 0.6321205588285577, 0.7768698398515702, 0.6321205588285577, 0.7768698398515702, 0.6321205588285577, 0.7768698398515702, 0.6321205588285577, 0.6321205588285577]\n",
            "Media de falhas:  [0, 0.0, 537824.0, 600750.8448417862, 22386490.39720675, 25185760.33502284, 37471652.13390481, 63386765.0415565, 73626461.96048519, 91622152.27771202, 100196227.21793081, 151970090.58856136, 337045315.5568819, 343005960.861896, 665437690.1864073, 690809347.4506825, 1423578208.956107, 1435454690.910505, 1659026496.6177135, 1783249913.7644866, 1237516113.3230128]\n",
            "Custo =  inf\n",
            "\n",
            "=========================================================================\n",
            "\n",
            "Número de ciclos de manutenção: 17 5\n",
            "Tempos para manutenções preventivas: [0, 1, 70, 100, 184, 255, 280, 344, 364, 433, 460, 525, 542, 610, 636, 712, 725, 799]\n",
            "Severidade para cada subsistema: [0.75, 0.5, 0.75, 0.75, 0.5, 0.75, 0.5, 0.75, 0.5, 0.75, 0.5, 0.75, 0.5, 0.75, 0.5, 0.75, 0.5]\n",
            "Número de Sisemas: 5\n",
            "Fator:  [0.3296799539643607, 0.7768698398515702, 0.6321205588285577, 0.7768698398515702, 0.7768698398515702, 0.6321205588285577, 0.7768698398515702, 0.6321205588285577, 0.7768698398515702, 0.6321205588285577, 0.7768698398515702, 0.6321205588285577, 0.7768698398515702, 0.6321205588285577, 0.7768698398515702, 0.6321205588285577, 0.7768698398515702, 0.6321205588285577]\n",
            "Media de falhas:  [0, 0.00032, 525277.7515387319, 588204.596380518, 8794143.814784981, 14410409.65718932, 15398602.525050975, 53261006.89186861, 55122099.14434188, 151408605.19624925, 157951309.4993739, 339128660.33326614, 345969127.50534207, 682521927.9665207, 703399062.5664113, 1394739103.1184993, 1410342400.7799215, 2447691743.619128, 2395045597.264718]\n",
            "Custo =  146274079687.5918\n",
            "\n",
            "=========================================================================\n",
            "\n",
            "Número de ciclos de manutenção: 17 5\n",
            "Tempos para manutenções preventivas: [0, 2, 70, 99, 192, 248, 340, 363, 436, 456, 521, 541, 612, 632, 707, 722, 796, 876]\n",
            "Severidade para cada subsistema: [0.75, 0.5, 0.75, 0.75, 0.5, 0.5, 0.75, 0.5, 0.75, 0.5, 0.75, 0.5, 0.75, 0.5, 0.75, 0.5, 0.5]\n",
            "Número de Sisemas: 5\n",
            "Fator:  [0.3296799539643607, 0.7768698398515702, 0.6321205588285577, 0.7768698398515702, 0.7768698398515702, 0.6321205588285577, 0.6321205588285577, 0.7768698398515702, 0.6321205588285577, 0.7768698398515702, 0.6321205588285577, 0.7768698398515702, 0.6321205588285577, 0.7768698398515702, 0.6321205588285577, 0.7768698398515702, 0.6321205588285577, 0.6321205588285577]\n",
            "Media de falhas:  [0, 0.01024, 512966.7525503982, 569261.2268352981, 12167469.970952507, 15140098.208545791, 37191731.34186093, 50178549.170245126, 156863261.0155935, 161176365.2522043, 337253488.09304243, 345485491.75903547, 704921589.5253714, 719821630.8149327, 1382200181.4170039, 1400172110.7123132, 2422741254.790328, 2729240530.2444873, 1671445358.857254]\n",
            "Custo =  186085706803.75876\n",
            "\n",
            "=========================================================================\n",
            "\n",
            "Número de ciclos de manutenção: 16 5\n",
            "Tempos para manutenções preventivas: [0, 2, 70, 97, 193, 246, 299, 337, 362, 439, 454, 518, 540, 612, 704, 792, 880]\n",
            "Severidade para cada subsistema: [0.75, 0.5, 0.75, 0.75, 0.5, 0.5, 0.5, 0.75, 0.5, 0.75, 0.5, 0.75, 0.5, 0.5, 0.5, 0.5]\n",
            "Número de Sisemas: 5\n",
            "Fator:  [0.3296799539643607, 0.7768698398515702, 0.6321205588285577, 0.7768698398515702, 0.7768698398515702, 0.6321205588285577, 0.6321205588285577, 0.6321205588285577, 0.7768698398515702, 0.6321205588285577, 0.7768698398515702, 0.6321205588285577, 0.7768698398515702, 0.6321205588285577, 0.6321205588285577, 0.6321205588285577, 0.6321205588285577]\n",
            "Media de falhas:  [0, 0.01024, 512966.7525503982, 557665.0846506124, 13210417.400926616, 15780940.925023325, 20299451.895618737, 37866289.1064609, 51975713.858409986, 169800583.75350958, 172798637.39300984, 341769920.27179277, 350943476.5526144, 716701669.4451016, 901083459.2734501, 2137823347.1404595, 3980187678.552068, 2892971418.426249]\n",
            "Custo =  221642767098.39288\n",
            "\n",
            "=========================================================================\n",
            "\n",
            "Número de ciclos de manutenção: 16 5\n",
            "Tempos para manutenções preventivas: [0, 2, 70, 96, 150, 189, 248, 337, 361, 438, 452, 516, 540, 612, 703, 791, 881]\n",
            "Severidade para cada subsistema: [0.75, 0.5, 0.75, 0.5, 0.75, 0.5, 0.5, 0.75, 0.5, 0.75, 0.5, 0.75, 0.5, 0.5, 0.5, 0.5]\n",
            "Número de Sisemas: 5\n",
            "Fator:  [0.3296799539643607, 0.7768698398515702, 0.6321205588285577, 0.7768698398515702, 0.6321205588285577, 0.7768698398515702, 0.6321205588285577, 0.6321205588285577, 0.7768698398515702, 0.6321205588285577, 0.7768698398515702, 0.6321205588285577, 0.7768698398515702, 0.6321205588285577, 0.6321205588285577, 0.6321205588285577, 0.6321205588285577]\n",
            "Media de falhas:  [0, 0.01024, 512966.7525503982, 552628.2329512819, 2353938.610499845, 2980126.006185839, 13684445.48035613, 33564400.64346178, 46896241.0346774, 163760744.8519839, 166479774.387159, 333027325.8286903, 343238387.3895113, 708996580.2819985, 889050367.0056648, 2119916387.1097846, 4021064677.565908, 2926453821.744877]\n",
            "Custo =  220708526621.55896\n",
            "\n",
            "=========================================================================\n",
            "\n",
            "Número de ciclos de manutenção: 17 5\n",
            "Tempos para manutenções preventivas: [0, 2, 70, 94, 151, 184, 253, 297, 340, 360, 436, 454, 515, 540, 611, 702, 792, 878]\n",
            "Severidade para cada subsistema: [0.75, 0.5, 0.75, 0.5, 0.75, 0.5, 0.25, 0.5, 0.75, 0.5, 0.75, 0.5, 0.75, 0.5, 0.5, 0.5, 0.5]\n",
            "Número de Sisemas: 5\n",
            "Fator:  [0.3296799539643607, 0.7768698398515702, 0.6321205588285577, 0.7768698398515702, 0.6321205588285577, 0.7768698398515702, 0.6321205588285577, 0.3934693402873666, 0.6321205588285577, 0.7768698398515702, 0.6321205588285577, 0.7768698398515702, 0.6321205588285577, 0.7768698398515702, 0.6321205588285577, 0.6321205588285577, 0.6321205588285577, 0.6321205588285577]\n",
            "Media de falhas:  [0, 0.01024, 512966.7525503982, 543906.600063847, 2589514.519499594, 2997841.709067151, 17812808.101568453, 20902312.426367782, 42106435.243926376, 112347512.9170697, 225208441.05917805, 228936344.0256164, 384586536.2025183, 395331138.62988204, 752566687.6211703, 931788828.6985519, 2203332067.9494247, 3980115210.0279074, 2907640457.8583937]\n",
            "Custo =  232226714944.04968\n",
            "\n",
            "=========================================================================\n",
            "\n",
            "Número de ciclos de manutenção: 16 5\n",
            "Tempos para manutenções preventivas: [0, 1, 70, 92, 151, 258, 344, 360, 432, 455, 515, 541, 610, 702, 720, 795, 872]\n",
            "Severidade para cada subsistema: [0.75, 0.5, 0.75, 0.5, 0.5, 0.5, 0.75, 0.5, 0.75, 0.5, 0.75, 0.5, 0.5, 0.75, 0.5, 0.5]\n",
            "Número de Sisemas: 5\n",
            "Fator:  [0.3296799539643607, 0.7768698398515702, 0.6321205588285577, 0.7768698398515702, 0.6321205588285577, 0.6321205588285577, 0.6321205588285577, 0.7768698398515702, 0.6321205588285577, 0.7768698398515702, 0.6321205588285577, 0.7768698398515702, 0.6321205588285577, 0.6321205588285577, 0.7768698398515702, 0.6321205588285577, 0.6321205588285577]\n",
            "Media de falhas:  [0, 0.00032, 525277.7515387319, 549090.0353084713, 2742581.254622107, 20369032.999151614, 79919387.061974, 88369109.8843731, 189604628.1246798, 194704708.45659527, 347176037.4620894, 358542579.6182313, 701216972.5122894, 883904630.4104104, 1031154962.2859868, 2065183424.4846404, 2349886130.5885696, 1321272323.8588243]\n",
            "Custo =  183592666761.25507\n",
            "\n",
            "=========================================================================\n",
            "\n",
            "Número de ciclos de manutenção: 16 5\n",
            "Tempos para manutenções preventivas: [0, 1, 70, 94, 151, 258, 346, 361, 428, 457, 517, 542, 609, 632, 707, 723, 797]\n",
            "Severidade para cada subsistema: [0.75, 0.5, 0.75, 0.5, 0.5, 0.5, 0.75, 0.5, 0.75, 0.5, 0.75, 0.5, 0.75, 0.5, 0.75, 0.5]\n",
            "Número de Sisemas: 5\n",
            "Fator:  [0.3296799539643607, 0.7768698398515702, 0.6321205588285577, 0.7768698398515702, 0.6321205588285577, 0.6321205588285577, 0.6321205588285577, 0.7768698398515702, 0.6321205588285577, 0.7768698398515702, 0.6321205588285577, 0.7768698398515702, 0.6321205588285577, 0.7768698398515702, 0.6321205588285577, 0.7768698398515702, 0.6321205588285577]\n",
            "Media de falhas:  [0, 0.00032, 525277.7515387319, 556217.5990521808, 2601825.5184879275, 20228277.263017435, 83283164.49187297, 91253488.00494629, 179934474.21992108, 186964320.71258095, 341670864.6247302, 352565354.8212073, 681000015.6861162, 698576629.1439077, 1360955179.7459788, 1380368728.0614583, 2407846852.2765217, 2356283200.3704586]\n",
            "Custo =  145613437699.04846\n"
          ]
        },
        {
          "output_type": "stream",
          "name": "stderr",
          "text": [
            "pyswarms.single.global_best:  35%|███▌      |35/100, best_cost=1.46e+11"
          ]
        },
        {
          "output_type": "stream",
          "name": "stdout",
          "text": [
            "\n",
            "=========================================================================\n",
            "\n",
            "Número de ciclos de manutenção: 18 5\n",
            "Tempos para manutenções preventivas: [0, 0, 70, 95, 153, 257, 297, 348, 362, 425, 457, 518, 543, 609, 635, 710, 726, 751, 799]\n",
            "Severidade para cada subsistema: [0.75, 0.5, 0.75, 0.5, 0.5, 0.75, 0.5, 0.75, 0.5, 0.75, 0.5, 0.75, 0.5, 0.75, 0.5, 0.75, 0.5, 0.5]\n",
            "Número de Sisemas: 5\n",
            "Fator:  [0.3296799539643607, 0.7768698398515702, 0.6321205588285577, 0.7768698398515702, 0.6321205588285577, 0.6321205588285577, 0.7768698398515702, 0.6321205588285577, 0.7768698398515702, 0.6321205588285577, 0.7768698398515702, 0.6321205588285577, 0.7768698398515702, 0.6321205588285577, 0.7768698398515702, 0.6321205588285577, 0.7768698398515702, 0.6321205588285577, 0.6321205588285577]\n",
            "Media de falhas:  [0, 0.0, 537824.0, 572910.1414723251, 2776277.5761150694, 18857891.319965523, 30549255.399613053, 59394765.9245927, 60560621.78447826, 140126241.58373243, 148174016.5808076, 307251631.8121393, 318221653.09176344, 640653382.4162748, 661406767.0079257, 1334477948.1554337, 1354206271.4772282, 1599575732.1132693, 1706265253.218965, 1188409554.1640823]\n",
            "Custo =  inf\n",
            "\n",
            "=========================================================================\n",
            "\n",
            "Número de ciclos de manutenção: 18 5\n",
            "Tempos para manutenções preventivas: [0, 0, 70, 95, 154, 255, 281, 347, 362, 423, 458, 519, 543, 609, 636, 709, 726, 751, 800]\n",
            "Severidade para cada subsistema: [0.75, 0.5, 0.75, 0.5, 0.5, 0.25, 0.5, 0.75, 0.5, 0.75, 0.5, 0.75, 0.5, 0.75, 0.5, 0.75, 0.5, 0.5]\n",
            "Número de Sisemas: 5\n",
            "Fator:  [0.3296799539643607, 0.7768698398515702, 0.6321205588285577, 0.7768698398515702, 0.6321205588285577, 0.6321205588285577, 0.3934693402873666, 0.6321205588285577, 0.7768698398515702, 0.6321205588285577, 0.7768698398515702, 0.6321205588285577, 0.7768698398515702, 0.6321205588285577, 0.7768698398515702, 0.6321205588285577, 0.7768698398515702, 0.6321205588285577, 0.6321205588285577]\n",
            "Media de falhas:  [0, 0.0, 537824.0, 572910.1414723251, 2898298.7106909873, 17425315.75059722, 23000094.974166922, 63827731.99203738, 118127086.16148105, 193049199.92966503, 202254896.77801582, 362487559.9288038, 372913467.9101906, 695345197.2347019, 717211146.8838779, 1365088060.450056, 1386201397.7486064, 1631570858.3846478, 1741747834.017963, 1216912764.5437648]\n",
            "Custo =  inf\n",
            "\n",
            "=========================================================================\n",
            "\n",
            "Número de ciclos de manutenção: 16 5\n",
            "Tempos para manutenções preventivas: [0, 0, 70, 95, 155, 253, 344, 362, 425, 457, 520, 543, 609, 636, 706, 724, 798]\n",
            "Severidade para cada subsistema: [0.75, 0.5, 0.75, 0.5, 0.5, 0.5, 0.75, 0.5, 0.75, 0.5, 0.75, 0.5, 0.75, 0.5, 0.75, 0.5]\n",
            "Número de Sisemas: 5\n",
            "Fator:  [0.3296799539643607, 0.7768698398515702, 0.6321205588285577, 0.7768698398515702, 0.6321205588285577, 0.6321205588285577, 0.6321205588285577, 0.7768698398515702, 0.6321205588285577, 0.7768698398515702, 0.6321205588285577, 0.7768698398515702, 0.6321205588285577, 0.7768698398515702, 0.6321205588285577, 0.7768698398515702, 0.6321205588285577]\n",
            "Media de falhas:  [0, 0.0, 537824.0, 572910.1414723251, 3025627.1592012034, 16120460.412666094, 81510296.45648547, 91318993.7588565, 170884613.55811065, 178932388.55518582, 346984098.95015657, 356875953.51304555, 679307682.8375568, 701173632.4867328, 1307253655.580066, 1329532446.7941935, 2361937289.6331043, 2309830715.233421]\n",
            "Custo =  inf\n",
            "\n",
            "=========================================================================\n",
            "\n",
            "Número de ciclos de manutenção: 17 5\n",
            "Tempos para manutenções preventivas: [0, 0, 70, 94, 156, 251, 342, 362, 428, 457, 519, 542, 610, 634, 704, 722, 796, 874]\n",
            "Severidade para cada subsistema: [0.75, 0.5, 0.75, 0.5, 0.5, 0.5, 0.75, 0.5, 0.75, 0.5, 0.75, 0.5, 0.75, 0.5, 0.75, 0.5, 0.5]\n",
            "Número de Sisemas: 5\n",
            "Fator:  [0.3296799539643607, 0.7768698398515702, 0.6321205588285577, 0.7768698398515702, 0.6321205588285577, 0.6321205588285577, 0.6321205588285577, 0.7768698398515702, 0.6321205588285577, 0.7768698398515702, 0.6321205588285577, 0.7768698398515702, 0.6321205588285577, 0.7768698398515702, 0.6321205588285577, 0.7768698398515702, 0.6321205588285577, 0.6321205588285577]\n",
            "Media de falhas:  [0, 0.0, 537824.0, 568763.8475134489, 3242002.9116506134, 15019685.100514824, 79155723.02229655, 90161585.02422373, 177056716.1349215, 184086562.62758136, 347612229.24005723, 357435588.15489227, 693988388.6160709, 712709432.959816, 1312293230.975213, 1334334862.270395, 2356904006.34841, 2649527151.880802, 1606351626.8395357]\n",
            "Custo =  inf\n",
            "\n",
            "=========================================================================\n",
            "\n",
            "Número de ciclos de manutenção: 18 5\n",
            "Tempos para manutenções preventivas: [0, 1, 70, 93, 157, 181, 252, 341, 361, 432, 456, 517, 541, 610, 632, 702, 720, 793, 877]\n",
            "Severidade para cada subsistema: [0.75, 0.5, 0.75, 0.5, 0.75, 0.5, 0.5, 0.75, 0.5, 0.75, 0.5, 0.75, 0.5, 0.75, 0.5, 0.75, 0.5, 0.5]\n",
            "Número de Sisemas: 5\n",
            "Fator:  [0.3296799539643607, 0.7768698398515702, 0.6321205588285577, 0.7768698398515702, 0.6321205588285577, 0.7768698398515702, 0.6321205588285577, 0.6321205588285577, 0.7768698398515702, 0.6321205588285577, 0.7768698398515702, 0.6321205588285577, 0.7768698398515702, 0.6321205588285577, 0.7768698398515702, 0.6321205588285577, 0.7768698398515702, 0.6321205588285577, 0.6321205588285577]\n",
            "Media de falhas:  [0, 0.00032, 525277.7515387319, 552469.4420357683, 3461555.647481622, 3674058.919034162, 19032182.85602472, 39525805.58423936, 50413541.454045475, 149711201.54509395, 155141879.1219739, 313070748.6386639, 323353052.01618904, 666027444.9102471, 682697480.0271538, 1275837698.4707813, 1297644070.1785207, 2289473117.9151144, 2621114561.5378456, 1555987216.4288216]\n",
            "Custo =  183543331267.98062\n",
            "\n",
            "=========================================================================\n",
            "\n",
            "Número de ciclos de manutenção: 18 5\n",
            "Tempos para manutenções preventivas: [0, 1, 70, 92, 156, 182, 254, 271, 342, 360, 434, 454, 516, 541, 611, 630, 700, 791, 876]\n",
            "Severidade para cada subsistema: [0.75, 0.5, 0.75, 0.5, 0.75, 0.5, 0.75, 0.5, 0.75, 0.5, 0.75, 0.5, 0.75, 0.5, 0.75, 0.5, 0.5, 0.5]\n",
            "Número de Sisemas: 5\n",
            "Fator:  [0.3296799539643607, 0.7768698398515702, 0.6321205588285577, 0.7768698398515702, 0.6321205588285577, 0.7768698398515702, 0.6321205588285577, 0.7768698398515702, 0.6321205588285577, 0.7768698398515702, 0.6321205588285577, 0.7768698398515702, 0.6321205588285577, 0.7768698398515702, 0.6321205588285577, 0.7768698398515702, 0.6321205588285577, 0.6321205588285577, 0.6321205588285577]\n",
            "Media de falhas:  [0, 0.00032, 525277.7515387319, 549090.0353084713, 3404609.9534528065, 3654308.9364290196, 19800756.412574086, 20308269.159933127, 63528969.29946746, 65088429.50784141, 172024039.2042461, 176266434.54774055, 336279777.50138366, 347099128.53456473, 698092069.2613192, 711958451.6982579, 1298707449.291479, 1564295780.1748967, 3301249940.8717966, 2243454769.4845634]\n",
            "Custo =  201631370861.59567\n",
            "\n",
            "=========================================================================\n",
            "\n",
            "Número de ciclos de manutenção: 17 5\n",
            "Tempos para manutenções preventivas: [0, 1, 70, 91, 154, 182, 256, 298, 344, 360, 432, 453, 515, 540, 610, 702, 789, 873]\n",
            "Severidade para cada subsistema: [0.75, 0.5, 0.75, 0.5, 0.75, 0.5, 0.75, 0.5, 0.75, 0.5, 0.75, 0.5, 0.75, 0.5, 0.5, 0.5, 0.5]\n",
            "Número de Sisemas: 5\n",
            "Fator:  [0.3296799539643607, 0.7768698398515702, 0.6321205588285577, 0.7768698398515702, 0.6321205588285577, 0.7768698398515702, 0.6321205588285577, 0.7768698398515702, 0.6321205588285577, 0.7768698398515702, 0.6321205588285577, 0.7768698398515702, 0.6321205588285577, 0.7768698398515702, 0.6321205588285577, 0.6321205588285577, 0.6321205588285577, 0.6321205588285577]\n",
            "Media de falhas:  [0, 0.00032, 525277.7515387319, 546051.4751908119, 3207262.6301026368, 3493755.097534219, 20868027.106351517, 23735288.23516022, 47882104.93479565, 49226771.477784425, 150462289.71809113, 154933581.34194532, 313788918.2790623, 324533520.706426, 673371915.4444958, 856059573.3426168, 2058207486.3042321, 3748565661.562458, 2712678110.7437677]\n",
            "Custo =  214953021318.8067\n",
            "\n",
            "=========================================================================\n",
            "\n",
            "Número de ciclos de manutenção: 16 5\n",
            "Tempos para manutenções preventivas: [0, 1, 70, 91, 152, 257, 271, 346, 429, 453, 516, 541, 610, 704, 720, 791, 871]\n",
            "Severidade para cada subsistema: [0.75, 0.5, 0.75, 0.5, 0.5, 0.75, 0.5, 0.5, 0.75, 0.5, 0.75, 0.5, 0.5, 0.75, 0.5, 0.5]\n",
            "Número de Sisemas: 5\n",
            "Fator:  [0.3296799539643607, 0.7768698398515702, 0.6321205588285577, 0.7768698398515702, 0.6321205588285577, 0.6321205588285577, 0.7768698398515702, 0.6321205588285577, 0.6321205588285577, 0.7768698398515702, 0.6321205588285577, 0.7768698398515702, 0.6321205588285577, 0.6321205588285577, 0.7768698398515702, 0.6321205588285577, 0.6321205588285577]\n",
            "Media de falhas:  [0, 0.00032, 525277.7515387319, 546051.4751908119, 2941287.6160649066, 19481118.204750203, 21885439.395457495, 70800157.28168555, 103690377.33820146, 135946127.8456205, 299213093.1039354, 310032444.1371165, 652706837.0311747, 844211846.1386354, 974522665.5803069, 1925139734.4983096, 2225599420.6790986, 1204245380.8616323]\n",
            "Custo =  181321087303.83203\n",
            "\n",
            "=========================================================================\n",
            "\n",
            "Número de ciclos de manutenção: 17 5\n",
            "Tempos para manutenções preventivas: [0, 1, 70, 92, 151, 259, 276, 346, 360, 426, 454, 517, 542, 609, 705, 722, 794, 870]\n",
            "Severidade para cada subsistema: [0.75, 0.5, 0.75, 0.5, 0.5, 0.5, 0.5, 0.75, 0.5, 0.75, 0.5, 0.75, 0.5, 0.5, 0.75, 0.5, 0.5]\n",
            "Número de Sisemas: 5\n",
            "Fator:  [0.3296799539643607, 0.7768698398515702, 0.6321205588285577, 0.7768698398515702, 0.6321205588285577, 0.6321205588285577, 0.6321205588285577, 0.6321205588285577, 0.7768698398515702, 0.6321205588285577, 0.7768698398515702, 0.6321205588285577, 0.7768698398515702, 0.6321205588285577, 0.6321205588285577, 0.7768698398515702, 0.6321205588285577, 0.6321205588285577]\n",
            "Media de falhas:  [0, 0.00032, 525277.7515387319, 549090.0353084713, 2742581.254622107, 21004919.02971893, 24202549.7341758, 68273039.31410527, 75596715.18500155, 161019120.6138155, 167564617.28891325, 332017986.6679267, 342912476.8644038, 671347137.7293127, 871069332.3637445, 1011364227.5674002, 1991865424.503562, 2268803536.7118926, 1254695540.457549]\n",
            "Custo =  183482709315.26385\n",
            "\n",
            "=========================================================================\n",
            "\n",
            "Número de ciclos de manutenção: 20 5\n",
            "Tempos para manutenções preventivas: [0, 1, 70, 94, 152, 258, 298, 300, 345, 360, 423, 455, 519, 543, 609, 632, 706, 723, 751, 798, 872]\n",
            "Severidade para cada subsistema: [0.75, 0.5, 0.75, 0.5, 0.5, 0.25, 0.5, 0.5, 0.75, 0.5, 0.75, 0.5, 0.75, 0.5, 0.75, 0.5, 0.75, 0.5, 0.5, 0.5]\n",
            "Número de Sisemas: 5\n",
            "Fator:  [0.3296799539643607, 0.7768698398515702, 0.6321205588285577, 0.7768698398515702, 0.6321205588285577, 0.6321205588285577, 0.3934693402873666, 0.6321205588285577, 0.6321205588285577, 0.7768698398515702, 0.6321205588285577, 0.7768698398515702, 0.6321205588285577, 0.7768698398515702, 0.6321205588285577, 0.7768698398515702, 0.6321205588285577, 0.7768698398515702, 0.6321205588285577, 0.6321205588285577, 0.6321205588285577]\n",
            "Media de falhas:  [0, 0.00032, 525277.7515387319, 556217.5990521808, 2716857.718900672, 19861164.13735225, 31699071.809095606, 32178454.49274002, 161052355.84751755, 168936285.73211318, 247137690.95309424, 255059206.46692342, 425252308.2347676, 435678216.2161544, 758109945.5406657, 775686558.9984572, 1423852471.5728607, 1444629587.6837282, 1721281310.204843, 1824547490.9709368, 3273835728.6332345, 2245221921.903489]\n",
            "Custo =  253010138969.3895\n",
            "\n",
            "=========================================================================\n",
            "\n",
            "Número de ciclos de manutenção: 18 5\n",
            "Tempos para manutenções preventivas: [0, 1, 70, 95, 155, 256, 343, 361, 424, 455, 519, 543, 609, 634, 706, 724, 751, 800, 871]\n",
            "Severidade para cada subsistema: [0.75, 0.5, 0.75, 0.5, 0.5, 0.5, 0.75, 0.5, 0.75, 0.5, 0.75, 0.5, 0.75, 0.5, 0.75, 0.5, 0.5, 0.5]\n",
            "Número de Sisemas: 5\n",
            "Fator:  [0.3296799539643607, 0.7768698398515702, 0.6321205588285577, 0.7768698398515702, 0.6321205588285577, 0.6321205588285577, 0.6321205588285577, 0.7768698398515702, 0.6321205588285577, 0.7768698398515702, 0.6321205588285577, 0.7768698398515702, 0.6321205588285577, 0.7768698398515702, 0.6321205588285577, 0.7768698398515702, 0.6321205588285577, 0.6321205588285577, 0.6321205588285577]\n",
            "Media de falhas:  [0, 0.00032, 525277.7515387319, 560363.8930110569, 3013080.910739935, 17659847.196001854, 77758486.13763683, 87461596.84861045, 166342872.64424348, 173922666.94201526, 344115768.7098595, 354541676.6912463, 676973406.0157576, 696641378.5792807, 1323640873.6472278, 1345919664.8613553, 1612095940.6022573, 1722272916.2355723, 3097454277.6722393, 2076100237.854773]\n",
            "Custo =  241409651191.86194\n",
            "\n",
            "=========================================================================\n",
            "\n",
            "Número de ciclos de manutenção: 18 5\n",
            "Tempos para manutenções preventivas: [0, 1, 70, 96, 156, 254, 278, 341, 362, 427, 455, 520, 543, 609, 635, 705, 724, 799, 872]\n",
            "Severidade para cada subsistema: [0.75, 0.5, 0.75, 0.5, 0.5, 0.25, 0.5, 0.75, 0.5, 0.75, 0.5, 0.75, 0.5, 0.75, 0.5, 0.75, 0.5, 0.5]\n",
            "Número de Sisemas: 5\n",
            "Fator:  [0.3296799539643607, 0.7768698398515702, 0.6321205588285577, 0.7768698398515702, 0.6321205588285577, 0.6321205588285577, 0.3934693402873666, 0.6321205588285577, 0.7768698398515702, 0.6321205588285577, 0.7768698398515702, 0.6321205588285577, 0.7768698398515702, 0.6321205588285577, 0.7768698398515702, 0.6321205588285577, 0.7768698398515702, 0.6321205588285577, 0.6321205588285577]\n",
            "Media de falhas:  [0, 0.00032, 525277.7515387319, 564939.2319396156, 3064970.250160022, 16269979.016057462, 21139615.3841039, 57016682.53656536, 132320489.6108431, 216722890.56944484, 223321259.99737388, 398140469.4483762, 408032324.01126516, 730464053.3357766, 751217437.9274275, 1354042749.8387017, 1377731236.5516293, 2431730825.949926, 2694685997.1502237, 1666072190.4204783]\n",
            "Custo =  198555566888.6182\n",
            "\n",
            "=========================================================================\n",
            "\n",
            "Número de ciclos de manutenção: 18 5\n",
            "Tempos para manutenções preventivas: [0, 0, 70, 95, 157, 253, 299, 340, 362, 429, 456, 520, 542, 610, 635, 703, 724, 797, 871]\n",
            "Severidade para cada subsistema: [0.75, 0.5, 0.75, 0.5, 0.5, 0.25, 0.5, 0.75, 0.5, 0.75, 0.5, 0.75, 0.5, 0.75, 0.5, 0.75, 0.5, 0.5]\n",
            "Número de Sisemas: 5\n",
            "Fator:  [0.3296799539643607, 0.7768698398515702, 0.6321205588285577, 0.7768698398515702, 0.6321205588285577, 0.6321205588285577, 0.3934693402873666, 0.6321205588285577, 0.7768698398515702, 0.6321205588285577, 0.7768698398515702, 0.6321205588285577, 0.7768698398515702, 0.6321205588285577, 0.7768698398515702, 0.6321205588285577, 0.7768698398515702, 0.6321205588285577, 0.6321205588285577]\n",
            "Media de falhas:  [0, 0.0, 537824.0, 572910.1414723251, 3296894.759800182, 15640268.182674628, 30053630.688657843, 50018452.656832434, 128789672.46246788, 218228101.36007, 224564289.79624975, 395985878.38324416, 405288512.8061187, 741841313.2672973, 761627020.740942, 1337620215.8045578, 1364188163.9790697, 2375250572.826416, 2642471419.389196, 1621117379.5717297]\n",
            "Custo =  inf\n",
            "\n",
            "=========================================================================\n",
            "\n",
            "Número de ciclos de manutenção: 18 5\n",
            "Tempos para manutenções preventivas: [0, 0, 70, 94, 157, 253, 290, 340, 362, 432, 457, 519, 541, 610, 634, 702, 724, 794, 870]\n",
            "Severidade para cada subsistema: [0.75, 0.5, 0.75, 0.5, 0.5, 0.5, 0.5, 0.75, 0.5, 0.75, 0.5, 0.75, 0.5, 0.75, 0.5, 0.75, 0.5, 0.5]\n",
            "Número de Sisemas: 5\n",
            "Fator:  [0.3296799539643607, 0.7768698398515702, 0.6321205588285577, 0.7768698398515702, 0.6321205588285577, 0.6321205588285577, 0.6321205588285577, 0.6321205588285577, 0.7768698398515702, 0.6321205588285577, 0.7768698398515702, 0.6321205588285577, 0.7768698398515702, 0.6321205588285577, 0.7768698398515702, 0.6321205588285577, 0.7768698398515702, 0.6321205588285577, 0.6321205588285577]\n",
            "Media de falhas:  [0, 0.0, 537824.0, 568763.8475134489, 3384129.0764374775, 15727502.499311922, 25407489.979711227, 51204516.48166898, 63432357.820147045, 160811779.26448762, 166584222.46995413, 330109889.08243, 339347814.9347858, 682022207.8288438, 700743252.172589, 1273625174.961497, 1301663464.2199209, 2250190336.636617, 2527128448.844948, 1513020452.5906043]\n",
            "Custo =  inf\n",
            "\n",
            "=========================================================================\n",
            "\n",
            "Número de ciclos de manutenção: 20 5\n",
            "Tempos para manutenções preventivas: [0, 1, 70, 92, 158, 180, 254, 272, 343, 361, 433, 456, 519, 540, 610, 632, 701, 722, 792, 811, 870]\n",
            "Severidade para cada subsistema: [0.75, 0.5, 0.75, 0.5, 0.75, 0.5, 0.75, 0.5, 0.75, 0.5, 0.75, 0.5, 0.75, 0.5, 0.75, 0.5, 0.75, 0.5, 0.75, 0.5]\n",
            "Número de Sisemas: 5\n",
            "Fator:  [0.3296799539643607, 0.7768698398515702, 0.6321205588285577, 0.7768698398515702, 0.6321205588285577, 0.7768698398515702, 0.6321205588285577, 0.7768698398515702, 0.6321205588285577, 0.7768698398515702, 0.6321205588285577, 0.7768698398515702, 0.6321205588285577, 0.7768698398515702, 0.6321205588285577, 0.7768698398515702, 0.6321205588285577, 0.7768698398515702, 0.6321205588285577, 0.7768698398515702, 0.6321205588285577]\n",
            "Media de falhas:  [0, 0.00032, 525277.7515387319, 549090.0353084713, 3710141.5203888817, 3889593.893537147, 20827142.14587629, 21383093.43825359, 65047077.85935597, 66622738.11427447, 168708038.47792083, 173849967.29085952, 340695685.28350437, 349364926.81218463, 698203321.5502543, 714873356.6671611, 1294704464.8155622, 1320991274.9133177, 2260409645.452635, 2297156961.248575, 3405452747.4129734, 3317387341.8305383]\n"
          ]
        },
        {
          "output_type": "stream",
          "name": "stderr",
          "text": [
            "pyswarms.single.global_best:  45%|████▌     |45/100, best_cost=1.43e+11"
          ]
        },
        {
          "output_type": "stream",
          "name": "stdout",
          "text": [
            "Custo =  223575624893.20285\n",
            "\n",
            "=========================================================================\n",
            "\n",
            "Número de ciclos de manutenção: 20 5\n",
            "Tempos para manutenções preventivas: [0, 1, 70, 90, 156, 180, 254, 273, 345, 360, 433, 455, 518, 540, 610, 630, 701, 722, 792, 813, 870]\n",
            "Severidade para cada subsistema: [0.75, 0.5, 0.75, 0.5, 0.75, 0.5, 0.75, 0.5, 0.75, 0.5, 0.75, 0.5, 0.75, 0.5, 0.75, 0.5, 0.75, 0.5, 0.75, 0.5]\n",
            "Número de Sisemas: 5\n",
            "Fator:  [0.3296799539643607, 0.7768698398515702, 0.6321205588285577, 0.7768698398515702, 0.6321205588285577, 0.7768698398515702, 0.6321205588285577, 0.7768698398515702, 0.6321205588285577, 0.7768698398515702, 0.6321205588285577, 0.7768698398515702, 0.6321205588285577, 0.7768698398515702, 0.6321205588285577, 0.7768698398515702, 0.6321205588285577, 0.7768698398515702, 0.6321205588285577, 0.7768698398515702, 0.6321205588285577]\n",
            "Media de falhas:  [0, 0.00032, 525277.7515387319, 543327.3025771828, 3590576.488866934, 3799308.042026725, 20736856.294365868, 21343911.429098446, 66852769.73801796, 68094487.00682113, 172152305.7296461, 176972122.95532805, 342618401.9349376, 351791958.2157592, 700630352.953829, 715350571.2126579, 1315455320.4935598, 1341742130.5913153, 2281160501.1306324, 2322700276.100746, 3388869373.7313275, 3300803968.1488924]\n",
            "Custo =  223541382147.27148\n",
            "\n",
            "=========================================================================\n",
            "\n",
            "Número de ciclos de manutenção: 17 5\n",
            "Tempos para manutenções preventivas: [0, 1, 70, 90, 153, 255, 347, 360, 431, 453, 517, 540, 610, 703, 722, 793, 814, 870]\n",
            "Severidade para cada subsistema: [0.75, 0.5, 0.75, 0.5, 0.5, 0.5, 0.75, 0.5, 0.75, 0.5, 0.75, 0.5, 0.5, 0.75, 0.5, 0.75, 0.5]\n",
            "Número de Sisemas: 5\n",
            "Fator:  [0.3296799539643607, 0.7768698398515702, 0.6321205588285577, 0.7768698398515702, 0.6321205588285577, 0.6321205588285577, 0.6321205588285577, 0.7768698398515702, 0.6321205588285577, 0.7768698398515702, 0.6321205588285577, 0.7768698398515702, 0.6321205588285577, 0.6321205588285577, 0.7768698398515702, 0.6321205588285577, 0.7768698398515702, 0.6321205588285577]\n",
            "Media de falhas:  [0, 0.00032, 525277.7515387319, 543327.3025771828, 3154654.8419418037, 18104287.96862252, 86653489.14092457, 93422337.23963672, 191890239.1027037, 196631416.23129126, 364387523.77749985, 374074961.99996024, 722913356.73803, 909971206.0086583, 1067469106.1769764, 2027306842.412019, 2069044381.0485826, 3114288921.2492757, 3026223515.6668406]\n",
            "Custo =  224766732214.31458\n",
            "\n",
            "=========================================================================\n",
            "\n",
            "Número de ciclos de manutenção: 18 5\n",
            "Tempos para manutenções preventivas: [0, 1, 70, 90, 152, 256, 288, 346, 360, 429, 452, 517, 541, 610, 631, 705, 722, 794, 870]\n",
            "Severidade para cada subsistema: [0.75, 0.5, 0.75, 0.5, 0.5, 0.5, 0.5, 0.75, 0.5, 0.75, 0.5, 0.75, 0.5, 0.75, 0.5, 0.75, 0.5, 0.5]\n",
            "Número de Sisemas: 5\n",
            "Fator:  [0.3296799539643607, 0.7768698398515702, 0.6321205588285577, 0.7768698398515702, 0.6321205588285577, 0.6321205588285577, 0.6321205588285577, 0.6321205588285577, 0.7768698398515702, 0.6321205588285577, 0.7768698398515702, 0.6321205588285577, 0.7768698398515702, 0.6321205588285577, 0.7768698398515702, 0.6321205588285577, 0.7768698398515702, 0.6321205588285577, 0.6321205588285577]\n",
            "Media de falhas:  [0, 0.00032, 525277.7515387319, 543327.3025771828, 3020951.7161922893, 18973463.659256086, 26836945.693989296, 60469949.70673403, 67793625.57763031, 160887160.67234766, 165863232.74663326, 336949448.7088568, 347231752.086382, 689906144.9804401, 705588861.8544716, 1350287214.2780495, 1370953154.96979, 2351454351.9059515, 2628392464.114282, 1614284467.8599386]\n",
            "Custo =  185292637207.8252\n",
            "\n",
            "=========================================================================\n",
            "\n",
            "Número de ciclos de manutenção: 18 5\n",
            "Tempos para manutenções preventivas: [0, 1, 70, 91, 153, 257, 346, 361, 427, 453, 517, 541, 609, 632, 706, 722, 750, 795, 870]\n",
            "Severidade para cada subsistema: [0.75, 0.5, 0.75, 0.5, 0.5, 0.5, 0.75, 0.5, 0.75, 0.5, 0.75, 0.5, 0.75, 0.5, 0.75, 0.5, 0.5, 0.5]\n",
            "Número de Sisemas: 5\n",
            "Fator:  [0.3296799539643607, 0.7768698398515702, 0.6321205588285577, 0.7768698398515702, 0.6321205588285577, 0.6321205588285577, 0.6321205588285577, 0.7768698398515702, 0.6321205588285577, 0.7768698398515702, 0.6321205588285577, 0.7768698398515702, 0.6321205588285577, 0.7768698398515702, 0.6321205588285577, 0.7768698398515702, 0.6321205588285577, 0.6321205588285577, 0.6321205588285577]\n",
            "Media de falhas:  [0, 0.00032, 525277.7515387319, 546051.4751908119, 3071489.832636092, 19153103.576486547, 83395373.18877752, 91365696.70185085, 177522076.52203172, 183404992.83561134, 351161100.38181996, 361443403.7593451, 695922473.6167355, 713499087.0745269, 1361664999.6489305, 1380974465.5340526, 1656178617.4773028, 1752340250.4129925, 3211620473.172968, 2197512476.9186244]\n",
            "Custo =  241414504366.68353\n",
            "\n",
            "=========================================================================\n",
            "\n",
            "Número de ciclos de manutenção: 19 5\n",
            "Tempos para manutenções preventivas: [0, 1, 70, 92, 155, 257, 299, 345, 361, 426, 454, 518, 542, 609, 634, 707, 723, 750, 796, 872]\n",
            "Severidade para cada subsistema: [0.75, 0.5, 0.75, 0.5, 0.5, 0.25, 0.5, 0.75, 0.5, 0.75, 0.5, 0.75, 0.5, 0.75, 0.5, 0.75, 0.5, 0.5, 0.5]\n",
            "Número de Sisemas: 5\n",
            "Fator:  [0.3296799539643607, 0.7768698398515702, 0.6321205588285577, 0.7768698398515702, 0.6321205588285577, 0.6321205588285577, 0.3934693402873666, 0.6321205588285577, 0.7768698398515702, 0.6321205588285577, 0.7768698398515702, 0.6321205588285577, 0.7768698398515702, 0.6321205588285577, 0.7768698398515702, 0.6321205588285577, 0.7768698398515702, 0.6321205588285577, 0.6321205588285577, 0.6321205588285577]\n",
            "Media de falhas:  [0, 0.00032, 525277.7515387319, 549090.0353084713, 3260930.104074532, 18456446.94152464, 31228078.9186569, 55636225.66796208, 112820953.06146424, 196503014.43980092, 203048511.11489868, 372019793.99368155, 382373712.4097143, 710808373.2746232, 730476345.8381463, 1371455808.1993008, 1390869356.5147803, 1655651978.2761264, 1755097587.1788902, 3250263783.681735, 2221649976.9519897]\n",
            "Custo =  255081907707.597\n",
            "\n",
            "=========================================================================\n",
            "\n",
            "Número de ciclos de manutenção: 18 5\n",
            "Tempos para manutenções preventivas: [0, 1, 70, 93, 158, 257, 290, 343, 362, 425, 455, 518, 542, 609, 634, 706, 724, 796, 873]\n",
            "Severidade para cada subsistema: [0.75, 0.5, 0.75, 0.5, 0.5, 0.25, 0.5, 0.75, 0.5, 0.75, 0.5, 0.75, 0.5, 0.75, 0.5, 0.75, 0.5, 0.5]\n",
            "Número de Sisemas: 5\n",
            "Fator:  [0.3296799539643607, 0.7768698398515702, 0.6321205588285577, 0.7768698398515702, 0.6321205588285577, 0.6321205588285577, 0.3934693402873666, 0.6321205588285577, 0.7768698398515702, 0.6321205588285577, 0.7768698398515702, 0.6321205588285577, 0.7768698398515702, 0.6321205588285577, 0.7768698398515702, 0.6321205588285577, 0.7768698398515702, 0.6321205588285577, 0.6321205588285577]\n",
            "Media de falhas:  [0, 0.00032, 525277.7515387319, 552469.4420357683, 3613482.989466031, 17553159.094870895, 25936875.369097926, 54739846.288113266, 123081241.79492271, 202646861.5941769, 209892319.56025565, 375538598.53986514, 385892516.95589787, 714327177.8208067, 733995150.3843299, 1360994645.452277, 1383273436.6664045, 2373243506.592141, 2659089547.4061546, 1623201996.5874643]\n",
            "Custo =  197987608523.96082\n",
            "\n",
            "=========================================================================\n",
            "\n",
            "Número de ciclos de manutenção: 17 5\n",
            "Tempos para manutenções preventivas: [0, 1, 70, 93, 161, 257, 343, 362, 427, 456, 518, 543, 609, 633, 706, 724, 795, 874]\n",
            "Severidade para cada subsistema: [0.75, 0.5, 0.75, 0.5, 0.5, 0.5, 0.75, 0.5, 0.75, 0.5, 0.75, 0.5, 0.75, 0.5, 0.75, 0.5, 0.5]\n",
            "Número de Sisemas: 5\n",
            "Fator:  [0.3296799539643607, 0.7768698398515702, 0.6321205588285577, 0.7768698398515702, 0.6321205588285577, 0.6321205588285577, 0.6321205588285577, 0.7768698398515702, 0.6321205588285577, 0.7768698398515702, 0.6321205588285577, 0.7768698398515702, 0.6321205588285577, 0.7768698398515702, 0.6321205588285577, 0.7768698398515702, 0.6321205588285577, 0.6321205588285577]\n",
            "Media de falhas:  [0, 0.00032, 525277.7515387319, 552469.4420357683, 4107534.634486606, 16875378.34626305, 75845162.604161, 86249399.44763005, 170651800.40623176, 177625737.37320313, 339974221.649329, 350944242.9289532, 673375972.2534645, 691985185.7393318, 1329536769.2418365, 1351815560.455964, 2320941182.063015, 2619257347.2494006, 1576081822.2081342]\n",
            "Custo =  185303041099.0762\n",
            "\n",
            "=========================================================================\n",
            "\n",
            "Número de ciclos de manutenção: 18 5\n",
            "Tempos para manutenções preventivas: [0, 1, 70, 94, 161, 256, 281, 343, 361, 429, 457, 518, 543, 609, 631, 706, 724, 794, 874]\n",
            "Severidade para cada subsistema: [0.75, 0.5, 0.75, 0.5, 0.5, 0.5, 0.5, 0.75, 0.5, 0.75, 0.5, 0.75, 0.5, 0.75, 0.5, 0.75, 0.5, 0.5]\n",
            "Número de Sisemas: 5\n",
            "Fator:  [0.3296799539643607, 0.7768698398515702, 0.6321205588285577, 0.7768698398515702, 0.6321205588285577, 0.6321205588285577, 0.6321205588285577, 0.6321205588285577, 0.7768698398515702, 0.6321205588285577, 0.7768698398515702, 0.6321205588285577, 0.7768698398515702, 0.6321205588285577, 0.7768698398515702, 0.6321205588285577, 0.7768698398515702, 0.6321205588285577, 0.6321205588285577]\n",
            "Media de falhas:  [0, 0.00032, 525277.7515387319, 556217.5990521808, 4001422.9846364027, 16291923.546355098, 21614555.514379468, 57418104.53912301, 67121215.25009663, 158377858.48529613, 165082938.82343695, 324160554.0547687, 335130575.33439285, 657562304.6589042, 674131989.3769397, 1332974978.0532935, 1355253769.267421, 2303780641.6841173, 2607853146.898158, 1564677621.8568916]\n",
            "Custo =  185614386245.87497\n",
            "\n",
            "=========================================================================\n",
            "\n",
            "Número de ciclos de manutenção: 17 5\n",
            "Tempos para manutenções preventivas: [0, 1, 70, 93, 157, 256, 344, 361, 431, 456, 517, 542, 610, 630, 705, 723, 792, 875]\n",
            "Severidade para cada subsistema: [0.75, 0.5, 0.75, 0.5, 0.5, 0.5, 0.75, 0.5, 0.75, 0.5, 0.75, 0.5, 0.75, 0.5, 0.75, 0.5, 0.5]\n",
            "Número de Sisemas: 5\n",
            "Fator:  [0.3296799539643607, 0.7768698398515702, 0.6321205588285577, 0.7768698398515702, 0.6321205588285577, 0.6321205588285577, 0.6321205588285577, 0.7768698398515702, 0.6321205588285577, 0.7768698398515702, 0.6321205588285577, 0.7768698398515702, 0.6321205588285577, 0.7768698398515702, 0.6321205588285577, 0.7768698398515702, 0.6321205588285577, 0.6321205588285577]\n",
            "Media de falhas:  [0, 0.00032, 525277.7515387319, 552469.4420357683, 3461555.647481622, 17286178.148337703, 79127938.63292943, 88247682.512305, 184811880.75503036, 190537762.0417643, 348466631.5584543, 359361121.75493133, 695913922.21611, 710634140.4749389, 1365955826.8296287, 1388115799.9049919, 2311813957.853903, 2634815731.4517465, 1584337749.9637232]\n",
            "Custo =  184974568993.83212\n",
            "\n",
            "=========================================================================\n",
            "\n",
            "Número de ciclos de manutenção: 18 5\n",
            "Tempos para manutenções preventivas: [0, 1, 70, 93, 153, 255, 276, 345, 360, 433, 455, 517, 542, 610, 703, 722, 792, 814, 876]\n",
            "Severidade para cada subsistema: [0.75, 0.5, 0.75, 0.5, 0.5, 0.75, 0.5, 0.75, 0.5, 0.75, 0.5, 0.75, 0.5, 0.5, 0.75, 0.5, 0.75, 0.5]\n",
            "Número de Sisemas: 5\n",
            "Fator:  [0.3296799539643607, 0.7768698398515702, 0.6321205588285577, 0.7768698398515702, 0.6321205588285577, 0.6321205588285577, 0.7768698398515702, 0.6321205588285577, 0.7768698398515702, 0.6321205588285577, 0.7768698398515702, 0.6321205588285577, 0.7768698398515702, 0.6321205588285577, 0.6321205588285577, 0.7768698398515702, 0.6321205588285577, 0.7768698398515702, 0.6321205588285577]\n",
            "Media de falhas:  [0, 0.00032, 525277.7515387319, 552469.4420357683, 2912664.3402288356, 17862297.46690955, 21920677.813911382, 64621974.65204671, 65863691.92084987, 169921510.64367482, 174741327.86935678, 335919045.43820506, 346813535.6346821, 683366336.0958607, 870424185.366489, 1027922085.5348072, 1967340456.0741243, 2011350290.4233322, 3215107923.4830832, 3123904525.5606217]\n",
            "Custo =  225921718368.3819\n",
            "\n",
            "=========================================================================\n",
            "\n",
            "Número de ciclos de manutenção: 17 5\n",
            "Tempos para manutenções preventivas: [0, 1, 70, 92, 254, 298, 345, 360, 434, 454, 517, 542, 610, 702, 721, 793, 818, 875]\n",
            "Severidade para cada subsistema: [0.75, 0.5, 0.75, 0.5, 0.75, 0.5, 0.75, 0.5, 0.75, 0.5, 0.75, 0.5, 0.5, 0.75, 0.5, 0.75, 0.5]\n",
            "Número de Sisemas: 5\n",
            "Fator:  [0.3296799539643607, 0.7768698398515702, 0.6321205588285577, 0.7768698398515702, 0.6321205588285577, 0.7768698398515702, 0.6321205588285577, 0.7768698398515702, 0.6321205588285577, 0.7768698398515702, 0.6321205588285577, 0.7768698398515702, 0.6321205588285577, 0.6321205588285577, 0.7768698398515702, 0.6321205588285577, 0.7768698398515702, 0.6321205588285577]\n",
            "Media de falhas:  [0, 0.00032, 525277.7515387319, 549090.0353084713, 92730736.44839348, 95853098.71767324, 120950635.99499416, 122192353.26379733, 229127962.96020204, 233370358.30369648, 397823727.68270993, 408718217.879187, 745271018.3403656, 927958676.2384868, 1084595037.749698, 2060387468.6536517, 2112355225.296125, 3202491614.313584, 3111815813.1723614]\n",
            "Custo =  226119181179.34183\n",
            "\n",
            "=========================================================================\n",
            "\n",
            "Número de ciclos de manutenção: 17 5\n",
            "Tempos para manutenções preventivas: [0, 1, 70, 92, 254, 345, 360, 433, 454, 518, 541, 610, 630, 702, 721, 796, 811, 874]\n",
            "Severidade para cada subsistema: [0.75, 0.5, 0.75, 0.5, 0.5, 0.75, 0.5, 0.75, 0.5, 0.75, 0.5, 0.75, 0.5, 0.75, 0.5, 0.75, 0.5]\n",
            "Número de Sisemas: 5\n",
            "Fator:  [0.3296799539643607, 0.7768698398515702, 0.6321205588285577, 0.7768698398515702, 0.6321205588285577, 0.6321205588285577, 0.7768698398515702, 0.6321205588285577, 0.7768698398515702, 0.6321205588285577, 0.7768698398515702, 0.6321205588285577, 0.7768698398515702, 0.6321205588285577, 0.7768698398515702, 0.6321205588285577, 0.7768698398515702, 0.6321205588285577]\n",
            "Media de falhas:  [0, 0.00032, 525277.7515387319, 549090.0353084713, 92730736.44839348, 115017899.88115846, 122901829.76575409, 226959648.48857903, 231468035.28143236, 400439318.16021526, 410194538.71089065, 752868931.6049488, 767589149.8637776, 1381227272.2173681, 1404539010.8887887, 2443533282.259803, 2471806131.933868, 3686829967.379948, 3596679881.5027285]\n",
            "Custo =  228619689130.51294\n",
            "\n",
            "=========================================================================\n",
            "\n",
            "Número de ciclos de manutenção: 18 5\n",
            "Tempos para manutenções preventivas: [0, 1, 70, 93, 150, 254, 294, 344, 360, 431, 453, 519, 541, 609, 631, 704, 721, 798, 871]\n",
            "Severidade para cada subsistema: [0.75, 0.5, 0.75, 0.5, 0.5, 0.75, 0.5, 0.75, 0.5, 0.75, 0.5, 0.75, 0.5, 0.75, 0.5, 0.75, 0.5, 0.5]\n",
            "Número de Sisemas: 5\n",
            "Fator:  [0.3296799539643607, 0.7768698398515702, 0.6321205588285577, 0.7768698398515702, 0.6321205588285577, 0.6321205588285577, 0.7768698398515702, 0.6321205588285577, 0.7768698398515702, 0.6321205588285577, 0.7768698398515702, 0.6321205588285577, 0.7768698398515702, 0.6321205588285577, 0.7768698398515702, 0.6321205588285577, 0.7768698398515702, 0.6321205588285577, 0.6321205588285577]\n",
            "Media de falhas:  [0, 0.00032, 525277.7515387319, 552469.4420357683, 2557828.8012712104, 18254603.65421097, 29514567.477178834, 56444012.25582169, 57788678.79881047, 156256580.66187742, 160997757.790465, 337968768.687937, 347206694.5402928, 681685764.3976831, 698255449.1157186, 1328992780.291334, 1349547992.7122626, 2431933563.286834, 2693827651.9621964, 1672473612.14473]\n",
            "Custo =  184848967491.94122\n",
            "\n",
            "=========================================================================\n",
            "\n",
            "Número de ciclos de manutenção: 18 5\n",
            "Tempos para manutenções preventivas: [0, 1, 70, 93, 153, 254, 274, 343, 361, 429, 454, 519, 541, 609, 633, 705, 722, 750, 799]\n",
            "Severidade para cada subsistema: [0.75, 0.5, 0.75, 0.5, 0.5, 0.75, 0.5, 0.75, 0.5, 0.75, 0.5, 0.75, 0.5, 0.75, 0.5, 0.75, 0.5, 0.5]\n",
            "Número de Sisemas: 5\n",
            "Fator:  [0.3296799539643607, 0.7768698398515702, 0.6321205588285577, 0.7768698398515702, 0.6321205588285577, 0.6321205588285577, 0.7768698398515702, 0.6321205588285577, 0.7768698398515702, 0.6321205588285577, 0.7768698398515702, 0.6321205588285577, 0.7768698398515702, 0.6321205588285577, 0.7768698398515702, 0.6321205588285577, 0.7768698398515702, 0.6321205588285577, 0.6321205588285577]\n",
            "Media de falhas:  [0, 0.00032, 525277.7515387319, 552469.4420357683, 2912664.3402288356, 17320709.498897105, 21053015.540947787, 62890532.57286469, 64466192.82778319, 155722836.06298268, 161356442.7143262, 334924546.4257107, 344162472.27806646, 678641542.1354568, 697250755.6213242, 1320889536.458024, 1341555477.1497645, 1616759629.0930147, 1726433592.3003204, 1208577893.2454376]\n",
            "Custo =  163489705463.5547\n",
            "\n",
            "=========================================================================\n",
            "\n",
            "Número de ciclos de manutenção: 18 5\n",
            "Tempos para manutenções preventivas: [0, 1, 70, 93, 155, 210, 253, 277, 343, 361, 427, 454, 519, 541, 609, 634, 705, 723, 797]\n",
            "Severidade para cada subsistema: [0.75, 0.5, 0.75, 0.5, 0.5, 0.5, 0.5, 0.5, 0.75, 0.5, 0.75, 0.5, 0.75, 0.5, 0.75, 0.5, 0.75, 0.5]\n",
            "Número de Sisemas: 5\n",
            "Fator:  [0.3296799539643607, 0.7768698398515702, 0.6321205588285577, 0.7768698398515702, 0.6321205588285577, 0.6321205588285577, 0.6321205588285577, 0.6321205588285577, 0.6321205588285577, 0.7768698398515702, 0.6321205588285577, 0.7768698398515702, 0.6321205588285577, 0.7768698398515702, 0.6321205588285577, 0.7768698398515702, 0.6321205588285577, 0.7768698398515702, 0.6321205588285577]\n",
            "Media de falhas:  [0, 0.00032, 525277.7515387319, 552469.4420357683, 3175707.4384771334, 5006293.996813697, 12173184.421769667, 16976068.71517391, 56160757.8294567, 65863868.54043032, 152020248.3606112, 158255040.71317413, 331823144.42455864, 341061070.2769144, 675540140.1343048, 695208112.6978279, 1308409647.313552, 1330569620.388915, 2358047744.603978, 2306484092.697915]\n",
            "Custo =  145752727866.28442\n",
            "\n",
            "=========================================================================\n",
            "\n",
            "Número de ciclos de manutenção: 17 5\n",
            "Tempos para manutenções preventivas: [0, 1, 70, 93, 156, 255, 291, 343, 361, 426, 456, 519, 541, 609, 635, 705, 723, 794]\n",
            "Severidade para cada subsistema: [0.75, 0.5, 0.75, 0.5, 0.5, 0.25, 0.5, 0.75, 0.5, 0.75, 0.5, 0.75, 0.5, 0.75, 0.5, 0.75, 0.5]\n",
            "Número de Sisemas: 5\n",
            "Fator:  [0.3296799539643607, 0.7768698398515702, 0.6321205588285577, 0.7768698398515702, 0.6321205588285577, 0.6321205588285577, 0.3934693402873666, 0.6321205588285577, 0.7768698398515702, 0.6321205588285577, 0.7768698398515702, 0.6321205588285577, 0.7768698398515702, 0.6321205588285577, 0.7768698398515702, 0.6321205588285577, 0.7768698398515702, 0.6321205588285577]\n",
            "Media de falhas:  [0, 0.00032, 525277.7515387319, 552469.4420357683, 3315691.5712679005, 17026013.983967744, 26495718.79403913, 54569475.26659601, 118696779.63976777, 202378841.01810446, 209682289.82440647, 376528007.8170513, 385765933.66940707, 720245003.5267973, 740998388.1184483, 1343823700.0297222, 1365983673.1050854, 2330456929.326835, 2280543321.4813848]\n",
            "Custo =  156319061200.5478\n",
            "\n",
            "=========================================================================\n",
            "\n",
            "Número de ciclos de manutenção: 16 5\n",
            "Tempos para manutenções preventivas: [0, 1, 70, 92, 157, 256, 344, 361, 427, 456, 519, 542, 610, 634, 705, 723, 792]\n",
            "Severidade para cada subsistema: [0.75, 0.5, 0.75, 0.5, 0.5, 0.5, 0.75, 0.5, 0.75, 0.5, 0.75, 0.5, 0.75, 0.5, 0.75, 0.5]\n",
            "Número de Sisemas: 5\n",
            "Fator:  [0.3296799539643607, 0.7768698398515702, 0.6321205588285577, 0.7768698398515702, 0.6321205588285577, 0.6321205588285577, 0.6321205588285577, 0.7768698398515702, 0.6321205588285577, 0.7768698398515702, 0.6321205588285577, 0.7768698398515702, 0.6321205588285577, 0.7768698398515702, 0.6321205588285577, 0.7768698398515702, 0.6321205588285577]\n",
            "Media de falhas:  [0, 0.00032, 525277.7515387319, 549090.0353084713, 3554285.191609568, 17378907.692465648, 79220668.17705739, 88340412.05643296, 174496791.87661386, 181470728.84358522, 348316446.83623004, 358139805.7510651, 694692606.2122437, 713413650.5559888, 1326615185.1717129, 1348775158.247076, 2272473316.1959867, 2223678668.5773687]\n",
            "Custo =  143304585850.20178\n",
            "\n",
            "=========================================================================\n",
            "\n",
            "Número de ciclos de manutenção: 18 5\n",
            "Tempos para manutenções preventivas: [0, 1, 70, 92, 158, 257, 344, 361, 390, 428, 456, 518, 542, 610, 632, 705, 723, 790, 875]\n",
            "Severidade para cada subsistema: [0.75, 0.5, 0.75, 0.5, 0.5, 0.5, 0.75, 0.5, 0.5, 0.75, 0.5, 0.75, 0.5, 0.75, 0.5, 0.75, 0.5, 0.5]\n",
            "Número de Sisemas: 5\n",
            "Fator:  [0.3296799539643607, 0.7768698398515702, 0.6321205588285577, 0.7768698398515702, 0.6321205588285577, 0.6321205588285577, 0.6321205588285577, 0.7768698398515702, 0.6321205588285577, 0.6321205588285577, 0.7768698398515702, 0.6321205588285577, 0.7768698398515702, 0.6321205588285577, 0.7768698398515702, 0.6321205588285577, 0.7768698398515702, 0.6321205588285577, 0.6321205588285577]\n",
            "Media de falhas:  [0, 0.00032, 525277.7515387319, 549090.0353084713, 3710141.5203888817, 17649817.625793748, 78338590.1236682, 87458334.00304377, 109728605.71865085, 117905492.73162636, 157134672.6131197, 319483156.88924557, 329837075.3052783, 666389875.7664568, 683059910.8833636, 1317197463.1800628, 1339357436.255426, 2223242755.048095, 2558384874.226432, 1507906892.7384086]\n",
            "Custo =  187481319209.85068\n",
            "\n",
            "=========================================================================\n",
            "\n",
            "Número de ciclos de manutenção: 18 5\n",
            "Tempos para manutenções preventivas: [0, 1, 70, 92, 160, 256, 283, 343, 361, 428, 456, 519, 542, 610, 630, 703, 723, 789, 879]\n",
            "Severidade para cada subsistema: [0.75, 0.5, 0.75, 0.5, 0.5, 0.25, 0.5, 0.75, 0.5, 0.75, 0.5, 0.75, 0.5, 0.75, 0.5, 0.75, 0.5, 0.5]\n",
            "Número de Sisemas: 5\n",
            "Fator:  [0.3296799539643607, 0.7768698398515702, 0.6321205588285577, 0.7768698398515702, 0.6321205588285577, 0.6321205588285577, 0.3934693402873666, 0.6321205588285577, 0.7768698398515702, 0.6321205588285577, 0.7768698398515702, 0.6321205588285577, 0.7768698398515702, 0.6321205588285577, 0.7768698398515702, 0.6321205588285577, 0.7768698398515702, 0.6321205588285577, 0.6321205588285577]\n",
            "Media de falhas:  [0, 0.00032, 525277.7515387319, 549090.0353084713, 4041159.2738138842, 16701818.755647596, 22692021.826076727, 56869232.85708107, 120996537.23025282, 209677523.44522762, 216329086.99197936, 383174804.9846242, 392998163.89945924, 729550964.3606379, 744271182.6194668, 1371622065.2419424, 1396606745.0718434, 2260941129.455978, 2633369022.612521, 1553531381.3775764]\n",
            "Custo =  196769346620.9711\n"
          ]
        },
        {
          "output_type": "stream",
          "name": "stderr",
          "text": [
            "pyswarms.single.global_best:  66%|██████▌   |66/100, best_cost=1.43e+11"
          ]
        },
        {
          "output_type": "stream",
          "name": "stdout",
          "text": [
            "\n",
            "=========================================================================\n",
            "\n",
            "Número de ciclos de manutenção: 18 5\n",
            "Tempos para manutenções preventivas: [0, 1, 70, 91, 161, 255, 342, 361, 429, 454, 519, 542, 610, 630, 702, 722, 789, 813, 882]\n",
            "Severidade para cada subsistema: [0.75, 0.5, 0.75, 0.5, 0.5, 0.5, 0.75, 0.5, 0.75, 0.5, 0.75, 0.5, 0.75, 0.5, 0.75, 0.5, 0.75, 0.5]\n",
            "Número de Sisemas: 5\n",
            "Fator:  [0.3296799539643607, 0.7768698398515702, 0.6321205588285577, 0.7768698398515702, 0.6321205588285577, 0.6321205588285577, 0.6321205588285577, 0.7768698398515702, 0.6321205588285577, 0.7768698398515702, 0.6321205588285577, 0.7768698398515702, 0.6321205588285577, 0.7768698398515702, 0.6321205588285577, 0.7768698398515702, 0.6321205588285577, 0.7768698398515702, 0.6321205588285577]\n",
            "Media de falhas:  [0, 0.00032, 525277.7515387319, 546051.4751908119, 4328976.966048022, 16156497.537707504, 75669430.56096053, 85961833.12402508, 177218476.35922456, 182852083.01056808, 356420186.72195256, 366243545.6367876, 702796346.0979662, 717516564.3567951, 1331154686.7103858, 1356006469.0491483, 2235609686.7918854, 2284020886.4808507, 3680397182.614995, 3585987029.9903417]\n",
            "Custo =  230134494654.37015\n",
            "\n",
            "=========================================================================\n",
            "\n",
            "Número de ciclos de manutenção: 17 5\n",
            "Tempos para manutenções preventivas: [0, 1, 70, 91, 162, 253, 280, 341, 361, 429, 453, 519, 541, 610, 701, 722, 790, 880]\n",
            "Severidade para cada subsistema: [0.75, 0.5, 0.75, 0.5, 0.5, 0.5, 0.5, 0.75, 0.5, 0.75, 0.5, 0.75, 0.5, 0.5, 0.75, 0.5, 0.5]\n",
            "Número de Sisemas: 5\n",
            "Fator:  [0.3296799539643607, 0.7768698398515702, 0.6321205588285577, 0.7768698398515702, 0.6321205588285577, 0.6321205588285577, 0.6321205588285577, 0.6321205588285577, 0.7768698398515702, 0.6321205588285577, 0.7768698398515702, 0.6321205588285577, 0.7768698398515702, 0.6321205588285577, 0.6321205588285577, 0.7768698398515702, 0.6321205588285577, 0.6321205588285577]\n",
            "Media de falhas:  [0, 0.00032, 525277.7515387319, 546051.4751908119, 4515997.669276235, 15129891.94875165, 20881917.291812453, 55142102.72560635, 66029838.59541246, 157286481.83061194, 162585829.62822092, 339556840.52569294, 348794766.3780487, 691469159.2721069, 869862590.8219169, 1044722440.6111212, 1944025701.6064384, 2317901452.450139, 1230685192.3243198]\n",
            "Custo =  184179911999.83038\n",
            "\n",
            "=========================================================================\n",
            "\n",
            "Número de ciclos de manutenção: 18 5\n",
            "Tempos para manutenções preventivas: [0, 1, 70, 91, 161, 251, 286, 340, 361, 428, 452, 519, 541, 610, 630, 702, 722, 792, 877]\n",
            "Severidade para cada subsistema: [0.75, 0.5, 0.75, 0.5, 0.5, 0.5, 0.5, 0.75, 0.5, 0.75, 0.5, 0.75, 0.5, 0.75, 0.5, 0.75, 0.5, 0.5]\n",
            "Número de Sisemas: 5\n",
            "Fator:  [0.3296799539643607, 0.7768698398515702, 0.6321205588285577, 0.7768698398515702, 0.6321205588285577, 0.6321205588285577, 0.6321205588285577, 0.6321205588285577, 0.7768698398515702, 0.6321205588285577, 0.7768698398515702, 0.6321205588285577, 0.7768698398515702, 0.6321205588285577, 0.7768698398515702, 0.6321205588285577, 0.7768698398515702, 0.6321205588285577, 0.6321205588285577]\n",
            "Media de falhas:  [0, 0.00032, 525277.7515387319, 546051.4751908119, 4328976.966048022, 14441751.690489445, 23007298.625843346, 51619318.62007685, 63108546.484803244, 151789532.69977802, 157045640.02468958, 337447751.7300317, 346685677.5823875, 689360070.4764457, 704080288.7352746, 1317718411.0888653, 1342570193.4276278, 2281988563.966945, 2619776451.9555573, 1554649106.8465333]\n",
            "Custo =  185037700361.96796\n",
            "\n",
            "=========================================================================\n",
            "\n",
            "Número de ciclos de manutenção: 17 5\n",
            "Tempos para manutenções preventivas: [0, 1, 70, 91, 159, 250, 339, 361, 428, 451, 519, 541, 610, 630, 704, 722, 793, 871]\n",
            "Severidade para cada subsistema: [0.75, 0.5, 0.75, 0.5, 0.5, 0.5, 0.75, 0.5, 0.75, 0.5, 0.75, 0.5, 0.75, 0.5, 0.75, 0.5, 0.5]\n",
            "Número de Sisemas: 5\n",
            "Fator:  [0.3296799539643607, 0.7768698398515702, 0.6321205588285577, 0.7768698398515702, 0.6321205588285577, 0.6321205588285577, 0.6321205588285577, 0.7768698398515702, 0.6321205588285577, 0.7768698398515702, 0.6321205588285577, 0.7768698398515702, 0.6321205588285577, 0.7768698398515702, 0.6321205588285577, 0.7768698398515702, 0.6321205588285577, 0.6321205588285577]\n",
            "Media de falhas:  [0, 0.00032, 525277.7515387319, 546051.4751908119, 3976006.158956128, 14314679.953044862, 74321889.61605167, 86418886.20090984, 175099872.4158846, 180035117.2817833, 363896813.10517824, 373134738.957534, 715809131.8515921, 730529350.110421, 1371774157.673707, 1393815788.968889, 2353653525.203932, 2642786209.98635, 1621432170.1688838]\n",
            "Custo =  184481260511.14563\n",
            "\n",
            "=========================================================================\n",
            "\n",
            "Número de ciclos de manutenção: 17 5\n",
            "Tempos para manutenções preventivas: [0, 1, 70, 92, 158, 251, 278, 340, 361, 427, 451, 519, 541, 610, 632, 706, 722, 794]\n",
            "Severidade para cada subsistema: [0.75, 0.5, 0.75, 0.5, 0.5, 0.25, 0.5, 0.75, 0.5, 0.75, 0.5, 0.75, 0.5, 0.75, 0.5, 0.75, 0.5]\n",
            "Número de Sisemas: 5\n",
            "Fator:  [0.3296799539643607, 0.7768698398515702, 0.6321205588285577, 0.7768698398515702, 0.6321205588285577, 0.6321205588285577, 0.3934693402873666, 0.6321205588285577, 0.7768698398515702, 0.6321205588285577, 0.7768698398515702, 0.6321205588285577, 0.7768698398515702, 0.6321205588285577, 0.7768698398515702, 0.6321205588285577, 0.7768698398515702, 0.6321205588285577]\n",
            "Media de falhas:  [0, 0.00032, 525277.7515387319, 549090.0353084713, 3710141.5203888817, 14797601.350863893, 20394856.307623405, 55092565.46027017, 129561174.02545092, 215717553.84563178, 220930686.9199225, 404792382.74331737, 414030308.59567314, 756704701.4897313, 773374736.6066381, 1421540649.1810417, 1440850115.0661638, 2421351312.0023255, 2371437704.156875]\n",
            "Custo =  156892356622.2729\n",
            "\n",
            "=========================================================================\n",
            "\n",
            "Número de ciclos de manutenção: 16 5\n",
            "Tempos para manutenções preventivas: [0, 1, 70, 92, 157, 254, 342, 361, 427, 453, 519, 541, 610, 634, 707, 722, 794]\n",
            "Severidade para cada subsistema: [0.75, 0.5, 0.75, 0.5, 0.5, 0.5, 0.75, 0.5, 0.75, 0.5, 0.75, 0.5, 0.75, 0.5, 0.75, 0.5]\n",
            "Número de Sisemas: 5\n",
            "Fator:  [0.3296799539643607, 0.7768698398515702, 0.6321205588285577, 0.7768698398515702, 0.6321205588285577, 0.6321205588285577, 0.6321205588285577, 0.7768698398515702, 0.6321205588285577, 0.7768698398515702, 0.6321205588285577, 0.7768698398515702, 0.6321205588285577, 0.7768698398515702, 0.6321205588285577, 0.7768698398515702, 0.6321205588285577]\n",
            "Media de falhas:  [0, 0.00032, 525277.7515387319, 549090.0353084713, 3554285.191609568, 16376565.155681036, 77023252.57258628, 87315655.13565083, 173472034.9558317, 179354951.26941133, 356325962.16688335, 365563888.0192391, 708238280.9132972, 726959325.2570423, 1367938787.6181965, 1385910716.9135058, 2366411913.8496675, 2316498306.004217]\n",
            "Custo =  144695698192.79648\n",
            "\n",
            "=========================================================================\n",
            "\n",
            "Número de ciclos de manutenção: 16 5\n",
            "Tempos para manutenções preventivas: [0, 1, 70, 92, 156, 256, 343, 361, 428, 456, 519, 541, 610, 635, 706, 723, 792]\n",
            "Severidade para cada subsistema: [0.75, 0.5, 0.75, 0.5, 0.5, 0.5, 0.75, 0.5, 0.75, 0.5, 0.75, 0.5, 0.75, 0.5, 0.75, 0.5]\n",
            "Número de Sisemas: 5\n",
            "Fator:  [0.3296799539643607, 0.7768698398515702, 0.6321205588285577, 0.7768698398515702, 0.6321205588285577, 0.6321205588285577, 0.6321205588285577, 0.7768698398515702, 0.6321205588285577, 0.7768698398515702, 0.6321205588285577, 0.7768698398515702, 0.6321205588285577, 0.7768698398515702, 0.6321205588285577, 0.7768698398515702, 0.6321205588285577]\n",
            "Media de falhas:  [0, 0.00032, 525277.7515387319, 549090.0353084713, 3404609.9534528065, 17635579.513385303, 77734218.45502028, 87437329.1659939, 176118315.3809687, 182769878.92772043, 349615596.9203653, 358853522.77272105, 701527915.6667792, 721313623.1404239, 1337822765.7299342, 1358599881.8408017, 2282298039.7897124, 2233503392.171094]\n",
            "Custo =  143567819139.27753\n",
            "\n",
            "=========================================================================\n",
            "\n",
            "Número de ciclos de manutenção: 17 5\n",
            "Tempos para manutenções preventivas: [0, 1, 70, 93, 156, 257, 284, 344, 361, 428, 459, 519, 542, 610, 635, 704, 723, 791]\n",
            "Severidade para cada subsistema: [0.75, 0.5, 0.75, 0.5, 0.5, 0.25, 0.5, 0.75, 0.5, 0.75, 0.5, 0.75, 0.5, 0.75, 0.5, 0.75, 0.5]\n",
            "Número de Sisemas: 5\n",
            "Fator:  [0.3296799539643607, 0.7768698398515702, 0.6321205588285577, 0.7768698398515702, 0.6321205588285577, 0.6321205588285577, 0.3934693402873666, 0.6321205588285577, 0.7768698398515702, 0.6321205588285577, 0.7768698398515702, 0.6321205588285577, 0.7768698398515702, 0.6321205588285577, 0.7768698398515702, 0.6321205588285577, 0.7768698398515702, 0.6321205588285577]\n",
            "Media de falhas:  [0, 0.00032, 525277.7515387319, 552469.4420357683, 3315691.5712679005, 18082988.127102423, 24154211.77934912, 58690638.231902644, 119351654.98639852, 208032641.2013733, 215856406.3218317, 372822830.7454902, 382646189.6603252, 719198990.1215038, 738984697.5951486, 1328305281.644928, 1351867681.57419, 2255540213.1633306, 2207311093.2235727]\n",
            "Custo =  155154002107.8574\n",
            "\n",
            "=========================================================================\n",
            "\n",
            "Número de ciclos de manutenção: 17 5\n",
            "Tempos para manutenções preventivas: [0, 1, 70, 92, 157, 257, 344, 361, 429, 461, 519, 542, 610, 634, 702, 723, 789, 870]\n",
            "Severidade para cada subsistema: [0.75, 0.5, 0.75, 0.5, 0.5, 0.5, 0.75, 0.5, 0.75, 0.5, 0.75, 0.5, 0.75, 0.5, 0.75, 0.5, 0.5]\n",
            "Número de Sisemas: 5\n",
            "Fator:  [0.3296799539643607, 0.7768698398515702, 0.6321205588285577, 0.7768698398515702, 0.6321205588285577, 0.6321205588285577, 0.6321205588285577, 0.7768698398515702, 0.6321205588285577, 0.7768698398515702, 0.6321205588285577, 0.7768698398515702, 0.6321205588285577, 0.7768698398515702, 0.6321205588285577, 0.7768698398515702, 0.6321205588285577, 0.6321205588285577]\n",
            "Media de falhas:  [0, 0.00032, 525277.7515387319, 549090.0353084713, 3554285.191609568, 17903023.285982307, 78591795.78385675, 87711539.66323233, 178968182.8984318, 187273029.17912236, 337786144.054839, 347609502.96967405, 684162303.4308527, 702883347.7745978, 1275765270.563506, 1302192368.946051, 2166526753.3301854, 2471527245.2798824, 1457419249.025539]\n",
            "Custo =  182294796146.38104\n",
            "\n",
            "=========================================================================\n",
            "\n",
            "Número de ciclos de manutenção: 18 5\n",
            "Tempos para manutenções preventivas: [0, 1, 70, 92, 158, 257, 289, 344, 361, 429, 461, 519, 542, 610, 632, 700, 723, 789, 873]\n",
            "Severidade para cada subsistema: [0.75, 0.5, 0.75, 0.5, 0.5, 0.5, 0.5, 0.75, 0.5, 0.75, 0.5, 0.75, 0.5, 0.75, 0.5, 0.75, 0.5, 0.5]\n",
            "Número de Sisemas: 5\n",
            "Fator:  [0.3296799539643607, 0.7768698398515702, 0.6321205588285577, 0.7768698398515702, 0.6321205588285577, 0.6321205588285577, 0.6321205588285577, 0.6321205588285577, 0.7768698398515702, 0.6321205588285577, 0.7768698398515702, 0.6321205588285577, 0.7768698398515702, 0.6321205588285577, 0.7768698398515702, 0.6321205588285577, 0.7768698398515702, 0.6321205588285577, 0.6321205588285577]\n",
            "Media de falhas:  [0, 0.00032, 525277.7515387319, 549090.0353084713, 3710141.5203888817, 17649817.625793748, 25616699.099147603, 56228428.41001949, 65348172.289395064, 156604815.52459455, 164909661.8052851, 315422776.6810017, 325246135.59583676, 661798936.0570154, 678468971.1739222, 1245166374.6363354, 1274539880.8062088, 2138874265.1903434, 2465325710.5761065, 1429438159.7574162]\n",
            "Custo =  182829153773.3928\n",
            "\n",
            "=========================================================================\n",
            "\n",
            "Número de ciclos de manutenção: 19 5\n",
            "Tempos para manutenções preventivas: [0, 1, 70, 91, 160, 255, 295, 343, 361, 430, 459, 519, 542, 610, 631, 701, 722, 790, 810, 877]\n",
            "Severidade para cada subsistema: [0.75, 0.5, 0.75, 0.5, 0.5, 0.5, 0.5, 0.75, 0.5, 0.75, 0.5, 0.75, 0.5, 0.75, 0.5, 0.75, 0.5, 0.75, 0.5]\n",
            "Número de Sisemas: 5\n",
            "Fator:  [0.3296799539643607, 0.7768698398515702, 0.6321205588285577, 0.7768698398515702, 0.6321205588285577, 0.6321205588285577, 0.6321205588285577, 0.6321205588285577, 0.7768698398515702, 0.6321205588285577, 0.7768698398515702, 0.6321205588285577, 0.7768698398515702, 0.6321205588285577, 0.7768698398515702, 0.6321205588285577, 0.7768698398515702, 0.6321205588285577, 0.7768698398515702, 0.6321205588285577]\n",
            "Media de falhas:  [0, 0.00032, 525277.7515387319, 546051.4751908119, 4149047.6648599235, 16335597.415636819, 27737998.30235759, 52985841.389345765, 62688952.100319386, 156573073.3261474, 163715752.34441864, 320682176.76807714, 330505535.6829122, 667058336.1440908, 682741053.0181222, 1272679134.0896556, 1298965944.187411, 2198269205.1827283, 2237016808.141973, 3557786553.670453, 3466053646.9375787]\n",
            "Custo =  228257416537.75208\n",
            "\n",
            "=========================================================================\n",
            "\n",
            "Número de ciclos de manutenção: 19 5\n",
            "Tempos para manutenções preventivas: [0, 1, 70, 91, 160, 253, 295, 342, 361, 430, 454, 519, 541, 610, 630, 702, 722, 791, 814, 879]\n",
            "Severidade para cada subsistema: [0.75, 0.5, 0.75, 0.5, 0.5, 0.5, 0.5, 0.75, 0.5, 0.75, 0.5, 0.75, 0.5, 0.75, 0.5, 0.75, 0.5, 0.75, 0.5]\n",
            "Número de Sisemas: 5\n",
            "Fator:  [0.3296799539643607, 0.7768698398515702, 0.6321205588285577, 0.7768698398515702, 0.6321205588285577, 0.6321205588285577, 0.6321205588285577, 0.6321205588285577, 0.7768698398515702, 0.6321205588285577, 0.7768698398515702, 0.6321205588285577, 0.7768698398515702, 0.6321205588285577, 0.7768698398515702, 0.6321205588285577, 0.7768698398515702, 0.6321205588285577, 0.7768698398515702, 0.6321205588285577]\n",
            "Media de falhas:  [0, 0.00032, 525277.7515387319, 546051.4751908119, 4149047.6648599235, 15429922.016239636, 27582918.125635874, 51882562.46234088, 62174965.02540542, 156059086.25123346, 161401941.84534612, 334970045.5567306, 344207971.4090864, 686882364.3031445, 701602582.5619733, 1315240704.915564, 1340092487.2543266, 2259333418.0892835, 2305644100.51268, 3592704950.8447847, 3499907171.7110257]\n",
            "Custo =  229723478279.4726\n",
            "\n",
            "=========================================================================\n",
            "\n",
            "Número de ciclos de manutenção: 19 5\n",
            "Tempos para manutenções preventivas: [0, 1, 70, 91, 160, 252, 281, 341, 361, 430, 451, 519, 541, 610, 630, 703, 722, 792, 816, 877]\n",
            "Severidade para cada subsistema: [0.75, 0.5, 0.75, 0.5, 0.5, 0.5, 0.5, 0.75, 0.5, 0.75, 0.5, 0.75, 0.5, 0.75, 0.5, 0.75, 0.5, 0.75, 0.5]\n",
            "Número de Sisemas: 5\n",
            "Fator:  [0.3296799539643607, 0.7768698398515702, 0.6321205588285577, 0.7768698398515702, 0.6321205588285577, 0.6321205588285577, 0.6321205588285577, 0.6321205588285577, 0.7768698398515702, 0.6321205588285577, 0.7768698398515702, 0.6321205588285577, 0.7768698398515702, 0.6321205588285577, 0.7768698398515702, 0.6321205588285577, 0.7768698398515702, 0.6321205588285577, 0.7768698398515702, 0.6321205588285577]\n",
            "Media de falhas:  [0, 0.00032, 525277.7515387319, 546051.4751908119, 4149047.6648599235, 14997710.352219243, 21351343.307305206, 54818660.59567848, 65706396.46548459, 159590517.6913126, 163988308.33275372, 347850004.1561486, 357087930.0085044, 699762322.9025625, 714482541.1613914, 1341833423.7838671, 1365270241.4823856, 2304688612.021703, 2353789996.6929283, 3540828765.367591, 3449095858.6347165]\n",
            "Custo =  229093327281.77066\n",
            "\n",
            "=========================================================================\n",
            "\n",
            "Número de ciclos de manutenção: 18 5\n",
            "Tempos para manutenções preventivas: [0, 1, 70, 91, 159, 251, 296, 340, 361, 430, 519, 541, 610, 631, 705, 722, 793, 812, 875]\n",
            "Severidade para cada subsistema: [0.75, 0.5, 0.75, 0.5, 0.5, 0.25, 0.5, 0.75, 0.5, 0.5, 0.75, 0.5, 0.75, 0.5, 0.75, 0.5, 0.75, 0.5]\n",
            "Número de Sisemas: 5\n",
            "Fator:  [0.3296799539643607, 0.7768698398515702, 0.6321205588285577, 0.7768698398515702, 0.6321205588285577, 0.6321205588285577, 0.3934693402873666, 0.6321205588285577, 0.7768698398515702, 0.6321205588285577, 0.6321205588285577, 0.7768698398515702, 0.6321205588285577, 0.7768698398515702, 0.6321205588285577, 0.7768698398515702, 0.6321205588285577, 0.7768698398515702, 0.6321205588285577]\n",
            "Media de falhas:  [0, 0.00032, 525277.7515387319, 546051.4751908119, 3976006.158956128, 14730631.949662503, 28217629.64794541, 50053187.047171056, 124521795.6123518, 218405916.83817983, 285046811.61521494, 343919218.69968045, 686593611.5937386, 702276328.46777, 1346974680.891348, 1367640621.5830884, 2327478357.818131, 2364401657.2848716, 3584806223.4186, 3494130422.2773776]\n",
            "Custo =  241613495864.27167\n",
            "\n",
            "=========================================================================\n",
            "\n",
            "Número de ciclos de manutenção: 16 5\n",
            "Tempos para manutenções preventivas: [0, 1, 70, 91, 157, 251, 341, 361, 429, 519, 541, 609, 633, 705, 723, 793, 873]\n",
            "Severidade para cada subsistema: [0.75, 0.5, 0.75, 0.5, 0.5, 0.5, 0.75, 0.5, 0.5, 0.75, 0.5, 0.75, 0.5, 0.75, 0.5, 0.5]\n",
            "Número de Sisemas: 5\n",
            "Fator:  [0.3296799539643607, 0.7768698398515702, 0.6321205588285577, 0.7768698398515702, 0.6321205588285577, 0.6321205588285577, 0.6321205588285577, 0.7768698398515702, 0.6321205588285577, 0.6321205588285577, 0.7768698398515702, 0.6321205588285577, 0.7768698398515702, 0.6321205588285577, 0.7768698398515702, 0.6321205588285577, 0.6321205588285577]\n",
            "Media de falhas:  [0, 0.00032, 525277.7515387319, 546051.4751908119, 3649791.743167797, 15078220.625869395, 77426166.57444683, 88313902.44425294, 179570545.67945242, 247708102.0921912, 306580509.1766567, 641059579.034047, 659668792.5199144, 1283307573.3566144, 1305467546.4319775, 2249431892.30403, 2552296487.0707555, 1516408936.2520652]\n",
            "Custo =  185165596882.48248\n",
            "\n",
            "=========================================================================\n",
            "\n",
            "Número de ciclos de manutenção: 17 5\n",
            "Tempos para manutenções preventivas: [0, 1, 70, 92, 157, 253, 341, 361, 428, 450, 519, 542, 610, 634, 705, 723, 792, 870]\n",
            "Severidade para cada subsistema: [0.75, 0.5, 0.75, 0.5, 0.5, 0.5, 0.75, 0.5, 0.75, 0.5, 0.75, 0.5, 0.75, 0.5, 0.75, 0.5, 0.5]\n",
            "Número de Sisemas: 5\n",
            "Fator:  [0.3296799539643607, 0.7768698398515702, 0.6321205588285577, 0.7768698398515702, 0.6321205588285577, 0.6321205588285577, 0.6321205588285577, 0.7768698398515702, 0.6321205588285577, 0.7768698398515702, 0.6321205588285577, 0.7768698398515702, 0.6321205588285577, 0.7768698398515702, 0.6321205588285577, 0.7768698398515702, 0.6321205588285577, 0.6321205588285577]\n",
            "Media de falhas:  [0, 0.00032, 525277.7515387319, 549090.0353084713, 3554285.191609568, 15897658.614484012, 75953521.62484717, 86841257.49465328, 175522243.70962808, 180147276.05953324, 367497330.31286186, 377320689.2276969, 713873489.6888754, 732594534.0326205, 1345796068.6483445, 1367956041.7237077, 2291654199.6726184, 2579630436.4569635, 1565522440.20262]\n",
            "Custo =  184024629926.65784\n",
            "\n",
            "=========================================================================\n",
            "\n",
            "Número de ciclos de manutenção: 17 5\n",
            "Tempos para manutenções preventivas: [0, 1, 70, 92, 157, 254, 279, 341, 361, 426, 453, 519, 542, 610, 634, 704, 723, 791]\n",
            "Severidade para cada subsistema: [0.75, 0.5, 0.75, 0.5, 0.5, 0.25, 0.5, 0.75, 0.5, 0.75, 0.5, 0.75, 0.5, 0.75, 0.5, 0.75, 0.5]\n",
            "Número de Sisemas: 5\n",
            "Fator:  [0.3296799539643607, 0.7768698398515702, 0.6321205588285577, 0.7768698398515702, 0.6321205588285577, 0.6321205588285577, 0.3934693402873666, 0.6321205588285577, 0.7768698398515702, 0.6321205588285577, 0.7768698398515702, 0.6321205588285577, 0.7768698398515702, 0.6321205588285577, 0.7768698398515702, 0.6321205588285577, 0.7768698398515702, 0.6321205588285577]\n",
            "Media de falhas:  [0, 0.00032, 525277.7515387319, 549090.0353084713, 3554285.191609568, 16376565.155681036, 21555801.119237848, 56619189.48994247, 127650045.46117371, 211332106.8395104, 217516662.21195084, 394487673.1094229, 404311032.02425796, 740863832.4854366, 759584876.8291817, 1359168674.8445787, 1382731074.7738407, 2286403606.3629813, 2238174486.4232235]\n",
            "Custo =  155004917066.6439\n",
            "\n",
            "=========================================================================\n",
            "\n",
            "Número de ciclos de manutenção: 17 5\n",
            "Tempos para manutenções preventivas: [0, 1, 70, 92, 158, 255, 297, 342, 361, 426, 456, 519, 542, 610, 635, 703, 723, 791]\n",
            "Severidade para cada subsistema: [0.75, 0.5, 0.75, 0.5, 0.5, 0.25, 0.5, 0.75, 0.5, 0.75, 0.5, 0.75, 0.5, 0.75, 0.5, 0.75, 0.5]\n",
            "Número de Sisemas: 5\n",
            "Fator:  [0.3296799539643607, 0.7768698398515702, 0.6321205588285577, 0.7768698398515702, 0.6321205588285577, 0.6321205588285577, 0.3934693402873666, 0.6321205588285577, 0.7768698398515702, 0.6321205588285577, 0.7768698398515702, 0.6321205588285577, 0.7768698398515702, 0.6321205588285577, 0.7768698398515702, 0.6321205588285577, 0.7768698398515702, 0.6321205588285577]\n",
            "Media de falhas:  [0, 0.00032, 525277.7515387319, 549090.0353084713, 3710141.5203888817, 16640733.720513508, 29100138.622107103, 52069910.71329702, 119653746.57802004, 203335807.95635673, 210639256.76265875, 377484974.7553036, 387308333.67013866, 723861134.1313173, 743646841.604962, 1319640036.6685777, 1344624716.4984787, 2248297248.0876193, 2200068128.1478615]\n",
            "Custo =  154802984766.31512\n",
            "\n",
            "=========================================================================\n",
            "\n",
            "Número de ciclos de manutenção: 17 5\n",
            "Tempos para manutenções preventivas: [0, 1, 70, 93, 159, 256, 343, 361, 428, 458, 519, 542, 610, 634, 702, 722, 790, 872]\n",
            "Severidade para cada subsistema: [0.75, 0.5, 0.75, 0.5, 0.5, 0.5, 0.75, 0.5, 0.75, 0.5, 0.75, 0.5, 0.75, 0.5, 0.75, 0.5, 0.5]\n",
            "Número de Sisemas: 5\n",
            "Fator:  [0.3296799539643607, 0.7768698398515702, 0.6321205588285577, 0.7768698398515702, 0.6321205588285577, 0.6321205588285577, 0.6321205588285577, 0.7768698398515702, 0.6321205588285577, 0.7768698398515702, 0.6321205588285577, 0.7768698398515702, 0.6321205588285577, 0.7768698398515702, 0.6321205588285577, 0.7768698398515702, 0.6321205588285577, 0.6321205588285577]\n",
            "Media de falhas:  [0, 0.00032, 525277.7515387319, 552469.4420357683, 3771660.6909399196, 16811288.26967069, 76909927.21130566, 86613037.92227928, 175294024.13725406, 182714504.48668247, 342947167.6374704, 352770526.55230546, 689323327.013484, 708044371.3572291, 1280926294.1461372, 1305778076.4848998, 2205081337.480217, 2518363712.4102745, 1489749905.680529]\n",
            "Custo =  182930658512.50494\n"
          ]
        },
        {
          "output_type": "stream",
          "name": "stderr",
          "text": [
            "pyswarms.single.global_best: 100%|██████████|100/100, best_cost=1.43e+11\n",
            "2023-08-25 14:18:04,709 - pyswarms.single.global_best - INFO - Optimization finished | best cost: 143304585850.20178, best pos: [5.03819619 2.76163181 3.35288155]\n",
            "2023-08-25 14:18:04,711 - pyswarms.single.global_best - INFO - Optimize for 1 iters with {'c1': 0.5, 'c2': 0.3, 'w': 0.9}\n"
          ]
        },
        {
          "output_type": "stream",
          "name": "stdout",
          "text": [
            "\n",
            "=========================================================================\n",
            "\n",
            "Número de ciclos de manutenção: 18 5\n",
            "Tempos para manutenções preventivas: [0, 1, 70, 93, 160, 257, 273, 343, 361, 429, 457, 519, 542, 610, 633, 701, 722, 790, 875]\n",
            "Severidade para cada subsistema: [0.75, 0.5, 0.75, 0.5, 0.5, 0.5, 0.5, 0.75, 0.5, 0.75, 0.5, 0.75, 0.5, 0.75, 0.5, 0.75, 0.5, 0.5]\n",
            "Número de Sisemas: 5\n",
            "Fator:  [0.3296799539643607, 0.7768698398515702, 0.6321205588285577, 0.7768698398515702, 0.6321205588285577, 0.6321205588285577, 0.6321205588285577, 0.6321205588285577, 0.7768698398515702, 0.6321205588285577, 0.7768698398515702, 0.6321205588285577, 0.7768698398515702, 0.6321205588285577, 0.7768698398515702, 0.6321205588285577, 0.7768698398515702, 0.6321205588285577, 0.6321205588285577]\n",
            "Media de falhas:  [0, 0.00032, 525277.7515387319, 552469.4420357683, 3936279.6553931395, 17085669.225562017, 19950875.712805975, 62695735.205245584, 72398845.9162192, 163655489.1514187, 170360569.4895595, 333886236.1020354, 343709595.01687044, 680262395.478049, 697945045.412171, 1267728382.5732706, 1294015192.671026, 2193318453.666343, 2528460572.84468, 1477982591.3566566]\n",
            "Custo =  183725362804.71234\n",
            "\n",
            "=========================================================================\n",
            "\n",
            "Número de ciclos de manutenção: 17 5\n",
            "Tempos para manutenções preventivas: [0, 1, 70, 92, 160, 258, 342, 361, 430, 457, 519, 542, 610, 631, 702, 722, 790, 877]\n",
            "Severidade para cada subsistema: [0.75, 0.5, 0.75, 0.5, 0.5, 0.5, 0.75, 0.5, 0.75, 0.5, 0.75, 0.5, 0.75, 0.5, 0.75, 0.5, 0.5]\n",
            "Número de Sisemas: 5\n",
            "Fator:  [0.3296799539643607, 0.7768698398515702, 0.6321205588285577, 0.7768698398515702, 0.6321205588285577, 0.6321205588285577, 0.6321205588285577, 0.7768698398515702, 0.6321205588285577, 0.7768698398515702, 0.6321205588285577, 0.7768698398515702, 0.6321205588285577, 0.7768698398515702, 0.6321205588285577, 0.7768698398515702, 0.6321205588285577, 0.6321205588285577]\n",
            "Media de falhas:  [0, 0.00032, 525277.7515387319, 549090.0353084713, 4041159.2738138842, 17694234.853915546, 73891647.3304819, 84184049.89354645, 178068171.11937445, 184455521.16992387, 347981187.7823998, 357804546.6972348, 694357347.1584134, 710040064.0324448, 1313399035.4692397, 1338250817.8080022, 2237554078.8033195, 2587837938.241456, 1522710593.132432]\n",
            "Custo =  184022727179.62863\n",
            "\n",
            "=========================================================================\n",
            "\n",
            "Número de ciclos de manutenção: 17 5\n",
            "Tempos para manutenções preventivas: [0, 1, 70, 92, 159, 256, 342, 361, 430, 456, 519, 541, 610, 630, 703, 722, 791, 877]\n",
            "Severidade para cada subsistema: [0.75, 0.5, 0.75, 0.5, 0.5, 0.5, 0.75, 0.5, 0.75, 0.5, 0.75, 0.5, 0.75, 0.5, 0.75, 0.5, 0.5]\n",
            "Número de Sisemas: 5\n",
            "Fator:  [0.3296799539643607, 0.7768698398515702, 0.6321205588285577, 0.7768698398515702, 0.6321205588285577, 0.6321205588285577, 0.6321205588285577, 0.7768698398515702, 0.6321205588285577, 0.7768698398515702, 0.6321205588285577, 0.7768698398515702, 0.6321205588285577, 0.7768698398515702, 0.6321205588285577, 0.7768698398515702, 0.6321205588285577, 0.6321205588285577]\n",
            "Media de falhas:  [0, 0.00032, 525277.7515387319, 549090.0353084713, 3872368.4372793054, 16911996.01601008, 75305575.8670529, 85597978.43011744, 179482099.65594548, 185509772.90003678, 352355490.8926816, 361593416.7450374, 704267809.6390955, 718988027.8979244, 1346338910.5204, 1369775728.2189186, 2289016659.0538754, 2633018477.279437, 1567891132.170413]\n",
            "Custo =  184687768019.48434\n",
            "\n",
            "=========================================================================\n",
            "\n",
            "Número de ciclos de manutenção: 17 5\n",
            "Tempos para manutenções preventivas: [0, 1, 70, 92, 158, 254, 342, 361, 430, 455, 519, 541, 610, 630, 704, 723, 791, 874]\n",
            "Severidade para cada subsistema: [0.75, 0.5, 0.75, 0.5, 0.5, 0.5, 0.75, 0.5, 0.75, 0.5, 0.75, 0.5, 0.75, 0.5, 0.75, 0.5, 0.5]\n",
            "Número de Sisemas: 5\n",
            "Fator:  [0.3296799539643607, 0.7768698398515702, 0.6321205588285577, 0.7768698398515702, 0.6321205588285577, 0.6321205588285577, 0.6321205588285577, 0.7768698398515702, 0.6321205588285577, 0.7768698398515702, 0.6321205588285577, 0.7768698398515702, 0.6321205588285577, 0.7768698398515702, 0.6321205588285577, 0.7768698398515702, 0.6321205588285577, 0.6321205588285577]\n",
            "Media de falhas:  [0, 0.00032, 525277.7515387319, 549090.0353084713, 3710141.5203888817, 16158569.27636728, 76805256.69327253, 87097659.25633708, 180981780.4821651, 186661383.3034336, 356854485.0712778, 366092410.9236336, 708766803.8176917, 723487022.0765206, 1364731829.6398067, 1388294229.5690687, 2291966761.1582093, 2613694229.1627917, 1570518704.1215253]\n",
            "Custo =  184407391321.34436\n",
            "\n",
            "=========================================================================\n",
            "\n",
            "Número de ciclos de manutenção: 17 5\n",
            "Tempos para manutenções preventivas: [0, 1, 70, 91, 157, 252, 342, 361, 429, 454, 519, 541, 610, 631, 705, 723, 791, 871]\n",
            "Severidade para cada subsistema: [0.75, 0.5, 0.75, 0.5, 0.5, 0.5, 0.75, 0.5, 0.75, 0.5, 0.75, 0.5, 0.75, 0.5, 0.75, 0.5, 0.5]\n",
            "Número de Sisemas: 5\n",
            "Fator:  [0.3296799539643607, 0.7768698398515702, 0.6321205588285577, 0.7768698398515702, 0.6321205588285577, 0.6321205588285577, 0.6321205588285577, 0.7768698398515702, 0.6321205588285577, 0.7768698398515702, 0.6321205588285577, 0.7768698398515702, 0.6321205588285577, 0.7768698398515702, 0.6321205588285577, 0.7768698398515702, 0.6321205588285577, 0.6321205588285577]\n",
            "Media de falhas:  [0, 0.00032, 525277.7515387319, 546051.4751908119, 3649791.743167797, 15528657.186634539, 78486728.00492688, 88779130.56799142, 180035773.8031909, 185669380.4545344, 359237484.1659189, 368475410.01827466, 711149802.9123328, 726832519.7863642, 1371530872.209942, 1393690845.2853053, 2297363376.874446, 2597823063.055235, 1576469023.2377687]\n",
            "Custo =  184097941081.7176\n",
            "\n",
            "=========================================================================\n",
            "\n",
            "Número de ciclos de manutenção: 17 5\n",
            "Tempos para manutenções preventivas: [0, 1, 70, 91, 156, 251, 342, 361, 428, 453, 519, 541, 609, 632, 705, 723, 792, 871]\n",
            "Severidade para cada subsistema: [0.75, 0.5, 0.75, 0.5, 0.5, 0.5, 0.75, 0.5, 0.75, 0.5, 0.75, 0.5, 0.75, 0.5, 0.75, 0.5, 0.5]\n",
            "Número de Sisemas: 5\n",
            "Fator:  [0.3296799539643607, 0.7768698398515702, 0.6321205588285577, 0.7768698398515702, 0.6321205588285577, 0.6321205588285577, 0.6321205588285577, 0.7768698398515702, 0.6321205588285577, 0.7768698398515702, 0.6321205588285577, 0.7768698398515702, 0.6321205588285577, 0.7768698398515702, 0.6321205588285577, 0.7768698398515702, 0.6321205588285577, 0.6321205588285577]\n",
            "Media de falhas:  [0, 0.00032, 525277.7515387319, 546051.4751908119, 3496231.141761233, 15273913.330625445, 79409951.25240716, 89702353.81547171, 178383340.0304465, 183971231.65205842, 360942242.5495305, 370180168.4018863, 704659238.2592766, 722235851.7170681, 1356373404.0137672, 1378533377.0891304, 2302231535.038041, 2596996304.582391, 1575642264.7649245]\n",
            "Custo =  184142296126.09744\n",
            "\n",
            "=========================================================================\n",
            "\n",
            "Número de ciclos de manutenção: 18 5\n",
            "Tempos para manutenções preventivas: [0, 1, 70, 91, 157, 252, 271, 342, 361, 427, 453, 520, 541, 609, 633, 705, 723, 791, 873]\n",
            "Severidade para cada subsistema: [0.75, 0.5, 0.75, 0.5, 0.5, 0.5, 0.5, 0.75, 0.5, 0.75, 0.5, 0.75, 0.5, 0.75, 0.5, 0.75, 0.5, 0.5]\n",
            "Número de Sisemas: 5\n",
            "Fator:  [0.3296799539643607, 0.7768698398515702, 0.6321205588285577, 0.7768698398515702, 0.6321205588285577, 0.6321205588285577, 0.6321205588285577, 0.6321205588285577, 0.7768698398515702, 0.6321205588285577, 0.7768698398515702, 0.6321205588285577, 0.7768698398515702, 0.6321205588285577, 0.7768698398515702, 0.6321205588285577, 0.7768698398515702, 0.6321205588285577, 0.6321205588285577]\n",
            "Media de falhas:  [0, 0.00032, 525277.7515387319, 546051.4751908119, 3649791.743167797, 15528657.186634539, 18903233.737558953, 62123933.877093285, 72416336.44015783, 158572716.26033872, 164455632.57391834, 346154465.15319586, 354884709.66282165, 689363779.5202119, 707972993.0060793, 1331611773.8427792, 1353771746.9181423, 2257444278.507283, 2571972365.531645, 1536084814.7129545]\n",
            "Custo =  184495907159.57278\n",
            "\n",
            "=========================================================================\n",
            "\n",
            "Número de ciclos de manutenção: 17 5\n",
            "Tempos para manutenções preventivas: [0, 1, 70, 91, 159, 254, 343, 361, 427, 454, 520, 541, 610, 633, 704, 723, 791, 876]\n",
            "Severidade para cada subsistema: [0.75, 0.5, 0.75, 0.5, 0.5, 0.5, 0.75, 0.5, 0.75, 0.5, 0.75, 0.5, 0.75, 0.5, 0.75, 0.5, 0.5]\n",
            "Número de Sisemas: 5\n",
            "Fator:  [0.3296799539643607, 0.7768698398515702, 0.6321205588285577, 0.7768698398515702, 0.6321205588285577, 0.6321205588285577, 0.6321205588285577, 0.7768698398515702, 0.6321205588285577, 0.7768698398515702, 0.6321205588285577, 0.7768698398515702, 0.6321205588285577, 0.7768698398515702, 0.6321205588285577, 0.7768698398515702, 0.6321205588285577, 0.6321205588285577]\n",
            "Media de falhas:  [0, 0.00032, 525277.7515387319, 546051.4751908119, 3976006.158956128, 16059302.029699199, 78459274.2221613, 88162384.93313491, 174318764.7533158, 180553557.10587874, 358798418.1121932, 367528662.621819, 710203055.5158771, 727885705.4499991, 1337793033.1760547, 1361355433.1053166, 2265027964.694457, 2601490995.4136853, 1543695824.026452]\n",
            "Custo =  184549949219.07355\n",
            "\n",
            "=========================================================================\n",
            "\n",
            "Número de ciclos de manutenção: 17 5\n",
            "Tempos para manutenções preventivas: [0, 1, 70, 91, 160, 256, 343, 361, 427, 455, 519, 541, 610, 634, 703, 723, 791, 876]\n",
            "Severidade para cada subsistema: [0.75, 0.5, 0.75, 0.5, 0.5, 0.5, 0.75, 0.5, 0.75, 0.5, 0.75, 0.5, 0.75, 0.5, 0.75, 0.5, 0.5]\n",
            "Número de Sisemas: 5\n",
            "Fator:  [0.3296799539643607, 0.7768698398515702, 0.6321205588285577, 0.7768698398515702, 0.6321205588285577, 0.6321205588285577, 0.6321205588285577, 0.7768698398515702, 0.6321205588285577, 0.7768698398515702, 0.6321205588285577, 0.7768698398515702, 0.6321205588285577, 0.7768698398515702, 0.6321205588285577, 0.7768698398515702, 0.6321205588285577, 0.6321205588285577]\n",
            "Media de falhas:  [0, 0.00032, 525277.7515387319, 546051.4751908119, 4149047.6648599235, 16809707.146693636, 76908346.08832861, 86611456.79930224, 172767836.6194831, 179366206.04741216, 349559307.81525636, 358797233.66761214, 701471626.5616703, 720192670.9054154, 1306337184.8659396, 1331321864.6958406, 2234994396.2849813, 2571457427.0042095, 1513662255.6169763]\n",
            "Custo =  184104273890.96097\n",
            "\n",
            "=========================================================================\n",
            "\n",
            "Número de ciclos de manutenção: 17 5\n",
            "Tempos para manutenções preventivas: [0, 1, 70, 92, 160, 257, 343, 361, 428, 455, 519, 541, 610, 633, 702, 723, 791, 873]\n",
            "Severidade para cada subsistema: [0.75, 0.5, 0.75, 0.5, 0.5, 0.5, 0.75, 0.5, 0.75, 0.5, 0.75, 0.5, 0.75, 0.5, 0.75, 0.5, 0.5]\n",
            "Número de Sisemas: 5\n",
            "Fator:  [0.3296799539643607, 0.7768698398515702, 0.6321205588285577, 0.7768698398515702, 0.6321205588285577, 0.6321205588285577, 0.6321205588285577, 0.7768698398515702, 0.6321205588285577, 0.7768698398515702, 0.6321205588285577, 0.7768698398515702, 0.6321205588285577, 0.7768698398515702, 0.6321205588285577, 0.7768698398515702, 0.6321205588285577, 0.6321205588285577]\n",
            "Media de falhas:  [0, 0.00032, 525277.7515387319, 549090.0353084713, 4041159.2738138842, 17190548.843982764, 76160333.1018807, 85863443.81285432, 174544430.0278291, 180829766.31692097, 351022868.0847652, 360260793.937121, 702935186.8311791, 720617836.7653011, 1303599203.8567958, 1330026302.2393408, 2233698833.8284817, 2548226920.8528433, 1512339370.034153]\n",
            "Custo =  183469819085.2462\n",
            "\n",
            "=========================================================================\n",
            "\n",
            "Número de ciclos de manutenção: 18 5\n",
            "Tempos para manutenções preventivas: [0, 1, 70, 93, 160, 256, 294, 342, 361, 429, 454, 519, 541, 610, 633, 702, 723, 791, 870]\n",
            "Severidade para cada subsistema: [0.75, 0.5, 0.75, 0.5, 0.5, 0.25, 0.5, 0.75, 0.5, 0.75, 0.5, 0.75, 0.5, 0.75, 0.5, 0.75, 0.5, 0.5]\n",
            "Número de Sisemas: 5\n",
            "Fator:  [0.3296799539643607, 0.7768698398515702, 0.6321205588285577, 0.7768698398515702, 0.6321205588285577, 0.6321205588285577, 0.3934693402873666, 0.6321205588285577, 0.7768698398515702, 0.6321205588285577, 0.7768698398515702, 0.6321205588285577, 0.7768698398515702, 0.6321205588285577, 0.7768698398515702, 0.6321205588285577, 0.7768698398515702, 0.6321205588285577, 0.6321205588285577]\n",
            "Media de falhas:  [0, 0.00032, 525277.7515387319, 552469.4420357683, 3936279.6553931395, 16596939.13722685, 27136396.460182875, 52113682.39047201, 119697518.25519504, 210954161.49039453, 216587768.14173806, 390155871.85312253, 399393797.7054783, 742068190.5995364, 759750840.5336584, 1342732207.625153, 1369159306.007698, 2272831837.596839, 2566419957.815036, 1552311961.5606923]\n",
            "Custo =  195581049808.07715\n",
            "\n",
            "=========================================================================\n",
            "\n",
            "Número de ciclos de manutenção: 17 5\n",
            "Tempos para manutenções preventivas: [0, 1, 70, 93, 160, 255, 292, 342, 361, 429, 455, 519, 542, 610, 632, 702, 723, 791]\n",
            "Severidade para cada subsistema: [0.75, 0.5, 0.75, 0.5, 0.5, 0.25, 0.5, 0.75, 0.5, 0.75, 0.5, 0.75, 0.5, 0.75, 0.5, 0.75, 0.5]\n",
            "Número de Sisemas: 5\n",
            "Fator:  [0.3296799539643607, 0.7768698398515702, 0.6321205588285577, 0.7768698398515702, 0.6321205588285577, 0.6321205588285577, 0.3934693402873666, 0.6321205588285577, 0.7768698398515702, 0.6321205588285577, 0.7768698398515702, 0.6321205588285577, 0.7768698398515702, 0.6321205588285577, 0.7768698398515702, 0.6321205588285577, 0.7768698398515702, 0.6321205588285577]\n",
            "Media de falhas:  [0, 0.00032, 525277.7515387319, 552469.4420357683, 3936279.6553931395, 16122829.406170037, 26053887.74979067, 52412512.80299561, 119996348.66771863, 211252991.9029181, 217232118.0510015, 387425219.8188457, 397248578.7336807, 733801379.1948593, 750471414.311766, 1343611632.7553935, 1370038731.1379385, 2273711262.7270794, 2225482142.7873216]\n",
            "Custo =  154869580275.61227\n",
            "\n",
            "=========================================================================\n",
            "\n",
            "Número de ciclos de manutenção: 19 5\n",
            "Tempos para manutenções preventivas: [0, 1, 70, 93, 158, 181, 254, 289, 343, 361, 430, 455, 519, 542, 610, 631, 702, 722, 792, 870]\n",
            "Severidade para cada subsistema: [0.75, 0.5, 0.75, 0.5, 0.75, 0.5, 0.25, 0.5, 0.75, 0.5, 0.75, 0.5, 0.75, 0.5, 0.75, 0.5, 0.75, 0.5, 0.5]\n",
            "Número de Sisemas: 5\n",
            "Fator:  [0.3296799539643607, 0.7768698398515702, 0.6321205588285577, 0.7768698398515702, 0.6321205588285577, 0.7768698398515702, 0.6321205588285577, 0.3934693402873666, 0.6321205588285577, 0.7768698398515702, 0.6321205588285577, 0.7768698398515702, 0.6321205588285577, 0.7768698398515702, 0.6321205588285577, 0.7768698398515702, 0.6321205588285577, 0.7768698398515702, 0.6321205588285577, 0.6321205588285577]\n",
            "Media de falhas:  [0, 0.00032, 525277.7515387319, 552469.4420357683, 3613482.989466031, 3810739.88615126, 20349387.99089987, 22234349.978219718, 51775896.61438403, 115903200.98755577, 209787322.2133838, 215466925.0346523, 385660026.8024965, 395483385.7173315, 732036186.1785102, 747718903.0525416, 1351077874.4893365, 1375929656.828099, 2315348027.3674164, 2603324264.1517615, 1589216267.897418]\n",
            "Custo =  195685466604.7047\n",
            "\n",
            "=========================================================================\n",
            "\n",
            "Número de ciclos de manutenção: 19 5\n",
            "Tempos para manutenções preventivas: [0, 1, 70, 92, 157, 181, 252, 296, 343, 361, 429, 454, 519, 542, 610, 631, 703, 722, 792, 873]\n",
            "Severidade para cada subsistema: [0.75, 0.5, 0.75, 0.5, 0.75, 0.5, 0.25, 0.5, 0.75, 0.5, 0.75, 0.5, 0.75, 0.5, 0.75, 0.5, 0.75, 0.5, 0.5]\n",
            "Número de Sisemas: 5\n",
            "Fator:  [0.3296799539643607, 0.7768698398515702, 0.6321205588285577, 0.7768698398515702, 0.6321205588285577, 0.7768698398515702, 0.6321205588285577, 0.3934693402873666, 0.6321205588285577, 0.7768698398515702, 0.6321205588285577, 0.7768698398515702, 0.6321205588285577, 0.7768698398515702, 0.6321205588285577, 0.7768698398515702, 0.6321205588285577, 0.7768698398515702, 0.6321205588285577, 0.6321205588285577]\n",
            "Media de falhas:  [0, 0.00032, 525277.7515387319, 549090.0353084713, 3554285.191609568, 3766788.463162108, 19124912.400152665, 22181824.434138373, 46745266.02850534, 110872570.40167709, 202129213.63687658, 207762820.2882201, 381330923.9996046, 391154282.9144396, 727707083.3756182, 743389800.2496496, 1360347931.6885157, 1383784749.3870342, 2323203119.9263515, 2631867281.194948, 1595979730.376258]\n",
            "Custo =  196291779988.84018\n",
            "\n",
            "=========================================================================\n",
            "\n",
            "Número de ciclos de manutenção: 19 5\n",
            "Tempos para manutenções preventivas: [0, 1, 70, 91, 157, 180, 251, 342, 361, 391, 427, 454, 519, 542, 610, 632, 703, 722, 791, 876]\n",
            "Severidade para cada subsistema: [0.75, 0.5, 0.75, 0.5, 0.75, 0.5, 0.5, 0.75, 0.5, 0.5, 0.75, 0.5, 0.75, 0.5, 0.75, 0.5, 0.75, 0.5, 0.5]\n",
            "Número de Sisemas: 5\n",
            "Fator:  [0.3296799539643607, 0.7768698398515702, 0.6321205588285577, 0.7768698398515702, 0.6321205588285577, 0.7768698398515702, 0.6321205588285577, 0.6321205588285577, 0.7768698398515702, 0.6321205588285577, 0.6321205588285577, 0.7768698398515702, 0.6321205588285577, 0.7768698398515702, 0.6321205588285577, 0.7768698398515702, 0.6321205588285577, 0.7768698398515702, 0.6321205588285577, 0.6321205588285577]\n",
            "Media de falhas:  [0, 0.00032, 525277.7515387319, 546051.4751908119, 3649791.743167797, 3843513.091833364, 19003282.1783093, 40796470.76695463, 51088873.330019176, 74469470.34985268, 81950692.75128138, 118989061.72291735, 292557165.43430185, 302380524.3491369, 638933324.8103155, 655603359.9272223, 1262229845.3946748, 1285666663.0931933, 2204907593.92815, 2541370624.6473784, 1483575453.2601452]\n",
            "Custo =  186102325200.30804\n",
            "\n",
            "=========================================================================\n",
            "\n",
            "Número de ciclos de manutenção: 18 5\n",
            "Tempos para manutenções preventivas: [0, 1, 70, 91, 157, 251, 342, 361, 390, 426, 453, 519, 542, 610, 633, 704, 723, 791, 877]\n",
            "Severidade para cada subsistema: [0.75, 0.5, 0.75, 0.5, 0.5, 0.5, 0.75, 0.5, 0.5, 0.75, 0.5, 0.75, 0.5, 0.75, 0.5, 0.75, 0.5, 0.5]\n",
            "Número de Sisemas: 5\n",
            "Fator:  [0.3296799539643607, 0.7768698398515702, 0.6321205588285577, 0.7768698398515702, 0.6321205588285577, 0.6321205588285577, 0.6321205588285577, 0.7768698398515702, 0.6321205588285577, 0.6321205588285577, 0.7768698398515702, 0.6321205588285577, 0.7768698398515702, 0.6321205588285577, 0.7768698398515702, 0.6321205588285577, 0.7768698398515702, 0.6321205588285577, 0.6321205588285577]\n",
            "Media de falhas:  [0, 0.00032, 525277.7515387319, 546051.4751908119, 3649791.743167797, 15078220.625869395, 79214258.54765113, 89506661.11071567, 111776932.82632275, 119196666.16545764, 155918530.29584217, 332889541.1933142, 342712900.10814923, 679265700.5693278, 696948350.5034498, 1306855678.2295055, 1330418078.1587675, 2234090609.747908, 2578092427.9734697, 1512965082.8644457]\n",
            "Custo =  187799509960.7782\n",
            "\n",
            "=========================================================================\n",
            "\n",
            "Número de ciclos de manutenção: 17 5\n",
            "Tempos para manutenções preventivas: [0, 1, 70, 91, 158, 253, 341, 361, 427, 453, 519, 541, 610, 634, 704, 723, 791, 876]\n",
            "Severidade para cada subsistema: [0.75, 0.5, 0.75, 0.5, 0.5, 0.5, 0.75, 0.5, 0.75, 0.5, 0.75, 0.5, 0.75, 0.5, 0.75, 0.5, 0.5]\n",
            "Número de Sisemas: 5\n",
            "Fator:  [0.3296799539643607, 0.7768698398515702, 0.6321205588285577, 0.7768698398515702, 0.6321205588285577, 0.6321205588285577, 0.6321205588285577, 0.7768698398515702, 0.6321205588285577, 0.7768698398515702, 0.6321205588285577, 0.7768698398515702, 0.6321205588285577, 0.7768698398515702, 0.6321205588285577, 0.7768698398515702, 0.6321205588285577, 0.6321205588285577]\n",
            "Media de falhas:  [0, 0.00032, 525277.7515387319, 546051.4751908119, 3809652.7766987435, 15790388.331072163, 75846251.34143533, 86733987.21124144, 172890367.03142232, 178773283.34500194, 355744294.24247396, 364982220.09482974, 707656612.9888878, 726377657.3326329, 1325961455.34803, 1349523855.277292, 2253196386.8664327, 2589659417.585661, 1531864246.1984277]\n",
            "Custo =  184352122727.55197\n",
            "\n",
            "=========================================================================\n",
            "\n",
            "Número de ciclos de manutenção: 18 5\n",
            "Tempos para manutenções preventivas: [0, 1, 70, 91, 159, 256, 299, 341, 361, 427, 455, 519, 541, 610, 634, 705, 723, 791, 876]\n",
            "Severidade para cada subsistema: [0.75, 0.5, 0.75, 0.5, 0.5, 0.25, 0.5, 0.75, 0.5, 0.75, 0.5, 0.75, 0.5, 0.75, 0.5, 0.75, 0.5, 0.5]\n",
            "Número de Sisemas: 5\n",
            "Fator:  [0.3296799539643607, 0.7768698398515702, 0.6321205588285577, 0.7768698398515702, 0.6321205588285577, 0.6321205588285577, 0.3934693402873666, 0.6321205588285577, 0.7768698398515702, 0.6321205588285577, 0.7768698398515702, 0.6321205588285577, 0.7768698398515702, 0.6321205588285577, 0.7768698398515702, 0.6321205588285577, 0.7768698398515702, 0.6321205588285577, 0.6321205588285577]\n",
            "Media de falhas:  [0, 0.00032, 525277.7515387319, 546051.4751908119, 3976006.158956128, 17015633.737686902, 30188781.30614924, 50996420.820906654, 122027276.7921379, 208183656.61231878, 214782026.04024783, 384975127.808092, 394213053.6604478, 736887446.5545058, 755608490.8982509, 1368810025.5139751, 1390969998.5893383, 2294642530.178479, 2631105560.8977075, 1573310389.5104742]\n",
            "Custo =  197095889102.31232\n",
            "\n",
            "=========================================================================\n",
            "\n",
            "Número de ciclos de manutenção: 18 5\n",
            "Tempos para manutenções preventivas: [0, 1, 70, 92, 159, 257, 296, 341, 361, 428, 456, 519, 541, 610, 634, 704, 723, 791, 875]\n",
            "Severidade para cada subsistema: [0.75, 0.5, 0.75, 0.5, 0.5, 0.25, 0.5, 0.75, 0.5, 0.75, 0.5, 0.75, 0.5, 0.75, 0.5, 0.75, 0.5, 0.5]\n",
            "Número de Sisemas: 5\n",
            "Fator:  [0.3296799539643607, 0.7768698398515702, 0.6321205588285577, 0.7768698398515702, 0.6321205588285577, 0.6321205588285577, 0.3934693402873666, 0.6321205588285577, 0.7768698398515702, 0.6321205588285577, 0.7768698398515702, 0.6321205588285577, 0.7768698398515702, 0.6321205588285577, 0.7768698398515702, 0.6321205588285577, 0.7768698398515702, 0.6321205588285577, 0.6321205588285577]\n",
            "Media de falhas:  [0, 0.00032, 525277.7515387319, 549090.0353084713, 3872368.4372793054, 17412315.563899342, 28587103.01187165, 51308476.60241202, 122339332.57364327, 211020318.78861806, 217671882.3353698, 384517600.3280146, 393755526.1803704, 736429919.0744286, 755150963.4181737, 1354734761.4335709, 1378297161.3628328, 2281969692.9519734, 2611008376.226701, 1560530394.7386775]\n",
            "Custo =  196687657360.89462\n",
            "\n",
            "=========================================================================\n",
            "\n",
            "Número de ciclos de manutenção: 18 5\n",
            "Tempos para manutenções preventivas: [0, 1, 70, 92, 159, 257, 299, 341, 361, 428, 457, 519, 541, 610, 633, 703, 723, 791, 873]\n",
            "Severidade para cada subsistema: [0.75, 0.5, 0.75, 0.5, 0.5, 0.25, 0.5, 0.75, 0.5, 0.75, 0.5, 0.75, 0.5, 0.75, 0.5, 0.75, 0.5, 0.5]\n",
            "Número de Sisemas: 5\n",
            "Fator:  [0.3296799539643607, 0.7768698398515702, 0.6321205588285577, 0.7768698398515702, 0.6321205588285577, 0.6321205588285577, 0.3934693402873666, 0.6321205588285577, 0.7768698398515702, 0.6321205588285577, 0.7768698398515702, 0.6321205588285577, 0.7768698398515702, 0.6321205588285577, 0.7768698398515702, 0.6321205588285577, 0.7768698398515702, 0.6321205588285577, 0.6321205588285577]\n",
            "Media de falhas:  [0, 0.00032, 525277.7515387319, 549090.0353084713, 3872368.4372793054, 17412315.563899342, 30183947.5410316, 50991587.055789016, 122022443.02702028, 210703429.24199507, 217733275.73465493, 381258942.3471308, 390496868.19948655, 733171261.0935447, 750853911.0276667, 1347209356.5114202, 1372194036.3413212, 2275866567.930462, 2590394654.9548235, 1554507104.1361332]\n",
            "Custo =  196174468456.44476\n",
            "\n",
            "=========================================================================\n",
            "\n",
            "Número de ciclos de manutenção: 18 5\n",
            "Tempos para manutenções preventivas: [0, 1, 70, 92, 159, 254, 285, 342, 361, 428, 456, 519, 541, 610, 632, 703, 723, 791, 871]\n",
            "Severidade para cada subsistema: [0.75, 0.5, 0.75, 0.5, 0.5, 0.25, 0.5, 0.75, 0.5, 0.75, 0.5, 0.75, 0.5, 0.75, 0.5, 0.75, 0.5, 0.5]\n",
            "Número de Sisemas: 5\n",
            "Fator:  [0.3296799539643607, 0.7768698398515702, 0.6321205588285577, 0.7768698398515702, 0.6321205588285577, 0.6321205588285577, 0.3934693402873666, 0.6321205588285577, 0.7768698398515702, 0.6321205588285577, 0.7768698398515702, 0.6321205588285577, 0.7768698398515702, 0.6321205588285577, 0.7768698398515702, 0.6321205588285577, 0.7768698398515702, 0.6321205588285577, 0.6321205588285577]\n",
            "Media de falhas:  [0, 0.00032, 525277.7515387319, 549090.0353084713, 3872368.4372793054, 15955664.308022376, 23225484.872854877, 54706208.498547286, 122290044.36327031, 210971030.5782451, 217622594.12499684, 384468312.1176417, 393706237.96999747, 736380630.8640556, 753050665.9809624, 1359677151.4484148, 1384661831.2783158, 2288334362.8674564, 2588794049.0482454, 1567440009.2307792]\n",
            "Custo =  195858923063.4081\n",
            "\n",
            "=========================================================================\n",
            "\n",
            "Número de ciclos de manutenção: 18 5\n",
            "Tempos para manutenções preventivas: [0, 1, 70, 93, 159, 253, 276, 343, 361, 429, 455, 519, 541, 610, 631, 703, 722, 791, 812]\n",
            "Severidade para cada subsistema: [0.75, 0.5, 0.75, 0.5, 0.5, 0.25, 0.5, 0.75, 0.5, 0.75, 0.5, 0.75, 0.5, 0.75, 0.5, 0.75, 0.5, 0.75]\n",
            "Número de Sisemas: 5\n",
            "Fator:  [0.3296799539643607, 0.7768698398515702, 0.6321205588285577, 0.7768698398515702, 0.6321205588285577, 0.6321205588285577, 0.3934693402873666, 0.6321205588285577, 0.7768698398515702, 0.6321205588285577, 0.7768698398515702, 0.6321205588285577, 0.7768698398515702, 0.6321205588285577, 0.7768698398515702, 0.6321205588285577, 0.7768698398515702, 0.6321205588285577, 0.7768698398515702]\n",
            "Media de falhas:  [0, 0.00032, 525277.7515387319, 552469.4420357683, 3771660.6909399196, 15398280.585223418, 19905679.98384097, 59963260.392681316, 124090564.76585306, 215347208.00105256, 221326334.14913595, 391519435.91698015, 400757361.7693359, 743431754.663394, 759114471.5374254, 1376072602.9762914, 1399509420.67481, 2318750351.509767, 2360093067.1699414, 1751941976.6813483]\n",
            "Custo =  189647472845.0307\n",
            "\n",
            "=========================================================================\n",
            "\n",
            "Número de ciclos de manutenção: 18 5\n",
            "Tempos para manutenções preventivas: [0, 1, 70, 93, 159, 252, 343, 361, 429, 454, 519, 542, 610, 632, 703, 722, 791, 812, 870]\n",
            "Severidade para cada subsistema: [0.75, 0.5, 0.75, 0.5, 0.5, 0.5, 0.75, 0.5, 0.75, 0.5, 0.75, 0.5, 0.75, 0.5, 0.75, 0.5, 0.75, 0.5]\n",
            "Número de Sisemas: 5\n",
            "Fator:  [0.3296799539643607, 0.7768698398515702, 0.6321205588285577, 0.7768698398515702, 0.6321205588285577, 0.6321205588285577, 0.6321205588285577, 0.7768698398515702, 0.6321205588285577, 0.7768698398515702, 0.6321205588285577, 0.7768698398515702, 0.6321205588285577, 0.7768698398515702, 0.6321205588285577, 0.7768698398515702, 0.6321205588285577, 0.7768698398515702, 0.6321205588285577]\n",
            "Media de falhas:  [0, 0.00032, 525277.7515387319, 552469.4420357683, 3771660.6909399196, 14955497.025718454, 79716094.15222506, 89419204.86319868, 180675848.09839815, 186309454.74974167, 359877558.46112615, 369700917.3759612, 706253717.8371398, 722923752.9540466, 1329550238.421499, 1352987056.1200175, 2272227986.9549747, 2313570702.615149, 3400756648.4319983, 3312691242.849563]\n",
            "Custo =  224970103557.75208\n",
            "\n",
            "=========================================================================\n",
            "\n",
            "Número de ciclos de manutenção: 19 5\n",
            "Tempos para manutenções preventivas: [0, 1, 70, 92, 158, 253, 273, 343, 361, 390, 429, 454, 520, 542, 610, 632, 703, 722, 791, 873]\n",
            "Severidade para cada subsistema: [0.75, 0.5, 0.75, 0.5, 0.5, 0.25, 0.5, 0.75, 0.5, 0.5, 0.75, 0.5, 0.75, 0.5, 0.75, 0.5, 0.75, 0.5, 0.5]\n",
            "Número de Sisemas: 5\n",
            "Fator:  [0.3296799539643607, 0.7768698398515702, 0.6321205588285577, 0.7768698398515702, 0.6321205588285577, 0.6321205588285577, 0.3934693402873666, 0.6321205588285577, 0.7768698398515702, 0.6321205588285577, 0.6321205588285577, 0.7768698398515702, 0.6321205588285577, 0.7768698398515702, 0.6321205588285577, 0.7768698398515702, 0.6321205588285577, 0.7768698398515702, 0.6321205588285577, 0.6321205588285577]\n",
            "Media de falhas:  [0, 0.00032, 525277.7515387319, 549090.0353084713, 3710141.5203888817, 15690877.0747623, 19370854.992816433, 62115714.48525604, 126243018.8584278, 148513290.57403487, 157087365.51425365, 191111051.59399274, 369355912.6003072, 378658547.0231818, 715211347.4843605, 731881382.6012672, 1338507868.0687196, 1361944685.7672381, 2281185616.6021953, 2595713703.626557, 1559826152.8078666]\n",
            "Custo =  199595333529.4758\n",
            "\n",
            "=========================================================================\n",
            "\n",
            "Número de ciclos de manutenção: 19 5\n",
            "Tempos para manutenções preventivas: [0, 1, 70, 92, 158, 253, 283, 343, 361, 390, 428, 454, 520, 542, 610, 633, 703, 721, 791, 875]\n",
            "Severidade para cada subsistema: [0.75, 0.5, 0.75, 0.5, 0.5, 0.25, 0.5, 0.75, 0.5, 0.5, 0.75, 0.5, 0.75, 0.5, 0.75, 0.5, 0.75, 0.5, 0.5]\n",
            "Número de Sisemas: 5\n",
            "Fator:  [0.3296799539643607, 0.7768698398515702, 0.6321205588285577, 0.7768698398515702, 0.6321205588285577, 0.6321205588285577, 0.3934693402873666, 0.6321205588285577, 0.7768698398515702, 0.6321205588285577, 0.6321205588285577, 0.7768698398515702, 0.6321205588285577, 0.7768698398515702, 0.6321205588285577, 0.7768698398515702, 0.6321205588285577, 0.7768698398515702, 0.6321205588285577, 0.6321205588285577]\n",
            "Media de falhas:  [0, 0.00032, 525277.7515387319, 549090.0353084713, 3710141.5203888817, 15690877.0747623, 22491790.39064731, 56669001.42165166, 120796305.79482341, 143066577.51043049, 151243464.523406, 186768288.06632107, 365013149.0726356, 374315783.49551016, 710868583.9566888, 728551233.8908107, 1324906679.3745642, 1346830443.9720128, 2281719350.1360993, 2610758033.4108267, 1560280051.9228034]\n",
            "Custo =  199949863323.92603\n",
            "\n",
            "=========================================================================\n",
            "\n",
            "Número de ciclos de manutenção: 18 5\n",
            "Tempos para manutenções preventivas: [0, 1, 70, 91, 158, 254, 289, 342, 361, 427, 455, 520, 542, 610, 634, 703, 722, 791, 876]\n",
            "Severidade para cada subsistema: [0.75, 0.5, 0.75, 0.5, 0.5, 0.25, 0.5, 0.75, 0.5, 0.75, 0.5, 0.75, 0.5, 0.75, 0.5, 0.75, 0.5, 0.5]\n",
            "Número de Sisemas: 5\n",
            "Fator:  [0.3296799539643607, 0.7768698398515702, 0.6321205588285577, 0.7768698398515702, 0.6321205588285577, 0.6321205588285577, 0.3934693402873666, 0.6321205588285577, 0.7768698398515702, 0.6321205588285577, 0.7768698398515702, 0.6321205588285577, 0.7768698398515702, 0.6321205588285577, 0.7768698398515702, 0.6321205588285577, 0.7768698398515702, 0.6321205588285577, 0.6321205588285577]\n",
            "Media de falhas:  [0, 0.00032, 525277.7515387319, 546051.4751908119, 3809652.7766987435, 16258080.532677144, 25164544.729532354, 53662279.802964374, 121246115.6676874, 207402495.48786828, 214000864.91579732, 388820074.36679965, 398122708.7896742, 734675509.2508528, 753396553.5945979, 1339541067.555122, 1362977885.2536404, 2282218816.0885973, 2618681846.8078256, 1560886675.4205923]\n",
            "Custo =  196692926317.08435\n"
          ]
        },
        {
          "output_type": "stream",
          "name": "stderr",
          "text": [
            "pyswarms.single.global_best: 100%|██████████|1/1, best_cost=1.43e+11\n",
            "2023-08-25 14:18:04,720 - pyswarms.single.global_best - INFO - Optimization finished | best cost: 143304585850.20178, best pos: [5.03800494 2.76191262 3.35290381]\n",
            "2023-08-25 14:18:04,721 - pyswarms.single.global_best - INFO - Optimize for 1 iters with {'c1': 0.5, 'c2': 0.3, 'w': 0.9}\n"
          ]
        },
        {
          "output_type": "stream",
          "name": "stdout",
          "text": [
            "\n",
            "=========================================================================\n",
            "\n",
            "Número de ciclos de manutenção: 17 5\n",
            "Tempos para manutenções preventivas: [0, 1, 70, 91, 158, 254, 341, 361, 428, 456, 519, 541, 610, 634, 704, 723, 791, 876]\n",
            "Severidade para cada subsistema: [0.75, 0.5, 0.75, 0.5, 0.5, 0.5, 0.75, 0.5, 0.75, 0.5, 0.75, 0.5, 0.75, 0.5, 0.75, 0.5, 0.5]\n",
            "Número de Sisemas: 5\n",
            "Fator:  [0.3296799539643607, 0.7768698398515702, 0.6321205588285577, 0.7768698398515702, 0.6321205588285577, 0.6321205588285577, 0.6321205588285577, 0.7768698398515702, 0.6321205588285577, 0.7768698398515702, 0.6321205588285577, 0.7768698398515702, 0.6321205588285577, 0.7768698398515702, 0.6321205588285577, 0.7768698398515702, 0.6321205588285577, 0.6321205588285577]\n",
            "Media de falhas:  [0, 0.00032, 525277.7515387319, 546051.4751908119, 3809652.7766987435, 16258080.532677144, 75189712.40634957, 86077448.27615568, 174758434.49113047, 181409998.0378822, 348255716.03052706, 357493641.88288283, 700168034.776941, 718889079.120686, 1318472877.1360831, 1342035277.065345, 2245707808.6544857, 2582170839.373714, 1524375667.9864807]\n",
            "Custo =  184331854407.66788\n"
          ]
        },
        {
          "output_type": "stream",
          "name": "stderr",
          "text": [
            "pyswarms.single.global_best: 100%|██████████|1/1, best_cost=1.43e+11\n",
            "2023-08-25 14:18:04,732 - pyswarms.single.global_best - INFO - Optimization finished | best cost: 143304585850.20178, best pos: [5.03822347 2.76186511 3.35290445]\n",
            "2023-08-25 14:18:04,733 - pyswarms.single.global_best - INFO - Optimize for 1 iters with {'c1': 0.5, 'c2': 0.3, 'w': 0.9}\n"
          ]
        },
        {
          "output_type": "stream",
          "name": "stdout",
          "text": [
            "\n",
            "=========================================================================\n",
            "\n",
            "Número de ciclos de manutenção: 18 5\n",
            "Tempos para manutenções preventivas: [0, 1, 70, 90, 159, 255, 283, 341, 361, 428, 455, 519, 541, 610, 634, 704, 724, 791, 877]\n",
            "Severidade para cada subsistema: [0.75, 0.5, 0.75, 0.5, 0.5, 0.5, 0.5, 0.75, 0.5, 0.75, 0.5, 0.75, 0.5, 0.75, 0.5, 0.75, 0.5, 0.5]\n",
            "Número de Sisemas: 5\n",
            "Fator:  [0.3296799539643607, 0.7768698398515702, 0.6321205588285577, 0.7768698398515702, 0.6321205588285577, 0.6321205588285577, 0.6321205588285577, 0.6321205588285577, 0.7768698398515702, 0.6321205588285577, 0.7768698398515702, 0.6321205588285577, 0.7768698398515702, 0.6321205588285577, 0.7768698398515702, 0.6321205588285577, 0.7768698398515702, 0.6321205588285577, 0.6321205588285577]\n",
            "Media de falhas:  [0, 0.00032, 525277.7515387319, 543327.3025771828, 4082598.1085061356, 16636786.746128693, 22893292.740147855, 54805318.559966356, 65693054.42977247, 154374040.64474726, 160659376.9338391, 330852478.7016833, 340090404.55403906, 682764797.4480972, 701485841.7918423, 1301069639.8072395, 1326187750.0637598, 2214370849.0136013, 2558372667.239163, 1493245322.1301389]\n",
            "Custo =  184856653958.91068\n"
          ]
        },
        {
          "output_type": "stream",
          "name": "stderr",
          "text": [
            "pyswarms.single.global_best: 100%|██████████|1/1, best_cost=1.43e+11\n",
            "2023-08-25 14:18:04,741 - pyswarms.single.global_best - INFO - Optimization finished | best cost: 143304585850.20178, best pos: [5.03841936 2.76177106 3.3529038 ]\n"
          ]
        },
        {
          "output_type": "stream",
          "name": "stdout",
          "text": [
            "\n",
            "=========================================================================\n",
            "\n",
            "Número de ciclos de manutenção: 17 5\n",
            "Tempos para manutenções preventivas: [0, 1, 70, 90, 159, 254, 340, 361, 429, 454, 519, 540, 610, 633, 703, 725, 791, 878]\n",
            "Severidade para cada subsistema: [0.75, 0.5, 0.75, 0.5, 0.5, 0.5, 0.75, 0.5, 0.75, 0.5, 0.75, 0.5, 0.75, 0.5, 0.75, 0.5, 0.5]\n",
            "Número de Sisemas: 5\n",
            "Fator:  [0.3296799539643607, 0.7768698398515702, 0.6321205588285577, 0.7768698398515702, 0.6321205588285577, 0.6321205588285577, 0.6321205588285577, 0.7768698398515702, 0.6321205588285577, 0.7768698398515702, 0.6321205588285577, 0.7768698398515702, 0.6321205588285577, 0.7768698398515702, 0.6321205588285577, 0.7768698398515702, 0.6321205588285577, 0.6321205588285577]\n",
            "Media de falhas:  [0, 0.00032, 525277.7515387319, 543327.3025771828, 4082598.1085061356, 16165893.979249205, 73420070.93339281, 84909298.7981192, 176165942.0333187, 181799548.68466222, 355367652.3960467, 364036893.92472696, 712875288.6627967, 730557938.5969187, 1326913384.0806723, 1355100610.7873826, 2227872636.0881877, 2579528999.8108363, 1507054247.6413224]\n",
            "Custo =  184461701894.1579\n"
          ]
        },
        {
          "output_type": "stream",
          "name": "stderr",
          "text": [
            "2023-08-25 14:18:04,743 - pyswarms.single.global_best - INFO - Optimize for 1 iters with {'c1': 0.5, 'c2': 0.3, 'w': 0.9}\n",
            "pyswarms.single.global_best: 100%|██████████|1/1, best_cost=1.43e+11\n",
            "2023-08-25 14:18:04,751 - pyswarms.single.global_best - INFO - Optimization finished | best cost: 143304585850.20178, best pos: [5.03856571 2.76166889 3.35289941]\n",
            "2023-08-25 14:18:04,752 - pyswarms.single.global_best - INFO - Optimize for 1 iters with {'c1': 0.5, 'c2': 0.3, 'w': 0.9}\n"
          ]
        },
        {
          "output_type": "stream",
          "name": "stdout",
          "text": [
            "\n",
            "=========================================================================\n",
            "\n",
            "Número de ciclos de manutenção: 17 5\n",
            "Tempos para manutenções preventivas: [0, 1, 70, 90, 160, 253, 340, 361, 430, 452, 519, 540, 610, 632, 701, 724, 790, 880]\n",
            "Severidade para cada subsistema: [0.75, 0.5, 0.75, 0.5, 0.5, 0.5, 0.75, 0.5, 0.75, 0.5, 0.75, 0.5, 0.75, 0.5, 0.75, 0.5, 0.5]\n",
            "Número de Sisemas: 5\n",
            "Fator:  [0.3296799539643607, 0.7768698398515702, 0.6321205588285577, 0.7768698398515702, 0.6321205588285577, 0.6321205588285577, 0.6321205588285577, 0.7768698398515702, 0.6321205588285577, 0.7768698398515702, 0.6321205588285577, 0.7768698398515702, 0.6321205588285577, 0.7768698398515702, 0.6321205588285577, 0.7768698398515702, 0.6321205588285577, 0.6321205588285577]\n",
            "Media de falhas:  [0, 0.00032, 525277.7515387319, 543327.3025771828, 4259970.067085848, 15540844.418465558, 73895557.1034913, 85384784.9682177, 179268906.19404572, 183971127.35220006, 364373239.0575422, 373042480.58622247, 721880875.3242922, 738550910.441199, 1318382018.5896, 1347911443.3621802, 2216456933.3938, 2590332684.2375, 1503116424.111681]\n",
            "Custo =  184283863270.19162\n"
          ]
        },
        {
          "output_type": "stream",
          "name": "stderr",
          "text": [
            "pyswarms.single.global_best: 100%|██████████|1/1, best_cost=1.43e+11\n",
            "2023-08-25 14:18:04,761 - pyswarms.single.global_best - INFO - Optimization finished | best cost: 143304585850.20178, best pos: [5.03864388 2.76157026 3.35289209]\n",
            "2023-08-25 14:18:04,762 - pyswarms.single.global_best - INFO - Optimize for 1 iters with {'c1': 0.5, 'c2': 0.3, 'w': 0.9}\n"
          ]
        },
        {
          "output_type": "stream",
          "name": "stdout",
          "text": [
            "\n",
            "=========================================================================\n",
            "\n",
            "Número de ciclos de manutenção: 18 5\n",
            "Tempos para manutenções preventivas: [0, 1, 70, 90, 160, 251, 339, 361, 431, 450, 520, 540, 610, 631, 700, 724, 790, 817, 881]\n",
            "Severidade para cada subsistema: [0.75, 0.5, 0.75, 0.5, 0.5, 0.5, 0.75, 0.5, 0.75, 0.5, 0.75, 0.5, 0.75, 0.5, 0.75, 0.5, 0.75, 0.5]\n",
            "Número de Sisemas: 5\n",
            "Fator:  [0.3296799539643607, 0.7768698398515702, 0.6321205588285577, 0.7768698398515702, 0.6321205588285577, 0.6321205588285577, 0.6321205588285577, 0.7768698398515702, 0.6321205588285577, 0.7768698398515702, 0.6321205588285577, 0.7768698398515702, 0.6321205588285577, 0.7768698398515702, 0.6321205588285577, 0.7768698398515702, 0.6321205588285577, 0.7768698398515702, 0.6321205588285577]\n",
            "Media de falhas:  [0, 0.00032, 525277.7515387319, 543327.3025771828, 4259970.067085848, 14689749.379543055, 73577272.37015064, 85674268.9550088, 182238467.19773418, 186090016.88775238, 378323597.2475021, 386497918.9196623, 735336313.657732, 751019030.5317634, 1327712732.4172425, 1358754380.882237, 2227299870.9138565, 2283897144.929353, 3559580896.803388, 3465710247.6324377]\n",
            "Custo =  229296225164.3219\n"
          ]
        },
        {
          "output_type": "stream",
          "name": "stderr",
          "text": [
            "pyswarms.single.global_best: 100%|██████████|1/1, best_cost=1.43e+11\n",
            "2023-08-25 14:18:04,771 - pyswarms.single.global_best - INFO - Optimization finished | best cost: 143304585850.20178, best pos: [5.03865122 2.76148757 3.35288397]\n",
            "2023-08-25 14:18:04,772 - pyswarms.single.global_best - INFO - Optimize for 1 iters with {'c1': 0.5, 'c2': 0.3, 'w': 0.9}\n"
          ]
        },
        {
          "output_type": "stream",
          "name": "stdout",
          "text": [
            "\n",
            "=========================================================================\n",
            "\n",
            "Número de ciclos de manutenção: 19 5\n",
            "Tempos para manutenções preventivas: [0, 1, 70, 90, 161, 181, 249, 285, 339, 361, 431, 520, 540, 610, 630, 699, 722, 789, 824, 883]\n",
            "Severidade para cada subsistema: [0.75, 0.5, 0.75, 0.5, 0.75, 0.5, 0.25, 0.5, 0.75, 0.5, 0.5, 0.75, 0.5, 0.75, 0.5, 0.75, 0.5, 0.75, 0.5]\n",
            "Número de Sisemas: 5\n",
            "Fator:  [0.3296799539643607, 0.7768698398515702, 0.6321205588285577, 0.7768698398515702, 0.6321205588285577, 0.7768698398515702, 0.6321205588285577, 0.3934693402873666, 0.6321205588285577, 0.7768698398515702, 0.6321205588285577, 0.6321205588285577, 0.7768698398515702, 0.6321205588285577, 0.7768698398515702, 0.6321205588285577, 0.7768698398515702, 0.6321205588285577, 0.7768698398515702, 0.6321205588285577]\n",
            "Media de falhas:  [0, 0.00032, 525277.7515387319, 543327.3025771828, 4444358.0649927305, 4600253.2304411605, 18311721.348961264, 20201352.28176312, 48508522.04965412, 126405858.70262668, 222970056.94535202, 289999259.11115634, 342800081.3447138, 691638476.0827836, 706358694.3416125, 1279927807.4471102, 1309146014.235929, 2188749231.9786663, 2268623531.252863, 3442480972.1408634, 3347529234.7182703]\n",
            "Custo =  241569741942.82928\n"
          ]
        },
        {
          "output_type": "stream",
          "name": "stderr",
          "text": [
            "pyswarms.single.global_best: 100%|██████████|1/1, best_cost=1.43e+11\n",
            "2023-08-25 14:18:04,779 - pyswarms.single.global_best - INFO - Optimization finished | best cost: 143304585850.20178, best pos: [5.03856738 2.76142384 3.35287639]\n",
            "2023-08-25 14:18:04,780 - pyswarms.single.global_best - INFO - Optimize for 1 iters with {'c1': 0.5, 'c2': 0.3, 'w': 0.9}\n"
          ]
        },
        {
          "output_type": "stream",
          "name": "stdout",
          "text": [
            "\n",
            "=========================================================================\n",
            "\n",
            "Número de ciclos de manutenção: 18 5\n",
            "Tempos para manutenções preventivas: [0, 1, 70, 90, 161, 182, 248, 271, 339, 361, 432, 520, 540, 610, 699, 721, 789, 828, 884]\n",
            "Severidade para cada subsistema: [0.75, 0.5, 0.75, 0.5, 0.75, 0.5, 0.5, 0.5, 0.75, 0.5, 0.5, 0.75, 0.5, 0.5, 0.75, 0.5, 0.75, 0.5]\n",
            "Número de Sisemas: 5\n",
            "Fator:  [0.3296799539643607, 0.7768698398515702, 0.6321205588285577, 0.7768698398515702, 0.6321205588285577, 0.7768698398515702, 0.6321205588285577, 0.6321205588285577, 0.6321205588285577, 0.7768698398515702, 0.6321205588285577, 0.6321205588285577, 0.7768698398515702, 0.6321205588285577, 0.6321205588285577, 0.7768698398515702, 0.6321205588285577, 0.7768698398515702, 0.6321205588285577]\n",
            "Media de falhas:  [0, 0.00032, 525277.7515387319, 543327.3025771828, 4444358.0649927305, 4616472.911370416, 17479982.35119204, 18257931.430103548, 57544372.330228135, 69641368.9150863, 168939029.00613478, 234488453.15744543, 287289275.3910029, 636127670.1290727, 806156574.052938, 988755671.5284148, 1883705591.0270634, 1976767928.3188856, 3088846714.8654284, 2993351285.272628]\n",
            "Custo =  229724652879.61008\n"
          ]
        },
        {
          "output_type": "stream",
          "name": "stderr",
          "text": [
            "pyswarms.single.global_best: 100%|██████████|1/1, best_cost=1.43e+11\n",
            "2023-08-25 14:18:04,789 - pyswarms.single.global_best - INFO - Optimization finished | best cost: 143304585850.20178, best pos: [5.03845478 2.76141055 3.35286984]\n",
            "2023-08-25 14:18:04,791 - pyswarms.single.global_best - INFO - Optimize for 1 iters with {'c1': 0.5, 'c2': 0.3, 'w': 0.9}\n"
          ]
        },
        {
          "output_type": "stream",
          "name": "stdout",
          "text": [
            "\n",
            "=========================================================================\n",
            "\n",
            "Número de ciclos de manutenção: 17 5\n",
            "Tempos para manutenções preventivas: [0, 1, 70, 90, 161, 183, 247, 339, 361, 432, 521, 540, 611, 698, 720, 789, 831, 884]\n",
            "Severidade para cada subsistema: [0.75, 0.5, 0.75, 0.5, 0.75, 0.5, 0.5, 0.75, 0.5, 0.5, 0.75, 0.5, 0.5, 0.75, 0.5, 0.75, 0.5]\n",
            "Número de Sisemas: 5\n",
            "Fator:  [0.3296799539643607, 0.7768698398515702, 0.6321205588285577, 0.7768698398515702, 0.6321205588285577, 0.7768698398515702, 0.6321205588285577, 0.6321205588285577, 0.7768698398515702, 0.6321205588285577, 0.6321205588285577, 0.7768698398515702, 0.6321205588285577, 0.6321205588285577, 0.7768698398515702, 0.6321205588285577, 0.7768698398515702, 0.6321205588285577]\n",
            "Media de falhas:  [0, 0.00032, 525277.7515387319, 543327.3025771828, 4444358.0649927305, 4633873.272283092, 16689234.302033093, 38576461.54482369, 50673458.12968185, 149971118.22073033, 217390367.40265507, 267395909.59068948, 624631458.5819778, 787351319.6812904, 968952101.3744547, 1879327195.8902583, 1982945869.7302353, 3028943725.9338675, 2933448296.341067]\n",
            "Custo =  228037729703.92667\n"
          ]
        },
        {
          "output_type": "stream",
          "name": "stderr",
          "text": [
            "pyswarms.single.global_best: 100%|██████████|1/1, best_cost=1.43e+11\n",
            "2023-08-25 14:18:04,799 - pyswarms.single.global_best - INFO - Optimization finished | best cost: 143304585850.20178, best pos: [5.03831027 2.76141635 3.35286699]\n",
            "2023-08-25 14:18:04,800 - pyswarms.single.global_best - INFO - Optimize for 1 iters with {'c1': 0.5, 'c2': 0.3, 'w': 0.9}\n"
          ]
        },
        {
          "output_type": "stream",
          "name": "stdout",
          "text": [
            "\n",
            "=========================================================================\n",
            "\n",
            "Número de ciclos de manutenção: 17 5\n",
            "Tempos para manutenções preventivas: [0, 1, 70, 90, 161, 183, 246, 292, 339, 361, 432, 521, 540, 610, 698, 789, 830, 885]\n",
            "Severidade para cada subsistema: [0.75, 0.5, 0.75, 0.5, 0.75, 0.5, 0.75, 0.5, 0.75, 0.5, 0.5, 0.75, 0.5, 0.5, 0.5, 0.75, 0.5]\n",
            "Número de Sisemas: 5\n",
            "Fator:  [0.3296799539643607, 0.7768698398515702, 0.6321205588285577, 0.7768698398515702, 0.6321205588285577, 0.7768698398515702, 0.6321205588285577, 0.7768698398515702, 0.6321205588285577, 0.7768698398515702, 0.6321205588285577, 0.6321205588285577, 0.7768698398515702, 0.6321205588285577, 0.6321205588285577, 0.6321205588285577, 0.7768698398515702, 0.6321205588285577]\n",
            "Media de falhas:  [0, 0.00032, 525277.7515387319, 543327.3025771828, 4444358.0649927305, 4633873.272283092, 16220577.439320708, 19406090.833416387, 42927203.27544918, 44974782.23428217, 144272442.32533064, 211691691.50725538, 261697233.6952898, 610535628.4333596, 776492267.8427379, 2047322897.4424508, 2664417890.019136, 3759174680.016548, 3663133425.4502497]\n",
            "Custo =  248466196607.21744\n"
          ]
        },
        {
          "output_type": "stream",
          "name": "stderr",
          "text": [
            "pyswarms.single.global_best: 100%|██████████|1/1, best_cost=1.43e+11\n",
            "2023-08-25 14:18:04,905 - pyswarms.single.global_best - INFO - Optimization finished | best cost: 143304585850.20178, best pos: [5.03817306 2.76147873 3.35286618]\n",
            "2023-08-25 14:18:04,906 - pyswarms.single.global_best - INFO - Optimize for 1 iters with {'c1': 0.5, 'c2': 0.3, 'w': 0.9}\n"
          ]
        },
        {
          "output_type": "stream",
          "name": "stdout",
          "text": [
            "\n",
            "=========================================================================\n",
            "\n",
            "Número de ciclos de manutenção: 16 5\n",
            "Tempos para manutenções preventivas: [0, 1, 70, 91, 161, 183, 245, 340, 361, 431, 521, 540, 610, 698, 790, 826, 884]\n",
            "Severidade para cada subsistema: [0.75, 0.5, 0.75, 0.5, 0.75, 0.5, 0.5, 0.75, 0.5, 0.5, 0.75, 0.5, 0.5, 0.5, 0.75, 0.5]\n",
            "Número de Sisemas: 5\n",
            "Fator:  [0.3296799539643607, 0.7768698398515702, 0.6321205588285577, 0.7768698398515702, 0.6321205588285577, 0.7768698398515702, 0.6321205588285577, 0.6321205588285577, 0.7768698398515702, 0.6321205588285577, 0.6321205588285577, 0.7768698398515702, 0.6321205588285577, 0.6321205588285577, 0.6321205588285577, 0.7768698398515702, 0.6321205588285577]\n",
            "Media de falhas:  [0, 0.00032, 525277.7515387319, 546051.4751908119, 4328976.966048022, 4518492.173338383, 15650705.4159586, 39525848.79189734, 51015076.656623736, 147579274.8993491, 216509926.59104097, 266515468.77907538, 615353863.5171452, 781310502.9265234, 2075682688.686631, 2601810334.8881245, 3758419058.5939274, 3662923629.001127]\n",
            "Custo =  247765274280.25082\n"
          ]
        },
        {
          "output_type": "stream",
          "name": "stderr",
          "text": [
            "pyswarms.single.global_best: 100%|██████████|1/1, best_cost=1.43e+11\n",
            "2023-08-25 14:18:04,915 - pyswarms.single.global_best - INFO - Optimization finished | best cost: 143304585850.20178, best pos: [5.03805351 2.76157718 3.35286686]\n",
            "2023-08-25 14:18:04,916 - pyswarms.single.global_best - INFO - Optimize for 1 iters with {'c1': 0.5, 'c2': 0.3, 'w': 0.9}\n"
          ]
        },
        {
          "output_type": "stream",
          "name": "stdout",
          "text": [
            "\n",
            "=========================================================================\n",
            "\n",
            "Número de ciclos de manutenção: 16 5\n",
            "Tempos para manutenções preventivas: [0, 1, 70, 91, 160, 182, 245, 341, 361, 431, 521, 540, 610, 698, 790, 820, 883]\n",
            "Severidade para cada subsistema: [0.75, 0.5, 0.75, 0.5, 0.75, 0.5, 0.5, 0.75, 0.5, 0.5, 0.75, 0.5, 0.5, 0.5, 0.75, 0.5]\n",
            "Número de Sisemas: 5\n",
            "Fator:  [0.3296799539643607, 0.7768698398515702, 0.6321205588285577, 0.7768698398515702, 0.6321205588285577, 0.7768698398515702, 0.6321205588285577, 0.6321205588285577, 0.7768698398515702, 0.6321205588285577, 0.6321205588285577, 0.7768698398515702, 0.6321205588285577, 0.6321205588285577, 0.6321205588285577, 0.7768698398515702, 0.6321205588285577]\n",
            "Media de falhas:  [0, 0.00032, 525277.7515387319, 546051.4751908119, 4149047.6648599235, 4335162.025596766, 15764997.780407168, 40453770.02444633, 51341505.89425244, 147905704.1369778, 216836355.82866967, 266841898.01670408, 615680292.7547739, 781636932.1641521, 2076009117.9242597, 2496816285.2452226, 3760914618.795647, 3665962881.373054]\n",
            "Custo =  245922492552.68842\n"
          ]
        },
        {
          "output_type": "stream",
          "name": "stderr",
          "text": [
            "pyswarms.single.global_best: 100%|██████████|1/1, best_cost=1.43e+11\n",
            "2023-08-25 14:18:04,924 - pyswarms.single.global_best - INFO - Optimization finished | best cost: 143304585850.20178, best pos: [5.03797045 2.76168118 3.35286901]\n",
            "2023-08-25 14:18:04,925 - pyswarms.single.global_best - INFO - Optimize for 1 iters with {'c1': 0.5, 'c2': 0.3, 'w': 0.9}\n"
          ]
        },
        {
          "output_type": "stream",
          "name": "stdout",
          "text": [
            "\n",
            "=========================================================================\n",
            "\n",
            "Número de ciclos de manutenção: 17 5\n",
            "Tempos para manutenções preventivas: [0, 1, 70, 91, 160, 181, 247, 288, 341, 361, 430, 520, 541, 610, 699, 790, 813, 882]\n",
            "Severidade para cada subsistema: [0.75, 0.5, 0.75, 0.5, 0.75, 0.5, 0.25, 0.5, 0.75, 0.5, 0.5, 0.75, 0.5, 0.5, 0.5, 0.75, 0.5]\n",
            "Número de Sisemas: 5\n",
            "Fator:  [0.3296799539643607, 0.7768698398515702, 0.6321205588285577, 0.7768698398515702, 0.6321205588285577, 0.7768698398515702, 0.6321205588285577, 0.3934693402873666, 0.6321205588285577, 0.7768698398515702, 0.6321205588285577, 0.6321205588285577, 0.7768698398515702, 0.6321205588285577, 0.6321205588285577, 0.6321205588285577, 0.7768698398515702, 0.6321205588285577]\n",
            "Media de falhas:  [0, 0.00032, 525277.7515387319, 546051.4751908119, 4149047.6648599235, 4318030.519935706, 17010333.033751223, 19472224.012550745, 47667184.86668821, 118698040.83791946, 212582162.06374747, 281115382.53345364, 337135839.3096689, 679810232.203727, 849839136.1275923, 2126732458.3391693, 2434235842.68162, 3830612138.8157644, 3736201986.191111]\n",
            "Custo =  257324816662.52493\n"
          ]
        },
        {
          "output_type": "stream",
          "name": "stderr",
          "text": [
            "pyswarms.single.global_best:   0%|          |0/1, best_cost=1.43e+11"
          ]
        },
        {
          "output_type": "stream",
          "name": "stdout",
          "text": [
            "\n",
            "=========================================================================\n",
            "\n",
            "Número de ciclos de manutenção: 17 5\n",
            "Tempos para manutenções preventivas: [0, 1, 70, 91, 160, 180, 248, 272, 341, 361, 430, 520, 541, 610, 700, 720, 790, 880]\n",
            "Severidade para cada subsistema: [0.75, 0.5, 0.75, 0.5, 0.75, 0.5, 0.5, 0.5, 0.75, 0.5, 0.5, 0.75, 0.5, 0.5, 0.75, 0.5, 0.5]\n",
            "Número de Sisemas: 5\n",
            "Fator:  [0.3296799539643607, 0.7768698398515702, 0.6321205588285577, 0.7768698398515702, 0.6321205588285577, 0.7768698398515702, 0.6321205588285577, 0.6321205588285577, 0.6321205588285577, 0.7768698398515702, 0.6321205588285577, 0.6321205588285577, 0.7768698398515702, 0.6321205588285577, 0.6321205588285577, 0.7768698398515702, 0.6321205588285577, 0.6321205588285577]\n",
            "Media de falhas:  [0, 0.00032, 525277.7515387319, 546051.4751908119, 4149047.6648599235, 4302065.8659635885, 17832910.42192726, 18672669.59521021, 59659819.777186744, 70547555.64699286, 164431676.87282088, 232964897.34252706, 288985354.11874235, 631659747.0128005, 805833922.5577676, 970179747.552695, 1900555660.093885, 2274431410.9375854, 1187215150.8117661]\n",
            "Custo =  184171337160.02142\n"
          ]
        },
        {
          "output_type": "stream",
          "name": "stderr",
          "text": [
            "\rpyswarms.single.global_best: 100%|██████████|1/1, best_cost=1.43e+11\n",
            "2023-08-25 14:18:04,935 - pyswarms.single.global_best - INFO - Optimization finished | best cost: 143304585850.20178, best pos: [5.03794323 2.7617639  3.35287347]\n",
            "2023-08-25 14:18:04,936 - pyswarms.single.global_best - INFO - Optimize for 1 iters with {'c1': 0.5, 'c2': 0.3, 'w': 0.9}\n",
            "pyswarms.single.global_best:   0%|          |0/1, best_cost=1.43e+11"
          ]
        },
        {
          "output_type": "stream",
          "name": "stdout",
          "text": [
            "\n",
            "=========================================================================\n",
            "\n",
            "Número de ciclos de manutenção: 18 5\n",
            "Tempos para manutenções preventivas: [0, 1, 70, 91, 159, 180, 250, 341, 361, 429, 450, 520, 541, 610, 630, 701, 720, 790, 879]\n",
            "Severidade para cada subsistema: [0.75, 0.5, 0.75, 0.5, 0.75, 0.5, 0.5, 0.75, 0.5, 0.75, 0.5, 0.75, 0.5, 0.75, 0.5, 0.75, 0.5, 0.5]\n",
            "Número de Sisemas: 5\n",
            "Fator:  [0.3296799539643607, 0.7768698398515702, 0.6321205588285577, 0.7768698398515702, 0.6321205588285577, 0.7768698398515702, 0.6321205588285577, 0.6321205588285577, 0.7768698398515702, 0.6321205588285577, 0.7768698398515702, 0.6321205588285577, 0.7768698398515702, 0.6321205588285577, 0.7768698398515702, 0.6321205588285577, 0.7768698398515702, 0.6321205588285577, 0.6321205588285577]\n",
            "Media de falhas:  [0, 0.00032, 525277.7515387319, 546051.4751908119, 3976006.158956128, 4141900.6092129806, 18742635.736322057, 40373083.90922912, 51260819.77903523, 142517463.01423472, 146878845.93111545, 339112426.2908651, 347842670.8004909, 690517063.6945491, 705237281.953378, 1305342031.23428, 1328529192.7347803, 2258905105.27597, 2624797870.303999, 1544960229.0690541]\n",
            "Custo =  183174244693.09216\n"
          ]
        },
        {
          "output_type": "stream",
          "name": "stderr",
          "text": [
            "\rpyswarms.single.global_best: 100%|██████████|1/1, best_cost=1.43e+11\n",
            "2023-08-25 14:18:04,944 - pyswarms.single.global_best - INFO - Optimization finished | best cost: 143304585850.20178, best pos: [5.03791914 2.76180855 3.35287791]\n",
            "2023-08-25 14:18:04,946 - pyswarms.single.global_best - INFO - Optimize for 1 iters with {'c1': 0.5, 'c2': 0.3, 'w': 0.9}\n",
            "pyswarms.single.global_best:   0%|          |0/1, best_cost=1.43e+11"
          ]
        },
        {
          "output_type": "stream",
          "name": "stdout",
          "text": [
            "\n",
            "=========================================================================\n",
            "\n",
            "Número de ciclos de manutenção: 17 5\n",
            "Tempos para manutenções preventivas: [0, 1, 70, 91, 159, 251, 341, 361, 429, 451, 520, 541, 610, 631, 701, 721, 791, 878]\n",
            "Severidade para cada subsistema: [0.75, 0.5, 0.75, 0.5, 0.5, 0.5, 0.75, 0.5, 0.75, 0.5, 0.75, 0.5, 0.75, 0.5, 0.75, 0.5, 0.5]\n",
            "Número de Sisemas: 5\n",
            "Fator:  [0.3296799539643607, 0.7768698398515702, 0.6321205588285577, 0.7768698398515702, 0.6321205588285577, 0.6321205588285577, 0.6321205588285577, 0.7768698398515702, 0.6321205588285577, 0.7768698398515702, 0.6321205588285577, 0.7768698398515702, 0.6321205588285577, 0.7768698398515702, 0.6321205588285577, 0.7768698398515702, 0.6321205588285577, 0.6321205588285577]\n",
            "Media de falhas:  [0, 0.00032, 525277.7515387319, 546051.4751908119, 3976006.158956128, 14730631.949662503, 77078577.89823993, 87966313.76804604, 179222957.00324553, 183886463.56938177, 372579363.21285987, 381309607.72248566, 723984000.6165438, 739666717.4905752, 1329604798.5621085, 1354324214.92256, 2289213121.0866466, 2640869484.809295, 1568394732.6397812]\n",
            "Custo =  184553048999.6614\n"
          ]
        },
        {
          "output_type": "stream",
          "name": "stderr",
          "text": [
            "\rpyswarms.single.global_best: 100%|██████████|1/1, best_cost=1.43e+11\n",
            "2023-08-25 14:18:04,954 - pyswarms.single.global_best - INFO - Optimization finished | best cost: 143304585850.20178, best pos: [5.0379692 2.7618326 3.3528824]\n",
            "2023-08-25 14:18:04,955 - pyswarms.single.global_best - INFO - Optimize for 1 iters with {'c1': 0.5, 'c2': 0.3, 'w': 0.9}\n",
            "pyswarms.single.global_best:   0%|          |0/1, best_cost=1.43e+11"
          ]
        },
        {
          "output_type": "stream",
          "name": "stdout",
          "text": [
            "\n",
            "=========================================================================\n",
            "\n",
            "Número de ciclos de manutenção: 17 5\n",
            "Tempos para manutenções preventivas: [0, 1, 70, 91, 159, 252, 340, 361, 429, 452, 520, 541, 610, 632, 702, 722, 790, 877]\n",
            "Severidade para cada subsistema: [0.75, 0.5, 0.75, 0.5, 0.5, 0.5, 0.75, 0.5, 0.75, 0.5, 0.75, 0.5, 0.75, 0.5, 0.75, 0.5, 0.5]\n",
            "Número de Sisemas: 5\n",
            "Fator:  [0.3296799539643607, 0.7768698398515702, 0.6321205588285577, 0.7768698398515702, 0.6321205588285577, 0.6321205588285577, 0.6321205588285577, 0.7768698398515702, 0.6321205588285577, 0.7768698398515702, 0.6321205588285577, 0.7768698398515702, 0.6321205588285577, 0.7768698398515702, 0.6321205588285577, 0.7768698398515702, 0.6321205588285577, 0.6321205588285577]\n",
            "Media de falhas:  [0, 0.00032, 525277.7515387319, 546051.4751908119, 3976006.158956128, 15159842.493734661, 74629325.03878616, 86118552.90351255, 177375196.13871205, 182351268.21299765, 367532683.0203955, 376262927.5300213, 718937320.4240794, 735607355.5409862, 1328747573.984614, 1353599356.3233764, 2252902617.3186936, 2603186476.75683, 1538059131.6478062]\n",
            "Custo =  184146598159.9567\n"
          ]
        },
        {
          "output_type": "stream",
          "name": "stderr",
          "text": [
            "\rpyswarms.single.global_best: 100%|██████████|1/1, best_cost=1.43e+11\n",
            "2023-08-25 14:18:04,964 - pyswarms.single.global_best - INFO - Optimization finished | best cost: 143304585850.20178, best pos: [5.03803382 2.76183123 3.35288626]\n",
            "2023-08-25 14:18:04,965 - pyswarms.single.global_best - INFO - Optimize for 1 iters with {'c1': 0.5, 'c2': 0.3, 'w': 0.9}\n",
            "pyswarms.single.global_best:   0%|          |0/1, best_cost=1.43e+11"
          ]
        },
        {
          "output_type": "stream",
          "name": "stdout",
          "text": [
            "\n",
            "=========================================================================\n",
            "\n",
            "Número de ciclos de manutenção: 18 5\n",
            "Tempos para manutenções preventivas: [0, 1, 70, 91, 159, 253, 284, 340, 361, 429, 453, 520, 541, 610, 632, 702, 722, 790, 876]\n",
            "Severidade para cada subsistema: [0.75, 0.5, 0.75, 0.5, 0.5, 0.25, 0.5, 0.75, 0.5, 0.75, 0.5, 0.75, 0.5, 0.75, 0.5, 0.75, 0.5, 0.5]\n",
            "Número de Sisemas: 5\n",
            "Fator:  [0.3296799539643607, 0.7768698398515702, 0.6321205588285577, 0.7768698398515702, 0.6321205588285577, 0.6321205588285577, 0.3934693402873666, 0.6321205588285577, 0.7768698398515702, 0.6321205588285577, 0.7768698398515702, 0.6321205588285577, 0.7768698398515702, 0.6321205588285577, 0.7768698398515702, 0.6321205588285577, 0.7768698398515702, 0.6321205588285577, 0.6321205588285577]\n",
            "Media de falhas:  [0, 0.00032, 525277.7515387319, 546051.4751908119, 3976006.158956128, 15602626.053239625, 22776648.23849474, 52851509.21115489, 127320117.77633564, 218576761.0115351, 223876108.80914408, 405574941.3884216, 414305185.8980474, 756979578.7921054, 773649613.9090122, 1366789832.3526397, 1391641614.6914022, 2290944875.6867194, 2633600133.4705644, 1575804962.083331]\n",
            "Custo =  196329690974.35483\n"
          ]
        },
        {
          "output_type": "stream",
          "name": "stderr",
          "text": [
            "\rpyswarms.single.global_best: 100%|██████████|1/1, best_cost=1.43e+11\n",
            "2023-08-25 14:18:04,975 - pyswarms.single.global_best - INFO - Optimization finished | best cost: 143304585850.20178, best pos: [5.03812566 2.76180393 3.3528884 ]\n",
            "2023-08-25 14:18:04,976 - pyswarms.single.global_best - INFO - Optimize for 1 iters with {'c1': 0.5, 'c2': 0.3, 'w': 0.9}\n",
            "pyswarms.single.global_best: 100%|██████████|1/1, best_cost=1.43e+11\n",
            "2023-08-25 14:18:04,983 - pyswarms.single.global_best - INFO - Optimization finished | best cost: 143304585850.20178, best pos: [5.03821564 2.76173047 3.35288921]\n",
            "2023-08-25 14:18:04,985 - pyswarms.single.global_best - INFO - Optimize for 1 iters with {'c1': 0.5, 'c2': 0.3, 'w': 0.9}\n"
          ]
        },
        {
          "output_type": "stream",
          "name": "stdout",
          "text": [
            "\n",
            "=========================================================================\n",
            "\n",
            "Número de ciclos de manutenção: 19 5\n",
            "Tempos para manutenções preventivas: [0, 1, 70, 91, 159, 180, 252, 272, 340, 361, 430, 453, 520, 541, 610, 632, 702, 722, 790, 877]\n",
            "Severidade para cada subsistema: [0.75, 0.5, 0.75, 0.5, 0.75, 0.5, 0.5, 0.5, 0.75, 0.5, 0.75, 0.5, 0.75, 0.5, 0.75, 0.5, 0.75, 0.5, 0.5]\n",
            "Número de Sisemas: 5\n",
            "Fator:  [0.3296799539643607, 0.7768698398515702, 0.6321205588285577, 0.7768698398515702, 0.6321205588285577, 0.7768698398515702, 0.6321205588285577, 0.6321205588285577, 0.6321205588285577, 0.7768698398515702, 0.6321205588285577, 0.7768698398515702, 0.6321205588285577, 0.7768698398515702, 0.6321205588285577, 0.7768698398515702, 0.6321205588285577, 0.7768698398515702, 0.6321205588285577, 0.6321205588285577]\n",
            "Media de falhas:  [0, 0.00032, 525277.7515387319, 546051.4751908119, 3976006.158956128, 4141900.6092129806, 19877239.54619519, 20521030.74375144, 60216430.014228106, 71705657.8789545, 165589779.10478252, 170606932.12376314, 352305764.70304066, 361036009.21266645, 703710402.1067245, 720380437.2236313, 1313520655.6672587, 1338372438.0060213, 2237675699.0013385, 2587959558.439475, 1522832213.330451]\n",
            "Custo =  184368313130.35016\n"
          ]
        },
        {
          "output_type": "stream",
          "name": "stderr",
          "text": [
            "pyswarms.single.global_best: 100%|██████████|1/1, best_cost=1.43e+11\n",
            "2023-08-25 14:18:04,993 - pyswarms.single.global_best - INFO - Optimization finished | best cost: 143304585850.20178, best pos: [5.03829134 2.76165917 3.35288942]\n",
            "2023-08-25 14:18:04,994 - pyswarms.single.global_best - INFO - Optimize for 1 iters with {'c1': 0.5, 'c2': 0.3, 'w': 0.9}\n"
          ]
        },
        {
          "output_type": "stream",
          "name": "stdout",
          "text": [
            "\n",
            "=========================================================================\n",
            "\n",
            "Número de ciclos de manutenção: 19 5\n",
            "Tempos para manutenções preventivas: [0, 1, 70, 90, 160, 180, 252, 272, 339, 361, 430, 452, 520, 540, 610, 632, 701, 722, 790, 878]\n",
            "Severidade para cada subsistema: [0.75, 0.5, 0.75, 0.5, 0.75, 0.5, 0.75, 0.5, 0.75, 0.5, 0.75, 0.5, 0.75, 0.5, 0.75, 0.5, 0.75, 0.5, 0.5]\n",
            "Número de Sisemas: 5\n",
            "Fator:  [0.3296799539643607, 0.7768698398515702, 0.6321205588285577, 0.7768698398515702, 0.6321205588285577, 0.7768698398515702, 0.6321205588285577, 0.7768698398515702, 0.6321205588285577, 0.7768698398515702, 0.6321205588285577, 0.7768698398515702, 0.6321205588285577, 0.7768698398515702, 0.6321205588285577, 0.7768698398515702, 0.6321205588285577, 0.7768698398515702, 0.6321205588285577, 0.6321205588285577]\n",
            "Media de falhas:  [0, 0.00032, 525277.7515387319, 543327.3025771828, 4259970.067085848, 4412988.268189513, 20148327.205171723, 20792118.402727973, 59226148.009660766, 61273726.96849376, 155157848.19432178, 159860069.35247612, 345041484.159874, 353215805.83203423, 702054200.570104, 718724235.6870108, 1298555343.8354118, 1324842153.9331672, 2224145414.9284844, 2582174664.826017, 1509699912.656503]\n",
            "Custo =  182517256512.20828\n"
          ]
        },
        {
          "output_type": "stream",
          "name": "stderr",
          "text": [
            "pyswarms.single.global_best: 100%|██████████|1/1, best_cost=1.43e+11\n",
            "2023-08-25 14:18:05,002 - pyswarms.single.global_best - INFO - Optimization finished | best cost: 143304585850.20178, best pos: [5.0383508  2.76158927 3.3528885 ]\n",
            "2023-08-25 14:18:05,004 - pyswarms.single.global_best - INFO - Optimize for 1 iters with {'c1': 0.5, 'c2': 0.3, 'w': 0.9}\n"
          ]
        },
        {
          "output_type": "stream",
          "name": "stdout",
          "text": [
            "\n",
            "=========================================================================\n",
            "\n",
            "Número de ciclos de manutenção: 19 5\n",
            "Tempos para manutenções preventivas: [0, 1, 70, 90, 160, 181, 251, 339, 361, 431, 451, 520, 540, 610, 632, 701, 722, 790, 813, 879]\n",
            "Severidade para cada subsistema: [0.75, 0.5, 0.75, 0.5, 0.75, 0.5, 0.5, 0.75, 0.5, 0.75, 0.5, 0.75, 0.5, 0.75, 0.5, 0.75, 0.5, 0.75, 0.5]\n",
            "Número de Sisemas: 5\n",
            "Fator:  [0.3296799539643607, 0.7768698398515702, 0.6321205588285577, 0.7768698398515702, 0.6321205588285577, 0.7768698398515702, 0.6321205588285577, 0.6321205588285577, 0.7768698398515702, 0.6321205588285577, 0.7768698398515702, 0.6321205588285577, 0.7768698398515702, 0.6321205588285577, 0.7768698398515702, 0.6321205588285577, 0.7768698398515702, 0.6321205588285577, 0.7768698398515702, 0.6321205588285577]\n",
            "Media de falhas:  [0, 0.00032, 525277.7515387319, 543327.3025771828, 4259970.067085848, 4428952.92216163, 19222001.692698784, 38863136.073210746, 50960132.6580689, 147524330.90079427, 151662302.09652227, 340355201.74000037, 348529523.4121606, 697367918.1502304, 714037953.2671372, 1293869061.4155383, 1320155871.5132937, 2219459132.5086107, 2265551158.4535985, 3575239408.843094, 3482441629.709335]\n",
            "Custo =  227502730514.13245\n"
          ]
        },
        {
          "output_type": "stream",
          "name": "stderr",
          "text": [
            "pyswarms.single.global_best: 100%|██████████|1/1, best_cost=1.43e+11\n",
            "2023-08-25 14:18:05,012 - pyswarms.single.global_best - INFO - Optimization finished | best cost: 143304585850.20178, best pos: [5.03836968 2.76153036 3.35288657]\n",
            "2023-08-25 14:18:05,013 - pyswarms.single.global_best - INFO - Optimize for 1 iters with {'c1': 0.5, 'c2': 0.3, 'w': 0.9}\n"
          ]
        },
        {
          "output_type": "stream",
          "name": "stdout",
          "text": [
            "\n",
            "=========================================================================\n",
            "\n",
            "Número de ciclos de manutenção: 20 5\n",
            "Tempos para manutenções preventivas: [0, 1, 70, 90, 160, 181, 250, 273, 340, 361, 431, 451, 520, 540, 610, 631, 700, 722, 790, 817, 880]\n",
            "Severidade para cada subsistema: [0.75, 0.5, 0.75, 0.5, 0.75, 0.5, 0.25, 0.5, 0.75, 0.5, 0.75, 0.5, 0.75, 0.5, 0.75, 0.5, 0.75, 0.5, 0.75, 0.5]\n",
            "Número de Sisemas: 5\n",
            "Fator:  [0.3296799539643607, 0.7768698398515702, 0.6321205588285577, 0.7768698398515702, 0.6321205588285577, 0.7768698398515702, 0.6321205588285577, 0.3934693402873666, 0.6321205588285577, 0.7768698398515702, 0.6321205588285577, 0.7768698398515702, 0.6321205588285577, 0.7768698398515702, 0.6321205588285577, 0.7768698398515702, 0.6321205588285577, 0.7768698398515702, 0.6321205588285577, 0.7768698398515702, 0.6321205588285577]\n",
            "Media de falhas:  [0, 0.00032, 525277.7515387319, 543327.3025771828, 4259970.067085848, 4428952.92216163, 18673234.94594298, 19471576.398560077, 58306694.558644794, 132775303.12382555, 229339501.36655092, 233477472.56227893, 422170372.205757, 430344693.87791723, 779183088.6159871, 794865805.4900185, 1371559507.3754978, 1399301695.688552, 2298604956.6838694, 2355202230.699366, 3602779819.146033, 3509446618.720477]\n",
            "Custo =  241046879051.2789\n"
          ]
        },
        {
          "output_type": "stream",
          "name": "stderr",
          "text": [
            "pyswarms.single.global_best: 100%|██████████|1/1, best_cost=1.43e+11\n",
            "2023-08-25 14:18:05,021 - pyswarms.single.global_best - INFO - Optimization finished | best cost: 143304585850.20178, best pos: [5.03835567 2.76149845 3.3528836 ]\n",
            "2023-08-25 14:18:05,023 - pyswarms.single.global_best - INFO - Optimize for 1 iters with {'c1': 0.5, 'c2': 0.3, 'w': 0.9}\n"
          ]
        },
        {
          "output_type": "stream",
          "name": "stdout",
          "text": [
            "\n",
            "=========================================================================\n",
            "\n",
            "Número de ciclos de manutenção: 20 5\n",
            "Tempos para manutenções preventivas: [0, 1, 70, 90, 160, 181, 249, 272, 340, 361, 431, 450, 520, 540, 610, 631, 699, 721, 790, 819, 881]\n",
            "Severidade para cada subsistema: [0.75, 0.5, 0.75, 0.5, 0.75, 0.5, 0.5, 0.5, 0.75, 0.5, 0.75, 0.5, 0.75, 0.5, 0.75, 0.5, 0.75, 0.5, 0.75, 0.5]\n",
            "Número de Sisemas: 5\n",
            "Fator:  [0.3296799539643607, 0.7768698398515702, 0.6321205588285577, 0.7768698398515702, 0.6321205588285577, 0.7768698398515702, 0.6321205588285577, 0.6321205588285577, 0.6321205588285577, 0.7768698398515702, 0.6321205588285577, 0.7768698398515702, 0.6321205588285577, 0.7768698398515702, 0.6321205588285577, 0.7768698398515702, 0.6321205588285577, 0.7768698398515702, 0.6321205588285577, 0.7768698398515702, 0.6321205588285577]\n",
            "Media de falhas:  [0, 0.00032, 525277.7515387319, 543327.3025771828, 4259970.067085848, 4428952.92216163, 18140421.040681735, 18928516.386686, 58623915.65716267, 70113143.52188906, 166677341.7646144, 170528891.4546326, 362762471.8143823, 370936793.4865425, 719775188.2246122, 735457905.0986437, 1299081992.121539, 1326677013.7951849, 2241476936.674057, 2303646237.362668, 3534194832.8758907, 3440324183.7049403]\n",
            "Custo =  229270425464.31342\n"
          ]
        },
        {
          "output_type": "stream",
          "name": "stderr",
          "text": [
            "pyswarms.single.global_best: 100%|██████████|1/1, best_cost=1.43e+11\n",
            "2023-08-25 14:18:05,031 - pyswarms.single.global_best - INFO - Optimization finished | best cost: 143304585850.20178, best pos: [5.03830591 2.76149586 3.35288078]\n",
            "2023-08-25 14:18:05,032 - pyswarms.single.global_best - INFO - Optimize for 1 iters with {'c1': 0.5, 'c2': 0.3, 'w': 0.9}\n"
          ]
        },
        {
          "output_type": "stream",
          "name": "stdout",
          "text": [
            "\n",
            "=========================================================================\n",
            "\n",
            "Número de ciclos de manutenção: 20 5\n",
            "Tempos para manutenções preventivas: [0, 1, 70, 90, 161, 182, 249, 270, 340, 361, 431, 450, 520, 540, 610, 630, 699, 720, 790, 821, 882]\n",
            "Severidade para cada subsistema: [0.75, 0.5, 0.75, 0.5, 0.75, 0.5, 0.75, 0.5, 0.75, 0.5, 0.75, 0.5, 0.75, 0.5, 0.75, 0.5, 0.75, 0.5, 0.75, 0.5]\n",
            "Número de Sisemas: 5\n",
            "Fator:  [0.3296799539643607, 0.7768698398515702, 0.6321205588285577, 0.7768698398515702, 0.6321205588285577, 0.7768698398515702, 0.6321205588285577, 0.7768698398515702, 0.6321205588285577, 0.7768698398515702, 0.6321205588285577, 0.7768698398515702, 0.6321205588285577, 0.7768698398515702, 0.6321205588285577, 0.7768698398515702, 0.6321205588285577, 0.7768698398515702, 0.6321205588285577, 0.7768698398515702, 0.6321205588285577]\n",
            "Media de falhas:  [0, 0.00032, 525277.7515387319, 543327.3025771828, 4444358.0649927305, 4616472.911370416, 17987509.54278626, 18659771.88103059, 60109695.51775436, 62034322.28021666, 158598520.522942, 162450070.2129602, 354683650.5727099, 362857972.2448701, 711696366.98294, 726416585.2417688, 1299985698.3472664, 1325993610.413906, 2256369522.955096, 2324332289.7522445, 3537778559.8958726, 3443368407.2712193]\n",
            "Custo =  227966958812.60648\n"
          ]
        },
        {
          "output_type": "stream",
          "name": "stderr",
          "text": [
            "pyswarms.single.global_best: 100%|██████████|1/1, best_cost=1.43e+11\n",
            "2023-08-25 14:18:05,041 - pyswarms.single.global_best - INFO - Optimization finished | best cost: 143304585850.20178, best pos: [5.03825357 2.76149709 3.35287841]\n",
            "2023-08-25 14:18:05,042 - pyswarms.single.global_best - INFO - Optimize for 1 iters with {'c1': 0.5, 'c2': 0.3, 'w': 0.9}\n"
          ]
        },
        {
          "output_type": "stream",
          "name": "stdout",
          "text": [
            "\n",
            "=========================================================================\n",
            "\n",
            "Número de ciclos de manutenção: 18 5\n",
            "Tempos para manutenções preventivas: [0, 1, 70, 90, 161, 182, 248, 340, 361, 431, 520, 540, 610, 630, 699, 720, 790, 820, 882]\n",
            "Severidade para cada subsistema: [0.75, 0.5, 0.75, 0.5, 0.75, 0.5, 0.5, 0.75, 0.5, 0.5, 0.75, 0.5, 0.75, 0.5, 0.75, 0.5, 0.75, 0.5]\n",
            "Número de Sisemas: 5\n",
            "Fator:  [0.3296799539643607, 0.7768698398515702, 0.6321205588285577, 0.7768698398515702, 0.6321205588285577, 0.7768698398515702, 0.6321205588285577, 0.6321205588285577, 0.7768698398515702, 0.6321205588285577, 0.6321205588285577, 0.7768698398515702, 0.6321205588285577, 0.7768698398515702, 0.6321205588285577, 0.7768698398515702, 0.6321205588285577, 0.7768698398515702, 0.6321205588285577]\n",
            "Media de falhas:  [0, 0.00032, 525277.7515387319, 543327.3025771828, 4444358.0649927305, 4616472.911370416, 17479982.35119204, 39531615.48450717, 51020843.34923357, 147585041.59195894, 214614243.75776327, 267415065.9913207, 616253460.7293905, 630973678.9882194, 1204542792.093717, 1230550704.1603568, 2160926616.7015467, 2225964565.0103292, 3461924716.958173, 3367514564.3335195]\n",
            "Custo =  228445946324.37924\n"
          ]
        },
        {
          "output_type": "stream",
          "name": "stderr",
          "text": [
            "pyswarms.single.global_best: 100%|██████████|1/1, best_cost=1.43e+11\n",
            "2023-08-25 14:18:05,050 - pyswarms.single.global_best - INFO - Optimization finished | best cost: 143304585850.20178, best pos: [5.03819169 2.76152329 3.35287677]\n",
            "2023-08-25 14:18:05,051 - pyswarms.single.global_best - INFO - Optimize for 1 iters with {'c1': 0.5, 'c2': 0.3, 'w': 0.9}\n"
          ]
        },
        {
          "output_type": "stream",
          "name": "stdout",
          "text": [
            "\n",
            "=========================================================================\n",
            "\n",
            "Número de ciclos de manutenção: 19 5\n",
            "Tempos para manutenções preventivas: [0, 1, 70, 91, 161, 182, 248, 271, 341, 361, 431, 450, 520, 541, 610, 630, 699, 790, 817, 882]\n",
            "Severidade para cada subsistema: [0.75, 0.5, 0.75, 0.5, 0.75, 0.5, 0.25, 0.5, 0.75, 0.5, 0.75, 0.5, 0.75, 0.5, 0.75, 0.5, 0.5, 0.75, 0.5]\n",
            "Número de Sisemas: 5\n",
            "Fator:  [0.3296799539643607, 0.7768698398515702, 0.6321205588285577, 0.7768698398515702, 0.6321205588285577, 0.7768698398515702, 0.6321205588285577, 0.3934693402873666, 0.6321205588285577, 0.7768698398515702, 0.6321205588285577, 0.7768698398515702, 0.6321205588285577, 0.7768698398515702, 0.6321205588285577, 0.7768698398515702, 0.6321205588285577, 0.6321205588285577, 0.7768698398515702, 0.6321205588285577]\n",
            "Media de falhas:  [0, 0.00032, 525277.7515387319, 546051.4751908119, 4328976.966048022, 4501091.8124257075, 17364601.25224733, 18142550.33115884, 60020738.94926837, 131051594.92049962, 227615793.163225, 231467342.8532432, 423700923.2129929, 432431167.7226187, 775105560.6166768, 789825778.8755057, 1363394891.9810033, 1627864556.6420693, 1998886275.4738004, 3302986275.042614, 3208576122.4179606]\n",
            "Custo =  242161589868.62863\n"
          ]
        },
        {
          "output_type": "stream",
          "name": "stderr",
          "text": [
            "pyswarms.single.global_best: 100%|██████████|1/1, best_cost=1.43e+11\n",
            "2023-08-25 14:18:05,337 - pyswarms.single.global_best - INFO - Optimization finished | best cost: 143304585850.20178, best pos: [5.03813648 2.76156651 3.35287639]\n",
            "2023-08-25 14:18:05,339 - pyswarms.single.global_best - INFO - Optimize for 1 iters with {'c1': 0.5, 'c2': 0.3, 'w': 0.9}\n"
          ]
        },
        {
          "output_type": "stream",
          "name": "stdout",
          "text": [
            "\n",
            "=========================================================================\n",
            "\n",
            "Número de ciclos de manutenção: 18 5\n",
            "Tempos para manutenções preventivas: [0, 1, 70, 91, 161, 182, 248, 341, 361, 430, 450, 520, 541, 610, 630, 699, 790, 813, 881]\n",
            "Severidade para cada subsistema: [0.75, 0.5, 0.75, 0.5, 0.75, 0.5, 0.5, 0.75, 0.5, 0.75, 0.5, 0.75, 0.5, 0.75, 0.5, 0.5, 0.75, 0.5]\n",
            "Número de Sisemas: 5\n",
            "Fator:  [0.3296799539643607, 0.7768698398515702, 0.6321205588285577, 0.7768698398515702, 0.6321205588285577, 0.7768698398515702, 0.6321205588285577, 0.6321205588285577, 0.7768698398515702, 0.6321205588285577, 0.7768698398515702, 0.6321205588285577, 0.7768698398515702, 0.6321205588285577, 0.7768698398515702, 0.6321205588285577, 0.6321205588285577, 0.7768698398515702, 0.6321205588285577]\n",
            "Media de falhas:  [0, 0.00032, 525277.7515387319, 546051.4751908119, 4328976.966048022, 4501091.8124257075, 17364601.25224733, 40180517.06638385, 51068252.936189964, 144952374.162018, 149055970.78979135, 341289551.149541, 350019795.6591668, 692694188.5532249, 707414406.8120538, 1280983519.9175515, 1545453184.5786176, 1852956568.9210682, 3220121128.7630167, 3126250479.5920663]\n",
            "Custo =  227204398914.41132\n"
          ]
        },
        {
          "output_type": "stream",
          "name": "stderr",
          "text": [
            "pyswarms.single.global_best: 100%|██████████|1/1, best_cost=1.43e+11\n",
            "2023-08-25 14:18:05,356 - pyswarms.single.global_best - INFO - Optimization finished | best cost: 143304585850.20178, best pos: [5.03809492 2.76161129 3.35287753]\n",
            "2023-08-25 14:18:05,358 - pyswarms.single.global_best - INFO - Optimize for 1 iters with {'c1': 0.5, 'c2': 0.3, 'w': 0.9}\n"
          ]
        },
        {
          "output_type": "stream",
          "name": "stdout",
          "text": [
            "\n",
            "=========================================================================\n",
            "\n",
            "Número de ciclos de manutenção: 18 5\n",
            "Tempos para manutenções preventivas: [0, 1, 70, 91, 160, 182, 248, 341, 361, 430, 450, 520, 541, 610, 630, 700, 790, 810, 880]\n",
            "Severidade para cada subsistema: [0.75, 0.5, 0.75, 0.5, 0.75, 0.5, 0.5, 0.75, 0.5, 0.75, 0.5, 0.75, 0.5, 0.75, 0.5, 0.5, 0.75, 0.5]\n",
            "Número de Sisemas: 5\n",
            "Fator:  [0.3296799539643607, 0.7768698398515702, 0.6321205588285577, 0.7768698398515702, 0.6321205588285577, 0.7768698398515702, 0.6321205588285577, 0.6321205588285577, 0.7768698398515702, 0.6321205588285577, 0.7768698398515702, 0.6321205588285577, 0.7768698398515702, 0.6321205588285577, 0.7768698398515702, 0.6321205588285577, 0.6321205588285577, 0.7768698398515702, 0.6321205588285577]\n",
            "Media de falhas:  [0, 0.00032, 525277.7515387319, 546051.4751908119, 4149047.6648599235, 4335162.025596766, 17198671.465418387, 40014587.2795549, 50902323.149361014, 144786444.37518904, 148890041.00296238, 341123621.362712, 349853865.8723378, 692528258.7663959, 707248477.0252248, 1293997474.6184459, 1553660134.136025, 1815604519.3249202, 3222964322.736296, 3129631122.3107405]\n",
            "Custo =  226303198270.07428\n"
          ]
        },
        {
          "output_type": "stream",
          "name": "stderr",
          "text": [
            "pyswarms.single.global_best: 100%|██████████|1/1, best_cost=1.43e+11\n",
            "2023-08-25 14:18:05,374 - pyswarms.single.global_best - INFO - Optimization finished | best cost: 143304585850.20178, best pos: [5.03806975 2.76165241 3.35287915]\n",
            "2023-08-25 14:18:05,375 - pyswarms.single.global_best - INFO - Optimize for 1 iters with {'c1': 0.5, 'c2': 0.3, 'w': 0.9}\n"
          ]
        },
        {
          "output_type": "stream",
          "name": "stdout",
          "text": [
            "\n",
            "=========================================================================\n",
            "\n",
            "Número de ciclos de manutenção: 17 5\n",
            "Tempos para manutenções preventivas: [0, 1, 70, 91, 160, 181, 248, 340, 361, 430, 451, 520, 541, 610, 630, 700, 790, 880]\n",
            "Severidade para cada subsistema: [0.75, 0.5, 0.75, 0.5, 0.75, 0.5, 0.5, 0.75, 0.5, 0.75, 0.5, 0.75, 0.5, 0.75, 0.5, 0.5, 0.5]\n",
            "Número de Sisemas: 5\n",
            "Fator:  [0.3296799539643607, 0.7768698398515702, 0.6321205588285577, 0.7768698398515702, 0.6321205588285577, 0.7768698398515702, 0.6321205588285577, 0.6321205588285577, 0.7768698398515702, 0.6321205588285577, 0.7768698398515702, 0.6321205588285577, 0.7768698398515702, 0.6321205588285577, 0.7768698398515702, 0.6321205588285577, 0.6321205588285577, 0.6321205588285577]\n",
            "Media de falhas:  [0, 0.00032, 525277.7515387319, 546051.4751908119, 4149047.6648599235, 4318030.519935706, 17512287.202995364, 39563920.3363105, 51053148.2010369, 144937269.42686492, 149335060.06830603, 338027959.7117841, 346758204.2214099, 689432597.115468, 704152815.3742969, 1290901812.9675179, 1550564472.485097, 3443544428.4031506, 2356328168.2773314]\n",
            "Custo =  204095421566.25018\n"
          ]
        },
        {
          "output_type": "stream",
          "name": "stderr",
          "text": [
            "pyswarms.single.global_best: 100%|██████████|1/1, best_cost=1.43e+11\n",
            "2023-08-25 14:18:05,397 - pyswarms.single.global_best - INFO - Optimization finished | best cost: 143304585850.20178, best pos: [5.03808043 2.76168459 3.35288072]\n",
            "2023-08-25 14:18:05,401 - pyswarms.single.global_best - INFO - Optimize for 1 iters with {'c1': 0.5, 'c2': 0.3, 'w': 0.9}\n"
          ]
        },
        {
          "output_type": "stream",
          "name": "stdout",
          "text": [
            "\n",
            "=========================================================================\n",
            "\n",
            "Número de ciclos de manutenção: 17 5\n",
            "Tempos para manutenções preventivas: [0, 1, 70, 91, 160, 181, 249, 340, 361, 430, 451, 520, 541, 610, 631, 701, 790, 879]\n",
            "Severidade para cada subsistema: [0.75, 0.5, 0.75, 0.5, 0.75, 0.5, 0.5, 0.75, 0.5, 0.75, 0.5, 0.75, 0.5, 0.75, 0.5, 0.5, 0.5]\n",
            "Número de Sisemas: 5\n",
            "Fator:  [0.3296799539643607, 0.7768698398515702, 0.6321205588285577, 0.7768698398515702, 0.6321205588285577, 0.7768698398515702, 0.6321205588285577, 0.6321205588285577, 0.7768698398515702, 0.6321205588285577, 0.7768698398515702, 0.6321205588285577, 0.7768698398515702, 0.6321205588285577, 0.7768698398515702, 0.6321205588285577, 0.6321205588285577, 0.6321205588285577]\n",
            "Media de falhas:  [0, 0.00032, 525277.7515387319, 546051.4751908119, 4149047.6648599235, 4318030.519935706, 18029498.63845581, 39498158.76114746, 50987386.62587386, 144871507.8517019, 149269298.493143, 337962198.1366211, 346692442.6462469, 689366835.540305, 705049552.4143364, 1294987633.48587, 1549899709.9849248, 3409473539.9272037, 2329635898.692259]\n",
            "Custo =  203681111914.75452\n"
          ]
        },
        {
          "output_type": "stream",
          "name": "stderr",
          "text": [
            "pyswarms.single.global_best: 100%|██████████|1/1, best_cost=1.43e+11\n",
            "2023-08-25 14:18:05,416 - pyswarms.single.global_best - INFO - Optimization finished | best cost: 143304585850.20178, best pos: [5.03811211 2.76170129 3.35288225]\n",
            "2023-08-25 14:18:05,423 - pyswarms.single.global_best - INFO - Optimize for 1 iters with {'c1': 0.5, 'c2': 0.3, 'w': 0.9}\n"
          ]
        },
        {
          "output_type": "stream",
          "name": "stdout",
          "text": [
            "\n",
            "=========================================================================\n",
            "\n",
            "Número de ciclos de manutenção: 18 5\n",
            "Tempos para manutenções preventivas: [0, 1, 70, 91, 160, 180, 249, 340, 361, 430, 451, 520, 541, 610, 631, 701, 720, 790, 879]\n",
            "Severidade para cada subsistema: [0.75, 0.5, 0.75, 0.5, 0.75, 0.5, 0.5, 0.75, 0.5, 0.75, 0.5, 0.75, 0.5, 0.75, 0.5, 0.75, 0.5, 0.5]\n",
            "Número de Sisemas: 5\n",
            "Fator:  [0.3296799539643607, 0.7768698398515702, 0.6321205588285577, 0.7768698398515702, 0.6321205588285577, 0.7768698398515702, 0.6321205588285577, 0.6321205588285577, 0.7768698398515702, 0.6321205588285577, 0.7768698398515702, 0.6321205588285577, 0.7768698398515702, 0.6321205588285577, 0.7768698398515702, 0.6321205588285577, 0.7768698398515702, 0.6321205588285577, 0.6321205588285577]\n",
            "Media de falhas:  [0, 0.00032, 525277.7515387319, 546051.4751908119, 4149047.6648599235, 4302065.8659635885, 18359944.035692062, 39828604.15838371, 51317832.02311011, 145201953.24893814, 149599743.89037925, 338292643.53385735, 347022888.04348314, 689697280.9375412, 705379997.8115727, 1295318078.8831062, 1318505240.3836064, 2248881152.924796, 2614773917.952825, 1534936276.7178802]\n",
            "Custo =  183145311276.90396\n"
          ]
        },
        {
          "output_type": "stream",
          "name": "stderr",
          "text": [
            "pyswarms.single.global_best: 100%|██████████|1/1, best_cost=1.43e+11\n",
            "2023-08-25 14:18:05,438 - pyswarms.single.global_best - INFO - Optimization finished | best cost: 143304585850.20178, best pos: [5.03816349 2.76169898 3.35288347]\n",
            "2023-08-25 14:18:05,443 - pyswarms.single.global_best - INFO - Optimize for 1 iters with {'c1': 0.5, 'c2': 0.3, 'w': 0.9}\n"
          ]
        },
        {
          "output_type": "stream",
          "name": "stdout",
          "text": [
            "\n",
            "=========================================================================\n",
            "\n",
            "Número de ciclos de manutenção: 18 5\n",
            "Tempos para manutenções preventivas: [0, 1, 70, 91, 160, 180, 250, 340, 361, 430, 451, 520, 541, 610, 631, 701, 720, 790, 879]\n",
            "Severidade para cada subsistema: [0.75, 0.5, 0.75, 0.5, 0.75, 0.5, 0.5, 0.75, 0.5, 0.75, 0.5, 0.75, 0.5, 0.75, 0.5, 0.75, 0.5, 0.5]\n",
            "Número de Sisemas: 5\n",
            "Fator:  [0.3296799539643607, 0.7768698398515702, 0.6321205588285577, 0.7768698398515702, 0.6321205588285577, 0.7768698398515702, 0.6321205588285577, 0.6321205588285577, 0.7768698398515702, 0.6321205588285577, 0.7768698398515702, 0.6321205588285577, 0.7768698398515702, 0.6321205588285577, 0.7768698398515702, 0.6321205588285577, 0.7768698398515702, 0.6321205588285577, 0.6321205588285577]\n",
            "Media de falhas:  [0, 0.00032, 525277.7515387319, 546051.4751908119, 4149047.6648599235, 4302065.8659635885, 18902800.993072666, 39800593.18140558, 51289821.04613198, 145173942.27196002, 149571732.91340113, 338264632.5568792, 346994877.066505, 689669269.9605632, 705351986.8345946, 1295290067.906128, 1318477229.4066281, 2248853141.947818, 2614745906.975847, 1534908265.740902]\n",
            "Custo =  183149802934.8941\n"
          ]
        },
        {
          "output_type": "stream",
          "name": "stderr",
          "text": [
            "pyswarms.single.global_best: 100%|██████████|1/1, best_cost=1.43e+11\n",
            "2023-08-25 14:18:05,458 - pyswarms.single.global_best - INFO - Optimization finished | best cost: 143304585850.20178, best pos: [5.03821451 2.76169148 3.35288408]\n",
            "2023-08-25 14:18:05,459 - pyswarms.single.global_best - INFO - Optimize for 1 iters with {'c1': 0.5, 'c2': 0.3, 'w': 0.9}\n"
          ]
        },
        {
          "output_type": "stream",
          "name": "stdout",
          "text": [
            "\n",
            "=========================================================================\n",
            "\n",
            "Número de ciclos de manutenção: 18 5\n",
            "Tempos para manutenções preventivas: [0, 1, 70, 91, 160, 180, 251, 340, 361, 430, 452, 520, 541, 610, 632, 701, 721, 790, 879]\n",
            "Severidade para cada subsistema: [0.75, 0.5, 0.75, 0.5, 0.75, 0.5, 0.5, 0.75, 0.5, 0.75, 0.5, 0.75, 0.5, 0.75, 0.5, 0.75, 0.5, 0.5]\n",
            "Número de Sisemas: 5\n",
            "Fator:  [0.3296799539643607, 0.7768698398515702, 0.6321205588285577, 0.7768698398515702, 0.6321205588285577, 0.7768698398515702, 0.6321205588285577, 0.6321205588285577, 0.7768698398515702, 0.6321205588285577, 0.7768698398515702, 0.6321205588285577, 0.7768698398515702, 0.6321205588285577, 0.7768698398515702, 0.6321205588285577, 0.7768698398515702, 0.6321205588285577, 0.6321205588285577]\n",
            "Media de falhas:  [0, 0.00032, 525277.7515387319, 546051.4751908119, 4149047.6648599235, 4302065.8659635885, 19461834.95243952, 39800671.28084934, 51289899.14557573, 145174020.37140375, 149876241.5295581, 335057656.336956, 343787900.8465818, 686462293.7406399, 703132328.8575467, 1282963437.0059476, 1307682853.366399, 2222482776.2452717, 2588375541.2733006, 1508537900.0383558]\n",
            "Custo =  183002740052.35803\n"
          ]
        },
        {
          "output_type": "stream",
          "name": "stderr",
          "text": [
            "pyswarms.single.global_best: 100%|██████████|1/1, best_cost=1.43e+11\n",
            "2023-08-25 14:18:05,472 - pyswarms.single.global_best - INFO - Optimization finished | best cost: 143304585850.20178, best pos: [5.03825565 2.76167284 3.35288407]\n",
            "2023-08-25 14:18:05,477 - pyswarms.single.global_best - INFO - Optimize for 1 iters with {'c1': 0.5, 'c2': 0.3, 'w': 0.9}\n"
          ]
        },
        {
          "output_type": "stream",
          "name": "stdout",
          "text": [
            "\n",
            "=========================================================================\n",
            "\n",
            "Número de ciclos de manutenção: 19 5\n",
            "Tempos para manutenções preventivas: [0, 1, 70, 91, 160, 180, 251, 278, 340, 361, 430, 451, 520, 541, 610, 632, 701, 721, 790, 880]\n",
            "Severidade para cada subsistema: [0.75, 0.5, 0.75, 0.5, 0.75, 0.5, 0.25, 0.5, 0.75, 0.5, 0.75, 0.5, 0.75, 0.5, 0.75, 0.5, 0.75, 0.5, 0.5]\n",
            "Número de Sisemas: 5\n",
            "Fator:  [0.3296799539643607, 0.7768698398515702, 0.6321205588285577, 0.7768698398515702, 0.6321205588285577, 0.7768698398515702, 0.6321205588285577, 0.3934693402873666, 0.6321205588285577, 0.7768698398515702, 0.6321205588285577, 0.7768698398515702, 0.6321205588285577, 0.7768698398515702, 0.6321205588285577, 0.7768698398515702, 0.6321205588285577, 0.7768698398515702, 0.6321205588285577, 0.6321205588285577]\n",
            "Media de falhas:  [0, 0.00032, 525277.7515387319, 546051.4751908119, 4149047.6648599235, 4302065.8659635885, 19461834.95243952, 20546435.165856056, 55244144.31850282, 129712752.88368356, 223596874.10951158, 227994664.7509527, 416687564.39443076, 425417808.90405655, 768092201.7981147, 784762236.9150214, 1364593345.0634224, 1389312761.423874, 2304112684.3027463, 2677988435.1464467, 1590772175.0206275]\n",
            "Custo =  196687955623.32498\n"
          ]
        },
        {
          "output_type": "stream",
          "name": "stderr",
          "text": [
            "pyswarms.single.global_best: 100%|██████████|1/1, best_cost=1.43e+11\n",
            "2023-08-25 14:18:05,490 - pyswarms.single.global_best - INFO - Optimization finished | best cost: 143304585850.20178, best pos: [5.03827964 2.76165176 3.35288346]\n",
            "2023-08-25 14:18:05,494 - pyswarms.single.global_best - INFO - Optimize for 1 iters with {'c1': 0.5, 'c2': 0.3, 'w': 0.9}\n"
          ]
        },
        {
          "output_type": "stream",
          "name": "stdout",
          "text": [
            "\n",
            "=========================================================================\n",
            "\n",
            "Número de ciclos de manutenção: 18 5\n",
            "Tempos para manutenções preventivas: [0, 1, 70, 91, 160, 180, 252, 340, 361, 430, 451, 520, 540, 610, 631, 700, 722, 790, 880]\n",
            "Severidade para cada subsistema: [0.75, 0.5, 0.75, 0.5, 0.75, 0.5, 0.5, 0.75, 0.5, 0.75, 0.5, 0.75, 0.5, 0.75, 0.5, 0.75, 0.5, 0.5]\n",
            "Número de Sisemas: 5\n",
            "Fator:  [0.3296799539643607, 0.7768698398515702, 0.6321205588285577, 0.7768698398515702, 0.6321205588285577, 0.7768698398515702, 0.6321205588285577, 0.6321205588285577, 0.7768698398515702, 0.6321205588285577, 0.7768698398515702, 0.6321205588285577, 0.7768698398515702, 0.6321205588285577, 0.7768698398515702, 0.6321205588285577, 0.7768698398515702, 0.6321205588285577, 0.6321205588285577]\n",
            "Media de falhas:  [0, 0.00032, 525277.7515387319, 546051.4751908119, 4149047.6648599235, 4302065.8659635885, 20037404.802945796, 39829006.37778841, 51318234.242514804, 145202355.46834284, 149600146.10978395, 338293045.75326204, 346467367.42542225, 695305762.163492, 710988479.0375234, 1287682180.9230027, 1315424369.2360568, 2214727630.231374, 2588603381.075074, 1501387120.949255]\n",
            "Custo =  182995626120.6958\n"
          ]
        },
        {
          "output_type": "stream",
          "name": "stderr",
          "text": [
            "pyswarms.single.global_best: 100%|██████████|1/1, best_cost=1.43e+11\n",
            "2023-08-25 14:18:05,506 - pyswarms.single.global_best - INFO - Optimization finished | best cost: 143304585850.20178, best pos: [5.0382972  2.76163188 3.35288269]\n",
            "2023-08-25 14:18:05,510 - pyswarms.single.global_best - INFO - Optimize for 1 iters with {'c1': 0.5, 'c2': 0.3, 'w': 0.9}\n"
          ]
        },
        {
          "output_type": "stream",
          "name": "stdout",
          "text": [
            "\n",
            "=========================================================================\n",
            "\n",
            "Número de ciclos de manutenção: 19 5\n",
            "Tempos para manutenções preventivas: [0, 1, 70, 91, 160, 180, 252, 340, 361, 430, 451, 520, 540, 610, 631, 700, 722, 790, 811, 881]\n",
            "Severidade para cada subsistema: [0.75, 0.5, 0.75, 0.5, 0.75, 0.5, 0.5, 0.75, 0.5, 0.75, 0.5, 0.75, 0.5, 0.75, 0.5, 0.75, 0.5, 0.75, 0.5]\n",
            "Número de Sisemas: 5\n",
            "Fator:  [0.3296799539643607, 0.7768698398515702, 0.6321205588285577, 0.7768698398515702, 0.6321205588285577, 0.7768698398515702, 0.6321205588285577, 0.6321205588285577, 0.7768698398515702, 0.6321205588285577, 0.7768698398515702, 0.6321205588285577, 0.7768698398515702, 0.6321205588285577, 0.7768698398515702, 0.6321205588285577, 0.7768698398515702, 0.6321205588285577, 0.7768698398515702, 0.6321205588285577]\n",
            "Media de falhas:  [0, 0.00032, 525277.7515387319, 546051.4751908119, 4149047.6648599235, 4302065.8659635885, 20037404.802945796, 39829006.37778841, 51318234.242514804, 145202355.46834284, 149600146.10978395, 338293045.75326204, 346467367.42542225, 695305762.163492, 710988479.0375234, 1287682180.9230027, 1315424369.2360568, 2214727630.231374, 2255873989.2619543, 3669395959.5425835, 3575525310.371633]\n",
            "Custo =  228483218513.43073\n"
          ]
        },
        {
          "output_type": "stream",
          "name": "stderr",
          "text": [
            "pyswarms.single.global_best: 100%|██████████|1/1, best_cost=1.43e+11\n",
            "2023-08-25 14:18:05,523 - pyswarms.single.global_best - INFO - Optimization finished | best cost: 143304585850.20178, best pos: [5.03830988 2.76161396 3.35288166]\n",
            "2023-08-25 14:18:05,526 - pyswarms.single.global_best - INFO - Optimize for 1 iters with {'c1': 0.5, 'c2': 0.3, 'w': 0.9}\n"
          ]
        },
        {
          "output_type": "stream",
          "name": "stdout",
          "text": [
            "\n",
            "=========================================================================\n",
            "\n",
            "Número de ciclos de manutenção: 19 5\n",
            "Tempos para manutenções preventivas: [0, 1, 70, 91, 160, 181, 251, 340, 361, 430, 451, 520, 540, 610, 631, 700, 722, 790, 813, 881]\n",
            "Severidade para cada subsistema: [0.75, 0.5, 0.75, 0.5, 0.75, 0.5, 0.5, 0.75, 0.5, 0.75, 0.5, 0.75, 0.5, 0.75, 0.5, 0.75, 0.5, 0.75, 0.5]\n",
            "Número de Sisemas: 5\n",
            "Fator:  [0.3296799539643607, 0.7768698398515702, 0.6321205588285577, 0.7768698398515702, 0.6321205588285577, 0.7768698398515702, 0.6321205588285577, 0.6321205588285577, 0.7768698398515702, 0.6321205588285577, 0.7768698398515702, 0.6321205588285577, 0.7768698398515702, 0.6321205588285577, 0.7768698398515702, 0.6321205588285577, 0.7768698398515702, 0.6321205588285577, 0.7768698398515702, 0.6321205588285577]\n",
            "Media de falhas:  [0, 0.00032, 525277.7515387319, 546051.4751908119, 4149047.6648599235, 4318030.519935706, 19111079.29047286, 39449915.618882686, 50939143.48360908, 144823264.7094371, 149221055.3508782, 337913954.9943563, 346088276.6665165, 694926671.4045863, 710609388.2786177, 1287303090.1640968, 1315045278.477151, 2214348539.4724684, 2260440565.417456, 3627605125.259405, 3533734476.0884547]\n",
            "Custo =  228297783807.0327\n"
          ]
        },
        {
          "output_type": "stream",
          "name": "stderr",
          "text": [
            "pyswarms.single.global_best: 100%|██████████|1/1, best_cost=1.43e+11\n",
            "2023-08-25 14:18:05,543 - pyswarms.single.global_best - INFO - Optimization finished | best cost: 143304585850.20178, best pos: [5.03831028 2.7616015  3.35288071]\n",
            "2023-08-25 14:18:05,548 - pyswarms.single.global_best - INFO - Optimize for 1 iters with {'c1': 0.5, 'c2': 0.3, 'w': 0.9}\n"
          ]
        },
        {
          "output_type": "stream",
          "name": "stdout",
          "text": [
            "\n",
            "=========================================================================\n",
            "\n",
            "Número de ciclos de manutenção: 20 5\n",
            "Tempos para manutenções preventivas: [0, 1, 70, 91, 160, 181, 251, 274, 340, 361, 430, 450, 520, 540, 610, 631, 700, 722, 790, 815, 881]\n",
            "Severidade para cada subsistema: [0.75, 0.5, 0.75, 0.5, 0.75, 0.5, 0.25, 0.5, 0.75, 0.5, 0.75, 0.5, 0.75, 0.5, 0.75, 0.5, 0.75, 0.5, 0.75, 0.5]\n",
            "Número de Sisemas: 5\n",
            "Fator:  [0.3296799539643607, 0.7768698398515702, 0.6321205588285577, 0.7768698398515702, 0.6321205588285577, 0.7768698398515702, 0.6321205588285577, 0.3934693402873666, 0.6321205588285577, 0.7768698398515702, 0.6321205588285577, 0.7768698398515702, 0.6321205588285577, 0.7768698398515702, 0.6321205588285577, 0.7768698398515702, 0.6321205588285577, 0.7768698398515702, 0.6321205588285577, 0.7768698398515702, 0.6321205588285577]\n",
            "Media de falhas:  [0, 0.00032, 525277.7515387319, 546051.4751908119, 4149047.6648599235, 4318030.519935706, 19111079.29047286, 19919767.34826858, 57905730.034715936, 132374338.59989668, 226258459.82572472, 230362056.45349807, 422595636.81324774, 430769958.48540795, 779608353.2234777, 795291070.0975091, 1371984771.9829884, 1399726960.2960424, 2299030221.29136, 2350270498.588822, 3671490950.8524475, 3577620301.681497]\n",
            "Custo =  241686636447.39603\n"
          ]
        },
        {
          "output_type": "stream",
          "name": "stderr",
          "text": [
            "pyswarms.single.global_best: 100%|██████████|1/1, best_cost=1.43e+11\n",
            "2023-08-25 14:18:05,564 - pyswarms.single.global_best - INFO - Optimization finished | best cost: 143304585850.20178, best pos: [5.03830746 2.76159429 3.35287992]\n",
            "2023-08-25 14:18:05,566 - pyswarms.single.global_best - INFO - Optimize for 1 iters with {'c1': 0.5, 'c2': 0.3, 'w': 0.9}\n"
          ]
        },
        {
          "output_type": "stream",
          "name": "stdout",
          "text": [
            "\n",
            "=========================================================================\n",
            "\n",
            "Número de ciclos de manutenção: 20 5\n",
            "Tempos para manutenções preventivas: [0, 1, 70, 91, 160, 181, 250, 280, 340, 361, 430, 450, 520, 540, 610, 630, 699, 721, 790, 817, 881]\n",
            "Severidade para cada subsistema: [0.75, 0.5, 0.75, 0.5, 0.75, 0.5, 0.5, 0.5, 0.75, 0.5, 0.75, 0.5, 0.75, 0.5, 0.75, 0.5, 0.75, 0.5, 0.75, 0.5]\n",
            "Número de Sisemas: 5\n",
            "Fator:  [0.3296799539643607, 0.7768698398515702, 0.6321205588285577, 0.7768698398515702, 0.6321205588285577, 0.7768698398515702, 0.6321205588285577, 0.6321205588285577, 0.6321205588285577, 0.7768698398515702, 0.6321205588285577, 0.7768698398515702, 0.6321205588285577, 0.7768698398515702, 0.6321205588285577, 0.7768698398515702, 0.6321205588285577, 0.7768698398515702, 0.6321205588285577, 0.7768698398515702, 0.6321205588285577]\n",
            "Media de falhas:  [0, 0.00032, 525277.7515387319, 546051.4751908119, 4149047.6648599235, 4318030.519935706, 18562312.543717053, 19875903.762137454, 52992512.04649764, 64481739.91122404, 158365861.13705206, 162469457.7648254, 354703038.1245751, 362877359.7967353, 711715754.534805, 726435972.7936339, 1300005085.8991315, 1327600107.5727773, 2242400030.4516497, 2298997304.4671464, 3574681056.3411813, 3480810407.170231]\n",
            "Custo =  229334359563.9544\n"
          ]
        },
        {
          "output_type": "stream",
          "name": "stderr",
          "text": [
            "pyswarms.single.global_best: 100%|██████████|1/1, best_cost=1.43e+11\n",
            "2023-08-25 14:18:05,583 - pyswarms.single.global_best - INFO - Optimization finished | best cost: 143304585850.20178, best pos: [5.03829754 2.76159561 3.35287943]\n",
            "2023-08-25 14:18:05,584 - pyswarms.single.global_best - INFO - Optimize for 1 iters with {'c1': 0.5, 'c2': 0.3, 'w': 0.9}\n"
          ]
        },
        {
          "output_type": "stream",
          "name": "stdout",
          "text": [
            "\n",
            "=========================================================================\n",
            "\n",
            "Número de ciclos de manutenção: 20 5\n",
            "Tempos para manutenções preventivas: [0, 1, 70, 91, 160, 181, 249, 289, 340, 361, 430, 450, 520, 541, 610, 630, 699, 721, 790, 817, 880]\n",
            "Severidade para cada subsistema: [0.75, 0.5, 0.75, 0.5, 0.75, 0.5, 0.75, 0.5, 0.75, 0.5, 0.75, 0.5, 0.75, 0.5, 0.75, 0.5, 0.75, 0.5, 0.75, 0.5]\n",
            "Número de Sisemas: 5\n",
            "Fator:  [0.3296799539643607, 0.7768698398515702, 0.6321205588285577, 0.7768698398515702, 0.6321205588285577, 0.7768698398515702, 0.6321205588285577, 0.7768698398515702, 0.6321205588285577, 0.7768698398515702, 0.6321205588285577, 0.7768698398515702, 0.6321205588285577, 0.7768698398515702, 0.6321205588285577, 0.7768698398515702, 0.6321205588285577, 0.7768698398515702, 0.6321205588285577, 0.7768698398515702, 0.6321205588285577]\n",
            "Media de falhas:  [0, 0.00032, 525277.7515387319, 546051.4751908119, 4149047.6648599235, 4318030.519935706, 18029498.63845581, 20409954.512093205, 46897224.30551058, 48821851.067972876, 142705972.2938009, 146809568.92157423, 339043149.2813239, 347773393.7909497, 690447786.6850078, 705168004.9438367, 1278737118.0493343, 1306332139.72298, 2221132062.6018524, 2277729336.617349, 3525306925.064016, 3431973724.63846]\n",
            "Custo =  226868777152.69067\n"
          ]
        },
        {
          "output_type": "stream",
          "name": "stderr",
          "text": [
            "pyswarms.single.global_best: 100%|██████████|1/1, best_cost=1.43e+11\n",
            "2023-08-25 14:18:05,601 - pyswarms.single.global_best - INFO - Optimization finished | best cost: 143304585850.20178, best pos: [5.03826849 2.76160375 3.35287902]\n",
            "2023-08-25 14:18:05,603 - pyswarms.single.global_best - INFO - Optimize for 1 iters with {'c1': 0.5, 'c2': 0.3, 'w': 0.9}\n"
          ]
        },
        {
          "output_type": "stream",
          "name": "stdout",
          "text": [
            "\n",
            "=========================================================================\n",
            "\n",
            "Número de ciclos de manutenção: 19 5\n",
            "Tempos para manutenções preventivas: [0, 1, 70, 91, 160, 181, 249, 341, 361, 430, 450, 520, 541, 610, 630, 699, 720, 790, 816, 880]\n",
            "Severidade para cada subsistema: [0.75, 0.5, 0.75, 0.5, 0.75, 0.5, 0.5, 0.75, 0.5, 0.75, 0.5, 0.75, 0.5, 0.75, 0.5, 0.75, 0.5, 0.75, 0.5]\n",
            "Número de Sisemas: 5\n",
            "Fator:  [0.3296799539643607, 0.7768698398515702, 0.6321205588285577, 0.7768698398515702, 0.6321205588285577, 0.7768698398515702, 0.6321205588285577, 0.6321205588285577, 0.7768698398515702, 0.6321205588285577, 0.7768698398515702, 0.6321205588285577, 0.7768698398515702, 0.6321205588285577, 0.7768698398515702, 0.6321205588285577, 0.7768698398515702, 0.6321205588285577, 0.7768698398515702, 0.6321205588285577]\n",
            "Media de falhas:  [0, 0.00032, 525277.7515387319, 546051.4751908119, 4149047.6648599235, 4318030.519935706, 18029498.63845581, 40246502.79210956, 51134238.66191567, 145018359.88774368, 149121956.51551703, 341355536.8752667, 350085781.38489246, 692760174.2789506, 707480392.5377795, 1281049505.6432772, 1307057417.7099168, 2237433330.2511067, 2291325622.8627744, 3561425288.939144, 3468092088.5135884]\n",
            "Custo =  227475570572.25336\n"
          ]
        },
        {
          "output_type": "stream",
          "name": "stderr",
          "text": [
            "pyswarms.single.global_best:   0%|          |0/1, best_cost=1.43e+11"
          ]
        },
        {
          "output_type": "stream",
          "name": "stdout",
          "text": [
            "\n",
            "=========================================================================\n",
            "\n",
            "Número de ciclos de manutenção: 20 5\n",
            "Tempos para manutenções preventivas: [0, 1, 70, 91, 160, 181, 249, 287, 340, 361, 430, 450, 520, 541, 610, 630, 700, 720, 790, 815, 880]\n",
            "Severidade para cada subsistema: [0.75, 0.5, 0.75, 0.5, 0.75, 0.5, 0.5, 0.5, 0.75, 0.5, 0.75, 0.5, 0.75, 0.5, 0.75, 0.5, 0.75, 0.5, 0.75, 0.5]\n",
            "Número de Sisemas: 5\n",
            "Fator:  [0.3296799539643607, 0.7768698398515702, 0.6321205588285577, 0.7768698398515702, 0.6321205588285577, 0.7768698398515702, 0.6321205588285577, 0.6321205588285577, 0.6321205588285577, 0.7768698398515702, 0.6321205588285577, 0.7768698398515702, 0.6321205588285577, 0.7768698398515702, 0.6321205588285577, 0.7768698398515702, 0.6321205588285577, 0.7768698398515702, 0.6321205588285577, 0.7768698398515702, 0.6321205588285577]\n",
            "Media de falhas:  [0, 0.00032, 525277.7515387319, 546051.4751908119, 4149047.6648599235, 4318030.519935706, 18029498.63845581, 20154056.965041142, 48048691.78689414, 59537919.65162054, 153422040.87744856, 157525637.5052219, 349759217.8649716, 358489462.3745974, 701163855.2686555, 715884073.5274844, 1302633071.1207056, 1327220651.5949235, 2257596564.136113, 2308836841.433575, 3601558682.172846, 3508225481.74729]\n",
            "Custo =  229169349817.64157\n"
          ]
        },
        {
          "output_type": "stream",
          "name": "stderr",
          "text": [
            "\rpyswarms.single.global_best: 100%|██████████|1/1, best_cost=1.43e+11\n",
            "2023-08-25 14:18:05,620 - pyswarms.single.global_best - INFO - Optimization finished | best cost: 143304585850.20178, best pos: [5.03823119 2.76161547 3.35287905]\n",
            "2023-08-25 14:18:05,625 - pyswarms.single.global_best - INFO - Optimize for 1 iters with {'c1': 0.5, 'c2': 0.3, 'w': 0.9}\n",
            "pyswarms.single.global_best: 100%|██████████|1/1, best_cost=1.43e+11\n",
            "2023-08-25 14:18:05,824 - pyswarms.single.global_best - INFO - Optimization finished | best cost: 143304585850.20178, best pos: [5.03819756 2.76163035 3.35287917]\n",
            "2023-08-25 14:18:05,825 - pyswarms.single.global_best - INFO - Optimize for 1 iters with {'c1': 0.5, 'c2': 0.3, 'w': 0.9}\n"
          ]
        },
        {
          "output_type": "stream",
          "name": "stdout",
          "text": [
            "\n",
            "=========================================================================\n",
            "\n",
            "Número de ciclos de manutenção: 19 5\n",
            "Tempos para manutenções preventivas: [0, 1, 70, 91, 160, 181, 249, 340, 361, 430, 450, 520, 541, 610, 630, 700, 720, 790, 813, 879]\n",
            "Severidade para cada subsistema: [0.75, 0.5, 0.75, 0.5, 0.75, 0.5, 0.5, 0.75, 0.5, 0.75, 0.5, 0.75, 0.5, 0.75, 0.5, 0.75, 0.5, 0.75, 0.5]\n",
            "Número de Sisemas: 5\n",
            "Fator:  [0.3296799539643607, 0.7768698398515702, 0.6321205588285577, 0.7768698398515702, 0.6321205588285577, 0.7768698398515702, 0.6321205588285577, 0.6321205588285577, 0.7768698398515702, 0.6321205588285577, 0.7768698398515702, 0.6321205588285577, 0.7768698398515702, 0.6321205588285577, 0.7768698398515702, 0.6321205588285577, 0.7768698398515702, 0.6321205588285577, 0.7768698398515702, 0.6321205588285577]\n",
            "Media de falhas:  [0, 0.00032, 525277.7515387319, 546051.4751908119, 4149047.6648599235, 4318030.519935706, 18029498.63845581, 39498158.76114746, 50987386.62587386, 144871507.8517019, 148975104.47947523, 341208684.83922493, 349938929.3488507, 692613322.2429088, 707333540.5017377, 1294082538.0949588, 1318670118.5691767, 2249046031.1103663, 2295138057.055354, 3604826307.444849, 3512028528.31109]\n",
            "Custo =  227426956461.6797\n"
          ]
        },
        {
          "output_type": "stream",
          "name": "stderr",
          "text": [
            "pyswarms.single.global_best: 100%|██████████|1/1, best_cost=1.43e+11\n",
            "2023-08-25 14:18:05,834 - pyswarms.single.global_best - INFO - Optimization finished | best cost: 143304585850.20178, best pos: [5.0381672  2.76164397 3.35287965]\n",
            "2023-08-25 14:18:05,835 - pyswarms.single.global_best - INFO - Optimize for 1 iters with {'c1': 0.5, 'c2': 0.3, 'w': 0.9}\n"
          ]
        },
        {
          "output_type": "stream",
          "name": "stdout",
          "text": [
            "\n",
            "=========================================================================\n",
            "\n",
            "Número de ciclos de manutenção: 18 5\n",
            "Tempos para manutenções preventivas: [0, 1, 70, 91, 160, 181, 248, 340, 361, 430, 451, 520, 541, 610, 630, 700, 790, 811, 879]\n",
            "Severidade para cada subsistema: [0.75, 0.5, 0.75, 0.5, 0.75, 0.5, 0.5, 0.75, 0.5, 0.75, 0.5, 0.75, 0.5, 0.75, 0.5, 0.5, 0.75, 0.5]\n",
            "Número de Sisemas: 5\n",
            "Fator:  [0.3296799539643607, 0.7768698398515702, 0.6321205588285577, 0.7768698398515702, 0.6321205588285577, 0.7768698398515702, 0.6321205588285577, 0.6321205588285577, 0.7768698398515702, 0.6321205588285577, 0.7768698398515702, 0.6321205588285577, 0.7768698398515702, 0.6321205588285577, 0.7768698398515702, 0.6321205588285577, 0.6321205588285577, 0.7768698398515702, 0.6321205588285577]\n",
            "Media de falhas:  [0, 0.00032, 525277.7515387319, 546051.4751908119, 4149047.6648599235, 4318030.519935706, 17512287.202995364, 39563920.3363105, 51053148.2010369, 144937269.42686492, 149335060.06830603, 338027959.7117841, 346758204.2214099, 689432597.115468, 704152815.3742969, 1290901812.9675179, 1550564472.485097, 1827500890.212213, 3182748480.1686306, 3089950701.0348716]\n",
            "Custo =  225932001931.30048\n"
          ]
        },
        {
          "output_type": "stream",
          "name": "stderr",
          "text": [
            "pyswarms.single.global_best: 100%|██████████|1/1, best_cost=1.43e+11\n",
            "2023-08-25 14:18:05,844 - pyswarms.single.global_best - INFO - Optimization finished | best cost: 143304585850.20178, best pos: [5.0381421  2.76165559 3.35288055]\n",
            "2023-08-25 14:18:05,845 - pyswarms.single.global_best - INFO - Optimize for 1 iters with {'c1': 0.5, 'c2': 0.3, 'w': 0.9}\n"
          ]
        },
        {
          "output_type": "stream",
          "name": "stdout",
          "text": [
            "\n",
            "=========================================================================\n",
            "\n",
            "Número de ciclos de manutenção: 18 5\n",
            "Tempos para manutenções preventivas: [0, 1, 70, 91, 160, 181, 248, 272, 340, 361, 430, 451, 520, 541, 610, 630, 700, 790, 879]\n",
            "Severidade para cada subsistema: [0.75, 0.5, 0.75, 0.5, 0.75, 0.5, 0.75, 0.5, 0.75, 0.5, 0.75, 0.5, 0.75, 0.5, 0.75, 0.5, 0.5, 0.5]\n",
            "Número de Sisemas: 5\n",
            "Fator:  [0.3296799539643607, 0.7768698398515702, 0.6321205588285577, 0.7768698398515702, 0.6321205588285577, 0.7768698398515702, 0.6321205588285577, 0.7768698398515702, 0.6321205588285577, 0.7768698398515702, 0.6321205588285577, 0.7768698398515702, 0.6321205588285577, 0.7768698398515702, 0.6321205588285577, 0.7768698398515702, 0.6321205588285577, 0.6321205588285577, 0.6321205588285577]\n",
            "Media de falhas:  [0, 0.00032, 525277.7515387319, 546051.4751908119, 4149047.6648599235, 4318030.519935706, 17512287.202995364, 18352046.376278315, 58047445.64675498, 59972072.409217276, 153856193.6350453, 158253984.2764864, 346946883.9199645, 355677128.4295903, 698351521.3236485, 713071739.5824773, 1299820737.1756983, 1559483396.6932774, 3419057226.635556, 2339219585.4006114]\n",
            "Custo =  203230215776.2294\n"
          ]
        },
        {
          "output_type": "stream",
          "name": "stderr",
          "text": [
            "pyswarms.single.global_best: 100%|██████████|1/1, best_cost=1.43e+11\n",
            "2023-08-25 14:18:05,853 - pyswarms.single.global_best - INFO - Optimization finished | best cost: 143304585850.20178, best pos: [5.03811977 2.76166294 3.35288165]\n",
            "2023-08-25 14:18:05,855 - pyswarms.single.global_best - INFO - Optimize for 1 iters with {'c1': 0.5, 'c2': 0.3, 'w': 0.9}\n"
          ]
        },
        {
          "output_type": "stream",
          "name": "stdout",
          "text": [
            "\n",
            "=========================================================================\n",
            "\n",
            "Número de ciclos de manutenção: 17 5\n",
            "Tempos para manutenções preventivas: [0, 1, 70, 91, 160, 181, 249, 340, 361, 430, 451, 520, 541, 610, 630, 700, 790, 880]\n",
            "Severidade para cada subsistema: [0.75, 0.5, 0.75, 0.5, 0.75, 0.5, 0.5, 0.75, 0.5, 0.75, 0.5, 0.75, 0.5, 0.75, 0.5, 0.5, 0.5]\n",
            "Número de Sisemas: 5\n",
            "Fator:  [0.3296799539643607, 0.7768698398515702, 0.6321205588285577, 0.7768698398515702, 0.6321205588285577, 0.7768698398515702, 0.6321205588285577, 0.6321205588285577, 0.7768698398515702, 0.6321205588285577, 0.7768698398515702, 0.6321205588285577, 0.7768698398515702, 0.6321205588285577, 0.7768698398515702, 0.6321205588285577, 0.6321205588285577, 0.6321205588285577]\n",
            "Media de falhas:  [0, 0.00032, 525277.7515387319, 546051.4751908119, 4149047.6648599235, 4318030.519935706, 18029498.63845581, 39498158.76114746, 50987386.62587386, 144871507.8517019, 149269298.493143, 337962198.1366211, 346692442.6462469, 689366835.540305, 704087053.7991339, 1290836051.392355, 1550498710.909934, 3443478666.8279877, 2356262406.7021685]\n",
            "Custo =  204099172407.15933\n"
          ]
        },
        {
          "output_type": "stream",
          "name": "stderr",
          "text": [
            "pyswarms.single.global_best: 100%|██████████|1/1, best_cost=1.43e+11\n",
            "2023-08-25 14:18:05,864 - pyswarms.single.global_best - INFO - Optimization finished | best cost: 143304585850.20178, best pos: [5.03811245 2.76166255 3.35288262]\n",
            "2023-08-25 14:18:05,865 - pyswarms.single.global_best - INFO - Optimize for 1 iters with {'c1': 0.5, 'c2': 0.3, 'w': 0.9}\n"
          ]
        },
        {
          "output_type": "stream",
          "name": "stdout",
          "text": [
            "\n",
            "=========================================================================\n",
            "\n",
            "Número de ciclos de manutenção: 18 5\n",
            "Tempos para manutenções preventivas: [0, 1, 70, 91, 160, 180, 249, 298, 340, 361, 430, 451, 520, 541, 610, 631, 700, 790, 880]\n",
            "Severidade para cada subsistema: [0.75, 0.5, 0.75, 0.5, 0.75, 0.5, 0.5, 0.5, 0.75, 0.5, 0.75, 0.5, 0.75, 0.5, 0.75, 0.5, 0.5, 0.5]\n",
            "Número de Sisemas: 5\n",
            "Fator:  [0.3296799539643607, 0.7768698398515702, 0.6321205588285577, 0.7768698398515702, 0.6321205588285577, 0.7768698398515702, 0.6321205588285577, 0.6321205588285577, 0.6321205588285577, 0.7768698398515702, 0.6321205588285577, 0.7768698398515702, 0.6321205588285577, 0.7768698398515702, 0.6321205588285577, 0.7768698398515702, 0.6321205588285577, 0.6321205588285577, 0.6321205588285577]\n",
            "Media de falhas:  [0, 0.00032, 525277.7515387319, 546051.4751908119, 4149047.6648599235, 4302065.8659635885, 18359944.035692062, 22189665.081573687, 42770250.55944239, 54259478.424168795, 148143599.64999682, 152541390.29143792, 341234289.934916, 349964534.4445418, 692638927.3385999, 708321644.2126313, 1285015346.0981107, 1544678005.6156898, 3437657961.533743, 2350441701.4079237]\n",
            "Custo =  205381135478.3878\n"
          ]
        },
        {
          "output_type": "stream",
          "name": "stderr",
          "text": [
            "pyswarms.single.global_best: 100%|██████████|1/1, best_cost=1.43e+11\n",
            "2023-08-25 14:18:05,874 - pyswarms.single.global_best - INFO - Optimization finished | best cost: 143304585850.20178, best pos: [5.0381259  2.76166116 3.35288347]\n",
            "2023-08-25 14:18:05,875 - pyswarms.single.global_best - INFO - Optimize for 1 iters with {'c1': 0.5, 'c2': 0.3, 'w': 0.9}\n"
          ]
        },
        {
          "output_type": "stream",
          "name": "stdout",
          "text": [
            "\n",
            "=========================================================================\n",
            "\n",
            "Número de ciclos de manutenção: 17 5\n",
            "Tempos para manutenções preventivas: [0, 1, 70, 91, 160, 180, 250, 340, 361, 430, 451, 520, 541, 610, 631, 700, 790, 880]\n",
            "Severidade para cada subsistema: [0.75, 0.5, 0.75, 0.5, 0.75, 0.5, 0.5, 0.75, 0.5, 0.75, 0.5, 0.75, 0.5, 0.75, 0.5, 0.5, 0.5]\n",
            "Número de Sisemas: 5\n",
            "Fator:  [0.3296799539643607, 0.7768698398515702, 0.6321205588285577, 0.7768698398515702, 0.6321205588285577, 0.7768698398515702, 0.6321205588285577, 0.6321205588285577, 0.7768698398515702, 0.6321205588285577, 0.7768698398515702, 0.6321205588285577, 0.7768698398515702, 0.6321205588285577, 0.7768698398515702, 0.6321205588285577, 0.6321205588285577, 0.6321205588285577]\n",
            "Media de falhas:  [0, 0.00032, 525277.7515387319, 546051.4751908119, 4149047.6648599235, 4302065.8659635885, 18902800.993072666, 39800593.18140558, 51289821.04613198, 145173942.27196002, 149571732.91340113, 338264632.5568792, 346994877.066505, 689669269.9605632, 705351986.8345946, 1282045688.7200737, 1541708348.2376528, 3434688304.1557064, 2347472044.029887]\n",
            "Custo =  204056618322.2369\n"
          ]
        },
        {
          "output_type": "stream",
          "name": "stderr",
          "text": [
            "pyswarms.single.global_best: 100%|██████████|1/1, best_cost=1.43e+11\n",
            "2023-08-25 14:18:05,883 - pyswarms.single.global_best - INFO - Optimization finished | best cost: 143304585850.20178, best pos: [5.0381533  2.76165262 3.35288416]\n",
            "2023-08-25 14:18:05,884 - pyswarms.single.global_best - INFO - Optimize for 1 iters with {'c1': 0.5, 'c2': 0.3, 'w': 0.9}\n"
          ]
        },
        {
          "output_type": "stream",
          "name": "stdout",
          "text": [
            "\n",
            "=========================================================================\n",
            "\n",
            "Número de ciclos de manutenção: 19 5\n",
            "Tempos para manutenções preventivas: [0, 1, 70, 91, 160, 180, 250, 275, 340, 361, 430, 451, 520, 541, 610, 631, 700, 720, 790, 880]\n",
            "Severidade para cada subsistema: [0.75, 0.5, 0.75, 0.5, 0.75, 0.5, 0.5, 0.5, 0.75, 0.5, 0.75, 0.5, 0.75, 0.5, 0.75, 0.5, 0.75, 0.5, 0.5]\n",
            "Número de Sisemas: 5\n",
            "Fator:  [0.3296799539643607, 0.7768698398515702, 0.6321205588285577, 0.7768698398515702, 0.6321205588285577, 0.7768698398515702, 0.6321205588285577, 0.6321205588285577, 0.6321205588285577, 0.7768698398515702, 0.6321205588285577, 0.7768698398515702, 0.6321205588285577, 0.7768698398515702, 0.6321205588285577, 0.7768698398515702, 0.6321205588285577, 0.7768698398515702, 0.6321205588285577, 0.6321205588285577]\n",
            "Media de falhas:  [0, 0.00032, 525277.7515387319, 546051.4751908119, 4149047.6648599235, 4302065.8659635885, 18902800.993072666, 19830835.838669624, 56978623.57532252, 68467851.44004892, 162351972.66587692, 166749763.30731803, 355442662.9507961, 364172907.4604219, 706847300.35448, 722530017.2285115, 1299223719.1139908, 1323811299.5882087, 2254187212.1293983, 2628062962.9730988, 1540846702.8472795]\n",
            "Custo =  184587880491.63525\n"
          ]
        },
        {
          "output_type": "stream",
          "name": "stderr",
          "text": [
            "pyswarms.single.global_best: 100%|██████████|1/1, best_cost=1.43e+11\n",
            "2023-08-25 14:18:05,892 - pyswarms.single.global_best - INFO - Optimization finished | best cost: 143304585850.20178, best pos: [5.03818305 2.76163972 3.35288459]\n",
            "2023-08-25 14:18:05,893 - pyswarms.single.global_best - INFO - Optimize for 1 iters with {'c1': 0.5, 'c2': 0.3, 'w': 0.9}\n"
          ]
        },
        {
          "output_type": "stream",
          "name": "stdout",
          "text": [
            "\n",
            "=========================================================================\n",
            "\n",
            "Número de ciclos de manutenção: 18 5\n",
            "Tempos para manutenções preventivas: [0, 1, 70, 91, 160, 180, 251, 340, 361, 430, 451, 520, 541, 610, 631, 700, 720, 790, 881]\n",
            "Severidade para cada subsistema: [0.75, 0.5, 0.75, 0.5, 0.75, 0.5, 0.5, 0.75, 0.5, 0.75, 0.5, 0.75, 0.5, 0.75, 0.5, 0.75, 0.5, 0.5]\n",
            "Número de Sisemas: 5\n",
            "Fator:  [0.3296799539643607, 0.7768698398515702, 0.6321205588285577, 0.7768698398515702, 0.6321205588285577, 0.7768698398515702, 0.6321205588285577, 0.6321205588285577, 0.7768698398515702, 0.6321205588285577, 0.7768698398515702, 0.6321205588285577, 0.7768698398515702, 0.6321205588285577, 0.7768698398515702, 0.6321205588285577, 0.7768698398515702, 0.6321205588285577, 0.6321205588285577]\n",
            "Media de falhas:  [0, 0.00032, 525277.7515387319, 546051.4751908119, 4149047.6648599235, 4302065.8659635885, 19461834.95243952, 39800671.28084934, 51289899.14557573, 145174020.37140375, 149571811.01284486, 338264710.65632296, 346994955.16594875, 689669348.0600069, 705352064.9340383, 1282045766.8195176, 1306633347.2937355, 2237009259.834925, 2618988823.3800216, 1524377967.5589907]\n",
            "Custo =  183264716717.6921\n"
          ]
        },
        {
          "output_type": "stream",
          "name": "stderr",
          "text": [
            "pyswarms.single.global_best: 100%|██████████|1/1, best_cost=1.43e+11\n",
            "2023-08-25 14:18:05,901 - pyswarms.single.global_best - INFO - Optimization finished | best cost: 143304585850.20178, best pos: [5.03821349 2.76162806 3.35288467]\n",
            "2023-08-25 14:18:05,902 - pyswarms.single.global_best - INFO - Optimize for 1 iters with {'c1': 0.5, 'c2': 0.3, 'w': 0.9}\n"
          ]
        },
        {
          "output_type": "stream",
          "name": "stdout",
          "text": [
            "\n",
            "=========================================================================\n",
            "\n",
            "Número de ciclos de manutenção: 19 5\n",
            "Tempos para manutenções preventivas: [0, 1, 70, 91, 160, 181, 251, 297, 340, 361, 430, 451, 520, 541, 610, 631, 700, 720, 790, 881]\n",
            "Severidade para cada subsistema: [0.75, 0.5, 0.75, 0.5, 0.75, 0.5, 0.25, 0.5, 0.75, 0.5, 0.75, 0.5, 0.75, 0.5, 0.75, 0.5, 0.75, 0.5, 0.5]\n",
            "Número de Sisemas: 5\n",
            "Fator:  [0.3296799539643607, 0.7768698398515702, 0.6321205588285577, 0.7768698398515702, 0.6321205588285577, 0.7768698398515702, 0.6321205588285577, 0.3934693402873666, 0.6321205588285577, 0.7768698398515702, 0.6321205588285577, 0.7768698398515702, 0.6321205588285577, 0.7768698398515702, 0.6321205588285577, 0.7768698398515702, 0.6321205588285577, 0.7768698398515702, 0.6321205588285577, 0.6321205588285577]\n",
            "Media de falhas:  [0, 0.00032, 525277.7515387319, 546051.4751908119, 4149047.6648599235, 4318030.519935706, 19111079.29047286, 22468796.578476585, 43672919.39603518, 118141527.96121593, 212025649.18704396, 216423439.82848507, 405116339.47196317, 413846583.98158896, 756520976.8756471, 772203693.7496785, 1348897395.6351576, 1373484976.1093755, 2303860888.650565, 2685840452.1956615, 1591229596.3746307]\n",
            "Custo =  196603965394.8902\n"
          ]
        },
        {
          "output_type": "stream",
          "name": "stderr",
          "text": [
            "pyswarms.single.global_best: 100%|██████████|1/1, best_cost=1.43e+11\n",
            "2023-08-25 14:18:05,911 - pyswarms.single.global_best - INFO - Optimization finished | best cost: 143304585850.20178, best pos: [5.03823716 2.76161837 3.35288382]\n",
            "2023-08-25 14:18:05,912 - pyswarms.single.global_best - INFO - Optimize for 1 iters with {'c1': 0.5, 'c2': 0.3, 'w': 0.9}\n"
          ]
        },
        {
          "output_type": "stream",
          "name": "stdout",
          "text": [
            "\n",
            "=========================================================================\n",
            "\n",
            "Número de ciclos de manutenção: 18 5\n",
            "Tempos para manutenções preventivas: [0, 1, 70, 91, 160, 181, 251, 340, 361, 430, 451, 520, 541, 610, 631, 700, 721, 790, 881]\n",
            "Severidade para cada subsistema: [0.75, 0.5, 0.75, 0.5, 0.75, 0.5, 0.5, 0.75, 0.5, 0.75, 0.5, 0.75, 0.5, 0.75, 0.5, 0.75, 0.5, 0.5]\n",
            "Número de Sisemas: 5\n",
            "Fator:  [0.3296799539643607, 0.7768698398515702, 0.6321205588285577, 0.7768698398515702, 0.6321205588285577, 0.7768698398515702, 0.6321205588285577, 0.6321205588285577, 0.7768698398515702, 0.6321205588285577, 0.7768698398515702, 0.6321205588285577, 0.7768698398515702, 0.6321205588285577, 0.7768698398515702, 0.6321205588285577, 0.7768698398515702, 0.6321205588285577, 0.6321205588285577]\n",
            "Media de falhas:  [0, 0.00032, 525277.7515387319, 546051.4751908119, 4149047.6648599235, 4318030.519935706, 19111079.29047286, 39449915.618882686, 50939143.48360908, 144823264.7094371, 149221055.3508782, 337913954.9943563, 346644199.50398207, 689318592.3980402, 705001309.2720716, 1281695011.1575508, 1307842092.981427, 2222642015.860299, 2604621579.4053955, 1510010723.5843647]\n",
            "Custo =  183187967977.94666\n"
          ]
        },
        {
          "output_type": "stream",
          "name": "stderr",
          "text": [
            "pyswarms.single.global_best: 100%|██████████|1/1, best_cost=1.43e+11\n",
            "2023-08-25 14:18:05,920 - pyswarms.single.global_best - INFO - Optimization finished | best cost: 143304585850.20178, best pos: [5.03824884 2.76161175 3.35288295]\n",
            "2023-08-25 14:18:05,921 - pyswarms.single.global_best - INFO - Optimize for 1 iters with {'c1': 0.5, 'c2': 0.3, 'w': 0.9}\n"
          ]
        },
        {
          "output_type": "stream",
          "name": "stdout",
          "text": [
            "\n",
            "=========================================================================\n",
            "\n",
            "Número de ciclos de manutenção: 19 5\n",
            "Tempos para manutenções preventivas: [0, 1, 70, 91, 160, 181, 251, 340, 361, 430, 450, 520, 541, 610, 631, 700, 721, 790, 810, 881]\n",
            "Severidade para cada subsistema: [0.75, 0.5, 0.75, 0.5, 0.75, 0.5, 0.5, 0.75, 0.5, 0.75, 0.5, 0.75, 0.5, 0.75, 0.5, 0.75, 0.5, 0.75, 0.5]\n",
            "Número de Sisemas: 5\n",
            "Fator:  [0.3296799539643607, 0.7768698398515702, 0.6321205588285577, 0.7768698398515702, 0.6321205588285577, 0.7768698398515702, 0.6321205588285577, 0.6321205588285577, 0.7768698398515702, 0.6321205588285577, 0.7768698398515702, 0.6321205588285577, 0.7768698398515702, 0.6321205588285577, 0.7768698398515702, 0.6321205588285577, 0.7768698398515702, 0.6321205588285577, 0.7768698398515702, 0.6321205588285577]\n",
            "Media de falhas:  [0, 0.00032, 525277.7515387319, 546051.4751908119, 4149047.6648599235, 4318030.519935706, 19111079.29047286, 39449915.618882686, 50939143.48360908, 144823264.7094371, 148926861.33721045, 341160441.6969601, 349890686.2065859, 692565079.100644, 708247795.9746754, 1284941497.8601546, 1311088579.6840308, 2225888502.5629034, 2264636105.522148, 3701493620.914608, 3607622971.7436576]\n",
            "Custo =  228616325671.42212\n"
          ]
        },
        {
          "output_type": "stream",
          "name": "stderr",
          "text": [
            "pyswarms.single.global_best: 100%|██████████|1/1, best_cost=1.43e+11\n",
            "2023-08-25 14:18:05,929 - pyswarms.single.global_best - INFO - Optimization finished | best cost: 143304585850.20178, best pos: [5.03824769 2.76160724 3.35288211]\n",
            "2023-08-25 14:18:05,931 - pyswarms.single.global_best - INFO - Optimize for 1 iters with {'c1': 0.5, 'c2': 0.3, 'w': 0.9}\n"
          ]
        },
        {
          "output_type": "stream",
          "name": "stdout",
          "text": [
            "\n",
            "=========================================================================\n",
            "\n",
            "Número de ciclos de manutenção: 20 5\n",
            "Tempos para manutenções preventivas: [0, 1, 70, 91, 160, 181, 251, 276, 340, 361, 430, 450, 520, 541, 610, 631, 700, 721, 790, 811, 881]\n",
            "Severidade para cada subsistema: [0.75, 0.5, 0.75, 0.5, 0.75, 0.5, 0.25, 0.5, 0.75, 0.5, 0.75, 0.5, 0.75, 0.5, 0.75, 0.5, 0.75, 0.5, 0.75, 0.5]\n",
            "Número de Sisemas: 5\n",
            "Fator:  [0.3296799539643607, 0.7768698398515702, 0.6321205588285577, 0.7768698398515702, 0.6321205588285577, 0.7768698398515702, 0.6321205588285577, 0.3934693402873666, 0.6321205588285577, 0.7768698398515702, 0.6321205588285577, 0.7768698398515702, 0.6321205588285577, 0.7768698398515702, 0.6321205588285577, 0.7768698398515702, 0.6321205588285577, 0.7768698398515702, 0.6321205588285577, 0.7768698398515702, 0.6321205588285577]\n",
            "Media de falhas:  [0, 0.00032, 525277.7515387319, 546051.4751908119, 4149047.6648599235, 4318030.519935706, 19111079.29047286, 20050917.47887072, 56371366.62840984, 130839975.19359058, 224724096.4194186, 228827693.04719195, 421061273.40694165, 429791517.91656744, 772465910.8106256, 788148627.684657, 1364842329.570136, 1390989411.3940122, 2305789334.2728844, 2346935693.303465, 3760457663.584094, 3666587014.4131436]\n",
            "Custo =  242029541401.3073\n"
          ]
        },
        {
          "output_type": "stream",
          "name": "stderr",
          "text": [
            "pyswarms.single.global_best: 100%|██████████|1/1, best_cost=1.43e+11\n",
            "2023-08-25 14:18:05,939 - pyswarms.single.global_best - INFO - Optimization finished | best cost: 143304585850.20178, best pos: [5.03824381 2.76160599 3.35288127]\n",
            "2023-08-25 14:18:05,940 - pyswarms.single.global_best - INFO - Optimize for 1 iters with {'c1': 0.5, 'c2': 0.3, 'w': 0.9}\n"
          ]
        },
        {
          "output_type": "stream",
          "name": "stdout",
          "text": [
            "\n",
            "=========================================================================\n",
            "\n",
            "Número de ciclos de manutenção: 20 5\n",
            "Tempos para manutenções preventivas: [0, 1, 70, 91, 160, 181, 251, 293, 340, 361, 430, 450, 520, 541, 610, 630, 700, 721, 790, 812, 880]\n",
            "Severidade para cada subsistema: [0.75, 0.5, 0.75, 0.5, 0.75, 0.5, 0.5, 0.5, 0.75, 0.5, 0.75, 0.5, 0.75, 0.5, 0.75, 0.5, 0.75, 0.5, 0.75, 0.5]\n",
            "Número de Sisemas: 5\n",
            "Fator:  [0.3296799539643607, 0.7768698398515702, 0.6321205588285577, 0.7768698398515702, 0.6321205588285577, 0.7768698398515702, 0.6321205588285577, 0.6321205588285577, 0.6321205588285577, 0.7768698398515702, 0.6321205588285577, 0.7768698398515702, 0.6321205588285577, 0.7768698398515702, 0.6321205588285577, 0.7768698398515702, 0.6321205588285577, 0.7768698398515702, 0.6321205588285577, 0.7768698398515702, 0.6321205588285577]\n",
            "Media de falhas:  [0, 0.00032, 525277.7515387319, 546051.4751908119, 4149047.6648599235, 4318030.519935706, 19111079.29047286, 21828139.330535866, 45606630.92116588, 57095858.78589228, 150979980.0117203, 155083576.63949364, 347317156.9992433, 356047401.5088691, 698721794.4029272, 713442012.661756, 1300191010.2549772, 1326338092.0788534, 2241138014.9577255, 2284732264.651772, 3645928525.3889112, 3552595324.9633555]\n",
            "Custo =  229338145855.6313\n"
          ]
        },
        {
          "output_type": "stream",
          "name": "stderr",
          "text": [
            "pyswarms.single.global_best: 100%|██████████|1/1, best_cost=1.43e+11\n",
            "2023-08-25 14:18:05,948 - pyswarms.single.global_best - INFO - Optimization finished | best cost: 143304585850.20178, best pos: [5.03823889 2.76161234 3.35288053]\n",
            "2023-08-25 14:18:05,949 - pyswarms.single.global_best - INFO - Optimize for 1 iters with {'c1': 0.5, 'c2': 0.3, 'w': 0.9}\n"
          ]
        },
        {
          "output_type": "stream",
          "name": "stdout",
          "text": [
            "\n",
            "=========================================================================\n",
            "\n",
            "Número de ciclos de manutenção: 19 5\n",
            "Tempos para manutenções preventivas: [0, 1, 70, 91, 160, 181, 251, 340, 361, 430, 451, 520, 541, 610, 630, 700, 721, 790, 812, 880]\n",
            "Severidade para cada subsistema: [0.75, 0.5, 0.75, 0.5, 0.75, 0.5, 0.5, 0.75, 0.5, 0.75, 0.5, 0.75, 0.5, 0.75, 0.5, 0.75, 0.5, 0.75, 0.5]\n",
            "Número de Sisemas: 5\n",
            "Fator:  [0.3296799539643607, 0.7768698398515702, 0.6321205588285577, 0.7768698398515702, 0.6321205588285577, 0.7768698398515702, 0.6321205588285577, 0.6321205588285577, 0.7768698398515702, 0.6321205588285577, 0.7768698398515702, 0.6321205588285577, 0.7768698398515702, 0.6321205588285577, 0.7768698398515702, 0.6321205588285577, 0.7768698398515702, 0.6321205588285577, 0.7768698398515702, 0.6321205588285577]\n",
            "Media de falhas:  [0, 0.00032, 525277.7515387319, 546051.4751908119, 4149047.6648599235, 4318030.519935706, 19111079.29047286, 39449915.618882686, 50939143.48360908, 144823264.7094371, 149221055.3508782, 337913954.9943563, 346644199.50398207, 689318592.3980402, 704038810.656869, 1290787808.2500901, 1316934890.0739663, 2231734812.952839, 2275329062.6468854, 3636525323.3840246, 3543192122.958469]\n",
            "Custo =  227940679542.8733\n"
          ]
        },
        {
          "output_type": "stream",
          "name": "stderr",
          "text": [
            "pyswarms.single.global_best: 100%|██████████|1/1, best_cost=1.43e+11\n",
            "2023-08-25 14:18:05,958 - pyswarms.single.global_best - INFO - Optimization finished | best cost: 143304585850.20178, best pos: [5.03822847 2.76161841 3.35288007]\n",
            "2023-08-25 14:18:05,959 - pyswarms.single.global_best - INFO - Optimize for 1 iters with {'c1': 0.5, 'c2': 0.3, 'w': 0.9}\n"
          ]
        },
        {
          "output_type": "stream",
          "name": "stdout",
          "text": [
            "\n",
            "=========================================================================\n",
            "\n",
            "Número de ciclos de manutenção: 20 5\n",
            "Tempos para manutenções preventivas: [0, 1, 70, 91, 160, 181, 250, 274, 340, 361, 430, 451, 520, 541, 610, 630, 700, 721, 790, 813, 880]\n",
            "Severidade para cada subsistema: [0.75, 0.5, 0.75, 0.5, 0.75, 0.5, 0.25, 0.5, 0.75, 0.5, 0.75, 0.5, 0.75, 0.5, 0.75, 0.5, 0.75, 0.5, 0.75, 0.5]\n",
            "Número de Sisemas: 5\n",
            "Fator:  [0.3296799539643607, 0.7768698398515702, 0.6321205588285577, 0.7768698398515702, 0.6321205588285577, 0.7768698398515702, 0.6321205588285577, 0.3934693402873666, 0.6321205588285577, 0.7768698398515702, 0.6321205588285577, 0.7768698398515702, 0.6321205588285577, 0.7768698398515702, 0.6321205588285577, 0.7768698398515702, 0.6321205588285577, 0.7768698398515702, 0.6321205588285577, 0.7768698398515702, 0.6321205588285577]\n",
            "Media de falhas:  [0, 0.00032, 525277.7515387319, 546051.4751908119, 4149047.6648599235, 4318030.519935706, 18562312.543717053, 19423875.489627216, 57409838.17607458, 131878446.74125533, 225762567.96708333, 230160358.60852444, 418853258.25200254, 427583502.7616283, 770257895.6556864, 784978113.9145153, 1371727111.5077362, 1397874193.3316123, 2312674116.2104845, 2358766142.1554723, 3697035546.8166285, 3603702346.3910728]\n",
            "Custo =  241364948810.52795\n"
          ]
        },
        {
          "output_type": "stream",
          "name": "stderr",
          "text": [
            "pyswarms.single.global_best: 100%|██████████|1/1, best_cost=1.43e+11\n"
          ]
        },
        {
          "output_type": "stream",
          "name": "stdout",
          "text": [
            "\n",
            "=========================================================================\n",
            "\n",
            "Número de ciclos de manutenção: 19 5\n",
            "Tempos para manutenções preventivas: [0, 1, 70, 91, 160, 181, 250, 340, 361, 430, 451, 520, 541, 610, 630, 700, 721, 790, 812, 880]\n",
            "Severidade para cada subsistema: [0.75, 0.5, 0.75, 0.5, 0.75, 0.5, 0.5, 0.75, 0.5, 0.75, 0.5, 0.75, 0.5, 0.75, 0.5, 0.75, 0.5, 0.75, 0.5]\n",
            "Número de Sisemas: 5\n",
            "Fator:  [0.3296799539643607, 0.7768698398515702, 0.6321205588285577, 0.7768698398515702, 0.6321205588285577, 0.7768698398515702, 0.6321205588285577, 0.6321205588285577, 0.7768698398515702, 0.6321205588285577, 0.7768698398515702, 0.6321205588285577, 0.7768698398515702, 0.6321205588285577, 0.7768698398515702, 0.6321205588285577, 0.7768698398515702, 0.6321205588285577, 0.7768698398515702, 0.6321205588285577]\n",
            "Media de falhas:  [0, 0.00032, 525277.7515387319, 546051.4751908119, 4149047.6648599235, 4318030.519935706, 18562312.543717053, 39460104.73204997, 50949332.596776366, 144833453.8226044, 149231244.4640455, 337924144.10752356, 346654388.61714935, 689328781.5112075, 704048999.7700363, 1290797997.3632574, 1316945079.1871336, 2231745002.0660057, 2275339251.760052, 3636535512.4971914, 3543202312.0716357]\n",
            "Custo =  227935803710.6413\n"
          ]
        },
        {
          "output_type": "stream",
          "name": "stderr",
          "text": [
            "2023-08-25 14:18:06,141 - pyswarms.single.global_best - INFO - Optimization finished | best cost: 143304585850.20178, best pos: [5.03821652 2.76162589 3.35287976]\n",
            "2023-08-25 14:18:06,143 - pyswarms.single.global_best - INFO - Optimize for 1 iters with {'c1': 0.5, 'c2': 0.3, 'w': 0.9}\n",
            "pyswarms.single.global_best: 100%|██████████|1/1, best_cost=1.43e+11\n",
            "2023-08-25 14:18:06,151 - pyswarms.single.global_best - INFO - Optimization finished | best cost: 143304585850.20178, best pos: [5.03820296 2.76163334 3.3528796 ]\n"
          ]
        },
        {
          "output_type": "stream",
          "name": "stdout",
          "text": [
            "\n",
            "=========================================================================\n",
            "\n",
            "Número de ciclos de manutenção: 19 5\n",
            "Tempos para manutenções preventivas: [0, 1, 70, 91, 160, 181, 249, 340, 361, 430, 451, 520, 541, 610, 630, 700, 721, 790, 812, 880]\n",
            "Severidade para cada subsistema: [0.75, 0.5, 0.75, 0.5, 0.75, 0.5, 0.5, 0.75, 0.5, 0.75, 0.5, 0.75, 0.5, 0.75, 0.5, 0.75, 0.5, 0.75, 0.5]\n",
            "Número de Sisemas: 5\n",
            "Fator:  [0.3296799539643607, 0.7768698398515702, 0.6321205588285577, 0.7768698398515702, 0.6321205588285577, 0.7768698398515702, 0.6321205588285577, 0.6321205588285577, 0.7768698398515702, 0.6321205588285577, 0.7768698398515702, 0.6321205588285577, 0.7768698398515702, 0.6321205588285577, 0.7768698398515702, 0.6321205588285577, 0.7768698398515702, 0.6321205588285577, 0.7768698398515702, 0.6321205588285577]\n",
            "Media de falhas:  [0, 0.00032, 525277.7515387319, 546051.4751908119, 4149047.6648599235, 4318030.519935706, 18029498.63845581, 39498158.76114746, 50987386.62587386, 144871507.8517019, 149269298.493143, 337962198.1366211, 346692442.6462469, 689366835.540305, 704087053.7991339, 1290836051.392355, 1316983133.216231, 2231783056.0951033, 2275377305.7891498, 3636573566.526289, 3543240366.1007333]\n",
            "Custo =  227931491783.61865\n"
          ]
        },
        {
          "output_type": "stream",
          "name": "stderr",
          "text": [
            "2023-08-25 14:18:06,152 - pyswarms.single.global_best - INFO - Optimize for 1 iters with {'c1': 0.5, 'c2': 0.3, 'w': 0.9}\n",
            "pyswarms.single.global_best: 100%|██████████|1/1, best_cost=1.43e+11\n",
            "2023-08-25 14:18:06,160 - pyswarms.single.global_best - INFO - Optimization finished | best cost: 143304585850.20178, best pos: [5.03818963 2.76163994 3.35287947]\n",
            "2023-08-25 14:18:06,162 - pyswarms.single.global_best - INFO - Optimize for 1 iters with {'c1': 0.5, 'c2': 0.3, 'w': 0.9}\n"
          ]
        },
        {
          "output_type": "stream",
          "name": "stdout",
          "text": [
            "\n",
            "=========================================================================\n",
            "\n",
            "Número de ciclos de manutenção: 19 5\n",
            "Tempos para manutenções preventivas: [0, 1, 70, 91, 160, 181, 249, 340, 361, 430, 451, 520, 541, 610, 631, 700, 721, 790, 811, 880]\n",
            "Severidade para cada subsistema: [0.75, 0.5, 0.75, 0.5, 0.75, 0.5, 0.5, 0.75, 0.5, 0.75, 0.5, 0.75, 0.5, 0.75, 0.5, 0.75, 0.5, 0.75, 0.5]\n",
            "Número de Sisemas: 5\n",
            "Fator:  [0.3296799539643607, 0.7768698398515702, 0.6321205588285577, 0.7768698398515702, 0.6321205588285577, 0.7768698398515702, 0.6321205588285577, 0.6321205588285577, 0.7768698398515702, 0.6321205588285577, 0.7768698398515702, 0.6321205588285577, 0.7768698398515702, 0.6321205588285577, 0.7768698398515702, 0.6321205588285577, 0.7768698398515702, 0.6321205588285577, 0.7768698398515702, 0.6321205588285577]\n",
            "Media de falhas:  [0, 0.00032, 525277.7515387319, 546051.4751908119, 4149047.6648599235, 4318030.519935706, 18029498.63845581, 39498158.76114746, 50987386.62587386, 144871507.8517019, 149269298.493143, 337962198.1366211, 346692442.6462469, 689366835.540305, 705049552.4143364, 1281743254.2998157, 1307890336.1236918, 2222690259.0025644, 2263836618.033145, 3648062765.521736, 3554729565.0961804]\n",
            "Custo =  227963437379.0777\n"
          ]
        },
        {
          "output_type": "stream",
          "name": "stderr",
          "text": [
            "pyswarms.single.global_best: 100%|██████████|1/1, best_cost=1.43e+11\n",
            "2023-08-25 14:18:06,170 - pyswarms.single.global_best - INFO - Optimization finished | best cost: 143304585850.20178, best pos: [5.03817834 2.76164504 3.3528796 ]\n",
            "2023-08-25 14:18:06,171 - pyswarms.single.global_best - INFO - Optimize for 1 iters with {'c1': 0.5, 'c2': 0.3, 'w': 0.9}\n"
          ]
        },
        {
          "output_type": "stream",
          "name": "stdout",
          "text": [
            "\n",
            "=========================================================================\n",
            "\n",
            "Número de ciclos de manutenção: 19 5\n",
            "Tempos para manutenções preventivas: [0, 1, 70, 91, 160, 181, 249, 340, 361, 430, 451, 520, 541, 610, 631, 700, 720, 790, 811, 880]\n",
            "Severidade para cada subsistema: [0.75, 0.5, 0.75, 0.5, 0.75, 0.5, 0.5, 0.75, 0.5, 0.75, 0.5, 0.75, 0.5, 0.75, 0.5, 0.75, 0.5, 0.75, 0.5]\n",
            "Número de Sisemas: 5\n",
            "Fator:  [0.3296799539643607, 0.7768698398515702, 0.6321205588285577, 0.7768698398515702, 0.6321205588285577, 0.7768698398515702, 0.6321205588285577, 0.6321205588285577, 0.7768698398515702, 0.6321205588285577, 0.7768698398515702, 0.6321205588285577, 0.7768698398515702, 0.6321205588285577, 0.7768698398515702, 0.6321205588285577, 0.7768698398515702, 0.6321205588285577, 0.7768698398515702, 0.6321205588285577]\n",
            "Media de falhas:  [0, 0.00032, 525277.7515387319, 546051.4751908119, 4149047.6648599235, 4318030.519935706, 18029498.63845581, 39498158.76114746, 50987386.62587386, 144871507.8517019, 149269298.493143, 337962198.1366211, 346692442.6462469, 689366835.540305, 705049552.4143364, 1281743254.2998157, 1306330834.7740335, 2236706747.315223, 2277853106.3458037, 3662079253.834395, 3568746053.408839]\n",
            "Custo =  228033015236.09894\n"
          ]
        },
        {
          "output_type": "stream",
          "name": "stderr",
          "text": [
            "pyswarms.single.global_best: 100%|██████████|1/1, best_cost=1.43e+11\n",
            "2023-08-25 14:18:06,179 - pyswarms.single.global_best - INFO - Optimization finished | best cost: 143304585850.20178, best pos: [5.03817089 2.76164897 3.35287986]\n",
            "2023-08-25 14:18:06,180 - pyswarms.single.global_best - INFO - Optimize for 1 iters with {'c1': 0.5, 'c2': 0.3, 'w': 0.9}\n"
          ]
        },
        {
          "output_type": "stream",
          "name": "stdout",
          "text": [
            "\n",
            "=========================================================================\n",
            "\n",
            "Número de ciclos de manutenção: 19 5\n",
            "Tempos para manutenções preventivas: [0, 1, 70, 91, 160, 181, 249, 340, 361, 430, 451, 520, 541, 610, 631, 700, 720, 790, 810, 880]\n",
            "Severidade para cada subsistema: [0.75, 0.5, 0.75, 0.5, 0.75, 0.5, 0.5, 0.75, 0.5, 0.75, 0.5, 0.75, 0.5, 0.75, 0.5, 0.75, 0.5, 0.75, 0.5]\n",
            "Número de Sisemas: 5\n",
            "Fator:  [0.3296799539643607, 0.7768698398515702, 0.6321205588285577, 0.7768698398515702, 0.6321205588285577, 0.7768698398515702, 0.6321205588285577, 0.6321205588285577, 0.7768698398515702, 0.6321205588285577, 0.7768698398515702, 0.6321205588285577, 0.7768698398515702, 0.6321205588285577, 0.7768698398515702, 0.6321205588285577, 0.7768698398515702, 0.6321205588285577, 0.7768698398515702, 0.6321205588285577]\n",
            "Media de falhas:  [0, 0.00032, 525277.7515387319, 546051.4751908119, 4149047.6648599235, 4318030.519935706, 18029498.63845581, 39498158.76114746, 50987386.62587386, 144871507.8517019, 149269298.493143, 337962198.1366211, 346692442.6462469, 689366835.540305, 705049552.4143364, 1281743254.2998157, 1306330834.7740335, 2236706747.315223, 2275454350.274468, 3682814153.685844, 3589480953.2602882]\n",
            "Custo =  228120700273.20673\n"
          ]
        },
        {
          "output_type": "stream",
          "name": "stderr",
          "text": [
            "pyswarms.single.global_best: 100%|██████████|1/1, best_cost=1.43e+11\n",
            "2023-08-25 14:18:06,188 - pyswarms.single.global_best - INFO - Optimization finished | best cost: 143304585850.20178, best pos: [5.03816918 2.76164739 3.35288032]\n",
            "2023-08-25 14:18:06,190 - pyswarms.single.global_best - INFO - Optimize for 1 iters with {'c1': 0.5, 'c2': 0.3, 'w': 0.9}\n"
          ]
        },
        {
          "output_type": "stream",
          "name": "stdout",
          "text": [
            "\n",
            "=========================================================================\n",
            "\n",
            "Número de ciclos de manutenção: 18 5\n",
            "Tempos para manutenções preventivas: [0, 1, 70, 91, 160, 180, 250, 340, 361, 430, 451, 520, 541, 610, 631, 700, 720, 790, 880]\n",
            "Severidade para cada subsistema: [0.75, 0.5, 0.75, 0.5, 0.75, 0.5, 0.5, 0.75, 0.5, 0.75, 0.5, 0.75, 0.5, 0.75, 0.5, 0.75, 0.5, 0.5]\n",
            "Número de Sisemas: 5\n",
            "Fator:  [0.3296799539643607, 0.7768698398515702, 0.6321205588285577, 0.7768698398515702, 0.6321205588285577, 0.7768698398515702, 0.6321205588285577, 0.6321205588285577, 0.7768698398515702, 0.6321205588285577, 0.7768698398515702, 0.6321205588285577, 0.7768698398515702, 0.6321205588285577, 0.7768698398515702, 0.6321205588285577, 0.7768698398515702, 0.6321205588285577, 0.6321205588285577]\n",
            "Media de falhas:  [0, 0.00032, 525277.7515387319, 546051.4751908119, 4149047.6648599235, 4302065.8659635885, 18902800.993072666, 39800593.18140558, 51289821.04613198, 145173942.27196002, 149571732.91340113, 338264632.5568792, 346994877.066505, 689669269.9605632, 705351986.8345946, 1282045688.7200737, 1306633269.1942916, 2237009181.7354813, 2610884932.5791817, 1523668672.4533625]\n",
            "Custo =  183082167796.30066\n"
          ]
        },
        {
          "output_type": "stream",
          "name": "stderr",
          "text": [
            "pyswarms.single.global_best: 100%|██████████|1/1, best_cost=1.43e+11\n",
            "2023-08-25 14:18:06,203 - pyswarms.single.global_best - INFO - Optimization finished | best cost: 143304585850.20178, best pos: [5.038173   2.76164386 3.35288097]\n",
            "2023-08-25 14:18:06,204 - pyswarms.single.global_best - INFO - Optimize for 1 iters with {'c1': 0.5, 'c2': 0.3, 'w': 0.9}\n"
          ]
        },
        {
          "output_type": "stream",
          "name": "stdout",
          "text": [
            "\n",
            "=========================================================================\n",
            "\n",
            "Número de ciclos de manutenção: 18 5\n",
            "Tempos para manutenções preventivas: [0, 1, 70, 91, 160, 181, 250, 340, 361, 430, 451, 520, 541, 610, 631, 700, 720, 790, 880]\n",
            "Severidade para cada subsistema: [0.75, 0.5, 0.75, 0.5, 0.75, 0.5, 0.5, 0.75, 0.5, 0.75, 0.5, 0.75, 0.5, 0.75, 0.5, 0.75, 0.5, 0.5]\n",
            "Número de Sisemas: 5\n",
            "Fator:  [0.3296799539643607, 0.7768698398515702, 0.6321205588285577, 0.7768698398515702, 0.6321205588285577, 0.7768698398515702, 0.6321205588285577, 0.6321205588285577, 0.7768698398515702, 0.6321205588285577, 0.7768698398515702, 0.6321205588285577, 0.7768698398515702, 0.6321205588285577, 0.7768698398515702, 0.6321205588285577, 0.7768698398515702, 0.6321205588285577, 0.6321205588285577]\n",
            "Media de falhas:  [0, 0.00032, 525277.7515387319, 546051.4751908119, 4149047.6648599235, 4318030.519935706, 18562312.543717053, 39460104.73204997, 50949332.596776366, 144833453.8226044, 149231244.4640455, 337924144.10752356, 346654388.61714935, 689328781.5112075, 705011498.3852389, 1281705200.270718, 1306292780.744936, 2236668693.2861257, 2610544444.129826, 1523328184.0040069]\n",
            "Custo =  183075179096.9177\n"
          ]
        },
        {
          "output_type": "stream",
          "name": "stderr",
          "text": [
            "pyswarms.single.global_best: 100%|██████████|1/1, best_cost=1.43e+11\n",
            "2023-08-25 14:18:06,213 - pyswarms.single.global_best - INFO - Optimization finished | best cost: 143304585850.20178, best pos: [5.03817703 2.76163873 3.35288157]\n",
            "2023-08-25 14:18:06,214 - pyswarms.single.global_best - INFO - Optimize for 1 iters with {'c1': 0.5, 'c2': 0.3, 'w': 0.9}\n"
          ]
        },
        {
          "output_type": "stream",
          "name": "stdout",
          "text": [
            "\n",
            "=========================================================================\n",
            "\n",
            "Número de ciclos de manutenção: 18 5\n",
            "Tempos para manutenções preventivas: [0, 1, 70, 91, 160, 181, 250, 340, 361, 430, 451, 520, 541, 610, 631, 700, 720, 790, 880]\n",
            "Severidade para cada subsistema: [0.75, 0.5, 0.75, 0.5, 0.75, 0.5, 0.5, 0.75, 0.5, 0.75, 0.5, 0.75, 0.5, 0.75, 0.5, 0.75, 0.5, 0.5]\n",
            "Número de Sisemas: 5\n",
            "Fator:  [0.3296799539643607, 0.7768698398515702, 0.6321205588285577, 0.7768698398515702, 0.6321205588285577, 0.7768698398515702, 0.6321205588285577, 0.6321205588285577, 0.7768698398515702, 0.6321205588285577, 0.7768698398515702, 0.6321205588285577, 0.7768698398515702, 0.6321205588285577, 0.7768698398515702, 0.6321205588285577, 0.7768698398515702, 0.6321205588285577, 0.6321205588285577]\n",
            "Media de falhas:  [0, 0.00032, 525277.7515387319, 546051.4751908119, 4149047.6648599235, 4318030.519935706, 18562312.543717053, 39460104.73204997, 50949332.596776366, 144833453.8226044, 149231244.4640455, 337924144.10752356, 346654388.61714935, 689328781.5112075, 705011498.3852389, 1281705200.270718, 1306292780.744936, 2236668693.2861257, 2610544444.129826, 1523328184.0040069]\n",
            "Custo =  183075179096.9177\n"
          ]
        },
        {
          "output_type": "stream",
          "name": "stderr",
          "text": [
            "pyswarms.single.global_best: 100%|██████████|1/1, best_cost=1.43e+11\n",
            "2023-08-25 14:18:06,222 - pyswarms.single.global_best - INFO - Optimization finished | best cost: 143304585850.20178, best pos: [5.03818438 2.76163384 3.35288211]\n",
            "2023-08-25 14:18:06,225 - pyswarms.single.global_best - INFO - Optimize for 1 iters with {'c1': 0.5, 'c2': 0.3, 'w': 0.9}\n"
          ]
        },
        {
          "output_type": "stream",
          "name": "stdout",
          "text": [
            "\n",
            "=========================================================================\n",
            "\n",
            "Número de ciclos de manutenção: 20 5\n",
            "Tempos para manutenções preventivas: [0, 1, 70, 91, 160, 181, 250, 275, 340, 361, 430, 451, 520, 541, 610, 631, 700, 720, 790, 810, 880]\n",
            "Severidade para cada subsistema: [0.75, 0.5, 0.75, 0.5, 0.75, 0.5, 0.5, 0.5, 0.75, 0.5, 0.75, 0.5, 0.75, 0.5, 0.75, 0.5, 0.75, 0.5, 0.75, 0.5]\n",
            "Número de Sisemas: 5\n",
            "Fator:  [0.3296799539643607, 0.7768698398515702, 0.6321205588285577, 0.7768698398515702, 0.6321205588285577, 0.7768698398515702, 0.6321205588285577, 0.6321205588285577, 0.6321205588285577, 0.7768698398515702, 0.6321205588285577, 0.7768698398515702, 0.6321205588285577, 0.7768698398515702, 0.6321205588285577, 0.7768698398515702, 0.6321205588285577, 0.7768698398515702, 0.6321205588285577, 0.7768698398515702, 0.6321205588285577]\n",
            "Media de falhas:  [0, 0.00032, 525277.7515387319, 546051.4751908119, 4149047.6648599235, 4318030.519935706, 18562312.543717053, 19490347.38931401, 56638135.12596691, 68127362.9906933, 162011484.21652132, 166409274.85796243, 355102174.5014405, 363832419.0110663, 706506811.9051244, 722189528.7791559, 1298883230.6646352, 1323470811.138853, 2253846723.6800427, 2292594326.6392875, 3699954130.0506635, 3606620929.625108]\n",
            "Custo =  229630724895.56396\n"
          ]
        },
        {
          "output_type": "stream",
          "name": "stderr",
          "text": [
            "pyswarms.single.global_best: 100%|██████████|1/1, best_cost=1.43e+11\n",
            "2023-08-25 14:18:06,232 - pyswarms.single.global_best - INFO - Optimization finished | best cost: 143304585850.20178, best pos: [5.03819155 2.76162933 3.35288254]\n",
            "2023-08-25 14:18:06,234 - pyswarms.single.global_best - INFO - Optimize for 1 iters with {'c1': 0.5, 'c2': 0.3, 'w': 0.9}\n"
          ]
        },
        {
          "output_type": "stream",
          "name": "stdout",
          "text": [
            "\n",
            "=========================================================================\n",
            "\n",
            "Número de ciclos de manutenção: 20 5\n",
            "Tempos para manutenções preventivas: [0, 1, 70, 91, 160, 181, 250, 291, 340, 361, 430, 451, 520, 541, 610, 631, 700, 721, 790, 810, 880]\n",
            "Severidade para cada subsistema: [0.75, 0.5, 0.75, 0.5, 0.75, 0.5, 0.75, 0.5, 0.75, 0.5, 0.75, 0.5, 0.75, 0.5, 0.75, 0.5, 0.75, 0.5, 0.75, 0.5]\n",
            "Número de Sisemas: 5\n",
            "Fator:  [0.3296799539643607, 0.7768698398515702, 0.6321205588285577, 0.7768698398515702, 0.6321205588285577, 0.7768698398515702, 0.6321205588285577, 0.7768698398515702, 0.6321205588285577, 0.7768698398515702, 0.6321205588285577, 0.7768698398515702, 0.6321205588285577, 0.7768698398515702, 0.6321205588285577, 0.7768698398515702, 0.6321205588285577, 0.7768698398515702, 0.6321205588285577, 0.7768698398515702, 0.6321205588285577]\n",
            "Media de falhas:  [0, 0.00032, 525277.7515387319, 546051.4751908119, 4149047.6648599235, 4318030.519935706, 18562312.543717053, 21106757.841931857, 46222326.39631443, 48146953.15877672, 142031074.38460475, 146428865.02604586, 335121764.66952395, 343852009.17914975, 686526402.0732079, 702209118.9472393, 1278902820.8327184, 1305049902.6565945, 2219849825.535467, 2258597428.494712, 3665957231.906088, 3572624031.480532]\n",
            "Custo =  227603304187.6845\n"
          ]
        },
        {
          "output_type": "stream",
          "name": "stderr",
          "text": [
            "pyswarms.single.global_best: 100%|██████████|1/1, best_cost=1.43e+11\n",
            "2023-08-25 14:18:06,242 - pyswarms.single.global_best - INFO - Optimization finished | best cost: 143304585850.20178, best pos: [5.03819869 2.76162539 3.35288273]\n",
            "2023-08-25 14:18:06,243 - pyswarms.single.global_best - INFO - Optimize for 1 iters with {'c1': 0.5, 'c2': 0.3, 'w': 0.9}\n"
          ]
        },
        {
          "output_type": "stream",
          "name": "stdout",
          "text": [
            "\n",
            "=========================================================================\n",
            "\n",
            "Número de ciclos de manutenção: 19 5\n",
            "Tempos para manutenções preventivas: [0, 1, 70, 91, 160, 181, 250, 340, 361, 430, 451, 520, 541, 610, 631, 700, 721, 790, 810, 880]\n",
            "Severidade para cada subsistema: [0.75, 0.5, 0.75, 0.5, 0.75, 0.5, 0.5, 0.75, 0.5, 0.75, 0.5, 0.75, 0.5, 0.75, 0.5, 0.75, 0.5, 0.75, 0.5]\n",
            "Número de Sisemas: 5\n",
            "Fator:  [0.3296799539643607, 0.7768698398515702, 0.6321205588285577, 0.7768698398515702, 0.6321205588285577, 0.7768698398515702, 0.6321205588285577, 0.6321205588285577, 0.7768698398515702, 0.6321205588285577, 0.7768698398515702, 0.6321205588285577, 0.7768698398515702, 0.6321205588285577, 0.7768698398515702, 0.6321205588285577, 0.7768698398515702, 0.6321205588285577, 0.7768698398515702, 0.6321205588285577]\n",
            "Media de falhas:  [0, 0.00032, 525277.7515387319, 546051.4751908119, 4149047.6648599235, 4318030.519935706, 18562312.543717053, 39460104.73204997, 50949332.596776366, 144833453.8226044, 149231244.4640455, 337924144.10752356, 346654388.61714935, 689328781.5112075, 705011498.3852389, 1281705200.270718, 1307852282.0945942, 2222652204.973467, 2261399807.9327116, 3668759611.3440876, 3575426410.918532]\n",
            "Custo =  228055434343.20813\n"
          ]
        },
        {
          "output_type": "stream",
          "name": "stderr",
          "text": [
            "pyswarms.single.global_best: 100%|██████████|1/1, best_cost=1.43e+11\n",
            "2023-08-25 14:18:06,251 - pyswarms.single.global_best - INFO - Optimization finished | best cost: 143304585850.20178, best pos: [5.03820508 2.76162288 3.35288256]\n",
            "2023-08-25 14:18:06,252 - pyswarms.single.global_best - INFO - Optimize for 1 iters with {'c1': 0.5, 'c2': 0.3, 'w': 0.9}\n"
          ]
        },
        {
          "output_type": "stream",
          "name": "stdout",
          "text": [
            "\n",
            "=========================================================================\n",
            "\n",
            "Número de ciclos de manutenção: 19 5\n",
            "Tempos para manutenções preventivas: [0, 1, 70, 91, 160, 181, 250, 340, 361, 430, 451, 520, 541, 610, 631, 700, 721, 790, 811, 880]\n",
            "Severidade para cada subsistema: [0.75, 0.5, 0.75, 0.5, 0.75, 0.5, 0.5, 0.75, 0.5, 0.75, 0.5, 0.75, 0.5, 0.75, 0.5, 0.75, 0.5, 0.75, 0.5]\n",
            "Número de Sisemas: 5\n",
            "Fator:  [0.3296799539643607, 0.7768698398515702, 0.6321205588285577, 0.7768698398515702, 0.6321205588285577, 0.7768698398515702, 0.6321205588285577, 0.6321205588285577, 0.7768698398515702, 0.6321205588285577, 0.7768698398515702, 0.6321205588285577, 0.7768698398515702, 0.6321205588285577, 0.7768698398515702, 0.6321205588285577, 0.7768698398515702, 0.6321205588285577, 0.7768698398515702, 0.6321205588285577]\n",
            "Media de falhas:  [0, 0.00032, 525277.7515387319, 546051.4751908119, 4149047.6648599235, 4318030.519935706, 18562312.543717053, 39460104.73204997, 50949332.596776366, 144833453.8226044, 149231244.4640455, 337924144.10752356, 346654388.61714935, 689328781.5112075, 705011498.3852389, 1281705200.270718, 1307852282.0945942, 2222652204.973467, 2263798564.0040474, 3648024711.4926386, 3554691511.067083]\n",
            "Custo =  227967749306.10034\n"
          ]
        },
        {
          "output_type": "stream",
          "name": "stderr",
          "text": [
            "pyswarms.single.global_best: 100%|██████████|1/1, best_cost=1.43e+11\n",
            "2023-08-25 14:18:06,260 - pyswarms.single.global_best - INFO - Optimization finished | best cost: 143304585850.20178, best pos: [5.03820817 2.76162189 3.35288219]\n",
            "2023-08-25 14:18:06,261 - pyswarms.single.global_best - INFO - Optimize for 1 iters with {'c1': 0.5, 'c2': 0.3, 'w': 0.9}\n"
          ]
        },
        {
          "output_type": "stream",
          "name": "stdout",
          "text": [
            "\n",
            "=========================================================================\n",
            "\n",
            "Número de ciclos de manutenção: 19 5\n",
            "Tempos para manutenções preventivas: [0, 1, 70, 91, 160, 181, 250, 340, 361, 430, 451, 520, 541, 610, 631, 700, 721, 790, 811, 880]\n",
            "Severidade para cada subsistema: [0.75, 0.5, 0.75, 0.5, 0.75, 0.5, 0.5, 0.75, 0.5, 0.75, 0.5, 0.75, 0.5, 0.75, 0.5, 0.75, 0.5, 0.75, 0.5]\n",
            "Número de Sisemas: 5\n",
            "Fator:  [0.3296799539643607, 0.7768698398515702, 0.6321205588285577, 0.7768698398515702, 0.6321205588285577, 0.7768698398515702, 0.6321205588285577, 0.6321205588285577, 0.7768698398515702, 0.6321205588285577, 0.7768698398515702, 0.6321205588285577, 0.7768698398515702, 0.6321205588285577, 0.7768698398515702, 0.6321205588285577, 0.7768698398515702, 0.6321205588285577, 0.7768698398515702, 0.6321205588285577]\n",
            "Media de falhas:  [0, 0.00032, 525277.7515387319, 546051.4751908119, 4149047.6648599235, 4318030.519935706, 18562312.543717053, 39460104.73204997, 50949332.596776366, 144833453.8226044, 149231244.4640455, 337924144.10752356, 346654388.61714935, 689328781.5112075, 705011498.3852389, 1281705200.270718, 1307852282.0945942, 2222652204.973467, 2263798564.0040474, 3648024711.4926386, 3554691511.067083]\n",
            "Custo =  227967749306.10034\n"
          ]
        },
        {
          "output_type": "stream",
          "name": "stderr",
          "text": [
            "pyswarms.single.global_best: 100%|██████████|1/1, best_cost=1.43e+11\n",
            "2023-08-25 14:18:06,269 - pyswarms.single.global_best - INFO - Optimization finished | best cost: 143304585850.20178, best pos: [5.03820891 2.76162282 3.35288173]\n",
            "2023-08-25 14:18:06,270 - pyswarms.single.global_best - INFO - Optimize for 1 iters with {'c1': 0.5, 'c2': 0.3, 'w': 0.9}\n"
          ]
        },
        {
          "output_type": "stream",
          "name": "stdout",
          "text": [
            "\n",
            "=========================================================================\n",
            "\n",
            "Número de ciclos de manutenção: 19 5\n",
            "Tempos para manutenções preventivas: [0, 1, 70, 91, 160, 181, 250, 340, 361, 430, 451, 520, 541, 610, 631, 700, 721, 790, 811, 880]\n",
            "Severidade para cada subsistema: [0.75, 0.5, 0.75, 0.5, 0.75, 0.5, 0.5, 0.75, 0.5, 0.75, 0.5, 0.75, 0.5, 0.75, 0.5, 0.75, 0.5, 0.75, 0.5]\n",
            "Número de Sisemas: 5\n",
            "Fator:  [0.3296799539643607, 0.7768698398515702, 0.6321205588285577, 0.7768698398515702, 0.6321205588285577, 0.7768698398515702, 0.6321205588285577, 0.6321205588285577, 0.7768698398515702, 0.6321205588285577, 0.7768698398515702, 0.6321205588285577, 0.7768698398515702, 0.6321205588285577, 0.7768698398515702, 0.6321205588285577, 0.7768698398515702, 0.6321205588285577, 0.7768698398515702, 0.6321205588285577]\n",
            "Media de falhas:  [0, 0.00032, 525277.7515387319, 546051.4751908119, 4149047.6648599235, 4318030.519935706, 18562312.543717053, 39460104.73204997, 50949332.596776366, 144833453.8226044, 149231244.4640455, 337924144.10752356, 346654388.61714935, 689328781.5112075, 705011498.3852389, 1281705200.270718, 1307852282.0945942, 2222652204.973467, 2263798564.0040474, 3648024711.4926386, 3554691511.067083]\n",
            "Custo =  227967749306.10034\n"
          ]
        },
        {
          "output_type": "stream",
          "name": "stderr",
          "text": [
            "pyswarms.single.global_best: 100%|██████████|1/1, best_cost=1.43e+11\n",
            "2023-08-25 14:18:06,278 - pyswarms.single.global_best - INFO - Optimization finished | best cost: 143304585850.20178, best pos: [5.03820956 2.76162518 3.35288128]\n",
            "2023-08-25 14:18:06,279 - pyswarms.single.global_best - INFO - Optimize for 1 iters with {'c1': 0.5, 'c2': 0.3, 'w': 0.9}\n"
          ]
        },
        {
          "output_type": "stream",
          "name": "stdout",
          "text": [
            "\n",
            "=========================================================================\n",
            "\n",
            "Número de ciclos de manutenção: 19 5\n",
            "Tempos para manutenções preventivas: [0, 1, 70, 91, 160, 181, 250, 340, 361, 430, 451, 520, 541, 610, 630, 700, 721, 790, 811, 880]\n",
            "Severidade para cada subsistema: [0.75, 0.5, 0.75, 0.5, 0.75, 0.5, 0.5, 0.75, 0.5, 0.75, 0.5, 0.75, 0.5, 0.75, 0.5, 0.75, 0.5, 0.75, 0.5]\n",
            "Número de Sisemas: 5\n",
            "Fator:  [0.3296799539643607, 0.7768698398515702, 0.6321205588285577, 0.7768698398515702, 0.6321205588285577, 0.7768698398515702, 0.6321205588285577, 0.6321205588285577, 0.7768698398515702, 0.6321205588285577, 0.7768698398515702, 0.6321205588285577, 0.7768698398515702, 0.6321205588285577, 0.7768698398515702, 0.6321205588285577, 0.7768698398515702, 0.6321205588285577, 0.7768698398515702, 0.6321205588285577]\n",
            "Media de falhas:  [0, 0.00032, 525277.7515387319, 546051.4751908119, 4149047.6648599235, 4318030.519935706, 18562312.543717053, 39460104.73204997, 50949332.596776366, 144833453.8226044, 149231244.4640455, 337924144.10752356, 346654388.61714935, 689328781.5112075, 704048999.7700363, 1290797997.3632574, 1316945079.1871336, 2231745002.0660057, 2272891361.096586, 3657117508.5851774, 3563784308.1596217]\n",
            "Custo =  228021604017.4284\n"
          ]
        },
        {
          "output_type": "stream",
          "name": "stderr",
          "text": [
            "pyswarms.single.global_best: 100%|██████████|1/1, best_cost=1.43e+11\n",
            "2023-08-25 14:18:06,287 - pyswarms.single.global_best - INFO - Optimization finished | best cost: 143304585850.20178, best pos: [5.03820971 2.76162797 3.35288094]\n",
            "2023-08-25 14:18:06,288 - pyswarms.single.global_best - INFO - Optimize for 1 iters with {'c1': 0.5, 'c2': 0.3, 'w': 0.9}\n"
          ]
        },
        {
          "output_type": "stream",
          "name": "stdout",
          "text": [
            "\n",
            "=========================================================================\n",
            "\n",
            "Número de ciclos de manutenção: 19 5\n",
            "Tempos para manutenções preventivas: [0, 1, 70, 91, 160, 181, 250, 340, 361, 430, 451, 520, 541, 610, 630, 700, 721, 790, 811, 880]\n",
            "Severidade para cada subsistema: [0.75, 0.5, 0.75, 0.5, 0.75, 0.5, 0.5, 0.75, 0.5, 0.75, 0.5, 0.75, 0.5, 0.75, 0.5, 0.75, 0.5, 0.75, 0.5]\n",
            "Número de Sisemas: 5\n",
            "Fator:  [0.3296799539643607, 0.7768698398515702, 0.6321205588285577, 0.7768698398515702, 0.6321205588285577, 0.7768698398515702, 0.6321205588285577, 0.6321205588285577, 0.7768698398515702, 0.6321205588285577, 0.7768698398515702, 0.6321205588285577, 0.7768698398515702, 0.6321205588285577, 0.7768698398515702, 0.6321205588285577, 0.7768698398515702, 0.6321205588285577, 0.7768698398515702, 0.6321205588285577]\n",
            "Media de falhas:  [0, 0.00032, 525277.7515387319, 546051.4751908119, 4149047.6648599235, 4318030.519935706, 18562312.543717053, 39460104.73204997, 50949332.596776366, 144833453.8226044, 149231244.4640455, 337924144.10752356, 346654388.61714935, 689328781.5112075, 704048999.7700363, 1290797997.3632574, 1316945079.1871336, 2231745002.0660057, 2272891361.096586, 3657117508.5851774, 3563784308.1596217]\n",
            "Custo =  228021604017.4284\n"
          ]
        },
        {
          "output_type": "stream",
          "name": "stderr",
          "text": [
            "pyswarms.single.global_best:   0%|          |0/1, best_cost=1.43e+11"
          ]
        },
        {
          "output_type": "stream",
          "name": "stdout",
          "text": [
            "\n",
            "=========================================================================\n",
            "\n",
            "Número de ciclos de manutenção: 20 5\n",
            "Tempos para manutenções preventivas: [0, 1, 70, 91, 160, 181, 250, 285, 340, 361, 430, 451, 520, 541, 610, 630, 700, 721, 790, 811, 880]\n",
            "Severidade para cada subsistema: [0.75, 0.5, 0.75, 0.5, 0.75, 0.5, 0.25, 0.5, 0.75, 0.5, 0.75, 0.5, 0.75, 0.5, 0.75, 0.5, 0.75, 0.5, 0.75, 0.5]\n",
            "Número de Sisemas: 5\n",
            "Fator:  [0.3296799539643607, 0.7768698398515702, 0.6321205588285577, 0.7768698398515702, 0.6321205588285577, 0.7768698398515702, 0.6321205588285577, 0.3934693402873666, 0.6321205588285577, 0.7768698398515702, 0.6321205588285577, 0.7768698398515702, 0.6321205588285577, 0.7768698398515702, 0.6321205588285577, 0.7768698398515702, 0.6321205588285577, 0.7768698398515702, 0.6321205588285577, 0.7768698398515702, 0.6321205588285577]\n",
            "Media de falhas:  [0, 0.00032, 525277.7515387319, 546051.4751908119, 4149047.6648599235, 4318030.519935706, 18562312.543717053, 20362630.61021369, 49701347.999789774, 124169956.56497052, 218054077.79079854, 222451868.43223965, 411144768.07571775, 419875012.58534354, 762549405.4794016, 777269623.7382305, 1364018621.3314514, 1390165703.1553276, 2304965626.0341997, 2346111985.06478, 3730338132.5533714, 3637004932.1278157]\n",
            "Custo =  241428361390.53156\n"
          ]
        },
        {
          "output_type": "stream",
          "name": "stderr",
          "text": [
            "pyswarms.single.global_best: 100%|██████████|1/1, best_cost=1.43e+11\n",
            "2023-08-25 14:18:06,571 - pyswarms.single.global_best - INFO - Optimization finished | best cost: 143304585850.20178, best pos: [5.0382068  2.76163161 3.35288069]\n",
            "2023-08-25 14:18:06,573 - pyswarms.single.global_best - INFO - Optimize for 1 iters with {'c1': 0.5, 'c2': 0.3, 'w': 0.9}\n",
            "pyswarms.single.global_best: 100%|██████████|1/1, best_cost=1.43e+11\n",
            "2023-08-25 14:18:06,589 - pyswarms.single.global_best - INFO - Optimization finished | best cost: 143304585850.20178, best pos: [5.0382023  2.76163495 3.35288054]\n",
            "2023-08-25 14:18:06,591 - pyswarms.single.global_best - INFO - Optimize for 1 iters with {'c1': 0.5, 'c2': 0.3, 'w': 0.9}\n"
          ]
        },
        {
          "output_type": "stream",
          "name": "stdout",
          "text": [
            "\n",
            "=========================================================================\n",
            "\n",
            "Número de ciclos de manutenção: 20 5\n",
            "Tempos para manutenções preventivas: [0, 1, 70, 91, 160, 181, 250, 273, 340, 361, 430, 451, 520, 541, 610, 630, 700, 721, 790, 811, 880]\n",
            "Severidade para cada subsistema: [0.75, 0.5, 0.75, 0.5, 0.75, 0.5, 0.5, 0.5, 0.75, 0.5, 0.75, 0.5, 0.75, 0.5, 0.75, 0.5, 0.75, 0.5, 0.75, 0.5]\n",
            "Número de Sisemas: 5\n",
            "Fator:  [0.3296799539643607, 0.7768698398515702, 0.6321205588285577, 0.7768698398515702, 0.6321205588285577, 0.7768698398515702, 0.6321205588285577, 0.6321205588285577, 0.6321205588285577, 0.7768698398515702, 0.6321205588285577, 0.7768698398515702, 0.6321205588285577, 0.7768698398515702, 0.6321205588285577, 0.7768698398515702, 0.6321205588285577, 0.7768698398515702, 0.6321205588285577, 0.7768698398515702, 0.6321205588285577]\n",
            "Media de falhas:  [0, 0.00032, 525277.7515387319, 546051.4751908119, 4149047.6648599235, 4318030.519935706, 18562312.543717053, 19360653.99633415, 58195772.15641887, 69685000.02114527, 163569121.24697328, 167966911.88841438, 356659811.5318925, 365390056.0415183, 708064448.9355764, 722784667.1944053, 1309533664.7876263, 1335680746.6115024, 2250480669.4903746, 2291627028.520955, 3675853176.0095463, 3582519975.5839906]\n",
            "Custo =  229550169951.4521\n"
          ]
        },
        {
          "output_type": "stream",
          "name": "stderr",
          "text": [
            "pyswarms.single.global_best: 100%|██████████|1/1, best_cost=1.43e+11\n",
            "2023-08-25 14:18:06,604 - pyswarms.single.global_best - INFO - Optimization finished | best cost: 143304585850.20178, best pos: [5.03819754 2.7616372  3.35288048]\n",
            "2023-08-25 14:18:06,608 - pyswarms.single.global_best - INFO - Optimize for 1 iters with {'c1': 0.5, 'c2': 0.3, 'w': 0.9}\n"
          ]
        },
        {
          "output_type": "stream",
          "name": "stdout",
          "text": [
            "\n",
            "=========================================================================\n",
            "\n",
            "Número de ciclos de manutenção: 20 5\n",
            "Tempos para manutenções preventivas: [0, 1, 70, 91, 160, 181, 250, 271, 340, 361, 430, 451, 520, 541, 610, 631, 700, 721, 790, 811, 880]\n",
            "Severidade para cada subsistema: [0.75, 0.5, 0.75, 0.5, 0.75, 0.5, 0.75, 0.5, 0.75, 0.5, 0.75, 0.5, 0.75, 0.5, 0.75, 0.5, 0.75, 0.5, 0.75, 0.5]\n",
            "Número de Sisemas: 5\n",
            "Fator:  [0.3296799539643607, 0.7768698398515702, 0.6321205588285577, 0.7768698398515702, 0.6321205588285577, 0.7768698398515702, 0.6321205588285577, 0.7768698398515702, 0.6321205588285577, 0.7768698398515702, 0.6321205588285577, 0.7768698398515702, 0.6321205588285577, 0.7768698398515702, 0.6321205588285577, 0.7768698398515702, 0.6321205588285577, 0.7768698398515702, 0.6321205588285577, 0.7768698398515702, 0.6321205588285577]\n",
            "Media de falhas:  [0, 0.00032, 525277.7515387319, 546051.4751908119, 4149047.6648599235, 4318030.519935706, 18562312.543717053, 19243482.491594043, 59810434.57801257, 61735061.34047487, 155619182.5663029, 160016973.207744, 348709872.8512221, 357440117.3608479, 700114510.2549059, 715797227.1289374, 1292490929.0144167, 1318638010.8382928, 2233437933.717165, 2274584292.7477455, 3658810440.2363367, 3565477239.810781]\n",
            "Custo =  227698584369.813\n"
          ]
        },
        {
          "output_type": "stream",
          "name": "stderr",
          "text": [
            "pyswarms.single.global_best: 100%|██████████|1/1, best_cost=1.43e+11\n",
            "2023-08-25 14:18:06,622 - pyswarms.single.global_best - INFO - Optimization finished | best cost: 143304585850.20178, best pos: [5.03819304 2.76163849 3.35288049]\n",
            "2023-08-25 14:18:06,624 - pyswarms.single.global_best - INFO - Optimize for 1 iters with {'c1': 0.5, 'c2': 0.3, 'w': 0.9}\n"
          ]
        },
        {
          "output_type": "stream",
          "name": "stdout",
          "text": [
            "\n",
            "=========================================================================\n",
            "\n",
            "Número de ciclos de manutenção: 19 5\n",
            "Tempos para manutenções preventivas: [0, 1, 70, 91, 160, 181, 250, 340, 361, 430, 451, 520, 541, 610, 631, 700, 720, 790, 811, 880]\n",
            "Severidade para cada subsistema: [0.75, 0.5, 0.75, 0.5, 0.75, 0.5, 0.5, 0.75, 0.5, 0.75, 0.5, 0.75, 0.5, 0.75, 0.5, 0.75, 0.5, 0.75, 0.5]\n",
            "Número de Sisemas: 5\n",
            "Fator:  [0.3296799539643607, 0.7768698398515702, 0.6321205588285577, 0.7768698398515702, 0.6321205588285577, 0.7768698398515702, 0.6321205588285577, 0.6321205588285577, 0.7768698398515702, 0.6321205588285577, 0.7768698398515702, 0.6321205588285577, 0.7768698398515702, 0.6321205588285577, 0.7768698398515702, 0.6321205588285577, 0.7768698398515702, 0.6321205588285577, 0.7768698398515702, 0.6321205588285577]\n",
            "Media de falhas:  [0, 0.00032, 525277.7515387319, 546051.4751908119, 4149047.6648599235, 4318030.519935706, 18562312.543717053, 39460104.73204997, 50949332.596776366, 144833453.8226044, 149231244.4640455, 337924144.10752356, 346654388.61714935, 689328781.5112075, 705011498.3852389, 1281705200.270718, 1306292780.744936, 2236668693.2861257, 2277815052.316706, 3662041199.8052974, 3568707999.3797417]\n",
            "Custo =  228037327163.12158\n"
          ]
        },
        {
          "output_type": "stream",
          "name": "stderr",
          "text": [
            "pyswarms.single.global_best: 100%|██████████|1/1, best_cost=1.43e+11\n",
            "2023-08-25 14:18:06,639 - pyswarms.single.global_best - INFO - Optimization finished | best cost: 143304585850.20178, best pos: [5.03818987 2.76163798 3.35288069]\n",
            "2023-08-25 14:18:06,643 - pyswarms.single.global_best - INFO - Optimize for 1 iters with {'c1': 0.5, 'c2': 0.3, 'w': 0.9}\n"
          ]
        },
        {
          "output_type": "stream",
          "name": "stdout",
          "text": [
            "\n",
            "=========================================================================\n",
            "\n",
            "Número de ciclos de manutenção: 20 5\n",
            "Tempos para manutenções preventivas: [0, 1, 70, 91, 160, 181, 250, 273, 340, 361, 430, 451, 520, 541, 610, 631, 700, 720, 790, 810, 880]\n",
            "Severidade para cada subsistema: [0.75, 0.5, 0.75, 0.5, 0.75, 0.5, 0.25, 0.5, 0.75, 0.5, 0.75, 0.5, 0.75, 0.5, 0.75, 0.5, 0.75, 0.5, 0.75, 0.5]\n",
            "Número de Sisemas: 5\n",
            "Fator:  [0.3296799539643607, 0.7768698398515702, 0.6321205588285577, 0.7768698398515702, 0.6321205588285577, 0.7768698398515702, 0.6321205588285577, 0.3934693402873666, 0.6321205588285577, 0.7768698398515702, 0.6321205588285577, 0.7768698398515702, 0.6321205588285577, 0.7768698398515702, 0.6321205588285577, 0.7768698398515702, 0.6321205588285577, 0.7768698398515702, 0.6321205588285577, 0.7768698398515702, 0.6321205588285577]\n",
            "Media de falhas:  [0, 0.00032, 525277.7515387319, 546051.4751908119, 4149047.6648599235, 4318030.519935706, 18562312.543717053, 19360653.99633415, 58195772.15641887, 132664380.72159961, 226548501.94742763, 230946292.58886874, 419639192.23234683, 428369436.7419726, 771043829.6360307, 786726546.5100621, 1363420248.3955412, 1388007828.869759, 2318383741.4109488, 2357131344.3701935, 3764491147.7815695, 3671157947.356014]\n",
            "Custo =  241649650561.66876\n"
          ]
        },
        {
          "output_type": "stream",
          "name": "stderr",
          "text": [
            "pyswarms.single.global_best: 100%|██████████|1/1, best_cost=1.43e+11\n",
            "2023-08-25 14:18:06,658 - pyswarms.single.global_best - INFO - Optimization finished | best cost: 143304585850.20178, best pos: [5.03818773 2.76163733 3.3528811 ]\n",
            "2023-08-25 14:18:06,659 - pyswarms.single.global_best - INFO - Optimize for 1 iters with {'c1': 0.5, 'c2': 0.3, 'w': 0.9}\n"
          ]
        },
        {
          "output_type": "stream",
          "name": "stdout",
          "text": [
            "\n",
            "=========================================================================\n",
            "\n",
            "Número de ciclos de manutenção: 19 5\n",
            "Tempos para manutenções preventivas: [0, 1, 70, 91, 160, 181, 250, 340, 361, 430, 451, 520, 541, 610, 631, 700, 720, 790, 810, 880]\n",
            "Severidade para cada subsistema: [0.75, 0.5, 0.75, 0.5, 0.75, 0.5, 0.5, 0.75, 0.5, 0.75, 0.5, 0.75, 0.5, 0.75, 0.5, 0.75, 0.5, 0.75, 0.5]\n",
            "Número de Sisemas: 5\n",
            "Fator:  [0.3296799539643607, 0.7768698398515702, 0.6321205588285577, 0.7768698398515702, 0.6321205588285577, 0.7768698398515702, 0.6321205588285577, 0.6321205588285577, 0.7768698398515702, 0.6321205588285577, 0.7768698398515702, 0.6321205588285577, 0.7768698398515702, 0.6321205588285577, 0.7768698398515702, 0.6321205588285577, 0.7768698398515702, 0.6321205588285577, 0.7768698398515702, 0.6321205588285577]\n",
            "Media de falhas:  [0, 0.00032, 525277.7515387319, 546051.4751908119, 4149047.6648599235, 4318030.519935706, 18562312.543717053, 39460104.73204997, 50949332.596776366, 144833453.8226044, 149231244.4640455, 337924144.10752356, 346654388.61714935, 689328781.5112075, 705011498.3852389, 1281705200.270718, 1306292780.744936, 2236668693.2861257, 2275416296.2453704, 3682776099.6567464, 3589442899.2311907]\n",
            "Custo =  228125012200.22937\n"
          ]
        },
        {
          "output_type": "stream",
          "name": "stderr",
          "text": [
            "pyswarms.single.global_best: 100%|██████████|1/1, best_cost=1.43e+11\n",
            "2023-08-25 14:18:06,678 - pyswarms.single.global_best - INFO - Optimization finished | best cost: 143304585850.20178, best pos: [5.03818743 2.76163562 3.35288152]\n",
            "2023-08-25 14:18:06,679 - pyswarms.single.global_best - INFO - Optimize for 1 iters with {'c1': 0.5, 'c2': 0.3, 'w': 0.9}\n"
          ]
        },
        {
          "output_type": "stream",
          "name": "stdout",
          "text": [
            "\n",
            "=========================================================================\n",
            "\n",
            "Número de ciclos de manutenção: 19 5\n",
            "Tempos para manutenções preventivas: [0, 1, 70, 91, 160, 181, 250, 340, 361, 430, 451, 520, 541, 610, 631, 700, 720, 790, 810, 880]\n",
            "Severidade para cada subsistema: [0.75, 0.5, 0.75, 0.5, 0.75, 0.5, 0.5, 0.75, 0.5, 0.75, 0.5, 0.75, 0.5, 0.75, 0.5, 0.75, 0.5, 0.75, 0.5]\n",
            "Número de Sisemas: 5\n",
            "Fator:  [0.3296799539643607, 0.7768698398515702, 0.6321205588285577, 0.7768698398515702, 0.6321205588285577, 0.7768698398515702, 0.6321205588285577, 0.6321205588285577, 0.7768698398515702, 0.6321205588285577, 0.7768698398515702, 0.6321205588285577, 0.7768698398515702, 0.6321205588285577, 0.7768698398515702, 0.6321205588285577, 0.7768698398515702, 0.6321205588285577, 0.7768698398515702, 0.6321205588285577]\n",
            "Media de falhas:  [0, 0.00032, 525277.7515387319, 546051.4751908119, 4149047.6648599235, 4318030.519935706, 18562312.543717053, 39460104.73204997, 50949332.596776366, 144833453.8226044, 149231244.4640455, 337924144.10752356, 346654388.61714935, 689328781.5112075, 705011498.3852389, 1281705200.270718, 1306292780.744936, 2236668693.2861257, 2275416296.2453704, 3682776099.6567464, 3589442899.2311907]\n",
            "Custo =  228125012200.22937\n"
          ]
        },
        {
          "output_type": "stream",
          "name": "stderr",
          "text": [
            "pyswarms.single.global_best: 100%|██████████|1/1, best_cost=1.43e+11\n",
            "2023-08-25 14:18:06,693 - pyswarms.single.global_best - INFO - Optimization finished | best cost: 143304585850.20178, best pos: [5.0381897  2.76163322 3.3528819 ]\n",
            "2023-08-25 14:18:06,694 - pyswarms.single.global_best - INFO - Optimize for 1 iters with {'c1': 0.5, 'c2': 0.3, 'w': 0.9}\n"
          ]
        },
        {
          "output_type": "stream",
          "name": "stdout",
          "text": [
            "\n",
            "=========================================================================\n",
            "\n",
            "Número de ciclos de manutenção: 20 5\n",
            "Tempos para manutenções preventivas: [0, 1, 70, 91, 160, 181, 250, 292, 340, 361, 430, 451, 520, 541, 610, 631, 700, 720, 790, 810, 880]\n",
            "Severidade para cada subsistema: [0.75, 0.5, 0.75, 0.5, 0.75, 0.5, 0.75, 0.5, 0.75, 0.5, 0.75, 0.5, 0.75, 0.5, 0.75, 0.5, 0.75, 0.5, 0.75, 0.5]\n",
            "Número de Sisemas: 5\n",
            "Fator:  [0.3296799539643607, 0.7768698398515702, 0.6321205588285577, 0.7768698398515702, 0.6321205588285577, 0.7768698398515702, 0.6321205588285577, 0.7768698398515702, 0.6321205588285577, 0.7768698398515702, 0.6321205588285577, 0.7768698398515702, 0.6321205588285577, 0.7768698398515702, 0.6321205588285577, 0.7768698398515702, 0.6321205588285577, 0.7768698398515702, 0.6321205588285577, 0.7768698398515702, 0.6321205588285577]\n",
            "Media de falhas:  [0, 0.00032, 525277.7515387319, 546051.4751908119, 4149047.6648599235, 4318030.519935706, 18562312.543717053, 21250069.833977893, 45692836.28923911, 47617463.051701404, 141501584.27752942, 145899374.91897053, 334592274.5624486, 343322519.0720744, 685996911.9661325, 701679628.840164, 1278373330.7256432, 1302960911.199861, 2233336823.7410507, 2272084426.7002954, 3679444230.1116714, 3586111029.6861157]\n",
            "Custo =  227667267068.91486\n"
          ]
        },
        {
          "output_type": "stream",
          "name": "stderr",
          "text": [
            "pyswarms.single.global_best: 100%|██████████|1/1, best_cost=1.43e+11\n",
            "2023-08-25 14:18:06,709 - pyswarms.single.global_best - INFO - Optimization finished | best cost: 143304585850.20178, best pos: [5.03819291 2.76163068 3.35288221]\n",
            "2023-08-25 14:18:06,711 - pyswarms.single.global_best - INFO - Optimize for 1 iters with {'c1': 0.5, 'c2': 0.3, 'w': 0.9}\n"
          ]
        },
        {
          "output_type": "stream",
          "name": "stdout",
          "text": [
            "\n",
            "=========================================================================\n",
            "\n",
            "Número de ciclos de manutenção: 19 5\n",
            "Tempos para manutenções preventivas: [0, 1, 70, 91, 160, 181, 250, 340, 361, 430, 451, 520, 541, 610, 631, 700, 720, 790, 810, 880]\n",
            "Severidade para cada subsistema: [0.75, 0.5, 0.75, 0.5, 0.75, 0.5, 0.5, 0.75, 0.5, 0.75, 0.5, 0.75, 0.5, 0.75, 0.5, 0.75, 0.5, 0.75, 0.5]\n",
            "Número de Sisemas: 5\n",
            "Fator:  [0.3296799539643607, 0.7768698398515702, 0.6321205588285577, 0.7768698398515702, 0.6321205588285577, 0.7768698398515702, 0.6321205588285577, 0.6321205588285577, 0.7768698398515702, 0.6321205588285577, 0.7768698398515702, 0.6321205588285577, 0.7768698398515702, 0.6321205588285577, 0.7768698398515702, 0.6321205588285577, 0.7768698398515702, 0.6321205588285577, 0.7768698398515702, 0.6321205588285577]\n",
            "Media de falhas:  [0, 0.00032, 525277.7515387319, 546051.4751908119, 4149047.6648599235, 4318030.519935706, 18562312.543717053, 39460104.73204997, 50949332.596776366, 144833453.8226044, 149231244.4640455, 337924144.10752356, 346654388.61714935, 689328781.5112075, 705011498.3852389, 1281705200.270718, 1306292780.744936, 2236668693.2861257, 2275416296.2453704, 3682776099.6567464, 3589442899.2311907]\n",
            "Custo =  228125012200.22937\n"
          ]
        },
        {
          "output_type": "stream",
          "name": "stderr",
          "text": [
            "pyswarms.single.global_best: 100%|██████████|1/1, best_cost=1.43e+11\n",
            "2023-08-25 14:18:06,727 - pyswarms.single.global_best - INFO - Optimization finished | best cost: 143304585850.20178, best pos: [5.03819613 2.76162865 3.35288239]\n",
            "2023-08-25 14:18:06,728 - pyswarms.single.global_best - INFO - Optimize for 1 iters with {'c1': 0.5, 'c2': 0.3, 'w': 0.9}\n"
          ]
        },
        {
          "output_type": "stream",
          "name": "stdout",
          "text": [
            "\n",
            "=========================================================================\n",
            "\n",
            "Número de ciclos de manutenção: 19 5\n",
            "Tempos para manutenções preventivas: [0, 1, 70, 91, 160, 181, 250, 340, 361, 430, 451, 520, 541, 610, 631, 700, 721, 790, 810, 880]\n",
            "Severidade para cada subsistema: [0.75, 0.5, 0.75, 0.5, 0.75, 0.5, 0.5, 0.75, 0.5, 0.75, 0.5, 0.75, 0.5, 0.75, 0.5, 0.75, 0.5, 0.75, 0.5]\n",
            "Número de Sisemas: 5\n",
            "Fator:  [0.3296799539643607, 0.7768698398515702, 0.6321205588285577, 0.7768698398515702, 0.6321205588285577, 0.7768698398515702, 0.6321205588285577, 0.6321205588285577, 0.7768698398515702, 0.6321205588285577, 0.7768698398515702, 0.6321205588285577, 0.7768698398515702, 0.6321205588285577, 0.7768698398515702, 0.6321205588285577, 0.7768698398515702, 0.6321205588285577, 0.7768698398515702, 0.6321205588285577]\n",
            "Media de falhas:  [0, 0.00032, 525277.7515387319, 546051.4751908119, 4149047.6648599235, 4318030.519935706, 18562312.543717053, 39460104.73204997, 50949332.596776366, 144833453.8226044, 149231244.4640455, 337924144.10752356, 346654388.61714935, 689328781.5112075, 705011498.3852389, 1281705200.270718, 1307852282.0945942, 2222652204.973467, 2261399807.9327116, 3668759611.3440876, 3575426410.918532]\n",
            "Custo =  228055434343.20813\n"
          ]
        },
        {
          "output_type": "stream",
          "name": "stderr",
          "text": [
            "pyswarms.single.global_best: 100%|██████████|1/1, best_cost=1.43e+11\n",
            "2023-08-25 14:18:06,743 - pyswarms.single.global_best - INFO - Optimization finished | best cost: 143304585850.20178, best pos: [5.03819904 2.76162715 3.35288246]\n",
            "2023-08-25 14:18:06,745 - pyswarms.single.global_best - INFO - Optimize for 1 iters with {'c1': 0.5, 'c2': 0.3, 'w': 0.9}\n"
          ]
        },
        {
          "output_type": "stream",
          "name": "stdout",
          "text": [
            "\n",
            "=========================================================================\n",
            "\n",
            "Número de ciclos de manutenção: 19 5\n",
            "Tempos para manutenções preventivas: [0, 1, 70, 91, 160, 181, 250, 340, 361, 430, 451, 520, 541, 610, 631, 700, 721, 790, 810, 880]\n",
            "Severidade para cada subsistema: [0.75, 0.5, 0.75, 0.5, 0.75, 0.5, 0.5, 0.75, 0.5, 0.75, 0.5, 0.75, 0.5, 0.75, 0.5, 0.75, 0.5, 0.75, 0.5]\n",
            "Número de Sisemas: 5\n",
            "Fator:  [0.3296799539643607, 0.7768698398515702, 0.6321205588285577, 0.7768698398515702, 0.6321205588285577, 0.7768698398515702, 0.6321205588285577, 0.6321205588285577, 0.7768698398515702, 0.6321205588285577, 0.7768698398515702, 0.6321205588285577, 0.7768698398515702, 0.6321205588285577, 0.7768698398515702, 0.6321205588285577, 0.7768698398515702, 0.6321205588285577, 0.7768698398515702, 0.6321205588285577]\n",
            "Media de falhas:  [0, 0.00032, 525277.7515387319, 546051.4751908119, 4149047.6648599235, 4318030.519935706, 18562312.543717053, 39460104.73204997, 50949332.596776366, 144833453.8226044, 149231244.4640455, 337924144.10752356, 346654388.61714935, 689328781.5112075, 705011498.3852389, 1281705200.270718, 1307852282.0945942, 2222652204.973467, 2261399807.9327116, 3668759611.3440876, 3575426410.918532]\n",
            "Custo =  228055434343.20813\n"
          ]
        },
        {
          "output_type": "stream",
          "name": "stderr",
          "text": [
            "pyswarms.single.global_best: 100%|██████████|1/1, best_cost=1.43e+11\n",
            "2023-08-25 14:18:06,761 - pyswarms.single.global_best - INFO - Optimization finished | best cost: 143304585850.20178, best pos: [5.03820089 2.76162582 3.35288227]\n",
            "2023-08-25 14:18:06,763 - pyswarms.single.global_best - INFO - Optimize for 1 iters with {'c1': 0.5, 'c2': 0.3, 'w': 0.9}\n"
          ]
        },
        {
          "output_type": "stream",
          "name": "stdout",
          "text": [
            "\n",
            "=========================================================================\n",
            "\n",
            "Número de ciclos de manutenção: 19 5\n",
            "Tempos para manutenções preventivas: [0, 1, 70, 91, 160, 181, 250, 340, 361, 430, 451, 520, 541, 610, 631, 700, 721, 790, 811, 880]\n",
            "Severidade para cada subsistema: [0.75, 0.5, 0.75, 0.5, 0.75, 0.5, 0.5, 0.75, 0.5, 0.75, 0.5, 0.75, 0.5, 0.75, 0.5, 0.75, 0.5, 0.75, 0.5]\n",
            "Número de Sisemas: 5\n",
            "Fator:  [0.3296799539643607, 0.7768698398515702, 0.6321205588285577, 0.7768698398515702, 0.6321205588285577, 0.7768698398515702, 0.6321205588285577, 0.6321205588285577, 0.7768698398515702, 0.6321205588285577, 0.7768698398515702, 0.6321205588285577, 0.7768698398515702, 0.6321205588285577, 0.7768698398515702, 0.6321205588285577, 0.7768698398515702, 0.6321205588285577, 0.7768698398515702, 0.6321205588285577]\n",
            "Media de falhas:  [0, 0.00032, 525277.7515387319, 546051.4751908119, 4149047.6648599235, 4318030.519935706, 18562312.543717053, 39460104.73204997, 50949332.596776366, 144833453.8226044, 149231244.4640455, 337924144.10752356, 346654388.61714935, 689328781.5112075, 705011498.3852389, 1281705200.270718, 1307852282.0945942, 2222652204.973467, 2263798564.0040474, 3648024711.4926386, 3554691511.067083]\n",
            "Custo =  227967749306.10034\n"
          ]
        },
        {
          "output_type": "stream",
          "name": "stderr",
          "text": [
            "pyswarms.single.global_best: 100%|██████████|1/1, best_cost=1.43e+11\n",
            "2023-08-25 14:18:06,779 - pyswarms.single.global_best - INFO - Optimization finished | best cost: 143304585850.20178, best pos: [5.03820156 2.76162564 3.35288189]\n",
            "2023-08-25 14:18:06,780 - pyswarms.single.global_best - INFO - Optimize for 1 iters with {'c1': 0.5, 'c2': 0.3, 'w': 0.9}\n"
          ]
        },
        {
          "output_type": "stream",
          "name": "stdout",
          "text": [
            "\n",
            "=========================================================================\n",
            "\n",
            "Número de ciclos de manutenção: 19 5\n",
            "Tempos para manutenções preventivas: [0, 1, 70, 91, 160, 181, 250, 340, 361, 430, 451, 520, 541, 610, 631, 700, 721, 790, 811, 880]\n",
            "Severidade para cada subsistema: [0.75, 0.5, 0.75, 0.5, 0.75, 0.5, 0.5, 0.75, 0.5, 0.75, 0.5, 0.75, 0.5, 0.75, 0.5, 0.75, 0.5, 0.75, 0.5]\n",
            "Número de Sisemas: 5\n",
            "Fator:  [0.3296799539643607, 0.7768698398515702, 0.6321205588285577, 0.7768698398515702, 0.6321205588285577, 0.7768698398515702, 0.6321205588285577, 0.6321205588285577, 0.7768698398515702, 0.6321205588285577, 0.7768698398515702, 0.6321205588285577, 0.7768698398515702, 0.6321205588285577, 0.7768698398515702, 0.6321205588285577, 0.7768698398515702, 0.6321205588285577, 0.7768698398515702, 0.6321205588285577]\n",
            "Media de falhas:  [0, 0.00032, 525277.7515387319, 546051.4751908119, 4149047.6648599235, 4318030.519935706, 18562312.543717053, 39460104.73204997, 50949332.596776366, 144833453.8226044, 149231244.4640455, 337924144.10752356, 346654388.61714935, 689328781.5112075, 705011498.3852389, 1281705200.270718, 1307852282.0945942, 2222652204.973467, 2263798564.0040474, 3648024711.4926386, 3554691511.067083]\n",
            "Custo =  227967749306.10034\n"
          ]
        },
        {
          "output_type": "stream",
          "name": "stderr",
          "text": [
            "pyswarms.single.global_best: 100%|██████████|1/1, best_cost=1.43e+11\n",
            "2023-08-25 14:18:06,795 - pyswarms.single.global_best - INFO - Optimization finished | best cost: 143304585850.20178, best pos: [5.03820152 2.76162571 3.35288155]\n"
          ]
        },
        {
          "output_type": "stream",
          "name": "stdout",
          "text": [
            "\n",
            "=========================================================================\n",
            "\n",
            "Número de ciclos de manutenção: 20 5\n",
            "Tempos para manutenções preventivas: [0, 1, 70, 91, 160, 181, 250, 282, 340, 361, 430, 451, 520, 541, 610, 631, 700, 721, 790, 811, 880]\n",
            "Severidade para cada subsistema: [0.75, 0.5, 0.75, 0.5, 0.75, 0.5, 0.25, 0.5, 0.75, 0.5, 0.75, 0.5, 0.75, 0.5, 0.75, 0.5, 0.75, 0.5, 0.75, 0.5]\n",
            "Número de Sisemas: 5\n",
            "Fator:  [0.3296799539643607, 0.7768698398515702, 0.6321205588285577, 0.7768698398515702, 0.6321205588285577, 0.7768698398515702, 0.6321205588285577, 0.3934693402873666, 0.6321205588285577, 0.7768698398515702, 0.6321205588285577, 0.7768698398515702, 0.6321205588285577, 0.7768698398515702, 0.6321205588285577, 0.7768698398515702, 0.6321205588285577, 0.7768698398515702, 0.6321205588285577, 0.7768698398515702, 0.6321205588285577]\n",
            "Media de falhas:  [0, 0.00032, 525277.7515387319, 546051.4751908119, 4149047.6648599235, 4318030.519935706, 18562312.543717053, 20057453.12362708, 51633480.22029486, 126102088.78547561, 219986210.01130363, 224384000.65274474, 413076900.2962228, 421807144.8058486, 764481537.6999067, 780164254.5739381, 1356857956.4594173, 1383005038.2832935, 2297804961.1621656, 2338951320.192746, 3723177467.6813374, 3629844267.2557817]\n",
            "Custo =  241399580757.20605\n"
          ]
        },
        {
          "output_type": "stream",
          "name": "stderr",
          "text": [
            "2023-08-25 14:18:06,798 - pyswarms.single.global_best - INFO - Optimize for 1 iters with {'c1': 0.5, 'c2': 0.3, 'w': 0.9}\n",
            "pyswarms.single.global_best: 100%|██████████|1/1, best_cost=1.43e+11\n",
            "2023-08-25 14:18:06,813 - pyswarms.single.global_best - INFO - Optimization finished | best cost: 143304585850.20178, best pos: [5.0382004  2.76162728 3.35288124]\n",
            "2023-08-25 14:18:06,821 - pyswarms.single.global_best - INFO - Optimize for 1 iters with {'c1': 0.5, 'c2': 0.3, 'w': 0.9}\n"
          ]
        },
        {
          "output_type": "stream",
          "name": "stdout",
          "text": [
            "\n",
            "=========================================================================\n",
            "\n",
            "Número de ciclos de manutenção: 20 5\n",
            "Tempos para manutenções preventivas: [0, 1, 70, 91, 160, 181, 250, 285, 340, 361, 430, 451, 520, 541, 610, 631, 700, 721, 790, 811, 880]\n",
            "Severidade para cada subsistema: [0.75, 0.5, 0.75, 0.5, 0.75, 0.5, 0.5, 0.5, 0.75, 0.5, 0.75, 0.5, 0.75, 0.5, 0.75, 0.5, 0.75, 0.5, 0.75, 0.5]\n",
            "Número de Sisemas: 5\n",
            "Fator:  [0.3296799539643607, 0.7768698398515702, 0.6321205588285577, 0.7768698398515702, 0.6321205588285577, 0.7768698398515702, 0.6321205588285577, 0.6321205588285577, 0.6321205588285577, 0.7768698398515702, 0.6321205588285577, 0.7768698398515702, 0.6321205588285577, 0.7768698398515702, 0.6321205588285577, 0.7768698398515702, 0.6321205588285577, 0.7768698398515702, 0.6321205588285577, 0.7768698398515702, 0.6321205588285577]\n",
            "Media de falhas:  [0, 0.00032, 525277.7515387319, 546051.4751908119, 4149047.6648599235, 4318030.519935706, 18562312.543717053, 20362630.61021369, 49701347.999789774, 61190575.86451617, 155074697.0903442, 159472487.7317853, 348165387.3752634, 356895631.8848892, 699570024.7789474, 715252741.6529788, 1291946443.5384579, 1318093525.362334, 2232893448.241206, 2274039807.2717867, 3658265954.760378, 3564932754.334822]\n",
            "Custo =  229378434221.97412\n"
          ]
        },
        {
          "output_type": "stream",
          "name": "stderr",
          "text": [
            "pyswarms.single.global_best: 100%|██████████|1/1, best_cost=1.43e+11\n",
            "2023-08-25 14:18:06,831 - pyswarms.single.global_best - INFO - Optimization finished | best cost: 143304585850.20178, best pos: [5.03819884 2.76162985 3.35288097]\n",
            "2023-08-25 14:18:06,834 - pyswarms.single.global_best - INFO - Optimize for 1 iters with {'c1': 0.5, 'c2': 0.3, 'w': 0.9}\n"
          ]
        },
        {
          "output_type": "stream",
          "name": "stdout",
          "text": [
            "\n",
            "=========================================================================\n",
            "\n",
            "Número de ciclos de manutenção: 20 5\n",
            "Tempos para manutenções preventivas: [0, 1, 70, 91, 160, 181, 250, 293, 340, 361, 430, 451, 520, 541, 610, 631, 700, 721, 790, 811, 880]\n",
            "Severidade para cada subsistema: [0.75, 0.5, 0.75, 0.5, 0.75, 0.5, 0.75, 0.5, 0.75, 0.5, 0.75, 0.5, 0.75, 0.5, 0.75, 0.5, 0.75, 0.5, 0.75, 0.5]\n",
            "Número de Sisemas: 5\n",
            "Fator:  [0.3296799539643607, 0.7768698398515702, 0.6321205588285577, 0.7768698398515702, 0.6321205588285577, 0.7768698398515702, 0.6321205588285577, 0.7768698398515702, 0.6321205588285577, 0.7768698398515702, 0.6321205588285577, 0.7768698398515702, 0.6321205588285577, 0.7768698398515702, 0.6321205588285577, 0.7768698398515702, 0.6321205588285577, 0.7768698398515702, 0.6321205588285577, 0.7768698398515702, 0.6321205588285577]\n",
            "Media de falhas:  [0, 0.00032, 525277.7515387319, 546051.4751908119, 4149047.6648599235, 4318030.519935706, 18562312.543717053, 21399365.757719632, 45177857.348349646, 47102484.11081194, 140986605.33663997, 145384395.97808108, 334077295.62155914, 342807540.13118494, 685481933.025243, 701164649.8992745, 1277858351.7847538, 1304005433.60863, 2218805356.487502, 2259951715.5180826, 3644177863.006674, 3550844662.581118]\n",
            "Custo =  227504743419.375\n"
          ]
        },
        {
          "output_type": "stream",
          "name": "stderr",
          "text": [
            "\rpyswarms.single.global_best:   0%|          |0/1"
          ]
        },
        {
          "output_type": "stream",
          "name": "stdout",
          "text": [
            "\n",
            "=========================================================================\n",
            "\n",
            "Número de ciclos de manutenção: 19 5\n",
            "Tempos para manutenções preventivas: [0, 1, 70, 91, 160, 181, 250, 340, 361, 430, 451, 520, 541, 610, 631, 700, 721, 790, 811, 880]\n",
            "Severidade para cada subsistema: [0.75, 0.5, 0.75, 0.5, 0.75, 0.5, 0.5, 0.75, 0.5, 0.75, 0.5, 0.75, 0.5, 0.75, 0.5, 0.75, 0.5, 0.75, 0.5]\n",
            "Número de Sisemas: 5\n",
            "Fator:  "
          ]
        },
        {
          "output_type": "stream",
          "name": "stderr",
          "text": [
            "pyswarms.single.global_best: 100%|██████████|1/1, best_cost=1.43e+11\n",
            "2023-08-25 14:18:07,334 - pyswarms.single.global_best - INFO - Optimization finished | best cost: 143304585850.20178, best pos: [5.03819667 2.76163221 3.35288085]\n",
            "2023-08-25 14:18:07,344 - pyswarms.single.global_best - INFO - Optimize for 1 iters with {'c1': 0.5, 'c2': 0.3, 'w': 0.9}\n"
          ]
        },
        {
          "output_type": "stream",
          "name": "stdout",
          "text": [
            "[0.3296799539643607, 0.7768698398515702, 0.6321205588285577, 0.7768698398515702, 0.6321205588285577, 0.7768698398515702, 0.6321205588285577, 0.6321205588285577, 0.7768698398515702, 0.6321205588285577, 0.7768698398515702, 0.6321205588285577, 0.7768698398515702, 0.6321205588285577, 0.7768698398515702, 0.6321205588285577, 0.7768698398515702, 0.6321205588285577, 0.7768698398515702, 0.6321205588285577]\n",
            "Media de falhas:  [0, 0.00032, 525277.7515387319, 546051.4751908119, 4149047.6648599235, 4318030.519935706, 18562312.543717053, 39460104.73204997, 50949332.596776366, 144833453.8226044, 149231244.4640455, 337924144.10752356, 346654388.61714935, 689328781.5112075, 705011498.3852389, 1281705200.270718, 1307852282.0945942, 2222652204.973467, 2263798564.0040474, 3648024711.4926386, 3554691511.067083]\n",
            "Custo =  227967749306.10034\n"
          ]
        },
        {
          "output_type": "stream",
          "name": "stderr",
          "text": [
            "pyswarms.single.global_best: 100%|██████████|1/1, best_cost=1.43e+11\n",
            "2023-08-25 14:18:07,441 - pyswarms.single.global_best - INFO - Optimization finished | best cost: 143304585850.20178, best pos: [5.03819462 2.76163429 3.35288075]\n"
          ]
        },
        {
          "output_type": "stream",
          "name": "stdout",
          "text": [
            "\n",
            "=========================================================================\n",
            "\n",
            "Número de ciclos de manutenção: 19 5\n",
            "Tempos para manutenções preventivas: [0, 1, 70, 91, 160, 181, 250, 340, 361, 430, 451, 520, 541, 610, 631, 700, 721, 790, 811, 880]\n",
            "Severidade para cada subsistema: [0.75, 0.5, 0.75, 0.5, 0.75, 0.5, 0.5, 0.75, 0.5, 0.75, 0.5, 0.75, 0.5, 0.75, 0.5, 0.75, 0.5, 0.75, 0.5]\n",
            "Número de Sisemas: 5\n",
            "Fator:  [0.3296799539643607, 0.7768698398515702, 0.6321205588285577, 0.7768698398515702, 0.6321205588285577, 0.7768698398515702, 0.6321205588285577, 0.6321205588285577, 0.7768698398515702, 0.6321205588285577, 0.7768698398515702, 0.6321205588285577, 0.7768698398515702, 0.6321205588285577, 0.7768698398515702, 0.6321205588285577, 0.7768698398515702, 0.6321205588285577, 0.7768698398515702, 0.6321205588285577]\n",
            "Media de falhas:  [0, 0.00032, 525277.7515387319, 546051.4751908119, 4149047.6648599235, 4318030.519935706, 18562312.543717053, 39460104.73204997, 50949332.596776366, 144833453.8226044, 149231244.4640455, 337924144.10752356, 346654388.61714935, 689328781.5112075, 705011498.3852389, 1281705200.270718, 1307852282.0945942, 2222652204.973467, 2263798564.0040474, 3648024711.4926386, 3554691511.067083]\n",
            "Custo =  227967749306.10034\n"
          ]
        },
        {
          "output_type": "stream",
          "name": "stderr",
          "text": [
            "2023-08-25 14:18:07,490 - pyswarms.single.global_best - INFO - Optimize for 1 iters with {'c1': 0.5, 'c2': 0.3, 'w': 0.9}\n",
            "pyswarms.single.global_best: 100%|██████████|1/1, best_cost=1.43e+11\n",
            "2023-08-25 14:18:07,562 - pyswarms.single.global_best - INFO - Optimization finished | best cost: 143304585850.20178, best pos: [5.03819319 2.76163556 3.35288087]\n",
            "2023-08-25 14:18:07,565 - pyswarms.single.global_best - INFO - Optimize for 1 iters with {'c1': 0.5, 'c2': 0.3, 'w': 0.9}\n"
          ]
        },
        {
          "output_type": "stream",
          "name": "stdout",
          "text": [
            "\n",
            "=========================================================================\n",
            "\n",
            "Número de ciclos de manutenção: 19 5\n",
            "Tempos para manutenções preventivas: [0, 1, 70, 91, 160, 181, 250, 340, 361, 430, 451, 520, 541, 610, 631, 700, 721, 790, 811, 880]\n",
            "Severidade para cada subsistema: [0.75, 0.5, 0.75, 0.5, 0.75, 0.5, 0.5, 0.75, 0.5, 0.75, 0.5, 0.75, 0.5, 0.75, 0.5, 0.75, 0.5, 0.75, 0.5]\n",
            "Número de Sisemas: 5\n",
            "Fator:  [0.3296799539643607, 0.7768698398515702, 0.6321205588285577, 0.7768698398515702, 0.6321205588285577, 0.7768698398515702, 0.6321205588285577, 0.6321205588285577, 0.7768698398515702, 0.6321205588285577, 0.7768698398515702, 0.6321205588285577, 0.7768698398515702, 0.6321205588285577, 0.7768698398515702, 0.6321205588285577, 0.7768698398515702, 0.6321205588285577, 0.7768698398515702, 0.6321205588285577]\n",
            "Media de falhas:  [0, 0.00032, 525277.7515387319, 546051.4751908119, 4149047.6648599235, 4318030.519935706, 18562312.543717053, 39460104.73204997, 50949332.596776366, 144833453.8226044, 149231244.4640455, 337924144.10752356, 346654388.61714935, 689328781.5112075, 705011498.3852389, 1281705200.270718, 1307852282.0945942, 2222652204.973467, 2263798564.0040474, 3648024711.4926386, 3554691511.067083]\n",
            "Custo =  227967749306.10034\n"
          ]
        },
        {
          "output_type": "stream",
          "name": "stderr",
          "text": [
            "pyswarms.single.global_best: 100%|██████████|1/1, best_cost=1.43e+11\n",
            "2023-08-25 14:18:07,594 - pyswarms.single.global_best - INFO - Optimization finished | best cost: 143304585850.20178, best pos: [5.03819256 2.76163567 3.35288111]\n"
          ]
        },
        {
          "output_type": "stream",
          "name": "stdout",
          "text": [
            "\n",
            "=========================================================================\n",
            "\n",
            "Número de ciclos de manutenção: 19 5\n",
            "Tempos para manutenções preventivas: [0, 1, 70, 91, 160, 181, 250, 340, 361, 430, 451, 520, 541, 610, 631, 700, 721, 790, 811, 880]\n",
            "Severidade para cada subsistema: [0.75, 0.5, 0.75, 0.5, 0.75, 0.5, 0.5, 0.75, 0.5, 0.75, 0.5, 0.75, 0.5, 0.75, 0.5, 0.75, 0.5, 0.75, 0.5]\n",
            "Número de Sisemas: 5\n",
            "Fator:  [0.3296799539643607, 0.7768698398515702, 0.6321205588285577, 0.7768698398515702, 0.6321205588285577, 0.7768698398515702, 0.6321205588285577, 0.6321205588285577, 0.7768698398515702, 0.6321205588285577, 0.7768698398515702, 0.6321205588285577, 0.7768698398515702, 0.6321205588285577, 0.7768698398515702, 0.6321205588285577, 0.7768698398515702, 0.6321205588285577, 0.7768698398515702, 0.6321205588285577]\n",
            "Media de falhas:  [0, 0.00032, 525277.7515387319, 546051.4751908119, 4149047.6648599235, 4318030.519935706, 18562312.543717053, 39460104.73204997, 50949332.596776366, 144833453.8226044, 149231244.4640455, 337924144.10752356, 346654388.61714935, 689328781.5112075, 705011498.3852389, 1281705200.270718, 1307852282.0945942, 2222652204.973467, 2263798564.0040474, 3648024711.4926386, 3554691511.067083]\n",
            "Custo =  227967749306.10034\n"
          ]
        },
        {
          "output_type": "stream",
          "name": "stderr",
          "text": [
            "2023-08-25 14:18:07,598 - pyswarms.single.global_best - INFO - Optimize for 1 iters with {'c1': 0.5, 'c2': 0.3, 'w': 0.9}\n",
            "pyswarms.single.global_best: 100%|██████████|1/1, best_cost=1.43e+11\n",
            "2023-08-25 14:18:07,628 - pyswarms.single.global_best - INFO - Optimization finished | best cost: 143304585850.20178, best pos: [5.03819209 2.76163477 3.35288146]\n",
            "2023-08-25 14:18:07,634 - pyswarms.single.global_best - INFO - Optimize for 1 iters with {'c1': 0.5, 'c2': 0.3, 'w': 0.9}\n"
          ]
        },
        {
          "output_type": "stream",
          "name": "stdout",
          "text": [
            "\n",
            "=========================================================================\n",
            "\n",
            "Número de ciclos de manutenção: 20 5\n",
            "Tempos para manutenções preventivas: [0, 1, 70, 91, 160, 181, 250, 273, 340, 361, 430, 451, 520, 541, 610, 631, 700, 721, 790, 811, 880]\n",
            "Severidade para cada subsistema: [0.75, 0.5, 0.75, 0.5, 0.75, 0.5, 0.25, 0.5, 0.75, 0.5, 0.75, 0.5, 0.75, 0.5, 0.75, 0.5, 0.75, 0.5, 0.75, 0.5]\n",
            "Número de Sisemas: 5\n",
            "Fator:  [0.3296799539643607, 0.7768698398515702, 0.6321205588285577, 0.7768698398515702, 0.6321205588285577, 0.7768698398515702, 0.6321205588285577, 0.3934693402873666, 0.6321205588285577, 0.7768698398515702, 0.6321205588285577, 0.7768698398515702, 0.6321205588285577, 0.7768698398515702, 0.6321205588285577, 0.7768698398515702, 0.6321205588285577, 0.7768698398515702, 0.6321205588285577, 0.7768698398515702, 0.6321205588285577]\n",
            "Media de falhas:  [0, 0.00032, 525277.7515387319, 546051.4751908119, 4149047.6648599235, 4318030.519935706, 18562312.543717053, 19360653.99633415, 58195772.15641887, 132664380.72159961, 226548501.94742763, 230946292.58886874, 419639192.23234683, 428369436.7419726, 771043829.6360307, 786726546.5100621, 1363420248.3955412, 1389567330.2194173, 2304367253.0982895, 2345513612.12887, 3729739759.617461, 3636406559.1919055]\n",
            "Custo =  241492387667.53973\n"
          ]
        },
        {
          "output_type": "stream",
          "name": "stderr",
          "text": [
            "pyswarms.single.global_best: 100%|██████████|1/1, best_cost=1.43e+11\n",
            "2023-08-25 14:18:07,661 - pyswarms.single.global_best - INFO - Optimization finished | best cost: 143304585850.20178, best pos: [5.03819287 2.76163344 3.35288177]\n",
            "2023-08-25 14:18:07,668 - pyswarms.single.global_best - INFO - Optimize for 1 iters with {'c1': 0.5, 'c2': 0.3, 'w': 0.9}\n"
          ]
        },
        {
          "output_type": "stream",
          "name": "stdout",
          "text": [
            "\n",
            "=========================================================================\n",
            "\n",
            "Número de ciclos de manutenção: 19 5\n",
            "Tempos para manutenções preventivas: [0, 1, 70, 91, 160, 181, 250, 340, 361, 430, 451, 520, 541, 610, 631, 700, 721, 790, 810, 880]\n",
            "Severidade para cada subsistema: [0.75, 0.5, 0.75, 0.5, 0.75, 0.5, 0.5, 0.75, 0.5, 0.75, 0.5, 0.75, 0.5, 0.75, 0.5, 0.75, 0.5, 0.75, 0.5]\n",
            "Número de Sisemas: 5\n",
            "Fator:  [0.3296799539643607, 0.7768698398515702, 0.6321205588285577, 0.7768698398515702, 0.6321205588285577, 0.7768698398515702, 0.6321205588285577, 0.6321205588285577, 0.7768698398515702, 0.6321205588285577, 0.7768698398515702, 0.6321205588285577, 0.7768698398515702, 0.6321205588285577, 0.7768698398515702, 0.6321205588285577, 0.7768698398515702, 0.6321205588285577, 0.7768698398515702, 0.6321205588285577]\n",
            "Media de falhas:  [0, 0.00032, 525277.7515387319, 546051.4751908119, 4149047.6648599235, 4318030.519935706, 18562312.543717053, 39460104.73204997, 50949332.596776366, 144833453.8226044, 149231244.4640455, 337924144.10752356, 346654388.61714935, 689328781.5112075, 705011498.3852389, 1281705200.270718, 1307852282.0945942, 2222652204.973467, 2261399807.9327116, 3668759611.3440876, 3575426410.918532]\n",
            "Custo =  228055434343.20813\n"
          ]
        },
        {
          "output_type": "stream",
          "name": "stderr",
          "text": [
            "pyswarms.single.global_best: 100%|██████████|1/1, best_cost=1.43e+11\n",
            "2023-08-25 14:18:07,687 - pyswarms.single.global_best - INFO - Optimization finished | best cost: 143304585850.20178, best pos: [5.03819427 2.76163217 3.35288204]\n",
            "2023-08-25 14:18:07,690 - pyswarms.single.global_best - INFO - Optimize for 1 iters with {'c1': 0.5, 'c2': 0.3, 'w': 0.9}\n"
          ]
        },
        {
          "output_type": "stream",
          "name": "stdout",
          "text": [
            "\n",
            "=========================================================================\n",
            "\n",
            "Número de ciclos de manutenção: 20 5\n",
            "Tempos para manutenções preventivas: [0, 1, 70, 91, 160, 181, 250, 289, 340, 361, 430, 451, 520, 541, 610, 631, 700, 721, 790, 810, 880]\n",
            "Severidade para cada subsistema: [0.75, 0.5, 0.75, 0.5, 0.75, 0.5, 0.5, 0.5, 0.75, 0.5, 0.75, 0.5, 0.75, 0.5, 0.75, 0.5, 0.75, 0.5, 0.75, 0.5]\n",
            "Número de Sisemas: 5\n",
            "Fator:  [0.3296799539643607, 0.7768698398515702, 0.6321205588285577, 0.7768698398515702, 0.6321205588285577, 0.7768698398515702, 0.6321205588285577, 0.6321205588285577, 0.6321205588285577, 0.7768698398515702, 0.6321205588285577, 0.7768698398515702, 0.6321205588285577, 0.7768698398515702, 0.6321205588285577, 0.7768698398515702, 0.6321205588285577, 0.7768698398515702, 0.6321205588285577, 0.7768698398515702, 0.6321205588285577]\n",
            "Media de falhas:  [0, 0.00032, 525277.7515387319, 546051.4751908119, 4149047.6648599235, 4318030.519935706, 18562312.543717053, 20837362.523225047, 47324632.31664242, 58813860.18136881, 152697981.40719682, 157095772.04863793, 345788671.692116, 354518916.2017418, 697193309.0957999, 712876025.9698313, 1289569727.8553104, 1315716809.6791866, 2230516732.5580587, 2269264335.5173035, 3676624138.9286795, 3583290938.5031238]\n",
            "Custo =  229437415100.24384\n"
          ]
        },
        {
          "output_type": "stream",
          "name": "stderr",
          "text": [
            "pyswarms.single.global_best: 100%|██████████|1/1, best_cost=1.43e+11\n",
            "2023-08-25 14:18:07,710 - pyswarms.single.global_best - INFO - Optimization finished | best cost: 143304585850.20178, best pos: [5.03819563 2.76163094 3.35288226]\n",
            "2023-08-25 14:18:07,712 - pyswarms.single.global_best - INFO - Optimize for 1 iters with {'c1': 0.5, 'c2': 0.3, 'w': 0.9}\n"
          ]
        },
        {
          "output_type": "stream",
          "name": "stdout",
          "text": [
            "\n",
            "=========================================================================\n",
            "\n",
            "Número de ciclos de manutenção: 20 5\n",
            "Tempos para manutenções preventivas: [0, 1, 70, 91, 160, 181, 250, 270, 340, 361, 430, 451, 520, 541, 610, 631, 700, 721, 790, 810, 880]\n",
            "Severidade para cada subsistema: [0.75, 0.5, 0.75, 0.5, 0.75, 0.5, 0.75, 0.5, 0.75, 0.5, 0.75, 0.5, 0.75, 0.5, 0.75, 0.5, 0.75, 0.5, 0.75, 0.5]\n",
            "Número de Sisemas: 5\n",
            "Fator:  [0.3296799539643607, 0.7768698398515702, 0.6321205588285577, 0.7768698398515702, 0.6321205588285577, 0.7768698398515702, 0.6321205588285577, 0.7768698398515702, 0.6321205588285577, 0.7768698398515702, 0.6321205588285577, 0.7768698398515702, 0.6321205588285577, 0.7768698398515702, 0.6321205588285577, 0.7768698398515702, 0.6321205588285577, 0.7768698398515702, 0.6321205588285577, 0.7768698398515702, 0.6321205588285577]\n",
            "Media de falhas:  [0, 0.00032, 525277.7515387319, 546051.4751908119, 4149047.6648599235, 4318030.519935706, 18562312.543717053, 19189300.136203274, 60639223.772927046, 62563850.53538934, 156447971.76121736, 160845762.40265846, 349538662.04613656, 358268906.55576235, 700943299.4498205, 716626016.323852, 1293319718.209331, 1319466800.0332072, 2234266722.91208, 2273014325.8713245, 3680374129.2827005, 3587040928.857145]\n",
            "Custo =  227798779994.04987\n"
          ]
        },
        {
          "output_type": "stream",
          "name": "stderr",
          "text": [
            "pyswarms.single.global_best: 100%|██████████|1/1, best_cost=1.43e+11\n",
            "2023-08-25 14:18:07,748 - pyswarms.single.global_best - INFO - Optimization finished | best cost: 143304585850.20178, best pos: [5.0381969  2.76162988 3.35288244]\n",
            "2023-08-25 14:18:07,750 - pyswarms.single.global_best - INFO - Optimize for 1 iters with {'c1': 0.5, 'c2': 0.3, 'w': 0.9}\n"
          ]
        },
        {
          "output_type": "stream",
          "name": "stdout",
          "text": [
            "\n",
            "=========================================================================\n",
            "\n",
            "Número de ciclos de manutenção: 19 5\n",
            "Tempos para manutenções preventivas: [0, 1, 70, 91, 160, 181, 250, 340, 361, 430, 451, 520, 541, 610, 631, 700, 720, 790, 811, 880]\n",
            "Severidade para cada subsistema: [0.75, 0.5, 0.75, 0.5, 0.75, 0.5, 0.5, 0.75, 0.5, 0.75, 0.5, 0.75, 0.5, 0.75, 0.5, 0.75, 0.5, 0.75, 0.5]\n",
            "Número de Sisemas: 5\n",
            "Fator:  [0.3296799539643607, 0.7768698398515702, 0.6321205588285577, 0.7768698398515702, 0.6321205588285577, 0.7768698398515702, 0.6321205588285577, 0.6321205588285577, 0.7768698398515702, 0.6321205588285577, 0.7768698398515702, 0.6321205588285577, 0.7768698398515702, 0.6321205588285577, 0.7768698398515702, 0.6321205588285577, 0.7768698398515702, 0.6321205588285577, 0.7768698398515702, 0.6321205588285577]\n",
            "Media de falhas:  [0, 0.00032, 525277.7515387319, 546051.4751908119, 4149047.6648599235, 4318030.519935706, 18562312.543717053, 39460104.73204997, 50949332.596776366, 144833453.8226044, 149231244.4640455, 337924144.10752356, 346654388.61714935, 689328781.5112075, 705011498.3852389, 1281705200.270718, 1306292780.744936, 2236668693.2861257, 2277815052.316706, 3662041199.8052974, 3568707999.3797417]\n",
            "Custo =  228037327163.12158\n"
          ]
        },
        {
          "output_type": "stream",
          "name": "stderr",
          "text": [
            "pyswarms.single.global_best: 100%|██████████|1/1, best_cost=1.43e+11"
          ]
        },
        {
          "output_type": "stream",
          "name": "stdout",
          "text": [
            "\n",
            "=========================================================================\n",
            "\n",
            "Número de ciclos de manutenção: 19 5\n",
            "Tempos para manutenções preventivas: [0, 1, 70, 91, 160, 181, 250, 340, 361, 430, 451, 520, 541, 610, 631, 700, 721, 790, 811, 880]\n",
            "Severidade para cada subsistema: [0.75, 0.5, 0.75, 0.5, 0.75, 0.5, 0.5, 0.75, 0.5, 0.75, 0.5, 0.75, 0.5, 0.75, 0.5, 0.75, 0.5, 0.75, 0.5]\n",
            "Número de Sisemas: 5\n",
            "Fator:  [0.3296799539643607, 0.7768698398515702, 0.6321205588285577, 0.7768698398515702, 0.6321205588285577, 0.7768698398515702, 0.6321205588285577, 0.6321205588285577, 0.7768698398515702, 0.6321205588285577, 0.7768698398515702, 0.6321205588285577, 0.7768698398515702, 0.6321205588285577, 0.7768698398515702, 0.6321205588285577, 0.7768698398515702, 0.6321205588285577, 0.7768698398515702, 0.6321205588285577]\n",
            "Media de falhas:  [0, 0.00032, 525277.7515387319, 546051.4751908119, 4149047.6648599235, 4318030.519935706, 18562312.543717053, 39460104.73204997, 50949332.596776366, 144833453.8226044, 149231244.4640455, 337924144.10752356, 346654388.61714935, 689328781.5112075, 705011498.3852389, 1281705200.270718, 1307852282.0945942, 2222652204.973467, 2263798564.0040474, 3648024711.4926386, 3554691511.067083]\n",
            "Custo =  227967749306.10034\n"
          ]
        },
        {
          "output_type": "stream",
          "name": "stderr",
          "text": [
            "\n",
            "2023-08-25 14:18:07,783 - pyswarms.single.global_best - INFO - Optimization finished | best cost: 143304585850.20178, best pos: [5.038198   2.76162902 3.35288258]\n",
            "2023-08-25 14:18:07,791 - pyswarms.single.global_best - INFO - Optimize for 1 iters with {'c1': 0.5, 'c2': 0.3, 'w': 0.9}\n",
            "pyswarms.single.global_best:   0%|          |0/1, best_cost=1.43e+11"
          ]
        },
        {
          "output_type": "stream",
          "name": "stdout",
          "text": [
            "\n",
            "=========================================================================\n",
            "\n",
            "Número de ciclos de manutenção: 20 5\n",
            "Tempos para manutenções preventivas: [0, 1, 70, 91, 160, 181, 250, 287, 340, 361, 430, 451, 520, 541, 610, 631, 700, 721, 790, 811, 880]\n",
            "Severidade para cada subsistema: [0.75, 0.5, 0.75, 0.5, 0.75, 0.5, 0.25, 0.5, 0.75, 0.5, 0.75, 0.5, 0.75, 0.5, 0.75, 0.5, 0.75, 0.5, 0.75, 0.5]\n",
            "Número de Sisemas: 5\n",
            "Fator:  [0.3296799539643607, 0.7768698398515702, 0.6321205588285577, 0.7768698398515702, 0.6321205588285577, 0.7768698398515702, 0.6321205588285577, 0.3934693402873666, 0.6321205588285577, 0.7768698398515702, 0.6321205588285577, 0.7768698398515702, 0.6321205588285577, 0.7768698398515702, 0.6321205588285577, 0.7768698398515702, 0.6321205588285577, 0.7768698398515702, 0.6321205588285577, 0.7768698398515702, 0.6321205588285577]\n",
            "Media de falhas:  [0, 0.00032, 525277.7515387319, 546051.4751908119, 4149047.6648599235, 4318030.519935706, 18562312.543717053, 20589770.476290893, 48484405.29814389, 122953013.86332464, 216837135.08915266, 221234925.73059377, 409927825.37407184, 418658069.8836976, 761332462.7777557, 777015179.6517872, 1353708881.5372663, 1379855963.3611424, 2294655886.240015, 2335802245.2705956, 3720028392.7591867, 3626695192.333631]\n",
            "Custo =  241359471241.24042\n"
          ]
        },
        {
          "output_type": "stream",
          "name": "stderr",
          "text": [
            "\rpyswarms.single.global_best: 100%|██████████|1/1, best_cost=1.43e+11\n",
            "2023-08-25 14:18:07,821 - pyswarms.single.global_best - INFO - Optimization finished | best cost: 143304585850.20178, best pos: [5.0381985  2.76162904 3.35288242]\n",
            "2023-08-25 14:18:07,826 - pyswarms.single.global_best - INFO - Optimize for 1 iters with {'c1': 0.5, 'c2': 0.3, 'w': 0.9}\n",
            "pyswarms.single.global_best:   0%|          |0/1, best_cost=1.43e+11"
          ]
        },
        {
          "output_type": "stream",
          "name": "stdout",
          "text": [
            "\n",
            "=========================================================================\n",
            "\n",
            "Número de ciclos de manutenção: 20 5\n",
            "Tempos para manutenções preventivas: [0, 1, 70, 91, 160, 181, 250, 282, 340, 361, 430, 451, 520, 541, 610, 631, 700, 721, 790, 811, 880]\n",
            "Severidade para cada subsistema: [0.75, 0.5, 0.75, 0.5, 0.75, 0.5, 0.5, 0.5, 0.75, 0.5, 0.75, 0.5, 0.75, 0.5, 0.75, 0.5, 0.75, 0.5, 0.75, 0.5]\n",
            "Número de Sisemas: 5\n",
            "Fator:  [0.3296799539643607, 0.7768698398515702, 0.6321205588285577, 0.7768698398515702, 0.6321205588285577, 0.7768698398515702, 0.6321205588285577, 0.6321205588285577, 0.6321205588285577, 0.7768698398515702, 0.6321205588285577, 0.7768698398515702, 0.6321205588285577, 0.7768698398515702, 0.6321205588285577, 0.7768698398515702, 0.6321205588285577, 0.7768698398515702, 0.6321205588285577, 0.7768698398515702, 0.6321205588285577]\n",
            "Media de falhas:  [0, 0.00032, 525277.7515387319, 546051.4751908119, 4149047.6648599235, 4318030.519935706, 18562312.543717053, 20057453.12362708, 51633480.22029486, 63122708.08502126, 157006829.31084928, 161404619.9522904, 350097519.59576845, 358827764.10539424, 701502156.9994524, 717184873.8734838, 1293878575.758963, 1320025657.5828393, 2234825580.461712, 2275971939.4922924, 3660198086.9808836, 3566864886.555328]\n",
            "Custo =  229403508305.3338\n"
          ]
        },
        {
          "output_type": "stream",
          "name": "stderr",
          "text": [
            "\rpyswarms.single.global_best: 100%|██████████|1/1, best_cost=1.43e+11\n",
            "2023-08-25 14:18:07,851 - pyswarms.single.global_best - INFO - Optimization finished | best cost: 143304585850.20178, best pos: [5.03819837 2.76162945 3.35288208]\n"
          ]
        }
      ]
    },
    {
      "cell_type": "code",
      "source": [
        "# Plotar gráfico de densidade da otimização\n",
        "plt.figure()\n",
        "plt.plot(optimizer.cost_history)\n",
        "plt.xlabel('Iteração')\n",
        "plt.ylabel('Custo')\n",
        "plt.title('Otimização do PSO - Histórico de Custos')\n",
        "plt.show()"
      ],
      "metadata": {
        "id": "ULlt81ZI1vn9",
        "outputId": "9d338d24-26df-4e9b-fd2e-a65b15c2cda9",
        "colab": {
          "base_uri": "https://localhost:8080/",
          "height": 472
        }
      },
      "execution_count": 177,
      "outputs": [
        {
          "output_type": "display_data",
          "data": {
            "text/plain": [
              "<Figure size 640x480 with 1 Axes>"
            ],
            "image/png": "[encoded data removed]"
          },
          "metadata": {}
        }
      ]
    },
    {
      "cell_type": "code",
      "source": [
        "# Plotar o gráfico 3D com todas as melhores posições\n",
        "fig = plt.figure(figsize=(8, 6))\n",
        "ax = fig.add_subplot(111, projection='3d')\n",
        "\n",
        "# Plotar todas as melhores posições anteriores\n",
        "for i in range(best_positions.shape[0]):\n",
        "    ax.scatter(best_positions[i, 0], best_positions[i, 1], best_positions[i, 2], c='blue', alpha=0.2)\n",
        "\n",
        "# Plotar a última melhor posição com uma cor diferente para destacá-la\n",
        "ax.scatter(best_positions[-1, 0], best_positions[-1, 1], best_positions[-1, 2], c='red', label='Melhor posição atual')\n",
        "\n",
        "ax.set_title('Melhores posições ao longo das iterações')\n",
        "ax.legend()\n",
        "plt.show()\n",
        "\n",
        "print(\"                              \")\n",
        "print(\"*************************************************************************\")\n",
        "print(\"Número total de iterações:\", max_iterations)\n",
        "print(\"Número de Particulas:\", num_particles)\n",
        "print(\"Número de Dimensões:\", dimensions)\n",
        "print(\"                              \")\n",
        "print(\"Melhor partícula:\", pbest_cost[0])"
      ],
      "metadata": {
        "id": "4STRoUAPxmqT",
        "outputId": "d8d0bc41-c0d1-49f4-f026-f9e8620d5461",
        "colab": {
          "base_uri": "https://localhost:8080/",
          "height": 643
        }
      },
      "execution_count": 178,
      "outputs": [
        {
          "output_type": "display_data",
          "data": {
            "text/plain": [
              "<Figure size 800x600 with 1 Axes>"
            ],
            "image/png": "[encoded data removed]"
          },
          "metadata": {}
        },
        {
          "output_type": "stream",
          "name": "stdout",
          "text": [
            "                              \n",
            "*************************************************************************\n",
            "Número total de iterações: 100\n",
            "Número de Particulas: 10\n",
            "Número de Dimensões: 3\n",
            "                              \n",
            "Melhor partícula: 229403508305.3338\n"
          ]
        }
      ]
    }
  ]
}