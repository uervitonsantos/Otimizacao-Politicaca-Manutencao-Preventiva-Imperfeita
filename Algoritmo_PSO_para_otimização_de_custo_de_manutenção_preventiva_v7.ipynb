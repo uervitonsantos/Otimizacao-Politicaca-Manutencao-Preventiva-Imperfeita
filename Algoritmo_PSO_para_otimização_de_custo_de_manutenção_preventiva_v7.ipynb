{
  "nbformat": 4,
  "nbformat_minor": 0,
  "metadata": {
    "colab": {
      "provenance": [],
      "mount_file_id": "1RdFgP-oDl5GfiBXVSjm47plKw1zogDMB",
      "authorship_tag": "ABX9TyMVoCL3DmHgBCE6iF2Vb/Xv",
      "include_colab_link": true
    },
    "kernelspec": {
      "name": "python3",
      "display_name": "Python 3"
    },
    "language_info": {
      "name": "python"
    }
  },
  "cells": [
    {
      "cell_type": "markdown",
      "metadata": {
        "id": "view-in-github",
        "colab_type": "text"
      },
      "source": [
        "<a href=\"https://colab.research.google.com/github/uervitonsantos/Otimizacao-Politicaca-Manutencao-Preventiva-Imperfeita/blob/main/Algoritmo_PSO_para_otimiza%C3%A7%C3%A3o_de_custo_de_manuten%C3%A7%C3%A3o_preventiva_v7.ipynb\" target=\"_parent\"><img src=\"https://colab.research.google.com/assets/colab-badge.svg\" alt=\"Open In Colab\"/></a>"
      ]
    },
    {
      "cell_type": "markdown",
      "source": [
        "Dataset de dados de confiabilidade: https://drive.google.com/drive/folders/1b7jqK1A2XI1oZ4YhDXw_4xdnSTbfuBVK?usp=sharing"
      ],
      "metadata": {
        "id": "wZi0pIL-Ch37"
      }
    },
    {
      "cell_type": "code",
      "execution_count": 76,
      "metadata": {
        "id": "VM8_ebpiVP0V"
      },
      "outputs": [],
      "source": [
        "%%capture\n",
        "pip install pyswarms"
      ]
    },
    {
      "cell_type": "code",
      "source": [
        "import numpy as np\n",
        "import pandas as pd\n",
        "import math\n",
        "import matplotlib.pyplot as plt\n",
        "import time\n",
        "from pyswarms.single.global_best import GlobalBestPSO\n",
        "import pyswarms as ps\n",
        "from pyswarms.utils.search import RandomSearch\n",
        "from pyswarms.utils.functions import single_obj as fx\n",
        "from pyswarms.utils.plotters import (plot_cost_history, plot_contour, plot_surface)\n",
        "import plotly.graph_objects as go\n",
        "from pyswarms.utils.plotters.formatters import Designer\n",
        "from pyswarms.utils.plotters.formatters import Mesher\n",
        "from mpl_toolkits.mplot3d import Axes3D"
      ],
      "metadata": {
        "id": "2sVG0WwfVrUs"
      },
      "execution_count": 77,
      "outputs": []
    },
    {
      "cell_type": "code",
      "source": [
        "MAX_VALUE_CUSTO = 10000\n",
        "fator_melhoria = 'expo'"
      ],
      "metadata": {
        "id": "FeZKvg25Vtwz"
      },
      "execution_count": 78,
      "outputs": []
    },
    {
      "cell_type": "code",
      "source": [
        "# Custos MC e MP\n",
        "CMC = 4000\n",
        "CMP = 2000"
      ],
      "metadata": {
        "id": "JFnJpCJGVx7P"
      },
      "execution_count": 79,
      "outputs": []
    },
    {
      "cell_type": "code",
      "source": [
        "class IntensidadeFalha:\n",
        "    # Este método vai inicializar cada objeto criado a partir desta classe\n",
        "    # O nome deste método é \"inicio\"\n",
        "    # (self) é uma referência a cada atributo de um objeto criado a partir desta classe\n",
        "    # Os atributos de cada objeto criados a partir desta classe.\n",
        "    # O self indica que estes são atributos dos objetos\n",
        "    def __init__(self):\n",
        "        self.fator = None\n",
        "        self.lamb = None\n",
        "        self.beta = None\n",
        "        self.theta = None\n",
        "        self.sz = None\n",
        "        self.T = None\n",
        "        self.u = None\n",
        "\n",
        "    def inicio(self, T, fator, solucao):\n",
        "        self.fator = fator\n",
        "        self.lamb = solucao[0]\n",
        "        self.beta = solucao[1]\n",
        "        self.theta = solucao[2]\n",
        "        self.sz = int(T[-1])\n",
        "        self.T = T\n",
        "\n",
        "    def create(self):\n",
        "        self.u = []\n",
        "        # Reducao de Idade com fator de melhoria linear\n",
        "        for i, tc in enumerate(self.T[1:], start=1):\n",
        "            for tt in range(int(self.T[i-1]), int(tc)+1):\n",
        "                b = tt - self.fator[0][i-1] * self.T[i-1]\n",
        "                self.u.append((1 / (self.lamb ** self.beta)) * self.beta * b ** (self.beta - 1))\n",
        "\n",
        "                if tt == tc:\n",
        "                    self.u.append(float('nan'))\n",
        "            break\n",
        "    # plota e salva a figura da função de intensidade de falha\n",
        "    def plotar(self):\n",
        "        fig = plt.figure(figsize=(20, 5))\n",
        "        plt.plot(self.u)\n",
        "\n",
        "        for xc in self.T:\n",
        "            plt.axvline(x=xc, color='r', linestyle='--')\n",
        "\n",
        "        plt.xlabel(\"Tempo (dias)\")\n",
        "        plt.ylabel(\"Função intensidade de falha\")\n",
        "        plt.xlim(0)\n",
        "        plt.grid(True)\n",
        "        plt.show()"
      ],
      "metadata": {
        "id": "QhF2qTuDV2P1"
      },
      "execution_count": 80,
      "outputs": []
    },
    {
      "cell_type": "code",
      "source": [
        "# Define a função de melhoria constante\n",
        "def const(ck, m, s, theta):\n",
        "    fator = [[theta] * ck] * m\n",
        "    return fator"
      ],
      "metadata": {
        "id": "mMRO_z3_V4a3"
      },
      "execution_count": 81,
      "outputs": []
    },
    {
      "cell_type": "code",
      "source": [
        "# Define a função de melhoria linear\n",
        "def linear(ck, m, s, theta):\n",
        "    fator = []\n",
        "    for k in range(0, m, 1):\n",
        "        linha = [0]\n",
        "        for j in range(0, ck, 1):\n",
        "            linha.append(s[k][j] * theta)\n",
        "        fator.append(linha)\n",
        "    return fator"
      ],
      "metadata": {
        "id": "S_fCxa7GV65n"
      },
      "execution_count": 82,
      "outputs": []
    },
    {
      "cell_type": "code",
      "source": [
        " # Define a função de melhoria exponencial\n",
        "def expo(ck, m, s, theta):\n",
        "    fator = []\n",
        "    for k in range(0, m, 1):\n",
        "        linha = []\n",
        "        for j in range(0, ck, 1):\n",
        "            linha.append(1.0 - np.exp(-s[k][j] * theta))\n",
        "        fator.append(linha)\n",
        "    return fator"
      ],
      "metadata": {
        "id": "NV3lIXl9V9FL"
      },
      "execution_count": 83,
      "outputs": []
    },
    {
      "cell_type": "code",
      "source": [
        "# Define a função de melhoria potência\n",
        "def pot(ck, m, s, theta):\n",
        "    fator = []\n",
        "    for k in range(0, m, 1):\n",
        "        linha = []\n",
        "        for j in range(0, ck, 1):\n",
        "            linha.append(s[k][j] ** theta)\n",
        "        fator.append(linha)\n",
        "    return fator"
      ],
      "metadata": {
        "id": "ikxXlzxKV-0K"
      },
      "execution_count": 84,
      "outputs": []
    },
    {
      "cell_type": "code",
      "source": [
        "# Define a função de melhoria para manutenção perfeita\n",
        "def mpp(ck, m, s, theta):\n",
        "    fator = []\n",
        "    for k in range(0, m, 1):\n",
        "        linha = []\n",
        "        for j in range(0, ck, 1):\n",
        "            linha.append(1)\n",
        "        fator.append(linha)\n",
        "    return fator"
      ],
      "metadata": {
        "id": "xcHr8tSFWAus"
      },
      "execution_count": 85,
      "outputs": []
    },
    {
      "cell_type": "code",
      "source": [
        "# Executa a função de melhoria com base no parâmetro fornecido\n",
        "def execute_function(fator_melhoria, ck, m, s, theta):\n",
        "    return {\n",
        "        'const': lambda: const(ck, m, s, theta),\n",
        "        'linear': lambda: linear(ck, m, s, theta),\n",
        "        'expo': lambda: expo(ck, m, s, theta),\n",
        "        'pot': lambda: pot(ck, m, s, theta),\n",
        "        'mpp': lambda: mpp(ck, m, s, theta),\n",
        "    }[fator_melhoria]()"
      ],
      "metadata": {
        "id": "R5KeFcseWDH6"
      },
      "execution_count": 86,
      "outputs": []
    },
    {
      "cell_type": "code",
      "source": [
        "# Função custo de manutenção baseada em severidade\n",
        "def custo_mp(s, CMP):\n",
        "    dist = {0.25: 2000, 0.5: 4000, 0.75: 12000, 1.0: 20000}\n",
        "    if not isinstance(s, list):\n",
        "        s = [s]  # Transforma s em uma lista com um único elemento\n",
        "    cmp_f = np.sum([CMP if si < 0.25 or si > 1.0 else np.interp(si, [0.25, 0.5, 0.75, 1.0], [2000, 4000, 12000, 20000]) for si in s])\n",
        "    return cmp_f"
      ],
      "metadata": {
        "id": "B8BkTWrmWGWO"
      },
      "execution_count": 87,
      "outputs": []
    },
    {
      "cell_type": "code",
      "source": [
        "# Leitura dos dados de tempo: exemplo tese Marcos Coque Jr.\n",
        "df = pd.read_csv('/content/drive/MyDrive/Colab Notebooks/DateSet/data.csv', sep=\";\")\n",
        "df.head()"
      ],
      "metadata": {
        "colab": {
          "base_uri": "https://localhost:8080/",
          "height": 206
        },
        "id": "IDcyZ_pHWIW8",
        "outputId": "deab529d-fff7-44f3-ff7c-ccfb067a2767"
      },
      "execution_count": 88,
      "outputs": [
        {
          "output_type": "execute_result",
          "data": {
            "text/plain": [
              "     t  k  c    n    s      T\n",
              "0   90  1  1  4.0  0.4    0.0\n",
              "1  110  1  1  0.0  0.5  150.0\n",
              "2  125  1  1  9.0  0.9  250.0\n",
              "3  135  1  1  2.0  0.2  500.0\n",
              "4  295  1  3  2.0  0.4  600.0"
            ],
            "text/html": [
              "\n",
              "  <div id=\"df-04adfc9d-3ad3-45e6-a4a0-904daa414194\" class=\"colab-df-container\">\n",
              "    <div>\n",
              "<style scoped>\n",
              "    .dataframe tbody tr th:only-of-type {\n",
              "        vertical-align: middle;\n",
              "    }\n",
              "\n",
              "    .dataframe tbody tr th {\n",
              "        vertical-align: top;\n",
              "    }\n",
              "\n",
              "    .dataframe thead th {\n",
              "        text-align: right;\n",
              "    }\n",
              "</style>\n",
              "<table border=\"1\" class=\"dataframe\">\n",
              "  <thead>\n",
              "    <tr style=\"text-align: right;\">\n",
              "      <th></th>\n",
              "      <th>t</th>\n",
              "      <th>k</th>\n",
              "      <th>c</th>\n",
              "      <th>n</th>\n",
              "      <th>s</th>\n",
              "      <th>T</th>\n",
              "    </tr>\n",
              "  </thead>\n",
              "  <tbody>\n",
              "    <tr>\n",
              "      <th>0</th>\n",
              "      <td>90</td>\n",
              "      <td>1</td>\n",
              "      <td>1</td>\n",
              "      <td>4.0</td>\n",
              "      <td>0.4</td>\n",
              "      <td>0.0</td>\n",
              "    </tr>\n",
              "    <tr>\n",
              "      <th>1</th>\n",
              "      <td>110</td>\n",
              "      <td>1</td>\n",
              "      <td>1</td>\n",
              "      <td>0.0</td>\n",
              "      <td>0.5</td>\n",
              "      <td>150.0</td>\n",
              "    </tr>\n",
              "    <tr>\n",
              "      <th>2</th>\n",
              "      <td>125</td>\n",
              "      <td>1</td>\n",
              "      <td>1</td>\n",
              "      <td>9.0</td>\n",
              "      <td>0.9</td>\n",
              "      <td>250.0</td>\n",
              "    </tr>\n",
              "    <tr>\n",
              "      <th>3</th>\n",
              "      <td>135</td>\n",
              "      <td>1</td>\n",
              "      <td>1</td>\n",
              "      <td>2.0</td>\n",
              "      <td>0.2</td>\n",
              "      <td>500.0</td>\n",
              "    </tr>\n",
              "    <tr>\n",
              "      <th>4</th>\n",
              "      <td>295</td>\n",
              "      <td>1</td>\n",
              "      <td>3</td>\n",
              "      <td>2.0</td>\n",
              "      <td>0.4</td>\n",
              "      <td>600.0</td>\n",
              "    </tr>\n",
              "  </tbody>\n",
              "</table>\n",
              "</div>\n",
              "    <div class=\"colab-df-buttons\">\n",
              "\n",
              "  <div class=\"colab-df-container\">\n",
              "    <button class=\"colab-df-convert\" onclick=\"convertToInteractive('df-04adfc9d-3ad3-45e6-a4a0-904daa414194')\"\n",
              "            title=\"Convert this dataframe to an interactive table.\"\n",
              "            style=\"display:none;\">\n",
              "\n",
              "  <svg xmlns=\"http://www.w3.org/2000/svg\" height=\"24px\" viewBox=\"0 -960 960 960\">\n",
              "    <path d=\"M120-120v-720h720v720H120Zm60-500h600v-160H180v160Zm220 220h160v-160H400v160Zm0 220h160v-160H400v160ZM180-400h160v-160H180v160Zm440 0h160v-160H620v160ZM180-180h160v-160H180v160Zm440 0h160v-160H620v160Z\"/>\n",
              "  </svg>\n",
              "    </button>\n",
              "\n",
              "  <style>\n",
              "    .colab-df-container {\n",
              "      display:flex;\n",
              "      gap: 12px;\n",
              "    }\n",
              "\n",
              "    .colab-df-convert {\n",
              "      background-color: #E8F0FE;\n",
              "      border: none;\n",
              "      border-radius: 50%;\n",
              "      cursor: pointer;\n",
              "      display: none;\n",
              "      fill: #1967D2;\n",
              "      height: 32px;\n",
              "      padding: 0 0 0 0;\n",
              "      width: 32px;\n",
              "    }\n",
              "\n",
              "    .colab-df-convert:hover {\n",
              "      background-color: #E2EBFA;\n",
              "      box-shadow: 0px 1px 2px rgba(60, 64, 67, 0.3), 0px 1px 3px 1px rgba(60, 64, 67, 0.15);\n",
              "      fill: #174EA6;\n",
              "    }\n",
              "\n",
              "    .colab-df-buttons div {\n",
              "      margin-bottom: 4px;\n",
              "    }\n",
              "\n",
              "    [theme=dark] .colab-df-convert {\n",
              "      background-color: #3B4455;\n",
              "      fill: #D2E3FC;\n",
              "    }\n",
              "\n",
              "    [theme=dark] .colab-df-convert:hover {\n",
              "      background-color: #434B5C;\n",
              "      box-shadow: 0px 1px 3px 1px rgba(0, 0, 0, 0.15);\n",
              "      filter: drop-shadow(0px 1px 2px rgba(0, 0, 0, 0.3));\n",
              "      fill: #FFFFFF;\n",
              "    }\n",
              "  </style>\n",
              "\n",
              "    <script>\n",
              "      const buttonEl =\n",
              "        document.querySelector('#df-04adfc9d-3ad3-45e6-a4a0-904daa414194 button.colab-df-convert');\n",
              "      buttonEl.style.display =\n",
              "        google.colab.kernel.accessAllowed ? 'block' : 'none';\n",
              "\n",
              "      async function convertToInteractive(key) {\n",
              "        const element = document.querySelector('#df-04adfc9d-3ad3-45e6-a4a0-904daa414194');\n",
              "        const dataTable =\n",
              "          await google.colab.kernel.invokeFunction('convertToInteractive',\n",
              "                                                    [key], {});\n",
              "        if (!dataTable) return;\n",
              "\n",
              "        const docLinkHtml = 'Like what you see? Visit the ' +\n",
              "          '<a target=\"_blank\" href=https://colab.research.google.com/notebooks/data_table.ipynb>data table notebook</a>'\n",
              "          + ' to learn more about interactive tables.';\n",
              "        element.innerHTML = '';\n",
              "        dataTable['output_type'] = 'display_data';\n",
              "        await google.colab.output.renderOutput(dataTable, element);\n",
              "        const docLink = document.createElement('div');\n",
              "        docLink.innerHTML = docLinkHtml;\n",
              "        element.appendChild(docLink);\n",
              "      }\n",
              "    </script>\n",
              "  </div>\n",
              "\n",
              "\n",
              "<div id=\"df-31e93abb-2637-4fc7-a2ee-26bb6da3d6e9\">\n",
              "  <button class=\"colab-df-quickchart\" onclick=\"quickchart('df-31e93abb-2637-4fc7-a2ee-26bb6da3d6e9')\"\n",
              "            title=\"Suggest charts.\"\n",
              "            style=\"display:none;\">\n",
              "\n",
              "<svg xmlns=\"http://www.w3.org/2000/svg\" height=\"24px\"viewBox=\"0 0 24 24\"\n",
              "     width=\"24px\">\n",
              "    <g>\n",
              "        <path d=\"M19 3H5c-1.1 0-2 .9-2 2v14c0 1.1.9 2 2 2h14c1.1 0 2-.9 2-2V5c0-1.1-.9-2-2-2zM9 17H7v-7h2v7zm4 0h-2V7h2v10zm4 0h-2v-4h2v4z\"/>\n",
              "    </g>\n",
              "</svg>\n",
              "  </button>\n",
              "\n",
              "<style>\n",
              "  .colab-df-quickchart {\n",
              "      --bg-color: #E8F0FE;\n",
              "      --fill-color: #1967D2;\n",
              "      --hover-bg-color: #E2EBFA;\n",
              "      --hover-fill-color: #174EA6;\n",
              "      --disabled-fill-color: #AAA;\n",
              "      --disabled-bg-color: #DDD;\n",
              "  }\n",
              "\n",
              "  [theme=dark] .colab-df-quickchart {\n",
              "      --bg-color: #3B4455;\n",
              "      --fill-color: #D2E3FC;\n",
              "      --hover-bg-color: #434B5C;\n",
              "      --hover-fill-color: #FFFFFF;\n",
              "      --disabled-bg-color: #3B4455;\n",
              "      --disabled-fill-color: #666;\n",
              "  }\n",
              "\n",
              "  .colab-df-quickchart {\n",
              "    background-color: var(--bg-color);\n",
              "    border: none;\n",
              "    border-radius: 50%;\n",
              "    cursor: pointer;\n",
              "    display: none;\n",
              "    fill: var(--fill-color);\n",
              "    height: 32px;\n",
              "    padding: 0;\n",
              "    width: 32px;\n",
              "  }\n",
              "\n",
              "  .colab-df-quickchart:hover {\n",
              "    background-color: var(--hover-bg-color);\n",
              "    box-shadow: 0 1px 2px rgba(60, 64, 67, 0.3), 0 1px 3px 1px rgba(60, 64, 67, 0.15);\n",
              "    fill: var(--button-hover-fill-color);\n",
              "  }\n",
              "\n",
              "  .colab-df-quickchart-complete:disabled,\n",
              "  .colab-df-quickchart-complete:disabled:hover {\n",
              "    background-color: var(--disabled-bg-color);\n",
              "    fill: var(--disabled-fill-color);\n",
              "    box-shadow: none;\n",
              "  }\n",
              "\n",
              "  .colab-df-spinner {\n",
              "    border: 2px solid var(--fill-color);\n",
              "    border-color: transparent;\n",
              "    border-bottom-color: var(--fill-color);\n",
              "    animation:\n",
              "      spin 1s steps(1) infinite;\n",
              "  }\n",
              "\n",
              "  @keyframes spin {\n",
              "    0% {\n",
              "      border-color: transparent;\n",
              "      border-bottom-color: var(--fill-color);\n",
              "      border-left-color: var(--fill-color);\n",
              "    }\n",
              "    20% {\n",
              "      border-color: transparent;\n",
              "      border-left-color: var(--fill-color);\n",
              "      border-top-color: var(--fill-color);\n",
              "    }\n",
              "    30% {\n",
              "      border-color: transparent;\n",
              "      border-left-color: var(--fill-color);\n",
              "      border-top-color: var(--fill-color);\n",
              "      border-right-color: var(--fill-color);\n",
              "    }\n",
              "    40% {\n",
              "      border-color: transparent;\n",
              "      border-right-color: var(--fill-color);\n",
              "      border-top-color: var(--fill-color);\n",
              "    }\n",
              "    60% {\n",
              "      border-color: transparent;\n",
              "      border-right-color: var(--fill-color);\n",
              "    }\n",
              "    80% {\n",
              "      border-color: transparent;\n",
              "      border-right-color: var(--fill-color);\n",
              "      border-bottom-color: var(--fill-color);\n",
              "    }\n",
              "    90% {\n",
              "      border-color: transparent;\n",
              "      border-bottom-color: var(--fill-color);\n",
              "    }\n",
              "  }\n",
              "</style>\n",
              "\n",
              "  <script>\n",
              "    async function quickchart(key) {\n",
              "      const quickchartButtonEl =\n",
              "        document.querySelector('#' + key + ' button');\n",
              "      quickchartButtonEl.disabled = true;  // To prevent multiple clicks.\n",
              "      quickchartButtonEl.classList.add('colab-df-spinner');\n",
              "      try {\n",
              "        const charts = await google.colab.kernel.invokeFunction(\n",
              "            'suggestCharts', [key], {});\n",
              "      } catch (error) {\n",
              "        console.error('Error during call to suggestCharts:', error);\n",
              "      }\n",
              "      quickchartButtonEl.classList.remove('colab-df-spinner');\n",
              "      quickchartButtonEl.classList.add('colab-df-quickchart-complete');\n",
              "    }\n",
              "    (() => {\n",
              "      let quickchartButtonEl =\n",
              "        document.querySelector('#df-31e93abb-2637-4fc7-a2ee-26bb6da3d6e9 button');\n",
              "      quickchartButtonEl.style.display =\n",
              "        google.colab.kernel.accessAllowed ? 'block' : 'none';\n",
              "    })();\n",
              "  </script>\n",
              "</div>\n",
              "    </div>\n",
              "  </div>\n"
            ]
          },
          "metadata": {},
          "execution_count": 88
        }
      ]
    },
    {
      "cell_type": "code",
      "source": [
        "# Cria as variaveis\n",
        "# tempos de falhas\n",
        "t = df['t']\n",
        "# indice do sistema\n",
        "k = df['k']\n",
        "m = k.drop_duplicates().shape[0]\n",
        "# Numero de ciclos de manutenção\n",
        "ck = df['c'].max()\n",
        "# Numero de falhas e severidade das manutenções preventivas em cada sistema\n",
        "n = []\n",
        "s = []\n",
        "for k in range(m):\n",
        "    n.append(list(df['n'][k * ck:(k + 1) * ck]))\n",
        "    s.append(list(df['s'][k * ck:(k + 1) * ck]))\n",
        "\n",
        "# Tempos das MP\n",
        "T = list(df['T'][:m])\n",
        "\n",
        "# Criação de variáveis para os parâmetros\n",
        "lamb = 5\n",
        "theta = 2\n",
        "\n",
        "# Cria alguns cenários de teste\n",
        "beta = 5\n",
        "\n",
        "solucao = [lamb, beta, theta]\n",
        "\n",
        "# Cria a instância da classe IntensidadeFalha\n",
        "intensidadeFalha = IntensidadeFalha()\n",
        "\n",
        "# Inicializa a instância com os valores necessários\n",
        "falha = intensidadeFalha.inicio(T, execute_function(fator_melhoria, ck, m, s, theta), solucao)\n",
        "\n",
        "# Cria os dados da intensidade de falha\n",
        "intensidadeFalha.create()\n",
        "\n",
        "# Plota o gráfico da intensidade de falha\n",
        "intensidadeFalha.plotar()\n",
        "\n",
        "fator = execute_function(fator_melhoria, ck, m, s, theta)\n",
        "print('Fator ajuste: ', fator[0])\n",
        "\n",
        "last_value_fator_ajuste = fator[0][-1]\n",
        "\n",
        "time_duration = 1\n",
        "time.sleep(time_duration)"
      ],
      "metadata": {
        "id": "grvISRd2_HkE",
        "outputId": "eab42f03-4d97-46f7-af66-2971316e7128",
        "colab": {
          "base_uri": "https://localhost:8080/",
          "height": 392
        }
      },
      "execution_count": 89,
      "outputs": [
        {
          "output_type": "display_data",
          "data": {
            "text/plain": [
              "<Figure size 2000x500 with 1 Axes>"
            ],
            "image/png": "[encoded data removed]"
          },
          "metadata": {}
        },
        {
          "output_type": "stream",
          "name": "stdout",
          "text": [
            "Fator ajuste:  [0.5506710358827784, 0.6321205588285577, 0.8347011117784134, 0.3296799539643607]\n"
          ]
        }
      ]
    },
    {
      "cell_type": "code",
      "source": [
        "# Função objetivo para otimização da politica de manutenção\n",
        "# Numero de ciclos determinado pela solução\n",
        "# Solução com 24 valores reais\n",
        "# Solucao a ser avaliada X = [x1, ..., x24]\n",
        "def objective_st(x):\n",
        "\n",
        "    # Dicionario para severidades\n",
        "    dict_severidades = {1: 0.25, 3: 0.50, 5: 0.75, 7: 1.0}\n",
        "\n",
        "    results = [] # Lista para armazenar os resultados das funções objetivo\n",
        "\n",
        "\n",
        "    # No PSO, como cada particula é um vetor de dimenções definidas, é\n",
        "    # Necessario interar sobre o vetor de particulas\n",
        "    for particle in x:\n",
        "        T = [0]\n",
        "        s_row = []\n",
        "        cont = 0\n",
        "\n",
        "        for number in particle:\n",
        "            modulo = int(number) % 2\n",
        "            if modulo == 1:\n",
        "                inteiro = int(number)\n",
        "                s_row.append(dict_severidades[inteiro])  # Severidade\n",
        "                frac = number - inteiro  # Tempo\n",
        "                t = (cont + frac) * 30\n",
        "                T.append(int(t))\n",
        "            cont += 1\n",
        "\n",
        "    s = []\n",
        "    for row in range(m):\n",
        "        s.append(s_row)\n",
        "\n",
        "    # A partir da solução define o número de ciclos\n",
        "    # A variável m é o número de sistemas em análise: em nosso exemplo m = 4\n",
        "    # Para novos dados esse parâmetro deve ser ajustado\n",
        "    # m = 4\n",
        "    ck = len(T) - 1\n",
        "\n",
        "    print(\"\")\n",
        "    print(\"=========================================================================\")\n",
        "    print(\"\")\n",
        "    print('Número de ciclos de manutenção:', ck, m)\n",
        "    print('Tempos para manutenções preventivas:', T)\n",
        "    print('Severidade para cada subsistema:', s[0])\n",
        "    print(\"Número de Sisemas:\", m)\n",
        "\n",
        "    if ck == 0:\n",
        "        return MAX_VALUE_CUSTO\n",
        "\n",
        "    # O modelo já está ajustado\n",
        "    # Utilizado para avaliar a solução candidata\n",
        "\n",
        "    # Cria fator de meloria a partir da solução\n",
        "    fact = execute_function(fator_melhoria, ck, m, s, theta)\n",
        "    fator = [last_value_fator_ajuste] + list(fact[0])\n",
        "\n",
        "    print('Fator: ', fator)\n",
        "\n",
        "    # Numero esperado de falhas (NEF) em cada ciclo\n",
        "    termos_somatorio = [((1/(lamb**beta)) * (T[1]**beta))]\n",
        "    numero_medio_falhas = [0, ((1/(lamb**beta)) * (T[1]**beta))]\n",
        "\n",
        "    for i in range(ck-1):\n",
        "        termo = (((T[i+2]-fator[i]*T[i+1])**beta) - (((1-fator[i])*T[i+1])**beta)) * (1/(lamb**beta))\n",
        "        termos_somatorio.append(termo)\n",
        "        numero_medio_falhas.append(sum(termos_somatorio))\n",
        "\n",
        "    # Número médio de falhas até o final do período: 2 anos\n",
        "    final = 730\n",
        "    termo = (((final-fator[ck-1]*T[ck])**beta) - (((1-fator[ck-1])*T[ck])**beta)) * (1/(lamb**beta))\n",
        "    termos_somatorio.append(termo)\n",
        "    numero_medio_falhas.append(sum(termos_somatorio))\n",
        "\n",
        "    mi = numero_medio_falhas\n",
        "\n",
        "    print('Media de falhas: ', mi)\n",
        "\n",
        "    Ctotal =  []\n",
        "\n",
        "    for i in range(ck):\n",
        "        cmp = custo_mp(s[0][i], CMP)\n",
        "        Ctotal.append((cmp + (mi[i+1] - mi[i])*CMC)/(T[i+1]-T[i]))\n",
        "\n",
        "    cmp = custo_mp(s[0][ck-1], CMP)\n",
        "    Ctotal.append((cmp + (mi[ck+1] - mi[ck])*CMC)/(final-T[ck]))\n",
        "\n",
        "    # Custo Total\n",
        "    Custo = np.sum(Ctotal)\n",
        "    results.append(Custo) # Adicione o valor da função objetivo à lista de resultados\n",
        "    print('Custo = ', Custo)\n",
        "\n",
        "    # Retorne os resultados da função objetivo como um array\n",
        "    return np.array(results)"
      ],
      "metadata": {
        "id": "-JuqM09rWWBJ"
      },
      "execution_count": 90,
      "outputs": []
    },
    {
      "cell_type": "code",
      "source": [
        "num_particles = 100\n",
        "max_iterations = 100\n",
        "dimensions = 24\n",
        "options = {'c1': 0.5, 'c2': 0.3, 'w': 0.9}\n",
        "\n",
        "max_bound = np.array([7.0] * dimensions)  # Limite superior dos valores em x\n",
        "min_bound = np.array([0.0] * dimensions)   # Limite inferior dos valores em x\n",
        "bounds = (min_bound, max_bound)\n",
        "\n",
        "optimizer = GlobalBestPSO(n_particles=num_particles, dimensions=dimensions, options=options, bounds=bounds)\n",
        "\n",
        "# Inicializar current_cost e pbest_cost com valores infinitos\n",
        "optimizer.swarm.current_cost = np.full(optimizer.swarm.position.shape[0], np.inf)\n",
        "optimizer.swarm.pbest_cost = np.full(optimizer.swarm.position.shape[0], np.inf)\n",
        "best_cost, best_position = optimizer.optimize(objective_st, iters=max_iterations)\n",
        "\n",
        "pbest_cost = optimizer.swarm.pbest_cost\n",
        "\n",
        "best_positions = []  # Lista para armazenar todas as melhores posições\n",
        "\n",
        "# Loop de iterações do PSO\n",
        "for i in range(max_iterations):\n",
        "    best_cost, best_position = optimizer.optimize(objective_st, iters=1)\n",
        "    pbest_cost = optimizer.swarm.pbest_cost\n",
        "    best_positions.append(best_position)\n",
        "\n",
        "# Converter a lista de melhores posições em um array numpy para facilitar a manipulação\n",
        "best_positions = np.array(best_positions)"
      ],
      "metadata": {
        "colab": {
          "base_uri": "https://localhost:8080/"
        },
        "id": "cePW2Ji6gjmC",
        "outputId": "dcb9558b-c832-43b3-e9aa-e6aa7b5b88fa"
      },
      "execution_count": 91,
      "outputs": [
        {
          "output_type": "stream",
          "name": "stderr",
          "text": [
            "2023-09-01 02:59:38,585 - pyswarms.single.global_best - INFO - Optimize for 100 iters with {'c1': 0.5, 'c2': 0.3, 'w': 0.9}\n",
            "pyswarms.single.global_best:  11%|█         |11/100, best_cost=5.69e+10"
          ]
        },
        {
          "output_type": "stream",
          "name": "stdout",
          "text": [
            "\n",
            "=========================================================================\n",
            "\n",
            "Número de ciclos de manutenção: 11 5\n",
            "Tempos para manutenções preventivas: [0, 29, 43, 118, 254, 283, 301, 381, 403, 422, 626, 666]\n",
            "Severidade para cada subsistema: [0.5, 0.5, 0.5, 0.25, 0.25, 0.5, 0.25, 0.25, 0.25, 0.75, 0.75]\n",
            "Número de Sisemas: 5\n",
            "Fator:  [0.3296799539643607, 0.6321205588285577, 0.6321205588285577, 0.6321205588285577, 0.3934693402873666, 0.3934693402873666, 0.6321205588285577, 0.3934693402873666, 0.3934693402873666, 0.3934693402873666, 0.7768698398515702, 0.7768698398515702]\n",
            "Media de falhas:  [0, 6563.56768, 19054.62427528631, 1995840.020977281, 61427815.83068735, 67954531.67027843, 98777746.59046699, 433215086.9839946, 451788499.83222955, 578540991.0712826, 6814659249.541995, 8456137855.005824, 8571947018.136788]\n",
            "Custo =  350054091580.62933\n",
            "\n",
            "=========================================================================\n",
            "\n",
            "Número de ciclos de manutenção: 12 5\n",
            "Tempos para manutenções preventivas: [0, 35, 68, 119, 153, 187, 272, 311, 330, 559, 579, 650, 670]\n",
            "Severidade para cada subsistema: [0.5, 0.25, 0.5, 0.75, 0.25, 0.5, 0.5, 0.25, 0.5, 0.25, 0.75, 0.75]\n",
            "Número de Sisemas: 5\n",
            "Fator:  [0.3296799539643607, 0.6321205588285577, 0.3934693402873666, 0.6321205588285577, 0.7768698398515702, 0.3934693402873666, 0.6321205588285577, 0.6321205588285577, 0.3934693402873666, 0.6321205588285577, 0.3934693402873666, 0.7768698398515702, 0.7768698398515702]\n",
            "Media de falhas:  [0, 16807.0, 198144.20854430547, 1007221.2935082645, 4698618.012099112, 6437579.72360301, 16855557.695447415, 90740541.62698385, 97991324.14467563, 1779884350.6681654, 2255675232.8761196, 2706603860.7352686, 3562181714.2723074, 3667420423.0931416]\n",
            "Custo =  338393046125.28516\n",
            "\n",
            "=========================================================================\n",
            "\n",
            "Número de ciclos de manutenção: 14 5\n",
            "Tempos para manutenções preventivas: [0, 18, 102, 148, 159, 204, 238, 263, 324, 346, 376, 421, 463, 597, 620]\n",
            "Severidade para cada subsistema: [0.75, 0.5, 0.75, 0.5, 0.25, 0.75, 0.5, 0.5, 0.25, 0.5, 0.5, 0.25, 0.25, 0.75]\n",
            "Número de Sisemas: 5\n",
            "Fator:  [0.3296799539643607, 0.7768698398515702, 0.6321205588285577, 0.7768698398515702, 0.6321205588285577, 0.3934693402873666, 0.7768698398515702, 0.6321205588285577, 0.6321205588285577, 0.3934693402873666, 0.6321205588285577, 0.6321205588285577, 0.3934693402873666, 0.3934693402873666, 0.7768698398515702]\n",
            "Media de falhas:  [0, 604.6617600000001, 2618664.3110660682, 3108530.547701211, 3339638.519707121, 4401911.1949677905, 8574445.993144738, 33095018.940925315, 40730400.40492661, 50988180.340761036, 71100000.77121949, 359438433.9217099, 425573990.549412, 1215033603.274269, 1933310709.7953067, 8207497188.397238]\n",
            "Custo =  418372012451.6992\n",
            "\n",
            "=========================================================================\n",
            "\n",
            "Número de ciclos de manutenção: 12 5\n",
            "Tempos para manutenções preventivas: [0, 85, 130, 178, 227, 358, 386, 394, 435, 492, 563, 613, 695]\n",
            "Severidade para cada subsistema: [0.5, 0.75, 0.25, 0.75, 0.25, 0.5, 0.5, 0.5, 0.5, 0.75, 0.75, 0.5]\n",
            "Número de Sisemas: 5\n",
            "Fator:  [0.3296799539643607, 0.6321205588285577, 0.7768698398515702, 0.3934693402873666, 0.7768698398515702, 0.3934693402873666, 0.6321205588285577, 0.6321205588285577, 0.6321205588285577, 0.6321205588285577, 0.7768698398515702, 0.7768698398515702, 0.6321205588285577]\n",
            "Media de falhas:  [0, 1419857.0, 4756812.5504705785, 7262163.199783832, 8989223.54840352, 441227668.96611947, 444862810.7071875, 486038851.9147884, 536699195.9516986, 657188094.7469677, 920209446.3550851, 1157829697.1915548, 1302899766.807759, 1353593497.9346151]\n",
            "Custo =  95114364170.2027\n",
            "\n",
            "=========================================================================\n",
            "\n",
            "Número de ciclos de manutenção: 11 5\n",
            "Tempos para manutenções preventivas: [0, 119, 191, 218, 269, 302, 406, 447, 536, 649, 669, 710]\n",
            "Severidade para cada subsistema: [0.25, 0.5, 0.75, 0.75, 0.75, 0.5, 0.5, 0.75, 0.25, 0.5, 0.5]\n",
            "Número de Sisemas: 5\n",
            "Fator:  [0.3296799539643607, 0.3934693402873666, 0.6321205588285577, 0.7768698398515702, 0.7768698398515702, 0.7768698398515702, 0.6321205588285577, 0.6321205588285577, 0.7768698398515702, 0.3934693402873666, 0.6321205588285577, 0.6321205588285577]\n",
            "Media de falhas:  [0, 7636331.711680001, 32369178.31113337, 44725354.98267898, 56102640.236098215, 58082190.17572617, 104954662.69669107, 115628615.9220804, 411764184.94161254, 1235220208.5427217, 1253754380.470668, 3429677763.13396, 3603238879.0645523]\n",
            "Custo =  300600322490.3521\n",
            "\n",
            "=========================================================================\n",
            "\n",
            "Número de ciclos de manutenção: 13 5\n",
            "Tempos para manutenções preventivas: [0, 51, 69, 104, 216, 291, 319, 338, 415, 449, 458, 508, 521, 719]\n",
            "Severidade para cada subsistema: [0.25, 0.75, 0.25, 0.75, 0.5, 0.75, 0.5, 0.5, 0.5, 0.5, 0.25, 0.75, 0.5]\n",
            "Número de Sisemas: 5\n",
            "Fator:  [0.3296799539643607, 0.3934693402873666, 0.7768698398515702, 0.3934693402873666, 0.7768698398515702, 0.6321205588285577, 0.7768698398515702, 0.6321205588285577, 0.6321205588285577, 0.6321205588285577, 0.6321205588285577, 0.3934693402873666, 0.7768698398515702, 0.6321205588285577]\n",
            "Media de falhas:  [0, 110408.08032000001, 219326.64606250665, 1036045.2807277103, 15492362.681579731, 121882194.85715663, 123730813.70369607, 131691142.08955532, 157233114.62019065, 203222830.26209313, 215175745.44629073, 331053552.15374523, 360208658.457095, 10832781721.20955, 10846152965.040657]\n",
            "Custo =  254976821612.80804\n",
            "\n",
            "=========================================================================\n",
            "\n",
            "Número de ciclos de manutenção: 11 5\n",
            "Tempos para manutenções preventivas: [0, 41, 65, 93, 223, 278, 322, 337, 413, 442, 464, 506]\n",
            "Severidade para cada subsistema: [0.25, 0.75, 0.25, 0.75, 0.25, 0.75, 0.5, 0.5, 0.5, 0.5, 0.25]\n",
            "Número de Sisemas: 5\n",
            "Fator:  [0.3296799539643607, 0.3934693402873666, 0.7768698398515702, 0.3934693402873666, 0.7768698398515702, 0.3934693402873666, 0.7768698398515702, 0.6321205588285577, 0.6321205588285577, 0.6321205588285577, 0.6321205588285577, 0.3934693402873666]\n",
            "Media de falhas:  [0, 37073.98432, 147794.1334113115, 563217.5227870629, 25476504.707174014, 90761961.25593889, 94756506.91168453, 135465851.79581064, 159979942.701817, 196123965.31762335, 228352713.4309016, 321278217.3712601, 3963807045.5167947]\n",
            "Custo =  102845555715.29935\n",
            "\n",
            "=========================================================================\n",
            "\n",
            "Número de ciclos de manutenção: 12 5\n",
            "Tempos para manutenções preventivas: [0, 29, 41, 100, 230, 268, 284, 318, 387, 397, 433, 462, 659]\n",
            "Severidade para cada subsistema: [0.75, 0.25, 0.25, 0.75, 0.75, 0.25, 0.75, 0.5, 0.5, 0.5, 0.5, 0.25]\n",
            "Número de Sisemas: 5\n",
            "Fator:  [0.3296799539643607, 0.7768698398515702, 0.3934693402873666, 0.3934693402873666, 0.7768698398515702, 0.7768698398515702, 0.3934693402873666, 0.7768698398515702, 0.6321205588285577, 0.6321205588285577, 0.6321205588285577, 0.6321205588285577, 0.3934693402873666]\n",
            "Media de falhas:  [0, 6563.56768, 15504.368977704846, 485839.4176484649, 80829460.07719822, 120308415.39521758, 120864415.15787104, 123338037.0039553, 432045682.0362438, 433166604.0320827, 475888775.4474867, 518807209.09536636, 2602766710.291252, 3302774423.7987943]\n",
            "Custo =  117855688974.57697\n",
            "\n",
            "=========================================================================\n",
            "\n",
            "Número de ciclos de manutenção: 13 5\n",
            "Tempos para manutenções preventivas: [0, 22, 45, 116, 185, 236, 303, 376, 424, 454, 555, 639, 668, 716]\n",
            "Severidade para cada subsistema: [0.75, 0.25, 0.25, 0.5, 0.75, 0.75, 0.5, 0.5, 0.5, 0.75, 0.5, 0.5, 0.5]\n",
            "Número de Sisemas: 5\n",
            "Fator:  [0.3296799539643607, 0.7768698398515702, 0.3934693402873666, 0.3934693402873666, 0.6321205588285577, 0.7768698398515702, 0.7768698398515702, 0.6321205588285577, 0.6321205588285577, 0.6321205588285577, 0.7768698398515702, 0.6321205588285577, 0.6321205588285577, 0.6321205588285577]\n",
            "Media de falhas:  [0, 1649.16224, 25948.46111267743, 1144503.6806783902, 17411896.549247693, 48775878.47112784, 74752861.94407964, 91888458.39440748, 103332271.80566286, 144987604.11826894, 545952204.4851438, 1068355272.2703477, 1097086129.9652724, 1510126439.774578, 1630039724.8735292]\n",
            "Custo =  125867963462.09645\n",
            "\n",
            "=========================================================================\n",
            "\n",
            "Número de ciclos de manutenção: 10 5\n",
            "Tempos para manutenções preventivas: [0, 19, 84, 128, 344, 370, 420, 507, 520, 561, 701]\n",
            "Severidade para cada subsistema: [0.75, 0.5, 0.75, 0.25, 0.5, 0.5, 0.5, 0.75, 0.25, 0.5]\n",
            "Número de Sisemas: 5\n",
            "Fator:  [0.3296799539643607, 0.7768698398515702, 0.6321205588285577, 0.7768698398515702, 0.3934693402873666, 0.6321205588285577, 0.6321205588285577, 0.6321205588285577, 0.7768698398515702, 0.3934693402873666, 0.6321205588285577]\n",
            "Media de falhas:  [0, 792.3516800000001, 909055.96225712, 1219468.8415650455, 404474772.51422536, 407288278.71007895, 723107304.1783618, 957846127.3734676, 986780263.3627933, 1121259457.492405, 1531011101.341036, 3268814495.3445687]\n",
            "Custo =  317469873366.49664\n",
            "\n",
            "=========================================================================\n",
            "\n",
            "Número de ciclos de manutenção: 13 5\n",
            "Tempos para manutenções preventivas: [0, 17, 76, 102, 142, 153, 238, 345, 366, 474, 535, 548, 605, 694]\n",
            "Severidade para cada subsistema: [0.75, 0.5, 0.5, 0.75, 0.75, 0.75, 0.25, 0.5, 0.25, 0.75, 0.75, 0.75, 0.5]\n",
            "Número de Sisemas: 5\n",
            "Fator:  [0.3296799539643607, 0.7768698398515702, 0.6321205588285577, 0.6321205588285577, 0.7768698398515702, 0.7768698398515702, 0.7768698398515702, 0.3934693402873666, 0.6321205588285577, 0.3934693402873666, 0.7768698398515702, 0.7768698398515702, 0.7768698398515702, 0.6321205588285577]\n",
            "Media de falhas:  [0, 454.35424000000006, 553580.7249793685, 599944.7891214883, 1472169.172225505, 1671329.9733762427, 9337498.387987189, 42866999.31881666, 44891540.22990662, 1124526625.4540803, 1304116205.3028157, 1553965518.986854, 1604477586.5818405, 1770570603.3608096, 1823105979.1975515]\n",
            "Custo =  147690603247.047\n",
            "\n",
            "=========================================================================\n",
            "\n",
            "Número de ciclos de manutenção: 13 5\n",
            "Tempos para manutenções preventivas: [0, 18, 79, 106, 149, 233, 352, 369, 427, 463, 558, 613, 640, 666]\n",
            "Severidade para cada subsistema: [0.75, 0.5, 0.5, 0.75, 0.75, 0.25, 0.5, 0.5, 0.25, 0.25, 0.75, 0.5, 0.75]\n",
            "Número de Sisemas: 5\n",
            "Fator:  [0.3296799539643607, 0.7768698398515702, 0.6321205588285577, 0.6321205588285577, 0.7768698398515702, 0.7768698398515702, 0.3934693402873666, 0.6321205588285577, 0.6321205588285577, 0.3934693402873666, 0.3934693402873666, 0.7768698398515702, 0.6321205588285577, 0.7768698398515702]\n",
            "Media de falhas:  [0, 604.6617600000001, 666899.1146334849, 722998.2915595113, 1880166.0450082957, 18215474.041022897, 64866908.87986956, 66457994.67841998, 455520975.61155987, 510793303.99726766, 885709045.7868453, 2481669333.307646, 3436133772.5729895, 3460988529.0958605, 4080032799.8802824]\n",
            "Custo =  351625422793.41113\n",
            "\n",
            "=========================================================================\n",
            "\n",
            "Número de ciclos de manutenção: 13 5\n",
            "Tempos para manutenções preventivas: [0, 21, 99, 144, 226, 242, 294, 378, 395, 439, 457, 495, 612, 698]\n",
            "Severidade para cada subsistema: [0.75, 0.5, 0.75, 0.75, 0.75, 0.25, 0.5, 0.5, 0.5, 0.25, 0.5, 0.75, 0.5]\n",
            "Número de Sisemas: 5\n",
            "Fator:  [0.3296799539643607, 0.7768698398515702, 0.6321205588285577, 0.7768698398515702, 0.7768698398515702, 0.7768698398515702, 0.3934693402873666, 0.6321205588285577, 0.6321205588285577, 0.6321205588285577, 0.3934693402873666, 0.6321205588285577, 0.7768698398515702, 0.6321205588285577]\n",
            "Media de falhas:  [0, 1306.9123200000001, 2118999.572131538, 2552262.345255479, 16754194.119837226, 17063738.01557325, 21198655.86397045, 44787836.486590736, 131943498.46378821, 189022181.17187583, 213495607.03532884, 289574820.25738496, 3555100632.6214614, 4303124050.25656, 4348443554.960877]\n",
            "Custo =  193600587669.5862\n",
            "\n",
            "=========================================================================\n",
            "\n",
            "Número de ciclos de manutenção: 16 5\n",
            "Tempos para manutenções preventivas: [0, 28, 125, 170, 193, 221, 256, 286, 387, 407, 447, 469, 558, 606, 653, 669, 713]\n",
            "Severidade para cada subsistema: [0.75, 0.75, 0.25, 0.5, 0.75, 0.75, 0.5, 0.5, 0.5, 0.5, 0.25, 0.25, 0.75, 0.25, 0.5, 0.5]\n",
            "Número de Sisemas: 5\n",
            "Fator:  [0.3296799539643607, 0.7768698398515702, 0.7768698398515702, 0.3934693402873666, 0.6321205588285577, 0.7768698398515702, 0.7768698398515702, 0.6321205588285577, 0.6321205588285577, 0.6321205588285577, 0.6321205588285577, 0.3934693402873666, 0.3934693402873666, 0.7768698398515702, 0.3934693402873666, 0.6321205588285577, 0.6321205588285577]\n",
            "Media de falhas:  [0, 5507.317760000001, 6659188.932203191, 7312244.938088595, 7555885.864822592, 21075835.64347492, 26748005.529594954, 28159504.993489616, 66737594.67387997, 84134308.19414876, 138722108.50059995, 172333040.09813273, 514970903.47323614, 1851932574.6331437, 3623294042.243005, 3637659778.0968256, 6007406393.212421, 6153963202.304979]\n",
            "Custo =  550794499888.8595\n",
            "\n",
            "=========================================================================\n",
            "\n",
            "Número de ciclos de manutenção: 8 5\n",
            "Tempos para manutenções preventivas: [0, 170, 217, 266, 300, 416, 447, 539, 640]\n",
            "Severidade para cada subsistema: [0.5, 0.75, 0.75, 0.75, 0.5, 0.5, 0.75, 0.25]\n",
            "Número de Sisemas: 5\n",
            "Fator:  [0.3296799539643607, 0.6321205588285577, 0.7768698398515702, 0.7768698398515702, 0.7768698398515702, 0.6321205588285577, 0.6321205588285577, 0.7768698398515702, 0.3934693402873666]\n",
            "Media de falhas:  [0, 45435424.0, 73853619.86936605, 84172328.91062161, 86205363.21253498, 151341792.53752306, 158450911.03555325, 474865063.30276036, 1145179397.6730018, 1344999921.1481502]\n",
            "Custo =  56917704918.51626\n",
            "\n",
            "=========================================================================\n",
            "\n",
            "Número de ciclos de manutenção: 13 5\n",
            "Tempos para manutenções preventivas: [0, 104, 171, 189, 217, 285, 315, 331, 418, 445, 498, 514, 559, 683]\n",
            "Severidade para cada subsistema: [0.25, 0.75, 0.75, 0.75, 0.75, 0.75, 0.5, 0.5, 0.5, 0.25, 0.75, 0.5, 0.25]\n",
            "Número de Sisemas: 5\n",
            "Fator:  [0.3296799539643607, 0.3934693402873666, 0.7768698398515702, 0.7768698398515702, 0.7768698398515702, 0.7768698398515702, 0.7768698398515702, 0.6321205588285577, 0.6321205588285577, 0.6321205588285577, 0.3934693402873666, 0.7768698398515702, 0.6321205588285577, 0.3934693402873666]\n",
            "Media de falhas:  [0, 3893289.2876800005, 18649212.378336016, 23357384.153055597, 23859150.19625792, 30617419.91694484, 32582611.288967676, 33564274.77847639, 67322828.38978715, 101585250.75272799, 216895608.71714735, 251231290.09987503, 1158159690.9392643, 1453140436.8673434, 1888005750.225962]\n",
            "Custo =  154109424092.73474\n",
            "\n",
            "=========================================================================\n",
            "\n",
            "Número de ciclos de manutenção: 13 5\n",
            "Tempos para manutenções preventivas: [0, 63, 91, 208, 221, 281, 326, 336, 413, 441, 490, 556, 630, 676]\n",
            "Severidade para cada subsistema: [0.75, 0.25, 0.75, 0.75, 0.75, 0.75, 0.5, 0.5, 0.5, 0.25, 0.5, 0.25, 0.25]\n",
            "Número de Sisemas: 5\n",
            "Fator:  [0.3296799539643607, 0.7768698398515702, 0.3934693402873666, 0.7768698398515702, 0.7768698398515702, 0.7768698398515702, 0.7768698398515702, 0.6321205588285577, 0.6321205588285577, 0.6321205588285577, 0.3934693402873666, 0.6321205588285577, 0.3934693402873666, 0.3934693402873666]\n",
            "Media de falhas:  [0, 317579.69376000005, 821324.2307461533, 16436560.736516109, 22909221.99532628, 27810331.237461843, 32137068.48065076, 32726302.08229159, 57908004.45404889, 92356119.51583159, 190971023.54132426, 419884764.576649, 2787590710.3182845, 3102697912.5326037, 6278125386.101442]\n",
            "Custo =  422319242431.28577\n",
            "\n",
            "=========================================================================\n",
            "\n",
            "Número de ciclos de manutenção: 14 5\n",
            "Tempos para manutenções preventivas: [0, 59, 64, 92, 148, 224, 335, 408, 436, 451, 493, 537, 576, 646, 683]\n",
            "Severidade para cada subsistema: [0.25, 0.75, 0.25, 0.5, 0.75, 0.5, 0.5, 0.5, 0.5, 0.25, 0.5, 0.5, 0.25, 0.25]\n",
            "Número de Sisemas: 5\n",
            "Fator:  [0.3296799539643607, 0.3934693402873666, 0.7768698398515702, 0.3934693402873666, 0.6321205588285577, 0.7768698398515702, 0.6321205588285577, 0.6321205588285577, 0.6321205588285577, 0.6321205588285577, 0.3934693402873666, 0.6321205588285577, 0.6321205588285577, 0.3934693402873666, 0.3934693402873666]\n"
          ]
        },
        {
          "output_type": "stream",
          "name": "stderr",
          "text": [
            "pyswarms.single.global_best:  28%|██▊       |28/100, best_cost=4.51e+10"
          ]
        },
        {
          "output_type": "stream",
          "name": "stdout",
          "text": [
            "Media de falhas:  [0, 228775.77568000002, 253962.31144169217, 651960.7370531741, 1490739.6929828343, 39678484.57493746, 125056650.02798297, 146840213.26836854, 179796536.641222, 198943369.4152868, 283039222.0285217, 406274006.7810254, 1298071850.1838326, 1731023157.2650285, 1988542323.8442814, 4766083566.370543]\n",
            "Custo =  415891702745.9973\n",
            "\n",
            "=========================================================================\n",
            "\n",
            "Número de ciclos de manutenção: 14 5\n",
            "Tempos para manutenções preventivas: [0, 61, 114, 205, 225, 266, 277, 328, 331, 400, 433, 451, 497, 566, 579]\n",
            "Severidade para cada subsistema: [0.75, 0.25, 0.75, 0.75, 0.75, 0.5, 0.75, 0.5, 0.5, 0.5, 0.5, 0.25, 0.25, 0.5]\n",
            "Número de Sisemas: 5\n",
            "Fator:  [0.3296799539643607, 0.7768698398515702, 0.3934693402873666, 0.7768698398515702, 0.7768698398515702, 0.7768698398515702, 0.6321205588285577, 0.7768698398515702, 0.6321205588285577, 0.6321205588285577, 0.6321205588285577, 0.6321205588285577, 0.3934693402873666, 0.3934693402873666, 0.6321205588285577]\n",
            "Media de falhas:  [0, 270270.81632000004, 2568418.1198460674, 9413613.492446048, 19951287.548151523, 21868645.90325793, 22184458.867124848, 27741459.033275675, 28810887.257462107, 47146662.841292486, 85789290.57123336, 109023186.69450933, 205547614.80161148, 464310733.9593833, 775929982.5237743, 9286712694.580881]\n",
            "Custo =  360401461014.13293\n",
            "\n",
            "=========================================================================\n",
            "\n",
            "Número de ciclos de manutenção: 9 5\n",
            "Tempos para manutenções preventivas: [0, 28, 227, 255, 317, 387, 393, 437, 517, 574]\n",
            "Severidade para cada subsistema: [0.75, 0.75, 0.75, 0.75, 0.5, 0.5, 0.5, 0.75, 0.5]\n",
            "Número de Sisemas: 5\n",
            "Fator:  [0.3296799539643607, 0.7768698398515702, 0.7768698398515702, 0.7768698398515702, 0.7768698398515702, 0.6321205588285577, 0.6321205588285577, 0.6321205588285577, 0.7768698398515702, 0.6321205588285577]\n",
            "Media de falhas:  [0, 5507.317760000001, 156726729.95819998, 157583124.86266586, 164996018.44206744, 182094658.66521883, 182707932.31402862, 238805852.58231896, 463325175.0034029, 679035175.2436861, 1260015842.759686]\n",
            "Custo =  51497732967.12376\n",
            "\n",
            "=========================================================================\n",
            "\n",
            "Número de ciclos de manutenção: 12 5\n",
            "Tempos para manutenções preventivas: [0, 22, 92, 122, 163, 200, 229, 245, 307, 383, 440, 571, 718]\n",
            "Severidade para cada subsistema: [0.75, 0.5, 0.75, 0.25, 0.5, 0.75, 0.75, 0.75, 0.5, 0.5, 0.5, 0.5]\n",
            "Número de Sisemas: 5\n",
            "Fator:  [0.3296799539643607, 0.7768698398515702, 0.6321205588285577, 0.7768698398515702, 0.3934693402873666, 0.6321205588285577, 0.7768698398515702, 0.7768698398515702, 0.7768698398515702, 0.6321205588285577, 0.6321205588285577, 0.6321205588285577, 0.6321205588285577]\n",
            "Media de falhas:  [0, 1649.16224, 1400280.9608641278, 1504506.9061673537, 2941238.2561493968, 3601249.4667220768, 19744726.68992363, 21626161.05535622, 28386455.289837334, 48064412.359288834, 65381560.257200666, 719271762.781893, 2445562996.3485413, 2547908471.5053625]\n",
            "Custo =  106744939040.94994\n",
            "\n",
            "=========================================================================\n",
            "\n",
            "Número de ciclos de manutenção: 14 5\n",
            "Tempos para manutenções preventivas: [0, 19, 94, 134, 157, 185, 230, 242, 303, 379, 442, 536, 574, 632, 718]\n",
            "Severidade para cada subsistema: [0.75, 0.5, 0.75, 0.25, 0.5, 0.75, 0.75, 0.75, 0.5, 0.5, 0.75, 0.5, 0.5, 0.5]\n",
            "Número de Sisemas: 5\n",
            "Fator:  [0.3296799539643607, 0.7768698398515702, 0.6321205588285577, 0.7768698398515702, 0.3934693402873666, 0.6321205588285577, 0.7768698398515702, 0.7768698398515702, 0.7768698398515702, 0.6321205588285577, 0.6321205588285577, 0.7768698398515702, 0.6321205588285577, 0.6321205588285577, 0.6321205588285577]\n",
            "Media de falhas:  [0, 792.3516800000001, 1664255.3191487524, 1932656.9229777786, 2471502.32139378, 2772992.509292421, 27808276.488866437, 29113974.535487585, 35402718.83360742, 54496336.85156978, 75503996.74001278, 395135258.12525946, 529986793.42017865, 590344204.6929837, 1421750138.062739, 1524095613.2195601]\n",
            "Custo =  110408236224.96938\n",
            "\n",
            "=========================================================================\n",
            "\n",
            "Número de ciclos de manutenção: 9 5\n",
            "Tempos para manutenções preventivas: [0, 18, 133, 231, 246, 309, 377, 442, 525, 578]\n",
            "Severidade para cada subsistema: [0.75, 0.75, 0.75, 0.75, 0.75, 0.5, 0.5, 0.75, 0.5]\n",
            "Número de Sisemas: 5\n",
            "Fator:  [0.3296799539643607, 0.7768698398515702, 0.7768698398515702, 0.7768698398515702, 0.7768698398515702, 0.7768698398515702, 0.6321205588285577, 0.6321205588285577, 0.7768698398515702, 0.6321205588285577]\n",
            "Media de falhas:  [0, 604.6617600000001, 10600201.124320453, 21449630.062195808, 21750724.39542509, 28878049.081124574, 43793495.83514489, 66041195.776659176, 315634282.1974741, 518728331.95874023, 1067640490.1703007]\n",
            "Custo =  45392432977.22146\n",
            "\n",
            "=========================================================================\n",
            "\n",
            "Número de ciclos de manutenção: 12 5\n",
            "Tempos para manutenções preventivas: [0, 19, 129, 157, 180, 231, 249, 299, 316, 375, 440, 510, 581]\n",
            "Severidade para cada subsistema: [0.75, 0.75, 0.5, 0.5, 0.75, 0.75, 0.75, 0.75, 0.5, 0.5, 0.75, 0.5]\n",
            "Número de Sisemas: 5\n",
            "Fator:  [0.3296799539643607, 0.7768698398515702, 0.7768698398515702, 0.6321205588285577, 0.6321205588285577, 0.7768698398515702, 0.7768698398515702, 0.7768698398515702, 0.7768698398515702, 0.6321205588285577, 0.6321205588285577, 0.7768698398515702, 0.6321205588285577]\n",
            "Media de falhas:  [0, 792.3516800000001, 8913425.089661105, 9096019.940489829, 9289741.289155396, 15963852.763923341, 18251756.768796816, 22276408.174285293, 23169251.061952088, 34270329.788608044, 56202448.421808034, 235103145.04961726, 530920681.2191241, 1056676409.5436273]\n",
            "Custo =  45053182833.53519\n",
            "\n",
            "=========================================================================\n",
            "\n",
            "Número de ciclos de manutenção: 12 5\n",
            "Tempos para manutenções preventivas: [0, 20, 57, 122, 191, 231, 253, 292, 324, 374, 438, 546, 585]\n",
            "Severidade para cada subsistema: [0.75, 0.25, 0.75, 0.5, 0.75, 0.75, 0.25, 0.75, 0.5, 0.5, 0.5, 0.5]\n",
            "Número de Sisemas: 5\n",
            "Fator:  [0.3296799539643607, 0.7768698398515702, 0.3934693402873666, 0.7768698398515702, 0.6321205588285577, 0.7768698398515702, 0.7768698398515702, 0.3934693402873666, 0.7768698398515702, 0.6321205588285577, 0.6321205588285577, 0.6321205588285577, 0.6321205588285577]\n",
            "Media de falhas:  [0, 1024.0, 105016.02972121746, 1012248.9349389977, 19435217.342915185, 20621970.01156299, 23687774.238562174, 26039871.21353217, 28433991.568553917, 225970938.56232348, 246979907.7467762, 664047359.144439, 813494254.3509533, 2606321804.161686]\n",
            "Custo =  99700034907.11803\n",
            "\n",
            "=========================================================================\n",
            "\n",
            "Número de ciclos de manutenção: 12 5\n",
            "Tempos para manutenções preventivas: [0, 21, 54, 119, 208, 230, 255, 298, 327, 373, 437, 546, 589]\n",
            "Severidade para cada subsistema: [0.75, 0.25, 0.25, 0.5, 0.75, 0.75, 0.75, 0.75, 0.5, 0.5, 0.75, 0.5]\n",
            "Número de Sisemas: 5\n",
            "Fator:  [0.3296799539643607, 0.7768698398515702, 0.3934693402873666, 0.3934693402873666, 0.6321205588285577, 0.7768698398515702, 0.7768698398515702, 0.7768698398515702, 0.7768698398515702, 0.6321205588285577, 0.6321205588285577, 0.7768698398515702, 0.6321205588285577]\n",
            "Media de falhas:  [0, 1306.9123200000001, 75121.40011821958, 943972.1878108004, 35124202.0640321, 47742088.99215469, 51417763.68855243, 54410679.283560306, 56535736.25743466, 63498655.01848106, 84356597.46071112, 507150107.64620274, 678500384.9359629, 1146100922.663866]\n",
            "Custo =  51681923002.70936\n",
            "\n",
            "=========================================================================\n",
            "\n",
            "Número de ciclos de manutenção: 11 5\n",
            "Tempos para manutenções preventivas: [0, 21, 54, 119, 157, 229, 254, 327, 331, 375, 436, 589]\n",
            "Severidade para cada subsistema: [0.75, 0.25, 0.25, 0.75, 0.75, 0.75, 0.75, 0.5, 0.5, 0.5, 0.5]\n",
            "Número de Sisemas: 5\n",
            "Fator:  [0.3296799539643607, 0.7768698398515702, 0.3934693402873666, 0.3934693402873666, 0.7768698398515702, 0.7768698398515702, 0.7768698398515702, 0.7768698398515702, 0.6321205588285577, 0.6321205588285577, 0.6321205588285577, 0.6321205588285577]\n",
            "Media de falhas:  [0, 1306.9123200000001, 75121.40011821958, 943972.1878108004, 5512407.886048454, 44853396.12342293, 45558484.98249525, 57104996.38766605, 57307390.88864375, 63880476.785168, 147643097.51747236, 1081088082.6869469, 2801636755.3611956]\n",
            "Custo =  82980925604.82922\n",
            "\n",
            "=========================================================================\n",
            "\n",
            "Número de ciclos de manutenção: 9 5\n",
            "Tempos para manutenções preventivas: [0, 21, 57, 229, 253, 325, 331, 377, 436, 587]\n",
            "Severidade para cada subsistema: [0.75, 0.25, 0.75, 0.75, 0.75, 0.5, 0.5, 0.5, 0.5]\n",
            "Número de Sisemas: 5\n",
            "Fator:  [0.3296799539643607, 0.7768698398515702, 0.3934693402873666, 0.7768698398515702, 0.7768698398515702, 0.7768698398515702, 0.6321205588285577, 0.6321205588285577, 0.6321205588285577, 0.6321205588285577]\n",
            "Media de falhas:  [0, 1306.9123200000001, 101899.60869666211, 68919626.25167952, 89080009.54361655, 100087142.89779335, 100400345.90343004, 107612132.09145233, 187814487.76823324, 1090782094.9098947, 2847251114.588334]\n",
            "Custo =  84908445630.80618\n",
            "\n",
            "=========================================================================\n",
            "\n",
            "Número de ciclos de manutenção: 9 5\n",
            "Tempos para manutenções preventivas: [0, 20, 230, 252, 320, 330, 379, 436, 545, 583]\n",
            "Severidade para cada subsistema: [0.75, 0.75, 0.75, 0.75, 0.5, 0.5, 0.5, 0.75, 0.5]\n",
            "Número de Sisemas: 5\n",
            "Fator:  [0.3296799539643607, 0.7768698398515702, 0.7768698398515702, 0.7768698398515702, 0.7768698398515702, 0.6321205588285577, 0.6321205588285577, 0.6321205588285577, 0.7768698398515702, 0.6321205588285577]\n",
            "Media de falhas:  [0, 1024.0, 178086171.7806288, 178650304.7992981, 187938510.33096275, 188488350.86227036, 196671063.83311272, 273382944.40256464, 693459167.6985893, 836698226.9773695, 1347431848.3780875]\n",
            "Custo =  54703392786.46382\n",
            "\n",
            "=========================================================================\n",
            "\n",
            "Número de ciclos de manutenção: 10 5\n",
            "Tempos para manutenções preventivas: [0, 20, 125, 159, 231, 251, 315, 380, 437, 552, 580]\n",
            "Severidade para cada subsistema: [0.75, 0.75, 0.5, 0.75, 0.75, 0.75, 0.5, 0.5, 0.5, 0.5]\n",
            "Número de Sisemas: 5\n",
            "Fator:  [0.3296799539643607, 0.7768698398515702, 0.7768698398515702, 0.6321205588285577, 0.7768698398515702, 0.7768698398515702, 0.7768698398515702, 0.6321205588285577, 0.6321205588285577, 0.6321205588285577, 0.6321205588285577]\n",
            "Media de falhas:  [0, 1024.0, 7448648.976105274, 7733848.659015373, 12305112.87173996, 14967155.10190646, 22755337.10702114, 36707980.69419778, 53644371.40474655, 529589946.11164296, 629883364.851576, 2515559623.482982]\n",
            "Custo =  84804710848.276\n",
            "\n",
            "=========================================================================\n",
            "\n",
            "Número de ciclos de manutenção: 9 5\n",
            "Tempos para manutenções preventivas: [0, 20, 133, 232, 250, 282, 312, 379, 439, 579]\n",
            "Severidade para cada subsistema: [0.75, 0.75, 0.75, 0.75, 0.25, 0.75, 0.5, 0.5, 0.5]\n",
            "Número de Sisemas: 5\n",
            "Fator:  [0.3296799539643607, 0.7768698398515702, 0.7768698398515702, 0.7768698398515702, 0.7768698398515702, 0.3934693402873666, 0.7768698398515702, 0.6321205588285577, 0.6321205588285577, 0.6321205588285577]\n",
            "Media de falhas:  [0, 1024.0, 10328387.923226114, 21609698.03810729, 22019645.453860607, 23514786.033770636, 25416116.619030163, 301237313.30740416, 320059561.2774598, 1082126644.0987163, 2986712764.0013313]\n",
            "Custo =  91300801913.247\n"
          ]
        },
        {
          "output_type": "stream",
          "name": "stderr",
          "text": [
            "pyswarms.single.global_best:  45%|████▌     |45/100, best_cost=4.51e+10"
          ]
        },
        {
          "output_type": "stream",
          "name": "stdout",
          "text": [
            "\n",
            "=========================================================================\n",
            "\n",
            "Número de ciclos de manutenção: 12 5\n",
            "Tempos para manutenções preventivas: [0, 20, 59, 138, 197, 232, 250, 277, 312, 378, 440, 569, 580]\n",
            "Severidade para cada subsistema: [0.75, 0.25, 0.75, 0.5, 0.75, 0.75, 0.5, 0.75, 0.5, 0.5, 0.75, 0.5]\n",
            "Número de Sisemas: 5\n",
            "Fator:  [0.3296799539643607, 0.7768698398515702, 0.3934693402873666, 0.7768698398515702, 0.6321205588285577, 0.7768698398515702, 0.7768698398515702, 0.6321205588285577, 0.7768698398515702, 0.6321205588285577, 0.6321205588285577, 0.7768698398515702, 0.6321205588285577]\n",
            "Media de falhas:  [0, 1024.0, 127379.91971803563, 2255257.9903276125, 19876625.29855189, 20806070.521373253, 23129682.47569462, 24200910.45907871, 26633008.5471858, 82043365.00754651, 102156457.27581525, 732824646.0361631, 770357193.142745, 1303747924.375504]\n",
            "Custo =  54458188836.60047\n",
            "\n",
            "=========================================================================\n",
            "\n",
            "Número de ciclos de manutenção: 12 5\n",
            "Tempos para manutenções preventivas: [0, 19, 57, 139, 188, 230, 249, 275, 316, 376, 440, 554, 583]\n",
            "Severidade para cada subsistema: [0.75, 0.25, 0.75, 0.5, 0.75, 0.75, 0.75, 0.75, 0.5, 0.5, 0.5, 0.5]\n",
            "Número de Sisemas: 5\n",
            "Fator:  [0.3296799539643607, 0.7768698398515702, 0.3934693402873666, 0.7768698398515702, 0.6321205588285577, 0.7768698398515702, 0.7768698398515702, 0.7768698398515702, 0.7768698398515702, 0.6321205588285577, 0.6321205588285577, 0.6321205588285577, 0.6321205588285577]\n",
            "Media de falhas:  [0, 792.3516800000001, 108265.86742118509, 2547779.365145434, 14656652.30987431, 15949265.447087783, 18382752.233419504, 19368178.703420755, 22685807.77792379, 34244004.42366279, 55557539.20861, 531266966.9065908, 637581154.5651253, 2467210789.2590137]\n",
            "Custo =  85473724547.83582\n",
            "\n",
            "=========================================================================\n",
            "\n",
            "Número de ciclos de manutenção: 11 5\n",
            "Tempos para manutenções preventivas: [0, 19, 54, 132, 170, 184, 229, 249, 319, 375, 439, 586]\n",
            "Severidade para cada subsistema: [0.75, 0.25, 0.75, 0.5, 0.5, 0.75, 0.75, 0.75, 0.5, 0.5, 0.5]\n",
            "Número de Sisemas: 5\n",
            "Fator:  [0.3296799539643607, 0.7768698398515702, 0.3934693402873666, 0.7768698398515702, 0.6321205588285577, 0.6321205588285577, 0.7768698398515702, 0.7768698398515702, 0.7768698398515702, 0.6321205588285577, 0.6321205588285577, 0.6321205588285577]\n",
            "Media de falhas:  [0, 792.3516800000001, 80005.31504252584, 1974644.4908168903, 8262088.214940933, 8357831.936916757, 13718404.658164248, 16299794.146886457, 26116493.641881958, 36178638.71487129, 57339470.96189003, 916351790.8541324, 2690944967.7511387]\n",
            "Custo =  77059318675.47537\n",
            "\n",
            "=========================================================================\n",
            "\n",
            "Número de ciclos de manutenção: 11 5\n",
            "Tempos para manutenções preventivas: [0, 20, 55, 124, 193, 228, 249, 321, 374, 438, 563, 588]\n",
            "Severidade para cada subsistema: [0.75, 0.25, 0.75, 0.5, 0.75, 0.75, 0.75, 0.5, 0.5, 0.75, 0.5]\n",
            "Número de Sisemas: 5\n",
            "Fator:  [0.3296799539643607, 0.7768698398515702, 0.3934693402873666, 0.7768698398515702, 0.6321205588285577, 0.7768698398515702, 0.7768698398515702, 0.7768698398515702, 0.6321205588285577, 0.6321205588285577, 0.7768698398515702, 0.6321205588285577]\n",
            "Media de falhas:  [0, 1024.0, 85933.38544818328, 1220486.5787621294, 20408746.022295393, 21289051.07522205, 24020722.382068552, 34658495.24929426, 43675220.56749551, 64684189.75194822, 643654843.9438151, 737308040.014727, 1211900048.4413185]\n",
            "Custo =  51273886625.6886\n",
            "\n",
            "=========================================================================\n",
            "\n",
            "Número de ciclos de manutenção: 9 5\n",
            "Tempos para manutenções preventivas: [0, 20, 56, 228, 250, 322, 374, 390, 437, 588]\n",
            "Severidade para cada subsistema: [0.75, 0.25, 0.75, 0.75, 0.75, 0.5, 0.5, 0.5, 0.5]\n",
            "Número de Sisemas: 5\n",
            "Fator:  [0.3296799539643607, 0.7768698398515702, 0.3934693402873666, 0.7768698398515702, 0.7768698398515702, 0.7768698398515702, 0.6321205588285577, 0.6321205588285577, 0.6321205588285577, 0.6321205588285577]\n",
            "Media de falhas:  [0, 1024.0, 95088.70644893924, 68498185.64162943, 86172662.9845496, 96901858.8650699, 105613007.2004869, 107430988.01681584, 168203682.51134866, 1076327463.5271544, 2814781871.2568502]\n",
            "Custo =  84734569353.4768\n",
            "\n",
            "=========================================================================\n",
            "\n",
            "Número de ciclos de manutenção: 11 5\n",
            "Tempos para manutenções preventivas: [0, 21, 56, 165, 229, 253, 274, 321, 330, 374, 437, 584]\n",
            "Severidade para cada subsistema: [0.75, 0.25, 0.5, 0.75, 0.75, 0.5, 0.75, 0.5, 0.5, 0.5, 0.5]\n",
            "Número de Sisemas: 5\n",
            "Fator:  [0.3296799539643607, 0.7768698398515702, 0.3934693402873666, 0.6321205588285577, 0.7768698398515702, 0.7768698398515702, 0.6321205588285577, 0.7768698398515702, 0.6321205588285577, 0.6321205588285577, 0.6321205588285577, 0.6321205588285577]\n",
            "Media de falhas:  [0, 1306.9123200000001, 92231.98987532505, 8563378.104139015, 43404563.38961523, 46801993.4172799, 47510422.162034124, 51968980.60191265, 55229912.61444443, 61744938.34241725, 149878869.4887137, 999072694.1712121, 2810245505.0691166]\n",
            "Custo =  83945584775.03868\n",
            "\n",
            "=========================================================================\n",
            "\n",
            "Número de ciclos de manutenção: 11 5\n",
            "Tempos para manutenções preventivas: [0, 20, 56, 156, 229, 254, 319, 330, 376, 437, 549, 581]\n",
            "Severidade para cada subsistema: [0.75, 0.25, 0.5, 0.75, 0.75, 0.75, 0.5, 0.5, 0.5, 0.75, 0.5]\n",
            "Número de Sisemas: 5\n",
            "Fator:  [0.3296799539643607, 0.7768698398515702, 0.3934693402873666, 0.6321205588285577, 0.7768698398515702, 0.7768698398515702, 0.7768698398515702, 0.6321205588285577, 0.6321205588285577, 0.6321205588285577, 0.7768698398515702, 0.6321205588285577]\n",
            "Media de falhas:  [0, 1024.0, 95088.70644893924, 5860287.8555566035, 45774694.80562705, 49395876.265235, 57742862.814613424, 58357552.37000985, 65506496.052931406, 149980438.91801962, 598765491.9654751, 715575831.3368365, 1241331559.6613398]\n",
            "Custo =  54649430699.72816\n",
            "\n",
            "=========================================================================\n",
            "\n",
            "Número de ciclos de manutenção: 11 5\n",
            "Tempos para manutenções preventivas: [0, 20, 58, 125, 150, 229, 254, 277, 317, 378, 438, 579]\n",
            "Severidade para cada subsistema: [0.75, 0.25, 0.75, 0.5, 0.75, 0.75, 0.25, 0.75, 0.5, 0.5, 0.5]\n",
            "Número de Sisemas: 5\n",
            "Fator:  [0.3296799539643607, 0.7768698398515702, 0.3934693402873666, 0.7768698398515702, 0.6321205588285577, 0.7768698398515702, 0.7768698398515702, 0.3934693402873666, 0.7768698398515702, 0.6321205588285577, 0.6321205588285577, 0.6321205588285577]\n",
            "Media de falhas:  [0, 1024.0, 115763.18052299284, 1160397.9815688168, 3691549.816211406, 9436807.343135633, 13057988.802743586, 13898326.290765619, 17109465.790483993, 266506727.258926, 285191682.1970505, 1056049731.165667, 2960635851.068282]\n",
            "Custo =  91737691446.40268\n",
            "\n",
            "=========================================================================\n",
            "\n",
            "Número de ciclos de manutenção: 11 5\n",
            "Tempos para manutenções preventivas: [0, 20, 133, 150, 191, 230, 254, 290, 316, 380, 439, 577]\n",
            "Severidade para cada subsistema: [0.75, 0.75, 0.5, 0.5, 0.75, 0.75, 0.5, 0.75, 0.5, 0.5, 0.5]\n",
            "Número de Sisemas: 5\n",
            "Fator:  [0.3296799539643607, 0.7768698398515702, 0.7768698398515702, 0.6321205588285577, 0.6321205588285577, 0.7768698398515702, 0.7768698398515702, 0.6321205588285577, 0.7768698398515702, 0.6321205588285577, 0.6321205588285577, 0.6321205588285577]\n",
            "Media de falhas:  [0, 1024.0, 10328387.923226114, 10391920.245160908, 11111377.167500235, 15547029.944774881, 18995910.093715996, 20996376.67790518, 22598398.13532088, 76691679.51243785, 94958454.77338035, 830932048.5884755, 2773683477.157842]\n",
            "Custo =  78692119004.70062\n",
            "\n",
            "=========================================================================\n",
            "\n",
            "Número de ciclos de manutenção: 10 5\n",
            "Tempos para manutenções preventivas: [0, 20, 138, 160, 231, 253, 291, 315, 381, 439, 579]\n",
            "Severidade para cada subsistema: [0.75, 0.75, 0.5, 0.75, 0.75, 0.75, 0.75, 0.5, 0.5, 0.5]\n",
            "Número de Sisemas: 5\n",
            "Fator:  [0.3296799539643607, 0.7768698398515702, 0.7768698398515702, 0.6321205588285577, 0.7768698398515702, 0.7768698398515702, 0.7768698398515702, 0.7768698398515702, 0.6321205588285577, 0.6321205588285577, 0.6321205588285577]\n",
            "Media de falhas:  [0, 1024.0, 12539010.014553113, 12661368.656901028, 17068580.604105815, 20134384.831105, 22356417.160094425, 23767064.862139557, 38263649.38691148, 55986240.93380843, 818053323.755065, 2722639443.65768]\n",
            "Custo =  76048975815.17622\n",
            "\n",
            "=========================================================================\n",
            "\n",
            "Número de ciclos de manutenção: 10 5\n",
            "Tempos para manutenções preventivas: [0, 19, 140, 172, 231, 251, 315, 381, 440, 544, 582]\n",
            "Severidade para cada subsistema: [0.75, 0.75, 0.5, 0.75, 0.75, 0.75, 0.5, 0.5, 0.5, 0.5]\n",
            "Número de Sisemas: 5\n",
            "Fator:  [0.3296799539643607, 0.7768698398515702, 0.7768698398515702, 0.6321205588285577, 0.7768698398515702, 0.7768698398515702, 0.7768698398515702, 0.6321205588285577, 0.6321205588285577, 0.6321205588285577, 0.6321205588285577]\n",
            "Media de falhas:  [0, 792.3516800000001, 13690353.841449723, 14004464.66377154, 16779787.711564694, 19441829.941731192, 27230011.946845874, 41726596.471617796, 60127907.8629954, 449650694.60048074, 591938942.644381, 2440137640.4396462]\n",
            "Custo =  83736107148.93732\n",
            "\n",
            "=========================================================================\n",
            "\n",
            "Número de ciclos de manutenção: 9 5\n",
            "Tempos para manutenções preventivas: [0, 20, 136, 174, 230, 250, 316, 379, 439, 585]\n",
            "Severidade para cada subsistema: [0.75, 0.75, 0.5, 0.75, 0.75, 0.75, 0.5, 0.5, 0.5]\n",
            "Número de Sisemas: 5\n",
            "Fator:  [0.3296799539643607, 0.7768698398515702, 0.7768698398515702, 0.6321205588285577, 0.7768698398515702, 0.7768698398515702, 0.7768698398515702, 0.6321205588285577, 0.6321205588285577, 0.6321205588285577]\n",
            "Media de falhas:  [0, 1024.0, 11613466.82902382, 12082438.485015873, 14507541.137927769, 17129023.53198292, 25528045.62968612, 38544281.65938124, 57366529.62943688, 901980261.06867, 2694807810.8794026]\n",
            "Custo =  76335209195.55212\n",
            "\n",
            "=========================================================================\n",
            "\n",
            "Número de ciclos de manutenção: 11 5\n",
            "Tempos para manutenções preventivas: [0, 20, 126, 180, 229, 248, 291, 318, 376, 439, 562, 588]\n",
            "Severidade para cada subsistema: [0.75, 0.75, 0.5, 0.75, 0.75, 0.75, 0.75, 0.5, 0.5, 0.25, 0.5]\n",
            "Número de Sisemas: 5\n",
            "Fator:  [0.3296799539643607, 0.7768698398515702, 0.7768698398515702, 0.6321205588285577, 0.7768698398515702, 0.7768698398515702, 0.7768698398515702, 0.7768698398515702, 0.6321205588285577, 0.6321205588285577, 0.3934693402873666, 0.6321205588285577]\n",
            "Media de falhas:  [0, 1024.0, 7768506.283359704, 8957551.806899745, 10727474.522598239, 13123511.413392108, 15899992.468090529, 17631819.1558052, 28467902.18834438, 49026198.94429137, 610292985.1563897, 707977405.2493045, 8726425928.247242]\n",
            "Custo =  262750498903.15002\n",
            "\n",
            "=========================================================================\n",
            "\n",
            "Número de ciclos de manutenção: 9 5\n",
            "Tempos para manutenções preventivas: [0, 20, 57, 191, 229, 248, 320, 373, 438, 587]\n",
            "Severidade para cada subsistema: [0.75, 0.25, 0.5, 0.75, 0.75, 0.75, 0.5, 0.5, 0.5]\n",
            "Número de Sisemas: 5\n",
            "Fator:  [0.3296799539643607, 0.7768698398515702, 0.3934693402873666, 0.6321205588285577, 0.7768698398515702, 0.7768698398515702, 0.7768698398515702, 0.6321205588285577, 0.6321205588285577, 0.6321205588285577]\n",
            "Media de falhas:  [0, 1024.0, 105016.02972121746, 21860615.111690097, 42764001.652376354, 45160038.54317022, 55706995.104358405, 64647247.249702334, 86267226.43256956, 969582817.6535385, 2726051837.331978]\n",
            "Custo =  78801964420.67867\n",
            "\n",
            "=========================================================================\n",
            "\n",
            "Número de ciclos de manutenção: 10 5\n",
            "Tempos para manutenções preventivas: [0, 20, 55, 198, 230, 249, 320, 373, 437, 567, 584]\n",
            "Severidade para cada subsistema: [0.75, 0.25, 0.5, 0.75, 0.75, 0.75, 0.5, 0.5, 0.75, 0.5]\n",
            "Número de Sisemas: 5\n",
            "Fator:  [0.3296799539643607, 0.7768698398515702, 0.3934693402873666, 0.6321205588285577, 0.7768698398515702, 0.7768698398515702, 0.7768698398515702, 0.6321205588285577, 0.6321205588285577, 0.7768698398515702, 0.6321205588285577]\n",
            "Media de falhas:  [0, 1024.0, 85933.38544818328, 28967223.889225453, 47017039.593795225, 49450526.380126946, 59671275.517015204, 68611527.66235913, 89469470.1045892, 720147390.8754203, 780742714.5876179, 1284087834.713377]\n",
            "Custo =  53593968561.770485\n",
            "\n",
            "=========================================================================\n",
            "\n",
            "Número de ciclos de manutenção: 10 5\n",
            "Tempos para manutenções preventivas: [0, 20, 54, 199, 230, 250, 297, 320, 375, 437, 581]\n",
            "Severidade para cada subsistema: [0.75, 0.25, 0.5, 0.75, 0.75, 0.25, 0.75, 0.5, 0.5, 0.5]\n",
            "Número de Sisemas: 5\n",
            "Fator:  [0.3296799539643607, 0.7768698398515702, 0.3934693402873666, 0.6321205588285577, 0.7768698398515702, 0.7768698398515702, 0.3934693402873666, 0.7768698398515702, 0.6321205588285577, 0.6321205588285577, 0.6321205588285577]\n",
            "Media de falhas:  [0, 1024.0, 77504.13866677003, 30649591.856088646, 48160364.59237945, 50781846.9864346, 54279689.66925185, 55684823.215778835, 274399318.1527906, 294078994.9343862, 1101040786.1501658, 2967921465.0141335]\n",
            "Custo =  93887756363.98206\n"
          ]
        },
        {
          "output_type": "stream",
          "name": "stderr",
          "text": [
            "pyswarms.single.global_best:  66%|██████▌   |66/100, best_cost=4.51e+10"
          ]
        },
        {
          "output_type": "stream",
          "name": "stdout",
          "text": [
            "\n",
            "=========================================================================\n",
            "\n",
            "Número de ciclos de manutenção: 10 5\n",
            "Tempos para manutenções preventivas: [0, 21, 55, 170, 203, 229, 253, 319, 376, 438, 579]\n",
            "Severidade para cada subsistema: [0.75, 0.25, 0.5, 0.5, 0.75, 0.75, 0.75, 0.5, 0.5, 0.5]\n",
            "Número de Sisemas: 5\n",
            "Fator:  [0.3296799539643607, 0.7768698398515702, 0.3934693402873666, 0.6321205588285577, 0.6321205588285577, 0.7768698398515702, 0.7768698398515702, 0.7768698398515702, 0.6321205588285577, 0.6321205588285577, 0.6321205588285577]\n",
            "Media de falhas:  [0, 1306.9123200000001, 83321.02401522476, 10769277.76841396, 21988414.720550217, 24555337.57491495, 27952767.602579616, 36579352.193201266, 47066708.448472045, 66890054.6638972, 837748103.6325136, 2742334223.5351286]\n",
            "Custo =  77561259749.69049\n",
            "\n",
            "=========================================================================\n",
            "\n",
            "Número de ciclos de manutenção: 13 5\n",
            "Tempos para manutenções preventivas: [0, 21, 57, 124, 162, 209, 229, 254, 287, 318, 378, 439, 559, 579]\n",
            "Severidade para cada subsistema: [0.75, 0.25, 0.75, 0.5, 0.5, 0.75, 0.75, 0.25, 0.75, 0.5, 0.5, 0.25, 0.5]\n",
            "Número de Sisemas: 5\n",
            "Fator:  [0.3296799539643607, 0.7768698398515702, 0.3934693402873666, 0.7768698398515702, 0.6321205588285577, 0.6321205588285577, 0.7768698398515702, 0.7768698398515702, 0.3934693402873666, 0.7768698398515702, 0.6321205588285577, 0.6321205588285577, 0.3934693402873666, 0.6321205588285577]\n",
            "Media de falhas:  [0, 1306.9123200000001, 101899.60869666211, 1132044.8817080515, 6312717.473989114, 7564671.161534582, 9436800.569718521, 13057982.029326474, 14726569.04263006, 16863042.439425007, 262343306.88555038, 281732505.22051334, 812209574.1693618, 881706983.0616556, 9392489695.118761]\n",
            "Custo =  276826577310.6034\n",
            "\n",
            "=========================================================================\n",
            "\n",
            "Número de ciclos de manutenção: 10 5\n",
            "Tempos para manutenções preventivas: [0, 21, 134, 153, 229, 255, 294, 317, 377, 439, 580]\n",
            "Severidade para cada subsistema: [0.75, 0.75, 0.5, 0.75, 0.75, 0.5, 0.75, 0.5, 0.5, 0.5]\n",
            "Número de Sisemas: 5\n",
            "Fator:  [0.3296799539643607, 0.7768698398515702, 0.7768698398515702, 0.6321205588285577, 0.7768698398515702, 0.7768698398515702, 0.6321205588285577, 0.7768698398515702, 0.6321205588285577, 0.6321205588285577, 0.6321205588285577]\n",
            "Media de falhas:  [0, 1306.9123200000001, 10605380.534292001, 10687202.34626522, 15858619.405667758, 19711896.707028512, 22116455.177968115, 23474828.01058314, 71567707.69635993, 91535524.72674972, 866911588.7815487, 2752587847.4129553]\n",
            "Custo =  78516316765.14671\n",
            "\n",
            "=========================================================================\n",
            "\n",
            "Número de ciclos de manutenção: 9 5\n",
            "Tempos para manutenções preventivas: [0, 21, 139, 151, 230, 254, 317, 377, 440, 583]\n",
            "Severidade para cada subsistema: [0.75, 0.75, 0.5, 0.75, 0.75, 0.75, 0.5, 0.5, 0.5]\n",
            "Número de Sisemas: 5\n",
            "Fator:  [0.3296799539643607, 0.7768698398515702, 0.7768698398515702, 0.6321205588285577, 0.7768698398515702, 0.7768698398515702, 0.7768698398515702, 0.6321205588285577, 0.6321205588285577, 0.6321205588285577]\n",
            "Media de falhas:  [0, 1306.9123200000001, 12862326.423837017, 12900268.08858977, 18702422.590786465, 22151302.73972758, 29819586.35952982, 41472829.73321449, 62180088.190573946, 869377566.610133, 2699007201.3040214]\n",
            "Custo =  76260753743.39142\n",
            "\n",
            "=========================================================================\n",
            "\n",
            "Número de ciclos de manutenção: 9 5\n",
            "Tempos para manutenções preventivas: [0, 20, 135, 154, 230, 253, 316, 377, 440, 585]\n",
            "Severidade para cada subsistema: [0.75, 0.75, 0.5, 0.75, 0.75, 0.75, 0.5, 0.5, 0.5]\n",
            "Número de Sisemas: 5\n",
            "Fator:  [0.3296799539643607, 0.7768698398515702, 0.7768698398515702, 0.6321205588285577, 0.7768698398515702, 0.7768698398515702, 0.7768698398515702, 0.6321205588285577, 0.6321205588285577, 0.6321205588285577]\n",
            "Media de falhas:  [0, 1024.0, 11171661.46695423, 11255253.62231942, 16478926.778394144, 19709212.780511327, 27308192.803020317, 39337734.43601362, 60044992.89337307, 895250948.4225743, 2688078498.233307]\n",
            "Custo =  76326587967.98334\n",
            "\n",
            "=========================================================================\n",
            "\n",
            "Número de ciclos de manutenção: 12 5\n",
            "Tempos para manutenções preventivas: [0, 20, 129, 165, 230, 252, 295, 316, 331, 377, 440, 547, 586]\n",
            "Severidade para cada subsistema: [0.75, 0.75, 0.5, 0.75, 0.75, 0.25, 0.75, 0.5, 0.5, 0.5, 0.5, 0.5]\n",
            "Número de Sisemas: 5\n",
            "Fator:  [0.3296799539643607, 0.7768698398515702, 0.7768698398515702, 0.6321205588285577, 0.7768698398515702, 0.7768698398515702, 0.3934693402873666, 0.7768698398515702, 0.6321205588285577, 0.6321205588285577, 0.6321205588285577, 0.6321205588285577, 0.6321205588285577]\n",
            "Media de falhas:  [0, 1024.0, 8794564.689336674, 9153400.963051787, 12633144.238077398, 15652812.074549094, 18551444.78159001, 19734855.81220643, 57603699.83887872, 64815486.02690101, 155196654.8278572, 569249551.223645, 719689175.0602658, 2494282351.9572716]\n",
            "Custo =  98287527461.75063\n",
            "\n",
            "=========================================================================\n",
            "\n",
            "Número de ciclos de manutenção: 11 5\n",
            "Tempos para manutenções preventivas: [0, 20, 59, 122, 229, 251, 317, 332, 376, 438, 552, 586]\n",
            "Severidade para cada subsistema: [0.75, 0.25, 0.75, 0.75, 0.75, 0.75, 0.5, 0.5, 0.5, 0.75, 0.5]\n",
            "Número de Sisemas: 5\n",
            "Fator:  [0.3296799539643607, 0.7768698398515702, 0.3934693402873666, 0.7768698398515702, 0.7768698398515702, 0.7768698398515702, 0.7768698398515702, 0.6321205588285577, 0.6321205588285577, 0.6321205588285577, 0.7768698398515702, 0.6321205588285577]\n",
            "Media de falhas:  [0, 1024.0, 127379.91971803563, 947450.189111582, 62396485.60029361, 62952818.8820326, 71427171.6044918, 72342701.36672918, 78974240.68253906, 165999148.25692338, 635727720.47651, 764847700.8164303, 1253657458.6079068]\n",
            "Custo =  54689001216.673195\n",
            "\n",
            "=========================================================================\n",
            "\n",
            "Número de ciclos de manutenção: 10 5\n",
            "Tempos para manutenções preventivas: [0, 20, 57, 118, 229, 250, 318, 333, 376, 437, 584]\n",
            "Severidade para cada subsistema: [0.75, 0.25, 0.25, 0.75, 0.75, 0.75, 0.5, 0.5, 0.5, 0.5]\n",
            "Número de Sisemas: 5\n",
            "Fator:  [0.3296799539643607, 0.7768698398515702, 0.3934693402873666, 0.3934693402873666, 0.7768698398515702, 0.7768698398515702, 0.7768698398515702, 0.6321205588285577, 0.6321205588285577, 0.6321205588285577, 0.6321205588285577]\n",
            "Media de falhas:  [0, 1024.0, 105016.02972121746, 801584.2471305997, 65109577.582821466, 82012477.77455471, 91138867.62767789, 92064791.9643604, 98447037.43142144, 182920980.29650968, 1032114804.979008, 2843287615.8769126]\n",
            "Custo =  85239350682.28186\n",
            "\n",
            "=========================================================================\n",
            "\n",
            "Número de ciclos de manutenção: 12 5\n",
            "Tempos para manutenções preventivas: [0, 20, 55, 171, 203, 230, 250, 319, 332, 376, 436, 564, 582]\n",
            "Severidade para cada subsistema: [0.75, 0.25, 0.75, 0.5, 0.75, 0.75, 0.75, 0.5, 0.5, 0.5, 0.5, 0.5]\n",
            "Número de Sisemas: 5\n",
            "Fator:  [0.3296799539643607, 0.7768698398515702, 0.3934693402873666, 0.7768698398515702, 0.6321205588285577, 0.7768698398515702, 0.7768698398515702, 0.7768698398515702, 0.6321205588285577, 0.6321205588285577, 0.6321205588285577, 0.6321205588285577, 0.6321205588285577]\n",
            "Media de falhas:  [0, 1024.0, 85933.38544818328, 11198350.042640448, 22091671.735585805, 22662639.78971721, 25284122.183772363, 34792258.06159357, 35560169.31899308, 42191708.63480295, 124165368.9986073, 728592794.5218533, 792066615.5933334, 2640265313.3885984]\n",
            "Custo =  92163869257.84755\n",
            "\n",
            "=========================================================================\n",
            "\n",
            "Número de ciclos de manutenção: 10 5\n",
            "Tempos para manutenções preventivas: [0, 20, 55, 193, 230, 250, 272, 319, 376, 437, 582]\n",
            "Severidade para cada subsistema: [0.75, 0.25, 0.5, 0.75, 0.75, 0.25, 0.75, 0.5, 0.5, 0.5]\n",
            "Número de Sisemas: 5\n",
            "Fator:  [0.3296799539643607, 0.7768698398515702, 0.3934693402873666, 0.6321205588285577, 0.7768698398515702, 0.7768698398515702, 0.3934693402873666, 0.7768698398515702, 0.6321205588285577, 0.6321205588285577, 0.6321205588285577]\n",
            "Media de falhas:  [0, 1024.0, 85933.38544818328, 24607094.35853112, 45345010.56081548, 47966492.954870634, 48704742.629942216, 53076297.344930634, 281838981.9698741, 300947253.63282496, 1121802836.497349, 2970001534.292614]\n",
            "Custo =  93895308201.17053\n",
            "\n",
            "=========================================================================\n",
            "\n",
            "Número de ciclos de manutenção: 14 5\n",
            "Tempos para manutenções preventivas: [0, 20, 57, 122, 176, 184, 230, 251, 280, 317, 376, 438, 510, 542, 582]\n",
            "Severidade para cada subsistema: [0.75, 0.25, 0.75, 0.75, 0.5, 0.75, 0.75, 0.5, 0.75, 0.5, 0.5, 0.75, 0.25, 0.5]\n",
            "Número de Sisemas: 5\n",
            "Fator:  [0.3296799539643607, 0.7768698398515702, 0.3934693402873666, 0.7768698398515702, 0.7768698398515702, 0.6321205588285577, 0.7768698398515702, 0.7768698398515702, 0.6321205588285577, 0.7768698398515702, 0.6321205588285577, 0.6321205588285577, 0.7768698398515702, 0.3934693402873666, 0.6321205588285577]\n",
            "Media de falhas:  [0, 1024.0, 105016.02972121746, 1012248.9349389977, 11296039.58619615, 11341681.085128376, 12904435.527109478, 15721240.891971096, 16965248.12766232, 19777750.7365098, 66331271.75487603, 86154617.97030118, 271766875.7399409, 360865828.14844006, 387135628.8493295, 8733625105.832865]\n",
            "Custo =  256091965223.03043\n",
            "\n",
            "=========================================================================\n",
            "\n",
            "Número de ciclos de manutenção: 12 5\n",
            "Tempos para manutenções preventivas: [0, 20, 58, 126, 182, 230, 254, 316, 377, 439, 512, 561, 582]\n",
            "Severidade para cada subsistema: [0.75, 0.25, 0.75, 0.5, 0.75, 0.75, 0.75, 0.5, 0.5, 0.75, 0.5, 0.5]\n",
            "Número de Sisemas: 5\n",
            "Fator:  [0.3296799539643607, 0.7768698398515702, 0.3934693402873666, 0.7768698398515702, 0.6321205588285577, 0.7768698398515702, 0.7768698398515702, 0.7768698398515702, 0.6321205588285577, 0.6321205588285577, 0.7768698398515702, 0.6321205588285577, 0.6321205588285577]\n",
            "Media de falhas:  [0, 1024.0, 115763.18052299284, 1227398.0498065455, 13423818.111697484, 15136534.35263871, 18585414.501579825, 25930940.282806866, 37960481.91580017, 57928298.946189955, 249683290.91071433, 414886361.97721505, 426408312.8889999, 2274607010.684265]\n",
            "Custo =  80356422762.57623\n",
            "\n",
            "=========================================================================\n",
            "\n",
            "Número de ciclos de manutenção: 10 5\n",
            "Tempos para manutenções preventivas: [0, 20, 130, 186, 229, 255, 315, 378, 439, 569, 583]\n",
            "Severidade para cada subsistema: [0.75, 0.75, 0.5, 0.75, 0.75, 0.75, 0.5, 0.5, 0.75, 0.5]\n",
            "Número de Sisemas: 5\n",
            "Fator:  [0.3296799539643607, 0.7768698398515702, 0.7768698398515702, 0.6321205588285577, 0.7768698398515702, 0.7768698398515702, 0.7768698398515702, 0.6321205588285577, 0.6321205588285577, 0.7768698398515702, 0.6321205588285577]\n",
            "Media de falhas:  [0, 1024.0, 9159681.948698375, 10573545.673221638, 11912909.965475913, 15766187.266836666, 22560721.362187132, 35472675.62493904, 54861873.95990201, 693203149.8614497, 742358487.2010466, 1253092108.6017644]\n",
            "Custo =  51279007381.847\n",
            "\n",
            "=========================================================================\n",
            "\n",
            "Número de ciclos de manutenção: 12 5\n",
            "Tempos para manutenções preventivas: [0, 19, 131, 158, 200, 229, 254, 315, 377, 440, 549, 584, 660]\n",
            "Severidade para cada subsistema: [0.75, 0.75, 0.25, 0.5, 0.75, 0.75, 0.75, 0.5, 0.5, 0.25, 0.5, 0.5]\n",
            "Número de Sisemas: 5\n",
            "Fator:  [0.3296799539643607, 0.7768698398515702, 0.7768698398515702, 0.3934693402873666, 0.6321205588285577, 0.7768698398515702, 0.7768698398515702, 0.7768698398515702, 0.6321205588285577, 0.6321205588285577, 0.3934693402873666, 0.6321205588285577, 0.6321205588285577]\n",
            "Media de falhas:  [0, 792.3516800000001, 9663651.125194112, 9836706.9860257, 10699863.725602776, 26843340.948804326, 30464522.408412278, 37497987.64130437, 49912501.04119805, 70619759.49855751, 501645738.8637124, 633212733.4933106, 3564853714.863032, 4253100253.276803]\n",
            "Custo =  230315046357.3844\n",
            "\n",
            "=========================================================================\n",
            "\n",
            "Número de ciclos de manutenção: 10 5\n",
            "Tempos para manutenções preventivas: [0, 19, 131, 163, 228, 252, 316, 330, 377, 440, 585]\n",
            "Severidade para cada subsistema: [0.75, 0.75, 0.25, 0.75, 0.75, 0.75, 0.5, 0.5, 0.5, 0.5]\n",
            "Número de Sisemas: 5\n",
            "Fator:  [0.3296799539643607, 0.7768698398515702, 0.7768698398515702, 0.3934693402873666, 0.7768698398515702, 0.7768698398515702, 0.7768698398515702, 0.6321205588285577, 0.6321205588285577, 0.6321205588285577, 0.6321205588285577]\n",
            "Media de falhas:  [0, 792.3516800000001, 9663651.125194112, 9932228.857915848, 13337189.533109188, 33177386.641392533, 41036347.20794056, 41858007.74752499, 49340211.77355434, 139721380.57451054, 974927336.1037118, 2767754885.9144444]\n",
            "Custo =  83493770277.25934\n",
            "\n",
            "=========================================================================\n",
            "\n",
            "Número de ciclos de manutenção: 10 5\n",
            "Tempos para manutenções preventivas: [0, 20, 59, 128, 228, 250, 318, 333, 376, 439, 585]\n",
            "Severidade para cada subsistema: [0.75, 0.25, 0.75, 0.75, 0.75, 0.75, 0.5, 0.5, 0.5, 0.5]\n",
            "Número de Sisemas: 5\n",
            "Fator:  [0.3296799539643607, 0.7768698398515702, 0.3934693402873666, 0.7768698398515702, 0.7768698398515702, 0.7768698398515702, 0.7768698398515702, 0.6321205588285577, 0.6321205588285577, 0.6321205588285577, 0.6321205588285577]\n",
            "Media de falhas:  [0, 1024.0, 127379.91971803563, 1325581.65651819, 57021424.939382926, 57570040.42476263, 66696430.27788581, 67622354.61456832, 74004600.08162937, 163631921.21683034, 1008245652.6560636, 2801073202.466796]\n",
            "Custo =  82075703883.84346\n",
            "\n",
            "=========================================================================\n",
            "\n",
            "Número de ciclos de manutenção: 13 5\n",
            "Tempos para manutenções preventivas: [0, 21, 58, 122, 171, 201, 229, 250, 281, 320, 333, 376, 438, 584]\n",
            "Severidade para cada subsistema: [0.75, 0.25, 0.75, 0.5, 0.5, 0.75, 0.75, 0.5, 0.75, 0.5, 0.5, 0.5, 0.5]\n",
            "Número de Sisemas: 5\n",
            "Fator:  [0.3296799539643607, 0.7768698398515702, 0.3934693402873666, 0.7768698398515702, 0.6321205588285577, 0.6321205588285577, 0.7768698398515702, 0.7768698398515702, 0.6321205588285577, 0.7768698398515702, 0.6321205588285577, 0.6321205588285577, 0.6321205588285577, 0.6321205588285577]\n",
            "Media de falhas:  [0, 1306.9123200000001, 112371.07602346284, 975143.2746184499, 9273002.085775353, 9717719.047218952, 12533661.248195281, 15307653.669593314, 16709927.982006546, 19881182.36186562, 24861094.346490256, 31243339.813551296, 118268247.3879356, 958030541.5898353, 2769203352.48774]\n",
            "Custo =  82608553463.622\n",
            "\n",
            "=========================================================================\n",
            "\n",
            "Número de ciclos de manutenção: 11 5\n",
            "Tempos para manutenções preventivas: [0, 21, 57, 188, 229, 250, 321, 332, 377, 437, 541, 583]\n",
            "Severidade para cada subsistema: [0.75, 0.25, 0.5, 0.75, 0.75, 0.75, 0.5, 0.5, 0.5, 0.25, 0.5]\n",
            "Número de Sisemas: 5\n",
            "Fator:  [0.3296799539643607, 0.7768698398515702, 0.3934693402873666, 0.6321205588285577, 0.7768698398515702, 0.7768698398515702, 0.7768698398515702, 0.6321205588285577, 0.6321205588285577, 0.6321205588285577, 0.3934693402873666, 0.6321205588285577]\n",
            "Media de falhas:  [0, 1306.9123200000001, 101899.60869666211, 19722386.402187925, 42208354.15803448, 44982346.57943252, 55291581.69340262, 55920632.33741685, 62868522.996342, 145539515.91491216, 527508289.6271548, 687865420.8433299, 8979633657.367285]\n",
            "Custo =  265860758011.3531\n",
            "\n",
            "=========================================================================\n",
            "\n",
            "Número de ciclos de manutenção: 11 5\n",
            "Tempos para manutenções preventivas: [0, 21, 56, 186, 230, 251, 320, 330, 378, 437, 545, 582]\n",
            "Severidade para cada subsistema: [0.75, 0.25, 0.5, 0.75, 0.75, 0.75, 0.5, 0.5, 0.5, 0.75, 0.5]\n",
            "Número de Sisemas: 5\n",
            "Fator:  [0.3296799539643607, 0.7768698398515702, 0.3934693402873666, 0.6321205588285577, 0.7768698398515702, 0.7768698398515702, 0.7768698398515702, 0.6321205588285577, 0.6321205588285577, 0.6321205588285577, 0.7768698398515702, 0.6321205588285577]\n",
            "Media de falhas:  [0, 1306.9123200000001, 92231.98987532505, 18891903.400811005, 43389063.76705548, 46205869.131917104, 55797385.84563249, 56347226.376940094, 64173926.2555792, 145059717.78425476, 559442535.8459346, 697548373.6067466, 1215751965.5094895]\n",
            "Custo =  54547991946.16577\n",
            "\n",
            "=========================================================================\n",
            "\n",
            "Número de ciclos de manutenção: 10 5\n",
            "Tempos para manutenções preventivas: [0, 20, 57, 121, 190, 231, 253, 318, 378, 437, 581]\n",
            "Severidade para cada subsistema: [0.75, 0.25, 0.75, 0.5, 0.75, 0.75, 0.75, 0.5, 0.5, 0.5]\n",
            "Número de Sisemas: 5\n",
            "Fator:  [0.3296799539643607, 0.7768698398515702, 0.3934693402873666, 0.7768698398515702, 0.6321205588285577, 0.7768698398515702, 0.7768698398515702, 0.7768698398515702, 0.6321205588285577, 0.6321205588285577, 0.6321205588285577]\n",
            "Media de falhas:  [0, 1024.0, 105016.02972121746, 955358.3991757878, 19004609.126472328, 20251538.039989598, 23317342.266988784, 31590019.736085214, 43338909.02210356, 61338868.287644245, 868300659.5034238, 2735181338.3673916]\n",
            "Custo =  76835890398.30687\n",
            "\n",
            "=========================================================================\n",
            "\n",
            "Número de ciclos de manutenção: 11 5\n",
            "Tempos para manutenções preventivas: [0, 19, 58, 123, 151, 204, 231, 254, 315, 377, 439, 582]\n",
            "Severidade para cada subsistema: [0.75, 0.25, 0.75, 0.75, 0.5, 0.75, 0.75, 0.75, 0.5, 0.5, 0.5]\n",
            "Número de Sisemas: 5\n",
            "Fator:  [0.3296799539643607, 0.7768698398515702, 0.3934693402873666, 0.7768698398515702, 0.7768698398515702, 0.6321205588285577, 0.7768698398515702, 0.7768698398515702, 0.7768698398515702, 0.6321205588285577, 0.6321205588285577, 0.6321205588285577]\n",
            "Media de falhas:  [0, 792.3516800000001, 119294.10984008842, 1039617.2350911481, 3938897.0662704506, 5491975.9693480935, 6071239.374222852, 9350570.134876708, 16384035.367768794, 28798548.76766248, 48766365.798052266, 851293621.3736064, 2699492319.168872]\n",
            "Custo =  76206514795.33612\n",
            "\n",
            "=========================================================================\n",
            "\n",
            "Número de ciclos de manutenção: 11 5\n",
            "Tempos para manutenções preventivas: [0, 18, 59, 123, 159, 231, 253, 286, 313, 376, 440, 583]\n",
            "Severidade para cada subsistema: [0.75, 0.25, 0.75, 0.5, 0.75, 0.75, 0.5, 0.75, 0.5, 0.5, 0.5]\n",
            "Número de Sisemas: 5\n",
            "Fator:  [0.3296799539643607, 0.7768698398515702, 0.3934693402873666, 0.7768698398515702, 0.6321205588285577, 0.7768698398515702, 0.7768698398515702, 0.6321205588285577, 0.7768698398515702, 0.6321205588285577, 0.6321205588285577, 0.6321205588285577]\n",
            "Media de falhas:  [0, 604.6617600000001, 135177.6655306749, 1010524.1405180785, 5567532.664392428, 10138796.877117014, 13204601.104116198, 14853870.344550107, 16491916.011712044, 67430624.14345774, 88744158.92840496, 895941637.347964, 2725571272.041852]\n",
            "Custo =  78759362739.59421\n"
          ]
        },
        {
          "output_type": "stream",
          "name": "stderr",
          "text": [
            "pyswarms.single.global_best:  76%|███████▌  |76/100, best_cost=4.51e+10"
          ]
        },
        {
          "output_type": "stream",
          "name": "stdout",
          "text": [
            "\n",
            "=========================================================================\n",
            "\n",
            "Número de ciclos de manutenção: 10 5\n",
            "Tempos para manutenções preventivas: [0, 17, 124, 207, 230, 252, 313, 375, 441, 560, 584]\n",
            "Severidade para cada subsistema: [0.75, 0.75, 0.5, 0.75, 0.75, 0.75, 0.5, 0.5, 0.75, 0.5]\n",
            "Número de Sisemas: 5\n",
            "Fator:  [0.3296799539643607, 0.7768698398515702, 0.7768698398515702, 0.6321205588285577, 0.7768698398515702, 0.7768698398515702, 0.7768698398515702, 0.6321205588285577, 0.6321205588285577, 0.7768698398515702, 0.6321205588285577]\n",
            "Media de falhas:  [0, 454.35424000000006, 7444710.09771377, 12751582.210292976, 13191660.072650716, 16211327.909122411, 23116165.893219102, 35330697.93281083, 58055135.564250186, 585074254.0734234, 672347497.8316977, 1175692617.9574568]\n",
            "Custo =  49828513534.47397\n",
            "\n",
            "=========================================================================\n",
            "\n",
            "Número de ciclos de manutenção: 10 5\n",
            "Tempos para manutenções preventivas: [0, 19, 124, 205, 230, 252, 315, 375, 390, 440, 585]\n",
            "Severidade para cada subsistema: [0.75, 0.75, 0.5, 0.75, 0.75, 0.75, 0.5, 0.5, 0.5, 0.5]\n",
            "Número de Sisemas: 5\n",
            "Fator:  [0.3296799539643607, 0.7768698398515702, 0.7768698398515702, 0.6321205588285577, 0.7768698398515702, 0.7768698398515702, 0.7768698398515702, 0.6321205588285577, 0.6321205588285577, 0.6321205588285577, 0.6321205588285577]\n",
            "Media de falhas:  [0, 792.3516800000001, 7240006.453585052, 12083917.892690187, 12586766.340207452, 15606434.176679146, 23136596.374168556, 34600342.90095029, 36281211.323307395, 103574012.6012118, 938779968.130413, 2731607517.941146]\n",
            "Custo =  80716127641.59464\n",
            "\n",
            "=========================================================================\n",
            "\n",
            "Número de ciclos de manutenção: 11 5\n",
            "Tempos para manutenções preventivas: [0, 20, 123, 201, 229, 252, 291, 318, 375, 440, 559, 585]\n",
            "Severidade para cada subsistema: [0.75, 0.75, 0.5, 0.75, 0.75, 0.5, 0.75, 0.5, 0.5, 0.75, 0.5]\n",
            "Número de Sisemas: 5\n",
            "Fator:  [0.3296799539643607, 0.7768698398515702, 0.7768698398515702, 0.6321205588285577, 0.7768698398515702, 0.7768698398515702, 0.6321205588285577, 0.7768698398515702, 0.6321205588285577, 0.6321205588285577, 0.7768698398515702, 0.6321205588285577]\n",
            "Media de falhas:  [0, 1024.0, 6840541.857547436, 11006942.775141712, 11605434.338423928, 14787230.292573111, 17113426.831000295, 18845253.518714964, 62850995.31714391, 84783113.95034389, 608535611.4661528, 704279109.2657446, 1200316504.514141]\n",
            "Custo =  52069963341.85672\n",
            "\n",
            "=========================================================================\n",
            "\n",
            "Número de ciclos de manutenção: 12 5\n",
            "Tempos para manutenções preventivas: [0, 21, 122, 176, 206, 229, 251, 321, 332, 376, 439, 556, 584]\n",
            "Severidade para cada subsistema: [0.75, 0.75, 0.5, 0.5, 0.75, 0.75, 0.75, 0.5, 0.5, 0.5, 0.25, 0.5]\n",
            "Número de Sisemas: 5\n",
            "Fator:  [0.3296799539643607, 0.7768698398515702, 0.7768698398515702, 0.6321205588285577, 0.6321205588285577, 0.7768698398515702, 0.7768698398515702, 0.7768698398515702, 0.6321205588285577, 0.6321205588285577, 0.6321205588285577, 0.3934693402873666, 0.6321205588285577]\n",
            "Media de falhas:  [0, 1306.9123200000001, 6458971.378648702, 7585324.795069732, 8065828.874921272, 10275956.717985013, 13250013.062249454, 23238526.71368686, 23867577.35770109, 30499116.67351097, 120126437.80871195, 621098715.326771, 724128057.1561248, 8961195259.818787]\n",
            "Custo =  265940426711.80655\n",
            "\n",
            "=========================================================================\n",
            "\n",
            "Número de ciclos de manutenção: 11 5\n",
            "Tempos para manutenções preventivas: [0, 22, 58, 123, 206, 230, 250, 322, 335, 376, 437, 583]\n",
            "Severidade para cada subsistema: [0.75, 0.25, 0.75, 0.5, 0.75, 0.75, 0.75, 0.5, 0.5, 0.5, 0.5]\n",
            "Número de Sisemas: 5\n",
            "Fator:  [0.3296799539643607, 0.7768698398515702, 0.3934693402873666, 0.7768698398515702, 0.6321205588285577, 0.7768698398515702, 0.7768698398515702, 0.7768698398515702, 0.6321205588285577, 0.6321205588285577, 0.6321205588285577, 0.6321205588285577]\n",
            "Media de falhas:  [0, 1649.16224, 109122.97083981177, 1029446.0960908714, 31405396.171301827, 31876213.325019363, 34497695.71907452, 45226891.59959482, 46021429.71008448, 51923274.81253081, 136397217.67761904, 971329544.7272501, 2800959179.4211383]\n",
            "Custo =  81751849575.81384\n",
            "\n",
            "=========================================================================\n",
            "\n",
            "Número de ciclos de manutenção: 13 5\n",
            "Tempos para manutenções preventivas: [0, 23, 57, 122, 155, 206, 230, 249, 274, 321, 333, 376, 436, 582]\n",
            "Severidade para cada subsistema: [0.75, 0.25, 0.75, 0.75, 0.5, 0.75, 0.75, 0.25, 0.75, 0.5, 0.5, 0.5, 0.5]\n",
            "Número de Sisemas: 5\n",
            "Fator:  [0.3296799539643607, 0.7768698398515702, 0.3934693402873666, 0.7768698398515702, 0.7768698398515702, 0.6321205588285577, 0.7768698398515702, 0.7768698398515702, 0.3934693402873666, 0.7768698398515702, 0.6321205588285577, 0.6321205588285577, 0.6321205588285577, 0.6321205588285577]\n",
            "Media de falhas:  [0, 2059.6297600000003, 96088.71392433887, 1003321.6191421191, 4780877.84279412, 6234452.484617141, 6705269.638334678, 9138756.4246664, 10055100.595922505, 14513659.03580103, 45719417.68651296, 52101663.153574, 134075323.51737833, 964199088.1989914, 2812397785.9942565]\n",
            "Custo =  90910954711.55399\n",
            "\n",
            "=========================================================================\n",
            "\n",
            "Número de ciclos de manutenção: 12 5\n",
            "Tempos para manutenções preventivas: [0, 21, 57, 123, 230, 251, 295, 319, 331, 377, 436, 558, 582]\n",
            "Severidade para cada subsistema: [0.75, 0.25, 0.75, 0.75, 0.75, 0.25, 0.75, 0.5, 0.5, 0.5, 0.25, 0.5]\n",
            "Número de Sisemas: 5\n",
            "Fator:  [0.3296799539643607, 0.7768698398515702, 0.3934693402873666, 0.7768698398515702, 0.7768698398515702, 0.7768698398515702, 0.3934693402873666, 0.7768698398515702, 0.6321205588285577, 0.6321205588285577, 0.6321205588285577, 0.3934693402873666, 0.6321205588285577]\n",
            "Media de falhas:  [0, 1306.9123200000001, 101899.60869666211, 1069027.6575250665, 63536982.0471294, 64056120.28686297, 67080704.21327197, 68556392.32070404, 99015163.66273142, 106226949.85075371, 186429305.5275346, 727154404.1646966, 813258983.2059152, 9159748460.189451]\n",
            "Custo =  276902821830.71796\n",
            "\n",
            "=========================================================================\n",
            "\n",
            "Número de ciclos de manutenção: 10 5\n",
            "Tempos para manutenções preventivas: [0, 18, 56, 124, 203, 230, 252, 316, 377, 438, 582]\n",
            "Severidade para cada subsistema: [0.75, 0.25, 0.75, 0.5, 0.75, 0.75, 0.75, 0.5, 0.5, 0.5]\n",
            "Número de Sisemas: 5\n",
            "Fator:  [0.3296799539643607, 0.7768698398515702, 0.3934693402873666, 0.7768698398515702, 0.6321205588285577, 0.7768698398515702, 0.7768698398515702, 0.7768698398515702, 0.6321205588285577, 0.6321205588285577, 0.6321205588285577]\n",
            "Media de falhas:  [0, 604.6617600000001, 101182.17004704765, 1182524.3693488722, 28319257.85657641, 28890225.910707813, 31909893.74717951, 39768854.31372754, 51798395.94672084, 71046738.86941627, 882703644.4370624, 2730902342.2323275]\n",
            "Custo =  77121497517.58365\n",
            "\n",
            "=========================================================================\n",
            "\n",
            "Número de ciclos de manutenção: 10 5\n",
            "Tempos para manutenções preventivas: [0, 17, 56, 126, 200, 230, 253, 313, 377, 439, 583]\n",
            "Severidade para cada subsistema: [0.75, 0.25, 0.75, 0.5, 0.75, 0.75, 0.75, 0.5, 0.5, 0.5]\n",
            "Número de Sisemas: 5\n",
            "Fator:  [0.3296799539643607, 0.7768698398515702, 0.3934693402873666, 0.7768698398515702, 0.6321205588285577, 0.7768698398515702, 0.7768698398515702, 0.7768698398515702, 0.6321205588285577, 0.6321205588285577, 0.6321205588285577]\n",
            "Media de falhas:  [0, 454.35424000000006, 104410.3179220206, 1326944.7347215754, 25137207.580427557, 25821202.473626446, 29051488.47574363, 35721070.13902609, 48932180.11281062, 68899997.14320041, 885273000.1139988, 2714902634.807887]\n",
            "Custo =  77042107547.92572\n",
            "\n",
            "=========================================================================\n",
            "\n",
            "Número de ciclos de manutenção: 11 5\n",
            "Tempos para manutenções preventivas: [0, 15, 56, 127, 199, 229, 254, 312, 378, 392, 439, 583]\n",
            "Severidade para cada subsistema: [0.75, 0.25, 0.75, 0.5, 0.75, 0.75, 0.75, 0.5, 0.5, 0.5, 0.5]\n",
            "Número de Sisemas: 5\n",
            "Fator:  [0.3296799539643607, 0.7768698398515702, 0.3934693402873666, 0.7768698398515702, 0.6321205588285577, 0.7768698398515702, 0.7768698398515702, 0.7768698398515702, 0.6321205588285577, 0.6321205588285577, 0.6321205588285577, 0.6321205588285577]\n",
            "Media de falhas:  [0, 243.00000000000003, 111212.65028708563, 1409668.6530260278, 24065760.977731813, 24740151.34672817, 28361332.80633612, 34520141.29664296, 48676491.12879308, 50254201.14858435, 112084450.3014471, 928457453.2722454, 2758087087.9661336]\n",
            "Custo =  81470523174.67462\n"
          ]
        },
        {
          "output_type": "stream",
          "name": "stderr",
          "text": [
            "pyswarms.single.global_best:  86%|████████▌ |86/100, best_cost=4.51e+10"
          ]
        },
        {
          "output_type": "stream",
          "name": "stdout",
          "text": [
            "\n",
            "=========================================================================\n",
            "\n",
            "Número de ciclos de manutenção: 12 5\n",
            "Tempos para manutenções preventivas: [0, 16, 57, 127, 189, 229, 255, 271, 314, 377, 393, 440, 584]\n",
            "Severidade para cada subsistema: [0.75, 0.25, 0.75, 0.5, 0.75, 0.75, 0.5, 0.75, 0.5, 0.5, 0.5, 0.5]\n",
            "Número de Sisemas: 5\n",
            "Fator:  [0.3296799539643607, 0.7768698398515702, 0.3934693402873666, 0.7768698398515702, 0.6321205588285577, 0.7768698398515702, 0.7768698398515702, 0.6321205588285577, 0.7768698398515702, 0.6321205588285577, 0.6321205588285577, 0.6321205588285577, 0.6321205588285577]\n",
            "Media de falhas:  [0, 335.54432, 118773.54300559624, 1357923.2714589874, 17112091.927492335, 18268242.41134877, 22121519.712709524, 22589461.51210323, 26125541.268756445, 77555400.15684174, 79426787.27162829, 141790992.39150688, 962901140.0489992, 2774073950.9469037]\n",
            "Custo =  83723812851.8644\n",
            "\n",
            "=========================================================================\n",
            "\n",
            "Número de ciclos de manutenção: 11 5\n",
            "Tempos para manutenções preventivas: [0, 17, 126, 193, 228, 255, 297, 317, 376, 390, 440, 583]\n",
            "Severidade para cada subsistema: [0.75, 0.75, 0.5, 0.75, 0.75, 0.5, 0.75, 0.5, 0.5, 0.5, 0.5]\n",
            "Número de Sisemas: 5\n",
            "Fator:  [0.3296799539643607, 0.7768698398515702, 0.7768698398515702, 0.6321205588285577, 0.7768698398515702, 0.7768698398515702, 0.6321205588285577, 0.7768698398515702, 0.6321205588285577, 0.6321205588285577, 0.6321205588285577, 0.6321205588285577]\n",
            "Media de falhas:  [0, 454.35424000000006, 8095082.161712561, 10580505.109582845, 11460810.1625095, 15494598.747127086, 18331323.387307152, 19451438.808510695, 66004959.82687692, 67552240.2287459, 134845041.5066503, 942042519.9262094, 2771672154.6200976]\n",
            "Custo =  82984401690.07475\n",
            "\n",
            "=========================================================================\n",
            "\n",
            "Número de ciclos de manutenção: 10 5\n",
            "Tempos para manutenções preventivas: [0, 20, 124, 200, 228, 255, 285, 321, 376, 440, 583]\n",
            "Severidade para cada subsistema: [0.75, 0.75, 0.5, 0.75, 0.75, 0.5, 0.75, 0.5, 0.5, 0.5]\n",
            "Número de Sisemas: 5\n",
            "Fator:  [0.3296799539643607, 0.7768698398515702, 0.7768698398515702, 0.6321205588285577, 0.7768698398515702, 0.7768698398515702, 0.6321205588285577, 0.7768698398515702, 0.6321205588285577, 0.6321205588285577, 0.6321205588285577]\n",
            "Media de falhas:  [0, 1024.0, 7139416.474718538, 10965795.62008186, 11555723.844111478, 15589512.428729065, 16984320.921132557, 19786800.019220196, 62154794.390956305, 83468329.17590351, 890665807.5954627, 2720295442.289351]\n",
            "Custo =  78433579283.19255\n",
            "\n",
            "=========================================================================\n",
            "\n",
            "Número de ciclos de manutenção: 11 5\n",
            "Tempos para manutenções preventivas: [0, 23, 124, 170, 208, 228, 254, 322, 332, 377, 439, 584]\n",
            "Severidade para cada subsistema: [0.75, 0.75, 0.5, 0.5, 0.75, 0.75, 0.75, 0.5, 0.5, 0.5, 0.5]\n",
            "Número de Sisemas: 5\n",
            "Fator:  [0.3296799539643607, 0.7768698398515702, 0.7768698398515702, 0.6321205588285577, 0.6321205588285577, 0.7768698398515702, 0.7768698398515702, 0.7768698398515702, 0.6321205588285577, 0.6321205588285577, 0.6321205588285577, 0.6321205588285577]\n",
            "Media de falhas:  [0, 2059.6297600000003, 6844657.844404526, 7533771.379820624, 8316393.329124209, 10157422.99062345, 13953722.039368995, 23405960.234431274, 23968704.783200383, 30916595.442125533, 118676229.28792599, 949077458.2782416, 2760250269.1761465]\n",
            "Custo =  80955317962.27551\n",
            "\n",
            "=========================================================================\n",
            "\n",
            "Número de ciclos de manutenção: 11 5\n",
            "Tempos para manutenções preventivas: [0, 24, 59, 124, 229, 251, 274, 323, 336, 378, 437, 584]\n",
            "Severidade para cada subsistema: [0.75, 0.25, 0.75, 0.75, 0.75, 0.25, 0.75, 0.5, 0.5, 0.5, 0.5]\n",
            "Número de Sisemas: 5\n",
            "Fator:  [0.3296799539643607, 0.7768698398515702, 0.3934693402873666, 0.7768698398515702, 0.7768698398515702, 0.7768698398515702, 0.3934693402873666, 0.7768698398515702, 0.6321205588285577, 0.6321205588285577, 0.6321205588285577, 0.6321205588285577]\n",
            "Media de falhas:  [0, 2548.0396800000003, 113563.63783753627, 1047127.16324903, 61096456.242307745, 61652789.52404674, 62461477.58184246, 67374104.66246848, 102359032.01425529, 108608449.89571208, 189494241.42438763, 1038688066.1068859, 2849860877.0047903]\n",
            "Custo =  92573027691.82272\n",
            "\n",
            "=========================================================================\n",
            "\n",
            "Número de ciclos de manutenção: 12 5\n",
            "Tempos para manutenções preventivas: [0, 23, 57, 126, 177, 231, 249, 321, 339, 378, 437, 562, 584]\n",
            "Severidade para cada subsistema: [0.75, 0.25, 0.75, 0.25, 0.75, 0.75, 0.75, 0.5, 0.5, 0.5, 0.25, 0.5]\n",
            "Número de Sisemas: 5\n",
            "Fator:  [0.3296799539643607, 0.7768698398515702, 0.3934693402873666, 0.7768698398515702, 0.3934693402873666, 0.7768698398515702, 0.7768698398515702, 0.7768698398515702, 0.6321205588285577, 0.6321205588285577, 0.6321205588285577, 0.3934693402873666, 0.6321205588285577]\n",
            "Media de falhas:  [0, 2059.6297600000003, 96088.71392433887, 1262119.7202550392, 11177389.930744499, 13432607.56098891, 27772871.476370897, 38410644.34359661, 39657943.24980121, 45202091.377658375, 126087882.90633392, 701518279.0135025, 781055949.1311141, 9018123151.793776]\n",
            "Custo =  269679284890.99783\n",
            "\n",
            "=========================================================================\n",
            "\n",
            "Número de ciclos de manutenção: 11 5\n",
            "Tempos para manutenções preventivas: [0, 20, 57, 125, 231, 248, 288, 319, 336, 377, 437, 584]\n",
            "Severidade para cada subsistema: [0.75, 0.25, 0.75, 0.75, 0.75, 0.25, 0.75, 0.5, 0.5, 0.5, 0.5]\n",
            "Número de Sisemas: 5\n",
            "Fator:  [0.3296799539643607, 0.7768698398515702, 0.3934693402873666, 0.7768698398515702, 0.7768698398515702, 0.7768698398515702, 0.3934693402873666, 0.7768698398515702, 0.6321205588285577, 0.6321205588285577, 0.6321205588285577, 0.6321205588285577]\n",
            "Media de falhas:  [0, 1024.0, 105016.02972121746, 1201421.1030001938, 63978919.71298801, 64346643.06893271, 66700842.68897373, 68860532.74240044, 114293005.35113826, 120247968.76271012, 202918961.68128031, 1052112786.3637786, 2863285597.2616835]\n",
            "Custo =  92556372120.81256\n",
            "\n",
            "=========================================================================\n",
            "\n",
            "Número de ciclos de manutenção: 12 5\n",
            "Tempos para manutenções preventivas: [0, 17, 56, 122, 166, 231, 248, 291, 316, 377, 437, 560, 583]\n",
            "Severidade para cada subsistema: [0.75, 0.25, 0.75, 0.5, 0.75, 0.75, 0.5, 0.75, 0.5, 0.5, 0.25, 0.5]\n",
            "Número de Sisemas: 5\n",
            "Fator:  [0.3296799539643607, 0.7768698398515702, 0.3934693402873666, 0.7768698398515702, 0.6321205588285577, 0.7768698398515702, 0.7768698398515702, 0.6321205588285577, 0.7768698398515702, 0.6321205588285577, 0.6321205588285577, 0.3934693402873666, 0.6321205588285577]\n",
            "Media de falhas:  [0, 454.35424000000006, 104410.3179220206, 1057916.5758207932, 7667804.59064808, 11185418.833177166, 13296841.135962274, 16073322.190660695, 17586322.069475155, 66778592.618824646, 85327021.60836703, 639714941.0365975, 722548528.1747057, 9014316764.69866]\n",
            "Custo =  264406438006.70178\n",
            "\n",
            "=========================================================================\n"
          ]
        },
        {
          "output_type": "stream",
          "name": "stderr",
          "text": [
            "pyswarms.single.global_best: 100%|██████████|100/100, best_cost=4.51e+10\n",
            "2023-09-01 02:59:40,028 - pyswarms.single.global_best - INFO - Optimization finished | best cost: 45053182833.53519, best pos: [5.75788098 1.78865759 4.71282316 1.92115007 4.86408262 0.5739146\n",
            " 5.07974814 5.60007899 5.52553785 5.48123325 5.68809594 3.14045534\n",
            " 3.64909133 3.0578031  3.54169641 2.5795105  2.24147544 4.23981404\n",
            " 5.16429872 3.56262506 4.21827893 2.38051959 2.60623027 4.11605362]\n",
            "2023-09-01 02:59:40,030 - pyswarms.single.global_best - INFO - Optimize for 1 iters with {'c1': 0.5, 'c2': 0.3, 'w': 0.9}\n"
          ]
        },
        {
          "output_type": "stream",
          "name": "stdout",
          "text": [
            "\n",
            "Número de ciclos de manutenção: 12 5\n",
            "Tempos para manutenções preventivas: [0, 16, 57, 120, 150, 230, 249, 273, 314, 377, 390, 437, 582]\n",
            "Severidade para cada subsistema: [0.75, 0.25, 0.75, 0.75, 0.75, 0.75, 0.75, 0.75, 0.5, 0.5, 0.5, 0.5]\n",
            "Número de Sisemas: 5\n",
            "Fator:  [0.3296799539643607, 0.7768698398515702, 0.3934693402873666, 0.7768698398515702, 0.7768698398515702, 0.7768698398515702, 0.7768698398515702, 0.7768698398515702, 0.7768698398515702, 0.6321205588285577, 0.6321205588285577, 0.6321205588285577, 0.6321205588285577]\n",
            "Media de falhas:  [0, 335.54432, 118773.54300559624, 915115.4962067195, 3932388.478067486, 9938250.674474834, 10374563.3295856, 11225171.481967682, 14475070.254161693, 27283386.59697801, 28700514.89231181, 89473209.38684464, 910328792.2513686, 2758527490.0466337]\n",
            "Custo =  80332504691.1557\n",
            "\n",
            "=========================================================================\n",
            "\n",
            "Número de ciclos de manutenção: 12 5\n",
            "Tempos para manutenções preventivas: [0, 17, 59, 121, 208, 228, 251, 275, 314, 376, 393, 437, 582]\n",
            "Severidade para cada subsistema: [0.75, 0.25, 0.75, 0.5, 0.75, 0.75, 0.75, 0.75, 0.5, 0.5, 0.5, 0.5]\n",
            "Número de Sisemas: 5\n",
            "Fator:  [0.3296799539643607, 0.7768698398515702, 0.3934693402873666, 0.7768698398515702, 0.6321205588285577, 0.7768698398515702, 0.7768698398515702, 0.7768698398515702, 0.7768698398515702, 0.6321205588285577, 0.6321205588285577, 0.6321205588285577, 0.6321205588285577]\n",
            "Media de falhas:  [0, 454.35424000000006, 139282.82581754256, 906904.8821644248, 34191198.655873284, 34535675.36565266, 37669531.76424777, 38542156.01093387, 41521942.393006384, 53836152.95461086, 55852172.335816056, 111950092.60410641, 932805675.4686304, 2781004373.2638955]\n",
            "Custo =  81622380461.71588\n",
            "\n",
            "=========================================================================\n",
            "\n",
            "Número de ciclos de manutenção: 11 5\n",
            "Tempos para manutenções preventivas: [0, 19, 121, 209, 228, 252, 314, 375, 393, 437, 559, 582]\n",
            "Severidade para cada subsistema: [0.75, 0.75, 0.5, 0.75, 0.75, 0.75, 0.5, 0.5, 0.5, 0.5, 0.5]\n",
            "Número de Sisemas: 5\n",
            "Fator:  [0.3296799539643607, 0.7768698398515702, 0.7768698398515702, 0.6321205588285577, 0.7768698398515702, 0.7768698398515702, 0.7768698398515702, 0.6321205588285577, 0.6321205588285577, 0.6321205588285577, 0.6321205588285577, 0.6321205588285577]\n",
            "Media de falhas:  [0, 792.3516800000001, 6363510.938225384, 12794913.38358737, 13114098.240025355, 16460658.803983528, 23672870.360035244, 35507716.400924295, 37672147.44326937, 93770067.71155973, 637856877.083283, 720133049.6641928, 2568331747.459458]\n",
            "Custo =  90088263877.33057\n",
            "\n",
            "=========================================================================\n",
            "\n",
            "Número de ciclos de manutenção: 10 5\n",
            "Tempos para manutenções preventivas: [0, 21, 122, 168, 202, 228, 254, 316, 375, 439, 583]\n",
            "Severidade para cada subsistema: [0.75, 0.75, 0.75, 0.5, 0.75, 0.75, 0.75, 0.5, 0.5, 0.5]\n",
            "Número de Sisemas: 5\n",
            "Fator:  [0.3296799539643607, 0.7768698398515702, 0.7768698398515702, 0.7768698398515702, 0.6321205588285577, 0.7768698398515702, 0.7768698398515702, 0.7768698398515702, 0.6321205588285577, 0.6321205588285577, 0.6321205588285577]\n",
            "Media de falhas:  [0, 1306.9123200000001, 6458971.378648702, 7127713.899504119, 7701408.446311545, 8222182.306061804, 12018481.354807349, 19364007.13603439, 30465085.862690352, 51625918.1097091, 867998921.0805075, 2697628555.774396]\n",
            "Custo =  76057751128.19188\n",
            "\n",
            "=========================================================================\n",
            "\n",
            "Número de ciclos de manutenção: 9 5\n",
            "Tempos para manutenções preventivas: [0, 22, 125, 187, 229, 254, 318, 376, 440, 585]\n",
            "Severidade para cada subsistema: [0.75, 0.75, 0.5, 0.75, 0.75, 0.75, 0.5, 0.5, 0.5]\n",
            "Número de Sisemas: 5\n",
            "Fator:  [0.3296799539643607, 0.7768698398515702, 0.7768698398515702, 0.6321205588285577, 0.7768698398515702, 0.7768698398515702, 0.7768698398515702, 0.6321205588285577, 0.6321205588285577, 0.6321205588285577]\n",
            "Media de falhas:  [0, 1649.16224, 7244117.503513989, 9116897.795980114, 10392967.855833834, 14014149.315441787, 22016160.760605153, 32852243.793144334, 54165778.57809155, 889371734.1072928, 2682199283.9180255]\n",
            "Custo =  76180320390.85991\n",
            "\n",
            "=========================================================================\n",
            "\n",
            "Número de ciclos de manutenção: 14 5\n",
            "Tempos para manutenções preventivas: [0, 22, 59, 128, 154, 180, 231, 253, 289, 320, 333, 376, 440, 560, 586]\n",
            "Severidade para cada subsistema: [0.75, 0.25, 0.75, 0.5, 0.5, 0.75, 0.75, 0.75, 0.75, 0.5, 0.5, 0.5, 0.75, 0.5]\n",
            "Número de Sisemas: 5\n",
            "Fator:  [0.3296799539643607, 0.7768698398515702, 0.3934693402873666, 0.7768698398515702, 0.6321205588285577, 0.6321205588285577, 0.7768698398515702, 0.7768698398515702, 0.7768698398515702, 0.7768698398515702, 0.6321205588285577, 0.6321205588285577, 0.6321205588285577, 0.7768698398515702, 0.6321205588285577]\n",
            "Media de falhas:  [0, 1649.16224, 120160.65178972203, 1318362.3885898762, 4241446.325273715, 4482546.732397548, 11156658.207165495, 14222462.43416468, 16200375.227478314, 18383472.834611643, 19160183.975951362, 25542429.4430124, 117824387.32644966, 651604902.3257766, 747992126.1992564, 1236801883.990733]\n",
            "Custo =  54951554562.83394\n",
            "\n",
            "=========================================================================\n",
            "\n",
            "Número de ciclos de manutenção: 13 5\n",
            "Tempos para manutenções preventivas: [0, 21, 57, 129, 177, 191, 232, 251, 320, 333, 377, 440, 540, 586]\n",
            "Severidade para cada subsistema: [0.75, 0.25, 0.75, 0.25, 0.5, 0.75, 0.75, 0.75, 0.5, 0.5, 0.5, 0.25, 0.5]\n",
            "Número de Sisemas: 5\n",
            "Fator:  [0.3296799539643607, 0.7768698398515702, 0.3934693402873666, 0.7768698398515702, 0.3934693402873666, 0.6321205588285577, 0.7768698398515702, 0.7768698398515702, 0.7768698398515702, 0.6321205588285577, 0.6321205588285577, 0.6321205588285577, 0.3934693402873666, 0.6321205588285577]\n",
            "Media de falhas:  [0, 1306.9123200000001, 101899.60869666211, 1498287.5020921286, 10820646.46801054, 10930076.163066575, 34629465.98494073, 37139172.2828983, 46730688.99661368, 47507400.1379534, 54197787.92507284, 144578956.72602904, 503072592.8444793, 684561448.4580379, 8812283883.917515]\n",
            "Custo =  266770804202.9079\n",
            "\n",
            "=========================================================================\n",
            "\n",
            "Número de ciclos de manutenção: 12 5\n",
            "Tempos para manutenções preventivas: [0, 20, 56, 128, 176, 205, 232, 249, 321, 333, 378, 439, 583]\n",
            "Severidade para cada subsistema: [0.75, 0.25, 0.75, 0.25, 0.5, 0.75, 0.75, 0.75, 0.5, 0.5, 0.5, 0.5]\n",
            "Número de Sisemas: 5\n",
            "Fator:  [0.3296799539643607, 0.7768698398515702, 0.3934693402873666, 0.7768698398515702, 0.3934693402873666, 0.6321205588285577, 0.7768698398515702, 0.7768698398515702, 0.7768698398515702, 0.6321205588285577, 0.6321205588285577, 0.6321205588285577, 0.6321205588285577]\n",
            "Media de falhas:  [0, 1024.0, 95088.70644893924, 1473191.9020951528, 10587231.173686659, 11031943.338728564, 26925834.161459643, 29070416.686742187, 39708189.55396789, 40413636.69983214, 47422763.6263638, 133333070.59709312, 949706073.5678915, 2779335708.26178]\n",
            "Custo =  83312822558.19014\n",
            "\n",
            "=========================================================================\n",
            "\n",
            "Número de ciclos de manutenção: 10 5\n",
            "Tempos para manutenções preventivas: [0, 19, 57, 125, 231, 248, 287, 320, 377, 438, 582]\n",
            "Severidade para cada subsistema: [0.75, 0.25, 0.75, 0.75, 0.75, 0.75, 0.75, 0.5, 0.5, 0.5]\n",
            "Número de Sisemas: 5\n",
            "Fator:  [0.3296799539643607, 0.7768698398515702, 0.3934693402873666, 0.7768698398515702, 0.7768698398515702, 0.7768698398515702, 0.7768698398515702, 0.7768698398515702, 0.6321205588285577, 0.6321205588285577, 0.6321205588285577]\n",
            "Media de falhas:  [0, 792.3516800000001, 108265.86742118509, 1204670.9407001615, 63982169.550687976, 64349892.90663268, 66574660.377795406, 68983418.33109394, 79558258.71335831, 98806601.63605374, 910463507.2036998, 2758662204.9989653]\n",
            "Custo =  77553235858.99756\n",
            "\n",
            "=========================================================================\n",
            "\n",
            "Número de ciclos de manutenção: 12 5\n",
            "Tempos para manutenções preventivas: [0, 19, 59, 123, 168, 230, 249, 319, 376, 391, 437, 558, 581]\n",
            "Severidade para cada subsistema: [0.75, 0.25, 0.75, 0.5, 0.75, 0.75, 0.75, 0.5, 0.5, 0.5, 0.75, 0.5]\n",
            "Número de Sisemas: 5\n",
            "Fator:  [0.3296799539643607, 0.7768698398515702, 0.3934693402873666, 0.7768698398515702, 0.6321205588285577, 0.7768698398515702, 0.7768698398515702, 0.7768698398515702, 0.6321205588285577, 0.6321205588285577, 0.6321205588285577, 0.7768698398515702, 0.6321205588285577]\n",
            "Media de falhas:  [0, 792.3516800000001, 131208.77660221426, 1006555.2515896179, 8098919.628636454, 11193814.076360047, 13627300.862691768, 23444000.35768727, 33931356.612958044, 35628629.252716914, 94828211.58225891, 628758605.35203, 710480183.9935852, 1236235912.3180885]\n",
            "Custo =  54284928908.6424\n",
            "\n",
            "=========================================================================\n",
            "\n",
            "Número de ciclos de manutenção: 12 5\n",
            "Tempos para manutenções preventivas: [0, 18, 122, 150, 228, 250, 286, 317, 374, 393, 436, 543, 581]\n",
            "Severidade para cada subsistema: [0.75, 0.75, 0.75, 0.75, 0.75, 0.75, 0.75, 0.5, 0.5, 0.5, 0.5, 0.5]\n",
            "Número de Sisemas: 5\n",
            "Fator:  [0.3296799539643607, 0.7768698398515702, 0.7768698398515702, 0.7768698398515702, 0.7768698398515702, 0.7768698398515702, 0.7768698398515702, 0.7768698398515702, 0.6321205588285577, 0.6321205588285577, 0.6321205588285577, 0.6321205588285577, 0.6321205588285577]\n",
            "Media de falhas:  [0, 604.6617600000001, 6740688.809643894, 6900231.222190856, 12393989.535877846, 12942605.021257548, 14854018.700186938, 16967465.28412252, 27281519.238869853, 29598235.186301388, 83694149.47554648, 487164467.96218294, 628506657.8230884, 2495387336.687056]\n",
            "Custo =  87471155802.54669\n",
            "\n",
            "=========================================================================\n",
            "\n",
            "Número de ciclos de manutenção: 11 5\n",
            "Tempos para manutenções preventivas: [0, 18, 59, 120, 204, 228, 252, 316, 375, 391, 437, 582]\n",
            "Severidade para cada subsistema: [0.75, 0.25, 0.75, 0.5, 0.75, 0.75, 0.75, 0.5, 0.5, 0.5, 0.5]\n",
            "Número de Sisemas: 5\n",
            "Fator:  [0.3296799539643607, 0.7768698398515702, 0.3934693402873666, 0.7768698398515702, 0.6321205588285577, 0.7768698398515702, 0.7768698398515702, 0.7768698398515702, 0.6321205588285577, 0.6321205588285577, 0.6321205588285577, 0.6321205588285577]\n",
            "Media de falhas:  [0, 604.6617600000001, 135177.6655306749, 853069.5738187375, 30514224.716706384, 30971275.56349716, 34317836.12745533, 42176796.694003366, 53277875.420659326, 55113529.264189675, 114313111.59373167, 935168694.4582556, 2783367392.253521]\n",
            "Custo =  81552823991.70357\n",
            "\n",
            "=========================================================================\n",
            "\n",
            "Número de ciclos de manutenção: 11 5\n",
            "Tempos para manutenções preventivas: [0, 18, 58, 173, 198, 229, 253, 272, 316, 375, 438, 584]\n",
            "Severidade para cada subsistema: [0.75, 0.25, 0.75, 0.5, 0.75, 0.75, 0.5, 0.75, 0.5, 0.5, 0.5]\n",
            "Número de Sisemas: 5\n",
            "Fator:  [0.3296799539643607, 0.7768698398515702, 0.3934693402873666, 0.7768698398515702, 0.6321205588285577, 0.7768698398515702, 0.7768698398515702, 0.6321205588285577, 0.7768698398515702, 0.6321205588285577, 0.6321205588285577, 0.6321205588285577]\n",
            "Media de falhas:  [0, 604.6617600000001, 122959.3768584036, 11092878.0157986, 18871743.333208583, 19586402.88998479, 22983832.917649455, 23582903.201976795, 27343836.604792975, 73447991.97996792, 93858148.9028862, 933620443.1047858, 2744793254.0026903]\n",
            "Custo =  79814976259.47281\n"
          ]
        },
        {
          "output_type": "stream",
          "name": "stderr",
          "text": [
            "pyswarms.single.global_best: 100%|██████████|1/1, best_cost=4.51e+10\n",
            "2023-09-01 02:59:40,043 - pyswarms.single.global_best - INFO - Optimization finished | best cost: 45053182833.53519, best pos: [5.75466619 1.78795368 4.71355208 1.92114836 4.86444841 0.57387518\n",
            " 5.07960188 5.60192648 5.52603777 3.24748964 5.6881363  3.1409068\n",
            " 3.64922686 3.05783214 3.54179262 2.57905828 2.24151244 4.23943078\n",
            " 3.16590841 3.56150298 4.21790079 2.38054589 2.60581351 4.11691604]\n",
            "2023-09-01 02:59:40,044 - pyswarms.single.global_best - INFO - Optimize for 1 iters with {'c1': 0.5, 'c2': 0.3, 'w': 0.9}\n"
          ]
        },
        {
          "output_type": "stream",
          "name": "stdout",
          "text": [
            "\n",
            "=========================================================================\n",
            "\n",
            "Número de ciclos de manutenção: 12 5\n",
            "Tempos para manutenções preventivas: [0, 20, 57, 119, 156, 193, 231, 254, 316, 376, 439, 568, 586]\n",
            "Severidade para cada subsistema: [0.75, 0.25, 0.25, 0.75, 0.5, 0.75, 0.75, 0.75, 0.5, 0.5, 0.5, 0.5]\n",
            "Número de Sisemas: 5\n",
            "Fator:  [0.3296799539643607, 0.7768698398515702, 0.3934693402873666, 0.3934693402873666, 0.7768698398515702, 0.6321205588285577, 0.7768698398515702, 0.7768698398515702, 0.7768698398515702, 0.6321205588285577, 0.6321205588285577, 0.6321205588285577, 0.6321205588285577]\n",
            "Media de falhas:  [0, 1024.0, 105016.02972121746, 850136.1438282988, 5187044.312910663, 15400003.430619271, 16472803.252328686, 19752134.01298254, 27097659.79420958, 38655856.43994858, 59214153.19589557, 686082112.4677821, 751296400.8612323, 2525889577.7582383]\n",
            "Custo =  88089550519.07431\n"
          ]
        },
        {
          "output_type": "stream",
          "name": "stderr",
          "text": [
            "pyswarms.single.global_best:   0%|          |0/1, best_cost=4.51e+10"
          ]
        },
        {
          "output_type": "stream",
          "name": "stdout",
          "text": [
            "\n",
            "=========================================================================\n",
            "\n",
            "Número de ciclos de manutenção: 12 5\n",
            "Tempos para manutenções preventivas: [0, 21, 55, 112, 198, 232, 255, 290, 317, 336, 377, 440, 588]\n",
            "Severidade para cada subsistema: [0.75, 0.25, 0.25, 0.5, 0.75, 0.75, 0.25, 0.75, 0.5, 0.5, 0.5, 0.5]\n",
            "Número de Sisemas: 5\n",
            "Fator:  [0.3296799539643607, 0.7768698398515702, 0.3934693402873666, 0.3934693402873666, 0.6321205588285577, 0.7768698398515702, 0.7768698398515702, 0.3934693402873666, 0.7768698398515702, 0.6321205588285577, 0.6321205588285577, 0.6321205588285577, 0.6321205588285577]\n",
            "Media de falhas:  [0, 1306.9123200000001, 83321.02401522476, 593670.6442084401, 27786573.65772948, 47594350.103786126, 50923284.56787641, 52829873.50897819, 54542626.926171914, 105151134.73748055, 111106098.14905241, 201487266.95000863, 1080097558.158278, 2818551965.887974]\n",
            "Custo =  94382061684.17363\n"
          ]
        },
        {
          "output_type": "stream",
          "name": "stderr",
          "text": [
            "\rpyswarms.single.global_best: 100%|██████████|1/1, best_cost=4.51e+10\n",
            "2023-09-01 02:59:40,057 - pyswarms.single.global_best - INFO - Optimization finished | best cost: 45053182833.53519, best pos: [5.75540896 1.78849461 4.71388898 1.9211461  4.86463015 0.57388991\n",
            " 5.07957197 5.60206652 5.52445369 2.30660856 5.68813534 3.14132103\n",
            " 3.64911855 3.05861617 3.54182526 2.58023438 2.24156913 4.2425099\n",
            " 2.75774454 3.56132743 4.21828003 2.38054495 2.60579741 4.11671546]\n",
            "2023-09-01 02:59:40,058 - pyswarms.single.global_best - INFO - Optimize for 1 iters with {'c1': 0.5, 'c2': 0.3, 'w': 0.9}\n",
            "pyswarms.single.global_best: 100%|██████████|1/1, best_cost=4.51e+10\n",
            "2023-09-01 02:59:40,069 - pyswarms.single.global_best - INFO - Optimization finished | best cost: 45053182833.53519, best pos: [5.75611596 1.78900897 4.71394781 1.92114475 4.86474424 0.57390424\n",
            " 5.07957492 5.60171565 5.52303226 1.14024457 5.68813128 3.14157024\n",
            " 3.64901523 3.05910376 3.54184755 2.58118208 2.24161243 4.2449932\n",
            " 2.31451027 3.56129074 4.21862122 2.38053909 2.60581373 4.11643735]\n",
            "2023-09-01 02:59:40,071 - pyswarms.single.global_best - INFO - Optimize for 1 iters with {'c1': 0.5, 'c2': 0.3, 'w': 0.9}\n"
          ]
        },
        {
          "output_type": "stream",
          "name": "stdout",
          "text": [
            "\n",
            "=========================================================================\n",
            "\n",
            "Número de ciclos de manutenção: 12 5\n",
            "Tempos para manutenções preventivas: [0, 22, 53, 106, 205, 232, 256, 282, 318, 342, 379, 440, 589]\n",
            "Severidade para cada subsistema: [0.75, 0.25, 0.25, 0.5, 0.75, 0.75, 0.5, 0.75, 0.5, 0.5, 0.5, 0.5]\n",
            "Número de Sisemas: 5\n",
            "Fator:  [0.3296799539643607, 0.7768698398515702, 0.3934693402873666, 0.3934693402873666, 0.6321205588285577, 0.7768698398515702, 0.7768698398515702, 0.6321205588285577, 0.7768698398515702, 0.6321205588285577, 0.6321205588285577, 0.6321205588285577, 0.6321205588285577]\n",
            "Media de falhas:  [0, 1649.16224, 65541.76579741901, 431814.80369393993, 37231927.90382148, 53125818.72655256, 56679358.80561473, 57754491.824629046, 60470162.389995314, 71283428.70826423, 76432594.24896577, 163067982.6549719, 1056524775.6033945, 2777073448.277643]\n",
            "Custo =  85772311858.01263\n"
          ]
        },
        {
          "output_type": "stream",
          "name": "stderr",
          "text": [
            "pyswarms.single.global_best: 100%|██████████|1/1, best_cost=4.51e+10\n",
            "2023-09-01 02:59:40,084 - pyswarms.single.global_best - INFO - Optimization finished | best cost: 45053182833.53519, best pos: [5.7567638  1.78946461 4.71374722 1.92114435 4.86466593 0.57391967\n",
            " 5.0795997  5.60098789 5.52181315 6.62924119 5.68812201 3.14177936\n",
            " 3.64893678 3.05922811 3.54186375 2.5815639  2.24163667 4.24612468\n",
            " 1.89053025 3.56153309 4.21891675 2.38052816 2.60589212 4.11617741]\n",
            "2023-09-01 02:59:40,086 - pyswarms.single.global_best - INFO - Optimize for 1 iters with {'c1': 0.5, 'c2': 0.3, 'w': 0.9}\n"
          ]
        },
        {
          "output_type": "stream",
          "name": "stdout",
          "text": [
            "\n",
            "=========================================================================\n",
            "\n",
            "Número de ciclos de manutenção: 10 5\n",
            "Tempos para manutenções preventivas: [0, 23, 51, 102, 232, 257, 320, 347, 381, 440, 590]\n",
            "Severidade para cada subsistema: [0.75, 0.25, 0.25, 0.75, 0.75, 0.75, 0.5, 0.5, 0.5, 0.5]\n",
            "Número de Sisemas: 5\n",
            "Fator:  [0.3296799539643607, 0.7768698398515702, 0.3934693402873666, 0.3934693402873666, 0.7768698398515702, 0.7768698398515702, 0.7768698398515702, 0.6321205588285577, 0.6321205588285577, 0.6321205588285577, 0.6321205588285577]\n",
            "Media de falhas:  [0, 2059.6297600000003, 51151.34013811694, 353338.8312758554, 83266814.51986916, 105603228.20888616, 113482360.95115586, 115840800.80458565, 120446889.33244306, 203409466.0834059, 1111905028.2788832, 2814656176.4591317]\n",
            "Custo =  86048800385.36737\n"
          ]
        },
        {
          "output_type": "stream",
          "name": "stderr",
          "text": [
            "pyswarms.single.global_best: 100%|██████████|1/1, best_cost=4.51e+10\n",
            "2023-09-01 02:59:40,101 - pyswarms.single.global_best - INFO - Optimization finished | best cost: 45053182833.53519, best pos: [5.75742842 1.78975201 4.71345052 1.92114452 4.86454525 0.57393248\n",
            " 5.07966295 5.60006701 5.52156482 4.44524852 5.68811124 3.14188487\n",
            " 3.64890852 3.05903199 3.54185096 2.58151049 2.24164037 4.24558316\n",
            " 1.53209963 3.5620753  4.2190305  2.38051758 2.60604588 4.11592402]\n",
            "2023-09-01 02:59:40,103 - pyswarms.single.global_best - INFO - Optimize for 1 iters with {'c1': 0.5, 'c2': 0.3, 'w': 0.9}\n"
          ]
        },
        {
          "output_type": "stream",
          "name": "stdout",
          "text": [
            "\n",
            "=========================================================================\n",
            "\n",
            "Número de ciclos de manutenção: 11 5\n",
            "Tempos para manutenções preventivas: [0, 24, 49, 101, 231, 257, 273, 321, 350, 381, 440, 590]\n",
            "Severidade para cada subsistema: [0.75, 0.25, 0.25, 0.75, 0.75, 0.75, 0.75, 0.5, 0.5, 0.5, 0.5]\n",
            "Número de Sisemas: 5\n",
            "Fator:  [0.3296799539643607, 0.7768698398515702, 0.3934693402873666, 0.3934693402873666, 0.7768698398515702, 0.7768698398515702, 0.7768698398515702, 0.7768698398515702, 0.6321205588285577, 0.6321205588285577, 0.6321205588285577, 0.6321205588285577]\n",
            "Media de falhas:  [0, 2548.0396800000003, 39675.308874226925, 355529.3620327989, 81976111.97105603, 105166768.75758502, 105647521.11553255, 110283462.4470094, 112981477.21374197, 116997124.46774842, 199959701.21871126, 1108455263.4141884, 2811206411.5944366]\n",
            "Custo =  86007827097.25519\n"
          ]
        },
        {
          "output_type": "stream",
          "name": "stderr",
          "text": [
            "pyswarms.single.global_best: 100%|██████████|1/1, best_cost=4.51e+10\n",
            "2023-09-01 02:59:40,116 - pyswarms.single.global_best - INFO - Optimization finished | best cost: 45053182833.53519, best pos: [5.75812625 1.78975718 4.7131716  1.92114597 4.86441258 0.57394366\n",
            " 5.0797335  5.59924092 5.52147064 1.8205576  5.68810111 3.14196493\n",
            " 3.64893721 3.05851321 3.5417933  2.58108583 2.24163487 4.24441338\n",
            " 1.20590228 3.56265277 4.21912142 2.3805086  2.60621019 4.11572596]\n",
            "2023-09-01 02:59:40,118 - pyswarms.single.global_best - INFO - Optimize for 1 iters with {'c1': 0.5, 'c2': 0.3, 'w': 0.9}\n"
          ]
        },
        {
          "output_type": "stream",
          "name": "stdout",
          "text": [
            "\n",
            "=========================================================================\n",
            "\n",
            "Número de ciclos de manutenção: 12 5\n",
            "Tempos para manutenções preventivas: [0, 25, 49, 103, 171, 187, 230, 258, 322, 351, 382, 439, 590]\n",
            "Severidade para cada subsistema: [0.75, 0.25, 0.25, 0.5, 0.75, 0.75, 0.75, 0.75, 0.5, 0.5, 0.5, 0.5]\n",
            "Número de Sisemas: 5\n",
            "Fator:  [0.3296799539643607, 0.7768698398515702, 0.3934693402873666, 0.3934693402873666, 0.6321205588285577, 0.7768698398515702, 0.7768698398515702, 0.7768698398515702, 0.7768698398515702, 0.6321205588285577, 0.6321205588285577, 0.6321205588285577, 0.6321205588285577]\n",
            "Media de falhas:  [0, 3125.0000000000005, 38694.77209664501, 408038.87891396845, 12202475.735145979, 16231006.441048577, 21325647.069928735, 22216490.870320074, 30510646.839932133, 33235971.24688094, 37289041.71118258, 115981399.32621981, 1034485538.6504036, 2737236686.830652]\n",
            "Custo =  82256703743.67099\n"
          ]
        },
        {
          "output_type": "stream",
          "name": "stderr",
          "text": [
            "pyswarms.single.global_best: 100%|██████████|1/1, best_cost=4.51e+10\n",
            "2023-09-01 02:59:40,129 - pyswarms.single.global_best - INFO - Optimization finished | best cost: 45053182833.53519, best pos: [5.75872686 1.78954561 4.71284146 1.92114802 4.86423496 0.57394588\n",
            " 5.07979911 5.59859167 5.52193621 5.81314012 5.6880913  3.14178237\n",
            " 3.64896775 3.05795589 3.54172984 2.58029276 2.24158277 4.24203338\n",
            " 1.21277673 3.56317083 4.21896786 2.38050245 2.60636254 4.11556325]\n",
            "2023-09-01 02:59:40,130 - pyswarms.single.global_best - INFO - Optimize for 1 iters with {'c1': 0.5, 'c2': 0.3, 'w': 0.9}\n"
          ]
        },
        {
          "output_type": "stream",
          "name": "stdout",
          "text": [
            "\n",
            "=========================================================================\n",
            "\n",
            "Número de ciclos de manutenção: 13 5\n",
            "Tempos para manutenções preventivas: [0, 25, 49, 107, 161, 198, 228, 258, 323, 352, 382, 437, 538, 588]\n",
            "Severidade para cada subsistema: [0.75, 0.25, 0.25, 0.5, 0.75, 0.75, 0.75, 0.75, 0.5, 0.5, 0.5, 0.5, 0.5]\n",
            "Número de Sisemas: 5\n",
            "Fator:  [0.3296799539643607, 0.7768698398515702, 0.3934693402873666, 0.3934693402873666, 0.6321205588285577, 0.7768698398515702, 0.7768698398515702, 0.7768698398515702, 0.7768698398515702, 0.6321205588285577, 0.6321205588285577, 0.6321205588285577, 0.6321205588285577, 0.6321205588285577]\n",
            "Media de falhas:  [0, 3125.0000000000005, 38694.77209664501, 536723.2588826771, 7772222.429292423, 19095371.929449614, 22120197.883844994, 23118248.017339215, 31767655.481174186, 34520498.161376245, 38385045.68866591, 112303348.39140715, 471213634.3205581, 673740262.8340188, 2412194670.563715]\n",
            "Custo =  88527317168.70804\n"
          ]
        },
        {
          "output_type": "stream",
          "name": "stderr",
          "text": [
            "pyswarms.single.global_best: 100%|██████████|1/1, best_cost=4.51e+10\n",
            "2023-09-01 02:59:40,144 - pyswarms.single.global_best - INFO - Optimization finished | best cost: 45053182833.53519, best pos: [5.75905676 1.78926146 4.71254428 1.92115041 4.86404172 0.57394544\n",
            " 5.07984934 5.59817542 5.5232795  2.35049232 5.6880829  3.14130638\n",
            " 3.64901839 3.05741853 3.54166911 2.57948955 2.24152677 4.23945956\n",
            " 0.57989348 3.56348642 4.21880061 2.38049948 2.60649267 4.11551982]\n",
            "2023-09-01 02:59:40,147 - pyswarms.single.global_best - INFO - Optimize for 1 iters with {'c1': 0.5, 'c2': 0.3, 'w': 0.9}\n"
          ]
        },
        {
          "output_type": "stream",
          "name": "stdout",
          "text": [
            "\n",
            "=========================================================================\n",
            "\n",
            "Número de ciclos de manutenção: 14 5\n",
            "Tempos para manutenções preventivas: [0, 25, 49, 112, 156, 208, 227, 257, 273, 323, 347, 382, 436, 537, 587]\n",
            "Severidade para cada subsistema: [0.75, 0.25, 0.25, 0.5, 0.75, 0.75, 0.75, 0.5, 0.75, 0.5, 0.5, 0.5, 0.5, 0.5]\n",
            "Número de Sisemas: 5\n",
            "Fator:  [0.3296799539643607, 0.7768698398515702, 0.3934693402873666, 0.3934693402873666, 0.6321205588285577, 0.7768698398515702, 0.7768698398515702, 0.7768698398515702, 0.6321205588285577, 0.7768698398515702, 0.6321205588285577, 0.6321205588285577, 0.6321205588285577, 0.6321205588285577, 0.6321205588285577]\n",
            "Media de falhas:  [0, 3125.0000000000005, 38694.77209664501, 745536.2152492908, 5904870.500925144, 25159989.507282555, 26865009.1595437, 27850241.450364683, 28330993.808312215, 33434070.084328182, 44872019.43805464, 49729217.85654416, 121332627.68407056, 477878531.2536447, 679087936.3902555, 2435556956.068695]\n",
            "Custo =  90135025823.12909\n"
          ]
        },
        {
          "output_type": "stream",
          "name": "stderr",
          "text": [
            "pyswarms.single.global_best: 100%|██████████|1/1, best_cost=4.51e+10\n",
            "2023-09-01 02:59:40,161 - pyswarms.single.global_best - INFO - Optimization finished | best cost: 45053182833.53519, best pos: [5.75915435 1.78892319 4.71235747 1.92115248 4.86387063 0.57394441\n",
            " 5.07986937 5.5981587  5.52511724 5.70815256 5.68807683 3.1407949\n",
            " 3.64908161 3.05701442 3.5416207  2.57877217 2.24147519 4.23720814\n",
            " 0.00852842 3.5637621  4.21864688 2.38050029 2.60659614 4.11563129]\n",
            "2023-09-01 02:59:40,163 - pyswarms.single.global_best - INFO - Optimize for 1 iters with {'c1': 0.5, 'c2': 0.3, 'w': 0.9}\n"
          ]
        },
        {
          "output_type": "stream",
          "name": "stdout",
          "text": [
            "\n",
            "=========================================================================\n",
            "\n",
            "Número de ciclos de manutenção: 15 5\n",
            "Tempos para manutenções preventivas: [0, 24, 50, 118, 156, 209, 226, 257, 290, 323, 340, 382, 391, 435, 538, 586]\n",
            "Severidade para cada subsistema: [0.75, 0.25, 0.25, 0.5, 0.75, 0.75, 0.75, 0.25, 0.75, 0.5, 0.5, 0.5, 0.5, 0.5, 0.5]\n",
            "Número de Sisemas: 5\n",
            "Fator:  [0.3296799539643607, 0.7768698398515702, 0.3934693402873666, 0.3934693402873666, 0.6321205588285577, 0.7768698398515702, 0.7768698398515702, 0.7768698398515702, 0.3934693402873666, 0.7768698398515702, 0.6321205588285577, 0.6321205588285577, 0.6321205588285577, 0.6321205588285577, 0.6321205588285577, 0.6321205588285577]\n",
            "Media de falhas:  [0, 2548.0396800000003, 44462.75984417959, 1038857.8210157021, 5491756.785057483, 25496429.071338363, 26970992.550309513, 28012166.1997004, 29739741.305276744, 32226393.20483087, 79877389.38035235, 86352054.16955243, 92735111.45934172, 147865032.85968354, 517143629.8799269, 707774743.5659592, 2482367920.462965]\n",
            "Custo =  102234456351.43213\n"
          ]
        },
        {
          "output_type": "stream",
          "name": "stderr",
          "text": [
            "pyswarms.single.global_best: 100%|██████████|1/1, best_cost=4.51e+10\n",
            "2023-09-01 02:59:40,180 - pyswarms.single.global_best - INFO - Optimization finished | best cost: 45053182833.53519, best pos: [5.75912641 1.78859302 4.71223732 1.92115424 4.86377849 0.57393546\n",
            " 5.07986936 5.59836421 5.52678297 1.66602914 5.68807668 3.14029998\n",
            " 3.64913987 3.0567244  3.5415818  2.57821833 2.24142884 4.23556728\n",
            " 6.19040066 3.56379366 4.21847727 2.38050671 2.60665591 4.11573935]\n",
            "2023-09-01 02:59:40,182 - pyswarms.single.global_best - INFO - Optimize for 1 iters with {'c1': 0.5, 'c2': 0.3, 'w': 0.9}\n"
          ]
        },
        {
          "output_type": "stream",
          "name": "stdout",
          "text": [
            "\n",
            "=========================================================================\n",
            "\n",
            "Número de ciclos de manutenção: 12 5\n",
            "Tempos para manutenções preventivas: [0, 24, 51, 157, 225, 256, 323, 332, 382, 393, 434, 547, 585]\n",
            "Severidade para cada subsistema: [0.75, 0.25, 0.5, 0.75, 0.75, 0.75, 0.5, 0.5, 0.5, 0.5, 0.5, 0.5]\n",
            "Número de Sisemas: 5\n",
            "Fator:  [0.3296799539643607, 0.7768698398515702, 0.3934693402873666, 0.6321205588285577, 0.7768698398515702, 0.7768698398515702, 0.7768698398515702, 0.6321205588285577, 0.6321205588285577, 0.6321205588285577, 0.6321205588285577, 0.6321205588285577, 0.6321205588285577]\n",
            "Media de falhas:  [0, 2548.0396800000003, 49727.48455241407, 7180065.05618343, 41750007.72161522, 46606860.72785765, 55839444.158540934, 56337882.39828513, 65035194.40844288, 73061412.01847935, 123279361.91014338, 572310643.053066, 717465647.7149537, 2510293197.5256863]\n",
            "Custo =  92854850169.84576\n"
          ]
        },
        {
          "output_type": "stream",
          "name": "stderr",
          "text": [
            "pyswarms.single.global_best: 100%|██████████|1/1, best_cost=4.51e+10\n",
            "2023-09-01 02:59:40,195 - pyswarms.single.global_best - INFO - Optimization finished | best cost: 45053182833.53519, best pos: [5.7587363  1.78830525 4.71228355 1.92115497 4.86375395 0.57392638\n",
            " 5.07985081 5.59894676 5.52791267 4.7315924  5.68808163 3.13986269\n",
            " 3.64918585 3.05650861 3.54156256 2.57804159 2.24139126 4.23515454\n",
            " 4.46276269 3.56369789 4.21828255 2.38051523 2.60666482 4.11586584]\n",
            "2023-09-01 02:59:40,198 - pyswarms.single.global_best - INFO - Optimize for 1 iters with {'c1': 0.5, 'c2': 0.3, 'w': 0.9}\n"
          ]
        },
        {
          "output_type": "stream",
          "name": "stdout",
          "text": [
            "\n",
            "=========================================================================\n",
            "\n",
            "Número de ciclos de manutenção: 11 5\n",
            "Tempos para manutenções preventivas: [0, 23, 53, 159, 207, 224, 255, 323, 381, 395, 433, 584]\n",
            "Severidade para cada subsistema: [0.75, 0.25, 0.5, 0.75, 0.75, 0.75, 0.75, 0.5, 0.5, 0.5, 0.5]\n",
            "Número de Sisemas: 5\n",
            "Fator:  [0.3296799539643607, 0.7768698398515702, 0.3934693402873666, 0.6321205588285577, 0.7768698398515702, 0.7768698398515702, 0.7768698398515702, 0.7768698398515702, 0.6321205588285577, 0.6321205588285577, 0.6321205588285577, 0.6321205588285577]\n",
            "Media de falhas:  [0, 2059.6297600000003, 63619.46225405629, 7330522.339518853, 24778197.469760954, 26203074.411728643, 27217736.43849086, 36752828.890059136, 48044470.41556424, 49668665.32249897, 95173887.60759938, 982808176.7337621, 2793980987.6316667]\n",
            "Custo =  81931318586.17346\n"
          ]
        },
        {
          "output_type": "stream",
          "name": "stderr",
          "text": [
            "pyswarms.single.global_best: 100%|██████████|1/1, best_cost=4.51e+10\n",
            "2023-09-01 02:59:40,210 - pyswarms.single.global_best - INFO - Optimization finished | best cost: 45053182833.53519, best pos: [5.75820136 1.78811967 4.71245002 1.92115477 4.86381404 0.57391514\n",
            " 5.07983322 5.59958829 5.52874402 0.49873522 5.68808768 3.13955385\n",
            " 3.64920981 3.05641868 3.54157656 2.57798339 2.24136406 4.23547107\n",
            " 2.28714637 3.56344275 4.21810714 2.38052365 2.60655303 4.11602384]\n",
            "2023-09-01 02:59:40,211 - pyswarms.single.global_best - INFO - Optimize for 1 iters with {'c1': 0.5, 'c2': 0.3, 'w': 0.9}\n"
          ]
        },
        {
          "output_type": "stream",
          "name": "stdout",
          "text": [
            "\n",
            "=========================================================================\n",
            "\n",
            "Número de ciclos de manutenção: 12 5\n",
            "Tempos para manutenções preventivas: [0, 22, 54, 164, 200, 224, 254, 322, 381, 396, 433, 549, 584]\n",
            "Severidade para cada subsistema: [0.75, 0.25, 0.5, 0.75, 0.75, 0.75, 0.75, 0.5, 0.5, 0.5, 0.25, 0.5]\n",
            "Número de Sisemas: 5\n",
            "Fator:  [0.3296799539643607, 0.7768698398515702, 0.3934693402873666, 0.6321205588285577, 0.7768698398515702, 0.7768698398515702, 0.7768698398515702, 0.7768698398515702, 0.6321205588285577, 0.6321205588285577, 0.6321205588285577, 0.3934693402873666, 0.6321205588285577]\n",
            "Media de falhas:  [0, 1649.16224, 72862.54491475654, 8738839.751712048, 20223568.1759092, 22364098.400769167, 23311628.313019596, 32763866.508081876, 44425143.66727955, 46206249.81140955, 90313490.41211776, 563455298.9318005, 695022293.5613987, 8932089496.22406]\n",
            "Custo =  265697961741.67035\n"
          ]
        },
        {
          "output_type": "stream",
          "name": "stderr",
          "text": [
            "pyswarms.single.global_best: 100%|██████████|1/1, best_cost=4.51e+10\n",
            "2023-09-01 02:59:40,221 - pyswarms.single.global_best - INFO - Optimization finished | best cost: 45053182833.53519, best pos: [5.75768459 1.78796185 4.71269023 1.92115369 4.86393581 0.573905\n",
            " 5.07981505 5.60030241 5.52927053 4.05040825 5.68809538 3.13943693\n",
            " 3.64920762 3.05661491 3.54162409 2.57820343 2.24134788 4.23672218\n",
            " 6.87730199 3.56320204 4.21798525 2.38053086 2.60645088 4.11617209]\n",
            "2023-09-01 02:59:40,222 - pyswarms.single.global_best - INFO - Optimize for 1 iters with {'c1': 0.5, 'c2': 0.3, 'w': 0.9}\n"
          ]
        },
        {
          "output_type": "stream",
          "name": "stdout",
          "text": [
            "\n",
            "=========================================================================\n",
            "\n",
            "Número de ciclos de manutenção: 11 5\n",
            "Tempos para manutenções preventivas: [0, 21, 55, 189, 225, 254, 322, 380, 397, 433, 566, 584]\n",
            "Severidade para cada subsistema: [0.75, 0.25, 0.75, 0.75, 0.75, 0.75, 0.5, 0.5, 0.5, 0.5, 0.5]\n",
            "Número de Sisemas: 5\n",
            "Fator:  [0.3296799539643607, 0.7768698398515702, 0.3934693402873666, 0.7768698398515702, 0.7768698398515702, 0.7768698398515702, 0.7768698398515702, 0.6321205588285577, 0.6321205588285577, 0.6321205588285577, 0.6321205588285577, 0.6321205588285577]\n",
            "Media de falhas:  [0, 1306.9123200000001, 83321.02401522476, 21510082.177432314, 39993571.96684705, 40888967.53814424, 50341205.73320652, 61540581.71196008, 63634967.9494624, 106357139.36486644, 756243827.2641151, 820583465.6544385, 2631756276.5523434]\n",
            "Custo =  92859152813.39847\n"
          ]
        },
        {
          "output_type": "stream",
          "name": "stderr",
          "text": [
            "pyswarms.single.global_best: 100%|██████████|1/1, best_cost=4.51e+10\n",
            "2023-09-01 02:59:40,236 - pyswarms.single.global_best - INFO - Optimization finished | best cost: 45053182833.53519, best pos: [5.75726864 1.78783718 4.71291429 1.92115185 4.86406101 0.57389859\n",
            " 5.07979793 5.60088365 5.52884815 0.64996588 5.68810244 3.13959244\n",
            " 3.64918272 3.05706487 3.54166938 2.57862718 2.24134442 4.23868036\n",
            " 3.64840308 3.56294402 4.21794649 2.38053644 2.60634226 4.11627989]\n",
            "2023-09-01 02:59:40,238 - pyswarms.single.global_best - INFO - Optimize for 1 iters with {'c1': 0.5, 'c2': 0.3, 'w': 0.9}\n"
          ]
        },
        {
          "output_type": "stream",
          "name": "stdout",
          "text": [
            "\n",
            "=========================================================================\n",
            "\n",
            "Número de ciclos de manutenção: 10 5\n",
            "Tempos para manutenções preventivas: [0, 21, 56, 153, 226, 254, 321, 380, 397, 433, 585]\n",
            "Severidade para cada subsistema: [0.75, 0.25, 0.75, 0.75, 0.75, 0.75, 0.5, 0.5, 0.5, 0.5]\n",
            "Número de Sisemas: 5\n",
            "Fator:  [0.3296799539643607, 0.7768698398515702, 0.3934693402873666, 0.7768698398515702, 0.7768698398515702, 0.7768698398515702, 0.7768698398515702, 0.6321205588285577, 0.6321205588285577, 0.6321205588285577, 0.6321205588285577]\n",
            "Media de falhas:  [0, 1306.9123200000001, 92231.98987532505, 5128614.923134896, 43018739.2379938, 43863879.4506256, 52935690.42127965, 64502126.867177, 66596513.104679324, 109318684.52008337, 1011880932.4107633, 2804708482.2214956]\n",
            "Custo =  82189654126.99133\n"
          ]
        },
        {
          "output_type": "stream",
          "name": "stderr",
          "text": [
            "pyswarms.single.global_best: 100%|██████████|1/1, best_cost=4.51e+10\n",
            "2023-09-01 02:59:40,252 - pyswarms.single.global_best - INFO - Optimization finished | best cost: 45053182833.53519, best pos: [5.75697793 1.78785122 4.71309182 1.92114986 4.86417378 0.57389371\n",
            " 5.07977997 5.60124057 5.52803734 4.51507389 5.6881084  3.13991249\n",
            " 3.64914337 3.05753346 3.54171191 2.57922333 2.2413621  4.2406004\n",
            " 0.14463048 3.56268577 4.21796924 2.3805386  2.60623061 4.11635348]\n"
          ]
        },
        {
          "output_type": "stream",
          "name": "stdout",
          "text": [
            "\n",
            "=========================================================================\n",
            "\n",
            "Número de ciclos de manutenção: 12 5\n",
            "Tempos para manutenções preventivas: [0, 21, 57, 179, 226, 254, 286, 321, 379, 396, 433, 548, 585]\n",
            "Severidade para cada subsistema: [0.75, 0.25, 0.75, 0.75, 0.75, 0.75, 0.75, 0.5, 0.5, 0.5, 0.25, 0.5]\n",
            "Número de Sisemas: 5\n",
            "Fator:  [0.3296799539643607, 0.7768698398515702, 0.3934693402873666, 0.7768698398515702, 0.7768698398515702, 0.7768698398515702, 0.7768698398515702, 0.7768698398515702, 0.6321205588285577, 0.6321205588285577, 0.6321205588285577, 0.3934693402873666, 0.6321205588285577]\n",
            "Media de falhas:  [0, 1306.9123200000001, 101899.60869666211, 14301679.444989417, 38633156.87271222, 39478297.08534402, 41045697.978782125, 43721907.06509678, 54829596.910831995, 56904180.39401399, 101011420.99472222, 565030224.3337228, 705921293.5726104, 8888306839.498493]\n",
            "Custo =  266285038264.59454\n"
          ]
        },
        {
          "output_type": "stream",
          "name": "stderr",
          "text": [
            "2023-09-01 02:59:40,254 - pyswarms.single.global_best - INFO - Optimize for 1 iters with {'c1': 0.5, 'c2': 0.3, 'w': 0.9}\n",
            "pyswarms.single.global_best: 100%|██████████|1/1, best_cost=4.51e+10"
          ]
        },
        {
          "output_type": "stream",
          "name": "stdout",
          "text": [
            "\n",
            "=========================================================================\n",
            "\n",
            "Número de ciclos de manutenção: 12 5\n",
            "Tempos para manutenções preventivas: [0, 21, 57, 119, 227, 254, 279, 320, 378, 394, 434, 560, 586]\n",
            "Severidade para cada subsistema: [0.75, 0.25, 0.25, 0.75, 0.75, 0.5, 0.75, 0.5, 0.5, 0.5, 0.5, 0.5]\n",
            "Número de Sisemas: 5\n",
            "Fator:  [0.3296799539643607, 0.7768698398515702, 0.3934693402873666, 0.3934693402873666, 0.7768698398515702, 0.7768698398515702, 0.6321205588285577, 0.7768698398515702, 0.6321205588285577, 0.6321205588285577, 0.6321205588285577, 0.6321205588285577, 0.6321205588285577]\n",
            "Media de falhas:  [0, 1306.9123200000001, 101899.60869666211, 847019.7228037434, 60984495.14198733, 83912491.81687912, 84888423.35032083, 88344742.0394778, 134723346.75240165, 136612795.36570376, 185380873.67033395, 760869705.0836725, 857256928.9571524, 2631850105.8541584]\n",
            "Custo =  97117145233.34802\n"
          ]
        },
        {
          "output_type": "stream",
          "name": "stderr",
          "text": [
            "\n",
            "2023-09-01 02:59:40,270 - pyswarms.single.global_best - INFO - Optimization finished | best cost: 45053182833.53519, best pos: [5.75685743 1.78803231 4.71317918 1.92114808 4.86427434 0.57389346\n",
            " 5.07975514 5.60151735 5.5269267  1.02968489 5.68811241 3.14026418\n",
            " 3.64909913 3.05796911 3.54174646 2.57981662 2.24139979 4.24231665\n",
            " 4.13256037 3.56244125 4.21805286 2.38054015 2.60613005 4.11639294]\n",
            "2023-09-01 02:59:40,347 - pyswarms.single.global_best - INFO - Optimize for 1 iters with {'c1': 0.5, 'c2': 0.3, 'w': 0.9}\n",
            "pyswarms.single.global_best:   0%|          |0/1, best_cost=4.51e+10"
          ]
        },
        {
          "output_type": "stream",
          "name": "stdout",
          "text": [
            "\n",
            "=========================================================================\n",
            "\n",
            "Número de ciclos de manutenção: 12 5\n",
            "Tempos para manutenções preventivas: [0, 21, 56, 116, 228, 254, 273, 319, 332, 378, 391, 435, 587]\n",
            "Severidade para cada subsistema: [0.75, 0.25, 0.25, 0.75, 0.75, 0.25, 0.75, 0.5, 0.5, 0.5, 0.5, 0.5]\n",
            "Número de Sisemas: 5\n",
            "Fator:  [0.3296799539643607, 0.7768698398515702, 0.3934693402873666, 0.3934693402873666, 0.7768698398515702, 0.7768698398515702, 0.3934693402873666, 0.7768698398515702, 0.6321205588285577, 0.6321205588285577, 0.6321205588285577, 0.6321205588285577, 0.6321205588285577]\n",
            "Media de falhas:  [0, 1306.9123200000001, 92231.98987532505, 732899.6993736315, 64712258.89331066, 86827606.7041461, 87434661.83887868, 91636548.62114212, 124975721.15479124, 132250770.10718846, 141625132.60624024, 196755054.00658208, 1109658887.671121, 2866127907.3495607]\n",
            "Custo =  98176710653.63087\n"
          ]
        },
        {
          "output_type": "stream",
          "name": "stderr",
          "text": [
            "\rpyswarms.single.global_best: 100%|██████████|1/1, best_cost=4.51e+10\n",
            "2023-09-01 02:59:40,439 - pyswarms.single.global_best - INFO - Optimization finished | best cost: 45053182833.53519, best pos: [5.75684415 1.7882488  4.71325101 1.92114652 4.86431711 0.57389437\n",
            " 5.07973217 5.60157985 5.52561528 5.47730626 5.68811248 3.14063575\n",
            " 3.64905825 3.0583551  3.54176717 2.58029035 2.24144538 4.2431576\n",
            " 0.81668818 3.56227018 4.21816094 2.380536   2.60605667 4.11633757]\n",
            "2023-09-01 02:59:40,441 - pyswarms.single.global_best - INFO - Optimize for 1 iters with {'c1': 0.5, 'c2': 0.3, 'w': 0.9}\n",
            "pyswarms.single.global_best: 100%|██████████|1/1, best_cost=4.51e+10\n",
            "2023-09-01 02:59:40,494 - pyswarms.single.global_best - INFO - Optimization finished | best cost: 45053182833.53519, best pos: [5.75694416 1.78850064 4.71322557 1.92114518 4.86429993 0.57389526\n",
            " 5.0797144  5.60147392 5.52443342 2.48122054 5.68811054 3.14091712\n",
            " 3.64902769 3.05856449 3.5417794  2.58066832 2.24148729 4.24386747\n",
            " 4.81801095 3.56218743 4.21827428 2.38053223 2.60603586 4.11624901]\n",
            "2023-09-01 02:59:40,499 - pyswarms.single.global_best - INFO - Optimize for 1 iters with {'c1': 0.5, 'c2': 0.3, 'w': 0.9}\n"
          ]
        },
        {
          "output_type": "stream",
          "name": "stdout",
          "text": [
            "\n",
            "=========================================================================\n",
            "\n",
            "Número de ciclos de manutenção: 11 5\n",
            "Tempos para manutenções preventivas: [0, 21, 55, 114, 229, 255, 283, 319, 336, 377, 436, 587]\n",
            "Severidade para cada subsistema: [0.75, 0.25, 0.25, 0.75, 0.75, 0.75, 0.75, 0.5, 0.5, 0.5, 0.5]\n",
            "Número de Sisemas: 5\n",
            "Fator:  [0.3296799539643607, 0.7768698398515702, 0.3934693402873666, 0.3934693402873666, 0.7768698398515702, 0.7768698398515702, 0.7768698398515702, 0.7768698398515702, 0.6321205588285577, 0.6321205588285577, 0.6321205588285577, 0.6321205588285577]\n",
            "Media de falhas:  [0, 1306.9123200000001, 83321.02401522476, 671736.1218329085, 67921347.4356966, 90390872.8003617, 91611418.86881755, 94355794.88265984, 95477087.56051624, 101432050.9720881, 181634406.648869, 1084602013.7905304, 2841071033.4689703]\n",
            "Custo =  85658979731.11484\n"
          ]
        },
        {
          "output_type": "stream",
          "name": "stderr",
          "text": [
            "pyswarms.single.global_best: 100%|██████████|1/1, best_cost=4.51e+10\n",
            "2023-09-01 02:59:40,512 - pyswarms.single.global_best - INFO - Optimization finished | best cost: 45053182833.53519, best pos: [5.75729873 1.78874615 4.71309477 1.92114474 4.86426328 0.57389618\n",
            " 5.07970047 5.60100526 5.52341644 6.12287985 5.68810852 3.14108012\n",
            " 3.64900416 3.05861362 3.54177816 2.5808699  2.24152219 4.24356912\n",
            " 1.45892944 3.56219109 4.2183765  2.38052822 2.60606739 4.11612369]\n",
            "2023-09-01 02:59:40,514 - pyswarms.single.global_best - INFO - Optimize for 1 iters with {'c1': 0.5, 'c2': 0.3, 'w': 0.9}\n"
          ]
        },
        {
          "output_type": "stream",
          "name": "stdout",
          "text": [
            "\n",
            "=========================================================================\n",
            "\n",
            "Número de ciclos de manutenção: 11 5\n",
            "Tempos para manutenções preventivas: [0, 21, 54, 112, 179, 229, 255, 319, 338, 377, 437, 588]\n",
            "Severidade para cada subsistema: [0.75, 0.25, 0.25, 0.75, 0.75, 0.75, 0.75, 0.5, 0.5, 0.5, 0.5]\n",
            "Número de Sisemas: 5\n",
            "Fator:  [0.3296799539643607, 0.7768698398515702, 0.3934693402873666, 0.3934693402873666, 0.7768698398515702, 0.7768698398515702, 0.7768698398515702, 0.7768698398515702, 0.6321205588285577, 0.6321205588285577, 0.6321205588285577, 0.6321205588285577]\n",
            "Media de falhas:  [0, 1306.9123200000001, 75121.40011821958, 614750.258689622, 14464337.604187757, 41717828.61679655, 42477998.20104311, 50552286.793123886, 51876021.29759311, 57370362.26432373, 140041355.1828939, 1048165136.1986996, 2786619543.9283957]\n",
            "Custo =  83055535042.137\n"
          ]
        },
        {
          "output_type": "stream",
          "name": "stderr",
          "text": [
            "pyswarms.single.global_best: 100%|██████████|1/1, best_cost=4.51e+10\n",
            "2023-09-01 02:59:40,527 - pyswarms.single.global_best - INFO - Optimization finished | best cost: 45053182833.53519, best pos: [5.75768547 1.78894936 4.71295938 1.92114441 4.86417714 0.57389793\n",
            " 5.07969924 5.60043455 5.52264253 2.3786624  5.68810359 3.1412135\n",
            " 3.64898607 3.05842005 3.54176723 2.58104671 2.24154146 4.2422844\n",
            " 5.76833003 3.56230794 4.2184524  2.38052385 2.6060961  4.1159958 ]\n",
            "2023-09-01 02:59:40,529 - pyswarms.single.global_best - INFO - Optimize for 1 iters with {'c1': 0.5, 'c2': 0.3, 'w': 0.9}\n"
          ]
        },
        {
          "output_type": "stream",
          "name": "stdout",
          "text": [
            "\n",
            "=========================================================================\n",
            "\n",
            "Número de ciclos de manutenção: 11 5\n",
            "Tempos para manutenções preventivas: [0, 22, 52, 111, 229, 256, 319, 339, 378, 438, 546, 588]\n",
            "Severidade para cada subsistema: [0.75, 0.25, 0.25, 0.75, 0.75, 0.75, 0.5, 0.5, 0.5, 0.75, 0.5]\n",
            "Número de Sisemas: 5\n",
            "Fator:  [0.3296799539643607, 0.7768698398515702, 0.3934693402873666, 0.3934693402873666, 0.7768698398515702, 0.7768698398515702, 0.7768698398515702, 0.6321205588285577, 0.6321205588285577, 0.6321205588285577, 0.7768698398515702, 0.6321205588285577]\n",
            "Media de falhas:  [0, 1649.16224, 58833.86286607602, 620148.7591917048, 70132551.70431252, 93799431.9779466, 101607789.58193803, 103039708.35275432, 108583856.48061149, 191956665.2756585, 609024116.6733212, 774762157.5032204, 1249354165.929812]\n",
            "Custo =  57417816087.611176\n"
          ]
        },
        {
          "output_type": "stream",
          "name": "stderr",
          "text": [
            "pyswarms.single.global_best: 100%|██████████|1/1, best_cost=4.51e+10\n",
            "2023-09-01 02:59:40,540 - pyswarms.single.global_best - INFO - Optimization finished | best cost: 45053182833.53519, best pos: [5.75808149 1.78908655 4.71281288 1.92114434 4.86407731 0.57390308\n",
            " 5.07971136 5.59992035 5.52232813 5.62454092 5.68809699 3.14111068\n",
            " 3.64900112 3.05823586 3.54175677 2.58083138 2.24154693 4.24045569\n",
            " 2.53061581 3.56245081 4.21851929 2.38051894 2.60615159 4.1158889 ]\n",
            "2023-09-01 02:59:40,542 - pyswarms.single.global_best - INFO - Optimize for 1 iters with {'c1': 0.5, 'c2': 0.3, 'w': 0.9}\n"
          ]
        },
        {
          "output_type": "stream",
          "name": "stdout",
          "text": [
            "\n",
            "=========================================================================\n",
            "\n",
            "Número de ciclos de manutenção: 12 5\n",
            "Tempos para manutenções preventivas: [0, 22, 51, 111, 184, 229, 256, 283, 319, 339, 378, 439, 588]\n",
            "Severidade para cada subsistema: [0.75, 0.25, 0.25, 0.75, 0.75, 0.75, 0.5, 0.75, 0.5, 0.5, 0.5, 0.5]\n",
            "Número de Sisemas: 5\n",
            "Fator:  [0.3296799539643607, 0.7768698398515702, 0.3934693402873666, 0.3934693402873666, 0.7768698398515702, 0.7768698398515702, 0.7768698398515702, 0.6321205588285577, 0.7768698398515702, 0.6321205588285577, 0.6321205588285577, 0.6321205588285577, 0.6321205588285577]\n",
            "Media de falhas:  [0, 1649.16224, 52699.523262095674, 645593.3947129846, 17613976.59837845, 42213250.87937032, 43031434.28072355, 44184805.55046143, 46929181.56430371, 55450759.15928379, 60994907.28714095, 146905214.25787026, 1035280266.4453948, 2773734674.175091]\n",
            "Custo =  84486209619.49425\n"
          ]
        },
        {
          "output_type": "stream",
          "name": "stderr",
          "text": [
            "pyswarms.single.global_best: 100%|██████████|1/1, best_cost=4.51e+10\n",
            "2023-09-01 02:59:40,557 - pyswarms.single.global_best - INFO - Optimization finished | best cost: 45053182833.53519, best pos: [5.75838229 1.78909082 4.71268248 1.92114578 4.86398804 0.57390877\n",
            " 5.07973322 5.59946594 5.5227598  1.5174298  5.68809099 3.14098382\n",
            " 3.64903169 3.05794136 3.54173517 2.58057784 2.24154728 4.23868837\n",
            " 6.64574828 3.56259962 4.21856922 2.38051461 2.60620205 4.11584189]\n",
            "2023-09-01 02:59:40,558 - pyswarms.single.global_best - INFO - Optimize for 1 iters with {'c1': 0.5, 'c2': 0.3, 'w': 0.9}\n"
          ]
        },
        {
          "output_type": "stream",
          "name": "stdout",
          "text": [
            "\n",
            "=========================================================================\n",
            "\n",
            "Número de ciclos de manutenção: 11 5\n",
            "Tempos para manutenções preventivas: [0, 22, 51, 111, 191, 229, 256, 319, 338, 379, 439, 588]\n",
            "Severidade para cada subsistema: [0.75, 0.25, 0.25, 0.75, 0.75, 0.75, 0.75, 0.5, 0.5, 0.5, 0.5]\n",
            "Número de Sisemas: 5\n",
            "Fator:  [0.3296799539643607, 0.7768698398515702, 0.3934693402873666, 0.3934693402873666, 0.7768698398515702, 0.7768698398515702, 0.7768698398515702, 0.7768698398515702, 0.6321205588285577, 0.6321205588285577, 0.6321205588285577, 0.6321205588285577]\n",
            "Media de falhas:  [0, 1649.16224, 52699.523262095674, 645593.3947129846, 22412067.68646176, 43315454.227148026, 44133637.62850126, 51941995.23249269, 53265729.736961916, 59328019.60834112, 143407146.9730682, 1031782199.1605928, 2770236606.890289]\n",
            "Custo =  83247471404.63495\n"
          ]
        },
        {
          "output_type": "stream",
          "name": "stderr",
          "text": [
            "pyswarms.single.global_best: 100%|██████████|1/1, best_cost=4.51e+10\n",
            "2023-09-01 02:59:40,571 - pyswarms.single.global_best - INFO - Optimization finished | best cost: 45053182833.53519, best pos: [5.75863181 1.78898332 4.71257919 1.92114791 4.86392336 0.57391415\n",
            " 5.07975671 5.59913162 5.52325077 4.38099443 5.68808691 3.14076149\n",
            " 3.64907633 3.05766903 3.54171104 2.58017674 2.24153085 4.2372533\n",
            " 2.91991474 3.56273725 4.21860052 2.38051102 2.60625139 4.11586088]\n",
            "2023-09-01 02:59:40,572 - pyswarms.single.global_best - INFO - Optimize for 1 iters with {'c1': 0.5, 'c2': 0.3, 'w': 0.9}\n"
          ]
        },
        {
          "output_type": "stream",
          "name": "stdout",
          "text": [
            "\n",
            "=========================================================================\n",
            "\n",
            "Número de ciclos de manutenção: 13 5\n",
            "Tempos para manutenções preventivas: [0, 23, 50, 113, 178, 195, 229, 256, 320, 337, 380, 390, 439, 587]\n",
            "Severidade para cada subsistema: [0.75, 0.25, 0.25, 0.5, 0.75, 0.75, 0.75, 0.75, 0.5, 0.5, 0.5, 0.5, 0.5]\n",
            "Número de Sisemas: 5\n",
            "Fator:  [0.3296799539643607, 0.7768698398515702, 0.3934693402873666, 0.3934693402873666, 0.6321205588285577, 0.7768698398515702, 0.7768698398515702, 0.7768698398515702, 0.7768698398515702, 0.6321205588285577, 0.6321205588285577, 0.6321205588285577, 0.6321205588285577, 0.6321205588285577]\n",
            "Media de falhas:  [0, 2059.6297600000003, 45721.71432801056, 763289.3783962152, 13867902.73531388, 18925188.15004746, 22546620.27131464, 23364803.67266787, 31511873.78004916, 32645638.44538011, 39257819.527414665, 46307332.76863296, 111381366.28766702, 984980182.0196664, 2741449201.698106]\n",
            "Custo =  84861837500.49359\n"
          ]
        },
        {
          "output_type": "stream",
          "name": "stderr",
          "text": [
            "pyswarms.single.global_best: 100%|██████████|1/1, best_cost=4.51e+10\n",
            "2023-09-01 02:59:40,591 - pyswarms.single.global_best - INFO - Optimization finished | best cost: 45053182833.53519, best pos: [5.75871087 1.78883679 4.71254968 1.92115024 4.8638737  0.57391899\n",
            " 5.07977774 5.59902401 5.52397586 0.11343441 5.68808438 3.14056139\n",
            " 3.64911882 3.05743893 3.54168733 2.57964859 2.24150377 4.23597139\n",
            " 6.25520662 3.56285264 4.21862757 2.38050781 2.60629338 4.11588067]\n",
            "2023-09-01 02:59:40,594 - pyswarms.single.global_best - INFO - Optimize for 1 iters with {'c1': 0.5, 'c2': 0.3, 'w': 0.9}\n"
          ]
        },
        {
          "output_type": "stream",
          "name": "stdout",
          "text": [
            "\n",
            "=========================================================================\n",
            "\n",
            "Número de ciclos de manutenção: 14 5\n",
            "Tempos para manutenções preventivas: [0, 23, 51, 115, 179, 198, 228, 256, 284, 320, 336, 380, 392, 438, 587]\n",
            "Severidade para cada subsistema: [0.75, 0.25, 0.25, 0.75, 0.75, 0.75, 0.75, 0.25, 0.75, 0.5, 0.5, 0.5, 0.5, 0.5]\n",
            "Número de Sisemas: 5\n",
            "Fator:  [0.3296799539643607, 0.7768698398515702, 0.3934693402873666, 0.3934693402873666, 0.7768698398515702, 0.7768698398515702, 0.7768698398515702, 0.7768698398515702, 0.3934693402873666, 0.7768698398515702, 0.6321205588285577, 0.6321205588285577, 0.6321205588285577, 0.6321205588285577, 0.6321205588285577]\n",
            "Media de falhas:  [0, 2059.6297600000003, 51151.34013811694, 829880.0136968849, 13998872.334913218, 19983094.79245118, 20647983.98219036, 21515747.199087244, 22751166.75407326, 25524478.52953062, 68357318.3905362, 75226639.97944735, 83930881.09658948, 143644678.6121656, 1026960269.8331344, 2783429289.511574]\n",
            "Custo =  95107978354.4547\n"
          ]
        },
        {
          "output_type": "stream",
          "name": "stderr",
          "text": [
            "pyswarms.single.global_best: 100%|██████████|1/1, best_cost=4.51e+10\n",
            "2023-09-01 02:59:40,604 - pyswarms.single.global_best - INFO - Optimization finished | best cost: 45053182833.53519, best pos: [5.75868992 1.78866253 4.71257534 1.92115234 4.86388017 0.57392228\n",
            " 5.07978915 5.59905569 5.52487456 3.6282263  5.68808489 3.14037862\n",
            " 3.64915084 3.05727446 3.54166603 2.57915726 2.24147557 4.23585949\n",
            " 2.06128805 3.56291654 4.21862504 2.38050498 2.60631961 4.11590623]\n",
            "2023-09-01 02:59:40,605 - pyswarms.single.global_best - INFO - Optimize for 1 iters with {'c1': 0.5, 'c2': 0.3, 'w': 0.9}\n"
          ]
        },
        {
          "output_type": "stream",
          "name": "stdout",
          "text": [
            "\n",
            "=========================================================================\n",
            "\n",
            "Número de ciclos de manutenção: 13 5\n",
            "Tempos para manutenções preventivas: [0, 23, 51, 117, 199, 227, 256, 296, 321, 334, 380, 394, 437, 586]\n",
            "Severidade para cada subsistema: [0.75, 0.25, 0.25, 0.75, 0.75, 0.75, 0.75, 0.75, 0.5, 0.5, 0.5, 0.5, 0.5]\n",
            "Número de Sisemas: 5\n",
            "Fator:  [0.3296799539643607, 0.7768698398515702, 0.3934693402873666, 0.3934693402873666, 0.7768698398515702, 0.7768698398515702, 0.7768698398515702, 0.7768698398515702, 0.7768698398515702, 0.6321205588285577, 0.6321205588285577, 0.6321205588285577, 0.6321205588285577, 0.6321205588285577]\n",
            "Media de falhas:  [0, 2059.6297600000003, 51151.34013811694, 938825.4969938088, 27160621.81278262, 42227947.24714459, 43147143.69412921, 45717721.09156604, 47317573.19302576, 48103159.80785188, 55506002.68235811, 65954517.03553407, 120523500.42000957, 998801843.2940674, 2773395020.1910734]\n",
            "Custo =  85951695568.37212\n"
          ]
        },
        {
          "output_type": "stream",
          "name": "stderr",
          "text": [
            "pyswarms.single.global_best: 100%|██████████|1/1, best_cost=4.51e+10\n",
            "2023-09-01 02:59:40,614 - pyswarms.single.global_best - INFO - Optimization finished | best cost: 45053182833.53519, best pos: [5.758566   1.78850485 4.71262403 1.92115405 4.86394584 0.57392361\n",
            " 5.07979811 5.59933249 5.52578292 0.18188108 5.68808569 3.14021673\n",
            " 3.6491779  3.0572277  3.5416519  2.57872632 2.24145016 4.23586848\n",
            " 5.30256908 3.56292251 4.21854867 2.38050292 2.60633659 4.11595896]\n",
            "2023-09-01 02:59:40,615 - pyswarms.single.global_best - INFO - Optimize for 1 iters with {'c1': 0.5, 'c2': 0.3, 'w': 0.9}\n"
          ]
        },
        {
          "output_type": "stream",
          "name": "stdout",
          "text": [
            "\n",
            "=========================================================================\n",
            "\n",
            "Número de ciclos de manutenção: 13 5\n",
            "Tempos para manutenções preventivas: [0, 23, 52, 119, 197, 227, 256, 321, 333, 380, 396, 436, 547, 586]\n",
            "Severidade para cada subsistema: [0.75, 0.25, 0.25, 0.75, 0.75, 0.75, 0.75, 0.5, 0.5, 0.5, 0.5, 0.75, 0.5]\n",
            "Número de Sisemas: 5\n",
            "Fator:  [0.3296799539643607, 0.7768698398515702, 0.3934693402873666, 0.3934693402873666, 0.7768698398515702, 0.7768698398515702, 0.7768698398515702, 0.7768698398515702, 0.6321205588285577, 0.6321205588285577, 0.6321205588285577, 0.6321205588285577, 0.7768698398515702, 0.6321205588285577]\n",
            "Media de falhas:  [0, 2059.6297600000003, 57104.910612010346, 1017187.8430971078, 24834189.176457517, 40927402.25310413, 41846598.700088754, 50343753.827260286, 51049200.973124534, 58728685.19190479, 71014604.2502209, 120646067.32349959, 557828716.8126578, 708268340.6492786, 1197078098.4407551]\n",
            "Custo =  57767537604.13733\n"
          ]
        },
        {
          "output_type": "stream",
          "name": "stderr",
          "text": [
            "pyswarms.single.global_best: 100%|██████████|1/1, best_cost=4.51e+10\n",
            "2023-09-01 02:59:40,624 - pyswarms.single.global_best - INFO - Optimization finished | best cost: 45053182833.53519, best pos: [5.75838071 1.7883814  4.71269152 1.9211554  4.86403791 0.57392319\n",
            " 5.07979397 5.59975412 5.52656617 4.62393539 5.68808695 3.14013673\n",
            " 3.64918663 3.05726666 3.54164667 2.57856804 2.24143146 4.23629577\n",
            " 1.18260455 3.56287539 4.21845921 2.38050586 2.60632792 4.11603462]\n",
            "2023-09-01 02:59:40,625 - pyswarms.single.global_best - INFO - Optimize for 1 iters with {'c1': 0.5, 'c2': 0.3, 'w': 0.9}\n"
          ]
        },
        {
          "output_type": "stream",
          "name": "stdout",
          "text": [
            "\n",
            "=========================================================================\n",
            "\n",
            "Número de ciclos de manutenção: 11 5\n",
            "Tempos para manutenções preventivas: [0, 23, 53, 191, 227, 255, 321, 332, 380, 397, 435, 586]\n",
            "Severidade para cada subsistema: [0.75, 0.25, 0.75, 0.75, 0.75, 0.75, 0.5, 0.5, 0.5, 0.5, 0.5]\n",
            "Número de Sisemas: 5\n",
            "Fator:  [0.3296799539643607, 0.7768698398515702, 0.3934693402873666, 0.7768698398515702, 0.7768698398515702, 0.7768698398515702, 0.7768698398515702, 0.6321205588285577, 0.6321205588285577, 0.6321205588285577, 0.6321205588285577, 0.6321205588285577]\n",
            "Media de falhas:  [0, 2059.6297600000003, 63619.46225405629, 24222850.20495405, 43379534.50124982, 44235929.40571569, 53016856.78120284, 53645907.42521707, 61608796.62352614, 74849488.79821205, 121164494.3132284, 1018998506.8618363, 2793591683.7588425]\n",
            "Custo =  85452854090.775\n"
          ]
        },
        {
          "output_type": "stream",
          "name": "stderr",
          "text": [
            "pyswarms.single.global_best: 100%|██████████|1/1, best_cost=4.51e+10\n",
            "2023-09-01 02:59:40,639 - pyswarms.single.global_best - INFO - Optimization finished | best cost: 45053182833.53519, best pos: [5.75812425 1.7883376  4.71278123 1.92115591 4.86413341 0.57392056\n",
            " 5.07978281 5.60021997 5.52720777 1.66281177 5.68808864 3.14014052\n",
            " 3.64917516 3.05740426 3.54164432 2.57857808 2.24141812 4.23759411\n",
            " 4.12449682 3.56278705 4.21833159 2.38051151 2.60629126 4.11610551]\n",
            "2023-09-01 02:59:40,641 - pyswarms.single.global_best - INFO - Optimize for 1 iters with {'c1': 0.5, 'c2': 0.3, 'w': 0.9}\n"
          ]
        },
        {
          "output_type": "stream",
          "name": "stdout",
          "text": [
            "\n",
            "=========================================================================\n",
            "\n",
            "Número de ciclos de manutenção: 12 5\n",
            "Tempos para manutenções preventivas: [0, 22, 54, 184, 227, 255, 321, 331, 380, 397, 434, 548, 585]\n",
            "Severidade para cada subsistema: [0.75, 0.25, 0.75, 0.75, 0.75, 0.75, 0.5, 0.5, 0.5, 0.5, 0.5, 0.5]\n",
            "Número de Sisemas: 5\n",
            "Fator:  [0.3296799539643607, 0.7768698398515702, 0.3934693402873666, 0.7768698398515702, 0.7768698398515702, 0.7768698398515702, 0.7768698398515702, 0.6321205588285577, 0.6321205588285577, 0.6321205588285577, 0.6321205588285577, 0.6321205588285577, 0.6321205588285577]\n",
            "Media de falhas:  [0, 1649.16224, 72862.54491475654, 18580006.914765533, 41303239.23834258, 42159634.14280845, 50940561.5182956, 51496825.95596941, 59750018.254020885, 72990710.4287068, 117489671.96242455, 575429138.7254152, 716320207.9643028, 2509147757.7750354]\n",
            "Custo =  92926184715.388\n"
          ]
        },
        {
          "output_type": "stream",
          "name": "stderr",
          "text": [
            "pyswarms.single.global_best: 100%|██████████|1/1, best_cost=4.51e+10\n",
            "2023-09-01 02:59:40,653 - pyswarms.single.global_best - INFO - Optimization finished | best cost: 45053182833.53519, best pos: [5.75787643 1.78834893 4.71287298 1.92115533 4.86421256 0.57391686\n",
            " 5.07977035 5.60061523 5.52765798 5.63968882 5.68809176 3.14023415\n",
            " 3.64916143 3.05758792 3.54164619 2.57877439 2.24141148 4.23918086\n",
            " 6.95997704 3.56267308 4.21820815 2.38051871 2.60624005 4.11615674]\n",
            "2023-09-01 02:59:40,654 - pyswarms.single.global_best - INFO - Optimize for 1 iters with {'c1': 0.5, 'c2': 0.3, 'w': 0.9}\n"
          ]
        },
        {
          "output_type": "stream",
          "name": "stdout",
          "text": [
            "\n",
            "=========================================================================\n",
            "\n",
            "Número de ciclos de manutenção: 11 5\n",
            "Tempos para manutenções preventivas: [0, 22, 54, 226, 255, 321, 331, 379, 397, 434, 564, 586]\n",
            "Severidade para cada subsistema: [0.75, 0.25, 0.75, 0.75, 0.75, 0.5, 0.5, 0.5, 0.5, 0.75, 0.5]\n",
            "Número de Sisemas: 5\n",
            "Fator:  [0.3296799539643607, 0.7768698398515702, 0.3934693402873666, 0.7768698398515702, 0.7768698398515702, 0.7768698398515702, 0.6321205588285577, 0.6321205588285577, 0.6321205588285577, 0.6321205588285577, 0.7768698398515702, 0.6321205588285577]\n",
            "Media de falhas:  [0, 1649.16224, 72862.54491475654, 67652694.05802055, 92594207.4257468, 101375134.80123395, 101931399.23890775, 109825969.6851874, 123906502.48255675, 168405464.0162745, 787720909.1473179, 868336299.1438155, 1357146056.935292]\n",
            "Custo =  61664558846.700676\n"
          ]
        },
        {
          "output_type": "stream",
          "name": "stderr",
          "text": [
            "pyswarms.single.global_best: 100%|██████████|1/1, best_cost=4.51e+10\n",
            "2023-09-01 02:59:40,663 - pyswarms.single.global_best - INFO - Optimization finished | best cost: 45053182833.53519, best pos: [5.75765459 1.78836151 4.71295532 1.92115419 4.86424704 0.57391293\n",
            " 5.07975817 5.60086978 5.52743112 2.20523771 5.68809481 3.14035775\n",
            " 3.64914267 3.05778609 3.54165921 2.57914909 2.24142362 4.24063205\n",
            " 2.08225236 3.56255897 4.21811274 2.38052521 2.60619316 4.11617684]\n",
            "2023-09-01 02:59:40,664 - pyswarms.single.global_best - INFO - Optimize for 1 iters with {'c1': 0.5, 'c2': 0.3, 'w': 0.9}\n"
          ]
        },
        {
          "output_type": "stream",
          "name": "stdout",
          "text": [
            "\n",
            "=========================================================================\n",
            "\n",
            "Número de ciclos de manutenção: 11 5\n",
            "Tempos para manutenções preventivas: [0, 22, 55, 226, 255, 321, 331, 379, 396, 433, 542, 586]\n",
            "Severidade para cada subsistema: [0.75, 0.25, 0.75, 0.75, 0.75, 0.5, 0.5, 0.5, 0.5, 0.25, 0.5]\n",
            "Número de Sisemas: 5\n",
            "Fator:  [0.3296799539643607, 0.7768698398515702, 0.3934693402873666, 0.7768698398515702, 0.7768698398515702, 0.7768698398515702, 0.6321205588285577, 0.6321205588285577, 0.6321205588285577, 0.6321205588285577, 0.3934693402873666, 0.6321205588285577]\n",
            "Media de falhas:  [0, 1649.16224, 80837.26976309544, 66246378.80830512, 91187892.17603137, 99968819.55151851, 100525083.98919232, 108419654.43547197, 121529874.27385332, 165637114.87456155, 577641458.5317262, 750110693.1509188, 8877833128.610395]\n",
            "Custo =  270832027790.48596\n"
          ]
        },
        {
          "output_type": "stream",
          "name": "stderr",
          "text": [
            "pyswarms.single.global_best: 100%|██████████|1/1, best_cost=4.51e+10\n",
            "2023-09-01 02:59:40,674 - pyswarms.single.global_best - INFO - Optimization finished | best cost: 45053182833.53519, best pos: [5.75750331 1.78842577 4.71302138 1.92115236 4.86422997 0.57390985\n",
            " 5.07974656 5.60093646 5.52704896 5.87246827 5.68809785 3.14047092\n",
            " 3.64912493 3.05796653 3.54167382 2.57952804 2.24144667 4.24173398\n",
            " 4.2084686  3.56246156 4.21807396 2.38053022 2.60615977 4.11617448]\n",
            "2023-09-01 02:59:40,675 - pyswarms.single.global_best - INFO - Optimize for 1 iters with {'c1': 0.5, 'c2': 0.3, 'w': 0.9}\n"
          ]
        },
        {
          "output_type": "stream",
          "name": "stdout",
          "text": [
            "\n",
            "=========================================================================\n",
            "\n",
            "Número de ciclos de manutenção: 12 5\n",
            "Tempos para manutenções preventivas: [0, 22, 55, 227, 255, 289, 321, 332, 379, 394, 433, 546, 586]\n",
            "Severidade para cada subsistema: [0.75, 0.25, 0.75, 0.75, 0.75, 0.75, 0.5, 0.5, 0.5, 0.5, 0.5, 0.5]\n",
            "Número de Sisemas: 5\n",
            "Fator:  [0.3296799539643607, 0.7768698398515702, 0.3934693402873666, 0.7768698398515702, 0.7768698398515702, 0.7768698398515702, 0.7768698398515702, 0.6321205588285577, 0.6321205588285577, 0.6321205588285577, 0.6321205588285577, 0.6321205588285577, 0.6321205588285577]\n",
            "Media de falhas:  [0, 1649.16224, 80837.26976309544, 68071304.90121098, 92190498.75678344, 93985428.0193001, 96304341.36004515, 96933392.00405937, 104546680.74949937, 115789299.75771467, 162705598.86255005, 608873178.2091126, 763660651.1553723, 2538253828.052378]\n",
            "Custo =  94790896169.293\n"
          ]
        },
        {
          "output_type": "stream",
          "name": "stderr",
          "text": [
            "pyswarms.single.global_best:   0%|          |0/1, best_cost=4.51e+10"
          ]
        },
        {
          "output_type": "stream",
          "name": "stdout",
          "text": [
            "\n",
            "=========================================================================\n",
            "\n",
            "Número de ciclos de manutenção: 13 5\n",
            "Tempos para manutenções preventivas: [0, 22, 54, 119, 227, 255, 285, 320, 333, 378, 392, 434, 550, 587]\n",
            "Severidade para cada subsistema: [0.75, 0.25, 0.25, 0.75, 0.75, 0.25, 0.75, 0.5, 0.5, 0.5, 0.5, 0.75, 0.5]\n",
            "Número de Sisemas: 5\n",
            "Fator:  [0.3296799539643607, 0.7768698398515702, 0.3934693402873666, 0.3934693402873666, 0.7768698398515702, 0.7768698398515702, 0.3934693402873666, 0.7768698398515702, 0.6321205588285577, 0.6321205588285577, 0.6321205588285577, 0.6321205588285577, 0.7768698398515702, 0.6321205588285577]\n",
            "Media de falhas:  [0, 1649.16224, 72862.54491475654, 941713.3326073374, 61079188.751790926, 85198382.60736339, 86593191.09976688, 89241394.27633208, 122986439.26737666, 129995566.19390832, 140236639.35902706, 191918187.10310298, 668068960.8427339, 810840167.1630696, 1292501689.7823408]\n",
            "Custo =  70405175280.9436\n"
          ]
        },
        {
          "output_type": "stream",
          "name": "stderr",
          "text": [
            "\rpyswarms.single.global_best: 100%|██████████|1/1, best_cost=4.51e+10\n",
            "2023-09-01 02:59:40,689 - pyswarms.single.global_best - INFO - Optimization finished | best cost: 45053182833.53519, best pos: [5.75738186 1.78854222 4.71302991 1.92115057 4.864181   0.5739075\n",
            " 5.07973641 5.60088742 5.5264708  2.12948714 5.68810054 3.14057178\n",
            " 3.64910303 3.05812377 3.54169352 2.57986483 2.24147508 4.24221251\n",
            " 6.26053881 3.56238666 4.21807157 2.38053399 2.60614178 4.11616258]\n",
            "2023-09-01 02:59:40,690 - pyswarms.single.global_best - INFO - Optimize for 1 iters with {'c1': 0.5, 'c2': 0.3, 'w': 0.9}\n",
            "pyswarms.single.global_best: 100%|██████████|1/1, best_cost=4.51e+10\n",
            "2023-09-01 02:59:40,700 - pyswarms.single.global_best - INFO - Optimization finished | best cost: 45053182833.53519, best pos: [5.75735542 1.78865064 4.71303328 1.92114884 4.86412834 0.57390706\n",
            " 5.07972756 5.6007119  5.52574784 5.78736743 5.68810234 3.14065491\n",
            " 3.64908152 3.05819542 3.54171145 2.58009366 2.24150073 4.24239038\n",
            " 1.0580324  3.56233012 4.21810407 2.38053687 2.60613757 4.11614938]\n",
            "2023-09-01 02:59:40,702 - pyswarms.single.global_best - INFO - Optimize for 1 iters with {'c1': 0.5, 'c2': 0.3, 'w': 0.9}\n"
          ]
        },
        {
          "output_type": "stream",
          "name": "stdout",
          "text": [
            "\n",
            "=========================================================================\n",
            "\n",
            "Número de ciclos de manutenção: 12 5\n",
            "Tempos para manutenções preventivas: [0, 22, 54, 118, 227, 255, 277, 320, 334, 378, 390, 435, 587]\n",
            "Severidade para cada subsistema: [0.75, 0.25, 0.25, 0.75, 0.75, 0.75, 0.75, 0.5, 0.5, 0.5, 0.5, 0.5]\n",
            "Número de Sisemas: 5\n",
            "Fator:  [0.3296799539643607, 0.7768698398515702, 0.3934693402873666, 0.3934693402873666, 0.7768698398515702, 0.7768698398515702, 0.7768698398515702, 0.7768698398515702, 0.6321205588285577, 0.6321205588285577, 0.6321205588285577, 0.6321205588285577, 0.6321205588285577]\n",
            "Media de falhas:  [0, 1649.16224, 72862.54491475654, 886769.9016743407, 61716530.72994579, 85835724.58551824, 86623226.13160685, 90381311.36249228, 91241163.39091314, 97990796.506844, 106520950.3263925, 163169220.54904845, 1076073054.2135873, 2832542073.892027]\n",
            "Custo =  88124576001.81763\n"
          ]
        },
        {
          "output_type": "stream",
          "name": "stderr",
          "text": [
            "pyswarms.single.global_best:   0%|          |0/1, best_cost=4.51e+10"
          ]
        },
        {
          "output_type": "stream",
          "name": "stdout",
          "text": [
            "\n",
            "=========================================================================\n",
            "\n",
            "Número de ciclos de manutenção: 12 5\n",
            "Tempos para manutenções preventivas: [0, 22, 53, 116, 179, 228, 255, 289, 320, 335, 378, 436, 587]\n",
            "Severidade para cada subsistema: [0.75, 0.25, 0.25, 0.5, 0.75, 0.75, 0.25, 0.75, 0.5, 0.5, 0.5, 0.5]\n",
            "Número de Sisemas: 5\n",
            "Fator:  [0.3296799539643607, 0.7768698398515702, 0.3934693402873666, 0.3934693402873666, 0.6321205588285577, 0.7768698398515702, 0.7768698398515702, 0.3934693402873666, 0.7768698398515702, 0.6321205588285577, 0.6321205588285577, 0.6321205588285577, 0.6321205588285577]\n",
            "Media de falhas:  [0, 1649.16224, 65541.76579741901, 816069.6870046268, 13761396.026915303, 40016002.32883572, 44049790.9134533, 45844720.17596997, 48027817.7831033, 87773167.42178631, 94269606.46493417, 172718104.66311628, 1075685711.8047779, 2832154731.4832172]\n",
            "Custo =  93776807397.68967\n"
          ]
        },
        {
          "output_type": "stream",
          "name": "stderr",
          "text": [
            "\rpyswarms.single.global_best: 100%|██████████|1/1, best_cost=4.51e+10\n",
            "2023-09-01 02:59:40,712 - pyswarms.single.global_best - INFO - Optimization finished | best cost: 45053182833.53519, best pos: [5.75734723 1.78874991 4.71298369 1.92114759 4.86407311 0.57390823\n",
            " 5.07972065 5.60044917 5.5250423  2.07136424 5.68810312 3.14068498\n",
            " 3.64906422 3.05817257 3.54172451 2.58023163 2.24152046 4.24221792\n",
            " 3.05080398 3.56229222 4.21816982 2.38053625 2.60616052 4.11612403]\n",
            "2023-09-01 02:59:40,714 - pyswarms.single.global_best - INFO - Optimize for 1 iters with {'c1': 0.5, 'c2': 0.3, 'w': 0.9}\n",
            "pyswarms.single.global_best:   0%|          |0/1, best_cost=4.51e+10"
          ]
        },
        {
          "output_type": "stream",
          "name": "stdout",
          "text": [
            "\n",
            "=========================================================================\n",
            "\n",
            "Número de ciclos de manutenção: 11 5\n",
            "Tempos para manutenções preventivas: [0, 22, 53, 115, 228, 255, 282, 319, 335, 378, 437, 587]\n",
            "Severidade para cada subsistema: [0.75, 0.25, 0.25, 0.75, 0.75, 0.75, 0.75, 0.5, 0.5, 0.5, 0.5]\n",
            "Número de Sisemas: 5\n",
            "Fator:  [0.3296799539643607, 0.7768698398515702, 0.3934693402873666, 0.3934693402873666, 0.7768698398515702, 0.7768698398515702, 0.7768698398515702, 0.7768698398515702, 0.6321205588285577, 0.6321205588285577, 0.6321205588285577, 0.6321205588285577]\n",
            "Media de falhas:  [0, 1649.16224, 65541.76579741901, 767235.9500056107, 65469166.704287134, 88764402.42543945, 89903762.14411558, 92775777.801338, 93802507.5118775, 100298946.55502537, 181184738.08370093, 1074289762.3914018, 2830758782.0698414]\n",
            "Custo =  85567498497.67462\n"
          ]
        },
        {
          "output_type": "stream",
          "name": "stderr",
          "text": [
            "\rpyswarms.single.global_best: 100%|██████████|1/1, best_cost=4.51e+10\n",
            "2023-09-01 02:59:40,726 - pyswarms.single.global_best - INFO - Optimization finished | best cost: 45053182833.53519, best pos: [5.75736811 1.78882478 4.71293385 1.92114664 4.8640253  0.57391065\n",
            " 5.07971992 5.60017289 5.52442911 5.99383525 5.68810287 3.14064766\n",
            " 3.64905271 3.05813205 3.54173447 2.58017211 2.24152923 4.24179259\n",
            " 5.29297208 3.56231131 4.21825786 2.38053198 2.6061935  4.11610003]\n",
            "2023-09-01 02:59:40,727 - pyswarms.single.global_best - INFO - Optimize for 1 iters with {'c1': 0.5, 'c2': 0.3, 'w': 0.9}\n",
            "pyswarms.single.global_best: 100%|██████████|1/1, best_cost=4.51e+10\n",
            "2023-09-01 02:59:40,737 - pyswarms.single.global_best - INFO - Optimization finished | best cost: 45053182833.53519, best pos: [5.75739864 1.78887358 4.71288177 1.92114662 4.86398478 0.57391338\n",
            " 5.07972742 5.59992127 5.52390491 2.4619224  5.6881022  3.14058045\n",
            " 3.64904301 3.05805232 3.54173844 2.57993885 2.24153214 4.24105913\n",
            " 0.28624523 3.56241601 4.21833832 2.38052804 2.60622394 4.11606862]\n"
          ]
        },
        {
          "output_type": "stream",
          "name": "stdout",
          "text": [
            "\n",
            "=========================================================================\n",
            "\n",
            "Número de ciclos de manutenção: 13 5\n",
            "Tempos para manutenções preventivas: [0, 22, 52, 114, 172, 183, 228, 256, 293, 319, 336, 378, 437, 587]\n",
            "Severidade para cada subsistema: [0.75, 0.25, 0.25, 0.5, 0.75, 0.75, 0.75, 0.25, 0.75, 0.5, 0.5, 0.5, 0.5]\n",
            "Número de Sisemas: 5\n",
            "Fator:  [0.3296799539643607, 0.7768698398515702, 0.3934693402873666, 0.3934693402873666, 0.6321205588285577, 0.7768698398515702, 0.7768698398515702, 0.7768698398515702, 0.3934693402873666, 0.7768698398515702, 0.6321205588285577, 0.6321205588285577, 0.6321205588285577, 0.6321205588285577]\n",
            "Media de falhas:  [0, 1649.16224, 58833.86286607602, 749993.620426842, 10876799.799176533, 13449941.89886587, 18728434.51087158, 19596197.727768466, 21765285.90669437, 23421722.48914281, 68854195.09788063, 75103612.97933742, 155989404.50801298, 1049094428.8157139, 2805563448.4941535]\n",
            "Custo =  92486198509.608\n"
          ]
        },
        {
          "output_type": "stream",
          "name": "stderr",
          "text": [
            "2023-09-01 02:59:40,739 - pyswarms.single.global_best - INFO - Optimize for 1 iters with {'c1': 0.5, 'c2': 0.3, 'w': 0.9}\n",
            "pyswarms.single.global_best: 100%|██████████|1/1, best_cost=4.51e+10"
          ]
        },
        {
          "output_type": "stream",
          "name": "stdout",
          "text": [
            "\n",
            "=========================================================================\n",
            "\n",
            "Número de ciclos de manutenção: 11 5\n",
            "Tempos para manutenções preventivas: [0, 22, 52, 114, 186, 229, 256, 319, 336, 378, 437, 587]\n",
            "Severidade para cada subsistema: [0.75, 0.25, 0.25, 0.75, 0.75, 0.75, 0.75, 0.5, 0.5, 0.5, 0.5]\n",
            "Número de Sisemas: 5\n",
            "Fator:  [0.3296799539643607, 0.7768698398515702, 0.3934693402873666, 0.3934693402873666, 0.7768698398515702, 0.7768698398515702, 0.7768698398515702, 0.7768698398515702, 0.6321205588285577, 0.6321205588285577, 0.6321205588285577, 0.6321205588285577]\n",
            "Media de falhas:  [0, 1649.16224, 58833.86286607602, 749993.620426842, 18169676.086950418, 41711561.95195016, 42529745.353303395, 50338102.95729483, 51459395.63515123, 57708813.51660802, 138594605.0452836, 1031699629.3529844, 2788168649.031424]\n",
            "Custo =  83118134940.38605\n"
          ]
        },
        {
          "output_type": "stream",
          "name": "stderr",
          "text": [
            "\n",
            "2023-09-01 02:59:40,755 - pyswarms.single.global_best - INFO - Optimization finished | best cost: 45053182833.53519, best pos: [5.75748126 1.78889038 4.71282627 1.92114749 4.86397439 0.57391609\n",
            " 5.07973934 5.59972892 5.52375572 5.66227192 5.68809972 3.14051521\n",
            " 3.6490475  3.05790996 3.54174103 2.57960079 2.24152898 4.24010109\n",
            " 2.37604171 3.56252805 4.21839952 2.38052362 2.60625246 4.11603781]\n",
            "2023-09-01 02:59:40,756 - pyswarms.single.global_best - INFO - Optimize for 1 iters with {'c1': 0.5, 'c2': 0.3, 'w': 0.9}\n",
            "pyswarms.single.global_best: 100%|██████████|1/1, best_cost=4.51e+10\n",
            "2023-09-01 02:59:40,768 - pyswarms.single.global_best - INFO - Optimization finished | best cost: 45053182833.53519, best pos: [5.75758333 1.78883826 4.71277627 1.92114875 4.86399142 0.57391849\n",
            " 5.07975269 5.59957872 5.52403307 1.51416534 5.68809661 3.14044705\n",
            " 3.6490526  3.05776721 3.5417364  2.57927976 2.24151818 4.23919605\n",
            " 4.61995452 3.56265445 4.21844344 2.38051895 2.60627692 4.11601414]\n",
            "2023-09-01 02:59:40,769 - pyswarms.single.global_best - INFO - Optimize for 1 iters with {'c1': 0.5, 'c2': 0.3, 'w': 0.9}\n"
          ]
        },
        {
          "output_type": "stream",
          "name": "stdout",
          "text": [
            "\n",
            "=========================================================================\n",
            "\n",
            "Número de ciclos de manutenção: 11 5\n",
            "Tempos para manutenções preventivas: [0, 23, 52, 114, 189, 229, 256, 319, 336, 379, 437, 586]\n",
            "Severidade para cada subsistema: [0.75, 0.25, 0.25, 0.75, 0.75, 0.75, 0.75, 0.5, 0.5, 0.5, 0.5]\n",
            "Número de Sisemas: 5\n",
            "Fator:  [0.3296799539643607, 0.7768698398515702, 0.3934693402873666, 0.3934693402873666, 0.7768698398515702, 0.7768698398515702, 0.7768698398515702, 0.7768698398515702, 0.6321205588285577, 0.6321205588285577, 0.6321205588285577, 0.6321205588285577]\n",
            "Media de falhas:  [0, 2059.6297600000003, 57104.910612010346, 748264.6681727763, 20155676.900928263, 42114028.83120297, 42932212.2325562, 50740569.836547635, 51861862.514404036, 58415978.13588116, 137534107.5535271, 1015812450.4275849, 2790405627.3245907]\n",
            "Custo =  83102560510.3875\n"
          ]
        },
        {
          "output_type": "stream",
          "name": "stderr",
          "text": [
            "pyswarms.single.global_best: 100%|██████████|1/1, best_cost=4.51e+10\n",
            "2023-09-01 02:59:40,785 - pyswarms.single.global_best - INFO - Optimization finished | best cost: 45053182833.53519, best pos: [5.75767951 1.78874212 4.7127404  1.9211501  4.86401589 0.57391996\n",
            " 5.07976389 5.59944473 5.52462342 4.77498813 5.68809363 3.14038793\n",
            " 3.6490604  3.05764167 3.54172452 2.57901037 2.24149643 4.23842133\n",
            " 6.64789557 3.56276043 4.21845714 2.38051481 2.60628997 4.11599476]\n",
            "2023-09-01 02:59:40,786 - pyswarms.single.global_best - INFO - Optimize for 1 iters with {'c1': 0.5, 'c2': 0.3, 'w': 0.9}\n"
          ]
        },
        {
          "output_type": "stream",
          "name": "stdout",
          "text": [
            "\n",
            "=========================================================================\n",
            "\n",
            "Número de ciclos de manutenção: 13 5\n",
            "Tempos para manutenções preventivas: [0, 23, 52, 115, 190, 228, 256, 294, 320, 335, 379, 437, 540, 586]\n",
            "Severidade para cada subsistema: [0.75, 0.25, 0.25, 0.75, 0.75, 0.75, 0.5, 0.75, 0.5, 0.5, 0.5, 0.75, 0.5]\n",
            "Número de Sisemas: 5\n",
            "Fator:  [0.3296799539643607, 0.7768698398515702, 0.3934693402873666, 0.3934693402873666, 0.7768698398515702, 0.7768698398515702, 0.7768698398515702, 0.6321205588285577, 0.7768698398515702, 0.6321205588285577, 0.6321205588285577, 0.6321205588285577, 0.7768698398515702, 0.6321205588285577]\n",
            "Media de falhas:  [0, 2059.6297600000003, 57104.910612010346, 796514.6613221762, 20603845.47505094, 41140804.538235724, 42008567.75513261, 44305918.60021591, 45980800.553082846, 51924154.74436972, 58733431.85627977, 137851561.2739257, 512017173.1944628, 693506028.8080213, 1182315786.5994978]\n",
            "Custo =  55447277100.83074\n"
          ]
        },
        {
          "output_type": "stream",
          "name": "stderr",
          "text": [
            "pyswarms.single.global_best: 100%|██████████|1/1, best_cost=4.51e+10\n",
            "2023-09-01 02:59:40,800 - pyswarms.single.global_best - INFO - Optimization finished | best cost: 45053182833.53519, best pos: [5.75776829 1.78864444 4.71272735 1.92115131 4.86404831 0.57392049\n",
            " 5.07977352 5.5994114  5.5251787  0.75247817 5.6880916  3.1403504\n",
            " 3.64907591 3.05754825 3.54171241 2.57890807 2.2414754  4.23783998\n",
            " 1.21465644 3.56282339 4.21845768 2.38051214 2.60629862 4.1159861 ]\n",
            "2023-09-01 02:59:40,802 - pyswarms.single.global_best - INFO - Optimize for 1 iters with {'c1': 0.5, 'c2': 0.3, 'w': 0.9}\n"
          ]
        },
        {
          "output_type": "stream",
          "name": "stdout",
          "text": [
            "\n",
            "=========================================================================\n",
            "\n",
            "Número de ciclos de manutenção: 12 5\n",
            "Tempos para manutenções preventivas: [0, 23, 53, 116, 190, 228, 256, 320, 335, 379, 390, 436, 586]\n",
            "Severidade para cada subsistema: [0.75, 0.25, 0.25, 0.75, 0.75, 0.75, 0.75, 0.5, 0.5, 0.5, 0.5, 0.5]\n",
            "Número de Sisemas: 5\n",
            "Fator:  [0.3296799539643607, 0.7768698398515702, 0.3934693402873666, 0.3934693402873666, 0.7768698398515702, 0.7768698398515702, 0.7768698398515702, 0.7768698398515702, 0.6321205588285577, 0.6321205588285577, 0.6321205588285577, 0.6321205588285577, 0.6321205588285577]\n",
            "Media de falhas:  [0, 2059.6297600000003, 63619.46225405629, 814147.3834612641, 20323216.05028448, 40860175.11346926, 41727938.33036614, 49875008.437747434, 50821988.00729078, 57631265.119200826, 65417920.094376, 124106635.4870082, 1012126362.1203351, 2786719539.017341]\n",
            "Custo =  85686920280.22919\n"
          ]
        },
        {
          "output_type": "stream",
          "name": "stderr",
          "text": [
            "pyswarms.single.global_best: 100%|██████████|1/1, best_cost=4.51e+10"
          ]
        },
        {
          "output_type": "stream",
          "name": "stdout",
          "text": [
            "\n",
            "=========================================================================\n",
            "\n",
            "Número de ciclos de manutenção: 14 5\n",
            "Tempos para manutenções preventivas: [0, 23, 53, 117, 179, 189, 228, 256, 320, 334, 379, 391, 436, 558, 586]\n",
            "Severidade para cada subsistema: [0.75, 0.25, 0.25, 0.75, 0.75, 0.75, 0.75, 0.75, 0.5, 0.5, 0.5, 0.5, 0.25, 0.5]\n",
            "Número de Sisemas: 5\n",
            "Fator:  [0.3296799539643607, 0.7768698398515702, 0.3934693402873666, 0.3934693402873666, 0.7768698398515702, 0.7768698398515702, 0.7768698398515702, 0.7768698398515702, 0.7768698398515702, 0.6321205588285577, 0.6321205588285577, 0.6321205588285577, 0.6321205588285577, 0.3934693402873666, 0.6321205588285577]\n",
            "Media de falhas:  [0, 2059.6297600000003, 63619.46225405629, 865662.600554395, 13588852.860127583, 16260872.596617656, 17345830.16195651, 18213593.378853396, 26360663.486234687, 27220515.514655545, 34291289.058117986, 42908156.61584866, 100051358.643938, 640776457.2811, 745194591.5971361, 8872917027.056612]\n",
            "Custo =  269934298299.59265\n"
          ]
        },
        {
          "output_type": "stream",
          "name": "stderr",
          "text": [
            "\n",
            "2023-09-01 02:59:40,823 - pyswarms.single.global_best - INFO - Optimization finished | best cost: 45053182833.53519, best pos: [5.75785418 1.78855797 4.71273401 1.92115209 4.86408037 0.57392025\n",
            " 5.07977581 5.5995458  5.52570293 3.55867584 5.6880908  3.14034239\n",
            " 3.64909106 3.05748048 3.54169799 2.57895705 2.24145648 4.23758671\n",
            " 3.74209354 3.56284324 4.21841747 2.38051102 2.60630023 4.11599284]\n",
            "2023-09-01 02:59:40,827 - pyswarms.single.global_best - INFO - Optimize for 1 iters with {'c1': 0.5, 'c2': 0.3, 'w': 0.9}\n",
            "pyswarms.single.global_best: 100%|██████████|1/1, best_cost=4.51e+10"
          ]
        },
        {
          "output_type": "stream",
          "name": "stdout",
          "text": [
            "\n",
            "=========================================================================\n",
            "\n",
            "Número de ciclos de manutenção: 14 5\n",
            "Tempos para manutenções preventivas: [0, 23, 53, 118, 187, 227, 255, 276, 320, 334, 379, 393, 435, 568, 586]\n",
            "Severidade para cada subsistema: [0.75, 0.25, 0.25, 0.75, 0.75, 0.75, 0.75, 0.75, 0.5, 0.5, 0.5, 0.5, 0.5, 0.5]\n",
            "Número de Sisemas: 5\n",
            "Fator:  [0.3296799539643607, 0.7768698398515702, 0.3934693402873666, 0.3934693402873666, 0.7768698398515702, 0.7768698398515702, 0.7768698398515702, 0.7768698398515702, 0.7768698398515702, 0.6321205588285577, 0.6321205588285577, 0.6321205588285577, 0.6321205588285577, 0.6321205588285577, 0.6321205588285577]\n",
            "Media de falhas:  [0, 2059.6297600000003, 63619.46225405629, 919968.2431685146, 17883010.77742008, 39077033.82856633, 39933428.7330322, 40660482.62178612, 44575959.176919386, 45435811.205340244, 52506584.748802684, 62850988.224888325, 114987136.37522742, 772744776.4555181, 837959064.8489683, 2612552241.7459745]\n",
            "Custo =  96144396220.62306\n"
          ]
        },
        {
          "output_type": "stream",
          "name": "stderr",
          "text": [
            "\n",
            "2023-09-01 02:59:40,851 - pyswarms.single.global_best - INFO - Optimization finished | best cost: 45053182833.53519, best pos: [5.75793488 1.78849823 4.71276325 1.92115267 4.8641093  0.5739195\n",
            " 5.07977132 5.59981784 5.52612838 6.39104992 5.6880911  3.14035757\n",
            " 3.64910469 3.05749607 3.54168497 2.57905355 2.24144238 4.23783282\n",
            " 6.05751774 3.56281829 4.21837145 2.38051155 2.60628552 4.11600785]\n",
            "2023-09-01 02:59:40,857 - pyswarms.single.global_best - INFO - Optimize for 1 iters with {'c1': 0.5, 'c2': 0.3, 'w': 0.9}\n",
            "pyswarms.single.global_best: 100%|██████████|1/1, best_cost=4.51e+10"
          ]
        },
        {
          "output_type": "stream",
          "name": "stdout",
          "text": [
            "\n",
            "=========================================================================\n",
            "\n",
            "Número de ciclos de manutenção: 13 5\n",
            "Tempos para manutenções preventivas: [0, 22, 53, 119, 171, 185, 227, 255, 321, 333, 379, 394, 435, 586]\n",
            "Severidade para cada subsistema: [0.75, 0.25, 0.25, 0.75, 0.75, 0.75, 0.75, 0.75, 0.5, 0.5, 0.5, 0.5, 0.5]\n",
            "Número de Sisemas: 5\n",
            "Fator:  [0.3296799539643607, 0.7768698398515702, 0.3934693402873666, 0.3934693402873666, 0.7768698398515702, 0.7768698398515702, 0.7768698398515702, 0.7768698398515702, 0.7768698398515702, 0.6321205588285577, 0.6321205588285577, 0.6321205588285577, 0.6321205588285577, 0.6321205588285577]\n",
            "Media de falhas:  [0, 1649.16224, 65541.76579741901, 979098.4719883613, 9800672.84222232, 13193492.88787514, 14436967.264122508, 15293362.168588378, 24074289.544075526, 24779736.689939775, 32118470.56877565, 43361089.57699096, 94021433.61390115, 991855446.1625091, 2766448623.059515]\n",
            "Custo =  84376561578.11938\n"
          ]
        },
        {
          "output_type": "stream",
          "name": "stderr",
          "text": [
            "\n",
            "2023-09-01 02:59:40,877 - pyswarms.single.global_best - INFO - Optimization finished | best cost: 45053182833.53519, best pos: [5.75799999 1.78847804 4.71279672 1.92115285 4.86413419 0.5739188\n",
            " 5.07976405 5.60012914 5.52634111 1.88292139 5.68809178 3.14039469\n",
            " 3.64911634 3.05755143 3.54167566 2.57920469 2.24143442 4.23812453\n",
            " 1.00784477 3.5627626  4.21831128 2.38051244 2.60626874 4.11603058]\n",
            "2023-09-01 02:59:40,878 - pyswarms.single.global_best - INFO - Optimize for 1 iters with {'c1': 0.5, 'c2': 0.3, 'w': 0.9}\n",
            "pyswarms.single.global_best:   0%|          |0/1, best_cost=4.51e+10"
          ]
        },
        {
          "output_type": "stream",
          "name": "stdout",
          "text": [
            "\n",
            "=========================================================================\n",
            "\n",
            "Número de ciclos de manutenção: 12 5\n",
            "Tempos para manutenções preventivas: [0, 22, 54, 182, 227, 255, 282, 321, 333, 379, 394, 435, 586]\n",
            "Severidade para cada subsistema: [0.75, 0.25, 0.75, 0.75, 0.75, 0.5, 0.75, 0.5, 0.5, 0.5, 0.5, 0.5]\n",
            "Número de Sisemas: 5\n",
            "Fator:  [0.3296799539643607, 0.7768698398515702, 0.3934693402873666, 0.7768698398515702, 0.7768698398515702, 0.7768698398515702, 0.6321205588285577, 0.7768698398515702, 0.6321205588285577, 0.6321205588285577, 0.6321205588285577, 0.6321205588285577, 0.6321205588285577]\n",
            "Media de falhas:  [0, 1649.16224, 72862.54491475654, 17313306.146103155, 41057818.22193409, 41914213.12639996, 43053572.84507609, 46257628.78926468, 50831300.90142329, 58170034.78025916, 69412653.78847447, 120072997.82538466, 1017907010.3739926, 2792500187.2709985]\n",
            "Custo =  86459498487.04373\n"
          ]
        },
        {
          "output_type": "stream",
          "name": "stderr",
          "text": [
            "\rpyswarms.single.global_best: 100%|██████████|1/1, best_cost=4.51e+10\n",
            "2023-09-01 02:59:40,892 - pyswarms.single.global_best - INFO - Optimization finished | best cost: 45053182833.53519, best pos: [5.75804088 1.78846386 4.71283237 1.92115262 4.86415017 0.57391762\n",
            " 5.07975347 5.60040289 5.5265139  4.82969145 5.68809311 3.14044547\n",
            " 3.64912178 3.05761342 3.5416709  2.57939189 2.24143535 4.23842492\n",
            " 3.48291768 3.56267611 4.21825073 2.38051343 2.60625272 4.11605545]\n",
            "2023-09-01 02:59:40,895 - pyswarms.single.global_best - INFO - Optimize for 1 iters with {'c1': 0.5, 'c2': 0.3, 'w': 0.9}\n",
            "pyswarms.single.global_best:   0%|          |0/1, best_cost=4.51e+10"
          ]
        },
        {
          "output_type": "stream",
          "name": "stdout",
          "text": [
            "\n",
            "=========================================================================\n",
            "\n",
            "Número de ciclos de manutenção: 13 5\n",
            "Tempos para manutenções preventivas: [0, 22, 54, 119, 180, 227, 255, 321, 333, 379, 394, 435, 541, 586]\n",
            "Severidade para cada subsistema: [0.75, 0.25, 0.25, 0.75, 0.75, 0.75, 0.75, 0.5, 0.5, 0.5, 0.5, 0.5, 0.5]\n",
            "Número de Sisemas: 5\n",
            "Fator:  [0.3296799539643607, 0.7768698398515702, 0.3934693402873666, 0.3934693402873666, 0.7768698398515702, 0.7768698398515702, 0.7768698398515702, 0.7768698398515702, 0.6321205588285577, 0.6321205588285577, 0.6321205588285577, 0.6321205588285577, 0.6321205588285577, 0.6321205588285577]\n",
            "Media de falhas:  [0, 1649.16224, 72862.54491475654, 941713.3326073374, 13720864.141904144, 38488857.38472929, 39345252.28919516, 48126179.66468231, 48831626.810546555, 56170360.68938243, 67412979.69759774, 118073323.73450793, 510856519.9182154, 687820399.229474, 2462413576.12648]\n",
            "Custo =  92323271935.65689\n"
          ]
        },
        {
          "output_type": "stream",
          "name": "stderr",
          "text": [
            "\rpyswarms.single.global_best: 100%|██████████|1/1, best_cost=4.51e+10\n",
            "2023-09-01 02:59:41,077 - pyswarms.single.global_best - INFO - Optimization finished | best cost: 45053182833.53519, best pos: [5.75804216 1.78850903 4.71286397 1.92115222 4.86414684 0.5739165\n",
            " 5.07974281 5.60058723 5.5266142  0.50869905 5.68809473 3.1404914\n",
            " 3.64912419 3.0577255  3.54166708 2.57958026 2.24144274 4.23893712\n",
            " 5.96794762 3.56259594 4.21820161 2.38051499 2.60623759 4.11607764]\n",
            "2023-09-01 02:59:41,078 - pyswarms.single.global_best - INFO - Optimize for 1 iters with {'c1': 0.5, 'c2': 0.3, 'w': 0.9}\n",
            "pyswarms.single.global_best: 100%|██████████|1/1, best_cost=4.51e+10\n",
            "2023-09-01 02:59:41,097 - pyswarms.single.global_best - INFO - Optimization finished | best cost: 45053182833.53519, best pos: [5.75801728 1.78859262 4.71289229 1.92115153 4.86412797 0.57391505\n",
            " 5.07973348 5.60074631 5.52639824 4.24499105 5.68809633 3.14053186\n",
            " 3.64912463 3.05784545 3.54167085 2.57973649 2.24144995 4.23963246\n",
            " 1.06426889 3.56252729 4.21817568 2.38051728 2.60622386 4.11609379]\n"
          ]
        },
        {
          "output_type": "stream",
          "name": "stdout",
          "text": [
            "\n",
            "=========================================================================\n",
            "\n",
            "Número de ciclos de manutenção: 12 5\n",
            "Tempos para manutenções preventivas: [0, 22, 54, 119, 227, 255, 298, 321, 333, 379, 393, 435, 587]\n",
            "Severidade para cada subsistema: [0.75, 0.25, 0.25, 0.75, 0.75, 0.25, 0.75, 0.5, 0.5, 0.5, 0.5, 0.5]\n",
            "Número de Sisemas: 5\n",
            "Fator:  [0.3296799539643607, 0.7768698398515702, 0.3934693402873666, 0.3934693402873666, 0.7768698398515702, 0.7768698398515702, 0.3934693402873666, 0.7768698398515702, 0.6321205588285577, 0.6321205588285577, 0.6321205588285577, 0.6321205588285577, 0.6321205588285577]\n",
            "Media de falhas:  [0, 1649.16224, 72862.54491475654, 941713.3326073374, 61079188.751790926, 85198382.60736339, 88191298.20237127, 89612285.52468666, 120818044.1753986, 128156778.05423447, 138501181.5303201, 190637329.6806592, 1103541163.3451982, 2860010183.023638]\n",
            "Custo =  98377871135.504\n"
          ]
        },
        {
          "output_type": "stream",
          "name": "stderr",
          "text": [
            "2023-09-01 02:59:41,098 - pyswarms.single.global_best - INFO - Optimize for 1 iters with {'c1': 0.5, 'c2': 0.3, 'w': 0.9}\n",
            "pyswarms.single.global_best: 100%|██████████|1/1, best_cost=4.51e+10"
          ]
        },
        {
          "output_type": "stream",
          "name": "stdout",
          "text": [
            "\n",
            "=========================================================================\n",
            "\n",
            "Número de ciclos de manutenção: 12 5\n",
            "Tempos para manutenções preventivas: [0, 22, 54, 118, 162, 227, 255, 320, 333, 379, 392, 435, 587]\n",
            "Severidade para cada subsistema: [0.75, 0.25, 0.25, 0.75, 0.75, 0.75, 0.75, 0.5, 0.5, 0.5, 0.5, 0.5]\n",
            "Número de Sisemas: 5\n",
            "Fator:  [0.3296799539643607, 0.7768698398515702, 0.3934693402873666, 0.3934693402873666, 0.7768698398515702, 0.7768698398515702, 0.7768698398515702, 0.7768698398515702, 0.6321205588285577, 0.6321205588285577, 0.6321205588285577, 0.6321205588285577, 0.6321205588285577]\n",
            "Media de falhas:  [0, 1649.16224, 72862.54491475654, 886769.9016743407, 6883457.810411961, 41065283.94392071, 41921678.84838658, 50343490.45854187, 51120201.59988159, 58458935.47871746, 67928238.14622496, 121554182.31114301, 1034458015.9756819, 2790927035.6541214]\n",
            "Custo =  85284347162.60654\n"
          ]
        },
        {
          "output_type": "stream",
          "name": "stderr",
          "text": [
            "\n",
            "2023-09-01 02:59:41,120 - pyswarms.single.global_best - INFO - Optimization finished | best cost: 45053182833.53519, best pos: [5.75799214 1.78867929 4.71291286 1.92115078 4.86410514 0.57391372\n",
            " 5.07972739 5.60083527 5.52610046 0.8529537  5.68809775 3.14056081\n",
            " 3.64912334 3.05795284 3.54167471 2.57983788 2.24146049 4.24026409\n",
            " 3.44897202 3.56248953 4.21816183 2.3805197  2.60621173 4.11610292]\n",
            "2023-09-01 02:59:41,174 - pyswarms.single.global_best - INFO - Optimize for 1 iters with {'c1': 0.5, 'c2': 0.3, 'w': 0.9}\n",
            "pyswarms.single.global_best: 100%|██████████|1/1, best_cost=4.51e+10\n",
            "2023-09-01 02:59:41,432 - pyswarms.single.global_best - INFO - Optimization finished | best cost: 45053182833.53519, best pos: [5.75794845 1.78875341 4.71291451 1.92115001 4.86408025 0.57391274\n",
            " 5.07972657 5.6007416  5.52581321 4.51650996 5.68809893 3.14056594\n",
            " 3.64911841 3.05804625 3.54168092 2.57989311 2.24147043 4.24075368\n",
            " 5.69680828 3.56249225 4.21815291 2.38052185 2.60620272 4.11610134]\n",
            "2023-09-01 02:59:41,435 - pyswarms.single.global_best - INFO - Optimize for 1 iters with {'c1': 0.5, 'c2': 0.3, 'w': 0.9}\n"
          ]
        },
        {
          "output_type": "stream",
          "name": "stdout",
          "text": [
            "\n",
            "=========================================================================\n",
            "\n",
            "Número de ciclos de manutenção: 11 5\n",
            "Tempos para manutenções preventivas: [0, 22, 54, 117, 227, 255, 320, 333, 379, 391, 435, 587]\n",
            "Severidade para cada subsistema: [0.75, 0.25, 0.25, 0.75, 0.75, 0.75, 0.5, 0.5, 0.5, 0.5, 0.5]\n",
            "Número de Sisemas: 5\n",
            "Fator:  [0.3296799539643607, 0.7768698398515702, 0.3934693402873666, 0.3934693402873666, 0.7768698398515702, 0.7768698398515702, 0.7768698398515702, 0.6321205588285577, 0.6321205588285577, 0.6321205588285577, 0.6321205588285577, 0.6321205588285577]\n",
            "Media de falhas:  [0, 1649.16224, 72862.54491475654, 834641.6012444692, 62361658.35008051, 86480852.20565298, 94902663.81580827, 95679374.95714799, 103018108.83598386, 111634976.39371453, 166764897.79405636, 1079668731.4585953, 2836137751.137035]\n",
            "Custo =  88175805880.30537\n"
          ]
        },
        {
          "output_type": "stream",
          "name": "stderr",
          "text": [
            "pyswarms.single.global_best: 100%|██████████|1/1, best_cost=4.51e+10\n",
            "2023-09-01 02:59:41,457 - pyswarms.single.global_best - INFO - Optimization finished | best cost: 45053182833.53519, best pos: [5.7579041  1.78879993 4.71290352 1.92114933 4.86405844 0.57391191\n",
            " 5.07972662 5.6005187  5.52552153 0.88809726 5.68809966 3.14056503\n",
            " 3.64911383 3.05809387 3.5416887  2.57991885 2.24148054 4.24118365\n",
            " 0.60305872 3.56253062 4.21815379 2.38052363 2.60619993 4.11609616]\n",
            "2023-09-01 02:59:41,460 - pyswarms.single.global_best - INFO - Optimize for 1 iters with {'c1': 0.5, 'c2': 0.3, 'w': 0.9}\n"
          ]
        },
        {
          "output_type": "stream",
          "name": "stdout",
          "text": [
            "\n",
            "=========================================================================\n",
            "\n",
            "Número de ciclos de manutenção: 13 5\n",
            "Tempos para manutenções preventivas: [0, 22, 54, 116, 170, 227, 255, 293, 320, 334, 379, 391, 435, 587]\n",
            "Severidade para cada subsistema: [0.75, 0.25, 0.25, 0.5, 0.75, 0.75, 0.25, 0.75, 0.5, 0.5, 0.5, 0.5, 0.5]\n",
            "Número de Sisemas: 5\n",
            "Fator:  [0.3296799539643607, 0.7768698398515702, 0.3934693402873666, 0.3934693402873666, 0.6321205588285577, 0.7768698398515702, 0.7768698398515702, 0.3934693402873666, 0.7768698398515702, 0.6321205588285577, 0.6321205588285577, 0.6321205588285577, 0.6321205588285577, 0.6321205588285577]\n",
            "Media de falhas:  [0, 1649.16224, 72862.54491475654, 785218.8395277131, 9750754.784356784, 39691345.20361331, 43908619.78388482, 46180651.245673575, 47951106.37951816, 84667469.525287, 91738243.06874944, 100355110.62648012, 155485032.02682194, 1068388865.6913608, 2824857885.3698006]\n",
            "Custo =  96083077729.34189\n"
          ]
        },
        {
          "output_type": "stream",
          "name": "stderr",
          "text": [
            "pyswarms.single.global_best: 100%|██████████|1/1, best_cost=4.51e+10\n",
            "2023-09-01 02:59:41,480 - pyswarms.single.global_best - INFO - Optimization finished | best cost: 45053182833.53519, best pos: [5.75785951 1.78883411 4.71288754 1.92114877 4.86404228 0.57391174\n",
            " 5.07973238 5.60025783 5.52525945 4.63885029 5.68809954 3.14053134\n",
            " 3.64910649 3.05807899 3.54169609 2.57987039 2.24148946 4.24154172\n",
            " 2.64481788 3.56257314 4.21815775 2.38052462 2.60619838 4.11608404]\n",
            "2023-09-01 02:59:41,482 - pyswarms.single.global_best - INFO - Optimize for 1 iters with {'c1': 0.5, 'c2': 0.3, 'w': 0.9}\n"
          ]
        },
        {
          "output_type": "stream",
          "name": "stdout",
          "text": [
            "\n",
            "=========================================================================\n",
            "\n",
            "Número de ciclos de manutenção: 12 5\n",
            "Tempos para manutenções preventivas: [0, 22, 53, 116, 227, 255, 320, 334, 379, 390, 436, 541, 587]\n",
            "Severidade para cada subsistema: [0.75, 0.25, 0.25, 0.75, 0.75, 0.75, 0.5, 0.5, 0.5, 0.5, 0.75, 0.5]\n",
            "Número de Sisemas: 5\n",
            "Fator:  [0.3296799539643607, 0.7768698398515702, 0.3934693402873666, 0.3934693402873666, 0.7768698398515702, 0.7768698398515702, 0.7768698398515702, 0.6321205588285577, 0.6321205588285577, 0.6321205588285577, 0.6321205588285577, 0.7768698398515702, 0.6321205588285577]\n",
            "Media de falhas:  [0, 1649.16224, 65541.76579741901, 816069.6870046268, 63045372.845937066, 87164566.70150954, 95586378.31166482, 96446230.34008569, 103517003.88354813, 111303658.8587233, 169992374.2513555, 557346244.412214, 740030187.8362622, 1221691710.4555335]\n",
            "Custo =  59186571361.968834\n"
          ]
        },
        {
          "output_type": "stream",
          "name": "stderr",
          "text": [
            "pyswarms.single.global_best: 100%|██████████|1/1, best_cost=4.51e+10\n",
            "2023-09-01 02:59:41,510 - pyswarms.single.global_best - INFO - Optimization finished | best cost: 45053182833.53519, best pos: [5.75782555 1.78886155 4.71285668 1.92114854 4.86403835 0.57391204\n",
            " 5.0797414  5.59999206 5.52507909 1.17387957 5.68809911 3.1404912\n",
            " 3.64909974 3.05804458 3.54170274 2.57974292 2.24149549 4.24149948\n",
            " 4.88514533 3.56261655 4.21819561 2.38052509 2.60620073 4.11606547]\n",
            "2023-09-01 02:59:41,513 - pyswarms.single.global_best - INFO - Optimize for 1 iters with {'c1': 0.5, 'c2': 0.3, 'w': 0.9}\n"
          ]
        },
        {
          "output_type": "stream",
          "name": "stdout",
          "text": [
            "\n",
            "=========================================================================\n",
            "\n",
            "Número de ciclos de manutenção: 13 5\n",
            "Tempos para manutenções preventivas: [0, 22, 53, 116, 173, 181, 228, 255, 320, 334, 379, 390, 436, 587]\n",
            "Severidade para cada subsistema: [0.75, 0.25, 0.25, 0.25, 0.75, 0.75, 0.75, 0.75, 0.5, 0.5, 0.5, 0.5, 0.5]\n",
            "Número de Sisemas: 5\n",
            "Fator:  [0.3296799539643607, 0.7768698398515702, 0.3934693402873666, 0.3934693402873666, 0.3934693402873666, 0.7768698398515702, 0.7768698398515702, 0.7768698398515702, 0.7768698398515702, 0.6321205588285577, 0.6321205588285577, 0.6321205588285577, 0.6321205588285577, 0.6321205588285577]\n",
            "Media de falhas:  [0, 1649.16224, 65541.76579741901, 816069.6870046268, 10986313.60072747, 12793349.031531822, 38003762.897640906, 38811154.02416876, 47232965.63432405, 48092817.66274491, 55163591.20620735, 62950246.18138252, 121638961.57401472, 1024606568.7156763, 2781075588.394116]\n",
            "Custo =  86317600502.89838\n"
          ]
        },
        {
          "output_type": "stream",
          "name": "stderr",
          "text": [
            "pyswarms.single.global_best: 100%|██████████|1/1, best_cost=4.51e+10\n",
            "2023-09-01 02:59:41,540 - pyswarms.single.global_best - INFO - Optimization finished | best cost: 45053182833.53519, best pos: [5.75780488 1.78884196 4.71282436 1.92114875 4.86404144 0.57391293\n",
            " 5.07975076 5.59976543 5.52502929 5.40666085 5.68809779 3.14044788\n",
            " 3.64909309 3.05801353 3.54170818 2.5795738  2.24149728 4.24120502\n",
            " 6.94466945 3.56265762 4.21823341 2.38052401 2.60620565 4.11604865]\n",
            "2023-09-01 02:59:41,542 - pyswarms.single.global_best - INFO - Optimize for 1 iters with {'c1': 0.5, 'c2': 0.3, 'w': 0.9}\n"
          ]
        },
        {
          "output_type": "stream",
          "name": "stdout",
          "text": [
            "\n",
            "=========================================================================\n",
            "\n",
            "Número de ciclos de manutenção: 14 5\n",
            "Tempos para manutenções preventivas: [0, 22, 53, 116, 182, 228, 255, 274, 320, 334, 379, 390, 436, 544, 587]\n",
            "Severidade para cada subsistema: [0.75, 0.25, 0.25, 0.75, 0.75, 0.75, 0.25, 0.75, 0.5, 0.5, 0.5, 0.5, 0.5, 0.5]\n",
            "Número de Sisemas: 5\n",
            "Fator:  [0.3296799539643607, 0.7768698398515702, 0.3934693402873666, 0.3934693402873666, 0.7768698398515702, 0.7768698398515702, 0.7768698398515702, 0.3934693402873666, 0.7768698398515702, 0.6321205588285577, 0.6321205588285577, 0.6321205588285577, 0.6321205588285577, 0.6321205588285577, 0.6321205588285577]\n",
            "Media de falhas:  [0, 1649.16224, 65541.76579741901, 816069.6870046268, 15349393.58815858, 40038806.260502525, 40846197.38703038, 41461317.45403082, 45705094.93422234, 82421458.07999119, 89492231.62345363, 97278886.5986288, 155967601.991261, 567679003.1307762, 736793314.5244968, 2493262334.202936]\n",
            "Custo =  102867963992.19572\n"
          ]
        },
        {
          "output_type": "stream",
          "name": "stderr",
          "text": [
            "pyswarms.single.global_best: 100%|██████████|1/1, best_cost=4.51e+10\n",
            "2023-09-01 02:59:41,560 - pyswarms.single.global_best - INFO - Optimization finished | best cost: 45053182833.53519, best pos: [5.75779318 1.78881574 4.71279504 1.9211492  4.86405098 0.57391387\n",
            " 5.0797589  5.59956891 5.52507894 2.2180038  5.68809609 3.1404097\n",
            " 3.649087   3.05796936 3.54171021 2.57940314 2.24149632 4.24073916\n",
            " 1.65771473 3.56268954 4.21827471 2.38052199 2.60621453 4.11603454]\n",
            "2023-09-01 02:59:41,563 - pyswarms.single.global_best - INFO - Optimize for 1 iters with {'c1': 0.5, 'c2': 0.3, 'w': 0.9}\n"
          ]
        },
        {
          "output_type": "stream",
          "name": "stdout",
          "text": [
            "\n",
            "=========================================================================\n",
            "\n",
            "Número de ciclos de manutenção: 13 5\n",
            "Tempos para manutenções preventivas: [0, 22, 53, 116, 184, 228, 255, 284, 320, 334, 379, 390, 436, 586]\n",
            "Severidade para cada subsistema: [0.75, 0.25, 0.25, 0.75, 0.75, 0.75, 0.5, 0.75, 0.5, 0.5, 0.5, 0.5, 0.5]\n",
            "Número de Sisemas: 5\n",
            "Fator:  [0.3296799539643607, 0.7768698398515702, 0.3934693402873666, 0.3934693402873666, 0.7768698398515702, 0.7768698398515702, 0.7768698398515702, 0.6321205588285577, 0.7768698398515702, 0.6321205588285577, 0.6321205588285577, 0.6321205588285577, 0.6321205588285577, 0.6321205588285577]\n",
            "Media de falhas:  [0, 1649.16224, 65541.76579741901, 816069.6870046268, 16488610.016889226, 40137807.36832978, 40945198.49485763, 42250847.478709556, 45024159.254166916, 50478478.73348656, 57549252.276949, 65335907.252124175, 124024622.64475638, 1012044349.2780833, 2786637526.1750894]\n",
            "Custo =  86832438055.61108\n"
          ]
        },
        {
          "output_type": "stream",
          "name": "stderr",
          "text": [
            "pyswarms.single.global_best: 100%|██████████|1/1, best_cost=4.51e+10\n",
            "2023-09-01 02:59:41,583 - pyswarms.single.global_best - INFO - Optimization finished | best cost: 45053182833.53519, best pos: [5.75780104 1.78877603 4.71277253 1.9211498  4.86406232 0.57391492\n",
            " 5.07976329 5.59950151 5.52525094 5.71847166 5.68809453 3.14037824\n",
            " 3.64908252 3.05792372 3.54171136 2.57925146 2.24149014 4.24028287\n",
            " 4.24992341 3.56271494 4.21831233 2.38051988 2.60622369 4.11602212]\n",
            "2023-09-01 02:59:41,586 - pyswarms.single.global_best - INFO - Optimize for 1 iters with {'c1': 0.5, 'c2': 0.3, 'w': 0.9}\n"
          ]
        },
        {
          "output_type": "stream",
          "name": "stdout",
          "text": [
            "\n",
            "=========================================================================\n",
            "\n",
            "Número de ciclos de manutenção: 14 5\n",
            "Tempos para manutenções preventivas: [0, 23, 53, 116, 161, 185, 228, 256, 296, 320, 334, 379, 391, 436, 586]\n",
            "Severidade para cada subsistema: [0.75, 0.25, 0.25, 0.25, 0.75, 0.75, 0.75, 0.75, 0.75, 0.5, 0.5, 0.5, 0.5, 0.5]\n",
            "Número de Sisemas: 5\n",
            "Fator:  [0.3296799539643607, 0.7768698398515702, 0.3934693402873666, 0.3934693402873666, 0.3934693402873666, 0.7768698398515702, 0.7768698398515702, 0.7768698398515702, 0.7768698398515702, 0.7768698398515702, 0.6321205588285577, 0.6321205588285577, 0.6321205588285577, 0.6321205588285577, 0.6321205588285577]\n",
            "Media de falhas:  [0, 2059.6297600000003, 63619.46225405629, 814147.3834612641, 6799472.566534598, 12483822.478876032, 35613643.21919961, 36481406.4360965, 39051983.833533324, 40544280.17730163, 41404132.20572249, 48474905.74918493, 57091773.3069156, 114234975.33500494, 1002254701.9683318, 2776847878.865338]\n",
            "Custo =  86117645114.9219\n"
          ]
        },
        {
          "output_type": "stream",
          "name": "stderr",
          "text": [
            "pyswarms.single.global_best: 100%|██████████|1/1, best_cost=4.51e+10\n",
            "2023-09-01 02:59:41,607 - pyswarms.single.global_best - INFO - Optimization finished | best cost: 45053182833.53519, best pos: [5.75781675 1.78873093 4.71276697 1.92115039 4.86407854 0.57391578\n",
            " 5.07976473 5.59953604 5.52547506 1.82633245 5.68809321 3.14035667\n",
            " 3.64908099 3.05787708 3.54170792 2.57911939 2.24148408 4.23976008\n",
            " 6.6430819  3.56271963 4.21833769 2.38051794 2.60623292 4.11601548]\n",
            "2023-09-01 02:59:41,611 - pyswarms.single.global_best - INFO - Optimize for 1 iters with {'c1': 0.5, 'c2': 0.3, 'w': 0.9}\n"
          ]
        },
        {
          "output_type": "stream",
          "name": "stdout",
          "text": [
            "\n",
            "=========================================================================\n",
            "\n",
            "Número de ciclos de manutenção: 15 5\n",
            "Tempos para manutenções preventivas: [0, 23, 53, 117, 176, 186, 228, 256, 271, 320, 334, 379, 391, 436, 540, 586]\n",
            "Severidade para cada subsistema: [0.75, 0.25, 0.25, 0.5, 0.75, 0.75, 0.75, 0.25, 0.75, 0.5, 0.5, 0.5, 0.5, 0.75, 0.5]\n",
            "Número de Sisemas: 5\n",
            "Fator:  [0.3296799539643607, 0.7768698398515702, 0.3934693402873666, 0.3934693402873666, 0.6321205588285577, 0.7768698398515702, 0.7768698398515702, 0.7768698398515702, 0.3934693402873666, 0.7768698398515702, 0.6321205588285577, 0.6321205588285577, 0.6321205588285577, 0.6321205588285577, 0.7768698398515702, 0.6321205588285577]\n",
            "Media de falhas:  [0, 2059.6297600000003, 63619.46225405629, 865662.600554395, 12154741.67067237, 14659907.356937554, 19434006.333840236, 20301769.55073712, 20731578.120736714, 25503153.513464708, 62219516.659233555, 69290290.202696, 77907157.76042667, 135050359.788516, 514526139.1425806, 696014994.7561392, 1184824752.5476158]\n",
            "Custo =  65934398013.51951\n"
          ]
        },
        {
          "output_type": "stream",
          "name": "stderr",
          "text": [
            "\rpyswarms.single.global_best:   0%|          |0/1"
          ]
        },
        {
          "output_type": "stream",
          "name": "stdout",
          "text": [
            "\n",
            "=========================================================================\n",
            "\n",
            "Número de ciclos de manutenção: 14 5"
          ]
        },
        {
          "output_type": "stream",
          "name": "stderr",
          "text": [
            "pyswarms.single.global_best: 100%|██████████|1/1, best_cost=4.51e+10\n",
            "2023-09-01 02:59:41,629 - pyswarms.single.global_best - INFO - Optimization finished | best cost: 45053182833.53519, best pos: [5.75784576 1.78868629 4.71277047 1.92115089 4.86409343 0.57391652\n",
            " 5.07976554 5.59969701 5.52568278 5.69778327 5.68809254 3.14035987\n",
            " 3.64908167 3.05782054 3.54170202 2.5790384  2.24147606 4.23929503\n",
            " 1.43772117 3.56269586 4.21835381 2.38051656 2.60624057 4.11601009]\n",
            "2023-09-01 02:59:41,634 - pyswarms.single.global_best - INFO - Optimize for 1 iters with {'c1': 0.5, 'c2': 0.3, 'w': 0.9}\n"
          ]
        },
        {
          "output_type": "stream",
          "name": "stdout",
          "text": [
            "\n",
            "Tempos para manutenções preventivas: [0, 23, 53, 117, 175, 187, 228, 256, 279, 320, 334, 379, 392, 436, 586]\n",
            "Severidade para cada subsistema: [0.75, 0.25, 0.25, 0.75, 0.75, 0.75, 0.75, 0.5, 0.75, 0.5, 0.5, 0.5, 0.5, 0.5]\n",
            "Número de Sisemas: 5\n",
            "Fator:  [0.3296799539643607, 0.7768698398515702, 0.3934693402873666, 0.3934693402873666, 0.7768698398515702, 0.7768698398515702, 0.7768698398515702, 0.7768698398515702, 0.6321205588285577, 0.7768698398515702, 0.6321205588285577, 0.6321205588285577, 0.6321205588285577, 0.6321205588285577, 0.6321205588285577]\n",
            "Media de falhas:  [0, 2059.6297600000003, 63619.46225405629, 865662.600554395, 11705241.15696728, 14759232.881211627, 15958536.104721306, 16826299.32161819, 17688251.10364044, 21144569.792797398, 26598889.27211705, 33669662.81557949, 43138965.48308699, 98751297.87328562, 986771024.5066125, 2761364201.403619]\n",
            "Custo =  85683299269.27826\n"
          ]
        },
        {
          "output_type": "stream",
          "name": "stderr",
          "text": [
            "pyswarms.single.global_best:   0%|          |0/1, best_cost=4.51e+10"
          ]
        },
        {
          "output_type": "stream",
          "name": "stdout",
          "text": [
            "\n",
            "=========================================================================\n",
            "\n",
            "Número de ciclos de manutenção: 15 5\n",
            "Tempos para manutenções preventivas: [0, 23, 53, 118, 155, 187, 228, 256, 288, 320, 333, 379, 392, 436, 562, 586]\n",
            "Severidade para cada subsistema: [0.75, 0.25, 0.25, 0.25, 0.75, 0.75, 0.75, 0.75, 0.75, 0.5, 0.5, 0.5, 0.5, 0.5, 0.5]\n",
            "Número de Sisemas: 5\n",
            "Fator:  [0.3296799539643607, 0.7768698398515702, 0.3934693402873666, 0.3934693402873666, 0.3934693402873666, 0.7768698398515702, 0.7768698398515702, 0.7768698398515702, 0.7768698398515702, 0.7768698398515702, 0.6321205588285577, 0.6321205588285577, 0.6321205588285577, 0.6321205588285577, 0.6321205588285577, 0.6321205588285577]\n",
            "Media de falhas:  [0, 2059.6297600000003, 63619.46225405629, 919968.2431685146, 5146418.769618187, 12963887.14866886, 35056007.28501785, 35923770.50191473, 37528282.6343195, 39822529.95879989, 40599241.10013961, 47937974.97897548, 57407277.64648299, 113019610.03668162, 695615717.1196752, 784069493.8107624, 2558662670.7077684]\n",
            "Custo =  95640107643.1888\n"
          ]
        },
        {
          "output_type": "stream",
          "name": "stderr",
          "text": [
            "\rpyswarms.single.global_best: 100%|██████████|1/1, best_cost=4.51e+10\n",
            "2023-09-01 02:59:41,654 - pyswarms.single.global_best - INFO - Optimization finished | best cost: 45053182833.53519, best pos: [5.75787929 1.78864572 4.71278928 1.9211511  4.86410393 0.57391685\n",
            " 5.07976373 5.59992948 5.5258507  2.17444837 5.68809242 3.14038104\n",
            " 3.64908467 3.05776537 3.54169539 2.57898687 2.24146869 4.23889568\n",
            " 3.67101685 3.5626566  4.21834949 2.38051541 2.60624733 4.11601461]\n",
            "2023-09-01 02:59:41,657 - pyswarms.single.global_best - INFO - Optimize for 1 iters with {'c1': 0.5, 'c2': 0.3, 'w': 0.9}\n",
            "pyswarms.single.global_best:   0%|          |0/1, best_cost=4.51e+10"
          ]
        },
        {
          "output_type": "stream",
          "name": "stdout",
          "text": [
            "\n",
            "=========================================================================\n",
            "\n",
            "Número de ciclos de manutenção: 13 5\n",
            "Tempos para manutenções preventivas: [0, 22, 53, 118, 174, 186, 228, 255, 320, 333, 379, 393, 436, 586]\n",
            "Severidade para cada subsistema: [0.75, 0.25, 0.25, 0.5, 0.75, 0.75, 0.75, 0.75, 0.5, 0.5, 0.5, 0.5, 0.5]\n",
            "Número de Sisemas: 5\n",
            "Fator:  [0.3296799539643607, 0.7768698398515702, 0.3934693402873666, 0.3934693402873666, 0.6321205588285577, 0.7768698398515702, 0.7768698398515702, 0.7768698398515702, 0.7768698398515702, 0.6321205588285577, 0.6321205588285577, 0.6321205588285577, 0.6321205588285577, 0.6321205588285577]\n",
            "Media de falhas:  [0, 1649.16224, 65541.76579741901, 921890.5467118773, 11132891.834285598, 14121532.572730444, 18895631.549633127, 19703022.676160984, 28124834.286316276, 28901545.427655995, 36240279.30649187, 46584682.78257751, 100680597.07182258, 988700323.7051494, 2763293500.6021557]\n",
            "Custo =  84719013329.96185\n"
          ]
        },
        {
          "output_type": "stream",
          "name": "stderr",
          "text": [
            "\rpyswarms.single.global_best: 100%|██████████|1/1, best_cost=4.51e+10\n",
            "2023-09-01 02:59:41,675 - pyswarms.single.global_best - INFO - Optimization finished | best cost: 45053182833.53519, best pos: [5.75790983 1.78861061 4.71281355 1.92115124 4.86411225 0.57391657\n",
            " 5.0797619  5.60017517 5.52597238 5.80608639 5.68809235 3.1404018\n",
            " 3.64908861 3.0577234  3.54168957 2.5789488  2.24146293 4.23876287\n",
            " 5.94067241 3.56261265 4.21832668 2.38051468 2.60624862 4.11602782]\n",
            "2023-09-01 02:59:41,677 - pyswarms.single.global_best - INFO - Optimize for 1 iters with {'c1': 0.5, 'c2': 0.3, 'w': 0.9}\n",
            "pyswarms.single.global_best:   0%|          |0/1"
          ]
        },
        {
          "output_type": "stream",
          "name": "stdout",
          "text": [
            "\n",
            "=========================================================================\n",
            "\n",
            "Número de ciclos de manutenção: 13 5\n",
            "Tempos para manutenções preventivas: [0, 22, 53, 118, 186, 228, 255, 294, 320, 333, 379, 392, 436, 586]\n",
            "Severidade para cada subsistema: [0.75, 0.25, 0.25, 0.75, 0.75, 0.75, 0.5, 0.75, 0.5, 0.5, 0.5, 0.5, 0.5]\n",
            "Número de Sisemas: 5\n",
            "Fator:  [0.3296799539643607, 0.7768698398515702, 0.3934693402873666, 0.3934693402873666, 0.7768698398515702, 0.7768698398515702, 0.7768698398515702, 0.6321205588285577, 0.7768698398515702, 0.6321205588285577, 0.6321205588285577, 0.6321205588285577, 0.6321205588285577, 0.6321205588285577]\n"
          ]
        },
        {
          "output_type": "stream",
          "name": "stderr",
          "text": [
            "pyswarms.single.global_best: 100%|██████████|1/1, best_cost=4.51e+10\n",
            "2023-09-01 02:59:41,696 - pyswarms.single.global_best - INFO - Optimization finished | best cost: 45053182833.53519, best pos: [5.75793716 1.78858361 4.71283688 1.9211511  4.86411866 0.5739161\n",
            " 5.07975928 5.60037965 5.52597502 2.04423896 5.68809323 3.14042692\n",
            " 3.64909294 3.05770446 3.54168533 2.57893723 2.24146034 4.23887417\n",
            " 0.80363133 3.56257641 4.218292   2.38051449 2.60624853 4.11604468]\n",
            "2023-09-01 02:59:41,698 - pyswarms.single.global_best - INFO - Optimize for 1 iters with {'c1': 0.5, 'c2': 0.3, 'w': 0.9}\n"
          ]
        },
        {
          "output_type": "stream",
          "name": "stdout",
          "text": [
            "Media de falhas:  [0, 1649.16224, 65541.76579741901, 921890.5467118773, 17269020.2841082, 39879842.73128727, 40687233.857815124, 43091792.32875472, 44766674.28162166, 49746586.26624629, 57085320.14508216, 66554622.81258966, 122166955.2027883, 1010186681.8361151, 2784779858.733121]\n",
            "Custo =  86914672468.28973\n"
          ]
        },
        {
          "output_type": "stream",
          "name": "stderr",
          "text": [
            "pyswarms.single.global_best: 100%|██████████|1/1, best_cost=4.51e+10\n",
            "2023-09-01 02:59:41,727 - pyswarms.single.global_best - INFO - Optimization finished | best cost: 45053182833.53519, best pos: [5.75795119 1.78857447 4.71285729 1.92115085 4.86411436 0.57391535\n",
            " 5.07975528 5.60050841 5.52597145 4.99574847 5.68809462 3.14045677\n",
            " 3.64909661 3.05769833 3.54168343 2.57902889 2.24146099 4.23899627\n",
            " 3.24819381 3.56255505 4.21826052 2.38051576 2.60624587 4.11606238]\n"
          ]
        },
        {
          "output_type": "stream",
          "name": "stdout",
          "text": [
            "\n",
            "=========================================================================\n",
            "\n",
            "Número de ciclos de manutenção: 14 5\n",
            "Tempos para manutenções preventivas: [0, 22, 53, 118, 159, 185, 228, 255, 320, 333, 379, 392, 436, 558, 586]\n",
            "Severidade para cada subsistema: [0.75, 0.25, 0.25, 0.25, 0.75, 0.75, 0.75, 0.75, 0.5, 0.5, 0.5, 0.5, 0.75, 0.5]\n",
            "Número de Sisemas: 5\n",
            "Fator:  [0.3296799539643607, 0.7768698398515702, 0.3934693402873666, 0.3934693402873666, 0.3934693402873666, 0.7768698398515702, 0.7768698398515702, 0.7768698398515702, 0.7768698398515702, 0.6321205588285577, 0.6321205588285577, 0.6321205588285577, 0.6321205588285577, 0.7768698398515702, 0.6321205588285577]\n",
            "Media de falhas:  [0, 1649.16224, 65541.76579741901, 921890.5467118773, 6105585.874852187, 12241443.858835414, 35371264.59915899, 36178655.72568684, 44600467.33584213, 45377178.47718185, 52715912.35601772, 62185215.02352522, 117797547.41372386, 658522646.0508858, 762940780.3669219, 1251750538.1583984]\n",
            "Custo =  59370494052.63198\n"
          ]
        },
        {
          "output_type": "stream",
          "name": "stderr",
          "text": [
            "2023-09-01 02:59:41,729 - pyswarms.single.global_best - INFO - Optimize for 1 iters with {'c1': 0.5, 'c2': 0.3, 'w': 0.9}\n",
            "pyswarms.single.global_best:   0%|          |0/1, best_cost=4.51e+10"
          ]
        },
        {
          "output_type": "stream",
          "name": "stdout",
          "text": [
            "\n",
            "=========================================================================\n",
            "\n",
            "Número de ciclos de manutenção: 14 5\n",
            "Tempos para manutenções preventivas: [0, 22, 53, 118, 158, 183, 227, 255, 320, 333, 379, 391, 435, 549, 586]\n",
            "Severidade para cada subsistema: [0.75, 0.25, 0.25, 0.5, 0.75, 0.75, 0.75, 0.75, 0.5, 0.5, 0.5, 0.5, 0.25, 0.5]\n",
            "Número de Sisemas: 5\n",
            "Fator:  [0.3296799539643607, 0.7768698398515702, 0.3934693402873666, 0.3934693402873666, 0.6321205588285577, 0.7768698398515702, 0.7768698398515702, 0.7768698398515702, 0.7768698398515702, 0.6321205588285577, 0.6321205588285577, 0.6321205588285577, 0.6321205588285577, 0.3934693402873666, 0.6321205588285577]\n",
            "Media de falhas:  [0, 1649.16224, 65541.76579741901, 921890.5467118773, 5853177.165457584, 11509219.079348512, 16537535.830171105, 17393930.734636974, 25815742.344792265, 26592453.486131985, 33931187.36496786, 42548054.922698535, 97677976.32304037, 558543262.3651719, 700372058.1557302, 8828094493.615208]\n",
            "Custo =  268591929320.50528\n"
          ]
        },
        {
          "output_type": "stream",
          "name": "stderr",
          "text": [
            "\rpyswarms.single.global_best: 100%|██████████|1/1, best_cost=4.51e+10\n",
            "2023-09-01 02:59:41,754 - pyswarms.single.global_best - INFO - Optimization finished | best cost: 45053182833.53519, best pos: [5.75795183 1.78858602 4.71287174 1.92115039 4.86410656 0.57391457\n",
            " 5.07975032 5.60051846 5.52591402 0.74646886 5.68809607 3.14048361\n",
            " 3.64909876 3.05772348 3.54168493 2.57917667 2.24146423 4.23914782\n",
            " 5.99562056 3.56255085 4.21823402 2.38051753 2.60623974 4.11607645]\n",
            "2023-09-01 02:59:41,756 - pyswarms.single.global_best - INFO - Optimize for 1 iters with {'c1': 0.5, 'c2': 0.3, 'w': 0.9}\n",
            "pyswarms.single.global_best:   0%|          |0/1"
          ]
        },
        {
          "output_type": "stream",
          "name": "stdout",
          "text": [
            "\n",
            "=========================================================================\n",
            "\n",
            "Número de ciclos de manutenção: 14 5\n",
            "Tempos para manutenções preventivas: [0, 22, 53, 118, 161, 182, 227, 255, 287, 320, 333, 379, 391, 435, 586]\n",
            "Severidade para cada subsistema: [0.75, 0.25, 0.25, 0.75, 0.75, 0.75, 0.75, 0.75, 0.75, 0.5, 0.5, 0.5, 0.5, 0.5]\n",
            "Número de Sisemas: 5\n",
            "Fator:  [0.3296799539643607, 0.7768698398515702, 0.3934693402873666, 0.3934693402873666, 0.7768698398515702, 0.7768698398515702, 0.7768698398515702, 0.7768698398515702, 0.7768698398515702, 0.7768698398515702, 0.6321205588285577, 0.6321205588285577, 0.6321205588285577, 0.6321205588285577, 0.6321205588285577]\n",
            "Media de falhas:  [0, 1649.16224, 65541.76579741901, 921890.5467118773, 6638038.863171575, 11321715.136240099, 12757887.163500372, 13614282.067966241, 15200155.997948695, 17608913.951247226, 18385625.092586946, 25724358.97142282, 34341226.529153496, 89471147.92949532, 987305160.4781033, 2761898337.375109]\n"
          ]
        },
        {
          "output_type": "stream",
          "name": "stderr",
          "text": [
            "pyswarms.single.global_best: 100%|██████████|1/1, best_cost=4.51e+10\n",
            "2023-09-01 02:59:41,778 - pyswarms.single.global_best - INFO - Optimization finished | best cost: 45053182833.53519, best pos: [5.7579449  1.78860415 4.7128729  1.92114997 4.86409286 0.57391387\n",
            " 5.07974541 5.60049429 5.525783   3.72164913 5.68809735 3.14050696\n",
            " 3.64909894 3.05775193 3.54168968 2.5793587  2.2414679  4.23933561\n",
            " 1.46476216 3.56256167 4.21821679 2.38051959 2.60623319 4.11608602]\n",
            "2023-09-01 02:59:41,781 - pyswarms.single.global_best - INFO - Optimize for 1 iters with {'c1': 0.5, 'c2': 0.3, 'w': 0.9}\n"
          ]
        },
        {
          "output_type": "stream",
          "name": "stdout",
          "text": [
            "Custo =  84064492950.9214\n"
          ]
        },
        {
          "output_type": "stream",
          "name": "stderr",
          "text": [
            "\rpyswarms.single.global_best:   0%|          |0/1"
          ]
        },
        {
          "output_type": "stream",
          "name": "stdout",
          "text": [
            "\n",
            "=========================================================================\n",
            "\n",
            "Número de ciclos de manutenção: 13 5\n",
            "Tempos para manutenções preventivas: [0, 22, 53, 117, 181, 227, 255, 282, 320, 334, 379, 391, 435, 586]\n",
            "Severidade para cada subsistema: [0.75, 0.25, 0.25, 0.75, 0.75, 0.75, 0.25, 0.75, 0.5, 0.5, 0.5, 0.5, 0.5]\n",
            "Número de Sisemas: 5\n",
            "Fator:  [0.3296799539643607, 0.7768698398515702, 0.3934693402873666, 0.3934693402873666, 0.7768698398515702, 0.7768698398515702, 0.7768698398515702, 0.3934693402873666, 0.7768698398515702, 0.6321205588285577, 0.6321205588285577, 0.6321205588285577, 0.6321205588285577, 0.6321205588285577]\n"
          ]
        },
        {
          "output_type": "stream",
          "name": "stderr",
          "text": [
            "pyswarms.single.global_best: 100%|██████████|1/1, best_cost=4.51e+10\n",
            "2023-09-01 02:59:41,805 - pyswarms.single.global_best - INFO - Optimization finished | best cost: 45053182833.53519, best pos: [5.75793432 1.78862714 4.71285971 1.92114961 4.8640794  0.57391336\n",
            " 5.07974142 5.60040161 5.52559888 6.89218667 5.68809828 3.14052501\n",
            " 3.64909745 3.05778258 3.54169486 2.57953294 2.24147253 4.23963949\n",
            " 4.03580001 3.56258264 4.21821468 2.38052145 2.6062269  4.11608906]\n",
            "2023-09-01 02:59:41,808 - pyswarms.single.global_best - INFO - Optimize for 1 iters with {'c1': 0.5, 'c2': 0.3, 'w': 0.9}\n"
          ]
        },
        {
          "output_type": "stream",
          "name": "stdout",
          "text": [
            "Media de falhas:  [0, 1649.16224, 65541.76579741901, 867584.9040977578, 14621521.8133376, 38877459.126732975, 39733854.031198844, 40873213.74987498, 43907959.98956534, 80624323.1353342, 87695096.67879663, 96311964.23652731, 151441885.63686913, 1049275898.185477, 2823869075.0824833]\n",
            "Custo =  95719030905.01308\n"
          ]
        },
        {
          "output_type": "stream",
          "name": "stderr",
          "text": [
            "\rpyswarms.single.global_best:   0%|          |0/1"
          ]
        },
        {
          "output_type": "stream",
          "name": "stdout",
          "text": [
            "\n",
            "=========================================================================\n",
            "\n",
            "Número de ciclos de manutenção: 12 5\n",
            "Tempos para manutenções preventivas: [0, 22, 53, 117, 180, 227, 255, 320, 334, 379, 391, 435, 586]\n",
            "Severidade para cada subsistema: [0.75, 0.25, 0.25, 0.75, 0.75, 0.75, 0.75, 0.5, 0.5, 0.5, 0.5, 0.5]\n",
            "Número de Sisemas: 5\n",
            "Fator:  [0.3296799539643607, 0.7768698398515702, 0.3934693402873666, 0.3934693402873666, 0.7768698398515702, 0.7768698398515702, 0.7768698398515702, 0.7768698398515702, 0.6321205588285577, 0.6321205588285577, 0.6321205588285577, 0.6321205588285577, 0.6321205588285577]\n",
            "Media de falhas:  [0, 1649.16224, 65541.76579741901, 867584.9040977578, 14098454.930267394, 38866448.173092544, 39722843.07755841, 48144654.687713705, 49004506.71613456, 56075280.259597, 64692147.81732768, 119822069.2176695, 1017656081.7662774, 2792249258.6632833]\n"
          ]
        },
        {
          "output_type": "stream",
          "name": "stderr",
          "text": [
            "pyswarms.single.global_best: 100%|██████████|1/1, best_cost=4.51e+10\n",
            "2023-09-01 02:59:41,829 - pyswarms.single.global_best - INFO - Optimization finished | best cost: 45053182833.53519, best pos: [5.75792419 1.78864836 4.71283991 1.92114939 4.86406767 0.57391318\n",
            " 5.07973886 5.60025957 5.52542002 2.73057667 5.6880991  3.14054028\n",
            " 3.64909476 3.05781215 3.54169995 2.57968804 2.24147705 4.23991713\n",
            " 6.65302825 3.56261374 4.21822314 2.38052275 2.60622149 4.11608586]\n",
            "2023-09-01 02:59:41,830 - pyswarms.single.global_best - INFO - Optimize for 1 iters with {'c1': 0.5, 'c2': 0.3, 'w': 0.9}\n"
          ]
        },
        {
          "output_type": "stream",
          "name": "stdout",
          "text": [
            "Custo =  85483474121.1239\n"
          ]
        },
        {
          "output_type": "stream",
          "name": "stderr",
          "text": [
            "pyswarms.single.global_best:   0%|          |0/1, best_cost=4.51e+10"
          ]
        },
        {
          "output_type": "stream",
          "name": "stdout",
          "text": [
            "\n",
            "=========================================================================\n",
            "\n",
            "Número de ciclos de manutenção: 14 5\n",
            "Tempos para manutenções preventivas: [0, 22, 53, 117, 159, 180, 227, 255, 320, 334, 379, 390, 436, 545, 586]\n",
            "Severidade para cada subsistema: [0.75, 0.25, 0.25, 0.75, 0.75, 0.75, 0.75, 0.75, 0.5, 0.5, 0.5, 0.5, 0.25, 0.5]\n",
            "Número de Sisemas: 5\n",
            "Fator:  [0.3296799539643607, 0.7768698398515702, 0.3934693402873666, 0.3934693402873666, 0.7768698398515702, 0.7768698398515702, 0.7768698398515702, 0.7768698398515702, 0.7768698398515702, 0.6321205588285577, 0.6321205588285577, 0.6321205588285577, 0.6321205588285577, 0.3934693402873666, 0.6321205588285577]\n",
            "Media de falhas:  [0, 1649.16224, 65541.76579741901, 867584.9040977578, 6178119.947040161, 10657064.344950825, 12233605.259045225, 13090000.163511094, 21511811.773666386, 22371663.802087247, 29442437.345549688, 37229092.32072486, 95917807.71335706, 515994031.00938165, 675158068.3385663, 8802880503.798042]\n",
            "Custo =  267715324054.0985\n"
          ]
        },
        {
          "output_type": "stream",
          "name": "stderr",
          "text": [
            "\rpyswarms.single.global_best: 100%|██████████|1/1, best_cost=4.51e+10\n",
            "2023-09-01 02:59:41,848 - pyswarms.single.global_best - INFO - Optimization finished | best cost: 45053182833.53519, best pos: [5.75791277 1.78866837 4.71282203 1.92114933 4.86406104 0.57391344\n",
            " 5.07973723 5.60013148 5.52527291 5.70933045 5.68809942 3.14054253\n",
            " 3.64909189 3.05783792 3.54170353 2.5798079  2.24148082 4.24016224\n",
            " 1.58861083 3.56264499 4.21824389 2.38052323 2.60621799 4.11607654]\n",
            "2023-09-01 02:59:41,860 - pyswarms.single.global_best - INFO - Optimize for 1 iters with {'c1': 0.5, 'c2': 0.3, 'w': 0.9}\n",
            "pyswarms.single.global_best:   0%|          |0/1, best_cost=4.51e+10"
          ]
        },
        {
          "output_type": "stream",
          "name": "stdout",
          "text": [
            "\n",
            "=========================================================================\n",
            "\n",
            "Número de ciclos de manutenção: 13 5\n",
            "Tempos para manutenções preventivas: [0, 22, 53, 117, 180, 227, 255, 320, 334, 379, 390, 436, 544, 586]\n",
            "Severidade para cada subsistema: [0.75, 0.25, 0.25, 0.75, 0.75, 0.75, 0.75, 0.5, 0.5, 0.5, 0.5, 0.75, 0.5]\n",
            "Número de Sisemas: 5\n",
            "Fator:  [0.3296799539643607, 0.7768698398515702, 0.3934693402873666, 0.3934693402873666, 0.7768698398515702, 0.7768698398515702, 0.7768698398515702, 0.7768698398515702, 0.6321205588285577, 0.6321205588285577, 0.6321205588285577, 0.6321205588285577, 0.7768698398515702, 0.6321205588285577]\n",
            "Media de falhas:  [0, 1649.16224, 65541.76579741901, 867584.9040977578, 14098454.930267394, 38866448.173092544, 39722843.07755841, 48144654.687713705, 49004506.71613456, 56075280.259597, 63861935.234772176, 122550650.62740438, 534262051.7669195, 697831689.3322587, 1186641447.1237352]\n",
            "Custo =  56860994156.17299\n"
          ]
        },
        {
          "output_type": "stream",
          "name": "stderr",
          "text": [
            "\rpyswarms.single.global_best: 100%|██████████|1/1, best_cost=4.51e+10\n",
            "2023-09-01 02:59:41,873 - pyswarms.single.global_best - INFO - Optimization finished | best cost: 45053182833.53519, best pos: [5.75790075 1.78868497 4.71280603 1.92114946 4.86405834 0.57391392\n",
            " 5.07973729 5.60001013 5.52519494 1.38097882 5.6880991  3.14053128\n",
            " 3.64908931 3.05786048 3.54170549 2.5798425  2.24148346 4.24028257\n",
            " 3.92495574 3.56266841 4.2182674  2.38052261 2.60621789 4.11606695]\n",
            "2023-09-01 02:59:41,874 - pyswarms.single.global_best - INFO - Optimize for 1 iters with {'c1': 0.5, 'c2': 0.3, 'w': 0.9}\n",
            "pyswarms.single.global_best: 100%|██████████|1/1, best_cost=4.51e+10\n",
            "2023-09-01 02:59:41,884 - pyswarms.single.global_best - INFO - Optimization finished | best cost: 45053182833.53519, best pos: [5.75788744 1.78869511 4.7127945  1.92114959 4.86406252 0.57391441\n",
            " 5.07973961 5.59990134 5.52514533 4.50121145 5.68809821 3.14051446\n",
            " 3.64908716 3.05787756 3.54170621 2.57978438 2.2414851  4.24026642\n",
            " 6.16117672 3.56268093 4.21829    2.38052196 2.60621972 4.11605717]\n",
            "2023-09-01 02:59:41,885 - pyswarms.single.global_best - INFO - Optimize for 1 iters with {'c1': 0.5, 'c2': 0.3, 'w': 0.9}\n"
          ]
        },
        {
          "output_type": "stream",
          "name": "stdout",
          "text": [
            "\n",
            "=========================================================================\n",
            "\n",
            "Número de ciclos de manutenção: 14 5\n",
            "Tempos para manutenções preventivas: [0, 22, 53, 117, 179, 180, 227, 255, 320, 334, 379, 391, 436, 562, 586]\n",
            "Severidade para cada subsistema: [0.75, 0.25, 0.25, 0.5, 0.75, 0.75, 0.75, 0.75, 0.5, 0.5, 0.5, 0.5, 0.25, 0.5]\n",
            "Número de Sisemas: 5\n",
            "Fator:  [0.3296799539643607, 0.7768698398515702, 0.3934693402873666, 0.3934693402873666, 0.6321205588285577, 0.7768698398515702, 0.7768698398515702, 0.7768698398515702, 0.7768698398515702, 0.6321205588285577, 0.6321205588285577, 0.6321205588285577, 0.6321205588285577, 0.3934693402873666, 0.6321205588285577]\n",
            "Media de falhas:  [0, 1649.16224, 65541.76579741901, 867584.9040977578, 13590775.163670946, 13817210.067278313, 19362754.24028069, 20219149.14474656, 28640960.754901852, 29500812.783322714, 36571586.326785155, 45188453.88451583, 102331655.91260517, 684927762.9955987, 773381539.6866859, 8901103975.146162]\n",
            "Custo =  270731194007.4447\n"
          ]
        },
        {
          "output_type": "stream",
          "name": "stderr",
          "text": [
            "pyswarms.single.global_best:   0%|          |0/1, best_cost=4.51e+10"
          ]
        },
        {
          "output_type": "stream",
          "name": "stdout",
          "text": [
            "\n",
            "=========================================================================\n",
            "\n",
            "Número de ciclos de manutenção: 13 5\n",
            "Tempos para manutenções preventivas: [0, 22, 53, 117, 180, 227, 255, 320, 334, 379, 391, 436, 544, 586]\n",
            "Severidade para cada subsistema: [0.75, 0.25, 0.25, 0.75, 0.75, 0.75, 0.75, 0.5, 0.5, 0.5, 0.5, 0.75, 0.5]\n",
            "Número de Sisemas: 5\n",
            "Fator:  [0.3296799539643607, 0.7768698398515702, 0.3934693402873666, 0.3934693402873666, 0.7768698398515702, 0.7768698398515702, 0.7768698398515702, 0.7768698398515702, 0.6321205588285577, 0.6321205588285577, 0.6321205588285577, 0.6321205588285577, 0.7768698398515702, 0.6321205588285577]\n",
            "Media de falhas:  [0, 1649.16224, 65541.76579741901, 867584.9040977578, 14098454.930267394, 38866448.173092544, 39722843.07755841, 48144654.687713705, 49004506.71613456, 56075280.259597, 64692147.81732768, 121835349.84541702, 533546750.9849321, 697116388.5502714, 1185926146.341748]\n",
            "Custo =  56877801593.59796\n"
          ]
        },
        {
          "output_type": "stream",
          "name": "stderr",
          "text": [
            "\rpyswarms.single.global_best: 100%|██████████|1/1, best_cost=4.51e+10\n",
            "2023-09-01 02:59:41,896 - pyswarms.single.global_best - INFO - Optimization finished | best cost: 45053182833.53519, best pos: [5.75787455 1.78869305 4.71278462 1.92114971 4.86406693 0.57391488\n",
            " 5.07974232 5.5998207  5.52518859 0.37582472 5.68809681 3.14049462\n",
            " 3.64908548 3.05787373 3.54170557 2.5797043  2.24148621 4.24022563\n",
            " 0.98985296 3.56267885 4.21830797 2.38052103 2.60622426 4.11604834]\n",
            "2023-09-01 02:59:41,897 - pyswarms.single.global_best - INFO - Optimize for 1 iters with {'c1': 0.5, 'c2': 0.3, 'w': 0.9}\n",
            "pyswarms.single.global_best: 100%|██████████|1/1, best_cost=4.51e+10\n",
            "2023-09-01 02:59:41,909 - pyswarms.single.global_best - INFO - Optimization finished | best cost: 45053182833.53519, best pos: [5.75786341 1.78868571 4.71278077 1.92114982 4.86407556 0.57391527\n",
            " 5.07974531 5.59979924 5.52522759 3.90061338 5.68809532 3.14047481\n",
            " 3.64908517 3.05786335 3.54170371 2.57960703 2.24148653 4.24009072\n",
            " 3.73398238 3.56266559 4.21831573 2.38051991 2.60622963 4.11604138]\n",
            "2023-09-01 02:59:41,910 - pyswarms.single.global_best - INFO - Optimize for 1 iters with {'c1': 0.5, 'c2': 0.3, 'w': 0.9}\n"
          ]
        },
        {
          "output_type": "stream",
          "name": "stdout",
          "text": [
            "\n",
            "=========================================================================\n",
            "\n",
            "Número de ciclos de manutenção: 14 5\n",
            "Tempos para manutenções preventivas: [0, 22, 53, 117, 154, 181, 228, 255, 320, 334, 379, 391, 436, 546, 586]\n",
            "Severidade para cada subsistema: [0.75, 0.25, 0.25, 0.25, 0.75, 0.75, 0.75, 0.75, 0.5, 0.5, 0.5, 0.5, 0.25, 0.5]\n",
            "Número de Sisemas: 5\n",
            "Fator:  [0.3296799539643607, 0.7768698398515702, 0.3934693402873666, 0.3934693402873666, 0.3934693402873666, 0.7768698398515702, 0.7768698398515702, 0.7768698398515702, 0.7768698398515702, 0.6321205588285577, 0.6321205588285577, 0.6321205588285577, 0.6321205588285577, 0.3934693402873666, 0.6321205588285577]\n",
            "Media de falhas:  [0, 1649.16224, 65541.76579741901, 867584.9040977578, 4985727.808521009, 10808685.339159824, 36019099.205268905, 36826490.33179676, 45248301.94195205, 46108153.97037291, 53178927.51383535, 61795795.07156602, 118938997.09965536, 547505170.3119298, 702292643.2581894, 8830015078.717667]\n",
            "Custo =  269808895258.9147\n"
          ]
        },
        {
          "output_type": "stream",
          "name": "stderr",
          "text": [
            "pyswarms.single.global_best:   0%|          |0/1, best_cost=4.51e+10"
          ]
        },
        {
          "output_type": "stream",
          "name": "stdout",
          "text": [
            "\n",
            "=========================================================================\n",
            "\n",
            "Número de ciclos de manutenção: 14 5\n",
            "Tempos para manutenções preventivas: [0, 22, 53, 117, 161, 182, 228, 255, 286, 320, 334, 379, 392, 436, 586]\n",
            "Severidade para cada subsistema: [0.75, 0.25, 0.25, 0.5, 0.75, 0.75, 0.75, 0.5, 0.75, 0.5, 0.5, 0.5, 0.5, 0.5]\n",
            "Número de Sisemas: 5\n",
            "Fator:  [0.3296799539643607, 0.7768698398515702, 0.3934693402873666, 0.3934693402873666, 0.6321205588285577, 0.7768698398515702, 0.7768698398515702, 0.7768698398515702, 0.6321205588285577, 0.7768698398515702, 0.6321205588285577, 0.6321205588285577, 0.6321205588285577, 0.6321205588285577, 0.6321205588285577]\n",
            "Media de falhas:  [0, 1649.16224, 65541.76579741901, 867584.9040977578, 6717989.600541089, 11401665.873609614, 16854922.289133254, 17662313.41566111, 19150481.33580137, 21677195.79939863, 27131515.278718278, 34202288.82218072, 43671591.48968822, 99283923.87988684, 987303650.5132138, 2761896827.4102197]\n",
            "Custo =  85696720084.31201\n"
          ]
        },
        {
          "output_type": "stream",
          "name": "stderr",
          "text": [
            "\rpyswarms.single.global_best: 100%|██████████|1/1, best_cost=4.51e+10\n",
            "2023-09-01 02:59:41,920 - pyswarms.single.global_best - INFO - Optimization finished | best cost: 45053182833.53519, best pos: [5.75785417 1.78867676 4.71278448 1.92114998 4.86408369 0.5739156\n",
            " 5.07974807 5.59983407 5.52534375 0.44167622 5.68809408 3.14045661\n",
            " 3.64908596 3.05785083 3.54170038 2.57950186 2.24148543 4.23989646\n",
            " 6.58331015 3.56265294 4.21831281 2.38051883 2.60623463 4.11603544]\n",
            "2023-09-01 02:59:41,921 - pyswarms.single.global_best - INFO - Optimize for 1 iters with {'c1': 0.5, 'c2': 0.3, 'w': 0.9}\n",
            "pyswarms.single.global_best: 100%|██████████|1/1, best_cost=4.51e+10\n",
            "2023-09-01 02:59:41,930 - pyswarms.single.global_best - INFO - Optimization finished | best cost: 45053182833.53519, best pos: [5.7578537  1.78866812 4.7127954  1.92115014 4.86409095 0.5739156\n",
            " 5.07975056 5.59987905 5.5254704  4.73492577 5.68809316 3.14044\n",
            " 3.6490878  3.05783105 3.54169631 2.57940898 2.24148207 4.23971048\n",
            " 2.06194679 3.56263639 4.21830122 2.38051801 2.60623885 4.11603371]\n",
            "2023-09-01 02:59:41,931 - pyswarms.single.global_best - INFO - Optimize for 1 iters with {'c1': 0.5, 'c2': 0.3, 'w': 0.9}\n"
          ]
        },
        {
          "output_type": "stream",
          "name": "stdout",
          "text": [
            "\n",
            "=========================================================================\n",
            "\n",
            "Número de ciclos de manutenção: 13 5\n",
            "Tempos para manutenções preventivas: [0, 22, 53, 117, 158, 183, 228, 255, 320, 333, 379, 392, 436, 586]\n",
            "Severidade para cada subsistema: [0.75, 0.25, 0.25, 0.75, 0.75, 0.75, 0.75, 0.75, 0.5, 0.5, 0.5, 0.5, 0.5]\n",
            "Número de Sisemas: 5\n",
            "Fator:  [0.3296799539643607, 0.7768698398515702, 0.3934693402873666, 0.3934693402873666, 0.7768698398515702, 0.7768698398515702, 0.7768698398515702, 0.7768698398515702, 0.7768698398515702, 0.6321205588285577, 0.6321205588285577, 0.6321205588285577, 0.6321205588285577, 0.6321205588285577]\n",
            "Media de falhas:  [0, 1649.16224, 65541.76579741901, 867584.9040977578, 5922147.864828695, 11578189.778719623, 13032656.876542572, 13840048.003070427, 22261859.61322572, 23038570.75456544, 30377304.633401316, 39846607.30090882, 95458939.69110745, 983478666.3244343, 2758071843.2214403]\n",
            "Custo =  84045152446.19696\n"
          ]
        },
        {
          "output_type": "stream",
          "name": "stderr",
          "text": [
            "pyswarms.single.global_best:   0%|          |0/1, best_cost=4.51e+10"
          ]
        },
        {
          "output_type": "stream",
          "name": "stdout",
          "text": [
            "\n",
            "=========================================================================\n",
            "\n",
            "Número de ciclos de manutenção: 14 5\n",
            "Tempos para manutenções preventivas: [0, 22, 53, 117, 183, 228, 255, 273, 320, 333, 379, 392, 436, 565, 586]\n",
            "Severidade para cada subsistema: [0.75, 0.25, 0.25, 0.75, 0.75, 0.75, 0.25, 0.75, 0.5, 0.5, 0.5, 0.5, 0.5, 0.5]\n",
            "Número de Sisemas: 5\n",
            "Fator:  [0.3296799539643607, 0.7768698398515702, 0.3934693402873666, 0.3934693402873666, 0.7768698398515702, 0.7768698398515702, 0.7768698398515702, 0.3934693402873666, 0.7768698398515702, 0.6321205588285577, 0.6321205588285577, 0.6321205588285577, 0.6321205588285577, 0.6321205588285577, 0.6321205588285577]\n",
            "Media de falhas:  [0, 1649.16224, 65541.76579741901, 867584.9040977578, 15715210.720089285, 39884244.89599844, 40691636.022526294, 41255042.83396858, 45669935.20223954, 79414980.19328412, 86753714.07212, 96223016.7396275, 151835349.12982613, 767407909.0528679, 844139008.0754644, 2618732184.9724703]\n",
            "Custo =  105715203225.96735\n"
          ]
        },
        {
          "output_type": "stream",
          "name": "stderr",
          "text": [
            "\rpyswarms.single.global_best: 100%|██████████|1/1, best_cost=4.51e+10\n",
            "2023-09-01 02:59:41,941 - pyswarms.single.global_best - INFO - Optimization finished | best cost: 45053182833.53519, best pos: [5.75785983 1.78865928 4.71281355 1.92115029 4.86409538 0.57391535\n",
            " 5.0797526  5.59991984 5.52560391 1.61601211 5.68809311 3.14042956\n",
            " 3.64909037 3.05780936 3.54169266 2.57932629 2.24147896 4.23955151\n",
            " 4.38535827 3.56261928 4.21829035 2.38051745 2.60624254 4.11603279]\n",
            "2023-09-01 02:59:41,942 - pyswarms.single.global_best - INFO - Optimize for 1 iters with {'c1': 0.5, 'c2': 0.3, 'w': 0.9}\n",
            "pyswarms.single.global_best: 100%|██████████|1/1, best_cost=4.51e+10\n",
            "2023-09-01 02:59:41,956 - pyswarms.single.global_best - INFO - Optimization finished | best cost: 45053182833.53519, best pos: [5.75786779 1.78865109 4.71283039 1.92115037 4.86409864 0.57391507\n",
            " 5.07975363 5.59997612 5.52571426 5.16995533 5.68809308 3.1404217\n",
            " 3.64909297 3.05778845 3.54168989 2.57929233 2.24147597 4.23947919\n",
            " 6.57445938 3.56260462 4.21827794 2.38051742 2.60624567 4.11603254]\n",
            "2023-09-01 02:59:41,957 - pyswarms.single.global_best - INFO - Optimize for 1 iters with {'c1': 0.5, 'c2': 0.3, 'w': 0.9}\n"
          ]
        },
        {
          "output_type": "stream",
          "name": "stdout",
          "text": [
            "\n",
            "=========================================================================\n",
            "\n",
            "Número de ciclos de manutenção: 13 5\n",
            "Tempos para manutenções preventivas: [0, 22, 53, 117, 184, 228, 255, 274, 320, 333, 379, 392, 436, 586]\n",
            "Severidade para cada subsistema: [0.75, 0.25, 0.25, 0.75, 0.75, 0.75, 0.5, 0.75, 0.5, 0.5, 0.5, 0.5, 0.5]\n",
            "Número de Sisemas: 5\n",
            "Fator:  [0.3296799539643607, 0.7768698398515702, 0.3934693402873666, 0.3934693402873666, 0.7768698398515702, 0.7768698398515702, 0.7768698398515702, 0.6321205588285577, 0.7768698398515702, 0.6321205588285577, 0.6321205588285577, 0.6321205588285577, 0.6321205588285577, 0.6321205588285577]\n",
            "Media de falhas:  [0, 1649.16224, 65541.76579741901, 867584.9040977578, 16286542.634318136, 39935739.98575869, 40743131.112286545, 41358251.17928699, 45602028.6594785, 50581940.64410313, 57920674.522939004, 67389977.19044651, 123002309.58064514, 1011022036.2139721, 2785615213.110978]\n",
            "Custo =  86861783530.5643\n"
          ]
        },
        {
          "output_type": "stream",
          "name": "stderr",
          "text": [
            "pyswarms.single.global_best: 100%|██████████|1/1, best_cost=4.51e+10\n",
            "2023-09-01 02:59:41,966 - pyswarms.single.global_best - INFO - Optimization finished | best cost: 45053182833.53519, best pos: [5.75787704 1.78864431 4.71284551 1.92115036 4.86409822 0.57391475\n",
            " 5.07975409 5.60005756 5.52581024 1.43842125 5.68809316 3.14041795\n",
            " 3.64909522 3.05777348 3.54168777 2.57928377 2.24147318 4.23948919\n",
            " 1.46470292 3.56259461 4.21826707 2.38051745 2.60624521 4.11603322]\n"
          ]
        },
        {
          "output_type": "stream",
          "name": "stdout",
          "text": [
            "\n",
            "=========================================================================\n",
            "\n",
            "Número de ciclos de manutenção: 15 5\n",
            "Tempos para manutenções preventivas: [0, 22, 53, 118, 169, 184, 228, 255, 285, 320, 333, 379, 392, 436, 566, 586]\n",
            "Severidade para cada subsistema: [0.75, 0.25, 0.25, 0.25, 0.75, 0.75, 0.75, 0.75, 0.75, 0.5, 0.5, 0.5, 0.5, 0.25, 0.5]\n",
            "Número de Sisemas: 5\n",
            "Fator:  [0.3296799539643607, 0.7768698398515702, 0.3934693402873666, 0.3934693402873666, 0.3934693402873666, 0.7768698398515702, 0.7768698398515702, 0.7768698398515702, 0.7768698398515702, 0.7768698398515702, 0.6321205588285577, 0.6321205588285577, 0.6321205588285577, 0.6321205588285577, 0.3934693402873666, 0.6321205588285577]\n",
            "Media de falhas:  [0, 1649.16224, 65541.76579741901, 921890.5467118773, 9173785.148891097, 12720782.953099143, 36369980.304539695, 37177371.43106755, 38572179.92347104, 41220383.10003623, 41997094.24137595, 49335828.120211825, 58805130.787719324, 114417463.17791796, 741290273.8594795, 814159955.1857219, 8941882390.645199]\n",
            "Custo =  272891321786.05234\n"
          ]
        },
        {
          "output_type": "stream",
          "name": "stderr",
          "text": [
            "2023-09-01 02:59:41,968 - pyswarms.single.global_best - INFO - Optimize for 1 iters with {'c1': 0.5, 'c2': 0.3, 'w': 0.9}\n",
            "pyswarms.single.global_best:   0%|          |0/1, best_cost=4.51e+10"
          ]
        },
        {
          "output_type": "stream",
          "name": "stdout",
          "text": [
            "\n",
            "=========================================================================\n",
            "\n",
            "Número de ciclos de manutenção: 13 5\n",
            "Tempos para manutenções preventivas: [0, 22, 53, 118, 164, 184, 228, 255, 320, 333, 379, 392, 436, 586]\n",
            "Severidade para cada subsistema: [0.75, 0.25, 0.25, 0.5, 0.75, 0.75, 0.75, 0.75, 0.5, 0.5, 0.5, 0.5, 0.5]\n",
            "Número de Sisemas: 5\n",
            "Fator:  [0.3296799539643607, 0.7768698398515702, 0.3934693402873666, 0.3934693402873666, 0.6321205588285577, 0.7768698398515702, 0.7768698398515702, 0.7768698398515702, 0.7768698398515702, 0.6321205588285577, 0.6321205588285577, 0.6321205588285577, 0.6321205588285577, 0.6321205588285577]\n",
            "Media de falhas:  [0, 1649.16224, 65541.76579741901, 921890.5467118773, 7509555.058362579, 12181964.163822684, 17289052.62584041, 18096443.752368268, 26518255.36252356, 27294966.50386328, 34633700.382699154, 44103003.05020666, 99715335.44040528, 987735062.0737321, 2762328238.9707384]\n",
            "Custo =  84491945274.90492\n"
          ]
        },
        {
          "output_type": "stream",
          "name": "stderr",
          "text": [
            "\rpyswarms.single.global_best: 100%|██████████|1/1, best_cost=4.51e+10\n",
            "2023-09-01 02:59:41,978 - pyswarms.single.global_best - INFO - Optimization finished | best cost: 45053182833.53519, best pos: [5.75788593 1.78863877 4.71285775 1.9211503  4.8640942  0.57391444\n",
            " 5.07975296 5.60013232 5.52585618 5.17812243 5.68809399 3.14042166\n",
            " 3.64909618 3.05776004 3.54168765 2.5793252  2.24147132 4.23953943\n",
            " 3.52684159 3.56258571 4.21825797 2.38051787 2.60624155 4.11603776]\n",
            "2023-09-01 02:59:41,979 - pyswarms.single.global_best - INFO - Optimize for 1 iters with {'c1': 0.5, 'c2': 0.3, 'w': 0.9}\n",
            "pyswarms.single.global_best: 100%|██████████|1/1, best_cost=4.51e+10\n",
            "2023-09-01 02:59:41,987 - pyswarms.single.global_best - INFO - Optimization finished | best cost: 45053182833.53519, best pos: [5.75789312 1.78863766 4.71286021 1.92115024 4.86408946 0.57391417\n",
            " 5.07975093 5.6001956  5.52584853 1.61610707 5.68809526 3.140432\n",
            " 3.64909562 3.05775037 3.54168967 2.57938386 2.24146997 4.23962531\n",
            " 5.39171828 3.56258713 4.21825454 2.3805183  2.60623687 4.11604497]\n",
            "2023-09-01 02:59:41,988 - pyswarms.single.global_best - INFO - Optimize for 1 iters with {'c1': 0.5, 'c2': 0.3, 'w': 0.9}\n"
          ]
        },
        {
          "output_type": "stream",
          "name": "stdout",
          "text": [
            "\n",
            "=========================================================================\n",
            "\n",
            "Número de ciclos de manutenção: 14 5\n",
            "Tempos para manutenções preventivas: [0, 22, 53, 118, 152, 183, 227, 255, 298, 320, 333, 379, 391, 436, 586]\n",
            "Severidade para cada subsistema: [0.75, 0.25, 0.25, 0.75, 0.75, 0.75, 0.75, 0.5, 0.75, 0.5, 0.5, 0.5, 0.5, 0.5]\n",
            "Número de Sisemas: 5\n",
            "Fator:  [0.3296799539643607, 0.7768698398515702, 0.3934693402873666, 0.3934693402873666, 0.7768698398515702, 0.7768698398515702, 0.7768698398515702, 0.7768698398515702, 0.6321205588285577, 0.7768698398515702, 0.6321205588285577, 0.6321205588285577, 0.6321205588285577, 0.6321205588285577, 0.6321205588285577]\n",
            "Media de falhas:  [0, 1649.16224, 65541.76579741901, 921890.5467118773, 4517248.723474164, 11465767.23724609, 12835391.693700992, 13691786.59816686, 16684702.193174735, 18005328.13049923, 22985240.115123864, 30323973.99395974, 38940841.551690415, 96084043.57977974, 984103770.2131066, 2758696947.1101127]\n",
            "Custo =  85243087646.99736\n"
          ]
        },
        {
          "output_type": "stream",
          "name": "stderr",
          "text": [
            "pyswarms.single.global_best: 100%|██████████|1/1, best_cost=4.51e+10"
          ]
        },
        {
          "output_type": "stream",
          "name": "stdout",
          "text": [
            "\n",
            "=========================================================================\n",
            "\n",
            "Número de ciclos de manutenção: 12 5\n",
            "Tempos para manutenções preventivas: [0, 22, 53, 117, 183, 227, 255, 320, 333, 379, 391, 436, 586]\n",
            "Severidade para cada subsistema: [0.75, 0.25, 0.25, 0.75, 0.75, 0.75, 0.75, 0.5, 0.5, 0.5, 0.5, 0.5]\n",
            "Número de Sisemas: 5\n",
            "Fator:  [0.3296799539643607, 0.7768698398515702, 0.3934693402873666, 0.3934693402873666, 0.7768698398515702, 0.7768698398515702, 0.7768698398515702, 0.7768698398515702, 0.6321205588285577, 0.6321205588285577, 0.6321205588285577, 0.6321205588285577, 0.6321205588285577]\n",
            "Media de falhas:  [0, 1649.16224, 65541.76579741901, 867584.9040977578, 15715210.720089285, 38948848.01970501, 39805242.92417088, 48227054.53432617, 49003765.67566589, 56342499.554501764, 64959367.11223244, 122102569.14032178, 1010122295.7736486, 2784715472.670655]\n",
            "Custo =  85514891440.211\n"
          ]
        },
        {
          "output_type": "stream",
          "name": "stderr",
          "text": [
            "\n",
            "2023-09-01 02:59:41,998 - pyswarms.single.global_best - INFO - Optimization finished | best cost: 45053182833.53519, best pos: [5.75789935 1.78864194 4.71285725 1.92115015 4.86408504 0.57391404\n",
            " 5.07974838 5.60022874 5.52582867 4.96274475 5.6880965  3.14044287\n",
            " 3.64909423 3.05774325 3.54169337 2.579458   2.24146998 4.2397201\n",
            " 0.04871016 3.56259825 4.21825197 2.38051907 2.60623169 4.11605163]\n",
            "2023-09-01 02:59:42,000 - pyswarms.single.global_best - INFO - Optimize for 1 iters with {'c1': 0.5, 'c2': 0.3, 'w': 0.9}\n",
            "pyswarms.single.global_best: 100%|██████████|1/1, best_cost=4.51e+10\n",
            "2023-09-01 02:59:42,009 - pyswarms.single.global_best - INFO - Optimization finished | best cost: 45053182833.53519, best pos: [5.75790397 1.78864799 4.71285088 1.92115006 4.86408041 0.57391395\n",
            " 5.07974606 5.60023233 5.52572876 1.08507959 5.68809749 3.14045563\n",
            " 3.64909235 3.05775139 3.54169718 2.57953575 2.24147046 4.23981688\n",
            " 1.58990826 3.56261097 4.21825515 2.38051977 2.60622671 4.11605816]\n",
            "2023-09-01 02:59:42,009 - pyswarms.single.global_best - INFO - Optimize for 1 iters with {'c1': 0.5, 'c2': 0.3, 'w': 0.9}\n"
          ]
        },
        {
          "output_type": "stream",
          "name": "stdout",
          "text": [
            "\n",
            "=========================================================================\n",
            "\n",
            "Número de ciclos de manutenção: 14 5\n",
            "Tempos para manutenções preventivas: [0, 22, 53, 117, 182, 227, 255, 276, 320, 334, 379, 391, 436, 561, 586]\n",
            "Severidade para cada subsistema: [0.75, 0.25, 0.25, 0.75, 0.75, 0.75, 0.5, 0.75, 0.5, 0.5, 0.5, 0.5, 0.75, 0.5]\n",
            "Número de Sisemas: 5\n",
            "Fator:  [0.3296799539643607, 0.7768698398515702, 0.3934693402873666, 0.3934693402873666, 0.7768698398515702, 0.7768698398515702, 0.7768698398515702, 0.6321205588285577, 0.7768698398515702, 0.6321205588285577, 0.6321205588285577, 0.6321205588285577, 0.6321205588285577, 0.7768698398515702, 0.6321205588285577]\n",
            "Media de falhas:  [0, 1649.16224, 65541.76579741901, 867584.9040977578, 15160322.965023827, 38904835.04085476, 39761229.94532063, 40488283.83407455, 44403760.38920782, 49858079.868527465, 56928853.411989905, 65545720.96972058, 122688922.99780992, 694595674.3294922, 787004142.3550677, 1275813900.1465442]\n",
            "Custo =  60468627094.94138\n"
          ]
        },
        {
          "output_type": "stream",
          "name": "stderr",
          "text": [
            "pyswarms.single.global_best:   0%|          |0/1, best_cost=4.51e+10"
          ]
        },
        {
          "output_type": "stream",
          "name": "stdout",
          "text": [
            "\n",
            "=========================================================================\n",
            "\n",
            "Número de ciclos de manutenção: 14 5\n",
            "Tempos para manutenções preventivas: [0, 22, 53, 117, 177, 181, 227, 255, 320, 334, 379, 391, 436, 549, 586]\n",
            "Severidade para cada subsistema: [0.75, 0.25, 0.25, 0.25, 0.75, 0.75, 0.75, 0.75, 0.5, 0.5, 0.5, 0.5, 0.25, 0.5]\n",
            "Número de Sisemas: 5\n",
            "Fator:  [0.3296799539643607, 0.7768698398515702, 0.3934693402873666, 0.3934693402873666, 0.3934693402873666, 0.7768698398515702, 0.7768698398515702, 0.7768698398515702, 0.7768698398515702, 0.6321205588285577, 0.6321205588285577, 0.6321205588285577, 0.6321205588285577, 0.3934693402873666, 0.6321205588285577]\n",
            "Media de falhas:  [0, 1649.16224, 65541.76579741901, 867584.9040977578, 12620214.054035006, 13536096.462756624, 37792033.776152, 38648428.68061787, 47070240.29077316, 47930092.31919402, 55000865.86265646, 63617733.420387134, 120760935.44847646, 575561762.9312047, 717390558.721763, 8845112994.18124]\n",
            "Custo =  270535812577.04938\n"
          ]
        },
        {
          "output_type": "stream",
          "name": "stderr",
          "text": [
            "\rpyswarms.single.global_best: 100%|██████████|1/1, best_cost=4.51e+10\n",
            "2023-09-01 02:59:42,022 - pyswarms.single.global_best - INFO - Optimization finished | best cost: 45053182833.53519, best pos: [5.7579032  1.78865465 4.71283818 1.92114999 4.86407633 0.57391393\n",
            " 5.07974449 5.6002092  5.52561997 4.3913541  5.68809805 3.1404671\n",
            " 3.64909049 3.05777187 3.54170059 2.579599   2.24147128 4.23990361\n",
            " 3.95512208 3.56262626 4.21826122 2.38052039 2.60622277 4.11606378]\n",
            "2023-09-01 02:59:42,023 - pyswarms.single.global_best - INFO - Optimize for 1 iters with {'c1': 0.5, 'c2': 0.3, 'w': 0.9}\n",
            "pyswarms.single.global_best:   0%|          |0/1, best_cost=4.51e+10"
          ]
        },
        {
          "output_type": "stream",
          "name": "stdout",
          "text": [
            "\n",
            "=========================================================================\n",
            "\n",
            "Número de ciclos de manutenção: 14 5\n",
            "Tempos para manutenções preventivas: [0, 22, 53, 117, 168, 181, 227, 255, 298, 320, 334, 379, 391, 436, 586]\n",
            "Severidade para cada subsistema: [0.75, 0.25, 0.25, 0.5, 0.75, 0.75, 0.75, 0.25, 0.75, 0.5, 0.5, 0.5, 0.5, 0.5]\n",
            "Número de Sisemas: 5\n",
            "Fator:  [0.3296799539643607, 0.7768698398515702, 0.3934693402873666, 0.3934693402873666, 0.6321205588285577, 0.7768698398515702, 0.7768698398515702, 0.7768698398515702, 0.3934693402873666, 0.7768698398515702, 0.6321205588285577, 0.6321205588285577, 0.6321205588285577, 0.6321205588285577, 0.6321205588285577]\n",
            "Media de falhas:  [0, 1649.16224, 65541.76579741901, 867584.9040977578, 8927634.394059692, 11819965.318953343, 17189728.28715428, 18046123.19162015, 21039038.786628023, 22359664.723952517, 59076027.86972137, 66146801.41318381, 74763668.97091448, 131906870.99900383, 1019926597.6323307, 2794519774.529337]\n",
            "Custo =  94733955399.82399\n"
          ]
        },
        {
          "output_type": "stream",
          "name": "stderr",
          "text": [
            "\rpyswarms.single.global_best: 100%|██████████|1/1, best_cost=4.51e+10\n",
            "2023-09-01 02:59:42,034 - pyswarms.single.global_best - INFO - Optimization finished | best cost: 45053182833.53519, best pos: [5.75789939 1.78866097 4.71282309 1.92114992 4.86407288 0.57391391\n",
            " 5.07974354 5.60016176 5.52551597 0.3695299  5.68809801 3.14047549\n",
            " 3.64908904 3.05779042 3.54170307 2.57963581 2.24147231 4.23997617\n",
            " 6.42016014 3.56263993 4.21826933 2.38052079 2.60622096 4.11606819]\n",
            "2023-09-01 02:59:42,035 - pyswarms.single.global_best - INFO - Optimize for 1 iters with {'c1': 0.5, 'c2': 0.3, 'w': 0.9}\n",
            "pyswarms.single.global_best: 100%|██████████|1/1, best_cost=4.51e+10"
          ]
        },
        {
          "output_type": "stream",
          "name": "stdout",
          "text": [
            "\n",
            "=========================================================================\n",
            "\n",
            "Número de ciclos de manutenção: 14 5\n",
            "Tempos para manutenções preventivas: [0, 22, 53, 117, 156, 180, 227, 255, 320, 334, 379, 391, 436, 540, 586]\n",
            "Severidade para cada subsistema: [0.75, 0.25, 0.25, 0.75, 0.75, 0.75, 0.75, 0.75, 0.5, 0.5, 0.5, 0.5, 0.25, 0.5]\n",
            "Número de Sisemas: 5\n",
            "Fator:  [0.3296799539643607, 0.7768698398515702, 0.3934693402873666, 0.3934693402873666, 0.7768698398515702, 0.7768698398515702, 0.7768698398515702, 0.7768698398515702, 0.7768698398515702, 0.6321205588285577, 0.6321205588285577, 0.6321205588285577, 0.6321205588285577, 0.3934693402873666, 0.6321205588285577]\n",
            "Media de falhas:  [0, 1649.16224, 65541.76579741901, 867584.9040977578, 5436914.902676713, 10524897.122071607, 12101438.036166007, 12957832.940631878, 21379644.55078717, 22239496.57920803, 29310270.12267047, 37927137.68040115, 95070339.70849049, 474546119.0625551, 656034974.6761136, 8783757410.13559]\n",
            "Custo =  267122902106.8098\n"
          ]
        },
        {
          "output_type": "stream",
          "name": "stderr",
          "text": [
            "\n",
            "2023-09-01 02:59:42,046 - pyswarms.single.global_best - INFO - Optimization finished | best cost: 45053182833.53519, best pos: [5.75789306 1.7886658  4.71280953 1.92114988 4.8640716  0.57391394\n",
            " 5.07974386 5.60010312 5.52542444 4.17699318 5.68809751 3.14048199\n",
            " 3.64908825 3.05781046 3.54170425 2.57965711 2.2414739  4.24001908\n",
            " 1.29417707 3.56265153 4.21827691 2.38052088 2.60622016 4.11606825]\n",
            "2023-09-01 02:59:42,047 - pyswarms.single.global_best - INFO - Optimize for 1 iters with {'c1': 0.5, 'c2': 0.3, 'w': 0.9}\n",
            "pyswarms.single.global_best: 100%|██████████|1/1, best_cost=4.51e+10\n",
            "2023-09-01 02:59:42,057 - pyswarms.single.global_best - INFO - Optimization finished | best cost: 45053182833.53519, best pos: [5.7578872  1.78866778 4.71279767 1.92114984 4.86407176 0.57391411\n",
            " 5.07974427 5.60004883 5.52535425 0.921968   5.68809664 3.14048648\n",
            " 3.64908841 3.05782637 3.54170511 2.57967499 2.24147553 4.24002065\n",
            " 3.30065554 3.56266119 4.21828424 2.38052065 2.60622027 4.11606446]\n",
            "2023-09-01 02:59:42,058 - pyswarms.single.global_best - INFO - Optimize for 1 iters with {'c1': 0.5, 'c2': 0.3, 'w': 0.9}\n"
          ]
        },
        {
          "output_type": "stream",
          "name": "stdout",
          "text": [
            "\n",
            "=========================================================================\n",
            "\n",
            "Número de ciclos de manutenção: 12 5\n",
            "Tempos para manutenções preventivas: [0, 22, 53, 117, 180, 227, 255, 320, 334, 379, 391, 436, 586]\n",
            "Severidade para cada subsistema: [0.75, 0.25, 0.25, 0.75, 0.75, 0.75, 0.75, 0.5, 0.5, 0.5, 0.5, 0.5]\n",
            "Número de Sisemas: 5\n",
            "Fator:  [0.3296799539643607, 0.7768698398515702, 0.3934693402873666, 0.3934693402873666, 0.7768698398515702, 0.7768698398515702, 0.7768698398515702, 0.7768698398515702, 0.6321205588285577, 0.6321205588285577, 0.6321205588285577, 0.6321205588285577, 0.6321205588285577]\n",
            "Media de falhas:  [0, 1649.16224, 65541.76579741901, 867584.9040977578, 14098454.930267394, 38866448.173092544, 39722843.07755841, 48144654.687713705, 49004506.71613456, 56075280.259597, 64692147.81732768, 121835349.84541702, 1009855076.4787439, 2784448253.37575]\n",
            "Custo =  85447902410.65237\n"
          ]
        },
        {
          "output_type": "stream",
          "name": "stderr",
          "text": [
            "pyswarms.single.global_best: 100%|██████████|1/1, best_cost=4.51e+10\n",
            "2023-09-01 02:59:42,067 - pyswarms.single.global_best - INFO - Optimization finished | best cost: 45053182833.53519, best pos: [5.75788032 1.78866782 4.71278777 1.92114982 4.86407315 0.5739143\n",
            " 5.07974497 5.60000294 5.52530218 4.31096914 5.68809574 3.14048223\n",
            " 3.64908872 3.05783494 3.54170345 2.57964762 2.24147699 4.23996629\n",
            " 5.56447283 3.56266282 4.21829068 2.38052016 2.60622059 4.11606066]\n"
          ]
        },
        {
          "output_type": "stream",
          "name": "stdout",
          "text": [
            "\n",
            "=========================================================================\n",
            "\n",
            "Número de ciclos de manutenção: 13 5\n",
            "Tempos para manutenções preventivas: [0, 22, 53, 117, 181, 228, 255, 296, 320, 334, 379, 391, 436, 586]\n",
            "Severidade para cada subsistema: [0.75, 0.25, 0.25, 0.75, 0.75, 0.75, 0.5, 0.75, 0.5, 0.5, 0.5, 0.5, 0.5]\n",
            "Número de Sisemas: 5\n",
            "Fator:  [0.3296799539643607, 0.7768698398515702, 0.3934693402873666, 0.3934693402873666, 0.7768698398515702, 0.7768698398515702, 0.7768698398515702, 0.6321205588285577, 0.7768698398515702, 0.6321205588285577, 0.6321205588285577, 0.6321205588285577, 0.6321205588285577, 0.6321205588285577]\n",
            "Media de falhas:  [0, 1649.16224, 65541.76579741901, 867584.9040977578, 14621521.8133376, 39831935.67944668, 40639326.805974536, 43326051.582729556, 44818347.92649786, 50272667.40581751, 57343440.94927995, 65960308.507010624, 123103510.53509995, 1011123237.1684269, 2785716414.065433]\n",
            "Custo =  86807668047.41052\n"
          ]
        },
        {
          "output_type": "stream",
          "name": "stderr",
          "text": [
            "2023-09-01 02:59:42,068 - pyswarms.single.global_best - INFO - Optimize for 1 iters with {'c1': 0.5, 'c2': 0.3, 'w': 0.9}\n",
            "pyswarms.single.global_best: 100%|██████████|1/1, best_cost=4.51e+10\n",
            "2023-09-01 02:59:42,080 - pyswarms.single.global_best - INFO - Optimization finished | best cost: 45053182833.53519, best pos: [5.75787421 1.78866553 4.71278751 1.92114987 4.86407714 0.57391452\n",
            " 5.0797464  5.5999783  5.52528785 0.59690504 5.68809495 3.14047637\n",
            " 3.64908937 3.05783777 3.54170042 2.57961412 2.24147789 4.2398721\n",
            " 0.49481463 3.56265632 4.21829609 2.38051965 2.60622208 4.11605638]\n",
            "2023-09-01 02:59:42,081 - pyswarms.single.global_best - INFO - Optimize for 1 iters with {'c1': 0.5, 'c2': 0.3, 'w': 0.9}\n"
          ]
        },
        {
          "output_type": "stream",
          "name": "stdout",
          "text": [
            "\n",
            "=========================================================================\n",
            "\n",
            "Número de ciclos de manutenção: 12 5\n",
            "Tempos para manutenções preventivas: [0, 22, 53, 117, 181, 228, 255, 320, 334, 379, 391, 436, 586]\n",
            "Severidade para cada subsistema: [0.75, 0.25, 0.25, 0.75, 0.75, 0.75, 0.75, 0.5, 0.5, 0.5, 0.5, 0.5]\n",
            "Número de Sisemas: 5\n",
            "Fator:  [0.3296799539643607, 0.7768698398515702, 0.3934693402873666, 0.3934693402873666, 0.7768698398515702, 0.7768698398515702, 0.7768698398515702, 0.7768698398515702, 0.6321205588285577, 0.6321205588285577, 0.6321205588285577, 0.6321205588285577, 0.6321205588285577]\n",
            "Media de falhas:  [0, 1649.16224, 65541.76579741901, 867584.9040977578, 14621521.8133376, 39831935.67944668, 40639326.805974536, 49061138.41612983, 49920990.444550686, 56991763.988013126, 65608631.5457438, 122751833.57383314, 1010771560.20716, 2785364737.104166]\n",
            "Custo =  85502392430.63971\n"
          ]
        },
        {
          "output_type": "stream",
          "name": "stderr",
          "text": [
            "pyswarms.single.global_best: 100%|██████████|1/1, best_cost=4.51e+10\n",
            "2023-09-01 02:59:42,090 - pyswarms.single.global_best - INFO - Optimization finished | best cost: 45053182833.53519, best pos: [5.75786953 1.78866217 4.7127955  1.92114997 4.86408101 0.57391472\n",
            " 5.079748   5.59997063 5.52531265 4.82799447 5.68809439 3.14046672\n",
            " 3.64909045 3.0578301  3.54169677 2.57956074 2.24147868 4.23978341\n",
            " 3.46953759 3.56264165 4.21829931 2.38051917 2.6062254  4.11605186]\n",
            "2023-09-01 02:59:42,091 - pyswarms.single.global_best - INFO - Optimize for 1 iters with {'c1': 0.5, 'c2': 0.3, 'w': 0.9}\n"
          ]
        },
        {
          "output_type": "stream",
          "name": "stdout",
          "text": [
            "\n",
            "=========================================================================\n",
            "\n",
            "Número de ciclos de manutenção: 14 5\n",
            "Tempos para manutenções preventivas: [0, 22, 53, 117, 161, 182, 228, 255, 320, 334, 379, 391, 436, 545, 586]\n",
            "Severidade para cada subsistema: [0.75, 0.25, 0.25, 0.25, 0.75, 0.75, 0.75, 0.75, 0.5, 0.5, 0.5, 0.5, 0.25, 0.5]\n",
            "Número de Sisemas: 5\n",
            "Fator:  [0.3296799539643607, 0.7768698398515702, 0.3934693402873666, 0.3934693402873666, 0.3934693402873666, 0.7768698398515702, 0.7768698398515702, 0.7768698398515702, 0.7768698398515702, 0.6321205588285577, 0.6321205588285577, 0.6321205588285577, 0.6321205588285577, 0.3934693402873666, 0.6321205588285577]\n",
            "Media de falhas:  [0, 1649.16224, 65541.76579741901, 867584.9040977578, 6717989.600541089, 11401665.873609614, 36091078.54595356, 36898469.67248141, 45320281.2826367, 46180133.31105756, 53250906.85452, 61867774.412250675, 119010976.44034001, 539087199.7363646, 698251237.0655491, 8825973672.525026]\n",
            "Custo =  269807220676.52466\n"
          ]
        },
        {
          "output_type": "stream",
          "name": "stderr",
          "text": [
            "pyswarms.single.global_best: 100%|██████████|1/1, best_cost=4.51e+10\n",
            "2023-09-01 02:59:42,102 - pyswarms.single.global_best - INFO - Optimization finished | best cost: 45053182833.53519, best pos: [5.75786792 1.78865798 4.71280951 1.92115008 4.86408496 0.5739149\n",
            " 5.07974945 5.59996882 5.52538147 1.6682082  5.68809399 3.14045573\n",
            " 3.64909144 3.05781923 3.54169342 2.57950102 2.24147873 4.2397103\n",
            " 6.63436561 3.56262844 4.21829626 2.38051878 2.60622848 4.1160481 ]\n",
            "2023-09-01 02:59:42,104 - pyswarms.single.global_best - INFO - Optimize for 1 iters with {'c1': 0.5, 'c2': 0.3, 'w': 0.9}\n"
          ]
        },
        {
          "output_type": "stream",
          "name": "stdout",
          "text": [
            "\n",
            "=========================================================================\n",
            "\n",
            "Número de ciclos de manutenção: 14 5\n",
            "Tempos para manutenções preventivas: [0, 22, 53, 117, 182, 228, 255, 279, 320, 334, 379, 391, 436, 558, 586]\n",
            "Severidade para cada subsistema: [0.75, 0.25, 0.25, 0.75, 0.75, 0.75, 0.75, 0.75, 0.5, 0.5, 0.5, 0.5, 0.75, 0.5]\n",
            "Número de Sisemas: 5\n",
            "Fator:  [0.3296799539643607, 0.7768698398515702, 0.3934693402873666, 0.3934693402873666, 0.7768698398515702, 0.7768698398515702, 0.7768698398515702, 0.7768698398515702, 0.7768698398515702, 0.6321205588285577, 0.6321205588285577, 0.6321205588285577, 0.6321205588285577, 0.7768698398515702, 0.6321205588285577]\n",
            "Media de falhas:  [0, 1649.16224, 65541.76579741901, 867584.9040977578, 15160322.965023827, 39849735.63736777, 40657126.76389562, 41575075.22249683, 45031393.91165379, 45891245.940074645, 52962019.483537085, 61578887.04126776, 118722089.0693571, 659447187.7065191, 763865322.0225552, 1252675079.8140318]\n",
            "Custo =  58744427485.64738\n"
          ]
        },
        {
          "output_type": "stream",
          "name": "stderr",
          "text": [
            "pyswarms.single.global_best: 100%|██████████|1/1, best_cost=4.51e+10\n",
            "2023-09-01 02:59:42,116 - pyswarms.single.global_best - INFO - Optimization finished | best cost: 45053182833.53519, best pos: [5.75786688 1.78865416 4.71282283 1.92115018 4.86408845 0.57391504\n",
            " 5.07975049 5.59998    5.52545795 6.23627024 5.68809393 3.14044581\n",
            " 3.64909232 3.05780578 3.54169098 2.57944998 2.24147876 4.23966549\n",
            " 2.37358557 3.56261636 4.21829045 2.38051867 2.60623161 4.11604603]\n",
            "2023-09-01 02:59:42,117 - pyswarms.single.global_best - INFO - Optimize for 1 iters with {'c1': 0.5, 'c2': 0.3, 'w': 0.9}\n"
          ]
        },
        {
          "output_type": "stream",
          "name": "stdout",
          "text": [
            "\n",
            "=========================================================================\n",
            "\n",
            "Número de ciclos de manutenção: 12 5\n",
            "Tempos para manutenções preventivas: [0, 22, 53, 117, 183, 228, 255, 320, 334, 379, 392, 436, 586]\n",
            "Severidade para cada subsistema: [0.75, 0.25, 0.25, 0.75, 0.75, 0.75, 0.75, 0.5, 0.5, 0.5, 0.5, 0.5]\n",
            "Número de Sisemas: 5\n",
            "Fator:  [0.3296799539643607, 0.7768698398515702, 0.3934693402873666, 0.3934693402873666, 0.7768698398515702, 0.7768698398515702, 0.7768698398515702, 0.7768698398515702, 0.6321205588285577, 0.6321205588285577, 0.6321205588285577, 0.6321205588285577, 0.6321205588285577]\n",
            "Media de falhas:  [0, 1649.16224, 65541.76579741901, 867584.9040977578, 15715210.720089285, 39884244.89599844, 40691636.022526294, 49113447.632681586, 49973299.661102444, 57044073.204564884, 66513375.872072384, 122125708.26227102, 1010145434.8955979, 2784738611.792604]\n",
            "Custo =  85563032170.97922\n"
          ]
        },
        {
          "output_type": "stream",
          "name": "stderr",
          "text": [
            "pyswarms.single.global_best: 100%|██████████|1/1, best_cost=4.51e+10\n",
            "2023-09-01 02:59:42,128 - pyswarms.single.global_best - INFO - Optimization finished | best cost: 45053182833.53519, best pos: [5.75786859 1.78865092 4.71283487 1.92115023 4.86409132 0.57391517\n",
            " 5.079751   5.60000226 5.52553189 3.32591185 5.68809433 3.14043776\n",
            " 3.64909296 3.05779365 3.54168953 2.5794217  2.24147793 4.23962604\n",
            " 4.88463542 3.56260561 4.21828247 2.38051873 2.60623438 4.11604473]\n"
          ]
        },
        {
          "output_type": "stream",
          "name": "stdout",
          "text": [
            "\n",
            "=========================================================================\n",
            "\n",
            "Número de ciclos de manutenção: 13 5\n",
            "Tempos para manutenções preventivas: [0, 22, 53, 117, 183, 228, 255, 296, 320, 334, 379, 392, 436, 586]\n",
            "Severidade para cada subsistema: [0.75, 0.25, 0.25, 0.75, 0.75, 0.75, 0.5, 0.75, 0.5, 0.5, 0.5, 0.5, 0.5]\n",
            "Número de Sisemas: 5\n",
            "Fator:  [0.3296799539643607, 0.7768698398515702, 0.3934693402873666, 0.3934693402873666, 0.7768698398515702, 0.7768698398515702, 0.7768698398515702, 0.6321205588285577, 0.7768698398515702, 0.6321205588285577, 0.6321205588285577, 0.6321205588285577, 0.6321205588285577, 0.6321205588285577]\n",
            "Media de falhas:  [0, 1649.16224, 65541.76579741901, 867584.9040977578, 15715210.720089285, 39884244.89599844, 40691636.022526294, 43378360.799281314, 44870657.14304962, 50324976.62236927, 57395750.16583171, 66865052.833339214, 122477385.22353783, 1010497111.8568647, 2785090288.753871]\n",
            "Custo =  86868307787.75003\n"
          ]
        },
        {
          "output_type": "stream",
          "name": "stderr",
          "text": [
            "2023-09-01 02:59:42,130 - pyswarms.single.global_best - INFO - Optimize for 1 iters with {'c1': 0.5, 'c2': 0.3, 'w': 0.9}\n",
            "pyswarms.single.global_best:   0%|          |0/1, best_cost=4.51e+10"
          ]
        },
        {
          "output_type": "stream",
          "name": "stdout",
          "text": [
            "\n",
            "=========================================================================\n",
            "\n",
            "Número de ciclos de manutenção: 12 5\n",
            "Tempos para manutenções preventivas: [0, 22, 53, 117, 183, 228, 255, 320, 333, 379, 392, 436, 586]\n",
            "Severidade para cada subsistema: [0.75, 0.25, 0.25, 0.75, 0.75, 0.75, 0.75, 0.5, 0.5, 0.5, 0.5, 0.5]\n",
            "Número de Sisemas: 5\n",
            "Fator:  [0.3296799539643607, 0.7768698398515702, 0.3934693402873666, 0.3934693402873666, 0.7768698398515702, 0.7768698398515702, 0.7768698398515702, 0.7768698398515702, 0.6321205588285577, 0.6321205588285577, 0.6321205588285577, 0.6321205588285577, 0.6321205588285577]\n",
            "Media de falhas:  [0, 1649.16224, 65541.76579741901, 867584.9040977578, 15715210.720089285, 39884244.89599844, 40691636.022526294, 49113447.632681586, 49890158.774021305, 57228892.65285718, 66698195.320364684, 122310527.7105633, 1010330254.3438902, 2784923431.240896]\n",
            "Custo =  85565985794.60312\n"
          ]
        },
        {
          "output_type": "stream",
          "name": "stderr",
          "text": [
            "\rpyswarms.single.global_best: 100%|██████████|1/1, best_cost=4.51e+10\n",
            "2023-09-01 02:59:42,141 - pyswarms.single.global_best - INFO - Optimization finished | best cost: 45053182833.53519, best pos: [5.75787101 1.78864996 4.71284354 1.92115029 4.86409149 0.57391527\n",
            " 5.0797511  5.60003831 5.52559938 0.53039329 5.688095   3.14043574\n",
            " 3.64909332 3.05778475 3.54169008 2.57941432 2.24147647 4.23960107\n",
            " 0.18750977 3.56259693 4.21827526 2.38051899 2.6062359  4.1160453 ]\n",
            "2023-09-01 02:59:42,143 - pyswarms.single.global_best - INFO - Optimize for 1 iters with {'c1': 0.5, 'c2': 0.3, 'w': 0.9}\n",
            "pyswarms.single.global_best:   0%|          |0/1, best_cost=4.51e+10"
          ]
        },
        {
          "output_type": "stream",
          "name": "stdout",
          "text": [
            "\n",
            "=========================================================================\n",
            "\n",
            "Número de ciclos de manutenção: 14 5\n",
            "Tempos para manutenções preventivas: [0, 22, 53, 117, 183, 228, 255, 294, 320, 333, 379, 391, 436, 565, 586]\n",
            "Severidade para cada subsistema: [0.75, 0.25, 0.25, 0.75, 0.75, 0.75, 0.25, 0.75, 0.5, 0.5, 0.5, 0.5, 0.75, 0.5]\n",
            "Número de Sisemas: 5\n",
            "Fator:  [0.3296799539643607, 0.7768698398515702, 0.3934693402873666, 0.3934693402873666, 0.7768698398515702, 0.7768698398515702, 0.7768698398515702, 0.3934693402873666, 0.7768698398515702, 0.6321205588285577, 0.6321205588285577, 0.6321205588285577, 0.6321205588285577, 0.7768698398515702, 0.6321205588285577]\n",
            "Media de falhas:  [0, 1649.16224, 65541.76579741901, 867584.9040977578, 15715210.720089285, 39884244.89599844, 40691636.022526294, 43096194.4934659, 44771076.446332835, 78516121.43737741, 85854855.31621328, 94471722.87394395, 151614924.9020333, 767187484.8250751, 843918583.8476716, 1332728341.6391482]\n",
            "Custo =  69984742616.41214\n"
          ]
        },
        {
          "output_type": "stream",
          "name": "stderr",
          "text": [
            "\rpyswarms.single.global_best: 100%|██████████|1/1, best_cost=4.51e+10\n",
            "2023-09-01 02:59:42,154 - pyswarms.single.global_best - INFO - Optimization finished | best cost: 45053182833.53519, best pos: [5.75787399 1.7886499  4.7128457  1.92115029 4.86409096 0.57391522\n",
            " 5.07975037 5.60007985 5.52564289 5.66451743 5.68809575 3.14043731\n",
            " 3.64909313 3.0577819  3.54169248 2.57942145 2.24147513 4.23964105\n",
            " 2.7413544  3.56259448 4.21826952 2.38051925 2.60623679 4.11604806]\n",
            "2023-09-01 02:59:42,155 - pyswarms.single.global_best - INFO - Optimize for 1 iters with {'c1': 0.5, 'c2': 0.3, 'w': 0.9}\n",
            "pyswarms.single.global_best: 100%|██████████|1/1, best_cost=4.51e+10"
          ]
        },
        {
          "output_type": "stream",
          "name": "stdout",
          "text": [
            "\n",
            "=========================================================================\n",
            "\n",
            "Número de ciclos de manutenção: 14 5\n",
            "Tempos para manutenções preventivas: [0, 22, 53, 117, 177, 183, 227, 255, 320, 333, 379, 391, 436, 552, 586]\n",
            "Severidade para cada subsistema: [0.75, 0.25, 0.25, 0.25, 0.75, 0.75, 0.75, 0.75, 0.5, 0.5, 0.5, 0.5, 0.25, 0.5]\n",
            "Número de Sisemas: 5\n",
            "Fator:  [0.3296799539643607, 0.7768698398515702, 0.3934693402873666, 0.3934693402873666, 0.3934693402873666, 0.7768698398515702, 0.7768698398515702, 0.7768698398515702, 0.7768698398515702, 0.6321205588285577, 0.6321205588285577, 0.6321205588285577, 0.6321205588285577, 0.3934693402873666, 0.6321205588285577]\n",
            "Media de falhas:  [0, 1649.16224, 65541.76579741901, 867584.9040977578, 12620214.054035006, 14046134.686100814, 37279771.98571654, 38136166.890182406, 46557978.5003377, 47334689.64167742, 54673423.52051329, 63290291.07824396, 120433493.1063333, 602646099.3940464, 731766079.7339668, 8859488515.193443]\n",
            "Custo =  270963053177.70166\n"
          ]
        },
        {
          "output_type": "stream",
          "name": "stderr",
          "text": [
            "\n",
            "2023-09-01 02:59:42,165 - pyswarms.single.global_best - INFO - Optimization finished | best cost: 45053182833.53519, best pos: [5.7578787  1.78865033 4.712844   1.92115023 4.86408968 0.57391511\n",
            " 5.07974933 5.60011719 5.52568035 3.26553044 5.68809643 3.14044379\n",
            " 3.64909262 3.05778064 3.5416947  2.57944423 2.24147396 4.23972533\n",
            " 5.19055402 3.56259867 4.21826445 2.38051956 2.6062361  4.11605208]\n",
            "2023-09-01 02:59:42,166 - pyswarms.single.global_best - INFO - Optimize for 1 iters with {'c1': 0.5, 'c2': 0.3, 'w': 0.9}\n",
            "pyswarms.single.global_best: 100%|██████████|1/1, best_cost=4.51e+10"
          ]
        },
        {
          "output_type": "stream",
          "name": "stdout",
          "text": [
            "\n",
            "=========================================================================\n",
            "\n",
            "Número de ciclos de manutenção: 13 5\n",
            "Tempos para manutenções preventivas: [0, 22, 53, 117, 173, 182, 227, 255, 320, 333, 379, 391, 436, 586]\n",
            "Severidade para cada subsistema: [0.75, 0.25, 0.25, 0.5, 0.75, 0.75, 0.75, 0.75, 0.5, 0.5, 0.5, 0.5, 0.5]\n",
            "Número de Sisemas: 5\n",
            "Fator:  [0.3296799539643607, 0.7768698398515702, 0.3934693402873666, 0.3934693402873666, 0.6321205588285577, 0.7768698398515702, 0.7768698398515702, 0.7768698398515702, 0.7768698398515702, 0.6321205588285577, 0.6321205588285577, 0.6321205588285577, 0.6321205588285577, 0.6321205588285577]\n",
            "Media de falhas:  [0, 1649.16224, 65541.76579741901, 867584.9040977578, 10849028.82351388, 12920942.071088968, 18118317.694790617, 18974712.599256486, 27396524.209411778, 28173235.350751497, 35511969.22958737, 44128836.78731804, 101272038.81540738, 989291765.4487343, 2763884942.3457403]\n",
            "Custo =  84598687258.15733\n"
          ]
        },
        {
          "output_type": "stream",
          "name": "stderr",
          "text": [
            "\n",
            "2023-09-01 02:59:42,176 - pyswarms.single.global_best - INFO - Optimization finished | best cost: 45053182833.53519, best pos: [5.75788359 1.7886515  4.71284128 1.92115016 4.8640877  0.57391493\n",
            " 5.07974811 5.60014328 5.52568638 0.65566278 5.68809691 3.14045082\n",
            " 3.64909214 3.05778011 3.54169715 2.57947707 2.24147324 4.23981359\n",
            " 0.3890476  3.56260775 4.21826068 2.38051985 2.6062342  4.11605581]\n",
            "2023-09-01 02:59:42,178 - pyswarms.single.global_best - INFO - Optimize for 1 iters with {'c1': 0.5, 'c2': 0.3, 'w': 0.9}\n",
            "pyswarms.single.global_best:   0%|          |0/1"
          ]
        },
        {
          "output_type": "stream",
          "name": "stdout",
          "text": [
            "\n",
            "=========================================================================\n",
            "\n",
            "Número de ciclos de manutenção: 14 5\n",
            "Tempos para manutenções preventivas: "
          ]
        },
        {
          "output_type": "stream",
          "name": "stderr",
          "text": [
            "pyswarms.single.global_best: 100%|██████████|1/1, best_cost=4.51e+10"
          ]
        },
        {
          "output_type": "stream",
          "name": "stdout",
          "text": [
            "[0, 22, 53, 117, 174, 182, 227, 255, 293, 320, 334, 379, 391, 436, 586]\n",
            "Severidade para cada subsistema: [0.75, 0.25, 0.25, 0.75, 0.75, 0.75, 0.75, 0.5, 0.75, 0.5, 0.5, 0.5, 0.5, 0.5]\n",
            "Número de Sisemas: 5\n",
            "Fator:  [0.3296799539643607, 0.7768698398515702, 0.3934693402873666, 0.3934693402873666, 0.7768698398515702, 0.7768698398515702, 0.7768698398515702, 0.7768698398515702, 0.6321205588285577, 0.7768698398515702, 0.6321205588285577, 0.6321205588285577, 0.6321205588285577, 0.6321205588285577, 0.6321205588285577]\n",
            "Media de falhas:  [0, 1649.16224, 65541.76579741901, 867584.9040977578, 11271390.69788222, 13118955.55454611, 14555127.581806384, 15411522.486272253, 17683553.948061, 19454009.08190559, 24908328.561225235, 31979102.104687676, 40595969.66241835, 97739171.69050768, 985758898.3238345, 2760352075.2208405]\n",
            "Custo =  85577359059.66498\n"
          ]
        },
        {
          "output_type": "stream",
          "name": "stderr",
          "text": [
            "\n",
            "2023-09-01 02:59:42,269 - pyswarms.single.global_best - INFO - Optimization finished | best cost: 45053182833.53519, best pos: [5.75788754 1.78865273 4.71283762 1.92115008 4.86408513 0.57391471\n",
            " 5.07974702 5.6001547  5.5256773  5.58069476 5.68809718 3.14045843\n",
            " 3.64909147 3.05778006 3.54169927 2.57950679 2.24147316 4.23989306\n",
            " 3.25731033 3.56262038 4.2182601  2.38052007 2.60623213 4.11605864]\n",
            "2023-09-01 02:59:42,271 - pyswarms.single.global_best - INFO - Optimize for 1 iters with {'c1': 0.5, 'c2': 0.3, 'w': 0.9}\n",
            "pyswarms.single.global_best:   0%|          |0/1, best_cost=4.51e+10"
          ]
        },
        {
          "output_type": "stream",
          "name": "stdout",
          "text": [
            "\n",
            "=========================================================================\n",
            "\n",
            "Número de ciclos de manutenção: 12 5\n",
            "Tempos para manutenções preventivas: [0, 22, 53, 117, 182, 227, 255, 320, 334, 379, 391, 436, 586]\n",
            "Severidade para cada subsistema: [0.75, 0.25, 0.25, 0.75, 0.75, 0.75, 0.75, 0.5, 0.5, 0.5, 0.5, 0.5]\n",
            "Número de Sisemas: 5\n",
            "Fator:  [0.3296799539643607, 0.7768698398515702, 0.3934693402873666, 0.3934693402873666, 0.7768698398515702, 0.7768698398515702, 0.7768698398515702, 0.7768698398515702, 0.6321205588285577, 0.6321205588285577, 0.6321205588285577, 0.6321205588285577, 0.6321205588285577]\n",
            "Media de falhas:  [0, 1649.16224, 65541.76579741901, 867584.9040977578, 15160322.965023827, 38904835.04085476, 39761229.94532063, 48183041.55547592, 49042893.58389678, 56113667.12735922, 64730534.68508989, 121873736.71317923, 1009893463.3465061, 2784486640.243512]\n",
            "Custo =  85490109264.91501\n"
          ]
        },
        {
          "output_type": "stream",
          "name": "stderr",
          "text": [
            "\rpyswarms.single.global_best: 100%|██████████|1/1, best_cost=4.51e+10\n",
            "2023-09-01 02:59:42,279 - pyswarms.single.global_best - INFO - Optimization finished | best cost: 45053182833.53519, best pos: [5.7578905  1.78865455 4.71283133 1.92115001 4.8640824  0.57391451\n",
            " 5.07974636 5.60014966 5.5256422  3.00285635 5.68809733 3.14046484\n",
            " 3.64909086 3.05778617 3.54170069 2.57953443 2.24147344 4.23995404\n",
            " 5.91513911 3.562633   4.21826315 2.38052016 2.60623024 4.1160602 ]\n",
            "2023-09-01 02:59:42,280 - pyswarms.single.global_best - INFO - Optimize for 1 iters with {'c1': 0.5, 'c2': 0.3, 'w': 0.9}\n",
            "pyswarms.single.global_best: 100%|██████████|1/1, best_cost=4.51e+10\n",
            "2023-09-01 02:59:42,288 - pyswarms.single.global_best - INFO - Optimization finished | best cost: 45053182833.53519, best pos: [5.75789159 1.78865697 4.71282471 1.92114995 4.86407995 0.57391432\n",
            " 5.07974606 5.6001358  5.52559232 0.50993231 5.68809712 3.14046855\n",
            " 3.6490904  3.05779288 3.54170074 2.57955232 2.24147373 4.24000149\n",
            " 1.13580913 3.56264205 4.21827033 2.3805201  2.60622855 4.11606116]\n"
          ]
        },
        {
          "output_type": "stream",
          "name": "stdout",
          "text": [
            "\n",
            "=========================================================================\n",
            "\n",
            "Número de ciclos de manutenção: 14 5\n",
            "Tempos para manutenções preventivas: [0, 22, 53, 117, 156, 181, 227, 255, 277, 320, 334, 379, 391, 436, 586]\n",
            "Severidade para cada subsistema: [0.75, 0.25, 0.25, 0.5, 0.75, 0.75, 0.75, 0.5, 0.75, 0.5, 0.5, 0.5, 0.5, 0.5]\n",
            "Número de Sisemas: 5\n",
            "Fator:  [0.3296799539643607, 0.7768698398515702, 0.3934693402873666, 0.3934693402873666, 0.6321205588285577, 0.7768698398515702, 0.7768698398515702, 0.7768698398515702, 0.6321205588285577, 0.7768698398515702, 0.6321205588285577, 0.6321205588285577, 0.6321205588285577, 0.6321205588285577, 0.6321205588285577]\n",
            "Media de falhas:  [0, 1649.16224, 65541.76579741901, 867584.9040977578, 5436914.902676713, 10847045.742334839, 16216808.710535776, 17073203.615001645, 17860705.161090244, 21618790.39197567, 27073109.871295318, 34143883.41475776, 42760750.97248843, 99903953.00057778, 987923679.6339047, 2762516856.5309105]\n",
            "Custo =  85588350680.72278\n"
          ]
        },
        {
          "output_type": "stream",
          "name": "stderr",
          "text": [
            "2023-09-01 02:59:42,290 - pyswarms.single.global_best - INFO - Optimize for 1 iters with {'c1': 0.5, 'c2': 0.3, 'w': 0.9}\n",
            "pyswarms.single.global_best: 100%|██████████|1/1, best_cost=4.51e+10\n",
            "2023-09-01 02:59:42,298 - pyswarms.single.global_best - INFO - Optimization finished | best cost: 45053182833.53519, best pos: [5.75789152 1.78865927 4.71281848 1.92114994 4.86407819 0.57391417\n",
            " 5.07974603 5.60012208 5.52554701 6.02350867 5.68809689 3.14047018\n",
            " 3.64908999 3.05780112 3.54170049 2.57955708 2.24147426 4.24004386\n",
            " 3.63989566 3.56264997 4.21827719 2.38051992 2.6062274  4.11606066]\n",
            "2023-09-01 02:59:42,299 - pyswarms.single.global_best - INFO - Optimize for 1 iters with {'c1': 0.5, 'c2': 0.3, 'w': 0.9}\n"
          ]
        },
        {
          "output_type": "stream",
          "name": "stdout",
          "text": [
            "\n",
            "=========================================================================\n",
            "\n",
            "Número de ciclos de manutenção: 13 5\n",
            "Tempos para manutenções preventivas: [0, 22, 53, 117, 170, 181, 227, 255, 320, 334, 379, 391, 436, 586]\n",
            "Severidade para cada subsistema: [0.75, 0.25, 0.25, 0.75, 0.75, 0.75, 0.75, 0.75, 0.5, 0.5, 0.5, 0.5, 0.5]\n",
            "Número de Sisemas: 5\n",
            "Fator:  [0.3296799539643607, 0.7768698398515702, 0.3934693402873666, 0.3934693402873666, 0.7768698398515702, 0.7768698398515702, 0.7768698398515702, 0.7768698398515702, 0.7768698398515702, 0.6321205588285577, 0.6321205588285577, 0.6321205588285577, 0.6321205588285577, 0.6321205588285577]\n",
            "Media de falhas:  [0, 1649.16224, 65541.76579741901, 867584.9040977578, 9659313.378717842, 12120913.99764395, 13626035.868069705, 14482430.772535574, 22904242.382690866, 23764094.411111727, 30834867.954574168, 39451735.51230484, 96594937.54039419, 984614664.1737211, 2759207841.0707273]\n",
            "Custo =  84189468322.52254\n"
          ]
        },
        {
          "output_type": "stream",
          "name": "stderr",
          "text": [
            "pyswarms.single.global_best: 100%|██████████|1/1, best_cost=4.51e+10\n",
            "2023-09-01 02:59:42,309 - pyswarms.single.global_best - INFO - Optimization finished | best cost: 45053182833.53519, best pos: [5.75789011 1.78866112 4.71281395 1.92114992 4.86407725 0.57391414\n",
            " 5.07974613 5.60010147 5.52550394 3.93073474 5.6880966  3.14047001\n",
            " 3.6490898  3.05780868 3.54169929 2.57955256 2.24147482 4.24006552\n",
            " 6.20481454 3.56265415 4.21828385 2.38051972 2.60622689 4.11605909]\n",
            "2023-09-01 02:59:42,310 - pyswarms.single.global_best - INFO - Optimize for 1 iters with {'c1': 0.5, 'c2': 0.3, 'w': 0.9}\n"
          ]
        },
        {
          "output_type": "stream",
          "name": "stdout",
          "text": [
            "\n",
            "=========================================================================\n",
            "\n",
            "Número de ciclos de manutenção: 13 5\n",
            "Tempos para manutenções preventivas: [0, 22, 53, 117, 181, 227, 255, 296, 320, 334, 379, 391, 436, 586]\n",
            "Severidade para cada subsistema: [0.75, 0.25, 0.25, 0.75, 0.75, 0.75, 0.25, 0.75, 0.5, 0.5, 0.5, 0.5, 0.5]\n",
            "Número de Sisemas: 5\n",
            "Fator:  [0.3296799539643607, 0.7768698398515702, 0.3934693402873666, 0.3934693402873666, 0.7768698398515702, 0.7768698398515702, 0.7768698398515702, 0.3934693402873666, 0.7768698398515702, 0.6321205588285577, 0.6321205588285577, 0.6321205588285577, 0.6321205588285577, 0.6321205588285577]\n",
            "Media de falhas:  [0, 1649.16224, 65541.76579741901, 867584.9040977578, 14621521.8133376, 38877459.126732975, 39733854.031198844, 42420578.807953864, 43912875.15172217, 80629238.29749101, 87700011.84095345, 96316879.39868413, 153460081.42677346, 1041479808.0601003, 2816072984.9571066]\n",
            "Custo =  95706053896.1729\n"
          ]
        },
        {
          "output_type": "stream",
          "name": "stderr",
          "text": [
            "pyswarms.single.global_best: 100%|██████████|1/1, best_cost=4.51e+10\n",
            "2023-09-01 02:59:42,320 - pyswarms.single.global_best - INFO - Optimization finished | best cost: 45053182833.53519, best pos: [5.75788763 1.78866257 4.71281237 1.92114991 4.86407742 0.57391413\n",
            " 5.07974681 5.60008167 5.52546822 1.70576098 5.68809627 3.14046597\n",
            " 3.64908985 3.05781456 3.5416976  2.57954626 2.24147533 4.24003429\n",
            " 1.20395518 3.56265397 4.218289   2.38051951 2.6062273  4.11605743]\n",
            "2023-09-01 02:59:42,321 - pyswarms.single.global_best - INFO - Optimize for 1 iters with {'c1': 0.5, 'c2': 0.3, 'w': 0.9}\n"
          ]
        },
        {
          "output_type": "stream",
          "name": "stdout",
          "text": [
            "\n",
            "=========================================================================\n",
            "\n",
            "Número de ciclos de manutenção: 13 5\n",
            "Tempos para manutenções preventivas: [0, 22, 53, 117, 161, 181, 227, 255, 320, 334, 379, 391, 436, 586]\n",
            "Severidade para cada subsistema: [0.75, 0.25, 0.25, 0.5, 0.75, 0.75, 0.75, 0.75, 0.5, 0.5, 0.5, 0.5, 0.5]\n",
            "Número de Sisemas: 5\n",
            "Fator:  [0.3296799539643607, 0.7768698398515702, 0.3934693402873666, 0.3934693402873666, 0.6321205588285577, 0.7768698398515702, 0.7768698398515702, 0.7768698398515702, 0.7768698398515702, 0.6321205588285577, 0.6321205588285577, 0.6321205588285577, 0.6321205588285577, 0.6321205588285577]\n",
            "Media de falhas:  [0, 1649.16224, 65541.76579741901, 867584.9040977578, 6717989.600541089, 11089854.783014258, 16459617.751215193, 17316012.655681062, 25737824.265836354, 26597676.294257216, 33668449.83771966, 42285317.39545033, 99428519.42353967, 987448246.0568665, 2762041422.9538727]\n",
            "Custo =  84373097277.51749\n"
          ]
        },
        {
          "output_type": "stream",
          "name": "stderr",
          "text": [
            "pyswarms.single.global_best:   0%|          |0/1, best_cost=4.51e+10"
          ]
        },
        {
          "output_type": "stream",
          "name": "stdout",
          "text": [
            "\n",
            "=========================================================================\n",
            "\n",
            "Número de ciclos de manutenção: 12 5\n",
            "Tempos para manutenções preventivas: [0, 22, 53, 117, 181, 227, 255, 320, 334, 379, 391, 436, 586]\n",
            "Severidade para cada subsistema: [0.75, 0.25, 0.25, 0.75, 0.75, 0.75, 0.75, 0.5, 0.5, 0.5, 0.5, 0.5]\n",
            "Número de Sisemas: 5\n",
            "Fator:  [0.3296799539643607, 0.7768698398515702, 0.3934693402873666, 0.3934693402873666, 0.7768698398515702, 0.7768698398515702, 0.7768698398515702, 0.7768698398515702, 0.6321205588285577, 0.6321205588285577, 0.6321205588285577, 0.6321205588285577, 0.6321205588285577]\n",
            "Media de falhas:  [0, 1649.16224, 65541.76579741901, 867584.9040977578, 14621521.8133376, 38877459.126732975, 39733854.031198844, 48155665.641354136, 49015517.669774994, 56086291.213237435, 64703158.77096811, 121846360.79905745, 1009866087.4323844, 2784459264.3293905]\n",
            "Custo =  85468765852.05423\n"
          ]
        },
        {
          "output_type": "stream",
          "name": "stderr",
          "text": [
            "\rpyswarms.single.global_best: 100%|██████████|1/1, best_cost=4.51e+10\n",
            "2023-09-01 02:59:42,330 - pyswarms.single.global_best - INFO - Optimization finished | best cost: 45053182833.53519, best pos: [5.75788492 1.78866247 4.71281286 1.92114992 4.8640784  0.57391417\n",
            " 5.07974762 5.6000637  5.52544791 6.39882253 5.6880959  3.14045962\n",
            " 3.64908997 3.05781952 3.54169591 2.5795351  2.24147581 4.24000147\n",
            " 3.69012433 3.56265068 4.21829092 2.38051933 2.60622805 4.11605571]\n",
            "2023-09-01 02:59:42,331 - pyswarms.single.global_best - INFO - Optimize for 1 iters with {'c1': 0.5, 'c2': 0.3, 'w': 0.9}\n",
            "pyswarms.single.global_best:   0%|          |0/1, best_cost=4.51e+10"
          ]
        },
        {
          "output_type": "stream",
          "name": "stdout",
          "text": [
            "\n",
            "=========================================================================\n",
            "\n",
            "Número de ciclos de manutenção: 14 5\n",
            "Tempos para manutenções preventivas: [0, 22, 53, 117, 182, 228, 255, 286, 320, 334, 379, 391, 436, 561, 586]\n",
            "Severidade para cada subsistema: [0.75, 0.25, 0.25, 0.75, 0.75, 0.75, 0.5, 0.75, 0.5, 0.5, 0.5, 0.5, 0.5, 0.5]\n",
            "Número de Sisemas: 5\n",
            "Fator:  [0.3296799539643607, 0.7768698398515702, 0.3934693402873666, 0.3934693402873666, 0.7768698398515702, 0.7768698398515702, 0.7768698398515702, 0.6321205588285577, 0.7768698398515702, 0.6321205588285577, 0.6321205588285577, 0.6321205588285577, 0.6321205588285577, 0.6321205588285577, 0.6321205588285577]\n",
            "Media de falhas:  [0, 1649.16224, 65541.76579741901, 867584.9040977578, 15160322.965023827, 39849735.63736777, 40657126.76389562, 42145294.68403588, 44672009.14763314, 50126328.62695279, 57197102.17041523, 65813969.728145905, 122957171.75623524, 694863923.0879176, 787272391.1134931, 2561865568.010499]\n",
            "Custo =  96213229994.34872\n"
          ]
        },
        {
          "output_type": "stream",
          "name": "stderr",
          "text": [
            "\rpyswarms.single.global_best: 100%|██████████|1/1, best_cost=4.51e+10\n",
            "2023-09-01 02:59:42,341 - pyswarms.single.global_best - INFO - Optimization finished | best cost: 45053182833.53519, best pos: [5.7578814  1.7886615  4.71281535 1.92114997 4.86407996 0.57391422\n",
            " 5.07974848 5.60004844 5.525455   3.55550769 5.68809557 3.14045325\n",
            " 3.64909026 3.05782091 3.54169442 2.57951844 2.24147623 4.23991842\n",
            " 6.26793622 3.56264264 4.21829061 2.38051918 2.60622939 4.11605408]\n"
          ]
        }
      ]
    },
    {
      "cell_type": "code",
      "source": [
        "# Plotar gráfico de densidade da otimização\n",
        "plt.figure()\n",
        "plt.plot(optimizer.cost_history)\n",
        "plt.xlabel('Iteration')\n",
        "plt.xlim(0, max_iterations)\n",
        "plt.ylabel('Objective function')\n",
        "plt.title('Particle Swarm Optimization (PSO) - Cost History')\n",
        "plt.show()"
      ],
      "metadata": {
        "id": "ULlt81ZI1vn9",
        "outputId": "db0e4e90-cb35-4fc0-d4f8-51cd01fe06a8",
        "colab": {
          "base_uri": "https://localhost:8080/",
          "height": 472
        }
      },
      "execution_count": 92,
      "outputs": [
        {
          "output_type": "display_data",
          "data": {
            "text/plain": [
              "<Figure size 640x480 with 1 Axes>"
            ],
            "image/png": "[encoded data removed]"
          },
          "metadata": {}
        }
      ]
    },
    {
      "cell_type": "code",
      "source": [
        "# Plotar o gráfico 3D com todas as melhores posições\n",
        "fig = plt.figure(figsize=(8, 5))\n",
        "ax = fig.add_subplot(111, projection='3d')\n",
        "\n",
        "# Plotar todas as melhores posições anteriores\n",
        "for i in range(best_positions.shape[0]):\n",
        "    ax.scatter(best_positions[i, 0], best_positions[i, 1], best_positions[i, 2], c='blue', alpha=0.2)\n",
        "\n",
        "# Plotar a última melhor posição com uma cor diferente para destacá-la\n",
        "ax.scatter(best_positions[-1, 0], best_positions[-1, 1], best_positions[-1, 2], c='red', label='Melhor posição atual')\n",
        "\n",
        "ax.set_title('PSO - Melhores posições ao longo das iterações')\n",
        "ax.set_xlabel('Parâmetros das Dimensões da Solução de Otimização')\n",
        "ax.set_ylabel('Custo da Política de Manutenção')\n",
        "ax.set_zlabel('Evolução da Otimização')\n",
        "ax.legend()\n",
        "plt.show()\n",
        "\n",
        "print(\"                              \")\n",
        "print(\"*************************************************************************\")\n",
        "print(\"Número total de iterações:\", max_iterations)\n",
        "print(\"Número de Particulas:\", num_particles)\n",
        "print(\"Número de Dimensões:\", dimensions)\n",
        "print(\"                              \")\n",
        "print(\"Melhor partícula:\", pbest_cost[0])"
      ],
      "metadata": {
        "id": "4STRoUAPxmqT",
        "outputId": "226b766c-48a5-4a2b-864e-7029a121b7dd",
        "colab": {
          "base_uri": "https://localhost:8080/",
          "height": 572
        }
      },
      "execution_count": 93,
      "outputs": [
        {
          "output_type": "display_data",
          "data": {
            "text/plain": [
              "<Figure size 800x500 with 1 Axes>"
            ],
            "image/png": "[encoded data removed]"
          },
          "metadata": {}
        },
        {
          "output_type": "stream",
          "name": "stdout",
          "text": [
            "                              \n",
            "*************************************************************************\n",
            "Número total de iterações: 100\n",
            "Número de Particulas: 100\n",
            "Número de Dimensões: 24\n",
            "                              \n",
            "Melhor partícula: 96213229994.34872\n"
          ]
        }
      ]
    }
  ]
}